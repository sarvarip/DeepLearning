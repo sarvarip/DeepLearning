{
  "nbformat": 4,
  "nbformat_minor": 0,
  "metadata": {
    "colab": {
      "provenance": []
    },
    "kernelspec": {
      "name": "python3",
      "display_name": "Python 3"
    },
    "language_info": {
      "name": "python"
    }
  },
  "cells": [
    {
      "cell_type": "code",
      "source": [
        "!pip install azure.core azure.ai.formrecognizer azure.ai.documentintelligence --quiet"
      ],
      "metadata": {
        "colab": {
          "base_uri": "https://localhost:8080/"
        },
        "id": "B4XLCp6LYZ9m",
        "outputId": "79e3d69c-c758-4259-8aa1-22f6ae5b2c38"
      },
      "execution_count": 2,
      "outputs": [
        {
          "output_type": "stream",
          "name": "stdout",
          "text": [
            "\u001b[?25l     \u001b[90m━━━━━━━━━━━━━━━━━━━━━━━━━━━━━━━━━━━━━━━━\u001b[0m \u001b[32m0.0/64.6 kB\u001b[0m \u001b[31m?\u001b[0m eta \u001b[36m-:--:--\u001b[0m\r\u001b[2K     \u001b[90m━━━━━━━━━━━━━━━━━━━━━━━━━━━━━━━━━━━━━━━━\u001b[0m \u001b[32m64.6/64.6 kB\u001b[0m \u001b[31m2.1 MB/s\u001b[0m eta \u001b[36m0:00:00\u001b[0m\n",
            "\u001b[2K     \u001b[90m━━━━━━━━━━━━━━━━━━━━━━━━━━━━━━━━━━━━━━━━\u001b[0m \u001b[32m48.4/48.4 kB\u001b[0m \u001b[31m2.4 MB/s\u001b[0m eta \u001b[36m0:00:00\u001b[0m\n",
            "\u001b[2K   \u001b[90m━━━━━━━━━━━━━━━━━━━━━━━━━━━━━━━━━━━━━━━━\u001b[0m \u001b[32m197.4/197.4 kB\u001b[0m \u001b[31m10.4 MB/s\u001b[0m eta \u001b[36m0:00:00\u001b[0m\n",
            "\u001b[2K   \u001b[90m━━━━━━━━━━━━━━━━━━━━━━━━━━━━━━━━━━━━━━━━\u001b[0m \u001b[32m301.4/301.4 kB\u001b[0m \u001b[31m11.6 MB/s\u001b[0m eta \u001b[36m0:00:00\u001b[0m\n",
            "\u001b[2K   \u001b[90m━━━━━━━━━━━━━━━━━━━━━━━━━━━━━━━━━━━━━━━━\u001b[0m \u001b[32m99.5/99.5 kB\u001b[0m \u001b[31m5.5 MB/s\u001b[0m eta \u001b[36m0:00:00\u001b[0m\n",
            "\u001b[2K   \u001b[90m━━━━━━━━━━━━━━━━━━━━━━━━━━━━━━━━━━━━━━━━\u001b[0m \u001b[32m41.7/41.7 kB\u001b[0m \u001b[31m1.8 MB/s\u001b[0m eta \u001b[36m0:00:00\u001b[0m\n",
            "\u001b[2K   \u001b[90m━━━━━━━━━━━━━━━━━━━━━━━━━━━━━━━━━━━━━━━━\u001b[0m \u001b[32m85.4/85.4 kB\u001b[0m \u001b[31m5.2 MB/s\u001b[0m eta \u001b[36m0:00:00\u001b[0m\n",
            "\u001b[?25h"
          ]
        }
      ]
    },
    {
      "cell_type": "code",
      "execution_count": 3,
      "metadata": {
        "id": "VXtIlUVlYEUx"
      },
      "outputs": [],
      "source": [
        "from azure.core.credentials import AzureKeyCredential\n",
        "from azure.ai.formrecognizer import DocumentAnalysisClient\n",
        "from azure.ai.documentintelligence.models import AnalyzeDocumentRequest, ContentFormat\n",
        "from azure.ai.documentintelligence import DocumentIntelligenceClient"
      ]
    },
    {
      "cell_type": "code",
      "source": [
        "endpoint = \"\"\n",
        "key = \"\"\n",
        "\n",
        "# sample document\n",
        "formUrl = \"https://www.abim.org/Media/bfijryql/laboratory-reference-ranges.pdf\"\n",
        "\n",
        "document_analysis_client = DocumentIntelligenceClient(\n",
        "    endpoint=endpoint, credential=AzureKeyCredential(key)\n",
        ")"
      ],
      "metadata": {
        "id": "ELcYZz_MYre_"
      },
      "execution_count": 6,
      "outputs": []
    },
    {
      "cell_type": "code",
      "source": [
        "poller = document_analysis_client.begin_analyze_document(\n",
        "    \"prebuilt-layout\", AnalyzeDocumentRequest(url_source=formUrl), output_content_format=ContentFormat.MARKDOWN\n",
        ")\n",
        "result = poller.result()"
      ],
      "metadata": {
        "id": "7Sh8sqcKYy-9"
      },
      "execution_count": 7,
      "outputs": []
    },
    {
      "cell_type": "code",
      "source": [
        "for table_idx, table in enumerate(result.tables):\n",
        "\n",
        "    for cell in table.cells:\n",
        "        if '1,25-Dihydroxyvitamin D' in cell.content:\n",
        "            print(table_idx)\n",
        "            print(\n",
        "                \"...Cell[{}][{}] has content '{}'\".format(\n",
        "                cell.row_index,\n",
        "                cell.column_index,\n",
        "                cell.content.encode(\"utf-8\"),\n",
        "                )\n",
        "        )"
      ],
      "metadata": {
        "colab": {
          "base_uri": "https://localhost:8080/"
        },
        "id": "nuBWx5granK-",
        "outputId": "b179277c-adca-48aa-e5ca-756f9308aa9d"
      },
      "execution_count": 13,
      "outputs": [
        {
          "output_type": "stream",
          "name": "stdout",
          "text": [
            "0\n",
            "...Cell[1][0] has content 'b'1,25-Dihydroxyvitamin D (1,25-dihydroxycholecalciferol), serum''\n",
            "10\n",
            "...Cell[29][0] has content 'b'Vitamin D metabolites, serum 1,25-Dihydroxyvitamin D (1,25-dihydroxycholecalciferol) 25-Hydroxyvitamin D (25-hydroxycholecalciferol)''\n"
          ]
        }
      ]
    },
    {
      "cell_type": "code",
      "source": [
        "for table_idx, table in enumerate(result.tables):\n",
        "\n",
        "    for cell in table.cells:\n",
        "        if '1,5-Anhydroglucitol' in cell.content:\n",
        "            print(table_idx)\n",
        "            print(\n",
        "                \"...Cell[{}][{}] has content '{}'\".format(\n",
        "                cell.row_index,\n",
        "                cell.column_index,\n",
        "                cell.content.encode(\"utf-8\"),\n",
        "                )\n",
        "        )"
      ],
      "metadata": {
        "colab": {
          "base_uri": "https://localhost:8080/"
        },
        "id": "gIdBEPEdau3o",
        "outputId": "52b934f4-57b3-4b83-f6ae-0887d633eed7"
      },
      "execution_count": 14,
      "outputs": [
        {
          "output_type": "stream",
          "name": "stdout",
          "text": [
            "0\n",
            "...Cell[2][0] has content 'b'1,5-Anhydroglucitol, serum or plasma''\n"
          ]
        }
      ]
    },
    {
      "cell_type": "code",
      "source": [
        "import pandas as pd\n",
        "\n",
        "final_table = pd.DataFrame()\n",
        "for table_idx, table in enumerate(result.tables):\n",
        "#     print(\n",
        "#         \"Table # {} has {} rows and {} columns\".format(\n",
        "#         table_idx, table.row_count, table.column_count\n",
        "#         )\n",
        "#     )\n",
        "\n",
        "    new = pd.DataFrame([[0 for i in range(table.column_count)] for j in range(table.row_count)])\n",
        "    for cell in table.cells:\n",
        "        new.iloc[cell.row_index,cell.column_index] = cell.content\n",
        "    final_table = pd.concat([final_table, new], axis=0)"
      ],
      "metadata": {
        "colab": {
          "base_uri": "https://localhost:8080/"
        },
        "id": "H4O_uO8NY1eB",
        "outputId": "875d38f5-d2f6-4bc4-fed0-b780a0604161"
      },
      "execution_count": 27,
      "outputs": [
        {
          "output_type": "stream",
          "name": "stderr",
          "text": [
            "<ipython-input-27-c30fab0b52af>:13: FutureWarning: Setting an item of incompatible dtype is deprecated and will raise in a future error of pandas. Value 'Laboratory Tests' has dtype incompatible with int64, please explicitly cast to a compatible dtype first.\n",
            "  new.iloc[cell.row_index,cell.column_index] = cell.content\n",
            "<ipython-input-27-c30fab0b52af>:13: FutureWarning: Setting an item of incompatible dtype is deprecated and will raise in a future error of pandas. Value 'Reference Ranges' has dtype incompatible with int64, please explicitly cast to a compatible dtype first.\n",
            "  new.iloc[cell.row_index,cell.column_index] = cell.content\n",
            "<ipython-input-27-c30fab0b52af>:13: FutureWarning: Setting an item of incompatible dtype is deprecated and will raise in a future error of pandas. Value 'Anticardiolipin antibodies IgG IgM' has dtype incompatible with int64, please explicitly cast to a compatible dtype first.\n",
            "  new.iloc[cell.row_index,cell.column_index] = cell.content\n",
            "<ipython-input-27-c30fab0b52af>:13: FutureWarning: Setting an item of incompatible dtype is deprecated and will raise in a future error of pandas. Value '<20 GPL <20 MPL' has dtype incompatible with int64, please explicitly cast to a compatible dtype first.\n",
            "  new.iloc[cell.row_index,cell.column_index] = cell.content\n",
            "<ipython-input-27-c30fab0b52af>:13: FutureWarning: Setting an item of incompatible dtype is deprecated and will raise in a future error of pandas. Value 'Beta2-glycoprotein I antibodies: IgG IgM' has dtype incompatible with int64, please explicitly cast to a compatible dtype first.\n",
            "  new.iloc[cell.row_index,cell.column_index] = cell.content\n",
            "<ipython-input-27-c30fab0b52af>:13: FutureWarning: Setting an item of incompatible dtype is deprecated and will raise in a future error of pandas. Value '<21 SGU <21 SMU' has dtype incompatible with int64, please explicitly cast to a compatible dtype first.\n",
            "  new.iloc[cell.row_index,cell.column_index] = cell.content\n",
            "<ipython-input-27-c30fab0b52af>:13: FutureWarning: Setting an item of incompatible dtype is deprecated and will raise in a future error of pandas. Value 'Chloride, urine Random (\"spot\")' has dtype incompatible with int64, please explicitly cast to a compatible dtype first.\n",
            "  new.iloc[cell.row_index,cell.column_index] = cell.content\n",
            "<ipython-input-27-c30fab0b52af>:13: FutureWarning: Setting an item of incompatible dtype is deprecated and will raise in a future error of pandas. Value 'mEq/L; varies' has dtype incompatible with int64, please explicitly cast to a compatible dtype first.\n",
            "  new.iloc[cell.row_index,cell.column_index] = cell.content\n",
            "<ipython-input-27-c30fab0b52af>:13: FutureWarning: Setting an item of incompatible dtype is deprecated and will raise in a future error of pandas. Value 'C-reactive protein, serum' has dtype incompatible with int64, please explicitly cast to a compatible dtype first.\n",
            "  new.iloc[cell.row_index,cell.column_index] = cell.content\n",
            "<ipython-input-27-c30fab0b52af>:13: FutureWarning: Setting an item of incompatible dtype is deprecated and will raise in a future error of pandas. Value '≤0.8 mg/dl' has dtype incompatible with int64, please explicitly cast to a compatible dtype first.\n",
            "  new.iloc[cell.row_index,cell.column_index] = cell.content\n",
            "<ipython-input-27-c30fab0b52af>:13: FutureWarning: Setting an item of incompatible dtype is deprecated and will raise in a future error of pandas. Value 'Fecal pH' has dtype incompatible with int64, please explicitly cast to a compatible dtype first.\n",
            "  new.iloc[cell.row_index,cell.column_index] = cell.content\n",
            "<ipython-input-27-c30fab0b52af>:13: FutureWarning: Setting an item of incompatible dtype is deprecated and will raise in a future error of pandas. Value '7.0-7.5' has dtype incompatible with int64, please explicitly cast to a compatible dtype first.\n",
            "  new.iloc[cell.row_index,cell.column_index] = cell.content\n",
            "<ipython-input-27-c30fab0b52af>:13: FutureWarning: Setting an item of incompatible dtype is deprecated and will raise in a future error of pandas. Value 'Immune complexes, serum' has dtype incompatible with int64, please explicitly cast to a compatible dtype first.\n",
            "  new.iloc[cell.row_index,cell.column_index] = cell.content\n",
            "<ipython-input-27-c30fab0b52af>:13: FutureWarning: Setting an item of incompatible dtype is deprecated and will raise in a future error of pandas. Value '0-50 µg/dL' has dtype incompatible with int64, please explicitly cast to a compatible dtype first.\n",
            "  new.iloc[cell.row_index,cell.column_index] = cell.content\n",
            "<ipython-input-27-c30fab0b52af>:13: FutureWarning: Setting an item of incompatible dtype is deprecated and will raise in a future error of pandas. Value 'Magnesium, serum' has dtype incompatible with int64, please explicitly cast to a compatible dtype first.\n",
            "  new.iloc[cell.row_index,cell.column_index] = cell.content\n",
            "<ipython-input-27-c30fab0b52af>:13: FutureWarning: Setting an item of incompatible dtype is deprecated and will raise in a future error of pandas. Value '1.6-2.6 mg/dl' has dtype incompatible with int64, please explicitly cast to a compatible dtype first.\n",
            "  new.iloc[cell.row_index,cell.column_index] = cell.content\n",
            "<ipython-input-27-c30fab0b52af>:13: FutureWarning: Setting an item of incompatible dtype is deprecated and will raise in a future error of pandas. Value 'Phosphatase (acid), serum Total Prostatic fraction' has dtype incompatible with int64, please explicitly cast to a compatible dtype first.\n",
            "  new.iloc[cell.row_index,cell.column_index] = cell.content\n",
            "<ipython-input-27-c30fab0b52af>:13: FutureWarning: Setting an item of incompatible dtype is deprecated and will raise in a future error of pandas. Value '0.5-2.0 (Bodansky) units/mL 0.1-0.4 unit/mL' has dtype incompatible with int64, please explicitly cast to a compatible dtype first.\n",
            "  new.iloc[cell.row_index,cell.column_index] = cell.content\n",
            "<ipython-input-27-c30fab0b52af>:13: FutureWarning: Setting an item of incompatible dtype is deprecated and will raise in a future error of pandas. Value 'Prothrombin time, plasma' has dtype incompatible with int64, please explicitly cast to a compatible dtype first.\n",
            "  new.iloc[cell.row_index,cell.column_index] = cell.content\n",
            "<ipython-input-27-c30fab0b52af>:13: FutureWarning: Setting an item of incompatible dtype is deprecated and will raise in a future error of pandas. Value '11-13 seconds' has dtype incompatible with int64, please explicitly cast to a compatible dtype first.\n",
            "  new.iloc[cell.row_index,cell.column_index] = cell.content\n",
            "<ipython-input-27-c30fab0b52af>:13: FutureWarning: Setting an item of incompatible dtype is deprecated and will raise in a future error of pandas. Value 'Tissue transglutaminase antibody, IgA [by chemiluminescence method]' has dtype incompatible with int64, please explicitly cast to a compatible dtype first.\n",
            "  new.iloc[cell.row_index,cell.column_index] = cell.content\n",
            "<ipython-input-27-c30fab0b52af>:13: FutureWarning: Setting an item of incompatible dtype is deprecated and will raise in a future error of pandas. Value '<20 AU' has dtype incompatible with int64, please explicitly cast to a compatible dtype first.\n",
            "  new.iloc[cell.row_index,cell.column_index] = cell.content\n",
            "<ipython-input-27-c30fab0b52af>:13: FutureWarning: Setting an item of incompatible dtype is deprecated and will raise in a future error of pandas. Value 'Vitamin E, serum: Adult Pediatric, age 1-2 yr (alpha-tocopherol)' has dtype incompatible with int64, please explicitly cast to a compatible dtype first.\n",
            "  new.iloc[cell.row_index,cell.column_index] = cell.content\n",
            "<ipython-input-27-c30fab0b52af>:13: FutureWarning: Setting an item of incompatible dtype is deprecated and will raise in a future error of pandas. Value '5.5-17.0 mg/L 2.9-16.6 mg/L' has dtype incompatible with int64, please explicitly cast to a compatible dtype first.\n",
            "  new.iloc[cell.row_index,cell.column_index] = cell.content\n"
          ]
        }
      ]
    },
    {
      "cell_type": "code",
      "source": [
        "final_table.iloc[4:8,:]"
      ],
      "metadata": {
        "colab": {
          "base_uri": "https://localhost:8080/",
          "height": 175
        },
        "id": "p1CrQ755Z-oV",
        "outputId": "cb3aeecb-248b-46d7-b9d7-1f985222c226"
      },
      "execution_count": 31,
      "outputs": [
        {
          "output_type": "execute_result",
          "data": {
            "text/plain": [
              "                               0           1\n",
              "4  17-Hydroxyprogesterone, serum            \n",
              "5             Female, follicular   <80 ng/dL\n",
              "6                 Female, luteal  <285 ng/dl\n",
              "7         Female, postmenopausal   <51 ng/dl"
            ],
            "text/html": [
              "\n",
              "  <div id=\"df-ecf85871-348d-4132-86ed-f229421db4de\" class=\"colab-df-container\">\n",
              "    <div>\n",
              "<style scoped>\n",
              "    .dataframe tbody tr th:only-of-type {\n",
              "        vertical-align: middle;\n",
              "    }\n",
              "\n",
              "    .dataframe tbody tr th {\n",
              "        vertical-align: top;\n",
              "    }\n",
              "\n",
              "    .dataframe thead th {\n",
              "        text-align: right;\n",
              "    }\n",
              "</style>\n",
              "<table border=\"1\" class=\"dataframe\">\n",
              "  <thead>\n",
              "    <tr style=\"text-align: right;\">\n",
              "      <th></th>\n",
              "      <th>0</th>\n",
              "      <th>1</th>\n",
              "    </tr>\n",
              "  </thead>\n",
              "  <tbody>\n",
              "    <tr>\n",
              "      <th>4</th>\n",
              "      <td>17-Hydroxyprogesterone, serum</td>\n",
              "      <td></td>\n",
              "    </tr>\n",
              "    <tr>\n",
              "      <th>5</th>\n",
              "      <td>Female, follicular</td>\n",
              "      <td>&lt;80 ng/dL</td>\n",
              "    </tr>\n",
              "    <tr>\n",
              "      <th>6</th>\n",
              "      <td>Female, luteal</td>\n",
              "      <td>&lt;285 ng/dl</td>\n",
              "    </tr>\n",
              "    <tr>\n",
              "      <th>7</th>\n",
              "      <td>Female, postmenopausal</td>\n",
              "      <td>&lt;51 ng/dl</td>\n",
              "    </tr>\n",
              "  </tbody>\n",
              "</table>\n",
              "</div>\n",
              "    <div class=\"colab-df-buttons\">\n",
              "\n",
              "  <div class=\"colab-df-container\">\n",
              "    <button class=\"colab-df-convert\" onclick=\"convertToInteractive('df-ecf85871-348d-4132-86ed-f229421db4de')\"\n",
              "            title=\"Convert this dataframe to an interactive table.\"\n",
              "            style=\"display:none;\">\n",
              "\n",
              "  <svg xmlns=\"http://www.w3.org/2000/svg\" height=\"24px\" viewBox=\"0 -960 960 960\">\n",
              "    <path d=\"M120-120v-720h720v720H120Zm60-500h600v-160H180v160Zm220 220h160v-160H400v160Zm0 220h160v-160H400v160ZM180-400h160v-160H180v160Zm440 0h160v-160H620v160ZM180-180h160v-160H180v160Zm440 0h160v-160H620v160Z\"/>\n",
              "  </svg>\n",
              "    </button>\n",
              "\n",
              "  <style>\n",
              "    .colab-df-container {\n",
              "      display:flex;\n",
              "      gap: 12px;\n",
              "    }\n",
              "\n",
              "    .colab-df-convert {\n",
              "      background-color: #E8F0FE;\n",
              "      border: none;\n",
              "      border-radius: 50%;\n",
              "      cursor: pointer;\n",
              "      display: none;\n",
              "      fill: #1967D2;\n",
              "      height: 32px;\n",
              "      padding: 0 0 0 0;\n",
              "      width: 32px;\n",
              "    }\n",
              "\n",
              "    .colab-df-convert:hover {\n",
              "      background-color: #E2EBFA;\n",
              "      box-shadow: 0px 1px 2px rgba(60, 64, 67, 0.3), 0px 1px 3px 1px rgba(60, 64, 67, 0.15);\n",
              "      fill: #174EA6;\n",
              "    }\n",
              "\n",
              "    .colab-df-buttons div {\n",
              "      margin-bottom: 4px;\n",
              "    }\n",
              "\n",
              "    [theme=dark] .colab-df-convert {\n",
              "      background-color: #3B4455;\n",
              "      fill: #D2E3FC;\n",
              "    }\n",
              "\n",
              "    [theme=dark] .colab-df-convert:hover {\n",
              "      background-color: #434B5C;\n",
              "      box-shadow: 0px 1px 3px 1px rgba(0, 0, 0, 0.15);\n",
              "      filter: drop-shadow(0px 1px 2px rgba(0, 0, 0, 0.3));\n",
              "      fill: #FFFFFF;\n",
              "    }\n",
              "  </style>\n",
              "\n",
              "    <script>\n",
              "      const buttonEl =\n",
              "        document.querySelector('#df-ecf85871-348d-4132-86ed-f229421db4de button.colab-df-convert');\n",
              "      buttonEl.style.display =\n",
              "        google.colab.kernel.accessAllowed ? 'block' : 'none';\n",
              "\n",
              "      async function convertToInteractive(key) {\n",
              "        const element = document.querySelector('#df-ecf85871-348d-4132-86ed-f229421db4de');\n",
              "        const dataTable =\n",
              "          await google.colab.kernel.invokeFunction('convertToInteractive',\n",
              "                                                    [key], {});\n",
              "        if (!dataTable) return;\n",
              "\n",
              "        const docLinkHtml = 'Like what you see? Visit the ' +\n",
              "          '<a target=\"_blank\" href=https://colab.research.google.com/notebooks/data_table.ipynb>data table notebook</a>'\n",
              "          + ' to learn more about interactive tables.';\n",
              "        element.innerHTML = '';\n",
              "        dataTable['output_type'] = 'display_data';\n",
              "        await google.colab.output.renderOutput(dataTable, element);\n",
              "        const docLink = document.createElement('div');\n",
              "        docLink.innerHTML = docLinkHtml;\n",
              "        element.appendChild(docLink);\n",
              "      }\n",
              "    </script>\n",
              "  </div>\n",
              "\n",
              "\n",
              "<div id=\"df-09db3fc5-c1cb-48d0-933f-f505d89ac1cd\">\n",
              "  <button class=\"colab-df-quickchart\" onclick=\"quickchart('df-09db3fc5-c1cb-48d0-933f-f505d89ac1cd')\"\n",
              "            title=\"Suggest charts\"\n",
              "            style=\"display:none;\">\n",
              "\n",
              "<svg xmlns=\"http://www.w3.org/2000/svg\" height=\"24px\"viewBox=\"0 0 24 24\"\n",
              "     width=\"24px\">\n",
              "    <g>\n",
              "        <path d=\"M19 3H5c-1.1 0-2 .9-2 2v14c0 1.1.9 2 2 2h14c1.1 0 2-.9 2-2V5c0-1.1-.9-2-2-2zM9 17H7v-7h2v7zm4 0h-2V7h2v10zm4 0h-2v-4h2v4z\"/>\n",
              "    </g>\n",
              "</svg>\n",
              "  </button>\n",
              "\n",
              "<style>\n",
              "  .colab-df-quickchart {\n",
              "      --bg-color: #E8F0FE;\n",
              "      --fill-color: #1967D2;\n",
              "      --hover-bg-color: #E2EBFA;\n",
              "      --hover-fill-color: #174EA6;\n",
              "      --disabled-fill-color: #AAA;\n",
              "      --disabled-bg-color: #DDD;\n",
              "  }\n",
              "\n",
              "  [theme=dark] .colab-df-quickchart {\n",
              "      --bg-color: #3B4455;\n",
              "      --fill-color: #D2E3FC;\n",
              "      --hover-bg-color: #434B5C;\n",
              "      --hover-fill-color: #FFFFFF;\n",
              "      --disabled-bg-color: #3B4455;\n",
              "      --disabled-fill-color: #666;\n",
              "  }\n",
              "\n",
              "  .colab-df-quickchart {\n",
              "    background-color: var(--bg-color);\n",
              "    border: none;\n",
              "    border-radius: 50%;\n",
              "    cursor: pointer;\n",
              "    display: none;\n",
              "    fill: var(--fill-color);\n",
              "    height: 32px;\n",
              "    padding: 0;\n",
              "    width: 32px;\n",
              "  }\n",
              "\n",
              "  .colab-df-quickchart:hover {\n",
              "    background-color: var(--hover-bg-color);\n",
              "    box-shadow: 0 1px 2px rgba(60, 64, 67, 0.3), 0 1px 3px 1px rgba(60, 64, 67, 0.15);\n",
              "    fill: var(--button-hover-fill-color);\n",
              "  }\n",
              "\n",
              "  .colab-df-quickchart-complete:disabled,\n",
              "  .colab-df-quickchart-complete:disabled:hover {\n",
              "    background-color: var(--disabled-bg-color);\n",
              "    fill: var(--disabled-fill-color);\n",
              "    box-shadow: none;\n",
              "  }\n",
              "\n",
              "  .colab-df-spinner {\n",
              "    border: 2px solid var(--fill-color);\n",
              "    border-color: transparent;\n",
              "    border-bottom-color: var(--fill-color);\n",
              "    animation:\n",
              "      spin 1s steps(1) infinite;\n",
              "  }\n",
              "\n",
              "  @keyframes spin {\n",
              "    0% {\n",
              "      border-color: transparent;\n",
              "      border-bottom-color: var(--fill-color);\n",
              "      border-left-color: var(--fill-color);\n",
              "    }\n",
              "    20% {\n",
              "      border-color: transparent;\n",
              "      border-left-color: var(--fill-color);\n",
              "      border-top-color: var(--fill-color);\n",
              "    }\n",
              "    30% {\n",
              "      border-color: transparent;\n",
              "      border-left-color: var(--fill-color);\n",
              "      border-top-color: var(--fill-color);\n",
              "      border-right-color: var(--fill-color);\n",
              "    }\n",
              "    40% {\n",
              "      border-color: transparent;\n",
              "      border-right-color: var(--fill-color);\n",
              "      border-top-color: var(--fill-color);\n",
              "    }\n",
              "    60% {\n",
              "      border-color: transparent;\n",
              "      border-right-color: var(--fill-color);\n",
              "    }\n",
              "    80% {\n",
              "      border-color: transparent;\n",
              "      border-right-color: var(--fill-color);\n",
              "      border-bottom-color: var(--fill-color);\n",
              "    }\n",
              "    90% {\n",
              "      border-color: transparent;\n",
              "      border-bottom-color: var(--fill-color);\n",
              "    }\n",
              "  }\n",
              "</style>\n",
              "\n",
              "  <script>\n",
              "    async function quickchart(key) {\n",
              "      const quickchartButtonEl =\n",
              "        document.querySelector('#' + key + ' button');\n",
              "      quickchartButtonEl.disabled = true;  // To prevent multiple clicks.\n",
              "      quickchartButtonEl.classList.add('colab-df-spinner');\n",
              "      try {\n",
              "        const charts = await google.colab.kernel.invokeFunction(\n",
              "            'suggestCharts', [key], {});\n",
              "      } catch (error) {\n",
              "        console.error('Error during call to suggestCharts:', error);\n",
              "      }\n",
              "      quickchartButtonEl.classList.remove('colab-df-spinner');\n",
              "      quickchartButtonEl.classList.add('colab-df-quickchart-complete');\n",
              "    }\n",
              "    (() => {\n",
              "      let quickchartButtonEl =\n",
              "        document.querySelector('#df-09db3fc5-c1cb-48d0-933f-f505d89ac1cd button');\n",
              "      quickchartButtonEl.style.display =\n",
              "        google.colab.kernel.accessAllowed ? 'block' : 'none';\n",
              "    })();\n",
              "  </script>\n",
              "</div>\n",
              "\n",
              "    </div>\n",
              "  </div>\n"
            ],
            "application/vnd.google.colaboratory.intrinsic+json": {
              "type": "dataframe",
              "summary": "{\n  \"name\": \"final_table\",\n  \"rows\": 4,\n  \"fields\": [\n    {\n      \"column\": 0,\n      \"properties\": {\n        \"dtype\": \"string\",\n        \"num_unique_values\": 4,\n        \"samples\": [\n          \"Female, follicular\",\n          \"Female, postmenopausal\",\n          \"17-Hydroxyprogesterone, serum\"\n        ],\n        \"semantic_type\": \"\",\n        \"description\": \"\"\n      }\n    },\n    {\n      \"column\": 1,\n      \"properties\": {\n        \"dtype\": \"string\",\n        \"num_unique_values\": 4,\n        \"samples\": [\n          \"<80 ng/dL\",\n          \"<51 ng/dl\",\n          \"\"\n        ],\n        \"semantic_type\": \"\",\n        \"description\": \"\"\n      }\n    }\n  ]\n}"
            }
          },
          "metadata": {},
          "execution_count": 31
        }
      ]
    },
    {
      "cell_type": "code",
      "source": [],
      "metadata": {
        "id": "XmvjEG2_aHN8"
      },
      "execution_count": null,
      "outputs": []
    }
  ]
}