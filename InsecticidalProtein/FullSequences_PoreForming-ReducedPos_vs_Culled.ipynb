{
 "cells": [
  {
   "cell_type": "code",
   "execution_count": 1,
   "metadata": {
    "colab": {},
    "colab_type": "code",
    "id": "a98D5LzNVJEI"
   },
   "outputs": [
    {
     "name": "stdout",
     "output_type": "stream",
     "text": [
      "cuda\n"
     ]
    }
   ],
   "source": [
    "#ONLY RUN IF USING TORCH\n",
    "\n",
    "import torch\n",
    "device = torch.device('cuda' if torch.cuda.is_available() else 'cpu')\n",
    "print(device)"
   ]
  },
  {
   "cell_type": "code",
   "execution_count": 2,
   "metadata": {},
   "outputs": [],
   "source": [
    "torch.cuda.empty_cache() "
   ]
  },
  {
   "cell_type": "code",
   "execution_count": 3,
   "metadata": {},
   "outputs": [],
   "source": [
    "#ONLY RUN IF USING TORCH\n",
    "\n",
    "from tape import ProteinBertModel, TAPETokenizer\n",
    "model = ProteinBertModel.from_pretrained('bert-base')\n",
    "modelTAPE = model.to(device)\n",
    "tokenizerTAPE = TAPETokenizer(vocab='iupac')  # iupac is the vocab for TAPE models, use unirep for the UniRep model\n",
    "\n",
    "modelTAPE.half()  # convert to half precision\n",
    "for layer in modelTAPE.modules():\n",
    "    if isinstance(layer, torch.nn.BatchNorm2d):\n",
    "        layer.float()"
   ]
  },
  {
   "cell_type": "code",
   "execution_count": 1,
   "metadata": {
    "_kg_hide-input": false,
    "colab": {
     "base_uri": "https://localhost:8080/",
     "height": 70
    },
    "colab_type": "code",
    "id": "l1HJp53SOoEI",
    "outputId": "128d4714-b749-4f6b-fcf8-9510004d5aaf"
   },
   "outputs": [],
   "source": [
    "import matplotlib.pyplot as plt # plotting\n",
    "import numpy as np # linear algebra\n",
    "import os # accessing directory structure\n",
    "import pandas as pd # data processing, CSV file I/O (e.g. pd.read_csv)\n",
    "import seaborn\n",
    "import gc\n",
    "import sklearn\n",
    "import pickle"
   ]
  },
  {
   "cell_type": "code",
   "execution_count": 2,
   "metadata": {
    "colab": {},
    "colab_type": "code",
    "id": "kkpO0nabI3Ay"
   },
   "outputs": [],
   "source": [
    "def parse_fasta (lines):\n",
    "    descs = []\n",
    "    seqs = []\n",
    "    data = ''\n",
    "    for line in lines:\n",
    "        if line.startswith('>'):\n",
    "            if data:   # have collected a sequence, push to seqs\n",
    "                seqs.append(data)\n",
    "                data = ''\n",
    "            descs.append(line[1:])  # Trim '>' from beginning\n",
    "        else:\n",
    "            data += line.rstrip('\\r\\n')\n",
    "    # there will be yet one more to push when we run out\n",
    "    seqs.append(data)\n",
    "    return descs, seqs"
   ]
  },
  {
   "cell_type": "code",
   "execution_count": 3,
   "metadata": {},
   "outputs": [],
   "source": [
    "def get_performance_vals(preds, classes):\n",
    "    #0 is negative, 1 is positive\n",
    "    a = np.array(preds) #Predictions\n",
    "    b = classes #actual outcomes / classes\n",
    "    #print(\"Predicted and actual classes\\n\")\n",
    "    #print(classes)\n",
    "    #print(a)\n",
    "    tp = np.sum(np.multiply(a==1, b==1)) #TP\n",
    "    fp = np.sum(np.multiply(a==1, b==0)) #FP\n",
    "    tn = np.sum(np.multiply(a==0, b==0)) #TN\n",
    "    fn = np.sum(np.multiply(a==0, b==1)) #FN\n",
    "\n",
    "    tp = int(tp)\n",
    "    fp = int(fp)\n",
    "    tn = int(tn)\n",
    "    fn = int(fn)\n",
    "\n",
    "    print(\"True positive: %d, false positive: %d, true negative: %d, false negative: %d\\n\" %(tp,fp,tn,fn))\n",
    "\n",
    "    mcc = (tp*tn-fp*fn)/(np.sqrt((tp+fp)*(tp+fn)*(tn+fp)*(tn+fn)))\n",
    "    precision = tp/(tp+fp)\n",
    "    recall = tp/(tp+fn)\n",
    "    fscore = 2*precision*recall/(precision+recall)\n",
    "    accuracy = np.sum(a==b)/len(classes)\n",
    "\n",
    "    print(\"%s: %2f\" % ('MCC', mcc))\n",
    "    print(\"%s: %.2f%%\" % ('Accuracy', 100*accuracy))\n",
    "    print(\"%s: %.2f\" % ('F1 score', fscore))\n",
    "    print(\"%s: %.2f\" % ('Precision', precision))\n",
    "    print(\"%s: %.2f\" % ('Recall', recall))\n",
    "\n",
    "    #return mcc, precision, recall, fscore, accuracy"
   ]
  },
  {
   "cell_type": "code",
   "execution_count": 4,
   "metadata": {
    "colab": {},
    "colab_type": "code",
    "id": "7MdChuEaI48s"
   },
   "outputs": [
    {
     "data": {
      "text/plain": [
       "2361"
      ]
     },
     "execution_count": 4,
     "metadata": {},
     "output_type": "execute_result"
    }
   ],
   "source": [
    "path = \"./\" + \"pos_seqs_reduced\" + \".pickle\"\n",
    "array_file = open(path, 'rb')\n",
    "pos = pickle.load(array_file)\n",
    "array_file.close()\n",
    "\n",
    "len(pos)"
   ]
  },
  {
   "cell_type": "code",
   "execution_count": 5,
   "metadata": {
    "colab": {
     "base_uri": "https://localhost:8080/",
     "height": 34
    },
    "colab_type": "code",
    "id": "0dO-Cc59Nig6",
    "outputId": "14b47301-3d65-4b16-e85f-bd4f69f06839"
   },
   "outputs": [
    {
     "data": {
      "text/plain": [
       "2361"
      ]
     },
     "execution_count": 5,
     "metadata": {},
     "output_type": "execute_result"
    }
   ],
   "source": [
    "path = \"./\" + \"pos_labels_reduced\" + \".pickle\"\n",
    "array_file = open(path, 'rb')\n",
    "pos_labels = pickle.load(array_file)\n",
    "array_file.close()\n",
    "len(pos_labels)"
   ]
  },
  {
   "cell_type": "code",
   "execution_count": 6,
   "metadata": {},
   "outputs": [],
   "source": [
    "handle = open(\"./cullpdb_pc20_res1.6_R0.25_d200625_chains3684_20200722.fasta\", 'r')\n",
    "descs, neg = parse_fasta(handle.read().split('\\n'))"
   ]
  },
  {
   "cell_type": "code",
   "execution_count": 7,
   "metadata": {},
   "outputs": [],
   "source": [
    "pdb = [d[:4] for d in descs]"
   ]
  },
  {
   "cell_type": "code",
   "execution_count": 8,
   "metadata": {},
   "outputs": [],
   "source": [
    "dirpath = '../StructuralDataCreating/structures'\n",
    "filist = os.listdir(dirpath)\n",
    "flist = [s for s in filist if s.startswith('PDBpos') == True]\n",
    "pos_pdbs = []\n",
    "for f in flist:\n",
    "    handle = open(os.path.join(dirpath, f), 'r')\n",
    "    lines = handle.readlines()\n",
    "    for line in lines:\n",
    "        pos_pdbs.append(line.strip().split(' ')[0])"
   ]
  },
  {
   "cell_type": "code",
   "execution_count": 9,
   "metadata": {},
   "outputs": [],
   "source": [
    "idx = []\n",
    "name = []\n",
    "i = 0\n",
    "for p in pdb:\n",
    "    if p in pos_pdbs:\n",
    "        idx.append(i)\n",
    "        name.append(p)\n",
    "    i = i + 1"
   ]
  },
  {
   "cell_type": "code",
   "execution_count": 10,
   "metadata": {},
   "outputs": [
    {
     "name": "stdout",
     "output_type": "stream",
     "text": [
      "[1939, 2345, 3196, 3305]\n",
      "['6MYI', '1PP0', '4WDC', '3WZ3']\n"
     ]
    }
   ],
   "source": [
    "print(idx)\n",
    "print(name)"
   ]
  },
  {
   "cell_type": "code",
   "execution_count": 11,
   "metadata": {},
   "outputs": [],
   "source": [
    "idx.reverse()"
   ]
  },
  {
   "cell_type": "code",
   "execution_count": 12,
   "metadata": {},
   "outputs": [
    {
     "data": {
      "text/plain": [
       "3679"
      ]
     },
     "execution_count": 12,
     "metadata": {},
     "output_type": "execute_result"
    }
   ],
   "source": [
    "len(neg)"
   ]
  },
  {
   "cell_type": "code",
   "execution_count": 13,
   "metadata": {},
   "outputs": [
    {
     "name": "stdout",
     "output_type": "stream",
     "text": [
      "[3305, 3196, 2345, 1939]\n"
     ]
    }
   ],
   "source": [
    "print(idx)\n",
    "for ix in idx:\n",
    "    neg.pop(ix)"
   ]
  },
  {
   "cell_type": "code",
   "execution_count": 14,
   "metadata": {},
   "outputs": [
    {
     "data": {
      "text/plain": [
       "3675"
      ]
     },
     "execution_count": 14,
     "metadata": {},
     "output_type": "execute_result"
    }
   ],
   "source": [
    "neg_size = len(neg)\n",
    "neg_size"
   ]
  },
  {
   "cell_type": "code",
   "execution_count": 15,
   "metadata": {
    "colab": {
     "base_uri": "https://localhost:8080/",
     "height": 34
    },
    "colab_type": "code",
    "id": "PXv9_H6sgpgS",
    "outputId": "fe729b93-9b02-4343-85d0-bd8a929230cd"
   },
   "outputs": [
    {
     "data": {
      "text/plain": [
       "3675"
      ]
     },
     "execution_count": 15,
     "metadata": {},
     "output_type": "execute_result"
    }
   ],
   "source": [
    "neg_labels = ['negative']*neg_size\n",
    "len(neg_labels)"
   ]
  },
  {
   "cell_type": "code",
   "execution_count": 16,
   "metadata": {
    "colab": {},
    "colab_type": "code",
    "id": "3Vv6H1hZlQ67"
   },
   "outputs": [],
   "source": [
    "data = pos + neg\n",
    "labels = pos_labels + neg_labels\n",
    "\n",
    "from sklearn.model_selection import train_test_split\n",
    "train, dev, train_labels, validation_labels = train_test_split(\n",
    "    data,\n",
    "    labels,\n",
    "    test_size = 0.2,\n",
    "    random_state=1,\n",
    "    stratify=labels)\n",
    "\n",
    "#can jump to Method 3 from here"
   ]
  },
  {
   "cell_type": "code",
   "execution_count": 20,
   "metadata": {
    "colab": {
     "base_uri": "https://localhost:8080/",
     "height": 70
    },
    "colab_type": "code",
    "id": "0tf1CPZOpMSt",
    "outputId": "341b322b-d6dc-4748-f498-93767caf960e"
   },
   "outputs": [
    {
     "name": "stdout",
     "output_type": "stream",
     "text": [
      "Counter({'negative': 2939, 'PF12261_t_hemolysin_full_length_sequences.fasta': 238, 'PF03318_etx_mtx2_full_length_sequences.fasta': 233, 'PF01289_thiol_cytolysin_full_length_sequences.fasta': 164, 'PF06369_anemone_cytotox_full_length_sequences.fasta': 149, 'PF06355_aegerolysin_full_length_sequences.fasta': 148, 'PF11393_T4BSS_dotI_icml_full_length_sequences.fasta': 133, 'PF00087_toxin_tolip_full_length_sequences.fasta': 122, 'PF03945_Endotoxin_N_full_length_sequences.fasta': 109, 'PF01117_aerolysin_full_length_sequences.fasta': 104, 'PF07367_fb_lectin_full_length_sequences.fasta': 86, 'PF01338_Bac_thur_toxin_full_length_sequences.fasta': 50, 'PF07968_leukocidin_full_length_sequences.fasta': 40, 'PF18063_BB_PF_full_length_sequences.fasta': 38, 'PF06109_hlye_full_length_sequences.fasta': 37, 'PF05802_espb_full_length_sequences.fasta': 32, 'PF00555_Endotoxin_M_uniprot.fasta': 31, 'PF12920_tcda_tcdb_pore_full_length_sequences.fasta': 30, 'PF11565_porb_full_length_sequences.fasta': 24, 'PF01823_macpf_uniprot.fasta': 24, 'PF04877_harpin_full_length_sequences.fasta': 22, 'PF01024_colicin_full_length_sequences.fasta': 21, 'PF17475_binary_toxb_2_full_length_sequences.fasta': 11, 'PF02382_rtx_full_length_sequences.fasta': 10, 'pf05105_phage_holin_4_1_uniprot.fasta': 9, 'PF04598_gasdermin_uniprot.fasta': 9, 'PF18684_plyb_c_full_length_sequences.fasta': 6, 'PF03944_Endotoxin_C_uniprot.fasta': 6, 'PF03505_clenterotox_full_length_sequences.fasta': 3})\n",
      "Counter({'negative': 736, 'PF12261_t_hemolysin_full_length_sequences.fasta': 60, 'PF03318_etx_mtx2_full_length_sequences.fasta': 59, 'PF01289_thiol_cytolysin_full_length_sequences.fasta': 41, 'PF06355_aegerolysin_full_length_sequences.fasta': 37, 'PF06369_anemone_cytotox_full_length_sequences.fasta': 37, 'PF11393_T4BSS_dotI_icml_full_length_sequences.fasta': 33, 'PF00087_toxin_tolip_full_length_sequences.fasta': 31, 'PF03945_Endotoxin_N_full_length_sequences.fasta': 28, 'PF01117_aerolysin_full_length_sequences.fasta': 26, 'PF07367_fb_lectin_full_length_sequences.fasta': 21, 'PF01338_Bac_thur_toxin_full_length_sequences.fasta': 12, 'PF07968_leukocidin_full_length_sequences.fasta': 10, 'PF06109_hlye_full_length_sequences.fasta': 9, 'PF18063_BB_PF_full_length_sequences.fasta': 9, 'PF00555_Endotoxin_M_uniprot.fasta': 8, 'PF05802_espb_full_length_sequences.fasta': 8, 'PF12920_tcda_tcdb_pore_full_length_sequences.fasta': 7, 'PF11565_porb_full_length_sequences.fasta': 6, 'PF01823_macpf_uniprot.fasta': 6, 'PF01024_colicin_full_length_sequences.fasta': 5, 'PF04877_harpin_full_length_sequences.fasta': 5, 'PF17475_binary_toxb_2_full_length_sequences.fasta': 3, 'PF03944_Endotoxin_C_uniprot.fasta': 2, 'pf05105_phage_holin_4_1_uniprot.fasta': 2, 'PF04598_gasdermin_uniprot.fasta': 2, 'PF02382_rtx_full_length_sequences.fasta': 2, 'PF18684_plyb_c_full_length_sequences.fasta': 2, 'PF03505_clenterotox_full_length_sequences.fasta': 1})\n"
     ]
    }
   ],
   "source": [
    "from collections import Counter\n",
    "\n",
    "print(Counter(train_labels))\n",
    "print(Counter(validation_labels))"
   ]
  },
  {
   "cell_type": "markdown",
   "metadata": {
    "colab_type": "text",
    "id": "s9SIRvflOoEl"
   },
   "source": [
    "## Loading the data"
   ]
  },
  {
   "cell_type": "code",
   "execution_count": 18,
   "metadata": {
    "colab": {
     "base_uri": "https://localhost:8080/",
     "height": 281
    },
    "colab_type": "code",
    "id": "cZLCHqCJOoE7",
    "outputId": "61cce005-e2bd-44fe-cf12-080504a170e4"
   },
   "outputs": [
    {
     "data": {
      "image/png": "[encoded data removed]",
      "text/plain": [
       "<Figure size 432x288 with 2 Axes>"
      ]
     },
     "metadata": {
      "needs_background": "light"
     },
     "output_type": "display_data"
    }
   ],
   "source": [
    "# Length of sequence in train data.\n",
    "trainlen= [len(x) for x in train]\n",
    "devlen= [len(x) for x in dev]\n",
    "\n",
    "def plot_seq_count(lengths, data_name):\n",
    "    seaborn.distplot(lengths)\n",
    "    plt.title(f'Sequence char count: {data_name}')\n",
    "    plt.grid(True)\n",
    "\n",
    "plt.subplot(1, 3, 1)\n",
    "plot_seq_count(trainlen, 'Train')\n",
    "\n",
    "plt.subplot(1, 3, 2)\n",
    "plot_seq_count(devlen, 'Dev')\n",
    "\n",
    "plt.subplots_adjust(right=3.0)\n",
    "plt.show()"
   ]
  },
  {
   "cell_type": "code",
   "execution_count": 19,
   "metadata": {
    "colab": {
     "base_uri": "https://localhost:8080/",
     "height": 50
    },
    "colab_type": "code",
    "id": "fsZvHMfitHf3",
    "outputId": "761b273d-d26b-4e85-8e0b-072f9e4269df"
   },
   "outputs": [
    {
     "name": "stdout",
     "output_type": "stream",
     "text": [
      "3862\n",
      "2533\n"
     ]
    }
   ],
   "source": [
    "print(max(trainlen))\n",
    "print(max(devlen))"
   ]
  },
  {
   "cell_type": "code",
   "execution_count": 41,
   "metadata": {
    "colab": {},
    "colab_type": "code",
    "id": "npNNwSSqZflr"
   },
   "outputs": [],
   "source": [
    "vocab_size = 21\n",
    "max_length = 2000 #modified to 2000 as asked \n",
    "trunc_type = \"post\"\n",
    "padding_type = \"post\"\n",
    "\n",
    "trainTAPE = [tokenizerTAPE.encode(w.upper()) for w in train]\n",
    "valTAPE = [tokenizerTAPE.encode(w.upper()) for w in dev]"
   ]
  },
  {
   "cell_type": "code",
   "execution_count": 42,
   "metadata": {},
   "outputs": [],
   "source": [
    "trainTAPE = [np.array(t[:max_length]) for t in trainTAPE]\n",
    "valTAPE = [np.array(t[:max_length]) for t in valTAPE]\n",
    "\n",
    "trainTAPE = [torch.from_numpy(t) for t in trainTAPE]\n",
    "valTAPE = [torch.from_numpy(t) for t in valTAPE]"
   ]
  },
  {
   "cell_type": "code",
   "execution_count": 43,
   "metadata": {
    "colab": {},
    "colab_type": "code",
    "id": "npNNwSSqZflr"
   },
   "outputs": [],
   "source": [
    "TAPEtrain = torch.nn.utils.rnn.pad_sequence(trainTAPE, batch_first=False)\n",
    "TAPEvalidation = torch.nn.utils.rnn.pad_sequence(valTAPE, batch_first=False)"
   ]
  },
  {
   "cell_type": "code",
   "execution_count": 44,
   "metadata": {},
   "outputs": [],
   "source": [
    "TAPEtrain = torch.transpose(TAPEtrain,0,1)\n",
    "TAPEvalidation = torch.transpose(TAPEvalidation,0,1)"
   ]
  },
  {
   "cell_type": "code",
   "execution_count": 45,
   "metadata": {},
   "outputs": [
    {
     "data": {
      "text/plain": [
       "torch.Size([1208, 2000])"
      ]
     },
     "execution_count": 45,
     "metadata": {},
     "output_type": "execute_result"
    }
   ],
   "source": [
    "TAPEvalidation.size()"
   ]
  },
  {
   "cell_type": "code",
   "execution_count": 46,
   "metadata": {},
   "outputs": [],
   "source": [
    "from torch.utils.data import DataLoader\n",
    "from tqdm.notebook import tqdm\n",
    "batch_size = 1\n",
    "\n",
    "dataloader_train = DataLoader(\n",
    "    TAPEtrain,\n",
    "    batch_size=batch_size\n",
    ")\n",
    "\n",
    "dataloader_validation = DataLoader(\n",
    "    TAPEvalidation,\n",
    "    batch_size=batch_size\n",
    ")"
   ]
  },
  {
   "cell_type": "code",
   "execution_count": 48,
   "metadata": {},
   "outputs": [
    {
     "data": {
      "text/plain": [
       "28"
      ]
     },
     "execution_count": 48,
     "metadata": {},
     "output_type": "execute_result"
    }
   ],
   "source": [
    "#del pos, neg, data, labels, neg_labels, pos_labels, trainTAPE, valTAPE, TAPEtrain, TAPEvalidation\n",
    "#del pos, neg, data, labels, neg_labels, pos_labels, valTAPE, TAPEvalidation\n",
    "del trainTAPE, valTAPE, TAPEtrain, TAPEvalidation\n",
    "gc.collect()"
   ]
  },
  {
   "cell_type": "code",
   "execution_count": 49,
   "metadata": {},
   "outputs": [],
   "source": [
    "torch.cuda.empty_cache() "
   ]
  },
  {
   "cell_type": "code",
   "execution_count": 50,
   "metadata": {},
   "outputs": [
    {
     "data": {
      "text/plain": [
       "40"
      ]
     },
     "execution_count": 50,
     "metadata": {},
     "output_type": "execute_result"
    }
   ],
   "source": [
    "gc.collect()"
   ]
  },
  {
   "cell_type": "code",
   "execution_count": null,
   "metadata": {
    "colab": {},
    "colab_type": "code",
    "id": "JK-3pW5Ajuha"
   },
   "outputs": [],
   "source": [
    "TAPEncoded_train = []\n",
    "\n",
    "#iternum = 0\n",
    "with torch.no_grad():\n",
    "    for batch in tqdm(dataloader_train):\n",
    "        b = batch.to(torch.long)\n",
    "        output = modelTAPE(b.to(device))[1]\n",
    "        TAPEncoded_train.append(output.cpu().detach().numpy())\n",
    "        torch.cuda.empty_cache() \n",
    "        del b, output\n",
    "        gc.collect()\n",
    "#         if iternum%100 == 0:\n",
    "#             print(iternum)\n",
    "#         iternum = iternum + 1"
   ]
  },
  {
   "cell_type": "code",
   "execution_count": 39,
   "metadata": {},
   "outputs": [],
   "source": [
    "path = \"./\" + \"TAPEncoded_train_pooled\" + \".pickle\"\n",
    "output = open(path, 'w+b')\n",
    "pickle.dump(TAPEncoded_train, output)\n",
    "output.close()"
   ]
  },
  {
   "cell_type": "code",
   "execution_count": 32,
   "metadata": {},
   "outputs": [
    {
     "data": {
      "application/vnd.jupyter.widget-view+json": {
       "model_id": "917546e5dd024566886fe29ef6e439dc",
       "version_major": 2,
       "version_minor": 0
      },
      "text/plain": [
       "HBox(children=(FloatProgress(value=0.0, max=1208.0), HTML(value='')))"
      ]
     },
     "metadata": {},
     "output_type": "display_data"
    },
    {
     "name": "stdout",
     "output_type": "stream",
     "text": [
      "\n"
     ]
    }
   ],
   "source": [
    "TAPEncoded_val = []\n",
    "\n",
    "#iternum = 0\n",
    "for batch in tqdm(dataloader_validation):\n",
    "    b = batch.to(torch.long)\n",
    "    output = modelTAPE(b.to(device))[1]\n",
    "    TAPEncoded_val.append(output.cpu().detach().numpy())\n",
    "    torch.cuda.empty_cache() \n",
    "    del b, output\n",
    "    gc.collect()\n",
    "#     if iternum%100 == 0:\n",
    "#         print(iternum)\n",
    "#     iternum = iternum + 1"
   ]
  },
  {
   "cell_type": "code",
   "execution_count": 33,
   "metadata": {},
   "outputs": [],
   "source": [
    "path = \"./\" + \"TAPEncoded_val_pooled\" + \".pickle\"\n",
    "output = open(path, 'w+b')\n",
    "pickle.dump(TAPEncoded_val, output)\n",
    "output.close()"
   ]
  },
  {
   "cell_type": "code",
   "execution_count": 23,
   "metadata": {
    "colab": {
     "base_uri": "https://localhost:8080/",
     "height": 33
    },
    "colab_type": "code",
    "id": "vBZOxshXOoFX",
    "outputId": "62b622dd-e3cc-49e9-c2e6-da057906b4b3"
   },
   "outputs": [
    {
     "data": {
      "text/plain": [
       "((4828,), (1208,))"
      ]
     },
     "execution_count": 23,
     "metadata": {},
     "output_type": "execute_result"
    }
   ],
   "source": [
    "from sklearn.preprocessing import LabelEncoder\n",
    "le = LabelEncoder()\n",
    "\n",
    "train_labels = le.fit_transform(train_labels)\n",
    "validation_labels = le.transform(validation_labels)\n",
    "#test_labels = le.transform(test_labels)\n",
    "\n",
    "train_labels.shape, validation_labels.shape"
   ]
  },
  {
   "cell_type": "code",
   "execution_count": 35,
   "metadata": {},
   "outputs": [],
   "source": [
    "path = \"./\" + \"train_labels\" + \".pickle\"\n",
    "output = open(path, 'w+b')\n",
    "pickle.dump(train_labels, output)\n",
    "output.close()\n",
    "\n",
    "path = \"./\" + \"validation_labels\" + \".pickle\"\n",
    "output = open(path, 'w+b')\n",
    "pickle.dump(validation_labels, output)\n",
    "output.close()"
   ]
  },
  {
   "cell_type": "code",
   "execution_count": 36,
   "metadata": {},
   "outputs": [
    {
     "name": "stdout",
     "output_type": "stream",
     "text": [
      "{0: 'PF00087_toxin_tolip_full_length_sequences.fasta', 1: 'PF00555_Endotoxin_M_uniprot.fasta', 2: 'PF01024_colicin_full_length_sequences.fasta', 3: 'PF01117_aerolysin_full_length_sequences.fasta', 4: 'PF01289_thiol_cytolysin_full_length_sequences.fasta', 5: 'PF01338_Bac_thur_toxin_full_length_sequences.fasta', 6: 'PF01823_macpf_uniprot.fasta', 7: 'PF02382_rtx_full_length_sequences.fasta', 8: 'PF03318_etx_mtx2_full_length_sequences.fasta', 9: 'PF03505_clenterotox_full_length_sequences.fasta', 10: 'PF03944_Endotoxin_C_uniprot.fasta', 11: 'PF03945_Endotoxin_N_full_length_sequences.fasta', 12: 'PF04598_gasdermin_uniprot.fasta', 13: 'PF04877_harpin_full_length_sequences.fasta', 14: 'PF05802_espb_full_length_sequences.fasta', 15: 'PF06109_hlye_full_length_sequences.fasta', 16: 'PF06355_aegerolysin_full_length_sequences.fasta', 17: 'PF06369_anemone_cytotox_full_length_sequences.fasta', 18: 'PF07367_fb_lectin_full_length_sequences.fasta', 19: 'PF07968_leukocidin_full_length_sequences.fasta', 20: 'PF11393_T4BSS_dotI_icml_full_length_sequences.fasta', 21: 'PF11565_porb_full_length_sequences.fasta', 22: 'PF12261_t_hemolysin_full_length_sequences.fasta', 23: 'PF12920_tcda_tcdb_pore_full_length_sequences.fasta', 24: 'PF17475_binary_toxb_2_full_length_sequences.fasta', 25: 'PF18063_BB_PF_full_length_sequences.fasta', 26: 'PF18684_plyb_c_full_length_sequences.fasta', 27: 'negative', 28: 'pf05105_phage_holin_4_1_uniprot.fasta'}\n"
     ]
    }
   ],
   "source": [
    "le_name_mapping = dict(zip(le.classes_, le.transform(le.classes_)))\n",
    "umap_map = {v: k for k, v in le_name_mapping.items()}\n",
    "print(umap_map)"
   ]
  },
  {
   "cell_type": "code",
   "execution_count": 38,
   "metadata": {},
   "outputs": [],
   "source": [
    "#del TAPEncoded_train, TAPEncoded_val\n",
    "del TAPEncoded_val\n",
    "gc.collect()\n",
    "torch.cuda.empty_cache() "
   ]
  },
  {
   "cell_type": "code",
   "execution_count": 51,
   "metadata": {},
   "outputs": [
    {
     "data": {
      "application/vnd.jupyter.widget-view+json": {
       "model_id": "e88edd35178a4420abad43bbe82d23d3",
       "version_major": 2,
       "version_minor": 0
      },
      "text/plain": [
       "HBox(children=(FloatProgress(value=0.0, max=4828.0), HTML(value='')))"
      ]
     },
     "metadata": {},
     "output_type": "display_data"
    },
    {
     "name": "stdout",
     "output_type": "stream",
     "text": [
      "\n"
     ]
    }
   ],
   "source": [
    "#now getting the full embedding for all amino acid, not the pooled one\n",
    "TAPEncoded_train = []\n",
    "#iternum = 0\n",
    "for batch in tqdm(dataloader_train):\n",
    "    b = batch.to(torch.long)\n",
    "    output = modelTAPE(b.to(device))[0]\n",
    "    TAPEncoded_train.append(output.cpu().detach().numpy())\n",
    "    torch.cuda.empty_cache() \n",
    "    del b, output\n",
    "    gc.collect()\n",
    "#     if iternum%100 == 0:\n",
    "#         print(iternum)\n",
    "#     iternum = iternum + 1"
   ]
  },
  {
   "cell_type": "code",
   "execution_count": 52,
   "metadata": {},
   "outputs": [],
   "source": [
    "path = \"./\" + \"TAPEncoded_train\" + \".pickle\"\n",
    "output = open(path, 'w+b')\n",
    "pickle.dump(TAPEncoded_train, output)\n",
    "output.close()"
   ]
  },
  {
   "cell_type": "code",
   "execution_count": 53,
   "metadata": {},
   "outputs": [],
   "source": [
    "del TAPEncoded_train\n",
    "gc.collect()\n",
    "torch.cuda.empty_cache() "
   ]
  },
  {
   "cell_type": "code",
   "execution_count": 54,
   "metadata": {},
   "outputs": [
    {
     "data": {
      "application/vnd.jupyter.widget-view+json": {
       "model_id": "635a864e19b94f1ca54a6d6277da98fc",
       "version_major": 2,
       "version_minor": 0
      },
      "text/plain": [
       "HBox(children=(FloatProgress(value=0.0, max=1208.0), HTML(value='')))"
      ]
     },
     "metadata": {},
     "output_type": "display_data"
    },
    {
     "name": "stdout",
     "output_type": "stream",
     "text": [
      "\n"
     ]
    }
   ],
   "source": [
    "TAPEncoded_val = []\n",
    "#iternum = 0\n",
    "for batch in tqdm(dataloader_validation):\n",
    "    b = batch.to(torch.long)\n",
    "    output = modelTAPE(b.to(device))[0]\n",
    "    TAPEncoded_val.append(output.cpu().detach().numpy())\n",
    "    torch.cuda.empty_cache() \n",
    "    del b, output\n",
    "    gc.collect()\n",
    "#     if iternum%100 == 0:\n",
    "#         print(iternum)\n",
    "#     iternum = iternum + 1"
   ]
  },
  {
   "cell_type": "code",
   "execution_count": 55,
   "metadata": {},
   "outputs": [],
   "source": [
    "path = \"./\" + \"TAPEncoded_val\" + \".pickle\"\n",
    "output = open(path, 'w+b')\n",
    "pickle.dump(TAPEncoded_val, output)\n",
    "output.close()"
   ]
  },
  {
   "cell_type": "code",
   "execution_count": null,
   "metadata": {},
   "outputs": [],
   "source": [
    "#Method0 - Baseline, first nearest neighbour in terms of Levenshtein distance"
   ]
  },
  {
   "cell_type": "code",
   "execution_count": 17,
   "metadata": {},
   "outputs": [],
   "source": [
    "path = \"./\" + \"train_labels\" + \".pickle\"\n",
    "array_file = open(path, 'rb')\n",
    "train_labels = pickle.load(array_file)\n",
    "array_file.close()\n",
    "\n",
    "path = \"./\" + \"validation_labels\" + \".pickle\"\n",
    "array_file = open(path, 'rb')\n",
    "validation_labels = pickle.load(array_file)\n",
    "array_file.close()"
   ]
  },
  {
   "cell_type": "code",
   "execution_count": 18,
   "metadata": {},
   "outputs": [
    {
     "name": "stdout",
     "output_type": "stream",
     "text": [
      "4828\n",
      "1208\n",
      "4828\n",
      "1208\n"
     ]
    }
   ],
   "source": [
    "print(len(train))\n",
    "print(len(dev))\n",
    "print(len(train_labels))\n",
    "print(len(validation_labels))"
   ]
  },
  {
   "cell_type": "code",
   "execution_count": 19,
   "metadata": {},
   "outputs": [],
   "source": [
    "mask = (validation_labels == 27) #27 is negative\n",
    "\n",
    "y_true = validation_labels\n",
    "y_true[~mask] = 1\n",
    "y_true[mask] = 0"
   ]
  },
  {
   "cell_type": "code",
   "execution_count": 20,
   "metadata": {},
   "outputs": [
    {
     "data": {
      "text/plain": [
       "array([0, 0, 1, ..., 0, 1, 1], dtype=int64)"
      ]
     },
     "execution_count": 20,
     "metadata": {},
     "output_type": "execute_result"
    }
   ],
   "source": [
    "validation_labels"
   ]
  },
  {
   "cell_type": "code",
   "execution_count": 21,
   "metadata": {},
   "outputs": [],
   "source": [
    "mask = (train_labels == 27) #27 is negative\n",
    "\n",
    "y_true = train_labels\n",
    "y_true[~mask] = 1\n",
    "y_true[mask] = 0"
   ]
  },
  {
   "cell_type": "code",
   "execution_count": 22,
   "metadata": {},
   "outputs": [
    {
     "data": {
      "text/plain": [
       "array([0, 0, 0, ..., 0, 1, 0], dtype=int64)"
      ]
     },
     "execution_count": 22,
     "metadata": {},
     "output_type": "execute_result"
    }
   ],
   "source": [
    "train_labels"
   ]
  },
  {
   "cell_type": "code",
   "execution_count": 23,
   "metadata": {},
   "outputs": [
    {
     "name": "stderr",
     "output_type": "stream",
     "text": [
      "100%|██████████████████████████████████████████████████████████████████████████████| 1208/1208 [10:09<00:00,  1.98it/s]\n"
     ]
    }
   ],
   "source": [
    "import Levenshtein\n",
    "from tqdm import tqdm\n",
    "\n",
    "dist_arr = np.ones([len(dev), len(train)])*500\n",
    "\n",
    "for i in tqdm(range(len(dev))):\n",
    "    for j in range(len(train)):\n",
    "        dist_arr[i,j] = Levenshtein.distance(dev[i], train[j])"
   ]
  },
  {
   "cell_type": "code",
   "execution_count": 24,
   "metadata": {},
   "outputs": [
    {
     "data": {
      "text/plain": [
       "array([384., 445.,  63., ..., 286.,  48., 112.])"
      ]
     },
     "execution_count": 24,
     "metadata": {},
     "output_type": "execute_result"
    }
   ],
   "source": [
    "np.amin(dist_arr, 1)"
   ]
  },
  {
   "cell_type": "code",
   "execution_count": 25,
   "metadata": {},
   "outputs": [
    {
     "data": {
      "text/plain": [
       "array([2673, 3439, 4275, ..., 2378, 1122, 2673], dtype=int64)"
      ]
     },
     "execution_count": 25,
     "metadata": {},
     "output_type": "execute_result"
    }
   ],
   "source": [
    "np.argmin(dist_arr, 1)"
   ]
  },
  {
   "cell_type": "code",
   "execution_count": 26,
   "metadata": {},
   "outputs": [],
   "source": [
    "preds = train_labels[np.argmin(dist_arr, 1)]"
   ]
  },
  {
   "cell_type": "code",
   "execution_count": 27,
   "metadata": {},
   "outputs": [
    {
     "name": "stdout",
     "output_type": "stream",
     "text": [
      "True positive: 438, false positive: 100, true negative: 636, false negative: 34\n",
      "\n",
      "MCC: 0.777606\n",
      "Accuracy: 88.91%\n",
      "F1 score: 0.87\n",
      "Precision: 0.81\n",
      "Recall: 0.93\n"
     ]
    }
   ],
   "source": [
    "get_performance_vals(preds, validation_labels)"
   ]
  },
  {
   "cell_type": "code",
   "execution_count": null,
   "metadata": {},
   "outputs": [],
   "source": [
    "#METHOD 1"
   ]
  },
  {
   "cell_type": "code",
   "execution_count": null,
   "metadata": {},
   "outputs": [],
   "source": [
    "#STARTING HERE"
   ]
  },
  {
   "cell_type": "code",
   "execution_count": 1,
   "metadata": {},
   "outputs": [
    {
     "name": "stdout",
     "output_type": "stream",
     "text": [
      "Tensorflow version 2.2.0\n",
      "WARNING:tensorflow:From <ipython-input-1-6f67c92ac921>:6: is_gpu_available (from tensorflow.python.framework.test_util) is deprecated and will be removed in a future version.\n",
      "Instructions for updating:\n",
      "Use `tf.config.list_physical_devices('GPU')` instead.\n"
     ]
    },
    {
     "name": "stderr",
     "output_type": "stream",
     "text": [
      "C:\\Users\\sarva\\Anaconda3\\lib\\site-packages\\tensorboard\\compat\\tensorflow_stub\\dtypes.py:541: FutureWarning: Passing (type, 1) or '1type' as a synonym of type is deprecated; in a future version of numpy, it will be understood as (type, (1,)) / '(1,)type'.\n",
      "  _np_qint8 = np.dtype([(\"qint8\", np.int8, 1)])\n",
      "C:\\Users\\sarva\\Anaconda3\\lib\\site-packages\\tensorboard\\compat\\tensorflow_stub\\dtypes.py:542: FutureWarning: Passing (type, 1) or '1type' as a synonym of type is deprecated; in a future version of numpy, it will be understood as (type, (1,)) / '(1,)type'.\n",
      "  _np_quint8 = np.dtype([(\"quint8\", np.uint8, 1)])\n",
      "C:\\Users\\sarva\\Anaconda3\\lib\\site-packages\\tensorboard\\compat\\tensorflow_stub\\dtypes.py:543: FutureWarning: Passing (type, 1) or '1type' as a synonym of type is deprecated; in a future version of numpy, it will be understood as (type, (1,)) / '(1,)type'.\n",
      "  _np_qint16 = np.dtype([(\"qint16\", np.int16, 1)])\n",
      "C:\\Users\\sarva\\Anaconda3\\lib\\site-packages\\tensorboard\\compat\\tensorflow_stub\\dtypes.py:544: FutureWarning: Passing (type, 1) or '1type' as a synonym of type is deprecated; in a future version of numpy, it will be understood as (type, (1,)) / '(1,)type'.\n",
      "  _np_quint16 = np.dtype([(\"quint16\", np.uint16, 1)])\n",
      "C:\\Users\\sarva\\Anaconda3\\lib\\site-packages\\tensorboard\\compat\\tensorflow_stub\\dtypes.py:545: FutureWarning: Passing (type, 1) or '1type' as a synonym of type is deprecated; in a future version of numpy, it will be understood as (type, (1,)) / '(1,)type'.\n",
      "  _np_qint32 = np.dtype([(\"qint32\", np.int32, 1)])\n",
      "C:\\Users\\sarva\\Anaconda3\\lib\\site-packages\\tensorboard\\compat\\tensorflow_stub\\dtypes.py:550: FutureWarning: Passing (type, 1) or '1type' as a synonym of type is deprecated; in a future version of numpy, it will be understood as (type, (1,)) / '(1,)type'.\n",
      "  np_resource = np.dtype([(\"resource\", np.ubyte, 1)])\n"
     ]
    },
    {
     "name": "stdout",
     "output_type": "stream",
     "text": [
      "True\n",
      "Compute dtype: float16\n",
      "Variable dtype: float32\n"
     ]
    }
   ],
   "source": [
    "import tensorflow as tf\n",
    "print(\"Tensorflow version \" + tf.__version__)\n",
    "\n",
    "tf.test.is_built_with_cuda()\n",
    "\n",
    "print(tf.test.is_gpu_available(cuda_only=False, min_cuda_compute_capability=None))\n",
    "\n",
    "tf.config.experimental.list_physical_devices('GPU')\n",
    "#for device in gpu_devices: tf.config.experimental.set_memory_growth(device, True)\n",
    "\n",
    "# import tensorflow.keras.backend as K\n",
    "# dtype = 'float16'\n",
    "# K.set_floatx(dtype)\n",
    "# K.set_epsilon(1e-4)\n",
    "\n",
    "from tensorflow.keras.mixed_precision import experimental as mixed_precision\n",
    "policy = mixed_precision.Policy('mixed_float16')\n",
    "mixed_precision.set_policy(policy)\n",
    "\n",
    "print('Compute dtype: %s' % policy.compute_dtype)\n",
    "print('Variable dtype: %s' % policy.variable_dtype)"
   ]
  },
  {
   "cell_type": "code",
   "execution_count": 2,
   "metadata": {},
   "outputs": [],
   "source": [
    "import matplotlib.pyplot as plt # plotting\n",
    "import numpy as np # linear algebra\n",
    "import os # accessing directory structure\n",
    "import pandas as pd # data processing, CSV file I/O (e.g. pd.read_csv)\n",
    "import seaborn\n",
    "import gc\n",
    "import sklearn\n",
    "import pickle"
   ]
  },
  {
   "cell_type": "code",
   "execution_count": 3,
   "metadata": {},
   "outputs": [],
   "source": [
    "path = \"./\" + \"TAPEncoded_train_pooled\" + \".pickle\"\n",
    "array_file = open(path, 'rb')\n",
    "TAPEncoded_train = pickle.load(array_file)\n",
    "array_file.close()\n",
    "\n",
    "path = \"./\" + \"TAPEncoded_val_pooled\" + \".pickle\"\n",
    "array_file = open(path, 'rb')\n",
    "TAPEncoded_val = pickle.load(array_file)\n",
    "array_file.close()\n",
    "\n",
    "path = \"./\" + \"train_labels\" + \".pickle\"\n",
    "array_file = open(path, 'rb')\n",
    "train_labels = pickle.load(array_file)\n",
    "array_file.close()\n",
    "\n",
    "path = \"./\" + \"validation_labels\" + \".pickle\"\n",
    "array_file = open(path, 'rb')\n",
    "validation_labels = pickle.load(array_file)\n",
    "array_file.close()"
   ]
  },
  {
   "cell_type": "code",
   "execution_count": 4,
   "metadata": {
    "colab": {},
    "colab_type": "code",
    "id": "YN9uu1b4OoFe"
   },
   "outputs": [],
   "source": [
    "# lr_schedule = tf.keras.callbacks.LearningRateScheduler(\n",
    "#     lambda epoch: 1e-5 * 10**(epoch / 20))\n",
    "\n",
    "es = tf.keras.callbacks.EarlyStopping(monitor='val_loss', mode='min', min_delta=0.01, patience=5)"
   ]
  },
  {
   "cell_type": "code",
   "execution_count": 5,
   "metadata": {
    "colab": {},
    "colab_type": "code",
    "id": "89fHOOEoWYm9"
   },
   "outputs": [],
   "source": [
    "numclass = max(train_labels) + 1"
   ]
  },
  {
   "cell_type": "code",
   "execution_count": 50,
   "metadata": {},
   "outputs": [
    {
     "name": "stdout",
     "output_type": "stream",
     "text": [
      "Model: \"model_2\"\n",
      "_________________________________________________________________\n",
      "Layer (type)                 Output Shape              Param #   \n",
      "=================================================================\n",
      "input_3 (InputLayer)         [(None, 768)]             0         \n",
      "_________________________________________________________________\n",
      "dense_2 (Dense)              (None, 29)                22301     \n",
      "=================================================================\n",
      "Total params: 22,301\n",
      "Trainable params: 22,301\n",
      "Non-trainable params: 0\n",
      "_________________________________________________________________\n"
     ]
    }
   ],
   "source": [
    "input_x = tf.keras.layers.Input(shape=768) #768 is the embedding dimension\n",
    "out = tf.keras.layers.Dense(numclass, activation=\"softmax\")(input_x) \n",
    "model = tf.keras.Model(inputs=input_x, outputs=out)\n",
    "model.compile(loss='sparse_categorical_crossentropy',optimizer=\"adam\",metrics=['accuracy'])\n",
    "model.summary()"
   ]
  },
  {
   "cell_type": "code",
   "execution_count": 51,
   "metadata": {},
   "outputs": [],
   "source": [
    "TAPEncoded_train = np.array(TAPEncoded_train)"
   ]
  },
  {
   "cell_type": "code",
   "execution_count": 52,
   "metadata": {},
   "outputs": [],
   "source": [
    "TAPEncoded_train = TAPEncoded_train.reshape(-1,768)"
   ]
  },
  {
   "cell_type": "code",
   "execution_count": 53,
   "metadata": {},
   "outputs": [],
   "source": [
    "TAPEncoded_val = np.array(TAPEncoded_val)"
   ]
  },
  {
   "cell_type": "code",
   "execution_count": 54,
   "metadata": {},
   "outputs": [],
   "source": [
    "TAPEncoded_val = TAPEncoded_val.reshape(-1,768)"
   ]
  },
  {
   "cell_type": "code",
   "execution_count": 55,
   "metadata": {},
   "outputs": [
    {
     "name": "stdout",
     "output_type": "stream",
     "text": [
      "Epoch 1/100\n",
      "151/151 - 0s - loss: 1.7106 - accuracy: 0.5955 - val_loss: 1.5373 - val_accuracy: 0.6126\n",
      "Epoch 2/100\n",
      "151/151 - 0s - loss: 1.4709 - accuracy: 0.6137 - val_loss: 1.4138 - val_accuracy: 0.6142\n",
      "Epoch 3/100\n",
      "151/151 - 0s - loss: 1.3753 - accuracy: 0.6152 - val_loss: 1.3405 - val_accuracy: 0.6192\n",
      "Epoch 4/100\n",
      "151/151 - 0s - loss: 1.2974 - accuracy: 0.6251 - val_loss: 1.2953 - val_accuracy: 0.6465\n",
      "Epoch 5/100\n",
      "151/151 - 0s - loss: 1.2457 - accuracy: 0.6355 - val_loss: 1.2438 - val_accuracy: 0.6457\n",
      "Epoch 6/100\n",
      "151/151 - 0s - loss: 1.2032 - accuracy: 0.6498 - val_loss: 1.2003 - val_accuracy: 0.6498\n",
      "Epoch 7/100\n",
      "151/151 - 0s - loss: 1.1625 - accuracy: 0.6578 - val_loss: 1.1684 - val_accuracy: 0.6598\n",
      "Epoch 8/100\n",
      "151/151 - 0s - loss: 1.1310 - accuracy: 0.6690 - val_loss: 1.1446 - val_accuracy: 0.6755\n",
      "Epoch 9/100\n",
      "151/151 - 0s - loss: 1.1015 - accuracy: 0.6738 - val_loss: 1.1234 - val_accuracy: 0.6639\n",
      "Epoch 10/100\n",
      "151/151 - 0s - loss: 1.0789 - accuracy: 0.6839 - val_loss: 1.0921 - val_accuracy: 0.6929\n",
      "Epoch 11/100\n",
      "151/151 - 0s - loss: 1.0494 - accuracy: 0.6901 - val_loss: 1.0670 - val_accuracy: 0.6829\n",
      "Epoch 12/100\n",
      "151/151 - 0s - loss: 1.0368 - accuracy: 0.6937 - val_loss: 1.0547 - val_accuracy: 0.6854\n",
      "Epoch 13/100\n",
      "151/151 - 0s - loss: 1.0188 - accuracy: 0.6961 - val_loss: 1.0495 - val_accuracy: 0.6921\n",
      "Epoch 14/100\n",
      "151/151 - 0s - loss: 1.0036 - accuracy: 0.6997 - val_loss: 1.0463 - val_accuracy: 0.6987\n",
      "Epoch 15/100\n",
      "151/151 - 0s - loss: 0.9880 - accuracy: 0.7044 - val_loss: 1.0187 - val_accuracy: 0.6921\n",
      "Epoch 16/100\n",
      "151/151 - 0s - loss: 0.9739 - accuracy: 0.7138 - val_loss: 1.0049 - val_accuracy: 0.7036\n",
      "Epoch 17/100\n",
      "151/151 - 0s - loss: 0.9609 - accuracy: 0.7121 - val_loss: 0.9879 - val_accuracy: 0.6887\n",
      "Epoch 18/100\n",
      "151/151 - 0s - loss: 0.9452 - accuracy: 0.7160 - val_loss: 0.9753 - val_accuracy: 0.7144\n",
      "Epoch 19/100\n",
      "151/151 - 0s - loss: 0.9320 - accuracy: 0.7222 - val_loss: 0.9618 - val_accuracy: 0.7144\n",
      "Epoch 20/100\n",
      "151/151 - 0s - loss: 0.9235 - accuracy: 0.7220 - val_loss: 0.9761 - val_accuracy: 0.7194\n",
      "Epoch 21/100\n",
      "151/151 - 0s - loss: 0.9160 - accuracy: 0.7243 - val_loss: 0.9602 - val_accuracy: 0.7119\n",
      "Epoch 22/100\n",
      "151/151 - 0s - loss: 0.9041 - accuracy: 0.7316 - val_loss: 0.9455 - val_accuracy: 0.7111\n",
      "Epoch 23/100\n",
      "151/151 - 0s - loss: 0.8950 - accuracy: 0.7314 - val_loss: 0.9405 - val_accuracy: 0.7293\n",
      "Epoch 24/100\n",
      "151/151 - 0s - loss: 0.8904 - accuracy: 0.7326 - val_loss: 0.9441 - val_accuracy: 0.7078\n",
      "Epoch 25/100\n",
      "151/151 - 0s - loss: 0.8821 - accuracy: 0.7351 - val_loss: 0.9130 - val_accuracy: 0.7276\n",
      "Epoch 26/100\n",
      "151/151 - 0s - loss: 0.8705 - accuracy: 0.7374 - val_loss: 0.9114 - val_accuracy: 0.7268\n",
      "Epoch 27/100\n",
      "151/151 - 0s - loss: 0.8624 - accuracy: 0.7401 - val_loss: 0.9043 - val_accuracy: 0.7343\n",
      "Epoch 28/100\n",
      "151/151 - 0s - loss: 0.8576 - accuracy: 0.7419 - val_loss: 0.8998 - val_accuracy: 0.7301\n",
      "Epoch 29/100\n",
      "151/151 - 0s - loss: 0.8564 - accuracy: 0.7409 - val_loss: 0.8910 - val_accuracy: 0.7293\n",
      "Epoch 30/100\n",
      "151/151 - 0s - loss: 0.8469 - accuracy: 0.7459 - val_loss: 0.8958 - val_accuracy: 0.7409\n",
      "Epoch 31/100\n",
      "151/151 - 0s - loss: 0.8354 - accuracy: 0.7481 - val_loss: 0.9062 - val_accuracy: 0.7368\n",
      "Epoch 32/100\n",
      "151/151 - 0s - loss: 0.8303 - accuracy: 0.7463 - val_loss: 0.8860 - val_accuracy: 0.7450\n",
      "Epoch 33/100\n",
      "151/151 - 0s - loss: 0.8254 - accuracy: 0.7512 - val_loss: 0.8712 - val_accuracy: 0.7409\n",
      "Epoch 34/100\n",
      "151/151 - 0s - loss: 0.8242 - accuracy: 0.7510 - val_loss: 0.8779 - val_accuracy: 0.7252\n",
      "Epoch 35/100\n",
      "151/151 - 0s - loss: 0.8116 - accuracy: 0.7529 - val_loss: 0.8624 - val_accuracy: 0.7409\n",
      "Epoch 36/100\n",
      "151/151 - 0s - loss: 0.8070 - accuracy: 0.7539 - val_loss: 0.8808 - val_accuracy: 0.7525\n",
      "Epoch 37/100\n",
      "151/151 - 0s - loss: 0.8055 - accuracy: 0.7562 - val_loss: 0.8695 - val_accuracy: 0.7450\n",
      "Epoch 38/100\n",
      "151/151 - 0s - loss: 0.7999 - accuracy: 0.7570 - val_loss: 0.8555 - val_accuracy: 0.7359\n",
      "Epoch 39/100\n",
      "151/151 - 0s - loss: 0.8008 - accuracy: 0.7523 - val_loss: 0.8761 - val_accuracy: 0.7351\n",
      "Epoch 40/100\n",
      "151/151 - 0s - loss: 0.7876 - accuracy: 0.7599 - val_loss: 0.8391 - val_accuracy: 0.7425\n",
      "Epoch 41/100\n",
      "151/151 - 0s - loss: 0.7874 - accuracy: 0.7614 - val_loss: 0.8432 - val_accuracy: 0.7401\n",
      "Epoch 42/100\n",
      "151/151 - 0s - loss: 0.7802 - accuracy: 0.7635 - val_loss: 0.8301 - val_accuracy: 0.7459\n",
      "Epoch 43/100\n",
      "151/151 - 0s - loss: 0.7760 - accuracy: 0.7622 - val_loss: 0.8421 - val_accuracy: 0.7500\n",
      "Epoch 44/100\n",
      "151/151 - 0s - loss: 0.7744 - accuracy: 0.7593 - val_loss: 0.8500 - val_accuracy: 0.7467\n",
      "Epoch 45/100\n",
      "151/151 - 0s - loss: 0.7705 - accuracy: 0.7589 - val_loss: 0.8440 - val_accuracy: 0.7459\n"
     ]
    }
   ],
   "source": [
    "history = model.fit(TAPEncoded_train, train_labels, epochs=100, validation_data=(TAPEncoded_val, validation_labels), verbose=2, callbacks=[es])"
   ]
  },
  {
   "cell_type": "code",
   "execution_count": 56,
   "metadata": {},
   "outputs": [],
   "source": [
    "preds = model.predict(TAPEncoded_val)\n",
    "\n",
    "mask = (validation_labels == 27) #27 is negative\n",
    "\n",
    "predictions = np.argmax(preds, axis=1)\n",
    "\n",
    "y_true = validation_labels\n",
    "y_true[~mask] = 1\n",
    "y_true[mask] = 0\n",
    "\n",
    "mask = (predictions == 27)\n",
    "y_pred = predictions\n",
    "y_pred[~mask] = 1\n",
    "y_pred[mask] = 0"
   ]
  },
  {
   "cell_type": "code",
   "execution_count": 57,
   "metadata": {},
   "outputs": [
    {
     "name": "stdout",
     "output_type": "stream",
     "text": [
      "True positive: 265, false positive: 39, true negative: 697, false negative: 207\n",
      "\n",
      "MCC: 0.571661\n",
      "Accuracy: 79.64%\n",
      "F1 score: 0.68\n",
      "Precision: 0.87\n",
      "Recall: 0.56\n"
     ]
    }
   ],
   "source": [
    "get_performance_vals(y_pred, y_true)"
   ]
  },
  {
   "cell_type": "code",
   "execution_count": 58,
   "metadata": {},
   "outputs": [],
   "source": [
    "#METHOD 2"
   ]
  },
  {
   "cell_type": "code",
   "execution_count": 59,
   "metadata": {},
   "outputs": [],
   "source": [
    "#STARTING HERE"
   ]
  },
  {
   "cell_type": "code",
   "execution_count": 1,
   "metadata": {},
   "outputs": [
    {
     "name": "stdout",
     "output_type": "stream",
     "text": [
      "Tensorflow version 2.2.0\n",
      "WARNING:tensorflow:From <ipython-input-1-6f67c92ac921>:6: is_gpu_available (from tensorflow.python.framework.test_util) is deprecated and will be removed in a future version.\n",
      "Instructions for updating:\n",
      "Use `tf.config.list_physical_devices('GPU')` instead.\n"
     ]
    },
    {
     "name": "stderr",
     "output_type": "stream",
     "text": [
      "C:\\Users\\sarva\\Anaconda3\\lib\\site-packages\\tensorboard\\compat\\tensorflow_stub\\dtypes.py:541: FutureWarning: Passing (type, 1) or '1type' as a synonym of type is deprecated; in a future version of numpy, it will be understood as (type, (1,)) / '(1,)type'.\n",
      "  _np_qint8 = np.dtype([(\"qint8\", np.int8, 1)])\n",
      "C:\\Users\\sarva\\Anaconda3\\lib\\site-packages\\tensorboard\\compat\\tensorflow_stub\\dtypes.py:542: FutureWarning: Passing (type, 1) or '1type' as a synonym of type is deprecated; in a future version of numpy, it will be understood as (type, (1,)) / '(1,)type'.\n",
      "  _np_quint8 = np.dtype([(\"quint8\", np.uint8, 1)])\n",
      "C:\\Users\\sarva\\Anaconda3\\lib\\site-packages\\tensorboard\\compat\\tensorflow_stub\\dtypes.py:543: FutureWarning: Passing (type, 1) or '1type' as a synonym of type is deprecated; in a future version of numpy, it will be understood as (type, (1,)) / '(1,)type'.\n",
      "  _np_qint16 = np.dtype([(\"qint16\", np.int16, 1)])\n",
      "C:\\Users\\sarva\\Anaconda3\\lib\\site-packages\\tensorboard\\compat\\tensorflow_stub\\dtypes.py:544: FutureWarning: Passing (type, 1) or '1type' as a synonym of type is deprecated; in a future version of numpy, it will be understood as (type, (1,)) / '(1,)type'.\n",
      "  _np_quint16 = np.dtype([(\"quint16\", np.uint16, 1)])\n",
      "C:\\Users\\sarva\\Anaconda3\\lib\\site-packages\\tensorboard\\compat\\tensorflow_stub\\dtypes.py:545: FutureWarning: Passing (type, 1) or '1type' as a synonym of type is deprecated; in a future version of numpy, it will be understood as (type, (1,)) / '(1,)type'.\n",
      "  _np_qint32 = np.dtype([(\"qint32\", np.int32, 1)])\n",
      "C:\\Users\\sarva\\Anaconda3\\lib\\site-packages\\tensorboard\\compat\\tensorflow_stub\\dtypes.py:550: FutureWarning: Passing (type, 1) or '1type' as a synonym of type is deprecated; in a future version of numpy, it will be understood as (type, (1,)) / '(1,)type'.\n",
      "  np_resource = np.dtype([(\"resource\", np.ubyte, 1)])\n"
     ]
    },
    {
     "name": "stdout",
     "output_type": "stream",
     "text": [
      "True\n",
      "Compute dtype: float16\n",
      "Variable dtype: float32\n"
     ]
    }
   ],
   "source": [
    "import tensorflow as tf\n",
    "print(\"Tensorflow version \" + tf.__version__)\n",
    "\n",
    "tf.test.is_built_with_cuda()\n",
    "\n",
    "print(tf.test.is_gpu_available(cuda_only=False, min_cuda_compute_capability=None))\n",
    "\n",
    "tf.config.experimental.list_physical_devices('GPU')\n",
    "#for device in gpu_devices: tf.config.experimental.set_memory_growth(device, True)\n",
    "\n",
    "# import tensorflow.keras.backend as K\n",
    "# dtype = 'float16'\n",
    "# K.set_floatx(dtype)\n",
    "# K.set_epsilon(1e-4)\n",
    "\n",
    "from tensorflow.keras.mixed_precision import experimental as mixed_precision\n",
    "policy = mixed_precision.Policy('mixed_float16')\n",
    "mixed_precision.set_policy(policy)\n",
    "\n",
    "print('Compute dtype: %s' % policy.compute_dtype)\n",
    "print('Variable dtype: %s' % policy.variable_dtype)"
   ]
  },
  {
   "cell_type": "code",
   "execution_count": 2,
   "metadata": {},
   "outputs": [],
   "source": [
    "import matplotlib.pyplot as plt # plotting\n",
    "import numpy as np # linear algebra\n",
    "import os # accessing directory structure\n",
    "import pandas as pd # data processing, CSV file I/O (e.g. pd.read_csv)\n",
    "import seaborn\n",
    "import gc\n",
    "import sklearn\n",
    "import pickle"
   ]
  },
  {
   "cell_type": "code",
   "execution_count": 3,
   "metadata": {},
   "outputs": [],
   "source": [
    "path = \"./\" + \"TAPEncoded_train\" + \".pickle\"\n",
    "array_file = open(path, 'rb')\n",
    "TAPEncoded_train = pickle.load(array_file)\n",
    "array_file.close()\n",
    "\n",
    "path = \"./\" + \"TAPEncoded_val\" + \".pickle\"\n",
    "array_file = open(path, 'rb')\n",
    "TAPEncoded_val = pickle.load(array_file)\n",
    "array_file.close()\n",
    "\n",
    "path = \"./\" + \"train_labels\" + \".pickle\"\n",
    "array_file = open(path, 'rb')\n",
    "train_labels = pickle.load(array_file)\n",
    "array_file.close()\n",
    "\n",
    "path = \"./\" + \"validation_labels\" + \".pickle\"\n",
    "array_file = open(path, 'rb')\n",
    "validation_labels = pickle.load(array_file)\n",
    "array_file.close()\n",
    "\n",
    "TAPEncoded_train = np.array(TAPEncoded_train)\n",
    "TAPEncoded_train = np.squeeze(TAPEncoded_train)\n",
    "\n",
    "TAPEncoded_val = np.array(TAPEncoded_val)\n",
    "TAPEncoded_val = np.squeeze(TAPEncoded_val)\n",
    "\n",
    "numclass = max(train_labels) + 1"
   ]
  },
  {
   "cell_type": "code",
   "execution_count": 4,
   "metadata": {},
   "outputs": [
    {
     "data": {
      "text/plain": [
       "20"
      ]
     },
     "execution_count": 4,
     "metadata": {},
     "output_type": "execute_result"
    }
   ],
   "source": [
    "gc.collect()"
   ]
  },
  {
   "cell_type": "code",
   "execution_count": 5,
   "metadata": {
    "colab": {},
    "colab_type": "code",
    "id": "TCv_fddVOoFc"
   },
   "outputs": [],
   "source": [
    "def residual_block(x, filters, dil):\n",
    "    shortcut = x\n",
    "    bn1 = tf.keras.layers.BatchNormalization()(x)\n",
    "    a1 = tf.keras.layers.Activation(\"relu\")(bn1)\n",
    "    conv1 = tf.keras.layers.Conv1D(filters, 3, dilation_rate = dil, padding=\"same\")(a1) #1100 filters and 9 kernel size in ProtCNN\n",
    "    \n",
    "    bn2 = tf.keras.layers.BatchNormalization()(conv1)\n",
    "    a2 = tf.keras.layers.Activation(\"relu\")(bn2)\n",
    "    conv2 = tf.keras.layers.Conv1D(filters, 1, padding=\"same\")(a2)\n",
    "    \n",
    "    x = tf.keras.layers.Add()([conv2, shortcut])\n",
    "    \n",
    "    return x"
   ]
  },
  {
   "cell_type": "code",
   "execution_count": 6,
   "metadata": {},
   "outputs": [
    {
     "name": "stdout",
     "output_type": "stream",
     "text": [
      "Model: \"model\"\n",
      "__________________________________________________________________________________________________\n",
      "Layer (type)                    Output Shape         Param #     Connected to                     \n",
      "==================================================================================================\n",
      "input_1 (InputLayer)            [(None, 2000, 768)]  0                                            \n",
      "__________________________________________________________________________________________________\n",
      "conv1d (Conv1D)                 (None, 2000, 64)     147520      input_1[0][0]                    \n",
      "__________________________________________________________________________________________________\n",
      "batch_normalization (BatchNorma (None, 2000, 64)     256         conv1d[0][0]                     \n",
      "__________________________________________________________________________________________________\n",
      "activation (Activation)         (None, 2000, 64)     0           batch_normalization[0][0]        \n",
      "__________________________________________________________________________________________________\n",
      "conv1d_1 (Conv1D)               (None, 2000, 64)     12352       activation[0][0]                 \n",
      "__________________________________________________________________________________________________\n",
      "batch_normalization_1 (BatchNor (None, 2000, 64)     256         conv1d_1[0][0]                   \n",
      "__________________________________________________________________________________________________\n",
      "activation_1 (Activation)       (None, 2000, 64)     0           batch_normalization_1[0][0]      \n",
      "__________________________________________________________________________________________________\n",
      "conv1d_2 (Conv1D)               (None, 2000, 64)     4160        activation_1[0][0]               \n",
      "__________________________________________________________________________________________________\n",
      "add (Add)                       (None, 2000, 64)     0           conv1d_2[0][0]                   \n",
      "                                                                 conv1d[0][0]                     \n",
      "__________________________________________________________________________________________________\n",
      "batch_normalization_2 (BatchNor (None, 2000, 64)     256         add[0][0]                        \n",
      "__________________________________________________________________________________________________\n",
      "activation_2 (Activation)       (None, 2000, 64)     0           batch_normalization_2[0][0]      \n",
      "__________________________________________________________________________________________________\n",
      "conv1d_3 (Conv1D)               (None, 2000, 64)     12352       activation_2[0][0]               \n",
      "__________________________________________________________________________________________________\n",
      "batch_normalization_3 (BatchNor (None, 2000, 64)     256         conv1d_3[0][0]                   \n",
      "__________________________________________________________________________________________________\n",
      "activation_3 (Activation)       (None, 2000, 64)     0           batch_normalization_3[0][0]      \n",
      "__________________________________________________________________________________________________\n",
      "conv1d_4 (Conv1D)               (None, 2000, 64)     4160        activation_3[0][0]               \n",
      "__________________________________________________________________________________________________\n",
      "add_1 (Add)                     (None, 2000, 64)     0           conv1d_4[0][0]                   \n",
      "                                                                 add[0][0]                        \n",
      "__________________________________________________________________________________________________\n",
      "max_pooling1d (MaxPooling1D)    (None, 1, 64)        0           add_1[0][0]                      \n",
      "__________________________________________________________________________________________________\n",
      "flatten (Flatten)               (None, 64)           0           max_pooling1d[0][0]              \n",
      "__________________________________________________________________________________________________\n",
      "dense (Dense)                   (None, 29)           1885        flatten[0][0]                    \n",
      "==================================================================================================\n",
      "Total params: 183,453\n",
      "Trainable params: 182,941\n",
      "Non-trainable params: 512\n",
      "__________________________________________________________________________________________________\n"
     ]
    }
   ],
   "source": [
    "# batch_size = 8\n",
    "# n_timesteps = 400\n",
    "# n_features = 768\n",
    "# input_x = tf.keras.layers.Input(shape=(n_timesteps,n_features))\n",
    "# bi_rnn = tf.keras.layers.Bidirectional(tf.keras.layers.LSTM(16, batch_input_shape=(batch_size, n_timesteps, n_features), \n",
    "#                                                             kernel_regularizer=tf.keras.regularizers.l2(0.01), \n",
    "#                                                             recurrent_regularizer=tf.keras.regularizers.l2(0.01), \n",
    "#                                                             bias_regularizer=tf.keras.regularizers.l2(0.01)))(input_x)\n",
    "# out = tf.keras.layers.Dense(49, activation=\"softmax\")(bi_rnn) \n",
    "# model = tf.keras.Model(inputs=input_x, outputs=out)\n",
    "# model.compile(loss='sparse_categorical_crossentropy',optimizer=\"adam\",metrics=['accuracy'])\n",
    "# model.summary()\n",
    "\n",
    "input_x = tf.keras.layers.Input(shape=(2000,768))\n",
    "x = tf.keras.layers.Conv1D(64, 3, padding=\"same\")(input_x)\n",
    "x = residual_block(x, 64, 1)\n",
    "x = residual_block(x, 64, 2) #4 blocks of these in ProtCNN\n",
    "x = tf.keras.layers.MaxPooling1D(2000)(x)\n",
    "\n",
    "x = tf.keras.layers.Flatten()(x)\n",
    "out = tf.keras.layers.Dense(numclass, activation=\"softmax\")(x) \n",
    "\n",
    "model = tf.keras.Model(inputs=input_x, outputs=out)\n",
    "#optimizer = tf.keras.optimizers.Adam(lr=1e-5)\n",
    "\n",
    "model.compile(loss='sparse_categorical_crossentropy',optimizer=\"adam\",metrics=['accuracy'])\n",
    "model.summary()"
   ]
  },
  {
   "cell_type": "code",
   "execution_count": 7,
   "metadata": {},
   "outputs": [],
   "source": [
    "# lr_schedule = tf.keras.callbacks.LearningRateScheduler(\n",
    "#     lambda epoch: 1e-5 * 10**(epoch / 20))\n",
    "\n",
    "es = tf.keras.callbacks.EarlyStopping(monitor='val_loss', mode='min', min_delta=0.01, patience=5)"
   ]
  },
  {
   "cell_type": "code",
   "execution_count": 8,
   "metadata": {},
   "outputs": [
    {
     "name": "stdout",
     "output_type": "stream",
     "text": [
      "Epoch 1/13\n",
      "151/151 - 55s - loss: 1.7211 - accuracy: 0.6516 - val_loss: 1.1073 - val_accuracy: 0.7028\n",
      "Epoch 2/13\n",
      "151/151 - 86s - loss: 0.7722 - accuracy: 0.7937 - val_loss: 0.7922 - val_accuracy: 0.7964\n",
      "Epoch 3/13\n",
      "151/151 - 53s - loss: 0.5335 - accuracy: 0.8523 - val_loss: 0.7456 - val_accuracy: 0.7889\n",
      "Epoch 4/13\n",
      "151/151 - 104s - loss: 0.3629 - accuracy: 0.8950 - val_loss: 0.5958 - val_accuracy: 0.8394\n",
      "Epoch 5/13\n",
      "151/151 - 60s - loss: 0.2774 - accuracy: 0.9227 - val_loss: 0.5440 - val_accuracy: 0.8460\n",
      "Epoch 6/13\n",
      "151/151 - 75s - loss: 0.1899 - accuracy: 0.9474 - val_loss: 0.6966 - val_accuracy: 0.8386\n",
      "Epoch 7/13\n",
      "151/151 - 119s - loss: 0.1664 - accuracy: 0.9495 - val_loss: 0.4581 - val_accuracy: 0.8733\n",
      "Epoch 8/13\n",
      "151/151 - 98s - loss: 0.1460 - accuracy: 0.9526 - val_loss: 0.5103 - val_accuracy: 0.8808\n",
      "Epoch 9/13\n",
      "151/151 - 62s - loss: 0.1169 - accuracy: 0.9631 - val_loss: 0.4433 - val_accuracy: 0.8916\n",
      "Epoch 10/13\n",
      "151/151 - 83s - loss: 0.0711 - accuracy: 0.9787 - val_loss: 0.4809 - val_accuracy: 0.8998\n",
      "Epoch 11/13\n",
      "151/151 - 66s - loss: 0.0235 - accuracy: 0.9957 - val_loss: 0.4040 - val_accuracy: 0.8974\n",
      "Epoch 12/13\n",
      "151/151 - 108s - loss: 0.0121 - accuracy: 0.9986 - val_loss: 0.3537 - val_accuracy: 0.9089\n",
      "Epoch 13/13\n",
      "151/151 - 89s - loss: 0.0045 - accuracy: 1.0000 - val_loss: 0.3498 - val_accuracy: 0.9156\n"
     ]
    }
   ],
   "source": [
    "history = model.fit(TAPEncoded_train, train_labels, epochs=13, validation_data=(TAPEncoded_val, validation_labels), verbose=2, callbacks=[es])"
   ]
  },
  {
   "cell_type": "code",
   "execution_count": 9,
   "metadata": {},
   "outputs": [
    {
     "data": {
      "text/plain": [
       "4319"
      ]
     },
     "execution_count": 9,
     "metadata": {},
     "output_type": "execute_result"
    }
   ],
   "source": [
    "#del TAPEncoded_train, TAPEncoded_val\n",
    "gc.collect()"
   ]
  },
  {
   "cell_type": "code",
   "execution_count": 10,
   "metadata": {},
   "outputs": [
    {
     "name": "stdout",
     "output_type": "stream",
     "text": [
      "Saved model to disk\n"
     ]
    }
   ],
   "source": [
    "# serialize model to JSON\n",
    "model_json = model.to_json()\n",
    "with open(\"./\" + \"TAPE_PF_culled_model.json\", \"w\") as json_file:\n",
    "    json_file.write(model_json)\n",
    "# serialize weights to HDF5\n",
    "model.save_weights(\"./\" + \"TAPE_PF_culled_model.h5\")\n",
    "print(\"Saved model to disk\")"
   ]
  },
  {
   "cell_type": "code",
   "execution_count": 6,
   "metadata": {},
   "outputs": [
    {
     "name": "stdout",
     "output_type": "stream",
     "text": [
      "Loaded model from disk\n"
     ]
    }
   ],
   "source": [
    "# json_file = open(os.path.join(\"./\", \"TAPE_PF_culled_model.json\"), 'r')\n",
    "# model_json = json_file.read()\n",
    "# json_file.close()\n",
    "# model = tf.keras.models.model_from_json(loaded_model_json)\n",
    "# # load weights into new model\n",
    "# model.load_weights(os.path.join(\"./\", \"TAPE_PF_culled_model.h5\"))\n",
    "# print(\"Loaded model from disk\")"
   ]
  },
  {
   "cell_type": "code",
   "execution_count": 9,
   "metadata": {},
   "outputs": [],
   "source": [
    "preds = model.predict(TAPEncoded_val)\n",
    "\n",
    "mask = (validation_labels == 27) #27 is negative\n",
    "\n",
    "predictions = np.argmax(preds, axis=1)\n",
    "\n",
    "y_true = validation_labels.copy()\n",
    "y_true[~mask] = 1\n",
    "y_true[mask] = 0\n",
    "\n",
    "mask = (predictions == 27)\n",
    "y_pred = predictions\n",
    "y_pred[~mask] = 1\n",
    "y_pred[mask] = 0"
   ]
  },
  {
   "cell_type": "code",
   "execution_count": 12,
   "metadata": {
    "scrolled": true
   },
   "outputs": [
    {
     "name": "stdout",
     "output_type": "stream",
     "text": [
      "True positive: 432, false positive: 14, true negative: 722, false negative: 40\n",
      "\n",
      "MCC: 0.906120\n",
      "Accuracy: 95.53%\n",
      "F1 score: 0.94\n",
      "Precision: 0.97\n",
      "Recall: 0.92\n"
     ]
    }
   ],
   "source": [
    "get_performance_vals(y_pred, y_true)"
   ]
  },
  {
   "cell_type": "code",
   "execution_count": 14,
   "metadata": {},
   "outputs": [],
   "source": [
    "false_neg_idx = []\n",
    "false_pos_idx = []\n",
    "for i in range(len(preds)):\n",
    "    if (y_pred[i] == 0 and y_true[i] == 1):\n",
    "        false_neg_idx.append(i)\n",
    "    if (y_pred[i] == 1 and y_true[i] == 0):\n",
    "        false_pos_idx.append(i)"
   ]
  },
  {
   "cell_type": "code",
   "execution_count": 15,
   "metadata": {},
   "outputs": [
    {
     "data": {
      "text/plain": [
       "[0, 370, 414, 500, 516, 618, 657, 764, 880, 922, 963, 1018, 1076, 1085]"
      ]
     },
     "execution_count": 15,
     "metadata": {},
     "output_type": "execute_result"
    }
   ],
   "source": [
    "false_pos_idx"
   ]
  },
  {
   "cell_type": "code",
   "execution_count": 21,
   "metadata": {},
   "outputs": [
    {
     "data": {
      "text/plain": [
       "Counter({11: 2,\n",
       "         16: 7,\n",
       "         17: 2,\n",
       "         15: 4,\n",
       "         3: 3,\n",
       "         0: 4,\n",
       "         4: 2,\n",
       "         19: 1,\n",
       "         5: 3,\n",
       "         22: 2,\n",
       "         8: 4,\n",
       "         18: 2,\n",
       "         26: 1,\n",
       "         20: 1,\n",
       "         14: 1,\n",
       "         25: 1})"
      ]
     },
     "execution_count": 21,
     "metadata": {},
     "output_type": "execute_result"
    }
   ],
   "source": [
    "import collections\n",
    "false_neg_labs = [validation_labels[i] for i in false_neg_idx]\n",
    "collections.Counter(false_neg_labs)"
   ]
  },
  {
   "cell_type": "code",
   "execution_count": null,
   "metadata": {},
   "outputs": [],
   "source": [
    "#Method 2B - Binary classification"
   ]
  },
  {
   "cell_type": "code",
   "execution_count": 6,
   "metadata": {},
   "outputs": [
    {
     "name": "stdout",
     "output_type": "stream",
     "text": [
      "Model: \"model\"\n",
      "__________________________________________________________________________________________________\n",
      "Layer (type)                    Output Shape         Param #     Connected to                     \n",
      "==================================================================================================\n",
      "input_1 (InputLayer)            [(None, 2000, 768)]  0                                            \n",
      "__________________________________________________________________________________________________\n",
      "conv1d (Conv1D)                 (None, 2000, 64)     147520      input_1[0][0]                    \n",
      "__________________________________________________________________________________________________\n",
      "batch_normalization (BatchNorma (None, 2000, 64)     256         conv1d[0][0]                     \n",
      "__________________________________________________________________________________________________\n",
      "activation (Activation)         (None, 2000, 64)     0           batch_normalization[0][0]        \n",
      "__________________________________________________________________________________________________\n",
      "conv1d_1 (Conv1D)               (None, 2000, 64)     12352       activation[0][0]                 \n",
      "__________________________________________________________________________________________________\n",
      "batch_normalization_1 (BatchNor (None, 2000, 64)     256         conv1d_1[0][0]                   \n",
      "__________________________________________________________________________________________________\n",
      "activation_1 (Activation)       (None, 2000, 64)     0           batch_normalization_1[0][0]      \n",
      "__________________________________________________________________________________________________\n",
      "conv1d_2 (Conv1D)               (None, 2000, 64)     4160        activation_1[0][0]               \n",
      "__________________________________________________________________________________________________\n",
      "add (Add)                       (None, 2000, 64)     0           conv1d_2[0][0]                   \n",
      "                                                                 conv1d[0][0]                     \n",
      "__________________________________________________________________________________________________\n",
      "batch_normalization_2 (BatchNor (None, 2000, 64)     256         add[0][0]                        \n",
      "__________________________________________________________________________________________________\n",
      "activation_2 (Activation)       (None, 2000, 64)     0           batch_normalization_2[0][0]      \n",
      "__________________________________________________________________________________________________\n",
      "conv1d_3 (Conv1D)               (None, 2000, 64)     12352       activation_2[0][0]               \n",
      "__________________________________________________________________________________________________\n",
      "batch_normalization_3 (BatchNor (None, 2000, 64)     256         conv1d_3[0][0]                   \n",
      "__________________________________________________________________________________________________\n",
      "activation_3 (Activation)       (None, 2000, 64)     0           batch_normalization_3[0][0]      \n",
      "__________________________________________________________________________________________________\n",
      "conv1d_4 (Conv1D)               (None, 2000, 64)     4160        activation_3[0][0]               \n",
      "__________________________________________________________________________________________________\n",
      "add_1 (Add)                     (None, 2000, 64)     0           conv1d_4[0][0]                   \n",
      "                                                                 add[0][0]                        \n",
      "__________________________________________________________________________________________________\n",
      "max_pooling1d (MaxPooling1D)    (None, 1, 64)        0           add_1[0][0]                      \n",
      "__________________________________________________________________________________________________\n",
      "flatten (Flatten)               (None, 64)           0           max_pooling1d[0][0]              \n",
      "__________________________________________________________________________________________________\n",
      "dense (Dense)                   (None, 10)           650         flatten[0][0]                    \n",
      "__________________________________________________________________________________________________\n",
      "dense_1 (Dense)                 (None, 1)            11          dense[0][0]                      \n",
      "==================================================================================================\n",
      "Total params: 182,229\n",
      "Trainable params: 181,717\n",
      "Non-trainable params: 512\n",
      "__________________________________________________________________________________________________\n"
     ]
    }
   ],
   "source": [
    "# batch_size = 8\n",
    "# n_timesteps = 400\n",
    "# n_features = 768\n",
    "# input_x = tf.keras.layers.Input(shape=(n_timesteps,n_features))\n",
    "# bi_rnn = tf.keras.layers.Bidirectional(tf.keras.layers.LSTM(16, batch_input_shape=(batch_size, n_timesteps, n_features), \n",
    "#                                                             kernel_regularizer=tf.keras.regularizers.l2(0.01), \n",
    "#                                                             recurrent_regularizer=tf.keras.regularizers.l2(0.01), \n",
    "#                                                             bias_regularizer=tf.keras.regularizers.l2(0.01)))(input_x)\n",
    "# out = tf.keras.layers.Dense(49, activation=\"softmax\")(bi_rnn) \n",
    "# model = tf.keras.Model(inputs=input_x, outputs=out)\n",
    "# model.compile(loss='sparse_categorical_crossentropy',optimizer=\"adam\",metrics=['accuracy'])\n",
    "# model.summary()\n",
    "\n",
    "input_x = tf.keras.layers.Input(shape=(2000,768))\n",
    "x = tf.keras.layers.Conv1D(64, 3, padding=\"same\")(input_x)\n",
    "x = residual_block(x, 64, 1)\n",
    "x = residual_block(x, 64, 2) #4 blocks of these in ProtCNN\n",
    "x = tf.keras.layers.MaxPooling1D(2000)(x)\n",
    "\n",
    "x = tf.keras.layers.Flatten()(x)\n",
    "x = tf.keras.layers.Dense(10, activation=\"relu\")(x) \n",
    "out = tf.keras.layers.Dense(1, activation=\"sigmoid\")(x) \n",
    "\n",
    "model = tf.keras.Model(inputs=input_x, outputs=out)\n",
    "#optimizer = tf.keras.optimizers.Adam(lr=1e-5)\n",
    "\n",
    "model.compile(loss='binary_crossentropy',optimizer=\"adam\",metrics=['accuracy'])\n",
    "model.summary()"
   ]
  },
  {
   "cell_type": "code",
   "execution_count": 7,
   "metadata": {},
   "outputs": [],
   "source": [
    "y_true = validation_labels.copy()\n",
    "mask = (validation_labels == 27) #27 is negative\n",
    "y_true[~mask] = 1\n",
    "y_true[mask] = 0"
   ]
  },
  {
   "cell_type": "code",
   "execution_count": 8,
   "metadata": {},
   "outputs": [],
   "source": [
    "y_train = train_labels.copy()\n",
    "mask = (y_train == 27) #27 is negative\n",
    "y_train[~mask] = 1\n",
    "y_train[mask] = 0"
   ]
  },
  {
   "cell_type": "code",
   "execution_count": 9,
   "metadata": {},
   "outputs": [],
   "source": [
    "# lr_schedule = tf.keras.callbacks.LearningRateScheduler(\n",
    "#     lambda epoch: 1e-5 * 10**(epoch / 20))\n",
    "\n",
    "es = tf.keras.callbacks.EarlyStopping(monitor='val_loss', mode='min', min_delta=0.01, patience=5)"
   ]
  },
  {
   "cell_type": "code",
   "execution_count": 10,
   "metadata": {},
   "outputs": [
    {
     "name": "stdout",
     "output_type": "stream",
     "text": [
      "Epoch 1/12\n",
      "151/151 - 62s - loss: 0.4258 - accuracy: 0.8322 - val_loss: 0.8242 - val_accuracy: 0.6515\n",
      "Epoch 2/12\n",
      "151/151 - 52s - loss: 0.1977 - accuracy: 0.9174 - val_loss: 0.5681 - val_accuracy: 0.8038\n",
      "Epoch 3/12\n",
      "151/151 - 43s - loss: 0.1639 - accuracy: 0.9364 - val_loss: 0.1474 - val_accuracy: 0.9429\n",
      "Epoch 4/12\n",
      "151/151 - 96s - loss: 0.1204 - accuracy: 0.9536 - val_loss: 0.1729 - val_accuracy: 0.9305\n",
      "Epoch 5/12\n",
      "151/151 - 84s - loss: 0.0881 - accuracy: 0.9648 - val_loss: 0.1653 - val_accuracy: 0.9387\n",
      "Epoch 6/12\n",
      "151/151 - 130s - loss: 0.0563 - accuracy: 0.9814 - val_loss: 0.2402 - val_accuracy: 0.9031\n",
      "Epoch 7/12\n",
      "151/151 - 79s - loss: 0.0549 - accuracy: 0.9809 - val_loss: 0.2579 - val_accuracy: 0.9255\n",
      "Epoch 8/12\n",
      "151/151 - 102s - loss: 0.0577 - accuracy: 0.9785 - val_loss: 0.1876 - val_accuracy: 0.9470\n"
     ]
    }
   ],
   "source": [
    "history = model.fit(TAPEncoded_train, y_train, epochs=12, validation_data=(TAPEncoded_val, y_true), verbose=2, callbacks=[es])"
   ]
  },
  {
   "cell_type": "code",
   "execution_count": 18,
   "metadata": {},
   "outputs": [
    {
     "data": {
      "text/plain": [
       "60"
      ]
     },
     "execution_count": 18,
     "metadata": {},
     "output_type": "execute_result"
    }
   ],
   "source": [
    "#del TAPEncoded_train, TAPEncoded_val\n",
    "gc.collect()"
   ]
  },
  {
   "cell_type": "code",
   "execution_count": 12,
   "metadata": {},
   "outputs": [],
   "source": [
    "preds = model.predict(TAPEncoded_val)"
   ]
  },
  {
   "cell_type": "code",
   "execution_count": 13,
   "metadata": {},
   "outputs": [],
   "source": [
    "mask = preds > 0.5\n",
    "preds[mask] = 1\n",
    "preds[~mask] = 0"
   ]
  },
  {
   "cell_type": "code",
   "execution_count": 14,
   "metadata": {},
   "outputs": [],
   "source": [
    "preds = preds.reshape(-1)"
   ]
  },
  {
   "cell_type": "code",
   "execution_count": 17,
   "metadata": {},
   "outputs": [
    {
     "name": "stdout",
     "output_type": "stream",
     "text": [
      "True positive: 458, false positive: 50, true negative: 686, false negative: 14\n",
      "\n",
      "MCC: 0.891929\n",
      "Accuracy: 94.70%\n",
      "F1 score: 0.93\n",
      "Precision: 0.90\n",
      "Recall: 0.97\n"
     ]
    }
   ],
   "source": [
    "get_performance_vals(preds, y_true) #Performs worse than mutliclass model!!"
   ]
  },
  {
   "cell_type": "code",
   "execution_count": 10,
   "metadata": {},
   "outputs": [],
   "source": [
    "#Method 3"
   ]
  },
  {
   "cell_type": "code",
   "execution_count": 11,
   "metadata": {},
   "outputs": [],
   "source": [
    "#Starting here"
   ]
  },
  {
   "cell_type": "code",
   "execution_count": 19,
   "metadata": {},
   "outputs": [
    {
     "name": "stdout",
     "output_type": "stream",
     "text": [
      "Tensorflow version 2.2.0\n",
      "WARNING:tensorflow:From <ipython-input-19-0ced83b4a304>:6: is_gpu_available (from tensorflow.python.framework.test_util) is deprecated and will be removed in a future version.\n",
      "Instructions for updating:\n",
      "Use `tf.config.list_physical_devices('GPU')` instead.\n"
     ]
    },
    {
     "name": "stderr",
     "output_type": "stream",
     "text": [
      "C:\\Users\\sarva\\Anaconda3\\lib\\site-packages\\tensorboard\\compat\\tensorflow_stub\\dtypes.py:541: FutureWarning: Passing (type, 1) or '1type' as a synonym of type is deprecated; in a future version of numpy, it will be understood as (type, (1,)) / '(1,)type'.\n",
      "  _np_qint8 = np.dtype([(\"qint8\", np.int8, 1)])\n",
      "C:\\Users\\sarva\\Anaconda3\\lib\\site-packages\\tensorboard\\compat\\tensorflow_stub\\dtypes.py:542: FutureWarning: Passing (type, 1) or '1type' as a synonym of type is deprecated; in a future version of numpy, it will be understood as (type, (1,)) / '(1,)type'.\n",
      "  _np_quint8 = np.dtype([(\"quint8\", np.uint8, 1)])\n",
      "C:\\Users\\sarva\\Anaconda3\\lib\\site-packages\\tensorboard\\compat\\tensorflow_stub\\dtypes.py:543: FutureWarning: Passing (type, 1) or '1type' as a synonym of type is deprecated; in a future version of numpy, it will be understood as (type, (1,)) / '(1,)type'.\n",
      "  _np_qint16 = np.dtype([(\"qint16\", np.int16, 1)])\n",
      "C:\\Users\\sarva\\Anaconda3\\lib\\site-packages\\tensorboard\\compat\\tensorflow_stub\\dtypes.py:544: FutureWarning: Passing (type, 1) or '1type' as a synonym of type is deprecated; in a future version of numpy, it will be understood as (type, (1,)) / '(1,)type'.\n",
      "  _np_quint16 = np.dtype([(\"quint16\", np.uint16, 1)])\n",
      "C:\\Users\\sarva\\Anaconda3\\lib\\site-packages\\tensorboard\\compat\\tensorflow_stub\\dtypes.py:545: FutureWarning: Passing (type, 1) or '1type' as a synonym of type is deprecated; in a future version of numpy, it will be understood as (type, (1,)) / '(1,)type'.\n",
      "  _np_qint32 = np.dtype([(\"qint32\", np.int32, 1)])\n",
      "C:\\Users\\sarva\\Anaconda3\\lib\\site-packages\\tensorboard\\compat\\tensorflow_stub\\dtypes.py:550: FutureWarning: Passing (type, 1) or '1type' as a synonym of type is deprecated; in a future version of numpy, it will be understood as (type, (1,)) / '(1,)type'.\n",
      "  np_resource = np.dtype([(\"resource\", np.ubyte, 1)])\n"
     ]
    },
    {
     "name": "stdout",
     "output_type": "stream",
     "text": [
      "True\n",
      "Compute dtype: float16\n",
      "Variable dtype: float32\n"
     ]
    }
   ],
   "source": [
    "import tensorflow as tf\n",
    "print(\"Tensorflow version \" + tf.__version__)\n",
    "\n",
    "tf.test.is_built_with_cuda()\n",
    "\n",
    "print(tf.test.is_gpu_available(cuda_only=False, min_cuda_compute_capability=None))\n",
    "\n",
    "tf.config.experimental.list_physical_devices('GPU')\n",
    "#for device in gpu_devices: tf.config.experimental.set_memory_growth(device, True)\n",
    "\n",
    "# import tensorflow.keras.backend as K\n",
    "# dtype = 'float16'\n",
    "# K.set_floatx(dtype)\n",
    "# K.set_epsilon(1e-4)\n",
    "\n",
    "from tensorflow.keras.preprocessing.text import Tokenizer\n",
    "from tensorflow.keras.preprocessing.sequence import pad_sequences\n",
    "from tensorflow.keras.mixed_precision import experimental as mixed_precision\n",
    "policy = mixed_precision.Policy('mixed_float16')\n",
    "mixed_precision.set_policy(policy)\n",
    "\n",
    "print('Compute dtype: %s' % policy.compute_dtype)\n",
    "print('Variable dtype: %s' % policy.variable_dtype)"
   ]
  },
  {
   "cell_type": "code",
   "execution_count": 17,
   "metadata": {
    "colab": {},
    "colab_type": "code",
    "id": "DsU7zKDkOoE9"
   },
   "outputs": [],
   "source": [
    "def split_(word): \n",
    "    return [char for char in word]\n",
    "\n",
    "train_sentences = [[char for char in word] for word in train]\n",
    "validation_sentences = [[char for char in word] for word in dev]\n",
    "#test_sentences = test['sequence'].apply(lambda x: split_(x))"
   ]
  },
  {
   "cell_type": "code",
   "execution_count": 20,
   "metadata": {
    "colab": {
     "base_uri": "https://localhost:8080/",
     "height": 33
    },
    "colab_type": "code",
    "id": "MpoLRnT0OoFN",
    "outputId": "79f02a60-1599-4a1e-fc7a-1b9e9e6e718f"
   },
   "outputs": [
    {
     "name": "stdout",
     "output_type": "stream",
     "text": [
      "{'<OOV>': 1, 'l': 2, 'a': 3, 'g': 4, 's': 5, 'v': 6, 't': 7, 'e': 8, 'd': 9, 'i': 10, 'k': 11, 'n': 12, 'r': 13, 'p': 14, 'f': 15, 'q': 16, 'y': 17, 'h': 18, 'm': 19, 'w': 20, 'c': 21, 'x': 22, 'u': 23, 'o': 24, 'b': 25}\n"
     ]
    }
   ],
   "source": [
    "vocab_size = 21\n",
    "max_length = 2000\n",
    "trunc_type = \"post\"\n",
    "padding_type = \"post\"\n",
    "oov_tok = \"<OOV>\"\n",
    "\n",
    "tokenizer = Tokenizer(oov_token=oov_tok, num_words = vocab_size)\n",
    "tokenizer.fit_on_texts(train_sentences)\n",
    "word_index = tokenizer.word_index\n",
    "print(word_index)\n",
    "\n",
    "train_sequences = tokenizer.texts_to_sequences(train_sentences)\n",
    "train_padded = pad_sequences(train_sequences, maxlen=max_length, padding=padding_type)\n",
    "# del train_sentences\n",
    "# del train_sequences\n",
    "# gc.collect()"
   ]
  },
  {
   "cell_type": "code",
   "execution_count": 21,
   "metadata": {
    "colab": {},
    "colab_type": "code",
    "id": "3iy99ZfCJ34l"
   },
   "outputs": [],
   "source": [
    "validation_sequences = tokenizer.texts_to_sequences(validation_sentences)\n",
    "validation_padded = pad_sequences(validation_sequences, maxlen=max_length, padding=padding_type)\n",
    "# del validation_sentences\n",
    "# del validation_sequences\n",
    "# gc.collect()"
   ]
  },
  {
   "cell_type": "code",
   "execution_count": 16,
   "metadata": {
    "colab": {},
    "colab_type": "code",
    "id": "UpmBGMoKJ85Z"
   },
   "outputs": [],
   "source": [
    "# takes too much space\n",
    "# solved with non-trainable Embedding layer with identity initializer\n",
    "\n",
    "# train_padded = tf.keras.utils.to_categorical(train_padded, num_classes=vocab_size)\n",
    "# validation_padded = tf.keras.utils.to_categorical(validation_padded, num_classes=vocab_size)\n",
    "# test_padded = tf.keras.utils.to_categorical(test_padded, num_classes=vocab_size)"
   ]
  },
  {
   "cell_type": "code",
   "execution_count": 22,
   "metadata": {
    "colab": {
     "base_uri": "https://localhost:8080/",
     "height": 33
    },
    "colab_type": "code",
    "id": "rhXMpWpXOoFP",
    "outputId": "78f7883c-7106-4b5d-9137-a634692a08d9"
   },
   "outputs": [
    {
     "data": {
      "text/plain": [
       "(4828, 2000)"
      ]
     },
     "execution_count": 22,
     "metadata": {},
     "output_type": "execute_result"
    }
   ],
   "source": [
    "train_padded.shape"
   ]
  },
  {
   "cell_type": "code",
   "execution_count": 23,
   "metadata": {
    "colab": {
     "base_uri": "https://localhost:8080/",
     "height": 33
    },
    "colab_type": "code",
    "id": "2eB81tNKWbaf",
    "outputId": "4f233e42-7130-4d05-9962-e0cb8e08c0cc"
   },
   "outputs": [
    {
     "data": {
      "text/plain": [
       "((4828,), (1208,))"
      ]
     },
     "execution_count": 23,
     "metadata": {},
     "output_type": "execute_result"
    }
   ],
   "source": [
    "from sklearn.preprocessing import LabelEncoder\n",
    "le = LabelEncoder()\n",
    "\n",
    "train_labels = le.fit_transform(train_labels)\n",
    "validation_labels = le.transform(validation_labels)\n",
    "#test_labels = le.transform(test_labels)\n",
    "\n",
    "train_labels.shape, validation_labels.shape"
   ]
  },
  {
   "cell_type": "code",
   "execution_count": 24,
   "metadata": {},
   "outputs": [
    {
     "name": "stdout",
     "output_type": "stream",
     "text": [
      "{0: 'PF00087_toxin_tolip_full_length_sequences.fasta', 1: 'PF00555_Endotoxin_M_uniprot.fasta', 2: 'PF01024_colicin_full_length_sequences.fasta', 3: 'PF01117_aerolysin_full_length_sequences.fasta', 4: 'PF01289_thiol_cytolysin_full_length_sequences.fasta', 5: 'PF01338_Bac_thur_toxin_full_length_sequences.fasta', 6: 'PF01823_macpf_uniprot.fasta', 7: 'PF02382_rtx_full_length_sequences.fasta', 8: 'PF03318_etx_mtx2_full_length_sequences.fasta', 9: 'PF03505_clenterotox_full_length_sequences.fasta', 10: 'PF03944_Endotoxin_C_uniprot.fasta', 11: 'PF03945_Endotoxin_N_full_length_sequences.fasta', 12: 'PF04598_gasdermin_uniprot.fasta', 13: 'PF04877_harpin_full_length_sequences.fasta', 14: 'PF05802_espb_full_length_sequences.fasta', 15: 'PF06109_hlye_full_length_sequences.fasta', 16: 'PF06355_aegerolysin_full_length_sequences.fasta', 17: 'PF06369_anemone_cytotox_full_length_sequences.fasta', 18: 'PF07367_fb_lectin_full_length_sequences.fasta', 19: 'PF07968_leukocidin_full_length_sequences.fasta', 20: 'PF11393_T4BSS_dotI_icml_full_length_sequences.fasta', 21: 'PF11565_porb_full_length_sequences.fasta', 22: 'PF12261_t_hemolysin_full_length_sequences.fasta', 23: 'PF12920_tcda_tcdb_pore_full_length_sequences.fasta', 24: 'PF17475_binary_toxb_2_full_length_sequences.fasta', 25: 'PF18063_BB_PF_full_length_sequences.fasta', 26: 'PF18684_plyb_c_full_length_sequences.fasta', 27: 'negative', 28: 'pf05105_phage_holin_4_1_uniprot.fasta'}\n"
     ]
    }
   ],
   "source": [
    "le_name_mapping = dict(zip(le.classes_, le.transform(le.classes_)))\n",
    "umap_map = {v: k for k, v in le_name_mapping.items()}\n",
    "print(umap_map)"
   ]
  },
  {
   "cell_type": "code",
   "execution_count": 25,
   "metadata": {},
   "outputs": [],
   "source": [
    "numclass = max(train_labels) + 1"
   ]
  },
  {
   "cell_type": "code",
   "execution_count": 26,
   "metadata": {},
   "outputs": [],
   "source": [
    "def residual_block(x, filters, dil):\n",
    "    shortcut = x\n",
    "    bn1 = tf.keras.layers.BatchNormalization()(x)\n",
    "    a1 = tf.keras.layers.Activation(\"relu\")(bn1)\n",
    "    conv1 = tf.keras.layers.Conv1D(filters, 3, dilation_rate = dil, padding=\"same\")(a1) #1100 filters and 9 kernel size in ProtCNN\n",
    "    \n",
    "    bn2 = tf.keras.layers.BatchNormalization()(conv1)\n",
    "    a2 = tf.keras.layers.Activation(\"relu\")(bn2)\n",
    "    conv2 = tf.keras.layers.Conv1D(filters, 1, padding=\"same\")(a2)\n",
    "    \n",
    "    x = tf.keras.layers.Add()([conv2, shortcut])\n",
    "    \n",
    "    return x"
   ]
  },
  {
   "cell_type": "code",
   "execution_count": 27,
   "metadata": {
    "colab": {
     "base_uri": "https://localhost:8080/",
     "height": 856
    },
    "colab_type": "code",
    "id": "gHREjUe3OoFh",
    "outputId": "101f0f32-c106-488a-aa22-a894ad687d2a"
   },
   "outputs": [
    {
     "name": "stdout",
     "output_type": "stream",
     "text": [
      "Model: \"model\"\n",
      "__________________________________________________________________________________________________\n",
      "Layer (type)                    Output Shape         Param #     Connected to                     \n",
      "==================================================================================================\n",
      "input_1 (InputLayer)            [(None, 2000)]       0                                            \n",
      "__________________________________________________________________________________________________\n",
      "embedding (Embedding)           (None, 2000, 21)     441         input_1[0][0]                    \n",
      "__________________________________________________________________________________________________\n",
      "conv1d (Conv1D)                 (None, 2000, 64)     4096        embedding[0][0]                  \n",
      "__________________________________________________________________________________________________\n",
      "batch_normalization (BatchNorma (None, 2000, 64)     256         conv1d[0][0]                     \n",
      "__________________________________________________________________________________________________\n",
      "activation (Activation)         (None, 2000, 64)     0           batch_normalization[0][0]        \n",
      "__________________________________________________________________________________________________\n",
      "conv1d_1 (Conv1D)               (None, 2000, 64)     12352       activation[0][0]                 \n",
      "__________________________________________________________________________________________________\n",
      "batch_normalization_1 (BatchNor (None, 2000, 64)     256         conv1d_1[0][0]                   \n",
      "__________________________________________________________________________________________________\n",
      "activation_1 (Activation)       (None, 2000, 64)     0           batch_normalization_1[0][0]      \n",
      "__________________________________________________________________________________________________\n",
      "conv1d_2 (Conv1D)               (None, 2000, 64)     4160        activation_1[0][0]               \n",
      "__________________________________________________________________________________________________\n",
      "add (Add)                       (None, 2000, 64)     0           conv1d_2[0][0]                   \n",
      "                                                                 conv1d[0][0]                     \n",
      "__________________________________________________________________________________________________\n",
      "batch_normalization_2 (BatchNor (None, 2000, 64)     256         add[0][0]                        \n",
      "__________________________________________________________________________________________________\n",
      "activation_2 (Activation)       (None, 2000, 64)     0           batch_normalization_2[0][0]      \n",
      "__________________________________________________________________________________________________\n",
      "conv1d_3 (Conv1D)               (None, 2000, 64)     12352       activation_2[0][0]               \n",
      "__________________________________________________________________________________________________\n",
      "batch_normalization_3 (BatchNor (None, 2000, 64)     256         conv1d_3[0][0]                   \n",
      "__________________________________________________________________________________________________\n",
      "activation_3 (Activation)       (None, 2000, 64)     0           batch_normalization_3[0][0]      \n",
      "__________________________________________________________________________________________________\n",
      "conv1d_4 (Conv1D)               (None, 2000, 64)     4160        activation_3[0][0]               \n",
      "__________________________________________________________________________________________________\n",
      "add_1 (Add)                     (None, 2000, 64)     0           conv1d_4[0][0]                   \n",
      "                                                                 add[0][0]                        \n",
      "__________________________________________________________________________________________________\n",
      "max_pooling1d (MaxPooling1D)    (None, 1, 64)        0           add_1[0][0]                      \n",
      "__________________________________________________________________________________________________\n",
      "flatten (Flatten)               (None, 64)           0           max_pooling1d[0][0]              \n",
      "__________________________________________________________________________________________________\n",
      "dropout (Dropout)               (None, 64)           0           flatten[0][0]                    \n",
      "__________________________________________________________________________________________________\n",
      "dense (Dense)                   (None, 29)           1885        dropout[0][0]                    \n",
      "==================================================================================================\n",
      "Total params: 40,470\n",
      "Trainable params: 39,517\n",
      "Non-trainable params: 953\n",
      "__________________________________________________________________________________________________\n"
     ]
    }
   ],
   "source": [
    "input_x = tf.keras.layers.Input(shape=2000)\n",
    "x = tf.keras.layers.Embedding(vocab_size, vocab_size, embeddings_initializer=tf.keras.initializers.Identity(gain=1.0), trainable=False)(input_x)\n",
    "x = tf.keras.layers.Conv1D(64, 3, padding=\"same\")(x)\n",
    "x = residual_block(x, 64, 1)\n",
    "x = residual_block(x, 64, 2) #4 blocks of these in ProtCNN\n",
    "x = tf.keras.layers.MaxPooling1D(2000)(x)\n",
    "\n",
    "x = tf.keras.layers.Flatten()(x)\n",
    "x = tf.keras.layers.Dropout(0.3)(x) #only makes training error worse\n",
    "out = tf.keras.layers.Dense(numclass, activation=\"softmax\")(x) \n",
    "\n",
    "model = tf.keras.Model(inputs=input_x, outputs=out)\n",
    "#optimizer = tf.keras.optimizers.Adam(lr=1e-5)\n",
    "\n",
    "model.compile(loss='sparse_categorical_crossentropy',optimizer=\"adam\",metrics=['accuracy'])\n",
    "model.summary()"
   ]
  },
  {
   "cell_type": "code",
   "execution_count": 29,
   "metadata": {
    "colab": {
     "base_uri": "https://localhost:8080/",
     "height": 386
    },
    "colab_type": "code",
    "id": "I-GgPN6_OoFj",
    "outputId": "40067b50-b3ce-4d2d-f04a-a6364511eff7"
   },
   "outputs": [
    {
     "name": "stdout",
     "output_type": "stream",
     "text": [
      "Epoch 1/25\n",
      "151/151 - 3s - loss: 0.1502 - accuracy: 0.9536 - val_loss: 0.5094 - val_accuracy: 0.8626\n",
      "Epoch 2/25\n",
      "151/151 - 3s - loss: 0.1479 - accuracy: 0.9495 - val_loss: 0.5134 - val_accuracy: 0.8742\n",
      "Epoch 3/25\n",
      "151/151 - 3s - loss: 0.1517 - accuracy: 0.9551 - val_loss: 0.4918 - val_accuracy: 0.8808\n",
      "Epoch 4/25\n",
      "151/151 - 3s - loss: 0.1217 - accuracy: 0.9627 - val_loss: 0.4701 - val_accuracy: 0.8808\n",
      "Epoch 5/25\n",
      "151/151 - 3s - loss: 0.1270 - accuracy: 0.9592 - val_loss: 0.4903 - val_accuracy: 0.8733\n",
      "Epoch 6/25\n",
      "151/151 - 3s - loss: 0.1051 - accuracy: 0.9654 - val_loss: 0.4568 - val_accuracy: 0.8833\n",
      "Epoch 7/25\n",
      "151/151 - 3s - loss: 0.1037 - accuracy: 0.9698 - val_loss: 0.4755 - val_accuracy: 0.8874\n",
      "Epoch 8/25\n",
      "151/151 - 3s - loss: 0.1114 - accuracy: 0.9627 - val_loss: 0.4828 - val_accuracy: 0.8849\n",
      "Epoch 9/25\n",
      "151/151 - 3s - loss: 0.1147 - accuracy: 0.9646 - val_loss: 0.6134 - val_accuracy: 0.8692\n",
      "Epoch 10/25\n",
      "151/151 - 3s - loss: 0.1073 - accuracy: 0.9625 - val_loss: 0.4532 - val_accuracy: 0.8800\n",
      "Epoch 11/25\n",
      "151/151 - 3s - loss: 0.1044 - accuracy: 0.9652 - val_loss: 0.5137 - val_accuracy: 0.8866\n"
     ]
    }
   ],
   "source": [
    "es = tf.keras.callbacks.EarlyStopping(monitor='val_loss', mode='min', min_delta=0.01, patience=5)\n",
    "history = model.fit(train_padded, train_labels, epochs=25, validation_data=(validation_padded, validation_labels), verbose=2, callbacks=[es])"
   ]
  },
  {
   "cell_type": "code",
   "execution_count": 30,
   "metadata": {},
   "outputs": [],
   "source": [
    "preds = model.predict(validation_padded)\n",
    "\n",
    "mask = (validation_labels == 27) #27 is negative\n",
    "\n",
    "predictions = np.argmax(preds, axis=1)\n",
    "\n",
    "y_true = validation_labels.copy()\n",
    "y_true[~mask] = 1\n",
    "y_true[mask] = 0\n",
    "\n",
    "mask = (predictions == 27)\n",
    "y_pred = predictions\n",
    "y_pred[~mask] = 1\n",
    "y_pred[mask] = 0"
   ]
  },
  {
   "cell_type": "code",
   "execution_count": 31,
   "metadata": {},
   "outputs": [
    {
     "name": "stdout",
     "output_type": "stream",
     "text": [
      "True positive: 390, false positive: 8, true negative: 728, false negative: 82\n",
      "\n",
      "MCC: 0.846442\n",
      "Accuracy: 92.55%\n",
      "F1 score: 0.90\n",
      "Precision: 0.98\n",
      "Recall: 0.83\n"
     ]
    }
   ],
   "source": [
    "get_performance_vals(y_pred, y_true)"
   ]
  },
  {
   "cell_type": "code",
   "execution_count": 34,
   "metadata": {
    "colab": {
     "base_uri": "https://localhost:8080/",
     "height": 33
    },
    "colab_type": "code",
    "id": "V9t0EJG86j7d",
    "outputId": "a567c4c3-9d93-481d-ee9f-e4ea3b93072f"
   },
   "outputs": [
    {
     "name": "stdout",
     "output_type": "stream",
     "text": [
      "Loaded model from disk\n"
     ]
    }
   ],
   "source": [
    "# load BEST model (json) and create model\n",
    "json_file = open(os.path.join(\"./\", \"TAPE_PF_culled_model.json\"), 'r')\n",
    "loaded_model_json = json_file.read()\n",
    "json_file.close()\n",
    "loaded_model = tf.keras.models.model_from_json(loaded_model_json)\n",
    "# load weights into new model\n",
    "loaded_model.load_weights(os.path.join(\"./\", \"TAPE_PF_culled_model.h5\"))\n",
    "print(\"Loaded model from disk\")\n",
    " \n",
    "# calculate embedding for new data\n",
    "embedder = tf.keras.Model(inputs = loaded_model.layers[0].input, outputs = loaded_model.layers[17].output)\n",
    "# embedder.compile(loss='categorical_crossentropy',optimizer=\"adam\")\n",
    "# predict should be allowed to use w/o compilation: \n",
    "# https://github.com/keras-team/keras/issues/2621\n",
    "# embeds = loaded_model.predict(test_padded[:10])"
   ]
  },
  {
   "cell_type": "code",
   "execution_count": 35,
   "metadata": {},
   "outputs": [],
   "source": [
    "path = \"./\" + \"TAPEncoded_train\" + \".pickle\"\n",
    "array_file = open(path, 'rb')\n",
    "TAPEncoded_train = pickle.load(array_file)\n",
    "array_file.close()\n",
    "\n",
    "path = \"./\" + \"TAPEncoded_val\" + \".pickle\"\n",
    "array_file = open(path, 'rb')\n",
    "TAPEncoded_val = pickle.load(array_file)\n",
    "array_file.close()"
   ]
  },
  {
   "cell_type": "code",
   "execution_count": 36,
   "metadata": {},
   "outputs": [],
   "source": [
    "TAPEncoded_train = np.array(TAPEncoded_train)\n",
    "TAPEncoded_train = np.squeeze(TAPEncoded_train)\n",
    "\n",
    "TAPEncoded_val = np.array(TAPEncoded_val)\n",
    "TAPEncoded_val = np.squeeze(TAPEncoded_val)"
   ]
  },
  {
   "cell_type": "code",
   "execution_count": 37,
   "metadata": {},
   "outputs": [
    {
     "data": {
      "text/plain": [
       "(1208, 2000, 768)"
      ]
     },
     "execution_count": 37,
     "metadata": {},
     "output_type": "execute_result"
    }
   ],
   "source": [
    "TAPEncoded_val.shape"
   ]
  },
  {
   "cell_type": "code",
   "execution_count": 38,
   "metadata": {},
   "outputs": [],
   "source": [
    "train_embed = embedder.predict(TAPEncoded_train)\n",
    "val_embed = embedder.predict(TAPEncoded_val)"
   ]
  },
  {
   "cell_type": "code",
   "execution_count": 39,
   "metadata": {},
   "outputs": [],
   "source": [
    "path = \"./\" + \"PFmodelEmbed_train\" + \".pickle\"\n",
    "output = open(path, 'w+b')\n",
    "pickle.dump(train_embed, output)\n",
    "output.close()\n",
    "\n",
    "path = \"./\" + \"PFmodelEmbed_val\" + \".pickle\"\n",
    "output = open(path, 'w+b')\n",
    "pickle.dump(val_embed, output)\n",
    "output.close()"
   ]
  },
  {
   "cell_type": "code",
   "execution_count": 40,
   "metadata": {},
   "outputs": [
    {
     "data": {
      "text/plain": [
       "(1208, 64)"
      ]
     },
     "execution_count": 40,
     "metadata": {},
     "output_type": "execute_result"
    }
   ],
   "source": [
    "val_embed.shape"
   ]
  },
  {
   "cell_type": "code",
   "execution_count": 44,
   "metadata": {},
   "outputs": [],
   "source": [
    "import umap\n",
    "import umap.plot\n",
    "\n",
    "valid_mapper = umap.UMAP().fit(val_embed)"
   ]
  },
  {
   "cell_type": "code",
   "execution_count": 41,
   "metadata": {},
   "outputs": [],
   "source": [
    "hover_data = pd.DataFrame({'index':np.arange(1208),\n",
    "                           'label':validation_labels})\n",
    "\n",
    "hover_data['item'] = hover_data.label.map(umap_map)"
   ]
  },
  {
   "cell_type": "code",
   "execution_count": 42,
   "metadata": {},
   "outputs": [
    {
     "data": {
      "text/plain": [
       "0                                                negative\n",
       "1                                                negative\n",
       "2         PF06355_aegerolysin_full_length_sequences.fasta\n",
       "3       PF06369_anemone_cytotox_full_length_sequences....\n",
       "4                                                negative\n",
       "                              ...                        \n",
       "1203    PF11393_T4BSS_dotI_icml_full_length_sequences....\n",
       "1204        PF01117_aerolysin_full_length_sequences.fasta\n",
       "1205                                             negative\n",
       "1206        PF07367_fb_lectin_full_length_sequences.fasta\n",
       "1207         PF03318_etx_mtx2_full_length_sequences.fasta\n",
       "Name: item, Length: 1208, dtype: object"
      ]
     },
     "execution_count": 42,
     "metadata": {},
     "output_type": "execute_result"
    }
   ],
   "source": [
    "hover_data['item']"
   ]
  },
  {
   "cell_type": "code",
   "execution_count": 45,
   "metadata": {},
   "outputs": [
    {
     "data": {
      "text/html": [
       "\n",
       "    <div class=\"bk-root\">\n",
       "        <a href=\"https://bokeh.org\" target=\"_blank\" class=\"bk-logo bk-logo-small bk-logo-notebook\"></a>\n",
       "        <span id=\"1040\">Loading BokehJS ...</span>\n",
       "    </div>"
      ]
     },
     "metadata": {},
     "output_type": "display_data"
    },
    {
     "data": {
      "application/javascript": [
       "\n",
       "(function(root) {\n",
       "  function now() {\n",
       "    return new Date();\n",
       "  }\n",
       "\n",
       "  var force = true;\n",
       "\n",
       "  if (typeof root._bokeh_onload_callbacks === \"undefined\" || force === true) {\n",
       "    root._bokeh_onload_callbacks = [];\n",
       "    root._bokeh_is_loading = undefined;\n",
       "  }\n",
       "\n",
       "  var JS_MIME_TYPE = 'application/javascript';\n",
       "  var HTML_MIME_TYPE = 'text/html';\n",
       "  var EXEC_MIME_TYPE = 'application/vnd.bokehjs_exec.v0+json';\n",
       "  var CLASS_NAME = 'output_bokeh rendered_html';\n",
       "\n",
       "  /**\n",
       "   * Render data to the DOM node\n",
       "   */\n",
       "  function render(props, node) {\n",
       "    var script = document.createElement(\"script\");\n",
       "    node.appendChild(script);\n",
       "  }\n",
       "\n",
       "  /**\n",
       "   * Handle when an output is cleared or removed\n",
       "   */\n",
       "  function handleClearOutput(event, handle) {\n",
       "    var cell = handle.cell;\n",
       "\n",
       "    var id = cell.output_area._bokeh_element_id;\n",
       "    var server_id = cell.output_area._bokeh_server_id;\n",
       "    // Clean up Bokeh references\n",
       "    if (id != null && id in Bokeh.index) {\n",
       "      Bokeh.index[id].model.document.clear();\n",
       "      delete Bokeh.index[id];\n",
       "    }\n",
       "\n",
       "    if (server_id !== undefined) {\n",
       "      // Clean up Bokeh references\n",
       "      var cmd = \"from bokeh.io.state import curstate; print(curstate().uuid_to_server['\" + server_id + \"'].get_sessions()[0].document.roots[0]._id)\";\n",
       "      cell.notebook.kernel.execute(cmd, {\n",
       "        iopub: {\n",
       "          output: function(msg) {\n",
       "            var id = msg.content.text.trim();\n",
       "            if (id in Bokeh.index) {\n",
       "              Bokeh.index[id].model.document.clear();\n",
       "              delete Bokeh.index[id];\n",
       "            }\n",
       "          }\n",
       "        }\n",
       "      });\n",
       "      // Destroy server and session\n",
       "      var cmd = \"import bokeh.io.notebook as ion; ion.destroy_server('\" + server_id + \"')\";\n",
       "      cell.notebook.kernel.execute(cmd);\n",
       "    }\n",
       "  }\n",
       "\n",
       "  /**\n",
       "   * Handle when a new output is added\n",
       "   */\n",
       "  function handleAddOutput(event, handle) {\n",
       "    var output_area = handle.output_area;\n",
       "    var output = handle.output;\n",
       "\n",
       "    // limit handleAddOutput to display_data with EXEC_MIME_TYPE content only\n",
       "    if ((output.output_type != \"display_data\") || (!output.data.hasOwnProperty(EXEC_MIME_TYPE))) {\n",
       "      return\n",
       "    }\n",
       "\n",
       "    var toinsert = output_area.element.find(\".\" + CLASS_NAME.split(' ')[0]);\n",
       "\n",
       "    if (output.metadata[EXEC_MIME_TYPE][\"id\"] !== undefined) {\n",
       "      toinsert[toinsert.length - 1].firstChild.textContent = output.data[JS_MIME_TYPE];\n",
       "      // store reference to embed id on output_area\n",
       "      output_area._bokeh_element_id = output.metadata[EXEC_MIME_TYPE][\"id\"];\n",
       "    }\n",
       "    if (output.metadata[EXEC_MIME_TYPE][\"server_id\"] !== undefined) {\n",
       "      var bk_div = document.createElement(\"div\");\n",
       "      bk_div.innerHTML = output.data[HTML_MIME_TYPE];\n",
       "      var script_attrs = bk_div.children[0].attributes;\n",
       "      for (var i = 0; i < script_attrs.length; i++) {\n",
       "        toinsert[toinsert.length - 1].firstChild.setAttribute(script_attrs[i].name, script_attrs[i].value);\n",
       "        toinsert[toinsert.length - 1].firstChild.textContent = bk_div.children[0].textContent\n",
       "      }\n",
       "      // store reference to server id on output_area\n",
       "      output_area._bokeh_server_id = output.metadata[EXEC_MIME_TYPE][\"server_id\"];\n",
       "    }\n",
       "  }\n",
       "\n",
       "  function register_renderer(events, OutputArea) {\n",
       "\n",
       "    function append_mime(data, metadata, element) {\n",
       "      // create a DOM node to render to\n",
       "      var toinsert = this.create_output_subarea(\n",
       "        metadata,\n",
       "        CLASS_NAME,\n",
       "        EXEC_MIME_TYPE\n",
       "      );\n",
       "      this.keyboard_manager.register_events(toinsert);\n",
       "      // Render to node\n",
       "      var props = {data: data, metadata: metadata[EXEC_MIME_TYPE]};\n",
       "      render(props, toinsert[toinsert.length - 1]);\n",
       "      element.append(toinsert);\n",
       "      return toinsert\n",
       "    }\n",
       "\n",
       "    /* Handle when an output is cleared or removed */\n",
       "    events.on('clear_output.CodeCell', handleClearOutput);\n",
       "    events.on('delete.Cell', handleClearOutput);\n",
       "\n",
       "    /* Handle when a new output is added */\n",
       "    events.on('output_added.OutputArea', handleAddOutput);\n",
       "\n",
       "    /**\n",
       "     * Register the mime type and append_mime function with output_area\n",
       "     */\n",
       "    OutputArea.prototype.register_mime_type(EXEC_MIME_TYPE, append_mime, {\n",
       "      /* Is output safe? */\n",
       "      safe: true,\n",
       "      /* Index of renderer in `output_area.display_order` */\n",
       "      index: 0\n",
       "    });\n",
       "  }\n",
       "\n",
       "  // register the mime type if in Jupyter Notebook environment and previously unregistered\n",
       "  if (root.Jupyter !== undefined) {\n",
       "    var events = require('base/js/events');\n",
       "    var OutputArea = require('notebook/js/outputarea').OutputArea;\n",
       "\n",
       "    if (OutputArea.prototype.mime_types().indexOf(EXEC_MIME_TYPE) == -1) {\n",
       "      register_renderer(events, OutputArea);\n",
       "    }\n",
       "  }\n",
       "\n",
       "  \n",
       "  if (typeof (root._bokeh_timeout) === \"undefined\" || force === true) {\n",
       "    root._bokeh_timeout = Date.now() + 5000;\n",
       "    root._bokeh_failed_load = false;\n",
       "  }\n",
       "\n",
       "  var NB_LOAD_WARNING = {'data': {'text/html':\n",
       "     \"<div style='background-color: #fdd'>\\n\"+\n",
       "     \"<p>\\n\"+\n",
       "     \"BokehJS does not appear to have successfully loaded. If loading BokehJS from CDN, this \\n\"+\n",
       "     \"may be due to a slow or bad network connection. Possible fixes:\\n\"+\n",
       "     \"</p>\\n\"+\n",
       "     \"<ul>\\n\"+\n",
       "     \"<li>re-rerun `output_notebook()` to attempt to load from CDN again, or</li>\\n\"+\n",
       "     \"<li>use INLINE resources instead, as so:</li>\\n\"+\n",
       "     \"</ul>\\n\"+\n",
       "     \"<code>\\n\"+\n",
       "     \"from bokeh.resources import INLINE\\n\"+\n",
       "     \"output_notebook(resources=INLINE)\\n\"+\n",
       "     \"</code>\\n\"+\n",
       "     \"</div>\"}};\n",
       "\n",
       "  function display_loaded() {\n",
       "    var el = document.getElementById(\"1040\");\n",
       "    if (el != null) {\n",
       "      el.textContent = \"BokehJS is loading...\";\n",
       "    }\n",
       "    if (root.Bokeh !== undefined) {\n",
       "      if (el != null) {\n",
       "        el.textContent = \"BokehJS \" + root.Bokeh.version + \" successfully loaded.\";\n",
       "      }\n",
       "    } else if (Date.now() < root._bokeh_timeout) {\n",
       "      setTimeout(display_loaded, 100)\n",
       "    }\n",
       "  }\n",
       "\n",
       "\n",
       "  function run_callbacks() {\n",
       "    try {\n",
       "      root._bokeh_onload_callbacks.forEach(function(callback) {\n",
       "        if (callback != null)\n",
       "          callback();\n",
       "      });\n",
       "    } finally {\n",
       "      delete root._bokeh_onload_callbacks\n",
       "    }\n",
       "    console.debug(\"Bokeh: all callbacks have finished\");\n",
       "  }\n",
       "\n",
       "  function load_libs(css_urls, js_urls, callback) {\n",
       "    if (css_urls == null) css_urls = [];\n",
       "    if (js_urls == null) js_urls = [];\n",
       "\n",
       "    root._bokeh_onload_callbacks.push(callback);\n",
       "    if (root._bokeh_is_loading > 0) {\n",
       "      console.debug(\"Bokeh: BokehJS is being loaded, scheduling callback at\", now());\n",
       "      return null;\n",
       "    }\n",
       "    if (js_urls == null || js_urls.length === 0) {\n",
       "      run_callbacks();\n",
       "      return null;\n",
       "    }\n",
       "    console.debug(\"Bokeh: BokehJS not loaded, scheduling load and callback at\", now());\n",
       "    root._bokeh_is_loading = css_urls.length + js_urls.length;\n",
       "\n",
       "    function on_load() {\n",
       "      root._bokeh_is_loading--;\n",
       "      if (root._bokeh_is_loading === 0) {\n",
       "        console.debug(\"Bokeh: all BokehJS libraries/stylesheets loaded\");\n",
       "        run_callbacks()\n",
       "      }\n",
       "    }\n",
       "\n",
       "    function on_error() {\n",
       "      console.error(\"failed to load \" + url);\n",
       "    }\n",
       "\n",
       "    for (var i = 0; i < css_urls.length; i++) {\n",
       "      var url = css_urls[i];\n",
       "      const element = document.createElement(\"link\");\n",
       "      element.onload = on_load;\n",
       "      element.onerror = on_error;\n",
       "      element.rel = \"stylesheet\";\n",
       "      element.type = \"text/css\";\n",
       "      element.href = url;\n",
       "      console.debug(\"Bokeh: injecting link tag for BokehJS stylesheet: \", url);\n",
       "      document.body.appendChild(element);\n",
       "    }\n",
       "\n",
       "    const hashes = {\"https://cdn.bokeh.org/bokeh/release/bokeh-2.1.0.min.js\": \"YobFyzPeVUsFQydHkJGsJL1kyfHnWxOlPc3EwaV22TmBaeGoXHLWx5aRRVPS9xlE\", \"https://cdn.bokeh.org/bokeh/release/bokeh-widgets-2.1.0.min.js\": \"NuAg9+TcTQQqvQCTtkCneRrpkTiMhhfiq0KHiBzx8ECiKiLWXHN6i6ia3q7b3eHu\", \"https://cdn.bokeh.org/bokeh/release/bokeh-tables-2.1.0.min.js\": \"uMVqQc8JqHitD67bXTn9a06Mrk3EiHRaZ18EJENQenAKJ/KL71SakdXYomZQpGRr\", \"https://cdn.bokeh.org/bokeh/release/bokeh-gl-2.1.0.min.js\": \"u+eGuEXC8aw0VSCm2mH+b/tQEAitUOYiR1H6SuIVEdUmXsf4vN8m/SmXpmjb7U/X\"};\n",
       "\n",
       "    for (var i = 0; i < js_urls.length; i++) {\n",
       "      var url = js_urls[i];\n",
       "      var element = document.createElement('script');\n",
       "      element.onload = on_load;\n",
       "      element.onerror = on_error;\n",
       "      element.async = false;\n",
       "      element.src = url;\n",
       "      if (url in hashes) {\n",
       "        element.crossOrigin = \"anonymous\";\n",
       "        element.integrity = \"sha384-\" + hashes[url];\n",
       "      }\n",
       "      console.debug(\"Bokeh: injecting script tag for BokehJS library: \", url);\n",
       "      document.head.appendChild(element);\n",
       "    }\n",
       "  };\n",
       "\n",
       "  function inject_raw_css(css) {\n",
       "    const element = document.createElement(\"style\");\n",
       "    element.appendChild(document.createTextNode(css));\n",
       "    document.body.appendChild(element);\n",
       "  }\n",
       "\n",
       "  \n",
       "  var js_urls = [\"https://cdn.bokeh.org/bokeh/release/bokeh-2.1.0.min.js\", \"https://cdn.bokeh.org/bokeh/release/bokeh-widgets-2.1.0.min.js\", \"https://cdn.bokeh.org/bokeh/release/bokeh-tables-2.1.0.min.js\", \"https://cdn.bokeh.org/bokeh/release/bokeh-gl-2.1.0.min.js\", \"https://unpkg.com/@holoviz/panel@^0.9.5/dist/panel.min.js\"];\n",
       "  var css_urls = [];\n",
       "  \n",
       "\n",
       "  var inline_js = [\n",
       "    function(Bokeh) {\n",
       "      inject_raw_css(\"table.panel-df {\\n    margin-left: auto;\\n    margin-right: auto;\\n    border: none;\\n    border-collapse: collapse;\\n    border-spacing: 0;\\n    color: black;\\n    font-size: 12px;\\n    table-layout: fixed;\\n    width: 100%;\\n}\\n\\n.panel-df tr, th, td {\\n    text-align: right;\\n    vertical-align: middle;\\n    padding: 0.5em 0.5em !important;\\n    line-height: normal;\\n    white-space: normal;\\n    max-width: none;\\n    border: none;\\n}\\n\\n.panel-df tbody {\\n    display: table-row-group;\\n    vertical-align: middle;\\n    border-color: inherit;\\n}\\n\\n.panel-df tbody tr:nth-child(odd) {\\n    background: #f5f5f5;\\n}\\n\\n.panel-df thead {\\n    border-bottom: 1px solid black;\\n    vertical-align: bottom;\\n}\\n\\n.panel-df tr:hover {\\n    background: lightblue !important;\\n    cursor: pointer;\\n}\\n\");\n",
       "    },\n",
       "    function(Bokeh) {\n",
       "      inject_raw_css(\".json-formatter-row {\\n  font-family: monospace;\\n}\\n.json-formatter-row,\\n.json-formatter-row a,\\n.json-formatter-row a:hover {\\n  color: black;\\n  text-decoration: none;\\n}\\n.json-formatter-row .json-formatter-row {\\n  margin-left: 1rem;\\n}\\n.json-formatter-row .json-formatter-children.json-formatter-empty {\\n  opacity: 0.5;\\n  margin-left: 1rem;\\n}\\n.json-formatter-row .json-formatter-children.json-formatter-empty:after {\\n  display: none;\\n}\\n.json-formatter-row .json-formatter-children.json-formatter-empty.json-formatter-object:after {\\n  content: \\\"No properties\\\";\\n}\\n.json-formatter-row .json-formatter-children.json-formatter-empty.json-formatter-array:after {\\n  content: \\\"[]\\\";\\n}\\n.json-formatter-row .json-formatter-string,\\n.json-formatter-row .json-formatter-stringifiable {\\n  color: green;\\n  white-space: pre;\\n  word-wrap: break-word;\\n}\\n.json-formatter-row .json-formatter-number {\\n  color: blue;\\n}\\n.json-formatter-row .json-formatter-boolean {\\n  color: red;\\n}\\n.json-formatter-row .json-formatter-null {\\n  color: #855A00;\\n}\\n.json-formatter-row .json-formatter-undefined {\\n  color: #ca0b69;\\n}\\n.json-formatter-row .json-formatter-function {\\n  color: #FF20ED;\\n}\\n.json-formatter-row .json-formatter-date {\\n  background-color: rgba(0, 0, 0, 0.05);\\n}\\n.json-formatter-row .json-formatter-url {\\n  text-decoration: underline;\\n  color: blue;\\n  cursor: pointer;\\n}\\n.json-formatter-row .json-formatter-bracket {\\n  color: blue;\\n}\\n.json-formatter-row .json-formatter-key {\\n  color: #00008B;\\n  padding-right: 0.2rem;\\n}\\n.json-formatter-row .json-formatter-toggler-link {\\n  cursor: pointer;\\n}\\n.json-formatter-row .json-formatter-toggler {\\n  line-height: 1.2rem;\\n  font-size: 0.7rem;\\n  vertical-align: middle;\\n  opacity: 0.6;\\n  cursor: pointer;\\n  padding-right: 0.2rem;\\n}\\n.json-formatter-row .json-formatter-toggler:after {\\n  display: inline-block;\\n  transition: transform 100ms ease-in;\\n  content: \\\"\\\\25BA\\\";\\n}\\n.json-formatter-row > a > .json-formatter-preview-text {\\n  opacity: 0;\\n  transition: opacity 0.15s ease-in;\\n  font-style: italic;\\n}\\n.json-formatter-row:hover > a > .json-formatter-preview-text {\\n  opacity: 0.6;\\n}\\n.json-formatter-row.json-formatter-open > .json-formatter-toggler-link .json-formatter-toggler:after {\\n  transform: rotate(90deg);\\n}\\n.json-formatter-row.json-formatter-open > .json-formatter-children:after {\\n  display: inline-block;\\n}\\n.json-formatter-row.json-formatter-open > a > .json-formatter-preview-text {\\n  display: none;\\n}\\n.json-formatter-row.json-formatter-open.json-formatter-empty:after {\\n  display: block;\\n}\\n.json-formatter-dark.json-formatter-row {\\n  font-family: monospace;\\n}\\n.json-formatter-dark.json-formatter-row,\\n.json-formatter-dark.json-formatter-row a,\\n.json-formatter-dark.json-formatter-row a:hover {\\n  color: white;\\n  text-decoration: none;\\n}\\n.json-formatter-dark.json-formatter-row .json-formatter-row {\\n  margin-left: 1rem;\\n}\\n.json-formatter-dark.json-formatter-row .json-formatter-children.json-formatter-empty {\\n  opacity: 0.5;\\n  margin-left: 1rem;\\n}\\n.json-formatter-dark.json-formatter-row .json-formatter-children.json-formatter-empty:after {\\n  display: none;\\n}\\n.json-formatter-dark.json-formatter-row .json-formatter-children.json-formatter-empty.json-formatter-object:after {\\n  content: \\\"No properties\\\";\\n}\\n.json-formatter-dark.json-formatter-row .json-formatter-children.json-formatter-empty.json-formatter-array:after {\\n  content: \\\"[]\\\";\\n}\\n.json-formatter-dark.json-formatter-row .json-formatter-string,\\n.json-formatter-dark.json-formatter-row .json-formatter-stringifiable {\\n  color: #31F031;\\n  white-space: pre;\\n  word-wrap: break-word;\\n}\\n.json-formatter-dark.json-formatter-row .json-formatter-number {\\n  color: #66C2FF;\\n}\\n.json-formatter-dark.json-formatter-row .json-formatter-boolean {\\n  color: #EC4242;\\n}\\n.json-formatter-dark.json-formatter-row .json-formatter-null {\\n  color: #EEC97D;\\n}\\n.json-formatter-dark.json-formatter-row .json-formatter-undefined {\\n  color: #ef8fbe;\\n}\\n.json-formatter-dark.json-formatter-row .json-formatter-function {\\n  color: #FD48CB;\\n}\\n.json-formatter-dark.json-formatter-row .json-formatter-date {\\n  background-color: rgba(255, 255, 255, 0.05);\\n}\\n.json-formatter-dark.json-formatter-row .json-formatter-url {\\n  text-decoration: underline;\\n  color: #027BFF;\\n  cursor: pointer;\\n}\\n.json-formatter-dark.json-formatter-row .json-formatter-bracket {\\n  color: #9494FF;\\n}\\n.json-formatter-dark.json-formatter-row .json-formatter-key {\\n  color: #23A0DB;\\n  padding-right: 0.2rem;\\n}\\n.json-formatter-dark.json-formatter-row .json-formatter-toggler-link {\\n  cursor: pointer;\\n}\\n.json-formatter-dark.json-formatter-row .json-formatter-toggler {\\n  line-height: 1.2rem;\\n  font-size: 0.7rem;\\n  vertical-align: middle;\\n  opacity: 0.6;\\n  cursor: pointer;\\n  padding-right: 0.2rem;\\n}\\n.json-formatter-dark.json-formatter-row .json-formatter-toggler:after {\\n  display: inline-block;\\n  transition: transform 100ms ease-in;\\n  content: \\\"\\\\25BA\\\";\\n}\\n.json-formatter-dark.json-formatter-row > a > .json-formatter-preview-text {\\n  opacity: 0;\\n  transition: opacity 0.15s ease-in;\\n  font-style: italic;\\n}\\n.json-formatter-dark.json-formatter-row:hover > a > .json-formatter-preview-text {\\n  opacity: 0.6;\\n}\\n.json-formatter-dark.json-formatter-row.json-formatter-open > .json-formatter-toggler-link .json-formatter-toggler:after {\\n  transform: rotate(90deg);\\n}\\n.json-formatter-dark.json-formatter-row.json-formatter-open > .json-formatter-children:after {\\n  display: inline-block;\\n}\\n.json-formatter-dark.json-formatter-row.json-formatter-open > a > .json-formatter-preview-text {\\n  display: none;\\n}\\n.json-formatter-dark.json-formatter-row.json-formatter-open.json-formatter-empty:after {\\n  display: block;\\n}\\n\");\n",
       "    },\n",
       "    function(Bokeh) {\n",
       "      inject_raw_css(\".codehilite .hll { background-color: #ffffcc }\\n.codehilite  { background: #f8f8f8; }\\n.codehilite .c { color: #408080; font-style: italic } /* Comment */\\n.codehilite .err { border: 1px solid #FF0000 } /* Error */\\n.codehilite .k { color: #008000; font-weight: bold } /* Keyword */\\n.codehilite .o { color: #666666 } /* Operator */\\n.codehilite .ch { color: #408080; font-style: italic } /* Comment.Hashbang */\\n.codehilite .cm { color: #408080; font-style: italic } /* Comment.Multiline */\\n.codehilite .cp { color: #BC7A00 } /* Comment.Preproc */\\n.codehilite .cpf { color: #408080; font-style: italic } /* Comment.PreprocFile */\\n.codehilite .c1 { color: #408080; font-style: italic } /* Comment.Single */\\n.codehilite .cs { color: #408080; font-style: italic } /* Comment.Special */\\n.codehilite .gd { color: #A00000 } /* Generic.Deleted */\\n.codehilite .ge { font-style: italic } /* Generic.Emph */\\n.codehilite .gr { color: #FF0000 } /* Generic.Error */\\n.codehilite .gh { color: #000080; font-weight: bold } /* Generic.Heading */\\n.codehilite .gi { color: #00A000 } /* Generic.Inserted */\\n.codehilite .go { color: #888888 } /* Generic.Output */\\n.codehilite .gp { color: #000080; font-weight: bold } /* Generic.Prompt */\\n.codehilite .gs { font-weight: bold } /* Generic.Strong */\\n.codehilite .gu { color: #800080; font-weight: bold } /* Generic.Subheading */\\n.codehilite .gt { color: #0044DD } /* Generic.Traceback */\\n.codehilite .kc { color: #008000; font-weight: bold } /* Keyword.Constant */\\n.codehilite .kd { color: #008000; font-weight: bold } /* Keyword.Declaration */\\n.codehilite .kn { color: #008000; font-weight: bold } /* Keyword.Namespace */\\n.codehilite .kp { color: #008000 } /* Keyword.Pseudo */\\n.codehilite .kr { color: #008000; font-weight: bold } /* Keyword.Reserved */\\n.codehilite .kt { color: #B00040 } /* Keyword.Type */\\n.codehilite .m { color: #666666 } /* Literal.Number */\\n.codehilite .s { color: #BA2121 } /* Literal.String */\\n.codehilite .na { color: #7D9029 } /* Name.Attribute */\\n.codehilite .nb { color: #008000 } /* Name.Builtin */\\n.codehilite .nc { color: #0000FF; font-weight: bold } /* Name.Class */\\n.codehilite .no { color: #880000 } /* Name.Constant */\\n.codehilite .nd { color: #AA22FF } /* Name.Decorator */\\n.codehilite .ni { color: #999999; font-weight: bold } /* Name.Entity */\\n.codehilite .ne { color: #D2413A; font-weight: bold } /* Name.Exception */\\n.codehilite .nf { color: #0000FF } /* Name.Function */\\n.codehilite .nl { color: #A0A000 } /* Name.Label */\\n.codehilite .nn { color: #0000FF; font-weight: bold } /* Name.Namespace */\\n.codehilite .nt { color: #008000; font-weight: bold } /* Name.Tag */\\n.codehilite .nv { color: #19177C } /* Name.Variable */\\n.codehilite .ow { color: #AA22FF; font-weight: bold } /* Operator.Word */\\n.codehilite .w { color: #bbbbbb } /* Text.Whitespace */\\n.codehilite .mb { color: #666666 } /* Literal.Number.Bin */\\n.codehilite .mf { color: #666666 } /* Literal.Number.Float */\\n.codehilite .mh { color: #666666 } /* Literal.Number.Hex */\\n.codehilite .mi { color: #666666 } /* Literal.Number.Integer */\\n.codehilite .mo { color: #666666 } /* Literal.Number.Oct */\\n.codehilite .sa { color: #BA2121 } /* Literal.String.Affix */\\n.codehilite .sb { color: #BA2121 } /* Literal.String.Backtick */\\n.codehilite .sc { color: #BA2121 } /* Literal.String.Char */\\n.codehilite .dl { color: #BA2121 } /* Literal.String.Delimiter */\\n.codehilite .sd { color: #BA2121; font-style: italic } /* Literal.String.Doc */\\n.codehilite .s2 { color: #BA2121 } /* Literal.String.Double */\\n.codehilite .se { color: #BB6622; font-weight: bold } /* Literal.String.Escape */\\n.codehilite .sh { color: #BA2121 } /* Literal.String.Heredoc */\\n.codehilite .si { color: #BB6688; font-weight: bold } /* Literal.String.Interpol */\\n.codehilite .sx { color: #008000 } /* Literal.String.Other */\\n.codehilite .sr { color: #BB6688 } /* Literal.String.Regex */\\n.codehilite .s1 { color: #BA2121 } /* Literal.String.Single */\\n.codehilite .ss { color: #19177C } /* Literal.String.Symbol */\\n.codehilite .bp { color: #008000 } /* Name.Builtin.Pseudo */\\n.codehilite .fm { color: #0000FF } /* Name.Function.Magic */\\n.codehilite .vc { color: #19177C } /* Name.Variable.Class */\\n.codehilite .vg { color: #19177C } /* Name.Variable.Global */\\n.codehilite .vi { color: #19177C } /* Name.Variable.Instance */\\n.codehilite .vm { color: #19177C } /* Name.Variable.Magic */\\n.codehilite .il { color: #666666 } /* Literal.Number.Integer.Long */\\n\\n.markdown h1 { margin-block-start: 0.34em }\\n.markdown h2 { margin-block-start: 0.42em }\\n.markdown h3 { margin-block-start: 0.5em }\\n.markdown h4 { margin-block-start: 0.67em }\\n.markdown h5 { margin-block-start: 0.84em }\\n.markdown h6 { margin-block-start: 1.17em }\\n.markdown ul { padding-inline-start: 2em }\\n.markdown ol { padding-inline-start: 2em }\\n.markdown strong { font-weight: 600 }\\n.markdown a { color: -webkit-link }\\n.markdown a { color: -moz-hyperlinkText }\\n\");\n",
       "    },\n",
       "    function(Bokeh) {\n",
       "      inject_raw_css(\".widget-box {\\n\\tmin-height: 20px;\\n\\tbackground-color: #f5f5f5;\\n\\tborder: 1px solid #e3e3e3 !important;\\n\\tborder-radius: 4px;\\n\\t-webkit-box-shadow: inset 0 1px 1px rgba(0,0,0,.05);\\n\\tbox-shadow: inset 0 1px 1px rgba(0,0,0,.05);\\n\\toverflow-x: hidden;\\n\\toverflow-y: hidden;\\n}\\n\\n.scrollable {\\n  overflow: scroll;\\n}\\n\\nprogress {\\n\\tappearance: none;\\n\\t-moz-appearance: none;\\n\\t-webkit-appearance: none;\\n\\n\\tborder: none;\\n\\theight: 20px;\\n\\tbackground-color: whiteSmoke;\\n\\tborder-radius: 3px;\\n\\tbox-shadow: 0 2px 3px rgba(0,0,0,.5) inset;\\n\\tcolor: royalblue;\\n\\tposition: relative;\\n\\tmargin: 0 0 1.5em;\\n}\\n\\nprogress[value]::-webkit-progress-bar {\\n\\tbackground-color: whiteSmoke;\\n\\tborder-radius: 3px;\\n\\tbox-shadow: 0 2px 3px rgba(0,0,0,.5) inset;\\n}\\n\\nprogress[value]::-webkit-progress-value {\\n\\tposition: relative;\\n\\n\\tbackground-size: 35px 20px, 100% 100%, 100% 100%;\\n\\tborder-radius:3px;\\n}\\n\\nprogress.active:not([value])::before {\\n\\tbackground-position: 10%;\\n\\tanimation-name: stripes;\\n\\tanimation-duration: 3s;\\n\\tanimation-timing-function: linear;\\n\\tanimation-iteration-count: infinite;\\n}\\n\\nprogress[value]::-moz-progress-bar {\\n\\tbackground-size: 35px 20px, 100% 100%, 100% 100%;\\n\\tborder-radius:3px;\\n}\\n\\nprogress:not([value])::-moz-progress-bar {\\n\\tborder-radius:3px;\\n\\tbackground:\\n\\tlinear-gradient(-45deg, transparent 33%, rgba(0, 0, 0, 0.2) 33%, rgba(0, 0, 0, 0.2) 66%, transparent 66%) left/2.5em 1.5em;\\n\\n}\\n\\nprogress.active:not([value])::-moz-progress-bar {\\n\\tbackground-position: 10%;\\n\\tanimation-name: stripes;\\n\\tanimation-duration: 3s;\\n\\tanimation-timing-function: linear;\\n\\tanimation-iteration-count: infinite;\\n}\\n\\nprogress.active:not([value])::-webkit-progress-bar {\\n\\tbackground-position: 10%;\\n\\tanimation-name: stripes;\\n\\tanimation-duration: 3s;\\n\\tanimation-timing-function: linear;\\n\\tanimation-iteration-count: infinite;\\n}\\n\\nprogress.primary[value]::-webkit-progress-value { background-color: #007bff; }\\nprogress.primary:not([value])::before { background-color: #007bff; }\\nprogress.primary:not([value])::-webkit-progress-bar { background-color: #007bff; }\\nprogress.primary::-moz-progress-bar { background-color: #007bff; }\\n\\nprogress.secondary[value]::-webkit-progress-value { background-color: #6c757d; }\\nprogress.secondary:not([value])::before { background-color: #6c757d; }\\nprogress.secondary:not([value])::-webkit-progress-bar { background-color: #6c757d; }\\nprogress.secondary::-moz-progress-bar { background-color: #6c757d; }\\n\\nprogress.success[value]::-webkit-progress-value { background-color: #28a745; }\\nprogress.success:not([value])::before { background-color: #28a745; }\\nprogress.success:not([value])::-webkit-progress-bar { background-color: #28a745; }\\nprogress.success::-moz-progress-bar { background-color: #28a745; }\\n\\nprogress.danger[value]::-webkit-progress-value { background-color: #dc3545; }\\nprogress.danger:not([value])::before { background-color: #dc3545; }\\nprogress.danger:not([value])::-webkit-progress-bar { background-color: #dc3545; }\\nprogress.danger::-moz-progress-bar { background-color: #dc3545; }\\n\\nprogress.warning[value]::-webkit-progress-value { background-color: #ffc107; }\\nprogress.warning:not([value])::before { background-color: #ffc107; }\\nprogress.warning:not([value])::-webkit-progress-bar { background-color: #ffc107; }\\nprogress.warning::-moz-progress-bar { background-color: #ffc107; }\\n\\nprogress.info[value]::-webkit-progress-value { background-color: #17a2b8; }\\nprogress.info:not([value])::before { background-color: #17a2b8; }\\nprogress.info:not([value])::-webkit-progress-bar { background-color: #17a2b8; }\\nprogress.info::-moz-progress-bar { background-color: #17a2b8; }\\n\\nprogress.light[value]::-webkit-progress-value { background-color: #f8f9fa; }\\nprogress.light:not([value])::before { background-color: #f8f9fa; }\\nprogress.light:not([value])::-webkit-progress-bar { background-color: #f8f9fa; }\\nprogress.light::-moz-progress-bar { background-color: #f8f9fa; }\\n\\nprogress.dark[value]::-webkit-progress-value { background-color: #343a40; }\\nprogress.dark:not([value])::-webkit-progress-bar { background-color: #343a40; }\\nprogress.dark:not([value])::before { background-color: #343a40; }\\nprogress.dark::-moz-progress-bar { background-color: #343a40; }\\n\\nprogress:not([value])::-webkit-progress-bar {\\n\\tborder-radius: 3px;\\n\\tbackground:\\n\\tlinear-gradient(-45deg, transparent 33%, rgba(0, 0, 0, 0.2) 33%, rgba(0, 0, 0, 0.2) 66%, transparent 66%) left/2.5em 1.5em;\\n}\\nprogress:not([value])::before {\\n\\tcontent:\\\" \\\";\\n\\tposition:absolute;\\n\\theight: 20px;\\n\\ttop:0;\\n\\tleft:0;\\n\\tright:0;\\n\\tbottom:0;\\n\\tborder-radius: 3px;\\n\\tbackground:\\n\\tlinear-gradient(-45deg, transparent 33%, rgba(0, 0, 0, 0.2) 33%, rgba(0, 0, 0, 0.2) 66%, transparent 66%) left/2.5em 1.5em;\\n}\\n\\n@keyframes stripes {\\n  from {background-position: 0%}\\n  to {background-position: 100%}\\n}\");\n",
       "    },\n",
       "    function(Bokeh) {\n",
       "      Bokeh.set_log_level(\"info\");\n",
       "    },\n",
       "    function(Bokeh) {\n",
       "    \n",
       "    \n",
       "    }\n",
       "  ];\n",
       "\n",
       "  function run_inline_js() {\n",
       "    \n",
       "    if (root.Bokeh !== undefined || force === true) {\n",
       "      \n",
       "    for (var i = 0; i < inline_js.length; i++) {\n",
       "      inline_js[i].call(root, root.Bokeh);\n",
       "    }\n",
       "    if (force === true) {\n",
       "        display_loaded();\n",
       "      }} else if (Date.now() < root._bokeh_timeout) {\n",
       "      setTimeout(run_inline_js, 100);\n",
       "    } else if (!root._bokeh_failed_load) {\n",
       "      console.log(\"Bokeh: BokehJS failed to load within specified timeout.\");\n",
       "      root._bokeh_failed_load = true;\n",
       "    } else if (force !== true) {\n",
       "      var cell = $(document.getElementById(\"1040\")).parents('.cell').data().cell;\n",
       "      cell.output_area.append_execute_result(NB_LOAD_WARNING)\n",
       "    }\n",
       "\n",
       "  }\n",
       "\n",
       "  if (root._bokeh_is_loading === 0) {\n",
       "    console.debug(\"Bokeh: BokehJS loaded, going straight to plotting\");\n",
       "    run_inline_js();\n",
       "  } else {\n",
       "    load_libs(css_urls, js_urls, function() {\n",
       "      console.debug(\"Bokeh: BokehJS plotting callback run at\", now());\n",
       "      run_inline_js();\n",
       "    });\n",
       "  }\n",
       "}(window));"
      ],
      "application/vnd.bokehjs_load.v0+json": "\n(function(root) {\n  function now() {\n    return new Date();\n  }\n\n  var force = true;\n\n  if (typeof root._bokeh_onload_callbacks === \"undefined\" || force === true) {\n    root._bokeh_onload_callbacks = [];\n    root._bokeh_is_loading = undefined;\n  }\n\n  \n\n  \n  if (typeof (root._bokeh_timeout) === \"undefined\" || force === true) {\n    root._bokeh_timeout = Date.now() + 5000;\n    root._bokeh_failed_load = false;\n  }\n\n  var NB_LOAD_WARNING = {'data': {'text/html':\n     \"<div style='background-color: #fdd'>\\n\"+\n     \"<p>\\n\"+\n     \"BokehJS does not appear to have successfully loaded. If loading BokehJS from CDN, this \\n\"+\n     \"may be due to a slow or bad network connection. Possible fixes:\\n\"+\n     \"</p>\\n\"+\n     \"<ul>\\n\"+\n     \"<li>re-rerun `output_notebook()` to attempt to load from CDN again, or</li>\\n\"+\n     \"<li>use INLINE resources instead, as so:</li>\\n\"+\n     \"</ul>\\n\"+\n     \"<code>\\n\"+\n     \"from bokeh.resources import INLINE\\n\"+\n     \"output_notebook(resources=INLINE)\\n\"+\n     \"</code>\\n\"+\n     \"</div>\"}};\n\n  function display_loaded() {\n    var el = document.getElementById(\"1040\");\n    if (el != null) {\n      el.textContent = \"BokehJS is loading...\";\n    }\n    if (root.Bokeh !== undefined) {\n      if (el != null) {\n        el.textContent = \"BokehJS \" + root.Bokeh.version + \" successfully loaded.\";\n      }\n    } else if (Date.now() < root._bokeh_timeout) {\n      setTimeout(display_loaded, 100)\n    }\n  }\n\n\n  function run_callbacks() {\n    try {\n      root._bokeh_onload_callbacks.forEach(function(callback) {\n        if (callback != null)\n          callback();\n      });\n    } finally {\n      delete root._bokeh_onload_callbacks\n    }\n    console.debug(\"Bokeh: all callbacks have finished\");\n  }\n\n  function load_libs(css_urls, js_urls, callback) {\n    if (css_urls == null) css_urls = [];\n    if (js_urls == null) js_urls = [];\n\n    root._bokeh_onload_callbacks.push(callback);\n    if (root._bokeh_is_loading > 0) {\n      console.debug(\"Bokeh: BokehJS is being loaded, scheduling callback at\", now());\n      return null;\n    }\n    if (js_urls == null || js_urls.length === 0) {\n      run_callbacks();\n      return null;\n    }\n    console.debug(\"Bokeh: BokehJS not loaded, scheduling load and callback at\", now());\n    root._bokeh_is_loading = css_urls.length + js_urls.length;\n\n    function on_load() {\n      root._bokeh_is_loading--;\n      if (root._bokeh_is_loading === 0) {\n        console.debug(\"Bokeh: all BokehJS libraries/stylesheets loaded\");\n        run_callbacks()\n      }\n    }\n\n    function on_error() {\n      console.error(\"failed to load \" + url);\n    }\n\n    for (var i = 0; i < css_urls.length; i++) {\n      var url = css_urls[i];\n      const element = document.createElement(\"link\");\n      element.onload = on_load;\n      element.onerror = on_error;\n      element.rel = \"stylesheet\";\n      element.type = \"text/css\";\n      element.href = url;\n      console.debug(\"Bokeh: injecting link tag for BokehJS stylesheet: \", url);\n      document.body.appendChild(element);\n    }\n\n    const hashes = {\"https://cdn.bokeh.org/bokeh/release/bokeh-2.1.0.min.js\": \"YobFyzPeVUsFQydHkJGsJL1kyfHnWxOlPc3EwaV22TmBaeGoXHLWx5aRRVPS9xlE\", \"https://cdn.bokeh.org/bokeh/release/bokeh-widgets-2.1.0.min.js\": \"NuAg9+TcTQQqvQCTtkCneRrpkTiMhhfiq0KHiBzx8ECiKiLWXHN6i6ia3q7b3eHu\", \"https://cdn.bokeh.org/bokeh/release/bokeh-tables-2.1.0.min.js\": \"uMVqQc8JqHitD67bXTn9a06Mrk3EiHRaZ18EJENQenAKJ/KL71SakdXYomZQpGRr\", \"https://cdn.bokeh.org/bokeh/release/bokeh-gl-2.1.0.min.js\": \"u+eGuEXC8aw0VSCm2mH+b/tQEAitUOYiR1H6SuIVEdUmXsf4vN8m/SmXpmjb7U/X\"};\n\n    for (var i = 0; i < js_urls.length; i++) {\n      var url = js_urls[i];\n      var element = document.createElement('script');\n      element.onload = on_load;\n      element.onerror = on_error;\n      element.async = false;\n      element.src = url;\n      if (url in hashes) {\n        element.crossOrigin = \"anonymous\";\n        element.integrity = \"sha384-\" + hashes[url];\n      }\n      console.debug(\"Bokeh: injecting script tag for BokehJS library: \", url);\n      document.head.appendChild(element);\n    }\n  };\n\n  function inject_raw_css(css) {\n    const element = document.createElement(\"style\");\n    element.appendChild(document.createTextNode(css));\n    document.body.appendChild(element);\n  }\n\n  \n  var js_urls = [\"https://cdn.bokeh.org/bokeh/release/bokeh-2.1.0.min.js\", \"https://cdn.bokeh.org/bokeh/release/bokeh-widgets-2.1.0.min.js\", \"https://cdn.bokeh.org/bokeh/release/bokeh-tables-2.1.0.min.js\", \"https://cdn.bokeh.org/bokeh/release/bokeh-gl-2.1.0.min.js\", \"https://unpkg.com/@holoviz/panel@^0.9.5/dist/panel.min.js\"];\n  var css_urls = [];\n  \n\n  var inline_js = [\n    function(Bokeh) {\n      inject_raw_css(\"table.panel-df {\\n    margin-left: auto;\\n    margin-right: auto;\\n    border: none;\\n    border-collapse: collapse;\\n    border-spacing: 0;\\n    color: black;\\n    font-size: 12px;\\n    table-layout: fixed;\\n    width: 100%;\\n}\\n\\n.panel-df tr, th, td {\\n    text-align: right;\\n    vertical-align: middle;\\n    padding: 0.5em 0.5em !important;\\n    line-height: normal;\\n    white-space: normal;\\n    max-width: none;\\n    border: none;\\n}\\n\\n.panel-df tbody {\\n    display: table-row-group;\\n    vertical-align: middle;\\n    border-color: inherit;\\n}\\n\\n.panel-df tbody tr:nth-child(odd) {\\n    background: #f5f5f5;\\n}\\n\\n.panel-df thead {\\n    border-bottom: 1px solid black;\\n    vertical-align: bottom;\\n}\\n\\n.panel-df tr:hover {\\n    background: lightblue !important;\\n    cursor: pointer;\\n}\\n\");\n    },\n    function(Bokeh) {\n      inject_raw_css(\".json-formatter-row {\\n  font-family: monospace;\\n}\\n.json-formatter-row,\\n.json-formatter-row a,\\n.json-formatter-row a:hover {\\n  color: black;\\n  text-decoration: none;\\n}\\n.json-formatter-row .json-formatter-row {\\n  margin-left: 1rem;\\n}\\n.json-formatter-row .json-formatter-children.json-formatter-empty {\\n  opacity: 0.5;\\n  margin-left: 1rem;\\n}\\n.json-formatter-row .json-formatter-children.json-formatter-empty:after {\\n  display: none;\\n}\\n.json-formatter-row .json-formatter-children.json-formatter-empty.json-formatter-object:after {\\n  content: \\\"No properties\\\";\\n}\\n.json-formatter-row .json-formatter-children.json-formatter-empty.json-formatter-array:after {\\n  content: \\\"[]\\\";\\n}\\n.json-formatter-row .json-formatter-string,\\n.json-formatter-row .json-formatter-stringifiable {\\n  color: green;\\n  white-space: pre;\\n  word-wrap: break-word;\\n}\\n.json-formatter-row .json-formatter-number {\\n  color: blue;\\n}\\n.json-formatter-row .json-formatter-boolean {\\n  color: red;\\n}\\n.json-formatter-row .json-formatter-null {\\n  color: #855A00;\\n}\\n.json-formatter-row .json-formatter-undefined {\\n  color: #ca0b69;\\n}\\n.json-formatter-row .json-formatter-function {\\n  color: #FF20ED;\\n}\\n.json-formatter-row .json-formatter-date {\\n  background-color: rgba(0, 0, 0, 0.05);\\n}\\n.json-formatter-row .json-formatter-url {\\n  text-decoration: underline;\\n  color: blue;\\n  cursor: pointer;\\n}\\n.json-formatter-row .json-formatter-bracket {\\n  color: blue;\\n}\\n.json-formatter-row .json-formatter-key {\\n  color: #00008B;\\n  padding-right: 0.2rem;\\n}\\n.json-formatter-row .json-formatter-toggler-link {\\n  cursor: pointer;\\n}\\n.json-formatter-row .json-formatter-toggler {\\n  line-height: 1.2rem;\\n  font-size: 0.7rem;\\n  vertical-align: middle;\\n  opacity: 0.6;\\n  cursor: pointer;\\n  padding-right: 0.2rem;\\n}\\n.json-formatter-row .json-formatter-toggler:after {\\n  display: inline-block;\\n  transition: transform 100ms ease-in;\\n  content: \\\"\\\\25BA\\\";\\n}\\n.json-formatter-row > a > .json-formatter-preview-text {\\n  opacity: 0;\\n  transition: opacity 0.15s ease-in;\\n  font-style: italic;\\n}\\n.json-formatter-row:hover > a > .json-formatter-preview-text {\\n  opacity: 0.6;\\n}\\n.json-formatter-row.json-formatter-open > .json-formatter-toggler-link .json-formatter-toggler:after {\\n  transform: rotate(90deg);\\n}\\n.json-formatter-row.json-formatter-open > .json-formatter-children:after {\\n  display: inline-block;\\n}\\n.json-formatter-row.json-formatter-open > a > .json-formatter-preview-text {\\n  display: none;\\n}\\n.json-formatter-row.json-formatter-open.json-formatter-empty:after {\\n  display: block;\\n}\\n.json-formatter-dark.json-formatter-row {\\n  font-family: monospace;\\n}\\n.json-formatter-dark.json-formatter-row,\\n.json-formatter-dark.json-formatter-row a,\\n.json-formatter-dark.json-formatter-row a:hover {\\n  color: white;\\n  text-decoration: none;\\n}\\n.json-formatter-dark.json-formatter-row .json-formatter-row {\\n  margin-left: 1rem;\\n}\\n.json-formatter-dark.json-formatter-row .json-formatter-children.json-formatter-empty {\\n  opacity: 0.5;\\n  margin-left: 1rem;\\n}\\n.json-formatter-dark.json-formatter-row .json-formatter-children.json-formatter-empty:after {\\n  display: none;\\n}\\n.json-formatter-dark.json-formatter-row .json-formatter-children.json-formatter-empty.json-formatter-object:after {\\n  content: \\\"No properties\\\";\\n}\\n.json-formatter-dark.json-formatter-row .json-formatter-children.json-formatter-empty.json-formatter-array:after {\\n  content: \\\"[]\\\";\\n}\\n.json-formatter-dark.json-formatter-row .json-formatter-string,\\n.json-formatter-dark.json-formatter-row .json-formatter-stringifiable {\\n  color: #31F031;\\n  white-space: pre;\\n  word-wrap: break-word;\\n}\\n.json-formatter-dark.json-formatter-row .json-formatter-number {\\n  color: #66C2FF;\\n}\\n.json-formatter-dark.json-formatter-row .json-formatter-boolean {\\n  color: #EC4242;\\n}\\n.json-formatter-dark.json-formatter-row .json-formatter-null {\\n  color: #EEC97D;\\n}\\n.json-formatter-dark.json-formatter-row .json-formatter-undefined {\\n  color: #ef8fbe;\\n}\\n.json-formatter-dark.json-formatter-row .json-formatter-function {\\n  color: #FD48CB;\\n}\\n.json-formatter-dark.json-formatter-row .json-formatter-date {\\n  background-color: rgba(255, 255, 255, 0.05);\\n}\\n.json-formatter-dark.json-formatter-row .json-formatter-url {\\n  text-decoration: underline;\\n  color: #027BFF;\\n  cursor: pointer;\\n}\\n.json-formatter-dark.json-formatter-row .json-formatter-bracket {\\n  color: #9494FF;\\n}\\n.json-formatter-dark.json-formatter-row .json-formatter-key {\\n  color: #23A0DB;\\n  padding-right: 0.2rem;\\n}\\n.json-formatter-dark.json-formatter-row .json-formatter-toggler-link {\\n  cursor: pointer;\\n}\\n.json-formatter-dark.json-formatter-row .json-formatter-toggler {\\n  line-height: 1.2rem;\\n  font-size: 0.7rem;\\n  vertical-align: middle;\\n  opacity: 0.6;\\n  cursor: pointer;\\n  padding-right: 0.2rem;\\n}\\n.json-formatter-dark.json-formatter-row .json-formatter-toggler:after {\\n  display: inline-block;\\n  transition: transform 100ms ease-in;\\n  content: \\\"\\\\25BA\\\";\\n}\\n.json-formatter-dark.json-formatter-row > a > .json-formatter-preview-text {\\n  opacity: 0;\\n  transition: opacity 0.15s ease-in;\\n  font-style: italic;\\n}\\n.json-formatter-dark.json-formatter-row:hover > a > .json-formatter-preview-text {\\n  opacity: 0.6;\\n}\\n.json-formatter-dark.json-formatter-row.json-formatter-open > .json-formatter-toggler-link .json-formatter-toggler:after {\\n  transform: rotate(90deg);\\n}\\n.json-formatter-dark.json-formatter-row.json-formatter-open > .json-formatter-children:after {\\n  display: inline-block;\\n}\\n.json-formatter-dark.json-formatter-row.json-formatter-open > a > .json-formatter-preview-text {\\n  display: none;\\n}\\n.json-formatter-dark.json-formatter-row.json-formatter-open.json-formatter-empty:after {\\n  display: block;\\n}\\n\");\n    },\n    function(Bokeh) {\n      inject_raw_css(\".codehilite .hll { background-color: #ffffcc }\\n.codehilite  { background: #f8f8f8; }\\n.codehilite .c { color: #408080; font-style: italic } /* Comment */\\n.codehilite .err { border: 1px solid #FF0000 } /* Error */\\n.codehilite .k { color: #008000; font-weight: bold } /* Keyword */\\n.codehilite .o { color: #666666 } /* Operator */\\n.codehilite .ch { color: #408080; font-style: italic } /* Comment.Hashbang */\\n.codehilite .cm { color: #408080; font-style: italic } /* Comment.Multiline */\\n.codehilite .cp { color: #BC7A00 } /* Comment.Preproc */\\n.codehilite .cpf { color: #408080; font-style: italic } /* Comment.PreprocFile */\\n.codehilite .c1 { color: #408080; font-style: italic } /* Comment.Single */\\n.codehilite .cs { color: #408080; font-style: italic } /* Comment.Special */\\n.codehilite .gd { color: #A00000 } /* Generic.Deleted */\\n.codehilite .ge { font-style: italic } /* Generic.Emph */\\n.codehilite .gr { color: #FF0000 } /* Generic.Error */\\n.codehilite .gh { color: #000080; font-weight: bold } /* Generic.Heading */\\n.codehilite .gi { color: #00A000 } /* Generic.Inserted */\\n.codehilite .go { color: #888888 } /* Generic.Output */\\n.codehilite .gp { color: #000080; font-weight: bold } /* Generic.Prompt */\\n.codehilite .gs { font-weight: bold } /* Generic.Strong */\\n.codehilite .gu { color: #800080; font-weight: bold } /* Generic.Subheading */\\n.codehilite .gt { color: #0044DD } /* Generic.Traceback */\\n.codehilite .kc { color: #008000; font-weight: bold } /* Keyword.Constant */\\n.codehilite .kd { color: #008000; font-weight: bold } /* Keyword.Declaration */\\n.codehilite .kn { color: #008000; font-weight: bold } /* Keyword.Namespace */\\n.codehilite .kp { color: #008000 } /* Keyword.Pseudo */\\n.codehilite .kr { color: #008000; font-weight: bold } /* Keyword.Reserved */\\n.codehilite .kt { color: #B00040 } /* Keyword.Type */\\n.codehilite .m { color: #666666 } /* Literal.Number */\\n.codehilite .s { color: #BA2121 } /* Literal.String */\\n.codehilite .na { color: #7D9029 } /* Name.Attribute */\\n.codehilite .nb { color: #008000 } /* Name.Builtin */\\n.codehilite .nc { color: #0000FF; font-weight: bold } /* Name.Class */\\n.codehilite .no { color: #880000 } /* Name.Constant */\\n.codehilite .nd { color: #AA22FF } /* Name.Decorator */\\n.codehilite .ni { color: #999999; font-weight: bold } /* Name.Entity */\\n.codehilite .ne { color: #D2413A; font-weight: bold } /* Name.Exception */\\n.codehilite .nf { color: #0000FF } /* Name.Function */\\n.codehilite .nl { color: #A0A000 } /* Name.Label */\\n.codehilite .nn { color: #0000FF; font-weight: bold } /* Name.Namespace */\\n.codehilite .nt { color: #008000; font-weight: bold } /* Name.Tag */\\n.codehilite .nv { color: #19177C } /* Name.Variable */\\n.codehilite .ow { color: #AA22FF; font-weight: bold } /* Operator.Word */\\n.codehilite .w { color: #bbbbbb } /* Text.Whitespace */\\n.codehilite .mb { color: #666666 } /* Literal.Number.Bin */\\n.codehilite .mf { color: #666666 } /* Literal.Number.Float */\\n.codehilite .mh { color: #666666 } /* Literal.Number.Hex */\\n.codehilite .mi { color: #666666 } /* Literal.Number.Integer */\\n.codehilite .mo { color: #666666 } /* Literal.Number.Oct */\\n.codehilite .sa { color: #BA2121 } /* Literal.String.Affix */\\n.codehilite .sb { color: #BA2121 } /* Literal.String.Backtick */\\n.codehilite .sc { color: #BA2121 } /* Literal.String.Char */\\n.codehilite .dl { color: #BA2121 } /* Literal.String.Delimiter */\\n.codehilite .sd { color: #BA2121; font-style: italic } /* Literal.String.Doc */\\n.codehilite .s2 { color: #BA2121 } /* Literal.String.Double */\\n.codehilite .se { color: #BB6622; font-weight: bold } /* Literal.String.Escape */\\n.codehilite .sh { color: #BA2121 } /* Literal.String.Heredoc */\\n.codehilite .si { color: #BB6688; font-weight: bold } /* Literal.String.Interpol */\\n.codehilite .sx { color: #008000 } /* Literal.String.Other */\\n.codehilite .sr { color: #BB6688 } /* Literal.String.Regex */\\n.codehilite .s1 { color: #BA2121 } /* Literal.String.Single */\\n.codehilite .ss { color: #19177C } /* Literal.String.Symbol */\\n.codehilite .bp { color: #008000 } /* Name.Builtin.Pseudo */\\n.codehilite .fm { color: #0000FF } /* Name.Function.Magic */\\n.codehilite .vc { color: #19177C } /* Name.Variable.Class */\\n.codehilite .vg { color: #19177C } /* Name.Variable.Global */\\n.codehilite .vi { color: #19177C } /* Name.Variable.Instance */\\n.codehilite .vm { color: #19177C } /* Name.Variable.Magic */\\n.codehilite .il { color: #666666 } /* Literal.Number.Integer.Long */\\n\\n.markdown h1 { margin-block-start: 0.34em }\\n.markdown h2 { margin-block-start: 0.42em }\\n.markdown h3 { margin-block-start: 0.5em }\\n.markdown h4 { margin-block-start: 0.67em }\\n.markdown h5 { margin-block-start: 0.84em }\\n.markdown h6 { margin-block-start: 1.17em }\\n.markdown ul { padding-inline-start: 2em }\\n.markdown ol { padding-inline-start: 2em }\\n.markdown strong { font-weight: 600 }\\n.markdown a { color: -webkit-link }\\n.markdown a { color: -moz-hyperlinkText }\\n\");\n    },\n    function(Bokeh) {\n      inject_raw_css(\".widget-box {\\n\\tmin-height: 20px;\\n\\tbackground-color: #f5f5f5;\\n\\tborder: 1px solid #e3e3e3 !important;\\n\\tborder-radius: 4px;\\n\\t-webkit-box-shadow: inset 0 1px 1px rgba(0,0,0,.05);\\n\\tbox-shadow: inset 0 1px 1px rgba(0,0,0,.05);\\n\\toverflow-x: hidden;\\n\\toverflow-y: hidden;\\n}\\n\\n.scrollable {\\n  overflow: scroll;\\n}\\n\\nprogress {\\n\\tappearance: none;\\n\\t-moz-appearance: none;\\n\\t-webkit-appearance: none;\\n\\n\\tborder: none;\\n\\theight: 20px;\\n\\tbackground-color: whiteSmoke;\\n\\tborder-radius: 3px;\\n\\tbox-shadow: 0 2px 3px rgba(0,0,0,.5) inset;\\n\\tcolor: royalblue;\\n\\tposition: relative;\\n\\tmargin: 0 0 1.5em;\\n}\\n\\nprogress[value]::-webkit-progress-bar {\\n\\tbackground-color: whiteSmoke;\\n\\tborder-radius: 3px;\\n\\tbox-shadow: 0 2px 3px rgba(0,0,0,.5) inset;\\n}\\n\\nprogress[value]::-webkit-progress-value {\\n\\tposition: relative;\\n\\n\\tbackground-size: 35px 20px, 100% 100%, 100% 100%;\\n\\tborder-radius:3px;\\n}\\n\\nprogress.active:not([value])::before {\\n\\tbackground-position: 10%;\\n\\tanimation-name: stripes;\\n\\tanimation-duration: 3s;\\n\\tanimation-timing-function: linear;\\n\\tanimation-iteration-count: infinite;\\n}\\n\\nprogress[value]::-moz-progress-bar {\\n\\tbackground-size: 35px 20px, 100% 100%, 100% 100%;\\n\\tborder-radius:3px;\\n}\\n\\nprogress:not([value])::-moz-progress-bar {\\n\\tborder-radius:3px;\\n\\tbackground:\\n\\tlinear-gradient(-45deg, transparent 33%, rgba(0, 0, 0, 0.2) 33%, rgba(0, 0, 0, 0.2) 66%, transparent 66%) left/2.5em 1.5em;\\n\\n}\\n\\nprogress.active:not([value])::-moz-progress-bar {\\n\\tbackground-position: 10%;\\n\\tanimation-name: stripes;\\n\\tanimation-duration: 3s;\\n\\tanimation-timing-function: linear;\\n\\tanimation-iteration-count: infinite;\\n}\\n\\nprogress.active:not([value])::-webkit-progress-bar {\\n\\tbackground-position: 10%;\\n\\tanimation-name: stripes;\\n\\tanimation-duration: 3s;\\n\\tanimation-timing-function: linear;\\n\\tanimation-iteration-count: infinite;\\n}\\n\\nprogress.primary[value]::-webkit-progress-value { background-color: #007bff; }\\nprogress.primary:not([value])::before { background-color: #007bff; }\\nprogress.primary:not([value])::-webkit-progress-bar { background-color: #007bff; }\\nprogress.primary::-moz-progress-bar { background-color: #007bff; }\\n\\nprogress.secondary[value]::-webkit-progress-value { background-color: #6c757d; }\\nprogress.secondary:not([value])::before { background-color: #6c757d; }\\nprogress.secondary:not([value])::-webkit-progress-bar { background-color: #6c757d; }\\nprogress.secondary::-moz-progress-bar { background-color: #6c757d; }\\n\\nprogress.success[value]::-webkit-progress-value { background-color: #28a745; }\\nprogress.success:not([value])::before { background-color: #28a745; }\\nprogress.success:not([value])::-webkit-progress-bar { background-color: #28a745; }\\nprogress.success::-moz-progress-bar { background-color: #28a745; }\\n\\nprogress.danger[value]::-webkit-progress-value { background-color: #dc3545; }\\nprogress.danger:not([value])::before { background-color: #dc3545; }\\nprogress.danger:not([value])::-webkit-progress-bar { background-color: #dc3545; }\\nprogress.danger::-moz-progress-bar { background-color: #dc3545; }\\n\\nprogress.warning[value]::-webkit-progress-value { background-color: #ffc107; }\\nprogress.warning:not([value])::before { background-color: #ffc107; }\\nprogress.warning:not([value])::-webkit-progress-bar { background-color: #ffc107; }\\nprogress.warning::-moz-progress-bar { background-color: #ffc107; }\\n\\nprogress.info[value]::-webkit-progress-value { background-color: #17a2b8; }\\nprogress.info:not([value])::before { background-color: #17a2b8; }\\nprogress.info:not([value])::-webkit-progress-bar { background-color: #17a2b8; }\\nprogress.info::-moz-progress-bar { background-color: #17a2b8; }\\n\\nprogress.light[value]::-webkit-progress-value { background-color: #f8f9fa; }\\nprogress.light:not([value])::before { background-color: #f8f9fa; }\\nprogress.light:not([value])::-webkit-progress-bar { background-color: #f8f9fa; }\\nprogress.light::-moz-progress-bar { background-color: #f8f9fa; }\\n\\nprogress.dark[value]::-webkit-progress-value { background-color: #343a40; }\\nprogress.dark:not([value])::-webkit-progress-bar { background-color: #343a40; }\\nprogress.dark:not([value])::before { background-color: #343a40; }\\nprogress.dark::-moz-progress-bar { background-color: #343a40; }\\n\\nprogress:not([value])::-webkit-progress-bar {\\n\\tborder-radius: 3px;\\n\\tbackground:\\n\\tlinear-gradient(-45deg, transparent 33%, rgba(0, 0, 0, 0.2) 33%, rgba(0, 0, 0, 0.2) 66%, transparent 66%) left/2.5em 1.5em;\\n}\\nprogress:not([value])::before {\\n\\tcontent:\\\" \\\";\\n\\tposition:absolute;\\n\\theight: 20px;\\n\\ttop:0;\\n\\tleft:0;\\n\\tright:0;\\n\\tbottom:0;\\n\\tborder-radius: 3px;\\n\\tbackground:\\n\\tlinear-gradient(-45deg, transparent 33%, rgba(0, 0, 0, 0.2) 33%, rgba(0, 0, 0, 0.2) 66%, transparent 66%) left/2.5em 1.5em;\\n}\\n\\n@keyframes stripes {\\n  from {background-position: 0%}\\n  to {background-position: 100%}\\n}\");\n    },\n    function(Bokeh) {\n      Bokeh.set_log_level(\"info\");\n    },\n    function(Bokeh) {\n    \n    \n    }\n  ];\n\n  function run_inline_js() {\n    \n    if (root.Bokeh !== undefined || force === true) {\n      \n    for (var i = 0; i < inline_js.length; i++) {\n      inline_js[i].call(root, root.Bokeh);\n    }\n    if (force === true) {\n        display_loaded();\n      }} else if (Date.now() < root._bokeh_timeout) {\n      setTimeout(run_inline_js, 100);\n    } else if (!root._bokeh_failed_load) {\n      console.log(\"Bokeh: BokehJS failed to load within specified timeout.\");\n      root._bokeh_failed_load = true;\n    } else if (force !== true) {\n      var cell = $(document.getElementById(\"1040\")).parents('.cell').data().cell;\n      cell.output_area.append_execute_result(NB_LOAD_WARNING)\n    }\n\n  }\n\n  if (root._bokeh_is_loading === 0) {\n    console.debug(\"Bokeh: BokehJS loaded, going straight to plotting\");\n    run_inline_js();\n  } else {\n    load_libs(css_urls, js_urls, function() {\n      console.debug(\"Bokeh: BokehJS plotting callback run at\", now());\n      run_inline_js();\n    });\n  }\n}(window));"
     },
     "metadata": {},
     "output_type": "display_data"
    },
    {
     "data": {
      "text/html": [
       "\n",
       "\n",
       "\n",
       "\n",
       "\n",
       "\n",
       "  <div class=\"bk-root\" id=\"4969f8b0-2ee4-4168-ab36-72cc32650313\" data-root-id=\"1002\"></div>\n"
      ]
     },
     "metadata": {},
     "output_type": "display_data"
    },
    {
     "data": {
      "application/javascript": [
       "(function(root) {\n",
       "  function embed_document(root) {\n",
       "    \n",
       "  var docs_json = {\"240ec001-99ff-4ae4-9eff-953e8086a862\":{\"roots\":{\"references\":[{\"attributes\":{\"background_fill_color\":\"white\",\"below\":[{\"id\":\"1011\"}],\"center\":[{\"id\":\"1014\"},{\"id\":\"1018\"}],\"left\":[{\"id\":\"1015\"}],\"plot_height\":800,\"plot_width\":800,\"renderers\":[{\"id\":\"1038\"}],\"title\":{\"id\":\"1041\"},\"toolbar\":{\"id\":\"1027\"},\"x_range\":{\"id\":\"1003\"},\"x_scale\":{\"id\":\"1007\"},\"y_range\":{\"id\":\"1005\"},\"y_scale\":{\"id\":\"1009\"}},\"id\":\"1002\",\"subtype\":\"Figure\",\"type\":\"Plot\"},{\"attributes\":{\"axis\":{\"id\":\"1015\"},\"dimension\":1,\"ticker\":null,\"visible\":false},\"id\":\"1018\",\"type\":\"Grid\"},{\"attributes\":{\"bottom_units\":\"screen\",\"fill_alpha\":0.5,\"fill_color\":\"lightgrey\",\"left_units\":\"screen\",\"level\":\"overlay\",\"line_alpha\":1.0,\"line_color\":\"black\",\"line_dash\":[4,4],\"line_width\":2,\"right_units\":\"screen\",\"top_units\":\"screen\"},\"id\":\"1025\",\"type\":\"BoxAnnotation\"},{\"attributes\":{\"data\":{\"alpha\":[1,1,1,1,1,1,1,1,1,1,1,1,1,1,1,1,1,1,1,1,1,1,1,1,1,1,1,1,1,1,1,1,1,1,1,1,1,1,1,1,1,1,1,1,1,1,1,1,1,1,1,1,1,1,1,1,1,1,1,1,1,1,1,1,1,1,1,1,1,1,1,1,1,1,1,1,1,1,1,1,1,1,1,1,1,1,1,1,1,1,1,1,1,1,1,1,1,1,1,1,1,1,1,1,1,1,1,1,1,1,1,1,1,1,1,1,1,1,1,1,1,1,1,1,1,1,1,1,1,1,1,1,1,1,1,1,1,1,1,1,1,1,1,1,1,1,1,1,1,1,1,1,1,1,1,1,1,1,1,1,1,1,1,1,1,1,1,1,1,1,1,1,1,1,1,1,1,1,1,1,1,1,1,1,1,1,1,1,1,1,1,1,1,1,1,1,1,1,1,1,1,1,1,1,1,1,1,1,1,1,1,1,1,1,1,1,1,1,1,1,1,1,1,1,1,1,1,1,1,1,1,1,1,1,1,1,1,1,1,1,1,1,1,1,1,1,1,1,1,1,1,1,1,1,1,1,1,1,1,1,1,1,1,1,1,1,1,1,1,1,1,1,1,1,1,1,1,1,1,1,1,1,1,1,1,1,1,1,1,1,1,1,1,1,1,1,1,1,1,1,1,1,1,1,1,1,1,1,1,1,1,1,1,1,1,1,1,1,1,1,1,1,1,1,1,1,1,1,1,1,1,1,1,1,1,1,1,1,1,1,1,1,1,1,1,1,1,1,1,1,1,1,1,1,1,1,1,1,1,1,1,1,1,1,1,1,1,1,1,1,1,1,1,1,1,1,1,1,1,1,1,1,1,1,1,1,1,1,1,1,1,1,1,1,1,1,1,1,1,1,1,1,1,1,1,1,1,1,1,1,1,1,1,1,1,1,1,1,1,1,1,1,1,1,1,1,1,1,1,1,1,1,1,1,1,1,1,1,1,1,1,1,1,1,1,1,1,1,1,1,1,1,1,1,1,1,1,1,1,1,1,1,1,1,1,1,1,1,1,1,1,1,1,1,1,1,1,1,1,1,1,1,1,1,1,1,1,1,1,1,1,1,1,1,1,1,1,1,1,1,1,1,1,1,1,1,1,1,1,1,1,1,1,1,1,1,1,1,1,1,1,1,1,1,1,1,1,1,1,1,1,1,1,1,1,1,1,1,1,1,1,1,1,1,1,1,1,1,1,1,1,1,1,1,1,1,1,1,1,1,1,1,1,1,1,1,1,1,1,1,1,1,1,1,1,1,1,1,1,1,1,1,1,1,1,1,1,1,1,1,1,1,1,1,1,1,1,1,1,1,1,1,1,1,1,1,1,1,1,1,1,1,1,1,1,1,1,1,1,1,1,1,1,1,1,1,1,1,1,1,1,1,1,1,1,1,1,1,1,1,1,1,1,1,1,1,1,1,1,1,1,1,1,1,1,1,1,1,1,1,1,1,1,1,1,1,1,1,1,1,1,1,1,1,1,1,1,1,1,1,1,1,1,1,1,1,1,1,1,1,1,1,1,1,1,1,1,1,1,1,1,1,1,1,1,1,1,1,1,1,1,1,1,1,1,1,1,1,1,1,1,1,1,1,1,1,1,1,1,1,1,1,1,1,1,1,1,1,1,1,1,1,1,1,1,1,1,1,1,1,1,1,1,1,1,1,1,1,1,1,1,1,1,1,1,1,1,1,1,1,1,1,1,1,1,1,1,1,1,1,1,1,1,1,1,1,1,1,1,1,1,1,1,1,1,1,1,1,1,1,1,1,1,1,1,1,1,1,1,1,1,1,1,1,1,1,1,1,1,1,1,1,1,1,1,1,1,1,1,1,1,1,1,1,1,1,1,1,1,1,1,1,1,1,1,1,1,1,1,1,1,1,1,1,1,1,1,1,1,1,1,1,1,1,1,1,1,1,1,1,1,1,1,1,1,1,1,1,1,1,1,1,1,1,1,1,1,1,1,1,1,1,1,1,1,1,1,1,1,1,1,1,1,1,1,1,1,1,1,1,1,1,1,1,1,1,1,1,1,1,1,1,1,1,1,1,1,1,1,1,1,1,1,1,1,1,1,1,1,1,1,1,1,1,1,1,1,1,1,1,1,1,1,1,1,1,1,1,1,1,1,1,1,1,1,1,1,1,1,1,1,1,1,1,1,1,1,1,1,1,1,1,1,1,1,1,1,1,1,1,1,1,1,1,1,1,1,1,1,1,1,1,1,1,1,1,1,1,1,1,1,1,1,1,1,1,1,1,1,1,1,1,1,1,1,1,1,1,1,1,1,1,1,1,1,1,1,1,1,1,1,1,1,1,1,1,1,1,1,1,1,1,1,1,1,1,1,1,1,1,1,1,1,1,1,1,1,1,1,1,1,1,1,1,1,1,1,1,1,1,1,1,1,1,1,1,1,1,1,1,1,1,1,1,1,1,1,1,1,1,1,1,1,1,1,1,1,1,1,1,1,1,1,1,1,1,1,1,1,1,1,1,1,1,1,1,1,1,1,1,1,1,1,1,1,1,1,1,1,1,1,1,1,1,1,1,1,1,1,1,1,1,1,1,1,1,1,1,1,1,1,1,1,1,1,1,1,1,1,1,1,1,1,1,1,1,1,1,1,1,1,1,1,1,1,1,1,1,1,1,1,1,1,1,1,1,1,1,1,1,1,1,1,1,1,1,1,1],\"color\":[\"#4e63ac\",\"#4e63ac\",\"#edf8a3\",\"#e1f399\",\"#4e63ac\",\"#e1f399\",\"#4e63ac\",\"#9e0142\",\"#4e63ac\",\"#4e63ac\",\"#4e63ac\",\"#47a0b3\",\"#9e0142\",\"#4e63ac\",\"#4e63ac\",\"#fedc88\",\"#4e63ac\",\"#b11747\",\"#4e63ac\",\"#4e63ac\",\"#4e63ac\",\"#4e63ac\",\"#a2d9a4\",\"#fca55d\",\"#4e63ac\",\"#4e63ac\",\"#4e63ac\",\"#fca55d\",\"#4e63ac\",\"#edf8a3\",\"#9e0142\",\"#e1f399\",\"#4e63ac\",\"#edf8a3\",\"#4e63ac\",\"#4e63ac\",\"#4e63ac\",\"#ed6246\",\"#4e63ac\",\"#4e63ac\",\"#4e63ac\",\"#4e63ac\",\"#4e63ac\",\"#e2514a\",\"#4e63ac\",\"#4e63ac\",\"#b8e2a1\",\"#a2d9a4\",\"#fca55d\",\"#4e63ac\",\"#9e0142\",\"#4e63ac\",\"#e1f399\",\"#4e63ac\",\"#a2d9a4\",\"#4e63ac\",\"#edf8a3\",\"#4e63ac\",\"#4e63ac\",\"#4e63ac\",\"#e2514a\",\"#fca55d\",\"#4e63ac\",\"#4e63ac\",\"#9e0142\",\"#ed6246\",\"#4e63ac\",\"#4e63ac\",\"#e1f399\",\"#4e63ac\",\"#6ec5a5\",\"#e1f399\",\"#4e63ac\",\"#4e63ac\",\"#d7414e\",\"#edf8a3\",\"#4e63ac\",\"#b8e2a1\",\"#a2d9a4\",\"#4e63ac\",\"#4e63ac\",\"#6ec5a5\",\"#9e0142\",\"#4e63ac\",\"#4e63ac\",\"#4e63ac\",\"#4e63ac\",\"#4e63ac\",\"#4e63ac\",\"#4e63ac\",\"#5ab4ab\",\"#4e63ac\",\"#fca55d\",\"#4e63ac\",\"#e2514a\",\"#4e63ac\",\"#9e0142\",\"#4e63ac\",\"#86cfa5\",\"#4e63ac\",\"#f6fbb0\",\"#4e63ac\",\"#feca79\",\"#4e63ac\",\"#4e63ac\",\"#4e63ac\",\"#c52c4b\",\"#6ec5a5\",\"#d7414e\",\"#b11747\",\"#4e63ac\",\"#4e63ac\",\"#4e63ac\",\"#4e63ac\",\"#4e63ac\",\"#e2514a\",\"#6ec5a5\",\"#4e63ac\",\"#4e63ac\",\"#cdeb9d\",\"#6ec5a5\",\"#b11747\",\"#9e0142\",\"#e2514a\",\"#4e63ac\",\"#ed6246\",\"#a2d9a4\",\"#4e63ac\",\"#cdeb9d\",\"#4e63ac\",\"#4e63ac\",\"#4e63ac\",\"#4e63ac\",\"#4e63ac\",\"#4e63ac\",\"#4e63ac\",\"#4e63ac\",\"#fff3ac\",\"#4e63ac\",\"#4e63ac\",\"#4e63ac\",\"#4e63ac\",\"#6ec5a5\",\"#4e63ac\",\"#4e63ac\",\"#4e63ac\",\"#358bbc\",\"#4e63ac\",\"#9e0142\",\"#4e63ac\",\"#86cfa5\",\"#4e63ac\",\"#4e63ac\",\"#4e63ac\",\"#cdeb9d\",\"#4e63ac\",\"#4e63ac\",\"#fca55d\",\"#358bbc\",\"#e1f399\",\"#4e63ac\",\"#fedc88\",\"#a2d9a4\",\"#4e63ac\",\"#4e63ac\",\"#4e63ac\",\"#fca55d\",\"#4e63ac\",\"#4e63ac\",\"#4e63ac\",\"#4e63ac\",\"#4e63ac\",\"#4e63ac\",\"#4e63ac\",\"#4e63ac\",\"#4e63ac\",\"#4e63ac\",\"#fca55d\",\"#e1f399\",\"#4e63ac\",\"#edf8a3\",\"#4e63ac\",\"#a2d9a4\",\"#6ec5a5\",\"#4e63ac\",\"#4e63ac\",\"#edf8a3\",\"#4e63ac\",\"#4e63ac\",\"#6ec5a5\",\"#4e63ac\",\"#9e0142\",\"#4e63ac\",\"#6ec5a5\",\"#4e63ac\",\"#fedc88\",\"#fca55d\",\"#6ec5a5\",\"#4e63ac\",\"#9e0142\",\"#d7414e\",\"#e1f399\",\"#4e63ac\",\"#a2d9a4\",\"#4e63ac\",\"#fedc88\",\"#6ec5a5\",\"#edf8a3\",\"#9e0142\",\"#fca55d\",\"#4e63ac\",\"#4e63ac\",\"#4e63ac\",\"#6ec5a5\",\"#e2514a\",\"#4e63ac\",\"#edf8a3\",\"#a2d9a4\",\"#e2514a\",\"#4e63ac\",\"#e2514a\",\"#4e63ac\",\"#e2514a\",\"#edf8a3\",\"#4e63ac\",\"#fca55d\",\"#4e63ac\",\"#4e63ac\",\"#4e63ac\",\"#4e63ac\",\"#4e63ac\",\"#4e63ac\",\"#4e63ac\",\"#ed6246\",\"#d7414e\",\"#4e63ac\",\"#4e63ac\",\"#4e63ac\",\"#cdeb9d\",\"#fca55d\",\"#4e63ac\",\"#4e63ac\",\"#4e63ac\",\"#4e63ac\",\"#4e63ac\",\"#fca55d\",\"#4e63ac\",\"#a2d9a4\",\"#edf8a3\",\"#4e63ac\",\"#4e63ac\",\"#4e63ac\",\"#e1f399\",\"#4e63ac\",\"#4e63ac\",\"#4e63ac\",\"#4e63ac\",\"#4e63ac\",\"#4e63ac\",\"#c52c4b\",\"#a2d9a4\",\"#4e63ac\",\"#e2514a\",\"#4e63ac\",\"#e2514a\",\"#4e63ac\",\"#fff3ac\",\"#4e63ac\",\"#ffffbe\",\"#4e63ac\",\"#fca55d\",\"#4e63ac\",\"#cdeb9d\",\"#4e63ac\",\"#e2514a\",\"#4e63ac\",\"#4e63ac\",\"#4e63ac\",\"#86cfa5\",\"#fca55d\",\"#4e63ac\",\"#e2514a\",\"#4e63ac\",\"#4e63ac\",\"#4e63ac\",\"#fca55d\",\"#b8e2a1\",\"#4e63ac\",\"#4e63ac\",\"#4e63ac\",\"#4e63ac\",\"#6ec5a5\",\"#6ec5a5\",\"#fca55d\",\"#fedc88\",\"#4e63ac\",\"#358bbc\",\"#e1f399\",\"#4e63ac\",\"#6ec5a5\",\"#d7414e\",\"#feca79\",\"#e2514a\",\"#6ec5a5\",\"#4e63ac\",\"#fca55d\",\"#4e63ac\",\"#4e63ac\",\"#86cfa5\",\"#d7414e\",\"#fca55d\",\"#4e63ac\",\"#fedc88\",\"#4e63ac\",\"#4e63ac\",\"#cdeb9d\",\"#4e63ac\",\"#edf8a3\",\"#fff3ac\",\"#4e63ac\",\"#4e63ac\",\"#4e63ac\",\"#4e63ac\",\"#4e63ac\",\"#4e63ac\",\"#4e63ac\",\"#4e63ac\",\"#4e63ac\",\"#e1f399\",\"#4e63ac\",\"#e2514a\",\"#4e63ac\",\"#4e63ac\",\"#4e63ac\",\"#e2514a\",\"#4e63ac\",\"#edf8a3\",\"#4e63ac\",\"#4e63ac\",\"#cdeb9d\",\"#4e63ac\",\"#b11747\",\"#4e63ac\",\"#d7414e\",\"#4e63ac\",\"#4e63ac\",\"#a2d9a4\",\"#4e63ac\",\"#4e63ac\",\"#4e63ac\",\"#5ab4ab\",\"#4e63ac\",\"#fedc88\",\"#4e63ac\",\"#4e63ac\",\"#4e63ac\",\"#fca55d\",\"#4e63ac\",\"#a2d9a4\",\"#e1f399\",\"#6ec5a5\",\"#fedc88\",\"#4e63ac\",\"#4e63ac\",\"#4e63ac\",\"#4e63ac\",\"#4e63ac\",\"#e2514a\",\"#b8e2a1\",\"#4e63ac\",\"#4e63ac\",\"#4e63ac\",\"#4e63ac\",\"#4e63ac\",\"#4e63ac\",\"#b8e2a1\",\"#4e63ac\",\"#a2d9a4\",\"#4e63ac\",\"#4e63ac\",\"#4e63ac\",\"#f6fbb0\",\"#6ec5a5\",\"#4e63ac\",\"#b8e2a1\",\"#e1f399\",\"#4e63ac\",\"#4e63ac\",\"#4e63ac\",\"#4e63ac\",\"#4e63ac\",\"#4e63ac\",\"#4e63ac\",\"#edf8a3\",\"#5ab4ab\",\"#e2514a\",\"#4e63ac\",\"#edf8a3\",\"#5ab4ab\",\"#4e63ac\",\"#4e63ac\",\"#4e63ac\",\"#4e63ac\",\"#4e63ac\",\"#4e63ac\",\"#4e63ac\",\"#4e63ac\",\"#4e63ac\",\"#4e63ac\",\"#4e63ac\",\"#4e63ac\",\"#fedc88\",\"#d7414e\",\"#fedc88\",\"#4e63ac\",\"#4e63ac\",\"#fca55d\",\"#4e63ac\",\"#4e63ac\",\"#4e63ac\",\"#4e63ac\",\"#ed6246\",\"#4e63ac\",\"#4e63ac\",\"#5ab4ab\",\"#e2514a\",\"#fca55d\",\"#4e63ac\",\"#4e63ac\",\"#4e63ac\",\"#4e63ac\",\"#9e0142\",\"#fca55d\",\"#4e63ac\",\"#4e63ac\",\"#e2514a\",\"#4e63ac\",\"#4e63ac\",\"#4e63ac\",\"#4e63ac\",\"#4e63ac\",\"#cdeb9d\",\"#4e63ac\",\"#4e63ac\",\"#e1f399\",\"#e2514a\",\"#a2d9a4\",\"#4e63ac\",\"#4e63ac\",\"#4e63ac\",\"#4e63ac\",\"#4e63ac\",\"#fca55d\",\"#4e63ac\",\"#4e63ac\",\"#e2514a\",\"#4e63ac\",\"#fedc88\",\"#4e63ac\",\"#4e63ac\",\"#fca55d\",\"#4e63ac\",\"#4e63ac\",\"#ed6246\",\"#a2d9a4\",\"#fca55d\",\"#4e63ac\",\"#f57547\",\"#e1f399\",\"#4e63ac\",\"#4e63ac\",\"#a2d9a4\",\"#4e63ac\",\"#ffffbe\",\"#4e63ac\",\"#4e63ac\",\"#4e63ac\",\"#4e63ac\",\"#4e63ac\",\"#a2d9a4\",\"#4e63ac\",\"#4e63ac\",\"#d7414e\",\"#edf8a3\",\"#4e63ac\",\"#4e63ac\",\"#4e63ac\",\"#e1f399\",\"#edf8a3\",\"#a2d9a4\",\"#4e63ac\",\"#4e63ac\",\"#4e63ac\",\"#6ec5a5\",\"#4e63ac\",\"#4e63ac\",\"#9e0142\",\"#4e63ac\",\"#fca55d\",\"#b11747\",\"#4e63ac\",\"#4e63ac\",\"#4e63ac\",\"#4e63ac\",\"#4e63ac\",\"#b8e2a1\",\"#4e63ac\",\"#4e63ac\",\"#4e63ac\",\"#6ec5a5\",\"#d7414e\",\"#4e63ac\",\"#4e63ac\",\"#4e63ac\",\"#b11747\",\"#4e63ac\",\"#4e63ac\",\"#c52c4b\",\"#fca55d\",\"#4e63ac\",\"#4e63ac\",\"#4e63ac\",\"#fca55d\",\"#9e0142\",\"#4e63ac\",\"#edf8a3\",\"#4e63ac\",\"#e2514a\",\"#4e63ac\",\"#4e63ac\",\"#4e63ac\",\"#4e63ac\",\"#4e63ac\",\"#4e63ac\",\"#5e4fa2\",\"#4e63ac\",\"#ed6246\",\"#4e63ac\",\"#4e63ac\",\"#4e63ac\",\"#4e63ac\",\"#6ec5a5\",\"#e2514a\",\"#4e63ac\",\"#4e63ac\",\"#b11747\",\"#4e63ac\",\"#fca55d\",\"#fedc88\",\"#4e63ac\",\"#e1f399\",\"#6ec5a5\",\"#e1f399\",\"#edf8a3\",\"#4e63ac\",\"#4e63ac\",\"#4e63ac\",\"#4e63ac\",\"#e1f399\",\"#fca55d\",\"#cdeb9d\",\"#4e63ac\",\"#4e63ac\",\"#4e63ac\",\"#cdeb9d\",\"#4e63ac\",\"#4e63ac\",\"#4e63ac\",\"#4e63ac\",\"#fee999\",\"#4e63ac\",\"#edf8a3\",\"#4e63ac\",\"#e1f399\",\"#f6fbb0\",\"#4e63ac\",\"#4e63ac\",\"#4e63ac\",\"#d7414e\",\"#4e63ac\",\"#e1f399\",\"#6ec5a5\",\"#a2d9a4\",\"#4e63ac\",\"#ed6246\",\"#9e0142\",\"#4e63ac\",\"#4e63ac\",\"#4e63ac\",\"#d7414e\",\"#4e63ac\",\"#4e63ac\",\"#e1f399\",\"#4e63ac\",\"#a2d9a4\",\"#fedc88\",\"#4e63ac\",\"#4e63ac\",\"#4e63ac\",\"#6ec5a5\",\"#4e63ac\",\"#4e63ac\",\"#4e63ac\",\"#fedc88\",\"#4e63ac\",\"#4e63ac\",\"#4e63ac\",\"#6ec5a5\",\"#a2d9a4\",\"#4e63ac\",\"#fedc88\",\"#4e63ac\",\"#4e63ac\",\"#6ec5a5\",\"#4e63ac\",\"#4e63ac\",\"#a2d9a4\",\"#4e63ac\",\"#4e63ac\",\"#4e63ac\",\"#4e63ac\",\"#4e63ac\",\"#4e63ac\",\"#e1f399\",\"#4e63ac\",\"#4e63ac\",\"#4e63ac\",\"#4e63ac\",\"#d7414e\",\"#4e63ac\",\"#6ec5a5\",\"#4e63ac\",\"#6ec5a5\",\"#e1f399\",\"#4e63ac\",\"#4e63ac\",\"#b8e2a1\",\"#9e0142\",\"#4e63ac\",\"#fedc88\",\"#d7414e\",\"#4e63ac\",\"#4e63ac\",\"#4e63ac\",\"#4e63ac\",\"#edf8a3\",\"#4e63ac\",\"#4e63ac\",\"#6ec5a5\",\"#4e63ac\",\"#4e63ac\",\"#b8e2a1\",\"#6ec5a5\",\"#fedc88\",\"#4e63ac\",\"#4e63ac\",\"#fca55d\",\"#4e63ac\",\"#e2514a\",\"#4e63ac\",\"#9e0142\",\"#4e63ac\",\"#edf8a3\",\"#4e63ac\",\"#4e63ac\",\"#4e63ac\",\"#4e63ac\",\"#4e63ac\",\"#4e63ac\",\"#fca55d\",\"#6ec5a5\",\"#4e63ac\",\"#4e63ac\",\"#cdeb9d\",\"#6ec5a5\",\"#4e63ac\",\"#fedc88\",\"#4e63ac\",\"#e2514a\",\"#4e63ac\",\"#4e63ac\",\"#e1f399\",\"#4e63ac\",\"#4e63ac\",\"#4e63ac\",\"#edf8a3\",\"#4e63ac\",\"#4e63ac\",\"#4e63ac\",\"#4e63ac\",\"#edf8a3\",\"#cdeb9d\",\"#4e63ac\",\"#9e0142\",\"#86cfa5\",\"#e1f399\",\"#4e63ac\",\"#ed6246\",\"#4e63ac\",\"#4e63ac\",\"#fca55d\",\"#4e63ac\",\"#4e63ac\",\"#edf8a3\",\"#4e63ac\",\"#4e63ac\",\"#6ec5a5\",\"#4e63ac\",\"#4e63ac\",\"#9e0142\",\"#4e63ac\",\"#4e63ac\",\"#c52c4b\",\"#4e63ac\",\"#4e63ac\",\"#4e63ac\",\"#6ec5a5\",\"#4e63ac\",\"#4e63ac\",\"#4e63ac\",\"#4e63ac\",\"#4e63ac\",\"#d7414e\",\"#fedc88\",\"#6ec5a5\",\"#4e63ac\",\"#4e63ac\",\"#4e63ac\",\"#fca55d\",\"#4e63ac\",\"#4e63ac\",\"#4e63ac\",\"#4e63ac\",\"#e1f399\",\"#4e63ac\",\"#4e63ac\",\"#e2514a\",\"#4e63ac\",\"#4e63ac\",\"#6ec5a5\",\"#4e63ac\",\"#4e63ac\",\"#4e63ac\",\"#4e63ac\",\"#a2d9a4\",\"#4e63ac\",\"#4e63ac\",\"#4e63ac\",\"#4e63ac\",\"#4e63ac\",\"#4e63ac\",\"#358bbc\",\"#4e63ac\",\"#47a0b3\",\"#4e63ac\",\"#4e63ac\",\"#4e63ac\",\"#f6fbb0\",\"#4e63ac\",\"#edf8a3\",\"#4e63ac\",\"#4e63ac\",\"#4e63ac\",\"#4e63ac\",\"#4e63ac\",\"#9e0142\",\"#4e63ac\",\"#4e63ac\",\"#4e63ac\",\"#4e63ac\",\"#4e63ac\",\"#4e63ac\",\"#4e63ac\",\"#fedc88\",\"#f6fbb0\",\"#4e63ac\",\"#4e63ac\",\"#6ec5a5\",\"#4e63ac\",\"#4e63ac\",\"#4e63ac\",\"#9e0142\",\"#4e63ac\",\"#f6fbb0\",\"#4e63ac\",\"#6ec5a5\",\"#4e63ac\",\"#6ec5a5\",\"#4e63ac\",\"#6ec5a5\",\"#fca55d\",\"#e2514a\",\"#cdeb9d\",\"#fedc88\",\"#b11747\",\"#4e63ac\",\"#fca55d\",\"#4e63ac\",\"#4e63ac\",\"#4e63ac\",\"#d7414e\",\"#4e63ac\",\"#d7414e\",\"#4e63ac\",\"#fca55d\",\"#fff3ac\",\"#4e63ac\",\"#5ab4ab\",\"#4e63ac\",\"#6ec5a5\",\"#e1f399\",\"#a2d9a4\",\"#4e63ac\",\"#4e63ac\",\"#4e63ac\",\"#edf8a3\",\"#4e63ac\",\"#4e63ac\",\"#edf8a3\",\"#4e63ac\",\"#e2514a\",\"#4e63ac\",\"#ed6246\",\"#4e63ac\",\"#4e63ac\",\"#cdeb9d\",\"#4e63ac\",\"#6ec5a5\",\"#4e63ac\",\"#cdeb9d\",\"#e1f399\",\"#4e63ac\",\"#4e63ac\",\"#edf8a3\",\"#6ec5a5\",\"#9e0142\",\"#4e63ac\",\"#f6fbb0\",\"#edf8a3\",\"#4e63ac\",\"#4e63ac\",\"#358bbc\",\"#9e0142\",\"#4e63ac\",\"#4e63ac\",\"#fedc88\",\"#f98e52\",\"#9e0142\",\"#4e63ac\",\"#4e63ac\",\"#e2514a\",\"#4e63ac\",\"#4e63ac\",\"#4e63ac\",\"#fedc88\",\"#fca55d\",\"#fee999\",\"#fedc88\",\"#fca55d\",\"#9e0142\",\"#f57547\",\"#b8e2a1\",\"#fca55d\",\"#edf8a3\",\"#e2514a\",\"#4e63ac\",\"#4e63ac\",\"#4e63ac\",\"#3f77b5\",\"#4e63ac\",\"#4e63ac\",\"#fca55d\",\"#4e63ac\",\"#6ec5a5\",\"#4e63ac\",\"#4e63ac\",\"#4e63ac\",\"#4e63ac\",\"#4e63ac\",\"#4e63ac\",\"#4e63ac\",\"#5ab4ab\",\"#6ec5a5\",\"#4e63ac\",\"#4e63ac\",\"#4e63ac\",\"#4e63ac\",\"#4e63ac\",\"#4e63ac\",\"#4e63ac\",\"#6ec5a5\",\"#e2514a\",\"#4e63ac\",\"#4e63ac\",\"#d7414e\",\"#9e0142\",\"#4e63ac\",\"#4e63ac\",\"#4e63ac\",\"#4e63ac\",\"#f6fbb0\",\"#4e63ac\",\"#fca55d\",\"#f57547\",\"#fca55d\",\"#4e63ac\",\"#cdeb9d\",\"#cdeb9d\",\"#6ec5a5\",\"#4e63ac\",\"#4e63ac\",\"#4e63ac\",\"#fca55d\",\"#4e63ac\",\"#4e63ac\",\"#4e63ac\",\"#4e63ac\",\"#a2d9a4\",\"#cdeb9d\",\"#4e63ac\",\"#4e63ac\",\"#4e63ac\",\"#4e63ac\",\"#4e63ac\",\"#f57547\",\"#4e63ac\",\"#4e63ac\",\"#4e63ac\",\"#4e63ac\",\"#e2514a\",\"#4e63ac\",\"#9e0142\",\"#4e63ac\",\"#4e63ac\",\"#4e63ac\",\"#4e63ac\",\"#fca55d\",\"#4e63ac\",\"#4e63ac\",\"#4e63ac\",\"#6ec5a5\",\"#4e63ac\",\"#6ec5a5\",\"#ffffbe\",\"#fff3ac\",\"#4e63ac\",\"#fca55d\",\"#4e63ac\",\"#4e63ac\",\"#e2514a\",\"#4e63ac\",\"#4e63ac\",\"#3f77b5\",\"#4e63ac\",\"#4e63ac\",\"#4e63ac\",\"#4e63ac\",\"#4e63ac\",\"#4e63ac\",\"#4e63ac\",\"#e2514a\",\"#4e63ac\",\"#6ec5a5\",\"#4e63ac\",\"#4e63ac\",\"#4e63ac\",\"#4e63ac\",\"#4e63ac\",\"#4e63ac\",\"#a2d9a4\",\"#4e63ac\",\"#4e63ac\",\"#4e63ac\",\"#4e63ac\",\"#4e63ac\",\"#4e63ac\",\"#4e63ac\",\"#fca55d\",\"#e1f399\",\"#4e63ac\",\"#4e63ac\",\"#4e63ac\",\"#fca55d\",\"#4e63ac\",\"#4e63ac\",\"#4e63ac\",\"#4e63ac\",\"#4e63ac\",\"#e2514a\",\"#4e63ac\",\"#9e0142\",\"#9e0142\",\"#4e63ac\",\"#e1f399\",\"#4e63ac\",\"#4e63ac\",\"#4e63ac\",\"#4e63ac\",\"#4e63ac\",\"#fca55d\",\"#4e63ac\",\"#4e63ac\",\"#358bbc\",\"#4e63ac\",\"#4e63ac\",\"#fdb96a\",\"#4e63ac\",\"#4e63ac\",\"#4e63ac\",\"#a2d9a4\",\"#4e63ac\",\"#6ec5a5\",\"#4e63ac\",\"#e1f399\",\"#4e63ac\",\"#e1f399\",\"#fca55d\",\"#6ec5a5\",\"#4e63ac\",\"#e2514a\",\"#4e63ac\",\"#e2514a\",\"#4e63ac\",\"#4e63ac\",\"#fca55d\",\"#4e63ac\",\"#e1f399\",\"#358bbc\",\"#4e63ac\",\"#4e63ac\",\"#d7414e\",\"#f6fbb0\",\"#4e63ac\",\"#4e63ac\",\"#4e63ac\",\"#edf8a3\",\"#cdeb9d\",\"#4e63ac\",\"#e2514a\",\"#6ec5a5\",\"#4e63ac\",\"#4e63ac\",\"#47a0b3\",\"#4e63ac\",\"#4e63ac\",\"#4e63ac\",\"#4e63ac\",\"#ed6246\",\"#6ec5a5\",\"#4e63ac\",\"#fedc88\",\"#cdeb9d\",\"#4e63ac\",\"#4e63ac\",\"#f57547\",\"#4e63ac\",\"#fca55d\",\"#edf8a3\",\"#ffffbe\",\"#4e63ac\",\"#edf8a3\",\"#4e63ac\",\"#4e63ac\",\"#4e63ac\",\"#6ec5a5\",\"#4e63ac\",\"#4e63ac\",\"#4e63ac\",\"#4e63ac\",\"#4e63ac\",\"#4e63ac\",\"#fedc88\",\"#4e63ac\",\"#4e63ac\",\"#c52c4b\",\"#4e63ac\",\"#4e63ac\",\"#fedc88\",\"#4e63ac\",\"#a2d9a4\",\"#4e63ac\",\"#4e63ac\",\"#4e63ac\",\"#e2514a\",\"#4e63ac\",\"#4e63ac\",\"#4e63ac\",\"#4e63ac\",\"#d7414e\",\"#4e63ac\",\"#4e63ac\",\"#4e63ac\",\"#4e63ac\",\"#4e63ac\",\"#4e63ac\",\"#4e63ac\",\"#6ec5a5\",\"#4e63ac\",\"#4e63ac\",\"#4e63ac\",\"#ffffbe\",\"#4e63ac\",\"#ffffbe\",\"#4e63ac\",\"#fca55d\",\"#6ec5a5\",\"#6ec5a5\",\"#4e63ac\",\"#4e63ac\",\"#f57547\",\"#4e63ac\",\"#4e63ac\",\"#4e63ac\",\"#4e63ac\",\"#d7414e\",\"#4e63ac\",\"#a2d9a4\",\"#4e63ac\",\"#4e63ac\",\"#4e63ac\",\"#e2514a\",\"#ffffbe\",\"#4e63ac\",\"#4e63ac\",\"#d7414e\",\"#4e63ac\",\"#4e63ac\",\"#fca55d\",\"#fedc88\",\"#6ec5a5\",\"#4e63ac\",\"#4e63ac\",\"#4e63ac\",\"#4e63ac\",\"#4e63ac\",\"#4e63ac\",\"#4e63ac\",\"#4e63ac\",\"#a2d9a4\",\"#4e63ac\",\"#86cfa5\",\"#4e63ac\",\"#4e63ac\",\"#4e63ac\",\"#4e63ac\",\"#4e63ac\",\"#4e63ac\",\"#a2d9a4\",\"#4e63ac\",\"#f98e52\",\"#4e63ac\",\"#358bbc\",\"#358bbc\",\"#4e63ac\",\"#4e63ac\",\"#4e63ac\",\"#fca55d\",\"#4e63ac\",\"#4e63ac\",\"#4e63ac\",\"#4e63ac\",\"#4e63ac\",\"#4e63ac\",\"#4e63ac\",\"#e1f399\",\"#4e63ac\",\"#4e63ac\",\"#fca55d\",\"#4e63ac\",\"#4e63ac\",\"#fca55d\",\"#edf8a3\",\"#4e63ac\",\"#ed6246\",\"#4e63ac\",\"#edf8a3\",\"#4e63ac\",\"#4e63ac\",\"#6ec5a5\",\"#4e63ac\",\"#4e63ac\",\"#4e63ac\",\"#4e63ac\",\"#d7414e\",\"#edf8a3\",\"#4e63ac\",\"#5e4fa2\",\"#4e63ac\",\"#4e63ac\",\"#9e0142\",\"#4e63ac\",\"#4e63ac\",\"#4e63ac\",\"#d7414e\",\"#4e63ac\",\"#e1f399\",\"#4e63ac\",\"#4e63ac\",\"#4e63ac\",\"#4e63ac\",\"#ffffbe\",\"#d7414e\",\"#4e63ac\",\"#a2d9a4\",\"#d7414e\",\"#4e63ac\",\"#cdeb9d\",\"#fca55d\"],\"index\":{\"__ndarray__\":\"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\",\"dtype\":\"int32\",\"order\":\"little\",\"shape\":[1208]},\"item\":[\"negative\",\"negative\",\"PF06355_aegerolysin_full_length_sequences.fasta\",\"PF06369_anemone_cytotox_full_length_sequences.fasta\",\"negative\",\"PF06369_anemone_cytotox_full_length_sequences.fasta\",\"negative\",\"PF00087_toxin_tolip_full_length_sequences.fasta\",\"negative\",\"negative\",\"negative\",\"PF17475_binary_toxb_2_full_length_sequences.fasta\",\"PF00087_toxin_tolip_full_length_sequences.fasta\",\"negative\",\"negative\",\"PF03945_Endotoxin_N_full_length_sequences.fasta\",\"negative\",\"PF00555_Endotoxin_M_uniprot.fasta\",\"negative\",\"negative\",\"negative\",\"negative\",\"PF11393_T4BSS_dotI_icml_full_length_sequences.fasta\",\"PF03318_etx_mtx2_full_length_sequences.fasta\",\"negative\",\"negative\",\"negative\",\"PF03318_etx_mtx2_full_length_sequences.fasta\",\"negative\",\"PF06355_aegerolysin_full_length_sequences.fasta\",\"PF00087_toxin_tolip_full_length_sequences.fasta\",\"PF06369_anemone_cytotox_full_length_sequences.fasta\",\"negative\",\"PF06355_aegerolysin_full_length_sequences.fasta\",\"negative\",\"negative\",\"negative\",\"PF01338_Bac_thur_toxin_full_length_sequences.fasta\",\"negative\",\"negative\",\"negative\",\"negative\",\"negative\",\"PF01289_thiol_cytolysin_full_length_sequences.fasta\",\"negative\",\"negative\",\"PF07968_leukocidin_full_length_sequences.fasta\",\"PF11393_T4BSS_dotI_icml_full_length_sequences.fasta\",\"PF03318_etx_mtx2_full_length_sequences.fasta\",\"negative\",\"PF00087_toxin_tolip_full_length_sequences.fasta\",\"negative\",\"PF06369_anemone_cytotox_full_length_sequences.fasta\",\"negative\",\"PF11393_T4BSS_dotI_icml_full_length_sequences.fasta\",\"negative\",\"PF06355_aegerolysin_full_length_sequences.fasta\",\"negative\",\"negative\",\"negative\",\"PF01289_thiol_cytolysin_full_length_sequences.fasta\",\"PF03318_etx_mtx2_full_length_sequences.fasta\",\"negative\",\"negative\",\"PF00087_toxin_tolip_full_length_sequences.fasta\",\"PF01338_Bac_thur_toxin_full_length_sequences.fasta\",\"negative\",\"negative\",\"PF06369_anemone_cytotox_full_length_sequences.fasta\",\"negative\",\"PF12261_t_hemolysin_full_length_sequences.fasta\",\"PF06369_anemone_cytotox_full_length_sequences.fasta\",\"negative\",\"negative\",\"PF01117_aerolysin_full_length_sequences.fasta\",\"PF06355_aegerolysin_full_length_sequences.fasta\",\"negative\",\"PF07968_leukocidin_full_length_sequences.fasta\",\"PF11393_T4BSS_dotI_icml_full_length_sequences.fasta\",\"negative\",\"negative\",\"PF12261_t_hemolysin_full_length_sequences.fasta\",\"PF00087_toxin_tolip_full_length_sequences.fasta\",\"negative\",\"negative\",\"negative\",\"negative\",\"negative\",\"negative\",\"negative\",\"PF12920_tcda_tcdb_pore_full_length_sequences.fasta\",\"negative\",\"PF03318_etx_mtx2_full_length_sequences.fasta\",\"negative\",\"PF01289_thiol_cytolysin_full_length_sequences.fasta\",\"negative\",\"PF00087_toxin_tolip_full_length_sequences.fasta\",\"negative\",\"PF11565_porb_full_length_sequences.fasta\",\"negative\",\"PF06109_hlye_full_length_sequences.fasta\",\"negative\",\"PF03944_Endotoxin_C_uniprot.fasta\",\"negative\",\"negative\",\"negative\",\"PF01024_colicin_full_length_sequences.fasta\",\"PF12261_t_hemolysin_full_length_sequences.fasta\",\"PF01117_aerolysin_full_length_sequences.fasta\",\"PF00555_Endotoxin_M_uniprot.fasta\",\"negative\",\"negative\",\"negative\",\"negative\",\"negative\",\"PF01289_thiol_cytolysin_full_length_sequences.fasta\",\"PF12261_t_hemolysin_full_length_sequences.fasta\",\"negative\",\"negative\",\"PF07367_fb_lectin_full_length_sequences.fasta\",\"PF12261_t_hemolysin_full_length_sequences.fasta\",\"PF00555_Endotoxin_M_uniprot.fasta\",\"PF00087_toxin_tolip_full_length_sequences.fasta\",\"PF01289_thiol_cytolysin_full_length_sequences.fasta\",\"negative\",\"PF01338_Bac_thur_toxin_full_length_sequences.fasta\",\"PF11393_T4BSS_dotI_icml_full_length_sequences.fasta\",\"negative\",\"PF07367_fb_lectin_full_length_sequences.fasta\",\"negative\",\"negative\",\"negative\",\"negative\",\"negative\",\"negative\",\"negative\",\"negative\",\"PF04877_harpin_full_length_sequences.fasta\",\"negative\",\"negative\",\"negative\",\"negative\",\"PF12261_t_hemolysin_full_length_sequences.fasta\",\"negative\",\"negative\",\"negative\",\"PF18063_BB_PF_full_length_sequences.fasta\",\"negative\",\"PF00087_toxin_tolip_full_length_sequences.fasta\",\"negative\",\"PF11565_porb_full_length_sequences.fasta\",\"negative\",\"negative\",\"negative\",\"PF07367_fb_lectin_full_length_sequences.fasta\",\"negative\",\"negative\",\"PF03318_etx_mtx2_full_length_sequences.fasta\",\"PF18063_BB_PF_full_length_sequences.fasta\",\"PF06369_anemone_cytotox_full_length_sequences.fasta\",\"negative\",\"PF03945_Endotoxin_N_full_length_sequences.fasta\",\"PF11393_T4BSS_dotI_icml_full_length_sequences.fasta\",\"negative\",\"negative\",\"negative\",\"PF03318_etx_mtx2_full_length_sequences.fasta\",\"negative\",\"negative\",\"negative\",\"negative\",\"negative\",\"negative\",\"negative\",\"negative\",\"negative\",\"negative\",\"PF03318_etx_mtx2_full_length_sequences.fasta\",\"PF06369_anemone_cytotox_full_length_sequences.fasta\",\"negative\",\"PF06355_aegerolysin_full_length_sequences.fasta\",\"negative\",\"PF11393_T4BSS_dotI_icml_full_length_sequences.fasta\",\"PF12261_t_hemolysin_full_length_sequences.fasta\",\"negative\",\"negative\",\"PF06355_aegerolysin_full_length_sequences.fasta\",\"negative\",\"negative\",\"PF12261_t_hemolysin_full_length_sequences.fasta\",\"negative\",\"PF00087_toxin_tolip_full_length_sequences.fasta\",\"negative\",\"PF12261_t_hemolysin_full_length_sequences.fasta\",\"negative\",\"PF03945_Endotoxin_N_full_length_sequences.fasta\",\"PF03318_etx_mtx2_full_length_sequences.fasta\",\"PF12261_t_hemolysin_full_length_sequences.fasta\",\"negative\",\"PF00087_toxin_tolip_full_length_sequences.fasta\",\"PF01117_aerolysin_full_length_sequences.fasta\",\"PF06369_anemone_cytotox_full_length_sequences.fasta\",\"negative\",\"PF11393_T4BSS_dotI_icml_full_length_sequences.fasta\",\"negative\",\"PF03945_Endotoxin_N_full_length_sequences.fasta\",\"PF12261_t_hemolysin_full_length_sequences.fasta\",\"PF06355_aegerolysin_full_length_sequences.fasta\",\"PF00087_toxin_tolip_full_length_sequences.fasta\",\"PF03318_etx_mtx2_full_length_sequences.fasta\",\"negative\",\"negative\",\"negative\",\"PF12261_t_hemolysin_full_length_sequences.fasta\",\"PF01289_thiol_cytolysin_full_length_sequences.fasta\",\"negative\",\"PF06355_aegerolysin_full_length_sequences.fasta\",\"PF11393_T4BSS_dotI_icml_full_length_sequences.fasta\",\"PF01289_thiol_cytolysin_full_length_sequences.fasta\",\"negative\",\"PF01289_thiol_cytolysin_full_length_sequences.fasta\",\"negative\",\"PF01289_thiol_cytolysin_full_length_sequences.fasta\",\"PF06355_aegerolysin_full_length_sequences.fasta\",\"negative\",\"PF03318_etx_mtx2_full_length_sequences.fasta\",\"negative\",\"negative\",\"negative\",\"negative\",\"negative\",\"negative\",\"negative\",\"PF01338_Bac_thur_toxin_full_length_sequences.fasta\",\"PF01117_aerolysin_full_length_sequences.fasta\",\"negative\",\"negative\",\"negative\",\"PF07367_fb_lectin_full_length_sequences.fasta\",\"PF03318_etx_mtx2_full_length_sequences.fasta\",\"negative\",\"negative\",\"negative\",\"negative\",\"negative\",\"PF03318_etx_mtx2_full_length_sequences.fasta\",\"negative\",\"PF11393_T4BSS_dotI_icml_full_length_sequences.fasta\",\"PF06355_aegerolysin_full_length_sequences.fasta\",\"negative\",\"negative\",\"negative\",\"PF06369_anemone_cytotox_full_length_sequences.fasta\",\"negative\",\"negative\",\"negative\",\"negative\",\"negative\",\"negative\",\"PF01024_colicin_full_length_sequences.fasta\",\"PF11393_T4BSS_dotI_icml_full_length_sequences.fasta\",\"negative\",\"PF01289_thiol_cytolysin_full_length_sequences.fasta\",\"negative\",\"PF01289_thiol_cytolysin_full_length_sequences.fasta\",\"negative\",\"PF04877_harpin_full_length_sequences.fasta\",\"negative\",\"PF05802_espb_full_length_sequences.fasta\",\"negative\",\"PF03318_etx_mtx2_full_length_sequences.fasta\",\"negative\",\"PF07367_fb_lectin_full_length_sequences.fasta\",\"negative\",\"PF01289_thiol_cytolysin_full_length_sequences.fasta\",\"negative\",\"negative\",\"negative\",\"PF11565_porb_full_length_sequences.fasta\",\"PF03318_etx_mtx2_full_length_sequences.fasta\",\"negative\",\"PF01289_thiol_cytolysin_full_length_sequences.fasta\",\"negative\",\"negative\",\"negative\",\"PF03318_etx_mtx2_full_length_sequences.fasta\",\"PF07968_leukocidin_full_length_sequences.fasta\",\"negative\",\"negative\",\"negative\",\"negative\",\"PF12261_t_hemolysin_full_length_sequences.fasta\",\"PF12261_t_hemolysin_full_length_sequences.fasta\",\"PF03318_etx_mtx2_full_length_sequences.fasta\",\"PF03945_Endotoxin_N_full_length_sequences.fasta\",\"negative\",\"PF18063_BB_PF_full_length_sequences.fasta\",\"PF06369_anemone_cytotox_full_length_sequences.fasta\",\"negative\",\"PF12261_t_hemolysin_full_length_sequences.fasta\",\"PF01117_aerolysin_full_length_sequences.fasta\",\"PF03944_Endotoxin_C_uniprot.fasta\",\"PF01289_thiol_cytolysin_full_length_sequences.fasta\",\"PF12261_t_hemolysin_full_length_sequences.fasta\",\"negative\",\"PF03318_etx_mtx2_full_length_sequences.fasta\",\"negative\",\"negative\",\"PF11565_porb_full_length_sequences.fasta\",\"PF01117_aerolysin_full_length_sequences.fasta\",\"PF03318_etx_mtx2_full_length_sequences.fasta\",\"negative\",\"PF03945_Endotoxin_N_full_length_sequences.fasta\",\"negative\",\"negative\",\"PF07367_fb_lectin_full_length_sequences.fasta\",\"negative\",\"PF06355_aegerolysin_full_length_sequences.fasta\",\"PF04877_harpin_full_length_sequences.fasta\",\"negative\",\"negative\",\"negative\",\"negative\",\"negative\",\"negative\",\"negative\",\"negative\",\"negative\",\"PF06369_anemone_cytotox_full_length_sequences.fasta\",\"negative\",\"PF01289_thiol_cytolysin_full_length_sequences.fasta\",\"negative\",\"negative\",\"negative\",\"PF01289_thiol_cytolysin_full_length_sequences.fasta\",\"negative\",\"PF06355_aegerolysin_full_length_sequences.fasta\",\"negative\",\"negative\",\"PF07367_fb_lectin_full_length_sequences.fasta\",\"negative\",\"PF00555_Endotoxin_M_uniprot.fasta\",\"negative\",\"PF01117_aerolysin_full_length_sequences.fasta\",\"negative\",\"negative\",\"PF11393_T4BSS_dotI_icml_full_length_sequences.fasta\",\"negative\",\"negative\",\"negative\",\"PF12920_tcda_tcdb_pore_full_length_sequences.fasta\",\"negative\",\"PF03945_Endotoxin_N_full_length_sequences.fasta\",\"negative\",\"negative\",\"negative\",\"PF03318_etx_mtx2_full_length_sequences.fasta\",\"negative\",\"PF11393_T4BSS_dotI_icml_full_length_sequences.fasta\",\"PF06369_anemone_cytotox_full_length_sequences.fasta\",\"PF12261_t_hemolysin_full_length_sequences.fasta\",\"PF03945_Endotoxin_N_full_length_sequences.fasta\",\"negative\",\"negative\",\"negative\",\"negative\",\"negative\",\"PF01289_thiol_cytolysin_full_length_sequences.fasta\",\"PF07968_leukocidin_full_length_sequences.fasta\",\"negative\",\"negative\",\"negative\",\"negative\",\"negative\",\"negative\",\"PF07968_leukocidin_full_length_sequences.fasta\",\"negative\",\"PF11393_T4BSS_dotI_icml_full_length_sequences.fasta\",\"negative\",\"negative\",\"negative\",\"PF06109_hlye_full_length_sequences.fasta\",\"PF12261_t_hemolysin_full_length_sequences.fasta\",\"negative\",\"PF07968_leukocidin_full_length_sequences.fasta\",\"PF06369_anemone_cytotox_full_length_sequences.fasta\",\"negative\",\"negative\",\"negative\",\"negative\",\"negative\",\"negative\",\"negative\",\"PF06355_aegerolysin_full_length_sequences.fasta\",\"PF12920_tcda_tcdb_pore_full_length_sequences.fasta\",\"PF01289_thiol_cytolysin_full_length_sequences.fasta\",\"negative\",\"PF06355_aegerolysin_full_length_sequences.fasta\",\"PF12920_tcda_tcdb_pore_full_length_sequences.fasta\",\"negative\",\"negative\",\"negative\",\"negative\",\"negative\",\"negative\",\"negative\",\"negative\",\"negative\",\"negative\",\"negative\",\"negative\",\"PF03945_Endotoxin_N_full_length_sequences.fasta\",\"PF01117_aerolysin_full_length_sequences.fasta\",\"PF03945_Endotoxin_N_full_length_sequences.fasta\",\"negative\",\"negative\",\"PF03318_etx_mtx2_full_length_sequences.fasta\",\"negative\",\"negative\",\"negative\",\"negative\",\"PF01338_Bac_thur_toxin_full_length_sequences.fasta\",\"negative\",\"negative\",\"PF12920_tcda_tcdb_pore_full_length_sequences.fasta\",\"PF01289_thiol_cytolysin_full_length_sequences.fasta\",\"PF03318_etx_mtx2_full_length_sequences.fasta\",\"negative\",\"negative\",\"negative\",\"negative\",\"PF00087_toxin_tolip_full_length_sequences.fasta\",\"PF03318_etx_mtx2_full_length_sequences.fasta\",\"negative\",\"negative\",\"PF01289_thiol_cytolysin_full_length_sequences.fasta\",\"negative\",\"negative\",\"negative\",\"negative\",\"negative\",\"PF07367_fb_lectin_full_length_sequences.fasta\",\"negative\",\"negative\",\"PF06369_anemone_cytotox_full_length_sequences.fasta\",\"PF01289_thiol_cytolysin_full_length_sequences.fasta\",\"PF11393_T4BSS_dotI_icml_full_length_sequences.fasta\",\"negative\",\"negative\",\"negative\",\"negative\",\"negative\",\"PF03318_etx_mtx2_full_length_sequences.fasta\",\"negative\",\"negative\",\"PF01289_thiol_cytolysin_full_length_sequences.fasta\",\"negative\",\"PF03945_Endotoxin_N_full_length_sequences.fasta\",\"negative\",\"negative\",\"PF03318_etx_mtx2_full_length_sequences.fasta\",\"negative\",\"negative\",\"PF01338_Bac_thur_toxin_full_length_sequences.fasta\",\"PF11393_T4BSS_dotI_icml_full_length_sequences.fasta\",\"PF03318_etx_mtx2_full_length_sequences.fasta\",\"negative\",\"PF01823_macpf_uniprot.fasta\",\"PF06369_anemone_cytotox_full_length_sequences.fasta\",\"negative\",\"negative\",\"PF11393_T4BSS_dotI_icml_full_length_sequences.fasta\",\"negative\",\"PF05802_espb_full_length_sequences.fasta\",\"negative\",\"negative\",\"negative\",\"negative\",\"negative\",\"PF11393_T4BSS_dotI_icml_full_length_sequences.fasta\",\"negative\",\"negative\",\"PF01117_aerolysin_full_length_sequences.fasta\",\"PF06355_aegerolysin_full_length_sequences.fasta\",\"negative\",\"negative\",\"negative\",\"PF06369_anemone_cytotox_full_length_sequences.fasta\",\"PF06355_aegerolysin_full_length_sequences.fasta\",\"PF11393_T4BSS_dotI_icml_full_length_sequences.fasta\",\"negative\",\"negative\",\"negative\",\"PF12261_t_hemolysin_full_length_sequences.fasta\",\"negative\",\"negative\",\"PF00087_toxin_tolip_full_length_sequences.fasta\",\"negative\",\"PF03318_etx_mtx2_full_length_sequences.fasta\",\"PF00555_Endotoxin_M_uniprot.fasta\",\"negative\",\"negative\",\"negative\",\"negative\",\"negative\",\"PF07968_leukocidin_full_length_sequences.fasta\",\"negative\",\"negative\",\"negative\",\"PF12261_t_hemolysin_full_length_sequences.fasta\",\"PF01117_aerolysin_full_length_sequences.fasta\",\"negative\",\"negative\",\"negative\",\"PF00555_Endotoxin_M_uniprot.fasta\",\"negative\",\"negative\",\"PF01024_colicin_full_length_sequences.fasta\",\"PF03318_etx_mtx2_full_length_sequences.fasta\",\"negative\",\"negative\",\"negative\",\"PF03318_etx_mtx2_full_length_sequences.fasta\",\"PF00087_toxin_tolip_full_length_sequences.fasta\",\"negative\",\"PF06355_aegerolysin_full_length_sequences.fasta\",\"negative\",\"PF01289_thiol_cytolysin_full_length_sequences.fasta\",\"negative\",\"negative\",\"negative\",\"negative\",\"negative\",\"negative\",\"pf05105_phage_holin_4_1_uniprot.fasta\",\"negative\",\"PF01338_Bac_thur_toxin_full_length_sequences.fasta\",\"negative\",\"negative\",\"negative\",\"negative\",\"PF12261_t_hemolysin_full_length_sequences.fasta\",\"PF01289_thiol_cytolysin_full_length_sequences.fasta\",\"negative\",\"negative\",\"PF00555_Endotoxin_M_uniprot.fasta\",\"negative\",\"PF03318_etx_mtx2_full_length_sequences.fasta\",\"PF03945_Endotoxin_N_full_length_sequences.fasta\",\"negative\",\"PF06369_anemone_cytotox_full_length_sequences.fasta\",\"PF12261_t_hemolysin_full_length_sequences.fasta\",\"PF06369_anemone_cytotox_full_length_sequences.fasta\",\"PF06355_aegerolysin_full_length_sequences.fasta\",\"negative\",\"negative\",\"negative\",\"negative\",\"PF06369_anemone_cytotox_full_length_sequences.fasta\",\"PF03318_etx_mtx2_full_length_sequences.fasta\",\"PF07367_fb_lectin_full_length_sequences.fasta\",\"negative\",\"negative\",\"negative\",\"PF07367_fb_lectin_full_length_sequences.fasta\",\"negative\",\"negative\",\"negative\",\"negative\",\"PF04598_gasdermin_uniprot.fasta\",\"negative\",\"PF06355_aegerolysin_full_length_sequences.fasta\",\"negative\",\"PF06369_anemone_cytotox_full_length_sequences.fasta\",\"PF06109_hlye_full_length_sequences.fasta\",\"negative\",\"negative\",\"negative\",\"PF01117_aerolysin_full_length_sequences.fasta\",\"negative\",\"PF06369_anemone_cytotox_full_length_sequences.fasta\",\"PF12261_t_hemolysin_full_length_sequences.fasta\",\"PF11393_T4BSS_dotI_icml_full_length_sequences.fasta\",\"negative\",\"PF01338_Bac_thur_toxin_full_length_sequences.fasta\",\"PF00087_toxin_tolip_full_length_sequences.fasta\",\"negative\",\"negative\",\"negative\",\"PF01117_aerolysin_full_length_sequences.fasta\",\"negative\",\"negative\",\"PF06369_anemone_cytotox_full_length_sequences.fasta\",\"negative\",\"PF11393_T4BSS_dotI_icml_full_length_sequences.fasta\",\"PF03945_Endotoxin_N_full_length_sequences.fasta\",\"negative\",\"negative\",\"negative\",\"PF12261_t_hemolysin_full_length_sequences.fasta\",\"negative\",\"negative\",\"negative\",\"PF03945_Endotoxin_N_full_length_sequences.fasta\",\"negative\",\"negative\",\"negative\",\"PF12261_t_hemolysin_full_length_sequences.fasta\",\"PF11393_T4BSS_dotI_icml_full_length_sequences.fasta\",\"negative\",\"PF03945_Endotoxin_N_full_length_sequences.fasta\",\"negative\",\"negative\",\"PF12261_t_hemolysin_full_length_sequences.fasta\",\"negative\",\"negative\",\"PF11393_T4BSS_dotI_icml_full_length_sequences.fasta\",\"negative\",\"negative\",\"negative\",\"negative\",\"negative\",\"negative\",\"PF06369_anemone_cytotox_full_length_sequences.fasta\",\"negative\",\"negative\",\"negative\",\"negative\",\"PF01117_aerolysin_full_length_sequences.fasta\",\"negative\",\"PF12261_t_hemolysin_full_length_sequences.fasta\",\"negative\",\"PF12261_t_hemolysin_full_length_sequences.fasta\",\"PF06369_anemone_cytotox_full_length_sequences.fasta\",\"negative\",\"negative\",\"PF07968_leukocidin_full_length_sequences.fasta\",\"PF00087_toxin_tolip_full_length_sequences.fasta\",\"negative\",\"PF03945_Endotoxin_N_full_length_sequences.fasta\",\"PF01117_aerolysin_full_length_sequences.fasta\",\"negative\",\"negative\",\"negative\",\"negative\",\"PF06355_aegerolysin_full_length_sequences.fasta\",\"negative\",\"negative\",\"PF12261_t_hemolysin_full_length_sequences.fasta\",\"negative\",\"negative\",\"PF07968_leukocidin_full_length_sequences.fasta\",\"PF12261_t_hemolysin_full_length_sequences.fasta\",\"PF03945_Endotoxin_N_full_length_sequences.fasta\",\"negative\",\"negative\",\"PF03318_etx_mtx2_full_length_sequences.fasta\",\"negative\",\"PF01289_thiol_cytolysin_full_length_sequences.fasta\",\"negative\",\"PF00087_toxin_tolip_full_length_sequences.fasta\",\"negative\",\"PF06355_aegerolysin_full_length_sequences.fasta\",\"negative\",\"negative\",\"negative\",\"negative\",\"negative\",\"negative\",\"PF03318_etx_mtx2_full_length_sequences.fasta\",\"PF12261_t_hemolysin_full_length_sequences.fasta\",\"negative\",\"negative\",\"PF07367_fb_lectin_full_length_sequences.fasta\",\"PF12261_t_hemolysin_full_length_sequences.fasta\",\"negative\",\"PF03945_Endotoxin_N_full_length_sequences.fasta\",\"negative\",\"PF01289_thiol_cytolysin_full_length_sequences.fasta\",\"negative\",\"negative\",\"PF06369_anemone_cytotox_full_length_sequences.fasta\",\"negative\",\"negative\",\"negative\",\"PF06355_aegerolysin_full_length_sequences.fasta\",\"negative\",\"negative\",\"negative\",\"negative\",\"PF06355_aegerolysin_full_length_sequences.fasta\",\"PF07367_fb_lectin_full_length_sequences.fasta\",\"negative\",\"PF00087_toxin_tolip_full_length_sequences.fasta\",\"PF11565_porb_full_length_sequences.fasta\",\"PF06369_anemone_cytotox_full_length_sequences.fasta\",\"negative\",\"PF01338_Bac_thur_toxin_full_length_sequences.fasta\",\"negative\",\"negative\",\"PF03318_etx_mtx2_full_length_sequences.fasta\",\"negative\",\"negative\",\"PF06355_aegerolysin_full_length_sequences.fasta\",\"negative\",\"negative\",\"PF12261_t_hemolysin_full_length_sequences.fasta\",\"negative\",\"negative\",\"PF00087_toxin_tolip_full_length_sequences.fasta\",\"negative\",\"negative\",\"PF01024_colicin_full_length_sequences.fasta\",\"negative\",\"negative\",\"negative\",\"PF12261_t_hemolysin_full_length_sequences.fasta\",\"negative\",\"negative\",\"negative\",\"negative\",\"negative\",\"PF01117_aerolysin_full_length_sequences.fasta\",\"PF03945_Endotoxin_N_full_length_sequences.fasta\",\"PF12261_t_hemolysin_full_length_sequences.fasta\",\"negative\",\"negative\",\"negative\",\"PF03318_etx_mtx2_full_length_sequences.fasta\",\"negative\",\"negative\",\"negative\",\"negative\",\"PF06369_anemone_cytotox_full_length_sequences.fasta\",\"negative\",\"negative\",\"PF01289_thiol_cytolysin_full_length_sequences.fasta\",\"negative\",\"negative\",\"PF12261_t_hemolysin_full_length_sequences.fasta\",\"negative\",\"negative\",\"negative\",\"negative\",\"PF11393_T4BSS_dotI_icml_full_length_sequences.fasta\",\"negative\",\"negative\",\"negative\",\"negative\",\"negative\",\"negative\",\"PF18063_BB_PF_full_length_sequences.fasta\",\"negative\",\"PF17475_binary_toxb_2_full_length_sequences.fasta\",\"negative\",\"negative\",\"negative\",\"PF06109_hlye_full_length_sequences.fasta\",\"negative\",\"PF06355_aegerolysin_full_length_sequences.fasta\",\"negative\",\"negative\",\"negative\",\"negative\",\"negative\",\"PF00087_toxin_tolip_full_length_sequences.fasta\",\"negative\",\"negative\",\"negative\",\"negative\",\"negative\",\"negative\",\"negative\",\"PF03945_Endotoxin_N_full_length_sequences.fasta\",\"PF06109_hlye_full_length_sequences.fasta\",\"negative\",\"negative\",\"PF12261_t_hemolysin_full_length_sequences.fasta\",\"negative\",\"negative\",\"negative\",\"PF00087_toxin_tolip_full_length_sequences.fasta\",\"negative\",\"PF06109_hlye_full_length_sequences.fasta\",\"negative\",\"PF12261_t_hemolysin_full_length_sequences.fasta\",\"negative\",\"PF12261_t_hemolysin_full_length_sequences.fasta\",\"negative\",\"PF12261_t_hemolysin_full_length_sequences.fasta\",\"PF03318_etx_mtx2_full_length_sequences.fasta\",\"PF01289_thiol_cytolysin_full_length_sequences.fasta\",\"PF07367_fb_lectin_full_length_sequences.fasta\",\"PF03945_Endotoxin_N_full_length_sequences.fasta\",\"PF00555_Endotoxin_M_uniprot.fasta\",\"negative\",\"PF03318_etx_mtx2_full_length_sequences.fasta\",\"negative\",\"negative\",\"negative\",\"PF01117_aerolysin_full_length_sequences.fasta\",\"negative\",\"PF01117_aerolysin_full_length_sequences.fasta\",\"negative\",\"PF03318_etx_mtx2_full_length_sequences.fasta\",\"PF04877_harpin_full_length_sequences.fasta\",\"negative\",\"PF12920_tcda_tcdb_pore_full_length_sequences.fasta\",\"negative\",\"PF12261_t_hemolysin_full_length_sequences.fasta\",\"PF06369_anemone_cytotox_full_length_sequences.fasta\",\"PF11393_T4BSS_dotI_icml_full_length_sequences.fasta\",\"negative\",\"negative\",\"negative\",\"PF06355_aegerolysin_full_length_sequences.fasta\",\"negative\",\"negative\",\"PF06355_aegerolysin_full_length_sequences.fasta\",\"negative\",\"PF01289_thiol_cytolysin_full_length_sequences.fasta\",\"negative\",\"PF01338_Bac_thur_toxin_full_length_sequences.fasta\",\"negative\",\"negative\",\"PF07367_fb_lectin_full_length_sequences.fasta\",\"negative\",\"PF12261_t_hemolysin_full_length_sequences.fasta\",\"negative\",\"PF07367_fb_lectin_full_length_sequences.fasta\",\"PF06369_anemone_cytotox_full_length_sequences.fasta\",\"negative\",\"negative\",\"PF06355_aegerolysin_full_length_sequences.fasta\",\"PF12261_t_hemolysin_full_length_sequences.fasta\",\"PF00087_toxin_tolip_full_length_sequences.fasta\",\"negative\",\"PF06109_hlye_full_length_sequences.fasta\",\"PF06355_aegerolysin_full_length_sequences.fasta\",\"negative\",\"negative\",\"PF18063_BB_PF_full_length_sequences.fasta\",\"PF00087_toxin_tolip_full_length_sequences.fasta\",\"negative\",\"negative\",\"PF03945_Endotoxin_N_full_length_sequences.fasta\",\"PF02382_rtx_full_length_sequences.fasta\",\"PF00087_toxin_tolip_full_length_sequences.fasta\",\"negative\",\"negative\",\"PF01289_thiol_cytolysin_full_length_sequences.fasta\",\"negative\",\"negative\",\"negative\",\"PF03945_Endotoxin_N_full_length_sequences.fasta\",\"PF03318_etx_mtx2_full_length_sequences.fasta\",\"PF04598_gasdermin_uniprot.fasta\",\"PF03945_Endotoxin_N_full_length_sequences.fasta\",\"PF03318_etx_mtx2_full_length_sequences.fasta\",\"PF00087_toxin_tolip_full_length_sequences.fasta\",\"PF01823_macpf_uniprot.fasta\",\"PF07968_leukocidin_full_length_sequences.fasta\",\"PF03318_etx_mtx2_full_length_sequences.fasta\",\"PF06355_aegerolysin_full_length_sequences.fasta\",\"PF01289_thiol_cytolysin_full_length_sequences.fasta\",\"negative\",\"negative\",\"negative\",\"PF18684_plyb_c_full_length_sequences.fasta\",\"negative\",\"negative\",\"PF03318_etx_mtx2_full_length_sequences.fasta\",\"negative\",\"PF12261_t_hemolysin_full_length_sequences.fasta\",\"negative\",\"negative\",\"negative\",\"negative\",\"negative\",\"negative\",\"negative\",\"PF12920_tcda_tcdb_pore_full_length_sequences.fasta\",\"PF12261_t_hemolysin_full_length_sequences.fasta\",\"negative\",\"negative\",\"negative\",\"negative\",\"negative\",\"negative\",\"negative\",\"PF12261_t_hemolysin_full_length_sequences.fasta\",\"PF01289_thiol_cytolysin_full_length_sequences.fasta\",\"negative\",\"negative\",\"PF01117_aerolysin_full_length_sequences.fasta\",\"PF00087_toxin_tolip_full_length_sequences.fasta\",\"negative\",\"negative\",\"negative\",\"negative\",\"PF06109_hlye_full_length_sequences.fasta\",\"negative\",\"PF03318_etx_mtx2_full_length_sequences.fasta\",\"PF01823_macpf_uniprot.fasta\",\"PF03318_etx_mtx2_full_length_sequences.fasta\",\"negative\",\"PF07367_fb_lectin_full_length_sequences.fasta\",\"PF07367_fb_lectin_full_length_sequences.fasta\",\"PF12261_t_hemolysin_full_length_sequences.fasta\",\"negative\",\"negative\",\"negative\",\"PF03318_etx_mtx2_full_length_sequences.fasta\",\"negative\",\"negative\",\"negative\",\"negative\",\"PF11393_T4BSS_dotI_icml_full_length_sequences.fasta\",\"PF07367_fb_lectin_full_length_sequences.fasta\",\"negative\",\"negative\",\"negative\",\"negative\",\"negative\",\"PF01823_macpf_uniprot.fasta\",\"negative\",\"negative\",\"negative\",\"negative\",\"PF01289_thiol_cytolysin_full_length_sequences.fasta\",\"negative\",\"PF00087_toxin_tolip_full_length_sequences.fasta\",\"negative\",\"negative\",\"negative\",\"negative\",\"PF03318_etx_mtx2_full_length_sequences.fasta\",\"negative\",\"negative\",\"negative\",\"PF12261_t_hemolysin_full_length_sequences.fasta\",\"negative\",\"PF12261_t_hemolysin_full_length_sequences.fasta\",\"PF05802_espb_full_length_sequences.fasta\",\"PF04877_harpin_full_length_sequences.fasta\",\"negative\",\"PF03318_etx_mtx2_full_length_sequences.fasta\",\"negative\",\"negative\",\"PF01289_thiol_cytolysin_full_length_sequences.fasta\",\"negative\",\"negative\",\"PF18684_plyb_c_full_length_sequences.fasta\",\"negative\",\"negative\",\"negative\",\"negative\",\"negative\",\"negative\",\"negative\",\"PF01289_thiol_cytolysin_full_length_sequences.fasta\",\"negative\",\"PF12261_t_hemolysin_full_length_sequences.fasta\",\"negative\",\"negative\",\"negative\",\"negative\",\"negative\",\"negative\",\"PF11393_T4BSS_dotI_icml_full_length_sequences.fasta\",\"negative\",\"negative\",\"negative\",\"negative\",\"negative\",\"negative\",\"negative\",\"PF03318_etx_mtx2_full_length_sequences.fasta\",\"PF06369_anemone_cytotox_full_length_sequences.fasta\",\"negative\",\"negative\",\"negative\",\"PF03318_etx_mtx2_full_length_sequences.fasta\",\"negative\",\"negative\",\"negative\",\"negative\",\"negative\",\"PF01289_thiol_cytolysin_full_length_sequences.fasta\",\"negative\",\"PF00087_toxin_tolip_full_length_sequences.fasta\",\"PF00087_toxin_tolip_full_length_sequences.fasta\",\"negative\",\"PF06369_anemone_cytotox_full_length_sequences.fasta\",\"negative\",\"negative\",\"negative\",\"negative\",\"negative\",\"PF03318_etx_mtx2_full_length_sequences.fasta\",\"negative\",\"negative\",\"PF18063_BB_PF_full_length_sequences.fasta\",\"negative\",\"negative\",\"PF03505_clenterotox_full_length_sequences.fasta\",\"negative\",\"negative\",\"negative\",\"PF11393_T4BSS_dotI_icml_full_length_sequences.fasta\",\"negative\",\"PF12261_t_hemolysin_full_length_sequences.fasta\",\"negative\",\"PF06369_anemone_cytotox_full_length_sequences.fasta\",\"negative\",\"PF06369_anemone_cytotox_full_length_sequences.fasta\",\"PF03318_etx_mtx2_full_length_sequences.fasta\",\"PF12261_t_hemolysin_full_length_sequences.fasta\",\"negative\",\"PF01289_thiol_cytolysin_full_length_sequences.fasta\",\"negative\",\"PF01289_thiol_cytolysin_full_length_sequences.fasta\",\"negative\",\"negative\",\"PF03318_etx_mtx2_full_length_sequences.fasta\",\"negative\",\"PF06369_anemone_cytotox_full_length_sequences.fasta\",\"PF18063_BB_PF_full_length_sequences.fasta\",\"negative\",\"negative\",\"PF01117_aerolysin_full_length_sequences.fasta\",\"PF06109_hlye_full_length_sequences.fasta\",\"negative\",\"negative\",\"negative\",\"PF06355_aegerolysin_full_length_sequences.fasta\",\"PF07367_fb_lectin_full_length_sequences.fasta\",\"negative\",\"PF01289_thiol_cytolysin_full_length_sequences.fasta\",\"PF12261_t_hemolysin_full_length_sequences.fasta\",\"negative\",\"negative\",\"PF17475_binary_toxb_2_full_length_sequences.fasta\",\"negative\",\"negative\",\"negative\",\"negative\",\"PF01338_Bac_thur_toxin_full_length_sequences.fasta\",\"PF12261_t_hemolysin_full_length_sequences.fasta\",\"negative\",\"PF03945_Endotoxin_N_full_length_sequences.fasta\",\"PF07367_fb_lectin_full_length_sequences.fasta\",\"negative\",\"negative\",\"PF01823_macpf_uniprot.fasta\",\"negative\",\"PF03318_etx_mtx2_full_length_sequences.fasta\",\"PF06355_aegerolysin_full_length_sequences.fasta\",\"PF05802_espb_full_length_sequences.fasta\",\"negative\",\"PF06355_aegerolysin_full_length_sequences.fasta\",\"negative\",\"negative\",\"negative\",\"PF12261_t_hemolysin_full_length_sequences.fasta\",\"negative\",\"negative\",\"negative\",\"negative\",\"negative\",\"negative\",\"PF03945_Endotoxin_N_full_length_sequences.fasta\",\"negative\",\"negative\",\"PF01024_colicin_full_length_sequences.fasta\",\"negative\",\"negative\",\"PF03945_Endotoxin_N_full_length_sequences.fasta\",\"negative\",\"PF11393_T4BSS_dotI_icml_full_length_sequences.fasta\",\"negative\",\"negative\",\"negative\",\"PF01289_thiol_cytolysin_full_length_sequences.fasta\",\"negative\",\"negative\",\"negative\",\"negative\",\"PF01117_aerolysin_full_length_sequences.fasta\",\"negative\",\"negative\",\"negative\",\"negative\",\"negative\",\"negative\",\"negative\",\"PF12261_t_hemolysin_full_length_sequences.fasta\",\"negative\",\"negative\",\"negative\",\"PF05802_espb_full_length_sequences.fasta\",\"negative\",\"PF05802_espb_full_length_sequences.fasta\",\"negative\",\"PF03318_etx_mtx2_full_length_sequences.fasta\",\"PF12261_t_hemolysin_full_length_sequences.fasta\",\"PF12261_t_hemolysin_full_length_sequences.fasta\",\"negative\",\"negative\",\"PF01823_macpf_uniprot.fasta\",\"negative\",\"negative\",\"negative\",\"negative\",\"PF01117_aerolysin_full_length_sequences.fasta\",\"negative\",\"PF11393_T4BSS_dotI_icml_full_length_sequences.fasta\",\"negative\",\"negative\",\"negative\",\"PF01289_thiol_cytolysin_full_length_sequences.fasta\",\"PF05802_espb_full_length_sequences.fasta\",\"negative\",\"negative\",\"PF01117_aerolysin_full_length_sequences.fasta\",\"negative\",\"negative\",\"PF03318_etx_mtx2_full_length_sequences.fasta\",\"PF03945_Endotoxin_N_full_length_sequences.fasta\",\"PF12261_t_hemolysin_full_length_sequences.fasta\",\"negative\",\"negative\",\"negative\",\"negative\",\"negative\",\"negative\",\"negative\",\"negative\",\"PF11393_T4BSS_dotI_icml_full_length_sequences.fasta\",\"negative\",\"PF11565_porb_full_length_sequences.fasta\",\"negative\",\"negative\",\"negative\",\"negative\",\"negative\",\"negative\",\"PF11393_T4BSS_dotI_icml_full_length_sequences.fasta\",\"negative\",\"PF02382_rtx_full_length_sequences.fasta\",\"negative\",\"PF18063_BB_PF_full_length_sequences.fasta\",\"PF18063_BB_PF_full_length_sequences.fasta\",\"negative\",\"negative\",\"negative\",\"PF03318_etx_mtx2_full_length_sequences.fasta\",\"negative\",\"negative\",\"negative\",\"negative\",\"negative\",\"negative\",\"negative\",\"PF06369_anemone_cytotox_full_length_sequences.fasta\",\"negative\",\"negative\",\"PF03318_etx_mtx2_full_length_sequences.fasta\",\"negative\",\"negative\",\"PF03318_etx_mtx2_full_length_sequences.fasta\",\"PF06355_aegerolysin_full_length_sequences.fasta\",\"negative\",\"PF01338_Bac_thur_toxin_full_length_sequences.fasta\",\"negative\",\"PF06355_aegerolysin_full_length_sequences.fasta\",\"negative\",\"negative\",\"PF12261_t_hemolysin_full_length_sequences.fasta\",\"negative\",\"negative\",\"negative\",\"negative\",\"PF01117_aerolysin_full_length_sequences.fasta\",\"PF06355_aegerolysin_full_length_sequences.fasta\",\"negative\",\"pf05105_phage_holin_4_1_uniprot.fasta\",\"negative\",\"negative\",\"PF00087_toxin_tolip_full_length_sequences.fasta\",\"negative\",\"negative\",\"negative\",\"PF01117_aerolysin_full_length_sequences.fasta\",\"negative\",\"PF06369_anemone_cytotox_full_length_sequences.fasta\",\"negative\",\"negative\",\"negative\",\"negative\",\"PF05802_espb_full_length_sequences.fasta\",\"PF01117_aerolysin_full_length_sequences.fasta\",\"negative\",\"PF11393_T4BSS_dotI_icml_full_length_sequences.fasta\",\"PF01117_aerolysin_full_length_sequences.fasta\",\"negative\",\"PF07367_fb_lectin_full_length_sequences.fasta\",\"PF03318_etx_mtx2_full_length_sequences.fasta\"],\"label\":[27,27,16,17,27,17,27,0,27,27,27,24,0,27,27,11,27,1,27,27,27,27,20,8,27,27,27,8,27,16,0,17,27,16,27,27,27,5,27,27,27,27,27,4,27,27,19,20,8,27,0,27,17,27,20,27,16,27,27,27,4,8,27,27,0,5,27,27,17,27,22,17,27,27,3,16,27,19,20,27,27,22,0,27,27,27,27,27,27,27,23,27,8,27,4,27,0,27,21,27,15,27,10,27,27,27,2,22,3,1,27,27,27,27,27,4,22,27,27,18,22,1,0,4,27,5,20,27,18,27,27,27,27,27,27,27,27,13,27,27,27,27,22,27,27,27,25,27,0,27,21,27,27,27,18,27,27,8,25,17,27,11,20,27,27,27,8,27,27,27,27,27,27,27,27,27,27,8,17,27,16,27,20,22,27,27,16,27,27,22,27,0,27,22,27,11,8,22,27,0,3,17,27,20,27,11,22,16,0,8,27,27,27,22,4,27,16,20,4,27,4,27,4,16,27,8,27,27,27,27,27,27,27,5,3,27,27,27,18,8,27,27,27,27,27,8,27,20,16,27,27,27,17,27,27,27,27,27,27,2,20,27,4,27,4,27,13,27,14,27,8,27,18,27,4,27,27,27,21,8,27,4,27,27,27,8,19,27,27,27,27,22,22,8,11,27,25,17,27,22,3,10,4,22,27,8,27,27,21,3,8,27,11,27,27,18,27,16,13,27,27,27,27,27,27,27,27,27,17,27,4,27,27,27,4,27,16,27,27,18,27,1,27,3,27,27,20,27,27,27,23,27,11,27,27,27,8,27,20,17,22,11,27,27,27,27,27,4,19,27,27,27,27,27,27,19,27,20,27,27,27,15,22,27,19,17,27,27,27,27,27,27,27,16,23,4,27,16,23,27,27,27,27,27,27,27,27,27,27,27,27,11,3,11,27,27,8,27,27,27,27,5,27,27,23,4,8,27,27,27,27,0,8,27,27,4,27,27,27,27,27,18,27,27,17,4,20,27,27,27,27,27,8,27,27,4,27,11,27,27,8,27,27,5,20,8,27,6,17,27,27,20,27,14,27,27,27,27,27,20,27,27,3,16,27,27,27,17,16,20,27,27,27,22,27,27,0,27,8,1,27,27,27,27,27,19,27,27,27,22,3,27,27,27,1,27,27,2,8,27,27,27,8,0,27,16,27,4,27,27,27,27,27,27,28,27,5,27,27,27,27,22,4,27,27,1,27,8,11,27,17,22,17,16,27,27,27,27,17,8,18,27,27,27,18,27,27,27,27,12,27,16,27,17,15,27,27,27,3,27,17,22,20,27,5,0,27,27,27,3,27,27,17,27,20,11,27,27,27,22,27,27,27,11,27,27,27,22,20,27,11,27,27,22,27,27,20,27,27,27,27,27,27,17,27,27,27,27,3,27,22,27,22,17,27,27,19,0,27,11,3,27,27,27,27,16,27,27,22,27,27,19,22,11,27,27,8,27,4,27,0,27,16,27,27,27,27,27,27,8,22,27,27,18,22,27,11,27,4,27,27,17,27,27,27,16,27,27,27,27,16,18,27,0,21,17,27,5,27,27,8,27,27,16,27,27,22,27,27,0,27,27,2,27,27,27,22,27,27,27,27,27,3,11,22,27,27,27,8,27,27,27,27,17,27,27,4,27,27,22,27,27,27,27,20,27,27,27,27,27,27,25,27,24,27,27,27,15,27,16,27,27,27,27,27,0,27,27,27,27,27,27,27,11,15,27,27,22,27,27,27,0,27,15,27,22,27,22,27,22,8,4,18,11,1,27,8,27,27,27,3,27,3,27,8,13,27,23,27,22,17,20,27,27,27,16,27,27,16,27,4,27,5,27,27,18,27,22,27,18,17,27,27,16,22,0,27,15,16,27,27,25,0,27,27,11,7,0,27,27,4,27,27,27,11,8,12,11,8,0,6,19,8,16,4,27,27,27,26,27,27,8,27,22,27,27,27,27,27,27,27,23,22,27,27,27,27,27,27,27,22,4,27,27,3,0,27,27,27,27,15,27,8,6,8,27,18,18,22,27,27,27,8,27,27,27,27,20,18,27,27,27,27,27,6,27,27,27,27,4,27,0,27,27,27,27,8,27,27,27,22,27,22,14,13,27,8,27,27,4,27,27,26,27,27,27,27,27,27,27,4,27,22,27,27,27,27,27,27,20,27,27,27,27,27,27,27,8,17,27,27,27,8,27,27,27,27,27,4,27,0,0,27,17,27,27,27,27,27,8,27,27,25,27,27,9,27,27,27,20,27,22,27,17,27,17,8,22,27,4,27,4,27,27,8,27,17,25,27,27,3,15,27,27,27,16,18,27,4,22,27,27,24,27,27,27,27,5,22,27,11,18,27,27,6,27,8,16,14,27,16,27,27,27,22,27,27,27,27,27,27,11,27,27,2,27,27,11,27,20,27,27,27,4,27,27,27,27,3,27,27,27,27,27,27,27,22,27,27,27,14,27,14,27,8,22,22,27,27,6,27,27,27,27,3,27,20,27,27,27,4,14,27,27,3,27,27,8,11,22,27,27,27,27,27,27,27,27,20,27,21,27,27,27,27,27,27,20,27,7,27,25,25,27,27,27,8,27,27,27,27,27,27,27,17,27,27,8,27,27,8,16,27,5,27,16,27,27,22,27,27,27,27,3,16,27,28,27,27,0,27,27,27,3,27,17,27,27,27,27,14,3,27,20,3,27,18,8],\"level_0\":[0,1,2,3,4,5,6,7,8,9,10,11,12,13,14,15,16,17,18,19,20,21,22,23,24,25,26,27,28,29,30,31,32,33,34,35,36,37,38,39,40,41,42,43,44,45,46,47,48,49,50,51,52,53,54,55,56,57,58,59,60,61,62,63,64,65,66,67,68,69,70,71,72,73,74,75,76,77,78,79,80,81,82,83,84,85,86,87,88,89,90,91,92,93,94,95,96,97,98,99,100,101,102,103,104,105,106,107,108,109,110,111,112,113,114,115,116,117,118,119,120,121,122,123,124,125,126,127,128,129,130,131,132,133,134,135,136,137,138,139,140,141,142,143,144,145,146,147,148,149,150,151,152,153,154,155,156,157,158,159,160,161,162,163,164,165,166,167,168,169,170,171,172,173,174,175,176,177,178,179,180,181,182,183,184,185,186,187,188,189,190,191,192,193,194,195,196,197,198,199,200,201,202,203,204,205,206,207,208,209,210,211,212,213,214,215,216,217,218,219,220,221,222,223,224,225,226,227,228,229,230,231,232,233,234,235,236,237,238,239,240,241,242,243,244,245,246,247,248,249,250,251,252,253,254,255,256,257,258,259,260,261,262,263,264,265,266,267,268,269,270,271,272,273,274,275,276,277,278,279,280,281,282,283,284,285,286,287,288,289,290,291,292,293,294,295,296,297,298,299,300,301,302,303,304,305,306,307,308,309,310,311,312,313,314,315,316,317,318,319,320,321,322,323,324,325,326,327,328,329,330,331,332,333,334,335,336,337,338,339,340,341,342,343,344,345,346,347,348,349,350,351,352,353,354,355,356,357,358,359,360,361,362,363,364,365,366,367,368,369,370,371,372,373,374,375,376,377,378,379,380,381,382,383,384,385,386,387,388,389,390,391,392,393,394,395,396,397,398,399,400,401,402,403,404,405,406,407,408,409,410,411,412,413,414,415,416,417,418,419,420,421,422,423,424,425,426,427,428,429,430,431,432,433,434,435,436,437,438,439,440,441,442,443,444,445,446,447,448,449,450,451,452,453,454,455,456,457,458,459,460,461,462,463,464,465,466,467,468,469,470,471,472,473,474,475,476,477,478,479,480,481,482,483,484,485,486,487,488,489,490,491,492,493,494,495,496,497,498,499,500,501,502,503,504,505,506,507,508,509,510,511,512,513,514,515,516,517,518,519,520,521,522,523,524,525,526,527,528,529,530,531,532,533,534,535,536,537,538,539,540,541,542,543,544,545,546,547,548,549,550,551,552,553,554,555,556,557,558,559,560,561,562,563,564,565,566,567,568,569,570,571,572,573,574,575,576,577,578,579,580,581,582,583,584,585,586,587,588,589,590,591,592,593,594,595,596,597,598,599,600,601,602,603,604,605,606,607,608,609,610,611,612,613,614,615,616,617,618,619,620,621,622,623,624,625,626,627,628,629,630,631,632,633,634,635,636,637,638,639,640,641,642,643,644,645,646,647,648,649,650,651,652,653,654,655,656,657,658,659,660,661,662,663,664,665,666,667,668,669,670,671,672,673,674,675,676,677,678,679,680,681,682,683,684,685,686,687,688,689,690,691,692,693,694,695,696,697,698,699,700,701,702,703,704,705,706,707,708,709,710,711,712,713,714,715,716,717,718,719,720,721,722,723,724,725,726,727,728,729,730,731,732,733,734,735,736,737,738,739,740,741,742,743,744,745,746,747,748,749,750,751,752,753,754,755,756,757,758,759,760,761,762,763,764,765,766,767,768,769,770,771,772,773,774,775,776,777,778,779,780,781,782,783,784,785,786,787,788,789,790,791,792,793,794,795,796,797,798,799,800,801,802,803,804,805,806,807,808,809,810,811,812,813,814,815,816,817,818,819,820,821,822,823,824,825,826,827,828,829,830,831,832,833,834,835,836,837,838,839,840,841,842,843,844,845,846,847,848,849,850,851,852,853,854,855,856,857,858,859,860,861,862,863,864,865,866,867,868,869,870,871,872,873,874,875,876,877,878,879,880,881,882,883,884,885,886,887,888,889,890,891,892,893,894,895,896,897,898,899,900,901,902,903,904,905,906,907,908,909,910,911,912,913,914,915,916,917,918,919,920,921,922,923,924,925,926,927,928,929,930,931,932,933,934,935,936,937,938,939,940,941,942,943,944,945,946,947,948,949,950,951,952,953,954,955,956,957,958,959,960,961,962,963,964,965,966,967,968,969,970,971,972,973,974,975,976,977,978,979,980,981,982,983,984,985,986,987,988,989,990,991,992,993,994,995,996,997,998,999,1000,1001,1002,1003,1004,1005,1006,1007,1008,1009,1010,1011,1012,1013,1014,1015,1016,1017,1018,1019,1020,1021,1022,1023,1024,1025,1026,1027,1028,1029,1030,1031,1032,1033,1034,1035,1036,1037,1038,1039,1040,1041,1042,1043,1044,1045,1046,1047,1048,1049,1050,1051,1052,1053,1054,1055,1056,1057,1058,1059,1060,1061,1062,1063,1064,1065,1066,1067,1068,1069,1070,1071,1072,1073,1074,1075,1076,1077,1078,1079,1080,1081,1082,1083,1084,1085,1086,1087,1088,1089,1090,1091,1092,1093,1094,1095,1096,1097,1098,1099,1100,1101,1102,1103,1104,1105,1106,1107,1108,1109,1110,1111,1112,1113,1114,1115,1116,1117,1118,1119,1120,1121,1122,1123,1124,1125,1126,1127,1128,1129,1130,1131,1132,1133,1134,1135,1136,1137,1138,1139,1140,1141,1142,1143,1144,1145,1146,1147,1148,1149,1150,1151,1152,1153,1154,1155,1156,1157,1158,1159,1160,1161,1162,1163,1164,1165,1166,1167,1168,1169,1170,1171,1172,1173,1174,1175,1176,1177,1178,1179,1180,1181,1182,1183,1184,1185,1186,1187,1188,1189,1190,1191,1192,1193,1194,1195,1196,1197,1198,1199,1200,1201,1202,1203,1204,1205,1206,1207],\"x\":{\"__ndarray__\":\"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\",\"dtype\":\"float32\",\"order\":\"little\",\"shape\":[1208]},\"y\":{\"__ndarray__\":\"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\",\"dtype\":\"float32\",\"order\":\"little\",\"shape\":[1208]}},\"selected\":{\"id\":\"1047\"},\"selection_policy\":{\"id\":\"1048\"}},\"id\":\"1001\",\"type\":\"ColumnDataSource\"},{\"attributes\":{\"callback\":null,\"tooltips\":[[\"index\",\"@index\"],[\"label\",\"@label\"],[\"item\",\"@item\"]]},\"id\":\"1026\",\"type\":\"HoverTool\"},{\"attributes\":{},\"id\":\"1005\",\"type\":\"DataRange1d\"},{\"attributes\":{},\"id\":\"1012\",\"type\":\"BasicTicker\"},{\"attributes\":{\"axis\":{\"id\":\"1011\"},\"ticker\":null,\"visible\":false},\"id\":\"1014\",\"type\":\"Grid\"},{\"attributes\":{\"active_drag\":\"auto\",\"active_inspect\":\"auto\",\"active_multi\":null,\"active_scroll\":\"auto\",\"active_tap\":\"auto\",\"tools\":[{\"id\":\"1019\"},{\"id\":\"1020\"},{\"id\":\"1021\"},{\"id\":\"1022\"},{\"id\":\"1023\"},{\"id\":\"1024\"},{\"id\":\"1026\"}]},\"id\":\"1027\",\"type\":\"Toolbar\"},{\"attributes\":{\"overlay\":{\"id\":\"1025\"}},\"id\":\"1021\",\"type\":\"BoxZoomTool\"},{\"attributes\":{},\"id\":\"1020\",\"type\":\"WheelZoomTool\"},{\"attributes\":{},\"id\":\"1024\",\"type\":\"HelpTool\"},{\"attributes\":{\"formatter\":{\"id\":\"1046\"},\"ticker\":{\"id\":\"1016\"},\"visible\":false},\"id\":\"1015\",\"type\":\"LinearAxis\"},{\"attributes\":{\"data_source\":{\"id\":\"1001\"},\"glyph\":{\"id\":\"1036\"},\"hover_glyph\":null,\"muted_glyph\":null,\"nonselection_glyph\":{\"id\":\"1037\"},\"selection_glyph\":null,\"view\":{\"id\":\"1039\"}},\"id\":\"1038\",\"type\":\"GlyphRenderer\"},{\"attributes\":{},\"id\":\"1007\",\"type\":\"LinearScale\"},{\"attributes\":{\"formatter\":{\"id\":\"1044\"},\"ticker\":{\"id\":\"1012\"},\"visible\":false},\"id\":\"1011\",\"type\":\"LinearAxis\"},{\"attributes\":{\"source\":{\"id\":\"1001\"}},\"id\":\"1039\",\"type\":\"CDSView\"},{\"attributes\":{},\"id\":\"1046\",\"type\":\"BasicTickFormatter\"},{\"attributes\":{},\"id\":\"1047\",\"type\":\"Selection\"},{\"attributes\":{},\"id\":\"1019\",\"type\":\"PanTool\"},{\"attributes\":{},\"id\":\"1003\",\"type\":\"DataRange1d\"},{\"attributes\":{},\"id\":\"1009\",\"type\":\"LinearScale\"},{\"attributes\":{\"fill_alpha\":{\"field\":\"alpha\"},\"fill_color\":{\"field\":\"color\"},\"line_alpha\":{\"field\":\"alpha\"},\"line_color\":{\"field\":\"color\"},\"size\":{\"units\":\"screen\",\"value\":5},\"x\":{\"field\":\"x\"},\"y\":{\"field\":\"y\"}},\"id\":\"1036\",\"type\":\"Circle\"},{\"attributes\":{},\"id\":\"1016\",\"type\":\"BasicTicker\"},{\"attributes\":{},\"id\":\"1022\",\"type\":\"SaveTool\"},{\"attributes\":{\"text\":\"\"},\"id\":\"1041\",\"type\":\"Title\"},{\"attributes\":{},\"id\":\"1023\",\"type\":\"ResetTool\"},{\"attributes\":{},\"id\":\"1044\",\"type\":\"BasicTickFormatter\"},{\"attributes\":{\"fill_alpha\":{\"value\":0.1},\"fill_color\":{\"field\":\"color\"},\"line_alpha\":{\"value\":0.1},\"line_color\":{\"field\":\"color\"},\"size\":{\"units\":\"screen\",\"value\":5},\"x\":{\"field\":\"x\"},\"y\":{\"field\":\"y\"}},\"id\":\"1037\",\"type\":\"Circle\"},{\"attributes\":{},\"id\":\"1048\",\"type\":\"UnionRenderers\"}],\"root_ids\":[\"1002\"]},\"title\":\"Bokeh Application\",\"version\":\"2.1.0\"}};\n",
       "  var render_items = [{\"docid\":\"240ec001-99ff-4ae4-9eff-953e8086a862\",\"root_ids\":[\"1002\"],\"roots\":{\"1002\":\"4969f8b0-2ee4-4168-ab36-72cc32650313\"}}];\n",
       "  root.Bokeh.embed.embed_items_notebook(docs_json, render_items);\n",
       "\n",
       "  }\n",
       "  if (root.Bokeh !== undefined) {\n",
       "    embed_document(root);\n",
       "  } else {\n",
       "    var attempts = 0;\n",
       "    var timer = setInterval(function(root) {\n",
       "      if (root.Bokeh !== undefined) {\n",
       "        clearInterval(timer);\n",
       "        embed_document(root);\n",
       "      } else {\n",
       "        attempts++;\n",
       "        if (attempts > 100) {\n",
       "          clearInterval(timer);\n",
       "          console.log(\"Bokeh: ERROR: Unable to run BokehJS code because BokehJS library is missing\");\n",
       "        }\n",
       "      }\n",
       "    }, 10, root)\n",
       "  }\n",
       "})(window);"
      ],
      "application/vnd.bokehjs_exec.v0+json": ""
     },
     "metadata": {
      "application/vnd.bokehjs_exec.v0+json": {
       "id": "1002"
      }
     },
     "output_type": "display_data"
    }
   ],
   "source": [
    "from bokeh.plotting import show, save, output_notebook, output_file\n",
    "\n",
    "p = umap.plot.interactive(valid_mapper, labels=validation_labels, hover_data=hover_data,point_size=5)\n",
    "output_notebook()\n",
    "show(p)"
   ]
  },
  {
   "cell_type": "code",
   "execution_count": 46,
   "metadata": {},
   "outputs": [
    {
     "data": {
      "text/plain": [
       "(4828, 2000, 768)"
      ]
     },
     "execution_count": 46,
     "metadata": {},
     "output_type": "execute_result"
    }
   ],
   "source": [
    "TAPEncoded_train.shape"
   ]
  },
  {
   "cell_type": "code",
   "execution_count": 47,
   "metadata": {},
   "outputs": [
    {
     "data": {
      "text/html": [
       "\n",
       "    <div class=\"bk-root\">\n",
       "        <a href=\"https://bokeh.org\" target=\"_blank\" class=\"bk-logo bk-logo-small bk-logo-notebook\"></a>\n",
       "        <span id=\"1143\">Loading BokehJS ...</span>\n",
       "    </div>"
      ]
     },
     "metadata": {},
     "output_type": "display_data"
    },
    {
     "data": {
      "application/javascript": [
       "\n",
       "(function(root) {\n",
       "  function now() {\n",
       "    return new Date();\n",
       "  }\n",
       "\n",
       "  var force = true;\n",
       "\n",
       "  if (typeof root._bokeh_onload_callbacks === \"undefined\" || force === true) {\n",
       "    root._bokeh_onload_callbacks = [];\n",
       "    root._bokeh_is_loading = undefined;\n",
       "  }\n",
       "\n",
       "  var JS_MIME_TYPE = 'application/javascript';\n",
       "  var HTML_MIME_TYPE = 'text/html';\n",
       "  var EXEC_MIME_TYPE = 'application/vnd.bokehjs_exec.v0+json';\n",
       "  var CLASS_NAME = 'output_bokeh rendered_html';\n",
       "\n",
       "  /**\n",
       "   * Render data to the DOM node\n",
       "   */\n",
       "  function render(props, node) {\n",
       "    var script = document.createElement(\"script\");\n",
       "    node.appendChild(script);\n",
       "  }\n",
       "\n",
       "  /**\n",
       "   * Handle when an output is cleared or removed\n",
       "   */\n",
       "  function handleClearOutput(event, handle) {\n",
       "    var cell = handle.cell;\n",
       "\n",
       "    var id = cell.output_area._bokeh_element_id;\n",
       "    var server_id = cell.output_area._bokeh_server_id;\n",
       "    // Clean up Bokeh references\n",
       "    if (id != null && id in Bokeh.index) {\n",
       "      Bokeh.index[id].model.document.clear();\n",
       "      delete Bokeh.index[id];\n",
       "    }\n",
       "\n",
       "    if (server_id !== undefined) {\n",
       "      // Clean up Bokeh references\n",
       "      var cmd = \"from bokeh.io.state import curstate; print(curstate().uuid_to_server['\" + server_id + \"'].get_sessions()[0].document.roots[0]._id)\";\n",
       "      cell.notebook.kernel.execute(cmd, {\n",
       "        iopub: {\n",
       "          output: function(msg) {\n",
       "            var id = msg.content.text.trim();\n",
       "            if (id in Bokeh.index) {\n",
       "              Bokeh.index[id].model.document.clear();\n",
       "              delete Bokeh.index[id];\n",
       "            }\n",
       "          }\n",
       "        }\n",
       "      });\n",
       "      // Destroy server and session\n",
       "      var cmd = \"import bokeh.io.notebook as ion; ion.destroy_server('\" + server_id + \"')\";\n",
       "      cell.notebook.kernel.execute(cmd);\n",
       "    }\n",
       "  }\n",
       "\n",
       "  /**\n",
       "   * Handle when a new output is added\n",
       "   */\n",
       "  function handleAddOutput(event, handle) {\n",
       "    var output_area = handle.output_area;\n",
       "    var output = handle.output;\n",
       "\n",
       "    // limit handleAddOutput to display_data with EXEC_MIME_TYPE content only\n",
       "    if ((output.output_type != \"display_data\") || (!output.data.hasOwnProperty(EXEC_MIME_TYPE))) {\n",
       "      return\n",
       "    }\n",
       "\n",
       "    var toinsert = output_area.element.find(\".\" + CLASS_NAME.split(' ')[0]);\n",
       "\n",
       "    if (output.metadata[EXEC_MIME_TYPE][\"id\"] !== undefined) {\n",
       "      toinsert[toinsert.length - 1].firstChild.textContent = output.data[JS_MIME_TYPE];\n",
       "      // store reference to embed id on output_area\n",
       "      output_area._bokeh_element_id = output.metadata[EXEC_MIME_TYPE][\"id\"];\n",
       "    }\n",
       "    if (output.metadata[EXEC_MIME_TYPE][\"server_id\"] !== undefined) {\n",
       "      var bk_div = document.createElement(\"div\");\n",
       "      bk_div.innerHTML = output.data[HTML_MIME_TYPE];\n",
       "      var script_attrs = bk_div.children[0].attributes;\n",
       "      for (var i = 0; i < script_attrs.length; i++) {\n",
       "        toinsert[toinsert.length - 1].firstChild.setAttribute(script_attrs[i].name, script_attrs[i].value);\n",
       "        toinsert[toinsert.length - 1].firstChild.textContent = bk_div.children[0].textContent\n",
       "      }\n",
       "      // store reference to server id on output_area\n",
       "      output_area._bokeh_server_id = output.metadata[EXEC_MIME_TYPE][\"server_id\"];\n",
       "    }\n",
       "  }\n",
       "\n",
       "  function register_renderer(events, OutputArea) {\n",
       "\n",
       "    function append_mime(data, metadata, element) {\n",
       "      // create a DOM node to render to\n",
       "      var toinsert = this.create_output_subarea(\n",
       "        metadata,\n",
       "        CLASS_NAME,\n",
       "        EXEC_MIME_TYPE\n",
       "      );\n",
       "      this.keyboard_manager.register_events(toinsert);\n",
       "      // Render to node\n",
       "      var props = {data: data, metadata: metadata[EXEC_MIME_TYPE]};\n",
       "      render(props, toinsert[toinsert.length - 1]);\n",
       "      element.append(toinsert);\n",
       "      return toinsert\n",
       "    }\n",
       "\n",
       "    /* Handle when an output is cleared or removed */\n",
       "    events.on('clear_output.CodeCell', handleClearOutput);\n",
       "    events.on('delete.Cell', handleClearOutput);\n",
       "\n",
       "    /* Handle when a new output is added */\n",
       "    events.on('output_added.OutputArea', handleAddOutput);\n",
       "\n",
       "    /**\n",
       "     * Register the mime type and append_mime function with output_area\n",
       "     */\n",
       "    OutputArea.prototype.register_mime_type(EXEC_MIME_TYPE, append_mime, {\n",
       "      /* Is output safe? */\n",
       "      safe: true,\n",
       "      /* Index of renderer in `output_area.display_order` */\n",
       "      index: 0\n",
       "    });\n",
       "  }\n",
       "\n",
       "  // register the mime type if in Jupyter Notebook environment and previously unregistered\n",
       "  if (root.Jupyter !== undefined) {\n",
       "    var events = require('base/js/events');\n",
       "    var OutputArea = require('notebook/js/outputarea').OutputArea;\n",
       "\n",
       "    if (OutputArea.prototype.mime_types().indexOf(EXEC_MIME_TYPE) == -1) {\n",
       "      register_renderer(events, OutputArea);\n",
       "    }\n",
       "  }\n",
       "\n",
       "  \n",
       "  if (typeof (root._bokeh_timeout) === \"undefined\" || force === true) {\n",
       "    root._bokeh_timeout = Date.now() + 5000;\n",
       "    root._bokeh_failed_load = false;\n",
       "  }\n",
       "\n",
       "  var NB_LOAD_WARNING = {'data': {'text/html':\n",
       "     \"<div style='background-color: #fdd'>\\n\"+\n",
       "     \"<p>\\n\"+\n",
       "     \"BokehJS does not appear to have successfully loaded. If loading BokehJS from CDN, this \\n\"+\n",
       "     \"may be due to a slow or bad network connection. Possible fixes:\\n\"+\n",
       "     \"</p>\\n\"+\n",
       "     \"<ul>\\n\"+\n",
       "     \"<li>re-rerun `output_notebook()` to attempt to load from CDN again, or</li>\\n\"+\n",
       "     \"<li>use INLINE resources instead, as so:</li>\\n\"+\n",
       "     \"</ul>\\n\"+\n",
       "     \"<code>\\n\"+\n",
       "     \"from bokeh.resources import INLINE\\n\"+\n",
       "     \"output_notebook(resources=INLINE)\\n\"+\n",
       "     \"</code>\\n\"+\n",
       "     \"</div>\"}};\n",
       "\n",
       "  function display_loaded() {\n",
       "    var el = document.getElementById(\"1143\");\n",
       "    if (el != null) {\n",
       "      el.textContent = \"BokehJS is loading...\";\n",
       "    }\n",
       "    if (root.Bokeh !== undefined) {\n",
       "      if (el != null) {\n",
       "        el.textContent = \"BokehJS \" + root.Bokeh.version + \" successfully loaded.\";\n",
       "      }\n",
       "    } else if (Date.now() < root._bokeh_timeout) {\n",
       "      setTimeout(display_loaded, 100)\n",
       "    }\n",
       "  }\n",
       "\n",
       "\n",
       "  function run_callbacks() {\n",
       "    try {\n",
       "      root._bokeh_onload_callbacks.forEach(function(callback) {\n",
       "        if (callback != null)\n",
       "          callback();\n",
       "      });\n",
       "    } finally {\n",
       "      delete root._bokeh_onload_callbacks\n",
       "    }\n",
       "    console.debug(\"Bokeh: all callbacks have finished\");\n",
       "  }\n",
       "\n",
       "  function load_libs(css_urls, js_urls, callback) {\n",
       "    if (css_urls == null) css_urls = [];\n",
       "    if (js_urls == null) js_urls = [];\n",
       "\n",
       "    root._bokeh_onload_callbacks.push(callback);\n",
       "    if (root._bokeh_is_loading > 0) {\n",
       "      console.debug(\"Bokeh: BokehJS is being loaded, scheduling callback at\", now());\n",
       "      return null;\n",
       "    }\n",
       "    if (js_urls == null || js_urls.length === 0) {\n",
       "      run_callbacks();\n",
       "      return null;\n",
       "    }\n",
       "    console.debug(\"Bokeh: BokehJS not loaded, scheduling load and callback at\", now());\n",
       "    root._bokeh_is_loading = css_urls.length + js_urls.length;\n",
       "\n",
       "    function on_load() {\n",
       "      root._bokeh_is_loading--;\n",
       "      if (root._bokeh_is_loading === 0) {\n",
       "        console.debug(\"Bokeh: all BokehJS libraries/stylesheets loaded\");\n",
       "        run_callbacks()\n",
       "      }\n",
       "    }\n",
       "\n",
       "    function on_error() {\n",
       "      console.error(\"failed to load \" + url);\n",
       "    }\n",
       "\n",
       "    for (var i = 0; i < css_urls.length; i++) {\n",
       "      var url = css_urls[i];\n",
       "      const element = document.createElement(\"link\");\n",
       "      element.onload = on_load;\n",
       "      element.onerror = on_error;\n",
       "      element.rel = \"stylesheet\";\n",
       "      element.type = \"text/css\";\n",
       "      element.href = url;\n",
       "      console.debug(\"Bokeh: injecting link tag for BokehJS stylesheet: \", url);\n",
       "      document.body.appendChild(element);\n",
       "    }\n",
       "\n",
       "    const hashes = {\"https://cdn.bokeh.org/bokeh/release/bokeh-2.1.0.min.js\": \"YobFyzPeVUsFQydHkJGsJL1kyfHnWxOlPc3EwaV22TmBaeGoXHLWx5aRRVPS9xlE\", \"https://cdn.bokeh.org/bokeh/release/bokeh-widgets-2.1.0.min.js\": \"NuAg9+TcTQQqvQCTtkCneRrpkTiMhhfiq0KHiBzx8ECiKiLWXHN6i6ia3q7b3eHu\", \"https://cdn.bokeh.org/bokeh/release/bokeh-tables-2.1.0.min.js\": \"uMVqQc8JqHitD67bXTn9a06Mrk3EiHRaZ18EJENQenAKJ/KL71SakdXYomZQpGRr\", \"https://cdn.bokeh.org/bokeh/release/bokeh-gl-2.1.0.min.js\": \"u+eGuEXC8aw0VSCm2mH+b/tQEAitUOYiR1H6SuIVEdUmXsf4vN8m/SmXpmjb7U/X\"};\n",
       "\n",
       "    for (var i = 0; i < js_urls.length; i++) {\n",
       "      var url = js_urls[i];\n",
       "      var element = document.createElement('script');\n",
       "      element.onload = on_load;\n",
       "      element.onerror = on_error;\n",
       "      element.async = false;\n",
       "      element.src = url;\n",
       "      if (url in hashes) {\n",
       "        element.crossOrigin = \"anonymous\";\n",
       "        element.integrity = \"sha384-\" + hashes[url];\n",
       "      }\n",
       "      console.debug(\"Bokeh: injecting script tag for BokehJS library: \", url);\n",
       "      document.head.appendChild(element);\n",
       "    }\n",
       "  };\n",
       "\n",
       "  function inject_raw_css(css) {\n",
       "    const element = document.createElement(\"style\");\n",
       "    element.appendChild(document.createTextNode(css));\n",
       "    document.body.appendChild(element);\n",
       "  }\n",
       "\n",
       "  \n",
       "  var js_urls = [\"https://cdn.bokeh.org/bokeh/release/bokeh-2.1.0.min.js\", \"https://cdn.bokeh.org/bokeh/release/bokeh-widgets-2.1.0.min.js\", \"https://cdn.bokeh.org/bokeh/release/bokeh-tables-2.1.0.min.js\", \"https://cdn.bokeh.org/bokeh/release/bokeh-gl-2.1.0.min.js\", \"https://unpkg.com/@holoviz/panel@^0.9.5/dist/panel.min.js\"];\n",
       "  var css_urls = [];\n",
       "  \n",
       "\n",
       "  var inline_js = [\n",
       "    function(Bokeh) {\n",
       "      inject_raw_css(\"table.panel-df {\\n    margin-left: auto;\\n    margin-right: auto;\\n    border: none;\\n    border-collapse: collapse;\\n    border-spacing: 0;\\n    color: black;\\n    font-size: 12px;\\n    table-layout: fixed;\\n    width: 100%;\\n}\\n\\n.panel-df tr, th, td {\\n    text-align: right;\\n    vertical-align: middle;\\n    padding: 0.5em 0.5em !important;\\n    line-height: normal;\\n    white-space: normal;\\n    max-width: none;\\n    border: none;\\n}\\n\\n.panel-df tbody {\\n    display: table-row-group;\\n    vertical-align: middle;\\n    border-color: inherit;\\n}\\n\\n.panel-df tbody tr:nth-child(odd) {\\n    background: #f5f5f5;\\n}\\n\\n.panel-df thead {\\n    border-bottom: 1px solid black;\\n    vertical-align: bottom;\\n}\\n\\n.panel-df tr:hover {\\n    background: lightblue !important;\\n    cursor: pointer;\\n}\\n\");\n",
       "    },\n",
       "    function(Bokeh) {\n",
       "      inject_raw_css(\".json-formatter-row {\\n  font-family: monospace;\\n}\\n.json-formatter-row,\\n.json-formatter-row a,\\n.json-formatter-row a:hover {\\n  color: black;\\n  text-decoration: none;\\n}\\n.json-formatter-row .json-formatter-row {\\n  margin-left: 1rem;\\n}\\n.json-formatter-row .json-formatter-children.json-formatter-empty {\\n  opacity: 0.5;\\n  margin-left: 1rem;\\n}\\n.json-formatter-row .json-formatter-children.json-formatter-empty:after {\\n  display: none;\\n}\\n.json-formatter-row .json-formatter-children.json-formatter-empty.json-formatter-object:after {\\n  content: \\\"No properties\\\";\\n}\\n.json-formatter-row .json-formatter-children.json-formatter-empty.json-formatter-array:after {\\n  content: \\\"[]\\\";\\n}\\n.json-formatter-row .json-formatter-string,\\n.json-formatter-row .json-formatter-stringifiable {\\n  color: green;\\n  white-space: pre;\\n  word-wrap: break-word;\\n}\\n.json-formatter-row .json-formatter-number {\\n  color: blue;\\n}\\n.json-formatter-row .json-formatter-boolean {\\n  color: red;\\n}\\n.json-formatter-row .json-formatter-null {\\n  color: #855A00;\\n}\\n.json-formatter-row .json-formatter-undefined {\\n  color: #ca0b69;\\n}\\n.json-formatter-row .json-formatter-function {\\n  color: #FF20ED;\\n}\\n.json-formatter-row .json-formatter-date {\\n  background-color: rgba(0, 0, 0, 0.05);\\n}\\n.json-formatter-row .json-formatter-url {\\n  text-decoration: underline;\\n  color: blue;\\n  cursor: pointer;\\n}\\n.json-formatter-row .json-formatter-bracket {\\n  color: blue;\\n}\\n.json-formatter-row .json-formatter-key {\\n  color: #00008B;\\n  padding-right: 0.2rem;\\n}\\n.json-formatter-row .json-formatter-toggler-link {\\n  cursor: pointer;\\n}\\n.json-formatter-row .json-formatter-toggler {\\n  line-height: 1.2rem;\\n  font-size: 0.7rem;\\n  vertical-align: middle;\\n  opacity: 0.6;\\n  cursor: pointer;\\n  padding-right: 0.2rem;\\n}\\n.json-formatter-row .json-formatter-toggler:after {\\n  display: inline-block;\\n  transition: transform 100ms ease-in;\\n  content: \\\"\\\\25BA\\\";\\n}\\n.json-formatter-row > a > .json-formatter-preview-text {\\n  opacity: 0;\\n  transition: opacity 0.15s ease-in;\\n  font-style: italic;\\n}\\n.json-formatter-row:hover > a > .json-formatter-preview-text {\\n  opacity: 0.6;\\n}\\n.json-formatter-row.json-formatter-open > .json-formatter-toggler-link .json-formatter-toggler:after {\\n  transform: rotate(90deg);\\n}\\n.json-formatter-row.json-formatter-open > .json-formatter-children:after {\\n  display: inline-block;\\n}\\n.json-formatter-row.json-formatter-open > a > .json-formatter-preview-text {\\n  display: none;\\n}\\n.json-formatter-row.json-formatter-open.json-formatter-empty:after {\\n  display: block;\\n}\\n.json-formatter-dark.json-formatter-row {\\n  font-family: monospace;\\n}\\n.json-formatter-dark.json-formatter-row,\\n.json-formatter-dark.json-formatter-row a,\\n.json-formatter-dark.json-formatter-row a:hover {\\n  color: white;\\n  text-decoration: none;\\n}\\n.json-formatter-dark.json-formatter-row .json-formatter-row {\\n  margin-left: 1rem;\\n}\\n.json-formatter-dark.json-formatter-row .json-formatter-children.json-formatter-empty {\\n  opacity: 0.5;\\n  margin-left: 1rem;\\n}\\n.json-formatter-dark.json-formatter-row .json-formatter-children.json-formatter-empty:after {\\n  display: none;\\n}\\n.json-formatter-dark.json-formatter-row .json-formatter-children.json-formatter-empty.json-formatter-object:after {\\n  content: \\\"No properties\\\";\\n}\\n.json-formatter-dark.json-formatter-row .json-formatter-children.json-formatter-empty.json-formatter-array:after {\\n  content: \\\"[]\\\";\\n}\\n.json-formatter-dark.json-formatter-row .json-formatter-string,\\n.json-formatter-dark.json-formatter-row .json-formatter-stringifiable {\\n  color: #31F031;\\n  white-space: pre;\\n  word-wrap: break-word;\\n}\\n.json-formatter-dark.json-formatter-row .json-formatter-number {\\n  color: #66C2FF;\\n}\\n.json-formatter-dark.json-formatter-row .json-formatter-boolean {\\n  color: #EC4242;\\n}\\n.json-formatter-dark.json-formatter-row .json-formatter-null {\\n  color: #EEC97D;\\n}\\n.json-formatter-dark.json-formatter-row .json-formatter-undefined {\\n  color: #ef8fbe;\\n}\\n.json-formatter-dark.json-formatter-row .json-formatter-function {\\n  color: #FD48CB;\\n}\\n.json-formatter-dark.json-formatter-row .json-formatter-date {\\n  background-color: rgba(255, 255, 255, 0.05);\\n}\\n.json-formatter-dark.json-formatter-row .json-formatter-url {\\n  text-decoration: underline;\\n  color: #027BFF;\\n  cursor: pointer;\\n}\\n.json-formatter-dark.json-formatter-row .json-formatter-bracket {\\n  color: #9494FF;\\n}\\n.json-formatter-dark.json-formatter-row .json-formatter-key {\\n  color: #23A0DB;\\n  padding-right: 0.2rem;\\n}\\n.json-formatter-dark.json-formatter-row .json-formatter-toggler-link {\\n  cursor: pointer;\\n}\\n.json-formatter-dark.json-formatter-row .json-formatter-toggler {\\n  line-height: 1.2rem;\\n  font-size: 0.7rem;\\n  vertical-align: middle;\\n  opacity: 0.6;\\n  cursor: pointer;\\n  padding-right: 0.2rem;\\n}\\n.json-formatter-dark.json-formatter-row .json-formatter-toggler:after {\\n  display: inline-block;\\n  transition: transform 100ms ease-in;\\n  content: \\\"\\\\25BA\\\";\\n}\\n.json-formatter-dark.json-formatter-row > a > .json-formatter-preview-text {\\n  opacity: 0;\\n  transition: opacity 0.15s ease-in;\\n  font-style: italic;\\n}\\n.json-formatter-dark.json-formatter-row:hover > a > .json-formatter-preview-text {\\n  opacity: 0.6;\\n}\\n.json-formatter-dark.json-formatter-row.json-formatter-open > .json-formatter-toggler-link .json-formatter-toggler:after {\\n  transform: rotate(90deg);\\n}\\n.json-formatter-dark.json-formatter-row.json-formatter-open > .json-formatter-children:after {\\n  display: inline-block;\\n}\\n.json-formatter-dark.json-formatter-row.json-formatter-open > a > .json-formatter-preview-text {\\n  display: none;\\n}\\n.json-formatter-dark.json-formatter-row.json-formatter-open.json-formatter-empty:after {\\n  display: block;\\n}\\n\");\n",
       "    },\n",
       "    function(Bokeh) {\n",
       "      inject_raw_css(\".codehilite .hll { background-color: #ffffcc }\\n.codehilite  { background: #f8f8f8; }\\n.codehilite .c { color: #408080; font-style: italic } /* Comment */\\n.codehilite .err { border: 1px solid #FF0000 } /* Error */\\n.codehilite .k { color: #008000; font-weight: bold } /* Keyword */\\n.codehilite .o { color: #666666 } /* Operator */\\n.codehilite .ch { color: #408080; font-style: italic } /* Comment.Hashbang */\\n.codehilite .cm { color: #408080; font-style: italic } /* Comment.Multiline */\\n.codehilite .cp { color: #BC7A00 } /* Comment.Preproc */\\n.codehilite .cpf { color: #408080; font-style: italic } /* Comment.PreprocFile */\\n.codehilite .c1 { color: #408080; font-style: italic } /* Comment.Single */\\n.codehilite .cs { color: #408080; font-style: italic } /* Comment.Special */\\n.codehilite .gd { color: #A00000 } /* Generic.Deleted */\\n.codehilite .ge { font-style: italic } /* Generic.Emph */\\n.codehilite .gr { color: #FF0000 } /* Generic.Error */\\n.codehilite .gh { color: #000080; font-weight: bold } /* Generic.Heading */\\n.codehilite .gi { color: #00A000 } /* Generic.Inserted */\\n.codehilite .go { color: #888888 } /* Generic.Output */\\n.codehilite .gp { color: #000080; font-weight: bold } /* Generic.Prompt */\\n.codehilite .gs { font-weight: bold } /* Generic.Strong */\\n.codehilite .gu { color: #800080; font-weight: bold } /* Generic.Subheading */\\n.codehilite .gt { color: #0044DD } /* Generic.Traceback */\\n.codehilite .kc { color: #008000; font-weight: bold } /* Keyword.Constant */\\n.codehilite .kd { color: #008000; font-weight: bold } /* Keyword.Declaration */\\n.codehilite .kn { color: #008000; font-weight: bold } /* Keyword.Namespace */\\n.codehilite .kp { color: #008000 } /* Keyword.Pseudo */\\n.codehilite .kr { color: #008000; font-weight: bold } /* Keyword.Reserved */\\n.codehilite .kt { color: #B00040 } /* Keyword.Type */\\n.codehilite .m { color: #666666 } /* Literal.Number */\\n.codehilite .s { color: #BA2121 } /* Literal.String */\\n.codehilite .na { color: #7D9029 } /* Name.Attribute */\\n.codehilite .nb { color: #008000 } /* Name.Builtin */\\n.codehilite .nc { color: #0000FF; font-weight: bold } /* Name.Class */\\n.codehilite .no { color: #880000 } /* Name.Constant */\\n.codehilite .nd { color: #AA22FF } /* Name.Decorator */\\n.codehilite .ni { color: #999999; font-weight: bold } /* Name.Entity */\\n.codehilite .ne { color: #D2413A; font-weight: bold } /* Name.Exception */\\n.codehilite .nf { color: #0000FF } /* Name.Function */\\n.codehilite .nl { color: #A0A000 } /* Name.Label */\\n.codehilite .nn { color: #0000FF; font-weight: bold } /* Name.Namespace */\\n.codehilite .nt { color: #008000; font-weight: bold } /* Name.Tag */\\n.codehilite .nv { color: #19177C } /* Name.Variable */\\n.codehilite .ow { color: #AA22FF; font-weight: bold } /* Operator.Word */\\n.codehilite .w { color: #bbbbbb } /* Text.Whitespace */\\n.codehilite .mb { color: #666666 } /* Literal.Number.Bin */\\n.codehilite .mf { color: #666666 } /* Literal.Number.Float */\\n.codehilite .mh { color: #666666 } /* Literal.Number.Hex */\\n.codehilite .mi { color: #666666 } /* Literal.Number.Integer */\\n.codehilite .mo { color: #666666 } /* Literal.Number.Oct */\\n.codehilite .sa { color: #BA2121 } /* Literal.String.Affix */\\n.codehilite .sb { color: #BA2121 } /* Literal.String.Backtick */\\n.codehilite .sc { color: #BA2121 } /* Literal.String.Char */\\n.codehilite .dl { color: #BA2121 } /* Literal.String.Delimiter */\\n.codehilite .sd { color: #BA2121; font-style: italic } /* Literal.String.Doc */\\n.codehilite .s2 { color: #BA2121 } /* Literal.String.Double */\\n.codehilite .se { color: #BB6622; font-weight: bold } /* Literal.String.Escape */\\n.codehilite .sh { color: #BA2121 } /* Literal.String.Heredoc */\\n.codehilite .si { color: #BB6688; font-weight: bold } /* Literal.String.Interpol */\\n.codehilite .sx { color: #008000 } /* Literal.String.Other */\\n.codehilite .sr { color: #BB6688 } /* Literal.String.Regex */\\n.codehilite .s1 { color: #BA2121 } /* Literal.String.Single */\\n.codehilite .ss { color: #19177C } /* Literal.String.Symbol */\\n.codehilite .bp { color: #008000 } /* Name.Builtin.Pseudo */\\n.codehilite .fm { color: #0000FF } /* Name.Function.Magic */\\n.codehilite .vc { color: #19177C } /* Name.Variable.Class */\\n.codehilite .vg { color: #19177C } /* Name.Variable.Global */\\n.codehilite .vi { color: #19177C } /* Name.Variable.Instance */\\n.codehilite .vm { color: #19177C } /* Name.Variable.Magic */\\n.codehilite .il { color: #666666 } /* Literal.Number.Integer.Long */\\n\\n.markdown h1 { margin-block-start: 0.34em }\\n.markdown h2 { margin-block-start: 0.42em }\\n.markdown h3 { margin-block-start: 0.5em }\\n.markdown h4 { margin-block-start: 0.67em }\\n.markdown h5 { margin-block-start: 0.84em }\\n.markdown h6 { margin-block-start: 1.17em }\\n.markdown ul { padding-inline-start: 2em }\\n.markdown ol { padding-inline-start: 2em }\\n.markdown strong { font-weight: 600 }\\n.markdown a { color: -webkit-link }\\n.markdown a { color: -moz-hyperlinkText }\\n\");\n",
       "    },\n",
       "    function(Bokeh) {\n",
       "      inject_raw_css(\".widget-box {\\n\\tmin-height: 20px;\\n\\tbackground-color: #f5f5f5;\\n\\tborder: 1px solid #e3e3e3 !important;\\n\\tborder-radius: 4px;\\n\\t-webkit-box-shadow: inset 0 1px 1px rgba(0,0,0,.05);\\n\\tbox-shadow: inset 0 1px 1px rgba(0,0,0,.05);\\n\\toverflow-x: hidden;\\n\\toverflow-y: hidden;\\n}\\n\\n.scrollable {\\n  overflow: scroll;\\n}\\n\\nprogress {\\n\\tappearance: none;\\n\\t-moz-appearance: none;\\n\\t-webkit-appearance: none;\\n\\n\\tborder: none;\\n\\theight: 20px;\\n\\tbackground-color: whiteSmoke;\\n\\tborder-radius: 3px;\\n\\tbox-shadow: 0 2px 3px rgba(0,0,0,.5) inset;\\n\\tcolor: royalblue;\\n\\tposition: relative;\\n\\tmargin: 0 0 1.5em;\\n}\\n\\nprogress[value]::-webkit-progress-bar {\\n\\tbackground-color: whiteSmoke;\\n\\tborder-radius: 3px;\\n\\tbox-shadow: 0 2px 3px rgba(0,0,0,.5) inset;\\n}\\n\\nprogress[value]::-webkit-progress-value {\\n\\tposition: relative;\\n\\n\\tbackground-size: 35px 20px, 100% 100%, 100% 100%;\\n\\tborder-radius:3px;\\n}\\n\\nprogress.active:not([value])::before {\\n\\tbackground-position: 10%;\\n\\tanimation-name: stripes;\\n\\tanimation-duration: 3s;\\n\\tanimation-timing-function: linear;\\n\\tanimation-iteration-count: infinite;\\n}\\n\\nprogress[value]::-moz-progress-bar {\\n\\tbackground-size: 35px 20px, 100% 100%, 100% 100%;\\n\\tborder-radius:3px;\\n}\\n\\nprogress:not([value])::-moz-progress-bar {\\n\\tborder-radius:3px;\\n\\tbackground:\\n\\tlinear-gradient(-45deg, transparent 33%, rgba(0, 0, 0, 0.2) 33%, rgba(0, 0, 0, 0.2) 66%, transparent 66%) left/2.5em 1.5em;\\n\\n}\\n\\nprogress.active:not([value])::-moz-progress-bar {\\n\\tbackground-position: 10%;\\n\\tanimation-name: stripes;\\n\\tanimation-duration: 3s;\\n\\tanimation-timing-function: linear;\\n\\tanimation-iteration-count: infinite;\\n}\\n\\nprogress.active:not([value])::-webkit-progress-bar {\\n\\tbackground-position: 10%;\\n\\tanimation-name: stripes;\\n\\tanimation-duration: 3s;\\n\\tanimation-timing-function: linear;\\n\\tanimation-iteration-count: infinite;\\n}\\n\\nprogress.primary[value]::-webkit-progress-value { background-color: #007bff; }\\nprogress.primary:not([value])::before { background-color: #007bff; }\\nprogress.primary:not([value])::-webkit-progress-bar { background-color: #007bff; }\\nprogress.primary::-moz-progress-bar { background-color: #007bff; }\\n\\nprogress.secondary[value]::-webkit-progress-value { background-color: #6c757d; }\\nprogress.secondary:not([value])::before { background-color: #6c757d; }\\nprogress.secondary:not([value])::-webkit-progress-bar { background-color: #6c757d; }\\nprogress.secondary::-moz-progress-bar { background-color: #6c757d; }\\n\\nprogress.success[value]::-webkit-progress-value { background-color: #28a745; }\\nprogress.success:not([value])::before { background-color: #28a745; }\\nprogress.success:not([value])::-webkit-progress-bar { background-color: #28a745; }\\nprogress.success::-moz-progress-bar { background-color: #28a745; }\\n\\nprogress.danger[value]::-webkit-progress-value { background-color: #dc3545; }\\nprogress.danger:not([value])::before { background-color: #dc3545; }\\nprogress.danger:not([value])::-webkit-progress-bar { background-color: #dc3545; }\\nprogress.danger::-moz-progress-bar { background-color: #dc3545; }\\n\\nprogress.warning[value]::-webkit-progress-value { background-color: #ffc107; }\\nprogress.warning:not([value])::before { background-color: #ffc107; }\\nprogress.warning:not([value])::-webkit-progress-bar { background-color: #ffc107; }\\nprogress.warning::-moz-progress-bar { background-color: #ffc107; }\\n\\nprogress.info[value]::-webkit-progress-value { background-color: #17a2b8; }\\nprogress.info:not([value])::before { background-color: #17a2b8; }\\nprogress.info:not([value])::-webkit-progress-bar { background-color: #17a2b8; }\\nprogress.info::-moz-progress-bar { background-color: #17a2b8; }\\n\\nprogress.light[value]::-webkit-progress-value { background-color: #f8f9fa; }\\nprogress.light:not([value])::before { background-color: #f8f9fa; }\\nprogress.light:not([value])::-webkit-progress-bar { background-color: #f8f9fa; }\\nprogress.light::-moz-progress-bar { background-color: #f8f9fa; }\\n\\nprogress.dark[value]::-webkit-progress-value { background-color: #343a40; }\\nprogress.dark:not([value])::-webkit-progress-bar { background-color: #343a40; }\\nprogress.dark:not([value])::before { background-color: #343a40; }\\nprogress.dark::-moz-progress-bar { background-color: #343a40; }\\n\\nprogress:not([value])::-webkit-progress-bar {\\n\\tborder-radius: 3px;\\n\\tbackground:\\n\\tlinear-gradient(-45deg, transparent 33%, rgba(0, 0, 0, 0.2) 33%, rgba(0, 0, 0, 0.2) 66%, transparent 66%) left/2.5em 1.5em;\\n}\\nprogress:not([value])::before {\\n\\tcontent:\\\" \\\";\\n\\tposition:absolute;\\n\\theight: 20px;\\n\\ttop:0;\\n\\tleft:0;\\n\\tright:0;\\n\\tbottom:0;\\n\\tborder-radius: 3px;\\n\\tbackground:\\n\\tlinear-gradient(-45deg, transparent 33%, rgba(0, 0, 0, 0.2) 33%, rgba(0, 0, 0, 0.2) 66%, transparent 66%) left/2.5em 1.5em;\\n}\\n\\n@keyframes stripes {\\n  from {background-position: 0%}\\n  to {background-position: 100%}\\n}\");\n",
       "    },\n",
       "    function(Bokeh) {\n",
       "      Bokeh.set_log_level(\"info\");\n",
       "    },\n",
       "    function(Bokeh) {\n",
       "    \n",
       "    \n",
       "    }\n",
       "  ];\n",
       "\n",
       "  function run_inline_js() {\n",
       "    \n",
       "    if (root.Bokeh !== undefined || force === true) {\n",
       "      \n",
       "    for (var i = 0; i < inline_js.length; i++) {\n",
       "      inline_js[i].call(root, root.Bokeh);\n",
       "    }\n",
       "    if (force === true) {\n",
       "        display_loaded();\n",
       "      }} else if (Date.now() < root._bokeh_timeout) {\n",
       "      setTimeout(run_inline_js, 100);\n",
       "    } else if (!root._bokeh_failed_load) {\n",
       "      console.log(\"Bokeh: BokehJS failed to load within specified timeout.\");\n",
       "      root._bokeh_failed_load = true;\n",
       "    } else if (force !== true) {\n",
       "      var cell = $(document.getElementById(\"1143\")).parents('.cell').data().cell;\n",
       "      cell.output_area.append_execute_result(NB_LOAD_WARNING)\n",
       "    }\n",
       "\n",
       "  }\n",
       "\n",
       "  if (root._bokeh_is_loading === 0) {\n",
       "    console.debug(\"Bokeh: BokehJS loaded, going straight to plotting\");\n",
       "    run_inline_js();\n",
       "  } else {\n",
       "    load_libs(css_urls, js_urls, function() {\n",
       "      console.debug(\"Bokeh: BokehJS plotting callback run at\", now());\n",
       "      run_inline_js();\n",
       "    });\n",
       "  }\n",
       "}(window));"
      ],
      "application/vnd.bokehjs_load.v0+json": "\n(function(root) {\n  function now() {\n    return new Date();\n  }\n\n  var force = true;\n\n  if (typeof root._bokeh_onload_callbacks === \"undefined\" || force === true) {\n    root._bokeh_onload_callbacks = [];\n    root._bokeh_is_loading = undefined;\n  }\n\n  \n\n  \n  if (typeof (root._bokeh_timeout) === \"undefined\" || force === true) {\n    root._bokeh_timeout = Date.now() + 5000;\n    root._bokeh_failed_load = false;\n  }\n\n  var NB_LOAD_WARNING = {'data': {'text/html':\n     \"<div style='background-color: #fdd'>\\n\"+\n     \"<p>\\n\"+\n     \"BokehJS does not appear to have successfully loaded. If loading BokehJS from CDN, this \\n\"+\n     \"may be due to a slow or bad network connection. Possible fixes:\\n\"+\n     \"</p>\\n\"+\n     \"<ul>\\n\"+\n     \"<li>re-rerun `output_notebook()` to attempt to load from CDN again, or</li>\\n\"+\n     \"<li>use INLINE resources instead, as so:</li>\\n\"+\n     \"</ul>\\n\"+\n     \"<code>\\n\"+\n     \"from bokeh.resources import INLINE\\n\"+\n     \"output_notebook(resources=INLINE)\\n\"+\n     \"</code>\\n\"+\n     \"</div>\"}};\n\n  function display_loaded() {\n    var el = document.getElementById(\"1143\");\n    if (el != null) {\n      el.textContent = \"BokehJS is loading...\";\n    }\n    if (root.Bokeh !== undefined) {\n      if (el != null) {\n        el.textContent = \"BokehJS \" + root.Bokeh.version + \" successfully loaded.\";\n      }\n    } else if (Date.now() < root._bokeh_timeout) {\n      setTimeout(display_loaded, 100)\n    }\n  }\n\n\n  function run_callbacks() {\n    try {\n      root._bokeh_onload_callbacks.forEach(function(callback) {\n        if (callback != null)\n          callback();\n      });\n    } finally {\n      delete root._bokeh_onload_callbacks\n    }\n    console.debug(\"Bokeh: all callbacks have finished\");\n  }\n\n  function load_libs(css_urls, js_urls, callback) {\n    if (css_urls == null) css_urls = [];\n    if (js_urls == null) js_urls = [];\n\n    root._bokeh_onload_callbacks.push(callback);\n    if (root._bokeh_is_loading > 0) {\n      console.debug(\"Bokeh: BokehJS is being loaded, scheduling callback at\", now());\n      return null;\n    }\n    if (js_urls == null || js_urls.length === 0) {\n      run_callbacks();\n      return null;\n    }\n    console.debug(\"Bokeh: BokehJS not loaded, scheduling load and callback at\", now());\n    root._bokeh_is_loading = css_urls.length + js_urls.length;\n\n    function on_load() {\n      root._bokeh_is_loading--;\n      if (root._bokeh_is_loading === 0) {\n        console.debug(\"Bokeh: all BokehJS libraries/stylesheets loaded\");\n        run_callbacks()\n      }\n    }\n\n    function on_error() {\n      console.error(\"failed to load \" + url);\n    }\n\n    for (var i = 0; i < css_urls.length; i++) {\n      var url = css_urls[i];\n      const element = document.createElement(\"link\");\n      element.onload = on_load;\n      element.onerror = on_error;\n      element.rel = \"stylesheet\";\n      element.type = \"text/css\";\n      element.href = url;\n      console.debug(\"Bokeh: injecting link tag for BokehJS stylesheet: \", url);\n      document.body.appendChild(element);\n    }\n\n    const hashes = {\"https://cdn.bokeh.org/bokeh/release/bokeh-2.1.0.min.js\": \"YobFyzPeVUsFQydHkJGsJL1kyfHnWxOlPc3EwaV22TmBaeGoXHLWx5aRRVPS9xlE\", \"https://cdn.bokeh.org/bokeh/release/bokeh-widgets-2.1.0.min.js\": \"NuAg9+TcTQQqvQCTtkCneRrpkTiMhhfiq0KHiBzx8ECiKiLWXHN6i6ia3q7b3eHu\", \"https://cdn.bokeh.org/bokeh/release/bokeh-tables-2.1.0.min.js\": \"uMVqQc8JqHitD67bXTn9a06Mrk3EiHRaZ18EJENQenAKJ/KL71SakdXYomZQpGRr\", \"https://cdn.bokeh.org/bokeh/release/bokeh-gl-2.1.0.min.js\": \"u+eGuEXC8aw0VSCm2mH+b/tQEAitUOYiR1H6SuIVEdUmXsf4vN8m/SmXpmjb7U/X\"};\n\n    for (var i = 0; i < js_urls.length; i++) {\n      var url = js_urls[i];\n      var element = document.createElement('script');\n      element.onload = on_load;\n      element.onerror = on_error;\n      element.async = false;\n      element.src = url;\n      if (url in hashes) {\n        element.crossOrigin = \"anonymous\";\n        element.integrity = \"sha384-\" + hashes[url];\n      }\n      console.debug(\"Bokeh: injecting script tag for BokehJS library: \", url);\n      document.head.appendChild(element);\n    }\n  };\n\n  function inject_raw_css(css) {\n    const element = document.createElement(\"style\");\n    element.appendChild(document.createTextNode(css));\n    document.body.appendChild(element);\n  }\n\n  \n  var js_urls = [\"https://cdn.bokeh.org/bokeh/release/bokeh-2.1.0.min.js\", \"https://cdn.bokeh.org/bokeh/release/bokeh-widgets-2.1.0.min.js\", \"https://cdn.bokeh.org/bokeh/release/bokeh-tables-2.1.0.min.js\", \"https://cdn.bokeh.org/bokeh/release/bokeh-gl-2.1.0.min.js\", \"https://unpkg.com/@holoviz/panel@^0.9.5/dist/panel.min.js\"];\n  var css_urls = [];\n  \n\n  var inline_js = [\n    function(Bokeh) {\n      inject_raw_css(\"table.panel-df {\\n    margin-left: auto;\\n    margin-right: auto;\\n    border: none;\\n    border-collapse: collapse;\\n    border-spacing: 0;\\n    color: black;\\n    font-size: 12px;\\n    table-layout: fixed;\\n    width: 100%;\\n}\\n\\n.panel-df tr, th, td {\\n    text-align: right;\\n    vertical-align: middle;\\n    padding: 0.5em 0.5em !important;\\n    line-height: normal;\\n    white-space: normal;\\n    max-width: none;\\n    border: none;\\n}\\n\\n.panel-df tbody {\\n    display: table-row-group;\\n    vertical-align: middle;\\n    border-color: inherit;\\n}\\n\\n.panel-df tbody tr:nth-child(odd) {\\n    background: #f5f5f5;\\n}\\n\\n.panel-df thead {\\n    border-bottom: 1px solid black;\\n    vertical-align: bottom;\\n}\\n\\n.panel-df tr:hover {\\n    background: lightblue !important;\\n    cursor: pointer;\\n}\\n\");\n    },\n    function(Bokeh) {\n      inject_raw_css(\".json-formatter-row {\\n  font-family: monospace;\\n}\\n.json-formatter-row,\\n.json-formatter-row a,\\n.json-formatter-row a:hover {\\n  color: black;\\n  text-decoration: none;\\n}\\n.json-formatter-row .json-formatter-row {\\n  margin-left: 1rem;\\n}\\n.json-formatter-row .json-formatter-children.json-formatter-empty {\\n  opacity: 0.5;\\n  margin-left: 1rem;\\n}\\n.json-formatter-row .json-formatter-children.json-formatter-empty:after {\\n  display: none;\\n}\\n.json-formatter-row .json-formatter-children.json-formatter-empty.json-formatter-object:after {\\n  content: \\\"No properties\\\";\\n}\\n.json-formatter-row .json-formatter-children.json-formatter-empty.json-formatter-array:after {\\n  content: \\\"[]\\\";\\n}\\n.json-formatter-row .json-formatter-string,\\n.json-formatter-row .json-formatter-stringifiable {\\n  color: green;\\n  white-space: pre;\\n  word-wrap: break-word;\\n}\\n.json-formatter-row .json-formatter-number {\\n  color: blue;\\n}\\n.json-formatter-row .json-formatter-boolean {\\n  color: red;\\n}\\n.json-formatter-row .json-formatter-null {\\n  color: #855A00;\\n}\\n.json-formatter-row .json-formatter-undefined {\\n  color: #ca0b69;\\n}\\n.json-formatter-row .json-formatter-function {\\n  color: #FF20ED;\\n}\\n.json-formatter-row .json-formatter-date {\\n  background-color: rgba(0, 0, 0, 0.05);\\n}\\n.json-formatter-row .json-formatter-url {\\n  text-decoration: underline;\\n  color: blue;\\n  cursor: pointer;\\n}\\n.json-formatter-row .json-formatter-bracket {\\n  color: blue;\\n}\\n.json-formatter-row .json-formatter-key {\\n  color: #00008B;\\n  padding-right: 0.2rem;\\n}\\n.json-formatter-row .json-formatter-toggler-link {\\n  cursor: pointer;\\n}\\n.json-formatter-row .json-formatter-toggler {\\n  line-height: 1.2rem;\\n  font-size: 0.7rem;\\n  vertical-align: middle;\\n  opacity: 0.6;\\n  cursor: pointer;\\n  padding-right: 0.2rem;\\n}\\n.json-formatter-row .json-formatter-toggler:after {\\n  display: inline-block;\\n  transition: transform 100ms ease-in;\\n  content: \\\"\\\\25BA\\\";\\n}\\n.json-formatter-row > a > .json-formatter-preview-text {\\n  opacity: 0;\\n  transition: opacity 0.15s ease-in;\\n  font-style: italic;\\n}\\n.json-formatter-row:hover > a > .json-formatter-preview-text {\\n  opacity: 0.6;\\n}\\n.json-formatter-row.json-formatter-open > .json-formatter-toggler-link .json-formatter-toggler:after {\\n  transform: rotate(90deg);\\n}\\n.json-formatter-row.json-formatter-open > .json-formatter-children:after {\\n  display: inline-block;\\n}\\n.json-formatter-row.json-formatter-open > a > .json-formatter-preview-text {\\n  display: none;\\n}\\n.json-formatter-row.json-formatter-open.json-formatter-empty:after {\\n  display: block;\\n}\\n.json-formatter-dark.json-formatter-row {\\n  font-family: monospace;\\n}\\n.json-formatter-dark.json-formatter-row,\\n.json-formatter-dark.json-formatter-row a,\\n.json-formatter-dark.json-formatter-row a:hover {\\n  color: white;\\n  text-decoration: none;\\n}\\n.json-formatter-dark.json-formatter-row .json-formatter-row {\\n  margin-left: 1rem;\\n}\\n.json-formatter-dark.json-formatter-row .json-formatter-children.json-formatter-empty {\\n  opacity: 0.5;\\n  margin-left: 1rem;\\n}\\n.json-formatter-dark.json-formatter-row .json-formatter-children.json-formatter-empty:after {\\n  display: none;\\n}\\n.json-formatter-dark.json-formatter-row .json-formatter-children.json-formatter-empty.json-formatter-object:after {\\n  content: \\\"No properties\\\";\\n}\\n.json-formatter-dark.json-formatter-row .json-formatter-children.json-formatter-empty.json-formatter-array:after {\\n  content: \\\"[]\\\";\\n}\\n.json-formatter-dark.json-formatter-row .json-formatter-string,\\n.json-formatter-dark.json-formatter-row .json-formatter-stringifiable {\\n  color: #31F031;\\n  white-space: pre;\\n  word-wrap: break-word;\\n}\\n.json-formatter-dark.json-formatter-row .json-formatter-number {\\n  color: #66C2FF;\\n}\\n.json-formatter-dark.json-formatter-row .json-formatter-boolean {\\n  color: #EC4242;\\n}\\n.json-formatter-dark.json-formatter-row .json-formatter-null {\\n  color: #EEC97D;\\n}\\n.json-formatter-dark.json-formatter-row .json-formatter-undefined {\\n  color: #ef8fbe;\\n}\\n.json-formatter-dark.json-formatter-row .json-formatter-function {\\n  color: #FD48CB;\\n}\\n.json-formatter-dark.json-formatter-row .json-formatter-date {\\n  background-color: rgba(255, 255, 255, 0.05);\\n}\\n.json-formatter-dark.json-formatter-row .json-formatter-url {\\n  text-decoration: underline;\\n  color: #027BFF;\\n  cursor: pointer;\\n}\\n.json-formatter-dark.json-formatter-row .json-formatter-bracket {\\n  color: #9494FF;\\n}\\n.json-formatter-dark.json-formatter-row .json-formatter-key {\\n  color: #23A0DB;\\n  padding-right: 0.2rem;\\n}\\n.json-formatter-dark.json-formatter-row .json-formatter-toggler-link {\\n  cursor: pointer;\\n}\\n.json-formatter-dark.json-formatter-row .json-formatter-toggler {\\n  line-height: 1.2rem;\\n  font-size: 0.7rem;\\n  vertical-align: middle;\\n  opacity: 0.6;\\n  cursor: pointer;\\n  padding-right: 0.2rem;\\n}\\n.json-formatter-dark.json-formatter-row .json-formatter-toggler:after {\\n  display: inline-block;\\n  transition: transform 100ms ease-in;\\n  content: \\\"\\\\25BA\\\";\\n}\\n.json-formatter-dark.json-formatter-row > a > .json-formatter-preview-text {\\n  opacity: 0;\\n  transition: opacity 0.15s ease-in;\\n  font-style: italic;\\n}\\n.json-formatter-dark.json-formatter-row:hover > a > .json-formatter-preview-text {\\n  opacity: 0.6;\\n}\\n.json-formatter-dark.json-formatter-row.json-formatter-open > .json-formatter-toggler-link .json-formatter-toggler:after {\\n  transform: rotate(90deg);\\n}\\n.json-formatter-dark.json-formatter-row.json-formatter-open > .json-formatter-children:after {\\n  display: inline-block;\\n}\\n.json-formatter-dark.json-formatter-row.json-formatter-open > a > .json-formatter-preview-text {\\n  display: none;\\n}\\n.json-formatter-dark.json-formatter-row.json-formatter-open.json-formatter-empty:after {\\n  display: block;\\n}\\n\");\n    },\n    function(Bokeh) {\n      inject_raw_css(\".codehilite .hll { background-color: #ffffcc }\\n.codehilite  { background: #f8f8f8; }\\n.codehilite .c { color: #408080; font-style: italic } /* Comment */\\n.codehilite .err { border: 1px solid #FF0000 } /* Error */\\n.codehilite .k { color: #008000; font-weight: bold } /* Keyword */\\n.codehilite .o { color: #666666 } /* Operator */\\n.codehilite .ch { color: #408080; font-style: italic } /* Comment.Hashbang */\\n.codehilite .cm { color: #408080; font-style: italic } /* Comment.Multiline */\\n.codehilite .cp { color: #BC7A00 } /* Comment.Preproc */\\n.codehilite .cpf { color: #408080; font-style: italic } /* Comment.PreprocFile */\\n.codehilite .c1 { color: #408080; font-style: italic } /* Comment.Single */\\n.codehilite .cs { color: #408080; font-style: italic } /* Comment.Special */\\n.codehilite .gd { color: #A00000 } /* Generic.Deleted */\\n.codehilite .ge { font-style: italic } /* Generic.Emph */\\n.codehilite .gr { color: #FF0000 } /* Generic.Error */\\n.codehilite .gh { color: #000080; font-weight: bold } /* Generic.Heading */\\n.codehilite .gi { color: #00A000 } /* Generic.Inserted */\\n.codehilite .go { color: #888888 } /* Generic.Output */\\n.codehilite .gp { color: #000080; font-weight: bold } /* Generic.Prompt */\\n.codehilite .gs { font-weight: bold } /* Generic.Strong */\\n.codehilite .gu { color: #800080; font-weight: bold } /* Generic.Subheading */\\n.codehilite .gt { color: #0044DD } /* Generic.Traceback */\\n.codehilite .kc { color: #008000; font-weight: bold } /* Keyword.Constant */\\n.codehilite .kd { color: #008000; font-weight: bold } /* Keyword.Declaration */\\n.codehilite .kn { color: #008000; font-weight: bold } /* Keyword.Namespace */\\n.codehilite .kp { color: #008000 } /* Keyword.Pseudo */\\n.codehilite .kr { color: #008000; font-weight: bold } /* Keyword.Reserved */\\n.codehilite .kt { color: #B00040 } /* Keyword.Type */\\n.codehilite .m { color: #666666 } /* Literal.Number */\\n.codehilite .s { color: #BA2121 } /* Literal.String */\\n.codehilite .na { color: #7D9029 } /* Name.Attribute */\\n.codehilite .nb { color: #008000 } /* Name.Builtin */\\n.codehilite .nc { color: #0000FF; font-weight: bold } /* Name.Class */\\n.codehilite .no { color: #880000 } /* Name.Constant */\\n.codehilite .nd { color: #AA22FF } /* Name.Decorator */\\n.codehilite .ni { color: #999999; font-weight: bold } /* Name.Entity */\\n.codehilite .ne { color: #D2413A; font-weight: bold } /* Name.Exception */\\n.codehilite .nf { color: #0000FF } /* Name.Function */\\n.codehilite .nl { color: #A0A000 } /* Name.Label */\\n.codehilite .nn { color: #0000FF; font-weight: bold } /* Name.Namespace */\\n.codehilite .nt { color: #008000; font-weight: bold } /* Name.Tag */\\n.codehilite .nv { color: #19177C } /* Name.Variable */\\n.codehilite .ow { color: #AA22FF; font-weight: bold } /* Operator.Word */\\n.codehilite .w { color: #bbbbbb } /* Text.Whitespace */\\n.codehilite .mb { color: #666666 } /* Literal.Number.Bin */\\n.codehilite .mf { color: #666666 } /* Literal.Number.Float */\\n.codehilite .mh { color: #666666 } /* Literal.Number.Hex */\\n.codehilite .mi { color: #666666 } /* Literal.Number.Integer */\\n.codehilite .mo { color: #666666 } /* Literal.Number.Oct */\\n.codehilite .sa { color: #BA2121 } /* Literal.String.Affix */\\n.codehilite .sb { color: #BA2121 } /* Literal.String.Backtick */\\n.codehilite .sc { color: #BA2121 } /* Literal.String.Char */\\n.codehilite .dl { color: #BA2121 } /* Literal.String.Delimiter */\\n.codehilite .sd { color: #BA2121; font-style: italic } /* Literal.String.Doc */\\n.codehilite .s2 { color: #BA2121 } /* Literal.String.Double */\\n.codehilite .se { color: #BB6622; font-weight: bold } /* Literal.String.Escape */\\n.codehilite .sh { color: #BA2121 } /* Literal.String.Heredoc */\\n.codehilite .si { color: #BB6688; font-weight: bold } /* Literal.String.Interpol */\\n.codehilite .sx { color: #008000 } /* Literal.String.Other */\\n.codehilite .sr { color: #BB6688 } /* Literal.String.Regex */\\n.codehilite .s1 { color: #BA2121 } /* Literal.String.Single */\\n.codehilite .ss { color: #19177C } /* Literal.String.Symbol */\\n.codehilite .bp { color: #008000 } /* Name.Builtin.Pseudo */\\n.codehilite .fm { color: #0000FF } /* Name.Function.Magic */\\n.codehilite .vc { color: #19177C } /* Name.Variable.Class */\\n.codehilite .vg { color: #19177C } /* Name.Variable.Global */\\n.codehilite .vi { color: #19177C } /* Name.Variable.Instance */\\n.codehilite .vm { color: #19177C } /* Name.Variable.Magic */\\n.codehilite .il { color: #666666 } /* Literal.Number.Integer.Long */\\n\\n.markdown h1 { margin-block-start: 0.34em }\\n.markdown h2 { margin-block-start: 0.42em }\\n.markdown h3 { margin-block-start: 0.5em }\\n.markdown h4 { margin-block-start: 0.67em }\\n.markdown h5 { margin-block-start: 0.84em }\\n.markdown h6 { margin-block-start: 1.17em }\\n.markdown ul { padding-inline-start: 2em }\\n.markdown ol { padding-inline-start: 2em }\\n.markdown strong { font-weight: 600 }\\n.markdown a { color: -webkit-link }\\n.markdown a { color: -moz-hyperlinkText }\\n\");\n    },\n    function(Bokeh) {\n      inject_raw_css(\".widget-box {\\n\\tmin-height: 20px;\\n\\tbackground-color: #f5f5f5;\\n\\tborder: 1px solid #e3e3e3 !important;\\n\\tborder-radius: 4px;\\n\\t-webkit-box-shadow: inset 0 1px 1px rgba(0,0,0,.05);\\n\\tbox-shadow: inset 0 1px 1px rgba(0,0,0,.05);\\n\\toverflow-x: hidden;\\n\\toverflow-y: hidden;\\n}\\n\\n.scrollable {\\n  overflow: scroll;\\n}\\n\\nprogress {\\n\\tappearance: none;\\n\\t-moz-appearance: none;\\n\\t-webkit-appearance: none;\\n\\n\\tborder: none;\\n\\theight: 20px;\\n\\tbackground-color: whiteSmoke;\\n\\tborder-radius: 3px;\\n\\tbox-shadow: 0 2px 3px rgba(0,0,0,.5) inset;\\n\\tcolor: royalblue;\\n\\tposition: relative;\\n\\tmargin: 0 0 1.5em;\\n}\\n\\nprogress[value]::-webkit-progress-bar {\\n\\tbackground-color: whiteSmoke;\\n\\tborder-radius: 3px;\\n\\tbox-shadow: 0 2px 3px rgba(0,0,0,.5) inset;\\n}\\n\\nprogress[value]::-webkit-progress-value {\\n\\tposition: relative;\\n\\n\\tbackground-size: 35px 20px, 100% 100%, 100% 100%;\\n\\tborder-radius:3px;\\n}\\n\\nprogress.active:not([value])::before {\\n\\tbackground-position: 10%;\\n\\tanimation-name: stripes;\\n\\tanimation-duration: 3s;\\n\\tanimation-timing-function: linear;\\n\\tanimation-iteration-count: infinite;\\n}\\n\\nprogress[value]::-moz-progress-bar {\\n\\tbackground-size: 35px 20px, 100% 100%, 100% 100%;\\n\\tborder-radius:3px;\\n}\\n\\nprogress:not([value])::-moz-progress-bar {\\n\\tborder-radius:3px;\\n\\tbackground:\\n\\tlinear-gradient(-45deg, transparent 33%, rgba(0, 0, 0, 0.2) 33%, rgba(0, 0, 0, 0.2) 66%, transparent 66%) left/2.5em 1.5em;\\n\\n}\\n\\nprogress.active:not([value])::-moz-progress-bar {\\n\\tbackground-position: 10%;\\n\\tanimation-name: stripes;\\n\\tanimation-duration: 3s;\\n\\tanimation-timing-function: linear;\\n\\tanimation-iteration-count: infinite;\\n}\\n\\nprogress.active:not([value])::-webkit-progress-bar {\\n\\tbackground-position: 10%;\\n\\tanimation-name: stripes;\\n\\tanimation-duration: 3s;\\n\\tanimation-timing-function: linear;\\n\\tanimation-iteration-count: infinite;\\n}\\n\\nprogress.primary[value]::-webkit-progress-value { background-color: #007bff; }\\nprogress.primary:not([value])::before { background-color: #007bff; }\\nprogress.primary:not([value])::-webkit-progress-bar { background-color: #007bff; }\\nprogress.primary::-moz-progress-bar { background-color: #007bff; }\\n\\nprogress.secondary[value]::-webkit-progress-value { background-color: #6c757d; }\\nprogress.secondary:not([value])::before { background-color: #6c757d; }\\nprogress.secondary:not([value])::-webkit-progress-bar { background-color: #6c757d; }\\nprogress.secondary::-moz-progress-bar { background-color: #6c757d; }\\n\\nprogress.success[value]::-webkit-progress-value { background-color: #28a745; }\\nprogress.success:not([value])::before { background-color: #28a745; }\\nprogress.success:not([value])::-webkit-progress-bar { background-color: #28a745; }\\nprogress.success::-moz-progress-bar { background-color: #28a745; }\\n\\nprogress.danger[value]::-webkit-progress-value { background-color: #dc3545; }\\nprogress.danger:not([value])::before { background-color: #dc3545; }\\nprogress.danger:not([value])::-webkit-progress-bar { background-color: #dc3545; }\\nprogress.danger::-moz-progress-bar { background-color: #dc3545; }\\n\\nprogress.warning[value]::-webkit-progress-value { background-color: #ffc107; }\\nprogress.warning:not([value])::before { background-color: #ffc107; }\\nprogress.warning:not([value])::-webkit-progress-bar { background-color: #ffc107; }\\nprogress.warning::-moz-progress-bar { background-color: #ffc107; }\\n\\nprogress.info[value]::-webkit-progress-value { background-color: #17a2b8; }\\nprogress.info:not([value])::before { background-color: #17a2b8; }\\nprogress.info:not([value])::-webkit-progress-bar { background-color: #17a2b8; }\\nprogress.info::-moz-progress-bar { background-color: #17a2b8; }\\n\\nprogress.light[value]::-webkit-progress-value { background-color: #f8f9fa; }\\nprogress.light:not([value])::before { background-color: #f8f9fa; }\\nprogress.light:not([value])::-webkit-progress-bar { background-color: #f8f9fa; }\\nprogress.light::-moz-progress-bar { background-color: #f8f9fa; }\\n\\nprogress.dark[value]::-webkit-progress-value { background-color: #343a40; }\\nprogress.dark:not([value])::-webkit-progress-bar { background-color: #343a40; }\\nprogress.dark:not([value])::before { background-color: #343a40; }\\nprogress.dark::-moz-progress-bar { background-color: #343a40; }\\n\\nprogress:not([value])::-webkit-progress-bar {\\n\\tborder-radius: 3px;\\n\\tbackground:\\n\\tlinear-gradient(-45deg, transparent 33%, rgba(0, 0, 0, 0.2) 33%, rgba(0, 0, 0, 0.2) 66%, transparent 66%) left/2.5em 1.5em;\\n}\\nprogress:not([value])::before {\\n\\tcontent:\\\" \\\";\\n\\tposition:absolute;\\n\\theight: 20px;\\n\\ttop:0;\\n\\tleft:0;\\n\\tright:0;\\n\\tbottom:0;\\n\\tborder-radius: 3px;\\n\\tbackground:\\n\\tlinear-gradient(-45deg, transparent 33%, rgba(0, 0, 0, 0.2) 33%, rgba(0, 0, 0, 0.2) 66%, transparent 66%) left/2.5em 1.5em;\\n}\\n\\n@keyframes stripes {\\n  from {background-position: 0%}\\n  to {background-position: 100%}\\n}\");\n    },\n    function(Bokeh) {\n      Bokeh.set_log_level(\"info\");\n    },\n    function(Bokeh) {\n    \n    \n    }\n  ];\n\n  function run_inline_js() {\n    \n    if (root.Bokeh !== undefined || force === true) {\n      \n    for (var i = 0; i < inline_js.length; i++) {\n      inline_js[i].call(root, root.Bokeh);\n    }\n    if (force === true) {\n        display_loaded();\n      }} else if (Date.now() < root._bokeh_timeout) {\n      setTimeout(run_inline_js, 100);\n    } else if (!root._bokeh_failed_load) {\n      console.log(\"Bokeh: BokehJS failed to load within specified timeout.\");\n      root._bokeh_failed_load = true;\n    } else if (force !== true) {\n      var cell = $(document.getElementById(\"1143\")).parents('.cell').data().cell;\n      cell.output_area.append_execute_result(NB_LOAD_WARNING)\n    }\n\n  }\n\n  if (root._bokeh_is_loading === 0) {\n    console.debug(\"Bokeh: BokehJS loaded, going straight to plotting\");\n    run_inline_js();\n  } else {\n    load_libs(css_urls, js_urls, function() {\n      console.debug(\"Bokeh: BokehJS plotting callback run at\", now());\n      run_inline_js();\n    });\n  }\n}(window));"
     },
     "metadata": {},
     "output_type": "display_data"
    },
    {
     "data": {
      "text/html": [
       "\n",
       "\n",
       "\n",
       "\n",
       "\n",
       "\n",
       "  <div class=\"bk-root\" id=\"c72ce6e4-428f-4699-b71a-425dd4cda714\" data-root-id=\"1105\"></div>\n"
      ]
     },
     "metadata": {},
     "output_type": "display_data"
    },
    {
     "data": {
      "application/javascript": [
       "(function(root) {\n",
       "  function embed_document(root) {\n",
       "    \n",
       "  var docs_json = {\"9f259b70-5e4a-4677-a085-da423e8c56de\":{\"roots\":{\"references\":[{\"attributes\":{\"background_fill_color\":\"white\",\"below\":[{\"id\":\"1114\"}],\"center\":[{\"id\":\"1117\"},{\"id\":\"1121\"}],\"left\":[{\"id\":\"1118\"}],\"plot_height\":800,\"plot_width\":800,\"renderers\":[{\"id\":\"1141\"}],\"title\":{\"id\":\"1153\"},\"toolbar\":{\"id\":\"1130\"},\"x_range\":{\"id\":\"1106\"},\"x_scale\":{\"id\":\"1110\"},\"y_range\":{\"id\":\"1108\"},\"y_scale\":{\"id\":\"1112\"}},\"id\":\"1105\",\"subtype\":\"Figure\",\"type\":\"Plot\"},{\"attributes\":{\"text\":\"\"},\"id\":\"1153\",\"type\":\"Title\"},{\"attributes\":{\"formatter\":{\"id\":\"1156\"},\"ticker\":{\"id\":\"1115\"},\"visible\":false},\"id\":\"1114\",\"type\":\"LinearAxis\"},{\"attributes\":{},\"id\":\"1108\",\"type\":\"DataRange1d\"},{\"attributes\":{\"data_source\":{\"id\":\"1104\"},\"glyph\":{\"id\":\"1139\"},\"hover_glyph\":null,\"muted_glyph\":null,\"nonselection_glyph\":{\"id\":\"1140\"},\"selection_glyph\":null,\"view\":{\"id\":\"1142\"}},\"id\":\"1141\",\"type\":\"GlyphRenderer\"},{\"attributes\":{\"data\":{\"alpha\":[1,1,1,1,1,1,1,1,1,1,1,1,1,1,1,1,1,1,1,1,1,1,1,1,1,1,1,1,1,1,1,1,1,1,1,1,1,1,1,1,1,1,1,1,1,1,1,1,1,1,1,1,1,1,1,1,1,1,1,1,1,1,1,1,1,1,1,1,1,1,1,1,1,1,1,1,1,1,1,1,1,1,1,1,1,1,1,1,1,1,1,1,1,1,1,1,1,1,1,1,1,1,1,1,1,1,1,1,1,1,1,1,1,1,1,1,1,1,1,1,1,1,1,1,1,1,1,1,1,1,1,1,1,1,1,1,1,1,1,1,1,1,1,1,1,1,1,1,1,1,1,1,1,1,1,1,1,1,1,1,1,1,1,1,1,1,1,1,1,1,1,1,1,1,1,1,1,1,1,1,1,1,1,1,1,1,1,1,1,1,1,1,1,1,1,1,1,1,1,1,1,1,1,1,1,1,1,1,1,1,1,1,1,1,1,1,1,1,1,1,1,1,1,1,1,1,1,1,1,1,1,1,1,1,1,1,1,1,1,1,1,1,1,1,1,1,1,1,1,1,1,1,1,1,1,1,1,1,1,1,1,1,1,1,1,1,1,1,1,1,1,1,1,1,1,1,1,1,1,1,1,1,1,1,1,1,1,1,1,1,1,1,1,1,1,1,1,1,1,1,1,1,1,1,1,1,1,1,1,1,1,1,1,1,1,1,1,1,1,1,1,1,1,1,1,1,1,1,1,1,1,1,1,1,1,1,1,1,1,1,1,1,1,1,1,1,1,1,1,1,1,1,1,1,1,1,1,1,1,1,1,1,1,1,1,1,1,1,1,1,1,1,1,1,1,1,1,1,1,1,1,1,1,1,1,1,1,1,1,1,1,1,1,1,1,1,1,1,1,1,1,1,1,1,1,1,1,1,1,1,1,1,1,1,1,1,1,1,1,1,1,1,1,1,1,1,1,1,1,1,1,1,1,1,1,1,1,1,1,1,1,1,1,1,1,1,1,1,1,1,1,1,1,1,1,1,1,1,1,1,1,1,1,1,1,1,1,1,1,1,1,1,1,1,1,1,1,1,1,1,1,1,1,1,1,1,1,1,1,1,1,1,1,1,1,1,1,1,1,1,1,1,1,1,1,1,1,1,1,1,1,1,1,1,1,1,1,1,1,1,1,1,1,1,1,1,1,1,1,1,1,1,1,1,1,1,1,1,1,1,1,1,1,1,1,1,1,1,1,1,1,1,1,1,1,1,1,1,1,1,1,1,1,1,1,1,1,1,1,1,1,1,1,1,1,1,1,1,1,1,1,1,1,1,1,1,1,1,1,1,1,1,1,1,1,1,1,1,1,1,1,1,1,1,1,1,1,1,1,1,1,1,1,1,1,1,1,1,1,1,1,1,1,1,1,1,1,1,1,1,1,1,1,1,1,1,1,1,1,1,1,1,1,1,1,1,1,1,1,1,1,1,1,1,1,1,1,1,1,1,1,1,1,1,1,1,1,1,1,1,1,1,1,1,1,1,1,1,1,1,1,1,1,1,1,1,1,1,1,1,1,1,1,1,1,1,1,1,1,1,1,1,1,1,1,1,1,1,1,1,1,1,1,1,1,1,1,1,1,1,1,1,1,1,1,1,1,1,1,1,1,1,1,1,1,1,1,1,1,1,1,1,1,1,1,1,1,1,1,1,1,1,1,1,1,1,1,1,1,1,1,1,1,1,1,1,1,1,1,1,1,1,1,1,1,1,1,1,1,1,1,1,1,1,1,1,1,1,1,1,1,1,1,1,1,1,1,1,1,1,1,1,1,1,1,1,1,1,1,1,1,1,1,1,1,1,1,1,1,1,1,1,1,1,1,1,1,1,1,1,1,1,1,1,1,1,1,1,1,1,1,1,1,1,1,1,1,1,1,1,1,1,1,1,1,1,1,1,1,1,1,1,1,1,1,1,1,1,1,1,1,1,1,1,1,1,1,1,1,1,1,1,1,1,1,1,1,1,1,1,1,1,1,1,1,1,1,1,1,1,1,1,1,1,1,1,1,1,1,1,1,1,1,1,1,1,1,1,1,1,1,1,1,1,1,1,1,1,1,1,1,1,1,1,1,1,1,1,1,1,1,1,1,1,1,1,1,1,1,1,1,1,1,1,1,1,1,1,1,1,1,1,1,1,1,1,1,1,1,1,1,1,1,1,1,1,1,1,1,1,1,1,1,1,1,1,1,1,1,1,1,1,1,1,1,1,1,1,1,1,1,1,1,1,1,1,1,1,1,1,1,1,1,1,1,1,1,1,1,1,1,1,1,1,1,1,1,1,1,1,1,1,1,1,1,1,1,1,1,1,1,1,1,1,1,1,1,1,1,1,1,1,1,1,1,1,1,1,1,1,1,1,1,1,1,1,1,1,1,1,1,1,1,1,1,1,1,1,1,1,1,1,1,1,1,1,1,1,1,1,1,1,1,1,1,1,1,1,1,1,1,1,1,1,1,1,1,1,1,1,1,1,1,1,1,1,1,1,1,1,1,1,1,1,1,1,1,1,1,1,1,1,1,1,1,1,1,1,1,1,1,1,1,1,1,1,1,1,1,1,1,1,1,1,1,1,1,1,1,1,1,1,1,1,1,1,1,1,1,1,1,1,1,1,1,1,1,1,1,1,1,1,1,1,1,1,1,1,1,1,1,1,1,1,1,1,1,1,1,1,1,1,1,1,1,1,1,1,1,1,1,1,1,1,1,1,1,1,1,1,1,1,1,1,1,1,1,1,1,1,1,1,1,1,1,1,1,1,1,1,1,1,1,1,1,1,1,1,1,1,1,1,1,1,1,1,1,1,1,1,1,1,1,1,1,1,1,1,1,1,1,1,1,1,1,1,1,1,1,1,1,1,1,1,1,1,1,1,1,1,1,1,1,1,1,1,1,1,1,1,1,1,1,1,1,1,1,1,1,1,1,1,1,1,1,1,1,1,1,1,1,1,1,1,1,1,1,1,1,1,1,1,1,1,1,1,1,1,1,1,1,1,1,1,1,1,1,1,1,1,1,1,1,1,1,1,1,1,1,1,1,1,1,1,1,1,1,1,1,1,1,1,1,1,1,1,1,1,1,1,1,1,1,1,1,1,1,1,1,1,1,1,1,1,1,1,1,1,1,1,1,1,1,1,1,1,1,1,1,1,1,1,1,1,1,1,1,1,1,1,1,1,1,1,1,1,1,1,1,1,1,1,1,1,1,1,1,1,1,1,1,1,1,1,1,1,1,1,1,1,1,1,1,1,1,1,1,1,1,1,1,1,1,1,1,1,1,1,1,1,1,1,1,1,1,1,1,1,1,1,1,1,1,1,1,1,1,1,1,1,1,1,1,1,1,1,1,1,1,1,1,1,1,1,1,1,1,1,1,1,1,1,1,1,1,1,1,1,1,1,1,1,1,1,1,1,1,1,1,1,1,1,1,1,1,1,1,1,1,1,1,1,1,1,1,1,1,1,1,1,1,1,1,1,1,1,1,1,1,1,1,1,1,1,1,1,1,1,1,1,1,1,1,1,1,1,1,1,1,1,1,1,1,1,1,1,1,1,1,1,1,1,1,1,1,1,1,1,1,1,1,1,1,1,1,1,1,1,1,1,1,1,1,1,1,1,1,1,1,1,1,1,1,1,1,1,1,1,1,1,1,1,1,1,1,1,1,1,1,1,1,1,1,1,1,1,1,1,1,1,1,1,1,1,1,1,1,1,1,1,1,1,1,1,1,1,1,1,1,1,1,1,1,1,1,1,1,1,1,1,1,1,1,1,1,1,1,1,1,1,1,1,1,1,1,1,1,1,1,1,1,1,1,1,1,1,1,1,1,1,1,1,1,1,1,1,1,1,1,1,1,1,1,1,1,1,1,1,1,1,1,1,1,1,1,1,1,1,1,1,1,1,1,1,1,1,1,1,1,1,1,1,1,1,1,1,1,1,1,1,1,1,1,1,1,1,1,1,1,1,1,1,1,1,1,1,1,1,1,1,1,1,1,1,1,1,1,1,1,1,1,1,1,1,1,1,1,1,1,1,1,1,1,1,1,1,1,1,1,1,1,1,1,1,1,1,1,1,1,1,1,1,1,1,1,1,1,1,1,1,1,1,1,1,1,1,1,1,1,1,1,1,1,1,1,1,1,1,1,1,1,1,1,1,1,1,1,1,1,1,1,1,1,1,1,1,1,1,1,1,1,1,1,1,1,1,1,1,1,1,1,1,1,1,1,1,1,1,1,1,1,1,1,1,1,1,1,1,1,1,1,1,1,1,1,1,1,1,1,1,1,1,1,1,1,1,1,1,1,1,1,1,1,1,1,1,1,1,1,1,1,1,1,1,1,1,1,1,1,1,1,1,1,1,1,1,1,1,1,1,1,1,1,1,1,1,1,1,1,1,1,1,1,1,1,1,1,1,1,1,1,1,1,1,1,1,1,1,1,1,1,1,1,1,1,1,1,1,1,1,1,1,1,1,1,1,1,1,1,1,1,1,1,1,1,1,1,1,1,1,1,1,1,1,1,1,1,1,1,1,1,1,1,1,1,1,1,1,1,1,1,1,1,1,1,1,1,1,1,1,1,1,1,1,1,1,1,1,1,1,1,1,1,1,1,1,1,1,1,1,1,1,1,1,1,1,1,1,1,1,1,1,1,1,1,1,1,1,1,1,1,1,1,1,1,1,1,1,1,1,1,1,1,1,1,1,1,1,1,1,1,1,1,1,1,1,1,1,1,1,1,1,1,1,1,1,1,1,1,1,1,1,1,1,1,1,1,1,1,1,1,1,1,1,1,1,1,1,1,1,1,1,1,1,1,1,1,1,1,1,1,1,1,1,1,1,1,1,1,1,1,1,1,1,1,1,1,1,1,1,1,1,1,1,1,1,1,1,1,1,1,1,1,1,1,1,1,1,1,1,1,1,1,1,1,1,1,1,1,1,1,1,1,1,1,1,1,1,1,1,1,1,1,1,1,1,1,1,1,1,1,1,1,1,1,1,1,1,1,1,1,1,1,1,1,1,1,1,1,1,1,1,1,1,1,1,1,1,1,1,1,1,1,1,1,1,1,1,1,1,1,1,1,1,1,1,1,1,1,1,1,1,1,1,1,1,1,1,1,1,1,1,1,1,1,1,1,1,1,1,1,1,1,1,1,1,1,1,1,1,1,1,1,1,1,1,1,1,1,1,1,1,1,1,1,1,1,1,1,1,1,1,1,1,1,1,1,1,1,1,1,1,1,1,1,1,1,1,1,1,1,1,1,1,1,1,1,1,1,1,1,1,1,1,1,1,1,1,1,1,1,1,1,1,1,1,1,1,1,1,1,1,1,1,1,1,1,1,1,1,1,1,1,1,1,1,1,1,1,1,1,1,1,1,1,1,1,1,1,1,1,1,1,1,1,1,1,1,1,1,1,1,1,1,1,1,1,1,1,1,1,1,1,1,1,1,1,1,1,1,1,1,1,1,1,1,1,1,1,1,1,1,1,1,1,1,1,1,1,1,1,1,1,1,1,1,1,1,1,1,1,1,1,1,1,1,1,1,1,1,1,1,1,1,1,1,1,1,1,1,1,1,1,1,1,1,1,1,1,1,1,1,1,1,1,1,1,1,1,1,1,1,1,1,1,1,1,1,1,1,1,1,1,1,1,1,1,1,1,1,1,1,1,1,1,1,1,1,1,1,1,1,1,1,1,1,1,1,1,1,1,1,1,1,1,1,1,1,1,1,1,1,1,1,1,1,1,1,1,1,1,1,1,1,1,1,1,1,1,1,1,1,1,1,1,1,1,1,1,1,1,1,1,1,1,1,1,1,1,1,1,1,1,1,1,1,1,1,1,1,1,1,1,1,1,1,1,1,1,1,1,1,1,1,1,1,1,1,1,1,1,1,1,1,1,1,1,1,1,1,1,1,1,1,1,1,1,1,1,1,1,1,1,1,1,1,1,1,1,1,1,1,1,1,1,1,1,1,1,1,1,1,1,1,1,1,1,1,1,1,1,1,1,1,1,1,1,1,1,1,1,1,1,1,1,1,1,1,1,1,1,1,1,1,1,1,1,1,1,1,1,1,1,1,1,1,1,1,1,1,1,1,1,1,1,1,1,1,1,1,1,1,1,1,1,1,1,1,1,1,1,1,1,1,1,1,1,1,1,1,1,1,1,1,1,1,1,1,1,1,1,1,1,1,1,1,1,1,1,1,1,1,1,1,1,1,1,1,1,1,1,1,1,1,1,1,1,1,1,1,1,1,1,1,1,1,1,1,1,1,1,1,1,1,1,1,1,1,1,1,1,1,1,1,1,1,1,1,1,1,1,1,1,1,1,1,1,1,1,1,1,1,1,1,1,1,1,1,1,1,1,1,1,1,1,1,1,1,1,1,1,1,1,1,1,1,1,1,1,1,1,1,1,1,1,1,1,1,1,1,1,1,1,1,1,1,1,1,1,1,1,1,1,1,1,1,1,1,1,1,1,1,1,1,1,1,1,1,1,1,1,1,1,1,1,1,1,1,1,1,1,1,1,1,1,1,1,1,1,1,1,1,1,1,1,1,1,1,1,1,1,1,1,1,1,1,1,1,1,1,1,1,1,1,1,1,1,1,1,1,1,1,1,1,1,1,1,1,1,1,1,1,1,1,1,1,1,1,1,1,1,1,1,1,1,1,1,1,1,1,1,1,1,1,1,1,1,1,1,1,1,1,1,1,1,1,1,1,1,1,1,1,1,1,1,1,1,1,1,1,1,1,1,1,1,1,1,1,1,1,1,1,1,1,1,1,1,1,1,1,1,1,1,1,1,1,1,1,1,1,1,1,1,1,1,1,1,1,1,1,1,1,1,1,1,1,1,1,1,1,1,1,1,1,1,1,1,1,1,1,1,1,1,1,1,1,1,1,1,1,1,1,1,1,1,1,1,1,1,1,1,1,1,1,1,1,1,1,1,1,1,1,1,1,1,1,1,1,1,1,1,1,1,1,1,1,1,1,1,1,1,1,1,1,1,1,1,1,1,1,1,1,1,1,1,1,1,1,1,1,1,1,1,1,1,1,1,1,1,1,1,1,1,1,1,1,1,1,1,1,1,1,1,1,1,1,1,1,1,1,1,1,1,1,1,1,1,1,1,1,1,1,1,1,1,1,1,1,1,1,1,1,1,1,1,1,1,1,1,1,1,1,1,1,1,1,1,1,1,1,1,1,1,1,1,1,1,1,1,1,1,1,1,1,1,1,1,1,1,1,1,1,1,1,1,1,1,1,1,1,1,1,1,1,1,1,1,1,1,1,1,1,1,1,1,1,1,1,1,1,1,1,1,1,1,1,1,1,1,1,1,1,1,1,1,1,1,1,1,1,1,1,1,1,1,1,1,1,1,1,1,1,1,1,1,1,1,1,1,1,1,1,1,1,1,1,1,1,1,1,1,1,1,1,1,1,1,1,1,1,1,1,1,1,1,1,1,1,1,1,1,1,1,1,1,1,1,1,1,1,1,1,1,1,1,1,1,1,1,1,1,1,1,1,1,1,1,1,1,1,1,1,1,1,1,1,1,1,1,1,1,1,1,1,1,1,1,1,1,1,1,1,1,1,1,1,1,1,1,1,1,1,1,1,1,1,1,1,1,1,1,1,1,1,1,1,1,1,1,1,1,1,1,1,1,1,1,1,1,1,1,1,1,1,1,1,1,1,1,1,1,1,1,1,1,1,1,1,1,1,1,1,1,1,1,1,1,1,1,1,1,1,1,1,1,1,1,1,1,1,1,1,1,1,1,1,1,1,1,1,1,1,1,1,1,1,1,1,1,1,1,1,1,1,1,1,1,1,1,1,1,1,1,1,1,1,1,1,1,1,1,1,1,1,1,1,1,1,1,1,1,1,1,1,1,1,1,1,1,1,1,1,1,1,1,1,1,1,1,1,1,1,1,1,1,1,1,1,1,1,1,1,1,1,1,1,1,1,1,1,1,1,1,1,1,1,1,1,1,1,1,1,1,1,1,1,1,1,1,1,1,1,1,1,1,1,1,1,1,1,1,1,1,1,1,1,1,1,1,1,1,1,1,1,1,1,1,1,1,1,1,1,1,1,1,1,1,1,1,1,1,1,1,1,1,1,1,1,1,1,1,1,1,1,1,1,1,1,1,1,1,1,1,1,1,1,1,1,1,1,1,1,1,1,1,1,1,1,1,1,1,1,1,1,1,1,1,1,1,1,1,1,1,1,1,1,1,1,1,1,1,1,1,1,1,1,1,1,1,1,1,1,1,1,1,1,1,1,1,1,1,1,1,1,1,1,1,1,1,1,1,1,1,1,1,1,1,1,1,1,1,1,1,1,1,1,1,1,1,1,1,1,1,1,1,1,1,1,1,1,1,1,1,1,1,1,1,1,1,1,1,1,1,1,1,1,1,1,1,1,1,1,1,1,1,1,1,1,1,1,1,1,1,1,1,1,1,1,1,1,1,1,1,1,1,1,1,1,1,1,1,1,1,1,1,1,1,1,1,1,1,1,1,1,1,1,1,1,1,1,1,1,1,1,1,1,1,1,1,1,1,1,1,1,1,1,1,1,1,1,1,1,1,1,1,1,1,1,1,1,1,1,1,1,1,1,1,1,1,1,1,1,1,1,1,1,1,1,1,1,1,1,1,1,1,1,1,1,1,1,1,1,1,1,1,1,1,1,1,1,1,1,1,1,1,1,1,1,1,1,1,1,1,1,1,1,1,1,1,1,1,1,1,1,1,1,1,1,1,1,1,1,1,1,1,1,1,1,1,1,1,1,1,1,1,1,1,1,1,1,1,1,1,1,1,1,1,1,1,1,1,1,1,1,1,1,1,1,1,1,1,1,1,1,1,1,1,1,1,1,1,1,1,1,1,1,1,1,1,1,1,1,1,1,1,1,1,1,1,1,1,1,1,1,1,1,1,1,1,1,1,1,1,1,1,1,1,1,1,1,1,1,1,1,1,1,1,1,1,1,1,1,1,1,1,1,1,1,1,1,1,1,1,1,1,1,1,1,1,1,1,1,1,1,1,1,1,1,1,1,1,1,1,1,1,1,1,1,1,1,1,1,1,1,1,1,1,1,1,1,1,1,1,1,1,1,1,1,1,1,1,1,1,1,1,1,1,1,1,1,1,1,1,1,1,1,1,1,1,1,1,1,1,1,1,1,1,1,1,1,1,1,1,1,1,1,1,1,1,1,1,1,1,1,1,1,1,1,1,1,1,1,1,1,1,1,1,1,1,1,1,1,1,1,1,1,1,1,1,1,1,1,1,1,1,1,1,1,1,1,1,1,1,1,1,1,1,1,1,1,1,1,1,1,1,1,1,1,1,1,1,1,1,1,1,1,1,1,1,1,1,1,1,1,1,1,1,1,1,1,1,1,1,1,1,1,1,1,1,1,1,1,1,1,1,1,1,1,1,1,1,1,1,1,1,1,1,1,1,1,1,1,1,1,1,1,1,1,1,1,1,1,1,1,1,1,1,1,1,1,1,1,1,1,1,1,1,1,1,1,1,1,1,1,1,1,1,1,1,1,1,1,1,1,1,1,1,1,1,1,1,1,1,1,1,1,1,1,1,1,1,1,1,1,1,1,1,1,1,1,1,1,1,1,1,1,1,1,1,1,1,1,1,1,1,1,1,1,1,1,1,1,1,1,1,1,1,1,1,1,1,1,1,1,1,1,1,1,1,1,1,1,1,1,1,1,1,1,1,1,1,1,1,1,1,1,1,1,1,1,1,1,1,1,1,1,1,1,1,1,1,1,1,1,1,1,1,1,1,1,1,1,1,1,1,1,1,1,1,1,1,1,1,1,1,1,1,1,1,1,1,1,1,1,1,1,1,1,1,1,1,1,1,1,1,1,1,1,1,1,1,1,1,1,1,1,1,1,1,1,1,1,1,1,1,1,1,1,1,1,1,1,1,1,1,1,1,1,1,1,1,1,1,1,1,1,1,1,1,1,1,1,1,1,1,1,1,1,1,1,1,1,1,1,1,1,1,1,1,1,1,1,1,1,1,1,1,1,1,1,1,1,1,1,1,1,1,1,1,1,1,1,1,1,1,1,1,1,1,1,1,1,1,1,1,1,1,1,1,1,1,1,1,1,1,1,1,1,1,1,1,1,1,1,1,1,1,1,1,1,1,1,1,1,1,1,1,1,1,1,1,1,1,1,1,1,1,1,1,1,1,1,1,1,1,1,1,1,1,1,1,1,1,1,1,1,1,1,1,1,1,1,1,1,1,1,1,1,1,1,1,1,1,1,1,1,1,1,1,1,1,1,1,1,1,1,1,1,1,1,1,1,1,1,1,1,1,1,1,1,1,1,1,1,1,1,1,1,1,1,1,1,1,1,1,1,1,1,1,1,1,1,1,1,1,1,1,1,1,1,1,1,1,1,1,1,1,1,1,1,1,1,1,1,1,1,1,1,1,1,1,1,1,1,1,1,1,1,1,1,1,1,1,1,1,1,1,1,1,1,1,1,1,1,1,1,1,1,1,1,1,1,1,1,1,1,1,1,1,1,1,1,1,1,1,1,1,1,1,1,1,1,1,1,1,1,1,1,1,1,1,1,1,1,1,1,1,1,1,1,1,1,1,1,1,1,1,1,1,1,1,1,1,1,1,1,1,1,1,1,1,1,1,1,1,1,1,1,1,1,1,1,1,1,1,1,1,1,1,1,1,1,1,1,1,1,1,1,1,1,1,1,1,1,1,1,1,1,1,1,1,1,1,1,1,1,1,1,1,1,1,1,1,1,1,1,1,1,1,1,1,1,1,1,1,1,1,1,1,1,1,1,1,1,1,1,1,1,1,1,1,1,1,1,1,1,1,1,1,1,1,1,1,1,1,1,1,1],\"color\":[\"#4e63ac\",\"#4e63ac\",\"#4e63ac\",\"#4e63ac\",\"#4e63ac\",\"#4e63ac\",\"#86cfa5\",\"#4e63ac\",\"#fca55d\",\"#4e63ac\",\"#b11747\",\"#e2514a\",\"#fca55d\",\"#4e63ac\",\"#9e0142\",\"#4e63ac\",\"#4e63ac\",\"#4e63ac\",\"#4e63ac\",\"#fca55d\",\"#4e63ac\",\"#e2514a\",\"#c52c4b\",\"#e2514a\",\"#4e63ac\",\"#4e63ac\",\"#4e63ac\",\"#f6fbb0\",\"#4e63ac\",\"#fedc88\",\"#4e63ac\",\"#e2514a\",\"#edf8a3\",\"#4e63ac\",\"#4e63ac\",\"#4e63ac\",\"#4e63ac\",\"#e1f399\",\"#4e63ac\",\"#4e63ac\",\"#4e63ac\",\"#ffffbe\",\"#e2514a\",\"#5ab4ab\",\"#4e63ac\",\"#4e63ac\",\"#cdeb9d\",\"#4e63ac\",\"#cdeb9d\",\"#f6fbb0\",\"#4e63ac\",\"#4e63ac\",\"#4e63ac\",\"#4e63ac\",\"#4e63ac\",\"#fedc88\",\"#6ec5a5\",\"#4e63ac\",\"#edf8a3\",\"#9e0142\",\"#4e63ac\",\"#4e63ac\",\"#fedc88\",\"#4e63ac\",\"#6ec5a5\",\"#e1f399\",\"#fca55d\",\"#4e63ac\",\"#4e63ac\",\"#4e63ac\",\"#fca55d\",\"#9e0142\",\"#d7414e\",\"#e2514a\",\"#4e63ac\",\"#d7414e\",\"#4e63ac\",\"#4e63ac\",\"#4e63ac\",\"#4e63ac\",\"#4e63ac\",\"#6ec5a5\",\"#e1f399\",\"#4e63ac\",\"#4e63ac\",\"#4e63ac\",\"#9e0142\",\"#fca55d\",\"#6ec5a5\",\"#4e63ac\",\"#4e63ac\",\"#d7414e\",\"#4e63ac\",\"#4e63ac\",\"#4e63ac\",\"#4e63ac\",\"#4e63ac\",\"#4e63ac\",\"#edf8a3\",\"#edf8a3\",\"#fca55d\",\"#e2514a\",\"#fca55d\",\"#b8e2a1\",\"#4e63ac\",\"#edf8a3\",\"#4e63ac\",\"#4e63ac\",\"#f6fbb0\",\"#cdeb9d\",\"#fca55d\",\"#d7414e\",\"#fedc88\",\"#4e63ac\",\"#edf8a3\",\"#e2514a\",\"#4e63ac\",\"#6ec5a5\",\"#6ec5a5\",\"#a2d9a4\",\"#4e63ac\",\"#4e63ac\",\"#6ec5a5\",\"#4e63ac\",\"#e1f399\",\"#fedc88\",\"#4e63ac\",\"#4e63ac\",\"#4e63ac\",\"#4e63ac\",\"#4e63ac\",\"#9e0142\",\"#cdeb9d\",\"#4e63ac\",\"#e2514a\",\"#4e63ac\",\"#4e63ac\",\"#4e63ac\",\"#e2514a\",\"#4e63ac\",\"#4e63ac\",\"#4e63ac\",\"#ffffbe\",\"#4e63ac\",\"#4e63ac\",\"#fca55d\",\"#4e63ac\",\"#4e63ac\",\"#4e63ac\",\"#f6fbb0\",\"#4e63ac\",\"#fca55d\",\"#4e63ac\",\"#4e63ac\",\"#d7414e\",\"#4e63ac\",\"#4e63ac\",\"#f57547\",\"#b8e2a1\",\"#cdeb9d\",\"#4e63ac\",\"#e2514a\",\"#5ab4ab\",\"#4e63ac\",\"#ffffbe\",\"#4e63ac\",\"#4e63ac\",\"#4e63ac\",\"#4e63ac\",\"#4e63ac\",\"#fca55d\",\"#4e63ac\",\"#a2d9a4\",\"#4e63ac\",\"#4e63ac\",\"#4e63ac\",\"#4e63ac\",\"#a2d9a4\",\"#4e63ac\",\"#4e63ac\",\"#4e63ac\",\"#4e63ac\",\"#4e63ac\",\"#fca55d\",\"#4e63ac\",\"#5ab4ab\",\"#358bbc\",\"#4e63ac\",\"#4e63ac\",\"#4e63ac\",\"#edf8a3\",\"#cdeb9d\",\"#4e63ac\",\"#6ec5a5\",\"#86cfa5\",\"#9e0142\",\"#4e63ac\",\"#edf8a3\",\"#4e63ac\",\"#4e63ac\",\"#ffffbe\",\"#4e63ac\",\"#4e63ac\",\"#e2514a\",\"#4e63ac\",\"#4e63ac\",\"#4e63ac\",\"#a2d9a4\",\"#edf8a3\",\"#5ab4ab\",\"#ed6246\",\"#4e63ac\",\"#4e63ac\",\"#4e63ac\",\"#fca55d\",\"#4e63ac\",\"#9e0142\",\"#edf8a3\",\"#4e63ac\",\"#4e63ac\",\"#ffffbe\",\"#ed6246\",\"#4e63ac\",\"#a2d9a4\",\"#4e63ac\",\"#4e63ac\",\"#4e63ac\",\"#4e63ac\",\"#6ec5a5\",\"#4e63ac\",\"#cdeb9d\",\"#4e63ac\",\"#4e63ac\",\"#fca55d\",\"#e1f399\",\"#4e63ac\",\"#4e63ac\",\"#4e63ac\",\"#4e63ac\",\"#fedc88\",\"#e1f399\",\"#fca55d\",\"#4e63ac\",\"#b8e2a1\",\"#fff3ac\",\"#4e63ac\",\"#fca55d\",\"#4e63ac\",\"#edf8a3\",\"#4e63ac\",\"#4e63ac\",\"#4e63ac\",\"#4e63ac\",\"#4e63ac\",\"#4e63ac\",\"#4e63ac\",\"#4e63ac\",\"#4e63ac\",\"#4e63ac\",\"#b8e2a1\",\"#4e63ac\",\"#4e63ac\",\"#4e63ac\",\"#d7414e\",\"#4e63ac\",\"#b8e2a1\",\"#e2514a\",\"#e1f399\",\"#a2d9a4\",\"#4e63ac\",\"#4e63ac\",\"#4e63ac\",\"#fedc88\",\"#edf8a3\",\"#4e63ac\",\"#9e0142\",\"#e1f399\",\"#a2d9a4\",\"#4e63ac\",\"#4e63ac\",\"#4e63ac\",\"#4e63ac\",\"#4e63ac\",\"#4e63ac\",\"#d7414e\",\"#4e63ac\",\"#4e63ac\",\"#4e63ac\",\"#4e63ac\",\"#4e63ac\",\"#4e63ac\",\"#4e63ac\",\"#9e0142\",\"#4e63ac\",\"#4e63ac\",\"#4e63ac\",\"#e1f399\",\"#4e63ac\",\"#4e63ac\",\"#4e63ac\",\"#4e63ac\",\"#d7414e\",\"#4e63ac\",\"#9e0142\",\"#4e63ac\",\"#4e63ac\",\"#4e63ac\",\"#4e63ac\",\"#a2d9a4\",\"#4e63ac\",\"#4e63ac\",\"#6ec5a5\",\"#e2514a\",\"#4e63ac\",\"#4e63ac\",\"#4e63ac\",\"#e2514a\",\"#a2d9a4\",\"#4e63ac\",\"#4e63ac\",\"#4e63ac\",\"#4e63ac\",\"#4e63ac\",\"#3f77b5\",\"#fedc88\",\"#4e63ac\",\"#d7414e\",\"#4e63ac\",\"#4e63ac\",\"#4e63ac\",\"#4e63ac\",\"#4e63ac\",\"#fca55d\",\"#4e63ac\",\"#e2514a\",\"#4e63ac\",\"#e1f399\",\"#d7414e\",\"#f6fbb0\",\"#4e63ac\",\"#4e63ac\",\"#fca55d\",\"#4e63ac\",\"#e2514a\",\"#e2514a\",\"#ffffbe\",\"#fca55d\",\"#4e63ac\",\"#9e0142\",\"#4e63ac\",\"#4e63ac\",\"#4e63ac\",\"#4e63ac\",\"#edf8a3\",\"#4e63ac\",\"#4e63ac\",\"#4e63ac\",\"#4e63ac\",\"#e2514a\",\"#6ec5a5\",\"#fca55d\",\"#4e63ac\",\"#47a0b3\",\"#4e63ac\",\"#4e63ac\",\"#4e63ac\",\"#edf8a3\",\"#4e63ac\",\"#d7414e\",\"#4e63ac\",\"#4e63ac\",\"#4e63ac\",\"#4e63ac\",\"#4e63ac\",\"#4e63ac\",\"#4e63ac\",\"#4e63ac\",\"#4e63ac\",\"#fca55d\",\"#4e63ac\",\"#4e63ac\",\"#e1f399\",\"#4e63ac\",\"#358bbc\",\"#a2d9a4\",\"#4e63ac\",\"#e2514a\",\"#4e63ac\",\"#4e63ac\",\"#4e63ac\",\"#6ec5a5\",\"#4e63ac\",\"#4e63ac\",\"#fedc88\",\"#4e63ac\",\"#4e63ac\",\"#4e63ac\",\"#4e63ac\",\"#9e0142\",\"#4e63ac\",\"#4e63ac\",\"#4e63ac\",\"#4e63ac\",\"#4e63ac\",\"#4e63ac\",\"#4e63ac\",\"#ed6246\",\"#4e63ac\",\"#4e63ac\",\"#4e63ac\",\"#4e63ac\",\"#4e63ac\",\"#4e63ac\",\"#4e63ac\",\"#6ec5a5\",\"#4e63ac\",\"#4e63ac\",\"#4e63ac\",\"#4e63ac\",\"#6ec5a5\",\"#fca55d\",\"#4e63ac\",\"#6ec5a5\",\"#4e63ac\",\"#4e63ac\",\"#4e63ac\",\"#4e63ac\",\"#fedc88\",\"#5e4fa2\",\"#4e63ac\",\"#6ec5a5\",\"#4e63ac\",\"#4e63ac\",\"#4e63ac\",\"#4e63ac\",\"#e2514a\",\"#86cfa5\",\"#4e63ac\",\"#4e63ac\",\"#4e63ac\",\"#4e63ac\",\"#fedc88\",\"#fff3ac\",\"#4e63ac\",\"#4e63ac\",\"#e2514a\",\"#4e63ac\",\"#4e63ac\",\"#4e63ac\",\"#9e0142\",\"#4e63ac\",\"#4e63ac\",\"#4e63ac\",\"#9e0142\",\"#4e63ac\",\"#6ec5a5\",\"#ed6246\",\"#ed6246\",\"#6ec5a5\",\"#4e63ac\",\"#4e63ac\",\"#4e63ac\",\"#fca55d\",\"#cdeb9d\",\"#4e63ac\",\"#edf8a3\",\"#4e63ac\",\"#d7414e\",\"#4e63ac\",\"#edf8a3\",\"#e1f399\",\"#4e63ac\",\"#e2514a\",\"#a2d9a4\",\"#4e63ac\",\"#6ec5a5\",\"#fedc88\",\"#4e63ac\",\"#6ec5a5\",\"#fca55d\",\"#9e0142\",\"#d7414e\",\"#fca55d\",\"#4e63ac\",\"#c52c4b\",\"#4e63ac\",\"#cdeb9d\",\"#e2514a\",\"#4e63ac\",\"#9e0142\",\"#4e63ac\",\"#cdeb9d\",\"#4e63ac\",\"#9e0142\",\"#b8e2a1\",\"#4e63ac\",\"#e1f399\",\"#cdeb9d\",\"#4e63ac\",\"#4e63ac\",\"#4e63ac\",\"#a2d9a4\",\"#4e63ac\",\"#fca55d\",\"#edf8a3\",\"#4e63ac\",\"#4e63ac\",\"#fedc88\",\"#4e63ac\",\"#4e63ac\",\"#9e0142\",\"#4e63ac\",\"#4e63ac\",\"#4e63ac\",\"#4e63ac\",\"#4e63ac\",\"#4e63ac\",\"#4e63ac\",\"#e2514a\",\"#4e63ac\",\"#e1f399\",\"#4e63ac\",\"#d7414e\",\"#fca55d\",\"#4e63ac\",\"#9e0142\",\"#4e63ac\",\"#4e63ac\",\"#4e63ac\",\"#b11747\",\"#a2d9a4\",\"#e1f399\",\"#4e63ac\",\"#4e63ac\",\"#4e63ac\",\"#4e63ac\",\"#4e63ac\",\"#4e63ac\",\"#4e63ac\",\"#4e63ac\",\"#b8e2a1\",\"#4e63ac\",\"#ed6246\",\"#4e63ac\",\"#4e63ac\",\"#4e63ac\",\"#b8e2a1\",\"#4e63ac\",\"#e1f399\",\"#4e63ac\",\"#4e63ac\",\"#fca55d\",\"#fedc88\",\"#4e63ac\",\"#ffffbe\",\"#4e63ac\",\"#e2514a\",\"#6ec5a5\",\"#4e63ac\",\"#6ec5a5\",\"#d7414e\",\"#4e63ac\",\"#86cfa5\",\"#4e63ac\",\"#4e63ac\",\"#6ec5a5\",\"#f6fbb0\",\"#9e0142\",\"#4e63ac\",\"#4e63ac\",\"#f98e52\",\"#4e63ac\",\"#4e63ac\",\"#4e63ac\",\"#f57547\",\"#d7414e\",\"#4e63ac\",\"#4e63ac\",\"#4e63ac\",\"#6ec5a5\",\"#4e63ac\",\"#4e63ac\",\"#4e63ac\",\"#4e63ac\",\"#4e63ac\",\"#4e63ac\",\"#4e63ac\",\"#ffffbe\",\"#4e63ac\",\"#4e63ac\",\"#358bbc\",\"#4e63ac\",\"#4e63ac\",\"#4e63ac\",\"#4e63ac\",\"#e2514a\",\"#4e63ac\",\"#4e63ac\",\"#edf8a3\",\"#ed6246\",\"#fca55d\",\"#4e63ac\",\"#4e63ac\",\"#4e63ac\",\"#4e63ac\",\"#ffffbe\",\"#4e63ac\",\"#4e63ac\",\"#4e63ac\",\"#4e63ac\",\"#4e63ac\",\"#4e63ac\",\"#4e63ac\",\"#4e63ac\",\"#4e63ac\",\"#4e63ac\",\"#4e63ac\",\"#4e63ac\",\"#a2d9a4\",\"#edf8a3\",\"#e2514a\",\"#4e63ac\",\"#d7414e\",\"#edf8a3\",\"#6ec5a5\",\"#4e63ac\",\"#4e63ac\",\"#4e63ac\",\"#feca79\",\"#4e63ac\",\"#e1f399\",\"#fca55d\",\"#9e0142\",\"#fedc88\",\"#4e63ac\",\"#4e63ac\",\"#ed6246\",\"#4e63ac\",\"#9e0142\",\"#9e0142\",\"#ed6246\",\"#4e63ac\",\"#a2d9a4\",\"#4e63ac\",\"#4e63ac\",\"#4e63ac\",\"#4e63ac\",\"#4e63ac\",\"#4e63ac\",\"#4e63ac\",\"#4e63ac\",\"#4e63ac\",\"#a2d9a4\",\"#358bbc\",\"#4e63ac\",\"#4e63ac\",\"#4e63ac\",\"#e1f399\",\"#4e63ac\",\"#4e63ac\",\"#4e63ac\",\"#4e63ac\",\"#4e63ac\",\"#9e0142\",\"#fca55d\",\"#e2514a\",\"#feca79\",\"#4e63ac\",\"#4e63ac\",\"#edf8a3\",\"#4e63ac\",\"#cdeb9d\",\"#4e63ac\",\"#4e63ac\",\"#4e63ac\",\"#4e63ac\",\"#4e63ac\",\"#fca55d\",\"#edf8a3\",\"#4e63ac\",\"#4e63ac\",\"#4e63ac\",\"#4e63ac\",\"#4e63ac\",\"#4e63ac\",\"#6ec5a5\",\"#4e63ac\",\"#4e63ac\",\"#fca55d\",\"#e2514a\",\"#4e63ac\",\"#4e63ac\",\"#4e63ac\",\"#6ec5a5\",\"#4e63ac\",\"#4e63ac\",\"#e1f399\",\"#4e63ac\",\"#4e63ac\",\"#e1f399\",\"#e1f399\",\"#b11747\",\"#a2d9a4\",\"#4e63ac\",\"#fedc88\",\"#4e63ac\",\"#4e63ac\",\"#b8e2a1\",\"#edf8a3\",\"#4e63ac\",\"#4e63ac\",\"#fedc88\",\"#e1f399\",\"#e1f399\",\"#4e63ac\",\"#4e63ac\",\"#fca55d\",\"#4e63ac\",\"#fedc88\",\"#fedc88\",\"#4e63ac\",\"#b11747\",\"#4e63ac\",\"#4e63ac\",\"#4e63ac\",\"#ed6246\",\"#4e63ac\",\"#fca55d\",\"#4e63ac\",\"#4e63ac\",\"#4e63ac\",\"#a2d9a4\",\"#cdeb9d\",\"#4e63ac\",\"#f6fbb0\",\"#a2d9a4\",\"#4e63ac\",\"#e2514a\",\"#4e63ac\",\"#6ec5a5\",\"#4e63ac\",\"#5ab4ab\",\"#4e63ac\",\"#4e63ac\",\"#e2514a\",\"#4e63ac\",\"#4e63ac\",\"#4e63ac\",\"#6ec5a5\",\"#4e63ac\",\"#4e63ac\",\"#edf8a3\",\"#4e63ac\",\"#4e63ac\",\"#e2514a\",\"#4e63ac\",\"#4e63ac\",\"#4e63ac\",\"#cdeb9d\",\"#4e63ac\",\"#4e63ac\",\"#4e63ac\",\"#4e63ac\",\"#6ec5a5\",\"#4e63ac\",\"#4e63ac\",\"#4e63ac\",\"#4e63ac\",\"#4e63ac\",\"#4e63ac\",\"#4e63ac\",\"#4e63ac\",\"#6ec5a5\",\"#4e63ac\",\"#fca55d\",\"#4e63ac\",\"#d7414e\",\"#4e63ac\",\"#4e63ac\",\"#4e63ac\",\"#4e63ac\",\"#4e63ac\",\"#6ec5a5\",\"#4e63ac\",\"#4e63ac\",\"#4e63ac\",\"#e1f399\",\"#4e63ac\",\"#4e63ac\",\"#4e63ac\",\"#fedc88\",\"#4e63ac\",\"#4e63ac\",\"#4e63ac\",\"#4e63ac\",\"#4e63ac\",\"#4e63ac\",\"#4e63ac\",\"#6ec5a5\",\"#fedc88\",\"#a2d9a4\",\"#4e63ac\",\"#4e63ac\",\"#f6fbb0\",\"#4e63ac\",\"#cdeb9d\",\"#4e63ac\",\"#cdeb9d\",\"#e1f399\",\"#4e63ac\",\"#47a0b3\",\"#4e63ac\",\"#4e63ac\",\"#9e0142\",\"#5e4fa2\",\"#4e63ac\",\"#4e63ac\",\"#fedc88\",\"#d7414e\",\"#fedc88\",\"#4e63ac\",\"#4e63ac\",\"#4e63ac\",\"#fca55d\",\"#4e63ac\",\"#4e63ac\",\"#4e63ac\",\"#e2514a\",\"#6ec5a5\",\"#5ab4ab\",\"#4e63ac\",\"#a2d9a4\",\"#4e63ac\",\"#6ec5a5\",\"#4e63ac\",\"#4e63ac\",\"#a2d9a4\",\"#4e63ac\",\"#9e0142\",\"#4e63ac\",\"#4e63ac\",\"#e2514a\",\"#4e63ac\",\"#4e63ac\",\"#6ec5a5\",\"#4e63ac\",\"#4e63ac\",\"#d7414e\",\"#4e63ac\",\"#4e63ac\",\"#4e63ac\",\"#4e63ac\",\"#4e63ac\",\"#9e0142\",\"#4e63ac\",\"#4e63ac\",\"#4e63ac\",\"#4e63ac\",\"#4e63ac\",\"#4e63ac\",\"#fca55d\",\"#4e63ac\",\"#4e63ac\",\"#4e63ac\",\"#4e63ac\",\"#4e63ac\",\"#e1f399\",\"#6ec5a5\",\"#4e63ac\",\"#4e63ac\",\"#edf8a3\",\"#4e63ac\",\"#e2514a\",\"#4e63ac\",\"#4e63ac\",\"#4e63ac\",\"#9e0142\",\"#d7414e\",\"#9e0142\",\"#ffffbe\",\"#fca55d\",\"#fedc88\",\"#f98e52\",\"#4e63ac\",\"#fedc88\",\"#4e63ac\",\"#4e63ac\",\"#4e63ac\",\"#4e63ac\",\"#4e63ac\",\"#cdeb9d\",\"#4e63ac\",\"#4e63ac\",\"#f6fbb0\",\"#a2d9a4\",\"#4e63ac\",\"#4e63ac\",\"#a2d9a4\",\"#a2d9a4\",\"#4e63ac\",\"#a2d9a4\",\"#4e63ac\",\"#4e63ac\",\"#4e63ac\",\"#e1f399\",\"#a2d9a4\",\"#4e63ac\",\"#4e63ac\",\"#4e63ac\",\"#4e63ac\",\"#4e63ac\",\"#4e63ac\",\"#4e63ac\",\"#4e63ac\",\"#4e63ac\",\"#edf8a3\",\"#4e63ac\",\"#358bbc\",\"#4e63ac\",\"#f57547\",\"#4e63ac\",\"#4e63ac\",\"#e2514a\",\"#d7414e\",\"#a2d9a4\",\"#4e63ac\",\"#9e0142\",\"#4e63ac\",\"#4e63ac\",\"#4e63ac\",\"#4e63ac\",\"#4e63ac\",\"#4e63ac\",\"#4e63ac\",\"#4e63ac\",\"#4e63ac\",\"#4e63ac\",\"#edf8a3\",\"#e1f399\",\"#4e63ac\",\"#4e63ac\",\"#4e63ac\",\"#fca55d\",\"#4e63ac\",\"#edf8a3\",\"#4e63ac\",\"#4e63ac\",\"#fca55d\",\"#4e63ac\",\"#6ec5a5\",\"#4e63ac\",\"#4e63ac\",\"#4e63ac\",\"#4e63ac\",\"#5ab4ab\",\"#4e63ac\",\"#f6fbb0\",\"#e1f399\",\"#ffffbe\",\"#fedc88\",\"#4e63ac\",\"#4e63ac\",\"#4e63ac\",\"#4e63ac\",\"#d7414e\",\"#4e63ac\",\"#6ec5a5\",\"#4e63ac\",\"#4e63ac\",\"#4e63ac\",\"#ed6246\",\"#d7414e\",\"#4e63ac\",\"#4e63ac\",\"#4e63ac\",\"#fca55d\",\"#e2514a\",\"#86cfa5\",\"#6ec5a5\",\"#4e63ac\",\"#fca55d\",\"#4e63ac\",\"#4e63ac\",\"#4e63ac\",\"#4e63ac\",\"#4e63ac\",\"#4e63ac\",\"#4e63ac\",\"#4e63ac\",\"#4e63ac\",\"#a2d9a4\",\"#4e63ac\",\"#4e63ac\",\"#5ab4ab\",\"#4e63ac\",\"#5ab4ab\",\"#d7414e\",\"#a2d9a4\",\"#4e63ac\",\"#4e63ac\",\"#e2514a\",\"#4e63ac\",\"#9e0142\",\"#edf8a3\",\"#b11747\",\"#edf8a3\",\"#4e63ac\",\"#4e63ac\",\"#e2514a\",\"#fca55d\",\"#fca55d\",\"#358bbc\",\"#4e63ac\",\"#4e63ac\",\"#4e63ac\",\"#4e63ac\",\"#4e63ac\",\"#4e63ac\",\"#e1f399\",\"#4e63ac\",\"#fca55d\",\"#4e63ac\",\"#e2514a\",\"#d7414e\",\"#4e63ac\",\"#4e63ac\",\"#4e63ac\",\"#358bbc\",\"#d7414e\",\"#4e63ac\",\"#4e63ac\",\"#a2d9a4\",\"#e2514a\",\"#edf8a3\",\"#fedc88\",\"#fedc88\",\"#4e63ac\",\"#4e63ac\",\"#d7414e\",\"#4e63ac\",\"#4e63ac\",\"#4e63ac\",\"#4e63ac\",\"#4e63ac\",\"#fca55d\",\"#c52c4b\",\"#cdeb9d\",\"#c52c4b\",\"#4e63ac\",\"#4e63ac\",\"#4e63ac\",\"#4e63ac\",\"#4e63ac\",\"#4e63ac\",\"#fedc88\",\"#4e63ac\",\"#4e63ac\",\"#4e63ac\",\"#4e63ac\",\"#4e63ac\",\"#ed6246\",\"#9e0142\",\"#f57547\",\"#d7414e\",\"#fca55d\",\"#4e63ac\",\"#86cfa5\",\"#f98e52\",\"#f57547\",\"#4e63ac\",\"#edf8a3\",\"#4e63ac\",\"#4e63ac\",\"#fedc88\",\"#4e63ac\",\"#4e63ac\",\"#4e63ac\",\"#4e63ac\",\"#4e63ac\",\"#86cfa5\",\"#4e63ac\",\"#4e63ac\",\"#edf8a3\",\"#4e63ac\",\"#4e63ac\",\"#a2d9a4\",\"#4e63ac\",\"#4e63ac\",\"#4e63ac\",\"#b11747\",\"#4e63ac\",\"#4e63ac\",\"#4e63ac\",\"#4e63ac\",\"#4e63ac\",\"#edf8a3\",\"#a2d9a4\",\"#4e63ac\",\"#4e63ac\",\"#4e63ac\",\"#e1f399\",\"#4e63ac\",\"#4e63ac\",\"#e1f399\",\"#9e0142\",\"#4e63ac\",\"#4e63ac\",\"#4e63ac\",\"#4e63ac\",\"#4e63ac\",\"#4e63ac\",\"#4e63ac\",\"#4e63ac\",\"#e1f399\",\"#4e63ac\",\"#4e63ac\",\"#4e63ac\",\"#f6fbb0\",\"#4e63ac\",\"#47a0b3\",\"#e1f399\",\"#4e63ac\",\"#cdeb9d\",\"#4e63ac\",\"#a2d9a4\",\"#9e0142\",\"#4e63ac\",\"#6ec5a5\",\"#4e63ac\",\"#4e63ac\",\"#4e63ac\",\"#4e63ac\",\"#4e63ac\",\"#4e63ac\",\"#4e63ac\",\"#ed6246\",\"#4e63ac\",\"#4e63ac\",\"#d7414e\",\"#4e63ac\",\"#4e63ac\",\"#4e63ac\",\"#edf8a3\",\"#edf8a3\",\"#4e63ac\",\"#4e63ac\",\"#4e63ac\",\"#4e63ac\",\"#4e63ac\",\"#4e63ac\",\"#f57547\",\"#4e63ac\",\"#6ec5a5\",\"#4e63ac\",\"#358bbc\",\"#6ec5a5\",\"#4e63ac\",\"#ed6246\",\"#e2514a\",\"#fca55d\",\"#ffffbe\",\"#4e63ac\",\"#4e63ac\",\"#4e63ac\",\"#4e63ac\",\"#ffffbe\",\"#4e63ac\",\"#9e0142\",\"#fedc88\",\"#6ec5a5\",\"#4e63ac\",\"#d7414e\",\"#4e63ac\",\"#4e63ac\",\"#4e63ac\",\"#cdeb9d\",\"#4e63ac\",\"#ed6246\",\"#a2d9a4\",\"#e2514a\",\"#9e0142\",\"#fca55d\",\"#4e63ac\",\"#a2d9a4\",\"#e1f399\",\"#6ec5a5\",\"#ffffbe\",\"#4e63ac\",\"#4e63ac\",\"#4e63ac\",\"#cdeb9d\",\"#4e63ac\",\"#a2d9a4\",\"#4e63ac\",\"#4e63ac\",\"#4e63ac\",\"#edf8a3\",\"#4e63ac\",\"#4e63ac\",\"#9e0142\",\"#edf8a3\",\"#e1f399\",\"#4e63ac\",\"#4e63ac\",\"#f98e52\",\"#4e63ac\",\"#4e63ac\",\"#fca55d\",\"#fedc88\",\"#4e63ac\",\"#4e63ac\",\"#4e63ac\",\"#9e0142\",\"#4e63ac\",\"#4e63ac\",\"#4e63ac\",\"#4e63ac\",\"#6ec5a5\",\"#4e63ac\",\"#4e63ac\",\"#f6fbb0\",\"#4e63ac\",\"#9e0142\",\"#4e63ac\",\"#4e63ac\",\"#fee999\",\"#4e63ac\",\"#4e63ac\",\"#4e63ac\",\"#4e63ac\",\"#4e63ac\",\"#4e63ac\",\"#358bbc\",\"#4e63ac\",\"#fca55d\",\"#4e63ac\",\"#4e63ac\",\"#e2514a\",\"#b11747\",\"#edf8a3\",\"#e1f399\",\"#4e63ac\",\"#4e63ac\",\"#4e63ac\",\"#9e0142\",\"#4e63ac\",\"#e2514a\",\"#4e63ac\",\"#4e63ac\",\"#4e63ac\",\"#edf8a3\",\"#4e63ac\",\"#4e63ac\",\"#4e63ac\",\"#9e0142\",\"#e1f399\",\"#4e63ac\",\"#4e63ac\",\"#4e63ac\",\"#4e63ac\",\"#fca55d\",\"#4e63ac\",\"#d7414e\",\"#4e63ac\",\"#4e63ac\",\"#4e63ac\",\"#4e63ac\",\"#fca55d\",\"#4e63ac\",\"#4e63ac\",\"#4e63ac\",\"#4e63ac\",\"#4e63ac\",\"#cdeb9d\",\"#4e63ac\",\"#4e63ac\",\"#4e63ac\",\"#ffffbe\",\"#e2514a\",\"#4e63ac\",\"#4e63ac\",\"#4e63ac\",\"#9e0142\",\"#4e63ac\",\"#4e63ac\",\"#4e63ac\",\"#4e63ac\",\"#edf8a3\",\"#4e63ac\",\"#6ec5a5\",\"#a2d9a4\",\"#4e63ac\",\"#4e63ac\",\"#4e63ac\",\"#4e63ac\",\"#6ec5a5\",\"#e2514a\",\"#4e63ac\",\"#4e63ac\",\"#6ec5a5\",\"#86cfa5\",\"#fca55d\",\"#4e63ac\",\"#4e63ac\",\"#edf8a3\",\"#e2514a\",\"#4e63ac\",\"#4e63ac\",\"#e2514a\",\"#4e63ac\",\"#fca55d\",\"#edf8a3\",\"#4e63ac\",\"#5ab4ab\",\"#6ec5a5\",\"#4e63ac\",\"#4e63ac\",\"#4e63ac\",\"#4e63ac\",\"#fca55d\",\"#b11747\",\"#4e63ac\",\"#4e63ac\",\"#edf8a3\",\"#4e63ac\",\"#f6fbb0\",\"#e2514a\",\"#fedc88\",\"#4e63ac\",\"#fee999\",\"#4e63ac\",\"#e2514a\",\"#4e63ac\",\"#4e63ac\",\"#4e63ac\",\"#4e63ac\",\"#4e63ac\",\"#fca55d\",\"#f57547\",\"#fedc88\",\"#4e63ac\",\"#4e63ac\",\"#4e63ac\",\"#4e63ac\",\"#4e63ac\",\"#4e63ac\",\"#4e63ac\",\"#4e63ac\",\"#4e63ac\",\"#9e0142\",\"#fedc88\",\"#4e63ac\",\"#a2d9a4\",\"#4e63ac\",\"#cdeb9d\",\"#4e63ac\",\"#fca55d\",\"#fca55d\",\"#4e63ac\",\"#edf8a3\",\"#fca55d\",\"#4e63ac\",\"#4e63ac\",\"#e1f399\",\"#4e63ac\",\"#4e63ac\",\"#4e63ac\",\"#4e63ac\",\"#4e63ac\",\"#4e63ac\",\"#e1f399\",\"#4e63ac\",\"#4e63ac\",\"#4e63ac\",\"#5e4fa2\",\"#d7414e\",\"#edf8a3\",\"#4e63ac\",\"#4e63ac\",\"#4e63ac\",\"#4e63ac\",\"#4e63ac\",\"#4e63ac\",\"#4e63ac\",\"#d7414e\",\"#9e0142\",\"#4e63ac\",\"#9e0142\",\"#fca55d\",\"#4e63ac\",\"#4e63ac\",\"#4e63ac\",\"#ed6246\",\"#4e63ac\",\"#4e63ac\",\"#d7414e\",\"#4e63ac\",\"#e1f399\",\"#4e63ac\",\"#f57547\",\"#4e63ac\",\"#4e63ac\",\"#4e63ac\",\"#fedc88\",\"#4e63ac\",\"#4e63ac\",\"#4e63ac\",\"#4e63ac\",\"#f57547\",\"#ed6246\",\"#4e63ac\",\"#e2514a\",\"#6ec5a5\",\"#4e63ac\",\"#4e63ac\",\"#358bbc\",\"#4e63ac\",\"#4e63ac\",\"#4e63ac\",\"#4e63ac\",\"#4e63ac\",\"#9e0142\",\"#4e63ac\",\"#4e63ac\",\"#4e63ac\",\"#4e63ac\",\"#4e63ac\",\"#e2514a\",\"#e2514a\",\"#e1f399\",\"#4e63ac\",\"#e1f399\",\"#4e63ac\",\"#f6fbb0\",\"#9e0142\",\"#4e63ac\",\"#4e63ac\",\"#4e63ac\",\"#4e63ac\",\"#fca55d\",\"#4e63ac\",\"#fedc88\",\"#edf8a3\",\"#6ec5a5\",\"#fca55d\",\"#4e63ac\",\"#4e63ac\",\"#4e63ac\",\"#4e63ac\",\"#4e63ac\",\"#a2d9a4\",\"#4e63ac\",\"#4e63ac\",\"#4e63ac\",\"#4e63ac\",\"#4e63ac\",\"#4e63ac\",\"#4e63ac\",\"#4e63ac\",\"#4e63ac\",\"#4e63ac\",\"#4e63ac\",\"#4e63ac\",\"#b11747\",\"#4e63ac\",\"#4e63ac\",\"#4e63ac\",\"#ed6246\",\"#4e63ac\",\"#e2514a\",\"#edf8a3\",\"#fca55d\",\"#4e63ac\",\"#9e0142\",\"#4e63ac\",\"#4e63ac\",\"#d7414e\",\"#4e63ac\",\"#4e63ac\",\"#4e63ac\",\"#4e63ac\",\"#d7414e\",\"#4e63ac\",\"#fca55d\",\"#4e63ac\",\"#4e63ac\",\"#e2514a\",\"#4e63ac\",\"#edf8a3\",\"#4e63ac\",\"#fca55d\",\"#4e63ac\",\"#4e63ac\",\"#4e63ac\",\"#4e63ac\",\"#cdeb9d\",\"#cdeb9d\",\"#a2d9a4\",\"#fedc88\",\"#9e0142\",\"#4e63ac\",\"#9e0142\",\"#e2514a\",\"#4e63ac\",\"#4e63ac\",\"#4e63ac\",\"#4e63ac\",\"#4e63ac\",\"#4e63ac\",\"#a2d9a4\",\"#4e63ac\",\"#4e63ac\",\"#ed6246\",\"#a2d9a4\",\"#4e63ac\",\"#4e63ac\",\"#fff3ac\",\"#cdeb9d\",\"#4e63ac\",\"#4e63ac\",\"#4e63ac\",\"#a2d9a4\",\"#4e63ac\",\"#4e63ac\",\"#edf8a3\",\"#4e63ac\",\"#4e63ac\",\"#4e63ac\",\"#f57547\",\"#a2d9a4\",\"#4e63ac\",\"#edf8a3\",\"#4e63ac\",\"#4e63ac\",\"#cdeb9d\",\"#4e63ac\",\"#edf8a3\",\"#4e63ac\",\"#4e63ac\",\"#4e63ac\",\"#4e63ac\",\"#4e63ac\",\"#4e63ac\",\"#4e63ac\",\"#4e63ac\",\"#fff3ac\",\"#9e0142\",\"#fca55d\",\"#4e63ac\",\"#4e63ac\",\"#4e63ac\",\"#4e63ac\",\"#4e63ac\",\"#4e63ac\",\"#6ec5a5\",\"#6ec5a5\",\"#ed6246\",\"#cdeb9d\",\"#4e63ac\",\"#cdeb9d\",\"#4e63ac\",\"#4e63ac\",\"#6ec5a5\",\"#6ec5a5\",\"#4e63ac\",\"#6ec5a5\",\"#4e63ac\",\"#4e63ac\",\"#86cfa5\",\"#4e63ac\",\"#e1f399\",\"#4e63ac\",\"#4e63ac\",\"#4e63ac\",\"#fca55d\",\"#ffffbe\",\"#4e63ac\",\"#4e63ac\",\"#4e63ac\",\"#4e63ac\",\"#4e63ac\",\"#d7414e\",\"#4e63ac\",\"#4e63ac\",\"#cdeb9d\",\"#4e63ac\",\"#4e63ac\",\"#ed6246\",\"#e2514a\",\"#4e63ac\",\"#fee999\",\"#4e63ac\",\"#a2d9a4\",\"#e1f399\",\"#4e63ac\",\"#ed6246\",\"#9e0142\",\"#6ec5a5\",\"#9e0142\",\"#f6fbb0\",\"#4e63ac\",\"#4e63ac\",\"#4e63ac\",\"#4e63ac\",\"#ed6246\",\"#4e63ac\",\"#d7414e\",\"#6ec5a5\",\"#86cfa5\",\"#4e63ac\",\"#edf8a3\",\"#4e63ac\",\"#4e63ac\",\"#4e63ac\",\"#4e63ac\",\"#4e63ac\",\"#e1f399\",\"#fedc88\",\"#4e63ac\",\"#4e63ac\",\"#4e63ac\",\"#4e63ac\",\"#4e63ac\",\"#4e63ac\",\"#6ec5a5\",\"#4e63ac\",\"#4e63ac\",\"#ed6246\",\"#b8e2a1\",\"#a2d9a4\",\"#4e63ac\",\"#4e63ac\",\"#fca55d\",\"#4e63ac\",\"#4e63ac\",\"#fca55d\",\"#4e63ac\",\"#4e63ac\",\"#cdeb9d\",\"#a2d9a4\",\"#e1f399\",\"#4e63ac\",\"#cdeb9d\",\"#b8e2a1\",\"#4e63ac\",\"#358bbc\",\"#6ec5a5\",\"#fca55d\",\"#4e63ac\",\"#a2d9a4\",\"#4e63ac\",\"#e1f399\",\"#5ab4ab\",\"#4e63ac\",\"#e1f399\",\"#4e63ac\",\"#4e63ac\",\"#4e63ac\",\"#4e63ac\",\"#86cfa5\",\"#4e63ac\",\"#4e63ac\",\"#4e63ac\",\"#ffffbe\",\"#edf8a3\",\"#fedc88\",\"#4e63ac\",\"#4e63ac\",\"#4e63ac\",\"#4e63ac\",\"#a2d9a4\",\"#a2d9a4\",\"#edf8a3\",\"#6ec5a5\",\"#4e63ac\",\"#ed6246\",\"#4e63ac\",\"#b11747\",\"#4e63ac\",\"#4e63ac\",\"#4e63ac\",\"#4e63ac\",\"#4e63ac\",\"#4e63ac\",\"#4e63ac\",\"#c52c4b\",\"#9e0142\",\"#4e63ac\",\"#4e63ac\",\"#4e63ac\",\"#358bbc\",\"#4e63ac\",\"#4e63ac\",\"#4e63ac\",\"#4e63ac\",\"#4e63ac\",\"#4e63ac\",\"#4e63ac\",\"#edf8a3\",\"#e2514a\",\"#5e4fa2\",\"#4e63ac\",\"#4e63ac\",\"#4e63ac\",\"#ed6246\",\"#4e63ac\",\"#4e63ac\",\"#e1f399\",\"#e1f399\",\"#e1f399\",\"#6ec5a5\",\"#4e63ac\",\"#4e63ac\",\"#4e63ac\",\"#6ec5a5\",\"#edf8a3\",\"#4e63ac\",\"#6ec5a5\",\"#fca55d\",\"#a2d9a4\",\"#4e63ac\",\"#4e63ac\",\"#9e0142\",\"#4e63ac\",\"#4e63ac\",\"#4e63ac\",\"#4e63ac\",\"#fff3ac\",\"#4e63ac\",\"#a2d9a4\",\"#4e63ac\",\"#edf8a3\",\"#4e63ac\",\"#4e63ac\",\"#4e63ac\",\"#4e63ac\",\"#4e63ac\",\"#a2d9a4\",\"#e2514a\",\"#4e63ac\",\"#fedc88\",\"#cdeb9d\",\"#f57547\",\"#e1f399\",\"#4e63ac\",\"#4e63ac\",\"#6ec5a5\",\"#a2d9a4\",\"#4e63ac\",\"#e1f399\",\"#4e63ac\",\"#4e63ac\",\"#4e63ac\",\"#4e63ac\",\"#9e0142\",\"#4e63ac\",\"#6ec5a5\",\"#6ec5a5\",\"#4e63ac\",\"#edf8a3\",\"#4e63ac\",\"#fca55d\",\"#4e63ac\",\"#4e63ac\",\"#edf8a3\",\"#4e63ac\",\"#4e63ac\",\"#4e63ac\",\"#4e63ac\",\"#6ec5a5\",\"#4e63ac\",\"#b8e2a1\",\"#4e63ac\",\"#9e0142\",\"#4e63ac\",\"#e2514a\",\"#4e63ac\",\"#4e63ac\",\"#4e63ac\",\"#e2514a\",\"#edf8a3\",\"#e2514a\",\"#fedc88\",\"#4e63ac\",\"#4e63ac\",\"#4e63ac\",\"#e2514a\",\"#86cfa5\",\"#4e63ac\",\"#4e63ac\",\"#fca55d\",\"#4e63ac\",\"#fca55d\",\"#86cfa5\",\"#e1f399\",\"#4e63ac\",\"#f6fbb0\",\"#9e0142\",\"#4e63ac\",\"#fff3ac\",\"#4e63ac\",\"#4e63ac\",\"#4e63ac\",\"#e2514a\",\"#4e63ac\",\"#fca55d\",\"#4e63ac\",\"#6ec5a5\",\"#edf8a3\",\"#4e63ac\",\"#e1f399\",\"#fca55d\",\"#e1f399\",\"#4e63ac\",\"#4e63ac\",\"#a2d9a4\",\"#4e63ac\",\"#e2514a\",\"#f98e52\",\"#fca55d\",\"#4e63ac\",\"#6ec5a5\",\"#4e63ac\",\"#4e63ac\",\"#4e63ac\",\"#86cfa5\",\"#b8e2a1\",\"#4e63ac\",\"#4e63ac\",\"#4e63ac\",\"#4e63ac\",\"#4e63ac\",\"#4e63ac\",\"#4e63ac\",\"#4e63ac\",\"#e2514a\",\"#4e63ac\",\"#4e63ac\",\"#4e63ac\",\"#fee999\",\"#4e63ac\",\"#4e63ac\",\"#4e63ac\",\"#4e63ac\",\"#4e63ac\",\"#4e63ac\",\"#4e63ac\",\"#4e63ac\",\"#4e63ac\",\"#4e63ac\",\"#4e63ac\",\"#a2d9a4\",\"#6ec5a5\",\"#d7414e\",\"#4e63ac\",\"#4e63ac\",\"#4e63ac\",\"#b11747\",\"#fedc88\",\"#4e63ac\",\"#4e63ac\",\"#4e63ac\",\"#4e63ac\",\"#4e63ac\",\"#f57547\",\"#4e63ac\",\"#6ec5a5\",\"#e2514a\",\"#4e63ac\",\"#6ec5a5\",\"#4e63ac\",\"#f6fbb0\",\"#4e63ac\",\"#4e63ac\",\"#4e63ac\",\"#4e63ac\",\"#4e63ac\",\"#4e63ac\",\"#fedc88\",\"#4e63ac\",\"#6ec5a5\",\"#4e63ac\",\"#4e63ac\",\"#4e63ac\",\"#4e63ac\",\"#ed6246\",\"#4e63ac\",\"#4e63ac\",\"#4e63ac\",\"#fff3ac\",\"#4e63ac\",\"#4e63ac\",\"#4e63ac\",\"#edf8a3\",\"#4e63ac\",\"#9e0142\",\"#4e63ac\",\"#4e63ac\",\"#4e63ac\",\"#cdeb9d\",\"#4e63ac\",\"#d7414e\",\"#fca55d\",\"#4e63ac\",\"#e1f399\",\"#6ec5a5\",\"#e1f399\",\"#d7414e\",\"#e1f399\",\"#e1f399\",\"#e2514a\",\"#4e63ac\",\"#4e63ac\",\"#4e63ac\",\"#4e63ac\",\"#5e4fa2\",\"#6ec5a5\",\"#e2514a\",\"#4e63ac\",\"#fca55d\",\"#fca55d\",\"#4e63ac\",\"#b8e2a1\",\"#4e63ac\",\"#fedc88\",\"#fca55d\",\"#4e63ac\",\"#4e63ac\",\"#d7414e\",\"#d7414e\",\"#e2514a\",\"#9e0142\",\"#cdeb9d\",\"#4e63ac\",\"#fdb96a\",\"#ffffbe\",\"#4e63ac\",\"#4e63ac\",\"#4e63ac\",\"#6ec5a5\",\"#4e63ac\",\"#4e63ac\",\"#4e63ac\",\"#4e63ac\",\"#4e63ac\",\"#4e63ac\",\"#6ec5a5\",\"#f6fbb0\",\"#4e63ac\",\"#4e63ac\",\"#4e63ac\",\"#4e63ac\",\"#fca55d\",\"#4e63ac\",\"#4e63ac\",\"#4e63ac\",\"#fca55d\",\"#4e63ac\",\"#6ec5a5\",\"#a2d9a4\",\"#4e63ac\",\"#4e63ac\",\"#4e63ac\",\"#d7414e\",\"#6ec5a5\",\"#fedc88\",\"#e2514a\",\"#4e63ac\",\"#fca55d\",\"#4e63ac\",\"#4e63ac\",\"#e1f399\",\"#4e63ac\",\"#e2514a\",\"#fca55d\",\"#e1f399\",\"#4e63ac\",\"#4e63ac\",\"#4e63ac\",\"#5ab4ab\",\"#4e63ac\",\"#4e63ac\",\"#4e63ac\",\"#4e63ac\",\"#4e63ac\",\"#4e63ac\",\"#4e63ac\",\"#4e63ac\",\"#d7414e\",\"#4e63ac\",\"#4e63ac\",\"#4e63ac\",\"#9e0142\",\"#5ab4ab\",\"#cdeb9d\",\"#6ec5a5\",\"#e1f399\",\"#4e63ac\",\"#4e63ac\",\"#fff3ac\",\"#edf8a3\",\"#4e63ac\",\"#4e63ac\",\"#4e63ac\",\"#4e63ac\",\"#4e63ac\",\"#ed6246\",\"#4e63ac\",\"#6ec5a5\",\"#4e63ac\",\"#4e63ac\",\"#4e63ac\",\"#e2514a\",\"#4e63ac\",\"#fca55d\",\"#fca55d\",\"#6ec5a5\",\"#e1f399\",\"#b8e2a1\",\"#4e63ac\",\"#4e63ac\",\"#4e63ac\",\"#e1f399\",\"#4e63ac\",\"#4e63ac\",\"#4e63ac\",\"#4e63ac\",\"#4e63ac\",\"#4e63ac\",\"#4e63ac\",\"#4e63ac\",\"#e2514a\",\"#4e63ac\",\"#4e63ac\",\"#b11747\",\"#a2d9a4\",\"#e2514a\",\"#6ec5a5\",\"#4e63ac\",\"#4e63ac\",\"#4e63ac\",\"#4e63ac\",\"#4e63ac\",\"#a2d9a4\",\"#4e63ac\",\"#4e63ac\",\"#4e63ac\",\"#d7414e\",\"#4e63ac\",\"#fca55d\",\"#4e63ac\",\"#4e63ac\",\"#4e63ac\",\"#4e63ac\",\"#d7414e\",\"#4e63ac\",\"#6ec5a5\",\"#9e0142\",\"#c52c4b\",\"#c52c4b\",\"#4e63ac\",\"#d7414e\",\"#4e63ac\",\"#d7414e\",\"#4e63ac\",\"#4e63ac\",\"#4e63ac\",\"#fca55d\",\"#9e0142\",\"#4e63ac\",\"#e1f399\",\"#5ab4ab\",\"#4e63ac\",\"#4e63ac\",\"#4e63ac\",\"#6ec5a5\",\"#4e63ac\",\"#4e63ac\",\"#cdeb9d\",\"#4e63ac\",\"#4e63ac\",\"#6ec5a5\",\"#4e63ac\",\"#4e63ac\",\"#4e63ac\",\"#e2514a\",\"#fca55d\",\"#4e63ac\",\"#4e63ac\",\"#4e63ac\",\"#9e0142\",\"#4e63ac\",\"#4e63ac\",\"#edf8a3\",\"#4e63ac\",\"#d7414e\",\"#4e63ac\",\"#4e63ac\",\"#4e63ac\",\"#4e63ac\",\"#4e63ac\",\"#4e63ac\",\"#5ab4ab\",\"#e1f399\",\"#4e63ac\",\"#4e63ac\",\"#e2514a\",\"#4e63ac\",\"#4e63ac\",\"#358bbc\",\"#4e63ac\",\"#fca55d\",\"#4e63ac\",\"#4e63ac\",\"#4e63ac\",\"#4e63ac\",\"#4e63ac\",\"#d7414e\",\"#4e63ac\",\"#4e63ac\",\"#4e63ac\",\"#4e63ac\",\"#e2514a\",\"#4e63ac\",\"#e1f399\",\"#4e63ac\",\"#4e63ac\",\"#d7414e\",\"#4e63ac\",\"#6ec5a5\",\"#4e63ac\",\"#4e63ac\",\"#edf8a3\",\"#6ec5a5\",\"#4e63ac\",\"#fca55d\",\"#ed6246\",\"#4e63ac\",\"#4e63ac\",\"#4e63ac\",\"#e1f399\",\"#4e63ac\",\"#4e63ac\",\"#9e0142\",\"#d7414e\",\"#4e63ac\",\"#4e63ac\",\"#4e63ac\",\"#edf8a3\",\"#4e63ac\",\"#4e63ac\",\"#edf8a3\",\"#4e63ac\",\"#d7414e\",\"#4e63ac\",\"#4e63ac\",\"#9e0142\",\"#4e63ac\",\"#4e63ac\",\"#4e63ac\",\"#4e63ac\",\"#4e63ac\",\"#cdeb9d\",\"#4e63ac\",\"#4e63ac\",\"#9e0142\",\"#4e63ac\",\"#4e63ac\",\"#4e63ac\",\"#cdeb9d\",\"#4e63ac\",\"#e2514a\",\"#4e63ac\",\"#4e63ac\",\"#4e63ac\",\"#4e63ac\",\"#4e63ac\",\"#b11747\",\"#f6fbb0\",\"#4e63ac\",\"#4e63ac\",\"#4e63ac\",\"#fedc88\",\"#4e63ac\",\"#6ec5a5\",\"#f98e52\",\"#6ec5a5\",\"#edf8a3\",\"#f57547\",\"#4e63ac\",\"#4e63ac\",\"#4e63ac\",\"#fca55d\",\"#4e63ac\",\"#4e63ac\",\"#6ec5a5\",\"#4e63ac\",\"#4e63ac\",\"#4e63ac\",\"#4e63ac\",\"#4e63ac\",\"#4e63ac\",\"#e1f399\",\"#d7414e\",\"#fca55d\",\"#4e63ac\",\"#e1f399\",\"#4e63ac\",\"#a2d9a4\",\"#4e63ac\",\"#6ec5a5\",\"#4e63ac\",\"#e1f399\",\"#fca55d\",\"#4e63ac\",\"#4e63ac\",\"#4e63ac\",\"#e2514a\",\"#9e0142\",\"#cdeb9d\",\"#fedc88\",\"#4e63ac\",\"#4e63ac\",\"#4e63ac\",\"#4e63ac\",\"#4e63ac\",\"#edf8a3\",\"#4e63ac\",\"#fca55d\",\"#4e63ac\",\"#5ab4ab\",\"#4e63ac\",\"#4e63ac\",\"#b8e2a1\",\"#4e63ac\",\"#d7414e\",\"#4e63ac\",\"#4e63ac\",\"#4e63ac\",\"#4e63ac\",\"#4e63ac\",\"#4e63ac\",\"#4e63ac\",\"#4e63ac\",\"#e1f399\",\"#4e63ac\",\"#4e63ac\",\"#9e0142\",\"#86cfa5\",\"#b8e2a1\",\"#4e63ac\",\"#fca55d\",\"#4e63ac\",\"#e2514a\",\"#4e63ac\",\"#4e63ac\",\"#6ec5a5\",\"#cdeb9d\",\"#4e63ac\",\"#4e63ac\",\"#4e63ac\",\"#4e63ac\",\"#4e63ac\",\"#4e63ac\",\"#e2514a\",\"#4e63ac\",\"#ed6246\",\"#4e63ac\",\"#feca79\",\"#4e63ac\",\"#4e63ac\",\"#a2d9a4\",\"#4e63ac\",\"#b11747\",\"#cdeb9d\",\"#f98e52\",\"#4e63ac\",\"#4e63ac\",\"#a2d9a4\",\"#4e63ac\",\"#edf8a3\",\"#fca55d\",\"#4e63ac\",\"#e1f399\",\"#4e63ac\",\"#fca55d\",\"#4e63ac\",\"#4e63ac\",\"#4e63ac\",\"#4e63ac\",\"#4e63ac\",\"#e1f399\",\"#ed6246\",\"#ffffbe\",\"#e2514a\",\"#4e63ac\",\"#4e63ac\",\"#4e63ac\",\"#4e63ac\",\"#4e63ac\",\"#4e63ac\",\"#6ec5a5\",\"#6ec5a5\",\"#4e63ac\",\"#a2d9a4\",\"#4e63ac\",\"#4e63ac\",\"#4e63ac\",\"#4e63ac\",\"#4e63ac\",\"#4e63ac\",\"#6ec5a5\",\"#fedc88\",\"#4e63ac\",\"#4e63ac\",\"#4e63ac\",\"#4e63ac\",\"#e2514a\",\"#e1f399\",\"#4e63ac\",\"#9e0142\",\"#4e63ac\",\"#d7414e\",\"#4e63ac\",\"#4e63ac\",\"#4e63ac\",\"#4e63ac\",\"#fca55d\",\"#4e63ac\",\"#4e63ac\",\"#4e63ac\",\"#fca55d\",\"#4e63ac\",\"#6ec5a5\",\"#edf8a3\",\"#c52c4b\",\"#cdeb9d\",\"#4e63ac\",\"#4e63ac\",\"#4e63ac\",\"#4e63ac\",\"#4e63ac\",\"#4e63ac\",\"#4e63ac\",\"#e1f399\",\"#b11747\",\"#6ec5a5\",\"#6ec5a5\",\"#e2514a\",\"#4e63ac\",\"#4e63ac\",\"#c52c4b\",\"#edf8a3\",\"#e1f399\",\"#d7414e\",\"#4e63ac\",\"#4e63ac\",\"#4e63ac\",\"#a2d9a4\",\"#4e63ac\",\"#4e63ac\",\"#4e63ac\",\"#e2514a\",\"#4e63ac\",\"#4e63ac\",\"#4e63ac\",\"#d7414e\",\"#4e63ac\",\"#4e63ac\",\"#4e63ac\",\"#4e63ac\",\"#4e63ac\",\"#a2d9a4\",\"#fca55d\",\"#fca55d\",\"#fca55d\",\"#edf8a3\",\"#4e63ac\",\"#4e63ac\",\"#4e63ac\",\"#e1f399\",\"#4e63ac\",\"#f57547\",\"#4e63ac\",\"#4e63ac\",\"#6ec5a5\",\"#fca55d\",\"#4e63ac\",\"#4e63ac\",\"#4e63ac\",\"#6ec5a5\",\"#fedc88\",\"#d7414e\",\"#4e63ac\",\"#86cfa5\",\"#4e63ac\",\"#4e63ac\",\"#4e63ac\",\"#9e0142\",\"#4e63ac\",\"#4e63ac\",\"#4e63ac\",\"#4e63ac\",\"#4e63ac\",\"#4e63ac\",\"#4e63ac\",\"#6ec5a5\",\"#4e63ac\",\"#e1f399\",\"#edf8a3\",\"#4e63ac\",\"#4e63ac\",\"#cdeb9d\",\"#e2514a\",\"#4e63ac\",\"#4e63ac\",\"#d7414e\",\"#4e63ac\",\"#4e63ac\",\"#4e63ac\",\"#6ec5a5\",\"#e1f399\",\"#cdeb9d\",\"#4e63ac\",\"#4e63ac\",\"#b8e2a1\",\"#4e63ac\",\"#4e63ac\",\"#4e63ac\",\"#4e63ac\",\"#4e63ac\",\"#e2514a\",\"#fca55d\",\"#4e63ac\",\"#4e63ac\",\"#9e0142\",\"#4e63ac\",\"#6ec5a5\",\"#f57547\",\"#4e63ac\",\"#4e63ac\",\"#edf8a3\",\"#4e63ac\",\"#4e63ac\",\"#4e63ac\",\"#4e63ac\",\"#4e63ac\",\"#4e63ac\",\"#4e63ac\",\"#fca55d\",\"#4e63ac\",\"#cdeb9d\",\"#a2d9a4\",\"#f6fbb0\",\"#a2d9a4\",\"#fca55d\",\"#4e63ac\",\"#4e63ac\",\"#4e63ac\",\"#4e63ac\",\"#fedc88\",\"#fedc88\",\"#fedc88\",\"#edf8a3\",\"#4e63ac\",\"#4e63ac\",\"#e1f399\",\"#4e63ac\",\"#4e63ac\",\"#edf8a3\",\"#4e63ac\",\"#4e63ac\",\"#4e63ac\",\"#4e63ac\",\"#fca55d\",\"#4e63ac\",\"#4e63ac\",\"#fca55d\",\"#e2514a\",\"#4e63ac\",\"#4e63ac\",\"#e1f399\",\"#4e63ac\",\"#4e63ac\",\"#4e63ac\",\"#fedc88\",\"#4e63ac\",\"#4e63ac\",\"#fca55d\",\"#4e63ac\",\"#edf8a3\",\"#6ec5a5\",\"#e1f399\",\"#4e63ac\",\"#fca55d\",\"#4e63ac\",\"#4e63ac\",\"#4e63ac\",\"#4e63ac\",\"#3f77b5\",\"#4e63ac\",\"#4e63ac\",\"#4e63ac\",\"#fca55d\",\"#4e63ac\",\"#4e63ac\",\"#fca55d\",\"#e2514a\",\"#4e63ac\",\"#4e63ac\",\"#fca55d\",\"#b8e2a1\",\"#4e63ac\",\"#4e63ac\",\"#4e63ac\",\"#6ec5a5\",\"#cdeb9d\",\"#4e63ac\",\"#a2d9a4\",\"#4e63ac\",\"#4e63ac\",\"#6ec5a5\",\"#f57547\",\"#4e63ac\",\"#6ec5a5\",\"#ffffbe\",\"#4e63ac\",\"#9e0142\",\"#e2514a\",\"#e2514a\",\"#4e63ac\",\"#4e63ac\",\"#4e63ac\",\"#4e63ac\",\"#4e63ac\",\"#fca55d\",\"#358bbc\",\"#fca55d\",\"#4e63ac\",\"#4e63ac\",\"#4e63ac\",\"#f57547\",\"#4e63ac\",\"#fca55d\",\"#4e63ac\",\"#6ec5a5\",\"#4e63ac\",\"#4e63ac\",\"#4e63ac\",\"#4e63ac\",\"#358bbc\",\"#4e63ac\",\"#e2514a\",\"#4e63ac\",\"#fff3ac\",\"#4e63ac\",\"#4e63ac\",\"#4e63ac\",\"#fca55d\",\"#4e63ac\",\"#4e63ac\",\"#4e63ac\",\"#9e0142\",\"#edf8a3\",\"#4e63ac\",\"#5ab4ab\",\"#6ec5a5\",\"#a2d9a4\",\"#c52c4b\",\"#a2d9a4\",\"#cdeb9d\",\"#4e63ac\",\"#fca55d\",\"#e2514a\",\"#4e63ac\",\"#4e63ac\",\"#4e63ac\",\"#4e63ac\",\"#4e63ac\",\"#4e63ac\",\"#4e63ac\",\"#edf8a3\",\"#4e63ac\",\"#4e63ac\",\"#e2514a\",\"#4e63ac\",\"#4e63ac\",\"#4e63ac\",\"#4e63ac\",\"#4e63ac\",\"#4e63ac\",\"#358bbc\",\"#fca55d\",\"#4e63ac\",\"#4e63ac\",\"#4e63ac\",\"#4e63ac\",\"#4e63ac\",\"#4e63ac\",\"#d7414e\",\"#fca55d\",\"#6ec5a5\",\"#4e63ac\",\"#4e63ac\",\"#fedc88\",\"#4e63ac\",\"#fedc88\",\"#4e63ac\",\"#c52c4b\",\"#4e63ac\",\"#edf8a3\",\"#4e63ac\",\"#4e63ac\",\"#4e63ac\",\"#4e63ac\",\"#4e63ac\",\"#4e63ac\",\"#b8e2a1\",\"#5ab4ab\",\"#4e63ac\",\"#4e63ac\",\"#4e63ac\",\"#4e63ac\",\"#4e63ac\",\"#edf8a3\",\"#6ec5a5\",\"#358bbc\",\"#6ec5a5\",\"#4e63ac\",\"#4e63ac\",\"#fca55d\",\"#4e63ac\",\"#4e63ac\",\"#4e63ac\",\"#4e63ac\",\"#edf8a3\",\"#4e63ac\",\"#4e63ac\",\"#4e63ac\",\"#4e63ac\",\"#4e63ac\",\"#c52c4b\",\"#4e63ac\",\"#4e63ac\",\"#e1f399\",\"#4e63ac\",\"#4e63ac\",\"#4e63ac\",\"#4e63ac\",\"#9e0142\",\"#4e63ac\",\"#f57547\",\"#edf8a3\",\"#4e63ac\",\"#e2514a\",\"#4e63ac\",\"#4e63ac\",\"#4e63ac\",\"#4e63ac\",\"#4e63ac\",\"#b8e2a1\",\"#4e63ac\",\"#4e63ac\",\"#fedc88\",\"#4e63ac\",\"#4e63ac\",\"#4e63ac\",\"#4e63ac\",\"#ed6246\",\"#4e63ac\",\"#e2514a\",\"#cdeb9d\",\"#4e63ac\",\"#fca55d\",\"#4e63ac\",\"#fff3ac\",\"#4e63ac\",\"#fff3ac\",\"#4e63ac\",\"#4e63ac\",\"#4e63ac\",\"#4e63ac\",\"#6ec5a5\",\"#4e63ac\",\"#fedc88\",\"#4e63ac\",\"#9e0142\",\"#4e63ac\",\"#c52c4b\",\"#4e63ac\",\"#4e63ac\",\"#4e63ac\",\"#fca55d\",\"#358bbc\",\"#4e63ac\",\"#fca55d\",\"#fedc88\",\"#4e63ac\",\"#ed6246\",\"#4e63ac\",\"#fedc88\",\"#a2d9a4\",\"#6ec5a5\",\"#4e63ac\",\"#4e63ac\",\"#4e63ac\",\"#6ec5a5\",\"#4e63ac\",\"#4e63ac\",\"#d7414e\",\"#e2514a\",\"#fedc88\",\"#9e0142\",\"#4e63ac\",\"#b11747\",\"#4e63ac\",\"#e1f399\",\"#6ec5a5\",\"#e2514a\",\"#e2514a\",\"#4e63ac\",\"#e2514a\",\"#fca55d\",\"#4e63ac\",\"#4e63ac\",\"#fedc88\",\"#9e0142\",\"#4e63ac\",\"#f6fbb0\",\"#4e63ac\",\"#4e63ac\",\"#a2d9a4\",\"#4e63ac\",\"#e1f399\",\"#4e63ac\",\"#e2514a\",\"#4e63ac\",\"#4e63ac\",\"#f6fbb0\",\"#4e63ac\",\"#4e63ac\",\"#4e63ac\",\"#4e63ac\",\"#e2514a\",\"#ed6246\",\"#cdeb9d\",\"#4e63ac\",\"#4e63ac\",\"#4e63ac\",\"#4e63ac\",\"#b8e2a1\",\"#4e63ac\",\"#4e63ac\",\"#4e63ac\",\"#e1f399\",\"#4e63ac\",\"#4e63ac\",\"#4e63ac\",\"#6ec5a5\",\"#4e63ac\",\"#4e63ac\",\"#4e63ac\",\"#9e0142\",\"#4e63ac\",\"#358bbc\",\"#4e63ac\",\"#4e63ac\",\"#4e63ac\",\"#e2514a\",\"#4e63ac\",\"#b8e2a1\",\"#4e63ac\",\"#4e63ac\",\"#4e63ac\",\"#4e63ac\",\"#4e63ac\",\"#4e63ac\",\"#4e63ac\",\"#4e63ac\",\"#4e63ac\",\"#4e63ac\",\"#4e63ac\",\"#a2d9a4\",\"#e2514a\",\"#4e63ac\",\"#4e63ac\",\"#4e63ac\",\"#4e63ac\",\"#4e63ac\",\"#a2d9a4\",\"#fedc88\",\"#4e63ac\",\"#4e63ac\",\"#6ec5a5\",\"#4e63ac\",\"#6ec5a5\",\"#4e63ac\",\"#4e63ac\",\"#4e63ac\",\"#5ab4ab\",\"#4e63ac\",\"#4e63ac\",\"#fedc88\",\"#cdeb9d\",\"#4e63ac\",\"#f6fbb0\",\"#fca55d\",\"#4e63ac\",\"#4e63ac\",\"#6ec5a5\",\"#6ec5a5\",\"#fca55d\",\"#d7414e\",\"#4e63ac\",\"#4e63ac\",\"#cdeb9d\",\"#4e63ac\",\"#4e63ac\",\"#4e63ac\",\"#4e63ac\",\"#cdeb9d\",\"#4e63ac\",\"#4e63ac\",\"#6ec5a5\",\"#4e63ac\",\"#ffffbe\",\"#4e63ac\",\"#d7414e\",\"#fdb96a\",\"#4e63ac\",\"#3f77b5\",\"#fca55d\",\"#4e63ac\",\"#4e63ac\",\"#4e63ac\",\"#4e63ac\",\"#4e63ac\",\"#4e63ac\",\"#4e63ac\",\"#4e63ac\",\"#4e63ac\",\"#edf8a3\",\"#4e63ac\",\"#fee999\",\"#fca55d\",\"#f6fbb0\",\"#4e63ac\",\"#4e63ac\",\"#4e63ac\",\"#4e63ac\",\"#4e63ac\",\"#a2d9a4\",\"#4e63ac\",\"#e2514a\",\"#a2d9a4\",\"#4e63ac\",\"#4e63ac\",\"#4e63ac\",\"#4e63ac\",\"#4e63ac\",\"#e1f399\",\"#4e63ac\",\"#e2514a\",\"#4e63ac\",\"#f57547\",\"#fedc88\",\"#e2514a\",\"#4e63ac\",\"#4e63ac\",\"#ed6246\",\"#4e63ac\",\"#358bbc\",\"#ed6246\",\"#4e63ac\",\"#b11747\",\"#fca55d\",\"#4e63ac\",\"#fca55d\",\"#6ec5a5\",\"#4e63ac\",\"#4e63ac\",\"#4e63ac\",\"#4e63ac\",\"#b8e2a1\",\"#9e0142\",\"#4e63ac\",\"#4e63ac\",\"#4e63ac\",\"#6ec5a5\",\"#4e63ac\",\"#9e0142\",\"#4e63ac\",\"#e2514a\",\"#4e63ac\",\"#4e63ac\",\"#fedc88\",\"#4e63ac\",\"#a2d9a4\",\"#9e0142\",\"#4e63ac\",\"#4e63ac\",\"#4e63ac\",\"#4e63ac\",\"#e1f399\",\"#f6fbb0\",\"#4e63ac\",\"#4e63ac\",\"#d7414e\",\"#4e63ac\",\"#4e63ac\",\"#edf8a3\",\"#4e63ac\",\"#4e63ac\",\"#9e0142\",\"#4e63ac\",\"#b8e2a1\",\"#4e63ac\",\"#4e63ac\",\"#e2514a\",\"#4e63ac\",\"#6ec5a5\",\"#fca55d\",\"#4e63ac\",\"#4e63ac\",\"#4e63ac\",\"#b8e2a1\",\"#feca79\",\"#4e63ac\",\"#fca55d\",\"#4e63ac\",\"#4e63ac\",\"#fedc88\",\"#4e63ac\",\"#358bbc\",\"#4e63ac\",\"#e1f399\",\"#4e63ac\",\"#fca55d\",\"#e1f399\",\"#fedc88\",\"#fca55d\",\"#4e63ac\",\"#4e63ac\",\"#4e63ac\",\"#358bbc\",\"#6ec5a5\",\"#4e63ac\",\"#edf8a3\",\"#a2d9a4\",\"#6ec5a5\",\"#4e63ac\",\"#9e0142\",\"#edf8a3\",\"#4e63ac\",\"#4e63ac\",\"#a2d9a4\",\"#fca55d\",\"#4e63ac\",\"#a2d9a4\",\"#4e63ac\",\"#4e63ac\",\"#4e63ac\",\"#4e63ac\",\"#6ec5a5\",\"#4e63ac\",\"#edf8a3\",\"#4e63ac\",\"#e2514a\",\"#4e63ac\",\"#4e63ac\",\"#f6fbb0\",\"#e1f399\",\"#4e63ac\",\"#4e63ac\",\"#4e63ac\",\"#4e63ac\",\"#fee999\",\"#a2d9a4\",\"#4e63ac\",\"#4e63ac\",\"#4e63ac\",\"#4e63ac\",\"#4e63ac\",\"#4e63ac\",\"#4e63ac\",\"#4e63ac\",\"#4e63ac\",\"#fca55d\",\"#edf8a3\",\"#4e63ac\",\"#6ec5a5\",\"#4e63ac\",\"#4e63ac\",\"#4e63ac\",\"#4e63ac\",\"#4e63ac\",\"#6ec5a5\",\"#4e63ac\",\"#4e63ac\",\"#fedc88\",\"#e1f399\",\"#4e63ac\",\"#4e63ac\",\"#4e63ac\",\"#9e0142\",\"#4e63ac\",\"#4e63ac\",\"#fca55d\",\"#fca55d\",\"#4e63ac\",\"#4e63ac\",\"#4e63ac\",\"#fca55d\",\"#4e63ac\",\"#6ec5a5\",\"#4e63ac\",\"#4e63ac\",\"#fedc88\",\"#e2514a\",\"#4e63ac\",\"#4e63ac\",\"#fee999\",\"#4e63ac\",\"#4e63ac\",\"#4e63ac\",\"#9e0142\",\"#e1f399\",\"#4e63ac\",\"#fff3ac\",\"#4e63ac\",\"#4e63ac\",\"#4e63ac\",\"#4e63ac\",\"#4e63ac\",\"#d7414e\",\"#a2d9a4\",\"#a2d9a4\",\"#ffffbe\",\"#4e63ac\",\"#4e63ac\",\"#fca55d\",\"#6ec5a5\",\"#4e63ac\",\"#4e63ac\",\"#4e63ac\",\"#9e0142\",\"#6ec5a5\",\"#e2514a\",\"#fca55d\",\"#fedc88\",\"#4e63ac\",\"#4e63ac\",\"#4e63ac\",\"#4e63ac\",\"#47a0b3\",\"#edf8a3\",\"#4e63ac\",\"#4e63ac\",\"#4e63ac\",\"#fca55d\",\"#4e63ac\",\"#86cfa5\",\"#4e63ac\",\"#4e63ac\",\"#fff3ac\",\"#9e0142\",\"#e2514a\",\"#feca79\",\"#4e63ac\",\"#4e63ac\",\"#86cfa5\",\"#f6fbb0\",\"#9e0142\",\"#e2514a\",\"#4e63ac\",\"#4e63ac\",\"#4e63ac\",\"#6ec5a5\",\"#4e63ac\",\"#6ec5a5\",\"#e1f399\",\"#d7414e\",\"#358bbc\",\"#4e63ac\",\"#6ec5a5\",\"#4e63ac\",\"#9e0142\",\"#9e0142\",\"#4e63ac\",\"#fca55d\",\"#6ec5a5\",\"#4e63ac\",\"#4e63ac\",\"#4e63ac\",\"#a2d9a4\",\"#4e63ac\",\"#e2514a\",\"#4e63ac\",\"#4e63ac\",\"#4e63ac\",\"#f6fbb0\",\"#4e63ac\",\"#4e63ac\",\"#4e63ac\",\"#4e63ac\",\"#4e63ac\",\"#4e63ac\",\"#6ec5a5\",\"#4e63ac\",\"#e2514a\",\"#9e0142\",\"#e2514a\",\"#4e63ac\",\"#4e63ac\",\"#4e63ac\",\"#4e63ac\",\"#cdeb9d\",\"#4e63ac\",\"#358bbc\",\"#4e63ac\",\"#4e63ac\",\"#4e63ac\",\"#fca55d\",\"#4e63ac\",\"#5ab4ab\",\"#5ab4ab\",\"#4e63ac\",\"#6ec5a5\",\"#fca55d\",\"#4e63ac\",\"#4e63ac\",\"#4e63ac\",\"#4e63ac\",\"#4e63ac\",\"#d7414e\",\"#4e63ac\",\"#fff3ac\",\"#4e63ac\",\"#e1f399\",\"#6ec5a5\",\"#6ec5a5\",\"#fedc88\",\"#fca55d\",\"#b8e2a1\",\"#e2514a\",\"#4e63ac\",\"#a2d9a4\",\"#4e63ac\",\"#4e63ac\",\"#a2d9a4\",\"#4e63ac\",\"#fca55d\",\"#4e63ac\",\"#4e63ac\",\"#4e63ac\",\"#e2514a\",\"#a2d9a4\",\"#4e63ac\",\"#9e0142\",\"#4e63ac\",\"#a2d9a4\",\"#edf8a3\",\"#edf8a3\",\"#4e63ac\",\"#4e63ac\",\"#4e63ac\",\"#6ec5a5\",\"#6ec5a5\",\"#fca55d\",\"#6ec5a5\",\"#5ab4ab\",\"#4e63ac\",\"#fca55d\",\"#4e63ac\",\"#4e63ac\",\"#edf8a3\",\"#e1f399\",\"#4e63ac\",\"#4e63ac\",\"#4e63ac\",\"#4e63ac\",\"#4e63ac\",\"#4e63ac\",\"#4e63ac\",\"#4e63ac\",\"#4e63ac\",\"#4e63ac\",\"#4e63ac\",\"#a2d9a4\",\"#4e63ac\",\"#4e63ac\",\"#4e63ac\",\"#4e63ac\",\"#47a0b3\",\"#4e63ac\",\"#4e63ac\",\"#4e63ac\",\"#fca55d\",\"#4e63ac\",\"#4e63ac\",\"#4e63ac\",\"#4e63ac\",\"#4e63ac\",\"#4e63ac\",\"#fedc88\",\"#4e63ac\",\"#e2514a\",\"#4e63ac\",\"#4e63ac\",\"#4e63ac\",\"#4e63ac\",\"#fca55d\",\"#edf8a3\",\"#e2514a\",\"#4e63ac\",\"#4e63ac\",\"#4e63ac\",\"#4e63ac\",\"#c52c4b\",\"#4e63ac\",\"#9e0142\",\"#4e63ac\",\"#fca55d\",\"#4e63ac\",\"#4e63ac\",\"#cdeb9d\",\"#fca55d\",\"#cdeb9d\",\"#6ec5a5\",\"#4e63ac\",\"#4e63ac\",\"#4e63ac\",\"#4e63ac\",\"#4e63ac\",\"#9e0142\",\"#e2514a\",\"#4e63ac\",\"#4e63ac\",\"#ed6246\",\"#4e63ac\",\"#4e63ac\",\"#4e63ac\",\"#4e63ac\",\"#4e63ac\",\"#4e63ac\",\"#4e63ac\",\"#4e63ac\",\"#4e63ac\",\"#4e63ac\",\"#fca55d\",\"#4e63ac\",\"#4e63ac\",\"#4e63ac\",\"#4e63ac\",\"#6ec5a5\",\"#4e63ac\",\"#a2d9a4\",\"#4e63ac\",\"#b8e2a1\",\"#4e63ac\",\"#4e63ac\",\"#edf8a3\",\"#4e63ac\",\"#cdeb9d\",\"#4e63ac\",\"#4e63ac\",\"#4e63ac\",\"#4e63ac\",\"#4e63ac\",\"#a2d9a4\",\"#4e63ac\",\"#358bbc\",\"#c52c4b\",\"#4e63ac\",\"#4e63ac\",\"#4e63ac\",\"#4e63ac\",\"#d7414e\",\"#4e63ac\",\"#6ec5a5\",\"#4e63ac\",\"#4e63ac\",\"#4e63ac\",\"#4e63ac\",\"#4e63ac\",\"#4e63ac\",\"#4e63ac\",\"#6ec5a5\",\"#4e63ac\",\"#4e63ac\",\"#4e63ac\",\"#4e63ac\",\"#e1f399\",\"#4e63ac\",\"#4e63ac\",\"#4e63ac\",\"#cdeb9d\",\"#6ec5a5\",\"#4e63ac\",\"#4e63ac\",\"#6ec5a5\",\"#4e63ac\",\"#4e63ac\",\"#fca55d\",\"#3f77b5\",\"#4e63ac\",\"#e2514a\",\"#4e63ac\",\"#4e63ac\",\"#4e63ac\",\"#4e63ac\",\"#4e63ac\",\"#4e63ac\",\"#6ec5a5\",\"#4e63ac\",\"#4e63ac\",\"#4e63ac\",\"#4e63ac\",\"#fca55d\",\"#4e63ac\",\"#4e63ac\",\"#4e63ac\",\"#4e63ac\",\"#fca55d\",\"#4e63ac\",\"#f57547\",\"#4e63ac\",\"#4e63ac\",\"#a2d9a4\",\"#fca55d\",\"#6ec5a5\",\"#4e63ac\",\"#4e63ac\",\"#4e63ac\",\"#4e63ac\",\"#4e63ac\",\"#4e63ac\",\"#fca55d\",\"#4e63ac\",\"#4e63ac\",\"#4e63ac\",\"#4e63ac\",\"#f6fbb0\",\"#fedc88\",\"#b8e2a1\",\"#4e63ac\",\"#358bbc\",\"#e2514a\",\"#4e63ac\",\"#4e63ac\",\"#4e63ac\",\"#4e63ac\",\"#fff3ac\",\"#4e63ac\",\"#4e63ac\",\"#a2d9a4\",\"#fca55d\",\"#fca55d\",\"#b8e2a1\",\"#4e63ac\",\"#d7414e\",\"#4e63ac\",\"#4e63ac\",\"#fca55d\",\"#4e63ac\",\"#4e63ac\",\"#d7414e\",\"#4e63ac\",\"#fca55d\",\"#4e63ac\",\"#4e63ac\",\"#4e63ac\",\"#fedc88\",\"#f6fbb0\",\"#4e63ac\",\"#4e63ac\",\"#fca55d\",\"#4e63ac\",\"#4e63ac\",\"#4e63ac\",\"#4e63ac\",\"#4e63ac\",\"#4e63ac\",\"#4e63ac\",\"#e2514a\",\"#4e63ac\",\"#358bbc\",\"#d7414e\",\"#4e63ac\",\"#4e63ac\",\"#4e63ac\",\"#6ec5a5\",\"#4e63ac\",\"#4e63ac\",\"#4e63ac\",\"#4e63ac\",\"#edf8a3\",\"#4e63ac\",\"#4e63ac\",\"#c52c4b\",\"#e2514a\",\"#4e63ac\",\"#fca55d\",\"#6ec5a5\",\"#4e63ac\",\"#ffffbe\",\"#fca55d\",\"#fca55d\",\"#d7414e\",\"#fca55d\",\"#e2514a\",\"#4e63ac\",\"#fca55d\",\"#4e63ac\",\"#4e63ac\",\"#4e63ac\",\"#4e63ac\",\"#4e63ac\",\"#fff3ac\",\"#4e63ac\",\"#5ab4ab\",\"#4e63ac\",\"#ffffbe\",\"#4e63ac\",\"#d7414e\",\"#d7414e\",\"#4e63ac\",\"#4e63ac\",\"#cdeb9d\",\"#a2d9a4\",\"#4e63ac\",\"#4e63ac\",\"#4e63ac\",\"#edf8a3\",\"#f98e52\",\"#e1f399\",\"#358bbc\",\"#4e63ac\",\"#4e63ac\",\"#4e63ac\",\"#4e63ac\",\"#f98e52\",\"#4e63ac\",\"#ed6246\",\"#d7414e\",\"#4e63ac\",\"#4e63ac\",\"#4e63ac\",\"#4e63ac\",\"#9e0142\",\"#6ec5a5\",\"#4e63ac\",\"#358bbc\",\"#4e63ac\",\"#4e63ac\",\"#fedc88\",\"#4e63ac\",\"#4e63ac\",\"#4e63ac\",\"#fff3ac\",\"#4e63ac\",\"#4e63ac\",\"#d7414e\",\"#e2514a\",\"#4e63ac\",\"#4e63ac\",\"#6ec5a5\",\"#4e63ac\",\"#4e63ac\",\"#fca55d\",\"#4e63ac\",\"#b8e2a1\",\"#4e63ac\",\"#4e63ac\",\"#ed6246\",\"#4e63ac\",\"#4e63ac\",\"#4e63ac\",\"#4e63ac\",\"#fca55d\",\"#fca55d\",\"#4e63ac\",\"#fca55d\",\"#4e63ac\",\"#cdeb9d\",\"#4e63ac\",\"#fca55d\",\"#edf8a3\",\"#4e63ac\",\"#4e63ac\",\"#4e63ac\",\"#4e63ac\",\"#4e63ac\",\"#4e63ac\",\"#cdeb9d\",\"#d7414e\",\"#4e63ac\",\"#4e63ac\",\"#fca55d\",\"#4e63ac\",\"#4e63ac\",\"#4e63ac\",\"#4e63ac\",\"#4e63ac\",\"#4e63ac\",\"#4e63ac\",\"#a2d9a4\",\"#4e63ac\",\"#4e63ac\",\"#4e63ac\",\"#4e63ac\",\"#4e63ac\",\"#6ec5a5\",\"#4e63ac\",\"#86cfa5\",\"#4e63ac\",\"#4e63ac\",\"#4e63ac\",\"#4e63ac\",\"#cdeb9d\",\"#9e0142\",\"#d7414e\",\"#4e63ac\",\"#4e63ac\",\"#fca55d\",\"#4e63ac\",\"#4e63ac\",\"#fedc88\",\"#4e63ac\",\"#4e63ac\",\"#4e63ac\",\"#4e63ac\",\"#4e63ac\",\"#4e63ac\",\"#ed6246\",\"#4e63ac\",\"#ffffbe\",\"#4e63ac\",\"#4e63ac\",\"#4e63ac\",\"#4e63ac\",\"#4e63ac\",\"#4e63ac\",\"#4e63ac\",\"#4e63ac\",\"#4e63ac\",\"#4e63ac\",\"#d7414e\",\"#9e0142\",\"#fedc88\",\"#4e63ac\",\"#4e63ac\",\"#4e63ac\",\"#e1f399\",\"#edf8a3\",\"#4e63ac\",\"#4e63ac\",\"#f57547\",\"#edf8a3\",\"#4e63ac\",\"#4e63ac\",\"#4e63ac\",\"#e2514a\",\"#6ec5a5\",\"#4e63ac\",\"#4e63ac\",\"#4e63ac\",\"#4e63ac\",\"#4e63ac\",\"#4e63ac\",\"#4e63ac\",\"#4e63ac\",\"#d7414e\",\"#e2514a\",\"#4e63ac\",\"#4e63ac\",\"#4e63ac\",\"#4e63ac\",\"#358bbc\",\"#4e63ac\",\"#4e63ac\",\"#edf8a3\",\"#cdeb9d\",\"#6ec5a5\",\"#6ec5a5\",\"#4e63ac\",\"#4e63ac\",\"#4e63ac\",\"#4e63ac\",\"#e1f399\",\"#fedc88\",\"#4e63ac\",\"#4e63ac\",\"#4e63ac\",\"#edf8a3\",\"#fca55d\",\"#cdeb9d\",\"#fca55d\",\"#6ec5a5\",\"#4e63ac\",\"#4e63ac\",\"#fca55d\",\"#4e63ac\",\"#4e63ac\",\"#edf8a3\",\"#4e63ac\",\"#4e63ac\",\"#4e63ac\",\"#4e63ac\",\"#4e63ac\",\"#4e63ac\",\"#4e63ac\",\"#9e0142\",\"#f57547\",\"#6ec5a5\",\"#4e63ac\",\"#4e63ac\",\"#6ec5a5\",\"#4e63ac\",\"#358bbc\",\"#4e63ac\",\"#4e63ac\",\"#4e63ac\",\"#4e63ac\",\"#4e63ac\",\"#4e63ac\",\"#4e63ac\",\"#edf8a3\",\"#e2514a\",\"#4e63ac\",\"#4e63ac\",\"#fca55d\",\"#4e63ac\",\"#f6fbb0\",\"#4e63ac\",\"#6ec5a5\",\"#4e63ac\",\"#4e63ac\",\"#4e63ac\",\"#4e63ac\",\"#4e63ac\",\"#4e63ac\",\"#4e63ac\",\"#4e63ac\",\"#6ec5a5\",\"#b11747\",\"#4e63ac\",\"#fca55d\",\"#fedc88\",\"#4e63ac\",\"#4e63ac\",\"#4e63ac\",\"#4e63ac\",\"#4e63ac\",\"#4e63ac\",\"#4e63ac\",\"#4e63ac\",\"#4e63ac\",\"#b11747\",\"#4e63ac\",\"#4e63ac\",\"#ed6246\",\"#fedc88\",\"#6ec5a5\",\"#4e63ac\",\"#4e63ac\",\"#4e63ac\",\"#fca55d\",\"#b11747\",\"#6ec5a5\",\"#4e63ac\",\"#4e63ac\",\"#4e63ac\",\"#6ec5a5\",\"#cdeb9d\",\"#fca55d\",\"#edf8a3\",\"#e1f399\",\"#4e63ac\",\"#6ec5a5\",\"#4e63ac\",\"#4e63ac\",\"#b8e2a1\",\"#4e63ac\",\"#4e63ac\",\"#edf8a3\",\"#6ec5a5\",\"#4e63ac\",\"#e1f399\",\"#fedc88\",\"#cdeb9d\",\"#4e63ac\",\"#4e63ac\",\"#e1f399\",\"#e2514a\",\"#a2d9a4\",\"#4e63ac\",\"#4e63ac\",\"#4e63ac\",\"#4e63ac\",\"#fedc88\",\"#4e63ac\",\"#4e63ac\",\"#4e63ac\",\"#edf8a3\",\"#4e63ac\",\"#4e63ac\",\"#fca55d\",\"#fca55d\",\"#9e0142\",\"#4e63ac\",\"#a2d9a4\",\"#4e63ac\",\"#4e63ac\",\"#4e63ac\",\"#fedc88\",\"#cdeb9d\",\"#4e63ac\",\"#4e63ac\",\"#4e63ac\",\"#4e63ac\",\"#4e63ac\",\"#4e63ac\",\"#a2d9a4\",\"#6ec5a5\",\"#4e63ac\",\"#4e63ac\",\"#e1f399\",\"#4e63ac\",\"#4e63ac\",\"#4e63ac\",\"#4e63ac\",\"#edf8a3\",\"#4e63ac\",\"#d7414e\",\"#4e63ac\",\"#4e63ac\",\"#4e63ac\",\"#4e63ac\",\"#9e0142\",\"#358bbc\",\"#4e63ac\",\"#4e63ac\",\"#e1f399\",\"#b11747\",\"#4e63ac\",\"#4e63ac\",\"#4e63ac\",\"#4e63ac\",\"#4e63ac\",\"#cdeb9d\",\"#4e63ac\",\"#6ec5a5\",\"#4e63ac\",\"#4e63ac\",\"#4e63ac\",\"#fca55d\",\"#4e63ac\",\"#4e63ac\",\"#edf8a3\",\"#9e0142\",\"#4e63ac\",\"#4e63ac\",\"#4e63ac\",\"#4e63ac\",\"#edf8a3\",\"#4e63ac\",\"#b8e2a1\",\"#4e63ac\",\"#86cfa5\",\"#a2d9a4\",\"#4e63ac\",\"#a2d9a4\",\"#a2d9a4\",\"#4e63ac\",\"#4e63ac\",\"#e1f399\",\"#6ec5a5\",\"#4e63ac\",\"#5e4fa2\",\"#6ec5a5\",\"#9e0142\",\"#4e63ac\",\"#f6fbb0\",\"#4e63ac\",\"#a2d9a4\",\"#fff3ac\",\"#d7414e\",\"#4e63ac\",\"#a2d9a4\",\"#fca55d\",\"#4e63ac\",\"#4e63ac\",\"#4e63ac\",\"#e1f399\",\"#4e63ac\",\"#4e63ac\",\"#b8e2a1\",\"#4e63ac\",\"#4e63ac\",\"#4e63ac\",\"#4e63ac\",\"#4e63ac\",\"#4e63ac\",\"#4e63ac\",\"#4e63ac\",\"#6ec5a5\",\"#edf8a3\",\"#4e63ac\",\"#4e63ac\",\"#4e63ac\",\"#4e63ac\",\"#4e63ac\",\"#fca55d\",\"#6ec5a5\",\"#4e63ac\",\"#4e63ac\",\"#cdeb9d\",\"#4e63ac\",\"#4e63ac\",\"#4e63ac\",\"#fca55d\",\"#4e63ac\",\"#4e63ac\",\"#4e63ac\",\"#4e63ac\",\"#4e63ac\",\"#9e0142\",\"#4e63ac\",\"#d7414e\",\"#4e63ac\",\"#5e4fa2\",\"#fca55d\",\"#d7414e\",\"#4e63ac\",\"#a2d9a4\",\"#4e63ac\",\"#a2d9a4\",\"#4e63ac\",\"#4e63ac\",\"#e2514a\",\"#4e63ac\",\"#4e63ac\",\"#4e63ac\",\"#fedc88\",\"#4e63ac\",\"#4e63ac\",\"#c52c4b\",\"#a2d9a4\",\"#4e63ac\",\"#4e63ac\",\"#4e63ac\",\"#a2d9a4\",\"#47a0b3\",\"#4e63ac\",\"#d7414e\",\"#e1f399\",\"#b8e2a1\",\"#4e63ac\",\"#4e63ac\",\"#4e63ac\",\"#4e63ac\",\"#cdeb9d\",\"#4e63ac\",\"#4e63ac\",\"#6ec5a5\",\"#4e63ac\",\"#f6fbb0\",\"#4e63ac\",\"#4e63ac\",\"#4e63ac\",\"#4e63ac\",\"#ed6246\",\"#a2d9a4\",\"#6ec5a5\",\"#4e63ac\",\"#4e63ac\",\"#4e63ac\",\"#fdb96a\",\"#4e63ac\",\"#e1f399\",\"#4e63ac\",\"#6ec5a5\",\"#4e63ac\",\"#4e63ac\",\"#4e63ac\",\"#4e63ac\",\"#4e63ac\",\"#4e63ac\",\"#4e63ac\",\"#4e63ac\",\"#4e63ac\",\"#86cfa5\",\"#6ec5a5\",\"#4e63ac\",\"#4e63ac\",\"#e1f399\",\"#4e63ac\",\"#4e63ac\",\"#4e63ac\",\"#4e63ac\",\"#4e63ac\",\"#4e63ac\",\"#cdeb9d\",\"#4e63ac\",\"#4e63ac\",\"#4e63ac\",\"#4e63ac\",\"#ed6246\",\"#4e63ac\",\"#4e63ac\",\"#e1f399\",\"#4e63ac\",\"#fca55d\",\"#4e63ac\",\"#cdeb9d\",\"#4e63ac\",\"#e1f399\",\"#cdeb9d\",\"#e1f399\",\"#4e63ac\",\"#e1f399\",\"#4e63ac\",\"#4e63ac\",\"#ed6246\",\"#f6fbb0\",\"#4e63ac\",\"#6ec5a5\",\"#e1f399\",\"#a2d9a4\",\"#a2d9a4\",\"#4e63ac\",\"#4e63ac\",\"#fedc88\",\"#4e63ac\",\"#4e63ac\",\"#4e63ac\",\"#4e63ac\",\"#3f77b5\",\"#4e63ac\",\"#fff3ac\",\"#4e63ac\",\"#fff3ac\",\"#ed6246\",\"#4e63ac\",\"#4e63ac\",\"#d7414e\",\"#4e63ac\",\"#4e63ac\",\"#9e0142\",\"#4e63ac\",\"#4e63ac\",\"#4e63ac\",\"#fca55d\",\"#4e63ac\",\"#4e63ac\",\"#6ec5a5\",\"#4e63ac\",\"#6ec5a5\",\"#f6fbb0\",\"#9e0142\",\"#5e4fa2\",\"#4e63ac\",\"#4e63ac\",\"#fedc88\",\"#4e63ac\",\"#a2d9a4\",\"#4e63ac\",\"#4e63ac\",\"#4e63ac\",\"#4e63ac\",\"#4e63ac\",\"#4e63ac\",\"#edf8a3\",\"#e1f399\",\"#4e63ac\",\"#4e63ac\",\"#6ec5a5\",\"#4e63ac\",\"#9e0142\",\"#e1f399\",\"#4e63ac\",\"#358bbc\",\"#4e63ac\",\"#4e63ac\",\"#9e0142\",\"#4e63ac\",\"#edf8a3\",\"#a2d9a4\",\"#e2514a\",\"#4e63ac\",\"#4e63ac\",\"#e1f399\",\"#4e63ac\",\"#4e63ac\",\"#4e63ac\",\"#4e63ac\",\"#4e63ac\",\"#4e63ac\",\"#4e63ac\",\"#edf8a3\",\"#4e63ac\",\"#4e63ac\",\"#b11747\",\"#e2514a\",\"#4e63ac\",\"#fca55d\",\"#4e63ac\",\"#4e63ac\",\"#4e63ac\",\"#4e63ac\",\"#5ab4ab\",\"#edf8a3\",\"#4e63ac\",\"#47a0b3\",\"#b11747\",\"#e1f399\",\"#4e63ac\",\"#fca55d\",\"#4e63ac\",\"#4e63ac\",\"#4e63ac\",\"#4e63ac\",\"#f98e52\",\"#6ec5a5\",\"#4e63ac\",\"#4e63ac\",\"#4e63ac\",\"#4e63ac\",\"#4e63ac\",\"#4e63ac\",\"#5ab4ab\",\"#4e63ac\",\"#4e63ac\",\"#b11747\",\"#4e63ac\",\"#4e63ac\",\"#fedc88\",\"#6ec5a5\",\"#4e63ac\",\"#4e63ac\",\"#4e63ac\",\"#4e63ac\",\"#fca55d\",\"#4e63ac\",\"#9e0142\",\"#4e63ac\",\"#4e63ac\",\"#d7414e\",\"#4e63ac\",\"#4e63ac\",\"#4e63ac\",\"#a2d9a4\",\"#9e0142\",\"#4e63ac\",\"#6ec5a5\",\"#4e63ac\",\"#4e63ac\",\"#4e63ac\",\"#4e63ac\",\"#4e63ac\",\"#4e63ac\",\"#4e63ac\",\"#4e63ac\",\"#9e0142\",\"#fedc88\",\"#edf8a3\",\"#4e63ac\",\"#fca55d\",\"#edf8a3\",\"#fedc88\",\"#6ec5a5\",\"#6ec5a5\",\"#4e63ac\",\"#4e63ac\",\"#ed6246\",\"#4e63ac\",\"#4e63ac\",\"#6ec5a5\",\"#fedc88\",\"#4e63ac\",\"#4e63ac\",\"#6ec5a5\",\"#9e0142\",\"#e2514a\",\"#e1f399\",\"#4e63ac\",\"#a2d9a4\",\"#4e63ac\",\"#ed6246\",\"#c52c4b\",\"#4e63ac\",\"#4e63ac\",\"#4e63ac\",\"#4e63ac\",\"#4e63ac\",\"#4e63ac\",\"#a2d9a4\",\"#fca55d\",\"#6ec5a5\",\"#47a0b3\",\"#4e63ac\",\"#e2514a\",\"#4e63ac\",\"#edf8a3\",\"#4e63ac\",\"#4e63ac\",\"#4e63ac\",\"#4e63ac\",\"#4e63ac\",\"#4e63ac\",\"#e1f399\",\"#4e63ac\",\"#4e63ac\",\"#4e63ac\",\"#4e63ac\",\"#c52c4b\",\"#4e63ac\",\"#4e63ac\",\"#e2514a\",\"#4e63ac\",\"#e1f399\",\"#4e63ac\",\"#4e63ac\",\"#4e63ac\",\"#4e63ac\",\"#edf8a3\",\"#e2514a\",\"#4e63ac\",\"#d7414e\",\"#4e63ac\",\"#4e63ac\",\"#4e63ac\",\"#d7414e\",\"#4e63ac\",\"#ffffbe\",\"#4e63ac\",\"#4e63ac\",\"#4e63ac\",\"#4e63ac\",\"#86cfa5\",\"#6ec5a5\",\"#4e63ac\",\"#47a0b3\",\"#4e63ac\",\"#4e63ac\",\"#4e63ac\",\"#e1f399\",\"#4e63ac\",\"#fff3ac\",\"#4e63ac\",\"#4e63ac\",\"#4e63ac\",\"#4e63ac\",\"#4e63ac\",\"#4e63ac\",\"#4e63ac\",\"#edf8a3\",\"#4e63ac\",\"#6ec5a5\",\"#4e63ac\",\"#edf8a3\",\"#4e63ac\",\"#4e63ac\",\"#4e63ac\",\"#e2514a\",\"#4e63ac\",\"#fca55d\",\"#4e63ac\",\"#6ec5a5\",\"#4e63ac\",\"#4e63ac\",\"#fedc88\",\"#4e63ac\",\"#4e63ac\",\"#4e63ac\",\"#4e63ac\",\"#4e63ac\",\"#6ec5a5\",\"#4e63ac\",\"#e2514a\",\"#edf8a3\",\"#4e63ac\",\"#e2514a\",\"#4e63ac\",\"#4e63ac\",\"#e2514a\",\"#fedc88\",\"#fca55d\",\"#4e63ac\",\"#4e63ac\",\"#4e63ac\",\"#4e63ac\",\"#4e63ac\",\"#fff3ac\",\"#e2514a\",\"#4e63ac\",\"#4e63ac\",\"#4e63ac\",\"#e2514a\",\"#4e63ac\",\"#5ab4ab\",\"#4e63ac\",\"#fca55d\",\"#4e63ac\",\"#4e63ac\",\"#ffffbe\",\"#d7414e\",\"#4e63ac\",\"#4e63ac\",\"#e2514a\",\"#4e63ac\",\"#4e63ac\",\"#cdeb9d\",\"#4e63ac\",\"#6ec5a5\",\"#9e0142\",\"#4e63ac\",\"#47a0b3\",\"#ed6246\",\"#4e63ac\",\"#cdeb9d\",\"#4e63ac\",\"#4e63ac\",\"#e2514a\",\"#4e63ac\",\"#4e63ac\",\"#4e63ac\",\"#4e63ac\",\"#b8e2a1\",\"#4e63ac\",\"#4e63ac\",\"#4e63ac\",\"#4e63ac\",\"#6ec5a5\",\"#4e63ac\",\"#4e63ac\",\"#4e63ac\",\"#6ec5a5\",\"#4e63ac\",\"#ed6246\",\"#4e63ac\",\"#4e63ac\",\"#6ec5a5\",\"#4e63ac\",\"#e1f399\",\"#6ec5a5\",\"#4e63ac\",\"#4e63ac\",\"#b11747\",\"#4e63ac\",\"#4e63ac\",\"#4e63ac\",\"#4e63ac\",\"#6ec5a5\",\"#fca55d\",\"#a2d9a4\",\"#6ec5a5\",\"#4e63ac\",\"#b8e2a1\",\"#358bbc\",\"#4e63ac\",\"#fca55d\",\"#4e63ac\",\"#a2d9a4\",\"#e2514a\",\"#4e63ac\",\"#4e63ac\",\"#4e63ac\",\"#4e63ac\",\"#9e0142\",\"#fca55d\",\"#4e63ac\",\"#4e63ac\",\"#4e63ac\",\"#edf8a3\",\"#4e63ac\",\"#4e63ac\",\"#4e63ac\",\"#e1f399\",\"#e1f399\",\"#6ec5a5\",\"#4e63ac\",\"#4e63ac\",\"#4e63ac\",\"#4e63ac\",\"#4e63ac\",\"#4e63ac\",\"#b8e2a1\",\"#4e63ac\",\"#4e63ac\",\"#4e63ac\",\"#4e63ac\",\"#4e63ac\",\"#edf8a3\",\"#4e63ac\",\"#4e63ac\",\"#e1f399\",\"#4e63ac\",\"#4e63ac\",\"#4e63ac\",\"#4e63ac\",\"#edf8a3\",\"#4e63ac\",\"#4e63ac\",\"#6ec5a5\",\"#fca55d\",\"#d7414e\",\"#edf8a3\",\"#6ec5a5\",\"#4e63ac\",\"#4e63ac\",\"#4e63ac\",\"#4e63ac\",\"#fca55d\",\"#4e63ac\",\"#4e63ac\",\"#4e63ac\",\"#4e63ac\",\"#edf8a3\",\"#4e63ac\",\"#4e63ac\",\"#b11747\",\"#4e63ac\",\"#4e63ac\",\"#fca55d\",\"#9e0142\",\"#4e63ac\",\"#c52c4b\",\"#f6fbb0\",\"#4e63ac\",\"#4e63ac\",\"#4e63ac\",\"#e2514a\",\"#e2514a\",\"#4e63ac\",\"#6ec5a5\",\"#fca55d\",\"#4e63ac\",\"#edf8a3\",\"#4e63ac\",\"#a2d9a4\",\"#4e63ac\",\"#4e63ac\",\"#4e63ac\",\"#4e63ac\",\"#4e63ac\",\"#6ec5a5\",\"#4e63ac\",\"#4e63ac\",\"#4e63ac\",\"#4e63ac\",\"#fedc88\",\"#4e63ac\",\"#cdeb9d\",\"#4e63ac\",\"#4e63ac\",\"#4e63ac\",\"#4e63ac\",\"#4e63ac\",\"#4e63ac\",\"#4e63ac\",\"#4e63ac\",\"#4e63ac\",\"#4e63ac\",\"#4e63ac\",\"#86cfa5\",\"#fca55d\",\"#4e63ac\",\"#fca55d\",\"#e2514a\",\"#e1f399\",\"#cdeb9d\",\"#4e63ac\",\"#e2514a\",\"#4e63ac\",\"#4e63ac\",\"#4e63ac\",\"#4e63ac\",\"#4e63ac\",\"#a2d9a4\",\"#4e63ac\",\"#cdeb9d\",\"#4e63ac\",\"#4e63ac\",\"#edf8a3\",\"#edf8a3\",\"#edf8a3\",\"#fee999\",\"#4e63ac\",\"#6ec5a5\",\"#4e63ac\",\"#4e63ac\",\"#4e63ac\",\"#4e63ac\",\"#e1f399\",\"#edf8a3\",\"#4e63ac\",\"#4e63ac\",\"#a2d9a4\",\"#6ec5a5\",\"#4e63ac\",\"#4e63ac\",\"#4e63ac\",\"#4e63ac\",\"#4e63ac\",\"#4e63ac\",\"#4e63ac\",\"#4e63ac\",\"#edf8a3\",\"#86cfa5\",\"#4e63ac\",\"#cdeb9d\",\"#4e63ac\",\"#fca55d\",\"#e1f399\",\"#e1f399\",\"#ffffbe\",\"#4e63ac\",\"#6ec5a5\",\"#4e63ac\",\"#4e63ac\",\"#4e63ac\",\"#6ec5a5\",\"#9e0142\",\"#4e63ac\",\"#4e63ac\",\"#4e63ac\",\"#4e63ac\",\"#4e63ac\",\"#edf8a3\",\"#4e63ac\",\"#4e63ac\",\"#4e63ac\",\"#6ec5a5\",\"#4e63ac\",\"#fca55d\",\"#4e63ac\",\"#4e63ac\",\"#4e63ac\",\"#4e63ac\",\"#4e63ac\",\"#cdeb9d\",\"#4e63ac\",\"#4e63ac\",\"#4e63ac\",\"#4e63ac\",\"#edf8a3\",\"#4e63ac\",\"#b8e2a1\",\"#fedc88\",\"#4e63ac\",\"#4e63ac\",\"#4e63ac\",\"#4e63ac\",\"#a2d9a4\",\"#4e63ac\",\"#4e63ac\",\"#4e63ac\",\"#d7414e\",\"#4e63ac\",\"#4e63ac\",\"#4e63ac\",\"#4e63ac\",\"#4e63ac\",\"#e1f399\",\"#e2514a\",\"#e2514a\",\"#4e63ac\",\"#edf8a3\",\"#4e63ac\",\"#fca55d\",\"#d7414e\",\"#4e63ac\",\"#6ec5a5\",\"#4e63ac\",\"#4e63ac\",\"#4e63ac\",\"#4e63ac\",\"#4e63ac\",\"#4e63ac\",\"#4e63ac\",\"#cdeb9d\",\"#e1f399\",\"#4e63ac\",\"#4e63ac\",\"#4e63ac\",\"#4e63ac\",\"#fee999\",\"#4e63ac\",\"#4e63ac\",\"#4e63ac\",\"#4e63ac\",\"#fca55d\",\"#e2514a\",\"#e1f399\",\"#4e63ac\",\"#358bbc\",\"#cdeb9d\",\"#edf8a3\",\"#4e63ac\",\"#4e63ac\",\"#4e63ac\",\"#4e63ac\",\"#fca55d\",\"#fedc88\",\"#4e63ac\",\"#4e63ac\",\"#4e63ac\",\"#4e63ac\",\"#4e63ac\",\"#9e0142\",\"#4e63ac\",\"#4e63ac\",\"#d7414e\",\"#4e63ac\",\"#4e63ac\",\"#b11747\",\"#a2d9a4\",\"#4e63ac\",\"#6ec5a5\",\"#fedc88\",\"#4e63ac\",\"#d7414e\",\"#edf8a3\",\"#e2514a\",\"#4e63ac\",\"#4e63ac\",\"#4e63ac\",\"#4e63ac\",\"#4e63ac\",\"#4e63ac\",\"#4e63ac\",\"#fca55d\",\"#4e63ac\",\"#fedc88\",\"#4e63ac\",\"#5ab4ab\",\"#4e63ac\",\"#4e63ac\",\"#4e63ac\",\"#b11747\",\"#cdeb9d\",\"#fedc88\",\"#4e63ac\",\"#e2514a\",\"#fedc88\",\"#4e63ac\",\"#4e63ac\",\"#4e63ac\",\"#fca55d\",\"#4e63ac\",\"#6ec5a5\",\"#4e63ac\",\"#4e63ac\",\"#4e63ac\",\"#fca55d\",\"#b8e2a1\",\"#4e63ac\",\"#4e63ac\",\"#4e63ac\",\"#6ec5a5\",\"#4e63ac\",\"#fca55d\",\"#6ec5a5\",\"#4e63ac\",\"#6ec5a5\",\"#6ec5a5\",\"#4e63ac\",\"#4e63ac\",\"#4e63ac\",\"#a2d9a4\",\"#4e63ac\",\"#4e63ac\",\"#e1f399\",\"#4e63ac\",\"#4e63ac\",\"#6ec5a5\",\"#4e63ac\",\"#4e63ac\",\"#e1f399\",\"#4e63ac\",\"#6ec5a5\",\"#4e63ac\",\"#4e63ac\",\"#4e63ac\",\"#fca55d\",\"#ed6246\",\"#4e63ac\",\"#c52c4b\",\"#4e63ac\",\"#4e63ac\",\"#d7414e\",\"#4e63ac\",\"#4e63ac\",\"#edf8a3\",\"#edf8a3\",\"#4e63ac\",\"#fca55d\",\"#9e0142\",\"#a2d9a4\",\"#4e63ac\",\"#4e63ac\",\"#4e63ac\",\"#feca79\",\"#4e63ac\",\"#4e63ac\",\"#4e63ac\",\"#4e63ac\",\"#4e63ac\",\"#4e63ac\",\"#4e63ac\",\"#4e63ac\",\"#d7414e\",\"#9e0142\",\"#4e63ac\",\"#4e63ac\",\"#6ec5a5\",\"#4e63ac\",\"#e2514a\",\"#fca55d\",\"#e1f399\",\"#e1f399\",\"#4e63ac\",\"#fedc88\",\"#4e63ac\",\"#47a0b3\",\"#4e63ac\",\"#4e63ac\",\"#4e63ac\",\"#4e63ac\",\"#4e63ac\",\"#6ec5a5\",\"#e1f399\",\"#4e63ac\",\"#4e63ac\",\"#4e63ac\",\"#e1f399\",\"#4e63ac\",\"#4e63ac\",\"#a2d9a4\",\"#4e63ac\",\"#4e63ac\",\"#4e63ac\",\"#4e63ac\",\"#4e63ac\",\"#4e63ac\",\"#6ec5a5\",\"#5ab4ab\",\"#4e63ac\",\"#4e63ac\",\"#4e63ac\",\"#6ec5a5\",\"#f6fbb0\",\"#4e63ac\",\"#4e63ac\",\"#4e63ac\",\"#a2d9a4\",\"#edf8a3\",\"#4e63ac\",\"#4e63ac\",\"#a2d9a4\",\"#a2d9a4\",\"#6ec5a5\",\"#4e63ac\",\"#4e63ac\",\"#4e63ac\",\"#4e63ac\",\"#4e63ac\",\"#4e63ac\",\"#6ec5a5\",\"#4e63ac\",\"#4e63ac\",\"#5ab4ab\",\"#4e63ac\",\"#4e63ac\",\"#9e0142\",\"#4e63ac\",\"#4e63ac\",\"#e1f399\",\"#fedc88\",\"#4e63ac\",\"#b11747\",\"#4e63ac\",\"#4e63ac\",\"#4e63ac\",\"#4e63ac\",\"#4e63ac\",\"#6ec5a5\",\"#d7414e\",\"#358bbc\",\"#d7414e\",\"#5ab4ab\",\"#4e63ac\",\"#4e63ac\",\"#6ec5a5\",\"#4e63ac\",\"#e1f399\",\"#4e63ac\",\"#4e63ac\",\"#4e63ac\",\"#4e63ac\",\"#fedc88\",\"#e1f399\",\"#4e63ac\",\"#9e0142\",\"#4e63ac\",\"#ffffbe\",\"#4e63ac\",\"#4e63ac\",\"#4e63ac\",\"#5e4fa2\",\"#4e63ac\",\"#e2514a\",\"#d7414e\",\"#4e63ac\",\"#4e63ac\",\"#edf8a3\",\"#4e63ac\",\"#4e63ac\",\"#4e63ac\",\"#4e63ac\",\"#4e63ac\",\"#358bbc\",\"#a2d9a4\",\"#4e63ac\",\"#6ec5a5\",\"#4e63ac\",\"#4e63ac\",\"#4e63ac\",\"#4e63ac\",\"#fca55d\",\"#4e63ac\",\"#a2d9a4\",\"#e2514a\",\"#fedc88\",\"#4e63ac\",\"#4e63ac\",\"#4e63ac\",\"#4e63ac\",\"#4e63ac\",\"#4e63ac\",\"#4e63ac\",\"#6ec5a5\",\"#4e63ac\",\"#b11747\",\"#4e63ac\",\"#4e63ac\",\"#6ec5a5\",\"#4e63ac\",\"#3f77b5\",\"#4e63ac\",\"#cdeb9d\",\"#4e63ac\",\"#4e63ac\",\"#ffffbe\",\"#4e63ac\",\"#d7414e\",\"#4e63ac\",\"#4e63ac\",\"#ffffbe\",\"#4e63ac\",\"#fedc88\",\"#a2d9a4\",\"#4e63ac\",\"#cdeb9d\",\"#4e63ac\",\"#4e63ac\",\"#4e63ac\",\"#4e63ac\",\"#fedc88\",\"#4e63ac\",\"#4e63ac\",\"#edf8a3\",\"#e1f399\",\"#4e63ac\",\"#4e63ac\",\"#4e63ac\",\"#4e63ac\",\"#4e63ac\",\"#fedc88\",\"#a2d9a4\",\"#4e63ac\",\"#edf8a3\",\"#ffffbe\",\"#fca55d\",\"#6ec5a5\",\"#9e0142\",\"#4e63ac\",\"#4e63ac\",\"#4e63ac\",\"#4e63ac\",\"#4e63ac\",\"#fedc88\",\"#cdeb9d\",\"#4e63ac\",\"#6ec5a5\",\"#4e63ac\",\"#edf8a3\",\"#e2514a\",\"#4e63ac\",\"#4e63ac\",\"#f57547\",\"#fca55d\",\"#4e63ac\",\"#4e63ac\",\"#4e63ac\",\"#fca55d\",\"#e1f399\",\"#4e63ac\",\"#4e63ac\",\"#4e63ac\",\"#4e63ac\",\"#4e63ac\",\"#4e63ac\",\"#358bbc\",\"#fca55d\",\"#fca55d\",\"#fedc88\",\"#b11747\",\"#4e63ac\",\"#edf8a3\",\"#4e63ac\",\"#e1f399\",\"#4e63ac\",\"#4e63ac\",\"#f57547\",\"#4e63ac\"],\"index\":{\"__ndarray__\":\"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\",\"dtype\":\"int32\",\"order\":\"little\",\"shape\":[4828]},\"item\":[\"negative\",\"negative\",\"negative\",\"negative\",\"negative\",\"negative\",\"PF11565_porb_full_length_sequences.fasta\",\"negative\",\"PF03318_etx_mtx2_full_length_sequences.fasta\",\"negative\",\"PF00555_Endotoxin_M_uniprot.fasta\",\"PF01289_thiol_cytolysin_full_length_sequences.fasta\",\"PF03318_etx_mtx2_full_length_sequences.fasta\",\"negative\",\"PF00087_toxin_tolip_full_length_sequences.fasta\",\"negative\",\"negative\",\"negative\",\"negative\",\"PF03318_etx_mtx2_full_length_sequences.fasta\",\"negative\",\"PF01289_thiol_cytolysin_full_length_sequences.fasta\",\"PF01024_colicin_full_length_sequences.fasta\",\"PF01289_thiol_cytolysin_full_length_sequences.fasta\",\"negative\",\"negative\",\"negative\",\"PF06109_hlye_full_length_sequences.fasta\",\"negative\",\"PF03945_Endotoxin_N_full_length_sequences.fasta\",\"negative\",\"PF01289_thiol_cytolysin_full_length_sequences.fasta\",\"PF06355_aegerolysin_full_length_sequences.fasta\",\"negative\",\"negative\",\"negative\",\"negative\",\"PF06369_anemone_cytotox_full_length_sequences.fasta\",\"negative\",\"negative\",\"negative\",\"PF05802_espb_full_length_sequences.fasta\",\"PF01289_thiol_cytolysin_full_length_sequences.fasta\",\"PF12920_tcda_tcdb_pore_full_length_sequences.fasta\",\"negative\",\"negative\",\"PF07367_fb_lectin_full_length_sequences.fasta\",\"negative\",\"PF07367_fb_lectin_full_length_sequences.fasta\",\"PF06109_hlye_full_length_sequences.fasta\",\"negative\",\"negative\",\"negative\",\"negative\",\"negative\",\"PF03945_Endotoxin_N_full_length_sequences.fasta\",\"PF12261_t_hemolysin_full_length_sequences.fasta\",\"negative\",\"PF06355_aegerolysin_full_length_sequences.fasta\",\"PF00087_toxin_tolip_full_length_sequences.fasta\",\"negative\",\"negative\",\"PF03945_Endotoxin_N_full_length_sequences.fasta\",\"negative\",\"PF12261_t_hemolysin_full_length_sequences.fasta\",\"PF06369_anemone_cytotox_full_length_sequences.fasta\",\"PF03318_etx_mtx2_full_length_sequences.fasta\",\"negative\",\"negative\",\"negative\",\"PF03318_etx_mtx2_full_length_sequences.fasta\",\"PF00087_toxin_tolip_full_length_sequences.fasta\",\"PF01117_aerolysin_full_length_sequences.fasta\",\"PF01289_thiol_cytolysin_full_length_sequences.fasta\",\"negative\",\"PF01117_aerolysin_full_length_sequences.fasta\",\"negative\",\"negative\",\"negative\",\"negative\",\"negative\",\"PF12261_t_hemolysin_full_length_sequences.fasta\",\"PF06369_anemone_cytotox_full_length_sequences.fasta\",\"negative\",\"negative\",\"negative\",\"PF00087_toxin_tolip_full_length_sequences.fasta\",\"PF03318_etx_mtx2_full_length_sequences.fasta\",\"PF12261_t_hemolysin_full_length_sequences.fasta\",\"negative\",\"negative\",\"PF01117_aerolysin_full_length_sequences.fasta\",\"negative\",\"negative\",\"negative\",\"negative\",\"negative\",\"negative\",\"PF06355_aegerolysin_full_length_sequences.fasta\",\"PF06355_aegerolysin_full_length_sequences.fasta\",\"PF03318_etx_mtx2_full_length_sequences.fasta\",\"PF01289_thiol_cytolysin_full_length_sequences.fasta\",\"PF03318_etx_mtx2_full_length_sequences.fasta\",\"PF07968_leukocidin_full_length_sequences.fasta\",\"negative\",\"PF06355_aegerolysin_full_length_sequences.fasta\",\"negative\",\"negative\",\"PF06109_hlye_full_length_sequences.fasta\",\"PF07367_fb_lectin_full_length_sequences.fasta\",\"PF03318_etx_mtx2_full_length_sequences.fasta\",\"PF01117_aerolysin_full_length_sequences.fasta\",\"PF03945_Endotoxin_N_full_length_sequences.fasta\",\"negative\",\"PF06355_aegerolysin_full_length_sequences.fasta\",\"PF01289_thiol_cytolysin_full_length_sequences.fasta\",\"negative\",\"PF12261_t_hemolysin_full_length_sequences.fasta\",\"PF12261_t_hemolysin_full_length_sequences.fasta\",\"PF11393_T4BSS_dotI_icml_full_length_sequences.fasta\",\"negative\",\"negative\",\"PF12261_t_hemolysin_full_length_sequences.fasta\",\"negative\",\"PF06369_anemone_cytotox_full_length_sequences.fasta\",\"PF03945_Endotoxin_N_full_length_sequences.fasta\",\"negative\",\"negative\",\"negative\",\"negative\",\"negative\",\"PF00087_toxin_tolip_full_length_sequences.fasta\",\"PF07367_fb_lectin_full_length_sequences.fasta\",\"negative\",\"PF01289_thiol_cytolysin_full_length_sequences.fasta\",\"negative\",\"negative\",\"negative\",\"PF01289_thiol_cytolysin_full_length_sequences.fasta\",\"negative\",\"negative\",\"negative\",\"PF05802_espb_full_length_sequences.fasta\",\"negative\",\"negative\",\"PF03318_etx_mtx2_full_length_sequences.fasta\",\"negative\",\"negative\",\"negative\",\"PF06109_hlye_full_length_sequences.fasta\",\"negative\",\"PF03318_etx_mtx2_full_length_sequences.fasta\",\"negative\",\"negative\",\"PF01117_aerolysin_full_length_sequences.fasta\",\"negative\",\"negative\",\"PF01823_macpf_uniprot.fasta\",\"PF07968_leukocidin_full_length_sequences.fasta\",\"PF07367_fb_lectin_full_length_sequences.fasta\",\"negative\",\"PF01289_thiol_cytolysin_full_length_sequences.fasta\",\"PF12920_tcda_tcdb_pore_full_length_sequences.fasta\",\"negative\",\"PF05802_espb_full_length_sequences.fasta\",\"negative\",\"negative\",\"negative\",\"negative\",\"negative\",\"PF03318_etx_mtx2_full_length_sequences.fasta\",\"negative\",\"PF11393_T4BSS_dotI_icml_full_length_sequences.fasta\",\"negative\",\"negative\",\"negative\",\"negative\",\"PF11393_T4BSS_dotI_icml_full_length_sequences.fasta\",\"negative\",\"negative\",\"negative\",\"negative\",\"negative\",\"PF03318_etx_mtx2_full_length_sequences.fasta\",\"negative\",\"PF12920_tcda_tcdb_pore_full_length_sequences.fasta\",\"PF18063_BB_PF_full_length_sequences.fasta\",\"negative\",\"negative\",\"negative\",\"PF06355_aegerolysin_full_length_sequences.fasta\",\"PF07367_fb_lectin_full_length_sequences.fasta\",\"negative\",\"PF12261_t_hemolysin_full_length_sequences.fasta\",\"PF11565_porb_full_length_sequences.fasta\",\"PF00087_toxin_tolip_full_length_sequences.fasta\",\"negative\",\"PF06355_aegerolysin_full_length_sequences.fasta\",\"negative\",\"negative\",\"PF05802_espb_full_length_sequences.fasta\",\"negative\",\"negative\",\"PF01289_thiol_cytolysin_full_length_sequences.fasta\",\"negative\",\"negative\",\"negative\",\"PF11393_T4BSS_dotI_icml_full_length_sequences.fasta\",\"PF06355_aegerolysin_full_length_sequences.fasta\",\"PF12920_tcda_tcdb_pore_full_length_sequences.fasta\",\"PF01338_Bac_thur_toxin_full_length_sequences.fasta\",\"negative\",\"negative\",\"negative\",\"PF03318_etx_mtx2_full_length_sequences.fasta\",\"negative\",\"PF00087_toxin_tolip_full_length_sequences.fasta\",\"PF06355_aegerolysin_full_length_sequences.fasta\",\"negative\",\"negative\",\"PF05802_espb_full_length_sequences.fasta\",\"PF01338_Bac_thur_toxin_full_length_sequences.fasta\",\"negative\",\"PF11393_T4BSS_dotI_icml_full_length_sequences.fasta\",\"negative\",\"negative\",\"negative\",\"negative\",\"PF12261_t_hemolysin_full_length_sequences.fasta\",\"negative\",\"PF07367_fb_lectin_full_length_sequences.fasta\",\"negative\",\"negative\",\"PF03318_etx_mtx2_full_length_sequences.fasta\",\"PF06369_anemone_cytotox_full_length_sequences.fasta\",\"negative\",\"negative\",\"negative\",\"negative\",\"PF03945_Endotoxin_N_full_length_sequences.fasta\",\"PF06369_anemone_cytotox_full_length_sequences.fasta\",\"PF03318_etx_mtx2_full_length_sequences.fasta\",\"negative\",\"PF07968_leukocidin_full_length_sequences.fasta\",\"PF04877_harpin_full_length_sequences.fasta\",\"negative\",\"PF03318_etx_mtx2_full_length_sequences.fasta\",\"negative\",\"PF06355_aegerolysin_full_length_sequences.fasta\",\"negative\",\"negative\",\"negative\",\"negative\",\"negative\",\"negative\",\"negative\",\"negative\",\"negative\",\"negative\",\"PF07968_leukocidin_full_length_sequences.fasta\",\"negative\",\"negative\",\"negative\",\"PF01117_aerolysin_full_length_sequences.fasta\",\"negative\",\"PF07968_leukocidin_full_length_sequences.fasta\",\"PF01289_thiol_cytolysin_full_length_sequences.fasta\",\"PF06369_anemone_cytotox_full_length_sequences.fasta\",\"PF11393_T4BSS_dotI_icml_full_length_sequences.fasta\",\"negative\",\"negative\",\"negative\",\"PF03945_Endotoxin_N_full_length_sequences.fasta\",\"PF06355_aegerolysin_full_length_sequences.fasta\",\"negative\",\"PF00087_toxin_tolip_full_length_sequences.fasta\",\"PF06369_anemone_cytotox_full_length_sequences.fasta\",\"PF11393_T4BSS_dotI_icml_full_length_sequences.fasta\",\"negative\",\"negative\",\"negative\",\"negative\",\"negative\",\"negative\",\"PF01117_aerolysin_full_length_sequences.fasta\",\"negative\",\"negative\",\"negative\",\"negative\",\"negative\",\"negative\",\"negative\",\"PF00087_toxin_tolip_full_length_sequences.fasta\",\"negative\",\"negative\",\"negative\",\"PF06369_anemone_cytotox_full_length_sequences.fasta\",\"negative\",\"negative\",\"negative\",\"negative\",\"PF01117_aerolysin_full_length_sequences.fasta\",\"negative\",\"PF00087_toxin_tolip_full_length_sequences.fasta\",\"negative\",\"negative\",\"negative\",\"negative\",\"PF11393_T4BSS_dotI_icml_full_length_sequences.fasta\",\"negative\",\"negative\",\"PF12261_t_hemolysin_full_length_sequences.fasta\",\"PF01289_thiol_cytolysin_full_length_sequences.fasta\",\"negative\",\"negative\",\"negative\",\"PF01289_thiol_cytolysin_full_length_sequences.fasta\",\"PF11393_T4BSS_dotI_icml_full_length_sequences.fasta\",\"negative\",\"negative\",\"negative\",\"negative\",\"negative\",\"PF18684_plyb_c_full_length_sequences.fasta\",\"PF03945_Endotoxin_N_full_length_sequences.fasta\",\"negative\",\"PF01117_aerolysin_full_length_sequences.fasta\",\"negative\",\"negative\",\"negative\",\"negative\",\"negative\",\"PF03318_etx_mtx2_full_length_sequences.fasta\",\"negative\",\"PF01289_thiol_cytolysin_full_length_sequences.fasta\",\"negative\",\"PF06369_anemone_cytotox_full_length_sequences.fasta\",\"PF01117_aerolysin_full_length_sequences.fasta\",\"PF06109_hlye_full_length_sequences.fasta\",\"negative\",\"negative\",\"PF03318_etx_mtx2_full_length_sequences.fasta\",\"negative\",\"PF01289_thiol_cytolysin_full_length_sequences.fasta\",\"PF01289_thiol_cytolysin_full_length_sequences.fasta\",\"PF05802_espb_full_length_sequences.fasta\",\"PF03318_etx_mtx2_full_length_sequences.fasta\",\"negative\",\"PF00087_toxin_tolip_full_length_sequences.fasta\",\"negative\",\"negative\",\"negative\",\"negative\",\"PF06355_aegerolysin_full_length_sequences.fasta\",\"negative\",\"negative\",\"negative\",\"negative\",\"PF01289_thiol_cytolysin_full_length_sequences.fasta\",\"PF12261_t_hemolysin_full_length_sequences.fasta\",\"PF03318_etx_mtx2_full_length_sequences.fasta\",\"negative\",\"PF17475_binary_toxb_2_full_length_sequences.fasta\",\"negative\",\"negative\",\"negative\",\"PF06355_aegerolysin_full_length_sequences.fasta\",\"negative\",\"PF01117_aerolysin_full_length_sequences.fasta\",\"negative\",\"negative\",\"negative\",\"negative\",\"negative\",\"negative\",\"negative\",\"negative\",\"negative\",\"PF03318_etx_mtx2_full_length_sequences.fasta\",\"negative\",\"negative\",\"PF06369_anemone_cytotox_full_length_sequences.fasta\",\"negative\",\"PF18063_BB_PF_full_length_sequences.fasta\",\"PF11393_T4BSS_dotI_icml_full_length_sequences.fasta\",\"negative\",\"PF01289_thiol_cytolysin_full_length_sequences.fasta\",\"negative\",\"negative\",\"negative\",\"PF12261_t_hemolysin_full_length_sequences.fasta\",\"negative\",\"negative\",\"PF03945_Endotoxin_N_full_length_sequences.fasta\",\"negative\",\"negative\",\"negative\",\"negative\",\"PF00087_toxin_tolip_full_length_sequences.fasta\",\"negative\",\"negative\",\"negative\",\"negative\",\"negative\",\"negative\",\"negative\",\"PF01338_Bac_thur_toxin_full_length_sequences.fasta\",\"negative\",\"negative\",\"negative\",\"negative\",\"negative\",\"negative\",\"negative\",\"PF12261_t_hemolysin_full_length_sequences.fasta\",\"negative\",\"negative\",\"negative\",\"negative\",\"PF12261_t_hemolysin_full_length_sequences.fasta\",\"PF03318_etx_mtx2_full_length_sequences.fasta\",\"negative\",\"PF12261_t_hemolysin_full_length_sequences.fasta\",\"negative\",\"negative\",\"negative\",\"negative\",\"PF03945_Endotoxin_N_full_length_sequences.fasta\",\"pf05105_phage_holin_4_1_uniprot.fasta\",\"negative\",\"PF12261_t_hemolysin_full_length_sequences.fasta\",\"negative\",\"negative\",\"negative\",\"negative\",\"PF01289_thiol_cytolysin_full_length_sequences.fasta\",\"PF11565_porb_full_length_sequences.fasta\",\"negative\",\"negative\",\"negative\",\"negative\",\"PF03945_Endotoxin_N_full_length_sequences.fasta\",\"PF04877_harpin_full_length_sequences.fasta\",\"negative\",\"negative\",\"PF01289_thiol_cytolysin_full_length_sequences.fasta\",\"negative\",\"negative\",\"negative\",\"PF00087_toxin_tolip_full_length_sequences.fasta\",\"negative\",\"negative\",\"negative\",\"PF00087_toxin_tolip_full_length_sequences.fasta\",\"negative\",\"PF12261_t_hemolysin_full_length_sequences.fasta\",\"PF01338_Bac_thur_toxin_full_length_sequences.fasta\",\"PF01338_Bac_thur_toxin_full_length_sequences.fasta\",\"PF12261_t_hemolysin_full_length_sequences.fasta\",\"negative\",\"negative\",\"negative\",\"PF03318_etx_mtx2_full_length_sequences.fasta\",\"PF07367_fb_lectin_full_length_sequences.fasta\",\"negative\",\"PF06355_aegerolysin_full_length_sequences.fasta\",\"negative\",\"PF01117_aerolysin_full_length_sequences.fasta\",\"negative\",\"PF06355_aegerolysin_full_length_sequences.fasta\",\"PF06369_anemone_cytotox_full_length_sequences.fasta\",\"negative\",\"PF01289_thiol_cytolysin_full_length_sequences.fasta\",\"PF11393_T4BSS_dotI_icml_full_length_sequences.fasta\",\"negative\",\"PF12261_t_hemolysin_full_length_sequences.fasta\",\"PF03945_Endotoxin_N_full_length_sequences.fasta\",\"negative\",\"PF12261_t_hemolysin_full_length_sequences.fasta\",\"PF03318_etx_mtx2_full_length_sequences.fasta\",\"PF00087_toxin_tolip_full_length_sequences.fasta\",\"PF01117_aerolysin_full_length_sequences.fasta\",\"PF03318_etx_mtx2_full_length_sequences.fasta\",\"negative\",\"PF01024_colicin_full_length_sequences.fasta\",\"negative\",\"PF07367_fb_lectin_full_length_sequences.fasta\",\"PF01289_thiol_cytolysin_full_length_sequences.fasta\",\"negative\",\"PF00087_toxin_tolip_full_length_sequences.fasta\",\"negative\",\"PF07367_fb_lectin_full_length_sequences.fasta\",\"negative\",\"PF00087_toxin_tolip_full_length_sequences.fasta\",\"PF07968_leukocidin_full_length_sequences.fasta\",\"negative\",\"PF06369_anemone_cytotox_full_length_sequences.fasta\",\"PF07367_fb_lectin_full_length_sequences.fasta\",\"negative\",\"negative\",\"negative\",\"PF11393_T4BSS_dotI_icml_full_length_sequences.fasta\",\"negative\",\"PF03318_etx_mtx2_full_length_sequences.fasta\",\"PF06355_aegerolysin_full_length_sequences.fasta\",\"negative\",\"negative\",\"PF03945_Endotoxin_N_full_length_sequences.fasta\",\"negative\",\"negative\",\"PF00087_toxin_tolip_full_length_sequences.fasta\",\"negative\",\"negative\",\"negative\",\"negative\",\"negative\",\"negative\",\"negative\",\"PF01289_thiol_cytolysin_full_length_sequences.fasta\",\"negative\",\"PF06369_anemone_cytotox_full_length_sequences.fasta\",\"negative\",\"PF01117_aerolysin_full_length_sequences.fasta\",\"PF03318_etx_mtx2_full_length_sequences.fasta\",\"negative\",\"PF00087_toxin_tolip_full_length_sequences.fasta\",\"negative\",\"negative\",\"negative\",\"PF00555_Endotoxin_M_uniprot.fasta\",\"PF11393_T4BSS_dotI_icml_full_length_sequences.fasta\",\"PF06369_anemone_cytotox_full_length_sequences.fasta\",\"negative\",\"negative\",\"negative\",\"negative\",\"negative\",\"negative\",\"negative\",\"negative\",\"PF07968_leukocidin_full_length_sequences.fasta\",\"negative\",\"PF01338_Bac_thur_toxin_full_length_sequences.fasta\",\"negative\",\"negative\",\"negative\",\"PF07968_leukocidin_full_length_sequences.fasta\",\"negative\",\"PF06369_anemone_cytotox_full_length_sequences.fasta\",\"negative\",\"negative\",\"PF03318_etx_mtx2_full_length_sequences.fasta\",\"PF03945_Endotoxin_N_full_length_sequences.fasta\",\"negative\",\"PF05802_espb_full_length_sequences.fasta\",\"negative\",\"PF01289_thiol_cytolysin_full_length_sequences.fasta\",\"PF12261_t_hemolysin_full_length_sequences.fasta\",\"negative\",\"PF12261_t_hemolysin_full_length_sequences.fasta\",\"PF01117_aerolysin_full_length_sequences.fasta\",\"negative\",\"PF11565_porb_full_length_sequences.fasta\",\"negative\",\"negative\",\"PF12261_t_hemolysin_full_length_sequences.fasta\",\"PF06109_hlye_full_length_sequences.fasta\",\"PF00087_toxin_tolip_full_length_sequences.fasta\",\"negative\",\"negative\",\"PF02382_rtx_full_length_sequences.fasta\",\"negative\",\"negative\",\"negative\",\"PF01823_macpf_uniprot.fasta\",\"PF01117_aerolysin_full_length_sequences.fasta\",\"negative\",\"negative\",\"negative\",\"PF12261_t_hemolysin_full_length_sequences.fasta\",\"negative\",\"negative\",\"negative\",\"negative\",\"negative\",\"negative\",\"negative\",\"PF05802_espb_full_length_sequences.fasta\",\"negative\",\"negative\",\"PF18063_BB_PF_full_length_sequences.fasta\",\"negative\",\"negative\",\"negative\",\"negative\",\"PF01289_thiol_cytolysin_full_length_sequences.fasta\",\"negative\",\"negative\",\"PF06355_aegerolysin_full_length_sequences.fasta\",\"PF01338_Bac_thur_toxin_full_length_sequences.fasta\",\"PF03318_etx_mtx2_full_length_sequences.fasta\",\"negative\",\"negative\",\"negative\",\"negative\",\"PF05802_espb_full_length_sequences.fasta\",\"negative\",\"negative\",\"negative\",\"negative\",\"negative\",\"negative\",\"negative\",\"negative\",\"negative\",\"negative\",\"negative\",\"negative\",\"PF11393_T4BSS_dotI_icml_full_length_sequences.fasta\",\"PF06355_aegerolysin_full_length_sequences.fasta\",\"PF01289_thiol_cytolysin_full_length_sequences.fasta\",\"negative\",\"PF01117_aerolysin_full_length_sequences.fasta\",\"PF06355_aegerolysin_full_length_sequences.fasta\",\"PF12261_t_hemolysin_full_length_sequences.fasta\",\"negative\",\"negative\",\"negative\",\"PF03944_Endotoxin_C_uniprot.fasta\",\"negative\",\"PF06369_anemone_cytotox_full_length_sequences.fasta\",\"PF03318_etx_mtx2_full_length_sequences.fasta\",\"PF00087_toxin_tolip_full_length_sequences.fasta\",\"PF03945_Endotoxin_N_full_length_sequences.fasta\",\"negative\",\"negative\",\"PF01338_Bac_thur_toxin_full_length_sequences.fasta\",\"negative\",\"PF00087_toxin_tolip_full_length_sequences.fasta\",\"PF00087_toxin_tolip_full_length_sequences.fasta\",\"PF01338_Bac_thur_toxin_full_length_sequences.fasta\",\"negative\",\"PF11393_T4BSS_dotI_icml_full_length_sequences.fasta\",\"negative\",\"negative\",\"negative\",\"negative\",\"negative\",\"negative\",\"negative\",\"negative\",\"negative\",\"PF11393_T4BSS_dotI_icml_full_length_sequences.fasta\",\"PF18063_BB_PF_full_length_sequences.fasta\",\"negative\",\"negative\",\"negative\",\"PF06369_anemone_cytotox_full_length_sequences.fasta\",\"negative\",\"negative\",\"negative\",\"negative\",\"negative\",\"PF00087_toxin_tolip_full_length_sequences.fasta\",\"PF03318_etx_mtx2_full_length_sequences.fasta\",\"PF01289_thiol_cytolysin_full_length_sequences.fasta\",\"PF03944_Endotoxin_C_uniprot.fasta\",\"negative\",\"negative\",\"PF06355_aegerolysin_full_length_sequences.fasta\",\"negative\",\"PF07367_fb_lectin_full_length_sequences.fasta\",\"negative\",\"negative\",\"negative\",\"negative\",\"negative\",\"PF03318_etx_mtx2_full_length_sequences.fasta\",\"PF06355_aegerolysin_full_length_sequences.fasta\",\"negative\",\"negative\",\"negative\",\"negative\",\"negative\",\"negative\",\"PF12261_t_hemolysin_full_length_sequences.fasta\",\"negative\",\"negative\",\"PF03318_etx_mtx2_full_length_sequences.fasta\",\"PF01289_thiol_cytolysin_full_length_sequences.fasta\",\"negative\",\"negative\",\"negative\",\"PF12261_t_hemolysin_full_length_sequences.fasta\",\"negative\",\"negative\",\"PF06369_anemone_cytotox_full_length_sequences.fasta\",\"negative\",\"negative\",\"PF06369_anemone_cytotox_full_length_sequences.fasta\",\"PF06369_anemone_cytotox_full_length_sequences.fasta\",\"PF00555_Endotoxin_M_uniprot.fasta\",\"PF11393_T4BSS_dotI_icml_full_length_sequences.fasta\",\"negative\",\"PF03945_Endotoxin_N_full_length_sequences.fasta\",\"negative\",\"negative\",\"PF07968_leukocidin_full_length_sequences.fasta\",\"PF06355_aegerolysin_full_length_sequences.fasta\",\"negative\",\"negative\",\"PF03945_Endotoxin_N_full_length_sequences.fasta\",\"PF06369_anemone_cytotox_full_length_sequences.fasta\",\"PF06369_anemone_cytotox_full_length_sequences.fasta\",\"negative\",\"negative\",\"PF03318_etx_mtx2_full_length_sequences.fasta\",\"negative\",\"PF03945_Endotoxin_N_full_length_sequences.fasta\",\"PF03945_Endotoxin_N_full_length_sequences.fasta\",\"negative\",\"PF00555_Endotoxin_M_uniprot.fasta\",\"negative\",\"negative\",\"negative\",\"PF01338_Bac_thur_toxin_full_length_sequences.fasta\",\"negative\",\"PF03318_etx_mtx2_full_length_sequences.fasta\",\"negative\",\"negative\",\"negative\",\"PF11393_T4BSS_dotI_icml_full_length_sequences.fasta\",\"PF07367_fb_lectin_full_length_sequences.fasta\",\"negative\",\"PF06109_hlye_full_length_sequences.fasta\",\"PF11393_T4BSS_dotI_icml_full_length_sequences.fasta\",\"negative\",\"PF01289_thiol_cytolysin_full_length_sequences.fasta\",\"negative\",\"PF12261_t_hemolysin_full_length_sequences.fasta\",\"negative\",\"PF12920_tcda_tcdb_pore_full_length_sequences.fasta\",\"negative\",\"negative\",\"PF01289_thiol_cytolysin_full_length_sequences.fasta\",\"negative\",\"negative\",\"negative\",\"PF12261_t_hemolysin_full_length_sequences.fasta\",\"negative\",\"negative\",\"PF06355_aegerolysin_full_length_sequences.fasta\",\"negative\",\"negative\",\"PF01289_thiol_cytolysin_full_length_sequences.fasta\",\"negative\",\"negative\",\"negative\",\"PF07367_fb_lectin_full_length_sequences.fasta\",\"negative\",\"negative\",\"negative\",\"negative\",\"PF12261_t_hemolysin_full_length_sequences.fasta\",\"negative\",\"negative\",\"negative\",\"negative\",\"negative\",\"negative\",\"negative\",\"negative\",\"PF12261_t_hemolysin_full_length_sequences.fasta\",\"negative\",\"PF03318_etx_mtx2_full_length_sequences.fasta\",\"negative\",\"PF01117_aerolysin_full_length_sequences.fasta\",\"negative\",\"negative\",\"negative\",\"negative\",\"negative\",\"PF12261_t_hemolysin_full_length_sequences.fasta\",\"negative\",\"negative\",\"negative\",\"PF06369_anemone_cytotox_full_length_sequences.fasta\",\"negative\",\"negative\",\"negative\",\"PF03945_Endotoxin_N_full_length_sequences.fasta\",\"negative\",\"negative\",\"negative\",\"negative\",\"negative\",\"negative\",\"negative\",\"PF12261_t_hemolysin_full_length_sequences.fasta\",\"PF03945_Endotoxin_N_full_length_sequences.fasta\",\"PF11393_T4BSS_dotI_icml_full_length_sequences.fasta\",\"negative\",\"negative\",\"PF06109_hlye_full_length_sequences.fasta\",\"negative\",\"PF07367_fb_lectin_full_length_sequences.fasta\",\"negative\",\"PF07367_fb_lectin_full_length_sequences.fasta\",\"PF06369_anemone_cytotox_full_length_sequences.fasta\",\"negative\",\"PF17475_binary_toxb_2_full_length_sequences.fasta\",\"negative\",\"negative\",\"PF00087_toxin_tolip_full_length_sequences.fasta\",\"pf05105_phage_holin_4_1_uniprot.fasta\",\"negative\",\"negative\",\"PF03945_Endotoxin_N_full_length_sequences.fasta\",\"PF01117_aerolysin_full_length_sequences.fasta\",\"PF03945_Endotoxin_N_full_length_sequences.fasta\",\"negative\",\"negative\",\"negative\",\"PF03318_etx_mtx2_full_length_sequences.fasta\",\"negative\",\"negative\",\"negative\",\"PF01289_thiol_cytolysin_full_length_sequences.fasta\",\"PF12261_t_hemolysin_full_length_sequences.fasta\",\"PF12920_tcda_tcdb_pore_full_length_sequences.fasta\",\"negative\",\"PF11393_T4BSS_dotI_icml_full_length_sequences.fasta\",\"negative\",\"PF12261_t_hemolysin_full_length_sequences.fasta\",\"negative\",\"negative\",\"PF11393_T4BSS_dotI_icml_full_length_sequences.fasta\",\"negative\",\"PF00087_toxin_tolip_full_length_sequences.fasta\",\"negative\",\"negative\",\"PF01289_thiol_cytolysin_full_length_sequences.fasta\",\"negative\",\"negative\",\"PF12261_t_hemolysin_full_length_sequences.fasta\",\"negative\",\"negative\",\"PF01117_aerolysin_full_length_sequences.fasta\",\"negative\",\"negative\",\"negative\",\"negative\",\"negative\",\"PF00087_toxin_tolip_full_length_sequences.fasta\",\"negative\",\"negative\",\"negative\",\"negative\",\"negative\",\"negative\",\"PF03318_etx_mtx2_full_length_sequences.fasta\",\"negative\",\"negative\",\"negative\",\"negative\",\"negative\",\"PF06369_anemone_cytotox_full_length_sequences.fasta\",\"PF12261_t_hemolysin_full_length_sequences.fasta\",\"negative\",\"negative\",\"PF06355_aegerolysin_full_length_sequences.fasta\",\"negative\",\"PF01289_thiol_cytolysin_full_length_sequences.fasta\",\"negative\",\"negative\",\"negative\",\"PF00087_toxin_tolip_full_length_sequences.fasta\",\"PF01117_aerolysin_full_length_sequences.fasta\",\"PF00087_toxin_tolip_full_length_sequences.fasta\",\"PF05802_espb_full_length_sequences.fasta\",\"PF03318_etx_mtx2_full_length_sequences.fasta\",\"PF03945_Endotoxin_N_full_length_sequences.fasta\",\"PF02382_rtx_full_length_sequences.fasta\",\"negative\",\"PF03945_Endotoxin_N_full_length_sequences.fasta\",\"negative\",\"negative\",\"negative\",\"negative\",\"negative\",\"PF07367_fb_lectin_full_length_sequences.fasta\",\"negative\",\"negative\",\"PF06109_hlye_full_length_sequences.fasta\",\"PF11393_T4BSS_dotI_icml_full_length_sequences.fasta\",\"negative\",\"negative\",\"PF11393_T4BSS_dotI_icml_full_length_sequences.fasta\",\"PF11393_T4BSS_dotI_icml_full_length_sequences.fasta\",\"negative\",\"PF11393_T4BSS_dotI_icml_full_length_sequences.fasta\",\"negative\",\"negative\",\"negative\",\"PF06369_anemone_cytotox_full_length_sequences.fasta\",\"PF11393_T4BSS_dotI_icml_full_length_sequences.fasta\",\"negative\",\"negative\",\"negative\",\"negative\",\"negative\",\"negative\",\"negative\",\"negative\",\"negative\",\"PF06355_aegerolysin_full_length_sequences.fasta\",\"negative\",\"PF18063_BB_PF_full_length_sequences.fasta\",\"negative\",\"PF01823_macpf_uniprot.fasta\",\"negative\",\"negative\",\"PF01289_thiol_cytolysin_full_length_sequences.fasta\",\"PF01117_aerolysin_full_length_sequences.fasta\",\"PF11393_T4BSS_dotI_icml_full_length_sequences.fasta\",\"negative\",\"PF00087_toxin_tolip_full_length_sequences.fasta\",\"negative\",\"negative\",\"negative\",\"negative\",\"negative\",\"negative\",\"negative\",\"negative\",\"negative\",\"negative\",\"PF06355_aegerolysin_full_length_sequences.fasta\",\"PF06369_anemone_cytotox_full_length_sequences.fasta\",\"negative\",\"negative\",\"negative\",\"PF03318_etx_mtx2_full_length_sequences.fasta\",\"negative\",\"PF06355_aegerolysin_full_length_sequences.fasta\",\"negative\",\"negative\",\"PF03318_etx_mtx2_full_length_sequences.fasta\",\"negative\",\"PF12261_t_hemolysin_full_length_sequences.fasta\",\"negative\",\"negative\",\"negative\",\"negative\",\"PF12920_tcda_tcdb_pore_full_length_sequences.fasta\",\"negative\",\"PF06109_hlye_full_length_sequences.fasta\",\"PF06369_anemone_cytotox_full_length_sequences.fasta\",\"PF05802_espb_full_length_sequences.fasta\",\"PF03945_Endotoxin_N_full_length_sequences.fasta\",\"negative\",\"negative\",\"negative\",\"negative\",\"PF01117_aerolysin_full_length_sequences.fasta\",\"negative\",\"PF12261_t_hemolysin_full_length_sequences.fasta\",\"negative\",\"negative\",\"negative\",\"PF01338_Bac_thur_toxin_full_length_sequences.fasta\",\"PF01117_aerolysin_full_length_sequences.fasta\",\"negative\",\"negative\",\"negative\",\"PF03318_etx_mtx2_full_length_sequences.fasta\",\"PF01289_thiol_cytolysin_full_length_sequences.fasta\",\"PF11565_porb_full_length_sequences.fasta\",\"PF12261_t_hemolysin_full_length_sequences.fasta\",\"negative\",\"PF03318_etx_mtx2_full_length_sequences.fasta\",\"negative\",\"negative\",\"negative\",\"negative\",\"negative\",\"negative\",\"negative\",\"negative\",\"negative\",\"PF11393_T4BSS_dotI_icml_full_length_sequences.fasta\",\"negative\",\"negative\",\"PF12920_tcda_tcdb_pore_full_length_sequences.fasta\",\"negative\",\"PF12920_tcda_tcdb_pore_full_length_sequences.fasta\",\"PF01117_aerolysin_full_length_sequences.fasta\",\"PF11393_T4BSS_dotI_icml_full_length_sequences.fasta\",\"negative\",\"negative\",\"PF01289_thiol_cytolysin_full_length_sequences.fasta\",\"negative\",\"PF00087_toxin_tolip_full_length_sequences.fasta\",\"PF06355_aegerolysin_full_length_sequences.fasta\",\"PF00555_Endotoxin_M_uniprot.fasta\",\"PF06355_aegerolysin_full_length_sequences.fasta\",\"negative\",\"negative\",\"PF01289_thiol_cytolysin_full_length_sequences.fasta\",\"PF03318_etx_mtx2_full_length_sequences.fasta\",\"PF03318_etx_mtx2_full_length_sequences.fasta\",\"PF18063_BB_PF_full_length_sequences.fasta\",\"negative\",\"negative\",\"negative\",\"negative\",\"negative\",\"negative\",\"PF06369_anemone_cytotox_full_length_sequences.fasta\",\"negative\",\"PF03318_etx_mtx2_full_length_sequences.fasta\",\"negative\",\"PF01289_thiol_cytolysin_full_length_sequences.fasta\",\"PF01117_aerolysin_full_length_sequences.fasta\",\"negative\",\"negative\",\"negative\",\"PF18063_BB_PF_full_length_sequences.fasta\",\"PF01117_aerolysin_full_length_sequences.fasta\",\"negative\",\"negative\",\"PF11393_T4BSS_dotI_icml_full_length_sequences.fasta\",\"PF01289_thiol_cytolysin_full_length_sequences.fasta\",\"PF06355_aegerolysin_full_length_sequences.fasta\",\"PF03945_Endotoxin_N_full_length_sequences.fasta\",\"PF03945_Endotoxin_N_full_length_sequences.fasta\",\"negative\",\"negative\",\"PF01117_aerolysin_full_length_sequences.fasta\",\"negative\",\"negative\",\"negative\",\"negative\",\"negative\",\"PF03318_etx_mtx2_full_length_sequences.fasta\",\"PF01024_colicin_full_length_sequences.fasta\",\"PF07367_fb_lectin_full_length_sequences.fasta\",\"PF01024_colicin_full_length_sequences.fasta\",\"negative\",\"negative\",\"negative\",\"negative\",\"negative\",\"negative\",\"PF03945_Endotoxin_N_full_length_sequences.fasta\",\"negative\",\"negative\",\"negative\",\"negative\",\"negative\",\"PF01338_Bac_thur_toxin_full_length_sequences.fasta\",\"PF00087_toxin_tolip_full_length_sequences.fasta\",\"PF01823_macpf_uniprot.fasta\",\"PF01117_aerolysin_full_length_sequences.fasta\",\"PF03318_etx_mtx2_full_length_sequences.fasta\",\"negative\",\"PF11565_porb_full_length_sequences.fasta\",\"PF02382_rtx_full_length_sequences.fasta\",\"PF01823_macpf_uniprot.fasta\",\"negative\",\"PF06355_aegerolysin_full_length_sequences.fasta\",\"negative\",\"negative\",\"PF03945_Endotoxin_N_full_length_sequences.fasta\",\"negative\",\"negative\",\"negative\",\"negative\",\"negative\",\"PF11565_porb_full_length_sequences.fasta\",\"negative\",\"negative\",\"PF06355_aegerolysin_full_length_sequences.fasta\",\"negative\",\"negative\",\"PF11393_T4BSS_dotI_icml_full_length_sequences.fasta\",\"negative\",\"negative\",\"negative\",\"PF00555_Endotoxin_M_uniprot.fasta\",\"negative\",\"negative\",\"negative\",\"negative\",\"negative\",\"PF06355_aegerolysin_full_length_sequences.fasta\",\"PF11393_T4BSS_dotI_icml_full_length_sequences.fasta\",\"negative\",\"negative\",\"negative\",\"PF06369_anemone_cytotox_full_length_sequences.fasta\",\"negative\",\"negative\",\"PF06369_anemone_cytotox_full_length_sequences.fasta\",\"PF00087_toxin_tolip_full_length_sequences.fasta\",\"negative\",\"negative\",\"negative\",\"negative\",\"negative\",\"negative\",\"negative\",\"negative\",\"PF06369_anemone_cytotox_full_length_sequences.fasta\",\"negative\",\"negative\",\"negative\",\"PF06109_hlye_full_length_sequences.fasta\",\"negative\",\"PF17475_binary_toxb_2_full_length_sequences.fasta\",\"PF06369_anemone_cytotox_full_length_sequences.fasta\",\"negative\",\"PF07367_fb_lectin_full_length_sequences.fasta\",\"negative\",\"PF11393_T4BSS_dotI_icml_full_length_sequences.fasta\",\"PF00087_toxin_tolip_full_length_sequences.fasta\",\"negative\",\"PF12261_t_hemolysin_full_length_sequences.fasta\",\"negative\",\"negative\",\"negative\",\"negative\",\"negative\",\"negative\",\"negative\",\"PF01338_Bac_thur_toxin_full_length_sequences.fasta\",\"negative\",\"negative\",\"PF01117_aerolysin_full_length_sequences.fasta\",\"negative\",\"negative\",\"negative\",\"PF06355_aegerolysin_full_length_sequences.fasta\",\"PF06355_aegerolysin_full_length_sequences.fasta\",\"negative\",\"negative\",\"negative\",\"negative\",\"negative\",\"negative\",\"PF01823_macpf_uniprot.fasta\",\"negative\",\"PF12261_t_hemolysin_full_length_sequences.fasta\",\"negative\",\"PF18063_BB_PF_full_length_sequences.fasta\",\"PF12261_t_hemolysin_full_length_sequences.fasta\",\"negative\",\"PF01338_Bac_thur_toxin_full_length_sequences.fasta\",\"PF01289_thiol_cytolysin_full_length_sequences.fasta\",\"PF03318_etx_mtx2_full_length_sequences.fasta\",\"PF05802_espb_full_length_sequences.fasta\",\"negative\",\"negative\",\"negative\",\"negative\",\"PF05802_espb_full_length_sequences.fasta\",\"negative\",\"PF00087_toxin_tolip_full_length_sequences.fasta\",\"PF03945_Endotoxin_N_full_length_sequences.fasta\",\"PF12261_t_hemolysin_full_length_sequences.fasta\",\"negative\",\"PF01117_aerolysin_full_length_sequences.fasta\",\"negative\",\"negative\",\"negative\",\"PF07367_fb_lectin_full_length_sequences.fasta\",\"negative\",\"PF01338_Bac_thur_toxin_full_length_sequences.fasta\",\"PF11393_T4BSS_dotI_icml_full_length_sequences.fasta\",\"PF01289_thiol_cytolysin_full_length_sequences.fasta\",\"PF00087_toxin_tolip_full_length_sequences.fasta\",\"PF03318_etx_mtx2_full_length_sequences.fasta\",\"negative\",\"PF11393_T4BSS_dotI_icml_full_length_sequences.fasta\",\"PF06369_anemone_cytotox_full_length_sequences.fasta\",\"PF12261_t_hemolysin_full_length_sequences.fasta\",\"PF05802_espb_full_length_sequences.fasta\",\"negative\",\"negative\",\"negative\",\"PF07367_fb_lectin_full_length_sequences.fasta\",\"negative\",\"PF11393_T4BSS_dotI_icml_full_length_sequences.fasta\",\"negative\",\"negative\",\"negative\",\"PF06355_aegerolysin_full_length_sequences.fasta\",\"negative\",\"negative\",\"PF00087_toxin_tolip_full_length_sequences.fasta\",\"PF06355_aegerolysin_full_length_sequences.fasta\",\"PF06369_anemone_cytotox_full_length_sequences.fasta\",\"negative\",\"negative\",\"PF02382_rtx_full_length_sequences.fasta\",\"negative\",\"negative\",\"PF03318_etx_mtx2_full_length_sequences.fasta\",\"PF03945_Endotoxin_N_full_length_sequences.fasta\",\"negative\",\"negative\",\"negative\",\"PF00087_toxin_tolip_full_length_sequences.fasta\",\"negative\",\"negative\",\"negative\",\"negative\",\"PF12261_t_hemolysin_full_length_sequences.fasta\",\"negative\",\"negative\",\"PF06109_hlye_full_length_sequences.fasta\",\"negative\",\"PF00087_toxin_tolip_full_length_sequences.fasta\",\"negative\",\"negative\",\"PF04598_gasdermin_uniprot.fasta\",\"negative\",\"negative\",\"negative\",\"negative\",\"negative\",\"negative\",\"PF18063_BB_PF_full_length_sequences.fasta\",\"negative\",\"PF03318_etx_mtx2_full_length_sequences.fasta\",\"negative\",\"negative\",\"PF01289_thiol_cytolysin_full_length_sequences.fasta\",\"PF00555_Endotoxin_M_uniprot.fasta\",\"PF06355_aegerolysin_full_length_sequences.fasta\",\"PF06369_anemone_cytotox_full_length_sequences.fasta\",\"negative\",\"negative\",\"negative\",\"PF00087_toxin_tolip_full_length_sequences.fasta\",\"negative\",\"PF01289_thiol_cytolysin_full_length_sequences.fasta\",\"negative\",\"negative\",\"negative\",\"PF06355_aegerolysin_full_length_sequences.fasta\",\"negative\",\"negative\",\"negative\",\"PF00087_toxin_tolip_full_length_sequences.fasta\",\"PF06369_anemone_cytotox_full_length_sequences.fasta\",\"negative\",\"negative\",\"negative\",\"negative\",\"PF03318_etx_mtx2_full_length_sequences.fasta\",\"negative\",\"PF01117_aerolysin_full_length_sequences.fasta\",\"negative\",\"negative\",\"negative\",\"negative\",\"PF03318_etx_mtx2_full_length_sequences.fasta\",\"negative\",\"negative\",\"negative\",\"negative\",\"negative\",\"PF07367_fb_lectin_full_length_sequences.fasta\",\"negative\",\"negative\",\"negative\",\"PF05802_espb_full_length_sequences.fasta\",\"PF01289_thiol_cytolysin_full_length_sequences.fasta\",\"negative\",\"negative\",\"negative\",\"PF00087_toxin_tolip_full_length_sequences.fasta\",\"negative\",\"negative\",\"negative\",\"negative\",\"PF06355_aegerolysin_full_length_sequences.fasta\",\"negative\",\"PF12261_t_hemolysin_full_length_sequences.fasta\",\"PF11393_T4BSS_dotI_icml_full_length_sequences.fasta\",\"negative\",\"negative\",\"negative\",\"negative\",\"PF12261_t_hemolysin_full_length_sequences.fasta\",\"PF01289_thiol_cytolysin_full_length_sequences.fasta\",\"negative\",\"negative\",\"PF12261_t_hemolysin_full_length_sequences.fasta\",\"PF11565_porb_full_length_sequences.fasta\",\"PF03318_etx_mtx2_full_length_sequences.fasta\",\"negative\",\"negative\",\"PF06355_aegerolysin_full_length_sequences.fasta\",\"PF01289_thiol_cytolysin_full_length_sequences.fasta\",\"negative\",\"negative\",\"PF01289_thiol_cytolysin_full_length_sequences.fasta\",\"negative\",\"PF03318_etx_mtx2_full_length_sequences.fasta\",\"PF06355_aegerolysin_full_length_sequences.fasta\",\"negative\",\"PF12920_tcda_tcdb_pore_full_length_sequences.fasta\",\"PF12261_t_hemolysin_full_length_sequences.fasta\",\"negative\",\"negative\",\"negative\",\"negative\",\"PF03318_etx_mtx2_full_length_sequences.fasta\",\"PF00555_Endotoxin_M_uniprot.fasta\",\"negative\",\"negative\",\"PF06355_aegerolysin_full_length_sequences.fasta\",\"negative\",\"PF06109_hlye_full_length_sequences.fasta\",\"PF01289_thiol_cytolysin_full_length_sequences.fasta\",\"PF03945_Endotoxin_N_full_length_sequences.fasta\",\"negative\",\"PF04598_gasdermin_uniprot.fasta\",\"negative\",\"PF01289_thiol_cytolysin_full_length_sequences.fasta\",\"negative\",\"negative\",\"negative\",\"negative\",\"negative\",\"PF03318_etx_mtx2_full_length_sequences.fasta\",\"PF01823_macpf_uniprot.fasta\",\"PF03945_Endotoxin_N_full_length_sequences.fasta\",\"negative\",\"negative\",\"negative\",\"negative\",\"negative\",\"negative\",\"negative\",\"negative\",\"negative\",\"PF00087_toxin_tolip_full_length_sequences.fasta\",\"PF03945_Endotoxin_N_full_length_sequences.fasta\",\"negative\",\"PF11393_T4BSS_dotI_icml_full_length_sequences.fasta\",\"negative\",\"PF07367_fb_lectin_full_length_sequences.fasta\",\"negative\",\"PF03318_etx_mtx2_full_length_sequences.fasta\",\"PF03318_etx_mtx2_full_length_sequences.fasta\",\"negative\",\"PF06355_aegerolysin_full_length_sequences.fasta\",\"PF03318_etx_mtx2_full_length_sequences.fasta\",\"negative\",\"negative\",\"PF06369_anemone_cytotox_full_length_sequences.fasta\",\"negative\",\"negative\",\"negative\",\"negative\",\"negative\",\"negative\",\"PF06369_anemone_cytotox_full_length_sequences.fasta\",\"negative\",\"negative\",\"negative\",\"pf05105_phage_holin_4_1_uniprot.fasta\",\"PF01117_aerolysin_full_length_sequences.fasta\",\"PF06355_aegerolysin_full_length_sequences.fasta\",\"negative\",\"negative\",\"negative\",\"negative\",\"negative\",\"negative\",\"negative\",\"PF01117_aerolysin_full_length_sequences.fasta\",\"PF00087_toxin_tolip_full_length_sequences.fasta\",\"negative\",\"PF00087_toxin_tolip_full_length_sequences.fasta\",\"PF03318_etx_mtx2_full_length_sequences.fasta\",\"negative\",\"negative\",\"negative\",\"PF01338_Bac_thur_toxin_full_length_sequences.fasta\",\"negative\",\"negative\",\"PF01117_aerolysin_full_length_sequences.fasta\",\"negative\",\"PF06369_anemone_cytotox_full_length_sequences.fasta\",\"negative\",\"PF01823_macpf_uniprot.fasta\",\"negative\",\"negative\",\"negative\",\"PF03945_Endotoxin_N_full_length_sequences.fasta\",\"negative\",\"negative\",\"negative\",\"negative\",\"PF01823_macpf_uniprot.fasta\",\"PF01338_Bac_thur_toxin_full_length_sequences.fasta\",\"negative\",\"PF01289_thiol_cytolysin_full_length_sequences.fasta\",\"PF12261_t_hemolysin_full_length_sequences.fasta\",\"negative\",\"negative\",\"PF18063_BB_PF_full_length_sequences.fasta\",\"negative\",\"negative\",\"negative\",\"negative\",\"negative\",\"PF00087_toxin_tolip_full_length_sequences.fasta\",\"negative\",\"negative\",\"negative\",\"negative\",\"negative\",\"PF01289_thiol_cytolysin_full_length_sequences.fasta\",\"PF01289_thiol_cytolysin_full_length_sequences.fasta\",\"PF06369_anemone_cytotox_full_length_sequences.fasta\",\"negative\",\"PF06369_anemone_cytotox_full_length_sequences.fasta\",\"negative\",\"PF06109_hlye_full_length_sequences.fasta\",\"PF00087_toxin_tolip_full_length_sequences.fasta\",\"negative\",\"negative\",\"negative\",\"negative\",\"PF03318_etx_mtx2_full_length_sequences.fasta\",\"negative\",\"PF03945_Endotoxin_N_full_length_sequences.fasta\",\"PF06355_aegerolysin_full_length_sequences.fasta\",\"PF12261_t_hemolysin_full_length_sequences.fasta\",\"PF03318_etx_mtx2_full_length_sequences.fasta\",\"negative\",\"negative\",\"negative\",\"negative\",\"negative\",\"PF11393_T4BSS_dotI_icml_full_length_sequences.fasta\",\"negative\",\"negative\",\"negative\",\"negative\",\"negative\",\"negative\",\"negative\",\"negative\",\"negative\",\"negative\",\"negative\",\"negative\",\"PF00555_Endotoxin_M_uniprot.fasta\",\"negative\",\"negative\",\"negative\",\"PF01338_Bac_thur_toxin_full_length_sequences.fasta\",\"negative\",\"PF01289_thiol_cytolysin_full_length_sequences.fasta\",\"PF06355_aegerolysin_full_length_sequences.fasta\",\"PF03318_etx_mtx2_full_length_sequences.fasta\",\"negative\",\"PF00087_toxin_tolip_full_length_sequences.fasta\",\"negative\",\"negative\",\"PF01117_aerolysin_full_length_sequences.fasta\",\"negative\",\"negative\",\"negative\",\"negative\",\"PF01117_aerolysin_full_length_sequences.fasta\",\"negative\",\"PF03318_etx_mtx2_full_length_sequences.fasta\",\"negative\",\"negative\",\"PF01289_thiol_cytolysin_full_length_sequences.fasta\",\"negative\",\"PF06355_aegerolysin_full_length_sequences.fasta\",\"negative\",\"PF03318_etx_mtx2_full_length_sequences.fasta\",\"negative\",\"negative\",\"negative\",\"negative\",\"PF07367_fb_lectin_full_length_sequences.fasta\",\"PF07367_fb_lectin_full_length_sequences.fasta\",\"PF11393_T4BSS_dotI_icml_full_length_sequences.fasta\",\"PF03945_Endotoxin_N_full_length_sequences.fasta\",\"PF00087_toxin_tolip_full_length_sequences.fasta\",\"negative\",\"PF00087_toxin_tolip_full_length_sequences.fasta\",\"PF01289_thiol_cytolysin_full_length_sequences.fasta\",\"negative\",\"negative\",\"negative\",\"negative\",\"negative\",\"negative\",\"PF11393_T4BSS_dotI_icml_full_length_sequences.fasta\",\"negative\",\"negative\",\"PF01338_Bac_thur_toxin_full_length_sequences.fasta\",\"PF11393_T4BSS_dotI_icml_full_length_sequences.fasta\",\"negative\",\"negative\",\"PF04877_harpin_full_length_sequences.fasta\",\"PF07367_fb_lectin_full_length_sequences.fasta\",\"negative\",\"negative\",\"negative\",\"PF11393_T4BSS_dotI_icml_full_length_sequences.fasta\",\"negative\",\"negative\",\"PF06355_aegerolysin_full_length_sequences.fasta\",\"negative\",\"negative\",\"negative\",\"PF01823_macpf_uniprot.fasta\",\"PF11393_T4BSS_dotI_icml_full_length_sequences.fasta\",\"negative\",\"PF06355_aegerolysin_full_length_sequences.fasta\",\"negative\",\"negative\",\"PF07367_fb_lectin_full_length_sequences.fasta\",\"negative\",\"PF06355_aegerolysin_full_length_sequences.fasta\",\"negative\",\"negative\",\"negative\",\"negative\",\"negative\",\"negative\",\"negative\",\"negative\",\"PF04877_harpin_full_length_sequences.fasta\",\"PF00087_toxin_tolip_full_length_sequences.fasta\",\"PF03318_etx_mtx2_full_length_sequences.fasta\",\"negative\",\"negative\",\"negative\",\"negative\",\"negative\",\"negative\",\"PF12261_t_hemolysin_full_length_sequences.fasta\",\"PF12261_t_hemolysin_full_length_sequences.fasta\",\"PF01338_Bac_thur_toxin_full_length_sequences.fasta\",\"PF07367_fb_lectin_full_length_sequences.fasta\",\"negative\",\"PF07367_fb_lectin_full_length_sequences.fasta\",\"negative\",\"negative\",\"PF12261_t_hemolysin_full_length_sequences.fasta\",\"PF12261_t_hemolysin_full_length_sequences.fasta\",\"negative\",\"PF12261_t_hemolysin_full_length_sequences.fasta\",\"negative\",\"negative\",\"PF11565_porb_full_length_sequences.fasta\",\"negative\",\"PF06369_anemone_cytotox_full_length_sequences.fasta\",\"negative\",\"negative\",\"negative\",\"PF03318_etx_mtx2_full_length_sequences.fasta\",\"PF05802_espb_full_length_sequences.fasta\",\"negative\",\"negative\",\"negative\",\"negative\",\"negative\",\"PF01117_aerolysin_full_length_sequences.fasta\",\"negative\",\"negative\",\"PF07367_fb_lectin_full_length_sequences.fasta\",\"negative\",\"negative\",\"PF01338_Bac_thur_toxin_full_length_sequences.fasta\",\"PF01289_thiol_cytolysin_full_length_sequences.fasta\",\"negative\",\"PF04598_gasdermin_uniprot.fasta\",\"negative\",\"PF11393_T4BSS_dotI_icml_full_length_sequences.fasta\",\"PF06369_anemone_cytotox_full_length_sequences.fasta\",\"negative\",\"PF01338_Bac_thur_toxin_full_length_sequences.fasta\",\"PF00087_toxin_tolip_full_length_sequences.fasta\",\"PF12261_t_hemolysin_full_length_sequences.fasta\",\"PF00087_toxin_tolip_full_length_sequences.fasta\",\"PF06109_hlye_full_length_sequences.fasta\",\"negative\",\"negative\",\"negative\",\"negative\",\"PF01338_Bac_thur_toxin_full_length_sequences.fasta\",\"negative\",\"PF01117_aerolysin_full_length_sequences.fasta\",\"PF12261_t_hemolysin_full_length_sequences.fasta\",\"PF11565_porb_full_length_sequences.fasta\",\"negative\",\"PF06355_aegerolysin_full_length_sequences.fasta\",\"negative\",\"negative\",\"negative\",\"negative\",\"negative\",\"PF06369_anemone_cytotox_full_length_sequences.fasta\",\"PF03945_Endotoxin_N_full_length_sequences.fasta\",\"negative\",\"negative\",\"negative\",\"negative\",\"negative\",\"negative\",\"PF12261_t_hemolysin_full_length_sequences.fasta\",\"negative\",\"negative\",\"PF01338_Bac_thur_toxin_full_length_sequences.fasta\",\"PF07968_leukocidin_full_length_sequences.fasta\",\"PF11393_T4BSS_dotI_icml_full_length_sequences.fasta\",\"negative\",\"negative\",\"PF03318_etx_mtx2_full_length_sequences.fasta\",\"negative\",\"negative\",\"PF03318_etx_mtx2_full_length_sequences.fasta\",\"negative\",\"negative\",\"PF07367_fb_lectin_full_length_sequences.fasta\",\"PF11393_T4BSS_dotI_icml_full_length_sequences.fasta\",\"PF06369_anemone_cytotox_full_length_sequences.fasta\",\"negative\",\"PF07367_fb_lectin_full_length_sequences.fasta\",\"PF07968_leukocidin_full_length_sequences.fasta\",\"negative\",\"PF18063_BB_PF_full_length_sequences.fasta\",\"PF12261_t_hemolysin_full_length_sequences.fasta\",\"PF03318_etx_mtx2_full_length_sequences.fasta\",\"negative\",\"PF11393_T4BSS_dotI_icml_full_length_sequences.fasta\",\"negative\",\"PF06369_anemone_cytotox_full_length_sequences.fasta\",\"PF12920_tcda_tcdb_pore_full_length_sequences.fasta\",\"negative\",\"PF06369_anemone_cytotox_full_length_sequences.fasta\",\"negative\",\"negative\",\"negative\",\"negative\",\"PF11565_porb_full_length_sequences.fasta\",\"negative\",\"negative\",\"negative\",\"PF05802_espb_full_length_sequences.fasta\",\"PF06355_aegerolysin_full_length_sequences.fasta\",\"PF03945_Endotoxin_N_full_length_sequences.fasta\",\"negative\",\"negative\",\"negative\",\"negative\",\"PF11393_T4BSS_dotI_icml_full_length_sequences.fasta\",\"PF11393_T4BSS_dotI_icml_full_length_sequences.fasta\",\"PF06355_aegerolysin_full_length_sequences.fasta\",\"PF12261_t_hemolysin_full_length_sequences.fasta\",\"negative\",\"PF01338_Bac_thur_toxin_full_length_sequences.fasta\",\"negative\",\"PF00555_Endotoxin_M_uniprot.fasta\",\"negative\",\"negative\",\"negative\",\"negative\",\"negative\",\"negative\",\"negative\",\"PF01024_colicin_full_length_sequences.fasta\",\"PF00087_toxin_tolip_full_length_sequences.fasta\",\"negative\",\"negative\",\"negative\",\"PF18063_BB_PF_full_length_sequences.fasta\",\"negative\",\"negative\",\"negative\",\"negative\",\"negative\",\"negative\",\"negative\",\"PF06355_aegerolysin_full_length_sequences.fasta\",\"PF01289_thiol_cytolysin_full_length_sequences.fasta\",\"pf05105_phage_holin_4_1_uniprot.fasta\",\"negative\",\"negative\",\"negative\",\"PF01338_Bac_thur_toxin_full_length_sequences.fasta\",\"negative\",\"negative\",\"PF06369_anemone_cytotox_full_length_sequences.fasta\",\"PF06369_anemone_cytotox_full_length_sequences.fasta\",\"PF06369_anemone_cytotox_full_length_sequences.fasta\",\"PF12261_t_hemolysin_full_length_sequences.fasta\",\"negative\",\"negative\",\"negative\",\"PF12261_t_hemolysin_full_length_sequences.fasta\",\"PF06355_aegerolysin_full_length_sequences.fasta\",\"negative\",\"PF12261_t_hemolysin_full_length_sequences.fasta\",\"PF03318_etx_mtx2_full_length_sequences.fasta\",\"PF11393_T4BSS_dotI_icml_full_length_sequences.fasta\",\"negative\",\"negative\",\"PF00087_toxin_tolip_full_length_sequences.fasta\",\"negative\",\"negative\",\"negative\",\"negative\",\"PF04877_harpin_full_length_sequences.fasta\",\"negative\",\"PF11393_T4BSS_dotI_icml_full_length_sequences.fasta\",\"negative\",\"PF06355_aegerolysin_full_length_sequences.fasta\",\"negative\",\"negative\",\"negative\",\"negative\",\"negative\",\"PF11393_T4BSS_dotI_icml_full_length_sequences.fasta\",\"PF01289_thiol_cytolysin_full_length_sequences.fasta\",\"negative\",\"PF03945_Endotoxin_N_full_length_sequences.fasta\",\"PF07367_fb_lectin_full_length_sequences.fasta\",\"PF01823_macpf_uniprot.fasta\",\"PF06369_anemone_cytotox_full_length_sequences.fasta\",\"negative\",\"negative\",\"PF12261_t_hemolysin_full_length_sequences.fasta\",\"PF11393_T4BSS_dotI_icml_full_length_sequences.fasta\",\"negative\",\"PF06369_anemone_cytotox_full_length_sequences.fasta\",\"negative\",\"negative\",\"negative\",\"negative\",\"PF00087_toxin_tolip_full_length_sequences.fasta\",\"negative\",\"PF12261_t_hemolysin_full_length_sequences.fasta\",\"PF12261_t_hemolysin_full_length_sequences.fasta\",\"negative\",\"PF06355_aegerolysin_full_length_sequences.fasta\",\"negative\",\"PF03318_etx_mtx2_full_length_sequences.fasta\",\"negative\",\"negative\",\"PF06355_aegerolysin_full_length_sequences.fasta\",\"negative\",\"negative\",\"negative\",\"negative\",\"PF12261_t_hemolysin_full_length_sequences.fasta\",\"negative\",\"PF07968_leukocidin_full_length_sequences.fasta\",\"negative\",\"PF00087_toxin_tolip_full_length_sequences.fasta\",\"negative\",\"PF01289_thiol_cytolysin_full_length_sequences.fasta\",\"negative\",\"negative\",\"negative\",\"PF01289_thiol_cytolysin_full_length_sequences.fasta\",\"PF06355_aegerolysin_full_length_sequences.fasta\",\"PF01289_thiol_cytolysin_full_length_sequences.fasta\",\"PF03945_Endotoxin_N_full_length_sequences.fasta\",\"negative\",\"negative\",\"negative\",\"PF01289_thiol_cytolysin_full_length_sequences.fasta\",\"PF11565_porb_full_length_sequences.fasta\",\"negative\",\"negative\",\"PF03318_etx_mtx2_full_length_sequences.fasta\",\"negative\",\"PF03318_etx_mtx2_full_length_sequences.fasta\",\"PF11565_porb_full_length_sequences.fasta\",\"PF06369_anemone_cytotox_full_length_sequences.fasta\",\"negative\",\"PF06109_hlye_full_length_sequences.fasta\",\"PF00087_toxin_tolip_full_length_sequences.fasta\",\"negative\",\"PF04877_harpin_full_length_sequences.fasta\",\"negative\",\"negative\",\"negative\",\"PF01289_thiol_cytolysin_full_length_sequences.fasta\",\"negative\",\"PF03318_etx_mtx2_full_length_sequences.fasta\",\"negative\",\"PF12261_t_hemolysin_full_length_sequences.fasta\",\"PF06355_aegerolysin_full_length_sequences.fasta\",\"negative\",\"PF06369_anemone_cytotox_full_length_sequences.fasta\",\"PF03318_etx_mtx2_full_length_sequences.fasta\",\"PF06369_anemone_cytotox_full_length_sequences.fasta\",\"negative\",\"negative\",\"PF11393_T4BSS_dotI_icml_full_length_sequences.fasta\",\"negative\",\"PF01289_thiol_cytolysin_full_length_sequences.fasta\",\"PF02382_rtx_full_length_sequences.fasta\",\"PF03318_etx_mtx2_full_length_sequences.fasta\",\"negative\",\"PF12261_t_hemolysin_full_length_sequences.fasta\",\"negative\",\"negative\",\"negative\",\"PF11565_porb_full_length_sequences.fasta\",\"PF07968_leukocidin_full_length_sequences.fasta\",\"negative\",\"negative\",\"negative\",\"negative\",\"negative\",\"negative\",\"negative\",\"negative\",\"PF01289_thiol_cytolysin_full_length_sequences.fasta\",\"negative\",\"negative\",\"negative\",\"PF04598_gasdermin_uniprot.fasta\",\"negative\",\"negative\",\"negative\",\"negative\",\"negative\",\"negative\",\"negative\",\"negative\",\"negative\",\"negative\",\"negative\",\"PF11393_T4BSS_dotI_icml_full_length_sequences.fasta\",\"PF12261_t_hemolysin_full_length_sequences.fasta\",\"PF01117_aerolysin_full_length_sequences.fasta\",\"negative\",\"negative\",\"negative\",\"PF00555_Endotoxin_M_uniprot.fasta\",\"PF03945_Endotoxin_N_full_length_sequences.fasta\",\"negative\",\"negative\",\"negative\",\"negative\",\"negative\",\"PF01823_macpf_uniprot.fasta\",\"negative\",\"PF12261_t_hemolysin_full_length_sequences.fasta\",\"PF01289_thiol_cytolysin_full_length_sequences.fasta\",\"negative\",\"PF12261_t_hemolysin_full_length_sequences.fasta\",\"negative\",\"PF06109_hlye_full_length_sequences.fasta\",\"negative\",\"negative\",\"negative\",\"negative\",\"negative\",\"negative\",\"PF03945_Endotoxin_N_full_length_sequences.fasta\",\"negative\",\"PF12261_t_hemolysin_full_length_sequences.fasta\",\"negative\",\"negative\",\"negative\",\"negative\",\"PF01338_Bac_thur_toxin_full_length_sequences.fasta\",\"negative\",\"negative\",\"negative\",\"PF04877_harpin_full_length_sequences.fasta\",\"negative\",\"negative\",\"negative\",\"PF06355_aegerolysin_full_length_sequences.fasta\",\"negative\",\"PF00087_toxin_tolip_full_length_sequences.fasta\",\"negative\",\"negative\",\"negative\",\"PF07367_fb_lectin_full_length_sequences.fasta\",\"negative\",\"PF01117_aerolysin_full_length_sequences.fasta\",\"PF03318_etx_mtx2_full_length_sequences.fasta\",\"negative\",\"PF06369_anemone_cytotox_full_length_sequences.fasta\",\"PF12261_t_hemolysin_full_length_sequences.fasta\",\"PF06369_anemone_cytotox_full_length_sequences.fasta\",\"PF01117_aerolysin_full_length_sequences.fasta\",\"PF06369_anemone_cytotox_full_length_sequences.fasta\",\"PF06369_anemone_cytotox_full_length_sequences.fasta\",\"PF01289_thiol_cytolysin_full_length_sequences.fasta\",\"negative\",\"negative\",\"negative\",\"negative\",\"pf05105_phage_holin_4_1_uniprot.fasta\",\"PF12261_t_hemolysin_full_length_sequences.fasta\",\"PF01289_thiol_cytolysin_full_length_sequences.fasta\",\"negative\",\"PF03318_etx_mtx2_full_length_sequences.fasta\",\"PF03318_etx_mtx2_full_length_sequences.fasta\",\"negative\",\"PF07968_leukocidin_full_length_sequences.fasta\",\"negative\",\"PF03945_Endotoxin_N_full_length_sequences.fasta\",\"PF03318_etx_mtx2_full_length_sequences.fasta\",\"negative\",\"negative\",\"PF01117_aerolysin_full_length_sequences.fasta\",\"PF01117_aerolysin_full_length_sequences.fasta\",\"PF01289_thiol_cytolysin_full_length_sequences.fasta\",\"PF00087_toxin_tolip_full_length_sequences.fasta\",\"PF07367_fb_lectin_full_length_sequences.fasta\",\"negative\",\"PF03505_clenterotox_full_length_sequences.fasta\",\"PF05802_espb_full_length_sequences.fasta\",\"negative\",\"negative\",\"negative\",\"PF12261_t_hemolysin_full_length_sequences.fasta\",\"negative\",\"negative\",\"negative\",\"negative\",\"negative\",\"negative\",\"PF12261_t_hemolysin_full_length_sequences.fasta\",\"PF06109_hlye_full_length_sequences.fasta\",\"negative\",\"negative\",\"negative\",\"negative\",\"PF03318_etx_mtx2_full_length_sequences.fasta\",\"negative\",\"negative\",\"negative\",\"PF03318_etx_mtx2_full_length_sequences.fasta\",\"negative\",\"PF12261_t_hemolysin_full_length_sequences.fasta\",\"PF11393_T4BSS_dotI_icml_full_length_sequences.fasta\",\"negative\",\"negative\",\"negative\",\"PF01117_aerolysin_full_length_sequences.fasta\",\"PF12261_t_hemolysin_full_length_sequences.fasta\",\"PF03945_Endotoxin_N_full_length_sequences.fasta\",\"PF01289_thiol_cytolysin_full_length_sequences.fasta\",\"negative\",\"PF03318_etx_mtx2_full_length_sequences.fasta\",\"negative\",\"negative\",\"PF06369_anemone_cytotox_full_length_sequences.fasta\",\"negative\",\"PF01289_thiol_cytolysin_full_length_sequences.fasta\",\"PF03318_etx_mtx2_full_length_sequences.fasta\",\"PF06369_anemone_cytotox_full_length_sequences.fasta\",\"negative\",\"negative\",\"negative\",\"PF12920_tcda_tcdb_pore_full_length_sequences.fasta\",\"negative\",\"negative\",\"negative\",\"negative\",\"negative\",\"negative\",\"negative\",\"negative\",\"PF01117_aerolysin_full_length_sequences.fasta\",\"negative\",\"negative\",\"negative\",\"PF00087_toxin_tolip_full_length_sequences.fasta\",\"PF12920_tcda_tcdb_pore_full_length_sequences.fasta\",\"PF07367_fb_lectin_full_length_sequences.fasta\",\"PF12261_t_hemolysin_full_length_sequences.fasta\",\"PF06369_anemone_cytotox_full_length_sequences.fasta\",\"negative\",\"negative\",\"PF04877_harpin_full_length_sequences.fasta\",\"PF06355_aegerolysin_full_length_sequences.fasta\",\"negative\",\"negative\",\"negative\",\"negative\",\"negative\",\"PF01338_Bac_thur_toxin_full_length_sequences.fasta\",\"negative\",\"PF12261_t_hemolysin_full_length_sequences.fasta\",\"negative\",\"negative\",\"negative\",\"PF01289_thiol_cytolysin_full_length_sequences.fasta\",\"negative\",\"PF03318_etx_mtx2_full_length_sequences.fasta\",\"PF03318_etx_mtx2_full_length_sequences.fasta\",\"PF12261_t_hemolysin_full_length_sequences.fasta\",\"PF06369_anemone_cytotox_full_length_sequences.fasta\",\"PF07968_leukocidin_full_length_sequences.fasta\",\"negative\",\"negative\",\"negative\",\"PF06369_anemone_cytotox_full_length_sequences.fasta\",\"negative\",\"negative\",\"negative\",\"negative\",\"negative\",\"negative\",\"negative\",\"negative\",\"PF01289_thiol_cytolysin_full_length_sequences.fasta\",\"negative\",\"negative\",\"PF00555_Endotoxin_M_uniprot.fasta\",\"PF11393_T4BSS_dotI_icml_full_length_sequences.fasta\",\"PF01289_thiol_cytolysin_full_length_sequences.fasta\",\"PF12261_t_hemolysin_full_length_sequences.fasta\",\"negative\",\"negative\",\"negative\",\"negative\",\"negative\",\"PF11393_T4BSS_dotI_icml_full_length_sequences.fasta\",\"negative\",\"negative\",\"negative\",\"PF01117_aerolysin_full_length_sequences.fasta\",\"negative\",\"PF03318_etx_mtx2_full_length_sequences.fasta\",\"negative\",\"negative\",\"negative\",\"negative\",\"PF01117_aerolysin_full_length_sequences.fasta\",\"negative\",\"PF12261_t_hemolysin_full_length_sequences.fasta\",\"PF00087_toxin_tolip_full_length_sequences.fasta\",\"PF01024_colicin_full_length_sequences.fasta\",\"PF01024_colicin_full_length_sequences.fasta\",\"negative\",\"PF01117_aerolysin_full_length_sequences.fasta\",\"negative\",\"PF01117_aerolysin_full_length_sequences.fasta\",\"negative\",\"negative\",\"negative\",\"PF03318_etx_mtx2_full_length_sequences.fasta\",\"PF00087_toxin_tolip_full_length_sequences.fasta\",\"negative\",\"PF06369_anemone_cytotox_full_length_sequences.fasta\",\"PF12920_tcda_tcdb_pore_full_length_sequences.fasta\",\"negative\",\"negative\",\"negative\",\"PF12261_t_hemolysin_full_length_sequences.fasta\",\"negative\",\"negative\",\"PF07367_fb_lectin_full_length_sequences.fasta\",\"negative\",\"negative\",\"PF12261_t_hemolysin_full_length_sequences.fasta\",\"negative\",\"negative\",\"negative\",\"PF01289_thiol_cytolysin_full_length_sequences.fasta\",\"PF03318_etx_mtx2_full_length_sequences.fasta\",\"negative\",\"negative\",\"negative\",\"PF00087_toxin_tolip_full_length_sequences.fasta\",\"negative\",\"negative\",\"PF06355_aegerolysin_full_length_sequences.fasta\",\"negative\",\"PF01117_aerolysin_full_length_sequences.fasta\",\"negative\",\"negative\",\"negative\",\"negative\",\"negative\",\"negative\",\"PF12920_tcda_tcdb_pore_full_length_sequences.fasta\",\"PF06369_anemone_cytotox_full_length_sequences.fasta\",\"negative\",\"negative\",\"PF01289_thiol_cytolysin_full_length_sequences.fasta\",\"negative\",\"negative\",\"PF18063_BB_PF_full_length_sequences.fasta\",\"negative\",\"PF03318_etx_mtx2_full_length_sequences.fasta\",\"negative\",\"negative\",\"negative\",\"negative\",\"negative\",\"PF01117_aerolysin_full_length_sequences.fasta\",\"negative\",\"negative\",\"negative\",\"negative\",\"PF01289_thiol_cytolysin_full_length_sequences.fasta\",\"negative\",\"PF06369_anemone_cytotox_full_length_sequences.fasta\",\"negative\",\"negative\",\"PF01117_aerolysin_full_length_sequences.fasta\",\"negative\",\"PF12261_t_hemolysin_full_length_sequences.fasta\",\"negative\",\"negative\",\"PF06355_aegerolysin_full_length_sequences.fasta\",\"PF12261_t_hemolysin_full_length_sequences.fasta\",\"negative\",\"PF03318_etx_mtx2_full_length_sequences.fasta\",\"PF01338_Bac_thur_toxin_full_length_sequences.fasta\",\"negative\",\"negative\",\"negative\",\"PF06369_anemone_cytotox_full_length_sequences.fasta\",\"negative\",\"negative\",\"PF00087_toxin_tolip_full_length_sequences.fasta\",\"PF01117_aerolysin_full_length_sequences.fasta\",\"negative\",\"negative\",\"negative\",\"PF06355_aegerolysin_full_length_sequences.fasta\",\"negative\",\"negative\",\"PF06355_aegerolysin_full_length_sequences.fasta\",\"negative\",\"PF01117_aerolysin_full_length_sequences.fasta\",\"negative\",\"negative\",\"PF00087_toxin_tolip_full_length_sequences.fasta\",\"negative\",\"negative\",\"negative\",\"negative\",\"negative\",\"PF07367_fb_lectin_full_length_sequences.fasta\",\"negative\",\"negative\",\"PF00087_toxin_tolip_full_length_sequences.fasta\",\"negative\",\"negative\",\"negative\",\"PF07367_fb_lectin_full_length_sequences.fasta\",\"negative\",\"PF01289_thiol_cytolysin_full_length_sequences.fasta\",\"negative\",\"negative\",\"negative\",\"negative\",\"negative\",\"PF00555_Endotoxin_M_uniprot.fasta\",\"PF06109_hlye_full_length_sequences.fasta\",\"negative\",\"negative\",\"negative\",\"PF03945_Endotoxin_N_full_length_sequences.fasta\",\"negative\",\"PF12261_t_hemolysin_full_length_sequences.fasta\",\"PF02382_rtx_full_length_sequences.fasta\",\"PF12261_t_hemolysin_full_length_sequences.fasta\",\"PF06355_aegerolysin_full_length_sequences.fasta\",\"PF01823_macpf_uniprot.fasta\",\"negative\",\"negative\",\"negative\",\"PF03318_etx_mtx2_full_length_sequences.fasta\",\"negative\",\"negative\",\"PF12261_t_hemolysin_full_length_sequences.fasta\",\"negative\",\"negative\",\"negative\",\"negative\",\"negative\",\"negative\",\"PF06369_anemone_cytotox_full_length_sequences.fasta\",\"PF01117_aerolysin_full_length_sequences.fasta\",\"PF03318_etx_mtx2_full_length_sequences.fasta\",\"negative\",\"PF06369_anemone_cytotox_full_length_sequences.fasta\",\"negative\",\"PF11393_T4BSS_dotI_icml_full_length_sequences.fasta\",\"negative\",\"PF12261_t_hemolysin_full_length_sequences.fasta\",\"negative\",\"PF06369_anemone_cytotox_full_length_sequences.fasta\",\"PF03318_etx_mtx2_full_length_sequences.fasta\",\"negative\",\"negative\",\"negative\",\"PF01289_thiol_cytolysin_full_length_sequences.fasta\",\"PF00087_toxin_tolip_full_length_sequences.fasta\",\"PF07367_fb_lectin_full_length_sequences.fasta\",\"PF03945_Endotoxin_N_full_length_sequences.fasta\",\"negative\",\"negative\",\"negative\",\"negative\",\"negative\",\"PF06355_aegerolysin_full_length_sequences.fasta\",\"negative\",\"PF03318_etx_mtx2_full_length_sequences.fasta\",\"negative\",\"PF12920_tcda_tcdb_pore_full_length_sequences.fasta\",\"negative\",\"negative\",\"PF07968_leukocidin_full_length_sequences.fasta\",\"negative\",\"PF01117_aerolysin_full_length_sequences.fasta\",\"negative\",\"negative\",\"negative\",\"negative\",\"negative\",\"negative\",\"negative\",\"negative\",\"PF06369_anemone_cytotox_full_length_sequences.fasta\",\"negative\",\"negative\",\"PF00087_toxin_tolip_full_length_sequences.fasta\",\"PF11565_porb_full_length_sequences.fasta\",\"PF07968_leukocidin_full_length_sequences.fasta\",\"negative\",\"PF03318_etx_mtx2_full_length_sequences.fasta\",\"negative\",\"PF01289_thiol_cytolysin_full_length_sequences.fasta\",\"negative\",\"negative\",\"PF12261_t_hemolysin_full_length_sequences.fasta\",\"PF07367_fb_lectin_full_length_sequences.fasta\",\"negative\",\"negative\",\"negative\",\"negative\",\"negative\",\"negative\",\"PF01289_thiol_cytolysin_full_length_sequences.fasta\",\"negative\",\"PF01338_Bac_thur_toxin_full_length_sequences.fasta\",\"negative\",\"PF03944_Endotoxin_C_uniprot.fasta\",\"negative\",\"negative\",\"PF11393_T4BSS_dotI_icml_full_length_sequences.fasta\",\"negative\",\"PF00555_Endotoxin_M_uniprot.fasta\",\"PF07367_fb_lectin_full_length_sequences.fasta\",\"PF02382_rtx_full_length_sequences.fasta\",\"negative\",\"negative\",\"PF11393_T4BSS_dotI_icml_full_length_sequences.fasta\",\"negative\",\"PF06355_aegerolysin_full_length_sequences.fasta\",\"PF03318_etx_mtx2_full_length_sequences.fasta\",\"negative\",\"PF06369_anemone_cytotox_full_length_sequences.fasta\",\"negative\",\"PF03318_etx_mtx2_full_length_sequences.fasta\",\"negative\",\"negative\",\"negative\",\"negative\",\"negative\",\"PF06369_anemone_cytotox_full_length_sequences.fasta\",\"PF01338_Bac_thur_toxin_full_length_sequences.fasta\",\"PF05802_espb_full_length_sequences.fasta\",\"PF01289_thiol_cytolysin_full_length_sequences.fasta\",\"negative\",\"negative\",\"negative\",\"negative\",\"negative\",\"negative\",\"PF12261_t_hemolysin_full_length_sequences.fasta\",\"PF12261_t_hemolysin_full_length_sequences.fasta\",\"negative\",\"PF11393_T4BSS_dotI_icml_full_length_sequences.fasta\",\"negative\",\"negative\",\"negative\",\"negative\",\"negative\",\"negative\",\"PF12261_t_hemolysin_full_length_sequences.fasta\",\"PF03945_Endotoxin_N_full_length_sequences.fasta\",\"negative\",\"negative\",\"negative\",\"negative\",\"PF01289_thiol_cytolysin_full_length_sequences.fasta\",\"PF06369_anemone_cytotox_full_length_sequences.fasta\",\"negative\",\"PF00087_toxin_tolip_full_length_sequences.fasta\",\"negative\",\"PF01117_aerolysin_full_length_sequences.fasta\",\"negative\",\"negative\",\"negative\",\"negative\",\"PF03318_etx_mtx2_full_length_sequences.fasta\",\"negative\",\"negative\",\"negative\",\"PF03318_etx_mtx2_full_length_sequences.fasta\",\"negative\",\"PF12261_t_hemolysin_full_length_sequences.fasta\",\"PF06355_aegerolysin_full_length_sequences.fasta\",\"PF01024_colicin_full_length_sequences.fasta\",\"PF07367_fb_lectin_full_length_sequences.fasta\",\"negative\",\"negative\",\"negative\",\"negative\",\"negative\",\"negative\",\"negative\",\"PF06369_anemone_cytotox_full_length_sequences.fasta\",\"PF00555_Endotoxin_M_uniprot.fasta\",\"PF12261_t_hemolysin_full_length_sequences.fasta\",\"PF12261_t_hemolysin_full_length_sequences.fasta\",\"PF01289_thiol_cytolysin_full_length_sequences.fasta\",\"negative\",\"negative\",\"PF01024_colicin_full_length_sequences.fasta\",\"PF06355_aegerolysin_full_length_sequences.fasta\",\"PF06369_anemone_cytotox_full_length_sequences.fasta\",\"PF01117_aerolysin_full_length_sequences.fasta\",\"negative\",\"negative\",\"negative\",\"PF11393_T4BSS_dotI_icml_full_length_sequences.fasta\",\"negative\",\"negative\",\"negative\",\"PF01289_thiol_cytolysin_full_length_sequences.fasta\",\"negative\",\"negative\",\"negative\",\"PF01117_aerolysin_full_length_sequences.fasta\",\"negative\",\"negative\",\"negative\",\"negative\",\"negative\",\"PF11393_T4BSS_dotI_icml_full_length_sequences.fasta\",\"PF03318_etx_mtx2_full_length_sequences.fasta\",\"PF03318_etx_mtx2_full_length_sequences.fasta\",\"PF03318_etx_mtx2_full_length_sequences.fasta\",\"PF06355_aegerolysin_full_length_sequences.fasta\",\"negative\",\"negative\",\"negative\",\"PF06369_anemone_cytotox_full_length_sequences.fasta\",\"negative\",\"PF01823_macpf_uniprot.fasta\",\"negative\",\"negative\",\"PF12261_t_hemolysin_full_length_sequences.fasta\",\"PF03318_etx_mtx2_full_length_sequences.fasta\",\"negative\",\"negative\",\"negative\",\"PF12261_t_hemolysin_full_length_sequences.fasta\",\"PF03945_Endotoxin_N_full_length_sequences.fasta\",\"PF01117_aerolysin_full_length_sequences.fasta\",\"negative\",\"PF11565_porb_full_length_sequences.fasta\",\"negative\",\"negative\",\"negative\",\"PF00087_toxin_tolip_full_length_sequences.fasta\",\"negative\",\"negative\",\"negative\",\"negative\",\"negative\",\"negative\",\"negative\",\"PF12261_t_hemolysin_full_length_sequences.fasta\",\"negative\",\"PF06369_anemone_cytotox_full_length_sequences.fasta\",\"PF06355_aegerolysin_full_length_sequences.fasta\",\"negative\",\"negative\",\"PF07367_fb_lectin_full_length_sequences.fasta\",\"PF01289_thiol_cytolysin_full_length_sequences.fasta\",\"negative\",\"negative\",\"PF01117_aerolysin_full_length_sequences.fasta\",\"negative\",\"negative\",\"negative\",\"PF12261_t_hemolysin_full_length_sequences.fasta\",\"PF06369_anemone_cytotox_full_length_sequences.fasta\",\"PF07367_fb_lectin_full_length_sequences.fasta\",\"negative\",\"negative\",\"PF07968_leukocidin_full_length_sequences.fasta\",\"negative\",\"negative\",\"negative\",\"negative\",\"negative\",\"PF01289_thiol_cytolysin_full_length_sequences.fasta\",\"PF03318_etx_mtx2_full_length_sequences.fasta\",\"negative\",\"negative\",\"PF00087_toxin_tolip_full_length_sequences.fasta\",\"negative\",\"PF12261_t_hemolysin_full_length_sequences.fasta\",\"PF01823_macpf_uniprot.fasta\",\"negative\",\"negative\",\"PF06355_aegerolysin_full_length_sequences.fasta\",\"negative\",\"negative\",\"negative\",\"negative\",\"negative\",\"negative\",\"negative\",\"PF03318_etx_mtx2_full_length_sequences.fasta\",\"negative\",\"PF07367_fb_lectin_full_length_sequences.fasta\",\"PF11393_T4BSS_dotI_icml_full_length_sequences.fasta\",\"PF06109_hlye_full_length_sequences.fasta\",\"PF11393_T4BSS_dotI_icml_full_length_sequences.fasta\",\"PF03318_etx_mtx2_full_length_sequences.fasta\",\"negative\",\"negative\",\"negative\",\"negative\",\"PF03945_Endotoxin_N_full_length_sequences.fasta\",\"PF03945_Endotoxin_N_full_length_sequences.fasta\",\"PF03945_Endotoxin_N_full_length_sequences.fasta\",\"PF06355_aegerolysin_full_length_sequences.fasta\",\"negative\",\"negative\",\"PF06369_anemone_cytotox_full_length_sequences.fasta\",\"negative\",\"negative\",\"PF06355_aegerolysin_full_length_sequences.fasta\",\"negative\",\"negative\",\"negative\",\"negative\",\"PF03318_etx_mtx2_full_length_sequences.fasta\",\"negative\",\"negative\",\"PF03318_etx_mtx2_full_length_sequences.fasta\",\"PF01289_thiol_cytolysin_full_length_sequences.fasta\",\"negative\",\"negative\",\"PF06369_anemone_cytotox_full_length_sequences.fasta\",\"negative\",\"negative\",\"negative\",\"PF03945_Endotoxin_N_full_length_sequences.fasta\",\"negative\",\"negative\",\"PF03318_etx_mtx2_full_length_sequences.fasta\",\"negative\",\"PF06355_aegerolysin_full_length_sequences.fasta\",\"PF12261_t_hemolysin_full_length_sequences.fasta\",\"PF06369_anemone_cytotox_full_length_sequences.fasta\",\"negative\",\"PF03318_etx_mtx2_full_length_sequences.fasta\",\"negative\",\"negative\",\"negative\",\"negative\",\"PF18684_plyb_c_full_length_sequences.fasta\",\"negative\",\"negative\",\"negative\",\"PF03318_etx_mtx2_full_length_sequences.fasta\",\"negative\",\"negative\",\"PF03318_etx_mtx2_full_length_sequences.fasta\",\"PF01289_thiol_cytolysin_full_length_sequences.fasta\",\"negative\",\"negative\",\"PF03318_etx_mtx2_full_length_sequences.fasta\",\"PF07968_leukocidin_full_length_sequences.fasta\",\"negative\",\"negative\",\"negative\",\"PF12261_t_hemolysin_full_length_sequences.fasta\",\"PF07367_fb_lectin_full_length_sequences.fasta\",\"negative\",\"PF11393_T4BSS_dotI_icml_full_length_sequences.fasta\",\"negative\",\"negative\",\"PF12261_t_hemolysin_full_length_sequences.fasta\",\"PF01823_macpf_uniprot.fasta\",\"negative\",\"PF12261_t_hemolysin_full_length_sequences.fasta\",\"PF05802_espb_full_length_sequences.fasta\",\"negative\",\"PF00087_toxin_tolip_full_length_sequences.fasta\",\"PF01289_thiol_cytolysin_full_length_sequences.fasta\",\"PF01289_thiol_cytolysin_full_length_sequences.fasta\",\"negative\",\"negative\",\"negative\",\"negative\",\"negative\",\"PF03318_etx_mtx2_full_length_sequences.fasta\",\"PF18063_BB_PF_full_length_sequences.fasta\",\"PF03318_etx_mtx2_full_length_sequences.fasta\",\"negative\",\"negative\",\"negative\",\"PF01823_macpf_uniprot.fasta\",\"negative\",\"PF03318_etx_mtx2_full_length_sequences.fasta\",\"negative\",\"PF12261_t_hemolysin_full_length_sequences.fasta\",\"negative\",\"negative\",\"negative\",\"negative\",\"PF18063_BB_PF_full_length_sequences.fasta\",\"negative\",\"PF01289_thiol_cytolysin_full_length_sequences.fasta\",\"negative\",\"PF04877_harpin_full_length_sequences.fasta\",\"negative\",\"negative\",\"negative\",\"PF03318_etx_mtx2_full_length_sequences.fasta\",\"negative\",\"negative\",\"negative\",\"PF00087_toxin_tolip_full_length_sequences.fasta\",\"PF06355_aegerolysin_full_length_sequences.fasta\",\"negative\",\"PF12920_tcda_tcdb_pore_full_length_sequences.fasta\",\"PF12261_t_hemolysin_full_length_sequences.fasta\",\"PF11393_T4BSS_dotI_icml_full_length_sequences.fasta\",\"PF01024_colicin_full_length_sequences.fasta\",\"PF11393_T4BSS_dotI_icml_full_length_sequences.fasta\",\"PF07367_fb_lectin_full_length_sequences.fasta\",\"negative\",\"PF03318_etx_mtx2_full_length_sequences.fasta\",\"PF01289_thiol_cytolysin_full_length_sequences.fasta\",\"negative\",\"negative\",\"negative\",\"negative\",\"negative\",\"negative\",\"negative\",\"PF06355_aegerolysin_full_length_sequences.fasta\",\"negative\",\"negative\",\"PF01289_thiol_cytolysin_full_length_sequences.fasta\",\"negative\",\"negative\",\"negative\",\"negative\",\"negative\",\"negative\",\"PF18063_BB_PF_full_length_sequences.fasta\",\"PF03318_etx_mtx2_full_length_sequences.fasta\",\"negative\",\"negative\",\"negative\",\"negative\",\"negative\",\"negative\",\"PF01117_aerolysin_full_length_sequences.fasta\",\"PF03318_etx_mtx2_full_length_sequences.fasta\",\"PF12261_t_hemolysin_full_length_sequences.fasta\",\"negative\",\"negative\",\"PF03945_Endotoxin_N_full_length_sequences.fasta\",\"negative\",\"PF03945_Endotoxin_N_full_length_sequences.fasta\",\"negative\",\"PF01024_colicin_full_length_sequences.fasta\",\"negative\",\"PF06355_aegerolysin_full_length_sequences.fasta\",\"negative\",\"negative\",\"negative\",\"negative\",\"negative\",\"negative\",\"PF07968_leukocidin_full_length_sequences.fasta\",\"PF12920_tcda_tcdb_pore_full_length_sequences.fasta\",\"negative\",\"negative\",\"negative\",\"negative\",\"negative\",\"PF06355_aegerolysin_full_length_sequences.fasta\",\"PF12261_t_hemolysin_full_length_sequences.fasta\",\"PF18063_BB_PF_full_length_sequences.fasta\",\"PF12261_t_hemolysin_full_length_sequences.fasta\",\"negative\",\"negative\",\"PF03318_etx_mtx2_full_length_sequences.fasta\",\"negative\",\"negative\",\"negative\",\"negative\",\"PF06355_aegerolysin_full_length_sequences.fasta\",\"negative\",\"negative\",\"negative\",\"negative\",\"negative\",\"PF01024_colicin_full_length_sequences.fasta\",\"negative\",\"negative\",\"PF06369_anemone_cytotox_full_length_sequences.fasta\",\"negative\",\"negative\",\"negative\",\"negative\",\"PF00087_toxin_tolip_full_length_sequences.fasta\",\"negative\",\"PF01823_macpf_uniprot.fasta\",\"PF06355_aegerolysin_full_length_sequences.fasta\",\"negative\",\"PF01289_thiol_cytolysin_full_length_sequences.fasta\",\"negative\",\"negative\",\"negative\",\"negative\",\"negative\",\"PF07968_leukocidin_full_length_sequences.fasta\",\"negative\",\"negative\",\"PF03945_Endotoxin_N_full_length_sequences.fasta\",\"negative\",\"negative\",\"negative\",\"negative\",\"PF01338_Bac_thur_toxin_full_length_sequences.fasta\",\"negative\",\"PF01289_thiol_cytolysin_full_length_sequences.fasta\",\"PF07367_fb_lectin_full_length_sequences.fasta\",\"negative\",\"PF03318_etx_mtx2_full_length_sequences.fasta\",\"negative\",\"PF04877_harpin_full_length_sequences.fasta\",\"negative\",\"PF04877_harpin_full_length_sequences.fasta\",\"negative\",\"negative\",\"negative\",\"negative\",\"PF12261_t_hemolysin_full_length_sequences.fasta\",\"negative\",\"PF03945_Endotoxin_N_full_length_sequences.fasta\",\"negative\",\"PF00087_toxin_tolip_full_length_sequences.fasta\",\"negative\",\"PF01024_colicin_full_length_sequences.fasta\",\"negative\",\"negative\",\"negative\",\"PF03318_etx_mtx2_full_length_sequences.fasta\",\"PF18063_BB_PF_full_length_sequences.fasta\",\"negative\",\"PF03318_etx_mtx2_full_length_sequences.fasta\",\"PF03945_Endotoxin_N_full_length_sequences.fasta\",\"negative\",\"PF01338_Bac_thur_toxin_full_length_sequences.fasta\",\"negative\",\"PF03945_Endotoxin_N_full_length_sequences.fasta\",\"PF11393_T4BSS_dotI_icml_full_length_sequences.fasta\",\"PF12261_t_hemolysin_full_length_sequences.fasta\",\"negative\",\"negative\",\"negative\",\"PF12261_t_hemolysin_full_length_sequences.fasta\",\"negative\",\"negative\",\"PF01117_aerolysin_full_length_sequences.fasta\",\"PF01289_thiol_cytolysin_full_length_sequences.fasta\",\"PF03945_Endotoxin_N_full_length_sequences.fasta\",\"PF00087_toxin_tolip_full_length_sequences.fasta\",\"negative\",\"PF00555_Endotoxin_M_uniprot.fasta\",\"negative\",\"PF06369_anemone_cytotox_full_length_sequences.fasta\",\"PF12261_t_hemolysin_full_length_sequences.fasta\",\"PF01289_thiol_cytolysin_full_length_sequences.fasta\",\"PF01289_thiol_cytolysin_full_length_sequences.fasta\",\"negative\",\"PF01289_thiol_cytolysin_full_length_sequences.fasta\",\"PF03318_etx_mtx2_full_length_sequences.fasta\",\"negative\",\"negative\",\"PF03945_Endotoxin_N_full_length_sequences.fasta\",\"PF00087_toxin_tolip_full_length_sequences.fasta\",\"negative\",\"PF06109_hlye_full_length_sequences.fasta\",\"negative\",\"negative\",\"PF11393_T4BSS_dotI_icml_full_length_sequences.fasta\",\"negative\",\"PF06369_anemone_cytotox_full_length_sequences.fasta\",\"negative\",\"PF01289_thiol_cytolysin_full_length_sequences.fasta\",\"negative\",\"negative\",\"PF06109_hlye_full_length_sequences.fasta\",\"negative\",\"negative\",\"negative\",\"negative\",\"PF01289_thiol_cytolysin_full_length_sequences.fasta\",\"PF01338_Bac_thur_toxin_full_length_sequences.fasta\",\"PF07367_fb_lectin_full_length_sequences.fasta\",\"negative\",\"negative\",\"negative\",\"negative\",\"PF07968_leukocidin_full_length_sequences.fasta\",\"negative\",\"negative\",\"negative\",\"PF06369_anemone_cytotox_full_length_sequences.fasta\",\"negative\",\"negative\",\"negative\",\"PF12261_t_hemolysin_full_length_sequences.fasta\",\"negative\",\"negative\",\"negative\",\"PF00087_toxin_tolip_full_length_sequences.fasta\",\"negative\",\"PF18063_BB_PF_full_length_sequences.fasta\",\"negative\",\"negative\",\"negative\",\"PF01289_thiol_cytolysin_full_length_sequences.fasta\",\"negative\",\"PF07968_leukocidin_full_length_sequences.fasta\",\"negative\",\"negative\",\"negative\",\"negative\",\"negative\",\"negative\",\"negative\",\"negative\",\"negative\",\"negative\",\"negative\",\"PF11393_T4BSS_dotI_icml_full_length_sequences.fasta\",\"PF01289_thiol_cytolysin_full_length_sequences.fasta\",\"negative\",\"negative\",\"negative\",\"negative\",\"negative\",\"PF11393_T4BSS_dotI_icml_full_length_sequences.fasta\",\"PF03945_Endotoxin_N_full_length_sequences.fasta\",\"negative\",\"negative\",\"PF12261_t_hemolysin_full_length_sequences.fasta\",\"negative\",\"PF12261_t_hemolysin_full_length_sequences.fasta\",\"negative\",\"negative\",\"negative\",\"PF12920_tcda_tcdb_pore_full_length_sequences.fasta\",\"negative\",\"negative\",\"PF03945_Endotoxin_N_full_length_sequences.fasta\",\"PF07367_fb_lectin_full_length_sequences.fasta\",\"negative\",\"PF06109_hlye_full_length_sequences.fasta\",\"PF03318_etx_mtx2_full_length_sequences.fasta\",\"negative\",\"negative\",\"PF12261_t_hemolysin_full_length_sequences.fasta\",\"PF12261_t_hemolysin_full_length_sequences.fasta\",\"PF03318_etx_mtx2_full_length_sequences.fasta\",\"PF01117_aerolysin_full_length_sequences.fasta\",\"negative\",\"negative\",\"PF07367_fb_lectin_full_length_sequences.fasta\",\"negative\",\"negative\",\"negative\",\"negative\",\"PF07367_fb_lectin_full_length_sequences.fasta\",\"negative\",\"negative\",\"PF12261_t_hemolysin_full_length_sequences.fasta\",\"negative\",\"PF05802_espb_full_length_sequences.fasta\",\"negative\",\"PF01117_aerolysin_full_length_sequences.fasta\",\"PF03505_clenterotox_full_length_sequences.fasta\",\"negative\",\"PF18684_plyb_c_full_length_sequences.fasta\",\"PF03318_etx_mtx2_full_length_sequences.fasta\",\"negative\",\"negative\",\"negative\",\"negative\",\"negative\",\"negative\",\"negative\",\"negative\",\"negative\",\"PF06355_aegerolysin_full_length_sequences.fasta\",\"negative\",\"PF04598_gasdermin_uniprot.fasta\",\"PF03318_etx_mtx2_full_length_sequences.fasta\",\"PF06109_hlye_full_length_sequences.fasta\",\"negative\",\"negative\",\"negative\",\"negative\",\"negative\",\"PF11393_T4BSS_dotI_icml_full_length_sequences.fasta\",\"negative\",\"PF01289_thiol_cytolysin_full_length_sequences.fasta\",\"PF11393_T4BSS_dotI_icml_full_length_sequences.fasta\",\"negative\",\"negative\",\"negative\",\"negative\",\"negative\",\"PF06369_anemone_cytotox_full_length_sequences.fasta\",\"negative\",\"PF01289_thiol_cytolysin_full_length_sequences.fasta\",\"negative\",\"PF01823_macpf_uniprot.fasta\",\"PF03945_Endotoxin_N_full_length_sequences.fasta\",\"PF01289_thiol_cytolysin_full_length_sequences.fasta\",\"negative\",\"negative\",\"PF01338_Bac_thur_toxin_full_length_sequences.fasta\",\"negative\",\"PF18063_BB_PF_full_length_sequences.fasta\",\"PF01338_Bac_thur_toxin_full_length_sequences.fasta\",\"negative\",\"PF00555_Endotoxin_M_uniprot.fasta\",\"PF03318_etx_mtx2_full_length_sequences.fasta\",\"negative\",\"PF03318_etx_mtx2_full_length_sequences.fasta\",\"PF12261_t_hemolysin_full_length_sequences.fasta\",\"negative\",\"negative\",\"negative\",\"negative\",\"PF07968_leukocidin_full_length_sequences.fasta\",\"PF00087_toxin_tolip_full_length_sequences.fasta\",\"negative\",\"negative\",\"negative\",\"PF12261_t_hemolysin_full_length_sequences.fasta\",\"negative\",\"PF00087_toxin_tolip_full_length_sequences.fasta\",\"negative\",\"PF01289_thiol_cytolysin_full_length_sequences.fasta\",\"negative\",\"negative\",\"PF03945_Endotoxin_N_full_length_sequences.fasta\",\"negative\",\"PF11393_T4BSS_dotI_icml_full_length_sequences.fasta\",\"PF00087_toxin_tolip_full_length_sequences.fasta\",\"negative\",\"negative\",\"negative\",\"negative\",\"PF06369_anemone_cytotox_full_length_sequences.fasta\",\"PF06109_hlye_full_length_sequences.fasta\",\"negative\",\"negative\",\"PF01117_aerolysin_full_length_sequences.fasta\",\"negative\",\"negative\",\"PF06355_aegerolysin_full_length_sequences.fasta\",\"negative\",\"negative\",\"PF00087_toxin_tolip_full_length_sequences.fasta\",\"negative\",\"PF07968_leukocidin_full_length_sequences.fasta\",\"negative\",\"negative\",\"PF01289_thiol_cytolysin_full_length_sequences.fasta\",\"negative\",\"PF12261_t_hemolysin_full_length_sequences.fasta\",\"PF03318_etx_mtx2_full_length_sequences.fasta\",\"negative\",\"negative\",\"negative\",\"PF07968_leukocidin_full_length_sequences.fasta\",\"PF03944_Endotoxin_C_uniprot.fasta\",\"negative\",\"PF03318_etx_mtx2_full_length_sequences.fasta\",\"negative\",\"negative\",\"PF03945_Endotoxin_N_full_length_sequences.fasta\",\"negative\",\"PF18063_BB_PF_full_length_sequences.fasta\",\"negative\",\"PF06369_anemone_cytotox_full_length_sequences.fasta\",\"negative\",\"PF03318_etx_mtx2_full_length_sequences.fasta\",\"PF06369_anemone_cytotox_full_length_sequences.fasta\",\"PF03945_Endotoxin_N_full_length_sequences.fasta\",\"PF03318_etx_mtx2_full_length_sequences.fasta\",\"negative\",\"negative\",\"negative\",\"PF18063_BB_PF_full_length_sequences.fasta\",\"PF12261_t_hemolysin_full_length_sequences.fasta\",\"negative\",\"PF06355_aegerolysin_full_length_sequences.fasta\",\"PF11393_T4BSS_dotI_icml_full_length_sequences.fasta\",\"PF12261_t_hemolysin_full_length_sequences.fasta\",\"negative\",\"PF00087_toxin_tolip_full_length_sequences.fasta\",\"PF06355_aegerolysin_full_length_sequences.fasta\",\"negative\",\"negative\",\"PF11393_T4BSS_dotI_icml_full_length_sequences.fasta\",\"PF03318_etx_mtx2_full_length_sequences.fasta\",\"negative\",\"PF11393_T4BSS_dotI_icml_full_length_sequences.fasta\",\"negative\",\"negative\",\"negative\",\"negative\",\"PF12261_t_hemolysin_full_length_sequences.fasta\",\"negative\",\"PF06355_aegerolysin_full_length_sequences.fasta\",\"negative\",\"PF01289_thiol_cytolysin_full_length_sequences.fasta\",\"negative\",\"negative\",\"PF06109_hlye_full_length_sequences.fasta\",\"PF06369_anemone_cytotox_full_length_sequences.fasta\",\"negative\",\"negative\",\"negative\",\"negative\",\"PF04598_gasdermin_uniprot.fasta\",\"PF11393_T4BSS_dotI_icml_full_length_sequences.fasta\",\"negative\",\"negative\",\"negative\",\"negative\",\"negative\",\"negative\",\"negative\",\"negative\",\"negative\",\"PF03318_etx_mtx2_full_length_sequences.fasta\",\"PF06355_aegerolysin_full_length_sequences.fasta\",\"negative\",\"PF12261_t_hemolysin_full_length_sequences.fasta\",\"negative\",\"negative\",\"negative\",\"negative\",\"negative\",\"PF12261_t_hemolysin_full_length_sequences.fasta\",\"negative\",\"negative\",\"PF03945_Endotoxin_N_full_length_sequences.fasta\",\"PF06369_anemone_cytotox_full_length_sequences.fasta\",\"negative\",\"negative\",\"negative\",\"PF00087_toxin_tolip_full_length_sequences.fasta\",\"negative\",\"negative\",\"PF03318_etx_mtx2_full_length_sequences.fasta\",\"PF03318_etx_mtx2_full_length_sequences.fasta\",\"negative\",\"negative\",\"negative\",\"PF03318_etx_mtx2_full_length_sequences.fasta\",\"negative\",\"PF12261_t_hemolysin_full_length_sequences.fasta\",\"negative\",\"negative\",\"PF03945_Endotoxin_N_full_length_sequences.fasta\",\"PF01289_thiol_cytolysin_full_length_sequences.fasta\",\"negative\",\"negative\",\"PF04598_gasdermin_uniprot.fasta\",\"negative\",\"negative\",\"negative\",\"PF00087_toxin_tolip_full_length_sequences.fasta\",\"PF06369_anemone_cytotox_full_length_sequences.fasta\",\"negative\",\"PF04877_harpin_full_length_sequences.fasta\",\"negative\",\"negative\",\"negative\",\"negative\",\"negative\",\"PF01117_aerolysin_full_length_sequences.fasta\",\"PF11393_T4BSS_dotI_icml_full_length_sequences.fasta\",\"PF11393_T4BSS_dotI_icml_full_length_sequences.fasta\",\"PF05802_espb_full_length_sequences.fasta\",\"negative\",\"negative\",\"PF03318_etx_mtx2_full_length_sequences.fasta\",\"PF12261_t_hemolysin_full_length_sequences.fasta\",\"negative\",\"negative\",\"negative\",\"PF00087_toxin_tolip_full_length_sequences.fasta\",\"PF12261_t_hemolysin_full_length_sequences.fasta\",\"PF01289_thiol_cytolysin_full_length_sequences.fasta\",\"PF03318_etx_mtx2_full_length_sequences.fasta\",\"PF03945_Endotoxin_N_full_length_sequences.fasta\",\"negative\",\"negative\",\"negative\",\"negative\",\"PF17475_binary_toxb_2_full_length_sequences.fasta\",\"PF06355_aegerolysin_full_length_sequences.fasta\",\"negative\",\"negative\",\"negative\",\"PF03318_etx_mtx2_full_length_sequences.fasta\",\"negative\",\"PF11565_porb_full_length_sequences.fasta\",\"negative\",\"negative\",\"PF04877_harpin_full_length_sequences.fasta\",\"PF00087_toxin_tolip_full_length_sequences.fasta\",\"PF01289_thiol_cytolysin_full_length_sequences.fasta\",\"PF03944_Endotoxin_C_uniprot.fasta\",\"negative\",\"negative\",\"PF11565_porb_full_length_sequences.fasta\",\"PF06109_hlye_full_length_sequences.fasta\",\"PF00087_toxin_tolip_full_length_sequences.fasta\",\"PF01289_thiol_cytolysin_full_length_sequences.fasta\",\"negative\",\"negative\",\"negative\",\"PF12261_t_hemolysin_full_length_sequences.fasta\",\"negative\",\"PF12261_t_hemolysin_full_length_sequences.fasta\",\"PF06369_anemone_cytotox_full_length_sequences.fasta\",\"PF01117_aerolysin_full_length_sequences.fasta\",\"PF18063_BB_PF_full_length_sequences.fasta\",\"negative\",\"PF12261_t_hemolysin_full_length_sequences.fasta\",\"negative\",\"PF00087_toxin_tolip_full_length_sequences.fasta\",\"PF00087_toxin_tolip_full_length_sequences.fasta\",\"negative\",\"PF03318_etx_mtx2_full_length_sequences.fasta\",\"PF12261_t_hemolysin_full_length_sequences.fasta\",\"negative\",\"negative\",\"negative\",\"PF11393_T4BSS_dotI_icml_full_length_sequences.fasta\",\"negative\",\"PF01289_thiol_cytolysin_full_length_sequences.fasta\",\"negative\",\"negative\",\"negative\",\"PF06109_hlye_full_length_sequences.fasta\",\"negative\",\"negative\",\"negative\",\"negative\",\"negative\",\"negative\",\"PF12261_t_hemolysin_full_length_sequences.fasta\",\"negative\",\"PF01289_thiol_cytolysin_full_length_sequences.fasta\",\"PF00087_toxin_tolip_full_length_sequences.fasta\",\"PF01289_thiol_cytolysin_full_length_sequences.fasta\",\"negative\",\"negative\",\"negative\",\"negative\",\"PF07367_fb_lectin_full_length_sequences.fasta\",\"negative\",\"PF18063_BB_PF_full_length_sequences.fasta\",\"negative\",\"negative\",\"negative\",\"PF03318_etx_mtx2_full_length_sequences.fasta\",\"negative\",\"PF12920_tcda_tcdb_pore_full_length_sequences.fasta\",\"PF12920_tcda_tcdb_pore_full_length_sequences.fasta\",\"negative\",\"PF12261_t_hemolysin_full_length_sequences.fasta\",\"PF03318_etx_mtx2_full_length_sequences.fasta\",\"negative\",\"negative\",\"negative\",\"negative\",\"negative\",\"PF01117_aerolysin_full_length_sequences.fasta\",\"negative\",\"PF04877_harpin_full_length_sequences.fasta\",\"negative\",\"PF06369_anemone_cytotox_full_length_sequences.fasta\",\"PF12261_t_hemolysin_full_length_sequences.fasta\",\"PF12261_t_hemolysin_full_length_sequences.fasta\",\"PF03945_Endotoxin_N_full_length_sequences.fasta\",\"PF03318_etx_mtx2_full_length_sequences.fasta\",\"PF07968_leukocidin_full_length_sequences.fasta\",\"PF01289_thiol_cytolysin_full_length_sequences.fasta\",\"negative\",\"PF11393_T4BSS_dotI_icml_full_length_sequences.fasta\",\"negative\",\"negative\",\"PF11393_T4BSS_dotI_icml_full_length_sequences.fasta\",\"negative\",\"PF03318_etx_mtx2_full_length_sequences.fasta\",\"negative\",\"negative\",\"negative\",\"PF01289_thiol_cytolysin_full_length_sequences.fasta\",\"PF11393_T4BSS_dotI_icml_full_length_sequences.fasta\",\"negative\",\"PF00087_toxin_tolip_full_length_sequences.fasta\",\"negative\",\"PF11393_T4BSS_dotI_icml_full_length_sequences.fasta\",\"PF06355_aegerolysin_full_length_sequences.fasta\",\"PF06355_aegerolysin_full_length_sequences.fasta\",\"negative\",\"negative\",\"negative\",\"PF12261_t_hemolysin_full_length_sequences.fasta\",\"PF12261_t_hemolysin_full_length_sequences.fasta\",\"PF03318_etx_mtx2_full_length_sequences.fasta\",\"PF12261_t_hemolysin_full_length_sequences.fasta\",\"PF12920_tcda_tcdb_pore_full_length_sequences.fasta\",\"negative\",\"PF03318_etx_mtx2_full_length_sequences.fasta\",\"negative\",\"negative\",\"PF06355_aegerolysin_full_length_sequences.fasta\",\"PF06369_anemone_cytotox_full_length_sequences.fasta\",\"negative\",\"negative\",\"negative\",\"negative\",\"negative\",\"negative\",\"negative\",\"negative\",\"negative\",\"negative\",\"negative\",\"PF11393_T4BSS_dotI_icml_full_length_sequences.fasta\",\"negative\",\"negative\",\"negative\",\"negative\",\"PF17475_binary_toxb_2_full_length_sequences.fasta\",\"negative\",\"negative\",\"negative\",\"PF03318_etx_mtx2_full_length_sequences.fasta\",\"negative\",\"negative\",\"negative\",\"negative\",\"negative\",\"negative\",\"PF03945_Endotoxin_N_full_length_sequences.fasta\",\"negative\",\"PF01289_thiol_cytolysin_full_length_sequences.fasta\",\"negative\",\"negative\",\"negative\",\"negative\",\"PF03318_etx_mtx2_full_length_sequences.fasta\",\"PF06355_aegerolysin_full_length_sequences.fasta\",\"PF01289_thiol_cytolysin_full_length_sequences.fasta\",\"negative\",\"negative\",\"negative\",\"negative\",\"PF01024_colicin_full_length_sequences.fasta\",\"negative\",\"PF00087_toxin_tolip_full_length_sequences.fasta\",\"negative\",\"PF03318_etx_mtx2_full_length_sequences.fasta\",\"negative\",\"negative\",\"PF07367_fb_lectin_full_length_sequences.fasta\",\"PF03318_etx_mtx2_full_length_sequences.fasta\",\"PF07367_fb_lectin_full_length_sequences.fasta\",\"PF12261_t_hemolysin_full_length_sequences.fasta\",\"negative\",\"negative\",\"negative\",\"negative\",\"negative\",\"PF00087_toxin_tolip_full_length_sequences.fasta\",\"PF01289_thiol_cytolysin_full_length_sequences.fasta\",\"negative\",\"negative\",\"PF01338_Bac_thur_toxin_full_length_sequences.fasta\",\"negative\",\"negative\",\"negative\",\"negative\",\"negative\",\"negative\",\"negative\",\"negative\",\"negative\",\"negative\",\"PF03318_etx_mtx2_full_length_sequences.fasta\",\"negative\",\"negative\",\"negative\",\"negative\",\"PF12261_t_hemolysin_full_length_sequences.fasta\",\"negative\",\"PF11393_T4BSS_dotI_icml_full_length_sequences.fasta\",\"negative\",\"PF07968_leukocidin_full_length_sequences.fasta\",\"negative\",\"negative\",\"PF06355_aegerolysin_full_length_sequences.fasta\",\"negative\",\"PF07367_fb_lectin_full_length_sequences.fasta\",\"negative\",\"negative\",\"negative\",\"negative\",\"negative\",\"PF11393_T4BSS_dotI_icml_full_length_sequences.fasta\",\"negative\",\"PF18063_BB_PF_full_length_sequences.fasta\",\"PF01024_colicin_full_length_sequences.fasta\",\"negative\",\"negative\",\"negative\",\"negative\",\"PF01117_aerolysin_full_length_sequences.fasta\",\"negative\",\"PF12261_t_hemolysin_full_length_sequences.fasta\",\"negative\",\"negative\",\"negative\",\"negative\",\"negative\",\"negative\",\"negative\",\"PF12261_t_hemolysin_full_length_sequences.fasta\",\"negative\",\"negative\",\"negative\",\"negative\",\"PF06369_anemone_cytotox_full_length_sequences.fasta\",\"negative\",\"negative\",\"negative\",\"PF07367_fb_lectin_full_length_sequences.fasta\",\"PF12261_t_hemolysin_full_length_sequences.fasta\",\"negative\",\"negative\",\"PF12261_t_hemolysin_full_length_sequences.fasta\",\"negative\",\"negative\",\"PF03318_etx_mtx2_full_length_sequences.fasta\",\"PF18684_plyb_c_full_length_sequences.fasta\",\"negative\",\"PF01289_thiol_cytolysin_full_length_sequences.fasta\",\"negative\",\"negative\",\"negative\",\"negative\",\"negative\",\"negative\",\"PF12261_t_hemolysin_full_length_sequences.fasta\",\"negative\",\"negative\",\"negative\",\"negative\",\"PF03318_etx_mtx2_full_length_sequences.fasta\",\"negative\",\"negative\",\"negative\",\"negative\",\"PF03318_etx_mtx2_full_length_sequences.fasta\",\"negative\",\"PF01823_macpf_uniprot.fasta\",\"negative\",\"negative\",\"PF11393_T4BSS_dotI_icml_full_length_sequences.fasta\",\"PF03318_etx_mtx2_full_length_sequences.fasta\",\"PF12261_t_hemolysin_full_length_sequences.fasta\",\"negative\",\"negative\",\"negative\",\"negative\",\"negative\",\"negative\",\"PF03318_etx_mtx2_full_length_sequences.fasta\",\"negative\",\"negative\",\"negative\",\"negative\",\"PF06109_hlye_full_length_sequences.fasta\",\"PF03945_Endotoxin_N_full_length_sequences.fasta\",\"PF07968_leukocidin_full_length_sequences.fasta\",\"negative\",\"PF18063_BB_PF_full_length_sequences.fasta\",\"PF01289_thiol_cytolysin_full_length_sequences.fasta\",\"negative\",\"negative\",\"negative\",\"negative\",\"PF04877_harpin_full_length_sequences.fasta\",\"negative\",\"negative\",\"PF11393_T4BSS_dotI_icml_full_length_sequences.fasta\",\"PF03318_etx_mtx2_full_length_sequences.fasta\",\"PF03318_etx_mtx2_full_length_sequences.fasta\",\"PF07968_leukocidin_full_length_sequences.fasta\",\"negative\",\"PF01117_aerolysin_full_length_sequences.fasta\",\"negative\",\"negative\",\"PF03318_etx_mtx2_full_length_sequences.fasta\",\"negative\",\"negative\",\"PF01117_aerolysin_full_length_sequences.fasta\",\"negative\",\"PF03318_etx_mtx2_full_length_sequences.fasta\",\"negative\",\"negative\",\"negative\",\"PF03945_Endotoxin_N_full_length_sequences.fasta\",\"PF06109_hlye_full_length_sequences.fasta\",\"negative\",\"negative\",\"PF03318_etx_mtx2_full_length_sequences.fasta\",\"negative\",\"negative\",\"negative\",\"negative\",\"negative\",\"negative\",\"negative\",\"PF01289_thiol_cytolysin_full_length_sequences.fasta\",\"negative\",\"PF18063_BB_PF_full_length_sequences.fasta\",\"PF01117_aerolysin_full_length_sequences.fasta\",\"negative\",\"negative\",\"negative\",\"PF12261_t_hemolysin_full_length_sequences.fasta\",\"negative\",\"negative\",\"negative\",\"negative\",\"PF06355_aegerolysin_full_length_sequences.fasta\",\"negative\",\"negative\",\"PF01024_colicin_full_length_sequences.fasta\",\"PF01289_thiol_cytolysin_full_length_sequences.fasta\",\"negative\",\"PF03318_etx_mtx2_full_length_sequences.fasta\",\"PF12261_t_hemolysin_full_length_sequences.fasta\",\"negative\",\"PF05802_espb_full_length_sequences.fasta\",\"PF03318_etx_mtx2_full_length_sequences.fasta\",\"PF03318_etx_mtx2_full_length_sequences.fasta\",\"PF01117_aerolysin_full_length_sequences.fasta\",\"PF03318_etx_mtx2_full_length_sequences.fasta\",\"PF01289_thiol_cytolysin_full_length_sequences.fasta\",\"negative\",\"PF03318_etx_mtx2_full_length_sequences.fasta\",\"negative\",\"negative\",\"negative\",\"negative\",\"negative\",\"PF04877_harpin_full_length_sequences.fasta\",\"negative\",\"PF12920_tcda_tcdb_pore_full_length_sequences.fasta\",\"negative\",\"PF05802_espb_full_length_sequences.fasta\",\"negative\",\"PF01117_aerolysin_full_length_sequences.fasta\",\"PF01117_aerolysin_full_length_sequences.fasta\",\"negative\",\"negative\",\"PF07367_fb_lectin_full_length_sequences.fasta\",\"PF11393_T4BSS_dotI_icml_full_length_sequences.fasta\",\"negative\",\"negative\",\"negative\",\"PF06355_aegerolysin_full_length_sequences.fasta\",\"PF02382_rtx_full_length_sequences.fasta\",\"PF06369_anemone_cytotox_full_length_sequences.fasta\",\"PF18063_BB_PF_full_length_sequences.fasta\",\"negative\",\"negative\",\"negative\",\"negative\",\"PF02382_rtx_full_length_sequences.fasta\",\"negative\",\"PF01338_Bac_thur_toxin_full_length_sequences.fasta\",\"PF01117_aerolysin_full_length_sequences.fasta\",\"negative\",\"negative\",\"negative\",\"negative\",\"PF00087_toxin_tolip_full_length_sequences.fasta\",\"PF12261_t_hemolysin_full_length_sequences.fasta\",\"negative\",\"PF18063_BB_PF_full_length_sequences.fasta\",\"negative\",\"negative\",\"PF03945_Endotoxin_N_full_length_sequences.fasta\",\"negative\",\"negative\",\"negative\",\"PF04877_harpin_full_length_sequences.fasta\",\"negative\",\"negative\",\"PF01117_aerolysin_full_length_sequences.fasta\",\"PF01289_thiol_cytolysin_full_length_sequences.fasta\",\"negative\",\"negative\",\"PF12261_t_hemolysin_full_length_sequences.fasta\",\"negative\",\"negative\",\"PF03318_etx_mtx2_full_length_sequences.fasta\",\"negative\",\"PF07968_leukocidin_full_length_sequences.fasta\",\"negative\",\"negative\",\"PF01338_Bac_thur_toxin_full_length_sequences.fasta\",\"negative\",\"negative\",\"negative\",\"negative\",\"PF03318_etx_mtx2_full_length_sequences.fasta\",\"PF03318_etx_mtx2_full_length_sequences.fasta\",\"negative\",\"PF03318_etx_mtx2_full_length_sequences.fasta\",\"negative\",\"PF07367_fb_lectin_full_length_sequences.fasta\",\"negative\",\"PF03318_etx_mtx2_full_length_sequences.fasta\",\"PF06355_aegerolysin_full_length_sequences.fasta\",\"negative\",\"negative\",\"negative\",\"negative\",\"negative\",\"negative\",\"PF07367_fb_lectin_full_length_sequences.fasta\",\"PF01117_aerolysin_full_length_sequences.fasta\",\"negative\",\"negative\",\"PF03318_etx_mtx2_full_length_sequences.fasta\",\"negative\",\"negative\",\"negative\",\"negative\",\"negative\",\"negative\",\"negative\",\"PF11393_T4BSS_dotI_icml_full_length_sequences.fasta\",\"negative\",\"negative\",\"negative\",\"negative\",\"negative\",\"PF12261_t_hemolysin_full_length_sequences.fasta\",\"negative\",\"PF11565_porb_full_length_sequences.fasta\",\"negative\",\"negative\",\"negative\",\"negative\",\"PF07367_fb_lectin_full_length_sequences.fasta\",\"PF00087_toxin_tolip_full_length_sequences.fasta\",\"PF01117_aerolysin_full_length_sequences.fasta\",\"negative\",\"negative\",\"PF03318_etx_mtx2_full_length_sequences.fasta\",\"negative\",\"negative\",\"PF03945_Endotoxin_N_full_length_sequences.fasta\",\"negative\",\"negative\",\"negative\",\"negative\",\"negative\",\"negative\",\"PF01338_Bac_thur_toxin_full_length_sequences.fasta\",\"negative\",\"PF05802_espb_full_length_sequences.fasta\",\"negative\",\"negative\",\"negative\",\"negative\",\"negative\",\"negative\",\"negative\",\"negative\",\"negative\",\"negative\",\"PF01117_aerolysin_full_length_sequences.fasta\",\"PF00087_toxin_tolip_full_length_sequences.fasta\",\"PF03945_Endotoxin_N_full_length_sequences.fasta\",\"negative\",\"negative\",\"negative\",\"PF06369_anemone_cytotox_full_length_sequences.fasta\",\"PF06355_aegerolysin_full_length_sequences.fasta\",\"negative\",\"negative\",\"PF01823_macpf_uniprot.fasta\",\"PF06355_aegerolysin_full_length_sequences.fasta\",\"negative\",\"negative\",\"negative\",\"PF01289_thiol_cytolysin_full_length_sequences.fasta\",\"PF12261_t_hemolysin_full_length_sequences.fasta\",\"negative\",\"negative\",\"negative\",\"negative\",\"negative\",\"negative\",\"negative\",\"negative\",\"PF01117_aerolysin_full_length_sequences.fasta\",\"PF01289_thiol_cytolysin_full_length_sequences.fasta\",\"negative\",\"negative\",\"negative\",\"negative\",\"PF18063_BB_PF_full_length_sequences.fasta\",\"negative\",\"negative\",\"PF06355_aegerolysin_full_length_sequences.fasta\",\"PF07367_fb_lectin_full_length_sequences.fasta\",\"PF12261_t_hemolysin_full_length_sequences.fasta\",\"PF12261_t_hemolysin_full_length_sequences.fasta\",\"negative\",\"negative\",\"negative\",\"negative\",\"PF06369_anemone_cytotox_full_length_sequences.fasta\",\"PF03945_Endotoxin_N_full_length_sequences.fasta\",\"negative\",\"negative\",\"negative\",\"PF06355_aegerolysin_full_length_sequences.fasta\",\"PF03318_etx_mtx2_full_length_sequences.fasta\",\"PF07367_fb_lectin_full_length_sequences.fasta\",\"PF03318_etx_mtx2_full_length_sequences.fasta\",\"PF12261_t_hemolysin_full_length_sequences.fasta\",\"negative\",\"negative\",\"PF03318_etx_mtx2_full_length_sequences.fasta\",\"negative\",\"negative\",\"PF06355_aegerolysin_full_length_sequences.fasta\",\"negative\",\"negative\",\"negative\",\"negative\",\"negative\",\"negative\",\"negative\",\"PF00087_toxin_tolip_full_length_sequences.fasta\",\"PF01823_macpf_uniprot.fasta\",\"PF12261_t_hemolysin_full_length_sequences.fasta\",\"negative\",\"negative\",\"PF12261_t_hemolysin_full_length_sequences.fasta\",\"negative\",\"PF18063_BB_PF_full_length_sequences.fasta\",\"negative\",\"negative\",\"negative\",\"negative\",\"negative\",\"negative\",\"negative\",\"PF06355_aegerolysin_full_length_sequences.fasta\",\"PF01289_thiol_cytolysin_full_length_sequences.fasta\",\"negative\",\"negative\",\"PF03318_etx_mtx2_full_length_sequences.fasta\",\"negative\",\"PF06109_hlye_full_length_sequences.fasta\",\"negative\",\"PF12261_t_hemolysin_full_length_sequences.fasta\",\"negative\",\"negative\",\"negative\",\"negative\",\"negative\",\"negative\",\"negative\",\"negative\",\"PF12261_t_hemolysin_full_length_sequences.fasta\",\"PF00555_Endotoxin_M_uniprot.fasta\",\"negative\",\"PF03318_etx_mtx2_full_length_sequences.fasta\",\"PF03945_Endotoxin_N_full_length_sequences.fasta\",\"negative\",\"negative\",\"negative\",\"negative\",\"negative\",\"negative\",\"negative\",\"negative\",\"negative\",\"PF00555_Endotoxin_M_uniprot.fasta\",\"negative\",\"negative\",\"PF01338_Bac_thur_toxin_full_length_sequences.fasta\",\"PF03945_Endotoxin_N_full_length_sequences.fasta\",\"PF12261_t_hemolysin_full_length_sequences.fasta\",\"negative\",\"negative\",\"negative\",\"PF03318_etx_mtx2_full_length_sequences.fasta\",\"PF00555_Endotoxin_M_uniprot.fasta\",\"PF12261_t_hemolysin_full_length_sequences.fasta\",\"negative\",\"negative\",\"negative\",\"PF12261_t_hemolysin_full_length_sequences.fasta\",\"PF07367_fb_lectin_full_length_sequences.fasta\",\"PF03318_etx_mtx2_full_length_sequences.fasta\",\"PF06355_aegerolysin_full_length_sequences.fasta\",\"PF06369_anemone_cytotox_full_length_sequences.fasta\",\"negative\",\"PF12261_t_hemolysin_full_length_sequences.fasta\",\"negative\",\"negative\",\"PF07968_leukocidin_full_length_sequences.fasta\",\"negative\",\"negative\",\"PF06355_aegerolysin_full_length_sequences.fasta\",\"PF12261_t_hemolysin_full_length_sequences.fasta\",\"negative\",\"PF06369_anemone_cytotox_full_length_sequences.fasta\",\"PF03945_Endotoxin_N_full_length_sequences.fasta\",\"PF07367_fb_lectin_full_length_sequences.fasta\",\"negative\",\"negative\",\"PF06369_anemone_cytotox_full_length_sequences.fasta\",\"PF01289_thiol_cytolysin_full_length_sequences.fasta\",\"PF11393_T4BSS_dotI_icml_full_length_sequences.fasta\",\"negative\",\"negative\",\"negative\",\"negative\",\"PF03945_Endotoxin_N_full_length_sequences.fasta\",\"negative\",\"negative\",\"negative\",\"PF06355_aegerolysin_full_length_sequences.fasta\",\"negative\",\"negative\",\"PF03318_etx_mtx2_full_length_sequences.fasta\",\"PF03318_etx_mtx2_full_length_sequences.fasta\",\"PF00087_toxin_tolip_full_length_sequences.fasta\",\"negative\",\"PF11393_T4BSS_dotI_icml_full_length_sequences.fasta\",\"negative\",\"negative\",\"negative\",\"PF03945_Endotoxin_N_full_length_sequences.fasta\",\"PF07367_fb_lectin_full_length_sequences.fasta\",\"negative\",\"negative\",\"negative\",\"negative\",\"negative\",\"negative\",\"PF11393_T4BSS_dotI_icml_full_length_sequences.fasta\",\"PF12261_t_hemolysin_full_length_sequences.fasta\",\"negative\",\"negative\",\"PF06369_anemone_cytotox_full_length_sequences.fasta\",\"negative\",\"negative\",\"negative\",\"negative\",\"PF06355_aegerolysin_full_length_sequences.fasta\",\"negative\",\"PF01117_aerolysin_full_length_sequences.fasta\",\"negative\",\"negative\",\"negative\",\"negative\",\"PF00087_toxin_tolip_full_length_sequences.fasta\",\"PF18063_BB_PF_full_length_sequences.fasta\",\"negative\",\"negative\",\"PF06369_anemone_cytotox_full_length_sequences.fasta\",\"PF00555_Endotoxin_M_uniprot.fasta\",\"negative\",\"negative\",\"negative\",\"negative\",\"negative\",\"PF07367_fb_lectin_full_length_sequences.fasta\",\"negative\",\"PF12261_t_hemolysin_full_length_sequences.fasta\",\"negative\",\"negative\",\"negative\",\"PF03318_etx_mtx2_full_length_sequences.fasta\",\"negative\",\"negative\",\"PF06355_aegerolysin_full_length_sequences.fasta\",\"PF00087_toxin_tolip_full_length_sequences.fasta\",\"negative\",\"negative\",\"negative\",\"negative\",\"PF06355_aegerolysin_full_length_sequences.fasta\",\"negative\",\"PF07968_leukocidin_full_length_sequences.fasta\",\"negative\",\"PF11565_porb_full_length_sequences.fasta\",\"PF11393_T4BSS_dotI_icml_full_length_sequences.fasta\",\"negative\",\"PF11393_T4BSS_dotI_icml_full_length_sequences.fasta\",\"PF11393_T4BSS_dotI_icml_full_length_sequences.fasta\",\"negative\",\"negative\",\"PF06369_anemone_cytotox_full_length_sequences.fasta\",\"PF12261_t_hemolysin_full_length_sequences.fasta\",\"negative\",\"pf05105_phage_holin_4_1_uniprot.fasta\",\"PF12261_t_hemolysin_full_length_sequences.fasta\",\"PF00087_toxin_tolip_full_length_sequences.fasta\",\"negative\",\"PF06109_hlye_full_length_sequences.fasta\",\"negative\",\"PF11393_T4BSS_dotI_icml_full_length_sequences.fasta\",\"PF04877_harpin_full_length_sequences.fasta\",\"PF01117_aerolysin_full_length_sequences.fasta\",\"negative\",\"PF11393_T4BSS_dotI_icml_full_length_sequences.fasta\",\"PF03318_etx_mtx2_full_length_sequences.fasta\",\"negative\",\"negative\",\"negative\",\"PF06369_anemone_cytotox_full_length_sequences.fasta\",\"negative\",\"negative\",\"PF07968_leukocidin_full_length_sequences.fasta\",\"negative\",\"negative\",\"negative\",\"negative\",\"negative\",\"negative\",\"negative\",\"negative\",\"PF12261_t_hemolysin_full_length_sequences.fasta\",\"PF06355_aegerolysin_full_length_sequences.fasta\",\"negative\",\"negative\",\"negative\",\"negative\",\"negative\",\"PF03318_etx_mtx2_full_length_sequences.fasta\",\"PF12261_t_hemolysin_full_length_sequences.fasta\",\"negative\",\"negative\",\"PF07367_fb_lectin_full_length_sequences.fasta\",\"negative\",\"negative\",\"negative\",\"PF03318_etx_mtx2_full_length_sequences.fasta\",\"negative\",\"negative\",\"negative\",\"negative\",\"negative\",\"PF00087_toxin_tolip_full_length_sequences.fasta\",\"negative\",\"PF01117_aerolysin_full_length_sequences.fasta\",\"negative\",\"pf05105_phage_holin_4_1_uniprot.fasta\",\"PF03318_etx_mtx2_full_length_sequences.fasta\",\"PF01117_aerolysin_full_length_sequences.fasta\",\"negative\",\"PF11393_T4BSS_dotI_icml_full_length_sequences.fasta\",\"negative\",\"PF11393_T4BSS_dotI_icml_full_length_sequences.fasta\",\"negative\",\"negative\",\"PF01289_thiol_cytolysin_full_length_sequences.fasta\",\"negative\",\"negative\",\"negative\",\"PF03945_Endotoxin_N_full_length_sequences.fasta\",\"negative\",\"negative\",\"PF01024_colicin_full_length_sequences.fasta\",\"PF11393_T4BSS_dotI_icml_full_length_sequences.fasta\",\"negative\",\"negative\",\"negative\",\"PF11393_T4BSS_dotI_icml_full_length_sequences.fasta\",\"PF17475_binary_toxb_2_full_length_sequences.fasta\",\"negative\",\"PF01117_aerolysin_full_length_sequences.fasta\",\"PF06369_anemone_cytotox_full_length_sequences.fasta\",\"PF07968_leukocidin_full_length_sequences.fasta\",\"negative\",\"negative\",\"negative\",\"negative\",\"PF07367_fb_lectin_full_length_sequences.fasta\",\"negative\",\"negative\",\"PF12261_t_hemolysin_full_length_sequences.fasta\",\"negative\",\"PF06109_hlye_full_length_sequences.fasta\",\"negative\",\"negative\",\"negative\",\"negative\",\"PF01338_Bac_thur_toxin_full_length_sequences.fasta\",\"PF11393_T4BSS_dotI_icml_full_length_sequences.fasta\",\"PF12261_t_hemolysin_full_length_sequences.fasta\",\"negative\",\"negative\",\"negative\",\"PF03505_clenterotox_full_length_sequences.fasta\",\"negative\",\"PF06369_anemone_cytotox_full_length_sequences.fasta\",\"negative\",\"PF12261_t_hemolysin_full_length_sequences.fasta\",\"negative\",\"negative\",\"negative\",\"negative\",\"negative\",\"negative\",\"negative\",\"negative\",\"negative\",\"PF11565_porb_full_length_sequences.fasta\",\"PF12261_t_hemolysin_full_length_sequences.fasta\",\"negative\",\"negative\",\"PF06369_anemone_cytotox_full_length_sequences.fasta\",\"negative\",\"negative\",\"negative\",\"negative\",\"negative\",\"negative\",\"PF07367_fb_lectin_full_length_sequences.fasta\",\"negative\",\"negative\",\"negative\",\"negative\",\"PF01338_Bac_thur_toxin_full_length_sequences.fasta\",\"negative\",\"negative\",\"PF06369_anemone_cytotox_full_length_sequences.fasta\",\"negative\",\"PF03318_etx_mtx2_full_length_sequences.fasta\",\"negative\",\"PF07367_fb_lectin_full_length_sequences.fasta\",\"negative\",\"PF06369_anemone_cytotox_full_length_sequences.fasta\",\"PF07367_fb_lectin_full_length_sequences.fasta\",\"PF06369_anemone_cytotox_full_length_sequences.fasta\",\"negative\",\"PF06369_anemone_cytotox_full_length_sequences.fasta\",\"negative\",\"negative\",\"PF01338_Bac_thur_toxin_full_length_sequences.fasta\",\"PF06109_hlye_full_length_sequences.fasta\",\"negative\",\"PF12261_t_hemolysin_full_length_sequences.fasta\",\"PF06369_anemone_cytotox_full_length_sequences.fasta\",\"PF11393_T4BSS_dotI_icml_full_length_sequences.fasta\",\"PF11393_T4BSS_dotI_icml_full_length_sequences.fasta\",\"negative\",\"negative\",\"PF03945_Endotoxin_N_full_length_sequences.fasta\",\"negative\",\"negative\",\"negative\",\"negative\",\"PF18684_plyb_c_full_length_sequences.fasta\",\"negative\",\"PF04877_harpin_full_length_sequences.fasta\",\"negative\",\"PF04877_harpin_full_length_sequences.fasta\",\"PF01338_Bac_thur_toxin_full_length_sequences.fasta\",\"negative\",\"negative\",\"PF01117_aerolysin_full_length_sequences.fasta\",\"negative\",\"negative\",\"PF00087_toxin_tolip_full_length_sequences.fasta\",\"negative\",\"negative\",\"negative\",\"PF03318_etx_mtx2_full_length_sequences.fasta\",\"negative\",\"negative\",\"PF12261_t_hemolysin_full_length_sequences.fasta\",\"negative\",\"PF12261_t_hemolysin_full_length_sequences.fasta\",\"PF06109_hlye_full_length_sequences.fasta\",\"PF00087_toxin_tolip_full_length_sequences.fasta\",\"pf05105_phage_holin_4_1_uniprot.fasta\",\"negative\",\"negative\",\"PF03945_Endotoxin_N_full_length_sequences.fasta\",\"negative\",\"PF11393_T4BSS_dotI_icml_full_length_sequences.fasta\",\"negative\",\"negative\",\"negative\",\"negative\",\"negative\",\"negative\",\"PF06355_aegerolysin_full_length_sequences.fasta\",\"PF06369_anemone_cytotox_full_length_sequences.fasta\",\"negative\",\"negative\",\"PF12261_t_hemolysin_full_length_sequences.fasta\",\"negative\",\"PF00087_toxin_tolip_full_length_sequences.fasta\",\"PF06369_anemone_cytotox_full_length_sequences.fasta\",\"negative\",\"PF18063_BB_PF_full_length_sequences.fasta\",\"negative\",\"negative\",\"PF00087_toxin_tolip_full_length_sequences.fasta\",\"negative\",\"PF06355_aegerolysin_full_length_sequences.fasta\",\"PF11393_T4BSS_dotI_icml_full_length_sequences.fasta\",\"PF01289_thiol_cytolysin_full_length_sequences.fasta\",\"negative\",\"negative\",\"PF06369_anemone_cytotox_full_length_sequences.fasta\",\"negative\",\"negative\",\"negative\",\"negative\",\"negative\",\"negative\",\"negative\",\"PF06355_aegerolysin_full_length_sequences.fasta\",\"negative\",\"negative\",\"PF00555_Endotoxin_M_uniprot.fasta\",\"PF01289_thiol_cytolysin_full_length_sequences.fasta\",\"negative\",\"PF03318_etx_mtx2_full_length_sequences.fasta\",\"negative\",\"negative\",\"negative\",\"negative\",\"PF12920_tcda_tcdb_pore_full_length_sequences.fasta\",\"PF06355_aegerolysin_full_length_sequences.fasta\",\"negative\",\"PF17475_binary_toxb_2_full_length_sequences.fasta\",\"PF00555_Endotoxin_M_uniprot.fasta\",\"PF06369_anemone_cytotox_full_length_sequences.fasta\",\"negative\",\"PF03318_etx_mtx2_full_length_sequences.fasta\",\"negative\",\"negative\",\"negative\",\"negative\",\"PF02382_rtx_full_length_sequences.fasta\",\"PF12261_t_hemolysin_full_length_sequences.fasta\",\"negative\",\"negative\",\"negative\",\"negative\",\"negative\",\"negative\",\"PF12920_tcda_tcdb_pore_full_length_sequences.fasta\",\"negative\",\"negative\",\"PF00555_Endotoxin_M_uniprot.fasta\",\"negative\",\"negative\",\"PF03945_Endotoxin_N_full_length_sequences.fasta\",\"PF12261_t_hemolysin_full_length_sequences.fasta\",\"negative\",\"negative\",\"negative\",\"negative\",\"PF03318_etx_mtx2_full_length_sequences.fasta\",\"negative\",\"PF00087_toxin_tolip_full_length_sequences.fasta\",\"negative\",\"negative\",\"PF01117_aerolysin_full_length_sequences.fasta\",\"negative\",\"negative\",\"negative\",\"PF11393_T4BSS_dotI_icml_full_length_sequences.fasta\",\"PF00087_toxin_tolip_full_length_sequences.fasta\",\"negative\",\"PF12261_t_hemolysin_full_length_sequences.fasta\",\"negative\",\"negative\",\"negative\",\"negative\",\"negative\",\"negative\",\"negative\",\"negative\",\"PF00087_toxin_tolip_full_length_sequences.fasta\",\"PF03945_Endotoxin_N_full_length_sequences.fasta\",\"PF06355_aegerolysin_full_length_sequences.fasta\",\"negative\",\"PF03318_etx_mtx2_full_length_sequences.fasta\",\"PF06355_aegerolysin_full_length_sequences.fasta\",\"PF03945_Endotoxin_N_full_length_sequences.fasta\",\"PF12261_t_hemolysin_full_length_sequences.fasta\",\"PF12261_t_hemolysin_full_length_sequences.fasta\",\"negative\",\"negative\",\"PF01338_Bac_thur_toxin_full_length_sequences.fasta\",\"negative\",\"negative\",\"PF12261_t_hemolysin_full_length_sequences.fasta\",\"PF03945_Endotoxin_N_full_length_sequences.fasta\",\"negative\",\"negative\",\"PF12261_t_hemolysin_full_length_sequences.fasta\",\"PF00087_toxin_tolip_full_length_sequences.fasta\",\"PF01289_thiol_cytolysin_full_length_sequences.fasta\",\"PF06369_anemone_cytotox_full_length_sequences.fasta\",\"negative\",\"PF11393_T4BSS_dotI_icml_full_length_sequences.fasta\",\"negative\",\"PF01338_Bac_thur_toxin_full_length_sequences.fasta\",\"PF01024_colicin_full_length_sequences.fasta\",\"negative\",\"negative\",\"negative\",\"negative\",\"negative\",\"negative\",\"PF11393_T4BSS_dotI_icml_full_length_sequences.fasta\",\"PF03318_etx_mtx2_full_length_sequences.fasta\",\"PF12261_t_hemolysin_full_length_sequences.fasta\",\"PF17475_binary_toxb_2_full_length_sequences.fasta\",\"negative\",\"PF01289_thiol_cytolysin_full_length_sequences.fasta\",\"negative\",\"PF06355_aegerolysin_full_length_sequences.fasta\",\"negative\",\"negative\",\"negative\",\"negative\",\"negative\",\"negative\",\"PF06369_anemone_cytotox_full_length_sequences.fasta\",\"negative\",\"negative\",\"negative\",\"negative\",\"PF01024_colicin_full_length_sequences.fasta\",\"negative\",\"negative\",\"PF01289_thiol_cytolysin_full_length_sequences.fasta\",\"negative\",\"PF06369_anemone_cytotox_full_length_sequences.fasta\",\"negative\",\"negative\",\"negative\",\"negative\",\"PF06355_aegerolysin_full_length_sequences.fasta\",\"PF01289_thiol_cytolysin_full_length_sequences.fasta\",\"negative\",\"PF01117_aerolysin_full_length_sequences.fasta\",\"negative\",\"negative\",\"negative\",\"PF01117_aerolysin_full_length_sequences.fasta\",\"negative\",\"PF05802_espb_full_length_sequences.fasta\",\"negative\",\"negative\",\"negative\",\"negative\",\"PF11565_porb_full_length_sequences.fasta\",\"PF12261_t_hemolysin_full_length_sequences.fasta\",\"negative\",\"PF17475_binary_toxb_2_full_length_sequences.fasta\",\"negative\",\"negative\",\"negative\",\"PF06369_anemone_cytotox_full_length_sequences.fasta\",\"negative\",\"PF04877_harpin_full_length_sequences.fasta\",\"negative\",\"negative\",\"negative\",\"negative\",\"negative\",\"negative\",\"negative\",\"PF06355_aegerolysin_full_length_sequences.fasta\",\"negative\",\"PF12261_t_hemolysin_full_length_sequences.fasta\",\"negative\",\"PF06355_aegerolysin_full_length_sequences.fasta\",\"negative\",\"negative\",\"negative\",\"PF01289_thiol_cytolysin_full_length_sequences.fasta\",\"negative\",\"PF03318_etx_mtx2_full_length_sequences.fasta\",\"negative\",\"PF12261_t_hemolysin_full_length_sequences.fasta\",\"negative\",\"negative\",\"PF03945_Endotoxin_N_full_length_sequences.fasta\",\"negative\",\"negative\",\"negative\",\"negative\",\"negative\",\"PF12261_t_hemolysin_full_length_sequences.fasta\",\"negative\",\"PF01289_thiol_cytolysin_full_length_sequences.fasta\",\"PF06355_aegerolysin_full_length_sequences.fasta\",\"negative\",\"PF01289_thiol_cytolysin_full_length_sequences.fasta\",\"negative\",\"negative\",\"PF01289_thiol_cytolysin_full_length_sequences.fasta\",\"PF03945_Endotoxin_N_full_length_sequences.fasta\",\"PF03318_etx_mtx2_full_length_sequences.fasta\",\"negative\",\"negative\",\"negative\",\"negative\",\"negative\",\"PF04877_harpin_full_length_sequences.fasta\",\"PF01289_thiol_cytolysin_full_length_sequences.fasta\",\"negative\",\"negative\",\"negative\",\"PF01289_thiol_cytolysin_full_length_sequences.fasta\",\"negative\",\"PF12920_tcda_tcdb_pore_full_length_sequences.fasta\",\"negative\",\"PF03318_etx_mtx2_full_length_sequences.fasta\",\"negative\",\"negative\",\"PF05802_espb_full_length_sequences.fasta\",\"PF01117_aerolysin_full_length_sequences.fasta\",\"negative\",\"negative\",\"PF01289_thiol_cytolysin_full_length_sequences.fasta\",\"negative\",\"negative\",\"PF07367_fb_lectin_full_length_sequences.fasta\",\"negative\",\"PF12261_t_hemolysin_full_length_sequences.fasta\",\"PF00087_toxin_tolip_full_length_sequences.fasta\",\"negative\",\"PF17475_binary_toxb_2_full_length_sequences.fasta\",\"PF01338_Bac_thur_toxin_full_length_sequences.fasta\",\"negative\",\"PF07367_fb_lectin_full_length_sequences.fasta\",\"negative\",\"negative\",\"PF01289_thiol_cytolysin_full_length_sequences.fasta\",\"negative\",\"negative\",\"negative\",\"negative\",\"PF07968_leukocidin_full_length_sequences.fasta\",\"negative\",\"negative\",\"negative\",\"negative\",\"PF12261_t_hemolysin_full_length_sequences.fasta\",\"negative\",\"negative\",\"negative\",\"PF12261_t_hemolysin_full_length_sequences.fasta\",\"negative\",\"PF01338_Bac_thur_toxin_full_length_sequences.fasta\",\"negative\",\"negative\",\"PF12261_t_hemolysin_full_length_sequences.fasta\",\"negative\",\"PF06369_anemone_cytotox_full_length_sequences.fasta\",\"PF12261_t_hemolysin_full_length_sequences.fasta\",\"negative\",\"negative\",\"PF00555_Endotoxin_M_uniprot.fasta\",\"negative\",\"negative\",\"negative\",\"negative\",\"PF12261_t_hemolysin_full_length_sequences.fasta\",\"PF03318_etx_mtx2_full_length_sequences.fasta\",\"PF11393_T4BSS_dotI_icml_full_length_sequences.fasta\",\"PF12261_t_hemolysin_full_length_sequences.fasta\",\"negative\",\"PF07968_leukocidin_full_length_sequences.fasta\",\"PF18063_BB_PF_full_length_sequences.fasta\",\"negative\",\"PF03318_etx_mtx2_full_length_sequences.fasta\",\"negative\",\"PF11393_T4BSS_dotI_icml_full_length_sequences.fasta\",\"PF01289_thiol_cytolysin_full_length_sequences.fasta\",\"negative\",\"negative\",\"negative\",\"negative\",\"PF00087_toxin_tolip_full_length_sequences.fasta\",\"PF03318_etx_mtx2_full_length_sequences.fasta\",\"negative\",\"negative\",\"negative\",\"PF06355_aegerolysin_full_length_sequences.fasta\",\"negative\",\"negative\",\"negative\",\"PF06369_anemone_cytotox_full_length_sequences.fasta\",\"PF06369_anemone_cytotox_full_length_sequences.fasta\",\"PF12261_t_hemolysin_full_length_sequences.fasta\",\"negative\",\"negative\",\"negative\",\"negative\",\"negative\",\"negative\",\"PF07968_leukocidin_full_length_sequences.fasta\",\"negative\",\"negative\",\"negative\",\"negative\",\"negative\",\"PF06355_aegerolysin_full_length_sequences.fasta\",\"negative\",\"negative\",\"PF06369_anemone_cytotox_full_length_sequences.fasta\",\"negative\",\"negative\",\"negative\",\"negative\",\"PF06355_aegerolysin_full_length_sequences.fasta\",\"negative\",\"negative\",\"PF12261_t_hemolysin_full_length_sequences.fasta\",\"PF03318_etx_mtx2_full_length_sequences.fasta\",\"PF01117_aerolysin_full_length_sequences.fasta\",\"PF06355_aegerolysin_full_length_sequences.fasta\",\"PF12261_t_hemolysin_full_length_sequences.fasta\",\"negative\",\"negative\",\"negative\",\"negative\",\"PF03318_etx_mtx2_full_length_sequences.fasta\",\"negative\",\"negative\",\"negative\",\"negative\",\"PF06355_aegerolysin_full_length_sequences.fasta\",\"negative\",\"negative\",\"PF00555_Endotoxin_M_uniprot.fasta\",\"negative\",\"negative\",\"PF03318_etx_mtx2_full_length_sequences.fasta\",\"PF00087_toxin_tolip_full_length_sequences.fasta\",\"negative\",\"PF01024_colicin_full_length_sequences.fasta\",\"PF06109_hlye_full_length_sequences.fasta\",\"negative\",\"negative\",\"negative\",\"PF01289_thiol_cytolysin_full_length_sequences.fasta\",\"PF01289_thiol_cytolysin_full_length_sequences.fasta\",\"negative\",\"PF12261_t_hemolysin_full_length_sequences.fasta\",\"PF03318_etx_mtx2_full_length_sequences.fasta\",\"negative\",\"PF06355_aegerolysin_full_length_sequences.fasta\",\"negative\",\"PF11393_T4BSS_dotI_icml_full_length_sequences.fasta\",\"negative\",\"negative\",\"negative\",\"negative\",\"negative\",\"PF12261_t_hemolysin_full_length_sequences.fasta\",\"negative\",\"negative\",\"negative\",\"negative\",\"PF03945_Endotoxin_N_full_length_sequences.fasta\",\"negative\",\"PF07367_fb_lectin_full_length_sequences.fasta\",\"negative\",\"negative\",\"negative\",\"negative\",\"negative\",\"negative\",\"negative\",\"negative\",\"negative\",\"negative\",\"negative\",\"PF11565_porb_full_length_sequences.fasta\",\"PF03318_etx_mtx2_full_length_sequences.fasta\",\"negative\",\"PF03318_etx_mtx2_full_length_sequences.fasta\",\"PF01289_thiol_cytolysin_full_length_sequences.fasta\",\"PF06369_anemone_cytotox_full_length_sequences.fasta\",\"PF07367_fb_lectin_full_length_sequences.fasta\",\"negative\",\"PF01289_thiol_cytolysin_full_length_sequences.fasta\",\"negative\",\"negative\",\"negative\",\"negative\",\"negative\",\"PF11393_T4BSS_dotI_icml_full_length_sequences.fasta\",\"negative\",\"PF07367_fb_lectin_full_length_sequences.fasta\",\"negative\",\"negative\",\"PF06355_aegerolysin_full_length_sequences.fasta\",\"PF06355_aegerolysin_full_length_sequences.fasta\",\"PF06355_aegerolysin_full_length_sequences.fasta\",\"PF04598_gasdermin_uniprot.fasta\",\"negative\",\"PF12261_t_hemolysin_full_length_sequences.fasta\",\"negative\",\"negative\",\"negative\",\"negative\",\"PF06369_anemone_cytotox_full_length_sequences.fasta\",\"PF06355_aegerolysin_full_length_sequences.fasta\",\"negative\",\"negative\",\"PF11393_T4BSS_dotI_icml_full_length_sequences.fasta\",\"PF12261_t_hemolysin_full_length_sequences.fasta\",\"negative\",\"negative\",\"negative\",\"negative\",\"negative\",\"negative\",\"negative\",\"negative\",\"PF06355_aegerolysin_full_length_sequences.fasta\",\"PF11565_porb_full_length_sequences.fasta\",\"negative\",\"PF07367_fb_lectin_full_length_sequences.fasta\",\"negative\",\"PF03318_etx_mtx2_full_length_sequences.fasta\",\"PF06369_anemone_cytotox_full_length_sequences.fasta\",\"PF06369_anemone_cytotox_full_length_sequences.fasta\",\"PF05802_espb_full_length_sequences.fasta\",\"negative\",\"PF12261_t_hemolysin_full_length_sequences.fasta\",\"negative\",\"negative\",\"negative\",\"PF12261_t_hemolysin_full_length_sequences.fasta\",\"PF00087_toxin_tolip_full_length_sequences.fasta\",\"negative\",\"negative\",\"negative\",\"negative\",\"negative\",\"PF06355_aegerolysin_full_length_sequences.fasta\",\"negative\",\"negative\",\"negative\",\"PF12261_t_hemolysin_full_length_sequences.fasta\",\"negative\",\"PF03318_etx_mtx2_full_length_sequences.fasta\",\"negative\",\"negative\",\"negative\",\"negative\",\"negative\",\"PF07367_fb_lectin_full_length_sequences.fasta\",\"negative\",\"negative\",\"negative\",\"negative\",\"PF06355_aegerolysin_full_length_sequences.fasta\",\"negative\",\"PF07968_leukocidin_full_length_sequences.fasta\",\"PF03945_Endotoxin_N_full_length_sequences.fasta\",\"negative\",\"negative\",\"negative\",\"negative\",\"PF11393_T4BSS_dotI_icml_full_length_sequences.fasta\",\"negative\",\"negative\",\"negative\",\"PF01117_aerolysin_full_length_sequences.fasta\",\"negative\",\"negative\",\"negative\",\"negative\",\"negative\",\"PF06369_anemone_cytotox_full_length_sequences.fasta\",\"PF01289_thiol_cytolysin_full_length_sequences.fasta\",\"PF01289_thiol_cytolysin_full_length_sequences.fasta\",\"negative\",\"PF06355_aegerolysin_full_length_sequences.fasta\",\"negative\",\"PF03318_etx_mtx2_full_length_sequences.fasta\",\"PF01117_aerolysin_full_length_sequences.fasta\",\"negative\",\"PF12261_t_hemolysin_full_length_sequences.fasta\",\"negative\",\"negative\",\"negative\",\"negative\",\"negative\",\"negative\",\"negative\",\"PF07367_fb_lectin_full_length_sequences.fasta\",\"PF06369_anemone_cytotox_full_length_sequences.fasta\",\"negative\",\"negative\",\"negative\",\"negative\",\"PF04598_gasdermin_uniprot.fasta\",\"negative\",\"negative\",\"negative\",\"negative\",\"PF03318_etx_mtx2_full_length_sequences.fasta\",\"PF01289_thiol_cytolysin_full_length_sequences.fasta\",\"PF06369_anemone_cytotox_full_length_sequences.fasta\",\"negative\",\"PF18063_BB_PF_full_length_sequences.fasta\",\"PF07367_fb_lectin_full_length_sequences.fasta\",\"PF06355_aegerolysin_full_length_sequences.fasta\",\"negative\",\"negative\",\"negative\",\"negative\",\"PF03318_etx_mtx2_full_length_sequences.fasta\",\"PF03945_Endotoxin_N_full_length_sequences.fasta\",\"negative\",\"negative\",\"negative\",\"negative\",\"negative\",\"PF00087_toxin_tolip_full_length_sequences.fasta\",\"negative\",\"negative\",\"PF01117_aerolysin_full_length_sequences.fasta\",\"negative\",\"negative\",\"PF00555_Endotoxin_M_uniprot.fasta\",\"PF11393_T4BSS_dotI_icml_full_length_sequences.fasta\",\"negative\",\"PF12261_t_hemolysin_full_length_sequences.fasta\",\"PF03945_Endotoxin_N_full_length_sequences.fasta\",\"negative\",\"PF01117_aerolysin_full_length_sequences.fasta\",\"PF06355_aegerolysin_full_length_sequences.fasta\",\"PF01289_thiol_cytolysin_full_length_sequences.fasta\",\"negative\",\"negative\",\"negative\",\"negative\",\"negative\",\"negative\",\"negative\",\"PF03318_etx_mtx2_full_length_sequences.fasta\",\"negative\",\"PF03945_Endotoxin_N_full_length_sequences.fasta\",\"negative\",\"PF12920_tcda_tcdb_pore_full_length_sequences.fasta\",\"negative\",\"negative\",\"negative\",\"PF00555_Endotoxin_M_uniprot.fasta\",\"PF07367_fb_lectin_full_length_sequences.fasta\",\"PF03945_Endotoxin_N_full_length_sequences.fasta\",\"negative\",\"PF01289_thiol_cytolysin_full_length_sequences.fasta\",\"PF03945_Endotoxin_N_full_length_sequences.fasta\",\"negative\",\"negative\",\"negative\",\"PF03318_etx_mtx2_full_length_sequences.fasta\",\"negative\",\"PF12261_t_hemolysin_full_length_sequences.fasta\",\"negative\",\"negative\",\"negative\",\"PF03318_etx_mtx2_full_length_sequences.fasta\",\"PF07968_leukocidin_full_length_sequences.fasta\",\"negative\",\"negative\",\"negative\",\"PF12261_t_hemolysin_full_length_sequences.fasta\",\"negative\",\"PF03318_etx_mtx2_full_length_sequences.fasta\",\"PF12261_t_hemolysin_full_length_sequences.fasta\",\"negative\",\"PF12261_t_hemolysin_full_length_sequences.fasta\",\"PF12261_t_hemolysin_full_length_sequences.fasta\",\"negative\",\"negative\",\"negative\",\"PF11393_T4BSS_dotI_icml_full_length_sequences.fasta\",\"negative\",\"negative\",\"PF06369_anemone_cytotox_full_length_sequences.fasta\",\"negative\",\"negative\",\"PF12261_t_hemolysin_full_length_sequences.fasta\",\"negative\",\"negative\",\"PF06369_anemone_cytotox_full_length_sequences.fasta\",\"negative\",\"PF12261_t_hemolysin_full_length_sequences.fasta\",\"negative\",\"negative\",\"negative\",\"PF03318_etx_mtx2_full_length_sequences.fasta\",\"PF01338_Bac_thur_toxin_full_length_sequences.fasta\",\"negative\",\"PF01024_colicin_full_length_sequences.fasta\",\"negative\",\"negative\",\"PF01117_aerolysin_full_length_sequences.fasta\",\"negative\",\"negative\",\"PF06355_aegerolysin_full_length_sequences.fasta\",\"PF06355_aegerolysin_full_length_sequences.fasta\",\"negative\",\"PF03318_etx_mtx2_full_length_sequences.fasta\",\"PF00087_toxin_tolip_full_length_sequences.fasta\",\"PF11393_T4BSS_dotI_icml_full_length_sequences.fasta\",\"negative\",\"negative\",\"negative\",\"PF03944_Endotoxin_C_uniprot.fasta\",\"negative\",\"negative\",\"negative\",\"negative\",\"negative\",\"negative\",\"negative\",\"negative\",\"PF01117_aerolysin_full_length_sequences.fasta\",\"PF00087_toxin_tolip_full_length_sequences.fasta\",\"negative\",\"negative\",\"PF12261_t_hemolysin_full_length_sequences.fasta\",\"negative\",\"PF01289_thiol_cytolysin_full_length_sequences.fasta\",\"PF03318_etx_mtx2_full_length_sequences.fasta\",\"PF06369_anemone_cytotox_full_length_sequences.fasta\",\"PF06369_anemone_cytotox_full_length_sequences.fasta\",\"negative\",\"PF03945_Endotoxin_N_full_length_sequences.fasta\",\"negative\",\"PF17475_binary_toxb_2_full_length_sequences.fasta\",\"negative\",\"negative\",\"negative\",\"negative\",\"negative\",\"PF12261_t_hemolysin_full_length_sequences.fasta\",\"PF06369_anemone_cytotox_full_length_sequences.fasta\",\"negative\",\"negative\",\"negative\",\"PF06369_anemone_cytotox_full_length_sequences.fasta\",\"negative\",\"negative\",\"PF11393_T4BSS_dotI_icml_full_length_sequences.fasta\",\"negative\",\"negative\",\"negative\",\"negative\",\"negative\",\"negative\",\"PF12261_t_hemolysin_full_length_sequences.fasta\",\"PF12920_tcda_tcdb_pore_full_length_sequences.fasta\",\"negative\",\"negative\",\"negative\",\"PF12261_t_hemolysin_full_length_sequences.fasta\",\"PF06109_hlye_full_length_sequences.fasta\",\"negative\",\"negative\",\"negative\",\"PF11393_T4BSS_dotI_icml_full_length_sequences.fasta\",\"PF06355_aegerolysin_full_length_sequences.fasta\",\"negative\",\"negative\",\"PF11393_T4BSS_dotI_icml_full_length_sequences.fasta\",\"PF11393_T4BSS_dotI_icml_full_length_sequences.fasta\",\"PF12261_t_hemolysin_full_length_sequences.fasta\",\"negative\",\"negative\",\"negative\",\"negative\",\"negative\",\"negative\",\"PF12261_t_hemolysin_full_length_sequences.fasta\",\"negative\",\"negative\",\"PF12920_tcda_tcdb_pore_full_length_sequences.fasta\",\"negative\",\"negative\",\"PF00087_toxin_tolip_full_length_sequences.fasta\",\"negative\",\"negative\",\"PF06369_anemone_cytotox_full_length_sequences.fasta\",\"PF03945_Endotoxin_N_full_length_sequences.fasta\",\"negative\",\"PF00555_Endotoxin_M_uniprot.fasta\",\"negative\",\"negative\",\"negative\",\"negative\",\"negative\",\"PF12261_t_hemolysin_full_length_sequences.fasta\",\"PF01117_aerolysin_full_length_sequences.fasta\",\"PF18063_BB_PF_full_length_sequences.fasta\",\"PF01117_aerolysin_full_length_sequences.fasta\",\"PF12920_tcda_tcdb_pore_full_length_sequences.fasta\",\"negative\",\"negative\",\"PF12261_t_hemolysin_full_length_sequences.fasta\",\"negative\",\"PF06369_anemone_cytotox_full_length_sequences.fasta\",\"negative\",\"negative\",\"negative\",\"negative\",\"PF03945_Endotoxin_N_full_length_sequences.fasta\",\"PF06369_anemone_cytotox_full_length_sequences.fasta\",\"negative\",\"PF00087_toxin_tolip_full_length_sequences.fasta\",\"negative\",\"PF05802_espb_full_length_sequences.fasta\",\"negative\",\"negative\",\"negative\",\"pf05105_phage_holin_4_1_uniprot.fasta\",\"negative\",\"PF01289_thiol_cytolysin_full_length_sequences.fasta\",\"PF01117_aerolysin_full_length_sequences.fasta\",\"negative\",\"negative\",\"PF06355_aegerolysin_full_length_sequences.fasta\",\"negative\",\"negative\",\"negative\",\"negative\",\"negative\",\"PF18063_BB_PF_full_length_sequences.fasta\",\"PF11393_T4BSS_dotI_icml_full_length_sequences.fasta\",\"negative\",\"PF12261_t_hemolysin_full_length_sequences.fasta\",\"negative\",\"negative\",\"negative\",\"negative\",\"PF03318_etx_mtx2_full_length_sequences.fasta\",\"negative\",\"PF11393_T4BSS_dotI_icml_full_length_sequences.fasta\",\"PF01289_thiol_cytolysin_full_length_sequences.fasta\",\"PF03945_Endotoxin_N_full_length_sequences.fasta\",\"negative\",\"negative\",\"negative\",\"negative\",\"negative\",\"negative\",\"negative\",\"PF12261_t_hemolysin_full_length_sequences.fasta\",\"negative\",\"PF00555_Endotoxin_M_uniprot.fasta\",\"negative\",\"negative\",\"PF12261_t_hemolysin_full_length_sequences.fasta\",\"negative\",\"PF18684_plyb_c_full_length_sequences.fasta\",\"negative\",\"PF07367_fb_lectin_full_length_sequences.fasta\",\"negative\",\"negative\",\"PF05802_espb_full_length_sequences.fasta\",\"negative\",\"PF01117_aerolysin_full_length_sequences.fasta\",\"negative\",\"negative\",\"PF05802_espb_full_length_sequences.fasta\",\"negative\",\"PF03945_Endotoxin_N_full_length_sequences.fasta\",\"PF11393_T4BSS_dotI_icml_full_length_sequences.fasta\",\"negative\",\"PF07367_fb_lectin_full_length_sequences.fasta\",\"negative\",\"negative\",\"negative\",\"negative\",\"PF03945_Endotoxin_N_full_length_sequences.fasta\",\"negative\",\"negative\",\"PF06355_aegerolysin_full_length_sequences.fasta\",\"PF06369_anemone_cytotox_full_length_sequences.fasta\",\"negative\",\"negative\",\"negative\",\"negative\",\"negative\",\"PF03945_Endotoxin_N_full_length_sequences.fasta\",\"PF11393_T4BSS_dotI_icml_full_length_sequences.fasta\",\"negative\",\"PF06355_aegerolysin_full_length_sequences.fasta\",\"PF05802_espb_full_length_sequences.fasta\",\"PF03318_etx_mtx2_full_length_sequences.fasta\",\"PF12261_t_hemolysin_full_length_sequences.fasta\",\"PF00087_toxin_tolip_full_length_sequences.fasta\",\"negative\",\"negative\",\"negative\",\"negative\",\"negative\",\"PF03945_Endotoxin_N_full_length_sequences.fasta\",\"PF07367_fb_lectin_full_length_sequences.fasta\",\"negative\",\"PF12261_t_hemolysin_full_length_sequences.fasta\",\"negative\",\"PF06355_aegerolysin_full_length_sequences.fasta\",\"PF01289_thiol_cytolysin_full_length_sequences.fasta\",\"negative\",\"negative\",\"PF01823_macpf_uniprot.fasta\",\"PF03318_etx_mtx2_full_length_sequences.fasta\",\"negative\",\"negative\",\"negative\",\"PF03318_etx_mtx2_full_length_sequences.fasta\",\"PF06369_anemone_cytotox_full_length_sequences.fasta\",\"negative\",\"negative\",\"negative\",\"negative\",\"negative\",\"negative\",\"PF18063_BB_PF_full_length_sequences.fasta\",\"PF03318_etx_mtx2_full_length_sequences.fasta\",\"PF03318_etx_mtx2_full_length_sequences.fasta\",\"PF03945_Endotoxin_N_full_length_sequences.fasta\",\"PF00555_Endotoxin_M_uniprot.fasta\",\"negative\",\"PF06355_aegerolysin_full_length_sequences.fasta\",\"negative\",\"PF06369_anemone_cytotox_full_length_sequences.fasta\",\"negative\",\"negative\",\"PF01823_macpf_uniprot.fasta\",\"negative\"],\"label\":[27,27,27,27,27,27,21,27,8,27,1,4,8,27,0,27,27,27,27,8,27,4,2,4,27,27,27,15,27,11,27,4,16,27,27,27,27,17,27,27,27,14,4,23,27,27,18,27,18,15,27,27,27,27,27,11,22,27,16,0,27,27,11,27,22,17,8,27,27,27,8,0,3,4,27,3,27,27,27,27,27,22,17,27,27,27,0,8,22,27,27,3,27,27,27,27,27,27,16,16,8,4,8,19,27,16,27,27,15,18,8,3,11,27,16,4,27,22,22,20,27,27,22,27,17,11,27,27,27,27,27,0,18,27,4,27,27,27,4,27,27,27,14,27,27,8,27,27,27,15,27,8,27,27,3,27,27,6,19,18,27,4,23,27,14,27,27,27,27,27,8,27,20,27,27,27,27,20,27,27,27,27,27,8,27,23,25,27,27,27,16,18,27,22,21,0,27,16,27,27,14,27,27,4,27,27,27,20,16,23,5,27,27,27,8,27,0,16,27,27,14,5,27,20,27,27,27,27,22,27,18,27,27,8,17,27,27,27,27,11,17,8,27,19,13,27,8,27,16,27,27,27,27,27,27,27,27,27,27,19,27,27,27,3,27,19,4,17,20,27,27,27,11,16,27,0,17,20,27,27,27,27,27,27,3,27,27,27,27,27,27,27,0,27,27,27,17,27,27,27,27,3,27,0,27,27,27,27,20,27,27,22,4,27,27,27,4,20,27,27,27,27,27,26,11,27,3,27,27,27,27,27,8,27,4,27,17,3,15,27,27,8,27,4,4,14,8,27,0,27,27,27,27,16,27,27,27,27,4,22,8,27,24,27,27,27,16,27,3,27,27,27,27,27,27,27,27,27,8,27,27,17,27,25,20,27,4,27,27,27,22,27,27,11,27,27,27,27,0,27,27,27,27,27,27,27,5,27,27,27,27,27,27,27,22,27,27,27,27,22,8,27,22,27,27,27,27,11,28,27,22,27,27,27,27,4,21,27,27,27,27,11,13,27,27,4,27,27,27,0,27,27,27,0,27,22,5,5,22,27,27,27,8,18,27,16,27,3,27,16,17,27,4,20,27,22,11,27,22,8,0,3,8,27,2,27,18,4,27,0,27,18,27,0,19,27,17,18,27,27,27,20,27,8,16,27,27,11,27,27,0,27,27,27,27,27,27,27,4,27,17,27,3,8,27,0,27,27,27,1,20,17,27,27,27,27,27,27,27,27,19,27,5,27,27,27,19,27,17,27,27,8,11,27,14,27,4,22,27,22,3,27,21,27,27,22,15,0,27,27,7,27,27,27,6,3,27,27,27,22,27,27,27,27,27,27,27,14,27,27,25,27,27,27,27,4,27,27,16,5,8,27,27,27,27,14,27,27,27,27,27,27,27,27,27,27,27,27,20,16,4,27,3,16,22,27,27,27,10,27,17,8,0,11,27,27,5,27,0,0,5,27,20,27,27,27,27,27,27,27,27,27,20,25,27,27,27,17,27,27,27,27,27,0,8,4,10,27,27,16,27,18,27,27,27,27,27,8,16,27,27,27,27,27,27,22,27,27,8,4,27,27,27,22,27,27,17,27,27,17,17,1,20,27,11,27,27,19,16,27,27,11,17,17,27,27,8,27,11,11,27,1,27,27,27,5,27,8,27,27,27,20,18,27,15,20,27,4,27,22,27,23,27,27,4,27,27,27,22,27,27,16,27,27,4,27,27,27,18,27,27,27,27,22,27,27,27,27,27,27,27,27,22,27,8,27,3,27,27,27,27,27,22,27,27,27,17,27,27,27,11,27,27,27,27,27,27,27,22,11,20,27,27,15,27,18,27,18,17,27,24,27,27,0,28,27,27,11,3,11,27,27,27,8,27,27,27,4,22,23,27,20,27,22,27,27,20,27,0,27,27,4,27,27,22,27,27,3,27,27,27,27,27,0,27,27,27,27,27,27,8,27,27,27,27,27,17,22,27,27,16,27,4,27,27,27,0,3,0,14,8,11,7,27,11,27,27,27,27,27,18,27,27,15,20,27,27,20,20,27,20,27,27,27,17,20,27,27,27,27,27,27,27,27,27,16,27,25,27,6,27,27,4,3,20,27,0,27,27,27,27,27,27,27,27,27,27,16,17,27,27,27,8,27,16,27,27,8,27,22,27,27,27,27,23,27,15,17,14,11,27,27,27,27,3,27,22,27,27,27,5,3,27,27,27,8,4,21,22,27,8,27,27,27,27,27,27,27,27,27,20,27,27,23,27,23,3,20,27,27,4,27,0,16,1,16,27,27,4,8,8,25,27,27,27,27,27,27,17,27,8,27,4,3,27,27,27,25,3,27,27,20,4,16,11,11,27,27,3,27,27,27,27,27,8,2,18,2,27,27,27,27,27,27,11,27,27,27,27,27,5,0,6,3,8,27,21,7,6,27,16,27,27,11,27,27,27,27,27,21,27,27,16,27,27,20,27,27,27,1,27,27,27,27,27,16,20,27,27,27,17,27,27,17,0,27,27,27,27,27,27,27,27,17,27,27,27,15,27,24,17,27,18,27,20,0,27,22,27,27,27,27,27,27,27,5,27,27,3,27,27,27,16,16,27,27,27,27,27,27,6,27,22,27,25,22,27,5,4,8,14,27,27,27,27,14,27,0,11,22,27,3,27,27,27,18,27,5,20,4,0,8,27,20,17,22,14,27,27,27,18,27,20,27,27,27,16,27,27,0,16,17,27,27,7,27,27,8,11,27,27,27,0,27,27,27,27,22,27,27,15,27,0,27,27,12,27,27,27,27,27,27,25,27,8,27,27,4,1,16,17,27,27,27,0,27,4,27,27,27,16,27,27,27,0,17,27,27,27,27,8,27,3,27,27,27,27,8,27,27,27,27,27,18,27,27,27,14,4,27,27,27,0,27,27,27,27,16,27,22,20,27,27,27,27,22,4,27,27,22,21,8,27,27,16,4,27,27,4,27,8,16,27,23,22,27,27,27,27,8,1,27,27,16,27,15,4,11,27,12,27,4,27,27,27,27,27,8,6,11,27,27,27,27,27,27,27,27,27,0,11,27,20,27,18,27,8,8,27,16,8,27,27,17,27,27,27,27,27,27,17,27,27,27,28,3,16,27,27,27,27,27,27,27,3,0,27,0,8,27,27,27,5,27,27,3,27,17,27,6,27,27,27,11,27,27,27,27,6,5,27,4,22,27,27,25,27,27,27,27,27,0,27,27,27,27,27,4,4,17,27,17,27,15,0,27,27,27,27,8,27,11,16,22,8,27,27,27,27,27,20,27,27,27,27,27,27,27,27,27,27,27,27,1,27,27,27,5,27,4,16,8,27,0,27,27,3,27,27,27,27,3,27,8,27,27,4,27,16,27,8,27,27,27,27,18,18,20,11,0,27,0,4,27,27,27,27,27,27,20,27,27,5,20,27,27,13,18,27,27,27,20,27,27,16,27,27,27,6,20,27,16,27,27,18,27,16,27,27,27,27,27,27,27,27,13,0,8,27,27,27,27,27,27,22,22,5,18,27,18,27,27,22,22,27,22,27,27,21,27,17,27,27,27,8,14,27,27,27,27,27,3,27,27,18,27,27,5,4,27,12,27,20,17,27,5,0,22,0,15,27,27,27,27,5,27,3,22,21,27,16,27,27,27,27,27,17,11,27,27,27,27,27,27,22,27,27,5,19,20,27,27,8,27,27,8,27,27,18,20,17,27,18,19,27,25,22,8,27,20,27,17,23,27,17,27,27,27,27,21,27,27,27,14,16,11,27,27,27,27,20,20,16,22,27,5,27,1,27,27,27,27,27,27,27,2,0,27,27,27,25,27,27,27,27,27,27,27,16,4,28,27,27,27,5,27,27,17,17,17,22,27,27,27,22,16,27,22,8,20,27,27,0,27,27,27,27,13,27,20,27,16,27,27,27,27,27,20,4,27,11,18,6,17,27,27,22,20,27,17,27,27,27,27,0,27,22,22,27,16,27,8,27,27,16,27,27,27,27,22,27,19,27,0,27,4,27,27,27,4,16,4,11,27,27,27,4,21,27,27,8,27,8,21,17,27,15,0,27,13,27,27,27,4,27,8,27,22,16,27,17,8,17,27,27,20,27,4,7,8,27,22,27,27,27,21,19,27,27,27,27,27,27,27,27,4,27,27,27,12,27,27,27,27,27,27,27,27,27,27,27,20,22,3,27,27,27,1,11,27,27,27,27,27,6,27,22,4,27,22,27,15,27,27,27,27,27,27,11,27,22,27,27,27,27,5,27,27,27,13,27,27,27,16,27,0,27,27,27,18,27,3,8,27,17,22,17,3,17,17,4,27,27,27,27,28,22,4,27,8,8,27,19,27,11,8,27,27,3,3,4,0,18,27,9,14,27,27,27,22,27,27,27,27,27,27,22,15,27,27,27,27,8,27,27,27,8,27,22,20,27,27,27,3,22,11,4,27,8,27,27,17,27,4,8,17,27,27,27,23,27,27,27,27,27,27,27,27,3,27,27,27,0,23,18,22,17,27,27,13,16,27,27,27,27,27,5,27,22,27,27,27,4,27,8,8,22,17,19,27,27,27,17,27,27,27,27,27,27,27,27,4,27,27,1,20,4,22,27,27,27,27,27,20,27,27,27,3,27,8,27,27,27,27,3,27,22,0,2,2,27,3,27,3,27,27,27,8,0,27,17,23,27,27,27,22,27,27,18,27,27,22,27,27,27,4,8,27,27,27,0,27,27,16,27,3,27,27,27,27,27,27,23,17,27,27,4,27,27,25,27,8,27,27,27,27,27,3,27,27,27,27,4,27,17,27,27,3,27,22,27,27,16,22,27,8,5,27,27,27,17,27,27,0,3,27,27,27,16,27,27,16,27,3,27,27,0,27,27,27,27,27,18,27,27,0,27,27,27,18,27,4,27,27,27,27,27,1,15,27,27,27,11,27,22,7,22,16,6,27,27,27,8,27,27,22,27,27,27,27,27,27,17,3,8,27,17,27,20,27,22,27,17,8,27,27,27,4,0,18,11,27,27,27,27,27,16,27,8,27,23,27,27,19,27,3,27,27,27,27,27,27,27,27,17,27,27,0,21,19,27,8,27,4,27,27,22,18,27,27,27,27,27,27,4,27,5,27,10,27,27,20,27,1,18,7,27,27,20,27,16,8,27,17,27,8,27,27,27,27,27,17,5,14,4,27,27,27,27,27,27,22,22,27,20,27,27,27,27,27,27,22,11,27,27,27,27,4,17,27,0,27,3,27,27,27,27,8,27,27,27,8,27,22,16,2,18,27,27,27,27,27,27,27,17,1,22,22,4,27,27,2,16,17,3,27,27,27,20,27,27,27,4,27,27,27,3,27,27,27,27,27,20,8,8,8,16,27,27,27,17,27,6,27,27,22,8,27,27,27,22,11,3,27,21,27,27,27,0,27,27,27,27,27,27,27,22,27,17,16,27,27,18,4,27,27,3,27,27,27,22,17,18,27,27,19,27,27,27,27,27,4,8,27,27,0,27,22,6,27,27,16,27,27,27,27,27,27,27,8,27,18,20,15,20,8,27,27,27,27,11,11,11,16,27,27,17,27,27,16,27,27,27,27,8,27,27,8,4,27,27,17,27,27,27,11,27,27,8,27,16,22,17,27,8,27,27,27,27,26,27,27,27,8,27,27,8,4,27,27,8,19,27,27,27,22,18,27,20,27,27,22,6,27,22,14,27,0,4,4,27,27,27,27,27,8,25,8,27,27,27,6,27,8,27,22,27,27,27,27,25,27,4,27,13,27,27,27,8,27,27,27,0,16,27,23,22,20,2,20,18,27,8,4,27,27,27,27,27,27,27,16,27,27,4,27,27,27,27,27,27,25,8,27,27,27,27,27,27,3,8,22,27,27,11,27,11,27,2,27,16,27,27,27,27,27,27,19,23,27,27,27,27,27,16,22,25,22,27,27,8,27,27,27,27,16,27,27,27,27,27,2,27,27,17,27,27,27,27,0,27,6,16,27,4,27,27,27,27,27,19,27,27,11,27,27,27,27,5,27,4,18,27,8,27,13,27,13,27,27,27,27,22,27,11,27,0,27,2,27,27,27,8,25,27,8,11,27,5,27,11,20,22,27,27,27,22,27,27,3,4,11,0,27,1,27,17,22,4,4,27,4,8,27,27,11,0,27,15,27,27,20,27,17,27,4,27,27,15,27,27,27,27,4,5,18,27,27,27,27,19,27,27,27,17,27,27,27,22,27,27,27,0,27,25,27,27,27,4,27,19,27,27,27,27,27,27,27,27,27,27,27,20,4,27,27,27,27,27,20,11,27,27,22,27,22,27,27,27,23,27,27,11,18,27,15,8,27,27,22,22,8,3,27,27,18,27,27,27,27,18,27,27,22,27,14,27,3,9,27,26,8,27,27,27,27,27,27,27,27,27,16,27,12,8,15,27,27,27,27,27,20,27,4,20,27,27,27,27,27,17,27,4,27,6,11,4,27,27,5,27,25,5,27,1,8,27,8,22,27,27,27,27,19,0,27,27,27,22,27,0,27,4,27,27,11,27,20,0,27,27,27,27,17,15,27,27,3,27,27,16,27,27,0,27,19,27,27,4,27,22,8,27,27,27,19,10,27,8,27,27,11,27,25,27,17,27,8,17,11,8,27,27,27,25,22,27,16,20,22,27,0,16,27,27,20,8,27,20,27,27,27,27,22,27,16,27,4,27,27,15,17,27,27,27,27,12,20,27,27,27,27,27,27,27,27,27,8,16,27,22,27,27,27,27,27,22,27,27,11,17,27,27,27,0,27,27,8,8,27,27,27,8,27,22,27,27,11,4,27,27,12,27,27,27,0,17,27,13,27,27,27,27,27,3,20,20,14,27,27,8,22,27,27,27,0,22,4,8,11,27,27,27,27,24,16,27,27,27,8,27,21,27,27,13,0,4,10,27,27,21,15,0,4,27,27,27,22,27,22,17,3,25,27,22,27,0,0,27,8,22,27,27,27,20,27,4,27,27,27,15,27,27,27,27,27,27,22,27,4,0,4,27,27,27,27,18,27,25,27,27,27,8,27,23,23,27,22,8,27,27,27,27,27,3,27,13,27,17,22,22,11,8,19,4,27,20,27,27,20,27,8,27,27,27,4,20,27,0,27,20,16,16,27,27,27,22,22,8,22,23,27,8,27,27,16,17,27,27,27,27,27,27,27,27,27,27,27,20,27,27,27,27,24,27,27,27,8,27,27,27,27,27,27,11,27,4,27,27,27,27,8,16,4,27,27,27,27,2,27,0,27,8,27,27,18,8,18,22,27,27,27,27,27,0,4,27,27,5,27,27,27,27,27,27,27,27,27,27,8,27,27,27,27,22,27,20,27,19,27,27,16,27,18,27,27,27,27,27,20,27,25,2,27,27,27,27,3,27,22,27,27,27,27,27,27,27,22,27,27,27,27,17,27,27,27,18,22,27,27,22,27,27,8,26,27,4,27,27,27,27,27,27,22,27,27,27,27,8,27,27,27,27,8,27,6,27,27,20,8,22,27,27,27,27,27,27,8,27,27,27,27,15,11,19,27,25,4,27,27,27,27,13,27,27,20,8,8,19,27,3,27,27,8,27,27,3,27,8,27,27,27,11,15,27,27,8,27,27,27,27,27,27,27,4,27,25,3,27,27,27,22,27,27,27,27,16,27,27,2,4,27,8,22,27,14,8,8,3,8,4,27,8,27,27,27,27,27,13,27,23,27,14,27,3,3,27,27,18,20,27,27,27,16,7,17,25,27,27,27,27,7,27,5,3,27,27,27,27,0,22,27,25,27,27,11,27,27,27,13,27,27,3,4,27,27,22,27,27,8,27,19,27,27,5,27,27,27,27,8,8,27,8,27,18,27,8,16,27,27,27,27,27,27,18,3,27,27,8,27,27,27,27,27,27,27,20,27,27,27,27,27,22,27,21,27,27,27,27,18,0,3,27,27,8,27,27,11,27,27,27,27,27,27,5,27,14,27,27,27,27,27,27,27,27,27,27,3,0,11,27,27,27,17,16,27,27,6,16,27,27,27,4,22,27,27,27,27,27,27,27,27,3,4,27,27,27,27,25,27,27,16,18,22,22,27,27,27,27,17,11,27,27,27,16,8,18,8,22,27,27,8,27,27,16,27,27,27,27,27,27,27,0,6,22,27,27,22,27,25,27,27,27,27,27,27,27,16,4,27,27,8,27,15,27,22,27,27,27,27,27,27,27,27,22,1,27,8,11,27,27,27,27,27,27,27,27,27,1,27,27,5,11,22,27,27,27,8,1,22,27,27,27,22,18,8,16,17,27,22,27,27,19,27,27,16,22,27,17,11,18,27,27,17,4,20,27,27,27,27,11,27,27,27,16,27,27,8,8,0,27,20,27,27,27,11,18,27,27,27,27,27,27,20,22,27,27,17,27,27,27,27,16,27,3,27,27,27,27,0,25,27,27,17,1,27,27,27,27,27,18,27,22,27,27,27,8,27,27,16,0,27,27,27,27,16,27,19,27,21,20,27,20,20,27,27,17,22,27,28,22,0,27,15,27,20,13,3,27,20,8,27,27,27,17,27,27,19,27,27,27,27,27,27,27,27,22,16,27,27,27,27,27,8,22,27,27,18,27,27,27,8,27,27,27,27,27,0,27,3,27,28,8,3,27,20,27,20,27,27,4,27,27,27,11,27,27,2,20,27,27,27,20,24,27,3,17,19,27,27,27,27,18,27,27,22,27,15,27,27,27,27,5,20,22,27,27,27,9,27,17,27,22,27,27,27,27,27,27,27,27,27,21,22,27,27,17,27,27,27,27,27,27,18,27,27,27,27,5,27,27,17,27,8,27,18,27,17,18,17,27,17,27,27,5,15,27,22,17,20,20,27,27,11,27,27,27,27,26,27,13,27,13,5,27,27,3,27,27,0,27,27,27,8,27,27,22,27,22,15,0,28,27,27,11,27,20,27,27,27,27,27,27,16,17,27,27,22,27,0,17,27,25,27,27,0,27,16,20,4,27,27,17,27,27,27,27,27,27,27,16,27,27,1,4,27,8,27,27,27,27,23,16,27,24,1,17,27,8,27,27,27,27,7,22,27,27,27,27,27,27,23,27,27,1,27,27,11,22,27,27,27,27,8,27,0,27,27,3,27,27,27,20,0,27,22,27,27,27,27,27,27,27,27,0,11,16,27,8,16,11,22,22,27,27,5,27,27,22,11,27,27,22,0,4,17,27,20,27,5,2,27,27,27,27,27,27,20,8,22,24,27,4,27,16,27,27,27,27,27,27,17,27,27,27,27,2,27,27,4,27,17,27,27,27,27,16,4,27,3,27,27,27,3,27,14,27,27,27,27,21,22,27,24,27,27,27,17,27,13,27,27,27,27,27,27,27,16,27,22,27,16,27,27,27,4,27,8,27,22,27,27,11,27,27,27,27,27,22,27,4,16,27,4,27,27,4,11,8,27,27,27,27,27,13,4,27,27,27,4,27,23,27,8,27,27,14,3,27,27,4,27,27,18,27,22,0,27,24,5,27,18,27,27,4,27,27,27,27,19,27,27,27,27,22,27,27,27,22,27,5,27,27,22,27,17,22,27,27,1,27,27,27,27,22,8,20,22,27,19,25,27,8,27,20,4,27,27,27,27,0,8,27,27,27,16,27,27,27,17,17,22,27,27,27,27,27,27,19,27,27,27,27,27,16,27,27,17,27,27,27,27,16,27,27,22,8,3,16,22,27,27,27,27,8,27,27,27,27,16,27,27,1,27,27,8,0,27,2,15,27,27,27,4,4,27,22,8,27,16,27,20,27,27,27,27,27,22,27,27,27,27,11,27,18,27,27,27,27,27,27,27,27,27,27,27,21,8,27,8,4,17,18,27,4,27,27,27,27,27,20,27,18,27,27,16,16,16,12,27,22,27,27,27,27,17,16,27,27,20,22,27,27,27,27,27,27,27,27,16,21,27,18,27,8,17,17,14,27,22,27,27,27,22,0,27,27,27,27,27,16,27,27,27,22,27,8,27,27,27,27,27,18,27,27,27,27,16,27,19,11,27,27,27,27,20,27,27,27,3,27,27,27,27,27,17,4,4,27,16,27,8,3,27,22,27,27,27,27,27,27,27,18,17,27,27,27,27,12,27,27,27,27,8,4,17,27,25,18,16,27,27,27,27,8,11,27,27,27,27,27,0,27,27,3,27,27,1,20,27,22,11,27,3,16,4,27,27,27,27,27,27,27,8,27,11,27,23,27,27,27,1,18,11,27,4,11,27,27,27,8,27,22,27,27,27,8,19,27,27,27,22,27,8,22,27,22,22,27,27,27,20,27,27,17,27,27,22,27,27,17,27,22,27,27,27,8,5,27,2,27,27,3,27,27,16,16,27,8,0,20,27,27,27,10,27,27,27,27,27,27,27,27,3,0,27,27,22,27,4,8,17,17,27,11,27,24,27,27,27,27,27,22,17,27,27,27,17,27,27,20,27,27,27,27,27,27,22,23,27,27,27,22,15,27,27,27,20,16,27,27,20,20,22,27,27,27,27,27,27,22,27,27,23,27,27,0,27,27,17,11,27,1,27,27,27,27,27,22,3,25,3,23,27,27,22,27,17,27,27,27,27,11,17,27,0,27,14,27,27,27,28,27,4,3,27,27,16,27,27,27,27,27,25,20,27,22,27,27,27,27,8,27,20,4,11,27,27,27,27,27,27,27,22,27,1,27,27,22,27,26,27,18,27,27,14,27,3,27,27,14,27,11,20,27,18,27,27,27,27,11,27,27,16,17,27,27,27,27,27,11,20,27,16,14,8,22,0,27,27,27,27,27,11,18,27,22,27,16,4,27,27,6,8,27,27,27,8,17,27,27,27,27,27,27,25,8,8,11,1,27,16,27,17,27,27,6,27],\"level_0\":[0,1,2,3,4,5,6,7,8,9,10,11,12,13,14,15,16,17,18,19,20,21,22,23,24,25,26,27,28,29,30,31,32,33,34,35,36,37,38,39,40,41,42,43,44,45,46,47,48,49,50,51,52,53,54,55,56,57,58,59,60,61,62,63,64,65,66,67,68,69,70,71,72,73,74,75,76,77,78,79,80,81,82,83,84,85,86,87,88,89,90,91,92,93,94,95,96,97,98,99,100,101,102,103,104,105,106,107,108,109,110,111,112,113,114,115,116,117,118,119,120,121,122,123,124,125,126,127,128,129,130,131,132,133,134,135,136,137,138,139,140,141,142,143,144,145,146,147,148,149,150,151,152,153,154,155,156,157,158,159,160,161,162,163,164,165,166,167,168,169,170,171,172,173,174,175,176,177,178,179,180,181,182,183,184,185,186,187,188,189,190,191,192,193,194,195,196,197,198,199,200,201,202,203,204,205,206,207,208,209,210,211,212,213,214,215,216,217,218,219,220,221,222,223,224,225,226,227,228,229,230,231,232,233,234,235,236,237,238,239,240,241,242,243,244,245,246,247,248,249,250,251,252,253,254,255,256,257,258,259,260,261,262,263,264,265,266,267,268,269,270,271,272,273,274,275,276,277,278,279,280,281,282,283,284,285,286,287,288,289,290,291,292,293,294,295,296,297,298,299,300,301,302,303,304,305,306,307,308,309,310,311,312,313,314,315,316,317,318,319,320,321,322,323,324,325,326,327,328,329,330,331,332,333,334,335,336,337,338,339,340,341,342,343,344,345,346,347,348,349,350,351,352,353,354,355,356,357,358,359,360,361,362,363,364,365,366,367,368,369,370,371,372,373,374,375,376,377,378,379,380,381,382,383,384,385,386,387,388,389,390,391,392,393,394,395,396,397,398,399,400,401,402,403,404,405,406,407,408,409,410,411,412,413,414,415,416,417,418,419,420,421,422,423,424,425,426,427,428,429,430,431,432,433,434,435,436,437,438,439,440,441,442,443,444,445,446,447,448,449,450,451,452,453,454,455,456,457,458,459,460,461,462,463,464,465,466,467,468,469,470,471,472,473,474,475,476,477,478,479,480,481,482,483,484,485,486,487,488,489,490,491,492,493,494,495,496,497,498,499,500,501,502,503,504,505,506,507,508,509,510,511,512,513,514,515,516,517,518,519,520,521,522,523,524,525,526,527,528,529,530,531,532,533,534,535,536,537,538,539,540,541,542,543,544,545,546,547,548,549,550,551,552,553,554,555,556,557,558,559,560,561,562,563,564,565,566,567,568,569,570,571,572,573,574,575,576,577,578,579,580,581,582,583,584,585,586,587,588,589,590,591,592,593,594,595,596,597,598,599,600,601,602,603,604,605,606,607,608,609,610,611,612,613,614,615,616,617,618,619,620,621,622,623,624,625,626,627,628,629,630,631,632,633,634,635,636,637,638,639,640,641,642,643,644,645,646,647,648,649,650,651,652,653,654,655,656,657,658,659,660,661,662,663,664,665,666,667,668,669,670,671,672,673,674,675,676,677,678,679,680,681,682,683,684,685,686,687,688,689,690,691,692,693,694,695,696,697,698,699,700,701,702,703,704,705,706,707,708,709,710,711,712,713,714,715,716,717,718,719,720,721,722,723,724,725,726,727,728,729,730,731,732,733,734,735,736,737,738,739,740,741,742,743,744,745,746,747,748,749,750,751,752,753,754,755,756,757,758,759,760,761,762,763,764,765,766,767,768,769,770,771,772,773,774,775,776,777,778,779,780,781,782,783,784,785,786,787,788,789,790,791,792,793,794,795,796,797,798,799,800,801,802,803,804,805,806,807,808,809,810,811,812,813,814,815,816,817,818,819,820,821,822,823,824,825,826,827,828,829,830,831,832,833,834,835,836,837,838,839,840,841,842,843,844,845,846,847,848,849,850,851,852,853,854,855,856,857,858,859,860,861,862,863,864,865,866,867,868,869,870,871,872,873,874,875,876,877,878,879,880,881,882,883,884,885,886,887,888,889,890,891,892,893,894,895,896,897,898,899,900,901,902,903,904,905,906,907,908,909,910,911,912,913,914,915,916,917,918,919,920,921,922,923,924,925,926,927,928,929,930,931,932,933,934,935,936,937,938,939,940,941,942,943,944,945,946,947,948,949,950,951,952,953,954,955,956,957,958,959,960,961,962,963,964,965,966,967,968,969,970,971,972,973,974,975,976,977,978,979,980,981,982,983,984,985,986,987,988,989,990,991,992,993,994,995,996,997,998,999,1000,1001,1002,1003,1004,1005,1006,1007,1008,1009,1010,1011,1012,1013,1014,1015,1016,1017,1018,1019,1020,1021,1022,1023,1024,1025,1026,1027,1028,1029,1030,1031,1032,1033,1034,1035,1036,1037,1038,1039,1040,1041,1042,1043,1044,1045,1046,1047,1048,1049,1050,1051,1052,1053,1054,1055,1056,1057,1058,1059,1060,1061,1062,1063,1064,1065,1066,1067,1068,1069,1070,1071,1072,1073,1074,1075,1076,1077,1078,1079,1080,1081,1082,1083,1084,1085,1086,1087,1088,1089,1090,1091,1092,1093,1094,1095,1096,1097,1098,1099,1100,1101,1102,1103,1104,1105,1106,1107,1108,1109,1110,1111,1112,1113,1114,1115,1116,1117,1118,1119,1120,1121,1122,1123,1124,1125,1126,1127,1128,1129,1130,1131,1132,1133,1134,1135,1136,1137,1138,1139,1140,1141,1142,1143,1144,1145,1146,1147,1148,1149,1150,1151,1152,1153,1154,1155,1156,1157,1158,1159,1160,1161,1162,1163,1164,1165,1166,1167,1168,1169,1170,1171,1172,1173,1174,1175,1176,1177,1178,1179,1180,1181,1182,1183,1184,1185,1186,1187,1188,1189,1190,1191,1192,1193,1194,1195,1196,1197,1198,1199,1200,1201,1202,1203,1204,1205,1206,1207,1208,1209,1210,1211,1212,1213,1214,1215,1216,1217,1218,1219,1220,1221,1222,1223,1224,1225,1226,1227,1228,1229,1230,1231,1232,1233,1234,1235,1236,1237,1238,1239,1240,1241,1242,1243,1244,1245,1246,1247,1248,1249,1250,1251,1252,1253,1254,1255,1256,1257,1258,1259,1260,1261,1262,1263,1264,1265,1266,1267,1268,1269,1270,1271,1272,1273,1274,1275,1276,1277,1278,1279,1280,1281,1282,1283,1284,1285,1286,1287,1288,1289,1290,1291,1292,1293,1294,1295,1296,1297,1298,1299,1300,1301,1302,1303,1304,1305,1306,1307,1308,1309,1310,1311,1312,1313,1314,1315,1316,1317,1318,1319,1320,1321,1322,1323,1324,1325,1326,1327,1328,1329,1330,1331,1332,1333,1334,1335,1336,1337,1338,1339,1340,1341,1342,1343,1344,1345,1346,1347,1348,1349,1350,1351,1352,1353,1354,1355,1356,1357,1358,1359,1360,1361,1362,1363,1364,1365,1366,1367,1368,1369,1370,1371,1372,1373,1374,1375,1376,1377,1378,1379,1380,1381,1382,1383,1384,1385,1386,1387,1388,1389,1390,1391,1392,1393,1394,1395,1396,1397,1398,1399,1400,1401,1402,1403,1404,1405,1406,1407,1408,1409,1410,1411,1412,1413,1414,1415,1416,1417,1418,1419,1420,1421,1422,1423,1424,1425,1426,1427,1428,1429,1430,1431,1432,1433,1434,1435,1436,1437,1438,1439,1440,1441,1442,1443,1444,1445,1446,1447,1448,1449,1450,1451,1452,1453,1454,1455,1456,1457,1458,1459,1460,1461,1462,1463,1464,1465,1466,1467,1468,1469,1470,1471,1472,1473,1474,1475,1476,1477,1478,1479,1480,1481,1482,1483,1484,1485,1486,1487,1488,1489,1490,1491,1492,1493,1494,1495,1496,1497,1498,1499,1500,1501,1502,1503,1504,1505,1506,1507,1508,1509,1510,1511,1512,1513,1514,1515,1516,1517,1518,1519,1520,1521,1522,1523,1524,1525,1526,1527,1528,1529,1530,1531,1532,1533,1534,1535,1536,1537,1538,1539,1540,1541,1542,1543,1544,1545,1546,1547,1548,1549,1550,1551,1552,1553,1554,1555,1556,1557,1558,1559,1560,1561,1562,1563,1564,1565,1566,1567,1568,1569,1570,1571,1572,1573,1574,1575,1576,1577,1578,1579,1580,1581,1582,1583,1584,1585,1586,1587,1588,1589,1590,1591,1592,1593,1594,1595,1596,1597,1598,1599,1600,1601,1602,1603,1604,1605,1606,1607,1608,1609,1610,1611,1612,1613,1614,1615,1616,1617,1618,1619,1620,1621,1622,1623,1624,1625,1626,1627,1628,1629,1630,1631,1632,1633,1634,1635,1636,1637,1638,1639,1640,1641,1642,1643,1644,1645,1646,1647,1648,1649,1650,1651,1652,1653,1654,1655,1656,1657,1658,1659,1660,1661,1662,1663,1664,1665,1666,1667,1668,1669,1670,1671,1672,1673,1674,1675,1676,1677,1678,1679,1680,1681,1682,1683,1684,1685,1686,1687,1688,1689,1690,1691,1692,1693,1694,1695,1696,1697,1698,1699,1700,1701,1702,1703,1704,1705,1706,1707,1708,1709,1710,1711,1712,1713,1714,1715,1716,1717,1718,1719,1720,1721,1722,1723,1724,1725,1726,1727,1728,1729,1730,1731,1732,1733,1734,1735,1736,1737,1738,1739,1740,1741,1742,1743,1744,1745,1746,1747,1748,1749,1750,1751,1752,1753,1754,1755,1756,1757,1758,1759,1760,1761,1762,1763,1764,1765,1766,1767,1768,1769,1770,1771,1772,1773,1774,1775,1776,1777,1778,1779,1780,1781,1782,1783,1784,1785,1786,1787,1788,1789,1790,1791,1792,1793,1794,1795,1796,1797,1798,1799,1800,1801,1802,1803,1804,1805,1806,1807,1808,1809,1810,1811,1812,1813,1814,1815,1816,1817,1818,1819,1820,1821,1822,1823,1824,1825,1826,1827,1828,1829,1830,1831,1832,1833,1834,1835,1836,1837,1838,1839,1840,1841,1842,1843,1844,1845,1846,1847,1848,1849,1850,1851,1852,1853,1854,1855,1856,1857,1858,1859,1860,1861,1862,1863,1864,1865,1866,1867,1868,1869,1870,1871,1872,1873,1874,1875,1876,1877,1878,1879,1880,1881,1882,1883,1884,1885,1886,1887,1888,1889,1890,1891,1892,1893,1894,1895,1896,1897,1898,1899,1900,1901,1902,1903,1904,1905,1906,1907,1908,1909,1910,1911,1912,1913,1914,1915,1916,1917,1918,1919,1920,1921,1922,1923,1924,1925,1926,1927,1928,1929,1930,1931,1932,1933,1934,1935,1936,1937,1938,1939,1940,1941,1942,1943,1944,1945,1946,1947,1948,1949,1950,1951,1952,1953,1954,1955,1956,1957,1958,1959,1960,1961,1962,1963,1964,1965,1966,1967,1968,1969,1970,1971,1972,1973,1974,1975,1976,1977,1978,1979,1980,1981,1982,1983,1984,1985,1986,1987,1988,1989,1990,1991,1992,1993,1994,1995,1996,1997,1998,1999,2000,2001,2002,2003,2004,2005,2006,2007,2008,2009,2010,2011,2012,2013,2014,2015,2016,2017,2018,2019,2020,2021,2022,2023,2024,2025,2026,2027,2028,2029,2030,2031,2032,2033,2034,2035,2036,2037,2038,2039,2040,2041,2042,2043,2044,2045,2046,2047,2048,2049,2050,2051,2052,2053,2054,2055,2056,2057,2058,2059,2060,2061,2062,2063,2064,2065,2066,2067,2068,2069,2070,2071,2072,2073,2074,2075,2076,2077,2078,2079,2080,2081,2082,2083,2084,2085,2086,2087,2088,2089,2090,2091,2092,2093,2094,2095,2096,2097,2098,2099,2100,2101,2102,2103,2104,2105,2106,2107,2108,2109,2110,2111,2112,2113,2114,2115,2116,2117,2118,2119,2120,2121,2122,2123,2124,2125,2126,2127,2128,2129,2130,2131,2132,2133,2134,2135,2136,2137,2138,2139,2140,2141,2142,2143,2144,2145,2146,2147,2148,2149,2150,2151,2152,2153,2154,2155,2156,2157,2158,2159,2160,2161,2162,2163,2164,2165,2166,2167,2168,2169,2170,2171,2172,2173,2174,2175,2176,2177,2178,2179,2180,2181,2182,2183,2184,2185,2186,2187,2188,2189,2190,2191,2192,2193,2194,2195,2196,2197,2198,2199,2200,2201,2202,2203,2204,2205,2206,2207,2208,2209,2210,2211,2212,2213,2214,2215,2216,2217,2218,2219,2220,2221,2222,2223,2224,2225,2226,2227,2228,2229,2230,2231,2232,2233,2234,2235,2236,2237,2238,2239,2240,2241,2242,2243,2244,2245,2246,2247,2248,2249,2250,2251,2252,2253,2254,2255,2256,2257,2258,2259,2260,2261,2262,2263,2264,2265,2266,2267,2268,2269,2270,2271,2272,2273,2274,2275,2276,2277,2278,2279,2280,2281,2282,2283,2284,2285,2286,2287,2288,2289,2290,2291,2292,2293,2294,2295,2296,2297,2298,2299,2300,2301,2302,2303,2304,2305,2306,2307,2308,2309,2310,2311,2312,2313,2314,2315,2316,2317,2318,2319,2320,2321,2322,2323,2324,2325,2326,2327,2328,2329,2330,2331,2332,2333,2334,2335,2336,2337,2338,2339,2340,2341,2342,2343,2344,2345,2346,2347,2348,2349,2350,2351,2352,2353,2354,2355,2356,2357,2358,2359,2360,2361,2362,2363,2364,2365,2366,2367,2368,2369,2370,2371,2372,2373,2374,2375,2376,2377,2378,2379,2380,2381,2382,2383,2384,2385,2386,2387,2388,2389,2390,2391,2392,2393,2394,2395,2396,2397,2398,2399,2400,2401,2402,2403,2404,2405,2406,2407,2408,2409,2410,2411,2412,2413,2414,2415,2416,2417,2418,2419,2420,2421,2422,2423,2424,2425,2426,2427,2428,2429,2430,2431,2432,2433,2434,2435,2436,2437,2438,2439,2440,2441,2442,2443,2444,2445,2446,2447,2448,2449,2450,2451,2452,2453,2454,2455,2456,2457,2458,2459,2460,2461,2462,2463,2464,2465,2466,2467,2468,2469,2470,2471,2472,2473,2474,2475,2476,2477,2478,2479,2480,2481,2482,2483,2484,2485,2486,2487,2488,2489,2490,2491,2492,2493,2494,2495,2496,2497,2498,2499,2500,2501,2502,2503,2504,2505,2506,2507,2508,2509,2510,2511,2512,2513,2514,2515,2516,2517,2518,2519,2520,2521,2522,2523,2524,2525,2526,2527,2528,2529,2530,2531,2532,2533,2534,2535,2536,2537,2538,2539,2540,2541,2542,2543,2544,2545,2546,2547,2548,2549,2550,2551,2552,2553,2554,2555,2556,2557,2558,2559,2560,2561,2562,2563,2564,2565,2566,2567,2568,2569,2570,2571,2572,2573,2574,2575,2576,2577,2578,2579,2580,2581,2582,2583,2584,2585,2586,2587,2588,2589,2590,2591,2592,2593,2594,2595,2596,2597,2598,2599,2600,2601,2602,2603,2604,2605,2606,2607,2608,2609,2610,2611,2612,2613,2614,2615,2616,2617,2618,2619,2620,2621,2622,2623,2624,2625,2626,2627,2628,2629,2630,2631,2632,2633,2634,2635,2636,2637,2638,2639,2640,2641,2642,2643,2644,2645,2646,2647,2648,2649,2650,2651,2652,2653,2654,2655,2656,2657,2658,2659,2660,2661,2662,2663,2664,2665,2666,2667,2668,2669,2670,2671,2672,2673,2674,2675,2676,2677,2678,2679,2680,2681,2682,2683,2684,2685,2686,2687,2688,2689,2690,2691,2692,2693,2694,2695,2696,2697,2698,2699,2700,2701,2702,2703,2704,2705,2706,2707,2708,2709,2710,2711,2712,2713,2714,2715,2716,2717,2718,2719,2720,2721,2722,2723,2724,2725,2726,2727,2728,2729,2730,2731,2732,2733,2734,2735,2736,2737,2738,2739,2740,2741,2742,2743,2744,2745,2746,2747,2748,2749,2750,2751,2752,2753,2754,2755,2756,2757,2758,2759,2760,2761,2762,2763,2764,2765,2766,2767,2768,2769,2770,2771,2772,2773,2774,2775,2776,2777,2778,2779,2780,2781,2782,2783,2784,2785,2786,2787,2788,2789,2790,2791,2792,2793,2794,2795,2796,2797,2798,2799,2800,2801,2802,2803,2804,2805,2806,2807,2808,2809,2810,2811,2812,2813,2814,2815,2816,2817,2818,2819,2820,2821,2822,2823,2824,2825,2826,2827,2828,2829,2830,2831,2832,2833,2834,2835,2836,2837,2838,2839,2840,2841,2842,2843,2844,2845,2846,2847,2848,2849,2850,2851,2852,2853,2854,2855,2856,2857,2858,2859,2860,2861,2862,2863,2864,2865,2866,2867,2868,2869,2870,2871,2872,2873,2874,2875,2876,2877,2878,2879,2880,2881,2882,2883,2884,2885,2886,2887,2888,2889,2890,2891,2892,2893,2894,2895,2896,2897,2898,2899,2900,2901,2902,2903,2904,2905,2906,2907,2908,2909,2910,2911,2912,2913,2914,2915,2916,2917,2918,2919,2920,2921,2922,2923,2924,2925,2926,2927,2928,2929,2930,2931,2932,2933,2934,2935,2936,2937,2938,2939,2940,2941,2942,2943,2944,2945,2946,2947,2948,2949,2950,2951,2952,2953,2954,2955,2956,2957,2958,2959,2960,2961,2962,2963,2964,2965,2966,2967,2968,2969,2970,2971,2972,2973,2974,2975,2976,2977,2978,2979,2980,2981,2982,2983,2984,2985,2986,2987,2988,2989,2990,2991,2992,2993,2994,2995,2996,2997,2998,2999,3000,3001,3002,3003,3004,3005,3006,3007,3008,3009,3010,3011,3012,3013,3014,3015,3016,3017,3018,3019,3020,3021,3022,3023,3024,3025,3026,3027,3028,3029,3030,3031,3032,3033,3034,3035,3036,3037,3038,3039,3040,3041,3042,3043,3044,3045,3046,3047,3048,3049,3050,3051,3052,3053,3054,3055,3056,3057,3058,3059,3060,3061,3062,3063,3064,3065,3066,3067,3068,3069,3070,3071,3072,3073,3074,3075,3076,3077,3078,3079,3080,3081,3082,3083,3084,3085,3086,3087,3088,3089,3090,3091,3092,3093,3094,3095,3096,3097,3098,3099,3100,3101,3102,3103,3104,3105,3106,3107,3108,3109,3110,3111,3112,3113,3114,3115,3116,3117,3118,3119,3120,3121,3122,3123,3124,3125,3126,3127,3128,3129,3130,3131,3132,3133,3134,3135,3136,3137,3138,3139,3140,3141,3142,3143,3144,3145,3146,3147,3148,3149,3150,3151,3152,3153,3154,3155,3156,3157,3158,3159,3160,3161,3162,3163,3164,3165,3166,3167,3168,3169,3170,3171,3172,3173,3174,3175,3176,3177,3178,3179,3180,3181,3182,3183,3184,3185,3186,3187,3188,3189,3190,3191,3192,3193,3194,3195,3196,3197,3198,3199,3200,3201,3202,3203,3204,3205,3206,3207,3208,3209,3210,3211,3212,3213,3214,3215,3216,3217,3218,3219,3220,3221,3222,3223,3224,3225,3226,3227,3228,3229,3230,3231,3232,3233,3234,3235,3236,3237,3238,3239,3240,3241,3242,3243,3244,3245,3246,3247,3248,3249,3250,3251,3252,3253,3254,3255,3256,3257,3258,3259,3260,3261,3262,3263,3264,3265,3266,3267,3268,3269,3270,3271,3272,3273,3274,3275,3276,3277,3278,3279,3280,3281,3282,3283,3284,3285,3286,3287,3288,3289,3290,3291,3292,3293,3294,3295,3296,3297,3298,3299,3300,3301,3302,3303,3304,3305,3306,3307,3308,3309,3310,3311,3312,3313,3314,3315,3316,3317,3318,3319,3320,3321,3322,3323,3324,3325,3326,3327,3328,3329,3330,3331,3332,3333,3334,3335,3336,3337,3338,3339,3340,3341,3342,3343,3344,3345,3346,3347,3348,3349,3350,3351,3352,3353,3354,3355,3356,3357,3358,3359,3360,3361,3362,3363,3364,3365,3366,3367,3368,3369,3370,3371,3372,3373,3374,3375,3376,3377,3378,3379,3380,3381,3382,3383,3384,3385,3386,3387,3388,3389,3390,3391,3392,3393,3394,3395,3396,3397,3398,3399,3400,3401,3402,3403,3404,3405,3406,3407,3408,3409,3410,3411,3412,3413,3414,3415,3416,3417,3418,3419,3420,3421,3422,3423,3424,3425,3426,3427,3428,3429,3430,3431,3432,3433,3434,3435,3436,3437,3438,3439,3440,3441,3442,3443,3444,3445,3446,3447,3448,3449,3450,3451,3452,3453,3454,3455,3456,3457,3458,3459,3460,3461,3462,3463,3464,3465,3466,3467,3468,3469,3470,3471,3472,3473,3474,3475,3476,3477,3478,3479,3480,3481,3482,3483,3484,3485,3486,3487,3488,3489,3490,3491,3492,3493,3494,3495,3496,3497,3498,3499,3500,3501,3502,3503,3504,3505,3506,3507,3508,3509,3510,3511,3512,3513,3514,3515,3516,3517,3518,3519,3520,3521,3522,3523,3524,3525,3526,3527,3528,3529,3530,3531,3532,3533,3534,3535,3536,3537,3538,3539,3540,3541,3542,3543,3544,3545,3546,3547,3548,3549,3550,3551,3552,3553,3554,3555,3556,3557,3558,3559,3560,3561,3562,3563,3564,3565,3566,3567,3568,3569,3570,3571,3572,3573,3574,3575,3576,3577,3578,3579,3580,3581,3582,3583,3584,3585,3586,3587,3588,3589,3590,3591,3592,3593,3594,3595,3596,3597,3598,3599,3600,3601,3602,3603,3604,3605,3606,3607,3608,3609,3610,3611,3612,3613,3614,3615,3616,3617,3618,3619,3620,3621,3622,3623,3624,3625,3626,3627,3628,3629,3630,3631,3632,3633,3634,3635,3636,3637,3638,3639,3640,3641,3642,3643,3644,3645,3646,3647,3648,3649,3650,3651,3652,3653,3654,3655,3656,3657,3658,3659,3660,3661,3662,3663,3664,3665,3666,3667,3668,3669,3670,3671,3672,3673,3674,3675,3676,3677,3678,3679,3680,3681,3682,3683,3684,3685,3686,3687,3688,3689,3690,3691,3692,3693,3694,3695,3696,3697,3698,3699,3700,3701,3702,3703,3704,3705,3706,3707,3708,3709,3710,3711,3712,3713,3714,3715,3716,3717,3718,3719,3720,3721,3722,3723,3724,3725,3726,3727,3728,3729,3730,3731,3732,3733,3734,3735,3736,3737,3738,3739,3740,3741,3742,3743,3744,3745,3746,3747,3748,3749,3750,3751,3752,3753,3754,3755,3756,3757,3758,3759,3760,3761,3762,3763,3764,3765,3766,3767,3768,3769,3770,3771,3772,3773,3774,3775,3776,3777,3778,3779,3780,3781,3782,3783,3784,3785,3786,3787,3788,3789,3790,3791,3792,3793,3794,3795,3796,3797,3798,3799,3800,3801,3802,3803,3804,3805,3806,3807,3808,3809,3810,3811,3812,3813,3814,3815,3816,3817,3818,3819,3820,3821,3822,3823,3824,3825,3826,3827,3828,3829,3830,3831,3832,3833,3834,3835,3836,3837,3838,3839,3840,3841,3842,3843,3844,3845,3846,3847,3848,3849,3850,3851,3852,3853,3854,3855,3856,3857,3858,3859,3860,3861,3862,3863,3864,3865,3866,3867,3868,3869,3870,3871,3872,3873,3874,3875,3876,3877,3878,3879,3880,3881,3882,3883,3884,3885,3886,3887,3888,3889,3890,3891,3892,3893,3894,3895,3896,3897,3898,3899,3900,3901,3902,3903,3904,3905,3906,3907,3908,3909,3910,3911,3912,3913,3914,3915,3916,3917,3918,3919,3920,3921,3922,3923,3924,3925,3926,3927,3928,3929,3930,3931,3932,3933,3934,3935,3936,3937,3938,3939,3940,3941,3942,3943,3944,3945,3946,3947,3948,3949,3950,3951,3952,3953,3954,3955,3956,3957,3958,3959,3960,3961,3962,3963,3964,3965,3966,3967,3968,3969,3970,3971,3972,3973,3974,3975,3976,3977,3978,3979,3980,3981,3982,3983,3984,3985,3986,3987,3988,3989,3990,3991,3992,3993,3994,3995,3996,3997,3998,3999,4000,4001,4002,4003,4004,4005,4006,4007,4008,4009,4010,4011,4012,4013,4014,4015,4016,4017,4018,4019,4020,4021,4022,4023,4024,4025,4026,4027,4028,4029,4030,4031,4032,4033,4034,4035,4036,4037,4038,4039,4040,4041,4042,4043,4044,4045,4046,4047,4048,4049,4050,4051,4052,4053,4054,4055,4056,4057,4058,4059,4060,4061,4062,4063,4064,4065,4066,4067,4068,4069,4070,4071,4072,4073,4074,4075,4076,4077,4078,4079,4080,4081,4082,4083,4084,4085,4086,4087,4088,4089,4090,4091,4092,4093,4094,4095,4096,4097,4098,4099,4100,4101,4102,4103,4104,4105,4106,4107,4108,4109,4110,4111,4112,4113,4114,4115,4116,4117,4118,4119,4120,4121,4122,4123,4124,4125,4126,4127,4128,4129,4130,4131,4132,4133,4134,4135,4136,4137,4138,4139,4140,4141,4142,4143,4144,4145,4146,4147,4148,4149,4150,4151,4152,4153,4154,4155,4156,4157,4158,4159,4160,4161,4162,4163,4164,4165,4166,4167,4168,4169,4170,4171,4172,4173,4174,4175,4176,4177,4178,4179,4180,4181,4182,4183,4184,4185,4186,4187,4188,4189,4190,4191,4192,4193,4194,4195,4196,4197,4198,4199,4200,4201,4202,4203,4204,4205,4206,4207,4208,4209,4210,4211,4212,4213,4214,4215,4216,4217,4218,4219,4220,4221,4222,4223,4224,4225,4226,4227,4228,4229,4230,4231,4232,4233,4234,4235,4236,4237,4238,4239,4240,4241,4242,4243,4244,4245,4246,4247,4248,4249,4250,4251,4252,4253,4254,4255,4256,4257,4258,4259,4260,4261,4262,4263,4264,4265,4266,4267,4268,4269,4270,4271,4272,4273,4274,4275,4276,4277,4278,4279,4280,4281,4282,4283,4284,4285,4286,4287,4288,4289,4290,4291,4292,4293,4294,4295,4296,4297,4298,4299,4300,4301,4302,4303,4304,4305,4306,4307,4308,4309,4310,4311,4312,4313,4314,4315,4316,4317,4318,4319,4320,4321,4322,4323,4324,4325,4326,4327,4328,4329,4330,4331,4332,4333,4334,4335,4336,4337,4338,4339,4340,4341,4342,4343,4344,4345,4346,4347,4348,4349,4350,4351,4352,4353,4354,4355,4356,4357,4358,4359,4360,4361,4362,4363,4364,4365,4366,4367,4368,4369,4370,4371,4372,4373,4374,4375,4376,4377,4378,4379,4380,4381,4382,4383,4384,4385,4386,4387,4388,4389,4390,4391,4392,4393,4394,4395,4396,4397,4398,4399,4400,4401,4402,4403,4404,4405,4406,4407,4408,4409,4410,4411,4412,4413,4414,4415,4416,4417,4418,4419,4420,4421,4422,4423,4424,4425,4426,4427,4428,4429,4430,4431,4432,4433,4434,4435,4436,4437,4438,4439,4440,4441,4442,4443,4444,4445,4446,4447,4448,4449,4450,4451,4452,4453,4454,4455,4456,4457,4458,4459,4460,4461,4462,4463,4464,4465,4466,4467,4468,4469,4470,4471,4472,4473,4474,4475,4476,4477,4478,4479,4480,4481,4482,4483,4484,4485,4486,4487,4488,4489,4490,4491,4492,4493,4494,4495,4496,4497,4498,4499,4500,4501,4502,4503,4504,4505,4506,4507,4508,4509,4510,4511,4512,4513,4514,4515,4516,4517,4518,4519,4520,4521,4522,4523,4524,4525,4526,4527,4528,4529,4530,4531,4532,4533,4534,4535,4536,4537,4538,4539,4540,4541,4542,4543,4544,4545,4546,4547,4548,4549,4550,4551,4552,4553,4554,4555,4556,4557,4558,4559,4560,4561,4562,4563,4564,4565,4566,4567,4568,4569,4570,4571,4572,4573,4574,4575,4576,4577,4578,4579,4580,4581,4582,4583,4584,4585,4586,4587,4588,4589,4590,4591,4592,4593,4594,4595,4596,4597,4598,4599,4600,4601,4602,4603,4604,4605,4606,4607,4608,4609,4610,4611,4612,4613,4614,4615,4616,4617,4618,4619,4620,4621,4622,4623,4624,4625,4626,4627,4628,4629,4630,4631,4632,4633,4634,4635,4636,4637,4638,4639,4640,4641,4642,4643,4644,4645,4646,4647,4648,4649,4650,4651,4652,4653,4654,4655,4656,4657,4658,4659,4660,4661,4662,4663,4664,4665,4666,4667,4668,4669,4670,4671,4672,4673,4674,4675,4676,4677,4678,4679,4680,4681,4682,4683,4684,4685,4686,4687,4688,4689,4690,4691,4692,4693,4694,4695,4696,4697,4698,4699,4700,4701,4702,4703,4704,4705,4706,4707,4708,4709,4710,4711,4712,4713,4714,4715,4716,4717,4718,4719,4720,4721,4722,4723,4724,4725,4726,4727,4728,4729,4730,4731,4732,4733,4734,4735,4736,4737,4738,4739,4740,4741,4742,4743,4744,4745,4746,4747,4748,4749,4750,4751,4752,4753,4754,4755,4756,4757,4758,4759,4760,4761,4762,4763,4764,4765,4766,4767,4768,4769,4770,4771,4772,4773,4774,4775,4776,4777,4778,4779,4780,4781,4782,4783,4784,4785,4786,4787,4788,4789,4790,4791,4792,4793,4794,4795,4796,4797,4798,4799,4800,4801,4802,4803,4804,4805,4806,4807,4808,4809,4810,4811,4812,4813,4814,4815,4816,4817,4818,4819,4820,4821,4822,4823,4824,4825,4826,4827],\"x\":{\"__ndarray__\":\"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\",\"dtype\":\"float32\",\"order\":\"little\",\"shape\":[4828]},\"y\":{\"__ndarray__\":\"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\",\"dtype\":\"float32\",\"order\":\"little\",\"shape\":[4828]}},\"selected\":{\"id\":\"1159\"},\"selection_policy\":{\"id\":\"1160\"}},\"id\":\"1104\",\"type\":\"ColumnDataSource\"},{\"attributes\":{},\"id\":\"1110\",\"type\":\"LinearScale\"},{\"attributes\":{\"source\":{\"id\":\"1104\"}},\"id\":\"1142\",\"type\":\"CDSView\"},{\"attributes\":{},\"id\":\"1112\",\"type\":\"LinearScale\"},{\"attributes\":{\"formatter\":{\"id\":\"1158\"},\"ticker\":{\"id\":\"1119\"},\"visible\":false},\"id\":\"1118\",\"type\":\"LinearAxis\"},{\"attributes\":{\"axis\":{\"id\":\"1114\"},\"ticker\":null,\"visible\":false},\"id\":\"1117\",\"type\":\"Grid\"},{\"attributes\":{\"bottom_units\":\"screen\",\"fill_alpha\":0.5,\"fill_color\":\"lightgrey\",\"left_units\":\"screen\",\"level\":\"overlay\",\"line_alpha\":1.0,\"line_color\":\"black\",\"line_dash\":[4,4],\"line_width\":2,\"right_units\":\"screen\",\"top_units\":\"screen\"},\"id\":\"1128\",\"type\":\"BoxAnnotation\"},{\"attributes\":{\"overlay\":{\"id\":\"1128\"}},\"id\":\"1124\",\"type\":\"BoxZoomTool\"},{\"attributes\":{},\"id\":\"1115\",\"type\":\"BasicTicker\"},{\"attributes\":{},\"id\":\"1123\",\"type\":\"WheelZoomTool\"},{\"attributes\":{},\"id\":\"1125\",\"type\":\"SaveTool\"},{\"attributes\":{},\"id\":\"1160\",\"type\":\"UnionRenderers\"},{\"attributes\":{},\"id\":\"1158\",\"type\":\"BasicTickFormatter\"},{\"attributes\":{},\"id\":\"1127\",\"type\":\"HelpTool\"},{\"attributes\":{\"fill_alpha\":{\"field\":\"alpha\"},\"fill_color\":{\"field\":\"color\"},\"line_alpha\":{\"field\":\"alpha\"},\"line_color\":{\"field\":\"color\"},\"size\":{\"units\":\"screen\",\"value\":5},\"x\":{\"field\":\"x\"},\"y\":{\"field\":\"y\"}},\"id\":\"1139\",\"type\":\"Circle\"},{\"attributes\":{\"callback\":null,\"tooltips\":[[\"index\",\"@index\"],[\"label\",\"@label\"],[\"item\",\"@item\"]]},\"id\":\"1129\",\"type\":\"HoverTool\"},{\"attributes\":{},\"id\":\"1159\",\"type\":\"Selection\"},{\"attributes\":{\"active_drag\":\"auto\",\"active_inspect\":\"auto\",\"active_multi\":null,\"active_scroll\":\"auto\",\"active_tap\":\"auto\",\"tools\":[{\"id\":\"1122\"},{\"id\":\"1123\"},{\"id\":\"1124\"},{\"id\":\"1125\"},{\"id\":\"1126\"},{\"id\":\"1127\"},{\"id\":\"1129\"}]},\"id\":\"1130\",\"type\":\"Toolbar\"},{\"attributes\":{},\"id\":\"1126\",\"type\":\"ResetTool\"},{\"attributes\":{},\"id\":\"1119\",\"type\":\"BasicTicker\"},{\"attributes\":{},\"id\":\"1122\",\"type\":\"PanTool\"},{\"attributes\":{},\"id\":\"1156\",\"type\":\"BasicTickFormatter\"},{\"attributes\":{},\"id\":\"1106\",\"type\":\"DataRange1d\"},{\"attributes\":{\"fill_alpha\":{\"value\":0.1},\"fill_color\":{\"field\":\"color\"},\"line_alpha\":{\"value\":0.1},\"line_color\":{\"field\":\"color\"},\"size\":{\"units\":\"screen\",\"value\":5},\"x\":{\"field\":\"x\"},\"y\":{\"field\":\"y\"}},\"id\":\"1140\",\"type\":\"Circle\"},{\"attributes\":{\"axis\":{\"id\":\"1118\"},\"dimension\":1,\"ticker\":null,\"visible\":false},\"id\":\"1121\",\"type\":\"Grid\"}],\"root_ids\":[\"1105\"]},\"title\":\"Bokeh Application\",\"version\":\"2.1.0\"}};\n",
       "  var render_items = [{\"docid\":\"9f259b70-5e4a-4677-a085-da423e8c56de\",\"root_ids\":[\"1105\"],\"roots\":{\"1105\":\"c72ce6e4-428f-4699-b71a-425dd4cda714\"}}];\n",
       "  root.Bokeh.embed.embed_items_notebook(docs_json, render_items);\n",
       "\n",
       "  }\n",
       "  if (root.Bokeh !== undefined) {\n",
       "    embed_document(root);\n",
       "  } else {\n",
       "    var attempts = 0;\n",
       "    var timer = setInterval(function(root) {\n",
       "      if (root.Bokeh !== undefined) {\n",
       "        clearInterval(timer);\n",
       "        embed_document(root);\n",
       "      } else {\n",
       "        attempts++;\n",
       "        if (attempts > 100) {\n",
       "          clearInterval(timer);\n",
       "          console.log(\"Bokeh: ERROR: Unable to run BokehJS code because BokehJS library is missing\");\n",
       "        }\n",
       "      }\n",
       "    }, 10, root)\n",
       "  }\n",
       "})(window);"
      ],
      "application/vnd.bokehjs_exec.v0+json": ""
     },
     "metadata": {
      "application/vnd.bokehjs_exec.v0+json": {
       "id": "1105"
      }
     },
     "output_type": "display_data"
    }
   ],
   "source": [
    "train_mapper = umap.UMAP().fit(train_embed)\n",
    "hover_data = pd.DataFrame({'index':np.arange(4828),\n",
    "                           'label':train_labels})\n",
    "hover_data['item'] = hover_data.label.map(umap_map)\n",
    "\n",
    "p = umap.plot.interactive(train_mapper, labels=train_labels, hover_data=hover_data,point_size=5)\n",
    "output_notebook()\n",
    "show(p)"
   ]
  },
  {
   "cell_type": "code",
   "execution_count": null,
   "metadata": {},
   "outputs": [],
   "source": []
  }
 ],
 "metadata": {
  "colab": {
   "name": "ProtCNN_EmbeddingCopy.ipynb",
   "provenance": []
  },
  "kernelspec": {
   "display_name": "Python 3",
   "language": "python",
   "name": "python3"
  },
  "language_info": {
   "codemirror_mode": {
    "name": "ipython",
    "version": 3
   },
   "file_extension": ".py",
   "mimetype": "text/x-python",
   "name": "python",
   "nbconvert_exporter": "python",
   "pygments_lexer": "ipython3",
   "version": "3.7.6"
  }
 },
 "nbformat": 4,
 "nbformat_minor": 4
}
