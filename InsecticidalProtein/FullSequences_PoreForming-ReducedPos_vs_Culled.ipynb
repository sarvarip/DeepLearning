{
 "cells": [
  {
   "cell_type": "code",
   "execution_count": 1,
   "metadata": {
    "colab": {},
    "colab_type": "code",
    "id": "a98D5LzNVJEI"
   },
   "outputs": [
    {
     "name": "stdout",
     "output_type": "stream",
     "text": [
      "cuda\n"
     ]
    }
   ],
   "source": [
    "#ONLY RUN IF USING TORCH\n",
    "\n",
    "import torch\n",
    "device = torch.device('cuda' if torch.cuda.is_available() else 'cpu')\n",
    "print(device)"
   ]
  },
  {
   "cell_type": "code",
   "execution_count": 2,
   "metadata": {},
   "outputs": [],
   "source": [
    "torch.cuda.empty_cache() "
   ]
  },
  {
   "cell_type": "code",
   "execution_count": 3,
   "metadata": {},
   "outputs": [],
   "source": [
    "#ONLY RUN IF USING TORCH\n",
    "\n",
    "from tape import ProteinBertModel, TAPETokenizer\n",
    "model = ProteinBertModel.from_pretrained('bert-base')\n",
    "modelTAPE = model.to(device)\n",
    "tokenizerTAPE = TAPETokenizer(vocab='iupac')  # iupac is the vocab for TAPE models, use unirep for the UniRep model\n",
    "\n",
    "modelTAPE.half()  # convert to half precision\n",
    "for layer in modelTAPE.modules():\n",
    "    if isinstance(layer, torch.nn.BatchNorm2d):\n",
    "        layer.float()"
   ]
  },
  {
   "cell_type": "code",
   "execution_count": 1,
   "metadata": {
    "_kg_hide-input": false,
    "colab": {
     "base_uri": "https://localhost:8080/",
     "height": 70
    },
    "colab_type": "code",
    "id": "l1HJp53SOoEI",
    "outputId": "128d4714-b749-4f6b-fcf8-9510004d5aaf"
   },
   "outputs": [],
   "source": [
    "import matplotlib.pyplot as plt # plotting\n",
    "import numpy as np # linear algebra\n",
    "import os # accessing directory structure\n",
    "import pandas as pd # data processing, CSV file I/O (e.g. pd.read_csv)\n",
    "import seaborn\n",
    "import gc\n",
    "import sklearn\n",
    "import pickle"
   ]
  },
  {
   "cell_type": "code",
   "execution_count": 2,
   "metadata": {
    "colab": {},
    "colab_type": "code",
    "id": "kkpO0nabI3Ay"
   },
   "outputs": [],
   "source": [
    "def parse_fasta (lines):\n",
    "    descs = []\n",
    "    seqs = []\n",
    "    data = ''\n",
    "    for line in lines:\n",
    "        if line.startswith('>'):\n",
    "            if data:   # have collected a sequence, push to seqs\n",
    "                seqs.append(data)\n",
    "                data = ''\n",
    "            descs.append(line[1:])  # Trim '>' from beginning\n",
    "        else:\n",
    "            data += line.rstrip('\\r\\n')\n",
    "    # there will be yet one more to push when we run out\n",
    "    seqs.append(data)\n",
    "    return descs, seqs"
   ]
  },
  {
   "cell_type": "code",
   "execution_count": 14,
   "metadata": {},
   "outputs": [],
   "source": [
    "def get_performance_vals(preds, classes):\n",
    "    #0 is negative, 1 is positive\n",
    "    a = np.array(preds) #Predictions\n",
    "    b = classes #actual outcomes / classes\n",
    "    #print(\"Predicted and actual classes\\n\")\n",
    "    #print(classes)\n",
    "    #print(a)\n",
    "    tp = np.sum(np.multiply(a==1, b==1)) #TP\n",
    "    fp = np.sum(np.multiply(a==1, b==0)) #FP\n",
    "    tn = np.sum(np.multiply(a==0, b==0)) #TN\n",
    "    fn = np.sum(np.multiply(a==0, b==1)) #FN\n",
    "\n",
    "    tp = int(tp)\n",
    "    fp = int(fp)\n",
    "    tn = int(tn)\n",
    "    fn = int(fn)\n",
    "\n",
    "    print(\"True positive: %d, false positive: %d, true negative: %d, false negative: %d\\n\" %(tp,fp,tn,fn))\n",
    "\n",
    "    mcc = (tp*tn-fp*fn)/(np.sqrt((tp+fp)*(tp+fn)*(tn+fp)*(tn+fn)))\n",
    "    precision = tp/(tp+fp)\n",
    "    recall = tp/(tp+fn)\n",
    "    fscore = 2*precision*recall/(precision+recall)\n",
    "    accuracy = np.sum(a==b)/len(classes)\n",
    "\n",
    "    print(\"%s: %2f\" % ('MCC', mcc))\n",
    "    print(\"%s: %.2f%%\" % ('Accuracy', 100*accuracy))\n",
    "    print(\"%s: %.2f\" % ('F1 score', fscore))\n",
    "    print(\"%s: %.2f\" % ('Precision', precision))\n",
    "    print(\"%s: %.2f\" % ('Recall', recall))\n",
    "\n",
    "    #return mcc, precision, recall, fscore, accuracy"
   ]
  },
  {
   "cell_type": "code",
   "execution_count": 4,
   "metadata": {
    "colab": {},
    "colab_type": "code",
    "id": "7MdChuEaI48s"
   },
   "outputs": [
    {
     "data": {
      "text/plain": [
       "2393"
      ]
     },
     "execution_count": 4,
     "metadata": {},
     "output_type": "execute_result"
    }
   ],
   "source": [
    "path = \"./\" + \"pos_seqs_reduced\" + \".pickle\"\n",
    "array_file = open(path, 'rb')\n",
    "pos = pickle.load(array_file)\n",
    "array_file.close()\n",
    "\n",
    "len(pos)"
   ]
  },
  {
   "cell_type": "code",
   "execution_count": 5,
   "metadata": {
    "colab": {
     "base_uri": "https://localhost:8080/",
     "height": 34
    },
    "colab_type": "code",
    "id": "0dO-Cc59Nig6",
    "outputId": "14b47301-3d65-4b16-e85f-bd4f69f06839"
   },
   "outputs": [
    {
     "data": {
      "text/plain": [
       "2393"
      ]
     },
     "execution_count": 5,
     "metadata": {},
     "output_type": "execute_result"
    }
   ],
   "source": [
    "path = \"./\" + \"pos_labels_reduced\" + \".pickle\"\n",
    "array_file = open(path, 'rb')\n",
    "pos_labels = pickle.load(array_file)\n",
    "array_file.close()\n",
    "len(pos_labels)"
   ]
  },
  {
   "cell_type": "code",
   "execution_count": 6,
   "metadata": {},
   "outputs": [],
   "source": [
    "handle = open(\"./cullpdb_pc20_res1.6_R0.25_d200625_chains3684_20200722.fasta\", 'r')\n",
    "descs, neg = parse_fasta(handle.read().split('\\n'))"
   ]
  },
  {
   "cell_type": "code",
   "execution_count": 7,
   "metadata": {},
   "outputs": [],
   "source": [
    "pdb = [d[:4] for d in descs]"
   ]
  },
  {
   "cell_type": "code",
   "execution_count": 8,
   "metadata": {},
   "outputs": [],
   "source": [
    "dirpath = '../StructuralDataCreating/structures'\n",
    "filist = os.listdir(dirpath)\n",
    "flist = [s for s in filist if s.startswith('PDBpos') == True]\n",
    "pos_pdbs = []\n",
    "for f in flist:\n",
    "    handle = open(os.path.join(dirpath, f), 'r')\n",
    "    lines = handle.readlines()\n",
    "    for line in lines:\n",
    "        pos_pdbs.append(line.strip().split(' ')[0])"
   ]
  },
  {
   "cell_type": "code",
   "execution_count": 9,
   "metadata": {},
   "outputs": [],
   "source": [
    "idx = []\n",
    "name = []\n",
    "i = 0\n",
    "for p in pdb:\n",
    "    if p in pos_pdbs:\n",
    "        idx.append(i)\n",
    "        name.append(p)\n",
    "    i = i + 1"
   ]
  },
  {
   "cell_type": "code",
   "execution_count": 10,
   "metadata": {},
   "outputs": [
    {
     "name": "stdout",
     "output_type": "stream",
     "text": [
      "[1939, 2345, 3196, 3305]\n",
      "['6MYI', '1PP0', '4WDC', '3WZ3']\n"
     ]
    }
   ],
   "source": [
    "print(idx)\n",
    "print(name)"
   ]
  },
  {
   "cell_type": "code",
   "execution_count": 11,
   "metadata": {},
   "outputs": [],
   "source": [
    "idx.reverse()"
   ]
  },
  {
   "cell_type": "code",
   "execution_count": 12,
   "metadata": {},
   "outputs": [
    {
     "data": {
      "text/plain": [
       "3679"
      ]
     },
     "execution_count": 12,
     "metadata": {},
     "output_type": "execute_result"
    }
   ],
   "source": [
    "len(neg)"
   ]
  },
  {
   "cell_type": "code",
   "execution_count": 13,
   "metadata": {},
   "outputs": [
    {
     "name": "stdout",
     "output_type": "stream",
     "text": [
      "[3305, 3196, 2345, 1939]\n"
     ]
    }
   ],
   "source": [
    "print(idx)\n",
    "for ix in idx:\n",
    "    neg.pop(ix)"
   ]
  },
  {
   "cell_type": "code",
   "execution_count": 14,
   "metadata": {},
   "outputs": [
    {
     "data": {
      "text/plain": [
       "3675"
      ]
     },
     "execution_count": 14,
     "metadata": {},
     "output_type": "execute_result"
    }
   ],
   "source": [
    "neg_size = len(neg)\n",
    "neg_size"
   ]
  },
  {
   "cell_type": "code",
   "execution_count": 15,
   "metadata": {
    "colab": {
     "base_uri": "https://localhost:8080/",
     "height": 34
    },
    "colab_type": "code",
    "id": "PXv9_H6sgpgS",
    "outputId": "fe729b93-9b02-4343-85d0-bd8a929230cd"
   },
   "outputs": [
    {
     "data": {
      "text/plain": [
       "3675"
      ]
     },
     "execution_count": 15,
     "metadata": {},
     "output_type": "execute_result"
    }
   ],
   "source": [
    "neg_labels = ['negative']*neg_size\n",
    "len(neg_labels)"
   ]
  },
  {
   "cell_type": "code",
   "execution_count": 16,
   "metadata": {
    "colab": {},
    "colab_type": "code",
    "id": "3Vv6H1hZlQ67"
   },
   "outputs": [],
   "source": [
    "data = pos + neg\n",
    "labels = pos_labels + neg_labels\n",
    "\n",
    "from sklearn.model_selection import train_test_split\n",
    "train, dev, train_labels, validation_labels = train_test_split(\n",
    "    data,\n",
    "    labels,\n",
    "    test_size = 0.2,\n",
    "    random_state=1,\n",
    "    stratify=labels)\n",
    "\n",
    "#can jump to Method 3 from here"
   ]
  },
  {
   "cell_type": "code",
   "execution_count": 20,
   "metadata": {
    "colab": {
     "base_uri": "https://localhost:8080/",
     "height": 70
    },
    "colab_type": "code",
    "id": "0tf1CPZOpMSt",
    "outputId": "341b322b-d6dc-4748-f498-93767caf960e"
   },
   "outputs": [
    {
     "name": "stdout",
     "output_type": "stream",
     "text": [
      "Counter({'negative': 2940, 'PF12261_t_hemolysin_full_length_sequences.fasta': 240, 'PF03318_etx_mtx2_full_length_sequences.fasta': 237, 'PF01289_thiol_cytolysin_full_length_sequences.fasta': 165, 'PF06369_anemone_cytotox_full_length_sequences.fasta': 157, 'PF06355_aegerolysin_full_length_sequences.fasta': 152, 'PF11393_T4BSS_dotI_icml_full_length_sequences.fasta': 133, 'PF00087_toxin_tolip_full_length_sequences.fasta': 125, 'PF03945_Endotoxin_N_full_length_sequences.fasta': 109, 'PF01117_aerolysin_full_length_sequences.fasta': 105, 'PF07367_fb_lectin_full_length_sequences.fasta': 85, 'PF01338_Bac_thur_toxin_full_length_sequences.fasta': 50, 'PF07968_leukocidin_full_length_sequences.fasta': 42, 'PF18063_BB_PF_full_length_sequences.fasta': 38, 'PF06109_hlye_full_length_sequences.fasta': 37, 'PF05802_espb_full_length_sequences.fasta': 32, 'PF00555_Endotoxin_M_uniprot.fasta': 31, 'PF12920_tcda_tcdb_pore_full_length_sequences.fasta': 30, 'PF01823_macpf_uniprot.fasta': 24, 'PF11565_porb_full_length_sequences.fasta': 24, 'PF04877_harpin_full_length_sequences.fasta': 22, 'PF01024_colicin_full_length_sequences.fasta': 21, 'PF17475_binary_toxb_2_full_length_sequences.fasta': 11, 'PF02382_rtx_full_length_sequences.fasta': 10, 'PF04598_gasdermin_uniprot.fasta': 10, 'pf05105_phage_holin_4_1_uniprot.fasta': 9, 'PF18684_plyb_c_full_length_sequences.fasta': 6, 'PF03944_Endotoxin_C_uniprot.fasta': 6, 'PF03505_clenterotox_full_length_sequences.fasta': 3})\n",
      "Counter({'negative': 735, 'PF12261_t_hemolysin_full_length_sequences.fasta': 60, 'PF03318_etx_mtx2_full_length_sequences.fasta': 59, 'PF01289_thiol_cytolysin_full_length_sequences.fasta': 42, 'PF06369_anemone_cytotox_full_length_sequences.fasta': 39, 'PF06355_aegerolysin_full_length_sequences.fasta': 38, 'PF11393_T4BSS_dotI_icml_full_length_sequences.fasta': 34, 'PF00087_toxin_tolip_full_length_sequences.fasta': 31, 'PF03945_Endotoxin_N_full_length_sequences.fasta': 28, 'PF01117_aerolysin_full_length_sequences.fasta': 26, 'PF07367_fb_lectin_full_length_sequences.fasta': 22, 'PF01338_Bac_thur_toxin_full_length_sequences.fasta': 13, 'PF07968_leukocidin_full_length_sequences.fasta': 10, 'PF06109_hlye_full_length_sequences.fasta': 9, 'PF18063_BB_PF_full_length_sequences.fasta': 9, 'PF00555_Endotoxin_M_uniprot.fasta': 8, 'PF05802_espb_full_length_sequences.fasta': 8, 'PF12920_tcda_tcdb_pore_full_length_sequences.fasta': 7, 'PF11565_porb_full_length_sequences.fasta': 6, 'PF01823_macpf_uniprot.fasta': 6, 'PF01024_colicin_full_length_sequences.fasta': 5, 'PF04877_harpin_full_length_sequences.fasta': 5, 'PF17475_binary_toxb_2_full_length_sequences.fasta': 3, 'pf05105_phage_holin_4_1_uniprot.fasta': 2, 'PF02382_rtx_full_length_sequences.fasta': 2, 'PF04598_gasdermin_uniprot.fasta': 2, 'PF18684_plyb_c_full_length_sequences.fasta': 2, 'PF03944_Endotoxin_C_uniprot.fasta': 2, 'PF03505_clenterotox_full_length_sequences.fasta': 1})\n"
     ]
    }
   ],
   "source": [
    "from collections import Counter\n",
    "\n",
    "print(Counter(train_labels))\n",
    "print(Counter(validation_labels))"
   ]
  },
  {
   "cell_type": "markdown",
   "metadata": {
    "colab_type": "text",
    "id": "s9SIRvflOoEl"
   },
   "source": [
    "## Loading the data"
   ]
  },
  {
   "cell_type": "code",
   "execution_count": 21,
   "metadata": {
    "colab": {
     "base_uri": "https://localhost:8080/",
     "height": 281
    },
    "colab_type": "code",
    "id": "cZLCHqCJOoE7",
    "outputId": "61cce005-e2bd-44fe-cf12-080504a170e4"
   },
   "outputs": [
    {
     "data": {
      "image/png": "[encoded data removed]",
      "text/plain": [
       "<Figure size 432x288 with 2 Axes>"
      ]
     },
     "metadata": {
      "needs_background": "light"
     },
     "output_type": "display_data"
    }
   ],
   "source": [
    "# Length of sequence in train data.\n",
    "trainlen= [len(x) for x in train]\n",
    "devlen= [len(x) for x in dev]\n",
    "\n",
    "def plot_seq_count(lengths, data_name):\n",
    "    seaborn.distplot(lengths)\n",
    "    plt.title(f'Sequence char count: {data_name}')\n",
    "    plt.grid(True)\n",
    "\n",
    "plt.subplot(1, 3, 1)\n",
    "plot_seq_count(trainlen, 'Train')\n",
    "\n",
    "plt.subplot(1, 3, 2)\n",
    "plot_seq_count(devlen, 'Dev')\n",
    "\n",
    "plt.subplots_adjust(right=3.0)\n",
    "plt.show()"
   ]
  },
  {
   "cell_type": "code",
   "execution_count": 22,
   "metadata": {
    "colab": {
     "base_uri": "https://localhost:8080/",
     "height": 50
    },
    "colab_type": "code",
    "id": "fsZvHMfitHf3",
    "outputId": "761b273d-d26b-4e85-8e0b-072f9e4269df"
   },
   "outputs": [
    {
     "name": "stdout",
     "output_type": "stream",
     "text": [
      "3862\n",
      "3003\n"
     ]
    }
   ],
   "source": [
    "print(max(trainlen))\n",
    "print(max(devlen))"
   ]
  },
  {
   "cell_type": "code",
   "execution_count": 23,
   "metadata": {
    "colab": {},
    "colab_type": "code",
    "id": "npNNwSSqZflr"
   },
   "outputs": [],
   "source": [
    "vocab_size = 21\n",
    "max_length = 2000 #modified to 2000 as asked \n",
    "trunc_type = \"post\"\n",
    "padding_type = \"post\"\n",
    "\n",
    "trainTAPE = [tokenizerTAPE.encode(w.upper()) for w in train]\n",
    "valTAPE = [tokenizerTAPE.encode(w.upper()) for w in dev]"
   ]
  },
  {
   "cell_type": "code",
   "execution_count": 24,
   "metadata": {},
   "outputs": [],
   "source": [
    "trainTAPE = [np.array(t[:max_length]) for t in trainTAPE]\n",
    "valTAPE = [np.array(t[:max_length]) for t in valTAPE]\n",
    "\n",
    "trainTAPE = [torch.from_numpy(t) for t in trainTAPE]\n",
    "valTAPE = [torch.from_numpy(t) for t in valTAPE]"
   ]
  },
  {
   "cell_type": "code",
   "execution_count": 25,
   "metadata": {
    "colab": {},
    "colab_type": "code",
    "id": "npNNwSSqZflr"
   },
   "outputs": [],
   "source": [
    "TAPEtrain = torch.nn.utils.rnn.pad_sequence(trainTAPE, batch_first=False)\n",
    "TAPEvalidation = torch.nn.utils.rnn.pad_sequence(valTAPE, batch_first=False)"
   ]
  },
  {
   "cell_type": "code",
   "execution_count": 26,
   "metadata": {},
   "outputs": [],
   "source": [
    "TAPEtrain = torch.transpose(TAPEtrain,0,1)\n",
    "TAPEvalidation = torch.transpose(TAPEvalidation,0,1)"
   ]
  },
  {
   "cell_type": "code",
   "execution_count": 27,
   "metadata": {},
   "outputs": [
    {
     "data": {
      "text/plain": [
       "torch.Size([1214, 2000])"
      ]
     },
     "execution_count": 27,
     "metadata": {},
     "output_type": "execute_result"
    }
   ],
   "source": [
    "TAPEvalidation.size()"
   ]
  },
  {
   "cell_type": "code",
   "execution_count": 28,
   "metadata": {},
   "outputs": [],
   "source": [
    "from torch.utils.data import DataLoader\n",
    "from tqdm.notebook import tqdm\n",
    "batch_size = 1\n",
    "\n",
    "dataloader_train = DataLoader(\n",
    "    TAPEtrain,\n",
    "    batch_size=batch_size\n",
    ")\n",
    "\n",
    "dataloader_validation = DataLoader(\n",
    "    TAPEvalidation,\n",
    "    batch_size=batch_size\n",
    ")"
   ]
  },
  {
   "cell_type": "code",
   "execution_count": 29,
   "metadata": {},
   "outputs": [
    {
     "data": {
      "text/plain": [
       "12104"
      ]
     },
     "execution_count": 29,
     "metadata": {},
     "output_type": "execute_result"
    }
   ],
   "source": [
    "#del pos, neg, data, labels, neg_labels, pos_labels, trainTAPE, valTAPE, TAPEtrain, TAPEvalidation\n",
    "#del pos, neg, data, labels, neg_labels, pos_labels, valTAPE, TAPEvalidation\n",
    "del trainTAPE, valTAPE, TAPEtrain, TAPEvalidation\n",
    "gc.collect()"
   ]
  },
  {
   "cell_type": "code",
   "execution_count": 30,
   "metadata": {},
   "outputs": [],
   "source": [
    "torch.cuda.empty_cache() "
   ]
  },
  {
   "cell_type": "code",
   "execution_count": 31,
   "metadata": {},
   "outputs": [
    {
     "data": {
      "text/plain": [
       "40"
      ]
     },
     "execution_count": 31,
     "metadata": {},
     "output_type": "execute_result"
    }
   ],
   "source": [
    "gc.collect()"
   ]
  },
  {
   "cell_type": "code",
   "execution_count": 32,
   "metadata": {
    "colab": {},
    "colab_type": "code",
    "id": "JK-3pW5Ajuha"
   },
   "outputs": [
    {
     "data": {
      "application/vnd.jupyter.widget-view+json": {
       "model_id": "b6dc522e2f9c4ec59008eaa35a46e19b",
       "version_major": 2,
       "version_minor": 0
      },
      "text/plain": [
       "HBox(children=(FloatProgress(value=0.0, max=4854.0), HTML(value='')))"
      ]
     },
     "metadata": {},
     "output_type": "display_data"
    },
    {
     "name": "stdout",
     "output_type": "stream",
     "text": [
      "\n"
     ]
    }
   ],
   "source": [
    "TAPEncoded_train = []\n",
    "\n",
    "#iternum = 0\n",
    "with torch.no_grad():\n",
    "    for batch in tqdm(dataloader_train):\n",
    "        b = batch.to(torch.long)\n",
    "        output = modelTAPE(b.to(device))[1]\n",
    "        TAPEncoded_train.append(output.cpu().detach().numpy())\n",
    "        torch.cuda.empty_cache() \n",
    "        del b, output\n",
    "        gc.collect()\n",
    "#         if iternum%100 == 0:\n",
    "#             print(iternum)\n",
    "#         iternum = iternum + 1"
   ]
  },
  {
   "cell_type": "code",
   "execution_count": 33,
   "metadata": {},
   "outputs": [],
   "source": [
    "path = \"./\" + \"TAPEncoded_train_pooled\" + \".pickle\"\n",
    "output = open(path, 'w+b')\n",
    "pickle.dump(TAPEncoded_train, output)\n",
    "output.close()"
   ]
  },
  {
   "cell_type": "code",
   "execution_count": 34,
   "metadata": {},
   "outputs": [
    {
     "data": {
      "application/vnd.jupyter.widget-view+json": {
       "model_id": "9eef1c5eb43f47caabb76d6ba32058da",
       "version_major": 2,
       "version_minor": 0
      },
      "text/plain": [
       "HBox(children=(FloatProgress(value=0.0, max=1214.0), HTML(value='')))"
      ]
     },
     "metadata": {},
     "output_type": "display_data"
    },
    {
     "name": "stdout",
     "output_type": "stream",
     "text": [
      "\n"
     ]
    }
   ],
   "source": [
    "TAPEncoded_val = []\n",
    "\n",
    "#iternum = 0\n",
    "for batch in tqdm(dataloader_validation):\n",
    "    b = batch.to(torch.long)\n",
    "    output = modelTAPE(b.to(device))[1]\n",
    "    TAPEncoded_val.append(output.cpu().detach().numpy())\n",
    "    torch.cuda.empty_cache() \n",
    "    del b, output\n",
    "    gc.collect()\n",
    "#     if iternum%100 == 0:\n",
    "#         print(iternum)\n",
    "#     iternum = iternum + 1"
   ]
  },
  {
   "cell_type": "code",
   "execution_count": 35,
   "metadata": {},
   "outputs": [],
   "source": [
    "path = \"./\" + \"TAPEncoded_val_pooled\" + \".pickle\"\n",
    "output = open(path, 'w+b')\n",
    "pickle.dump(TAPEncoded_val, output)\n",
    "output.close()"
   ]
  },
  {
   "cell_type": "code",
   "execution_count": 36,
   "metadata": {
    "colab": {
     "base_uri": "https://localhost:8080/",
     "height": 33
    },
    "colab_type": "code",
    "id": "vBZOxshXOoFX",
    "outputId": "62b622dd-e3cc-49e9-c2e6-da057906b4b3"
   },
   "outputs": [
    {
     "data": {
      "text/plain": [
       "((4854,), (1214,))"
      ]
     },
     "execution_count": 36,
     "metadata": {},
     "output_type": "execute_result"
    }
   ],
   "source": [
    "from sklearn.preprocessing import LabelEncoder\n",
    "le = LabelEncoder()\n",
    "\n",
    "train_labels = le.fit_transform(train_labels)\n",
    "validation_labels = le.transform(validation_labels)\n",
    "#test_labels = le.transform(test_labels)\n",
    "\n",
    "train_labels.shape, validation_labels.shape"
   ]
  },
  {
   "cell_type": "code",
   "execution_count": 37,
   "metadata": {},
   "outputs": [],
   "source": [
    "path = \"./\" + \"train_labels\" + \".pickle\"\n",
    "output = open(path, 'w+b')\n",
    "pickle.dump(train_labels, output)\n",
    "output.close()\n",
    "\n",
    "path = \"./\" + \"validation_labels\" + \".pickle\"\n",
    "output = open(path, 'w+b')\n",
    "pickle.dump(validation_labels, output)\n",
    "output.close()"
   ]
  },
  {
   "cell_type": "code",
   "execution_count": 38,
   "metadata": {},
   "outputs": [
    {
     "name": "stdout",
     "output_type": "stream",
     "text": [
      "{0: 'PF00087_toxin_tolip_full_length_sequences.fasta', 1: 'PF00555_Endotoxin_M_uniprot.fasta', 2: 'PF01024_colicin_full_length_sequences.fasta', 3: 'PF01117_aerolysin_full_length_sequences.fasta', 4: 'PF01289_thiol_cytolysin_full_length_sequences.fasta', 5: 'PF01338_Bac_thur_toxin_full_length_sequences.fasta', 6: 'PF01823_macpf_uniprot.fasta', 7: 'PF02382_rtx_full_length_sequences.fasta', 8: 'PF03318_etx_mtx2_full_length_sequences.fasta', 9: 'PF03505_clenterotox_full_length_sequences.fasta', 10: 'PF03944_Endotoxin_C_uniprot.fasta', 11: 'PF03945_Endotoxin_N_full_length_sequences.fasta', 12: 'PF04598_gasdermin_uniprot.fasta', 13: 'PF04877_harpin_full_length_sequences.fasta', 14: 'PF05802_espb_full_length_sequences.fasta', 15: 'PF06109_hlye_full_length_sequences.fasta', 16: 'PF06355_aegerolysin_full_length_sequences.fasta', 17: 'PF06369_anemone_cytotox_full_length_sequences.fasta', 18: 'PF07367_fb_lectin_full_length_sequences.fasta', 19: 'PF07968_leukocidin_full_length_sequences.fasta', 20: 'PF11393_T4BSS_dotI_icml_full_length_sequences.fasta', 21: 'PF11565_porb_full_length_sequences.fasta', 22: 'PF12261_t_hemolysin_full_length_sequences.fasta', 23: 'PF12920_tcda_tcdb_pore_full_length_sequences.fasta', 24: 'PF17475_binary_toxb_2_full_length_sequences.fasta', 25: 'PF18063_BB_PF_full_length_sequences.fasta', 26: 'PF18684_plyb_c_full_length_sequences.fasta', 27: 'negative', 28: 'pf05105_phage_holin_4_1_uniprot.fasta'}\n"
     ]
    }
   ],
   "source": [
    "le_name_mapping = dict(zip(le.classes_, le.transform(le.classes_)))\n",
    "umap_map = {v: k for k, v in le_name_mapping.items()}\n",
    "print(umap_map)"
   ]
  },
  {
   "cell_type": "code",
   "execution_count": 39,
   "metadata": {},
   "outputs": [],
   "source": [
    "#del TAPEncoded_train, TAPEncoded_val\n",
    "del TAPEncoded_val\n",
    "gc.collect()\n",
    "torch.cuda.empty_cache() "
   ]
  },
  {
   "cell_type": "code",
   "execution_count": 40,
   "metadata": {},
   "outputs": [
    {
     "data": {
      "application/vnd.jupyter.widget-view+json": {
       "model_id": "d8467bd3e2ac4cafa692cd0d2066cb5c",
       "version_major": 2,
       "version_minor": 0
      },
      "text/plain": [
       "HBox(children=(FloatProgress(value=0.0, max=4854.0), HTML(value='')))"
      ]
     },
     "metadata": {},
     "output_type": "display_data"
    },
    {
     "name": "stdout",
     "output_type": "stream",
     "text": [
      "\n"
     ]
    }
   ],
   "source": [
    "#now getting the full embedding for all amino acid, not the pooled one\n",
    "TAPEncoded_train = []\n",
    "#iternum = 0\n",
    "for batch in tqdm(dataloader_train):\n",
    "    b = batch.to(torch.long)\n",
    "    output = modelTAPE(b.to(device))[0]\n",
    "    TAPEncoded_train.append(output.cpu().detach().numpy())\n",
    "    torch.cuda.empty_cache() \n",
    "    del b, output\n",
    "    gc.collect()\n",
    "#     if iternum%100 == 0:\n",
    "#         print(iternum)\n",
    "#     iternum = iternum + 1"
   ]
  },
  {
   "cell_type": "code",
   "execution_count": 41,
   "metadata": {},
   "outputs": [],
   "source": [
    "path = \"./\" + \"TAPEncoded_train\" + \".pickle\"\n",
    "output = open(path, 'w+b')\n",
    "pickle.dump(TAPEncoded_train, output)\n",
    "output.close()"
   ]
  },
  {
   "cell_type": "code",
   "execution_count": 42,
   "metadata": {},
   "outputs": [],
   "source": [
    "del TAPEncoded_train\n",
    "gc.collect()\n",
    "torch.cuda.empty_cache() "
   ]
  },
  {
   "cell_type": "code",
   "execution_count": 43,
   "metadata": {},
   "outputs": [
    {
     "data": {
      "application/vnd.jupyter.widget-view+json": {
       "model_id": "e376735e3ff54f19846bc9b96d096abc",
       "version_major": 2,
       "version_minor": 0
      },
      "text/plain": [
       "HBox(children=(FloatProgress(value=0.0, max=1214.0), HTML(value='')))"
      ]
     },
     "metadata": {},
     "output_type": "display_data"
    },
    {
     "name": "stdout",
     "output_type": "stream",
     "text": [
      "\n"
     ]
    }
   ],
   "source": [
    "TAPEncoded_val = []\n",
    "#iternum = 0\n",
    "for batch in tqdm(dataloader_validation):\n",
    "    b = batch.to(torch.long)\n",
    "    output = modelTAPE(b.to(device))[0]\n",
    "    TAPEncoded_val.append(output.cpu().detach().numpy())\n",
    "    torch.cuda.empty_cache() \n",
    "    del b, output\n",
    "    gc.collect()\n",
    "#     if iternum%100 == 0:\n",
    "#         print(iternum)\n",
    "#     iternum = iternum + 1"
   ]
  },
  {
   "cell_type": "code",
   "execution_count": 44,
   "metadata": {},
   "outputs": [],
   "source": [
    "path = \"./\" + \"TAPEncoded_val\" + \".pickle\"\n",
    "output = open(path, 'w+b')\n",
    "pickle.dump(TAPEncoded_val, output)\n",
    "output.close()"
   ]
  },
  {
   "cell_type": "code",
   "execution_count": null,
   "metadata": {},
   "outputs": [],
   "source": [
    "#Method0 - Baseline, first nearest neighbour in terms of Levenshtein distance"
   ]
  },
  {
   "cell_type": "code",
   "execution_count": 17,
   "metadata": {},
   "outputs": [],
   "source": [
    "path = \"./\" + \"train_labels\" + \".pickle\"\n",
    "array_file = open(path, 'rb')\n",
    "train_labels = pickle.load(array_file)\n",
    "array_file.close()\n",
    "\n",
    "path = \"./\" + \"validation_labels\" + \".pickle\"\n",
    "array_file = open(path, 'rb')\n",
    "validation_labels = pickle.load(array_file)\n",
    "array_file.close()"
   ]
  },
  {
   "cell_type": "code",
   "execution_count": 18,
   "metadata": {},
   "outputs": [
    {
     "name": "stdout",
     "output_type": "stream",
     "text": [
      "4854\n",
      "1214\n",
      "4854\n",
      "1214\n"
     ]
    }
   ],
   "source": [
    "print(len(train))\n",
    "print(len(dev))\n",
    "print(len(train_labels))\n",
    "print(len(validation_labels))"
   ]
  },
  {
   "cell_type": "code",
   "execution_count": 19,
   "metadata": {},
   "outputs": [],
   "source": [
    "mask = (validation_labels == 27) #27 is negative\n",
    "\n",
    "y_true = validation_labels\n",
    "y_true[~mask] = 1\n",
    "y_true[mask] = 0"
   ]
  },
  {
   "cell_type": "code",
   "execution_count": 20,
   "metadata": {},
   "outputs": [
    {
     "data": {
      "text/plain": [
       "array([1, 0, 1, ..., 1, 0, 0], dtype=int64)"
      ]
     },
     "execution_count": 20,
     "metadata": {},
     "output_type": "execute_result"
    }
   ],
   "source": [
    "validation_labels"
   ]
  },
  {
   "cell_type": "code",
   "execution_count": 21,
   "metadata": {},
   "outputs": [],
   "source": [
    "mask = (train_labels == 27) #27 is negative\n",
    "\n",
    "y_true = train_labels\n",
    "y_true[~mask] = 1\n",
    "y_true[mask] = 0"
   ]
  },
  {
   "cell_type": "code",
   "execution_count": 22,
   "metadata": {},
   "outputs": [
    {
     "data": {
      "text/plain": [
       "array([0, 1, 0, ..., 0, 0, 0], dtype=int64)"
      ]
     },
     "execution_count": 22,
     "metadata": {},
     "output_type": "execute_result"
    }
   ],
   "source": [
    "train_labels"
   ]
  },
  {
   "cell_type": "code",
   "execution_count": 23,
   "metadata": {},
   "outputs": [
    {
     "name": "stderr",
     "output_type": "stream",
     "text": [
      "100%|██████████████████████████████████████████████████████████████████████████████| 1214/1214 [10:05<00:00,  2.00it/s]\n"
     ]
    }
   ],
   "source": [
    "import Levenshtein\n",
    "from tqdm import tqdm\n",
    "\n",
    "dist_arr = np.ones([len(dev), len(train)])*500\n",
    "\n",
    "for i in tqdm(range(len(dev))):\n",
    "    for j in range(len(train)):\n",
    "        dist_arr[i,j] = Levenshtein.distance(dev[i], train[j])"
   ]
  },
  {
   "cell_type": "code",
   "execution_count": 24,
   "metadata": {},
   "outputs": [
    {
     "data": {
      "text/plain": [
       "array([319., 146., 102., ..., 635.,  95., 139.])"
      ]
     },
     "execution_count": 24,
     "metadata": {},
     "output_type": "execute_result"
    }
   ],
   "source": [
    "np.amin(dist_arr, 1)"
   ]
  },
  {
   "cell_type": "code",
   "execution_count": 25,
   "metadata": {},
   "outputs": [
    {
     "data": {
      "text/plain": [
       "array([1496,  168, 3048, ..., 1374, 2617, 2976], dtype=int64)"
      ]
     },
     "execution_count": 25,
     "metadata": {},
     "output_type": "execute_result"
    }
   ],
   "source": [
    "np.argmin(dist_arr, 1)"
   ]
  },
  {
   "cell_type": "code",
   "execution_count": 26,
   "metadata": {},
   "outputs": [],
   "source": [
    "preds = train_labels[np.argmin(dist_arr, 1)]"
   ]
  },
  {
   "cell_type": "code",
   "execution_count": 27,
   "metadata": {},
   "outputs": [
    {
     "name": "stdout",
     "output_type": "stream",
     "text": [
      "True positive: 449, false positive: 99, true negative: 636, false negative: 30\n",
      "\n",
      "MCC: 0.788359\n",
      "Accuracy: 89.37%\n",
      "F1 score: 0.87\n",
      "Precision: 0.82\n",
      "Recall: 0.94\n"
     ]
    }
   ],
   "source": [
    "get_performance_vals(preds, validation_labels)"
   ]
  },
  {
   "cell_type": "code",
   "execution_count": null,
   "metadata": {},
   "outputs": [],
   "source": [
    "#METHOD 1"
   ]
  },
  {
   "cell_type": "code",
   "execution_count": null,
   "metadata": {},
   "outputs": [],
   "source": [
    "#STARTING HERE"
   ]
  },
  {
   "cell_type": "code",
   "execution_count": 1,
   "metadata": {},
   "outputs": [
    {
     "name": "stdout",
     "output_type": "stream",
     "text": [
      "Tensorflow version 2.2.0\n",
      "WARNING:tensorflow:From <ipython-input-1-6f67c92ac921>:6: is_gpu_available (from tensorflow.python.framework.test_util) is deprecated and will be removed in a future version.\n",
      "Instructions for updating:\n",
      "Use `tf.config.list_physical_devices('GPU')` instead.\n"
     ]
    },
    {
     "name": "stderr",
     "output_type": "stream",
     "text": [
      "C:\\Users\\sarva\\Anaconda3\\lib\\site-packages\\tensorboard\\compat\\tensorflow_stub\\dtypes.py:541: FutureWarning: Passing (type, 1) or '1type' as a synonym of type is deprecated; in a future version of numpy, it will be understood as (type, (1,)) / '(1,)type'.\n",
      "  _np_qint8 = np.dtype([(\"qint8\", np.int8, 1)])\n",
      "C:\\Users\\sarva\\Anaconda3\\lib\\site-packages\\tensorboard\\compat\\tensorflow_stub\\dtypes.py:542: FutureWarning: Passing (type, 1) or '1type' as a synonym of type is deprecated; in a future version of numpy, it will be understood as (type, (1,)) / '(1,)type'.\n",
      "  _np_quint8 = np.dtype([(\"quint8\", np.uint8, 1)])\n",
      "C:\\Users\\sarva\\Anaconda3\\lib\\site-packages\\tensorboard\\compat\\tensorflow_stub\\dtypes.py:543: FutureWarning: Passing (type, 1) or '1type' as a synonym of type is deprecated; in a future version of numpy, it will be understood as (type, (1,)) / '(1,)type'.\n",
      "  _np_qint16 = np.dtype([(\"qint16\", np.int16, 1)])\n",
      "C:\\Users\\sarva\\Anaconda3\\lib\\site-packages\\tensorboard\\compat\\tensorflow_stub\\dtypes.py:544: FutureWarning: Passing (type, 1) or '1type' as a synonym of type is deprecated; in a future version of numpy, it will be understood as (type, (1,)) / '(1,)type'.\n",
      "  _np_quint16 = np.dtype([(\"quint16\", np.uint16, 1)])\n",
      "C:\\Users\\sarva\\Anaconda3\\lib\\site-packages\\tensorboard\\compat\\tensorflow_stub\\dtypes.py:545: FutureWarning: Passing (type, 1) or '1type' as a synonym of type is deprecated; in a future version of numpy, it will be understood as (type, (1,)) / '(1,)type'.\n",
      "  _np_qint32 = np.dtype([(\"qint32\", np.int32, 1)])\n",
      "C:\\Users\\sarva\\Anaconda3\\lib\\site-packages\\tensorboard\\compat\\tensorflow_stub\\dtypes.py:550: FutureWarning: Passing (type, 1) or '1type' as a synonym of type is deprecated; in a future version of numpy, it will be understood as (type, (1,)) / '(1,)type'.\n",
      "  np_resource = np.dtype([(\"resource\", np.ubyte, 1)])\n"
     ]
    },
    {
     "name": "stdout",
     "output_type": "stream",
     "text": [
      "True\n",
      "Compute dtype: float16\n",
      "Variable dtype: float32\n"
     ]
    }
   ],
   "source": [
    "import tensorflow as tf\n",
    "print(\"Tensorflow version \" + tf.__version__)\n",
    "\n",
    "tf.test.is_built_with_cuda()\n",
    "\n",
    "print(tf.test.is_gpu_available(cuda_only=False, min_cuda_compute_capability=None))\n",
    "\n",
    "tf.config.experimental.list_physical_devices('GPU')\n",
    "#for device in gpu_devices: tf.config.experimental.set_memory_growth(device, True)\n",
    "\n",
    "# import tensorflow.keras.backend as K\n",
    "# dtype = 'float16'\n",
    "# K.set_floatx(dtype)\n",
    "# K.set_epsilon(1e-4)\n",
    "\n",
    "from tensorflow.keras.mixed_precision import experimental as mixed_precision\n",
    "policy = mixed_precision.Policy('mixed_float16')\n",
    "mixed_precision.set_policy(policy)\n",
    "\n",
    "print('Compute dtype: %s' % policy.compute_dtype)\n",
    "print('Variable dtype: %s' % policy.variable_dtype)"
   ]
  },
  {
   "cell_type": "code",
   "execution_count": 2,
   "metadata": {},
   "outputs": [],
   "source": [
    "import matplotlib.pyplot as plt # plotting\n",
    "import numpy as np # linear algebra\n",
    "import os # accessing directory structure\n",
    "import pandas as pd # data processing, CSV file I/O (e.g. pd.read_csv)\n",
    "import seaborn\n",
    "import gc\n",
    "import sklearn\n",
    "import pickle"
   ]
  },
  {
   "cell_type": "code",
   "execution_count": 3,
   "metadata": {},
   "outputs": [],
   "source": [
    "path = \"./\" + \"TAPEncoded_train_pooled\" + \".pickle\"\n",
    "array_file = open(path, 'rb')\n",
    "TAPEncoded_train = pickle.load(array_file)\n",
    "array_file.close()\n",
    "\n",
    "path = \"./\" + \"TAPEncoded_val_pooled\" + \".pickle\"\n",
    "array_file = open(path, 'rb')\n",
    "TAPEncoded_val = pickle.load(array_file)\n",
    "array_file.close()\n",
    "\n",
    "path = \"./\" + \"train_labels\" + \".pickle\"\n",
    "array_file = open(path, 'rb')\n",
    "train_labels = pickle.load(array_file)\n",
    "array_file.close()\n",
    "\n",
    "path = \"./\" + \"validation_labels\" + \".pickle\"\n",
    "array_file = open(path, 'rb')\n",
    "validation_labels = pickle.load(array_file)\n",
    "array_file.close()"
   ]
  },
  {
   "cell_type": "code",
   "execution_count": 4,
   "metadata": {
    "colab": {},
    "colab_type": "code",
    "id": "YN9uu1b4OoFe"
   },
   "outputs": [],
   "source": [
    "# lr_schedule = tf.keras.callbacks.LearningRateScheduler(\n",
    "#     lambda epoch: 1e-5 * 10**(epoch / 20))\n",
    "\n",
    "es = tf.keras.callbacks.EarlyStopping(monitor='val_loss', mode='min', min_delta=0.01, patience=5)"
   ]
  },
  {
   "cell_type": "code",
   "execution_count": 5,
   "metadata": {
    "colab": {},
    "colab_type": "code",
    "id": "89fHOOEoWYm9"
   },
   "outputs": [],
   "source": [
    "numclass = max(train_labels) + 1"
   ]
  },
  {
   "cell_type": "code",
   "execution_count": 6,
   "metadata": {},
   "outputs": [
    {
     "name": "stdout",
     "output_type": "stream",
     "text": [
      "Model: \"model\"\n",
      "_________________________________________________________________\n",
      "Layer (type)                 Output Shape              Param #   \n",
      "=================================================================\n",
      "input_1 (InputLayer)         [(None, 768)]             0         \n",
      "_________________________________________________________________\n",
      "dense (Dense)                (None, 29)                22301     \n",
      "=================================================================\n",
      "Total params: 22,301\n",
      "Trainable params: 22,301\n",
      "Non-trainable params: 0\n",
      "_________________________________________________________________\n"
     ]
    }
   ],
   "source": [
    "input_x = tf.keras.layers.Input(shape=768) #768 is the embedding dimension\n",
    "out = tf.keras.layers.Dense(numclass, activation=\"softmax\")(input_x) \n",
    "model = tf.keras.Model(inputs=input_x, outputs=out)\n",
    "model.compile(loss='sparse_categorical_crossentropy',optimizer=\"adam\",metrics=['accuracy'])\n",
    "model.summary()"
   ]
  },
  {
   "cell_type": "code",
   "execution_count": 7,
   "metadata": {},
   "outputs": [],
   "source": [
    "TAPEncoded_train = np.array(TAPEncoded_train)"
   ]
  },
  {
   "cell_type": "code",
   "execution_count": 8,
   "metadata": {},
   "outputs": [],
   "source": [
    "TAPEncoded_train = TAPEncoded_train.reshape(-1,768)"
   ]
  },
  {
   "cell_type": "code",
   "execution_count": 9,
   "metadata": {},
   "outputs": [],
   "source": [
    "TAPEncoded_val = np.array(TAPEncoded_val)"
   ]
  },
  {
   "cell_type": "code",
   "execution_count": 10,
   "metadata": {},
   "outputs": [],
   "source": [
    "TAPEncoded_val = TAPEncoded_val.reshape(-1,768)"
   ]
  },
  {
   "cell_type": "code",
   "execution_count": 11,
   "metadata": {},
   "outputs": [
    {
     "name": "stdout",
     "output_type": "stream",
     "text": [
      "Epoch 1/100\n",
      "152/152 - 0s - loss: 1.6935 - accuracy: 0.6028 - val_loss: 1.5345 - val_accuracy: 0.6079\n",
      "Epoch 2/100\n",
      "152/152 - 0s - loss: 1.4688 - accuracy: 0.6104 - val_loss: 1.4061 - val_accuracy: 0.6112\n",
      "Epoch 3/100\n",
      "152/152 - 0s - loss: 1.3760 - accuracy: 0.6154 - val_loss: 1.3375 - val_accuracy: 0.6161\n",
      "Epoch 4/100\n",
      "152/152 - 0s - loss: 1.2973 - accuracy: 0.6240 - val_loss: 1.3052 - val_accuracy: 0.6161\n",
      "Epoch 5/100\n",
      "152/152 - 0s - loss: 1.2436 - accuracy: 0.6364 - val_loss: 1.2431 - val_accuracy: 0.6442\n",
      "Epoch 6/100\n",
      "152/152 - 0s - loss: 1.1919 - accuracy: 0.6454 - val_loss: 1.2009 - val_accuracy: 0.6499\n",
      "Epoch 7/100\n",
      "152/152 - 0s - loss: 1.1585 - accuracy: 0.6590 - val_loss: 1.1689 - val_accuracy: 0.6713\n",
      "Epoch 8/100\n",
      "152/152 - 0s - loss: 1.1221 - accuracy: 0.6685 - val_loss: 1.1323 - val_accuracy: 0.6664\n",
      "Epoch 9/100\n",
      "152/152 - 0s - loss: 1.1075 - accuracy: 0.6718 - val_loss: 1.1314 - val_accuracy: 0.6639\n",
      "Epoch 10/100\n",
      "152/152 - 0s - loss: 1.0801 - accuracy: 0.6819 - val_loss: 1.1039 - val_accuracy: 0.6878\n",
      "Epoch 11/100\n",
      "152/152 - 0s - loss: 1.0517 - accuracy: 0.6922 - val_loss: 1.0757 - val_accuracy: 0.6886\n",
      "Epoch 12/100\n",
      "152/152 - 0s - loss: 1.0351 - accuracy: 0.6918 - val_loss: 1.0569 - val_accuracy: 0.6993\n",
      "Epoch 13/100\n",
      "152/152 - 0s - loss: 1.0131 - accuracy: 0.6992 - val_loss: 1.0482 - val_accuracy: 0.6895\n",
      "Epoch 14/100\n",
      "152/152 - 0s - loss: 0.9968 - accuracy: 0.7054 - val_loss: 1.0297 - val_accuracy: 0.6993\n",
      "Epoch 15/100\n",
      "152/152 - 0s - loss: 0.9836 - accuracy: 0.7085 - val_loss: 1.0105 - val_accuracy: 0.6944\n",
      "Epoch 16/100\n",
      "152/152 - 0s - loss: 0.9715 - accuracy: 0.7091 - val_loss: 1.0111 - val_accuracy: 0.7076\n",
      "Epoch 17/100\n",
      "152/152 - 0s - loss: 0.9576 - accuracy: 0.7132 - val_loss: 1.0132 - val_accuracy: 0.7175\n",
      "Epoch 18/100\n",
      "152/152 - 0s - loss: 0.9448 - accuracy: 0.7204 - val_loss: 0.9833 - val_accuracy: 0.6977\n",
      "Epoch 19/100\n",
      "152/152 - 0s - loss: 0.9399 - accuracy: 0.7235 - val_loss: 0.9994 - val_accuracy: 0.7010\n",
      "Epoch 20/100\n",
      "152/152 - 0s - loss: 0.9265 - accuracy: 0.7244 - val_loss: 0.9587 - val_accuracy: 0.7208\n",
      "Epoch 21/100\n",
      "152/152 - 0s - loss: 0.9137 - accuracy: 0.7279 - val_loss: 0.9520 - val_accuracy: 0.7142\n",
      "Epoch 22/100\n",
      "152/152 - 0s - loss: 0.9029 - accuracy: 0.7318 - val_loss: 0.9517 - val_accuracy: 0.7249\n",
      "Epoch 23/100\n",
      "152/152 - 0s - loss: 0.8951 - accuracy: 0.7318 - val_loss: 0.9619 - val_accuracy: 0.7092\n",
      "Epoch 24/100\n",
      "152/152 - 0s - loss: 0.8870 - accuracy: 0.7330 - val_loss: 0.9715 - val_accuracy: 0.7422\n",
      "Epoch 25/100\n",
      "152/152 - 0s - loss: 0.8873 - accuracy: 0.7351 - val_loss: 0.9308 - val_accuracy: 0.7389\n",
      "Epoch 26/100\n",
      "152/152 - 0s - loss: 0.8735 - accuracy: 0.7344 - val_loss: 0.9379 - val_accuracy: 0.7216\n",
      "Epoch 27/100\n",
      "152/152 - 0s - loss: 0.8656 - accuracy: 0.7415 - val_loss: 0.9101 - val_accuracy: 0.7315\n",
      "Epoch 28/100\n",
      "152/152 - 0s - loss: 0.8558 - accuracy: 0.7400 - val_loss: 0.9316 - val_accuracy: 0.7323\n",
      "Epoch 29/100\n",
      "152/152 - 0s - loss: 0.8511 - accuracy: 0.7419 - val_loss: 0.9015 - val_accuracy: 0.7372\n",
      "Epoch 30/100\n",
      "152/152 - 0s - loss: 0.8501 - accuracy: 0.7433 - val_loss: 0.9043 - val_accuracy: 0.7249\n",
      "Epoch 31/100\n",
      "152/152 - 0s - loss: 0.8347 - accuracy: 0.7443 - val_loss: 0.9056 - val_accuracy: 0.7364\n",
      "Epoch 32/100\n",
      "152/152 - 0s - loss: 0.8339 - accuracy: 0.7485 - val_loss: 0.8812 - val_accuracy: 0.7496\n",
      "Epoch 33/100\n",
      "152/152 - 0s - loss: 0.8233 - accuracy: 0.7509 - val_loss: 0.8826 - val_accuracy: 0.7471\n",
      "Epoch 34/100\n",
      "152/152 - 0s - loss: 0.8210 - accuracy: 0.7515 - val_loss: 0.8965 - val_accuracy: 0.7249\n",
      "Epoch 35/100\n",
      "152/152 - 0s - loss: 0.8152 - accuracy: 0.7575 - val_loss: 0.8754 - val_accuracy: 0.7611\n",
      "Epoch 36/100\n",
      "152/152 - 0s - loss: 0.8087 - accuracy: 0.7555 - val_loss: 0.8848 - val_accuracy: 0.7578\n",
      "Epoch 37/100\n",
      "152/152 - 0s - loss: 0.8105 - accuracy: 0.7497 - val_loss: 0.8658 - val_accuracy: 0.7488\n",
      "Epoch 38/100\n",
      "152/152 - 0s - loss: 0.7964 - accuracy: 0.7550 - val_loss: 0.8554 - val_accuracy: 0.7496\n",
      "Epoch 39/100\n",
      "152/152 - 0s - loss: 0.7932 - accuracy: 0.7604 - val_loss: 0.8659 - val_accuracy: 0.7455\n",
      "Epoch 40/100\n",
      "152/152 - 0s - loss: 0.7949 - accuracy: 0.7550 - val_loss: 0.8714 - val_accuracy: 0.7446\n",
      "Epoch 41/100\n",
      "152/152 - 0s - loss: 0.7918 - accuracy: 0.7598 - val_loss: 0.8661 - val_accuracy: 0.7488\n",
      "Epoch 42/100\n",
      "152/152 - 0s - loss: 0.7842 - accuracy: 0.7614 - val_loss: 0.8623 - val_accuracy: 0.7496\n",
      "Epoch 43/100\n",
      "152/152 - 0s - loss: 0.7718 - accuracy: 0.7672 - val_loss: 0.8581 - val_accuracy: 0.7578\n"
     ]
    }
   ],
   "source": [
    "history = model.fit(TAPEncoded_train, train_labels, epochs=100, validation_data=(TAPEncoded_val, validation_labels), verbose=2, callbacks=[es])"
   ]
  },
  {
   "cell_type": "code",
   "execution_count": 12,
   "metadata": {},
   "outputs": [],
   "source": [
    "preds = model.predict(TAPEncoded_val)\n",
    "\n",
    "mask = (validation_labels == 27) #27 is negative\n",
    "\n",
    "predictions = np.argmax(preds, axis=1)\n",
    "\n",
    "y_true = validation_labels\n",
    "y_true[~mask] = 1\n",
    "y_true[mask] = 0\n",
    "\n",
    "mask = (predictions == 27)\n",
    "y_pred = predictions\n",
    "y_pred[~mask] = 1\n",
    "y_pred[mask] = 0"
   ]
  },
  {
   "cell_type": "code",
   "execution_count": 15,
   "metadata": {},
   "outputs": [
    {
     "name": "stdout",
     "output_type": "stream",
     "text": [
      "True positive: 312, false positive: 46, true negative: 689, false negative: 167\n",
      "\n",
      "MCC: 0.631074\n",
      "Accuracy: 82.45%\n",
      "F1 score: 0.75\n",
      "Precision: 0.87\n",
      "Recall: 0.65\n"
     ]
    }
   ],
   "source": [
    "get_performance_vals(y_pred, y_true)"
   ]
  },
  {
   "cell_type": "code",
   "execution_count": 58,
   "metadata": {},
   "outputs": [],
   "source": [
    "#METHOD 2"
   ]
  },
  {
   "cell_type": "code",
   "execution_count": 59,
   "metadata": {},
   "outputs": [],
   "source": [
    "#STARTING HERE"
   ]
  },
  {
   "cell_type": "code",
   "execution_count": 1,
   "metadata": {},
   "outputs": [
    {
     "name": "stdout",
     "output_type": "stream",
     "text": [
      "Tensorflow version 2.2.0\n",
      "WARNING:tensorflow:From <ipython-input-1-6f67c92ac921>:6: is_gpu_available (from tensorflow.python.framework.test_util) is deprecated and will be removed in a future version.\n",
      "Instructions for updating:\n",
      "Use `tf.config.list_physical_devices('GPU')` instead.\n"
     ]
    },
    {
     "name": "stderr",
     "output_type": "stream",
     "text": [
      "C:\\Users\\sarva\\Anaconda3\\lib\\site-packages\\tensorboard\\compat\\tensorflow_stub\\dtypes.py:541: FutureWarning: Passing (type, 1) or '1type' as a synonym of type is deprecated; in a future version of numpy, it will be understood as (type, (1,)) / '(1,)type'.\n",
      "  _np_qint8 = np.dtype([(\"qint8\", np.int8, 1)])\n",
      "C:\\Users\\sarva\\Anaconda3\\lib\\site-packages\\tensorboard\\compat\\tensorflow_stub\\dtypes.py:542: FutureWarning: Passing (type, 1) or '1type' as a synonym of type is deprecated; in a future version of numpy, it will be understood as (type, (1,)) / '(1,)type'.\n",
      "  _np_quint8 = np.dtype([(\"quint8\", np.uint8, 1)])\n",
      "C:\\Users\\sarva\\Anaconda3\\lib\\site-packages\\tensorboard\\compat\\tensorflow_stub\\dtypes.py:543: FutureWarning: Passing (type, 1) or '1type' as a synonym of type is deprecated; in a future version of numpy, it will be understood as (type, (1,)) / '(1,)type'.\n",
      "  _np_qint16 = np.dtype([(\"qint16\", np.int16, 1)])\n",
      "C:\\Users\\sarva\\Anaconda3\\lib\\site-packages\\tensorboard\\compat\\tensorflow_stub\\dtypes.py:544: FutureWarning: Passing (type, 1) or '1type' as a synonym of type is deprecated; in a future version of numpy, it will be understood as (type, (1,)) / '(1,)type'.\n",
      "  _np_quint16 = np.dtype([(\"quint16\", np.uint16, 1)])\n",
      "C:\\Users\\sarva\\Anaconda3\\lib\\site-packages\\tensorboard\\compat\\tensorflow_stub\\dtypes.py:545: FutureWarning: Passing (type, 1) or '1type' as a synonym of type is deprecated; in a future version of numpy, it will be understood as (type, (1,)) / '(1,)type'.\n",
      "  _np_qint32 = np.dtype([(\"qint32\", np.int32, 1)])\n",
      "C:\\Users\\sarva\\Anaconda3\\lib\\site-packages\\tensorboard\\compat\\tensorflow_stub\\dtypes.py:550: FutureWarning: Passing (type, 1) or '1type' as a synonym of type is deprecated; in a future version of numpy, it will be understood as (type, (1,)) / '(1,)type'.\n",
      "  np_resource = np.dtype([(\"resource\", np.ubyte, 1)])\n"
     ]
    },
    {
     "name": "stdout",
     "output_type": "stream",
     "text": [
      "True\n",
      "Compute dtype: float16\n",
      "Variable dtype: float32\n"
     ]
    }
   ],
   "source": [
    "import tensorflow as tf\n",
    "print(\"Tensorflow version \" + tf.__version__)\n",
    "\n",
    "tf.test.is_built_with_cuda()\n",
    "\n",
    "print(tf.test.is_gpu_available(cuda_only=False, min_cuda_compute_capability=None))\n",
    "\n",
    "tf.config.experimental.list_physical_devices('GPU')\n",
    "#for device in gpu_devices: tf.config.experimental.set_memory_growth(device, True)\n",
    "\n",
    "# import tensorflow.keras.backend as K\n",
    "# dtype = 'float16'\n",
    "# K.set_floatx(dtype)\n",
    "# K.set_epsilon(1e-4)\n",
    "\n",
    "from tensorflow.keras.mixed_precision import experimental as mixed_precision\n",
    "policy = mixed_precision.Policy('mixed_float16')\n",
    "mixed_precision.set_policy(policy)\n",
    "\n",
    "print('Compute dtype: %s' % policy.compute_dtype)\n",
    "print('Variable dtype: %s' % policy.variable_dtype)"
   ]
  },
  {
   "cell_type": "code",
   "execution_count": 2,
   "metadata": {},
   "outputs": [],
   "source": [
    "import matplotlib.pyplot as plt # plotting\n",
    "import numpy as np # linear algebra\n",
    "import os # accessing directory structure\n",
    "import pandas as pd # data processing, CSV file I/O (e.g. pd.read_csv)\n",
    "import seaborn\n",
    "import gc\n",
    "import sklearn\n",
    "import pickle"
   ]
  },
  {
   "cell_type": "code",
   "execution_count": 3,
   "metadata": {},
   "outputs": [],
   "source": [
    "path = \"./\" + \"TAPEncoded_train\" + \".pickle\"\n",
    "array_file = open(path, 'rb')\n",
    "TAPEncoded_train = pickle.load(array_file)\n",
    "array_file.close()\n",
    "\n",
    "path = \"./\" + \"TAPEncoded_val\" + \".pickle\"\n",
    "array_file = open(path, 'rb')\n",
    "TAPEncoded_val = pickle.load(array_file)\n",
    "array_file.close()\n",
    "\n",
    "path = \"./\" + \"train_labels\" + \".pickle\"\n",
    "array_file = open(path, 'rb')\n",
    "train_labels = pickle.load(array_file)\n",
    "array_file.close()\n",
    "\n",
    "path = \"./\" + \"validation_labels\" + \".pickle\"\n",
    "array_file = open(path, 'rb')\n",
    "validation_labels = pickle.load(array_file)\n",
    "array_file.close()\n",
    "\n",
    "TAPEncoded_train = np.array(TAPEncoded_train)\n",
    "TAPEncoded_train = np.squeeze(TAPEncoded_train)\n",
    "\n",
    "TAPEncoded_val = np.array(TAPEncoded_val)\n",
    "TAPEncoded_val = np.squeeze(TAPEncoded_val)\n",
    "\n",
    "numclass = max(train_labels) + 1"
   ]
  },
  {
   "cell_type": "code",
   "execution_count": 4,
   "metadata": {},
   "outputs": [
    {
     "data": {
      "text/plain": [
       "20"
      ]
     },
     "execution_count": 4,
     "metadata": {},
     "output_type": "execute_result"
    }
   ],
   "source": [
    "gc.collect()"
   ]
  },
  {
   "cell_type": "code",
   "execution_count": 5,
   "metadata": {
    "colab": {},
    "colab_type": "code",
    "id": "TCv_fddVOoFc"
   },
   "outputs": [],
   "source": [
    "def residual_block(x, filters, dil):\n",
    "    shortcut = x\n",
    "    bn1 = tf.keras.layers.BatchNormalization()(x)\n",
    "    a1 = tf.keras.layers.Activation(\"relu\")(bn1)\n",
    "    conv1 = tf.keras.layers.Conv1D(filters, 3, dilation_rate = dil, padding=\"same\")(a1) #1100 filters and 9 kernel size in ProtCNN\n",
    "    \n",
    "    bn2 = tf.keras.layers.BatchNormalization()(conv1)\n",
    "    a2 = tf.keras.layers.Activation(\"relu\")(bn2)\n",
    "    conv2 = tf.keras.layers.Conv1D(filters, 1, padding=\"same\")(a2)\n",
    "    \n",
    "    x = tf.keras.layers.Add()([conv2, shortcut])\n",
    "    \n",
    "    return x"
   ]
  },
  {
   "cell_type": "code",
   "execution_count": 6,
   "metadata": {},
   "outputs": [
    {
     "name": "stdout",
     "output_type": "stream",
     "text": [
      "Model: \"model\"\n",
      "__________________________________________________________________________________________________\n",
      "Layer (type)                    Output Shape         Param #     Connected to                     \n",
      "==================================================================================================\n",
      "input_1 (InputLayer)            [(None, 2000, 768)]  0                                            \n",
      "__________________________________________________________________________________________________\n",
      "conv1d (Conv1D)                 (None, 2000, 64)     147520      input_1[0][0]                    \n",
      "__________________________________________________________________________________________________\n",
      "batch_normalization (BatchNorma (None, 2000, 64)     256         conv1d[0][0]                     \n",
      "__________________________________________________________________________________________________\n",
      "activation (Activation)         (None, 2000, 64)     0           batch_normalization[0][0]        \n",
      "__________________________________________________________________________________________________\n",
      "conv1d_1 (Conv1D)               (None, 2000, 64)     12352       activation[0][0]                 \n",
      "__________________________________________________________________________________________________\n",
      "batch_normalization_1 (BatchNor (None, 2000, 64)     256         conv1d_1[0][0]                   \n",
      "__________________________________________________________________________________________________\n",
      "activation_1 (Activation)       (None, 2000, 64)     0           batch_normalization_1[0][0]      \n",
      "__________________________________________________________________________________________________\n",
      "conv1d_2 (Conv1D)               (None, 2000, 64)     4160        activation_1[0][0]               \n",
      "__________________________________________________________________________________________________\n",
      "add (Add)                       (None, 2000, 64)     0           conv1d_2[0][0]                   \n",
      "                                                                 conv1d[0][0]                     \n",
      "__________________________________________________________________________________________________\n",
      "batch_normalization_2 (BatchNor (None, 2000, 64)     256         add[0][0]                        \n",
      "__________________________________________________________________________________________________\n",
      "activation_2 (Activation)       (None, 2000, 64)     0           batch_normalization_2[0][0]      \n",
      "__________________________________________________________________________________________________\n",
      "conv1d_3 (Conv1D)               (None, 2000, 64)     12352       activation_2[0][0]               \n",
      "__________________________________________________________________________________________________\n",
      "batch_normalization_3 (BatchNor (None, 2000, 64)     256         conv1d_3[0][0]                   \n",
      "__________________________________________________________________________________________________\n",
      "activation_3 (Activation)       (None, 2000, 64)     0           batch_normalization_3[0][0]      \n",
      "__________________________________________________________________________________________________\n",
      "conv1d_4 (Conv1D)               (None, 2000, 64)     4160        activation_3[0][0]               \n",
      "__________________________________________________________________________________________________\n",
      "add_1 (Add)                     (None, 2000, 64)     0           conv1d_4[0][0]                   \n",
      "                                                                 add[0][0]                        \n",
      "__________________________________________________________________________________________________\n",
      "max_pooling1d (MaxPooling1D)    (None, 1, 64)        0           add_1[0][0]                      \n",
      "__________________________________________________________________________________________________\n",
      "flatten (Flatten)               (None, 64)           0           max_pooling1d[0][0]              \n",
      "__________________________________________________________________________________________________\n",
      "dense (Dense)                   (None, 29)           1885        flatten[0][0]                    \n",
      "==================================================================================================\n",
      "Total params: 183,453\n",
      "Trainable params: 182,941\n",
      "Non-trainable params: 512\n",
      "__________________________________________________________________________________________________\n"
     ]
    }
   ],
   "source": [
    "# batch_size = 8\n",
    "# n_timesteps = 400\n",
    "# n_features = 768\n",
    "# input_x = tf.keras.layers.Input(shape=(n_timesteps,n_features))\n",
    "# bi_rnn = tf.keras.layers.Bidirectional(tf.keras.layers.LSTM(16, batch_input_shape=(batch_size, n_timesteps, n_features), \n",
    "#                                                             kernel_regularizer=tf.keras.regularizers.l2(0.01), \n",
    "#                                                             recurrent_regularizer=tf.keras.regularizers.l2(0.01), \n",
    "#                                                             bias_regularizer=tf.keras.regularizers.l2(0.01)))(input_x)\n",
    "# out = tf.keras.layers.Dense(49, activation=\"softmax\")(bi_rnn) \n",
    "# model = tf.keras.Model(inputs=input_x, outputs=out)\n",
    "# model.compile(loss='sparse_categorical_crossentropy',optimizer=\"adam\",metrics=['accuracy'])\n",
    "# model.summary()\n",
    "\n",
    "input_x = tf.keras.layers.Input(shape=(2000,768))\n",
    "x = tf.keras.layers.Conv1D(64, 3, padding=\"same\")(input_x)\n",
    "x = residual_block(x, 64, 1)\n",
    "x = residual_block(x, 64, 2) #4 blocks of these in ProtCNN\n",
    "x = tf.keras.layers.MaxPooling1D(2000)(x)\n",
    "\n",
    "x = tf.keras.layers.Flatten()(x)\n",
    "out = tf.keras.layers.Dense(numclass, activation=\"softmax\")(x) \n",
    "\n",
    "model = tf.keras.Model(inputs=input_x, outputs=out)\n",
    "#optimizer = tf.keras.optimizers.Adam(lr=1e-5)\n",
    "\n",
    "model.compile(loss='sparse_categorical_crossentropy',optimizer=\"adam\",metrics=['accuracy'])\n",
    "model.summary()"
   ]
  },
  {
   "cell_type": "code",
   "execution_count": 7,
   "metadata": {},
   "outputs": [],
   "source": [
    "# lr_schedule = tf.keras.callbacks.LearningRateScheduler(\n",
    "#     lambda epoch: 1e-5 * 10**(epoch / 20))\n",
    "\n",
    "es = tf.keras.callbacks.EarlyStopping(monitor='val_loss', mode='min', min_delta=0.01, patience=5)"
   ]
  },
  {
   "cell_type": "code",
   "execution_count": 8,
   "metadata": {},
   "outputs": [],
   "source": [
    "def reset_random_seeds():\n",
    "    os.environ['PYTHONHASHSEED']=str(1)\n",
    "    tf.random.set_seed(1)\n",
    "    np.random.seed(1)\n",
    "    \n",
    "reset_random_seeds()"
   ]
  },
  {
   "cell_type": "code",
   "execution_count": 9,
   "metadata": {},
   "outputs": [
    {
     "name": "stdout",
     "output_type": "stream",
     "text": [
      "Epoch 1/15\n",
      "152/152 - 57s - loss: 1.6026 - accuracy: 0.6479 - val_loss: 1.4988 - val_accuracy: 0.6417\n",
      "Epoch 2/15\n",
      "152/152 - 61s - loss: 0.7854 - accuracy: 0.7853 - val_loss: 0.8768 - val_accuracy: 0.7661\n",
      "Epoch 3/15\n",
      "152/152 - 51s - loss: 0.4977 - accuracy: 0.8581 - val_loss: 0.6997 - val_accuracy: 0.8245\n",
      "Epoch 4/15\n",
      "152/152 - 63s - loss: 0.3578 - accuracy: 0.8999 - val_loss: 0.6189 - val_accuracy: 0.8295\n",
      "Epoch 5/15\n",
      "152/152 - 80s - loss: 0.2690 - accuracy: 0.9199 - val_loss: 0.6048 - val_accuracy: 0.8484\n",
      "Epoch 6/15\n",
      "152/152 - 106s - loss: 0.1905 - accuracy: 0.9431 - val_loss: 0.5848 - val_accuracy: 0.8567\n",
      "Epoch 7/15\n",
      "152/152 - 90s - loss: 0.1368 - accuracy: 0.9588 - val_loss: 0.4479 - val_accuracy: 0.8740\n",
      "Epoch 8/15\n",
      "152/152 - 114s - loss: 0.0829 - accuracy: 0.9761 - val_loss: 0.4788 - val_accuracy: 0.8814\n",
      "Epoch 9/15\n",
      "152/152 - 130s - loss: 0.0528 - accuracy: 0.9852 - val_loss: 0.4141 - val_accuracy: 0.8979\n",
      "Epoch 10/15\n",
      "152/152 - 125s - loss: 0.0235 - accuracy: 0.9944 - val_loss: 0.3649 - val_accuracy: 0.9168\n",
      "Epoch 11/15\n",
      "152/152 - 90s - loss: 0.0099 - accuracy: 0.9994 - val_loss: 0.3662 - val_accuracy: 0.9135\n",
      "Epoch 12/15\n",
      "152/152 - 111s - loss: 0.0051 - accuracy: 0.9996 - val_loss: 0.3430 - val_accuracy: 0.9217\n",
      "Epoch 13/15\n",
      "152/152 - 88s - loss: 0.0030 - accuracy: 1.0000 - val_loss: 0.3783 - val_accuracy: 0.9143\n",
      "Epoch 14/15\n",
      "152/152 - 107s - loss: 0.0021 - accuracy: 1.0000 - val_loss: 0.3654 - val_accuracy: 0.9160\n",
      "Epoch 15/15\n",
      "152/152 - 135s - loss: 0.0016 - accuracy: 1.0000 - val_loss: 0.3566 - val_accuracy: 0.9176\n"
     ]
    }
   ],
   "source": [
    "history = model.fit(TAPEncoded_train, train_labels, epochs=15, validation_data=(TAPEncoded_val, validation_labels), verbose=2, callbacks=[es])"
   ]
  },
  {
   "cell_type": "code",
   "execution_count": 9,
   "metadata": {},
   "outputs": [
    {
     "data": {
      "text/plain": [
       "4319"
      ]
     },
     "execution_count": 9,
     "metadata": {},
     "output_type": "execute_result"
    }
   ],
   "source": [
    "#del TAPEncoded_train, TAPEncoded_val\n",
    "gc.collect()"
   ]
  },
  {
   "cell_type": "code",
   "execution_count": 10,
   "metadata": {},
   "outputs": [
    {
     "name": "stdout",
     "output_type": "stream",
     "text": [
      "Saved model to disk\n"
     ]
    }
   ],
   "source": [
    "# serialize model to JSON\n",
    "model_json = model.to_json()\n",
    "with open(\"./\" + \"TAPE_PF_culled_model.json\", \"w\") as json_file:\n",
    "    json_file.write(model_json)\n",
    "# serialize weights to HDF5\n",
    "model.save_weights(\"./\" + \"TAPE_PF_culled_model.h5\")\n",
    "print(\"Saved model to disk\")"
   ]
  },
  {
   "cell_type": "code",
   "execution_count": 6,
   "metadata": {},
   "outputs": [
    {
     "name": "stdout",
     "output_type": "stream",
     "text": [
      "Loaded model from disk\n"
     ]
    }
   ],
   "source": [
    "# json_file = open(os.path.join(\"./\", \"TAPE_PF_culled_model.json\"), 'r')\n",
    "# model_json = json_file.read()\n",
    "# json_file.close()\n",
    "# model = tf.keras.models.model_from_json(loaded_model_json)\n",
    "# # load weights into new model\n",
    "# model.load_weights(os.path.join(\"./\", \"TAPE_PF_culled_model.h5\"))\n",
    "# print(\"Loaded model from disk\")"
   ]
  },
  {
   "cell_type": "code",
   "execution_count": 11,
   "metadata": {},
   "outputs": [],
   "source": [
    "preds = model.predict(TAPEncoded_val)\n",
    "\n",
    "mask = (validation_labels == 27) #27 is negative\n",
    "\n",
    "predictions = np.argmax(preds, axis=1)\n",
    "\n",
    "y_true = validation_labels.copy()\n",
    "y_true[~mask] = 1\n",
    "y_true[mask] = 0\n",
    "\n",
    "mask = (predictions == 27)\n",
    "y_pred = predictions\n",
    "y_pred[~mask] = 1\n",
    "y_pred[mask] = 0"
   ]
  },
  {
   "cell_type": "code",
   "execution_count": 14,
   "metadata": {
    "scrolled": true
   },
   "outputs": [
    {
     "name": "stdout",
     "output_type": "stream",
     "text": [
      "True positive: 429, false positive: 10, true negative: 725, false negative: 50\n",
      "\n",
      "MCC: 0.897226\n",
      "Accuracy: 95.06%\n",
      "F1 score: 0.93\n",
      "Precision: 0.98\n",
      "Recall: 0.90\n"
     ]
    }
   ],
   "source": [
    "get_performance_vals(y_pred, y_true)"
   ]
  },
  {
   "cell_type": "code",
   "execution_count": 15,
   "metadata": {},
   "outputs": [],
   "source": [
    "false_neg_idx = []\n",
    "false_pos_idx = []\n",
    "for i in range(len(preds)):\n",
    "    if (y_pred[i] == 0 and y_true[i] == 1):\n",
    "        false_neg_idx.append(i)\n",
    "    if (y_pred[i] == 1 and y_true[i] == 0):\n",
    "        false_pos_idx.append(i)"
   ]
  },
  {
   "cell_type": "code",
   "execution_count": 16,
   "metadata": {},
   "outputs": [
    {
     "data": {
      "text/plain": [
       "[65, 79, 458, 560, 582, 695, 892, 938, 1046, 1137]"
      ]
     },
     "execution_count": 16,
     "metadata": {},
     "output_type": "execute_result"
    }
   ],
   "source": [
    "false_pos_idx"
   ]
  },
  {
   "cell_type": "code",
   "execution_count": 17,
   "metadata": {},
   "outputs": [
    {
     "data": {
      "text/plain": [
       "Counter({15: 7,\n",
       "         19: 2,\n",
       "         0: 2,\n",
       "         16: 6,\n",
       "         11: 6,\n",
       "         18: 2,\n",
       "         2: 3,\n",
       "         22: 2,\n",
       "         25: 2,\n",
       "         20: 4,\n",
       "         26: 1,\n",
       "         23: 2,\n",
       "         8: 5,\n",
       "         5: 1,\n",
       "         4: 1,\n",
       "         7: 1,\n",
       "         17: 1,\n",
       "         14: 2})"
      ]
     },
     "execution_count": 17,
     "metadata": {},
     "output_type": "execute_result"
    }
   ],
   "source": [
    "import collections\n",
    "false_neg_labs = [validation_labels[i] for i in false_neg_idx]\n",
    "collections.Counter(false_neg_labs)"
   ]
  },
  {
   "cell_type": "code",
   "execution_count": null,
   "metadata": {},
   "outputs": [],
   "source": [
    "#Method 2B - Binary classification"
   ]
  },
  {
   "cell_type": "code",
   "execution_count": 6,
   "metadata": {},
   "outputs": [
    {
     "name": "stdout",
     "output_type": "stream",
     "text": [
      "Model: \"model\"\n",
      "__________________________________________________________________________________________________\n",
      "Layer (type)                    Output Shape         Param #     Connected to                     \n",
      "==================================================================================================\n",
      "input_1 (InputLayer)            [(None, 2000, 768)]  0                                            \n",
      "__________________________________________________________________________________________________\n",
      "conv1d (Conv1D)                 (None, 2000, 64)     147520      input_1[0][0]                    \n",
      "__________________________________________________________________________________________________\n",
      "batch_normalization (BatchNorma (None, 2000, 64)     256         conv1d[0][0]                     \n",
      "__________________________________________________________________________________________________\n",
      "activation (Activation)         (None, 2000, 64)     0           batch_normalization[0][0]        \n",
      "__________________________________________________________________________________________________\n",
      "conv1d_1 (Conv1D)               (None, 2000, 64)     12352       activation[0][0]                 \n",
      "__________________________________________________________________________________________________\n",
      "batch_normalization_1 (BatchNor (None, 2000, 64)     256         conv1d_1[0][0]                   \n",
      "__________________________________________________________________________________________________\n",
      "activation_1 (Activation)       (None, 2000, 64)     0           batch_normalization_1[0][0]      \n",
      "__________________________________________________________________________________________________\n",
      "conv1d_2 (Conv1D)               (None, 2000, 64)     4160        activation_1[0][0]               \n",
      "__________________________________________________________________________________________________\n",
      "add (Add)                       (None, 2000, 64)     0           conv1d_2[0][0]                   \n",
      "                                                                 conv1d[0][0]                     \n",
      "__________________________________________________________________________________________________\n",
      "batch_normalization_2 (BatchNor (None, 2000, 64)     256         add[0][0]                        \n",
      "__________________________________________________________________________________________________\n",
      "activation_2 (Activation)       (None, 2000, 64)     0           batch_normalization_2[0][0]      \n",
      "__________________________________________________________________________________________________\n",
      "conv1d_3 (Conv1D)               (None, 2000, 64)     12352       activation_2[0][0]               \n",
      "__________________________________________________________________________________________________\n",
      "batch_normalization_3 (BatchNor (None, 2000, 64)     256         conv1d_3[0][0]                   \n",
      "__________________________________________________________________________________________________\n",
      "activation_3 (Activation)       (None, 2000, 64)     0           batch_normalization_3[0][0]      \n",
      "__________________________________________________________________________________________________\n",
      "conv1d_4 (Conv1D)               (None, 2000, 64)     4160        activation_3[0][0]               \n",
      "__________________________________________________________________________________________________\n",
      "add_1 (Add)                     (None, 2000, 64)     0           conv1d_4[0][0]                   \n",
      "                                                                 add[0][0]                        \n",
      "__________________________________________________________________________________________________\n",
      "max_pooling1d (MaxPooling1D)    (None, 1, 64)        0           add_1[0][0]                      \n",
      "__________________________________________________________________________________________________\n",
      "flatten (Flatten)               (None, 64)           0           max_pooling1d[0][0]              \n",
      "__________________________________________________________________________________________________\n",
      "dense (Dense)                   (None, 10)           650         flatten[0][0]                    \n",
      "__________________________________________________________________________________________________\n",
      "dense_1 (Dense)                 (None, 1)            11          dense[0][0]                      \n",
      "==================================================================================================\n",
      "Total params: 182,229\n",
      "Trainable params: 181,717\n",
      "Non-trainable params: 512\n",
      "__________________________________________________________________________________________________\n"
     ]
    }
   ],
   "source": [
    "# batch_size = 8\n",
    "# n_timesteps = 400\n",
    "# n_features = 768\n",
    "# input_x = tf.keras.layers.Input(shape=(n_timesteps,n_features))\n",
    "# bi_rnn = tf.keras.layers.Bidirectional(tf.keras.layers.LSTM(16, batch_input_shape=(batch_size, n_timesteps, n_features), \n",
    "#                                                             kernel_regularizer=tf.keras.regularizers.l2(0.01), \n",
    "#                                                             recurrent_regularizer=tf.keras.regularizers.l2(0.01), \n",
    "#                                                             bias_regularizer=tf.keras.regularizers.l2(0.01)))(input_x)\n",
    "# out = tf.keras.layers.Dense(49, activation=\"softmax\")(bi_rnn) \n",
    "# model = tf.keras.Model(inputs=input_x, outputs=out)\n",
    "# model.compile(loss='sparse_categorical_crossentropy',optimizer=\"adam\",metrics=['accuracy'])\n",
    "# model.summary()\n",
    "\n",
    "input_x = tf.keras.layers.Input(shape=(2000,768))\n",
    "x = tf.keras.layers.Conv1D(64, 3, padding=\"same\")(input_x)\n",
    "x = residual_block(x, 64, 1)\n",
    "x = residual_block(x, 64, 2) #4 blocks of these in ProtCNN\n",
    "x = tf.keras.layers.MaxPooling1D(2000)(x)\n",
    "\n",
    "x = tf.keras.layers.Flatten()(x)\n",
    "x = tf.keras.layers.Dense(10, activation=\"relu\")(x) \n",
    "out = tf.keras.layers.Dense(1, activation=\"sigmoid\")(x) \n",
    "\n",
    "model = tf.keras.Model(inputs=input_x, outputs=out)\n",
    "#optimizer = tf.keras.optimizers.Adam(lr=1e-5)\n",
    "\n",
    "model.compile(loss='binary_crossentropy',optimizer=\"adam\",metrics=['accuracy'])\n",
    "model.summary()"
   ]
  },
  {
   "cell_type": "code",
   "execution_count": 7,
   "metadata": {},
   "outputs": [],
   "source": [
    "y_true = validation_labels.copy()\n",
    "mask = (validation_labels == 27) #27 is negative\n",
    "y_true[~mask] = 1\n",
    "y_true[mask] = 0"
   ]
  },
  {
   "cell_type": "code",
   "execution_count": 8,
   "metadata": {},
   "outputs": [],
   "source": [
    "y_train = train_labels.copy()\n",
    "mask = (y_train == 27) #27 is negative\n",
    "y_train[~mask] = 1\n",
    "y_train[mask] = 0"
   ]
  },
  {
   "cell_type": "code",
   "execution_count": 9,
   "metadata": {},
   "outputs": [],
   "source": [
    "# lr_schedule = tf.keras.callbacks.LearningRateScheduler(\n",
    "#     lambda epoch: 1e-5 * 10**(epoch / 20))\n",
    "\n",
    "es = tf.keras.callbacks.EarlyStopping(monitor='val_loss', mode='min', min_delta=0.01, patience=5)"
   ]
  },
  {
   "cell_type": "code",
   "execution_count": 10,
   "metadata": {},
   "outputs": [
    {
     "name": "stdout",
     "output_type": "stream",
     "text": [
      "Epoch 1/12\n",
      "152/152 - 63s - loss: 0.4707 - accuracy: 0.7971 - val_loss: 0.3002 - val_accuracy: 0.8666\n",
      "Epoch 2/12\n",
      "152/152 - 65s - loss: 0.2250 - accuracy: 0.9108 - val_loss: 0.2245 - val_accuracy: 0.9036\n",
      "Epoch 3/12\n",
      "152/152 - 59s - loss: 0.1691 - accuracy: 0.9349 - val_loss: 0.1481 - val_accuracy: 0.9382\n",
      "Epoch 4/12\n",
      "152/152 - 78s - loss: 0.1191 - accuracy: 0.9545 - val_loss: 0.1562 - val_accuracy: 0.9382\n",
      "Epoch 5/12\n",
      "152/152 - 95s - loss: 0.1171 - accuracy: 0.9569 - val_loss: 0.1655 - val_accuracy: 0.9390\n",
      "Epoch 6/12\n",
      "152/152 - 75s - loss: 0.1004 - accuracy: 0.9604 - val_loss: 0.2644 - val_accuracy: 0.8904\n",
      "Epoch 7/12\n",
      "152/152 - 65s - loss: 0.0507 - accuracy: 0.9835 - val_loss: 0.1780 - val_accuracy: 0.9259\n",
      "Epoch 8/12\n",
      "152/152 - 112s - loss: 0.0297 - accuracy: 0.9911 - val_loss: 0.1532 - val_accuracy: 0.9481\n"
     ]
    }
   ],
   "source": [
    "history = model.fit(TAPEncoded_train, y_train, epochs=12, validation_data=(TAPEncoded_val, y_true), verbose=2, callbacks=[es])"
   ]
  },
  {
   "cell_type": "code",
   "execution_count": 11,
   "metadata": {},
   "outputs": [
    {
     "data": {
      "text/plain": [
       "2888"
      ]
     },
     "execution_count": 11,
     "metadata": {},
     "output_type": "execute_result"
    }
   ],
   "source": [
    "#del TAPEncoded_train, TAPEncoded_val\n",
    "gc.collect()"
   ]
  },
  {
   "cell_type": "code",
   "execution_count": 12,
   "metadata": {},
   "outputs": [],
   "source": [
    "preds = model.predict(TAPEncoded_val)"
   ]
  },
  {
   "cell_type": "code",
   "execution_count": 13,
   "metadata": {},
   "outputs": [],
   "source": [
    "mask = preds > 0.5\n",
    "preds[mask] = 1\n",
    "preds[~mask] = 0"
   ]
  },
  {
   "cell_type": "code",
   "execution_count": 14,
   "metadata": {},
   "outputs": [],
   "source": [
    "preds = preds.reshape(-1)"
   ]
  },
  {
   "cell_type": "code",
   "execution_count": 17,
   "metadata": {},
   "outputs": [
    {
     "name": "stdout",
     "output_type": "stream",
     "text": [
      "True positive: 437, false positive: 21, true negative: 714, false negative: 42\n",
      "\n",
      "MCC: 0.891138\n",
      "Accuracy: 94.81%\n",
      "F1 score: 0.93\n",
      "Precision: 0.95\n",
      "Recall: 0.91\n"
     ]
    }
   ],
   "source": [
    "get_performance_vals(preds, y_true) #Performs slightly worse than mutliclass model!!"
   ]
  },
  {
   "cell_type": "code",
   "execution_count": 17,
   "metadata": {},
   "outputs": [],
   "source": [
    "#Method 3"
   ]
  },
  {
   "cell_type": "code",
   "execution_count": 18,
   "metadata": {},
   "outputs": [],
   "source": [
    "#Starting here"
   ]
  },
  {
   "cell_type": "code",
   "execution_count": 19,
   "metadata": {},
   "outputs": [
    {
     "name": "stdout",
     "output_type": "stream",
     "text": [
      "Tensorflow version 2.2.0\n",
      "WARNING:tensorflow:From <ipython-input-19-0ced83b4a304>:6: is_gpu_available (from tensorflow.python.framework.test_util) is deprecated and will be removed in a future version.\n",
      "Instructions for updating:\n",
      "Use `tf.config.list_physical_devices('GPU')` instead.\n"
     ]
    },
    {
     "name": "stderr",
     "output_type": "stream",
     "text": [
      "C:\\Users\\sarva\\Anaconda3\\lib\\site-packages\\tensorboard\\compat\\tensorflow_stub\\dtypes.py:541: FutureWarning: Passing (type, 1) or '1type' as a synonym of type is deprecated; in a future version of numpy, it will be understood as (type, (1,)) / '(1,)type'.\n",
      "  _np_qint8 = np.dtype([(\"qint8\", np.int8, 1)])\n",
      "C:\\Users\\sarva\\Anaconda3\\lib\\site-packages\\tensorboard\\compat\\tensorflow_stub\\dtypes.py:542: FutureWarning: Passing (type, 1) or '1type' as a synonym of type is deprecated; in a future version of numpy, it will be understood as (type, (1,)) / '(1,)type'.\n",
      "  _np_quint8 = np.dtype([(\"quint8\", np.uint8, 1)])\n",
      "C:\\Users\\sarva\\Anaconda3\\lib\\site-packages\\tensorboard\\compat\\tensorflow_stub\\dtypes.py:543: FutureWarning: Passing (type, 1) or '1type' as a synonym of type is deprecated; in a future version of numpy, it will be understood as (type, (1,)) / '(1,)type'.\n",
      "  _np_qint16 = np.dtype([(\"qint16\", np.int16, 1)])\n",
      "C:\\Users\\sarva\\Anaconda3\\lib\\site-packages\\tensorboard\\compat\\tensorflow_stub\\dtypes.py:544: FutureWarning: Passing (type, 1) or '1type' as a synonym of type is deprecated; in a future version of numpy, it will be understood as (type, (1,)) / '(1,)type'.\n",
      "  _np_quint16 = np.dtype([(\"quint16\", np.uint16, 1)])\n",
      "C:\\Users\\sarva\\Anaconda3\\lib\\site-packages\\tensorboard\\compat\\tensorflow_stub\\dtypes.py:545: FutureWarning: Passing (type, 1) or '1type' as a synonym of type is deprecated; in a future version of numpy, it will be understood as (type, (1,)) / '(1,)type'.\n",
      "  _np_qint32 = np.dtype([(\"qint32\", np.int32, 1)])\n",
      "C:\\Users\\sarva\\Anaconda3\\lib\\site-packages\\tensorboard\\compat\\tensorflow_stub\\dtypes.py:550: FutureWarning: Passing (type, 1) or '1type' as a synonym of type is deprecated; in a future version of numpy, it will be understood as (type, (1,)) / '(1,)type'.\n",
      "  np_resource = np.dtype([(\"resource\", np.ubyte, 1)])\n"
     ]
    },
    {
     "name": "stdout",
     "output_type": "stream",
     "text": [
      "True\n",
      "Compute dtype: float16\n",
      "Variable dtype: float32\n"
     ]
    }
   ],
   "source": [
    "import tensorflow as tf\n",
    "print(\"Tensorflow version \" + tf.__version__)\n",
    "\n",
    "tf.test.is_built_with_cuda()\n",
    "\n",
    "print(tf.test.is_gpu_available(cuda_only=False, min_cuda_compute_capability=None))\n",
    "\n",
    "tf.config.experimental.list_physical_devices('GPU')\n",
    "#for device in gpu_devices: tf.config.experimental.set_memory_growth(device, True)\n",
    "\n",
    "# import tensorflow.keras.backend as K\n",
    "# dtype = 'float16'\n",
    "# K.set_floatx(dtype)\n",
    "# K.set_epsilon(1e-4)\n",
    "\n",
    "from tensorflow.keras.preprocessing.text import Tokenizer\n",
    "from tensorflow.keras.preprocessing.sequence import pad_sequences\n",
    "from tensorflow.keras.mixed_precision import experimental as mixed_precision\n",
    "policy = mixed_precision.Policy('mixed_float16')\n",
    "mixed_precision.set_policy(policy)\n",
    "\n",
    "print('Compute dtype: %s' % policy.compute_dtype)\n",
    "print('Variable dtype: %s' % policy.variable_dtype)"
   ]
  },
  {
   "cell_type": "code",
   "execution_count": 20,
   "metadata": {
    "colab": {},
    "colab_type": "code",
    "id": "DsU7zKDkOoE9"
   },
   "outputs": [],
   "source": [
    "def split_(word): \n",
    "    return [char for char in word]\n",
    "\n",
    "train_sentences = [[char for char in word] for word in train]\n",
    "validation_sentences = [[char for char in word] for word in dev]\n",
    "#test_sentences = test['sequence'].apply(lambda x: split_(x))"
   ]
  },
  {
   "cell_type": "code",
   "execution_count": 21,
   "metadata": {
    "colab": {
     "base_uri": "https://localhost:8080/",
     "height": 33
    },
    "colab_type": "code",
    "id": "MpoLRnT0OoFN",
    "outputId": "79f02a60-1599-4a1e-fc7a-1b9e9e6e718f"
   },
   "outputs": [
    {
     "name": "stdout",
     "output_type": "stream",
     "text": [
      "{'<OOV>': 1, 'l': 2, 'a': 3, 'g': 4, 's': 5, 'v': 6, 't': 7, 'e': 8, 'd': 9, 'i': 10, 'k': 11, 'n': 12, 'r': 13, 'p': 14, 'f': 15, 'q': 16, 'y': 17, 'h': 18, 'm': 19, 'w': 20, 'c': 21, 'x': 22, 'u': 23, 'b': 24, 'o': 25}\n"
     ]
    }
   ],
   "source": [
    "vocab_size = 21\n",
    "max_length = 2000\n",
    "trunc_type = \"post\"\n",
    "padding_type = \"post\"\n",
    "oov_tok = \"<OOV>\"\n",
    "\n",
    "tokenizer = Tokenizer(oov_token=oov_tok, num_words = vocab_size)\n",
    "tokenizer.fit_on_texts(train_sentences)\n",
    "word_index = tokenizer.word_index\n",
    "print(word_index)\n",
    "\n",
    "train_sequences = tokenizer.texts_to_sequences(train_sentences)\n",
    "train_padded = pad_sequences(train_sequences, maxlen=max_length, padding=padding_type)\n",
    "# del train_sentences\n",
    "# del train_sequences\n",
    "# gc.collect()"
   ]
  },
  {
   "cell_type": "code",
   "execution_count": 22,
   "metadata": {
    "colab": {},
    "colab_type": "code",
    "id": "3iy99ZfCJ34l"
   },
   "outputs": [],
   "source": [
    "validation_sequences = tokenizer.texts_to_sequences(validation_sentences)\n",
    "validation_padded = pad_sequences(validation_sequences, maxlen=max_length, padding=padding_type)\n",
    "# del validation_sentences\n",
    "# del validation_sequences\n",
    "# gc.collect()"
   ]
  },
  {
   "cell_type": "code",
   "execution_count": 23,
   "metadata": {
    "colab": {},
    "colab_type": "code",
    "id": "UpmBGMoKJ85Z"
   },
   "outputs": [],
   "source": [
    "# takes too much space\n",
    "# solved with non-trainable Embedding layer with identity initializer\n",
    "\n",
    "# train_padded = tf.keras.utils.to_categorical(train_padded, num_classes=vocab_size)\n",
    "# validation_padded = tf.keras.utils.to_categorical(validation_padded, num_classes=vocab_size)\n",
    "# test_padded = tf.keras.utils.to_categorical(test_padded, num_classes=vocab_size)"
   ]
  },
  {
   "cell_type": "code",
   "execution_count": 24,
   "metadata": {
    "colab": {
     "base_uri": "https://localhost:8080/",
     "height": 33
    },
    "colab_type": "code",
    "id": "rhXMpWpXOoFP",
    "outputId": "78f7883c-7106-4b5d-9137-a634692a08d9"
   },
   "outputs": [
    {
     "data": {
      "text/plain": [
       "(4854, 2000)"
      ]
     },
     "execution_count": 24,
     "metadata": {},
     "output_type": "execute_result"
    }
   ],
   "source": [
    "train_padded.shape"
   ]
  },
  {
   "cell_type": "code",
   "execution_count": 25,
   "metadata": {
    "colab": {
     "base_uri": "https://localhost:8080/",
     "height": 33
    },
    "colab_type": "code",
    "id": "2eB81tNKWbaf",
    "outputId": "4f233e42-7130-4d05-9962-e0cb8e08c0cc"
   },
   "outputs": [
    {
     "data": {
      "text/plain": [
       "((4854,), (1214,))"
      ]
     },
     "execution_count": 25,
     "metadata": {},
     "output_type": "execute_result"
    }
   ],
   "source": [
    "from sklearn.preprocessing import LabelEncoder\n",
    "le = LabelEncoder()\n",
    "\n",
    "train_labels = le.fit_transform(train_labels)\n",
    "validation_labels = le.transform(validation_labels)\n",
    "#test_labels = le.transform(test_labels)\n",
    "\n",
    "train_labels.shape, validation_labels.shape"
   ]
  },
  {
   "cell_type": "code",
   "execution_count": 26,
   "metadata": {},
   "outputs": [
    {
     "name": "stdout",
     "output_type": "stream",
     "text": [
      "{0: 'PF00087_toxin_tolip_full_length_sequences.fasta', 1: 'PF00555_Endotoxin_M_uniprot.fasta', 2: 'PF01024_colicin_full_length_sequences.fasta', 3: 'PF01117_aerolysin_full_length_sequences.fasta', 4: 'PF01289_thiol_cytolysin_full_length_sequences.fasta', 5: 'PF01338_Bac_thur_toxin_full_length_sequences.fasta', 6: 'PF01823_macpf_uniprot.fasta', 7: 'PF02382_rtx_full_length_sequences.fasta', 8: 'PF03318_etx_mtx2_full_length_sequences.fasta', 9: 'PF03505_clenterotox_full_length_sequences.fasta', 10: 'PF03944_Endotoxin_C_uniprot.fasta', 11: 'PF03945_Endotoxin_N_full_length_sequences.fasta', 12: 'PF04598_gasdermin_uniprot.fasta', 13: 'PF04877_harpin_full_length_sequences.fasta', 14: 'PF05802_espb_full_length_sequences.fasta', 15: 'PF06109_hlye_full_length_sequences.fasta', 16: 'PF06355_aegerolysin_full_length_sequences.fasta', 17: 'PF06369_anemone_cytotox_full_length_sequences.fasta', 18: 'PF07367_fb_lectin_full_length_sequences.fasta', 19: 'PF07968_leukocidin_full_length_sequences.fasta', 20: 'PF11393_T4BSS_dotI_icml_full_length_sequences.fasta', 21: 'PF11565_porb_full_length_sequences.fasta', 22: 'PF12261_t_hemolysin_full_length_sequences.fasta', 23: 'PF12920_tcda_tcdb_pore_full_length_sequences.fasta', 24: 'PF17475_binary_toxb_2_full_length_sequences.fasta', 25: 'PF18063_BB_PF_full_length_sequences.fasta', 26: 'PF18684_plyb_c_full_length_sequences.fasta', 27: 'negative', 28: 'pf05105_phage_holin_4_1_uniprot.fasta'}\n"
     ]
    }
   ],
   "source": [
    "le_name_mapping = dict(zip(le.classes_, le.transform(le.classes_)))\n",
    "umap_map = {v: k for k, v in le_name_mapping.items()}\n",
    "print(umap_map)"
   ]
  },
  {
   "cell_type": "code",
   "execution_count": 27,
   "metadata": {},
   "outputs": [],
   "source": [
    "numclass = max(train_labels) + 1"
   ]
  },
  {
   "cell_type": "code",
   "execution_count": 28,
   "metadata": {},
   "outputs": [],
   "source": [
    "def residual_block(x, filters, dil):\n",
    "    shortcut = x\n",
    "    bn1 = tf.keras.layers.BatchNormalization()(x)\n",
    "    a1 = tf.keras.layers.Activation(\"relu\")(bn1)\n",
    "    conv1 = tf.keras.layers.Conv1D(filters, 3, dilation_rate = dil, padding=\"same\")(a1) #1100 filters and 9 kernel size in ProtCNN\n",
    "    \n",
    "    bn2 = tf.keras.layers.BatchNormalization()(conv1)\n",
    "    a2 = tf.keras.layers.Activation(\"relu\")(bn2)\n",
    "    conv2 = tf.keras.layers.Conv1D(filters, 1, padding=\"same\")(a2)\n",
    "    \n",
    "    x = tf.keras.layers.Add()([conv2, shortcut])\n",
    "    \n",
    "    return x"
   ]
  },
  {
   "cell_type": "code",
   "execution_count": 29,
   "metadata": {
    "colab": {
     "base_uri": "https://localhost:8080/",
     "height": 856
    },
    "colab_type": "code",
    "id": "gHREjUe3OoFh",
    "outputId": "101f0f32-c106-488a-aa22-a894ad687d2a"
   },
   "outputs": [
    {
     "name": "stdout",
     "output_type": "stream",
     "text": [
      "Model: \"model\"\n",
      "__________________________________________________________________________________________________\n",
      "Layer (type)                    Output Shape         Param #     Connected to                     \n",
      "==================================================================================================\n",
      "input_1 (InputLayer)            [(None, 2000)]       0                                            \n",
      "__________________________________________________________________________________________________\n",
      "embedding (Embedding)           (None, 2000, 21)     441         input_1[0][0]                    \n",
      "__________________________________________________________________________________________________\n",
      "conv1d (Conv1D)                 (None, 2000, 64)     4096        embedding[0][0]                  \n",
      "__________________________________________________________________________________________________\n",
      "batch_normalization (BatchNorma (None, 2000, 64)     256         conv1d[0][0]                     \n",
      "__________________________________________________________________________________________________\n",
      "activation (Activation)         (None, 2000, 64)     0           batch_normalization[0][0]        \n",
      "__________________________________________________________________________________________________\n",
      "conv1d_1 (Conv1D)               (None, 2000, 64)     12352       activation[0][0]                 \n",
      "__________________________________________________________________________________________________\n",
      "batch_normalization_1 (BatchNor (None, 2000, 64)     256         conv1d_1[0][0]                   \n",
      "__________________________________________________________________________________________________\n",
      "activation_1 (Activation)       (None, 2000, 64)     0           batch_normalization_1[0][0]      \n",
      "__________________________________________________________________________________________________\n",
      "conv1d_2 (Conv1D)               (None, 2000, 64)     4160        activation_1[0][0]               \n",
      "__________________________________________________________________________________________________\n",
      "add (Add)                       (None, 2000, 64)     0           conv1d_2[0][0]                   \n",
      "                                                                 conv1d[0][0]                     \n",
      "__________________________________________________________________________________________________\n",
      "batch_normalization_2 (BatchNor (None, 2000, 64)     256         add[0][0]                        \n",
      "__________________________________________________________________________________________________\n",
      "activation_2 (Activation)       (None, 2000, 64)     0           batch_normalization_2[0][0]      \n",
      "__________________________________________________________________________________________________\n",
      "conv1d_3 (Conv1D)               (None, 2000, 64)     12352       activation_2[0][0]               \n",
      "__________________________________________________________________________________________________\n",
      "batch_normalization_3 (BatchNor (None, 2000, 64)     256         conv1d_3[0][0]                   \n",
      "__________________________________________________________________________________________________\n",
      "activation_3 (Activation)       (None, 2000, 64)     0           batch_normalization_3[0][0]      \n",
      "__________________________________________________________________________________________________\n",
      "conv1d_4 (Conv1D)               (None, 2000, 64)     4160        activation_3[0][0]               \n",
      "__________________________________________________________________________________________________\n",
      "add_1 (Add)                     (None, 2000, 64)     0           conv1d_4[0][0]                   \n",
      "                                                                 add[0][0]                        \n",
      "__________________________________________________________________________________________________\n",
      "max_pooling1d (MaxPooling1D)    (None, 1, 64)        0           add_1[0][0]                      \n",
      "__________________________________________________________________________________________________\n",
      "flatten (Flatten)               (None, 64)           0           max_pooling1d[0][0]              \n",
      "__________________________________________________________________________________________________\n",
      "dropout (Dropout)               (None, 64)           0           flatten[0][0]                    \n",
      "__________________________________________________________________________________________________\n",
      "dense (Dense)                   (None, 29)           1885        dropout[0][0]                    \n",
      "==================================================================================================\n",
      "Total params: 40,470\n",
      "Trainable params: 39,517\n",
      "Non-trainable params: 953\n",
      "__________________________________________________________________________________________________\n"
     ]
    }
   ],
   "source": [
    "input_x = tf.keras.layers.Input(shape=2000)\n",
    "x = tf.keras.layers.Embedding(vocab_size, vocab_size, embeddings_initializer=tf.keras.initializers.Identity(gain=1.0), trainable=False)(input_x)\n",
    "x = tf.keras.layers.Conv1D(64, 3, padding=\"same\")(x)\n",
    "x = residual_block(x, 64, 1)\n",
    "x = residual_block(x, 64, 2) #4 blocks of these in ProtCNN\n",
    "x = tf.keras.layers.MaxPooling1D(2000)(x)\n",
    "\n",
    "x = tf.keras.layers.Flatten()(x)\n",
    "x = tf.keras.layers.Dropout(0.3)(x) #only makes training error worse\n",
    "out = tf.keras.layers.Dense(numclass, activation=\"softmax\")(x) \n",
    "\n",
    "model = tf.keras.Model(inputs=input_x, outputs=out)\n",
    "#optimizer = tf.keras.optimizers.Adam(lr=1e-5)\n",
    "\n",
    "model.compile(loss='sparse_categorical_crossentropy',optimizer=\"adam\",metrics=['accuracy'])\n",
    "model.summary()"
   ]
  },
  {
   "cell_type": "code",
   "execution_count": 31,
   "metadata": {},
   "outputs": [],
   "source": [
    "def reset_random_seeds():\n",
    "    os.environ['PYTHONHASHSEED']=str(1)\n",
    "    tf.random.set_seed(1)\n",
    "    np.random.seed(1)\n",
    "    \n",
    "reset_random_seeds()"
   ]
  },
  {
   "cell_type": "code",
   "execution_count": 32,
   "metadata": {
    "colab": {
     "base_uri": "https://localhost:8080/",
     "height": 386
    },
    "colab_type": "code",
    "id": "I-GgPN6_OoFj",
    "outputId": "40067b50-b3ce-4d2d-f04a-a6364511eff7"
   },
   "outputs": [
    {
     "name": "stdout",
     "output_type": "stream",
     "text": [
      "Epoch 1/25\n",
      "152/152 - 3s - loss: 0.1600 - accuracy: 0.9518 - val_loss: 0.4798 - val_accuracy: 0.8806\n",
      "Epoch 2/25\n",
      "152/152 - 3s - loss: 0.1545 - accuracy: 0.9504 - val_loss: 0.4646 - val_accuracy: 0.8806\n",
      "Epoch 3/25\n",
      "152/152 - 3s - loss: 0.1471 - accuracy: 0.9518 - val_loss: 0.4323 - val_accuracy: 0.8888\n",
      "Epoch 4/25\n",
      "152/152 - 3s - loss: 0.1228 - accuracy: 0.9642 - val_loss: 0.4176 - val_accuracy: 0.8970\n",
      "Epoch 5/25\n",
      "152/152 - 3s - loss: 0.1398 - accuracy: 0.9534 - val_loss: 0.6279 - val_accuracy: 0.8641\n",
      "Epoch 6/25\n",
      "152/152 - 3s - loss: 0.1183 - accuracy: 0.9611 - val_loss: 0.4511 - val_accuracy: 0.8863\n",
      "Epoch 7/25\n",
      "152/152 - 3s - loss: 0.1309 - accuracy: 0.9592 - val_loss: 0.4446 - val_accuracy: 0.8855\n",
      "Epoch 8/25\n",
      "152/152 - 3s - loss: 0.1246 - accuracy: 0.9613 - val_loss: 0.4128 - val_accuracy: 0.8979\n",
      "Epoch 9/25\n",
      "152/152 - 3s - loss: 0.1145 - accuracy: 0.9633 - val_loss: 0.4268 - val_accuracy: 0.8913\n"
     ]
    }
   ],
   "source": [
    "es = tf.keras.callbacks.EarlyStopping(monitor='val_loss', mode='min', min_delta=0.01, patience=5)\n",
    "history = model.fit(train_padded, train_labels, epochs=25, validation_data=(validation_padded, validation_labels), verbose=2, callbacks=[es])"
   ]
  },
  {
   "cell_type": "code",
   "execution_count": 33,
   "metadata": {},
   "outputs": [],
   "source": [
    "preds = model.predict(validation_padded)\n",
    "\n",
    "mask = (validation_labels == 27) #27 is negative\n",
    "\n",
    "predictions = np.argmax(preds, axis=1)\n",
    "\n",
    "y_true = validation_labels.copy()\n",
    "y_true[~mask] = 1\n",
    "y_true[mask] = 0\n",
    "\n",
    "mask = (predictions == 27)\n",
    "y_pred = predictions\n",
    "y_pred[~mask] = 1\n",
    "y_pred[mask] = 0"
   ]
  },
  {
   "cell_type": "code",
   "execution_count": 34,
   "metadata": {},
   "outputs": [
    {
     "name": "stdout",
     "output_type": "stream",
     "text": [
      "True positive: 406, false positive: 12, true negative: 723, false negative: 73\n",
      "\n",
      "MCC: 0.855087\n",
      "Accuracy: 93.00%\n",
      "F1 score: 0.91\n",
      "Precision: 0.97\n",
      "Recall: 0.85\n"
     ]
    }
   ],
   "source": [
    "get_performance_vals(y_pred, y_true)"
   ]
  },
  {
   "cell_type": "code",
   "execution_count": 35,
   "metadata": {
    "colab": {
     "base_uri": "https://localhost:8080/",
     "height": 33
    },
    "colab_type": "code",
    "id": "V9t0EJG86j7d",
    "outputId": "a567c4c3-9d93-481d-ee9f-e4ea3b93072f"
   },
   "outputs": [
    {
     "name": "stdout",
     "output_type": "stream",
     "text": [
      "Loaded model from disk\n"
     ]
    }
   ],
   "source": [
    "# load BEST model (json) and create model\n",
    "json_file = open(os.path.join(\"./\", \"TAPE_PF_culled_model.json\"), 'r')\n",
    "loaded_model_json = json_file.read()\n",
    "json_file.close()\n",
    "loaded_model = tf.keras.models.model_from_json(loaded_model_json)\n",
    "# load weights into new model\n",
    "loaded_model.load_weights(os.path.join(\"./\", \"TAPE_PF_culled_model.h5\"))\n",
    "print(\"Loaded model from disk\")\n",
    " \n",
    "# calculate embedding for new data\n",
    "embedder = tf.keras.Model(inputs = loaded_model.layers[0].input, outputs = loaded_model.layers[17].output)\n",
    "# embedder.compile(loss='categorical_crossentropy',optimizer=\"adam\")\n",
    "# predict should be allowed to use w/o compilation: \n",
    "# https://github.com/keras-team/keras/issues/2621\n",
    "# embeds = loaded_model.predict(test_padded[:10])"
   ]
  },
  {
   "cell_type": "code",
   "execution_count": 36,
   "metadata": {},
   "outputs": [],
   "source": [
    "path = \"./\" + \"TAPEncoded_train\" + \".pickle\"\n",
    "array_file = open(path, 'rb')\n",
    "TAPEncoded_train = pickle.load(array_file)\n",
    "array_file.close()\n",
    "\n",
    "path = \"./\" + \"TAPEncoded_val\" + \".pickle\"\n",
    "array_file = open(path, 'rb')\n",
    "TAPEncoded_val = pickle.load(array_file)\n",
    "array_file.close()"
   ]
  },
  {
   "cell_type": "code",
   "execution_count": 37,
   "metadata": {},
   "outputs": [],
   "source": [
    "TAPEncoded_train = np.array(TAPEncoded_train)\n",
    "TAPEncoded_train = np.squeeze(TAPEncoded_train)\n",
    "\n",
    "TAPEncoded_val = np.array(TAPEncoded_val)\n",
    "TAPEncoded_val = np.squeeze(TAPEncoded_val)"
   ]
  },
  {
   "cell_type": "code",
   "execution_count": 38,
   "metadata": {},
   "outputs": [
    {
     "data": {
      "text/plain": [
       "(1214, 2000, 768)"
      ]
     },
     "execution_count": 38,
     "metadata": {},
     "output_type": "execute_result"
    }
   ],
   "source": [
    "TAPEncoded_val.shape"
   ]
  },
  {
   "cell_type": "code",
   "execution_count": 39,
   "metadata": {},
   "outputs": [],
   "source": [
    "train_embed = embedder.predict(TAPEncoded_train)\n",
    "val_embed = embedder.predict(TAPEncoded_val)"
   ]
  },
  {
   "cell_type": "code",
   "execution_count": 40,
   "metadata": {},
   "outputs": [],
   "source": [
    "path = \"./\" + \"PFmodelEmbed_train\" + \".pickle\"\n",
    "output = open(path, 'w+b')\n",
    "pickle.dump(train_embed, output)\n",
    "output.close()\n",
    "\n",
    "path = \"./\" + \"PFmodelEmbed_val\" + \".pickle\"\n",
    "output = open(path, 'w+b')\n",
    "pickle.dump(val_embed, output)\n",
    "output.close()"
   ]
  },
  {
   "cell_type": "code",
   "execution_count": 41,
   "metadata": {},
   "outputs": [
    {
     "data": {
      "text/plain": [
       "(1214, 64)"
      ]
     },
     "execution_count": 41,
     "metadata": {},
     "output_type": "execute_result"
    }
   ],
   "source": [
    "val_embed.shape"
   ]
  },
  {
   "cell_type": "code",
   "execution_count": 43,
   "metadata": {},
   "outputs": [],
   "source": [
    "import umap\n",
    "import umap.plot\n",
    "\n",
    "valid_mapper = umap.UMAP().fit(val_embed)"
   ]
  },
  {
   "cell_type": "code",
   "execution_count": 42,
   "metadata": {},
   "outputs": [],
   "source": [
    "hover_data = pd.DataFrame({'index':np.arange(1214),\n",
    "                           'label':validation_labels})\n",
    "\n",
    "hover_data['item'] = hover_data.label.map(umap_map)"
   ]
  },
  {
   "cell_type": "code",
   "execution_count": 44,
   "metadata": {},
   "outputs": [
    {
     "data": {
      "text/plain": [
       "0         PF03945_Endotoxin_N_full_length_sequences.fasta\n",
       "1                                                negative\n",
       "2         PF12261_t_hemolysin_full_length_sequences.fasta\n",
       "3                                                negative\n",
       "4                                                negative\n",
       "                              ...                        \n",
       "1209                                             negative\n",
       "1210    PF12920_tcda_tcdb_pore_full_length_sequences.f...\n",
       "1211    PF12920_tcda_tcdb_pore_full_length_sequences.f...\n",
       "1212                                             negative\n",
       "1213                                             negative\n",
       "Name: item, Length: 1214, dtype: object"
      ]
     },
     "execution_count": 44,
     "metadata": {},
     "output_type": "execute_result"
    }
   ],
   "source": [
    "hover_data['item']"
   ]
  },
  {
   "cell_type": "code",
   "execution_count": 45,
   "metadata": {},
   "outputs": [
    {
     "data": {
      "text/html": [
       "\n",
       "    <div class=\"bk-root\">\n",
       "        <a href=\"https://bokeh.org\" target=\"_blank\" class=\"bk-logo bk-logo-small bk-logo-notebook\"></a>\n",
       "        <span id=\"1040\">Loading BokehJS ...</span>\n",
       "    </div>"
      ]
     },
     "metadata": {},
     "output_type": "display_data"
    },
    {
     "data": {
      "application/javascript": [
       "\n",
       "(function(root) {\n",
       "  function now() {\n",
       "    return new Date();\n",
       "  }\n",
       "\n",
       "  var force = true;\n",
       "\n",
       "  if (typeof root._bokeh_onload_callbacks === \"undefined\" || force === true) {\n",
       "    root._bokeh_onload_callbacks = [];\n",
       "    root._bokeh_is_loading = undefined;\n",
       "  }\n",
       "\n",
       "  var JS_MIME_TYPE = 'application/javascript';\n",
       "  var HTML_MIME_TYPE = 'text/html';\n",
       "  var EXEC_MIME_TYPE = 'application/vnd.bokehjs_exec.v0+json';\n",
       "  var CLASS_NAME = 'output_bokeh rendered_html';\n",
       "\n",
       "  /**\n",
       "   * Render data to the DOM node\n",
       "   */\n",
       "  function render(props, node) {\n",
       "    var script = document.createElement(\"script\");\n",
       "    node.appendChild(script);\n",
       "  }\n",
       "\n",
       "  /**\n",
       "   * Handle when an output is cleared or removed\n",
       "   */\n",
       "  function handleClearOutput(event, handle) {\n",
       "    var cell = handle.cell;\n",
       "\n",
       "    var id = cell.output_area._bokeh_element_id;\n",
       "    var server_id = cell.output_area._bokeh_server_id;\n",
       "    // Clean up Bokeh references\n",
       "    if (id != null && id in Bokeh.index) {\n",
       "      Bokeh.index[id].model.document.clear();\n",
       "      delete Bokeh.index[id];\n",
       "    }\n",
       "\n",
       "    if (server_id !== undefined) {\n",
       "      // Clean up Bokeh references\n",
       "      var cmd = \"from bokeh.io.state import curstate; print(curstate().uuid_to_server['\" + server_id + \"'].get_sessions()[0].document.roots[0]._id)\";\n",
       "      cell.notebook.kernel.execute(cmd, {\n",
       "        iopub: {\n",
       "          output: function(msg) {\n",
       "            var id = msg.content.text.trim();\n",
       "            if (id in Bokeh.index) {\n",
       "              Bokeh.index[id].model.document.clear();\n",
       "              delete Bokeh.index[id];\n",
       "            }\n",
       "          }\n",
       "        }\n",
       "      });\n",
       "      // Destroy server and session\n",
       "      var cmd = \"import bokeh.io.notebook as ion; ion.destroy_server('\" + server_id + \"')\";\n",
       "      cell.notebook.kernel.execute(cmd);\n",
       "    }\n",
       "  }\n",
       "\n",
       "  /**\n",
       "   * Handle when a new output is added\n",
       "   */\n",
       "  function handleAddOutput(event, handle) {\n",
       "    var output_area = handle.output_area;\n",
       "    var output = handle.output;\n",
       "\n",
       "    // limit handleAddOutput to display_data with EXEC_MIME_TYPE content only\n",
       "    if ((output.output_type != \"display_data\") || (!output.data.hasOwnProperty(EXEC_MIME_TYPE))) {\n",
       "      return\n",
       "    }\n",
       "\n",
       "    var toinsert = output_area.element.find(\".\" + CLASS_NAME.split(' ')[0]);\n",
       "\n",
       "    if (output.metadata[EXEC_MIME_TYPE][\"id\"] !== undefined) {\n",
       "      toinsert[toinsert.length - 1].firstChild.textContent = output.data[JS_MIME_TYPE];\n",
       "      // store reference to embed id on output_area\n",
       "      output_area._bokeh_element_id = output.metadata[EXEC_MIME_TYPE][\"id\"];\n",
       "    }\n",
       "    if (output.metadata[EXEC_MIME_TYPE][\"server_id\"] !== undefined) {\n",
       "      var bk_div = document.createElement(\"div\");\n",
       "      bk_div.innerHTML = output.data[HTML_MIME_TYPE];\n",
       "      var script_attrs = bk_div.children[0].attributes;\n",
       "      for (var i = 0; i < script_attrs.length; i++) {\n",
       "        toinsert[toinsert.length - 1].firstChild.setAttribute(script_attrs[i].name, script_attrs[i].value);\n",
       "        toinsert[toinsert.length - 1].firstChild.textContent = bk_div.children[0].textContent\n",
       "      }\n",
       "      // store reference to server id on output_area\n",
       "      output_area._bokeh_server_id = output.metadata[EXEC_MIME_TYPE][\"server_id\"];\n",
       "    }\n",
       "  }\n",
       "\n",
       "  function register_renderer(events, OutputArea) {\n",
       "\n",
       "    function append_mime(data, metadata, element) {\n",
       "      // create a DOM node to render to\n",
       "      var toinsert = this.create_output_subarea(\n",
       "        metadata,\n",
       "        CLASS_NAME,\n",
       "        EXEC_MIME_TYPE\n",
       "      );\n",
       "      this.keyboard_manager.register_events(toinsert);\n",
       "      // Render to node\n",
       "      var props = {data: data, metadata: metadata[EXEC_MIME_TYPE]};\n",
       "      render(props, toinsert[toinsert.length - 1]);\n",
       "      element.append(toinsert);\n",
       "      return toinsert\n",
       "    }\n",
       "\n",
       "    /* Handle when an output is cleared or removed */\n",
       "    events.on('clear_output.CodeCell', handleClearOutput);\n",
       "    events.on('delete.Cell', handleClearOutput);\n",
       "\n",
       "    /* Handle when a new output is added */\n",
       "    events.on('output_added.OutputArea', handleAddOutput);\n",
       "\n",
       "    /**\n",
       "     * Register the mime type and append_mime function with output_area\n",
       "     */\n",
       "    OutputArea.prototype.register_mime_type(EXEC_MIME_TYPE, append_mime, {\n",
       "      /* Is output safe? */\n",
       "      safe: true,\n",
       "      /* Index of renderer in `output_area.display_order` */\n",
       "      index: 0\n",
       "    });\n",
       "  }\n",
       "\n",
       "  // register the mime type if in Jupyter Notebook environment and previously unregistered\n",
       "  if (root.Jupyter !== undefined) {\n",
       "    var events = require('base/js/events');\n",
       "    var OutputArea = require('notebook/js/outputarea').OutputArea;\n",
       "\n",
       "    if (OutputArea.prototype.mime_types().indexOf(EXEC_MIME_TYPE) == -1) {\n",
       "      register_renderer(events, OutputArea);\n",
       "    }\n",
       "  }\n",
       "\n",
       "  \n",
       "  if (typeof (root._bokeh_timeout) === \"undefined\" || force === true) {\n",
       "    root._bokeh_timeout = Date.now() + 5000;\n",
       "    root._bokeh_failed_load = false;\n",
       "  }\n",
       "\n",
       "  var NB_LOAD_WARNING = {'data': {'text/html':\n",
       "     \"<div style='background-color: #fdd'>\\n\"+\n",
       "     \"<p>\\n\"+\n",
       "     \"BokehJS does not appear to have successfully loaded. If loading BokehJS from CDN, this \\n\"+\n",
       "     \"may be due to a slow or bad network connection. Possible fixes:\\n\"+\n",
       "     \"</p>\\n\"+\n",
       "     \"<ul>\\n\"+\n",
       "     \"<li>re-rerun `output_notebook()` to attempt to load from CDN again, or</li>\\n\"+\n",
       "     \"<li>use INLINE resources instead, as so:</li>\\n\"+\n",
       "     \"</ul>\\n\"+\n",
       "     \"<code>\\n\"+\n",
       "     \"from bokeh.resources import INLINE\\n\"+\n",
       "     \"output_notebook(resources=INLINE)\\n\"+\n",
       "     \"</code>\\n\"+\n",
       "     \"</div>\"}};\n",
       "\n",
       "  function display_loaded() {\n",
       "    var el = document.getElementById(\"1040\");\n",
       "    if (el != null) {\n",
       "      el.textContent = \"BokehJS is loading...\";\n",
       "    }\n",
       "    if (root.Bokeh !== undefined) {\n",
       "      if (el != null) {\n",
       "        el.textContent = \"BokehJS \" + root.Bokeh.version + \" successfully loaded.\";\n",
       "      }\n",
       "    } else if (Date.now() < root._bokeh_timeout) {\n",
       "      setTimeout(display_loaded, 100)\n",
       "    }\n",
       "  }\n",
       "\n",
       "\n",
       "  function run_callbacks() {\n",
       "    try {\n",
       "      root._bokeh_onload_callbacks.forEach(function(callback) {\n",
       "        if (callback != null)\n",
       "          callback();\n",
       "      });\n",
       "    } finally {\n",
       "      delete root._bokeh_onload_callbacks\n",
       "    }\n",
       "    console.debug(\"Bokeh: all callbacks have finished\");\n",
       "  }\n",
       "\n",
       "  function load_libs(css_urls, js_urls, callback) {\n",
       "    if (css_urls == null) css_urls = [];\n",
       "    if (js_urls == null) js_urls = [];\n",
       "\n",
       "    root._bokeh_onload_callbacks.push(callback);\n",
       "    if (root._bokeh_is_loading > 0) {\n",
       "      console.debug(\"Bokeh: BokehJS is being loaded, scheduling callback at\", now());\n",
       "      return null;\n",
       "    }\n",
       "    if (js_urls == null || js_urls.length === 0) {\n",
       "      run_callbacks();\n",
       "      return null;\n",
       "    }\n",
       "    console.debug(\"Bokeh: BokehJS not loaded, scheduling load and callback at\", now());\n",
       "    root._bokeh_is_loading = css_urls.length + js_urls.length;\n",
       "\n",
       "    function on_load() {\n",
       "      root._bokeh_is_loading--;\n",
       "      if (root._bokeh_is_loading === 0) {\n",
       "        console.debug(\"Bokeh: all BokehJS libraries/stylesheets loaded\");\n",
       "        run_callbacks()\n",
       "      }\n",
       "    }\n",
       "\n",
       "    function on_error() {\n",
       "      console.error(\"failed to load \" + url);\n",
       "    }\n",
       "\n",
       "    for (var i = 0; i < css_urls.length; i++) {\n",
       "      var url = css_urls[i];\n",
       "      const element = document.createElement(\"link\");\n",
       "      element.onload = on_load;\n",
       "      element.onerror = on_error;\n",
       "      element.rel = \"stylesheet\";\n",
       "      element.type = \"text/css\";\n",
       "      element.href = url;\n",
       "      console.debug(\"Bokeh: injecting link tag for BokehJS stylesheet: \", url);\n",
       "      document.body.appendChild(element);\n",
       "    }\n",
       "\n",
       "    const hashes = {\"https://cdn.bokeh.org/bokeh/release/bokeh-2.1.0.min.js\": \"YobFyzPeVUsFQydHkJGsJL1kyfHnWxOlPc3EwaV22TmBaeGoXHLWx5aRRVPS9xlE\", \"https://cdn.bokeh.org/bokeh/release/bokeh-widgets-2.1.0.min.js\": \"NuAg9+TcTQQqvQCTtkCneRrpkTiMhhfiq0KHiBzx8ECiKiLWXHN6i6ia3q7b3eHu\", \"https://cdn.bokeh.org/bokeh/release/bokeh-tables-2.1.0.min.js\": \"uMVqQc8JqHitD67bXTn9a06Mrk3EiHRaZ18EJENQenAKJ/KL71SakdXYomZQpGRr\", \"https://cdn.bokeh.org/bokeh/release/bokeh-gl-2.1.0.min.js\": \"u+eGuEXC8aw0VSCm2mH+b/tQEAitUOYiR1H6SuIVEdUmXsf4vN8m/SmXpmjb7U/X\"};\n",
       "\n",
       "    for (var i = 0; i < js_urls.length; i++) {\n",
       "      var url = js_urls[i];\n",
       "      var element = document.createElement('script');\n",
       "      element.onload = on_load;\n",
       "      element.onerror = on_error;\n",
       "      element.async = false;\n",
       "      element.src = url;\n",
       "      if (url in hashes) {\n",
       "        element.crossOrigin = \"anonymous\";\n",
       "        element.integrity = \"sha384-\" + hashes[url];\n",
       "      }\n",
       "      console.debug(\"Bokeh: injecting script tag for BokehJS library: \", url);\n",
       "      document.head.appendChild(element);\n",
       "    }\n",
       "  };\n",
       "\n",
       "  function inject_raw_css(css) {\n",
       "    const element = document.createElement(\"style\");\n",
       "    element.appendChild(document.createTextNode(css));\n",
       "    document.body.appendChild(element);\n",
       "  }\n",
       "\n",
       "  \n",
       "  var js_urls = [\"https://cdn.bokeh.org/bokeh/release/bokeh-2.1.0.min.js\", \"https://cdn.bokeh.org/bokeh/release/bokeh-widgets-2.1.0.min.js\", \"https://cdn.bokeh.org/bokeh/release/bokeh-tables-2.1.0.min.js\", \"https://cdn.bokeh.org/bokeh/release/bokeh-gl-2.1.0.min.js\", \"https://unpkg.com/@holoviz/panel@^0.9.5/dist/panel.min.js\"];\n",
       "  var css_urls = [];\n",
       "  \n",
       "\n",
       "  var inline_js = [\n",
       "    function(Bokeh) {\n",
       "      inject_raw_css(\"table.panel-df {\\n    margin-left: auto;\\n    margin-right: auto;\\n    border: none;\\n    border-collapse: collapse;\\n    border-spacing: 0;\\n    color: black;\\n    font-size: 12px;\\n    table-layout: fixed;\\n    width: 100%;\\n}\\n\\n.panel-df tr, th, td {\\n    text-align: right;\\n    vertical-align: middle;\\n    padding: 0.5em 0.5em !important;\\n    line-height: normal;\\n    white-space: normal;\\n    max-width: none;\\n    border: none;\\n}\\n\\n.panel-df tbody {\\n    display: table-row-group;\\n    vertical-align: middle;\\n    border-color: inherit;\\n}\\n\\n.panel-df tbody tr:nth-child(odd) {\\n    background: #f5f5f5;\\n}\\n\\n.panel-df thead {\\n    border-bottom: 1px solid black;\\n    vertical-align: bottom;\\n}\\n\\n.panel-df tr:hover {\\n    background: lightblue !important;\\n    cursor: pointer;\\n}\\n\");\n",
       "    },\n",
       "    function(Bokeh) {\n",
       "      inject_raw_css(\".json-formatter-row {\\n  font-family: monospace;\\n}\\n.json-formatter-row,\\n.json-formatter-row a,\\n.json-formatter-row a:hover {\\n  color: black;\\n  text-decoration: none;\\n}\\n.json-formatter-row .json-formatter-row {\\n  margin-left: 1rem;\\n}\\n.json-formatter-row .json-formatter-children.json-formatter-empty {\\n  opacity: 0.5;\\n  margin-left: 1rem;\\n}\\n.json-formatter-row .json-formatter-children.json-formatter-empty:after {\\n  display: none;\\n}\\n.json-formatter-row .json-formatter-children.json-formatter-empty.json-formatter-object:after {\\n  content: \\\"No properties\\\";\\n}\\n.json-formatter-row .json-formatter-children.json-formatter-empty.json-formatter-array:after {\\n  content: \\\"[]\\\";\\n}\\n.json-formatter-row .json-formatter-string,\\n.json-formatter-row .json-formatter-stringifiable {\\n  color: green;\\n  white-space: pre;\\n  word-wrap: break-word;\\n}\\n.json-formatter-row .json-formatter-number {\\n  color: blue;\\n}\\n.json-formatter-row .json-formatter-boolean {\\n  color: red;\\n}\\n.json-formatter-row .json-formatter-null {\\n  color: #855A00;\\n}\\n.json-formatter-row .json-formatter-undefined {\\n  color: #ca0b69;\\n}\\n.json-formatter-row .json-formatter-function {\\n  color: #FF20ED;\\n}\\n.json-formatter-row .json-formatter-date {\\n  background-color: rgba(0, 0, 0, 0.05);\\n}\\n.json-formatter-row .json-formatter-url {\\n  text-decoration: underline;\\n  color: blue;\\n  cursor: pointer;\\n}\\n.json-formatter-row .json-formatter-bracket {\\n  color: blue;\\n}\\n.json-formatter-row .json-formatter-key {\\n  color: #00008B;\\n  padding-right: 0.2rem;\\n}\\n.json-formatter-row .json-formatter-toggler-link {\\n  cursor: pointer;\\n}\\n.json-formatter-row .json-formatter-toggler {\\n  line-height: 1.2rem;\\n  font-size: 0.7rem;\\n  vertical-align: middle;\\n  opacity: 0.6;\\n  cursor: pointer;\\n  padding-right: 0.2rem;\\n}\\n.json-formatter-row .json-formatter-toggler:after {\\n  display: inline-block;\\n  transition: transform 100ms ease-in;\\n  content: \\\"\\\\25BA\\\";\\n}\\n.json-formatter-row > a > .json-formatter-preview-text {\\n  opacity: 0;\\n  transition: opacity 0.15s ease-in;\\n  font-style: italic;\\n}\\n.json-formatter-row:hover > a > .json-formatter-preview-text {\\n  opacity: 0.6;\\n}\\n.json-formatter-row.json-formatter-open > .json-formatter-toggler-link .json-formatter-toggler:after {\\n  transform: rotate(90deg);\\n}\\n.json-formatter-row.json-formatter-open > .json-formatter-children:after {\\n  display: inline-block;\\n}\\n.json-formatter-row.json-formatter-open > a > .json-formatter-preview-text {\\n  display: none;\\n}\\n.json-formatter-row.json-formatter-open.json-formatter-empty:after {\\n  display: block;\\n}\\n.json-formatter-dark.json-formatter-row {\\n  font-family: monospace;\\n}\\n.json-formatter-dark.json-formatter-row,\\n.json-formatter-dark.json-formatter-row a,\\n.json-formatter-dark.json-formatter-row a:hover {\\n  color: white;\\n  text-decoration: none;\\n}\\n.json-formatter-dark.json-formatter-row .json-formatter-row {\\n  margin-left: 1rem;\\n}\\n.json-formatter-dark.json-formatter-row .json-formatter-children.json-formatter-empty {\\n  opacity: 0.5;\\n  margin-left: 1rem;\\n}\\n.json-formatter-dark.json-formatter-row .json-formatter-children.json-formatter-empty:after {\\n  display: none;\\n}\\n.json-formatter-dark.json-formatter-row .json-formatter-children.json-formatter-empty.json-formatter-object:after {\\n  content: \\\"No properties\\\";\\n}\\n.json-formatter-dark.json-formatter-row .json-formatter-children.json-formatter-empty.json-formatter-array:after {\\n  content: \\\"[]\\\";\\n}\\n.json-formatter-dark.json-formatter-row .json-formatter-string,\\n.json-formatter-dark.json-formatter-row .json-formatter-stringifiable {\\n  color: #31F031;\\n  white-space: pre;\\n  word-wrap: break-word;\\n}\\n.json-formatter-dark.json-formatter-row .json-formatter-number {\\n  color: #66C2FF;\\n}\\n.json-formatter-dark.json-formatter-row .json-formatter-boolean {\\n  color: #EC4242;\\n}\\n.json-formatter-dark.json-formatter-row .json-formatter-null {\\n  color: #EEC97D;\\n}\\n.json-formatter-dark.json-formatter-row .json-formatter-undefined {\\n  color: #ef8fbe;\\n}\\n.json-formatter-dark.json-formatter-row .json-formatter-function {\\n  color: #FD48CB;\\n}\\n.json-formatter-dark.json-formatter-row .json-formatter-date {\\n  background-color: rgba(255, 255, 255, 0.05);\\n}\\n.json-formatter-dark.json-formatter-row .json-formatter-url {\\n  text-decoration: underline;\\n  color: #027BFF;\\n  cursor: pointer;\\n}\\n.json-formatter-dark.json-formatter-row .json-formatter-bracket {\\n  color: #9494FF;\\n}\\n.json-formatter-dark.json-formatter-row .json-formatter-key {\\n  color: #23A0DB;\\n  padding-right: 0.2rem;\\n}\\n.json-formatter-dark.json-formatter-row .json-formatter-toggler-link {\\n  cursor: pointer;\\n}\\n.json-formatter-dark.json-formatter-row .json-formatter-toggler {\\n  line-height: 1.2rem;\\n  font-size: 0.7rem;\\n  vertical-align: middle;\\n  opacity: 0.6;\\n  cursor: pointer;\\n  padding-right: 0.2rem;\\n}\\n.json-formatter-dark.json-formatter-row .json-formatter-toggler:after {\\n  display: inline-block;\\n  transition: transform 100ms ease-in;\\n  content: \\\"\\\\25BA\\\";\\n}\\n.json-formatter-dark.json-formatter-row > a > .json-formatter-preview-text {\\n  opacity: 0;\\n  transition: opacity 0.15s ease-in;\\n  font-style: italic;\\n}\\n.json-formatter-dark.json-formatter-row:hover > a > .json-formatter-preview-text {\\n  opacity: 0.6;\\n}\\n.json-formatter-dark.json-formatter-row.json-formatter-open > .json-formatter-toggler-link .json-formatter-toggler:after {\\n  transform: rotate(90deg);\\n}\\n.json-formatter-dark.json-formatter-row.json-formatter-open > .json-formatter-children:after {\\n  display: inline-block;\\n}\\n.json-formatter-dark.json-formatter-row.json-formatter-open > a > .json-formatter-preview-text {\\n  display: none;\\n}\\n.json-formatter-dark.json-formatter-row.json-formatter-open.json-formatter-empty:after {\\n  display: block;\\n}\\n\");\n",
       "    },\n",
       "    function(Bokeh) {\n",
       "      inject_raw_css(\".codehilite .hll { background-color: #ffffcc }\\n.codehilite  { background: #f8f8f8; }\\n.codehilite .c { color: #408080; font-style: italic } /* Comment */\\n.codehilite .err { border: 1px solid #FF0000 } /* Error */\\n.codehilite .k { color: #008000; font-weight: bold } /* Keyword */\\n.codehilite .o { color: #666666 } /* Operator */\\n.codehilite .ch { color: #408080; font-style: italic } /* Comment.Hashbang */\\n.codehilite .cm { color: #408080; font-style: italic } /* Comment.Multiline */\\n.codehilite .cp { color: #BC7A00 } /* Comment.Preproc */\\n.codehilite .cpf { color: #408080; font-style: italic } /* Comment.PreprocFile */\\n.codehilite .c1 { color: #408080; font-style: italic } /* Comment.Single */\\n.codehilite .cs { color: #408080; font-style: italic } /* Comment.Special */\\n.codehilite .gd { color: #A00000 } /* Generic.Deleted */\\n.codehilite .ge { font-style: italic } /* Generic.Emph */\\n.codehilite .gr { color: #FF0000 } /* Generic.Error */\\n.codehilite .gh { color: #000080; font-weight: bold } /* Generic.Heading */\\n.codehilite .gi { color: #00A000 } /* Generic.Inserted */\\n.codehilite .go { color: #888888 } /* Generic.Output */\\n.codehilite .gp { color: #000080; font-weight: bold } /* Generic.Prompt */\\n.codehilite .gs { font-weight: bold } /* Generic.Strong */\\n.codehilite .gu { color: #800080; font-weight: bold } /* Generic.Subheading */\\n.codehilite .gt { color: #0044DD } /* Generic.Traceback */\\n.codehilite .kc { color: #008000; font-weight: bold } /* Keyword.Constant */\\n.codehilite .kd { color: #008000; font-weight: bold } /* Keyword.Declaration */\\n.codehilite .kn { color: #008000; font-weight: bold } /* Keyword.Namespace */\\n.codehilite .kp { color: #008000 } /* Keyword.Pseudo */\\n.codehilite .kr { color: #008000; font-weight: bold } /* Keyword.Reserved */\\n.codehilite .kt { color: #B00040 } /* Keyword.Type */\\n.codehilite .m { color: #666666 } /* Literal.Number */\\n.codehilite .s { color: #BA2121 } /* Literal.String */\\n.codehilite .na { color: #7D9029 } /* Name.Attribute */\\n.codehilite .nb { color: #008000 } /* Name.Builtin */\\n.codehilite .nc { color: #0000FF; font-weight: bold } /* Name.Class */\\n.codehilite .no { color: #880000 } /* Name.Constant */\\n.codehilite .nd { color: #AA22FF } /* Name.Decorator */\\n.codehilite .ni { color: #999999; font-weight: bold } /* Name.Entity */\\n.codehilite .ne { color: #D2413A; font-weight: bold } /* Name.Exception */\\n.codehilite .nf { color: #0000FF } /* Name.Function */\\n.codehilite .nl { color: #A0A000 } /* Name.Label */\\n.codehilite .nn { color: #0000FF; font-weight: bold } /* Name.Namespace */\\n.codehilite .nt { color: #008000; font-weight: bold } /* Name.Tag */\\n.codehilite .nv { color: #19177C } /* Name.Variable */\\n.codehilite .ow { color: #AA22FF; font-weight: bold } /* Operator.Word */\\n.codehilite .w { color: #bbbbbb } /* Text.Whitespace */\\n.codehilite .mb { color: #666666 } /* Literal.Number.Bin */\\n.codehilite .mf { color: #666666 } /* Literal.Number.Float */\\n.codehilite .mh { color: #666666 } /* Literal.Number.Hex */\\n.codehilite .mi { color: #666666 } /* Literal.Number.Integer */\\n.codehilite .mo { color: #666666 } /* Literal.Number.Oct */\\n.codehilite .sa { color: #BA2121 } /* Literal.String.Affix */\\n.codehilite .sb { color: #BA2121 } /* Literal.String.Backtick */\\n.codehilite .sc { color: #BA2121 } /* Literal.String.Char */\\n.codehilite .dl { color: #BA2121 } /* Literal.String.Delimiter */\\n.codehilite .sd { color: #BA2121; font-style: italic } /* Literal.String.Doc */\\n.codehilite .s2 { color: #BA2121 } /* Literal.String.Double */\\n.codehilite .se { color: #BB6622; font-weight: bold } /* Literal.String.Escape */\\n.codehilite .sh { color: #BA2121 } /* Literal.String.Heredoc */\\n.codehilite .si { color: #BB6688; font-weight: bold } /* Literal.String.Interpol */\\n.codehilite .sx { color: #008000 } /* Literal.String.Other */\\n.codehilite .sr { color: #BB6688 } /* Literal.String.Regex */\\n.codehilite .s1 { color: #BA2121 } /* Literal.String.Single */\\n.codehilite .ss { color: #19177C } /* Literal.String.Symbol */\\n.codehilite .bp { color: #008000 } /* Name.Builtin.Pseudo */\\n.codehilite .fm { color: #0000FF } /* Name.Function.Magic */\\n.codehilite .vc { color: #19177C } /* Name.Variable.Class */\\n.codehilite .vg { color: #19177C } /* Name.Variable.Global */\\n.codehilite .vi { color: #19177C } /* Name.Variable.Instance */\\n.codehilite .vm { color: #19177C } /* Name.Variable.Magic */\\n.codehilite .il { color: #666666 } /* Literal.Number.Integer.Long */\\n\\n.markdown h1 { margin-block-start: 0.34em }\\n.markdown h2 { margin-block-start: 0.42em }\\n.markdown h3 { margin-block-start: 0.5em }\\n.markdown h4 { margin-block-start: 0.67em }\\n.markdown h5 { margin-block-start: 0.84em }\\n.markdown h6 { margin-block-start: 1.17em }\\n.markdown ul { padding-inline-start: 2em }\\n.markdown ol { padding-inline-start: 2em }\\n.markdown strong { font-weight: 600 }\\n.markdown a { color: -webkit-link }\\n.markdown a { color: -moz-hyperlinkText }\\n\");\n",
       "    },\n",
       "    function(Bokeh) {\n",
       "      inject_raw_css(\".widget-box {\\n\\tmin-height: 20px;\\n\\tbackground-color: #f5f5f5;\\n\\tborder: 1px solid #e3e3e3 !important;\\n\\tborder-radius: 4px;\\n\\t-webkit-box-shadow: inset 0 1px 1px rgba(0,0,0,.05);\\n\\tbox-shadow: inset 0 1px 1px rgba(0,0,0,.05);\\n\\toverflow-x: hidden;\\n\\toverflow-y: hidden;\\n}\\n\\n.scrollable {\\n  overflow: scroll;\\n}\\n\\nprogress {\\n\\tappearance: none;\\n\\t-moz-appearance: none;\\n\\t-webkit-appearance: none;\\n\\n\\tborder: none;\\n\\theight: 20px;\\n\\tbackground-color: whiteSmoke;\\n\\tborder-radius: 3px;\\n\\tbox-shadow: 0 2px 3px rgba(0,0,0,.5) inset;\\n\\tcolor: royalblue;\\n\\tposition: relative;\\n\\tmargin: 0 0 1.5em;\\n}\\n\\nprogress[value]::-webkit-progress-bar {\\n\\tbackground-color: whiteSmoke;\\n\\tborder-radius: 3px;\\n\\tbox-shadow: 0 2px 3px rgba(0,0,0,.5) inset;\\n}\\n\\nprogress[value]::-webkit-progress-value {\\n\\tposition: relative;\\n\\n\\tbackground-size: 35px 20px, 100% 100%, 100% 100%;\\n\\tborder-radius:3px;\\n}\\n\\nprogress.active:not([value])::before {\\n\\tbackground-position: 10%;\\n\\tanimation-name: stripes;\\n\\tanimation-duration: 3s;\\n\\tanimation-timing-function: linear;\\n\\tanimation-iteration-count: infinite;\\n}\\n\\nprogress[value]::-moz-progress-bar {\\n\\tbackground-size: 35px 20px, 100% 100%, 100% 100%;\\n\\tborder-radius:3px;\\n}\\n\\nprogress:not([value])::-moz-progress-bar {\\n\\tborder-radius:3px;\\n\\tbackground:\\n\\tlinear-gradient(-45deg, transparent 33%, rgba(0, 0, 0, 0.2) 33%, rgba(0, 0, 0, 0.2) 66%, transparent 66%) left/2.5em 1.5em;\\n\\n}\\n\\nprogress.active:not([value])::-moz-progress-bar {\\n\\tbackground-position: 10%;\\n\\tanimation-name: stripes;\\n\\tanimation-duration: 3s;\\n\\tanimation-timing-function: linear;\\n\\tanimation-iteration-count: infinite;\\n}\\n\\nprogress.active:not([value])::-webkit-progress-bar {\\n\\tbackground-position: 10%;\\n\\tanimation-name: stripes;\\n\\tanimation-duration: 3s;\\n\\tanimation-timing-function: linear;\\n\\tanimation-iteration-count: infinite;\\n}\\n\\nprogress.primary[value]::-webkit-progress-value { background-color: #007bff; }\\nprogress.primary:not([value])::before { background-color: #007bff; }\\nprogress.primary:not([value])::-webkit-progress-bar { background-color: #007bff; }\\nprogress.primary::-moz-progress-bar { background-color: #007bff; }\\n\\nprogress.secondary[value]::-webkit-progress-value { background-color: #6c757d; }\\nprogress.secondary:not([value])::before { background-color: #6c757d; }\\nprogress.secondary:not([value])::-webkit-progress-bar { background-color: #6c757d; }\\nprogress.secondary::-moz-progress-bar { background-color: #6c757d; }\\n\\nprogress.success[value]::-webkit-progress-value { background-color: #28a745; }\\nprogress.success:not([value])::before { background-color: #28a745; }\\nprogress.success:not([value])::-webkit-progress-bar { background-color: #28a745; }\\nprogress.success::-moz-progress-bar { background-color: #28a745; }\\n\\nprogress.danger[value]::-webkit-progress-value { background-color: #dc3545; }\\nprogress.danger:not([value])::before { background-color: #dc3545; }\\nprogress.danger:not([value])::-webkit-progress-bar { background-color: #dc3545; }\\nprogress.danger::-moz-progress-bar { background-color: #dc3545; }\\n\\nprogress.warning[value]::-webkit-progress-value { background-color: #ffc107; }\\nprogress.warning:not([value])::before { background-color: #ffc107; }\\nprogress.warning:not([value])::-webkit-progress-bar { background-color: #ffc107; }\\nprogress.warning::-moz-progress-bar { background-color: #ffc107; }\\n\\nprogress.info[value]::-webkit-progress-value { background-color: #17a2b8; }\\nprogress.info:not([value])::before { background-color: #17a2b8; }\\nprogress.info:not([value])::-webkit-progress-bar { background-color: #17a2b8; }\\nprogress.info::-moz-progress-bar { background-color: #17a2b8; }\\n\\nprogress.light[value]::-webkit-progress-value { background-color: #f8f9fa; }\\nprogress.light:not([value])::before { background-color: #f8f9fa; }\\nprogress.light:not([value])::-webkit-progress-bar { background-color: #f8f9fa; }\\nprogress.light::-moz-progress-bar { background-color: #f8f9fa; }\\n\\nprogress.dark[value]::-webkit-progress-value { background-color: #343a40; }\\nprogress.dark:not([value])::-webkit-progress-bar { background-color: #343a40; }\\nprogress.dark:not([value])::before { background-color: #343a40; }\\nprogress.dark::-moz-progress-bar { background-color: #343a40; }\\n\\nprogress:not([value])::-webkit-progress-bar {\\n\\tborder-radius: 3px;\\n\\tbackground:\\n\\tlinear-gradient(-45deg, transparent 33%, rgba(0, 0, 0, 0.2) 33%, rgba(0, 0, 0, 0.2) 66%, transparent 66%) left/2.5em 1.5em;\\n}\\nprogress:not([value])::before {\\n\\tcontent:\\\" \\\";\\n\\tposition:absolute;\\n\\theight: 20px;\\n\\ttop:0;\\n\\tleft:0;\\n\\tright:0;\\n\\tbottom:0;\\n\\tborder-radius: 3px;\\n\\tbackground:\\n\\tlinear-gradient(-45deg, transparent 33%, rgba(0, 0, 0, 0.2) 33%, rgba(0, 0, 0, 0.2) 66%, transparent 66%) left/2.5em 1.5em;\\n}\\n\\n@keyframes stripes {\\n  from {background-position: 0%}\\n  to {background-position: 100%}\\n}\");\n",
       "    },\n",
       "    function(Bokeh) {\n",
       "      Bokeh.set_log_level(\"info\");\n",
       "    },\n",
       "    function(Bokeh) {\n",
       "    \n",
       "    \n",
       "    }\n",
       "  ];\n",
       "\n",
       "  function run_inline_js() {\n",
       "    \n",
       "    if (root.Bokeh !== undefined || force === true) {\n",
       "      \n",
       "    for (var i = 0; i < inline_js.length; i++) {\n",
       "      inline_js[i].call(root, root.Bokeh);\n",
       "    }\n",
       "    if (force === true) {\n",
       "        display_loaded();\n",
       "      }} else if (Date.now() < root._bokeh_timeout) {\n",
       "      setTimeout(run_inline_js, 100);\n",
       "    } else if (!root._bokeh_failed_load) {\n",
       "      console.log(\"Bokeh: BokehJS failed to load within specified timeout.\");\n",
       "      root._bokeh_failed_load = true;\n",
       "    } else if (force !== true) {\n",
       "      var cell = $(document.getElementById(\"1040\")).parents('.cell').data().cell;\n",
       "      cell.output_area.append_execute_result(NB_LOAD_WARNING)\n",
       "    }\n",
       "\n",
       "  }\n",
       "\n",
       "  if (root._bokeh_is_loading === 0) {\n",
       "    console.debug(\"Bokeh: BokehJS loaded, going straight to plotting\");\n",
       "    run_inline_js();\n",
       "  } else {\n",
       "    load_libs(css_urls, js_urls, function() {\n",
       "      console.debug(\"Bokeh: BokehJS plotting callback run at\", now());\n",
       "      run_inline_js();\n",
       "    });\n",
       "  }\n",
       "}(window));"
      ],
      "application/vnd.bokehjs_load.v0+json": "\n(function(root) {\n  function now() {\n    return new Date();\n  }\n\n  var force = true;\n\n  if (typeof root._bokeh_onload_callbacks === \"undefined\" || force === true) {\n    root._bokeh_onload_callbacks = [];\n    root._bokeh_is_loading = undefined;\n  }\n\n  \n\n  \n  if (typeof (root._bokeh_timeout) === \"undefined\" || force === true) {\n    root._bokeh_timeout = Date.now() + 5000;\n    root._bokeh_failed_load = false;\n  }\n\n  var NB_LOAD_WARNING = {'data': {'text/html':\n     \"<div style='background-color: #fdd'>\\n\"+\n     \"<p>\\n\"+\n     \"BokehJS does not appear to have successfully loaded. If loading BokehJS from CDN, this \\n\"+\n     \"may be due to a slow or bad network connection. Possible fixes:\\n\"+\n     \"</p>\\n\"+\n     \"<ul>\\n\"+\n     \"<li>re-rerun `output_notebook()` to attempt to load from CDN again, or</li>\\n\"+\n     \"<li>use INLINE resources instead, as so:</li>\\n\"+\n     \"</ul>\\n\"+\n     \"<code>\\n\"+\n     \"from bokeh.resources import INLINE\\n\"+\n     \"output_notebook(resources=INLINE)\\n\"+\n     \"</code>\\n\"+\n     \"</div>\"}};\n\n  function display_loaded() {\n    var el = document.getElementById(\"1040\");\n    if (el != null) {\n      el.textContent = \"BokehJS is loading...\";\n    }\n    if (root.Bokeh !== undefined) {\n      if (el != null) {\n        el.textContent = \"BokehJS \" + root.Bokeh.version + \" successfully loaded.\";\n      }\n    } else if (Date.now() < root._bokeh_timeout) {\n      setTimeout(display_loaded, 100)\n    }\n  }\n\n\n  function run_callbacks() {\n    try {\n      root._bokeh_onload_callbacks.forEach(function(callback) {\n        if (callback != null)\n          callback();\n      });\n    } finally {\n      delete root._bokeh_onload_callbacks\n    }\n    console.debug(\"Bokeh: all callbacks have finished\");\n  }\n\n  function load_libs(css_urls, js_urls, callback) {\n    if (css_urls == null) css_urls = [];\n    if (js_urls == null) js_urls = [];\n\n    root._bokeh_onload_callbacks.push(callback);\n    if (root._bokeh_is_loading > 0) {\n      console.debug(\"Bokeh: BokehJS is being loaded, scheduling callback at\", now());\n      return null;\n    }\n    if (js_urls == null || js_urls.length === 0) {\n      run_callbacks();\n      return null;\n    }\n    console.debug(\"Bokeh: BokehJS not loaded, scheduling load and callback at\", now());\n    root._bokeh_is_loading = css_urls.length + js_urls.length;\n\n    function on_load() {\n      root._bokeh_is_loading--;\n      if (root._bokeh_is_loading === 0) {\n        console.debug(\"Bokeh: all BokehJS libraries/stylesheets loaded\");\n        run_callbacks()\n      }\n    }\n\n    function on_error() {\n      console.error(\"failed to load \" + url);\n    }\n\n    for (var i = 0; i < css_urls.length; i++) {\n      var url = css_urls[i];\n      const element = document.createElement(\"link\");\n      element.onload = on_load;\n      element.onerror = on_error;\n      element.rel = \"stylesheet\";\n      element.type = \"text/css\";\n      element.href = url;\n      console.debug(\"Bokeh: injecting link tag for BokehJS stylesheet: \", url);\n      document.body.appendChild(element);\n    }\n\n    const hashes = {\"https://cdn.bokeh.org/bokeh/release/bokeh-2.1.0.min.js\": \"YobFyzPeVUsFQydHkJGsJL1kyfHnWxOlPc3EwaV22TmBaeGoXHLWx5aRRVPS9xlE\", \"https://cdn.bokeh.org/bokeh/release/bokeh-widgets-2.1.0.min.js\": \"NuAg9+TcTQQqvQCTtkCneRrpkTiMhhfiq0KHiBzx8ECiKiLWXHN6i6ia3q7b3eHu\", \"https://cdn.bokeh.org/bokeh/release/bokeh-tables-2.1.0.min.js\": \"uMVqQc8JqHitD67bXTn9a06Mrk3EiHRaZ18EJENQenAKJ/KL71SakdXYomZQpGRr\", \"https://cdn.bokeh.org/bokeh/release/bokeh-gl-2.1.0.min.js\": \"u+eGuEXC8aw0VSCm2mH+b/tQEAitUOYiR1H6SuIVEdUmXsf4vN8m/SmXpmjb7U/X\"};\n\n    for (var i = 0; i < js_urls.length; i++) {\n      var url = js_urls[i];\n      var element = document.createElement('script');\n      element.onload = on_load;\n      element.onerror = on_error;\n      element.async = false;\n      element.src = url;\n      if (url in hashes) {\n        element.crossOrigin = \"anonymous\";\n        element.integrity = \"sha384-\" + hashes[url];\n      }\n      console.debug(\"Bokeh: injecting script tag for BokehJS library: \", url);\n      document.head.appendChild(element);\n    }\n  };\n\n  function inject_raw_css(css) {\n    const element = document.createElement(\"style\");\n    element.appendChild(document.createTextNode(css));\n    document.body.appendChild(element);\n  }\n\n  \n  var js_urls = [\"https://cdn.bokeh.org/bokeh/release/bokeh-2.1.0.min.js\", \"https://cdn.bokeh.org/bokeh/release/bokeh-widgets-2.1.0.min.js\", \"https://cdn.bokeh.org/bokeh/release/bokeh-tables-2.1.0.min.js\", \"https://cdn.bokeh.org/bokeh/release/bokeh-gl-2.1.0.min.js\", \"https://unpkg.com/@holoviz/panel@^0.9.5/dist/panel.min.js\"];\n  var css_urls = [];\n  \n\n  var inline_js = [\n    function(Bokeh) {\n      inject_raw_css(\"table.panel-df {\\n    margin-left: auto;\\n    margin-right: auto;\\n    border: none;\\n    border-collapse: collapse;\\n    border-spacing: 0;\\n    color: black;\\n    font-size: 12px;\\n    table-layout: fixed;\\n    width: 100%;\\n}\\n\\n.panel-df tr, th, td {\\n    text-align: right;\\n    vertical-align: middle;\\n    padding: 0.5em 0.5em !important;\\n    line-height: normal;\\n    white-space: normal;\\n    max-width: none;\\n    border: none;\\n}\\n\\n.panel-df tbody {\\n    display: table-row-group;\\n    vertical-align: middle;\\n    border-color: inherit;\\n}\\n\\n.panel-df tbody tr:nth-child(odd) {\\n    background: #f5f5f5;\\n}\\n\\n.panel-df thead {\\n    border-bottom: 1px solid black;\\n    vertical-align: bottom;\\n}\\n\\n.panel-df tr:hover {\\n    background: lightblue !important;\\n    cursor: pointer;\\n}\\n\");\n    },\n    function(Bokeh) {\n      inject_raw_css(\".json-formatter-row {\\n  font-family: monospace;\\n}\\n.json-formatter-row,\\n.json-formatter-row a,\\n.json-formatter-row a:hover {\\n  color: black;\\n  text-decoration: none;\\n}\\n.json-formatter-row .json-formatter-row {\\n  margin-left: 1rem;\\n}\\n.json-formatter-row .json-formatter-children.json-formatter-empty {\\n  opacity: 0.5;\\n  margin-left: 1rem;\\n}\\n.json-formatter-row .json-formatter-children.json-formatter-empty:after {\\n  display: none;\\n}\\n.json-formatter-row .json-formatter-children.json-formatter-empty.json-formatter-object:after {\\n  content: \\\"No properties\\\";\\n}\\n.json-formatter-row .json-formatter-children.json-formatter-empty.json-formatter-array:after {\\n  content: \\\"[]\\\";\\n}\\n.json-formatter-row .json-formatter-string,\\n.json-formatter-row .json-formatter-stringifiable {\\n  color: green;\\n  white-space: pre;\\n  word-wrap: break-word;\\n}\\n.json-formatter-row .json-formatter-number {\\n  color: blue;\\n}\\n.json-formatter-row .json-formatter-boolean {\\n  color: red;\\n}\\n.json-formatter-row .json-formatter-null {\\n  color: #855A00;\\n}\\n.json-formatter-row .json-formatter-undefined {\\n  color: #ca0b69;\\n}\\n.json-formatter-row .json-formatter-function {\\n  color: #FF20ED;\\n}\\n.json-formatter-row .json-formatter-date {\\n  background-color: rgba(0, 0, 0, 0.05);\\n}\\n.json-formatter-row .json-formatter-url {\\n  text-decoration: underline;\\n  color: blue;\\n  cursor: pointer;\\n}\\n.json-formatter-row .json-formatter-bracket {\\n  color: blue;\\n}\\n.json-formatter-row .json-formatter-key {\\n  color: #00008B;\\n  padding-right: 0.2rem;\\n}\\n.json-formatter-row .json-formatter-toggler-link {\\n  cursor: pointer;\\n}\\n.json-formatter-row .json-formatter-toggler {\\n  line-height: 1.2rem;\\n  font-size: 0.7rem;\\n  vertical-align: middle;\\n  opacity: 0.6;\\n  cursor: pointer;\\n  padding-right: 0.2rem;\\n}\\n.json-formatter-row .json-formatter-toggler:after {\\n  display: inline-block;\\n  transition: transform 100ms ease-in;\\n  content: \\\"\\\\25BA\\\";\\n}\\n.json-formatter-row > a > .json-formatter-preview-text {\\n  opacity: 0;\\n  transition: opacity 0.15s ease-in;\\n  font-style: italic;\\n}\\n.json-formatter-row:hover > a > .json-formatter-preview-text {\\n  opacity: 0.6;\\n}\\n.json-formatter-row.json-formatter-open > .json-formatter-toggler-link .json-formatter-toggler:after {\\n  transform: rotate(90deg);\\n}\\n.json-formatter-row.json-formatter-open > .json-formatter-children:after {\\n  display: inline-block;\\n}\\n.json-formatter-row.json-formatter-open > a > .json-formatter-preview-text {\\n  display: none;\\n}\\n.json-formatter-row.json-formatter-open.json-formatter-empty:after {\\n  display: block;\\n}\\n.json-formatter-dark.json-formatter-row {\\n  font-family: monospace;\\n}\\n.json-formatter-dark.json-formatter-row,\\n.json-formatter-dark.json-formatter-row a,\\n.json-formatter-dark.json-formatter-row a:hover {\\n  color: white;\\n  text-decoration: none;\\n}\\n.json-formatter-dark.json-formatter-row .json-formatter-row {\\n  margin-left: 1rem;\\n}\\n.json-formatter-dark.json-formatter-row .json-formatter-children.json-formatter-empty {\\n  opacity: 0.5;\\n  margin-left: 1rem;\\n}\\n.json-formatter-dark.json-formatter-row .json-formatter-children.json-formatter-empty:after {\\n  display: none;\\n}\\n.json-formatter-dark.json-formatter-row .json-formatter-children.json-formatter-empty.json-formatter-object:after {\\n  content: \\\"No properties\\\";\\n}\\n.json-formatter-dark.json-formatter-row .json-formatter-children.json-formatter-empty.json-formatter-array:after {\\n  content: \\\"[]\\\";\\n}\\n.json-formatter-dark.json-formatter-row .json-formatter-string,\\n.json-formatter-dark.json-formatter-row .json-formatter-stringifiable {\\n  color: #31F031;\\n  white-space: pre;\\n  word-wrap: break-word;\\n}\\n.json-formatter-dark.json-formatter-row .json-formatter-number {\\n  color: #66C2FF;\\n}\\n.json-formatter-dark.json-formatter-row .json-formatter-boolean {\\n  color: #EC4242;\\n}\\n.json-formatter-dark.json-formatter-row .json-formatter-null {\\n  color: #EEC97D;\\n}\\n.json-formatter-dark.json-formatter-row .json-formatter-undefined {\\n  color: #ef8fbe;\\n}\\n.json-formatter-dark.json-formatter-row .json-formatter-function {\\n  color: #FD48CB;\\n}\\n.json-formatter-dark.json-formatter-row .json-formatter-date {\\n  background-color: rgba(255, 255, 255, 0.05);\\n}\\n.json-formatter-dark.json-formatter-row .json-formatter-url {\\n  text-decoration: underline;\\n  color: #027BFF;\\n  cursor: pointer;\\n}\\n.json-formatter-dark.json-formatter-row .json-formatter-bracket {\\n  color: #9494FF;\\n}\\n.json-formatter-dark.json-formatter-row .json-formatter-key {\\n  color: #23A0DB;\\n  padding-right: 0.2rem;\\n}\\n.json-formatter-dark.json-formatter-row .json-formatter-toggler-link {\\n  cursor: pointer;\\n}\\n.json-formatter-dark.json-formatter-row .json-formatter-toggler {\\n  line-height: 1.2rem;\\n  font-size: 0.7rem;\\n  vertical-align: middle;\\n  opacity: 0.6;\\n  cursor: pointer;\\n  padding-right: 0.2rem;\\n}\\n.json-formatter-dark.json-formatter-row .json-formatter-toggler:after {\\n  display: inline-block;\\n  transition: transform 100ms ease-in;\\n  content: \\\"\\\\25BA\\\";\\n}\\n.json-formatter-dark.json-formatter-row > a > .json-formatter-preview-text {\\n  opacity: 0;\\n  transition: opacity 0.15s ease-in;\\n  font-style: italic;\\n}\\n.json-formatter-dark.json-formatter-row:hover > a > .json-formatter-preview-text {\\n  opacity: 0.6;\\n}\\n.json-formatter-dark.json-formatter-row.json-formatter-open > .json-formatter-toggler-link .json-formatter-toggler:after {\\n  transform: rotate(90deg);\\n}\\n.json-formatter-dark.json-formatter-row.json-formatter-open > .json-formatter-children:after {\\n  display: inline-block;\\n}\\n.json-formatter-dark.json-formatter-row.json-formatter-open > a > .json-formatter-preview-text {\\n  display: none;\\n}\\n.json-formatter-dark.json-formatter-row.json-formatter-open.json-formatter-empty:after {\\n  display: block;\\n}\\n\");\n    },\n    function(Bokeh) {\n      inject_raw_css(\".codehilite .hll { background-color: #ffffcc }\\n.codehilite  { background: #f8f8f8; }\\n.codehilite .c { color: #408080; font-style: italic } /* Comment */\\n.codehilite .err { border: 1px solid #FF0000 } /* Error */\\n.codehilite .k { color: #008000; font-weight: bold } /* Keyword */\\n.codehilite .o { color: #666666 } /* Operator */\\n.codehilite .ch { color: #408080; font-style: italic } /* Comment.Hashbang */\\n.codehilite .cm { color: #408080; font-style: italic } /* Comment.Multiline */\\n.codehilite .cp { color: #BC7A00 } /* Comment.Preproc */\\n.codehilite .cpf { color: #408080; font-style: italic } /* Comment.PreprocFile */\\n.codehilite .c1 { color: #408080; font-style: italic } /* Comment.Single */\\n.codehilite .cs { color: #408080; font-style: italic } /* Comment.Special */\\n.codehilite .gd { color: #A00000 } /* Generic.Deleted */\\n.codehilite .ge { font-style: italic } /* Generic.Emph */\\n.codehilite .gr { color: #FF0000 } /* Generic.Error */\\n.codehilite .gh { color: #000080; font-weight: bold } /* Generic.Heading */\\n.codehilite .gi { color: #00A000 } /* Generic.Inserted */\\n.codehilite .go { color: #888888 } /* Generic.Output */\\n.codehilite .gp { color: #000080; font-weight: bold } /* Generic.Prompt */\\n.codehilite .gs { font-weight: bold } /* Generic.Strong */\\n.codehilite .gu { color: #800080; font-weight: bold } /* Generic.Subheading */\\n.codehilite .gt { color: #0044DD } /* Generic.Traceback */\\n.codehilite .kc { color: #008000; font-weight: bold } /* Keyword.Constant */\\n.codehilite .kd { color: #008000; font-weight: bold } /* Keyword.Declaration */\\n.codehilite .kn { color: #008000; font-weight: bold } /* Keyword.Namespace */\\n.codehilite .kp { color: #008000 } /* Keyword.Pseudo */\\n.codehilite .kr { color: #008000; font-weight: bold } /* Keyword.Reserved */\\n.codehilite .kt { color: #B00040 } /* Keyword.Type */\\n.codehilite .m { color: #666666 } /* Literal.Number */\\n.codehilite .s { color: #BA2121 } /* Literal.String */\\n.codehilite .na { color: #7D9029 } /* Name.Attribute */\\n.codehilite .nb { color: #008000 } /* Name.Builtin */\\n.codehilite .nc { color: #0000FF; font-weight: bold } /* Name.Class */\\n.codehilite .no { color: #880000 } /* Name.Constant */\\n.codehilite .nd { color: #AA22FF } /* Name.Decorator */\\n.codehilite .ni { color: #999999; font-weight: bold } /* Name.Entity */\\n.codehilite .ne { color: #D2413A; font-weight: bold } /* Name.Exception */\\n.codehilite .nf { color: #0000FF } /* Name.Function */\\n.codehilite .nl { color: #A0A000 } /* Name.Label */\\n.codehilite .nn { color: #0000FF; font-weight: bold } /* Name.Namespace */\\n.codehilite .nt { color: #008000; font-weight: bold } /* Name.Tag */\\n.codehilite .nv { color: #19177C } /* Name.Variable */\\n.codehilite .ow { color: #AA22FF; font-weight: bold } /* Operator.Word */\\n.codehilite .w { color: #bbbbbb } /* Text.Whitespace */\\n.codehilite .mb { color: #666666 } /* Literal.Number.Bin */\\n.codehilite .mf { color: #666666 } /* Literal.Number.Float */\\n.codehilite .mh { color: #666666 } /* Literal.Number.Hex */\\n.codehilite .mi { color: #666666 } /* Literal.Number.Integer */\\n.codehilite .mo { color: #666666 } /* Literal.Number.Oct */\\n.codehilite .sa { color: #BA2121 } /* Literal.String.Affix */\\n.codehilite .sb { color: #BA2121 } /* Literal.String.Backtick */\\n.codehilite .sc { color: #BA2121 } /* Literal.String.Char */\\n.codehilite .dl { color: #BA2121 } /* Literal.String.Delimiter */\\n.codehilite .sd { color: #BA2121; font-style: italic } /* Literal.String.Doc */\\n.codehilite .s2 { color: #BA2121 } /* Literal.String.Double */\\n.codehilite .se { color: #BB6622; font-weight: bold } /* Literal.String.Escape */\\n.codehilite .sh { color: #BA2121 } /* Literal.String.Heredoc */\\n.codehilite .si { color: #BB6688; font-weight: bold } /* Literal.String.Interpol */\\n.codehilite .sx { color: #008000 } /* Literal.String.Other */\\n.codehilite .sr { color: #BB6688 } /* Literal.String.Regex */\\n.codehilite .s1 { color: #BA2121 } /* Literal.String.Single */\\n.codehilite .ss { color: #19177C } /* Literal.String.Symbol */\\n.codehilite .bp { color: #008000 } /* Name.Builtin.Pseudo */\\n.codehilite .fm { color: #0000FF } /* Name.Function.Magic */\\n.codehilite .vc { color: #19177C } /* Name.Variable.Class */\\n.codehilite .vg { color: #19177C } /* Name.Variable.Global */\\n.codehilite .vi { color: #19177C } /* Name.Variable.Instance */\\n.codehilite .vm { color: #19177C } /* Name.Variable.Magic */\\n.codehilite .il { color: #666666 } /* Literal.Number.Integer.Long */\\n\\n.markdown h1 { margin-block-start: 0.34em }\\n.markdown h2 { margin-block-start: 0.42em }\\n.markdown h3 { margin-block-start: 0.5em }\\n.markdown h4 { margin-block-start: 0.67em }\\n.markdown h5 { margin-block-start: 0.84em }\\n.markdown h6 { margin-block-start: 1.17em }\\n.markdown ul { padding-inline-start: 2em }\\n.markdown ol { padding-inline-start: 2em }\\n.markdown strong { font-weight: 600 }\\n.markdown a { color: -webkit-link }\\n.markdown a { color: -moz-hyperlinkText }\\n\");\n    },\n    function(Bokeh) {\n      inject_raw_css(\".widget-box {\\n\\tmin-height: 20px;\\n\\tbackground-color: #f5f5f5;\\n\\tborder: 1px solid #e3e3e3 !important;\\n\\tborder-radius: 4px;\\n\\t-webkit-box-shadow: inset 0 1px 1px rgba(0,0,0,.05);\\n\\tbox-shadow: inset 0 1px 1px rgba(0,0,0,.05);\\n\\toverflow-x: hidden;\\n\\toverflow-y: hidden;\\n}\\n\\n.scrollable {\\n  overflow: scroll;\\n}\\n\\nprogress {\\n\\tappearance: none;\\n\\t-moz-appearance: none;\\n\\t-webkit-appearance: none;\\n\\n\\tborder: none;\\n\\theight: 20px;\\n\\tbackground-color: whiteSmoke;\\n\\tborder-radius: 3px;\\n\\tbox-shadow: 0 2px 3px rgba(0,0,0,.5) inset;\\n\\tcolor: royalblue;\\n\\tposition: relative;\\n\\tmargin: 0 0 1.5em;\\n}\\n\\nprogress[value]::-webkit-progress-bar {\\n\\tbackground-color: whiteSmoke;\\n\\tborder-radius: 3px;\\n\\tbox-shadow: 0 2px 3px rgba(0,0,0,.5) inset;\\n}\\n\\nprogress[value]::-webkit-progress-value {\\n\\tposition: relative;\\n\\n\\tbackground-size: 35px 20px, 100% 100%, 100% 100%;\\n\\tborder-radius:3px;\\n}\\n\\nprogress.active:not([value])::before {\\n\\tbackground-position: 10%;\\n\\tanimation-name: stripes;\\n\\tanimation-duration: 3s;\\n\\tanimation-timing-function: linear;\\n\\tanimation-iteration-count: infinite;\\n}\\n\\nprogress[value]::-moz-progress-bar {\\n\\tbackground-size: 35px 20px, 100% 100%, 100% 100%;\\n\\tborder-radius:3px;\\n}\\n\\nprogress:not([value])::-moz-progress-bar {\\n\\tborder-radius:3px;\\n\\tbackground:\\n\\tlinear-gradient(-45deg, transparent 33%, rgba(0, 0, 0, 0.2) 33%, rgba(0, 0, 0, 0.2) 66%, transparent 66%) left/2.5em 1.5em;\\n\\n}\\n\\nprogress.active:not([value])::-moz-progress-bar {\\n\\tbackground-position: 10%;\\n\\tanimation-name: stripes;\\n\\tanimation-duration: 3s;\\n\\tanimation-timing-function: linear;\\n\\tanimation-iteration-count: infinite;\\n}\\n\\nprogress.active:not([value])::-webkit-progress-bar {\\n\\tbackground-position: 10%;\\n\\tanimation-name: stripes;\\n\\tanimation-duration: 3s;\\n\\tanimation-timing-function: linear;\\n\\tanimation-iteration-count: infinite;\\n}\\n\\nprogress.primary[value]::-webkit-progress-value { background-color: #007bff; }\\nprogress.primary:not([value])::before { background-color: #007bff; }\\nprogress.primary:not([value])::-webkit-progress-bar { background-color: #007bff; }\\nprogress.primary::-moz-progress-bar { background-color: #007bff; }\\n\\nprogress.secondary[value]::-webkit-progress-value { background-color: #6c757d; }\\nprogress.secondary:not([value])::before { background-color: #6c757d; }\\nprogress.secondary:not([value])::-webkit-progress-bar { background-color: #6c757d; }\\nprogress.secondary::-moz-progress-bar { background-color: #6c757d; }\\n\\nprogress.success[value]::-webkit-progress-value { background-color: #28a745; }\\nprogress.success:not([value])::before { background-color: #28a745; }\\nprogress.success:not([value])::-webkit-progress-bar { background-color: #28a745; }\\nprogress.success::-moz-progress-bar { background-color: #28a745; }\\n\\nprogress.danger[value]::-webkit-progress-value { background-color: #dc3545; }\\nprogress.danger:not([value])::before { background-color: #dc3545; }\\nprogress.danger:not([value])::-webkit-progress-bar { background-color: #dc3545; }\\nprogress.danger::-moz-progress-bar { background-color: #dc3545; }\\n\\nprogress.warning[value]::-webkit-progress-value { background-color: #ffc107; }\\nprogress.warning:not([value])::before { background-color: #ffc107; }\\nprogress.warning:not([value])::-webkit-progress-bar { background-color: #ffc107; }\\nprogress.warning::-moz-progress-bar { background-color: #ffc107; }\\n\\nprogress.info[value]::-webkit-progress-value { background-color: #17a2b8; }\\nprogress.info:not([value])::before { background-color: #17a2b8; }\\nprogress.info:not([value])::-webkit-progress-bar { background-color: #17a2b8; }\\nprogress.info::-moz-progress-bar { background-color: #17a2b8; }\\n\\nprogress.light[value]::-webkit-progress-value { background-color: #f8f9fa; }\\nprogress.light:not([value])::before { background-color: #f8f9fa; }\\nprogress.light:not([value])::-webkit-progress-bar { background-color: #f8f9fa; }\\nprogress.light::-moz-progress-bar { background-color: #f8f9fa; }\\n\\nprogress.dark[value]::-webkit-progress-value { background-color: #343a40; }\\nprogress.dark:not([value])::-webkit-progress-bar { background-color: #343a40; }\\nprogress.dark:not([value])::before { background-color: #343a40; }\\nprogress.dark::-moz-progress-bar { background-color: #343a40; }\\n\\nprogress:not([value])::-webkit-progress-bar {\\n\\tborder-radius: 3px;\\n\\tbackground:\\n\\tlinear-gradient(-45deg, transparent 33%, rgba(0, 0, 0, 0.2) 33%, rgba(0, 0, 0, 0.2) 66%, transparent 66%) left/2.5em 1.5em;\\n}\\nprogress:not([value])::before {\\n\\tcontent:\\\" \\\";\\n\\tposition:absolute;\\n\\theight: 20px;\\n\\ttop:0;\\n\\tleft:0;\\n\\tright:0;\\n\\tbottom:0;\\n\\tborder-radius: 3px;\\n\\tbackground:\\n\\tlinear-gradient(-45deg, transparent 33%, rgba(0, 0, 0, 0.2) 33%, rgba(0, 0, 0, 0.2) 66%, transparent 66%) left/2.5em 1.5em;\\n}\\n\\n@keyframes stripes {\\n  from {background-position: 0%}\\n  to {background-position: 100%}\\n}\");\n    },\n    function(Bokeh) {\n      Bokeh.set_log_level(\"info\");\n    },\n    function(Bokeh) {\n    \n    \n    }\n  ];\n\n  function run_inline_js() {\n    \n    if (root.Bokeh !== undefined || force === true) {\n      \n    for (var i = 0; i < inline_js.length; i++) {\n      inline_js[i].call(root, root.Bokeh);\n    }\n    if (force === true) {\n        display_loaded();\n      }} else if (Date.now() < root._bokeh_timeout) {\n      setTimeout(run_inline_js, 100);\n    } else if (!root._bokeh_failed_load) {\n      console.log(\"Bokeh: BokehJS failed to load within specified timeout.\");\n      root._bokeh_failed_load = true;\n    } else if (force !== true) {\n      var cell = $(document.getElementById(\"1040\")).parents('.cell').data().cell;\n      cell.output_area.append_execute_result(NB_LOAD_WARNING)\n    }\n\n  }\n\n  if (root._bokeh_is_loading === 0) {\n    console.debug(\"Bokeh: BokehJS loaded, going straight to plotting\");\n    run_inline_js();\n  } else {\n    load_libs(css_urls, js_urls, function() {\n      console.debug(\"Bokeh: BokehJS plotting callback run at\", now());\n      run_inline_js();\n    });\n  }\n}(window));"
     },
     "metadata": {},
     "output_type": "display_data"
    },
    {
     "data": {
      "text/html": [
       "\n",
       "\n",
       "\n",
       "\n",
       "\n",
       "\n",
       "  <div class=\"bk-root\" id=\"4b922afb-4af4-4944-a8aa-0e04e9862cae\" data-root-id=\"1002\"></div>\n"
      ]
     },
     "metadata": {},
     "output_type": "display_data"
    },
    {
     "data": {
      "application/javascript": [
       "(function(root) {\n",
       "  function embed_document(root) {\n",
       "    \n",
       "  var docs_json = {\"888d9342-7093-4722-88e3-7545ee1167cb\":{\"roots\":{\"references\":[{\"attributes\":{\"background_fill_color\":\"white\",\"below\":[{\"id\":\"1011\"}],\"center\":[{\"id\":\"1014\"},{\"id\":\"1018\"}],\"left\":[{\"id\":\"1015\"}],\"plot_height\":800,\"plot_width\":800,\"renderers\":[{\"id\":\"1038\"}],\"title\":{\"id\":\"1041\"},\"toolbar\":{\"id\":\"1027\"},\"x_range\":{\"id\":\"1003\"},\"x_scale\":{\"id\":\"1007\"},\"y_range\":{\"id\":\"1005\"},\"y_scale\":{\"id\":\"1009\"}},\"id\":\"1002\",\"subtype\":\"Figure\",\"type\":\"Plot\"},{\"attributes\":{},\"id\":\"1045\",\"type\":\"BasicTickFormatter\"},{\"attributes\":{\"fill_alpha\":{\"value\":0.1},\"fill_color\":{\"field\":\"color\"},\"line_alpha\":{\"value\":0.1},\"line_color\":{\"field\":\"color\"},\"size\":{\"units\":\"screen\",\"value\":5},\"x\":{\"field\":\"x\"},\"y\":{\"field\":\"y\"}},\"id\":\"1037\",\"type\":\"Circle\"},{\"attributes\":{},\"id\":\"1049\",\"type\":\"Selection\"},{\"attributes\":{\"text\":\"\"},\"id\":\"1041\",\"type\":\"Title\"},{\"attributes\":{},\"id\":\"1009\",\"type\":\"LinearScale\"},{\"attributes\":{},\"id\":\"1003\",\"type\":\"DataRange1d\"},{\"attributes\":{},\"id\":\"1022\",\"type\":\"SaveTool\"},{\"attributes\":{},\"id\":\"1024\",\"type\":\"HelpTool\"},{\"attributes\":{\"bottom_units\":\"screen\",\"fill_alpha\":0.5,\"fill_color\":\"lightgrey\",\"left_units\":\"screen\",\"level\":\"overlay\",\"line_alpha\":1.0,\"line_color\":\"black\",\"line_dash\":[4,4],\"line_width\":2,\"right_units\":\"screen\",\"top_units\":\"screen\"},\"id\":\"1025\",\"type\":\"BoxAnnotation\"},{\"attributes\":{},\"id\":\"1007\",\"type\":\"LinearScale\"},{\"attributes\":{},\"id\":\"1043\",\"type\":\"BasicTickFormatter\"},{\"attributes\":{\"active_drag\":\"auto\",\"active_inspect\":\"auto\",\"active_multi\":null,\"active_scroll\":\"auto\",\"active_tap\":\"auto\",\"tools\":[{\"id\":\"1019\"},{\"id\":\"1020\"},{\"id\":\"1021\"},{\"id\":\"1022\"},{\"id\":\"1023\"},{\"id\":\"1024\"},{\"id\":\"1026\"}]},\"id\":\"1027\",\"type\":\"Toolbar\"},{\"attributes\":{\"source\":{\"id\":\"1001\"}},\"id\":\"1039\",\"type\":\"CDSView\"},{\"attributes\":{},\"id\":\"1012\",\"type\":\"BasicTicker\"},{\"attributes\":{},\"id\":\"1023\",\"type\":\"ResetTool\"},{\"attributes\":{\"axis\":{\"id\":\"1015\"},\"dimension\":1,\"ticker\":null,\"visible\":false},\"id\":\"1018\",\"type\":\"Grid\"},{\"attributes\":{},\"id\":\"1019\",\"type\":\"PanTool\"},{\"attributes\":{\"formatter\":{\"id\":\"1043\"},\"ticker\":{\"id\":\"1012\"},\"visible\":false},\"id\":\"1011\",\"type\":\"LinearAxis\"},{\"attributes\":{\"overlay\":{\"id\":\"1025\"}},\"id\":\"1021\",\"type\":\"BoxZoomTool\"},{\"attributes\":{\"formatter\":{\"id\":\"1045\"},\"ticker\":{\"id\":\"1016\"},\"visible\":false},\"id\":\"1015\",\"type\":\"LinearAxis\"},{\"attributes\":{\"callback\":null,\"tooltips\":[[\"index\",\"@index\"],[\"label\",\"@label\"],[\"item\",\"@item\"]]},\"id\":\"1026\",\"type\":\"HoverTool\"},{\"attributes\":{\"axis\":{\"id\":\"1011\"},\"ticker\":null,\"visible\":false},\"id\":\"1014\",\"type\":\"Grid\"},{\"attributes\":{},\"id\":\"1048\",\"type\":\"UnionRenderers\"},{\"attributes\":{},\"id\":\"1016\",\"type\":\"BasicTicker\"},{\"attributes\":{},\"id\":\"1020\",\"type\":\"WheelZoomTool\"},{\"attributes\":{\"fill_alpha\":{\"field\":\"alpha\"},\"fill_color\":{\"field\":\"color\"},\"line_alpha\":{\"field\":\"alpha\"},\"line_color\":{\"field\":\"color\"},\"size\":{\"units\":\"screen\",\"value\":5},\"x\":{\"field\":\"x\"},\"y\":{\"field\":\"y\"}},\"id\":\"1036\",\"type\":\"Circle\"},{\"attributes\":{},\"id\":\"1005\",\"type\":\"DataRange1d\"},{\"attributes\":{\"data_source\":{\"id\":\"1001\"},\"glyph\":{\"id\":\"1036\"},\"hover_glyph\":null,\"muted_glyph\":null,\"nonselection_glyph\":{\"id\":\"1037\"},\"selection_glyph\":null,\"view\":{\"id\":\"1039\"}},\"id\":\"1038\",\"type\":\"GlyphRenderer\"},{\"attributes\":{\"data\":{\"alpha\":[1,1,1,1,1,1,1,1,1,1,1,1,1,1,1,1,1,1,1,1,1,1,1,1,1,1,1,1,1,1,1,1,1,1,1,1,1,1,1,1,1,1,1,1,1,1,1,1,1,1,1,1,1,1,1,1,1,1,1,1,1,1,1,1,1,1,1,1,1,1,1,1,1,1,1,1,1,1,1,1,1,1,1,1,1,1,1,1,1,1,1,1,1,1,1,1,1,1,1,1,1,1,1,1,1,1,1,1,1,1,1,1,1,1,1,1,1,1,1,1,1,1,1,1,1,1,1,1,1,1,1,1,1,1,1,1,1,1,1,1,1,1,1,1,1,1,1,1,1,1,1,1,1,1,1,1,1,1,1,1,1,1,1,1,1,1,1,1,1,1,1,1,1,1,1,1,1,1,1,1,1,1,1,1,1,1,1,1,1,1,1,1,1,1,1,1,1,1,1,1,1,1,1,1,1,1,1,1,1,1,1,1,1,1,1,1,1,1,1,1,1,1,1,1,1,1,1,1,1,1,1,1,1,1,1,1,1,1,1,1,1,1,1,1,1,1,1,1,1,1,1,1,1,1,1,1,1,1,1,1,1,1,1,1,1,1,1,1,1,1,1,1,1,1,1,1,1,1,1,1,1,1,1,1,1,1,1,1,1,1,1,1,1,1,1,1,1,1,1,1,1,1,1,1,1,1,1,1,1,1,1,1,1,1,1,1,1,1,1,1,1,1,1,1,1,1,1,1,1,1,1,1,1,1,1,1,1,1,1,1,1,1,1,1,1,1,1,1,1,1,1,1,1,1,1,1,1,1,1,1,1,1,1,1,1,1,1,1,1,1,1,1,1,1,1,1,1,1,1,1,1,1,1,1,1,1,1,1,1,1,1,1,1,1,1,1,1,1,1,1,1,1,1,1,1,1,1,1,1,1,1,1,1,1,1,1,1,1,1,1,1,1,1,1,1,1,1,1,1,1,1,1,1,1,1,1,1,1,1,1,1,1,1,1,1,1,1,1,1,1,1,1,1,1,1,1,1,1,1,1,1,1,1,1,1,1,1,1,1,1,1,1,1,1,1,1,1,1,1,1,1,1,1,1,1,1,1,1,1,1,1,1,1,1,1,1,1,1,1,1,1,1,1,1,1,1,1,1,1,1,1,1,1,1,1,1,1,1,1,1,1,1,1,1,1,1,1,1,1,1,1,1,1,1,1,1,1,1,1,1,1,1,1,1,1,1,1,1,1,1,1,1,1,1,1,1,1,1,1,1,1,1,1,1,1,1,1,1,1,1,1,1,1,1,1,1,1,1,1,1,1,1,1,1,1,1,1,1,1,1,1,1,1,1,1,1,1,1,1,1,1,1,1,1,1,1,1,1,1,1,1,1,1,1,1,1,1,1,1,1,1,1,1,1,1,1,1,1,1,1,1,1,1,1,1,1,1,1,1,1,1,1,1,1,1,1,1,1,1,1,1,1,1,1,1,1,1,1,1,1,1,1,1,1,1,1,1,1,1,1,1,1,1,1,1,1,1,1,1,1,1,1,1,1,1,1,1,1,1,1,1,1,1,1,1,1,1,1,1,1,1,1,1,1,1,1,1,1,1,1,1,1,1,1,1,1,1,1,1,1,1,1,1,1,1,1,1,1,1,1,1,1,1,1,1,1,1,1,1,1,1,1,1,1,1,1,1,1,1,1,1,1,1,1,1,1,1,1,1,1,1,1,1,1,1,1,1,1,1,1,1,1,1,1,1,1,1,1,1,1,1,1,1,1,1,1,1,1,1,1,1,1,1,1,1,1,1,1,1,1,1,1,1,1,1,1,1,1,1,1,1,1,1,1,1,1,1,1,1,1,1,1,1,1,1,1,1,1,1,1,1,1,1,1,1,1,1,1,1,1,1,1,1,1,1,1,1,1,1,1,1,1,1,1,1,1,1,1,1,1,1,1,1,1,1,1,1,1,1,1,1,1,1,1,1,1,1,1,1,1,1,1,1,1,1,1,1,1,1,1,1,1,1,1,1,1,1,1,1,1,1,1,1,1,1,1,1,1,1,1,1,1,1,1,1,1,1,1,1,1,1,1,1,1,1,1,1,1,1,1,1,1,1,1,1,1,1,1,1,1,1,1,1,1,1,1,1,1,1,1,1,1,1,1,1,1,1,1,1,1,1,1,1,1,1,1,1,1,1,1,1,1,1,1,1,1,1,1,1,1,1,1,1,1,1,1,1,1,1,1,1,1,1,1,1,1,1,1,1,1,1,1,1,1,1,1,1,1,1,1,1,1,1,1,1,1,1,1,1,1,1,1,1,1,1,1,1,1,1,1,1,1,1,1,1,1,1,1,1,1,1,1,1,1,1,1,1,1,1,1,1,1,1,1,1,1,1,1,1,1,1,1,1,1,1,1,1,1,1,1,1,1,1,1,1,1,1,1,1,1,1,1,1,1,1,1,1,1,1,1,1,1,1,1,1,1,1,1,1,1,1,1,1,1,1,1,1,1,1,1,1,1,1,1,1,1,1,1,1,1,1,1,1,1,1,1,1,1,1,1,1,1,1,1,1,1,1,1,1,1,1,1,1,1,1,1,1,1,1,1,1,1,1,1,1,1,1,1,1,1,1,1,1,1,1,1,1,1,1,1,1,1,1,1,1,1,1,1,1,1,1,1,1,1,1,1,1,1,1,1,1,1,1,1,1,1,1,1,1,1,1,1,1,1,1,1,1,1,1,1,1,1,1,1],\"color\":[\"#fedc88\",\"#4e63ac\",\"#6ec5a5\",\"#4e63ac\",\"#4e63ac\",\"#4e63ac\",\"#4e63ac\",\"#9e0142\",\"#b11747\",\"#4e63ac\",\"#4e63ac\",\"#6ec5a5\",\"#4e63ac\",\"#6ec5a5\",\"#e1f399\",\"#4e63ac\",\"#4e63ac\",\"#4e63ac\",\"#b8e2a1\",\"#4e63ac\",\"#4e63ac\",\"#4e63ac\",\"#fca55d\",\"#9e0142\",\"#4e63ac\",\"#4e63ac\",\"#4e63ac\",\"#f6fbb0\",\"#4e63ac\",\"#4e63ac\",\"#4e63ac\",\"#e2514a\",\"#c52c4b\",\"#4e63ac\",\"#a2d9a4\",\"#fca55d\",\"#4e63ac\",\"#d7414e\",\"#e1f399\",\"#4e63ac\",\"#9e0142\",\"#4e63ac\",\"#4e63ac\",\"#4e63ac\",\"#fca55d\",\"#a2d9a4\",\"#4e63ac\",\"#9e0142\",\"#f6fbb0\",\"#4e63ac\",\"#4e63ac\",\"#5e4fa2\",\"#ed6246\",\"#edf8a3\",\"#9e0142\",\"#edf8a3\",\"#4e63ac\",\"#a2d9a4\",\"#a2d9a4\",\"#4e63ac\",\"#4e63ac\",\"#9e0142\",\"#ed6246\",\"#e2514a\",\"#4e63ac\",\"#4e63ac\",\"#a2d9a4\",\"#4e63ac\",\"#4e63ac\",\"#4e63ac\",\"#a2d9a4\",\"#4e63ac\",\"#4e63ac\",\"#4e63ac\",\"#edf8a3\",\"#ed6246\",\"#fca55d\",\"#a2d9a4\",\"#4e63ac\",\"#4e63ac\",\"#e2514a\",\"#4e63ac\",\"#4e63ac\",\"#47a0b3\",\"#4e63ac\",\"#358bbc\",\"#4e63ac\",\"#4e63ac\",\"#b8e2a1\",\"#4e63ac\",\"#fca55d\",\"#b11747\",\"#4e63ac\",\"#e1f399\",\"#e1f399\",\"#d7414e\",\"#4e63ac\",\"#4e63ac\",\"#4e63ac\",\"#b11747\",\"#4e63ac\",\"#6ec5a5\",\"#4e63ac\",\"#fca55d\",\"#358bbc\",\"#6ec5a5\",\"#4e63ac\",\"#4e63ac\",\"#4e63ac\",\"#4e63ac\",\"#9e0142\",\"#4e63ac\",\"#4e63ac\",\"#4e63ac\",\"#4e63ac\",\"#b11747\",\"#4e63ac\",\"#fca55d\",\"#4e63ac\",\"#4e63ac\",\"#d7414e\",\"#e2514a\",\"#4e63ac\",\"#ed6246\",\"#9e0142\",\"#4e63ac\",\"#fca55d\",\"#4e63ac\",\"#4e63ac\",\"#4e63ac\",\"#4e63ac\",\"#4e63ac\",\"#4e63ac\",\"#4e63ac\",\"#4e63ac\",\"#6ec5a5\",\"#9e0142\",\"#d7414e\",\"#d7414e\",\"#cdeb9d\",\"#fca55d\",\"#6ec5a5\",\"#6ec5a5\",\"#4e63ac\",\"#4e63ac\",\"#4e63ac\",\"#6ec5a5\",\"#4e63ac\",\"#a2d9a4\",\"#4e63ac\",\"#4e63ac\",\"#e2514a\",\"#4e63ac\",\"#9e0142\",\"#4e63ac\",\"#4e63ac\",\"#edf8a3\",\"#4e63ac\",\"#4e63ac\",\"#4e63ac\",\"#b8e2a1\",\"#4e63ac\",\"#e1f399\",\"#4e63ac\",\"#4e63ac\",\"#fca55d\",\"#6ec5a5\",\"#4e63ac\",\"#fff3ac\",\"#e2514a\",\"#4e63ac\",\"#b8e2a1\",\"#4e63ac\",\"#4e63ac\",\"#edf8a3\",\"#4e63ac\",\"#4e63ac\",\"#e2514a\",\"#4e63ac\",\"#ed6246\",\"#4e63ac\",\"#6ec5a5\",\"#edf8a3\",\"#4e63ac\",\"#4e63ac\",\"#e2514a\",\"#4e63ac\",\"#4e63ac\",\"#4e63ac\",\"#4e63ac\",\"#fca55d\",\"#4e63ac\",\"#4e63ac\",\"#4e63ac\",\"#4e63ac\",\"#fedc88\",\"#4e63ac\",\"#4e63ac\",\"#fedc88\",\"#edf8a3\",\"#4e63ac\",\"#edf8a3\",\"#4e63ac\",\"#e1f399\",\"#fca55d\",\"#4e63ac\",\"#9e0142\",\"#4e63ac\",\"#4e63ac\",\"#4e63ac\",\"#e1f399\",\"#edf8a3\",\"#4e63ac\",\"#4e63ac\",\"#6ec5a5\",\"#4e63ac\",\"#a2d9a4\",\"#4e63ac\",\"#fca55d\",\"#4e63ac\",\"#4e63ac\",\"#fca55d\",\"#4e63ac\",\"#4e63ac\",\"#edf8a3\",\"#4e63ac\",\"#4e63ac\",\"#cdeb9d\",\"#fedc88\",\"#4e63ac\",\"#edf8a3\",\"#6ec5a5\",\"#4e63ac\",\"#4e63ac\",\"#4e63ac\",\"#4e63ac\",\"#4e63ac\",\"#4e63ac\",\"#edf8a3\",\"#4e63ac\",\"#4e63ac\",\"#4e63ac\",\"#4e63ac\",\"#4e63ac\",\"#fca55d\",\"#4e63ac\",\"#9e0142\",\"#4e63ac\",\"#6ec5a5\",\"#4e63ac\",\"#4e63ac\",\"#4e63ac\",\"#4e63ac\",\"#4e63ac\",\"#6ec5a5\",\"#4e63ac\",\"#86cfa5\",\"#4e63ac\",\"#6ec5a5\",\"#4e63ac\",\"#6ec5a5\",\"#4e63ac\",\"#4e63ac\",\"#4e63ac\",\"#4e63ac\",\"#4e63ac\",\"#4e63ac\",\"#4e63ac\",\"#4e63ac\",\"#9e0142\",\"#4e63ac\",\"#4e63ac\",\"#4e63ac\",\"#6ec5a5\",\"#e2514a\",\"#ed6246\",\"#4e63ac\",\"#4e63ac\",\"#4e63ac\",\"#edf8a3\",\"#4e63ac\",\"#fca55d\",\"#4e63ac\",\"#4e63ac\",\"#4e63ac\",\"#cdeb9d\",\"#4e63ac\",\"#4e63ac\",\"#4e63ac\",\"#e1f399\",\"#4e63ac\",\"#fca55d\",\"#4e63ac\",\"#cdeb9d\",\"#4e63ac\",\"#edf8a3\",\"#4e63ac\",\"#d7414e\",\"#4e63ac\",\"#4e63ac\",\"#4e63ac\",\"#4e63ac\",\"#c52c4b\",\"#4e63ac\",\"#cdeb9d\",\"#6ec5a5\",\"#e2514a\",\"#4e63ac\",\"#e2514a\",\"#4e63ac\",\"#fff3ac\",\"#a2d9a4\",\"#fff3ac\",\"#4e63ac\",\"#fca55d\",\"#4e63ac\",\"#a2d9a4\",\"#4e63ac\",\"#e2514a\",\"#a2d9a4\",\"#6ec5a5\",\"#4e63ac\",\"#4e63ac\",\"#fca55d\",\"#6ec5a5\",\"#e2514a\",\"#4e63ac\",\"#4e63ac\",\"#e1f399\",\"#4e63ac\",\"#fca55d\",\"#4e63ac\",\"#4e63ac\",\"#4e63ac\",\"#4e63ac\",\"#4e63ac\",\"#358bbc\",\"#f98e52\",\"#fca55d\",\"#4e63ac\",\"#4e63ac\",\"#fedc88\",\"#4e63ac\",\"#4e63ac\",\"#e1f399\",\"#4e63ac\",\"#cdeb9d\",\"#f57547\",\"#4e63ac\",\"#d7414e\",\"#fdb96a\",\"#e2514a\",\"#4e63ac\",\"#4e63ac\",\"#4e63ac\",\"#fca55d\",\"#4e63ac\",\"#e1f399\",\"#4e63ac\",\"#5ab4ab\",\"#4e63ac\",\"#d7414e\",\"#fca55d\",\"#4e63ac\",\"#fedc88\",\"#4e63ac\",\"#b8e2a1\",\"#cdeb9d\",\"#4e63ac\",\"#4e63ac\",\"#4e63ac\",\"#a2d9a4\",\"#4e63ac\",\"#edf8a3\",\"#fee999\",\"#edf8a3\",\"#4e63ac\",\"#a2d9a4\",\"#3f77b5\",\"#4e63ac\",\"#fca55d\",\"#4e63ac\",\"#4e63ac\",\"#9e0142\",\"#4e63ac\",\"#4e63ac\",\"#4e63ac\",\"#4e63ac\",\"#4e63ac\",\"#e1f399\",\"#4e63ac\",\"#6ec5a5\",\"#e2514a\",\"#358bbc\",\"#4e63ac\",\"#4e63ac\",\"#4e63ac\",\"#a2d9a4\",\"#e2514a\",\"#4e63ac\",\"#edf8a3\",\"#4e63ac\",\"#4e63ac\",\"#ffffbe\",\"#cdeb9d\",\"#4e63ac\",\"#b11747\",\"#4e63ac\",\"#d7414e\",\"#4e63ac\",\"#4e63ac\",\"#4e63ac\",\"#4e63ac\",\"#4e63ac\",\"#4e63ac\",\"#edf8a3\",\"#4e63ac\",\"#4e63ac\",\"#fedc88\",\"#4e63ac\",\"#5ab4ab\",\"#4e63ac\",\"#fca55d\",\"#4e63ac\",\"#4e63ac\",\"#e1f399\",\"#4e63ac\",\"#a2d9a4\",\"#fedc88\",\"#4e63ac\",\"#4e63ac\",\"#4e63ac\",\"#4e63ac\",\"#4e63ac\",\"#4e63ac\",\"#a2d9a4\",\"#a2d9a4\",\"#e2514a\",\"#cdeb9d\",\"#4e63ac\",\"#4e63ac\",\"#4e63ac\",\"#e2514a\",\"#4e63ac\",\"#4e63ac\",\"#cdeb9d\",\"#4e63ac\",\"#a2d9a4\",\"#4e63ac\",\"#ffffbe\",\"#4e63ac\",\"#4e63ac\",\"#ffffbe\",\"#4e63ac\",\"#4e63ac\",\"#b8e2a1\",\"#e1f399\",\"#4e63ac\",\"#4e63ac\",\"#6ec5a5\",\"#4e63ac\",\"#4e63ac\",\"#4e63ac\",\"#4e63ac\",\"#4e63ac\",\"#4e63ac\",\"#4e63ac\",\"#edf8a3\",\"#fca55d\",\"#e2514a\",\"#4e63ac\",\"#edf8a3\",\"#e2514a\",\"#4e63ac\",\"#4e63ac\",\"#4e63ac\",\"#4e63ac\",\"#4e63ac\",\"#4e63ac\",\"#6ec5a5\",\"#4e63ac\",\"#4e63ac\",\"#4e63ac\",\"#4e63ac\",\"#4e63ac\",\"#4e63ac\",\"#4e63ac\",\"#4e63ac\",\"#fedc88\",\"#d7414e\",\"#fedc88\",\"#4e63ac\",\"#4e63ac\",\"#4e63ac\",\"#fca55d\",\"#4e63ac\",\"#5e4fa2\",\"#4e63ac\",\"#4e63ac\",\"#ed6246\",\"#4e63ac\",\"#4e63ac\",\"#4e63ac\",\"#4e63ac\",\"#e2514a\",\"#fca55d\",\"#4e63ac\",\"#4e63ac\",\"#6ec5a5\",\"#4e63ac\",\"#4e63ac\",\"#9e0142\",\"#4e63ac\",\"#4e63ac\",\"#cdeb9d\",\"#e2514a\",\"#4e63ac\",\"#4e63ac\",\"#4e63ac\",\"#4e63ac\",\"#cdeb9d\",\"#4e63ac\",\"#e1f399\",\"#e2514a\",\"#4e63ac\",\"#fca55d\",\"#4e63ac\",\"#4e63ac\",\"#4e63ac\",\"#fedc88\",\"#4e63ac\",\"#4e63ac\",\"#b8e2a1\",\"#4e63ac\",\"#f57547\",\"#e1f399\",\"#4e63ac\",\"#4e63ac\",\"#4e63ac\",\"#4e63ac\",\"#4e63ac\",\"#4e63ac\",\"#fca55d\",\"#d7414e\",\"#4e63ac\",\"#4e63ac\",\"#edf8a3\",\"#a2d9a4\",\"#4e63ac\",\"#358bbc\",\"#4e63ac\",\"#6ec5a5\",\"#4e63ac\",\"#4e63ac\",\"#4e63ac\",\"#4e63ac\",\"#4e63ac\",\"#4e63ac\",\"#4e63ac\",\"#e1f399\",\"#4e63ac\",\"#6ec5a5\",\"#d7414e\",\"#4e63ac\",\"#4e63ac\",\"#4e63ac\",\"#b11747\",\"#4e63ac\",\"#4e63ac\",\"#c52c4b\",\"#fca55d\",\"#4e63ac\",\"#4e63ac\",\"#4e63ac\",\"#fca55d\",\"#9e0142\",\"#4e63ac\",\"#edf8a3\",\"#4e63ac\",\"#4e63ac\",\"#4e63ac\",\"#4e63ac\",\"#4e63ac\",\"#e2514a\",\"#4e63ac\",\"#4e63ac\",\"#4e63ac\",\"#4e63ac\",\"#4e63ac\",\"#4e63ac\",\"#4e63ac\",\"#cdeb9d\",\"#4e63ac\",\"#4e63ac\",\"#e2514a\",\"#4e63ac\",\"#4e63ac\",\"#4e63ac\",\"#4e63ac\",\"#4e63ac\",\"#6ec5a5\",\"#e2514a\",\"#4e63ac\",\"#4e63ac\",\"#4e63ac\",\"#b11747\",\"#4e63ac\",\"#4e63ac\",\"#fca55d\",\"#fedc88\",\"#4e63ac\",\"#4e63ac\",\"#e1f399\",\"#6ec5a5\",\"#e1f399\",\"#edf8a3\",\"#4e63ac\",\"#4e63ac\",\"#4e63ac\",\"#4e63ac\",\"#e1f399\",\"#4e63ac\",\"#fca55d\",\"#cdeb9d\",\"#4e63ac\",\"#4e63ac\",\"#4e63ac\",\"#cdeb9d\",\"#4e63ac\",\"#4e63ac\",\"#e1f399\",\"#4e63ac\",\"#fedc88\",\"#4e63ac\",\"#edf8a3\",\"#4e63ac\",\"#e1f399\",\"#f6fbb0\",\"#4e63ac\",\"#4e63ac\",\"#4e63ac\",\"#d7414e\",\"#4e63ac\",\"#e1f399\",\"#6ec5a5\",\"#a2d9a4\",\"#4e63ac\",\"#ed6246\",\"#9e0142\",\"#4e63ac\",\"#4e63ac\",\"#4e63ac\",\"#4e63ac\",\"#d7414e\",\"#358bbc\",\"#fca55d\",\"#e1f399\",\"#4e63ac\",\"#4e63ac\",\"#a2d9a4\",\"#4e63ac\",\"#fedc88\",\"#4e63ac\",\"#4e63ac\",\"#4e63ac\",\"#6ec5a5\",\"#4e63ac\",\"#4e63ac\",\"#4e63ac\",\"#4e63ac\",\"#fedc88\",\"#4e63ac\",\"#4e63ac\",\"#9e0142\",\"#4e63ac\",\"#6ec5a5\",\"#a2d9a4\",\"#4e63ac\",\"#fedc88\",\"#4e63ac\",\"#4e63ac\",\"#4e63ac\",\"#6ec5a5\",\"#4e63ac\",\"#4e63ac\",\"#a2d9a4\",\"#a2d9a4\",\"#4e63ac\",\"#4e63ac\",\"#4e63ac\",\"#4e63ac\",\"#4e63ac\",\"#e1f399\",\"#4e63ac\",\"#4e63ac\",\"#4e63ac\",\"#4e63ac\",\"#d7414e\",\"#4e63ac\",\"#6ec5a5\",\"#4e63ac\",\"#6ec5a5\",\"#e1f399\",\"#4e63ac\",\"#4e63ac\",\"#cdeb9d\",\"#9e0142\",\"#4e63ac\",\"#fedc88\",\"#d7414e\",\"#4e63ac\",\"#4e63ac\",\"#4e63ac\",\"#358bbc\",\"#edf8a3\",\"#4e63ac\",\"#4e63ac\",\"#4e63ac\",\"#86cfa5\",\"#4e63ac\",\"#4e63ac\",\"#cdeb9d\",\"#6ec5a5\",\"#4e63ac\",\"#fedc88\",\"#4e63ac\",\"#4e63ac\",\"#fca55d\",\"#4e63ac\",\"#4e63ac\",\"#e2514a\",\"#4e63ac\",\"#9e0142\",\"#4e63ac\",\"#edf8a3\",\"#4e63ac\",\"#4e63ac\",\"#4e63ac\",\"#4e63ac\",\"#4e63ac\",\"#4e63ac\",\"#4e63ac\",\"#4e63ac\",\"#f98e52\",\"#6ec5a5\",\"#4e63ac\",\"#4e63ac\",\"#4e63ac\",\"#e1f399\",\"#6ec5a5\",\"#4e63ac\",\"#fedc88\",\"#4e63ac\",\"#4e63ac\",\"#e2514a\",\"#4e63ac\",\"#4e63ac\",\"#e1f399\",\"#4e63ac\",\"#4e63ac\",\"#4e63ac\",\"#edf8a3\",\"#4e63ac\",\"#4e63ac\",\"#ffffbe\",\"#4e63ac\",\"#edf8a3\",\"#cdeb9d\",\"#4e63ac\",\"#9e0142\",\"#a2d9a4\",\"#e1f399\",\"#4e63ac\",\"#ed6246\",\"#4e63ac\",\"#4e63ac\",\"#fca55d\",\"#4e63ac\",\"#4e63ac\",\"#e2514a\",\"#edf8a3\",\"#4e63ac\",\"#4e63ac\",\"#6ec5a5\",\"#4e63ac\",\"#4e63ac\",\"#4e63ac\",\"#9e0142\",\"#4e63ac\",\"#4e63ac\",\"#4e63ac\",\"#c52c4b\",\"#4e63ac\",\"#4e63ac\",\"#4e63ac\",\"#6ec5a5\",\"#4e63ac\",\"#4e63ac\",\"#4e63ac\",\"#4e63ac\",\"#4e63ac\",\"#d7414e\",\"#fedc88\",\"#6ec5a5\",\"#4e63ac\",\"#4e63ac\",\"#4e63ac\",\"#4e63ac\",\"#fca55d\",\"#4e63ac\",\"#4e63ac\",\"#4e63ac\",\"#4e63ac\",\"#4e63ac\",\"#4e63ac\",\"#e1f399\",\"#4e63ac\",\"#4e63ac\",\"#e2514a\",\"#4e63ac\",\"#4e63ac\",\"#6ec5a5\",\"#4e63ac\",\"#4e63ac\",\"#4e63ac\",\"#4e63ac\",\"#b8e2a1\",\"#4e63ac\",\"#4e63ac\",\"#3f77b5\",\"#4e63ac\",\"#4e63ac\",\"#4e63ac\",\"#4e63ac\",\"#358bbc\",\"#4e63ac\",\"#5ab4ab\",\"#4e63ac\",\"#4e63ac\",\"#4e63ac\",\"#f6fbb0\",\"#4e63ac\",\"#edf8a3\",\"#4e63ac\",\"#4e63ac\",\"#4e63ac\",\"#4e63ac\",\"#4e63ac\",\"#9e0142\",\"#4e63ac\",\"#4e63ac\",\"#4e63ac\",\"#4e63ac\",\"#4e63ac\",\"#4e63ac\",\"#4e63ac\",\"#feca79\",\"#f6fbb0\",\"#4e63ac\",\"#4e63ac\",\"#a2d9a4\",\"#4e63ac\",\"#4e63ac\",\"#4e63ac\",\"#4e63ac\",\"#9e0142\",\"#4e63ac\",\"#f6fbb0\",\"#4e63ac\",\"#6ec5a5\",\"#4e63ac\",\"#86cfa5\",\"#4e63ac\",\"#6ec5a5\",\"#fca55d\",\"#e2514a\",\"#cdeb9d\",\"#fedc88\",\"#4e63ac\",\"#b11747\",\"#4e63ac\",\"#fca55d\",\"#4e63ac\",\"#4e63ac\",\"#4e63ac\",\"#4e63ac\",\"#d7414e\",\"#4e63ac\",\"#d7414e\",\"#4e63ac\",\"#fca55d\",\"#fff3ac\",\"#4e63ac\",\"#6ec5a5\",\"#4e63ac\",\"#4e63ac\",\"#6ec5a5\",\"#e1f399\",\"#b8e2a1\",\"#4e63ac\",\"#e2514a\",\"#4e63ac\",\"#edf8a3\",\"#4e63ac\",\"#4e63ac\",\"#edf8a3\",\"#4e63ac\",\"#e2514a\",\"#4e63ac\",\"#ed6246\",\"#4e63ac\",\"#4e63ac\",\"#4e63ac\",\"#e1f399\",\"#4e63ac\",\"#4e63ac\",\"#6ec5a5\",\"#4e63ac\",\"#4e63ac\",\"#e1f399\",\"#e1f399\",\"#4e63ac\",\"#4e63ac\",\"#edf8a3\",\"#6ec5a5\",\"#9e0142\",\"#4e63ac\",\"#f6fbb0\",\"#edf8a3\",\"#9e0142\",\"#4e63ac\",\"#47a0b3\",\"#9e0142\",\"#4e63ac\",\"#4e63ac\",\"#feca79\",\"#f57547\",\"#9e0142\",\"#4e63ac\",\"#4e63ac\",\"#4e63ac\",\"#e2514a\",\"#4e63ac\",\"#4e63ac\",\"#4e63ac\",\"#4e63ac\",\"#fedc88\",\"#fca55d\",\"#4e63ac\",\"#fedc88\",\"#4e63ac\",\"#fedc88\",\"#4e63ac\",\"#fca55d\",\"#9e0142\",\"#ed6246\",\"#cdeb9d\",\"#fca55d\",\"#4e63ac\",\"#edf8a3\",\"#e2514a\",\"#4e63ac\",\"#4e63ac\",\"#4e63ac\",\"#4e63ac\",\"#358bbc\",\"#4e63ac\",\"#4e63ac\",\"#f6fbb0\",\"#fca55d\",\"#4e63ac\",\"#6ec5a5\",\"#4e63ac\",\"#4e63ac\",\"#4e63ac\",\"#4e63ac\",\"#4e63ac\",\"#4e63ac\",\"#4e63ac\",\"#4e63ac\",\"#4e63ac\",\"#4e63ac\",\"#6ec5a5\",\"#6ec5a5\",\"#4e63ac\",\"#4e63ac\",\"#fca55d\",\"#4e63ac\",\"#4e63ac\",\"#4e63ac\",\"#4e63ac\",\"#4e63ac\",\"#4e63ac\",\"#4e63ac\",\"#4e63ac\",\"#6ec5a5\",\"#e2514a\",\"#4e63ac\",\"#4e63ac\",\"#4e63ac\",\"#d7414e\",\"#9e0142\",\"#4e63ac\",\"#4e63ac\",\"#4e63ac\",\"#4e63ac\",\"#ffffbe\",\"#4e63ac\",\"#fca55d\",\"#f57547\",\"#fca55d\",\"#4e63ac\",\"#e1f399\",\"#cdeb9d\",\"#6ec5a5\",\"#4e63ac\",\"#e1f399\",\"#4e63ac\",\"#4e63ac\",\"#fca55d\",\"#4e63ac\",\"#d7414e\",\"#4e63ac\",\"#4e63ac\",\"#b8e2a1\",\"#4e63ac\",\"#4e63ac\",\"#4e63ac\",\"#e2514a\",\"#4e63ac\",\"#4e63ac\",\"#fca55d\",\"#4e63ac\",\"#4e63ac\",\"#6ec5a5\",\"#fca55d\",\"#4e63ac\",\"#6ec5a5\",\"#fee999\",\"#4e63ac\",\"#fca55d\",\"#4e63ac\",\"#4e63ac\",\"#d7414e\",\"#4e63ac\",\"#4e63ac\",\"#4e63ac\",\"#4e63ac\",\"#e2514a\",\"#4e63ac\",\"#4e63ac\",\"#4e63ac\",\"#4e63ac\",\"#a2d9a4\",\"#4e63ac\",\"#4e63ac\",\"#4e63ac\",\"#4e63ac\",\"#fca55d\",\"#4e63ac\",\"#4e63ac\",\"#4e63ac\",\"#4e63ac\",\"#9e0142\",\"#4e63ac\",\"#4e63ac\",\"#fca55d\",\"#4e63ac\",\"#47a0b3\",\"#4e63ac\",\"#a2d9a4\",\"#6ec5a5\",\"#4e63ac\",\"#e1f399\",\"#fca55d\",\"#e2514a\",\"#4e63ac\",\"#4e63ac\",\"#4e63ac\",\"#fca55d\",\"#4e63ac\",\"#e1f399\",\"#5ab4ab\",\"#4e63ac\",\"#4e63ac\",\"#d7414e\",\"#f6fbb0\",\"#4e63ac\",\"#4e63ac\",\"#4e63ac\",\"#edf8a3\",\"#cdeb9d\",\"#4e63ac\",\"#e2514a\",\"#86cfa5\",\"#4e63ac\",\"#4e63ac\",\"#5ab4ab\",\"#4e63ac\",\"#4e63ac\",\"#4e63ac\",\"#4e63ac\",\"#ed6246\",\"#6ec5a5\",\"#4e63ac\",\"#fedc88\",\"#e1f399\",\"#4e63ac\",\"#4e63ac\",\"#f57547\",\"#4e63ac\",\"#fca55d\",\"#edf8a3\",\"#ffffbe\",\"#4e63ac\",\"#edf8a3\",\"#4e63ac\",\"#4e63ac\",\"#4e63ac\",\"#6ec5a5\",\"#4e63ac\",\"#4e63ac\",\"#4e63ac\",\"#4e63ac\",\"#4e63ac\",\"#4e63ac\",\"#fedc88\",\"#4e63ac\",\"#4e63ac\",\"#c52c4b\",\"#4e63ac\",\"#4e63ac\",\"#fedc88\",\"#4e63ac\",\"#a2d9a4\",\"#4e63ac\",\"#4e63ac\",\"#4e63ac\",\"#4e63ac\",\"#e2514a\",\"#4e63ac\",\"#4e63ac\",\"#4e63ac\",\"#4e63ac\",\"#d7414e\",\"#4e63ac\",\"#4e63ac\",\"#4e63ac\",\"#4e63ac\",\"#4e63ac\",\"#4e63ac\",\"#4e63ac\",\"#86cfa5\",\"#4e63ac\",\"#4e63ac\",\"#4e63ac\",\"#ffffbe\",\"#4e63ac\",\"#ffffbe\",\"#4e63ac\",\"#fca55d\",\"#6ec5a5\",\"#86cfa5\",\"#4e63ac\",\"#4e63ac\",\"#ed6246\",\"#4e63ac\",\"#4e63ac\",\"#4e63ac\",\"#4e63ac\",\"#d7414e\",\"#4e63ac\",\"#a2d9a4\",\"#4e63ac\",\"#4e63ac\",\"#4e63ac\",\"#e2514a\",\"#fff3ac\",\"#4e63ac\",\"#4e63ac\",\"#d7414e\",\"#4e63ac\",\"#4e63ac\",\"#4e63ac\",\"#4e63ac\",\"#fca55d\",\"#fedc88\",\"#6ec5a5\",\"#4e63ac\",\"#4e63ac\",\"#4e63ac\",\"#4e63ac\",\"#4e63ac\",\"#4e63ac\",\"#4e63ac\",\"#4e63ac\",\"#a2d9a4\",\"#4e63ac\",\"#a2d9a4\",\"#4e63ac\",\"#4e63ac\",\"#4e63ac\",\"#4e63ac\",\"#4e63ac\",\"#4e63ac\",\"#4e63ac\",\"#a2d9a4\",\"#4e63ac\",\"#f57547\",\"#4e63ac\",\"#5ab4ab\",\"#5ab4ab\",\"#4e63ac\",\"#4e63ac\"],\"index\":{\"__ndarray__\":\"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\",\"dtype\":\"int32\",\"order\":\"little\",\"shape\":[1214]},\"item\":[\"PF03945_Endotoxin_N_full_length_sequences.fasta\",\"negative\",\"PF12261_t_hemolysin_full_length_sequences.fasta\",\"negative\",\"negative\",\"negative\",\"negative\",\"PF00087_toxin_tolip_full_length_sequences.fasta\",\"PF00555_Endotoxin_M_uniprot.fasta\",\"negative\",\"negative\",\"PF12261_t_hemolysin_full_length_sequences.fasta\",\"negative\",\"PF12261_t_hemolysin_full_length_sequences.fasta\",\"PF06369_anemone_cytotox_full_length_sequences.fasta\",\"negative\",\"negative\",\"negative\",\"PF07968_leukocidin_full_length_sequences.fasta\",\"negative\",\"negative\",\"negative\",\"PF03318_etx_mtx2_full_length_sequences.fasta\",\"PF00087_toxin_tolip_full_length_sequences.fasta\",\"negative\",\"negative\",\"negative\",\"PF06109_hlye_full_length_sequences.fasta\",\"negative\",\"negative\",\"negative\",\"PF01289_thiol_cytolysin_full_length_sequences.fasta\",\"PF01024_colicin_full_length_sequences.fasta\",\"negative\",\"PF11393_T4BSS_dotI_icml_full_length_sequences.fasta\",\"PF03318_etx_mtx2_full_length_sequences.fasta\",\"negative\",\"PF01117_aerolysin_full_length_sequences.fasta\",\"PF06369_anemone_cytotox_full_length_sequences.fasta\",\"negative\",\"PF00087_toxin_tolip_full_length_sequences.fasta\",\"negative\",\"negative\",\"negative\",\"PF03318_etx_mtx2_full_length_sequences.fasta\",\"PF11393_T4BSS_dotI_icml_full_length_sequences.fasta\",\"negative\",\"PF00087_toxin_tolip_full_length_sequences.fasta\",\"PF06109_hlye_full_length_sequences.fasta\",\"negative\",\"negative\",\"pf05105_phage_holin_4_1_uniprot.fasta\",\"PF01338_Bac_thur_toxin_full_length_sequences.fasta\",\"PF06355_aegerolysin_full_length_sequences.fasta\",\"PF00087_toxin_tolip_full_length_sequences.fasta\",\"PF06355_aegerolysin_full_length_sequences.fasta\",\"negative\",\"PF11393_T4BSS_dotI_icml_full_length_sequences.fasta\",\"PF11393_T4BSS_dotI_icml_full_length_sequences.fasta\",\"negative\",\"negative\",\"PF00087_toxin_tolip_full_length_sequences.fasta\",\"PF01338_Bac_thur_toxin_full_length_sequences.fasta\",\"PF01289_thiol_cytolysin_full_length_sequences.fasta\",\"negative\",\"negative\",\"PF11393_T4BSS_dotI_icml_full_length_sequences.fasta\",\"negative\",\"negative\",\"negative\",\"PF11393_T4BSS_dotI_icml_full_length_sequences.fasta\",\"negative\",\"negative\",\"negative\",\"PF06355_aegerolysin_full_length_sequences.fasta\",\"PF01338_Bac_thur_toxin_full_length_sequences.fasta\",\"PF03318_etx_mtx2_full_length_sequences.fasta\",\"PF11393_T4BSS_dotI_icml_full_length_sequences.fasta\",\"negative\",\"negative\",\"PF01289_thiol_cytolysin_full_length_sequences.fasta\",\"negative\",\"negative\",\"PF17475_binary_toxb_2_full_length_sequences.fasta\",\"negative\",\"PF18063_BB_PF_full_length_sequences.fasta\",\"negative\",\"negative\",\"PF07968_leukocidin_full_length_sequences.fasta\",\"negative\",\"PF03318_etx_mtx2_full_length_sequences.fasta\",\"PF00555_Endotoxin_M_uniprot.fasta\",\"negative\",\"PF06369_anemone_cytotox_full_length_sequences.fasta\",\"PF06369_anemone_cytotox_full_length_sequences.fasta\",\"PF01117_aerolysin_full_length_sequences.fasta\",\"negative\",\"negative\",\"negative\",\"PF00555_Endotoxin_M_uniprot.fasta\",\"negative\",\"PF12261_t_hemolysin_full_length_sequences.fasta\",\"negative\",\"PF03318_etx_mtx2_full_length_sequences.fasta\",\"PF18063_BB_PF_full_length_sequences.fasta\",\"PF12261_t_hemolysin_full_length_sequences.fasta\",\"negative\",\"negative\",\"negative\",\"negative\",\"PF00087_toxin_tolip_full_length_sequences.fasta\",\"negative\",\"negative\",\"negative\",\"negative\",\"PF00555_Endotoxin_M_uniprot.fasta\",\"negative\",\"PF03318_etx_mtx2_full_length_sequences.fasta\",\"negative\",\"negative\",\"PF01117_aerolysin_full_length_sequences.fasta\",\"PF01289_thiol_cytolysin_full_length_sequences.fasta\",\"negative\",\"PF01338_Bac_thur_toxin_full_length_sequences.fasta\",\"PF00087_toxin_tolip_full_length_sequences.fasta\",\"negative\",\"PF03318_etx_mtx2_full_length_sequences.fasta\",\"negative\",\"negative\",\"negative\",\"negative\",\"negative\",\"negative\",\"negative\",\"negative\",\"PF12261_t_hemolysin_full_length_sequences.fasta\",\"PF00087_toxin_tolip_full_length_sequences.fasta\",\"PF01117_aerolysin_full_length_sequences.fasta\",\"PF01117_aerolysin_full_length_sequences.fasta\",\"PF07367_fb_lectin_full_length_sequences.fasta\",\"PF03318_etx_mtx2_full_length_sequences.fasta\",\"PF12261_t_hemolysin_full_length_sequences.fasta\",\"PF12261_t_hemolysin_full_length_sequences.fasta\",\"negative\",\"negative\",\"negative\",\"PF12261_t_hemolysin_full_length_sequences.fasta\",\"negative\",\"PF11393_T4BSS_dotI_icml_full_length_sequences.fasta\",\"negative\",\"negative\",\"PF01289_thiol_cytolysin_full_length_sequences.fasta\",\"negative\",\"PF00087_toxin_tolip_full_length_sequences.fasta\",\"negative\",\"negative\",\"PF06355_aegerolysin_full_length_sequences.fasta\",\"negative\",\"negative\",\"negative\",\"PF07968_leukocidin_full_length_sequences.fasta\",\"negative\",\"PF06369_anemone_cytotox_full_length_sequences.fasta\",\"negative\",\"negative\",\"PF03318_etx_mtx2_full_length_sequences.fasta\",\"PF12261_t_hemolysin_full_length_sequences.fasta\",\"negative\",\"PF04877_harpin_full_length_sequences.fasta\",\"PF01289_thiol_cytolysin_full_length_sequences.fasta\",\"negative\",\"PF07968_leukocidin_full_length_sequences.fasta\",\"negative\",\"negative\",\"PF06355_aegerolysin_full_length_sequences.fasta\",\"negative\",\"negative\",\"PF01289_thiol_cytolysin_full_length_sequences.fasta\",\"negative\",\"PF01338_Bac_thur_toxin_full_length_sequences.fasta\",\"negative\",\"PF12261_t_hemolysin_full_length_sequences.fasta\",\"PF06355_aegerolysin_full_length_sequences.fasta\",\"negative\",\"negative\",\"PF01289_thiol_cytolysin_full_length_sequences.fasta\",\"negative\",\"negative\",\"negative\",\"negative\",\"PF03318_etx_mtx2_full_length_sequences.fasta\",\"negative\",\"negative\",\"negative\",\"negative\",\"PF03945_Endotoxin_N_full_length_sequences.fasta\",\"negative\",\"negative\",\"PF03945_Endotoxin_N_full_length_sequences.fasta\",\"PF06355_aegerolysin_full_length_sequences.fasta\",\"negative\",\"PF06355_aegerolysin_full_length_sequences.fasta\",\"negative\",\"PF06369_anemone_cytotox_full_length_sequences.fasta\",\"PF03318_etx_mtx2_full_length_sequences.fasta\",\"negative\",\"PF00087_toxin_tolip_full_length_sequences.fasta\",\"negative\",\"negative\",\"negative\",\"PF06369_anemone_cytotox_full_length_sequences.fasta\",\"PF06355_aegerolysin_full_length_sequences.fasta\",\"negative\",\"negative\",\"PF12261_t_hemolysin_full_length_sequences.fasta\",\"negative\",\"PF11393_T4BSS_dotI_icml_full_length_sequences.fasta\",\"negative\",\"PF03318_etx_mtx2_full_length_sequences.fasta\",\"negative\",\"negative\",\"PF03318_etx_mtx2_full_length_sequences.fasta\",\"negative\",\"negative\",\"PF06355_aegerolysin_full_length_sequences.fasta\",\"negative\",\"negative\",\"PF07367_fb_lectin_full_length_sequences.fasta\",\"PF03945_Endotoxin_N_full_length_sequences.fasta\",\"negative\",\"PF06355_aegerolysin_full_length_sequences.fasta\",\"PF12261_t_hemolysin_full_length_sequences.fasta\",\"negative\",\"negative\",\"negative\",\"negative\",\"negative\",\"negative\",\"PF06355_aegerolysin_full_length_sequences.fasta\",\"negative\",\"negative\",\"negative\",\"negative\",\"negative\",\"PF03318_etx_mtx2_full_length_sequences.fasta\",\"negative\",\"PF00087_toxin_tolip_full_length_sequences.fasta\",\"negative\",\"PF12261_t_hemolysin_full_length_sequences.fasta\",\"negative\",\"negative\",\"negative\",\"negative\",\"negative\",\"PF12261_t_hemolysin_full_length_sequences.fasta\",\"negative\",\"PF11565_porb_full_length_sequences.fasta\",\"negative\",\"PF12261_t_hemolysin_full_length_sequences.fasta\",\"negative\",\"PF12261_t_hemolysin_full_length_sequences.fasta\",\"negative\",\"negative\",\"negative\",\"negative\",\"negative\",\"negative\",\"negative\",\"negative\",\"PF00087_toxin_tolip_full_length_sequences.fasta\",\"negative\",\"negative\",\"negative\",\"PF12261_t_hemolysin_full_length_sequences.fasta\",\"PF01289_thiol_cytolysin_full_length_sequences.fasta\",\"PF01338_Bac_thur_toxin_full_length_sequences.fasta\",\"negative\",\"negative\",\"negative\",\"PF06355_aegerolysin_full_length_sequences.fasta\",\"negative\",\"PF03318_etx_mtx2_full_length_sequences.fasta\",\"negative\",\"negative\",\"negative\",\"PF07367_fb_lectin_full_length_sequences.fasta\",\"negative\",\"negative\",\"negative\",\"PF06369_anemone_cytotox_full_length_sequences.fasta\",\"negative\",\"PF03318_etx_mtx2_full_length_sequences.fasta\",\"negative\",\"PF07367_fb_lectin_full_length_sequences.fasta\",\"negative\",\"PF06355_aegerolysin_full_length_sequences.fasta\",\"negative\",\"PF01117_aerolysin_full_length_sequences.fasta\",\"negative\",\"negative\",\"negative\",\"negative\",\"PF01024_colicin_full_length_sequences.fasta\",\"negative\",\"PF07367_fb_lectin_full_length_sequences.fasta\",\"PF12261_t_hemolysin_full_length_sequences.fasta\",\"PF01289_thiol_cytolysin_full_length_sequences.fasta\",\"negative\",\"PF01289_thiol_cytolysin_full_length_sequences.fasta\",\"negative\",\"PF04877_harpin_full_length_sequences.fasta\",\"PF11393_T4BSS_dotI_icml_full_length_sequences.fasta\",\"PF04877_harpin_full_length_sequences.fasta\",\"negative\",\"PF03318_etx_mtx2_full_length_sequences.fasta\",\"negative\",\"PF11393_T4BSS_dotI_icml_full_length_sequences.fasta\",\"negative\",\"PF01289_thiol_cytolysin_full_length_sequences.fasta\",\"PF11393_T4BSS_dotI_icml_full_length_sequences.fasta\",\"PF12261_t_hemolysin_full_length_sequences.fasta\",\"negative\",\"negative\",\"PF03318_etx_mtx2_full_length_sequences.fasta\",\"PF12261_t_hemolysin_full_length_sequences.fasta\",\"PF01289_thiol_cytolysin_full_length_sequences.fasta\",\"negative\",\"negative\",\"PF06369_anemone_cytotox_full_length_sequences.fasta\",\"negative\",\"PF03318_etx_mtx2_full_length_sequences.fasta\",\"negative\",\"negative\",\"negative\",\"negative\",\"negative\",\"PF18063_BB_PF_full_length_sequences.fasta\",\"PF02382_rtx_full_length_sequences.fasta\",\"PF03318_etx_mtx2_full_length_sequences.fasta\",\"negative\",\"negative\",\"PF03945_Endotoxin_N_full_length_sequences.fasta\",\"negative\",\"negative\",\"PF06369_anemone_cytotox_full_length_sequences.fasta\",\"negative\",\"PF07367_fb_lectin_full_length_sequences.fasta\",\"PF01823_macpf_uniprot.fasta\",\"negative\",\"PF01117_aerolysin_full_length_sequences.fasta\",\"PF03505_clenterotox_full_length_sequences.fasta\",\"PF01289_thiol_cytolysin_full_length_sequences.fasta\",\"negative\",\"negative\",\"negative\",\"PF03318_etx_mtx2_full_length_sequences.fasta\",\"negative\",\"PF06369_anemone_cytotox_full_length_sequences.fasta\",\"negative\",\"PF12920_tcda_tcdb_pore_full_length_sequences.fasta\",\"negative\",\"PF01117_aerolysin_full_length_sequences.fasta\",\"PF03318_etx_mtx2_full_length_sequences.fasta\",\"negative\",\"PF03945_Endotoxin_N_full_length_sequences.fasta\",\"negative\",\"PF07968_leukocidin_full_length_sequences.fasta\",\"PF07367_fb_lectin_full_length_sequences.fasta\",\"negative\",\"negative\",\"negative\",\"PF11393_T4BSS_dotI_icml_full_length_sequences.fasta\",\"negative\",\"PF06355_aegerolysin_full_length_sequences.fasta\",\"PF04598_gasdermin_uniprot.fasta\",\"PF06355_aegerolysin_full_length_sequences.fasta\",\"negative\",\"PF11393_T4BSS_dotI_icml_full_length_sequences.fasta\",\"PF18684_plyb_c_full_length_sequences.fasta\",\"negative\",\"PF03318_etx_mtx2_full_length_sequences.fasta\",\"negative\",\"negative\",\"PF00087_toxin_tolip_full_length_sequences.fasta\",\"negative\",\"negative\",\"negative\",\"negative\",\"negative\",\"PF06369_anemone_cytotox_full_length_sequences.fasta\",\"negative\",\"PF12261_t_hemolysin_full_length_sequences.fasta\",\"PF01289_thiol_cytolysin_full_length_sequences.fasta\",\"PF18063_BB_PF_full_length_sequences.fasta\",\"negative\",\"negative\",\"negative\",\"PF11393_T4BSS_dotI_icml_full_length_sequences.fasta\",\"PF01289_thiol_cytolysin_full_length_sequences.fasta\",\"negative\",\"PF06355_aegerolysin_full_length_sequences.fasta\",\"negative\",\"negative\",\"PF05802_espb_full_length_sequences.fasta\",\"PF07367_fb_lectin_full_length_sequences.fasta\",\"negative\",\"PF00555_Endotoxin_M_uniprot.fasta\",\"negative\",\"PF01117_aerolysin_full_length_sequences.fasta\",\"negative\",\"negative\",\"negative\",\"negative\",\"negative\",\"negative\",\"PF06355_aegerolysin_full_length_sequences.fasta\",\"negative\",\"negative\",\"PF03945_Endotoxin_N_full_length_sequences.fasta\",\"negative\",\"PF12920_tcda_tcdb_pore_full_length_sequences.fasta\",\"negative\",\"PF03318_etx_mtx2_full_length_sequences.fasta\",\"negative\",\"negative\",\"PF06369_anemone_cytotox_full_length_sequences.fasta\",\"negative\",\"PF11393_T4BSS_dotI_icml_full_length_sequences.fasta\",\"PF03945_Endotoxin_N_full_length_sequences.fasta\",\"negative\",\"negative\",\"negative\",\"negative\",\"negative\",\"negative\",\"PF11393_T4BSS_dotI_icml_full_length_sequences.fasta\",\"PF11393_T4BSS_dotI_icml_full_length_sequences.fasta\",\"PF01289_thiol_cytolysin_full_length_sequences.fasta\",\"PF07367_fb_lectin_full_length_sequences.fasta\",\"negative\",\"negative\",\"negative\",\"PF01289_thiol_cytolysin_full_length_sequences.fasta\",\"negative\",\"negative\",\"PF07367_fb_lectin_full_length_sequences.fasta\",\"negative\",\"PF11393_T4BSS_dotI_icml_full_length_sequences.fasta\",\"negative\",\"PF05802_espb_full_length_sequences.fasta\",\"negative\",\"negative\",\"PF05802_espb_full_length_sequences.fasta\",\"negative\",\"negative\",\"PF07968_leukocidin_full_length_sequences.fasta\",\"PF06369_anemone_cytotox_full_length_sequences.fasta\",\"negative\",\"negative\",\"PF12261_t_hemolysin_full_length_sequences.fasta\",\"negative\",\"negative\",\"negative\",\"negative\",\"negative\",\"negative\",\"negative\",\"PF06355_aegerolysin_full_length_sequences.fasta\",\"PF03318_etx_mtx2_full_length_sequences.fasta\",\"PF01289_thiol_cytolysin_full_length_sequences.fasta\",\"negative\",\"PF06355_aegerolysin_full_length_sequences.fasta\",\"PF01289_thiol_cytolysin_full_length_sequences.fasta\",\"negative\",\"negative\",\"negative\",\"negative\",\"negative\",\"negative\",\"PF12261_t_hemolysin_full_length_sequences.fasta\",\"negative\",\"negative\",\"negative\",\"negative\",\"negative\",\"negative\",\"negative\",\"negative\",\"PF03945_Endotoxin_N_full_length_sequences.fasta\",\"PF01117_aerolysin_full_length_sequences.fasta\",\"PF03945_Endotoxin_N_full_length_sequences.fasta\",\"negative\",\"negative\",\"negative\",\"PF03318_etx_mtx2_full_length_sequences.fasta\",\"negative\",\"pf05105_phage_holin_4_1_uniprot.fasta\",\"negative\",\"negative\",\"PF01338_Bac_thur_toxin_full_length_sequences.fasta\",\"negative\",\"negative\",\"negative\",\"negative\",\"PF01289_thiol_cytolysin_full_length_sequences.fasta\",\"PF03318_etx_mtx2_full_length_sequences.fasta\",\"negative\",\"negative\",\"PF12261_t_hemolysin_full_length_sequences.fasta\",\"negative\",\"negative\",\"PF00087_toxin_tolip_full_length_sequences.fasta\",\"negative\",\"negative\",\"PF07367_fb_lectin_full_length_sequences.fasta\",\"PF01289_thiol_cytolysin_full_length_sequences.fasta\",\"negative\",\"negative\",\"negative\",\"negative\",\"PF07367_fb_lectin_full_length_sequences.fasta\",\"negative\",\"PF06369_anemone_cytotox_full_length_sequences.fasta\",\"PF01289_thiol_cytolysin_full_length_sequences.fasta\",\"negative\",\"PF03318_etx_mtx2_full_length_sequences.fasta\",\"negative\",\"negative\",\"negative\",\"PF03945_Endotoxin_N_full_length_sequences.fasta\",\"negative\",\"negative\",\"PF07968_leukocidin_full_length_sequences.fasta\",\"negative\",\"PF01823_macpf_uniprot.fasta\",\"PF06369_anemone_cytotox_full_length_sequences.fasta\",\"negative\",\"negative\",\"negative\",\"negative\",\"negative\",\"negative\",\"PF03318_etx_mtx2_full_length_sequences.fasta\",\"PF01117_aerolysin_full_length_sequences.fasta\",\"negative\",\"negative\",\"PF06355_aegerolysin_full_length_sequences.fasta\",\"PF11393_T4BSS_dotI_icml_full_length_sequences.fasta\",\"negative\",\"PF18063_BB_PF_full_length_sequences.fasta\",\"negative\",\"PF12261_t_hemolysin_full_length_sequences.fasta\",\"negative\",\"negative\",\"negative\",\"negative\",\"negative\",\"negative\",\"negative\",\"PF06369_anemone_cytotox_full_length_sequences.fasta\",\"negative\",\"PF12261_t_hemolysin_full_length_sequences.fasta\",\"PF01117_aerolysin_full_length_sequences.fasta\",\"negative\",\"negative\",\"negative\",\"PF00555_Endotoxin_M_uniprot.fasta\",\"negative\",\"negative\",\"PF01024_colicin_full_length_sequences.fasta\",\"PF03318_etx_mtx2_full_length_sequences.fasta\",\"negative\",\"negative\",\"negative\",\"PF03318_etx_mtx2_full_length_sequences.fasta\",\"PF00087_toxin_tolip_full_length_sequences.fasta\",\"negative\",\"PF06355_aegerolysin_full_length_sequences.fasta\",\"negative\",\"negative\",\"negative\",\"negative\",\"negative\",\"PF01289_thiol_cytolysin_full_length_sequences.fasta\",\"negative\",\"negative\",\"negative\",\"negative\",\"negative\",\"negative\",\"negative\",\"PF07367_fb_lectin_full_length_sequences.fasta\",\"negative\",\"negative\",\"PF01289_thiol_cytolysin_full_length_sequences.fasta\",\"negative\",\"negative\",\"negative\",\"negative\",\"negative\",\"PF12261_t_hemolysin_full_length_sequences.fasta\",\"PF01289_thiol_cytolysin_full_length_sequences.fasta\",\"negative\",\"negative\",\"negative\",\"PF00555_Endotoxin_M_uniprot.fasta\",\"negative\",\"negative\",\"PF03318_etx_mtx2_full_length_sequences.fasta\",\"PF03945_Endotoxin_N_full_length_sequences.fasta\",\"negative\",\"negative\",\"PF06369_anemone_cytotox_full_length_sequences.fasta\",\"PF12261_t_hemolysin_full_length_sequences.fasta\",\"PF06369_anemone_cytotox_full_length_sequences.fasta\",\"PF06355_aegerolysin_full_length_sequences.fasta\",\"negative\",\"negative\",\"negative\",\"negative\",\"PF06369_anemone_cytotox_full_length_sequences.fasta\",\"negative\",\"PF03318_etx_mtx2_full_length_sequences.fasta\",\"PF07367_fb_lectin_full_length_sequences.fasta\",\"negative\",\"negative\",\"negative\",\"PF07367_fb_lectin_full_length_sequences.fasta\",\"negative\",\"negative\",\"PF06369_anemone_cytotox_full_length_sequences.fasta\",\"negative\",\"PF03945_Endotoxin_N_full_length_sequences.fasta\",\"negative\",\"PF06355_aegerolysin_full_length_sequences.fasta\",\"negative\",\"PF06369_anemone_cytotox_full_length_sequences.fasta\",\"PF06109_hlye_full_length_sequences.fasta\",\"negative\",\"negative\",\"negative\",\"PF01117_aerolysin_full_length_sequences.fasta\",\"negative\",\"PF06369_anemone_cytotox_full_length_sequences.fasta\",\"PF12261_t_hemolysin_full_length_sequences.fasta\",\"PF11393_T4BSS_dotI_icml_full_length_sequences.fasta\",\"negative\",\"PF01338_Bac_thur_toxin_full_length_sequences.fasta\",\"PF00087_toxin_tolip_full_length_sequences.fasta\",\"negative\",\"negative\",\"negative\",\"negative\",\"PF01117_aerolysin_full_length_sequences.fasta\",\"PF18063_BB_PF_full_length_sequences.fasta\",\"PF03318_etx_mtx2_full_length_sequences.fasta\",\"PF06369_anemone_cytotox_full_length_sequences.fasta\",\"negative\",\"negative\",\"PF11393_T4BSS_dotI_icml_full_length_sequences.fasta\",\"negative\",\"PF03945_Endotoxin_N_full_length_sequences.fasta\",\"negative\",\"negative\",\"negative\",\"PF12261_t_hemolysin_full_length_sequences.fasta\",\"negative\",\"negative\",\"negative\",\"negative\",\"PF03945_Endotoxin_N_full_length_sequences.fasta\",\"negative\",\"negative\",\"PF00087_toxin_tolip_full_length_sequences.fasta\",\"negative\",\"PF12261_t_hemolysin_full_length_sequences.fasta\",\"PF11393_T4BSS_dotI_icml_full_length_sequences.fasta\",\"negative\",\"PF03945_Endotoxin_N_full_length_sequences.fasta\",\"negative\",\"negative\",\"negative\",\"PF12261_t_hemolysin_full_length_sequences.fasta\",\"negative\",\"negative\",\"PF11393_T4BSS_dotI_icml_full_length_sequences.fasta\",\"PF11393_T4BSS_dotI_icml_full_length_sequences.fasta\",\"negative\",\"negative\",\"negative\",\"negative\",\"negative\",\"PF06369_anemone_cytotox_full_length_sequences.fasta\",\"negative\",\"negative\",\"negative\",\"negative\",\"PF01117_aerolysin_full_length_sequences.fasta\",\"negative\",\"PF12261_t_hemolysin_full_length_sequences.fasta\",\"negative\",\"PF12261_t_hemolysin_full_length_sequences.fasta\",\"PF06369_anemone_cytotox_full_length_sequences.fasta\",\"negative\",\"negative\",\"PF07367_fb_lectin_full_length_sequences.fasta\",\"PF00087_toxin_tolip_full_length_sequences.fasta\",\"negative\",\"PF03945_Endotoxin_N_full_length_sequences.fasta\",\"PF01117_aerolysin_full_length_sequences.fasta\",\"negative\",\"negative\",\"negative\",\"PF18063_BB_PF_full_length_sequences.fasta\",\"PF06355_aegerolysin_full_length_sequences.fasta\",\"negative\",\"negative\",\"negative\",\"PF11565_porb_full_length_sequences.fasta\",\"negative\",\"negative\",\"PF07367_fb_lectin_full_length_sequences.fasta\",\"PF12261_t_hemolysin_full_length_sequences.fasta\",\"negative\",\"PF03945_Endotoxin_N_full_length_sequences.fasta\",\"negative\",\"negative\",\"PF03318_etx_mtx2_full_length_sequences.fasta\",\"negative\",\"negative\",\"PF01289_thiol_cytolysin_full_length_sequences.fasta\",\"negative\",\"PF00087_toxin_tolip_full_length_sequences.fasta\",\"negative\",\"PF06355_aegerolysin_full_length_sequences.fasta\",\"negative\",\"negative\",\"negative\",\"negative\",\"negative\",\"negative\",\"negative\",\"negative\",\"PF02382_rtx_full_length_sequences.fasta\",\"PF12261_t_hemolysin_full_length_sequences.fasta\",\"negative\",\"negative\",\"negative\",\"PF06369_anemone_cytotox_full_length_sequences.fasta\",\"PF12261_t_hemolysin_full_length_sequences.fasta\",\"negative\",\"PF03945_Endotoxin_N_full_length_sequences.fasta\",\"negative\",\"negative\",\"PF01289_thiol_cytolysin_full_length_sequences.fasta\",\"negative\",\"negative\",\"PF06369_anemone_cytotox_full_length_sequences.fasta\",\"negative\",\"negative\",\"negative\",\"PF06355_aegerolysin_full_length_sequences.fasta\",\"negative\",\"negative\",\"PF05802_espb_full_length_sequences.fasta\",\"negative\",\"PF06355_aegerolysin_full_length_sequences.fasta\",\"PF07367_fb_lectin_full_length_sequences.fasta\",\"negative\",\"PF00087_toxin_tolip_full_length_sequences.fasta\",\"PF11393_T4BSS_dotI_icml_full_length_sequences.fasta\",\"PF06369_anemone_cytotox_full_length_sequences.fasta\",\"negative\",\"PF01338_Bac_thur_toxin_full_length_sequences.fasta\",\"negative\",\"negative\",\"PF03318_etx_mtx2_full_length_sequences.fasta\",\"negative\",\"negative\",\"PF01289_thiol_cytolysin_full_length_sequences.fasta\",\"PF06355_aegerolysin_full_length_sequences.fasta\",\"negative\",\"negative\",\"PF12261_t_hemolysin_full_length_sequences.fasta\",\"negative\",\"negative\",\"negative\",\"PF00087_toxin_tolip_full_length_sequences.fasta\",\"negative\",\"negative\",\"negative\",\"PF01024_colicin_full_length_sequences.fasta\",\"negative\",\"negative\",\"negative\",\"PF12261_t_hemolysin_full_length_sequences.fasta\",\"negative\",\"negative\",\"negative\",\"negative\",\"negative\",\"PF01117_aerolysin_full_length_sequences.fasta\",\"PF03945_Endotoxin_N_full_length_sequences.fasta\",\"PF12261_t_hemolysin_full_length_sequences.fasta\",\"negative\",\"negative\",\"negative\",\"negative\",\"PF03318_etx_mtx2_full_length_sequences.fasta\",\"negative\",\"negative\",\"negative\",\"negative\",\"negative\",\"negative\",\"PF06369_anemone_cytotox_full_length_sequences.fasta\",\"negative\",\"negative\",\"PF01289_thiol_cytolysin_full_length_sequences.fasta\",\"negative\",\"negative\",\"PF12261_t_hemolysin_full_length_sequences.fasta\",\"negative\",\"negative\",\"negative\",\"negative\",\"PF07968_leukocidin_full_length_sequences.fasta\",\"negative\",\"negative\",\"PF18684_plyb_c_full_length_sequences.fasta\",\"negative\",\"negative\",\"negative\",\"negative\",\"PF18063_BB_PF_full_length_sequences.fasta\",\"negative\",\"PF12920_tcda_tcdb_pore_full_length_sequences.fasta\",\"negative\",\"negative\",\"negative\",\"PF06109_hlye_full_length_sequences.fasta\",\"negative\",\"PF06355_aegerolysin_full_length_sequences.fasta\",\"negative\",\"negative\",\"negative\",\"negative\",\"negative\",\"PF00087_toxin_tolip_full_length_sequences.fasta\",\"negative\",\"negative\",\"negative\",\"negative\",\"negative\",\"negative\",\"negative\",\"PF03944_Endotoxin_C_uniprot.fasta\",\"PF06109_hlye_full_length_sequences.fasta\",\"negative\",\"negative\",\"PF11393_T4BSS_dotI_icml_full_length_sequences.fasta\",\"negative\",\"negative\",\"negative\",\"negative\",\"PF00087_toxin_tolip_full_length_sequences.fasta\",\"negative\",\"PF06109_hlye_full_length_sequences.fasta\",\"negative\",\"PF12261_t_hemolysin_full_length_sequences.fasta\",\"negative\",\"PF11565_porb_full_length_sequences.fasta\",\"negative\",\"PF12261_t_hemolysin_full_length_sequences.fasta\",\"PF03318_etx_mtx2_full_length_sequences.fasta\",\"PF01289_thiol_cytolysin_full_length_sequences.fasta\",\"PF07367_fb_lectin_full_length_sequences.fasta\",\"PF03945_Endotoxin_N_full_length_sequences.fasta\",\"negative\",\"PF00555_Endotoxin_M_uniprot.fasta\",\"negative\",\"PF03318_etx_mtx2_full_length_sequences.fasta\",\"negative\",\"negative\",\"negative\",\"negative\",\"PF01117_aerolysin_full_length_sequences.fasta\",\"negative\",\"PF01117_aerolysin_full_length_sequences.fasta\",\"negative\",\"PF03318_etx_mtx2_full_length_sequences.fasta\",\"PF04877_harpin_full_length_sequences.fasta\",\"negative\",\"PF12261_t_hemolysin_full_length_sequences.fasta\",\"negative\",\"negative\",\"PF12261_t_hemolysin_full_length_sequences.fasta\",\"PF06369_anemone_cytotox_full_length_sequences.fasta\",\"PF07968_leukocidin_full_length_sequences.fasta\",\"negative\",\"PF01289_thiol_cytolysin_full_length_sequences.fasta\",\"negative\",\"PF06355_aegerolysin_full_length_sequences.fasta\",\"negative\",\"negative\",\"PF06355_aegerolysin_full_length_sequences.fasta\",\"negative\",\"PF01289_thiol_cytolysin_full_length_sequences.fasta\",\"negative\",\"PF01338_Bac_thur_toxin_full_length_sequences.fasta\",\"negative\",\"negative\",\"negative\",\"PF06369_anemone_cytotox_full_length_sequences.fasta\",\"negative\",\"negative\",\"PF12261_t_hemolysin_full_length_sequences.fasta\",\"negative\",\"negative\",\"PF06369_anemone_cytotox_full_length_sequences.fasta\",\"PF06369_anemone_cytotox_full_length_sequences.fasta\",\"negative\",\"negative\",\"PF06355_aegerolysin_full_length_sequences.fasta\",\"PF12261_t_hemolysin_full_length_sequences.fasta\",\"PF00087_toxin_tolip_full_length_sequences.fasta\",\"negative\",\"PF06109_hlye_full_length_sequences.fasta\",\"PF06355_aegerolysin_full_length_sequences.fasta\",\"PF00087_toxin_tolip_full_length_sequences.fasta\",\"negative\",\"PF17475_binary_toxb_2_full_length_sequences.fasta\",\"PF00087_toxin_tolip_full_length_sequences.fasta\",\"negative\",\"negative\",\"PF03944_Endotoxin_C_uniprot.fasta\",\"PF01823_macpf_uniprot.fasta\",\"PF00087_toxin_tolip_full_length_sequences.fasta\",\"negative\",\"negative\",\"negative\",\"PF01289_thiol_cytolysin_full_length_sequences.fasta\",\"negative\",\"negative\",\"negative\",\"negative\",\"PF03945_Endotoxin_N_full_length_sequences.fasta\",\"PF03318_etx_mtx2_full_length_sequences.fasta\",\"negative\",\"PF03945_Endotoxin_N_full_length_sequences.fasta\",\"negative\",\"PF03945_Endotoxin_N_full_length_sequences.fasta\",\"negative\",\"PF03318_etx_mtx2_full_length_sequences.fasta\",\"PF00087_toxin_tolip_full_length_sequences.fasta\",\"PF01338_Bac_thur_toxin_full_length_sequences.fasta\",\"PF07367_fb_lectin_full_length_sequences.fasta\",\"PF03318_etx_mtx2_full_length_sequences.fasta\",\"negative\",\"PF06355_aegerolysin_full_length_sequences.fasta\",\"PF01289_thiol_cytolysin_full_length_sequences.fasta\",\"negative\",\"negative\",\"negative\",\"negative\",\"PF18063_BB_PF_full_length_sequences.fasta\",\"negative\",\"negative\",\"PF06109_hlye_full_length_sequences.fasta\",\"PF03318_etx_mtx2_full_length_sequences.fasta\",\"negative\",\"PF12261_t_hemolysin_full_length_sequences.fasta\",\"negative\",\"negative\",\"negative\",\"negative\",\"negative\",\"negative\",\"negative\",\"negative\",\"negative\",\"negative\",\"PF12261_t_hemolysin_full_length_sequences.fasta\",\"PF12261_t_hemolysin_full_length_sequences.fasta\",\"negative\",\"negative\",\"PF03318_etx_mtx2_full_length_sequences.fasta\",\"negative\",\"negative\",\"negative\",\"negative\",\"negative\",\"negative\",\"negative\",\"negative\",\"PF12261_t_hemolysin_full_length_sequences.fasta\",\"PF01289_thiol_cytolysin_full_length_sequences.fasta\",\"negative\",\"negative\",\"negative\",\"PF01117_aerolysin_full_length_sequences.fasta\",\"PF00087_toxin_tolip_full_length_sequences.fasta\",\"negative\",\"negative\",\"negative\",\"negative\",\"PF05802_espb_full_length_sequences.fasta\",\"negative\",\"PF03318_etx_mtx2_full_length_sequences.fasta\",\"PF01823_macpf_uniprot.fasta\",\"PF03318_etx_mtx2_full_length_sequences.fasta\",\"negative\",\"PF06369_anemone_cytotox_full_length_sequences.fasta\",\"PF07367_fb_lectin_full_length_sequences.fasta\",\"PF12261_t_hemolysin_full_length_sequences.fasta\",\"negative\",\"PF06369_anemone_cytotox_full_length_sequences.fasta\",\"negative\",\"negative\",\"PF03318_etx_mtx2_full_length_sequences.fasta\",\"negative\",\"PF01117_aerolysin_full_length_sequences.fasta\",\"negative\",\"negative\",\"PF07968_leukocidin_full_length_sequences.fasta\",\"negative\",\"negative\",\"negative\",\"PF01289_thiol_cytolysin_full_length_sequences.fasta\",\"negative\",\"negative\",\"PF03318_etx_mtx2_full_length_sequences.fasta\",\"negative\",\"negative\",\"PF12261_t_hemolysin_full_length_sequences.fasta\",\"PF03318_etx_mtx2_full_length_sequences.fasta\",\"negative\",\"PF12261_t_hemolysin_full_length_sequences.fasta\",\"PF04598_gasdermin_uniprot.fasta\",\"negative\",\"PF03318_etx_mtx2_full_length_sequences.fasta\",\"negative\",\"negative\",\"PF01117_aerolysin_full_length_sequences.fasta\",\"negative\",\"negative\",\"negative\",\"negative\",\"PF01289_thiol_cytolysin_full_length_sequences.fasta\",\"negative\",\"negative\",\"negative\",\"negative\",\"PF11393_T4BSS_dotI_icml_full_length_sequences.fasta\",\"negative\",\"negative\",\"negative\",\"negative\",\"PF03318_etx_mtx2_full_length_sequences.fasta\",\"negative\",\"negative\",\"negative\",\"negative\",\"PF00087_toxin_tolip_full_length_sequences.fasta\",\"negative\",\"negative\",\"PF03318_etx_mtx2_full_length_sequences.fasta\",\"negative\",\"PF17475_binary_toxb_2_full_length_sequences.fasta\",\"negative\",\"PF11393_T4BSS_dotI_icml_full_length_sequences.fasta\",\"PF12261_t_hemolysin_full_length_sequences.fasta\",\"negative\",\"PF06369_anemone_cytotox_full_length_sequences.fasta\",\"PF03318_etx_mtx2_full_length_sequences.fasta\",\"PF01289_thiol_cytolysin_full_length_sequences.fasta\",\"negative\",\"negative\",\"negative\",\"PF03318_etx_mtx2_full_length_sequences.fasta\",\"negative\",\"PF06369_anemone_cytotox_full_length_sequences.fasta\",\"PF12920_tcda_tcdb_pore_full_length_sequences.fasta\",\"negative\",\"negative\",\"PF01117_aerolysin_full_length_sequences.fasta\",\"PF06109_hlye_full_length_sequences.fasta\",\"negative\",\"negative\",\"negative\",\"PF06355_aegerolysin_full_length_sequences.fasta\",\"PF07367_fb_lectin_full_length_sequences.fasta\",\"negative\",\"PF01289_thiol_cytolysin_full_length_sequences.fasta\",\"PF11565_porb_full_length_sequences.fasta\",\"negative\",\"negative\",\"PF12920_tcda_tcdb_pore_full_length_sequences.fasta\",\"negative\",\"negative\",\"negative\",\"negative\",\"PF01338_Bac_thur_toxin_full_length_sequences.fasta\",\"PF12261_t_hemolysin_full_length_sequences.fasta\",\"negative\",\"PF03945_Endotoxin_N_full_length_sequences.fasta\",\"PF06369_anemone_cytotox_full_length_sequences.fasta\",\"negative\",\"negative\",\"PF01823_macpf_uniprot.fasta\",\"negative\",\"PF03318_etx_mtx2_full_length_sequences.fasta\",\"PF06355_aegerolysin_full_length_sequences.fasta\",\"PF05802_espb_full_length_sequences.fasta\",\"negative\",\"PF06355_aegerolysin_full_length_sequences.fasta\",\"negative\",\"negative\",\"negative\",\"PF12261_t_hemolysin_full_length_sequences.fasta\",\"negative\",\"negative\",\"negative\",\"negative\",\"negative\",\"negative\",\"PF03945_Endotoxin_N_full_length_sequences.fasta\",\"negative\",\"negative\",\"PF01024_colicin_full_length_sequences.fasta\",\"negative\",\"negative\",\"PF03945_Endotoxin_N_full_length_sequences.fasta\",\"negative\",\"PF11393_T4BSS_dotI_icml_full_length_sequences.fasta\",\"negative\",\"negative\",\"negative\",\"negative\",\"PF01289_thiol_cytolysin_full_length_sequences.fasta\",\"negative\",\"negative\",\"negative\",\"negative\",\"PF01117_aerolysin_full_length_sequences.fasta\",\"negative\",\"negative\",\"negative\",\"negative\",\"negative\",\"negative\",\"negative\",\"PF11565_porb_full_length_sequences.fasta\",\"negative\",\"negative\",\"negative\",\"PF05802_espb_full_length_sequences.fasta\",\"negative\",\"PF05802_espb_full_length_sequences.fasta\",\"negative\",\"PF03318_etx_mtx2_full_length_sequences.fasta\",\"PF12261_t_hemolysin_full_length_sequences.fasta\",\"PF11565_porb_full_length_sequences.fasta\",\"negative\",\"negative\",\"PF01338_Bac_thur_toxin_full_length_sequences.fasta\",\"negative\",\"negative\",\"negative\",\"negative\",\"PF01117_aerolysin_full_length_sequences.fasta\",\"negative\",\"PF11393_T4BSS_dotI_icml_full_length_sequences.fasta\",\"negative\",\"negative\",\"negative\",\"PF01289_thiol_cytolysin_full_length_sequences.fasta\",\"PF04877_harpin_full_length_sequences.fasta\",\"negative\",\"negative\",\"PF01117_aerolysin_full_length_sequences.fasta\",\"negative\",\"negative\",\"negative\",\"negative\",\"PF03318_etx_mtx2_full_length_sequences.fasta\",\"PF03945_Endotoxin_N_full_length_sequences.fasta\",\"PF12261_t_hemolysin_full_length_sequences.fasta\",\"negative\",\"negative\",\"negative\",\"negative\",\"negative\",\"negative\",\"negative\",\"negative\",\"PF11393_T4BSS_dotI_icml_full_length_sequences.fasta\",\"negative\",\"PF11393_T4BSS_dotI_icml_full_length_sequences.fasta\",\"negative\",\"negative\",\"negative\",\"negative\",\"negative\",\"negative\",\"negative\",\"PF11393_T4BSS_dotI_icml_full_length_sequences.fasta\",\"negative\",\"PF01823_macpf_uniprot.fasta\",\"negative\",\"PF12920_tcda_tcdb_pore_full_length_sequences.fasta\",\"PF12920_tcda_tcdb_pore_full_length_sequences.fasta\",\"negative\",\"negative\"],\"label\":[11,27,22,27,27,27,27,0,1,27,27,22,27,22,17,27,27,27,19,27,27,27,8,0,27,27,27,15,27,27,27,4,2,27,20,8,27,3,17,27,0,27,27,27,8,20,27,0,15,27,27,28,5,16,0,16,27,20,20,27,27,0,5,4,27,27,20,27,27,27,20,27,27,27,16,5,8,20,27,27,4,27,27,24,27,25,27,27,19,27,8,1,27,17,17,3,27,27,27,1,27,22,27,8,25,22,27,27,27,27,0,27,27,27,27,1,27,8,27,27,3,4,27,5,0,27,8,27,27,27,27,27,27,27,27,22,0,3,3,18,8,22,22,27,27,27,22,27,20,27,27,4,27,0,27,27,16,27,27,27,19,27,17,27,27,8,22,27,13,4,27,19,27,27,16,27,27,4,27,5,27,22,16,27,27,4,27,27,27,27,8,27,27,27,27,11,27,27,11,16,27,16,27,17,8,27,0,27,27,27,17,16,27,27,22,27,20,27,8,27,27,8,27,27,16,27,27,18,11,27,16,22,27,27,27,27,27,27,16,27,27,27,27,27,8,27,0,27,22,27,27,27,27,27,22,27,21,27,22,27,22,27,27,27,27,27,27,27,27,0,27,27,27,22,4,5,27,27,27,16,27,8,27,27,27,18,27,27,27,17,27,8,27,18,27,16,27,3,27,27,27,27,2,27,18,22,4,27,4,27,13,20,13,27,8,27,20,27,4,20,22,27,27,8,22,4,27,27,17,27,8,27,27,27,27,27,25,7,8,27,27,11,27,27,17,27,18,6,27,3,9,4,27,27,27,8,27,17,27,23,27,3,8,27,11,27,19,18,27,27,27,20,27,16,12,16,27,20,26,27,8,27,27,0,27,27,27,27,27,17,27,22,4,25,27,27,27,20,4,27,16,27,27,14,18,27,1,27,3,27,27,27,27,27,27,16,27,27,11,27,23,27,8,27,27,17,27,20,11,27,27,27,27,27,27,20,20,4,18,27,27,27,4,27,27,18,27,20,27,14,27,27,14,27,27,19,17,27,27,22,27,27,27,27,27,27,27,16,8,4,27,16,4,27,27,27,27,27,27,22,27,27,27,27,27,27,27,27,11,3,11,27,27,27,8,27,28,27,27,5,27,27,27,27,4,8,27,27,22,27,27,0,27,27,18,4,27,27,27,27,18,27,17,4,27,8,27,27,27,11,27,27,19,27,6,17,27,27,27,27,27,27,8,3,27,27,16,20,27,25,27,22,27,27,27,27,27,27,27,17,27,22,3,27,27,27,1,27,27,2,8,27,27,27,8,0,27,16,27,27,27,27,27,4,27,27,27,27,27,27,27,18,27,27,4,27,27,27,27,27,22,4,27,27,27,1,27,27,8,11,27,27,17,22,17,16,27,27,27,27,17,27,8,18,27,27,27,18,27,27,17,27,11,27,16,27,17,15,27,27,27,3,27,17,22,20,27,5,0,27,27,27,27,3,25,8,17,27,27,20,27,11,27,27,27,22,27,27,27,27,11,27,27,0,27,22,20,27,11,27,27,27,22,27,27,20,20,27,27,27,27,27,17,27,27,27,27,3,27,22,27,22,17,27,27,18,0,27,11,3,27,27,27,25,16,27,27,27,21,27,27,18,22,27,11,27,27,8,27,27,4,27,0,27,16,27,27,27,27,27,27,27,27,7,22,27,27,27,17,22,27,11,27,27,4,27,27,17,27,27,27,16,27,27,14,27,16,18,27,0,20,17,27,5,27,27,8,27,27,4,16,27,27,22,27,27,27,0,27,27,27,2,27,27,27,22,27,27,27,27,27,3,11,22,27,27,27,27,8,27,27,27,27,27,27,17,27,27,4,27,27,22,27,27,27,27,19,27,27,26,27,27,27,27,25,27,23,27,27,27,15,27,16,27,27,27,27,27,0,27,27,27,27,27,27,27,10,15,27,27,20,27,27,27,27,0,27,15,27,22,27,21,27,22,8,4,18,11,27,1,27,8,27,27,27,27,3,27,3,27,8,13,27,22,27,27,22,17,19,27,4,27,16,27,27,16,27,4,27,5,27,27,27,17,27,27,22,27,27,17,17,27,27,16,22,0,27,15,16,0,27,24,0,27,27,10,6,0,27,27,27,4,27,27,27,27,11,8,27,11,27,11,27,8,0,5,18,8,27,16,4,27,27,27,27,25,27,27,15,8,27,22,27,27,27,27,27,27,27,27,27,27,22,22,27,27,8,27,27,27,27,27,27,27,27,22,4,27,27,27,3,0,27,27,27,27,14,27,8,6,8,27,17,18,22,27,17,27,27,8,27,3,27,27,19,27,27,27,4,27,27,8,27,27,22,8,27,22,12,27,8,27,27,3,27,27,27,27,4,27,27,27,27,20,27,27,27,27,8,27,27,27,27,0,27,27,8,27,24,27,20,22,27,17,8,4,27,27,27,8,27,17,23,27,27,3,15,27,27,27,16,18,27,4,21,27,27,23,27,27,27,27,5,22,27,11,17,27,27,6,27,8,16,14,27,16,27,27,27,22,27,27,27,27,27,27,11,27,27,2,27,27,11,27,20,27,27,27,27,4,27,27,27,27,3,27,27,27,27,27,27,27,21,27,27,27,14,27,14,27,8,22,21,27,27,5,27,27,27,27,3,27,20,27,27,27,4,13,27,27,3,27,27,27,27,8,11,22,27,27,27,27,27,27,27,27,20,27,20,27,27,27,27,27,27,27,20,27,6,27,23,23,27,27],\"level_0\":[0,1,2,3,4,5,6,7,8,9,10,11,12,13,14,15,16,17,18,19,20,21,22,23,24,25,26,27,28,29,30,31,32,33,34,35,36,37,38,39,40,41,42,43,44,45,46,47,48,49,50,51,52,53,54,55,56,57,58,59,60,61,62,63,64,65,66,67,68,69,70,71,72,73,74,75,76,77,78,79,80,81,82,83,84,85,86,87,88,89,90,91,92,93,94,95,96,97,98,99,100,101,102,103,104,105,106,107,108,109,110,111,112,113,114,115,116,117,118,119,120,121,122,123,124,125,126,127,128,129,130,131,132,133,134,135,136,137,138,139,140,141,142,143,144,145,146,147,148,149,150,151,152,153,154,155,156,157,158,159,160,161,162,163,164,165,166,167,168,169,170,171,172,173,174,175,176,177,178,179,180,181,182,183,184,185,186,187,188,189,190,191,192,193,194,195,196,197,198,199,200,201,202,203,204,205,206,207,208,209,210,211,212,213,214,215,216,217,218,219,220,221,222,223,224,225,226,227,228,229,230,231,232,233,234,235,236,237,238,239,240,241,242,243,244,245,246,247,248,249,250,251,252,253,254,255,256,257,258,259,260,261,262,263,264,265,266,267,268,269,270,271,272,273,274,275,276,277,278,279,280,281,282,283,284,285,286,287,288,289,290,291,292,293,294,295,296,297,298,299,300,301,302,303,304,305,306,307,308,309,310,311,312,313,314,315,316,317,318,319,320,321,322,323,324,325,326,327,328,329,330,331,332,333,334,335,336,337,338,339,340,341,342,343,344,345,346,347,348,349,350,351,352,353,354,355,356,357,358,359,360,361,362,363,364,365,366,367,368,369,370,371,372,373,374,375,376,377,378,379,380,381,382,383,384,385,386,387,388,389,390,391,392,393,394,395,396,397,398,399,400,401,402,403,404,405,406,407,408,409,410,411,412,413,414,415,416,417,418,419,420,421,422,423,424,425,426,427,428,429,430,431,432,433,434,435,436,437,438,439,440,441,442,443,444,445,446,447,448,449,450,451,452,453,454,455,456,457,458,459,460,461,462,463,464,465,466,467,468,469,470,471,472,473,474,475,476,477,478,479,480,481,482,483,484,485,486,487,488,489,490,491,492,493,494,495,496,497,498,499,500,501,502,503,504,505,506,507,508,509,510,511,512,513,514,515,516,517,518,519,520,521,522,523,524,525,526,527,528,529,530,531,532,533,534,535,536,537,538,539,540,541,542,543,544,545,546,547,548,549,550,551,552,553,554,555,556,557,558,559,560,561,562,563,564,565,566,567,568,569,570,571,572,573,574,575,576,577,578,579,580,581,582,583,584,585,586,587,588,589,590,591,592,593,594,595,596,597,598,599,600,601,602,603,604,605,606,607,608,609,610,611,612,613,614,615,616,617,618,619,620,621,622,623,624,625,626,627,628,629,630,631,632,633,634,635,636,637,638,639,640,641,642,643,644,645,646,647,648,649,650,651,652,653,654,655,656,657,658,659,660,661,662,663,664,665,666,667,668,669,670,671,672,673,674,675,676,677,678,679,680,681,682,683,684,685,686,687,688,689,690,691,692,693,694,695,696,697,698,699,700,701,702,703,704,705,706,707,708,709,710,711,712,713,714,715,716,717,718,719,720,721,722,723,724,725,726,727,728,729,730,731,732,733,734,735,736,737,738,739,740,741,742,743,744,745,746,747,748,749,750,751,752,753,754,755,756,757,758,759,760,761,762,763,764,765,766,767,768,769,770,771,772,773,774,775,776,777,778,779,780,781,782,783,784,785,786,787,788,789,790,791,792,793,794,795,796,797,798,799,800,801,802,803,804,805,806,807,808,809,810,811,812,813,814,815,816,817,818,819,820,821,822,823,824,825,826,827,828,829,830,831,832,833,834,835,836,837,838,839,840,841,842,843,844,845,846,847,848,849,850,851,852,853,854,855,856,857,858,859,860,861,862,863,864,865,866,867,868,869,870,871,872,873,874,875,876,877,878,879,880,881,882,883,884,885,886,887,888,889,890,891,892,893,894,895,896,897,898,899,900,901,902,903,904,905,906,907,908,909,910,911,912,913,914,915,916,917,918,919,920,921,922,923,924,925,926,927,928,929,930,931,932,933,934,935,936,937,938,939,940,941,942,943,944,945,946,947,948,949,950,951,952,953,954,955,956,957,958,959,960,961,962,963,964,965,966,967,968,969,970,971,972,973,974,975,976,977,978,979,980,981,982,983,984,985,986,987,988,989,990,991,992,993,994,995,996,997,998,999,1000,1001,1002,1003,1004,1005,1006,1007,1008,1009,1010,1011,1012,1013,1014,1015,1016,1017,1018,1019,1020,1021,1022,1023,1024,1025,1026,1027,1028,1029,1030,1031,1032,1033,1034,1035,1036,1037,1038,1039,1040,1041,1042,1043,1044,1045,1046,1047,1048,1049,1050,1051,1052,1053,1054,1055,1056,1057,1058,1059,1060,1061,1062,1063,1064,1065,1066,1067,1068,1069,1070,1071,1072,1073,1074,1075,1076,1077,1078,1079,1080,1081,1082,1083,1084,1085,1086,1087,1088,1089,1090,1091,1092,1093,1094,1095,1096,1097,1098,1099,1100,1101,1102,1103,1104,1105,1106,1107,1108,1109,1110,1111,1112,1113,1114,1115,1116,1117,1118,1119,1120,1121,1122,1123,1124,1125,1126,1127,1128,1129,1130,1131,1132,1133,1134,1135,1136,1137,1138,1139,1140,1141,1142,1143,1144,1145,1146,1147,1148,1149,1150,1151,1152,1153,1154,1155,1156,1157,1158,1159,1160,1161,1162,1163,1164,1165,1166,1167,1168,1169,1170,1171,1172,1173,1174,1175,1176,1177,1178,1179,1180,1181,1182,1183,1184,1185,1186,1187,1188,1189,1190,1191,1192,1193,1194,1195,1196,1197,1198,1199,1200,1201,1202,1203,1204,1205,1206,1207,1208,1209,1210,1211,1212,1213],\"x\":{\"__ndarray__\":\"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\",\"dtype\":\"float32\",\"order\":\"little\",\"shape\":[1214]},\"y\":{\"__ndarray__\":\"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\",\"dtype\":\"float32\",\"order\":\"little\",\"shape\":[1214]}},\"selected\":{\"id\":\"1049\"},\"selection_policy\":{\"id\":\"1048\"}},\"id\":\"1001\",\"type\":\"ColumnDataSource\"}],\"root_ids\":[\"1002\"]},\"title\":\"Bokeh Application\",\"version\":\"2.1.0\"}};\n",
       "  var render_items = [{\"docid\":\"888d9342-7093-4722-88e3-7545ee1167cb\",\"root_ids\":[\"1002\"],\"roots\":{\"1002\":\"4b922afb-4af4-4944-a8aa-0e04e9862cae\"}}];\n",
       "  root.Bokeh.embed.embed_items_notebook(docs_json, render_items);\n",
       "\n",
       "  }\n",
       "  if (root.Bokeh !== undefined) {\n",
       "    embed_document(root);\n",
       "  } else {\n",
       "    var attempts = 0;\n",
       "    var timer = setInterval(function(root) {\n",
       "      if (root.Bokeh !== undefined) {\n",
       "        clearInterval(timer);\n",
       "        embed_document(root);\n",
       "      } else {\n",
       "        attempts++;\n",
       "        if (attempts > 100) {\n",
       "          clearInterval(timer);\n",
       "          console.log(\"Bokeh: ERROR: Unable to run BokehJS code because BokehJS library is missing\");\n",
       "        }\n",
       "      }\n",
       "    }, 10, root)\n",
       "  }\n",
       "})(window);"
      ],
      "application/vnd.bokehjs_exec.v0+json": ""
     },
     "metadata": {
      "application/vnd.bokehjs_exec.v0+json": {
       "id": "1002"
      }
     },
     "output_type": "display_data"
    }
   ],
   "source": [
    "from bokeh.plotting import show, save, output_notebook, output_file\n",
    "\n",
    "p = umap.plot.interactive(valid_mapper, labels=validation_labels, hover_data=hover_data,point_size=5)\n",
    "output_notebook()\n",
    "show(p)"
   ]
  },
  {
   "cell_type": "code",
   "execution_count": 46,
   "metadata": {},
   "outputs": [
    {
     "data": {
      "text/plain": [
       "(4854, 2000, 768)"
      ]
     },
     "execution_count": 46,
     "metadata": {},
     "output_type": "execute_result"
    }
   ],
   "source": [
    "TAPEncoded_train.shape"
   ]
  },
  {
   "cell_type": "code",
   "execution_count": 48,
   "metadata": {},
   "outputs": [
    {
     "data": {
      "text/html": [
       "\n",
       "    <div class=\"bk-root\">\n",
       "        <a href=\"https://bokeh.org\" target=\"_blank\" class=\"bk-logo bk-logo-small bk-logo-notebook\"></a>\n",
       "        <span id=\"1143\">Loading BokehJS ...</span>\n",
       "    </div>"
      ]
     },
     "metadata": {},
     "output_type": "display_data"
    },
    {
     "data": {
      "application/javascript": [
       "\n",
       "(function(root) {\n",
       "  function now() {\n",
       "    return new Date();\n",
       "  }\n",
       "\n",
       "  var force = true;\n",
       "\n",
       "  if (typeof root._bokeh_onload_callbacks === \"undefined\" || force === true) {\n",
       "    root._bokeh_onload_callbacks = [];\n",
       "    root._bokeh_is_loading = undefined;\n",
       "  }\n",
       "\n",
       "  var JS_MIME_TYPE = 'application/javascript';\n",
       "  var HTML_MIME_TYPE = 'text/html';\n",
       "  var EXEC_MIME_TYPE = 'application/vnd.bokehjs_exec.v0+json';\n",
       "  var CLASS_NAME = 'output_bokeh rendered_html';\n",
       "\n",
       "  /**\n",
       "   * Render data to the DOM node\n",
       "   */\n",
       "  function render(props, node) {\n",
       "    var script = document.createElement(\"script\");\n",
       "    node.appendChild(script);\n",
       "  }\n",
       "\n",
       "  /**\n",
       "   * Handle when an output is cleared or removed\n",
       "   */\n",
       "  function handleClearOutput(event, handle) {\n",
       "    var cell = handle.cell;\n",
       "\n",
       "    var id = cell.output_area._bokeh_element_id;\n",
       "    var server_id = cell.output_area._bokeh_server_id;\n",
       "    // Clean up Bokeh references\n",
       "    if (id != null && id in Bokeh.index) {\n",
       "      Bokeh.index[id].model.document.clear();\n",
       "      delete Bokeh.index[id];\n",
       "    }\n",
       "\n",
       "    if (server_id !== undefined) {\n",
       "      // Clean up Bokeh references\n",
       "      var cmd = \"from bokeh.io.state import curstate; print(curstate().uuid_to_server['\" + server_id + \"'].get_sessions()[0].document.roots[0]._id)\";\n",
       "      cell.notebook.kernel.execute(cmd, {\n",
       "        iopub: {\n",
       "          output: function(msg) {\n",
       "            var id = msg.content.text.trim();\n",
       "            if (id in Bokeh.index) {\n",
       "              Bokeh.index[id].model.document.clear();\n",
       "              delete Bokeh.index[id];\n",
       "            }\n",
       "          }\n",
       "        }\n",
       "      });\n",
       "      // Destroy server and session\n",
       "      var cmd = \"import bokeh.io.notebook as ion; ion.destroy_server('\" + server_id + \"')\";\n",
       "      cell.notebook.kernel.execute(cmd);\n",
       "    }\n",
       "  }\n",
       "\n",
       "  /**\n",
       "   * Handle when a new output is added\n",
       "   */\n",
       "  function handleAddOutput(event, handle) {\n",
       "    var output_area = handle.output_area;\n",
       "    var output = handle.output;\n",
       "\n",
       "    // limit handleAddOutput to display_data with EXEC_MIME_TYPE content only\n",
       "    if ((output.output_type != \"display_data\") || (!output.data.hasOwnProperty(EXEC_MIME_TYPE))) {\n",
       "      return\n",
       "    }\n",
       "\n",
       "    var toinsert = output_area.element.find(\".\" + CLASS_NAME.split(' ')[0]);\n",
       "\n",
       "    if (output.metadata[EXEC_MIME_TYPE][\"id\"] !== undefined) {\n",
       "      toinsert[toinsert.length - 1].firstChild.textContent = output.data[JS_MIME_TYPE];\n",
       "      // store reference to embed id on output_area\n",
       "      output_area._bokeh_element_id = output.metadata[EXEC_MIME_TYPE][\"id\"];\n",
       "    }\n",
       "    if (output.metadata[EXEC_MIME_TYPE][\"server_id\"] !== undefined) {\n",
       "      var bk_div = document.createElement(\"div\");\n",
       "      bk_div.innerHTML = output.data[HTML_MIME_TYPE];\n",
       "      var script_attrs = bk_div.children[0].attributes;\n",
       "      for (var i = 0; i < script_attrs.length; i++) {\n",
       "        toinsert[toinsert.length - 1].firstChild.setAttribute(script_attrs[i].name, script_attrs[i].value);\n",
       "        toinsert[toinsert.length - 1].firstChild.textContent = bk_div.children[0].textContent\n",
       "      }\n",
       "      // store reference to server id on output_area\n",
       "      output_area._bokeh_server_id = output.metadata[EXEC_MIME_TYPE][\"server_id\"];\n",
       "    }\n",
       "  }\n",
       "\n",
       "  function register_renderer(events, OutputArea) {\n",
       "\n",
       "    function append_mime(data, metadata, element) {\n",
       "      // create a DOM node to render to\n",
       "      var toinsert = this.create_output_subarea(\n",
       "        metadata,\n",
       "        CLASS_NAME,\n",
       "        EXEC_MIME_TYPE\n",
       "      );\n",
       "      this.keyboard_manager.register_events(toinsert);\n",
       "      // Render to node\n",
       "      var props = {data: data, metadata: metadata[EXEC_MIME_TYPE]};\n",
       "      render(props, toinsert[toinsert.length - 1]);\n",
       "      element.append(toinsert);\n",
       "      return toinsert\n",
       "    }\n",
       "\n",
       "    /* Handle when an output is cleared or removed */\n",
       "    events.on('clear_output.CodeCell', handleClearOutput);\n",
       "    events.on('delete.Cell', handleClearOutput);\n",
       "\n",
       "    /* Handle when a new output is added */\n",
       "    events.on('output_added.OutputArea', handleAddOutput);\n",
       "\n",
       "    /**\n",
       "     * Register the mime type and append_mime function with output_area\n",
       "     */\n",
       "    OutputArea.prototype.register_mime_type(EXEC_MIME_TYPE, append_mime, {\n",
       "      /* Is output safe? */\n",
       "      safe: true,\n",
       "      /* Index of renderer in `output_area.display_order` */\n",
       "      index: 0\n",
       "    });\n",
       "  }\n",
       "\n",
       "  // register the mime type if in Jupyter Notebook environment and previously unregistered\n",
       "  if (root.Jupyter !== undefined) {\n",
       "    var events = require('base/js/events');\n",
       "    var OutputArea = require('notebook/js/outputarea').OutputArea;\n",
       "\n",
       "    if (OutputArea.prototype.mime_types().indexOf(EXEC_MIME_TYPE) == -1) {\n",
       "      register_renderer(events, OutputArea);\n",
       "    }\n",
       "  }\n",
       "\n",
       "  \n",
       "  if (typeof (root._bokeh_timeout) === \"undefined\" || force === true) {\n",
       "    root._bokeh_timeout = Date.now() + 5000;\n",
       "    root._bokeh_failed_load = false;\n",
       "  }\n",
       "\n",
       "  var NB_LOAD_WARNING = {'data': {'text/html':\n",
       "     \"<div style='background-color: #fdd'>\\n\"+\n",
       "     \"<p>\\n\"+\n",
       "     \"BokehJS does not appear to have successfully loaded. If loading BokehJS from CDN, this \\n\"+\n",
       "     \"may be due to a slow or bad network connection. Possible fixes:\\n\"+\n",
       "     \"</p>\\n\"+\n",
       "     \"<ul>\\n\"+\n",
       "     \"<li>re-rerun `output_notebook()` to attempt to load from CDN again, or</li>\\n\"+\n",
       "     \"<li>use INLINE resources instead, as so:</li>\\n\"+\n",
       "     \"</ul>\\n\"+\n",
       "     \"<code>\\n\"+\n",
       "     \"from bokeh.resources import INLINE\\n\"+\n",
       "     \"output_notebook(resources=INLINE)\\n\"+\n",
       "     \"</code>\\n\"+\n",
       "     \"</div>\"}};\n",
       "\n",
       "  function display_loaded() {\n",
       "    var el = document.getElementById(\"1143\");\n",
       "    if (el != null) {\n",
       "      el.textContent = \"BokehJS is loading...\";\n",
       "    }\n",
       "    if (root.Bokeh !== undefined) {\n",
       "      if (el != null) {\n",
       "        el.textContent = \"BokehJS \" + root.Bokeh.version + \" successfully loaded.\";\n",
       "      }\n",
       "    } else if (Date.now() < root._bokeh_timeout) {\n",
       "      setTimeout(display_loaded, 100)\n",
       "    }\n",
       "  }\n",
       "\n",
       "\n",
       "  function run_callbacks() {\n",
       "    try {\n",
       "      root._bokeh_onload_callbacks.forEach(function(callback) {\n",
       "        if (callback != null)\n",
       "          callback();\n",
       "      });\n",
       "    } finally {\n",
       "      delete root._bokeh_onload_callbacks\n",
       "    }\n",
       "    console.debug(\"Bokeh: all callbacks have finished\");\n",
       "  }\n",
       "\n",
       "  function load_libs(css_urls, js_urls, callback) {\n",
       "    if (css_urls == null) css_urls = [];\n",
       "    if (js_urls == null) js_urls = [];\n",
       "\n",
       "    root._bokeh_onload_callbacks.push(callback);\n",
       "    if (root._bokeh_is_loading > 0) {\n",
       "      console.debug(\"Bokeh: BokehJS is being loaded, scheduling callback at\", now());\n",
       "      return null;\n",
       "    }\n",
       "    if (js_urls == null || js_urls.length === 0) {\n",
       "      run_callbacks();\n",
       "      return null;\n",
       "    }\n",
       "    console.debug(\"Bokeh: BokehJS not loaded, scheduling load and callback at\", now());\n",
       "    root._bokeh_is_loading = css_urls.length + js_urls.length;\n",
       "\n",
       "    function on_load() {\n",
       "      root._bokeh_is_loading--;\n",
       "      if (root._bokeh_is_loading === 0) {\n",
       "        console.debug(\"Bokeh: all BokehJS libraries/stylesheets loaded\");\n",
       "        run_callbacks()\n",
       "      }\n",
       "    }\n",
       "\n",
       "    function on_error() {\n",
       "      console.error(\"failed to load \" + url);\n",
       "    }\n",
       "\n",
       "    for (var i = 0; i < css_urls.length; i++) {\n",
       "      var url = css_urls[i];\n",
       "      const element = document.createElement(\"link\");\n",
       "      element.onload = on_load;\n",
       "      element.onerror = on_error;\n",
       "      element.rel = \"stylesheet\";\n",
       "      element.type = \"text/css\";\n",
       "      element.href = url;\n",
       "      console.debug(\"Bokeh: injecting link tag for BokehJS stylesheet: \", url);\n",
       "      document.body.appendChild(element);\n",
       "    }\n",
       "\n",
       "    const hashes = {\"https://cdn.bokeh.org/bokeh/release/bokeh-2.1.0.min.js\": \"YobFyzPeVUsFQydHkJGsJL1kyfHnWxOlPc3EwaV22TmBaeGoXHLWx5aRRVPS9xlE\", \"https://cdn.bokeh.org/bokeh/release/bokeh-widgets-2.1.0.min.js\": \"NuAg9+TcTQQqvQCTtkCneRrpkTiMhhfiq0KHiBzx8ECiKiLWXHN6i6ia3q7b3eHu\", \"https://cdn.bokeh.org/bokeh/release/bokeh-tables-2.1.0.min.js\": \"uMVqQc8JqHitD67bXTn9a06Mrk3EiHRaZ18EJENQenAKJ/KL71SakdXYomZQpGRr\", \"https://cdn.bokeh.org/bokeh/release/bokeh-gl-2.1.0.min.js\": \"u+eGuEXC8aw0VSCm2mH+b/tQEAitUOYiR1H6SuIVEdUmXsf4vN8m/SmXpmjb7U/X\"};\n",
       "\n",
       "    for (var i = 0; i < js_urls.length; i++) {\n",
       "      var url = js_urls[i];\n",
       "      var element = document.createElement('script');\n",
       "      element.onload = on_load;\n",
       "      element.onerror = on_error;\n",
       "      element.async = false;\n",
       "      element.src = url;\n",
       "      if (url in hashes) {\n",
       "        element.crossOrigin = \"anonymous\";\n",
       "        element.integrity = \"sha384-\" + hashes[url];\n",
       "      }\n",
       "      console.debug(\"Bokeh: injecting script tag for BokehJS library: \", url);\n",
       "      document.head.appendChild(element);\n",
       "    }\n",
       "  };\n",
       "\n",
       "  function inject_raw_css(css) {\n",
       "    const element = document.createElement(\"style\");\n",
       "    element.appendChild(document.createTextNode(css));\n",
       "    document.body.appendChild(element);\n",
       "  }\n",
       "\n",
       "  \n",
       "  var js_urls = [\"https://cdn.bokeh.org/bokeh/release/bokeh-2.1.0.min.js\", \"https://cdn.bokeh.org/bokeh/release/bokeh-widgets-2.1.0.min.js\", \"https://cdn.bokeh.org/bokeh/release/bokeh-tables-2.1.0.min.js\", \"https://cdn.bokeh.org/bokeh/release/bokeh-gl-2.1.0.min.js\", \"https://unpkg.com/@holoviz/panel@^0.9.5/dist/panel.min.js\"];\n",
       "  var css_urls = [];\n",
       "  \n",
       "\n",
       "  var inline_js = [\n",
       "    function(Bokeh) {\n",
       "      inject_raw_css(\"table.panel-df {\\n    margin-left: auto;\\n    margin-right: auto;\\n    border: none;\\n    border-collapse: collapse;\\n    border-spacing: 0;\\n    color: black;\\n    font-size: 12px;\\n    table-layout: fixed;\\n    width: 100%;\\n}\\n\\n.panel-df tr, th, td {\\n    text-align: right;\\n    vertical-align: middle;\\n    padding: 0.5em 0.5em !important;\\n    line-height: normal;\\n    white-space: normal;\\n    max-width: none;\\n    border: none;\\n}\\n\\n.panel-df tbody {\\n    display: table-row-group;\\n    vertical-align: middle;\\n    border-color: inherit;\\n}\\n\\n.panel-df tbody tr:nth-child(odd) {\\n    background: #f5f5f5;\\n}\\n\\n.panel-df thead {\\n    border-bottom: 1px solid black;\\n    vertical-align: bottom;\\n}\\n\\n.panel-df tr:hover {\\n    background: lightblue !important;\\n    cursor: pointer;\\n}\\n\");\n",
       "    },\n",
       "    function(Bokeh) {\n",
       "      inject_raw_css(\".json-formatter-row {\\n  font-family: monospace;\\n}\\n.json-formatter-row,\\n.json-formatter-row a,\\n.json-formatter-row a:hover {\\n  color: black;\\n  text-decoration: none;\\n}\\n.json-formatter-row .json-formatter-row {\\n  margin-left: 1rem;\\n}\\n.json-formatter-row .json-formatter-children.json-formatter-empty {\\n  opacity: 0.5;\\n  margin-left: 1rem;\\n}\\n.json-formatter-row .json-formatter-children.json-formatter-empty:after {\\n  display: none;\\n}\\n.json-formatter-row .json-formatter-children.json-formatter-empty.json-formatter-object:after {\\n  content: \\\"No properties\\\";\\n}\\n.json-formatter-row .json-formatter-children.json-formatter-empty.json-formatter-array:after {\\n  content: \\\"[]\\\";\\n}\\n.json-formatter-row .json-formatter-string,\\n.json-formatter-row .json-formatter-stringifiable {\\n  color: green;\\n  white-space: pre;\\n  word-wrap: break-word;\\n}\\n.json-formatter-row .json-formatter-number {\\n  color: blue;\\n}\\n.json-formatter-row .json-formatter-boolean {\\n  color: red;\\n}\\n.json-formatter-row .json-formatter-null {\\n  color: #855A00;\\n}\\n.json-formatter-row .json-formatter-undefined {\\n  color: #ca0b69;\\n}\\n.json-formatter-row .json-formatter-function {\\n  color: #FF20ED;\\n}\\n.json-formatter-row .json-formatter-date {\\n  background-color: rgba(0, 0, 0, 0.05);\\n}\\n.json-formatter-row .json-formatter-url {\\n  text-decoration: underline;\\n  color: blue;\\n  cursor: pointer;\\n}\\n.json-formatter-row .json-formatter-bracket {\\n  color: blue;\\n}\\n.json-formatter-row .json-formatter-key {\\n  color: #00008B;\\n  padding-right: 0.2rem;\\n}\\n.json-formatter-row .json-formatter-toggler-link {\\n  cursor: pointer;\\n}\\n.json-formatter-row .json-formatter-toggler {\\n  line-height: 1.2rem;\\n  font-size: 0.7rem;\\n  vertical-align: middle;\\n  opacity: 0.6;\\n  cursor: pointer;\\n  padding-right: 0.2rem;\\n}\\n.json-formatter-row .json-formatter-toggler:after {\\n  display: inline-block;\\n  transition: transform 100ms ease-in;\\n  content: \\\"\\\\25BA\\\";\\n}\\n.json-formatter-row > a > .json-formatter-preview-text {\\n  opacity: 0;\\n  transition: opacity 0.15s ease-in;\\n  font-style: italic;\\n}\\n.json-formatter-row:hover > a > .json-formatter-preview-text {\\n  opacity: 0.6;\\n}\\n.json-formatter-row.json-formatter-open > .json-formatter-toggler-link .json-formatter-toggler:after {\\n  transform: rotate(90deg);\\n}\\n.json-formatter-row.json-formatter-open > .json-formatter-children:after {\\n  display: inline-block;\\n}\\n.json-formatter-row.json-formatter-open > a > .json-formatter-preview-text {\\n  display: none;\\n}\\n.json-formatter-row.json-formatter-open.json-formatter-empty:after {\\n  display: block;\\n}\\n.json-formatter-dark.json-formatter-row {\\n  font-family: monospace;\\n}\\n.json-formatter-dark.json-formatter-row,\\n.json-formatter-dark.json-formatter-row a,\\n.json-formatter-dark.json-formatter-row a:hover {\\n  color: white;\\n  text-decoration: none;\\n}\\n.json-formatter-dark.json-formatter-row .json-formatter-row {\\n  margin-left: 1rem;\\n}\\n.json-formatter-dark.json-formatter-row .json-formatter-children.json-formatter-empty {\\n  opacity: 0.5;\\n  margin-left: 1rem;\\n}\\n.json-formatter-dark.json-formatter-row .json-formatter-children.json-formatter-empty:after {\\n  display: none;\\n}\\n.json-formatter-dark.json-formatter-row .json-formatter-children.json-formatter-empty.json-formatter-object:after {\\n  content: \\\"No properties\\\";\\n}\\n.json-formatter-dark.json-formatter-row .json-formatter-children.json-formatter-empty.json-formatter-array:after {\\n  content: \\\"[]\\\";\\n}\\n.json-formatter-dark.json-formatter-row .json-formatter-string,\\n.json-formatter-dark.json-formatter-row .json-formatter-stringifiable {\\n  color: #31F031;\\n  white-space: pre;\\n  word-wrap: break-word;\\n}\\n.json-formatter-dark.json-formatter-row .json-formatter-number {\\n  color: #66C2FF;\\n}\\n.json-formatter-dark.json-formatter-row .json-formatter-boolean {\\n  color: #EC4242;\\n}\\n.json-formatter-dark.json-formatter-row .json-formatter-null {\\n  color: #EEC97D;\\n}\\n.json-formatter-dark.json-formatter-row .json-formatter-undefined {\\n  color: #ef8fbe;\\n}\\n.json-formatter-dark.json-formatter-row .json-formatter-function {\\n  color: #FD48CB;\\n}\\n.json-formatter-dark.json-formatter-row .json-formatter-date {\\n  background-color: rgba(255, 255, 255, 0.05);\\n}\\n.json-formatter-dark.json-formatter-row .json-formatter-url {\\n  text-decoration: underline;\\n  color: #027BFF;\\n  cursor: pointer;\\n}\\n.json-formatter-dark.json-formatter-row .json-formatter-bracket {\\n  color: #9494FF;\\n}\\n.json-formatter-dark.json-formatter-row .json-formatter-key {\\n  color: #23A0DB;\\n  padding-right: 0.2rem;\\n}\\n.json-formatter-dark.json-formatter-row .json-formatter-toggler-link {\\n  cursor: pointer;\\n}\\n.json-formatter-dark.json-formatter-row .json-formatter-toggler {\\n  line-height: 1.2rem;\\n  font-size: 0.7rem;\\n  vertical-align: middle;\\n  opacity: 0.6;\\n  cursor: pointer;\\n  padding-right: 0.2rem;\\n}\\n.json-formatter-dark.json-formatter-row .json-formatter-toggler:after {\\n  display: inline-block;\\n  transition: transform 100ms ease-in;\\n  content: \\\"\\\\25BA\\\";\\n}\\n.json-formatter-dark.json-formatter-row > a > .json-formatter-preview-text {\\n  opacity: 0;\\n  transition: opacity 0.15s ease-in;\\n  font-style: italic;\\n}\\n.json-formatter-dark.json-formatter-row:hover > a > .json-formatter-preview-text {\\n  opacity: 0.6;\\n}\\n.json-formatter-dark.json-formatter-row.json-formatter-open > .json-formatter-toggler-link .json-formatter-toggler:after {\\n  transform: rotate(90deg);\\n}\\n.json-formatter-dark.json-formatter-row.json-formatter-open > .json-formatter-children:after {\\n  display: inline-block;\\n}\\n.json-formatter-dark.json-formatter-row.json-formatter-open > a > .json-formatter-preview-text {\\n  display: none;\\n}\\n.json-formatter-dark.json-formatter-row.json-formatter-open.json-formatter-empty:after {\\n  display: block;\\n}\\n\");\n",
       "    },\n",
       "    function(Bokeh) {\n",
       "      inject_raw_css(\".codehilite .hll { background-color: #ffffcc }\\n.codehilite  { background: #f8f8f8; }\\n.codehilite .c { color: #408080; font-style: italic } /* Comment */\\n.codehilite .err { border: 1px solid #FF0000 } /* Error */\\n.codehilite .k { color: #008000; font-weight: bold } /* Keyword */\\n.codehilite .o { color: #666666 } /* Operator */\\n.codehilite .ch { color: #408080; font-style: italic } /* Comment.Hashbang */\\n.codehilite .cm { color: #408080; font-style: italic } /* Comment.Multiline */\\n.codehilite .cp { color: #BC7A00 } /* Comment.Preproc */\\n.codehilite .cpf { color: #408080; font-style: italic } /* Comment.PreprocFile */\\n.codehilite .c1 { color: #408080; font-style: italic } /* Comment.Single */\\n.codehilite .cs { color: #408080; font-style: italic } /* Comment.Special */\\n.codehilite .gd { color: #A00000 } /* Generic.Deleted */\\n.codehilite .ge { font-style: italic } /* Generic.Emph */\\n.codehilite .gr { color: #FF0000 } /* Generic.Error */\\n.codehilite .gh { color: #000080; font-weight: bold } /* Generic.Heading */\\n.codehilite .gi { color: #00A000 } /* Generic.Inserted */\\n.codehilite .go { color: #888888 } /* Generic.Output */\\n.codehilite .gp { color: #000080; font-weight: bold } /* Generic.Prompt */\\n.codehilite .gs { font-weight: bold } /* Generic.Strong */\\n.codehilite .gu { color: #800080; font-weight: bold } /* Generic.Subheading */\\n.codehilite .gt { color: #0044DD } /* Generic.Traceback */\\n.codehilite .kc { color: #008000; font-weight: bold } /* Keyword.Constant */\\n.codehilite .kd { color: #008000; font-weight: bold } /* Keyword.Declaration */\\n.codehilite .kn { color: #008000; font-weight: bold } /* Keyword.Namespace */\\n.codehilite .kp { color: #008000 } /* Keyword.Pseudo */\\n.codehilite .kr { color: #008000; font-weight: bold } /* Keyword.Reserved */\\n.codehilite .kt { color: #B00040 } /* Keyword.Type */\\n.codehilite .m { color: #666666 } /* Literal.Number */\\n.codehilite .s { color: #BA2121 } /* Literal.String */\\n.codehilite .na { color: #7D9029 } /* Name.Attribute */\\n.codehilite .nb { color: #008000 } /* Name.Builtin */\\n.codehilite .nc { color: #0000FF; font-weight: bold } /* Name.Class */\\n.codehilite .no { color: #880000 } /* Name.Constant */\\n.codehilite .nd { color: #AA22FF } /* Name.Decorator */\\n.codehilite .ni { color: #999999; font-weight: bold } /* Name.Entity */\\n.codehilite .ne { color: #D2413A; font-weight: bold } /* Name.Exception */\\n.codehilite .nf { color: #0000FF } /* Name.Function */\\n.codehilite .nl { color: #A0A000 } /* Name.Label */\\n.codehilite .nn { color: #0000FF; font-weight: bold } /* Name.Namespace */\\n.codehilite .nt { color: #008000; font-weight: bold } /* Name.Tag */\\n.codehilite .nv { color: #19177C } /* Name.Variable */\\n.codehilite .ow { color: #AA22FF; font-weight: bold } /* Operator.Word */\\n.codehilite .w { color: #bbbbbb } /* Text.Whitespace */\\n.codehilite .mb { color: #666666 } /* Literal.Number.Bin */\\n.codehilite .mf { color: #666666 } /* Literal.Number.Float */\\n.codehilite .mh { color: #666666 } /* Literal.Number.Hex */\\n.codehilite .mi { color: #666666 } /* Literal.Number.Integer */\\n.codehilite .mo { color: #666666 } /* Literal.Number.Oct */\\n.codehilite .sa { color: #BA2121 } /* Literal.String.Affix */\\n.codehilite .sb { color: #BA2121 } /* Literal.String.Backtick */\\n.codehilite .sc { color: #BA2121 } /* Literal.String.Char */\\n.codehilite .dl { color: #BA2121 } /* Literal.String.Delimiter */\\n.codehilite .sd { color: #BA2121; font-style: italic } /* Literal.String.Doc */\\n.codehilite .s2 { color: #BA2121 } /* Literal.String.Double */\\n.codehilite .se { color: #BB6622; font-weight: bold } /* Literal.String.Escape */\\n.codehilite .sh { color: #BA2121 } /* Literal.String.Heredoc */\\n.codehilite .si { color: #BB6688; font-weight: bold } /* Literal.String.Interpol */\\n.codehilite .sx { color: #008000 } /* Literal.String.Other */\\n.codehilite .sr { color: #BB6688 } /* Literal.String.Regex */\\n.codehilite .s1 { color: #BA2121 } /* Literal.String.Single */\\n.codehilite .ss { color: #19177C } /* Literal.String.Symbol */\\n.codehilite .bp { color: #008000 } /* Name.Builtin.Pseudo */\\n.codehilite .fm { color: #0000FF } /* Name.Function.Magic */\\n.codehilite .vc { color: #19177C } /* Name.Variable.Class */\\n.codehilite .vg { color: #19177C } /* Name.Variable.Global */\\n.codehilite .vi { color: #19177C } /* Name.Variable.Instance */\\n.codehilite .vm { color: #19177C } /* Name.Variable.Magic */\\n.codehilite .il { color: #666666 } /* Literal.Number.Integer.Long */\\n\\n.markdown h1 { margin-block-start: 0.34em }\\n.markdown h2 { margin-block-start: 0.42em }\\n.markdown h3 { margin-block-start: 0.5em }\\n.markdown h4 { margin-block-start: 0.67em }\\n.markdown h5 { margin-block-start: 0.84em }\\n.markdown h6 { margin-block-start: 1.17em }\\n.markdown ul { padding-inline-start: 2em }\\n.markdown ol { padding-inline-start: 2em }\\n.markdown strong { font-weight: 600 }\\n.markdown a { color: -webkit-link }\\n.markdown a { color: -moz-hyperlinkText }\\n\");\n",
       "    },\n",
       "    function(Bokeh) {\n",
       "      inject_raw_css(\".widget-box {\\n\\tmin-height: 20px;\\n\\tbackground-color: #f5f5f5;\\n\\tborder: 1px solid #e3e3e3 !important;\\n\\tborder-radius: 4px;\\n\\t-webkit-box-shadow: inset 0 1px 1px rgba(0,0,0,.05);\\n\\tbox-shadow: inset 0 1px 1px rgba(0,0,0,.05);\\n\\toverflow-x: hidden;\\n\\toverflow-y: hidden;\\n}\\n\\n.scrollable {\\n  overflow: scroll;\\n}\\n\\nprogress {\\n\\tappearance: none;\\n\\t-moz-appearance: none;\\n\\t-webkit-appearance: none;\\n\\n\\tborder: none;\\n\\theight: 20px;\\n\\tbackground-color: whiteSmoke;\\n\\tborder-radius: 3px;\\n\\tbox-shadow: 0 2px 3px rgba(0,0,0,.5) inset;\\n\\tcolor: royalblue;\\n\\tposition: relative;\\n\\tmargin: 0 0 1.5em;\\n}\\n\\nprogress[value]::-webkit-progress-bar {\\n\\tbackground-color: whiteSmoke;\\n\\tborder-radius: 3px;\\n\\tbox-shadow: 0 2px 3px rgba(0,0,0,.5) inset;\\n}\\n\\nprogress[value]::-webkit-progress-value {\\n\\tposition: relative;\\n\\n\\tbackground-size: 35px 20px, 100% 100%, 100% 100%;\\n\\tborder-radius:3px;\\n}\\n\\nprogress.active:not([value])::before {\\n\\tbackground-position: 10%;\\n\\tanimation-name: stripes;\\n\\tanimation-duration: 3s;\\n\\tanimation-timing-function: linear;\\n\\tanimation-iteration-count: infinite;\\n}\\n\\nprogress[value]::-moz-progress-bar {\\n\\tbackground-size: 35px 20px, 100% 100%, 100% 100%;\\n\\tborder-radius:3px;\\n}\\n\\nprogress:not([value])::-moz-progress-bar {\\n\\tborder-radius:3px;\\n\\tbackground:\\n\\tlinear-gradient(-45deg, transparent 33%, rgba(0, 0, 0, 0.2) 33%, rgba(0, 0, 0, 0.2) 66%, transparent 66%) left/2.5em 1.5em;\\n\\n}\\n\\nprogress.active:not([value])::-moz-progress-bar {\\n\\tbackground-position: 10%;\\n\\tanimation-name: stripes;\\n\\tanimation-duration: 3s;\\n\\tanimation-timing-function: linear;\\n\\tanimation-iteration-count: infinite;\\n}\\n\\nprogress.active:not([value])::-webkit-progress-bar {\\n\\tbackground-position: 10%;\\n\\tanimation-name: stripes;\\n\\tanimation-duration: 3s;\\n\\tanimation-timing-function: linear;\\n\\tanimation-iteration-count: infinite;\\n}\\n\\nprogress.primary[value]::-webkit-progress-value { background-color: #007bff; }\\nprogress.primary:not([value])::before { background-color: #007bff; }\\nprogress.primary:not([value])::-webkit-progress-bar { background-color: #007bff; }\\nprogress.primary::-moz-progress-bar { background-color: #007bff; }\\n\\nprogress.secondary[value]::-webkit-progress-value { background-color: #6c757d; }\\nprogress.secondary:not([value])::before { background-color: #6c757d; }\\nprogress.secondary:not([value])::-webkit-progress-bar { background-color: #6c757d; }\\nprogress.secondary::-moz-progress-bar { background-color: #6c757d; }\\n\\nprogress.success[value]::-webkit-progress-value { background-color: #28a745; }\\nprogress.success:not([value])::before { background-color: #28a745; }\\nprogress.success:not([value])::-webkit-progress-bar { background-color: #28a745; }\\nprogress.success::-moz-progress-bar { background-color: #28a745; }\\n\\nprogress.danger[value]::-webkit-progress-value { background-color: #dc3545; }\\nprogress.danger:not([value])::before { background-color: #dc3545; }\\nprogress.danger:not([value])::-webkit-progress-bar { background-color: #dc3545; }\\nprogress.danger::-moz-progress-bar { background-color: #dc3545; }\\n\\nprogress.warning[value]::-webkit-progress-value { background-color: #ffc107; }\\nprogress.warning:not([value])::before { background-color: #ffc107; }\\nprogress.warning:not([value])::-webkit-progress-bar { background-color: #ffc107; }\\nprogress.warning::-moz-progress-bar { background-color: #ffc107; }\\n\\nprogress.info[value]::-webkit-progress-value { background-color: #17a2b8; }\\nprogress.info:not([value])::before { background-color: #17a2b8; }\\nprogress.info:not([value])::-webkit-progress-bar { background-color: #17a2b8; }\\nprogress.info::-moz-progress-bar { background-color: #17a2b8; }\\n\\nprogress.light[value]::-webkit-progress-value { background-color: #f8f9fa; }\\nprogress.light:not([value])::before { background-color: #f8f9fa; }\\nprogress.light:not([value])::-webkit-progress-bar { background-color: #f8f9fa; }\\nprogress.light::-moz-progress-bar { background-color: #f8f9fa; }\\n\\nprogress.dark[value]::-webkit-progress-value { background-color: #343a40; }\\nprogress.dark:not([value])::-webkit-progress-bar { background-color: #343a40; }\\nprogress.dark:not([value])::before { background-color: #343a40; }\\nprogress.dark::-moz-progress-bar { background-color: #343a40; }\\n\\nprogress:not([value])::-webkit-progress-bar {\\n\\tborder-radius: 3px;\\n\\tbackground:\\n\\tlinear-gradient(-45deg, transparent 33%, rgba(0, 0, 0, 0.2) 33%, rgba(0, 0, 0, 0.2) 66%, transparent 66%) left/2.5em 1.5em;\\n}\\nprogress:not([value])::before {\\n\\tcontent:\\\" \\\";\\n\\tposition:absolute;\\n\\theight: 20px;\\n\\ttop:0;\\n\\tleft:0;\\n\\tright:0;\\n\\tbottom:0;\\n\\tborder-radius: 3px;\\n\\tbackground:\\n\\tlinear-gradient(-45deg, transparent 33%, rgba(0, 0, 0, 0.2) 33%, rgba(0, 0, 0, 0.2) 66%, transparent 66%) left/2.5em 1.5em;\\n}\\n\\n@keyframes stripes {\\n  from {background-position: 0%}\\n  to {background-position: 100%}\\n}\");\n",
       "    },\n",
       "    function(Bokeh) {\n",
       "      Bokeh.set_log_level(\"info\");\n",
       "    },\n",
       "    function(Bokeh) {\n",
       "    \n",
       "    \n",
       "    }\n",
       "  ];\n",
       "\n",
       "  function run_inline_js() {\n",
       "    \n",
       "    if (root.Bokeh !== undefined || force === true) {\n",
       "      \n",
       "    for (var i = 0; i < inline_js.length; i++) {\n",
       "      inline_js[i].call(root, root.Bokeh);\n",
       "    }\n",
       "    if (force === true) {\n",
       "        display_loaded();\n",
       "      }} else if (Date.now() < root._bokeh_timeout) {\n",
       "      setTimeout(run_inline_js, 100);\n",
       "    } else if (!root._bokeh_failed_load) {\n",
       "      console.log(\"Bokeh: BokehJS failed to load within specified timeout.\");\n",
       "      root._bokeh_failed_load = true;\n",
       "    } else if (force !== true) {\n",
       "      var cell = $(document.getElementById(\"1143\")).parents('.cell').data().cell;\n",
       "      cell.output_area.append_execute_result(NB_LOAD_WARNING)\n",
       "    }\n",
       "\n",
       "  }\n",
       "\n",
       "  if (root._bokeh_is_loading === 0) {\n",
       "    console.debug(\"Bokeh: BokehJS loaded, going straight to plotting\");\n",
       "    run_inline_js();\n",
       "  } else {\n",
       "    load_libs(css_urls, js_urls, function() {\n",
       "      console.debug(\"Bokeh: BokehJS plotting callback run at\", now());\n",
       "      run_inline_js();\n",
       "    });\n",
       "  }\n",
       "}(window));"
      ],
      "application/vnd.bokehjs_load.v0+json": "\n(function(root) {\n  function now() {\n    return new Date();\n  }\n\n  var force = true;\n\n  if (typeof root._bokeh_onload_callbacks === \"undefined\" || force === true) {\n    root._bokeh_onload_callbacks = [];\n    root._bokeh_is_loading = undefined;\n  }\n\n  \n\n  \n  if (typeof (root._bokeh_timeout) === \"undefined\" || force === true) {\n    root._bokeh_timeout = Date.now() + 5000;\n    root._bokeh_failed_load = false;\n  }\n\n  var NB_LOAD_WARNING = {'data': {'text/html':\n     \"<div style='background-color: #fdd'>\\n\"+\n     \"<p>\\n\"+\n     \"BokehJS does not appear to have successfully loaded. If loading BokehJS from CDN, this \\n\"+\n     \"may be due to a slow or bad network connection. Possible fixes:\\n\"+\n     \"</p>\\n\"+\n     \"<ul>\\n\"+\n     \"<li>re-rerun `output_notebook()` to attempt to load from CDN again, or</li>\\n\"+\n     \"<li>use INLINE resources instead, as so:</li>\\n\"+\n     \"</ul>\\n\"+\n     \"<code>\\n\"+\n     \"from bokeh.resources import INLINE\\n\"+\n     \"output_notebook(resources=INLINE)\\n\"+\n     \"</code>\\n\"+\n     \"</div>\"}};\n\n  function display_loaded() {\n    var el = document.getElementById(\"1143\");\n    if (el != null) {\n      el.textContent = \"BokehJS is loading...\";\n    }\n    if (root.Bokeh !== undefined) {\n      if (el != null) {\n        el.textContent = \"BokehJS \" + root.Bokeh.version + \" successfully loaded.\";\n      }\n    } else if (Date.now() < root._bokeh_timeout) {\n      setTimeout(display_loaded, 100)\n    }\n  }\n\n\n  function run_callbacks() {\n    try {\n      root._bokeh_onload_callbacks.forEach(function(callback) {\n        if (callback != null)\n          callback();\n      });\n    } finally {\n      delete root._bokeh_onload_callbacks\n    }\n    console.debug(\"Bokeh: all callbacks have finished\");\n  }\n\n  function load_libs(css_urls, js_urls, callback) {\n    if (css_urls == null) css_urls = [];\n    if (js_urls == null) js_urls = [];\n\n    root._bokeh_onload_callbacks.push(callback);\n    if (root._bokeh_is_loading > 0) {\n      console.debug(\"Bokeh: BokehJS is being loaded, scheduling callback at\", now());\n      return null;\n    }\n    if (js_urls == null || js_urls.length === 0) {\n      run_callbacks();\n      return null;\n    }\n    console.debug(\"Bokeh: BokehJS not loaded, scheduling load and callback at\", now());\n    root._bokeh_is_loading = css_urls.length + js_urls.length;\n\n    function on_load() {\n      root._bokeh_is_loading--;\n      if (root._bokeh_is_loading === 0) {\n        console.debug(\"Bokeh: all BokehJS libraries/stylesheets loaded\");\n        run_callbacks()\n      }\n    }\n\n    function on_error() {\n      console.error(\"failed to load \" + url);\n    }\n\n    for (var i = 0; i < css_urls.length; i++) {\n      var url = css_urls[i];\n      const element = document.createElement(\"link\");\n      element.onload = on_load;\n      element.onerror = on_error;\n      element.rel = \"stylesheet\";\n      element.type = \"text/css\";\n      element.href = url;\n      console.debug(\"Bokeh: injecting link tag for BokehJS stylesheet: \", url);\n      document.body.appendChild(element);\n    }\n\n    const hashes = {\"https://cdn.bokeh.org/bokeh/release/bokeh-2.1.0.min.js\": \"YobFyzPeVUsFQydHkJGsJL1kyfHnWxOlPc3EwaV22TmBaeGoXHLWx5aRRVPS9xlE\", \"https://cdn.bokeh.org/bokeh/release/bokeh-widgets-2.1.0.min.js\": \"NuAg9+TcTQQqvQCTtkCneRrpkTiMhhfiq0KHiBzx8ECiKiLWXHN6i6ia3q7b3eHu\", \"https://cdn.bokeh.org/bokeh/release/bokeh-tables-2.1.0.min.js\": \"uMVqQc8JqHitD67bXTn9a06Mrk3EiHRaZ18EJENQenAKJ/KL71SakdXYomZQpGRr\", \"https://cdn.bokeh.org/bokeh/release/bokeh-gl-2.1.0.min.js\": \"u+eGuEXC8aw0VSCm2mH+b/tQEAitUOYiR1H6SuIVEdUmXsf4vN8m/SmXpmjb7U/X\"};\n\n    for (var i = 0; i < js_urls.length; i++) {\n      var url = js_urls[i];\n      var element = document.createElement('script');\n      element.onload = on_load;\n      element.onerror = on_error;\n      element.async = false;\n      element.src = url;\n      if (url in hashes) {\n        element.crossOrigin = \"anonymous\";\n        element.integrity = \"sha384-\" + hashes[url];\n      }\n      console.debug(\"Bokeh: injecting script tag for BokehJS library: \", url);\n      document.head.appendChild(element);\n    }\n  };\n\n  function inject_raw_css(css) {\n    const element = document.createElement(\"style\");\n    element.appendChild(document.createTextNode(css));\n    document.body.appendChild(element);\n  }\n\n  \n  var js_urls = [\"https://cdn.bokeh.org/bokeh/release/bokeh-2.1.0.min.js\", \"https://cdn.bokeh.org/bokeh/release/bokeh-widgets-2.1.0.min.js\", \"https://cdn.bokeh.org/bokeh/release/bokeh-tables-2.1.0.min.js\", \"https://cdn.bokeh.org/bokeh/release/bokeh-gl-2.1.0.min.js\", \"https://unpkg.com/@holoviz/panel@^0.9.5/dist/panel.min.js\"];\n  var css_urls = [];\n  \n\n  var inline_js = [\n    function(Bokeh) {\n      inject_raw_css(\"table.panel-df {\\n    margin-left: auto;\\n    margin-right: auto;\\n    border: none;\\n    border-collapse: collapse;\\n    border-spacing: 0;\\n    color: black;\\n    font-size: 12px;\\n    table-layout: fixed;\\n    width: 100%;\\n}\\n\\n.panel-df tr, th, td {\\n    text-align: right;\\n    vertical-align: middle;\\n    padding: 0.5em 0.5em !important;\\n    line-height: normal;\\n    white-space: normal;\\n    max-width: none;\\n    border: none;\\n}\\n\\n.panel-df tbody {\\n    display: table-row-group;\\n    vertical-align: middle;\\n    border-color: inherit;\\n}\\n\\n.panel-df tbody tr:nth-child(odd) {\\n    background: #f5f5f5;\\n}\\n\\n.panel-df thead {\\n    border-bottom: 1px solid black;\\n    vertical-align: bottom;\\n}\\n\\n.panel-df tr:hover {\\n    background: lightblue !important;\\n    cursor: pointer;\\n}\\n\");\n    },\n    function(Bokeh) {\n      inject_raw_css(\".json-formatter-row {\\n  font-family: monospace;\\n}\\n.json-formatter-row,\\n.json-formatter-row a,\\n.json-formatter-row a:hover {\\n  color: black;\\n  text-decoration: none;\\n}\\n.json-formatter-row .json-formatter-row {\\n  margin-left: 1rem;\\n}\\n.json-formatter-row .json-formatter-children.json-formatter-empty {\\n  opacity: 0.5;\\n  margin-left: 1rem;\\n}\\n.json-formatter-row .json-formatter-children.json-formatter-empty:after {\\n  display: none;\\n}\\n.json-formatter-row .json-formatter-children.json-formatter-empty.json-formatter-object:after {\\n  content: \\\"No properties\\\";\\n}\\n.json-formatter-row .json-formatter-children.json-formatter-empty.json-formatter-array:after {\\n  content: \\\"[]\\\";\\n}\\n.json-formatter-row .json-formatter-string,\\n.json-formatter-row .json-formatter-stringifiable {\\n  color: green;\\n  white-space: pre;\\n  word-wrap: break-word;\\n}\\n.json-formatter-row .json-formatter-number {\\n  color: blue;\\n}\\n.json-formatter-row .json-formatter-boolean {\\n  color: red;\\n}\\n.json-formatter-row .json-formatter-null {\\n  color: #855A00;\\n}\\n.json-formatter-row .json-formatter-undefined {\\n  color: #ca0b69;\\n}\\n.json-formatter-row .json-formatter-function {\\n  color: #FF20ED;\\n}\\n.json-formatter-row .json-formatter-date {\\n  background-color: rgba(0, 0, 0, 0.05);\\n}\\n.json-formatter-row .json-formatter-url {\\n  text-decoration: underline;\\n  color: blue;\\n  cursor: pointer;\\n}\\n.json-formatter-row .json-formatter-bracket {\\n  color: blue;\\n}\\n.json-formatter-row .json-formatter-key {\\n  color: #00008B;\\n  padding-right: 0.2rem;\\n}\\n.json-formatter-row .json-formatter-toggler-link {\\n  cursor: pointer;\\n}\\n.json-formatter-row .json-formatter-toggler {\\n  line-height: 1.2rem;\\n  font-size: 0.7rem;\\n  vertical-align: middle;\\n  opacity: 0.6;\\n  cursor: pointer;\\n  padding-right: 0.2rem;\\n}\\n.json-formatter-row .json-formatter-toggler:after {\\n  display: inline-block;\\n  transition: transform 100ms ease-in;\\n  content: \\\"\\\\25BA\\\";\\n}\\n.json-formatter-row > a > .json-formatter-preview-text {\\n  opacity: 0;\\n  transition: opacity 0.15s ease-in;\\n  font-style: italic;\\n}\\n.json-formatter-row:hover > a > .json-formatter-preview-text {\\n  opacity: 0.6;\\n}\\n.json-formatter-row.json-formatter-open > .json-formatter-toggler-link .json-formatter-toggler:after {\\n  transform: rotate(90deg);\\n}\\n.json-formatter-row.json-formatter-open > .json-formatter-children:after {\\n  display: inline-block;\\n}\\n.json-formatter-row.json-formatter-open > a > .json-formatter-preview-text {\\n  display: none;\\n}\\n.json-formatter-row.json-formatter-open.json-formatter-empty:after {\\n  display: block;\\n}\\n.json-formatter-dark.json-formatter-row {\\n  font-family: monospace;\\n}\\n.json-formatter-dark.json-formatter-row,\\n.json-formatter-dark.json-formatter-row a,\\n.json-formatter-dark.json-formatter-row a:hover {\\n  color: white;\\n  text-decoration: none;\\n}\\n.json-formatter-dark.json-formatter-row .json-formatter-row {\\n  margin-left: 1rem;\\n}\\n.json-formatter-dark.json-formatter-row .json-formatter-children.json-formatter-empty {\\n  opacity: 0.5;\\n  margin-left: 1rem;\\n}\\n.json-formatter-dark.json-formatter-row .json-formatter-children.json-formatter-empty:after {\\n  display: none;\\n}\\n.json-formatter-dark.json-formatter-row .json-formatter-children.json-formatter-empty.json-formatter-object:after {\\n  content: \\\"No properties\\\";\\n}\\n.json-formatter-dark.json-formatter-row .json-formatter-children.json-formatter-empty.json-formatter-array:after {\\n  content: \\\"[]\\\";\\n}\\n.json-formatter-dark.json-formatter-row .json-formatter-string,\\n.json-formatter-dark.json-formatter-row .json-formatter-stringifiable {\\n  color: #31F031;\\n  white-space: pre;\\n  word-wrap: break-word;\\n}\\n.json-formatter-dark.json-formatter-row .json-formatter-number {\\n  color: #66C2FF;\\n}\\n.json-formatter-dark.json-formatter-row .json-formatter-boolean {\\n  color: #EC4242;\\n}\\n.json-formatter-dark.json-formatter-row .json-formatter-null {\\n  color: #EEC97D;\\n}\\n.json-formatter-dark.json-formatter-row .json-formatter-undefined {\\n  color: #ef8fbe;\\n}\\n.json-formatter-dark.json-formatter-row .json-formatter-function {\\n  color: #FD48CB;\\n}\\n.json-formatter-dark.json-formatter-row .json-formatter-date {\\n  background-color: rgba(255, 255, 255, 0.05);\\n}\\n.json-formatter-dark.json-formatter-row .json-formatter-url {\\n  text-decoration: underline;\\n  color: #027BFF;\\n  cursor: pointer;\\n}\\n.json-formatter-dark.json-formatter-row .json-formatter-bracket {\\n  color: #9494FF;\\n}\\n.json-formatter-dark.json-formatter-row .json-formatter-key {\\n  color: #23A0DB;\\n  padding-right: 0.2rem;\\n}\\n.json-formatter-dark.json-formatter-row .json-formatter-toggler-link {\\n  cursor: pointer;\\n}\\n.json-formatter-dark.json-formatter-row .json-formatter-toggler {\\n  line-height: 1.2rem;\\n  font-size: 0.7rem;\\n  vertical-align: middle;\\n  opacity: 0.6;\\n  cursor: pointer;\\n  padding-right: 0.2rem;\\n}\\n.json-formatter-dark.json-formatter-row .json-formatter-toggler:after {\\n  display: inline-block;\\n  transition: transform 100ms ease-in;\\n  content: \\\"\\\\25BA\\\";\\n}\\n.json-formatter-dark.json-formatter-row > a > .json-formatter-preview-text {\\n  opacity: 0;\\n  transition: opacity 0.15s ease-in;\\n  font-style: italic;\\n}\\n.json-formatter-dark.json-formatter-row:hover > a > .json-formatter-preview-text {\\n  opacity: 0.6;\\n}\\n.json-formatter-dark.json-formatter-row.json-formatter-open > .json-formatter-toggler-link .json-formatter-toggler:after {\\n  transform: rotate(90deg);\\n}\\n.json-formatter-dark.json-formatter-row.json-formatter-open > .json-formatter-children:after {\\n  display: inline-block;\\n}\\n.json-formatter-dark.json-formatter-row.json-formatter-open > a > .json-formatter-preview-text {\\n  display: none;\\n}\\n.json-formatter-dark.json-formatter-row.json-formatter-open.json-formatter-empty:after {\\n  display: block;\\n}\\n\");\n    },\n    function(Bokeh) {\n      inject_raw_css(\".codehilite .hll { background-color: #ffffcc }\\n.codehilite  { background: #f8f8f8; }\\n.codehilite .c { color: #408080; font-style: italic } /* Comment */\\n.codehilite .err { border: 1px solid #FF0000 } /* Error */\\n.codehilite .k { color: #008000; font-weight: bold } /* Keyword */\\n.codehilite .o { color: #666666 } /* Operator */\\n.codehilite .ch { color: #408080; font-style: italic } /* Comment.Hashbang */\\n.codehilite .cm { color: #408080; font-style: italic } /* Comment.Multiline */\\n.codehilite .cp { color: #BC7A00 } /* Comment.Preproc */\\n.codehilite .cpf { color: #408080; font-style: italic } /* Comment.PreprocFile */\\n.codehilite .c1 { color: #408080; font-style: italic } /* Comment.Single */\\n.codehilite .cs { color: #408080; font-style: italic } /* Comment.Special */\\n.codehilite .gd { color: #A00000 } /* Generic.Deleted */\\n.codehilite .ge { font-style: italic } /* Generic.Emph */\\n.codehilite .gr { color: #FF0000 } /* Generic.Error */\\n.codehilite .gh { color: #000080; font-weight: bold } /* Generic.Heading */\\n.codehilite .gi { color: #00A000 } /* Generic.Inserted */\\n.codehilite .go { color: #888888 } /* Generic.Output */\\n.codehilite .gp { color: #000080; font-weight: bold } /* Generic.Prompt */\\n.codehilite .gs { font-weight: bold } /* Generic.Strong */\\n.codehilite .gu { color: #800080; font-weight: bold } /* Generic.Subheading */\\n.codehilite .gt { color: #0044DD } /* Generic.Traceback */\\n.codehilite .kc { color: #008000; font-weight: bold } /* Keyword.Constant */\\n.codehilite .kd { color: #008000; font-weight: bold } /* Keyword.Declaration */\\n.codehilite .kn { color: #008000; font-weight: bold } /* Keyword.Namespace */\\n.codehilite .kp { color: #008000 } /* Keyword.Pseudo */\\n.codehilite .kr { color: #008000; font-weight: bold } /* Keyword.Reserved */\\n.codehilite .kt { color: #B00040 } /* Keyword.Type */\\n.codehilite .m { color: #666666 } /* Literal.Number */\\n.codehilite .s { color: #BA2121 } /* Literal.String */\\n.codehilite .na { color: #7D9029 } /* Name.Attribute */\\n.codehilite .nb { color: #008000 } /* Name.Builtin */\\n.codehilite .nc { color: #0000FF; font-weight: bold } /* Name.Class */\\n.codehilite .no { color: #880000 } /* Name.Constant */\\n.codehilite .nd { color: #AA22FF } /* Name.Decorator */\\n.codehilite .ni { color: #999999; font-weight: bold } /* Name.Entity */\\n.codehilite .ne { color: #D2413A; font-weight: bold } /* Name.Exception */\\n.codehilite .nf { color: #0000FF } /* Name.Function */\\n.codehilite .nl { color: #A0A000 } /* Name.Label */\\n.codehilite .nn { color: #0000FF; font-weight: bold } /* Name.Namespace */\\n.codehilite .nt { color: #008000; font-weight: bold } /* Name.Tag */\\n.codehilite .nv { color: #19177C } /* Name.Variable */\\n.codehilite .ow { color: #AA22FF; font-weight: bold } /* Operator.Word */\\n.codehilite .w { color: #bbbbbb } /* Text.Whitespace */\\n.codehilite .mb { color: #666666 } /* Literal.Number.Bin */\\n.codehilite .mf { color: #666666 } /* Literal.Number.Float */\\n.codehilite .mh { color: #666666 } /* Literal.Number.Hex */\\n.codehilite .mi { color: #666666 } /* Literal.Number.Integer */\\n.codehilite .mo { color: #666666 } /* Literal.Number.Oct */\\n.codehilite .sa { color: #BA2121 } /* Literal.String.Affix */\\n.codehilite .sb { color: #BA2121 } /* Literal.String.Backtick */\\n.codehilite .sc { color: #BA2121 } /* Literal.String.Char */\\n.codehilite .dl { color: #BA2121 } /* Literal.String.Delimiter */\\n.codehilite .sd { color: #BA2121; font-style: italic } /* Literal.String.Doc */\\n.codehilite .s2 { color: #BA2121 } /* Literal.String.Double */\\n.codehilite .se { color: #BB6622; font-weight: bold } /* Literal.String.Escape */\\n.codehilite .sh { color: #BA2121 } /* Literal.String.Heredoc */\\n.codehilite .si { color: #BB6688; font-weight: bold } /* Literal.String.Interpol */\\n.codehilite .sx { color: #008000 } /* Literal.String.Other */\\n.codehilite .sr { color: #BB6688 } /* Literal.String.Regex */\\n.codehilite .s1 { color: #BA2121 } /* Literal.String.Single */\\n.codehilite .ss { color: #19177C } /* Literal.String.Symbol */\\n.codehilite .bp { color: #008000 } /* Name.Builtin.Pseudo */\\n.codehilite .fm { color: #0000FF } /* Name.Function.Magic */\\n.codehilite .vc { color: #19177C } /* Name.Variable.Class */\\n.codehilite .vg { color: #19177C } /* Name.Variable.Global */\\n.codehilite .vi { color: #19177C } /* Name.Variable.Instance */\\n.codehilite .vm { color: #19177C } /* Name.Variable.Magic */\\n.codehilite .il { color: #666666 } /* Literal.Number.Integer.Long */\\n\\n.markdown h1 { margin-block-start: 0.34em }\\n.markdown h2 { margin-block-start: 0.42em }\\n.markdown h3 { margin-block-start: 0.5em }\\n.markdown h4 { margin-block-start: 0.67em }\\n.markdown h5 { margin-block-start: 0.84em }\\n.markdown h6 { margin-block-start: 1.17em }\\n.markdown ul { padding-inline-start: 2em }\\n.markdown ol { padding-inline-start: 2em }\\n.markdown strong { font-weight: 600 }\\n.markdown a { color: -webkit-link }\\n.markdown a { color: -moz-hyperlinkText }\\n\");\n    },\n    function(Bokeh) {\n      inject_raw_css(\".widget-box {\\n\\tmin-height: 20px;\\n\\tbackground-color: #f5f5f5;\\n\\tborder: 1px solid #e3e3e3 !important;\\n\\tborder-radius: 4px;\\n\\t-webkit-box-shadow: inset 0 1px 1px rgba(0,0,0,.05);\\n\\tbox-shadow: inset 0 1px 1px rgba(0,0,0,.05);\\n\\toverflow-x: hidden;\\n\\toverflow-y: hidden;\\n}\\n\\n.scrollable {\\n  overflow: scroll;\\n}\\n\\nprogress {\\n\\tappearance: none;\\n\\t-moz-appearance: none;\\n\\t-webkit-appearance: none;\\n\\n\\tborder: none;\\n\\theight: 20px;\\n\\tbackground-color: whiteSmoke;\\n\\tborder-radius: 3px;\\n\\tbox-shadow: 0 2px 3px rgba(0,0,0,.5) inset;\\n\\tcolor: royalblue;\\n\\tposition: relative;\\n\\tmargin: 0 0 1.5em;\\n}\\n\\nprogress[value]::-webkit-progress-bar {\\n\\tbackground-color: whiteSmoke;\\n\\tborder-radius: 3px;\\n\\tbox-shadow: 0 2px 3px rgba(0,0,0,.5) inset;\\n}\\n\\nprogress[value]::-webkit-progress-value {\\n\\tposition: relative;\\n\\n\\tbackground-size: 35px 20px, 100% 100%, 100% 100%;\\n\\tborder-radius:3px;\\n}\\n\\nprogress.active:not([value])::before {\\n\\tbackground-position: 10%;\\n\\tanimation-name: stripes;\\n\\tanimation-duration: 3s;\\n\\tanimation-timing-function: linear;\\n\\tanimation-iteration-count: infinite;\\n}\\n\\nprogress[value]::-moz-progress-bar {\\n\\tbackground-size: 35px 20px, 100% 100%, 100% 100%;\\n\\tborder-radius:3px;\\n}\\n\\nprogress:not([value])::-moz-progress-bar {\\n\\tborder-radius:3px;\\n\\tbackground:\\n\\tlinear-gradient(-45deg, transparent 33%, rgba(0, 0, 0, 0.2) 33%, rgba(0, 0, 0, 0.2) 66%, transparent 66%) left/2.5em 1.5em;\\n\\n}\\n\\nprogress.active:not([value])::-moz-progress-bar {\\n\\tbackground-position: 10%;\\n\\tanimation-name: stripes;\\n\\tanimation-duration: 3s;\\n\\tanimation-timing-function: linear;\\n\\tanimation-iteration-count: infinite;\\n}\\n\\nprogress.active:not([value])::-webkit-progress-bar {\\n\\tbackground-position: 10%;\\n\\tanimation-name: stripes;\\n\\tanimation-duration: 3s;\\n\\tanimation-timing-function: linear;\\n\\tanimation-iteration-count: infinite;\\n}\\n\\nprogress.primary[value]::-webkit-progress-value { background-color: #007bff; }\\nprogress.primary:not([value])::before { background-color: #007bff; }\\nprogress.primary:not([value])::-webkit-progress-bar { background-color: #007bff; }\\nprogress.primary::-moz-progress-bar { background-color: #007bff; }\\n\\nprogress.secondary[value]::-webkit-progress-value { background-color: #6c757d; }\\nprogress.secondary:not([value])::before { background-color: #6c757d; }\\nprogress.secondary:not([value])::-webkit-progress-bar { background-color: #6c757d; }\\nprogress.secondary::-moz-progress-bar { background-color: #6c757d; }\\n\\nprogress.success[value]::-webkit-progress-value { background-color: #28a745; }\\nprogress.success:not([value])::before { background-color: #28a745; }\\nprogress.success:not([value])::-webkit-progress-bar { background-color: #28a745; }\\nprogress.success::-moz-progress-bar { background-color: #28a745; }\\n\\nprogress.danger[value]::-webkit-progress-value { background-color: #dc3545; }\\nprogress.danger:not([value])::before { background-color: #dc3545; }\\nprogress.danger:not([value])::-webkit-progress-bar { background-color: #dc3545; }\\nprogress.danger::-moz-progress-bar { background-color: #dc3545; }\\n\\nprogress.warning[value]::-webkit-progress-value { background-color: #ffc107; }\\nprogress.warning:not([value])::before { background-color: #ffc107; }\\nprogress.warning:not([value])::-webkit-progress-bar { background-color: #ffc107; }\\nprogress.warning::-moz-progress-bar { background-color: #ffc107; }\\n\\nprogress.info[value]::-webkit-progress-value { background-color: #17a2b8; }\\nprogress.info:not([value])::before { background-color: #17a2b8; }\\nprogress.info:not([value])::-webkit-progress-bar { background-color: #17a2b8; }\\nprogress.info::-moz-progress-bar { background-color: #17a2b8; }\\n\\nprogress.light[value]::-webkit-progress-value { background-color: #f8f9fa; }\\nprogress.light:not([value])::before { background-color: #f8f9fa; }\\nprogress.light:not([value])::-webkit-progress-bar { background-color: #f8f9fa; }\\nprogress.light::-moz-progress-bar { background-color: #f8f9fa; }\\n\\nprogress.dark[value]::-webkit-progress-value { background-color: #343a40; }\\nprogress.dark:not([value])::-webkit-progress-bar { background-color: #343a40; }\\nprogress.dark:not([value])::before { background-color: #343a40; }\\nprogress.dark::-moz-progress-bar { background-color: #343a40; }\\n\\nprogress:not([value])::-webkit-progress-bar {\\n\\tborder-radius: 3px;\\n\\tbackground:\\n\\tlinear-gradient(-45deg, transparent 33%, rgba(0, 0, 0, 0.2) 33%, rgba(0, 0, 0, 0.2) 66%, transparent 66%) left/2.5em 1.5em;\\n}\\nprogress:not([value])::before {\\n\\tcontent:\\\" \\\";\\n\\tposition:absolute;\\n\\theight: 20px;\\n\\ttop:0;\\n\\tleft:0;\\n\\tright:0;\\n\\tbottom:0;\\n\\tborder-radius: 3px;\\n\\tbackground:\\n\\tlinear-gradient(-45deg, transparent 33%, rgba(0, 0, 0, 0.2) 33%, rgba(0, 0, 0, 0.2) 66%, transparent 66%) left/2.5em 1.5em;\\n}\\n\\n@keyframes stripes {\\n  from {background-position: 0%}\\n  to {background-position: 100%}\\n}\");\n    },\n    function(Bokeh) {\n      Bokeh.set_log_level(\"info\");\n    },\n    function(Bokeh) {\n    \n    \n    }\n  ];\n\n  function run_inline_js() {\n    \n    if (root.Bokeh !== undefined || force === true) {\n      \n    for (var i = 0; i < inline_js.length; i++) {\n      inline_js[i].call(root, root.Bokeh);\n    }\n    if (force === true) {\n        display_loaded();\n      }} else if (Date.now() < root._bokeh_timeout) {\n      setTimeout(run_inline_js, 100);\n    } else if (!root._bokeh_failed_load) {\n      console.log(\"Bokeh: BokehJS failed to load within specified timeout.\");\n      root._bokeh_failed_load = true;\n    } else if (force !== true) {\n      var cell = $(document.getElementById(\"1143\")).parents('.cell').data().cell;\n      cell.output_area.append_execute_result(NB_LOAD_WARNING)\n    }\n\n  }\n\n  if (root._bokeh_is_loading === 0) {\n    console.debug(\"Bokeh: BokehJS loaded, going straight to plotting\");\n    run_inline_js();\n  } else {\n    load_libs(css_urls, js_urls, function() {\n      console.debug(\"Bokeh: BokehJS plotting callback run at\", now());\n      run_inline_js();\n    });\n  }\n}(window));"
     },
     "metadata": {},
     "output_type": "display_data"
    },
    {
     "data": {
      "text/html": [
       "\n",
       "\n",
       "\n",
       "\n",
       "\n",
       "\n",
       "  <div class=\"bk-root\" id=\"8dd1fe20-098b-4755-82d8-7b0e9666ff6c\" data-root-id=\"1105\"></div>\n"
      ]
     },
     "metadata": {},
     "output_type": "display_data"
    },
    {
     "data": {
      "application/javascript": [
       "(function(root) {\n",
       "  function embed_document(root) {\n",
       "    \n",
       "  var docs_json = {\"525897b4-c174-49b0-a524-1700445de6c9\":{\"roots\":{\"references\":[{\"attributes\":{\"background_fill_color\":\"white\",\"below\":[{\"id\":\"1114\"}],\"center\":[{\"id\":\"1117\"},{\"id\":\"1121\"}],\"left\":[{\"id\":\"1118\"}],\"plot_height\":800,\"plot_width\":800,\"renderers\":[{\"id\":\"1141\"}],\"title\":{\"id\":\"1153\"},\"toolbar\":{\"id\":\"1130\"},\"x_range\":{\"id\":\"1106\"},\"x_scale\":{\"id\":\"1110\"},\"y_range\":{\"id\":\"1108\"},\"y_scale\":{\"id\":\"1112\"}},\"id\":\"1105\",\"subtype\":\"Figure\",\"type\":\"Plot\"},{\"attributes\":{},\"id\":\"1155\",\"type\":\"BasicTickFormatter\"},{\"attributes\":{},\"id\":\"1127\",\"type\":\"HelpTool\"},{\"attributes\":{\"callback\":null,\"tooltips\":[[\"index\",\"@index\"],[\"label\",\"@label\"],[\"item\",\"@item\"]]},\"id\":\"1129\",\"type\":\"HoverTool\"},{\"attributes\":{},\"id\":\"1160\",\"type\":\"UnionRenderers\"},{\"attributes\":{\"axis\":{\"id\":\"1118\"},\"dimension\":1,\"ticker\":null,\"visible\":false},\"id\":\"1121\",\"type\":\"Grid\"},{\"attributes\":{},\"id\":\"1123\",\"type\":\"WheelZoomTool\"},{\"attributes\":{\"fill_alpha\":{\"field\":\"alpha\"},\"fill_color\":{\"field\":\"color\"},\"line_alpha\":{\"field\":\"alpha\"},\"line_color\":{\"field\":\"color\"},\"size\":{\"units\":\"screen\",\"value\":5},\"x\":{\"field\":\"x\"},\"y\":{\"field\":\"y\"}},\"id\":\"1139\",\"type\":\"Circle\"},{\"attributes\":{},\"id\":\"1122\",\"type\":\"PanTool\"},{\"attributes\":{},\"id\":\"1108\",\"type\":\"DataRange1d\"},{\"attributes\":{},\"id\":\"1126\",\"type\":\"ResetTool\"},{\"attributes\":{\"data_source\":{\"id\":\"1104\"},\"glyph\":{\"id\":\"1139\"},\"hover_glyph\":null,\"muted_glyph\":null,\"nonselection_glyph\":{\"id\":\"1140\"},\"selection_glyph\":null,\"view\":{\"id\":\"1142\"}},\"id\":\"1141\",\"type\":\"GlyphRenderer\"},{\"attributes\":{\"source\":{\"id\":\"1104\"}},\"id\":\"1142\",\"type\":\"CDSView\"},{\"attributes\":{\"formatter\":{\"id\":\"1155\"},\"ticker\":{\"id\":\"1115\"},\"visible\":false},\"id\":\"1114\",\"type\":\"LinearAxis\"},{\"attributes\":{},\"id\":\"1125\",\"type\":\"SaveTool\"},{\"attributes\":{\"bottom_units\":\"screen\",\"fill_alpha\":0.5,\"fill_color\":\"lightgrey\",\"left_units\":\"screen\",\"level\":\"overlay\",\"line_alpha\":1.0,\"line_color\":\"black\",\"line_dash\":[4,4],\"line_width\":2,\"right_units\":\"screen\",\"top_units\":\"screen\"},\"id\":\"1128\",\"type\":\"BoxAnnotation\"},{\"attributes\":{\"data\":{\"alpha\":[1,1,1,1,1,1,1,1,1,1,1,1,1,1,1,1,1,1,1,1,1,1,1,1,1,1,1,1,1,1,1,1,1,1,1,1,1,1,1,1,1,1,1,1,1,1,1,1,1,1,1,1,1,1,1,1,1,1,1,1,1,1,1,1,1,1,1,1,1,1,1,1,1,1,1,1,1,1,1,1,1,1,1,1,1,1,1,1,1,1,1,1,1,1,1,1,1,1,1,1,1,1,1,1,1,1,1,1,1,1,1,1,1,1,1,1,1,1,1,1,1,1,1,1,1,1,1,1,1,1,1,1,1,1,1,1,1,1,1,1,1,1,1,1,1,1,1,1,1,1,1,1,1,1,1,1,1,1,1,1,1,1,1,1,1,1,1,1,1,1,1,1,1,1,1,1,1,1,1,1,1,1,1,1,1,1,1,1,1,1,1,1,1,1,1,1,1,1,1,1,1,1,1,1,1,1,1,1,1,1,1,1,1,1,1,1,1,1,1,1,1,1,1,1,1,1,1,1,1,1,1,1,1,1,1,1,1,1,1,1,1,1,1,1,1,1,1,1,1,1,1,1,1,1,1,1,1,1,1,1,1,1,1,1,1,1,1,1,1,1,1,1,1,1,1,1,1,1,1,1,1,1,1,1,1,1,1,1,1,1,1,1,1,1,1,1,1,1,1,1,1,1,1,1,1,1,1,1,1,1,1,1,1,1,1,1,1,1,1,1,1,1,1,1,1,1,1,1,1,1,1,1,1,1,1,1,1,1,1,1,1,1,1,1,1,1,1,1,1,1,1,1,1,1,1,1,1,1,1,1,1,1,1,1,1,1,1,1,1,1,1,1,1,1,1,1,1,1,1,1,1,1,1,1,1,1,1,1,1,1,1,1,1,1,1,1,1,1,1,1,1,1,1,1,1,1,1,1,1,1,1,1,1,1,1,1,1,1,1,1,1,1,1,1,1,1,1,1,1,1,1,1,1,1,1,1,1,1,1,1,1,1,1,1,1,1,1,1,1,1,1,1,1,1,1,1,1,1,1,1,1,1,1,1,1,1,1,1,1,1,1,1,1,1,1,1,1,1,1,1,1,1,1,1,1,1,1,1,1,1,1,1,1,1,1,1,1,1,1,1,1,1,1,1,1,1,1,1,1,1,1,1,1,1,1,1,1,1,1,1,1,1,1,1,1,1,1,1,1,1,1,1,1,1,1,1,1,1,1,1,1,1,1,1,1,1,1,1,1,1,1,1,1,1,1,1,1,1,1,1,1,1,1,1,1,1,1,1,1,1,1,1,1,1,1,1,1,1,1,1,1,1,1,1,1,1,1,1,1,1,1,1,1,1,1,1,1,1,1,1,1,1,1,1,1,1,1,1,1,1,1,1,1,1,1,1,1,1,1,1,1,1,1,1,1,1,1,1,1,1,1,1,1,1,1,1,1,1,1,1,1,1,1,1,1,1,1,1,1,1,1,1,1,1,1,1,1,1,1,1,1,1,1,1,1,1,1,1,1,1,1,1,1,1,1,1,1,1,1,1,1,1,1,1,1,1,1,1,1,1,1,1,1,1,1,1,1,1,1,1,1,1,1,1,1,1,1,1,1,1,1,1,1,1,1,1,1,1,1,1,1,1,1,1,1,1,1,1,1,1,1,1,1,1,1,1,1,1,1,1,1,1,1,1,1,1,1,1,1,1,1,1,1,1,1,1,1,1,1,1,1,1,1,1,1,1,1,1,1,1,1,1,1,1,1,1,1,1,1,1,1,1,1,1,1,1,1,1,1,1,1,1,1,1,1,1,1,1,1,1,1,1,1,1,1,1,1,1,1,1,1,1,1,1,1,1,1,1,1,1,1,1,1,1,1,1,1,1,1,1,1,1,1,1,1,1,1,1,1,1,1,1,1,1,1,1,1,1,1,1,1,1,1,1,1,1,1,1,1,1,1,1,1,1,1,1,1,1,1,1,1,1,1,1,1,1,1,1,1,1,1,1,1,1,1,1,1,1,1,1,1,1,1,1,1,1,1,1,1,1,1,1,1,1,1,1,1,1,1,1,1,1,1,1,1,1,1,1,1,1,1,1,1,1,1,1,1,1,1,1,1,1,1,1,1,1,1,1,1,1,1,1,1,1,1,1,1,1,1,1,1,1,1,1,1,1,1,1,1,1,1,1,1,1,1,1,1,1,1,1,1,1,1,1,1,1,1,1,1,1,1,1,1,1,1,1,1,1,1,1,1,1,1,1,1,1,1,1,1,1,1,1,1,1,1,1,1,1,1,1,1,1,1,1,1,1,1,1,1,1,1,1,1,1,1,1,1,1,1,1,1,1,1,1,1,1,1,1,1,1,1,1,1,1,1,1,1,1,1,1,1,1,1,1,1,1,1,1,1,1,1,1,1,1,1,1,1,1,1,1,1,1,1,1,1,1,1,1,1,1,1,1,1,1,1,1,1,1,1,1,1,1,1,1,1,1,1,1,1,1,1,1,1,1,1,1,1,1,1,1,1,1,1,1,1,1,1,1,1,1,1,1,1,1,1,1,1,1,1,1,1,1,1,1,1,1,1,1,1,1,1,1,1,1,1,1,1,1,1,1,1,1,1,1,1,1,1,1,1,1,1,1,1,1,1,1,1,1,1,1,1,1,1,1,1,1,1,1,1,1,1,1,1,1,1,1,1,1,1,1,1,1,1,1,1,1,1,1,1,1,1,1,1,1,1,1,1,1,1,1,1,1,1,1,1,1,1,1,1,1,1,1,1,1,1,1,1,1,1,1,1,1,1,1,1,1,1,1,1,1,1,1,1,1,1,1,1,1,1,1,1,1,1,1,1,1,1,1,1,1,1,1,1,1,1,1,1,1,1,1,1,1,1,1,1,1,1,1,1,1,1,1,1,1,1,1,1,1,1,1,1,1,1,1,1,1,1,1,1,1,1,1,1,1,1,1,1,1,1,1,1,1,1,1,1,1,1,1,1,1,1,1,1,1,1,1,1,1,1,1,1,1,1,1,1,1,1,1,1,1,1,1,1,1,1,1,1,1,1,1,1,1,1,1,1,1,1,1,1,1,1,1,1,1,1,1,1,1,1,1,1,1,1,1,1,1,1,1,1,1,1,1,1,1,1,1,1,1,1,1,1,1,1,1,1,1,1,1,1,1,1,1,1,1,1,1,1,1,1,1,1,1,1,1,1,1,1,1,1,1,1,1,1,1,1,1,1,1,1,1,1,1,1,1,1,1,1,1,1,1,1,1,1,1,1,1,1,1,1,1,1,1,1,1,1,1,1,1,1,1,1,1,1,1,1,1,1,1,1,1,1,1,1,1,1,1,1,1,1,1,1,1,1,1,1,1,1,1,1,1,1,1,1,1,1,1,1,1,1,1,1,1,1,1,1,1,1,1,1,1,1,1,1,1,1,1,1,1,1,1,1,1,1,1,1,1,1,1,1,1,1,1,1,1,1,1,1,1,1,1,1,1,1,1,1,1,1,1,1,1,1,1,1,1,1,1,1,1,1,1,1,1,1,1,1,1,1,1,1,1,1,1,1,1,1,1,1,1,1,1,1,1,1,1,1,1,1,1,1,1,1,1,1,1,1,1,1,1,1,1,1,1,1,1,1,1,1,1,1,1,1,1,1,1,1,1,1,1,1,1,1,1,1,1,1,1,1,1,1,1,1,1,1,1,1,1,1,1,1,1,1,1,1,1,1,1,1,1,1,1,1,1,1,1,1,1,1,1,1,1,1,1,1,1,1,1,1,1,1,1,1,1,1,1,1,1,1,1,1,1,1,1,1,1,1,1,1,1,1,1,1,1,1,1,1,1,1,1,1,1,1,1,1,1,1,1,1,1,1,1,1,1,1,1,1,1,1,1,1,1,1,1,1,1,1,1,1,1,1,1,1,1,1,1,1,1,1,1,1,1,1,1,1,1,1,1,1,1,1,1,1,1,1,1,1,1,1,1,1,1,1,1,1,1,1,1,1,1,1,1,1,1,1,1,1,1,1,1,1,1,1,1,1,1,1,1,1,1,1,1,1,1,1,1,1,1,1,1,1,1,1,1,1,1,1,1,1,1,1,1,1,1,1,1,1,1,1,1,1,1,1,1,1,1,1,1,1,1,1,1,1,1,1,1,1,1,1,1,1,1,1,1,1,1,1,1,1,1,1,1,1,1,1,1,1,1,1,1,1,1,1,1,1,1,1,1,1,1,1,1,1,1,1,1,1,1,1,1,1,1,1,1,1,1,1,1,1,1,1,1,1,1,1,1,1,1,1,1,1,1,1,1,1,1,1,1,1,1,1,1,1,1,1,1,1,1,1,1,1,1,1,1,1,1,1,1,1,1,1,1,1,1,1,1,1,1,1,1,1,1,1,1,1,1,1,1,1,1,1,1,1,1,1,1,1,1,1,1,1,1,1,1,1,1,1,1,1,1,1,1,1,1,1,1,1,1,1,1,1,1,1,1,1,1,1,1,1,1,1,1,1,1,1,1,1,1,1,1,1,1,1,1,1,1,1,1,1,1,1,1,1,1,1,1,1,1,1,1,1,1,1,1,1,1,1,1,1,1,1,1,1,1,1,1,1,1,1,1,1,1,1,1,1,1,1,1,1,1,1,1,1,1,1,1,1,1,1,1,1,1,1,1,1,1,1,1,1,1,1,1,1,1,1,1,1,1,1,1,1,1,1,1,1,1,1,1,1,1,1,1,1,1,1,1,1,1,1,1,1,1,1,1,1,1,1,1,1,1,1,1,1,1,1,1,1,1,1,1,1,1,1,1,1,1,1,1,1,1,1,1,1,1,1,1,1,1,1,1,1,1,1,1,1,1,1,1,1,1,1,1,1,1,1,1,1,1,1,1,1,1,1,1,1,1,1,1,1,1,1,1,1,1,1,1,1,1,1,1,1,1,1,1,1,1,1,1,1,1,1,1,1,1,1,1,1,1,1,1,1,1,1,1,1,1,1,1,1,1,1,1,1,1,1,1,1,1,1,1,1,1,1,1,1,1,1,1,1,1,1,1,1,1,1,1,1,1,1,1,1,1,1,1,1,1,1,1,1,1,1,1,1,1,1,1,1,1,1,1,1,1,1,1,1,1,1,1,1,1,1,1,1,1,1,1,1,1,1,1,1,1,1,1,1,1,1,1,1,1,1,1,1,1,1,1,1,1,1,1,1,1,1,1,1,1,1,1,1,1,1,1,1,1,1,1,1,1,1,1,1,1,1,1,1,1,1,1,1,1,1,1,1,1,1,1,1,1,1,1,1,1,1,1,1,1,1,1,1,1,1,1,1,1,1,1,1,1,1,1,1,1,1,1,1,1,1,1,1,1,1,1,1,1,1,1,1,1,1,1,1,1,1,1,1,1,1,1,1,1,1,1,1,1,1,1,1,1,1,1,1,1,1,1,1,1,1,1,1,1,1,1,1,1,1,1,1,1,1,1,1,1,1,1,1,1,1,1,1,1,1,1,1,1,1,1,1,1,1,1,1,1,1,1,1,1,1,1,1,1,1,1,1,1,1,1,1,1,1,1,1,1,1,1,1,1,1,1,1,1,1,1,1,1,1,1,1,1,1,1,1,1,1,1,1,1,1,1,1,1,1,1,1,1,1,1,1,1,1,1,1,1,1,1,1,1,1,1,1,1,1,1,1,1,1,1,1,1,1,1,1,1,1,1,1,1,1,1,1,1,1,1,1,1,1,1,1,1,1,1,1,1,1,1,1,1,1,1,1,1,1,1,1,1,1,1,1,1,1,1,1,1,1,1,1,1,1,1,1,1,1,1,1,1,1,1,1,1,1,1,1,1,1,1,1,1,1,1,1,1,1,1,1,1,1,1,1,1,1,1,1,1,1,1,1,1,1,1,1,1,1,1,1,1,1,1,1,1,1,1,1,1,1,1,1,1,1,1,1,1,1,1,1,1,1,1,1,1,1,1,1,1,1,1,1,1,1,1,1,1,1,1,1,1,1,1,1,1,1,1,1,1,1,1,1,1,1,1,1,1,1,1,1,1,1,1,1,1,1,1,1,1,1,1,1,1,1,1,1,1,1,1,1,1,1,1,1,1,1,1,1,1,1,1,1,1,1,1,1,1,1,1,1,1,1,1,1,1,1,1,1,1,1,1,1,1,1,1,1,1,1,1,1,1,1,1,1,1,1,1,1,1,1,1,1,1,1,1,1,1,1,1,1,1,1,1,1,1,1,1,1,1,1,1,1,1,1,1,1,1,1,1,1,1,1,1,1,1,1,1,1,1,1,1,1,1,1,1,1,1,1,1,1,1,1,1,1,1,1,1,1,1,1,1,1,1,1,1,1,1,1,1,1,1,1,1,1,1,1,1,1,1,1,1,1,1,1,1,1,1,1,1,1,1,1,1,1,1,1,1,1,1,1,1,1,1,1,1,1,1,1,1,1,1,1,1,1,1,1,1,1,1,1,1,1,1,1,1,1,1,1,1,1,1,1,1,1,1,1,1,1,1,1,1,1,1,1,1,1,1,1,1,1,1,1,1,1,1,1,1,1,1,1,1,1,1,1,1,1,1,1,1,1,1,1,1,1,1,1,1,1,1,1,1,1,1,1,1,1,1,1,1,1,1,1,1,1,1,1,1,1,1,1,1,1,1,1,1,1,1,1,1,1,1,1,1,1,1,1,1,1,1,1,1,1,1,1,1,1,1,1,1,1,1,1,1,1,1,1,1,1,1,1,1,1,1,1,1,1,1,1,1,1,1,1,1,1,1,1,1,1,1,1,1,1,1,1,1,1,1,1,1,1,1,1,1,1,1,1,1,1,1,1,1,1,1,1,1,1,1,1,1,1,1,1,1,1,1,1,1,1,1,1,1,1,1,1,1,1,1,1,1,1,1,1,1,1,1,1,1,1,1,1,1,1,1,1,1,1,1,1,1,1,1,1,1,1,1,1,1,1,1,1,1,1,1,1,1,1,1,1,1,1,1,1,1,1,1,1,1,1,1,1,1,1,1,1,1,1,1,1,1,1,1,1,1,1,1,1,1,1,1,1,1,1,1,1,1,1,1,1,1,1,1,1,1,1,1,1,1,1,1,1,1,1,1,1,1,1,1,1,1,1,1,1,1,1,1,1,1,1,1,1,1,1,1,1,1,1,1,1,1,1,1,1,1,1,1,1,1,1,1,1,1,1,1,1,1,1,1,1,1,1,1,1,1,1,1,1,1,1,1,1,1,1,1,1,1,1,1,1,1,1,1,1,1,1,1,1,1,1,1,1,1,1,1,1,1,1,1,1,1,1,1,1,1,1,1,1,1,1,1,1,1,1,1,1,1,1,1,1,1,1,1,1,1,1,1,1,1,1,1,1,1,1,1,1,1,1,1,1,1,1,1,1,1,1,1,1,1,1,1,1,1,1,1,1,1,1,1,1,1,1,1,1,1,1,1,1,1,1,1,1,1,1,1,1,1,1,1,1,1,1,1,1,1,1,1,1,1,1,1,1,1,1,1,1,1,1,1,1,1,1,1,1,1,1,1,1,1,1,1,1,1,1,1,1,1,1,1,1,1,1,1,1,1,1,1,1,1,1,1,1,1,1,1,1,1,1,1,1,1,1,1,1,1,1,1,1,1,1,1,1,1,1,1,1,1,1,1,1,1,1,1,1,1,1,1,1,1,1,1,1,1,1,1,1,1,1,1,1,1,1,1,1,1,1,1,1,1,1,1,1,1,1,1,1,1,1,1,1,1,1,1,1,1,1,1,1,1,1,1,1,1,1,1,1,1,1,1,1,1,1,1,1,1,1,1,1,1,1,1,1,1,1,1,1,1,1,1,1,1,1,1,1,1,1,1,1,1,1,1,1,1,1,1,1,1,1,1,1,1,1,1,1,1,1,1,1,1,1,1,1,1,1,1,1,1,1,1,1,1,1,1,1,1,1,1,1,1,1,1,1,1,1,1,1,1,1,1,1,1,1,1,1,1,1,1,1,1,1,1,1,1,1,1,1,1,1,1,1,1,1,1,1,1,1,1,1,1,1,1,1,1,1,1,1,1,1,1,1,1,1,1,1,1,1,1,1,1,1,1,1,1,1,1,1,1,1,1,1,1,1,1,1,1,1,1,1,1,1,1,1,1,1,1,1,1,1,1,1,1,1,1,1,1,1,1,1,1,1,1,1,1,1,1,1,1,1,1,1,1,1,1,1,1,1,1,1,1,1,1,1,1,1,1,1,1,1,1,1,1,1,1,1,1,1,1,1,1,1,1,1,1,1,1,1,1,1,1,1,1,1,1,1,1,1,1,1,1,1,1,1,1,1,1,1,1,1,1,1,1,1,1,1,1,1,1,1,1,1,1,1,1,1,1,1,1,1,1,1,1,1,1,1,1,1,1,1,1,1,1,1,1,1,1,1,1,1,1,1,1,1,1,1,1,1,1,1,1,1,1,1,1,1,1,1,1,1,1,1,1,1,1,1,1,1,1,1,1,1,1,1,1,1,1,1,1,1,1,1,1,1,1,1,1,1,1,1,1,1,1,1,1,1,1,1,1,1,1,1,1,1,1,1,1,1,1,1,1,1,1,1,1,1,1,1,1,1,1,1,1,1,1,1,1,1,1,1,1,1,1,1,1,1,1,1,1,1,1,1,1,1,1,1,1,1,1,1,1,1,1,1,1,1,1,1,1,1,1,1,1,1,1,1,1,1,1,1,1,1,1,1,1,1,1,1,1,1,1,1,1,1,1,1,1,1,1,1,1,1,1,1,1,1,1,1,1,1,1,1,1,1,1,1,1,1,1,1,1,1,1,1,1,1,1,1,1,1,1,1,1,1,1,1,1,1,1,1,1,1,1,1,1,1,1,1,1,1,1,1,1,1,1,1,1,1,1,1,1,1,1,1,1,1,1,1,1,1,1,1,1,1,1,1,1,1,1,1,1,1,1,1,1,1,1,1,1,1,1,1,1,1,1,1,1,1,1,1,1,1,1,1,1,1,1,1,1,1,1,1,1,1,1,1,1,1,1,1,1,1,1,1,1,1,1,1,1,1,1,1,1,1,1,1,1,1,1,1,1,1,1,1,1,1,1,1,1,1,1,1,1,1,1,1,1,1,1,1,1,1,1,1,1,1,1,1,1,1,1,1,1,1,1,1,1,1,1,1,1,1,1,1,1,1,1,1,1,1,1,1,1,1,1,1,1,1,1,1,1,1,1,1,1,1,1,1,1,1,1,1,1,1,1,1,1,1,1,1,1,1,1,1,1,1,1,1,1,1,1,1,1,1,1,1,1,1,1,1,1,1,1,1,1,1,1,1,1,1,1,1,1,1,1,1,1,1,1,1,1,1,1,1,1,1,1,1,1,1,1,1,1,1,1,1,1,1,1,1,1,1,1,1,1,1,1,1,1,1,1,1,1,1,1,1,1,1,1,1,1,1,1,1,1,1,1,1,1,1,1,1,1,1,1,1,1,1,1,1,1,1,1,1,1,1,1,1,1,1,1,1,1,1,1,1,1,1,1,1,1,1,1,1,1,1,1,1,1,1,1,1,1,1,1,1,1,1,1,1,1,1,1,1,1,1,1,1,1,1,1,1,1,1,1,1,1,1,1,1,1,1,1,1,1,1,1,1,1,1,1,1,1,1,1,1,1,1,1,1,1,1,1,1,1,1,1,1,1,1,1,1,1,1,1,1,1,1,1,1,1,1,1,1,1,1,1,1,1,1,1,1,1,1,1,1,1,1,1,1,1,1,1,1,1,1,1,1,1,1,1,1,1,1,1,1,1,1,1,1,1,1,1,1,1,1,1,1,1,1,1,1,1,1,1,1,1,1,1,1,1,1,1,1,1,1,1,1,1,1,1,1,1,1,1,1,1,1,1,1,1,1,1,1,1,1,1,1,1,1,1,1,1,1,1,1,1,1,1,1,1,1,1,1,1,1,1,1,1,1,1,1,1,1,1,1,1,1,1,1,1,1,1,1,1,1,1,1,1,1,1,1,1,1,1,1,1,1,1,1,1,1,1,1,1,1,1,1,1,1,1,1,1,1,1,1,1,1,1,1,1,1,1,1,1,1,1,1,1,1,1,1,1,1,1,1,1,1,1,1,1,1,1,1,1,1,1,1,1,1,1,1,1,1,1,1,1,1,1,1,1,1,1,1,1,1,1,1,1,1,1,1,1,1,1,1,1,1,1,1,1,1,1,1,1,1,1,1,1,1,1,1,1,1,1,1,1,1,1,1,1,1,1,1,1,1,1,1,1,1,1,1,1,1,1,1,1,1,1,1,1,1,1,1,1,1,1,1,1,1,1,1,1,1,1,1,1,1,1,1,1,1,1,1,1,1,1,1,1,1,1,1,1,1,1,1,1,1,1,1,1,1,1,1,1,1,1,1,1,1,1,1,1,1,1,1,1,1,1,1,1,1,1,1,1,1,1,1,1,1,1,1,1,1,1,1,1,1,1,1,1,1,1,1,1,1,1,1,1,1,1,1,1,1,1,1,1,1,1,1,1,1,1,1,1,1,1,1,1,1,1,1,1,1,1,1,1,1,1,1,1,1,1,1,1,1,1,1,1,1,1,1,1,1,1,1,1,1,1,1,1,1,1,1,1,1,1,1,1,1,1,1,1,1,1,1,1,1,1,1,1,1,1,1,1,1,1,1,1,1,1,1,1,1,1,1,1,1,1,1,1,1,1,1,1,1,1,1,1,1,1,1,1,1,1,1,1,1,1,1,1,1,1,1,1,1,1,1,1,1,1,1,1,1,1,1,1,1,1,1,1,1,1,1,1,1,1,1,1,1,1,1,1,1,1,1,1,1,1,1,1,1,1,1,1,1,1,1,1,1,1,1,1,1,1,1,1,1,1,1,1,1,1,1,1,1,1,1,1,1,1,1,1,1,1,1,1,1,1,1,1,1,1,1,1,1,1,1,1,1,1,1,1,1,1,1,1],\"color\":[\"#4e63ac\",\"#fca55d\",\"#4e63ac\",\"#4e63ac\",\"#edf8a3\",\"#4e63ac\",\"#fca55d\",\"#4e63ac\",\"#4e63ac\",\"#4e63ac\",\"#4e63ac\",\"#4e63ac\",\"#6ec5a5\",\"#4e63ac\",\"#d7414e\",\"#4e63ac\",\"#4e63ac\",\"#4e63ac\",\"#fca55d\",\"#4e63ac\",\"#4e63ac\",\"#6ec5a5\",\"#e2514a\",\"#4e63ac\",\"#b11747\",\"#4e63ac\",\"#4e63ac\",\"#4e63ac\",\"#4e63ac\",\"#4e63ac\",\"#9e0142\",\"#4e63ac\",\"#4e63ac\",\"#4e63ac\",\"#9e0142\",\"#4e63ac\",\"#6ec5a5\",\"#6ec5a5\",\"#4e63ac\",\"#e1f399\",\"#4e63ac\",\"#4e63ac\",\"#4e63ac\",\"#4e63ac\",\"#4e63ac\",\"#4e63ac\",\"#4e63ac\",\"#4e63ac\",\"#d7414e\",\"#e1f399\",\"#358bbc\",\"#a2d9a4\",\"#4e63ac\",\"#4e63ac\",\"#4e63ac\",\"#fca55d\",\"#5ab4ab\",\"#cdeb9d\",\"#a2d9a4\",\"#fedc88\",\"#4e63ac\",\"#edf8a3\",\"#4e63ac\",\"#4e63ac\",\"#a2d9a4\",\"#4e63ac\",\"#e2514a\",\"#a2d9a4\",\"#6ec5a5\",\"#9e0142\",\"#fca55d\",\"#4e63ac\",\"#6ec5a5\",\"#ffffbe\",\"#358bbc\",\"#4e63ac\",\"#b11747\",\"#4e63ac\",\"#4e63ac\",\"#4e63ac\",\"#4e63ac\",\"#fca55d\",\"#4e63ac\",\"#4e63ac\",\"#e1f399\",\"#cdeb9d\",\"#4e63ac\",\"#a2d9a4\",\"#d7414e\",\"#4e63ac\",\"#e2514a\",\"#4e63ac\",\"#edf8a3\",\"#4e63ac\",\"#4e63ac\",\"#4e63ac\",\"#4e63ac\",\"#4e63ac\",\"#4e63ac\",\"#4e63ac\",\"#fca55d\",\"#4e63ac\",\"#4e63ac\",\"#4e63ac\",\"#4e63ac\",\"#4e63ac\",\"#4e63ac\",\"#4e63ac\",\"#6ec5a5\",\"#c52c4b\",\"#4e63ac\",\"#4e63ac\",\"#4e63ac\",\"#e2514a\",\"#6ec5a5\",\"#4e63ac\",\"#4e63ac\",\"#4e63ac\",\"#4e63ac\",\"#e2514a\",\"#4e63ac\",\"#d7414e\",\"#fca55d\",\"#4e63ac\",\"#4e63ac\",\"#4e63ac\",\"#4e63ac\",\"#4e63ac\",\"#f6fbb0\",\"#4e63ac\",\"#fca55d\",\"#4e63ac\",\"#4e63ac\",\"#4e63ac\",\"#4e63ac\",\"#fca55d\",\"#a2d9a4\",\"#e2514a\",\"#4e63ac\",\"#4e63ac\",\"#4e63ac\",\"#6ec5a5\",\"#4e63ac\",\"#9e0142\",\"#4e63ac\",\"#a2d9a4\",\"#4e63ac\",\"#4e63ac\",\"#4e63ac\",\"#4e63ac\",\"#a2d9a4\",\"#4e63ac\",\"#fedc88\",\"#9e0142\",\"#4e63ac\",\"#4e63ac\",\"#4e63ac\",\"#4e63ac\",\"#4e63ac\",\"#4e63ac\",\"#4e63ac\",\"#4e63ac\",\"#fedc88\",\"#fff3ac\",\"#e1f399\",\"#4e63ac\",\"#4e63ac\",\"#fedc88\",\"#4e63ac\",\"#4e63ac\",\"#fedc88\",\"#4e63ac\",\"#4e63ac\",\"#4e63ac\",\"#4e63ac\",\"#9e0142\",\"#4e63ac\",\"#4e63ac\",\"#4e63ac\",\"#3f77b5\",\"#b8e2a1\",\"#9e0142\",\"#4e63ac\",\"#4e63ac\",\"#4e63ac\",\"#358bbc\",\"#4e63ac\",\"#4e63ac\",\"#fedc88\",\"#a2d9a4\",\"#4e63ac\",\"#ed6246\",\"#e1f399\",\"#4e63ac\",\"#4e63ac\",\"#cdeb9d\",\"#4e63ac\",\"#4e63ac\",\"#4e63ac\",\"#fca55d\",\"#fca55d\",\"#4e63ac\",\"#4e63ac\",\"#4e63ac\",\"#4e63ac\",\"#d7414e\",\"#d7414e\",\"#ed6246\",\"#4e63ac\",\"#e1f399\",\"#4e63ac\",\"#4e63ac\",\"#4e63ac\",\"#e2514a\",\"#4e63ac\",\"#4e63ac\",\"#4e63ac\",\"#4e63ac\",\"#4e63ac\",\"#4e63ac\",\"#4e63ac\",\"#e2514a\",\"#fca55d\",\"#fedc88\",\"#4e63ac\",\"#edf8a3\",\"#4e63ac\",\"#4e63ac\",\"#4e63ac\",\"#4e63ac\",\"#4e63ac\",\"#fca55d\",\"#4e63ac\",\"#4e63ac\",\"#4e63ac\",\"#e2514a\",\"#b8e2a1\",\"#edf8a3\",\"#4e63ac\",\"#4e63ac\",\"#4e63ac\",\"#f6fbb0\",\"#4e63ac\",\"#4e63ac\",\"#4e63ac\",\"#4e63ac\",\"#4e63ac\",\"#4e63ac\",\"#4e63ac\",\"#4e63ac\",\"#4e63ac\",\"#4e63ac\",\"#4e63ac\",\"#ffffbe\",\"#4e63ac\",\"#e2514a\",\"#4e63ac\",\"#fca55d\",\"#6ec5a5\",\"#4e63ac\",\"#9e0142\",\"#4e63ac\",\"#edf8a3\",\"#4e63ac\",\"#4e63ac\",\"#4e63ac\",\"#4e63ac\",\"#5e4fa2\",\"#4e63ac\",\"#4e63ac\",\"#4e63ac\",\"#cdeb9d\",\"#9e0142\",\"#4e63ac\",\"#4e63ac\",\"#4e63ac\",\"#fca55d\",\"#4e63ac\",\"#4e63ac\",\"#4e63ac\",\"#4e63ac\",\"#4e63ac\",\"#4e63ac\",\"#fedc88\",\"#f57547\",\"#a2d9a4\",\"#e1f399\",\"#4e63ac\",\"#e2514a\",\"#edf8a3\",\"#4e63ac\",\"#4e63ac\",\"#4e63ac\",\"#fca55d\",\"#4e63ac\",\"#4e63ac\",\"#a2d9a4\",\"#e2514a\",\"#4e63ac\",\"#e2514a\",\"#d7414e\",\"#4e63ac\",\"#fedc88\",\"#4e63ac\",\"#4e63ac\",\"#4e63ac\",\"#4e63ac\",\"#edf8a3\",\"#4e63ac\",\"#e1f399\",\"#fedc88\",\"#e2514a\",\"#4e63ac\",\"#4e63ac\",\"#9e0142\",\"#4e63ac\",\"#4e63ac\",\"#4e63ac\",\"#4e63ac\",\"#fedc88\",\"#4e63ac\",\"#4e63ac\",\"#fca55d\",\"#a2d9a4\",\"#d7414e\",\"#5ab4ab\",\"#4e63ac\",\"#fca55d\",\"#a2d9a4\",\"#4e63ac\",\"#4e63ac\",\"#4e63ac\",\"#4e63ac\",\"#9e0142\",\"#4e63ac\",\"#fca55d\",\"#fca55d\",\"#cdeb9d\",\"#fca55d\",\"#4e63ac\",\"#4e63ac\",\"#4e63ac\",\"#6ec5a5\",\"#d7414e\",\"#358bbc\",\"#9e0142\",\"#4e63ac\",\"#fca55d\",\"#4e63ac\",\"#edf8a3\",\"#a2d9a4\",\"#ffffbe\",\"#fca55d\",\"#4e63ac\",\"#ed6246\",\"#4e63ac\",\"#4e63ac\",\"#ffffbe\",\"#e1f399\",\"#e2514a\",\"#4e63ac\",\"#fedc88\",\"#4e63ac\",\"#ed6246\",\"#4e63ac\",\"#e2514a\",\"#4e63ac\",\"#4e63ac\",\"#fedc88\",\"#4e63ac\",\"#4e63ac\",\"#d7414e\",\"#fca55d\",\"#4e63ac\",\"#4e63ac\",\"#fedc88\",\"#4e63ac\",\"#ed6246\",\"#4e63ac\",\"#4e63ac\",\"#4e63ac\",\"#e2514a\",\"#4e63ac\",\"#4e63ac\",\"#4e63ac\",\"#d7414e\",\"#4e63ac\",\"#fca55d\",\"#4e63ac\",\"#4e63ac\",\"#4e63ac\",\"#fedc88\",\"#4e63ac\",\"#4e63ac\",\"#e2514a\",\"#e2514a\",\"#a2d9a4\",\"#4e63ac\",\"#4e63ac\",\"#4e63ac\",\"#4e63ac\",\"#9e0142\",\"#4e63ac\",\"#4e63ac\",\"#4e63ac\",\"#4e63ac\",\"#edf8a3\",\"#4e63ac\",\"#4e63ac\",\"#4e63ac\",\"#fca55d\",\"#e2514a\",\"#cdeb9d\",\"#fca55d\",\"#4e63ac\",\"#e1f399\",\"#cdeb9d\",\"#4e63ac\",\"#a2d9a4\",\"#4e63ac\",\"#4e63ac\",\"#a2d9a4\",\"#4e63ac\",\"#6ec5a5\",\"#d7414e\",\"#47a0b3\",\"#4e63ac\",\"#6ec5a5\",\"#4e63ac\",\"#6ec5a5\",\"#e1f399\",\"#4e63ac\",\"#e2514a\",\"#6ec5a5\",\"#6ec5a5\",\"#4e63ac\",\"#a2d9a4\",\"#4e63ac\",\"#4e63ac\",\"#4e63ac\",\"#4e63ac\",\"#4e63ac\",\"#4e63ac\",\"#9e0142\",\"#4e63ac\",\"#4e63ac\",\"#4e63ac\",\"#cdeb9d\",\"#4e63ac\",\"#e2514a\",\"#4e63ac\",\"#4e63ac\",\"#4e63ac\",\"#4e63ac\",\"#4e63ac\",\"#edf8a3\",\"#4e63ac\",\"#cdeb9d\",\"#4e63ac\",\"#4e63ac\",\"#fca55d\",\"#4e63ac\",\"#4e63ac\",\"#4e63ac\",\"#9e0142\",\"#4e63ac\",\"#fedc88\",\"#4e63ac\",\"#4e63ac\",\"#a2d9a4\",\"#4e63ac\",\"#4e63ac\",\"#4e63ac\",\"#f6fbb0\",\"#4e63ac\",\"#4e63ac\",\"#4e63ac\",\"#4e63ac\",\"#4e63ac\",\"#4e63ac\",\"#4e63ac\",\"#4e63ac\",\"#4e63ac\",\"#6ec5a5\",\"#a2d9a4\",\"#4e63ac\",\"#4e63ac\",\"#4e63ac\",\"#4e63ac\",\"#fca55d\",\"#4e63ac\",\"#fca55d\",\"#4e63ac\",\"#4e63ac\",\"#4e63ac\",\"#a2d9a4\",\"#e1f399\",\"#b11747\",\"#4e63ac\",\"#edf8a3\",\"#ffffbe\",\"#4e63ac\",\"#cdeb9d\",\"#fca55d\",\"#4e63ac\",\"#4e63ac\",\"#e2514a\",\"#4e63ac\",\"#edf8a3\",\"#4e63ac\",\"#4e63ac\",\"#4e63ac\",\"#4e63ac\",\"#4e63ac\",\"#4e63ac\",\"#e2514a\",\"#4e63ac\",\"#4e63ac\",\"#4e63ac\",\"#a2d9a4\",\"#5ab4ab\",\"#9e0142\",\"#4e63ac\",\"#4e63ac\",\"#4e63ac\",\"#6ec5a5\",\"#4e63ac\",\"#d7414e\",\"#4e63ac\",\"#d7414e\",\"#4e63ac\",\"#4e63ac\",\"#fca55d\",\"#4e63ac\",\"#4e63ac\",\"#9e0142\",\"#4e63ac\",\"#cdeb9d\",\"#9e0142\",\"#4e63ac\",\"#4e63ac\",\"#b8e2a1\",\"#4e63ac\",\"#b8e2a1\",\"#4e63ac\",\"#edf8a3\",\"#4e63ac\",\"#4e63ac\",\"#4e63ac\",\"#4e63ac\",\"#6ec5a5\",\"#4e63ac\",\"#e2514a\",\"#edf8a3\",\"#4e63ac\",\"#4e63ac\",\"#c52c4b\",\"#4e63ac\",\"#4e63ac\",\"#9e0142\",\"#edf8a3\",\"#4e63ac\",\"#4e63ac\",\"#b11747\",\"#4e63ac\",\"#e1f399\",\"#4e63ac\",\"#fca55d\",\"#4e63ac\",\"#4e63ac\",\"#edf8a3\",\"#e1f399\",\"#4e63ac\",\"#4e63ac\",\"#4e63ac\",\"#4e63ac\",\"#86cfa5\",\"#ed6246\",\"#4e63ac\",\"#4e63ac\",\"#fca55d\",\"#4e63ac\",\"#4e63ac\",\"#4e63ac\",\"#4e63ac\",\"#4e63ac\",\"#4e63ac\",\"#4e63ac\",\"#4e63ac\",\"#4e63ac\",\"#4e63ac\",\"#e2514a\",\"#4e63ac\",\"#6ec5a5\",\"#4e63ac\",\"#d7414e\",\"#4e63ac\",\"#e1f399\",\"#4e63ac\",\"#edf8a3\",\"#b8e2a1\",\"#4e63ac\",\"#4e63ac\",\"#6ec5a5\",\"#9e0142\",\"#4e63ac\",\"#4e63ac\",\"#f98e52\",\"#edf8a3\",\"#4e63ac\",\"#ffffbe\",\"#f57547\",\"#d7414e\",\"#e2514a\",\"#4e63ac\",\"#4e63ac\",\"#edf8a3\",\"#4e63ac\",\"#4e63ac\",\"#6ec5a5\",\"#4e63ac\",\"#a2d9a4\",\"#4e63ac\",\"#4e63ac\",\"#4e63ac\",\"#4e63ac\",\"#4e63ac\",\"#4e63ac\",\"#6ec5a5\",\"#4e63ac\",\"#4e63ac\",\"#4e63ac\",\"#4e63ac\",\"#e2514a\",\"#4e63ac\",\"#4e63ac\",\"#4e63ac\",\"#ed6246\",\"#4e63ac\",\"#4e63ac\",\"#4e63ac\",\"#f6fbb0\",\"#4e63ac\",\"#6ec5a5\",\"#4e63ac\",\"#4e63ac\",\"#fedc88\",\"#4e63ac\",\"#4e63ac\",\"#4e63ac\",\"#4e63ac\",\"#6ec5a5\",\"#4e63ac\",\"#4e63ac\",\"#4e63ac\",\"#4e63ac\",\"#4e63ac\",\"#4e63ac\",\"#edf8a3\",\"#e2514a\",\"#4e63ac\",\"#d7414e\",\"#4e63ac\",\"#4e63ac\",\"#4e63ac\",\"#fff3ac\",\"#4e63ac\",\"#4e63ac\",\"#4e63ac\",\"#4e63ac\",\"#4e63ac\",\"#fff3ac\",\"#9e0142\",\"#4e63ac\",\"#4e63ac\",\"#e2514a\",\"#ed6246\",\"#4e63ac\",\"#9e0142\",\"#9e0142\",\"#ed6246\",\"#edf8a3\",\"#4e63ac\",\"#4e63ac\",\"#e1f399\",\"#e1f399\",\"#4e63ac\",\"#4e63ac\",\"#6ec5a5\",\"#4e63ac\",\"#e1f399\",\"#4e63ac\",\"#6ec5a5\",\"#4e63ac\",\"#4e63ac\",\"#4e63ac\",\"#4e63ac\",\"#fca55d\",\"#4e63ac\",\"#358bbc\",\"#4e63ac\",\"#e1f399\",\"#4e63ac\",\"#edf8a3\",\"#4e63ac\",\"#9e0142\",\"#4e63ac\",\"#e2514a\",\"#4e63ac\",\"#4e63ac\",\"#4e63ac\",\"#4e63ac\",\"#4e63ac\",\"#4e63ac\",\"#6ec5a5\",\"#cdeb9d\",\"#4e63ac\",\"#4e63ac\",\"#4e63ac\",\"#fca55d\",\"#4e63ac\",\"#4e63ac\",\"#4e63ac\",\"#4e63ac\",\"#6ec5a5\",\"#4e63ac\",\"#4e63ac\",\"#358bbc\",\"#4e63ac\",\"#4e63ac\",\"#4e63ac\",\"#fca55d\",\"#fca55d\",\"#e2514a\",\"#a2d9a4\",\"#6ec5a5\",\"#5ab4ab\",\"#4e63ac\",\"#ffffbe\",\"#a2d9a4\",\"#4e63ac\",\"#4e63ac\",\"#4e63ac\",\"#6ec5a5\",\"#e1f399\",\"#9e0142\",\"#4e63ac\",\"#4e63ac\",\"#4e63ac\",\"#edf8a3\",\"#4e63ac\",\"#e1f399\",\"#fca55d\",\"#4e63ac\",\"#4e63ac\",\"#fff3ac\",\"#cdeb9d\",\"#e1f399\",\"#4e63ac\",\"#4e63ac\",\"#fca55d\",\"#a2d9a4\",\"#4e63ac\",\"#fedc88\",\"#4e63ac\",\"#b11747\",\"#4e63ac\",\"#4e63ac\",\"#6ec5a5\",\"#ed6246\",\"#4e63ac\",\"#fca55d\",\"#4e63ac\",\"#fedc88\",\"#4e63ac\",\"#6ec5a5\",\"#4e63ac\",\"#4e63ac\",\"#fee999\",\"#4e63ac\",\"#6ec5a5\",\"#e2514a\",\"#4e63ac\",\"#4e63ac\",\"#4e63ac\",\"#feca79\",\"#fedc88\",\"#4e63ac\",\"#e1f399\",\"#e2514a\",\"#4e63ac\",\"#86cfa5\",\"#6ec5a5\",\"#6ec5a5\",\"#4e63ac\",\"#4e63ac\",\"#4e63ac\",\"#4e63ac\",\"#b11747\",\"#4e63ac\",\"#d7414e\",\"#4e63ac\",\"#4e63ac\",\"#4e63ac\",\"#cdeb9d\",\"#4e63ac\",\"#4e63ac\",\"#5e4fa2\",\"#4e63ac\",\"#4e63ac\",\"#4e63ac\",\"#4e63ac\",\"#4e63ac\",\"#4e63ac\",\"#e1f399\",\"#4e63ac\",\"#4e63ac\",\"#4e63ac\",\"#4e63ac\",\"#5ab4ab\",\"#4e63ac\",\"#fca55d\",\"#4e63ac\",\"#d7414e\",\"#4e63ac\",\"#4e63ac\",\"#4e63ac\",\"#4e63ac\",\"#4e63ac\",\"#4e63ac\",\"#4e63ac\",\"#4e63ac\",\"#4e63ac\",\"#4e63ac\",\"#4e63ac\",\"#6ec5a5\",\"#edf8a3\",\"#4e63ac\",\"#4e63ac\",\"#4e63ac\",\"#4e63ac\",\"#4e63ac\",\"#4e63ac\",\"#4e63ac\",\"#4e63ac\",\"#4e63ac\",\"#4e63ac\",\"#4e63ac\",\"#4e63ac\",\"#4e63ac\",\"#4e63ac\",\"#4e63ac\",\"#edf8a3\",\"#4e63ac\",\"#4e63ac\",\"#4e63ac\",\"#4e63ac\",\"#4e63ac\",\"#4e63ac\",\"#4e63ac\",\"#6ec5a5\",\"#4e63ac\",\"#9e0142\",\"#4e63ac\",\"#4e63ac\",\"#4e63ac\",\"#fedc88\",\"#d7414e\",\"#fedc88\",\"#e1f399\",\"#4e63ac\",\"#9e0142\",\"#fca55d\",\"#4e63ac\",\"#4e63ac\",\"#b8e2a1\",\"#e2514a\",\"#4e63ac\",\"#4e63ac\",\"#4e63ac\",\"#4e63ac\",\"#4e63ac\",\"#4e63ac\",\"#4e63ac\",\"#4e63ac\",\"#b8e2a1\",\"#4e63ac\",\"#4e63ac\",\"#4e63ac\",\"#9e0142\",\"#cdeb9d\",\"#4e63ac\",\"#e2514a\",\"#4e63ac\",\"#4e63ac\",\"#4e63ac\",\"#4e63ac\",\"#4e63ac\",\"#d7414e\",\"#4e63ac\",\"#ffffbe\",\"#4e63ac\",\"#b8e2a1\",\"#4e63ac\",\"#9e0142\",\"#4e63ac\",\"#b8e2a1\",\"#4e63ac\",\"#4e63ac\",\"#4e63ac\",\"#fff3ac\",\"#fca55d\",\"#4e63ac\",\"#358bbc\",\"#6ec5a5\",\"#4e63ac\",\"#4e63ac\",\"#86cfa5\",\"#4e63ac\",\"#6ec5a5\",\"#4e63ac\",\"#4e63ac\",\"#4e63ac\",\"#4e63ac\",\"#e2514a\",\"#4e63ac\",\"#4e63ac\",\"#b8e2a1\",\"#9e0142\",\"#d7414e\",\"#9e0142\",\"#f6fbb0\",\"#fca55d\",\"#fedc88\",\"#f98e52\",\"#4e63ac\",\"#feca79\",\"#4e63ac\",\"#4e63ac\",\"#edf8a3\",\"#4e63ac\",\"#6ec5a5\",\"#cdeb9d\",\"#4e63ac\",\"#4e63ac\",\"#a2d9a4\",\"#e1f399\",\"#4e63ac\",\"#4e63ac\",\"#4e63ac\",\"#4e63ac\",\"#4e63ac\",\"#ffffbe\",\"#4e63ac\",\"#4e63ac\",\"#f6fbb0\",\"#4e63ac\",\"#4e63ac\",\"#6ec5a5\",\"#4e63ac\",\"#4e63ac\",\"#4e63ac\",\"#4e63ac\",\"#ffffbe\",\"#edf8a3\",\"#4e63ac\",\"#e1f399\",\"#4e63ac\",\"#4e63ac\",\"#fca55d\",\"#e1f399\",\"#4e63ac\",\"#4e63ac\",\"#4e63ac\",\"#4e63ac\",\"#f57547\",\"#4e63ac\",\"#4e63ac\",\"#e2514a\",\"#d7414e\",\"#4e63ac\",\"#4e63ac\",\"#9e0142\",\"#4e63ac\",\"#4e63ac\",\"#4e63ac\",\"#4e63ac\",\"#4e63ac\",\"#4e63ac\",\"#86cfa5\",\"#4e63ac\",\"#4e63ac\",\"#edf8a3\",\"#4e63ac\",\"#4e63ac\",\"#f6fbb0\",\"#4e63ac\",\"#4e63ac\",\"#4e63ac\",\"#f6fbb0\",\"#4e63ac\",\"#fca55d\",\"#4e63ac\",\"#4e63ac\",\"#4e63ac\",\"#6ec5a5\",\"#fca55d\",\"#e1f399\",\"#4e63ac\",\"#4e63ac\",\"#4e63ac\",\"#4e63ac\",\"#a2d9a4\",\"#e1f399\",\"#4e63ac\",\"#edf8a3\",\"#4e63ac\",\"#fff3ac\",\"#fedc88\",\"#edf8a3\",\"#4e63ac\",\"#4e63ac\",\"#9e0142\",\"#4e63ac\",\"#d7414e\",\"#4e63ac\",\"#4e63ac\",\"#4e63ac\",\"#ed6246\",\"#d7414e\",\"#4e63ac\",\"#4e63ac\",\"#4e63ac\",\"#a2d9a4\",\"#4e63ac\",\"#4e63ac\",\"#edf8a3\",\"#4e63ac\",\"#d7414e\",\"#a2d9a4\",\"#4e63ac\",\"#e2514a\",\"#86cfa5\",\"#9e0142\",\"#edf8a3\",\"#edf8a3\",\"#e2514a\",\"#fca55d\",\"#4e63ac\",\"#4e63ac\",\"#4e63ac\",\"#4e63ac\",\"#6ec5a5\",\"#4e63ac\",\"#e1f399\",\"#4e63ac\",\"#fca55d\",\"#4e63ac\",\"#e2514a\",\"#d7414e\",\"#4e63ac\",\"#4e63ac\",\"#4e63ac\",\"#4e63ac\",\"#d7414e\",\"#4e63ac\",\"#a2d9a4\",\"#4e63ac\",\"#86cfa5\",\"#e2514a\",\"#4e63ac\",\"#fedc88\",\"#fedc88\",\"#4e63ac\",\"#4e63ac\",\"#d7414e\",\"#4e63ac\",\"#4e63ac\",\"#4e63ac\",\"#4e63ac\",\"#4e63ac\",\"#fca55d\",\"#c52c4b\",\"#4e63ac\",\"#c52c4b\",\"#4e63ac\",\"#4e63ac\",\"#4e63ac\",\"#a2d9a4\",\"#4e63ac\",\"#4e63ac\",\"#4e63ac\",\"#fedc88\",\"#e1f399\",\"#4e63ac\",\"#4e63ac\",\"#4e63ac\",\"#4e63ac\",\"#ed6246\",\"#9e0142\",\"#f57547\",\"#d7414e\",\"#fca55d\",\"#4e63ac\",\"#4e63ac\",\"#f98e52\",\"#f57547\",\"#4e63ac\",\"#4e63ac\",\"#4e63ac\",\"#6ec5a5\",\"#fedc88\",\"#e1f399\",\"#4e63ac\",\"#4e63ac\",\"#4e63ac\",\"#4e63ac\",\"#4e63ac\",\"#4e63ac\",\"#4e63ac\",\"#4e63ac\",\"#4e63ac\",\"#edf8a3\",\"#4e63ac\",\"#4e63ac\",\"#4e63ac\",\"#4e63ac\",\"#4e63ac\",\"#6ec5a5\",\"#b11747\",\"#4e63ac\",\"#6ec5a5\",\"#6ec5a5\",\"#4e63ac\",\"#4e63ac\",\"#edf8a3\",\"#a2d9a4\",\"#4e63ac\",\"#4e63ac\",\"#4e63ac\",\"#4e63ac\",\"#4e63ac\",\"#4e63ac\",\"#e1f399\",\"#9e0142\",\"#4e63ac\",\"#4e63ac\",\"#4e63ac\",\"#4e63ac\",\"#4e63ac\",\"#4e63ac\",\"#4e63ac\",\"#4e63ac\",\"#4e63ac\",\"#4e63ac\",\"#e1f399\",\"#4e63ac\",\"#ffffbe\",\"#4e63ac\",\"#358bbc\",\"#4e63ac\",\"#4e63ac\",\"#4e63ac\",\"#4e63ac\",\"#4e63ac\",\"#9e0142\",\"#4e63ac\",\"#e1f399\",\"#4e63ac\",\"#4e63ac\",\"#4e63ac\",\"#4e63ac\",\"#4e63ac\",\"#6ec5a5\",\"#4e63ac\",\"#4e63ac\",\"#4e63ac\",\"#e2514a\",\"#4e63ac\",\"#4e63ac\",\"#d7414e\",\"#6ec5a5\",\"#4e63ac\",\"#4e63ac\",\"#edf8a3\",\"#edf8a3\",\"#4e63ac\",\"#4e63ac\",\"#4e63ac\",\"#e1f399\",\"#4e63ac\",\"#4e63ac\",\"#f57547\",\"#4e63ac\",\"#4e63ac\",\"#edf8a3\",\"#4e63ac\",\"#4e63ac\",\"#e1f399\",\"#4e63ac\",\"#4e63ac\",\"#ed6246\",\"#e2514a\",\"#fca55d\",\"#ffffbe\",\"#4e63ac\",\"#4e63ac\",\"#4e63ac\",\"#4e63ac\",\"#ffffbe\",\"#4e63ac\",\"#9e0142\",\"#fedc88\",\"#4e63ac\",\"#4e63ac\",\"#d7414e\",\"#cdeb9d\",\"#4e63ac\",\"#e1f399\",\"#4e63ac\",\"#cdeb9d\",\"#4e63ac\",\"#ed6246\",\"#4e63ac\",\"#e2514a\",\"#9e0142\",\"#fca55d\",\"#4e63ac\",\"#4e63ac\",\"#e1f399\",\"#a2d9a4\",\"#ffffbe\",\"#4e63ac\",\"#4e63ac\",\"#4e63ac\",\"#cdeb9d\",\"#4e63ac\",\"#a2d9a4\",\"#4e63ac\",\"#4e63ac\",\"#4e63ac\",\"#edf8a3\",\"#4e63ac\",\"#4e63ac\",\"#9e0142\",\"#edf8a3\",\"#e1f399\",\"#4e63ac\",\"#4e63ac\",\"#4e63ac\",\"#f98e52\",\"#4e63ac\",\"#4e63ac\",\"#fca55d\",\"#fedc88\",\"#4e63ac\",\"#4e63ac\",\"#cdeb9d\",\"#9e0142\",\"#4e63ac\",\"#4e63ac\",\"#4e63ac\",\"#4e63ac\",\"#4e63ac\",\"#4e63ac\",\"#6ec5a5\",\"#4e63ac\",\"#f6fbb0\",\"#4e63ac\",\"#9e0142\",\"#6ec5a5\",\"#4e63ac\",\"#fedc88\",\"#358bbc\",\"#4e63ac\",\"#86cfa5\",\"#4e63ac\",\"#4e63ac\",\"#4e63ac\",\"#4e63ac\",\"#6ec5a5\",\"#4e63ac\",\"#fca55d\",\"#4e63ac\",\"#4e63ac\",\"#e2514a\",\"#b11747\",\"#f6fbb0\",\"#e1f399\",\"#4e63ac\",\"#4e63ac\",\"#4e63ac\",\"#9e0142\",\"#4e63ac\",\"#e2514a\",\"#4e63ac\",\"#4e63ac\",\"#4e63ac\",\"#edf8a3\",\"#4e63ac\",\"#4e63ac\",\"#4e63ac\",\"#9e0142\",\"#e1f399\",\"#4e63ac\",\"#4e63ac\",\"#4e63ac\",\"#4e63ac\",\"#4e63ac\",\"#fca55d\",\"#4e63ac\",\"#d7414e\",\"#4e63ac\",\"#4e63ac\",\"#4e63ac\",\"#4e63ac\",\"#fca55d\",\"#a2d9a4\",\"#4e63ac\",\"#4e63ac\",\"#4e63ac\",\"#6ec5a5\",\"#4e63ac\",\"#4e63ac\",\"#4e63ac\",\"#4e63ac\",\"#ffffbe\",\"#4e63ac\",\"#e2514a\",\"#4e63ac\",\"#4e63ac\",\"#4e63ac\",\"#9e0142\",\"#4e63ac\",\"#4e63ac\",\"#4e63ac\",\"#6ec5a5\",\"#edf8a3\",\"#4e63ac\",\"#4e63ac\",\"#4e63ac\",\"#4e63ac\",\"#4e63ac\",\"#4e63ac\",\"#6ec5a5\",\"#4e63ac\",\"#e2514a\",\"#4e63ac\",\"#4e63ac\",\"#4e63ac\",\"#6ec5a5\",\"#fca55d\",\"#4e63ac\",\"#6ec5a5\",\"#4e63ac\",\"#edf8a3\",\"#e2514a\",\"#4e63ac\",\"#4e63ac\",\"#e2514a\",\"#4e63ac\",\"#fca55d\",\"#edf8a3\",\"#a2d9a4\",\"#4e63ac\",\"#4e63ac\",\"#b8e2a1\",\"#5ab4ab\",\"#4e63ac\",\"#4e63ac\",\"#4e63ac\",\"#fca55d\",\"#b11747\",\"#4e63ac\",\"#5ab4ab\",\"#edf8a3\",\"#4e63ac\",\"#f6fbb0\",\"#e2514a\",\"#fedc88\",\"#a2d9a4\",\"#4e63ac\",\"#fedc88\",\"#4e63ac\",\"#e2514a\",\"#4e63ac\",\"#4e63ac\",\"#4e63ac\",\"#4e63ac\",\"#4e63ac\",\"#f98e52\",\"#f57547\",\"#fedc88\",\"#4e63ac\",\"#4e63ac\",\"#4e63ac\",\"#4e63ac\",\"#4e63ac\",\"#358bbc\",\"#4e63ac\",\"#4e63ac\",\"#4e63ac\",\"#9e0142\",\"#fedc88\",\"#a2d9a4\",\"#4e63ac\",\"#4e63ac\",\"#e1f399\",\"#4e63ac\",\"#fca55d\",\"#fca55d\",\"#4e63ac\",\"#edf8a3\",\"#fca55d\",\"#4e63ac\",\"#4e63ac\",\"#4e63ac\",\"#edf8a3\",\"#4e63ac\",\"#4e63ac\",\"#4e63ac\",\"#4e63ac\",\"#4e63ac\",\"#4e63ac\",\"#e1f399\",\"#4e63ac\",\"#4e63ac\",\"#4e63ac\",\"#4e63ac\",\"#d7414e\",\"#edf8a3\",\"#6ec5a5\",\"#4e63ac\",\"#4e63ac\",\"#4e63ac\",\"#4e63ac\",\"#4e63ac\",\"#4e63ac\",\"#d7414e\",\"#9e0142\",\"#4e63ac\",\"#9e0142\",\"#fca55d\",\"#4e63ac\",\"#4e63ac\",\"#4e63ac\",\"#ed6246\",\"#4e63ac\",\"#4e63ac\",\"#d7414e\",\"#4e63ac\",\"#e1f399\",\"#6ec5a5\",\"#f57547\",\"#4e63ac\",\"#4e63ac\",\"#4e63ac\",\"#fedc88\",\"#4e63ac\",\"#4e63ac\",\"#358bbc\",\"#4e63ac\",\"#f57547\",\"#ed6246\",\"#4e63ac\",\"#e2514a\",\"#6ec5a5\",\"#4e63ac\",\"#4e63ac\",\"#4e63ac\",\"#4e63ac\",\"#a2d9a4\",\"#4e63ac\",\"#4e63ac\",\"#4e63ac\",\"#4e63ac\",\"#9e0142\",\"#4e63ac\",\"#4e63ac\",\"#a2d9a4\",\"#4e63ac\",\"#4e63ac\",\"#e2514a\",\"#e2514a\",\"#e1f399\",\"#4e63ac\",\"#e1f399\",\"#4e63ac\",\"#f6fbb0\",\"#9e0142\",\"#4e63ac\",\"#4e63ac\",\"#4e63ac\",\"#4e63ac\",\"#fca55d\",\"#4e63ac\",\"#fedc88\",\"#edf8a3\",\"#a2d9a4\",\"#4e63ac\",\"#fca55d\",\"#4e63ac\",\"#4e63ac\",\"#4e63ac\",\"#4e63ac\",\"#d7414e\",\"#a2d9a4\",\"#4e63ac\",\"#4e63ac\",\"#6ec5a5\",\"#4e63ac\",\"#4e63ac\",\"#4e63ac\",\"#4e63ac\",\"#4e63ac\",\"#4e63ac\",\"#4e63ac\",\"#4e63ac\",\"#4e63ac\",\"#b11747\",\"#4e63ac\",\"#4e63ac\",\"#4e63ac\",\"#ed6246\",\"#4e63ac\",\"#e2514a\",\"#edf8a3\",\"#fca55d\",\"#4e63ac\",\"#9e0142\",\"#5ab4ab\",\"#4e63ac\",\"#d7414e\",\"#4e63ac\",\"#5ab4ab\",\"#4e63ac\",\"#4e63ac\",\"#d7414e\",\"#4e63ac\",\"#fca55d\",\"#4e63ac\",\"#4e63ac\",\"#e2514a\",\"#4e63ac\",\"#edf8a3\",\"#4e63ac\",\"#fca55d\",\"#4e63ac\",\"#4e63ac\",\"#4e63ac\",\"#4e63ac\",\"#cdeb9d\",\"#e1f399\",\"#a2d9a4\",\"#fedc88\",\"#9e0142\",\"#4e63ac\",\"#9e0142\",\"#e2514a\",\"#4e63ac\",\"#4e63ac\",\"#4e63ac\",\"#4e63ac\",\"#4e63ac\",\"#4e63ac\",\"#a2d9a4\",\"#4e63ac\",\"#4e63ac\",\"#ed6246\",\"#a2d9a4\",\"#4e63ac\",\"#4e63ac\",\"#fff3ac\",\"#cdeb9d\",\"#4e63ac\",\"#5ab4ab\",\"#4e63ac\",\"#a2d9a4\",\"#4e63ac\",\"#4e63ac\",\"#edf8a3\",\"#4e63ac\",\"#6ec5a5\",\"#4e63ac\",\"#4e63ac\",\"#ed6246\",\"#a2d9a4\",\"#4e63ac\",\"#edf8a3\",\"#4e63ac\",\"#4e63ac\",\"#cdeb9d\",\"#4e63ac\",\"#edf8a3\",\"#4e63ac\",\"#4e63ac\",\"#4e63ac\",\"#4e63ac\",\"#4e63ac\",\"#4e63ac\",\"#4e63ac\",\"#4e63ac\",\"#fee999\",\"#4e63ac\",\"#9e0142\",\"#fca55d\",\"#4e63ac\",\"#4e63ac\",\"#4e63ac\",\"#4e63ac\",\"#4e63ac\",\"#4e63ac\",\"#6ec5a5\",\"#4e63ac\",\"#ed6246\",\"#cdeb9d\",\"#4e63ac\",\"#cdeb9d\",\"#4e63ac\",\"#4e63ac\",\"#6ec5a5\",\"#4e63ac\",\"#4e63ac\",\"#6ec5a5\",\"#4e63ac\",\"#4e63ac\",\"#a2d9a4\",\"#4e63ac\",\"#e1f399\",\"#4e63ac\",\"#4e63ac\",\"#4e63ac\",\"#fca55d\",\"#ffffbe\",\"#4e63ac\",\"#4e63ac\",\"#4e63ac\",\"#4e63ac\",\"#4e63ac\",\"#d7414e\",\"#4e63ac\",\"#4e63ac\",\"#e1f399\",\"#4e63ac\",\"#6ec5a5\",\"#ed6246\",\"#e2514a\",\"#4e63ac\",\"#fedc88\",\"#4e63ac\",\"#a2d9a4\",\"#e1f399\",\"#4e63ac\",\"#e2514a\",\"#9e0142\",\"#4e63ac\",\"#9e0142\",\"#f6fbb0\",\"#4e63ac\",\"#4e63ac\",\"#4e63ac\",\"#4e63ac\",\"#ed6246\",\"#4e63ac\",\"#d7414e\",\"#6ec5a5\",\"#a2d9a4\",\"#4e63ac\",\"#edf8a3\",\"#4e63ac\",\"#4e63ac\",\"#4e63ac\",\"#4e63ac\",\"#4e63ac\",\"#e1f399\",\"#fedc88\",\"#4e63ac\",\"#4e63ac\",\"#4e63ac\",\"#6ec5a5\",\"#4e63ac\",\"#4e63ac\",\"#4e63ac\",\"#4e63ac\",\"#4e63ac\",\"#ed6246\",\"#4e63ac\",\"#cdeb9d\",\"#a2d9a4\",\"#4e63ac\",\"#4e63ac\",\"#fca55d\",\"#4e63ac\",\"#4e63ac\",\"#fca55d\",\"#4e63ac\",\"#4e63ac\",\"#cdeb9d\",\"#a2d9a4\",\"#e1f399\",\"#4e63ac\",\"#cdeb9d\",\"#cdeb9d\",\"#4e63ac\",\"#4e63ac\",\"#5ab4ab\",\"#fca55d\",\"#4e63ac\",\"#b8e2a1\",\"#4e63ac\",\"#e1f399\",\"#4e63ac\",\"#4e63ac\",\"#e1f399\",\"#4e63ac\",\"#4e63ac\",\"#4e63ac\",\"#6ec5a5\",\"#4e63ac\",\"#a2d9a4\",\"#4e63ac\",\"#4e63ac\",\"#4e63ac\",\"#ffffbe\",\"#edf8a3\",\"#fedc88\",\"#4e63ac\",\"#4e63ac\",\"#4e63ac\",\"#4e63ac\",\"#fedc88\",\"#a2d9a4\",\"#a2d9a4\",\"#f6fbb0\",\"#4e63ac\",\"#4e63ac\",\"#ed6246\",\"#4e63ac\",\"#4e63ac\",\"#b11747\",\"#4e63ac\",\"#4e63ac\",\"#4e63ac\",\"#4e63ac\",\"#4e63ac\",\"#358bbc\",\"#4e63ac\",\"#c52c4b\",\"#9e0142\",\"#4e63ac\",\"#4e63ac\",\"#4e63ac\",\"#4e63ac\",\"#4e63ac\",\"#4e63ac\",\"#4e63ac\",\"#4e63ac\",\"#4e63ac\",\"#4e63ac\",\"#4e63ac\",\"#edf8a3\",\"#e2514a\",\"#4e63ac\",\"#4e63ac\",\"#4e63ac\",\"#4e63ac\",\"#ed6246\",\"#4e63ac\",\"#4e63ac\",\"#e1f399\",\"#e1f399\",\"#e1f399\",\"#5ab4ab\",\"#4e63ac\",\"#47a0b3\",\"#4e63ac\",\"#6ec5a5\",\"#edf8a3\",\"#4e63ac\",\"#6ec5a5\",\"#fca55d\",\"#a2d9a4\",\"#4e63ac\",\"#4e63ac\",\"#9e0142\",\"#4e63ac\",\"#4e63ac\",\"#4e63ac\",\"#4e63ac\",\"#fee999\",\"#4e63ac\",\"#a2d9a4\",\"#e2514a\",\"#edf8a3\",\"#4e63ac\",\"#4e63ac\",\"#4e63ac\",\"#4e63ac\",\"#4e63ac\",\"#b8e2a1\",\"#e2514a\",\"#4e63ac\",\"#fedc88\",\"#cdeb9d\",\"#f57547\",\"#edf8a3\",\"#4e63ac\",\"#4e63ac\",\"#6ec5a5\",\"#a2d9a4\",\"#4e63ac\",\"#e1f399\",\"#4e63ac\",\"#4e63ac\",\"#4e63ac\",\"#4e63ac\",\"#4e63ac\",\"#9e0142\",\"#4e63ac\",\"#6ec5a5\",\"#6ec5a5\",\"#4e63ac\",\"#edf8a3\",\"#4e63ac\",\"#fca55d\",\"#4e63ac\",\"#4e63ac\",\"#edf8a3\",\"#4e63ac\",\"#4e63ac\",\"#4e63ac\",\"#4e63ac\",\"#6ec5a5\",\"#4e63ac\",\"#cdeb9d\",\"#4e63ac\",\"#9e0142\",\"#4e63ac\",\"#e2514a\",\"#4e63ac\",\"#4e63ac\",\"#4e63ac\",\"#e2514a\",\"#edf8a3\",\"#e2514a\",\"#fedc88\",\"#4e63ac\",\"#4e63ac\",\"#4e63ac\",\"#e2514a\",\"#a2d9a4\",\"#4e63ac\",\"#4e63ac\",\"#fca55d\",\"#4e63ac\",\"#fca55d\",\"#a2d9a4\",\"#e1f399\",\"#4e63ac\",\"#f6fbb0\",\"#9e0142\",\"#4e63ac\",\"#4e63ac\",\"#fff3ac\",\"#4e63ac\",\"#4e63ac\",\"#4e63ac\",\"#e2514a\",\"#4e63ac\",\"#fca55d\",\"#4e63ac\",\"#4e63ac\",\"#6ec5a5\",\"#edf8a3\",\"#4e63ac\",\"#e1f399\",\"#fca55d\",\"#e1f399\",\"#4e63ac\",\"#4e63ac\",\"#b8e2a1\",\"#4e63ac\",\"#e2514a\",\"#f57547\",\"#fca55d\",\"#4e63ac\",\"#4e63ac\",\"#6ec5a5\",\"#4e63ac\",\"#4e63ac\",\"#4e63ac\",\"#a2d9a4\",\"#b8e2a1\",\"#fca55d\",\"#4e63ac\",\"#4e63ac\",\"#4e63ac\",\"#4e63ac\",\"#4e63ac\",\"#4e63ac\",\"#4e63ac\",\"#4e63ac\",\"#e2514a\",\"#4e63ac\",\"#4e63ac\",\"#4e63ac\",\"#fedc88\",\"#4e63ac\",\"#4e63ac\",\"#4e63ac\",\"#4e63ac\",\"#4e63ac\",\"#4e63ac\",\"#4e63ac\",\"#4e63ac\",\"#4e63ac\",\"#4e63ac\",\"#4e63ac\",\"#4e63ac\",\"#a2d9a4\",\"#6ec5a5\",\"#d7414e\",\"#4e63ac\",\"#4e63ac\",\"#4e63ac\",\"#4e63ac\",\"#b11747\",\"#fedc88\",\"#fca55d\",\"#4e63ac\",\"#4e63ac\",\"#4e63ac\",\"#4e63ac\",\"#4e63ac\",\"#f57547\",\"#4e63ac\",\"#358bbc\",\"#6ec5a5\",\"#e2514a\",\"#4e63ac\",\"#6ec5a5\",\"#4e63ac\",\"#f6fbb0\",\"#4e63ac\",\"#4e63ac\",\"#4e63ac\",\"#4e63ac\",\"#4e63ac\",\"#4e63ac\",\"#fedc88\",\"#4e63ac\",\"#6ec5a5\",\"#4e63ac\",\"#4e63ac\",\"#4e63ac\",\"#4e63ac\",\"#ed6246\",\"#4e63ac\",\"#4e63ac\",\"#4e63ac\",\"#fee999\",\"#4e63ac\",\"#4e63ac\",\"#4e63ac\",\"#edf8a3\",\"#4e63ac\",\"#4e63ac\",\"#9e0142\",\"#4e63ac\",\"#4e63ac\",\"#4e63ac\",\"#e1f399\",\"#4e63ac\",\"#d7414e\",\"#fca55d\",\"#4e63ac\",\"#e1f399\",\"#6ec5a5\",\"#e1f399\",\"#d7414e\",\"#e1f399\",\"#e1f399\",\"#e2514a\",\"#4e63ac\",\"#4e63ac\",\"#4e63ac\",\"#4e63ac\",\"#f57547\",\"#6ec5a5\",\"#e2514a\",\"#4e63ac\",\"#fca55d\",\"#fca55d\",\"#4e63ac\",\"#b8e2a1\",\"#4e63ac\",\"#fedc88\",\"#fca55d\",\"#4e63ac\",\"#4e63ac\",\"#d7414e\",\"#d7414e\",\"#e2514a\",\"#9e0142\",\"#cdeb9d\",\"#4e63ac\",\"#fca55d\",\"#ffffbe\",\"#4e63ac\",\"#4e63ac\",\"#4e63ac\",\"#86cfa5\",\"#e1f399\",\"#4e63ac\",\"#4e63ac\",\"#4e63ac\",\"#4e63ac\",\"#4e63ac\",\"#4e63ac\",\"#6ec5a5\",\"#f6fbb0\",\"#4e63ac\",\"#4e63ac\",\"#4e63ac\",\"#4e63ac\",\"#fca55d\",\"#4e63ac\",\"#4e63ac\",\"#e1f399\",\"#fca55d\",\"#4e63ac\",\"#6ec5a5\",\"#a2d9a4\",\"#4e63ac\",\"#4e63ac\",\"#4e63ac\",\"#4e63ac\",\"#4e63ac\",\"#4e63ac\",\"#d7414e\",\"#6ec5a5\",\"#fedc88\",\"#e2514a\",\"#4e63ac\",\"#fca55d\",\"#4e63ac\",\"#5e4fa2\",\"#e1f399\",\"#4e63ac\",\"#fca55d\",\"#4e63ac\",\"#6ec5a5\",\"#4e63ac\",\"#4e63ac\",\"#d7414e\",\"#4e63ac\",\"#4e63ac\",\"#cdeb9d\",\"#4e63ac\",\"#4e63ac\",\"#fff3ac\",\"#4e63ac\",\"#4e63ac\",\"#e2514a\",\"#4e63ac\",\"#4e63ac\",\"#e2514a\",\"#4e63ac\",\"#cdeb9d\",\"#4e63ac\",\"#edf8a3\",\"#4e63ac\",\"#4e63ac\",\"#b11747\",\"#e2514a\",\"#4e63ac\",\"#4e63ac\",\"#4e63ac\",\"#fca55d\",\"#4e63ac\",\"#4e63ac\",\"#4e63ac\",\"#4e63ac\",\"#d7414e\",\"#4e63ac\",\"#6ec5a5\",\"#9e0142\",\"#c52c4b\",\"#c52c4b\",\"#4e63ac\",\"#d7414e\",\"#4e63ac\",\"#d7414e\",\"#4e63ac\",\"#4e63ac\",\"#4e63ac\",\"#fca55d\",\"#9e0142\",\"#4e63ac\",\"#e1f399\",\"#6ec5a5\",\"#5e4fa2\",\"#4e63ac\",\"#4e63ac\",\"#6ec5a5\",\"#4e63ac\",\"#4e63ac\",\"#cdeb9d\",\"#4e63ac\",\"#4e63ac\",\"#6ec5a5\",\"#4e63ac\",\"#4e63ac\",\"#4e63ac\",\"#e2514a\",\"#fca55d\",\"#4e63ac\",\"#4e63ac\",\"#4e63ac\",\"#9e0142\",\"#4e63ac\",\"#4e63ac\",\"#edf8a3\",\"#4e63ac\",\"#d7414e\",\"#4e63ac\",\"#4e63ac\",\"#4e63ac\",\"#4e63ac\",\"#4e63ac\",\"#4e63ac\",\"#4e63ac\",\"#5ab4ab\",\"#e1f399\",\"#4e63ac\",\"#4e63ac\",\"#e2514a\",\"#4e63ac\",\"#4e63ac\",\"#47a0b3\",\"#4e63ac\",\"#fca55d\",\"#4e63ac\",\"#4e63ac\",\"#4e63ac\",\"#4e63ac\",\"#4e63ac\",\"#d7414e\",\"#4e63ac\",\"#4e63ac\",\"#4e63ac\",\"#4e63ac\",\"#e2514a\",\"#4e63ac\",\"#e1f399\",\"#4e63ac\",\"#4e63ac\",\"#d7414e\",\"#4e63ac\",\"#4e63ac\",\"#6ec5a5\",\"#3f77b5\",\"#4e63ac\",\"#edf8a3\",\"#6ec5a5\",\"#4e63ac\",\"#fca55d\",\"#ed6246\",\"#4e63ac\",\"#4e63ac\",\"#4e63ac\",\"#e1f399\",\"#4e63ac\",\"#4e63ac\",\"#9e0142\",\"#d7414e\",\"#4e63ac\",\"#4e63ac\",\"#4e63ac\",\"#edf8a3\",\"#4e63ac\",\"#4e63ac\",\"#f6fbb0\",\"#4e63ac\",\"#d7414e\",\"#4e63ac\",\"#4e63ac\",\"#9e0142\",\"#4e63ac\",\"#4e63ac\",\"#4e63ac\",\"#9e0142\",\"#4e63ac\",\"#4e63ac\",\"#3f77b5\",\"#cdeb9d\",\"#4e63ac\",\"#4e63ac\",\"#9e0142\",\"#4e63ac\",\"#4e63ac\",\"#4e63ac\",\"#4e63ac\",\"#e1f399\",\"#4e63ac\",\"#e2514a\",\"#4e63ac\",\"#4e63ac\",\"#4e63ac\",\"#4e63ac\",\"#4e63ac\",\"#b11747\",\"#f6fbb0\",\"#4e63ac\",\"#4e63ac\",\"#4e63ac\",\"#4e63ac\",\"#fdb96a\",\"#4e63ac\",\"#86cfa5\",\"#f57547\",\"#6ec5a5\",\"#edf8a3\",\"#f57547\",\"#4e63ac\",\"#4e63ac\",\"#4e63ac\",\"#fca55d\",\"#4e63ac\",\"#4e63ac\",\"#6ec5a5\",\"#4e63ac\",\"#4e63ac\",\"#4e63ac\",\"#4e63ac\",\"#4e63ac\",\"#4e63ac\",\"#e1f399\",\"#d7414e\",\"#fca55d\",\"#4e63ac\",\"#e1f399\",\"#4e63ac\",\"#a2d9a4\",\"#4e63ac\",\"#6ec5a5\",\"#4e63ac\",\"#e1f399\",\"#fca55d\",\"#4e63ac\",\"#4e63ac\",\"#4e63ac\",\"#e2514a\",\"#9e0142\",\"#e1f399\",\"#fedc88\",\"#4e63ac\",\"#4e63ac\",\"#4e63ac\",\"#4e63ac\",\"#4e63ac\",\"#edf8a3\",\"#4e63ac\",\"#fca55d\",\"#4e63ac\",\"#6ec5a5\",\"#4e63ac\",\"#4e63ac\",\"#cdeb9d\",\"#4e63ac\",\"#d7414e\",\"#4e63ac\",\"#4e63ac\",\"#4e63ac\",\"#4e63ac\",\"#4e63ac\",\"#4e63ac\",\"#4e63ac\",\"#4e63ac\",\"#e1f399\",\"#4e63ac\",\"#4e63ac\",\"#9e0142\",\"#a2d9a4\",\"#b8e2a1\",\"#4e63ac\",\"#fca55d\",\"#4e63ac\",\"#e2514a\",\"#4e63ac\",\"#4e63ac\",\"#4e63ac\",\"#86cfa5\",\"#e1f399\",\"#4e63ac\",\"#4e63ac\",\"#4e63ac\",\"#4e63ac\",\"#4e63ac\",\"#4e63ac\",\"#e2514a\",\"#4e63ac\",\"#ed6246\",\"#4e63ac\",\"#4e63ac\",\"#fca55d\",\"#4e63ac\",\"#4e63ac\",\"#a2d9a4\",\"#4e63ac\",\"#b11747\",\"#cdeb9d\",\"#f57547\",\"#4e63ac\",\"#4e63ac\",\"#b8e2a1\",\"#4e63ac\",\"#edf8a3\",\"#fca55d\",\"#4e63ac\",\"#e1f399\",\"#4e63ac\",\"#fca55d\",\"#4e63ac\",\"#4e63ac\",\"#4e63ac\",\"#4e63ac\",\"#4e63ac\",\"#e1f399\",\"#e2514a\",\"#fff3ac\",\"#e2514a\",\"#4e63ac\",\"#4e63ac\",\"#4e63ac\",\"#5e4fa2\",\"#4e63ac\",\"#4e63ac\",\"#6ec5a5\",\"#6ec5a5\",\"#4e63ac\",\"#a2d9a4\",\"#4e63ac\",\"#4e63ac\",\"#4e63ac\",\"#4e63ac\",\"#4e63ac\",\"#4e63ac\",\"#4e63ac\",\"#6ec5a5\",\"#fedc88\",\"#4e63ac\",\"#4e63ac\",\"#4e63ac\",\"#4e63ac\",\"#4e63ac\",\"#e2514a\",\"#e1f399\",\"#4e63ac\",\"#9e0142\",\"#4e63ac\",\"#d7414e\",\"#4e63ac\",\"#4e63ac\",\"#4e63ac\",\"#4e63ac\",\"#fca55d\",\"#4e63ac\",\"#4e63ac\",\"#4e63ac\",\"#f98e52\",\"#4e63ac\",\"#6ec5a5\",\"#edf8a3\",\"#c52c4b\",\"#cdeb9d\",\"#4e63ac\",\"#4e63ac\",\"#4e63ac\",\"#4e63ac\",\"#4e63ac\",\"#4e63ac\",\"#4e63ac\",\"#edf8a3\",\"#b11747\",\"#6ec5a5\",\"#6ec5a5\",\"#e2514a\",\"#4e63ac\",\"#4e63ac\",\"#c52c4b\",\"#edf8a3\",\"#e1f399\",\"#c52c4b\",\"#4e63ac\",\"#4e63ac\",\"#4e63ac\",\"#a2d9a4\",\"#4e63ac\",\"#4e63ac\",\"#4e63ac\",\"#e2514a\",\"#4e63ac\",\"#4e63ac\",\"#4e63ac\",\"#d7414e\",\"#4e63ac\",\"#4e63ac\",\"#4e63ac\",\"#4e63ac\",\"#4e63ac\",\"#a2d9a4\",\"#fca55d\",\"#fca55d\",\"#fca55d\",\"#edf8a3\",\"#4e63ac\",\"#4e63ac\",\"#4e63ac\",\"#e1f399\",\"#4e63ac\",\"#ed6246\",\"#4e63ac\",\"#4e63ac\",\"#6ec5a5\",\"#fca55d\",\"#4e63ac\",\"#4e63ac\",\"#4e63ac\",\"#6ec5a5\",\"#fedc88\",\"#d7414e\",\"#4e63ac\",\"#a2d9a4\",\"#4e63ac\",\"#4e63ac\",\"#4e63ac\",\"#9e0142\",\"#4e63ac\",\"#4e63ac\",\"#4e63ac\",\"#4e63ac\",\"#4e63ac\",\"#4e63ac\",\"#4e63ac\",\"#6ec5a5\",\"#4e63ac\",\"#e1f399\",\"#edf8a3\",\"#4e63ac\",\"#4e63ac\",\"#e1f399\",\"#e2514a\",\"#4e63ac\",\"#4e63ac\",\"#d7414e\",\"#4e63ac\",\"#4e63ac\",\"#4e63ac\",\"#4e63ac\",\"#6ec5a5\",\"#e1f399\",\"#cdeb9d\",\"#4e63ac\",\"#4e63ac\",\"#b8e2a1\",\"#4e63ac\",\"#4e63ac\",\"#358bbc\",\"#4e63ac\",\"#4e63ac\",\"#4e63ac\",\"#e2514a\",\"#fca55d\",\"#4e63ac\",\"#4e63ac\",\"#9e0142\",\"#4e63ac\",\"#6ec5a5\",\"#f57547\",\"#4e63ac\",\"#4e63ac\",\"#edf8a3\",\"#4e63ac\",\"#4e63ac\",\"#4e63ac\",\"#4e63ac\",\"#4e63ac\",\"#4e63ac\",\"#4e63ac\",\"#fca55d\",\"#4e63ac\",\"#cdeb9d\",\"#a2d9a4\",\"#f6fbb0\",\"#a2d9a4\",\"#fca55d\",\"#4e63ac\",\"#4e63ac\",\"#4e63ac\",\"#4e63ac\",\"#fedc88\",\"#fedc88\",\"#fedc88\",\"#edf8a3\",\"#4e63ac\",\"#4e63ac\",\"#e1f399\",\"#4e63ac\",\"#4e63ac\",\"#edf8a3\",\"#4e63ac\",\"#4e63ac\",\"#4e63ac\",\"#4e63ac\",\"#fca55d\",\"#4e63ac\",\"#4e63ac\",\"#fca55d\",\"#e2514a\",\"#4e63ac\",\"#4e63ac\",\"#e1f399\",\"#4e63ac\",\"#4e63ac\",\"#4e63ac\",\"#fedc88\",\"#4e63ac\",\"#4e63ac\",\"#fca55d\",\"#4e63ac\",\"#edf8a3\",\"#6ec5a5\",\"#e1f399\",\"#4e63ac\",\"#fca55d\",\"#4e63ac\",\"#4e63ac\",\"#4e63ac\",\"#4e63ac\",\"#358bbc\",\"#4e63ac\",\"#4e63ac\",\"#4e63ac\",\"#fca55d\",\"#4e63ac\",\"#4e63ac\",\"#f98e52\",\"#e2514a\",\"#4e63ac\",\"#4e63ac\",\"#fca55d\",\"#b8e2a1\",\"#4e63ac\",\"#4e63ac\",\"#4e63ac\",\"#4e63ac\",\"#4e63ac\",\"#6ec5a5\",\"#cdeb9d\",\"#4e63ac\",\"#a2d9a4\",\"#4e63ac\",\"#4e63ac\",\"#4e63ac\",\"#6ec5a5\",\"#ed6246\",\"#4e63ac\",\"#6ec5a5\",\"#ffffbe\",\"#4e63ac\",\"#9e0142\",\"#e2514a\",\"#e2514a\",\"#4e63ac\",\"#4e63ac\",\"#4e63ac\",\"#4e63ac\",\"#358bbc\",\"#fca55d\",\"#4e63ac\",\"#358bbc\",\"#fca55d\",\"#3f77b5\",\"#4e63ac\",\"#4e63ac\",\"#4e63ac\",\"#f57547\",\"#4e63ac\",\"#fca55d\",\"#4e63ac\",\"#6ec5a5\",\"#4e63ac\",\"#4e63ac\",\"#4e63ac\",\"#4e63ac\",\"#358bbc\",\"#4e63ac\",\"#e2514a\",\"#4e63ac\",\"#fee999\",\"#4e63ac\",\"#4e63ac\",\"#4e63ac\",\"#fca55d\",\"#4e63ac\",\"#4e63ac\",\"#4e63ac\",\"#9e0142\",\"#edf8a3\",\"#4e63ac\",\"#6ec5a5\",\"#6ec5a5\",\"#a2d9a4\",\"#c52c4b\",\"#a2d9a4\",\"#e1f399\",\"#4e63ac\",\"#fca55d\",\"#e2514a\",\"#4e63ac\",\"#4e63ac\",\"#4e63ac\",\"#4e63ac\",\"#4e63ac\",\"#4e63ac\",\"#4e63ac\",\"#edf8a3\",\"#4e63ac\",\"#4e63ac\",\"#e2514a\",\"#4e63ac\",\"#4e63ac\",\"#4e63ac\",\"#4e63ac\",\"#4e63ac\",\"#4e63ac\",\"#358bbc\",\"#fca55d\",\"#4e63ac\",\"#4e63ac\",\"#4e63ac\",\"#4e63ac\",\"#4e63ac\",\"#4e63ac\",\"#d7414e\",\"#fca55d\",\"#6ec5a5\",\"#4e63ac\",\"#4e63ac\",\"#fedc88\",\"#4e63ac\",\"#fedc88\",\"#4e63ac\",\"#c52c4b\",\"#4e63ac\",\"#edf8a3\",\"#4e63ac\",\"#4e63ac\",\"#4e63ac\",\"#4e63ac\",\"#4e63ac\",\"#4e63ac\",\"#cdeb9d\",\"#6ec5a5\",\"#4e63ac\",\"#4e63ac\",\"#4e63ac\",\"#4e63ac\",\"#4e63ac\",\"#edf8a3\",\"#6ec5a5\",\"#358bbc\",\"#6ec5a5\",\"#4e63ac\",\"#4e63ac\",\"#fca55d\",\"#4e63ac\",\"#4e63ac\",\"#4e63ac\",\"#4e63ac\",\"#edf8a3\",\"#4e63ac\",\"#4e63ac\",\"#4e63ac\",\"#4e63ac\",\"#4e63ac\",\"#b11747\",\"#4e63ac\",\"#4e63ac\",\"#e1f399\",\"#4e63ac\",\"#4e63ac\",\"#4e63ac\",\"#4e63ac\",\"#9e0142\",\"#3f77b5\",\"#f57547\",\"#edf8a3\",\"#4e63ac\",\"#e2514a\",\"#4e63ac\",\"#4e63ac\",\"#4e63ac\",\"#4e63ac\",\"#4e63ac\",\"#cdeb9d\",\"#4e63ac\",\"#4e63ac\",\"#4e63ac\",\"#fedc88\",\"#4e63ac\",\"#4e63ac\",\"#4e63ac\",\"#4e63ac\",\"#ed6246\",\"#4e63ac\",\"#4e63ac\",\"#e2514a\",\"#cdeb9d\",\"#4e63ac\",\"#fca55d\",\"#4e63ac\",\"#fff3ac\",\"#4e63ac\",\"#fff3ac\",\"#4e63ac\",\"#4e63ac\",\"#4e63ac\",\"#4e63ac\",\"#6ec5a5\",\"#4e63ac\",\"#fedc88\",\"#4e63ac\",\"#9e0142\",\"#4e63ac\",\"#b11747\",\"#4e63ac\",\"#4e63ac\",\"#4e63ac\",\"#fca55d\",\"#5ab4ab\",\"#4e63ac\",\"#fca55d\",\"#fedc88\",\"#4e63ac\",\"#ed6246\",\"#4e63ac\",\"#fedc88\",\"#a2d9a4\",\"#6ec5a5\",\"#4e63ac\",\"#4e63ac\",\"#4e63ac\",\"#86cfa5\",\"#4e63ac\",\"#4e63ac\",\"#d7414e\",\"#e2514a\",\"#fedc88\",\"#9e0142\",\"#4e63ac\",\"#9e0142\",\"#4e63ac\",\"#e1f399\",\"#6ec5a5\",\"#e2514a\",\"#e2514a\",\"#4e63ac\",\"#e2514a\",\"#fca55d\",\"#4e63ac\",\"#4e63ac\",\"#fedc88\",\"#9e0142\",\"#4e63ac\",\"#f6fbb0\",\"#4e63ac\",\"#4e63ac\",\"#a2d9a4\",\"#4e63ac\",\"#e1f399\",\"#4e63ac\",\"#e2514a\",\"#4e63ac\",\"#4e63ac\",\"#f6fbb0\",\"#4e63ac\",\"#4e63ac\",\"#4e63ac\",\"#4e63ac\",\"#e2514a\",\"#e2514a\",\"#cdeb9d\",\"#4e63ac\",\"#4e63ac\",\"#4e63ac\",\"#4e63ac\",\"#cdeb9d\",\"#4e63ac\",\"#4e63ac\",\"#4e63ac\",\"#e1f399\",\"#4e63ac\",\"#4e63ac\",\"#4e63ac\",\"#6ec5a5\",\"#4e63ac\",\"#4e63ac\",\"#4e63ac\",\"#9e0142\",\"#4e63ac\",\"#5ab4ab\",\"#4e63ac\",\"#4e63ac\",\"#4e63ac\",\"#4e63ac\",\"#e2514a\",\"#4e63ac\",\"#b8e2a1\",\"#4e63ac\",\"#4e63ac\",\"#4e63ac\",\"#4e63ac\",\"#4e63ac\",\"#4e63ac\",\"#4e63ac\",\"#4e63ac\",\"#4e63ac\",\"#4e63ac\",\"#4e63ac\",\"#a2d9a4\",\"#e2514a\",\"#4e63ac\",\"#4e63ac\",\"#4e63ac\",\"#4e63ac\",\"#4e63ac\",\"#a2d9a4\",\"#feca79\",\"#4e63ac\",\"#4e63ac\",\"#86cfa5\",\"#4e63ac\",\"#86cfa5\",\"#4e63ac\",\"#4e63ac\",\"#4e63ac\",\"#6ec5a5\",\"#4e63ac\",\"#4e63ac\",\"#fedc88\",\"#cdeb9d\",\"#4e63ac\",\"#f6fbb0\",\"#fca55d\",\"#4e63ac\",\"#4e63ac\",\"#86cfa5\",\"#6ec5a5\",\"#fca55d\",\"#d7414e\",\"#4e63ac\",\"#4e63ac\",\"#cdeb9d\",\"#4e63ac\",\"#4e63ac\",\"#4e63ac\",\"#4e63ac\",\"#e1f399\",\"#4e63ac\",\"#4e63ac\",\"#6ec5a5\",\"#4e63ac\",\"#ffffbe\",\"#4e63ac\",\"#d7414e\",\"#fca55d\",\"#4e63ac\",\"#358bbc\",\"#fca55d\",\"#4e63ac\",\"#4e63ac\",\"#4e63ac\",\"#4e63ac\",\"#4e63ac\",\"#4e63ac\",\"#4e63ac\",\"#4e63ac\",\"#4e63ac\",\"#edf8a3\",\"#4e63ac\",\"#fedc88\",\"#fca55d\",\"#f6fbb0\",\"#4e63ac\",\"#4e63ac\",\"#4e63ac\",\"#4e63ac\",\"#4e63ac\",\"#a2d9a4\",\"#4e63ac\",\"#d7414e\",\"#a2d9a4\",\"#4e63ac\",\"#4e63ac\",\"#4e63ac\",\"#4e63ac\",\"#4e63ac\",\"#e1f399\",\"#4e63ac\",\"#e2514a\",\"#4e63ac\",\"#f57547\",\"#fedc88\",\"#e2514a\",\"#4e63ac\",\"#e1f399\",\"#ed6246\",\"#4e63ac\",\"#358bbc\",\"#ed6246\",\"#4e63ac\",\"#b11747\",\"#fca55d\",\"#4e63ac\",\"#fca55d\",\"#6ec5a5\",\"#4e63ac\",\"#4e63ac\",\"#4e63ac\",\"#4e63ac\",\"#b8e2a1\",\"#9e0142\",\"#4e63ac\",\"#4e63ac\",\"#4e63ac\",\"#6ec5a5\",\"#4e63ac\",\"#9e0142\",\"#4e63ac\",\"#e2514a\",\"#4e63ac\",\"#4e63ac\",\"#fedc88\",\"#4e63ac\",\"#a2d9a4\",\"#9e0142\",\"#4e63ac\",\"#4e63ac\",\"#4e63ac\",\"#4e63ac\",\"#e1f399\",\"#f6fbb0\",\"#4e63ac\",\"#4e63ac\",\"#d7414e\",\"#4e63ac\",\"#4e63ac\",\"#edf8a3\",\"#4e63ac\",\"#4e63ac\",\"#9e0142\",\"#4e63ac\",\"#cdeb9d\",\"#4e63ac\",\"#4e63ac\",\"#e2514a\",\"#3f77b5\",\"#6ec5a5\",\"#fca55d\",\"#4e63ac\",\"#4e63ac\",\"#4e63ac\",\"#cdeb9d\",\"#fca55d\",\"#4e63ac\",\"#f98e52\",\"#4e63ac\",\"#4e63ac\",\"#fedc88\",\"#4e63ac\",\"#5ab4ab\",\"#4e63ac\",\"#e1f399\",\"#4e63ac\",\"#fca55d\",\"#edf8a3\",\"#fedc88\",\"#fca55d\",\"#4e63ac\",\"#4e63ac\",\"#4e63ac\",\"#4e63ac\",\"#358bbc\",\"#6ec5a5\",\"#4e63ac\",\"#edf8a3\",\"#a2d9a4\",\"#6ec5a5\",\"#4e63ac\",\"#9e0142\",\"#edf8a3\",\"#4e63ac\",\"#4e63ac\",\"#4e63ac\",\"#b8e2a1\",\"#fca55d\",\"#4e63ac\",\"#a2d9a4\",\"#4e63ac\",\"#4e63ac\",\"#4e63ac\",\"#4e63ac\",\"#6ec5a5\",\"#4e63ac\",\"#edf8a3\",\"#4e63ac\",\"#e2514a\",\"#4e63ac\",\"#4e63ac\",\"#4e63ac\",\"#ffffbe\",\"#e1f399\",\"#4e63ac\",\"#4e63ac\",\"#4e63ac\",\"#4e63ac\",\"#fedc88\",\"#a2d9a4\",\"#4e63ac\",\"#4e63ac\",\"#4e63ac\",\"#4e63ac\",\"#4e63ac\",\"#4e63ac\",\"#4e63ac\",\"#4e63ac\",\"#4e63ac\",\"#fca55d\",\"#edf8a3\",\"#4e63ac\",\"#6ec5a5\",\"#4e63ac\",\"#4e63ac\",\"#4e63ac\",\"#4e63ac\",\"#4e63ac\",\"#6ec5a5\",\"#4e63ac\",\"#4e63ac\",\"#fedc88\",\"#e1f399\",\"#4e63ac\",\"#4e63ac\",\"#4e63ac\",\"#9e0142\",\"#4e63ac\",\"#4e63ac\",\"#fca55d\",\"#fca55d\",\"#4e63ac\",\"#4e63ac\",\"#4e63ac\",\"#fca55d\",\"#4e63ac\",\"#6ec5a5\",\"#4e63ac\",\"#4e63ac\",\"#fedc88\",\"#e2514a\",\"#4e63ac\",\"#4e63ac\",\"#fedc88\",\"#4e63ac\",\"#4e63ac\",\"#4e63ac\",\"#9e0142\",\"#e1f399\",\"#4e63ac\",\"#4e63ac\",\"#fee999\",\"#4e63ac\",\"#4e63ac\",\"#4e63ac\",\"#4e63ac\",\"#4e63ac\",\"#d7414e\",\"#a2d9a4\",\"#a2d9a4\",\"#ffffbe\",\"#4e63ac\",\"#4e63ac\",\"#fca55d\",\"#6ec5a5\",\"#4e63ac\",\"#4e63ac\",\"#4e63ac\",\"#9e0142\",\"#6ec5a5\",\"#e2514a\",\"#fca55d\",\"#fedc88\",\"#4e63ac\",\"#4e63ac\",\"#4e63ac\",\"#4e63ac\",\"#5ab4ab\",\"#edf8a3\",\"#4e63ac\",\"#4e63ac\",\"#4e63ac\",\"#fca55d\",\"#4e63ac\",\"#a2d9a4\",\"#4e63ac\",\"#4e63ac\",\"#fff3ac\",\"#9e0142\",\"#e2514a\",\"#fca55d\",\"#4e63ac\",\"#4e63ac\",\"#a2d9a4\",\"#4e63ac\",\"#f6fbb0\",\"#9e0142\",\"#e2514a\",\"#4e63ac\",\"#4e63ac\",\"#4e63ac\",\"#6ec5a5\",\"#4e63ac\",\"#6ec5a5\",\"#e1f399\",\"#d7414e\",\"#47a0b3\",\"#4e63ac\",\"#6ec5a5\",\"#4e63ac\",\"#9e0142\",\"#9e0142\",\"#4e63ac\",\"#fca55d\",\"#4e63ac\",\"#6ec5a5\",\"#4e63ac\",\"#4e63ac\",\"#4e63ac\",\"#4e63ac\",\"#b8e2a1\",\"#4e63ac\",\"#4e63ac\",\"#e2514a\",\"#4e63ac\",\"#4e63ac\",\"#4e63ac\",\"#f6fbb0\",\"#4e63ac\",\"#4e63ac\",\"#4e63ac\",\"#4e63ac\",\"#4e63ac\",\"#4e63ac\",\"#6ec5a5\",\"#4e63ac\",\"#e2514a\",\"#9e0142\",\"#e2514a\",\"#4e63ac\",\"#4e63ac\",\"#4e63ac\",\"#4e63ac\",\"#cdeb9d\",\"#4e63ac\",\"#5ab4ab\",\"#4e63ac\",\"#4e63ac\",\"#4e63ac\",\"#fca55d\",\"#4e63ac\",\"#5ab4ab\",\"#6ec5a5\",\"#4e63ac\",\"#6ec5a5\",\"#fca55d\",\"#4e63ac\",\"#4e63ac\",\"#47a0b3\",\"#4e63ac\",\"#4e63ac\",\"#d7414e\",\"#4e63ac\",\"#fff3ac\",\"#4e63ac\",\"#edf8a3\",\"#6ec5a5\",\"#6ec5a5\",\"#fedc88\",\"#fca55d\",\"#cdeb9d\",\"#e2514a\",\"#4e63ac\",\"#a2d9a4\",\"#4e63ac\",\"#4e63ac\",\"#a2d9a4\",\"#4e63ac\",\"#fca55d\",\"#4e63ac\",\"#4e63ac\",\"#4e63ac\",\"#e2514a\",\"#a2d9a4\",\"#4e63ac\",\"#9e0142\",\"#4e63ac\",\"#a2d9a4\",\"#edf8a3\",\"#edf8a3\",\"#4e63ac\",\"#4e63ac\",\"#4e63ac\",\"#6ec5a5\",\"#6ec5a5\",\"#fca55d\",\"#6ec5a5\",\"#6ec5a5\",\"#4e63ac\",\"#fca55d\",\"#4e63ac\",\"#4e63ac\",\"#edf8a3\",\"#e1f399\",\"#4e63ac\",\"#4e63ac\",\"#4e63ac\",\"#4e63ac\",\"#4e63ac\",\"#4e63ac\",\"#4e63ac\",\"#4e63ac\",\"#4e63ac\",\"#4e63ac\",\"#4e63ac\",\"#a2d9a4\",\"#4e63ac\",\"#4e63ac\",\"#4e63ac\",\"#4e63ac\",\"#5ab4ab\",\"#4e63ac\",\"#4e63ac\",\"#4e63ac\",\"#fca55d\",\"#4e63ac\",\"#4e63ac\",\"#4e63ac\",\"#4e63ac\",\"#4e63ac\",\"#4e63ac\",\"#fedc88\",\"#4e63ac\",\"#e2514a\",\"#4e63ac\",\"#4e63ac\",\"#4e63ac\",\"#4e63ac\",\"#fca55d\",\"#edf8a3\",\"#e2514a\",\"#4e63ac\",\"#4e63ac\",\"#4e63ac\",\"#4e63ac\",\"#c52c4b\",\"#4e63ac\",\"#9e0142\",\"#4e63ac\",\"#fca55d\",\"#4e63ac\",\"#4e63ac\",\"#cdeb9d\",\"#fca55d\",\"#cdeb9d\",\"#6ec5a5\",\"#4e63ac\",\"#4e63ac\",\"#4e63ac\",\"#4e63ac\",\"#4e63ac\",\"#9e0142\",\"#e2514a\",\"#4e63ac\",\"#4e63ac\",\"#ed6246\",\"#4e63ac\",\"#4e63ac\",\"#4e63ac\",\"#4e63ac\",\"#4e63ac\",\"#4e63ac\",\"#4e63ac\",\"#4e63ac\",\"#4e63ac\",\"#4e63ac\",\"#fca55d\",\"#4e63ac\",\"#4e63ac\",\"#4e63ac\",\"#4e63ac\",\"#6ec5a5\",\"#4e63ac\",\"#a2d9a4\",\"#4e63ac\",\"#cdeb9d\",\"#4e63ac\",\"#4e63ac\",\"#edf8a3\",\"#4e63ac\",\"#cdeb9d\",\"#4e63ac\",\"#4e63ac\",\"#4e63ac\",\"#4e63ac\",\"#4e63ac\",\"#a2d9a4\",\"#4e63ac\",\"#5ab4ab\",\"#c52c4b\",\"#4e63ac\",\"#4e63ac\",\"#4e63ac\",\"#4e63ac\",\"#d7414e\",\"#4e63ac\",\"#86cfa5\",\"#4e63ac\",\"#4e63ac\",\"#4e63ac\",\"#4e63ac\",\"#4e63ac\",\"#4e63ac\",\"#4e63ac\",\"#6ec5a5\",\"#4e63ac\",\"#4e63ac\",\"#358bbc\",\"#4e63ac\",\"#edf8a3\",\"#4e63ac\",\"#4e63ac\",\"#4e63ac\",\"#cdeb9d\",\"#6ec5a5\",\"#4e63ac\",\"#4e63ac\",\"#6ec5a5\",\"#4e63ac\",\"#4e63ac\",\"#fca55d\",\"#358bbc\",\"#4e63ac\",\"#e2514a\",\"#4e63ac\",\"#4e63ac\",\"#4e63ac\",\"#4e63ac\",\"#4e63ac\",\"#4e63ac\",\"#6ec5a5\",\"#4e63ac\",\"#4e63ac\",\"#4e63ac\",\"#4e63ac\",\"#fca55d\",\"#4e63ac\",\"#4e63ac\",\"#4e63ac\",\"#4e63ac\",\"#fca55d\",\"#4e63ac\",\"#f57547\",\"#4e63ac\",\"#4e63ac\",\"#a2d9a4\",\"#fca55d\",\"#6ec5a5\",\"#4e63ac\",\"#4e63ac\",\"#358bbc\",\"#4e63ac\",\"#4e63ac\",\"#4e63ac\",\"#4e63ac\",\"#fca55d\",\"#4e63ac\",\"#4e63ac\",\"#4e63ac\",\"#4e63ac\",\"#f6fbb0\",\"#fedc88\",\"#b8e2a1\",\"#4e63ac\",\"#47a0b3\",\"#e2514a\",\"#4e63ac\",\"#4e63ac\",\"#4e63ac\",\"#4e63ac\",\"#fee999\",\"#4e63ac\",\"#4e63ac\",\"#a2d9a4\",\"#fca55d\",\"#fca55d\",\"#b8e2a1\",\"#4e63ac\",\"#d7414e\",\"#4e63ac\",\"#4e63ac\",\"#fca55d\",\"#4e63ac\",\"#5e4fa2\",\"#d7414e\",\"#4e63ac\",\"#fca55d\",\"#4e63ac\",\"#4e63ac\",\"#4e63ac\",\"#fdb96a\",\"#f6fbb0\",\"#4e63ac\",\"#4e63ac\",\"#fca55d\",\"#4e63ac\",\"#4e63ac\",\"#4e63ac\",\"#4e63ac\",\"#4e63ac\",\"#4e63ac\",\"#4e63ac\",\"#e2514a\",\"#4e63ac\",\"#5ab4ab\",\"#d7414e\",\"#4e63ac\",\"#4e63ac\",\"#4e63ac\",\"#4e63ac\",\"#6ec5a5\",\"#4e63ac\",\"#4e63ac\",\"#4e63ac\",\"#4e63ac\",\"#edf8a3\",\"#4e63ac\",\"#4e63ac\",\"#c52c4b\",\"#e2514a\",\"#4e63ac\",\"#fca55d\",\"#6ec5a5\",\"#4e63ac\",\"#ffffbe\",\"#fca55d\",\"#fca55d\",\"#d7414e\",\"#fca55d\",\"#e2514a\",\"#4e63ac\",\"#fca55d\",\"#4e63ac\",\"#4e63ac\",\"#4e63ac\",\"#4e63ac\",\"#4e63ac\",\"#4e63ac\",\"#fff3ac\",\"#4e63ac\",\"#6ec5a5\",\"#4e63ac\",\"#ffffbe\",\"#4e63ac\",\"#d7414e\",\"#d7414e\",\"#4e63ac\",\"#4e63ac\",\"#cdeb9d\",\"#a2d9a4\",\"#4e63ac\",\"#4e63ac\",\"#4e63ac\",\"#edf8a3\",\"#f98e52\",\"#e1f399\",\"#47a0b3\",\"#4e63ac\",\"#4e63ac\",\"#4e63ac\",\"#4e63ac\",\"#f57547\",\"#4e63ac\",\"#ed6246\",\"#d7414e\",\"#4e63ac\",\"#4e63ac\",\"#4e63ac\",\"#4e63ac\",\"#9e0142\",\"#6ec5a5\",\"#4e63ac\",\"#5ab4ab\",\"#4e63ac\",\"#4e63ac\",\"#fedc88\",\"#4e63ac\",\"#4e63ac\",\"#4e63ac\",\"#fff3ac\",\"#4e63ac\",\"#4e63ac\",\"#d7414e\",\"#e2514a\",\"#4e63ac\",\"#4e63ac\",\"#6ec5a5\",\"#4e63ac\",\"#4e63ac\",\"#fca55d\",\"#4e63ac\",\"#cdeb9d\",\"#4e63ac\",\"#4e63ac\",\"#ed6246\",\"#4e63ac\",\"#4e63ac\",\"#4e63ac\",\"#358bbc\",\"#fca55d\",\"#fca55d\",\"#4e63ac\",\"#fca55d\",\"#4e63ac\",\"#cdeb9d\",\"#4e63ac\",\"#fca55d\",\"#edf8a3\",\"#4e63ac\",\"#4e63ac\",\"#4e63ac\",\"#4e63ac\",\"#4e63ac\",\"#4e63ac\",\"#cdeb9d\",\"#d7414e\",\"#4e63ac\",\"#4e63ac\",\"#fca55d\",\"#4e63ac\",\"#4e63ac\",\"#4e63ac\",\"#4e63ac\",\"#4e63ac\",\"#4e63ac\",\"#4e63ac\",\"#4e63ac\",\"#a2d9a4\",\"#4e63ac\",\"#4e63ac\",\"#4e63ac\",\"#4e63ac\",\"#4e63ac\",\"#6ec5a5\",\"#4e63ac\",\"#86cfa5\",\"#4e63ac\",\"#4e63ac\",\"#4e63ac\",\"#4e63ac\",\"#cdeb9d\",\"#9e0142\",\"#d7414e\",\"#4e63ac\",\"#4e63ac\",\"#fca55d\",\"#4e63ac\",\"#4e63ac\",\"#fedc88\",\"#4e63ac\",\"#4e63ac\",\"#4e63ac\",\"#4e63ac\",\"#4e63ac\",\"#4e63ac\",\"#ed6246\",\"#4e63ac\",\"#fff3ac\",\"#4e63ac\",\"#4e63ac\",\"#4e63ac\",\"#4e63ac\",\"#4e63ac\",\"#4e63ac\",\"#4e63ac\",\"#4e63ac\",\"#4e63ac\",\"#4e63ac\",\"#d7414e\",\"#9e0142\",\"#fedc88\",\"#4e63ac\",\"#4e63ac\",\"#4e63ac\",\"#e1f399\",\"#edf8a3\",\"#4e63ac\",\"#4e63ac\",\"#ed6246\",\"#edf8a3\",\"#4e63ac\",\"#4e63ac\",\"#4e63ac\",\"#e2514a\",\"#6ec5a5\",\"#4e63ac\",\"#4e63ac\",\"#4e63ac\",\"#4e63ac\",\"#4e63ac\",\"#4e63ac\",\"#4e63ac\",\"#4e63ac\",\"#c52c4b\",\"#e2514a\",\"#4e63ac\",\"#4e63ac\",\"#4e63ac\",\"#4e63ac\",\"#358bbc\",\"#4e63ac\",\"#4e63ac\",\"#edf8a3\",\"#cdeb9d\",\"#6ec5a5\",\"#6ec5a5\",\"#4e63ac\",\"#358bbc\",\"#4e63ac\",\"#4e63ac\",\"#e1f399\",\"#feca79\",\"#4e63ac\",\"#4e63ac\",\"#4e63ac\",\"#f6fbb0\",\"#fca55d\",\"#e1f399\",\"#fca55d\",\"#6ec5a5\",\"#4e63ac\",\"#4e63ac\",\"#fca55d\",\"#4e63ac\",\"#4e63ac\",\"#edf8a3\",\"#4e63ac\",\"#4e63ac\",\"#4e63ac\",\"#4e63ac\",\"#4e63ac\",\"#4e63ac\",\"#4e63ac\",\"#9e0142\",\"#f57547\",\"#6ec5a5\",\"#4e63ac\",\"#4e63ac\",\"#6ec5a5\",\"#4e63ac\",\"#47a0b3\",\"#4e63ac\",\"#4e63ac\",\"#5e4fa2\",\"#4e63ac\",\"#4e63ac\",\"#4e63ac\",\"#4e63ac\",\"#edf8a3\",\"#e2514a\",\"#4e63ac\",\"#4e63ac\",\"#fca55d\",\"#4e63ac\",\"#ffffbe\",\"#4e63ac\",\"#6ec5a5\",\"#4e63ac\",\"#4e63ac\",\"#4e63ac\",\"#4e63ac\",\"#4e63ac\",\"#4e63ac\",\"#4e63ac\",\"#4e63ac\",\"#6ec5a5\",\"#b11747\",\"#4e63ac\",\"#fca55d\",\"#fedc88\",\"#4e63ac\",\"#4e63ac\",\"#4e63ac\",\"#4e63ac\",\"#4e63ac\",\"#4e63ac\",\"#4e63ac\",\"#4e63ac\",\"#4e63ac\",\"#9e0142\",\"#4e63ac\",\"#4e63ac\",\"#ed6246\",\"#fedc88\",\"#6ec5a5\",\"#4e63ac\",\"#4e63ac\",\"#4e63ac\",\"#fca55d\",\"#b11747\",\"#6ec5a5\",\"#4e63ac\",\"#4e63ac\",\"#4e63ac\",\"#6ec5a5\",\"#e1f399\",\"#fca55d\",\"#edf8a3\",\"#e1f399\",\"#4e63ac\",\"#6ec5a5\",\"#4e63ac\",\"#4e63ac\",\"#b8e2a1\",\"#4e63ac\",\"#4e63ac\",\"#edf8a3\",\"#6ec5a5\",\"#4e63ac\",\"#e1f399\",\"#fedc88\",\"#4e63ac\",\"#cdeb9d\",\"#4e63ac\",\"#4e63ac\",\"#e1f399\",\"#e2514a\",\"#a2d9a4\",\"#4e63ac\",\"#4e63ac\",\"#4e63ac\",\"#4e63ac\",\"#fedc88\",\"#4e63ac\",\"#4e63ac\",\"#4e63ac\",\"#edf8a3\",\"#4e63ac\",\"#4e63ac\",\"#fca55d\",\"#fca55d\",\"#9e0142\",\"#4e63ac\",\"#a2d9a4\",\"#4e63ac\",\"#4e63ac\",\"#4e63ac\",\"#4e63ac\",\"#fedc88\",\"#cdeb9d\",\"#4e63ac\",\"#5e4fa2\",\"#4e63ac\",\"#4e63ac\",\"#4e63ac\",\"#4e63ac\",\"#a2d9a4\",\"#6ec5a5\",\"#4e63ac\",\"#4e63ac\",\"#e1f399\",\"#4e63ac\",\"#4e63ac\",\"#4e63ac\",\"#4e63ac\",\"#f6fbb0\",\"#4e63ac\",\"#d7414e\",\"#4e63ac\",\"#4e63ac\",\"#4e63ac\",\"#4e63ac\",\"#9e0142\",\"#47a0b3\",\"#4e63ac\",\"#4e63ac\",\"#e1f399\",\"#b11747\",\"#4e63ac\",\"#4e63ac\",\"#4e63ac\",\"#4e63ac\",\"#4e63ac\",\"#4e63ac\",\"#cdeb9d\",\"#4e63ac\",\"#6ec5a5\",\"#4e63ac\",\"#4e63ac\",\"#4e63ac\",\"#fca55d\",\"#4e63ac\",\"#4e63ac\",\"#f6fbb0\",\"#9e0142\",\"#4e63ac\",\"#4e63ac\",\"#4e63ac\",\"#4e63ac\",\"#edf8a3\",\"#4e63ac\",\"#b8e2a1\",\"#4e63ac\",\"#a2d9a4\",\"#a2d9a4\",\"#4e63ac\",\"#a2d9a4\",\"#b8e2a1\",\"#c52c4b\",\"#4e63ac\",\"#e1f399\",\"#4e63ac\",\"#6ec5a5\",\"#4e63ac\",\"#4e63ac\",\"#6ec5a5\",\"#9e0142\",\"#4e63ac\",\"#f6fbb0\",\"#4e63ac\",\"#a2d9a4\",\"#fff3ac\",\"#d7414e\",\"#4e63ac\",\"#a2d9a4\",\"#fca55d\",\"#4e63ac\",\"#358bbc\",\"#4e63ac\",\"#e1f399\",\"#4e63ac\",\"#4e63ac\",\"#b8e2a1\",\"#4e63ac\",\"#4e63ac\",\"#4e63ac\",\"#4e63ac\",\"#4e63ac\",\"#4e63ac\",\"#4e63ac\",\"#4e63ac\",\"#6ec5a5\",\"#edf8a3\",\"#4e63ac\",\"#4e63ac\",\"#4e63ac\",\"#4e63ac\",\"#4e63ac\",\"#fca55d\",\"#6ec5a5\",\"#4e63ac\",\"#4e63ac\",\"#cdeb9d\",\"#4e63ac\",\"#4e63ac\",\"#4e63ac\",\"#fca55d\",\"#4e63ac\",\"#4e63ac\",\"#4e63ac\",\"#4e63ac\",\"#4e63ac\",\"#9e0142\",\"#4e63ac\",\"#d7414e\",\"#4e63ac\",\"#edf8a3\",\"#fca55d\",\"#d7414e\",\"#4e63ac\",\"#a2d9a4\",\"#4e63ac\",\"#a2d9a4\",\"#4e63ac\",\"#4e63ac\",\"#e2514a\",\"#4e63ac\",\"#4e63ac\",\"#4e63ac\",\"#fedc88\",\"#4e63ac\",\"#4e63ac\",\"#c52c4b\",\"#a2d9a4\",\"#4e63ac\",\"#4e63ac\",\"#4e63ac\",\"#a2d9a4\",\"#5ab4ab\",\"#4e63ac\",\"#d7414e\",\"#e1f399\",\"#cdeb9d\",\"#4e63ac\",\"#4e63ac\",\"#4e63ac\",\"#4e63ac\",\"#cdeb9d\",\"#4e63ac\",\"#4e63ac\",\"#86cfa5\",\"#4e63ac\",\"#ffffbe\",\"#4e63ac\",\"#4e63ac\",\"#4e63ac\",\"#4e63ac\",\"#ed6246\",\"#b8e2a1\",\"#6ec5a5\",\"#4e63ac\",\"#4e63ac\",\"#4e63ac\",\"#fca55d\",\"#4e63ac\",\"#e1f399\",\"#4e63ac\",\"#6ec5a5\",\"#4e63ac\",\"#4e63ac\",\"#4e63ac\",\"#4e63ac\",\"#4e63ac\",\"#4e63ac\",\"#4e63ac\",\"#4e63ac\",\"#4e63ac\",\"#a2d9a4\",\"#6ec5a5\",\"#4e63ac\",\"#4e63ac\",\"#e1f399\",\"#4e63ac\",\"#4e63ac\",\"#4e63ac\",\"#4e63ac\",\"#4e63ac\",\"#4e63ac\",\"#e1f399\",\"#4e63ac\",\"#4e63ac\",\"#4e63ac\",\"#4e63ac\",\"#ed6246\",\"#4e63ac\",\"#4e63ac\",\"#e1f399\",\"#4e63ac\",\"#fca55d\",\"#4e63ac\",\"#cdeb9d\",\"#4e63ac\",\"#e1f399\",\"#cdeb9d\",\"#e1f399\",\"#4e63ac\",\"#e1f399\",\"#4e63ac\",\"#4e63ac\",\"#ed6246\",\"#f6fbb0\",\"#4e63ac\",\"#6ec5a5\",\"#e1f399\",\"#b8e2a1\",\"#b8e2a1\",\"#4e63ac\",\"#4e63ac\",\"#fedc88\",\"#4e63ac\",\"#4e63ac\",\"#4e63ac\",\"#4e63ac\",\"#358bbc\",\"#4e63ac\",\"#fee999\",\"#4e63ac\",\"#fee999\",\"#ed6246\",\"#4e63ac\",\"#4e63ac\",\"#d7414e\",\"#4e63ac\",\"#4e63ac\",\"#9e0142\",\"#4e63ac\",\"#4e63ac\",\"#4e63ac\",\"#fca55d\",\"#6ec5a5\",\"#4e63ac\",\"#6ec5a5\",\"#4e63ac\",\"#86cfa5\",\"#f6fbb0\",\"#4e63ac\",\"#9e0142\",\"#4e63ac\",\"#4e63ac\",\"#4e63ac\",\"#fedc88\",\"#4e63ac\",\"#a2d9a4\",\"#358bbc\",\"#4e63ac\",\"#4e63ac\",\"#4e63ac\",\"#4e63ac\",\"#4e63ac\",\"#edf8a3\",\"#e1f399\",\"#4e63ac\",\"#4e63ac\",\"#6ec5a5\",\"#4e63ac\",\"#9e0142\",\"#e1f399\",\"#4e63ac\",\"#47a0b3\",\"#4e63ac\",\"#4e63ac\",\"#9e0142\",\"#4e63ac\",\"#edf8a3\",\"#a2d9a4\",\"#e2514a\",\"#4e63ac\",\"#4e63ac\",\"#e1f399\",\"#4e63ac\",\"#4e63ac\",\"#4e63ac\",\"#4e63ac\",\"#4e63ac\",\"#4e63ac\",\"#4e63ac\",\"#edf8a3\",\"#4e63ac\",\"#4e63ac\",\"#b11747\",\"#e2514a\",\"#4e63ac\",\"#fca55d\",\"#4e63ac\",\"#4e63ac\",\"#4e63ac\",\"#4e63ac\",\"#6ec5a5\",\"#edf8a3\",\"#4e63ac\",\"#5ab4ab\",\"#b11747\",\"#e1f399\",\"#4e63ac\",\"#fca55d\",\"#4e63ac\",\"#4e63ac\",\"#4e63ac\",\"#4e63ac\",\"#f57547\",\"#6ec5a5\",\"#4e63ac\",\"#4e63ac\",\"#4e63ac\",\"#4e63ac\",\"#4e63ac\",\"#4e63ac\",\"#4e63ac\",\"#4e63ac\",\"#b11747\",\"#4e63ac\",\"#fedc88\",\"#4e63ac\",\"#9e0142\",\"#4e63ac\",\"#d7414e\",\"#4e63ac\",\"#b8e2a1\",\"#6ec5a5\",\"#4e63ac\",\"#4e63ac\",\"#4e63ac\",\"#4e63ac\",\"#4e63ac\",\"#4e63ac\",\"#9e0142\",\"#feca79\",\"#edf8a3\",\"#fca55d\",\"#edf8a3\",\"#6ec5a5\",\"#6ec5a5\",\"#4e63ac\",\"#ed6246\",\"#4e63ac\",\"#6ec5a5\",\"#fedc88\",\"#6ec5a5\",\"#a2d9a4\",\"#ed6246\",\"#4e63ac\",\"#fedc88\",\"#4e63ac\",\"#4e63ac\",\"#b8e2a1\",\"#fca55d\",\"#6ec5a5\",\"#5ab4ab\",\"#4e63ac\",\"#e2514a\",\"#4e63ac\",\"#edf8a3\",\"#4e63ac\",\"#4e63ac\",\"#4e63ac\",\"#4e63ac\",\"#4e63ac\",\"#4e63ac\",\"#e1f399\",\"#4e63ac\",\"#4e63ac\",\"#4e63ac\",\"#4e63ac\",\"#c52c4b\",\"#4e63ac\",\"#4e63ac\",\"#e2514a\",\"#4e63ac\",\"#e1f399\",\"#4e63ac\",\"#4e63ac\",\"#4e63ac\",\"#4e63ac\",\"#edf8a3\",\"#e2514a\",\"#4e63ac\",\"#d7414e\",\"#4e63ac\",\"#4e63ac\",\"#4e63ac\",\"#d7414e\",\"#4e63ac\",\"#fff3ac\",\"#4e63ac\",\"#4e63ac\",\"#4e63ac\",\"#4e63ac\",\"#a2d9a4\",\"#6ec5a5\",\"#4e63ac\",\"#5ab4ab\",\"#4e63ac\",\"#4e63ac\",\"#4e63ac\",\"#e1f399\",\"#4e63ac\",\"#fee999\",\"#4e63ac\",\"#4e63ac\",\"#4e63ac\",\"#4e63ac\",\"#4e63ac\",\"#4e63ac\",\"#4e63ac\",\"#edf8a3\",\"#4e63ac\",\"#6ec5a5\",\"#4e63ac\",\"#edf8a3\",\"#4e63ac\",\"#4e63ac\",\"#4e63ac\",\"#e2514a\",\"#4e63ac\",\"#fca55d\",\"#4e63ac\",\"#6ec5a5\",\"#4e63ac\",\"#4e63ac\",\"#fedc88\",\"#4e63ac\",\"#4e63ac\",\"#4e63ac\",\"#4e63ac\",\"#4e63ac\",\"#6ec5a5\",\"#4e63ac\",\"#e2514a\",\"#edf8a3\",\"#4e63ac\",\"#e2514a\",\"#4e63ac\",\"#4e63ac\",\"#e2514a\",\"#fedc88\",\"#fca55d\",\"#4e63ac\",\"#4e63ac\",\"#4e63ac\",\"#4e63ac\",\"#4e63ac\",\"#fff3ac\",\"#e2514a\",\"#4e63ac\",\"#4e63ac\",\"#4e63ac\",\"#e2514a\",\"#4e63ac\",\"#6ec5a5\",\"#4e63ac\",\"#fca55d\",\"#4e63ac\",\"#4e63ac\",\"#ffffbe\",\"#d7414e\",\"#4e63ac\",\"#4e63ac\",\"#e2514a\",\"#4e63ac\",\"#4e63ac\",\"#cdeb9d\",\"#4e63ac\",\"#6ec5a5\",\"#9e0142\",\"#4e63ac\",\"#5ab4ab\",\"#ed6246\",\"#4e63ac\",\"#cdeb9d\",\"#4e63ac\",\"#4e63ac\",\"#e2514a\",\"#4e63ac\",\"#4e63ac\",\"#4e63ac\",\"#4e63ac\",\"#b8e2a1\",\"#4e63ac\",\"#f98e52\",\"#4e63ac\",\"#4e63ac\",\"#6ec5a5\",\"#4e63ac\",\"#4e63ac\",\"#4e63ac\",\"#6ec5a5\",\"#4e63ac\",\"#ed6246\",\"#4e63ac\",\"#4e63ac\",\"#86cfa5\",\"#4e63ac\",\"#e1f399\",\"#6ec5a5\",\"#4e63ac\",\"#4e63ac\",\"#b11747\",\"#4e63ac\",\"#4e63ac\",\"#4e63ac\",\"#4e63ac\",\"#6ec5a5\",\"#fca55d\",\"#a2d9a4\",\"#86cfa5\",\"#4e63ac\",\"#b8e2a1\",\"#358bbc\",\"#4e63ac\",\"#fca55d\",\"#4e63ac\",\"#b8e2a1\",\"#e2514a\",\"#4e63ac\",\"#4e63ac\",\"#4e63ac\",\"#4e63ac\",\"#9e0142\",\"#fca55d\",\"#4e63ac\",\"#4e63ac\",\"#4e63ac\",\"#edf8a3\",\"#4e63ac\",\"#4e63ac\",\"#4e63ac\",\"#e1f399\",\"#e1f399\",\"#6ec5a5\",\"#4e63ac\",\"#4e63ac\",\"#4e63ac\",\"#4e63ac\",\"#4e63ac\",\"#4e63ac\",\"#4e63ac\",\"#b8e2a1\",\"#4e63ac\",\"#4e63ac\",\"#4e63ac\",\"#4e63ac\",\"#4e63ac\",\"#4e63ac\",\"#edf8a3\",\"#4e63ac\",\"#4e63ac\",\"#e1f399\",\"#4e63ac\",\"#4e63ac\",\"#4e63ac\",\"#4e63ac\",\"#edf8a3\",\"#4e63ac\",\"#4e63ac\",\"#86cfa5\",\"#fca55d\",\"#d7414e\",\"#edf8a3\",\"#6ec5a5\",\"#4e63ac\",\"#4e63ac\",\"#4e63ac\",\"#4e63ac\",\"#fca55d\",\"#4e63ac\",\"#4e63ac\",\"#4e63ac\",\"#4e63ac\",\"#edf8a3\",\"#4e63ac\",\"#4e63ac\",\"#b11747\",\"#4e63ac\",\"#4e63ac\",\"#fca55d\",\"#9e0142\",\"#4e63ac\",\"#c52c4b\",\"#ffffbe\",\"#4e63ac\",\"#4e63ac\",\"#4e63ac\",\"#e2514a\",\"#e2514a\",\"#4e63ac\",\"#6ec5a5\",\"#fca55d\",\"#4e63ac\",\"#f6fbb0\",\"#4e63ac\",\"#a2d9a4\",\"#4e63ac\",\"#4e63ac\",\"#4e63ac\",\"#4e63ac\",\"#4e63ac\",\"#6ec5a5\",\"#4e63ac\",\"#4e63ac\",\"#358bbc\",\"#4e63ac\",\"#fedc88\",\"#4e63ac\",\"#e1f399\",\"#4e63ac\",\"#4e63ac\",\"#4e63ac\",\"#4e63ac\",\"#4e63ac\",\"#4e63ac\",\"#4e63ac\",\"#4e63ac\",\"#4e63ac\",\"#4e63ac\",\"#4e63ac\",\"#a2d9a4\",\"#fca55d\",\"#4e63ac\",\"#fca55d\",\"#e2514a\",\"#e1f399\",\"#cdeb9d\",\"#4e63ac\",\"#e2514a\",\"#4e63ac\",\"#4e63ac\",\"#4e63ac\",\"#4e63ac\",\"#4e63ac\",\"#a2d9a4\",\"#4e63ac\",\"#cdeb9d\",\"#4e63ac\",\"#4e63ac\",\"#edf8a3\",\"#edf8a3\",\"#edf8a3\",\"#fedc88\",\"#4e63ac\",\"#6ec5a5\",\"#4e63ac\",\"#4e63ac\",\"#4e63ac\",\"#4e63ac\",\"#e1f399\",\"#edf8a3\",\"#4e63ac\",\"#4e63ac\",\"#a2d9a4\",\"#6ec5a5\",\"#4e63ac\",\"#4e63ac\",\"#4e63ac\",\"#4e63ac\",\"#4e63ac\",\"#4e63ac\",\"#4e63ac\",\"#4e63ac\",\"#f6fbb0\",\"#a2d9a4\",\"#4e63ac\",\"#cdeb9d\",\"#4e63ac\",\"#fca55d\",\"#e1f399\",\"#e1f399\",\"#ffffbe\",\"#4e63ac\",\"#6ec5a5\",\"#4e63ac\",\"#4e63ac\",\"#4e63ac\",\"#86cfa5\",\"#9e0142\",\"#4e63ac\",\"#4e63ac\",\"#4e63ac\",\"#4e63ac\",\"#4e63ac\",\"#edf8a3\",\"#4e63ac\",\"#4e63ac\",\"#5e4fa2\",\"#6ec5a5\",\"#4e63ac\",\"#4e63ac\",\"#fca55d\",\"#4e63ac\",\"#4e63ac\",\"#4e63ac\",\"#4e63ac\",\"#4e63ac\",\"#cdeb9d\",\"#4e63ac\",\"#4e63ac\",\"#4e63ac\",\"#4e63ac\",\"#edf8a3\",\"#4e63ac\",\"#cdeb9d\",\"#fedc88\",\"#4e63ac\",\"#4e63ac\",\"#4e63ac\",\"#4e63ac\",\"#b8e2a1\",\"#4e63ac\",\"#4e63ac\",\"#4e63ac\",\"#d7414e\",\"#4e63ac\",\"#4e63ac\",\"#4e63ac\",\"#4e63ac\",\"#4e63ac\",\"#e1f399\",\"#e2514a\",\"#e2514a\",\"#4e63ac\",\"#edf8a3\",\"#4e63ac\",\"#fca55d\",\"#d7414e\",\"#4e63ac\",\"#6ec5a5\",\"#4e63ac\",\"#4e63ac\",\"#4e63ac\",\"#4e63ac\",\"#4e63ac\",\"#4e63ac\",\"#4e63ac\",\"#cdeb9d\",\"#e1f399\",\"#4e63ac\",\"#4e63ac\",\"#4e63ac\",\"#4e63ac\",\"#fedc88\",\"#4e63ac\",\"#4e63ac\",\"#4e63ac\",\"#4e63ac\",\"#fca55d\",\"#d7414e\",\"#e1f399\",\"#4e63ac\",\"#5ab4ab\",\"#cdeb9d\",\"#edf8a3\",\"#4e63ac\",\"#4e63ac\",\"#4e63ac\",\"#4e63ac\",\"#fca55d\",\"#fedc88\",\"#4e63ac\",\"#4e63ac\",\"#4e63ac\",\"#4e63ac\",\"#4e63ac\",\"#9e0142\",\"#4e63ac\",\"#4e63ac\",\"#d7414e\",\"#4e63ac\",\"#4e63ac\",\"#b11747\",\"#a2d9a4\",\"#4e63ac\",\"#86cfa5\",\"#fedc88\",\"#4e63ac\",\"#d7414e\",\"#edf8a3\",\"#e2514a\",\"#4e63ac\",\"#4e63ac\",\"#4e63ac\",\"#4e63ac\",\"#4e63ac\",\"#4e63ac\",\"#4e63ac\",\"#fca55d\",\"#4e63ac\",\"#fedc88\",\"#4e63ac\",\"#6ec5a5\",\"#4e63ac\",\"#4e63ac\",\"#4e63ac\",\"#b11747\",\"#cdeb9d\",\"#fedc88\",\"#4e63ac\",\"#e2514a\",\"#fedc88\",\"#4e63ac\",\"#4e63ac\",\"#4e63ac\",\"#fca55d\",\"#4e63ac\",\"#6ec5a5\",\"#4e63ac\",\"#4e63ac\",\"#4e63ac\",\"#fca55d\",\"#cdeb9d\",\"#4e63ac\",\"#4e63ac\",\"#4e63ac\",\"#6ec5a5\",\"#4e63ac\",\"#fca55d\",\"#6ec5a5\",\"#4e63ac\",\"#6ec5a5\",\"#6ec5a5\",\"#4e63ac\",\"#4e63ac\",\"#4e63ac\",\"#a2d9a4\",\"#4e63ac\",\"#4e63ac\",\"#e1f399\",\"#4e63ac\",\"#4e63ac\",\"#6ec5a5\",\"#4e63ac\",\"#4e63ac\",\"#e1f399\",\"#4e63ac\",\"#6ec5a5\",\"#4e63ac\",\"#4e63ac\",\"#4e63ac\",\"#fca55d\",\"#ed6246\",\"#4e63ac\",\"#c52c4b\",\"#4e63ac\",\"#4e63ac\",\"#d7414e\",\"#4e63ac\",\"#358bbc\",\"#edf8a3\",\"#edf8a3\",\"#4e63ac\",\"#fca55d\",\"#9e0142\",\"#a2d9a4\",\"#4e63ac\",\"#4e63ac\",\"#4e63ac\",\"#fca55d\",\"#4e63ac\",\"#4e63ac\",\"#4e63ac\",\"#4e63ac\",\"#4e63ac\",\"#4e63ac\",\"#4e63ac\",\"#4e63ac\",\"#d7414e\",\"#9e0142\",\"#4e63ac\",\"#4e63ac\",\"#6ec5a5\",\"#4e63ac\",\"#e2514a\",\"#fca55d\",\"#e1f399\",\"#e1f399\",\"#4e63ac\",\"#fdb96a\",\"#4e63ac\",\"#5ab4ab\",\"#4e63ac\",\"#4e63ac\",\"#4e63ac\",\"#4e63ac\",\"#4e63ac\",\"#6ec5a5\",\"#e1f399\",\"#4e63ac\",\"#4e63ac\",\"#4e63ac\",\"#e1f399\",\"#4e63ac\",\"#4e63ac\",\"#a2d9a4\",\"#4e63ac\",\"#4e63ac\",\"#4e63ac\",\"#4e63ac\",\"#4e63ac\",\"#4e63ac\",\"#6ec5a5\",\"#6ec5a5\",\"#4e63ac\",\"#4e63ac\",\"#4e63ac\",\"#6ec5a5\",\"#ffffbe\",\"#358bbc\",\"#4e63ac\",\"#4e63ac\",\"#a2d9a4\",\"#edf8a3\",\"#4e63ac\",\"#4e63ac\",\"#a2d9a4\",\"#b8e2a1\",\"#6ec5a5\",\"#4e63ac\",\"#4e63ac\",\"#4e63ac\",\"#4e63ac\",\"#4e63ac\",\"#4e63ac\",\"#6ec5a5\",\"#4e63ac\",\"#4e63ac\",\"#6ec5a5\",\"#4e63ac\",\"#4e63ac\",\"#9e0142\",\"#4e63ac\",\"#4e63ac\",\"#edf8a3\",\"#fedc88\",\"#4e63ac\",\"#b11747\",\"#4e63ac\",\"#4e63ac\",\"#4e63ac\",\"#4e63ac\",\"#4e63ac\",\"#86cfa5\",\"#d7414e\",\"#358bbc\",\"#d7414e\",\"#6ec5a5\",\"#4e63ac\",\"#4e63ac\",\"#6ec5a5\",\"#4e63ac\",\"#e1f399\",\"#4e63ac\",\"#4e63ac\",\"#4e63ac\",\"#4e63ac\",\"#feca79\",\"#edf8a3\",\"#4e63ac\",\"#9e0142\",\"#4e63ac\",\"#ffffbe\",\"#4e63ac\",\"#4e63ac\",\"#4e63ac\",\"#4e63ac\",\"#4e63ac\",\"#e2514a\",\"#d7414e\",\"#4e63ac\",\"#4e63ac\",\"#edf8a3\",\"#4e63ac\",\"#4e63ac\",\"#4e63ac\",\"#4e63ac\",\"#4e63ac\",\"#47a0b3\",\"#a2d9a4\",\"#4e63ac\",\"#6ec5a5\",\"#4e63ac\",\"#4e63ac\",\"#4e63ac\",\"#4e63ac\",\"#fca55d\",\"#4e63ac\",\"#b8e2a1\",\"#e2514a\",\"#fedc88\",\"#4e63ac\",\"#4e63ac\",\"#4e63ac\",\"#4e63ac\",\"#4e63ac\",\"#4e63ac\",\"#4e63ac\",\"#6ec5a5\",\"#4e63ac\",\"#b11747\",\"#4e63ac\",\"#4e63ac\",\"#6ec5a5\",\"#4e63ac\",\"#358bbc\",\"#4e63ac\",\"#e1f399\",\"#4e63ac\",\"#4e63ac\",\"#ffffbe\",\"#4e63ac\",\"#d7414e\",\"#4e63ac\",\"#4e63ac\",\"#fff3ac\",\"#4e63ac\",\"#fedc88\",\"#a2d9a4\",\"#4e63ac\",\"#cdeb9d\",\"#4e63ac\",\"#4e63ac\",\"#4e63ac\",\"#4e63ac\",\"#fedc88\",\"#4e63ac\",\"#4e63ac\",\"#edf8a3\",\"#e1f399\",\"#4e63ac\",\"#4e63ac\",\"#4e63ac\",\"#4e63ac\",\"#4e63ac\",\"#fedc88\",\"#a2d9a4\",\"#4e63ac\",\"#edf8a3\",\"#fff3ac\",\"#fca55d\",\"#6ec5a5\",\"#9e0142\",\"#4e63ac\",\"#4e63ac\",\"#4e63ac\",\"#4e63ac\",\"#4e63ac\",\"#fedc88\",\"#cdeb9d\",\"#4e63ac\",\"#6ec5a5\",\"#4e63ac\",\"#edf8a3\",\"#e2514a\",\"#4e63ac\",\"#4e63ac\",\"#ed6246\",\"#fca55d\",\"#4e63ac\",\"#4e63ac\",\"#4e63ac\",\"#fca55d\",\"#edf8a3\",\"#4e63ac\",\"#4e63ac\",\"#4e63ac\",\"#4e63ac\",\"#4e63ac\"],\"index\":{\"__ndarray__\":\"AAAAAAEAAAACAAAAAwAAAAQAAAAFAAAABgAAAAcAAAAIAAAACQAAAAoAAAALAAAADAAAAA0AAAAOAAAADwAAABAAAAARAAAAEgAAABMAAAAUAAAAFQAAABYAAAAXAAAAGAAAABkAAAAaAAAAGwAAABwAAAAdAAAAHgAAAB8AAAAgAAAAIQAAACIAAAAjAAAAJAAAACUAAAAmAAAAJwAAACgAAAApAAAAKgAAACsAAAAsAAAALQAAAC4AAAAvAAAAMAAAADEAAAAyAAAAMwAAADQAAAA1AAAANgAAADcAAAA4AAAAOQAAADoAAAA7AAAAPAAAAD0AAAA+AAAAPwAAAEAAAABBAAAAQgAAAEMAAABEAAAARQAAAEYAAABHAAAASAAAAEkAAABKAAAASwAAAEwAAABNAAAATgAAAE8AAABQAAAAUQAAAFIAAABTAAAAVAAAAFUAAABWAAAAVwAAAFgAAABZAAAAWgAAAFsAAABcAAAAXQAAAF4AAABfAAAAYAAAAGEAAABiAAAAYwAAAGQAAABlAAAAZgAAAGcAAABoAAAAaQAAAGoAAABrAAAAbAAAAG0AAABuAAAAbwAAAHAAAABxAAAAcgAAAHMAAAB0AAAAdQAAAHYAAAB3AAAAeAAAAHkAAAB6AAAAewAAAHwAAAB9AAAAfgAAAH8AAACAAAAAgQAAAIIAAACDAAAAhAAAAIUAAACGAAAAhwAAAIgAAACJAAAAigAAAIsAAACMAAAAjQAAAI4AAACPAAAAkAAAAJEAAACSAAAAkwAAAJQAAACVAAAAlgAAAJcAAACYAAAAmQAAAJoAAACbAAAAnAAAAJ0AAACeAAAAnwAAAKAAAAChAAAAogAAAKMAAACkAAAApQAAAKYAAACnAAAAqAAAAKkAAACqAAAAqwAAAKwAAACtAAAArgAAAK8AAACwAAAAsQAAALIAAACzAAAAtAAAALUAAAC2AAAAtwAAALgAAAC5AAAAugAAALsAAAC8AAAAvQAAAL4AAAC/AAAAwAAAAMEAAADCAAAAwwAAAMQAAADFAAAAxgAAAMcAAADIAAAAyQAAAMoAAADLAAAAzAAAAM0AAADOAAAAzwAAANAAAADRAAAA0gAAANMAAADUAAAA1QAAANYAAADXAAAA2AAAANkAAADaAAAA2wAAANwAAADdAAAA3gAAAN8AAADgAAAA4QAAAOIAAADjAAAA5AAAAOUAAADmAAAA5wAAAOgAAADpAAAA6gAAAOsAAADsAAAA7QAAAO4AAADvAAAA8AAAAPEAAADyAAAA8wAAAPQAAAD1AAAA9gAAAPcAAAD4AAAA+QAAAPoAAAD7AAAA/AAAAP0AAAD+AAAA/wAAAAABAAABAQAAAgEAAAMBAAAEAQAABQEAAAYBAAAHAQAACAEAAAkBAAAKAQAACwEAAAwBAAANAQAADgEAAA8BAAAQAQAAEQEAABIBAAATAQAAFAEAABUBAAAWAQAAFwEAABgBAAAZAQAAGgEAABsBAAAcAQAAHQEAAB4BAAAfAQAAIAEAACEBAAAiAQAAIwEAACQBAAAlAQAAJgEAACcBAAAoAQAAKQEAACoBAAArAQAALAEAAC0BAAAuAQAALwEAADABAAAxAQAAMgEAADMBAAA0AQAANQEAADYBAAA3AQAAOAEAADkBAAA6AQAAOwEAADwBAAA9AQAAPgEAAD8BAABAAQAAQQEAAEIBAABDAQAARAEAAEUBAABGAQAARwEAAEgBAABJAQAASgEAAEsBAABMAQAATQEAAE4BAABPAQAAUAEAAFEBAABSAQAAUwEAAFQBAABVAQAAVgEAAFcBAABYAQAAWQEAAFoBAABbAQAAXAEAAF0BAABeAQAAXwEAAGABAABhAQAAYgEAAGMBAABkAQAAZQEAAGYBAABnAQAAaAEAAGkBAABqAQAAawEAAGwBAABtAQAAbgEAAG8BAABwAQAAcQEAAHIBAABzAQAAdAEAAHUBAAB2AQAAdwEAAHgBAAB5AQAAegEAAHsBAAB8AQAAfQEAAH4BAAB/AQAAgAEAAIEBAACCAQAAgwEAAIQBAACFAQAAhgEAAIcBAACIAQAAiQEAAIoBAACLAQAAjAEAAI0BAACOAQAAjwEAAJABAACRAQAAkgEAAJMBAACUAQAAlQEAAJYBAACXAQAAmAEAAJkBAACaAQAAmwEAAJwBAACdAQAAngEAAJ8BAACgAQAAoQEAAKIBAACjAQAApAEAAKUBAACmAQAApwEAAKgBAACpAQAAqgEAAKsBAACsAQAArQEAAK4BAACvAQAAsAEAALEBAACyAQAAswEAALQBAAC1AQAAtgEAALcBAAC4AQAAuQEAALoBAAC7AQAAvAEAAL0BAAC+AQAAvwEAAMABAADBAQAAwgEAAMMBAADEAQAAxQEAAMYBAADHAQAAyAEAAMkBAADKAQAAywEAAMwBAADNAQAAzgEAAM8BAADQAQAA0QEAANIBAADTAQAA1AEAANUBAADWAQAA1wEAANgBAADZAQAA2gEAANsBAADcAQAA3QEAAN4BAADfAQAA4AEAAOEBAADiAQAA4wEAAOQBAADlAQAA5gEAAOcBAADoAQAA6QEAAOoBAADrAQAA7AEAAO0BAADuAQAA7wEAAPABAADxAQAA8gEAAPMBAAD0AQAA9QEAAPYBAAD3AQAA+AEAAPkBAAD6AQAA+wEAAPwBAAD9AQAA/gEAAP8BAAAAAgAAAQIAAAICAAADAgAABAIAAAUCAAAGAgAABwIAAAgCAAAJAgAACgIAAAsCAAAMAgAADQIAAA4CAAAPAgAAEAIAABECAAASAgAAEwIAABQCAAAVAgAAFgIAABcCAAAYAgAAGQIAABoCAAAbAgAAHAIAAB0CAAAeAgAAHwIAACACAAAhAgAAIgIAACMCAAAkAgAAJQIAACYCAAAnAgAAKAIAACkCAAAqAgAAKwIAACwCAAAtAgAALgIAAC8CAAAwAgAAMQIAADICAAAzAgAANAIAADUCAAA2AgAANwIAADgCAAA5AgAAOgIAADsCAAA8AgAAPQIAAD4CAAA/AgAAQAIAAEECAABCAgAAQwIAAEQCAABFAgAARgIAAEcCAABIAgAASQIAAEoCAABLAgAATAIAAE0CAABOAgAATwIAAFACAABRAgAAUgIAAFMCAABUAgAAVQIAAFYCAABXAgAAWAIAAFkCAABaAgAAWwIAAFwCAABdAgAAXgIAAF8CAABgAgAAYQIAAGICAABjAgAAZAIAAGUCAABmAgAAZwIAAGgCAABpAgAAagIAAGsCAABsAgAAbQIAAG4CAABvAgAAcAIAAHECAAByAgAAcwIAAHQCAAB1AgAAdgIAAHcCAAB4AgAAeQIAAHoCAAB7AgAAfAIAAH0CAAB+AgAAfwIAAIACAACBAgAAggIAAIMCAACEAgAAhQIAAIYCAACHAgAAiAIAAIkCAACKAgAAiwIAAIwCAACNAgAAjgIAAI8CAACQAgAAkQIAAJICAACTAgAAlAIAAJUCAACWAgAAlwIAAJgCAACZAgAAmgIAAJsCAACcAgAAnQIAAJ4CAACfAgAAoAIAAKECAACiAgAAowIAAKQCAAClAgAApgIAAKcCAACoAgAAqQIAAKoCAACrAgAArAIAAK0CAACuAgAArwIAALACAACxAgAAsgIAALMCAAC0AgAAtQIAALYCAAC3AgAAuAIAALkCAAC6AgAAuwIAALwCAAC9AgAAvgIAAL8CAADAAgAAwQIAAMICAADDAgAAxAIAAMUCAADGAgAAxwIAAMgCAADJAgAAygIAAMsCAADMAgAAzQIAAM4CAADPAgAA0AIAANECAADSAgAA0wIAANQCAADVAgAA1gIAANcCAADYAgAA2QIAANoCAADbAgAA3AIAAN0CAADeAgAA3wIAAOACAADhAgAA4gIAAOMCAADkAgAA5QIAAOYCAADnAgAA6AIAAOkCAADqAgAA6wIAAOwCAADtAgAA7gIAAO8CAADwAgAA8QIAAPICAADzAgAA9AIAAPUCAAD2AgAA9wIAAPgCAAD5AgAA+gIAAPsCAAD8AgAA/QIAAP4CAAD/AgAAAAMAAAEDAAACAwAAAwMAAAQDAAAFAwAABgMAAAcDAAAIAwAACQMAAAoDAAALAwAADAMAAA0DAAAOAwAADwMAABADAAARAwAAEgMAABMDAAAUAwAAFQMAABYDAAAXAwAAGAMAABkDAAAaAwAAGwMAABwDAAAdAwAAHgMAAB8DAAAgAwAAIQMAACIDAAAjAwAAJAMAACUDAAAmAwAAJwMAACgDAAApAwAAKgMAACsDAAAsAwAALQMAAC4DAAAvAwAAMAMAADEDAAAyAwAAMwMAADQDAAA1AwAANgMAADcDAAA4AwAAOQMAADoDAAA7AwAAPAMAAD0DAAA+AwAAPwMAAEADAABBAwAAQgMAAEMDAABEAwAARQMAAEYDAABHAwAASAMAAEkDAABKAwAASwMAAEwDAABNAwAATgMAAE8DAABQAwAAUQMAAFIDAABTAwAAVAMAAFUDAABWAwAAVwMAAFgDAABZAwAAWgMAAFsDAABcAwAAXQMAAF4DAABfAwAAYAMAAGEDAABiAwAAYwMAAGQDAABlAwAAZgMAAGcDAABoAwAAaQMAAGoDAABrAwAAbAMAAG0DAABuAwAAbwMAAHADAABxAwAAcgMAAHMDAAB0AwAAdQMAAHYDAAB3AwAAeAMAAHkDAAB6AwAAewMAAHwDAAB9AwAAfgMAAH8DAACAAwAAgQMAAIIDAACDAwAAhAMAAIUDAACGAwAAhwMAAIgDAACJAwAAigMAAIsDAACMAwAAjQMAAI4DAACPAwAAkAMAAJEDAACSAwAAkwMAAJQDAACVAwAAlgMAAJcDAACYAwAAmQMAAJoDAACbAwAAnAMAAJ0DAACeAwAAnwMAAKADAAChAwAAogMAAKMDAACkAwAApQMAAKYDAACnAwAAqAMAAKkDAACqAwAAqwMAAKwDAACtAwAArgMAAK8DAACwAwAAsQMAALIDAACzAwAAtAMAALUDAAC2AwAAtwMAALgDAAC5AwAAugMAALsDAAC8AwAAvQMAAL4DAAC/AwAAwAMAAMEDAADCAwAAwwMAAMQDAADFAwAAxgMAAMcDAADIAwAAyQMAAMoDAADLAwAAzAMAAM0DAADOAwAAzwMAANADAADRAwAA0gMAANMDAADUAwAA1QMAANYDAADXAwAA2AMAANkDAADaAwAA2wMAANwDAADdAwAA3gMAAN8DAADgAwAA4QMAAOIDAADjAwAA5AMAAOUDAADmAwAA5wMAAOgDAADpAwAA6gMAAOsDAADsAwAA7QMAAO4DAADvAwAA8AMAAPEDAADyAwAA8wMAAPQDAAD1AwAA9gMAAPcDAAD4AwAA+QMAAPoDAAD7AwAA/AMAAP0DAAD+AwAA/wMAAAAEAAABBAAAAgQAAAMEAAAEBAAABQQAAAYEAAAHBAAACAQAAAkEAAAKBAAACwQAAAwEAAANBAAADgQAAA8EAAAQBAAAEQQAABIEAAATBAAAFAQAABUEAAAWBAAAFwQAABgEAAAZBAAAGgQAABsEAAAcBAAAHQQAAB4EAAAfBAAAIAQAACEEAAAiBAAAIwQAACQEAAAlBAAAJgQAACcEAAAoBAAAKQQAACoEAAArBAAALAQAAC0EAAAuBAAALwQAADAEAAAxBAAAMgQAADMEAAA0BAAANQQAADYEAAA3BAAAOAQAADkEAAA6BAAAOwQAADwEAAA9BAAAPgQAAD8EAABABAAAQQQAAEIEAABDBAAARAQAAEUEAABGBAAARwQAAEgEAABJBAAASgQAAEsEAABMBAAATQQAAE4EAABPBAAAUAQAAFEEAABSBAAAUwQAAFQEAABVBAAAVgQAAFcEAABYBAAAWQQAAFoEAABbBAAAXAQAAF0EAABeBAAAXwQAAGAEAABhBAAAYgQAAGMEAABkBAAAZQQAAGYEAABnBAAAaAQAAGkEAABqBAAAawQAAGwEAABtBAAAbgQAAG8EAABwBAAAcQQAAHIEAABzBAAAdAQAAHUEAAB2BAAAdwQAAHgEAAB5BAAAegQAAHsEAAB8BAAAfQQAAH4EAAB/BAAAgAQAAIEEAACCBAAAgwQAAIQEAACFBAAAhgQAAIcEAACIBAAAiQQAAIoEAACLBAAAjAQAAI0EAACOBAAAjwQAAJAEAACRBAAAkgQAAJMEAACUBAAAlQQAAJYEAACXBAAAmAQAAJkEAACaBAAAmwQAAJwEAACdBAAAngQAAJ8EAACgBAAAoQQAAKIEAACjBAAApAQAAKUEAACmBAAApwQAAKgEAACpBAAAqgQAAKsEAACsBAAArQQAAK4EAACvBAAAsAQAALEEAACyBAAAswQAALQEAAC1BAAAtgQAALcEAAC4BAAAuQQAALoEAAC7BAAAvAQAAL0EAAC+BAAAvwQAAMAEAADBBAAAwgQAAMMEAADEBAAAxQQAAMYEAADHBAAAyAQAAMkEAADKBAAAywQAAMwEAADNBAAAzgQAAM8EAADQBAAA0QQAANIEAADTBAAA1AQAANUEAADWBAAA1wQAANgEAADZBAAA2gQAANsEAADcBAAA3QQAAN4EAADfBAAA4AQAAOEEAADiBAAA4wQAAOQEAADlBAAA5gQAAOcEAADoBAAA6QQAAOoEAADrBAAA7AQAAO0EAADuBAAA7wQAAPAEAADxBAAA8gQAAPMEAAD0BAAA9QQAAPYEAAD3BAAA+AQAAPkEAAD6BAAA+wQAAPwEAAD9BAAA/gQAAP8EAAAABQAAAQUAAAIFAAADBQAABAUAAAUFAAAGBQAABwUAAAgFAAAJBQAACgUAAAsFAAAMBQAADQUAAA4FAAAPBQAAEAUAABEFAAASBQAAEwUAABQFAAAVBQAAFgUAABcFAAAYBQAAGQUAABoFAAAbBQAAHAUAAB0FAAAeBQAAHwUAACAFAAAhBQAAIgUAACMFAAAkBQAAJQUAACYFAAAnBQAAKAUAACkFAAAqBQAAKwUAACwFAAAtBQAALgUAAC8FAAAwBQAAMQUAADIFAAAzBQAANAUAADUFAAA2BQAANwUAADgFAAA5BQAAOgUAADsFAAA8BQAAPQUAAD4FAAA/BQAAQAUAAEEFAABCBQAAQwUAAEQFAABFBQAARgUAAEcFAABIBQAASQUAAEoFAABLBQAATAUAAE0FAABOBQAATwUAAFAFAABRBQAAUgUAAFMFAABUBQAAVQUAAFYFAABXBQAAWAUAAFkFAABaBQAAWwUAAFwFAABdBQAAXgUAAF8FAABgBQAAYQUAAGIFAABjBQAAZAUAAGUFAABmBQAAZwUAAGgFAABpBQAAagUAAGsFAABsBQAAbQUAAG4FAABvBQAAcAUAAHEFAAByBQAAcwUAAHQFAAB1BQAAdgUAAHcFAAB4BQAAeQUAAHoFAAB7BQAAfAUAAH0FAAB+BQAAfwUAAIAFAACBBQAAggUAAIMFAACEBQAAhQUAAIYFAACHBQAAiAUAAIkFAACKBQAAiwUAAIwFAACNBQAAjgUAAI8FAACQBQAAkQUAAJIFAACTBQAAlAUAAJUFAACWBQAAlwUAAJgFAACZBQAAmgUAAJsFAACcBQAAnQUAAJ4FAACfBQAAoAUAAKEFAACiBQAAowUAAKQFAAClBQAApgUAAKcFAACoBQAAqQUAAKoFAACrBQAArAUAAK0FAACuBQAArwUAALAFAACxBQAAsgUAALMFAAC0BQAAtQUAALYFAAC3BQAAuAUAALkFAAC6BQAAuwUAALwFAAC9BQAAvgUAAL8FAADABQAAwQUAAMIFAADDBQAAxAUAAMUFAADGBQAAxwUAAMgFAADJBQAAygUAAMsFAADMBQAAzQUAAM4FAADPBQAA0AUAANEFAADSBQAA0wUAANQFAADVBQAA1gUAANcFAADYBQAA2QUAANoFAADbBQAA3AUAAN0FAADeBQAA3wUAAOAFAADhBQAA4gUAAOMFAADkBQAA5QUAAOYFAADnBQAA6AUAAOkFAADqBQAA6wUAAOwFAADtBQAA7gUAAO8FAADwBQAA8QUAAPIFAADzBQAA9AUAAPUFAAD2BQAA9wUAAPgFAAD5BQAA+gUAAPsFAAD8BQAA/QUAAP4FAAD/BQAAAAYAAAEGAAACBgAAAwYAAAQGAAAFBgAABgYAAAcGAAAIBgAACQYAAAoGAAALBgAADAYAAA0GAAAOBgAADwYAABAGAAARBgAAEgYAABMGAAAUBgAAFQYAABYGAAAXBgAAGAYAABkGAAAaBgAAGwYAABwGAAAdBgAAHgYAAB8GAAAgBgAAIQYAACIGAAAjBgAAJAYAACUGAAAmBgAAJwYAACgGAAApBgAAKgYAACsGAAAsBgAALQYAAC4GAAAvBgAAMAYAADEGAAAyBgAAMwYAADQGAAA1BgAANgYAADcGAAA4BgAAOQYAADoGAAA7BgAAPAYAAD0GAAA+BgAAPwYAAEAGAABBBgAAQgYAAEMGAABEBgAARQYAAEYGAABHBgAASAYAAEkGAABKBgAASwYAAEwGAABNBgAATgYAAE8GAABQBgAAUQYAAFIGAABTBgAAVAYAAFUGAABWBgAAVwYAAFgGAABZBgAAWgYAAFsGAABcBgAAXQYAAF4GAABfBgAAYAYAAGEGAABiBgAAYwYAAGQGAABlBgAAZgYAAGcGAABoBgAAaQYAAGoGAABrBgAAbAYAAG0GAABuBgAAbwYAAHAGAABxBgAAcgYAAHMGAAB0BgAAdQYAAHYGAAB3BgAAeAYAAHkGAAB6BgAAewYAAHwGAAB9BgAAfgYAAH8GAACABgAAgQYAAIIGAACDBgAAhAYAAIUGAACGBgAAhwYAAIgGAACJBgAAigYAAIsGAACMBgAAjQYAAI4GAACPBgAAkAYAAJEGAACSBgAAkwYAAJQGAACVBgAAlgYAAJcGAACYBgAAmQYAAJoGAACbBgAAnAYAAJ0GAACeBgAAnwYAAKAGAAChBgAAogYAAKMGAACkBgAApQYAAKYGAACnBgAAqAYAAKkGAACqBgAAqwYAAKwGAACtBgAArgYAAK8GAACwBgAAsQYAALIGAACzBgAAtAYAALUGAAC2BgAAtwYAALgGAAC5BgAAugYAALsGAAC8BgAAvQYAAL4GAAC/BgAAwAYAAMEGAADCBgAAwwYAAMQGAADFBgAAxgYAAMcGAADIBgAAyQYAAMoGAADLBgAAzAYAAM0GAADOBgAAzwYAANAGAADRBgAA0gYAANMGAADUBgAA1QYAANYGAADXBgAA2AYAANkGAADaBgAA2wYAANwGAADdBgAA3gYAAN8GAADgBgAA4QYAAOIGAADjBgAA5AYAAOUGAADmBgAA5wYAAOgGAADpBgAA6gYAAOsGAADsBgAA7QYAAO4GAADvBgAA8AYAAPEGAADyBgAA8wYAAPQGAAD1BgAA9gYAAPcGAAD4BgAA+QYAAPoGAAD7BgAA/AYAAP0GAAD+BgAA/wYAAAAHAAABBwAAAgcAAAMHAAAEBwAABQcAAAYHAAAHBwAACAcAAAkHAAAKBwAACwcAAAwHAAANBwAADgcAAA8HAAAQBwAAEQcAABIHAAATBwAAFAcAABUHAAAWBwAAFwcAABgHAAAZBwAAGgcAABsHAAAcBwAAHQcAAB4HAAAfBwAAIAcAACEHAAAiBwAAIwcAACQHAAAlBwAAJgcAACcHAAAoBwAAKQcAACoHAAArBwAALAcAAC0HAAAuBwAALwcAADAHAAAxBwAAMgcAADMHAAA0BwAANQcAADYHAAA3BwAAOAcAADkHAAA6BwAAOwcAADwHAAA9BwAAPgcAAD8HAABABwAAQQcAAEIHAABDBwAARAcAAEUHAABGBwAARwcAAEgHAABJBwAASgcAAEsHAABMBwAATQcAAE4HAABPBwAAUAcAAFEHAABSBwAAUwcAAFQHAABVBwAAVgcAAFcHAABYBwAAWQcAAFoHAABbBwAAXAcAAF0HAABeBwAAXwcAAGAHAABhBwAAYgcAAGMHAABkBwAAZQcAAGYHAABnBwAAaAcAAGkHAABqBwAAawcAAGwHAABtBwAAbgcAAG8HAABwBwAAcQcAAHIHAABzBwAAdAcAAHUHAAB2BwAAdwcAAHgHAAB5BwAAegcAAHsHAAB8BwAAfQcAAH4HAAB/BwAAgAcAAIEHAACCBwAAgwcAAIQHAACFBwAAhgcAAIcHAACIBwAAiQcAAIoHAACLBwAAjAcAAI0HAACOBwAAjwcAAJAHAACRBwAAkgcAAJMHAACUBwAAlQcAAJYHAACXBwAAmAcAAJkHAACaBwAAmwcAAJwHAACdBwAAngcAAJ8HAACgBwAAoQcAAKIHAACjBwAApAcAAKUHAACmBwAApwcAAKgHAACpBwAAqgcAAKsHAACsBwAArQcAAK4HAACvBwAAsAcAALEHAACyBwAAswcAALQHAAC1BwAAtgcAALcHAAC4BwAAuQcAALoHAAC7BwAAvAcAAL0HAAC+BwAAvwcAAMAHAADBBwAAwgcAAMMHAADEBwAAxQcAAMYHAADHBwAAyAcAAMkHAADKBwAAywcAAMwHAADNBwAAzgcAAM8HAADQBwAA0QcAANIHAADTBwAA1AcAANUHAADWBwAA1wcAANgHAADZBwAA2gcAANsHAADcBwAA3QcAAN4HAADfBwAA4AcAAOEHAADiBwAA4wcAAOQHAADlBwAA5gcAAOcHAADoBwAA6QcAAOoHAADrBwAA7AcAAO0HAADuBwAA7wcAAPAHAADxBwAA8gcAAPMHAAD0BwAA9QcAAPYHAAD3BwAA+AcAAPkHAAD6BwAA+wcAAPwHAAD9BwAA/gcAAP8HAAAACAAAAQgAAAIIAAADCAAABAgAAAUIAAAGCAAABwgAAAgIAAAJCAAACggAAAsIAAAMCAAADQgAAA4IAAAPCAAAEAgAABEIAAASCAAAEwgAABQIAAAVCAAAFggAABcIAAAYCAAAGQgAABoIAAAbCAAAHAgAAB0IAAAeCAAAHwgAACAIAAAhCAAAIggAACMIAAAkCAAAJQgAACYIAAAnCAAAKAgAACkIAAAqCAAAKwgAACwIAAAtCAAALggAAC8IAAAwCAAAMQgAADIIAAAzCAAANAgAADUIAAA2CAAANwgAADgIAAA5CAAAOggAADsIAAA8CAAAPQgAAD4IAAA/CAAAQAgAAEEIAABCCAAAQwgAAEQIAABFCAAARggAAEcIAABICAAASQgAAEoIAABLCAAATAgAAE0IAABOCAAATwgAAFAIAABRCAAAUggAAFMIAABUCAAAVQgAAFYIAABXCAAAWAgAAFkIAABaCAAAWwgAAFwIAABdCAAAXggAAF8IAABgCAAAYQgAAGIIAABjCAAAZAgAAGUIAABmCAAAZwgAAGgIAABpCAAAaggAAGsIAABsCAAAbQgAAG4IAABvCAAAcAgAAHEIAAByCAAAcwgAAHQIAAB1CAAAdggAAHcIAAB4CAAAeQgAAHoIAAB7CAAAfAgAAH0IAAB+CAAAfwgAAIAIAACBCAAAgggAAIMIAACECAAAhQgAAIYIAACHCAAAiAgAAIkIAACKCAAAiwgAAIwIAACNCAAAjggAAI8IAACQCAAAkQgAAJIIAACTCAAAlAgAAJUIAACWCAAAlwgAAJgIAACZCAAAmggAAJsIAACcCAAAnQgAAJ4IAACfCAAAoAgAAKEIAACiCAAAowgAAKQIAAClCAAApggAAKcIAACoCAAAqQgAAKoIAACrCAAArAgAAK0IAACuCAAArwgAALAIAACxCAAAsggAALMIAAC0CAAAtQgAALYIAAC3CAAAuAgAALkIAAC6CAAAuwgAALwIAAC9CAAAvggAAL8IAADACAAAwQgAAMIIAADDCAAAxAgAAMUIAADGCAAAxwgAAMgIAADJCAAAyggAAMsIAADMCAAAzQgAAM4IAADPCAAA0AgAANEIAADSCAAA0wgAANQIAADVCAAA1ggAANcIAADYCAAA2QgAANoIAADbCAAA3AgAAN0IAADeCAAA3wgAAOAIAADhCAAA4ggAAOMIAADkCAAA5QgAAOYIAADnCAAA6AgAAOkIAADqCAAA6wgAAOwIAADtCAAA7ggAAO8IAADwCAAA8QgAAPIIAADzCAAA9AgAAPUIAAD2CAAA9wgAAPgIAAD5CAAA+ggAAPsIAAD8CAAA/QgAAP4IAAD/CAAAAAkAAAEJAAACCQAAAwkAAAQJAAAFCQAABgkAAAcJAAAICQAACQkAAAoJAAALCQAADAkAAA0JAAAOCQAADwkAABAJAAARCQAAEgkAABMJAAAUCQAAFQkAABYJAAAXCQAAGAkAABkJAAAaCQAAGwkAABwJAAAdCQAAHgkAAB8JAAAgCQAAIQkAACIJAAAjCQAAJAkAACUJAAAmCQAAJwkAACgJAAApCQAAKgkAACsJAAAsCQAALQkAAC4JAAAvCQAAMAkAADEJAAAyCQAAMwkAADQJAAA1CQAANgkAADcJAAA4CQAAOQkAADoJAAA7CQAAPAkAAD0JAAA+CQAAPwkAAEAJAABBCQAAQgkAAEMJAABECQAARQkAAEYJAABHCQAASAkAAEkJAABKCQAASwkAAEwJAABNCQAATgkAAE8JAABQCQAAUQkAAFIJAABTCQAAVAkAAFUJAABWCQAAVwkAAFgJAABZCQAAWgkAAFsJAABcCQAAXQkAAF4JAABfCQAAYAkAAGEJAABiCQAAYwkAAGQJAABlCQAAZgkAAGcJAABoCQAAaQkAAGoJAABrCQAAbAkAAG0JAABuCQAAbwkAAHAJAABxCQAAcgkAAHMJAAB0CQAAdQkAAHYJAAB3CQAAeAkAAHkJAAB6CQAAewkAAHwJAAB9CQAAfgkAAH8JAACACQAAgQkAAIIJAACDCQAAhAkAAIUJAACGCQAAhwkAAIgJAACJCQAAigkAAIsJAACMCQAAjQkAAI4JAACPCQAAkAkAAJEJAACSCQAAkwkAAJQJAACVCQAAlgkAAJcJAACYCQAAmQkAAJoJAACbCQAAnAkAAJ0JAACeCQAAnwkAAKAJAAChCQAAogkAAKMJAACkCQAApQkAAKYJAACnCQAAqAkAAKkJAACqCQAAqwkAAKwJAACtCQAArgkAAK8JAACwCQAAsQkAALIJAACzCQAAtAkAALUJAAC2CQAAtwkAALgJAAC5CQAAugkAALsJAAC8CQAAvQkAAL4JAAC/CQAAwAkAAMEJAADCCQAAwwkAAMQJAADFCQAAxgkAAMcJAADICQAAyQkAAMoJAADLCQAAzAkAAM0JAADOCQAAzwkAANAJAADRCQAA0gkAANMJAADUCQAA1QkAANYJAADXCQAA2AkAANkJAADaCQAA2wkAANwJAADdCQAA3gkAAN8JAADgCQAA4QkAAOIJAADjCQAA5AkAAOUJAADmCQAA5wkAAOgJAADpCQAA6gkAAOsJAADsCQAA7QkAAO4JAADvCQAA8AkAAPEJAADyCQAA8wkAAPQJAAD1CQAA9gkAAPcJAAD4CQAA+QkAAPoJAAD7CQAA/AkAAP0JAAD+CQAA/wkAAAAKAAABCgAAAgoAAAMKAAAECgAABQoAAAYKAAAHCgAACAoAAAkKAAAKCgAACwoAAAwKAAANCgAADgoAAA8KAAAQCgAAEQoAABIKAAATCgAAFAoAABUKAAAWCgAAFwoAABgKAAAZCgAAGgoAABsKAAAcCgAAHQoAAB4KAAAfCgAAIAoAACEKAAAiCgAAIwoAACQKAAAlCgAAJgoAACcKAAAoCgAAKQoAACoKAAArCgAALAoAAC0KAAAuCgAALwoAADAKAAAxCgAAMgoAADMKAAA0CgAANQoAADYKAAA3CgAAOAoAADkKAAA6CgAAOwoAADwKAAA9CgAAPgoAAD8KAABACgAAQQoAAEIKAABDCgAARAoAAEUKAABGCgAARwoAAEgKAABJCgAASgoAAEsKAABMCgAATQoAAE4KAABPCgAAUAoAAFEKAABSCgAAUwoAAFQKAABVCgAAVgoAAFcKAABYCgAAWQoAAFoKAABbCgAAXAoAAF0KAABeCgAAXwoAAGAKAABhCgAAYgoAAGMKAABkCgAAZQoAAGYKAABnCgAAaAoAAGkKAABqCgAAawoAAGwKAABtCgAAbgoAAG8KAABwCgAAcQoAAHIKAABzCgAAdAoAAHUKAAB2CgAAdwoAAHgKAAB5CgAAegoAAHsKAAB8CgAAfQoAAH4KAAB/CgAAgAoAAIEKAACCCgAAgwoAAIQKAACFCgAAhgoAAIcKAACICgAAiQoAAIoKAACLCgAAjAoAAI0KAACOCgAAjwoAAJAKAACRCgAAkgoAAJMKAACUCgAAlQoAAJYKAACXCgAAmAoAAJkKAACaCgAAmwoAAJwKAACdCgAAngoAAJ8KAACgCgAAoQoAAKIKAACjCgAApAoAAKUKAACmCgAApwoAAKgKAACpCgAAqgoAAKsKAACsCgAArQoAAK4KAACvCgAAsAoAALEKAACyCgAAswoAALQKAAC1CgAAtgoAALcKAAC4CgAAuQoAALoKAAC7CgAAvAoAAL0KAAC+CgAAvwoAAMAKAADBCgAAwgoAAMMKAADECgAAxQoAAMYKAADHCgAAyAoAAMkKAADKCgAAywoAAMwKAADNCgAAzgoAAM8KAADQCgAA0QoAANIKAADTCgAA1AoAANUKAADWCgAA1woAANgKAADZCgAA2goAANsKAADcCgAA3QoAAN4KAADfCgAA4AoAAOEKAADiCgAA4woAAOQKAADlCgAA5goAAOcKAADoCgAA6QoAAOoKAADrCgAA7AoAAO0KAADuCgAA7woAAPAKAADxCgAA8goAAPMKAAD0CgAA9QoAAPYKAAD3CgAA+AoAAPkKAAD6CgAA+woAAPwKAAD9CgAA/goAAP8KAAAACwAAAQsAAAILAAADCwAABAsAAAULAAAGCwAABwsAAAgLAAAJCwAACgsAAAsLAAAMCwAADQsAAA4LAAAPCwAAEAsAABELAAASCwAAEwsAABQLAAAVCwAAFgsAABcLAAAYCwAAGQsAABoLAAAbCwAAHAsAAB0LAAAeCwAAHwsAACALAAAhCwAAIgsAACMLAAAkCwAAJQsAACYLAAAnCwAAKAsAACkLAAAqCwAAKwsAACwLAAAtCwAALgsAAC8LAAAwCwAAMQsAADILAAAzCwAANAsAADULAAA2CwAANwsAADgLAAA5CwAAOgsAADsLAAA8CwAAPQsAAD4LAAA/CwAAQAsAAEELAABCCwAAQwsAAEQLAABFCwAARgsAAEcLAABICwAASQsAAEoLAABLCwAATAsAAE0LAABOCwAATwsAAFALAABRCwAAUgsAAFMLAABUCwAAVQsAAFYLAABXCwAAWAsAAFkLAABaCwAAWwsAAFwLAABdCwAAXgsAAF8LAABgCwAAYQsAAGILAABjCwAAZAsAAGULAABmCwAAZwsAAGgLAABpCwAAagsAAGsLAABsCwAAbQsAAG4LAABvCwAAcAsAAHELAAByCwAAcwsAAHQLAAB1CwAAdgsAAHcLAAB4CwAAeQsAAHoLAAB7CwAAfAsAAH0LAAB+CwAAfwsAAIALAACBCwAAggsAAIMLAACECwAAhQsAAIYLAACHCwAAiAsAAIkLAACKCwAAiwsAAIwLAACNCwAAjgsAAI8LAACQCwAAkQsAAJILAACTCwAAlAsAAJULAACWCwAAlwsAAJgLAACZCwAAmgsAAJsLAACcCwAAnQsAAJ4LAACfCwAAoAsAAKELAACiCwAAowsAAKQLAAClCwAApgsAAKcLAACoCwAAqQsAAKoLAACrCwAArAsAAK0LAACuCwAArwsAALALAACxCwAAsgsAALMLAAC0CwAAtQsAALYLAAC3CwAAuAsAALkLAAC6CwAAuwsAALwLAAC9CwAAvgsAAL8LAADACwAAwQsAAMILAADDCwAAxAsAAMULAADGCwAAxwsAAMgLAADJCwAAygsAAMsLAADMCwAAzQsAAM4LAADPCwAA0AsAANELAADSCwAA0wsAANQLAADVCwAA1gsAANcLAADYCwAA2QsAANoLAADbCwAA3AsAAN0LAADeCwAA3wsAAOALAADhCwAA4gsAAOMLAADkCwAA5QsAAOYLAADnCwAA6AsAAOkLAADqCwAA6wsAAOwLAADtCwAA7gsAAO8LAADwCwAA8QsAAPILAADzCwAA9AsAAPULAAD2CwAA9wsAAPgLAAD5CwAA+gsAAPsLAAD8CwAA/QsAAP4LAAD/CwAAAAwAAAEMAAACDAAAAwwAAAQMAAAFDAAABgwAAAcMAAAIDAAACQwAAAoMAAALDAAADAwAAA0MAAAODAAADwwAABAMAAARDAAAEgwAABMMAAAUDAAAFQwAABYMAAAXDAAAGAwAABkMAAAaDAAAGwwAABwMAAAdDAAAHgwAAB8MAAAgDAAAIQwAACIMAAAjDAAAJAwAACUMAAAmDAAAJwwAACgMAAApDAAAKgwAACsMAAAsDAAALQwAAC4MAAAvDAAAMAwAADEMAAAyDAAAMwwAADQMAAA1DAAANgwAADcMAAA4DAAAOQwAADoMAAA7DAAAPAwAAD0MAAA+DAAAPwwAAEAMAABBDAAAQgwAAEMMAABEDAAARQwAAEYMAABHDAAASAwAAEkMAABKDAAASwwAAEwMAABNDAAATgwAAE8MAABQDAAAUQwAAFIMAABTDAAAVAwAAFUMAABWDAAAVwwAAFgMAABZDAAAWgwAAFsMAABcDAAAXQwAAF4MAABfDAAAYAwAAGEMAABiDAAAYwwAAGQMAABlDAAAZgwAAGcMAABoDAAAaQwAAGoMAABrDAAAbAwAAG0MAABuDAAAbwwAAHAMAABxDAAAcgwAAHMMAAB0DAAAdQwAAHYMAAB3DAAAeAwAAHkMAAB6DAAAewwAAHwMAAB9DAAAfgwAAH8MAACADAAAgQwAAIIMAACDDAAAhAwAAIUMAACGDAAAhwwAAIgMAACJDAAAigwAAIsMAACMDAAAjQwAAI4MAACPDAAAkAwAAJEMAACSDAAAkwwAAJQMAACVDAAAlgwAAJcMAACYDAAAmQwAAJoMAACbDAAAnAwAAJ0MAACeDAAAnwwAAKAMAAChDAAAogwAAKMMAACkDAAApQwAAKYMAACnDAAAqAwAAKkMAACqDAAAqwwAAKwMAACtDAAArgwAAK8MAACwDAAAsQwAALIMAACzDAAAtAwAALUMAAC2DAAAtwwAALgMAAC5DAAAugwAALsMAAC8DAAAvQwAAL4MAAC/DAAAwAwAAMEMAADCDAAAwwwAAMQMAADFDAAAxgwAAMcMAADIDAAAyQwAAMoMAADLDAAAzAwAAM0MAADODAAAzwwAANAMAADRDAAA0gwAANMMAADUDAAA1QwAANYMAADXDAAA2AwAANkMAADaDAAA2wwAANwMAADdDAAA3gwAAN8MAADgDAAA4QwAAOIMAADjDAAA5AwAAOUMAADmDAAA5wwAAOgMAADpDAAA6gwAAOsMAADsDAAA7QwAAO4MAADvDAAA8AwAAPEMAADyDAAA8wwAAPQMAAD1DAAA9gwAAPcMAAD4DAAA+QwAAPoMAAD7DAAA/AwAAP0MAAD+DAAA/wwAAAANAAABDQAAAg0AAAMNAAAEDQAABQ0AAAYNAAAHDQAACA0AAAkNAAAKDQAACw0AAAwNAAANDQAADg0AAA8NAAAQDQAAEQ0AABINAAATDQAAFA0AABUNAAAWDQAAFw0AABgNAAAZDQAAGg0AABsNAAAcDQAAHQ0AAB4NAAAfDQAAIA0AACENAAAiDQAAIw0AACQNAAAlDQAAJg0AACcNAAAoDQAAKQ0AACoNAAArDQAALA0AAC0NAAAuDQAALw0AADANAAAxDQAAMg0AADMNAAA0DQAANQ0AADYNAAA3DQAAOA0AADkNAAA6DQAAOw0AADwNAAA9DQAAPg0AAD8NAABADQAAQQ0AAEINAABDDQAARA0AAEUNAABGDQAARw0AAEgNAABJDQAASg0AAEsNAABMDQAATQ0AAE4NAABPDQAAUA0AAFENAABSDQAAUw0AAFQNAABVDQAAVg0AAFcNAABYDQAAWQ0AAFoNAABbDQAAXA0AAF0NAABeDQAAXw0AAGANAABhDQAAYg0AAGMNAABkDQAAZQ0AAGYNAABnDQAAaA0AAGkNAABqDQAAaw0AAGwNAABtDQAAbg0AAG8NAABwDQAAcQ0AAHINAABzDQAAdA0AAHUNAAB2DQAAdw0AAHgNAAB5DQAAeg0AAHsNAAB8DQAAfQ0AAH4NAAB/DQAAgA0AAIENAACCDQAAgw0AAIQNAACFDQAAhg0AAIcNAACIDQAAiQ0AAIoNAACLDQAAjA0AAI0NAACODQAAjw0AAJANAACRDQAAkg0AAJMNAACUDQAAlQ0AAJYNAACXDQAAmA0AAJkNAACaDQAAmw0AAJwNAACdDQAAng0AAJ8NAACgDQAAoQ0AAKINAACjDQAApA0AAKUNAACmDQAApw0AAKgNAACpDQAAqg0AAKsNAACsDQAArQ0AAK4NAACvDQAAsA0AALENAACyDQAAsw0AALQNAAC1DQAAtg0AALcNAAC4DQAAuQ0AALoNAAC7DQAAvA0AAL0NAAC+DQAAvw0AAMANAADBDQAAwg0AAMMNAADEDQAAxQ0AAMYNAADHDQAAyA0AAMkNAADKDQAAyw0AAMwNAADNDQAAzg0AAM8NAADQDQAA0Q0AANINAADTDQAA1A0AANUNAADWDQAA1w0AANgNAADZDQAA2g0AANsNAADcDQAA3Q0AAN4NAADfDQAA4A0AAOENAADiDQAA4w0AAOQNAADlDQAA5g0AAOcNAADoDQAA6Q0AAOoNAADrDQAA7A0AAO0NAADuDQAA7w0AAPANAADxDQAA8g0AAPMNAAD0DQAA9Q0AAPYNAAD3DQAA+A0AAPkNAAD6DQAA+w0AAPwNAAD9DQAA/g0AAP8NAAAADgAAAQ4AAAIOAAADDgAABA4AAAUOAAAGDgAABw4AAAgOAAAJDgAACg4AAAsOAAAMDgAADQ4AAA4OAAAPDgAAEA4AABEOAAASDgAAEw4AABQOAAAVDgAAFg4AABcOAAAYDgAAGQ4AABoOAAAbDgAAHA4AAB0OAAAeDgAAHw4AACAOAAAhDgAAIg4AACMOAAAkDgAAJQ4AACYOAAAnDgAAKA4AACkOAAAqDgAAKw4AACwOAAAtDgAALg4AAC8OAAAwDgAAMQ4AADIOAAAzDgAANA4AADUOAAA2DgAANw4AADgOAAA5DgAAOg4AADsOAAA8DgAAPQ4AAD4OAAA/DgAAQA4AAEEOAABCDgAAQw4AAEQOAABFDgAARg4AAEcOAABIDgAASQ4AAEoOAABLDgAATA4AAE0OAABODgAATw4AAFAOAABRDgAAUg4AAFMOAABUDgAAVQ4AAFYOAABXDgAAWA4AAFkOAABaDgAAWw4AAFwOAABdDgAAXg4AAF8OAABgDgAAYQ4AAGIOAABjDgAAZA4AAGUOAABmDgAAZw4AAGgOAABpDgAAag4AAGsOAABsDgAAbQ4AAG4OAABvDgAAcA4AAHEOAAByDgAAcw4AAHQOAAB1DgAAdg4AAHcOAAB4DgAAeQ4AAHoOAAB7DgAAfA4AAH0OAAB+DgAAfw4AAIAOAACBDgAAgg4AAIMOAACEDgAAhQ4AAIYOAACHDgAAiA4AAIkOAACKDgAAiw4AAIwOAACNDgAAjg4AAI8OAACQDgAAkQ4AAJIOAACTDgAAlA4AAJUOAACWDgAAlw4AAJgOAACZDgAAmg4AAJsOAACcDgAAnQ4AAJ4OAACfDgAAoA4AAKEOAACiDgAAow4AAKQOAAClDgAApg4AAKcOAACoDgAAqQ4AAKoOAACrDgAArA4AAK0OAACuDgAArw4AALAOAACxDgAAsg4AALMOAAC0DgAAtQ4AALYOAAC3DgAAuA4AALkOAAC6DgAAuw4AALwOAAC9DgAAvg4AAL8OAADADgAAwQ4AAMIOAADDDgAAxA4AAMUOAADGDgAAxw4AAMgOAADJDgAAyg4AAMsOAADMDgAAzQ4AAM4OAADPDgAA0A4AANEOAADSDgAA0w4AANQOAADVDgAA1g4AANcOAADYDgAA2Q4AANoOAADbDgAA3A4AAN0OAADeDgAA3w4AAOAOAADhDgAA4g4AAOMOAADkDgAA5Q4AAOYOAADnDgAA6A4AAOkOAADqDgAA6w4AAOwOAADtDgAA7g4AAO8OAADwDgAA8Q4AAPIOAADzDgAA9A4AAPUOAAD2DgAA9w4AAPgOAAD5DgAA+g4AAPsOAAD8DgAA/Q4AAP4OAAD/DgAAAA8AAAEPAAACDwAAAw8AAAQPAAAFDwAABg8AAAcPAAAIDwAACQ8AAAoPAAALDwAADA8AAA0PAAAODwAADw8AABAPAAARDwAAEg8AABMPAAAUDwAAFQ8AABYPAAAXDwAAGA8AABkPAAAaDwAAGw8AABwPAAAdDwAAHg8AAB8PAAAgDwAAIQ8AACIPAAAjDwAAJA8AACUPAAAmDwAAJw8AACgPAAApDwAAKg8AACsPAAAsDwAALQ8AAC4PAAAvDwAAMA8AADEPAAAyDwAAMw8AADQPAAA1DwAANg8AADcPAAA4DwAAOQ8AADoPAAA7DwAAPA8AAD0PAAA+DwAAPw8AAEAPAABBDwAAQg8AAEMPAABEDwAARQ8AAEYPAABHDwAASA8AAEkPAABKDwAASw8AAEwPAABNDwAATg8AAE8PAABQDwAAUQ8AAFIPAABTDwAAVA8AAFUPAABWDwAAVw8AAFgPAABZDwAAWg8AAFsPAABcDwAAXQ8AAF4PAABfDwAAYA8AAGEPAABiDwAAYw8AAGQPAABlDwAAZg8AAGcPAABoDwAAaQ8AAGoPAABrDwAAbA8AAG0PAABuDwAAbw8AAHAPAABxDwAAcg8AAHMPAAB0DwAAdQ8AAHYPAAB3DwAAeA8AAHkPAAB6DwAAew8AAHwPAAB9DwAAfg8AAH8PAACADwAAgQ8AAIIPAACDDwAAhA8AAIUPAACGDwAAhw8AAIgPAACJDwAAig8AAIsPAACMDwAAjQ8AAI4PAACPDwAAkA8AAJEPAACSDwAAkw8AAJQPAACVDwAAlg8AAJcPAACYDwAAmQ8AAJoPAACbDwAAnA8AAJ0PAACeDwAAnw8AAKAPAAChDwAAog8AAKMPAACkDwAApQ8AAKYPAACnDwAAqA8AAKkPAACqDwAAqw8AAKwPAACtDwAArg8AAK8PAACwDwAAsQ8AALIPAACzDwAAtA8AALUPAAC2DwAAtw8AALgPAAC5DwAAug8AALsPAAC8DwAAvQ8AAL4PAAC/DwAAwA8AAMEPAADCDwAAww8AAMQPAADFDwAAxg8AAMcPAADIDwAAyQ8AAMoPAADLDwAAzA8AAM0PAADODwAAzw8AANAPAADRDwAA0g8AANMPAADUDwAA1Q8AANYPAADXDwAA2A8AANkPAADaDwAA2w8AANwPAADdDwAA3g8AAN8PAADgDwAA4Q8AAOIPAADjDwAA5A8AAOUPAADmDwAA5w8AAOgPAADpDwAA6g8AAOsPAADsDwAA7Q8AAO4PAADvDwAA8A8AAPEPAADyDwAA8w8AAPQPAAD1DwAA9g8AAPcPAAD4DwAA+Q8AAPoPAAD7DwAA/A8AAP0PAAD+DwAA/w8AAAAQAAABEAAAAhAAAAMQAAAEEAAABRAAAAYQAAAHEAAACBAAAAkQAAAKEAAACxAAAAwQAAANEAAADhAAAA8QAAAQEAAAERAAABIQAAATEAAAFBAAABUQAAAWEAAAFxAAABgQAAAZEAAAGhAAABsQAAAcEAAAHRAAAB4QAAAfEAAAIBAAACEQAAAiEAAAIxAAACQQAAAlEAAAJhAAACcQAAAoEAAAKRAAACoQAAArEAAALBAAAC0QAAAuEAAALxAAADAQAAAxEAAAMhAAADMQAAA0EAAANRAAADYQAAA3EAAAOBAAADkQAAA6EAAAOxAAADwQAAA9EAAAPhAAAD8QAABAEAAAQRAAAEIQAABDEAAARBAAAEUQAABGEAAARxAAAEgQAABJEAAAShAAAEsQAABMEAAATRAAAE4QAABPEAAAUBAAAFEQAABSEAAAUxAAAFQQAABVEAAAVhAAAFcQAABYEAAAWRAAAFoQAABbEAAAXBAAAF0QAABeEAAAXxAAAGAQAABhEAAAYhAAAGMQAABkEAAAZRAAAGYQAABnEAAAaBAAAGkQAABqEAAAaxAAAGwQAABtEAAAbhAAAG8QAABwEAAAcRAAAHIQAABzEAAAdBAAAHUQAAB2EAAAdxAAAHgQAAB5EAAAehAAAHsQAAB8EAAAfRAAAH4QAAB/EAAAgBAAAIEQAACCEAAAgxAAAIQQAACFEAAAhhAAAIcQAACIEAAAiRAAAIoQAACLEAAAjBAAAI0QAACOEAAAjxAAAJAQAACREAAAkhAAAJMQAACUEAAAlRAAAJYQAACXEAAAmBAAAJkQAACaEAAAmxAAAJwQAACdEAAAnhAAAJ8QAACgEAAAoRAAAKIQAACjEAAApBAAAKUQAACmEAAApxAAAKgQAACpEAAAqhAAAKsQAACsEAAArRAAAK4QAACvEAAAsBAAALEQAACyEAAAsxAAALQQAAC1EAAAthAAALcQAAC4EAAAuRAAALoQAAC7EAAAvBAAAL0QAAC+EAAAvxAAAMAQAADBEAAAwhAAAMMQAADEEAAAxRAAAMYQAADHEAAAyBAAAMkQAADKEAAAyxAAAMwQAADNEAAAzhAAAM8QAADQEAAA0RAAANIQAADTEAAA1BAAANUQAADWEAAA1xAAANgQAADZEAAA2hAAANsQAADcEAAA3RAAAN4QAADfEAAA4BAAAOEQAADiEAAA4xAAAOQQAADlEAAA5hAAAOcQAADoEAAA6RAAAOoQAADrEAAA7BAAAO0QAADuEAAA7xAAAPAQAADxEAAA8hAAAPMQAAD0EAAA9RAAAPYQAAD3EAAA+BAAAPkQAAD6EAAA+xAAAPwQAAD9EAAA/hAAAP8QAAAAEQAAAREAAAIRAAADEQAABBEAAAURAAAGEQAABxEAAAgRAAAJEQAAChEAAAsRAAAMEQAADREAAA4RAAAPEQAAEBEAABERAAASEQAAExEAABQRAAAVEQAAFhEAABcRAAAYEQAAGREAABoRAAAbEQAAHBEAAB0RAAAeEQAAHxEAACARAAAhEQAAIhEAACMRAAAkEQAAJREAACYRAAAnEQAAKBEAACkRAAAqEQAAKxEAACwRAAAtEQAALhEAAC8RAAAwEQAAMREAADIRAAAzEQAANBEAADURAAA2EQAANxEAADgRAAA5EQAAOhEAADsRAAA8EQAAPREAAD4RAAA/EQAAQBEAAEERAABCEQAAQxEAAEQRAABFEQAARhEAAEcRAABIEQAASREAAEoRAABLEQAATBEAAE0RAABOEQAATxEAAFARAABREQAAUhEAAFMRAABUEQAAVREAAFYRAABXEQAAWBEAAFkRAABaEQAAWxEAAFwRAABdEQAAXhEAAF8RAABgEQAAYREAAGIRAABjEQAAZBEAAGURAABmEQAAZxEAAGgRAABpEQAAahEAAGsRAABsEQAAbREAAG4RAABvEQAAcBEAAHERAAByEQAAcxEAAHQRAAB1EQAAdhEAAHcRAAB4EQAAeREAAHoRAAB7EQAAfBEAAH0RAAB+EQAAfxEAAIARAACBEQAAghEAAIMRAACEEQAAhREAAIYRAACHEQAAiBEAAIkRAACKEQAAixEAAIwRAACNEQAAjhEAAI8RAACQEQAAkREAAJIRAACTEQAAlBEAAJURAACWEQAAlxEAAJgRAACZEQAAmhEAAJsRAACcEQAAnREAAJ4RAACfEQAAoBEAAKERAACiEQAAoxEAAKQRAAClEQAAphEAAKcRAACoEQAAqREAAKoRAACrEQAArBEAAK0RAACuEQAArxEAALARAACxEQAAshEAALMRAAC0EQAAtREAALYRAAC3EQAAuBEAALkRAAC6EQAAuxEAALwRAAC9EQAAvhEAAL8RAADAEQAAwREAAMIRAADDEQAAxBEAAMURAADGEQAAxxEAAMgRAADJEQAAyhEAAMsRAADMEQAAzREAAM4RAADPEQAA0BEAANERAADSEQAA0xEAANQRAADVEQAA1hEAANcRAADYEQAA2REAANoRAADbEQAA3BEAAN0RAADeEQAA3xEAAOARAADhEQAA4hEAAOMRAADkEQAA5REAAOYRAADnEQAA6BEAAOkRAADqEQAA6xEAAOwRAADtEQAA7hEAAO8RAADwEQAA8REAAPIRAADzEQAA9BEAAPURAAD2EQAA9xEAAPgRAAD5EQAA+hEAAPsRAAD8EQAA/REAAP4RAAD/EQAAABIAAAESAAACEgAAAxIAAAQSAAAFEgAABhIAAAcSAAAIEgAACRIAAAoSAAALEgAADBIAAA0SAAAOEgAADxIAABASAAAREgAAEhIAABMSAAAUEgAAFRIAABYSAAAXEgAAGBIAABkSAAAaEgAAGxIAABwSAAAdEgAAHhIAAB8SAAAgEgAAIRIAACISAAAjEgAAJBIAACUSAAAmEgAAJxIAACgSAAApEgAAKhIAACsSAAAsEgAALRIAAC4SAAAvEgAAMBIAADESAAAyEgAAMxIAADQSAAA1EgAANhIAADcSAAA4EgAAORIAADoSAAA7EgAAPBIAAD0SAAA+EgAAPxIAAEASAABBEgAAQhIAAEMSAABEEgAARRIAAEYSAABHEgAASBIAAEkSAABKEgAASxIAAEwSAABNEgAAThIAAE8SAABQEgAAURIAAFISAABTEgAAVBIAAFUSAABWEgAAVxIAAFgSAABZEgAAWhIAAFsSAABcEgAAXRIAAF4SAABfEgAAYBIAAGESAABiEgAAYxIAAGQSAABlEgAAZhIAAGcSAABoEgAAaRIAAGoSAABrEgAAbBIAAG0SAABuEgAAbxIAAHASAABxEgAAchIAAHMSAAB0EgAAdRIAAHYSAAB3EgAAeBIAAHkSAAB6EgAAexIAAHwSAAB9EgAAfhIAAH8SAACAEgAAgRIAAIISAACDEgAAhBIAAIUSAACGEgAAhxIAAIgSAACJEgAAihIAAIsSAACMEgAAjRIAAI4SAACPEgAAkBIAAJESAACSEgAAkxIAAJQSAACVEgAAlhIAAJcSAACYEgAAmRIAAJoSAACbEgAAnBIAAJ0SAACeEgAAnxIAAKASAAChEgAAohIAAKMSAACkEgAApRIAAKYSAACnEgAAqBIAAKkSAACqEgAAqxIAAKwSAACtEgAArhIAAK8SAACwEgAAsRIAALISAACzEgAAtBIAALUSAAC2EgAAtxIAALgSAAC5EgAAuhIAALsSAAC8EgAAvRIAAL4SAAC/EgAAwBIAAMESAADCEgAAwxIAAMQSAADFEgAAxhIAAMcSAADIEgAAyRIAAMoSAADLEgAAzBIAAM0SAADOEgAAzxIAANASAADREgAA0hIAANMSAADUEgAA1RIAANYSAADXEgAA2BIAANkSAADaEgAA2xIAANwSAADdEgAA3hIAAN8SAADgEgAA4RIAAOISAADjEgAA5BIAAOUSAADmEgAA5xIAAOgSAADpEgAA6hIAAOsSAADsEgAA7RIAAO4SAADvEgAA8BIAAPESAADyEgAA8xIAAPQSAAD1EgAA\",\"dtype\":\"int32\",\"order\":\"little\",\"shape\":[4854]},\"item\":[\"negative\",\"PF03318_etx_mtx2_full_length_sequences.fasta\",\"negative\",\"negative\",\"PF06355_aegerolysin_full_length_sequences.fasta\",\"negative\",\"PF03318_etx_mtx2_full_length_sequences.fasta\",\"negative\",\"negative\",\"negative\",\"negative\",\"negative\",\"PF12261_t_hemolysin_full_length_sequences.fasta\",\"negative\",\"PF01117_aerolysin_full_length_sequences.fasta\",\"negative\",\"negative\",\"negative\",\"PF03318_etx_mtx2_full_length_sequences.fasta\",\"negative\",\"negative\",\"PF12261_t_hemolysin_full_length_sequences.fasta\",\"PF01289_thiol_cytolysin_full_length_sequences.fasta\",\"negative\",\"PF00555_Endotoxin_M_uniprot.fasta\",\"negative\",\"negative\",\"negative\",\"negative\",\"negative\",\"PF00087_toxin_tolip_full_length_sequences.fasta\",\"negative\",\"negative\",\"negative\",\"PF00087_toxin_tolip_full_length_sequences.fasta\",\"negative\",\"PF12261_t_hemolysin_full_length_sequences.fasta\",\"PF12261_t_hemolysin_full_length_sequences.fasta\",\"negative\",\"PF06369_anemone_cytotox_full_length_sequences.fasta\",\"negative\",\"negative\",\"negative\",\"negative\",\"negative\",\"negative\",\"negative\",\"negative\",\"PF01117_aerolysin_full_length_sequences.fasta\",\"PF06369_anemone_cytotox_full_length_sequences.fasta\",\"PF18063_BB_PF_full_length_sequences.fasta\",\"PF11393_T4BSS_dotI_icml_full_length_sequences.fasta\",\"negative\",\"negative\",\"negative\",\"PF03318_etx_mtx2_full_length_sequences.fasta\",\"PF12920_tcda_tcdb_pore_full_length_sequences.fasta\",\"PF07367_fb_lectin_full_length_sequences.fasta\",\"PF11393_T4BSS_dotI_icml_full_length_sequences.fasta\",\"PF03945_Endotoxin_N_full_length_sequences.fasta\",\"negative\",\"PF06355_aegerolysin_full_length_sequences.fasta\",\"negative\",\"negative\",\"PF11393_T4BSS_dotI_icml_full_length_sequences.fasta\",\"negative\",\"PF01289_thiol_cytolysin_full_length_sequences.fasta\",\"PF11393_T4BSS_dotI_icml_full_length_sequences.fasta\",\"PF12261_t_hemolysin_full_length_sequences.fasta\",\"PF00087_toxin_tolip_full_length_sequences.fasta\",\"PF03318_etx_mtx2_full_length_sequences.fasta\",\"negative\",\"PF12261_t_hemolysin_full_length_sequences.fasta\",\"PF05802_espb_full_length_sequences.fasta\",\"PF18063_BB_PF_full_length_sequences.fasta\",\"negative\",\"PF00555_Endotoxin_M_uniprot.fasta\",\"negative\",\"negative\",\"negative\",\"negative\",\"PF03318_etx_mtx2_full_length_sequences.fasta\",\"negative\",\"negative\",\"PF06369_anemone_cytotox_full_length_sequences.fasta\",\"PF07367_fb_lectin_full_length_sequences.fasta\",\"negative\",\"PF11393_T4BSS_dotI_icml_full_length_sequences.fasta\",\"PF01117_aerolysin_full_length_sequences.fasta\",\"negative\",\"PF01289_thiol_cytolysin_full_length_sequences.fasta\",\"negative\",\"PF06355_aegerolysin_full_length_sequences.fasta\",\"negative\",\"negative\",\"negative\",\"negative\",\"negative\",\"negative\",\"negative\",\"PF03318_etx_mtx2_full_length_sequences.fasta\",\"negative\",\"negative\",\"negative\",\"negative\",\"negative\",\"negative\",\"negative\",\"PF12261_t_hemolysin_full_length_sequences.fasta\",\"PF01024_colicin_full_length_sequences.fasta\",\"negative\",\"negative\",\"negative\",\"PF01289_thiol_cytolysin_full_length_sequences.fasta\",\"PF12261_t_hemolysin_full_length_sequences.fasta\",\"negative\",\"negative\",\"negative\",\"negative\",\"PF01289_thiol_cytolysin_full_length_sequences.fasta\",\"negative\",\"PF01117_aerolysin_full_length_sequences.fasta\",\"PF03318_etx_mtx2_full_length_sequences.fasta\",\"negative\",\"negative\",\"negative\",\"negative\",\"negative\",\"PF06109_hlye_full_length_sequences.fasta\",\"negative\",\"PF03318_etx_mtx2_full_length_sequences.fasta\",\"negative\",\"negative\",\"negative\",\"negative\",\"PF03318_etx_mtx2_full_length_sequences.fasta\",\"PF11393_T4BSS_dotI_icml_full_length_sequences.fasta\",\"PF01289_thiol_cytolysin_full_length_sequences.fasta\",\"negative\",\"negative\",\"negative\",\"PF12261_t_hemolysin_full_length_sequences.fasta\",\"negative\",\"PF00087_toxin_tolip_full_length_sequences.fasta\",\"negative\",\"PF11393_T4BSS_dotI_icml_full_length_sequences.fasta\",\"negative\",\"negative\",\"negative\",\"negative\",\"PF11393_T4BSS_dotI_icml_full_length_sequences.fasta\",\"negative\",\"PF03945_Endotoxin_N_full_length_sequences.fasta\",\"PF00087_toxin_tolip_full_length_sequences.fasta\",\"negative\",\"negative\",\"negative\",\"negative\",\"negative\",\"negative\",\"negative\",\"negative\",\"PF03945_Endotoxin_N_full_length_sequences.fasta\",\"PF04877_harpin_full_length_sequences.fasta\",\"PF06369_anemone_cytotox_full_length_sequences.fasta\",\"negative\",\"negative\",\"PF03945_Endotoxin_N_full_length_sequences.fasta\",\"negative\",\"negative\",\"PF03945_Endotoxin_N_full_length_sequences.fasta\",\"negative\",\"negative\",\"negative\",\"negative\",\"PF00087_toxin_tolip_full_length_sequences.fasta\",\"negative\",\"negative\",\"negative\",\"PF18684_plyb_c_full_length_sequences.fasta\",\"PF07968_leukocidin_full_length_sequences.fasta\",\"PF00087_toxin_tolip_full_length_sequences.fasta\",\"negative\",\"negative\",\"negative\",\"PF18063_BB_PF_full_length_sequences.fasta\",\"negative\",\"negative\",\"PF03945_Endotoxin_N_full_length_sequences.fasta\",\"PF11393_T4BSS_dotI_icml_full_length_sequences.fasta\",\"negative\",\"PF01338_Bac_thur_toxin_full_length_sequences.fasta\",\"PF06369_anemone_cytotox_full_length_sequences.fasta\",\"negative\",\"negative\",\"PF07367_fb_lectin_full_length_sequences.fasta\",\"negative\",\"negative\",\"negative\",\"PF03318_etx_mtx2_full_length_sequences.fasta\",\"PF03318_etx_mtx2_full_length_sequences.fasta\",\"negative\",\"negative\",\"negative\",\"negative\",\"PF01117_aerolysin_full_length_sequences.fasta\",\"PF01117_aerolysin_full_length_sequences.fasta\",\"PF01338_Bac_thur_toxin_full_length_sequences.fasta\",\"negative\",\"PF06369_anemone_cytotox_full_length_sequences.fasta\",\"negative\",\"negative\",\"negative\",\"PF01289_thiol_cytolysin_full_length_sequences.fasta\",\"negative\",\"negative\",\"negative\",\"negative\",\"negative\",\"negative\",\"negative\",\"PF01289_thiol_cytolysin_full_length_sequences.fasta\",\"PF03318_etx_mtx2_full_length_sequences.fasta\",\"PF03945_Endotoxin_N_full_length_sequences.fasta\",\"negative\",\"PF06355_aegerolysin_full_length_sequences.fasta\",\"negative\",\"negative\",\"negative\",\"negative\",\"negative\",\"PF03318_etx_mtx2_full_length_sequences.fasta\",\"negative\",\"negative\",\"negative\",\"PF01289_thiol_cytolysin_full_length_sequences.fasta\",\"PF07968_leukocidin_full_length_sequences.fasta\",\"PF06355_aegerolysin_full_length_sequences.fasta\",\"negative\",\"negative\",\"negative\",\"PF06109_hlye_full_length_sequences.fasta\",\"negative\",\"negative\",\"negative\",\"negative\",\"negative\",\"negative\",\"negative\",\"negative\",\"negative\",\"negative\",\"negative\",\"PF05802_espb_full_length_sequences.fasta\",\"negative\",\"PF01289_thiol_cytolysin_full_length_sequences.fasta\",\"negative\",\"PF03318_etx_mtx2_full_length_sequences.fasta\",\"PF12261_t_hemolysin_full_length_sequences.fasta\",\"negative\",\"PF00087_toxin_tolip_full_length_sequences.fasta\",\"negative\",\"PF06355_aegerolysin_full_length_sequences.fasta\",\"negative\",\"negative\",\"negative\",\"negative\",\"pf05105_phage_holin_4_1_uniprot.fasta\",\"negative\",\"negative\",\"negative\",\"PF07367_fb_lectin_full_length_sequences.fasta\",\"PF00087_toxin_tolip_full_length_sequences.fasta\",\"negative\",\"negative\",\"negative\",\"PF03318_etx_mtx2_full_length_sequences.fasta\",\"negative\",\"negative\",\"negative\",\"negative\",\"negative\",\"negative\",\"PF03945_Endotoxin_N_full_length_sequences.fasta\",\"PF01823_macpf_uniprot.fasta\",\"PF11393_T4BSS_dotI_icml_full_length_sequences.fasta\",\"PF06369_anemone_cytotox_full_length_sequences.fasta\",\"negative\",\"PF01289_thiol_cytolysin_full_length_sequences.fasta\",\"PF06355_aegerolysin_full_length_sequences.fasta\",\"negative\",\"negative\",\"negative\",\"PF03318_etx_mtx2_full_length_sequences.fasta\",\"negative\",\"negative\",\"PF11393_T4BSS_dotI_icml_full_length_sequences.fasta\",\"PF01289_thiol_cytolysin_full_length_sequences.fasta\",\"negative\",\"PF01289_thiol_cytolysin_full_length_sequences.fasta\",\"PF01117_aerolysin_full_length_sequences.fasta\",\"negative\",\"PF03945_Endotoxin_N_full_length_sequences.fasta\",\"negative\",\"negative\",\"negative\",\"negative\",\"PF06355_aegerolysin_full_length_sequences.fasta\",\"negative\",\"PF06369_anemone_cytotox_full_length_sequences.fasta\",\"PF03945_Endotoxin_N_full_length_sequences.fasta\",\"PF01289_thiol_cytolysin_full_length_sequences.fasta\",\"negative\",\"negative\",\"PF00087_toxin_tolip_full_length_sequences.fasta\",\"negative\",\"negative\",\"negative\",\"negative\",\"PF03945_Endotoxin_N_full_length_sequences.fasta\",\"negative\",\"negative\",\"PF03318_etx_mtx2_full_length_sequences.fasta\",\"PF11393_T4BSS_dotI_icml_full_length_sequences.fasta\",\"PF01117_aerolysin_full_length_sequences.fasta\",\"PF12920_tcda_tcdb_pore_full_length_sequences.fasta\",\"negative\",\"PF03318_etx_mtx2_full_length_sequences.fasta\",\"PF11393_T4BSS_dotI_icml_full_length_sequences.fasta\",\"negative\",\"negative\",\"negative\",\"negative\",\"PF00087_toxin_tolip_full_length_sequences.fasta\",\"negative\",\"PF03318_etx_mtx2_full_length_sequences.fasta\",\"PF03318_etx_mtx2_full_length_sequences.fasta\",\"PF07367_fb_lectin_full_length_sequences.fasta\",\"PF03318_etx_mtx2_full_length_sequences.fasta\",\"negative\",\"negative\",\"negative\",\"PF12261_t_hemolysin_full_length_sequences.fasta\",\"PF01117_aerolysin_full_length_sequences.fasta\",\"PF18063_BB_PF_full_length_sequences.fasta\",\"PF00087_toxin_tolip_full_length_sequences.fasta\",\"negative\",\"PF03318_etx_mtx2_full_length_sequences.fasta\",\"negative\",\"PF06355_aegerolysin_full_length_sequences.fasta\",\"PF11393_T4BSS_dotI_icml_full_length_sequences.fasta\",\"PF05802_espb_full_length_sequences.fasta\",\"PF03318_etx_mtx2_full_length_sequences.fasta\",\"negative\",\"PF01338_Bac_thur_toxin_full_length_sequences.fasta\",\"negative\",\"negative\",\"PF05802_espb_full_length_sequences.fasta\",\"PF06369_anemone_cytotox_full_length_sequences.fasta\",\"PF01289_thiol_cytolysin_full_length_sequences.fasta\",\"negative\",\"PF03945_Endotoxin_N_full_length_sequences.fasta\",\"negative\",\"PF01338_Bac_thur_toxin_full_length_sequences.fasta\",\"negative\",\"PF01289_thiol_cytolysin_full_length_sequences.fasta\",\"negative\",\"negative\",\"PF03945_Endotoxin_N_full_length_sequences.fasta\",\"negative\",\"negative\",\"PF01117_aerolysin_full_length_sequences.fasta\",\"PF03318_etx_mtx2_full_length_sequences.fasta\",\"negative\",\"negative\",\"PF03945_Endotoxin_N_full_length_sequences.fasta\",\"negative\",\"PF01338_Bac_thur_toxin_full_length_sequences.fasta\",\"negative\",\"negative\",\"negative\",\"PF01289_thiol_cytolysin_full_length_sequences.fasta\",\"negative\",\"negative\",\"negative\",\"PF01117_aerolysin_full_length_sequences.fasta\",\"negative\",\"PF03318_etx_mtx2_full_length_sequences.fasta\",\"negative\",\"negative\",\"negative\",\"PF03945_Endotoxin_N_full_length_sequences.fasta\",\"negative\",\"negative\",\"PF01289_thiol_cytolysin_full_length_sequences.fasta\",\"PF01289_thiol_cytolysin_full_length_sequences.fasta\",\"PF11393_T4BSS_dotI_icml_full_length_sequences.fasta\",\"negative\",\"negative\",\"negative\",\"negative\",\"PF00087_toxin_tolip_full_length_sequences.fasta\",\"negative\",\"negative\",\"negative\",\"negative\",\"PF06355_aegerolysin_full_length_sequences.fasta\",\"negative\",\"negative\",\"negative\",\"PF03318_etx_mtx2_full_length_sequences.fasta\",\"PF01289_thiol_cytolysin_full_length_sequences.fasta\",\"PF07367_fb_lectin_full_length_sequences.fasta\",\"PF03318_etx_mtx2_full_length_sequences.fasta\",\"negative\",\"PF06369_anemone_cytotox_full_length_sequences.fasta\",\"PF07367_fb_lectin_full_length_sequences.fasta\",\"negative\",\"PF11393_T4BSS_dotI_icml_full_length_sequences.fasta\",\"negative\",\"negative\",\"PF11393_T4BSS_dotI_icml_full_length_sequences.fasta\",\"negative\",\"PF12261_t_hemolysin_full_length_sequences.fasta\",\"PF01117_aerolysin_full_length_sequences.fasta\",\"PF17475_binary_toxb_2_full_length_sequences.fasta\",\"negative\",\"PF12261_t_hemolysin_full_length_sequences.fasta\",\"negative\",\"PF12261_t_hemolysin_full_length_sequences.fasta\",\"PF06369_anemone_cytotox_full_length_sequences.fasta\",\"negative\",\"PF01289_thiol_cytolysin_full_length_sequences.fasta\",\"PF12261_t_hemolysin_full_length_sequences.fasta\",\"PF12261_t_hemolysin_full_length_sequences.fasta\",\"negative\",\"PF11393_T4BSS_dotI_icml_full_length_sequences.fasta\",\"negative\",\"negative\",\"negative\",\"negative\",\"negative\",\"negative\",\"PF00087_toxin_tolip_full_length_sequences.fasta\",\"negative\",\"negative\",\"negative\",\"PF07367_fb_lectin_full_length_sequences.fasta\",\"negative\",\"PF01289_thiol_cytolysin_full_length_sequences.fasta\",\"negative\",\"negative\",\"negative\",\"negative\",\"negative\",\"PF06355_aegerolysin_full_length_sequences.fasta\",\"negative\",\"PF07367_fb_lectin_full_length_sequences.fasta\",\"negative\",\"negative\",\"PF03318_etx_mtx2_full_length_sequences.fasta\",\"negative\",\"negative\",\"negative\",\"PF00087_toxin_tolip_full_length_sequences.fasta\",\"negative\",\"PF03945_Endotoxin_N_full_length_sequences.fasta\",\"negative\",\"negative\",\"PF11393_T4BSS_dotI_icml_full_length_sequences.fasta\",\"negative\",\"negative\",\"negative\",\"PF06109_hlye_full_length_sequences.fasta\",\"negative\",\"negative\",\"negative\",\"negative\",\"negative\",\"negative\",\"negative\",\"negative\",\"negative\",\"PF12261_t_hemolysin_full_length_sequences.fasta\",\"PF11393_T4BSS_dotI_icml_full_length_sequences.fasta\",\"negative\",\"negative\",\"negative\",\"negative\",\"PF03318_etx_mtx2_full_length_sequences.fasta\",\"negative\",\"PF03318_etx_mtx2_full_length_sequences.fasta\",\"negative\",\"negative\",\"negative\",\"PF11393_T4BSS_dotI_icml_full_length_sequences.fasta\",\"PF06369_anemone_cytotox_full_length_sequences.fasta\",\"PF00555_Endotoxin_M_uniprot.fasta\",\"negative\",\"PF06355_aegerolysin_full_length_sequences.fasta\",\"PF05802_espb_full_length_sequences.fasta\",\"negative\",\"PF07367_fb_lectin_full_length_sequences.fasta\",\"PF03318_etx_mtx2_full_length_sequences.fasta\",\"negative\",\"negative\",\"PF01289_thiol_cytolysin_full_length_sequences.fasta\",\"negative\",\"PF06355_aegerolysin_full_length_sequences.fasta\",\"negative\",\"negative\",\"negative\",\"negative\",\"negative\",\"negative\",\"PF01289_thiol_cytolysin_full_length_sequences.fasta\",\"negative\",\"negative\",\"negative\",\"PF11393_T4BSS_dotI_icml_full_length_sequences.fasta\",\"PF12920_tcda_tcdb_pore_full_length_sequences.fasta\",\"PF00087_toxin_tolip_full_length_sequences.fasta\",\"negative\",\"negative\",\"negative\",\"PF12261_t_hemolysin_full_length_sequences.fasta\",\"negative\",\"PF01117_aerolysin_full_length_sequences.fasta\",\"negative\",\"PF01117_aerolysin_full_length_sequences.fasta\",\"negative\",\"negative\",\"PF03318_etx_mtx2_full_length_sequences.fasta\",\"negative\",\"negative\",\"PF00087_toxin_tolip_full_length_sequences.fasta\",\"negative\",\"PF07367_fb_lectin_full_length_sequences.fasta\",\"PF00087_toxin_tolip_full_length_sequences.fasta\",\"negative\",\"negative\",\"PF07968_leukocidin_full_length_sequences.fasta\",\"negative\",\"PF07968_leukocidin_full_length_sequences.fasta\",\"negative\",\"PF06355_aegerolysin_full_length_sequences.fasta\",\"negative\",\"negative\",\"negative\",\"negative\",\"PF12261_t_hemolysin_full_length_sequences.fasta\",\"negative\",\"PF01289_thiol_cytolysin_full_length_sequences.fasta\",\"PF06355_aegerolysin_full_length_sequences.fasta\",\"negative\",\"negative\",\"PF01024_colicin_full_length_sequences.fasta\",\"negative\",\"negative\",\"PF00087_toxin_tolip_full_length_sequences.fasta\",\"PF06355_aegerolysin_full_length_sequences.fasta\",\"negative\",\"negative\",\"PF00555_Endotoxin_M_uniprot.fasta\",\"negative\",\"PF06369_anemone_cytotox_full_length_sequences.fasta\",\"negative\",\"PF03318_etx_mtx2_full_length_sequences.fasta\",\"negative\",\"negative\",\"PF06355_aegerolysin_full_length_sequences.fasta\",\"PF06369_anemone_cytotox_full_length_sequences.fasta\",\"negative\",\"negative\",\"negative\",\"negative\",\"PF11565_porb_full_length_sequences.fasta\",\"PF01338_Bac_thur_toxin_full_length_sequences.fasta\",\"negative\",\"negative\",\"PF03318_etx_mtx2_full_length_sequences.fasta\",\"negative\",\"negative\",\"negative\",\"negative\",\"negative\",\"negative\",\"negative\",\"negative\",\"negative\",\"negative\",\"PF01289_thiol_cytolysin_full_length_sequences.fasta\",\"negative\",\"PF12261_t_hemolysin_full_length_sequences.fasta\",\"negative\",\"PF01117_aerolysin_full_length_sequences.fasta\",\"negative\",\"PF06369_anemone_cytotox_full_length_sequences.fasta\",\"negative\",\"PF06355_aegerolysin_full_length_sequences.fasta\",\"PF07968_leukocidin_full_length_sequences.fasta\",\"negative\",\"negative\",\"PF12261_t_hemolysin_full_length_sequences.fasta\",\"PF00087_toxin_tolip_full_length_sequences.fasta\",\"negative\",\"negative\",\"PF02382_rtx_full_length_sequences.fasta\",\"PF06355_aegerolysin_full_length_sequences.fasta\",\"negative\",\"PF05802_espb_full_length_sequences.fasta\",\"PF01823_macpf_uniprot.fasta\",\"PF01117_aerolysin_full_length_sequences.fasta\",\"PF01289_thiol_cytolysin_full_length_sequences.fasta\",\"negative\",\"negative\",\"PF06355_aegerolysin_full_length_sequences.fasta\",\"negative\",\"negative\",\"PF12261_t_hemolysin_full_length_sequences.fasta\",\"negative\",\"PF11393_T4BSS_dotI_icml_full_length_sequences.fasta\",\"negative\",\"negative\",\"negative\",\"negative\",\"negative\",\"negative\",\"PF12261_t_hemolysin_full_length_sequences.fasta\",\"negative\",\"negative\",\"negative\",\"negative\",\"PF01289_thiol_cytolysin_full_length_sequences.fasta\",\"negative\",\"negative\",\"negative\",\"PF01338_Bac_thur_toxin_full_length_sequences.fasta\",\"negative\",\"negative\",\"negative\",\"PF06109_hlye_full_length_sequences.fasta\",\"negative\",\"PF12261_t_hemolysin_full_length_sequences.fasta\",\"negative\",\"negative\",\"PF03945_Endotoxin_N_full_length_sequences.fasta\",\"negative\",\"negative\",\"negative\",\"negative\",\"PF12261_t_hemolysin_full_length_sequences.fasta\",\"negative\",\"negative\",\"negative\",\"negative\",\"negative\",\"negative\",\"PF06355_aegerolysin_full_length_sequences.fasta\",\"PF01289_thiol_cytolysin_full_length_sequences.fasta\",\"negative\",\"PF01117_aerolysin_full_length_sequences.fasta\",\"negative\",\"negative\",\"negative\",\"PF04877_harpin_full_length_sequences.fasta\",\"negative\",\"negative\",\"negative\",\"negative\",\"negative\",\"PF04877_harpin_full_length_sequences.fasta\",\"PF00087_toxin_tolip_full_length_sequences.fasta\",\"negative\",\"negative\",\"PF01289_thiol_cytolysin_full_length_sequences.fasta\",\"PF01338_Bac_thur_toxin_full_length_sequences.fasta\",\"negative\",\"PF00087_toxin_tolip_full_length_sequences.fasta\",\"PF00087_toxin_tolip_full_length_sequences.fasta\",\"PF01338_Bac_thur_toxin_full_length_sequences.fasta\",\"PF06355_aegerolysin_full_length_sequences.fasta\",\"negative\",\"negative\",\"PF06369_anemone_cytotox_full_length_sequences.fasta\",\"PF06369_anemone_cytotox_full_length_sequences.fasta\",\"negative\",\"negative\",\"PF12261_t_hemolysin_full_length_sequences.fasta\",\"negative\",\"PF06369_anemone_cytotox_full_length_sequences.fasta\",\"negative\",\"PF12261_t_hemolysin_full_length_sequences.fasta\",\"negative\",\"negative\",\"negative\",\"negative\",\"PF03318_etx_mtx2_full_length_sequences.fasta\",\"negative\",\"PF18063_BB_PF_full_length_sequences.fasta\",\"negative\",\"PF06369_anemone_cytotox_full_length_sequences.fasta\",\"negative\",\"PF06355_aegerolysin_full_length_sequences.fasta\",\"negative\",\"PF00087_toxin_tolip_full_length_sequences.fasta\",\"negative\",\"PF01289_thiol_cytolysin_full_length_sequences.fasta\",\"negative\",\"negative\",\"negative\",\"negative\",\"negative\",\"negative\",\"PF12261_t_hemolysin_full_length_sequences.fasta\",\"PF07367_fb_lectin_full_length_sequences.fasta\",\"negative\",\"negative\",\"negative\",\"PF03318_etx_mtx2_full_length_sequences.fasta\",\"negative\",\"negative\",\"negative\",\"negative\",\"PF12261_t_hemolysin_full_length_sequences.fasta\",\"negative\",\"negative\",\"PF18063_BB_PF_full_length_sequences.fasta\",\"negative\",\"negative\",\"negative\",\"PF03318_etx_mtx2_full_length_sequences.fasta\",\"PF03318_etx_mtx2_full_length_sequences.fasta\",\"PF01289_thiol_cytolysin_full_length_sequences.fasta\",\"PF11393_T4BSS_dotI_icml_full_length_sequences.fasta\",\"PF12261_t_hemolysin_full_length_sequences.fasta\",\"PF12920_tcda_tcdb_pore_full_length_sequences.fasta\",\"negative\",\"PF05802_espb_full_length_sequences.fasta\",\"PF11393_T4BSS_dotI_icml_full_length_sequences.fasta\",\"negative\",\"negative\",\"negative\",\"PF12261_t_hemolysin_full_length_sequences.fasta\",\"PF06369_anemone_cytotox_full_length_sequences.fasta\",\"PF00087_toxin_tolip_full_length_sequences.fasta\",\"negative\",\"negative\",\"negative\",\"PF06355_aegerolysin_full_length_sequences.fasta\",\"negative\",\"PF06369_anemone_cytotox_full_length_sequences.fasta\",\"PF03318_etx_mtx2_full_length_sequences.fasta\",\"negative\",\"negative\",\"PF04877_harpin_full_length_sequences.fasta\",\"PF07367_fb_lectin_full_length_sequences.fasta\",\"PF06369_anemone_cytotox_full_length_sequences.fasta\",\"negative\",\"negative\",\"PF03318_etx_mtx2_full_length_sequences.fasta\",\"PF11393_T4BSS_dotI_icml_full_length_sequences.fasta\",\"negative\",\"PF03945_Endotoxin_N_full_length_sequences.fasta\",\"negative\",\"PF00555_Endotoxin_M_uniprot.fasta\",\"negative\",\"negative\",\"PF12261_t_hemolysin_full_length_sequences.fasta\",\"PF01338_Bac_thur_toxin_full_length_sequences.fasta\",\"negative\",\"PF03318_etx_mtx2_full_length_sequences.fasta\",\"negative\",\"PF03945_Endotoxin_N_full_length_sequences.fasta\",\"negative\",\"PF12261_t_hemolysin_full_length_sequences.fasta\",\"negative\",\"negative\",\"PF04598_gasdermin_uniprot.fasta\",\"negative\",\"PF12261_t_hemolysin_full_length_sequences.fasta\",\"PF01289_thiol_cytolysin_full_length_sequences.fasta\",\"negative\",\"negative\",\"negative\",\"PF03944_Endotoxin_C_uniprot.fasta\",\"PF03945_Endotoxin_N_full_length_sequences.fasta\",\"negative\",\"PF06369_anemone_cytotox_full_length_sequences.fasta\",\"PF01289_thiol_cytolysin_full_length_sequences.fasta\",\"negative\",\"PF11565_porb_full_length_sequences.fasta\",\"PF12261_t_hemolysin_full_length_sequences.fasta\",\"PF12261_t_hemolysin_full_length_sequences.fasta\",\"negative\",\"negative\",\"negative\",\"negative\",\"PF00555_Endotoxin_M_uniprot.fasta\",\"negative\",\"PF01117_aerolysin_full_length_sequences.fasta\",\"negative\",\"negative\",\"negative\",\"PF07367_fb_lectin_full_length_sequences.fasta\",\"negative\",\"negative\",\"pf05105_phage_holin_4_1_uniprot.fasta\",\"negative\",\"negative\",\"negative\",\"negative\",\"negative\",\"negative\",\"PF06369_anemone_cytotox_full_length_sequences.fasta\",\"negative\",\"negative\",\"negative\",\"negative\",\"PF12920_tcda_tcdb_pore_full_length_sequences.fasta\",\"negative\",\"PF03318_etx_mtx2_full_length_sequences.fasta\",\"negative\",\"PF01117_aerolysin_full_length_sequences.fasta\",\"negative\",\"negative\",\"negative\",\"negative\",\"negative\",\"negative\",\"negative\",\"negative\",\"negative\",\"negative\",\"negative\",\"PF12261_t_hemolysin_full_length_sequences.fasta\",\"PF06355_aegerolysin_full_length_sequences.fasta\",\"negative\",\"negative\",\"negative\",\"negative\",\"negative\",\"negative\",\"negative\",\"negative\",\"negative\",\"negative\",\"negative\",\"negative\",\"negative\",\"negative\",\"negative\",\"PF06355_aegerolysin_full_length_sequences.fasta\",\"negative\",\"negative\",\"negative\",\"negative\",\"negative\",\"negative\",\"negative\",\"PF12261_t_hemolysin_full_length_sequences.fasta\",\"negative\",\"PF00087_toxin_tolip_full_length_sequences.fasta\",\"negative\",\"negative\",\"negative\",\"PF03945_Endotoxin_N_full_length_sequences.fasta\",\"PF01117_aerolysin_full_length_sequences.fasta\",\"PF03945_Endotoxin_N_full_length_sequences.fasta\",\"PF06369_anemone_cytotox_full_length_sequences.fasta\",\"negative\",\"PF00087_toxin_tolip_full_length_sequences.fasta\",\"PF03318_etx_mtx2_full_length_sequences.fasta\",\"negative\",\"negative\",\"PF07968_leukocidin_full_length_sequences.fasta\",\"PF01289_thiol_cytolysin_full_length_sequences.fasta\",\"negative\",\"negative\",\"negative\",\"negative\",\"negative\",\"negative\",\"negative\",\"negative\",\"PF07968_leukocidin_full_length_sequences.fasta\",\"negative\",\"negative\",\"negative\",\"PF00087_toxin_tolip_full_length_sequences.fasta\",\"PF07367_fb_lectin_full_length_sequences.fasta\",\"negative\",\"PF01289_thiol_cytolysin_full_length_sequences.fasta\",\"negative\",\"negative\",\"negative\",\"negative\",\"negative\",\"PF01117_aerolysin_full_length_sequences.fasta\",\"negative\",\"PF05802_espb_full_length_sequences.fasta\",\"negative\",\"PF07968_leukocidin_full_length_sequences.fasta\",\"negative\",\"PF00087_toxin_tolip_full_length_sequences.fasta\",\"negative\",\"PF07968_leukocidin_full_length_sequences.fasta\",\"negative\",\"negative\",\"negative\",\"PF04877_harpin_full_length_sequences.fasta\",\"PF03318_etx_mtx2_full_length_sequences.fasta\",\"negative\",\"PF18063_BB_PF_full_length_sequences.fasta\",\"PF12261_t_hemolysin_full_length_sequences.fasta\",\"negative\",\"negative\",\"PF11565_porb_full_length_sequences.fasta\",\"negative\",\"PF12261_t_hemolysin_full_length_sequences.fasta\",\"negative\",\"negative\",\"negative\",\"negative\",\"PF01289_thiol_cytolysin_full_length_sequences.fasta\",\"negative\",\"negative\",\"PF07968_leukocidin_full_length_sequences.fasta\",\"PF00087_toxin_tolip_full_length_sequences.fasta\",\"PF01117_aerolysin_full_length_sequences.fasta\",\"PF00087_toxin_tolip_full_length_sequences.fasta\",\"PF06109_hlye_full_length_sequences.fasta\",\"PF03318_etx_mtx2_full_length_sequences.fasta\",\"PF03945_Endotoxin_N_full_length_sequences.fasta\",\"PF02382_rtx_full_length_sequences.fasta\",\"negative\",\"PF03944_Endotoxin_C_uniprot.fasta\",\"negative\",\"negative\",\"PF06355_aegerolysin_full_length_sequences.fasta\",\"negative\",\"PF12261_t_hemolysin_full_length_sequences.fasta\",\"PF07367_fb_lectin_full_length_sequences.fasta\",\"negative\",\"negative\",\"PF11393_T4BSS_dotI_icml_full_length_sequences.fasta\",\"PF06369_anemone_cytotox_full_length_sequences.fasta\",\"negative\",\"negative\",\"negative\",\"negative\",\"negative\",\"PF05802_espb_full_length_sequences.fasta\",\"negative\",\"negative\",\"PF06109_hlye_full_length_sequences.fasta\",\"negative\",\"negative\",\"PF12261_t_hemolysin_full_length_sequences.fasta\",\"negative\",\"negative\",\"negative\",\"negative\",\"PF05802_espb_full_length_sequences.fasta\",\"PF06355_aegerolysin_full_length_sequences.fasta\",\"negative\",\"PF06369_anemone_cytotox_full_length_sequences.fasta\",\"negative\",\"negative\",\"PF03318_etx_mtx2_full_length_sequences.fasta\",\"PF06369_anemone_cytotox_full_length_sequences.fasta\",\"negative\",\"negative\",\"negative\",\"negative\",\"PF01823_macpf_uniprot.fasta\",\"negative\",\"negative\",\"PF01289_thiol_cytolysin_full_length_sequences.fasta\",\"PF01117_aerolysin_full_length_sequences.fasta\",\"negative\",\"negative\",\"PF00087_toxin_tolip_full_length_sequences.fasta\",\"negative\",\"negative\",\"negative\",\"negative\",\"negative\",\"negative\",\"PF11565_porb_full_length_sequences.fasta\",\"negative\",\"negative\",\"PF06355_aegerolysin_full_length_sequences.fasta\",\"negative\",\"negative\",\"PF06109_hlye_full_length_sequences.fasta\",\"negative\",\"negative\",\"negative\",\"PF06109_hlye_full_length_sequences.fasta\",\"negative\",\"PF03318_etx_mtx2_full_length_sequences.fasta\",\"negative\",\"negative\",\"negative\",\"PF12261_t_hemolysin_full_length_sequences.fasta\",\"PF03318_etx_mtx2_full_length_sequences.fasta\",\"PF06369_anemone_cytotox_full_length_sequences.fasta\",\"negative\",\"negative\",\"negative\",\"negative\",\"PF11393_T4BSS_dotI_icml_full_length_sequences.fasta\",\"PF06369_anemone_cytotox_full_length_sequences.fasta\",\"negative\",\"PF06355_aegerolysin_full_length_sequences.fasta\",\"negative\",\"PF04877_harpin_full_length_sequences.fasta\",\"PF03945_Endotoxin_N_full_length_sequences.fasta\",\"PF06355_aegerolysin_full_length_sequences.fasta\",\"negative\",\"negative\",\"PF00087_toxin_tolip_full_length_sequences.fasta\",\"negative\",\"PF01117_aerolysin_full_length_sequences.fasta\",\"negative\",\"negative\",\"negative\",\"PF01338_Bac_thur_toxin_full_length_sequences.fasta\",\"PF01117_aerolysin_full_length_sequences.fasta\",\"negative\",\"negative\",\"negative\",\"PF11393_T4BSS_dotI_icml_full_length_sequences.fasta\",\"negative\",\"negative\",\"PF06355_aegerolysin_full_length_sequences.fasta\",\"negative\",\"PF01117_aerolysin_full_length_sequences.fasta\",\"PF11393_T4BSS_dotI_icml_full_length_sequences.fasta\",\"negative\",\"PF01289_thiol_cytolysin_full_length_sequences.fasta\",\"PF11565_porb_full_length_sequences.fasta\",\"PF00087_toxin_tolip_full_length_sequences.fasta\",\"PF06355_aegerolysin_full_length_sequences.fasta\",\"PF06355_aegerolysin_full_length_sequences.fasta\",\"PF01289_thiol_cytolysin_full_length_sequences.fasta\",\"PF03318_etx_mtx2_full_length_sequences.fasta\",\"negative\",\"negative\",\"negative\",\"negative\",\"PF12261_t_hemolysin_full_length_sequences.fasta\",\"negative\",\"PF06369_anemone_cytotox_full_length_sequences.fasta\",\"negative\",\"PF03318_etx_mtx2_full_length_sequences.fasta\",\"negative\",\"PF01289_thiol_cytolysin_full_length_sequences.fasta\",\"PF01117_aerolysin_full_length_sequences.fasta\",\"negative\",\"negative\",\"negative\",\"negative\",\"PF01117_aerolysin_full_length_sequences.fasta\",\"negative\",\"PF11393_T4BSS_dotI_icml_full_length_sequences.fasta\",\"negative\",\"PF11565_porb_full_length_sequences.fasta\",\"PF01289_thiol_cytolysin_full_length_sequences.fasta\",\"negative\",\"PF03945_Endotoxin_N_full_length_sequences.fasta\",\"PF03945_Endotoxin_N_full_length_sequences.fasta\",\"negative\",\"negative\",\"PF01117_aerolysin_full_length_sequences.fasta\",\"negative\",\"negative\",\"negative\",\"negative\",\"negative\",\"PF03318_etx_mtx2_full_length_sequences.fasta\",\"PF01024_colicin_full_length_sequences.fasta\",\"negative\",\"PF01024_colicin_full_length_sequences.fasta\",\"negative\",\"negative\",\"negative\",\"PF11393_T4BSS_dotI_icml_full_length_sequences.fasta\",\"negative\",\"negative\",\"negative\",\"PF03945_Endotoxin_N_full_length_sequences.fasta\",\"PF06369_anemone_cytotox_full_length_sequences.fasta\",\"negative\",\"negative\",\"negative\",\"negative\",\"PF01338_Bac_thur_toxin_full_length_sequences.fasta\",\"PF00087_toxin_tolip_full_length_sequences.fasta\",\"PF01823_macpf_uniprot.fasta\",\"PF01117_aerolysin_full_length_sequences.fasta\",\"PF03318_etx_mtx2_full_length_sequences.fasta\",\"negative\",\"negative\",\"PF02382_rtx_full_length_sequences.fasta\",\"PF01823_macpf_uniprot.fasta\",\"negative\",\"negative\",\"negative\",\"PF12261_t_hemolysin_full_length_sequences.fasta\",\"PF03945_Endotoxin_N_full_length_sequences.fasta\",\"PF06369_anemone_cytotox_full_length_sequences.fasta\",\"negative\",\"negative\",\"negative\",\"negative\",\"negative\",\"negative\",\"negative\",\"negative\",\"negative\",\"PF06355_aegerolysin_full_length_sequences.fasta\",\"negative\",\"negative\",\"negative\",\"negative\",\"negative\",\"PF12261_t_hemolysin_full_length_sequences.fasta\",\"PF00555_Endotoxin_M_uniprot.fasta\",\"negative\",\"PF12261_t_hemolysin_full_length_sequences.fasta\",\"PF12261_t_hemolysin_full_length_sequences.fasta\",\"negative\",\"negative\",\"PF06355_aegerolysin_full_length_sequences.fasta\",\"PF11393_T4BSS_dotI_icml_full_length_sequences.fasta\",\"negative\",\"negative\",\"negative\",\"negative\",\"negative\",\"negative\",\"PF06369_anemone_cytotox_full_length_sequences.fasta\",\"PF00087_toxin_tolip_full_length_sequences.fasta\",\"negative\",\"negative\",\"negative\",\"negative\",\"negative\",\"negative\",\"negative\",\"negative\",\"negative\",\"negative\",\"PF06369_anemone_cytotox_full_length_sequences.fasta\",\"negative\",\"PF05802_espb_full_length_sequences.fasta\",\"negative\",\"PF18063_BB_PF_full_length_sequences.fasta\",\"negative\",\"negative\",\"negative\",\"negative\",\"negative\",\"PF00087_toxin_tolip_full_length_sequences.fasta\",\"negative\",\"PF06369_anemone_cytotox_full_length_sequences.fasta\",\"negative\",\"negative\",\"negative\",\"negative\",\"negative\",\"PF12261_t_hemolysin_full_length_sequences.fasta\",\"negative\",\"negative\",\"negative\",\"PF01289_thiol_cytolysin_full_length_sequences.fasta\",\"negative\",\"negative\",\"PF01117_aerolysin_full_length_sequences.fasta\",\"PF12261_t_hemolysin_full_length_sequences.fasta\",\"negative\",\"negative\",\"PF06355_aegerolysin_full_length_sequences.fasta\",\"PF06355_aegerolysin_full_length_sequences.fasta\",\"negative\",\"negative\",\"negative\",\"PF06369_anemone_cytotox_full_length_sequences.fasta\",\"negative\",\"negative\",\"PF01823_macpf_uniprot.fasta\",\"negative\",\"negative\",\"PF06355_aegerolysin_full_length_sequences.fasta\",\"negative\",\"negative\",\"PF06369_anemone_cytotox_full_length_sequences.fasta\",\"negative\",\"negative\",\"PF01338_Bac_thur_toxin_full_length_sequences.fasta\",\"PF01289_thiol_cytolysin_full_length_sequences.fasta\",\"PF03318_etx_mtx2_full_length_sequences.fasta\",\"PF05802_espb_full_length_sequences.fasta\",\"negative\",\"negative\",\"negative\",\"negative\",\"PF05802_espb_full_length_sequences.fasta\",\"negative\",\"PF00087_toxin_tolip_full_length_sequences.fasta\",\"PF03945_Endotoxin_N_full_length_sequences.fasta\",\"negative\",\"negative\",\"PF01117_aerolysin_full_length_sequences.fasta\",\"PF07367_fb_lectin_full_length_sequences.fasta\",\"negative\",\"PF06369_anemone_cytotox_full_length_sequences.fasta\",\"negative\",\"PF07367_fb_lectin_full_length_sequences.fasta\",\"negative\",\"PF01338_Bac_thur_toxin_full_length_sequences.fasta\",\"negative\",\"PF01289_thiol_cytolysin_full_length_sequences.fasta\",\"PF00087_toxin_tolip_full_length_sequences.fasta\",\"PF03318_etx_mtx2_full_length_sequences.fasta\",\"negative\",\"negative\",\"PF06369_anemone_cytotox_full_length_sequences.fasta\",\"PF11393_T4BSS_dotI_icml_full_length_sequences.fasta\",\"PF05802_espb_full_length_sequences.fasta\",\"negative\",\"negative\",\"negative\",\"PF07367_fb_lectin_full_length_sequences.fasta\",\"negative\",\"PF11393_T4BSS_dotI_icml_full_length_sequences.fasta\",\"negative\",\"negative\",\"negative\",\"PF06355_aegerolysin_full_length_sequences.fasta\",\"negative\",\"negative\",\"PF00087_toxin_tolip_full_length_sequences.fasta\",\"PF06355_aegerolysin_full_length_sequences.fasta\",\"PF06369_anemone_cytotox_full_length_sequences.fasta\",\"negative\",\"negative\",\"negative\",\"PF02382_rtx_full_length_sequences.fasta\",\"negative\",\"negative\",\"PF03318_etx_mtx2_full_length_sequences.fasta\",\"PF03945_Endotoxin_N_full_length_sequences.fasta\",\"negative\",\"negative\",\"PF07367_fb_lectin_full_length_sequences.fasta\",\"PF00087_toxin_tolip_full_length_sequences.fasta\",\"negative\",\"negative\",\"negative\",\"negative\",\"negative\",\"negative\",\"PF12261_t_hemolysin_full_length_sequences.fasta\",\"negative\",\"PF06109_hlye_full_length_sequences.fasta\",\"negative\",\"PF00087_toxin_tolip_full_length_sequences.fasta\",\"PF12261_t_hemolysin_full_length_sequences.fasta\",\"negative\",\"PF03945_Endotoxin_N_full_length_sequences.fasta\",\"PF18063_BB_PF_full_length_sequences.fasta\",\"negative\",\"PF11565_porb_full_length_sequences.fasta\",\"negative\",\"negative\",\"negative\",\"negative\",\"PF12261_t_hemolysin_full_length_sequences.fasta\",\"negative\",\"PF03318_etx_mtx2_full_length_sequences.fasta\",\"negative\",\"negative\",\"PF01289_thiol_cytolysin_full_length_sequences.fasta\",\"PF00555_Endotoxin_M_uniprot.fasta\",\"PF06109_hlye_full_length_sequences.fasta\",\"PF06369_anemone_cytotox_full_length_sequences.fasta\",\"negative\",\"negative\",\"negative\",\"PF00087_toxin_tolip_full_length_sequences.fasta\",\"negative\",\"PF01289_thiol_cytolysin_full_length_sequences.fasta\",\"negative\",\"negative\",\"negative\",\"PF06355_aegerolysin_full_length_sequences.fasta\",\"negative\",\"negative\",\"negative\",\"PF00087_toxin_tolip_full_length_sequences.fasta\",\"PF06369_anemone_cytotox_full_length_sequences.fasta\",\"negative\",\"negative\",\"negative\",\"negative\",\"negative\",\"PF03318_etx_mtx2_full_length_sequences.fasta\",\"negative\",\"PF01117_aerolysin_full_length_sequences.fasta\",\"negative\",\"negative\",\"negative\",\"negative\",\"PF03318_etx_mtx2_full_length_sequences.fasta\",\"PF11393_T4BSS_dotI_icml_full_length_sequences.fasta\",\"negative\",\"negative\",\"negative\",\"PF12261_t_hemolysin_full_length_sequences.fasta\",\"negative\",\"negative\",\"negative\",\"negative\",\"PF05802_espb_full_length_sequences.fasta\",\"negative\",\"PF01289_thiol_cytolysin_full_length_sequences.fasta\",\"negative\",\"negative\",\"negative\",\"PF00087_toxin_tolip_full_length_sequences.fasta\",\"negative\",\"negative\",\"negative\",\"PF12261_t_hemolysin_full_length_sequences.fasta\",\"PF06355_aegerolysin_full_length_sequences.fasta\",\"negative\",\"negative\",\"negative\",\"negative\",\"negative\",\"negative\",\"PF12261_t_hemolysin_full_length_sequences.fasta\",\"negative\",\"PF01289_thiol_cytolysin_full_length_sequences.fasta\",\"negative\",\"negative\",\"negative\",\"PF12261_t_hemolysin_full_length_sequences.fasta\",\"PF03318_etx_mtx2_full_length_sequences.fasta\",\"negative\",\"PF12261_t_hemolysin_full_length_sequences.fasta\",\"negative\",\"PF06355_aegerolysin_full_length_sequences.fasta\",\"PF01289_thiol_cytolysin_full_length_sequences.fasta\",\"negative\",\"negative\",\"PF01289_thiol_cytolysin_full_length_sequences.fasta\",\"negative\",\"PF03318_etx_mtx2_full_length_sequences.fasta\",\"PF06355_aegerolysin_full_length_sequences.fasta\",\"PF11393_T4BSS_dotI_icml_full_length_sequences.fasta\",\"negative\",\"negative\",\"PF07968_leukocidin_full_length_sequences.fasta\",\"PF12920_tcda_tcdb_pore_full_length_sequences.fasta\",\"negative\",\"negative\",\"negative\",\"PF03318_etx_mtx2_full_length_sequences.fasta\",\"PF00555_Endotoxin_M_uniprot.fasta\",\"negative\",\"PF12920_tcda_tcdb_pore_full_length_sequences.fasta\",\"PF06355_aegerolysin_full_length_sequences.fasta\",\"negative\",\"PF06109_hlye_full_length_sequences.fasta\",\"PF01289_thiol_cytolysin_full_length_sequences.fasta\",\"PF03945_Endotoxin_N_full_length_sequences.fasta\",\"PF11393_T4BSS_dotI_icml_full_length_sequences.fasta\",\"negative\",\"PF03945_Endotoxin_N_full_length_sequences.fasta\",\"negative\",\"PF01289_thiol_cytolysin_full_length_sequences.fasta\",\"negative\",\"negative\",\"negative\",\"negative\",\"negative\",\"PF02382_rtx_full_length_sequences.fasta\",\"PF01823_macpf_uniprot.fasta\",\"PF03945_Endotoxin_N_full_length_sequences.fasta\",\"negative\",\"negative\",\"negative\",\"negative\",\"negative\",\"PF18063_BB_PF_full_length_sequences.fasta\",\"negative\",\"negative\",\"negative\",\"PF00087_toxin_tolip_full_length_sequences.fasta\",\"PF03945_Endotoxin_N_full_length_sequences.fasta\",\"PF11393_T4BSS_dotI_icml_full_length_sequences.fasta\",\"negative\",\"negative\",\"PF06369_anemone_cytotox_full_length_sequences.fasta\",\"negative\",\"PF03318_etx_mtx2_full_length_sequences.fasta\",\"PF03318_etx_mtx2_full_length_sequences.fasta\",\"negative\",\"PF06355_aegerolysin_full_length_sequences.fasta\",\"PF03318_etx_mtx2_full_length_sequences.fasta\",\"negative\",\"negative\",\"negative\",\"PF06355_aegerolysin_full_length_sequences.fasta\",\"negative\",\"negative\",\"negative\",\"negative\",\"negative\",\"negative\",\"PF06369_anemone_cytotox_full_length_sequences.fasta\",\"negative\",\"negative\",\"negative\",\"negative\",\"PF01117_aerolysin_full_length_sequences.fasta\",\"PF06355_aegerolysin_full_length_sequences.fasta\",\"PF12261_t_hemolysin_full_length_sequences.fasta\",\"negative\",\"negative\",\"negative\",\"negative\",\"negative\",\"negative\",\"PF01117_aerolysin_full_length_sequences.fasta\",\"PF00087_toxin_tolip_full_length_sequences.fasta\",\"negative\",\"PF00087_toxin_tolip_full_length_sequences.fasta\",\"PF03318_etx_mtx2_full_length_sequences.fasta\",\"negative\",\"negative\",\"negative\",\"PF01338_Bac_thur_toxin_full_length_sequences.fasta\",\"negative\",\"negative\",\"PF01117_aerolysin_full_length_sequences.fasta\",\"negative\",\"PF06369_anemone_cytotox_full_length_sequences.fasta\",\"PF12261_t_hemolysin_full_length_sequences.fasta\",\"PF01823_macpf_uniprot.fasta\",\"negative\",\"negative\",\"negative\",\"PF03945_Endotoxin_N_full_length_sequences.fasta\",\"negative\",\"negative\",\"PF18063_BB_PF_full_length_sequences.fasta\",\"negative\",\"PF01823_macpf_uniprot.fasta\",\"PF01338_Bac_thur_toxin_full_length_sequences.fasta\",\"negative\",\"PF01289_thiol_cytolysin_full_length_sequences.fasta\",\"PF12261_t_hemolysin_full_length_sequences.fasta\",\"negative\",\"negative\",\"negative\",\"negative\",\"PF11393_T4BSS_dotI_icml_full_length_sequences.fasta\",\"negative\",\"negative\",\"negative\",\"negative\",\"PF00087_toxin_tolip_full_length_sequences.fasta\",\"negative\",\"negative\",\"PF11393_T4BSS_dotI_icml_full_length_sequences.fasta\",\"negative\",\"negative\",\"PF01289_thiol_cytolysin_full_length_sequences.fasta\",\"PF01289_thiol_cytolysin_full_length_sequences.fasta\",\"PF06369_anemone_cytotox_full_length_sequences.fasta\",\"negative\",\"PF06369_anemone_cytotox_full_length_sequences.fasta\",\"negative\",\"PF06109_hlye_full_length_sequences.fasta\",\"PF00087_toxin_tolip_full_length_sequences.fasta\",\"negative\",\"negative\",\"negative\",\"negative\",\"PF03318_etx_mtx2_full_length_sequences.fasta\",\"negative\",\"PF03945_Endotoxin_N_full_length_sequences.fasta\",\"PF06355_aegerolysin_full_length_sequences.fasta\",\"PF11393_T4BSS_dotI_icml_full_length_sequences.fasta\",\"negative\",\"PF03318_etx_mtx2_full_length_sequences.fasta\",\"negative\",\"negative\",\"negative\",\"negative\",\"PF01117_aerolysin_full_length_sequences.fasta\",\"PF11393_T4BSS_dotI_icml_full_length_sequences.fasta\",\"negative\",\"negative\",\"PF12261_t_hemolysin_full_length_sequences.fasta\",\"negative\",\"negative\",\"negative\",\"negative\",\"negative\",\"negative\",\"negative\",\"negative\",\"negative\",\"PF00555_Endotoxin_M_uniprot.fasta\",\"negative\",\"negative\",\"negative\",\"PF01338_Bac_thur_toxin_full_length_sequences.fasta\",\"negative\",\"PF01289_thiol_cytolysin_full_length_sequences.fasta\",\"PF06355_aegerolysin_full_length_sequences.fasta\",\"PF03318_etx_mtx2_full_length_sequences.fasta\",\"negative\",\"PF00087_toxin_tolip_full_length_sequences.fasta\",\"PF12920_tcda_tcdb_pore_full_length_sequences.fasta\",\"negative\",\"PF01117_aerolysin_full_length_sequences.fasta\",\"negative\",\"PF12920_tcda_tcdb_pore_full_length_sequences.fasta\",\"negative\",\"negative\",\"PF01117_aerolysin_full_length_sequences.fasta\",\"negative\",\"PF03318_etx_mtx2_full_length_sequences.fasta\",\"negative\",\"negative\",\"PF01289_thiol_cytolysin_full_length_sequences.fasta\",\"negative\",\"PF06355_aegerolysin_full_length_sequences.fasta\",\"negative\",\"PF03318_etx_mtx2_full_length_sequences.fasta\",\"negative\",\"negative\",\"negative\",\"negative\",\"PF07367_fb_lectin_full_length_sequences.fasta\",\"PF06369_anemone_cytotox_full_length_sequences.fasta\",\"PF11393_T4BSS_dotI_icml_full_length_sequences.fasta\",\"PF03945_Endotoxin_N_full_length_sequences.fasta\",\"PF00087_toxin_tolip_full_length_sequences.fasta\",\"negative\",\"PF00087_toxin_tolip_full_length_sequences.fasta\",\"PF01289_thiol_cytolysin_full_length_sequences.fasta\",\"negative\",\"negative\",\"negative\",\"negative\",\"negative\",\"negative\",\"PF11393_T4BSS_dotI_icml_full_length_sequences.fasta\",\"negative\",\"negative\",\"PF01338_Bac_thur_toxin_full_length_sequences.fasta\",\"PF11393_T4BSS_dotI_icml_full_length_sequences.fasta\",\"negative\",\"negative\",\"PF04877_harpin_full_length_sequences.fasta\",\"PF07367_fb_lectin_full_length_sequences.fasta\",\"negative\",\"PF12920_tcda_tcdb_pore_full_length_sequences.fasta\",\"negative\",\"PF11393_T4BSS_dotI_icml_full_length_sequences.fasta\",\"negative\",\"negative\",\"PF06355_aegerolysin_full_length_sequences.fasta\",\"negative\",\"PF12261_t_hemolysin_full_length_sequences.fasta\",\"negative\",\"negative\",\"PF01338_Bac_thur_toxin_full_length_sequences.fasta\",\"PF11393_T4BSS_dotI_icml_full_length_sequences.fasta\",\"negative\",\"PF06355_aegerolysin_full_length_sequences.fasta\",\"negative\",\"negative\",\"PF07367_fb_lectin_full_length_sequences.fasta\",\"negative\",\"PF06355_aegerolysin_full_length_sequences.fasta\",\"negative\",\"negative\",\"negative\",\"negative\",\"negative\",\"negative\",\"negative\",\"negative\",\"PF04598_gasdermin_uniprot.fasta\",\"negative\",\"PF00087_toxin_tolip_full_length_sequences.fasta\",\"PF03318_etx_mtx2_full_length_sequences.fasta\",\"negative\",\"negative\",\"negative\",\"negative\",\"negative\",\"negative\",\"PF12261_t_hemolysin_full_length_sequences.fasta\",\"negative\",\"PF01338_Bac_thur_toxin_full_length_sequences.fasta\",\"PF07367_fb_lectin_full_length_sequences.fasta\",\"negative\",\"PF07367_fb_lectin_full_length_sequences.fasta\",\"negative\",\"negative\",\"PF12261_t_hemolysin_full_length_sequences.fasta\",\"negative\",\"negative\",\"PF12261_t_hemolysin_full_length_sequences.fasta\",\"negative\",\"negative\",\"PF11393_T4BSS_dotI_icml_full_length_sequences.fasta\",\"negative\",\"PF06369_anemone_cytotox_full_length_sequences.fasta\",\"negative\",\"negative\",\"negative\",\"PF03318_etx_mtx2_full_length_sequences.fasta\",\"PF05802_espb_full_length_sequences.fasta\",\"negative\",\"negative\",\"negative\",\"negative\",\"negative\",\"PF01117_aerolysin_full_length_sequences.fasta\",\"negative\",\"negative\",\"PF06369_anemone_cytotox_full_length_sequences.fasta\",\"negative\",\"PF12261_t_hemolysin_full_length_sequences.fasta\",\"PF01338_Bac_thur_toxin_full_length_sequences.fasta\",\"PF01289_thiol_cytolysin_full_length_sequences.fasta\",\"negative\",\"PF03945_Endotoxin_N_full_length_sequences.fasta\",\"negative\",\"PF11393_T4BSS_dotI_icml_full_length_sequences.fasta\",\"PF06369_anemone_cytotox_full_length_sequences.fasta\",\"negative\",\"PF01289_thiol_cytolysin_full_length_sequences.fasta\",\"PF00087_toxin_tolip_full_length_sequences.fasta\",\"negative\",\"PF00087_toxin_tolip_full_length_sequences.fasta\",\"PF06109_hlye_full_length_sequences.fasta\",\"negative\",\"negative\",\"negative\",\"negative\",\"PF01338_Bac_thur_toxin_full_length_sequences.fasta\",\"negative\",\"PF01117_aerolysin_full_length_sequences.fasta\",\"PF12261_t_hemolysin_full_length_sequences.fasta\",\"PF11393_T4BSS_dotI_icml_full_length_sequences.fasta\",\"negative\",\"PF06355_aegerolysin_full_length_sequences.fasta\",\"negative\",\"negative\",\"negative\",\"negative\",\"negative\",\"PF06369_anemone_cytotox_full_length_sequences.fasta\",\"PF03945_Endotoxin_N_full_length_sequences.fasta\",\"negative\",\"negative\",\"negative\",\"PF12261_t_hemolysin_full_length_sequences.fasta\",\"negative\",\"negative\",\"negative\",\"negative\",\"negative\",\"PF01338_Bac_thur_toxin_full_length_sequences.fasta\",\"negative\",\"PF07367_fb_lectin_full_length_sequences.fasta\",\"PF11393_T4BSS_dotI_icml_full_length_sequences.fasta\",\"negative\",\"negative\",\"PF03318_etx_mtx2_full_length_sequences.fasta\",\"negative\",\"negative\",\"PF03318_etx_mtx2_full_length_sequences.fasta\",\"negative\",\"negative\",\"PF07367_fb_lectin_full_length_sequences.fasta\",\"PF11393_T4BSS_dotI_icml_full_length_sequences.fasta\",\"PF06369_anemone_cytotox_full_length_sequences.fasta\",\"negative\",\"PF07367_fb_lectin_full_length_sequences.fasta\",\"PF07367_fb_lectin_full_length_sequences.fasta\",\"negative\",\"negative\",\"PF12920_tcda_tcdb_pore_full_length_sequences.fasta\",\"PF03318_etx_mtx2_full_length_sequences.fasta\",\"negative\",\"PF07968_leukocidin_full_length_sequences.fasta\",\"negative\",\"PF06369_anemone_cytotox_full_length_sequences.fasta\",\"negative\",\"negative\",\"PF06369_anemone_cytotox_full_length_sequences.fasta\",\"negative\",\"negative\",\"negative\",\"PF12261_t_hemolysin_full_length_sequences.fasta\",\"negative\",\"PF11393_T4BSS_dotI_icml_full_length_sequences.fasta\",\"negative\",\"negative\",\"negative\",\"PF05802_espb_full_length_sequences.fasta\",\"PF06355_aegerolysin_full_length_sequences.fasta\",\"PF03945_Endotoxin_N_full_length_sequences.fasta\",\"negative\",\"negative\",\"negative\",\"negative\",\"PF03945_Endotoxin_N_full_length_sequences.fasta\",\"PF11393_T4BSS_dotI_icml_full_length_sequences.fasta\",\"PF11393_T4BSS_dotI_icml_full_length_sequences.fasta\",\"PF06109_hlye_full_length_sequences.fasta\",\"negative\",\"negative\",\"PF01338_Bac_thur_toxin_full_length_sequences.fasta\",\"negative\",\"negative\",\"PF00555_Endotoxin_M_uniprot.fasta\",\"negative\",\"negative\",\"negative\",\"negative\",\"negative\",\"PF18063_BB_PF_full_length_sequences.fasta\",\"negative\",\"PF01024_colicin_full_length_sequences.fasta\",\"PF00087_toxin_tolip_full_length_sequences.fasta\",\"negative\",\"negative\",\"negative\",\"negative\",\"negative\",\"negative\",\"negative\",\"negative\",\"negative\",\"negative\",\"negative\",\"PF06355_aegerolysin_full_length_sequences.fasta\",\"PF01289_thiol_cytolysin_full_length_sequences.fasta\",\"negative\",\"negative\",\"negative\",\"negative\",\"PF01338_Bac_thur_toxin_full_length_sequences.fasta\",\"negative\",\"negative\",\"PF06369_anemone_cytotox_full_length_sequences.fasta\",\"PF06369_anemone_cytotox_full_length_sequences.fasta\",\"PF06369_anemone_cytotox_full_length_sequences.fasta\",\"PF12920_tcda_tcdb_pore_full_length_sequences.fasta\",\"negative\",\"PF17475_binary_toxb_2_full_length_sequences.fasta\",\"negative\",\"PF12261_t_hemolysin_full_length_sequences.fasta\",\"PF06355_aegerolysin_full_length_sequences.fasta\",\"negative\",\"PF12261_t_hemolysin_full_length_sequences.fasta\",\"PF03318_etx_mtx2_full_length_sequences.fasta\",\"PF11393_T4BSS_dotI_icml_full_length_sequences.fasta\",\"negative\",\"negative\",\"PF00087_toxin_tolip_full_length_sequences.fasta\",\"negative\",\"negative\",\"negative\",\"negative\",\"PF04598_gasdermin_uniprot.fasta\",\"negative\",\"PF11393_T4BSS_dotI_icml_full_length_sequences.fasta\",\"PF01289_thiol_cytolysin_full_length_sequences.fasta\",\"PF06355_aegerolysin_full_length_sequences.fasta\",\"negative\",\"negative\",\"negative\",\"negative\",\"negative\",\"PF07968_leukocidin_full_length_sequences.fasta\",\"PF01289_thiol_cytolysin_full_length_sequences.fasta\",\"negative\",\"PF03945_Endotoxin_N_full_length_sequences.fasta\",\"PF07367_fb_lectin_full_length_sequences.fasta\",\"PF01823_macpf_uniprot.fasta\",\"PF06355_aegerolysin_full_length_sequences.fasta\",\"negative\",\"negative\",\"PF12261_t_hemolysin_full_length_sequences.fasta\",\"PF11393_T4BSS_dotI_icml_full_length_sequences.fasta\",\"negative\",\"PF06369_anemone_cytotox_full_length_sequences.fasta\",\"negative\",\"negative\",\"negative\",\"negative\",\"negative\",\"PF00087_toxin_tolip_full_length_sequences.fasta\",\"negative\",\"PF12261_t_hemolysin_full_length_sequences.fasta\",\"PF12261_t_hemolysin_full_length_sequences.fasta\",\"negative\",\"PF06355_aegerolysin_full_length_sequences.fasta\",\"negative\",\"PF03318_etx_mtx2_full_length_sequences.fasta\",\"negative\",\"negative\",\"PF06355_aegerolysin_full_length_sequences.fasta\",\"negative\",\"negative\",\"negative\",\"negative\",\"PF12261_t_hemolysin_full_length_sequences.fasta\",\"negative\",\"PF07367_fb_lectin_full_length_sequences.fasta\",\"negative\",\"PF00087_toxin_tolip_full_length_sequences.fasta\",\"negative\",\"PF01289_thiol_cytolysin_full_length_sequences.fasta\",\"negative\",\"negative\",\"negative\",\"PF01289_thiol_cytolysin_full_length_sequences.fasta\",\"PF06355_aegerolysin_full_length_sequences.fasta\",\"PF01289_thiol_cytolysin_full_length_sequences.fasta\",\"PF03945_Endotoxin_N_full_length_sequences.fasta\",\"negative\",\"negative\",\"negative\",\"PF01289_thiol_cytolysin_full_length_sequences.fasta\",\"PF11393_T4BSS_dotI_icml_full_length_sequences.fasta\",\"negative\",\"negative\",\"PF03318_etx_mtx2_full_length_sequences.fasta\",\"negative\",\"PF03318_etx_mtx2_full_length_sequences.fasta\",\"PF11393_T4BSS_dotI_icml_full_length_sequences.fasta\",\"PF06369_anemone_cytotox_full_length_sequences.fasta\",\"negative\",\"PF06109_hlye_full_length_sequences.fasta\",\"PF00087_toxin_tolip_full_length_sequences.fasta\",\"negative\",\"negative\",\"PF04877_harpin_full_length_sequences.fasta\",\"negative\",\"negative\",\"negative\",\"PF01289_thiol_cytolysin_full_length_sequences.fasta\",\"negative\",\"PF03318_etx_mtx2_full_length_sequences.fasta\",\"negative\",\"negative\",\"PF12261_t_hemolysin_full_length_sequences.fasta\",\"PF06355_aegerolysin_full_length_sequences.fasta\",\"negative\",\"PF06369_anemone_cytotox_full_length_sequences.fasta\",\"PF03318_etx_mtx2_full_length_sequences.fasta\",\"PF06369_anemone_cytotox_full_length_sequences.fasta\",\"negative\",\"negative\",\"PF07968_leukocidin_full_length_sequences.fasta\",\"negative\",\"PF01289_thiol_cytolysin_full_length_sequences.fasta\",\"PF01823_macpf_uniprot.fasta\",\"PF03318_etx_mtx2_full_length_sequences.fasta\",\"negative\",\"negative\",\"PF12261_t_hemolysin_full_length_sequences.fasta\",\"negative\",\"negative\",\"negative\",\"PF11393_T4BSS_dotI_icml_full_length_sequences.fasta\",\"PF07968_leukocidin_full_length_sequences.fasta\",\"PF03318_etx_mtx2_full_length_sequences.fasta\",\"negative\",\"negative\",\"negative\",\"negative\",\"negative\",\"negative\",\"negative\",\"negative\",\"PF01289_thiol_cytolysin_full_length_sequences.fasta\",\"negative\",\"negative\",\"negative\",\"PF03945_Endotoxin_N_full_length_sequences.fasta\",\"negative\",\"negative\",\"negative\",\"negative\",\"negative\",\"negative\",\"negative\",\"negative\",\"negative\",\"negative\",\"negative\",\"negative\",\"PF11393_T4BSS_dotI_icml_full_length_sequences.fasta\",\"PF12261_t_hemolysin_full_length_sequences.fasta\",\"PF01117_aerolysin_full_length_sequences.fasta\",\"negative\",\"negative\",\"negative\",\"negative\",\"PF00555_Endotoxin_M_uniprot.fasta\",\"PF03945_Endotoxin_N_full_length_sequences.fasta\",\"PF03318_etx_mtx2_full_length_sequences.fasta\",\"negative\",\"negative\",\"negative\",\"negative\",\"negative\",\"PF01823_macpf_uniprot.fasta\",\"negative\",\"PF18063_BB_PF_full_length_sequences.fasta\",\"PF12261_t_hemolysin_full_length_sequences.fasta\",\"PF01289_thiol_cytolysin_full_length_sequences.fasta\",\"negative\",\"PF12261_t_hemolysin_full_length_sequences.fasta\",\"negative\",\"PF06109_hlye_full_length_sequences.fasta\",\"negative\",\"negative\",\"negative\",\"negative\",\"negative\",\"negative\",\"PF03945_Endotoxin_N_full_length_sequences.fasta\",\"negative\",\"PF12261_t_hemolysin_full_length_sequences.fasta\",\"negative\",\"negative\",\"negative\",\"negative\",\"PF01338_Bac_thur_toxin_full_length_sequences.fasta\",\"negative\",\"negative\",\"negative\",\"PF04598_gasdermin_uniprot.fasta\",\"negative\",\"negative\",\"negative\",\"PF06355_aegerolysin_full_length_sequences.fasta\",\"negative\",\"negative\",\"PF00087_toxin_tolip_full_length_sequences.fasta\",\"negative\",\"negative\",\"negative\",\"PF06369_anemone_cytotox_full_length_sequences.fasta\",\"negative\",\"PF01117_aerolysin_full_length_sequences.fasta\",\"PF03318_etx_mtx2_full_length_sequences.fasta\",\"negative\",\"PF06369_anemone_cytotox_full_length_sequences.fasta\",\"PF12261_t_hemolysin_full_length_sequences.fasta\",\"PF06369_anemone_cytotox_full_length_sequences.fasta\",\"PF01117_aerolysin_full_length_sequences.fasta\",\"PF06369_anemone_cytotox_full_length_sequences.fasta\",\"PF06369_anemone_cytotox_full_length_sequences.fasta\",\"PF01289_thiol_cytolysin_full_length_sequences.fasta\",\"negative\",\"negative\",\"negative\",\"negative\",\"PF01823_macpf_uniprot.fasta\",\"PF12261_t_hemolysin_full_length_sequences.fasta\",\"PF01289_thiol_cytolysin_full_length_sequences.fasta\",\"negative\",\"PF03318_etx_mtx2_full_length_sequences.fasta\",\"PF03318_etx_mtx2_full_length_sequences.fasta\",\"negative\",\"PF07968_leukocidin_full_length_sequences.fasta\",\"negative\",\"PF03945_Endotoxin_N_full_length_sequences.fasta\",\"PF03318_etx_mtx2_full_length_sequences.fasta\",\"negative\",\"negative\",\"PF01117_aerolysin_full_length_sequences.fasta\",\"PF01117_aerolysin_full_length_sequences.fasta\",\"PF01289_thiol_cytolysin_full_length_sequences.fasta\",\"PF00087_toxin_tolip_full_length_sequences.fasta\",\"PF07367_fb_lectin_full_length_sequences.fasta\",\"negative\",\"PF03318_etx_mtx2_full_length_sequences.fasta\",\"PF05802_espb_full_length_sequences.fasta\",\"negative\",\"negative\",\"negative\",\"PF11565_porb_full_length_sequences.fasta\",\"PF06369_anemone_cytotox_full_length_sequences.fasta\",\"negative\",\"negative\",\"negative\",\"negative\",\"negative\",\"negative\",\"PF12261_t_hemolysin_full_length_sequences.fasta\",\"PF06109_hlye_full_length_sequences.fasta\",\"negative\",\"negative\",\"negative\",\"negative\",\"PF03318_etx_mtx2_full_length_sequences.fasta\",\"negative\",\"negative\",\"PF06369_anemone_cytotox_full_length_sequences.fasta\",\"PF03318_etx_mtx2_full_length_sequences.fasta\",\"negative\",\"PF12261_t_hemolysin_full_length_sequences.fasta\",\"PF11393_T4BSS_dotI_icml_full_length_sequences.fasta\",\"negative\",\"negative\",\"negative\",\"negative\",\"negative\",\"negative\",\"PF01117_aerolysin_full_length_sequences.fasta\",\"PF12261_t_hemolysin_full_length_sequences.fasta\",\"PF03945_Endotoxin_N_full_length_sequences.fasta\",\"PF01289_thiol_cytolysin_full_length_sequences.fasta\",\"negative\",\"PF03318_etx_mtx2_full_length_sequences.fasta\",\"negative\",\"pf05105_phage_holin_4_1_uniprot.fasta\",\"PF06369_anemone_cytotox_full_length_sequences.fasta\",\"negative\",\"PF03318_etx_mtx2_full_length_sequences.fasta\",\"negative\",\"PF12261_t_hemolysin_full_length_sequences.fasta\",\"negative\",\"negative\",\"PF01117_aerolysin_full_length_sequences.fasta\",\"negative\",\"negative\",\"PF07367_fb_lectin_full_length_sequences.fasta\",\"negative\",\"negative\",\"PF04877_harpin_full_length_sequences.fasta\",\"negative\",\"negative\",\"PF01289_thiol_cytolysin_full_length_sequences.fasta\",\"negative\",\"negative\",\"PF01289_thiol_cytolysin_full_length_sequences.fasta\",\"negative\",\"PF07367_fb_lectin_full_length_sequences.fasta\",\"negative\",\"PF06355_aegerolysin_full_length_sequences.fasta\",\"negative\",\"negative\",\"PF00555_Endotoxin_M_uniprot.fasta\",\"PF01289_thiol_cytolysin_full_length_sequences.fasta\",\"negative\",\"negative\",\"negative\",\"PF03318_etx_mtx2_full_length_sequences.fasta\",\"negative\",\"negative\",\"negative\",\"negative\",\"PF01117_aerolysin_full_length_sequences.fasta\",\"negative\",\"PF12261_t_hemolysin_full_length_sequences.fasta\",\"PF00087_toxin_tolip_full_length_sequences.fasta\",\"PF01024_colicin_full_length_sequences.fasta\",\"PF01024_colicin_full_length_sequences.fasta\",\"negative\",\"PF01117_aerolysin_full_length_sequences.fasta\",\"negative\",\"PF01117_aerolysin_full_length_sequences.fasta\",\"negative\",\"negative\",\"negative\",\"PF03318_etx_mtx2_full_length_sequences.fasta\",\"PF00087_toxin_tolip_full_length_sequences.fasta\",\"negative\",\"PF06369_anemone_cytotox_full_length_sequences.fasta\",\"PF12261_t_hemolysin_full_length_sequences.fasta\",\"pf05105_phage_holin_4_1_uniprot.fasta\",\"negative\",\"negative\",\"PF12261_t_hemolysin_full_length_sequences.fasta\",\"negative\",\"negative\",\"PF07367_fb_lectin_full_length_sequences.fasta\",\"negative\",\"negative\",\"PF12261_t_hemolysin_full_length_sequences.fasta\",\"negative\",\"negative\",\"negative\",\"PF01289_thiol_cytolysin_full_length_sequences.fasta\",\"PF03318_etx_mtx2_full_length_sequences.fasta\",\"negative\",\"negative\",\"negative\",\"PF00087_toxin_tolip_full_length_sequences.fasta\",\"negative\",\"negative\",\"PF06355_aegerolysin_full_length_sequences.fasta\",\"negative\",\"PF01117_aerolysin_full_length_sequences.fasta\",\"negative\",\"negative\",\"negative\",\"negative\",\"negative\",\"negative\",\"negative\",\"PF12920_tcda_tcdb_pore_full_length_sequences.fasta\",\"PF06369_anemone_cytotox_full_length_sequences.fasta\",\"negative\",\"negative\",\"PF01289_thiol_cytolysin_full_length_sequences.fasta\",\"negative\",\"negative\",\"PF17475_binary_toxb_2_full_length_sequences.fasta\",\"negative\",\"PF03318_etx_mtx2_full_length_sequences.fasta\",\"negative\",\"negative\",\"negative\",\"negative\",\"negative\",\"PF01117_aerolysin_full_length_sequences.fasta\",\"negative\",\"negative\",\"negative\",\"negative\",\"PF01289_thiol_cytolysin_full_length_sequences.fasta\",\"negative\",\"PF06369_anemone_cytotox_full_length_sequences.fasta\",\"negative\",\"negative\",\"PF01117_aerolysin_full_length_sequences.fasta\",\"negative\",\"negative\",\"PF12261_t_hemolysin_full_length_sequences.fasta\",\"PF18684_plyb_c_full_length_sequences.fasta\",\"negative\",\"PF06355_aegerolysin_full_length_sequences.fasta\",\"PF12261_t_hemolysin_full_length_sequences.fasta\",\"negative\",\"PF03318_etx_mtx2_full_length_sequences.fasta\",\"PF01338_Bac_thur_toxin_full_length_sequences.fasta\",\"negative\",\"negative\",\"negative\",\"PF06369_anemone_cytotox_full_length_sequences.fasta\",\"negative\",\"negative\",\"PF00087_toxin_tolip_full_length_sequences.fasta\",\"PF01117_aerolysin_full_length_sequences.fasta\",\"negative\",\"negative\",\"negative\",\"PF06355_aegerolysin_full_length_sequences.fasta\",\"negative\",\"negative\",\"PF06109_hlye_full_length_sequences.fasta\",\"negative\",\"PF01117_aerolysin_full_length_sequences.fasta\",\"negative\",\"negative\",\"PF00087_toxin_tolip_full_length_sequences.fasta\",\"negative\",\"negative\",\"negative\",\"PF00087_toxin_tolip_full_length_sequences.fasta\",\"negative\",\"negative\",\"PF18684_plyb_c_full_length_sequences.fasta\",\"PF07367_fb_lectin_full_length_sequences.fasta\",\"negative\",\"negative\",\"PF00087_toxin_tolip_full_length_sequences.fasta\",\"negative\",\"negative\",\"negative\",\"negative\",\"PF06369_anemone_cytotox_full_length_sequences.fasta\",\"negative\",\"PF01289_thiol_cytolysin_full_length_sequences.fasta\",\"negative\",\"negative\",\"negative\",\"negative\",\"negative\",\"PF00555_Endotoxin_M_uniprot.fasta\",\"PF06109_hlye_full_length_sequences.fasta\",\"negative\",\"negative\",\"negative\",\"negative\",\"PF03505_clenterotox_full_length_sequences.fasta\",\"negative\",\"PF11565_porb_full_length_sequences.fasta\",\"PF01823_macpf_uniprot.fasta\",\"PF12261_t_hemolysin_full_length_sequences.fasta\",\"PF06355_aegerolysin_full_length_sequences.fasta\",\"PF01823_macpf_uniprot.fasta\",\"negative\",\"negative\",\"negative\",\"PF03318_etx_mtx2_full_length_sequences.fasta\",\"negative\",\"negative\",\"PF12261_t_hemolysin_full_length_sequences.fasta\",\"negative\",\"negative\",\"negative\",\"negative\",\"negative\",\"negative\",\"PF06369_anemone_cytotox_full_length_sequences.fasta\",\"PF01117_aerolysin_full_length_sequences.fasta\",\"PF03318_etx_mtx2_full_length_sequences.fasta\",\"negative\",\"PF06369_anemone_cytotox_full_length_sequences.fasta\",\"negative\",\"PF11393_T4BSS_dotI_icml_full_length_sequences.fasta\",\"negative\",\"PF12261_t_hemolysin_full_length_sequences.fasta\",\"negative\",\"PF06369_anemone_cytotox_full_length_sequences.fasta\",\"PF03318_etx_mtx2_full_length_sequences.fasta\",\"negative\",\"negative\",\"negative\",\"PF01289_thiol_cytolysin_full_length_sequences.fasta\",\"PF00087_toxin_tolip_full_length_sequences.fasta\",\"PF06369_anemone_cytotox_full_length_sequences.fasta\",\"PF03945_Endotoxin_N_full_length_sequences.fasta\",\"negative\",\"negative\",\"negative\",\"negative\",\"negative\",\"PF06355_aegerolysin_full_length_sequences.fasta\",\"negative\",\"PF03318_etx_mtx2_full_length_sequences.fasta\",\"negative\",\"PF12261_t_hemolysin_full_length_sequences.fasta\",\"negative\",\"negative\",\"PF07367_fb_lectin_full_length_sequences.fasta\",\"negative\",\"PF01117_aerolysin_full_length_sequences.fasta\",\"negative\",\"negative\",\"negative\",\"negative\",\"negative\",\"negative\",\"negative\",\"negative\",\"PF06369_anemone_cytotox_full_length_sequences.fasta\",\"negative\",\"negative\",\"PF00087_toxin_tolip_full_length_sequences.fasta\",\"PF11393_T4BSS_dotI_icml_full_length_sequences.fasta\",\"PF07968_leukocidin_full_length_sequences.fasta\",\"negative\",\"PF03318_etx_mtx2_full_length_sequences.fasta\",\"negative\",\"PF01289_thiol_cytolysin_full_length_sequences.fasta\",\"negative\",\"negative\",\"negative\",\"PF11565_porb_full_length_sequences.fasta\",\"PF06369_anemone_cytotox_full_length_sequences.fasta\",\"negative\",\"negative\",\"negative\",\"negative\",\"negative\",\"negative\",\"PF01289_thiol_cytolysin_full_length_sequences.fasta\",\"negative\",\"PF01338_Bac_thur_toxin_full_length_sequences.fasta\",\"negative\",\"negative\",\"PF03318_etx_mtx2_full_length_sequences.fasta\",\"negative\",\"negative\",\"PF11393_T4BSS_dotI_icml_full_length_sequences.fasta\",\"negative\",\"PF00555_Endotoxin_M_uniprot.fasta\",\"PF07367_fb_lectin_full_length_sequences.fasta\",\"PF01823_macpf_uniprot.fasta\",\"negative\",\"negative\",\"PF07968_leukocidin_full_length_sequences.fasta\",\"negative\",\"PF06355_aegerolysin_full_length_sequences.fasta\",\"PF03318_etx_mtx2_full_length_sequences.fasta\",\"negative\",\"PF06369_anemone_cytotox_full_length_sequences.fasta\",\"negative\",\"PF03318_etx_mtx2_full_length_sequences.fasta\",\"negative\",\"negative\",\"negative\",\"negative\",\"negative\",\"PF06369_anemone_cytotox_full_length_sequences.fasta\",\"PF01289_thiol_cytolysin_full_length_sequences.fasta\",\"PF04877_harpin_full_length_sequences.fasta\",\"PF01289_thiol_cytolysin_full_length_sequences.fasta\",\"negative\",\"negative\",\"negative\",\"pf05105_phage_holin_4_1_uniprot.fasta\",\"negative\",\"negative\",\"PF12261_t_hemolysin_full_length_sequences.fasta\",\"PF12261_t_hemolysin_full_length_sequences.fasta\",\"negative\",\"PF11393_T4BSS_dotI_icml_full_length_sequences.fasta\",\"negative\",\"negative\",\"negative\",\"negative\",\"negative\",\"negative\",\"negative\",\"PF12261_t_hemolysin_full_length_sequences.fasta\",\"PF03945_Endotoxin_N_full_length_sequences.fasta\",\"negative\",\"negative\",\"negative\",\"negative\",\"negative\",\"PF01289_thiol_cytolysin_full_length_sequences.fasta\",\"PF06369_anemone_cytotox_full_length_sequences.fasta\",\"negative\",\"PF00087_toxin_tolip_full_length_sequences.fasta\",\"negative\",\"PF01117_aerolysin_full_length_sequences.fasta\",\"negative\",\"negative\",\"negative\",\"negative\",\"PF03318_etx_mtx2_full_length_sequences.fasta\",\"negative\",\"negative\",\"negative\",\"PF02382_rtx_full_length_sequences.fasta\",\"negative\",\"PF12261_t_hemolysin_full_length_sequences.fasta\",\"PF06355_aegerolysin_full_length_sequences.fasta\",\"PF01024_colicin_full_length_sequences.fasta\",\"PF07367_fb_lectin_full_length_sequences.fasta\",\"negative\",\"negative\",\"negative\",\"negative\",\"negative\",\"negative\",\"negative\",\"PF06355_aegerolysin_full_length_sequences.fasta\",\"PF00555_Endotoxin_M_uniprot.fasta\",\"PF12261_t_hemolysin_full_length_sequences.fasta\",\"PF12261_t_hemolysin_full_length_sequences.fasta\",\"PF01289_thiol_cytolysin_full_length_sequences.fasta\",\"negative\",\"negative\",\"PF01024_colicin_full_length_sequences.fasta\",\"PF06355_aegerolysin_full_length_sequences.fasta\",\"PF06369_anemone_cytotox_full_length_sequences.fasta\",\"PF01024_colicin_full_length_sequences.fasta\",\"negative\",\"negative\",\"negative\",\"PF11393_T4BSS_dotI_icml_full_length_sequences.fasta\",\"negative\",\"negative\",\"negative\",\"PF01289_thiol_cytolysin_full_length_sequences.fasta\",\"negative\",\"negative\",\"negative\",\"PF01117_aerolysin_full_length_sequences.fasta\",\"negative\",\"negative\",\"negative\",\"negative\",\"negative\",\"PF11393_T4BSS_dotI_icml_full_length_sequences.fasta\",\"PF03318_etx_mtx2_full_length_sequences.fasta\",\"PF03318_etx_mtx2_full_length_sequences.fasta\",\"PF03318_etx_mtx2_full_length_sequences.fasta\",\"PF06355_aegerolysin_full_length_sequences.fasta\",\"negative\",\"negative\",\"negative\",\"PF06369_anemone_cytotox_full_length_sequences.fasta\",\"negative\",\"PF01338_Bac_thur_toxin_full_length_sequences.fasta\",\"negative\",\"negative\",\"PF12261_t_hemolysin_full_length_sequences.fasta\",\"PF03318_etx_mtx2_full_length_sequences.fasta\",\"negative\",\"negative\",\"negative\",\"PF12261_t_hemolysin_full_length_sequences.fasta\",\"PF03945_Endotoxin_N_full_length_sequences.fasta\",\"PF01117_aerolysin_full_length_sequences.fasta\",\"negative\",\"PF11393_T4BSS_dotI_icml_full_length_sequences.fasta\",\"negative\",\"negative\",\"negative\",\"PF00087_toxin_tolip_full_length_sequences.fasta\",\"negative\",\"negative\",\"negative\",\"negative\",\"negative\",\"negative\",\"negative\",\"PF12261_t_hemolysin_full_length_sequences.fasta\",\"negative\",\"PF06369_anemone_cytotox_full_length_sequences.fasta\",\"PF06355_aegerolysin_full_length_sequences.fasta\",\"negative\",\"negative\",\"PF06369_anemone_cytotox_full_length_sequences.fasta\",\"PF01289_thiol_cytolysin_full_length_sequences.fasta\",\"negative\",\"negative\",\"PF01117_aerolysin_full_length_sequences.fasta\",\"negative\",\"negative\",\"negative\",\"negative\",\"PF12261_t_hemolysin_full_length_sequences.fasta\",\"PF06369_anemone_cytotox_full_length_sequences.fasta\",\"PF07367_fb_lectin_full_length_sequences.fasta\",\"negative\",\"negative\",\"PF07968_leukocidin_full_length_sequences.fasta\",\"negative\",\"negative\",\"PF18063_BB_PF_full_length_sequences.fasta\",\"negative\",\"negative\",\"negative\",\"PF01289_thiol_cytolysin_full_length_sequences.fasta\",\"PF03318_etx_mtx2_full_length_sequences.fasta\",\"negative\",\"negative\",\"PF00087_toxin_tolip_full_length_sequences.fasta\",\"negative\",\"PF12261_t_hemolysin_full_length_sequences.fasta\",\"PF01823_macpf_uniprot.fasta\",\"negative\",\"negative\",\"PF06355_aegerolysin_full_length_sequences.fasta\",\"negative\",\"negative\",\"negative\",\"negative\",\"negative\",\"negative\",\"negative\",\"PF03318_etx_mtx2_full_length_sequences.fasta\",\"negative\",\"PF07367_fb_lectin_full_length_sequences.fasta\",\"PF11393_T4BSS_dotI_icml_full_length_sequences.fasta\",\"PF06109_hlye_full_length_sequences.fasta\",\"PF11393_T4BSS_dotI_icml_full_length_sequences.fasta\",\"PF03318_etx_mtx2_full_length_sequences.fasta\",\"negative\",\"negative\",\"negative\",\"negative\",\"PF03945_Endotoxin_N_full_length_sequences.fasta\",\"PF03945_Endotoxin_N_full_length_sequences.fasta\",\"PF03945_Endotoxin_N_full_length_sequences.fasta\",\"PF06355_aegerolysin_full_length_sequences.fasta\",\"negative\",\"negative\",\"PF06369_anemone_cytotox_full_length_sequences.fasta\",\"negative\",\"negative\",\"PF06355_aegerolysin_full_length_sequences.fasta\",\"negative\",\"negative\",\"negative\",\"negative\",\"PF03318_etx_mtx2_full_length_sequences.fasta\",\"negative\",\"negative\",\"PF03318_etx_mtx2_full_length_sequences.fasta\",\"PF01289_thiol_cytolysin_full_length_sequences.fasta\",\"negative\",\"negative\",\"PF06369_anemone_cytotox_full_length_sequences.fasta\",\"negative\",\"negative\",\"negative\",\"PF03945_Endotoxin_N_full_length_sequences.fasta\",\"negative\",\"negative\",\"PF03318_etx_mtx2_full_length_sequences.fasta\",\"negative\",\"PF06355_aegerolysin_full_length_sequences.fasta\",\"PF12261_t_hemolysin_full_length_sequences.fasta\",\"PF06369_anemone_cytotox_full_length_sequences.fasta\",\"negative\",\"PF03318_etx_mtx2_full_length_sequences.fasta\",\"negative\",\"negative\",\"negative\",\"negative\",\"PF18063_BB_PF_full_length_sequences.fasta\",\"negative\",\"negative\",\"negative\",\"PF03318_etx_mtx2_full_length_sequences.fasta\",\"negative\",\"negative\",\"PF02382_rtx_full_length_sequences.fasta\",\"PF01289_thiol_cytolysin_full_length_sequences.fasta\",\"negative\",\"negative\",\"PF03318_etx_mtx2_full_length_sequences.fasta\",\"PF07968_leukocidin_full_length_sequences.fasta\",\"negative\",\"negative\",\"negative\",\"negative\",\"negative\",\"PF12261_t_hemolysin_full_length_sequences.fasta\",\"PF07367_fb_lectin_full_length_sequences.fasta\",\"negative\",\"PF11393_T4BSS_dotI_icml_full_length_sequences.fasta\",\"negative\",\"negative\",\"negative\",\"PF12261_t_hemolysin_full_length_sequences.fasta\",\"PF01338_Bac_thur_toxin_full_length_sequences.fasta\",\"negative\",\"PF12261_t_hemolysin_full_length_sequences.fasta\",\"PF05802_espb_full_length_sequences.fasta\",\"negative\",\"PF00087_toxin_tolip_full_length_sequences.fasta\",\"PF01289_thiol_cytolysin_full_length_sequences.fasta\",\"PF01289_thiol_cytolysin_full_length_sequences.fasta\",\"negative\",\"negative\",\"negative\",\"negative\",\"PF18063_BB_PF_full_length_sequences.fasta\",\"PF03318_etx_mtx2_full_length_sequences.fasta\",\"negative\",\"PF18063_BB_PF_full_length_sequences.fasta\",\"PF03318_etx_mtx2_full_length_sequences.fasta\",\"PF18684_plyb_c_full_length_sequences.fasta\",\"negative\",\"negative\",\"negative\",\"PF01823_macpf_uniprot.fasta\",\"negative\",\"PF03318_etx_mtx2_full_length_sequences.fasta\",\"negative\",\"PF12261_t_hemolysin_full_length_sequences.fasta\",\"negative\",\"negative\",\"negative\",\"negative\",\"PF18063_BB_PF_full_length_sequences.fasta\",\"negative\",\"PF01289_thiol_cytolysin_full_length_sequences.fasta\",\"negative\",\"PF04598_gasdermin_uniprot.fasta\",\"negative\",\"negative\",\"negative\",\"PF03318_etx_mtx2_full_length_sequences.fasta\",\"negative\",\"negative\",\"negative\",\"PF00087_toxin_tolip_full_length_sequences.fasta\",\"PF06355_aegerolysin_full_length_sequences.fasta\",\"negative\",\"PF12261_t_hemolysin_full_length_sequences.fasta\",\"PF12261_t_hemolysin_full_length_sequences.fasta\",\"PF11393_T4BSS_dotI_icml_full_length_sequences.fasta\",\"PF01024_colicin_full_length_sequences.fasta\",\"PF11393_T4BSS_dotI_icml_full_length_sequences.fasta\",\"PF06369_anemone_cytotox_full_length_sequences.fasta\",\"negative\",\"PF03318_etx_mtx2_full_length_sequences.fasta\",\"PF01289_thiol_cytolysin_full_length_sequences.fasta\",\"negative\",\"negative\",\"negative\",\"negative\",\"negative\",\"negative\",\"negative\",\"PF06355_aegerolysin_full_length_sequences.fasta\",\"negative\",\"negative\",\"PF01289_thiol_cytolysin_full_length_sequences.fasta\",\"negative\",\"negative\",\"negative\",\"negative\",\"negative\",\"negative\",\"PF18063_BB_PF_full_length_sequences.fasta\",\"PF03318_etx_mtx2_full_length_sequences.fasta\",\"negative\",\"negative\",\"negative\",\"negative\",\"negative\",\"negative\",\"PF01117_aerolysin_full_length_sequences.fasta\",\"PF03318_etx_mtx2_full_length_sequences.fasta\",\"PF12261_t_hemolysin_full_length_sequences.fasta\",\"negative\",\"negative\",\"PF03945_Endotoxin_N_full_length_sequences.fasta\",\"negative\",\"PF03945_Endotoxin_N_full_length_sequences.fasta\",\"negative\",\"PF01024_colicin_full_length_sequences.fasta\",\"negative\",\"PF06355_aegerolysin_full_length_sequences.fasta\",\"negative\",\"negative\",\"negative\",\"negative\",\"negative\",\"negative\",\"PF07367_fb_lectin_full_length_sequences.fasta\",\"PF12261_t_hemolysin_full_length_sequences.fasta\",\"negative\",\"negative\",\"negative\",\"negative\",\"negative\",\"PF06355_aegerolysin_full_length_sequences.fasta\",\"PF12261_t_hemolysin_full_length_sequences.fasta\",\"PF18063_BB_PF_full_length_sequences.fasta\",\"PF12261_t_hemolysin_full_length_sequences.fasta\",\"negative\",\"negative\",\"PF03318_etx_mtx2_full_length_sequences.fasta\",\"negative\",\"negative\",\"negative\",\"negative\",\"PF06355_aegerolysin_full_length_sequences.fasta\",\"negative\",\"negative\",\"negative\",\"negative\",\"negative\",\"PF00555_Endotoxin_M_uniprot.fasta\",\"negative\",\"negative\",\"PF06369_anemone_cytotox_full_length_sequences.fasta\",\"negative\",\"negative\",\"negative\",\"negative\",\"PF00087_toxin_tolip_full_length_sequences.fasta\",\"PF18684_plyb_c_full_length_sequences.fasta\",\"PF01823_macpf_uniprot.fasta\",\"PF06355_aegerolysin_full_length_sequences.fasta\",\"negative\",\"PF01289_thiol_cytolysin_full_length_sequences.fasta\",\"negative\",\"negative\",\"negative\",\"negative\",\"negative\",\"PF07367_fb_lectin_full_length_sequences.fasta\",\"negative\",\"negative\",\"negative\",\"PF03945_Endotoxin_N_full_length_sequences.fasta\",\"negative\",\"negative\",\"negative\",\"negative\",\"PF01338_Bac_thur_toxin_full_length_sequences.fasta\",\"negative\",\"negative\",\"PF01289_thiol_cytolysin_full_length_sequences.fasta\",\"PF07367_fb_lectin_full_length_sequences.fasta\",\"negative\",\"PF03318_etx_mtx2_full_length_sequences.fasta\",\"negative\",\"PF04877_harpin_full_length_sequences.fasta\",\"negative\",\"PF04877_harpin_full_length_sequences.fasta\",\"negative\",\"negative\",\"negative\",\"negative\",\"PF12261_t_hemolysin_full_length_sequences.fasta\",\"negative\",\"PF03945_Endotoxin_N_full_length_sequences.fasta\",\"negative\",\"PF00087_toxin_tolip_full_length_sequences.fasta\",\"negative\",\"PF00555_Endotoxin_M_uniprot.fasta\",\"negative\",\"negative\",\"negative\",\"PF03318_etx_mtx2_full_length_sequences.fasta\",\"PF12920_tcda_tcdb_pore_full_length_sequences.fasta\",\"negative\",\"PF03318_etx_mtx2_full_length_sequences.fasta\",\"PF03945_Endotoxin_N_full_length_sequences.fasta\",\"negative\",\"PF01338_Bac_thur_toxin_full_length_sequences.fasta\",\"negative\",\"PF03945_Endotoxin_N_full_length_sequences.fasta\",\"PF11393_T4BSS_dotI_icml_full_length_sequences.fasta\",\"PF12261_t_hemolysin_full_length_sequences.fasta\",\"negative\",\"negative\",\"negative\",\"PF11565_porb_full_length_sequences.fasta\",\"negative\",\"negative\",\"PF01117_aerolysin_full_length_sequences.fasta\",\"PF01289_thiol_cytolysin_full_length_sequences.fasta\",\"PF03945_Endotoxin_N_full_length_sequences.fasta\",\"PF00087_toxin_tolip_full_length_sequences.fasta\",\"negative\",\"PF00087_toxin_tolip_full_length_sequences.fasta\",\"negative\",\"PF06369_anemone_cytotox_full_length_sequences.fasta\",\"PF12261_t_hemolysin_full_length_sequences.fasta\",\"PF01289_thiol_cytolysin_full_length_sequences.fasta\",\"PF01289_thiol_cytolysin_full_length_sequences.fasta\",\"negative\",\"PF01289_thiol_cytolysin_full_length_sequences.fasta\",\"PF03318_etx_mtx2_full_length_sequences.fasta\",\"negative\",\"negative\",\"PF03945_Endotoxin_N_full_length_sequences.fasta\",\"PF00087_toxin_tolip_full_length_sequences.fasta\",\"negative\",\"PF06109_hlye_full_length_sequences.fasta\",\"negative\",\"negative\",\"PF11393_T4BSS_dotI_icml_full_length_sequences.fasta\",\"negative\",\"PF06369_anemone_cytotox_full_length_sequences.fasta\",\"negative\",\"PF01289_thiol_cytolysin_full_length_sequences.fasta\",\"negative\",\"negative\",\"PF06109_hlye_full_length_sequences.fasta\",\"negative\",\"negative\",\"negative\",\"negative\",\"PF01289_thiol_cytolysin_full_length_sequences.fasta\",\"PF01289_thiol_cytolysin_full_length_sequences.fasta\",\"PF07367_fb_lectin_full_length_sequences.fasta\",\"negative\",\"negative\",\"negative\",\"negative\",\"PF07367_fb_lectin_full_length_sequences.fasta\",\"negative\",\"negative\",\"negative\",\"PF06369_anemone_cytotox_full_length_sequences.fasta\",\"negative\",\"negative\",\"negative\",\"PF12261_t_hemolysin_full_length_sequences.fasta\",\"negative\",\"negative\",\"negative\",\"PF00087_toxin_tolip_full_length_sequences.fasta\",\"negative\",\"PF12920_tcda_tcdb_pore_full_length_sequences.fasta\",\"negative\",\"negative\",\"negative\",\"negative\",\"PF01289_thiol_cytolysin_full_length_sequences.fasta\",\"negative\",\"PF07968_leukocidin_full_length_sequences.fasta\",\"negative\",\"negative\",\"negative\",\"negative\",\"negative\",\"negative\",\"negative\",\"negative\",\"negative\",\"negative\",\"negative\",\"PF11393_T4BSS_dotI_icml_full_length_sequences.fasta\",\"PF01289_thiol_cytolysin_full_length_sequences.fasta\",\"negative\",\"negative\",\"negative\",\"negative\",\"negative\",\"PF11393_T4BSS_dotI_icml_full_length_sequences.fasta\",\"PF03944_Endotoxin_C_uniprot.fasta\",\"negative\",\"negative\",\"PF11565_porb_full_length_sequences.fasta\",\"negative\",\"PF11565_porb_full_length_sequences.fasta\",\"negative\",\"negative\",\"negative\",\"PF12261_t_hemolysin_full_length_sequences.fasta\",\"negative\",\"negative\",\"PF03945_Endotoxin_N_full_length_sequences.fasta\",\"PF07367_fb_lectin_full_length_sequences.fasta\",\"negative\",\"PF06109_hlye_full_length_sequences.fasta\",\"PF03318_etx_mtx2_full_length_sequences.fasta\",\"negative\",\"negative\",\"PF11565_porb_full_length_sequences.fasta\",\"PF12261_t_hemolysin_full_length_sequences.fasta\",\"PF03318_etx_mtx2_full_length_sequences.fasta\",\"PF01117_aerolysin_full_length_sequences.fasta\",\"negative\",\"negative\",\"PF07367_fb_lectin_full_length_sequences.fasta\",\"negative\",\"negative\",\"negative\",\"negative\",\"PF06369_anemone_cytotox_full_length_sequences.fasta\",\"negative\",\"negative\",\"PF12261_t_hemolysin_full_length_sequences.fasta\",\"negative\",\"PF05802_espb_full_length_sequences.fasta\",\"negative\",\"PF01117_aerolysin_full_length_sequences.fasta\",\"PF03318_etx_mtx2_full_length_sequences.fasta\",\"negative\",\"PF18063_BB_PF_full_length_sequences.fasta\",\"PF03318_etx_mtx2_full_length_sequences.fasta\",\"negative\",\"negative\",\"negative\",\"negative\",\"negative\",\"negative\",\"negative\",\"negative\",\"negative\",\"PF06355_aegerolysin_full_length_sequences.fasta\",\"negative\",\"PF03945_Endotoxin_N_full_length_sequences.fasta\",\"PF03318_etx_mtx2_full_length_sequences.fasta\",\"PF06109_hlye_full_length_sequences.fasta\",\"negative\",\"negative\",\"negative\",\"negative\",\"negative\",\"PF11393_T4BSS_dotI_icml_full_length_sequences.fasta\",\"negative\",\"PF01117_aerolysin_full_length_sequences.fasta\",\"PF11393_T4BSS_dotI_icml_full_length_sequences.fasta\",\"negative\",\"negative\",\"negative\",\"negative\",\"negative\",\"PF06369_anemone_cytotox_full_length_sequences.fasta\",\"negative\",\"PF01289_thiol_cytolysin_full_length_sequences.fasta\",\"negative\",\"PF01823_macpf_uniprot.fasta\",\"PF03945_Endotoxin_N_full_length_sequences.fasta\",\"PF01289_thiol_cytolysin_full_length_sequences.fasta\",\"negative\",\"PF06369_anemone_cytotox_full_length_sequences.fasta\",\"PF01338_Bac_thur_toxin_full_length_sequences.fasta\",\"negative\",\"PF18063_BB_PF_full_length_sequences.fasta\",\"PF01338_Bac_thur_toxin_full_length_sequences.fasta\",\"negative\",\"PF00555_Endotoxin_M_uniprot.fasta\",\"PF03318_etx_mtx2_full_length_sequences.fasta\",\"negative\",\"PF03318_etx_mtx2_full_length_sequences.fasta\",\"PF12261_t_hemolysin_full_length_sequences.fasta\",\"negative\",\"negative\",\"negative\",\"negative\",\"PF07968_leukocidin_full_length_sequences.fasta\",\"PF00087_toxin_tolip_full_length_sequences.fasta\",\"negative\",\"negative\",\"negative\",\"PF12261_t_hemolysin_full_length_sequences.fasta\",\"negative\",\"PF00087_toxin_tolip_full_length_sequences.fasta\",\"negative\",\"PF01289_thiol_cytolysin_full_length_sequences.fasta\",\"negative\",\"negative\",\"PF03945_Endotoxin_N_full_length_sequences.fasta\",\"negative\",\"PF11393_T4BSS_dotI_icml_full_length_sequences.fasta\",\"PF00087_toxin_tolip_full_length_sequences.fasta\",\"negative\",\"negative\",\"negative\",\"negative\",\"PF06369_anemone_cytotox_full_length_sequences.fasta\",\"PF06109_hlye_full_length_sequences.fasta\",\"negative\",\"negative\",\"PF01117_aerolysin_full_length_sequences.fasta\",\"negative\",\"negative\",\"PF06355_aegerolysin_full_length_sequences.fasta\",\"negative\",\"negative\",\"PF00087_toxin_tolip_full_length_sequences.fasta\",\"negative\",\"PF07367_fb_lectin_full_length_sequences.fasta\",\"negative\",\"negative\",\"PF01289_thiol_cytolysin_full_length_sequences.fasta\",\"PF18684_plyb_c_full_length_sequences.fasta\",\"PF12261_t_hemolysin_full_length_sequences.fasta\",\"PF03318_etx_mtx2_full_length_sequences.fasta\",\"negative\",\"negative\",\"negative\",\"PF07367_fb_lectin_full_length_sequences.fasta\",\"PF03318_etx_mtx2_full_length_sequences.fasta\",\"negative\",\"PF02382_rtx_full_length_sequences.fasta\",\"negative\",\"negative\",\"PF03945_Endotoxin_N_full_length_sequences.fasta\",\"negative\",\"PF12920_tcda_tcdb_pore_full_length_sequences.fasta\",\"negative\",\"PF06369_anemone_cytotox_full_length_sequences.fasta\",\"negative\",\"PF03318_etx_mtx2_full_length_sequences.fasta\",\"PF06355_aegerolysin_full_length_sequences.fasta\",\"PF03945_Endotoxin_N_full_length_sequences.fasta\",\"PF03318_etx_mtx2_full_length_sequences.fasta\",\"negative\",\"negative\",\"negative\",\"negative\",\"PF18063_BB_PF_full_length_sequences.fasta\",\"PF12261_t_hemolysin_full_length_sequences.fasta\",\"negative\",\"PF06355_aegerolysin_full_length_sequences.fasta\",\"PF11393_T4BSS_dotI_icml_full_length_sequences.fasta\",\"PF12261_t_hemolysin_full_length_sequences.fasta\",\"negative\",\"PF00087_toxin_tolip_full_length_sequences.fasta\",\"PF06355_aegerolysin_full_length_sequences.fasta\",\"negative\",\"negative\",\"negative\",\"PF07968_leukocidin_full_length_sequences.fasta\",\"PF03318_etx_mtx2_full_length_sequences.fasta\",\"negative\",\"PF11393_T4BSS_dotI_icml_full_length_sequences.fasta\",\"negative\",\"negative\",\"negative\",\"negative\",\"PF12261_t_hemolysin_full_length_sequences.fasta\",\"negative\",\"PF06355_aegerolysin_full_length_sequences.fasta\",\"negative\",\"PF01289_thiol_cytolysin_full_length_sequences.fasta\",\"negative\",\"negative\",\"negative\",\"PF05802_espb_full_length_sequences.fasta\",\"PF06369_anemone_cytotox_full_length_sequences.fasta\",\"negative\",\"negative\",\"negative\",\"negative\",\"PF03945_Endotoxin_N_full_length_sequences.fasta\",\"PF11393_T4BSS_dotI_icml_full_length_sequences.fasta\",\"negative\",\"negative\",\"negative\",\"negative\",\"negative\",\"negative\",\"negative\",\"negative\",\"negative\",\"PF03318_etx_mtx2_full_length_sequences.fasta\",\"PF06355_aegerolysin_full_length_sequences.fasta\",\"negative\",\"PF12261_t_hemolysin_full_length_sequences.fasta\",\"negative\",\"negative\",\"negative\",\"negative\",\"negative\",\"PF12261_t_hemolysin_full_length_sequences.fasta\",\"negative\",\"negative\",\"PF03945_Endotoxin_N_full_length_sequences.fasta\",\"PF06369_anemone_cytotox_full_length_sequences.fasta\",\"negative\",\"negative\",\"negative\",\"PF00087_toxin_tolip_full_length_sequences.fasta\",\"negative\",\"negative\",\"PF03318_etx_mtx2_full_length_sequences.fasta\",\"PF03318_etx_mtx2_full_length_sequences.fasta\",\"negative\",\"negative\",\"negative\",\"PF03318_etx_mtx2_full_length_sequences.fasta\",\"negative\",\"PF12261_t_hemolysin_full_length_sequences.fasta\",\"negative\",\"negative\",\"PF03945_Endotoxin_N_full_length_sequences.fasta\",\"PF01289_thiol_cytolysin_full_length_sequences.fasta\",\"negative\",\"negative\",\"PF03945_Endotoxin_N_full_length_sequences.fasta\",\"negative\",\"negative\",\"negative\",\"PF00087_toxin_tolip_full_length_sequences.fasta\",\"PF06369_anemone_cytotox_full_length_sequences.fasta\",\"negative\",\"negative\",\"PF04598_gasdermin_uniprot.fasta\",\"negative\",\"negative\",\"negative\",\"negative\",\"negative\",\"PF01117_aerolysin_full_length_sequences.fasta\",\"PF11393_T4BSS_dotI_icml_full_length_sequences.fasta\",\"PF11393_T4BSS_dotI_icml_full_length_sequences.fasta\",\"PF05802_espb_full_length_sequences.fasta\",\"negative\",\"negative\",\"PF03318_etx_mtx2_full_length_sequences.fasta\",\"PF12261_t_hemolysin_full_length_sequences.fasta\",\"negative\",\"negative\",\"negative\",\"PF00087_toxin_tolip_full_length_sequences.fasta\",\"PF12261_t_hemolysin_full_length_sequences.fasta\",\"PF01289_thiol_cytolysin_full_length_sequences.fasta\",\"PF03318_etx_mtx2_full_length_sequences.fasta\",\"PF03945_Endotoxin_N_full_length_sequences.fasta\",\"negative\",\"negative\",\"negative\",\"negative\",\"PF12920_tcda_tcdb_pore_full_length_sequences.fasta\",\"PF06355_aegerolysin_full_length_sequences.fasta\",\"negative\",\"negative\",\"negative\",\"PF03318_etx_mtx2_full_length_sequences.fasta\",\"negative\",\"PF11393_T4BSS_dotI_icml_full_length_sequences.fasta\",\"negative\",\"negative\",\"PF04877_harpin_full_length_sequences.fasta\",\"PF00087_toxin_tolip_full_length_sequences.fasta\",\"PF01289_thiol_cytolysin_full_length_sequences.fasta\",\"PF03318_etx_mtx2_full_length_sequences.fasta\",\"negative\",\"negative\",\"PF11393_T4BSS_dotI_icml_full_length_sequences.fasta\",\"negative\",\"PF06109_hlye_full_length_sequences.fasta\",\"PF00087_toxin_tolip_full_length_sequences.fasta\",\"PF01289_thiol_cytolysin_full_length_sequences.fasta\",\"negative\",\"negative\",\"negative\",\"PF12261_t_hemolysin_full_length_sequences.fasta\",\"negative\",\"PF12261_t_hemolysin_full_length_sequences.fasta\",\"PF06369_anemone_cytotox_full_length_sequences.fasta\",\"PF01117_aerolysin_full_length_sequences.fasta\",\"PF17475_binary_toxb_2_full_length_sequences.fasta\",\"negative\",\"PF12261_t_hemolysin_full_length_sequences.fasta\",\"negative\",\"PF00087_toxin_tolip_full_length_sequences.fasta\",\"PF00087_toxin_tolip_full_length_sequences.fasta\",\"negative\",\"PF03318_etx_mtx2_full_length_sequences.fasta\",\"negative\",\"PF12261_t_hemolysin_full_length_sequences.fasta\",\"negative\",\"negative\",\"negative\",\"negative\",\"PF07968_leukocidin_full_length_sequences.fasta\",\"negative\",\"negative\",\"PF01289_thiol_cytolysin_full_length_sequences.fasta\",\"negative\",\"negative\",\"negative\",\"PF06109_hlye_full_length_sequences.fasta\",\"negative\",\"negative\",\"negative\",\"negative\",\"negative\",\"negative\",\"PF12261_t_hemolysin_full_length_sequences.fasta\",\"negative\",\"PF01289_thiol_cytolysin_full_length_sequences.fasta\",\"PF00087_toxin_tolip_full_length_sequences.fasta\",\"PF01289_thiol_cytolysin_full_length_sequences.fasta\",\"negative\",\"negative\",\"negative\",\"negative\",\"PF07367_fb_lectin_full_length_sequences.fasta\",\"negative\",\"PF12920_tcda_tcdb_pore_full_length_sequences.fasta\",\"negative\",\"negative\",\"negative\",\"PF03318_etx_mtx2_full_length_sequences.fasta\",\"negative\",\"PF12920_tcda_tcdb_pore_full_length_sequences.fasta\",\"PF12261_t_hemolysin_full_length_sequences.fasta\",\"negative\",\"PF12261_t_hemolysin_full_length_sequences.fasta\",\"PF03318_etx_mtx2_full_length_sequences.fasta\",\"negative\",\"negative\",\"PF17475_binary_toxb_2_full_length_sequences.fasta\",\"negative\",\"negative\",\"PF01117_aerolysin_full_length_sequences.fasta\",\"negative\",\"PF04877_harpin_full_length_sequences.fasta\",\"negative\",\"PF06355_aegerolysin_full_length_sequences.fasta\",\"PF12261_t_hemolysin_full_length_sequences.fasta\",\"PF12261_t_hemolysin_full_length_sequences.fasta\",\"PF03945_Endotoxin_N_full_length_sequences.fasta\",\"PF03318_etx_mtx2_full_length_sequences.fasta\",\"PF07367_fb_lectin_full_length_sequences.fasta\",\"PF01289_thiol_cytolysin_full_length_sequences.fasta\",\"negative\",\"PF11393_T4BSS_dotI_icml_full_length_sequences.fasta\",\"negative\",\"negative\",\"PF11393_T4BSS_dotI_icml_full_length_sequences.fasta\",\"negative\",\"PF03318_etx_mtx2_full_length_sequences.fasta\",\"negative\",\"negative\",\"negative\",\"PF01289_thiol_cytolysin_full_length_sequences.fasta\",\"PF11393_T4BSS_dotI_icml_full_length_sequences.fasta\",\"negative\",\"PF00087_toxin_tolip_full_length_sequences.fasta\",\"negative\",\"PF11393_T4BSS_dotI_icml_full_length_sequences.fasta\",\"PF06355_aegerolysin_full_length_sequences.fasta\",\"PF06355_aegerolysin_full_length_sequences.fasta\",\"negative\",\"negative\",\"negative\",\"PF12261_t_hemolysin_full_length_sequences.fasta\",\"PF12261_t_hemolysin_full_length_sequences.fasta\",\"PF03318_etx_mtx2_full_length_sequences.fasta\",\"PF12261_t_hemolysin_full_length_sequences.fasta\",\"PF12261_t_hemolysin_full_length_sequences.fasta\",\"negative\",\"PF03318_etx_mtx2_full_length_sequences.fasta\",\"negative\",\"negative\",\"PF06355_aegerolysin_full_length_sequences.fasta\",\"PF06369_anemone_cytotox_full_length_sequences.fasta\",\"negative\",\"negative\",\"negative\",\"negative\",\"negative\",\"negative\",\"negative\",\"negative\",\"negative\",\"negative\",\"negative\",\"PF11393_T4BSS_dotI_icml_full_length_sequences.fasta\",\"negative\",\"negative\",\"negative\",\"negative\",\"PF12920_tcda_tcdb_pore_full_length_sequences.fasta\",\"negative\",\"negative\",\"negative\",\"PF03318_etx_mtx2_full_length_sequences.fasta\",\"negative\",\"negative\",\"negative\",\"negative\",\"negative\",\"negative\",\"PF03945_Endotoxin_N_full_length_sequences.fasta\",\"negative\",\"PF01289_thiol_cytolysin_full_length_sequences.fasta\",\"negative\",\"negative\",\"negative\",\"negative\",\"PF03318_etx_mtx2_full_length_sequences.fasta\",\"PF06355_aegerolysin_full_length_sequences.fasta\",\"PF01289_thiol_cytolysin_full_length_sequences.fasta\",\"negative\",\"negative\",\"negative\",\"negative\",\"PF01024_colicin_full_length_sequences.fasta\",\"negative\",\"PF00087_toxin_tolip_full_length_sequences.fasta\",\"negative\",\"PF03318_etx_mtx2_full_length_sequences.fasta\",\"negative\",\"negative\",\"PF07367_fb_lectin_full_length_sequences.fasta\",\"PF03318_etx_mtx2_full_length_sequences.fasta\",\"PF07367_fb_lectin_full_length_sequences.fasta\",\"PF12261_t_hemolysin_full_length_sequences.fasta\",\"negative\",\"negative\",\"negative\",\"negative\",\"negative\",\"PF00087_toxin_tolip_full_length_sequences.fasta\",\"PF01289_thiol_cytolysin_full_length_sequences.fasta\",\"negative\",\"negative\",\"PF01338_Bac_thur_toxin_full_length_sequences.fasta\",\"negative\",\"negative\",\"negative\",\"negative\",\"negative\",\"negative\",\"negative\",\"negative\",\"negative\",\"negative\",\"PF03318_etx_mtx2_full_length_sequences.fasta\",\"negative\",\"negative\",\"negative\",\"negative\",\"PF12261_t_hemolysin_full_length_sequences.fasta\",\"negative\",\"PF11393_T4BSS_dotI_icml_full_length_sequences.fasta\",\"negative\",\"PF07367_fb_lectin_full_length_sequences.fasta\",\"negative\",\"negative\",\"PF06355_aegerolysin_full_length_sequences.fasta\",\"negative\",\"PF07367_fb_lectin_full_length_sequences.fasta\",\"negative\",\"negative\",\"negative\",\"negative\",\"negative\",\"PF11393_T4BSS_dotI_icml_full_length_sequences.fasta\",\"negative\",\"PF12920_tcda_tcdb_pore_full_length_sequences.fasta\",\"PF01024_colicin_full_length_sequences.fasta\",\"negative\",\"negative\",\"negative\",\"negative\",\"PF01117_aerolysin_full_length_sequences.fasta\",\"negative\",\"PF11565_porb_full_length_sequences.fasta\",\"negative\",\"negative\",\"negative\",\"negative\",\"negative\",\"negative\",\"negative\",\"PF12261_t_hemolysin_full_length_sequences.fasta\",\"negative\",\"negative\",\"PF18063_BB_PF_full_length_sequences.fasta\",\"negative\",\"PF06355_aegerolysin_full_length_sequences.fasta\",\"negative\",\"negative\",\"negative\",\"PF07367_fb_lectin_full_length_sequences.fasta\",\"PF12261_t_hemolysin_full_length_sequences.fasta\",\"negative\",\"negative\",\"PF12261_t_hemolysin_full_length_sequences.fasta\",\"negative\",\"negative\",\"PF03318_etx_mtx2_full_length_sequences.fasta\",\"PF18063_BB_PF_full_length_sequences.fasta\",\"negative\",\"PF01289_thiol_cytolysin_full_length_sequences.fasta\",\"negative\",\"negative\",\"negative\",\"negative\",\"negative\",\"negative\",\"PF12261_t_hemolysin_full_length_sequences.fasta\",\"negative\",\"negative\",\"negative\",\"negative\",\"PF03318_etx_mtx2_full_length_sequences.fasta\",\"negative\",\"negative\",\"negative\",\"negative\",\"PF03318_etx_mtx2_full_length_sequences.fasta\",\"negative\",\"PF01823_macpf_uniprot.fasta\",\"negative\",\"negative\",\"PF11393_T4BSS_dotI_icml_full_length_sequences.fasta\",\"PF03318_etx_mtx2_full_length_sequences.fasta\",\"PF12261_t_hemolysin_full_length_sequences.fasta\",\"negative\",\"negative\",\"PF18063_BB_PF_full_length_sequences.fasta\",\"negative\",\"negative\",\"negative\",\"negative\",\"PF03318_etx_mtx2_full_length_sequences.fasta\",\"negative\",\"negative\",\"negative\",\"negative\",\"PF06109_hlye_full_length_sequences.fasta\",\"PF03945_Endotoxin_N_full_length_sequences.fasta\",\"PF07968_leukocidin_full_length_sequences.fasta\",\"negative\",\"PF17475_binary_toxb_2_full_length_sequences.fasta\",\"PF01289_thiol_cytolysin_full_length_sequences.fasta\",\"negative\",\"negative\",\"negative\",\"negative\",\"PF04598_gasdermin_uniprot.fasta\",\"negative\",\"negative\",\"PF11393_T4BSS_dotI_icml_full_length_sequences.fasta\",\"PF03318_etx_mtx2_full_length_sequences.fasta\",\"PF03318_etx_mtx2_full_length_sequences.fasta\",\"PF07968_leukocidin_full_length_sequences.fasta\",\"negative\",\"PF01117_aerolysin_full_length_sequences.fasta\",\"negative\",\"negative\",\"PF03318_etx_mtx2_full_length_sequences.fasta\",\"negative\",\"pf05105_phage_holin_4_1_uniprot.fasta\",\"PF01117_aerolysin_full_length_sequences.fasta\",\"negative\",\"PF03318_etx_mtx2_full_length_sequences.fasta\",\"negative\",\"negative\",\"negative\",\"PF03505_clenterotox_full_length_sequences.fasta\",\"PF06109_hlye_full_length_sequences.fasta\",\"negative\",\"negative\",\"PF03318_etx_mtx2_full_length_sequences.fasta\",\"negative\",\"negative\",\"negative\",\"negative\",\"negative\",\"negative\",\"negative\",\"PF01289_thiol_cytolysin_full_length_sequences.fasta\",\"negative\",\"PF12920_tcda_tcdb_pore_full_length_sequences.fasta\",\"PF01117_aerolysin_full_length_sequences.fasta\",\"negative\",\"negative\",\"negative\",\"negative\",\"PF12261_t_hemolysin_full_length_sequences.fasta\",\"negative\",\"negative\",\"negative\",\"negative\",\"PF06355_aegerolysin_full_length_sequences.fasta\",\"negative\",\"negative\",\"PF01024_colicin_full_length_sequences.fasta\",\"PF01289_thiol_cytolysin_full_length_sequences.fasta\",\"negative\",\"PF03318_etx_mtx2_full_length_sequences.fasta\",\"PF12261_t_hemolysin_full_length_sequences.fasta\",\"negative\",\"PF05802_espb_full_length_sequences.fasta\",\"PF03318_etx_mtx2_full_length_sequences.fasta\",\"PF03318_etx_mtx2_full_length_sequences.fasta\",\"PF01117_aerolysin_full_length_sequences.fasta\",\"PF03318_etx_mtx2_full_length_sequences.fasta\",\"PF01289_thiol_cytolysin_full_length_sequences.fasta\",\"negative\",\"PF03318_etx_mtx2_full_length_sequences.fasta\",\"negative\",\"negative\",\"negative\",\"negative\",\"negative\",\"negative\",\"PF04877_harpin_full_length_sequences.fasta\",\"negative\",\"PF12261_t_hemolysin_full_length_sequences.fasta\",\"negative\",\"PF05802_espb_full_length_sequences.fasta\",\"negative\",\"PF01117_aerolysin_full_length_sequences.fasta\",\"PF01117_aerolysin_full_length_sequences.fasta\",\"negative\",\"negative\",\"PF07367_fb_lectin_full_length_sequences.fasta\",\"PF11393_T4BSS_dotI_icml_full_length_sequences.fasta\",\"negative\",\"negative\",\"negative\",\"PF06355_aegerolysin_full_length_sequences.fasta\",\"PF02382_rtx_full_length_sequences.fasta\",\"PF06369_anemone_cytotox_full_length_sequences.fasta\",\"PF17475_binary_toxb_2_full_length_sequences.fasta\",\"negative\",\"negative\",\"negative\",\"negative\",\"PF01823_macpf_uniprot.fasta\",\"negative\",\"PF01338_Bac_thur_toxin_full_length_sequences.fasta\",\"PF01117_aerolysin_full_length_sequences.fasta\",\"negative\",\"negative\",\"negative\",\"negative\",\"PF00087_toxin_tolip_full_length_sequences.fasta\",\"PF12261_t_hemolysin_full_length_sequences.fasta\",\"negative\",\"PF12920_tcda_tcdb_pore_full_length_sequences.fasta\",\"negative\",\"negative\",\"PF03945_Endotoxin_N_full_length_sequences.fasta\",\"negative\",\"negative\",\"negative\",\"PF04877_harpin_full_length_sequences.fasta\",\"negative\",\"negative\",\"PF01117_aerolysin_full_length_sequences.fasta\",\"PF01289_thiol_cytolysin_full_length_sequences.fasta\",\"negative\",\"negative\",\"PF12261_t_hemolysin_full_length_sequences.fasta\",\"negative\",\"negative\",\"PF03318_etx_mtx2_full_length_sequences.fasta\",\"negative\",\"PF07367_fb_lectin_full_length_sequences.fasta\",\"negative\",\"negative\",\"PF01338_Bac_thur_toxin_full_length_sequences.fasta\",\"negative\",\"negative\",\"negative\",\"PF18063_BB_PF_full_length_sequences.fasta\",\"PF03318_etx_mtx2_full_length_sequences.fasta\",\"PF03318_etx_mtx2_full_length_sequences.fasta\",\"negative\",\"PF03318_etx_mtx2_full_length_sequences.fasta\",\"negative\",\"PF07367_fb_lectin_full_length_sequences.fasta\",\"negative\",\"PF03318_etx_mtx2_full_length_sequences.fasta\",\"PF06355_aegerolysin_full_length_sequences.fasta\",\"negative\",\"negative\",\"negative\",\"negative\",\"negative\",\"negative\",\"PF07367_fb_lectin_full_length_sequences.fasta\",\"PF01117_aerolysin_full_length_sequences.fasta\",\"negative\",\"negative\",\"PF03318_etx_mtx2_full_length_sequences.fasta\",\"negative\",\"negative\",\"negative\",\"negative\",\"negative\",\"negative\",\"negative\",\"negative\",\"PF11393_T4BSS_dotI_icml_full_length_sequences.fasta\",\"negative\",\"negative\",\"negative\",\"negative\",\"negative\",\"PF12261_t_hemolysin_full_length_sequences.fasta\",\"negative\",\"PF11565_porb_full_length_sequences.fasta\",\"negative\",\"negative\",\"negative\",\"negative\",\"PF07367_fb_lectin_full_length_sequences.fasta\",\"PF00087_toxin_tolip_full_length_sequences.fasta\",\"PF01117_aerolysin_full_length_sequences.fasta\",\"negative\",\"negative\",\"PF03318_etx_mtx2_full_length_sequences.fasta\",\"negative\",\"negative\",\"PF03945_Endotoxin_N_full_length_sequences.fasta\",\"negative\",\"negative\",\"negative\",\"negative\",\"negative\",\"negative\",\"PF01338_Bac_thur_toxin_full_length_sequences.fasta\",\"negative\",\"PF04877_harpin_full_length_sequences.fasta\",\"negative\",\"negative\",\"negative\",\"negative\",\"negative\",\"negative\",\"negative\",\"negative\",\"negative\",\"negative\",\"PF01117_aerolysin_full_length_sequences.fasta\",\"PF00087_toxin_tolip_full_length_sequences.fasta\",\"PF03945_Endotoxin_N_full_length_sequences.fasta\",\"negative\",\"negative\",\"negative\",\"PF06369_anemone_cytotox_full_length_sequences.fasta\",\"PF06355_aegerolysin_full_length_sequences.fasta\",\"negative\",\"negative\",\"PF01338_Bac_thur_toxin_full_length_sequences.fasta\",\"PF06355_aegerolysin_full_length_sequences.fasta\",\"negative\",\"negative\",\"negative\",\"PF01289_thiol_cytolysin_full_length_sequences.fasta\",\"PF12261_t_hemolysin_full_length_sequences.fasta\",\"negative\",\"negative\",\"negative\",\"negative\",\"negative\",\"negative\",\"negative\",\"negative\",\"PF01024_colicin_full_length_sequences.fasta\",\"PF01289_thiol_cytolysin_full_length_sequences.fasta\",\"negative\",\"negative\",\"negative\",\"negative\",\"PF18063_BB_PF_full_length_sequences.fasta\",\"negative\",\"negative\",\"PF06355_aegerolysin_full_length_sequences.fasta\",\"PF07367_fb_lectin_full_length_sequences.fasta\",\"PF12261_t_hemolysin_full_length_sequences.fasta\",\"PF12261_t_hemolysin_full_length_sequences.fasta\",\"negative\",\"PF18063_BB_PF_full_length_sequences.fasta\",\"negative\",\"negative\",\"PF06369_anemone_cytotox_full_length_sequences.fasta\",\"PF03944_Endotoxin_C_uniprot.fasta\",\"negative\",\"negative\",\"negative\",\"PF06109_hlye_full_length_sequences.fasta\",\"PF03318_etx_mtx2_full_length_sequences.fasta\",\"PF06369_anemone_cytotox_full_length_sequences.fasta\",\"PF03318_etx_mtx2_full_length_sequences.fasta\",\"PF12261_t_hemolysin_full_length_sequences.fasta\",\"negative\",\"negative\",\"PF03318_etx_mtx2_full_length_sequences.fasta\",\"negative\",\"negative\",\"PF06355_aegerolysin_full_length_sequences.fasta\",\"negative\",\"negative\",\"negative\",\"negative\",\"negative\",\"negative\",\"negative\",\"PF00087_toxin_tolip_full_length_sequences.fasta\",\"PF01823_macpf_uniprot.fasta\",\"PF12261_t_hemolysin_full_length_sequences.fasta\",\"negative\",\"negative\",\"PF12261_t_hemolysin_full_length_sequences.fasta\",\"negative\",\"PF17475_binary_toxb_2_full_length_sequences.fasta\",\"negative\",\"negative\",\"pf05105_phage_holin_4_1_uniprot.fasta\",\"negative\",\"negative\",\"negative\",\"negative\",\"PF06355_aegerolysin_full_length_sequences.fasta\",\"PF01289_thiol_cytolysin_full_length_sequences.fasta\",\"negative\",\"negative\",\"PF03318_etx_mtx2_full_length_sequences.fasta\",\"negative\",\"PF05802_espb_full_length_sequences.fasta\",\"negative\",\"PF12261_t_hemolysin_full_length_sequences.fasta\",\"negative\",\"negative\",\"negative\",\"negative\",\"negative\",\"negative\",\"negative\",\"negative\",\"PF12261_t_hemolysin_full_length_sequences.fasta\",\"PF00555_Endotoxin_M_uniprot.fasta\",\"negative\",\"PF03318_etx_mtx2_full_length_sequences.fasta\",\"PF03945_Endotoxin_N_full_length_sequences.fasta\",\"negative\",\"negative\",\"negative\",\"negative\",\"negative\",\"negative\",\"negative\",\"negative\",\"negative\",\"PF00087_toxin_tolip_full_length_sequences.fasta\",\"negative\",\"negative\",\"PF01338_Bac_thur_toxin_full_length_sequences.fasta\",\"PF03945_Endotoxin_N_full_length_sequences.fasta\",\"PF12261_t_hemolysin_full_length_sequences.fasta\",\"negative\",\"negative\",\"negative\",\"PF03318_etx_mtx2_full_length_sequences.fasta\",\"PF00555_Endotoxin_M_uniprot.fasta\",\"PF12261_t_hemolysin_full_length_sequences.fasta\",\"negative\",\"negative\",\"negative\",\"PF12261_t_hemolysin_full_length_sequences.fasta\",\"PF06369_anemone_cytotox_full_length_sequences.fasta\",\"PF03318_etx_mtx2_full_length_sequences.fasta\",\"PF06355_aegerolysin_full_length_sequences.fasta\",\"PF06369_anemone_cytotox_full_length_sequences.fasta\",\"negative\",\"PF12261_t_hemolysin_full_length_sequences.fasta\",\"negative\",\"negative\",\"PF07968_leukocidin_full_length_sequences.fasta\",\"negative\",\"negative\",\"PF06355_aegerolysin_full_length_sequences.fasta\",\"PF12261_t_hemolysin_full_length_sequences.fasta\",\"negative\",\"PF06369_anemone_cytotox_full_length_sequences.fasta\",\"PF03945_Endotoxin_N_full_length_sequences.fasta\",\"negative\",\"PF07367_fb_lectin_full_length_sequences.fasta\",\"negative\",\"negative\",\"PF06369_anemone_cytotox_full_length_sequences.fasta\",\"PF01289_thiol_cytolysin_full_length_sequences.fasta\",\"PF11393_T4BSS_dotI_icml_full_length_sequences.fasta\",\"negative\",\"negative\",\"negative\",\"negative\",\"PF03945_Endotoxin_N_full_length_sequences.fasta\",\"negative\",\"negative\",\"negative\",\"PF06355_aegerolysin_full_length_sequences.fasta\",\"negative\",\"negative\",\"PF03318_etx_mtx2_full_length_sequences.fasta\",\"PF03318_etx_mtx2_full_length_sequences.fasta\",\"PF00087_toxin_tolip_full_length_sequences.fasta\",\"negative\",\"PF11393_T4BSS_dotI_icml_full_length_sequences.fasta\",\"negative\",\"negative\",\"negative\",\"negative\",\"PF03945_Endotoxin_N_full_length_sequences.fasta\",\"PF07367_fb_lectin_full_length_sequences.fasta\",\"negative\",\"pf05105_phage_holin_4_1_uniprot.fasta\",\"negative\",\"negative\",\"negative\",\"negative\",\"PF11393_T4BSS_dotI_icml_full_length_sequences.fasta\",\"PF12261_t_hemolysin_full_length_sequences.fasta\",\"negative\",\"negative\",\"PF06369_anemone_cytotox_full_length_sequences.fasta\",\"negative\",\"negative\",\"negative\",\"negative\",\"PF06109_hlye_full_length_sequences.fasta\",\"negative\",\"PF01117_aerolysin_full_length_sequences.fasta\",\"negative\",\"negative\",\"negative\",\"negative\",\"PF00087_toxin_tolip_full_length_sequences.fasta\",\"PF17475_binary_toxb_2_full_length_sequences.fasta\",\"negative\",\"negative\",\"PF06369_anemone_cytotox_full_length_sequences.fasta\",\"PF00555_Endotoxin_M_uniprot.fasta\",\"negative\",\"negative\",\"negative\",\"negative\",\"negative\",\"negative\",\"PF07367_fb_lectin_full_length_sequences.fasta\",\"negative\",\"PF12261_t_hemolysin_full_length_sequences.fasta\",\"negative\",\"negative\",\"negative\",\"PF03318_etx_mtx2_full_length_sequences.fasta\",\"negative\",\"negative\",\"PF06109_hlye_full_length_sequences.fasta\",\"PF00087_toxin_tolip_full_length_sequences.fasta\",\"negative\",\"negative\",\"negative\",\"negative\",\"PF06355_aegerolysin_full_length_sequences.fasta\",\"negative\",\"PF07968_leukocidin_full_length_sequences.fasta\",\"negative\",\"PF11393_T4BSS_dotI_icml_full_length_sequences.fasta\",\"PF11393_T4BSS_dotI_icml_full_length_sequences.fasta\",\"negative\",\"PF11393_T4BSS_dotI_icml_full_length_sequences.fasta\",\"PF07968_leukocidin_full_length_sequences.fasta\",\"PF01024_colicin_full_length_sequences.fasta\",\"negative\",\"PF06369_anemone_cytotox_full_length_sequences.fasta\",\"negative\",\"PF12261_t_hemolysin_full_length_sequences.fasta\",\"negative\",\"negative\",\"PF12261_t_hemolysin_full_length_sequences.fasta\",\"PF00087_toxin_tolip_full_length_sequences.fasta\",\"negative\",\"PF06109_hlye_full_length_sequences.fasta\",\"negative\",\"PF11393_T4BSS_dotI_icml_full_length_sequences.fasta\",\"PF04877_harpin_full_length_sequences.fasta\",\"PF01117_aerolysin_full_length_sequences.fasta\",\"negative\",\"PF11393_T4BSS_dotI_icml_full_length_sequences.fasta\",\"PF03318_etx_mtx2_full_length_sequences.fasta\",\"negative\",\"PF18063_BB_PF_full_length_sequences.fasta\",\"negative\",\"PF06369_anemone_cytotox_full_length_sequences.fasta\",\"negative\",\"negative\",\"PF07968_leukocidin_full_length_sequences.fasta\",\"negative\",\"negative\",\"negative\",\"negative\",\"negative\",\"negative\",\"negative\",\"negative\",\"PF12261_t_hemolysin_full_length_sequences.fasta\",\"PF06355_aegerolysin_full_length_sequences.fasta\",\"negative\",\"negative\",\"negative\",\"negative\",\"negative\",\"PF03318_etx_mtx2_full_length_sequences.fasta\",\"PF12261_t_hemolysin_full_length_sequences.fasta\",\"negative\",\"negative\",\"PF07367_fb_lectin_full_length_sequences.fasta\",\"negative\",\"negative\",\"negative\",\"PF03318_etx_mtx2_full_length_sequences.fasta\",\"negative\",\"negative\",\"negative\",\"negative\",\"negative\",\"PF00087_toxin_tolip_full_length_sequences.fasta\",\"negative\",\"PF01117_aerolysin_full_length_sequences.fasta\",\"negative\",\"PF06355_aegerolysin_full_length_sequences.fasta\",\"PF03318_etx_mtx2_full_length_sequences.fasta\",\"PF01117_aerolysin_full_length_sequences.fasta\",\"negative\",\"PF11393_T4BSS_dotI_icml_full_length_sequences.fasta\",\"negative\",\"PF11393_T4BSS_dotI_icml_full_length_sequences.fasta\",\"negative\",\"negative\",\"PF01289_thiol_cytolysin_full_length_sequences.fasta\",\"negative\",\"negative\",\"negative\",\"PF03945_Endotoxin_N_full_length_sequences.fasta\",\"negative\",\"negative\",\"PF01024_colicin_full_length_sequences.fasta\",\"PF11393_T4BSS_dotI_icml_full_length_sequences.fasta\",\"negative\",\"negative\",\"negative\",\"PF11393_T4BSS_dotI_icml_full_length_sequences.fasta\",\"PF12920_tcda_tcdb_pore_full_length_sequences.fasta\",\"negative\",\"PF01117_aerolysin_full_length_sequences.fasta\",\"PF06369_anemone_cytotox_full_length_sequences.fasta\",\"PF07367_fb_lectin_full_length_sequences.fasta\",\"negative\",\"negative\",\"negative\",\"negative\",\"PF07367_fb_lectin_full_length_sequences.fasta\",\"negative\",\"negative\",\"PF11565_porb_full_length_sequences.fasta\",\"negative\",\"PF05802_espb_full_length_sequences.fasta\",\"negative\",\"negative\",\"negative\",\"negative\",\"PF01338_Bac_thur_toxin_full_length_sequences.fasta\",\"PF07968_leukocidin_full_length_sequences.fasta\",\"PF12261_t_hemolysin_full_length_sequences.fasta\",\"negative\",\"negative\",\"negative\",\"PF03318_etx_mtx2_full_length_sequences.fasta\",\"negative\",\"PF06369_anemone_cytotox_full_length_sequences.fasta\",\"negative\",\"PF12261_t_hemolysin_full_length_sequences.fasta\",\"negative\",\"negative\",\"negative\",\"negative\",\"negative\",\"negative\",\"negative\",\"negative\",\"negative\",\"PF11393_T4BSS_dotI_icml_full_length_sequences.fasta\",\"PF12261_t_hemolysin_full_length_sequences.fasta\",\"negative\",\"negative\",\"PF06369_anemone_cytotox_full_length_sequences.fasta\",\"negative\",\"negative\",\"negative\",\"negative\",\"negative\",\"negative\",\"PF06369_anemone_cytotox_full_length_sequences.fasta\",\"negative\",\"negative\",\"negative\",\"negative\",\"PF01338_Bac_thur_toxin_full_length_sequences.fasta\",\"negative\",\"negative\",\"PF06369_anemone_cytotox_full_length_sequences.fasta\",\"negative\",\"PF03318_etx_mtx2_full_length_sequences.fasta\",\"negative\",\"PF07367_fb_lectin_full_length_sequences.fasta\",\"negative\",\"PF06369_anemone_cytotox_full_length_sequences.fasta\",\"PF07367_fb_lectin_full_length_sequences.fasta\",\"PF06369_anemone_cytotox_full_length_sequences.fasta\",\"negative\",\"PF06369_anemone_cytotox_full_length_sequences.fasta\",\"negative\",\"negative\",\"PF01338_Bac_thur_toxin_full_length_sequences.fasta\",\"PF06109_hlye_full_length_sequences.fasta\",\"negative\",\"PF12261_t_hemolysin_full_length_sequences.fasta\",\"PF06369_anemone_cytotox_full_length_sequences.fasta\",\"PF07968_leukocidin_full_length_sequences.fasta\",\"PF07968_leukocidin_full_length_sequences.fasta\",\"negative\",\"negative\",\"PF03945_Endotoxin_N_full_length_sequences.fasta\",\"negative\",\"negative\",\"negative\",\"negative\",\"PF18063_BB_PF_full_length_sequences.fasta\",\"negative\",\"PF04598_gasdermin_uniprot.fasta\",\"negative\",\"PF04598_gasdermin_uniprot.fasta\",\"PF01338_Bac_thur_toxin_full_length_sequences.fasta\",\"negative\",\"negative\",\"PF01117_aerolysin_full_length_sequences.fasta\",\"negative\",\"negative\",\"PF00087_toxin_tolip_full_length_sequences.fasta\",\"negative\",\"negative\",\"negative\",\"PF03318_etx_mtx2_full_length_sequences.fasta\",\"PF12261_t_hemolysin_full_length_sequences.fasta\",\"negative\",\"PF12261_t_hemolysin_full_length_sequences.fasta\",\"negative\",\"PF11565_porb_full_length_sequences.fasta\",\"PF06109_hlye_full_length_sequences.fasta\",\"negative\",\"PF00087_toxin_tolip_full_length_sequences.fasta\",\"negative\",\"negative\",\"negative\",\"PF03945_Endotoxin_N_full_length_sequences.fasta\",\"negative\",\"PF11393_T4BSS_dotI_icml_full_length_sequences.fasta\",\"PF18063_BB_PF_full_length_sequences.fasta\",\"negative\",\"negative\",\"negative\",\"negative\",\"negative\",\"PF06355_aegerolysin_full_length_sequences.fasta\",\"PF06369_anemone_cytotox_full_length_sequences.fasta\",\"negative\",\"negative\",\"PF12261_t_hemolysin_full_length_sequences.fasta\",\"negative\",\"PF00087_toxin_tolip_full_length_sequences.fasta\",\"PF06369_anemone_cytotox_full_length_sequences.fasta\",\"negative\",\"PF17475_binary_toxb_2_full_length_sequences.fasta\",\"negative\",\"negative\",\"PF00087_toxin_tolip_full_length_sequences.fasta\",\"negative\",\"PF06355_aegerolysin_full_length_sequences.fasta\",\"PF11393_T4BSS_dotI_icml_full_length_sequences.fasta\",\"PF01289_thiol_cytolysin_full_length_sequences.fasta\",\"negative\",\"negative\",\"PF06369_anemone_cytotox_full_length_sequences.fasta\",\"negative\",\"negative\",\"negative\",\"negative\",\"negative\",\"negative\",\"negative\",\"PF06355_aegerolysin_full_length_sequences.fasta\",\"negative\",\"negative\",\"PF00555_Endotoxin_M_uniprot.fasta\",\"PF01289_thiol_cytolysin_full_length_sequences.fasta\",\"negative\",\"PF03318_etx_mtx2_full_length_sequences.fasta\",\"negative\",\"negative\",\"negative\",\"negative\",\"PF12261_t_hemolysin_full_length_sequences.fasta\",\"PF06355_aegerolysin_full_length_sequences.fasta\",\"negative\",\"PF12920_tcda_tcdb_pore_full_length_sequences.fasta\",\"PF00555_Endotoxin_M_uniprot.fasta\",\"PF06369_anemone_cytotox_full_length_sequences.fasta\",\"negative\",\"PF03318_etx_mtx2_full_length_sequences.fasta\",\"negative\",\"negative\",\"negative\",\"negative\",\"PF01823_macpf_uniprot.fasta\",\"PF12261_t_hemolysin_full_length_sequences.fasta\",\"negative\",\"negative\",\"negative\",\"negative\",\"negative\",\"negative\",\"negative\",\"negative\",\"PF00555_Endotoxin_M_uniprot.fasta\",\"negative\",\"PF03945_Endotoxin_N_full_length_sequences.fasta\",\"negative\",\"PF00087_toxin_tolip_full_length_sequences.fasta\",\"negative\",\"PF01117_aerolysin_full_length_sequences.fasta\",\"negative\",\"PF07968_leukocidin_full_length_sequences.fasta\",\"PF12261_t_hemolysin_full_length_sequences.fasta\",\"negative\",\"negative\",\"negative\",\"negative\",\"negative\",\"negative\",\"PF00087_toxin_tolip_full_length_sequences.fasta\",\"PF03944_Endotoxin_C_uniprot.fasta\",\"PF06355_aegerolysin_full_length_sequences.fasta\",\"PF03318_etx_mtx2_full_length_sequences.fasta\",\"PF06355_aegerolysin_full_length_sequences.fasta\",\"PF12261_t_hemolysin_full_length_sequences.fasta\",\"PF12261_t_hemolysin_full_length_sequences.fasta\",\"negative\",\"PF01338_Bac_thur_toxin_full_length_sequences.fasta\",\"negative\",\"PF12261_t_hemolysin_full_length_sequences.fasta\",\"PF03945_Endotoxin_N_full_length_sequences.fasta\",\"PF12261_t_hemolysin_full_length_sequences.fasta\",\"PF11393_T4BSS_dotI_icml_full_length_sequences.fasta\",\"PF01338_Bac_thur_toxin_full_length_sequences.fasta\",\"negative\",\"PF03945_Endotoxin_N_full_length_sequences.fasta\",\"negative\",\"negative\",\"PF07968_leukocidin_full_length_sequences.fasta\",\"PF03318_etx_mtx2_full_length_sequences.fasta\",\"PF12261_t_hemolysin_full_length_sequences.fasta\",\"PF12920_tcda_tcdb_pore_full_length_sequences.fasta\",\"negative\",\"PF01289_thiol_cytolysin_full_length_sequences.fasta\",\"negative\",\"PF06355_aegerolysin_full_length_sequences.fasta\",\"negative\",\"negative\",\"negative\",\"negative\",\"negative\",\"negative\",\"PF06369_anemone_cytotox_full_length_sequences.fasta\",\"negative\",\"negative\",\"negative\",\"negative\",\"PF01024_colicin_full_length_sequences.fasta\",\"negative\",\"negative\",\"PF01289_thiol_cytolysin_full_length_sequences.fasta\",\"negative\",\"PF06369_anemone_cytotox_full_length_sequences.fasta\",\"negative\",\"negative\",\"negative\",\"negative\",\"PF06355_aegerolysin_full_length_sequences.fasta\",\"PF01289_thiol_cytolysin_full_length_sequences.fasta\",\"negative\",\"PF01117_aerolysin_full_length_sequences.fasta\",\"negative\",\"negative\",\"negative\",\"PF01117_aerolysin_full_length_sequences.fasta\",\"negative\",\"PF04877_harpin_full_length_sequences.fasta\",\"negative\",\"negative\",\"negative\",\"negative\",\"PF11393_T4BSS_dotI_icml_full_length_sequences.fasta\",\"PF12261_t_hemolysin_full_length_sequences.fasta\",\"negative\",\"PF12920_tcda_tcdb_pore_full_length_sequences.fasta\",\"negative\",\"negative\",\"negative\",\"PF06369_anemone_cytotox_full_length_sequences.fasta\",\"negative\",\"PF04598_gasdermin_uniprot.fasta\",\"negative\",\"negative\",\"negative\",\"negative\",\"negative\",\"negative\",\"negative\",\"PF06355_aegerolysin_full_length_sequences.fasta\",\"negative\",\"PF12261_t_hemolysin_full_length_sequences.fasta\",\"negative\",\"PF06355_aegerolysin_full_length_sequences.fasta\",\"negative\",\"negative\",\"negative\",\"PF01289_thiol_cytolysin_full_length_sequences.fasta\",\"negative\",\"PF03318_etx_mtx2_full_length_sequences.fasta\",\"negative\",\"PF12261_t_hemolysin_full_length_sequences.fasta\",\"negative\",\"negative\",\"PF03945_Endotoxin_N_full_length_sequences.fasta\",\"negative\",\"negative\",\"negative\",\"negative\",\"negative\",\"PF12261_t_hemolysin_full_length_sequences.fasta\",\"negative\",\"PF01289_thiol_cytolysin_full_length_sequences.fasta\",\"PF06355_aegerolysin_full_length_sequences.fasta\",\"negative\",\"PF01289_thiol_cytolysin_full_length_sequences.fasta\",\"negative\",\"negative\",\"PF01289_thiol_cytolysin_full_length_sequences.fasta\",\"PF03945_Endotoxin_N_full_length_sequences.fasta\",\"PF03318_etx_mtx2_full_length_sequences.fasta\",\"negative\",\"negative\",\"negative\",\"negative\",\"negative\",\"PF04877_harpin_full_length_sequences.fasta\",\"PF01289_thiol_cytolysin_full_length_sequences.fasta\",\"negative\",\"negative\",\"negative\",\"PF01289_thiol_cytolysin_full_length_sequences.fasta\",\"negative\",\"PF12261_t_hemolysin_full_length_sequences.fasta\",\"negative\",\"PF03318_etx_mtx2_full_length_sequences.fasta\",\"negative\",\"negative\",\"PF05802_espb_full_length_sequences.fasta\",\"PF01117_aerolysin_full_length_sequences.fasta\",\"negative\",\"negative\",\"PF01289_thiol_cytolysin_full_length_sequences.fasta\",\"negative\",\"negative\",\"PF07367_fb_lectin_full_length_sequences.fasta\",\"negative\",\"PF12261_t_hemolysin_full_length_sequences.fasta\",\"PF00087_toxin_tolip_full_length_sequences.fasta\",\"negative\",\"PF12920_tcda_tcdb_pore_full_length_sequences.fasta\",\"PF01338_Bac_thur_toxin_full_length_sequences.fasta\",\"negative\",\"PF07367_fb_lectin_full_length_sequences.fasta\",\"negative\",\"negative\",\"PF01289_thiol_cytolysin_full_length_sequences.fasta\",\"negative\",\"negative\",\"negative\",\"negative\",\"PF07968_leukocidin_full_length_sequences.fasta\",\"negative\",\"PF02382_rtx_full_length_sequences.fasta\",\"negative\",\"negative\",\"PF12261_t_hemolysin_full_length_sequences.fasta\",\"negative\",\"negative\",\"negative\",\"PF12261_t_hemolysin_full_length_sequences.fasta\",\"negative\",\"PF01338_Bac_thur_toxin_full_length_sequences.fasta\",\"negative\",\"negative\",\"PF11565_porb_full_length_sequences.fasta\",\"negative\",\"PF06369_anemone_cytotox_full_length_sequences.fasta\",\"PF12261_t_hemolysin_full_length_sequences.fasta\",\"negative\",\"negative\",\"PF00555_Endotoxin_M_uniprot.fasta\",\"negative\",\"negative\",\"negative\",\"negative\",\"PF12261_t_hemolysin_full_length_sequences.fasta\",\"PF03318_etx_mtx2_full_length_sequences.fasta\",\"PF11393_T4BSS_dotI_icml_full_length_sequences.fasta\",\"PF11565_porb_full_length_sequences.fasta\",\"negative\",\"PF07968_leukocidin_full_length_sequences.fasta\",\"PF18063_BB_PF_full_length_sequences.fasta\",\"negative\",\"PF03318_etx_mtx2_full_length_sequences.fasta\",\"negative\",\"PF07968_leukocidin_full_length_sequences.fasta\",\"PF01289_thiol_cytolysin_full_length_sequences.fasta\",\"negative\",\"negative\",\"negative\",\"negative\",\"PF00087_toxin_tolip_full_length_sequences.fasta\",\"PF03318_etx_mtx2_full_length_sequences.fasta\",\"negative\",\"negative\",\"negative\",\"PF06355_aegerolysin_full_length_sequences.fasta\",\"negative\",\"negative\",\"negative\",\"PF06369_anemone_cytotox_full_length_sequences.fasta\",\"PF06369_anemone_cytotox_full_length_sequences.fasta\",\"PF12261_t_hemolysin_full_length_sequences.fasta\",\"negative\",\"negative\",\"negative\",\"negative\",\"negative\",\"negative\",\"negative\",\"PF07968_leukocidin_full_length_sequences.fasta\",\"negative\",\"negative\",\"negative\",\"negative\",\"negative\",\"negative\",\"PF06355_aegerolysin_full_length_sequences.fasta\",\"negative\",\"negative\",\"PF06369_anemone_cytotox_full_length_sequences.fasta\",\"negative\",\"negative\",\"negative\",\"negative\",\"PF06355_aegerolysin_full_length_sequences.fasta\",\"negative\",\"negative\",\"PF11565_porb_full_length_sequences.fasta\",\"PF03318_etx_mtx2_full_length_sequences.fasta\",\"PF01117_aerolysin_full_length_sequences.fasta\",\"PF06355_aegerolysin_full_length_sequences.fasta\",\"PF12261_t_hemolysin_full_length_sequences.fasta\",\"negative\",\"negative\",\"negative\",\"negative\",\"PF03318_etx_mtx2_full_length_sequences.fasta\",\"negative\",\"negative\",\"negative\",\"negative\",\"PF06355_aegerolysin_full_length_sequences.fasta\",\"negative\",\"negative\",\"PF00555_Endotoxin_M_uniprot.fasta\",\"negative\",\"negative\",\"PF03318_etx_mtx2_full_length_sequences.fasta\",\"PF00087_toxin_tolip_full_length_sequences.fasta\",\"negative\",\"PF01024_colicin_full_length_sequences.fasta\",\"PF05802_espb_full_length_sequences.fasta\",\"negative\",\"negative\",\"negative\",\"PF01289_thiol_cytolysin_full_length_sequences.fasta\",\"PF01289_thiol_cytolysin_full_length_sequences.fasta\",\"negative\",\"PF12261_t_hemolysin_full_length_sequences.fasta\",\"PF03318_etx_mtx2_full_length_sequences.fasta\",\"negative\",\"PF06109_hlye_full_length_sequences.fasta\",\"negative\",\"PF11393_T4BSS_dotI_icml_full_length_sequences.fasta\",\"negative\",\"negative\",\"negative\",\"negative\",\"negative\",\"PF12261_t_hemolysin_full_length_sequences.fasta\",\"negative\",\"negative\",\"PF18063_BB_PF_full_length_sequences.fasta\",\"negative\",\"PF03945_Endotoxin_N_full_length_sequences.fasta\",\"negative\",\"PF06369_anemone_cytotox_full_length_sequences.fasta\",\"negative\",\"negative\",\"negative\",\"negative\",\"negative\",\"negative\",\"negative\",\"negative\",\"negative\",\"negative\",\"negative\",\"PF11393_T4BSS_dotI_icml_full_length_sequences.fasta\",\"PF03318_etx_mtx2_full_length_sequences.fasta\",\"negative\",\"PF03318_etx_mtx2_full_length_sequences.fasta\",\"PF01289_thiol_cytolysin_full_length_sequences.fasta\",\"PF06369_anemone_cytotox_full_length_sequences.fasta\",\"PF07367_fb_lectin_full_length_sequences.fasta\",\"negative\",\"PF01289_thiol_cytolysin_full_length_sequences.fasta\",\"negative\",\"negative\",\"negative\",\"negative\",\"negative\",\"PF11393_T4BSS_dotI_icml_full_length_sequences.fasta\",\"negative\",\"PF07367_fb_lectin_full_length_sequences.fasta\",\"negative\",\"negative\",\"PF06355_aegerolysin_full_length_sequences.fasta\",\"PF06355_aegerolysin_full_length_sequences.fasta\",\"PF06355_aegerolysin_full_length_sequences.fasta\",\"PF03945_Endotoxin_N_full_length_sequences.fasta\",\"negative\",\"PF12261_t_hemolysin_full_length_sequences.fasta\",\"negative\",\"negative\",\"negative\",\"negative\",\"PF06369_anemone_cytotox_full_length_sequences.fasta\",\"PF06355_aegerolysin_full_length_sequences.fasta\",\"negative\",\"negative\",\"PF11393_T4BSS_dotI_icml_full_length_sequences.fasta\",\"PF12261_t_hemolysin_full_length_sequences.fasta\",\"negative\",\"negative\",\"negative\",\"negative\",\"negative\",\"negative\",\"negative\",\"negative\",\"PF06109_hlye_full_length_sequences.fasta\",\"PF11393_T4BSS_dotI_icml_full_length_sequences.fasta\",\"negative\",\"PF07367_fb_lectin_full_length_sequences.fasta\",\"negative\",\"PF03318_etx_mtx2_full_length_sequences.fasta\",\"PF06369_anemone_cytotox_full_length_sequences.fasta\",\"PF06369_anemone_cytotox_full_length_sequences.fasta\",\"PF05802_espb_full_length_sequences.fasta\",\"negative\",\"PF12261_t_hemolysin_full_length_sequences.fasta\",\"negative\",\"negative\",\"negative\",\"PF11565_porb_full_length_sequences.fasta\",\"PF00087_toxin_tolip_full_length_sequences.fasta\",\"negative\",\"negative\",\"negative\",\"negative\",\"negative\",\"PF06355_aegerolysin_full_length_sequences.fasta\",\"negative\",\"negative\",\"pf05105_phage_holin_4_1_uniprot.fasta\",\"PF12261_t_hemolysin_full_length_sequences.fasta\",\"negative\",\"negative\",\"PF03318_etx_mtx2_full_length_sequences.fasta\",\"negative\",\"negative\",\"negative\",\"negative\",\"negative\",\"PF07367_fb_lectin_full_length_sequences.fasta\",\"negative\",\"negative\",\"negative\",\"negative\",\"PF06355_aegerolysin_full_length_sequences.fasta\",\"negative\",\"PF07367_fb_lectin_full_length_sequences.fasta\",\"PF03945_Endotoxin_N_full_length_sequences.fasta\",\"negative\",\"negative\",\"negative\",\"negative\",\"PF07968_leukocidin_full_length_sequences.fasta\",\"negative\",\"negative\",\"negative\",\"PF01117_aerolysin_full_length_sequences.fasta\",\"negative\",\"negative\",\"negative\",\"negative\",\"negative\",\"PF06369_anemone_cytotox_full_length_sequences.fasta\",\"PF01289_thiol_cytolysin_full_length_sequences.fasta\",\"PF01289_thiol_cytolysin_full_length_sequences.fasta\",\"negative\",\"PF06355_aegerolysin_full_length_sequences.fasta\",\"negative\",\"PF03318_etx_mtx2_full_length_sequences.fasta\",\"PF01117_aerolysin_full_length_sequences.fasta\",\"negative\",\"PF12261_t_hemolysin_full_length_sequences.fasta\",\"negative\",\"negative\",\"negative\",\"negative\",\"negative\",\"negative\",\"negative\",\"PF07367_fb_lectin_full_length_sequences.fasta\",\"PF06369_anemone_cytotox_full_length_sequences.fasta\",\"negative\",\"negative\",\"negative\",\"negative\",\"PF03945_Endotoxin_N_full_length_sequences.fasta\",\"negative\",\"negative\",\"negative\",\"negative\",\"PF03318_etx_mtx2_full_length_sequences.fasta\",\"PF01117_aerolysin_full_length_sequences.fasta\",\"PF06369_anemone_cytotox_full_length_sequences.fasta\",\"negative\",\"PF12920_tcda_tcdb_pore_full_length_sequences.fasta\",\"PF07367_fb_lectin_full_length_sequences.fasta\",\"PF06355_aegerolysin_full_length_sequences.fasta\",\"negative\",\"negative\",\"negative\",\"negative\",\"PF03318_etx_mtx2_full_length_sequences.fasta\",\"PF03945_Endotoxin_N_full_length_sequences.fasta\",\"negative\",\"negative\",\"negative\",\"negative\",\"negative\",\"PF00087_toxin_tolip_full_length_sequences.fasta\",\"negative\",\"negative\",\"PF01117_aerolysin_full_length_sequences.fasta\",\"negative\",\"negative\",\"PF00555_Endotoxin_M_uniprot.fasta\",\"PF11393_T4BSS_dotI_icml_full_length_sequences.fasta\",\"negative\",\"PF11565_porb_full_length_sequences.fasta\",\"PF03945_Endotoxin_N_full_length_sequences.fasta\",\"negative\",\"PF01117_aerolysin_full_length_sequences.fasta\",\"PF06355_aegerolysin_full_length_sequences.fasta\",\"PF01289_thiol_cytolysin_full_length_sequences.fasta\",\"negative\",\"negative\",\"negative\",\"negative\",\"negative\",\"negative\",\"negative\",\"PF03318_etx_mtx2_full_length_sequences.fasta\",\"negative\",\"PF03945_Endotoxin_N_full_length_sequences.fasta\",\"negative\",\"PF12261_t_hemolysin_full_length_sequences.fasta\",\"negative\",\"negative\",\"negative\",\"PF00555_Endotoxin_M_uniprot.fasta\",\"PF07367_fb_lectin_full_length_sequences.fasta\",\"PF03945_Endotoxin_N_full_length_sequences.fasta\",\"negative\",\"PF01289_thiol_cytolysin_full_length_sequences.fasta\",\"PF03945_Endotoxin_N_full_length_sequences.fasta\",\"negative\",\"negative\",\"negative\",\"PF03318_etx_mtx2_full_length_sequences.fasta\",\"negative\",\"PF12261_t_hemolysin_full_length_sequences.fasta\",\"negative\",\"negative\",\"negative\",\"PF03318_etx_mtx2_full_length_sequences.fasta\",\"PF07367_fb_lectin_full_length_sequences.fasta\",\"negative\",\"negative\",\"negative\",\"PF12261_t_hemolysin_full_length_sequences.fasta\",\"negative\",\"PF03318_etx_mtx2_full_length_sequences.fasta\",\"PF12261_t_hemolysin_full_length_sequences.fasta\",\"negative\",\"PF12261_t_hemolysin_full_length_sequences.fasta\",\"PF12261_t_hemolysin_full_length_sequences.fasta\",\"negative\",\"negative\",\"negative\",\"PF11393_T4BSS_dotI_icml_full_length_sequences.fasta\",\"negative\",\"negative\",\"PF06369_anemone_cytotox_full_length_sequences.fasta\",\"negative\",\"negative\",\"PF12261_t_hemolysin_full_length_sequences.fasta\",\"negative\",\"negative\",\"PF06369_anemone_cytotox_full_length_sequences.fasta\",\"negative\",\"PF12261_t_hemolysin_full_length_sequences.fasta\",\"negative\",\"negative\",\"negative\",\"PF03318_etx_mtx2_full_length_sequences.fasta\",\"PF01338_Bac_thur_toxin_full_length_sequences.fasta\",\"negative\",\"PF01024_colicin_full_length_sequences.fasta\",\"negative\",\"negative\",\"PF01117_aerolysin_full_length_sequences.fasta\",\"negative\",\"PF18063_BB_PF_full_length_sequences.fasta\",\"PF06355_aegerolysin_full_length_sequences.fasta\",\"PF06355_aegerolysin_full_length_sequences.fasta\",\"negative\",\"PF03318_etx_mtx2_full_length_sequences.fasta\",\"PF00087_toxin_tolip_full_length_sequences.fasta\",\"PF11393_T4BSS_dotI_icml_full_length_sequences.fasta\",\"negative\",\"negative\",\"negative\",\"PF03318_etx_mtx2_full_length_sequences.fasta\",\"negative\",\"negative\",\"negative\",\"negative\",\"negative\",\"negative\",\"negative\",\"negative\",\"PF01117_aerolysin_full_length_sequences.fasta\",\"PF00087_toxin_tolip_full_length_sequences.fasta\",\"negative\",\"negative\",\"PF12261_t_hemolysin_full_length_sequences.fasta\",\"negative\",\"PF01289_thiol_cytolysin_full_length_sequences.fasta\",\"PF03318_etx_mtx2_full_length_sequences.fasta\",\"PF06369_anemone_cytotox_full_length_sequences.fasta\",\"PF06369_anemone_cytotox_full_length_sequences.fasta\",\"negative\",\"PF03505_clenterotox_full_length_sequences.fasta\",\"negative\",\"PF12920_tcda_tcdb_pore_full_length_sequences.fasta\",\"negative\",\"negative\",\"negative\",\"negative\",\"negative\",\"PF12261_t_hemolysin_full_length_sequences.fasta\",\"PF06369_anemone_cytotox_full_length_sequences.fasta\",\"negative\",\"negative\",\"negative\",\"PF06369_anemone_cytotox_full_length_sequences.fasta\",\"negative\",\"negative\",\"PF11393_T4BSS_dotI_icml_full_length_sequences.fasta\",\"negative\",\"negative\",\"negative\",\"negative\",\"negative\",\"negative\",\"PF12261_t_hemolysin_full_length_sequences.fasta\",\"PF12261_t_hemolysin_full_length_sequences.fasta\",\"negative\",\"negative\",\"negative\",\"PF12261_t_hemolysin_full_length_sequences.fasta\",\"PF05802_espb_full_length_sequences.fasta\",\"PF18063_BB_PF_full_length_sequences.fasta\",\"negative\",\"negative\",\"PF11393_T4BSS_dotI_icml_full_length_sequences.fasta\",\"PF06355_aegerolysin_full_length_sequences.fasta\",\"negative\",\"negative\",\"PF11393_T4BSS_dotI_icml_full_length_sequences.fasta\",\"PF07968_leukocidin_full_length_sequences.fasta\",\"PF12261_t_hemolysin_full_length_sequences.fasta\",\"negative\",\"negative\",\"negative\",\"negative\",\"negative\",\"negative\",\"PF12261_t_hemolysin_full_length_sequences.fasta\",\"negative\",\"negative\",\"PF12261_t_hemolysin_full_length_sequences.fasta\",\"negative\",\"negative\",\"PF00087_toxin_tolip_full_length_sequences.fasta\",\"negative\",\"negative\",\"PF06355_aegerolysin_full_length_sequences.fasta\",\"PF03945_Endotoxin_N_full_length_sequences.fasta\",\"negative\",\"PF00555_Endotoxin_M_uniprot.fasta\",\"negative\",\"negative\",\"negative\",\"negative\",\"negative\",\"PF11565_porb_full_length_sequences.fasta\",\"PF01117_aerolysin_full_length_sequences.fasta\",\"PF18063_BB_PF_full_length_sequences.fasta\",\"PF01117_aerolysin_full_length_sequences.fasta\",\"PF12261_t_hemolysin_full_length_sequences.fasta\",\"negative\",\"negative\",\"PF12261_t_hemolysin_full_length_sequences.fasta\",\"negative\",\"PF06369_anemone_cytotox_full_length_sequences.fasta\",\"negative\",\"negative\",\"negative\",\"negative\",\"PF03944_Endotoxin_C_uniprot.fasta\",\"PF06355_aegerolysin_full_length_sequences.fasta\",\"negative\",\"PF00087_toxin_tolip_full_length_sequences.fasta\",\"negative\",\"PF05802_espb_full_length_sequences.fasta\",\"negative\",\"negative\",\"negative\",\"negative\",\"negative\",\"PF01289_thiol_cytolysin_full_length_sequences.fasta\",\"PF01117_aerolysin_full_length_sequences.fasta\",\"negative\",\"negative\",\"PF06355_aegerolysin_full_length_sequences.fasta\",\"negative\",\"negative\",\"negative\",\"negative\",\"negative\",\"PF17475_binary_toxb_2_full_length_sequences.fasta\",\"PF11393_T4BSS_dotI_icml_full_length_sequences.fasta\",\"negative\",\"PF12261_t_hemolysin_full_length_sequences.fasta\",\"negative\",\"negative\",\"negative\",\"negative\",\"PF03318_etx_mtx2_full_length_sequences.fasta\",\"negative\",\"PF07968_leukocidin_full_length_sequences.fasta\",\"PF01289_thiol_cytolysin_full_length_sequences.fasta\",\"PF03945_Endotoxin_N_full_length_sequences.fasta\",\"negative\",\"negative\",\"negative\",\"negative\",\"negative\",\"negative\",\"negative\",\"PF12261_t_hemolysin_full_length_sequences.fasta\",\"negative\",\"PF00555_Endotoxin_M_uniprot.fasta\",\"negative\",\"negative\",\"PF12261_t_hemolysin_full_length_sequences.fasta\",\"negative\",\"PF18063_BB_PF_full_length_sequences.fasta\",\"negative\",\"PF06369_anemone_cytotox_full_length_sequences.fasta\",\"negative\",\"negative\",\"PF05802_espb_full_length_sequences.fasta\",\"negative\",\"PF01117_aerolysin_full_length_sequences.fasta\",\"negative\",\"negative\",\"PF04877_harpin_full_length_sequences.fasta\",\"negative\",\"PF03945_Endotoxin_N_full_length_sequences.fasta\",\"PF11393_T4BSS_dotI_icml_full_length_sequences.fasta\",\"negative\",\"PF07367_fb_lectin_full_length_sequences.fasta\",\"negative\",\"negative\",\"negative\",\"negative\",\"PF03945_Endotoxin_N_full_length_sequences.fasta\",\"negative\",\"negative\",\"PF06355_aegerolysin_full_length_sequences.fasta\",\"PF06369_anemone_cytotox_full_length_sequences.fasta\",\"negative\",\"negative\",\"negative\",\"negative\",\"negative\",\"PF03945_Endotoxin_N_full_length_sequences.fasta\",\"PF11393_T4BSS_dotI_icml_full_length_sequences.fasta\",\"negative\",\"PF06355_aegerolysin_full_length_sequences.fasta\",\"PF04877_harpin_full_length_sequences.fasta\",\"PF03318_etx_mtx2_full_length_sequences.fasta\",\"PF12261_t_hemolysin_full_length_sequences.fasta\",\"PF00087_toxin_tolip_full_length_sequences.fasta\",\"negative\",\"negative\",\"negative\",\"negative\",\"negative\",\"PF03945_Endotoxin_N_full_length_sequences.fasta\",\"PF07367_fb_lectin_full_length_sequences.fasta\",\"negative\",\"PF12261_t_hemolysin_full_length_sequences.fasta\",\"negative\",\"PF06355_aegerolysin_full_length_sequences.fasta\",\"PF01289_thiol_cytolysin_full_length_sequences.fasta\",\"negative\",\"negative\",\"PF01338_Bac_thur_toxin_full_length_sequences.fasta\",\"PF03318_etx_mtx2_full_length_sequences.fasta\",\"negative\",\"negative\",\"negative\",\"PF03318_etx_mtx2_full_length_sequences.fasta\",\"PF06355_aegerolysin_full_length_sequences.fasta\",\"negative\",\"negative\",\"negative\",\"negative\",\"negative\"],\"label\":[27,8,27,27,16,27,8,27,27,27,27,27,22,27,3,27,27,27,8,27,27,22,4,27,1,27,27,27,27,27,0,27,27,27,0,27,22,22,27,17,27,27,27,27,27,27,27,27,3,17,25,20,27,27,27,8,23,18,20,11,27,16,27,27,20,27,4,20,22,0,8,27,22,14,25,27,1,27,27,27,27,8,27,27,17,18,27,20,3,27,4,27,16,27,27,27,27,27,27,27,8,27,27,27,27,27,27,27,22,2,27,27,27,4,22,27,27,27,27,4,27,3,8,27,27,27,27,27,15,27,8,27,27,27,27,8,20,4,27,27,27,22,27,0,27,20,27,27,27,27,20,27,11,0,27,27,27,27,27,27,27,27,11,13,17,27,27,11,27,27,11,27,27,27,27,0,27,27,27,26,19,0,27,27,27,25,27,27,11,20,27,5,17,27,27,18,27,27,27,8,8,27,27,27,27,3,3,5,27,17,27,27,27,4,27,27,27,27,27,27,27,4,8,11,27,16,27,27,27,27,27,8,27,27,27,4,19,16,27,27,27,15,27,27,27,27,27,27,27,27,27,27,27,14,27,4,27,8,22,27,0,27,16,27,27,27,27,28,27,27,27,18,0,27,27,27,8,27,27,27,27,27,27,11,6,20,17,27,4,16,27,27,27,8,27,27,20,4,27,4,3,27,11,27,27,27,27,16,27,17,11,4,27,27,0,27,27,27,27,11,27,27,8,20,3,23,27,8,20,27,27,27,27,0,27,8,8,18,8,27,27,27,22,3,25,0,27,8,27,16,20,14,8,27,5,27,27,14,17,4,27,11,27,5,27,4,27,27,11,27,27,3,8,27,27,11,27,5,27,27,27,4,27,27,27,3,27,8,27,27,27,11,27,27,4,4,20,27,27,27,27,0,27,27,27,27,16,27,27,27,8,4,18,8,27,17,18,27,20,27,27,20,27,22,3,24,27,22,27,22,17,27,4,22,22,27,20,27,27,27,27,27,27,0,27,27,27,18,27,4,27,27,27,27,27,16,27,18,27,27,8,27,27,27,0,27,11,27,27,20,27,27,27,15,27,27,27,27,27,27,27,27,27,22,20,27,27,27,27,8,27,8,27,27,27,20,17,1,27,16,14,27,18,8,27,27,4,27,16,27,27,27,27,27,27,4,27,27,27,20,23,0,27,27,27,22,27,3,27,3,27,27,8,27,27,0,27,18,0,27,27,19,27,19,27,16,27,27,27,27,22,27,4,16,27,27,2,27,27,0,16,27,27,1,27,17,27,8,27,27,16,17,27,27,27,27,21,5,27,27,8,27,27,27,27,27,27,27,27,27,27,4,27,22,27,3,27,17,27,16,19,27,27,22,0,27,27,7,16,27,14,6,3,4,27,27,16,27,27,22,27,20,27,27,27,27,27,27,22,27,27,27,27,4,27,27,27,5,27,27,27,15,27,22,27,27,11,27,27,27,27,22,27,27,27,27,27,27,16,4,27,3,27,27,27,13,27,27,27,27,27,13,0,27,27,4,5,27,0,0,5,16,27,27,17,17,27,27,22,27,17,27,22,27,27,27,27,8,27,25,27,17,27,16,27,0,27,4,27,27,27,27,27,27,22,18,27,27,27,8,27,27,27,27,22,27,27,25,27,27,27,8,8,4,20,22,23,27,14,20,27,27,27,22,17,0,27,27,27,16,27,17,8,27,27,13,18,17,27,27,8,20,27,11,27,1,27,27,22,5,27,8,27,11,27,22,27,27,12,27,22,4,27,27,27,10,11,27,17,4,27,21,22,22,27,27,27,27,1,27,3,27,27,27,18,27,27,28,27,27,27,27,27,27,17,27,27,27,27,23,27,8,27,3,27,27,27,27,27,27,27,27,27,27,27,22,16,27,27,27,27,27,27,27,27,27,27,27,27,27,27,27,16,27,27,27,27,27,27,27,22,27,0,27,27,27,11,3,11,17,27,0,8,27,27,19,4,27,27,27,27,27,27,27,27,19,27,27,27,0,18,27,4,27,27,27,27,27,3,27,14,27,19,27,0,27,19,27,27,27,13,8,27,25,22,27,27,21,27,22,27,27,27,27,4,27,27,19,0,3,0,15,8,11,7,27,10,27,27,16,27,22,18,27,27,20,17,27,27,27,27,27,14,27,27,15,27,27,22,27,27,27,27,14,16,27,17,27,27,8,17,27,27,27,27,6,27,27,4,3,27,27,0,27,27,27,27,27,27,21,27,27,16,27,27,15,27,27,27,15,27,8,27,27,27,22,8,17,27,27,27,27,20,17,27,16,27,13,11,16,27,27,0,27,3,27,27,27,5,3,27,27,27,20,27,27,16,27,3,20,27,4,21,0,16,16,4,8,27,27,27,27,22,27,17,27,8,27,4,3,27,27,27,27,3,27,20,27,21,4,27,11,11,27,27,3,27,27,27,27,27,8,2,27,2,27,27,27,20,27,27,27,11,17,27,27,27,27,5,0,6,3,8,27,27,7,6,27,27,27,22,11,17,27,27,27,27,27,27,27,27,27,16,27,27,27,27,27,22,1,27,22,22,27,27,16,20,27,27,27,27,27,27,17,0,27,27,27,27,27,27,27,27,27,27,17,27,14,27,25,27,27,27,27,27,0,27,17,27,27,27,27,27,22,27,27,27,4,27,27,3,22,27,27,16,16,27,27,27,17,27,27,6,27,27,16,27,27,17,27,27,5,4,8,14,27,27,27,27,14,27,0,11,27,27,3,18,27,17,27,18,27,5,27,4,0,8,27,27,17,20,14,27,27,27,18,27,20,27,27,27,16,27,27,0,16,17,27,27,27,7,27,27,8,11,27,27,18,0,27,27,27,27,27,27,22,27,15,27,0,22,27,11,25,27,21,27,27,27,27,22,27,8,27,27,4,1,15,17,27,27,27,0,27,4,27,27,27,16,27,27,27,0,17,27,27,27,27,27,8,27,3,27,27,27,27,8,20,27,27,27,22,27,27,27,27,14,27,4,27,27,27,0,27,27,27,22,16,27,27,27,27,27,27,22,27,4,27,27,27,22,8,27,22,27,16,4,27,27,4,27,8,16,20,27,27,19,23,27,27,27,8,1,27,23,16,27,15,4,11,20,27,11,27,4,27,27,27,27,27,7,6,11,27,27,27,27,27,25,27,27,27,0,11,20,27,27,17,27,8,8,27,16,8,27,27,27,16,27,27,27,27,27,27,17,27,27,27,27,3,16,22,27,27,27,27,27,27,3,0,27,0,8,27,27,27,5,27,27,3,27,17,22,6,27,27,27,11,27,27,25,27,6,5,27,4,22,27,27,27,27,20,27,27,27,27,0,27,27,20,27,27,4,4,17,27,17,27,15,0,27,27,27,27,8,27,11,16,20,27,8,27,27,27,27,3,20,27,27,22,27,27,27,27,27,27,27,27,27,1,27,27,27,5,27,4,16,8,27,0,23,27,3,27,23,27,27,3,27,8,27,27,4,27,16,27,8,27,27,27,27,18,17,20,11,0,27,0,4,27,27,27,27,27,27,20,27,27,5,20,27,27,13,18,27,23,27,20,27,27,16,27,22,27,27,5,20,27,16,27,27,18,27,16,27,27,27,27,27,27,27,27,12,27,0,8,27,27,27,27,27,27,22,27,5,18,27,18,27,27,22,27,27,22,27,27,20,27,17,27,27,27,8,14,27,27,27,27,27,3,27,27,17,27,22,5,4,27,11,27,20,17,27,4,0,27,0,15,27,27,27,27,5,27,3,22,20,27,16,27,27,27,27,27,17,11,27,27,27,22,27,27,27,27,27,5,27,18,20,27,27,8,27,27,8,27,27,18,20,17,27,18,18,27,27,23,8,27,19,27,17,27,27,17,27,27,27,22,27,20,27,27,27,14,16,11,27,27,27,27,11,20,20,15,27,27,5,27,27,1,27,27,27,27,27,25,27,2,0,27,27,27,27,27,27,27,27,27,27,27,16,4,27,27,27,27,5,27,27,17,17,17,23,27,24,27,22,16,27,22,8,20,27,27,0,27,27,27,27,12,27,20,4,16,27,27,27,27,27,19,4,27,11,18,6,16,27,27,22,20,27,17,27,27,27,27,27,0,27,22,22,27,16,27,8,27,27,16,27,27,27,27,22,27,18,27,0,27,4,27,27,27,4,16,4,11,27,27,27,4,20,27,27,8,27,8,20,17,27,15,0,27,27,13,27,27,27,4,27,8,27,27,22,16,27,17,8,17,27,27,19,27,4,6,8,27,27,22,27,27,27,20,19,8,27,27,27,27,27,27,27,27,4,27,27,27,11,27,27,27,27,27,27,27,27,27,27,27,27,20,22,3,27,27,27,27,1,11,8,27,27,27,27,27,6,27,25,22,4,27,22,27,15,27,27,27,27,27,27,11,27,22,27,27,27,27,5,27,27,27,12,27,27,27,16,27,27,0,27,27,27,17,27,3,8,27,17,22,17,3,17,17,4,27,27,27,27,6,22,4,27,8,8,27,19,27,11,8,27,27,3,3,4,0,18,27,8,14,27,27,27,21,17,27,27,27,27,27,27,22,15,27,27,27,27,8,27,27,17,8,27,22,20,27,27,27,27,27,27,3,22,11,4,27,8,27,28,17,27,8,27,22,27,27,3,27,27,18,27,27,13,27,27,4,27,27,4,27,18,27,16,27,27,1,4,27,27,27,8,27,27,27,27,3,27,22,0,2,2,27,3,27,3,27,27,27,8,0,27,17,22,28,27,27,22,27,27,18,27,27,22,27,27,27,4,8,27,27,27,0,27,27,16,27,3,27,27,27,27,27,27,27,23,17,27,27,4,27,27,24,27,8,27,27,27,27,27,3,27,27,27,27,4,27,17,27,27,3,27,27,22,26,27,16,22,27,8,5,27,27,27,17,27,27,0,3,27,27,27,16,27,27,15,27,3,27,27,0,27,27,27,0,27,27,26,18,27,27,0,27,27,27,27,17,27,4,27,27,27,27,27,1,15,27,27,27,27,9,27,21,6,22,16,6,27,27,27,8,27,27,22,27,27,27,27,27,27,17,3,8,27,17,27,20,27,22,27,17,8,27,27,27,4,0,17,11,27,27,27,27,27,16,27,8,27,22,27,27,18,27,3,27,27,27,27,27,27,27,27,17,27,27,0,20,19,27,8,27,4,27,27,27,21,17,27,27,27,27,27,27,4,27,5,27,27,8,27,27,20,27,1,18,6,27,27,19,27,16,8,27,17,27,8,27,27,27,27,27,17,4,13,4,27,27,27,28,27,27,22,22,27,20,27,27,27,27,27,27,27,22,11,27,27,27,27,27,4,17,27,0,27,3,27,27,27,27,8,27,27,27,7,27,22,16,2,18,27,27,27,27,27,27,27,16,1,22,22,4,27,27,2,16,17,2,27,27,27,20,27,27,27,4,27,27,27,3,27,27,27,27,27,20,8,8,8,16,27,27,27,17,27,5,27,27,22,8,27,27,27,22,11,3,27,20,27,27,27,0,27,27,27,27,27,27,27,22,27,17,16,27,27,17,4,27,27,3,27,27,27,27,22,17,18,27,27,19,27,27,25,27,27,27,4,8,27,27,0,27,22,6,27,27,16,27,27,27,27,27,27,27,8,27,18,20,15,20,8,27,27,27,27,11,11,11,16,27,27,17,27,27,16,27,27,27,27,8,27,27,8,4,27,27,17,27,27,27,11,27,27,8,27,16,22,17,27,8,27,27,27,27,25,27,27,27,8,27,27,7,4,27,27,8,19,27,27,27,27,27,22,18,27,20,27,27,27,22,5,27,22,14,27,0,4,4,27,27,27,27,25,8,27,25,8,26,27,27,27,6,27,8,27,22,27,27,27,27,25,27,4,27,12,27,27,27,8,27,27,27,0,16,27,22,22,20,2,20,17,27,8,4,27,27,27,27,27,27,27,16,27,27,4,27,27,27,27,27,27,25,8,27,27,27,27,27,27,3,8,22,27,27,11,27,11,27,2,27,16,27,27,27,27,27,27,18,22,27,27,27,27,27,16,22,25,22,27,27,8,27,27,27,27,16,27,27,27,27,27,1,27,27,17,27,27,27,27,0,26,6,16,27,4,27,27,27,27,27,18,27,27,27,11,27,27,27,27,5,27,27,4,18,27,8,27,13,27,13,27,27,27,27,22,27,11,27,0,27,1,27,27,27,8,23,27,8,11,27,5,27,11,20,22,27,27,27,21,27,27,3,4,11,0,27,0,27,17,22,4,4,27,4,8,27,27,11,0,27,15,27,27,20,27,17,27,4,27,27,15,27,27,27,27,4,4,18,27,27,27,27,18,27,27,27,17,27,27,27,22,27,27,27,0,27,23,27,27,27,27,4,27,19,27,27,27,27,27,27,27,27,27,27,27,20,4,27,27,27,27,27,20,10,27,27,21,27,21,27,27,27,22,27,27,11,18,27,15,8,27,27,21,22,8,3,27,27,18,27,27,27,27,17,27,27,22,27,14,27,3,8,27,25,8,27,27,27,27,27,27,27,27,27,16,27,11,8,15,27,27,27,27,27,20,27,3,20,27,27,27,27,27,17,27,4,27,6,11,4,27,17,5,27,25,5,27,1,8,27,8,22,27,27,27,27,19,0,27,27,27,22,27,0,27,4,27,27,11,27,20,0,27,27,27,27,17,15,27,27,3,27,27,16,27,27,0,27,18,27,27,4,26,22,8,27,27,27,18,8,27,7,27,27,11,27,23,27,17,27,8,16,11,8,27,27,27,27,25,22,27,16,20,22,27,0,16,27,27,27,19,8,27,20,27,27,27,27,22,27,16,27,4,27,27,27,14,17,27,27,27,27,11,20,27,27,27,27,27,27,27,27,27,8,16,27,22,27,27,27,27,27,22,27,27,11,17,27,27,27,0,27,27,8,8,27,27,27,8,27,22,27,27,11,4,27,27,11,27,27,27,0,17,27,27,12,27,27,27,27,27,3,20,20,14,27,27,8,22,27,27,27,0,22,4,8,11,27,27,27,27,23,16,27,27,27,8,27,20,27,27,13,0,4,8,27,27,20,27,15,0,4,27,27,27,22,27,22,17,3,24,27,22,27,0,0,27,8,27,22,27,27,27,27,19,27,27,4,27,27,27,15,27,27,27,27,27,27,22,27,4,0,4,27,27,27,27,18,27,23,27,27,27,8,27,23,22,27,22,8,27,27,24,27,27,3,27,13,27,16,22,22,11,8,18,4,27,20,27,27,20,27,8,27,27,27,4,20,27,0,27,20,16,16,27,27,27,22,22,8,22,22,27,8,27,27,16,17,27,27,27,27,27,27,27,27,27,27,27,20,27,27,27,27,23,27,27,27,8,27,27,27,27,27,27,11,27,4,27,27,27,27,8,16,4,27,27,27,27,2,27,0,27,8,27,27,18,8,18,22,27,27,27,27,27,0,4,27,27,5,27,27,27,27,27,27,27,27,27,27,8,27,27,27,27,22,27,20,27,18,27,27,16,27,18,27,27,27,27,27,20,27,23,2,27,27,27,27,3,27,21,27,27,27,27,27,27,27,22,27,27,25,27,16,27,27,27,18,22,27,27,22,27,27,8,25,27,4,27,27,27,27,27,27,22,27,27,27,27,8,27,27,27,27,8,27,6,27,27,20,8,22,27,27,25,27,27,27,27,8,27,27,27,27,15,11,19,27,24,4,27,27,27,27,12,27,27,20,8,8,19,27,3,27,27,8,27,28,3,27,8,27,27,27,9,15,27,27,8,27,27,27,27,27,27,27,4,27,23,3,27,27,27,27,22,27,27,27,27,16,27,27,2,4,27,8,22,27,14,8,8,3,8,4,27,8,27,27,27,27,27,27,13,27,22,27,14,27,3,3,27,27,18,20,27,27,27,16,7,17,24,27,27,27,27,6,27,5,3,27,27,27,27,0,22,27,23,27,27,11,27,27,27,13,27,27,3,4,27,27,22,27,27,8,27,18,27,27,5,27,27,27,25,8,8,27,8,27,18,27,8,16,27,27,27,27,27,27,18,3,27,27,8,27,27,27,27,27,27,27,27,20,27,27,27,27,27,22,27,21,27,27,27,27,18,0,3,27,27,8,27,27,11,27,27,27,27,27,27,5,27,13,27,27,27,27,27,27,27,27,27,27,3,0,11,27,27,27,17,16,27,27,5,16,27,27,27,4,22,27,27,27,27,27,27,27,27,2,4,27,27,27,27,25,27,27,16,18,22,22,27,25,27,27,17,10,27,27,27,15,8,17,8,22,27,27,8,27,27,16,27,27,27,27,27,27,27,0,6,22,27,27,22,27,24,27,27,28,27,27,27,27,16,4,27,27,8,27,14,27,22,27,27,27,27,27,27,27,27,22,1,27,8,11,27,27,27,27,27,27,27,27,27,0,27,27,5,11,22,27,27,27,8,1,22,27,27,27,22,17,8,16,17,27,22,27,27,19,27,27,16,22,27,17,11,27,18,27,27,17,4,20,27,27,27,27,11,27,27,27,16,27,27,8,8,0,27,20,27,27,27,27,11,18,27,28,27,27,27,27,20,22,27,27,17,27,27,27,27,15,27,3,27,27,27,27,0,24,27,27,17,1,27,27,27,27,27,27,18,27,22,27,27,27,8,27,27,15,0,27,27,27,27,16,27,19,27,20,20,27,20,19,2,27,17,27,22,27,27,22,0,27,15,27,20,13,3,27,20,8,27,25,27,17,27,27,19,27,27,27,27,27,27,27,27,22,16,27,27,27,27,27,8,22,27,27,18,27,27,27,8,27,27,27,27,27,0,27,3,27,16,8,3,27,20,27,20,27,27,4,27,27,27,11,27,27,2,20,27,27,27,20,23,27,3,17,18,27,27,27,27,18,27,27,21,27,14,27,27,27,27,5,19,22,27,27,27,8,27,17,27,22,27,27,27,27,27,27,27,27,27,20,22,27,27,17,27,27,27,27,27,27,17,27,27,27,27,5,27,27,17,27,8,27,18,27,17,18,17,27,17,27,27,5,15,27,22,17,19,19,27,27,11,27,27,27,27,25,27,12,27,12,5,27,27,3,27,27,0,27,27,27,8,22,27,22,27,21,15,27,0,27,27,27,11,27,20,25,27,27,27,27,27,16,17,27,27,22,27,0,17,27,24,27,27,0,27,16,20,4,27,27,17,27,27,27,27,27,27,27,16,27,27,1,4,27,8,27,27,27,27,22,16,27,23,1,17,27,8,27,27,27,27,6,22,27,27,27,27,27,27,27,27,1,27,11,27,0,27,3,27,19,22,27,27,27,27,27,27,0,10,16,8,16,22,22,27,5,27,22,11,22,20,5,27,11,27,27,19,8,22,23,27,4,27,16,27,27,27,27,27,27,17,27,27,27,27,2,27,27,4,27,17,27,27,27,27,16,4,27,3,27,27,27,3,27,13,27,27,27,27,20,22,27,23,27,27,27,17,27,12,27,27,27,27,27,27,27,16,27,22,27,16,27,27,27,4,27,8,27,22,27,27,11,27,27,27,27,27,22,27,4,16,27,4,27,27,4,11,8,27,27,27,27,27,13,4,27,27,27,4,27,22,27,8,27,27,14,3,27,27,4,27,27,18,27,22,0,27,23,5,27,18,27,27,4,27,27,27,27,19,27,7,27,27,22,27,27,27,22,27,5,27,27,21,27,17,22,27,27,1,27,27,27,27,22,8,20,21,27,19,25,27,8,27,19,4,27,27,27,27,0,8,27,27,27,16,27,27,27,17,17,22,27,27,27,27,27,27,27,19,27,27,27,27,27,27,16,27,27,17,27,27,27,27,16,27,27,21,8,3,16,22,27,27,27,27,8,27,27,27,27,16,27,27,1,27,27,8,0,27,2,14,27,27,27,4,4,27,22,8,27,15,27,20,27,27,27,27,27,22,27,27,25,27,11,27,17,27,27,27,27,27,27,27,27,27,27,27,20,8,27,8,4,17,18,27,4,27,27,27,27,27,20,27,18,27,27,16,16,16,11,27,22,27,27,27,27,17,16,27,27,20,22,27,27,27,27,27,27,27,27,15,20,27,18,27,8,17,17,14,27,22,27,27,27,21,0,27,27,27,27,27,16,27,27,28,22,27,27,8,27,27,27,27,27,18,27,27,27,27,16,27,18,11,27,27,27,27,19,27,27,27,3,27,27,27,27,27,17,4,4,27,16,27,8,3,27,22,27,27,27,27,27,27,27,18,17,27,27,27,27,11,27,27,27,27,8,3,17,27,23,18,16,27,27,27,27,8,11,27,27,27,27,27,0,27,27,3,27,27,1,20,27,21,11,27,3,16,4,27,27,27,27,27,27,27,8,27,11,27,22,27,27,27,1,18,11,27,4,11,27,27,27,8,27,22,27,27,27,8,18,27,27,27,22,27,8,22,27,22,22,27,27,27,20,27,27,17,27,27,22,27,27,17,27,22,27,27,27,8,5,27,2,27,27,3,27,25,16,16,27,8,0,20,27,27,27,8,27,27,27,27,27,27,27,27,3,0,27,27,22,27,4,8,17,17,27,9,27,23,27,27,27,27,27,22,17,27,27,27,17,27,27,20,27,27,27,27,27,27,22,22,27,27,27,22,14,25,27,27,20,16,27,27,20,19,22,27,27,27,27,27,27,22,27,27,22,27,27,0,27,27,16,11,27,1,27,27,27,27,27,21,3,25,3,22,27,27,22,27,17,27,27,27,27,10,16,27,0,27,14,27,27,27,27,27,4,3,27,27,16,27,27,27,27,27,24,20,27,22,27,27,27,27,8,27,19,4,11,27,27,27,27,27,27,27,22,27,1,27,27,22,27,25,27,17,27,27,14,27,3,27,27,13,27,11,20,27,18,27,27,27,27,11,27,27,16,17,27,27,27,27,27,11,20,27,16,13,8,22,0,27,27,27,27,27,11,18,27,22,27,16,4,27,27,5,8,27,27,27,8,16,27,27,27,27,27],\"level_0\":[0,1,2,3,4,5,6,7,8,9,10,11,12,13,14,15,16,17,18,19,20,21,22,23,24,25,26,27,28,29,30,31,32,33,34,35,36,37,38,39,40,41,42,43,44,45,46,47,48,49,50,51,52,53,54,55,56,57,58,59,60,61,62,63,64,65,66,67,68,69,70,71,72,73,74,75,76,77,78,79,80,81,82,83,84,85,86,87,88,89,90,91,92,93,94,95,96,97,98,99,100,101,102,103,104,105,106,107,108,109,110,111,112,113,114,115,116,117,118,119,120,121,122,123,124,125,126,127,128,129,130,131,132,133,134,135,136,137,138,139,140,141,142,143,144,145,146,147,148,149,150,151,152,153,154,155,156,157,158,159,160,161,162,163,164,165,166,167,168,169,170,171,172,173,174,175,176,177,178,179,180,181,182,183,184,185,186,187,188,189,190,191,192,193,194,195,196,197,198,199,200,201,202,203,204,205,206,207,208,209,210,211,212,213,214,215,216,217,218,219,220,221,222,223,224,225,226,227,228,229,230,231,232,233,234,235,236,237,238,239,240,241,242,243,244,245,246,247,248,249,250,251,252,253,254,255,256,257,258,259,260,261,262,263,264,265,266,267,268,269,270,271,272,273,274,275,276,277,278,279,280,281,282,283,284,285,286,287,288,289,290,291,292,293,294,295,296,297,298,299,300,301,302,303,304,305,306,307,308,309,310,311,312,313,314,315,316,317,318,319,320,321,322,323,324,325,326,327,328,329,330,331,332,333,334,335,336,337,338,339,340,341,342,343,344,345,346,347,348,349,350,351,352,353,354,355,356,357,358,359,360,361,362,363,364,365,366,367,368,369,370,371,372,373,374,375,376,377,378,379,380,381,382,383,384,385,386,387,388,389,390,391,392,393,394,395,396,397,398,399,400,401,402,403,404,405,406,407,408,409,410,411,412,413,414,415,416,417,418,419,420,421,422,423,424,425,426,427,428,429,430,431,432,433,434,435,436,437,438,439,440,441,442,443,444,445,446,447,448,449,450,451,452,453,454,455,456,457,458,459,460,461,462,463,464,465,466,467,468,469,470,471,472,473,474,475,476,477,478,479,480,481,482,483,484,485,486,487,488,489,490,491,492,493,494,495,496,497,498,499,500,501,502,503,504,505,506,507,508,509,510,511,512,513,514,515,516,517,518,519,520,521,522,523,524,525,526,527,528,529,530,531,532,533,534,535,536,537,538,539,540,541,542,543,544,545,546,547,548,549,550,551,552,553,554,555,556,557,558,559,560,561,562,563,564,565,566,567,568,569,570,571,572,573,574,575,576,577,578,579,580,581,582,583,584,585,586,587,588,589,590,591,592,593,594,595,596,597,598,599,600,601,602,603,604,605,606,607,608,609,610,611,612,613,614,615,616,617,618,619,620,621,622,623,624,625,626,627,628,629,630,631,632,633,634,635,636,637,638,639,640,641,642,643,644,645,646,647,648,649,650,651,652,653,654,655,656,657,658,659,660,661,662,663,664,665,666,667,668,669,670,671,672,673,674,675,676,677,678,679,680,681,682,683,684,685,686,687,688,689,690,691,692,693,694,695,696,697,698,699,700,701,702,703,704,705,706,707,708,709,710,711,712,713,714,715,716,717,718,719,720,721,722,723,724,725,726,727,728,729,730,731,732,733,734,735,736,737,738,739,740,741,742,743,744,745,746,747,748,749,750,751,752,753,754,755,756,757,758,759,760,761,762,763,764,765,766,767,768,769,770,771,772,773,774,775,776,777,778,779,780,781,782,783,784,785,786,787,788,789,790,791,792,793,794,795,796,797,798,799,800,801,802,803,804,805,806,807,808,809,810,811,812,813,814,815,816,817,818,819,820,821,822,823,824,825,826,827,828,829,830,831,832,833,834,835,836,837,838,839,840,841,842,843,844,845,846,847,848,849,850,851,852,853,854,855,856,857,858,859,860,861,862,863,864,865,866,867,868,869,870,871,872,873,874,875,876,877,878,879,880,881,882,883,884,885,886,887,888,889,890,891,892,893,894,895,896,897,898,899,900,901,902,903,904,905,906,907,908,909,910,911,912,913,914,915,916,917,918,919,920,921,922,923,924,925,926,927,928,929,930,931,932,933,934,935,936,937,938,939,940,941,942,943,944,945,946,947,948,949,950,951,952,953,954,955,956,957,958,959,960,961,962,963,964,965,966,967,968,969,970,971,972,973,974,975,976,977,978,979,980,981,982,983,984,985,986,987,988,989,990,991,992,993,994,995,996,997,998,999,1000,1001,1002,1003,1004,1005,1006,1007,1008,1009,1010,1011,1012,1013,1014,1015,1016,1017,1018,1019,1020,1021,1022,1023,1024,1025,1026,1027,1028,1029,1030,1031,1032,1033,1034,1035,1036,1037,1038,1039,1040,1041,1042,1043,1044,1045,1046,1047,1048,1049,1050,1051,1052,1053,1054,1055,1056,1057,1058,1059,1060,1061,1062,1063,1064,1065,1066,1067,1068,1069,1070,1071,1072,1073,1074,1075,1076,1077,1078,1079,1080,1081,1082,1083,1084,1085,1086,1087,1088,1089,1090,1091,1092,1093,1094,1095,1096,1097,1098,1099,1100,1101,1102,1103,1104,1105,1106,1107,1108,1109,1110,1111,1112,1113,1114,1115,1116,1117,1118,1119,1120,1121,1122,1123,1124,1125,1126,1127,1128,1129,1130,1131,1132,1133,1134,1135,1136,1137,1138,1139,1140,1141,1142,1143,1144,1145,1146,1147,1148,1149,1150,1151,1152,1153,1154,1155,1156,1157,1158,1159,1160,1161,1162,1163,1164,1165,1166,1167,1168,1169,1170,1171,1172,1173,1174,1175,1176,1177,1178,1179,1180,1181,1182,1183,1184,1185,1186,1187,1188,1189,1190,1191,1192,1193,1194,1195,1196,1197,1198,1199,1200,1201,1202,1203,1204,1205,1206,1207,1208,1209,1210,1211,1212,1213,1214,1215,1216,1217,1218,1219,1220,1221,1222,1223,1224,1225,1226,1227,1228,1229,1230,1231,1232,1233,1234,1235,1236,1237,1238,1239,1240,1241,1242,1243,1244,1245,1246,1247,1248,1249,1250,1251,1252,1253,1254,1255,1256,1257,1258,1259,1260,1261,1262,1263,1264,1265,1266,1267,1268,1269,1270,1271,1272,1273,1274,1275,1276,1277,1278,1279,1280,1281,1282,1283,1284,1285,1286,1287,1288,1289,1290,1291,1292,1293,1294,1295,1296,1297,1298,1299,1300,1301,1302,1303,1304,1305,1306,1307,1308,1309,1310,1311,1312,1313,1314,1315,1316,1317,1318,1319,1320,1321,1322,1323,1324,1325,1326,1327,1328,1329,1330,1331,1332,1333,1334,1335,1336,1337,1338,1339,1340,1341,1342,1343,1344,1345,1346,1347,1348,1349,1350,1351,1352,1353,1354,1355,1356,1357,1358,1359,1360,1361,1362,1363,1364,1365,1366,1367,1368,1369,1370,1371,1372,1373,1374,1375,1376,1377,1378,1379,1380,1381,1382,1383,1384,1385,1386,1387,1388,1389,1390,1391,1392,1393,1394,1395,1396,1397,1398,1399,1400,1401,1402,1403,1404,1405,1406,1407,1408,1409,1410,1411,1412,1413,1414,1415,1416,1417,1418,1419,1420,1421,1422,1423,1424,1425,1426,1427,1428,1429,1430,1431,1432,1433,1434,1435,1436,1437,1438,1439,1440,1441,1442,1443,1444,1445,1446,1447,1448,1449,1450,1451,1452,1453,1454,1455,1456,1457,1458,1459,1460,1461,1462,1463,1464,1465,1466,1467,1468,1469,1470,1471,1472,1473,1474,1475,1476,1477,1478,1479,1480,1481,1482,1483,1484,1485,1486,1487,1488,1489,1490,1491,1492,1493,1494,1495,1496,1497,1498,1499,1500,1501,1502,1503,1504,1505,1506,1507,1508,1509,1510,1511,1512,1513,1514,1515,1516,1517,1518,1519,1520,1521,1522,1523,1524,1525,1526,1527,1528,1529,1530,1531,1532,1533,1534,1535,1536,1537,1538,1539,1540,1541,1542,1543,1544,1545,1546,1547,1548,1549,1550,1551,1552,1553,1554,1555,1556,1557,1558,1559,1560,1561,1562,1563,1564,1565,1566,1567,1568,1569,1570,1571,1572,1573,1574,1575,1576,1577,1578,1579,1580,1581,1582,1583,1584,1585,1586,1587,1588,1589,1590,1591,1592,1593,1594,1595,1596,1597,1598,1599,1600,1601,1602,1603,1604,1605,1606,1607,1608,1609,1610,1611,1612,1613,1614,1615,1616,1617,1618,1619,1620,1621,1622,1623,1624,1625,1626,1627,1628,1629,1630,1631,1632,1633,1634,1635,1636,1637,1638,1639,1640,1641,1642,1643,1644,1645,1646,1647,1648,1649,1650,1651,1652,1653,1654,1655,1656,1657,1658,1659,1660,1661,1662,1663,1664,1665,1666,1667,1668,1669,1670,1671,1672,1673,1674,1675,1676,1677,1678,1679,1680,1681,1682,1683,1684,1685,1686,1687,1688,1689,1690,1691,1692,1693,1694,1695,1696,1697,1698,1699,1700,1701,1702,1703,1704,1705,1706,1707,1708,1709,1710,1711,1712,1713,1714,1715,1716,1717,1718,1719,1720,1721,1722,1723,1724,1725,1726,1727,1728,1729,1730,1731,1732,1733,1734,1735,1736,1737,1738,1739,1740,1741,1742,1743,1744,1745,1746,1747,1748,1749,1750,1751,1752,1753,1754,1755,1756,1757,1758,1759,1760,1761,1762,1763,1764,1765,1766,1767,1768,1769,1770,1771,1772,1773,1774,1775,1776,1777,1778,1779,1780,1781,1782,1783,1784,1785,1786,1787,1788,1789,1790,1791,1792,1793,1794,1795,1796,1797,1798,1799,1800,1801,1802,1803,1804,1805,1806,1807,1808,1809,1810,1811,1812,1813,1814,1815,1816,1817,1818,1819,1820,1821,1822,1823,1824,1825,1826,1827,1828,1829,1830,1831,1832,1833,1834,1835,1836,1837,1838,1839,1840,1841,1842,1843,1844,1845,1846,1847,1848,1849,1850,1851,1852,1853,1854,1855,1856,1857,1858,1859,1860,1861,1862,1863,1864,1865,1866,1867,1868,1869,1870,1871,1872,1873,1874,1875,1876,1877,1878,1879,1880,1881,1882,1883,1884,1885,1886,1887,1888,1889,1890,1891,1892,1893,1894,1895,1896,1897,1898,1899,1900,1901,1902,1903,1904,1905,1906,1907,1908,1909,1910,1911,1912,1913,1914,1915,1916,1917,1918,1919,1920,1921,1922,1923,1924,1925,1926,1927,1928,1929,1930,1931,1932,1933,1934,1935,1936,1937,1938,1939,1940,1941,1942,1943,1944,1945,1946,1947,1948,1949,1950,1951,1952,1953,1954,1955,1956,1957,1958,1959,1960,1961,1962,1963,1964,1965,1966,1967,1968,1969,1970,1971,1972,1973,1974,1975,1976,1977,1978,1979,1980,1981,1982,1983,1984,1985,1986,1987,1988,1989,1990,1991,1992,1993,1994,1995,1996,1997,1998,1999,2000,2001,2002,2003,2004,2005,2006,2007,2008,2009,2010,2011,2012,2013,2014,2015,2016,2017,2018,2019,2020,2021,2022,2023,2024,2025,2026,2027,2028,2029,2030,2031,2032,2033,2034,2035,2036,2037,2038,2039,2040,2041,2042,2043,2044,2045,2046,2047,2048,2049,2050,2051,2052,2053,2054,2055,2056,2057,2058,2059,2060,2061,2062,2063,2064,2065,2066,2067,2068,2069,2070,2071,2072,2073,2074,2075,2076,2077,2078,2079,2080,2081,2082,2083,2084,2085,2086,2087,2088,2089,2090,2091,2092,2093,2094,2095,2096,2097,2098,2099,2100,2101,2102,2103,2104,2105,2106,2107,2108,2109,2110,2111,2112,2113,2114,2115,2116,2117,2118,2119,2120,2121,2122,2123,2124,2125,2126,2127,2128,2129,2130,2131,2132,2133,2134,2135,2136,2137,2138,2139,2140,2141,2142,2143,2144,2145,2146,2147,2148,2149,2150,2151,2152,2153,2154,2155,2156,2157,2158,2159,2160,2161,2162,2163,2164,2165,2166,2167,2168,2169,2170,2171,2172,2173,2174,2175,2176,2177,2178,2179,2180,2181,2182,2183,2184,2185,2186,2187,2188,2189,2190,2191,2192,2193,2194,2195,2196,2197,2198,2199,2200,2201,2202,2203,2204,2205,2206,2207,2208,2209,2210,2211,2212,2213,2214,2215,2216,2217,2218,2219,2220,2221,2222,2223,2224,2225,2226,2227,2228,2229,2230,2231,2232,2233,2234,2235,2236,2237,2238,2239,2240,2241,2242,2243,2244,2245,2246,2247,2248,2249,2250,2251,2252,2253,2254,2255,2256,2257,2258,2259,2260,2261,2262,2263,2264,2265,2266,2267,2268,2269,2270,2271,2272,2273,2274,2275,2276,2277,2278,2279,2280,2281,2282,2283,2284,2285,2286,2287,2288,2289,2290,2291,2292,2293,2294,2295,2296,2297,2298,2299,2300,2301,2302,2303,2304,2305,2306,2307,2308,2309,2310,2311,2312,2313,2314,2315,2316,2317,2318,2319,2320,2321,2322,2323,2324,2325,2326,2327,2328,2329,2330,2331,2332,2333,2334,2335,2336,2337,2338,2339,2340,2341,2342,2343,2344,2345,2346,2347,2348,2349,2350,2351,2352,2353,2354,2355,2356,2357,2358,2359,2360,2361,2362,2363,2364,2365,2366,2367,2368,2369,2370,2371,2372,2373,2374,2375,2376,2377,2378,2379,2380,2381,2382,2383,2384,2385,2386,2387,2388,2389,2390,2391,2392,2393,2394,2395,2396,2397,2398,2399,2400,2401,2402,2403,2404,2405,2406,2407,2408,2409,2410,2411,2412,2413,2414,2415,2416,2417,2418,2419,2420,2421,2422,2423,2424,2425,2426,2427,2428,2429,2430,2431,2432,2433,2434,2435,2436,2437,2438,2439,2440,2441,2442,2443,2444,2445,2446,2447,2448,2449,2450,2451,2452,2453,2454,2455,2456,2457,2458,2459,2460,2461,2462,2463,2464,2465,2466,2467,2468,2469,2470,2471,2472,2473,2474,2475,2476,2477,2478,2479,2480,2481,2482,2483,2484,2485,2486,2487,2488,2489,2490,2491,2492,2493,2494,2495,2496,2497,2498,2499,2500,2501,2502,2503,2504,2505,2506,2507,2508,2509,2510,2511,2512,2513,2514,2515,2516,2517,2518,2519,2520,2521,2522,2523,2524,2525,2526,2527,2528,2529,2530,2531,2532,2533,2534,2535,2536,2537,2538,2539,2540,2541,2542,2543,2544,2545,2546,2547,2548,2549,2550,2551,2552,2553,2554,2555,2556,2557,2558,2559,2560,2561,2562,2563,2564,2565,2566,2567,2568,2569,2570,2571,2572,2573,2574,2575,2576,2577,2578,2579,2580,2581,2582,2583,2584,2585,2586,2587,2588,2589,2590,2591,2592,2593,2594,2595,2596,2597,2598,2599,2600,2601,2602,2603,2604,2605,2606,2607,2608,2609,2610,2611,2612,2613,2614,2615,2616,2617,2618,2619,2620,2621,2622,2623,2624,2625,2626,2627,2628,2629,2630,2631,2632,2633,2634,2635,2636,2637,2638,2639,2640,2641,2642,2643,2644,2645,2646,2647,2648,2649,2650,2651,2652,2653,2654,2655,2656,2657,2658,2659,2660,2661,2662,2663,2664,2665,2666,2667,2668,2669,2670,2671,2672,2673,2674,2675,2676,2677,2678,2679,2680,2681,2682,2683,2684,2685,2686,2687,2688,2689,2690,2691,2692,2693,2694,2695,2696,2697,2698,2699,2700,2701,2702,2703,2704,2705,2706,2707,2708,2709,2710,2711,2712,2713,2714,2715,2716,2717,2718,2719,2720,2721,2722,2723,2724,2725,2726,2727,2728,2729,2730,2731,2732,2733,2734,2735,2736,2737,2738,2739,2740,2741,2742,2743,2744,2745,2746,2747,2748,2749,2750,2751,2752,2753,2754,2755,2756,2757,2758,2759,2760,2761,2762,2763,2764,2765,2766,2767,2768,2769,2770,2771,2772,2773,2774,2775,2776,2777,2778,2779,2780,2781,2782,2783,2784,2785,2786,2787,2788,2789,2790,2791,2792,2793,2794,2795,2796,2797,2798,2799,2800,2801,2802,2803,2804,2805,2806,2807,2808,2809,2810,2811,2812,2813,2814,2815,2816,2817,2818,2819,2820,2821,2822,2823,2824,2825,2826,2827,2828,2829,2830,2831,2832,2833,2834,2835,2836,2837,2838,2839,2840,2841,2842,2843,2844,2845,2846,2847,2848,2849,2850,2851,2852,2853,2854,2855,2856,2857,2858,2859,2860,2861,2862,2863,2864,2865,2866,2867,2868,2869,2870,2871,2872,2873,2874,2875,2876,2877,2878,2879,2880,2881,2882,2883,2884,2885,2886,2887,2888,2889,2890,2891,2892,2893,2894,2895,2896,2897,2898,2899,2900,2901,2902,2903,2904,2905,2906,2907,2908,2909,2910,2911,2912,2913,2914,2915,2916,2917,2918,2919,2920,2921,2922,2923,2924,2925,2926,2927,2928,2929,2930,2931,2932,2933,2934,2935,2936,2937,2938,2939,2940,2941,2942,2943,2944,2945,2946,2947,2948,2949,2950,2951,2952,2953,2954,2955,2956,2957,2958,2959,2960,2961,2962,2963,2964,2965,2966,2967,2968,2969,2970,2971,2972,2973,2974,2975,2976,2977,2978,2979,2980,2981,2982,2983,2984,2985,2986,2987,2988,2989,2990,2991,2992,2993,2994,2995,2996,2997,2998,2999,3000,3001,3002,3003,3004,3005,3006,3007,3008,3009,3010,3011,3012,3013,3014,3015,3016,3017,3018,3019,3020,3021,3022,3023,3024,3025,3026,3027,3028,3029,3030,3031,3032,3033,3034,3035,3036,3037,3038,3039,3040,3041,3042,3043,3044,3045,3046,3047,3048,3049,3050,3051,3052,3053,3054,3055,3056,3057,3058,3059,3060,3061,3062,3063,3064,3065,3066,3067,3068,3069,3070,3071,3072,3073,3074,3075,3076,3077,3078,3079,3080,3081,3082,3083,3084,3085,3086,3087,3088,3089,3090,3091,3092,3093,3094,3095,3096,3097,3098,3099,3100,3101,3102,3103,3104,3105,3106,3107,3108,3109,3110,3111,3112,3113,3114,3115,3116,3117,3118,3119,3120,3121,3122,3123,3124,3125,3126,3127,3128,3129,3130,3131,3132,3133,3134,3135,3136,3137,3138,3139,3140,3141,3142,3143,3144,3145,3146,3147,3148,3149,3150,3151,3152,3153,3154,3155,3156,3157,3158,3159,3160,3161,3162,3163,3164,3165,3166,3167,3168,3169,3170,3171,3172,3173,3174,3175,3176,3177,3178,3179,3180,3181,3182,3183,3184,3185,3186,3187,3188,3189,3190,3191,3192,3193,3194,3195,3196,3197,3198,3199,3200,3201,3202,3203,3204,3205,3206,3207,3208,3209,3210,3211,3212,3213,3214,3215,3216,3217,3218,3219,3220,3221,3222,3223,3224,3225,3226,3227,3228,3229,3230,3231,3232,3233,3234,3235,3236,3237,3238,3239,3240,3241,3242,3243,3244,3245,3246,3247,3248,3249,3250,3251,3252,3253,3254,3255,3256,3257,3258,3259,3260,3261,3262,3263,3264,3265,3266,3267,3268,3269,3270,3271,3272,3273,3274,3275,3276,3277,3278,3279,3280,3281,3282,3283,3284,3285,3286,3287,3288,3289,3290,3291,3292,3293,3294,3295,3296,3297,3298,3299,3300,3301,3302,3303,3304,3305,3306,3307,3308,3309,3310,3311,3312,3313,3314,3315,3316,3317,3318,3319,3320,3321,3322,3323,3324,3325,3326,3327,3328,3329,3330,3331,3332,3333,3334,3335,3336,3337,3338,3339,3340,3341,3342,3343,3344,3345,3346,3347,3348,3349,3350,3351,3352,3353,3354,3355,3356,3357,3358,3359,3360,3361,3362,3363,3364,3365,3366,3367,3368,3369,3370,3371,3372,3373,3374,3375,3376,3377,3378,3379,3380,3381,3382,3383,3384,3385,3386,3387,3388,3389,3390,3391,3392,3393,3394,3395,3396,3397,3398,3399,3400,3401,3402,3403,3404,3405,3406,3407,3408,3409,3410,3411,3412,3413,3414,3415,3416,3417,3418,3419,3420,3421,3422,3423,3424,3425,3426,3427,3428,3429,3430,3431,3432,3433,3434,3435,3436,3437,3438,3439,3440,3441,3442,3443,3444,3445,3446,3447,3448,3449,3450,3451,3452,3453,3454,3455,3456,3457,3458,3459,3460,3461,3462,3463,3464,3465,3466,3467,3468,3469,3470,3471,3472,3473,3474,3475,3476,3477,3478,3479,3480,3481,3482,3483,3484,3485,3486,3487,3488,3489,3490,3491,3492,3493,3494,3495,3496,3497,3498,3499,3500,3501,3502,3503,3504,3505,3506,3507,3508,3509,3510,3511,3512,3513,3514,3515,3516,3517,3518,3519,3520,3521,3522,3523,3524,3525,3526,3527,3528,3529,3530,3531,3532,3533,3534,3535,3536,3537,3538,3539,3540,3541,3542,3543,3544,3545,3546,3547,3548,3549,3550,3551,3552,3553,3554,3555,3556,3557,3558,3559,3560,3561,3562,3563,3564,3565,3566,3567,3568,3569,3570,3571,3572,3573,3574,3575,3576,3577,3578,3579,3580,3581,3582,3583,3584,3585,3586,3587,3588,3589,3590,3591,3592,3593,3594,3595,3596,3597,3598,3599,3600,3601,3602,3603,3604,3605,3606,3607,3608,3609,3610,3611,3612,3613,3614,3615,3616,3617,3618,3619,3620,3621,3622,3623,3624,3625,3626,3627,3628,3629,3630,3631,3632,3633,3634,3635,3636,3637,3638,3639,3640,3641,3642,3643,3644,3645,3646,3647,3648,3649,3650,3651,3652,3653,3654,3655,3656,3657,3658,3659,3660,3661,3662,3663,3664,3665,3666,3667,3668,3669,3670,3671,3672,3673,3674,3675,3676,3677,3678,3679,3680,3681,3682,3683,3684,3685,3686,3687,3688,3689,3690,3691,3692,3693,3694,3695,3696,3697,3698,3699,3700,3701,3702,3703,3704,3705,3706,3707,3708,3709,3710,3711,3712,3713,3714,3715,3716,3717,3718,3719,3720,3721,3722,3723,3724,3725,3726,3727,3728,3729,3730,3731,3732,3733,3734,3735,3736,3737,3738,3739,3740,3741,3742,3743,3744,3745,3746,3747,3748,3749,3750,3751,3752,3753,3754,3755,3756,3757,3758,3759,3760,3761,3762,3763,3764,3765,3766,3767,3768,3769,3770,3771,3772,3773,3774,3775,3776,3777,3778,3779,3780,3781,3782,3783,3784,3785,3786,3787,3788,3789,3790,3791,3792,3793,3794,3795,3796,3797,3798,3799,3800,3801,3802,3803,3804,3805,3806,3807,3808,3809,3810,3811,3812,3813,3814,3815,3816,3817,3818,3819,3820,3821,3822,3823,3824,3825,3826,3827,3828,3829,3830,3831,3832,3833,3834,3835,3836,3837,3838,3839,3840,3841,3842,3843,3844,3845,3846,3847,3848,3849,3850,3851,3852,3853,3854,3855,3856,3857,3858,3859,3860,3861,3862,3863,3864,3865,3866,3867,3868,3869,3870,3871,3872,3873,3874,3875,3876,3877,3878,3879,3880,3881,3882,3883,3884,3885,3886,3887,3888,3889,3890,3891,3892,3893,3894,3895,3896,3897,3898,3899,3900,3901,3902,3903,3904,3905,3906,3907,3908,3909,3910,3911,3912,3913,3914,3915,3916,3917,3918,3919,3920,3921,3922,3923,3924,3925,3926,3927,3928,3929,3930,3931,3932,3933,3934,3935,3936,3937,3938,3939,3940,3941,3942,3943,3944,3945,3946,3947,3948,3949,3950,3951,3952,3953,3954,3955,3956,3957,3958,3959,3960,3961,3962,3963,3964,3965,3966,3967,3968,3969,3970,3971,3972,3973,3974,3975,3976,3977,3978,3979,3980,3981,3982,3983,3984,3985,3986,3987,3988,3989,3990,3991,3992,3993,3994,3995,3996,3997,3998,3999,4000,4001,4002,4003,4004,4005,4006,4007,4008,4009,4010,4011,4012,4013,4014,4015,4016,4017,4018,4019,4020,4021,4022,4023,4024,4025,4026,4027,4028,4029,4030,4031,4032,4033,4034,4035,4036,4037,4038,4039,4040,4041,4042,4043,4044,4045,4046,4047,4048,4049,4050,4051,4052,4053,4054,4055,4056,4057,4058,4059,4060,4061,4062,4063,4064,4065,4066,4067,4068,4069,4070,4071,4072,4073,4074,4075,4076,4077,4078,4079,4080,4081,4082,4083,4084,4085,4086,4087,4088,4089,4090,4091,4092,4093,4094,4095,4096,4097,4098,4099,4100,4101,4102,4103,4104,4105,4106,4107,4108,4109,4110,4111,4112,4113,4114,4115,4116,4117,4118,4119,4120,4121,4122,4123,4124,4125,4126,4127,4128,4129,4130,4131,4132,4133,4134,4135,4136,4137,4138,4139,4140,4141,4142,4143,4144,4145,4146,4147,4148,4149,4150,4151,4152,4153,4154,4155,4156,4157,4158,4159,4160,4161,4162,4163,4164,4165,4166,4167,4168,4169,4170,4171,4172,4173,4174,4175,4176,4177,4178,4179,4180,4181,4182,4183,4184,4185,4186,4187,4188,4189,4190,4191,4192,4193,4194,4195,4196,4197,4198,4199,4200,4201,4202,4203,4204,4205,4206,4207,4208,4209,4210,4211,4212,4213,4214,4215,4216,4217,4218,4219,4220,4221,4222,4223,4224,4225,4226,4227,4228,4229,4230,4231,4232,4233,4234,4235,4236,4237,4238,4239,4240,4241,4242,4243,4244,4245,4246,4247,4248,4249,4250,4251,4252,4253,4254,4255,4256,4257,4258,4259,4260,4261,4262,4263,4264,4265,4266,4267,4268,4269,4270,4271,4272,4273,4274,4275,4276,4277,4278,4279,4280,4281,4282,4283,4284,4285,4286,4287,4288,4289,4290,4291,4292,4293,4294,4295,4296,4297,4298,4299,4300,4301,4302,4303,4304,4305,4306,4307,4308,4309,4310,4311,4312,4313,4314,4315,4316,4317,4318,4319,4320,4321,4322,4323,4324,4325,4326,4327,4328,4329,4330,4331,4332,4333,4334,4335,4336,4337,4338,4339,4340,4341,4342,4343,4344,4345,4346,4347,4348,4349,4350,4351,4352,4353,4354,4355,4356,4357,4358,4359,4360,4361,4362,4363,4364,4365,4366,4367,4368,4369,4370,4371,4372,4373,4374,4375,4376,4377,4378,4379,4380,4381,4382,4383,4384,4385,4386,4387,4388,4389,4390,4391,4392,4393,4394,4395,4396,4397,4398,4399,4400,4401,4402,4403,4404,4405,4406,4407,4408,4409,4410,4411,4412,4413,4414,4415,4416,4417,4418,4419,4420,4421,4422,4423,4424,4425,4426,4427,4428,4429,4430,4431,4432,4433,4434,4435,4436,4437,4438,4439,4440,4441,4442,4443,4444,4445,4446,4447,4448,4449,4450,4451,4452,4453,4454,4455,4456,4457,4458,4459,4460,4461,4462,4463,4464,4465,4466,4467,4468,4469,4470,4471,4472,4473,4474,4475,4476,4477,4478,4479,4480,4481,4482,4483,4484,4485,4486,4487,4488,4489,4490,4491,4492,4493,4494,4495,4496,4497,4498,4499,4500,4501,4502,4503,4504,4505,4506,4507,4508,4509,4510,4511,4512,4513,4514,4515,4516,4517,4518,4519,4520,4521,4522,4523,4524,4525,4526,4527,4528,4529,4530,4531,4532,4533,4534,4535,4536,4537,4538,4539,4540,4541,4542,4543,4544,4545,4546,4547,4548,4549,4550,4551,4552,4553,4554,4555,4556,4557,4558,4559,4560,4561,4562,4563,4564,4565,4566,4567,4568,4569,4570,4571,4572,4573,4574,4575,4576,4577,4578,4579,4580,4581,4582,4583,4584,4585,4586,4587,4588,4589,4590,4591,4592,4593,4594,4595,4596,4597,4598,4599,4600,4601,4602,4603,4604,4605,4606,4607,4608,4609,4610,4611,4612,4613,4614,4615,4616,4617,4618,4619,4620,4621,4622,4623,4624,4625,4626,4627,4628,4629,4630,4631,4632,4633,4634,4635,4636,4637,4638,4639,4640,4641,4642,4643,4644,4645,4646,4647,4648,4649,4650,4651,4652,4653,4654,4655,4656,4657,4658,4659,4660,4661,4662,4663,4664,4665,4666,4667,4668,4669,4670,4671,4672,4673,4674,4675,4676,4677,4678,4679,4680,4681,4682,4683,4684,4685,4686,4687,4688,4689,4690,4691,4692,4693,4694,4695,4696,4697,4698,4699,4700,4701,4702,4703,4704,4705,4706,4707,4708,4709,4710,4711,4712,4713,4714,4715,4716,4717,4718,4719,4720,4721,4722,4723,4724,4725,4726,4727,4728,4729,4730,4731,4732,4733,4734,4735,4736,4737,4738,4739,4740,4741,4742,4743,4744,4745,4746,4747,4748,4749,4750,4751,4752,4753,4754,4755,4756,4757,4758,4759,4760,4761,4762,4763,4764,4765,4766,4767,4768,4769,4770,4771,4772,4773,4774,4775,4776,4777,4778,4779,4780,4781,4782,4783,4784,4785,4786,4787,4788,4789,4790,4791,4792,4793,4794,4795,4796,4797,4798,4799,4800,4801,4802,4803,4804,4805,4806,4807,4808,4809,4810,4811,4812,4813,4814,4815,4816,4817,4818,4819,4820,4821,4822,4823,4824,4825,4826,4827,4828,4829,4830,4831,4832,4833,4834,4835,4836,4837,4838,4839,4840,4841,4842,4843,4844,4845,4846,4847,4848,4849,4850,4851,4852,4853],\"x\":{\"__ndarray__\":\"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\",\"dtype\":\"float32\",\"order\":\"little\",\"shape\":[4854]},\"y\":{\"__ndarray__\":\"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\",\"dtype\":\"float32\",\"order\":\"little\",\"shape\":[4854]}},\"selected\":{\"id\":\"1161\"},\"selection_policy\":{\"id\":\"1160\"}},\"id\":\"1104\",\"type\":\"ColumnDataSource\"},{\"attributes\":{\"axis\":{\"id\":\"1114\"},\"ticker\":null,\"visible\":false},\"id\":\"1117\",\"type\":\"Grid\"},{\"attributes\":{\"fill_alpha\":{\"value\":0.1},\"fill_color\":{\"field\":\"color\"},\"line_alpha\":{\"value\":0.1},\"line_color\":{\"field\":\"color\"},\"size\":{\"units\":\"screen\",\"value\":5},\"x\":{\"field\":\"x\"},\"y\":{\"field\":\"y\"}},\"id\":\"1140\",\"type\":\"Circle\"},{\"attributes\":{\"formatter\":{\"id\":\"1157\"},\"ticker\":{\"id\":\"1119\"},\"visible\":false},\"id\":\"1118\",\"type\":\"LinearAxis\"},{\"attributes\":{},\"id\":\"1112\",\"type\":\"LinearScale\"},{\"attributes\":{},\"id\":\"1106\",\"type\":\"DataRange1d\"},{\"attributes\":{\"text\":\"\"},\"id\":\"1153\",\"type\":\"Title\"},{\"attributes\":{},\"id\":\"1115\",\"type\":\"BasicTicker\"},{\"attributes\":{\"active_drag\":\"auto\",\"active_inspect\":\"auto\",\"active_multi\":null,\"active_scroll\":\"auto\",\"active_tap\":\"auto\",\"tools\":[{\"id\":\"1122\"},{\"id\":\"1123\"},{\"id\":\"1124\"},{\"id\":\"1125\"},{\"id\":\"1126\"},{\"id\":\"1127\"},{\"id\":\"1129\"}]},\"id\":\"1130\",\"type\":\"Toolbar\"},{\"attributes\":{},\"id\":\"1161\",\"type\":\"Selection\"},{\"attributes\":{\"overlay\":{\"id\":\"1128\"}},\"id\":\"1124\",\"type\":\"BoxZoomTool\"},{\"attributes\":{},\"id\":\"1119\",\"type\":\"BasicTicker\"},{\"attributes\":{},\"id\":\"1157\",\"type\":\"BasicTickFormatter\"},{\"attributes\":{},\"id\":\"1110\",\"type\":\"LinearScale\"}],\"root_ids\":[\"1105\"]},\"title\":\"Bokeh Application\",\"version\":\"2.1.0\"}};\n",
       "  var render_items = [{\"docid\":\"525897b4-c174-49b0-a524-1700445de6c9\",\"root_ids\":[\"1105\"],\"roots\":{\"1105\":\"8dd1fe20-098b-4755-82d8-7b0e9666ff6c\"}}];\n",
       "  root.Bokeh.embed.embed_items_notebook(docs_json, render_items);\n",
       "\n",
       "  }\n",
       "  if (root.Bokeh !== undefined) {\n",
       "    embed_document(root);\n",
       "  } else {\n",
       "    var attempts = 0;\n",
       "    var timer = setInterval(function(root) {\n",
       "      if (root.Bokeh !== undefined) {\n",
       "        clearInterval(timer);\n",
       "        embed_document(root);\n",
       "      } else {\n",
       "        attempts++;\n",
       "        if (attempts > 100) {\n",
       "          clearInterval(timer);\n",
       "          console.log(\"Bokeh: ERROR: Unable to run BokehJS code because BokehJS library is missing\");\n",
       "        }\n",
       "      }\n",
       "    }, 10, root)\n",
       "  }\n",
       "})(window);"
      ],
      "application/vnd.bokehjs_exec.v0+json": ""
     },
     "metadata": {
      "application/vnd.bokehjs_exec.v0+json": {
       "id": "1105"
      }
     },
     "output_type": "display_data"
    }
   ],
   "source": [
    "train_mapper = umap.UMAP().fit(train_embed)\n",
    "hover_data = pd.DataFrame({'index':np.arange(4854),\n",
    "                           'label':train_labels})\n",
    "hover_data['item'] = hover_data.label.map(umap_map)\n",
    "\n",
    "p = umap.plot.interactive(train_mapper, labels=train_labels, hover_data=hover_data,point_size=5)\n",
    "output_notebook()\n",
    "show(p)"
   ]
  },
  {
   "cell_type": "code",
   "execution_count": null,
   "metadata": {},
   "outputs": [],
   "source": []
  }
 ],
 "metadata": {
  "colab": {
   "name": "ProtCNN_EmbeddingCopy.ipynb",
   "provenance": []
  },
  "kernelspec": {
   "display_name": "Python 3",
   "language": "python",
   "name": "python3"
  },
  "language_info": {
   "codemirror_mode": {
    "name": "ipython",
    "version": 3
   },
   "file_extension": ".py",
   "mimetype": "text/x-python",
   "name": "python",
   "nbconvert_exporter": "python",
   "pygments_lexer": "ipython3",
   "version": "3.7.6"
  }
 },
 "nbformat": 4,
 "nbformat_minor": 4
}
