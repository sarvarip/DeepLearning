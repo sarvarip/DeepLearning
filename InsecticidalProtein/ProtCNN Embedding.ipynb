{
 "cells": [
  {
   "cell_type": "markdown",
   "metadata": {
    "colab_type": "text",
    "id": "JxM2najJOoEE"
   },
   "source": [
    "## Pfam seed random split"
   ]
  },
  {
   "cell_type": "code",
   "execution_count": 1,
   "metadata": {
    "colab": {
     "base_uri": "https://localhost:8080/",
     "height": 733
    },
    "colab_type": "code",
    "executionInfo": {
     "elapsed": 16952,
     "status": "ok",
     "timestamp": 1590653836758,
     "user": {
      "displayName": "Peter Sarvari",
      "photoUrl": "",
      "userId": "13383104539992491852"
     },
     "user_tz": 420
    },
    "id": "8QF5fVSdGnZ5",
    "outputId": "1c6792d8-f29c-4546-f38a-462afc833c4a"
   },
   "outputs": [
    {
     "name": "stdout",
     "output_type": "stream",
     "text": [
      "Tensorflow version 2.2.0\n"
     ]
    },
    {
     "data": {
      "text/plain": [
       "True"
      ]
     },
     "execution_count": 1,
     "metadata": {},
     "output_type": "execute_result"
    }
   ],
   "source": [
    "import tensorflow as tf\n",
    "print(\"Tensorflow version \" + tf.__version__)\n",
    "\n",
    "tf.test.is_built_with_cuda()"
   ]
  },
  {
   "cell_type": "code",
   "execution_count": 2,
   "metadata": {},
   "outputs": [
    {
     "name": "stdout",
     "output_type": "stream",
     "text": [
      "WARNING:tensorflow:From <ipython-input-2-78f884b5c1a9>:1: is_gpu_available (from tensorflow.python.framework.test_util) is deprecated and will be removed in a future version.\n",
      "Instructions for updating:\n",
      "Use `tf.config.list_physical_devices('GPU')` instead.\n"
     ]
    },
    {
     "data": {
      "text/plain": [
       "True"
      ]
     },
     "execution_count": 2,
     "metadata": {},
     "output_type": "execute_result"
    }
   ],
   "source": [
    "tf.test.is_gpu_available(cuda_only=False, min_cuda_compute_capability=None)"
   ]
  },
  {
   "cell_type": "code",
   "execution_count": 3,
   "metadata": {},
   "outputs": [
    {
     "data": {
      "text/plain": [
       "[PhysicalDevice(name='/physical_device:GPU:0', device_type='GPU')]"
      ]
     },
     "execution_count": 3,
     "metadata": {},
     "output_type": "execute_result"
    }
   ],
   "source": [
    "tf.config.experimental.list_physical_devices('GPU')"
   ]
  },
  {
   "cell_type": "code",
   "execution_count": 4,
   "metadata": {
    "_kg_hide-input": false,
    "colab": {},
    "colab_type": "code",
    "id": "l1HJp53SOoEI"
   },
   "outputs": [],
   "source": [
    "import matplotlib.pyplot as plt # plotting\n",
    "import numpy as np # linear algebra\n",
    "import os # accessing directory structure\n",
    "import pandas as pd # data processing, CSV file I/O (e.g. pd.read_csv)\n",
    "import seaborn\n",
    "import gc\n",
    "import sklearn\n",
    "import tensorflow as tf\n",
    "from tensorflow.keras.preprocessing.text import Tokenizer\n",
    "from tensorflow.keras.preprocessing.sequence import pad_sequences"
   ]
  },
  {
   "cell_type": "code",
   "execution_count": 5,
   "metadata": {
    "_kg_hide-input": false,
    "colab": {
     "base_uri": "https://localhost:8080/",
     "height": 33
    },
    "colab_type": "code",
    "executionInfo": {
     "elapsed": 396,
     "status": "ok",
     "timestamp": 1590713495843,
     "user": {
      "displayName": "Peter Sarvari",
      "photoUrl": "",
      "userId": "13383104539992491852"
     },
     "user_tz": 420
    },
    "id": "hZ-YTa2kOoEZ",
    "outputId": "b644d2b1-0357-4950-9967-8657f4e391a9"
   },
   "outputs": [
    {
     "name": "stdout",
     "output_type": "stream",
     "text": [
      "Available dataset partitions:  ['dev', 'model.h5', 'model.json', 'random_split', 'test', 'train']\n"
     ]
    }
   ],
   "source": [
    "data_partitions_dirpath = './random_split'\n",
    "print('Available dataset partitions: ', os.listdir(data_partitions_dirpath))"
   ]
  },
  {
   "cell_type": "markdown",
   "metadata": {
    "colab_type": "text",
    "id": "s9SIRvflOoEl"
   },
   "source": [
    "## Loading the data"
   ]
  },
  {
   "cell_type": "code",
   "execution_count": 6,
   "metadata": {
    "colab": {
     "base_uri": "https://localhost:8080/",
     "height": 67
    },
    "colab_type": "code",
    "executionInfo": {
     "elapsed": 52891,
     "status": "ok",
     "timestamp": 1590713661794,
     "user": {
      "displayName": "Peter Sarvari",
      "photoUrl": "",
      "userId": "13383104539992491852"
     },
     "user_tz": 420
    },
    "id": "2cpq-0qTOoEm",
    "outputId": "c0124c9d-7b64-40af-c73c-7895d365344d"
   },
   "outputs": [
    {
     "name": "stdout",
     "output_type": "stream",
     "text": [
      "Dataset partition \"test\" has 126171 sequences\n",
      "Dataset partition \"dev\" has 126171 sequences\n",
      "Dataset partition \"train\" has 1086741 sequences\n"
     ]
    }
   ],
   "source": [
    "def read_all_shards(partition='dev', data_dir=data_partitions_dirpath):\n",
    "    shards = []\n",
    "    for fn in os.listdir(os.path.join(data_dir, partition)):\n",
    "        with open(os.path.join(data_dir, partition, fn)) as f:\n",
    "            shards.append(pd.read_csv(f, index_col=None))\n",
    "    return pd.concat(shards)\n",
    "\n",
    "test = read_all_shards('test')\n",
    "dev = read_all_shards('dev')\n",
    "train = read_all_shards('train')\n",
    "\n",
    "partitions = {'test': test, 'dev': dev, 'train': train}\n",
    "for name, df in partitions.items():\n",
    "    print('Dataset partition \"%s\" has %d sequences' % (name, len(df)))"
   ]
  },
  {
   "cell_type": "code",
   "execution_count": 7,
   "metadata": {
    "colab": {},
    "colab_type": "code",
    "id": "B4JdY7TvOoEs"
   },
   "outputs": [],
   "source": [
    "#Reduce\n",
    "\n",
    "# train = train[:108674]\n",
    "# dev = dev[:12617]\n",
    "# test = test[:12617]"
   ]
  },
  {
   "cell_type": "code",
   "execution_count": 8,
   "metadata": {
    "colab": {},
    "colab_type": "code",
    "id": "vGoZv0FaOoEw"
   },
   "outputs": [],
   "source": [
    "train.reset_index(inplace=True)\n",
    "dev.reset_index(inplace=True)\n",
    "test.reset_index(inplace=True)"
   ]
  },
  {
   "cell_type": "code",
   "execution_count": 9,
   "metadata": {
    "colab": {
     "base_uri": "https://localhost:8080/",
     "height": 280
    },
    "colab_type": "code",
    "executionInfo": {
     "elapsed": 52990,
     "status": "ok",
     "timestamp": 1590713663667,
     "user": {
      "displayName": "Peter Sarvari",
      "photoUrl": "",
      "userId": "13383104539992491852"
     },
     "user_tz": 420
    },
    "id": "cZLCHqCJOoE7",
    "outputId": "8566ceca-43ea-43d5-c152-a3c5f7eec8f6"
   },
   "outputs": [
    {
     "data": {
      "image/png": "[encoded data removed]",
      "text/plain": [
       "<Figure size 432x288 with 3 Axes>"
      ]
     },
     "metadata": {
      "needs_background": "light"
     },
     "output_type": "display_data"
    }
   ],
   "source": [
    "# Length of sequence in train data.\n",
    "train['seq_char_count']= train['sequence'].apply(lambda x: len(x))\n",
    "dev['seq_char_count']= dev['sequence'].apply(lambda x: len(x))\n",
    "test['seq_char_count']= test['sequence'].apply(lambda x: len(x))\n",
    "\n",
    "def plot_seq_count(df, data_name):\n",
    "  seaborn.distplot(df['seq_char_count'].values)\n",
    "  plt.title(f'Sequence char count: {data_name}')\n",
    "  plt.grid(True)\n",
    "\n",
    "plt.subplot(1, 3, 1)\n",
    "plot_seq_count(train, 'Train')\n",
    "\n",
    "plt.subplot(1, 3, 2)\n",
    "plot_seq_count(dev, 'Dev')\n",
    "\n",
    "plt.subplot(1, 3, 3)\n",
    "plot_seq_count(test, 'Test')\n",
    "\n",
    "plt.subplots_adjust(right=3.0)\n",
    "plt.show()"
   ]
  },
  {
   "cell_type": "code",
   "execution_count": 10,
   "metadata": {
    "colab": {},
    "colab_type": "code",
    "id": "DsU7zKDkOoE9"
   },
   "outputs": [],
   "source": [
    "def split_(word): \n",
    "    return [char for char in word]\n",
    "\n",
    "train_sentences = train['sequence'].apply(lambda x: split_(x))\n",
    "validation_sentences = dev['sequence'].apply(lambda x: split_(x))\n",
    "test_sentences = test['sequence'].apply(lambda x: split_(x))"
   ]
  },
  {
   "cell_type": "code",
   "execution_count": 11,
   "metadata": {
    "colab": {},
    "colab_type": "code",
    "id": "MhU6Lr7AOoFA"
   },
   "outputs": [],
   "source": [
    "train_labels = train['family_accession'].apply(lambda x: x.split('.')[0])\n",
    "validation_labels = dev['family_accession'].apply(lambda x: x.split('.')[0])\n",
    "test_labels = test['family_accession'].apply(lambda x: x.split('.')[0])\n",
    "\n",
    "# mask = train_labels.isin(test_labels)\n",
    "# train_sentences = train_sentences[mask]\n",
    "# train_labels = train_labels[mask]\n",
    "# mask = validation_labels.isin(test_labels)\n",
    "# validation_sentences = validation_sentences[mask]\n",
    "# validation_labels = validation_labels[mask]\n",
    "# numclass = len(np.unique(test_labels))"
   ]
  },
  {
   "cell_type": "code",
   "execution_count": 12,
   "metadata": {
    "colab": {
     "base_uri": "https://localhost:8080/",
     "height": 33
    },
    "colab_type": "code",
    "executionInfo": {
     "elapsed": 66559,
     "status": "ok",
     "timestamp": 1590713680078,
     "user": {
      "displayName": "Peter Sarvari",
      "photoUrl": "",
      "userId": "13383104539992491852"
     },
     "user_tz": 420
    },
    "id": "vra4DoGwORZc",
    "outputId": "31be9e4c-680c-40c9-d96e-4986680799ec"
   },
   "outputs": [
    {
     "data": {
      "text/plain": [
       "1000"
      ]
     },
     "execution_count": 12,
     "metadata": {},
     "output_type": "execute_result"
    }
   ],
   "source": [
    "classes = train_labels.value_counts()[:1000].index.tolist()\n",
    "len(classes)"
   ]
  },
  {
   "cell_type": "code",
   "execution_count": 13,
   "metadata": {
    "colab": {
     "base_uri": "https://localhost:8080/",
     "height": 33
    },
    "colab_type": "code",
    "executionInfo": {
     "elapsed": 66676,
     "status": "ok",
     "timestamp": 1590713681799,
     "user": {
      "displayName": "Peter Sarvari",
      "photoUrl": "",
      "userId": "13383104539992491852"
     },
     "user_tz": 420
    },
    "id": "sgWrsDGgJlfR",
    "outputId": "f7193e63-a9c0-4825-90db-077478f078c2"
   },
   "outputs": [
    {
     "data": {
      "text/plain": [
       "20"
      ]
     },
     "execution_count": 13,
     "metadata": {},
     "output_type": "execute_result"
    }
   ],
   "source": [
    "del train\n",
    "del test\n",
    "del dev\n",
    "gc.collect()"
   ]
  },
  {
   "cell_type": "code",
   "execution_count": 14,
   "metadata": {
    "colab": {
     "base_uri": "https://localhost:8080/",
     "height": 84
    },
    "colab_type": "code",
    "executionInfo": {
     "elapsed": 66182,
     "status": "ok",
     "timestamp": 1590713682497,
     "user": {
      "displayName": "Peter Sarvari",
      "photoUrl": "",
      "userId": "13383104539992491852"
     },
     "user_tz": 420
    },
    "id": "hHIHgZmLOoFD",
    "outputId": "afd4cb7c-360c-4d9f-a0e8-5fead0502c11"
   },
   "outputs": [
    {
     "name": "stdout",
     "output_type": "stream",
     "text": [
      "Data size after considering 1000 classes for each data split:\n",
      "Train size : 439493\n",
      "Val size : 54378\n",
      "Test size : 54378\n"
     ]
    }
   ],
   "source": [
    "mask = train_labels.isin(classes)\n",
    "train_sentences = train_sentences[mask]\n",
    "train_labels = train_labels[mask]\n",
    "mask = validation_labels.isin(classes)\n",
    "validation_sentences = validation_sentences[mask]\n",
    "validation_labels = validation_labels[mask]\n",
    "mask = test_labels.isin(classes)\n",
    "test_sentences = test_sentences[mask]\n",
    "test_labels = test_labels[mask]\n",
    "\n",
    "print('Data size after considering 1000 classes for each data split:')\n",
    "print('Train size :', len(train_sentences))\n",
    "print('Val size :', len(validation_sentences))\n",
    "print('Test size :', len(test_sentences))\n",
    "numclass = len(classes)"
   ]
  },
  {
   "cell_type": "code",
   "execution_count": 15,
   "metadata": {
    "colab": {
     "base_uri": "https://localhost:8080/",
     "height": 50
    },
    "colab_type": "code",
    "executionInfo": {
     "elapsed": 119102,
     "status": "ok",
     "timestamp": 1590713736440,
     "user": {
      "displayName": "Peter Sarvari",
      "photoUrl": "",
      "userId": "13383104539992491852"
     },
     "user_tz": 420
    },
    "id": "MpoLRnT0OoFN",
    "outputId": "1d53f03e-1943-40f5-ac56-54ee3e8f332e"
   },
   "outputs": [
    {
     "name": "stdout",
     "output_type": "stream",
     "text": [
      "{'<OOV>': 1, 'l': 2, 'a': 3, 'g': 4, 'v': 5, 'i': 6, 'e': 7, 's': 8, 'r': 9, 'd': 10, 't': 11, 'k': 12, 'p': 13, 'f': 14, 'n': 15, 'q': 16, 'y': 17, 'm': 18, 'h': 19, 'c': 20, 'w': 21, 'x': 22, 'u': 23, 'b': 24, 'o': 25}\n"
     ]
    },
    {
     "data": {
      "text/plain": [
       "0"
      ]
     },
     "execution_count": 15,
     "metadata": {},
     "output_type": "execute_result"
    }
   ],
   "source": [
    "vocab_size = 21\n",
    "max_length = 250\n",
    "trunc_type = \"post\"\n",
    "padding_type = \"post\"\n",
    "oov_tok = \"<OOV>\"\n",
    "\n",
    "tokenizer = Tokenizer(oov_token=oov_tok, num_words = vocab_size)\n",
    "tokenizer.fit_on_texts(train_sentences)\n",
    "word_index = tokenizer.word_index\n",
    "print(word_index)\n",
    "\n",
    "train_sequences = tokenizer.texts_to_sequences(train_sentences)\n",
    "train_padded = pad_sequences(train_sequences, maxlen=max_length, padding=padding_type)\n",
    "del train_sequences\n",
    "del train_sentences\n",
    "gc.collect()"
   ]
  },
  {
   "cell_type": "code",
   "execution_count": 16,
   "metadata": {
    "colab": {
     "base_uri": "https://localhost:8080/",
     "height": 33
    },
    "colab_type": "code",
    "executionInfo": {
     "elapsed": 121313,
     "status": "ok",
     "timestamp": 1590713740348,
     "user": {
      "displayName": "Peter Sarvari",
      "photoUrl": "",
      "userId": "13383104539992491852"
     },
     "user_tz": 420
    },
    "id": "3iy99ZfCJ34l",
    "outputId": "65689343-f84c-4a45-d8fb-12c03d93e10e"
   },
   "outputs": [
    {
     "data": {
      "text/plain": [
       "0"
      ]
     },
     "execution_count": 16,
     "metadata": {},
     "output_type": "execute_result"
    }
   ],
   "source": [
    "validation_sequences = tokenizer.texts_to_sequences(validation_sentences)\n",
    "validation_padded = pad_sequences(validation_sequences, maxlen=max_length, padding=padding_type)\n",
    "del validation_sentences\n",
    "del validation_sequences\n",
    "gc.collect()"
   ]
  },
  {
   "cell_type": "code",
   "execution_count": 17,
   "metadata": {
    "colab": {
     "base_uri": "https://localhost:8080/",
     "height": 34
    },
    "colab_type": "code",
    "executionInfo": {
     "elapsed": 111517,
     "status": "ok",
     "timestamp": 1590653931698,
     "user": {
      "displayName": "Peter Sarvari",
      "photoUrl": "",
      "userId": "13383104539992491852"
     },
     "user_tz": 420
    },
    "id": "uWFpKFynJ441",
    "outputId": "266f9885-008d-4392-8957-e1d6dd41996f"
   },
   "outputs": [
    {
     "data": {
      "text/plain": [
       "0"
      ]
     },
     "execution_count": 17,
     "metadata": {},
     "output_type": "execute_result"
    }
   ],
   "source": [
    "test_sequences = tokenizer.texts_to_sequences(test_sentences)\n",
    "test_padded = pad_sequences(test_sequences, maxlen=max_length, padding=padding_type)\n",
    "del test_sentences\n",
    "del test_sequences\n",
    "gc.collect()"
   ]
  },
  {
   "cell_type": "code",
   "execution_count": 18,
   "metadata": {
    "colab": {},
    "colab_type": "code",
    "id": "UpmBGMoKJ85Z"
   },
   "outputs": [],
   "source": [
    "# takes too much space\n",
    "# solved with non-trainable Embedding layer with identity initializer\n",
    "\n",
    "# train_padded = tf.keras.utils.to_categorical(train_padded, num_classes=vocab_size)\n",
    "# validation_padded = tf.keras.utils.to_categorical(validation_padded, num_classes=vocab_size)\n",
    "# test_padded = tf.keras.utils.to_categorical(test_padded, num_classes=vocab_size)"
   ]
  },
  {
   "cell_type": "code",
   "execution_count": 19,
   "metadata": {
    "colab": {
     "base_uri": "https://localhost:8080/",
     "height": 34
    },
    "colab_type": "code",
    "executionInfo": {
     "elapsed": 111384,
     "status": "ok",
     "timestamp": 1590653931700,
     "user": {
      "displayName": "Peter Sarvari",
      "photoUrl": "",
      "userId": "13383104539992491852"
     },
     "user_tz": 420
    },
    "id": "rhXMpWpXOoFP",
    "outputId": "2a300584-1713-4cff-bb40-4c6d7a1497f9"
   },
   "outputs": [
    {
     "data": {
      "text/plain": [
       "(439493, 250)"
      ]
     },
     "execution_count": 19,
     "metadata": {},
     "output_type": "execute_result"
    }
   ],
   "source": [
    "train_padded.shape"
   ]
  },
  {
   "cell_type": "code",
   "execution_count": 20,
   "metadata": {
    "colab": {
     "base_uri": "https://localhost:8080/",
     "height": 34
    },
    "colab_type": "code",
    "executionInfo": {
     "elapsed": 111508,
     "status": "ok",
     "timestamp": 1590653931837,
     "user": {
      "displayName": "Peter Sarvari",
      "photoUrl": "",
      "userId": "13383104539992491852"
     },
     "user_tz": 420
    },
    "id": "vBZOxshXOoFX",
    "outputId": "80dea2d4-98d4-4e6a-ee57-0d4c50f722c2"
   },
   "outputs": [
    {
     "data": {
      "text/plain": [
       "((439493,), (54378,), (54378,))"
      ]
     },
     "execution_count": 20,
     "metadata": {},
     "output_type": "execute_result"
    }
   ],
   "source": [
    "from sklearn.preprocessing import LabelEncoder\n",
    "le = LabelEncoder()\n",
    "\n",
    "train_labels = le.fit_transform(train_labels)\n",
    "validation_labels = le.transform(validation_labels)\n",
    "test_labels = le.transform(test_labels)\n",
    "\n",
    "train_labels.shape, validation_labels.shape, test_labels.shape"
   ]
  },
  {
   "cell_type": "code",
   "execution_count": 21,
   "metadata": {
    "colab": {
     "base_uri": "https://localhost:8080/",
     "height": 34
    },
    "colab_type": "code",
    "executionInfo": {
     "elapsed": 111493,
     "status": "ok",
     "timestamp": 1590653931839,
     "user": {
      "displayName": "Peter Sarvari",
      "photoUrl": "",
      "userId": "13383104539992491852"
     },
     "user_tz": 420
    },
    "id": "89fHOOEoWYm9",
    "outputId": "ca9a1e6e-b297-4636-c29f-366e5c5c26ee"
   },
   "outputs": [
    {
     "data": {
      "text/plain": [
       "999"
      ]
     },
     "execution_count": 21,
     "metadata": {},
     "output_type": "execute_result"
    }
   ],
   "source": [
    "max(train_labels)"
   ]
  },
  {
   "cell_type": "code",
   "execution_count": 22,
   "metadata": {
    "colab": {
     "base_uri": "https://localhost:8080/",
     "height": 34
    },
    "colab_type": "code",
    "executionInfo": {
     "elapsed": 111475,
     "status": "ok",
     "timestamp": 1590653931840,
     "user": {
      "displayName": "Peter Sarvari",
      "photoUrl": "",
      "userId": "13383104539992491852"
     },
     "user_tz": 420
    },
    "id": "2eB81tNKWbaf",
    "outputId": "d0141243-f7a5-49bc-d5fd-6d1bf219022d"
   },
   "outputs": [
    {
     "data": {
      "text/plain": [
       "999"
      ]
     },
     "execution_count": 22,
     "metadata": {},
     "output_type": "execute_result"
    }
   ],
   "source": [
    "max(validation_labels)"
   ]
  },
  {
   "cell_type": "code",
   "execution_count": 23,
   "metadata": {
    "colab": {},
    "colab_type": "code",
    "id": "TCv_fddVOoFc"
   },
   "outputs": [],
   "source": [
    "def residual_block(x, filters, dil):\n",
    "    shortcut = x\n",
    "    bn1 = tf.keras.layers.BatchNormalization()(x)\n",
    "    a1 = tf.keras.layers.Activation(\"relu\")(bn1)\n",
    "    conv1 = tf.keras.layers.Conv1D(filters, 3, dilation_rate = dil, padding=\"same\")(a1) #1100 filters and 9 kernel size in ProtCNN\n",
    "    \n",
    "    bn2 = tf.keras.layers.BatchNormalization()(conv1)\n",
    "    a2 = tf.keras.layers.Activation(\"relu\")(bn2)\n",
    "    conv2 = tf.keras.layers.Conv1D(filters, 1, padding=\"same\")(a2)\n",
    "    \n",
    "    x = tf.keras.layers.Add()([conv2, shortcut])\n",
    "    \n",
    "    return x"
   ]
  },
  {
   "cell_type": "code",
   "execution_count": 24,
   "metadata": {
    "colab": {},
    "colab_type": "code",
    "id": "YN9uu1b4OoFe"
   },
   "outputs": [],
   "source": [
    "# lr_schedule = tf.keras.callbacks.LearningRateScheduler(\n",
    "#     lambda epoch: 1e-5 * 10**(epoch / 20))\n",
    "\n",
    "es = tf.keras.callbacks.EarlyStopping(monitor='val_accuracy', mode='max', min_delta=0.05, patience=3)"
   ]
  },
  {
   "cell_type": "code",
   "execution_count": 25,
   "metadata": {
    "colab": {
     "base_uri": "https://localhost:8080/",
     "height": 870
    },
    "colab_type": "code",
    "executionInfo": {
     "elapsed": 111934,
     "status": "ok",
     "timestamp": 1590653932344,
     "user": {
      "displayName": "Peter Sarvari",
      "photoUrl": "",
      "userId": "13383104539992491852"
     },
     "user_tz": 420
    },
    "id": "gHREjUe3OoFh",
    "outputId": "cecb1232-ea4a-4889-aeaa-c809b5da1f04"
   },
   "outputs": [
    {
     "name": "stdout",
     "output_type": "stream",
     "text": [
      "Model: \"model\"\n",
      "__________________________________________________________________________________________________\n",
      "Layer (type)                    Output Shape         Param #     Connected to                     \n",
      "==================================================================================================\n",
      "input_1 (InputLayer)            [(None, 250)]        0                                            \n",
      "__________________________________________________________________________________________________\n",
      "embedding (Embedding)           (None, 250, 21)      441         input_1[0][0]                    \n",
      "__________________________________________________________________________________________________\n",
      "conv1d (Conv1D)                 (None, 250, 128)     8192        embedding[0][0]                  \n",
      "__________________________________________________________________________________________________\n",
      "batch_normalization (BatchNorma (None, 250, 128)     512         conv1d[0][0]                     \n",
      "__________________________________________________________________________________________________\n",
      "activation (Activation)         (None, 250, 128)     0           batch_normalization[0][0]        \n",
      "__________________________________________________________________________________________________\n",
      "conv1d_1 (Conv1D)               (None, 250, 128)     49280       activation[0][0]                 \n",
      "__________________________________________________________________________________________________\n",
      "batch_normalization_1 (BatchNor (None, 250, 128)     512         conv1d_1[0][0]                   \n",
      "__________________________________________________________________________________________________\n",
      "activation_1 (Activation)       (None, 250, 128)     0           batch_normalization_1[0][0]      \n",
      "__________________________________________________________________________________________________\n",
      "conv1d_2 (Conv1D)               (None, 250, 128)     16512       activation_1[0][0]               \n",
      "__________________________________________________________________________________________________\n",
      "add (Add)                       (None, 250, 128)     0           conv1d_2[0][0]                   \n",
      "                                                                 conv1d[0][0]                     \n",
      "__________________________________________________________________________________________________\n",
      "batch_normalization_2 (BatchNor (None, 250, 128)     512         add[0][0]                        \n",
      "__________________________________________________________________________________________________\n",
      "activation_2 (Activation)       (None, 250, 128)     0           batch_normalization_2[0][0]      \n",
      "__________________________________________________________________________________________________\n",
      "conv1d_3 (Conv1D)               (None, 250, 128)     49280       activation_2[0][0]               \n",
      "__________________________________________________________________________________________________\n",
      "batch_normalization_3 (BatchNor (None, 250, 128)     512         conv1d_3[0][0]                   \n",
      "__________________________________________________________________________________________________\n",
      "activation_3 (Activation)       (None, 250, 128)     0           batch_normalization_3[0][0]      \n",
      "__________________________________________________________________________________________________\n",
      "conv1d_4 (Conv1D)               (None, 250, 128)     16512       activation_3[0][0]               \n",
      "__________________________________________________________________________________________________\n",
      "add_1 (Add)                     (None, 250, 128)     0           conv1d_4[0][0]                   \n",
      "                                                                 add[0][0]                        \n",
      "__________________________________________________________________________________________________\n",
      "max_pooling1d (MaxPooling1D)    (None, 1, 128)       0           add_1[0][0]                      \n",
      "__________________________________________________________________________________________________\n",
      "flatten (Flatten)               (None, 128)          0           max_pooling1d[0][0]              \n",
      "__________________________________________________________________________________________________\n",
      "dense (Dense)                   (None, 1000)         129000      flatten[0][0]                    \n",
      "==================================================================================================\n",
      "Total params: 271,265\n",
      "Trainable params: 269,800\n",
      "Non-trainable params: 1,465\n",
      "__________________________________________________________________________________________________\n"
     ]
    }
   ],
   "source": [
    "input_x = tf.keras.layers.Input(shape=max_length)\n",
    "x = tf.keras.layers.Embedding(vocab_size, vocab_size, embeddings_initializer=tf.keras.initializers.Identity(gain=1.0), trainable=False)(input_x)\n",
    "x = tf.keras.layers.Conv1D(128, 3, padding=\"same\")(x)\n",
    "x = residual_block(x, 128, 1)\n",
    "x = residual_block(x, 128, 2) #4 blocks of these in ProtCNN\n",
    "x = tf.keras.layers.MaxPooling1D(max_length)(x)\n",
    "\n",
    "x = tf.keras.layers.Flatten()(x)\n",
    "out = tf.keras.layers.Dense(numclass, activation=\"softmax\")(x) \n",
    "\n",
    "model = tf.keras.Model(inputs=input_x, outputs=out)\n",
    "#optimizer = tf.keras.optimizers.Adam(lr=1e-5)\n",
    "\n",
    "model.compile(loss='sparse_categorical_crossentropy',optimizer=\"adam\",metrics=['accuracy'])\n",
    "model.summary()"
   ]
  },
  {
   "cell_type": "code",
   "execution_count": 26,
   "metadata": {
    "colab": {
     "base_uri": "https://localhost:8080/",
     "height": 153
    },
    "colab_type": "code",
    "executionInfo": {
     "elapsed": 2529207,
     "status": "ok",
     "timestamp": 1590656349629,
     "user": {
      "displayName": "Peter Sarvari",
      "photoUrl": "",
      "userId": "13383104539992491852"
     },
     "user_tz": 420
    },
    "id": "I-GgPN6_OoFj",
    "outputId": "25a86991-75f9-4b49-fc91-90587777804e"
   },
   "outputs": [
    {
     "name": "stdout",
     "output_type": "stream",
     "text": [
      "Epoch 1/10\n",
      "13735/13735 - 104s - loss: 0.8598 - accuracy: 0.8194 - val_loss: 0.2829 - val_accuracy: 0.9269\n",
      "Epoch 2/10\n",
      "13735/13735 - 105s - loss: 0.2002 - accuracy: 0.9461 - val_loss: 0.1931 - val_accuracy: 0.9489\n",
      "Epoch 3/10\n",
      "13735/13735 - 105s - loss: 0.1382 - accuracy: 0.9619 - val_loss: 0.1663 - val_accuracy: 0.9573\n",
      "Epoch 4/10\n",
      "13735/13735 - 105s - loss: 0.1043 - accuracy: 0.9705 - val_loss: 0.1556 - val_accuracy: 0.9607\n"
     ]
    }
   ],
   "source": [
    "history = model.fit(train_padded, train_labels, epochs=10, validation_data=(validation_padded, validation_labels), verbose=2, callbacks=[es])"
   ]
  },
  {
   "cell_type": "code",
   "execution_count": 0,
   "metadata": {
    "colab": {
     "base_uri": "https://localhost:8080/",
     "height": 51
    },
    "colab_type": "code",
    "executionInfo": {
     "elapsed": 2530069,
     "status": "ok",
     "timestamp": 1590656350507,
     "user": {
      "displayName": "Peter Sarvari",
      "photoUrl": "",
      "userId": "13383104539992491852"
     },
     "user_tz": 420
    },
    "id": "KMiOYVueOoFl",
    "outputId": "c659731a-72c9-4dc4-d248-f76b7085daf8"
   },
   "outputs": [
    {
     "name": "stdout",
     "output_type": "stream",
     "text": [
      "Saved model to disk\n",
      "Loaded model from disk\n"
     ]
    }
   ],
   "source": [
    "# serialize model to JSON\n",
    "model_json = model.to_json()\n",
    "with open(os.path.join(data_partitions_dirpath, \"model.json\"), \"w\") as json_file:\n",
    "    json_file.write(model_json)\n",
    "# serialize weights to HDF5\n",
    "model.save_weights(os.path.join(data_partitions_dirpath, \"model.h5\"))\n",
    "print(\"Saved model to disk\")"
   ]
  },
  {
   "cell_type": "code",
   "execution_count": 6,
   "metadata": {
    "colab": {
     "base_uri": "https://localhost:8080/",
     "height": 33
    },
    "colab_type": "code",
    "executionInfo": {
     "elapsed": 1061,
     "status": "ok",
     "timestamp": 1590713578406,
     "user": {
      "displayName": "Peter Sarvari",
      "photoUrl": "",
      "userId": "13383104539992491852"
     },
     "user_tz": 420
    },
    "id": "V9t0EJG86j7d",
    "outputId": "a567c4c3-9d93-481d-ee9f-e4ea3b93072f"
   },
   "outputs": [
    {
     "name": "stdout",
     "output_type": "stream",
     "text": [
      "Loaded model from disk\n"
     ]
    }
   ],
   "source": [
    "# load json and create model\n",
    "json_file = open(os.path.join(data_partitions_dirpath, \"model.json\"), 'r')\n",
    "loaded_model_json = json_file.read()\n",
    "json_file.close()\n",
    "loaded_model = tf.keras.models.model_from_json(loaded_model_json)\n",
    "# load weights into new model\n",
    "loaded_model.load_weights(os.path.join(data_partitions_dirpath, \"model.h5\"))\n",
    "print(\"Loaded model from disk\")\n",
    " \n",
    "# calculate embedding for new data\n",
    "embedder = tf.keras.Model(inputs = loaded_model.layers[0].input, outputs = loaded_model.layers[18].output)\n",
    "# embedder.compile(loss='categorical_crossentropy',optimizer=\"adam\")\n",
    "# predict should be allowed to use w/o compilation: \n",
    "# https://github.com/keras-team/keras/issues/2621\n",
    "# embeds = loaded_model.predict(test_padded[:10])"
   ]
  },
  {
   "cell_type": "code",
   "execution_count": 41,
   "metadata": {
    "colab": {
     "base_uri": "https://localhost:8080/",
     "height": 33
    },
    "colab_type": "code",
    "executionInfo": {
     "elapsed": 264,
     "status": "ok",
     "timestamp": 1590715101775,
     "user": {
      "displayName": "Peter Sarvari",
      "photoUrl": "",
      "userId": "13383104539992491852"
     },
     "user_tz": 420
    },
    "id": "mW21Qsr4D8Lr",
    "outputId": "721b2e05-aac0-41a6-ec91-d3a92590d958"
   },
   "outputs": [
    {
     "data": {
      "text/plain": [
       "(1, 250)"
      ]
     },
     "execution_count": 41,
     "metadata": {
      "tags": []
     },
     "output_type": "execute_result"
    }
   ],
   "source": [
    "#2ZTB\n",
    "seq = \"MDVIREYLMFNELSALSSSPESVRSRFSSIYGTNPDGIALNNETYFNAVKPPITAQYGYYCYKNVGTVQYVNRPTDINPNVILAQDTLTNNTNEPFTTTITITGSFTNTSTVTSSTTTGFKFTSKLSIKKVFEIGGEVSFSTTIGTSETTTETITVSKSVTVTVPAQSRRTIQLTAKIAKESADFSAPITVDGYFGANFPKRVGPGGHYFWFNPARDVLNTTSGTLRGTVTNVSSFDFQTIVQPARSLLDEQ\"\n",
    "arr = [[char for char in seq]]\n",
    "seq_sequences = tokenizer.texts_to_sequences(arr)\n",
    "seq_padded = pad_sequences(seq_sequences, maxlen=max_length, padding=padding_type)\n",
    "seq_padded.shape"
   ]
  },
  {
   "cell_type": "code",
   "execution_count": 0,
   "metadata": {
    "colab": {},
    "colab_type": "code",
    "id": "nwqHerqf8gj8"
   },
   "outputs": [],
   "source": [
    "def parse_fasta (lines):\n",
    "    descs = []\n",
    "    seqs = []\n",
    "    data = ''\n",
    "    for line in lines:\n",
    "        if line.startswith('>'):\n",
    "            if data:   # have collected a sequence, push to seqs\n",
    "                seqs.append(data)\n",
    "                data = ''\n",
    "            descs.append(line[1:])  # Trim '>' from beginning\n",
    "        else:\n",
    "            data += line.rstrip('\\r\\n')\n",
    "    # there will be yet one more to push when we run out\n",
    "    seqs.append(data)\n",
    "    return descs, seqs\n",
    "\n",
    "descriptions, sequences = parse_fasta(open('/content/drive/My Drive/uniprot-insecticidal-filtered-reviewed_yes.fasta', 'r').read().split('\\n'))"
   ]
  },
  {
   "cell_type": "code",
   "execution_count": 43,
   "metadata": {
    "colab": {
     "base_uri": "https://localhost:8080/",
     "height": 33
    },
    "colab_type": "code",
    "executionInfo": {
     "elapsed": 368,
     "status": "ok",
     "timestamp": 1590715103978,
     "user": {
      "displayName": "Peter Sarvari",
      "photoUrl": "",
      "userId": "13383104539992491852"
     },
     "user_tz": 420
    },
    "id": "v7x7CYmqVPMX",
    "outputId": "994d2457-b44d-4ef7-f923-13c1dde4332b"
   },
   "outputs": [
    {
     "data": {
      "text/plain": [
       "(419, 250)"
      ]
     },
     "execution_count": 43,
     "metadata": {
      "tags": []
     },
     "output_type": "execute_result"
    }
   ],
   "source": [
    "seqs = [split_(x) for x in sequences] \n",
    "seqs_sequences = tokenizer.texts_to_sequences(seqs)\n",
    "seqs_padded = pad_sequences(seqs_sequences, maxlen=max_length, padding=padding_type)\n",
    "seqs_padded.shape"
   ]
  },
  {
   "cell_type": "code",
   "execution_count": 44,
   "metadata": {
    "colab": {
     "base_uri": "https://localhost:8080/",
     "height": 171
    },
    "colab_type": "code",
    "executionInfo": {
     "elapsed": 1069,
     "status": "ok",
     "timestamp": 1590715105725,
     "user": {
      "displayName": "Peter Sarvari",
      "photoUrl": "",
      "userId": "13383104539992491852"
     },
     "user_tz": 420
    },
    "id": "_6X1VPLA_DYc",
    "outputId": "0d0bb18c-3db6-4955-b710-b316d243d8b3"
   },
   "outputs": [
    {
     "name": "stdout",
     "output_type": "stream",
     "text": [
      "Query sequence was: \n",
      "MDVIREYLMFNELSALSSSPESVRSRFSSIYGTNPDGIALNNETYFNAVKPPITAQYGYYCYKNVGTVQYVNRPTDINPNVILAQDTLTNNTNEPFTTTITITGSFTNTSTVTSSTTTGFKFTSKLSIKKVFEIGGEVSFSTTIGTSETTTETITVSKSVTVTVPAQSRRTIQLTAKIAKESADFSAPITVDGYFGANFPKRVGPGGHYFWFNPARDVLNTTSGTLRGTVTNVSSFDFQTIVQPARSLLDEQ\n",
      "Most cosine similar:\n",
      "sp|B6A879|CHI2_YERET Chitinase 2 OS=Yersinia entomophaga OX=935293 GN=chi2 PE=1 SV=1\n",
      "MVNKYTYTSSKAMSDISDVIGEPLAAWDSQVGGRVFNVIFDGKVYTNTYWVERWQVPGIGSSDGNPHNAWKFVRAATADEINKIGNPTTADVKPTENIPSPILVEDKYTEETYSRPDVNFKEDGSQGNLSYTATRVCAPMYNHYVGDKTKPKLSAYITDWCQYDARLDGGGSKEEERGRGFDLATLMQNPATYDRLIFSFLGICGDIGNKSKKVQEVWDGWNAQAPSLGLPQIGKGHIVPLDPYGDLGTARNVGLPPESADTSIESGTFLPYYQQNRAAGLLGGLRELQKKAHAMGHKLDLAFSIGGWSLSSYFSALAENPDERRVFVASVVDFFVRFPMFSCVDIDWEYPGGGGDEGNISSDKDGENYVLLIKELRSALDSRFGYSNRKEISIACSGVKAKLKKSNIDQLVANGLDNIYLMSYDFFGTIWADYIGHHTNLYSPKDPGEQELFDLSAEAAIDYLHNELGIPMEKIHLGYANYGRSAVGGDLTTRQYTKNGPALGTMENGAPEFFDIVKNYMDAEHSLSMGKNGFVLMTDTNADADFLFSEAKGHFISLDTPRTVKQKGEYAAKNKLGGVFSWSGDQDCGLLANAAREGLGYVADSNQETIDMGPLYNPGKEIYLKSISEIKSK\n",
      "Closest in the 128 dim space\n",
      "sp|B6A879|CHI2_YERET Chitinase 2 OS=Yersinia entomophaga OX=935293 GN=chi2 PE=1 SV=1\n",
      "MVNKYTYTSSKAMSDISDVIGEPLAAWDSQVGGRVFNVIFDGKVYTNTYWVERWQVPGIGSSDGNPHNAWKFVRAATADEINKIGNPTTADVKPTENIPSPILVEDKYTEETYSRPDVNFKEDGSQGNLSYTATRVCAPMYNHYVGDKTKPKLSAYITDWCQYDARLDGGGSKEEERGRGFDLATLMQNPATYDRLIFSFLGICGDIGNKSKKVQEVWDGWNAQAPSLGLPQIGKGHIVPLDPYGDLGTARNVGLPPESADTSIESGTFLPYYQQNRAAGLLGGLRELQKKAHAMGHKLDLAFSIGGWSLSSYFSALAENPDERRVFVASVVDFFVRFPMFSCVDIDWEYPGGGGDEGNISSDKDGENYVLLIKELRSALDSRFGYSNRKEISIACSGVKAKLKKSNIDQLVANGLDNIYLMSYDFFGTIWADYIGHHTNLYSPKDPGEQELFDLSAEAAIDYLHNELGIPMEKIHLGYANYGRSAVGGDLTTRQYTKNGPALGTMENGAPEFFDIVKNYMDAEHSLSMGKNGFVLMTDTNADADFLFSEAKGHFISLDTPRTVKQKGEYAAKNKLGGVFSWSGDQDCGLLANAAREGLGYVADSNQETIDMGPLYNPGKEIYLKSISEIKSK\n"
     ]
    }
   ],
   "source": [
    "from sklearn.metrics.pairwise import cosine_similarity, euclidean_distances\n",
    "\n",
    "\n",
    "embed_2ztb = loaded_model.predict(seq_padded)\n",
    "embed_uniprots = loaded_model.predict(seqs_padded)\n",
    "sim_cosine = cosine_similarity(embed_2ztb, embed_uniprots)\n",
    "distances = euclidean_distances(embed_2ztb, embed_uniprots)\n",
    "\n",
    "print(\"Query sequence was: \")\n",
    "print(seq)\n",
    "\n",
    "idx = np.argmax(sim_cosine)\n",
    "print(\"Most cosine similar:\")\n",
    "print(descriptions[idx])\n",
    "print(sequences[idx])\n",
    "\n",
    "idx = np.argmin(distances)\n",
    "print(\"Closest in the 128 dim space\")\n",
    "print(descriptions[idx])\n",
    "print(sequences[idx])"
   ]
  },
  {
   "cell_type": "code",
   "execution_count": 40,
   "metadata": {
    "colab": {
     "base_uri": "https://localhost:8080/",
     "height": 33
    },
    "colab_type": "code",
    "executionInfo": {
     "elapsed": 426,
     "status": "ok",
     "timestamp": 1590714896643,
     "user": {
      "displayName": "Peter Sarvari",
      "photoUrl": "",
      "userId": "13383104539992491852"
     },
     "user_tz": 420
    },
    "id": "Aa4V7UU09Jmb",
    "outputId": "0a1e6a89-dbf4-4c53-b104-d0cefe700620"
   },
   "outputs": [
    {
     "data": {
      "text/plain": [
       "0.22009304"
      ]
     },
     "execution_count": 40,
     "metadata": {
      "tags": []
     },
     "output_type": "execute_result"
    }
   ],
   "source": [
    "np.max(sim_cosine)"
   ]
  },
  {
   "cell_type": "code",
   "execution_count": 0,
   "metadata": {
    "colab": {},
    "colab_type": "code",
    "id": "g7JpAwS1_l_r"
   },
   "outputs": [],
   "source": []
  }
 ],
 "metadata": {
  "accelerator": "TPU",
  "colab": {
   "name": "ProtCNN Embedding.ipynb",
   "provenance": []
  },
  "kernelspec": {
   "display_name": "Python 3",
   "language": "python",
   "name": "python3"
  },
  "language_info": {
   "codemirror_mode": {
    "name": "ipython",
    "version": 3
   },
   "file_extension": ".py",
   "mimetype": "text/x-python",
   "name": "python",
   "nbconvert_exporter": "python",
   "pygments_lexer": "ipython3",
   "version": "3.7.6"
  }
 },
 "nbformat": 4,
 "nbformat_minor": 1
}
