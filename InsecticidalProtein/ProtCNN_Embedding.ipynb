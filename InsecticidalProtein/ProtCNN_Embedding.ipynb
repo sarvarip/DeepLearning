{
  "nbformat": 4,
  "nbformat_minor": 0,
  "metadata": {
    "kernelspec": {
      "language": "python",
      "display_name": "Python 3",
      "name": "python3"
    },
    "language_info": {
      "pygments_lexer": "ipython3",
      "nbconvert_exporter": "python",
      "version": "3.6.4",
      "file_extension": ".py",
      "codemirror_mode": {
        "name": "ipython",
        "version": 3
      },
      "name": "python",
      "mimetype": "text/x-python"
    },
    "colab": {
      "name": "ProtCNN Embedding.ipynb",
      "provenance": []
    },
    "accelerator": "TPU"
  },
  "cells": [
    {
      "cell_type": "markdown",
      "metadata": {
        "id": "JxM2najJOoEE",
        "colab_type": "text"
      },
      "source": [
        "## Pfam seed random split"
      ]
    },
    {
      "cell_type": "code",
      "metadata": {
        "id": "8QF5fVSdGnZ5",
        "colab_type": "code",
        "outputId": "1c6792d8-f29c-4546-f38a-462afc833c4a",
        "colab": {
          "base_uri": "https://localhost:8080/",
          "height": 733
        }
      },
      "source": [
        "%tensorflow_version 2.x\n",
        "import tensorflow as tf\n",
        "print(\"Tensorflow version \" + tf.__version__)\n",
        "\n",
        "try:\n",
        "  tpu = tf.distribute.cluster_resolver.TPUClusterResolver()  # TPU detection\n",
        "  print('Running on TPU ', tpu.cluster_spec().as_dict()['worker'])\n",
        "except ValueError:\n",
        "  raise BaseException('ERROR: Not connected to a TPU runtime; please see the previous cell in this notebook for instructions!')\n",
        "\n",
        "tf.config.experimental_connect_to_cluster(tpu)\n",
        "tf.tpu.experimental.initialize_tpu_system(tpu)\n",
        "tpu_strategy = tf.distribute.experimental.TPUStrategy(tpu)"
      ],
      "execution_count": 0,
      "outputs": [
        {
          "output_type": "stream",
          "text": [
            "Tensorflow version 2.2.0\n",
            "Running on TPU  ['10.34.33.154:8470']\n",
            "INFO:tensorflow:Initializing the TPU system: grpc://10.34.33.154:8470\n"
          ],
          "name": "stdout"
        },
        {
          "output_type": "stream",
          "text": [
            "INFO:tensorflow:Initializing the TPU system: grpc://10.34.33.154:8470\n"
          ],
          "name": "stderr"
        },
        {
          "output_type": "stream",
          "text": [
            "INFO:tensorflow:Clearing out eager caches\n"
          ],
          "name": "stdout"
        },
        {
          "output_type": "stream",
          "text": [
            "INFO:tensorflow:Clearing out eager caches\n"
          ],
          "name": "stderr"
        },
        {
          "output_type": "stream",
          "text": [
            "INFO:tensorflow:Finished initializing TPU system.\n"
          ],
          "name": "stdout"
        },
        {
          "output_type": "stream",
          "text": [
            "INFO:tensorflow:Finished initializing TPU system.\n"
          ],
          "name": "stderr"
        },
        {
          "output_type": "stream",
          "text": [
            "INFO:tensorflow:Found TPU system:\n"
          ],
          "name": "stdout"
        },
        {
          "output_type": "stream",
          "text": [
            "INFO:tensorflow:Found TPU system:\n"
          ],
          "name": "stderr"
        },
        {
          "output_type": "stream",
          "text": [
            "INFO:tensorflow:*** Num TPU Cores: 8\n"
          ],
          "name": "stdout"
        },
        {
          "output_type": "stream",
          "text": [
            "INFO:tensorflow:*** Num TPU Cores: 8\n"
          ],
          "name": "stderr"
        },
        {
          "output_type": "stream",
          "text": [
            "INFO:tensorflow:*** Num TPU Workers: 1\n"
          ],
          "name": "stdout"
        },
        {
          "output_type": "stream",
          "text": [
            "INFO:tensorflow:*** Num TPU Workers: 1\n"
          ],
          "name": "stderr"
        },
        {
          "output_type": "stream",
          "text": [
            "INFO:tensorflow:*** Num TPU Cores Per Worker: 8\n"
          ],
          "name": "stdout"
        },
        {
          "output_type": "stream",
          "text": [
            "INFO:tensorflow:*** Num TPU Cores Per Worker: 8\n"
          ],
          "name": "stderr"
        },
        {
          "output_type": "stream",
          "text": [
            "INFO:tensorflow:*** Available Device: _DeviceAttributes(/job:localhost/replica:0/task:0/device:CPU:0, CPU, 0, 0)\n"
          ],
          "name": "stdout"
        },
        {
          "output_type": "stream",
          "text": [
            "INFO:tensorflow:*** Available Device: _DeviceAttributes(/job:localhost/replica:0/task:0/device:CPU:0, CPU, 0, 0)\n"
          ],
          "name": "stderr"
        },
        {
          "output_type": "stream",
          "text": [
            "INFO:tensorflow:*** Available Device: _DeviceAttributes(/job:localhost/replica:0/task:0/device:XLA_CPU:0, XLA_CPU, 0, 0)\n"
          ],
          "name": "stdout"
        },
        {
          "output_type": "stream",
          "text": [
            "INFO:tensorflow:*** Available Device: _DeviceAttributes(/job:localhost/replica:0/task:0/device:XLA_CPU:0, XLA_CPU, 0, 0)\n"
          ],
          "name": "stderr"
        },
        {
          "output_type": "stream",
          "text": [
            "INFO:tensorflow:*** Available Device: _DeviceAttributes(/job:worker/replica:0/task:0/device:CPU:0, CPU, 0, 0)\n"
          ],
          "name": "stdout"
        },
        {
          "output_type": "stream",
          "text": [
            "INFO:tensorflow:*** Available Device: _DeviceAttributes(/job:worker/replica:0/task:0/device:CPU:0, CPU, 0, 0)\n"
          ],
          "name": "stderr"
        },
        {
          "output_type": "stream",
          "text": [
            "INFO:tensorflow:*** Available Device: _DeviceAttributes(/job:worker/replica:0/task:0/device:TPU:0, TPU, 0, 0)\n"
          ],
          "name": "stdout"
        },
        {
          "output_type": "stream",
          "text": [
            "INFO:tensorflow:*** Available Device: _DeviceAttributes(/job:worker/replica:0/task:0/device:TPU:0, TPU, 0, 0)\n"
          ],
          "name": "stderr"
        },
        {
          "output_type": "stream",
          "text": [
            "INFO:tensorflow:*** Available Device: _DeviceAttributes(/job:worker/replica:0/task:0/device:TPU:1, TPU, 0, 0)\n"
          ],
          "name": "stdout"
        },
        {
          "output_type": "stream",
          "text": [
            "INFO:tensorflow:*** Available Device: _DeviceAttributes(/job:worker/replica:0/task:0/device:TPU:1, TPU, 0, 0)\n"
          ],
          "name": "stderr"
        },
        {
          "output_type": "stream",
          "text": [
            "INFO:tensorflow:*** Available Device: _DeviceAttributes(/job:worker/replica:0/task:0/device:TPU:2, TPU, 0, 0)\n"
          ],
          "name": "stdout"
        },
        {
          "output_type": "stream",
          "text": [
            "INFO:tensorflow:*** Available Device: _DeviceAttributes(/job:worker/replica:0/task:0/device:TPU:2, TPU, 0, 0)\n"
          ],
          "name": "stderr"
        },
        {
          "output_type": "stream",
          "text": [
            "INFO:tensorflow:*** Available Device: _DeviceAttributes(/job:worker/replica:0/task:0/device:TPU:3, TPU, 0, 0)\n"
          ],
          "name": "stdout"
        },
        {
          "output_type": "stream",
          "text": [
            "INFO:tensorflow:*** Available Device: _DeviceAttributes(/job:worker/replica:0/task:0/device:TPU:3, TPU, 0, 0)\n"
          ],
          "name": "stderr"
        },
        {
          "output_type": "stream",
          "text": [
            "INFO:tensorflow:*** Available Device: _DeviceAttributes(/job:worker/replica:0/task:0/device:TPU:4, TPU, 0, 0)\n"
          ],
          "name": "stdout"
        },
        {
          "output_type": "stream",
          "text": [
            "INFO:tensorflow:*** Available Device: _DeviceAttributes(/job:worker/replica:0/task:0/device:TPU:4, TPU, 0, 0)\n"
          ],
          "name": "stderr"
        },
        {
          "output_type": "stream",
          "text": [
            "INFO:tensorflow:*** Available Device: _DeviceAttributes(/job:worker/replica:0/task:0/device:TPU:5, TPU, 0, 0)\n"
          ],
          "name": "stdout"
        },
        {
          "output_type": "stream",
          "text": [
            "INFO:tensorflow:*** Available Device: _DeviceAttributes(/job:worker/replica:0/task:0/device:TPU:5, TPU, 0, 0)\n"
          ],
          "name": "stderr"
        },
        {
          "output_type": "stream",
          "text": [
            "INFO:tensorflow:*** Available Device: _DeviceAttributes(/job:worker/replica:0/task:0/device:TPU:6, TPU, 0, 0)\n"
          ],
          "name": "stdout"
        },
        {
          "output_type": "stream",
          "text": [
            "INFO:tensorflow:*** Available Device: _DeviceAttributes(/job:worker/replica:0/task:0/device:TPU:6, TPU, 0, 0)\n"
          ],
          "name": "stderr"
        },
        {
          "output_type": "stream",
          "text": [
            "INFO:tensorflow:*** Available Device: _DeviceAttributes(/job:worker/replica:0/task:0/device:TPU:7, TPU, 0, 0)\n"
          ],
          "name": "stdout"
        },
        {
          "output_type": "stream",
          "text": [
            "INFO:tensorflow:*** Available Device: _DeviceAttributes(/job:worker/replica:0/task:0/device:TPU:7, TPU, 0, 0)\n"
          ],
          "name": "stderr"
        },
        {
          "output_type": "stream",
          "text": [
            "INFO:tensorflow:*** Available Device: _DeviceAttributes(/job:worker/replica:0/task:0/device:TPU_SYSTEM:0, TPU_SYSTEM, 0, 0)\n"
          ],
          "name": "stdout"
        },
        {
          "output_type": "stream",
          "text": [
            "INFO:tensorflow:*** Available Device: _DeviceAttributes(/job:worker/replica:0/task:0/device:TPU_SYSTEM:0, TPU_SYSTEM, 0, 0)\n"
          ],
          "name": "stderr"
        },
        {
          "output_type": "stream",
          "text": [
            "INFO:tensorflow:*** Available Device: _DeviceAttributes(/job:worker/replica:0/task:0/device:XLA_CPU:0, XLA_CPU, 0, 0)\n"
          ],
          "name": "stdout"
        },
        {
          "output_type": "stream",
          "text": [
            "INFO:tensorflow:*** Available Device: _DeviceAttributes(/job:worker/replica:0/task:0/device:XLA_CPU:0, XLA_CPU, 0, 0)\n"
          ],
          "name": "stderr"
        }
      ]
    },
    {
      "cell_type": "code",
      "metadata": {
        "id": "aLRgXSlTqlHQ",
        "colab_type": "code",
        "outputId": "1c22b79a-10c3-4ce7-a2e0-34daf369e572",
        "colab": {
          "base_uri": "https://localhost:8080/",
          "height": 120
        }
      },
      "source": [
        "from google.colab import drive\n",
        "drive.mount('/content/drive')"
      ],
      "execution_count": 1,
      "outputs": [
        {
          "output_type": "stream",
          "text": [
            "Go to this URL in a browser: https://accounts.google.com/o/oauth2/auth?client_id=947318989803-6bn6qk8qdgf4n4g3pfee6491hc0brc4i.apps.googleusercontent.com&redirect_uri=urn%3aietf%3awg%3aoauth%3a2.0%3aoob&response_type=code&scope=email%20https%3a%2f%2fwww.googleapis.com%2fauth%2fdocs.test%20https%3a%2f%2fwww.googleapis.com%2fauth%2fdrive%20https%3a%2f%2fwww.googleapis.com%2fauth%2fdrive.photos.readonly%20https%3a%2f%2fwww.googleapis.com%2fauth%2fpeopleapi.readonly\n",
            "\n",
            "Enter your authorization code:\n",
            "··········\n",
            "Mounted at /content/drive\n"
          ],
          "name": "stdout"
        }
      ]
    },
    {
      "cell_type": "code",
      "metadata": {
        "_kg_hide-input": false,
        "trusted": true,
        "id": "l1HJp53SOoEI",
        "colab_type": "code",
        "colab": {}
      },
      "source": [
        "import matplotlib.pyplot as plt # plotting\n",
        "import numpy as np # linear algebra\n",
        "import os # accessing directory structure\n",
        "import pandas as pd # data processing, CSV file I/O (e.g. pd.read_csv)\n",
        "import seaborn\n",
        "import gc\n",
        "import sklearn\n",
        "import tensorflow as tf\n",
        "from tensorflow.keras.preprocessing.text import Tokenizer\n",
        "from tensorflow.keras.preprocessing.sequence import pad_sequences"
      ],
      "execution_count": 0,
      "outputs": []
    },
    {
      "cell_type": "code",
      "metadata": {
        "_kg_hide-input": false,
        "trusted": true,
        "id": "hZ-YTa2kOoEZ",
        "colab_type": "code",
        "outputId": "b644d2b1-0357-4950-9967-8657f4e391a9",
        "colab": {
          "base_uri": "https://localhost:8080/",
          "height": 33
        }
      },
      "source": [
        "data_partitions_dirpath = '/content/drive/My Drive/random_split'\n",
        "print('Available dataset partitions: ', os.listdir(data_partitions_dirpath))"
      ],
      "execution_count": 3,
      "outputs": [
        {
          "output_type": "stream",
          "text": [
            "Available dataset partitions:  ['train', 'test', 'random_split', 'dev', 'model.json', 'model.h5']\n"
          ],
          "name": "stdout"
        }
      ]
    },
    {
      "cell_type": "markdown",
      "metadata": {
        "id": "s9SIRvflOoEl",
        "colab_type": "text"
      },
      "source": [
        "## Loading the data"
      ]
    },
    {
      "cell_type": "code",
      "metadata": {
        "trusted": true,
        "id": "2cpq-0qTOoEm",
        "colab_type": "code",
        "outputId": "c0124c9d-7b64-40af-c73c-7895d365344d",
        "colab": {
          "base_uri": "https://localhost:8080/",
          "height": 67
        }
      },
      "source": [
        "def read_all_shards(partition='dev', data_dir=data_partitions_dirpath):\n",
        "    shards = []\n",
        "    for fn in os.listdir(os.path.join(data_dir, partition)):\n",
        "        with open(os.path.join(data_dir, partition, fn)) as f:\n",
        "            shards.append(pd.read_csv(f, index_col=None))\n",
        "    return pd.concat(shards)\n",
        "\n",
        "test = read_all_shards('test')\n",
        "dev = read_all_shards('dev')\n",
        "train = read_all_shards('train')\n",
        "\n",
        "partitions = {'test': test, 'dev': dev, 'train': train}\n",
        "for name, df in partitions.items():\n",
        "    print('Dataset partition \"%s\" has %d sequences' % (name, len(df)))"
      ],
      "execution_count": 8,
      "outputs": [
        {
          "output_type": "stream",
          "text": [
            "Dataset partition \"test\" has 126171 sequences\n",
            "Dataset partition \"dev\" has 126171 sequences\n",
            "Dataset partition \"train\" has 1086741 sequences\n"
          ],
          "name": "stdout"
        }
      ]
    },
    {
      "cell_type": "code",
      "metadata": {
        "trusted": true,
        "id": "B4JdY7TvOoEs",
        "colab_type": "code",
        "colab": {}
      },
      "source": [
        "#Reduce\n",
        "\n",
        "# train = train[:108674]\n",
        "# dev = dev[:12617]\n",
        "# test = test[:12617]"
      ],
      "execution_count": 0,
      "outputs": []
    },
    {
      "cell_type": "code",
      "metadata": {
        "trusted": true,
        "id": "vGoZv0FaOoEw",
        "colab_type": "code",
        "colab": {}
      },
      "source": [
        "train.reset_index(inplace=True)\n",
        "dev.reset_index(inplace=True)\n",
        "test.reset_index(inplace=True)"
      ],
      "execution_count": 0,
      "outputs": []
    },
    {
      "cell_type": "code",
      "metadata": {
        "trusted": true,
        "id": "cZLCHqCJOoE7",
        "colab_type": "code",
        "outputId": "8566ceca-43ea-43d5-c152-a3c5f7eec8f6",
        "colab": {
          "base_uri": "https://localhost:8080/",
          "height": 280
        }
      },
      "source": [
        "# Length of sequence in train data.\n",
        "train['seq_char_count']= train['sequence'].apply(lambda x: len(x))\n",
        "dev['seq_char_count']= dev['sequence'].apply(lambda x: len(x))\n",
        "test['seq_char_count']= test['sequence'].apply(lambda x: len(x))\n",
        "\n",
        "def plot_seq_count(df, data_name):\n",
        "  seaborn.distplot(df['seq_char_count'].values)\n",
        "  plt.title(f'Sequence char count: {data_name}')\n",
        "  plt.grid(True)\n",
        "\n",
        "plt.subplot(1, 3, 1)\n",
        "plot_seq_count(train, 'Train')\n",
        "\n",
        "plt.subplot(1, 3, 2)\n",
        "plot_seq_count(dev, 'Dev')\n",
        "\n",
        "plt.subplot(1, 3, 3)\n",
        "plot_seq_count(test, 'Test')\n",
        "\n",
        "plt.subplots_adjust(right=3.0)\n",
        "plt.show()"
      ],
      "execution_count": 11,
      "outputs": [
        {
          "output_type": "display_data",
          "data": {
            "image/png": "[encoded data removed]",
            "text/plain": [
              "<Figure size 432x288 with 3 Axes>"
            ]
          },
          "metadata": {
            "tags": [],
            "needs_background": "light"
          }
        }
      ]
    },
    {
      "cell_type": "code",
      "metadata": {
        "trusted": true,
        "id": "DsU7zKDkOoE9",
        "colab_type": "code",
        "colab": {}
      },
      "source": [
        "def split_(word): \n",
        "    return [char for char in word]\n",
        "\n",
        "train_sentences = train['sequence'].apply(lambda x: split_(x))\n",
        "validation_sentences = dev['sequence'].apply(lambda x: split_(x))\n",
        "test_sentences = test['sequence'].apply(lambda x: split_(x))"
      ],
      "execution_count": 0,
      "outputs": []
    },
    {
      "cell_type": "code",
      "metadata": {
        "trusted": true,
        "id": "MhU6Lr7AOoFA",
        "colab_type": "code",
        "colab": {}
      },
      "source": [
        "train_labels = train['family_accession'].apply(lambda x: x.split('.')[0])\n",
        "validation_labels = dev['family_accession'].apply(lambda x: x.split('.')[0])\n",
        "test_labels = test['family_accession'].apply(lambda x: x.split('.')[0])\n",
        "\n",
        "# mask = train_labels.isin(test_labels)\n",
        "# train_sentences = train_sentences[mask]\n",
        "# train_labels = train_labels[mask]\n",
        "# mask = validation_labels.isin(test_labels)\n",
        "# validation_sentences = validation_sentences[mask]\n",
        "# validation_labels = validation_labels[mask]\n",
        "# numclass = len(np.unique(test_labels))"
      ],
      "execution_count": 0,
      "outputs": []
    },
    {
      "cell_type": "code",
      "metadata": {
        "id": "vra4DoGwORZc",
        "colab_type": "code",
        "outputId": "31be9e4c-680c-40c9-d96e-4986680799ec",
        "colab": {
          "base_uri": "https://localhost:8080/",
          "height": 33
        }
      },
      "source": [
        "classes = train_labels.value_counts()[:1000].index.tolist()\n",
        "len(classes)"
      ],
      "execution_count": 14,
      "outputs": [
        {
          "output_type": "execute_result",
          "data": {
            "text/plain": [
              "1000"
            ]
          },
          "metadata": {
            "tags": []
          },
          "execution_count": 14
        }
      ]
    },
    {
      "cell_type": "code",
      "metadata": {
        "id": "sgWrsDGgJlfR",
        "colab_type": "code",
        "outputId": "f7193e63-a9c0-4825-90db-077478f078c2",
        "colab": {
          "base_uri": "https://localhost:8080/",
          "height": 33
        }
      },
      "source": [
        "del train\n",
        "del test\n",
        "del dev\n",
        "gc.collect()"
      ],
      "execution_count": 15,
      "outputs": [
        {
          "output_type": "execute_result",
          "data": {
            "text/plain": [
              "0"
            ]
          },
          "metadata": {
            "tags": []
          },
          "execution_count": 15
        }
      ]
    },
    {
      "cell_type": "code",
      "metadata": {
        "trusted": true,
        "id": "hHIHgZmLOoFD",
        "colab_type": "code",
        "outputId": "afd4cb7c-360c-4d9f-a0e8-5fead0502c11",
        "colab": {
          "base_uri": "https://localhost:8080/",
          "height": 84
        }
      },
      "source": [
        "mask = train_labels.isin(classes)\n",
        "train_sentences = train_sentences[mask]\n",
        "train_labels = train_labels[mask]\n",
        "mask = validation_labels.isin(classes)\n",
        "validation_sentences = validation_sentences[mask]\n",
        "validation_labels = validation_labels[mask]\n",
        "mask = test_labels.isin(classes)\n",
        "test_sentences = test_sentences[mask]\n",
        "test_labels = test_labels[mask]\n",
        "\n",
        "print('Data size after considering 1000 classes for each data split:')\n",
        "print('Train size :', len(train_sentences))\n",
        "print('Val size :', len(validation_sentences))\n",
        "print('Test size :', len(test_sentences))\n",
        "numclass = len(classes)"
      ],
      "execution_count": 16,
      "outputs": [
        {
          "output_type": "stream",
          "text": [
            "Data size after considering 1000 classes for each data split:\n",
            "Train size : 439493\n",
            "Val size : 54378\n",
            "Test size : 54378\n"
          ],
          "name": "stdout"
        }
      ]
    },
    {
      "cell_type": "code",
      "metadata": {
        "trusted": true,
        "id": "MpoLRnT0OoFN",
        "colab_type": "code",
        "outputId": "1d53f03e-1943-40f5-ac56-54ee3e8f332e",
        "colab": {
          "base_uri": "https://localhost:8080/",
          "height": 50
        }
      },
      "source": [
        "vocab_size = 21\n",
        "max_length = 250\n",
        "trunc_type = \"post\"\n",
        "padding_type = \"post\"\n",
        "oov_tok = \"<OOV>\"\n",
        "\n",
        "tokenizer = Tokenizer(oov_token=oov_tok, num_words = vocab_size)\n",
        "tokenizer.fit_on_texts(train_sentences)\n",
        "word_index = tokenizer.word_index\n",
        "print(word_index)\n",
        "\n",
        "train_sequences = tokenizer.texts_to_sequences(train_sentences)\n",
        "train_padded = pad_sequences(train_sequences, maxlen=max_length, padding=padding_type)\n",
        "del train_sequences\n",
        "del train_sentences\n",
        "gc.collect()"
      ],
      "execution_count": 17,
      "outputs": [
        {
          "output_type": "stream",
          "text": [
            "{'<OOV>': 1, 'l': 2, 'a': 3, 'g': 4, 'v': 5, 'i': 6, 'e': 7, 's': 8, 'r': 9, 'd': 10, 't': 11, 'k': 12, 'p': 13, 'f': 14, 'n': 15, 'q': 16, 'y': 17, 'm': 18, 'h': 19, 'c': 20, 'w': 21, 'x': 22, 'u': 23, 'b': 24, 'o': 25}\n"
          ],
          "name": "stdout"
        },
        {
          "output_type": "execute_result",
          "data": {
            "text/plain": [
              "0"
            ]
          },
          "metadata": {
            "tags": []
          },
          "execution_count": 17
        }
      ]
    },
    {
      "cell_type": "code",
      "metadata": {
        "id": "3iy99ZfCJ34l",
        "colab_type": "code",
        "outputId": "65689343-f84c-4a45-d8fb-12c03d93e10e",
        "colab": {
          "base_uri": "https://localhost:8080/",
          "height": 33
        }
      },
      "source": [
        "validation_sequences = tokenizer.texts_to_sequences(validation_sentences)\n",
        "validation_padded = pad_sequences(validation_sequences, maxlen=max_length, padding=padding_type)\n",
        "del validation_sentences\n",
        "del validation_sequences\n",
        "gc.collect()"
      ],
      "execution_count": 18,
      "outputs": [
        {
          "output_type": "execute_result",
          "data": {
            "text/plain": [
              "0"
            ]
          },
          "metadata": {
            "tags": []
          },
          "execution_count": 18
        }
      ]
    },
    {
      "cell_type": "code",
      "metadata": {
        "id": "uWFpKFynJ441",
        "colab_type": "code",
        "outputId": "266f9885-008d-4392-8957-e1d6dd41996f",
        "colab": {
          "base_uri": "https://localhost:8080/",
          "height": 34
        }
      },
      "source": [
        "test_sequences = tokenizer.texts_to_sequences(test_sentences)\n",
        "test_padded = pad_sequences(test_sequences, maxlen=max_length, padding=padding_type)\n",
        "del test_sentences\n",
        "del test_sequences\n",
        "gc.collect()"
      ],
      "execution_count": 0,
      "outputs": [
        {
          "output_type": "execute_result",
          "data": {
            "text/plain": [
              "0"
            ]
          },
          "metadata": {
            "tags": []
          },
          "execution_count": 16
        }
      ]
    },
    {
      "cell_type": "code",
      "metadata": {
        "id": "UpmBGMoKJ85Z",
        "colab_type": "code",
        "colab": {}
      },
      "source": [
        "# takes too much space\n",
        "# solved with non-trainable Embedding layer with identity initializer\n",
        "\n",
        "# train_padded = tf.keras.utils.to_categorical(train_padded, num_classes=vocab_size)\n",
        "# validation_padded = tf.keras.utils.to_categorical(validation_padded, num_classes=vocab_size)\n",
        "# test_padded = tf.keras.utils.to_categorical(test_padded, num_classes=vocab_size)"
      ],
      "execution_count": 0,
      "outputs": []
    },
    {
      "cell_type": "code",
      "metadata": {
        "trusted": true,
        "id": "rhXMpWpXOoFP",
        "colab_type": "code",
        "outputId": "2a300584-1713-4cff-bb40-4c6d7a1497f9",
        "colab": {
          "base_uri": "https://localhost:8080/",
          "height": 34
        }
      },
      "source": [
        "train_padded.shape"
      ],
      "execution_count": 0,
      "outputs": [
        {
          "output_type": "execute_result",
          "data": {
            "text/plain": [
              "(439493, 250)"
            ]
          },
          "metadata": {
            "tags": []
          },
          "execution_count": 18
        }
      ]
    },
    {
      "cell_type": "code",
      "metadata": {
        "trusted": true,
        "id": "vBZOxshXOoFX",
        "colab_type": "code",
        "outputId": "80dea2d4-98d4-4e6a-ee57-0d4c50f722c2",
        "colab": {
          "base_uri": "https://localhost:8080/",
          "height": 34
        }
      },
      "source": [
        "from sklearn.preprocessing import LabelEncoder\n",
        "le = LabelEncoder()\n",
        "\n",
        "train_labels = le.fit_transform(train_labels)\n",
        "validation_labels = le.transform(validation_labels)\n",
        "test_labels = le.transform(test_labels)\n",
        "\n",
        "train_labels.shape, validation_labels.shape, test_labels.shape"
      ],
      "execution_count": 0,
      "outputs": [
        {
          "output_type": "execute_result",
          "data": {
            "text/plain": [
              "((439493,), (54378,), (54378,))"
            ]
          },
          "metadata": {
            "tags": []
          },
          "execution_count": 19
        }
      ]
    },
    {
      "cell_type": "code",
      "metadata": {
        "id": "89fHOOEoWYm9",
        "colab_type": "code",
        "outputId": "ca9a1e6e-b297-4636-c29f-366e5c5c26ee",
        "colab": {
          "base_uri": "https://localhost:8080/",
          "height": 34
        }
      },
      "source": [
        "max(train_labels)"
      ],
      "execution_count": 0,
      "outputs": [
        {
          "output_type": "execute_result",
          "data": {
            "text/plain": [
              "999"
            ]
          },
          "metadata": {
            "tags": []
          },
          "execution_count": 20
        }
      ]
    },
    {
      "cell_type": "code",
      "metadata": {
        "id": "2eB81tNKWbaf",
        "colab_type": "code",
        "outputId": "d0141243-f7a5-49bc-d5fd-6d1bf219022d",
        "colab": {
          "base_uri": "https://localhost:8080/",
          "height": 34
        }
      },
      "source": [
        "max(validation_labels)"
      ],
      "execution_count": 0,
      "outputs": [
        {
          "output_type": "execute_result",
          "data": {
            "text/plain": [
              "999"
            ]
          },
          "metadata": {
            "tags": []
          },
          "execution_count": 21
        }
      ]
    },
    {
      "cell_type": "code",
      "metadata": {
        "trusted": true,
        "id": "TCv_fddVOoFc",
        "colab_type": "code",
        "colab": {}
      },
      "source": [
        "def residual_block(x, filters, dil):\n",
        "    shortcut = x\n",
        "    bn1 = tf.keras.layers.BatchNormalization()(x)\n",
        "    a1 = tf.keras.layers.Activation(\"relu\")(bn1)\n",
        "    conv1 = tf.keras.layers.Conv1D(filters, 3, dilation_rate = dil, padding=\"same\")(a1) #1100 filters and 9 kernel size in ProtCNN\n",
        "    \n",
        "    bn2 = tf.keras.layers.BatchNormalization()(conv1)\n",
        "    a2 = tf.keras.layers.Activation(\"relu\")(bn2)\n",
        "    conv2 = tf.keras.layers.Conv1D(filters, 1, padding=\"same\")(a2)\n",
        "    \n",
        "    x = tf.keras.layers.Add()([conv2, shortcut])\n",
        "    \n",
        "    return x"
      ],
      "execution_count": 0,
      "outputs": []
    },
    {
      "cell_type": "code",
      "metadata": {
        "trusted": true,
        "id": "YN9uu1b4OoFe",
        "colab_type": "code",
        "colab": {}
      },
      "source": [
        "# lr_schedule = tf.keras.callbacks.LearningRateScheduler(\n",
        "#     lambda epoch: 1e-5 * 10**(epoch / 20))\n",
        "\n",
        "es = tf.keras.callbacks.EarlyStopping(monitor='val_accuracy', mode='max', min_delta=0.05, patience=3)"
      ],
      "execution_count": 0,
      "outputs": []
    },
    {
      "cell_type": "code",
      "metadata": {
        "trusted": true,
        "id": "gHREjUe3OoFh",
        "colab_type": "code",
        "outputId": "cecb1232-ea4a-4889-aeaa-c809b5da1f04",
        "colab": {
          "base_uri": "https://localhost:8080/",
          "height": 870
        }
      },
      "source": [
        "input_x = tf.keras.layers.Input(shape=max_length)\n",
        "x = tf.keras.layers.Embedding(vocab_size, vocab_size, embeddings_initializer=tf.keras.initializers.Identity(gain=1.0), trainable=False)(input_x)\n",
        "x = tf.keras.layers.Conv1D(128, 3, padding=\"same\")(x)\n",
        "x = residual_block(x, 128, 1)\n",
        "x = residual_block(x, 128, 2) #4 blocks of these in ProtCNN\n",
        "x = tf.keras.layers.MaxPooling1D(max_length)(x)\n",
        "\n",
        "x = tf.keras.layers.Flatten()(x)\n",
        "out = tf.keras.layers.Dense(numclass, activation=\"softmax\")(x) \n",
        "\n",
        "model = tf.keras.Model(inputs=input_x, outputs=out)\n",
        "#optimizer = tf.keras.optimizers.Adam(lr=1e-5)\n",
        "\n",
        "model.compile(loss='sparse_categorical_crossentropy',optimizer=\"adam\",metrics=['accuracy'])\n",
        "model.summary()"
      ],
      "execution_count": 0,
      "outputs": [
        {
          "output_type": "stream",
          "text": [
            "Model: \"model\"\n",
            "__________________________________________________________________________________________________\n",
            "Layer (type)                    Output Shape         Param #     Connected to                     \n",
            "==================================================================================================\n",
            "input_1 (InputLayer)            [(None, 250)]        0                                            \n",
            "__________________________________________________________________________________________________\n",
            "embedding (Embedding)           (None, 250, 21)      441         input_1[0][0]                    \n",
            "__________________________________________________________________________________________________\n",
            "conv1d (Conv1D)                 (None, 250, 128)     8192        embedding[0][0]                  \n",
            "__________________________________________________________________________________________________\n",
            "batch_normalization (BatchNorma (None, 250, 128)     512         conv1d[0][0]                     \n",
            "__________________________________________________________________________________________________\n",
            "activation (Activation)         (None, 250, 128)     0           batch_normalization[0][0]        \n",
            "__________________________________________________________________________________________________\n",
            "conv1d_1 (Conv1D)               (None, 250, 128)     49280       activation[0][0]                 \n",
            "__________________________________________________________________________________________________\n",
            "batch_normalization_1 (BatchNor (None, 250, 128)     512         conv1d_1[0][0]                   \n",
            "__________________________________________________________________________________________________\n",
            "activation_1 (Activation)       (None, 250, 128)     0           batch_normalization_1[0][0]      \n",
            "__________________________________________________________________________________________________\n",
            "conv1d_2 (Conv1D)               (None, 250, 128)     16512       activation_1[0][0]               \n",
            "__________________________________________________________________________________________________\n",
            "add (Add)                       (None, 250, 128)     0           conv1d_2[0][0]                   \n",
            "                                                                 conv1d[0][0]                     \n",
            "__________________________________________________________________________________________________\n",
            "batch_normalization_2 (BatchNor (None, 250, 128)     512         add[0][0]                        \n",
            "__________________________________________________________________________________________________\n",
            "activation_2 (Activation)       (None, 250, 128)     0           batch_normalization_2[0][0]      \n",
            "__________________________________________________________________________________________________\n",
            "conv1d_3 (Conv1D)               (None, 250, 128)     49280       activation_2[0][0]               \n",
            "__________________________________________________________________________________________________\n",
            "batch_normalization_3 (BatchNor (None, 250, 128)     512         conv1d_3[0][0]                   \n",
            "__________________________________________________________________________________________________\n",
            "activation_3 (Activation)       (None, 250, 128)     0           batch_normalization_3[0][0]      \n",
            "__________________________________________________________________________________________________\n",
            "conv1d_4 (Conv1D)               (None, 250, 128)     16512       activation_3[0][0]               \n",
            "__________________________________________________________________________________________________\n",
            "add_1 (Add)                     (None, 250, 128)     0           conv1d_4[0][0]                   \n",
            "                                                                 add[0][0]                        \n",
            "__________________________________________________________________________________________________\n",
            "max_pooling1d (MaxPooling1D)    (None, 1, 128)       0           add_1[0][0]                      \n",
            "__________________________________________________________________________________________________\n",
            "flatten (Flatten)               (None, 128)          0           max_pooling1d[0][0]              \n",
            "__________________________________________________________________________________________________\n",
            "dense (Dense)                   (None, 1000)         129000      flatten[0][0]                    \n",
            "==================================================================================================\n",
            "Total params: 271,265\n",
            "Trainable params: 269,800\n",
            "Non-trainable params: 1,465\n",
            "__________________________________________________________________________________________________\n"
          ],
          "name": "stdout"
        }
      ]
    },
    {
      "cell_type": "code",
      "metadata": {
        "trusted": true,
        "id": "I-GgPN6_OoFj",
        "colab_type": "code",
        "outputId": "25a86991-75f9-4b49-fc91-90587777804e",
        "colab": {
          "base_uri": "https://localhost:8080/",
          "height": 153
        }
      },
      "source": [
        "history = model.fit(train_padded, train_labels, epochs=25, validation_data=(validation_padded, validation_labels), verbose=2, callbacks=[es])"
      ],
      "execution_count": 0,
      "outputs": [
        {
          "output_type": "stream",
          "text": [
            "Epoch 1/25\n",
            "13735/13735 - 604s - loss: 0.8346 - accuracy: 0.8255 - val_loss: 0.2537 - val_accuracy: 0.9332\n",
            "Epoch 2/25\n",
            "13735/13735 - 607s - loss: 0.1965 - accuracy: 0.9476 - val_loss: 0.1882 - val_accuracy: 0.9507\n",
            "Epoch 3/25\n",
            "13735/13735 - 620s - loss: 0.1335 - accuracy: 0.9630 - val_loss: 0.1619 - val_accuracy: 0.9582\n",
            "Epoch 4/25\n",
            "13735/13735 - 580s - loss: 0.1008 - accuracy: 0.9718 - val_loss: 0.1541 - val_accuracy: 0.9621\n"
          ],
          "name": "stdout"
        }
      ]
    },
    {
      "cell_type": "code",
      "metadata": {
        "trusted": true,
        "id": "KMiOYVueOoFl",
        "colab_type": "code",
        "outputId": "c659731a-72c9-4dc4-d248-f76b7085daf8",
        "colab": {
          "base_uri": "https://localhost:8080/",
          "height": 51
        }
      },
      "source": [
        "# serialize model to JSON\n",
        "model_json = model.to_json()\n",
        "with open(os.path.join(data_partitions_dirpath, \"model.json\"), \"w\") as json_file:\n",
        "    json_file.write(model_json)\n",
        "# serialize weights to HDF5\n",
        "model.save_weights(os.path.join(data_partitions_dirpath, \"model.h5\"))\n",
        "print(\"Saved model to disk\")"
      ],
      "execution_count": 0,
      "outputs": [
        {
          "output_type": "stream",
          "text": [
            "Saved model to disk\n",
            "Loaded model from disk\n"
          ],
          "name": "stdout"
        }
      ]
    },
    {
      "cell_type": "code",
      "metadata": {
        "id": "V9t0EJG86j7d",
        "colab_type": "code",
        "colab": {
          "base_uri": "https://localhost:8080/",
          "height": 33
        },
        "outputId": "a567c4c3-9d93-481d-ee9f-e4ea3b93072f"
      },
      "source": [
        "# load json and create model\n",
        "json_file = open(os.path.join(data_partitions_dirpath, \"model.json\"), 'r')\n",
        "loaded_model_json = json_file.read()\n",
        "json_file.close()\n",
        "loaded_model = tf.keras.models.model_from_json(loaded_model_json)\n",
        "# load weights into new model\n",
        "loaded_model.load_weights(os.path.join(data_partitions_dirpath, \"model.h5\"))\n",
        "print(\"Loaded model from disk\")\n",
        " \n",
        "# calculate embedding for new data\n",
        "embedder = tf.keras.Model(inputs = loaded_model.layers[0].input, outputs = loaded_model.layers[18].output)\n",
        "# embedder.compile(loss='categorical_crossentropy',optimizer=\"adam\")\n",
        "# predict should be allowed to use w/o compilation: \n",
        "# https://github.com/keras-team/keras/issues/2621\n",
        "# embeds = loaded_model.predict(test_padded[:10])"
      ],
      "execution_count": 6,
      "outputs": [
        {
          "output_type": "stream",
          "text": [
            "Loaded model from disk\n"
          ],
          "name": "stdout"
        }
      ]
    },
    {
      "cell_type": "code",
      "metadata": {
        "id": "mW21Qsr4D8Lr",
        "colab_type": "code",
        "outputId": "721b2e05-aac0-41a6-ec91-d3a92590d958",
        "colab": {
          "base_uri": "https://localhost:8080/",
          "height": 33
        }
      },
      "source": [
        "#2ZTB\n",
        "seq = \"MDVIREYLMFNELSALSSSPESVRSRFSSIYGTNPDGIALNNETYFNAVKPPITAQYGYYCYKNVGTVQYVNRPTDINPNVILAQDTLTNNTNEPFTTTITITGSFTNTSTVTSSTTTGFKFTSKLSIKKVFEIGGEVSFSTTIGTSETTTETITVSKSVTVTVPAQSRRTIQLTAKIAKESADFSAPITVDGYFGANFPKRVGPGGHYFWFNPARDVLNTTSGTLRGTVTNVSSFDFQTIVQPARSLLDEQ\"\n",
        "arr = [[char for char in seq]]\n",
        "seq_sequences = tokenizer.texts_to_sequences(arr)\n",
        "seq_padded = pad_sequences(seq_sequences, maxlen=max_length, padding=padding_type)\n",
        "seq_padded.shape"
      ],
      "execution_count": 41,
      "outputs": [
        {
          "output_type": "execute_result",
          "data": {
            "text/plain": [
              "(1, 250)"
            ]
          },
          "metadata": {
            "tags": []
          },
          "execution_count": 41
        }
      ]
    },
    {
      "cell_type": "code",
      "metadata": {
        "id": "nwqHerqf8gj8",
        "colab_type": "code",
        "colab": {}
      },
      "source": [
        "def parse_fasta (lines):\n",
        "    descs = []\n",
        "    seqs = []\n",
        "    data = ''\n",
        "    for line in lines:\n",
        "        if line.startswith('>'):\n",
        "            if data:   # have collected a sequence, push to seqs\n",
        "                seqs.append(data)\n",
        "                data = ''\n",
        "            descs.append(line[1:])  # Trim '>' from beginning\n",
        "        else:\n",
        "            data += line.rstrip('\\r\\n')\n",
        "    # there will be yet one more to push when we run out\n",
        "    seqs.append(data)\n",
        "    return descs, seqs\n",
        "\n",
        "descriptions, sequences = parse_fasta(open('/content/drive/My Drive/uniprot-insecticidal-filtered-reviewed_yes.fasta', 'r').read().split('\\n'))"
      ],
      "execution_count": 0,
      "outputs": []
    },
    {
      "cell_type": "code",
      "metadata": {
        "id": "v7x7CYmqVPMX",
        "colab_type": "code",
        "outputId": "994d2457-b44d-4ef7-f923-13c1dde4332b",
        "colab": {
          "base_uri": "https://localhost:8080/",
          "height": 33
        }
      },
      "source": [
        "seqs = [split_(x) for x in sequences] \n",
        "seqs_sequences = tokenizer.texts_to_sequences(seqs)\n",
        "seqs_padded = pad_sequences(seqs_sequences, maxlen=max_length, padding=padding_type)\n",
        "seqs_padded.shape"
      ],
      "execution_count": 43,
      "outputs": [
        {
          "output_type": "execute_result",
          "data": {
            "text/plain": [
              "(419, 250)"
            ]
          },
          "metadata": {
            "tags": []
          },
          "execution_count": 43
        }
      ]
    },
    {
      "cell_type": "code",
      "metadata": {
        "id": "_6X1VPLA_DYc",
        "colab_type": "code",
        "outputId": "0d0bb18c-3db6-4955-b710-b316d243d8b3",
        "colab": {
          "base_uri": "https://localhost:8080/",
          "height": 171
        }
      },
      "source": [
        "from sklearn.metrics.pairwise import cosine_similarity, euclidean_distances\n",
        "\n",
        "\n",
        "embed_2ztb = loaded_model.predict(seq_padded)\n",
        "embed_uniprots = loaded_model.predict(seqs_padded)\n",
        "sim_cosine = cosine_similarity(embed_2ztb, embed_uniprots)\n",
        "distances = euclidean_distances(embed_2ztb, embed_uniprots)\n",
        "\n",
        "print(\"Query sequence was: \")\n",
        "print(seq)\n",
        "\n",
        "idx = np.argmax(sim_cosine)\n",
        "print(\"Most cosine similar:\")\n",
        "print(descriptions[idx])\n",
        "print(sequences[idx])\n",
        "\n",
        "idx = np.argmin(distances)\n",
        "print(\"Closest in the 128 dim space\")\n",
        "print(descriptions[idx])\n",
        "print(sequences[idx])"
      ],
      "execution_count": 44,
      "outputs": [
        {
          "output_type": "stream",
          "text": [
            "Query sequence was: \n",
            "MDVIREYLMFNELSALSSSPESVRSRFSSIYGTNPDGIALNNETYFNAVKPPITAQYGYYCYKNVGTVQYVNRPTDINPNVILAQDTLTNNTNEPFTTTITITGSFTNTSTVTSSTTTGFKFTSKLSIKKVFEIGGEVSFSTTIGTSETTTETITVSKSVTVTVPAQSRRTIQLTAKIAKESADFSAPITVDGYFGANFPKRVGPGGHYFWFNPARDVLNTTSGTLRGTVTNVSSFDFQTIVQPARSLLDEQ\n",
            "Most cosine similar:\n",
            "sp|B6A879|CHI2_YERET Chitinase 2 OS=Yersinia entomophaga OX=935293 GN=chi2 PE=1 SV=1\n",
            "MVNKYTYTSSKAMSDISDVIGEPLAAWDSQVGGRVFNVIFDGKVYTNTYWVERWQVPGIGSSDGNPHNAWKFVRAATADEINKIGNPTTADVKPTENIPSPILVEDKYTEETYSRPDVNFKEDGSQGNLSYTATRVCAPMYNHYVGDKTKPKLSAYITDWCQYDARLDGGGSKEEERGRGFDLATLMQNPATYDRLIFSFLGICGDIGNKSKKVQEVWDGWNAQAPSLGLPQIGKGHIVPLDPYGDLGTARNVGLPPESADTSIESGTFLPYYQQNRAAGLLGGLRELQKKAHAMGHKLDLAFSIGGWSLSSYFSALAENPDERRVFVASVVDFFVRFPMFSCVDIDWEYPGGGGDEGNISSDKDGENYVLLIKELRSALDSRFGYSNRKEISIACSGVKAKLKKSNIDQLVANGLDNIYLMSYDFFGTIWADYIGHHTNLYSPKDPGEQELFDLSAEAAIDYLHNELGIPMEKIHLGYANYGRSAVGGDLTTRQYTKNGPALGTMENGAPEFFDIVKNYMDAEHSLSMGKNGFVLMTDTNADADFLFSEAKGHFISLDTPRTVKQKGEYAAKNKLGGVFSWSGDQDCGLLANAAREGLGYVADSNQETIDMGPLYNPGKEIYLKSISEIKSK\n",
            "Closest in the 128 dim space\n",
            "sp|B6A879|CHI2_YERET Chitinase 2 OS=Yersinia entomophaga OX=935293 GN=chi2 PE=1 SV=1\n",
            "MVNKYTYTSSKAMSDISDVIGEPLAAWDSQVGGRVFNVIFDGKVYTNTYWVERWQVPGIGSSDGNPHNAWKFVRAATADEINKIGNPTTADVKPTENIPSPILVEDKYTEETYSRPDVNFKEDGSQGNLSYTATRVCAPMYNHYVGDKTKPKLSAYITDWCQYDARLDGGGSKEEERGRGFDLATLMQNPATYDRLIFSFLGICGDIGNKSKKVQEVWDGWNAQAPSLGLPQIGKGHIVPLDPYGDLGTARNVGLPPESADTSIESGTFLPYYQQNRAAGLLGGLRELQKKAHAMGHKLDLAFSIGGWSLSSYFSALAENPDERRVFVASVVDFFVRFPMFSCVDIDWEYPGGGGDEGNISSDKDGENYVLLIKELRSALDSRFGYSNRKEISIACSGVKAKLKKSNIDQLVANGLDNIYLMSYDFFGTIWADYIGHHTNLYSPKDPGEQELFDLSAEAAIDYLHNELGIPMEKIHLGYANYGRSAVGGDLTTRQYTKNGPALGTMENGAPEFFDIVKNYMDAEHSLSMGKNGFVLMTDTNADADFLFSEAKGHFISLDTPRTVKQKGEYAAKNKLGGVFSWSGDQDCGLLANAAREGLGYVADSNQETIDMGPLYNPGKEIYLKSISEIKSK\n"
          ],
          "name": "stdout"
        }
      ]
    },
    {
      "cell_type": "code",
      "metadata": {
        "id": "Aa4V7UU09Jmb",
        "colab_type": "code",
        "colab": {
          "base_uri": "https://localhost:8080/",
          "height": 33
        },
        "outputId": "0a1e6a89-dbf4-4c53-b104-d0cefe700620"
      },
      "source": [
        "np.max(sim_cosine)"
      ],
      "execution_count": 40,
      "outputs": [
        {
          "output_type": "execute_result",
          "data": {
            "text/plain": [
              "0.22009304"
            ]
          },
          "metadata": {
            "tags": []
          },
          "execution_count": 40
        }
      ]
    },
    {
      "cell_type": "code",
      "metadata": {
        "id": "g7JpAwS1_l_r",
        "colab_type": "code",
        "colab": {}
      },
      "source": [
        ""
      ],
      "execution_count": 0,
      "outputs": []
    }
  ]
}