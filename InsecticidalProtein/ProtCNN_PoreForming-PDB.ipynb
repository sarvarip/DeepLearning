{
 "cells": [
  {
   "cell_type": "markdown",
   "metadata": {
    "colab_type": "text",
    "id": "JxM2najJOoEE"
   },
   "source": [
    "## Pfam seed random split"
   ]
  },
  {
   "cell_type": "code",
   "execution_count": 1,
   "metadata": {
    "_kg_hide-input": false,
    "colab": {
     "base_uri": "https://localhost:8080/",
     "height": 70
    },
    "colab_type": "code",
    "id": "l1HJp53SOoEI",
    "outputId": "128d4714-b749-4f6b-fcf8-9510004d5aaf"
   },
   "outputs": [],
   "source": [
    "import matplotlib.pyplot as plt # plotting\n",
    "import numpy as np # linear algebra\n",
    "import os # accessing directory structure\n",
    "import pandas as pd # data processing, CSV file I/O (e.g. pd.read_csv)\n",
    "import seaborn\n",
    "import gc\n",
    "import sklearn\n",
    "import pickle"
   ]
  },
  {
   "cell_type": "code",
   "execution_count": 2,
   "metadata": {
    "colab": {},
    "colab_type": "code",
    "id": "kkpO0nabI3Ay"
   },
   "outputs": [],
   "source": [
    "def parse_fasta (lines):\n",
    "    descs = []\n",
    "    seqs = []\n",
    "    data = ''\n",
    "    for line in lines:\n",
    "        if line.startswith('>'):\n",
    "            if data:   # have collected a sequence, push to seqs\n",
    "                seqs.append(data)\n",
    "                data = ''\n",
    "            descs.append(line[1:])  # Trim '>' from beginning\n",
    "        else:\n",
    "            data += line.rstrip('\\r\\n')\n",
    "    # there will be yet one more to push when we run out\n",
    "    seqs.append(data)\n",
    "    return descs, seqs"
   ]
  },
  {
   "cell_type": "code",
   "execution_count": 53,
   "metadata": {},
   "outputs": [],
   "source": [
    "def parse_file_append (lines, seqs=[]):\n",
    "    for line in lines: \n",
    "        seqs.append(line.strip())\n",
    "    return seqs"
   ]
  },
  {
   "cell_type": "code",
   "execution_count": 64,
   "metadata": {},
   "outputs": [],
   "source": [
    "pos_dirpath = './positive/'\n",
    "pos_seqs = []\n",
    "pos_labels = []\n",
    "for fn in os.listdir(pos_dirpath):\n",
    "    handle = open(os.path.join(pos_dirpath, fn), 'r')\n",
    "    pos_seqs = parse_file_append(handle.read().split('\\n'), pos_seqs)\n",
    "    num = int(fn.split('_')[1])\n",
    "    lab = [fn]*num\n",
    "    pos_labels.append(lab)\n",
    "    handle.close()"
   ]
  },
  {
   "cell_type": "code",
   "execution_count": 65,
   "metadata": {},
   "outputs": [
    {
     "data": {
      "text/plain": [
       "372"
      ]
     },
     "execution_count": 65,
     "metadata": {},
     "output_type": "execute_result"
    }
   ],
   "source": [
    "len(pos_seqs)"
   ]
  },
  {
   "cell_type": "code",
   "execution_count": 68,
   "metadata": {},
   "outputs": [],
   "source": [
    "from itertools import chain\n",
    "pos_labels = list(chain.from_iterable(pos_labels))"
   ]
  },
  {
   "cell_type": "code",
   "execution_count": 69,
   "metadata": {},
   "outputs": [
    {
     "data": {
      "text/plain": [
       "372"
      ]
     },
     "execution_count": 69,
     "metadata": {},
     "output_type": "execute_result"
    }
   ],
   "source": [
    "len(pos_labels)"
   ]
  },
  {
   "cell_type": "code",
   "execution_count": 117,
   "metadata": {},
   "outputs": [],
   "source": [
    "def get_performance_vals(y_test, classes):\n",
    "    a = np.array(y_test)\n",
    "    b = classes\n",
    "    #print(\"Predicted and actual classes\\n\")\n",
    "    #print(classes)\n",
    "    #print(a)\n",
    "    tp = np.sum(np.multiply(a==1, b==1)) #TP\n",
    "    fp = np.sum(np.multiply(b==1, a==0)) #FP\n",
    "    tn = np.sum(np.multiply(a==0, b==0)) #TN\n",
    "    fn = np.sum(np.multiply(a==1, b==0)) #FN\n",
    "\n",
    "    tp = int(tp)\n",
    "    fp = int(fp)\n",
    "    tn = int(tn)\n",
    "    fn = int(fn)\n",
    "\n",
    "    print(\"True positive: %d, false positive: %d, true negative: %d, false negative: %d\\n\" %(tp,fp,tn,fn))\n",
    "\n",
    "    mcc = (tp*tn-fp*fn)/(np.sqrt((tp+fp)*(tp+fn)*(tn+fp)*(tn+fn)))\n",
    "    precision = tp/(tp+fp)\n",
    "    recall = tp/(tp+fn)\n",
    "    fscore = 2*precision*recall/(precision+recall)\n",
    "    accuracy = np.sum(a==b)/len(classes)\n",
    "\n",
    "    print(\"%s: %2f\" % ('MCC', mcc))\n",
    "    print(\"%s: %.2f%%\" % ('Accuracy', 100*accuracy))\n",
    "    print(\"%s: %.2f\" % ('F1 score', fscore))\n",
    "    print(\"%s: %.2f\" % ('Precision', precision))\n",
    "    print(\"%s: %.2f\" % ('Recall', recall))\n",
    "\n",
    "    #return mcc, precision, recall, fscore, accuracy"
   ]
  },
  {
   "cell_type": "code",
   "execution_count": 30,
   "metadata": {},
   "outputs": [],
   "source": [
    "neg_seqs = []\n",
    "with open(\"./negative/structure_negative_culled_3627.txt\", 'r') as f:\n",
    "    for line in f.read().split('\\n'):\n",
    "        neg_seqs.append(line)"
   ]
  },
  {
   "cell_type": "code",
   "execution_count": 31,
   "metadata": {},
   "outputs": [],
   "source": [
    "neg_labels = ['neg']*len(neg_seqs)"
   ]
  },
  {
   "cell_type": "code",
   "execution_count": 70,
   "metadata": {},
   "outputs": [
    {
     "data": {
      "text/plain": [
       "3627"
      ]
     },
     "execution_count": 70,
     "metadata": {},
     "output_type": "execute_result"
    }
   ],
   "source": [
    "len(neg_labels)"
   ]
  },
  {
   "cell_type": "code",
   "execution_count": 73,
   "metadata": {},
   "outputs": [],
   "source": [
    "pos = []\n",
    "neg = []\n",
    "\n",
    "for seq in pos_seqs:\n",
    "    s = seq.replace(\" \", \"\")\n",
    "    pos.append(s)\n",
    "\n",
    "for seq in neg_seqs:\n",
    "    s = seq.replace(\" \", \"\")\n",
    "    neg.append(s)"
   ]
  },
  {
   "cell_type": "code",
   "execution_count": null,
   "metadata": {},
   "outputs": [],
   "source": []
  },
  {
   "cell_type": "code",
   "execution_count": null,
   "metadata": {},
   "outputs": [],
   "source": []
  },
  {
   "cell_type": "code",
   "execution_count": 161,
   "metadata": {
    "colab": {},
    "colab_type": "code",
    "id": "3Vv6H1hZlQ67"
   },
   "outputs": [],
   "source": [
    "data = pos + neg\n",
    "labels = pos_labels + neg_labels\n",
    "\n",
    "from sklearn.model_selection import train_test_split\n",
    "train, dev, train_labels, validation_labels = train_test_split(\n",
    "    data,\n",
    "    labels,\n",
    "    test_size = 0.2,\n",
    "    random_state=1,\n",
    "    stratify=labels)\n",
    "\n",
    "#can jump to Method 3 from here"
   ]
  },
  {
   "cell_type": "code",
   "execution_count": 77,
   "metadata": {
    "colab": {
     "base_uri": "https://localhost:8080/",
     "height": 70
    },
    "colab_type": "code",
    "id": "0tf1CPZOpMSt",
    "outputId": "341b322b-d6dc-4748-f498-93767caf960e"
   },
   "outputs": [
    {
     "name": "stdout",
     "output_type": "stream",
     "text": [
      "Counter({'neg': 2901, 'pos_46_Clenterotox.txt': 37, 'pos_44_Toxin_Tolip.txt': 35, 'pos_37_Leukocidin.txt': 30, 'pos_31_MACPF.txt': 25, 'pos_28_Binary_toxB_2.txt': 22, 'pos_24_Anemone_cytotox.txt': 19, 'pos_22_Endotoxin_C.txt': 18, 'pos_22_Thiol_cytolysin.txt': 18, 'pos_19_FB_lectin.txt': 15, 'pos_18_ETX_MTX2.txt': 14, 'pos_15_Gasdermin.txt': 12, 'pos_13_PorB.txt': 10, 'pos_10_Aerolysin.txt': 8, 'pos_9_Bac_thur_toxin.txt': 7, 'pos_7_HlyE.txt': 6, 'pos_6_Aegerolysin.txt': 5, 'pos_6_Colicin.txt': 5, 'pos_4_Tcda_Tcdb_pore.txt': 3, 'pos_4_T4BSS_DotI_IcmL.txt': 3, 'pos_2_PlyB_C.txt': 2, 'pos_3_BB_PF.txt': 2, 'pos_2_Hemolysin_N.txt': 2})\n",
      "Counter({'neg': 726, 'pos_44_Toxin_Tolip.txt': 9, 'pos_46_Clenterotox.txt': 9, 'pos_37_Leukocidin.txt': 7, 'pos_28_Binary_toxB_2.txt': 6, 'pos_31_MACPF.txt': 6, 'pos_24_Anemone_cytotox.txt': 5, 'pos_22_Endotoxin_C.txt': 4, 'pos_18_ETX_MTX2.txt': 4, 'pos_19_FB_lectin.txt': 4, 'pos_22_Thiol_cytolysin.txt': 4, 'pos_13_PorB.txt': 3, 'pos_15_Gasdermin.txt': 3, 'pos_10_Aerolysin.txt': 2, 'pos_9_Bac_thur_toxin.txt': 2, 'pos_6_Aegerolysin.txt': 1, 'pos_7_HlyE.txt': 1, 'pos_4_Tcda_Tcdb_pore.txt': 1, 'pos_4_T4BSS_DotI_IcmL.txt': 1, 'pos_3_BB_PF.txt': 1, 'pos_6_Colicin.txt': 1})\n"
     ]
    }
   ],
   "source": [
    "from collections import Counter\n",
    "\n",
    "print(Counter(train_labels))\n",
    "print(Counter(validation_labels))"
   ]
  },
  {
   "cell_type": "markdown",
   "metadata": {
    "colab_type": "text",
    "id": "s9SIRvflOoEl"
   },
   "source": [
    "## Loading the data"
   ]
  },
  {
   "cell_type": "code",
   "execution_count": 78,
   "metadata": {
    "colab": {
     "base_uri": "https://localhost:8080/",
     "height": 281
    },
    "colab_type": "code",
    "id": "cZLCHqCJOoE7",
    "outputId": "61cce005-e2bd-44fe-cf12-080504a170e4"
   },
   "outputs": [
    {
     "data": {
      "image/png": "[encoded data removed]",
      "text/plain": [
       "<Figure size 432x288 with 2 Axes>"
      ]
     },
     "metadata": {
      "needs_background": "light"
     },
     "output_type": "display_data"
    }
   ],
   "source": [
    "# Length of sequence in train data.\n",
    "trainlen= [len(x) for x in train]\n",
    "devlen= [len(x) for x in dev]\n",
    "\n",
    "def plot_seq_count(lengths, data_name):\n",
    "    seaborn.distplot(lengths)\n",
    "    plt.title(f'Sequence char count: {data_name}')\n",
    "    plt.grid(True)\n",
    "\n",
    "plt.subplot(1, 3, 1)\n",
    "plot_seq_count(trainlen, 'Train')\n",
    "\n",
    "plt.subplot(1, 3, 2)\n",
    "plot_seq_count(devlen, 'Dev')\n",
    "\n",
    "plt.subplots_adjust(right=3.0)\n",
    "plt.show()"
   ]
  },
  {
   "cell_type": "code",
   "execution_count": 79,
   "metadata": {
    "colab": {
     "base_uri": "https://localhost:8080/",
     "height": 50
    },
    "colab_type": "code",
    "id": "fsZvHMfitHf3",
    "outputId": "761b273d-d26b-4e85-8e0b-072f9e4269df"
   },
   "outputs": [
    {
     "name": "stdout",
     "output_type": "stream",
     "text": [
      "1417\n",
      "1746\n"
     ]
    }
   ],
   "source": [
    "print(max(trainlen))\n",
    "print(max(devlen))"
   ]
  },
  {
   "cell_type": "code",
   "execution_count": 80,
   "metadata": {},
   "outputs": [],
   "source": [
    "#ML Method Starting here"
   ]
  },
  {
   "cell_type": "code",
   "execution_count": 81,
   "metadata": {},
   "outputs": [
    {
     "name": "stdout",
     "output_type": "stream",
     "text": [
      "Tensorflow version 2.2.0\n",
      "WARNING:tensorflow:From <ipython-input-81-0ced83b4a304>:6: is_gpu_available (from tensorflow.python.framework.test_util) is deprecated and will be removed in a future version.\n",
      "Instructions for updating:\n",
      "Use `tf.config.list_physical_devices('GPU')` instead.\n"
     ]
    },
    {
     "name": "stderr",
     "output_type": "stream",
     "text": [
      "C:\\Users\\sarva\\Anaconda3\\lib\\site-packages\\tensorboard\\compat\\tensorflow_stub\\dtypes.py:541: FutureWarning: Passing (type, 1) or '1type' as a synonym of type is deprecated; in a future version of numpy, it will be understood as (type, (1,)) / '(1,)type'.\n",
      "  _np_qint8 = np.dtype([(\"qint8\", np.int8, 1)])\n",
      "C:\\Users\\sarva\\Anaconda3\\lib\\site-packages\\tensorboard\\compat\\tensorflow_stub\\dtypes.py:542: FutureWarning: Passing (type, 1) or '1type' as a synonym of type is deprecated; in a future version of numpy, it will be understood as (type, (1,)) / '(1,)type'.\n",
      "  _np_quint8 = np.dtype([(\"quint8\", np.uint8, 1)])\n",
      "C:\\Users\\sarva\\Anaconda3\\lib\\site-packages\\tensorboard\\compat\\tensorflow_stub\\dtypes.py:543: FutureWarning: Passing (type, 1) or '1type' as a synonym of type is deprecated; in a future version of numpy, it will be understood as (type, (1,)) / '(1,)type'.\n",
      "  _np_qint16 = np.dtype([(\"qint16\", np.int16, 1)])\n",
      "C:\\Users\\sarva\\Anaconda3\\lib\\site-packages\\tensorboard\\compat\\tensorflow_stub\\dtypes.py:544: FutureWarning: Passing (type, 1) or '1type' as a synonym of type is deprecated; in a future version of numpy, it will be understood as (type, (1,)) / '(1,)type'.\n",
      "  _np_quint16 = np.dtype([(\"quint16\", np.uint16, 1)])\n",
      "C:\\Users\\sarva\\Anaconda3\\lib\\site-packages\\tensorboard\\compat\\tensorflow_stub\\dtypes.py:545: FutureWarning: Passing (type, 1) or '1type' as a synonym of type is deprecated; in a future version of numpy, it will be understood as (type, (1,)) / '(1,)type'.\n",
      "  _np_qint32 = np.dtype([(\"qint32\", np.int32, 1)])\n",
      "C:\\Users\\sarva\\Anaconda3\\lib\\site-packages\\tensorboard\\compat\\tensorflow_stub\\dtypes.py:550: FutureWarning: Passing (type, 1) or '1type' as a synonym of type is deprecated; in a future version of numpy, it will be understood as (type, (1,)) / '(1,)type'.\n",
      "  np_resource = np.dtype([(\"resource\", np.ubyte, 1)])\n"
     ]
    },
    {
     "name": "stdout",
     "output_type": "stream",
     "text": [
      "True\n",
      "Compute dtype: float16\n",
      "Variable dtype: float32\n"
     ]
    }
   ],
   "source": [
    "import tensorflow as tf\n",
    "print(\"Tensorflow version \" + tf.__version__)\n",
    "\n",
    "tf.test.is_built_with_cuda()\n",
    "\n",
    "print(tf.test.is_gpu_available(cuda_only=False, min_cuda_compute_capability=None))\n",
    "\n",
    "tf.config.experimental.list_physical_devices('GPU')\n",
    "#for device in gpu_devices: tf.config.experimental.set_memory_growth(device, True)\n",
    "\n",
    "# import tensorflow.keras.backend as K\n",
    "# dtype = 'float16'\n",
    "# K.set_floatx(dtype)\n",
    "# K.set_epsilon(1e-4)\n",
    "\n",
    "from tensorflow.keras.preprocessing.text import Tokenizer\n",
    "from tensorflow.keras.preprocessing.sequence import pad_sequences\n",
    "from tensorflow.keras.mixed_precision import experimental as mixed_precision\n",
    "policy = mixed_precision.Policy('mixed_float16')\n",
    "mixed_precision.set_policy(policy)\n",
    "\n",
    "print('Compute dtype: %s' % policy.compute_dtype)\n",
    "print('Variable dtype: %s' % policy.variable_dtype)"
   ]
  },
  {
   "cell_type": "code",
   "execution_count": 82,
   "metadata": {
    "colab": {},
    "colab_type": "code",
    "id": "DsU7zKDkOoE9"
   },
   "outputs": [],
   "source": [
    "def split_(word): \n",
    "    return [char for char in word]\n",
    "\n",
    "train_sentences = [[char for char in word] for word in train]\n",
    "validation_sentences = [[char for char in word] for word in dev]\n",
    "#test_sentences = test['sequence'].apply(lambda x: split_(x))"
   ]
  },
  {
   "cell_type": "code",
   "execution_count": 84,
   "metadata": {
    "colab": {
     "base_uri": "https://localhost:8080/",
     "height": 33
    },
    "colab_type": "code",
    "id": "MpoLRnT0OoFN",
    "outputId": "79f02a60-1599-4a1e-fc7a-1b9e9e6e718f"
   },
   "outputs": [
    {
     "name": "stdout",
     "output_type": "stream",
     "text": [
      "{'<OOV>': 1, 'h': 2, 'e': 3, 't': 4, 's': 5, 'g': 6, 'b': 7, 'i': 8}\n"
     ]
    }
   ],
   "source": [
    "vocab_size = 8\n",
    "max_length = 700\n",
    "trunc_type = \"post\"\n",
    "padding_type = \"post\"\n",
    "oov_tok = \"<OOV>\"\n",
    "\n",
    "tokenizer = Tokenizer(oov_token=oov_tok, num_words = vocab_size)\n",
    "tokenizer.fit_on_texts(train_sentences)\n",
    "word_index = tokenizer.word_index\n",
    "print(word_index)\n",
    "\n",
    "train_sequences = tokenizer.texts_to_sequences(train_sentences)\n",
    "train_padded = pad_sequences(train_sequences, maxlen=max_length, padding=padding_type)\n",
    "# del train_sentences\n",
    "# del train_sequences\n",
    "# gc.collect()"
   ]
  },
  {
   "cell_type": "code",
   "execution_count": 85,
   "metadata": {
    "colab": {},
    "colab_type": "code",
    "id": "3iy99ZfCJ34l"
   },
   "outputs": [],
   "source": [
    "validation_sequences = tokenizer.texts_to_sequences(validation_sentences)\n",
    "validation_padded = pad_sequences(validation_sequences, maxlen=max_length, padding=padding_type)\n",
    "# del validation_sentences\n",
    "# del validation_sequences\n",
    "# gc.collect()"
   ]
  },
  {
   "cell_type": "code",
   "execution_count": 86,
   "metadata": {
    "colab": {
     "base_uri": "https://localhost:8080/",
     "height": 33
    },
    "colab_type": "code",
    "id": "rhXMpWpXOoFP",
    "outputId": "78f7883c-7106-4b5d-9137-a634692a08d9"
   },
   "outputs": [
    {
     "data": {
      "text/plain": [
       "(3199, 700)"
      ]
     },
     "execution_count": 86,
     "metadata": {},
     "output_type": "execute_result"
    }
   ],
   "source": [
    "train_padded.shape"
   ]
  },
  {
   "cell_type": "code",
   "execution_count": 163,
   "metadata": {},
   "outputs": [],
   "source": [
    "#Making the labels into two classes, positive and negative\n",
    "detailed_train_labels = train_labels\n",
    "train_labels = [lab.split('_')[0] for lab in train_labels]"
   ]
  },
  {
   "cell_type": "code",
   "execution_count": 164,
   "metadata": {},
   "outputs": [],
   "source": [
    "detailed_validation_labels = validation_labels\n",
    "validation_labels = [lab.split('_')[0] for lab in validation_labels]"
   ]
  },
  {
   "cell_type": "code",
   "execution_count": 92,
   "metadata": {
    "colab": {
     "base_uri": "https://localhost:8080/",
     "height": 33
    },
    "colab_type": "code",
    "id": "2eB81tNKWbaf",
    "outputId": "4f233e42-7130-4d05-9962-e0cb8e08c0cc"
   },
   "outputs": [
    {
     "data": {
      "text/plain": [
       "((3199,), (800,))"
      ]
     },
     "execution_count": 92,
     "metadata": {},
     "output_type": "execute_result"
    }
   ],
   "source": [
    "from sklearn.preprocessing import LabelEncoder\n",
    "le = LabelEncoder()\n",
    "\n",
    "train_labels = le.fit_transform(train_labels)\n",
    "validation_labels = le.transform(validation_labels)\n",
    "#test_labels = le.transform(test_labels)\n",
    "\n",
    "train_labels.shape, validation_labels.shape"
   ]
  },
  {
   "cell_type": "code",
   "execution_count": 93,
   "metadata": {},
   "outputs": [
    {
     "name": "stdout",
     "output_type": "stream",
     "text": [
      "{0: 'neg', 1: 'pos'}\n"
     ]
    }
   ],
   "source": [
    "le_name_mapping = dict(zip(le.classes_, le.transform(le.classes_)))\n",
    "umap_map = {v: k for k, v in le_name_mapping.items()}\n",
    "print(umap_map)"
   ]
  },
  {
   "cell_type": "code",
   "execution_count": 94,
   "metadata": {},
   "outputs": [],
   "source": [
    "def residual_block(x, filters, dil):\n",
    "    shortcut = x\n",
    "    bn1 = tf.keras.layers.BatchNormalization()(x)\n",
    "    a1 = tf.keras.layers.Activation(\"relu\")(bn1)\n",
    "    conv1 = tf.keras.layers.Conv1D(filters, 3, dilation_rate = dil, padding=\"same\")(a1) #1100 filters and 9 kernel size in ProtCNN\n",
    "    \n",
    "    bn2 = tf.keras.layers.BatchNormalization()(conv1)\n",
    "    a2 = tf.keras.layers.Activation(\"relu\")(bn2)\n",
    "    conv2 = tf.keras.layers.Conv1D(filters, 1, padding=\"same\")(a2)\n",
    "    \n",
    "    x = tf.keras.layers.Add()([conv2, shortcut])\n",
    "    \n",
    "    return x"
   ]
  },
  {
   "cell_type": "code",
   "execution_count": 97,
   "metadata": {
    "colab": {
     "base_uri": "https://localhost:8080/",
     "height": 856
    },
    "colab_type": "code",
    "id": "gHREjUe3OoFh",
    "outputId": "101f0f32-c106-488a-aa22-a894ad687d2a"
   },
   "outputs": [
    {
     "name": "stdout",
     "output_type": "stream",
     "text": [
      "Model: \"model_1\"\n",
      "__________________________________________________________________________________________________\n",
      "Layer (type)                    Output Shape         Param #     Connected to                     \n",
      "==================================================================================================\n",
      "input_2 (InputLayer)            [(None, 700)]        0                                            \n",
      "__________________________________________________________________________________________________\n",
      "embedding_1 (Embedding)         (None, 700, 8)       64          input_2[0][0]                    \n",
      "__________________________________________________________________________________________________\n",
      "conv1d_5 (Conv1D)               (None, 700, 128)     3200        embedding_1[0][0]                \n",
      "__________________________________________________________________________________________________\n",
      "batch_normalization_4 (BatchNor (None, 700, 128)     512         conv1d_5[0][0]                   \n",
      "__________________________________________________________________________________________________\n",
      "activation_4 (Activation)       (None, 700, 128)     0           batch_normalization_4[0][0]      \n",
      "__________________________________________________________________________________________________\n",
      "conv1d_6 (Conv1D)               (None, 700, 128)     49280       activation_4[0][0]               \n",
      "__________________________________________________________________________________________________\n",
      "batch_normalization_5 (BatchNor (None, 700, 128)     512         conv1d_6[0][0]                   \n",
      "__________________________________________________________________________________________________\n",
      "activation_5 (Activation)       (None, 700, 128)     0           batch_normalization_5[0][0]      \n",
      "__________________________________________________________________________________________________\n",
      "conv1d_7 (Conv1D)               (None, 700, 128)     16512       activation_5[0][0]               \n",
      "__________________________________________________________________________________________________\n",
      "add_2 (Add)                     (None, 700, 128)     0           conv1d_7[0][0]                   \n",
      "                                                                 conv1d_5[0][0]                   \n",
      "__________________________________________________________________________________________________\n",
      "batch_normalization_6 (BatchNor (None, 700, 128)     512         add_2[0][0]                      \n",
      "__________________________________________________________________________________________________\n",
      "activation_6 (Activation)       (None, 700, 128)     0           batch_normalization_6[0][0]      \n",
      "__________________________________________________________________________________________________\n",
      "conv1d_8 (Conv1D)               (None, 700, 128)     49280       activation_6[0][0]               \n",
      "__________________________________________________________________________________________________\n",
      "batch_normalization_7 (BatchNor (None, 700, 128)     512         conv1d_8[0][0]                   \n",
      "__________________________________________________________________________________________________\n",
      "activation_7 (Activation)       (None, 700, 128)     0           batch_normalization_7[0][0]      \n",
      "__________________________________________________________________________________________________\n",
      "conv1d_9 (Conv1D)               (None, 700, 128)     16512       activation_7[0][0]               \n",
      "__________________________________________________________________________________________________\n",
      "add_3 (Add)                     (None, 700, 128)     0           conv1d_9[0][0]                   \n",
      "                                                                 add_2[0][0]                      \n",
      "__________________________________________________________________________________________________\n",
      "max_pooling1d_1 (MaxPooling1D)  (None, 1, 128)       0           add_3[0][0]                      \n",
      "__________________________________________________________________________________________________\n",
      "flatten_1 (Flatten)             (None, 128)          0           max_pooling1d_1[0][0]            \n",
      "__________________________________________________________________________________________________\n",
      "dense_1 (Dense)                 (None, 1)            129         flatten_1[0][0]                  \n",
      "==================================================================================================\n",
      "Total params: 137,025\n",
      "Trainable params: 135,937\n",
      "Non-trainable params: 1,088\n",
      "__________________________________________________________________________________________________\n"
     ]
    }
   ],
   "source": [
    "input_x = tf.keras.layers.Input(shape=700)\n",
    "x = tf.keras.layers.Embedding(vocab_size, vocab_size, embeddings_initializer=tf.keras.initializers.Identity(gain=1.0), trainable=False)(input_x)\n",
    "x = tf.keras.layers.Conv1D(128, 3, padding=\"same\")(x)\n",
    "x = residual_block(x, 128, 1)\n",
    "x = residual_block(x, 128, 2) #4 blocks of these in ProtCNN\n",
    "x = tf.keras.layers.MaxPooling1D(max_length)(x)\n",
    "\n",
    "x = tf.keras.layers.Flatten()(x)\n",
    "out = tf.keras.layers.Dense(1, activation=\"sigmoid\")(x) \n",
    "\n",
    "model = tf.keras.Model(inputs=input_x, outputs=out)\n",
    "#optimizer = tf.keras.optimizers.Adam(lr=1e-5)\n",
    "\n",
    "model.compile(loss='binary_crossentropy',optimizer=\"adam\",metrics=['accuracy'])\n",
    "model.summary()"
   ]
  },
  {
   "cell_type": "code",
   "execution_count": 98,
   "metadata": {
    "colab": {
     "base_uri": "https://localhost:8080/",
     "height": 386
    },
    "colab_type": "code",
    "id": "I-GgPN6_OoFj",
    "outputId": "40067b50-b3ce-4d2d-f04a-a6364511eff7"
   },
   "outputs": [
    {
     "name": "stdout",
     "output_type": "stream",
     "text": [
      "Epoch 1/25\n",
      "100/100 - 2s - loss: 0.3447 - accuracy: 0.9022 - val_loss: 0.4404 - val_accuracy: 0.9075\n",
      "Epoch 2/25\n",
      "100/100 - 1s - loss: 0.1805 - accuracy: 0.9384 - val_loss: 0.3329 - val_accuracy: 0.9075\n",
      "Epoch 3/25\n",
      "100/100 - 1s - loss: 0.1560 - accuracy: 0.9437 - val_loss: 0.2518 - val_accuracy: 0.9075\n",
      "Epoch 4/25\n",
      "100/100 - 1s - loss: 0.1273 - accuracy: 0.9528 - val_loss: 0.1969 - val_accuracy: 0.9488\n",
      "Epoch 5/25\n",
      "100/100 - 1s - loss: 0.0914 - accuracy: 0.9675 - val_loss: 0.1401 - val_accuracy: 0.9575\n",
      "Epoch 6/25\n",
      "100/100 - 1s - loss: 0.1160 - accuracy: 0.9600 - val_loss: 0.1309 - val_accuracy: 0.9650\n",
      "Epoch 7/25\n",
      "100/100 - 1s - loss: 0.0730 - accuracy: 0.9750 - val_loss: 0.1075 - val_accuracy: 0.9700\n",
      "Epoch 8/25\n",
      "100/100 - 1s - loss: 0.0497 - accuracy: 0.9850 - val_loss: 0.1018 - val_accuracy: 0.9650\n",
      "Epoch 9/25\n",
      "100/100 - 1s - loss: 0.0537 - accuracy: 0.9809 - val_loss: 0.1097 - val_accuracy: 0.9688\n",
      "Epoch 10/25\n",
      "100/100 - 1s - loss: 0.0568 - accuracy: 0.9794 - val_loss: 0.1118 - val_accuracy: 0.9688\n",
      "Epoch 11/25\n",
      "100/100 - 1s - loss: 0.0344 - accuracy: 0.9903 - val_loss: 0.1177 - val_accuracy: 0.9700\n"
     ]
    }
   ],
   "source": [
    "es = tf.keras.callbacks.EarlyStopping(monitor='val_accuracy', mode='max', min_delta=0.01, patience=5)\n",
    "history = model.fit(train_padded, train_labels, epochs=25, validation_data=(validation_padded, validation_labels), verbose=2, callbacks=[es])"
   ]
  },
  {
   "cell_type": "code",
   "execution_count": 123,
   "metadata": {},
   "outputs": [],
   "source": [
    "preds = model.predict(validation_padded)"
   ]
  },
  {
   "cell_type": "code",
   "execution_count": 124,
   "metadata": {},
   "outputs": [],
   "source": [
    "mask = preds > 0.5\n",
    "preds[mask] = 1\n",
    "preds[~mask] = 0"
   ]
  },
  {
   "cell_type": "code",
   "execution_count": 129,
   "metadata": {},
   "outputs": [],
   "source": [
    "preds = preds.reshape(-1)"
   ]
  },
  {
   "cell_type": "code",
   "execution_count": 131,
   "metadata": {},
   "outputs": [
    {
     "name": "stdout",
     "output_type": "stream",
     "text": [
      "True positive: 55, false positive: 19, true negative: 721, false negative: 5\n",
      "\n",
      "MCC: 0.809992\n",
      "Accuracy: 97.00%\n",
      "F1 score: 0.82\n",
      "Precision: 0.74\n",
      "Recall: 0.92\n"
     ]
    }
   ],
   "source": [
    "get_performance_vals(preds, validation_labels)"
   ]
  },
  {
   "cell_type": "code",
   "execution_count": 140,
   "metadata": {},
   "outputs": [],
   "source": [
    "preds = preds.astype('int')"
   ]
  },
  {
   "cell_type": "code",
   "execution_count": 153,
   "metadata": {},
   "outputs": [],
   "source": [
    "false_neg_idx = []\n",
    "false_pos_idx = []\n",
    "for i in range(len(preds)):\n",
    "    if (preds[i] == 0 and validation_labels[i] == 1):\n",
    "        false_neg_idx.append(i)\n",
    "    if (preds[i] == 1 and validation_labels[i] == 0):\n",
    "        false_pos_idx.append(i)"
   ]
  },
  {
   "cell_type": "code",
   "execution_count": 155,
   "metadata": {},
   "outputs": [
    {
     "data": {
      "text/plain": [
       "[153, 297, 619, 734, 763]"
      ]
     },
     "execution_count": 155,
     "metadata": {},
     "output_type": "execute_result"
    }
   ],
   "source": [
    "false_pos_idx"
   ]
  },
  {
   "cell_type": "code",
   "execution_count": 169,
   "metadata": {},
   "outputs": [],
   "source": [
    "false_pos_seqs = [dev[i] for i in false_pos_idx]"
   ]
  },
  {
   "cell_type": "code",
   "execution_count": 156,
   "metadata": {},
   "outputs": [
    {
     "data": {
      "text/plain": [
       "[24,\n",
       " 92,\n",
       " 96,\n",
       " 125,\n",
       " 126,\n",
       " 176,\n",
       " 224,\n",
       " 235,\n",
       " 260,\n",
       " 320,\n",
       " 425,\n",
       " 462,\n",
       " 469,\n",
       " 519,\n",
       " 525,\n",
       " 603,\n",
       " 608,\n",
       " 651,\n",
       " 684]"
      ]
     },
     "execution_count": 156,
     "metadata": {},
     "output_type": "execute_result"
    }
   ],
   "source": [
    "false_neg_idx"
   ]
  },
  {
   "cell_type": "code",
   "execution_count": 170,
   "metadata": {},
   "outputs": [],
   "source": [
    "false_neg_seqs = [dev[i] for i in false_neg_idx]"
   ]
  },
  {
   "cell_type": "code",
   "execution_count": 168,
   "metadata": {},
   "outputs": [
    {
     "data": {
      "text/plain": [
       "['pos_10_Aerolysin.txt',\n",
       " 'pos_7_HlyE.txt',\n",
       " 'pos_18_ETX_MTX2.txt',\n",
       " 'pos_4_Tcda_Tcdb_pore.txt',\n",
       " 'pos_44_Toxin_Tolip.txt',\n",
       " 'pos_24_Anemone_cytotox.txt',\n",
       " 'pos_31_MACPF.txt',\n",
       " 'pos_4_T4BSS_DotI_IcmL.txt',\n",
       " 'pos_22_Thiol_cytolysin.txt',\n",
       " 'pos_9_Bac_thur_toxin.txt',\n",
       " 'pos_10_Aerolysin.txt',\n",
       " 'pos_31_MACPF.txt',\n",
       " 'pos_46_Clenterotox.txt',\n",
       " 'pos_9_Bac_thur_toxin.txt',\n",
       " 'pos_3_BB_PF.txt',\n",
       " 'pos_31_MACPF.txt',\n",
       " 'pos_15_Gasdermin.txt',\n",
       " 'pos_31_MACPF.txt',\n",
       " 'pos_6_Colicin.txt']"
      ]
     },
     "execution_count": 168,
     "metadata": {},
     "output_type": "execute_result"
    }
   ],
   "source": [
    "[detailed_validation_labels[i] for i in false_neg_idx]"
   ]
  },
  {
   "cell_type": "code",
   "execution_count": 174,
   "metadata": {},
   "outputs": [],
   "source": [
    "with open('ss.txt', 'r') as handle:\n",
    "    descs, seqs = parse_fasta(handle.read().split('\\n'))"
   ]
  },
  {
   "cell_type": "code",
   "execution_count": 176,
   "metadata": {},
   "outputs": [],
   "source": [
    "pdbseqs = [seq.replace(\" \", \"\") for seq in seqs]"
   ]
  },
  {
   "cell_type": "code",
   "execution_count": 179,
   "metadata": {},
   "outputs": [],
   "source": [
    "false_neg_pdbs = []\n",
    "for i in range(len(pdbseqs)):\n",
    "    if pdbseqs[i] in false_neg_seqs:\n",
    "        false_neg_pdbs.append(descs[i])"
   ]
  },
  {
   "cell_type": "code",
   "execution_count": 180,
   "metadata": {},
   "outputs": [
    {
     "data": {
      "text/plain": [
       "['1A87:A:secstr',\n",
       " '1KD6:A:secstr',\n",
       " '1KFH:A:secstr',\n",
       " '1M3I:C:secstr',\n",
       " '1VCY:A:secstr',\n",
       " '1VGF:B:secstr',\n",
       " '2QP2:A:secstr',\n",
       " '2QUO:A:secstr',\n",
       " '2Y9G:A:secstr',\n",
       " '3C0M:B:secstr',\n",
       " '3OJY:A:secstr',\n",
       " '3T5O:A:secstr',\n",
       " '4MKQ:B:secstr',\n",
       " '5CNL:B:secstr',\n",
       " '5J69:A:secstr',\n",
       " '5JZH:H:secstr',\n",
       " '5JZH:K:secstr',\n",
       " '5JZH:N:secstr',\n",
       " '5JZH:I:secstr',\n",
       " '5JZH:A:secstr',\n",
       " '5JZH:L:secstr',\n",
       " '5JZH:D:secstr',\n",
       " '5JZH:B:secstr',\n",
       " '5JZH:J:secstr',\n",
       " '5JZH:E:secstr',\n",
       " '5JZH:F:secstr',\n",
       " '5JZH:C:secstr',\n",
       " '5JZH:M:secstr',\n",
       " '5JZH:G:secstr',\n",
       " '5TIB:A:secstr',\n",
       " '6MRW:N:secstr',\n",
       " '6MRW:H:secstr',\n",
       " '6MRW:D:secstr',\n",
       " '6MRW:M:secstr',\n",
       " '6MRW:K:secstr',\n",
       " '6MRW:L:secstr',\n",
       " '6MRW:A:secstr',\n",
       " '6MRW:I:secstr',\n",
       " '6MRW:B:secstr',\n",
       " '6MRW:J:secstr',\n",
       " '6MRW:E:secstr',\n",
       " '6MRW:F:secstr',\n",
       " '6MRW:C:secstr',\n",
       " '6MRW:G:secstr',\n",
       " '6OQ5:A:secstr']"
      ]
     },
     "execution_count": 180,
     "metadata": {},
     "output_type": "execute_result"
    }
   ],
   "source": [
    "false_neg_pdbs"
   ]
  },
  {
   "cell_type": "code",
   "execution_count": 181,
   "metadata": {},
   "outputs": [],
   "source": [
    "false_pos_pdbs = []\n",
    "for i in range(len(pdbseqs)):\n",
    "    if pdbseqs[i] in false_pos_seqs:\n",
    "        false_pos_pdbs.append(descs[i])"
   ]
  },
  {
   "cell_type": "code",
   "execution_count": 182,
   "metadata": {},
   "outputs": [
    {
     "data": {
      "text/plain": [
       "['2JFR:A:secstr',\n",
       " '3L81:A:secstr',\n",
       " '3TEU:A:secstr',\n",
       " '4EAE:A:secstr',\n",
       " '6G44:A:secstr']"
      ]
     },
     "execution_count": 182,
     "metadata": {},
     "output_type": "execute_result"
    }
   ],
   "source": [
    "false_pos_pdbs"
   ]
  },
  {
   "cell_type": "code",
   "execution_count": null,
   "metadata": {},
   "outputs": [],
   "source": []
  }
 ],
 "metadata": {
  "colab": {
   "name": "ProtCNN_EmbeddingCopy.ipynb",
   "provenance": []
  },
  "kernelspec": {
   "display_name": "Python 3",
   "language": "python",
   "name": "python3"
  },
  "language_info": {
   "codemirror_mode": {
    "name": "ipython",
    "version": 3
   },
   "file_extension": ".py",
   "mimetype": "text/x-python",
   "name": "python",
   "nbconvert_exporter": "python",
   "pygments_lexer": "ipython3",
   "version": "3.7.6"
  }
 },
 "nbformat": 4,
 "nbformat_minor": 4
}
