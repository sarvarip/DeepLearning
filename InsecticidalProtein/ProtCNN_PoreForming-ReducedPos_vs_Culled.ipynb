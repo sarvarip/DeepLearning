{
 "cells": [
  {
   "cell_type": "markdown",
   "metadata": {
    "colab_type": "text",
    "id": "JxM2najJOoEE"
   },
   "source": [
    "## Pfam seed random split"
   ]
  },
  {
   "cell_type": "code",
   "execution_count": 45,
   "metadata": {
    "colab": {},
    "colab_type": "code",
    "id": "a98D5LzNVJEI"
   },
   "outputs": [
    {
     "name": "stdout",
     "output_type": "stream",
     "text": [
      "cuda\n"
     ]
    }
   ],
   "source": [
    "#ONLY RUN IF USING TORCH\n",
    "\n",
    "import torch\n",
    "device = torch.device('cuda' if torch.cuda.is_available() else 'cpu')\n",
    "print(device)"
   ]
  },
  {
   "cell_type": "code",
   "execution_count": 46,
   "metadata": {},
   "outputs": [],
   "source": [
    "torch.cuda.empty_cache() "
   ]
  },
  {
   "cell_type": "code",
   "execution_count": 47,
   "metadata": {},
   "outputs": [],
   "source": [
    "#ONLY RUN IF USING TORCH\n",
    "\n",
    "from tape import ProteinBertModel, TAPETokenizer\n",
    "model = ProteinBertModel.from_pretrained('bert-base')\n",
    "modelTAPE = model.to(device)\n",
    "tokenizerTAPE = TAPETokenizer(vocab='iupac')  # iupac is the vocab for TAPE models, use unirep for the UniRep model"
   ]
  },
  {
   "cell_type": "code",
   "execution_count": 1,
   "metadata": {
    "_kg_hide-input": false,
    "colab": {
     "base_uri": "https://localhost:8080/",
     "height": 70
    },
    "colab_type": "code",
    "id": "l1HJp53SOoEI",
    "outputId": "128d4714-b749-4f6b-fcf8-9510004d5aaf"
   },
   "outputs": [],
   "source": [
    "import matplotlib.pyplot as plt # plotting\n",
    "import numpy as np # linear algebra\n",
    "import os # accessing directory structure\n",
    "import pandas as pd # data processing, CSV file I/O (e.g. pd.read_csv)\n",
    "import seaborn\n",
    "import gc\n",
    "import sklearn\n",
    "import pickle"
   ]
  },
  {
   "cell_type": "code",
   "execution_count": 2,
   "metadata": {
    "colab": {},
    "colab_type": "code",
    "id": "kkpO0nabI3Ay"
   },
   "outputs": [],
   "source": [
    "def parse_fasta (lines):\n",
    "    descs = []\n",
    "    seqs = []\n",
    "    data = ''\n",
    "    for line in lines:\n",
    "        if line.startswith('>'):\n",
    "            if data:   # have collected a sequence, push to seqs\n",
    "                seqs.append(data)\n",
    "                data = ''\n",
    "            descs.append(line[1:])  # Trim '>' from beginning\n",
    "        else:\n",
    "            data += line.rstrip('\\r\\n')\n",
    "    # there will be yet one more to push when we run out\n",
    "    seqs.append(data)\n",
    "    return descs, seqs"
   ]
  },
  {
   "cell_type": "code",
   "execution_count": 3,
   "metadata": {},
   "outputs": [],
   "source": [
    "def get_performance_vals(preds, classes):\n",
    "    #0 is negative, 1 is positive\n",
    "    a = np.array(preds) #Predictions\n",
    "    b = classes #actual outcomes / classes\n",
    "    #print(\"Predicted and actual classes\\n\")\n",
    "    #print(classes)\n",
    "    #print(a)\n",
    "    tp = np.sum(np.multiply(a==1, b==1)) #TP\n",
    "    fp = np.sum(np.multiply(a==1, b==0)) #FP\n",
    "    tn = np.sum(np.multiply(a==0, b==0)) #TN\n",
    "    fn = np.sum(np.multiply(a==0, b==1)) #FN\n",
    "\n",
    "    tp = int(tp)\n",
    "    fp = int(fp)\n",
    "    tn = int(tn)\n",
    "    fn = int(fn)\n",
    "\n",
    "    print(\"True positive: %d, false positive: %d, true negative: %d, false negative: %d\\n\" %(tp,fp,tn,fn))\n",
    "\n",
    "    mcc = (tp*tn-fp*fn)/(np.sqrt((tp+fp)*(tp+fn)*(tn+fp)*(tn+fn)))\n",
    "    precision = tp/(tp+fp)\n",
    "    recall = tp/(tp+fn)\n",
    "    fscore = 2*precision*recall/(precision+recall)\n",
    "    accuracy = np.sum(a==b)/len(classes)\n",
    "\n",
    "    print(\"%s: %2f\" % ('MCC', mcc))\n",
    "    print(\"%s: %.2f%%\" % ('Accuracy', 100*accuracy))\n",
    "    print(\"%s: %.2f\" % ('F1 score', fscore))\n",
    "    print(\"%s: %.2f\" % ('Precision', precision))\n",
    "    print(\"%s: %.2f\" % ('Recall', recall))\n",
    "\n",
    "    #return mcc, precision, recall, fscore, accuracy"
   ]
  },
  {
   "cell_type": "code",
   "execution_count": 4,
   "metadata": {
    "colab": {},
    "colab_type": "code",
    "id": "7MdChuEaI48s"
   },
   "outputs": [
    {
     "data": {
      "text/plain": [
       "2848"
      ]
     },
     "execution_count": 4,
     "metadata": {},
     "output_type": "execute_result"
    }
   ],
   "source": [
    "path = \"./\" + \"pos_seqs_reduced\" + \".pickle\"\n",
    "array_file = open(path, 'rb')\n",
    "pos = pickle.load(array_file)\n",
    "array_file.close()\n",
    "\n",
    "len(pos)"
   ]
  },
  {
   "cell_type": "code",
   "execution_count": 8,
   "metadata": {
    "colab": {
     "base_uri": "https://localhost:8080/",
     "height": 34
    },
    "colab_type": "code",
    "id": "0dO-Cc59Nig6",
    "outputId": "14b47301-3d65-4b16-e85f-bd4f69f06839"
   },
   "outputs": [
    {
     "data": {
      "text/plain": [
       "2848"
      ]
     },
     "execution_count": 8,
     "metadata": {},
     "output_type": "execute_result"
    }
   ],
   "source": [
    "path = \"./\" + \"pos_labels_reduced\" + \".pickle\"\n",
    "array_file = open(path, 'rb')\n",
    "pos_labels = pickle.load(array_file)\n",
    "array_file.close()\n",
    "len(pos_labels)"
   ]
  },
  {
   "cell_type": "code",
   "execution_count": 9,
   "metadata": {},
   "outputs": [],
   "source": [
    "handle = open(\"./cullpdb.fasta\", 'r')\n",
    "descs, neg = parse_fasta(handle.read().split('\\n'))"
   ]
  },
  {
   "cell_type": "code",
   "execution_count": 10,
   "metadata": {},
   "outputs": [],
   "source": [
    "pdb = [d[:4] for d in descs]"
   ]
  },
  {
   "cell_type": "code",
   "execution_count": 11,
   "metadata": {},
   "outputs": [],
   "source": [
    "dirpath = '../StructuralDataCreating/structures'\n",
    "filist = os.listdir(dirpath)\n",
    "flist = [s for s in filist if s.startswith('PDBpos') == True]\n",
    "pos_pdbs = []\n",
    "for f in flist:\n",
    "    handle = open(os.path.join(dirpath, f), 'r')\n",
    "    lines = handle.readlines()\n",
    "    for line in lines:\n",
    "        pos_pdbs.append(line.strip().split(' ')[0])"
   ]
  },
  {
   "cell_type": "code",
   "execution_count": 12,
   "metadata": {},
   "outputs": [],
   "source": [
    "idx = []\n",
    "name = []\n",
    "i = 0\n",
    "for p in pdb:\n",
    "    if p in pos_pdbs:\n",
    "        idx.append(i)\n",
    "        name.append(p)\n",
    "    i = i + 1"
   ]
  },
  {
   "cell_type": "code",
   "execution_count": 13,
   "metadata": {},
   "outputs": [
    {
     "name": "stdout",
     "output_type": "stream",
     "text": [
      "[1943, 2350, 3201, 3310]\n",
      "['6MYI', '1PP0', '4WDC', '3WZ3']\n"
     ]
    }
   ],
   "source": [
    "print(idx)\n",
    "print(name)"
   ]
  },
  {
   "cell_type": "code",
   "execution_count": 14,
   "metadata": {},
   "outputs": [],
   "source": [
    "idx.reverse()"
   ]
  },
  {
   "cell_type": "code",
   "execution_count": 15,
   "metadata": {},
   "outputs": [
    {
     "data": {
      "text/plain": [
       "3684"
      ]
     },
     "execution_count": 15,
     "metadata": {},
     "output_type": "execute_result"
    }
   ],
   "source": [
    "len(neg)"
   ]
  },
  {
   "cell_type": "code",
   "execution_count": 16,
   "metadata": {},
   "outputs": [
    {
     "name": "stdout",
     "output_type": "stream",
     "text": [
      "[3310, 3201, 2350, 1943]\n"
     ]
    }
   ],
   "source": [
    "print(idx)\n",
    "for ix in idx:\n",
    "    neg.pop(ix)"
   ]
  },
  {
   "cell_type": "code",
   "execution_count": 17,
   "metadata": {},
   "outputs": [
    {
     "data": {
      "text/plain": [
       "3680"
      ]
     },
     "execution_count": 17,
     "metadata": {},
     "output_type": "execute_result"
    }
   ],
   "source": [
    "neg_size = len(neg)\n",
    "neg_size"
   ]
  },
  {
   "cell_type": "code",
   "execution_count": 18,
   "metadata": {
    "colab": {
     "base_uri": "https://localhost:8080/",
     "height": 34
    },
    "colab_type": "code",
    "id": "PXv9_H6sgpgS",
    "outputId": "fe729b93-9b02-4343-85d0-bd8a929230cd"
   },
   "outputs": [
    {
     "data": {
      "text/plain": [
       "3680"
      ]
     },
     "execution_count": 18,
     "metadata": {},
     "output_type": "execute_result"
    }
   ],
   "source": [
    "neg_labels = ['negative']*neg_size\n",
    "len(neg_labels)"
   ]
  },
  {
   "cell_type": "code",
   "execution_count": 19,
   "metadata": {
    "colab": {},
    "colab_type": "code",
    "id": "3Vv6H1hZlQ67"
   },
   "outputs": [],
   "source": [
    "data = pos + neg\n",
    "labels = pos_labels + neg_labels\n",
    "\n",
    "from sklearn.model_selection import train_test_split\n",
    "train, dev, train_labels, validation_labels = train_test_split(\n",
    "    data,\n",
    "    labels,\n",
    "    test_size = 0.2,\n",
    "    random_state=1,\n",
    "    stratify=labels)\n",
    "\n",
    "#can jump to Method 3 from here"
   ]
  },
  {
   "cell_type": "code",
   "execution_count": 20,
   "metadata": {
    "colab": {
     "base_uri": "https://localhost:8080/",
     "height": 70
    },
    "colab_type": "code",
    "id": "0tf1CPZOpMSt",
    "outputId": "341b322b-d6dc-4748-f498-93767caf960e"
   },
   "outputs": [
    {
     "name": "stdout",
     "output_type": "stream",
     "text": [
      "Counter({'negative': 2944, 'pos_PF01823_rp15_MACPF_659.txt': 371, 'pos_PF03318_full_ETX_MTX2_440.txt': 229, 'pos_PF12261_full_T_hemolysin_327.txt': 227, 'PF01289_full_Thiol_cytolysin_243.txt': 147, 'pos_PF06369_full_anemone_cytotox_363.txt': 133, 'pos_PF06355_full_Aegerolysin_308.txt': 133, 'pos_PF11393_full_T4BSS_DotI_IcmL_214.txt': 125, 'pos_PF03945_full_Endotoxin_N_180.txt': 101, 'pos_PF05105_seed_Phage_holin_4_1_131.txt': 94, 'pos_PF01117_full_Aerolysin_207.txt': 93, 'PF00087_full_Toxin_TOLIP_333.txt': 81, 'PF07367_full_FB_lectin_171.txt': 78, 'pos_PF03944_seed_Endotoxin_C_80.txt': 59, 'pos_PF01338_full_Bac_thur_toxin_87.txt': 50, 'pos_PF05802_full_EspB_60.txt': 45, 'pos_PF18063_full_BB_PF_52.txt': 39, 'pos_PF07968_full_Leukocidin_89.txt': 38, 'pos_PF06109_full_HlyE_62.txt': 37, 'PF04598_rp15_Gasdermin_62.txt': 35, 'pos_PF04877_full_Harpin_35.txt': 26, 'pos_PF12920_full_TcdA_TcdB_pore_46.txt': 26, 'pos_PF00555_seed_Endotoxin_M_36.txt': 26, 'PF11565_full_porB_30.txt': 23, 'pos_PF01024_full_Colicin_26.txt': 21, 'pos_PF17475_full_Binary_toxB_2_16.txt': 11, 'pos_PF12563_full_Hemolysin_N_12.txt': 9, 'PF02382_full_RTX_14.txt': 9, 'pos_PF03505_full_Clenterotox_9.txt': 6, 'pos_PF18684_full_PlyB_C_8.txt': 6})\n",
      "Counter({'negative': 736, 'pos_PF01823_rp15_MACPF_659.txt': 93, 'pos_PF03318_full_ETX_MTX2_440.txt': 58, 'pos_PF12261_full_T_hemolysin_327.txt': 57, 'PF01289_full_Thiol_cytolysin_243.txt': 37, 'pos_PF06369_full_anemone_cytotox_363.txt': 34, 'pos_PF06355_full_Aegerolysin_308.txt': 34, 'pos_PF11393_full_T4BSS_DotI_IcmL_214.txt': 31, 'pos_PF03945_full_Endotoxin_N_180.txt': 26, 'pos_PF05105_seed_Phage_holin_4_1_131.txt': 23, 'pos_PF01117_full_Aerolysin_207.txt': 23, 'PF00087_full_Toxin_TOLIP_333.txt': 20, 'PF07367_full_FB_lectin_171.txt': 20, 'pos_PF03944_seed_Endotoxin_C_80.txt': 15, 'pos_PF01338_full_Bac_thur_toxin_87.txt': 12, 'pos_PF05802_full_EspB_60.txt': 11, 'pos_PF18063_full_BB_PF_52.txt': 10, 'pos_PF06109_full_HlyE_62.txt': 9, 'PF04598_rp15_Gasdermin_62.txt': 9, 'pos_PF07968_full_Leukocidin_89.txt': 9, 'pos_PF00555_seed_Endotoxin_M_36.txt': 6, 'pos_PF04877_full_Harpin_35.txt': 6, 'pos_PF12920_full_TcdA_TcdB_pore_46.txt': 6, 'PF11565_full_porB_30.txt': 6, 'pos_PF01024_full_Colicin_26.txt': 5, 'pos_PF17475_full_Binary_toxB_2_16.txt': 3, 'pos_PF18684_full_PlyB_C_8.txt': 2, 'pos_PF12563_full_Hemolysin_N_12.txt': 2, 'PF02382_full_RTX_14.txt': 2, 'pos_PF03505_full_Clenterotox_9.txt': 1})\n"
     ]
    }
   ],
   "source": [
    "from collections import Counter\n",
    "\n",
    "print(Counter(train_labels))\n",
    "print(Counter(validation_labels))"
   ]
  },
  {
   "cell_type": "markdown",
   "metadata": {
    "colab_type": "text",
    "id": "s9SIRvflOoEl"
   },
   "source": [
    "## Loading the data"
   ]
  },
  {
   "cell_type": "code",
   "execution_count": 43,
   "metadata": {
    "colab": {
     "base_uri": "https://localhost:8080/",
     "height": 281
    },
    "colab_type": "code",
    "id": "cZLCHqCJOoE7",
    "outputId": "61cce005-e2bd-44fe-cf12-080504a170e4"
   },
   "outputs": [
    {
     "data": {
      "image/png": "[encoded data removed]",
      "text/plain": [
       "<Figure size 432x288 with 2 Axes>"
      ]
     },
     "metadata": {
      "needs_background": "light"
     },
     "output_type": "display_data"
    }
   ],
   "source": [
    "# Length of sequence in train data.\n",
    "trainlen= [len(x) for x in train]\n",
    "devlen= [len(x) for x in dev]\n",
    "\n",
    "def plot_seq_count(lengths, data_name):\n",
    "    seaborn.distplot(lengths)\n",
    "    plt.title(f'Sequence char count: {data_name}')\n",
    "    plt.grid(True)\n",
    "\n",
    "plt.subplot(1, 3, 1)\n",
    "plot_seq_count(trainlen, 'Train')\n",
    "\n",
    "plt.subplot(1, 3, 2)\n",
    "plot_seq_count(devlen, 'Dev')\n",
    "\n",
    "plt.subplots_adjust(right=3.0)\n",
    "plt.show()"
   ]
  },
  {
   "cell_type": "code",
   "execution_count": 48,
   "metadata": {
    "colab": {
     "base_uri": "https://localhost:8080/",
     "height": 50
    },
    "colab_type": "code",
    "id": "fsZvHMfitHf3",
    "outputId": "761b273d-d26b-4e85-8e0b-072f9e4269df"
   },
   "outputs": [
    {
     "name": "stdout",
     "output_type": "stream",
     "text": [
      "1305\n",
      "1015\n"
     ]
    }
   ],
   "source": [
    "print(max(trainlen))\n",
    "print(max(devlen))"
   ]
  },
  {
   "cell_type": "code",
   "execution_count": 49,
   "metadata": {
    "colab": {},
    "colab_type": "code",
    "id": "npNNwSSqZflr"
   },
   "outputs": [],
   "source": [
    "vocab_size = 21\n",
    "max_length = 600\n",
    "trunc_type = \"post\"\n",
    "padding_type = \"post\"\n",
    "\n",
    "trainTAPE = [tokenizerTAPE.encode(w.upper()) for w in train]\n",
    "valTAPE = [tokenizerTAPE.encode(w.upper()) for w in dev]"
   ]
  },
  {
   "cell_type": "code",
   "execution_count": 50,
   "metadata": {},
   "outputs": [],
   "source": [
    "trainTAPE = [np.array(t[:max_length]) for t in trainTAPE]\n",
    "valTAPE = [np.array(t[:max_length]) for t in valTAPE]\n",
    "\n",
    "trainTAPE = [torch.from_numpy(t) for t in trainTAPE]\n",
    "valTAPE = [torch.from_numpy(t) for t in valTAPE]"
   ]
  },
  {
   "cell_type": "code",
   "execution_count": 51,
   "metadata": {
    "colab": {},
    "colab_type": "code",
    "id": "npNNwSSqZflr"
   },
   "outputs": [],
   "source": [
    "TAPEtrain = torch.nn.utils.rnn.pad_sequence(trainTAPE, batch_first=False)\n",
    "TAPEvalidation = torch.nn.utils.rnn.pad_sequence(valTAPE, batch_first=False)"
   ]
  },
  {
   "cell_type": "code",
   "execution_count": 52,
   "metadata": {},
   "outputs": [],
   "source": [
    "TAPEtrain = torch.transpose(TAPEtrain,0,1)\n",
    "TAPEvalidation = torch.transpose(TAPEvalidation,0,1)"
   ]
  },
  {
   "cell_type": "code",
   "execution_count": 53,
   "metadata": {},
   "outputs": [
    {
     "data": {
      "text/plain": [
       "torch.Size([5222, 600])"
      ]
     },
     "execution_count": 53,
     "metadata": {},
     "output_type": "execute_result"
    }
   ],
   "source": [
    "TAPEtrain.size()"
   ]
  },
  {
   "cell_type": "code",
   "execution_count": 54,
   "metadata": {},
   "outputs": [
    {
     "data": {
      "text/plain": [
       "torch.Size([1306, 600])"
      ]
     },
     "execution_count": 54,
     "metadata": {},
     "output_type": "execute_result"
    }
   ],
   "source": [
    "TAPEvalidation.size()"
   ]
  },
  {
   "cell_type": "code",
   "execution_count": 55,
   "metadata": {},
   "outputs": [],
   "source": [
    "from torch.utils.data import DataLoader\n",
    "from tqdm.notebook import tqdm\n",
    "batch_size = 1\n",
    "\n",
    "dataloader_train = DataLoader(\n",
    "    TAPEtrain,\n",
    "    batch_size=batch_size\n",
    ")\n",
    "\n",
    "dataloader_validation = DataLoader(\n",
    "    TAPEvalidation,\n",
    "    batch_size=batch_size\n",
    ")"
   ]
  },
  {
   "cell_type": "code",
   "execution_count": 56,
   "metadata": {},
   "outputs": [
    {
     "data": {
      "text/plain": [
       "544"
      ]
     },
     "execution_count": 56,
     "metadata": {},
     "output_type": "execute_result"
    }
   ],
   "source": [
    "del pos, neg, data, labels, neg_labels, pos_labels, trainTAPE, valTAPE, TAPEtrain, TAPEvalidation\n",
    "gc.collect()"
   ]
  },
  {
   "cell_type": "code",
   "execution_count": 57,
   "metadata": {},
   "outputs": [],
   "source": [
    "torch.cuda.empty_cache() "
   ]
  },
  {
   "cell_type": "code",
   "execution_count": 58,
   "metadata": {
    "colab": {},
    "colab_type": "code",
    "id": "JK-3pW5Ajuha"
   },
   "outputs": [
    {
     "data": {
      "application/vnd.jupyter.widget-view+json": {
       "model_id": "2987bb0dea4643af8e5b2d7102b53771",
       "version_major": 2,
       "version_minor": 0
      },
      "text/plain": [
       "HBox(children=(FloatProgress(value=0.0, max=5222.0), HTML(value='')))"
      ]
     },
     "metadata": {},
     "output_type": "display_data"
    },
    {
     "name": "stdout",
     "output_type": "stream",
     "text": [
      "\n"
     ]
    }
   ],
   "source": [
    "TAPEncoded_train = []\n",
    "#iternum = 0\n",
    "with torch.no_grad():\n",
    "    for batch in tqdm(dataloader_train):\n",
    "        b = batch.to(torch.long)\n",
    "        output = modelTAPE(b.to(device))[1]\n",
    "        TAPEncoded_train.append(output.cpu().detach().numpy())\n",
    "#         if iternum%100 == 0:\n",
    "#             print(iternum)\n",
    "#         iternum = iternum + 1"
   ]
  },
  {
   "cell_type": "code",
   "execution_count": 60,
   "metadata": {},
   "outputs": [
    {
     "data": {
      "application/vnd.jupyter.widget-view+json": {
       "model_id": "90fe77af58274e5f8cb78f7fe6918ee4",
       "version_major": 2,
       "version_minor": 0
      },
      "text/plain": [
       "HBox(children=(FloatProgress(value=0.0, max=1306.0), HTML(value='')))"
      ]
     },
     "metadata": {},
     "output_type": "display_data"
    },
    {
     "name": "stdout",
     "output_type": "stream",
     "text": [
      "\n"
     ]
    }
   ],
   "source": [
    "TAPEncoded_val = []\n",
    "#iternum = 0\n",
    "for batch in tqdm(dataloader_validation):\n",
    "    b = batch.to(torch.long)\n",
    "    output = modelTAPE(b.to(device))[1]\n",
    "    TAPEncoded_val.append(output.cpu().detach().numpy())\n",
    "#     if iternum%100 == 0:\n",
    "#         print(iternum)\n",
    "#     iternum = iternum + 1"
   ]
  },
  {
   "cell_type": "code",
   "execution_count": 61,
   "metadata": {},
   "outputs": [],
   "source": [
    "path = \"./\" + \"TAPEncoded_train_pooled\" + \".pickle\"\n",
    "output = open(path, 'w+b')\n",
    "pickle.dump(TAPEncoded_train, output)\n",
    "output.close()\n",
    "\n",
    "path = \"./\" + \"TAPEncoded_val_pooled\" + \".pickle\"\n",
    "output = open(path, 'w+b')\n",
    "pickle.dump(TAPEncoded_val, output)\n",
    "output.close()"
   ]
  },
  {
   "cell_type": "code",
   "execution_count": 62,
   "metadata": {
    "colab": {
     "base_uri": "https://localhost:8080/",
     "height": 33
    },
    "colab_type": "code",
    "id": "vBZOxshXOoFX",
    "outputId": "62b622dd-e3cc-49e9-c2e6-da057906b4b3"
   },
   "outputs": [
    {
     "data": {
      "text/plain": [
       "((5222,), (1306,))"
      ]
     },
     "execution_count": 62,
     "metadata": {},
     "output_type": "execute_result"
    }
   ],
   "source": [
    "from sklearn.preprocessing import LabelEncoder\n",
    "le = LabelEncoder()\n",
    "\n",
    "train_labels = le.fit_transform(train_labels)\n",
    "validation_labels = le.transform(validation_labels)\n",
    "#test_labels = le.transform(test_labels)\n",
    "\n",
    "train_labels.shape, validation_labels.shape"
   ]
  },
  {
   "cell_type": "code",
   "execution_count": 63,
   "metadata": {},
   "outputs": [],
   "source": [
    "path = \"./\" + \"train_labels\" + \".pickle\"\n",
    "output = open(path, 'w+b')\n",
    "pickle.dump(train_labels, output)\n",
    "output.close()\n",
    "\n",
    "path = \"./\" + \"validation_labels\" + \".pickle\"\n",
    "output = open(path, 'w+b')\n",
    "pickle.dump(validation_labels, output)\n",
    "output.close()"
   ]
  },
  {
   "cell_type": "code",
   "execution_count": 64,
   "metadata": {},
   "outputs": [
    {
     "name": "stdout",
     "output_type": "stream",
     "text": [
      "{0: 'PF00087_full_Toxin_TOLIP_333.txt', 1: 'PF01289_full_Thiol_cytolysin_243.txt', 2: 'PF02382_full_RTX_14.txt', 3: 'PF04598_rp15_Gasdermin_62.txt', 4: 'PF07367_full_FB_lectin_171.txt', 5: 'PF11565_full_porB_30.txt', 6: 'negative', 7: 'pos_PF00555_seed_Endotoxin_M_36.txt', 8: 'pos_PF01024_full_Colicin_26.txt', 9: 'pos_PF01117_full_Aerolysin_207.txt', 10: 'pos_PF01338_full_Bac_thur_toxin_87.txt', 11: 'pos_PF01823_rp15_MACPF_659.txt', 12: 'pos_PF03318_full_ETX_MTX2_440.txt', 13: 'pos_PF03505_full_Clenterotox_9.txt', 14: 'pos_PF03944_seed_Endotoxin_C_80.txt', 15: 'pos_PF03945_full_Endotoxin_N_180.txt', 16: 'pos_PF04877_full_Harpin_35.txt', 17: 'pos_PF05105_seed_Phage_holin_4_1_131.txt', 18: 'pos_PF05802_full_EspB_60.txt', 19: 'pos_PF06109_full_HlyE_62.txt', 20: 'pos_PF06355_full_Aegerolysin_308.txt', 21: 'pos_PF06369_full_anemone_cytotox_363.txt', 22: 'pos_PF07968_full_Leukocidin_89.txt', 23: 'pos_PF11393_full_T4BSS_DotI_IcmL_214.txt', 24: 'pos_PF12261_full_T_hemolysin_327.txt', 25: 'pos_PF12563_full_Hemolysin_N_12.txt', 26: 'pos_PF12920_full_TcdA_TcdB_pore_46.txt', 27: 'pos_PF17475_full_Binary_toxB_2_16.txt', 28: 'pos_PF18063_full_BB_PF_52.txt', 29: 'pos_PF18684_full_PlyB_C_8.txt'}\n"
     ]
    }
   ],
   "source": [
    "le_name_mapping = dict(zip(le.classes_, le.transform(le.classes_)))\n",
    "umap_map = {v: k for k, v in le_name_mapping.items()}\n",
    "print(umap_map)"
   ]
  },
  {
   "cell_type": "code",
   "execution_count": 65,
   "metadata": {},
   "outputs": [
    {
     "data": {
      "application/vnd.jupyter.widget-view+json": {
       "model_id": "fd020f66b64f4fd29346642a4b4a318d",
       "version_major": 2,
       "version_minor": 0
      },
      "text/plain": [
       "HBox(children=(FloatProgress(value=0.0, max=5222.0), HTML(value='')))"
      ]
     },
     "metadata": {},
     "output_type": "display_data"
    },
    {
     "name": "stdout",
     "output_type": "stream",
     "text": [
      "\n"
     ]
    }
   ],
   "source": [
    "del TAPEncoded_train, TAPEncoded_val\n",
    "gc.collect()\n",
    "torch.cuda.empty_cache() \n",
    "\n",
    "#now getting the full embedding for all amino acid, not the pooled one\n",
    "TAPEncoded_train = []\n",
    "#iternum = 0\n",
    "for batch in tqdm(dataloader_train):\n",
    "    b = batch.to(torch.long)\n",
    "    output = modelTAPE(b.to(device))[0]\n",
    "    TAPEncoded_train.append(output.cpu().detach().numpy())\n",
    "#     if iternum%100 == 0:\n",
    "#         print(iternum)\n",
    "#     iternum = iternum + 1"
   ]
  },
  {
   "cell_type": "code",
   "execution_count": 66,
   "metadata": {},
   "outputs": [
    {
     "data": {
      "application/vnd.jupyter.widget-view+json": {
       "model_id": "f9e7d67117c84f58845ace54d1cc483f",
       "version_major": 2,
       "version_minor": 0
      },
      "text/plain": [
       "HBox(children=(FloatProgress(value=0.0, max=1306.0), HTML(value='')))"
      ]
     },
     "metadata": {},
     "output_type": "display_data"
    },
    {
     "name": "stdout",
     "output_type": "stream",
     "text": [
      "\n"
     ]
    }
   ],
   "source": [
    "TAPEncoded_val = []\n",
    "#iternum = 0\n",
    "for batch in tqdm(dataloader_validation):\n",
    "    b = batch.to(torch.long)\n",
    "    output = modelTAPE(b.to(device))[0]\n",
    "    TAPEncoded_val.append(output.cpu().detach().numpy())\n",
    "#     if iternum%100 == 0:\n",
    "#         print(iternum)\n",
    "#     iternum = iternum + 1"
   ]
  },
  {
   "cell_type": "code",
   "execution_count": 67,
   "metadata": {},
   "outputs": [],
   "source": [
    "path = \"./\" + \"TAPEncoded_train\" + \".pickle\"\n",
    "output = open(path, 'w+b')\n",
    "pickle.dump(TAPEncoded_train, output)\n",
    "output.close()\n",
    "\n",
    "path = \"./\" + \"TAPEncoded_val\" + \".pickle\"\n",
    "output = open(path, 'w+b')\n",
    "pickle.dump(TAPEncoded_val, output)\n",
    "output.close()"
   ]
  },
  {
   "cell_type": "code",
   "execution_count": null,
   "metadata": {},
   "outputs": [],
   "source": [
    "#Method0 - Baseline, first nearest neighbour in terms of Levenshtein distance"
   ]
  },
  {
   "cell_type": "code",
   "execution_count": 25,
   "metadata": {},
   "outputs": [],
   "source": [
    "path = \"./\" + \"train_labels\" + \".pickle\"\n",
    "array_file = open(path, 'rb')\n",
    "train_labels = pickle.load(array_file)\n",
    "array_file.close()\n",
    "\n",
    "path = \"./\" + \"validation_labels\" + \".pickle\"\n",
    "array_file = open(path, 'rb')\n",
    "validation_labels = pickle.load(array_file)\n",
    "array_file.close()"
   ]
  },
  {
   "cell_type": "code",
   "execution_count": 26,
   "metadata": {},
   "outputs": [
    {
     "name": "stdout",
     "output_type": "stream",
     "text": [
      "5222\n",
      "1306\n",
      "5222\n",
      "1306\n"
     ]
    }
   ],
   "source": [
    "print(len(train))\n",
    "print(len(dev))\n",
    "print(len(train_labels))\n",
    "print(len(validation_labels))"
   ]
  },
  {
   "cell_type": "code",
   "execution_count": 27,
   "metadata": {},
   "outputs": [],
   "source": [
    "mask = (validation_labels == 6) #6 is negative\n",
    "\n",
    "y_true = validation_labels\n",
    "y_true[~mask] = 1\n",
    "y_true[mask] = 0"
   ]
  },
  {
   "cell_type": "code",
   "execution_count": 28,
   "metadata": {},
   "outputs": [
    {
     "data": {
      "text/plain": [
       "array([1, 1, 0, ..., 1, 1, 0], dtype=int64)"
      ]
     },
     "execution_count": 28,
     "metadata": {},
     "output_type": "execute_result"
    }
   ],
   "source": [
    "validation_labels"
   ]
  },
  {
   "cell_type": "code",
   "execution_count": 29,
   "metadata": {},
   "outputs": [],
   "source": [
    "mask = (train_labels == 6) #6 is negative\n",
    "\n",
    "y_true = train_labels\n",
    "y_true[~mask] = 1\n",
    "y_true[mask] = 0"
   ]
  },
  {
   "cell_type": "code",
   "execution_count": 32,
   "metadata": {},
   "outputs": [
    {
     "data": {
      "text/plain": [
       "array([0, 0, 0, ..., 0, 0, 1], dtype=int64)"
      ]
     },
     "execution_count": 32,
     "metadata": {},
     "output_type": "execute_result"
    }
   ],
   "source": [
    "train_labels"
   ]
  },
  {
   "cell_type": "code",
   "execution_count": 40,
   "metadata": {},
   "outputs": [],
   "source": [
    "import Levenshtein\n",
    "from tqdm import tqdm\n",
    "\n",
    "dist_arr = np.ones([len(dev), len(train)])*500\n",
    "\n",
    "for i in tqdm(range(len(dev))):\n",
    "    for j in range(len(train)):\n",
    "        dist_arr[i,j] = Levenshtein.distance(dev[i], train[j])"
   ]
  },
  {
   "cell_type": "code",
   "execution_count": 45,
   "metadata": {},
   "outputs": [
    {
     "data": {
      "text/plain": [
       "array([ 90., 151.,  98., ...,  26., 188.,  22.])"
      ]
     },
     "execution_count": 45,
     "metadata": {},
     "output_type": "execute_result"
    }
   ],
   "source": [
    "np.amin(dist_arr, 1)"
   ]
  },
  {
   "cell_type": "code",
   "execution_count": 46,
   "metadata": {},
   "outputs": [
    {
     "data": {
      "text/plain": [
       "array([5155,  475,  962, ..., 4034,  788, 2972], dtype=int64)"
      ]
     },
     "execution_count": 46,
     "metadata": {},
     "output_type": "execute_result"
    }
   ],
   "source": [
    "np.argmin(dist_arr, 1)"
   ]
  },
  {
   "cell_type": "code",
   "execution_count": 48,
   "metadata": {},
   "outputs": [],
   "source": [
    "preds = train_labels[np.argmin(dist_arr, 1)]"
   ]
  },
  {
   "cell_type": "code",
   "execution_count": 51,
   "metadata": {},
   "outputs": [
    {
     "name": "stdout",
     "output_type": "stream",
     "text": [
      "True positive: 541, false positive: 173, true negative: 563, false negative: 29\n",
      "\n",
      "MCC: 0.711387\n",
      "Accuracy: 84.53%\n",
      "F1 score: 0.84\n",
      "Precision: 0.76\n",
      "Recall: 0.95\n"
     ]
    }
   ],
   "source": [
    "get_performance_vals(preds, validation_labels)"
   ]
  },
  {
   "cell_type": "code",
   "execution_count": null,
   "metadata": {},
   "outputs": [],
   "source": [
    "#METHOD 1"
   ]
  },
  {
   "cell_type": "code",
   "execution_count": null,
   "metadata": {},
   "outputs": [],
   "source": [
    "#STARTING HERE"
   ]
  },
  {
   "cell_type": "code",
   "execution_count": 1,
   "metadata": {},
   "outputs": [
    {
     "name": "stdout",
     "output_type": "stream",
     "text": [
      "Tensorflow version 2.2.0\n",
      "WARNING:tensorflow:From <ipython-input-1-6f67c92ac921>:6: is_gpu_available (from tensorflow.python.framework.test_util) is deprecated and will be removed in a future version.\n",
      "Instructions for updating:\n",
      "Use `tf.config.list_physical_devices('GPU')` instead.\n"
     ]
    },
    {
     "name": "stderr",
     "output_type": "stream",
     "text": [
      "C:\\Users\\sarva\\Anaconda3\\lib\\site-packages\\tensorboard\\compat\\tensorflow_stub\\dtypes.py:541: FutureWarning: Passing (type, 1) or '1type' as a synonym of type is deprecated; in a future version of numpy, it will be understood as (type, (1,)) / '(1,)type'.\n",
      "  _np_qint8 = np.dtype([(\"qint8\", np.int8, 1)])\n",
      "C:\\Users\\sarva\\Anaconda3\\lib\\site-packages\\tensorboard\\compat\\tensorflow_stub\\dtypes.py:542: FutureWarning: Passing (type, 1) or '1type' as a synonym of type is deprecated; in a future version of numpy, it will be understood as (type, (1,)) / '(1,)type'.\n",
      "  _np_quint8 = np.dtype([(\"quint8\", np.uint8, 1)])\n",
      "C:\\Users\\sarva\\Anaconda3\\lib\\site-packages\\tensorboard\\compat\\tensorflow_stub\\dtypes.py:543: FutureWarning: Passing (type, 1) or '1type' as a synonym of type is deprecated; in a future version of numpy, it will be understood as (type, (1,)) / '(1,)type'.\n",
      "  _np_qint16 = np.dtype([(\"qint16\", np.int16, 1)])\n",
      "C:\\Users\\sarva\\Anaconda3\\lib\\site-packages\\tensorboard\\compat\\tensorflow_stub\\dtypes.py:544: FutureWarning: Passing (type, 1) or '1type' as a synonym of type is deprecated; in a future version of numpy, it will be understood as (type, (1,)) / '(1,)type'.\n",
      "  _np_quint16 = np.dtype([(\"quint16\", np.uint16, 1)])\n",
      "C:\\Users\\sarva\\Anaconda3\\lib\\site-packages\\tensorboard\\compat\\tensorflow_stub\\dtypes.py:545: FutureWarning: Passing (type, 1) or '1type' as a synonym of type is deprecated; in a future version of numpy, it will be understood as (type, (1,)) / '(1,)type'.\n",
      "  _np_qint32 = np.dtype([(\"qint32\", np.int32, 1)])\n",
      "C:\\Users\\sarva\\Anaconda3\\lib\\site-packages\\tensorboard\\compat\\tensorflow_stub\\dtypes.py:550: FutureWarning: Passing (type, 1) or '1type' as a synonym of type is deprecated; in a future version of numpy, it will be understood as (type, (1,)) / '(1,)type'.\n",
      "  np_resource = np.dtype([(\"resource\", np.ubyte, 1)])\n"
     ]
    },
    {
     "name": "stdout",
     "output_type": "stream",
     "text": [
      "True\n",
      "Compute dtype: float16\n",
      "Variable dtype: float32\n"
     ]
    }
   ],
   "source": [
    "import tensorflow as tf\n",
    "print(\"Tensorflow version \" + tf.__version__)\n",
    "\n",
    "tf.test.is_built_with_cuda()\n",
    "\n",
    "print(tf.test.is_gpu_available(cuda_only=False, min_cuda_compute_capability=None))\n",
    "\n",
    "tf.config.experimental.list_physical_devices('GPU')\n",
    "#for device in gpu_devices: tf.config.experimental.set_memory_growth(device, True)\n",
    "\n",
    "# import tensorflow.keras.backend as K\n",
    "# dtype = 'float16'\n",
    "# K.set_floatx(dtype)\n",
    "# K.set_epsilon(1e-4)\n",
    "\n",
    "from tensorflow.keras.mixed_precision import experimental as mixed_precision\n",
    "policy = mixed_precision.Policy('mixed_float16')\n",
    "mixed_precision.set_policy(policy)\n",
    "\n",
    "print('Compute dtype: %s' % policy.compute_dtype)\n",
    "print('Variable dtype: %s' % policy.variable_dtype)"
   ]
  },
  {
   "cell_type": "code",
   "execution_count": 2,
   "metadata": {},
   "outputs": [],
   "source": [
    "import matplotlib.pyplot as plt # plotting\n",
    "import numpy as np # linear algebra\n",
    "import os # accessing directory structure\n",
    "import pandas as pd # data processing, CSV file I/O (e.g. pd.read_csv)\n",
    "import seaborn\n",
    "import gc\n",
    "import sklearn\n",
    "import pickle"
   ]
  },
  {
   "cell_type": "code",
   "execution_count": 20,
   "metadata": {},
   "outputs": [],
   "source": [
    "path = \"./\" + \"TAPEncoded_train_pooled\" + \".pickle\"\n",
    "array_file = open(path, 'rb')\n",
    "TAPEncoded_train = pickle.load(array_file)\n",
    "array_file.close()\n",
    "\n",
    "path = \"./\" + \"TAPEncoded_val_pooled\" + \".pickle\"\n",
    "array_file = open(path, 'rb')\n",
    "TAPEncoded_val = pickle.load(array_file)\n",
    "array_file.close()\n",
    "\n",
    "path = \"./\" + \"train_labels\" + \".pickle\"\n",
    "array_file = open(path, 'rb')\n",
    "train_labels = pickle.load(array_file)\n",
    "array_file.close()\n",
    "\n",
    "path = \"./\" + \"validation_labels\" + \".pickle\"\n",
    "array_file = open(path, 'rb')\n",
    "validation_labels = pickle.load(array_file)\n",
    "array_file.close()"
   ]
  },
  {
   "cell_type": "code",
   "execution_count": 21,
   "metadata": {
    "colab": {},
    "colab_type": "code",
    "id": "YN9uu1b4OoFe"
   },
   "outputs": [],
   "source": [
    "# lr_schedule = tf.keras.callbacks.LearningRateScheduler(\n",
    "#     lambda epoch: 1e-5 * 10**(epoch / 20))\n",
    "\n",
    "es = tf.keras.callbacks.EarlyStopping(monitor='val_accuracy', mode='max', min_delta=0.01, patience=5)"
   ]
  },
  {
   "cell_type": "code",
   "execution_count": 22,
   "metadata": {
    "colab": {},
    "colab_type": "code",
    "id": "89fHOOEoWYm9"
   },
   "outputs": [],
   "source": [
    "numclass = max(train_labels) + 1"
   ]
  },
  {
   "cell_type": "code",
   "execution_count": 23,
   "metadata": {},
   "outputs": [
    {
     "name": "stdout",
     "output_type": "stream",
     "text": [
      "Model: \"model_1\"\n",
      "_________________________________________________________________\n",
      "Layer (type)                 Output Shape              Param #   \n",
      "=================================================================\n",
      "input_2 (InputLayer)         [(None, 768)]             0         \n",
      "_________________________________________________________________\n",
      "dense_1 (Dense)              (None, 30)                23070     \n",
      "=================================================================\n",
      "Total params: 23,070\n",
      "Trainable params: 23,070\n",
      "Non-trainable params: 0\n",
      "_________________________________________________________________\n"
     ]
    }
   ],
   "source": [
    "input_x = tf.keras.layers.Input(shape=768) #768 is the embedding dimension\n",
    "out = tf.keras.layers.Dense(numclass, activation=\"softmax\")(input_x) \n",
    "model = tf.keras.Model(inputs=input_x, outputs=out)\n",
    "model.compile(loss='sparse_categorical_crossentropy',optimizer=\"adam\",metrics=['accuracy'])\n",
    "model.summary()"
   ]
  },
  {
   "cell_type": "code",
   "execution_count": 24,
   "metadata": {},
   "outputs": [],
   "source": [
    "TAPEncoded_train = np.array(TAPEncoded_train)"
   ]
  },
  {
   "cell_type": "code",
   "execution_count": 25,
   "metadata": {},
   "outputs": [],
   "source": [
    "TAPEncoded_train = TAPEncoded_train.reshape(-1,768)"
   ]
  },
  {
   "cell_type": "code",
   "execution_count": 26,
   "metadata": {},
   "outputs": [],
   "source": [
    "TAPEncoded_val = np.array(TAPEncoded_val)"
   ]
  },
  {
   "cell_type": "code",
   "execution_count": 27,
   "metadata": {},
   "outputs": [],
   "source": [
    "TAPEncoded_val = TAPEncoded_val.reshape(-1,768)"
   ]
  },
  {
   "cell_type": "code",
   "execution_count": 28,
   "metadata": {},
   "outputs": [
    {
     "name": "stdout",
     "output_type": "stream",
     "text": [
      "Epoch 1/100\n",
      "164/164 - 0s - loss: 1.8351 - accuracy: 0.5496 - val_loss: 1.6037 - val_accuracy: 0.5643\n",
      "Epoch 2/100\n",
      "164/164 - 0s - loss: 1.5165 - accuracy: 0.5762 - val_loss: 1.4229 - val_accuracy: 0.5926\n",
      "Epoch 3/100\n",
      "164/164 - 0s - loss: 1.3722 - accuracy: 0.6057 - val_loss: 1.3213 - val_accuracy: 0.6110\n",
      "Epoch 4/100\n",
      "164/164 - 0s - loss: 1.2759 - accuracy: 0.6262 - val_loss: 1.2385 - val_accuracy: 0.6493\n",
      "Epoch 5/100\n",
      "164/164 - 0s - loss: 1.1975 - accuracy: 0.6455 - val_loss: 1.1818 - val_accuracy: 0.6570\n",
      "Epoch 6/100\n",
      "164/164 - 0s - loss: 1.1412 - accuracy: 0.6630 - val_loss: 1.1540 - val_accuracy: 0.6539\n",
      "Epoch 7/100\n",
      "164/164 - 0s - loss: 1.0889 - accuracy: 0.6768 - val_loss: 1.1059 - val_accuracy: 0.6723\n",
      "Epoch 8/100\n",
      "164/164 - 0s - loss: 1.0486 - accuracy: 0.6890 - val_loss: 1.0519 - val_accuracy: 0.6776\n",
      "Epoch 9/100\n",
      "164/164 - 0s - loss: 1.0143 - accuracy: 0.6997 - val_loss: 1.0325 - val_accuracy: 0.7198\n",
      "Epoch 10/100\n",
      "164/164 - 0s - loss: 0.9848 - accuracy: 0.7061 - val_loss: 1.0057 - val_accuracy: 0.7106\n",
      "Epoch 11/100\n",
      "164/164 - 0s - loss: 0.9538 - accuracy: 0.7187 - val_loss: 0.9706 - val_accuracy: 0.7182\n",
      "Epoch 12/100\n",
      "164/164 - 0s - loss: 0.9289 - accuracy: 0.7267 - val_loss: 0.9530 - val_accuracy: 0.7335\n",
      "Epoch 13/100\n",
      "164/164 - 0s - loss: 0.9064 - accuracy: 0.7378 - val_loss: 0.9302 - val_accuracy: 0.7152\n",
      "Epoch 14/100\n",
      "164/164 - 0s - loss: 0.8884 - accuracy: 0.7463 - val_loss: 0.9279 - val_accuracy: 0.7282\n",
      "Epoch 15/100\n",
      "164/164 - 0s - loss: 0.8719 - accuracy: 0.7478 - val_loss: 0.9035 - val_accuracy: 0.7297\n",
      "Epoch 16/100\n",
      "164/164 - 0s - loss: 0.8459 - accuracy: 0.7572 - val_loss: 0.8867 - val_accuracy: 0.7458\n",
      "Epoch 17/100\n",
      "164/164 - 0s - loss: 0.8278 - accuracy: 0.7583 - val_loss: 0.8694 - val_accuracy: 0.7374\n",
      "Epoch 18/100\n",
      "164/164 - 0s - loss: 0.8165 - accuracy: 0.7610 - val_loss: 0.8596 - val_accuracy: 0.7611\n",
      "Epoch 19/100\n",
      "164/164 - 0s - loss: 0.8047 - accuracy: 0.7637 - val_loss: 0.8579 - val_accuracy: 0.7374\n",
      "Epoch 20/100\n",
      "164/164 - 0s - loss: 0.7867 - accuracy: 0.7710 - val_loss: 0.8523 - val_accuracy: 0.7420\n",
      "Epoch 21/100\n",
      "164/164 - 0s - loss: 0.7815 - accuracy: 0.7731 - val_loss: 0.8252 - val_accuracy: 0.7435\n",
      "Epoch 22/100\n",
      "164/164 - 0s - loss: 0.7666 - accuracy: 0.7784 - val_loss: 0.8273 - val_accuracy: 0.7787\n",
      "Epoch 23/100\n",
      "164/164 - 0s - loss: 0.7518 - accuracy: 0.7805 - val_loss: 0.8188 - val_accuracy: 0.7642\n",
      "Epoch 24/100\n",
      "164/164 - 0s - loss: 0.7412 - accuracy: 0.7828 - val_loss: 0.7950 - val_accuracy: 0.7726\n",
      "Epoch 25/100\n",
      "164/164 - 0s - loss: 0.7358 - accuracy: 0.7840 - val_loss: 0.7932 - val_accuracy: 0.7619\n",
      "Epoch 26/100\n",
      "164/164 - 0s - loss: 0.7264 - accuracy: 0.7924 - val_loss: 0.7807 - val_accuracy: 0.7818\n",
      "Epoch 27/100\n",
      "164/164 - 0s - loss: 0.7119 - accuracy: 0.7924 - val_loss: 0.7649 - val_accuracy: 0.7764\n"
     ]
    }
   ],
   "source": [
    "history = model.fit(TAPEncoded_train, train_labels, epochs=100, validation_data=(TAPEncoded_val, validation_labels), verbose=2, callbacks=[es])"
   ]
  },
  {
   "cell_type": "code",
   "execution_count": 29,
   "metadata": {},
   "outputs": [],
   "source": [
    "preds = model.predict(TAPEncoded_val)\n",
    "\n",
    "mask = (validation_labels == 6) #6 is negative\n",
    "\n",
    "predictions = np.argmax(preds, axis=1)\n",
    "\n",
    "y_true = validation_labels\n",
    "y_true[~mask] = 1\n",
    "y_true[mask] = 0\n",
    "\n",
    "mask = (predictions == 6)\n",
    "y_pred = predictions\n",
    "y_pred[~mask] = 1\n",
    "y_pred[mask] = 0"
   ]
  },
  {
   "cell_type": "code",
   "execution_count": 30,
   "metadata": {},
   "outputs": [
    {
     "name": "stdout",
     "output_type": "stream",
     "text": [
      "True positive: 359, false positive: 31, true negative: 705, false negative: 211\n",
      "\n",
      "MCC: 0.636877\n",
      "Accuracy: 81.47%\n",
      "F1 score: 0.75\n",
      "Precision: 0.92\n",
      "Recall: 0.63\n"
     ]
    }
   ],
   "source": [
    "get_performance_vals(y_pred, y_true)"
   ]
  },
  {
   "cell_type": "code",
   "execution_count": 1,
   "metadata": {},
   "outputs": [],
   "source": [
    "#METHOD 2"
   ]
  },
  {
   "cell_type": "code",
   "execution_count": 2,
   "metadata": {},
   "outputs": [],
   "source": [
    "#STARTING HERE"
   ]
  },
  {
   "cell_type": "code",
   "execution_count": 10,
   "metadata": {},
   "outputs": [
    {
     "name": "stdout",
     "output_type": "stream",
     "text": [
      "Tensorflow version 2.2.0\n",
      "WARNING:tensorflow:From <ipython-input-10-6f67c92ac921>:6: is_gpu_available (from tensorflow.python.framework.test_util) is deprecated and will be removed in a future version.\n",
      "Instructions for updating:\n",
      "Use `tf.config.list_physical_devices('GPU')` instead.\n"
     ]
    },
    {
     "name": "stderr",
     "output_type": "stream",
     "text": [
      "C:\\Users\\sarva\\Anaconda3\\lib\\site-packages\\tensorboard\\compat\\tensorflow_stub\\dtypes.py:541: FutureWarning: Passing (type, 1) or '1type' as a synonym of type is deprecated; in a future version of numpy, it will be understood as (type, (1,)) / '(1,)type'.\n",
      "  _np_qint8 = np.dtype([(\"qint8\", np.int8, 1)])\n",
      "C:\\Users\\sarva\\Anaconda3\\lib\\site-packages\\tensorboard\\compat\\tensorflow_stub\\dtypes.py:542: FutureWarning: Passing (type, 1) or '1type' as a synonym of type is deprecated; in a future version of numpy, it will be understood as (type, (1,)) / '(1,)type'.\n",
      "  _np_quint8 = np.dtype([(\"quint8\", np.uint8, 1)])\n",
      "C:\\Users\\sarva\\Anaconda3\\lib\\site-packages\\tensorboard\\compat\\tensorflow_stub\\dtypes.py:543: FutureWarning: Passing (type, 1) or '1type' as a synonym of type is deprecated; in a future version of numpy, it will be understood as (type, (1,)) / '(1,)type'.\n",
      "  _np_qint16 = np.dtype([(\"qint16\", np.int16, 1)])\n",
      "C:\\Users\\sarva\\Anaconda3\\lib\\site-packages\\tensorboard\\compat\\tensorflow_stub\\dtypes.py:544: FutureWarning: Passing (type, 1) or '1type' as a synonym of type is deprecated; in a future version of numpy, it will be understood as (type, (1,)) / '(1,)type'.\n",
      "  _np_quint16 = np.dtype([(\"quint16\", np.uint16, 1)])\n",
      "C:\\Users\\sarva\\Anaconda3\\lib\\site-packages\\tensorboard\\compat\\tensorflow_stub\\dtypes.py:545: FutureWarning: Passing (type, 1) or '1type' as a synonym of type is deprecated; in a future version of numpy, it will be understood as (type, (1,)) / '(1,)type'.\n",
      "  _np_qint32 = np.dtype([(\"qint32\", np.int32, 1)])\n",
      "C:\\Users\\sarva\\Anaconda3\\lib\\site-packages\\tensorboard\\compat\\tensorflow_stub\\dtypes.py:550: FutureWarning: Passing (type, 1) or '1type' as a synonym of type is deprecated; in a future version of numpy, it will be understood as (type, (1,)) / '(1,)type'.\n",
      "  np_resource = np.dtype([(\"resource\", np.ubyte, 1)])\n"
     ]
    },
    {
     "name": "stdout",
     "output_type": "stream",
     "text": [
      "True\n",
      "Compute dtype: float16\n",
      "Variable dtype: float32\n"
     ]
    }
   ],
   "source": [
    "import tensorflow as tf\n",
    "print(\"Tensorflow version \" + tf.__version__)\n",
    "\n",
    "tf.test.is_built_with_cuda()\n",
    "\n",
    "print(tf.test.is_gpu_available(cuda_only=False, min_cuda_compute_capability=None))\n",
    "\n",
    "tf.config.experimental.list_physical_devices('GPU')\n",
    "#for device in gpu_devices: tf.config.experimental.set_memory_growth(device, True)\n",
    "\n",
    "# import tensorflow.keras.backend as K\n",
    "# dtype = 'float16'\n",
    "# K.set_floatx(dtype)\n",
    "# K.set_epsilon(1e-4)\n",
    "\n",
    "from tensorflow.keras.mixed_precision import experimental as mixed_precision\n",
    "policy = mixed_precision.Policy('mixed_float16')\n",
    "mixed_precision.set_policy(policy)\n",
    "\n",
    "print('Compute dtype: %s' % policy.compute_dtype)\n",
    "print('Variable dtype: %s' % policy.variable_dtype)"
   ]
  },
  {
   "cell_type": "code",
   "execution_count": 6,
   "metadata": {},
   "outputs": [],
   "source": [
    "import matplotlib.pyplot as plt # plotting\n",
    "import numpy as np # linear algebra\n",
    "import os # accessing directory structure\n",
    "import pandas as pd # data processing, CSV file I/O (e.g. pd.read_csv)\n",
    "import seaborn\n",
    "import gc\n",
    "import sklearn\n",
    "import pickle"
   ]
  },
  {
   "cell_type": "code",
   "execution_count": 7,
   "metadata": {},
   "outputs": [],
   "source": [
    "path = \"./\" + \"TAPEncoded_train\" + \".pickle\"\n",
    "array_file = open(path, 'rb')\n",
    "TAPEncoded_train = pickle.load(array_file)\n",
    "array_file.close()\n",
    "\n",
    "path = \"./\" + \"TAPEncoded_val\" + \".pickle\"\n",
    "array_file = open(path, 'rb')\n",
    "TAPEncoded_val = pickle.load(array_file)\n",
    "array_file.close()\n",
    "\n",
    "path = \"./\" + \"train_labels\" + \".pickle\"\n",
    "array_file = open(path, 'rb')\n",
    "train_labels = pickle.load(array_file)\n",
    "array_file.close()\n",
    "\n",
    "path = \"./\" + \"validation_labels\" + \".pickle\"\n",
    "array_file = open(path, 'rb')\n",
    "validation_labels = pickle.load(array_file)\n",
    "array_file.close()\n",
    "\n",
    "TAPEncoded_train = np.array(TAPEncoded_train)\n",
    "TAPEncoded_train = np.squeeze(TAPEncoded_train)\n",
    "\n",
    "TAPEncoded_val = np.array(TAPEncoded_val)\n",
    "TAPEncoded_val = np.squeeze(TAPEncoded_val)\n",
    "\n",
    "numclass = max(train_labels) + 1"
   ]
  },
  {
   "cell_type": "code",
   "execution_count": 34,
   "metadata": {
    "colab": {},
    "colab_type": "code",
    "id": "TCv_fddVOoFc"
   },
   "outputs": [],
   "source": [
    "def residual_block(x, filters, dil):\n",
    "    shortcut = x\n",
    "    bn1 = tf.keras.layers.BatchNormalization()(x)\n",
    "    a1 = tf.keras.layers.Activation(\"relu\")(bn1)\n",
    "    conv1 = tf.keras.layers.Conv1D(filters, 3, dilation_rate = dil, padding=\"same\")(a1) #1100 filters and 9 kernel size in ProtCNN\n",
    "    \n",
    "    bn2 = tf.keras.layers.BatchNormalization()(conv1)\n",
    "    a2 = tf.keras.layers.Activation(\"relu\")(bn2)\n",
    "    conv2 = tf.keras.layers.Conv1D(filters, 1, padding=\"same\")(a2)\n",
    "    \n",
    "    x = tf.keras.layers.Add()([conv2, shortcut])\n",
    "    \n",
    "    return x"
   ]
  },
  {
   "cell_type": "code",
   "execution_count": 35,
   "metadata": {},
   "outputs": [
    {
     "name": "stdout",
     "output_type": "stream",
     "text": [
      "Model: \"model_2\"\n",
      "__________________________________________________________________________________________________\n",
      "Layer (type)                    Output Shape         Param #     Connected to                     \n",
      "==================================================================================================\n",
      "input_3 (InputLayer)            [(None, 600, 768)]   0                                            \n",
      "__________________________________________________________________________________________________\n",
      "conv1d_5 (Conv1D)               (None, 600, 128)     295040      input_3[0][0]                    \n",
      "__________________________________________________________________________________________________\n",
      "batch_normalization_4 (BatchNor (None, 600, 128)     512         conv1d_5[0][0]                   \n",
      "__________________________________________________________________________________________________\n",
      "activation_4 (Activation)       (None, 600, 128)     0           batch_normalization_4[0][0]      \n",
      "__________________________________________________________________________________________________\n",
      "conv1d_6 (Conv1D)               (None, 600, 128)     49280       activation_4[0][0]               \n",
      "__________________________________________________________________________________________________\n",
      "batch_normalization_5 (BatchNor (None, 600, 128)     512         conv1d_6[0][0]                   \n",
      "__________________________________________________________________________________________________\n",
      "activation_5 (Activation)       (None, 600, 128)     0           batch_normalization_5[0][0]      \n",
      "__________________________________________________________________________________________________\n",
      "conv1d_7 (Conv1D)               (None, 600, 128)     16512       activation_5[0][0]               \n",
      "__________________________________________________________________________________________________\n",
      "add_2 (Add)                     (None, 600, 128)     0           conv1d_7[0][0]                   \n",
      "                                                                 conv1d_5[0][0]                   \n",
      "__________________________________________________________________________________________________\n",
      "batch_normalization_6 (BatchNor (None, 600, 128)     512         add_2[0][0]                      \n",
      "__________________________________________________________________________________________________\n",
      "activation_6 (Activation)       (None, 600, 128)     0           batch_normalization_6[0][0]      \n",
      "__________________________________________________________________________________________________\n",
      "conv1d_8 (Conv1D)               (None, 600, 128)     49280       activation_6[0][0]               \n",
      "__________________________________________________________________________________________________\n",
      "batch_normalization_7 (BatchNor (None, 600, 128)     512         conv1d_8[0][0]                   \n",
      "__________________________________________________________________________________________________\n",
      "activation_7 (Activation)       (None, 600, 128)     0           batch_normalization_7[0][0]      \n",
      "__________________________________________________________________________________________________\n",
      "conv1d_9 (Conv1D)               (None, 600, 128)     16512       activation_7[0][0]               \n",
      "__________________________________________________________________________________________________\n",
      "add_3 (Add)                     (None, 600, 128)     0           conv1d_9[0][0]                   \n",
      "                                                                 add_2[0][0]                      \n",
      "__________________________________________________________________________________________________\n",
      "max_pooling1d_1 (MaxPooling1D)  (None, 1, 128)       0           add_3[0][0]                      \n",
      "__________________________________________________________________________________________________\n",
      "flatten_1 (Flatten)             (None, 128)          0           max_pooling1d_1[0][0]            \n",
      "__________________________________________________________________________________________________\n",
      "dense_2 (Dense)                 (None, 30)           3870        flatten_1[0][0]                  \n",
      "==================================================================================================\n",
      "Total params: 432,542\n",
      "Trainable params: 431,518\n",
      "Non-trainable params: 1,024\n",
      "__________________________________________________________________________________________________\n"
     ]
    }
   ],
   "source": [
    "# batch_size = 8\n",
    "# n_timesteps = 400\n",
    "# n_features = 768\n",
    "# input_x = tf.keras.layers.Input(shape=(n_timesteps,n_features))\n",
    "# bi_rnn = tf.keras.layers.Bidirectional(tf.keras.layers.LSTM(16, batch_input_shape=(batch_size, n_timesteps, n_features), \n",
    "#                                                             kernel_regularizer=tf.keras.regularizers.l2(0.01), \n",
    "#                                                             recurrent_regularizer=tf.keras.regularizers.l2(0.01), \n",
    "#                                                             bias_regularizer=tf.keras.regularizers.l2(0.01)))(input_x)\n",
    "# out = tf.keras.layers.Dense(49, activation=\"softmax\")(bi_rnn) \n",
    "# model = tf.keras.Model(inputs=input_x, outputs=out)\n",
    "# model.compile(loss='sparse_categorical_crossentropy',optimizer=\"adam\",metrics=['accuracy'])\n",
    "# model.summary()\n",
    "\n",
    "input_x = tf.keras.layers.Input(shape=(600,768))\n",
    "x = tf.keras.layers.Conv1D(128, 3, padding=\"same\")(input_x)\n",
    "x = residual_block(x, 128, 1)\n",
    "#x = tf.keras.layers.Dropout(0.3)(x)\n",
    "x = residual_block(x, 128, 2) #4 blocks of these in ProtCNN\n",
    "x = tf.keras.layers.MaxPooling1D(600)(x)\n",
    "\n",
    "x = tf.keras.layers.Flatten()(x)\n",
    "out = tf.keras.layers.Dense(numclass, activation=\"softmax\")(x) \n",
    "\n",
    "model = tf.keras.Model(inputs=input_x, outputs=out)\n",
    "#optimizer = tf.keras.optimizers.Adam(lr=1e-5)\n",
    "\n",
    "model.compile(loss='sparse_categorical_crossentropy',optimizer=\"adam\",metrics=['accuracy'])\n",
    "model.summary()"
   ]
  },
  {
   "cell_type": "code",
   "execution_count": 36,
   "metadata": {},
   "outputs": [],
   "source": [
    "# lr_schedule = tf.keras.callbacks.LearningRateScheduler(\n",
    "#     lambda epoch: 1e-5 * 10**(epoch / 20))\n",
    "\n",
    "es = tf.keras.callbacks.EarlyStopping(monitor='val_accuracy', mode='max', min_delta=0.01, patience=5)"
   ]
  },
  {
   "cell_type": "code",
   "execution_count": 37,
   "metadata": {},
   "outputs": [
    {
     "name": "stdout",
     "output_type": "stream",
     "text": [
      "Epoch 1/25\n",
      "164/164 - 5s - loss: 1.3928 - accuracy: 0.7246 - val_loss: 0.5597 - val_accuracy: 0.8377\n",
      "Epoch 2/25\n",
      "164/164 - 5s - loss: 0.4124 - accuracy: 0.8788 - val_loss: 0.4152 - val_accuracy: 0.8920\n",
      "Epoch 3/25\n",
      "164/164 - 5s - loss: 0.2057 - accuracy: 0.9399 - val_loss: 0.3182 - val_accuracy: 0.9112\n",
      "Epoch 4/25\n",
      "164/164 - 5s - loss: 0.1003 - accuracy: 0.9684 - val_loss: 0.2777 - val_accuracy: 0.9280\n",
      "Epoch 5/25\n",
      "164/164 - 5s - loss: 0.0462 - accuracy: 0.9876 - val_loss: 0.3012 - val_accuracy: 0.9303\n",
      "Epoch 6/25\n",
      "164/164 - 5s - loss: 0.0997 - accuracy: 0.9711 - val_loss: 0.3566 - val_accuracy: 0.9127\n",
      "Epoch 7/25\n",
      "164/164 - 5s - loss: 0.0281 - accuracy: 0.9925 - val_loss: 0.3079 - val_accuracy: 0.9280\n",
      "Epoch 8/25\n",
      "164/164 - 5s - loss: 0.0084 - accuracy: 0.9983 - val_loss: 0.2285 - val_accuracy: 0.9357\n",
      "Epoch 9/25\n",
      "164/164 - 5s - loss: 0.0023 - accuracy: 1.0000 - val_loss: 0.2311 - val_accuracy: 0.9518\n",
      "Epoch 10/25\n",
      "164/164 - 5s - loss: 9.9941e-04 - accuracy: 1.0000 - val_loss: 0.2296 - val_accuracy: 0.9487\n",
      "Epoch 11/25\n",
      "164/164 - 5s - loss: 7.3423e-04 - accuracy: 1.0000 - val_loss: 0.2269 - val_accuracy: 0.9487\n",
      "Epoch 12/25\n",
      "164/164 - 5s - loss: 5.8395e-04 - accuracy: 1.0000 - val_loss: 0.2292 - val_accuracy: 0.9502\n",
      "Epoch 13/25\n",
      "164/164 - 5s - loss: 5.1471e-04 - accuracy: 1.0000 - val_loss: 0.2336 - val_accuracy: 0.9472\n",
      "Epoch 14/25\n",
      "164/164 - 5s - loss: 4.5638e-04 - accuracy: 1.0000 - val_loss: 0.2395 - val_accuracy: 0.9495\n"
     ]
    }
   ],
   "source": [
    "history = model.fit(TAPEncoded_train, train_labels, epochs=25, validation_data=(TAPEncoded_val, validation_labels), verbose=2, callbacks=[es])"
   ]
  },
  {
   "cell_type": "code",
   "execution_count": 38,
   "metadata": {},
   "outputs": [],
   "source": [
    "preds = model.predict(TAPEncoded_val)\n",
    "\n",
    "mask = (validation_labels == 6) #6 is negative\n",
    "\n",
    "predictions = np.argmax(preds, axis=1)\n",
    "\n",
    "y_true = validation_labels\n",
    "y_true[~mask] = 1\n",
    "y_true[mask] = 0\n",
    "\n",
    "mask = (predictions == 6)\n",
    "y_pred = predictions\n",
    "y_pred[~mask] = 1\n",
    "y_pred[mask] = 0"
   ]
  },
  {
   "cell_type": "code",
   "execution_count": 39,
   "metadata": {
    "scrolled": true
   },
   "outputs": [
    {
     "name": "stdout",
     "output_type": "stream",
     "text": [
      "True positive: 527, false positive: 7, true negative: 729, false negative: 43\n",
      "\n",
      "MCC: 0.923086\n",
      "Accuracy: 96.17%\n",
      "F1 score: 0.95\n",
      "Precision: 0.99\n",
      "Recall: 0.92\n"
     ]
    }
   ],
   "source": [
    "get_performance_vals(y_pred, y_true)"
   ]
  },
  {
   "cell_type": "code",
   "execution_count": 40,
   "metadata": {},
   "outputs": [
    {
     "name": "stdout",
     "output_type": "stream",
     "text": [
      "Saved model to disk\n"
     ]
    }
   ],
   "source": [
    "# serialize model to JSON\n",
    "model_json = model.to_json()\n",
    "with open(\"./\" + \"TAPE_PF_culled_model.json\", \"w\") as json_file:\n",
    "    json_file.write(model_json)\n",
    "# serialize weights to HDF5\n",
    "model.save_weights(\"./\" + \"TAPE_PF_culled_model.h5\")\n",
    "print(\"Saved model to disk\")"
   ]
  },
  {
   "cell_type": "code",
   "execution_count": null,
   "metadata": {},
   "outputs": [],
   "source": [
    "#Method 2B - Binary classification"
   ]
  },
  {
   "cell_type": "code",
   "execution_count": 41,
   "metadata": {},
   "outputs": [
    {
     "name": "stdout",
     "output_type": "stream",
     "text": [
      "Model: \"model_3\"\n",
      "__________________________________________________________________________________________________\n",
      "Layer (type)                    Output Shape         Param #     Connected to                     \n",
      "==================================================================================================\n",
      "input_4 (InputLayer)            [(None, 600, 768)]   0                                            \n",
      "__________________________________________________________________________________________________\n",
      "conv1d_10 (Conv1D)              (None, 600, 128)     295040      input_4[0][0]                    \n",
      "__________________________________________________________________________________________________\n",
      "batch_normalization_8 (BatchNor (None, 600, 128)     512         conv1d_10[0][0]                  \n",
      "__________________________________________________________________________________________________\n",
      "activation_8 (Activation)       (None, 600, 128)     0           batch_normalization_8[0][0]      \n",
      "__________________________________________________________________________________________________\n",
      "conv1d_11 (Conv1D)              (None, 600, 128)     49280       activation_8[0][0]               \n",
      "__________________________________________________________________________________________________\n",
      "batch_normalization_9 (BatchNor (None, 600, 128)     512         conv1d_11[0][0]                  \n",
      "__________________________________________________________________________________________________\n",
      "activation_9 (Activation)       (None, 600, 128)     0           batch_normalization_9[0][0]      \n",
      "__________________________________________________________________________________________________\n",
      "conv1d_12 (Conv1D)              (None, 600, 128)     16512       activation_9[0][0]               \n",
      "__________________________________________________________________________________________________\n",
      "add_4 (Add)                     (None, 600, 128)     0           conv1d_12[0][0]                  \n",
      "                                                                 conv1d_10[0][0]                  \n",
      "__________________________________________________________________________________________________\n",
      "batch_normalization_10 (BatchNo (None, 600, 128)     512         add_4[0][0]                      \n",
      "__________________________________________________________________________________________________\n",
      "activation_10 (Activation)      (None, 600, 128)     0           batch_normalization_10[0][0]     \n",
      "__________________________________________________________________________________________________\n",
      "conv1d_13 (Conv1D)              (None, 600, 128)     49280       activation_10[0][0]              \n",
      "__________________________________________________________________________________________________\n",
      "batch_normalization_11 (BatchNo (None, 600, 128)     512         conv1d_13[0][0]                  \n",
      "__________________________________________________________________________________________________\n",
      "activation_11 (Activation)      (None, 600, 128)     0           batch_normalization_11[0][0]     \n",
      "__________________________________________________________________________________________________\n",
      "conv1d_14 (Conv1D)              (None, 600, 128)     16512       activation_11[0][0]              \n",
      "__________________________________________________________________________________________________\n",
      "add_5 (Add)                     (None, 600, 128)     0           conv1d_14[0][0]                  \n",
      "                                                                 add_4[0][0]                      \n",
      "__________________________________________________________________________________________________\n",
      "max_pooling1d_2 (MaxPooling1D)  (None, 1, 128)       0           add_5[0][0]                      \n",
      "__________________________________________________________________________________________________\n",
      "flatten_2 (Flatten)             (None, 128)          0           max_pooling1d_2[0][0]            \n",
      "__________________________________________________________________________________________________\n",
      "dense_3 (Dense)                 (None, 10)           1290        flatten_2[0][0]                  \n",
      "__________________________________________________________________________________________________\n",
      "dense_4 (Dense)                 (None, 1)            11          dense_3[0][0]                    \n",
      "==================================================================================================\n",
      "Total params: 429,973\n",
      "Trainable params: 428,949\n",
      "Non-trainable params: 1,024\n",
      "__________________________________________________________________________________________________\n"
     ]
    }
   ],
   "source": [
    "# batch_size = 8\n",
    "# n_timesteps = 400\n",
    "# n_features = 768\n",
    "# input_x = tf.keras.layers.Input(shape=(n_timesteps,n_features))\n",
    "# bi_rnn = tf.keras.layers.Bidirectional(tf.keras.layers.LSTM(16, batch_input_shape=(batch_size, n_timesteps, n_features), \n",
    "#                                                             kernel_regularizer=tf.keras.regularizers.l2(0.01), \n",
    "#                                                             recurrent_regularizer=tf.keras.regularizers.l2(0.01), \n",
    "#                                                             bias_regularizer=tf.keras.regularizers.l2(0.01)))(input_x)\n",
    "# out = tf.keras.layers.Dense(49, activation=\"softmax\")(bi_rnn) \n",
    "# model = tf.keras.Model(inputs=input_x, outputs=out)\n",
    "# model.compile(loss='sparse_categorical_crossentropy',optimizer=\"adam\",metrics=['accuracy'])\n",
    "# model.summary()\n",
    "\n",
    "input_x = tf.keras.layers.Input(shape=(600,768))\n",
    "x = tf.keras.layers.Conv1D(128, 3, padding=\"same\")(input_x)\n",
    "x = residual_block(x, 128, 1)\n",
    "#x = tf.keras.layers.Dropout(0.3)(x)\n",
    "x = residual_block(x, 128, 2) #4 blocks of these in ProtCNN\n",
    "x = tf.keras.layers.MaxPooling1D(600)(x)\n",
    "\n",
    "x = tf.keras.layers.Flatten()(x)\n",
    "x = tf.keras.layers.Dense(10, activation=\"relu\")(x) \n",
    "out = tf.keras.layers.Dense(1, activation=\"sigmoid\")(x) \n",
    "\n",
    "model = tf.keras.Model(inputs=input_x, outputs=out)\n",
    "#optimizer = tf.keras.optimizers.Adam(lr=1e-5)\n",
    "\n",
    "model.compile(loss='binary_crossentropy',optimizer=\"adam\",metrics=['accuracy'])\n",
    "model.summary()"
   ]
  },
  {
   "cell_type": "code",
   "execution_count": 46,
   "metadata": {},
   "outputs": [],
   "source": [
    "validation_labels = y_true"
   ]
  },
  {
   "cell_type": "code",
   "execution_count": 51,
   "metadata": {},
   "outputs": [],
   "source": [
    "mask = (train_labels == 6) #6 is negative\n",
    "train_labels[~mask] = 1\n",
    "train_labels[mask] = 0"
   ]
  },
  {
   "cell_type": "code",
   "execution_count": 52,
   "metadata": {},
   "outputs": [
    {
     "name": "stdout",
     "output_type": "stream",
     "text": [
      "Epoch 1/25\n",
      "164/164 - 5s - loss: 0.4974 - accuracy: 0.8154 - val_loss: 0.4199 - val_accuracy: 0.8629\n",
      "Epoch 2/25\n",
      "164/164 - 5s - loss: 0.3906 - accuracy: 0.8922 - val_loss: 0.3704 - val_accuracy: 0.8974\n",
      "Epoch 3/25\n",
      "164/164 - 5s - loss: 0.3427 - accuracy: 0.9090 - val_loss: 0.3367 - val_accuracy: 0.9112\n",
      "Epoch 4/25\n",
      "164/164 - 5s - loss: 0.2977 - accuracy: 0.9330 - val_loss: 0.3238 - val_accuracy: 0.9051\n",
      "Epoch 5/25\n",
      "164/164 - 5s - loss: 0.2786 - accuracy: 0.9316 - val_loss: 0.2933 - val_accuracy: 0.9219\n",
      "Epoch 6/25\n",
      "164/164 - 5s - loss: 0.2289 - accuracy: 0.9498 - val_loss: 0.2271 - val_accuracy: 0.9181\n",
      "Epoch 7/25\n",
      "164/164 - 5s - loss: 0.1905 - accuracy: 0.9297 - val_loss: 0.1930 - val_accuracy: 0.9204\n",
      "Epoch 8/25\n",
      "164/164 - 5s - loss: 0.0827 - accuracy: 0.9707 - val_loss: 0.1441 - val_accuracy: 0.9441\n",
      "Epoch 9/25\n",
      "164/164 - 5s - loss: 0.0435 - accuracy: 0.9858 - val_loss: 0.1980 - val_accuracy: 0.9250\n",
      "Epoch 10/25\n",
      "164/164 - 5s - loss: 0.0306 - accuracy: 0.9908 - val_loss: 0.1688 - val_accuracy: 0.9426\n",
      "Epoch 11/25\n",
      "164/164 - 5s - loss: 0.0145 - accuracy: 0.9962 - val_loss: 0.1661 - val_accuracy: 0.9449\n",
      "Epoch 12/25\n",
      "164/164 - 5s - loss: 0.0053 - accuracy: 0.9996 - val_loss: 0.1638 - val_accuracy: 0.9541\n",
      "Epoch 13/25\n",
      "164/164 - 5s - loss: 0.0021 - accuracy: 0.9998 - val_loss: 0.1760 - val_accuracy: 0.9502\n"
     ]
    }
   ],
   "source": [
    "history = model.fit(TAPEncoded_train, train_labels, epochs=25, validation_data=(TAPEncoded_val, validation_labels), verbose=2, callbacks=[es])"
   ]
  },
  {
   "cell_type": "code",
   "execution_count": 54,
   "metadata": {},
   "outputs": [],
   "source": [
    "preds = model.predict(TAPEncoded_val)"
   ]
  },
  {
   "cell_type": "code",
   "execution_count": 55,
   "metadata": {},
   "outputs": [],
   "source": [
    "mask = preds > 0.5\n",
    "preds[mask] = 1\n",
    "preds[~mask] = 0"
   ]
  },
  {
   "cell_type": "code",
   "execution_count": 56,
   "metadata": {},
   "outputs": [],
   "source": [
    "preds = preds.reshape(-1)"
   ]
  },
  {
   "cell_type": "code",
   "execution_count": 57,
   "metadata": {},
   "outputs": [
    {
     "name": "stdout",
     "output_type": "stream",
     "text": [
      "True positive: 536, false positive: 31, true negative: 705, false negative: 34\n",
      "\n",
      "MCC: 0.898775\n",
      "Accuracy: 95.02%\n",
      "F1 score: 0.94\n",
      "Precision: 0.95\n",
      "Recall: 0.94\n"
     ]
    }
   ],
   "source": [
    "get_performance_vals(preds, validation_labels) #Performs worse than mutliclass model!!"
   ]
  },
  {
   "cell_type": "code",
   "execution_count": 10,
   "metadata": {},
   "outputs": [],
   "source": [
    "#Method 3"
   ]
  },
  {
   "cell_type": "code",
   "execution_count": 11,
   "metadata": {},
   "outputs": [],
   "source": [
    "#Starting here"
   ]
  },
  {
   "cell_type": "code",
   "execution_count": 12,
   "metadata": {},
   "outputs": [
    {
     "name": "stdout",
     "output_type": "stream",
     "text": [
      "Tensorflow version 2.2.0\n",
      "WARNING:tensorflow:From <ipython-input-12-0ced83b4a304>:6: is_gpu_available (from tensorflow.python.framework.test_util) is deprecated and will be removed in a future version.\n",
      "Instructions for updating:\n",
      "Use `tf.config.list_physical_devices('GPU')` instead.\n"
     ]
    },
    {
     "name": "stderr",
     "output_type": "stream",
     "text": [
      "C:\\Users\\sarva\\Anaconda3\\lib\\site-packages\\tensorboard\\compat\\tensorflow_stub\\dtypes.py:541: FutureWarning: Passing (type, 1) or '1type' as a synonym of type is deprecated; in a future version of numpy, it will be understood as (type, (1,)) / '(1,)type'.\n",
      "  _np_qint8 = np.dtype([(\"qint8\", np.int8, 1)])\n",
      "C:\\Users\\sarva\\Anaconda3\\lib\\site-packages\\tensorboard\\compat\\tensorflow_stub\\dtypes.py:542: FutureWarning: Passing (type, 1) or '1type' as a synonym of type is deprecated; in a future version of numpy, it will be understood as (type, (1,)) / '(1,)type'.\n",
      "  _np_quint8 = np.dtype([(\"quint8\", np.uint8, 1)])\n",
      "C:\\Users\\sarva\\Anaconda3\\lib\\site-packages\\tensorboard\\compat\\tensorflow_stub\\dtypes.py:543: FutureWarning: Passing (type, 1) or '1type' as a synonym of type is deprecated; in a future version of numpy, it will be understood as (type, (1,)) / '(1,)type'.\n",
      "  _np_qint16 = np.dtype([(\"qint16\", np.int16, 1)])\n",
      "C:\\Users\\sarva\\Anaconda3\\lib\\site-packages\\tensorboard\\compat\\tensorflow_stub\\dtypes.py:544: FutureWarning: Passing (type, 1) or '1type' as a synonym of type is deprecated; in a future version of numpy, it will be understood as (type, (1,)) / '(1,)type'.\n",
      "  _np_quint16 = np.dtype([(\"quint16\", np.uint16, 1)])\n",
      "C:\\Users\\sarva\\Anaconda3\\lib\\site-packages\\tensorboard\\compat\\tensorflow_stub\\dtypes.py:545: FutureWarning: Passing (type, 1) or '1type' as a synonym of type is deprecated; in a future version of numpy, it will be understood as (type, (1,)) / '(1,)type'.\n",
      "  _np_qint32 = np.dtype([(\"qint32\", np.int32, 1)])\n",
      "C:\\Users\\sarva\\Anaconda3\\lib\\site-packages\\tensorboard\\compat\\tensorflow_stub\\dtypes.py:550: FutureWarning: Passing (type, 1) or '1type' as a synonym of type is deprecated; in a future version of numpy, it will be understood as (type, (1,)) / '(1,)type'.\n",
      "  np_resource = np.dtype([(\"resource\", np.ubyte, 1)])\n"
     ]
    },
    {
     "name": "stdout",
     "output_type": "stream",
     "text": [
      "True\n",
      "Compute dtype: float16\n",
      "Variable dtype: float32\n"
     ]
    }
   ],
   "source": [
    "import tensorflow as tf\n",
    "print(\"Tensorflow version \" + tf.__version__)\n",
    "\n",
    "tf.test.is_built_with_cuda()\n",
    "\n",
    "print(tf.test.is_gpu_available(cuda_only=False, min_cuda_compute_capability=None))\n",
    "\n",
    "tf.config.experimental.list_physical_devices('GPU')\n",
    "#for device in gpu_devices: tf.config.experimental.set_memory_growth(device, True)\n",
    "\n",
    "# import tensorflow.keras.backend as K\n",
    "# dtype = 'float16'\n",
    "# K.set_floatx(dtype)\n",
    "# K.set_epsilon(1e-4)\n",
    "\n",
    "from tensorflow.keras.preprocessing.text import Tokenizer\n",
    "from tensorflow.keras.preprocessing.sequence import pad_sequences\n",
    "from tensorflow.keras.mixed_precision import experimental as mixed_precision\n",
    "policy = mixed_precision.Policy('mixed_float16')\n",
    "mixed_precision.set_policy(policy)\n",
    "\n",
    "print('Compute dtype: %s' % policy.compute_dtype)\n",
    "print('Variable dtype: %s' % policy.variable_dtype)"
   ]
  },
  {
   "cell_type": "code",
   "execution_count": 13,
   "metadata": {
    "colab": {},
    "colab_type": "code",
    "id": "DsU7zKDkOoE9"
   },
   "outputs": [],
   "source": [
    "def split_(word): \n",
    "    return [char for char in word]\n",
    "\n",
    "train_sentences = [[char for char in word] for word in train]\n",
    "validation_sentences = [[char for char in word] for word in dev]\n",
    "#test_sentences = test['sequence'].apply(lambda x: split_(x))"
   ]
  },
  {
   "cell_type": "code",
   "execution_count": 14,
   "metadata": {
    "colab": {
     "base_uri": "https://localhost:8080/",
     "height": 33
    },
    "colab_type": "code",
    "id": "MpoLRnT0OoFN",
    "outputId": "79f02a60-1599-4a1e-fc7a-1b9e9e6e718f"
   },
   "outputs": [
    {
     "name": "stdout",
     "output_type": "stream",
     "text": [
      "{'<OOV>': 1, 'l': 2, 'a': 3, 'g': 4, 's': 5, 'v': 6, 'e': 7, 't': 8, 'd': 9, 'i': 10, 'k': 11, 'n': 12, 'r': 13, 'p': 14, 'f': 15, 'q': 16, 'y': 17, 'h': 18, 'm': 19, 'w': 20, 'c': 21, 'x': 22, 'u': 23, 'o': 24}\n"
     ]
    }
   ],
   "source": [
    "vocab_size = 21\n",
    "max_length = 600\n",
    "trunc_type = \"post\"\n",
    "padding_type = \"post\"\n",
    "oov_tok = \"<OOV>\"\n",
    "\n",
    "tokenizer = Tokenizer(oov_token=oov_tok, num_words = vocab_size)\n",
    "tokenizer.fit_on_texts(train_sentences)\n",
    "word_index = tokenizer.word_index\n",
    "print(word_index)\n",
    "\n",
    "train_sequences = tokenizer.texts_to_sequences(train_sentences)\n",
    "train_padded = pad_sequences(train_sequences, maxlen=max_length, padding=padding_type)\n",
    "# del train_sentences\n",
    "# del train_sequences\n",
    "# gc.collect()"
   ]
  },
  {
   "cell_type": "code",
   "execution_count": 15,
   "metadata": {
    "colab": {},
    "colab_type": "code",
    "id": "3iy99ZfCJ34l"
   },
   "outputs": [],
   "source": [
    "validation_sequences = tokenizer.texts_to_sequences(validation_sentences)\n",
    "validation_padded = pad_sequences(validation_sequences, maxlen=max_length, padding=padding_type)\n",
    "# del validation_sentences\n",
    "# del validation_sequences\n",
    "# gc.collect()"
   ]
  },
  {
   "cell_type": "code",
   "execution_count": 16,
   "metadata": {
    "colab": {},
    "colab_type": "code",
    "id": "UpmBGMoKJ85Z"
   },
   "outputs": [],
   "source": [
    "# takes too much space\n",
    "# solved with non-trainable Embedding layer with identity initializer\n",
    "\n",
    "# train_padded = tf.keras.utils.to_categorical(train_padded, num_classes=vocab_size)\n",
    "# validation_padded = tf.keras.utils.to_categorical(validation_padded, num_classes=vocab_size)\n",
    "# test_padded = tf.keras.utils.to_categorical(test_padded, num_classes=vocab_size)"
   ]
  },
  {
   "cell_type": "code",
   "execution_count": 17,
   "metadata": {
    "colab": {
     "base_uri": "https://localhost:8080/",
     "height": 33
    },
    "colab_type": "code",
    "id": "rhXMpWpXOoFP",
    "outputId": "78f7883c-7106-4b5d-9137-a634692a08d9"
   },
   "outputs": [
    {
     "data": {
      "text/plain": [
       "(5225, 600)"
      ]
     },
     "execution_count": 17,
     "metadata": {},
     "output_type": "execute_result"
    }
   ],
   "source": [
    "train_padded.shape"
   ]
  },
  {
   "cell_type": "code",
   "execution_count": 37,
   "metadata": {
    "colab": {
     "base_uri": "https://localhost:8080/",
     "height": 33
    },
    "colab_type": "code",
    "id": "2eB81tNKWbaf",
    "outputId": "4f233e42-7130-4d05-9962-e0cb8e08c0cc"
   },
   "outputs": [
    {
     "data": {
      "text/plain": [
       "((5222,), (1306,))"
      ]
     },
     "execution_count": 37,
     "metadata": {},
     "output_type": "execute_result"
    }
   ],
   "source": [
    "from sklearn.preprocessing import LabelEncoder\n",
    "le = LabelEncoder()\n",
    "\n",
    "train_labels = le.fit_transform(train_labels)\n",
    "validation_labels = le.transform(validation_labels)\n",
    "#test_labels = le.transform(test_labels)\n",
    "\n",
    "train_labels.shape, validation_labels.shape"
   ]
  },
  {
   "cell_type": "code",
   "execution_count": 38,
   "metadata": {},
   "outputs": [
    {
     "name": "stdout",
     "output_type": "stream",
     "text": [
      "{0: 'PF00087_full_Toxin_TOLIP_333.txt', 1: 'PF01289_full_Thiol_cytolysin_243.txt', 2: 'PF02382_full_RTX_14.txt', 3: 'PF04598_rp15_Gasdermin_62.txt', 4: 'PF07367_full_FB_lectin_171.txt', 5: 'PF11565_full_porB_30.txt', 6: 'negative', 7: 'pos_PF00555_seed_Endotoxin_M_36.txt', 8: 'pos_PF01024_full_Colicin_26.txt', 9: 'pos_PF01117_full_Aerolysin_207.txt', 10: 'pos_PF01338_full_Bac_thur_toxin_87.txt', 11: 'pos_PF01823_rp15_MACPF_659.txt', 12: 'pos_PF03318_full_ETX_MTX2_440.txt', 13: 'pos_PF03505_full_Clenterotox_9.txt', 14: 'pos_PF03944_seed_Endotoxin_C_80.txt', 15: 'pos_PF03945_full_Endotoxin_N_180.txt', 16: 'pos_PF04877_full_Harpin_35.txt', 17: 'pos_PF05105_seed_Phage_holin_4_1_131.txt', 18: 'pos_PF05802_full_EspB_60.txt', 19: 'pos_PF06109_full_HlyE_62.txt', 20: 'pos_PF06355_full_Aegerolysin_308.txt', 21: 'pos_PF06369_full_anemone_cytotox_363.txt', 22: 'pos_PF07968_full_Leukocidin_89.txt', 23: 'pos_PF11393_full_T4BSS_DotI_IcmL_214.txt', 24: 'pos_PF12261_full_T_hemolysin_327.txt', 25: 'pos_PF12563_full_Hemolysin_N_12.txt', 26: 'pos_PF12920_full_TcdA_TcdB_pore_46.txt', 27: 'pos_PF17475_full_Binary_toxB_2_16.txt', 28: 'pos_PF18063_full_BB_PF_52.txt', 29: 'pos_PF18684_full_PlyB_C_8.txt'}\n"
     ]
    }
   ],
   "source": [
    "le_name_mapping = dict(zip(le.classes_, le.transform(le.classes_)))\n",
    "umap_map = {v: k for k, v in le_name_mapping.items()}\n",
    "print(umap_map)"
   ]
  },
  {
   "cell_type": "code",
   "execution_count": 39,
   "metadata": {},
   "outputs": [],
   "source": [
    "numclass = max(train_labels) + 1"
   ]
  },
  {
   "cell_type": "code",
   "execution_count": 21,
   "metadata": {},
   "outputs": [],
   "source": [
    "def residual_block(x, filters, dil):\n",
    "    shortcut = x\n",
    "    bn1 = tf.keras.layers.BatchNormalization()(x)\n",
    "    a1 = tf.keras.layers.Activation(\"relu\")(bn1)\n",
    "    conv1 = tf.keras.layers.Conv1D(filters, 3, dilation_rate = dil, padding=\"same\")(a1) #1100 filters and 9 kernel size in ProtCNN\n",
    "    \n",
    "    bn2 = tf.keras.layers.BatchNormalization()(conv1)\n",
    "    a2 = tf.keras.layers.Activation(\"relu\")(bn2)\n",
    "    conv2 = tf.keras.layers.Conv1D(filters, 1, padding=\"same\")(a2)\n",
    "    \n",
    "    x = tf.keras.layers.Add()([conv2, shortcut])\n",
    "    \n",
    "    return x"
   ]
  },
  {
   "cell_type": "code",
   "execution_count": 22,
   "metadata": {
    "colab": {
     "base_uri": "https://localhost:8080/",
     "height": 856
    },
    "colab_type": "code",
    "id": "gHREjUe3OoFh",
    "outputId": "101f0f32-c106-488a-aa22-a894ad687d2a"
   },
   "outputs": [
    {
     "name": "stdout",
     "output_type": "stream",
     "text": [
      "Model: \"model\"\n",
      "__________________________________________________________________________________________________\n",
      "Layer (type)                    Output Shape         Param #     Connected to                     \n",
      "==================================================================================================\n",
      "input_1 (InputLayer)            [(None, 600)]        0                                            \n",
      "__________________________________________________________________________________________________\n",
      "embedding (Embedding)           (None, 600, 21)      441         input_1[0][0]                    \n",
      "__________________________________________________________________________________________________\n",
      "conv1d (Conv1D)                 (None, 600, 128)     8192        embedding[0][0]                  \n",
      "__________________________________________________________________________________________________\n",
      "batch_normalization (BatchNorma (None, 600, 128)     512         conv1d[0][0]                     \n",
      "__________________________________________________________________________________________________\n",
      "activation (Activation)         (None, 600, 128)     0           batch_normalization[0][0]        \n",
      "__________________________________________________________________________________________________\n",
      "conv1d_1 (Conv1D)               (None, 600, 128)     49280       activation[0][0]                 \n",
      "__________________________________________________________________________________________________\n",
      "batch_normalization_1 (BatchNor (None, 600, 128)     512         conv1d_1[0][0]                   \n",
      "__________________________________________________________________________________________________\n",
      "activation_1 (Activation)       (None, 600, 128)     0           batch_normalization_1[0][0]      \n",
      "__________________________________________________________________________________________________\n",
      "conv1d_2 (Conv1D)               (None, 600, 128)     16512       activation_1[0][0]               \n",
      "__________________________________________________________________________________________________\n",
      "add (Add)                       (None, 600, 128)     0           conv1d_2[0][0]                   \n",
      "                                                                 conv1d[0][0]                     \n",
      "__________________________________________________________________________________________________\n",
      "batch_normalization_2 (BatchNor (None, 600, 128)     512         add[0][0]                        \n",
      "__________________________________________________________________________________________________\n",
      "activation_2 (Activation)       (None, 600, 128)     0           batch_normalization_2[0][0]      \n",
      "__________________________________________________________________________________________________\n",
      "conv1d_3 (Conv1D)               (None, 600, 128)     49280       activation_2[0][0]               \n",
      "__________________________________________________________________________________________________\n",
      "batch_normalization_3 (BatchNor (None, 600, 128)     512         conv1d_3[0][0]                   \n",
      "__________________________________________________________________________________________________\n",
      "activation_3 (Activation)       (None, 600, 128)     0           batch_normalization_3[0][0]      \n",
      "__________________________________________________________________________________________________\n",
      "conv1d_4 (Conv1D)               (None, 600, 128)     16512       activation_3[0][0]               \n",
      "__________________________________________________________________________________________________\n",
      "add_1 (Add)                     (None, 600, 128)     0           conv1d_4[0][0]                   \n",
      "                                                                 add[0][0]                        \n",
      "__________________________________________________________________________________________________\n",
      "max_pooling1d (MaxPooling1D)    (None, 1, 128)       0           add_1[0][0]                      \n",
      "__________________________________________________________________________________________________\n",
      "flatten (Flatten)               (None, 128)          0           max_pooling1d[0][0]              \n",
      "__________________________________________________________________________________________________\n",
      "dense (Dense)                   (None, 30)           3870        flatten[0][0]                    \n",
      "==================================================================================================\n",
      "Total params: 146,135\n",
      "Trainable params: 144,670\n",
      "Non-trainable params: 1,465\n",
      "__________________________________________________________________________________________________\n"
     ]
    }
   ],
   "source": [
    "input_x = tf.keras.layers.Input(shape=600)\n",
    "x = tf.keras.layers.Embedding(vocab_size, vocab_size, embeddings_initializer=tf.keras.initializers.Identity(gain=1.0), trainable=False)(input_x)\n",
    "x = tf.keras.layers.Conv1D(128, 3, padding=\"same\")(x)\n",
    "x = residual_block(x, 128, 1)\n",
    "x = residual_block(x, 128, 2) #4 blocks of these in ProtCNN\n",
    "x = tf.keras.layers.MaxPooling1D(max_length)(x)\n",
    "\n",
    "x = tf.keras.layers.Flatten()(x)\n",
    "out = tf.keras.layers.Dense(numclass, activation=\"softmax\")(x) \n",
    "\n",
    "model = tf.keras.Model(inputs=input_x, outputs=out)\n",
    "#optimizer = tf.keras.optimizers.Adam(lr=1e-5)\n",
    "\n",
    "model.compile(loss='sparse_categorical_crossentropy',optimizer=\"adam\",metrics=['accuracy'])\n",
    "model.summary()"
   ]
  },
  {
   "cell_type": "code",
   "execution_count": 23,
   "metadata": {
    "colab": {
     "base_uri": "https://localhost:8080/",
     "height": 386
    },
    "colab_type": "code",
    "id": "I-GgPN6_OoFj",
    "outputId": "40067b50-b3ce-4d2d-f04a-a6364511eff7"
   },
   "outputs": [
    {
     "name": "stdout",
     "output_type": "stream",
     "text": [
      "Epoch 1/25\n",
      "164/164 - 2s - loss: 1.8999 - accuracy: 0.6080 - val_loss: 2.3180 - val_accuracy: 0.5639\n",
      "Epoch 2/25\n",
      "164/164 - 2s - loss: 0.8185 - accuracy: 0.8059 - val_loss: 1.3519 - val_accuracy: 0.6695\n",
      "Epoch 3/25\n",
      "164/164 - 2s - loss: 0.4693 - accuracy: 0.8792 - val_loss: 0.7719 - val_accuracy: 0.8064\n",
      "Epoch 4/25\n",
      "164/164 - 2s - loss: 0.2446 - accuracy: 0.9374 - val_loss: 0.5862 - val_accuracy: 0.8485\n",
      "Epoch 5/25\n",
      "164/164 - 2s - loss: 0.1181 - accuracy: 0.9749 - val_loss: 0.5235 - val_accuracy: 0.8707\n",
      "Epoch 6/25\n",
      "164/164 - 2s - loss: 0.0485 - accuracy: 0.9946 - val_loss: 0.4569 - val_accuracy: 0.8806\n",
      "Epoch 7/25\n",
      "164/164 - 2s - loss: 0.0124 - accuracy: 0.9998 - val_loss: 0.4589 - val_accuracy: 0.8883\n",
      "Epoch 8/25\n",
      "164/164 - 2s - loss: 0.0055 - accuracy: 1.0000 - val_loss: 0.4678 - val_accuracy: 0.8891\n",
      "Epoch 9/25\n",
      "164/164 - 2s - loss: 0.0041 - accuracy: 1.0000 - val_loss: 0.4997 - val_accuracy: 0.8791\n",
      "Epoch 10/25\n",
      "164/164 - 2s - loss: 0.0031 - accuracy: 1.0000 - val_loss: 0.4829 - val_accuracy: 0.8891\n",
      "Epoch 11/25\n",
      "164/164 - 2s - loss: 0.0024 - accuracy: 1.0000 - val_loss: 0.4883 - val_accuracy: 0.8921\n",
      "Epoch 12/25\n",
      "164/164 - 2s - loss: 0.0021 - accuracy: 1.0000 - val_loss: 0.4997 - val_accuracy: 0.8860\n"
     ]
    }
   ],
   "source": [
    "es = tf.keras.callbacks.EarlyStopping(monitor='val_accuracy', mode='max', min_delta=0.01, patience=5)\n",
    "history = model.fit(train_padded, train_labels, epochs=25, validation_data=(validation_padded, validation_labels), verbose=2, callbacks=[es])"
   ]
  },
  {
   "cell_type": "code",
   "execution_count": 52,
   "metadata": {},
   "outputs": [],
   "source": [
    "preds = model.predict(validation_padded)\n",
    "\n",
    "mask = (validation_labels == 6) #6 is negative\n",
    "\n",
    "predictions = np.argmax(preds, axis=1)\n",
    "\n",
    "y_true = validation_labels.copy()\n",
    "y_true[~mask] = 1\n",
    "y_true[mask] = 0\n",
    "\n",
    "mask = (predictions == 6)\n",
    "y_pred = predictions\n",
    "y_pred[~mask] = 1\n",
    "y_pred[mask] = 0"
   ]
  },
  {
   "cell_type": "code",
   "execution_count": 53,
   "metadata": {},
   "outputs": [
    {
     "name": "stdout",
     "output_type": "stream",
     "text": [
      "Predicted and actual classes\n",
      "\n",
      "[1 1 0 ... 1 1 0]\n",
      "[1 1 0 ... 1 1 0]\n",
      "True positive: 464, false positive: 106, true negative: 723, false negative: 14\n",
      "\n",
      "MCC: 0.818594\n",
      "Accuracy: 90.82%\n",
      "F1 score: 0.89\n",
      "Precision: 0.81\n",
      "Recall: 0.97\n"
     ]
    }
   ],
   "source": [
    "_,_,_,_,_ = get_performance_vals(y_pred, y_true)"
   ]
  },
  {
   "cell_type": "code",
   "execution_count": 15,
   "metadata": {
    "colab": {
     "base_uri": "https://localhost:8080/",
     "height": 33
    },
    "colab_type": "code",
    "id": "V9t0EJG86j7d",
    "outputId": "a567c4c3-9d93-481d-ee9f-e4ea3b93072f"
   },
   "outputs": [
    {
     "name": "stdout",
     "output_type": "stream",
     "text": [
      "Loaded model from disk\n"
     ]
    }
   ],
   "source": [
    "# load BEST model (json) and create model\n",
    "json_file = open(os.path.join(\"./Pfam_fasta\", \"TAPE_PF_culled_model.json\"), 'r')\n",
    "loaded_model_json = json_file.read()\n",
    "json_file.close()\n",
    "loaded_model = tf.keras.models.model_from_json(loaded_model_json)\n",
    "# load weights into new model\n",
    "loaded_model.load_weights(os.path.join(\"./Pfam_fasta\", \"TAPE_PF_culled_model.h5\"))\n",
    "print(\"Loaded model from disk\")\n",
    " \n",
    "# calculate embedding for new data\n",
    "embedder = tf.keras.Model(inputs = loaded_model.layers[0].input, outputs = loaded_model.layers[17].output)\n",
    "# embedder.compile(loss='categorical_crossentropy',optimizer=\"adam\")\n",
    "# predict should be allowed to use w/o compilation: \n",
    "# https://github.com/keras-team/keras/issues/2621\n",
    "# embeds = loaded_model.predict(test_padded[:10])"
   ]
  },
  {
   "cell_type": "code",
   "execution_count": 16,
   "metadata": {},
   "outputs": [],
   "source": [
    "path = \"./\" + \"TAPEncoded_train\" + \".pickle\"\n",
    "array_file = open(path, 'rb')\n",
    "TAPEncoded_train = pickle.load(array_file)\n",
    "array_file.close()\n",
    "\n",
    "path = \"./\" + \"TAPEncoded_val\" + \".pickle\"\n",
    "array_file = open(path, 'rb')\n",
    "TAPEncoded_val = pickle.load(array_file)\n",
    "array_file.close()"
   ]
  },
  {
   "cell_type": "code",
   "execution_count": 17,
   "metadata": {},
   "outputs": [],
   "source": [
    "TAPEncoded_train = np.array(TAPEncoded_train)\n",
    "TAPEncoded_train = np.squeeze(TAPEncoded_train)\n",
    "\n",
    "TAPEncoded_val = np.array(TAPEncoded_val)\n",
    "TAPEncoded_val = np.squeeze(TAPEncoded_val)"
   ]
  },
  {
   "cell_type": "code",
   "execution_count": 18,
   "metadata": {},
   "outputs": [
    {
     "data": {
      "text/plain": [
       "(1306, 600, 768)"
      ]
     },
     "execution_count": 18,
     "metadata": {},
     "output_type": "execute_result"
    }
   ],
   "source": [
    "TAPEncoded_val.shape"
   ]
  },
  {
   "cell_type": "code",
   "execution_count": 19,
   "metadata": {},
   "outputs": [],
   "source": [
    "train_embed = embedder.predict(TAPEncoded_train)\n",
    "val_embed = embedder.predict(TAPEncoded_val)"
   ]
  },
  {
   "cell_type": "code",
   "execution_count": 20,
   "metadata": {},
   "outputs": [],
   "source": [
    "path = \"./\" + \"PFmodelEmbed_train\" + \".pickle\"\n",
    "output = open(path, 'w+b')\n",
    "pickle.dump(train_embed, output)\n",
    "output.close()\n",
    "\n",
    "path = \"./\" + \"PFmodelEmbed_val\" + \".pickle\"\n",
    "output = open(path, 'w+b')\n",
    "pickle.dump(val_embed, output)\n",
    "output.close()"
   ]
  },
  {
   "cell_type": "code",
   "execution_count": 21,
   "metadata": {},
   "outputs": [
    {
     "data": {
      "text/plain": [
       "(1306, 128)"
      ]
     },
     "execution_count": 21,
     "metadata": {},
     "output_type": "execute_result"
    }
   ],
   "source": [
    "val_embed.shape"
   ]
  },
  {
   "cell_type": "code",
   "execution_count": 22,
   "metadata": {},
   "outputs": [],
   "source": [
    "import umap\n",
    "import umap.plot\n",
    "\n",
    "valid_mapper = umap.UMAP().fit(val_embed)"
   ]
  },
  {
   "cell_type": "code",
   "execution_count": 41,
   "metadata": {},
   "outputs": [],
   "source": [
    "hover_data = pd.DataFrame({'index':np.arange(1306),\n",
    "                           'label':validation_labels})\n",
    "\n",
    "hover_data['item'] = hover_data.label.map(umap_map)"
   ]
  },
  {
   "cell_type": "code",
   "execution_count": 42,
   "metadata": {},
   "outputs": [
    {
     "data": {
      "text/plain": [
       "0        pos_PF03944_seed_Endotoxin_C_80.txt\n",
       "1       PF01289_full_Thiol_cytolysin_243.txt\n",
       "2                                   negative\n",
       "3           PF00087_full_Toxin_TOLIP_333.txt\n",
       "4             pos_PF01823_rp15_MACPF_659.txt\n",
       "                        ...                 \n",
       "1301                                negative\n",
       "1302                                negative\n",
       "1303        PF00087_full_Toxin_TOLIP_333.txt\n",
       "1304    PF01289_full_Thiol_cytolysin_243.txt\n",
       "1305                                negative\n",
       "Name: item, Length: 1306, dtype: object"
      ]
     },
     "execution_count": 42,
     "metadata": {},
     "output_type": "execute_result"
    }
   ],
   "source": [
    "hover_data['item']"
   ]
  },
  {
   "cell_type": "code",
   "execution_count": 43,
   "metadata": {},
   "outputs": [
    {
     "data": {
      "text/html": [
       "\n",
       "    <div class=\"bk-root\">\n",
       "        <a href=\"https://bokeh.org\" target=\"_blank\" class=\"bk-logo bk-logo-small bk-logo-notebook\"></a>\n",
       "        <span id=\"1040\">Loading BokehJS ...</span>\n",
       "    </div>"
      ]
     },
     "metadata": {},
     "output_type": "display_data"
    },
    {
     "data": {
      "application/javascript": [
       "\n",
       "(function(root) {\n",
       "  function now() {\n",
       "    return new Date();\n",
       "  }\n",
       "\n",
       "  var force = true;\n",
       "\n",
       "  if (typeof root._bokeh_onload_callbacks === \"undefined\" || force === true) {\n",
       "    root._bokeh_onload_callbacks = [];\n",
       "    root._bokeh_is_loading = undefined;\n",
       "  }\n",
       "\n",
       "  var JS_MIME_TYPE = 'application/javascript';\n",
       "  var HTML_MIME_TYPE = 'text/html';\n",
       "  var EXEC_MIME_TYPE = 'application/vnd.bokehjs_exec.v0+json';\n",
       "  var CLASS_NAME = 'output_bokeh rendered_html';\n",
       "\n",
       "  /**\n",
       "   * Render data to the DOM node\n",
       "   */\n",
       "  function render(props, node) {\n",
       "    var script = document.createElement(\"script\");\n",
       "    node.appendChild(script);\n",
       "  }\n",
       "\n",
       "  /**\n",
       "   * Handle when an output is cleared or removed\n",
       "   */\n",
       "  function handleClearOutput(event, handle) {\n",
       "    var cell = handle.cell;\n",
       "\n",
       "    var id = cell.output_area._bokeh_element_id;\n",
       "    var server_id = cell.output_area._bokeh_server_id;\n",
       "    // Clean up Bokeh references\n",
       "    if (id != null && id in Bokeh.index) {\n",
       "      Bokeh.index[id].model.document.clear();\n",
       "      delete Bokeh.index[id];\n",
       "    }\n",
       "\n",
       "    if (server_id !== undefined) {\n",
       "      // Clean up Bokeh references\n",
       "      var cmd = \"from bokeh.io.state import curstate; print(curstate().uuid_to_server['\" + server_id + \"'].get_sessions()[0].document.roots[0]._id)\";\n",
       "      cell.notebook.kernel.execute(cmd, {\n",
       "        iopub: {\n",
       "          output: function(msg) {\n",
       "            var id = msg.content.text.trim();\n",
       "            if (id in Bokeh.index) {\n",
       "              Bokeh.index[id].model.document.clear();\n",
       "              delete Bokeh.index[id];\n",
       "            }\n",
       "          }\n",
       "        }\n",
       "      });\n",
       "      // Destroy server and session\n",
       "      var cmd = \"import bokeh.io.notebook as ion; ion.destroy_server('\" + server_id + \"')\";\n",
       "      cell.notebook.kernel.execute(cmd);\n",
       "    }\n",
       "  }\n",
       "\n",
       "  /**\n",
       "   * Handle when a new output is added\n",
       "   */\n",
       "  function handleAddOutput(event, handle) {\n",
       "    var output_area = handle.output_area;\n",
       "    var output = handle.output;\n",
       "\n",
       "    // limit handleAddOutput to display_data with EXEC_MIME_TYPE content only\n",
       "    if ((output.output_type != \"display_data\") || (!output.data.hasOwnProperty(EXEC_MIME_TYPE))) {\n",
       "      return\n",
       "    }\n",
       "\n",
       "    var toinsert = output_area.element.find(\".\" + CLASS_NAME.split(' ')[0]);\n",
       "\n",
       "    if (output.metadata[EXEC_MIME_TYPE][\"id\"] !== undefined) {\n",
       "      toinsert[toinsert.length - 1].firstChild.textContent = output.data[JS_MIME_TYPE];\n",
       "      // store reference to embed id on output_area\n",
       "      output_area._bokeh_element_id = output.metadata[EXEC_MIME_TYPE][\"id\"];\n",
       "    }\n",
       "    if (output.metadata[EXEC_MIME_TYPE][\"server_id\"] !== undefined) {\n",
       "      var bk_div = document.createElement(\"div\");\n",
       "      bk_div.innerHTML = output.data[HTML_MIME_TYPE];\n",
       "      var script_attrs = bk_div.children[0].attributes;\n",
       "      for (var i = 0; i < script_attrs.length; i++) {\n",
       "        toinsert[toinsert.length - 1].firstChild.setAttribute(script_attrs[i].name, script_attrs[i].value);\n",
       "        toinsert[toinsert.length - 1].firstChild.textContent = bk_div.children[0].textContent\n",
       "      }\n",
       "      // store reference to server id on output_area\n",
       "      output_area._bokeh_server_id = output.metadata[EXEC_MIME_TYPE][\"server_id\"];\n",
       "    }\n",
       "  }\n",
       "\n",
       "  function register_renderer(events, OutputArea) {\n",
       "\n",
       "    function append_mime(data, metadata, element) {\n",
       "      // create a DOM node to render to\n",
       "      var toinsert = this.create_output_subarea(\n",
       "        metadata,\n",
       "        CLASS_NAME,\n",
       "        EXEC_MIME_TYPE\n",
       "      );\n",
       "      this.keyboard_manager.register_events(toinsert);\n",
       "      // Render to node\n",
       "      var props = {data: data, metadata: metadata[EXEC_MIME_TYPE]};\n",
       "      render(props, toinsert[toinsert.length - 1]);\n",
       "      element.append(toinsert);\n",
       "      return toinsert\n",
       "    }\n",
       "\n",
       "    /* Handle when an output is cleared or removed */\n",
       "    events.on('clear_output.CodeCell', handleClearOutput);\n",
       "    events.on('delete.Cell', handleClearOutput);\n",
       "\n",
       "    /* Handle when a new output is added */\n",
       "    events.on('output_added.OutputArea', handleAddOutput);\n",
       "\n",
       "    /**\n",
       "     * Register the mime type and append_mime function with output_area\n",
       "     */\n",
       "    OutputArea.prototype.register_mime_type(EXEC_MIME_TYPE, append_mime, {\n",
       "      /* Is output safe? */\n",
       "      safe: true,\n",
       "      /* Index of renderer in `output_area.display_order` */\n",
       "      index: 0\n",
       "    });\n",
       "  }\n",
       "\n",
       "  // register the mime type if in Jupyter Notebook environment and previously unregistered\n",
       "  if (root.Jupyter !== undefined) {\n",
       "    var events = require('base/js/events');\n",
       "    var OutputArea = require('notebook/js/outputarea').OutputArea;\n",
       "\n",
       "    if (OutputArea.prototype.mime_types().indexOf(EXEC_MIME_TYPE) == -1) {\n",
       "      register_renderer(events, OutputArea);\n",
       "    }\n",
       "  }\n",
       "\n",
       "  \n",
       "  if (typeof (root._bokeh_timeout) === \"undefined\" || force === true) {\n",
       "    root._bokeh_timeout = Date.now() + 5000;\n",
       "    root._bokeh_failed_load = false;\n",
       "  }\n",
       "\n",
       "  var NB_LOAD_WARNING = {'data': {'text/html':\n",
       "     \"<div style='background-color: #fdd'>\\n\"+\n",
       "     \"<p>\\n\"+\n",
       "     \"BokehJS does not appear to have successfully loaded. If loading BokehJS from CDN, this \\n\"+\n",
       "     \"may be due to a slow or bad network connection. Possible fixes:\\n\"+\n",
       "     \"</p>\\n\"+\n",
       "     \"<ul>\\n\"+\n",
       "     \"<li>re-rerun `output_notebook()` to attempt to load from CDN again, or</li>\\n\"+\n",
       "     \"<li>use INLINE resources instead, as so:</li>\\n\"+\n",
       "     \"</ul>\\n\"+\n",
       "     \"<code>\\n\"+\n",
       "     \"from bokeh.resources import INLINE\\n\"+\n",
       "     \"output_notebook(resources=INLINE)\\n\"+\n",
       "     \"</code>\\n\"+\n",
       "     \"</div>\"}};\n",
       "\n",
       "  function display_loaded() {\n",
       "    var el = document.getElementById(\"1040\");\n",
       "    if (el != null) {\n",
       "      el.textContent = \"BokehJS is loading...\";\n",
       "    }\n",
       "    if (root.Bokeh !== undefined) {\n",
       "      if (el != null) {\n",
       "        el.textContent = \"BokehJS \" + root.Bokeh.version + \" successfully loaded.\";\n",
       "      }\n",
       "    } else if (Date.now() < root._bokeh_timeout) {\n",
       "      setTimeout(display_loaded, 100)\n",
       "    }\n",
       "  }\n",
       "\n",
       "\n",
       "  function run_callbacks() {\n",
       "    try {\n",
       "      root._bokeh_onload_callbacks.forEach(function(callback) {\n",
       "        if (callback != null)\n",
       "          callback();\n",
       "      });\n",
       "    } finally {\n",
       "      delete root._bokeh_onload_callbacks\n",
       "    }\n",
       "    console.debug(\"Bokeh: all callbacks have finished\");\n",
       "  }\n",
       "\n",
       "  function load_libs(css_urls, js_urls, callback) {\n",
       "    if (css_urls == null) css_urls = [];\n",
       "    if (js_urls == null) js_urls = [];\n",
       "\n",
       "    root._bokeh_onload_callbacks.push(callback);\n",
       "    if (root._bokeh_is_loading > 0) {\n",
       "      console.debug(\"Bokeh: BokehJS is being loaded, scheduling callback at\", now());\n",
       "      return null;\n",
       "    }\n",
       "    if (js_urls == null || js_urls.length === 0) {\n",
       "      run_callbacks();\n",
       "      return null;\n",
       "    }\n",
       "    console.debug(\"Bokeh: BokehJS not loaded, scheduling load and callback at\", now());\n",
       "    root._bokeh_is_loading = css_urls.length + js_urls.length;\n",
       "\n",
       "    function on_load() {\n",
       "      root._bokeh_is_loading--;\n",
       "      if (root._bokeh_is_loading === 0) {\n",
       "        console.debug(\"Bokeh: all BokehJS libraries/stylesheets loaded\");\n",
       "        run_callbacks()\n",
       "      }\n",
       "    }\n",
       "\n",
       "    function on_error() {\n",
       "      console.error(\"failed to load \" + url);\n",
       "    }\n",
       "\n",
       "    for (var i = 0; i < css_urls.length; i++) {\n",
       "      var url = css_urls[i];\n",
       "      const element = document.createElement(\"link\");\n",
       "      element.onload = on_load;\n",
       "      element.onerror = on_error;\n",
       "      element.rel = \"stylesheet\";\n",
       "      element.type = \"text/css\";\n",
       "      element.href = url;\n",
       "      console.debug(\"Bokeh: injecting link tag for BokehJS stylesheet: \", url);\n",
       "      document.body.appendChild(element);\n",
       "    }\n",
       "\n",
       "    const hashes = {\"https://cdn.bokeh.org/bokeh/release/bokeh-2.1.0.min.js\": \"YobFyzPeVUsFQydHkJGsJL1kyfHnWxOlPc3EwaV22TmBaeGoXHLWx5aRRVPS9xlE\", \"https://cdn.bokeh.org/bokeh/release/bokeh-widgets-2.1.0.min.js\": \"NuAg9+TcTQQqvQCTtkCneRrpkTiMhhfiq0KHiBzx8ECiKiLWXHN6i6ia3q7b3eHu\", \"https://cdn.bokeh.org/bokeh/release/bokeh-tables-2.1.0.min.js\": \"uMVqQc8JqHitD67bXTn9a06Mrk3EiHRaZ18EJENQenAKJ/KL71SakdXYomZQpGRr\", \"https://cdn.bokeh.org/bokeh/release/bokeh-gl-2.1.0.min.js\": \"u+eGuEXC8aw0VSCm2mH+b/tQEAitUOYiR1H6SuIVEdUmXsf4vN8m/SmXpmjb7U/X\"};\n",
       "\n",
       "    for (var i = 0; i < js_urls.length; i++) {\n",
       "      var url = js_urls[i];\n",
       "      var element = document.createElement('script');\n",
       "      element.onload = on_load;\n",
       "      element.onerror = on_error;\n",
       "      element.async = false;\n",
       "      element.src = url;\n",
       "      if (url in hashes) {\n",
       "        element.crossOrigin = \"anonymous\";\n",
       "        element.integrity = \"sha384-\" + hashes[url];\n",
       "      }\n",
       "      console.debug(\"Bokeh: injecting script tag for BokehJS library: \", url);\n",
       "      document.head.appendChild(element);\n",
       "    }\n",
       "  };\n",
       "\n",
       "  function inject_raw_css(css) {\n",
       "    const element = document.createElement(\"style\");\n",
       "    element.appendChild(document.createTextNode(css));\n",
       "    document.body.appendChild(element);\n",
       "  }\n",
       "\n",
       "  \n",
       "  var js_urls = [\"https://cdn.bokeh.org/bokeh/release/bokeh-2.1.0.min.js\", \"https://cdn.bokeh.org/bokeh/release/bokeh-widgets-2.1.0.min.js\", \"https://cdn.bokeh.org/bokeh/release/bokeh-tables-2.1.0.min.js\", \"https://cdn.bokeh.org/bokeh/release/bokeh-gl-2.1.0.min.js\", \"https://unpkg.com/@holoviz/panel@^0.9.5/dist/panel.min.js\"];\n",
       "  var css_urls = [];\n",
       "  \n",
       "\n",
       "  var inline_js = [\n",
       "    function(Bokeh) {\n",
       "      inject_raw_css(\"table.panel-df {\\n    margin-left: auto;\\n    margin-right: auto;\\n    border: none;\\n    border-collapse: collapse;\\n    border-spacing: 0;\\n    color: black;\\n    font-size: 12px;\\n    table-layout: fixed;\\n    width: 100%;\\n}\\n\\n.panel-df tr, th, td {\\n    text-align: right;\\n    vertical-align: middle;\\n    padding: 0.5em 0.5em !important;\\n    line-height: normal;\\n    white-space: normal;\\n    max-width: none;\\n    border: none;\\n}\\n\\n.panel-df tbody {\\n    display: table-row-group;\\n    vertical-align: middle;\\n    border-color: inherit;\\n}\\n\\n.panel-df tbody tr:nth-child(odd) {\\n    background: #f5f5f5;\\n}\\n\\n.panel-df thead {\\n    border-bottom: 1px solid black;\\n    vertical-align: bottom;\\n}\\n\\n.panel-df tr:hover {\\n    background: lightblue !important;\\n    cursor: pointer;\\n}\\n\");\n",
       "    },\n",
       "    function(Bokeh) {\n",
       "      inject_raw_css(\".json-formatter-row {\\n  font-family: monospace;\\n}\\n.json-formatter-row,\\n.json-formatter-row a,\\n.json-formatter-row a:hover {\\n  color: black;\\n  text-decoration: none;\\n}\\n.json-formatter-row .json-formatter-row {\\n  margin-left: 1rem;\\n}\\n.json-formatter-row .json-formatter-children.json-formatter-empty {\\n  opacity: 0.5;\\n  margin-left: 1rem;\\n}\\n.json-formatter-row .json-formatter-children.json-formatter-empty:after {\\n  display: none;\\n}\\n.json-formatter-row .json-formatter-children.json-formatter-empty.json-formatter-object:after {\\n  content: \\\"No properties\\\";\\n}\\n.json-formatter-row .json-formatter-children.json-formatter-empty.json-formatter-array:after {\\n  content: \\\"[]\\\";\\n}\\n.json-formatter-row .json-formatter-string,\\n.json-formatter-row .json-formatter-stringifiable {\\n  color: green;\\n  white-space: pre;\\n  word-wrap: break-word;\\n}\\n.json-formatter-row .json-formatter-number {\\n  color: blue;\\n}\\n.json-formatter-row .json-formatter-boolean {\\n  color: red;\\n}\\n.json-formatter-row .json-formatter-null {\\n  color: #855A00;\\n}\\n.json-formatter-row .json-formatter-undefined {\\n  color: #ca0b69;\\n}\\n.json-formatter-row .json-formatter-function {\\n  color: #FF20ED;\\n}\\n.json-formatter-row .json-formatter-date {\\n  background-color: rgba(0, 0, 0, 0.05);\\n}\\n.json-formatter-row .json-formatter-url {\\n  text-decoration: underline;\\n  color: blue;\\n  cursor: pointer;\\n}\\n.json-formatter-row .json-formatter-bracket {\\n  color: blue;\\n}\\n.json-formatter-row .json-formatter-key {\\n  color: #00008B;\\n  padding-right: 0.2rem;\\n}\\n.json-formatter-row .json-formatter-toggler-link {\\n  cursor: pointer;\\n}\\n.json-formatter-row .json-formatter-toggler {\\n  line-height: 1.2rem;\\n  font-size: 0.7rem;\\n  vertical-align: middle;\\n  opacity: 0.6;\\n  cursor: pointer;\\n  padding-right: 0.2rem;\\n}\\n.json-formatter-row .json-formatter-toggler:after {\\n  display: inline-block;\\n  transition: transform 100ms ease-in;\\n  content: \\\"\\\\25BA\\\";\\n}\\n.json-formatter-row > a > .json-formatter-preview-text {\\n  opacity: 0;\\n  transition: opacity 0.15s ease-in;\\n  font-style: italic;\\n}\\n.json-formatter-row:hover > a > .json-formatter-preview-text {\\n  opacity: 0.6;\\n}\\n.json-formatter-row.json-formatter-open > .json-formatter-toggler-link .json-formatter-toggler:after {\\n  transform: rotate(90deg);\\n}\\n.json-formatter-row.json-formatter-open > .json-formatter-children:after {\\n  display: inline-block;\\n}\\n.json-formatter-row.json-formatter-open > a > .json-formatter-preview-text {\\n  display: none;\\n}\\n.json-formatter-row.json-formatter-open.json-formatter-empty:after {\\n  display: block;\\n}\\n.json-formatter-dark.json-formatter-row {\\n  font-family: monospace;\\n}\\n.json-formatter-dark.json-formatter-row,\\n.json-formatter-dark.json-formatter-row a,\\n.json-formatter-dark.json-formatter-row a:hover {\\n  color: white;\\n  text-decoration: none;\\n}\\n.json-formatter-dark.json-formatter-row .json-formatter-row {\\n  margin-left: 1rem;\\n}\\n.json-formatter-dark.json-formatter-row .json-formatter-children.json-formatter-empty {\\n  opacity: 0.5;\\n  margin-left: 1rem;\\n}\\n.json-formatter-dark.json-formatter-row .json-formatter-children.json-formatter-empty:after {\\n  display: none;\\n}\\n.json-formatter-dark.json-formatter-row .json-formatter-children.json-formatter-empty.json-formatter-object:after {\\n  content: \\\"No properties\\\";\\n}\\n.json-formatter-dark.json-formatter-row .json-formatter-children.json-formatter-empty.json-formatter-array:after {\\n  content: \\\"[]\\\";\\n}\\n.json-formatter-dark.json-formatter-row .json-formatter-string,\\n.json-formatter-dark.json-formatter-row .json-formatter-stringifiable {\\n  color: #31F031;\\n  white-space: pre;\\n  word-wrap: break-word;\\n}\\n.json-formatter-dark.json-formatter-row .json-formatter-number {\\n  color: #66C2FF;\\n}\\n.json-formatter-dark.json-formatter-row .json-formatter-boolean {\\n  color: #EC4242;\\n}\\n.json-formatter-dark.json-formatter-row .json-formatter-null {\\n  color: #EEC97D;\\n}\\n.json-formatter-dark.json-formatter-row .json-formatter-undefined {\\n  color: #ef8fbe;\\n}\\n.json-formatter-dark.json-formatter-row .json-formatter-function {\\n  color: #FD48CB;\\n}\\n.json-formatter-dark.json-formatter-row .json-formatter-date {\\n  background-color: rgba(255, 255, 255, 0.05);\\n}\\n.json-formatter-dark.json-formatter-row .json-formatter-url {\\n  text-decoration: underline;\\n  color: #027BFF;\\n  cursor: pointer;\\n}\\n.json-formatter-dark.json-formatter-row .json-formatter-bracket {\\n  color: #9494FF;\\n}\\n.json-formatter-dark.json-formatter-row .json-formatter-key {\\n  color: #23A0DB;\\n  padding-right: 0.2rem;\\n}\\n.json-formatter-dark.json-formatter-row .json-formatter-toggler-link {\\n  cursor: pointer;\\n}\\n.json-formatter-dark.json-formatter-row .json-formatter-toggler {\\n  line-height: 1.2rem;\\n  font-size: 0.7rem;\\n  vertical-align: middle;\\n  opacity: 0.6;\\n  cursor: pointer;\\n  padding-right: 0.2rem;\\n}\\n.json-formatter-dark.json-formatter-row .json-formatter-toggler:after {\\n  display: inline-block;\\n  transition: transform 100ms ease-in;\\n  content: \\\"\\\\25BA\\\";\\n}\\n.json-formatter-dark.json-formatter-row > a > .json-formatter-preview-text {\\n  opacity: 0;\\n  transition: opacity 0.15s ease-in;\\n  font-style: italic;\\n}\\n.json-formatter-dark.json-formatter-row:hover > a > .json-formatter-preview-text {\\n  opacity: 0.6;\\n}\\n.json-formatter-dark.json-formatter-row.json-formatter-open > .json-formatter-toggler-link .json-formatter-toggler:after {\\n  transform: rotate(90deg);\\n}\\n.json-formatter-dark.json-formatter-row.json-formatter-open > .json-formatter-children:after {\\n  display: inline-block;\\n}\\n.json-formatter-dark.json-formatter-row.json-formatter-open > a > .json-formatter-preview-text {\\n  display: none;\\n}\\n.json-formatter-dark.json-formatter-row.json-formatter-open.json-formatter-empty:after {\\n  display: block;\\n}\\n\");\n",
       "    },\n",
       "    function(Bokeh) {\n",
       "      inject_raw_css(\".codehilite .hll { background-color: #ffffcc }\\n.codehilite  { background: #f8f8f8; }\\n.codehilite .c { color: #408080; font-style: italic } /* Comment */\\n.codehilite .err { border: 1px solid #FF0000 } /* Error */\\n.codehilite .k { color: #008000; font-weight: bold } /* Keyword */\\n.codehilite .o { color: #666666 } /* Operator */\\n.codehilite .ch { color: #408080; font-style: italic } /* Comment.Hashbang */\\n.codehilite .cm { color: #408080; font-style: italic } /* Comment.Multiline */\\n.codehilite .cp { color: #BC7A00 } /* Comment.Preproc */\\n.codehilite .cpf { color: #408080; font-style: italic } /* Comment.PreprocFile */\\n.codehilite .c1 { color: #408080; font-style: italic } /* Comment.Single */\\n.codehilite .cs { color: #408080; font-style: italic } /* Comment.Special */\\n.codehilite .gd { color: #A00000 } /* Generic.Deleted */\\n.codehilite .ge { font-style: italic } /* Generic.Emph */\\n.codehilite .gr { color: #FF0000 } /* Generic.Error */\\n.codehilite .gh { color: #000080; font-weight: bold } /* Generic.Heading */\\n.codehilite .gi { color: #00A000 } /* Generic.Inserted */\\n.codehilite .go { color: #888888 } /* Generic.Output */\\n.codehilite .gp { color: #000080; font-weight: bold } /* Generic.Prompt */\\n.codehilite .gs { font-weight: bold } /* Generic.Strong */\\n.codehilite .gu { color: #800080; font-weight: bold } /* Generic.Subheading */\\n.codehilite .gt { color: #0044DD } /* Generic.Traceback */\\n.codehilite .kc { color: #008000; font-weight: bold } /* Keyword.Constant */\\n.codehilite .kd { color: #008000; font-weight: bold } /* Keyword.Declaration */\\n.codehilite .kn { color: #008000; font-weight: bold } /* Keyword.Namespace */\\n.codehilite .kp { color: #008000 } /* Keyword.Pseudo */\\n.codehilite .kr { color: #008000; font-weight: bold } /* Keyword.Reserved */\\n.codehilite .kt { color: #B00040 } /* Keyword.Type */\\n.codehilite .m { color: #666666 } /* Literal.Number */\\n.codehilite .s { color: #BA2121 } /* Literal.String */\\n.codehilite .na { color: #7D9029 } /* Name.Attribute */\\n.codehilite .nb { color: #008000 } /* Name.Builtin */\\n.codehilite .nc { color: #0000FF; font-weight: bold } /* Name.Class */\\n.codehilite .no { color: #880000 } /* Name.Constant */\\n.codehilite .nd { color: #AA22FF } /* Name.Decorator */\\n.codehilite .ni { color: #999999; font-weight: bold } /* Name.Entity */\\n.codehilite .ne { color: #D2413A; font-weight: bold } /* Name.Exception */\\n.codehilite .nf { color: #0000FF } /* Name.Function */\\n.codehilite .nl { color: #A0A000 } /* Name.Label */\\n.codehilite .nn { color: #0000FF; font-weight: bold } /* Name.Namespace */\\n.codehilite .nt { color: #008000; font-weight: bold } /* Name.Tag */\\n.codehilite .nv { color: #19177C } /* Name.Variable */\\n.codehilite .ow { color: #AA22FF; font-weight: bold } /* Operator.Word */\\n.codehilite .w { color: #bbbbbb } /* Text.Whitespace */\\n.codehilite .mb { color: #666666 } /* Literal.Number.Bin */\\n.codehilite .mf { color: #666666 } /* Literal.Number.Float */\\n.codehilite .mh { color: #666666 } /* Literal.Number.Hex */\\n.codehilite .mi { color: #666666 } /* Literal.Number.Integer */\\n.codehilite .mo { color: #666666 } /* Literal.Number.Oct */\\n.codehilite .sa { color: #BA2121 } /* Literal.String.Affix */\\n.codehilite .sb { color: #BA2121 } /* Literal.String.Backtick */\\n.codehilite .sc { color: #BA2121 } /* Literal.String.Char */\\n.codehilite .dl { color: #BA2121 } /* Literal.String.Delimiter */\\n.codehilite .sd { color: #BA2121; font-style: italic } /* Literal.String.Doc */\\n.codehilite .s2 { color: #BA2121 } /* Literal.String.Double */\\n.codehilite .se { color: #BB6622; font-weight: bold } /* Literal.String.Escape */\\n.codehilite .sh { color: #BA2121 } /* Literal.String.Heredoc */\\n.codehilite .si { color: #BB6688; font-weight: bold } /* Literal.String.Interpol */\\n.codehilite .sx { color: #008000 } /* Literal.String.Other */\\n.codehilite .sr { color: #BB6688 } /* Literal.String.Regex */\\n.codehilite .s1 { color: #BA2121 } /* Literal.String.Single */\\n.codehilite .ss { color: #19177C } /* Literal.String.Symbol */\\n.codehilite .bp { color: #008000 } /* Name.Builtin.Pseudo */\\n.codehilite .fm { color: #0000FF } /* Name.Function.Magic */\\n.codehilite .vc { color: #19177C } /* Name.Variable.Class */\\n.codehilite .vg { color: #19177C } /* Name.Variable.Global */\\n.codehilite .vi { color: #19177C } /* Name.Variable.Instance */\\n.codehilite .vm { color: #19177C } /* Name.Variable.Magic */\\n.codehilite .il { color: #666666 } /* Literal.Number.Integer.Long */\\n\\n.markdown h1 { margin-block-start: 0.34em }\\n.markdown h2 { margin-block-start: 0.42em }\\n.markdown h3 { margin-block-start: 0.5em }\\n.markdown h4 { margin-block-start: 0.67em }\\n.markdown h5 { margin-block-start: 0.84em }\\n.markdown h6 { margin-block-start: 1.17em }\\n.markdown ul { padding-inline-start: 2em }\\n.markdown ol { padding-inline-start: 2em }\\n.markdown strong { font-weight: 600 }\\n.markdown a { color: -webkit-link }\\n.markdown a { color: -moz-hyperlinkText }\\n\");\n",
       "    },\n",
       "    function(Bokeh) {\n",
       "      inject_raw_css(\".widget-box {\\n\\tmin-height: 20px;\\n\\tbackground-color: #f5f5f5;\\n\\tborder: 1px solid #e3e3e3 !important;\\n\\tborder-radius: 4px;\\n\\t-webkit-box-shadow: inset 0 1px 1px rgba(0,0,0,.05);\\n\\tbox-shadow: inset 0 1px 1px rgba(0,0,0,.05);\\n\\toverflow-x: hidden;\\n\\toverflow-y: hidden;\\n}\\n\\n.scrollable {\\n  overflow: scroll;\\n}\\n\\nprogress {\\n\\tappearance: none;\\n\\t-moz-appearance: none;\\n\\t-webkit-appearance: none;\\n\\n\\tborder: none;\\n\\theight: 20px;\\n\\tbackground-color: whiteSmoke;\\n\\tborder-radius: 3px;\\n\\tbox-shadow: 0 2px 3px rgba(0,0,0,.5) inset;\\n\\tcolor: royalblue;\\n\\tposition: relative;\\n\\tmargin: 0 0 1.5em;\\n}\\n\\nprogress[value]::-webkit-progress-bar {\\n\\tbackground-color: whiteSmoke;\\n\\tborder-radius: 3px;\\n\\tbox-shadow: 0 2px 3px rgba(0,0,0,.5) inset;\\n}\\n\\nprogress[value]::-webkit-progress-value {\\n\\tposition: relative;\\n\\n\\tbackground-size: 35px 20px, 100% 100%, 100% 100%;\\n\\tborder-radius:3px;\\n}\\n\\nprogress.active:not([value])::before {\\n\\tbackground-position: 10%;\\n\\tanimation-name: stripes;\\n\\tanimation-duration: 3s;\\n\\tanimation-timing-function: linear;\\n\\tanimation-iteration-count: infinite;\\n}\\n\\nprogress[value]::-moz-progress-bar {\\n\\tbackground-size: 35px 20px, 100% 100%, 100% 100%;\\n\\tborder-radius:3px;\\n}\\n\\nprogress:not([value])::-moz-progress-bar {\\n\\tborder-radius:3px;\\n\\tbackground:\\n\\tlinear-gradient(-45deg, transparent 33%, rgba(0, 0, 0, 0.2) 33%, rgba(0, 0, 0, 0.2) 66%, transparent 66%) left/2.5em 1.5em;\\n\\n}\\n\\nprogress.active:not([value])::-moz-progress-bar {\\n\\tbackground-position: 10%;\\n\\tanimation-name: stripes;\\n\\tanimation-duration: 3s;\\n\\tanimation-timing-function: linear;\\n\\tanimation-iteration-count: infinite;\\n}\\n\\nprogress.active:not([value])::-webkit-progress-bar {\\n\\tbackground-position: 10%;\\n\\tanimation-name: stripes;\\n\\tanimation-duration: 3s;\\n\\tanimation-timing-function: linear;\\n\\tanimation-iteration-count: infinite;\\n}\\n\\nprogress.primary[value]::-webkit-progress-value { background-color: #007bff; }\\nprogress.primary:not([value])::before { background-color: #007bff; }\\nprogress.primary:not([value])::-webkit-progress-bar { background-color: #007bff; }\\nprogress.primary::-moz-progress-bar { background-color: #007bff; }\\n\\nprogress.secondary[value]::-webkit-progress-value { background-color: #6c757d; }\\nprogress.secondary:not([value])::before { background-color: #6c757d; }\\nprogress.secondary:not([value])::-webkit-progress-bar { background-color: #6c757d; }\\nprogress.secondary::-moz-progress-bar { background-color: #6c757d; }\\n\\nprogress.success[value]::-webkit-progress-value { background-color: #28a745; }\\nprogress.success:not([value])::before { background-color: #28a745; }\\nprogress.success:not([value])::-webkit-progress-bar { background-color: #28a745; }\\nprogress.success::-moz-progress-bar { background-color: #28a745; }\\n\\nprogress.danger[value]::-webkit-progress-value { background-color: #dc3545; }\\nprogress.danger:not([value])::before { background-color: #dc3545; }\\nprogress.danger:not([value])::-webkit-progress-bar { background-color: #dc3545; }\\nprogress.danger::-moz-progress-bar { background-color: #dc3545; }\\n\\nprogress.warning[value]::-webkit-progress-value { background-color: #ffc107; }\\nprogress.warning:not([value])::before { background-color: #ffc107; }\\nprogress.warning:not([value])::-webkit-progress-bar { background-color: #ffc107; }\\nprogress.warning::-moz-progress-bar { background-color: #ffc107; }\\n\\nprogress.info[value]::-webkit-progress-value { background-color: #17a2b8; }\\nprogress.info:not([value])::before { background-color: #17a2b8; }\\nprogress.info:not([value])::-webkit-progress-bar { background-color: #17a2b8; }\\nprogress.info::-moz-progress-bar { background-color: #17a2b8; }\\n\\nprogress.light[value]::-webkit-progress-value { background-color: #f8f9fa; }\\nprogress.light:not([value])::before { background-color: #f8f9fa; }\\nprogress.light:not([value])::-webkit-progress-bar { background-color: #f8f9fa; }\\nprogress.light::-moz-progress-bar { background-color: #f8f9fa; }\\n\\nprogress.dark[value]::-webkit-progress-value { background-color: #343a40; }\\nprogress.dark:not([value])::-webkit-progress-bar { background-color: #343a40; }\\nprogress.dark:not([value])::before { background-color: #343a40; }\\nprogress.dark::-moz-progress-bar { background-color: #343a40; }\\n\\nprogress:not([value])::-webkit-progress-bar {\\n\\tborder-radius: 3px;\\n\\tbackground:\\n\\tlinear-gradient(-45deg, transparent 33%, rgba(0, 0, 0, 0.2) 33%, rgba(0, 0, 0, 0.2) 66%, transparent 66%) left/2.5em 1.5em;\\n}\\nprogress:not([value])::before {\\n\\tcontent:\\\" \\\";\\n\\tposition:absolute;\\n\\theight: 20px;\\n\\ttop:0;\\n\\tleft:0;\\n\\tright:0;\\n\\tbottom:0;\\n\\tborder-radius: 3px;\\n\\tbackground:\\n\\tlinear-gradient(-45deg, transparent 33%, rgba(0, 0, 0, 0.2) 33%, rgba(0, 0, 0, 0.2) 66%, transparent 66%) left/2.5em 1.5em;\\n}\\n\\n@keyframes stripes {\\n  from {background-position: 0%}\\n  to {background-position: 100%}\\n}\");\n",
       "    },\n",
       "    function(Bokeh) {\n",
       "      Bokeh.set_log_level(\"info\");\n",
       "    },\n",
       "    function(Bokeh) {\n",
       "    \n",
       "    \n",
       "    }\n",
       "  ];\n",
       "\n",
       "  function run_inline_js() {\n",
       "    \n",
       "    if (root.Bokeh !== undefined || force === true) {\n",
       "      \n",
       "    for (var i = 0; i < inline_js.length; i++) {\n",
       "      inline_js[i].call(root, root.Bokeh);\n",
       "    }\n",
       "    if (force === true) {\n",
       "        display_loaded();\n",
       "      }} else if (Date.now() < root._bokeh_timeout) {\n",
       "      setTimeout(run_inline_js, 100);\n",
       "    } else if (!root._bokeh_failed_load) {\n",
       "      console.log(\"Bokeh: BokehJS failed to load within specified timeout.\");\n",
       "      root._bokeh_failed_load = true;\n",
       "    } else if (force !== true) {\n",
       "      var cell = $(document.getElementById(\"1040\")).parents('.cell').data().cell;\n",
       "      cell.output_area.append_execute_result(NB_LOAD_WARNING)\n",
       "    }\n",
       "\n",
       "  }\n",
       "\n",
       "  if (root._bokeh_is_loading === 0) {\n",
       "    console.debug(\"Bokeh: BokehJS loaded, going straight to plotting\");\n",
       "    run_inline_js();\n",
       "  } else {\n",
       "    load_libs(css_urls, js_urls, function() {\n",
       "      console.debug(\"Bokeh: BokehJS plotting callback run at\", now());\n",
       "      run_inline_js();\n",
       "    });\n",
       "  }\n",
       "}(window));"
      ],
      "application/vnd.bokehjs_load.v0+json": "\n(function(root) {\n  function now() {\n    return new Date();\n  }\n\n  var force = true;\n\n  if (typeof root._bokeh_onload_callbacks === \"undefined\" || force === true) {\n    root._bokeh_onload_callbacks = [];\n    root._bokeh_is_loading = undefined;\n  }\n\n  \n\n  \n  if (typeof (root._bokeh_timeout) === \"undefined\" || force === true) {\n    root._bokeh_timeout = Date.now() + 5000;\n    root._bokeh_failed_load = false;\n  }\n\n  var NB_LOAD_WARNING = {'data': {'text/html':\n     \"<div style='background-color: #fdd'>\\n\"+\n     \"<p>\\n\"+\n     \"BokehJS does not appear to have successfully loaded. If loading BokehJS from CDN, this \\n\"+\n     \"may be due to a slow or bad network connection. Possible fixes:\\n\"+\n     \"</p>\\n\"+\n     \"<ul>\\n\"+\n     \"<li>re-rerun `output_notebook()` to attempt to load from CDN again, or</li>\\n\"+\n     \"<li>use INLINE resources instead, as so:</li>\\n\"+\n     \"</ul>\\n\"+\n     \"<code>\\n\"+\n     \"from bokeh.resources import INLINE\\n\"+\n     \"output_notebook(resources=INLINE)\\n\"+\n     \"</code>\\n\"+\n     \"</div>\"}};\n\n  function display_loaded() {\n    var el = document.getElementById(\"1040\");\n    if (el != null) {\n      el.textContent = \"BokehJS is loading...\";\n    }\n    if (root.Bokeh !== undefined) {\n      if (el != null) {\n        el.textContent = \"BokehJS \" + root.Bokeh.version + \" successfully loaded.\";\n      }\n    } else if (Date.now() < root._bokeh_timeout) {\n      setTimeout(display_loaded, 100)\n    }\n  }\n\n\n  function run_callbacks() {\n    try {\n      root._bokeh_onload_callbacks.forEach(function(callback) {\n        if (callback != null)\n          callback();\n      });\n    } finally {\n      delete root._bokeh_onload_callbacks\n    }\n    console.debug(\"Bokeh: all callbacks have finished\");\n  }\n\n  function load_libs(css_urls, js_urls, callback) {\n    if (css_urls == null) css_urls = [];\n    if (js_urls == null) js_urls = [];\n\n    root._bokeh_onload_callbacks.push(callback);\n    if (root._bokeh_is_loading > 0) {\n      console.debug(\"Bokeh: BokehJS is being loaded, scheduling callback at\", now());\n      return null;\n    }\n    if (js_urls == null || js_urls.length === 0) {\n      run_callbacks();\n      return null;\n    }\n    console.debug(\"Bokeh: BokehJS not loaded, scheduling load and callback at\", now());\n    root._bokeh_is_loading = css_urls.length + js_urls.length;\n\n    function on_load() {\n      root._bokeh_is_loading--;\n      if (root._bokeh_is_loading === 0) {\n        console.debug(\"Bokeh: all BokehJS libraries/stylesheets loaded\");\n        run_callbacks()\n      }\n    }\n\n    function on_error() {\n      console.error(\"failed to load \" + url);\n    }\n\n    for (var i = 0; i < css_urls.length; i++) {\n      var url = css_urls[i];\n      const element = document.createElement(\"link\");\n      element.onload = on_load;\n      element.onerror = on_error;\n      element.rel = \"stylesheet\";\n      element.type = \"text/css\";\n      element.href = url;\n      console.debug(\"Bokeh: injecting link tag for BokehJS stylesheet: \", url);\n      document.body.appendChild(element);\n    }\n\n    const hashes = {\"https://cdn.bokeh.org/bokeh/release/bokeh-2.1.0.min.js\": \"YobFyzPeVUsFQydHkJGsJL1kyfHnWxOlPc3EwaV22TmBaeGoXHLWx5aRRVPS9xlE\", \"https://cdn.bokeh.org/bokeh/release/bokeh-widgets-2.1.0.min.js\": \"NuAg9+TcTQQqvQCTtkCneRrpkTiMhhfiq0KHiBzx8ECiKiLWXHN6i6ia3q7b3eHu\", \"https://cdn.bokeh.org/bokeh/release/bokeh-tables-2.1.0.min.js\": \"uMVqQc8JqHitD67bXTn9a06Mrk3EiHRaZ18EJENQenAKJ/KL71SakdXYomZQpGRr\", \"https://cdn.bokeh.org/bokeh/release/bokeh-gl-2.1.0.min.js\": \"u+eGuEXC8aw0VSCm2mH+b/tQEAitUOYiR1H6SuIVEdUmXsf4vN8m/SmXpmjb7U/X\"};\n\n    for (var i = 0; i < js_urls.length; i++) {\n      var url = js_urls[i];\n      var element = document.createElement('script');\n      element.onload = on_load;\n      element.onerror = on_error;\n      element.async = false;\n      element.src = url;\n      if (url in hashes) {\n        element.crossOrigin = \"anonymous\";\n        element.integrity = \"sha384-\" + hashes[url];\n      }\n      console.debug(\"Bokeh: injecting script tag for BokehJS library: \", url);\n      document.head.appendChild(element);\n    }\n  };\n\n  function inject_raw_css(css) {\n    const element = document.createElement(\"style\");\n    element.appendChild(document.createTextNode(css));\n    document.body.appendChild(element);\n  }\n\n  \n  var js_urls = [\"https://cdn.bokeh.org/bokeh/release/bokeh-2.1.0.min.js\", \"https://cdn.bokeh.org/bokeh/release/bokeh-widgets-2.1.0.min.js\", \"https://cdn.bokeh.org/bokeh/release/bokeh-tables-2.1.0.min.js\", \"https://cdn.bokeh.org/bokeh/release/bokeh-gl-2.1.0.min.js\", \"https://unpkg.com/@holoviz/panel@^0.9.5/dist/panel.min.js\"];\n  var css_urls = [];\n  \n\n  var inline_js = [\n    function(Bokeh) {\n      inject_raw_css(\"table.panel-df {\\n    margin-left: auto;\\n    margin-right: auto;\\n    border: none;\\n    border-collapse: collapse;\\n    border-spacing: 0;\\n    color: black;\\n    font-size: 12px;\\n    table-layout: fixed;\\n    width: 100%;\\n}\\n\\n.panel-df tr, th, td {\\n    text-align: right;\\n    vertical-align: middle;\\n    padding: 0.5em 0.5em !important;\\n    line-height: normal;\\n    white-space: normal;\\n    max-width: none;\\n    border: none;\\n}\\n\\n.panel-df tbody {\\n    display: table-row-group;\\n    vertical-align: middle;\\n    border-color: inherit;\\n}\\n\\n.panel-df tbody tr:nth-child(odd) {\\n    background: #f5f5f5;\\n}\\n\\n.panel-df thead {\\n    border-bottom: 1px solid black;\\n    vertical-align: bottom;\\n}\\n\\n.panel-df tr:hover {\\n    background: lightblue !important;\\n    cursor: pointer;\\n}\\n\");\n    },\n    function(Bokeh) {\n      inject_raw_css(\".json-formatter-row {\\n  font-family: monospace;\\n}\\n.json-formatter-row,\\n.json-formatter-row a,\\n.json-formatter-row a:hover {\\n  color: black;\\n  text-decoration: none;\\n}\\n.json-formatter-row .json-formatter-row {\\n  margin-left: 1rem;\\n}\\n.json-formatter-row .json-formatter-children.json-formatter-empty {\\n  opacity: 0.5;\\n  margin-left: 1rem;\\n}\\n.json-formatter-row .json-formatter-children.json-formatter-empty:after {\\n  display: none;\\n}\\n.json-formatter-row .json-formatter-children.json-formatter-empty.json-formatter-object:after {\\n  content: \\\"No properties\\\";\\n}\\n.json-formatter-row .json-formatter-children.json-formatter-empty.json-formatter-array:after {\\n  content: \\\"[]\\\";\\n}\\n.json-formatter-row .json-formatter-string,\\n.json-formatter-row .json-formatter-stringifiable {\\n  color: green;\\n  white-space: pre;\\n  word-wrap: break-word;\\n}\\n.json-formatter-row .json-formatter-number {\\n  color: blue;\\n}\\n.json-formatter-row .json-formatter-boolean {\\n  color: red;\\n}\\n.json-formatter-row .json-formatter-null {\\n  color: #855A00;\\n}\\n.json-formatter-row .json-formatter-undefined {\\n  color: #ca0b69;\\n}\\n.json-formatter-row .json-formatter-function {\\n  color: #FF20ED;\\n}\\n.json-formatter-row .json-formatter-date {\\n  background-color: rgba(0, 0, 0, 0.05);\\n}\\n.json-formatter-row .json-formatter-url {\\n  text-decoration: underline;\\n  color: blue;\\n  cursor: pointer;\\n}\\n.json-formatter-row .json-formatter-bracket {\\n  color: blue;\\n}\\n.json-formatter-row .json-formatter-key {\\n  color: #00008B;\\n  padding-right: 0.2rem;\\n}\\n.json-formatter-row .json-formatter-toggler-link {\\n  cursor: pointer;\\n}\\n.json-formatter-row .json-formatter-toggler {\\n  line-height: 1.2rem;\\n  font-size: 0.7rem;\\n  vertical-align: middle;\\n  opacity: 0.6;\\n  cursor: pointer;\\n  padding-right: 0.2rem;\\n}\\n.json-formatter-row .json-formatter-toggler:after {\\n  display: inline-block;\\n  transition: transform 100ms ease-in;\\n  content: \\\"\\\\25BA\\\";\\n}\\n.json-formatter-row > a > .json-formatter-preview-text {\\n  opacity: 0;\\n  transition: opacity 0.15s ease-in;\\n  font-style: italic;\\n}\\n.json-formatter-row:hover > a > .json-formatter-preview-text {\\n  opacity: 0.6;\\n}\\n.json-formatter-row.json-formatter-open > .json-formatter-toggler-link .json-formatter-toggler:after {\\n  transform: rotate(90deg);\\n}\\n.json-formatter-row.json-formatter-open > .json-formatter-children:after {\\n  display: inline-block;\\n}\\n.json-formatter-row.json-formatter-open > a > .json-formatter-preview-text {\\n  display: none;\\n}\\n.json-formatter-row.json-formatter-open.json-formatter-empty:after {\\n  display: block;\\n}\\n.json-formatter-dark.json-formatter-row {\\n  font-family: monospace;\\n}\\n.json-formatter-dark.json-formatter-row,\\n.json-formatter-dark.json-formatter-row a,\\n.json-formatter-dark.json-formatter-row a:hover {\\n  color: white;\\n  text-decoration: none;\\n}\\n.json-formatter-dark.json-formatter-row .json-formatter-row {\\n  margin-left: 1rem;\\n}\\n.json-formatter-dark.json-formatter-row .json-formatter-children.json-formatter-empty {\\n  opacity: 0.5;\\n  margin-left: 1rem;\\n}\\n.json-formatter-dark.json-formatter-row .json-formatter-children.json-formatter-empty:after {\\n  display: none;\\n}\\n.json-formatter-dark.json-formatter-row .json-formatter-children.json-formatter-empty.json-formatter-object:after {\\n  content: \\\"No properties\\\";\\n}\\n.json-formatter-dark.json-formatter-row .json-formatter-children.json-formatter-empty.json-formatter-array:after {\\n  content: \\\"[]\\\";\\n}\\n.json-formatter-dark.json-formatter-row .json-formatter-string,\\n.json-formatter-dark.json-formatter-row .json-formatter-stringifiable {\\n  color: #31F031;\\n  white-space: pre;\\n  word-wrap: break-word;\\n}\\n.json-formatter-dark.json-formatter-row .json-formatter-number {\\n  color: #66C2FF;\\n}\\n.json-formatter-dark.json-formatter-row .json-formatter-boolean {\\n  color: #EC4242;\\n}\\n.json-formatter-dark.json-formatter-row .json-formatter-null {\\n  color: #EEC97D;\\n}\\n.json-formatter-dark.json-formatter-row .json-formatter-undefined {\\n  color: #ef8fbe;\\n}\\n.json-formatter-dark.json-formatter-row .json-formatter-function {\\n  color: #FD48CB;\\n}\\n.json-formatter-dark.json-formatter-row .json-formatter-date {\\n  background-color: rgba(255, 255, 255, 0.05);\\n}\\n.json-formatter-dark.json-formatter-row .json-formatter-url {\\n  text-decoration: underline;\\n  color: #027BFF;\\n  cursor: pointer;\\n}\\n.json-formatter-dark.json-formatter-row .json-formatter-bracket {\\n  color: #9494FF;\\n}\\n.json-formatter-dark.json-formatter-row .json-formatter-key {\\n  color: #23A0DB;\\n  padding-right: 0.2rem;\\n}\\n.json-formatter-dark.json-formatter-row .json-formatter-toggler-link {\\n  cursor: pointer;\\n}\\n.json-formatter-dark.json-formatter-row .json-formatter-toggler {\\n  line-height: 1.2rem;\\n  font-size: 0.7rem;\\n  vertical-align: middle;\\n  opacity: 0.6;\\n  cursor: pointer;\\n  padding-right: 0.2rem;\\n}\\n.json-formatter-dark.json-formatter-row .json-formatter-toggler:after {\\n  display: inline-block;\\n  transition: transform 100ms ease-in;\\n  content: \\\"\\\\25BA\\\";\\n}\\n.json-formatter-dark.json-formatter-row > a > .json-formatter-preview-text {\\n  opacity: 0;\\n  transition: opacity 0.15s ease-in;\\n  font-style: italic;\\n}\\n.json-formatter-dark.json-formatter-row:hover > a > .json-formatter-preview-text {\\n  opacity: 0.6;\\n}\\n.json-formatter-dark.json-formatter-row.json-formatter-open > .json-formatter-toggler-link .json-formatter-toggler:after {\\n  transform: rotate(90deg);\\n}\\n.json-formatter-dark.json-formatter-row.json-formatter-open > .json-formatter-children:after {\\n  display: inline-block;\\n}\\n.json-formatter-dark.json-formatter-row.json-formatter-open > a > .json-formatter-preview-text {\\n  display: none;\\n}\\n.json-formatter-dark.json-formatter-row.json-formatter-open.json-formatter-empty:after {\\n  display: block;\\n}\\n\");\n    },\n    function(Bokeh) {\n      inject_raw_css(\".codehilite .hll { background-color: #ffffcc }\\n.codehilite  { background: #f8f8f8; }\\n.codehilite .c { color: #408080; font-style: italic } /* Comment */\\n.codehilite .err { border: 1px solid #FF0000 } /* Error */\\n.codehilite .k { color: #008000; font-weight: bold } /* Keyword */\\n.codehilite .o { color: #666666 } /* Operator */\\n.codehilite .ch { color: #408080; font-style: italic } /* Comment.Hashbang */\\n.codehilite .cm { color: #408080; font-style: italic } /* Comment.Multiline */\\n.codehilite .cp { color: #BC7A00 } /* Comment.Preproc */\\n.codehilite .cpf { color: #408080; font-style: italic } /* Comment.PreprocFile */\\n.codehilite .c1 { color: #408080; font-style: italic } /* Comment.Single */\\n.codehilite .cs { color: #408080; font-style: italic } /* Comment.Special */\\n.codehilite .gd { color: #A00000 } /* Generic.Deleted */\\n.codehilite .ge { font-style: italic } /* Generic.Emph */\\n.codehilite .gr { color: #FF0000 } /* Generic.Error */\\n.codehilite .gh { color: #000080; font-weight: bold } /* Generic.Heading */\\n.codehilite .gi { color: #00A000 } /* Generic.Inserted */\\n.codehilite .go { color: #888888 } /* Generic.Output */\\n.codehilite .gp { color: #000080; font-weight: bold } /* Generic.Prompt */\\n.codehilite .gs { font-weight: bold } /* Generic.Strong */\\n.codehilite .gu { color: #800080; font-weight: bold } /* Generic.Subheading */\\n.codehilite .gt { color: #0044DD } /* Generic.Traceback */\\n.codehilite .kc { color: #008000; font-weight: bold } /* Keyword.Constant */\\n.codehilite .kd { color: #008000; font-weight: bold } /* Keyword.Declaration */\\n.codehilite .kn { color: #008000; font-weight: bold } /* Keyword.Namespace */\\n.codehilite .kp { color: #008000 } /* Keyword.Pseudo */\\n.codehilite .kr { color: #008000; font-weight: bold } /* Keyword.Reserved */\\n.codehilite .kt { color: #B00040 } /* Keyword.Type */\\n.codehilite .m { color: #666666 } /* Literal.Number */\\n.codehilite .s { color: #BA2121 } /* Literal.String */\\n.codehilite .na { color: #7D9029 } /* Name.Attribute */\\n.codehilite .nb { color: #008000 } /* Name.Builtin */\\n.codehilite .nc { color: #0000FF; font-weight: bold } /* Name.Class */\\n.codehilite .no { color: #880000 } /* Name.Constant */\\n.codehilite .nd { color: #AA22FF } /* Name.Decorator */\\n.codehilite .ni { color: #999999; font-weight: bold } /* Name.Entity */\\n.codehilite .ne { color: #D2413A; font-weight: bold } /* Name.Exception */\\n.codehilite .nf { color: #0000FF } /* Name.Function */\\n.codehilite .nl { color: #A0A000 } /* Name.Label */\\n.codehilite .nn { color: #0000FF; font-weight: bold } /* Name.Namespace */\\n.codehilite .nt { color: #008000; font-weight: bold } /* Name.Tag */\\n.codehilite .nv { color: #19177C } /* Name.Variable */\\n.codehilite .ow { color: #AA22FF; font-weight: bold } /* Operator.Word */\\n.codehilite .w { color: #bbbbbb } /* Text.Whitespace */\\n.codehilite .mb { color: #666666 } /* Literal.Number.Bin */\\n.codehilite .mf { color: #666666 } /* Literal.Number.Float */\\n.codehilite .mh { color: #666666 } /* Literal.Number.Hex */\\n.codehilite .mi { color: #666666 } /* Literal.Number.Integer */\\n.codehilite .mo { color: #666666 } /* Literal.Number.Oct */\\n.codehilite .sa { color: #BA2121 } /* Literal.String.Affix */\\n.codehilite .sb { color: #BA2121 } /* Literal.String.Backtick */\\n.codehilite .sc { color: #BA2121 } /* Literal.String.Char */\\n.codehilite .dl { color: #BA2121 } /* Literal.String.Delimiter */\\n.codehilite .sd { color: #BA2121; font-style: italic } /* Literal.String.Doc */\\n.codehilite .s2 { color: #BA2121 } /* Literal.String.Double */\\n.codehilite .se { color: #BB6622; font-weight: bold } /* Literal.String.Escape */\\n.codehilite .sh { color: #BA2121 } /* Literal.String.Heredoc */\\n.codehilite .si { color: #BB6688; font-weight: bold } /* Literal.String.Interpol */\\n.codehilite .sx { color: #008000 } /* Literal.String.Other */\\n.codehilite .sr { color: #BB6688 } /* Literal.String.Regex */\\n.codehilite .s1 { color: #BA2121 } /* Literal.String.Single */\\n.codehilite .ss { color: #19177C } /* Literal.String.Symbol */\\n.codehilite .bp { color: #008000 } /* Name.Builtin.Pseudo */\\n.codehilite .fm { color: #0000FF } /* Name.Function.Magic */\\n.codehilite .vc { color: #19177C } /* Name.Variable.Class */\\n.codehilite .vg { color: #19177C } /* Name.Variable.Global */\\n.codehilite .vi { color: #19177C } /* Name.Variable.Instance */\\n.codehilite .vm { color: #19177C } /* Name.Variable.Magic */\\n.codehilite .il { color: #666666 } /* Literal.Number.Integer.Long */\\n\\n.markdown h1 { margin-block-start: 0.34em }\\n.markdown h2 { margin-block-start: 0.42em }\\n.markdown h3 { margin-block-start: 0.5em }\\n.markdown h4 { margin-block-start: 0.67em }\\n.markdown h5 { margin-block-start: 0.84em }\\n.markdown h6 { margin-block-start: 1.17em }\\n.markdown ul { padding-inline-start: 2em }\\n.markdown ol { padding-inline-start: 2em }\\n.markdown strong { font-weight: 600 }\\n.markdown a { color: -webkit-link }\\n.markdown a { color: -moz-hyperlinkText }\\n\");\n    },\n    function(Bokeh) {\n      inject_raw_css(\".widget-box {\\n\\tmin-height: 20px;\\n\\tbackground-color: #f5f5f5;\\n\\tborder: 1px solid #e3e3e3 !important;\\n\\tborder-radius: 4px;\\n\\t-webkit-box-shadow: inset 0 1px 1px rgba(0,0,0,.05);\\n\\tbox-shadow: inset 0 1px 1px rgba(0,0,0,.05);\\n\\toverflow-x: hidden;\\n\\toverflow-y: hidden;\\n}\\n\\n.scrollable {\\n  overflow: scroll;\\n}\\n\\nprogress {\\n\\tappearance: none;\\n\\t-moz-appearance: none;\\n\\t-webkit-appearance: none;\\n\\n\\tborder: none;\\n\\theight: 20px;\\n\\tbackground-color: whiteSmoke;\\n\\tborder-radius: 3px;\\n\\tbox-shadow: 0 2px 3px rgba(0,0,0,.5) inset;\\n\\tcolor: royalblue;\\n\\tposition: relative;\\n\\tmargin: 0 0 1.5em;\\n}\\n\\nprogress[value]::-webkit-progress-bar {\\n\\tbackground-color: whiteSmoke;\\n\\tborder-radius: 3px;\\n\\tbox-shadow: 0 2px 3px rgba(0,0,0,.5) inset;\\n}\\n\\nprogress[value]::-webkit-progress-value {\\n\\tposition: relative;\\n\\n\\tbackground-size: 35px 20px, 100% 100%, 100% 100%;\\n\\tborder-radius:3px;\\n}\\n\\nprogress.active:not([value])::before {\\n\\tbackground-position: 10%;\\n\\tanimation-name: stripes;\\n\\tanimation-duration: 3s;\\n\\tanimation-timing-function: linear;\\n\\tanimation-iteration-count: infinite;\\n}\\n\\nprogress[value]::-moz-progress-bar {\\n\\tbackground-size: 35px 20px, 100% 100%, 100% 100%;\\n\\tborder-radius:3px;\\n}\\n\\nprogress:not([value])::-moz-progress-bar {\\n\\tborder-radius:3px;\\n\\tbackground:\\n\\tlinear-gradient(-45deg, transparent 33%, rgba(0, 0, 0, 0.2) 33%, rgba(0, 0, 0, 0.2) 66%, transparent 66%) left/2.5em 1.5em;\\n\\n}\\n\\nprogress.active:not([value])::-moz-progress-bar {\\n\\tbackground-position: 10%;\\n\\tanimation-name: stripes;\\n\\tanimation-duration: 3s;\\n\\tanimation-timing-function: linear;\\n\\tanimation-iteration-count: infinite;\\n}\\n\\nprogress.active:not([value])::-webkit-progress-bar {\\n\\tbackground-position: 10%;\\n\\tanimation-name: stripes;\\n\\tanimation-duration: 3s;\\n\\tanimation-timing-function: linear;\\n\\tanimation-iteration-count: infinite;\\n}\\n\\nprogress.primary[value]::-webkit-progress-value { background-color: #007bff; }\\nprogress.primary:not([value])::before { background-color: #007bff; }\\nprogress.primary:not([value])::-webkit-progress-bar { background-color: #007bff; }\\nprogress.primary::-moz-progress-bar { background-color: #007bff; }\\n\\nprogress.secondary[value]::-webkit-progress-value { background-color: #6c757d; }\\nprogress.secondary:not([value])::before { background-color: #6c757d; }\\nprogress.secondary:not([value])::-webkit-progress-bar { background-color: #6c757d; }\\nprogress.secondary::-moz-progress-bar { background-color: #6c757d; }\\n\\nprogress.success[value]::-webkit-progress-value { background-color: #28a745; }\\nprogress.success:not([value])::before { background-color: #28a745; }\\nprogress.success:not([value])::-webkit-progress-bar { background-color: #28a745; }\\nprogress.success::-moz-progress-bar { background-color: #28a745; }\\n\\nprogress.danger[value]::-webkit-progress-value { background-color: #dc3545; }\\nprogress.danger:not([value])::before { background-color: #dc3545; }\\nprogress.danger:not([value])::-webkit-progress-bar { background-color: #dc3545; }\\nprogress.danger::-moz-progress-bar { background-color: #dc3545; }\\n\\nprogress.warning[value]::-webkit-progress-value { background-color: #ffc107; }\\nprogress.warning:not([value])::before { background-color: #ffc107; }\\nprogress.warning:not([value])::-webkit-progress-bar { background-color: #ffc107; }\\nprogress.warning::-moz-progress-bar { background-color: #ffc107; }\\n\\nprogress.info[value]::-webkit-progress-value { background-color: #17a2b8; }\\nprogress.info:not([value])::before { background-color: #17a2b8; }\\nprogress.info:not([value])::-webkit-progress-bar { background-color: #17a2b8; }\\nprogress.info::-moz-progress-bar { background-color: #17a2b8; }\\n\\nprogress.light[value]::-webkit-progress-value { background-color: #f8f9fa; }\\nprogress.light:not([value])::before { background-color: #f8f9fa; }\\nprogress.light:not([value])::-webkit-progress-bar { background-color: #f8f9fa; }\\nprogress.light::-moz-progress-bar { background-color: #f8f9fa; }\\n\\nprogress.dark[value]::-webkit-progress-value { background-color: #343a40; }\\nprogress.dark:not([value])::-webkit-progress-bar { background-color: #343a40; }\\nprogress.dark:not([value])::before { background-color: #343a40; }\\nprogress.dark::-moz-progress-bar { background-color: #343a40; }\\n\\nprogress:not([value])::-webkit-progress-bar {\\n\\tborder-radius: 3px;\\n\\tbackground:\\n\\tlinear-gradient(-45deg, transparent 33%, rgba(0, 0, 0, 0.2) 33%, rgba(0, 0, 0, 0.2) 66%, transparent 66%) left/2.5em 1.5em;\\n}\\nprogress:not([value])::before {\\n\\tcontent:\\\" \\\";\\n\\tposition:absolute;\\n\\theight: 20px;\\n\\ttop:0;\\n\\tleft:0;\\n\\tright:0;\\n\\tbottom:0;\\n\\tborder-radius: 3px;\\n\\tbackground:\\n\\tlinear-gradient(-45deg, transparent 33%, rgba(0, 0, 0, 0.2) 33%, rgba(0, 0, 0, 0.2) 66%, transparent 66%) left/2.5em 1.5em;\\n}\\n\\n@keyframes stripes {\\n  from {background-position: 0%}\\n  to {background-position: 100%}\\n}\");\n    },\n    function(Bokeh) {\n      Bokeh.set_log_level(\"info\");\n    },\n    function(Bokeh) {\n    \n    \n    }\n  ];\n\n  function run_inline_js() {\n    \n    if (root.Bokeh !== undefined || force === true) {\n      \n    for (var i = 0; i < inline_js.length; i++) {\n      inline_js[i].call(root, root.Bokeh);\n    }\n    if (force === true) {\n        display_loaded();\n      }} else if (Date.now() < root._bokeh_timeout) {\n      setTimeout(run_inline_js, 100);\n    } else if (!root._bokeh_failed_load) {\n      console.log(\"Bokeh: BokehJS failed to load within specified timeout.\");\n      root._bokeh_failed_load = true;\n    } else if (force !== true) {\n      var cell = $(document.getElementById(\"1040\")).parents('.cell').data().cell;\n      cell.output_area.append_execute_result(NB_LOAD_WARNING)\n    }\n\n  }\n\n  if (root._bokeh_is_loading === 0) {\n    console.debug(\"Bokeh: BokehJS loaded, going straight to plotting\");\n    run_inline_js();\n  } else {\n    load_libs(css_urls, js_urls, function() {\n      console.debug(\"Bokeh: BokehJS plotting callback run at\", now());\n      run_inline_js();\n    });\n  }\n}(window));"
     },
     "metadata": {},
     "output_type": "display_data"
    },
    {
     "data": {
      "text/html": [
       "\n",
       "\n",
       "\n",
       "\n",
       "\n",
       "\n",
       "  <div class=\"bk-root\" id=\"4b048533-a373-44b5-a0c8-1aa9fc3a4c6e\" data-root-id=\"1002\"></div>\n"
      ]
     },
     "metadata": {},
     "output_type": "display_data"
    },
    {
     "data": {
      "application/javascript": [
       "(function(root) {\n",
       "  function embed_document(root) {\n",
       "    \n",
       "  var docs_json = {\"0e27f079-9ce5-48ec-b37d-aef55916a617\":{\"roots\":{\"references\":[{\"attributes\":{\"background_fill_color\":\"white\",\"below\":[{\"id\":\"1011\"}],\"center\":[{\"id\":\"1014\"},{\"id\":\"1018\"}],\"left\":[{\"id\":\"1015\"}],\"plot_height\":800,\"plot_width\":800,\"renderers\":[{\"id\":\"1038\"}],\"title\":{\"id\":\"1041\"},\"toolbar\":{\"id\":\"1027\"},\"x_range\":{\"id\":\"1003\"},\"x_scale\":{\"id\":\"1007\"},\"y_range\":{\"id\":\"1005\"},\"y_scale\":{\"id\":\"1009\"}},\"id\":\"1002\",\"subtype\":\"Figure\",\"type\":\"Plot\"},{\"attributes\":{\"axis\":{\"id\":\"1015\"},\"dimension\":1,\"ticker\":null,\"visible\":false},\"id\":\"1018\",\"type\":\"Grid\"},{\"attributes\":{\"fill_alpha\":{\"value\":0.1},\"fill_color\":{\"field\":\"color\"},\"line_alpha\":{\"value\":0.1},\"line_color\":{\"field\":\"color\"},\"size\":{\"units\":\"screen\",\"value\":5},\"x\":{\"field\":\"x\"},\"y\":{\"field\":\"y\"}},\"id\":\"1037\",\"type\":\"Circle\"},{\"attributes\":{},\"id\":\"1020\",\"type\":\"WheelZoomTool\"},{\"attributes\":{},\"id\":\"1047\",\"type\":\"UnionRenderers\"},{\"attributes\":{},\"id\":\"1024\",\"type\":\"HelpTool\"},{\"attributes\":{},\"id\":\"1016\",\"type\":\"BasicTicker\"},{\"attributes\":{\"data_source\":{\"id\":\"1001\"},\"glyph\":{\"id\":\"1036\"},\"hover_glyph\":null,\"muted_glyph\":null,\"nonselection_glyph\":{\"id\":\"1037\"},\"selection_glyph\":null,\"view\":{\"id\":\"1039\"}},\"id\":\"1038\",\"type\":\"GlyphRenderer\"},{\"attributes\":{},\"id\":\"1012\",\"type\":\"BasicTicker\"},{\"attributes\":{},\"id\":\"1005\",\"type\":\"DataRange1d\"},{\"attributes\":{},\"id\":\"1022\",\"type\":\"SaveTool\"},{\"attributes\":{\"text\":\"\"},\"id\":\"1041\",\"type\":\"Title\"},{\"attributes\":{},\"id\":\"1003\",\"type\":\"DataRange1d\"},{\"attributes\":{},\"id\":\"1043\",\"type\":\"BasicTickFormatter\"},{\"attributes\":{},\"id\":\"1019\",\"type\":\"PanTool\"},{\"attributes\":{\"formatter\":{\"id\":\"1043\"},\"ticker\":{\"id\":\"1012\"},\"visible\":false},\"id\":\"1011\",\"type\":\"LinearAxis\"},{\"attributes\":{},\"id\":\"1009\",\"type\":\"LinearScale\"},{\"attributes\":{},\"id\":\"1048\",\"type\":\"Selection\"},{\"attributes\":{\"axis\":{\"id\":\"1011\"},\"ticker\":null,\"visible\":false},\"id\":\"1014\",\"type\":\"Grid\"},{\"attributes\":{\"source\":{\"id\":\"1001\"}},\"id\":\"1039\",\"type\":\"CDSView\"},{\"attributes\":{\"fill_alpha\":{\"field\":\"alpha\"},\"fill_color\":{\"field\":\"color\"},\"line_alpha\":{\"field\":\"alpha\"},\"line_color\":{\"field\":\"color\"},\"size\":{\"units\":\"screen\",\"value\":5},\"x\":{\"field\":\"x\"},\"y\":{\"field\":\"y\"}},\"id\":\"1036\",\"type\":\"Circle\"},{\"attributes\":{},\"id\":\"1023\",\"type\":\"ResetTool\"},{\"attributes\":{\"formatter\":{\"id\":\"1045\"},\"ticker\":{\"id\":\"1016\"},\"visible\":false},\"id\":\"1015\",\"type\":\"LinearAxis\"},{\"attributes\":{},\"id\":\"1045\",\"type\":\"BasicTickFormatter\"},{\"attributes\":{\"active_drag\":\"auto\",\"active_inspect\":\"auto\",\"active_multi\":null,\"active_scroll\":\"auto\",\"active_tap\":\"auto\",\"tools\":[{\"id\":\"1019\"},{\"id\":\"1020\"},{\"id\":\"1021\"},{\"id\":\"1022\"},{\"id\":\"1023\"},{\"id\":\"1024\"},{\"id\":\"1026\"}]},\"id\":\"1027\",\"type\":\"Toolbar\"},{\"attributes\":{\"overlay\":{\"id\":\"1025\"}},\"id\":\"1021\",\"type\":\"BoxZoomTool\"},{\"attributes\":{\"callback\":null,\"tooltips\":[[\"index\",\"@index\"],[\"label\",\"@label\"],[\"item\",\"@item\"]]},\"id\":\"1026\",\"type\":\"HoverTool\"},{\"attributes\":{\"data\":{\"alpha\":[1,1,1,1,1,1,1,1,1,1,1,1,1,1,1,1,1,1,1,1,1,1,1,1,1,1,1,1,1,1,1,1,1,1,1,1,1,1,1,1,1,1,1,1,1,1,1,1,1,1,1,1,1,1,1,1,1,1,1,1,1,1,1,1,1,1,1,1,1,1,1,1,1,1,1,1,1,1,1,1,1,1,1,1,1,1,1,1,1,1,1,1,1,1,1,1,1,1,1,1,1,1,1,1,1,1,1,1,1,1,1,1,1,1,1,1,1,1,1,1,1,1,1,1,1,1,1,1,1,1,1,1,1,1,1,1,1,1,1,1,1,1,1,1,1,1,1,1,1,1,1,1,1,1,1,1,1,1,1,1,1,1,1,1,1,1,1,1,1,1,1,1,1,1,1,1,1,1,1,1,1,1,1,1,1,1,1,1,1,1,1,1,1,1,1,1,1,1,1,1,1,1,1,1,1,1,1,1,1,1,1,1,1,1,1,1,1,1,1,1,1,1,1,1,1,1,1,1,1,1,1,1,1,1,1,1,1,1,1,1,1,1,1,1,1,1,1,1,1,1,1,1,1,1,1,1,1,1,1,1,1,1,1,1,1,1,1,1,1,1,1,1,1,1,1,1,1,1,1,1,1,1,1,1,1,1,1,1,1,1,1,1,1,1,1,1,1,1,1,1,1,1,1,1,1,1,1,1,1,1,1,1,1,1,1,1,1,1,1,1,1,1,1,1,1,1,1,1,1,1,1,1,1,1,1,1,1,1,1,1,1,1,1,1,1,1,1,1,1,1,1,1,1,1,1,1,1,1,1,1,1,1,1,1,1,1,1,1,1,1,1,1,1,1,1,1,1,1,1,1,1,1,1,1,1,1,1,1,1,1,1,1,1,1,1,1,1,1,1,1,1,1,1,1,1,1,1,1,1,1,1,1,1,1,1,1,1,1,1,1,1,1,1,1,1,1,1,1,1,1,1,1,1,1,1,1,1,1,1,1,1,1,1,1,1,1,1,1,1,1,1,1,1,1,1,1,1,1,1,1,1,1,1,1,1,1,1,1,1,1,1,1,1,1,1,1,1,1,1,1,1,1,1,1,1,1,1,1,1,1,1,1,1,1,1,1,1,1,1,1,1,1,1,1,1,1,1,1,1,1,1,1,1,1,1,1,1,1,1,1,1,1,1,1,1,1,1,1,1,1,1,1,1,1,1,1,1,1,1,1,1,1,1,1,1,1,1,1,1,1,1,1,1,1,1,1,1,1,1,1,1,1,1,1,1,1,1,1,1,1,1,1,1,1,1,1,1,1,1,1,1,1,1,1,1,1,1,1,1,1,1,1,1,1,1,1,1,1,1,1,1,1,1,1,1,1,1,1,1,1,1,1,1,1,1,1,1,1,1,1,1,1,1,1,1,1,1,1,1,1,1,1,1,1,1,1,1,1,1,1,1,1,1,1,1,1,1,1,1,1,1,1,1,1,1,1,1,1,1,1,1,1,1,1,1,1,1,1,1,1,1,1,1,1,1,1,1,1,1,1,1,1,1,1,1,1,1,1,1,1,1,1,1,1,1,1,1,1,1,1,1,1,1,1,1,1,1,1,1,1,1,1,1,1,1,1,1,1,1,1,1,1,1,1,1,1,1,1,1,1,1,1,1,1,1,1,1,1,1,1,1,1,1,1,1,1,1,1,1,1,1,1,1,1,1,1,1,1,1,1,1,1,1,1,1,1,1,1,1,1,1,1,1,1,1,1,1,1,1,1,1,1,1,1,1,1,1,1,1,1,1,1,1,1,1,1,1,1,1,1,1,1,1,1,1,1,1,1,1,1,1,1,1,1,1,1,1,1,1,1,1,1,1,1,1,1,1,1,1,1,1,1,1,1,1,1,1,1,1,1,1,1,1,1,1,1,1,1,1,1,1,1,1,1,1,1,1,1,1,1,1,1,1,1,1,1,1,1,1,1,1,1,1,1,1,1,1,1,1,1,1,1,1,1,1,1,1,1,1,1,1,1,1,1,1,1,1,1,1,1,1,1,1,1,1,1,1,1,1,1,1,1,1,1,1,1,1,1,1,1,1,1,1,1,1,1,1,1,1,1,1,1,1,1,1,1,1,1,1,1,1,1,1,1,1,1,1,1,1,1,1,1,1,1,1,1,1,1,1,1,1,1,1,1,1,1,1,1,1,1,1,1,1,1,1,1,1,1,1,1,1,1,1,1,1,1,1,1,1,1,1,1,1,1,1,1,1,1,1,1,1,1,1,1,1,1,1,1,1,1,1,1,1,1,1,1,1,1,1,1,1,1,1,1,1,1,1,1,1,1,1,1,1,1,1,1,1,1,1,1,1,1,1,1,1,1,1,1,1,1,1,1,1,1,1,1,1,1,1,1,1,1,1,1,1,1,1,1,1,1,1,1,1,1,1,1,1,1,1,1,1,1,1,1,1,1,1,1,1,1,1,1,1,1,1,1,1,1,1,1,1,1,1,1,1,1,1,1,1,1,1,1,1,1,1,1,1,1,1,1,1,1,1,1,1,1,1,1,1,1,1,1,1,1,1,1,1,1,1,1,1,1,1,1,1,1,1,1,1,1,1,1,1,1,1,1,1,1,1,1,1,1,1,1,1,1,1,1,1,1,1,1,1,1,1,1,1,1,1,1,1,1,1,1,1,1,1,1,1,1,1,1,1,1,1,1,1,1,1,1,1,1,1,1,1,1,1,1,1,1,1,1,1,1,1,1,1,1,1,1,1,1,1,1,1,1,1,1,1,1,1,1,1,1,1,1,1,1,1,1,1,1,1,1,1,1,1,1,1,1,1,1,1,1,1,1,1,1,1,1,1,1,1,1,1,1,1,1,1,1,1,1,1,1,1,1,1,1,1,1,1,1,1,1,1,1,1,1,1,1,1,1,1,1,1,1,1,1,1,1,1,1,1,1,1,1],\"color\":[\"#fffab6\",\"#af1446\",\"#f47044\",\"#9e0142\",\"#fed683\",\"#f47044\",\"#99d6a4\",\"#f47044\",\"#f47044\",\"#f47044\",\"#e9f69d\",\"#fed683\",\"#f47044\",\"#c6e89f\",\"#5061aa\",\"#b1dfa3\",\"#f47044\",\"#f47044\",\"#fed683\",\"#f47044\",\"#58b2ac\",\"#f47044\",\"#5061aa\",\"#f47044\",\"#d63f4f\",\"#f47044\",\"#fee491\",\"#fbfdb8\",\"#fed683\",\"#f47044\",\"#f47044\",\"#f47044\",\"#99d6a4\",\"#f47044\",\"#f47044\",\"#58b2ac\",\"#fed683\",\"#e9f69d\",\"#fdb365\",\"#f47044\",\"#f47044\",\"#f47044\",\"#f47044\",\"#58b2ac\",\"#f47044\",\"#f47044\",\"#f47044\",\"#58b2ac\",\"#69c3a5\",\"#f47044\",\"#f47044\",\"#f47044\",\"#fed683\",\"#fed683\",\"#58b2ac\",\"#f8864f\",\"#58b2ac\",\"#fee491\",\"#f47044\",\"#fdc574\",\"#f47044\",\"#f47044\",\"#f47044\",\"#f2faaa\",\"#f47044\",\"#f47044\",\"#f47044\",\"#f47044\",\"#f47044\",\"#f47044\",\"#f47044\",\"#c6e89f\",\"#f47044\",\"#5e4fa2\",\"#f47044\",\"#f47044\",\"#f47044\",\"#99d6a4\",\"#58b2ac\",\"#69c3a5\",\"#f47044\",\"#f47044\",\"#fbfdb8\",\"#fdc574\",\"#fed683\",\"#f47044\",\"#f47044\",\"#f47044\",\"#f47044\",\"#f47044\",\"#daf09a\",\"#fed683\",\"#f47044\",\"#b1dfa3\",\"#af1446\",\"#99d6a4\",\"#f47044\",\"#fee491\",\"#f8864f\",\"#f47044\",\"#fee491\",\"#f47044\",\"#58b2ac\",\"#f47044\",\"#f47044\",\"#9e0142\",\"#f47044\",\"#fed683\",\"#f47044\",\"#fed683\",\"#f47044\",\"#f47044\",\"#58b2ac\",\"#fee491\",\"#f47044\",\"#fee491\",\"#f47044\",\"#fee491\",\"#f47044\",\"#fed683\",\"#e1504b\",\"#f47044\",\"#fed683\",\"#f47044\",\"#f47044\",\"#f47044\",\"#f47044\",\"#fbfdb8\",\"#fee491\",\"#f47044\",\"#af1446\",\"#fdb365\",\"#fed683\",\"#f47044\",\"#f47044\",\"#f47044\",\"#58b2ac\",\"#fee491\",\"#f47044\",\"#99d6a4\",\"#f47044\",\"#f47044\",\"#b1dfa3\",\"#69c3a5\",\"#f47044\",\"#f47044\",\"#58b2ac\",\"#f47044\",\"#f47044\",\"#f47044\",\"#c6e89f\",\"#58b2ac\",\"#f47044\",\"#daf09a\",\"#f47044\",\"#fed683\",\"#fffab6\",\"#b1dfa3\",\"#f47044\",\"#f47044\",\"#f47044\",\"#fdb365\",\"#fed683\",\"#f47044\",\"#99d6a4\",\"#fbfdb8\",\"#f47044\",\"#f47044\",\"#f47044\",\"#69c3a5\",\"#f47044\",\"#fed683\",\"#f47044\",\"#f47044\",\"#9e0142\",\"#f2faaa\",\"#f47044\",\"#3389bd\",\"#f47044\",\"#69c3a5\",\"#58b2ac\",\"#fdb365\",\"#f47044\",\"#f47044\",\"#eb6046\",\"#f47044\",\"#69c3a5\",\"#f47044\",\"#f47044\",\"#f47044\",\"#f47044\",\"#f47044\",\"#f47044\",\"#d63f4f\",\"#fed683\",\"#fee491\",\"#f47044\",\"#f47044\",\"#f47044\",\"#f8864f\",\"#af1446\",\"#fee491\",\"#af1446\",\"#f47044\",\"#f47044\",\"#f47044\",\"#f47044\",\"#f47044\",\"#fed683\",\"#af1446\",\"#b1dfa3\",\"#f47044\",\"#f47044\",\"#af1446\",\"#58b2ac\",\"#f47044\",\"#f47044\",\"#58b2ac\",\"#d63f4f\",\"#f47044\",\"#f47044\",\"#f47044\",\"#f47044\",\"#f47044\",\"#f47044\",\"#fed683\",\"#58b2ac\",\"#fee491\",\"#f47044\",\"#f47044\",\"#fdb365\",\"#fed683\",\"#fee491\",\"#f47044\",\"#99d6a4\",\"#f47044\",\"#f47044\",\"#f47044\",\"#fbfdb8\",\"#fbfdb8\",\"#b1dfa3\",\"#fdb365\",\"#f47044\",\"#58b2ac\",\"#f47044\",\"#f47044\",\"#f47044\",\"#f47044\",\"#fee491\",\"#f47044\",\"#f47044\",\"#f47044\",\"#af1446\",\"#81cda5\",\"#f47044\",\"#f47044\",\"#f47044\",\"#f47044\",\"#99d6a4\",\"#f47044\",\"#fed683\",\"#af1446\",\"#f47044\",\"#9e0142\",\"#f47044\",\"#fee491\",\"#f47044\",\"#fee491\",\"#f47044\",\"#69c3a5\",\"#69c3a5\",\"#fdc574\",\"#58b2ac\",\"#f47044\",\"#fed683\",\"#fee491\",\"#f47044\",\"#f47044\",\"#5061aa\",\"#9e0142\",\"#f47044\",\"#fdb365\",\"#f47044\",\"#f47044\",\"#f47044\",\"#f47044\",\"#b1dfa3\",\"#f47044\",\"#af1446\",\"#fdb365\",\"#fee491\",\"#f47044\",\"#f47044\",\"#b1dfa3\",\"#f47044\",\"#e9f69d\",\"#f47044\",\"#f47044\",\"#69c3a5\",\"#58b2ac\",\"#f47044\",\"#58b2ac\",\"#fed683\",\"#fee491\",\"#af1446\",\"#f47044\",\"#b1dfa3\",\"#f47044\",\"#f47044\",\"#f47044\",\"#f47044\",\"#f47044\",\"#f47044\",\"#f47044\",\"#f47044\",\"#f47044\",\"#b1dfa3\",\"#f47044\",\"#f47044\",\"#fee491\",\"#81cda5\",\"#f47044\",\"#f47044\",\"#f47044\",\"#e1504b\",\"#f47044\",\"#fbfdb8\",\"#f47044\",\"#fdb365\",\"#af1446\",\"#f47044\",\"#f47044\",\"#f47044\",\"#f47044\",\"#f47044\",\"#f47044\",\"#f47044\",\"#f47044\",\"#81cda5\",\"#f47044\",\"#f47044\",\"#f47044\",\"#fed683\",\"#f47044\",\"#f47044\",\"#fee491\",\"#f47044\",\"#fed683\",\"#58b2ac\",\"#fdb365\",\"#fdb365\",\"#f47044\",\"#58b2ac\",\"#58b2ac\",\"#81cda5\",\"#f47044\",\"#99d6a4\",\"#f47044\",\"#69c3a5\",\"#fed683\",\"#fed683\",\"#f47044\",\"#fee491\",\"#f47044\",\"#fdb365\",\"#f47044\",\"#f47044\",\"#f47044\",\"#c6e89f\",\"#f47044\",\"#fdb365\",\"#fdb365\",\"#f47044\",\"#f47044\",\"#fee491\",\"#f47044\",\"#f47044\",\"#f47044\",\"#f47044\",\"#fed683\",\"#f47044\",\"#e9f69d\",\"#3389bd\",\"#f47044\",\"#f47044\",\"#af1446\",\"#daf09a\",\"#f47044\",\"#f47044\",\"#f47044\",\"#f47044\",\"#fed683\",\"#c6e89f\",\"#f47044\",\"#b1dfa3\",\"#b1dfa3\",\"#f47044\",\"#f47044\",\"#f47044\",\"#58b2ac\",\"#fed683\",\"#f47044\",\"#f47044\",\"#58b2ac\",\"#e9f69d\",\"#eb6046\",\"#fbfdb8\",\"#f47044\",\"#f47044\",\"#fed683\",\"#f47044\",\"#fed683\",\"#af1446\",\"#f47044\",\"#58b2ac\",\"#58b2ac\",\"#eb6046\",\"#f47044\",\"#af1446\",\"#fed683\",\"#f47044\",\"#d63f4f\",\"#f47044\",\"#fed683\",\"#f47044\",\"#e1504b\",\"#f47044\",\"#fee491\",\"#fee491\",\"#b1dfa3\",\"#b1dfa3\",\"#e1504b\",\"#fed683\",\"#f47044\",\"#f47044\",\"#f47044\",\"#f47044\",\"#f47044\",\"#d63f4f\",\"#b1dfa3\",\"#f47044\",\"#daf09a\",\"#f47044\",\"#f47044\",\"#f47044\",\"#e9f69d\",\"#f47044\",\"#fbfdb8\",\"#b1dfa3\",\"#f47044\",\"#fbfdb8\",\"#f47044\",\"#f47044\",\"#f47044\",\"#f47044\",\"#f47044\",\"#f47044\",\"#fbfdb8\",\"#af1446\",\"#af1446\",\"#e9f69d\",\"#f47044\",\"#58b2ac\",\"#d63f4f\",\"#f47044\",\"#f47044\",\"#f47044\",\"#f47044\",\"#b1dfa3\",\"#99d6a4\",\"#f47044\",\"#f47044\",\"#f47044\",\"#81cda5\",\"#fbfdb8\",\"#e9f69d\",\"#e1504b\",\"#f47044\",\"#f47044\",\"#f47044\",\"#f47044\",\"#69c3a5\",\"#5061aa\",\"#f47044\",\"#f47044\",\"#f47044\",\"#f47044\",\"#fdc574\",\"#f47044\",\"#f47044\",\"#f47044\",\"#f47044\",\"#fed683\",\"#f8864f\",\"#f47044\",\"#58b2ac\",\"#f47044\",\"#f47044\",\"#f47044\",\"#f47044\",\"#e9f69d\",\"#f47044\",\"#fee491\",\"#fed683\",\"#69c3a5\",\"#f47044\",\"#f47044\",\"#fdb365\",\"#fee491\",\"#4175b4\",\"#f47044\",\"#99d6a4\",\"#f47044\",\"#f47044\",\"#69c3a5\",\"#daf09a\",\"#f47044\",\"#f47044\",\"#f47044\",\"#f47044\",\"#9e0142\",\"#58b2ac\",\"#fed683\",\"#af1446\",\"#fee491\",\"#69c3a5\",\"#f47044\",\"#f47044\",\"#fb9d59\",\"#eb6046\",\"#e9f69d\",\"#f47044\",\"#f47044\",\"#e9f69d\",\"#fee491\",\"#f47044\",\"#fee491\",\"#f47044\",\"#f47044\",\"#69c3a5\",\"#f47044\",\"#99d6a4\",\"#f47044\",\"#fb9d59\",\"#f47044\",\"#f47044\",\"#99d6a4\",\"#f47044\",\"#99d6a4\",\"#f47044\",\"#99d6a4\",\"#af1446\",\"#f47044\",\"#c6e89f\",\"#f47044\",\"#f47044\",\"#f47044\",\"#58b2ac\",\"#f47044\",\"#e1504b\",\"#f47044\",\"#459eb4\",\"#f47044\",\"#f47044\",\"#fed683\",\"#f47044\",\"#f47044\",\"#fee491\",\"#99d6a4\",\"#e9f69d\",\"#f47044\",\"#fbfdb8\",\"#b1dfa3\",\"#e9f69d\",\"#69c3a5\",\"#f47044\",\"#f47044\",\"#f47044\",\"#f47044\",\"#fee491\",\"#fffab6\",\"#f47044\",\"#f47044\",\"#f47044\",\"#f47044\",\"#f47044\",\"#f47044\",\"#f47044\",\"#fed683\",\"#f47044\",\"#fed683\",\"#fdc574\",\"#99d6a4\",\"#f47044\",\"#f47044\",\"#f47044\",\"#f47044\",\"#c6e89f\",\"#f47044\",\"#f2faaa\",\"#f47044\",\"#81cda5\",\"#f47044\",\"#f47044\",\"#f47044\",\"#fed683\",\"#fed683\",\"#f47044\",\"#f47044\",\"#f47044\",\"#f47044\",\"#69c3a5\",\"#fed683\",\"#f47044\",\"#5061aa\",\"#f47044\",\"#f47044\",\"#fed683\",\"#f47044\",\"#f47044\",\"#f47044\",\"#daf09a\",\"#f47044\",\"#f47044\",\"#fed683\",\"#69c3a5\",\"#fee491\",\"#f47044\",\"#58b2ac\",\"#9e0142\",\"#58b2ac\",\"#f2faaa\",\"#f47044\",\"#58b2ac\",\"#f47044\",\"#f47044\",\"#f47044\",\"#f47044\",\"#f47044\",\"#f47044\",\"#f47044\",\"#f47044\",\"#4175b4\",\"#f47044\",\"#fed683\",\"#f47044\",\"#9e0142\",\"#f47044\",\"#f47044\",\"#fed683\",\"#f47044\",\"#f47044\",\"#fdb365\",\"#f47044\",\"#f47044\",\"#f47044\",\"#fee491\",\"#f47044\",\"#9e0142\",\"#fee491\",\"#af1446\",\"#e9f69d\",\"#f47044\",\"#5061aa\",\"#f47044\",\"#69c3a5\",\"#f47044\",\"#fed683\",\"#99d6a4\",\"#f47044\",\"#fed683\",\"#99d6a4\",\"#f47044\",\"#f47044\",\"#f47044\",\"#f47044\",\"#fdb365\",\"#f47044\",\"#b1dfa3\",\"#58b2ac\",\"#f47044\",\"#f8864f\",\"#fee491\",\"#f47044\",\"#fee491\",\"#99d6a4\",\"#fee491\",\"#69c3a5\",\"#459eb4\",\"#f47044\",\"#f47044\",\"#f47044\",\"#f47044\",\"#af1446\",\"#f47044\",\"#c6e89f\",\"#f47044\",\"#b1dfa3\",\"#fbfdb8\",\"#f47044\",\"#f47044\",\"#58b2ac\",\"#fed683\",\"#fee491\",\"#99d6a4\",\"#fb9d59\",\"#e1504b\",\"#f47044\",\"#f47044\",\"#f47044\",\"#daf09a\",\"#f47044\",\"#e1504b\",\"#f47044\",\"#9e0142\",\"#eb6046\",\"#f47044\",\"#f47044\",\"#f47044\",\"#fffab6\",\"#b1dfa3\",\"#f47044\",\"#f47044\",\"#fbfdb8\",\"#fed683\",\"#f47044\",\"#f47044\",\"#f47044\",\"#f47044\",\"#f47044\",\"#f47044\",\"#f47044\",\"#f47044\",\"#f47044\",\"#9e0142\",\"#f47044\",\"#fee491\",\"#f47044\",\"#fee491\",\"#f47044\",\"#69c3a5\",\"#f47044\",\"#fed683\",\"#3389bd\",\"#f47044\",\"#99d6a4\",\"#fed683\",\"#f47044\",\"#fed683\",\"#f47044\",\"#f47044\",\"#f47044\",\"#f47044\",\"#f47044\",\"#fee491\",\"#81cda5\",\"#f47044\",\"#f47044\",\"#f47044\",\"#f47044\",\"#f47044\",\"#f47044\",\"#f47044\",\"#f47044\",\"#5061aa\",\"#69c3a5\",\"#f47044\",\"#f47044\",\"#fdb365\",\"#f47044\",\"#f47044\",\"#f47044\",\"#f47044\",\"#b1dfa3\",\"#e9f69d\",\"#f47044\",\"#fed683\",\"#fed683\",\"#f47044\",\"#f47044\",\"#f47044\",\"#fee491\",\"#f47044\",\"#f47044\",\"#f47044\",\"#f47044\",\"#fed683\",\"#58b2ac\",\"#58b2ac\",\"#b1dfa3\",\"#f47044\",\"#f47044\",\"#b1dfa3\",\"#f47044\",\"#f47044\",\"#f47044\",\"#f47044\",\"#f47044\",\"#f47044\",\"#f47044\",\"#fed683\",\"#fed683\",\"#81cda5\",\"#58b2ac\",\"#f47044\",\"#f47044\",\"#fb9d59\",\"#f47044\",\"#fed683\",\"#58b2ac\",\"#f47044\",\"#fbfdb8\",\"#e9f69d\",\"#fed683\",\"#f47044\",\"#f47044\",\"#58b2ac\",\"#f47044\",\"#fed683\",\"#f47044\",\"#f47044\",\"#f47044\",\"#4175b4\",\"#f47044\",\"#f47044\",\"#f47044\",\"#f47044\",\"#69c3a5\",\"#f47044\",\"#f47044\",\"#f47044\",\"#f47044\",\"#f47044\",\"#f47044\",\"#f47044\",\"#fed683\",\"#fed683\",\"#f47044\",\"#f47044\",\"#f47044\",\"#58b2ac\",\"#f47044\",\"#f47044\",\"#fed683\",\"#5e4fa2\",\"#f47044\",\"#f47044\",\"#e9f69d\",\"#f47044\",\"#d63f4f\",\"#f47044\",\"#d63f4f\",\"#f47044\",\"#f47044\",\"#b1dfa3\",\"#fed683\",\"#fdc574\",\"#f47044\",\"#f47044\",\"#feefa3\",\"#fffab6\",\"#eb6046\",\"#f47044\",\"#fed683\",\"#f47044\",\"#f47044\",\"#f47044\",\"#f47044\",\"#fee491\",\"#fee491\",\"#f47044\",\"#69c3a5\",\"#f47044\",\"#fffab6\",\"#f47044\",\"#f47044\",\"#af1446\",\"#fed683\",\"#f47044\",\"#fffab6\",\"#fdb365\",\"#fed683\",\"#f47044\",\"#f47044\",\"#e1504b\",\"#f47044\",\"#f47044\",\"#f47044\",\"#f47044\",\"#f47044\",\"#f47044\",\"#99d6a4\",\"#f47044\",\"#f47044\",\"#f47044\",\"#f47044\",\"#f47044\",\"#9e0142\",\"#f47044\",\"#f47044\",\"#9e0142\",\"#f47044\",\"#f47044\",\"#f47044\",\"#fed683\",\"#fffab6\",\"#f47044\",\"#f47044\",\"#f47044\",\"#f47044\",\"#69c3a5\",\"#f47044\",\"#f47044\",\"#f47044\",\"#fbfdb8\",\"#f47044\",\"#f47044\",\"#fed683\",\"#af1446\",\"#f47044\",\"#99d6a4\",\"#e9f69d\",\"#f47044\",\"#58b2ac\",\"#f47044\",\"#f47044\",\"#f47044\",\"#fbfdb8\",\"#b1dfa3\",\"#f47044\",\"#f47044\",\"#f47044\",\"#fffab6\",\"#f47044\",\"#f47044\",\"#f47044\",\"#f47044\",\"#f47044\",\"#fbfdb8\",\"#f47044\",\"#f47044\",\"#f47044\",\"#f47044\",\"#f47044\",\"#58b2ac\",\"#daf09a\",\"#fed683\",\"#f47044\",\"#69c3a5\",\"#69c3a5\",\"#fed683\",\"#f47044\",\"#f47044\",\"#f47044\",\"#f47044\",\"#9e0142\",\"#f47044\",\"#f47044\",\"#f47044\",\"#f47044\",\"#f47044\",\"#f47044\",\"#fdc574\",\"#fed683\",\"#daf09a\",\"#f47044\",\"#69c3a5\",\"#f47044\",\"#f47044\",\"#fdb365\",\"#fed683\",\"#f47044\",\"#fed683\",\"#fed683\",\"#f47044\",\"#b1dfa3\",\"#af1446\",\"#e1504b\",\"#f47044\",\"#af1446\",\"#f47044\",\"#f47044\",\"#fee491\",\"#f47044\",\"#f47044\",\"#f47044\",\"#f47044\",\"#f47044\",\"#f47044\",\"#fbfdb8\",\"#fee491\",\"#f47044\",\"#9e0142\",\"#fed683\",\"#f47044\",\"#f47044\",\"#f47044\",\"#f47044\",\"#f47044\",\"#99d6a4\",\"#58b2ac\",\"#d63f4f\",\"#e1504b\",\"#e9f69d\",\"#f47044\",\"#f47044\",\"#b1dfa3\",\"#f47044\",\"#f47044\",\"#af1446\",\"#9e0142\",\"#fbfdb8\",\"#e9f69d\",\"#fbfdb8\",\"#f47044\",\"#e1504b\",\"#f47044\",\"#f47044\",\"#f47044\",\"#f47044\",\"#f47044\",\"#e1504b\",\"#f47044\",\"#f47044\",\"#f47044\",\"#c6e89f\",\"#58b2ac\",\"#fed683\",\"#f47044\",\"#f47044\",\"#fee491\",\"#fed683\",\"#f47044\",\"#af1446\",\"#f47044\",\"#f47044\",\"#b1dfa3\",\"#f47044\",\"#af1446\",\"#f47044\",\"#99d6a4\",\"#f47044\",\"#f47044\",\"#5061aa\",\"#f47044\",\"#f47044\",\"#f47044\",\"#f47044\",\"#69c3a5\",\"#f47044\",\"#e9f69d\",\"#fee491\",\"#f47044\",\"#fb9d59\",\"#f47044\",\"#f47044\",\"#f47044\",\"#f47044\",\"#f47044\",\"#99d6a4\",\"#f47044\",\"#b1dfa3\",\"#f47044\",\"#fdb365\",\"#f47044\",\"#f47044\",\"#f47044\",\"#f47044\",\"#fbfdb8\",\"#c32a4b\",\"#f47044\",\"#f47044\",\"#f47044\",\"#f47044\",\"#f47044\",\"#f47044\",\"#f47044\",\"#f47044\",\"#f47044\",\"#f47044\",\"#fbfdb8\",\"#f47044\",\"#f47044\",\"#58b2ac\",\"#f47044\",\"#fffab6\",\"#f47044\",\"#f47044\",\"#f47044\",\"#f47044\",\"#fed683\",\"#f47044\",\"#f47044\",\"#f47044\",\"#58b2ac\",\"#f47044\",\"#f47044\",\"#f47044\",\"#f47044\",\"#fee491\",\"#f47044\",\"#f47044\",\"#fdc574\",\"#f47044\",\"#58b2ac\",\"#f47044\",\"#f47044\",\"#fee491\",\"#f47044\",\"#fed683\",\"#f47044\",\"#f47044\",\"#f47044\",\"#f47044\",\"#f47044\",\"#f47044\",\"#f47044\",\"#f47044\",\"#f47044\",\"#f2faaa\",\"#58b2ac\",\"#f47044\",\"#fee491\",\"#fdb365\",\"#f2faaa\",\"#f47044\",\"#e9f69d\",\"#f47044\",\"#c32a4b\",\"#af1446\",\"#69c3a5\",\"#f47044\",\"#fdc574\",\"#f47044\",\"#f47044\",\"#f47044\",\"#f47044\",\"#fbfdb8\",\"#fed683\",\"#fed683\",\"#f47044\",\"#f47044\",\"#f47044\",\"#f47044\",\"#99d6a4\",\"#f47044\",\"#99d6a4\",\"#f47044\",\"#f47044\",\"#fed683\",\"#f47044\",\"#81cda5\",\"#f47044\",\"#58b2ac\",\"#f47044\",\"#f47044\",\"#f47044\",\"#fffab6\",\"#58b2ac\",\"#f47044\",\"#fee491\",\"#f47044\",\"#f47044\",\"#9e0142\",\"#f47044\",\"#daf09a\",\"#af1446\",\"#fed683\",\"#e1504b\",\"#fffab6\",\"#58b2ac\",\"#f47044\",\"#f47044\",\"#f47044\",\"#fffab6\",\"#b1dfa3\",\"#fffab6\",\"#99d6a4\",\"#f47044\",\"#3389bd\",\"#f47044\",\"#af1446\",\"#f47044\",\"#af1446\",\"#b1dfa3\",\"#f47044\",\"#f47044\",\"#58b2ac\",\"#f47044\",\"#f47044\",\"#99d6a4\",\"#fed683\",\"#fbfdb8\",\"#f47044\",\"#9e0142\",\"#f47044\",\"#58b2ac\",\"#af1446\",\"#af1446\",\"#b1dfa3\",\"#fdc574\",\"#f47044\",\"#f47044\",\"#e9f69d\",\"#f47044\",\"#f47044\",\"#f47044\",\"#f47044\",\"#f47044\",\"#f47044\",\"#f47044\",\"#f47044\",\"#f47044\",\"#fdc574\",\"#fee491\",\"#f47044\",\"#f47044\",\"#f47044\",\"#5061aa\",\"#f47044\",\"#69c3a5\",\"#f47044\",\"#f47044\",\"#af1446\",\"#fdb365\",\"#f47044\",\"#fee491\",\"#3389bd\",\"#e1504b\",\"#f47044\",\"#58b2ac\",\"#fed683\",\"#e1504b\",\"#f47044\",\"#f47044\",\"#f47044\",\"#99d6a4\",\"#f47044\",\"#f47044\",\"#f47044\",\"#f47044\",\"#f47044\",\"#f47044\",\"#e1504b\",\"#fdc574\",\"#f47044\",\"#3389bd\",\"#f47044\",\"#f47044\",\"#f47044\",\"#b1dfa3\",\"#fed683\",\"#f47044\",\"#f47044\",\"#fed683\",\"#f47044\",\"#58b2ac\",\"#f47044\",\"#f47044\",\"#fee491\",\"#f47044\",\"#fed683\",\"#f47044\",\"#e1504b\",\"#9e0142\",\"#f47044\",\"#f47044\",\"#fee491\",\"#f47044\",\"#99d6a4\",\"#f47044\",\"#fffab6\",\"#f47044\",\"#f47044\",\"#f47044\",\"#af1446\",\"#f47044\",\"#f47044\",\"#f47044\",\"#e1504b\",\"#f47044\",\"#f47044\",\"#f47044\",\"#f47044\",\"#5061aa\",\"#f47044\",\"#f47044\",\"#99d6a4\",\"#f47044\",\"#f47044\",\"#f47044\",\"#f47044\",\"#f47044\",\"#f47044\",\"#f47044\",\"#daf09a\",\"#f47044\",\"#f8864f\",\"#e1504b\",\"#f47044\",\"#fee491\",\"#f47044\",\"#f47044\",\"#9e0142\",\"#af1446\",\"#f47044\"],\"index\":{\"__ndarray__\":\"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\",\"dtype\":\"int32\",\"order\":\"little\",\"shape\":[1306]},\"item\":[\"pos_PF03944_seed_Endotoxin_C_80.txt\",\"PF01289_full_Thiol_cytolysin_243.txt\",\"negative\",\"PF00087_full_Toxin_TOLIP_333.txt\",\"pos_PF01823_rp15_MACPF_659.txt\",\"negative\",\"pos_PF06369_full_anemone_cytotox_363.txt\",\"negative\",\"negative\",\"negative\",\"pos_PF05105_seed_Phage_holin_4_1_131.txt\",\"pos_PF01823_rp15_MACPF_659.txt\",\"negative\",\"pos_PF06109_full_HlyE_62.txt\",\"pos_PF18063_full_BB_PF_52.txt\",\"pos_PF06355_full_Aegerolysin_308.txt\",\"negative\",\"negative\",\"pos_PF01823_rp15_MACPF_659.txt\",\"negative\",\"pos_PF12261_full_T_hemolysin_327.txt\",\"negative\",\"pos_PF18063_full_BB_PF_52.txt\",\"negative\",\"PF04598_rp15_Gasdermin_62.txt\",\"negative\",\"pos_PF03318_full_ETX_MTX2_440.txt\",\"pos_PF03945_full_Endotoxin_N_180.txt\",\"pos_PF01823_rp15_MACPF_659.txt\",\"negative\",\"negative\",\"negative\",\"pos_PF06369_full_anemone_cytotox_363.txt\",\"negative\",\"negative\",\"pos_PF12261_full_T_hemolysin_327.txt\",\"pos_PF01823_rp15_MACPF_659.txt\",\"pos_PF05105_seed_Phage_holin_4_1_131.txt\",\"pos_PF01117_full_Aerolysin_207.txt\",\"negative\",\"negative\",\"negative\",\"negative\",\"pos_PF12261_full_T_hemolysin_327.txt\",\"negative\",\"negative\",\"negative\",\"pos_PF12261_full_T_hemolysin_327.txt\",\"pos_PF11393_full_T4BSS_DotI_IcmL_214.txt\",\"negative\",\"negative\",\"negative\",\"pos_PF01823_rp15_MACPF_659.txt\",\"pos_PF01823_rp15_MACPF_659.txt\",\"pos_PF12261_full_T_hemolysin_327.txt\",\"pos_PF00555_seed_Endotoxin_M_36.txt\",\"pos_PF12261_full_T_hemolysin_327.txt\",\"pos_PF03318_full_ETX_MTX2_440.txt\",\"negative\",\"pos_PF01338_full_Bac_thur_toxin_87.txt\",\"negative\",\"negative\",\"negative\",\"pos_PF04877_full_Harpin_35.txt\",\"negative\",\"negative\",\"negative\",\"negative\",\"negative\",\"negative\",\"negative\",\"pos_PF06109_full_HlyE_62.txt\",\"negative\",\"pos_PF18684_full_PlyB_C_8.txt\",\"negative\",\"negative\",\"negative\",\"pos_PF06369_full_anemone_cytotox_363.txt\",\"pos_PF12261_full_T_hemolysin_327.txt\",\"pos_PF11393_full_T4BSS_DotI_IcmL_214.txt\",\"negative\",\"negative\",\"pos_PF03945_full_Endotoxin_N_180.txt\",\"pos_PF01338_full_Bac_thur_toxin_87.txt\",\"pos_PF01823_rp15_MACPF_659.txt\",\"negative\",\"negative\",\"negative\",\"negative\",\"negative\",\"pos_PF05802_full_EspB_60.txt\",\"pos_PF01823_rp15_MACPF_659.txt\",\"negative\",\"pos_PF06355_full_Aegerolysin_308.txt\",\"PF01289_full_Thiol_cytolysin_243.txt\",\"pos_PF06369_full_anemone_cytotox_363.txt\",\"negative\",\"pos_PF03318_full_ETX_MTX2_440.txt\",\"pos_PF00555_seed_Endotoxin_M_36.txt\",\"negative\",\"pos_PF03318_full_ETX_MTX2_440.txt\",\"negative\",\"pos_PF12261_full_T_hemolysin_327.txt\",\"negative\",\"negative\",\"PF00087_full_Toxin_TOLIP_333.txt\",\"negative\",\"pos_PF01823_rp15_MACPF_659.txt\",\"negative\",\"pos_PF01823_rp15_MACPF_659.txt\",\"negative\",\"negative\",\"pos_PF12261_full_T_hemolysin_327.txt\",\"pos_PF03318_full_ETX_MTX2_440.txt\",\"negative\",\"pos_PF03318_full_ETX_MTX2_440.txt\",\"negative\",\"pos_PF03318_full_ETX_MTX2_440.txt\",\"negative\",\"pos_PF01823_rp15_MACPF_659.txt\",\"PF07367_full_FB_lectin_171.txt\",\"negative\",\"pos_PF01823_rp15_MACPF_659.txt\",\"negative\",\"negative\",\"negative\",\"negative\",\"pos_PF03945_full_Endotoxin_N_180.txt\",\"pos_PF03318_full_ETX_MTX2_440.txt\",\"negative\",\"PF01289_full_Thiol_cytolysin_243.txt\",\"pos_PF01117_full_Aerolysin_207.txt\",\"pos_PF01823_rp15_MACPF_659.txt\",\"negative\",\"negative\",\"negative\",\"pos_PF12261_full_T_hemolysin_327.txt\",\"pos_PF03318_full_ETX_MTX2_440.txt\",\"negative\",\"pos_PF06369_full_anemone_cytotox_363.txt\",\"negative\",\"negative\",\"pos_PF06355_full_Aegerolysin_308.txt\",\"pos_PF11393_full_T4BSS_DotI_IcmL_214.txt\",\"negative\",\"negative\",\"pos_PF12261_full_T_hemolysin_327.txt\",\"negative\",\"negative\",\"negative\",\"pos_PF06109_full_HlyE_62.txt\",\"pos_PF12261_full_T_hemolysin_327.txt\",\"negative\",\"pos_PF05802_full_EspB_60.txt\",\"negative\",\"pos_PF01823_rp15_MACPF_659.txt\",\"pos_PF03944_seed_Endotoxin_C_80.txt\",\"pos_PF06355_full_Aegerolysin_308.txt\",\"negative\",\"negative\",\"negative\",\"pos_PF01117_full_Aerolysin_207.txt\",\"pos_PF01823_rp15_MACPF_659.txt\",\"negative\",\"pos_PF06369_full_anemone_cytotox_363.txt\",\"pos_PF03945_full_Endotoxin_N_180.txt\",\"negative\",\"negative\",\"negative\",\"pos_PF11393_full_T4BSS_DotI_IcmL_214.txt\",\"negative\",\"pos_PF01823_rp15_MACPF_659.txt\",\"negative\",\"negative\",\"PF00087_full_Toxin_TOLIP_333.txt\",\"pos_PF04877_full_Harpin_35.txt\",\"negative\",\"pos_PF12920_full_TcdA_TcdB_pore_46.txt\",\"negative\",\"pos_PF11393_full_T4BSS_DotI_IcmL_214.txt\",\"pos_PF12261_full_T_hemolysin_327.txt\",\"pos_PF01117_full_Aerolysin_207.txt\",\"negative\",\"negative\",\"PF11565_full_porB_30.txt\",\"negative\",\"pos_PF11393_full_T4BSS_DotI_IcmL_214.txt\",\"negative\",\"negative\",\"negative\",\"negative\",\"negative\",\"negative\",\"PF04598_rp15_Gasdermin_62.txt\",\"pos_PF01823_rp15_MACPF_659.txt\",\"pos_PF03318_full_ETX_MTX2_440.txt\",\"negative\",\"negative\",\"negative\",\"pos_PF00555_seed_Endotoxin_M_36.txt\",\"PF01289_full_Thiol_cytolysin_243.txt\",\"pos_PF03318_full_ETX_MTX2_440.txt\",\"PF01289_full_Thiol_cytolysin_243.txt\",\"negative\",\"negative\",\"negative\",\"negative\",\"negative\",\"pos_PF01823_rp15_MACPF_659.txt\",\"PF01289_full_Thiol_cytolysin_243.txt\",\"pos_PF06355_full_Aegerolysin_308.txt\",\"negative\",\"negative\",\"PF01289_full_Thiol_cytolysin_243.txt\",\"pos_PF12261_full_T_hemolysin_327.txt\",\"negative\",\"negative\",\"pos_PF12261_full_T_hemolysin_327.txt\",\"PF04598_rp15_Gasdermin_62.txt\",\"negative\",\"negative\",\"negative\",\"negative\",\"negative\",\"negative\",\"pos_PF01823_rp15_MACPF_659.txt\",\"pos_PF12261_full_T_hemolysin_327.txt\",\"pos_PF03318_full_ETX_MTX2_440.txt\",\"negative\",\"negative\",\"pos_PF01117_full_Aerolysin_207.txt\",\"pos_PF01823_rp15_MACPF_659.txt\",\"pos_PF03318_full_ETX_MTX2_440.txt\",\"negative\",\"pos_PF06369_full_anemone_cytotox_363.txt\",\"negative\",\"negative\",\"negative\",\"pos_PF03945_full_Endotoxin_N_180.txt\",\"pos_PF03945_full_Endotoxin_N_180.txt\",\"pos_PF06355_full_Aegerolysin_308.txt\",\"pos_PF01117_full_Aerolysin_207.txt\",\"negative\",\"pos_PF12261_full_T_hemolysin_327.txt\",\"negative\",\"negative\",\"negative\",\"negative\",\"pos_PF03318_full_ETX_MTX2_440.txt\",\"negative\",\"negative\",\"negative\",\"PF01289_full_Thiol_cytolysin_243.txt\",\"pos_PF07968_full_Leukocidin_89.txt\",\"negative\",\"negative\",\"negative\",\"negative\",\"pos_PF06369_full_anemone_cytotox_363.txt\",\"negative\",\"pos_PF01823_rp15_MACPF_659.txt\",\"PF01289_full_Thiol_cytolysin_243.txt\",\"negative\",\"PF00087_full_Toxin_TOLIP_333.txt\",\"negative\",\"pos_PF03318_full_ETX_MTX2_440.txt\",\"negative\",\"pos_PF03318_full_ETX_MTX2_440.txt\",\"negative\",\"pos_PF11393_full_T4BSS_DotI_IcmL_214.txt\",\"pos_PF11393_full_T4BSS_DotI_IcmL_214.txt\",\"pos_PF01338_full_Bac_thur_toxin_87.txt\",\"pos_PF12261_full_T_hemolysin_327.txt\",\"negative\",\"pos_PF01823_rp15_MACPF_659.txt\",\"pos_PF03318_full_ETX_MTX2_440.txt\",\"negative\",\"negative\",\"pos_PF18063_full_BB_PF_52.txt\",\"PF00087_full_Toxin_TOLIP_333.txt\",\"negative\",\"pos_PF01117_full_Aerolysin_207.txt\",\"negative\",\"negative\",\"negative\",\"negative\",\"pos_PF06355_full_Aegerolysin_308.txt\",\"negative\",\"PF01289_full_Thiol_cytolysin_243.txt\",\"pos_PF01117_full_Aerolysin_207.txt\",\"pos_PF03318_full_ETX_MTX2_440.txt\",\"negative\",\"negative\",\"pos_PF06355_full_Aegerolysin_308.txt\",\"negative\",\"pos_PF05105_seed_Phage_holin_4_1_131.txt\",\"negative\",\"negative\",\"pos_PF11393_full_T4BSS_DotI_IcmL_214.txt\",\"pos_PF12261_full_T_hemolysin_327.txt\",\"negative\",\"pos_PF12261_full_T_hemolysin_327.txt\",\"pos_PF01823_rp15_MACPF_659.txt\",\"pos_PF03318_full_ETX_MTX2_440.txt\",\"PF01289_full_Thiol_cytolysin_243.txt\",\"negative\",\"pos_PF06355_full_Aegerolysin_308.txt\",\"negative\",\"negative\",\"negative\",\"negative\",\"negative\",\"negative\",\"negative\",\"negative\",\"negative\",\"pos_PF06355_full_Aegerolysin_308.txt\",\"negative\",\"negative\",\"pos_PF03318_full_ETX_MTX2_440.txt\",\"pos_PF07968_full_Leukocidin_89.txt\",\"negative\",\"negative\",\"negative\",\"PF07367_full_FB_lectin_171.txt\",\"negative\",\"pos_PF03945_full_Endotoxin_N_180.txt\",\"negative\",\"pos_PF01117_full_Aerolysin_207.txt\",\"PF01289_full_Thiol_cytolysin_243.txt\",\"negative\",\"negative\",\"negative\",\"negative\",\"negative\",\"negative\",\"negative\",\"negative\",\"pos_PF07968_full_Leukocidin_89.txt\",\"negative\",\"negative\",\"negative\",\"pos_PF01823_rp15_MACPF_659.txt\",\"negative\",\"negative\",\"pos_PF03318_full_ETX_MTX2_440.txt\",\"negative\",\"pos_PF01823_rp15_MACPF_659.txt\",\"pos_PF12261_full_T_hemolysin_327.txt\",\"pos_PF01117_full_Aerolysin_207.txt\",\"pos_PF01117_full_Aerolysin_207.txt\",\"negative\",\"pos_PF12261_full_T_hemolysin_327.txt\",\"pos_PF12261_full_T_hemolysin_327.txt\",\"pos_PF07968_full_Leukocidin_89.txt\",\"negative\",\"pos_PF06369_full_anemone_cytotox_363.txt\",\"negative\",\"pos_PF11393_full_T4BSS_DotI_IcmL_214.txt\",\"pos_PF01823_rp15_MACPF_659.txt\",\"pos_PF01823_rp15_MACPF_659.txt\",\"negative\",\"pos_PF03318_full_ETX_MTX2_440.txt\",\"negative\",\"pos_PF01117_full_Aerolysin_207.txt\",\"negative\",\"negative\",\"negative\",\"pos_PF06109_full_HlyE_62.txt\",\"negative\",\"pos_PF01117_full_Aerolysin_207.txt\",\"pos_PF01117_full_Aerolysin_207.txt\",\"negative\",\"negative\",\"pos_PF03318_full_ETX_MTX2_440.txt\",\"negative\",\"negative\",\"negative\",\"negative\",\"pos_PF01823_rp15_MACPF_659.txt\",\"negative\",\"pos_PF05105_seed_Phage_holin_4_1_131.txt\",\"pos_PF12920_full_TcdA_TcdB_pore_46.txt\",\"negative\",\"negative\",\"PF01289_full_Thiol_cytolysin_243.txt\",\"pos_PF05802_full_EspB_60.txt\",\"negative\",\"negative\",\"negative\",\"negative\",\"pos_PF01823_rp15_MACPF_659.txt\",\"pos_PF06109_full_HlyE_62.txt\",\"negative\",\"pos_PF06355_full_Aegerolysin_308.txt\",\"pos_PF06355_full_Aegerolysin_308.txt\",\"negative\",\"negative\",\"negative\",\"pos_PF12261_full_T_hemolysin_327.txt\",\"pos_PF01823_rp15_MACPF_659.txt\",\"negative\",\"negative\",\"pos_PF12261_full_T_hemolysin_327.txt\",\"pos_PF05105_seed_Phage_holin_4_1_131.txt\",\"PF11565_full_porB_30.txt\",\"pos_PF03945_full_Endotoxin_N_180.txt\",\"negative\",\"negative\",\"pos_PF01823_rp15_MACPF_659.txt\",\"negative\",\"pos_PF01823_rp15_MACPF_659.txt\",\"PF01289_full_Thiol_cytolysin_243.txt\",\"negative\",\"pos_PF12261_full_T_hemolysin_327.txt\",\"pos_PF12261_full_T_hemolysin_327.txt\",\"PF11565_full_porB_30.txt\",\"negative\",\"PF01289_full_Thiol_cytolysin_243.txt\",\"pos_PF01823_rp15_MACPF_659.txt\",\"negative\",\"PF04598_rp15_Gasdermin_62.txt\",\"negative\",\"pos_PF01823_rp15_MACPF_659.txt\",\"negative\",\"PF07367_full_FB_lectin_171.txt\",\"negative\",\"pos_PF03318_full_ETX_MTX2_440.txt\",\"pos_PF03318_full_ETX_MTX2_440.txt\",\"pos_PF06355_full_Aegerolysin_308.txt\",\"pos_PF06355_full_Aegerolysin_308.txt\",\"PF07367_full_FB_lectin_171.txt\",\"pos_PF01823_rp15_MACPF_659.txt\",\"negative\",\"negative\",\"negative\",\"negative\",\"negative\",\"PF04598_rp15_Gasdermin_62.txt\",\"pos_PF06355_full_Aegerolysin_308.txt\",\"negative\",\"pos_PF05802_full_EspB_60.txt\",\"negative\",\"negative\",\"negative\",\"pos_PF05105_seed_Phage_holin_4_1_131.txt\",\"negative\",\"pos_PF03945_full_Endotoxin_N_180.txt\",\"pos_PF06355_full_Aegerolysin_308.txt\",\"negative\",\"pos_PF03945_full_Endotoxin_N_180.txt\",\"negative\",\"negative\",\"negative\",\"negative\",\"negative\",\"negative\",\"pos_PF03945_full_Endotoxin_N_180.txt\",\"PF01289_full_Thiol_cytolysin_243.txt\",\"PF01289_full_Thiol_cytolysin_243.txt\",\"pos_PF05105_seed_Phage_holin_4_1_131.txt\",\"negative\",\"pos_PF12261_full_T_hemolysin_327.txt\",\"PF04598_rp15_Gasdermin_62.txt\",\"negative\",\"negative\",\"negative\",\"negative\",\"pos_PF06355_full_Aegerolysin_308.txt\",\"pos_PF06369_full_anemone_cytotox_363.txt\",\"negative\",\"negative\",\"negative\",\"pos_PF07968_full_Leukocidin_89.txt\",\"pos_PF03945_full_Endotoxin_N_180.txt\",\"pos_PF05105_seed_Phage_holin_4_1_131.txt\",\"PF07367_full_FB_lectin_171.txt\",\"negative\",\"negative\",\"negative\",\"negative\",\"pos_PF11393_full_T4BSS_DotI_IcmL_214.txt\",\"pos_PF18063_full_BB_PF_52.txt\",\"negative\",\"negative\",\"negative\",\"negative\",\"pos_PF01338_full_Bac_thur_toxin_87.txt\",\"negative\",\"negative\",\"negative\",\"negative\",\"pos_PF01823_rp15_MACPF_659.txt\",\"pos_PF00555_seed_Endotoxin_M_36.txt\",\"negative\",\"pos_PF12261_full_T_hemolysin_327.txt\",\"negative\",\"negative\",\"negative\",\"negative\",\"pos_PF05105_seed_Phage_holin_4_1_131.txt\",\"negative\",\"pos_PF03318_full_ETX_MTX2_440.txt\",\"pos_PF01823_rp15_MACPF_659.txt\",\"pos_PF11393_full_T4BSS_DotI_IcmL_214.txt\",\"negative\",\"negative\",\"pos_PF01117_full_Aerolysin_207.txt\",\"pos_PF03318_full_ETX_MTX2_440.txt\",\"pos_PF17475_full_Binary_toxB_2_16.txt\",\"negative\",\"pos_PF06369_full_anemone_cytotox_363.txt\",\"negative\",\"negative\",\"pos_PF11393_full_T4BSS_DotI_IcmL_214.txt\",\"pos_PF05802_full_EspB_60.txt\",\"negative\",\"negative\",\"negative\",\"negative\",\"PF00087_full_Toxin_TOLIP_333.txt\",\"pos_PF12261_full_T_hemolysin_327.txt\",\"pos_PF01823_rp15_MACPF_659.txt\",\"PF01289_full_Thiol_cytolysin_243.txt\",\"pos_PF03318_full_ETX_MTX2_440.txt\",\"pos_PF11393_full_T4BSS_DotI_IcmL_214.txt\",\"negative\",\"negative\",\"pos_PF01024_full_Colicin_26.txt\",\"PF11565_full_porB_30.txt\",\"pos_PF05105_seed_Phage_holin_4_1_131.txt\",\"negative\",\"negative\",\"pos_PF05105_seed_Phage_holin_4_1_131.txt\",\"pos_PF03318_full_ETX_MTX2_440.txt\",\"negative\",\"pos_PF03318_full_ETX_MTX2_440.txt\",\"negative\",\"negative\",\"pos_PF11393_full_T4BSS_DotI_IcmL_214.txt\",\"negative\",\"pos_PF06369_full_anemone_cytotox_363.txt\",\"negative\",\"pos_PF01024_full_Colicin_26.txt\",\"negative\",\"negative\",\"pos_PF06369_full_anemone_cytotox_363.txt\",\"negative\",\"pos_PF06369_full_anemone_cytotox_363.txt\",\"negative\",\"pos_PF06369_full_anemone_cytotox_363.txt\",\"PF01289_full_Thiol_cytolysin_243.txt\",\"negative\",\"pos_PF06109_full_HlyE_62.txt\",\"negative\",\"negative\",\"negative\",\"pos_PF12261_full_T_hemolysin_327.txt\",\"negative\",\"PF07367_full_FB_lectin_171.txt\",\"negative\",\"pos_PF12563_full_Hemolysin_N_12.txt\",\"negative\",\"negative\",\"pos_PF01823_rp15_MACPF_659.txt\",\"negative\",\"negative\",\"pos_PF03318_full_ETX_MTX2_440.txt\",\"pos_PF06369_full_anemone_cytotox_363.txt\",\"pos_PF05105_seed_Phage_holin_4_1_131.txt\",\"negative\",\"pos_PF03945_full_Endotoxin_N_180.txt\",\"pos_PF06355_full_Aegerolysin_308.txt\",\"pos_PF05105_seed_Phage_holin_4_1_131.txt\",\"pos_PF11393_full_T4BSS_DotI_IcmL_214.txt\",\"negative\",\"negative\",\"negative\",\"negative\",\"pos_PF03318_full_ETX_MTX2_440.txt\",\"pos_PF03944_seed_Endotoxin_C_80.txt\",\"negative\",\"negative\",\"negative\",\"negative\",\"negative\",\"negative\",\"negative\",\"pos_PF01823_rp15_MACPF_659.txt\",\"negative\",\"pos_PF01823_rp15_MACPF_659.txt\",\"pos_PF01338_full_Bac_thur_toxin_87.txt\",\"pos_PF06369_full_anemone_cytotox_363.txt\",\"negative\",\"negative\",\"negative\",\"negative\",\"pos_PF06109_full_HlyE_62.txt\",\"negative\",\"pos_PF04877_full_Harpin_35.txt\",\"negative\",\"pos_PF07968_full_Leukocidin_89.txt\",\"negative\",\"negative\",\"negative\",\"pos_PF01823_rp15_MACPF_659.txt\",\"pos_PF01823_rp15_MACPF_659.txt\",\"negative\",\"negative\",\"negative\",\"negative\",\"pos_PF11393_full_T4BSS_DotI_IcmL_214.txt\",\"pos_PF01823_rp15_MACPF_659.txt\",\"negative\",\"pos_PF18063_full_BB_PF_52.txt\",\"negative\",\"negative\",\"pos_PF01823_rp15_MACPF_659.txt\",\"negative\",\"negative\",\"negative\",\"pos_PF05802_full_EspB_60.txt\",\"negative\",\"negative\",\"pos_PF01823_rp15_MACPF_659.txt\",\"pos_PF11393_full_T4BSS_DotI_IcmL_214.txt\",\"pos_PF03318_full_ETX_MTX2_440.txt\",\"negative\",\"pos_PF12261_full_T_hemolysin_327.txt\",\"PF00087_full_Toxin_TOLIP_333.txt\",\"pos_PF12261_full_T_hemolysin_327.txt\",\"pos_PF04877_full_Harpin_35.txt\",\"negative\",\"pos_PF12261_full_T_hemolysin_327.txt\",\"negative\",\"negative\",\"negative\",\"negative\",\"negative\",\"negative\",\"negative\",\"negative\",\"pos_PF17475_full_Binary_toxB_2_16.txt\",\"negative\",\"pos_PF01823_rp15_MACPF_659.txt\",\"negative\",\"PF00087_full_Toxin_TOLIP_333.txt\",\"negative\",\"negative\",\"pos_PF01823_rp15_MACPF_659.txt\",\"negative\",\"negative\",\"pos_PF01117_full_Aerolysin_207.txt\",\"negative\",\"negative\",\"negative\",\"pos_PF03318_full_ETX_MTX2_440.txt\",\"negative\",\"PF00087_full_Toxin_TOLIP_333.txt\",\"pos_PF03318_full_ETX_MTX2_440.txt\",\"PF01289_full_Thiol_cytolysin_243.txt\",\"pos_PF05105_seed_Phage_holin_4_1_131.txt\",\"negative\",\"pos_PF18063_full_BB_PF_52.txt\",\"negative\",\"pos_PF11393_full_T4BSS_DotI_IcmL_214.txt\",\"negative\",\"pos_PF01823_rp15_MACPF_659.txt\",\"pos_PF06369_full_anemone_cytotox_363.txt\",\"negative\",\"pos_PF01823_rp15_MACPF_659.txt\",\"pos_PF06369_full_anemone_cytotox_363.txt\",\"negative\",\"negative\",\"negative\",\"negative\",\"pos_PF01117_full_Aerolysin_207.txt\",\"negative\",\"pos_PF06355_full_Aegerolysin_308.txt\",\"pos_PF12261_full_T_hemolysin_327.txt\",\"negative\",\"pos_PF00555_seed_Endotoxin_M_36.txt\",\"pos_PF03318_full_ETX_MTX2_440.txt\",\"negative\",\"pos_PF03318_full_ETX_MTX2_440.txt\",\"pos_PF06369_full_anemone_cytotox_363.txt\",\"pos_PF03318_full_ETX_MTX2_440.txt\",\"pos_PF11393_full_T4BSS_DotI_IcmL_214.txt\",\"pos_PF12563_full_Hemolysin_N_12.txt\",\"negative\",\"negative\",\"negative\",\"negative\",\"PF01289_full_Thiol_cytolysin_243.txt\",\"negative\",\"pos_PF06109_full_HlyE_62.txt\",\"negative\",\"pos_PF06355_full_Aegerolysin_308.txt\",\"pos_PF03945_full_Endotoxin_N_180.txt\",\"negative\",\"negative\",\"pos_PF12261_full_T_hemolysin_327.txt\",\"pos_PF01823_rp15_MACPF_659.txt\",\"pos_PF03318_full_ETX_MTX2_440.txt\",\"pos_PF06369_full_anemone_cytotox_363.txt\",\"pos_PF01024_full_Colicin_26.txt\",\"PF07367_full_FB_lectin_171.txt\",\"negative\",\"negative\",\"negative\",\"pos_PF05802_full_EspB_60.txt\",\"negative\",\"PF07367_full_FB_lectin_171.txt\",\"negative\",\"PF00087_full_Toxin_TOLIP_333.txt\",\"PF11565_full_porB_30.txt\",\"negative\",\"negative\",\"negative\",\"pos_PF03944_seed_Endotoxin_C_80.txt\",\"pos_PF06355_full_Aegerolysin_308.txt\",\"negative\",\"negative\",\"pos_PF03945_full_Endotoxin_N_180.txt\",\"pos_PF01823_rp15_MACPF_659.txt\",\"negative\",\"negative\",\"negative\",\"negative\",\"negative\",\"negative\",\"negative\",\"negative\",\"negative\",\"PF00087_full_Toxin_TOLIP_333.txt\",\"negative\",\"pos_PF03318_full_ETX_MTX2_440.txt\",\"negative\",\"pos_PF03318_full_ETX_MTX2_440.txt\",\"negative\",\"pos_PF11393_full_T4BSS_DotI_IcmL_214.txt\",\"negative\",\"pos_PF01823_rp15_MACPF_659.txt\",\"pos_PF12920_full_TcdA_TcdB_pore_46.txt\",\"negative\",\"pos_PF06369_full_anemone_cytotox_363.txt\",\"pos_PF01823_rp15_MACPF_659.txt\",\"negative\",\"pos_PF01823_rp15_MACPF_659.txt\",\"negative\",\"negative\",\"negative\",\"negative\",\"negative\",\"pos_PF03318_full_ETX_MTX2_440.txt\",\"pos_PF07968_full_Leukocidin_89.txt\",\"negative\",\"negative\",\"negative\",\"negative\",\"negative\",\"negative\",\"negative\",\"negative\",\"pos_PF18063_full_BB_PF_52.txt\",\"pos_PF11393_full_T4BSS_DotI_IcmL_214.txt\",\"negative\",\"negative\",\"pos_PF01117_full_Aerolysin_207.txt\",\"negative\",\"negative\",\"negative\",\"negative\",\"pos_PF06355_full_Aegerolysin_308.txt\",\"pos_PF05105_seed_Phage_holin_4_1_131.txt\",\"negative\",\"pos_PF01823_rp15_MACPF_659.txt\",\"pos_PF01823_rp15_MACPF_659.txt\",\"negative\",\"negative\",\"negative\",\"pos_PF03318_full_ETX_MTX2_440.txt\",\"negative\",\"negative\",\"negative\",\"negative\",\"pos_PF01823_rp15_MACPF_659.txt\",\"pos_PF12261_full_T_hemolysin_327.txt\",\"pos_PF12261_full_T_hemolysin_327.txt\",\"pos_PF06355_full_Aegerolysin_308.txt\",\"negative\",\"negative\",\"pos_PF06355_full_Aegerolysin_308.txt\",\"negative\",\"negative\",\"negative\",\"negative\",\"negative\",\"negative\",\"negative\",\"pos_PF01823_rp15_MACPF_659.txt\",\"pos_PF01823_rp15_MACPF_659.txt\",\"pos_PF07968_full_Leukocidin_89.txt\",\"pos_PF12261_full_T_hemolysin_327.txt\",\"negative\",\"negative\",\"pos_PF01024_full_Colicin_26.txt\",\"negative\",\"pos_PF01823_rp15_MACPF_659.txt\",\"pos_PF12261_full_T_hemolysin_327.txt\",\"negative\",\"pos_PF03945_full_Endotoxin_N_180.txt\",\"pos_PF05105_seed_Phage_holin_4_1_131.txt\",\"pos_PF01823_rp15_MACPF_659.txt\",\"negative\",\"negative\",\"pos_PF12261_full_T_hemolysin_327.txt\",\"negative\",\"pos_PF01823_rp15_MACPF_659.txt\",\"negative\",\"negative\",\"negative\",\"pos_PF17475_full_Binary_toxB_2_16.txt\",\"negative\",\"negative\",\"negative\",\"negative\",\"pos_PF11393_full_T4BSS_DotI_IcmL_214.txt\",\"negative\",\"negative\",\"negative\",\"negative\",\"negative\",\"negative\",\"negative\",\"pos_PF01823_rp15_MACPF_659.txt\",\"pos_PF01823_rp15_MACPF_659.txt\",\"negative\",\"negative\",\"negative\",\"pos_PF12261_full_T_hemolysin_327.txt\",\"negative\",\"negative\",\"pos_PF01823_rp15_MACPF_659.txt\",\"pos_PF18684_full_PlyB_C_8.txt\",\"negative\",\"negative\",\"pos_PF05105_seed_Phage_holin_4_1_131.txt\",\"negative\",\"PF04598_rp15_Gasdermin_62.txt\",\"negative\",\"PF04598_rp15_Gasdermin_62.txt\",\"negative\",\"negative\",\"pos_PF06355_full_Aegerolysin_308.txt\",\"pos_PF01823_rp15_MACPF_659.txt\",\"pos_PF01338_full_Bac_thur_toxin_87.txt\",\"negative\",\"negative\",\"pos_PF03505_full_Clenterotox_9.txt\",\"pos_PF03944_seed_Endotoxin_C_80.txt\",\"PF11565_full_porB_30.txt\",\"negative\",\"pos_PF01823_rp15_MACPF_659.txt\",\"negative\",\"negative\",\"negative\",\"negative\",\"pos_PF03318_full_ETX_MTX2_440.txt\",\"pos_PF03318_full_ETX_MTX2_440.txt\",\"negative\",\"pos_PF11393_full_T4BSS_DotI_IcmL_214.txt\",\"negative\",\"pos_PF03944_seed_Endotoxin_C_80.txt\",\"negative\",\"negative\",\"PF01289_full_Thiol_cytolysin_243.txt\",\"pos_PF01823_rp15_MACPF_659.txt\",\"negative\",\"pos_PF03944_seed_Endotoxin_C_80.txt\",\"pos_PF01117_full_Aerolysin_207.txt\",\"pos_PF01823_rp15_MACPF_659.txt\",\"negative\",\"negative\",\"PF07367_full_FB_lectin_171.txt\",\"negative\",\"negative\",\"negative\",\"negative\",\"negative\",\"negative\",\"pos_PF06369_full_anemone_cytotox_363.txt\",\"negative\",\"negative\",\"negative\",\"negative\",\"negative\",\"PF00087_full_Toxin_TOLIP_333.txt\",\"negative\",\"negative\",\"PF00087_full_Toxin_TOLIP_333.txt\",\"negative\",\"negative\",\"negative\",\"pos_PF01823_rp15_MACPF_659.txt\",\"pos_PF03944_seed_Endotoxin_C_80.txt\",\"negative\",\"negative\",\"negative\",\"negative\",\"pos_PF11393_full_T4BSS_DotI_IcmL_214.txt\",\"negative\",\"negative\",\"negative\",\"pos_PF03945_full_Endotoxin_N_180.txt\",\"negative\",\"negative\",\"pos_PF01823_rp15_MACPF_659.txt\",\"PF01289_full_Thiol_cytolysin_243.txt\",\"negative\",\"pos_PF06369_full_anemone_cytotox_363.txt\",\"pos_PF05105_seed_Phage_holin_4_1_131.txt\",\"negative\",\"pos_PF12261_full_T_hemolysin_327.txt\",\"negative\",\"negative\",\"negative\",\"pos_PF03945_full_Endotoxin_N_180.txt\",\"pos_PF06355_full_Aegerolysin_308.txt\",\"negative\",\"negative\",\"negative\",\"pos_PF03944_seed_Endotoxin_C_80.txt\",\"negative\",\"negative\",\"negative\",\"negative\",\"negative\",\"pos_PF03945_full_Endotoxin_N_180.txt\",\"negative\",\"negative\",\"negative\",\"negative\",\"negative\",\"pos_PF12261_full_T_hemolysin_327.txt\",\"pos_PF05802_full_EspB_60.txt\",\"pos_PF01823_rp15_MACPF_659.txt\",\"negative\",\"pos_PF11393_full_T4BSS_DotI_IcmL_214.txt\",\"pos_PF11393_full_T4BSS_DotI_IcmL_214.txt\",\"pos_PF01823_rp15_MACPF_659.txt\",\"negative\",\"negative\",\"negative\",\"negative\",\"PF00087_full_Toxin_TOLIP_333.txt\",\"negative\",\"negative\",\"negative\",\"negative\",\"negative\",\"negative\",\"pos_PF01338_full_Bac_thur_toxin_87.txt\",\"pos_PF01823_rp15_MACPF_659.txt\",\"pos_PF05802_full_EspB_60.txt\",\"negative\",\"pos_PF11393_full_T4BSS_DotI_IcmL_214.txt\",\"negative\",\"negative\",\"pos_PF01117_full_Aerolysin_207.txt\",\"pos_PF01823_rp15_MACPF_659.txt\",\"negative\",\"pos_PF01823_rp15_MACPF_659.txt\",\"pos_PF01823_rp15_MACPF_659.txt\",\"negative\",\"pos_PF06355_full_Aegerolysin_308.txt\",\"PF01289_full_Thiol_cytolysin_243.txt\",\"PF07367_full_FB_lectin_171.txt\",\"negative\",\"PF01289_full_Thiol_cytolysin_243.txt\",\"negative\",\"negative\",\"pos_PF03318_full_ETX_MTX2_440.txt\",\"negative\",\"negative\",\"negative\",\"negative\",\"negative\",\"negative\",\"pos_PF03945_full_Endotoxin_N_180.txt\",\"pos_PF03318_full_ETX_MTX2_440.txt\",\"negative\",\"PF00087_full_Toxin_TOLIP_333.txt\",\"pos_PF01823_rp15_MACPF_659.txt\",\"negative\",\"negative\",\"negative\",\"negative\",\"negative\",\"pos_PF06369_full_anemone_cytotox_363.txt\",\"pos_PF12261_full_T_hemolysin_327.txt\",\"PF04598_rp15_Gasdermin_62.txt\",\"PF07367_full_FB_lectin_171.txt\",\"pos_PF05105_seed_Phage_holin_4_1_131.txt\",\"negative\",\"negative\",\"pos_PF06355_full_Aegerolysin_308.txt\",\"negative\",\"negative\",\"PF01289_full_Thiol_cytolysin_243.txt\",\"PF00087_full_Toxin_TOLIP_333.txt\",\"pos_PF03945_full_Endotoxin_N_180.txt\",\"pos_PF05105_seed_Phage_holin_4_1_131.txt\",\"pos_PF03945_full_Endotoxin_N_180.txt\",\"negative\",\"PF07367_full_FB_lectin_171.txt\",\"negative\",\"negative\",\"negative\",\"negative\",\"negative\",\"PF07367_full_FB_lectin_171.txt\",\"negative\",\"negative\",\"negative\",\"pos_PF06109_full_HlyE_62.txt\",\"pos_PF12261_full_T_hemolysin_327.txt\",\"pos_PF01823_rp15_MACPF_659.txt\",\"negative\",\"negative\",\"pos_PF03318_full_ETX_MTX2_440.txt\",\"pos_PF01823_rp15_MACPF_659.txt\",\"negative\",\"PF01289_full_Thiol_cytolysin_243.txt\",\"negative\",\"negative\",\"pos_PF06355_full_Aegerolysin_308.txt\",\"negative\",\"PF01289_full_Thiol_cytolysin_243.txt\",\"negative\",\"pos_PF06369_full_anemone_cytotox_363.txt\",\"negative\",\"negative\",\"pos_PF18063_full_BB_PF_52.txt\",\"negative\",\"negative\",\"negative\",\"negative\",\"pos_PF11393_full_T4BSS_DotI_IcmL_214.txt\",\"negative\",\"pos_PF05105_seed_Phage_holin_4_1_131.txt\",\"pos_PF03318_full_ETX_MTX2_440.txt\",\"negative\",\"pos_PF01024_full_Colicin_26.txt\",\"negative\",\"negative\",\"negative\",\"negative\",\"negative\",\"pos_PF06369_full_anemone_cytotox_363.txt\",\"negative\",\"pos_PF06355_full_Aegerolysin_308.txt\",\"negative\",\"pos_PF01117_full_Aerolysin_207.txt\",\"negative\",\"negative\",\"negative\",\"negative\",\"pos_PF03945_full_Endotoxin_N_180.txt\",\"PF02382_full_RTX_14.txt\",\"negative\",\"negative\",\"negative\",\"negative\",\"negative\",\"negative\",\"negative\",\"negative\",\"negative\",\"negative\",\"pos_PF03945_full_Endotoxin_N_180.txt\",\"negative\",\"negative\",\"pos_PF12261_full_T_hemolysin_327.txt\",\"negative\",\"pos_PF03944_seed_Endotoxin_C_80.txt\",\"negative\",\"negative\",\"negative\",\"negative\",\"pos_PF01823_rp15_MACPF_659.txt\",\"negative\",\"negative\",\"negative\",\"pos_PF12261_full_T_hemolysin_327.txt\",\"negative\",\"negative\",\"negative\",\"negative\",\"pos_PF03318_full_ETX_MTX2_440.txt\",\"negative\",\"negative\",\"pos_PF01338_full_Bac_thur_toxin_87.txt\",\"negative\",\"pos_PF12261_full_T_hemolysin_327.txt\",\"negative\",\"negative\",\"pos_PF03318_full_ETX_MTX2_440.txt\",\"negative\",\"pos_PF01823_rp15_MACPF_659.txt\",\"negative\",\"negative\",\"negative\",\"negative\",\"negative\",\"negative\",\"negative\",\"negative\",\"negative\",\"pos_PF04877_full_Harpin_35.txt\",\"pos_PF12261_full_T_hemolysin_327.txt\",\"negative\",\"pos_PF03318_full_ETX_MTX2_440.txt\",\"pos_PF01117_full_Aerolysin_207.txt\",\"pos_PF04877_full_Harpin_35.txt\",\"negative\",\"pos_PF05105_seed_Phage_holin_4_1_131.txt\",\"negative\",\"PF02382_full_RTX_14.txt\",\"PF01289_full_Thiol_cytolysin_243.txt\",\"pos_PF11393_full_T4BSS_DotI_IcmL_214.txt\",\"negative\",\"pos_PF01338_full_Bac_thur_toxin_87.txt\",\"negative\",\"negative\",\"negative\",\"negative\",\"pos_PF03945_full_Endotoxin_N_180.txt\",\"pos_PF01823_rp15_MACPF_659.txt\",\"pos_PF01823_rp15_MACPF_659.txt\",\"negative\",\"negative\",\"negative\",\"negative\",\"pos_PF06369_full_anemone_cytotox_363.txt\",\"negative\",\"pos_PF06369_full_anemone_cytotox_363.txt\",\"negative\",\"negative\",\"pos_PF01823_rp15_MACPF_659.txt\",\"negative\",\"pos_PF07968_full_Leukocidin_89.txt\",\"negative\",\"pos_PF12261_full_T_hemolysin_327.txt\",\"negative\",\"negative\",\"negative\",\"pos_PF03944_seed_Endotoxin_C_80.txt\",\"pos_PF12261_full_T_hemolysin_327.txt\",\"negative\",\"pos_PF03318_full_ETX_MTX2_440.txt\",\"negative\",\"negative\",\"PF00087_full_Toxin_TOLIP_333.txt\",\"negative\",\"pos_PF05802_full_EspB_60.txt\",\"PF01289_full_Thiol_cytolysin_243.txt\",\"pos_PF01823_rp15_MACPF_659.txt\",\"PF07367_full_FB_lectin_171.txt\",\"pos_PF03944_seed_Endotoxin_C_80.txt\",\"pos_PF12261_full_T_hemolysin_327.txt\",\"negative\",\"negative\",\"negative\",\"pos_PF03944_seed_Endotoxin_C_80.txt\",\"pos_PF06355_full_Aegerolysin_308.txt\",\"pos_PF03944_seed_Endotoxin_C_80.txt\",\"pos_PF06369_full_anemone_cytotox_363.txt\",\"negative\",\"pos_PF12920_full_TcdA_TcdB_pore_46.txt\",\"negative\",\"PF01289_full_Thiol_cytolysin_243.txt\",\"negative\",\"PF01289_full_Thiol_cytolysin_243.txt\",\"pos_PF06355_full_Aegerolysin_308.txt\",\"negative\",\"negative\",\"pos_PF12261_full_T_hemolysin_327.txt\",\"negative\",\"negative\",\"pos_PF06369_full_anemone_cytotox_363.txt\",\"pos_PF01823_rp15_MACPF_659.txt\",\"pos_PF03945_full_Endotoxin_N_180.txt\",\"negative\",\"PF00087_full_Toxin_TOLIP_333.txt\",\"negative\",\"pos_PF12261_full_T_hemolysin_327.txt\",\"PF01289_full_Thiol_cytolysin_243.txt\",\"PF01289_full_Thiol_cytolysin_243.txt\",\"pos_PF06355_full_Aegerolysin_308.txt\",\"pos_PF01338_full_Bac_thur_toxin_87.txt\",\"negative\",\"negative\",\"pos_PF05105_seed_Phage_holin_4_1_131.txt\",\"negative\",\"negative\",\"negative\",\"negative\",\"negative\",\"negative\",\"negative\",\"negative\",\"negative\",\"pos_PF01338_full_Bac_thur_toxin_87.txt\",\"pos_PF03318_full_ETX_MTX2_440.txt\",\"negative\",\"negative\",\"negative\",\"pos_PF18063_full_BB_PF_52.txt\",\"negative\",\"pos_PF11393_full_T4BSS_DotI_IcmL_214.txt\",\"negative\",\"negative\",\"PF01289_full_Thiol_cytolysin_243.txt\",\"pos_PF01117_full_Aerolysin_207.txt\",\"negative\",\"pos_PF03318_full_ETX_MTX2_440.txt\",\"pos_PF12920_full_TcdA_TcdB_pore_46.txt\",\"PF07367_full_FB_lectin_171.txt\",\"negative\",\"pos_PF12261_full_T_hemolysin_327.txt\",\"pos_PF01823_rp15_MACPF_659.txt\",\"PF07367_full_FB_lectin_171.txt\",\"negative\",\"negative\",\"negative\",\"pos_PF06369_full_anemone_cytotox_363.txt\",\"negative\",\"negative\",\"negative\",\"negative\",\"negative\",\"negative\",\"PF07367_full_FB_lectin_171.txt\",\"pos_PF01338_full_Bac_thur_toxin_87.txt\",\"negative\",\"pos_PF12920_full_TcdA_TcdB_pore_46.txt\",\"negative\",\"negative\",\"negative\",\"pos_PF06355_full_Aegerolysin_308.txt\",\"pos_PF01823_rp15_MACPF_659.txt\",\"negative\",\"negative\",\"pos_PF01823_rp15_MACPF_659.txt\",\"negative\",\"pos_PF12261_full_T_hemolysin_327.txt\",\"negative\",\"negative\",\"pos_PF03318_full_ETX_MTX2_440.txt\",\"negative\",\"pos_PF01823_rp15_MACPF_659.txt\",\"negative\",\"PF07367_full_FB_lectin_171.txt\",\"PF00087_full_Toxin_TOLIP_333.txt\",\"negative\",\"negative\",\"pos_PF03318_full_ETX_MTX2_440.txt\",\"negative\",\"pos_PF06369_full_anemone_cytotox_363.txt\",\"negative\",\"pos_PF03944_seed_Endotoxin_C_80.txt\",\"negative\",\"negative\",\"negative\",\"PF01289_full_Thiol_cytolysin_243.txt\",\"negative\",\"negative\",\"negative\",\"PF07367_full_FB_lectin_171.txt\",\"negative\",\"negative\",\"negative\",\"negative\",\"pos_PF18063_full_BB_PF_52.txt\",\"negative\",\"negative\",\"pos_PF06369_full_anemone_cytotox_363.txt\",\"negative\",\"negative\",\"negative\",\"negative\",\"negative\",\"negative\",\"negative\",\"pos_PF05802_full_EspB_60.txt\",\"negative\",\"pos_PF00555_seed_Endotoxin_M_36.txt\",\"PF07367_full_FB_lectin_171.txt\",\"negative\",\"pos_PF03318_full_ETX_MTX2_440.txt\",\"negative\",\"negative\",\"PF00087_full_Toxin_TOLIP_333.txt\",\"PF01289_full_Thiol_cytolysin_243.txt\",\"negative\"],\"label\":[14,1,6,0,11,6,21,6,6,6,17,11,6,19,28,20,6,6,11,6,24,6,28,6,3,6,12,15,11,6,6,6,21,6,6,24,11,17,9,6,6,6,6,24,6,6,6,24,23,6,6,6,11,11,24,7,24,12,6,10,6,6,6,16,6,6,6,6,6,6,6,19,6,29,6,6,6,21,24,23,6,6,15,10,11,6,6,6,6,6,18,11,6,20,1,21,6,12,7,6,12,6,24,6,6,0,6,11,6,11,6,6,24,12,6,12,6,12,6,11,4,6,11,6,6,6,6,15,12,6,1,9,11,6,6,6,24,12,6,21,6,6,20,23,6,6,24,6,6,6,19,24,6,18,6,11,14,20,6,6,6,9,11,6,21,15,6,6,6,23,6,11,6,6,0,16,6,26,6,23,24,9,6,6,5,6,23,6,6,6,6,6,6,3,11,12,6,6,6,7,1,12,1,6,6,6,6,6,11,1,20,6,6,1,24,6,6,24,3,6,6,6,6,6,6,11,24,12,6,6,9,11,12,6,21,6,6,6,15,15,20,9,6,24,6,6,6,6,12,6,6,6,1,22,6,6,6,6,21,6,11,1,6,0,6,12,6,12,6,23,23,10,24,6,11,12,6,6,28,0,6,9,6,6,6,6,20,6,1,9,12,6,6,20,6,17,6,6,23,24,6,24,11,12,1,6,20,6,6,6,6,6,6,6,6,6,20,6,6,12,22,6,6,6,4,6,15,6,9,1,6,6,6,6,6,6,6,6,22,6,6,6,11,6,6,12,6,11,24,9,9,6,24,24,22,6,21,6,23,11,11,6,12,6,9,6,6,6,19,6,9,9,6,6,12,6,6,6,6,11,6,17,26,6,6,1,18,6,6,6,6,11,19,6,20,20,6,6,6,24,11,6,6,24,17,5,15,6,6,11,6,11,1,6,24,24,5,6,1,11,6,3,6,11,6,4,6,12,12,20,20,4,11,6,6,6,6,6,3,20,6,18,6,6,6,17,6,15,20,6,15,6,6,6,6,6,6,15,1,1,17,6,24,3,6,6,6,6,20,21,6,6,6,22,15,17,4,6,6,6,6,23,28,6,6,6,6,10,6,6,6,6,11,7,6,24,6,6,6,6,17,6,12,11,23,6,6,9,12,27,6,21,6,6,23,18,6,6,6,6,0,24,11,1,12,23,6,6,8,5,17,6,6,17,12,6,12,6,6,23,6,21,6,8,6,6,21,6,21,6,21,1,6,19,6,6,6,24,6,4,6,25,6,6,11,6,6,12,21,17,6,15,20,17,23,6,6,6,6,12,14,6,6,6,6,6,6,6,11,6,11,10,21,6,6,6,6,19,6,16,6,22,6,6,6,11,11,6,6,6,6,23,11,6,28,6,6,11,6,6,6,18,6,6,11,23,12,6,24,0,24,16,6,24,6,6,6,6,6,6,6,6,27,6,11,6,0,6,6,11,6,6,9,6,6,6,12,6,0,12,1,17,6,28,6,23,6,11,21,6,11,21,6,6,6,6,9,6,20,24,6,7,12,6,12,21,12,23,25,6,6,6,6,1,6,19,6,20,15,6,6,24,11,12,21,8,4,6,6,6,18,6,4,6,0,5,6,6,6,14,20,6,6,15,11,6,6,6,6,6,6,6,6,6,0,6,12,6,12,6,23,6,11,26,6,21,11,6,11,6,6,6,6,6,12,22,6,6,6,6,6,6,6,6,28,23,6,6,9,6,6,6,6,20,17,6,11,11,6,6,6,12,6,6,6,6,11,24,24,20,6,6,20,6,6,6,6,6,6,6,11,11,22,24,6,6,8,6,11,24,6,15,17,11,6,6,24,6,11,6,6,6,27,6,6,6,6,23,6,6,6,6,6,6,6,11,11,6,6,6,24,6,6,11,29,6,6,17,6,3,6,3,6,6,20,11,10,6,6,13,14,5,6,11,6,6,6,6,12,12,6,23,6,14,6,6,1,11,6,14,9,11,6,6,4,6,6,6,6,6,6,21,6,6,6,6,6,0,6,6,0,6,6,6,11,14,6,6,6,6,23,6,6,6,15,6,6,11,1,6,21,17,6,24,6,6,6,15,20,6,6,6,14,6,6,6,6,6,15,6,6,6,6,6,24,18,11,6,23,23,11,6,6,6,6,0,6,6,6,6,6,6,10,11,18,6,23,6,6,9,11,6,11,11,6,20,1,4,6,1,6,6,12,6,6,6,6,6,6,15,12,6,0,11,6,6,6,6,6,21,24,3,4,17,6,6,20,6,6,1,0,15,17,15,6,4,6,6,6,6,6,4,6,6,6,19,24,11,6,6,12,11,6,1,6,6,20,6,1,6,21,6,6,28,6,6,6,6,23,6,17,12,6,8,6,6,6,6,6,21,6,20,6,9,6,6,6,6,15,2,6,6,6,6,6,6,6,6,6,6,15,6,6,24,6,14,6,6,6,6,11,6,6,6,24,6,6,6,6,12,6,6,10,6,24,6,6,12,6,11,6,6,6,6,6,6,6,6,6,16,24,6,12,9,16,6,17,6,2,1,23,6,10,6,6,6,6,15,11,11,6,6,6,6,21,6,21,6,6,11,6,22,6,24,6,6,6,14,24,6,12,6,6,0,6,18,1,11,4,14,24,6,6,6,14,20,14,21,6,26,6,1,6,1,20,6,6,24,6,6,21,11,15,6,0,6,24,1,1,20,10,6,6,17,6,6,6,6,6,6,6,6,6,10,12,6,6,6,28,6,23,6,6,1,9,6,12,26,4,6,24,11,4,6,6,6,21,6,6,6,6,6,6,4,10,6,26,6,6,6,20,11,6,6,11,6,24,6,6,12,6,11,6,4,0,6,6,12,6,21,6,14,6,6,6,1,6,6,6,4,6,6,6,6,28,6,6,21,6,6,6,6,6,6,6,18,6,7,4,6,12,6,6,0,1,6],\"level_0\":[0,1,2,3,4,5,6,7,8,9,10,11,12,13,14,15,16,17,18,19,20,21,22,23,24,25,26,27,28,29,30,31,32,33,34,35,36,37,38,39,40,41,42,43,44,45,46,47,48,49,50,51,52,53,54,55,56,57,58,59,60,61,62,63,64,65,66,67,68,69,70,71,72,73,74,75,76,77,78,79,80,81,82,83,84,85,86,87,88,89,90,91,92,93,94,95,96,97,98,99,100,101,102,103,104,105,106,107,108,109,110,111,112,113,114,115,116,117,118,119,120,121,122,123,124,125,126,127,128,129,130,131,132,133,134,135,136,137,138,139,140,141,142,143,144,145,146,147,148,149,150,151,152,153,154,155,156,157,158,159,160,161,162,163,164,165,166,167,168,169,170,171,172,173,174,175,176,177,178,179,180,181,182,183,184,185,186,187,188,189,190,191,192,193,194,195,196,197,198,199,200,201,202,203,204,205,206,207,208,209,210,211,212,213,214,215,216,217,218,219,220,221,222,223,224,225,226,227,228,229,230,231,232,233,234,235,236,237,238,239,240,241,242,243,244,245,246,247,248,249,250,251,252,253,254,255,256,257,258,259,260,261,262,263,264,265,266,267,268,269,270,271,272,273,274,275,276,277,278,279,280,281,282,283,284,285,286,287,288,289,290,291,292,293,294,295,296,297,298,299,300,301,302,303,304,305,306,307,308,309,310,311,312,313,314,315,316,317,318,319,320,321,322,323,324,325,326,327,328,329,330,331,332,333,334,335,336,337,338,339,340,341,342,343,344,345,346,347,348,349,350,351,352,353,354,355,356,357,358,359,360,361,362,363,364,365,366,367,368,369,370,371,372,373,374,375,376,377,378,379,380,381,382,383,384,385,386,387,388,389,390,391,392,393,394,395,396,397,398,399,400,401,402,403,404,405,406,407,408,409,410,411,412,413,414,415,416,417,418,419,420,421,422,423,424,425,426,427,428,429,430,431,432,433,434,435,436,437,438,439,440,441,442,443,444,445,446,447,448,449,450,451,452,453,454,455,456,457,458,459,460,461,462,463,464,465,466,467,468,469,470,471,472,473,474,475,476,477,478,479,480,481,482,483,484,485,486,487,488,489,490,491,492,493,494,495,496,497,498,499,500,501,502,503,504,505,506,507,508,509,510,511,512,513,514,515,516,517,518,519,520,521,522,523,524,525,526,527,528,529,530,531,532,533,534,535,536,537,538,539,540,541,542,543,544,545,546,547,548,549,550,551,552,553,554,555,556,557,558,559,560,561,562,563,564,565,566,567,568,569,570,571,572,573,574,575,576,577,578,579,580,581,582,583,584,585,586,587,588,589,590,591,592,593,594,595,596,597,598,599,600,601,602,603,604,605,606,607,608,609,610,611,612,613,614,615,616,617,618,619,620,621,622,623,624,625,626,627,628,629,630,631,632,633,634,635,636,637,638,639,640,641,642,643,644,645,646,647,648,649,650,651,652,653,654,655,656,657,658,659,660,661,662,663,664,665,666,667,668,669,670,671,672,673,674,675,676,677,678,679,680,681,682,683,684,685,686,687,688,689,690,691,692,693,694,695,696,697,698,699,700,701,702,703,704,705,706,707,708,709,710,711,712,713,714,715,716,717,718,719,720,721,722,723,724,725,726,727,728,729,730,731,732,733,734,735,736,737,738,739,740,741,742,743,744,745,746,747,748,749,750,751,752,753,754,755,756,757,758,759,760,761,762,763,764,765,766,767,768,769,770,771,772,773,774,775,776,777,778,779,780,781,782,783,784,785,786,787,788,789,790,791,792,793,794,795,796,797,798,799,800,801,802,803,804,805,806,807,808,809,810,811,812,813,814,815,816,817,818,819,820,821,822,823,824,825,826,827,828,829,830,831,832,833,834,835,836,837,838,839,840,841,842,843,844,845,846,847,848,849,850,851,852,853,854,855,856,857,858,859,860,861,862,863,864,865,866,867,868,869,870,871,872,873,874,875,876,877,878,879,880,881,882,883,884,885,886,887,888,889,890,891,892,893,894,895,896,897,898,899,900,901,902,903,904,905,906,907,908,909,910,911,912,913,914,915,916,917,918,919,920,921,922,923,924,925,926,927,928,929,930,931,932,933,934,935,936,937,938,939,940,941,942,943,944,945,946,947,948,949,950,951,952,953,954,955,956,957,958,959,960,961,962,963,964,965,966,967,968,969,970,971,972,973,974,975,976,977,978,979,980,981,982,983,984,985,986,987,988,989,990,991,992,993,994,995,996,997,998,999,1000,1001,1002,1003,1004,1005,1006,1007,1008,1009,1010,1011,1012,1013,1014,1015,1016,1017,1018,1019,1020,1021,1022,1023,1024,1025,1026,1027,1028,1029,1030,1031,1032,1033,1034,1035,1036,1037,1038,1039,1040,1041,1042,1043,1044,1045,1046,1047,1048,1049,1050,1051,1052,1053,1054,1055,1056,1057,1058,1059,1060,1061,1062,1063,1064,1065,1066,1067,1068,1069,1070,1071,1072,1073,1074,1075,1076,1077,1078,1079,1080,1081,1082,1083,1084,1085,1086,1087,1088,1089,1090,1091,1092,1093,1094,1095,1096,1097,1098,1099,1100,1101,1102,1103,1104,1105,1106,1107,1108,1109,1110,1111,1112,1113,1114,1115,1116,1117,1118,1119,1120,1121,1122,1123,1124,1125,1126,1127,1128,1129,1130,1131,1132,1133,1134,1135,1136,1137,1138,1139,1140,1141,1142,1143,1144,1145,1146,1147,1148,1149,1150,1151,1152,1153,1154,1155,1156,1157,1158,1159,1160,1161,1162,1163,1164,1165,1166,1167,1168,1169,1170,1171,1172,1173,1174,1175,1176,1177,1178,1179,1180,1181,1182,1183,1184,1185,1186,1187,1188,1189,1190,1191,1192,1193,1194,1195,1196,1197,1198,1199,1200,1201,1202,1203,1204,1205,1206,1207,1208,1209,1210,1211,1212,1213,1214,1215,1216,1217,1218,1219,1220,1221,1222,1223,1224,1225,1226,1227,1228,1229,1230,1231,1232,1233,1234,1235,1236,1237,1238,1239,1240,1241,1242,1243,1244,1245,1246,1247,1248,1249,1250,1251,1252,1253,1254,1255,1256,1257,1258,1259,1260,1261,1262,1263,1264,1265,1266,1267,1268,1269,1270,1271,1272,1273,1274,1275,1276,1277,1278,1279,1280,1281,1282,1283,1284,1285,1286,1287,1288,1289,1290,1291,1292,1293,1294,1295,1296,1297,1298,1299,1300,1301,1302,1303,1304,1305],\"x\":{\"__ndarray__\":\"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\",\"dtype\":\"float32\",\"order\":\"little\",\"shape\":[1306]},\"y\":{\"__ndarray__\":\"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\",\"dtype\":\"float32\",\"order\":\"little\",\"shape\":[1306]}},\"selected\":{\"id\":\"1048\"},\"selection_policy\":{\"id\":\"1047\"}},\"id\":\"1001\",\"type\":\"ColumnDataSource\"},{\"attributes\":{},\"id\":\"1007\",\"type\":\"LinearScale\"},{\"attributes\":{\"bottom_units\":\"screen\",\"fill_alpha\":0.5,\"fill_color\":\"lightgrey\",\"left_units\":\"screen\",\"level\":\"overlay\",\"line_alpha\":1.0,\"line_color\":\"black\",\"line_dash\":[4,4],\"line_width\":2,\"right_units\":\"screen\",\"top_units\":\"screen\"},\"id\":\"1025\",\"type\":\"BoxAnnotation\"}],\"root_ids\":[\"1002\"]},\"title\":\"Bokeh Application\",\"version\":\"2.1.0\"}};\n",
       "  var render_items = [{\"docid\":\"0e27f079-9ce5-48ec-b37d-aef55916a617\",\"root_ids\":[\"1002\"],\"roots\":{\"1002\":\"4b048533-a373-44b5-a0c8-1aa9fc3a4c6e\"}}];\n",
       "  root.Bokeh.embed.embed_items_notebook(docs_json, render_items);\n",
       "\n",
       "  }\n",
       "  if (root.Bokeh !== undefined) {\n",
       "    embed_document(root);\n",
       "  } else {\n",
       "    var attempts = 0;\n",
       "    var timer = setInterval(function(root) {\n",
       "      if (root.Bokeh !== undefined) {\n",
       "        clearInterval(timer);\n",
       "        embed_document(root);\n",
       "      } else {\n",
       "        attempts++;\n",
       "        if (attempts > 100) {\n",
       "          clearInterval(timer);\n",
       "          console.log(\"Bokeh: ERROR: Unable to run BokehJS code because BokehJS library is missing\");\n",
       "        }\n",
       "      }\n",
       "    }, 10, root)\n",
       "  }\n",
       "})(window);"
      ],
      "application/vnd.bokehjs_exec.v0+json": ""
     },
     "metadata": {
      "application/vnd.bokehjs_exec.v0+json": {
       "id": "1002"
      }
     },
     "output_type": "display_data"
    }
   ],
   "source": [
    "from bokeh.plotting import show, save, output_notebook, output_file\n",
    "\n",
    "p = umap.plot.interactive(valid_mapper, labels=validation_labels, hover_data=hover_data,point_size=5)\n",
    "output_notebook()\n",
    "show(p)"
   ]
  },
  {
   "cell_type": "code",
   "execution_count": 44,
   "metadata": {},
   "outputs": [
    {
     "data": {
      "text/plain": [
       "(5222, 600, 768)"
      ]
     },
     "execution_count": 44,
     "metadata": {},
     "output_type": "execute_result"
    }
   ],
   "source": [
    "TAPEncoded_train.shape"
   ]
  },
  {
   "cell_type": "code",
   "execution_count": 45,
   "metadata": {},
   "outputs": [
    {
     "data": {
      "text/html": [
       "\n",
       "    <div class=\"bk-root\">\n",
       "        <a href=\"https://bokeh.org\" target=\"_blank\" class=\"bk-logo bk-logo-small bk-logo-notebook\"></a>\n",
       "        <span id=\"1143\">Loading BokehJS ...</span>\n",
       "    </div>"
      ]
     },
     "metadata": {},
     "output_type": "display_data"
    },
    {
     "data": {
      "application/javascript": [
       "\n",
       "(function(root) {\n",
       "  function now() {\n",
       "    return new Date();\n",
       "  }\n",
       "\n",
       "  var force = true;\n",
       "\n",
       "  if (typeof root._bokeh_onload_callbacks === \"undefined\" || force === true) {\n",
       "    root._bokeh_onload_callbacks = [];\n",
       "    root._bokeh_is_loading = undefined;\n",
       "  }\n",
       "\n",
       "  var JS_MIME_TYPE = 'application/javascript';\n",
       "  var HTML_MIME_TYPE = 'text/html';\n",
       "  var EXEC_MIME_TYPE = 'application/vnd.bokehjs_exec.v0+json';\n",
       "  var CLASS_NAME = 'output_bokeh rendered_html';\n",
       "\n",
       "  /**\n",
       "   * Render data to the DOM node\n",
       "   */\n",
       "  function render(props, node) {\n",
       "    var script = document.createElement(\"script\");\n",
       "    node.appendChild(script);\n",
       "  }\n",
       "\n",
       "  /**\n",
       "   * Handle when an output is cleared or removed\n",
       "   */\n",
       "  function handleClearOutput(event, handle) {\n",
       "    var cell = handle.cell;\n",
       "\n",
       "    var id = cell.output_area._bokeh_element_id;\n",
       "    var server_id = cell.output_area._bokeh_server_id;\n",
       "    // Clean up Bokeh references\n",
       "    if (id != null && id in Bokeh.index) {\n",
       "      Bokeh.index[id].model.document.clear();\n",
       "      delete Bokeh.index[id];\n",
       "    }\n",
       "\n",
       "    if (server_id !== undefined) {\n",
       "      // Clean up Bokeh references\n",
       "      var cmd = \"from bokeh.io.state import curstate; print(curstate().uuid_to_server['\" + server_id + \"'].get_sessions()[0].document.roots[0]._id)\";\n",
       "      cell.notebook.kernel.execute(cmd, {\n",
       "        iopub: {\n",
       "          output: function(msg) {\n",
       "            var id = msg.content.text.trim();\n",
       "            if (id in Bokeh.index) {\n",
       "              Bokeh.index[id].model.document.clear();\n",
       "              delete Bokeh.index[id];\n",
       "            }\n",
       "          }\n",
       "        }\n",
       "      });\n",
       "      // Destroy server and session\n",
       "      var cmd = \"import bokeh.io.notebook as ion; ion.destroy_server('\" + server_id + \"')\";\n",
       "      cell.notebook.kernel.execute(cmd);\n",
       "    }\n",
       "  }\n",
       "\n",
       "  /**\n",
       "   * Handle when a new output is added\n",
       "   */\n",
       "  function handleAddOutput(event, handle) {\n",
       "    var output_area = handle.output_area;\n",
       "    var output = handle.output;\n",
       "\n",
       "    // limit handleAddOutput to display_data with EXEC_MIME_TYPE content only\n",
       "    if ((output.output_type != \"display_data\") || (!output.data.hasOwnProperty(EXEC_MIME_TYPE))) {\n",
       "      return\n",
       "    }\n",
       "\n",
       "    var toinsert = output_area.element.find(\".\" + CLASS_NAME.split(' ')[0]);\n",
       "\n",
       "    if (output.metadata[EXEC_MIME_TYPE][\"id\"] !== undefined) {\n",
       "      toinsert[toinsert.length - 1].firstChild.textContent = output.data[JS_MIME_TYPE];\n",
       "      // store reference to embed id on output_area\n",
       "      output_area._bokeh_element_id = output.metadata[EXEC_MIME_TYPE][\"id\"];\n",
       "    }\n",
       "    if (output.metadata[EXEC_MIME_TYPE][\"server_id\"] !== undefined) {\n",
       "      var bk_div = document.createElement(\"div\");\n",
       "      bk_div.innerHTML = output.data[HTML_MIME_TYPE];\n",
       "      var script_attrs = bk_div.children[0].attributes;\n",
       "      for (var i = 0; i < script_attrs.length; i++) {\n",
       "        toinsert[toinsert.length - 1].firstChild.setAttribute(script_attrs[i].name, script_attrs[i].value);\n",
       "        toinsert[toinsert.length - 1].firstChild.textContent = bk_div.children[0].textContent\n",
       "      }\n",
       "      // store reference to server id on output_area\n",
       "      output_area._bokeh_server_id = output.metadata[EXEC_MIME_TYPE][\"server_id\"];\n",
       "    }\n",
       "  }\n",
       "\n",
       "  function register_renderer(events, OutputArea) {\n",
       "\n",
       "    function append_mime(data, metadata, element) {\n",
       "      // create a DOM node to render to\n",
       "      var toinsert = this.create_output_subarea(\n",
       "        metadata,\n",
       "        CLASS_NAME,\n",
       "        EXEC_MIME_TYPE\n",
       "      );\n",
       "      this.keyboard_manager.register_events(toinsert);\n",
       "      // Render to node\n",
       "      var props = {data: data, metadata: metadata[EXEC_MIME_TYPE]};\n",
       "      render(props, toinsert[toinsert.length - 1]);\n",
       "      element.append(toinsert);\n",
       "      return toinsert\n",
       "    }\n",
       "\n",
       "    /* Handle when an output is cleared or removed */\n",
       "    events.on('clear_output.CodeCell', handleClearOutput);\n",
       "    events.on('delete.Cell', handleClearOutput);\n",
       "\n",
       "    /* Handle when a new output is added */\n",
       "    events.on('output_added.OutputArea', handleAddOutput);\n",
       "\n",
       "    /**\n",
       "     * Register the mime type and append_mime function with output_area\n",
       "     */\n",
       "    OutputArea.prototype.register_mime_type(EXEC_MIME_TYPE, append_mime, {\n",
       "      /* Is output safe? */\n",
       "      safe: true,\n",
       "      /* Index of renderer in `output_area.display_order` */\n",
       "      index: 0\n",
       "    });\n",
       "  }\n",
       "\n",
       "  // register the mime type if in Jupyter Notebook environment and previously unregistered\n",
       "  if (root.Jupyter !== undefined) {\n",
       "    var events = require('base/js/events');\n",
       "    var OutputArea = require('notebook/js/outputarea').OutputArea;\n",
       "\n",
       "    if (OutputArea.prototype.mime_types().indexOf(EXEC_MIME_TYPE) == -1) {\n",
       "      register_renderer(events, OutputArea);\n",
       "    }\n",
       "  }\n",
       "\n",
       "  \n",
       "  if (typeof (root._bokeh_timeout) === \"undefined\" || force === true) {\n",
       "    root._bokeh_timeout = Date.now() + 5000;\n",
       "    root._bokeh_failed_load = false;\n",
       "  }\n",
       "\n",
       "  var NB_LOAD_WARNING = {'data': {'text/html':\n",
       "     \"<div style='background-color: #fdd'>\\n\"+\n",
       "     \"<p>\\n\"+\n",
       "     \"BokehJS does not appear to have successfully loaded. If loading BokehJS from CDN, this \\n\"+\n",
       "     \"may be due to a slow or bad network connection. Possible fixes:\\n\"+\n",
       "     \"</p>\\n\"+\n",
       "     \"<ul>\\n\"+\n",
       "     \"<li>re-rerun `output_notebook()` to attempt to load from CDN again, or</li>\\n\"+\n",
       "     \"<li>use INLINE resources instead, as so:</li>\\n\"+\n",
       "     \"</ul>\\n\"+\n",
       "     \"<code>\\n\"+\n",
       "     \"from bokeh.resources import INLINE\\n\"+\n",
       "     \"output_notebook(resources=INLINE)\\n\"+\n",
       "     \"</code>\\n\"+\n",
       "     \"</div>\"}};\n",
       "\n",
       "  function display_loaded() {\n",
       "    var el = document.getElementById(\"1143\");\n",
       "    if (el != null) {\n",
       "      el.textContent = \"BokehJS is loading...\";\n",
       "    }\n",
       "    if (root.Bokeh !== undefined) {\n",
       "      if (el != null) {\n",
       "        el.textContent = \"BokehJS \" + root.Bokeh.version + \" successfully loaded.\";\n",
       "      }\n",
       "    } else if (Date.now() < root._bokeh_timeout) {\n",
       "      setTimeout(display_loaded, 100)\n",
       "    }\n",
       "  }\n",
       "\n",
       "\n",
       "  function run_callbacks() {\n",
       "    try {\n",
       "      root._bokeh_onload_callbacks.forEach(function(callback) {\n",
       "        if (callback != null)\n",
       "          callback();\n",
       "      });\n",
       "    } finally {\n",
       "      delete root._bokeh_onload_callbacks\n",
       "    }\n",
       "    console.debug(\"Bokeh: all callbacks have finished\");\n",
       "  }\n",
       "\n",
       "  function load_libs(css_urls, js_urls, callback) {\n",
       "    if (css_urls == null) css_urls = [];\n",
       "    if (js_urls == null) js_urls = [];\n",
       "\n",
       "    root._bokeh_onload_callbacks.push(callback);\n",
       "    if (root._bokeh_is_loading > 0) {\n",
       "      console.debug(\"Bokeh: BokehJS is being loaded, scheduling callback at\", now());\n",
       "      return null;\n",
       "    }\n",
       "    if (js_urls == null || js_urls.length === 0) {\n",
       "      run_callbacks();\n",
       "      return null;\n",
       "    }\n",
       "    console.debug(\"Bokeh: BokehJS not loaded, scheduling load and callback at\", now());\n",
       "    root._bokeh_is_loading = css_urls.length + js_urls.length;\n",
       "\n",
       "    function on_load() {\n",
       "      root._bokeh_is_loading--;\n",
       "      if (root._bokeh_is_loading === 0) {\n",
       "        console.debug(\"Bokeh: all BokehJS libraries/stylesheets loaded\");\n",
       "        run_callbacks()\n",
       "      }\n",
       "    }\n",
       "\n",
       "    function on_error() {\n",
       "      console.error(\"failed to load \" + url);\n",
       "    }\n",
       "\n",
       "    for (var i = 0; i < css_urls.length; i++) {\n",
       "      var url = css_urls[i];\n",
       "      const element = document.createElement(\"link\");\n",
       "      element.onload = on_load;\n",
       "      element.onerror = on_error;\n",
       "      element.rel = \"stylesheet\";\n",
       "      element.type = \"text/css\";\n",
       "      element.href = url;\n",
       "      console.debug(\"Bokeh: injecting link tag for BokehJS stylesheet: \", url);\n",
       "      document.body.appendChild(element);\n",
       "    }\n",
       "\n",
       "    const hashes = {\"https://cdn.bokeh.org/bokeh/release/bokeh-2.1.0.min.js\": \"YobFyzPeVUsFQydHkJGsJL1kyfHnWxOlPc3EwaV22TmBaeGoXHLWx5aRRVPS9xlE\", \"https://cdn.bokeh.org/bokeh/release/bokeh-widgets-2.1.0.min.js\": \"NuAg9+TcTQQqvQCTtkCneRrpkTiMhhfiq0KHiBzx8ECiKiLWXHN6i6ia3q7b3eHu\", \"https://cdn.bokeh.org/bokeh/release/bokeh-tables-2.1.0.min.js\": \"uMVqQc8JqHitD67bXTn9a06Mrk3EiHRaZ18EJENQenAKJ/KL71SakdXYomZQpGRr\", \"https://cdn.bokeh.org/bokeh/release/bokeh-gl-2.1.0.min.js\": \"u+eGuEXC8aw0VSCm2mH+b/tQEAitUOYiR1H6SuIVEdUmXsf4vN8m/SmXpmjb7U/X\"};\n",
       "\n",
       "    for (var i = 0; i < js_urls.length; i++) {\n",
       "      var url = js_urls[i];\n",
       "      var element = document.createElement('script');\n",
       "      element.onload = on_load;\n",
       "      element.onerror = on_error;\n",
       "      element.async = false;\n",
       "      element.src = url;\n",
       "      if (url in hashes) {\n",
       "        element.crossOrigin = \"anonymous\";\n",
       "        element.integrity = \"sha384-\" + hashes[url];\n",
       "      }\n",
       "      console.debug(\"Bokeh: injecting script tag for BokehJS library: \", url);\n",
       "      document.head.appendChild(element);\n",
       "    }\n",
       "  };\n",
       "\n",
       "  function inject_raw_css(css) {\n",
       "    const element = document.createElement(\"style\");\n",
       "    element.appendChild(document.createTextNode(css));\n",
       "    document.body.appendChild(element);\n",
       "  }\n",
       "\n",
       "  \n",
       "  var js_urls = [\"https://cdn.bokeh.org/bokeh/release/bokeh-2.1.0.min.js\", \"https://cdn.bokeh.org/bokeh/release/bokeh-widgets-2.1.0.min.js\", \"https://cdn.bokeh.org/bokeh/release/bokeh-tables-2.1.0.min.js\", \"https://cdn.bokeh.org/bokeh/release/bokeh-gl-2.1.0.min.js\", \"https://unpkg.com/@holoviz/panel@^0.9.5/dist/panel.min.js\"];\n",
       "  var css_urls = [];\n",
       "  \n",
       "\n",
       "  var inline_js = [\n",
       "    function(Bokeh) {\n",
       "      inject_raw_css(\"table.panel-df {\\n    margin-left: auto;\\n    margin-right: auto;\\n    border: none;\\n    border-collapse: collapse;\\n    border-spacing: 0;\\n    color: black;\\n    font-size: 12px;\\n    table-layout: fixed;\\n    width: 100%;\\n}\\n\\n.panel-df tr, th, td {\\n    text-align: right;\\n    vertical-align: middle;\\n    padding: 0.5em 0.5em !important;\\n    line-height: normal;\\n    white-space: normal;\\n    max-width: none;\\n    border: none;\\n}\\n\\n.panel-df tbody {\\n    display: table-row-group;\\n    vertical-align: middle;\\n    border-color: inherit;\\n}\\n\\n.panel-df tbody tr:nth-child(odd) {\\n    background: #f5f5f5;\\n}\\n\\n.panel-df thead {\\n    border-bottom: 1px solid black;\\n    vertical-align: bottom;\\n}\\n\\n.panel-df tr:hover {\\n    background: lightblue !important;\\n    cursor: pointer;\\n}\\n\");\n",
       "    },\n",
       "    function(Bokeh) {\n",
       "      inject_raw_css(\".json-formatter-row {\\n  font-family: monospace;\\n}\\n.json-formatter-row,\\n.json-formatter-row a,\\n.json-formatter-row a:hover {\\n  color: black;\\n  text-decoration: none;\\n}\\n.json-formatter-row .json-formatter-row {\\n  margin-left: 1rem;\\n}\\n.json-formatter-row .json-formatter-children.json-formatter-empty {\\n  opacity: 0.5;\\n  margin-left: 1rem;\\n}\\n.json-formatter-row .json-formatter-children.json-formatter-empty:after {\\n  display: none;\\n}\\n.json-formatter-row .json-formatter-children.json-formatter-empty.json-formatter-object:after {\\n  content: \\\"No properties\\\";\\n}\\n.json-formatter-row .json-formatter-children.json-formatter-empty.json-formatter-array:after {\\n  content: \\\"[]\\\";\\n}\\n.json-formatter-row .json-formatter-string,\\n.json-formatter-row .json-formatter-stringifiable {\\n  color: green;\\n  white-space: pre;\\n  word-wrap: break-word;\\n}\\n.json-formatter-row .json-formatter-number {\\n  color: blue;\\n}\\n.json-formatter-row .json-formatter-boolean {\\n  color: red;\\n}\\n.json-formatter-row .json-formatter-null {\\n  color: #855A00;\\n}\\n.json-formatter-row .json-formatter-undefined {\\n  color: #ca0b69;\\n}\\n.json-formatter-row .json-formatter-function {\\n  color: #FF20ED;\\n}\\n.json-formatter-row .json-formatter-date {\\n  background-color: rgba(0, 0, 0, 0.05);\\n}\\n.json-formatter-row .json-formatter-url {\\n  text-decoration: underline;\\n  color: blue;\\n  cursor: pointer;\\n}\\n.json-formatter-row .json-formatter-bracket {\\n  color: blue;\\n}\\n.json-formatter-row .json-formatter-key {\\n  color: #00008B;\\n  padding-right: 0.2rem;\\n}\\n.json-formatter-row .json-formatter-toggler-link {\\n  cursor: pointer;\\n}\\n.json-formatter-row .json-formatter-toggler {\\n  line-height: 1.2rem;\\n  font-size: 0.7rem;\\n  vertical-align: middle;\\n  opacity: 0.6;\\n  cursor: pointer;\\n  padding-right: 0.2rem;\\n}\\n.json-formatter-row .json-formatter-toggler:after {\\n  display: inline-block;\\n  transition: transform 100ms ease-in;\\n  content: \\\"\\\\25BA\\\";\\n}\\n.json-formatter-row > a > .json-formatter-preview-text {\\n  opacity: 0;\\n  transition: opacity 0.15s ease-in;\\n  font-style: italic;\\n}\\n.json-formatter-row:hover > a > .json-formatter-preview-text {\\n  opacity: 0.6;\\n}\\n.json-formatter-row.json-formatter-open > .json-formatter-toggler-link .json-formatter-toggler:after {\\n  transform: rotate(90deg);\\n}\\n.json-formatter-row.json-formatter-open > .json-formatter-children:after {\\n  display: inline-block;\\n}\\n.json-formatter-row.json-formatter-open > a > .json-formatter-preview-text {\\n  display: none;\\n}\\n.json-formatter-row.json-formatter-open.json-formatter-empty:after {\\n  display: block;\\n}\\n.json-formatter-dark.json-formatter-row {\\n  font-family: monospace;\\n}\\n.json-formatter-dark.json-formatter-row,\\n.json-formatter-dark.json-formatter-row a,\\n.json-formatter-dark.json-formatter-row a:hover {\\n  color: white;\\n  text-decoration: none;\\n}\\n.json-formatter-dark.json-formatter-row .json-formatter-row {\\n  margin-left: 1rem;\\n}\\n.json-formatter-dark.json-formatter-row .json-formatter-children.json-formatter-empty {\\n  opacity: 0.5;\\n  margin-left: 1rem;\\n}\\n.json-formatter-dark.json-formatter-row .json-formatter-children.json-formatter-empty:after {\\n  display: none;\\n}\\n.json-formatter-dark.json-formatter-row .json-formatter-children.json-formatter-empty.json-formatter-object:after {\\n  content: \\\"No properties\\\";\\n}\\n.json-formatter-dark.json-formatter-row .json-formatter-children.json-formatter-empty.json-formatter-array:after {\\n  content: \\\"[]\\\";\\n}\\n.json-formatter-dark.json-formatter-row .json-formatter-string,\\n.json-formatter-dark.json-formatter-row .json-formatter-stringifiable {\\n  color: #31F031;\\n  white-space: pre;\\n  word-wrap: break-word;\\n}\\n.json-formatter-dark.json-formatter-row .json-formatter-number {\\n  color: #66C2FF;\\n}\\n.json-formatter-dark.json-formatter-row .json-formatter-boolean {\\n  color: #EC4242;\\n}\\n.json-formatter-dark.json-formatter-row .json-formatter-null {\\n  color: #EEC97D;\\n}\\n.json-formatter-dark.json-formatter-row .json-formatter-undefined {\\n  color: #ef8fbe;\\n}\\n.json-formatter-dark.json-formatter-row .json-formatter-function {\\n  color: #FD48CB;\\n}\\n.json-formatter-dark.json-formatter-row .json-formatter-date {\\n  background-color: rgba(255, 255, 255, 0.05);\\n}\\n.json-formatter-dark.json-formatter-row .json-formatter-url {\\n  text-decoration: underline;\\n  color: #027BFF;\\n  cursor: pointer;\\n}\\n.json-formatter-dark.json-formatter-row .json-formatter-bracket {\\n  color: #9494FF;\\n}\\n.json-formatter-dark.json-formatter-row .json-formatter-key {\\n  color: #23A0DB;\\n  padding-right: 0.2rem;\\n}\\n.json-formatter-dark.json-formatter-row .json-formatter-toggler-link {\\n  cursor: pointer;\\n}\\n.json-formatter-dark.json-formatter-row .json-formatter-toggler {\\n  line-height: 1.2rem;\\n  font-size: 0.7rem;\\n  vertical-align: middle;\\n  opacity: 0.6;\\n  cursor: pointer;\\n  padding-right: 0.2rem;\\n}\\n.json-formatter-dark.json-formatter-row .json-formatter-toggler:after {\\n  display: inline-block;\\n  transition: transform 100ms ease-in;\\n  content: \\\"\\\\25BA\\\";\\n}\\n.json-formatter-dark.json-formatter-row > a > .json-formatter-preview-text {\\n  opacity: 0;\\n  transition: opacity 0.15s ease-in;\\n  font-style: italic;\\n}\\n.json-formatter-dark.json-formatter-row:hover > a > .json-formatter-preview-text {\\n  opacity: 0.6;\\n}\\n.json-formatter-dark.json-formatter-row.json-formatter-open > .json-formatter-toggler-link .json-formatter-toggler:after {\\n  transform: rotate(90deg);\\n}\\n.json-formatter-dark.json-formatter-row.json-formatter-open > .json-formatter-children:after {\\n  display: inline-block;\\n}\\n.json-formatter-dark.json-formatter-row.json-formatter-open > a > .json-formatter-preview-text {\\n  display: none;\\n}\\n.json-formatter-dark.json-formatter-row.json-formatter-open.json-formatter-empty:after {\\n  display: block;\\n}\\n\");\n",
       "    },\n",
       "    function(Bokeh) {\n",
       "      inject_raw_css(\".codehilite .hll { background-color: #ffffcc }\\n.codehilite  { background: #f8f8f8; }\\n.codehilite .c { color: #408080; font-style: italic } /* Comment */\\n.codehilite .err { border: 1px solid #FF0000 } /* Error */\\n.codehilite .k { color: #008000; font-weight: bold } /* Keyword */\\n.codehilite .o { color: #666666 } /* Operator */\\n.codehilite .ch { color: #408080; font-style: italic } /* Comment.Hashbang */\\n.codehilite .cm { color: #408080; font-style: italic } /* Comment.Multiline */\\n.codehilite .cp { color: #BC7A00 } /* Comment.Preproc */\\n.codehilite .cpf { color: #408080; font-style: italic } /* Comment.PreprocFile */\\n.codehilite .c1 { color: #408080; font-style: italic } /* Comment.Single */\\n.codehilite .cs { color: #408080; font-style: italic } /* Comment.Special */\\n.codehilite .gd { color: #A00000 } /* Generic.Deleted */\\n.codehilite .ge { font-style: italic } /* Generic.Emph */\\n.codehilite .gr { color: #FF0000 } /* Generic.Error */\\n.codehilite .gh { color: #000080; font-weight: bold } /* Generic.Heading */\\n.codehilite .gi { color: #00A000 } /* Generic.Inserted */\\n.codehilite .go { color: #888888 } /* Generic.Output */\\n.codehilite .gp { color: #000080; font-weight: bold } /* Generic.Prompt */\\n.codehilite .gs { font-weight: bold } /* Generic.Strong */\\n.codehilite .gu { color: #800080; font-weight: bold } /* Generic.Subheading */\\n.codehilite .gt { color: #0044DD } /* Generic.Traceback */\\n.codehilite .kc { color: #008000; font-weight: bold } /* Keyword.Constant */\\n.codehilite .kd { color: #008000; font-weight: bold } /* Keyword.Declaration */\\n.codehilite .kn { color: #008000; font-weight: bold } /* Keyword.Namespace */\\n.codehilite .kp { color: #008000 } /* Keyword.Pseudo */\\n.codehilite .kr { color: #008000; font-weight: bold } /* Keyword.Reserved */\\n.codehilite .kt { color: #B00040 } /* Keyword.Type */\\n.codehilite .m { color: #666666 } /* Literal.Number */\\n.codehilite .s { color: #BA2121 } /* Literal.String */\\n.codehilite .na { color: #7D9029 } /* Name.Attribute */\\n.codehilite .nb { color: #008000 } /* Name.Builtin */\\n.codehilite .nc { color: #0000FF; font-weight: bold } /* Name.Class */\\n.codehilite .no { color: #880000 } /* Name.Constant */\\n.codehilite .nd { color: #AA22FF } /* Name.Decorator */\\n.codehilite .ni { color: #999999; font-weight: bold } /* Name.Entity */\\n.codehilite .ne { color: #D2413A; font-weight: bold } /* Name.Exception */\\n.codehilite .nf { color: #0000FF } /* Name.Function */\\n.codehilite .nl { color: #A0A000 } /* Name.Label */\\n.codehilite .nn { color: #0000FF; font-weight: bold } /* Name.Namespace */\\n.codehilite .nt { color: #008000; font-weight: bold } /* Name.Tag */\\n.codehilite .nv { color: #19177C } /* Name.Variable */\\n.codehilite .ow { color: #AA22FF; font-weight: bold } /* Operator.Word */\\n.codehilite .w { color: #bbbbbb } /* Text.Whitespace */\\n.codehilite .mb { color: #666666 } /* Literal.Number.Bin */\\n.codehilite .mf { color: #666666 } /* Literal.Number.Float */\\n.codehilite .mh { color: #666666 } /* Literal.Number.Hex */\\n.codehilite .mi { color: #666666 } /* Literal.Number.Integer */\\n.codehilite .mo { color: #666666 } /* Literal.Number.Oct */\\n.codehilite .sa { color: #BA2121 } /* Literal.String.Affix */\\n.codehilite .sb { color: #BA2121 } /* Literal.String.Backtick */\\n.codehilite .sc { color: #BA2121 } /* Literal.String.Char */\\n.codehilite .dl { color: #BA2121 } /* Literal.String.Delimiter */\\n.codehilite .sd { color: #BA2121; font-style: italic } /* Literal.String.Doc */\\n.codehilite .s2 { color: #BA2121 } /* Literal.String.Double */\\n.codehilite .se { color: #BB6622; font-weight: bold } /* Literal.String.Escape */\\n.codehilite .sh { color: #BA2121 } /* Literal.String.Heredoc */\\n.codehilite .si { color: #BB6688; font-weight: bold } /* Literal.String.Interpol */\\n.codehilite .sx { color: #008000 } /* Literal.String.Other */\\n.codehilite .sr { color: #BB6688 } /* Literal.String.Regex */\\n.codehilite .s1 { color: #BA2121 } /* Literal.String.Single */\\n.codehilite .ss { color: #19177C } /* Literal.String.Symbol */\\n.codehilite .bp { color: #008000 } /* Name.Builtin.Pseudo */\\n.codehilite .fm { color: #0000FF } /* Name.Function.Magic */\\n.codehilite .vc { color: #19177C } /* Name.Variable.Class */\\n.codehilite .vg { color: #19177C } /* Name.Variable.Global */\\n.codehilite .vi { color: #19177C } /* Name.Variable.Instance */\\n.codehilite .vm { color: #19177C } /* Name.Variable.Magic */\\n.codehilite .il { color: #666666 } /* Literal.Number.Integer.Long */\\n\\n.markdown h1 { margin-block-start: 0.34em }\\n.markdown h2 { margin-block-start: 0.42em }\\n.markdown h3 { margin-block-start: 0.5em }\\n.markdown h4 { margin-block-start: 0.67em }\\n.markdown h5 { margin-block-start: 0.84em }\\n.markdown h6 { margin-block-start: 1.17em }\\n.markdown ul { padding-inline-start: 2em }\\n.markdown ol { padding-inline-start: 2em }\\n.markdown strong { font-weight: 600 }\\n.markdown a { color: -webkit-link }\\n.markdown a { color: -moz-hyperlinkText }\\n\");\n",
       "    },\n",
       "    function(Bokeh) {\n",
       "      inject_raw_css(\".widget-box {\\n\\tmin-height: 20px;\\n\\tbackground-color: #f5f5f5;\\n\\tborder: 1px solid #e3e3e3 !important;\\n\\tborder-radius: 4px;\\n\\t-webkit-box-shadow: inset 0 1px 1px rgba(0,0,0,.05);\\n\\tbox-shadow: inset 0 1px 1px rgba(0,0,0,.05);\\n\\toverflow-x: hidden;\\n\\toverflow-y: hidden;\\n}\\n\\n.scrollable {\\n  overflow: scroll;\\n}\\n\\nprogress {\\n\\tappearance: none;\\n\\t-moz-appearance: none;\\n\\t-webkit-appearance: none;\\n\\n\\tborder: none;\\n\\theight: 20px;\\n\\tbackground-color: whiteSmoke;\\n\\tborder-radius: 3px;\\n\\tbox-shadow: 0 2px 3px rgba(0,0,0,.5) inset;\\n\\tcolor: royalblue;\\n\\tposition: relative;\\n\\tmargin: 0 0 1.5em;\\n}\\n\\nprogress[value]::-webkit-progress-bar {\\n\\tbackground-color: whiteSmoke;\\n\\tborder-radius: 3px;\\n\\tbox-shadow: 0 2px 3px rgba(0,0,0,.5) inset;\\n}\\n\\nprogress[value]::-webkit-progress-value {\\n\\tposition: relative;\\n\\n\\tbackground-size: 35px 20px, 100% 100%, 100% 100%;\\n\\tborder-radius:3px;\\n}\\n\\nprogress.active:not([value])::before {\\n\\tbackground-position: 10%;\\n\\tanimation-name: stripes;\\n\\tanimation-duration: 3s;\\n\\tanimation-timing-function: linear;\\n\\tanimation-iteration-count: infinite;\\n}\\n\\nprogress[value]::-moz-progress-bar {\\n\\tbackground-size: 35px 20px, 100% 100%, 100% 100%;\\n\\tborder-radius:3px;\\n}\\n\\nprogress:not([value])::-moz-progress-bar {\\n\\tborder-radius:3px;\\n\\tbackground:\\n\\tlinear-gradient(-45deg, transparent 33%, rgba(0, 0, 0, 0.2) 33%, rgba(0, 0, 0, 0.2) 66%, transparent 66%) left/2.5em 1.5em;\\n\\n}\\n\\nprogress.active:not([value])::-moz-progress-bar {\\n\\tbackground-position: 10%;\\n\\tanimation-name: stripes;\\n\\tanimation-duration: 3s;\\n\\tanimation-timing-function: linear;\\n\\tanimation-iteration-count: infinite;\\n}\\n\\nprogress.active:not([value])::-webkit-progress-bar {\\n\\tbackground-position: 10%;\\n\\tanimation-name: stripes;\\n\\tanimation-duration: 3s;\\n\\tanimation-timing-function: linear;\\n\\tanimation-iteration-count: infinite;\\n}\\n\\nprogress.primary[value]::-webkit-progress-value { background-color: #007bff; }\\nprogress.primary:not([value])::before { background-color: #007bff; }\\nprogress.primary:not([value])::-webkit-progress-bar { background-color: #007bff; }\\nprogress.primary::-moz-progress-bar { background-color: #007bff; }\\n\\nprogress.secondary[value]::-webkit-progress-value { background-color: #6c757d; }\\nprogress.secondary:not([value])::before { background-color: #6c757d; }\\nprogress.secondary:not([value])::-webkit-progress-bar { background-color: #6c757d; }\\nprogress.secondary::-moz-progress-bar { background-color: #6c757d; }\\n\\nprogress.success[value]::-webkit-progress-value { background-color: #28a745; }\\nprogress.success:not([value])::before { background-color: #28a745; }\\nprogress.success:not([value])::-webkit-progress-bar { background-color: #28a745; }\\nprogress.success::-moz-progress-bar { background-color: #28a745; }\\n\\nprogress.danger[value]::-webkit-progress-value { background-color: #dc3545; }\\nprogress.danger:not([value])::before { background-color: #dc3545; }\\nprogress.danger:not([value])::-webkit-progress-bar { background-color: #dc3545; }\\nprogress.danger::-moz-progress-bar { background-color: #dc3545; }\\n\\nprogress.warning[value]::-webkit-progress-value { background-color: #ffc107; }\\nprogress.warning:not([value])::before { background-color: #ffc107; }\\nprogress.warning:not([value])::-webkit-progress-bar { background-color: #ffc107; }\\nprogress.warning::-moz-progress-bar { background-color: #ffc107; }\\n\\nprogress.info[value]::-webkit-progress-value { background-color: #17a2b8; }\\nprogress.info:not([value])::before { background-color: #17a2b8; }\\nprogress.info:not([value])::-webkit-progress-bar { background-color: #17a2b8; }\\nprogress.info::-moz-progress-bar { background-color: #17a2b8; }\\n\\nprogress.light[value]::-webkit-progress-value { background-color: #f8f9fa; }\\nprogress.light:not([value])::before { background-color: #f8f9fa; }\\nprogress.light:not([value])::-webkit-progress-bar { background-color: #f8f9fa; }\\nprogress.light::-moz-progress-bar { background-color: #f8f9fa; }\\n\\nprogress.dark[value]::-webkit-progress-value { background-color: #343a40; }\\nprogress.dark:not([value])::-webkit-progress-bar { background-color: #343a40; }\\nprogress.dark:not([value])::before { background-color: #343a40; }\\nprogress.dark::-moz-progress-bar { background-color: #343a40; }\\n\\nprogress:not([value])::-webkit-progress-bar {\\n\\tborder-radius: 3px;\\n\\tbackground:\\n\\tlinear-gradient(-45deg, transparent 33%, rgba(0, 0, 0, 0.2) 33%, rgba(0, 0, 0, 0.2) 66%, transparent 66%) left/2.5em 1.5em;\\n}\\nprogress:not([value])::before {\\n\\tcontent:\\\" \\\";\\n\\tposition:absolute;\\n\\theight: 20px;\\n\\ttop:0;\\n\\tleft:0;\\n\\tright:0;\\n\\tbottom:0;\\n\\tborder-radius: 3px;\\n\\tbackground:\\n\\tlinear-gradient(-45deg, transparent 33%, rgba(0, 0, 0, 0.2) 33%, rgba(0, 0, 0, 0.2) 66%, transparent 66%) left/2.5em 1.5em;\\n}\\n\\n@keyframes stripes {\\n  from {background-position: 0%}\\n  to {background-position: 100%}\\n}\");\n",
       "    },\n",
       "    function(Bokeh) {\n",
       "      Bokeh.set_log_level(\"info\");\n",
       "    },\n",
       "    function(Bokeh) {\n",
       "    \n",
       "    \n",
       "    }\n",
       "  ];\n",
       "\n",
       "  function run_inline_js() {\n",
       "    \n",
       "    if (root.Bokeh !== undefined || force === true) {\n",
       "      \n",
       "    for (var i = 0; i < inline_js.length; i++) {\n",
       "      inline_js[i].call(root, root.Bokeh);\n",
       "    }\n",
       "    if (force === true) {\n",
       "        display_loaded();\n",
       "      }} else if (Date.now() < root._bokeh_timeout) {\n",
       "      setTimeout(run_inline_js, 100);\n",
       "    } else if (!root._bokeh_failed_load) {\n",
       "      console.log(\"Bokeh: BokehJS failed to load within specified timeout.\");\n",
       "      root._bokeh_failed_load = true;\n",
       "    } else if (force !== true) {\n",
       "      var cell = $(document.getElementById(\"1143\")).parents('.cell').data().cell;\n",
       "      cell.output_area.append_execute_result(NB_LOAD_WARNING)\n",
       "    }\n",
       "\n",
       "  }\n",
       "\n",
       "  if (root._bokeh_is_loading === 0) {\n",
       "    console.debug(\"Bokeh: BokehJS loaded, going straight to plotting\");\n",
       "    run_inline_js();\n",
       "  } else {\n",
       "    load_libs(css_urls, js_urls, function() {\n",
       "      console.debug(\"Bokeh: BokehJS plotting callback run at\", now());\n",
       "      run_inline_js();\n",
       "    });\n",
       "  }\n",
       "}(window));"
      ],
      "application/vnd.bokehjs_load.v0+json": "\n(function(root) {\n  function now() {\n    return new Date();\n  }\n\n  var force = true;\n\n  if (typeof root._bokeh_onload_callbacks === \"undefined\" || force === true) {\n    root._bokeh_onload_callbacks = [];\n    root._bokeh_is_loading = undefined;\n  }\n\n  \n\n  \n  if (typeof (root._bokeh_timeout) === \"undefined\" || force === true) {\n    root._bokeh_timeout = Date.now() + 5000;\n    root._bokeh_failed_load = false;\n  }\n\n  var NB_LOAD_WARNING = {'data': {'text/html':\n     \"<div style='background-color: #fdd'>\\n\"+\n     \"<p>\\n\"+\n     \"BokehJS does not appear to have successfully loaded. If loading BokehJS from CDN, this \\n\"+\n     \"may be due to a slow or bad network connection. Possible fixes:\\n\"+\n     \"</p>\\n\"+\n     \"<ul>\\n\"+\n     \"<li>re-rerun `output_notebook()` to attempt to load from CDN again, or</li>\\n\"+\n     \"<li>use INLINE resources instead, as so:</li>\\n\"+\n     \"</ul>\\n\"+\n     \"<code>\\n\"+\n     \"from bokeh.resources import INLINE\\n\"+\n     \"output_notebook(resources=INLINE)\\n\"+\n     \"</code>\\n\"+\n     \"</div>\"}};\n\n  function display_loaded() {\n    var el = document.getElementById(\"1143\");\n    if (el != null) {\n      el.textContent = \"BokehJS is loading...\";\n    }\n    if (root.Bokeh !== undefined) {\n      if (el != null) {\n        el.textContent = \"BokehJS \" + root.Bokeh.version + \" successfully loaded.\";\n      }\n    } else if (Date.now() < root._bokeh_timeout) {\n      setTimeout(display_loaded, 100)\n    }\n  }\n\n\n  function run_callbacks() {\n    try {\n      root._bokeh_onload_callbacks.forEach(function(callback) {\n        if (callback != null)\n          callback();\n      });\n    } finally {\n      delete root._bokeh_onload_callbacks\n    }\n    console.debug(\"Bokeh: all callbacks have finished\");\n  }\n\n  function load_libs(css_urls, js_urls, callback) {\n    if (css_urls == null) css_urls = [];\n    if (js_urls == null) js_urls = [];\n\n    root._bokeh_onload_callbacks.push(callback);\n    if (root._bokeh_is_loading > 0) {\n      console.debug(\"Bokeh: BokehJS is being loaded, scheduling callback at\", now());\n      return null;\n    }\n    if (js_urls == null || js_urls.length === 0) {\n      run_callbacks();\n      return null;\n    }\n    console.debug(\"Bokeh: BokehJS not loaded, scheduling load and callback at\", now());\n    root._bokeh_is_loading = css_urls.length + js_urls.length;\n\n    function on_load() {\n      root._bokeh_is_loading--;\n      if (root._bokeh_is_loading === 0) {\n        console.debug(\"Bokeh: all BokehJS libraries/stylesheets loaded\");\n        run_callbacks()\n      }\n    }\n\n    function on_error() {\n      console.error(\"failed to load \" + url);\n    }\n\n    for (var i = 0; i < css_urls.length; i++) {\n      var url = css_urls[i];\n      const element = document.createElement(\"link\");\n      element.onload = on_load;\n      element.onerror = on_error;\n      element.rel = \"stylesheet\";\n      element.type = \"text/css\";\n      element.href = url;\n      console.debug(\"Bokeh: injecting link tag for BokehJS stylesheet: \", url);\n      document.body.appendChild(element);\n    }\n\n    const hashes = {\"https://cdn.bokeh.org/bokeh/release/bokeh-2.1.0.min.js\": \"YobFyzPeVUsFQydHkJGsJL1kyfHnWxOlPc3EwaV22TmBaeGoXHLWx5aRRVPS9xlE\", \"https://cdn.bokeh.org/bokeh/release/bokeh-widgets-2.1.0.min.js\": \"NuAg9+TcTQQqvQCTtkCneRrpkTiMhhfiq0KHiBzx8ECiKiLWXHN6i6ia3q7b3eHu\", \"https://cdn.bokeh.org/bokeh/release/bokeh-tables-2.1.0.min.js\": \"uMVqQc8JqHitD67bXTn9a06Mrk3EiHRaZ18EJENQenAKJ/KL71SakdXYomZQpGRr\", \"https://cdn.bokeh.org/bokeh/release/bokeh-gl-2.1.0.min.js\": \"u+eGuEXC8aw0VSCm2mH+b/tQEAitUOYiR1H6SuIVEdUmXsf4vN8m/SmXpmjb7U/X\"};\n\n    for (var i = 0; i < js_urls.length; i++) {\n      var url = js_urls[i];\n      var element = document.createElement('script');\n      element.onload = on_load;\n      element.onerror = on_error;\n      element.async = false;\n      element.src = url;\n      if (url in hashes) {\n        element.crossOrigin = \"anonymous\";\n        element.integrity = \"sha384-\" + hashes[url];\n      }\n      console.debug(\"Bokeh: injecting script tag for BokehJS library: \", url);\n      document.head.appendChild(element);\n    }\n  };\n\n  function inject_raw_css(css) {\n    const element = document.createElement(\"style\");\n    element.appendChild(document.createTextNode(css));\n    document.body.appendChild(element);\n  }\n\n  \n  var js_urls = [\"https://cdn.bokeh.org/bokeh/release/bokeh-2.1.0.min.js\", \"https://cdn.bokeh.org/bokeh/release/bokeh-widgets-2.1.0.min.js\", \"https://cdn.bokeh.org/bokeh/release/bokeh-tables-2.1.0.min.js\", \"https://cdn.bokeh.org/bokeh/release/bokeh-gl-2.1.0.min.js\", \"https://unpkg.com/@holoviz/panel@^0.9.5/dist/panel.min.js\"];\n  var css_urls = [];\n  \n\n  var inline_js = [\n    function(Bokeh) {\n      inject_raw_css(\"table.panel-df {\\n    margin-left: auto;\\n    margin-right: auto;\\n    border: none;\\n    border-collapse: collapse;\\n    border-spacing: 0;\\n    color: black;\\n    font-size: 12px;\\n    table-layout: fixed;\\n    width: 100%;\\n}\\n\\n.panel-df tr, th, td {\\n    text-align: right;\\n    vertical-align: middle;\\n    padding: 0.5em 0.5em !important;\\n    line-height: normal;\\n    white-space: normal;\\n    max-width: none;\\n    border: none;\\n}\\n\\n.panel-df tbody {\\n    display: table-row-group;\\n    vertical-align: middle;\\n    border-color: inherit;\\n}\\n\\n.panel-df tbody tr:nth-child(odd) {\\n    background: #f5f5f5;\\n}\\n\\n.panel-df thead {\\n    border-bottom: 1px solid black;\\n    vertical-align: bottom;\\n}\\n\\n.panel-df tr:hover {\\n    background: lightblue !important;\\n    cursor: pointer;\\n}\\n\");\n    },\n    function(Bokeh) {\n      inject_raw_css(\".json-formatter-row {\\n  font-family: monospace;\\n}\\n.json-formatter-row,\\n.json-formatter-row a,\\n.json-formatter-row a:hover {\\n  color: black;\\n  text-decoration: none;\\n}\\n.json-formatter-row .json-formatter-row {\\n  margin-left: 1rem;\\n}\\n.json-formatter-row .json-formatter-children.json-formatter-empty {\\n  opacity: 0.5;\\n  margin-left: 1rem;\\n}\\n.json-formatter-row .json-formatter-children.json-formatter-empty:after {\\n  display: none;\\n}\\n.json-formatter-row .json-formatter-children.json-formatter-empty.json-formatter-object:after {\\n  content: \\\"No properties\\\";\\n}\\n.json-formatter-row .json-formatter-children.json-formatter-empty.json-formatter-array:after {\\n  content: \\\"[]\\\";\\n}\\n.json-formatter-row .json-formatter-string,\\n.json-formatter-row .json-formatter-stringifiable {\\n  color: green;\\n  white-space: pre;\\n  word-wrap: break-word;\\n}\\n.json-formatter-row .json-formatter-number {\\n  color: blue;\\n}\\n.json-formatter-row .json-formatter-boolean {\\n  color: red;\\n}\\n.json-formatter-row .json-formatter-null {\\n  color: #855A00;\\n}\\n.json-formatter-row .json-formatter-undefined {\\n  color: #ca0b69;\\n}\\n.json-formatter-row .json-formatter-function {\\n  color: #FF20ED;\\n}\\n.json-formatter-row .json-formatter-date {\\n  background-color: rgba(0, 0, 0, 0.05);\\n}\\n.json-formatter-row .json-formatter-url {\\n  text-decoration: underline;\\n  color: blue;\\n  cursor: pointer;\\n}\\n.json-formatter-row .json-formatter-bracket {\\n  color: blue;\\n}\\n.json-formatter-row .json-formatter-key {\\n  color: #00008B;\\n  padding-right: 0.2rem;\\n}\\n.json-formatter-row .json-formatter-toggler-link {\\n  cursor: pointer;\\n}\\n.json-formatter-row .json-formatter-toggler {\\n  line-height: 1.2rem;\\n  font-size: 0.7rem;\\n  vertical-align: middle;\\n  opacity: 0.6;\\n  cursor: pointer;\\n  padding-right: 0.2rem;\\n}\\n.json-formatter-row .json-formatter-toggler:after {\\n  display: inline-block;\\n  transition: transform 100ms ease-in;\\n  content: \\\"\\\\25BA\\\";\\n}\\n.json-formatter-row > a > .json-formatter-preview-text {\\n  opacity: 0;\\n  transition: opacity 0.15s ease-in;\\n  font-style: italic;\\n}\\n.json-formatter-row:hover > a > .json-formatter-preview-text {\\n  opacity: 0.6;\\n}\\n.json-formatter-row.json-formatter-open > .json-formatter-toggler-link .json-formatter-toggler:after {\\n  transform: rotate(90deg);\\n}\\n.json-formatter-row.json-formatter-open > .json-formatter-children:after {\\n  display: inline-block;\\n}\\n.json-formatter-row.json-formatter-open > a > .json-formatter-preview-text {\\n  display: none;\\n}\\n.json-formatter-row.json-formatter-open.json-formatter-empty:after {\\n  display: block;\\n}\\n.json-formatter-dark.json-formatter-row {\\n  font-family: monospace;\\n}\\n.json-formatter-dark.json-formatter-row,\\n.json-formatter-dark.json-formatter-row a,\\n.json-formatter-dark.json-formatter-row a:hover {\\n  color: white;\\n  text-decoration: none;\\n}\\n.json-formatter-dark.json-formatter-row .json-formatter-row {\\n  margin-left: 1rem;\\n}\\n.json-formatter-dark.json-formatter-row .json-formatter-children.json-formatter-empty {\\n  opacity: 0.5;\\n  margin-left: 1rem;\\n}\\n.json-formatter-dark.json-formatter-row .json-formatter-children.json-formatter-empty:after {\\n  display: none;\\n}\\n.json-formatter-dark.json-formatter-row .json-formatter-children.json-formatter-empty.json-formatter-object:after {\\n  content: \\\"No properties\\\";\\n}\\n.json-formatter-dark.json-formatter-row .json-formatter-children.json-formatter-empty.json-formatter-array:after {\\n  content: \\\"[]\\\";\\n}\\n.json-formatter-dark.json-formatter-row .json-formatter-string,\\n.json-formatter-dark.json-formatter-row .json-formatter-stringifiable {\\n  color: #31F031;\\n  white-space: pre;\\n  word-wrap: break-word;\\n}\\n.json-formatter-dark.json-formatter-row .json-formatter-number {\\n  color: #66C2FF;\\n}\\n.json-formatter-dark.json-formatter-row .json-formatter-boolean {\\n  color: #EC4242;\\n}\\n.json-formatter-dark.json-formatter-row .json-formatter-null {\\n  color: #EEC97D;\\n}\\n.json-formatter-dark.json-formatter-row .json-formatter-undefined {\\n  color: #ef8fbe;\\n}\\n.json-formatter-dark.json-formatter-row .json-formatter-function {\\n  color: #FD48CB;\\n}\\n.json-formatter-dark.json-formatter-row .json-formatter-date {\\n  background-color: rgba(255, 255, 255, 0.05);\\n}\\n.json-formatter-dark.json-formatter-row .json-formatter-url {\\n  text-decoration: underline;\\n  color: #027BFF;\\n  cursor: pointer;\\n}\\n.json-formatter-dark.json-formatter-row .json-formatter-bracket {\\n  color: #9494FF;\\n}\\n.json-formatter-dark.json-formatter-row .json-formatter-key {\\n  color: #23A0DB;\\n  padding-right: 0.2rem;\\n}\\n.json-formatter-dark.json-formatter-row .json-formatter-toggler-link {\\n  cursor: pointer;\\n}\\n.json-formatter-dark.json-formatter-row .json-formatter-toggler {\\n  line-height: 1.2rem;\\n  font-size: 0.7rem;\\n  vertical-align: middle;\\n  opacity: 0.6;\\n  cursor: pointer;\\n  padding-right: 0.2rem;\\n}\\n.json-formatter-dark.json-formatter-row .json-formatter-toggler:after {\\n  display: inline-block;\\n  transition: transform 100ms ease-in;\\n  content: \\\"\\\\25BA\\\";\\n}\\n.json-formatter-dark.json-formatter-row > a > .json-formatter-preview-text {\\n  opacity: 0;\\n  transition: opacity 0.15s ease-in;\\n  font-style: italic;\\n}\\n.json-formatter-dark.json-formatter-row:hover > a > .json-formatter-preview-text {\\n  opacity: 0.6;\\n}\\n.json-formatter-dark.json-formatter-row.json-formatter-open > .json-formatter-toggler-link .json-formatter-toggler:after {\\n  transform: rotate(90deg);\\n}\\n.json-formatter-dark.json-formatter-row.json-formatter-open > .json-formatter-children:after {\\n  display: inline-block;\\n}\\n.json-formatter-dark.json-formatter-row.json-formatter-open > a > .json-formatter-preview-text {\\n  display: none;\\n}\\n.json-formatter-dark.json-formatter-row.json-formatter-open.json-formatter-empty:after {\\n  display: block;\\n}\\n\");\n    },\n    function(Bokeh) {\n      inject_raw_css(\".codehilite .hll { background-color: #ffffcc }\\n.codehilite  { background: #f8f8f8; }\\n.codehilite .c { color: #408080; font-style: italic } /* Comment */\\n.codehilite .err { border: 1px solid #FF0000 } /* Error */\\n.codehilite .k { color: #008000; font-weight: bold } /* Keyword */\\n.codehilite .o { color: #666666 } /* Operator */\\n.codehilite .ch { color: #408080; font-style: italic } /* Comment.Hashbang */\\n.codehilite .cm { color: #408080; font-style: italic } /* Comment.Multiline */\\n.codehilite .cp { color: #BC7A00 } /* Comment.Preproc */\\n.codehilite .cpf { color: #408080; font-style: italic } /* Comment.PreprocFile */\\n.codehilite .c1 { color: #408080; font-style: italic } /* Comment.Single */\\n.codehilite .cs { color: #408080; font-style: italic } /* Comment.Special */\\n.codehilite .gd { color: #A00000 } /* Generic.Deleted */\\n.codehilite .ge { font-style: italic } /* Generic.Emph */\\n.codehilite .gr { color: #FF0000 } /* Generic.Error */\\n.codehilite .gh { color: #000080; font-weight: bold } /* Generic.Heading */\\n.codehilite .gi { color: #00A000 } /* Generic.Inserted */\\n.codehilite .go { color: #888888 } /* Generic.Output */\\n.codehilite .gp { color: #000080; font-weight: bold } /* Generic.Prompt */\\n.codehilite .gs { font-weight: bold } /* Generic.Strong */\\n.codehilite .gu { color: #800080; font-weight: bold } /* Generic.Subheading */\\n.codehilite .gt { color: #0044DD } /* Generic.Traceback */\\n.codehilite .kc { color: #008000; font-weight: bold } /* Keyword.Constant */\\n.codehilite .kd { color: #008000; font-weight: bold } /* Keyword.Declaration */\\n.codehilite .kn { color: #008000; font-weight: bold } /* Keyword.Namespace */\\n.codehilite .kp { color: #008000 } /* Keyword.Pseudo */\\n.codehilite .kr { color: #008000; font-weight: bold } /* Keyword.Reserved */\\n.codehilite .kt { color: #B00040 } /* Keyword.Type */\\n.codehilite .m { color: #666666 } /* Literal.Number */\\n.codehilite .s { color: #BA2121 } /* Literal.String */\\n.codehilite .na { color: #7D9029 } /* Name.Attribute */\\n.codehilite .nb { color: #008000 } /* Name.Builtin */\\n.codehilite .nc { color: #0000FF; font-weight: bold } /* Name.Class */\\n.codehilite .no { color: #880000 } /* Name.Constant */\\n.codehilite .nd { color: #AA22FF } /* Name.Decorator */\\n.codehilite .ni { color: #999999; font-weight: bold } /* Name.Entity */\\n.codehilite .ne { color: #D2413A; font-weight: bold } /* Name.Exception */\\n.codehilite .nf { color: #0000FF } /* Name.Function */\\n.codehilite .nl { color: #A0A000 } /* Name.Label */\\n.codehilite .nn { color: #0000FF; font-weight: bold } /* Name.Namespace */\\n.codehilite .nt { color: #008000; font-weight: bold } /* Name.Tag */\\n.codehilite .nv { color: #19177C } /* Name.Variable */\\n.codehilite .ow { color: #AA22FF; font-weight: bold } /* Operator.Word */\\n.codehilite .w { color: #bbbbbb } /* Text.Whitespace */\\n.codehilite .mb { color: #666666 } /* Literal.Number.Bin */\\n.codehilite .mf { color: #666666 } /* Literal.Number.Float */\\n.codehilite .mh { color: #666666 } /* Literal.Number.Hex */\\n.codehilite .mi { color: #666666 } /* Literal.Number.Integer */\\n.codehilite .mo { color: #666666 } /* Literal.Number.Oct */\\n.codehilite .sa { color: #BA2121 } /* Literal.String.Affix */\\n.codehilite .sb { color: #BA2121 } /* Literal.String.Backtick */\\n.codehilite .sc { color: #BA2121 } /* Literal.String.Char */\\n.codehilite .dl { color: #BA2121 } /* Literal.String.Delimiter */\\n.codehilite .sd { color: #BA2121; font-style: italic } /* Literal.String.Doc */\\n.codehilite .s2 { color: #BA2121 } /* Literal.String.Double */\\n.codehilite .se { color: #BB6622; font-weight: bold } /* Literal.String.Escape */\\n.codehilite .sh { color: #BA2121 } /* Literal.String.Heredoc */\\n.codehilite .si { color: #BB6688; font-weight: bold } /* Literal.String.Interpol */\\n.codehilite .sx { color: #008000 } /* Literal.String.Other */\\n.codehilite .sr { color: #BB6688 } /* Literal.String.Regex */\\n.codehilite .s1 { color: #BA2121 } /* Literal.String.Single */\\n.codehilite .ss { color: #19177C } /* Literal.String.Symbol */\\n.codehilite .bp { color: #008000 } /* Name.Builtin.Pseudo */\\n.codehilite .fm { color: #0000FF } /* Name.Function.Magic */\\n.codehilite .vc { color: #19177C } /* Name.Variable.Class */\\n.codehilite .vg { color: #19177C } /* Name.Variable.Global */\\n.codehilite .vi { color: #19177C } /* Name.Variable.Instance */\\n.codehilite .vm { color: #19177C } /* Name.Variable.Magic */\\n.codehilite .il { color: #666666 } /* Literal.Number.Integer.Long */\\n\\n.markdown h1 { margin-block-start: 0.34em }\\n.markdown h2 { margin-block-start: 0.42em }\\n.markdown h3 { margin-block-start: 0.5em }\\n.markdown h4 { margin-block-start: 0.67em }\\n.markdown h5 { margin-block-start: 0.84em }\\n.markdown h6 { margin-block-start: 1.17em }\\n.markdown ul { padding-inline-start: 2em }\\n.markdown ol { padding-inline-start: 2em }\\n.markdown strong { font-weight: 600 }\\n.markdown a { color: -webkit-link }\\n.markdown a { color: -moz-hyperlinkText }\\n\");\n    },\n    function(Bokeh) {\n      inject_raw_css(\".widget-box {\\n\\tmin-height: 20px;\\n\\tbackground-color: #f5f5f5;\\n\\tborder: 1px solid #e3e3e3 !important;\\n\\tborder-radius: 4px;\\n\\t-webkit-box-shadow: inset 0 1px 1px rgba(0,0,0,.05);\\n\\tbox-shadow: inset 0 1px 1px rgba(0,0,0,.05);\\n\\toverflow-x: hidden;\\n\\toverflow-y: hidden;\\n}\\n\\n.scrollable {\\n  overflow: scroll;\\n}\\n\\nprogress {\\n\\tappearance: none;\\n\\t-moz-appearance: none;\\n\\t-webkit-appearance: none;\\n\\n\\tborder: none;\\n\\theight: 20px;\\n\\tbackground-color: whiteSmoke;\\n\\tborder-radius: 3px;\\n\\tbox-shadow: 0 2px 3px rgba(0,0,0,.5) inset;\\n\\tcolor: royalblue;\\n\\tposition: relative;\\n\\tmargin: 0 0 1.5em;\\n}\\n\\nprogress[value]::-webkit-progress-bar {\\n\\tbackground-color: whiteSmoke;\\n\\tborder-radius: 3px;\\n\\tbox-shadow: 0 2px 3px rgba(0,0,0,.5) inset;\\n}\\n\\nprogress[value]::-webkit-progress-value {\\n\\tposition: relative;\\n\\n\\tbackground-size: 35px 20px, 100% 100%, 100% 100%;\\n\\tborder-radius:3px;\\n}\\n\\nprogress.active:not([value])::before {\\n\\tbackground-position: 10%;\\n\\tanimation-name: stripes;\\n\\tanimation-duration: 3s;\\n\\tanimation-timing-function: linear;\\n\\tanimation-iteration-count: infinite;\\n}\\n\\nprogress[value]::-moz-progress-bar {\\n\\tbackground-size: 35px 20px, 100% 100%, 100% 100%;\\n\\tborder-radius:3px;\\n}\\n\\nprogress:not([value])::-moz-progress-bar {\\n\\tborder-radius:3px;\\n\\tbackground:\\n\\tlinear-gradient(-45deg, transparent 33%, rgba(0, 0, 0, 0.2) 33%, rgba(0, 0, 0, 0.2) 66%, transparent 66%) left/2.5em 1.5em;\\n\\n}\\n\\nprogress.active:not([value])::-moz-progress-bar {\\n\\tbackground-position: 10%;\\n\\tanimation-name: stripes;\\n\\tanimation-duration: 3s;\\n\\tanimation-timing-function: linear;\\n\\tanimation-iteration-count: infinite;\\n}\\n\\nprogress.active:not([value])::-webkit-progress-bar {\\n\\tbackground-position: 10%;\\n\\tanimation-name: stripes;\\n\\tanimation-duration: 3s;\\n\\tanimation-timing-function: linear;\\n\\tanimation-iteration-count: infinite;\\n}\\n\\nprogress.primary[value]::-webkit-progress-value { background-color: #007bff; }\\nprogress.primary:not([value])::before { background-color: #007bff; }\\nprogress.primary:not([value])::-webkit-progress-bar { background-color: #007bff; }\\nprogress.primary::-moz-progress-bar { background-color: #007bff; }\\n\\nprogress.secondary[value]::-webkit-progress-value { background-color: #6c757d; }\\nprogress.secondary:not([value])::before { background-color: #6c757d; }\\nprogress.secondary:not([value])::-webkit-progress-bar { background-color: #6c757d; }\\nprogress.secondary::-moz-progress-bar { background-color: #6c757d; }\\n\\nprogress.success[value]::-webkit-progress-value { background-color: #28a745; }\\nprogress.success:not([value])::before { background-color: #28a745; }\\nprogress.success:not([value])::-webkit-progress-bar { background-color: #28a745; }\\nprogress.success::-moz-progress-bar { background-color: #28a745; }\\n\\nprogress.danger[value]::-webkit-progress-value { background-color: #dc3545; }\\nprogress.danger:not([value])::before { background-color: #dc3545; }\\nprogress.danger:not([value])::-webkit-progress-bar { background-color: #dc3545; }\\nprogress.danger::-moz-progress-bar { background-color: #dc3545; }\\n\\nprogress.warning[value]::-webkit-progress-value { background-color: #ffc107; }\\nprogress.warning:not([value])::before { background-color: #ffc107; }\\nprogress.warning:not([value])::-webkit-progress-bar { background-color: #ffc107; }\\nprogress.warning::-moz-progress-bar { background-color: #ffc107; }\\n\\nprogress.info[value]::-webkit-progress-value { background-color: #17a2b8; }\\nprogress.info:not([value])::before { background-color: #17a2b8; }\\nprogress.info:not([value])::-webkit-progress-bar { background-color: #17a2b8; }\\nprogress.info::-moz-progress-bar { background-color: #17a2b8; }\\n\\nprogress.light[value]::-webkit-progress-value { background-color: #f8f9fa; }\\nprogress.light:not([value])::before { background-color: #f8f9fa; }\\nprogress.light:not([value])::-webkit-progress-bar { background-color: #f8f9fa; }\\nprogress.light::-moz-progress-bar { background-color: #f8f9fa; }\\n\\nprogress.dark[value]::-webkit-progress-value { background-color: #343a40; }\\nprogress.dark:not([value])::-webkit-progress-bar { background-color: #343a40; }\\nprogress.dark:not([value])::before { background-color: #343a40; }\\nprogress.dark::-moz-progress-bar { background-color: #343a40; }\\n\\nprogress:not([value])::-webkit-progress-bar {\\n\\tborder-radius: 3px;\\n\\tbackground:\\n\\tlinear-gradient(-45deg, transparent 33%, rgba(0, 0, 0, 0.2) 33%, rgba(0, 0, 0, 0.2) 66%, transparent 66%) left/2.5em 1.5em;\\n}\\nprogress:not([value])::before {\\n\\tcontent:\\\" \\\";\\n\\tposition:absolute;\\n\\theight: 20px;\\n\\ttop:0;\\n\\tleft:0;\\n\\tright:0;\\n\\tbottom:0;\\n\\tborder-radius: 3px;\\n\\tbackground:\\n\\tlinear-gradient(-45deg, transparent 33%, rgba(0, 0, 0, 0.2) 33%, rgba(0, 0, 0, 0.2) 66%, transparent 66%) left/2.5em 1.5em;\\n}\\n\\n@keyframes stripes {\\n  from {background-position: 0%}\\n  to {background-position: 100%}\\n}\");\n    },\n    function(Bokeh) {\n      Bokeh.set_log_level(\"info\");\n    },\n    function(Bokeh) {\n    \n    \n    }\n  ];\n\n  function run_inline_js() {\n    \n    if (root.Bokeh !== undefined || force === true) {\n      \n    for (var i = 0; i < inline_js.length; i++) {\n      inline_js[i].call(root, root.Bokeh);\n    }\n    if (force === true) {\n        display_loaded();\n      }} else if (Date.now() < root._bokeh_timeout) {\n      setTimeout(run_inline_js, 100);\n    } else if (!root._bokeh_failed_load) {\n      console.log(\"Bokeh: BokehJS failed to load within specified timeout.\");\n      root._bokeh_failed_load = true;\n    } else if (force !== true) {\n      var cell = $(document.getElementById(\"1143\")).parents('.cell').data().cell;\n      cell.output_area.append_execute_result(NB_LOAD_WARNING)\n    }\n\n  }\n\n  if (root._bokeh_is_loading === 0) {\n    console.debug(\"Bokeh: BokehJS loaded, going straight to plotting\");\n    run_inline_js();\n  } else {\n    load_libs(css_urls, js_urls, function() {\n      console.debug(\"Bokeh: BokehJS plotting callback run at\", now());\n      run_inline_js();\n    });\n  }\n}(window));"
     },
     "metadata": {},
     "output_type": "display_data"
    },
    {
     "data": {
      "text/html": [
       "\n",
       "\n",
       "\n",
       "\n",
       "\n",
       "\n",
       "  <div class=\"bk-root\" id=\"602e9162-ca8d-4b98-aea0-a0f7cdc5a8b6\" data-root-id=\"1105\"></div>\n"
      ]
     },
     "metadata": {},
     "output_type": "display_data"
    },
    {
     "data": {
      "application/javascript": [
       "(function(root) {\n",
       "  function embed_document(root) {\n",
       "    \n",
       "  var docs_json = {\"fbf74cd7-a5d9-4dd9-9bb8-4b29f73b62ec\":{\"roots\":{\"references\":[{\"attributes\":{\"background_fill_color\":\"white\",\"below\":[{\"id\":\"1114\"}],\"center\":[{\"id\":\"1117\"},{\"id\":\"1121\"}],\"left\":[{\"id\":\"1118\"}],\"plot_height\":800,\"plot_width\":800,\"renderers\":[{\"id\":\"1141\"}],\"title\":{\"id\":\"1153\"},\"toolbar\":{\"id\":\"1130\"},\"x_range\":{\"id\":\"1106\"},\"x_scale\":{\"id\":\"1110\"},\"y_range\":{\"id\":\"1108\"},\"y_scale\":{\"id\":\"1112\"}},\"id\":\"1105\",\"subtype\":\"Figure\",\"type\":\"Plot\"},{\"attributes\":{},\"id\":\"1112\",\"type\":\"LinearScale\"},{\"attributes\":{\"active_drag\":\"auto\",\"active_inspect\":\"auto\",\"active_multi\":null,\"active_scroll\":\"auto\",\"active_tap\":\"auto\",\"tools\":[{\"id\":\"1122\"},{\"id\":\"1123\"},{\"id\":\"1124\"},{\"id\":\"1125\"},{\"id\":\"1126\"},{\"id\":\"1127\"},{\"id\":\"1129\"}]},\"id\":\"1130\",\"type\":\"Toolbar\"},{\"attributes\":{},\"id\":\"1126\",\"type\":\"ResetTool\"},{\"attributes\":{\"callback\":null,\"tooltips\":[[\"index\",\"@index\"],[\"label\",\"@label\"],[\"item\",\"@item\"]]},\"id\":\"1129\",\"type\":\"HoverTool\"},{\"attributes\":{\"text\":\"\"},\"id\":\"1153\",\"type\":\"Title\"},{\"attributes\":{},\"id\":\"1125\",\"type\":\"SaveTool\"},{\"attributes\":{\"fill_alpha\":{\"value\":0.1},\"fill_color\":{\"field\":\"color\"},\"line_alpha\":{\"value\":0.1},\"line_color\":{\"field\":\"color\"},\"size\":{\"units\":\"screen\",\"value\":5},\"x\":{\"field\":\"x\"},\"y\":{\"field\":\"y\"}},\"id\":\"1140\",\"type\":\"Circle\"},{\"attributes\":{},\"id\":\"1157\",\"type\":\"BasicTickFormatter\"},{\"attributes\":{},\"id\":\"1127\",\"type\":\"HelpTool\"},{\"attributes\":{},\"id\":\"1155\",\"type\":\"BasicTickFormatter\"},{\"attributes\":{\"fill_alpha\":{\"field\":\"alpha\"},\"fill_color\":{\"field\":\"color\"},\"line_alpha\":{\"field\":\"alpha\"},\"line_color\":{\"field\":\"color\"},\"size\":{\"units\":\"screen\",\"value\":5},\"x\":{\"field\":\"x\"},\"y\":{\"field\":\"y\"}},\"id\":\"1139\",\"type\":\"Circle\"},{\"attributes\":{},\"id\":\"1115\",\"type\":\"BasicTicker\"},{\"attributes\":{\"axis\":{\"id\":\"1118\"},\"dimension\":1,\"ticker\":null,\"visible\":false},\"id\":\"1121\",\"type\":\"Grid\"},{\"attributes\":{},\"id\":\"1122\",\"type\":\"PanTool\"},{\"attributes\":{},\"id\":\"1160\",\"type\":\"Selection\"},{\"attributes\":{},\"id\":\"1159\",\"type\":\"UnionRenderers\"},{\"attributes\":{\"overlay\":{\"id\":\"1128\"}},\"id\":\"1124\",\"type\":\"BoxZoomTool\"},{\"attributes\":{},\"id\":\"1106\",\"type\":\"DataRange1d\"},{\"attributes\":{},\"id\":\"1110\",\"type\":\"LinearScale\"},{\"attributes\":{\"data\":{\"alpha\":[1,1,1,1,1,1,1,1,1,1,1,1,1,1,1,1,1,1,1,1,1,1,1,1,1,1,1,1,1,1,1,1,1,1,1,1,1,1,1,1,1,1,1,1,1,1,1,1,1,1,1,1,1,1,1,1,1,1,1,1,1,1,1,1,1,1,1,1,1,1,1,1,1,1,1,1,1,1,1,1,1,1,1,1,1,1,1,1,1,1,1,1,1,1,1,1,1,1,1,1,1,1,1,1,1,1,1,1,1,1,1,1,1,1,1,1,1,1,1,1,1,1,1,1,1,1,1,1,1,1,1,1,1,1,1,1,1,1,1,1,1,1,1,1,1,1,1,1,1,1,1,1,1,1,1,1,1,1,1,1,1,1,1,1,1,1,1,1,1,1,1,1,1,1,1,1,1,1,1,1,1,1,1,1,1,1,1,1,1,1,1,1,1,1,1,1,1,1,1,1,1,1,1,1,1,1,1,1,1,1,1,1,1,1,1,1,1,1,1,1,1,1,1,1,1,1,1,1,1,1,1,1,1,1,1,1,1,1,1,1,1,1,1,1,1,1,1,1,1,1,1,1,1,1,1,1,1,1,1,1,1,1,1,1,1,1,1,1,1,1,1,1,1,1,1,1,1,1,1,1,1,1,1,1,1,1,1,1,1,1,1,1,1,1,1,1,1,1,1,1,1,1,1,1,1,1,1,1,1,1,1,1,1,1,1,1,1,1,1,1,1,1,1,1,1,1,1,1,1,1,1,1,1,1,1,1,1,1,1,1,1,1,1,1,1,1,1,1,1,1,1,1,1,1,1,1,1,1,1,1,1,1,1,1,1,1,1,1,1,1,1,1,1,1,1,1,1,1,1,1,1,1,1,1,1,1,1,1,1,1,1,1,1,1,1,1,1,1,1,1,1,1,1,1,1,1,1,1,1,1,1,1,1,1,1,1,1,1,1,1,1,1,1,1,1,1,1,1,1,1,1,1,1,1,1,1,1,1,1,1,1,1,1,1,1,1,1,1,1,1,1,1,1,1,1,1,1,1,1,1,1,1,1,1,1,1,1,1,1,1,1,1,1,1,1,1,1,1,1,1,1,1,1,1,1,1,1,1,1,1,1,1,1,1,1,1,1,1,1,1,1,1,1,1,1,1,1,1,1,1,1,1,1,1,1,1,1,1,1,1,1,1,1,1,1,1,1,1,1,1,1,1,1,1,1,1,1,1,1,1,1,1,1,1,1,1,1,1,1,1,1,1,1,1,1,1,1,1,1,1,1,1,1,1,1,1,1,1,1,1,1,1,1,1,1,1,1,1,1,1,1,1,1,1,1,1,1,1,1,1,1,1,1,1,1,1,1,1,1,1,1,1,1,1,1,1,1,1,1,1,1,1,1,1,1,1,1,1,1,1,1,1,1,1,1,1,1,1,1,1,1,1,1,1,1,1,1,1,1,1,1,1,1,1,1,1,1,1,1,1,1,1,1,1,1,1,1,1,1,1,1,1,1,1,1,1,1,1,1,1,1,1,1,1,1,1,1,1,1,1,1,1,1,1,1,1,1,1,1,1,1,1,1,1,1,1,1,1,1,1,1,1,1,1,1,1,1,1,1,1,1,1,1,1,1,1,1,1,1,1,1,1,1,1,1,1,1,1,1,1,1,1,1,1,1,1,1,1,1,1,1,1,1,1,1,1,1,1,1,1,1,1,1,1,1,1,1,1,1,1,1,1,1,1,1,1,1,1,1,1,1,1,1,1,1,1,1,1,1,1,1,1,1,1,1,1,1,1,1,1,1,1,1,1,1,1,1,1,1,1,1,1,1,1,1,1,1,1,1,1,1,1,1,1,1,1,1,1,1,1,1,1,1,1,1,1,1,1,1,1,1,1,1,1,1,1,1,1,1,1,1,1,1,1,1,1,1,1,1,1,1,1,1,1,1,1,1,1,1,1,1,1,1,1,1,1,1,1,1,1,1,1,1,1,1,1,1,1,1,1,1,1,1,1,1,1,1,1,1,1,1,1,1,1,1,1,1,1,1,1,1,1,1,1,1,1,1,1,1,1,1,1,1,1,1,1,1,1,1,1,1,1,1,1,1,1,1,1,1,1,1,1,1,1,1,1,1,1,1,1,1,1,1,1,1,1,1,1,1,1,1,1,1,1,1,1,1,1,1,1,1,1,1,1,1,1,1,1,1,1,1,1,1,1,1,1,1,1,1,1,1,1,1,1,1,1,1,1,1,1,1,1,1,1,1,1,1,1,1,1,1,1,1,1,1,1,1,1,1,1,1,1,1,1,1,1,1,1,1,1,1,1,1,1,1,1,1,1,1,1,1,1,1,1,1,1,1,1,1,1,1,1,1,1,1,1,1,1,1,1,1,1,1,1,1,1,1,1,1,1,1,1,1,1,1,1,1,1,1,1,1,1,1,1,1,1,1,1,1,1,1,1,1,1,1,1,1,1,1,1,1,1,1,1,1,1,1,1,1,1,1,1,1,1,1,1,1,1,1,1,1,1,1,1,1,1,1,1,1,1,1,1,1,1,1,1,1,1,1,1,1,1,1,1,1,1,1,1,1,1,1,1,1,1,1,1,1,1,1,1,1,1,1,1,1,1,1,1,1,1,1,1,1,1,1,1,1,1,1,1,1,1,1,1,1,1,1,1,1,1,1,1,1,1,1,1,1,1,1,1,1,1,1,1,1,1,1,1,1,1,1,1,1,1,1,1,1,1,1,1,1,1,1,1,1,1,1,1,1,1,1,1,1,1,1,1,1,1,1,1,1,1,1,1,1,1,1,1,1,1,1,1,1,1,1,1,1,1,1,1,1,1,1,1,1,1,1,1,1,1,1,1,1,1,1,1,1,1,1,1,1,1,1,1,1,1,1,1,1,1,1,1,1,1,1,1,1,1,1,1,1,1,1,1,1,1,1,1,1,1,1,1,1,1,1,1,1,1,1,1,1,1,1,1,1,1,1,1,1,1,1,1,1,1,1,1,1,1,1,1,1,1,1,1,1,1,1,1,1,1,1,1,1,1,1,1,1,1,1,1,1,1,1,1,1,1,1,1,1,1,1,1,1,1,1,1,1,1,1,1,1,1,1,1,1,1,1,1,1,1,1,1,1,1,1,1,1,1,1,1,1,1,1,1,1,1,1,1,1,1,1,1,1,1,1,1,1,1,1,1,1,1,1,1,1,1,1,1,1,1,1,1,1,1,1,1,1,1,1,1,1,1,1,1,1,1,1,1,1,1,1,1,1,1,1,1,1,1,1,1,1,1,1,1,1,1,1,1,1,1,1,1,1,1,1,1,1,1,1,1,1,1,1,1,1,1,1,1,1,1,1,1,1,1,1,1,1,1,1,1,1,1,1,1,1,1,1,1,1,1,1,1,1,1,1,1,1,1,1,1,1,1,1,1,1,1,1,1,1,1,1,1,1,1,1,1,1,1,1,1,1,1,1,1,1,1,1,1,1,1,1,1,1,1,1,1,1,1,1,1,1,1,1,1,1,1,1,1,1,1,1,1,1,1,1,1,1,1,1,1,1,1,1,1,1,1,1,1,1,1,1,1,1,1,1,1,1,1,1,1,1,1,1,1,1,1,1,1,1,1,1,1,1,1,1,1,1,1,1,1,1,1,1,1,1,1,1,1,1,1,1,1,1,1,1,1,1,1,1,1,1,1,1,1,1,1,1,1,1,1,1,1,1,1,1,1,1,1,1,1,1,1,1,1,1,1,1,1,1,1,1,1,1,1,1,1,1,1,1,1,1,1,1,1,1,1,1,1,1,1,1,1,1,1,1,1,1,1,1,1,1,1,1,1,1,1,1,1,1,1,1,1,1,1,1,1,1,1,1,1,1,1,1,1,1,1,1,1,1,1,1,1,1,1,1,1,1,1,1,1,1,1,1,1,1,1,1,1,1,1,1,1,1,1,1,1,1,1,1,1,1,1,1,1,1,1,1,1,1,1,1,1,1,1,1,1,1,1,1,1,1,1,1,1,1,1,1,1,1,1,1,1,1,1,1,1,1,1,1,1,1,1,1,1,1,1,1,1,1,1,1,1,1,1,1,1,1,1,1,1,1,1,1,1,1,1,1,1,1,1,1,1,1,1,1,1,1,1,1,1,1,1,1,1,1,1,1,1,1,1,1,1,1,1,1,1,1,1,1,1,1,1,1,1,1,1,1,1,1,1,1,1,1,1,1,1,1,1,1,1,1,1,1,1,1,1,1,1,1,1,1,1,1,1,1,1,1,1,1,1,1,1,1,1,1,1,1,1,1,1,1,1,1,1,1,1,1,1,1,1,1,1,1,1,1,1,1,1,1,1,1,1,1,1,1,1,1,1,1,1,1,1,1,1,1,1,1,1,1,1,1,1,1,1,1,1,1,1,1,1,1,1,1,1,1,1,1,1,1,1,1,1,1,1,1,1,1,1,1,1,1,1,1,1,1,1,1,1,1,1,1,1,1,1,1,1,1,1,1,1,1,1,1,1,1,1,1,1,1,1,1,1,1,1,1,1,1,1,1,1,1,1,1,1,1,1,1,1,1,1,1,1,1,1,1,1,1,1,1,1,1,1,1,1,1,1,1,1,1,1,1,1,1,1,1,1,1,1,1,1,1,1,1,1,1,1,1,1,1,1,1,1,1,1,1,1,1,1,1,1,1,1,1,1,1,1,1,1,1,1,1,1,1,1,1,1,1,1,1,1,1,1,1,1,1,1,1,1,1,1,1,1,1,1,1,1,1,1,1,1,1,1,1,1,1,1,1,1,1,1,1,1,1,1,1,1,1,1,1,1,1,1,1,1,1,1,1,1,1,1,1,1,1,1,1,1,1,1,1,1,1,1,1,1,1,1,1,1,1,1,1,1,1,1,1,1,1,1,1,1,1,1,1,1,1,1,1,1,1,1,1,1,1,1,1,1,1,1,1,1,1,1,1,1,1,1,1,1,1,1,1,1,1,1,1,1,1,1,1,1,1,1,1,1,1,1,1,1,1,1,1,1,1,1,1,1,1,1,1,1,1,1,1,1,1,1,1,1,1,1,1,1,1,1,1,1,1,1,1,1,1,1,1,1,1,1,1,1,1,1,1,1,1,1,1,1,1,1,1,1,1,1,1,1,1,1,1,1,1,1,1,1,1,1,1,1,1,1,1,1,1,1,1,1,1,1,1,1,1,1,1,1,1,1,1,1,1,1,1,1,1,1,1,1,1,1,1,1,1,1,1,1,1,1,1,1,1,1,1,1,1,1,1,1,1,1,1,1,1,1,1,1,1,1,1,1,1,1,1,1,1,1,1,1,1,1,1,1,1,1,1,1,1,1,1,1,1,1,1,1,1,1,1,1,1,1,1,1,1,1,1,1,1,1,1,1,1,1,1,1,1,1,1,1,1,1,1,1,1,1,1,1,1,1,1,1,1,1,1,1,1,1,1,1,1,1,1,1,1,1,1,1,1,1,1,1,1,1,1,1,1,1,1,1,1,1,1,1,1,1,1,1,1,1,1,1,1,1,1,1,1,1,1,1,1,1,1,1,1,1,1,1,1,1,1,1,1,1,1,1,1,1,1,1,1,1,1,1,1,1,1,1,1,1,1,1,1,1,1,1,1,1,1,1,1,1,1,1,1,1,1,1,1,1,1,1,1,1,1,1,1,1,1,1,1,1,1,1,1,1,1,1,1,1,1,1,1,1,1,1,1,1,1,1,1,1,1,1,1,1,1,1,1,1,1,1,1,1,1,1,1,1,1,1,1,1,1,1,1,1,1,1,1,1,1,1,1,1,1,1,1,1,1,1,1,1,1,1,1,1,1,1,1,1,1,1,1,1,1,1,1,1,1,1,1,1,1,1,1,1,1,1,1,1,1,1,1,1,1,1,1,1,1,1,1,1,1,1,1,1,1,1,1,1,1,1,1,1,1,1,1,1,1,1,1,1,1,1,1,1,1,1,1,1,1,1,1,1,1,1,1,1,1,1,1,1,1,1,1,1,1,1,1,1,1,1,1,1,1,1,1,1,1,1,1,1,1,1,1,1,1,1,1,1,1,1,1,1,1,1,1,1,1,1,1,1,1,1,1,1,1,1,1,1,1,1,1,1,1,1,1,1,1,1,1,1,1,1,1,1,1,1,1,1,1,1,1,1,1,1,1,1,1,1,1,1,1,1,1,1,1,1,1,1,1,1,1,1,1,1,1,1,1,1,1,1,1,1,1,1,1,1,1,1,1,1,1,1,1,1,1,1,1,1,1,1,1,1,1,1,1,1,1,1,1,1,1,1,1,1,1,1,1,1,1,1,1,1,1,1,1,1,1,1,1,1,1,1,1,1,1,1,1,1,1,1,1,1,1,1,1,1,1,1,1,1,1,1,1,1,1,1,1,1,1,1,1,1,1,1,1,1,1,1,1,1,1,1,1,1,1,1,1,1,1,1,1,1,1,1,1,1,1,1,1,1,1,1,1,1,1,1,1,1,1,1,1,1,1,1,1,1,1,1,1,1,1,1,1,1,1,1,1,1,1,1,1,1,1,1,1,1,1,1,1,1,1,1,1,1,1,1,1,1,1,1,1,1,1,1,1,1,1,1,1,1,1,1,1,1,1,1,1,1,1,1,1,1,1,1,1,1,1,1,1,1,1,1,1,1,1,1,1,1,1,1,1,1,1,1,1,1,1,1,1,1,1,1,1,1,1,1,1,1,1,1,1,1,1,1,1,1,1,1,1,1,1,1,1,1,1,1,1,1,1,1,1,1,1,1,1,1,1,1,1,1,1,1,1,1,1,1,1,1,1,1,1,1,1,1,1,1,1,1,1,1,1,1,1,1,1,1,1,1,1,1,1,1,1,1,1,1,1,1,1,1,1,1,1,1,1,1,1,1,1,1,1,1,1,1,1,1,1,1,1,1,1,1,1,1,1,1,1,1,1,1,1,1,1,1,1,1,1,1,1,1,1,1,1,1,1,1,1,1,1,1,1,1,1,1,1,1,1,1,1,1,1,1,1,1,1,1,1,1,1,1,1,1,1,1,1,1,1,1,1,1,1,1,1,1,1,1,1,1,1,1,1,1,1,1,1,1,1,1,1,1,1,1,1,1,1,1,1,1,1,1,1,1,1,1,1,1,1,1,1,1,1,1,1,1,1,1,1,1,1,1,1,1,1,1,1,1,1,1,1,1,1,1,1,1,1,1,1,1,1,1,1,1,1,1,1,1,1,1,1,1,1,1,1,1,1,1,1,1,1,1,1,1,1,1,1,1,1,1,1,1,1,1,1,1,1,1,1,1,1,1,1,1,1,1,1,1,1,1,1,1,1,1,1,1,1,1,1,1,1,1,1,1,1,1,1,1,1,1,1,1,1,1,1,1,1,1,1,1,1,1,1,1,1,1,1,1,1,1,1,1,1,1,1,1,1,1,1,1,1,1,1,1,1,1,1,1,1,1,1,1,1,1,1,1,1,1,1,1,1,1,1,1,1,1,1,1,1,1,1,1,1,1,1,1,1,1,1,1,1,1,1,1,1,1,1,1,1,1,1,1,1,1,1,1,1,1,1,1,1,1,1,1,1,1,1,1,1,1,1,1,1,1,1,1,1,1,1,1,1,1,1,1,1,1,1,1,1,1,1,1,1,1,1,1,1,1,1,1,1,1,1,1,1,1,1,1,1,1,1,1,1,1,1,1,1,1,1,1,1,1,1,1,1,1,1,1,1,1,1,1,1,1,1,1,1,1,1,1,1,1,1,1,1,1,1,1,1,1,1,1,1,1,1,1,1,1,1,1,1,1,1,1,1,1,1,1,1,1,1,1,1,1,1,1,1,1,1,1,1,1,1,1,1,1,1,1,1,1,1,1,1,1,1,1,1,1,1,1,1,1,1,1,1,1,1,1,1,1,1,1,1,1,1,1,1,1,1,1,1,1,1,1,1,1,1,1,1,1,1,1,1,1,1,1,1,1,1,1,1,1,1,1,1,1,1,1,1,1,1,1,1,1,1,1,1,1,1,1,1,1,1,1,1,1,1,1,1,1,1,1,1,1,1,1,1,1,1,1,1,1,1,1,1,1,1,1,1,1,1,1,1,1,1,1,1,1,1,1,1,1,1,1,1,1,1,1,1,1,1,1,1,1,1,1,1,1,1,1,1,1,1,1,1,1,1,1,1,1,1,1,1,1,1,1,1,1,1,1,1,1,1,1,1,1,1,1,1,1,1,1,1,1,1,1,1,1,1,1,1,1,1,1,1,1,1,1,1,1,1,1,1,1,1,1,1,1,1,1,1,1,1,1,1,1,1,1,1,1,1,1,1,1,1,1,1,1,1,1,1,1,1,1,1,1,1,1,1,1,1,1,1,1,1,1,1,1,1,1,1,1,1,1,1,1,1,1,1,1,1,1,1,1,1,1,1,1,1,1,1,1,1,1,1,1,1,1,1,1,1,1,1,1,1,1,1,1,1,1,1,1,1,1,1,1,1,1,1,1,1,1,1,1,1,1,1,1,1,1,1,1,1,1,1,1,1,1,1,1,1,1,1,1,1,1,1,1,1,1,1,1,1,1,1,1,1,1,1,1,1,1,1,1,1,1,1,1,1,1,1,1,1,1,1,1,1,1,1,1,1,1,1,1,1,1,1,1,1,1,1,1,1,1,1,1,1,1,1,1,1,1,1,1,1,1,1,1,1,1,1,1,1,1,1,1,1,1,1,1,1,1,1,1,1,1,1,1,1,1,1,1,1,1,1,1,1,1,1,1,1,1,1,1,1,1,1,1,1,1,1,1,1,1,1,1,1,1,1,1,1,1,1,1,1,1,1,1,1,1,1,1,1,1,1,1,1,1,1,1,1,1,1,1,1,1,1,1,1,1,1,1,1,1,1,1,1,1,1,1,1,1,1,1,1,1,1,1,1,1,1,1,1,1,1,1,1,1,1,1,1,1,1,1,1,1,1,1,1,1,1,1,1,1,1,1,1,1,1,1,1,1,1,1,1,1,1,1,1,1,1,1,1,1,1,1,1,1,1,1,1,1,1,1,1,1,1,1,1,1,1,1,1,1,1,1,1,1,1,1,1,1,1,1,1,1,1,1,1,1,1,1,1,1,1,1,1,1,1,1,1,1,1,1,1,1,1,1,1,1,1,1,1,1,1,1,1,1,1,1,1,1,1,1,1,1,1,1,1,1,1,1,1,1,1,1,1,1,1,1,1,1,1,1,1,1,1,1,1,1,1,1,1,1,1,1,1,1,1,1,1,1,1,1,1,1,1,1,1,1,1,1,1,1,1,1,1,1,1,1,1,1,1,1,1,1,1,1,1,1,1,1,1,1,1,1,1,1,1,1,1,1,1,1,1,1,1,1,1,1,1,1,1,1,1,1,1,1,1,1,1,1,1,1,1,1,1,1,1,1,1,1,1,1,1,1,1,1,1,1,1,1,1,1,1,1,1,1,1,1,1,1,1,1,1,1,1,1,1,1,1,1,1,1,1,1,1,1,1,1,1,1,1,1,1,1,1,1,1,1,1,1,1,1,1,1,1,1,1,1,1,1,1,1,1,1,1,1,1,1,1,1,1,1,1,1,1,1,1,1,1,1,1,1,1,1,1,1,1,1,1,1,1,1,1,1,1,1,1,1,1,1,1,1,1,1,1,1,1,1,1,1,1,1,1,1,1,1,1,1,1,1,1,1,1,1,1,1,1,1,1,1,1,1,1,1,1,1,1,1,1,1,1,1,1,1,1,1,1,1,1,1,1,1,1,1,1,1,1,1,1,1,1,1,1,1,1,1,1,1,1,1,1,1,1,1,1,1,1,1,1,1,1,1,1,1,1,1,1,1,1,1,1,1,1,1,1,1,1,1,1,1,1,1,1,1,1,1,1,1,1,1,1,1,1,1,1,1,1,1,1,1,1,1,1,1,1,1,1,1,1,1,1,1,1,1,1,1,1,1,1,1,1,1,1,1,1,1,1,1,1,1,1,1,1,1,1,1,1,1,1,1,1,1,1,1,1,1,1,1,1,1,1,1,1,1,1,1,1,1,1,1,1,1,1,1,1,1,1,1,1,1,1,1,1,1,1,1,1,1,1,1,1,1,1,1,1,1,1,1,1,1,1,1,1,1,1,1,1,1,1,1,1,1,1,1,1,1,1,1,1,1,1,1,1,1,1,1,1,1,1,1,1,1,1,1,1,1,1,1,1,1,1,1,1,1,1,1,1,1,1,1,1,1,1,1,1,1,1,1,1,1,1,1,1,1,1,1,1,1,1,1,1,1,1,1,1,1,1,1,1,1,1,1,1,1,1,1,1,1,1,1,1,1,1,1,1,1,1,1,1,1,1,1,1,1,1,1,1,1,1,1,1,1,1,1,1,1,1,1,1,1,1,1,1,1,1,1,1,1,1,1,1,1,1,1,1,1,1,1,1,1,1,1,1,1,1,1,1,1,1,1,1,1,1,1,1,1,1,1,1,1,1,1,1,1,1,1,1,1,1,1,1,1,1,1,1,1,1,1,1,1,1,1,1,1,1,1,1,1,1,1,1,1,1,1,1,1,1,1,1,1,1,1,1,1,1,1,1,1,1,1,1,1,1,1,1,1,1,1,1,1,1,1,1,1,1,1,1,1,1,1,1,1,1,1,1,1,1,1,1,1,1,1,1,1,1,1,1,1,1,1,1,1,1,1,1,1,1,1,1,1,1,1,1,1,1,1,1,1,1,1,1,1,1,1,1,1,1,1,1,1,1,1,1,1,1,1,1,1,1,1,1,1,1,1,1,1,1,1,1,1,1,1,1,1,1,1,1,1,1,1,1,1,1,1,1,1,1,1,1,1,1,1,1,1,1,1,1,1,1,1,1,1,1,1,1,1,1,1,1,1,1,1,1,1,1,1,1,1,1,1,1,1,1,1,1,1,1,1,1,1,1,1,1,1,1,1,1,1,1,1,1,1,1,1,1,1,1,1,1,1,1,1,1,1,1,1,1,1,1,1,1,1,1,1,1,1,1,1,1,1,1,1,1,1,1,1,1,1,1,1,1,1,1,1,1,1,1,1,1,1,1,1,1,1,1,1,1,1,1,1,1,1,1,1,1,1,1,1,1,1,1,1,1,1,1,1,1,1,1,1,1,1,1,1,1,1,1,1,1,1,1,1,1,1,1,1,1,1,1,1,1,1,1,1,1,1,1,1,1,1,1,1,1,1,1,1,1,1,1,1,1,1,1,1,1,1,1,1,1,1,1,1,1,1,1,1,1,1,1,1,1,1,1,1,1,1,1,1,1,1,1,1,1,1,1,1,1,1,1,1,1,1,1,1,1,1,1,1,1,1,1,1,1,1,1,1,1,1,1,1,1,1,1,1,1,1,1,1,1,1,1,1,1,1,1,1,1,1,1,1,1,1,1,1,1,1,1,1,1,1,1,1,1,1,1,1,1,1,1,1,1,1,1,1,1,1,1,1,1,1,1,1,1,1,1,1,1,1,1,1,1,1,1,1,1,1,1,1,1,1,1,1,1,1,1,1,1,1,1,1,1,1,1,1,1,1,1,1,1,1,1,1,1,1,1,1,1,1,1,1,1,1,1,1,1,1,1,1,1,1,1,1,1,1,1,1,1,1,1,1,1,1,1,1,1,1,1,1,1,1,1,1,1,1,1,1,1,1,1,1,1,1,1,1,1,1,1,1,1,1,1,1,1,1,1,1,1,1,1,1,1,1,1,1,1,1,1,1,1,1,1,1,1,1,1,1,1,1,1,1,1,1,1,1,1,1],\"color\":[\"#f47044\",\"#f47044\",\"#f47044\",\"#f47044\",\"#e1504b\",\"#f47044\",\"#f47044\",\"#f47044\",\"#f2faaa\",\"#f2faaa\",\"#f47044\",\"#f47044\",\"#99d6a4\",\"#f47044\",\"#fee491\",\"#f47044\",\"#fed683\",\"#f47044\",\"#9e0142\",\"#f47044\",\"#f47044\",\"#f47044\",\"#f47044\",\"#fee491\",\"#f47044\",\"#f47044\",\"#69c3a5\",\"#f47044\",\"#f47044\",\"#f47044\",\"#af1446\",\"#f47044\",\"#f47044\",\"#e9f69d\",\"#e9f69d\",\"#f47044\",\"#f47044\",\"#f47044\",\"#eb6046\",\"#af1446\",\"#fed683\",\"#f47044\",\"#f47044\",\"#f47044\",\"#69c3a5\",\"#81cda5\",\"#f47044\",\"#f47044\",\"#f47044\",\"#fed683\",\"#e1504b\",\"#58b2ac\",\"#69c3a5\",\"#f47044\",\"#f47044\",\"#fee491\",\"#f47044\",\"#f47044\",\"#f47044\",\"#99d6a4\",\"#f47044\",\"#f47044\",\"#9e0142\",\"#fed683\",\"#f47044\",\"#f47044\",\"#f47044\",\"#f47044\",\"#f47044\",\"#fed683\",\"#9e0142\",\"#f47044\",\"#f47044\",\"#81cda5\",\"#f47044\",\"#f47044\",\"#f47044\",\"#b1dfa3\",\"#f47044\",\"#f47044\",\"#fb9d59\",\"#f47044\",\"#eb6046\",\"#e9f69d\",\"#f47044\",\"#af1446\",\"#f47044\",\"#fed683\",\"#3389bd\",\"#f47044\",\"#f47044\",\"#f47044\",\"#b1dfa3\",\"#f47044\",\"#f47044\",\"#fbfdb8\",\"#e1504b\",\"#f47044\",\"#9e0142\",\"#f47044\",\"#fee491\",\"#fdb365\",\"#e9f69d\",\"#f47044\",\"#f47044\",\"#f47044\",\"#fbfdb8\",\"#fdb365\",\"#f47044\",\"#f47044\",\"#f47044\",\"#f47044\",\"#fbfdb8\",\"#fbfdb8\",\"#9e0142\",\"#99d6a4\",\"#e9f69d\",\"#f47044\",\"#f47044\",\"#fed683\",\"#fed683\",\"#f47044\",\"#f2faaa\",\"#f47044\",\"#f47044\",\"#f47044\",\"#f47044\",\"#f47044\",\"#f47044\",\"#fed683\",\"#fdb365\",\"#f47044\",\"#b1dfa3\",\"#fed683\",\"#f47044\",\"#fed683\",\"#5061aa\",\"#f47044\",\"#b1dfa3\",\"#c6e89f\",\"#9e0142\",\"#fbfdb8\",\"#f47044\",\"#fdb365\",\"#f47044\",\"#f47044\",\"#fed683\",\"#f47044\",\"#f47044\",\"#f2faaa\",\"#f47044\",\"#f47044\",\"#fbfdb8\",\"#f47044\",\"#f47044\",\"#f47044\",\"#fee491\",\"#f47044\",\"#f47044\",\"#f47044\",\"#f47044\",\"#f47044\",\"#f47044\",\"#f47044\",\"#f47044\",\"#fdb365\",\"#e9f69d\",\"#f47044\",\"#3389bd\",\"#fed683\",\"#f47044\",\"#f47044\",\"#f47044\",\"#f47044\",\"#58b2ac\",\"#f47044\",\"#f47044\",\"#f47044\",\"#fee491\",\"#f47044\",\"#d63f4f\",\"#e1504b\",\"#fee491\",\"#f47044\",\"#f47044\",\"#fed683\",\"#f47044\",\"#af1446\",\"#af1446\",\"#f47044\",\"#f47044\",\"#81cda5\",\"#f47044\",\"#f47044\",\"#f47044\",\"#d63f4f\",\"#f47044\",\"#69c3a5\",\"#fbfdb8\",\"#f47044\",\"#58b2ac\",\"#f47044\",\"#fed683\",\"#f47044\",\"#f47044\",\"#f47044\",\"#81cda5\",\"#fee491\",\"#fdb365\",\"#f47044\",\"#f47044\",\"#daf09a\",\"#daf09a\",\"#f47044\",\"#f47044\",\"#eb6046\",\"#69c3a5\",\"#f47044\",\"#f47044\",\"#f47044\",\"#f47044\",\"#d63f4f\",\"#f47044\",\"#f47044\",\"#58b2ac\",\"#f47044\",\"#f47044\",\"#f47044\",\"#b1dfa3\",\"#daf09a\",\"#459eb4\",\"#c6e89f\",\"#3389bd\",\"#fee491\",\"#d63f4f\",\"#f47044\",\"#fbfdb8\",\"#fffab6\",\"#e9f69d\",\"#fdb365\",\"#f47044\",\"#f47044\",\"#f47044\",\"#f47044\",\"#f47044\",\"#b1dfa3\",\"#f47044\",\"#f47044\",\"#f47044\",\"#9e0142\",\"#fdb365\",\"#f47044\",\"#f47044\",\"#f47044\",\"#81cda5\",\"#f47044\",\"#f47044\",\"#f47044\",\"#58b2ac\",\"#e9f69d\",\"#f47044\",\"#f47044\",\"#f47044\",\"#f47044\",\"#f47044\",\"#f47044\",\"#f47044\",\"#f47044\",\"#f47044\",\"#af1446\",\"#f47044\",\"#af1446\",\"#f47044\",\"#f47044\",\"#f47044\",\"#fed683\",\"#fdc574\",\"#fee491\",\"#fdb365\",\"#fed683\",\"#f47044\",\"#f47044\",\"#9e0142\",\"#f47044\",\"#f47044\",\"#f47044\",\"#fdb365\",\"#f47044\",\"#fbfdb8\",\"#f47044\",\"#e9f69d\",\"#f47044\",\"#58b2ac\",\"#fbfdb8\",\"#fed683\",\"#f47044\",\"#f47044\",\"#f47044\",\"#f47044\",\"#f47044\",\"#9e0142\",\"#f47044\",\"#f47044\",\"#f47044\",\"#f47044\",\"#eb6046\",\"#f47044\",\"#f47044\",\"#9e0142\",\"#fffab6\",\"#f47044\",\"#f47044\",\"#f47044\",\"#f47044\",\"#f47044\",\"#f47044\",\"#fffab6\",\"#b1dfa3\",\"#58b2ac\",\"#f47044\",\"#f47044\",\"#f47044\",\"#f47044\",\"#fffab6\",\"#daf09a\",\"#f47044\",\"#f47044\",\"#f47044\",\"#f47044\",\"#f47044\",\"#f47044\",\"#f47044\",\"#69c3a5\",\"#f47044\",\"#f47044\",\"#f47044\",\"#fbfdb8\",\"#f47044\",\"#f47044\",\"#f47044\",\"#9e0142\",\"#f47044\",\"#eb6046\",\"#fed683\",\"#fdb365\",\"#f47044\",\"#f47044\",\"#f47044\",\"#99d6a4\",\"#f47044\",\"#af1446\",\"#f47044\",\"#99d6a4\",\"#f47044\",\"#fee491\",\"#e1504b\",\"#f47044\",\"#3389bd\",\"#58b2ac\",\"#b1dfa3\",\"#99d6a4\",\"#f47044\",\"#fed683\",\"#af1446\",\"#f47044\",\"#e1504b\",\"#3389bd\",\"#af1446\",\"#f47044\",\"#f47044\",\"#fdb365\",\"#f47044\",\"#b1dfa3\",\"#f47044\",\"#fee491\",\"#f47044\",\"#fed683\",\"#f47044\",\"#f2faaa\",\"#fdb365\",\"#f47044\",\"#69c3a5\",\"#e9f69d\",\"#81cda5\",\"#fee491\",\"#f47044\",\"#fed683\",\"#af1446\",\"#f47044\",\"#f47044\",\"#fed683\",\"#d63f4f\",\"#81cda5\",\"#f47044\",\"#f47044\",\"#fed683\",\"#fed683\",\"#f47044\",\"#f47044\",\"#fed683\",\"#f47044\",\"#f47044\",\"#99d6a4\",\"#af1446\",\"#459eb4\",\"#f47044\",\"#e1504b\",\"#fed683\",\"#fee491\",\"#f47044\",\"#f47044\",\"#f47044\",\"#58b2ac\",\"#f47044\",\"#fffab6\",\"#f47044\",\"#f47044\",\"#f8864f\",\"#f47044\",\"#f47044\",\"#f47044\",\"#f47044\",\"#f47044\",\"#f47044\",\"#69c3a5\",\"#f47044\",\"#f47044\",\"#f47044\",\"#fed683\",\"#f47044\",\"#f47044\",\"#f47044\",\"#f47044\",\"#f47044\",\"#fed683\",\"#f47044\",\"#f47044\",\"#f47044\",\"#e9f69d\",\"#f47044\",\"#fdc574\",\"#5061aa\",\"#f47044\",\"#58b2ac\",\"#f47044\",\"#f47044\",\"#b1dfa3\",\"#e1504b\",\"#f47044\",\"#f47044\",\"#99d6a4\",\"#daf09a\",\"#f47044\",\"#fbfdb8\",\"#f47044\",\"#f47044\",\"#69c3a5\",\"#58b2ac\",\"#f47044\",\"#f47044\",\"#fed683\",\"#f47044\",\"#f47044\",\"#f47044\",\"#f47044\",\"#f47044\",\"#99d6a4\",\"#f47044\",\"#f47044\",\"#58b2ac\",\"#fb9d59\",\"#f47044\",\"#f47044\",\"#3389bd\",\"#f47044\",\"#af1446\",\"#f47044\",\"#f47044\",\"#f47044\",\"#fed683\",\"#f47044\",\"#f47044\",\"#9e0142\",\"#af1446\",\"#fed683\",\"#fee491\",\"#fed683\",\"#f47044\",\"#f47044\",\"#fed683\",\"#f47044\",\"#f47044\",\"#58b2ac\",\"#fed683\",\"#f47044\",\"#f47044\",\"#f47044\",\"#f47044\",\"#daf09a\",\"#fee491\",\"#fbfdb8\",\"#3389bd\",\"#fee491\",\"#e1504b\",\"#99d6a4\",\"#f47044\",\"#fdc574\",\"#f47044\",\"#fee491\",\"#f47044\",\"#f47044\",\"#f47044\",\"#af1446\",\"#f47044\",\"#9e0142\",\"#fee491\",\"#f47044\",\"#f47044\",\"#f47044\",\"#58b2ac\",\"#69c3a5\",\"#c6e89f\",\"#f47044\",\"#58b2ac\",\"#fee491\",\"#fbfdb8\",\"#f47044\",\"#fb9d59\",\"#f47044\",\"#fee491\",\"#e1504b\",\"#f47044\",\"#f47044\",\"#f47044\",\"#f47044\",\"#f47044\",\"#d63f4f\",\"#f47044\",\"#f47044\",\"#9e0142\",\"#daf09a\",\"#f8864f\",\"#fbfdb8\",\"#f47044\",\"#f47044\",\"#69c3a5\",\"#f47044\",\"#f47044\",\"#fed683\",\"#b1dfa3\",\"#f47044\",\"#f47044\",\"#9e0142\",\"#58b2ac\",\"#daf09a\",\"#fee491\",\"#f47044\",\"#f47044\",\"#f47044\",\"#f47044\",\"#9e0142\",\"#f47044\",\"#f47044\",\"#f47044\",\"#f47044\",\"#58b2ac\",\"#f47044\",\"#f47044\",\"#3389bd\",\"#fffab6\",\"#f47044\",\"#f47044\",\"#af1446\",\"#f47044\",\"#58b2ac\",\"#fed683\",\"#f47044\",\"#f47044\",\"#f47044\",\"#f47044\",\"#e9f69d\",\"#f47044\",\"#f47044\",\"#58b2ac\",\"#f47044\",\"#f47044\",\"#f2faaa\",\"#fffab6\",\"#fdb365\",\"#b1dfa3\",\"#f47044\",\"#f47044\",\"#e9f69d\",\"#f47044\",\"#f47044\",\"#e9f69d\",\"#f47044\",\"#f47044\",\"#58b2ac\",\"#f47044\",\"#f47044\",\"#f47044\",\"#fffab6\",\"#b1dfa3\",\"#f47044\",\"#9e0142\",\"#d63f4f\",\"#99d6a4\",\"#f47044\",\"#b1dfa3\",\"#f47044\",\"#f47044\",\"#f47044\",\"#f47044\",\"#f47044\",\"#fdc574\",\"#f47044\",\"#f47044\",\"#f47044\",\"#daf09a\",\"#9e0142\",\"#fdb365\",\"#f47044\",\"#fed683\",\"#f47044\",\"#99d6a4\",\"#f47044\",\"#f47044\",\"#f47044\",\"#f47044\",\"#fed683\",\"#f47044\",\"#d63f4f\",\"#f47044\",\"#f47044\",\"#f47044\",\"#f47044\",\"#f47044\",\"#fed683\",\"#af1446\",\"#f47044\",\"#f47044\",\"#f47044\",\"#58b2ac\",\"#f47044\",\"#e1504b\",\"#99d6a4\",\"#fed683\",\"#f47044\",\"#f47044\",\"#f47044\",\"#f47044\",\"#f47044\",\"#f47044\",\"#fdc574\",\"#f47044\",\"#69c3a5\",\"#f47044\",\"#fdb365\",\"#f47044\",\"#af1446\",\"#99d6a4\",\"#f47044\",\"#f47044\",\"#5061aa\",\"#f47044\",\"#69c3a5\",\"#f47044\",\"#f47044\",\"#f47044\",\"#58b2ac\",\"#9e0142\",\"#fdc574\",\"#fed683\",\"#58b2ac\",\"#5061aa\",\"#f47044\",\"#f47044\",\"#b1dfa3\",\"#f47044\",\"#daf09a\",\"#f47044\",\"#f47044\",\"#f47044\",\"#f47044\",\"#f47044\",\"#daf09a\",\"#99d6a4\",\"#f47044\",\"#99d6a4\",\"#f47044\",\"#f47044\",\"#f47044\",\"#f47044\",\"#f47044\",\"#69c3a5\",\"#fffab6\",\"#daf09a\",\"#fffab6\",\"#f47044\",\"#f47044\",\"#f47044\",\"#fee491\",\"#f8864f\",\"#f47044\",\"#f47044\",\"#fed683\",\"#f47044\",\"#fee491\",\"#f47044\",\"#58b2ac\",\"#fdb365\",\"#58b2ac\",\"#f47044\",\"#fee491\",\"#99d6a4\",\"#f47044\",\"#e9f69d\",\"#f47044\",\"#f47044\",\"#f47044\",\"#af1446\",\"#9e0142\",\"#e9f69d\",\"#fed683\",\"#b1dfa3\",\"#f47044\",\"#f47044\",\"#f47044\",\"#f47044\",\"#e9f69d\",\"#feefa3\",\"#e9f69d\",\"#af1446\",\"#f47044\",\"#f47044\",\"#b1dfa3\",\"#f47044\",\"#f47044\",\"#f47044\",\"#fdc574\",\"#f47044\",\"#81cda5\",\"#fed683\",\"#f47044\",\"#f47044\",\"#99d6a4\",\"#f47044\",\"#f47044\",\"#f47044\",\"#fed683\",\"#b1dfa3\",\"#f47044\",\"#f47044\",\"#f47044\",\"#3389bd\",\"#f47044\",\"#f47044\",\"#f47044\",\"#af1446\",\"#f47044\",\"#f47044\",\"#f47044\",\"#f47044\",\"#f47044\",\"#9e0142\",\"#fbfdb8\",\"#f47044\",\"#b1dfa3\",\"#fbfdb8\",\"#fbfdb8\",\"#f2faaa\",\"#f47044\",\"#f47044\",\"#f47044\",\"#fdb365\",\"#b1dfa3\",\"#f47044\",\"#4175b4\",\"#fee491\",\"#69c3a5\",\"#f47044\",\"#e1504b\",\"#f47044\",\"#af1446\",\"#99d6a4\",\"#58b2ac\",\"#f47044\",\"#af1446\",\"#f47044\",\"#f47044\",\"#f47044\",\"#fed683\",\"#f47044\",\"#f47044\",\"#fee491\",\"#f47044\",\"#f47044\",\"#fed683\",\"#f47044\",\"#f47044\",\"#f47044\",\"#fee491\",\"#f47044\",\"#f47044\",\"#af1446\",\"#f47044\",\"#f47044\",\"#f47044\",\"#81cda5\",\"#e1504b\",\"#fffab6\",\"#f47044\",\"#f47044\",\"#f47044\",\"#e9f69d\",\"#f47044\",\"#58b2ac\",\"#af1446\",\"#e9f69d\",\"#58b2ac\",\"#69c3a5\",\"#f47044\",\"#f47044\",\"#f47044\",\"#f47044\",\"#5061aa\",\"#f47044\",\"#f47044\",\"#fee491\",\"#fed683\",\"#fdb365\",\"#f47044\",\"#e9f69d\",\"#f47044\",\"#f47044\",\"#fed683\",\"#b1dfa3\",\"#f47044\",\"#f47044\",\"#f47044\",\"#f47044\",\"#99d6a4\",\"#f47044\",\"#f47044\",\"#f47044\",\"#81cda5\",\"#f47044\",\"#f47044\",\"#f47044\",\"#f47044\",\"#fee491\",\"#e9f69d\",\"#fee491\",\"#f47044\",\"#f47044\",\"#f47044\",\"#daf09a\",\"#f47044\",\"#fed683\",\"#fee491\",\"#f47044\",\"#fffab6\",\"#f47044\",\"#f47044\",\"#af1446\",\"#f47044\",\"#f47044\",\"#f47044\",\"#fdc574\",\"#fb9d59\",\"#f47044\",\"#fee491\",\"#f47044\",\"#58b2ac\",\"#f47044\",\"#fee491\",\"#f47044\",\"#f47044\",\"#f47044\",\"#f47044\",\"#f8864f\",\"#f47044\",\"#f47044\",\"#f47044\",\"#f47044\",\"#fbfdb8\",\"#5e4fa2\",\"#f47044\",\"#fed683\",\"#f8864f\",\"#f47044\",\"#f47044\",\"#69c3a5\",\"#fee491\",\"#b1dfa3\",\"#f47044\",\"#f47044\",\"#69c3a5\",\"#f47044\",\"#5061aa\",\"#fed683\",\"#f47044\",\"#f47044\",\"#f47044\",\"#f47044\",\"#f47044\",\"#fffab6\",\"#fed683\",\"#fed683\",\"#f47044\",\"#58b2ac\",\"#f47044\",\"#c32a4b\",\"#f47044\",\"#e1504b\",\"#f47044\",\"#f47044\",\"#fed683\",\"#f47044\",\"#f47044\",\"#f47044\",\"#f47044\",\"#f47044\",\"#f47044\",\"#f47044\",\"#f47044\",\"#daf09a\",\"#f47044\",\"#fed683\",\"#fed683\",\"#f47044\",\"#f47044\",\"#f47044\",\"#99d6a4\",\"#f47044\",\"#fdb365\",\"#c6e89f\",\"#f47044\",\"#f47044\",\"#f47044\",\"#f47044\",\"#99d6a4\",\"#f47044\",\"#58b2ac\",\"#f47044\",\"#f47044\",\"#58b2ac\",\"#f47044\",\"#eb6046\",\"#81cda5\",\"#5061aa\",\"#f47044\",\"#f47044\",\"#99d6a4\",\"#f47044\",\"#f47044\",\"#f47044\",\"#f47044\",\"#f47044\",\"#fed683\",\"#f47044\",\"#f47044\",\"#58b2ac\",\"#f47044\",\"#b1dfa3\",\"#f47044\",\"#69c3a5\",\"#fed683\",\"#f47044\",\"#f47044\",\"#f47044\",\"#f47044\",\"#fee491\",\"#fed683\",\"#f47044\",\"#58b2ac\",\"#f47044\",\"#f47044\",\"#f47044\",\"#58b2ac\",\"#fee491\",\"#fed683\",\"#f47044\",\"#f47044\",\"#f47044\",\"#b1dfa3\",\"#fed683\",\"#f47044\",\"#f8864f\",\"#58b2ac\",\"#f47044\",\"#fdb365\",\"#f47044\",\"#f47044\",\"#f47044\",\"#99d6a4\",\"#99d6a4\",\"#f47044\",\"#fed683\",\"#58b2ac\",\"#b1dfa3\",\"#f47044\",\"#5061aa\",\"#f47044\",\"#fbfdb8\",\"#5061aa\",\"#f47044\",\"#58b2ac\",\"#9e0142\",\"#f47044\",\"#fed683\",\"#f47044\",\"#69c3a5\",\"#f47044\",\"#b1dfa3\",\"#f47044\",\"#f47044\",\"#fed683\",\"#f47044\",\"#69c3a5\",\"#e9f69d\",\"#f47044\",\"#f47044\",\"#f47044\",\"#f47044\",\"#f47044\",\"#f47044\",\"#f47044\",\"#fbfdb8\",\"#e1504b\",\"#69c3a5\",\"#f47044\",\"#f47044\",\"#9e0142\",\"#f47044\",\"#f47044\",\"#f47044\",\"#f47044\",\"#f47044\",\"#f47044\",\"#fffab6\",\"#fed683\",\"#fdb365\",\"#f47044\",\"#fee491\",\"#f47044\",\"#9e0142\",\"#f47044\",\"#af1446\",\"#f47044\",\"#99d6a4\",\"#fed683\",\"#fbfdb8\",\"#f47044\",\"#f47044\",\"#f47044\",\"#9e0142\",\"#f47044\",\"#f47044\",\"#fee491\",\"#fdc574\",\"#f47044\",\"#fee491\",\"#f47044\",\"#99d6a4\",\"#f47044\",\"#f47044\",\"#b1dfa3\",\"#f47044\",\"#f47044\",\"#c32a4b\",\"#fbfdb8\",\"#fed683\",\"#58b2ac\",\"#fee491\",\"#fdb365\",\"#f47044\",\"#f47044\",\"#f47044\",\"#f47044\",\"#fed683\",\"#f47044\",\"#fed683\",\"#f47044\",\"#f47044\",\"#fee491\",\"#fb9d59\",\"#daf09a\",\"#f47044\",\"#f47044\",\"#fed683\",\"#58b2ac\",\"#f47044\",\"#5061aa\",\"#fdb365\",\"#f47044\",\"#f47044\",\"#af1446\",\"#f47044\",\"#f47044\",\"#f47044\",\"#81cda5\",\"#fed683\",\"#f47044\",\"#fed683\",\"#fee491\",\"#58b2ac\",\"#81cda5\",\"#e9f69d\",\"#f47044\",\"#f47044\",\"#f47044\",\"#f47044\",\"#69c3a5\",\"#eb6046\",\"#f47044\",\"#f47044\",\"#f47044\",\"#f47044\",\"#f47044\",\"#f47044\",\"#fed683\",\"#f47044\",\"#f47044\",\"#f47044\",\"#fed683\",\"#fbfdb8\",\"#fdc574\",\"#99d6a4\",\"#f47044\",\"#f47044\",\"#f47044\",\"#58b2ac\",\"#f47044\",\"#b1dfa3\",\"#f47044\",\"#f47044\",\"#f47044\",\"#9e0142\",\"#58b2ac\",\"#f47044\",\"#f47044\",\"#f47044\",\"#f47044\",\"#c6e89f\",\"#f47044\",\"#f47044\",\"#f47044\",\"#fee491\",\"#58b2ac\",\"#fed683\",\"#fed683\",\"#f47044\",\"#f47044\",\"#fee491\",\"#f47044\",\"#fbfdb8\",\"#f47044\",\"#f47044\",\"#f47044\",\"#f47044\",\"#f2faaa\",\"#fed683\",\"#f47044\",\"#9e0142\",\"#af1446\",\"#fdb365\",\"#f47044\",\"#f47044\",\"#e1504b\",\"#f47044\",\"#f47044\",\"#fee491\",\"#99d6a4\",\"#f47044\",\"#f47044\",\"#f47044\",\"#fed683\",\"#f47044\",\"#b1dfa3\",\"#fed683\",\"#f47044\",\"#f47044\",\"#f47044\",\"#58b2ac\",\"#f47044\",\"#fed683\",\"#f47044\",\"#f47044\",\"#fed683\",\"#fee491\",\"#58b2ac\",\"#f47044\",\"#fed683\",\"#f47044\",\"#5061aa\",\"#f47044\",\"#f47044\",\"#f47044\",\"#f47044\",\"#f47044\",\"#f47044\",\"#f47044\",\"#f47044\",\"#f47044\",\"#f47044\",\"#f47044\",\"#f47044\",\"#f47044\",\"#f47044\",\"#f2faaa\",\"#f47044\",\"#f47044\",\"#fbfdb8\",\"#f47044\",\"#c6e89f\",\"#f47044\",\"#f47044\",\"#f47044\",\"#af1446\",\"#f47044\",\"#af1446\",\"#f47044\",\"#fed683\",\"#f47044\",\"#f47044\",\"#9e0142\",\"#f47044\",\"#f47044\",\"#f47044\",\"#f47044\",\"#f47044\",\"#f47044\",\"#f47044\",\"#f47044\",\"#f47044\",\"#af1446\",\"#f47044\",\"#f47044\",\"#f47044\",\"#feefa3\",\"#f47044\",\"#d63f4f\",\"#f47044\",\"#f47044\",\"#58b2ac\",\"#f47044\",\"#af1446\",\"#fdb365\",\"#b1dfa3\",\"#f47044\",\"#f47044\",\"#fed683\",\"#f47044\",\"#f47044\",\"#58b2ac\",\"#fdb365\",\"#f47044\",\"#fed683\",\"#af1446\",\"#f47044\",\"#f47044\",\"#fed683\",\"#f47044\",\"#4175b4\",\"#fed683\",\"#f47044\",\"#69c3a5\",\"#81cda5\",\"#f47044\",\"#f47044\",\"#f47044\",\"#f47044\",\"#eb6046\",\"#daf09a\",\"#f47044\",\"#f47044\",\"#c6e89f\",\"#fed683\",\"#fed683\",\"#99d6a4\",\"#f47044\",\"#f47044\",\"#f47044\",\"#f47044\",\"#f47044\",\"#f47044\",\"#f47044\",\"#f47044\",\"#e9f69d\",\"#f47044\",\"#af1446\",\"#f47044\",\"#fbfdb8\",\"#fdc574\",\"#99d6a4\",\"#f47044\",\"#f47044\",\"#f47044\",\"#f47044\",\"#f47044\",\"#f47044\",\"#f47044\",\"#f47044\",\"#fb9d59\",\"#f47044\",\"#58b2ac\",\"#58b2ac\",\"#e1504b\",\"#69c3a5\",\"#fffab6\",\"#f47044\",\"#f47044\",\"#f47044\",\"#fed683\",\"#f47044\",\"#f47044\",\"#f47044\",\"#69c3a5\",\"#fee491\",\"#f47044\",\"#f47044\",\"#f47044\",\"#f47044\",\"#5061aa\",\"#d63f4f\",\"#69c3a5\",\"#f47044\",\"#d63f4f\",\"#fed683\",\"#fed683\",\"#af1446\",\"#f47044\",\"#fbfdb8\",\"#f47044\",\"#e9f69d\",\"#e1504b\",\"#f47044\",\"#fed683\",\"#f47044\",\"#eb6046\",\"#f47044\",\"#e9f69d\",\"#f47044\",\"#f47044\",\"#f47044\",\"#f47044\",\"#f47044\",\"#f47044\",\"#f47044\",\"#f47044\",\"#fed683\",\"#99d6a4\",\"#fee491\",\"#f47044\",\"#f47044\",\"#58b2ac\",\"#fed683\",\"#af1446\",\"#fffab6\",\"#f47044\",\"#fbfdb8\",\"#459eb4\",\"#f47044\",\"#f47044\",\"#f47044\",\"#f47044\",\"#f47044\",\"#f47044\",\"#f47044\",\"#b1dfa3\",\"#58b2ac\",\"#f47044\",\"#69c3a5\",\"#f47044\",\"#69c3a5\",\"#fffab6\",\"#f47044\",\"#58b2ac\",\"#f47044\",\"#f47044\",\"#69c3a5\",\"#f47044\",\"#fee491\",\"#fed683\",\"#58b2ac\",\"#e9f69d\",\"#f47044\",\"#9e0142\",\"#99d6a4\",\"#f47044\",\"#f47044\",\"#daf09a\",\"#f47044\",\"#f47044\",\"#f47044\",\"#d63f4f\",\"#e9f69d\",\"#fdc574\",\"#f47044\",\"#58b2ac\",\"#f47044\",\"#daf09a\",\"#fed683\",\"#58b2ac\",\"#f47044\",\"#daf09a\",\"#fffab6\",\"#f47044\",\"#f47044\",\"#f47044\",\"#f47044\",\"#58b2ac\",\"#e9f69d\",\"#fbfdb8\",\"#f47044\",\"#f47044\",\"#f47044\",\"#f47044\",\"#f47044\",\"#f47044\",\"#fee491\",\"#f47044\",\"#69c3a5\",\"#af1446\",\"#81cda5\",\"#f47044\",\"#5061aa\",\"#f47044\",\"#f47044\",\"#9e0142\",\"#f47044\",\"#f47044\",\"#f47044\",\"#af1446\",\"#58b2ac\",\"#fee491\",\"#fee491\",\"#f8864f\",\"#f47044\",\"#f47044\",\"#fffab6\",\"#f47044\",\"#e1504b\",\"#f47044\",\"#f47044\",\"#fee491\",\"#f47044\",\"#f47044\",\"#e9f69d\",\"#f47044\",\"#f47044\",\"#f47044\",\"#69c3a5\",\"#f47044\",\"#f47044\",\"#f47044\",\"#9e0142\",\"#9e0142\",\"#4175b4\",\"#58b2ac\",\"#f47044\",\"#fee491\",\"#fed683\",\"#f47044\",\"#f47044\",\"#f47044\",\"#f47044\",\"#69c3a5\",\"#99d6a4\",\"#f47044\",\"#58b2ac\",\"#58b2ac\",\"#fdb365\",\"#f47044\",\"#f47044\",\"#f47044\",\"#fdb365\",\"#af1446\",\"#e1504b\",\"#58b2ac\",\"#9e0142\",\"#f47044\",\"#fed683\",\"#fdb365\",\"#af1446\",\"#f47044\",\"#f47044\",\"#f47044\",\"#f47044\",\"#9e0142\",\"#58b2ac\",\"#f47044\",\"#f47044\",\"#f47044\",\"#f47044\",\"#f47044\",\"#f47044\",\"#af1446\",\"#f47044\",\"#f47044\",\"#f47044\",\"#69c3a5\",\"#f47044\",\"#9e0142\",\"#f47044\",\"#fee491\",\"#f47044\",\"#f47044\",\"#f47044\",\"#f47044\",\"#f47044\",\"#f47044\",\"#58b2ac\",\"#af1446\",\"#fed683\",\"#f47044\",\"#f47044\",\"#69c3a5\",\"#f47044\",\"#fdb365\",\"#fee491\",\"#fed683\",\"#f47044\",\"#f47044\",\"#f47044\",\"#f47044\",\"#f47044\",\"#f47044\",\"#f47044\",\"#f47044\",\"#99d6a4\",\"#f47044\",\"#fdb365\",\"#69c3a5\",\"#fee491\",\"#f47044\",\"#b1dfa3\",\"#fee491\",\"#f8864f\",\"#f47044\",\"#fbfdb8\",\"#fed683\",\"#fed683\",\"#c32a4b\",\"#f47044\",\"#f47044\",\"#f47044\",\"#daf09a\",\"#fdc574\",\"#58b2ac\",\"#f47044\",\"#f47044\",\"#f47044\",\"#fed683\",\"#9e0142\",\"#f47044\",\"#f47044\",\"#f47044\",\"#f47044\",\"#99d6a4\",\"#f47044\",\"#81cda5\",\"#f47044\",\"#f47044\",\"#e9f69d\",\"#fdc574\",\"#e1504b\",\"#f47044\",\"#f47044\",\"#fdb365\",\"#58b2ac\",\"#fee491\",\"#f47044\",\"#e9f69d\",\"#58b2ac\",\"#fed683\",\"#b1dfa3\",\"#e9f69d\",\"#99d6a4\",\"#f47044\",\"#b1dfa3\",\"#f47044\",\"#d63f4f\",\"#e9f69d\",\"#f47044\",\"#f47044\",\"#daf09a\",\"#feefa3\",\"#f47044\",\"#9e0142\",\"#f47044\",\"#e1504b\",\"#fee491\",\"#f2faaa\",\"#f47044\",\"#e1504b\",\"#c32a4b\",\"#c6e89f\",\"#f47044\",\"#e9f69d\",\"#af1446\",\"#f47044\",\"#58b2ac\",\"#69c3a5\",\"#fdb365\",\"#f47044\",\"#f47044\",\"#f47044\",\"#daf09a\",\"#f47044\",\"#b1dfa3\",\"#99d6a4\",\"#e9f69d\",\"#58b2ac\",\"#af1446\",\"#f47044\",\"#f47044\",\"#99d6a4\",\"#f47044\",\"#f47044\",\"#fed683\",\"#fed683\",\"#fed683\",\"#99d6a4\",\"#fdb365\",\"#58b2ac\",\"#fee491\",\"#f47044\",\"#fee491\",\"#f47044\",\"#d63f4f\",\"#f47044\",\"#fdb365\",\"#f47044\",\"#58b2ac\",\"#f47044\",\"#f47044\",\"#f47044\",\"#fed683\",\"#f47044\",\"#f47044\",\"#b1dfa3\",\"#fed683\",\"#f47044\",\"#f47044\",\"#f47044\",\"#e1504b\",\"#f47044\",\"#f47044\",\"#af1446\",\"#99d6a4\",\"#9e0142\",\"#fed683\",\"#f47044\",\"#fed683\",\"#f47044\",\"#e1504b\",\"#f47044\",\"#f47044\",\"#f47044\",\"#f47044\",\"#f47044\",\"#f47044\",\"#f47044\",\"#b1dfa3\",\"#f47044\",\"#f47044\",\"#f47044\",\"#f47044\",\"#f47044\",\"#99d6a4\",\"#b1dfa3\",\"#f47044\",\"#f47044\",\"#f47044\",\"#f47044\",\"#f47044\",\"#f47044\",\"#f47044\",\"#f47044\",\"#9e0142\",\"#f47044\",\"#f47044\",\"#f47044\",\"#f47044\",\"#fed683\",\"#f47044\",\"#f47044\",\"#f47044\",\"#f47044\",\"#f47044\",\"#f47044\",\"#f47044\",\"#f47044\",\"#fed683\",\"#f47044\",\"#3389bd\",\"#b1dfa3\",\"#fed683\",\"#f47044\",\"#f47044\",\"#f47044\",\"#f47044\",\"#f47044\",\"#f47044\",\"#f47044\",\"#f47044\",\"#f47044\",\"#f47044\",\"#58b2ac\",\"#f47044\",\"#f47044\",\"#b1dfa3\",\"#f47044\",\"#f47044\",\"#fffab6\",\"#f47044\",\"#f47044\",\"#f47044\",\"#f47044\",\"#fdb365\",\"#fed683\",\"#f47044\",\"#f47044\",\"#f47044\",\"#58b2ac\",\"#81cda5\",\"#f47044\",\"#b1dfa3\",\"#f47044\",\"#99d6a4\",\"#f47044\",\"#99d6a4\",\"#e9f69d\",\"#fee491\",\"#fee491\",\"#af1446\",\"#fed683\",\"#f47044\",\"#f47044\",\"#fed683\",\"#f47044\",\"#f47044\",\"#58b2ac\",\"#f47044\",\"#f47044\",\"#f47044\",\"#f8864f\",\"#fee491\",\"#69c3a5\",\"#f47044\",\"#f47044\",\"#fed683\",\"#f47044\",\"#f47044\",\"#f47044\",\"#f8864f\",\"#d63f4f\",\"#f47044\",\"#f47044\",\"#fed683\",\"#5061aa\",\"#99d6a4\",\"#f47044\",\"#fed683\",\"#f47044\",\"#fed683\",\"#f47044\",\"#fbfdb8\",\"#e1504b\",\"#b1dfa3\",\"#f47044\",\"#81cda5\",\"#f47044\",\"#99d6a4\",\"#f47044\",\"#58b2ac\",\"#f47044\",\"#58b2ac\",\"#f47044\",\"#f47044\",\"#fee491\",\"#af1446\",\"#f47044\",\"#fbfdb8\",\"#f47044\",\"#99d6a4\",\"#f47044\",\"#f47044\",\"#69c3a5\",\"#58b2ac\",\"#f47044\",\"#f47044\",\"#af1446\",\"#f47044\",\"#e1504b\",\"#fffab6\",\"#e1504b\",\"#f47044\",\"#f47044\",\"#4175b4\",\"#f47044\",\"#f47044\",\"#f47044\",\"#af1446\",\"#f47044\",\"#99d6a4\",\"#fdc574\",\"#f47044\",\"#f47044\",\"#e9f69d\",\"#99d6a4\",\"#f47044\",\"#f47044\",\"#af1446\",\"#f47044\",\"#459eb4\",\"#fee491\",\"#fdb365\",\"#f47044\",\"#f47044\",\"#f47044\",\"#fbfdb8\",\"#f47044\",\"#81cda5\",\"#f47044\",\"#b1dfa3\",\"#af1446\",\"#f47044\",\"#fed683\",\"#f47044\",\"#fee491\",\"#f47044\",\"#99d6a4\",\"#f47044\",\"#f47044\",\"#b1dfa3\",\"#f47044\",\"#fee491\",\"#f47044\",\"#f47044\",\"#f47044\",\"#e9f69d\",\"#f47044\",\"#fed683\",\"#fed683\",\"#b1dfa3\",\"#fee491\",\"#e9f69d\",\"#fbfdb8\",\"#af1446\",\"#5061aa\",\"#69c3a5\",\"#f47044\",\"#f47044\",\"#f47044\",\"#459eb4\",\"#f47044\",\"#fee491\",\"#f47044\",\"#f47044\",\"#e9f69d\",\"#f47044\",\"#f47044\",\"#af1446\",\"#f47044\",\"#f47044\",\"#f47044\",\"#c6e89f\",\"#af1446\",\"#fbfdb8\",\"#fed683\",\"#f47044\",\"#58b2ac\",\"#af1446\",\"#f47044\",\"#fed683\",\"#b1dfa3\",\"#fee491\",\"#e1504b\",\"#f47044\",\"#f47044\",\"#fdb365\",\"#f47044\",\"#f47044\",\"#f47044\",\"#f47044\",\"#f47044\",\"#af1446\",\"#c6e89f\",\"#f47044\",\"#e9f69d\",\"#fed683\",\"#f47044\",\"#f47044\",\"#fdc574\",\"#f47044\",\"#f47044\",\"#af1446\",\"#99d6a4\",\"#f47044\",\"#f47044\",\"#fed683\",\"#e9f69d\",\"#f47044\",\"#f47044\",\"#f47044\",\"#f47044\",\"#f47044\",\"#f47044\",\"#b1dfa3\",\"#69c3a5\",\"#fed683\",\"#f47044\",\"#f47044\",\"#99d6a4\",\"#f47044\",\"#f47044\",\"#99d6a4\",\"#f47044\",\"#f47044\",\"#f47044\",\"#fed683\",\"#fed683\",\"#f47044\",\"#fdb365\",\"#f47044\",\"#f47044\",\"#fdb365\",\"#fbfdb8\",\"#f47044\",\"#daf09a\",\"#fee491\",\"#f47044\",\"#58b2ac\",\"#af1446\",\"#f47044\",\"#f47044\",\"#f47044\",\"#f47044\",\"#f47044\",\"#fee491\",\"#f47044\",\"#fbfdb8\",\"#f47044\",\"#f47044\",\"#f47044\",\"#f47044\",\"#f47044\",\"#f47044\",\"#f47044\",\"#99d6a4\",\"#f47044\",\"#b1dfa3\",\"#e9f69d\",\"#e1504b\",\"#f47044\",\"#f47044\",\"#f47044\",\"#f47044\",\"#69c3a5\",\"#f47044\",\"#f47044\",\"#f47044\",\"#f47044\",\"#f47044\",\"#fed683\",\"#fdb365\",\"#58b2ac\",\"#f47044\",\"#f47044\",\"#99d6a4\",\"#fffab6\",\"#b1dfa3\",\"#f47044\",\"#fffab6\",\"#f47044\",\"#f47044\",\"#3389bd\",\"#f47044\",\"#f47044\",\"#f47044\",\"#fed683\",\"#f47044\",\"#af1446\",\"#f47044\",\"#4175b4\",\"#f47044\",\"#f47044\",\"#f47044\",\"#fbfdb8\",\"#69c3a5\",\"#fee491\",\"#fee491\",\"#f47044\",\"#e9f69d\",\"#b1dfa3\",\"#f47044\",\"#99d6a4\",\"#f47044\",\"#f47044\",\"#f47044\",\"#f47044\",\"#f47044\",\"#f47044\",\"#f47044\",\"#fee491\",\"#f47044\",\"#f47044\",\"#f47044\",\"#f47044\",\"#99d6a4\",\"#fee491\",\"#b1dfa3\",\"#f47044\",\"#99d6a4\",\"#f47044\",\"#f47044\",\"#f47044\",\"#f47044\",\"#f47044\",\"#f47044\",\"#fed683\",\"#f47044\",\"#99d6a4\",\"#58b2ac\",\"#fed683\",\"#af1446\",\"#b1dfa3\",\"#f47044\",\"#f47044\",\"#f8864f\",\"#fed683\",\"#f47044\",\"#af1446\",\"#f47044\",\"#f47044\",\"#f47044\",\"#58b2ac\",\"#f47044\",\"#f47044\",\"#fee491\",\"#f47044\",\"#fed683\",\"#69c3a5\",\"#f47044\",\"#f47044\",\"#f47044\",\"#f47044\",\"#f47044\",\"#f47044\",\"#58b2ac\",\"#b1dfa3\",\"#e1504b\",\"#f47044\",\"#fee491\",\"#f47044\",\"#f47044\",\"#5061aa\",\"#f47044\",\"#f47044\",\"#f47044\",\"#f47044\",\"#f47044\",\"#f47044\",\"#af1446\",\"#99d6a4\",\"#f47044\",\"#e1504b\",\"#fee491\",\"#fbfdb8\",\"#b1dfa3\",\"#d63f4f\",\"#f47044\",\"#fee491\",\"#e1504b\",\"#fee491\",\"#f47044\",\"#f47044\",\"#f47044\",\"#d63f4f\",\"#f47044\",\"#f47044\",\"#f47044\",\"#f47044\",\"#feefa3\",\"#f47044\",\"#f47044\",\"#f47044\",\"#e9f69d\",\"#f47044\",\"#f47044\",\"#f47044\",\"#f47044\",\"#fee491\",\"#4175b4\",\"#69c3a5\",\"#f47044\",\"#fed683\",\"#f47044\",\"#f47044\",\"#f47044\",\"#fee491\",\"#c32a4b\",\"#fed683\",\"#f47044\",\"#99d6a4\",\"#f47044\",\"#f47044\",\"#99d6a4\",\"#fed683\",\"#fed683\",\"#f47044\",\"#f47044\",\"#f8864f\",\"#f47044\",\"#fee491\",\"#fed683\",\"#f47044\",\"#f47044\",\"#c6e89f\",\"#f47044\",\"#f47044\",\"#c6e89f\",\"#f47044\",\"#99d6a4\",\"#c6e89f\",\"#f47044\",\"#f8864f\",\"#58b2ac\",\"#f47044\",\"#c6e89f\",\"#f47044\",\"#f47044\",\"#fdb365\",\"#fed683\",\"#9e0142\",\"#fed683\",\"#f47044\",\"#f47044\",\"#f47044\",\"#f47044\",\"#f47044\",\"#f47044\",\"#58b2ac\",\"#e9f69d\",\"#fdb365\",\"#f47044\",\"#fed683\",\"#f47044\",\"#f47044\",\"#69c3a5\",\"#f47044\",\"#f47044\",\"#f47044\",\"#fdb365\",\"#99d6a4\",\"#58b2ac\",\"#f47044\",\"#fffab6\",\"#fed683\",\"#f47044\",\"#f47044\",\"#f47044\",\"#f47044\",\"#f47044\",\"#58b2ac\",\"#f47044\",\"#f47044\",\"#99d6a4\",\"#69c3a5\",\"#fffab6\",\"#f47044\",\"#99d6a4\",\"#fdc574\",\"#58b2ac\",\"#f47044\",\"#f47044\",\"#f47044\",\"#fed683\",\"#f47044\",\"#f47044\",\"#5061aa\",\"#f47044\",\"#fed683\",\"#f47044\",\"#f47044\",\"#fdc574\",\"#fed683\",\"#e1504b\",\"#f47044\",\"#f47044\",\"#fed683\",\"#f47044\",\"#f47044\",\"#fed683\",\"#f47044\",\"#9e0142\",\"#f47044\",\"#fed683\",\"#f47044\",\"#69c3a5\",\"#f47044\",\"#d63f4f\",\"#f47044\",\"#f47044\",\"#f47044\",\"#f47044\",\"#f47044\",\"#f47044\",\"#fee491\",\"#f47044\",\"#f47044\",\"#f47044\",\"#f47044\",\"#f47044\",\"#f47044\",\"#fdb365\",\"#f47044\",\"#f47044\",\"#58b2ac\",\"#f47044\",\"#f47044\",\"#f2faaa\",\"#fee491\",\"#fed683\",\"#fed683\",\"#e9f69d\",\"#f47044\",\"#58b2ac\",\"#81cda5\",\"#f47044\",\"#9e0142\",\"#f47044\",\"#f47044\",\"#fed683\",\"#f47044\",\"#fffab6\",\"#f47044\",\"#f47044\",\"#f47044\",\"#fee491\",\"#f47044\",\"#f47044\",\"#fdc574\",\"#f47044\",\"#9e0142\",\"#fbfdb8\",\"#459eb4\",\"#fed683\",\"#f47044\",\"#f47044\",\"#f47044\",\"#f47044\",\"#f47044\",\"#9e0142\",\"#69c3a5\",\"#f47044\",\"#f47044\",\"#f47044\",\"#58b2ac\",\"#f47044\",\"#3389bd\",\"#f47044\",\"#fee491\",\"#fed683\",\"#58b2ac\",\"#e1504b\",\"#f47044\",\"#f47044\",\"#fdb365\",\"#c6e89f\",\"#fed683\",\"#f47044\",\"#9e0142\",\"#f47044\",\"#e1504b\",\"#fbfdb8\",\"#f47044\",\"#fed683\",\"#fbfdb8\",\"#f47044\",\"#f47044\",\"#f47044\",\"#e9f69d\",\"#f47044\",\"#f47044\",\"#feefa3\",\"#fee491\",\"#f47044\",\"#f47044\",\"#f47044\",\"#b1dfa3\",\"#e1504b\",\"#f47044\",\"#f47044\",\"#fbfdb8\",\"#69c3a5\",\"#fed683\",\"#f47044\",\"#f47044\",\"#e1504b\",\"#f47044\",\"#b1dfa3\",\"#f47044\",\"#f47044\",\"#f47044\",\"#f47044\",\"#f47044\",\"#f47044\",\"#f47044\",\"#459eb4\",\"#b1dfa3\",\"#f47044\",\"#fed683\",\"#eb6046\",\"#f47044\",\"#f47044\",\"#f47044\",\"#fed683\",\"#f47044\",\"#f47044\",\"#9e0142\",\"#f47044\",\"#eb6046\",\"#f47044\",\"#f47044\",\"#f47044\",\"#fed683\",\"#fbfdb8\",\"#fee491\",\"#58b2ac\",\"#e1504b\",\"#f47044\",\"#f47044\",\"#58b2ac\",\"#b1dfa3\",\"#5e4fa2\",\"#f47044\",\"#af1446\",\"#fbfdb8\",\"#f47044\",\"#e9f69d\",\"#e1504b\",\"#f47044\",\"#f47044\",\"#eb6046\",\"#f47044\",\"#81cda5\",\"#fbfdb8\",\"#f47044\",\"#f47044\",\"#f47044\",\"#f47044\",\"#f47044\",\"#b1dfa3\",\"#f47044\",\"#c6e89f\",\"#f47044\",\"#f47044\",\"#58b2ac\",\"#fb9d59\",\"#9e0142\",\"#af1446\",\"#f47044\",\"#fee491\",\"#f47044\",\"#f47044\",\"#f47044\",\"#fee491\",\"#f47044\",\"#f47044\",\"#b1dfa3\",\"#fee491\",\"#fbfdb8\",\"#fed683\",\"#f47044\",\"#f47044\",\"#f47044\",\"#f47044\",\"#f47044\",\"#4175b4\",\"#af1446\",\"#f47044\",\"#f47044\",\"#69c3a5\",\"#fed683\",\"#fbfdb8\",\"#f47044\",\"#fed683\",\"#f47044\",\"#fee491\",\"#b1dfa3\",\"#fee491\",\"#9e0142\",\"#f47044\",\"#f47044\",\"#e9f69d\",\"#f47044\",\"#f47044\",\"#af1446\",\"#f47044\",\"#f47044\",\"#99d6a4\",\"#b1dfa3\",\"#f47044\",\"#fed683\",\"#fed683\",\"#b1dfa3\",\"#f47044\",\"#69c3a5\",\"#f47044\",\"#fed683\",\"#f47044\",\"#f47044\",\"#f47044\",\"#f47044\",\"#f47044\",\"#fed683\",\"#58b2ac\",\"#f47044\",\"#b1dfa3\",\"#f47044\",\"#fed683\",\"#9e0142\",\"#f47044\",\"#f47044\",\"#99d6a4\",\"#e1504b\",\"#f47044\",\"#b1dfa3\",\"#f47044\",\"#fee491\",\"#f47044\",\"#f47044\",\"#b1dfa3\",\"#f47044\",\"#58b2ac\",\"#58b2ac\",\"#f47044\",\"#f47044\",\"#f47044\",\"#f47044\",\"#f47044\",\"#fffab6\",\"#f47044\",\"#c32a4b\",\"#f8864f\",\"#fbfdb8\",\"#fdb365\",\"#c6e89f\",\"#b1dfa3\",\"#b1dfa3\",\"#fed683\",\"#f47044\",\"#f47044\",\"#b1dfa3\",\"#b1dfa3\",\"#af1446\",\"#f8864f\",\"#f47044\",\"#f47044\",\"#f47044\",\"#f47044\",\"#9e0142\",\"#daf09a\",\"#af1446\",\"#d63f4f\",\"#f47044\",\"#c6e89f\",\"#fbfdb8\",\"#f47044\",\"#f47044\",\"#f47044\",\"#f47044\",\"#fffab6\",\"#f47044\",\"#f47044\",\"#f47044\",\"#f47044\",\"#f47044\",\"#f47044\",\"#f47044\",\"#f47044\",\"#fed683\",\"#9e0142\",\"#f47044\",\"#fb9d59\",\"#f47044\",\"#f47044\",\"#fed683\",\"#fed683\",\"#f47044\",\"#fffab6\",\"#fee491\",\"#f47044\",\"#fdc574\",\"#fed683\",\"#e9f69d\",\"#f47044\",\"#f47044\",\"#99d6a4\",\"#f47044\",\"#b1dfa3\",\"#fbfdb8\",\"#f47044\",\"#f47044\",\"#58b2ac\",\"#69c3a5\",\"#f47044\",\"#f47044\",\"#f47044\",\"#f47044\",\"#f47044\",\"#af1446\",\"#f47044\",\"#f47044\",\"#daf09a\",\"#99d6a4\",\"#58b2ac\",\"#f47044\",\"#99d6a4\",\"#9e0142\",\"#fed683\",\"#e9f69d\",\"#f47044\",\"#fed683\",\"#f47044\",\"#f47044\",\"#f47044\",\"#f47044\",\"#f47044\",\"#f47044\",\"#fee491\",\"#f47044\",\"#daf09a\",\"#5061aa\",\"#f47044\",\"#f47044\",\"#af1446\",\"#58b2ac\",\"#f47044\",\"#f47044\",\"#58b2ac\",\"#f47044\",\"#f47044\",\"#5061aa\",\"#f47044\",\"#fdc574\",\"#f47044\",\"#fed683\",\"#fee491\",\"#58b2ac\",\"#58b2ac\",\"#f47044\",\"#f47044\",\"#58b2ac\",\"#f47044\",\"#99d6a4\",\"#f47044\",\"#f47044\",\"#58b2ac\",\"#f47044\",\"#f47044\",\"#af1446\",\"#fbfdb8\",\"#fee491\",\"#f47044\",\"#fee491\",\"#f47044\",\"#daf09a\",\"#f47044\",\"#f47044\",\"#fee491\",\"#b1dfa3\",\"#f47044\",\"#3389bd\",\"#f47044\",\"#f47044\",\"#f47044\",\"#f47044\",\"#f47044\",\"#f47044\",\"#fed683\",\"#f47044\",\"#f47044\",\"#f47044\",\"#f47044\",\"#f47044\",\"#f47044\",\"#f47044\",\"#f47044\",\"#fee491\",\"#f47044\",\"#f47044\",\"#f47044\",\"#f47044\",\"#3389bd\",\"#f47044\",\"#f47044\",\"#f47044\",\"#f47044\",\"#f47044\",\"#f47044\",\"#f47044\",\"#99d6a4\",\"#f47044\",\"#fed683\",\"#f47044\",\"#f47044\",\"#f47044\",\"#fee491\",\"#f47044\",\"#f47044\",\"#fffab6\",\"#f47044\",\"#f47044\",\"#f47044\",\"#f47044\",\"#f47044\",\"#fed683\",\"#fee491\",\"#f47044\",\"#f47044\",\"#f47044\",\"#fed683\",\"#e9f69d\",\"#f47044\",\"#f47044\",\"#f47044\",\"#f47044\",\"#f47044\",\"#f47044\",\"#f47044\",\"#f47044\",\"#f47044\",\"#99d6a4\",\"#f47044\",\"#f47044\",\"#f47044\",\"#fed683\",\"#f47044\",\"#af1446\",\"#69c3a5\",\"#f47044\",\"#f47044\",\"#fed683\",\"#58b2ac\",\"#4175b4\",\"#af1446\",\"#f47044\",\"#f47044\",\"#c6e89f\",\"#f8864f\",\"#f47044\",\"#f47044\",\"#fee491\",\"#fbfdb8\",\"#f47044\",\"#f47044\",\"#f47044\",\"#f47044\",\"#fffab6\",\"#f47044\",\"#f47044\",\"#f47044\",\"#f47044\",\"#f47044\",\"#fbfdb8\",\"#af1446\",\"#f47044\",\"#f47044\",\"#f47044\",\"#f47044\",\"#f47044\",\"#69c3a5\",\"#f47044\",\"#f47044\",\"#f47044\",\"#f47044\",\"#b1dfa3\",\"#f47044\",\"#f47044\",\"#f47044\",\"#fdb365\",\"#fdb365\",\"#f47044\",\"#5e4fa2\",\"#fdb365\",\"#f47044\",\"#fed683\",\"#f47044\",\"#f47044\",\"#f47044\",\"#f47044\",\"#f47044\",\"#f47044\",\"#f47044\",\"#69c3a5\",\"#f47044\",\"#f47044\",\"#f47044\",\"#f47044\",\"#58b2ac\",\"#fed683\",\"#f47044\",\"#fffab6\",\"#f47044\",\"#fffab6\",\"#f47044\",\"#f47044\",\"#f47044\",\"#f47044\",\"#f47044\",\"#f47044\",\"#fbfdb8\",\"#f47044\",\"#f47044\",\"#f47044\",\"#99d6a4\",\"#f47044\",\"#f47044\",\"#fed683\",\"#f47044\",\"#af1446\",\"#b1dfa3\",\"#f47044\",\"#fdb365\",\"#fed683\",\"#fffab6\",\"#f2faaa\",\"#f47044\",\"#69c3a5\",\"#f47044\",\"#f47044\",\"#f47044\",\"#f47044\",\"#f47044\",\"#99d6a4\",\"#f47044\",\"#e1504b\",\"#f47044\",\"#f47044\",\"#f47044\",\"#f47044\",\"#e9f69d\",\"#e9f69d\",\"#f47044\",\"#f47044\",\"#99d6a4\",\"#5061aa\",\"#fed683\",\"#f47044\",\"#f47044\",\"#f47044\",\"#81cda5\",\"#fed683\",\"#fdb365\",\"#f47044\",\"#f47044\",\"#f47044\",\"#58b2ac\",\"#f47044\",\"#fed683\",\"#fdb365\",\"#d63f4f\",\"#f47044\",\"#f8864f\",\"#af1446\",\"#fed683\",\"#fed683\",\"#f47044\",\"#f47044\",\"#fed683\",\"#69c3a5\",\"#f47044\",\"#f47044\",\"#fee491\",\"#f47044\",\"#f47044\",\"#f47044\",\"#58b2ac\",\"#f47044\",\"#b1dfa3\",\"#fed683\",\"#f47044\",\"#fed683\",\"#f47044\",\"#f47044\",\"#f47044\",\"#f47044\",\"#e1504b\",\"#f47044\",\"#f47044\",\"#af1446\",\"#f47044\",\"#fee491\",\"#f47044\",\"#f47044\",\"#fee491\",\"#f47044\",\"#f47044\",\"#f47044\",\"#f47044\",\"#f47044\",\"#f47044\",\"#f47044\",\"#fed683\",\"#f47044\",\"#f47044\",\"#f47044\",\"#f47044\",\"#f47044\",\"#f47044\",\"#fbfdb8\",\"#f47044\",\"#f47044\",\"#f47044\",\"#f47044\",\"#d63f4f\",\"#e1504b\",\"#fdc574\",\"#f47044\",\"#f47044\",\"#f47044\",\"#4175b4\",\"#f47044\",\"#f47044\",\"#f47044\",\"#99d6a4\",\"#58b2ac\",\"#f47044\",\"#f47044\",\"#f47044\",\"#f47044\",\"#fdc574\",\"#fdc574\",\"#f47044\",\"#fdc574\",\"#b1dfa3\",\"#f47044\",\"#c6e89f\",\"#f47044\",\"#f47044\",\"#5061aa\",\"#58b2ac\",\"#69c3a5\",\"#fed683\",\"#f47044\",\"#f47044\",\"#f47044\",\"#f47044\",\"#b1dfa3\",\"#f47044\",\"#f47044\",\"#f47044\",\"#f47044\",\"#f47044\",\"#f47044\",\"#f47044\",\"#f47044\",\"#f47044\",\"#c6e89f\",\"#f47044\",\"#81cda5\",\"#f47044\",\"#af1446\",\"#f47044\",\"#fffab6\",\"#f47044\",\"#f47044\",\"#f47044\",\"#af1446\",\"#f47044\",\"#b1dfa3\",\"#fbfdb8\",\"#f47044\",\"#fbfdb8\",\"#fee491\",\"#fee491\",\"#f47044\",\"#fed683\",\"#f47044\",\"#f47044\",\"#f47044\",\"#58b2ac\",\"#f47044\",\"#fee491\",\"#f47044\",\"#f47044\",\"#f47044\",\"#f47044\",\"#af1446\",\"#f47044\",\"#fed683\",\"#69c3a5\",\"#f47044\",\"#5061aa\",\"#3389bd\",\"#f47044\",\"#f47044\",\"#58b2ac\",\"#58b2ac\",\"#f47044\",\"#f47044\",\"#fee491\",\"#fed683\",\"#d63f4f\",\"#5061aa\",\"#f47044\",\"#9e0142\",\"#69c3a5\",\"#af1446\",\"#fee491\",\"#af1446\",\"#f47044\",\"#69c3a5\",\"#af1446\",\"#f47044\",\"#d63f4f\",\"#fee491\",\"#58b2ac\",\"#f47044\",\"#f47044\",\"#9e0142\",\"#f47044\",\"#fdc574\",\"#fed683\",\"#f47044\",\"#f47044\",\"#f47044\",\"#f47044\",\"#fdb365\",\"#f47044\",\"#f47044\",\"#f47044\",\"#fee491\",\"#f47044\",\"#e9f69d\",\"#f47044\",\"#fed683\",\"#f47044\",\"#f47044\",\"#f47044\",\"#f47044\",\"#f8864f\",\"#f47044\",\"#f47044\",\"#f47044\",\"#58b2ac\",\"#f47044\",\"#f47044\",\"#81cda5\",\"#fed683\",\"#f47044\",\"#9e0142\",\"#b1dfa3\",\"#f47044\",\"#fed683\",\"#f47044\",\"#fed683\",\"#af1446\",\"#f47044\",\"#f47044\",\"#99d6a4\",\"#f47044\",\"#fed683\",\"#fed683\",\"#fee491\",\"#f47044\",\"#f47044\",\"#f47044\",\"#f47044\",\"#fdb365\",\"#f47044\",\"#f47044\",\"#fed683\",\"#e1504b\",\"#fed683\",\"#f47044\",\"#f47044\",\"#f47044\",\"#f47044\",\"#58b2ac\",\"#f47044\",\"#fed683\",\"#e9f69d\",\"#fee491\",\"#f47044\",\"#b1dfa3\",\"#af1446\",\"#fed683\",\"#fed683\",\"#f47044\",\"#f47044\",\"#f47044\",\"#f47044\",\"#9e0142\",\"#f47044\",\"#f47044\",\"#fed683\",\"#af1446\",\"#f47044\",\"#f47044\",\"#f47044\",\"#f47044\",\"#fee491\",\"#f47044\",\"#f47044\",\"#f47044\",\"#58b2ac\",\"#f47044\",\"#e9f69d\",\"#f47044\",\"#f47044\",\"#f47044\",\"#f47044\",\"#f47044\",\"#e1504b\",\"#f47044\",\"#f47044\",\"#f47044\",\"#fee491\",\"#f47044\",\"#f47044\",\"#f47044\",\"#f47044\",\"#f2faaa\",\"#f47044\",\"#fdc574\",\"#9e0142\",\"#c32a4b\",\"#f47044\",\"#f47044\",\"#99d6a4\",\"#e9f69d\",\"#99d6a4\",\"#f47044\",\"#f47044\",\"#fdb365\",\"#f47044\",\"#f47044\",\"#69c3a5\",\"#d63f4f\",\"#459eb4\",\"#f47044\",\"#fee491\",\"#f47044\",\"#fed683\",\"#9e0142\",\"#fffab6\",\"#58b2ac\",\"#e9f69d\",\"#69c3a5\",\"#af1446\",\"#fee491\",\"#fee491\",\"#f47044\",\"#f47044\",\"#81cda5\",\"#58b2ac\",\"#9e0142\",\"#f47044\",\"#f47044\",\"#fee491\",\"#f47044\",\"#f47044\",\"#f47044\",\"#f47044\",\"#f47044\",\"#f47044\",\"#fed683\",\"#fee491\",\"#fee491\",\"#fee491\",\"#b1dfa3\",\"#3389bd\",\"#af1446\",\"#f47044\",\"#f47044\",\"#69c3a5\",\"#f47044\",\"#f47044\",\"#fdc574\",\"#f47044\",\"#f47044\",\"#fbfdb8\",\"#f8864f\",\"#f47044\",\"#f47044\",\"#f47044\",\"#fed683\",\"#f47044\",\"#f47044\",\"#f47044\",\"#f47044\",\"#69c3a5\",\"#f47044\",\"#f47044\",\"#f47044\",\"#f2faaa\",\"#fed683\",\"#f47044\",\"#f47044\",\"#99d6a4\",\"#f47044\",\"#f47044\",\"#f47044\",\"#fdb365\",\"#fb9d59\",\"#f47044\",\"#69c3a5\",\"#fee491\",\"#fdb365\",\"#f47044\",\"#fee491\",\"#f47044\",\"#f47044\",\"#d63f4f\",\"#f47044\",\"#f47044\",\"#f47044\",\"#f47044\",\"#f47044\",\"#f47044\",\"#f47044\",\"#69c3a5\",\"#f47044\",\"#58b2ac\",\"#f47044\",\"#f47044\",\"#f47044\",\"#f47044\",\"#f47044\",\"#f47044\",\"#fbfdb8\",\"#58b2ac\",\"#e1504b\",\"#af1446\",\"#f47044\",\"#f47044\",\"#daf09a\",\"#fdb365\",\"#fed683\",\"#f47044\",\"#f47044\",\"#f47044\",\"#58b2ac\",\"#f47044\",\"#f47044\",\"#fed683\",\"#f47044\",\"#f47044\",\"#f47044\",\"#f47044\",\"#99d6a4\",\"#af1446\",\"#f47044\",\"#f47044\",\"#fdb365\",\"#58b2ac\",\"#fee491\",\"#fdc574\",\"#f47044\",\"#f47044\",\"#f47044\",\"#f47044\",\"#fdc574\",\"#fffab6\",\"#f47044\",\"#f47044\",\"#58b2ac\",\"#fee491\",\"#af1446\",\"#f47044\",\"#69c3a5\",\"#f47044\",\"#fee491\",\"#af1446\",\"#f47044\",\"#f47044\",\"#fee491\",\"#b1dfa3\",\"#fed683\",\"#f47044\",\"#fee491\",\"#eb6046\",\"#f47044\",\"#fee491\",\"#f47044\",\"#58b2ac\",\"#f47044\",\"#f47044\",\"#f47044\",\"#fee491\",\"#f47044\",\"#f47044\",\"#f47044\",\"#f47044\",\"#f47044\",\"#b1dfa3\",\"#f47044\",\"#f47044\",\"#f47044\",\"#f47044\",\"#fdb365\",\"#f47044\",\"#f47044\",\"#69c3a5\",\"#f47044\",\"#f47044\",\"#f47044\",\"#f47044\",\"#fdb365\",\"#f47044\",\"#fed683\",\"#f47044\",\"#af1446\",\"#f47044\",\"#f47044\",\"#f47044\",\"#f47044\",\"#f47044\",\"#f47044\",\"#fffab6\",\"#f47044\",\"#f47044\",\"#f47044\",\"#f47044\",\"#99d6a4\",\"#f47044\",\"#fed683\",\"#f47044\",\"#f47044\",\"#99d6a4\",\"#f47044\",\"#58b2ac\",\"#f2faaa\",\"#f47044\",\"#fee491\",\"#f47044\",\"#f47044\",\"#f47044\",\"#f47044\",\"#f47044\",\"#f47044\",\"#f47044\",\"#5061aa\",\"#fee491\",\"#fed683\",\"#fffab6\",\"#f47044\",\"#f47044\",\"#f47044\",\"#f47044\",\"#f47044\",\"#f47044\",\"#f47044\",\"#fdc574\",\"#f47044\",\"#fffab6\",\"#fdb365\",\"#fed683\",\"#99d6a4\",\"#b1dfa3\",\"#f47044\",\"#f47044\",\"#f47044\",\"#fee491\",\"#b1dfa3\",\"#f47044\",\"#f47044\",\"#81cda5\",\"#f47044\",\"#eb6046\",\"#f47044\",\"#f47044\",\"#af1446\",\"#f47044\",\"#f47044\",\"#f47044\",\"#d63f4f\",\"#b1dfa3\",\"#99d6a4\",\"#f47044\",\"#fed683\",\"#58b2ac\",\"#f47044\",\"#b1dfa3\",\"#fee491\",\"#f47044\",\"#f47044\",\"#f47044\",\"#99d6a4\",\"#69c3a5\",\"#b1dfa3\",\"#fbfdb8\",\"#81cda5\",\"#af1446\",\"#f47044\",\"#f47044\",\"#3389bd\",\"#f47044\",\"#58b2ac\",\"#f47044\",\"#f47044\",\"#fdb365\",\"#f47044\",\"#f47044\",\"#3389bd\",\"#af1446\",\"#f47044\",\"#f47044\",\"#fbfdb8\",\"#f47044\",\"#c6e89f\",\"#f47044\",\"#fed683\",\"#fbfdb8\",\"#f47044\",\"#fed683\",\"#fed683\",\"#e9f69d\",\"#f47044\",\"#c6e89f\",\"#daf09a\",\"#fee491\",\"#fdb365\",\"#daf09a\",\"#f47044\",\"#af1446\",\"#f47044\",\"#f47044\",\"#f47044\",\"#fee491\",\"#f47044\",\"#f47044\",\"#fbfdb8\",\"#f47044\",\"#b1dfa3\",\"#af1446\",\"#f47044\",\"#fdc574\",\"#99d6a4\",\"#f47044\",\"#f47044\",\"#f47044\",\"#f47044\",\"#f47044\",\"#af1446\",\"#f47044\",\"#fbfdb8\",\"#fed683\",\"#fee491\",\"#fbfdb8\",\"#f47044\",\"#f47044\",\"#fed683\",\"#fed683\",\"#69c3a5\",\"#f47044\",\"#fdc574\",\"#e9f69d\",\"#f47044\",\"#d63f4f\",\"#f47044\",\"#f2faaa\",\"#81cda5\",\"#f47044\",\"#f47044\",\"#f47044\",\"#f47044\",\"#f47044\",\"#f47044\",\"#f47044\",\"#f47044\",\"#f47044\",\"#fdc574\",\"#81cda5\",\"#58b2ac\",\"#f47044\",\"#fbfdb8\",\"#f47044\",\"#f47044\",\"#d63f4f\",\"#daf09a\",\"#f47044\",\"#f47044\",\"#fb9d59\",\"#f47044\",\"#b1dfa3\",\"#f47044\",\"#fffab6\",\"#f47044\",\"#f47044\",\"#69c3a5\",\"#f47044\",\"#af1446\",\"#9e0142\",\"#f47044\",\"#69c3a5\",\"#daf09a\",\"#99d6a4\",\"#9e0142\",\"#3389bd\",\"#fbfdb8\",\"#f47044\",\"#f47044\",\"#fdb365\",\"#5061aa\",\"#f47044\",\"#99d6a4\",\"#f47044\",\"#f47044\",\"#fee491\",\"#f47044\",\"#f2faaa\",\"#f47044\",\"#f47044\",\"#fed683\",\"#f2faaa\",\"#69c3a5\",\"#f47044\",\"#f47044\",\"#e1504b\",\"#fbfdb8\",\"#f47044\",\"#f47044\",\"#f47044\",\"#58b2ac\",\"#fdc574\",\"#af1446\",\"#f47044\",\"#f47044\",\"#f47044\",\"#f47044\",\"#f47044\",\"#f47044\",\"#f47044\",\"#f47044\",\"#f47044\",\"#f47044\",\"#f47044\",\"#fb9d59\",\"#58b2ac\",\"#f47044\",\"#f47044\",\"#c6e89f\",\"#f47044\",\"#f47044\",\"#58b2ac\",\"#b1dfa3\",\"#fed683\",\"#f47044\",\"#69c3a5\",\"#f47044\",\"#eb6046\",\"#f47044\",\"#69c3a5\",\"#fee491\",\"#af1446\",\"#fed683\",\"#f47044\",\"#f47044\",\"#99d6a4\",\"#f47044\",\"#f47044\",\"#fdb365\",\"#f47044\",\"#fed683\",\"#f47044\",\"#fed683\",\"#f47044\",\"#69c3a5\",\"#f47044\",\"#5061aa\",\"#fed683\",\"#fed683\",\"#f47044\",\"#f47044\",\"#f47044\",\"#5e4fa2\",\"#f47044\",\"#f47044\",\"#f47044\",\"#f47044\",\"#f47044\",\"#f47044\",\"#f47044\",\"#f47044\",\"#fee491\",\"#b1dfa3\",\"#f47044\",\"#fed683\",\"#daf09a\",\"#f47044\",\"#f47044\",\"#f47044\",\"#f47044\",\"#4175b4\",\"#f47044\",\"#f47044\",\"#f47044\",\"#fed683\",\"#fb9d59\",\"#f47044\",\"#fbfdb8\",\"#f47044\",\"#81cda5\",\"#f47044\",\"#fee491\",\"#f47044\",\"#f47044\",\"#fed683\",\"#f47044\",\"#f47044\",\"#f47044\",\"#5e4fa2\",\"#f47044\",\"#f47044\",\"#fdb365\",\"#fed683\",\"#f47044\",\"#58b2ac\",\"#f47044\",\"#58b2ac\",\"#fffab6\",\"#fee491\",\"#f47044\",\"#f47044\",\"#f47044\",\"#f47044\",\"#f47044\",\"#f47044\",\"#58b2ac\",\"#f47044\",\"#fdb365\",\"#f47044\",\"#fee491\",\"#e9f69d\",\"#f47044\",\"#f47044\",\"#58b2ac\",\"#f47044\",\"#fdb365\",\"#f47044\",\"#f47044\",\"#f47044\",\"#f47044\",\"#f47044\",\"#99d6a4\",\"#e9f69d\",\"#fdb365\",\"#fbfdb8\",\"#f47044\",\"#f47044\",\"#f47044\",\"#fed683\",\"#fed683\",\"#f47044\",\"#f47044\",\"#f47044\",\"#69c3a5\",\"#fdc574\",\"#f47044\",\"#e1504b\",\"#58b2ac\",\"#fffab6\",\"#f47044\",\"#f47044\",\"#fed683\",\"#f47044\",\"#f47044\",\"#58b2ac\",\"#f47044\",\"#f2faaa\",\"#f47044\",\"#f47044\",\"#f47044\",\"#f47044\",\"#f47044\",\"#f47044\",\"#fdb365\",\"#f47044\",\"#fdc574\",\"#f47044\",\"#fb9d59\",\"#f47044\",\"#f47044\",\"#f47044\",\"#f47044\",\"#f47044\",\"#58b2ac\",\"#f47044\",\"#f47044\",\"#f47044\",\"#af1446\",\"#e1504b\",\"#f47044\",\"#f47044\",\"#f47044\",\"#f47044\",\"#f47044\",\"#af1446\",\"#fed683\",\"#58b2ac\",\"#f47044\",\"#fffab6\",\"#f47044\",\"#f47044\",\"#f47044\",\"#f47044\",\"#f47044\",\"#f47044\",\"#f47044\",\"#f47044\",\"#99d6a4\",\"#f47044\",\"#f47044\",\"#fed683\",\"#fdc574\",\"#fee491\",\"#5061aa\",\"#f47044\",\"#fbfdb8\",\"#f47044\",\"#f47044\",\"#f47044\",\"#fdb365\",\"#f47044\",\"#fbfdb8\",\"#f47044\",\"#f47044\",\"#f47044\",\"#58b2ac\",\"#b1dfa3\",\"#e1504b\",\"#fee491\",\"#f47044\",\"#f47044\",\"#f47044\",\"#fed683\",\"#f47044\",\"#fee491\",\"#daf09a\",\"#b1dfa3\",\"#9e0142\",\"#fed683\",\"#f47044\",\"#f47044\",\"#f47044\",\"#c6e89f\",\"#fdb365\",\"#f47044\",\"#f47044\",\"#f47044\",\"#af1446\",\"#f47044\",\"#f47044\",\"#fed683\",\"#f47044\",\"#fed683\",\"#f47044\",\"#eb6046\",\"#99d6a4\",\"#99d6a4\",\"#69c3a5\",\"#f47044\",\"#f47044\",\"#fed683\",\"#fee491\",\"#f47044\",\"#58b2ac\",\"#fed683\",\"#f47044\",\"#fed683\",\"#f47044\",\"#f47044\",\"#f47044\",\"#fed683\",\"#fed683\",\"#f47044\",\"#b1dfa3\",\"#f47044\",\"#fed683\",\"#3389bd\",\"#f47044\",\"#69c3a5\",\"#f47044\",\"#f47044\",\"#f47044\",\"#f47044\",\"#f47044\",\"#f47044\",\"#f47044\",\"#b1dfa3\",\"#f47044\",\"#f47044\",\"#fed683\",\"#d63f4f\",\"#f47044\",\"#f47044\",\"#fee491\",\"#69c3a5\",\"#f47044\",\"#f47044\",\"#fed683\",\"#f47044\",\"#e9f69d\",\"#69c3a5\",\"#af1446\",\"#f47044\",\"#f47044\",\"#fed683\",\"#f47044\",\"#81cda5\",\"#f47044\",\"#f47044\",\"#fee491\",\"#f47044\",\"#fee491\",\"#f47044\",\"#c6e89f\",\"#f47044\",\"#f47044\",\"#f47044\",\"#f47044\",\"#f47044\",\"#9e0142\",\"#f47044\",\"#f47044\",\"#f47044\",\"#f47044\",\"#f47044\",\"#f47044\",\"#f47044\",\"#f47044\",\"#f47044\",\"#58b2ac\",\"#f47044\",\"#daf09a\",\"#f47044\",\"#f47044\",\"#f47044\",\"#eb6046\",\"#f47044\",\"#f47044\",\"#99d6a4\",\"#f47044\",\"#f47044\",\"#af1446\",\"#fed683\",\"#99d6a4\",\"#f47044\",\"#f47044\",\"#fee491\",\"#fee491\",\"#f47044\",\"#f47044\",\"#e1504b\",\"#58b2ac\",\"#af1446\",\"#fb9d59\",\"#f47044\",\"#f47044\",\"#81cda5\",\"#f47044\",\"#f47044\",\"#e1504b\",\"#f47044\",\"#fee491\",\"#fbfdb8\",\"#f47044\",\"#58b2ac\",\"#f47044\",\"#fee491\",\"#f47044\",\"#f47044\",\"#f47044\",\"#f47044\",\"#f47044\",\"#58b2ac\",\"#69c3a5\",\"#f47044\",\"#c6e89f\",\"#f47044\",\"#f47044\",\"#f47044\",\"#f47044\",\"#f47044\",\"#eb6046\",\"#f47044\",\"#58b2ac\",\"#58b2ac\",\"#fee491\",\"#f47044\",\"#fee491\",\"#f47044\",\"#f47044\",\"#f47044\",\"#fee491\",\"#f47044\",\"#af1446\",\"#f47044\",\"#f47044\",\"#69c3a5\",\"#f47044\",\"#f47044\",\"#f47044\",\"#99d6a4\",\"#9e0142\",\"#f47044\",\"#fdc574\",\"#af1446\",\"#f47044\",\"#f47044\",\"#af1446\",\"#f47044\",\"#f47044\",\"#f47044\",\"#f47044\",\"#f47044\",\"#f47044\",\"#f47044\",\"#f47044\",\"#f47044\",\"#f47044\",\"#f47044\",\"#f47044\",\"#69c3a5\",\"#f47044\",\"#f47044\",\"#fed683\",\"#daf09a\",\"#f47044\",\"#fb9d59\",\"#c32a4b\",\"#f47044\",\"#fffab6\",\"#f47044\",\"#9e0142\",\"#f47044\",\"#f47044\",\"#fed683\",\"#af1446\",\"#fdc574\",\"#f47044\",\"#f47044\",\"#f47044\",\"#f47044\",\"#e1504b\",\"#e1504b\",\"#f47044\",\"#e1504b\",\"#f47044\",\"#f47044\",\"#58b2ac\",\"#f47044\",\"#9e0142\",\"#e9f69d\",\"#f47044\",\"#f47044\",\"#f47044\",\"#58b2ac\",\"#f47044\",\"#f47044\",\"#f47044\",\"#58b2ac\",\"#f47044\",\"#e1504b\",\"#fee491\",\"#e9f69d\",\"#f47044\",\"#f47044\",\"#b1dfa3\",\"#58b2ac\",\"#daf09a\",\"#fdb365\",\"#f47044\",\"#fed683\",\"#c6e89f\",\"#5061aa\",\"#e1504b\",\"#fb9d59\",\"#f47044\",\"#f47044\",\"#58b2ac\",\"#81cda5\",\"#f47044\",\"#f47044\",\"#58b2ac\",\"#f47044\",\"#daf09a\",\"#f47044\",\"#fed683\",\"#f47044\",\"#fed683\",\"#f47044\",\"#fffab6\",\"#b1dfa3\",\"#f47044\",\"#b1dfa3\",\"#f47044\",\"#fed683\",\"#fee491\",\"#f47044\",\"#69c3a5\",\"#fee491\",\"#b1dfa3\",\"#fbfdb8\",\"#af1446\",\"#f47044\",\"#f47044\",\"#f47044\",\"#f47044\",\"#f47044\",\"#fee491\",\"#99d6a4\",\"#58b2ac\",\"#69c3a5\",\"#e1504b\",\"#f47044\",\"#f47044\",\"#f47044\",\"#58b2ac\",\"#b1dfa3\",\"#f47044\",\"#f47044\",\"#f47044\",\"#f47044\",\"#f47044\",\"#f47044\",\"#69c3a5\",\"#f47044\",\"#58b2ac\",\"#f47044\",\"#fed683\",\"#f47044\",\"#fed683\",\"#f47044\",\"#fffab6\",\"#b1dfa3\",\"#f47044\",\"#58b2ac\",\"#f47044\",\"#f47044\",\"#f47044\",\"#fed683\",\"#e9f69d\",\"#fed683\",\"#f47044\",\"#f47044\",\"#f8864f\",\"#f47044\",\"#f47044\",\"#f47044\",\"#f47044\",\"#fed683\",\"#fed683\",\"#f47044\",\"#fdc574\",\"#f47044\",\"#af1446\",\"#fed683\",\"#e9f69d\",\"#f47044\",\"#fdc574\",\"#f47044\",\"#fed683\",\"#f47044\",\"#f47044\",\"#f47044\",\"#f47044\",\"#f47044\",\"#f47044\",\"#3389bd\",\"#f47044\",\"#f47044\",\"#f47044\",\"#f47044\",\"#d63f4f\",\"#58b2ac\",\"#fed683\",\"#f47044\",\"#f47044\",\"#58b2ac\",\"#f47044\",\"#f47044\",\"#f47044\",\"#f47044\",\"#f47044\",\"#f47044\",\"#69c3a5\",\"#f47044\",\"#f47044\",\"#f8864f\",\"#e9f69d\",\"#f47044\",\"#f47044\",\"#fed683\",\"#99d6a4\",\"#c32a4b\",\"#fed683\",\"#f47044\",\"#58b2ac\",\"#f47044\",\"#f47044\",\"#fed683\",\"#5061aa\",\"#f47044\",\"#f47044\",\"#f47044\",\"#b1dfa3\",\"#fed683\",\"#69c3a5\",\"#fdb365\",\"#b1dfa3\",\"#99d6a4\",\"#fed683\",\"#fffab6\",\"#f47044\",\"#fee491\",\"#fbfdb8\",\"#f47044\",\"#f47044\",\"#f47044\",\"#fed683\",\"#f47044\",\"#69c3a5\",\"#81cda5\",\"#fed683\",\"#fee491\",\"#9e0142\",\"#f47044\",\"#81cda5\",\"#b1dfa3\",\"#f47044\",\"#f47044\",\"#e9f69d\",\"#fee491\",\"#e1504b\",\"#f47044\",\"#f47044\",\"#f47044\",\"#fee491\",\"#f47044\",\"#58b2ac\",\"#fed683\",\"#58b2ac\",\"#f47044\",\"#f47044\",\"#fed683\",\"#f47044\",\"#eb6046\",\"#f47044\",\"#f47044\",\"#f47044\",\"#f47044\",\"#daf09a\",\"#e1504b\",\"#f47044\",\"#f47044\",\"#f47044\",\"#f47044\",\"#f47044\",\"#58b2ac\",\"#f47044\",\"#fed683\",\"#f47044\",\"#af1446\",\"#f47044\",\"#f47044\",\"#99d6a4\",\"#f47044\",\"#f47044\",\"#f47044\",\"#e9f69d\",\"#f47044\",\"#f47044\",\"#f47044\",\"#f47044\",\"#9e0142\",\"#e1504b\",\"#f47044\",\"#fbfdb8\",\"#f47044\",\"#fed683\",\"#99d6a4\",\"#af1446\",\"#af1446\",\"#e1504b\",\"#f47044\",\"#69c3a5\",\"#f47044\",\"#f47044\",\"#f47044\",\"#58b2ac\",\"#f47044\",\"#4175b4\",\"#fed683\",\"#f47044\",\"#fed683\",\"#e9f69d\",\"#f47044\",\"#9e0142\",\"#fee491\",\"#f47044\",\"#f47044\",\"#fee491\",\"#f47044\",\"#f47044\",\"#99d6a4\",\"#f47044\",\"#f47044\",\"#f47044\",\"#fed683\",\"#f47044\",\"#af1446\",\"#f47044\",\"#f47044\",\"#f47044\",\"#f47044\",\"#f47044\",\"#f47044\",\"#f47044\",\"#f47044\",\"#f47044\",\"#f47044\",\"#f47044\",\"#9e0142\",\"#f47044\",\"#fee491\",\"#fdc574\",\"#f47044\",\"#f47044\",\"#f47044\",\"#b1dfa3\",\"#f47044\",\"#f47044\",\"#f47044\",\"#f47044\",\"#f47044\",\"#99d6a4\",\"#f47044\",\"#f47044\",\"#f47044\",\"#fee491\",\"#f47044\",\"#f47044\",\"#fee491\",\"#f47044\",\"#f47044\",\"#f47044\",\"#f47044\",\"#81cda5\",\"#f47044\",\"#f47044\",\"#fed683\",\"#fed683\",\"#69c3a5\",\"#f47044\",\"#f47044\",\"#5e4fa2\",\"#fbfdb8\",\"#f47044\",\"#f47044\",\"#fbfdb8\",\"#f47044\",\"#f47044\",\"#e9f69d\",\"#f47044\",\"#f47044\",\"#58b2ac\",\"#f2faaa\",\"#af1446\",\"#b1dfa3\",\"#f47044\",\"#f47044\",\"#fed683\",\"#f47044\",\"#f47044\",\"#fed683\",\"#fdc574\",\"#f47044\",\"#fee491\",\"#f47044\",\"#f47044\",\"#f47044\",\"#b1dfa3\",\"#9e0142\",\"#f47044\",\"#e1504b\",\"#f47044\",\"#f47044\",\"#f47044\",\"#af1446\",\"#f47044\",\"#f47044\",\"#f47044\",\"#fbfdb8\",\"#fdb365\",\"#f47044\",\"#f47044\",\"#f8864f\",\"#f47044\",\"#f47044\",\"#f47044\",\"#fed683\",\"#fed683\",\"#58b2ac\",\"#c6e89f\",\"#f47044\",\"#fdb365\",\"#58b2ac\",\"#99d6a4\",\"#f47044\",\"#f47044\",\"#fee491\",\"#f47044\",\"#f47044\",\"#9e0142\",\"#feefa3\",\"#f47044\",\"#c6e89f\",\"#f47044\",\"#f47044\",\"#58b2ac\",\"#f47044\",\"#f47044\",\"#f47044\",\"#f47044\",\"#f47044\",\"#f47044\",\"#f2faaa\",\"#f47044\",\"#f47044\",\"#f47044\",\"#fee491\",\"#f47044\",\"#9e0142\",\"#f47044\",\"#f47044\",\"#69c3a5\",\"#f47044\",\"#f47044\",\"#f47044\",\"#f47044\",\"#f47044\",\"#fed683\",\"#f47044\",\"#f47044\",\"#b1dfa3\",\"#fbfdb8\",\"#f47044\",\"#daf09a\",\"#f47044\",\"#58b2ac\",\"#f47044\",\"#f47044\",\"#f47044\",\"#fee491\",\"#e1504b\",\"#58b2ac\",\"#eb6046\",\"#f47044\",\"#99d6a4\",\"#f47044\",\"#f47044\",\"#fee491\",\"#f47044\",\"#fffab6\",\"#d63f4f\",\"#f2faaa\",\"#fee491\",\"#f47044\",\"#fed683\",\"#f47044\",\"#fee491\",\"#f47044\",\"#58b2ac\",\"#f47044\",\"#f47044\",\"#f47044\",\"#f47044\",\"#f47044\",\"#f47044\",\"#f47044\",\"#f47044\",\"#99d6a4\",\"#f47044\",\"#99d6a4\",\"#99d6a4\",\"#99d6a4\",\"#af1446\",\"#f47044\",\"#fed683\",\"#f47044\",\"#fdb365\",\"#f47044\",\"#fdc574\",\"#f47044\",\"#f47044\",\"#f47044\",\"#f47044\",\"#f47044\",\"#e1504b\",\"#f47044\",\"#58b2ac\",\"#fbfdb8\",\"#fbfdb8\",\"#9e0142\",\"#f47044\",\"#f47044\",\"#f47044\",\"#f47044\",\"#fee491\",\"#f47044\",\"#f47044\",\"#5061aa\",\"#f47044\",\"#f47044\",\"#af1446\",\"#e1504b\",\"#f47044\",\"#f47044\",\"#69c3a5\",\"#b1dfa3\",\"#fee491\",\"#f47044\",\"#b1dfa3\",\"#fee491\",\"#f47044\",\"#fed683\",\"#f47044\",\"#f47044\",\"#fee491\",\"#f47044\",\"#fee491\",\"#f47044\",\"#f47044\",\"#f47044\",\"#c6e89f\",\"#f47044\",\"#af1446\",\"#f47044\",\"#58b2ac\",\"#f47044\",\"#f47044\",\"#f2faaa\",\"#5061aa\",\"#fed683\",\"#f47044\",\"#f47044\",\"#f47044\",\"#f47044\",\"#f47044\",\"#f47044\",\"#99d6a4\",\"#f47044\",\"#58b2ac\",\"#fed683\",\"#af1446\",\"#58b2ac\",\"#b1dfa3\",\"#5061aa\",\"#f47044\",\"#69c3a5\",\"#f47044\",\"#fee491\",\"#99d6a4\",\"#fed683\",\"#fed683\",\"#99d6a4\",\"#f47044\",\"#f47044\",\"#58b2ac\",\"#f47044\",\"#e9f69d\",\"#fdb365\",\"#fee491\",\"#fed683\",\"#f47044\",\"#f47044\",\"#f47044\",\"#f47044\",\"#69c3a5\",\"#fb9d59\",\"#f47044\",\"#58b2ac\",\"#f47044\",\"#fed683\",\"#f47044\",\"#fed683\",\"#69c3a5\",\"#f47044\",\"#fed683\",\"#f47044\",\"#f47044\",\"#fed683\",\"#fee491\",\"#58b2ac\",\"#f47044\",\"#f47044\",\"#af1446\",\"#f47044\",\"#f47044\",\"#f47044\",\"#d63f4f\",\"#f47044\",\"#f47044\",\"#fed683\",\"#f47044\",\"#f47044\",\"#f47044\",\"#f47044\",\"#daf09a\",\"#69c3a5\",\"#f47044\",\"#f47044\",\"#99d6a4\",\"#f47044\",\"#fee491\",\"#e9f69d\",\"#58b2ac\",\"#f47044\",\"#e9f69d\",\"#f47044\",\"#fdb365\",\"#fed683\",\"#f47044\",\"#58b2ac\",\"#f47044\",\"#f47044\",\"#fbfdb8\",\"#f47044\",\"#f47044\",\"#f47044\",\"#f47044\",\"#e9f69d\",\"#f47044\",\"#f47044\",\"#fee491\",\"#f47044\",\"#f47044\",\"#fed683\",\"#58b2ac\",\"#f47044\",\"#f47044\",\"#f47044\",\"#e9f69d\",\"#af1446\",\"#f47044\",\"#b1dfa3\",\"#b1dfa3\",\"#99d6a4\",\"#f47044\",\"#f47044\",\"#f47044\",\"#fed683\",\"#f47044\",\"#b1dfa3\",\"#5061aa\",\"#fee491\",\"#f2faaa\",\"#fed683\",\"#f47044\",\"#fffab6\",\"#fed683\",\"#f47044\",\"#b1dfa3\",\"#f47044\",\"#f47044\",\"#e9f69d\",\"#e9f69d\",\"#99d6a4\",\"#fee491\",\"#f47044\",\"#f47044\",\"#b1dfa3\",\"#f47044\",\"#58b2ac\",\"#f47044\",\"#f47044\",\"#58b2ac\",\"#f47044\",\"#f47044\",\"#fdc574\",\"#fee491\",\"#69c3a5\",\"#f47044\",\"#58b2ac\",\"#f8864f\",\"#f47044\",\"#fed683\",\"#af1446\",\"#fed683\",\"#99d6a4\",\"#fb9d59\",\"#f47044\",\"#f47044\",\"#f47044\",\"#f47044\",\"#f47044\",\"#f47044\",\"#3389bd\",\"#f47044\",\"#3389bd\",\"#fed683\",\"#f47044\",\"#f47044\",\"#f47044\",\"#fbfdb8\",\"#e9f69d\",\"#fed683\",\"#f47044\",\"#f47044\",\"#69c3a5\",\"#fed683\",\"#f47044\",\"#fed683\",\"#58b2ac\",\"#f47044\",\"#69c3a5\",\"#fdc574\",\"#f47044\",\"#f47044\",\"#f47044\",\"#d63f4f\",\"#fffab6\",\"#f47044\",\"#f47044\",\"#fed683\",\"#f47044\",\"#f8864f\",\"#f47044\",\"#b1dfa3\",\"#f47044\",\"#f47044\",\"#f47044\",\"#58b2ac\",\"#f47044\",\"#f47044\",\"#fee491\",\"#fbfdb8\",\"#b1dfa3\",\"#3389bd\",\"#58b2ac\",\"#f47044\",\"#58b2ac\",\"#fed683\",\"#f47044\",\"#fee491\",\"#f47044\",\"#f47044\",\"#f47044\",\"#f47044\",\"#f47044\",\"#58b2ac\",\"#f47044\",\"#f47044\",\"#5061aa\",\"#81cda5\",\"#f47044\",\"#e9f69d\",\"#fed683\",\"#f47044\",\"#f47044\",\"#69c3a5\",\"#fed683\",\"#f47044\",\"#af1446\",\"#fed683\",\"#f47044\",\"#f47044\",\"#f47044\",\"#f47044\",\"#f47044\",\"#fdb365\",\"#f47044\",\"#b1dfa3\",\"#99d6a4\",\"#f47044\",\"#58b2ac\",\"#69c3a5\",\"#f47044\",\"#f47044\",\"#f47044\",\"#f47044\",\"#99d6a4\",\"#f47044\",\"#af1446\",\"#f47044\",\"#f47044\",\"#f47044\",\"#fed683\",\"#99d6a4\",\"#69c3a5\",\"#f47044\",\"#af1446\",\"#fdb365\",\"#f47044\",\"#f47044\",\"#f47044\",\"#f47044\",\"#af1446\",\"#f47044\",\"#f47044\",\"#f47044\",\"#f47044\",\"#f47044\",\"#f47044\",\"#f47044\",\"#f47044\",\"#99d6a4\",\"#f47044\",\"#f47044\",\"#f47044\",\"#f47044\",\"#fed683\",\"#f47044\",\"#f47044\",\"#f47044\",\"#f47044\",\"#f47044\",\"#fed683\",\"#f47044\",\"#f47044\",\"#fee491\",\"#f47044\",\"#fed683\",\"#58b2ac\",\"#fed683\",\"#f47044\",\"#f47044\",\"#f47044\",\"#fee491\",\"#f47044\",\"#f47044\",\"#f47044\",\"#f47044\",\"#f47044\",\"#69c3a5\",\"#fb9d59\",\"#f47044\",\"#f47044\",\"#f2faaa\",\"#f47044\",\"#f47044\",\"#f47044\",\"#fbfdb8\",\"#f47044\",\"#af1446\",\"#fed683\",\"#f47044\",\"#69c3a5\",\"#f47044\",\"#fed683\",\"#f47044\",\"#f47044\",\"#9e0142\",\"#fee491\",\"#fb9d59\",\"#fed683\",\"#99d6a4\",\"#69c3a5\",\"#f47044\",\"#9e0142\",\"#f47044\",\"#f47044\",\"#f47044\",\"#fed683\",\"#fed683\",\"#69c3a5\",\"#f47044\",\"#f47044\",\"#f47044\",\"#58b2ac\",\"#fffab6\",\"#f47044\",\"#f47044\",\"#af1446\",\"#f47044\",\"#f47044\",\"#f47044\",\"#fdc574\",\"#f47044\",\"#f47044\",\"#fee491\",\"#f47044\",\"#fbfdb8\",\"#69c3a5\",\"#f47044\",\"#f47044\",\"#f47044\",\"#f47044\",\"#fed683\",\"#f47044\",\"#f47044\",\"#f47044\",\"#f47044\",\"#f47044\",\"#f47044\",\"#9e0142\",\"#e9f69d\",\"#f47044\",\"#99d6a4\",\"#e9f69d\",\"#f47044\",\"#f47044\",\"#58b2ac\",\"#f47044\",\"#fed683\",\"#f47044\",\"#fee491\",\"#f47044\",\"#fee491\",\"#f47044\",\"#fbfdb8\",\"#fed683\",\"#f47044\",\"#58b2ac\",\"#f47044\",\"#f47044\",\"#f47044\",\"#e1504b\",\"#58b2ac\",\"#fed683\",\"#f47044\",\"#fee491\",\"#f47044\",\"#f47044\",\"#f47044\",\"#f47044\",\"#f47044\",\"#f47044\",\"#f47044\",\"#f47044\",\"#f47044\",\"#f47044\",\"#f47044\",\"#f47044\",\"#fee491\",\"#69c3a5\",\"#f47044\",\"#f47044\",\"#f47044\",\"#f47044\",\"#f47044\",\"#fdb365\",\"#f47044\",\"#fed683\",\"#f47044\",\"#f47044\",\"#f47044\",\"#f47044\",\"#58b2ac\",\"#f47044\",\"#f47044\",\"#5061aa\",\"#f47044\",\"#f47044\",\"#f47044\",\"#fdc574\",\"#f47044\",\"#fed683\",\"#f47044\",\"#f47044\",\"#f47044\",\"#af1446\",\"#fbfdb8\",\"#f47044\",\"#f47044\",\"#99d6a4\",\"#f47044\",\"#fdb365\",\"#f47044\",\"#fee491\",\"#fffab6\",\"#f47044\",\"#f47044\",\"#f47044\",\"#f47044\",\"#fed683\",\"#f47044\",\"#f47044\",\"#e9f69d\",\"#fffab6\",\"#f47044\",\"#f47044\",\"#fbfdb8\",\"#b1dfa3\",\"#f47044\",\"#f47044\",\"#f47044\",\"#f47044\",\"#f47044\",\"#af1446\",\"#daf09a\",\"#d63f4f\",\"#f47044\",\"#f47044\",\"#fed683\",\"#af1446\",\"#f47044\",\"#99d6a4\",\"#f47044\",\"#f47044\",\"#f47044\",\"#f47044\",\"#fdb365\",\"#459eb4\",\"#e1504b\",\"#f47044\",\"#f47044\",\"#fed683\",\"#af1446\",\"#fed683\",\"#f47044\",\"#58b2ac\",\"#69c3a5\",\"#c6e89f\",\"#9e0142\",\"#f47044\",\"#e1504b\",\"#f47044\",\"#f47044\",\"#fbfdb8\",\"#f47044\",\"#f47044\",\"#f47044\",\"#fee491\",\"#f47044\",\"#58b2ac\",\"#f47044\",\"#9e0142\",\"#f47044\",\"#f47044\",\"#f47044\",\"#f47044\",\"#f47044\",\"#f47044\",\"#f47044\",\"#f47044\",\"#f47044\",\"#f47044\",\"#f47044\",\"#58b2ac\",\"#f47044\",\"#fffab6\",\"#b1dfa3\",\"#f47044\",\"#f47044\",\"#fbfdb8\",\"#58b2ac\",\"#f47044\",\"#f47044\",\"#5061aa\",\"#f47044\",\"#f47044\",\"#f47044\",\"#99d6a4\",\"#f47044\",\"#f47044\",\"#e1504b\",\"#fed683\",\"#58b2ac\",\"#f47044\",\"#fee491\",\"#69c3a5\",\"#f47044\",\"#daf09a\",\"#f47044\",\"#3389bd\",\"#fee491\",\"#f47044\",\"#f47044\",\"#f47044\",\"#f47044\",\"#f47044\",\"#f47044\",\"#af1446\",\"#f47044\",\"#f47044\",\"#eb6046\",\"#fed683\",\"#f47044\",\"#5061aa\",\"#58b2ac\",\"#f47044\",\"#69c3a5\",\"#f47044\",\"#e9f69d\",\"#f47044\",\"#e1504b\",\"#f47044\",\"#af1446\",\"#fee491\",\"#69c3a5\",\"#fed683\",\"#fed683\",\"#d63f4f\",\"#fed683\",\"#f47044\",\"#fee491\",\"#58b2ac\",\"#58b2ac\",\"#69c3a5\",\"#f47044\",\"#f47044\",\"#fbfdb8\",\"#f47044\",\"#fee491\",\"#f47044\",\"#f47044\",\"#58b2ac\",\"#58b2ac\",\"#99d6a4\",\"#f47044\",\"#f47044\",\"#f47044\",\"#f47044\",\"#f47044\",\"#f47044\",\"#e9f69d\",\"#f47044\",\"#58b2ac\",\"#f47044\",\"#f47044\",\"#f47044\",\"#f47044\",\"#99d6a4\",\"#f47044\",\"#9e0142\",\"#b1dfa3\",\"#f47044\",\"#f47044\",\"#f47044\",\"#b1dfa3\",\"#f47044\",\"#f47044\",\"#f47044\",\"#f47044\",\"#f47044\",\"#f47044\",\"#f47044\",\"#f47044\",\"#f47044\",\"#fed683\",\"#f47044\",\"#fb9d59\",\"#58b2ac\",\"#58b2ac\",\"#e9f69d\",\"#58b2ac\",\"#f47044\",\"#f47044\",\"#fdb365\",\"#58b2ac\",\"#c6e89f\",\"#f47044\",\"#f47044\",\"#f47044\",\"#e1504b\",\"#f47044\",\"#f47044\",\"#f47044\",\"#f47044\",\"#f47044\",\"#f47044\",\"#f47044\",\"#f47044\",\"#f47044\",\"#3389bd\",\"#f47044\",\"#c6e89f\",\"#69c3a5\",\"#eb6046\",\"#fbfdb8\",\"#af1446\",\"#f47044\",\"#e9f69d\",\"#58b2ac\",\"#e1504b\",\"#58b2ac\",\"#f47044\",\"#f47044\",\"#f47044\",\"#f47044\",\"#f47044\",\"#f47044\",\"#af1446\",\"#f47044\",\"#f47044\",\"#f47044\",\"#fdb365\",\"#fee491\",\"#f47044\",\"#99d6a4\",\"#f47044\",\"#f47044\",\"#c6e89f\",\"#af1446\",\"#fee491\",\"#f47044\",\"#f47044\",\"#f47044\",\"#f47044\",\"#f47044\",\"#fee491\",\"#c6e89f\",\"#f47044\",\"#f47044\",\"#f47044\",\"#fed683\",\"#69c3a5\",\"#f47044\",\"#f47044\",\"#f47044\",\"#f47044\",\"#fbfdb8\",\"#f47044\",\"#f47044\",\"#69c3a5\",\"#f47044\",\"#58b2ac\",\"#69c3a5\",\"#fee491\",\"#f47044\",\"#f47044\",\"#f47044\",\"#f47044\",\"#f47044\",\"#f47044\",\"#fdb365\",\"#f47044\",\"#f47044\",\"#f47044\",\"#fed683\",\"#e9f69d\",\"#af1446\",\"#f47044\",\"#f47044\",\"#fed683\",\"#f47044\",\"#f47044\",\"#f47044\",\"#f47044\",\"#f47044\",\"#f47044\",\"#f47044\",\"#f47044\",\"#fbfdb8\",\"#f47044\",\"#f47044\",\"#f47044\",\"#f47044\",\"#99d6a4\",\"#fee491\",\"#f47044\",\"#f47044\",\"#f47044\",\"#af1446\",\"#f47044\",\"#f47044\",\"#b1dfa3\",\"#fbfdb8\",\"#c6e89f\",\"#58b2ac\",\"#fbfdb8\",\"#58b2ac\",\"#f47044\",\"#fee491\",\"#fffab6\",\"#fed683\",\"#f47044\",\"#f47044\",\"#f47044\",\"#fdb365\",\"#58b2ac\",\"#f47044\",\"#fed683\",\"#f47044\",\"#f47044\",\"#f47044\",\"#69c3a5\",\"#f47044\",\"#f2faaa\",\"#fed683\",\"#f47044\",\"#e9f69d\",\"#f47044\",\"#fee491\",\"#f47044\",\"#fed683\",\"#fee491\",\"#f47044\",\"#b1dfa3\",\"#f47044\",\"#daf09a\",\"#b1dfa3\",\"#fffab6\",\"#81cda5\",\"#f47044\",\"#f47044\",\"#f47044\",\"#f47044\",\"#fed683\",\"#58b2ac\",\"#f47044\",\"#f47044\",\"#e1504b\",\"#f47044\",\"#f47044\",\"#fffab6\",\"#f47044\",\"#f47044\",\"#f47044\",\"#f47044\",\"#69c3a5\",\"#f47044\",\"#69c3a5\",\"#f47044\",\"#f47044\",\"#f47044\",\"#f47044\",\"#f47044\",\"#f47044\",\"#af1446\",\"#f47044\",\"#f47044\",\"#f47044\",\"#9e0142\",\"#fed683\",\"#af1446\",\"#f47044\",\"#f8864f\",\"#fee491\",\"#f47044\",\"#e1504b\",\"#e1504b\",\"#f8864f\",\"#f47044\",\"#58b2ac\",\"#b1dfa3\",\"#f47044\",\"#f47044\",\"#f47044\",\"#f47044\",\"#f47044\",\"#f47044\",\"#f47044\",\"#fee491\",\"#5061aa\",\"#fffab6\",\"#f47044\",\"#f47044\",\"#fed683\",\"#f47044\",\"#fdb365\",\"#58b2ac\",\"#f47044\",\"#f47044\",\"#58b2ac\",\"#f47044\",\"#f47044\",\"#f47044\",\"#fed683\",\"#58b2ac\",\"#f47044\",\"#f47044\",\"#f47044\",\"#fdb365\",\"#f47044\",\"#b1dfa3\",\"#f47044\",\"#f47044\",\"#f47044\",\"#f47044\",\"#f47044\",\"#fed683\",\"#f47044\",\"#eb6046\",\"#b1dfa3\",\"#f47044\",\"#f47044\",\"#fee491\",\"#b1dfa3\",\"#e1504b\",\"#f47044\",\"#f47044\",\"#f47044\",\"#fed683\",\"#fee491\",\"#f47044\",\"#5061aa\",\"#f47044\",\"#58b2ac\",\"#fee491\",\"#b1dfa3\",\"#f47044\",\"#f47044\",\"#f47044\",\"#f47044\",\"#f47044\",\"#99d6a4\",\"#fdc574\",\"#f47044\",\"#fed683\",\"#f47044\",\"#b1dfa3\",\"#fbfdb8\",\"#f47044\",\"#f47044\",\"#f47044\",\"#f47044\",\"#58b2ac\",\"#daf09a\",\"#f47044\",\"#f47044\",\"#69c3a5\"],\"index\":{\"__ndarray__\":\"AAAAAAEAAAACAAAAAwAAAAQAAAAFAAAABgAAAAcAAAAIAAAACQAAAAoAAAALAAAADAAAAA0AAAAOAAAADwAAABAAAAARAAAAEgAAABMAAAAUAAAAFQAAABYAAAAXAAAAGAAAABkAAAAaAAAAGwAAABwAAAAdAAAAHgAAAB8AAAAgAAAAIQAAACIAAAAjAAAAJAAAACUAAAAmAAAAJwAAACgAAAApAAAAKgAAACsAAAAsAAAALQAAAC4AAAAvAAAAMAAAADEAAAAyAAAAMwAAADQAAAA1AAAANgAAADcAAAA4AAAAOQAAADoAAAA7AAAAPAAAAD0AAAA+AAAAPwAAAEAAAABBAAAAQgAAAEMAAABEAAAARQAAAEYAAABHAAAASAAAAEkAAABKAAAASwAAAEwAAABNAAAATgAAAE8AAABQAAAAUQAAAFIAAABTAAAAVAAAAFUAAABWAAAAVwAAAFgAAABZAAAAWgAAAFsAAABcAAAAXQAAAF4AAABfAAAAYAAAAGEAAABiAAAAYwAAAGQAAABlAAAAZgAAAGcAAABoAAAAaQAAAGoAAABrAAAAbAAAAG0AAABuAAAAbwAAAHAAAABxAAAAcgAAAHMAAAB0AAAAdQAAAHYAAAB3AAAAeAAAAHkAAAB6AAAAewAAAHwAAAB9AAAAfgAAAH8AAACAAAAAgQAAAIIAAACDAAAAhAAAAIUAAACGAAAAhwAAAIgAAACJAAAAigAAAIsAAACMAAAAjQAAAI4AAACPAAAAkAAAAJEAAACSAAAAkwAAAJQAAACVAAAAlgAAAJcAAACYAAAAmQAAAJoAAACbAAAAnAAAAJ0AAACeAAAAnwAAAKAAAAChAAAAogAAAKMAAACkAAAApQAAAKYAAACnAAAAqAAAAKkAAACqAAAAqwAAAKwAAACtAAAArgAAAK8AAACwAAAAsQAAALIAAACzAAAAtAAAALUAAAC2AAAAtwAAALgAAAC5AAAAugAAALsAAAC8AAAAvQAAAL4AAAC/AAAAwAAAAMEAAADCAAAAwwAAAMQAAADFAAAAxgAAAMcAAADIAAAAyQAAAMoAAADLAAAAzAAAAM0AAADOAAAAzwAAANAAAADRAAAA0gAAANMAAADUAAAA1QAAANYAAADXAAAA2AAAANkAAADaAAAA2wAAANwAAADdAAAA3gAAAN8AAADgAAAA4QAAAOIAAADjAAAA5AAAAOUAAADmAAAA5wAAAOgAAADpAAAA6gAAAOsAAADsAAAA7QAAAO4AAADvAAAA8AAAAPEAAADyAAAA8wAAAPQAAAD1AAAA9gAAAPcAAAD4AAAA+QAAAPoAAAD7AAAA/AAAAP0AAAD+AAAA/wAAAAABAAABAQAAAgEAAAMBAAAEAQAABQEAAAYBAAAHAQAACAEAAAkBAAAKAQAACwEAAAwBAAANAQAADgEAAA8BAAAQAQAAEQEAABIBAAATAQAAFAEAABUBAAAWAQAAFwEAABgBAAAZAQAAGgEAABsBAAAcAQAAHQEAAB4BAAAfAQAAIAEAACEBAAAiAQAAIwEAACQBAAAlAQAAJgEAACcBAAAoAQAAKQEAACoBAAArAQAALAEAAC0BAAAuAQAALwEAADABAAAxAQAAMgEAADMBAAA0AQAANQEAADYBAAA3AQAAOAEAADkBAAA6AQAAOwEAADwBAAA9AQAAPgEAAD8BAABAAQAAQQEAAEIBAABDAQAARAEAAEUBAABGAQAARwEAAEgBAABJAQAASgEAAEsBAABMAQAATQEAAE4BAABPAQAAUAEAAFEBAABSAQAAUwEAAFQBAABVAQAAVgEAAFcBAABYAQAAWQEAAFoBAABbAQAAXAEAAF0BAABeAQAAXwEAAGABAABhAQAAYgEAAGMBAABkAQAAZQEAAGYBAABnAQAAaAEAAGkBAABqAQAAawEAAGwBAABtAQAAbgEAAG8BAABwAQAAcQEAAHIBAABzAQAAdAEAAHUBAAB2AQAAdwEAAHgBAAB5AQAAegEAAHsBAAB8AQAAfQEAAH4BAAB/AQAAgAEAAIEBAACCAQAAgwEAAIQBAACFAQAAhgEAAIcBAACIAQAAiQEAAIoBAACLAQAAjAEAAI0BAACOAQAAjwEAAJABAACRAQAAkgEAAJMBAACUAQAAlQEAAJYBAACXAQAAmAEAAJkBAACaAQAAmwEAAJwBAACdAQAAngEAAJ8BAACgAQAAoQEAAKIBAACjAQAApAEAAKUBAACmAQAApwEAAKgBAACpAQAAqgEAAKsBAACsAQAArQEAAK4BAACvAQAAsAEAALEBAACyAQAAswEAALQBAAC1AQAAtgEAALcBAAC4AQAAuQEAALoBAAC7AQAAvAEAAL0BAAC+AQAAvwEAAMABAADBAQAAwgEAAMMBAADEAQAAxQEAAMYBAADHAQAAyAEAAMkBAADKAQAAywEAAMwBAADNAQAAzgEAAM8BAADQAQAA0QEAANIBAADTAQAA1AEAANUBAADWAQAA1wEAANgBAADZAQAA2gEAANsBAADcAQAA3QEAAN4BAADfAQAA4AEAAOEBAADiAQAA4wEAAOQBAADlAQAA5gEAAOcBAADoAQAA6QEAAOoBAADrAQAA7AEAAO0BAADuAQAA7wEAAPABAADxAQAA8gEAAPMBAAD0AQAA9QEAAPYBAAD3AQAA+AEAAPkBAAD6AQAA+wEAAPwBAAD9AQAA/gEAAP8BAAAAAgAAAQIAAAICAAADAgAABAIAAAUCAAAGAgAABwIAAAgCAAAJAgAACgIAAAsCAAAMAgAADQIAAA4CAAAPAgAAEAIAABECAAASAgAAEwIAABQCAAAVAgAAFgIAABcCAAAYAgAAGQIAABoCAAAbAgAAHAIAAB0CAAAeAgAAHwIAACACAAAhAgAAIgIAACMCAAAkAgAAJQIAACYCAAAnAgAAKAIAACkCAAAqAgAAKwIAACwCAAAtAgAALgIAAC8CAAAwAgAAMQIAADICAAAzAgAANAIAADUCAAA2AgAANwIAADgCAAA5AgAAOgIAADsCAAA8AgAAPQIAAD4CAAA/AgAAQAIAAEECAABCAgAAQwIAAEQCAABFAgAARgIAAEcCAABIAgAASQIAAEoCAABLAgAATAIAAE0CAABOAgAATwIAAFACAABRAgAAUgIAAFMCAABUAgAAVQIAAFYCAABXAgAAWAIAAFkCAABaAgAAWwIAAFwCAABdAgAAXgIAAF8CAABgAgAAYQIAAGICAABjAgAAZAIAAGUCAABmAgAAZwIAAGgCAABpAgAAagIAAGsCAABsAgAAbQIAAG4CAABvAgAAcAIAAHECAAByAgAAcwIAAHQCAAB1AgAAdgIAAHcCAAB4AgAAeQIAAHoCAAB7AgAAfAIAAH0CAAB+AgAAfwIAAIACAACBAgAAggIAAIMCAACEAgAAhQIAAIYCAACHAgAAiAIAAIkCAACKAgAAiwIAAIwCAACNAgAAjgIAAI8CAACQAgAAkQIAAJICAACTAgAAlAIAAJUCAACWAgAAlwIAAJgCAACZAgAAmgIAAJsCAACcAgAAnQIAAJ4CAACfAgAAoAIAAKECAACiAgAAowIAAKQCAAClAgAApgIAAKcCAACoAgAAqQIAAKoCAACrAgAArAIAAK0CAACuAgAArwIAALACAACxAgAAsgIAALMCAAC0AgAAtQIAALYCAAC3AgAAuAIAALkCAAC6AgAAuwIAALwCAAC9AgAAvgIAAL8CAADAAgAAwQIAAMICAADDAgAAxAIAAMUCAADGAgAAxwIAAMgCAADJAgAAygIAAMsCAADMAgAAzQIAAM4CAADPAgAA0AIAANECAADSAgAA0wIAANQCAADVAgAA1gIAANcCAADYAgAA2QIAANoCAADbAgAA3AIAAN0CAADeAgAA3wIAAOACAADhAgAA4gIAAOMCAADkAgAA5QIAAOYCAADnAgAA6AIAAOkCAADqAgAA6wIAAOwCAADtAgAA7gIAAO8CAADwAgAA8QIAAPICAADzAgAA9AIAAPUCAAD2AgAA9wIAAPgCAAD5AgAA+gIAAPsCAAD8AgAA/QIAAP4CAAD/AgAAAAMAAAEDAAACAwAAAwMAAAQDAAAFAwAABgMAAAcDAAAIAwAACQMAAAoDAAALAwAADAMAAA0DAAAOAwAADwMAABADAAARAwAAEgMAABMDAAAUAwAAFQMAABYDAAAXAwAAGAMAABkDAAAaAwAAGwMAABwDAAAdAwAAHgMAAB8DAAAgAwAAIQMAACIDAAAjAwAAJAMAACUDAAAmAwAAJwMAACgDAAApAwAAKgMAACsDAAAsAwAALQMAAC4DAAAvAwAAMAMAADEDAAAyAwAAMwMAADQDAAA1AwAANgMAADcDAAA4AwAAOQMAADoDAAA7AwAAPAMAAD0DAAA+AwAAPwMAAEADAABBAwAAQgMAAEMDAABEAwAARQMAAEYDAABHAwAASAMAAEkDAABKAwAASwMAAEwDAABNAwAATgMAAE8DAABQAwAAUQMAAFIDAABTAwAAVAMAAFUDAABWAwAAVwMAAFgDAABZAwAAWgMAAFsDAABcAwAAXQMAAF4DAABfAwAAYAMAAGEDAABiAwAAYwMAAGQDAABlAwAAZgMAAGcDAABoAwAAaQMAAGoDAABrAwAAbAMAAG0DAABuAwAAbwMAAHADAABxAwAAcgMAAHMDAAB0AwAAdQMAAHYDAAB3AwAAeAMAAHkDAAB6AwAAewMAAHwDAAB9AwAAfgMAAH8DAACAAwAAgQMAAIIDAACDAwAAhAMAAIUDAACGAwAAhwMAAIgDAACJAwAAigMAAIsDAACMAwAAjQMAAI4DAACPAwAAkAMAAJEDAACSAwAAkwMAAJQDAACVAwAAlgMAAJcDAACYAwAAmQMAAJoDAACbAwAAnAMAAJ0DAACeAwAAnwMAAKADAAChAwAAogMAAKMDAACkAwAApQMAAKYDAACnAwAAqAMAAKkDAACqAwAAqwMAAKwDAACtAwAArgMAAK8DAACwAwAAsQMAALIDAACzAwAAtAMAALUDAAC2AwAAtwMAALgDAAC5AwAAugMAALsDAAC8AwAAvQMAAL4DAAC/AwAAwAMAAMEDAADCAwAAwwMAAMQDAADFAwAAxgMAAMcDAADIAwAAyQMAAMoDAADLAwAAzAMAAM0DAADOAwAAzwMAANADAADRAwAA0gMAANMDAADUAwAA1QMAANYDAADXAwAA2AMAANkDAADaAwAA2wMAANwDAADdAwAA3gMAAN8DAADgAwAA4QMAAOIDAADjAwAA5AMAAOUDAADmAwAA5wMAAOgDAADpAwAA6gMAAOsDAADsAwAA7QMAAO4DAADvAwAA8AMAAPEDAADyAwAA8wMAAPQDAAD1AwAA9gMAAPcDAAD4AwAA+QMAAPoDAAD7AwAA/AMAAP0DAAD+AwAA/wMAAAAEAAABBAAAAgQAAAMEAAAEBAAABQQAAAYEAAAHBAAACAQAAAkEAAAKBAAACwQAAAwEAAANBAAADgQAAA8EAAAQBAAAEQQAABIEAAATBAAAFAQAABUEAAAWBAAAFwQAABgEAAAZBAAAGgQAABsEAAAcBAAAHQQAAB4EAAAfBAAAIAQAACEEAAAiBAAAIwQAACQEAAAlBAAAJgQAACcEAAAoBAAAKQQAACoEAAArBAAALAQAAC0EAAAuBAAALwQAADAEAAAxBAAAMgQAADMEAAA0BAAANQQAADYEAAA3BAAAOAQAADkEAAA6BAAAOwQAADwEAAA9BAAAPgQAAD8EAABABAAAQQQAAEIEAABDBAAARAQAAEUEAABGBAAARwQAAEgEAABJBAAASgQAAEsEAABMBAAATQQAAE4EAABPBAAAUAQAAFEEAABSBAAAUwQAAFQEAABVBAAAVgQAAFcEAABYBAAAWQQAAFoEAABbBAAAXAQAAF0EAABeBAAAXwQAAGAEAABhBAAAYgQAAGMEAABkBAAAZQQAAGYEAABnBAAAaAQAAGkEAABqBAAAawQAAGwEAABtBAAAbgQAAG8EAABwBAAAcQQAAHIEAABzBAAAdAQAAHUEAAB2BAAAdwQAAHgEAAB5BAAAegQAAHsEAAB8BAAAfQQAAH4EAAB/BAAAgAQAAIEEAACCBAAAgwQAAIQEAACFBAAAhgQAAIcEAACIBAAAiQQAAIoEAACLBAAAjAQAAI0EAACOBAAAjwQAAJAEAACRBAAAkgQAAJMEAACUBAAAlQQAAJYEAACXBAAAmAQAAJkEAACaBAAAmwQAAJwEAACdBAAAngQAAJ8EAACgBAAAoQQAAKIEAACjBAAApAQAAKUEAACmBAAApwQAAKgEAACpBAAAqgQAAKsEAACsBAAArQQAAK4EAACvBAAAsAQAALEEAACyBAAAswQAALQEAAC1BAAAtgQAALcEAAC4BAAAuQQAALoEAAC7BAAAvAQAAL0EAAC+BAAAvwQAAMAEAADBBAAAwgQAAMMEAADEBAAAxQQAAMYEAADHBAAAyAQAAMkEAADKBAAAywQAAMwEAADNBAAAzgQAAM8EAADQBAAA0QQAANIEAADTBAAA1AQAANUEAADWBAAA1wQAANgEAADZBAAA2gQAANsEAADcBAAA3QQAAN4EAADfBAAA4AQAAOEEAADiBAAA4wQAAOQEAADlBAAA5gQAAOcEAADoBAAA6QQAAOoEAADrBAAA7AQAAO0EAADuBAAA7wQAAPAEAADxBAAA8gQAAPMEAAD0BAAA9QQAAPYEAAD3BAAA+AQAAPkEAAD6BAAA+wQAAPwEAAD9BAAA/gQAAP8EAAAABQAAAQUAAAIFAAADBQAABAUAAAUFAAAGBQAABwUAAAgFAAAJBQAACgUAAAsFAAAMBQAADQUAAA4FAAAPBQAAEAUAABEFAAASBQAAEwUAABQFAAAVBQAAFgUAABcFAAAYBQAAGQUAABoFAAAbBQAAHAUAAB0FAAAeBQAAHwUAACAFAAAhBQAAIgUAACMFAAAkBQAAJQUAACYFAAAnBQAAKAUAACkFAAAqBQAAKwUAACwFAAAtBQAALgUAAC8FAAAwBQAAMQUAADIFAAAzBQAANAUAADUFAAA2BQAANwUAADgFAAA5BQAAOgUAADsFAAA8BQAAPQUAAD4FAAA/BQAAQAUAAEEFAABCBQAAQwUAAEQFAABFBQAARgUAAEcFAABIBQAASQUAAEoFAABLBQAATAUAAE0FAABOBQAATwUAAFAFAABRBQAAUgUAAFMFAABUBQAAVQUAAFYFAABXBQAAWAUAAFkFAABaBQAAWwUAAFwFAABdBQAAXgUAAF8FAABgBQAAYQUAAGIFAABjBQAAZAUAAGUFAABmBQAAZwUAAGgFAABpBQAAagUAAGsFAABsBQAAbQUAAG4FAABvBQAAcAUAAHEFAAByBQAAcwUAAHQFAAB1BQAAdgUAAHcFAAB4BQAAeQUAAHoFAAB7BQAAfAUAAH0FAAB+BQAAfwUAAIAFAACBBQAAggUAAIMFAACEBQAAhQUAAIYFAACHBQAAiAUAAIkFAACKBQAAiwUAAIwFAACNBQAAjgUAAI8FAACQBQAAkQUAAJIFAACTBQAAlAUAAJUFAACWBQAAlwUAAJgFAACZBQAAmgUAAJsFAACcBQAAnQUAAJ4FAACfBQAAoAUAAKEFAACiBQAAowUAAKQFAAClBQAApgUAAKcFAACoBQAAqQUAAKoFAACrBQAArAUAAK0FAACuBQAArwUAALAFAACxBQAAsgUAALMFAAC0BQAAtQUAALYFAAC3BQAAuAUAALkFAAC6BQAAuwUAALwFAAC9BQAAvgUAAL8FAADABQAAwQUAAMIFAADDBQAAxAUAAMUFAADGBQAAxwUAAMgFAADJBQAAygUAAMsFAADMBQAAzQUAAM4FAADPBQAA0AUAANEFAADSBQAA0wUAANQFAADVBQAA1gUAANcFAADYBQAA2QUAANoFAADbBQAA3AUAAN0FAADeBQAA3wUAAOAFAADhBQAA4gUAAOMFAADkBQAA5QUAAOYFAADnBQAA6AUAAOkFAADqBQAA6wUAAOwFAADtBQAA7gUAAO8FAADwBQAA8QUAAPIFAADzBQAA9AUAAPUFAAD2BQAA9wUAAPgFAAD5BQAA+gUAAPsFAAD8BQAA/QUAAP4FAAD/BQAAAAYAAAEGAAACBgAAAwYAAAQGAAAFBgAABgYAAAcGAAAIBgAACQYAAAoGAAALBgAADAYAAA0GAAAOBgAADwYAABAGAAARBgAAEgYAABMGAAAUBgAAFQYAABYGAAAXBgAAGAYAABkGAAAaBgAAGwYAABwGAAAdBgAAHgYAAB8GAAAgBgAAIQYAACIGAAAjBgAAJAYAACUGAAAmBgAAJwYAACgGAAApBgAAKgYAACsGAAAsBgAALQYAAC4GAAAvBgAAMAYAADEGAAAyBgAAMwYAADQGAAA1BgAANgYAADcGAAA4BgAAOQYAADoGAAA7BgAAPAYAAD0GAAA+BgAAPwYAAEAGAABBBgAAQgYAAEMGAABEBgAARQYAAEYGAABHBgAASAYAAEkGAABKBgAASwYAAEwGAABNBgAATgYAAE8GAABQBgAAUQYAAFIGAABTBgAAVAYAAFUGAABWBgAAVwYAAFgGAABZBgAAWgYAAFsGAABcBgAAXQYAAF4GAABfBgAAYAYAAGEGAABiBgAAYwYAAGQGAABlBgAAZgYAAGcGAABoBgAAaQYAAGoGAABrBgAAbAYAAG0GAABuBgAAbwYAAHAGAABxBgAAcgYAAHMGAAB0BgAAdQYAAHYGAAB3BgAAeAYAAHkGAAB6BgAAewYAAHwGAAB9BgAAfgYAAH8GAACABgAAgQYAAIIGAACDBgAAhAYAAIUGAACGBgAAhwYAAIgGAACJBgAAigYAAIsGAACMBgAAjQYAAI4GAACPBgAAkAYAAJEGAACSBgAAkwYAAJQGAACVBgAAlgYAAJcGAACYBgAAmQYAAJoGAACbBgAAnAYAAJ0GAACeBgAAnwYAAKAGAAChBgAAogYAAKMGAACkBgAApQYAAKYGAACnBgAAqAYAAKkGAACqBgAAqwYAAKwGAACtBgAArgYAAK8GAACwBgAAsQYAALIGAACzBgAAtAYAALUGAAC2BgAAtwYAALgGAAC5BgAAugYAALsGAAC8BgAAvQYAAL4GAAC/BgAAwAYAAMEGAADCBgAAwwYAAMQGAADFBgAAxgYAAMcGAADIBgAAyQYAAMoGAADLBgAAzAYAAM0GAADOBgAAzwYAANAGAADRBgAA0gYAANMGAADUBgAA1QYAANYGAADXBgAA2AYAANkGAADaBgAA2wYAANwGAADdBgAA3gYAAN8GAADgBgAA4QYAAOIGAADjBgAA5AYAAOUGAADmBgAA5wYAAOgGAADpBgAA6gYAAOsGAADsBgAA7QYAAO4GAADvBgAA8AYAAPEGAADyBgAA8wYAAPQGAAD1BgAA9gYAAPcGAAD4BgAA+QYAAPoGAAD7BgAA/AYAAP0GAAD+BgAA/wYAAAAHAAABBwAAAgcAAAMHAAAEBwAABQcAAAYHAAAHBwAACAcAAAkHAAAKBwAACwcAAAwHAAANBwAADgcAAA8HAAAQBwAAEQcAABIHAAATBwAAFAcAABUHAAAWBwAAFwcAABgHAAAZBwAAGgcAABsHAAAcBwAAHQcAAB4HAAAfBwAAIAcAACEHAAAiBwAAIwcAACQHAAAlBwAAJgcAACcHAAAoBwAAKQcAACoHAAArBwAALAcAAC0HAAAuBwAALwcAADAHAAAxBwAAMgcAADMHAAA0BwAANQcAADYHAAA3BwAAOAcAADkHAAA6BwAAOwcAADwHAAA9BwAAPgcAAD8HAABABwAAQQcAAEIHAABDBwAARAcAAEUHAABGBwAARwcAAEgHAABJBwAASgcAAEsHAABMBwAATQcAAE4HAABPBwAAUAcAAFEHAABSBwAAUwcAAFQHAABVBwAAVgcAAFcHAABYBwAAWQcAAFoHAABbBwAAXAcAAF0HAABeBwAAXwcAAGAHAABhBwAAYgcAAGMHAABkBwAAZQcAAGYHAABnBwAAaAcAAGkHAABqBwAAawcAAGwHAABtBwAAbgcAAG8HAABwBwAAcQcAAHIHAABzBwAAdAcAAHUHAAB2BwAAdwcAAHgHAAB5BwAAegcAAHsHAAB8BwAAfQcAAH4HAAB/BwAAgAcAAIEHAACCBwAAgwcAAIQHAACFBwAAhgcAAIcHAACIBwAAiQcAAIoHAACLBwAAjAcAAI0HAACOBwAAjwcAAJAHAACRBwAAkgcAAJMHAACUBwAAlQcAAJYHAACXBwAAmAcAAJkHAACaBwAAmwcAAJwHAACdBwAAngcAAJ8HAACgBwAAoQcAAKIHAACjBwAApAcAAKUHAACmBwAApwcAAKgHAACpBwAAqgcAAKsHAACsBwAArQcAAK4HAACvBwAAsAcAALEHAACyBwAAswcAALQHAAC1BwAAtgcAALcHAAC4BwAAuQcAALoHAAC7BwAAvAcAAL0HAAC+BwAAvwcAAMAHAADBBwAAwgcAAMMHAADEBwAAxQcAAMYHAADHBwAAyAcAAMkHAADKBwAAywcAAMwHAADNBwAAzgcAAM8HAADQBwAA0QcAANIHAADTBwAA1AcAANUHAADWBwAA1wcAANgHAADZBwAA2gcAANsHAADcBwAA3QcAAN4HAADfBwAA4AcAAOEHAADiBwAA4wcAAOQHAADlBwAA5gcAAOcHAADoBwAA6QcAAOoHAADrBwAA7AcAAO0HAADuBwAA7wcAAPAHAADxBwAA8gcAAPMHAAD0BwAA9QcAAPYHAAD3BwAA+AcAAPkHAAD6BwAA+wcAAPwHAAD9BwAA/gcAAP8HAAAACAAAAQgAAAIIAAADCAAABAgAAAUIAAAGCAAABwgAAAgIAAAJCAAACggAAAsIAAAMCAAADQgAAA4IAAAPCAAAEAgAABEIAAASCAAAEwgAABQIAAAVCAAAFggAABcIAAAYCAAAGQgAABoIAAAbCAAAHAgAAB0IAAAeCAAAHwgAACAIAAAhCAAAIggAACMIAAAkCAAAJQgAACYIAAAnCAAAKAgAACkIAAAqCAAAKwgAACwIAAAtCAAALggAAC8IAAAwCAAAMQgAADIIAAAzCAAANAgAADUIAAA2CAAANwgAADgIAAA5CAAAOggAADsIAAA8CAAAPQgAAD4IAAA/CAAAQAgAAEEIAABCCAAAQwgAAEQIAABFCAAARggAAEcIAABICAAASQgAAEoIAABLCAAATAgAAE0IAABOCAAATwgAAFAIAABRCAAAUggAAFMIAABUCAAAVQgAAFYIAABXCAAAWAgAAFkIAABaCAAAWwgAAFwIAABdCAAAXggAAF8IAABgCAAAYQgAAGIIAABjCAAAZAgAAGUIAABmCAAAZwgAAGgIAABpCAAAaggAAGsIAABsCAAAbQgAAG4IAABvCAAAcAgAAHEIAAByCAAAcwgAAHQIAAB1CAAAdggAAHcIAAB4CAAAeQgAAHoIAAB7CAAAfAgAAH0IAAB+CAAAfwgAAIAIAACBCAAAgggAAIMIAACECAAAhQgAAIYIAACHCAAAiAgAAIkIAACKCAAAiwgAAIwIAACNCAAAjggAAI8IAACQCAAAkQgAAJIIAACTCAAAlAgAAJUIAACWCAAAlwgAAJgIAACZCAAAmggAAJsIAACcCAAAnQgAAJ4IAACfCAAAoAgAAKEIAACiCAAAowgAAKQIAAClCAAApggAAKcIAACoCAAAqQgAAKoIAACrCAAArAgAAK0IAACuCAAArwgAALAIAACxCAAAsggAALMIAAC0CAAAtQgAALYIAAC3CAAAuAgAALkIAAC6CAAAuwgAALwIAAC9CAAAvggAAL8IAADACAAAwQgAAMIIAADDCAAAxAgAAMUIAADGCAAAxwgAAMgIAADJCAAAyggAAMsIAADMCAAAzQgAAM4IAADPCAAA0AgAANEIAADSCAAA0wgAANQIAADVCAAA1ggAANcIAADYCAAA2QgAANoIAADbCAAA3AgAAN0IAADeCAAA3wgAAOAIAADhCAAA4ggAAOMIAADkCAAA5QgAAOYIAADnCAAA6AgAAOkIAADqCAAA6wgAAOwIAADtCAAA7ggAAO8IAADwCAAA8QgAAPIIAADzCAAA9AgAAPUIAAD2CAAA9wgAAPgIAAD5CAAA+ggAAPsIAAD8CAAA/QgAAP4IAAD/CAAAAAkAAAEJAAACCQAAAwkAAAQJAAAFCQAABgkAAAcJAAAICQAACQkAAAoJAAALCQAADAkAAA0JAAAOCQAADwkAABAJAAARCQAAEgkAABMJAAAUCQAAFQkAABYJAAAXCQAAGAkAABkJAAAaCQAAGwkAABwJAAAdCQAAHgkAAB8JAAAgCQAAIQkAACIJAAAjCQAAJAkAACUJAAAmCQAAJwkAACgJAAApCQAAKgkAACsJAAAsCQAALQkAAC4JAAAvCQAAMAkAADEJAAAyCQAAMwkAADQJAAA1CQAANgkAADcJAAA4CQAAOQkAADoJAAA7CQAAPAkAAD0JAAA+CQAAPwkAAEAJAABBCQAAQgkAAEMJAABECQAARQkAAEYJAABHCQAASAkAAEkJAABKCQAASwkAAEwJAABNCQAATgkAAE8JAABQCQAAUQkAAFIJAABTCQAAVAkAAFUJAABWCQAAVwkAAFgJAABZCQAAWgkAAFsJAABcCQAAXQkAAF4JAABfCQAAYAkAAGEJAABiCQAAYwkAAGQJAABlCQAAZgkAAGcJAABoCQAAaQkAAGoJAABrCQAAbAkAAG0JAABuCQAAbwkAAHAJAABxCQAAcgkAAHMJAAB0CQAAdQkAAHYJAAB3CQAAeAkAAHkJAAB6CQAAewkAAHwJAAB9CQAAfgkAAH8JAACACQAAgQkAAIIJAACDCQAAhAkAAIUJAACGCQAAhwkAAIgJAACJCQAAigkAAIsJAACMCQAAjQkAAI4JAACPCQAAkAkAAJEJAACSCQAAkwkAAJQJAACVCQAAlgkAAJcJAACYCQAAmQkAAJoJAACbCQAAnAkAAJ0JAACeCQAAnwkAAKAJAAChCQAAogkAAKMJAACkCQAApQkAAKYJAACnCQAAqAkAAKkJAACqCQAAqwkAAKwJAACtCQAArgkAAK8JAACwCQAAsQkAALIJAACzCQAAtAkAALUJAAC2CQAAtwkAALgJAAC5CQAAugkAALsJAAC8CQAAvQkAAL4JAAC/CQAAwAkAAMEJAADCCQAAwwkAAMQJAADFCQAAxgkAAMcJAADICQAAyQkAAMoJAADLCQAAzAkAAM0JAADOCQAAzwkAANAJAADRCQAA0gkAANMJAADUCQAA1QkAANYJAADXCQAA2AkAANkJAADaCQAA2wkAANwJAADdCQAA3gkAAN8JAADgCQAA4QkAAOIJAADjCQAA5AkAAOUJAADmCQAA5wkAAOgJAADpCQAA6gkAAOsJAADsCQAA7QkAAO4JAADvCQAA8AkAAPEJAADyCQAA8wkAAPQJAAD1CQAA9gkAAPcJAAD4CQAA+QkAAPoJAAD7CQAA/AkAAP0JAAD+CQAA/wkAAAAKAAABCgAAAgoAAAMKAAAECgAABQoAAAYKAAAHCgAACAoAAAkKAAAKCgAACwoAAAwKAAANCgAADgoAAA8KAAAQCgAAEQoAABIKAAATCgAAFAoAABUKAAAWCgAAFwoAABgKAAAZCgAAGgoAABsKAAAcCgAAHQoAAB4KAAAfCgAAIAoAACEKAAAiCgAAIwoAACQKAAAlCgAAJgoAACcKAAAoCgAAKQoAACoKAAArCgAALAoAAC0KAAAuCgAALwoAADAKAAAxCgAAMgoAADMKAAA0CgAANQoAADYKAAA3CgAAOAoAADkKAAA6CgAAOwoAADwKAAA9CgAAPgoAAD8KAABACgAAQQoAAEIKAABDCgAARAoAAEUKAABGCgAARwoAAEgKAABJCgAASgoAAEsKAABMCgAATQoAAE4KAABPCgAAUAoAAFEKAABSCgAAUwoAAFQKAABVCgAAVgoAAFcKAABYCgAAWQoAAFoKAABbCgAAXAoAAF0KAABeCgAAXwoAAGAKAABhCgAAYgoAAGMKAABkCgAAZQoAAGYKAABnCgAAaAoAAGkKAABqCgAAawoAAGwKAABtCgAAbgoAAG8KAABwCgAAcQoAAHIKAABzCgAAdAoAAHUKAAB2CgAAdwoAAHgKAAB5CgAAegoAAHsKAAB8CgAAfQoAAH4KAAB/CgAAgAoAAIEKAACCCgAAgwoAAIQKAACFCgAAhgoAAIcKAACICgAAiQoAAIoKAACLCgAAjAoAAI0KAACOCgAAjwoAAJAKAACRCgAAkgoAAJMKAACUCgAAlQoAAJYKAACXCgAAmAoAAJkKAACaCgAAmwoAAJwKAACdCgAAngoAAJ8KAACgCgAAoQoAAKIKAACjCgAApAoAAKUKAACmCgAApwoAAKgKAACpCgAAqgoAAKsKAACsCgAArQoAAK4KAACvCgAAsAoAALEKAACyCgAAswoAALQKAAC1CgAAtgoAALcKAAC4CgAAuQoAALoKAAC7CgAAvAoAAL0KAAC+CgAAvwoAAMAKAADBCgAAwgoAAMMKAADECgAAxQoAAMYKAADHCgAAyAoAAMkKAADKCgAAywoAAMwKAADNCgAAzgoAAM8KAADQCgAA0QoAANIKAADTCgAA1AoAANUKAADWCgAA1woAANgKAADZCgAA2goAANsKAADcCgAA3QoAAN4KAADfCgAA4AoAAOEKAADiCgAA4woAAOQKAADlCgAA5goAAOcKAADoCgAA6QoAAOoKAADrCgAA7AoAAO0KAADuCgAA7woAAPAKAADxCgAA8goAAPMKAAD0CgAA9QoAAPYKAAD3CgAA+AoAAPkKAAD6CgAA+woAAPwKAAD9CgAA/goAAP8KAAAACwAAAQsAAAILAAADCwAABAsAAAULAAAGCwAABwsAAAgLAAAJCwAACgsAAAsLAAAMCwAADQsAAA4LAAAPCwAAEAsAABELAAASCwAAEwsAABQLAAAVCwAAFgsAABcLAAAYCwAAGQsAABoLAAAbCwAAHAsAAB0LAAAeCwAAHwsAACALAAAhCwAAIgsAACMLAAAkCwAAJQsAACYLAAAnCwAAKAsAACkLAAAqCwAAKwsAACwLAAAtCwAALgsAAC8LAAAwCwAAMQsAADILAAAzCwAANAsAADULAAA2CwAANwsAADgLAAA5CwAAOgsAADsLAAA8CwAAPQsAAD4LAAA/CwAAQAsAAEELAABCCwAAQwsAAEQLAABFCwAARgsAAEcLAABICwAASQsAAEoLAABLCwAATAsAAE0LAABOCwAATwsAAFALAABRCwAAUgsAAFMLAABUCwAAVQsAAFYLAABXCwAAWAsAAFkLAABaCwAAWwsAAFwLAABdCwAAXgsAAF8LAABgCwAAYQsAAGILAABjCwAAZAsAAGULAABmCwAAZwsAAGgLAABpCwAAagsAAGsLAABsCwAAbQsAAG4LAABvCwAAcAsAAHELAAByCwAAcwsAAHQLAAB1CwAAdgsAAHcLAAB4CwAAeQsAAHoLAAB7CwAAfAsAAH0LAAB+CwAAfwsAAIALAACBCwAAggsAAIMLAACECwAAhQsAAIYLAACHCwAAiAsAAIkLAACKCwAAiwsAAIwLAACNCwAAjgsAAI8LAACQCwAAkQsAAJILAACTCwAAlAsAAJULAACWCwAAlwsAAJgLAACZCwAAmgsAAJsLAACcCwAAnQsAAJ4LAACfCwAAoAsAAKELAACiCwAAowsAAKQLAAClCwAApgsAAKcLAACoCwAAqQsAAKoLAACrCwAArAsAAK0LAACuCwAArwsAALALAACxCwAAsgsAALMLAAC0CwAAtQsAALYLAAC3CwAAuAsAALkLAAC6CwAAuwsAALwLAAC9CwAAvgsAAL8LAADACwAAwQsAAMILAADDCwAAxAsAAMULAADGCwAAxwsAAMgLAADJCwAAygsAAMsLAADMCwAAzQsAAM4LAADPCwAA0AsAANELAADSCwAA0wsAANQLAADVCwAA1gsAANcLAADYCwAA2QsAANoLAADbCwAA3AsAAN0LAADeCwAA3wsAAOALAADhCwAA4gsAAOMLAADkCwAA5QsAAOYLAADnCwAA6AsAAOkLAADqCwAA6wsAAOwLAADtCwAA7gsAAO8LAADwCwAA8QsAAPILAADzCwAA9AsAAPULAAD2CwAA9wsAAPgLAAD5CwAA+gsAAPsLAAD8CwAA/QsAAP4LAAD/CwAAAAwAAAEMAAACDAAAAwwAAAQMAAAFDAAABgwAAAcMAAAIDAAACQwAAAoMAAALDAAADAwAAA0MAAAODAAADwwAABAMAAARDAAAEgwAABMMAAAUDAAAFQwAABYMAAAXDAAAGAwAABkMAAAaDAAAGwwAABwMAAAdDAAAHgwAAB8MAAAgDAAAIQwAACIMAAAjDAAAJAwAACUMAAAmDAAAJwwAACgMAAApDAAAKgwAACsMAAAsDAAALQwAAC4MAAAvDAAAMAwAADEMAAAyDAAAMwwAADQMAAA1DAAANgwAADcMAAA4DAAAOQwAADoMAAA7DAAAPAwAAD0MAAA+DAAAPwwAAEAMAABBDAAAQgwAAEMMAABEDAAARQwAAEYMAABHDAAASAwAAEkMAABKDAAASwwAAEwMAABNDAAATgwAAE8MAABQDAAAUQwAAFIMAABTDAAAVAwAAFUMAABWDAAAVwwAAFgMAABZDAAAWgwAAFsMAABcDAAAXQwAAF4MAABfDAAAYAwAAGEMAABiDAAAYwwAAGQMAABlDAAAZgwAAGcMAABoDAAAaQwAAGoMAABrDAAAbAwAAG0MAABuDAAAbwwAAHAMAABxDAAAcgwAAHMMAAB0DAAAdQwAAHYMAAB3DAAAeAwAAHkMAAB6DAAAewwAAHwMAAB9DAAAfgwAAH8MAACADAAAgQwAAIIMAACDDAAAhAwAAIUMAACGDAAAhwwAAIgMAACJDAAAigwAAIsMAACMDAAAjQwAAI4MAACPDAAAkAwAAJEMAACSDAAAkwwAAJQMAACVDAAAlgwAAJcMAACYDAAAmQwAAJoMAACbDAAAnAwAAJ0MAACeDAAAnwwAAKAMAAChDAAAogwAAKMMAACkDAAApQwAAKYMAACnDAAAqAwAAKkMAACqDAAAqwwAAKwMAACtDAAArgwAAK8MAACwDAAAsQwAALIMAACzDAAAtAwAALUMAAC2DAAAtwwAALgMAAC5DAAAugwAALsMAAC8DAAAvQwAAL4MAAC/DAAAwAwAAMEMAADCDAAAwwwAAMQMAADFDAAAxgwAAMcMAADIDAAAyQwAAMoMAADLDAAAzAwAAM0MAADODAAAzwwAANAMAADRDAAA0gwAANMMAADUDAAA1QwAANYMAADXDAAA2AwAANkMAADaDAAA2wwAANwMAADdDAAA3gwAAN8MAADgDAAA4QwAAOIMAADjDAAA5AwAAOUMAADmDAAA5wwAAOgMAADpDAAA6gwAAOsMAADsDAAA7QwAAO4MAADvDAAA8AwAAPEMAADyDAAA8wwAAPQMAAD1DAAA9gwAAPcMAAD4DAAA+QwAAPoMAAD7DAAA/AwAAP0MAAD+DAAA/wwAAAANAAABDQAAAg0AAAMNAAAEDQAABQ0AAAYNAAAHDQAACA0AAAkNAAAKDQAACw0AAAwNAAANDQAADg0AAA8NAAAQDQAAEQ0AABINAAATDQAAFA0AABUNAAAWDQAAFw0AABgNAAAZDQAAGg0AABsNAAAcDQAAHQ0AAB4NAAAfDQAAIA0AACENAAAiDQAAIw0AACQNAAAlDQAAJg0AACcNAAAoDQAAKQ0AACoNAAArDQAALA0AAC0NAAAuDQAALw0AADANAAAxDQAAMg0AADMNAAA0DQAANQ0AADYNAAA3DQAAOA0AADkNAAA6DQAAOw0AADwNAAA9DQAAPg0AAD8NAABADQAAQQ0AAEINAABDDQAARA0AAEUNAABGDQAARw0AAEgNAABJDQAASg0AAEsNAABMDQAATQ0AAE4NAABPDQAAUA0AAFENAABSDQAAUw0AAFQNAABVDQAAVg0AAFcNAABYDQAAWQ0AAFoNAABbDQAAXA0AAF0NAABeDQAAXw0AAGANAABhDQAAYg0AAGMNAABkDQAAZQ0AAGYNAABnDQAAaA0AAGkNAABqDQAAaw0AAGwNAABtDQAAbg0AAG8NAABwDQAAcQ0AAHINAABzDQAAdA0AAHUNAAB2DQAAdw0AAHgNAAB5DQAAeg0AAHsNAAB8DQAAfQ0AAH4NAAB/DQAAgA0AAIENAACCDQAAgw0AAIQNAACFDQAAhg0AAIcNAACIDQAAiQ0AAIoNAACLDQAAjA0AAI0NAACODQAAjw0AAJANAACRDQAAkg0AAJMNAACUDQAAlQ0AAJYNAACXDQAAmA0AAJkNAACaDQAAmw0AAJwNAACdDQAAng0AAJ8NAACgDQAAoQ0AAKINAACjDQAApA0AAKUNAACmDQAApw0AAKgNAACpDQAAqg0AAKsNAACsDQAArQ0AAK4NAACvDQAAsA0AALENAACyDQAAsw0AALQNAAC1DQAAtg0AALcNAAC4DQAAuQ0AALoNAAC7DQAAvA0AAL0NAAC+DQAAvw0AAMANAADBDQAAwg0AAMMNAADEDQAAxQ0AAMYNAADHDQAAyA0AAMkNAADKDQAAyw0AAMwNAADNDQAAzg0AAM8NAADQDQAA0Q0AANINAADTDQAA1A0AANUNAADWDQAA1w0AANgNAADZDQAA2g0AANsNAADcDQAA3Q0AAN4NAADfDQAA4A0AAOENAADiDQAA4w0AAOQNAADlDQAA5g0AAOcNAADoDQAA6Q0AAOoNAADrDQAA7A0AAO0NAADuDQAA7w0AAPANAADxDQAA8g0AAPMNAAD0DQAA9Q0AAPYNAAD3DQAA+A0AAPkNAAD6DQAA+w0AAPwNAAD9DQAA/g0AAP8NAAAADgAAAQ4AAAIOAAADDgAABA4AAAUOAAAGDgAABw4AAAgOAAAJDgAACg4AAAsOAAAMDgAADQ4AAA4OAAAPDgAAEA4AABEOAAASDgAAEw4AABQOAAAVDgAAFg4AABcOAAAYDgAAGQ4AABoOAAAbDgAAHA4AAB0OAAAeDgAAHw4AACAOAAAhDgAAIg4AACMOAAAkDgAAJQ4AACYOAAAnDgAAKA4AACkOAAAqDgAAKw4AACwOAAAtDgAALg4AAC8OAAAwDgAAMQ4AADIOAAAzDgAANA4AADUOAAA2DgAANw4AADgOAAA5DgAAOg4AADsOAAA8DgAAPQ4AAD4OAAA/DgAAQA4AAEEOAABCDgAAQw4AAEQOAABFDgAARg4AAEcOAABIDgAASQ4AAEoOAABLDgAATA4AAE0OAABODgAATw4AAFAOAABRDgAAUg4AAFMOAABUDgAAVQ4AAFYOAABXDgAAWA4AAFkOAABaDgAAWw4AAFwOAABdDgAAXg4AAF8OAABgDgAAYQ4AAGIOAABjDgAAZA4AAGUOAABmDgAAZw4AAGgOAABpDgAAag4AAGsOAABsDgAAbQ4AAG4OAABvDgAAcA4AAHEOAAByDgAAcw4AAHQOAAB1DgAAdg4AAHcOAAB4DgAAeQ4AAHoOAAB7DgAAfA4AAH0OAAB+DgAAfw4AAIAOAACBDgAAgg4AAIMOAACEDgAAhQ4AAIYOAACHDgAAiA4AAIkOAACKDgAAiw4AAIwOAACNDgAAjg4AAI8OAACQDgAAkQ4AAJIOAACTDgAAlA4AAJUOAACWDgAAlw4AAJgOAACZDgAAmg4AAJsOAACcDgAAnQ4AAJ4OAACfDgAAoA4AAKEOAACiDgAAow4AAKQOAAClDgAApg4AAKcOAACoDgAAqQ4AAKoOAACrDgAArA4AAK0OAACuDgAArw4AALAOAACxDgAAsg4AALMOAAC0DgAAtQ4AALYOAAC3DgAAuA4AALkOAAC6DgAAuw4AALwOAAC9DgAAvg4AAL8OAADADgAAwQ4AAMIOAADDDgAAxA4AAMUOAADGDgAAxw4AAMgOAADJDgAAyg4AAMsOAADMDgAAzQ4AAM4OAADPDgAA0A4AANEOAADSDgAA0w4AANQOAADVDgAA1g4AANcOAADYDgAA2Q4AANoOAADbDgAA3A4AAN0OAADeDgAA3w4AAOAOAADhDgAA4g4AAOMOAADkDgAA5Q4AAOYOAADnDgAA6A4AAOkOAADqDgAA6w4AAOwOAADtDgAA7g4AAO8OAADwDgAA8Q4AAPIOAADzDgAA9A4AAPUOAAD2DgAA9w4AAPgOAAD5DgAA+g4AAPsOAAD8DgAA/Q4AAP4OAAD/DgAAAA8AAAEPAAACDwAAAw8AAAQPAAAFDwAABg8AAAcPAAAIDwAACQ8AAAoPAAALDwAADA8AAA0PAAAODwAADw8AABAPAAARDwAAEg8AABMPAAAUDwAAFQ8AABYPAAAXDwAAGA8AABkPAAAaDwAAGw8AABwPAAAdDwAAHg8AAB8PAAAgDwAAIQ8AACIPAAAjDwAAJA8AACUPAAAmDwAAJw8AACgPAAApDwAAKg8AACsPAAAsDwAALQ8AAC4PAAAvDwAAMA8AADEPAAAyDwAAMw8AADQPAAA1DwAANg8AADcPAAA4DwAAOQ8AADoPAAA7DwAAPA8AAD0PAAA+DwAAPw8AAEAPAABBDwAAQg8AAEMPAABEDwAARQ8AAEYPAABHDwAASA8AAEkPAABKDwAASw8AAEwPAABNDwAATg8AAE8PAABQDwAAUQ8AAFIPAABTDwAAVA8AAFUPAABWDwAAVw8AAFgPAABZDwAAWg8AAFsPAABcDwAAXQ8AAF4PAABfDwAAYA8AAGEPAABiDwAAYw8AAGQPAABlDwAAZg8AAGcPAABoDwAAaQ8AAGoPAABrDwAAbA8AAG0PAABuDwAAbw8AAHAPAABxDwAAcg8AAHMPAAB0DwAAdQ8AAHYPAAB3DwAAeA8AAHkPAAB6DwAAew8AAHwPAAB9DwAAfg8AAH8PAACADwAAgQ8AAIIPAACDDwAAhA8AAIUPAACGDwAAhw8AAIgPAACJDwAAig8AAIsPAACMDwAAjQ8AAI4PAACPDwAAkA8AAJEPAACSDwAAkw8AAJQPAACVDwAAlg8AAJcPAACYDwAAmQ8AAJoPAACbDwAAnA8AAJ0PAACeDwAAnw8AAKAPAAChDwAAog8AAKMPAACkDwAApQ8AAKYPAACnDwAAqA8AAKkPAACqDwAAqw8AAKwPAACtDwAArg8AAK8PAACwDwAAsQ8AALIPAACzDwAAtA8AALUPAAC2DwAAtw8AALgPAAC5DwAAug8AALsPAAC8DwAAvQ8AAL4PAAC/DwAAwA8AAMEPAADCDwAAww8AAMQPAADFDwAAxg8AAMcPAADIDwAAyQ8AAMoPAADLDwAAzA8AAM0PAADODwAAzw8AANAPAADRDwAA0g8AANMPAADUDwAA1Q8AANYPAADXDwAA2A8AANkPAADaDwAA2w8AANwPAADdDwAA3g8AAN8PAADgDwAA4Q8AAOIPAADjDwAA5A8AAOUPAADmDwAA5w8AAOgPAADpDwAA6g8AAOsPAADsDwAA7Q8AAO4PAADvDwAA8A8AAPEPAADyDwAA8w8AAPQPAAD1DwAA9g8AAPcPAAD4DwAA+Q8AAPoPAAD7DwAA/A8AAP0PAAD+DwAA/w8AAAAQAAABEAAAAhAAAAMQAAAEEAAABRAAAAYQAAAHEAAACBAAAAkQAAAKEAAACxAAAAwQAAANEAAADhAAAA8QAAAQEAAAERAAABIQAAATEAAAFBAAABUQAAAWEAAAFxAAABgQAAAZEAAAGhAAABsQAAAcEAAAHRAAAB4QAAAfEAAAIBAAACEQAAAiEAAAIxAAACQQAAAlEAAAJhAAACcQAAAoEAAAKRAAACoQAAArEAAALBAAAC0QAAAuEAAALxAAADAQAAAxEAAAMhAAADMQAAA0EAAANRAAADYQAAA3EAAAOBAAADkQAAA6EAAAOxAAADwQAAA9EAAAPhAAAD8QAABAEAAAQRAAAEIQAABDEAAARBAAAEUQAABGEAAARxAAAEgQAABJEAAAShAAAEsQAABMEAAATRAAAE4QAABPEAAAUBAAAFEQAABSEAAAUxAAAFQQAABVEAAAVhAAAFcQAABYEAAAWRAAAFoQAABbEAAAXBAAAF0QAABeEAAAXxAAAGAQAABhEAAAYhAAAGMQAABkEAAAZRAAAGYQAABnEAAAaBAAAGkQAABqEAAAaxAAAGwQAABtEAAAbhAAAG8QAABwEAAAcRAAAHIQAABzEAAAdBAAAHUQAAB2EAAAdxAAAHgQAAB5EAAAehAAAHsQAAB8EAAAfRAAAH4QAAB/EAAAgBAAAIEQAACCEAAAgxAAAIQQAACFEAAAhhAAAIcQAACIEAAAiRAAAIoQAACLEAAAjBAAAI0QAACOEAAAjxAAAJAQAACREAAAkhAAAJMQAACUEAAAlRAAAJYQAACXEAAAmBAAAJkQAACaEAAAmxAAAJwQAACdEAAAnhAAAJ8QAACgEAAAoRAAAKIQAACjEAAApBAAAKUQAACmEAAApxAAAKgQAACpEAAAqhAAAKsQAACsEAAArRAAAK4QAACvEAAAsBAAALEQAACyEAAAsxAAALQQAAC1EAAAthAAALcQAAC4EAAAuRAAALoQAAC7EAAAvBAAAL0QAAC+EAAAvxAAAMAQAADBEAAAwhAAAMMQAADEEAAAxRAAAMYQAADHEAAAyBAAAMkQAADKEAAAyxAAAMwQAADNEAAAzhAAAM8QAADQEAAA0RAAANIQAADTEAAA1BAAANUQAADWEAAA1xAAANgQAADZEAAA2hAAANsQAADcEAAA3RAAAN4QAADfEAAA4BAAAOEQAADiEAAA4xAAAOQQAADlEAAA5hAAAOcQAADoEAAA6RAAAOoQAADrEAAA7BAAAO0QAADuEAAA7xAAAPAQAADxEAAA8hAAAPMQAAD0EAAA9RAAAPYQAAD3EAAA+BAAAPkQAAD6EAAA+xAAAPwQAAD9EAAA/hAAAP8QAAAAEQAAAREAAAIRAAADEQAABBEAAAURAAAGEQAABxEAAAgRAAAJEQAAChEAAAsRAAAMEQAADREAAA4RAAAPEQAAEBEAABERAAASEQAAExEAABQRAAAVEQAAFhEAABcRAAAYEQAAGREAABoRAAAbEQAAHBEAAB0RAAAeEQAAHxEAACARAAAhEQAAIhEAACMRAAAkEQAAJREAACYRAAAnEQAAKBEAACkRAAAqEQAAKxEAACwRAAAtEQAALhEAAC8RAAAwEQAAMREAADIRAAAzEQAANBEAADURAAA2EQAANxEAADgRAAA5EQAAOhEAADsRAAA8EQAAPREAAD4RAAA/EQAAQBEAAEERAABCEQAAQxEAAEQRAABFEQAARhEAAEcRAABIEQAASREAAEoRAABLEQAATBEAAE0RAABOEQAATxEAAFARAABREQAAUhEAAFMRAABUEQAAVREAAFYRAABXEQAAWBEAAFkRAABaEQAAWxEAAFwRAABdEQAAXhEAAF8RAABgEQAAYREAAGIRAABjEQAAZBEAAGURAABmEQAAZxEAAGgRAABpEQAAahEAAGsRAABsEQAAbREAAG4RAABvEQAAcBEAAHERAAByEQAAcxEAAHQRAAB1EQAAdhEAAHcRAAB4EQAAeREAAHoRAAB7EQAAfBEAAH0RAAB+EQAAfxEAAIARAACBEQAAghEAAIMRAACEEQAAhREAAIYRAACHEQAAiBEAAIkRAACKEQAAixEAAIwRAACNEQAAjhEAAI8RAACQEQAAkREAAJIRAACTEQAAlBEAAJURAACWEQAAlxEAAJgRAACZEQAAmhEAAJsRAACcEQAAnREAAJ4RAACfEQAAoBEAAKERAACiEQAAoxEAAKQRAAClEQAAphEAAKcRAACoEQAAqREAAKoRAACrEQAArBEAAK0RAACuEQAArxEAALARAACxEQAAshEAALMRAAC0EQAAtREAALYRAAC3EQAAuBEAALkRAAC6EQAAuxEAALwRAAC9EQAAvhEAAL8RAADAEQAAwREAAMIRAADDEQAAxBEAAMURAADGEQAAxxEAAMgRAADJEQAAyhEAAMsRAADMEQAAzREAAM4RAADPEQAA0BEAANERAADSEQAA0xEAANQRAADVEQAA1hEAANcRAADYEQAA2REAANoRAADbEQAA3BEAAN0RAADeEQAA3xEAAOARAADhEQAA4hEAAOMRAADkEQAA5REAAOYRAADnEQAA6BEAAOkRAADqEQAA6xEAAOwRAADtEQAA7hEAAO8RAADwEQAA8REAAPIRAADzEQAA9BEAAPURAAD2EQAA9xEAAPgRAAD5EQAA+hEAAPsRAAD8EQAA/REAAP4RAAD/EQAAABIAAAESAAACEgAAAxIAAAQSAAAFEgAABhIAAAcSAAAIEgAACRIAAAoSAAALEgAADBIAAA0SAAAOEgAADxIAABASAAAREgAAEhIAABMSAAAUEgAAFRIAABYSAAAXEgAAGBIAABkSAAAaEgAAGxIAABwSAAAdEgAAHhIAAB8SAAAgEgAAIRIAACISAAAjEgAAJBIAACUSAAAmEgAAJxIAACgSAAApEgAAKhIAACsSAAAsEgAALRIAAC4SAAAvEgAAMBIAADESAAAyEgAAMxIAADQSAAA1EgAANhIAADcSAAA4EgAAORIAADoSAAA7EgAAPBIAAD0SAAA+EgAAPxIAAEASAABBEgAAQhIAAEMSAABEEgAARRIAAEYSAABHEgAASBIAAEkSAABKEgAASxIAAEwSAABNEgAAThIAAE8SAABQEgAAURIAAFISAABTEgAAVBIAAFUSAABWEgAAVxIAAFgSAABZEgAAWhIAAFsSAABcEgAAXRIAAF4SAABfEgAAYBIAAGESAABiEgAAYxIAAGQSAABlEgAAZhIAAGcSAABoEgAAaRIAAGoSAABrEgAAbBIAAG0SAABuEgAAbxIAAHASAABxEgAAchIAAHMSAAB0EgAAdRIAAHYSAAB3EgAAeBIAAHkSAAB6EgAAexIAAHwSAAB9EgAAfhIAAH8SAACAEgAAgRIAAIISAACDEgAAhBIAAIUSAACGEgAAhxIAAIgSAACJEgAAihIAAIsSAACMEgAAjRIAAI4SAACPEgAAkBIAAJESAACSEgAAkxIAAJQSAACVEgAAlhIAAJcSAACYEgAAmRIAAJoSAACbEgAAnBIAAJ0SAACeEgAAnxIAAKASAAChEgAAohIAAKMSAACkEgAApRIAAKYSAACnEgAAqBIAAKkSAACqEgAAqxIAAKwSAACtEgAArhIAAK8SAACwEgAAsRIAALISAACzEgAAtBIAALUSAAC2EgAAtxIAALgSAAC5EgAAuhIAALsSAAC8EgAAvRIAAL4SAAC/EgAAwBIAAMESAADCEgAAwxIAAMQSAADFEgAAxhIAAMcSAADIEgAAyRIAAMoSAADLEgAAzBIAAM0SAADOEgAAzxIAANASAADREgAA0hIAANMSAADUEgAA1RIAANYSAADXEgAA2BIAANkSAADaEgAA2xIAANwSAADdEgAA3hIAAN8SAADgEgAA4RIAAOISAADjEgAA5BIAAOUSAADmEgAA5xIAAOgSAADpEgAA6hIAAOsSAADsEgAA7RIAAO4SAADvEgAA8BIAAPESAADyEgAA8xIAAPQSAAD1EgAA9hIAAPcSAAD4EgAA+RIAAPoSAAD7EgAA/BIAAP0SAAD+EgAA/xIAAAATAAABEwAAAhMAAAMTAAAEEwAABRMAAAYTAAAHEwAACBMAAAkTAAAKEwAACxMAAAwTAAANEwAADhMAAA8TAAAQEwAAERMAABITAAATEwAAFBMAABUTAAAWEwAAFxMAABgTAAAZEwAAGhMAABsTAAAcEwAAHRMAAB4TAAAfEwAAIBMAACETAAAiEwAAIxMAACQTAAAlEwAAJhMAACcTAAAoEwAAKRMAACoTAAArEwAALBMAAC0TAAAuEwAALxMAADATAAAxEwAAMhMAADMTAAA0EwAANRMAADYTAAA3EwAAOBMAADkTAAA6EwAAOxMAADwTAAA9EwAAPhMAAD8TAABAEwAAQRMAAEITAABDEwAARBMAAEUTAABGEwAARxMAAEgTAABJEwAAShMAAEsTAABMEwAATRMAAE4TAABPEwAAUBMAAFETAABSEwAAUxMAAFQTAABVEwAAVhMAAFcTAABYEwAAWRMAAFoTAABbEwAAXBMAAF0TAABeEwAAXxMAAGATAABhEwAAYhMAAGMTAABkEwAAZRMAAGYTAABnEwAAaBMAAGkTAABqEwAAaxMAAGwTAABtEwAAbhMAAG8TAABwEwAAcRMAAHITAABzEwAAdBMAAHUTAAB2EwAAdxMAAHgTAAB5EwAAehMAAHsTAAB8EwAAfRMAAH4TAAB/EwAAgBMAAIETAACCEwAAgxMAAIQTAACFEwAAhhMAAIcTAACIEwAAiRMAAIoTAACLEwAAjBMAAI0TAACOEwAAjxMAAJATAACREwAAkhMAAJMTAACUEwAAlRMAAJYTAACXEwAAmBMAAJkTAACaEwAAmxMAAJwTAACdEwAAnhMAAJ8TAACgEwAAoRMAAKITAACjEwAApBMAAKUTAACmEwAApxMAAKgTAACpEwAAqhMAAKsTAACsEwAArRMAAK4TAACvEwAAsBMAALETAACyEwAAsxMAALQTAAC1EwAAthMAALcTAAC4EwAAuRMAALoTAAC7EwAAvBMAAL0TAAC+EwAAvxMAAMATAADBEwAAwhMAAMMTAADEEwAAxRMAAMYTAADHEwAAyBMAAMkTAADKEwAAyxMAAMwTAADNEwAAzhMAAM8TAADQEwAA0RMAANITAADTEwAA1BMAANUTAADWEwAA1xMAANgTAADZEwAA2hMAANsTAADcEwAA3RMAAN4TAADfEwAA4BMAAOETAADiEwAA4xMAAOQTAADlEwAA5hMAAOcTAADoEwAA6RMAAOoTAADrEwAA7BMAAO0TAADuEwAA7xMAAPATAADxEwAA8hMAAPMTAAD0EwAA9RMAAPYTAAD3EwAA+BMAAPkTAAD6EwAA+xMAAPwTAAD9EwAA/hMAAP8TAAAAFAAAARQAAAIUAAADFAAABBQAAAUUAAAGFAAABxQAAAgUAAAJFAAAChQAAAsUAAAMFAAADRQAAA4UAAAPFAAAEBQAABEUAAASFAAAExQAABQUAAAVFAAAFhQAABcUAAAYFAAAGRQAABoUAAAbFAAAHBQAAB0UAAAeFAAAHxQAACAUAAAhFAAAIhQAACMUAAAkFAAAJRQAACYUAAAnFAAAKBQAACkUAAAqFAAAKxQAACwUAAAtFAAALhQAAC8UAAAwFAAAMRQAADIUAAAzFAAANBQAADUUAAA2FAAANxQAADgUAAA5FAAAOhQAADsUAAA8FAAAPRQAAD4UAAA/FAAAQBQAAEEUAABCFAAAQxQAAEQUAABFFAAARhQAAEcUAABIFAAASRQAAEoUAABLFAAATBQAAE0UAABOFAAATxQAAFAUAABRFAAAUhQAAFMUAABUFAAAVRQAAFYUAABXFAAAWBQAAFkUAABaFAAAWxQAAFwUAABdFAAAXhQAAF8UAABgFAAAYRQAAGIUAABjFAAAZBQAAGUUAAA=\",\"dtype\":\"int32\",\"order\":\"little\",\"shape\":[5222]},\"item\":[\"negative\",\"negative\",\"negative\",\"negative\",\"PF07367_full_FB_lectin_171.txt\",\"negative\",\"negative\",\"negative\",\"pos_PF04877_full_Harpin_35.txt\",\"pos_PF04877_full_Harpin_35.txt\",\"negative\",\"negative\",\"pos_PF06369_full_anemone_cytotox_363.txt\",\"negative\",\"pos_PF03318_full_ETX_MTX2_440.txt\",\"negative\",\"pos_PF01823_rp15_MACPF_659.txt\",\"negative\",\"PF00087_full_Toxin_TOLIP_333.txt\",\"negative\",\"negative\",\"negative\",\"negative\",\"pos_PF03318_full_ETX_MTX2_440.txt\",\"negative\",\"negative\",\"pos_PF11393_full_T4BSS_DotI_IcmL_214.txt\",\"negative\",\"negative\",\"negative\",\"PF01289_full_Thiol_cytolysin_243.txt\",\"negative\",\"negative\",\"pos_PF05105_seed_Phage_holin_4_1_131.txt\",\"pos_PF05105_seed_Phage_holin_4_1_131.txt\",\"negative\",\"negative\",\"negative\",\"PF11565_full_porB_30.txt\",\"PF01289_full_Thiol_cytolysin_243.txt\",\"pos_PF01823_rp15_MACPF_659.txt\",\"negative\",\"negative\",\"negative\",\"pos_PF11393_full_T4BSS_DotI_IcmL_214.txt\",\"pos_PF07968_full_Leukocidin_89.txt\",\"negative\",\"negative\",\"negative\",\"pos_PF01823_rp15_MACPF_659.txt\",\"PF07367_full_FB_lectin_171.txt\",\"pos_PF12261_full_T_hemolysin_327.txt\",\"pos_PF11393_full_T4BSS_DotI_IcmL_214.txt\",\"negative\",\"negative\",\"pos_PF03318_full_ETX_MTX2_440.txt\",\"negative\",\"negative\",\"negative\",\"pos_PF06369_full_anemone_cytotox_363.txt\",\"negative\",\"negative\",\"PF00087_full_Toxin_TOLIP_333.txt\",\"pos_PF01823_rp15_MACPF_659.txt\",\"negative\",\"negative\",\"negative\",\"negative\",\"negative\",\"pos_PF01823_rp15_MACPF_659.txt\",\"PF00087_full_Toxin_TOLIP_333.txt\",\"negative\",\"negative\",\"pos_PF07968_full_Leukocidin_89.txt\",\"negative\",\"negative\",\"negative\",\"pos_PF06355_full_Aegerolysin_308.txt\",\"negative\",\"negative\",\"pos_PF01024_full_Colicin_26.txt\",\"negative\",\"PF11565_full_porB_30.txt\",\"pos_PF05105_seed_Phage_holin_4_1_131.txt\",\"negative\",\"PF01289_full_Thiol_cytolysin_243.txt\",\"negative\",\"pos_PF01823_rp15_MACPF_659.txt\",\"pos_PF12920_full_TcdA_TcdB_pore_46.txt\",\"negative\",\"negative\",\"negative\",\"pos_PF06355_full_Aegerolysin_308.txt\",\"negative\",\"negative\",\"pos_PF03945_full_Endotoxin_N_180.txt\",\"PF07367_full_FB_lectin_171.txt\",\"negative\",\"PF00087_full_Toxin_TOLIP_333.txt\",\"negative\",\"pos_PF03318_full_ETX_MTX2_440.txt\",\"pos_PF01117_full_Aerolysin_207.txt\",\"pos_PF05105_seed_Phage_holin_4_1_131.txt\",\"negative\",\"negative\",\"negative\",\"pos_PF03945_full_Endotoxin_N_180.txt\",\"pos_PF01117_full_Aerolysin_207.txt\",\"negative\",\"negative\",\"negative\",\"negative\",\"pos_PF03945_full_Endotoxin_N_180.txt\",\"pos_PF03945_full_Endotoxin_N_180.txt\",\"PF00087_full_Toxin_TOLIP_333.txt\",\"pos_PF06369_full_anemone_cytotox_363.txt\",\"pos_PF05105_seed_Phage_holin_4_1_131.txt\",\"negative\",\"negative\",\"pos_PF01823_rp15_MACPF_659.txt\",\"pos_PF01823_rp15_MACPF_659.txt\",\"negative\",\"pos_PF04877_full_Harpin_35.txt\",\"negative\",\"negative\",\"negative\",\"negative\",\"negative\",\"negative\",\"pos_PF01823_rp15_MACPF_659.txt\",\"pos_PF01117_full_Aerolysin_207.txt\",\"negative\",\"pos_PF06355_full_Aegerolysin_308.txt\",\"pos_PF01823_rp15_MACPF_659.txt\",\"negative\",\"pos_PF01823_rp15_MACPF_659.txt\",\"pos_PF18063_full_BB_PF_52.txt\",\"negative\",\"pos_PF06355_full_Aegerolysin_308.txt\",\"pos_PF06109_full_HlyE_62.txt\",\"PF00087_full_Toxin_TOLIP_333.txt\",\"pos_PF03945_full_Endotoxin_N_180.txt\",\"negative\",\"pos_PF01117_full_Aerolysin_207.txt\",\"negative\",\"negative\",\"pos_PF01823_rp15_MACPF_659.txt\",\"negative\",\"negative\",\"pos_PF04877_full_Harpin_35.txt\",\"negative\",\"negative\",\"pos_PF03945_full_Endotoxin_N_180.txt\",\"negative\",\"negative\",\"negative\",\"pos_PF03318_full_ETX_MTX2_440.txt\",\"negative\",\"negative\",\"negative\",\"negative\",\"negative\",\"negative\",\"negative\",\"negative\",\"pos_PF01117_full_Aerolysin_207.txt\",\"pos_PF05105_seed_Phage_holin_4_1_131.txt\",\"negative\",\"pos_PF12920_full_TcdA_TcdB_pore_46.txt\",\"pos_PF01823_rp15_MACPF_659.txt\",\"negative\",\"negative\",\"negative\",\"negative\",\"pos_PF12261_full_T_hemolysin_327.txt\",\"negative\",\"negative\",\"negative\",\"pos_PF03318_full_ETX_MTX2_440.txt\",\"negative\",\"PF04598_rp15_Gasdermin_62.txt\",\"PF07367_full_FB_lectin_171.txt\",\"pos_PF03318_full_ETX_MTX2_440.txt\",\"negative\",\"negative\",\"pos_PF01823_rp15_MACPF_659.txt\",\"negative\",\"PF01289_full_Thiol_cytolysin_243.txt\",\"PF01289_full_Thiol_cytolysin_243.txt\",\"negative\",\"negative\",\"pos_PF07968_full_Leukocidin_89.txt\",\"negative\",\"negative\",\"negative\",\"PF04598_rp15_Gasdermin_62.txt\",\"negative\",\"pos_PF11393_full_T4BSS_DotI_IcmL_214.txt\",\"pos_PF03945_full_Endotoxin_N_180.txt\",\"negative\",\"pos_PF12261_full_T_hemolysin_327.txt\",\"negative\",\"pos_PF01823_rp15_MACPF_659.txt\",\"negative\",\"negative\",\"negative\",\"pos_PF07968_full_Leukocidin_89.txt\",\"pos_PF03318_full_ETX_MTX2_440.txt\",\"pos_PF01117_full_Aerolysin_207.txt\",\"negative\",\"negative\",\"pos_PF05802_full_EspB_60.txt\",\"pos_PF05802_full_EspB_60.txt\",\"negative\",\"negative\",\"PF11565_full_porB_30.txt\",\"pos_PF11393_full_T4BSS_DotI_IcmL_214.txt\",\"negative\",\"negative\",\"negative\",\"negative\",\"PF04598_rp15_Gasdermin_62.txt\",\"negative\",\"negative\",\"pos_PF12261_full_T_hemolysin_327.txt\",\"negative\",\"negative\",\"negative\",\"pos_PF06355_full_Aegerolysin_308.txt\",\"pos_PF05802_full_EspB_60.txt\",\"pos_PF12563_full_Hemolysin_N_12.txt\",\"pos_PF06109_full_HlyE_62.txt\",\"pos_PF12920_full_TcdA_TcdB_pore_46.txt\",\"pos_PF03318_full_ETX_MTX2_440.txt\",\"PF04598_rp15_Gasdermin_62.txt\",\"negative\",\"pos_PF03945_full_Endotoxin_N_180.txt\",\"pos_PF03944_seed_Endotoxin_C_80.txt\",\"pos_PF05105_seed_Phage_holin_4_1_131.txt\",\"pos_PF01117_full_Aerolysin_207.txt\",\"negative\",\"negative\",\"negative\",\"negative\",\"negative\",\"pos_PF06355_full_Aegerolysin_308.txt\",\"negative\",\"negative\",\"negative\",\"PF00087_full_Toxin_TOLIP_333.txt\",\"pos_PF01117_full_Aerolysin_207.txt\",\"negative\",\"negative\",\"negative\",\"pos_PF07968_full_Leukocidin_89.txt\",\"negative\",\"negative\",\"negative\",\"pos_PF12261_full_T_hemolysin_327.txt\",\"pos_PF05105_seed_Phage_holin_4_1_131.txt\",\"negative\",\"negative\",\"negative\",\"negative\",\"negative\",\"negative\",\"negative\",\"negative\",\"negative\",\"PF01289_full_Thiol_cytolysin_243.txt\",\"negative\",\"PF01289_full_Thiol_cytolysin_243.txt\",\"negative\",\"negative\",\"negative\",\"pos_PF01823_rp15_MACPF_659.txt\",\"pos_PF01338_full_Bac_thur_toxin_87.txt\",\"pos_PF03318_full_ETX_MTX2_440.txt\",\"pos_PF01117_full_Aerolysin_207.txt\",\"pos_PF01823_rp15_MACPF_659.txt\",\"negative\",\"negative\",\"PF00087_full_Toxin_TOLIP_333.txt\",\"negative\",\"negative\",\"negative\",\"pos_PF01117_full_Aerolysin_207.txt\",\"negative\",\"pos_PF03945_full_Endotoxin_N_180.txt\",\"negative\",\"pos_PF05105_seed_Phage_holin_4_1_131.txt\",\"negative\",\"pos_PF12261_full_T_hemolysin_327.txt\",\"pos_PF03945_full_Endotoxin_N_180.txt\",\"pos_PF01823_rp15_MACPF_659.txt\",\"negative\",\"negative\",\"negative\",\"negative\",\"negative\",\"PF00087_full_Toxin_TOLIP_333.txt\",\"negative\",\"negative\",\"negative\",\"negative\",\"PF11565_full_porB_30.txt\",\"negative\",\"negative\",\"PF00087_full_Toxin_TOLIP_333.txt\",\"pos_PF03944_seed_Endotoxin_C_80.txt\",\"negative\",\"negative\",\"negative\",\"negative\",\"negative\",\"negative\",\"pos_PF03944_seed_Endotoxin_C_80.txt\",\"pos_PF06355_full_Aegerolysin_308.txt\",\"pos_PF12261_full_T_hemolysin_327.txt\",\"negative\",\"negative\",\"negative\",\"negative\",\"pos_PF03944_seed_Endotoxin_C_80.txt\",\"pos_PF05802_full_EspB_60.txt\",\"negative\",\"negative\",\"negative\",\"negative\",\"negative\",\"negative\",\"negative\",\"pos_PF11393_full_T4BSS_DotI_IcmL_214.txt\",\"negative\",\"negative\",\"negative\",\"pos_PF03945_full_Endotoxin_N_180.txt\",\"negative\",\"negative\",\"negative\",\"PF00087_full_Toxin_TOLIP_333.txt\",\"negative\",\"PF11565_full_porB_30.txt\",\"pos_PF01823_rp15_MACPF_659.txt\",\"pos_PF01117_full_Aerolysin_207.txt\",\"negative\",\"negative\",\"negative\",\"pos_PF06369_full_anemone_cytotox_363.txt\",\"negative\",\"PF01289_full_Thiol_cytolysin_243.txt\",\"negative\",\"pos_PF06369_full_anemone_cytotox_363.txt\",\"negative\",\"pos_PF03318_full_ETX_MTX2_440.txt\",\"PF07367_full_FB_lectin_171.txt\",\"negative\",\"pos_PF12920_full_TcdA_TcdB_pore_46.txt\",\"pos_PF12261_full_T_hemolysin_327.txt\",\"pos_PF06355_full_Aegerolysin_308.txt\",\"pos_PF06369_full_anemone_cytotox_363.txt\",\"negative\",\"pos_PF01823_rp15_MACPF_659.txt\",\"PF01289_full_Thiol_cytolysin_243.txt\",\"negative\",\"PF07367_full_FB_lectin_171.txt\",\"pos_PF12920_full_TcdA_TcdB_pore_46.txt\",\"PF01289_full_Thiol_cytolysin_243.txt\",\"negative\",\"negative\",\"pos_PF01117_full_Aerolysin_207.txt\",\"negative\",\"pos_PF06355_full_Aegerolysin_308.txt\",\"negative\",\"pos_PF03318_full_ETX_MTX2_440.txt\",\"negative\",\"pos_PF01823_rp15_MACPF_659.txt\",\"negative\",\"pos_PF04877_full_Harpin_35.txt\",\"pos_PF01117_full_Aerolysin_207.txt\",\"negative\",\"pos_PF11393_full_T4BSS_DotI_IcmL_214.txt\",\"pos_PF05105_seed_Phage_holin_4_1_131.txt\",\"pos_PF07968_full_Leukocidin_89.txt\",\"pos_PF03318_full_ETX_MTX2_440.txt\",\"negative\",\"pos_PF01823_rp15_MACPF_659.txt\",\"PF01289_full_Thiol_cytolysin_243.txt\",\"negative\",\"negative\",\"pos_PF01823_rp15_MACPF_659.txt\",\"PF04598_rp15_Gasdermin_62.txt\",\"pos_PF07968_full_Leukocidin_89.txt\",\"negative\",\"negative\",\"pos_PF01823_rp15_MACPF_659.txt\",\"pos_PF01823_rp15_MACPF_659.txt\",\"negative\",\"negative\",\"pos_PF01823_rp15_MACPF_659.txt\",\"negative\",\"negative\",\"pos_PF06369_full_anemone_cytotox_363.txt\",\"PF01289_full_Thiol_cytolysin_243.txt\",\"pos_PF12563_full_Hemolysin_N_12.txt\",\"negative\",\"PF07367_full_FB_lectin_171.txt\",\"pos_PF01823_rp15_MACPF_659.txt\",\"pos_PF03318_full_ETX_MTX2_440.txt\",\"negative\",\"negative\",\"negative\",\"pos_PF12261_full_T_hemolysin_327.txt\",\"negative\",\"pos_PF03944_seed_Endotoxin_C_80.txt\",\"negative\",\"negative\",\"pos_PF00555_seed_Endotoxin_M_36.txt\",\"negative\",\"negative\",\"negative\",\"negative\",\"negative\",\"negative\",\"pos_PF11393_full_T4BSS_DotI_IcmL_214.txt\",\"negative\",\"negative\",\"negative\",\"pos_PF01823_rp15_MACPF_659.txt\",\"negative\",\"negative\",\"negative\",\"negative\",\"negative\",\"pos_PF01823_rp15_MACPF_659.txt\",\"negative\",\"negative\",\"negative\",\"pos_PF05105_seed_Phage_holin_4_1_131.txt\",\"negative\",\"pos_PF01338_full_Bac_thur_toxin_87.txt\",\"pos_PF18063_full_BB_PF_52.txt\",\"negative\",\"pos_PF12261_full_T_hemolysin_327.txt\",\"negative\",\"negative\",\"pos_PF06355_full_Aegerolysin_308.txt\",\"PF07367_full_FB_lectin_171.txt\",\"negative\",\"negative\",\"pos_PF06369_full_anemone_cytotox_363.txt\",\"pos_PF05802_full_EspB_60.txt\",\"negative\",\"pos_PF03945_full_Endotoxin_N_180.txt\",\"negative\",\"negative\",\"pos_PF11393_full_T4BSS_DotI_IcmL_214.txt\",\"pos_PF12261_full_T_hemolysin_327.txt\",\"negative\",\"negative\",\"pos_PF01823_rp15_MACPF_659.txt\",\"negative\",\"negative\",\"negative\",\"negative\",\"negative\",\"pos_PF06369_full_anemone_cytotox_363.txt\",\"negative\",\"negative\",\"pos_PF12261_full_T_hemolysin_327.txt\",\"pos_PF01024_full_Colicin_26.txt\",\"negative\",\"negative\",\"pos_PF12920_full_TcdA_TcdB_pore_46.txt\",\"negative\",\"PF01289_full_Thiol_cytolysin_243.txt\",\"negative\",\"negative\",\"negative\",\"pos_PF01823_rp15_MACPF_659.txt\",\"negative\",\"negative\",\"PF00087_full_Toxin_TOLIP_333.txt\",\"PF01289_full_Thiol_cytolysin_243.txt\",\"pos_PF01823_rp15_MACPF_659.txt\",\"pos_PF03318_full_ETX_MTX2_440.txt\",\"pos_PF01823_rp15_MACPF_659.txt\",\"negative\",\"negative\",\"pos_PF01823_rp15_MACPF_659.txt\",\"negative\",\"negative\",\"pos_PF12261_full_T_hemolysin_327.txt\",\"pos_PF01823_rp15_MACPF_659.txt\",\"negative\",\"negative\",\"negative\",\"negative\",\"pos_PF05802_full_EspB_60.txt\",\"pos_PF03318_full_ETX_MTX2_440.txt\",\"pos_PF03945_full_Endotoxin_N_180.txt\",\"pos_PF12920_full_TcdA_TcdB_pore_46.txt\",\"pos_PF03318_full_ETX_MTX2_440.txt\",\"PF07367_full_FB_lectin_171.txt\",\"pos_PF06369_full_anemone_cytotox_363.txt\",\"negative\",\"pos_PF01338_full_Bac_thur_toxin_87.txt\",\"negative\",\"pos_PF03318_full_ETX_MTX2_440.txt\",\"negative\",\"negative\",\"negative\",\"PF01289_full_Thiol_cytolysin_243.txt\",\"negative\",\"PF00087_full_Toxin_TOLIP_333.txt\",\"pos_PF03318_full_ETX_MTX2_440.txt\",\"negative\",\"negative\",\"negative\",\"pos_PF12261_full_T_hemolysin_327.txt\",\"pos_PF11393_full_T4BSS_DotI_IcmL_214.txt\",\"pos_PF06109_full_HlyE_62.txt\",\"negative\",\"pos_PF12261_full_T_hemolysin_327.txt\",\"pos_PF03318_full_ETX_MTX2_440.txt\",\"pos_PF03945_full_Endotoxin_N_180.txt\",\"negative\",\"pos_PF01024_full_Colicin_26.txt\",\"negative\",\"pos_PF03318_full_ETX_MTX2_440.txt\",\"PF07367_full_FB_lectin_171.txt\",\"negative\",\"negative\",\"negative\",\"negative\",\"negative\",\"PF04598_rp15_Gasdermin_62.txt\",\"negative\",\"negative\",\"PF00087_full_Toxin_TOLIP_333.txt\",\"pos_PF05802_full_EspB_60.txt\",\"pos_PF00555_seed_Endotoxin_M_36.txt\",\"pos_PF03945_full_Endotoxin_N_180.txt\",\"negative\",\"negative\",\"pos_PF11393_full_T4BSS_DotI_IcmL_214.txt\",\"negative\",\"negative\",\"pos_PF01823_rp15_MACPF_659.txt\",\"pos_PF06355_full_Aegerolysin_308.txt\",\"negative\",\"negative\",\"PF00087_full_Toxin_TOLIP_333.txt\",\"pos_PF12261_full_T_hemolysin_327.txt\",\"pos_PF05802_full_EspB_60.txt\",\"pos_PF03318_full_ETX_MTX2_440.txt\",\"negative\",\"negative\",\"negative\",\"negative\",\"PF00087_full_Toxin_TOLIP_333.txt\",\"negative\",\"negative\",\"negative\",\"negative\",\"pos_PF12261_full_T_hemolysin_327.txt\",\"negative\",\"negative\",\"pos_PF12920_full_TcdA_TcdB_pore_46.txt\",\"pos_PF03944_seed_Endotoxin_C_80.txt\",\"negative\",\"negative\",\"PF01289_full_Thiol_cytolysin_243.txt\",\"negative\",\"pos_PF12261_full_T_hemolysin_327.txt\",\"pos_PF01823_rp15_MACPF_659.txt\",\"negative\",\"negative\",\"negative\",\"negative\",\"pos_PF05105_seed_Phage_holin_4_1_131.txt\",\"negative\",\"negative\",\"pos_PF12261_full_T_hemolysin_327.txt\",\"negative\",\"negative\",\"pos_PF04877_full_Harpin_35.txt\",\"pos_PF03944_seed_Endotoxin_C_80.txt\",\"pos_PF01117_full_Aerolysin_207.txt\",\"pos_PF06355_full_Aegerolysin_308.txt\",\"negative\",\"negative\",\"pos_PF05105_seed_Phage_holin_4_1_131.txt\",\"negative\",\"negative\",\"pos_PF05105_seed_Phage_holin_4_1_131.txt\",\"negative\",\"negative\",\"pos_PF12261_full_T_hemolysin_327.txt\",\"negative\",\"negative\",\"negative\",\"pos_PF03944_seed_Endotoxin_C_80.txt\",\"pos_PF06355_full_Aegerolysin_308.txt\",\"negative\",\"PF00087_full_Toxin_TOLIP_333.txt\",\"PF04598_rp15_Gasdermin_62.txt\",\"pos_PF06369_full_anemone_cytotox_363.txt\",\"negative\",\"pos_PF06355_full_Aegerolysin_308.txt\",\"negative\",\"negative\",\"negative\",\"negative\",\"negative\",\"pos_PF01338_full_Bac_thur_toxin_87.txt\",\"negative\",\"negative\",\"negative\",\"pos_PF05802_full_EspB_60.txt\",\"PF00087_full_Toxin_TOLIP_333.txt\",\"pos_PF01117_full_Aerolysin_207.txt\",\"negative\",\"pos_PF01823_rp15_MACPF_659.txt\",\"negative\",\"pos_PF06369_full_anemone_cytotox_363.txt\",\"negative\",\"negative\",\"negative\",\"negative\",\"pos_PF01823_rp15_MACPF_659.txt\",\"negative\",\"PF04598_rp15_Gasdermin_62.txt\",\"negative\",\"negative\",\"negative\",\"negative\",\"negative\",\"pos_PF01823_rp15_MACPF_659.txt\",\"PF01289_full_Thiol_cytolysin_243.txt\",\"negative\",\"negative\",\"negative\",\"pos_PF12261_full_T_hemolysin_327.txt\",\"negative\",\"PF07367_full_FB_lectin_171.txt\",\"pos_PF06369_full_anemone_cytotox_363.txt\",\"pos_PF01823_rp15_MACPF_659.txt\",\"negative\",\"negative\",\"negative\",\"negative\",\"negative\",\"negative\",\"pos_PF01338_full_Bac_thur_toxin_87.txt\",\"negative\",\"pos_PF11393_full_T4BSS_DotI_IcmL_214.txt\",\"negative\",\"pos_PF01117_full_Aerolysin_207.txt\",\"negative\",\"PF01289_full_Thiol_cytolysin_243.txt\",\"pos_PF06369_full_anemone_cytotox_363.txt\",\"negative\",\"negative\",\"pos_PF18063_full_BB_PF_52.txt\",\"negative\",\"pos_PF11393_full_T4BSS_DotI_IcmL_214.txt\",\"negative\",\"negative\",\"negative\",\"pos_PF12261_full_T_hemolysin_327.txt\",\"PF00087_full_Toxin_TOLIP_333.txt\",\"pos_PF01338_full_Bac_thur_toxin_87.txt\",\"pos_PF01823_rp15_MACPF_659.txt\",\"pos_PF12261_full_T_hemolysin_327.txt\",\"pos_PF18063_full_BB_PF_52.txt\",\"negative\",\"negative\",\"pos_PF06355_full_Aegerolysin_308.txt\",\"negative\",\"pos_PF05802_full_EspB_60.txt\",\"negative\",\"negative\",\"negative\",\"negative\",\"negative\",\"pos_PF05802_full_EspB_60.txt\",\"pos_PF06369_full_anemone_cytotox_363.txt\",\"negative\",\"pos_PF06369_full_anemone_cytotox_363.txt\",\"negative\",\"negative\",\"negative\",\"negative\",\"negative\",\"pos_PF11393_full_T4BSS_DotI_IcmL_214.txt\",\"pos_PF03944_seed_Endotoxin_C_80.txt\",\"pos_PF05802_full_EspB_60.txt\",\"pos_PF03944_seed_Endotoxin_C_80.txt\",\"negative\",\"negative\",\"negative\",\"pos_PF03318_full_ETX_MTX2_440.txt\",\"pos_PF00555_seed_Endotoxin_M_36.txt\",\"negative\",\"negative\",\"pos_PF01823_rp15_MACPF_659.txt\",\"negative\",\"pos_PF03318_full_ETX_MTX2_440.txt\",\"negative\",\"pos_PF12261_full_T_hemolysin_327.txt\",\"pos_PF01117_full_Aerolysin_207.txt\",\"pos_PF12261_full_T_hemolysin_327.txt\",\"negative\",\"pos_PF03318_full_ETX_MTX2_440.txt\",\"pos_PF06369_full_anemone_cytotox_363.txt\",\"negative\",\"pos_PF05105_seed_Phage_holin_4_1_131.txt\",\"negative\",\"negative\",\"negative\",\"PF01289_full_Thiol_cytolysin_243.txt\",\"PF00087_full_Toxin_TOLIP_333.txt\",\"pos_PF05105_seed_Phage_holin_4_1_131.txt\",\"pos_PF01823_rp15_MACPF_659.txt\",\"pos_PF06355_full_Aegerolysin_308.txt\",\"negative\",\"negative\",\"negative\",\"negative\",\"pos_PF05105_seed_Phage_holin_4_1_131.txt\",\"pos_PF03505_full_Clenterotox_9.txt\",\"pos_PF05105_seed_Phage_holin_4_1_131.txt\",\"PF01289_full_Thiol_cytolysin_243.txt\",\"negative\",\"negative\",\"pos_PF06355_full_Aegerolysin_308.txt\",\"negative\",\"negative\",\"negative\",\"pos_PF01338_full_Bac_thur_toxin_87.txt\",\"negative\",\"pos_PF07968_full_Leukocidin_89.txt\",\"pos_PF01823_rp15_MACPF_659.txt\",\"negative\",\"negative\",\"pos_PF06369_full_anemone_cytotox_363.txt\",\"negative\",\"negative\",\"negative\",\"pos_PF01823_rp15_MACPF_659.txt\",\"pos_PF06355_full_Aegerolysin_308.txt\",\"negative\",\"negative\",\"negative\",\"pos_PF12920_full_TcdA_TcdB_pore_46.txt\",\"negative\",\"negative\",\"negative\",\"PF01289_full_Thiol_cytolysin_243.txt\",\"negative\",\"negative\",\"negative\",\"negative\",\"negative\",\"PF00087_full_Toxin_TOLIP_333.txt\",\"pos_PF03945_full_Endotoxin_N_180.txt\",\"negative\",\"pos_PF06355_full_Aegerolysin_308.txt\",\"pos_PF03945_full_Endotoxin_N_180.txt\",\"pos_PF03945_full_Endotoxin_N_180.txt\",\"pos_PF04877_full_Harpin_35.txt\",\"negative\",\"negative\",\"negative\",\"pos_PF01117_full_Aerolysin_207.txt\",\"pos_PF06355_full_Aegerolysin_308.txt\",\"negative\",\"pos_PF17475_full_Binary_toxB_2_16.txt\",\"pos_PF03318_full_ETX_MTX2_440.txt\",\"pos_PF11393_full_T4BSS_DotI_IcmL_214.txt\",\"negative\",\"PF07367_full_FB_lectin_171.txt\",\"negative\",\"PF01289_full_Thiol_cytolysin_243.txt\",\"pos_PF06369_full_anemone_cytotox_363.txt\",\"pos_PF12261_full_T_hemolysin_327.txt\",\"negative\",\"PF01289_full_Thiol_cytolysin_243.txt\",\"negative\",\"negative\",\"negative\",\"pos_PF01823_rp15_MACPF_659.txt\",\"negative\",\"negative\",\"pos_PF03318_full_ETX_MTX2_440.txt\",\"negative\",\"negative\",\"pos_PF01823_rp15_MACPF_659.txt\",\"negative\",\"negative\",\"negative\",\"pos_PF03318_full_ETX_MTX2_440.txt\",\"negative\",\"negative\",\"PF01289_full_Thiol_cytolysin_243.txt\",\"negative\",\"negative\",\"negative\",\"pos_PF07968_full_Leukocidin_89.txt\",\"PF07367_full_FB_lectin_171.txt\",\"pos_PF03944_seed_Endotoxin_C_80.txt\",\"negative\",\"negative\",\"negative\",\"pos_PF05105_seed_Phage_holin_4_1_131.txt\",\"negative\",\"pos_PF12261_full_T_hemolysin_327.txt\",\"PF01289_full_Thiol_cytolysin_243.txt\",\"pos_PF05105_seed_Phage_holin_4_1_131.txt\",\"pos_PF12261_full_T_hemolysin_327.txt\",\"pos_PF11393_full_T4BSS_DotI_IcmL_214.txt\",\"negative\",\"negative\",\"negative\",\"negative\",\"pos_PF18063_full_BB_PF_52.txt\",\"negative\",\"negative\",\"pos_PF03318_full_ETX_MTX2_440.txt\",\"pos_PF01823_rp15_MACPF_659.txt\",\"pos_PF01117_full_Aerolysin_207.txt\",\"negative\",\"pos_PF05105_seed_Phage_holin_4_1_131.txt\",\"negative\",\"negative\",\"pos_PF01823_rp15_MACPF_659.txt\",\"pos_PF06355_full_Aegerolysin_308.txt\",\"negative\",\"negative\",\"negative\",\"negative\",\"pos_PF06369_full_anemone_cytotox_363.txt\",\"negative\",\"negative\",\"negative\",\"pos_PF07968_full_Leukocidin_89.txt\",\"negative\",\"negative\",\"negative\",\"negative\",\"pos_PF03318_full_ETX_MTX2_440.txt\",\"pos_PF05105_seed_Phage_holin_4_1_131.txt\",\"pos_PF03318_full_ETX_MTX2_440.txt\",\"negative\",\"negative\",\"negative\",\"pos_PF05802_full_EspB_60.txt\",\"negative\",\"pos_PF01823_rp15_MACPF_659.txt\",\"pos_PF03318_full_ETX_MTX2_440.txt\",\"negative\",\"pos_PF03944_seed_Endotoxin_C_80.txt\",\"negative\",\"negative\",\"PF01289_full_Thiol_cytolysin_243.txt\",\"negative\",\"negative\",\"negative\",\"pos_PF01338_full_Bac_thur_toxin_87.txt\",\"pos_PF01024_full_Colicin_26.txt\",\"negative\",\"pos_PF03318_full_ETX_MTX2_440.txt\",\"negative\",\"pos_PF12261_full_T_hemolysin_327.txt\",\"negative\",\"pos_PF03318_full_ETX_MTX2_440.txt\",\"negative\",\"negative\",\"negative\",\"negative\",\"pos_PF00555_seed_Endotoxin_M_36.txt\",\"negative\",\"negative\",\"negative\",\"negative\",\"pos_PF03945_full_Endotoxin_N_180.txt\",\"pos_PF18684_full_PlyB_C_8.txt\",\"negative\",\"pos_PF01823_rp15_MACPF_659.txt\",\"pos_PF00555_seed_Endotoxin_M_36.txt\",\"negative\",\"negative\",\"pos_PF11393_full_T4BSS_DotI_IcmL_214.txt\",\"pos_PF03318_full_ETX_MTX2_440.txt\",\"pos_PF06355_full_Aegerolysin_308.txt\",\"negative\",\"negative\",\"pos_PF11393_full_T4BSS_DotI_IcmL_214.txt\",\"negative\",\"pos_PF18063_full_BB_PF_52.txt\",\"pos_PF01823_rp15_MACPF_659.txt\",\"negative\",\"negative\",\"negative\",\"negative\",\"negative\",\"pos_PF03944_seed_Endotoxin_C_80.txt\",\"pos_PF01823_rp15_MACPF_659.txt\",\"pos_PF01823_rp15_MACPF_659.txt\",\"negative\",\"pos_PF12261_full_T_hemolysin_327.txt\",\"negative\",\"PF02382_full_RTX_14.txt\",\"negative\",\"PF07367_full_FB_lectin_171.txt\",\"negative\",\"negative\",\"pos_PF01823_rp15_MACPF_659.txt\",\"negative\",\"negative\",\"negative\",\"negative\",\"negative\",\"negative\",\"negative\",\"negative\",\"pos_PF05802_full_EspB_60.txt\",\"negative\",\"pos_PF01823_rp15_MACPF_659.txt\",\"pos_PF01823_rp15_MACPF_659.txt\",\"negative\",\"negative\",\"negative\",\"pos_PF06369_full_anemone_cytotox_363.txt\",\"negative\",\"pos_PF01117_full_Aerolysin_207.txt\",\"pos_PF06109_full_HlyE_62.txt\",\"negative\",\"negative\",\"negative\",\"negative\",\"pos_PF06369_full_anemone_cytotox_363.txt\",\"negative\",\"pos_PF12261_full_T_hemolysin_327.txt\",\"negative\",\"negative\",\"pos_PF12261_full_T_hemolysin_327.txt\",\"negative\",\"PF11565_full_porB_30.txt\",\"pos_PF07968_full_Leukocidin_89.txt\",\"pos_PF18063_full_BB_PF_52.txt\",\"negative\",\"negative\",\"pos_PF06369_full_anemone_cytotox_363.txt\",\"negative\",\"negative\",\"negative\",\"negative\",\"negative\",\"pos_PF01823_rp15_MACPF_659.txt\",\"negative\",\"negative\",\"pos_PF12261_full_T_hemolysin_327.txt\",\"negative\",\"pos_PF06355_full_Aegerolysin_308.txt\",\"negative\",\"pos_PF11393_full_T4BSS_DotI_IcmL_214.txt\",\"pos_PF01823_rp15_MACPF_659.txt\",\"negative\",\"negative\",\"negative\",\"negative\",\"pos_PF03318_full_ETX_MTX2_440.txt\",\"pos_PF01823_rp15_MACPF_659.txt\",\"negative\",\"pos_PF12261_full_T_hemolysin_327.txt\",\"negative\",\"negative\",\"negative\",\"pos_PF12261_full_T_hemolysin_327.txt\",\"pos_PF03318_full_ETX_MTX2_440.txt\",\"pos_PF01823_rp15_MACPF_659.txt\",\"negative\",\"negative\",\"negative\",\"pos_PF06355_full_Aegerolysin_308.txt\",\"pos_PF01823_rp15_MACPF_659.txt\",\"negative\",\"pos_PF00555_seed_Endotoxin_M_36.txt\",\"pos_PF12261_full_T_hemolysin_327.txt\",\"negative\",\"pos_PF01117_full_Aerolysin_207.txt\",\"negative\",\"negative\",\"negative\",\"pos_PF06369_full_anemone_cytotox_363.txt\",\"pos_PF06369_full_anemone_cytotox_363.txt\",\"negative\",\"pos_PF01823_rp15_MACPF_659.txt\",\"pos_PF12261_full_T_hemolysin_327.txt\",\"pos_PF06355_full_Aegerolysin_308.txt\",\"negative\",\"pos_PF18063_full_BB_PF_52.txt\",\"negative\",\"pos_PF03945_full_Endotoxin_N_180.txt\",\"pos_PF18063_full_BB_PF_52.txt\",\"negative\",\"pos_PF12261_full_T_hemolysin_327.txt\",\"PF00087_full_Toxin_TOLIP_333.txt\",\"negative\",\"pos_PF01823_rp15_MACPF_659.txt\",\"negative\",\"pos_PF11393_full_T4BSS_DotI_IcmL_214.txt\",\"negative\",\"pos_PF06355_full_Aegerolysin_308.txt\",\"negative\",\"negative\",\"pos_PF01823_rp15_MACPF_659.txt\",\"negative\",\"pos_PF11393_full_T4BSS_DotI_IcmL_214.txt\",\"pos_PF05105_seed_Phage_holin_4_1_131.txt\",\"negative\",\"negative\",\"negative\",\"negative\",\"negative\",\"negative\",\"negative\",\"pos_PF03945_full_Endotoxin_N_180.txt\",\"PF07367_full_FB_lectin_171.txt\",\"pos_PF11393_full_T4BSS_DotI_IcmL_214.txt\",\"negative\",\"negative\",\"PF00087_full_Toxin_TOLIP_333.txt\",\"negative\",\"negative\",\"negative\",\"negative\",\"negative\",\"negative\",\"pos_PF03944_seed_Endotoxin_C_80.txt\",\"pos_PF01823_rp15_MACPF_659.txt\",\"pos_PF01117_full_Aerolysin_207.txt\",\"negative\",\"pos_PF03318_full_ETX_MTX2_440.txt\",\"negative\",\"PF00087_full_Toxin_TOLIP_333.txt\",\"negative\",\"PF01289_full_Thiol_cytolysin_243.txt\",\"negative\",\"pos_PF06369_full_anemone_cytotox_363.txt\",\"pos_PF01823_rp15_MACPF_659.txt\",\"pos_PF03945_full_Endotoxin_N_180.txt\",\"negative\",\"negative\",\"negative\",\"PF00087_full_Toxin_TOLIP_333.txt\",\"negative\",\"negative\",\"pos_PF03318_full_ETX_MTX2_440.txt\",\"pos_PF01338_full_Bac_thur_toxin_87.txt\",\"negative\",\"pos_PF03318_full_ETX_MTX2_440.txt\",\"negative\",\"pos_PF06369_full_anemone_cytotox_363.txt\",\"negative\",\"negative\",\"pos_PF06355_full_Aegerolysin_308.txt\",\"negative\",\"negative\",\"PF02382_full_RTX_14.txt\",\"pos_PF03945_full_Endotoxin_N_180.txt\",\"pos_PF01823_rp15_MACPF_659.txt\",\"pos_PF12261_full_T_hemolysin_327.txt\",\"pos_PF03318_full_ETX_MTX2_440.txt\",\"pos_PF01117_full_Aerolysin_207.txt\",\"negative\",\"negative\",\"negative\",\"negative\",\"pos_PF01823_rp15_MACPF_659.txt\",\"negative\",\"pos_PF01823_rp15_MACPF_659.txt\",\"negative\",\"negative\",\"pos_PF03318_full_ETX_MTX2_440.txt\",\"pos_PF01024_full_Colicin_26.txt\",\"pos_PF05802_full_EspB_60.txt\",\"negative\",\"negative\",\"pos_PF01823_rp15_MACPF_659.txt\",\"pos_PF12261_full_T_hemolysin_327.txt\",\"negative\",\"pos_PF18063_full_BB_PF_52.txt\",\"pos_PF01117_full_Aerolysin_207.txt\",\"negative\",\"negative\",\"PF01289_full_Thiol_cytolysin_243.txt\",\"negative\",\"negative\",\"negative\",\"pos_PF07968_full_Leukocidin_89.txt\",\"pos_PF01823_rp15_MACPF_659.txt\",\"negative\",\"pos_PF01823_rp15_MACPF_659.txt\",\"pos_PF03318_full_ETX_MTX2_440.txt\",\"pos_PF12261_full_T_hemolysin_327.txt\",\"pos_PF07968_full_Leukocidin_89.txt\",\"pos_PF05105_seed_Phage_holin_4_1_131.txt\",\"negative\",\"negative\",\"negative\",\"negative\",\"pos_PF11393_full_T4BSS_DotI_IcmL_214.txt\",\"PF11565_full_porB_30.txt\",\"negative\",\"negative\",\"negative\",\"negative\",\"negative\",\"negative\",\"pos_PF01823_rp15_MACPF_659.txt\",\"negative\",\"negative\",\"negative\",\"pos_PF01823_rp15_MACPF_659.txt\",\"pos_PF03945_full_Endotoxin_N_180.txt\",\"pos_PF01338_full_Bac_thur_toxin_87.txt\",\"pos_PF06369_full_anemone_cytotox_363.txt\",\"negative\",\"negative\",\"negative\",\"pos_PF12261_full_T_hemolysin_327.txt\",\"negative\",\"pos_PF06355_full_Aegerolysin_308.txt\",\"negative\",\"negative\",\"negative\",\"PF00087_full_Toxin_TOLIP_333.txt\",\"pos_PF12261_full_T_hemolysin_327.txt\",\"negative\",\"negative\",\"negative\",\"negative\",\"pos_PF06109_full_HlyE_62.txt\",\"negative\",\"negative\",\"negative\",\"pos_PF03318_full_ETX_MTX2_440.txt\",\"pos_PF12261_full_T_hemolysin_327.txt\",\"pos_PF01823_rp15_MACPF_659.txt\",\"pos_PF01823_rp15_MACPF_659.txt\",\"negative\",\"negative\",\"pos_PF03318_full_ETX_MTX2_440.txt\",\"negative\",\"pos_PF03945_full_Endotoxin_N_180.txt\",\"negative\",\"negative\",\"negative\",\"negative\",\"pos_PF04877_full_Harpin_35.txt\",\"pos_PF01823_rp15_MACPF_659.txt\",\"negative\",\"PF00087_full_Toxin_TOLIP_333.txt\",\"PF01289_full_Thiol_cytolysin_243.txt\",\"pos_PF01117_full_Aerolysin_207.txt\",\"negative\",\"negative\",\"PF07367_full_FB_lectin_171.txt\",\"negative\",\"negative\",\"pos_PF03318_full_ETX_MTX2_440.txt\",\"pos_PF06369_full_anemone_cytotox_363.txt\",\"negative\",\"negative\",\"negative\",\"pos_PF01823_rp15_MACPF_659.txt\",\"negative\",\"pos_PF06355_full_Aegerolysin_308.txt\",\"pos_PF01823_rp15_MACPF_659.txt\",\"negative\",\"negative\",\"negative\",\"pos_PF12261_full_T_hemolysin_327.txt\",\"negative\",\"pos_PF01823_rp15_MACPF_659.txt\",\"negative\",\"negative\",\"pos_PF01823_rp15_MACPF_659.txt\",\"pos_PF03318_full_ETX_MTX2_440.txt\",\"pos_PF12261_full_T_hemolysin_327.txt\",\"negative\",\"pos_PF01823_rp15_MACPF_659.txt\",\"negative\",\"pos_PF18063_full_BB_PF_52.txt\",\"negative\",\"negative\",\"negative\",\"negative\",\"negative\",\"negative\",\"negative\",\"negative\",\"negative\",\"negative\",\"negative\",\"negative\",\"negative\",\"negative\",\"pos_PF04877_full_Harpin_35.txt\",\"negative\",\"negative\",\"pos_PF03945_full_Endotoxin_N_180.txt\",\"negative\",\"pos_PF06109_full_HlyE_62.txt\",\"negative\",\"negative\",\"negative\",\"PF01289_full_Thiol_cytolysin_243.txt\",\"negative\",\"PF01289_full_Thiol_cytolysin_243.txt\",\"negative\",\"pos_PF01823_rp15_MACPF_659.txt\",\"negative\",\"negative\",\"PF00087_full_Toxin_TOLIP_333.txt\",\"negative\",\"negative\",\"negative\",\"negative\",\"negative\",\"negative\",\"negative\",\"negative\",\"negative\",\"PF01289_full_Thiol_cytolysin_243.txt\",\"negative\",\"negative\",\"negative\",\"pos_PF03505_full_Clenterotox_9.txt\",\"negative\",\"PF04598_rp15_Gasdermin_62.txt\",\"negative\",\"negative\",\"pos_PF12261_full_T_hemolysin_327.txt\",\"negative\",\"PF01289_full_Thiol_cytolysin_243.txt\",\"pos_PF01117_full_Aerolysin_207.txt\",\"pos_PF06355_full_Aegerolysin_308.txt\",\"negative\",\"negative\",\"pos_PF01823_rp15_MACPF_659.txt\",\"negative\",\"negative\",\"pos_PF12261_full_T_hemolysin_327.txt\",\"pos_PF01117_full_Aerolysin_207.txt\",\"negative\",\"pos_PF01823_rp15_MACPF_659.txt\",\"PF01289_full_Thiol_cytolysin_243.txt\",\"negative\",\"negative\",\"pos_PF01823_rp15_MACPF_659.txt\",\"negative\",\"pos_PF17475_full_Binary_toxB_2_16.txt\",\"pos_PF01823_rp15_MACPF_659.txt\",\"negative\",\"pos_PF11393_full_T4BSS_DotI_IcmL_214.txt\",\"pos_PF07968_full_Leukocidin_89.txt\",\"negative\",\"negative\",\"negative\",\"negative\",\"PF11565_full_porB_30.txt\",\"pos_PF05802_full_EspB_60.txt\",\"negative\",\"negative\",\"pos_PF06109_full_HlyE_62.txt\",\"pos_PF01823_rp15_MACPF_659.txt\",\"pos_PF01823_rp15_MACPF_659.txt\",\"pos_PF06369_full_anemone_cytotox_363.txt\",\"negative\",\"negative\",\"negative\",\"negative\",\"negative\",\"negative\",\"negative\",\"negative\",\"pos_PF05105_seed_Phage_holin_4_1_131.txt\",\"negative\",\"PF01289_full_Thiol_cytolysin_243.txt\",\"negative\",\"pos_PF03945_full_Endotoxin_N_180.txt\",\"pos_PF01338_full_Bac_thur_toxin_87.txt\",\"pos_PF06369_full_anemone_cytotox_363.txt\",\"negative\",\"negative\",\"negative\",\"negative\",\"negative\",\"negative\",\"negative\",\"negative\",\"pos_PF01024_full_Colicin_26.txt\",\"negative\",\"pos_PF12261_full_T_hemolysin_327.txt\",\"pos_PF12261_full_T_hemolysin_327.txt\",\"PF07367_full_FB_lectin_171.txt\",\"pos_PF11393_full_T4BSS_DotI_IcmL_214.txt\",\"pos_PF03944_seed_Endotoxin_C_80.txt\",\"negative\",\"negative\",\"negative\",\"pos_PF01823_rp15_MACPF_659.txt\",\"negative\",\"negative\",\"negative\",\"pos_PF11393_full_T4BSS_DotI_IcmL_214.txt\",\"pos_PF03318_full_ETX_MTX2_440.txt\",\"negative\",\"negative\",\"negative\",\"negative\",\"pos_PF18063_full_BB_PF_52.txt\",\"PF04598_rp15_Gasdermin_62.txt\",\"pos_PF11393_full_T4BSS_DotI_IcmL_214.txt\",\"negative\",\"PF04598_rp15_Gasdermin_62.txt\",\"pos_PF01823_rp15_MACPF_659.txt\",\"pos_PF01823_rp15_MACPF_659.txt\",\"PF01289_full_Thiol_cytolysin_243.txt\",\"negative\",\"pos_PF03945_full_Endotoxin_N_180.txt\",\"negative\",\"pos_PF05105_seed_Phage_holin_4_1_131.txt\",\"PF07367_full_FB_lectin_171.txt\",\"negative\",\"pos_PF01823_rp15_MACPF_659.txt\",\"negative\",\"PF11565_full_porB_30.txt\",\"negative\",\"pos_PF05105_seed_Phage_holin_4_1_131.txt\",\"negative\",\"negative\",\"negative\",\"negative\",\"negative\",\"negative\",\"negative\",\"negative\",\"pos_PF01823_rp15_MACPF_659.txt\",\"pos_PF06369_full_anemone_cytotox_363.txt\",\"pos_PF03318_full_ETX_MTX2_440.txt\",\"negative\",\"negative\",\"pos_PF12261_full_T_hemolysin_327.txt\",\"pos_PF01823_rp15_MACPF_659.txt\",\"PF01289_full_Thiol_cytolysin_243.txt\",\"pos_PF03944_seed_Endotoxin_C_80.txt\",\"negative\",\"pos_PF03945_full_Endotoxin_N_180.txt\",\"pos_PF12563_full_Hemolysin_N_12.txt\",\"negative\",\"negative\",\"negative\",\"negative\",\"negative\",\"negative\",\"negative\",\"pos_PF06355_full_Aegerolysin_308.txt\",\"pos_PF12261_full_T_hemolysin_327.txt\",\"negative\",\"pos_PF11393_full_T4BSS_DotI_IcmL_214.txt\",\"negative\",\"pos_PF11393_full_T4BSS_DotI_IcmL_214.txt\",\"pos_PF03944_seed_Endotoxin_C_80.txt\",\"negative\",\"pos_PF12261_full_T_hemolysin_327.txt\",\"negative\",\"negative\",\"pos_PF11393_full_T4BSS_DotI_IcmL_214.txt\",\"negative\",\"pos_PF03318_full_ETX_MTX2_440.txt\",\"pos_PF01823_rp15_MACPF_659.txt\",\"pos_PF12261_full_T_hemolysin_327.txt\",\"pos_PF05105_seed_Phage_holin_4_1_131.txt\",\"negative\",\"PF00087_full_Toxin_TOLIP_333.txt\",\"pos_PF06369_full_anemone_cytotox_363.txt\",\"negative\",\"negative\",\"pos_PF05802_full_EspB_60.txt\",\"negative\",\"negative\",\"negative\",\"PF04598_rp15_Gasdermin_62.txt\",\"pos_PF05105_seed_Phage_holin_4_1_131.txt\",\"pos_PF01338_full_Bac_thur_toxin_87.txt\",\"negative\",\"pos_PF12261_full_T_hemolysin_327.txt\",\"negative\",\"pos_PF05802_full_EspB_60.txt\",\"pos_PF01823_rp15_MACPF_659.txt\",\"pos_PF12261_full_T_hemolysin_327.txt\",\"negative\",\"pos_PF05802_full_EspB_60.txt\",\"pos_PF03944_seed_Endotoxin_C_80.txt\",\"negative\",\"negative\",\"negative\",\"negative\",\"pos_PF12261_full_T_hemolysin_327.txt\",\"pos_PF05105_seed_Phage_holin_4_1_131.txt\",\"pos_PF03945_full_Endotoxin_N_180.txt\",\"negative\",\"negative\",\"negative\",\"negative\",\"negative\",\"negative\",\"pos_PF03318_full_ETX_MTX2_440.txt\",\"negative\",\"pos_PF11393_full_T4BSS_DotI_IcmL_214.txt\",\"PF01289_full_Thiol_cytolysin_243.txt\",\"pos_PF07968_full_Leukocidin_89.txt\",\"negative\",\"pos_PF18063_full_BB_PF_52.txt\",\"negative\",\"negative\",\"PF00087_full_Toxin_TOLIP_333.txt\",\"negative\",\"negative\",\"negative\",\"PF01289_full_Thiol_cytolysin_243.txt\",\"pos_PF12261_full_T_hemolysin_327.txt\",\"pos_PF03318_full_ETX_MTX2_440.txt\",\"pos_PF03318_full_ETX_MTX2_440.txt\",\"pos_PF00555_seed_Endotoxin_M_36.txt\",\"negative\",\"negative\",\"pos_PF03944_seed_Endotoxin_C_80.txt\",\"negative\",\"PF07367_full_FB_lectin_171.txt\",\"negative\",\"negative\",\"pos_PF03318_full_ETX_MTX2_440.txt\",\"negative\",\"negative\",\"pos_PF05105_seed_Phage_holin_4_1_131.txt\",\"negative\",\"negative\",\"negative\",\"pos_PF11393_full_T4BSS_DotI_IcmL_214.txt\",\"negative\",\"negative\",\"negative\",\"PF00087_full_Toxin_TOLIP_333.txt\",\"PF00087_full_Toxin_TOLIP_333.txt\",\"pos_PF17475_full_Binary_toxB_2_16.txt\",\"pos_PF12261_full_T_hemolysin_327.txt\",\"negative\",\"pos_PF03318_full_ETX_MTX2_440.txt\",\"pos_PF01823_rp15_MACPF_659.txt\",\"negative\",\"negative\",\"negative\",\"negative\",\"pos_PF11393_full_T4BSS_DotI_IcmL_214.txt\",\"pos_PF06369_full_anemone_cytotox_363.txt\",\"negative\",\"pos_PF12261_full_T_hemolysin_327.txt\",\"pos_PF12261_full_T_hemolysin_327.txt\",\"pos_PF01117_full_Aerolysin_207.txt\",\"negative\",\"negative\",\"negative\",\"pos_PF01117_full_Aerolysin_207.txt\",\"PF01289_full_Thiol_cytolysin_243.txt\",\"PF07367_full_FB_lectin_171.txt\",\"pos_PF12261_full_T_hemolysin_327.txt\",\"PF00087_full_Toxin_TOLIP_333.txt\",\"negative\",\"pos_PF01823_rp15_MACPF_659.txt\",\"pos_PF01117_full_Aerolysin_207.txt\",\"PF01289_full_Thiol_cytolysin_243.txt\",\"negative\",\"negative\",\"negative\",\"negative\",\"PF00087_full_Toxin_TOLIP_333.txt\",\"pos_PF12261_full_T_hemolysin_327.txt\",\"negative\",\"negative\",\"negative\",\"negative\",\"negative\",\"negative\",\"PF01289_full_Thiol_cytolysin_243.txt\",\"negative\",\"negative\",\"negative\",\"pos_PF11393_full_T4BSS_DotI_IcmL_214.txt\",\"negative\",\"PF00087_full_Toxin_TOLIP_333.txt\",\"negative\",\"pos_PF03318_full_ETX_MTX2_440.txt\",\"negative\",\"negative\",\"negative\",\"negative\",\"negative\",\"negative\",\"pos_PF12261_full_T_hemolysin_327.txt\",\"PF01289_full_Thiol_cytolysin_243.txt\",\"pos_PF01823_rp15_MACPF_659.txt\",\"negative\",\"negative\",\"pos_PF11393_full_T4BSS_DotI_IcmL_214.txt\",\"negative\",\"pos_PF01117_full_Aerolysin_207.txt\",\"pos_PF03318_full_ETX_MTX2_440.txt\",\"pos_PF01823_rp15_MACPF_659.txt\",\"negative\",\"negative\",\"negative\",\"negative\",\"negative\",\"negative\",\"negative\",\"negative\",\"pos_PF06369_full_anemone_cytotox_363.txt\",\"negative\",\"pos_PF01117_full_Aerolysin_207.txt\",\"pos_PF11393_full_T4BSS_DotI_IcmL_214.txt\",\"pos_PF03318_full_ETX_MTX2_440.txt\",\"negative\",\"pos_PF06355_full_Aegerolysin_308.txt\",\"pos_PF03318_full_ETX_MTX2_440.txt\",\"pos_PF00555_seed_Endotoxin_M_36.txt\",\"negative\",\"pos_PF03945_full_Endotoxin_N_180.txt\",\"pos_PF01823_rp15_MACPF_659.txt\",\"pos_PF01823_rp15_MACPF_659.txt\",\"PF02382_full_RTX_14.txt\",\"negative\",\"negative\",\"negative\",\"pos_PF05802_full_EspB_60.txt\",\"pos_PF01338_full_Bac_thur_toxin_87.txt\",\"pos_PF12261_full_T_hemolysin_327.txt\",\"negative\",\"negative\",\"negative\",\"pos_PF01823_rp15_MACPF_659.txt\",\"PF00087_full_Toxin_TOLIP_333.txt\",\"negative\",\"negative\",\"negative\",\"negative\",\"pos_PF06369_full_anemone_cytotox_363.txt\",\"negative\",\"pos_PF07968_full_Leukocidin_89.txt\",\"negative\",\"negative\",\"pos_PF05105_seed_Phage_holin_4_1_131.txt\",\"pos_PF01338_full_Bac_thur_toxin_87.txt\",\"PF07367_full_FB_lectin_171.txt\",\"negative\",\"negative\",\"pos_PF01117_full_Aerolysin_207.txt\",\"pos_PF12261_full_T_hemolysin_327.txt\",\"pos_PF03318_full_ETX_MTX2_440.txt\",\"negative\",\"pos_PF05105_seed_Phage_holin_4_1_131.txt\",\"pos_PF12261_full_T_hemolysin_327.txt\",\"pos_PF01823_rp15_MACPF_659.txt\",\"pos_PF06355_full_Aegerolysin_308.txt\",\"pos_PF05105_seed_Phage_holin_4_1_131.txt\",\"pos_PF06369_full_anemone_cytotox_363.txt\",\"negative\",\"pos_PF06355_full_Aegerolysin_308.txt\",\"negative\",\"PF04598_rp15_Gasdermin_62.txt\",\"pos_PF05105_seed_Phage_holin_4_1_131.txt\",\"negative\",\"negative\",\"pos_PF05802_full_EspB_60.txt\",\"pos_PF03505_full_Clenterotox_9.txt\",\"negative\",\"PF00087_full_Toxin_TOLIP_333.txt\",\"negative\",\"PF07367_full_FB_lectin_171.txt\",\"pos_PF03318_full_ETX_MTX2_440.txt\",\"pos_PF04877_full_Harpin_35.txt\",\"negative\",\"PF07367_full_FB_lectin_171.txt\",\"PF02382_full_RTX_14.txt\",\"pos_PF06109_full_HlyE_62.txt\",\"negative\",\"pos_PF05105_seed_Phage_holin_4_1_131.txt\",\"PF01289_full_Thiol_cytolysin_243.txt\",\"negative\",\"pos_PF12261_full_T_hemolysin_327.txt\",\"pos_PF11393_full_T4BSS_DotI_IcmL_214.txt\",\"pos_PF01117_full_Aerolysin_207.txt\",\"negative\",\"negative\",\"negative\",\"pos_PF05802_full_EspB_60.txt\",\"negative\",\"pos_PF06355_full_Aegerolysin_308.txt\",\"pos_PF06369_full_anemone_cytotox_363.txt\",\"pos_PF05105_seed_Phage_holin_4_1_131.txt\",\"pos_PF12261_full_T_hemolysin_327.txt\",\"PF01289_full_Thiol_cytolysin_243.txt\",\"negative\",\"negative\",\"pos_PF06369_full_anemone_cytotox_363.txt\",\"negative\",\"negative\",\"pos_PF01823_rp15_MACPF_659.txt\",\"pos_PF01823_rp15_MACPF_659.txt\",\"pos_PF01823_rp15_MACPF_659.txt\",\"pos_PF06369_full_anemone_cytotox_363.txt\",\"pos_PF01117_full_Aerolysin_207.txt\",\"pos_PF12261_full_T_hemolysin_327.txt\",\"pos_PF03318_full_ETX_MTX2_440.txt\",\"negative\",\"pos_PF03318_full_ETX_MTX2_440.txt\",\"negative\",\"PF04598_rp15_Gasdermin_62.txt\",\"negative\",\"pos_PF01117_full_Aerolysin_207.txt\",\"negative\",\"pos_PF12261_full_T_hemolysin_327.txt\",\"negative\",\"negative\",\"negative\",\"pos_PF01823_rp15_MACPF_659.txt\",\"negative\",\"negative\",\"pos_PF06355_full_Aegerolysin_308.txt\",\"pos_PF01823_rp15_MACPF_659.txt\",\"negative\",\"negative\",\"negative\",\"PF07367_full_FB_lectin_171.txt\",\"negative\",\"negative\",\"PF01289_full_Thiol_cytolysin_243.txt\",\"pos_PF06369_full_anemone_cytotox_363.txt\",\"PF00087_full_Toxin_TOLIP_333.txt\",\"pos_PF01823_rp15_MACPF_659.txt\",\"negative\",\"pos_PF01823_rp15_MACPF_659.txt\",\"negative\",\"PF07367_full_FB_lectin_171.txt\",\"negative\",\"negative\",\"negative\",\"negative\",\"negative\",\"negative\",\"negative\",\"pos_PF06355_full_Aegerolysin_308.txt\",\"negative\",\"negative\",\"negative\",\"negative\",\"negative\",\"pos_PF06369_full_anemone_cytotox_363.txt\",\"pos_PF06355_full_Aegerolysin_308.txt\",\"negative\",\"negative\",\"negative\",\"negative\",\"negative\",\"negative\",\"negative\",\"negative\",\"PF00087_full_Toxin_TOLIP_333.txt\",\"negative\",\"negative\",\"negative\",\"negative\",\"pos_PF01823_rp15_MACPF_659.txt\",\"negative\",\"negative\",\"negative\",\"negative\",\"negative\",\"negative\",\"negative\",\"negative\",\"pos_PF01823_rp15_MACPF_659.txt\",\"negative\",\"pos_PF12920_full_TcdA_TcdB_pore_46.txt\",\"pos_PF06355_full_Aegerolysin_308.txt\",\"pos_PF01823_rp15_MACPF_659.txt\",\"negative\",\"negative\",\"negative\",\"negative\",\"negative\",\"negative\",\"negative\",\"negative\",\"negative\",\"negative\",\"pos_PF12261_full_T_hemolysin_327.txt\",\"negative\",\"negative\",\"pos_PF06355_full_Aegerolysin_308.txt\",\"negative\",\"negative\",\"pos_PF03944_seed_Endotoxin_C_80.txt\",\"negative\",\"negative\",\"negative\",\"negative\",\"pos_PF01117_full_Aerolysin_207.txt\",\"pos_PF01823_rp15_MACPF_659.txt\",\"negative\",\"negative\",\"negative\",\"pos_PF12261_full_T_hemolysin_327.txt\",\"pos_PF07968_full_Leukocidin_89.txt\",\"negative\",\"pos_PF06355_full_Aegerolysin_308.txt\",\"negative\",\"pos_PF06369_full_anemone_cytotox_363.txt\",\"negative\",\"pos_PF06369_full_anemone_cytotox_363.txt\",\"pos_PF05105_seed_Phage_holin_4_1_131.txt\",\"pos_PF03318_full_ETX_MTX2_440.txt\",\"pos_PF03318_full_ETX_MTX2_440.txt\",\"PF01289_full_Thiol_cytolysin_243.txt\",\"pos_PF01823_rp15_MACPF_659.txt\",\"negative\",\"negative\",\"pos_PF01823_rp15_MACPF_659.txt\",\"negative\",\"negative\",\"pos_PF12261_full_T_hemolysin_327.txt\",\"negative\",\"negative\",\"negative\",\"pos_PF00555_seed_Endotoxin_M_36.txt\",\"pos_PF03318_full_ETX_MTX2_440.txt\",\"pos_PF11393_full_T4BSS_DotI_IcmL_214.txt\",\"negative\",\"negative\",\"pos_PF01823_rp15_MACPF_659.txt\",\"negative\",\"negative\",\"negative\",\"pos_PF00555_seed_Endotoxin_M_36.txt\",\"PF04598_rp15_Gasdermin_62.txt\",\"negative\",\"negative\",\"pos_PF01823_rp15_MACPF_659.txt\",\"pos_PF18063_full_BB_PF_52.txt\",\"pos_PF06369_full_anemone_cytotox_363.txt\",\"negative\",\"pos_PF01823_rp15_MACPF_659.txt\",\"negative\",\"pos_PF01823_rp15_MACPF_659.txt\",\"negative\",\"pos_PF03945_full_Endotoxin_N_180.txt\",\"PF07367_full_FB_lectin_171.txt\",\"pos_PF06355_full_Aegerolysin_308.txt\",\"negative\",\"pos_PF07968_full_Leukocidin_89.txt\",\"negative\",\"pos_PF06369_full_anemone_cytotox_363.txt\",\"negative\",\"pos_PF12261_full_T_hemolysin_327.txt\",\"negative\",\"pos_PF12261_full_T_hemolysin_327.txt\",\"negative\",\"negative\",\"pos_PF03318_full_ETX_MTX2_440.txt\",\"PF01289_full_Thiol_cytolysin_243.txt\",\"negative\",\"pos_PF03945_full_Endotoxin_N_180.txt\",\"negative\",\"pos_PF06369_full_anemone_cytotox_363.txt\",\"negative\",\"negative\",\"pos_PF11393_full_T4BSS_DotI_IcmL_214.txt\",\"pos_PF12261_full_T_hemolysin_327.txt\",\"negative\",\"negative\",\"PF01289_full_Thiol_cytolysin_243.txt\",\"negative\",\"PF07367_full_FB_lectin_171.txt\",\"pos_PF03944_seed_Endotoxin_C_80.txt\",\"PF07367_full_FB_lectin_171.txt\",\"negative\",\"negative\",\"pos_PF17475_full_Binary_toxB_2_16.txt\",\"negative\",\"negative\",\"negative\",\"PF01289_full_Thiol_cytolysin_243.txt\",\"negative\",\"pos_PF06369_full_anemone_cytotox_363.txt\",\"pos_PF01338_full_Bac_thur_toxin_87.txt\",\"negative\",\"negative\",\"pos_PF05105_seed_Phage_holin_4_1_131.txt\",\"pos_PF06369_full_anemone_cytotox_363.txt\",\"negative\",\"negative\",\"PF01289_full_Thiol_cytolysin_243.txt\",\"negative\",\"pos_PF12563_full_Hemolysin_N_12.txt\",\"pos_PF03318_full_ETX_MTX2_440.txt\",\"pos_PF01117_full_Aerolysin_207.txt\",\"negative\",\"negative\",\"negative\",\"pos_PF03945_full_Endotoxin_N_180.txt\",\"negative\",\"pos_PF07968_full_Leukocidin_89.txt\",\"negative\",\"pos_PF06355_full_Aegerolysin_308.txt\",\"PF01289_full_Thiol_cytolysin_243.txt\",\"negative\",\"pos_PF01823_rp15_MACPF_659.txt\",\"negative\",\"pos_PF03318_full_ETX_MTX2_440.txt\",\"negative\",\"pos_PF06369_full_anemone_cytotox_363.txt\",\"negative\",\"negative\",\"pos_PF06355_full_Aegerolysin_308.txt\",\"negative\",\"pos_PF03318_full_ETX_MTX2_440.txt\",\"negative\",\"negative\",\"negative\",\"pos_PF05105_seed_Phage_holin_4_1_131.txt\",\"negative\",\"pos_PF01823_rp15_MACPF_659.txt\",\"pos_PF01823_rp15_MACPF_659.txt\",\"pos_PF06355_full_Aegerolysin_308.txt\",\"pos_PF03318_full_ETX_MTX2_440.txt\",\"pos_PF05105_seed_Phage_holin_4_1_131.txt\",\"pos_PF03945_full_Endotoxin_N_180.txt\",\"PF01289_full_Thiol_cytolysin_243.txt\",\"pos_PF18063_full_BB_PF_52.txt\",\"pos_PF11393_full_T4BSS_DotI_IcmL_214.txt\",\"negative\",\"negative\",\"negative\",\"pos_PF12563_full_Hemolysin_N_12.txt\",\"negative\",\"pos_PF03318_full_ETX_MTX2_440.txt\",\"negative\",\"negative\",\"pos_PF05105_seed_Phage_holin_4_1_131.txt\",\"negative\",\"negative\",\"PF01289_full_Thiol_cytolysin_243.txt\",\"negative\",\"negative\",\"negative\",\"pos_PF06109_full_HlyE_62.txt\",\"PF01289_full_Thiol_cytolysin_243.txt\",\"pos_PF03945_full_Endotoxin_N_180.txt\",\"pos_PF01823_rp15_MACPF_659.txt\",\"negative\",\"pos_PF12261_full_T_hemolysin_327.txt\",\"PF01289_full_Thiol_cytolysin_243.txt\",\"negative\",\"pos_PF01823_rp15_MACPF_659.txt\",\"pos_PF06355_full_Aegerolysin_308.txt\",\"pos_PF03318_full_ETX_MTX2_440.txt\",\"PF07367_full_FB_lectin_171.txt\",\"negative\",\"negative\",\"pos_PF01117_full_Aerolysin_207.txt\",\"negative\",\"negative\",\"negative\",\"negative\",\"negative\",\"PF01289_full_Thiol_cytolysin_243.txt\",\"pos_PF06109_full_HlyE_62.txt\",\"negative\",\"pos_PF05105_seed_Phage_holin_4_1_131.txt\",\"pos_PF01823_rp15_MACPF_659.txt\",\"negative\",\"negative\",\"pos_PF01338_full_Bac_thur_toxin_87.txt\",\"negative\",\"negative\",\"PF01289_full_Thiol_cytolysin_243.txt\",\"pos_PF06369_full_anemone_cytotox_363.txt\",\"negative\",\"negative\",\"pos_PF01823_rp15_MACPF_659.txt\",\"pos_PF05105_seed_Phage_holin_4_1_131.txt\",\"negative\",\"negative\",\"negative\",\"negative\",\"negative\",\"negative\",\"pos_PF06355_full_Aegerolysin_308.txt\",\"pos_PF11393_full_T4BSS_DotI_IcmL_214.txt\",\"pos_PF01823_rp15_MACPF_659.txt\",\"negative\",\"negative\",\"pos_PF06369_full_anemone_cytotox_363.txt\",\"negative\",\"negative\",\"pos_PF06369_full_anemone_cytotox_363.txt\",\"negative\",\"negative\",\"negative\",\"pos_PF01823_rp15_MACPF_659.txt\",\"pos_PF01823_rp15_MACPF_659.txt\",\"negative\",\"pos_PF01117_full_Aerolysin_207.txt\",\"negative\",\"negative\",\"pos_PF01117_full_Aerolysin_207.txt\",\"pos_PF03945_full_Endotoxin_N_180.txt\",\"negative\",\"pos_PF05802_full_EspB_60.txt\",\"pos_PF03318_full_ETX_MTX2_440.txt\",\"negative\",\"pos_PF12261_full_T_hemolysin_327.txt\",\"PF01289_full_Thiol_cytolysin_243.txt\",\"negative\",\"negative\",\"negative\",\"negative\",\"negative\",\"pos_PF03318_full_ETX_MTX2_440.txt\",\"negative\",\"pos_PF03945_full_Endotoxin_N_180.txt\",\"negative\",\"negative\",\"negative\",\"negative\",\"negative\",\"negative\",\"negative\",\"pos_PF06369_full_anemone_cytotox_363.txt\",\"negative\",\"pos_PF06355_full_Aegerolysin_308.txt\",\"pos_PF05105_seed_Phage_holin_4_1_131.txt\",\"PF07367_full_FB_lectin_171.txt\",\"negative\",\"negative\",\"negative\",\"negative\",\"pos_PF11393_full_T4BSS_DotI_IcmL_214.txt\",\"negative\",\"negative\",\"negative\",\"negative\",\"negative\",\"pos_PF01823_rp15_MACPF_659.txt\",\"pos_PF01117_full_Aerolysin_207.txt\",\"pos_PF12261_full_T_hemolysin_327.txt\",\"negative\",\"negative\",\"pos_PF06369_full_anemone_cytotox_363.txt\",\"pos_PF03944_seed_Endotoxin_C_80.txt\",\"pos_PF06355_full_Aegerolysin_308.txt\",\"negative\",\"pos_PF03944_seed_Endotoxin_C_80.txt\",\"negative\",\"negative\",\"pos_PF12920_full_TcdA_TcdB_pore_46.txt\",\"negative\",\"negative\",\"negative\",\"pos_PF01823_rp15_MACPF_659.txt\",\"negative\",\"PF01289_full_Thiol_cytolysin_243.txt\",\"negative\",\"pos_PF17475_full_Binary_toxB_2_16.txt\",\"negative\",\"negative\",\"negative\",\"pos_PF03945_full_Endotoxin_N_180.txt\",\"pos_PF11393_full_T4BSS_DotI_IcmL_214.txt\",\"pos_PF03318_full_ETX_MTX2_440.txt\",\"pos_PF03318_full_ETX_MTX2_440.txt\",\"negative\",\"pos_PF05105_seed_Phage_holin_4_1_131.txt\",\"pos_PF06355_full_Aegerolysin_308.txt\",\"negative\",\"pos_PF06369_full_anemone_cytotox_363.txt\",\"negative\",\"negative\",\"negative\",\"negative\",\"negative\",\"negative\",\"negative\",\"pos_PF03318_full_ETX_MTX2_440.txt\",\"negative\",\"negative\",\"negative\",\"negative\",\"pos_PF06369_full_anemone_cytotox_363.txt\",\"pos_PF03318_full_ETX_MTX2_440.txt\",\"pos_PF06355_full_Aegerolysin_308.txt\",\"negative\",\"pos_PF06369_full_anemone_cytotox_363.txt\",\"negative\",\"negative\",\"negative\",\"negative\",\"negative\",\"negative\",\"pos_PF01823_rp15_MACPF_659.txt\",\"negative\",\"pos_PF06369_full_anemone_cytotox_363.txt\",\"pos_PF12261_full_T_hemolysin_327.txt\",\"pos_PF01823_rp15_MACPF_659.txt\",\"PF01289_full_Thiol_cytolysin_243.txt\",\"pos_PF06355_full_Aegerolysin_308.txt\",\"negative\",\"negative\",\"pos_PF00555_seed_Endotoxin_M_36.txt\",\"pos_PF01823_rp15_MACPF_659.txt\",\"negative\",\"PF01289_full_Thiol_cytolysin_243.txt\",\"negative\",\"negative\",\"negative\",\"pos_PF12261_full_T_hemolysin_327.txt\",\"negative\",\"negative\",\"pos_PF03318_full_ETX_MTX2_440.txt\",\"negative\",\"pos_PF01823_rp15_MACPF_659.txt\",\"pos_PF11393_full_T4BSS_DotI_IcmL_214.txt\",\"negative\",\"negative\",\"negative\",\"negative\",\"negative\",\"negative\",\"pos_PF12261_full_T_hemolysin_327.txt\",\"pos_PF06355_full_Aegerolysin_308.txt\",\"PF07367_full_FB_lectin_171.txt\",\"negative\",\"pos_PF03318_full_ETX_MTX2_440.txt\",\"negative\",\"negative\",\"pos_PF18063_full_BB_PF_52.txt\",\"negative\",\"negative\",\"negative\",\"negative\",\"negative\",\"negative\",\"PF01289_full_Thiol_cytolysin_243.txt\",\"pos_PF06369_full_anemone_cytotox_363.txt\",\"negative\",\"PF07367_full_FB_lectin_171.txt\",\"pos_PF03318_full_ETX_MTX2_440.txt\",\"pos_PF03945_full_Endotoxin_N_180.txt\",\"pos_PF06355_full_Aegerolysin_308.txt\",\"PF04598_rp15_Gasdermin_62.txt\",\"negative\",\"pos_PF03318_full_ETX_MTX2_440.txt\",\"PF07367_full_FB_lectin_171.txt\",\"pos_PF03318_full_ETX_MTX2_440.txt\",\"negative\",\"negative\",\"negative\",\"PF04598_rp15_Gasdermin_62.txt\",\"negative\",\"negative\",\"negative\",\"negative\",\"pos_PF03505_full_Clenterotox_9.txt\",\"negative\",\"negative\",\"negative\",\"pos_PF05105_seed_Phage_holin_4_1_131.txt\",\"negative\",\"negative\",\"negative\",\"negative\",\"pos_PF03318_full_ETX_MTX2_440.txt\",\"pos_PF17475_full_Binary_toxB_2_16.txt\",\"pos_PF11393_full_T4BSS_DotI_IcmL_214.txt\",\"negative\",\"pos_PF01823_rp15_MACPF_659.txt\",\"negative\",\"negative\",\"negative\",\"pos_PF03318_full_ETX_MTX2_440.txt\",\"PF02382_full_RTX_14.txt\",\"pos_PF01823_rp15_MACPF_659.txt\",\"negative\",\"pos_PF06369_full_anemone_cytotox_363.txt\",\"negative\",\"negative\",\"pos_PF06369_full_anemone_cytotox_363.txt\",\"pos_PF01823_rp15_MACPF_659.txt\",\"pos_PF01823_rp15_MACPF_659.txt\",\"negative\",\"negative\",\"pos_PF00555_seed_Endotoxin_M_36.txt\",\"negative\",\"pos_PF03318_full_ETX_MTX2_440.txt\",\"pos_PF01823_rp15_MACPF_659.txt\",\"negative\",\"negative\",\"pos_PF06109_full_HlyE_62.txt\",\"negative\",\"negative\",\"pos_PF06109_full_HlyE_62.txt\",\"negative\",\"pos_PF06369_full_anemone_cytotox_363.txt\",\"pos_PF06109_full_HlyE_62.txt\",\"negative\",\"pos_PF00555_seed_Endotoxin_M_36.txt\",\"pos_PF12261_full_T_hemolysin_327.txt\",\"negative\",\"pos_PF06109_full_HlyE_62.txt\",\"negative\",\"negative\",\"pos_PF01117_full_Aerolysin_207.txt\",\"pos_PF01823_rp15_MACPF_659.txt\",\"PF00087_full_Toxin_TOLIP_333.txt\",\"pos_PF01823_rp15_MACPF_659.txt\",\"negative\",\"negative\",\"negative\",\"negative\",\"negative\",\"negative\",\"pos_PF12261_full_T_hemolysin_327.txt\",\"pos_PF05105_seed_Phage_holin_4_1_131.txt\",\"pos_PF01117_full_Aerolysin_207.txt\",\"negative\",\"pos_PF01823_rp15_MACPF_659.txt\",\"negative\",\"negative\",\"pos_PF11393_full_T4BSS_DotI_IcmL_214.txt\",\"negative\",\"negative\",\"negative\",\"pos_PF01117_full_Aerolysin_207.txt\",\"pos_PF06369_full_anemone_cytotox_363.txt\",\"pos_PF12261_full_T_hemolysin_327.txt\",\"negative\",\"pos_PF03944_seed_Endotoxin_C_80.txt\",\"pos_PF01823_rp15_MACPF_659.txt\",\"negative\",\"negative\",\"negative\",\"negative\",\"negative\",\"pos_PF12261_full_T_hemolysin_327.txt\",\"negative\",\"negative\",\"pos_PF06369_full_anemone_cytotox_363.txt\",\"pos_PF11393_full_T4BSS_DotI_IcmL_214.txt\",\"pos_PF03944_seed_Endotoxin_C_80.txt\",\"negative\",\"pos_PF06369_full_anemone_cytotox_363.txt\",\"pos_PF01338_full_Bac_thur_toxin_87.txt\",\"pos_PF12261_full_T_hemolysin_327.txt\",\"negative\",\"negative\",\"negative\",\"pos_PF01823_rp15_MACPF_659.txt\",\"negative\",\"negative\",\"pos_PF18063_full_BB_PF_52.txt\",\"negative\",\"pos_PF01823_rp15_MACPF_659.txt\",\"negative\",\"negative\",\"pos_PF01338_full_Bac_thur_toxin_87.txt\",\"pos_PF01823_rp15_MACPF_659.txt\",\"PF07367_full_FB_lectin_171.txt\",\"negative\",\"negative\",\"pos_PF01823_rp15_MACPF_659.txt\",\"negative\",\"negative\",\"pos_PF01823_rp15_MACPF_659.txt\",\"negative\",\"PF00087_full_Toxin_TOLIP_333.txt\",\"negative\",\"pos_PF01823_rp15_MACPF_659.txt\",\"negative\",\"pos_PF11393_full_T4BSS_DotI_IcmL_214.txt\",\"negative\",\"PF04598_rp15_Gasdermin_62.txt\",\"negative\",\"negative\",\"negative\",\"negative\",\"negative\",\"negative\",\"pos_PF03318_full_ETX_MTX2_440.txt\",\"negative\",\"negative\",\"negative\",\"negative\",\"negative\",\"negative\",\"pos_PF01117_full_Aerolysin_207.txt\",\"negative\",\"negative\",\"pos_PF12261_full_T_hemolysin_327.txt\",\"negative\",\"negative\",\"pos_PF04877_full_Harpin_35.txt\",\"pos_PF03318_full_ETX_MTX2_440.txt\",\"pos_PF01823_rp15_MACPF_659.txt\",\"pos_PF01823_rp15_MACPF_659.txt\",\"pos_PF05105_seed_Phage_holin_4_1_131.txt\",\"negative\",\"pos_PF12261_full_T_hemolysin_327.txt\",\"pos_PF07968_full_Leukocidin_89.txt\",\"negative\",\"PF00087_full_Toxin_TOLIP_333.txt\",\"negative\",\"negative\",\"pos_PF01823_rp15_MACPF_659.txt\",\"negative\",\"pos_PF03944_seed_Endotoxin_C_80.txt\",\"negative\",\"negative\",\"negative\",\"pos_PF03318_full_ETX_MTX2_440.txt\",\"negative\",\"negative\",\"pos_PF01338_full_Bac_thur_toxin_87.txt\",\"negative\",\"PF00087_full_Toxin_TOLIP_333.txt\",\"pos_PF03945_full_Endotoxin_N_180.txt\",\"pos_PF12563_full_Hemolysin_N_12.txt\",\"pos_PF01823_rp15_MACPF_659.txt\",\"negative\",\"negative\",\"negative\",\"negative\",\"negative\",\"PF00087_full_Toxin_TOLIP_333.txt\",\"pos_PF11393_full_T4BSS_DotI_IcmL_214.txt\",\"negative\",\"negative\",\"negative\",\"pos_PF12261_full_T_hemolysin_327.txt\",\"negative\",\"pos_PF12920_full_TcdA_TcdB_pore_46.txt\",\"negative\",\"pos_PF03318_full_ETX_MTX2_440.txt\",\"pos_PF01823_rp15_MACPF_659.txt\",\"pos_PF12261_full_T_hemolysin_327.txt\",\"PF07367_full_FB_lectin_171.txt\",\"negative\",\"negative\",\"pos_PF01117_full_Aerolysin_207.txt\",\"pos_PF06109_full_HlyE_62.txt\",\"pos_PF01823_rp15_MACPF_659.txt\",\"negative\",\"PF00087_full_Toxin_TOLIP_333.txt\",\"negative\",\"PF07367_full_FB_lectin_171.txt\",\"pos_PF03945_full_Endotoxin_N_180.txt\",\"negative\",\"pos_PF01823_rp15_MACPF_659.txt\",\"pos_PF03945_full_Endotoxin_N_180.txt\",\"negative\",\"negative\",\"negative\",\"pos_PF05105_seed_Phage_holin_4_1_131.txt\",\"negative\",\"negative\",\"pos_PF03505_full_Clenterotox_9.txt\",\"pos_PF03318_full_ETX_MTX2_440.txt\",\"negative\",\"negative\",\"negative\",\"pos_PF06355_full_Aegerolysin_308.txt\",\"PF07367_full_FB_lectin_171.txt\",\"negative\",\"negative\",\"pos_PF03945_full_Endotoxin_N_180.txt\",\"pos_PF11393_full_T4BSS_DotI_IcmL_214.txt\",\"pos_PF01823_rp15_MACPF_659.txt\",\"negative\",\"negative\",\"PF07367_full_FB_lectin_171.txt\",\"negative\",\"pos_PF06355_full_Aegerolysin_308.txt\",\"negative\",\"negative\",\"negative\",\"negative\",\"negative\",\"negative\",\"negative\",\"pos_PF12563_full_Hemolysin_N_12.txt\",\"pos_PF06355_full_Aegerolysin_308.txt\",\"negative\",\"pos_PF01823_rp15_MACPF_659.txt\",\"PF11565_full_porB_30.txt\",\"negative\",\"negative\",\"negative\",\"pos_PF01823_rp15_MACPF_659.txt\",\"negative\",\"negative\",\"PF00087_full_Toxin_TOLIP_333.txt\",\"negative\",\"PF11565_full_porB_30.txt\",\"negative\",\"negative\",\"negative\",\"pos_PF01823_rp15_MACPF_659.txt\",\"pos_PF03945_full_Endotoxin_N_180.txt\",\"pos_PF03318_full_ETX_MTX2_440.txt\",\"pos_PF12261_full_T_hemolysin_327.txt\",\"PF07367_full_FB_lectin_171.txt\",\"negative\",\"negative\",\"pos_PF12261_full_T_hemolysin_327.txt\",\"pos_PF06355_full_Aegerolysin_308.txt\",\"pos_PF18684_full_PlyB_C_8.txt\",\"negative\",\"PF01289_full_Thiol_cytolysin_243.txt\",\"pos_PF03945_full_Endotoxin_N_180.txt\",\"negative\",\"pos_PF05105_seed_Phage_holin_4_1_131.txt\",\"PF07367_full_FB_lectin_171.txt\",\"negative\",\"negative\",\"PF11565_full_porB_30.txt\",\"negative\",\"pos_PF07968_full_Leukocidin_89.txt\",\"pos_PF03945_full_Endotoxin_N_180.txt\",\"negative\",\"negative\",\"negative\",\"negative\",\"negative\",\"pos_PF06355_full_Aegerolysin_308.txt\",\"negative\",\"pos_PF06109_full_HlyE_62.txt\",\"negative\",\"negative\",\"pos_PF12261_full_T_hemolysin_327.txt\",\"pos_PF01024_full_Colicin_26.txt\",\"PF00087_full_Toxin_TOLIP_333.txt\",\"PF01289_full_Thiol_cytolysin_243.txt\",\"negative\",\"pos_PF03318_full_ETX_MTX2_440.txt\",\"negative\",\"negative\",\"negative\",\"pos_PF03318_full_ETX_MTX2_440.txt\",\"negative\",\"negative\",\"pos_PF06355_full_Aegerolysin_308.txt\",\"pos_PF03318_full_ETX_MTX2_440.txt\",\"pos_PF03945_full_Endotoxin_N_180.txt\",\"pos_PF01823_rp15_MACPF_659.txt\",\"negative\",\"negative\",\"negative\",\"negative\",\"negative\",\"pos_PF17475_full_Binary_toxB_2_16.txt\",\"PF01289_full_Thiol_cytolysin_243.txt\",\"negative\",\"negative\",\"pos_PF11393_full_T4BSS_DotI_IcmL_214.txt\",\"pos_PF01823_rp15_MACPF_659.txt\",\"pos_PF03945_full_Endotoxin_N_180.txt\",\"negative\",\"pos_PF01823_rp15_MACPF_659.txt\",\"negative\",\"pos_PF03318_full_ETX_MTX2_440.txt\",\"pos_PF06355_full_Aegerolysin_308.txt\",\"pos_PF03318_full_ETX_MTX2_440.txt\",\"PF00087_full_Toxin_TOLIP_333.txt\",\"negative\",\"negative\",\"pos_PF05105_seed_Phage_holin_4_1_131.txt\",\"negative\",\"negative\",\"PF01289_full_Thiol_cytolysin_243.txt\",\"negative\",\"negative\",\"pos_PF06369_full_anemone_cytotox_363.txt\",\"pos_PF06355_full_Aegerolysin_308.txt\",\"negative\",\"pos_PF01823_rp15_MACPF_659.txt\",\"pos_PF01823_rp15_MACPF_659.txt\",\"pos_PF06355_full_Aegerolysin_308.txt\",\"negative\",\"pos_PF11393_full_T4BSS_DotI_IcmL_214.txt\",\"negative\",\"pos_PF01823_rp15_MACPF_659.txt\",\"negative\",\"negative\",\"negative\",\"negative\",\"negative\",\"pos_PF01823_rp15_MACPF_659.txt\",\"pos_PF12261_full_T_hemolysin_327.txt\",\"negative\",\"pos_PF06355_full_Aegerolysin_308.txt\",\"negative\",\"pos_PF01823_rp15_MACPF_659.txt\",\"PF00087_full_Toxin_TOLIP_333.txt\",\"negative\",\"negative\",\"pos_PF06369_full_anemone_cytotox_363.txt\",\"PF07367_full_FB_lectin_171.txt\",\"negative\",\"pos_PF06355_full_Aegerolysin_308.txt\",\"negative\",\"pos_PF03318_full_ETX_MTX2_440.txt\",\"negative\",\"negative\",\"pos_PF06355_full_Aegerolysin_308.txt\",\"negative\",\"pos_PF12261_full_T_hemolysin_327.txt\",\"pos_PF12261_full_T_hemolysin_327.txt\",\"negative\",\"negative\",\"negative\",\"negative\",\"negative\",\"pos_PF03944_seed_Endotoxin_C_80.txt\",\"negative\",\"PF02382_full_RTX_14.txt\",\"pos_PF00555_seed_Endotoxin_M_36.txt\",\"pos_PF03945_full_Endotoxin_N_180.txt\",\"pos_PF01117_full_Aerolysin_207.txt\",\"pos_PF06109_full_HlyE_62.txt\",\"pos_PF06355_full_Aegerolysin_308.txt\",\"pos_PF06355_full_Aegerolysin_308.txt\",\"pos_PF01823_rp15_MACPF_659.txt\",\"negative\",\"negative\",\"pos_PF06355_full_Aegerolysin_308.txt\",\"pos_PF06355_full_Aegerolysin_308.txt\",\"PF01289_full_Thiol_cytolysin_243.txt\",\"pos_PF00555_seed_Endotoxin_M_36.txt\",\"negative\",\"negative\",\"negative\",\"negative\",\"PF00087_full_Toxin_TOLIP_333.txt\",\"pos_PF05802_full_EspB_60.txt\",\"PF01289_full_Thiol_cytolysin_243.txt\",\"PF04598_rp15_Gasdermin_62.txt\",\"negative\",\"pos_PF06109_full_HlyE_62.txt\",\"pos_PF03945_full_Endotoxin_N_180.txt\",\"negative\",\"negative\",\"negative\",\"negative\",\"pos_PF03944_seed_Endotoxin_C_80.txt\",\"negative\",\"negative\",\"negative\",\"negative\",\"negative\",\"negative\",\"negative\",\"negative\",\"pos_PF01823_rp15_MACPF_659.txt\",\"PF00087_full_Toxin_TOLIP_333.txt\",\"negative\",\"pos_PF01024_full_Colicin_26.txt\",\"negative\",\"negative\",\"pos_PF01823_rp15_MACPF_659.txt\",\"pos_PF01823_rp15_MACPF_659.txt\",\"negative\",\"pos_PF03944_seed_Endotoxin_C_80.txt\",\"pos_PF03318_full_ETX_MTX2_440.txt\",\"negative\",\"pos_PF01338_full_Bac_thur_toxin_87.txt\",\"pos_PF01823_rp15_MACPF_659.txt\",\"pos_PF05105_seed_Phage_holin_4_1_131.txt\",\"negative\",\"negative\",\"pos_PF06369_full_anemone_cytotox_363.txt\",\"negative\",\"pos_PF06355_full_Aegerolysin_308.txt\",\"pos_PF03945_full_Endotoxin_N_180.txt\",\"negative\",\"negative\",\"pos_PF12261_full_T_hemolysin_327.txt\",\"pos_PF11393_full_T4BSS_DotI_IcmL_214.txt\",\"negative\",\"negative\",\"negative\",\"negative\",\"negative\",\"PF01289_full_Thiol_cytolysin_243.txt\",\"negative\",\"negative\",\"pos_PF05802_full_EspB_60.txt\",\"pos_PF06369_full_anemone_cytotox_363.txt\",\"pos_PF12261_full_T_hemolysin_327.txt\",\"negative\",\"pos_PF06369_full_anemone_cytotox_363.txt\",\"PF00087_full_Toxin_TOLIP_333.txt\",\"pos_PF01823_rp15_MACPF_659.txt\",\"pos_PF05105_seed_Phage_holin_4_1_131.txt\",\"negative\",\"pos_PF01823_rp15_MACPF_659.txt\",\"negative\",\"negative\",\"negative\",\"negative\",\"negative\",\"negative\",\"pos_PF03318_full_ETX_MTX2_440.txt\",\"negative\",\"pos_PF05802_full_EspB_60.txt\",\"pos_PF18063_full_BB_PF_52.txt\",\"negative\",\"negative\",\"PF01289_full_Thiol_cytolysin_243.txt\",\"pos_PF12261_full_T_hemolysin_327.txt\",\"negative\",\"negative\",\"pos_PF12261_full_T_hemolysin_327.txt\",\"negative\",\"negative\",\"pos_PF18063_full_BB_PF_52.txt\",\"negative\",\"pos_PF01338_full_Bac_thur_toxin_87.txt\",\"negative\",\"pos_PF01823_rp15_MACPF_659.txt\",\"pos_PF03318_full_ETX_MTX2_440.txt\",\"pos_PF12261_full_T_hemolysin_327.txt\",\"pos_PF12261_full_T_hemolysin_327.txt\",\"negative\",\"negative\",\"pos_PF12261_full_T_hemolysin_327.txt\",\"negative\",\"pos_PF06369_full_anemone_cytotox_363.txt\",\"negative\",\"negative\",\"pos_PF12261_full_T_hemolysin_327.txt\",\"negative\",\"negative\",\"PF01289_full_Thiol_cytolysin_243.txt\",\"pos_PF03945_full_Endotoxin_N_180.txt\",\"pos_PF03318_full_ETX_MTX2_440.txt\",\"negative\",\"pos_PF03318_full_ETX_MTX2_440.txt\",\"negative\",\"pos_PF05802_full_EspB_60.txt\",\"negative\",\"negative\",\"pos_PF03318_full_ETX_MTX2_440.txt\",\"pos_PF06355_full_Aegerolysin_308.txt\",\"negative\",\"pos_PF12920_full_TcdA_TcdB_pore_46.txt\",\"negative\",\"negative\",\"negative\",\"negative\",\"negative\",\"negative\",\"pos_PF01823_rp15_MACPF_659.txt\",\"negative\",\"negative\",\"negative\",\"negative\",\"negative\",\"negative\",\"negative\",\"negative\",\"pos_PF03318_full_ETX_MTX2_440.txt\",\"negative\",\"negative\",\"negative\",\"negative\",\"pos_PF12920_full_TcdA_TcdB_pore_46.txt\",\"negative\",\"negative\",\"negative\",\"negative\",\"negative\",\"negative\",\"negative\",\"pos_PF06369_full_anemone_cytotox_363.txt\",\"negative\",\"pos_PF01823_rp15_MACPF_659.txt\",\"negative\",\"negative\",\"negative\",\"pos_PF03318_full_ETX_MTX2_440.txt\",\"negative\",\"negative\",\"pos_PF03944_seed_Endotoxin_C_80.txt\",\"negative\",\"negative\",\"negative\",\"negative\",\"negative\",\"pos_PF01823_rp15_MACPF_659.txt\",\"pos_PF03318_full_ETX_MTX2_440.txt\",\"negative\",\"negative\",\"negative\",\"pos_PF01823_rp15_MACPF_659.txt\",\"pos_PF05105_seed_Phage_holin_4_1_131.txt\",\"negative\",\"negative\",\"negative\",\"negative\",\"negative\",\"negative\",\"negative\",\"negative\",\"negative\",\"pos_PF06369_full_anemone_cytotox_363.txt\",\"negative\",\"negative\",\"negative\",\"pos_PF01823_rp15_MACPF_659.txt\",\"negative\",\"PF01289_full_Thiol_cytolysin_243.txt\",\"pos_PF11393_full_T4BSS_DotI_IcmL_214.txt\",\"negative\",\"negative\",\"pos_PF01823_rp15_MACPF_659.txt\",\"pos_PF12261_full_T_hemolysin_327.txt\",\"pos_PF17475_full_Binary_toxB_2_16.txt\",\"PF01289_full_Thiol_cytolysin_243.txt\",\"negative\",\"negative\",\"pos_PF06109_full_HlyE_62.txt\",\"pos_PF00555_seed_Endotoxin_M_36.txt\",\"negative\",\"negative\",\"pos_PF03318_full_ETX_MTX2_440.txt\",\"pos_PF03945_full_Endotoxin_N_180.txt\",\"negative\",\"negative\",\"negative\",\"negative\",\"pos_PF03944_seed_Endotoxin_C_80.txt\",\"negative\",\"negative\",\"negative\",\"negative\",\"negative\",\"pos_PF03945_full_Endotoxin_N_180.txt\",\"PF01289_full_Thiol_cytolysin_243.txt\",\"negative\",\"negative\",\"negative\",\"negative\",\"negative\",\"pos_PF11393_full_T4BSS_DotI_IcmL_214.txt\",\"negative\",\"negative\",\"negative\",\"negative\",\"pos_PF06355_full_Aegerolysin_308.txt\",\"negative\",\"negative\",\"negative\",\"pos_PF01117_full_Aerolysin_207.txt\",\"pos_PF01117_full_Aerolysin_207.txt\",\"negative\",\"pos_PF18684_full_PlyB_C_8.txt\",\"pos_PF01117_full_Aerolysin_207.txt\",\"negative\",\"pos_PF01823_rp15_MACPF_659.txt\",\"negative\",\"negative\",\"negative\",\"negative\",\"negative\",\"negative\",\"negative\",\"pos_PF11393_full_T4BSS_DotI_IcmL_214.txt\",\"negative\",\"negative\",\"negative\",\"negative\",\"pos_PF12261_full_T_hemolysin_327.txt\",\"pos_PF01823_rp15_MACPF_659.txt\",\"negative\",\"pos_PF03944_seed_Endotoxin_C_80.txt\",\"negative\",\"pos_PF03944_seed_Endotoxin_C_80.txt\",\"negative\",\"negative\",\"negative\",\"negative\",\"negative\",\"negative\",\"pos_PF03945_full_Endotoxin_N_180.txt\",\"negative\",\"negative\",\"negative\",\"pos_PF06369_full_anemone_cytotox_363.txt\",\"negative\",\"negative\",\"pos_PF01823_rp15_MACPF_659.txt\",\"negative\",\"PF01289_full_Thiol_cytolysin_243.txt\",\"pos_PF06355_full_Aegerolysin_308.txt\",\"negative\",\"pos_PF01117_full_Aerolysin_207.txt\",\"pos_PF01823_rp15_MACPF_659.txt\",\"pos_PF03944_seed_Endotoxin_C_80.txt\",\"pos_PF04877_full_Harpin_35.txt\",\"negative\",\"pos_PF11393_full_T4BSS_DotI_IcmL_214.txt\",\"negative\",\"negative\",\"negative\",\"negative\",\"negative\",\"pos_PF06369_full_anemone_cytotox_363.txt\",\"negative\",\"PF07367_full_FB_lectin_171.txt\",\"negative\",\"negative\",\"negative\",\"negative\",\"pos_PF05105_seed_Phage_holin_4_1_131.txt\",\"pos_PF05105_seed_Phage_holin_4_1_131.txt\",\"negative\",\"negative\",\"pos_PF06369_full_anemone_cytotox_363.txt\",\"pos_PF18063_full_BB_PF_52.txt\",\"pos_PF01823_rp15_MACPF_659.txt\",\"negative\",\"negative\",\"negative\",\"pos_PF07968_full_Leukocidin_89.txt\",\"pos_PF01823_rp15_MACPF_659.txt\",\"pos_PF01117_full_Aerolysin_207.txt\",\"negative\",\"negative\",\"negative\",\"pos_PF12261_full_T_hemolysin_327.txt\",\"negative\",\"pos_PF01823_rp15_MACPF_659.txt\",\"pos_PF01117_full_Aerolysin_207.txt\",\"PF04598_rp15_Gasdermin_62.txt\",\"negative\",\"pos_PF00555_seed_Endotoxin_M_36.txt\",\"PF01289_full_Thiol_cytolysin_243.txt\",\"pos_PF01823_rp15_MACPF_659.txt\",\"pos_PF01823_rp15_MACPF_659.txt\",\"negative\",\"negative\",\"pos_PF01823_rp15_MACPF_659.txt\",\"pos_PF11393_full_T4BSS_DotI_IcmL_214.txt\",\"negative\",\"negative\",\"pos_PF03318_full_ETX_MTX2_440.txt\",\"negative\",\"negative\",\"negative\",\"pos_PF12261_full_T_hemolysin_327.txt\",\"negative\",\"pos_PF06355_full_Aegerolysin_308.txt\",\"pos_PF01823_rp15_MACPF_659.txt\",\"negative\",\"pos_PF01823_rp15_MACPF_659.txt\",\"negative\",\"negative\",\"negative\",\"negative\",\"PF07367_full_FB_lectin_171.txt\",\"negative\",\"negative\",\"PF01289_full_Thiol_cytolysin_243.txt\",\"negative\",\"pos_PF03318_full_ETX_MTX2_440.txt\",\"negative\",\"negative\",\"pos_PF03318_full_ETX_MTX2_440.txt\",\"negative\",\"negative\",\"negative\",\"negative\",\"negative\",\"negative\",\"negative\",\"pos_PF01823_rp15_MACPF_659.txt\",\"negative\",\"negative\",\"negative\",\"negative\",\"negative\",\"negative\",\"pos_PF03945_full_Endotoxin_N_180.txt\",\"negative\",\"negative\",\"negative\",\"negative\",\"PF04598_rp15_Gasdermin_62.txt\",\"PF07367_full_FB_lectin_171.txt\",\"pos_PF01338_full_Bac_thur_toxin_87.txt\",\"negative\",\"negative\",\"negative\",\"pos_PF17475_full_Binary_toxB_2_16.txt\",\"negative\",\"negative\",\"negative\",\"pos_PF06369_full_anemone_cytotox_363.txt\",\"pos_PF12261_full_T_hemolysin_327.txt\",\"negative\",\"negative\",\"negative\",\"negative\",\"pos_PF01338_full_Bac_thur_toxin_87.txt\",\"pos_PF01338_full_Bac_thur_toxin_87.txt\",\"negative\",\"pos_PF01338_full_Bac_thur_toxin_87.txt\",\"pos_PF06355_full_Aegerolysin_308.txt\",\"negative\",\"pos_PF06109_full_HlyE_62.txt\",\"negative\",\"negative\",\"pos_PF18063_full_BB_PF_52.txt\",\"pos_PF12261_full_T_hemolysin_327.txt\",\"pos_PF11393_full_T4BSS_DotI_IcmL_214.txt\",\"pos_PF01823_rp15_MACPF_659.txt\",\"negative\",\"negative\",\"negative\",\"negative\",\"pos_PF06355_full_Aegerolysin_308.txt\",\"negative\",\"negative\",\"negative\",\"negative\",\"negative\",\"negative\",\"negative\",\"negative\",\"negative\",\"pos_PF06109_full_HlyE_62.txt\",\"negative\",\"pos_PF07968_full_Leukocidin_89.txt\",\"negative\",\"PF01289_full_Thiol_cytolysin_243.txt\",\"negative\",\"pos_PF03944_seed_Endotoxin_C_80.txt\",\"negative\",\"negative\",\"negative\",\"PF01289_full_Thiol_cytolysin_243.txt\",\"negative\",\"pos_PF06355_full_Aegerolysin_308.txt\",\"pos_PF03945_full_Endotoxin_N_180.txt\",\"negative\",\"pos_PF03945_full_Endotoxin_N_180.txt\",\"pos_PF03318_full_ETX_MTX2_440.txt\",\"pos_PF03318_full_ETX_MTX2_440.txt\",\"negative\",\"pos_PF01823_rp15_MACPF_659.txt\",\"negative\",\"negative\",\"negative\",\"pos_PF12261_full_T_hemolysin_327.txt\",\"negative\",\"pos_PF03318_full_ETX_MTX2_440.txt\",\"negative\",\"negative\",\"negative\",\"negative\",\"PF01289_full_Thiol_cytolysin_243.txt\",\"negative\",\"pos_PF01823_rp15_MACPF_659.txt\",\"pos_PF11393_full_T4BSS_DotI_IcmL_214.txt\",\"negative\",\"pos_PF18063_full_BB_PF_52.txt\",\"pos_PF12920_full_TcdA_TcdB_pore_46.txt\",\"negative\",\"negative\",\"pos_PF12261_full_T_hemolysin_327.txt\",\"pos_PF12261_full_T_hemolysin_327.txt\",\"negative\",\"negative\",\"pos_PF03318_full_ETX_MTX2_440.txt\",\"pos_PF01823_rp15_MACPF_659.txt\",\"PF04598_rp15_Gasdermin_62.txt\",\"pos_PF18063_full_BB_PF_52.txt\",\"negative\",\"PF00087_full_Toxin_TOLIP_333.txt\",\"pos_PF11393_full_T4BSS_DotI_IcmL_214.txt\",\"PF01289_full_Thiol_cytolysin_243.txt\",\"pos_PF03318_full_ETX_MTX2_440.txt\",\"PF01289_full_Thiol_cytolysin_243.txt\",\"negative\",\"pos_PF11393_full_T4BSS_DotI_IcmL_214.txt\",\"PF01289_full_Thiol_cytolysin_243.txt\",\"negative\",\"PF04598_rp15_Gasdermin_62.txt\",\"pos_PF03318_full_ETX_MTX2_440.txt\",\"pos_PF12261_full_T_hemolysin_327.txt\",\"negative\",\"negative\",\"PF00087_full_Toxin_TOLIP_333.txt\",\"negative\",\"pos_PF01338_full_Bac_thur_toxin_87.txt\",\"pos_PF01823_rp15_MACPF_659.txt\",\"negative\",\"negative\",\"negative\",\"negative\",\"pos_PF01117_full_Aerolysin_207.txt\",\"negative\",\"negative\",\"negative\",\"pos_PF03318_full_ETX_MTX2_440.txt\",\"negative\",\"pos_PF05105_seed_Phage_holin_4_1_131.txt\",\"negative\",\"pos_PF01823_rp15_MACPF_659.txt\",\"negative\",\"negative\",\"negative\",\"negative\",\"pos_PF00555_seed_Endotoxin_M_36.txt\",\"negative\",\"negative\",\"negative\",\"pos_PF12261_full_T_hemolysin_327.txt\",\"negative\",\"negative\",\"pos_PF07968_full_Leukocidin_89.txt\",\"pos_PF01823_rp15_MACPF_659.txt\",\"negative\",\"PF00087_full_Toxin_TOLIP_333.txt\",\"pos_PF06355_full_Aegerolysin_308.txt\",\"negative\",\"pos_PF01823_rp15_MACPF_659.txt\",\"negative\",\"pos_PF01823_rp15_MACPF_659.txt\",\"PF01289_full_Thiol_cytolysin_243.txt\",\"negative\",\"negative\",\"pos_PF06369_full_anemone_cytotox_363.txt\",\"negative\",\"pos_PF01823_rp15_MACPF_659.txt\",\"pos_PF01823_rp15_MACPF_659.txt\",\"pos_PF03318_full_ETX_MTX2_440.txt\",\"negative\",\"negative\",\"negative\",\"negative\",\"pos_PF01117_full_Aerolysin_207.txt\",\"negative\",\"negative\",\"pos_PF01823_rp15_MACPF_659.txt\",\"PF07367_full_FB_lectin_171.txt\",\"pos_PF01823_rp15_MACPF_659.txt\",\"negative\",\"negative\",\"negative\",\"negative\",\"pos_PF12261_full_T_hemolysin_327.txt\",\"negative\",\"pos_PF01823_rp15_MACPF_659.txt\",\"pos_PF05105_seed_Phage_holin_4_1_131.txt\",\"pos_PF03318_full_ETX_MTX2_440.txt\",\"negative\",\"pos_PF06355_full_Aegerolysin_308.txt\",\"PF01289_full_Thiol_cytolysin_243.txt\",\"pos_PF01823_rp15_MACPF_659.txt\",\"pos_PF01823_rp15_MACPF_659.txt\",\"negative\",\"negative\",\"negative\",\"negative\",\"PF00087_full_Toxin_TOLIP_333.txt\",\"negative\",\"negative\",\"pos_PF01823_rp15_MACPF_659.txt\",\"PF01289_full_Thiol_cytolysin_243.txt\",\"negative\",\"negative\",\"negative\",\"negative\",\"pos_PF03318_full_ETX_MTX2_440.txt\",\"negative\",\"negative\",\"negative\",\"pos_PF12261_full_T_hemolysin_327.txt\",\"negative\",\"pos_PF05105_seed_Phage_holin_4_1_131.txt\",\"negative\",\"negative\",\"negative\",\"negative\",\"negative\",\"PF07367_full_FB_lectin_171.txt\",\"negative\",\"negative\",\"negative\",\"pos_PF03318_full_ETX_MTX2_440.txt\",\"negative\",\"negative\",\"negative\",\"negative\",\"pos_PF04877_full_Harpin_35.txt\",\"negative\",\"pos_PF01338_full_Bac_thur_toxin_87.txt\",\"PF00087_full_Toxin_TOLIP_333.txt\",\"PF02382_full_RTX_14.txt\",\"negative\",\"negative\",\"pos_PF06369_full_anemone_cytotox_363.txt\",\"pos_PF05105_seed_Phage_holin_4_1_131.txt\",\"pos_PF06369_full_anemone_cytotox_363.txt\",\"negative\",\"negative\",\"pos_PF01117_full_Aerolysin_207.txt\",\"negative\",\"negative\",\"pos_PF11393_full_T4BSS_DotI_IcmL_214.txt\",\"PF04598_rp15_Gasdermin_62.txt\",\"pos_PF12563_full_Hemolysin_N_12.txt\",\"negative\",\"pos_PF03318_full_ETX_MTX2_440.txt\",\"negative\",\"pos_PF01823_rp15_MACPF_659.txt\",\"PF00087_full_Toxin_TOLIP_333.txt\",\"pos_PF03944_seed_Endotoxin_C_80.txt\",\"pos_PF12261_full_T_hemolysin_327.txt\",\"pos_PF05105_seed_Phage_holin_4_1_131.txt\",\"pos_PF11393_full_T4BSS_DotI_IcmL_214.txt\",\"PF01289_full_Thiol_cytolysin_243.txt\",\"pos_PF03318_full_ETX_MTX2_440.txt\",\"pos_PF03318_full_ETX_MTX2_440.txt\",\"negative\",\"negative\",\"pos_PF07968_full_Leukocidin_89.txt\",\"pos_PF12261_full_T_hemolysin_327.txt\",\"PF00087_full_Toxin_TOLIP_333.txt\",\"negative\",\"negative\",\"pos_PF03318_full_ETX_MTX2_440.txt\",\"negative\",\"negative\",\"negative\",\"negative\",\"negative\",\"negative\",\"pos_PF01823_rp15_MACPF_659.txt\",\"pos_PF03318_full_ETX_MTX2_440.txt\",\"pos_PF03318_full_ETX_MTX2_440.txt\",\"pos_PF03318_full_ETX_MTX2_440.txt\",\"pos_PF06355_full_Aegerolysin_308.txt\",\"pos_PF12920_full_TcdA_TcdB_pore_46.txt\",\"PF01289_full_Thiol_cytolysin_243.txt\",\"negative\",\"negative\",\"pos_PF11393_full_T4BSS_DotI_IcmL_214.txt\",\"negative\",\"negative\",\"pos_PF01338_full_Bac_thur_toxin_87.txt\",\"negative\",\"negative\",\"pos_PF03945_full_Endotoxin_N_180.txt\",\"pos_PF00555_seed_Endotoxin_M_36.txt\",\"negative\",\"negative\",\"negative\",\"pos_PF01823_rp15_MACPF_659.txt\",\"negative\",\"negative\",\"negative\",\"negative\",\"pos_PF11393_full_T4BSS_DotI_IcmL_214.txt\",\"negative\",\"negative\",\"negative\",\"pos_PF04877_full_Harpin_35.txt\",\"pos_PF01823_rp15_MACPF_659.txt\",\"negative\",\"negative\",\"pos_PF06369_full_anemone_cytotox_363.txt\",\"negative\",\"negative\",\"negative\",\"pos_PF01117_full_Aerolysin_207.txt\",\"pos_PF01024_full_Colicin_26.txt\",\"negative\",\"pos_PF11393_full_T4BSS_DotI_IcmL_214.txt\",\"pos_PF03318_full_ETX_MTX2_440.txt\",\"pos_PF01117_full_Aerolysin_207.txt\",\"negative\",\"pos_PF03318_full_ETX_MTX2_440.txt\",\"negative\",\"negative\",\"PF04598_rp15_Gasdermin_62.txt\",\"negative\",\"negative\",\"negative\",\"negative\",\"negative\",\"negative\",\"negative\",\"pos_PF11393_full_T4BSS_DotI_IcmL_214.txt\",\"negative\",\"pos_PF12261_full_T_hemolysin_327.txt\",\"negative\",\"negative\",\"negative\",\"negative\",\"negative\",\"negative\",\"pos_PF03945_full_Endotoxin_N_180.txt\",\"pos_PF12261_full_T_hemolysin_327.txt\",\"PF07367_full_FB_lectin_171.txt\",\"PF01289_full_Thiol_cytolysin_243.txt\",\"negative\",\"negative\",\"pos_PF05802_full_EspB_60.txt\",\"pos_PF01117_full_Aerolysin_207.txt\",\"pos_PF01823_rp15_MACPF_659.txt\",\"negative\",\"negative\",\"negative\",\"pos_PF12261_full_T_hemolysin_327.txt\",\"negative\",\"negative\",\"pos_PF01823_rp15_MACPF_659.txt\",\"negative\",\"negative\",\"negative\",\"negative\",\"pos_PF06369_full_anemone_cytotox_363.txt\",\"PF01289_full_Thiol_cytolysin_243.txt\",\"negative\",\"negative\",\"pos_PF01117_full_Aerolysin_207.txt\",\"pos_PF12261_full_T_hemolysin_327.txt\",\"pos_PF03318_full_ETX_MTX2_440.txt\",\"pos_PF01338_full_Bac_thur_toxin_87.txt\",\"negative\",\"negative\",\"negative\",\"negative\",\"pos_PF01338_full_Bac_thur_toxin_87.txt\",\"pos_PF03944_seed_Endotoxin_C_80.txt\",\"negative\",\"negative\",\"pos_PF12261_full_T_hemolysin_327.txt\",\"pos_PF03318_full_ETX_MTX2_440.txt\",\"PF01289_full_Thiol_cytolysin_243.txt\",\"negative\",\"pos_PF11393_full_T4BSS_DotI_IcmL_214.txt\",\"negative\",\"pos_PF03318_full_ETX_MTX2_440.txt\",\"PF01289_full_Thiol_cytolysin_243.txt\",\"negative\",\"negative\",\"pos_PF03318_full_ETX_MTX2_440.txt\",\"pos_PF06355_full_Aegerolysin_308.txt\",\"pos_PF01823_rp15_MACPF_659.txt\",\"negative\",\"pos_PF03318_full_ETX_MTX2_440.txt\",\"PF11565_full_porB_30.txt\",\"negative\",\"pos_PF03318_full_ETX_MTX2_440.txt\",\"negative\",\"pos_PF12261_full_T_hemolysin_327.txt\",\"negative\",\"negative\",\"negative\",\"pos_PF03318_full_ETX_MTX2_440.txt\",\"negative\",\"negative\",\"negative\",\"negative\",\"negative\",\"pos_PF06355_full_Aegerolysin_308.txt\",\"negative\",\"negative\",\"negative\",\"negative\",\"pos_PF01117_full_Aerolysin_207.txt\",\"negative\",\"negative\",\"pos_PF11393_full_T4BSS_DotI_IcmL_214.txt\",\"negative\",\"negative\",\"negative\",\"negative\",\"pos_PF01117_full_Aerolysin_207.txt\",\"negative\",\"pos_PF01823_rp15_MACPF_659.txt\",\"negative\",\"PF01289_full_Thiol_cytolysin_243.txt\",\"negative\",\"negative\",\"negative\",\"negative\",\"negative\",\"negative\",\"pos_PF03944_seed_Endotoxin_C_80.txt\",\"negative\",\"negative\",\"negative\",\"negative\",\"pos_PF06369_full_anemone_cytotox_363.txt\",\"negative\",\"pos_PF01823_rp15_MACPF_659.txt\",\"negative\",\"negative\",\"pos_PF06369_full_anemone_cytotox_363.txt\",\"negative\",\"pos_PF12261_full_T_hemolysin_327.txt\",\"pos_PF04877_full_Harpin_35.txt\",\"negative\",\"pos_PF03318_full_ETX_MTX2_440.txt\",\"negative\",\"negative\",\"negative\",\"negative\",\"negative\",\"negative\",\"negative\",\"pos_PF18063_full_BB_PF_52.txt\",\"pos_PF03318_full_ETX_MTX2_440.txt\",\"pos_PF01823_rp15_MACPF_659.txt\",\"pos_PF03944_seed_Endotoxin_C_80.txt\",\"negative\",\"negative\",\"negative\",\"negative\",\"negative\",\"negative\",\"negative\",\"pos_PF01338_full_Bac_thur_toxin_87.txt\",\"negative\",\"pos_PF03944_seed_Endotoxin_C_80.txt\",\"pos_PF01117_full_Aerolysin_207.txt\",\"pos_PF01823_rp15_MACPF_659.txt\",\"pos_PF06369_full_anemone_cytotox_363.txt\",\"pos_PF06355_full_Aegerolysin_308.txt\",\"negative\",\"negative\",\"negative\",\"pos_PF03318_full_ETX_MTX2_440.txt\",\"pos_PF06355_full_Aegerolysin_308.txt\",\"negative\",\"negative\",\"pos_PF07968_full_Leukocidin_89.txt\",\"negative\",\"PF11565_full_porB_30.txt\",\"negative\",\"negative\",\"PF01289_full_Thiol_cytolysin_243.txt\",\"negative\",\"negative\",\"negative\",\"PF04598_rp15_Gasdermin_62.txt\",\"pos_PF06355_full_Aegerolysin_308.txt\",\"pos_PF06369_full_anemone_cytotox_363.txt\",\"negative\",\"pos_PF01823_rp15_MACPF_659.txt\",\"pos_PF12261_full_T_hemolysin_327.txt\",\"negative\",\"pos_PF06355_full_Aegerolysin_308.txt\",\"pos_PF03318_full_ETX_MTX2_440.txt\",\"negative\",\"negative\",\"negative\",\"pos_PF06369_full_anemone_cytotox_363.txt\",\"pos_PF11393_full_T4BSS_DotI_IcmL_214.txt\",\"pos_PF06355_full_Aegerolysin_308.txt\",\"pos_PF03945_full_Endotoxin_N_180.txt\",\"pos_PF07968_full_Leukocidin_89.txt\",\"PF01289_full_Thiol_cytolysin_243.txt\",\"negative\",\"negative\",\"pos_PF12920_full_TcdA_TcdB_pore_46.txt\",\"negative\",\"pos_PF12261_full_T_hemolysin_327.txt\",\"negative\",\"negative\",\"pos_PF01117_full_Aerolysin_207.txt\",\"negative\",\"negative\",\"pos_PF12920_full_TcdA_TcdB_pore_46.txt\",\"PF01289_full_Thiol_cytolysin_243.txt\",\"negative\",\"negative\",\"pos_PF03945_full_Endotoxin_N_180.txt\",\"negative\",\"pos_PF06109_full_HlyE_62.txt\",\"negative\",\"pos_PF01823_rp15_MACPF_659.txt\",\"pos_PF03945_full_Endotoxin_N_180.txt\",\"negative\",\"pos_PF01823_rp15_MACPF_659.txt\",\"pos_PF01823_rp15_MACPF_659.txt\",\"pos_PF05105_seed_Phage_holin_4_1_131.txt\",\"negative\",\"pos_PF06109_full_HlyE_62.txt\",\"pos_PF05802_full_EspB_60.txt\",\"pos_PF03318_full_ETX_MTX2_440.txt\",\"pos_PF01117_full_Aerolysin_207.txt\",\"pos_PF05802_full_EspB_60.txt\",\"negative\",\"PF01289_full_Thiol_cytolysin_243.txt\",\"negative\",\"negative\",\"negative\",\"pos_PF03318_full_ETX_MTX2_440.txt\",\"negative\",\"negative\",\"pos_PF03945_full_Endotoxin_N_180.txt\",\"negative\",\"pos_PF06355_full_Aegerolysin_308.txt\",\"PF01289_full_Thiol_cytolysin_243.txt\",\"negative\",\"pos_PF01338_full_Bac_thur_toxin_87.txt\",\"pos_PF06369_full_anemone_cytotox_363.txt\",\"negative\",\"negative\",\"negative\",\"negative\",\"negative\",\"PF01289_full_Thiol_cytolysin_243.txt\",\"negative\",\"pos_PF03945_full_Endotoxin_N_180.txt\",\"pos_PF01823_rp15_MACPF_659.txt\",\"pos_PF03318_full_ETX_MTX2_440.txt\",\"pos_PF03945_full_Endotoxin_N_180.txt\",\"negative\",\"negative\",\"pos_PF01823_rp15_MACPF_659.txt\",\"pos_PF01823_rp15_MACPF_659.txt\",\"pos_PF11393_full_T4BSS_DotI_IcmL_214.txt\",\"negative\",\"pos_PF01338_full_Bac_thur_toxin_87.txt\",\"pos_PF05105_seed_Phage_holin_4_1_131.txt\",\"negative\",\"PF04598_rp15_Gasdermin_62.txt\",\"negative\",\"pos_PF04877_full_Harpin_35.txt\",\"pos_PF07968_full_Leukocidin_89.txt\",\"negative\",\"negative\",\"negative\",\"negative\",\"negative\",\"negative\",\"negative\",\"negative\",\"negative\",\"pos_PF01338_full_Bac_thur_toxin_87.txt\",\"pos_PF07968_full_Leukocidin_89.txt\",\"pos_PF12261_full_T_hemolysin_327.txt\",\"negative\",\"pos_PF03945_full_Endotoxin_N_180.txt\",\"negative\",\"negative\",\"PF04598_rp15_Gasdermin_62.txt\",\"pos_PF05802_full_EspB_60.txt\",\"negative\",\"negative\",\"pos_PF01024_full_Colicin_26.txt\",\"negative\",\"pos_PF06355_full_Aegerolysin_308.txt\",\"negative\",\"pos_PF03944_seed_Endotoxin_C_80.txt\",\"negative\",\"negative\",\"pos_PF11393_full_T4BSS_DotI_IcmL_214.txt\",\"negative\",\"PF01289_full_Thiol_cytolysin_243.txt\",\"PF00087_full_Toxin_TOLIP_333.txt\",\"negative\",\"pos_PF11393_full_T4BSS_DotI_IcmL_214.txt\",\"pos_PF05802_full_EspB_60.txt\",\"pos_PF06369_full_anemone_cytotox_363.txt\",\"PF00087_full_Toxin_TOLIP_333.txt\",\"pos_PF12920_full_TcdA_TcdB_pore_46.txt\",\"pos_PF03945_full_Endotoxin_N_180.txt\",\"negative\",\"negative\",\"pos_PF01117_full_Aerolysin_207.txt\",\"pos_PF18063_full_BB_PF_52.txt\",\"negative\",\"pos_PF06369_full_anemone_cytotox_363.txt\",\"negative\",\"negative\",\"pos_PF03318_full_ETX_MTX2_440.txt\",\"negative\",\"pos_PF04877_full_Harpin_35.txt\",\"negative\",\"negative\",\"pos_PF01823_rp15_MACPF_659.txt\",\"pos_PF04877_full_Harpin_35.txt\",\"pos_PF11393_full_T4BSS_DotI_IcmL_214.txt\",\"negative\",\"negative\",\"PF07367_full_FB_lectin_171.txt\",\"pos_PF03945_full_Endotoxin_N_180.txt\",\"negative\",\"negative\",\"negative\",\"pos_PF12261_full_T_hemolysin_327.txt\",\"pos_PF01338_full_Bac_thur_toxin_87.txt\",\"PF01289_full_Thiol_cytolysin_243.txt\",\"negative\",\"negative\",\"negative\",\"negative\",\"negative\",\"negative\",\"negative\",\"negative\",\"negative\",\"negative\",\"negative\",\"pos_PF01024_full_Colicin_26.txt\",\"pos_PF12261_full_T_hemolysin_327.txt\",\"negative\",\"negative\",\"pos_PF06109_full_HlyE_62.txt\",\"negative\",\"negative\",\"pos_PF12261_full_T_hemolysin_327.txt\",\"pos_PF06355_full_Aegerolysin_308.txt\",\"pos_PF01823_rp15_MACPF_659.txt\",\"negative\",\"pos_PF11393_full_T4BSS_DotI_IcmL_214.txt\",\"negative\",\"PF11565_full_porB_30.txt\",\"negative\",\"pos_PF11393_full_T4BSS_DotI_IcmL_214.txt\",\"pos_PF03318_full_ETX_MTX2_440.txt\",\"PF01289_full_Thiol_cytolysin_243.txt\",\"pos_PF01823_rp15_MACPF_659.txt\",\"negative\",\"negative\",\"pos_PF06369_full_anemone_cytotox_363.txt\",\"negative\",\"negative\",\"pos_PF01117_full_Aerolysin_207.txt\",\"negative\",\"pos_PF01823_rp15_MACPF_659.txt\",\"negative\",\"pos_PF01823_rp15_MACPF_659.txt\",\"negative\",\"pos_PF11393_full_T4BSS_DotI_IcmL_214.txt\",\"negative\",\"pos_PF18063_full_BB_PF_52.txt\",\"pos_PF01823_rp15_MACPF_659.txt\",\"pos_PF01823_rp15_MACPF_659.txt\",\"negative\",\"negative\",\"negative\",\"pos_PF18684_full_PlyB_C_8.txt\",\"negative\",\"negative\",\"negative\",\"negative\",\"negative\",\"negative\",\"negative\",\"negative\",\"pos_PF03318_full_ETX_MTX2_440.txt\",\"pos_PF06355_full_Aegerolysin_308.txt\",\"negative\",\"pos_PF01823_rp15_MACPF_659.txt\",\"pos_PF05802_full_EspB_60.txt\",\"negative\",\"negative\",\"negative\",\"negative\",\"pos_PF17475_full_Binary_toxB_2_16.txt\",\"negative\",\"negative\",\"negative\",\"pos_PF01823_rp15_MACPF_659.txt\",\"pos_PF01024_full_Colicin_26.txt\",\"negative\",\"pos_PF03945_full_Endotoxin_N_180.txt\",\"negative\",\"pos_PF07968_full_Leukocidin_89.txt\",\"negative\",\"pos_PF03318_full_ETX_MTX2_440.txt\",\"negative\",\"negative\",\"pos_PF01823_rp15_MACPF_659.txt\",\"negative\",\"negative\",\"negative\",\"pos_PF18684_full_PlyB_C_8.txt\",\"negative\",\"negative\",\"pos_PF01117_full_Aerolysin_207.txt\",\"pos_PF01823_rp15_MACPF_659.txt\",\"negative\",\"pos_PF12261_full_T_hemolysin_327.txt\",\"negative\",\"pos_PF12261_full_T_hemolysin_327.txt\",\"pos_PF03944_seed_Endotoxin_C_80.txt\",\"pos_PF03318_full_ETX_MTX2_440.txt\",\"negative\",\"negative\",\"negative\",\"negative\",\"negative\",\"negative\",\"pos_PF12261_full_T_hemolysin_327.txt\",\"negative\",\"pos_PF01117_full_Aerolysin_207.txt\",\"negative\",\"pos_PF03318_full_ETX_MTX2_440.txt\",\"pos_PF05105_seed_Phage_holin_4_1_131.txt\",\"negative\",\"negative\",\"pos_PF12261_full_T_hemolysin_327.txt\",\"negative\",\"pos_PF01117_full_Aerolysin_207.txt\",\"negative\",\"negative\",\"negative\",\"negative\",\"negative\",\"pos_PF06369_full_anemone_cytotox_363.txt\",\"pos_PF05105_seed_Phage_holin_4_1_131.txt\",\"pos_PF01117_full_Aerolysin_207.txt\",\"pos_PF03945_full_Endotoxin_N_180.txt\",\"negative\",\"negative\",\"negative\",\"pos_PF01823_rp15_MACPF_659.txt\",\"pos_PF01823_rp15_MACPF_659.txt\",\"negative\",\"negative\",\"negative\",\"pos_PF11393_full_T4BSS_DotI_IcmL_214.txt\",\"pos_PF01338_full_Bac_thur_toxin_87.txt\",\"negative\",\"PF07367_full_FB_lectin_171.txt\",\"pos_PF12261_full_T_hemolysin_327.txt\",\"pos_PF03944_seed_Endotoxin_C_80.txt\",\"negative\",\"negative\",\"pos_PF01823_rp15_MACPF_659.txt\",\"negative\",\"negative\",\"pos_PF12261_full_T_hemolysin_327.txt\",\"negative\",\"pos_PF04877_full_Harpin_35.txt\",\"negative\",\"negative\",\"negative\",\"negative\",\"negative\",\"negative\",\"pos_PF01117_full_Aerolysin_207.txt\",\"negative\",\"pos_PF01338_full_Bac_thur_toxin_87.txt\",\"negative\",\"pos_PF01024_full_Colicin_26.txt\",\"negative\",\"negative\",\"negative\",\"negative\",\"negative\",\"pos_PF12261_full_T_hemolysin_327.txt\",\"negative\",\"negative\",\"negative\",\"PF01289_full_Thiol_cytolysin_243.txt\",\"PF07367_full_FB_lectin_171.txt\",\"negative\",\"negative\",\"negative\",\"negative\",\"negative\",\"PF01289_full_Thiol_cytolysin_243.txt\",\"pos_PF01823_rp15_MACPF_659.txt\",\"pos_PF12261_full_T_hemolysin_327.txt\",\"negative\",\"pos_PF03944_seed_Endotoxin_C_80.txt\",\"negative\",\"negative\",\"negative\",\"negative\",\"negative\",\"negative\",\"negative\",\"negative\",\"pos_PF06369_full_anemone_cytotox_363.txt\",\"negative\",\"negative\",\"pos_PF01823_rp15_MACPF_659.txt\",\"pos_PF01338_full_Bac_thur_toxin_87.txt\",\"pos_PF03318_full_ETX_MTX2_440.txt\",\"pos_PF18063_full_BB_PF_52.txt\",\"negative\",\"pos_PF03945_full_Endotoxin_N_180.txt\",\"negative\",\"negative\",\"negative\",\"pos_PF01117_full_Aerolysin_207.txt\",\"negative\",\"pos_PF03945_full_Endotoxin_N_180.txt\",\"negative\",\"negative\",\"negative\",\"pos_PF12261_full_T_hemolysin_327.txt\",\"pos_PF06355_full_Aegerolysin_308.txt\",\"PF07367_full_FB_lectin_171.txt\",\"pos_PF03318_full_ETX_MTX2_440.txt\",\"negative\",\"negative\",\"negative\",\"pos_PF01823_rp15_MACPF_659.txt\",\"negative\",\"pos_PF03318_full_ETX_MTX2_440.txt\",\"pos_PF05802_full_EspB_60.txt\",\"pos_PF06355_full_Aegerolysin_308.txt\",\"PF00087_full_Toxin_TOLIP_333.txt\",\"pos_PF01823_rp15_MACPF_659.txt\",\"negative\",\"negative\",\"negative\",\"pos_PF06109_full_HlyE_62.txt\",\"pos_PF01117_full_Aerolysin_207.txt\",\"negative\",\"negative\",\"negative\",\"PF01289_full_Thiol_cytolysin_243.txt\",\"negative\",\"negative\",\"pos_PF01823_rp15_MACPF_659.txt\",\"negative\",\"pos_PF01823_rp15_MACPF_659.txt\",\"negative\",\"PF11565_full_porB_30.txt\",\"pos_PF06369_full_anemone_cytotox_363.txt\",\"pos_PF06369_full_anemone_cytotox_363.txt\",\"pos_PF11393_full_T4BSS_DotI_IcmL_214.txt\",\"negative\",\"negative\",\"pos_PF01823_rp15_MACPF_659.txt\",\"pos_PF03318_full_ETX_MTX2_440.txt\",\"negative\",\"pos_PF12261_full_T_hemolysin_327.txt\",\"pos_PF01823_rp15_MACPF_659.txt\",\"negative\",\"pos_PF01823_rp15_MACPF_659.txt\",\"negative\",\"negative\",\"negative\",\"pos_PF01823_rp15_MACPF_659.txt\",\"pos_PF01823_rp15_MACPF_659.txt\",\"negative\",\"pos_PF06355_full_Aegerolysin_308.txt\",\"negative\",\"pos_PF01823_rp15_MACPF_659.txt\",\"pos_PF12920_full_TcdA_TcdB_pore_46.txt\",\"negative\",\"pos_PF11393_full_T4BSS_DotI_IcmL_214.txt\",\"negative\",\"negative\",\"negative\",\"negative\",\"negative\",\"negative\",\"negative\",\"pos_PF06355_full_Aegerolysin_308.txt\",\"negative\",\"negative\",\"pos_PF01823_rp15_MACPF_659.txt\",\"PF04598_rp15_Gasdermin_62.txt\",\"negative\",\"negative\",\"pos_PF03318_full_ETX_MTX2_440.txt\",\"pos_PF11393_full_T4BSS_DotI_IcmL_214.txt\",\"negative\",\"negative\",\"pos_PF01823_rp15_MACPF_659.txt\",\"negative\",\"pos_PF05105_seed_Phage_holin_4_1_131.txt\",\"pos_PF11393_full_T4BSS_DotI_IcmL_214.txt\",\"PF01289_full_Thiol_cytolysin_243.txt\",\"negative\",\"negative\",\"pos_PF01823_rp15_MACPF_659.txt\",\"negative\",\"pos_PF07968_full_Leukocidin_89.txt\",\"negative\",\"negative\",\"pos_PF03318_full_ETX_MTX2_440.txt\",\"negative\",\"pos_PF03318_full_ETX_MTX2_440.txt\",\"negative\",\"pos_PF06109_full_HlyE_62.txt\",\"negative\",\"negative\",\"negative\",\"negative\",\"negative\",\"PF00087_full_Toxin_TOLIP_333.txt\",\"negative\",\"negative\",\"negative\",\"negative\",\"negative\",\"negative\",\"negative\",\"negative\",\"negative\",\"pos_PF12261_full_T_hemolysin_327.txt\",\"negative\",\"pos_PF05802_full_EspB_60.txt\",\"negative\",\"negative\",\"negative\",\"PF11565_full_porB_30.txt\",\"negative\",\"negative\",\"pos_PF06369_full_anemone_cytotox_363.txt\",\"negative\",\"negative\",\"PF01289_full_Thiol_cytolysin_243.txt\",\"pos_PF01823_rp15_MACPF_659.txt\",\"pos_PF06369_full_anemone_cytotox_363.txt\",\"negative\",\"negative\",\"pos_PF03318_full_ETX_MTX2_440.txt\",\"pos_PF03318_full_ETX_MTX2_440.txt\",\"negative\",\"negative\",\"PF07367_full_FB_lectin_171.txt\",\"pos_PF12261_full_T_hemolysin_327.txt\",\"PF01289_full_Thiol_cytolysin_243.txt\",\"pos_PF01024_full_Colicin_26.txt\",\"negative\",\"negative\",\"pos_PF07968_full_Leukocidin_89.txt\",\"negative\",\"negative\",\"PF07367_full_FB_lectin_171.txt\",\"negative\",\"pos_PF03318_full_ETX_MTX2_440.txt\",\"pos_PF03945_full_Endotoxin_N_180.txt\",\"negative\",\"pos_PF12261_full_T_hemolysin_327.txt\",\"negative\",\"pos_PF03318_full_ETX_MTX2_440.txt\",\"negative\",\"negative\",\"negative\",\"negative\",\"negative\",\"pos_PF12261_full_T_hemolysin_327.txt\",\"pos_PF11393_full_T4BSS_DotI_IcmL_214.txt\",\"negative\",\"pos_PF06109_full_HlyE_62.txt\",\"negative\",\"negative\",\"negative\",\"negative\",\"negative\",\"PF11565_full_porB_30.txt\",\"negative\",\"pos_PF12261_full_T_hemolysin_327.txt\",\"pos_PF12261_full_T_hemolysin_327.txt\",\"pos_PF03318_full_ETX_MTX2_440.txt\",\"negative\",\"pos_PF03318_full_ETX_MTX2_440.txt\",\"negative\",\"negative\",\"negative\",\"pos_PF03318_full_ETX_MTX2_440.txt\",\"negative\",\"PF01289_full_Thiol_cytolysin_243.txt\",\"negative\",\"negative\",\"pos_PF11393_full_T4BSS_DotI_IcmL_214.txt\",\"negative\",\"negative\",\"negative\",\"pos_PF06369_full_anemone_cytotox_363.txt\",\"PF00087_full_Toxin_TOLIP_333.txt\",\"negative\",\"pos_PF01338_full_Bac_thur_toxin_87.txt\",\"PF01289_full_Thiol_cytolysin_243.txt\",\"negative\",\"negative\",\"PF01289_full_Thiol_cytolysin_243.txt\",\"negative\",\"negative\",\"negative\",\"negative\",\"negative\",\"negative\",\"negative\",\"negative\",\"negative\",\"negative\",\"negative\",\"negative\",\"pos_PF11393_full_T4BSS_DotI_IcmL_214.txt\",\"negative\",\"negative\",\"pos_PF01823_rp15_MACPF_659.txt\",\"pos_PF05802_full_EspB_60.txt\",\"negative\",\"pos_PF01024_full_Colicin_26.txt\",\"PF02382_full_RTX_14.txt\",\"negative\",\"pos_PF03944_seed_Endotoxin_C_80.txt\",\"negative\",\"PF00087_full_Toxin_TOLIP_333.txt\",\"negative\",\"negative\",\"pos_PF01823_rp15_MACPF_659.txt\",\"PF01289_full_Thiol_cytolysin_243.txt\",\"pos_PF01338_full_Bac_thur_toxin_87.txt\",\"negative\",\"negative\",\"negative\",\"negative\",\"PF07367_full_FB_lectin_171.txt\",\"PF07367_full_FB_lectin_171.txt\",\"negative\",\"PF07367_full_FB_lectin_171.txt\",\"negative\",\"negative\",\"pos_PF12261_full_T_hemolysin_327.txt\",\"negative\",\"PF00087_full_Toxin_TOLIP_333.txt\",\"pos_PF05105_seed_Phage_holin_4_1_131.txt\",\"negative\",\"negative\",\"negative\",\"pos_PF12261_full_T_hemolysin_327.txt\",\"negative\",\"negative\",\"negative\",\"pos_PF12261_full_T_hemolysin_327.txt\",\"negative\",\"PF07367_full_FB_lectin_171.txt\",\"pos_PF03318_full_ETX_MTX2_440.txt\",\"pos_PF05105_seed_Phage_holin_4_1_131.txt\",\"negative\",\"negative\",\"pos_PF06355_full_Aegerolysin_308.txt\",\"pos_PF12261_full_T_hemolysin_327.txt\",\"pos_PF05802_full_EspB_60.txt\",\"pos_PF01117_full_Aerolysin_207.txt\",\"negative\",\"pos_PF01823_rp15_MACPF_659.txt\",\"pos_PF06109_full_HlyE_62.txt\",\"pos_PF18063_full_BB_PF_52.txt\",\"PF07367_full_FB_lectin_171.txt\",\"pos_PF01024_full_Colicin_26.txt\",\"negative\",\"negative\",\"pos_PF12261_full_T_hemolysin_327.txt\",\"pos_PF07968_full_Leukocidin_89.txt\",\"negative\",\"negative\",\"pos_PF12261_full_T_hemolysin_327.txt\",\"negative\",\"pos_PF05802_full_EspB_60.txt\",\"negative\",\"pos_PF01823_rp15_MACPF_659.txt\",\"negative\",\"pos_PF01823_rp15_MACPF_659.txt\",\"negative\",\"pos_PF03944_seed_Endotoxin_C_80.txt\",\"pos_PF06355_full_Aegerolysin_308.txt\",\"negative\",\"pos_PF06355_full_Aegerolysin_308.txt\",\"negative\",\"pos_PF01823_rp15_MACPF_659.txt\",\"pos_PF03318_full_ETX_MTX2_440.txt\",\"negative\",\"pos_PF11393_full_T4BSS_DotI_IcmL_214.txt\",\"pos_PF03318_full_ETX_MTX2_440.txt\",\"pos_PF06355_full_Aegerolysin_308.txt\",\"pos_PF03945_full_Endotoxin_N_180.txt\",\"PF01289_full_Thiol_cytolysin_243.txt\",\"negative\",\"negative\",\"negative\",\"negative\",\"negative\",\"pos_PF03318_full_ETX_MTX2_440.txt\",\"pos_PF06369_full_anemone_cytotox_363.txt\",\"pos_PF12261_full_T_hemolysin_327.txt\",\"pos_PF11393_full_T4BSS_DotI_IcmL_214.txt\",\"PF07367_full_FB_lectin_171.txt\",\"negative\",\"negative\",\"negative\",\"pos_PF12261_full_T_hemolysin_327.txt\",\"pos_PF06355_full_Aegerolysin_308.txt\",\"negative\",\"negative\",\"negative\",\"negative\",\"negative\",\"negative\",\"pos_PF11393_full_T4BSS_DotI_IcmL_214.txt\",\"negative\",\"pos_PF12261_full_T_hemolysin_327.txt\",\"negative\",\"pos_PF01823_rp15_MACPF_659.txt\",\"negative\",\"pos_PF01823_rp15_MACPF_659.txt\",\"negative\",\"pos_PF03944_seed_Endotoxin_C_80.txt\",\"pos_PF06355_full_Aegerolysin_308.txt\",\"negative\",\"pos_PF12261_full_T_hemolysin_327.txt\",\"negative\",\"negative\",\"negative\",\"pos_PF01823_rp15_MACPF_659.txt\",\"pos_PF05105_seed_Phage_holin_4_1_131.txt\",\"pos_PF01823_rp15_MACPF_659.txt\",\"negative\",\"negative\",\"pos_PF00555_seed_Endotoxin_M_36.txt\",\"negative\",\"negative\",\"negative\",\"negative\",\"pos_PF01823_rp15_MACPF_659.txt\",\"pos_PF01823_rp15_MACPF_659.txt\",\"negative\",\"pos_PF01338_full_Bac_thur_toxin_87.txt\",\"negative\",\"PF01289_full_Thiol_cytolysin_243.txt\",\"pos_PF01823_rp15_MACPF_659.txt\",\"pos_PF05105_seed_Phage_holin_4_1_131.txt\",\"negative\",\"pos_PF01338_full_Bac_thur_toxin_87.txt\",\"negative\",\"pos_PF01823_rp15_MACPF_659.txt\",\"negative\",\"negative\",\"negative\",\"negative\",\"negative\",\"negative\",\"pos_PF12920_full_TcdA_TcdB_pore_46.txt\",\"negative\",\"negative\",\"negative\",\"negative\",\"PF04598_rp15_Gasdermin_62.txt\",\"pos_PF12261_full_T_hemolysin_327.txt\",\"pos_PF01823_rp15_MACPF_659.txt\",\"negative\",\"negative\",\"pos_PF12261_full_T_hemolysin_327.txt\",\"negative\",\"negative\",\"negative\",\"negative\",\"negative\",\"negative\",\"pos_PF11393_full_T4BSS_DotI_IcmL_214.txt\",\"negative\",\"negative\",\"pos_PF00555_seed_Endotoxin_M_36.txt\",\"pos_PF05105_seed_Phage_holin_4_1_131.txt\",\"negative\",\"negative\",\"pos_PF01823_rp15_MACPF_659.txt\",\"pos_PF06369_full_anemone_cytotox_363.txt\",\"PF02382_full_RTX_14.txt\",\"pos_PF01823_rp15_MACPF_659.txt\",\"negative\",\"pos_PF12261_full_T_hemolysin_327.txt\",\"negative\",\"negative\",\"pos_PF01823_rp15_MACPF_659.txt\",\"pos_PF18063_full_BB_PF_52.txt\",\"negative\",\"negative\",\"negative\",\"pos_PF06355_full_Aegerolysin_308.txt\",\"pos_PF01823_rp15_MACPF_659.txt\",\"pos_PF11393_full_T4BSS_DotI_IcmL_214.txt\",\"pos_PF01117_full_Aerolysin_207.txt\",\"pos_PF06355_full_Aegerolysin_308.txt\",\"pos_PF06369_full_anemone_cytotox_363.txt\",\"pos_PF01823_rp15_MACPF_659.txt\",\"pos_PF03944_seed_Endotoxin_C_80.txt\",\"negative\",\"pos_PF03318_full_ETX_MTX2_440.txt\",\"pos_PF03945_full_Endotoxin_N_180.txt\",\"negative\",\"negative\",\"negative\",\"pos_PF01823_rp15_MACPF_659.txt\",\"negative\",\"pos_PF11393_full_T4BSS_DotI_IcmL_214.txt\",\"pos_PF07968_full_Leukocidin_89.txt\",\"pos_PF01823_rp15_MACPF_659.txt\",\"pos_PF03318_full_ETX_MTX2_440.txt\",\"PF00087_full_Toxin_TOLIP_333.txt\",\"negative\",\"pos_PF07968_full_Leukocidin_89.txt\",\"pos_PF06355_full_Aegerolysin_308.txt\",\"negative\",\"negative\",\"pos_PF05105_seed_Phage_holin_4_1_131.txt\",\"pos_PF03318_full_ETX_MTX2_440.txt\",\"PF07367_full_FB_lectin_171.txt\",\"negative\",\"negative\",\"negative\",\"pos_PF03318_full_ETX_MTX2_440.txt\",\"negative\",\"pos_PF12261_full_T_hemolysin_327.txt\",\"pos_PF01823_rp15_MACPF_659.txt\",\"pos_PF12261_full_T_hemolysin_327.txt\",\"negative\",\"negative\",\"pos_PF01823_rp15_MACPF_659.txt\",\"negative\",\"PF11565_full_porB_30.txt\",\"negative\",\"negative\",\"negative\",\"negative\",\"pos_PF05802_full_EspB_60.txt\",\"PF07367_full_FB_lectin_171.txt\",\"negative\",\"negative\",\"negative\",\"negative\",\"negative\",\"pos_PF12261_full_T_hemolysin_327.txt\",\"negative\",\"pos_PF01823_rp15_MACPF_659.txt\",\"negative\",\"PF01289_full_Thiol_cytolysin_243.txt\",\"negative\",\"negative\",\"pos_PF06369_full_anemone_cytotox_363.txt\",\"negative\",\"negative\",\"negative\",\"pos_PF05105_seed_Phage_holin_4_1_131.txt\",\"negative\",\"negative\",\"negative\",\"negative\",\"PF00087_full_Toxin_TOLIP_333.txt\",\"PF07367_full_FB_lectin_171.txt\",\"negative\",\"pos_PF03945_full_Endotoxin_N_180.txt\",\"negative\",\"pos_PF01823_rp15_MACPF_659.txt\",\"pos_PF06369_full_anemone_cytotox_363.txt\",\"PF01289_full_Thiol_cytolysin_243.txt\",\"PF01289_full_Thiol_cytolysin_243.txt\",\"PF07367_full_FB_lectin_171.txt\",\"negative\",\"pos_PF11393_full_T4BSS_DotI_IcmL_214.txt\",\"negative\",\"negative\",\"negative\",\"pos_PF12261_full_T_hemolysin_327.txt\",\"negative\",\"pos_PF17475_full_Binary_toxB_2_16.txt\",\"pos_PF01823_rp15_MACPF_659.txt\",\"negative\",\"pos_PF01823_rp15_MACPF_659.txt\",\"pos_PF05105_seed_Phage_holin_4_1_131.txt\",\"negative\",\"PF00087_full_Toxin_TOLIP_333.txt\",\"pos_PF03318_full_ETX_MTX2_440.txt\",\"negative\",\"negative\",\"pos_PF03318_full_ETX_MTX2_440.txt\",\"negative\",\"negative\",\"pos_PF06369_full_anemone_cytotox_363.txt\",\"negative\",\"negative\",\"negative\",\"pos_PF01823_rp15_MACPF_659.txt\",\"negative\",\"PF01289_full_Thiol_cytolysin_243.txt\",\"negative\",\"negative\",\"negative\",\"negative\",\"negative\",\"negative\",\"negative\",\"negative\",\"negative\",\"negative\",\"negative\",\"PF00087_full_Toxin_TOLIP_333.txt\",\"negative\",\"pos_PF03318_full_ETX_MTX2_440.txt\",\"pos_PF01338_full_Bac_thur_toxin_87.txt\",\"negative\",\"negative\",\"negative\",\"pos_PF06355_full_Aegerolysin_308.txt\",\"negative\",\"negative\",\"negative\",\"negative\",\"negative\",\"pos_PF06369_full_anemone_cytotox_363.txt\",\"negative\",\"negative\",\"negative\",\"pos_PF03318_full_ETX_MTX2_440.txt\",\"negative\",\"negative\",\"pos_PF03318_full_ETX_MTX2_440.txt\",\"negative\",\"negative\",\"negative\",\"negative\",\"pos_PF07968_full_Leukocidin_89.txt\",\"negative\",\"negative\",\"pos_PF01823_rp15_MACPF_659.txt\",\"pos_PF01823_rp15_MACPF_659.txt\",\"pos_PF11393_full_T4BSS_DotI_IcmL_214.txt\",\"negative\",\"negative\",\"pos_PF18684_full_PlyB_C_8.txt\",\"pos_PF03945_full_Endotoxin_N_180.txt\",\"negative\",\"negative\",\"pos_PF03945_full_Endotoxin_N_180.txt\",\"negative\",\"negative\",\"pos_PF05105_seed_Phage_holin_4_1_131.txt\",\"negative\",\"negative\",\"pos_PF12261_full_T_hemolysin_327.txt\",\"pos_PF04877_full_Harpin_35.txt\",\"PF01289_full_Thiol_cytolysin_243.txt\",\"pos_PF06355_full_Aegerolysin_308.txt\",\"negative\",\"negative\",\"pos_PF01823_rp15_MACPF_659.txt\",\"negative\",\"negative\",\"pos_PF01823_rp15_MACPF_659.txt\",\"pos_PF01338_full_Bac_thur_toxin_87.txt\",\"negative\",\"pos_PF03318_full_ETX_MTX2_440.txt\",\"negative\",\"negative\",\"negative\",\"pos_PF06355_full_Aegerolysin_308.txt\",\"PF00087_full_Toxin_TOLIP_333.txt\",\"negative\",\"PF07367_full_FB_lectin_171.txt\",\"negative\",\"negative\",\"negative\",\"PF01289_full_Thiol_cytolysin_243.txt\",\"negative\",\"negative\",\"negative\",\"pos_PF03945_full_Endotoxin_N_180.txt\",\"pos_PF01117_full_Aerolysin_207.txt\",\"negative\",\"negative\",\"pos_PF00555_seed_Endotoxin_M_36.txt\",\"negative\",\"negative\",\"negative\",\"pos_PF01823_rp15_MACPF_659.txt\",\"pos_PF01823_rp15_MACPF_659.txt\",\"pos_PF12261_full_T_hemolysin_327.txt\",\"pos_PF06109_full_HlyE_62.txt\",\"negative\",\"pos_PF01117_full_Aerolysin_207.txt\",\"pos_PF12261_full_T_hemolysin_327.txt\",\"pos_PF06369_full_anemone_cytotox_363.txt\",\"negative\",\"negative\",\"pos_PF03318_full_ETX_MTX2_440.txt\",\"negative\",\"negative\",\"PF00087_full_Toxin_TOLIP_333.txt\",\"pos_PF03505_full_Clenterotox_9.txt\",\"negative\",\"pos_PF06109_full_HlyE_62.txt\",\"negative\",\"negative\",\"pos_PF12261_full_T_hemolysin_327.txt\",\"negative\",\"negative\",\"negative\",\"negative\",\"negative\",\"negative\",\"pos_PF04877_full_Harpin_35.txt\",\"negative\",\"negative\",\"negative\",\"pos_PF03318_full_ETX_MTX2_440.txt\",\"negative\",\"PF00087_full_Toxin_TOLIP_333.txt\",\"negative\",\"negative\",\"pos_PF11393_full_T4BSS_DotI_IcmL_214.txt\",\"negative\",\"negative\",\"negative\",\"negative\",\"negative\",\"pos_PF01823_rp15_MACPF_659.txt\",\"negative\",\"negative\",\"pos_PF06355_full_Aegerolysin_308.txt\",\"pos_PF03945_full_Endotoxin_N_180.txt\",\"negative\",\"pos_PF05802_full_EspB_60.txt\",\"negative\",\"pos_PF12261_full_T_hemolysin_327.txt\",\"negative\",\"negative\",\"negative\",\"pos_PF03318_full_ETX_MTX2_440.txt\",\"PF07367_full_FB_lectin_171.txt\",\"pos_PF12261_full_T_hemolysin_327.txt\",\"PF11565_full_porB_30.txt\",\"negative\",\"pos_PF06369_full_anemone_cytotox_363.txt\",\"negative\",\"negative\",\"pos_PF03318_full_ETX_MTX2_440.txt\",\"negative\",\"pos_PF03944_seed_Endotoxin_C_80.txt\",\"PF04598_rp15_Gasdermin_62.txt\",\"pos_PF04877_full_Harpin_35.txt\",\"pos_PF03318_full_ETX_MTX2_440.txt\",\"negative\",\"pos_PF01823_rp15_MACPF_659.txt\",\"negative\",\"pos_PF03318_full_ETX_MTX2_440.txt\",\"negative\",\"pos_PF12261_full_T_hemolysin_327.txt\",\"negative\",\"negative\",\"negative\",\"negative\",\"negative\",\"negative\",\"negative\",\"negative\",\"pos_PF06369_full_anemone_cytotox_363.txt\",\"negative\",\"pos_PF06369_full_anemone_cytotox_363.txt\",\"pos_PF06369_full_anemone_cytotox_363.txt\",\"pos_PF06369_full_anemone_cytotox_363.txt\",\"PF01289_full_Thiol_cytolysin_243.txt\",\"negative\",\"pos_PF01823_rp15_MACPF_659.txt\",\"negative\",\"pos_PF01117_full_Aerolysin_207.txt\",\"negative\",\"pos_PF01338_full_Bac_thur_toxin_87.txt\",\"negative\",\"negative\",\"negative\",\"negative\",\"negative\",\"PF07367_full_FB_lectin_171.txt\",\"negative\",\"pos_PF12261_full_T_hemolysin_327.txt\",\"pos_PF03945_full_Endotoxin_N_180.txt\",\"pos_PF03945_full_Endotoxin_N_180.txt\",\"PF00087_full_Toxin_TOLIP_333.txt\",\"negative\",\"negative\",\"negative\",\"negative\",\"pos_PF03318_full_ETX_MTX2_440.txt\",\"negative\",\"negative\",\"pos_PF18063_full_BB_PF_52.txt\",\"negative\",\"negative\",\"PF01289_full_Thiol_cytolysin_243.txt\",\"PF07367_full_FB_lectin_171.txt\",\"negative\",\"negative\",\"pos_PF11393_full_T4BSS_DotI_IcmL_214.txt\",\"pos_PF06355_full_Aegerolysin_308.txt\",\"pos_PF03318_full_ETX_MTX2_440.txt\",\"negative\",\"pos_PF06355_full_Aegerolysin_308.txt\",\"pos_PF03318_full_ETX_MTX2_440.txt\",\"negative\",\"pos_PF01823_rp15_MACPF_659.txt\",\"negative\",\"negative\",\"pos_PF03318_full_ETX_MTX2_440.txt\",\"negative\",\"pos_PF03318_full_ETX_MTX2_440.txt\",\"negative\",\"negative\",\"negative\",\"pos_PF06109_full_HlyE_62.txt\",\"negative\",\"PF01289_full_Thiol_cytolysin_243.txt\",\"negative\",\"pos_PF12261_full_T_hemolysin_327.txt\",\"negative\",\"negative\",\"pos_PF04877_full_Harpin_35.txt\",\"pos_PF18063_full_BB_PF_52.txt\",\"pos_PF01823_rp15_MACPF_659.txt\",\"negative\",\"negative\",\"negative\",\"negative\",\"negative\",\"negative\",\"pos_PF06369_full_anemone_cytotox_363.txt\",\"negative\",\"pos_PF12261_full_T_hemolysin_327.txt\",\"pos_PF01823_rp15_MACPF_659.txt\",\"PF01289_full_Thiol_cytolysin_243.txt\",\"pos_PF12261_full_T_hemolysin_327.txt\",\"pos_PF06355_full_Aegerolysin_308.txt\",\"pos_PF18063_full_BB_PF_52.txt\",\"negative\",\"pos_PF11393_full_T4BSS_DotI_IcmL_214.txt\",\"negative\",\"pos_PF03318_full_ETX_MTX2_440.txt\",\"pos_PF06369_full_anemone_cytotox_363.txt\",\"pos_PF01823_rp15_MACPF_659.txt\",\"pos_PF01823_rp15_MACPF_659.txt\",\"pos_PF06369_full_anemone_cytotox_363.txt\",\"negative\",\"negative\",\"pos_PF12261_full_T_hemolysin_327.txt\",\"negative\",\"pos_PF05105_seed_Phage_holin_4_1_131.txt\",\"pos_PF01117_full_Aerolysin_207.txt\",\"pos_PF03318_full_ETX_MTX2_440.txt\",\"pos_PF01823_rp15_MACPF_659.txt\",\"negative\",\"negative\",\"negative\",\"negative\",\"pos_PF11393_full_T4BSS_DotI_IcmL_214.txt\",\"pos_PF01024_full_Colicin_26.txt\",\"negative\",\"pos_PF12261_full_T_hemolysin_327.txt\",\"negative\",\"pos_PF01823_rp15_MACPF_659.txt\",\"negative\",\"pos_PF01823_rp15_MACPF_659.txt\",\"pos_PF11393_full_T4BSS_DotI_IcmL_214.txt\",\"negative\",\"pos_PF01823_rp15_MACPF_659.txt\",\"negative\",\"negative\",\"pos_PF01823_rp15_MACPF_659.txt\",\"pos_PF03318_full_ETX_MTX2_440.txt\",\"pos_PF12261_full_T_hemolysin_327.txt\",\"negative\",\"negative\",\"PF01289_full_Thiol_cytolysin_243.txt\",\"negative\",\"negative\",\"negative\",\"PF04598_rp15_Gasdermin_62.txt\",\"negative\",\"negative\",\"pos_PF01823_rp15_MACPF_659.txt\",\"negative\",\"negative\",\"negative\",\"negative\",\"pos_PF05802_full_EspB_60.txt\",\"pos_PF11393_full_T4BSS_DotI_IcmL_214.txt\",\"negative\",\"negative\",\"pos_PF06369_full_anemone_cytotox_363.txt\",\"negative\",\"pos_PF03318_full_ETX_MTX2_440.txt\",\"pos_PF05105_seed_Phage_holin_4_1_131.txt\",\"pos_PF12261_full_T_hemolysin_327.txt\",\"negative\",\"pos_PF05105_seed_Phage_holin_4_1_131.txt\",\"negative\",\"pos_PF01117_full_Aerolysin_207.txt\",\"pos_PF01823_rp15_MACPF_659.txt\",\"negative\",\"pos_PF12261_full_T_hemolysin_327.txt\",\"negative\",\"negative\",\"pos_PF03945_full_Endotoxin_N_180.txt\",\"negative\",\"negative\",\"negative\",\"negative\",\"pos_PF05105_seed_Phage_holin_4_1_131.txt\",\"negative\",\"negative\",\"pos_PF03318_full_ETX_MTX2_440.txt\",\"negative\",\"negative\",\"pos_PF01823_rp15_MACPF_659.txt\",\"pos_PF12261_full_T_hemolysin_327.txt\",\"negative\",\"negative\",\"negative\",\"pos_PF05105_seed_Phage_holin_4_1_131.txt\",\"PF01289_full_Thiol_cytolysin_243.txt\",\"negative\",\"pos_PF06355_full_Aegerolysin_308.txt\",\"pos_PF06355_full_Aegerolysin_308.txt\",\"pos_PF06369_full_anemone_cytotox_363.txt\",\"negative\",\"negative\",\"negative\",\"pos_PF01823_rp15_MACPF_659.txt\",\"negative\",\"pos_PF06355_full_Aegerolysin_308.txt\",\"pos_PF18063_full_BB_PF_52.txt\",\"pos_PF03318_full_ETX_MTX2_440.txt\",\"pos_PF04877_full_Harpin_35.txt\",\"pos_PF01823_rp15_MACPF_659.txt\",\"negative\",\"pos_PF03944_seed_Endotoxin_C_80.txt\",\"pos_PF01823_rp15_MACPF_659.txt\",\"negative\",\"pos_PF06355_full_Aegerolysin_308.txt\",\"negative\",\"negative\",\"pos_PF05105_seed_Phage_holin_4_1_131.txt\",\"pos_PF05105_seed_Phage_holin_4_1_131.txt\",\"pos_PF06369_full_anemone_cytotox_363.txt\",\"pos_PF03318_full_ETX_MTX2_440.txt\",\"negative\",\"negative\",\"pos_PF06355_full_Aegerolysin_308.txt\",\"negative\",\"pos_PF12261_full_T_hemolysin_327.txt\",\"negative\",\"negative\",\"pos_PF12261_full_T_hemolysin_327.txt\",\"negative\",\"negative\",\"pos_PF01338_full_Bac_thur_toxin_87.txt\",\"pos_PF03318_full_ETX_MTX2_440.txt\",\"pos_PF11393_full_T4BSS_DotI_IcmL_214.txt\",\"negative\",\"pos_PF12261_full_T_hemolysin_327.txt\",\"pos_PF00555_seed_Endotoxin_M_36.txt\",\"negative\",\"pos_PF01823_rp15_MACPF_659.txt\",\"PF01289_full_Thiol_cytolysin_243.txt\",\"pos_PF01823_rp15_MACPF_659.txt\",\"pos_PF06369_full_anemone_cytotox_363.txt\",\"pos_PF01024_full_Colicin_26.txt\",\"negative\",\"negative\",\"negative\",\"negative\",\"negative\",\"negative\",\"pos_PF12920_full_TcdA_TcdB_pore_46.txt\",\"negative\",\"pos_PF12920_full_TcdA_TcdB_pore_46.txt\",\"pos_PF01823_rp15_MACPF_659.txt\",\"negative\",\"negative\",\"negative\",\"pos_PF03945_full_Endotoxin_N_180.txt\",\"pos_PF05105_seed_Phage_holin_4_1_131.txt\",\"pos_PF01823_rp15_MACPF_659.txt\",\"negative\",\"negative\",\"pos_PF11393_full_T4BSS_DotI_IcmL_214.txt\",\"pos_PF01823_rp15_MACPF_659.txt\",\"negative\",\"pos_PF01823_rp15_MACPF_659.txt\",\"pos_PF12261_full_T_hemolysin_327.txt\",\"negative\",\"pos_PF11393_full_T4BSS_DotI_IcmL_214.txt\",\"pos_PF01338_full_Bac_thur_toxin_87.txt\",\"negative\",\"negative\",\"negative\",\"PF04598_rp15_Gasdermin_62.txt\",\"pos_PF03944_seed_Endotoxin_C_80.txt\",\"negative\",\"negative\",\"pos_PF01823_rp15_MACPF_659.txt\",\"negative\",\"pos_PF00555_seed_Endotoxin_M_36.txt\",\"negative\",\"pos_PF06355_full_Aegerolysin_308.txt\",\"negative\",\"negative\",\"negative\",\"pos_PF12261_full_T_hemolysin_327.txt\",\"negative\",\"negative\",\"pos_PF03318_full_ETX_MTX2_440.txt\",\"pos_PF03945_full_Endotoxin_N_180.txt\",\"pos_PF06355_full_Aegerolysin_308.txt\",\"pos_PF12920_full_TcdA_TcdB_pore_46.txt\",\"pos_PF12261_full_T_hemolysin_327.txt\",\"negative\",\"pos_PF12261_full_T_hemolysin_327.txt\",\"pos_PF01823_rp15_MACPF_659.txt\",\"negative\",\"pos_PF03318_full_ETX_MTX2_440.txt\",\"negative\",\"negative\",\"negative\",\"negative\",\"negative\",\"pos_PF12261_full_T_hemolysin_327.txt\",\"negative\",\"negative\",\"pos_PF18063_full_BB_PF_52.txt\",\"pos_PF07968_full_Leukocidin_89.txt\",\"negative\",\"pos_PF05105_seed_Phage_holin_4_1_131.txt\",\"pos_PF01823_rp15_MACPF_659.txt\",\"negative\",\"negative\",\"pos_PF11393_full_T4BSS_DotI_IcmL_214.txt\",\"pos_PF01823_rp15_MACPF_659.txt\",\"negative\",\"PF01289_full_Thiol_cytolysin_243.txt\",\"pos_PF01823_rp15_MACPF_659.txt\",\"negative\",\"negative\",\"negative\",\"negative\",\"negative\",\"pos_PF01117_full_Aerolysin_207.txt\",\"negative\",\"pos_PF06355_full_Aegerolysin_308.txt\",\"pos_PF06369_full_anemone_cytotox_363.txt\",\"negative\",\"pos_PF12261_full_T_hemolysin_327.txt\",\"pos_PF11393_full_T4BSS_DotI_IcmL_214.txt\",\"negative\",\"negative\",\"negative\",\"negative\",\"pos_PF06369_full_anemone_cytotox_363.txt\",\"negative\",\"PF01289_full_Thiol_cytolysin_243.txt\",\"negative\",\"negative\",\"negative\",\"pos_PF01823_rp15_MACPF_659.txt\",\"pos_PF06369_full_anemone_cytotox_363.txt\",\"pos_PF11393_full_T4BSS_DotI_IcmL_214.txt\",\"negative\",\"PF01289_full_Thiol_cytolysin_243.txt\",\"pos_PF01117_full_Aerolysin_207.txt\",\"negative\",\"negative\",\"negative\",\"negative\",\"PF01289_full_Thiol_cytolysin_243.txt\",\"negative\",\"negative\",\"negative\",\"negative\",\"negative\",\"negative\",\"negative\",\"negative\",\"pos_PF06369_full_anemone_cytotox_363.txt\",\"negative\",\"negative\",\"negative\",\"negative\",\"pos_PF01823_rp15_MACPF_659.txt\",\"negative\",\"negative\",\"negative\",\"negative\",\"negative\",\"pos_PF01823_rp15_MACPF_659.txt\",\"negative\",\"negative\",\"pos_PF03318_full_ETX_MTX2_440.txt\",\"negative\",\"pos_PF01823_rp15_MACPF_659.txt\",\"pos_PF12261_full_T_hemolysin_327.txt\",\"pos_PF01823_rp15_MACPF_659.txt\",\"negative\",\"negative\",\"negative\",\"pos_PF03318_full_ETX_MTX2_440.txt\",\"negative\",\"negative\",\"negative\",\"negative\",\"negative\",\"pos_PF11393_full_T4BSS_DotI_IcmL_214.txt\",\"pos_PF01024_full_Colicin_26.txt\",\"negative\",\"negative\",\"pos_PF04877_full_Harpin_35.txt\",\"negative\",\"negative\",\"negative\",\"pos_PF03945_full_Endotoxin_N_180.txt\",\"negative\",\"PF01289_full_Thiol_cytolysin_243.txt\",\"pos_PF01823_rp15_MACPF_659.txt\",\"negative\",\"pos_PF11393_full_T4BSS_DotI_IcmL_214.txt\",\"negative\",\"pos_PF01823_rp15_MACPF_659.txt\",\"negative\",\"negative\",\"PF00087_full_Toxin_TOLIP_333.txt\",\"pos_PF03318_full_ETX_MTX2_440.txt\",\"pos_PF01024_full_Colicin_26.txt\",\"pos_PF01823_rp15_MACPF_659.txt\",\"pos_PF06369_full_anemone_cytotox_363.txt\",\"pos_PF11393_full_T4BSS_DotI_IcmL_214.txt\",\"negative\",\"PF00087_full_Toxin_TOLIP_333.txt\",\"negative\",\"negative\",\"negative\",\"pos_PF01823_rp15_MACPF_659.txt\",\"pos_PF01823_rp15_MACPF_659.txt\",\"pos_PF11393_full_T4BSS_DotI_IcmL_214.txt\",\"negative\",\"negative\",\"negative\",\"pos_PF12261_full_T_hemolysin_327.txt\",\"pos_PF03944_seed_Endotoxin_C_80.txt\",\"negative\",\"negative\",\"PF01289_full_Thiol_cytolysin_243.txt\",\"negative\",\"negative\",\"negative\",\"pos_PF01338_full_Bac_thur_toxin_87.txt\",\"negative\",\"negative\",\"pos_PF03318_full_ETX_MTX2_440.txt\",\"negative\",\"pos_PF03945_full_Endotoxin_N_180.txt\",\"pos_PF11393_full_T4BSS_DotI_IcmL_214.txt\",\"negative\",\"negative\",\"negative\",\"negative\",\"pos_PF01823_rp15_MACPF_659.txt\",\"negative\",\"negative\",\"negative\",\"negative\",\"negative\",\"negative\",\"PF00087_full_Toxin_TOLIP_333.txt\",\"pos_PF05105_seed_Phage_holin_4_1_131.txt\",\"negative\",\"pos_PF06369_full_anemone_cytotox_363.txt\",\"pos_PF05105_seed_Phage_holin_4_1_131.txt\",\"negative\",\"negative\",\"pos_PF12261_full_T_hemolysin_327.txt\",\"negative\",\"pos_PF01823_rp15_MACPF_659.txt\",\"negative\",\"pos_PF03318_full_ETX_MTX2_440.txt\",\"negative\",\"pos_PF03318_full_ETX_MTX2_440.txt\",\"negative\",\"pos_PF03945_full_Endotoxin_N_180.txt\",\"pos_PF01823_rp15_MACPF_659.txt\",\"negative\",\"pos_PF12261_full_T_hemolysin_327.txt\",\"negative\",\"negative\",\"negative\",\"PF07367_full_FB_lectin_171.txt\",\"pos_PF12261_full_T_hemolysin_327.txt\",\"pos_PF01823_rp15_MACPF_659.txt\",\"negative\",\"pos_PF03318_full_ETX_MTX2_440.txt\",\"negative\",\"negative\",\"negative\",\"negative\",\"negative\",\"negative\",\"negative\",\"negative\",\"negative\",\"negative\",\"negative\",\"negative\",\"pos_PF03318_full_ETX_MTX2_440.txt\",\"pos_PF11393_full_T4BSS_DotI_IcmL_214.txt\",\"negative\",\"negative\",\"negative\",\"negative\",\"negative\",\"pos_PF01117_full_Aerolysin_207.txt\",\"negative\",\"pos_PF01823_rp15_MACPF_659.txt\",\"negative\",\"negative\",\"negative\",\"negative\",\"pos_PF12261_full_T_hemolysin_327.txt\",\"negative\",\"negative\",\"pos_PF18063_full_BB_PF_52.txt\",\"negative\",\"negative\",\"negative\",\"pos_PF01338_full_Bac_thur_toxin_87.txt\",\"negative\",\"pos_PF01823_rp15_MACPF_659.txt\",\"negative\",\"negative\",\"negative\",\"PF01289_full_Thiol_cytolysin_243.txt\",\"pos_PF03945_full_Endotoxin_N_180.txt\",\"negative\",\"negative\",\"pos_PF06369_full_anemone_cytotox_363.txt\",\"negative\",\"pos_PF01117_full_Aerolysin_207.txt\",\"negative\",\"pos_PF03318_full_ETX_MTX2_440.txt\",\"pos_PF03944_seed_Endotoxin_C_80.txt\",\"negative\",\"negative\",\"negative\",\"negative\",\"pos_PF01823_rp15_MACPF_659.txt\",\"negative\",\"negative\",\"pos_PF05105_seed_Phage_holin_4_1_131.txt\",\"pos_PF03944_seed_Endotoxin_C_80.txt\",\"negative\",\"negative\",\"pos_PF03945_full_Endotoxin_N_180.txt\",\"pos_PF06355_full_Aegerolysin_308.txt\",\"negative\",\"negative\",\"negative\",\"negative\",\"negative\",\"PF01289_full_Thiol_cytolysin_243.txt\",\"pos_PF05802_full_EspB_60.txt\",\"PF04598_rp15_Gasdermin_62.txt\",\"negative\",\"negative\",\"pos_PF01823_rp15_MACPF_659.txt\",\"PF01289_full_Thiol_cytolysin_243.txt\",\"negative\",\"pos_PF06369_full_anemone_cytotox_363.txt\",\"negative\",\"negative\",\"negative\",\"negative\",\"pos_PF01117_full_Aerolysin_207.txt\",\"pos_PF12563_full_Hemolysin_N_12.txt\",\"PF07367_full_FB_lectin_171.txt\",\"negative\",\"negative\",\"pos_PF01823_rp15_MACPF_659.txt\",\"PF01289_full_Thiol_cytolysin_243.txt\",\"pos_PF01823_rp15_MACPF_659.txt\",\"negative\",\"pos_PF12261_full_T_hemolysin_327.txt\",\"pos_PF11393_full_T4BSS_DotI_IcmL_214.txt\",\"pos_PF06109_full_HlyE_62.txt\",\"PF00087_full_Toxin_TOLIP_333.txt\",\"negative\",\"PF07367_full_FB_lectin_171.txt\",\"negative\",\"negative\",\"pos_PF03945_full_Endotoxin_N_180.txt\",\"negative\",\"negative\",\"negative\",\"pos_PF03318_full_ETX_MTX2_440.txt\",\"negative\",\"pos_PF12261_full_T_hemolysin_327.txt\",\"negative\",\"PF00087_full_Toxin_TOLIP_333.txt\",\"negative\",\"negative\",\"negative\",\"negative\",\"negative\",\"negative\",\"negative\",\"negative\",\"negative\",\"negative\",\"negative\",\"pos_PF12261_full_T_hemolysin_327.txt\",\"negative\",\"pos_PF03944_seed_Endotoxin_C_80.txt\",\"pos_PF06355_full_Aegerolysin_308.txt\",\"negative\",\"negative\",\"pos_PF03945_full_Endotoxin_N_180.txt\",\"pos_PF12261_full_T_hemolysin_327.txt\",\"negative\",\"negative\",\"pos_PF18063_full_BB_PF_52.txt\",\"negative\",\"negative\",\"negative\",\"pos_PF06369_full_anemone_cytotox_363.txt\",\"negative\",\"negative\",\"PF07367_full_FB_lectin_171.txt\",\"pos_PF01823_rp15_MACPF_659.txt\",\"pos_PF12261_full_T_hemolysin_327.txt\",\"negative\",\"pos_PF03318_full_ETX_MTX2_440.txt\",\"pos_PF11393_full_T4BSS_DotI_IcmL_214.txt\",\"negative\",\"pos_PF05802_full_EspB_60.txt\",\"negative\",\"pos_PF12920_full_TcdA_TcdB_pore_46.txt\",\"pos_PF03318_full_ETX_MTX2_440.txt\",\"negative\",\"negative\",\"negative\",\"negative\",\"negative\",\"negative\",\"PF01289_full_Thiol_cytolysin_243.txt\",\"negative\",\"negative\",\"PF11565_full_porB_30.txt\",\"pos_PF01823_rp15_MACPF_659.txt\",\"negative\",\"pos_PF18063_full_BB_PF_52.txt\",\"pos_PF12261_full_T_hemolysin_327.txt\",\"negative\",\"pos_PF11393_full_T4BSS_DotI_IcmL_214.txt\",\"negative\",\"pos_PF05105_seed_Phage_holin_4_1_131.txt\",\"negative\",\"PF07367_full_FB_lectin_171.txt\",\"negative\",\"PF01289_full_Thiol_cytolysin_243.txt\",\"pos_PF03318_full_ETX_MTX2_440.txt\",\"pos_PF11393_full_T4BSS_DotI_IcmL_214.txt\",\"pos_PF01823_rp15_MACPF_659.txt\",\"pos_PF01823_rp15_MACPF_659.txt\",\"PF04598_rp15_Gasdermin_62.txt\",\"pos_PF01823_rp15_MACPF_659.txt\",\"negative\",\"pos_PF03318_full_ETX_MTX2_440.txt\",\"pos_PF12261_full_T_hemolysin_327.txt\",\"pos_PF12261_full_T_hemolysin_327.txt\",\"pos_PF11393_full_T4BSS_DotI_IcmL_214.txt\",\"negative\",\"negative\",\"pos_PF03945_full_Endotoxin_N_180.txt\",\"negative\",\"pos_PF03318_full_ETX_MTX2_440.txt\",\"negative\",\"negative\",\"pos_PF12261_full_T_hemolysin_327.txt\",\"pos_PF12261_full_T_hemolysin_327.txt\",\"pos_PF06369_full_anemone_cytotox_363.txt\",\"negative\",\"negative\",\"negative\",\"negative\",\"negative\",\"negative\",\"pos_PF05105_seed_Phage_holin_4_1_131.txt\",\"negative\",\"pos_PF12261_full_T_hemolysin_327.txt\",\"negative\",\"negative\",\"negative\",\"negative\",\"pos_PF06369_full_anemone_cytotox_363.txt\",\"negative\",\"PF00087_full_Toxin_TOLIP_333.txt\",\"pos_PF06355_full_Aegerolysin_308.txt\",\"negative\",\"negative\",\"negative\",\"pos_PF06355_full_Aegerolysin_308.txt\",\"negative\",\"negative\",\"negative\",\"negative\",\"negative\",\"negative\",\"negative\",\"negative\",\"negative\",\"pos_PF01823_rp15_MACPF_659.txt\",\"negative\",\"pos_PF01024_full_Colicin_26.txt\",\"pos_PF12261_full_T_hemolysin_327.txt\",\"pos_PF12261_full_T_hemolysin_327.txt\",\"pos_PF05105_seed_Phage_holin_4_1_131.txt\",\"pos_PF12261_full_T_hemolysin_327.txt\",\"negative\",\"negative\",\"pos_PF01117_full_Aerolysin_207.txt\",\"pos_PF12261_full_T_hemolysin_327.txt\",\"pos_PF06109_full_HlyE_62.txt\",\"negative\",\"negative\",\"negative\",\"PF07367_full_FB_lectin_171.txt\",\"negative\",\"negative\",\"negative\",\"negative\",\"negative\",\"negative\",\"negative\",\"negative\",\"negative\",\"pos_PF12920_full_TcdA_TcdB_pore_46.txt\",\"negative\",\"pos_PF06109_full_HlyE_62.txt\",\"pos_PF11393_full_T4BSS_DotI_IcmL_214.txt\",\"PF11565_full_porB_30.txt\",\"pos_PF03945_full_Endotoxin_N_180.txt\",\"PF01289_full_Thiol_cytolysin_243.txt\",\"negative\",\"pos_PF05105_seed_Phage_holin_4_1_131.txt\",\"pos_PF12261_full_T_hemolysin_327.txt\",\"PF07367_full_FB_lectin_171.txt\",\"pos_PF12261_full_T_hemolysin_327.txt\",\"negative\",\"negative\",\"negative\",\"negative\",\"negative\",\"negative\",\"PF01289_full_Thiol_cytolysin_243.txt\",\"negative\",\"negative\",\"negative\",\"pos_PF01117_full_Aerolysin_207.txt\",\"pos_PF03318_full_ETX_MTX2_440.txt\",\"negative\",\"pos_PF06369_full_anemone_cytotox_363.txt\",\"negative\",\"negative\",\"pos_PF06109_full_HlyE_62.txt\",\"PF01289_full_Thiol_cytolysin_243.txt\",\"pos_PF03318_full_ETX_MTX2_440.txt\",\"negative\",\"negative\",\"negative\",\"negative\",\"negative\",\"pos_PF03318_full_ETX_MTX2_440.txt\",\"pos_PF06109_full_HlyE_62.txt\",\"negative\",\"negative\",\"negative\",\"pos_PF01823_rp15_MACPF_659.txt\",\"pos_PF11393_full_T4BSS_DotI_IcmL_214.txt\",\"negative\",\"negative\",\"negative\",\"negative\",\"pos_PF03945_full_Endotoxin_N_180.txt\",\"negative\",\"negative\",\"pos_PF11393_full_T4BSS_DotI_IcmL_214.txt\",\"negative\",\"pos_PF12261_full_T_hemolysin_327.txt\",\"pos_PF11393_full_T4BSS_DotI_IcmL_214.txt\",\"pos_PF03318_full_ETX_MTX2_440.txt\",\"negative\",\"negative\",\"negative\",\"negative\",\"negative\",\"negative\",\"pos_PF01117_full_Aerolysin_207.txt\",\"negative\",\"negative\",\"negative\",\"pos_PF01823_rp15_MACPF_659.txt\",\"pos_PF05105_seed_Phage_holin_4_1_131.txt\",\"PF01289_full_Thiol_cytolysin_243.txt\",\"negative\",\"negative\",\"pos_PF01823_rp15_MACPF_659.txt\",\"negative\",\"negative\",\"negative\",\"negative\",\"negative\",\"negative\",\"negative\",\"negative\",\"pos_PF03945_full_Endotoxin_N_180.txt\",\"negative\",\"negative\",\"negative\",\"negative\",\"pos_PF06369_full_anemone_cytotox_363.txt\",\"pos_PF03318_full_ETX_MTX2_440.txt\",\"negative\",\"negative\",\"negative\",\"PF01289_full_Thiol_cytolysin_243.txt\",\"negative\",\"negative\",\"pos_PF06355_full_Aegerolysin_308.txt\",\"pos_PF03945_full_Endotoxin_N_180.txt\",\"pos_PF06109_full_HlyE_62.txt\",\"pos_PF12261_full_T_hemolysin_327.txt\",\"pos_PF03945_full_Endotoxin_N_180.txt\",\"pos_PF12261_full_T_hemolysin_327.txt\",\"negative\",\"pos_PF03318_full_ETX_MTX2_440.txt\",\"pos_PF03944_seed_Endotoxin_C_80.txt\",\"pos_PF01823_rp15_MACPF_659.txt\",\"negative\",\"negative\",\"negative\",\"pos_PF01117_full_Aerolysin_207.txt\",\"pos_PF12261_full_T_hemolysin_327.txt\",\"negative\",\"pos_PF01823_rp15_MACPF_659.txt\",\"negative\",\"negative\",\"negative\",\"pos_PF11393_full_T4BSS_DotI_IcmL_214.txt\",\"negative\",\"pos_PF04877_full_Harpin_35.txt\",\"pos_PF01823_rp15_MACPF_659.txt\",\"negative\",\"pos_PF05105_seed_Phage_holin_4_1_131.txt\",\"negative\",\"pos_PF03318_full_ETX_MTX2_440.txt\",\"negative\",\"pos_PF01823_rp15_MACPF_659.txt\",\"pos_PF03318_full_ETX_MTX2_440.txt\",\"negative\",\"pos_PF06355_full_Aegerolysin_308.txt\",\"negative\",\"pos_PF05802_full_EspB_60.txt\",\"pos_PF06355_full_Aegerolysin_308.txt\",\"pos_PF03944_seed_Endotoxin_C_80.txt\",\"pos_PF07968_full_Leukocidin_89.txt\",\"negative\",\"negative\",\"negative\",\"negative\",\"pos_PF01823_rp15_MACPF_659.txt\",\"pos_PF12261_full_T_hemolysin_327.txt\",\"negative\",\"negative\",\"PF07367_full_FB_lectin_171.txt\",\"negative\",\"negative\",\"pos_PF03944_seed_Endotoxin_C_80.txt\",\"negative\",\"negative\",\"negative\",\"negative\",\"pos_PF11393_full_T4BSS_DotI_IcmL_214.txt\",\"negative\",\"pos_PF11393_full_T4BSS_DotI_IcmL_214.txt\",\"negative\",\"negative\",\"negative\",\"negative\",\"negative\",\"negative\",\"PF01289_full_Thiol_cytolysin_243.txt\",\"negative\",\"negative\",\"negative\",\"PF00087_full_Toxin_TOLIP_333.txt\",\"pos_PF01823_rp15_MACPF_659.txt\",\"PF01289_full_Thiol_cytolysin_243.txt\",\"negative\",\"pos_PF00555_seed_Endotoxin_M_36.txt\",\"pos_PF03318_full_ETX_MTX2_440.txt\",\"negative\",\"PF07367_full_FB_lectin_171.txt\",\"PF07367_full_FB_lectin_171.txt\",\"pos_PF00555_seed_Endotoxin_M_36.txt\",\"negative\",\"pos_PF12261_full_T_hemolysin_327.txt\",\"pos_PF06355_full_Aegerolysin_308.txt\",\"negative\",\"negative\",\"negative\",\"negative\",\"negative\",\"negative\",\"negative\",\"pos_PF03318_full_ETX_MTX2_440.txt\",\"pos_PF18063_full_BB_PF_52.txt\",\"pos_PF03944_seed_Endotoxin_C_80.txt\",\"negative\",\"negative\",\"pos_PF01823_rp15_MACPF_659.txt\",\"negative\",\"pos_PF01117_full_Aerolysin_207.txt\",\"pos_PF12261_full_T_hemolysin_327.txt\",\"negative\",\"negative\",\"pos_PF12261_full_T_hemolysin_327.txt\",\"negative\",\"negative\",\"negative\",\"pos_PF01823_rp15_MACPF_659.txt\",\"pos_PF12261_full_T_hemolysin_327.txt\",\"negative\",\"negative\",\"negative\",\"pos_PF01117_full_Aerolysin_207.txt\",\"negative\",\"pos_PF06355_full_Aegerolysin_308.txt\",\"negative\",\"negative\",\"negative\",\"negative\",\"negative\",\"pos_PF01823_rp15_MACPF_659.txt\",\"negative\",\"PF11565_full_porB_30.txt\",\"pos_PF06355_full_Aegerolysin_308.txt\",\"negative\",\"negative\",\"pos_PF03318_full_ETX_MTX2_440.txt\",\"pos_PF06355_full_Aegerolysin_308.txt\",\"PF07367_full_FB_lectin_171.txt\",\"negative\",\"negative\",\"negative\",\"pos_PF01823_rp15_MACPF_659.txt\",\"pos_PF03318_full_ETX_MTX2_440.txt\",\"negative\",\"pos_PF18063_full_BB_PF_52.txt\",\"negative\",\"pos_PF12261_full_T_hemolysin_327.txt\",\"pos_PF03318_full_ETX_MTX2_440.txt\",\"pos_PF06355_full_Aegerolysin_308.txt\",\"negative\",\"negative\",\"negative\",\"negative\",\"negative\",\"pos_PF06369_full_anemone_cytotox_363.txt\",\"pos_PF01338_full_Bac_thur_toxin_87.txt\",\"negative\",\"pos_PF01823_rp15_MACPF_659.txt\",\"negative\",\"pos_PF06355_full_Aegerolysin_308.txt\",\"pos_PF03945_full_Endotoxin_N_180.txt\",\"negative\",\"negative\",\"negative\",\"negative\",\"pos_PF12261_full_T_hemolysin_327.txt\",\"pos_PF05802_full_EspB_60.txt\",\"negative\",\"negative\",\"pos_PF11393_full_T4BSS_DotI_IcmL_214.txt\"],\"label\":[6,6,6,6,4,6,6,6,16,16,6,6,21,6,12,6,11,6,0,6,6,6,6,12,6,6,23,6,6,6,1,6,6,17,17,6,6,6,5,1,11,6,6,6,23,22,6,6,6,11,4,24,23,6,6,12,6,6,6,21,6,6,0,11,6,6,6,6,6,11,0,6,6,22,6,6,6,20,6,6,8,6,5,17,6,1,6,11,26,6,6,6,20,6,6,15,4,6,0,6,12,9,17,6,6,6,15,9,6,6,6,6,15,15,0,21,17,6,6,11,11,6,16,6,6,6,6,6,6,11,9,6,20,11,6,11,28,6,20,19,0,15,6,9,6,6,11,6,6,16,6,6,15,6,6,6,12,6,6,6,6,6,6,6,6,9,17,6,26,11,6,6,6,6,24,6,6,6,12,6,3,4,12,6,6,11,6,1,1,6,6,22,6,6,6,3,6,23,15,6,24,6,11,6,6,6,22,12,9,6,6,18,18,6,6,5,23,6,6,6,6,3,6,6,24,6,6,6,20,18,25,19,26,12,3,6,15,14,17,9,6,6,6,6,6,20,6,6,6,0,9,6,6,6,22,6,6,6,24,17,6,6,6,6,6,6,6,6,6,1,6,1,6,6,6,11,10,12,9,11,6,6,0,6,6,6,9,6,15,6,17,6,24,15,11,6,6,6,6,6,0,6,6,6,6,5,6,6,0,14,6,6,6,6,6,6,14,20,24,6,6,6,6,14,18,6,6,6,6,6,6,6,23,6,6,6,15,6,6,6,0,6,5,11,9,6,6,6,21,6,1,6,21,6,12,4,6,26,24,20,21,6,11,1,6,4,26,1,6,6,9,6,20,6,12,6,11,6,16,9,6,23,17,22,12,6,11,1,6,6,11,3,22,6,6,11,11,6,6,11,6,6,21,1,25,6,4,11,12,6,6,6,24,6,14,6,6,7,6,6,6,6,6,6,23,6,6,6,11,6,6,6,6,6,11,6,6,6,17,6,10,28,6,24,6,6,20,4,6,6,21,18,6,15,6,6,23,24,6,6,11,6,6,6,6,6,21,6,6,24,8,6,6,26,6,1,6,6,6,11,6,6,0,1,11,12,11,6,6,11,6,6,24,11,6,6,6,6,18,12,15,26,12,4,21,6,10,6,12,6,6,6,1,6,0,12,6,6,6,24,23,19,6,24,12,15,6,8,6,12,4,6,6,6,6,6,3,6,6,0,18,7,15,6,6,23,6,6,11,20,6,6,0,24,18,12,6,6,6,6,0,6,6,6,6,24,6,6,26,14,6,6,1,6,24,11,6,6,6,6,17,6,6,24,6,6,16,14,9,20,6,6,17,6,6,17,6,6,24,6,6,6,14,20,6,0,3,21,6,20,6,6,6,6,6,10,6,6,6,18,0,9,6,11,6,21,6,6,6,6,11,6,3,6,6,6,6,6,11,1,6,6,6,24,6,4,21,11,6,6,6,6,6,6,10,6,23,6,9,6,1,21,6,6,28,6,23,6,6,6,24,0,10,11,24,28,6,6,20,6,18,6,6,6,6,6,18,21,6,21,6,6,6,6,6,23,14,18,14,6,6,6,12,7,6,6,11,6,12,6,24,9,24,6,12,21,6,17,6,6,6,1,0,17,11,20,6,6,6,6,17,13,17,1,6,6,20,6,6,6,10,6,22,11,6,6,21,6,6,6,11,20,6,6,6,26,6,6,6,1,6,6,6,6,6,0,15,6,20,15,15,16,6,6,6,9,20,6,27,12,23,6,4,6,1,21,24,6,1,6,6,6,11,6,6,12,6,6,11,6,6,6,12,6,6,1,6,6,6,22,4,14,6,6,6,17,6,24,1,17,24,23,6,6,6,6,28,6,6,12,11,9,6,17,6,6,11,20,6,6,6,6,21,6,6,6,22,6,6,6,6,12,17,12,6,6,6,18,6,11,12,6,14,6,6,1,6,6,6,10,8,6,12,6,24,6,12,6,6,6,6,7,6,6,6,6,15,29,6,11,7,6,6,23,12,20,6,6,23,6,28,11,6,6,6,6,6,14,11,11,6,24,6,2,6,4,6,6,11,6,6,6,6,6,6,6,6,18,6,11,11,6,6,6,21,6,9,19,6,6,6,6,21,6,24,6,6,24,6,5,22,28,6,6,21,6,6,6,6,6,11,6,6,24,6,20,6,23,11,6,6,6,6,12,11,6,24,6,6,6,24,12,11,6,6,6,20,11,6,7,24,6,9,6,6,6,21,21,6,11,24,20,6,28,6,15,28,6,24,0,6,11,6,23,6,20,6,6,11,6,23,17,6,6,6,6,6,6,6,15,4,23,6,6,0,6,6,6,6,6,6,14,11,9,6,12,6,0,6,1,6,21,11,15,6,6,6,0,6,6,12,10,6,12,6,21,6,6,20,6,6,2,15,11,24,12,9,6,6,6,6,11,6,11,6,6,12,8,18,6,6,11,24,6,28,9,6,6,1,6,6,6,22,11,6,11,12,24,22,17,6,6,6,6,23,5,6,6,6,6,6,6,11,6,6,6,11,15,10,21,6,6,6,24,6,20,6,6,6,0,24,6,6,6,6,19,6,6,6,12,24,11,11,6,6,12,6,15,6,6,6,6,16,11,6,0,1,9,6,6,4,6,6,12,21,6,6,6,11,6,20,11,6,6,6,24,6,11,6,6,11,12,24,6,11,6,28,6,6,6,6,6,6,6,6,6,6,6,6,6,6,16,6,6,15,6,19,6,6,6,1,6,1,6,11,6,6,0,6,6,6,6,6,6,6,6,6,1,6,6,6,13,6,3,6,6,24,6,1,9,20,6,6,11,6,6,24,9,6,11,1,6,6,11,6,27,11,6,23,22,6,6,6,6,5,18,6,6,19,11,11,21,6,6,6,6,6,6,6,6,17,6,1,6,15,10,21,6,6,6,6,6,6,6,6,8,6,24,24,4,23,14,6,6,6,11,6,6,6,23,12,6,6,6,6,28,3,23,6,3,11,11,1,6,15,6,17,4,6,11,6,5,6,17,6,6,6,6,6,6,6,6,11,21,12,6,6,24,11,1,14,6,15,25,6,6,6,6,6,6,6,20,24,6,23,6,23,14,6,24,6,6,23,6,12,11,24,17,6,0,21,6,6,18,6,6,6,3,17,10,6,24,6,18,11,24,6,18,14,6,6,6,6,24,17,15,6,6,6,6,6,6,12,6,23,1,22,6,28,6,6,0,6,6,6,1,24,12,12,7,6,6,14,6,4,6,6,12,6,6,17,6,6,6,23,6,6,6,0,0,27,24,6,12,11,6,6,6,6,23,21,6,24,24,9,6,6,6,9,1,4,24,0,6,11,9,1,6,6,6,6,0,24,6,6,6,6,6,6,1,6,6,6,23,6,0,6,12,6,6,6,6,6,6,24,1,11,6,6,23,6,9,12,11,6,6,6,6,6,6,6,6,21,6,9,23,12,6,20,12,7,6,15,11,11,2,6,6,6,18,10,24,6,6,6,11,0,6,6,6,6,21,6,22,6,6,17,10,4,6,6,9,24,12,6,17,24,11,20,17,21,6,20,6,3,17,6,6,18,13,6,0,6,4,12,16,6,4,2,19,6,17,1,6,24,23,9,6,6,6,18,6,20,21,17,24,1,6,6,21,6,6,11,11,11,21,9,24,12,6,12,6,3,6,9,6,24,6,6,6,11,6,6,20,11,6,6,6,4,6,6,1,21,0,11,6,11,6,4,6,6,6,6,6,6,6,20,6,6,6,6,6,21,20,6,6,6,6,6,6,6,6,0,6,6,6,6,11,6,6,6,6,6,6,6,6,11,6,26,20,11,6,6,6,6,6,6,6,6,6,6,24,6,6,20,6,6,14,6,6,6,6,9,11,6,6,6,24,22,6,20,6,21,6,21,17,12,12,1,11,6,6,11,6,6,24,6,6,6,7,12,23,6,6,11,6,6,6,7,3,6,6,11,28,21,6,11,6,11,6,15,4,20,6,22,6,21,6,24,6,24,6,6,12,1,6,15,6,21,6,6,23,24,6,6,1,6,4,14,4,6,6,27,6,6,6,1,6,21,10,6,6,17,21,6,6,1,6,25,12,9,6,6,6,15,6,22,6,20,1,6,11,6,12,6,21,6,6,20,6,12,6,6,6,17,6,11,11,20,12,17,15,1,28,23,6,6,6,25,6,12,6,6,17,6,6,1,6,6,6,19,1,15,11,6,24,1,6,11,20,12,4,6,6,9,6,6,6,6,6,1,19,6,17,11,6,6,10,6,6,1,21,6,6,11,17,6,6,6,6,6,6,20,23,11,6,6,21,6,6,21,6,6,6,11,11,6,9,6,6,9,15,6,18,12,6,24,1,6,6,6,6,6,12,6,15,6,6,6,6,6,6,6,21,6,20,17,4,6,6,6,6,23,6,6,6,6,6,11,9,24,6,6,21,14,20,6,14,6,6,26,6,6,6,11,6,1,6,27,6,6,6,15,23,12,12,6,17,20,6,21,6,6,6,6,6,6,6,12,6,6,6,6,21,12,20,6,21,6,6,6,6,6,6,11,6,21,24,11,1,20,6,6,7,11,6,1,6,6,6,24,6,6,12,6,11,23,6,6,6,6,6,6,24,20,4,6,12,6,6,28,6,6,6,6,6,6,1,21,6,4,12,15,20,3,6,12,4,12,6,6,6,3,6,6,6,6,13,6,6,6,17,6,6,6,6,12,27,23,6,11,6,6,6,12,2,11,6,21,6,6,21,11,11,6,6,7,6,12,11,6,6,19,6,6,19,6,21,19,6,7,24,6,19,6,6,9,11,0,11,6,6,6,6,6,6,24,17,9,6,11,6,6,23,6,6,6,9,21,24,6,14,11,6,6,6,6,6,24,6,6,21,23,14,6,21,10,24,6,6,6,11,6,6,28,6,11,6,6,10,11,4,6,6,11,6,6,11,6,0,6,11,6,23,6,3,6,6,6,6,6,6,12,6,6,6,6,6,6,9,6,6,24,6,6,16,12,11,11,17,6,24,22,6,0,6,6,11,6,14,6,6,6,12,6,6,10,6,0,15,25,11,6,6,6,6,6,0,23,6,6,6,24,6,26,6,12,11,24,4,6,6,9,19,11,6,0,6,4,15,6,11,15,6,6,6,17,6,6,13,12,6,6,6,20,4,6,6,15,23,11,6,6,4,6,20,6,6,6,6,6,6,6,25,20,6,11,5,6,6,6,11,6,6,0,6,5,6,6,6,11,15,12,24,4,6,6,24,20,29,6,1,15,6,17,4,6,6,5,6,22,15,6,6,6,6,6,20,6,19,6,6,24,8,0,1,6,12,6,6,6,12,6,6,20,12,15,11,6,6,6,6,6,27,1,6,6,23,11,15,6,11,6,12,20,12,0,6,6,17,6,6,1,6,6,21,20,6,11,11,20,6,23,6,11,6,6,6,6,6,11,24,6,20,6,11,0,6,6,21,4,6,20,6,12,6,6,20,6,24,24,6,6,6,6,6,14,6,2,7,15,9,19,20,20,11,6,6,20,20,1,7,6,6,6,6,0,18,1,3,6,19,15,6,6,6,6,14,6,6,6,6,6,6,6,6,11,0,6,8,6,6,11,11,6,14,12,6,10,11,17,6,6,21,6,20,15,6,6,24,23,6,6,6,6,6,1,6,6,18,21,24,6,21,0,11,17,6,11,6,6,6,6,6,6,12,6,18,28,6,6,1,24,6,6,24,6,6,28,6,10,6,11,12,24,24,6,6,24,6,21,6,6,24,6,6,1,15,12,6,12,6,18,6,6,12,20,6,26,6,6,6,6,6,6,11,6,6,6,6,6,6,6,6,12,6,6,6,6,26,6,6,6,6,6,6,6,21,6,11,6,6,6,12,6,6,14,6,6,6,6,6,11,12,6,6,6,11,17,6,6,6,6,6,6,6,6,6,21,6,6,6,11,6,1,23,6,6,11,24,27,1,6,6,19,7,6,6,12,15,6,6,6,6,14,6,6,6,6,6,15,1,6,6,6,6,6,23,6,6,6,6,20,6,6,6,9,9,6,29,9,6,11,6,6,6,6,6,6,6,23,6,6,6,6,24,11,6,14,6,14,6,6,6,6,6,6,15,6,6,6,21,6,6,11,6,1,20,6,9,11,14,16,6,23,6,6,6,6,6,21,6,4,6,6,6,6,17,17,6,6,21,28,11,6,6,6,22,11,9,6,6,6,24,6,11,9,3,6,7,1,11,11,6,6,11,23,6,6,12,6,6,6,24,6,20,11,6,11,6,6,6,6,4,6,6,1,6,12,6,6,12,6,6,6,6,6,6,6,11,6,6,6,6,6,6,15,6,6,6,6,3,4,10,6,6,6,27,6,6,6,21,24,6,6,6,6,10,10,6,10,20,6,19,6,6,28,24,23,11,6,6,6,6,20,6,6,6,6,6,6,6,6,6,19,6,22,6,1,6,14,6,6,6,1,6,20,15,6,15,12,12,6,11,6,6,6,24,6,12,6,6,6,6,1,6,11,23,6,28,26,6,6,24,24,6,6,12,11,3,28,6,0,23,1,12,1,6,23,1,6,3,12,24,6,6,0,6,10,11,6,6,6,6,9,6,6,6,12,6,17,6,11,6,6,6,6,7,6,6,6,24,6,6,22,11,6,0,20,6,11,6,11,1,6,6,21,6,11,11,12,6,6,6,6,9,6,6,11,4,11,6,6,6,6,24,6,11,17,12,6,20,1,11,11,6,6,6,6,0,6,6,11,1,6,6,6,6,12,6,6,6,24,6,17,6,6,6,6,6,4,6,6,6,12,6,6,6,6,16,6,10,0,2,6,6,21,17,21,6,6,9,6,6,23,3,25,6,12,6,11,0,14,24,17,23,1,12,12,6,6,22,24,0,6,6,12,6,6,6,6,6,6,11,12,12,12,20,26,1,6,6,23,6,6,10,6,6,15,7,6,6,6,11,6,6,6,6,23,6,6,6,16,11,6,6,21,6,6,6,9,8,6,23,12,9,6,12,6,6,3,6,6,6,6,6,6,6,23,6,24,6,6,6,6,6,6,15,24,4,1,6,6,18,9,11,6,6,6,24,6,6,11,6,6,6,6,21,1,6,6,9,24,12,10,6,6,6,6,10,14,6,6,24,12,1,6,23,6,12,1,6,6,12,20,11,6,12,5,6,12,6,24,6,6,6,12,6,6,6,6,6,20,6,6,6,6,9,6,6,23,6,6,6,6,9,6,11,6,1,6,6,6,6,6,6,14,6,6,6,6,21,6,11,6,6,21,6,24,16,6,12,6,6,6,6,6,6,6,28,12,11,14,6,6,6,6,6,6,6,10,6,14,9,11,21,20,6,6,6,12,20,6,6,22,6,5,6,6,1,6,6,6,3,20,21,6,11,24,6,20,12,6,6,6,21,23,20,15,22,1,6,6,26,6,24,6,6,9,6,6,26,1,6,6,15,6,19,6,11,15,6,11,11,17,6,19,18,12,9,18,6,1,6,6,6,12,6,6,15,6,20,1,6,10,21,6,6,6,6,6,1,6,15,11,12,15,6,6,11,11,23,6,10,17,6,3,6,16,22,6,6,6,6,6,6,6,6,6,10,22,24,6,15,6,6,3,18,6,6,8,6,20,6,14,6,6,23,6,1,0,6,23,18,21,0,26,15,6,6,9,28,6,21,6,6,12,6,16,6,6,11,16,23,6,6,4,15,6,6,6,24,10,1,6,6,6,6,6,6,6,6,6,6,6,8,24,6,6,19,6,6,24,20,11,6,23,6,5,6,23,12,1,11,6,6,21,6,6,9,6,11,6,11,6,23,6,28,11,11,6,6,6,29,6,6,6,6,6,6,6,6,12,20,6,11,18,6,6,6,6,27,6,6,6,11,8,6,15,6,22,6,12,6,6,11,6,6,6,29,6,6,9,11,6,24,6,24,14,12,6,6,6,6,6,6,24,6,9,6,12,17,6,6,24,6,9,6,6,6,6,6,21,17,9,15,6,6,6,11,11,6,6,6,23,10,6,4,24,14,6,6,11,6,6,24,6,16,6,6,6,6,6,6,9,6,10,6,8,6,6,6,6,6,24,6,6,6,1,4,6,6,6,6,6,1,11,24,6,14,6,6,6,6,6,6,6,6,21,6,6,11,10,12,28,6,15,6,6,6,9,6,15,6,6,6,24,20,4,12,6,6,6,11,6,12,18,20,0,11,6,6,6,19,9,6,6,6,1,6,6,11,6,11,6,5,21,21,23,6,6,11,12,6,24,11,6,11,6,6,6,11,11,6,20,6,11,26,6,23,6,6,6,6,6,6,6,20,6,6,11,3,6,6,12,23,6,6,11,6,17,23,1,6,6,11,6,22,6,6,12,6,12,6,19,6,6,6,6,6,0,6,6,6,6,6,6,6,6,6,24,6,18,6,6,6,5,6,6,21,6,6,1,11,21,6,6,12,12,6,6,4,24,1,8,6,6,22,6,6,4,6,12,15,6,24,6,12,6,6,6,6,6,24,23,6,19,6,6,6,6,6,5,6,24,24,12,6,12,6,6,6,12,6,1,6,6,23,6,6,6,21,0,6,10,1,6,6,1,6,6,6,6,6,6,6,6,6,6,6,6,23,6,6,11,18,6,8,2,6,14,6,0,6,6,11,1,10,6,6,6,6,4,4,6,4,6,6,24,6,0,17,6,6,6,24,6,6,6,24,6,4,12,17,6,6,20,24,18,9,6,11,19,28,4,8,6,6,24,22,6,6,24,6,18,6,11,6,11,6,14,20,6,20,6,11,12,6,23,12,20,15,1,6,6,6,6,6,12,21,24,23,4,6,6,6,24,20,6,6,6,6,6,6,23,6,24,6,11,6,11,6,14,20,6,24,6,6,6,11,17,11,6,6,7,6,6,6,6,11,11,6,10,6,1,11,17,6,10,6,11,6,6,6,6,6,6,26,6,6,6,6,3,24,11,6,6,24,6,6,6,6,6,6,23,6,6,7,17,6,6,11,21,2,11,6,24,6,6,11,28,6,6,6,20,11,23,9,20,21,11,14,6,12,15,6,6,6,11,6,23,22,11,12,0,6,22,20,6,6,17,12,4,6,6,6,12,6,24,11,24,6,6,11,6,5,6,6,6,6,18,4,6,6,6,6,6,24,6,11,6,1,6,6,21,6,6,6,17,6,6,6,6,0,4,6,15,6,11,21,1,1,4,6,23,6,6,6,24,6,27,11,6,11,17,6,0,12,6,6,12,6,6,21,6,6,6,11,6,1,6,6,6,6,6,6,6,6,6,6,6,0,6,12,10,6,6,6,20,6,6,6,6,6,21,6,6,6,12,6,6,12,6,6,6,6,22,6,6,11,11,23,6,6,29,15,6,6,15,6,6,17,6,6,24,16,1,20,6,6,11,6,6,11,10,6,12,6,6,6,20,0,6,4,6,6,6,1,6,6,6,15,9,6,6,7,6,6,6,11,11,24,19,6,9,24,21,6,6,12,6,6,0,13,6,19,6,6,24,6,6,6,6,6,6,16,6,6,6,12,6,0,6,6,23,6,6,6,6,6,11,6,6,20,15,6,18,6,24,6,6,6,12,4,24,5,6,21,6,6,12,6,14,3,16,12,6,11,6,12,6,24,6,6,6,6,6,6,6,6,21,6,21,21,21,1,6,11,6,9,6,10,6,6,6,6,6,4,6,24,15,15,0,6,6,6,6,12,6,6,28,6,6,1,4,6,6,23,20,12,6,20,12,6,11,6,6,12,6,12,6,6,6,19,6,1,6,24,6,6,16,28,11,6,6,6,6,6,6,21,6,24,11,1,24,20,28,6,23,6,12,21,11,11,21,6,6,24,6,17,9,12,11,6,6,6,6,23,8,6,24,6,11,6,11,23,6,11,6,6,11,12,24,6,6,1,6,6,6,3,6,6,11,6,6,6,6,18,23,6,6,21,6,12,17,24,6,17,6,9,11,6,24,6,6,15,6,6,6,6,17,6,6,12,6,6,11,24,6,6,6,17,1,6,20,20,21,6,6,6,11,6,20,28,12,16,11,6,14,11,6,20,6,6,17,17,21,12,6,6,20,6,24,6,6,24,6,6,10,12,23,6,24,7,6,11,1,11,21,8,6,6,6,6,6,6,26,6,26,11,6,6,6,15,17,11,6,6,23,11,6,11,24,6,23,10,6,6,6,3,14,6,6,11,6,7,6,20,6,6,6,24,6,6,12,15,20,26,24,6,24,11,6,12,6,6,6,6,6,24,6,6,28,22,6,17,11,6,6,23,11,6,1,11,6,6,6,6,6,9,6,20,21,6,24,23,6,6,6,6,21,6,1,6,6,6,11,21,23,6,1,9,6,6,6,6,1,6,6,6,6,6,6,6,6,21,6,6,6,6,11,6,6,6,6,6,11,6,6,12,6,11,24,11,6,6,6,12,6,6,6,6,6,23,8,6,6,16,6,6,6,15,6,1,11,6,23,6,11,6,6,0,12,8,11,21,23,6,0,6,6,6,11,11,23,6,6,6,24,14,6,6,1,6,6,6,10,6,6,12,6,15,23,6,6,6,6,11,6,6,6,6,6,6,0,17,6,21,17,6,6,24,6,11,6,12,6,12,6,15,11,6,24,6,6,6,4,24,11,6,12,6,6,6,6,6,6,6,6,6,6,6,6,12,23,6,6,6,6,6,9,6,11,6,6,6,6,24,6,6,28,6,6,6,10,6,11,6,6,6,1,15,6,6,21,6,9,6,12,14,6,6,6,6,11,6,6,17,14,6,6,15,20,6,6,6,6,6,1,18,3,6,6,11,1,6,21,6,6,6,6,9,25,4,6,6,11,1,11,6,24,23,19,0,6,4,6,6,15,6,6,6,12,6,24,6,0,6,6,6,6,6,6,6,6,6,6,6,24,6,14,20,6,6,15,24,6,6,28,6,6,6,21,6,6,4,11,24,6,12,23,6,18,6,26,12,6,6,6,6,6,6,1,6,6,5,11,6,28,24,6,23,6,17,6,4,6,1,12,23,11,11,3,11,6,12,24,24,23,6,6,15,6,12,6,6,24,24,21,6,6,6,6,6,6,17,6,24,6,6,6,6,21,6,0,20,6,6,6,20,6,6,6,6,6,6,6,6,6,11,6,8,24,24,17,24,6,6,9,24,19,6,6,6,4,6,6,6,6,6,6,6,6,6,26,6,19,23,5,15,1,6,17,24,4,24,6,6,6,6,6,6,1,6,6,6,9,12,6,21,6,6,19,1,12,6,6,6,6,6,12,19,6,6,6,11,23,6,6,6,6,15,6,6,23,6,24,23,12,6,6,6,6,6,6,9,6,6,6,11,17,1,6,6,11,6,6,6,6,6,6,6,6,15,6,6,6,6,21,12,6,6,6,1,6,6,20,15,19,24,15,24,6,12,14,11,6,6,6,9,24,6,11,6,6,6,23,6,16,11,6,17,6,12,6,11,12,6,20,6,18,20,14,22,6,6,6,6,11,24,6,6,4,6,6,14,6,6,6,6,23,6,23,6,6,6,6,6,6,1,6,6,6,0,11,1,6,7,12,6,4,4,7,6,24,20,6,6,6,6,6,6,6,12,28,14,6,6,11,6,9,24,6,6,24,6,6,6,11,24,6,6,6,9,6,20,6,6,6,6,6,11,6,5,20,6,6,12,20,4,6,6,6,11,12,6,28,6,24,12,20,6,6,6,6,6,21,10,6,11,6,20,15,6,6,6,6,24,18,6,6,23],\"level_0\":[0,1,2,3,4,5,6,7,8,9,10,11,12,13,14,15,16,17,18,19,20,21,22,23,24,25,26,27,28,29,30,31,32,33,34,35,36,37,38,39,40,41,42,43,44,45,46,47,48,49,50,51,52,53,54,55,56,57,58,59,60,61,62,63,64,65,66,67,68,69,70,71,72,73,74,75,76,77,78,79,80,81,82,83,84,85,86,87,88,89,90,91,92,93,94,95,96,97,98,99,100,101,102,103,104,105,106,107,108,109,110,111,112,113,114,115,116,117,118,119,120,121,122,123,124,125,126,127,128,129,130,131,132,133,134,135,136,137,138,139,140,141,142,143,144,145,146,147,148,149,150,151,152,153,154,155,156,157,158,159,160,161,162,163,164,165,166,167,168,169,170,171,172,173,174,175,176,177,178,179,180,181,182,183,184,185,186,187,188,189,190,191,192,193,194,195,196,197,198,199,200,201,202,203,204,205,206,207,208,209,210,211,212,213,214,215,216,217,218,219,220,221,222,223,224,225,226,227,228,229,230,231,232,233,234,235,236,237,238,239,240,241,242,243,244,245,246,247,248,249,250,251,252,253,254,255,256,257,258,259,260,261,262,263,264,265,266,267,268,269,270,271,272,273,274,275,276,277,278,279,280,281,282,283,284,285,286,287,288,289,290,291,292,293,294,295,296,297,298,299,300,301,302,303,304,305,306,307,308,309,310,311,312,313,314,315,316,317,318,319,320,321,322,323,324,325,326,327,328,329,330,331,332,333,334,335,336,337,338,339,340,341,342,343,344,345,346,347,348,349,350,351,352,353,354,355,356,357,358,359,360,361,362,363,364,365,366,367,368,369,370,371,372,373,374,375,376,377,378,379,380,381,382,383,384,385,386,387,388,389,390,391,392,393,394,395,396,397,398,399,400,401,402,403,404,405,406,407,408,409,410,411,412,413,414,415,416,417,418,419,420,421,422,423,424,425,426,427,428,429,430,431,432,433,434,435,436,437,438,439,440,441,442,443,444,445,446,447,448,449,450,451,452,453,454,455,456,457,458,459,460,461,462,463,464,465,466,467,468,469,470,471,472,473,474,475,476,477,478,479,480,481,482,483,484,485,486,487,488,489,490,491,492,493,494,495,496,497,498,499,500,501,502,503,504,505,506,507,508,509,510,511,512,513,514,515,516,517,518,519,520,521,522,523,524,525,526,527,528,529,530,531,532,533,534,535,536,537,538,539,540,541,542,543,544,545,546,547,548,549,550,551,552,553,554,555,556,557,558,559,560,561,562,563,564,565,566,567,568,569,570,571,572,573,574,575,576,577,578,579,580,581,582,583,584,585,586,587,588,589,590,591,592,593,594,595,596,597,598,599,600,601,602,603,604,605,606,607,608,609,610,611,612,613,614,615,616,617,618,619,620,621,622,623,624,625,626,627,628,629,630,631,632,633,634,635,636,637,638,639,640,641,642,643,644,645,646,647,648,649,650,651,652,653,654,655,656,657,658,659,660,661,662,663,664,665,666,667,668,669,670,671,672,673,674,675,676,677,678,679,680,681,682,683,684,685,686,687,688,689,690,691,692,693,694,695,696,697,698,699,700,701,702,703,704,705,706,707,708,709,710,711,712,713,714,715,716,717,718,719,720,721,722,723,724,725,726,727,728,729,730,731,732,733,734,735,736,737,738,739,740,741,742,743,744,745,746,747,748,749,750,751,752,753,754,755,756,757,758,759,760,761,762,763,764,765,766,767,768,769,770,771,772,773,774,775,776,777,778,779,780,781,782,783,784,785,786,787,788,789,790,791,792,793,794,795,796,797,798,799,800,801,802,803,804,805,806,807,808,809,810,811,812,813,814,815,816,817,818,819,820,821,822,823,824,825,826,827,828,829,830,831,832,833,834,835,836,837,838,839,840,841,842,843,844,845,846,847,848,849,850,851,852,853,854,855,856,857,858,859,860,861,862,863,864,865,866,867,868,869,870,871,872,873,874,875,876,877,878,879,880,881,882,883,884,885,886,887,888,889,890,891,892,893,894,895,896,897,898,899,900,901,902,903,904,905,906,907,908,909,910,911,912,913,914,915,916,917,918,919,920,921,922,923,924,925,926,927,928,929,930,931,932,933,934,935,936,937,938,939,940,941,942,943,944,945,946,947,948,949,950,951,952,953,954,955,956,957,958,959,960,961,962,963,964,965,966,967,968,969,970,971,972,973,974,975,976,977,978,979,980,981,982,983,984,985,986,987,988,989,990,991,992,993,994,995,996,997,998,999,1000,1001,1002,1003,1004,1005,1006,1007,1008,1009,1010,1011,1012,1013,1014,1015,1016,1017,1018,1019,1020,1021,1022,1023,1024,1025,1026,1027,1028,1029,1030,1031,1032,1033,1034,1035,1036,1037,1038,1039,1040,1041,1042,1043,1044,1045,1046,1047,1048,1049,1050,1051,1052,1053,1054,1055,1056,1057,1058,1059,1060,1061,1062,1063,1064,1065,1066,1067,1068,1069,1070,1071,1072,1073,1074,1075,1076,1077,1078,1079,1080,1081,1082,1083,1084,1085,1086,1087,1088,1089,1090,1091,1092,1093,1094,1095,1096,1097,1098,1099,1100,1101,1102,1103,1104,1105,1106,1107,1108,1109,1110,1111,1112,1113,1114,1115,1116,1117,1118,1119,1120,1121,1122,1123,1124,1125,1126,1127,1128,1129,1130,1131,1132,1133,1134,1135,1136,1137,1138,1139,1140,1141,1142,1143,1144,1145,1146,1147,1148,1149,1150,1151,1152,1153,1154,1155,1156,1157,1158,1159,1160,1161,1162,1163,1164,1165,1166,1167,1168,1169,1170,1171,1172,1173,1174,1175,1176,1177,1178,1179,1180,1181,1182,1183,1184,1185,1186,1187,1188,1189,1190,1191,1192,1193,1194,1195,1196,1197,1198,1199,1200,1201,1202,1203,1204,1205,1206,1207,1208,1209,1210,1211,1212,1213,1214,1215,1216,1217,1218,1219,1220,1221,1222,1223,1224,1225,1226,1227,1228,1229,1230,1231,1232,1233,1234,1235,1236,1237,1238,1239,1240,1241,1242,1243,1244,1245,1246,1247,1248,1249,1250,1251,1252,1253,1254,1255,1256,1257,1258,1259,1260,1261,1262,1263,1264,1265,1266,1267,1268,1269,1270,1271,1272,1273,1274,1275,1276,1277,1278,1279,1280,1281,1282,1283,1284,1285,1286,1287,1288,1289,1290,1291,1292,1293,1294,1295,1296,1297,1298,1299,1300,1301,1302,1303,1304,1305,1306,1307,1308,1309,1310,1311,1312,1313,1314,1315,1316,1317,1318,1319,1320,1321,1322,1323,1324,1325,1326,1327,1328,1329,1330,1331,1332,1333,1334,1335,1336,1337,1338,1339,1340,1341,1342,1343,1344,1345,1346,1347,1348,1349,1350,1351,1352,1353,1354,1355,1356,1357,1358,1359,1360,1361,1362,1363,1364,1365,1366,1367,1368,1369,1370,1371,1372,1373,1374,1375,1376,1377,1378,1379,1380,1381,1382,1383,1384,1385,1386,1387,1388,1389,1390,1391,1392,1393,1394,1395,1396,1397,1398,1399,1400,1401,1402,1403,1404,1405,1406,1407,1408,1409,1410,1411,1412,1413,1414,1415,1416,1417,1418,1419,1420,1421,1422,1423,1424,1425,1426,1427,1428,1429,1430,1431,1432,1433,1434,1435,1436,1437,1438,1439,1440,1441,1442,1443,1444,1445,1446,1447,1448,1449,1450,1451,1452,1453,1454,1455,1456,1457,1458,1459,1460,1461,1462,1463,1464,1465,1466,1467,1468,1469,1470,1471,1472,1473,1474,1475,1476,1477,1478,1479,1480,1481,1482,1483,1484,1485,1486,1487,1488,1489,1490,1491,1492,1493,1494,1495,1496,1497,1498,1499,1500,1501,1502,1503,1504,1505,1506,1507,1508,1509,1510,1511,1512,1513,1514,1515,1516,1517,1518,1519,1520,1521,1522,1523,1524,1525,1526,1527,1528,1529,1530,1531,1532,1533,1534,1535,1536,1537,1538,1539,1540,1541,1542,1543,1544,1545,1546,1547,1548,1549,1550,1551,1552,1553,1554,1555,1556,1557,1558,1559,1560,1561,1562,1563,1564,1565,1566,1567,1568,1569,1570,1571,1572,1573,1574,1575,1576,1577,1578,1579,1580,1581,1582,1583,1584,1585,1586,1587,1588,1589,1590,1591,1592,1593,1594,1595,1596,1597,1598,1599,1600,1601,1602,1603,1604,1605,1606,1607,1608,1609,1610,1611,1612,1613,1614,1615,1616,1617,1618,1619,1620,1621,1622,1623,1624,1625,1626,1627,1628,1629,1630,1631,1632,1633,1634,1635,1636,1637,1638,1639,1640,1641,1642,1643,1644,1645,1646,1647,1648,1649,1650,1651,1652,1653,1654,1655,1656,1657,1658,1659,1660,1661,1662,1663,1664,1665,1666,1667,1668,1669,1670,1671,1672,1673,1674,1675,1676,1677,1678,1679,1680,1681,1682,1683,1684,1685,1686,1687,1688,1689,1690,1691,1692,1693,1694,1695,1696,1697,1698,1699,1700,1701,1702,1703,1704,1705,1706,1707,1708,1709,1710,1711,1712,1713,1714,1715,1716,1717,1718,1719,1720,1721,1722,1723,1724,1725,1726,1727,1728,1729,1730,1731,1732,1733,1734,1735,1736,1737,1738,1739,1740,1741,1742,1743,1744,1745,1746,1747,1748,1749,1750,1751,1752,1753,1754,1755,1756,1757,1758,1759,1760,1761,1762,1763,1764,1765,1766,1767,1768,1769,1770,1771,1772,1773,1774,1775,1776,1777,1778,1779,1780,1781,1782,1783,1784,1785,1786,1787,1788,1789,1790,1791,1792,1793,1794,1795,1796,1797,1798,1799,1800,1801,1802,1803,1804,1805,1806,1807,1808,1809,1810,1811,1812,1813,1814,1815,1816,1817,1818,1819,1820,1821,1822,1823,1824,1825,1826,1827,1828,1829,1830,1831,1832,1833,1834,1835,1836,1837,1838,1839,1840,1841,1842,1843,1844,1845,1846,1847,1848,1849,1850,1851,1852,1853,1854,1855,1856,1857,1858,1859,1860,1861,1862,1863,1864,1865,1866,1867,1868,1869,1870,1871,1872,1873,1874,1875,1876,1877,1878,1879,1880,1881,1882,1883,1884,1885,1886,1887,1888,1889,1890,1891,1892,1893,1894,1895,1896,1897,1898,1899,1900,1901,1902,1903,1904,1905,1906,1907,1908,1909,1910,1911,1912,1913,1914,1915,1916,1917,1918,1919,1920,1921,1922,1923,1924,1925,1926,1927,1928,1929,1930,1931,1932,1933,1934,1935,1936,1937,1938,1939,1940,1941,1942,1943,1944,1945,1946,1947,1948,1949,1950,1951,1952,1953,1954,1955,1956,1957,1958,1959,1960,1961,1962,1963,1964,1965,1966,1967,1968,1969,1970,1971,1972,1973,1974,1975,1976,1977,1978,1979,1980,1981,1982,1983,1984,1985,1986,1987,1988,1989,1990,1991,1992,1993,1994,1995,1996,1997,1998,1999,2000,2001,2002,2003,2004,2005,2006,2007,2008,2009,2010,2011,2012,2013,2014,2015,2016,2017,2018,2019,2020,2021,2022,2023,2024,2025,2026,2027,2028,2029,2030,2031,2032,2033,2034,2035,2036,2037,2038,2039,2040,2041,2042,2043,2044,2045,2046,2047,2048,2049,2050,2051,2052,2053,2054,2055,2056,2057,2058,2059,2060,2061,2062,2063,2064,2065,2066,2067,2068,2069,2070,2071,2072,2073,2074,2075,2076,2077,2078,2079,2080,2081,2082,2083,2084,2085,2086,2087,2088,2089,2090,2091,2092,2093,2094,2095,2096,2097,2098,2099,2100,2101,2102,2103,2104,2105,2106,2107,2108,2109,2110,2111,2112,2113,2114,2115,2116,2117,2118,2119,2120,2121,2122,2123,2124,2125,2126,2127,2128,2129,2130,2131,2132,2133,2134,2135,2136,2137,2138,2139,2140,2141,2142,2143,2144,2145,2146,2147,2148,2149,2150,2151,2152,2153,2154,2155,2156,2157,2158,2159,2160,2161,2162,2163,2164,2165,2166,2167,2168,2169,2170,2171,2172,2173,2174,2175,2176,2177,2178,2179,2180,2181,2182,2183,2184,2185,2186,2187,2188,2189,2190,2191,2192,2193,2194,2195,2196,2197,2198,2199,2200,2201,2202,2203,2204,2205,2206,2207,2208,2209,2210,2211,2212,2213,2214,2215,2216,2217,2218,2219,2220,2221,2222,2223,2224,2225,2226,2227,2228,2229,2230,2231,2232,2233,2234,2235,2236,2237,2238,2239,2240,2241,2242,2243,2244,2245,2246,2247,2248,2249,2250,2251,2252,2253,2254,2255,2256,2257,2258,2259,2260,2261,2262,2263,2264,2265,2266,2267,2268,2269,2270,2271,2272,2273,2274,2275,2276,2277,2278,2279,2280,2281,2282,2283,2284,2285,2286,2287,2288,2289,2290,2291,2292,2293,2294,2295,2296,2297,2298,2299,2300,2301,2302,2303,2304,2305,2306,2307,2308,2309,2310,2311,2312,2313,2314,2315,2316,2317,2318,2319,2320,2321,2322,2323,2324,2325,2326,2327,2328,2329,2330,2331,2332,2333,2334,2335,2336,2337,2338,2339,2340,2341,2342,2343,2344,2345,2346,2347,2348,2349,2350,2351,2352,2353,2354,2355,2356,2357,2358,2359,2360,2361,2362,2363,2364,2365,2366,2367,2368,2369,2370,2371,2372,2373,2374,2375,2376,2377,2378,2379,2380,2381,2382,2383,2384,2385,2386,2387,2388,2389,2390,2391,2392,2393,2394,2395,2396,2397,2398,2399,2400,2401,2402,2403,2404,2405,2406,2407,2408,2409,2410,2411,2412,2413,2414,2415,2416,2417,2418,2419,2420,2421,2422,2423,2424,2425,2426,2427,2428,2429,2430,2431,2432,2433,2434,2435,2436,2437,2438,2439,2440,2441,2442,2443,2444,2445,2446,2447,2448,2449,2450,2451,2452,2453,2454,2455,2456,2457,2458,2459,2460,2461,2462,2463,2464,2465,2466,2467,2468,2469,2470,2471,2472,2473,2474,2475,2476,2477,2478,2479,2480,2481,2482,2483,2484,2485,2486,2487,2488,2489,2490,2491,2492,2493,2494,2495,2496,2497,2498,2499,2500,2501,2502,2503,2504,2505,2506,2507,2508,2509,2510,2511,2512,2513,2514,2515,2516,2517,2518,2519,2520,2521,2522,2523,2524,2525,2526,2527,2528,2529,2530,2531,2532,2533,2534,2535,2536,2537,2538,2539,2540,2541,2542,2543,2544,2545,2546,2547,2548,2549,2550,2551,2552,2553,2554,2555,2556,2557,2558,2559,2560,2561,2562,2563,2564,2565,2566,2567,2568,2569,2570,2571,2572,2573,2574,2575,2576,2577,2578,2579,2580,2581,2582,2583,2584,2585,2586,2587,2588,2589,2590,2591,2592,2593,2594,2595,2596,2597,2598,2599,2600,2601,2602,2603,2604,2605,2606,2607,2608,2609,2610,2611,2612,2613,2614,2615,2616,2617,2618,2619,2620,2621,2622,2623,2624,2625,2626,2627,2628,2629,2630,2631,2632,2633,2634,2635,2636,2637,2638,2639,2640,2641,2642,2643,2644,2645,2646,2647,2648,2649,2650,2651,2652,2653,2654,2655,2656,2657,2658,2659,2660,2661,2662,2663,2664,2665,2666,2667,2668,2669,2670,2671,2672,2673,2674,2675,2676,2677,2678,2679,2680,2681,2682,2683,2684,2685,2686,2687,2688,2689,2690,2691,2692,2693,2694,2695,2696,2697,2698,2699,2700,2701,2702,2703,2704,2705,2706,2707,2708,2709,2710,2711,2712,2713,2714,2715,2716,2717,2718,2719,2720,2721,2722,2723,2724,2725,2726,2727,2728,2729,2730,2731,2732,2733,2734,2735,2736,2737,2738,2739,2740,2741,2742,2743,2744,2745,2746,2747,2748,2749,2750,2751,2752,2753,2754,2755,2756,2757,2758,2759,2760,2761,2762,2763,2764,2765,2766,2767,2768,2769,2770,2771,2772,2773,2774,2775,2776,2777,2778,2779,2780,2781,2782,2783,2784,2785,2786,2787,2788,2789,2790,2791,2792,2793,2794,2795,2796,2797,2798,2799,2800,2801,2802,2803,2804,2805,2806,2807,2808,2809,2810,2811,2812,2813,2814,2815,2816,2817,2818,2819,2820,2821,2822,2823,2824,2825,2826,2827,2828,2829,2830,2831,2832,2833,2834,2835,2836,2837,2838,2839,2840,2841,2842,2843,2844,2845,2846,2847,2848,2849,2850,2851,2852,2853,2854,2855,2856,2857,2858,2859,2860,2861,2862,2863,2864,2865,2866,2867,2868,2869,2870,2871,2872,2873,2874,2875,2876,2877,2878,2879,2880,2881,2882,2883,2884,2885,2886,2887,2888,2889,2890,2891,2892,2893,2894,2895,2896,2897,2898,2899,2900,2901,2902,2903,2904,2905,2906,2907,2908,2909,2910,2911,2912,2913,2914,2915,2916,2917,2918,2919,2920,2921,2922,2923,2924,2925,2926,2927,2928,2929,2930,2931,2932,2933,2934,2935,2936,2937,2938,2939,2940,2941,2942,2943,2944,2945,2946,2947,2948,2949,2950,2951,2952,2953,2954,2955,2956,2957,2958,2959,2960,2961,2962,2963,2964,2965,2966,2967,2968,2969,2970,2971,2972,2973,2974,2975,2976,2977,2978,2979,2980,2981,2982,2983,2984,2985,2986,2987,2988,2989,2990,2991,2992,2993,2994,2995,2996,2997,2998,2999,3000,3001,3002,3003,3004,3005,3006,3007,3008,3009,3010,3011,3012,3013,3014,3015,3016,3017,3018,3019,3020,3021,3022,3023,3024,3025,3026,3027,3028,3029,3030,3031,3032,3033,3034,3035,3036,3037,3038,3039,3040,3041,3042,3043,3044,3045,3046,3047,3048,3049,3050,3051,3052,3053,3054,3055,3056,3057,3058,3059,3060,3061,3062,3063,3064,3065,3066,3067,3068,3069,3070,3071,3072,3073,3074,3075,3076,3077,3078,3079,3080,3081,3082,3083,3084,3085,3086,3087,3088,3089,3090,3091,3092,3093,3094,3095,3096,3097,3098,3099,3100,3101,3102,3103,3104,3105,3106,3107,3108,3109,3110,3111,3112,3113,3114,3115,3116,3117,3118,3119,3120,3121,3122,3123,3124,3125,3126,3127,3128,3129,3130,3131,3132,3133,3134,3135,3136,3137,3138,3139,3140,3141,3142,3143,3144,3145,3146,3147,3148,3149,3150,3151,3152,3153,3154,3155,3156,3157,3158,3159,3160,3161,3162,3163,3164,3165,3166,3167,3168,3169,3170,3171,3172,3173,3174,3175,3176,3177,3178,3179,3180,3181,3182,3183,3184,3185,3186,3187,3188,3189,3190,3191,3192,3193,3194,3195,3196,3197,3198,3199,3200,3201,3202,3203,3204,3205,3206,3207,3208,3209,3210,3211,3212,3213,3214,3215,3216,3217,3218,3219,3220,3221,3222,3223,3224,3225,3226,3227,3228,3229,3230,3231,3232,3233,3234,3235,3236,3237,3238,3239,3240,3241,3242,3243,3244,3245,3246,3247,3248,3249,3250,3251,3252,3253,3254,3255,3256,3257,3258,3259,3260,3261,3262,3263,3264,3265,3266,3267,3268,3269,3270,3271,3272,3273,3274,3275,3276,3277,3278,3279,3280,3281,3282,3283,3284,3285,3286,3287,3288,3289,3290,3291,3292,3293,3294,3295,3296,3297,3298,3299,3300,3301,3302,3303,3304,3305,3306,3307,3308,3309,3310,3311,3312,3313,3314,3315,3316,3317,3318,3319,3320,3321,3322,3323,3324,3325,3326,3327,3328,3329,3330,3331,3332,3333,3334,3335,3336,3337,3338,3339,3340,3341,3342,3343,3344,3345,3346,3347,3348,3349,3350,3351,3352,3353,3354,3355,3356,3357,3358,3359,3360,3361,3362,3363,3364,3365,3366,3367,3368,3369,3370,3371,3372,3373,3374,3375,3376,3377,3378,3379,3380,3381,3382,3383,3384,3385,3386,3387,3388,3389,3390,3391,3392,3393,3394,3395,3396,3397,3398,3399,3400,3401,3402,3403,3404,3405,3406,3407,3408,3409,3410,3411,3412,3413,3414,3415,3416,3417,3418,3419,3420,3421,3422,3423,3424,3425,3426,3427,3428,3429,3430,3431,3432,3433,3434,3435,3436,3437,3438,3439,3440,3441,3442,3443,3444,3445,3446,3447,3448,3449,3450,3451,3452,3453,3454,3455,3456,3457,3458,3459,3460,3461,3462,3463,3464,3465,3466,3467,3468,3469,3470,3471,3472,3473,3474,3475,3476,3477,3478,3479,3480,3481,3482,3483,3484,3485,3486,3487,3488,3489,3490,3491,3492,3493,3494,3495,3496,3497,3498,3499,3500,3501,3502,3503,3504,3505,3506,3507,3508,3509,3510,3511,3512,3513,3514,3515,3516,3517,3518,3519,3520,3521,3522,3523,3524,3525,3526,3527,3528,3529,3530,3531,3532,3533,3534,3535,3536,3537,3538,3539,3540,3541,3542,3543,3544,3545,3546,3547,3548,3549,3550,3551,3552,3553,3554,3555,3556,3557,3558,3559,3560,3561,3562,3563,3564,3565,3566,3567,3568,3569,3570,3571,3572,3573,3574,3575,3576,3577,3578,3579,3580,3581,3582,3583,3584,3585,3586,3587,3588,3589,3590,3591,3592,3593,3594,3595,3596,3597,3598,3599,3600,3601,3602,3603,3604,3605,3606,3607,3608,3609,3610,3611,3612,3613,3614,3615,3616,3617,3618,3619,3620,3621,3622,3623,3624,3625,3626,3627,3628,3629,3630,3631,3632,3633,3634,3635,3636,3637,3638,3639,3640,3641,3642,3643,3644,3645,3646,3647,3648,3649,3650,3651,3652,3653,3654,3655,3656,3657,3658,3659,3660,3661,3662,3663,3664,3665,3666,3667,3668,3669,3670,3671,3672,3673,3674,3675,3676,3677,3678,3679,3680,3681,3682,3683,3684,3685,3686,3687,3688,3689,3690,3691,3692,3693,3694,3695,3696,3697,3698,3699,3700,3701,3702,3703,3704,3705,3706,3707,3708,3709,3710,3711,3712,3713,3714,3715,3716,3717,3718,3719,3720,3721,3722,3723,3724,3725,3726,3727,3728,3729,3730,3731,3732,3733,3734,3735,3736,3737,3738,3739,3740,3741,3742,3743,3744,3745,3746,3747,3748,3749,3750,3751,3752,3753,3754,3755,3756,3757,3758,3759,3760,3761,3762,3763,3764,3765,3766,3767,3768,3769,3770,3771,3772,3773,3774,3775,3776,3777,3778,3779,3780,3781,3782,3783,3784,3785,3786,3787,3788,3789,3790,3791,3792,3793,3794,3795,3796,3797,3798,3799,3800,3801,3802,3803,3804,3805,3806,3807,3808,3809,3810,3811,3812,3813,3814,3815,3816,3817,3818,3819,3820,3821,3822,3823,3824,3825,3826,3827,3828,3829,3830,3831,3832,3833,3834,3835,3836,3837,3838,3839,3840,3841,3842,3843,3844,3845,3846,3847,3848,3849,3850,3851,3852,3853,3854,3855,3856,3857,3858,3859,3860,3861,3862,3863,3864,3865,3866,3867,3868,3869,3870,3871,3872,3873,3874,3875,3876,3877,3878,3879,3880,3881,3882,3883,3884,3885,3886,3887,3888,3889,3890,3891,3892,3893,3894,3895,3896,3897,3898,3899,3900,3901,3902,3903,3904,3905,3906,3907,3908,3909,3910,3911,3912,3913,3914,3915,3916,3917,3918,3919,3920,3921,3922,3923,3924,3925,3926,3927,3928,3929,3930,3931,3932,3933,3934,3935,3936,3937,3938,3939,3940,3941,3942,3943,3944,3945,3946,3947,3948,3949,3950,3951,3952,3953,3954,3955,3956,3957,3958,3959,3960,3961,3962,3963,3964,3965,3966,3967,3968,3969,3970,3971,3972,3973,3974,3975,3976,3977,3978,3979,3980,3981,3982,3983,3984,3985,3986,3987,3988,3989,3990,3991,3992,3993,3994,3995,3996,3997,3998,3999,4000,4001,4002,4003,4004,4005,4006,4007,4008,4009,4010,4011,4012,4013,4014,4015,4016,4017,4018,4019,4020,4021,4022,4023,4024,4025,4026,4027,4028,4029,4030,4031,4032,4033,4034,4035,4036,4037,4038,4039,4040,4041,4042,4043,4044,4045,4046,4047,4048,4049,4050,4051,4052,4053,4054,4055,4056,4057,4058,4059,4060,4061,4062,4063,4064,4065,4066,4067,4068,4069,4070,4071,4072,4073,4074,4075,4076,4077,4078,4079,4080,4081,4082,4083,4084,4085,4086,4087,4088,4089,4090,4091,4092,4093,4094,4095,4096,4097,4098,4099,4100,4101,4102,4103,4104,4105,4106,4107,4108,4109,4110,4111,4112,4113,4114,4115,4116,4117,4118,4119,4120,4121,4122,4123,4124,4125,4126,4127,4128,4129,4130,4131,4132,4133,4134,4135,4136,4137,4138,4139,4140,4141,4142,4143,4144,4145,4146,4147,4148,4149,4150,4151,4152,4153,4154,4155,4156,4157,4158,4159,4160,4161,4162,4163,4164,4165,4166,4167,4168,4169,4170,4171,4172,4173,4174,4175,4176,4177,4178,4179,4180,4181,4182,4183,4184,4185,4186,4187,4188,4189,4190,4191,4192,4193,4194,4195,4196,4197,4198,4199,4200,4201,4202,4203,4204,4205,4206,4207,4208,4209,4210,4211,4212,4213,4214,4215,4216,4217,4218,4219,4220,4221,4222,4223,4224,4225,4226,4227,4228,4229,4230,4231,4232,4233,4234,4235,4236,4237,4238,4239,4240,4241,4242,4243,4244,4245,4246,4247,4248,4249,4250,4251,4252,4253,4254,4255,4256,4257,4258,4259,4260,4261,4262,4263,4264,4265,4266,4267,4268,4269,4270,4271,4272,4273,4274,4275,4276,4277,4278,4279,4280,4281,4282,4283,4284,4285,4286,4287,4288,4289,4290,4291,4292,4293,4294,4295,4296,4297,4298,4299,4300,4301,4302,4303,4304,4305,4306,4307,4308,4309,4310,4311,4312,4313,4314,4315,4316,4317,4318,4319,4320,4321,4322,4323,4324,4325,4326,4327,4328,4329,4330,4331,4332,4333,4334,4335,4336,4337,4338,4339,4340,4341,4342,4343,4344,4345,4346,4347,4348,4349,4350,4351,4352,4353,4354,4355,4356,4357,4358,4359,4360,4361,4362,4363,4364,4365,4366,4367,4368,4369,4370,4371,4372,4373,4374,4375,4376,4377,4378,4379,4380,4381,4382,4383,4384,4385,4386,4387,4388,4389,4390,4391,4392,4393,4394,4395,4396,4397,4398,4399,4400,4401,4402,4403,4404,4405,4406,4407,4408,4409,4410,4411,4412,4413,4414,4415,4416,4417,4418,4419,4420,4421,4422,4423,4424,4425,4426,4427,4428,4429,4430,4431,4432,4433,4434,4435,4436,4437,4438,4439,4440,4441,4442,4443,4444,4445,4446,4447,4448,4449,4450,4451,4452,4453,4454,4455,4456,4457,4458,4459,4460,4461,4462,4463,4464,4465,4466,4467,4468,4469,4470,4471,4472,4473,4474,4475,4476,4477,4478,4479,4480,4481,4482,4483,4484,4485,4486,4487,4488,4489,4490,4491,4492,4493,4494,4495,4496,4497,4498,4499,4500,4501,4502,4503,4504,4505,4506,4507,4508,4509,4510,4511,4512,4513,4514,4515,4516,4517,4518,4519,4520,4521,4522,4523,4524,4525,4526,4527,4528,4529,4530,4531,4532,4533,4534,4535,4536,4537,4538,4539,4540,4541,4542,4543,4544,4545,4546,4547,4548,4549,4550,4551,4552,4553,4554,4555,4556,4557,4558,4559,4560,4561,4562,4563,4564,4565,4566,4567,4568,4569,4570,4571,4572,4573,4574,4575,4576,4577,4578,4579,4580,4581,4582,4583,4584,4585,4586,4587,4588,4589,4590,4591,4592,4593,4594,4595,4596,4597,4598,4599,4600,4601,4602,4603,4604,4605,4606,4607,4608,4609,4610,4611,4612,4613,4614,4615,4616,4617,4618,4619,4620,4621,4622,4623,4624,4625,4626,4627,4628,4629,4630,4631,4632,4633,4634,4635,4636,4637,4638,4639,4640,4641,4642,4643,4644,4645,4646,4647,4648,4649,4650,4651,4652,4653,4654,4655,4656,4657,4658,4659,4660,4661,4662,4663,4664,4665,4666,4667,4668,4669,4670,4671,4672,4673,4674,4675,4676,4677,4678,4679,4680,4681,4682,4683,4684,4685,4686,4687,4688,4689,4690,4691,4692,4693,4694,4695,4696,4697,4698,4699,4700,4701,4702,4703,4704,4705,4706,4707,4708,4709,4710,4711,4712,4713,4714,4715,4716,4717,4718,4719,4720,4721,4722,4723,4724,4725,4726,4727,4728,4729,4730,4731,4732,4733,4734,4735,4736,4737,4738,4739,4740,4741,4742,4743,4744,4745,4746,4747,4748,4749,4750,4751,4752,4753,4754,4755,4756,4757,4758,4759,4760,4761,4762,4763,4764,4765,4766,4767,4768,4769,4770,4771,4772,4773,4774,4775,4776,4777,4778,4779,4780,4781,4782,4783,4784,4785,4786,4787,4788,4789,4790,4791,4792,4793,4794,4795,4796,4797,4798,4799,4800,4801,4802,4803,4804,4805,4806,4807,4808,4809,4810,4811,4812,4813,4814,4815,4816,4817,4818,4819,4820,4821,4822,4823,4824,4825,4826,4827,4828,4829,4830,4831,4832,4833,4834,4835,4836,4837,4838,4839,4840,4841,4842,4843,4844,4845,4846,4847,4848,4849,4850,4851,4852,4853,4854,4855,4856,4857,4858,4859,4860,4861,4862,4863,4864,4865,4866,4867,4868,4869,4870,4871,4872,4873,4874,4875,4876,4877,4878,4879,4880,4881,4882,4883,4884,4885,4886,4887,4888,4889,4890,4891,4892,4893,4894,4895,4896,4897,4898,4899,4900,4901,4902,4903,4904,4905,4906,4907,4908,4909,4910,4911,4912,4913,4914,4915,4916,4917,4918,4919,4920,4921,4922,4923,4924,4925,4926,4927,4928,4929,4930,4931,4932,4933,4934,4935,4936,4937,4938,4939,4940,4941,4942,4943,4944,4945,4946,4947,4948,4949,4950,4951,4952,4953,4954,4955,4956,4957,4958,4959,4960,4961,4962,4963,4964,4965,4966,4967,4968,4969,4970,4971,4972,4973,4974,4975,4976,4977,4978,4979,4980,4981,4982,4983,4984,4985,4986,4987,4988,4989,4990,4991,4992,4993,4994,4995,4996,4997,4998,4999,5000,5001,5002,5003,5004,5005,5006,5007,5008,5009,5010,5011,5012,5013,5014,5015,5016,5017,5018,5019,5020,5021,5022,5023,5024,5025,5026,5027,5028,5029,5030,5031,5032,5033,5034,5035,5036,5037,5038,5039,5040,5041,5042,5043,5044,5045,5046,5047,5048,5049,5050,5051,5052,5053,5054,5055,5056,5057,5058,5059,5060,5061,5062,5063,5064,5065,5066,5067,5068,5069,5070,5071,5072,5073,5074,5075,5076,5077,5078,5079,5080,5081,5082,5083,5084,5085,5086,5087,5088,5089,5090,5091,5092,5093,5094,5095,5096,5097,5098,5099,5100,5101,5102,5103,5104,5105,5106,5107,5108,5109,5110,5111,5112,5113,5114,5115,5116,5117,5118,5119,5120,5121,5122,5123,5124,5125,5126,5127,5128,5129,5130,5131,5132,5133,5134,5135,5136,5137,5138,5139,5140,5141,5142,5143,5144,5145,5146,5147,5148,5149,5150,5151,5152,5153,5154,5155,5156,5157,5158,5159,5160,5161,5162,5163,5164,5165,5166,5167,5168,5169,5170,5171,5172,5173,5174,5175,5176,5177,5178,5179,5180,5181,5182,5183,5184,5185,5186,5187,5188,5189,5190,5191,5192,5193,5194,5195,5196,5197,5198,5199,5200,5201,5202,5203,5204,5205,5206,5207,5208,5209,5210,5211,5212,5213,5214,5215,5216,5217,5218,5219,5220,5221],\"x\":{\"__ndarray__\":\"RJXAP9wDuECnHYg8QVRbP9TM3MCCEyW/Ip1wQCuB4L4kq3RAwQN1QIMEFUBW2pE/RWXPQEBLAEAsIMzAWbkZQM2kncBVDr1AjIS7P15bO0AXZYQ/botPQGX9NEBZ28vAl8URQDSqkD6u4um/ZucjQAJMH0C5aDJAMmuyP1VjFEBXnTc/Pb7Ov1grtL8sKE9AkcQ5QHoTUkBggu0/cmKwP3/FgMDBfb4+IOzSQO9H+D6jV+G/PLf2QL5FFr9omdlA7XBYPkmaqsAga9vAoD56QaTUxr+T7y8/Zb2YPxkD1MBVHThAb3gQQOklJ0DojNJApMiEQP8bEkCzSOo/32SFwI2gnkDv2NVAOgzSPm0mmj/+tgW/n+CbwCfc1z/qhhhAwbOFP1mp90C6NxS/ABRgQE5awj/CFWzA224QPpasEkA3S9rAwLU1QGtQ/D9LLbW/FUy5P3sWvj+TmOw/HSmfwKTxvD/qRBdADWzpP2q+1EA0EnnAiR/aQHPoIkD0vb6/s3vewLR0wj+CaM4/HmSrvQp6xsDp/prAFlmjv8EATECVsN1APmSmP2arxkAcmKvAcn9gvVqnTL8F6jg//t5nPwGlv0Cyz7VAKnHiP14a0kDG+pu/n5hUQN+eGECKBYXANNyBwARQsUBkO3FAEnXHPuXuQkA5e69AT/6PP9AgMEDnSTdAFtikwEgJaD9bpuO+rZhswOd1nMCy61JAOdKDwND9nr+TXY9AIzpuwLK2jkC9CaM/BOLCQB8lhT+QqJrA/jDLQAk3kz/oq47APIvFQHpGeUCNG0lA8LRZQFymGkA5scBAL/HEPbRt6b6jckE/o1vFwDgp2D872yY/A7esP9Bn0D+yuIM/tj2MQPbQA0BQ7C1A8vLJwKzXv7+gya5AEpi1P2IIpcA9xtQ/jbfEQJQjHkARh4dAex17QZKPsEBmfVtA7eE2vtzb1MDR+ixAclgmwN6D28DUmNLAua78PG8voj9z+IDAyuKCvistvj/SWLo//GGcP8qFLECAMPdAQeFsPh3s1j/xNd5A8f6XvsyRqECrvcq/V+PGQPUhQkDMKX5B0TUkP8OJlsDEVgRAnpq5QHtxQkCC5PZAKEG+wDuMn8AccsC/iZKrPQctJEB3llVAo/7yvijiHDwB+/g/HTXwv/r1jT84sps+WmoUQN0GJ0B/ef6+o3uRQL3TNUDw5nRBT6ehP14LVUBPeNo/NaZwwN0pVkDDbOi/GdkUQKtIuD88fs3AchknwGmkkEBcx8hAJ5MkwBWluL/88cXAj+/ivs+Ah0DGultAyOxLPoiNy73Dxm7AE49xP+DQJECvHdA+3JrYP32lx8B6Vqw/xzxfP1c9xD99XvdALMonQCjKFUByASg/W62AQbuAn7+H50w/Yu0mP9pwgj/qMjVAKELoPounMECYkP4/2vvTvkEHEEA547g/pza4QIuCzz/jzDxAlkwlQMTdSD0tZaHAWZZlQFTcwsB935/AKb6iwP9lOz/DszVA1QraP7C2pUDq7TE/8Cq7PnpfxsBK+ZQ/Mte7QBpD9T9Yf8G/LEeXP+ysgUFiur1AjCCUwGgg+T8hTRhAiq+yPzEFaD8XXx5ANeLeP0XZikBpzUw/88U2QDhJtUBJPABAMrYBPpSlmz9FmKk/iAcZwAvulD8CThZAhxHaQDBoKkA2QipAVThPQARMFsD94mvAF4d5QbWeAED8fyRAnSPbQIJ2A79HhSXAVbCLQNIuKkD0wrE+K5vaQK4+nL5uv3Q/eUCuQJy8P0BufrW/mf01vplY7j+DrwZAuD/IQIRgpEB5XhC/3oM/v9MZuz+DXoVArLT7P3a4lcAiOMrAiXoKQAOm6z+lrp4/jCDGQCT24T80qdc/Sem+QCD5w0ACV0e7AZ+9wD860MD4GNk8BZ2/P6mKd0Hn917Ax5jPQNM5bj8g+4/A1wTcPxhGBUD9nNrAOR7awCdOyz829JRAik2DQHYDxsBT7l9ABxlzwAkDJ0AXjrjAzAnyP8ZuqsDYeQxAm8A5QN/7m8DNF3RAvqDnv4jZpr/DUbK/TC67wMdr1T/ztKPAQuqfP6uQD0Brawg/8VKbwMlFJ8AppfdA1Q66QC9/xkB5YKHAzF+hwOj/eT8d3p6+dFKkwLxXV0DJas4/eWzQQH3rwT9NOum/PdulP24C28Ctx5XAsK3PwJvbBj7dSrq+VkHXPyoHd0FUIaM/dvgfwDShOkDj4p0/E9VgvwgZWUBnRTRAh4baQI1rTD9+cjE/eyarPx+37r+JH14+1lamQG8F5j8RgpzAUnvpPvpkHT/isM0+KKgsQA5aCkC8kqPArLguQNrzjT9zEPw/2n2sv2hsGj9mvGBA8uSkv9NHmj7sb3NB60BTQH9wN0AJ9WvAUjffwJ3DQD+VJSxA4x7UQPwPjECZPKdAvUe8QAX60D/UnXlAHBHuv+K3eUEbsjo/0QE/vxYymz60FTE/eQQVQDkE2kDn3Xw/6kskP/0Q0ECuDPO+H8L6P/KOc0E3VNrAgJxdP25MokDSILc/6rNMQAxCuj9xpcdAn88iQC/XdT848onA+vl9PzLPZkCHfZ4/CHfIP0tNocAWJM3A2WydwGyXgUBFM9w/shiYwLOjGEDpUChAYxR9QV8cmcApTRxADmsdQNj32kDt8e69AndBQLbz1cDz/LhAa8PaPojot8DurNnAJ1zLQEw/JD0JkF9A5f5vQNRWzcBLfJ0/nfgaP+mDxj0cCbw/Ld4rQM8+4z/dKdHA7Ri2P3/AxT+LkZE/yX98QW/B7L/m+IlAJj7KQCYTfkFgQ8vAl82+QFSFKUDVrtnAIjQXQDfuusCs5Gu9VGCSQINPkUBD4aJAFrsRP+3pBT89PCrAb0+bQJeqjj+7seM/u8j8P6daWr+rt8VA5X8gQIdYhD9cteK/0pbDvlMq5z+26Z7AHphuwE6upT+oq5xAy3DJPynJd0Hu04xAbk/AwKLbwL7aPYtA+iq4QA1pnD9VMOE/ZnPwPyABEkDkEt1AGkZrvgLdgEEI4r9AJpsFPs20tT88CR3ApwBoP8xqq74xTbw/bxsFP0mcgUFzB53AA20PQDoD4T8TnRVA22maQC6pqb8oAKBAiEIuv3msdUFAv9xAzr4QvxA2dECMuhrAU1alwLqLlz6y1z5A0XtgQIPgu79z5cZA5pCOP0gSxb9nslFAj7sQQKTSfkG4MCVAxiDJQBS1l0CU4ifAAh5bwGbahkCePeA/aMkpwIG20kDno7c/2V5xwA0QNkCCIpZAA/0AQKnmHz/JJwZAGVVhQMMbi0AXEAtANzQqQJb0QUC4I+c/mhmdwE2YWz9aXpLABJWzP/1Ww0DTDrU/WqovQLmymUAPsem+k12DwC7aC0BaHsjASUsAQCCj3EAI0IG+SkCIQMyhjUBtioTAr6G2P0ahUkBJRw1A4MvUQJ94dEGzdL1A7L3cwFYZy0Cgb4TAnWMdP1xGg74m1oRAhEPgP3MW0UB0UN09cQmvvzKHFUAqlbO/LfjyPi5jx8AA/gQ/ayemP+DmxEBW7iS+ATMfQJngwr8QxSdA+6C7vwsAvD6MQ4xAjUhzP9P7gEGm3Ms/ZDRjQLr9lcDVp3RBho6cPWg/KL/fieY/80kCPnKssUAuDIxARLobQGhOGL9qnfI/FyiePvV/yL5xLI1AxJ7TQCKrvz9f9dJAgMi2QMvQrr7gMYVAPnL9vquTcT8npuG/s+AiwKIJWkDhsyXAEYhRQGj8oUAq/5tAvE7AwHs6Xb8tPFdApi8lQKEGlcBs2zw/25LPwKLnH0CM+3lBlKOiwJdydEFQM44/GuXWwAJOxED9foo/zD2pv1EaHUBluA4/ocgRQOAD1j9l09s/LYimv/F1n8AkD3XA+dGDPkp61T8ShFlA8Cs6QKPnyL8as1a/ejCfv5Yqtz8JPyVAiZvaQF7LdMBvIT1AyllWQD9rAr80B66/8tKLP2vW90CVT6HAeoGLQAD82j8duNRAdMyqQEsfED81bHw/IxWCwIOKdcBdLN5AnvqLvalREEBCJiVAfTEyQFTIcj+zN95AaAfLP2EGtj8OJBtAGeuTP7Bt4j8/z6Q/ziTiP1V+wED3+NhAJ9l0wAz+vEA898RAUNZNQOmERUBdu7FACt5LP9xVnMAc5XLAqGPHP1qwEL7lc8vAnyKHv+zg5z9Mo9DA9lgrP4MIzT8YktJAC7p7QbahzD7Awcs/FQMdv+URmD9WagRAS2OnwET0uD+98MRAg/3VwCn01z7bhzZAEFOWwACUkT9O2Go/FWGhQJybzsDYhyY/u6Etv3earT8AxBdAsPxPvvXtkD9EDPdAZ/ytPs/yI8Al4K1APIQkQCgXzL7Fha6/6DzcPkaDdEEXhss/WWShv5nhfkFF4/G/NT1YQEB2ucAC2XA/qSISP7CGqb9EFLxAv7XcQMxJw8CBRqjADvWawI2CBkAMrKq/QRqHQF8/kj+Gw6fAReV1wEI76z8yw9xAz8NYQGeOyD0ftsRAwDORQOimFkCDHxtAJvr3QIPMpz944KI/WuzQQLsL5D+6uMnAM3nEv225wcDnE7JAsUgIQAxpFkBe9YxAaZajPtnSlcA8z8TAVs/cPj8YG8DxNztASx8Mv5+xqT9hBYO9/4YfPlmQe0BC3VxAayDawKrI4j9vzcbAY/xfQASEgEHpO8RACJ7JwOnWWz+AnUFArsmXP0x4XkA+Mlm/tj/LQInJGT4Sb8dANyn0vhVmxkDPKmg+B4I7QG7HnsCz716/8WCrQGhyD76KObS/JGnNwNBCecAzPs0/uBQdQEHDhr9aSFc/jripv/4Qn8CLF78/KDS0QHIY/T81sENAuUS4P18DH8CzS5fAQxKXwGKCTkB7TYFBNwubP6ojpD8KL9o/35/dwE27EkAdnUJAJFyXwEfUPz8MIee+KZNMvp2PKD/aerlAwlGcP/q9ukB9ygA+jRguQASr3cAW44HADy+XwK5/hz5izb5AJ6E4QJw3xkAkxypAG7YoP7ETEkCfmDFAowFhQBTzx77aHDo/ZYjTQE2RVj/TyXVBRxtnP+qANkA4PXRB978FPzGh+j9E1vZAd8+pv9I5ND/z6wtAl3XSQDdcsD0eMo4+l2PtP4IZqkD9xrY/egOlwN6QmL6VmdtAYJ6AQY2DJ0ApenHAGzRRP7oIxb8GqqDA/CoPQE4k7j6GadpA3OjBQKO31sAvmKPAWWEAQGfJgEFXCppAAjbBQFiEKj+EhnxBtXrAwBa9p8AZ3mJAHWRCQGv8jT9pE1q+7JSYwL5GnT7QX1e/TDZ3QWj7J0CluMU82Vu8P8oktj6rijpAnizQQJLjy0CnPdk/jnGawJineEEASnDAaeUqQAaVqL+Sygu/m3u4QLaUnL9h0QI+9gh3Qc6q3z/fntxAl2CgwCu0jEAcgLq/LiiMP7gAPb4v0NA/d+toQN2FnMAHQRhAicbqv2wcvb+Tkfq+y2NEQCqDyT41WYA+ALHIQNMtK0CwdOU8TgTDQK4kTTxozem/hIrHQE0GrD4E8uU/w1KQPlLDNT46WGVAM0MXQJN3Sz+N9BU/Q0wXwHDMnsBUP8rAQ3oQQPum0MCLYIs/dBHZP6+Iej8L988/tyyOQIOX1UDahrw+QOnBQKh3gzuj/L2/2cG6QCdI2z8HaFRAxkIOv0uayMCeZaa/RIpOQFAUvMAwWDRAhhPRQJwtMUBQRhlAVVZ1wCrBjL9vt5A/D1CkP0tQnb9KSInAygCBQS21ysD708jAAtPePjiYLT/NVyNA7oMQQBqrlsCtWK4/zNzCPnPSLz8rU74/dZzHwLgd2sALj41AF5KoQME6yT+dsZ3AnVB4QSUkxz5UF6G/K0fEwEUgu0BlZ1pAfz7CP0ZFN0Ba6zpAlUMFP7on90AchoXAqwTtu04XqMA6IbvAihV5QZmL90AGArq/JGkZQJZBnEC1urtAzbUtPy0Qu7+oJABATa6gP66XWECWF/G+g1d2PwMxxT+2zr1Am7KZwI7SEUBMjdI+TctdP6aEoMC3xLxArINaQFe8w0CABrlAi5jCPyld5T+YtHdBXNMzQM2edcBe0pxAi2OGQClEV0DMAuU/2a92QaLlU0DBQ5s/XU8XPaNzJUCwlJJA/ABvP02Skj/gdsdAtKPYwCpxe0Fo4ILADpWawCh/5D88xCZAstzMwMWI1b0HcsdAmKFVPEM7CUAF5wg/tcDAPyBOZEDphZ3AKcqFQOjF4D/7kK0/51OfwJI3HkC4/R5AJUTbwFVfGr/f1sFAnjXNwJyD1UC+QK9AfVvQP9+6aECiWAQ/QPCLP6ZFa8D/EKTAInLbPix+tz9j+0++Q1aBQZtbiUDtTJ7AEKtfQMLeakCG+obAC5e6wMoMdkFwW8Y/BVajwFbn4j9hK7+/wtr0PzLMPT+NjrVAkjZcQBZVUUCB0iK+CyK6P/Q4gD+NMiVAFwk6QLubs0BEpKw/ClhIQATmFkDL73RAVKDaQGFqD0Amz7xAcicKQEXdmUBP5eo+Ls02QB1N20B8Es4/p4CNPztHrD+6acI/CWaUwKYLEkBuy70/Y1XnP2dPG0Cuzs0/VeXHQFdDGUCYToA/qz7XP/G72EAd64o/fXeIPhgxVD3rOCK/LaUdv1TI1EBvg4u/I2m+QKJBJ8Aw2qs/B7/LP45Vf0E6TcFAVmfVP4EVqMDJim3AyuZtQPk9AkCSj6LASQK9PZ1Dtz9gS4BBAa8jPybd3D8juJLAdaWMPzm7w0ASGC1Azm+BwAPkkj/2aJ3AuuuawNFDAT5/we2/pP/2QAN9hUAGW7c+69d+P31yRkAImAJArfGMQDyjMEATHwJAZxCWQPoEn8D58ZrAst7RQFS4LT/NWztA/g3eQHK8mz7TbEZAeerFPwzbCr+n2vG96xy0vy/S5D9oK8A/PAypQOPcx0DO2FlAD7HFQMOqhD/WtwxApBfgP7/LjEDcO6hA6q5VQMTLnj/Rj0NAci/awCml5T/qxXtBC4F2QUJuWT2l+++/1WQVwPciskCXdw1AWsqzP7coj8BnPCFAMmo3QJfphED7ZvC/BZvMwByZJUB/eN8/0y4mP/gfx0B/aK+/dWMowNUfxr/cHHU/XW8pwNXJnsDDHqvA3xW+PwIdEr9Vmt4/QKySPgQLu79rHtrATsidQBMBBT8xx85A4i4AQDV0hz925se/TXO4QM5clT8LLe8/auuAQFaGVj8+pL4/IwBYQO29nj/GGKHAhtXPQOl1u8A+P2RAtvutP/Zae0Fs/pDAlb7OP7pAJMC1IRVAAV3BQN0F47+WVzlAwIKZPkalGUBUJRc+uiJdQBukekDt5JM/2oxawMjUeEEWSf4+D4Lwv05xrD63W+m/m2ocwLhcg0A7WoFB+WOyQOBzy0BhGMO/sECYQCHC2sDWz5jAm210QRD/rb/k48RAPMi7PwdW1ED/nes/MRYUP/i+UkDU1cq+V7ATQFoOhUAMhCfAIEnHv/OeZUDcPsFA5ad4QQVA/T+xCIxA8m6bwHmPekEgE1FAEDdEQN4cJMAHxxw/VVbKPmh7ID4rsTFAIQV8QVrgur9B2sJAL0kwQGJtvz98IKy+ysMCvxF1VUC7cRFALoHLwMOcv0BgwcW/cVvXPw6U90BT/o4/19mov9izFD52xZE/FU7UP2wzQT9MN2NA33TAP+yKrD+PtHlBID/NwL/Z0MAonlm/Yb7fP+F/qT/sjiDAD6xSP/Rz18AmNB5AUxkXQP7wysBtiro+WfeJQPbVs7+ZYYw/LTQPvS4WKUAqUue/q1nKP+IPlEDEbdQ/AUPcPwCL2z/bHZ7AAuB+QXnayj5y6s7AI2KjwHwgrL4F2hFAF2INP7n7qj4aS8O/r3bSQLPBK79peYBBsnCBQUJ+msDL4L8/fr7BQB5T2kBIY9k/LgOmP2RT2cCbCYFB4RDaP2fkqkAjdJrAm1bKwJySzj/iWgVAmxGcPwVgAj88iV9A34LaPwrRekFpmzxAu0IdQNBWJr8HdMg+ravzvjv2F0C7yb0/5hUXQEppLz/Q2TFA9Hvlvwy0jz7zld8/IVlEQCdQu8Dus6k/vcJ6QMTDMUAdFV1A5VI5QDdfqb96Q35BNtzLP+VemcDA5Ik/WCi/QNveyr+soTo/3X2awNNc2sBWsJnAd+duQBTl+j+H5zZAvlLPP44hiEA6zRw/inPVvkI9zD8oLctAGVOHP59gqcA3Fty/E07JwJs2J0CYnXPA1gXBwNonZ78zGIlAYne7QGUqgcD7aqbA+xqkP1WnkEAYZTFAeM+kQC2AjEDveVtA9sp/QbNPbr1yLNRAtkQzPC8ahcBFmtU/QuM/QKwPDUBfi15AyapgQMeTzkA2AjW+n1j4QONsEkAA0Is/R3TDv7hpY0CvjNfA1ZmavVYel0CW08PAhLh/QX8ixMDJYBRAxrfBv3mBe0FvPqDApDJowNnEw7/fW9JANnAGP0EKa8DJEk9A/LUmwB4pu78T5x5AXiT9P06SQUCSCUO/QruOPwvEpz9A4IpAP7XdwJWVz8De02ZAORbMQOTj18CnV6Q/ai+aQGWsGkCBCry/uuyqP2RrgT+wcas/L8HrvxEWoMCknJo/gUatP2kFF0A0GkJAnaWUP8wWdsCFidJAD2Gzv4K2c0E0Fso/bFCzPfb+FED7OchAUqTFPhchj0ADranA8/2ePlrYgcBDjsVAmIyqwBRefUHUYcjAMtxDQIPEvcBbPtU/4ZwowI7TCEDtgcbAtP8WQFH4dkHirwlAS1tIQDjzWUAkCKnAFCL/P2dsJUDk6m7AkrKgwIf0FkDjb5c/JqL2PcVq3cBrJyFAL1m8P8GHoz/cEsVA/e3qP3AVnMDY2EE/TDWYwPu++z/+uc/AB9eIQBj5F0CY1EG+f8RbvFhzvz++20Q/lQXZP1MqasA+HSG/iulLQAdwJUDQcP4+4aZBPyFVEz+Vw2rAEWgZQGq38D9MtZtACtkhQHojQEDvjx5Abd1QQFbGwT/WY98/8F1WQNfCvz9eI9W+ho+QP0rMmMAeHiU/pwCeQKeZhz7UWNo+3wEyQMwlUkCa9MA/EvOiQMOSg8AyZKc/kRy1P8Vfa8D6UT0+yWMdPgvMbj8YMDxAq3zQP8Kq+j6NWn8/zYj6P/qrsEAlK50/RkxkQDpGdkGCbVhAFHaDPwf5b8D7o0hAesbKP75WJMBI08NA4IAdPzCNE0ABwxFAKVDKwOlQe8AoDfE/br7ZP9uXlz83wHNBnJIVPm3nDkD0QXnAxKEJQGqC0kCz7sJA0P/RQPmjwb9zEdLAqeO/wBZotT/s6oHABKixQApXZkAoKZ3ABQTXP6eM20AYjnlBHDorP2IUpkDvU+s/E0dhv1yx1sDmYL6/y28FQDBz7T//15zAPBO9vqRSY0BvWIc/MDJcvxWcJsBc+hlAkQEVP+fypMDXTqa/f7rWQIQ0GT/5dZ7A7PyZQGiBlcArnXI/ODy9QM181sA60WvAv+BavcHS9kCLiTs+mErHQKJp10C54XhB4V0/QHLZdUGpiPU+JW1hPzsowcD8yLU/Ri25vgKkukDEmLG+1STTQLgq6bue8/o/Czz/v/28d0G0hiVA9aAgQM8epj8H9lpALzbcwErqIcB5nd3AZAVwQL8S0zyQ4J3AnALFP8mGUUAo7ZY/69urP6M31kDBxNFAcuphQPYoqz+NaTZAOPe1v2huz0DkfLBASblBPXpXwT96w04/klLnv5Yiw8DZnw6/RMMUQFrTnT//YZtARdG4QHZ4TkDovPdAL3GuQJCeWMDLKMY/Iv/RQFysocBao8w/gdm+wGZVVT9AfNRAFZ6NP+b8aT8qcW/AeGgCPxJ5u8AgW/89syUCQMvMtj+LILq/JJsUQCvto8DKOoDAYWX0Pg4yu8B/9KG/B5q7QEGVwj906Bq+UeqDv+3JQkAmOJRA6naHPzrR2r8RvRs9ZwnKwEvSZj/HuM1AaWTIv19n0T+FeTo+hiDDP/hJ+77nUoVAqbRUQFnpk0DjdMs/G3/CQE1CocAvO7dASNR4QUZfDz+G+tdAUSedwHozdsDgNb/ANR7bwCEyPUDjfz9ApL6nwN41tT/1HVG9em1EQODw+z45mjRAvzHXP/xVi0A2FRlAl6qrv91zn8CclLs/uOawQNm0YEAJDhI/vxTbQOJzyj+obcRAtwS7Pxke3kB9eJXA4GDFvzg4o0BQUc49MzonvsgMHUDKTU9ASaZQPw0nb8CLNci/iV6WwEy/3EBALhi+uzLRQIHw874JtT5AUqbJQE+hbD+U6wRA0g+BQGy5qcD5Cfs/zkSZPy6DxcC/57E//E+cQE09oMCLjMRAVra4P/daVEBAkM3AvBIPQDeigUHqyNE/JDJQPhHBrT8GtNRAymWJQCLi1j+o29DAQm0WQHCbxUC50im/WCy/P1+8O0AQt0I/PC/OPihvSUDRGf69X4nHQGM90EAiznLAUkqrv5/b3cC4glhANqGJQJ192D1aDtO+pSnyv0zdNUDGWsM+uLChQNAtOEDNnVpAsPCYwOPOp8DOZoBB0HUOP+PpNz66eNBAV5YjwE68bMA0D8ZAIOAZwHgbCkA0kBZADV61PyvU7z+PQnY//pCPP2EFqMCtb10/ZMrdP7AvTr5exZ3A93oDQJmorD+5369AM0C5QKizAMAVZtzAwHfVwBMh+D6ZRsW/PUFiwAmHMz9YPsVAetdBQF3W1D8wkus+NkX5PtvKZUCrU4NAgOoYQDclvcC4lOk/73HbO2+/kUAwavE/HCnRQEN41sDRqnDAZSyEP6ji0kBlYgG/8SOWP+kTUUBHLLdAq2haQIRXgD/Hg6DAcSUoQP5Q00DfPXpBaVmdwMEUtD/8+VTA9IrLP9k7bkA8gVe/zlmCwO86RD+76c4/gNmWQLmD674tIL08vruAQQ/DV0BZQ7FAlBLQwMXr/D+H3pXAiQu/v0PST0Bt3h5AMOLEQIRbOEAfpZg/pbK/QN+Ef0EM8WPADNDSwEqFTkBxY8vADF/WP/PkRj/AxaK/L7YXQIS7IEBwXLg/iO/sP8jw5z1wCP4/VTyqP21o1ED42lhALVzfwPneysCf6LhAMFpVwFkzKsBOeD49lizHwGSS2cBPGNHAs2EPQKngjUBTrNhAH0ElwC/4ij+92Mw/0STTPRktpEC2zVK/3iIGPws7Cj/oHls/m5HLv7LRyD8RvZ5AskuuP8gdN0DC7sXA+ZyewOdIy7+N8Ow+snOfwCq9GEBGzK9Aa9gvQB1TwsBdEKQ/a9bpPu3gmkAbDtRAV+ICQE8G7b5FgMxAX7CkwBeZoMBUjsE/EDqSvdmbUr+K+jc+xpG+wJpPicCLHHZAI2+UQGZzND+zc9U/uh/fP9xUEkCzoOs+T9nJQAcblUCukylAyxtUv2ACgkHOpxY+P+CUQOkRqkAJLd5AHVrEwGLMnMBx2OM/WoqcwGU3/z802MtAd9cAQOdSuEAiSUBAKgTQP4DOgUFAE6y/IU+awOJwzb6zCqHAJwpjP3JP877Ml+6/IJYHQM5gvD+eJ+0/KBzFwGlQ0kC83XtB7EFPP2bUI8DTYKjAjJIvPzC27D/2wVVALwOYP87+PkCL/XNBLIOXP+eBFT+lLcVADrTuv5wPJ8C7bvW+objRQB0fZEAb9XRBg1TbQAlgH0CUKspAl1+jwDLV9T/SsgRAxu2ov9mYN0Ai0YDA8OWSQDxS4j+wxmNAl6IOPw2M3cBZZ3c/U1fQQNGQpcAKX6M+0csQP6DonsB2LY4/geLoP5oirz8Te6bAEEwaP8VE6795NZpA7V4owA7aWEArHgI/UJmKvjuUO0BticK/l2GyQNQ7zMAtVLBAUIOYQBt/gz/7cBFAoMfKP4kbrkD3AMbA6NDwPsSR+z+n83VBfNLzP6JY0z8k7mFA9lzIwFB0gMCMYKDAZOO5v8DB8L5KZHZBKK/3QNMI3j+B+N4/9Y4WQFKhGj8V3J3A0gbAPT0uIsBPMp0/knsJQCsMJEBpjM7ASnyhQKQyk0AaP2NACnGjP1qw4j8q+cNAAyHov1wKn8A4BhdAdGCcPxLrTUCnB8FAiAlSQOmk4D/nQfC/dMUxQDBRHkAVAE1AvNiAQUYOAUAvkbU/BTJEQKJTwcAVLoTAc451QZcT3cDlbD88ayEbP0a7w8BsFZlAM3+qwIjIQz8xcK0/oCAOQKJt28DdQcdA/EsMQBOLpMBDu7pAag0RQJJUIL/v5+c/XbG5v4I4ED/hI+U/YqB2v3B90cAbCF1ApliPP78/0EAUeW7A9JrPwMRnc0APdRFA/VfBQBhvy7/PJZPAA/vXQOq8LED5qNHA3/yjQGx2fMD4izY/0OSkP6NnJj+qNEpA3Z0WQDeqaT8FG99AMr/sv2sHdcDMxDE/Zq2EwPIQ9z8LNqNAPtnIPw01V0Ci8ZHAIcDVvq5ybj9gjrs/EOJXQJZ+8z+Bc91AnxrHPuZatkCEmaPAHdPGQIGezMAmnndBI/PQwLLe/D8bhEFAr7p4QczpWMBAjua+AXuCvv2Zuj8+ScFAHhpaPY/IzL8nWdPAzwG2QGeWUD/Urf4/1Xw/QAWs90DIr7tA5LW/QEO2vkBtEfA/QW3MQMzHkEARVWzA96fCQF7jmUANIyBAuAfEQMInekGhHwVAB9rkP7ILrT8uFQFABTrEwBCUBr/h9jg/u60Lv8MZvMBGb8w93gxCQL5Rb8AYD8LAtuXBQDGjm8BVids9hK10QN5Mh0CXIrW+mQQnQMeiMb72268/T8QlQOLthz/mucW/W+CpwFPxvEB9pSxAfXCawMyenT8s37XALTlwwHz2w8CJssk/VuLSPiGwq0CSyqC/fU4LQNOinL91U8A/dtDFQPlpBkAt6tNARDpxwGL3GT5Hq6DAcIqrwJkCZcAn8Nc+o3zjv2b/RkATGZzAjMclQBzf2j5YHUlAJRFfQMezkz85dqPA3xl1QS/oQ0D8mVvAp+S4P8iBn8CyqNo/HOXTPw5RwkBG8dVAuHXewNX7vECvZFPAMznJP3WbycAhCBxApMFgP5UgXsAIdUg/Mx54QRHLdUF3OyxAcMXXQLObPj+zFKq+kcJfP0jSIsAKrYtAEO6jP/hQVr9a2cNAbPifwCJ1jkClk2/AQU1lwNE/nsAThbhAvqAKvh6/ZMCe0nDAZLLBP9CyYb+PoJpAIcUkQOVE6z82ibU/d3flP7wfhECbm74/v9kjwKNDBkAo8plA1Y/HQG3uWkDCOplAon8oP/TbwUDufR7AA36lQP3FWD/b4dRAM8J4QGunikA7Xc1A+wVFQCHq1UBUI57AvW+zP7v8C0C8RtrA8p9RP5DLyj+dkJPAPbB/wGhSyD9n2hvAGC7EwG6htD/CimRA/G+gwNGZyb+HrSZAKMCUQIRWzkBQuhpAgpEdPxXTvkDvLzxAVEgCQHNaekHLPu6/3s3CP/aNaEC8E89AsDUUv82u6T7bbLc/W8mPPoKIDr0UvCJAyjLQQC8Csz9bYS1A+FXSQLMv1T9xEZvAgrydv6wTK0BsvZPA57x0Px/YKD5qdS5AJokgQKDxKr49rUtAnEvLwLzL9z+5TkRAVB6ivwO8MT/QNWs/zgqEP4gVgUETlH9AoaoPP0fqgEGZi/8/b3L8Pw+qr7+Kh9g/jGxYQPUQhD9z4qLAcNvMwFpteUFQ0XZBKHMZQJjapEA6i3xBiWiGPyLn0UDBkhA/jHsgQASddkHZ5b4/aVf+P8XUuj/Q7sZAreLCwPmfNkBdscDAWmQnPY8iJUCkQxo/AOWtPzOHx8DQgWHA8w+5PRtwtT/FmFU/C/uTPwzZCr/33P8/rmcZP4f8eT+iu5fAPCg3PdhqLUD33V9Ai/UvQBqFUUClf4ZAPquQPoQPvz8vZrzAhugDQAN4wz8k8iJAHDntPpZftT8Ih+4/m6kFP1rxS0B3w10+njhgQAXJ5z+zBOE/HCjSQGs3Yj9ezqTA1vlJQHOgL0DL0Wo/2VnNwDDcGEAVE85ABgckwMf4HT8p/VBAQd/FQBD0Hr4AJxZA6FKfwBlu1sBZKDI/1ru9QPo/V0AUJojAbbawv9QTqUARpwY/ORs8P8KnmkDDS/Q/eBcWQPNLkr2qgb1A2tZjPw4B00AoSU8+WjbfPhXhn76mwYHAvw7NPzRryj99Scm/fwSNQJ2kQz/wBYXAjSWAQV42n8B6o54/XVJ+P2OJo0B9Jo9ArolRvzbX+D6GTek+SFPJwJ0hvEBgKPE/blKZQIChu0DSRNtAz2MawALuID9HXRA/OVZZQHm/hUA+23g/8wwCQKVnwz9eDHxAHligPwu4hUDNjvu+MHrWPhQvvr+P1b9A0SqGQNexrTyGVzxA2hdswIxDTkBDi6G+TiHcQIgcm8A35J7AYtpiQFp68L4uUcPAwzgeQNj1iT7oLfe+koPWPRSVlUDIQjlAElppQM+4mD5iR38/uXnMv8jiQ0A+DARAM9RYP3Mqjz6A/ntBRl6XwFBhi0BNuCbADzTfP3OvJcDEzZ0/E+xGPXjyaD4fzNg/75WAvqCjHT/my8ZA93BHP7Ed5D5nYpxAMf3LQLVvXEAPStg/JlClwKtjnEAaf8w/d5p2wMCDMkBKS8bAnQucwCuWIsDJlmpAWozBvnpHvb8m9BS/EGk1QFTOxkCeK5hAev4UQAng0EAKzK8+jVHewO2N/j/TXchAqX21vjoqSEATNbC/dgerv9GO3kAUtUk9Mm3PQOczhr7IzqLArp/OQLyOzT84vuM+v1H3QAEVpcCkaqTAvJy5QGlT1D+0DSNAW853Qd/H1UDue5/ApZemwFJUJsBNqgJAyHpcv36Auz/Ek5A/beiTwFLjiECo9Pw/0XOTwO5F6r+GalE/HpvbQOHK1MAvA+A+eUxIQGEDHD8aSXtBO4irPD8GbMAKFp3A+tAqQBHuYj4/xLe/pU1BQKbxpbxU24dANIvewNYxLUBNT51AlI/NP7YFY0AsxMXAlIkGv8lwcz+rgcnA0nxKPoMu9D8MBes+D50eQDbipkDOyFU/vtXfv1Fqq8BME/k/ju+AvkvON0BGXgk/C9PzP594yUBbPLxAt7yNQGgxCD9NjrtAIkg8QI50OzxH6t3ApcxgQKQWoD9NeFu+4BBcP339ncCxUWo/4/EaQJVQf0DOgtZAG/tzQQrDbD5R+TlAGol3PdRzNEA2AGRAgdFkQP5qvD9LqGJArep0wLDbnj9ZI5FA3PvNP7wxoUB4Cqi/sZSAQZgIwr8praPAJ4NUPuMXNkCPVIpAapdyP4J+dsBbc0I+h312P5uIpD+hSdlAjnJ+QPFxqj8YU2Y/G5jVPsKXaEASBpFAnm2KQMhv+EAcBMJAURbFPxGcQkDOxBbAb0Z1P28apj95tVtAAbq5P6emqD8lOG7AECC8QHSdaUAO9MZAw4/FwBHgu8AewZI/EtCjwGTyE7+RtYo/fHZIPwpLgUHKqDdAOL3VwHeT6zzqrvw/ejgzQDun3kDNpcY/De0YQLFe5z7eYs6/JyC+vGeFqb8oLS5AOn7TPyP5O0AW6X5BWaB5QTx8wj+6iKpA5STPwOOwpsCABSTAaImqv7ieqj8CStQ/D3Twvxg5rj/Sis3AYQqmP6T43UDRGIO/rXi5P8kf0kA5IynAhVPEwDMXfEGt4xy/DrdPPgzvzD+9DO0/uMgbQCYyf8Ba5Ig/5HgPv5RaokAUoc0/L4/GwMPAZUBXyL0/a12jQCTd2MDlYBNAVqfEv4MQUkD61qnA4AJuQAflHT9IFMpA0P7NP5QiW78hBya/0ybUvipUXkAQcHdBE9YiQJYGxz/VZae/DPemwNp7ub7U3OQ/haRwwPAZt0CD4oPACYihQFumnMDG6cQ/fMhRQOOlAT/VYtRA5T3DP0uplMC5Z4jAUInIwPOIq0DdtUc/lSTAQLSJNUDNR5rA/Lf+P/M010BrRX/ABezVwKNtncAE6Xw/4RqQP1Qhv0C0Z4RA0W53QVxArT5ehpvAJCKzv60mwMDF/No/TdVtwLDitT+EDpTAsuaiwPqwUECC5Io+IMXfPzTvFUCnzeI/kcHKP70YLEAneZHATibUP9U6VUBk47U/2yzEP//pMEBcpc3AKfO7PwkkpEB1seU/zUB2QQblU0A0jpu/VrxcQFj5EEBAMxxA1BiHP+T/3z4NaNDAAkjpPXtEtD/1+zlAksncwGkEaj9KUYs/bUc6QKxxGEDXinRAoYK2P/YKYUDx9dc//tKjP09AcEDuf79Awz/UQG5atb97JM5AqLgmQN+2uz+lnafAxtBiQBCjEkDjnOe/bq0iwEhQ3L/JUJk/DULMwKeweb9yap/AVU7XP4OiKMAUGX5BRUrEvxQMw7/kL9U/atTLwL6oxMCl2DJA5Mx1P6jA9kD803VBNQbhPy1jhL4yXlNAjTXDwD9AO0CVjPk+olNjQIKDS0DE1W5AdRIcPlPBlsCouNPA8v7LwPz5x8AF9G7AZ0OzPxH5uT8QpsM/hPaZPy6/uL8FtLI9t2CXQFtVpr+m1dk/mO9CP7BZxUCYXlm/6F/EQBVYjUAoa4tAkw2FwF39TEBXlDk/QOI9QMTaCEDwgem/fSWbQHXc2j01NilAPW1nQKEInMAWAcJAfyCeQNum0UDFeNQ/bXMSPYEXikBOn8XAnBe9v4nL1UAIS/6/4gPMwO4gw8Duwig/kKbNwB+vSj3RNBI7UJcnwIPuST7oAxY+ZERKQLw2ur5FkZw/jCQWQA8MiUCSF/u/+10mP+OndEHAUv4+qDS8P0xqkkAT47VAOpkJQN/QU0Dzib1A1EaZPym13sDXRtY/tDeXP215sEBSRkBAXdbIwDWOo8D767NAHWMzPzOzLD+jYXhBk0H4P8Zy5D735HvA22TpvnlyGz8OeVRAnc5VQOjL1UCxBbc/ZgGDPypCsz9i9cPA7Jp1QTnyx8C7/V1AShI9QILBAjyp5Og/u4kVPy6vY0CoqR7Asr86QJEKzEAFvHlBoH7EwDQYpz/n1hRAsa3Cv7ncJkCDpNbAEwzHP87hJL6D5FlA+SjMwCHWecDp1KbABZEoP7smusCtA/c/vjFoQCN5vsCpqpk/rj+hP6Ppojvfk19AStYyQInfvMB0QjhA1O0YvZVEiz8JyFA+du2TP4obcsAQHtE/UQnRP+s1Eb/UHXk/UXjEwA4xk0Amipg/DrK9v6B0BkB/eUE/S4muP8xrt0D1JcfAxLozPxUalMCS6R9AfiG3Pyk/WUAlBjRAWIvrPxrmgT+AFCNAalDKPbGWDsBVl0c/MaDbQBQVEEDgoyI//9I3wCc0iz/9G5LAkAUXQKK5zkAH09FAdQuTQMmcgEG+8W5AGFCYPp8SUrz/tWJA+RoaQFJSUEDv6V1AdRMWQHZNoj8TPyRA8rmbv/blyMAUyk8/YWEewAjrkUBnWQtAkYXEQDp4RD+9SFg/ztFKQK0QFEBZ92BAsfoOuQzzEcCCA8XAkvCfwBMwykBsdnPAsNj2vrS01r4pmkA8kajVwK4kYsBP6LQ/tH0IQNp/90C6flFAmbDxP8Les74+IrU/qiHJP8RGfj9LA+Q/+HwEQBSCKMB8oIo+ODbSQOMLyD8+SaHAVQSAQQS7zz1+jXTA1P3XwDxvK0BDW7M/ohaJQErIz0CCxba/Y1VYwBb+u0CN0/dAtKnDP6edwT/JQsk/IZ61PwHAAUBLRnlB8CW8P3iHi7sKXZrACBdZQJn7fz9bH7Y/t6PIP4kP0z/EP6I/PFq8QBqS6b4ETJRAtdOEQEfzl8AfsbdAgHtOQFzllsCtmpbAz5m2v0wNEb8/uJFA6VtYQPbcu8Ari8fAPNdFQLmeED+nV8Q/5eIxP086u7z2ogJAwSTCwJRiqz9syghAPKjFQO8cfz9AX3TAez+yP7/EhEAH7lxAsDzVQEkqjUDAWlZAWQSwQFfZkD/W5o894sPIP2LRzT+WnbxAyyGrwIc418DjccFARt1RQGiESkAwlH3A6/WRwGeC5L8rYOM/iwljQB3rqr9xCyFAVlIowElavT+QSXVAdiX2QAabT0Bv/4K+wLC1Pz+9skCF/1lADtRUQFMjIz/hsqA/uowwQFquXkBpIljAJIR3Qb2F/T+UVr9AA8TGQFifET8IyifANJRCQP3GFD/88EdAEAfawPsolz8NMWzA41YTQN0sJcCasFZAeS4RQIansr9Tb6c/s5VyP+Joqz8DdLM/EVvvv9G1jEBel9JAbWWeP4r0tj95pb1ANeGTQDXewUDwXbnAuamjvw9WZEA8vdBA5/I0PwglrUCuRLvA6yYgPo3OckAhs7M/p9CHPsRxlcC5L3RA4+fiv6fSBkDnL7tALLfewBUSvEDvACQ+uIJwvmcyLECJc3pBdT9hQE2CyD/q7SJAviMCP8YTKEDLDeE+TZ2BQE9LDb7Uqy9A8r1vQBVhf0CR8w8+z11VQBli2sDQ1HVBFcSovhLxx0BTU45A2qZeQGmA+L0bVndBgM1gwLuThMA1ZhtA/fy4v2d3mj8esvQ/NFNsQCNkx78Fy7TA62PgPuYGqMB/eIdAH3qSQE6W00DUBZ8/HBxAQB/Pv8BjsEQ/igqowM+4kL5EgqjAgZE/QAxU7r89+AG/e/yqvxNUqsClGZnAgWCzviY02UCmIoY/cngDv0Ffjj+SXShAOZI4PrnOhz/x9xZAiO7VP4bhkkAdhqm96l3HwMsAWcC+ue++g2KTwLhVjEB6XNG+4EEaQAkD30CwypQ/0s+dwJpW3D87S5VAs51+PzaJm8Cwa9rA1WEcQLeio7/K7TxAUT73QCLSpkDfjtjAzPLLPw35tj/PqZHAB+TYQEyOtj4XD5lAYXwMv2hujT9o4xVApb+owF/FlcDOV1E/wSKBQX7Goz5H8K4/D2YkwBeh08D2lBs/8x/cQJtAzUBQ99U/hWFNQPwiDz74jYBBYmXeP8Uyx8A5fu4+ajfRwCO+pr+GfUxA9++3P9jWdkETmhxAP7uawPxW4j+RaQk/D9o6QGyn4z179gVASR3FQOjtyL9kyprAiO/FQDDWTECCJRVAvVdYQOvlmsASTbk+0sqvPw7Ymb7f8Ju+dIzIv+9eVkCZQIw/2pPYwNj4dEH4zRbA+pIHQGP6QD4mjKHAo1CKPc801T/myoBBCpVWQIwIc0ChTZ8/oFc2QMTmQkAkX8g9r2IMv0FrAUAODMPANaSGP4H7YkAAodxAKTbawOF2pkCp+ou/GTl9P6DShb+BNFm+/yd9QZr6KT8CIgA+JXc+QFl7uD9h1dvADfsZQGcLxEDwEtdA5tupQLRWVkC9F80/pOakwKFRdUHYznU/6QonwPkPPEDj/lZAZOysPwrQPkAKIbQ+pT1JQIt9kD85440/nXXHQN9sEkD4lBhAYNKnwFUjW0CPTcXA7wqnvzwZxUAKR75AdWaoQNNQOkBY7pM9wHqbwAv02zwvBcZAsD3ZQMSBVj9fBNpA7EN2QScVWsCsHtrAvbXCwL+Gaj2gHeS+Ll06QAJ1CT5O7JI/3aC+wJBWP0ArAXPAPIrhP4WxlMDL0XRAgujZvu8mt0A59YtAxuvGwBiIHz9MRxtAJPv2PsRj3j+NJh1AHYEFQKkthcBjWr5AYgGrwG8gob49mv8/aoDSQEP1zkCTY/W/w5zOQO1pSEBcwZXAxTO+wIBsFEDpuYBBFoekwPyKm0C3RZrAVYE2P1h3Pj8WXIc/JWSdwGeCncAw2FFADNBpwBfMGEAojanAcvm1P8cblD/aice/MTxNvPNFmUDXDIW+7tSJP+C7RUATgsg/HUw3QBtJZ8DWRVU/OqdzP3HFgcAh/CjA8nZQQKQ0HUCAJsXACU7Av7ikS0AEGwhAXdCCwMCQRD7Pgp2/RGkAwA7G1z8gds895XG6P+5on8BfMB1AvM33QD0dJz2NcIg/phvbwIzAY0AKIM7AIjpnQO9MjUALwb4/VtRyPv14CECrtF5AaU22QECm5j9Cw95AL8OGQEVQ2z6v3KxAEEFgP/IMRUDDmNxA6eraPikNJEDLvHNBcDojv28hJEC3eaVAu7ZZQGltSD8t5+w/K5MlQOZoG0D1D8ZAYdEgQA725D83uLM/zI6ewCoZ0kBl9EQ/IKnGP+/JvcDMqczAO8oPQHHUWUDFNdnA7W1/Qd90xz/1NdrAln3LvvF5WUDJwvZAt/PVPcOYj0AAqPk8/c/sP94xvcDAkr9AmrklQP17gEH1255AXy7UwLWwVECjHDhATbJXPx9U9j9PyfE/HJx3QYd1ir/RcsU/h/6YQBzWij8XJz0/I5JQQMoU3b6Z2k1AafDcPxAbGUAE3nRB9qyAQcOmu8Cjd7pAtuHCwG3iOj/rHw0/5IEIQO/AysB+TT9Ati7QPxyGKUBP7ic/Z9W7v5d/ZkDiVVNACc7DQHra0EB2S+Q/JCdVQF1epr+du64/G1nAQKKvhj/N5L8/b3qvP+994z+HRpQ/lAaCQNDSSUBdylZAhV3XP+WQFj/OSlRABYqXP2AlUkCYLatAHwEBwCb8qD+/1dtAZHCpwNQjH0DnAIg/WEenv3gJpD94mEtA7MMdwA40AT9SDOI/U389QJuyU0A1cZLAKKepPwShYEDfd8dA0bTXQFHc2ECfmp1Agf7bwL8C0MBpTYZAi9rdwMX1Nb5U0EBAqimAQUHoFEDCbNo/5qa+vw50ZT/g5TFA9Cq6QL3gdUGHHx5Amd0jQMzIEL8clx0/sgNhP9Zj0cDF17bA1qK4v/j7ikCAwWE/T6J0wIRPqz/N2ERAr7KfwBvAc74Z9qXARJ2YQPlfoL9/5dDAde/ZwE9wXkA3QpFAUll6QVKQ90AfCspA2M7FQEUnpT++6gBAiJYlQEMv6T4SSqjA6PHuP3SRk8ArFRC+tP4WwKwvdsAVngA/gsJcwIjFLEAMfpfAoSPOwNsDMT9aQOu/wnzCwBo9ccDSfsdAy73FP84GZj8Hb5BAOz0/Pw+5pD9ZwdA/UWm8wG+n1EBzaXxBq+Hrv2OV3MAu46O+tA+uvhGlhD+nU4BBqDBswNTfWUCBwxNAh10/PcXKxT+O9/o/i+KBQHPswb96EVhAI/h8QTup2UDnp4HAqEn8Pkq6nsD71pM/DNwLwE9edcBwc3E/Srp1QVeaR0AXbiFAyNjmPpT8g8CNTJ6/U+CfwEGT6T9EEZBARb5av1qz6j/7wr8/wu2tP/xUzz53wKPAiASgwBd99j+vDzpAwo6zvoco0j+fgKPA9ojHvyd+/j5/8WFAxybeP/yan8A2MihAS0JVQJwSlj8lt41A62ohQEsgpUDDY7U/VkN1Pxd88D+hOS1ASCAOvxU7JsBbyHdBKxilwHfi10AYaiw/4IV2QZy5QEBtNQBAwQfdQHyOxECEcMQ//xeZP0yl6L+tBSJAg7kQP723R78a0qW/FBG7QKBMqz951J3ATuzIQKrioz/IFZrAvEO1P4qge0E/J/c/x68iQHJ95z+Qtaa/kmkZQLsA0kDMrFZAnsJ5wFvxfMCxD8q/WE6iwP00bMDzdsdAPeiUwJHyIMB/qPs/T8XTwI3vw0AWnag/6EwyQHCyBD96KZ/ALqH0PxEExb8sF/dA0iKYwF+y1MArpuM/G+HIQAws90A1xGPAFgiJPqmJEUAKy8i/ccrRwHxI3MDoD78/oRBoPiAs2T+gLbXAidMBQHqOqD8A6pTArGh2QYuC2T/uulBAaM6jwIioa0B7APY/MuzNPyqQmD+XC0BArZGaPzR/jED/vtnAqDnTQBsVXUD268c/AztTQADtgb31KntBTAOVQIVFmsAFVnhAAlnAP0iaA0Bho8tAt4nNQKdOCUCytExA8S/zPQtUqb979GE+MocvQA1XHT+0gxBA4t/qP+jG3MCy2BhATt3CQKb4lkAJe4XAaajGQKmBwD+OorI/uJ3cwOxaN0Btuui/jTytPDKHiUAxfhhALpB1QS0xjz+U/53AhX+gwOCoE0ChmqDAI17Hvw6zZD1mO+A/7r7awMydIj9DlcNAAdbLwOT4o7oSf389OOrGQEjAYUCaSxVA7IQWQI4RocCGgIk/dovAPldwLkAtgoA/iYwmPrmbOkDPOAZAeXWUQK1Ukj+I5Wk/kiAgQF0FVUAWPxFAcZzmP6MTQr08TsvAXolWQAHUVkAnbNY/k3QoQH/Rb8Dbg08+P+8NQI/oWz/Ccrc/OG4wQP2yx0CIWHq+Cy99P93qmr56OcXAfOIiQNrzH0AavdDA/O0HP4iZF0B9DA9A+YOPP3BU90Aof7k+CT4wPgTuHz9XIZzAaDHnvwTHnD/KTktAQ4nmvtIoxkAvH6A/XKNVQMvcu0D18vg/B+7xP96Cvr88ZAk+6pggvn36gEF++HVAMRvSP2enbMDawiNAoUm0QKV0nMAjuwK/mnwIQHJ0gMBPKV9APmVXQAaHz8AW/jZAxcpKP0q3xECJxV/AzM/nP3hRiEDUX9jA+1UqP8pzLECQ4spAuYXBP8NgzECBsMA/0/sBv/MTxUCb5cbAcfxyPVFmAr/0hza/STrRQF5nD0Djua4/iWGlwDPhgMA0cYBBjsmVQJIzSkBvM5/A3FZ8QWYE1UAZf5ZApvbSPsE4zsBmEFk/1USxQD0yzj/e4oO/PDFwPzhyk0C9XK1At6pGPwQdfEECFSJAxBQwQA1fokDxMCNAHCmyQH8z0UBcM2RAObVuPkgmxkCnWDBArhy0wFscukC5Zek/xVoWPmpN8T8d1su/Tcu6vue3kD/f1IM/Z5IoQAVNWkCLq6LAOvOEPkP2pz9a5lzAlZHEQNaGfT9CyIxANEQkQL4ugUE/9oxA1FY6QMVA0UCBAL7Ah9LcwK0wfEH4ofM/q0fzP3QC0UCt6z9At7XlP3DSvMBYvCFAdwkpwAfhJsD2lXBA0t/TwJBcnT+LkaTAhbJaQIag1cDT9TI/lIq8P0Ruy0BapKo/XjouQD77IkBfpYVAGT/tP+BpnkDwp28/5T7RQAqu3UBQSM1AkkHOQDdkz0CWENk/E9oDQC58o8ALgQk9V07BwI0Uyz8hSam/UPuNQFQL2T6aNL++ODOLQL1ssD8CJ97Aqc6qQPOWc0E4hbxAPMFHv3BS4D91Fo4/CnC2QJLSVz8g1MZApB7FwAV9zj9hvBe/MpWgv/PGhUDYYTZA8qmDP7Qf28BA/ARAdl23P4k47b9RWXDATsDWwOYkA0AAEnnAqeDHwMAeUEBgF6LAmIcSv16+VEAJX8LAjTJRQDEZxsBqzpk/5zgPQP4p1j9Od5lA+gcGvZj24D/ZZ+E/vHyAQdXQjj9L0cM+r4VmQEaCq7+MxZTA8yE5v2A1hj9dfME/Gy4MQMJmBL+Opyw/u0rQQBTZLz9QRok/kqOpwPCT0T+lTXZBc1VtwDILq7+LuKA9dJzJv6MuQUD5Y7rAuhTTQGMel8CBbp/AfHfGQG5ZskBDN71AXM55Qfdj0D/RIrG/tCOfwLm0wMCaC5PAPdxNQHcd/T/Uv2BACnJtQLHdyr9fN9rAx0gKQI/3fEEePjA/HZaiwMxCYEB71pfAeEyxvwkmBEDrZKnAEi00QMWd3EDlvoTArWDSwELVdEG5QII+r0XYPRlLpz8wrxpAB2nBQKomJEBjUSbALO8yQCcnhL5XAJXAUt6eP4j/hj/BvjlAbemRQM20JUAxjMO/LM9BQN3/UEDsztZAGqaxvuL52MAWJ7m/jwSBQTvluD9bGsS//uJ6P1QOmsCe8Z3ATFrRP+zifkEc6ac/njbaP9ZPv0CxOzBAhHikP0uu1L6ZWdk/ZqnJv3VATUCI0cS/JPXawGfjX0BRIAs/rAOcwFkJeUGhMUA9auzGQJwVgkD+77i/JFHRP6Y8qL6mDmPAgVZ1wOVl0UDeDYZAbh17QEsvO0D+ZJXAlS6GvkB6dcBAeKi/HqXCwEWqYEB5gqbAjEUmQFfbJcA25pzA3/kEQGtGdMC/UslAynydPZNoqL9myry/2NTOQMj6y8BARtg/WX2xP8tGdMASMLM/gKh8Qa+UBkBpqtw+IiiAQUsr6D/rJWtAL1VWQD4z18A1NLu/bd9QQLnidEHi2lu/2be2QMEBnMCRPbc/5LKdPqEPxkCi6NnAKSSzvkS8Tj0foHQ/1ry7QKAa0D+t+x8/b2izPy2ziUCJcvS/2LSowMPRYUCJcw0/Pq+EPt+nxkCGVai/LQyjwKdJrkC6q9E/qEPuv8ULnMCFOFQ/67yfwNySgEFQ0fg/r6Czv2E+Y0CCGy0/aFCyQIlfmUBeyea+2S0YwOQnbkCDMzZAUKSjwJ5sTUA1YF2/peS4P3dgcMAOdS9AJUJyPj/UZUASCHVBv87VPjWGn0BWxcjAe1+9QHTeasDiW7g/VxGAQQ/95D/YjX9BZeOUwAwKhz+cl7vAUP+SQICQv0CqSYNASBLvP2dSoT8YQ4BB1+XzP1xUDUDmbKu/3J73QMr7wT+7Ub+/tQShwPEThj37NwU/3jvtv0ROo8DDXyW+WOm4P6Jul8AMeu8/4bUSQPiUfT8u/yE/PNQFQOPFcL641vY/5F1lwBUSSsARtlU+Hcp0QU2Hyr9c7lBA89lBQN4C5775jaY/F6jSQG+HmD8Lm8s/6JLTP/AsU0BgFbRAu+WiwNox1EC7ouu/5WXIQAN+zz/KkZzAhlf3vhNq4z51tltAebgtvohTSkBoS7w/IVgaPyIaxEBSuaNAaibaQNfQkr4TnBA/Mh64QMig0kBnbG9AeENWQO5FBL8aOYo/M0eFwGgbJ7/tiDU/7O0uQNGQDUAlAHI/MreiwGCkIkApwo9ABGa+wKjzCUB0PaLAAjJ4QeOVn8ChhMlAH6FcQNaTkj8R78DAmAiKP+2ADUBo6RxArjgBP7I6L0AA8qu/8zy0vwJ3ZD7A4uE/K9p1QJBdAj/l7b1Ah27cPYKUvkAZZ1A9QPGrP7TrnMC1gdI/l0rBv14Ms77ziqHAiTEqQNKcCEC21do/F7XGwI7J2cDPlZzAUT7SQLS8678CfzpApNXrP+RE8D/NpVQ/Pto8QIzDg8AaOqLAUnLpvzrfgUDGk8dAlmyDP9dHeEFOFSfAnuPdP1O0BkA0ybk/QNS6P86BQUBz58RAtzphQL+QXUAP24Q/xh/LwADd/j4KNr1AByznv73ThD/dOwO/MnAaPwLlwUCpiZjAnHekP0uUIT/pLxdAzO/eQAdIQUA/1aI/qWfNPwqHt7/FwClA5JXPQMjPxL92BNQ/s1fhP9ZfeUHI94pA1viDwLwjIkDqTs3AQ1kkP0gTv8CcqIc/7BztP2/yn8AJA5xAPEl1QdTv0j91EOU/ORzUP5Ah3cCAVXpBl8aXwIRLNUDsVcDAbaxaP+d6OkCscF1AIjmdP/qV+T/6IeG7N+4SQAfbmkDQKq8/Ffn8P9ggEEAc7bY9F43LwBlS6b/OUwtA3LHLQCPBRkAoaf8/y1WkPxWwncBdnQdA5kybwHl43D8UMjNAXPIdvwkkhUAngH1BDmNBPudUo0B+I6W/jFVFQDyWNj94ydhAPFk4QFSpKz9na4TApZNEP5PBDj9QEC5AXBjKP49qv0DeAh5AEpMFQBzl0ECdx9xAhC6hwO/jfT/j3sTAd5spwOexLUDZViq/uyiYPX0Rjj8KUv4+XECDP72d2z83lsy/foEhwPsDdEBHip8/21+7QM6jcMBmpnk/E6XiP5JmsEC9Np4/k1k9QDx4gT7+JptAddUmwLir1j+nk7k/6iSSwLn54D/NmrFAhgzFQFREO778ep9Al/uoQJTVSkCepJ3A0j/mv6Vi18DYgSVA/VyTQC44gMCezdA/yZqewK3GXD8Jv4BBO07IvwqSFkAvH+Q/uEwRvyKj2sCuvHQ/mEc7QH77wECcvcpAEDUeQMXV7D6AitPAA73DQBxEdEEI3Hm9dO7WP+KQZz/UlDA/6s0dQAhLWT6wIRM/jt1TQJkv7D/ABilAz3iWP5aL0j6GOqVAm+p3QRt+6D2XqhrAUx9zwLPBDkB6zNc/x9W9QN4Hnz/9TxBAssJOPpSCqb9tTYE+JPx9vraOVEDopNFAPYykvMjZ7b5QRNbAMw+FwDFtfUG7xmm/hda6wLJ0xr8zUoo+/J4kQGnt8D510LU/nLzGwOqkFj9Xq3w+HQp+QDoOX0C1XCU/A0JHPijVuD/Mjw5AAvmMP17M/T8aYKHALz1HQGpBq79BZyY/wTP4Pwq57b+Dd7k/jTygv2V4okDitNXAA3GHQFBa1D/32bzAC5Lfv//To8A9BIfAdiUnwB5zncCD4RpAZm3KwJrMgEFK93lBLMj6v8B4z0BzjmE/J9LEQPUUNkD7gL7AaLGVQJ/cDL+ygnlBH2J6QehE0kBeN+o9RtydP3IKSUDKur6+hhgaQGlDtj9tKMe/CWW0QOazdkEVYvM/1aw9QEhm5D/dskE/xanRQMSr2kA5beM/J05vvFRAjEDh7w5A+FZnvv5xbcCnKl9AqHe/QOZ22z6V7jtAsYXLP4u7w0Br9AW/Tly9QDQYKkB765jAe7VcQC8z2sBMYIFBJP55QVfotr/j6YBBPfExQMQM2UAbW8PAGmh2QeiclkBe3ClAgo5MP6bOY0Ah89XAEuGpQNGJhj/1pAxAHzSKQFTF3j6DhiRAlSgvvI0MxUDA/4U/mn24Pzf+N0A7lI1AkgC+vwrj/T/g4L1Aj2/PPz5g0z8jE62/J+91QXs+0sAZl4BBVKIsQDjf4z7gDytA7VD8PUmou0A17SxA3qGwP3fGAD+Q7xlAhuO1QLkdycDZxMrALqedvlDe1kBmAIVABLNPQI/klUC3x8s/V07FwFWVMkDiqyRA+rTvP6WQID/wxsI/0f3HwL1BlkBaKI8/OTQZP16q7T+TV6TATWLJv4Cm3UCFpFlAgqcpv+RSfD/0msVATZm1wEZHMkDQGOy/xZKSPxuwe0FiqNq/yf3SwPnkvb4vQ95AOc4AQD6DHkDbeIs/4NCkP1XemsCdHZM+0KdbQAX0JECNbJPAS2zKv8dlwz9RM7dAA0+dQJPqmMB5cBe/mFLoPRMNMUC6aBBAo9kxQGuBND+AaiM/mt2QP1Gru0Dm3TI9+9UMQMbYuEC06kJA/Y3SQCMSzMDvqs5AVTGFQMvJEEDdZ+Q/YZURPyJOukBHDXnAbCnDQKB/lUBLh3VBrYa/QDwmeUFK36c/sx3HwFkEI8B9EJ/A2AwAvwc2FUBGaFI/loOfwOQTdUG1sjxAmQCawH9cGUACTwtAXWlGP4k87r+yD0hABIJoQNAKqMCL5+g9vyK+v5mGrkDJE77AdWMcvaOsmsD0u8rAYnu6QPV1cMCqTjJAV5Q+QDSWccBI4CfAAcL3QA1hPECZ4mVA3fWKvWLaBz9RbKHAo658QQk8WkBXcom9AkjcwOBOXj+BRvw9W9MfwLbL2UAQhwxAoqTeQEvilkCFqsS/ngU6QINdvL9mtZ8/Mt2MP88VzT/FrsU9PnEuPzPX2z/LBss+t+CoP6oL0L7WkJc/wwriPxcFg8D8tdY/MguiPQ51YL+BFs3Ayk+pQITy3MDoEtjAewxbv0LyHEC4e3hBsy1twES8Zr4ardJAxIGGQJY/aj/MDSdAn/M5PuEILz88ms3AMUbnPoiRJMAWhjJA2AuPQEi0lMAbAq5A4Eq4wBoegUET2xE/1uicQAzHc0GrmIE/KC7lvpzcKkDNeKPAjZ5/QY3rjz+MDJQ/ei4CQBwRm8BApQxAmIBqwAJzVUCjQQ5AQ8iFQF1cMECe7TE/xKyCwBLmIz/idfo/fX9XwPpKLEBMSxZAb53GwNGPe8A91t7A6NKEPpLeWj0f8DE/HM6TwP3dycA9JDU+r4xMvuqKQkDs6XZBTErOwJESXsBrIVo/qBhZQEtbWT8TKME/y4JbP1cu0EDZC2BA+xCxvgEgg8APbZRA7nt0wDGnuEAlENE/+xrRP6EwiD43BJw/6TKAQfwISUBpQD5Ax8bPP513h78=\",\"dtype\":\"float32\",\"order\":\"little\",\"shape\":[5222]},\"y\":{\"__ndarray__\":\"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\",\"dtype\":\"float32\",\"order\":\"little\",\"shape\":[5222]}},\"selected\":{\"id\":\"1160\"},\"selection_policy\":{\"id\":\"1159\"}},\"id\":\"1104\",\"type\":\"ColumnDataSource\"},{\"attributes\":{\"formatter\":{\"id\":\"1155\"},\"ticker\":{\"id\":\"1115\"},\"visible\":false},\"id\":\"1114\",\"type\":\"LinearAxis\"},{\"attributes\":{},\"id\":\"1123\",\"type\":\"WheelZoomTool\"},{\"attributes\":{\"bottom_units\":\"screen\",\"fill_alpha\":0.5,\"fill_color\":\"lightgrey\",\"left_units\":\"screen\",\"level\":\"overlay\",\"line_alpha\":1.0,\"line_color\":\"black\",\"line_dash\":[4,4],\"line_width\":2,\"right_units\":\"screen\",\"top_units\":\"screen\"},\"id\":\"1128\",\"type\":\"BoxAnnotation\"},{\"attributes\":{\"formatter\":{\"id\":\"1157\"},\"ticker\":{\"id\":\"1119\"},\"visible\":false},\"id\":\"1118\",\"type\":\"LinearAxis\"},{\"attributes\":{\"source\":{\"id\":\"1104\"}},\"id\":\"1142\",\"type\":\"CDSView\"},{\"attributes\":{},\"id\":\"1108\",\"type\":\"DataRange1d\"},{\"attributes\":{\"axis\":{\"id\":\"1114\"},\"ticker\":null,\"visible\":false},\"id\":\"1117\",\"type\":\"Grid\"},{\"attributes\":{},\"id\":\"1119\",\"type\":\"BasicTicker\"},{\"attributes\":{\"data_source\":{\"id\":\"1104\"},\"glyph\":{\"id\":\"1139\"},\"hover_glyph\":null,\"muted_glyph\":null,\"nonselection_glyph\":{\"id\":\"1140\"},\"selection_glyph\":null,\"view\":{\"id\":\"1142\"}},\"id\":\"1141\",\"type\":\"GlyphRenderer\"}],\"root_ids\":[\"1105\"]},\"title\":\"Bokeh Application\",\"version\":\"2.1.0\"}};\n",
       "  var render_items = [{\"docid\":\"fbf74cd7-a5d9-4dd9-9bb8-4b29f73b62ec\",\"root_ids\":[\"1105\"],\"roots\":{\"1105\":\"602e9162-ca8d-4b98-aea0-a0f7cdc5a8b6\"}}];\n",
       "  root.Bokeh.embed.embed_items_notebook(docs_json, render_items);\n",
       "\n",
       "  }\n",
       "  if (root.Bokeh !== undefined) {\n",
       "    embed_document(root);\n",
       "  } else {\n",
       "    var attempts = 0;\n",
       "    var timer = setInterval(function(root) {\n",
       "      if (root.Bokeh !== undefined) {\n",
       "        clearInterval(timer);\n",
       "        embed_document(root);\n",
       "      } else {\n",
       "        attempts++;\n",
       "        if (attempts > 100) {\n",
       "          clearInterval(timer);\n",
       "          console.log(\"Bokeh: ERROR: Unable to run BokehJS code because BokehJS library is missing\");\n",
       "        }\n",
       "      }\n",
       "    }, 10, root)\n",
       "  }\n",
       "})(window);"
      ],
      "application/vnd.bokehjs_exec.v0+json": ""
     },
     "metadata": {
      "application/vnd.bokehjs_exec.v0+json": {
       "id": "1105"
      }
     },
     "output_type": "display_data"
    }
   ],
   "source": [
    "train_mapper = umap.UMAP().fit(train_embed)\n",
    "hover_data = pd.DataFrame({'index':np.arange(5222),\n",
    "                           'label':train_labels})\n",
    "hover_data['item'] = hover_data.label.map(umap_map)\n",
    "\n",
    "p = umap.plot.interactive(train_mapper, labels=train_labels, hover_data=hover_data,point_size=5)\n",
    "output_notebook()\n",
    "show(p)"
   ]
  },
  {
   "cell_type": "code",
   "execution_count": null,
   "metadata": {},
   "outputs": [],
   "source": []
  }
 ],
 "metadata": {
  "colab": {
   "name": "ProtCNN_EmbeddingCopy.ipynb",
   "provenance": []
  },
  "kernelspec": {
   "display_name": "Python 3",
   "language": "python",
   "name": "python3"
  },
  "language_info": {
   "codemirror_mode": {
    "name": "ipython",
    "version": 3
   },
   "file_extension": ".py",
   "mimetype": "text/x-python",
   "name": "python",
   "nbconvert_exporter": "python",
   "pygments_lexer": "ipython3",
   "version": "3.7.6"
  }
 },
 "nbformat": 4,
 "nbformat_minor": 4
}
