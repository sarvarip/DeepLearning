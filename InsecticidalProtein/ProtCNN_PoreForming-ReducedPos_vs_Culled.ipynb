{
 "cells": [
  {
   "cell_type": "markdown",
   "metadata": {
    "colab_type": "text",
    "id": "JxM2najJOoEE"
   },
   "source": [
    "## Pfam seed random split"
   ]
  },
  {
   "cell_type": "code",
   "execution_count": 1,
   "metadata": {
    "colab": {},
    "colab_type": "code",
    "id": "a98D5LzNVJEI"
   },
   "outputs": [
    {
     "name": "stdout",
     "output_type": "stream",
     "text": [
      "cuda\n"
     ]
    }
   ],
   "source": [
    "#ONLY RUN IF USING TORCH\n",
    "\n",
    "import torch\n",
    "device = torch.device('cuda' if torch.cuda.is_available() else 'cpu')\n",
    "print(device)"
   ]
  },
  {
   "cell_type": "code",
   "execution_count": 2,
   "metadata": {},
   "outputs": [],
   "source": [
    "torch.cuda.empty_cache() "
   ]
  },
  {
   "cell_type": "code",
   "execution_count": 20,
   "metadata": {},
   "outputs": [],
   "source": [
    "#ONLY RUN IF USING TORCH\n",
    "\n",
    "from tape import ProteinBertModel, TAPETokenizer\n",
    "model = ProteinBertModel.from_pretrained('bert-base')\n",
    "modelTAPE = model.to(device)\n",
    "tokenizerTAPE = TAPETokenizer(vocab='iupac')  # iupac is the vocab for TAPE models, use unirep for the UniRep model\n",
    "\n",
    "modelTAPE.half()  # convert to half precision\n",
    "for layer in modelTAPE.modules():\n",
    "    if isinstance(layer, torch.nn.BatchNorm2d):\n",
    "        layer.float()"
   ]
  },
  {
   "cell_type": "code",
   "execution_count": 1,
   "metadata": {
    "_kg_hide-input": false,
    "colab": {
     "base_uri": "https://localhost:8080/",
     "height": 70
    },
    "colab_type": "code",
    "id": "l1HJp53SOoEI",
    "outputId": "128d4714-b749-4f6b-fcf8-9510004d5aaf"
   },
   "outputs": [],
   "source": [
    "import matplotlib.pyplot as plt # plotting\n",
    "import numpy as np # linear algebra\n",
    "import os # accessing directory structure\n",
    "import pandas as pd # data processing, CSV file I/O (e.g. pd.read_csv)\n",
    "import seaborn\n",
    "import gc\n",
    "import sklearn\n",
    "import pickle"
   ]
  },
  {
   "cell_type": "code",
   "execution_count": 2,
   "metadata": {
    "colab": {},
    "colab_type": "code",
    "id": "kkpO0nabI3Ay"
   },
   "outputs": [],
   "source": [
    "def parse_fasta (lines):\n",
    "    descs = []\n",
    "    seqs = []\n",
    "    data = ''\n",
    "    for line in lines:\n",
    "        if line.startswith('>'):\n",
    "            if data:   # have collected a sequence, push to seqs\n",
    "                seqs.append(data)\n",
    "                data = ''\n",
    "            descs.append(line[1:])  # Trim '>' from beginning\n",
    "        else:\n",
    "            data += line.rstrip('\\r\\n')\n",
    "    # there will be yet one more to push when we run out\n",
    "    seqs.append(data)\n",
    "    return descs, seqs"
   ]
  },
  {
   "cell_type": "code",
   "execution_count": 3,
   "metadata": {},
   "outputs": [],
   "source": [
    "def get_performance_vals(preds, classes):\n",
    "    #0 is negative, 1 is positive\n",
    "    a = np.array(preds) #Predictions\n",
    "    b = classes #actual outcomes / classes\n",
    "    #print(\"Predicted and actual classes\\n\")\n",
    "    #print(classes)\n",
    "    #print(a)\n",
    "    tp = np.sum(np.multiply(a==1, b==1)) #TP\n",
    "    fp = np.sum(np.multiply(a==1, b==0)) #FP\n",
    "    tn = np.sum(np.multiply(a==0, b==0)) #TN\n",
    "    fn = np.sum(np.multiply(a==0, b==1)) #FN\n",
    "\n",
    "    tp = int(tp)\n",
    "    fp = int(fp)\n",
    "    tn = int(tn)\n",
    "    fn = int(fn)\n",
    "\n",
    "    print(\"True positive: %d, false positive: %d, true negative: %d, false negative: %d\\n\" %(tp,fp,tn,fn))\n",
    "\n",
    "    mcc = (tp*tn-fp*fn)/(np.sqrt((tp+fp)*(tp+fn)*(tn+fp)*(tn+fn)))\n",
    "    precision = tp/(tp+fp)\n",
    "    recall = tp/(tp+fn)\n",
    "    fscore = 2*precision*recall/(precision+recall)\n",
    "    accuracy = np.sum(a==b)/len(classes)\n",
    "\n",
    "    print(\"%s: %2f\" % ('MCC', mcc))\n",
    "    print(\"%s: %.2f%%\" % ('Accuracy', 100*accuracy))\n",
    "    print(\"%s: %.2f\" % ('F1 score', fscore))\n",
    "    print(\"%s: %.2f\" % ('Precision', precision))\n",
    "    print(\"%s: %.2f\" % ('Recall', recall))\n",
    "\n",
    "    #return mcc, precision, recall, fscore, accuracy"
   ]
  },
  {
   "cell_type": "code",
   "execution_count": 4,
   "metadata": {
    "colab": {},
    "colab_type": "code",
    "id": "7MdChuEaI48s"
   },
   "outputs": [
    {
     "data": {
      "text/plain": [
       "2914"
      ]
     },
     "execution_count": 4,
     "metadata": {},
     "output_type": "execute_result"
    }
   ],
   "source": [
    "path = \"./\" + \"pos_seqs_reduced\" + \".pickle\"\n",
    "array_file = open(path, 'rb')\n",
    "pos = pickle.load(array_file)\n",
    "array_file.close()\n",
    "\n",
    "len(pos)"
   ]
  },
  {
   "cell_type": "code",
   "execution_count": 5,
   "metadata": {
    "colab": {
     "base_uri": "https://localhost:8080/",
     "height": 34
    },
    "colab_type": "code",
    "id": "0dO-Cc59Nig6",
    "outputId": "14b47301-3d65-4b16-e85f-bd4f69f06839"
   },
   "outputs": [
    {
     "data": {
      "text/plain": [
       "2914"
      ]
     },
     "execution_count": 5,
     "metadata": {},
     "output_type": "execute_result"
    }
   ],
   "source": [
    "path = \"./\" + \"pos_labels_reduced\" + \".pickle\"\n",
    "array_file = open(path, 'rb')\n",
    "pos_labels = pickle.load(array_file)\n",
    "array_file.close()\n",
    "len(pos_labels)"
   ]
  },
  {
   "cell_type": "code",
   "execution_count": 6,
   "metadata": {},
   "outputs": [],
   "source": [
    "handle = open(\"./cullpdb.fasta\", 'r')\n",
    "descs, neg = parse_fasta(handle.read().split('\\n'))"
   ]
  },
  {
   "cell_type": "code",
   "execution_count": 7,
   "metadata": {},
   "outputs": [],
   "source": [
    "pdb = [d[:4] for d in descs]"
   ]
  },
  {
   "cell_type": "code",
   "execution_count": 8,
   "metadata": {},
   "outputs": [],
   "source": [
    "dirpath = '../StructuralDataCreating/structures'\n",
    "filist = os.listdir(dirpath)\n",
    "flist = [s for s in filist if s.startswith('PDBpos') == True]\n",
    "pos_pdbs = []\n",
    "for f in flist:\n",
    "    handle = open(os.path.join(dirpath, f), 'r')\n",
    "    lines = handle.readlines()\n",
    "    for line in lines:\n",
    "        pos_pdbs.append(line.strip().split(' ')[0])"
   ]
  },
  {
   "cell_type": "code",
   "execution_count": 9,
   "metadata": {},
   "outputs": [],
   "source": [
    "idx = []\n",
    "name = []\n",
    "i = 0\n",
    "for p in pdb:\n",
    "    if p in pos_pdbs:\n",
    "        idx.append(i)\n",
    "        name.append(p)\n",
    "    i = i + 1"
   ]
  },
  {
   "cell_type": "code",
   "execution_count": 10,
   "metadata": {},
   "outputs": [
    {
     "name": "stdout",
     "output_type": "stream",
     "text": [
      "[1943, 2350, 3201, 3310]\n",
      "['6MYI', '1PP0', '4WDC', '3WZ3']\n"
     ]
    }
   ],
   "source": [
    "print(idx)\n",
    "print(name)"
   ]
  },
  {
   "cell_type": "code",
   "execution_count": 11,
   "metadata": {},
   "outputs": [],
   "source": [
    "idx.reverse()"
   ]
  },
  {
   "cell_type": "code",
   "execution_count": 12,
   "metadata": {},
   "outputs": [
    {
     "data": {
      "text/plain": [
       "3684"
      ]
     },
     "execution_count": 12,
     "metadata": {},
     "output_type": "execute_result"
    }
   ],
   "source": [
    "len(neg)"
   ]
  },
  {
   "cell_type": "code",
   "execution_count": 13,
   "metadata": {},
   "outputs": [
    {
     "name": "stdout",
     "output_type": "stream",
     "text": [
      "[3310, 3201, 2350, 1943]\n"
     ]
    }
   ],
   "source": [
    "print(idx)\n",
    "for ix in idx:\n",
    "    neg.pop(ix)"
   ]
  },
  {
   "cell_type": "code",
   "execution_count": 14,
   "metadata": {},
   "outputs": [
    {
     "data": {
      "text/plain": [
       "3680"
      ]
     },
     "execution_count": 14,
     "metadata": {},
     "output_type": "execute_result"
    }
   ],
   "source": [
    "neg_size = len(neg)\n",
    "neg_size"
   ]
  },
  {
   "cell_type": "code",
   "execution_count": 15,
   "metadata": {
    "colab": {
     "base_uri": "https://localhost:8080/",
     "height": 34
    },
    "colab_type": "code",
    "id": "PXv9_H6sgpgS",
    "outputId": "fe729b93-9b02-4343-85d0-bd8a929230cd"
   },
   "outputs": [
    {
     "data": {
      "text/plain": [
       "3680"
      ]
     },
     "execution_count": 15,
     "metadata": {},
     "output_type": "execute_result"
    }
   ],
   "source": [
    "neg_labels = ['negative']*neg_size\n",
    "len(neg_labels)"
   ]
  },
  {
   "cell_type": "code",
   "execution_count": 16,
   "metadata": {
    "colab": {},
    "colab_type": "code",
    "id": "3Vv6H1hZlQ67"
   },
   "outputs": [],
   "source": [
    "data = pos + neg\n",
    "labels = pos_labels + neg_labels\n",
    "\n",
    "from sklearn.model_selection import train_test_split\n",
    "train, dev, train_labels, validation_labels = train_test_split(\n",
    "    data,\n",
    "    labels,\n",
    "    test_size = 0.2,\n",
    "    random_state=1,\n",
    "    stratify=labels)\n",
    "\n",
    "#can jump to Method 3 from here"
   ]
  },
  {
   "cell_type": "code",
   "execution_count": 20,
   "metadata": {
    "colab": {
     "base_uri": "https://localhost:8080/",
     "height": 70
    },
    "colab_type": "code",
    "id": "0tf1CPZOpMSt",
    "outputId": "341b322b-d6dc-4748-f498-93767caf960e"
   },
   "outputs": [
    {
     "name": "stdout",
     "output_type": "stream",
     "text": [
      "Counter({'negative': 2944, 'pos_PF01823_rp15_MACPF_659.txt': 371, 'pos_PF03318_full_ETX_MTX2_440.txt': 229, 'pos_PF12261_full_T_hemolysin_327.txt': 227, 'PF01289_full_Thiol_cytolysin_243.txt': 147, 'pos_PF06369_full_anemone_cytotox_363.txt': 133, 'pos_PF06355_full_Aegerolysin_308.txt': 133, 'pos_PF11393_full_T4BSS_DotI_IcmL_214.txt': 125, 'pos_PF03945_full_Endotoxin_N_180.txt': 101, 'pos_PF05105_seed_Phage_holin_4_1_131.txt': 94, 'pos_PF01117_full_Aerolysin_207.txt': 93, 'PF00087_full_Toxin_TOLIP_333.txt': 81, 'PF07367_full_FB_lectin_171.txt': 78, 'pos_PF03944_seed_Endotoxin_C_80.txt': 59, 'pos_PF01338_full_Bac_thur_toxin_87.txt': 50, 'pos_PF05802_full_EspB_60.txt': 45, 'pos_PF18063_full_BB_PF_52.txt': 39, 'pos_PF07968_full_Leukocidin_89.txt': 38, 'pos_PF06109_full_HlyE_62.txt': 37, 'PF04598_rp15_Gasdermin_62.txt': 35, 'pos_PF04877_full_Harpin_35.txt': 26, 'pos_PF12920_full_TcdA_TcdB_pore_46.txt': 26, 'pos_PF00555_seed_Endotoxin_M_36.txt': 26, 'PF11565_full_porB_30.txt': 23, 'pos_PF01024_full_Colicin_26.txt': 21, 'pos_PF17475_full_Binary_toxB_2_16.txt': 11, 'pos_PF12563_full_Hemolysin_N_12.txt': 9, 'PF02382_full_RTX_14.txt': 9, 'pos_PF03505_full_Clenterotox_9.txt': 6, 'pos_PF18684_full_PlyB_C_8.txt': 6})\n",
      "Counter({'negative': 736, 'pos_PF01823_rp15_MACPF_659.txt': 93, 'pos_PF03318_full_ETX_MTX2_440.txt': 58, 'pos_PF12261_full_T_hemolysin_327.txt': 57, 'PF01289_full_Thiol_cytolysin_243.txt': 37, 'pos_PF06369_full_anemone_cytotox_363.txt': 34, 'pos_PF06355_full_Aegerolysin_308.txt': 34, 'pos_PF11393_full_T4BSS_DotI_IcmL_214.txt': 31, 'pos_PF03945_full_Endotoxin_N_180.txt': 26, 'pos_PF05105_seed_Phage_holin_4_1_131.txt': 23, 'pos_PF01117_full_Aerolysin_207.txt': 23, 'PF00087_full_Toxin_TOLIP_333.txt': 20, 'PF07367_full_FB_lectin_171.txt': 20, 'pos_PF03944_seed_Endotoxin_C_80.txt': 15, 'pos_PF01338_full_Bac_thur_toxin_87.txt': 12, 'pos_PF05802_full_EspB_60.txt': 11, 'pos_PF18063_full_BB_PF_52.txt': 10, 'pos_PF06109_full_HlyE_62.txt': 9, 'PF04598_rp15_Gasdermin_62.txt': 9, 'pos_PF07968_full_Leukocidin_89.txt': 9, 'pos_PF00555_seed_Endotoxin_M_36.txt': 6, 'pos_PF04877_full_Harpin_35.txt': 6, 'pos_PF12920_full_TcdA_TcdB_pore_46.txt': 6, 'PF11565_full_porB_30.txt': 6, 'pos_PF01024_full_Colicin_26.txt': 5, 'pos_PF17475_full_Binary_toxB_2_16.txt': 3, 'pos_PF18684_full_PlyB_C_8.txt': 2, 'pos_PF12563_full_Hemolysin_N_12.txt': 2, 'PF02382_full_RTX_14.txt': 2, 'pos_PF03505_full_Clenterotox_9.txt': 1})\n"
     ]
    }
   ],
   "source": [
    "from collections import Counter\n",
    "\n",
    "print(Counter(train_labels))\n",
    "print(Counter(validation_labels))"
   ]
  },
  {
   "cell_type": "markdown",
   "metadata": {
    "colab_type": "text",
    "id": "s9SIRvflOoEl"
   },
   "source": [
    "## Loading the data"
   ]
  },
  {
   "cell_type": "code",
   "execution_count": 21,
   "metadata": {
    "colab": {
     "base_uri": "https://localhost:8080/",
     "height": 281
    },
    "colab_type": "code",
    "id": "cZLCHqCJOoE7",
    "outputId": "61cce005-e2bd-44fe-cf12-080504a170e4"
   },
   "outputs": [
    {
     "data": {
      "image/png": "[encoded data removed]",
      "text/plain": [
       "<Figure size 432x288 with 2 Axes>"
      ]
     },
     "metadata": {
      "needs_background": "light"
     },
     "output_type": "display_data"
    }
   ],
   "source": [
    "# Length of sequence in train data.\n",
    "trainlen= [len(x) for x in train]\n",
    "devlen= [len(x) for x in dev]\n",
    "\n",
    "def plot_seq_count(lengths, data_name):\n",
    "    seaborn.distplot(lengths)\n",
    "    plt.title(f'Sequence char count: {data_name}')\n",
    "    plt.grid(True)\n",
    "\n",
    "plt.subplot(1, 3, 1)\n",
    "plot_seq_count(trainlen, 'Train')\n",
    "\n",
    "plt.subplot(1, 3, 2)\n",
    "plot_seq_count(devlen, 'Dev')\n",
    "\n",
    "plt.subplots_adjust(right=3.0)\n",
    "plt.show()"
   ]
  },
  {
   "cell_type": "code",
   "execution_count": 22,
   "metadata": {
    "colab": {
     "base_uri": "https://localhost:8080/",
     "height": 50
    },
    "colab_type": "code",
    "id": "fsZvHMfitHf3",
    "outputId": "761b273d-d26b-4e85-8e0b-072f9e4269df"
   },
   "outputs": [
    {
     "name": "stdout",
     "output_type": "stream",
     "text": [
      "1305\n",
      "1015\n"
     ]
    }
   ],
   "source": [
    "print(max(trainlen))\n",
    "print(max(devlen))"
   ]
  },
  {
   "cell_type": "code",
   "execution_count": 23,
   "metadata": {
    "colab": {},
    "colab_type": "code",
    "id": "npNNwSSqZflr"
   },
   "outputs": [],
   "source": [
    "vocab_size = 21\n",
    "max_length = 800\n",
    "trunc_type = \"post\"\n",
    "padding_type = \"post\"\n",
    "\n",
    "trainTAPE = [tokenizerTAPE.encode(w.upper()) for w in train]\n",
    "valTAPE = [tokenizerTAPE.encode(w.upper()) for w in dev]"
   ]
  },
  {
   "cell_type": "code",
   "execution_count": 24,
   "metadata": {},
   "outputs": [],
   "source": [
    "trainTAPE = [np.array(t[:max_length]) for t in trainTAPE]\n",
    "valTAPE = [np.array(t[:max_length]) for t in valTAPE]\n",
    "\n",
    "trainTAPE = [torch.from_numpy(t) for t in trainTAPE]\n",
    "valTAPE = [torch.from_numpy(t) for t in valTAPE]"
   ]
  },
  {
   "cell_type": "code",
   "execution_count": 25,
   "metadata": {
    "colab": {},
    "colab_type": "code",
    "id": "npNNwSSqZflr"
   },
   "outputs": [],
   "source": [
    "TAPEtrain = torch.nn.utils.rnn.pad_sequence(trainTAPE, batch_first=False)\n",
    "TAPEvalidation = torch.nn.utils.rnn.pad_sequence(valTAPE, batch_first=False)"
   ]
  },
  {
   "cell_type": "code",
   "execution_count": 26,
   "metadata": {},
   "outputs": [],
   "source": [
    "TAPEtrain = torch.transpose(TAPEtrain,0,1)\n",
    "TAPEvalidation = torch.transpose(TAPEvalidation,0,1)"
   ]
  },
  {
   "cell_type": "code",
   "execution_count": 27,
   "metadata": {},
   "outputs": [
    {
     "data": {
      "text/plain": [
       "torch.Size([5275, 800])"
      ]
     },
     "execution_count": 27,
     "metadata": {},
     "output_type": "execute_result"
    }
   ],
   "source": [
    "TAPEtrain.size()"
   ]
  },
  {
   "cell_type": "code",
   "execution_count": 28,
   "metadata": {},
   "outputs": [
    {
     "data": {
      "text/plain": [
       "torch.Size([1319, 800])"
      ]
     },
     "execution_count": 28,
     "metadata": {},
     "output_type": "execute_result"
    }
   ],
   "source": [
    "TAPEvalidation.size()"
   ]
  },
  {
   "cell_type": "code",
   "execution_count": 29,
   "metadata": {},
   "outputs": [],
   "source": [
    "from torch.utils.data import DataLoader\n",
    "from tqdm.notebook import tqdm\n",
    "batch_size = 1\n",
    "\n",
    "dataloader_train = DataLoader(\n",
    "    TAPEtrain,\n",
    "    batch_size=batch_size\n",
    ")\n",
    "\n",
    "dataloader_validation = DataLoader(\n",
    "    TAPEvalidation,\n",
    "    batch_size=batch_size\n",
    ")"
   ]
  },
  {
   "cell_type": "code",
   "execution_count": 30,
   "metadata": {},
   "outputs": [
    {
     "data": {
      "text/plain": [
       "12079"
      ]
     },
     "execution_count": 30,
     "metadata": {},
     "output_type": "execute_result"
    }
   ],
   "source": [
    "del pos, neg, data, labels, neg_labels, pos_labels, trainTAPE, valTAPE, TAPEtrain, TAPEvalidation\n",
    "gc.collect()"
   ]
  },
  {
   "cell_type": "code",
   "execution_count": 31,
   "metadata": {},
   "outputs": [],
   "source": [
    "torch.cuda.empty_cache() "
   ]
  },
  {
   "cell_type": "code",
   "execution_count": 32,
   "metadata": {
    "colab": {},
    "colab_type": "code",
    "id": "JK-3pW5Ajuha"
   },
   "outputs": [
    {
     "data": {
      "application/vnd.jupyter.widget-view+json": {
       "model_id": "5345254c01bd4bbdbf76d890143ac995",
       "version_major": 2,
       "version_minor": 0
      },
      "text/plain": [
       "HBox(children=(FloatProgress(value=0.0, max=5275.0), HTML(value='')))"
      ]
     },
     "metadata": {},
     "output_type": "display_data"
    },
    {
     "name": "stdout",
     "output_type": "stream",
     "text": [
      "\n"
     ]
    }
   ],
   "source": [
    "TAPEncoded_train = []\n",
    "#iternum = 0\n",
    "with torch.no_grad():\n",
    "    for batch in tqdm(dataloader_train):\n",
    "        b = batch.to(torch.long)\n",
    "        output = modelTAPE(b.to(device))[1]\n",
    "        TAPEncoded_train.append(output.cpu().detach().numpy())\n",
    "#         if iternum%100 == 0:\n",
    "#             print(iternum)\n",
    "#         iternum = iternum + 1"
   ]
  },
  {
   "cell_type": "code",
   "execution_count": 33,
   "metadata": {},
   "outputs": [
    {
     "data": {
      "application/vnd.jupyter.widget-view+json": {
       "model_id": "800196f7de4643fbb3dff54aff93920e",
       "version_major": 2,
       "version_minor": 0
      },
      "text/plain": [
       "HBox(children=(FloatProgress(value=0.0, max=1319.0), HTML(value='')))"
      ]
     },
     "metadata": {},
     "output_type": "display_data"
    },
    {
     "name": "stdout",
     "output_type": "stream",
     "text": [
      "\n"
     ]
    }
   ],
   "source": [
    "TAPEncoded_val = []\n",
    "#iternum = 0\n",
    "for batch in tqdm(dataloader_validation):\n",
    "    b = batch.to(torch.long)\n",
    "    output = modelTAPE(b.to(device))[1]\n",
    "    TAPEncoded_val.append(output.cpu().detach().numpy())\n",
    "#     if iternum%100 == 0:\n",
    "#         print(iternum)\n",
    "#     iternum = iternum + 1"
   ]
  },
  {
   "cell_type": "code",
   "execution_count": 34,
   "metadata": {},
   "outputs": [],
   "source": [
    "path = \"./\" + \"TAPEncoded_train_pooled\" + \".pickle\"\n",
    "output = open(path, 'w+b')\n",
    "pickle.dump(TAPEncoded_train, output)\n",
    "output.close()\n",
    "\n",
    "path = \"./\" + \"TAPEncoded_val_pooled\" + \".pickle\"\n",
    "output = open(path, 'w+b')\n",
    "pickle.dump(TAPEncoded_val, output)\n",
    "output.close()"
   ]
  },
  {
   "cell_type": "code",
   "execution_count": 35,
   "metadata": {
    "colab": {
     "base_uri": "https://localhost:8080/",
     "height": 33
    },
    "colab_type": "code",
    "id": "vBZOxshXOoFX",
    "outputId": "62b622dd-e3cc-49e9-c2e6-da057906b4b3"
   },
   "outputs": [
    {
     "data": {
      "text/plain": [
       "((5275,), (1319,))"
      ]
     },
     "execution_count": 35,
     "metadata": {},
     "output_type": "execute_result"
    }
   ],
   "source": [
    "from sklearn.preprocessing import LabelEncoder\n",
    "le = LabelEncoder()\n",
    "\n",
    "train_labels = le.fit_transform(train_labels)\n",
    "validation_labels = le.transform(validation_labels)\n",
    "#test_labels = le.transform(test_labels)\n",
    "\n",
    "train_labels.shape, validation_labels.shape"
   ]
  },
  {
   "cell_type": "code",
   "execution_count": 36,
   "metadata": {},
   "outputs": [],
   "source": [
    "path = \"./\" + \"train_labels\" + \".pickle\"\n",
    "output = open(path, 'w+b')\n",
    "pickle.dump(train_labels, output)\n",
    "output.close()\n",
    "\n",
    "path = \"./\" + \"validation_labels\" + \".pickle\"\n",
    "output = open(path, 'w+b')\n",
    "pickle.dump(validation_labels, output)\n",
    "output.close()"
   ]
  },
  {
   "cell_type": "code",
   "execution_count": 37,
   "metadata": {},
   "outputs": [
    {
     "name": "stdout",
     "output_type": "stream",
     "text": [
      "{0: 'PF00087_full_Toxin_TOLIP_333.txt', 1: 'PF01289_full_Thiol_cytolysin_243.txt', 2: 'PF02382_full_RTX_14.txt', 3: 'PF04598_rp15_Gasdermin_62.txt', 4: 'PF07367_full_FB_lectin_171.txt', 5: 'PF11565_full_porB_30.txt', 6: 'negative', 7: 'pos_PF00555_seed_Endotoxin_M_36.txt', 8: 'pos_PF01024_full_Colicin_26.txt', 9: 'pos_PF01117_full_Aerolysin_207.txt', 10: 'pos_PF01338_full_Bac_thur_toxin_87.txt', 11: 'pos_PF01823_rp15_MACPF_659.txt', 12: 'pos_PF03318_full_ETX_MTX2_440.txt', 13: 'pos_PF03505_full_Clenterotox_9.txt', 14: 'pos_PF03944_seed_Endotoxin_C_80.txt', 15: 'pos_PF03945_full_Endotoxin_N_180.txt', 16: 'pos_PF04877_full_Harpin_35.txt', 17: 'pos_PF05105_seed_Phage_holin_4_1_131.txt', 18: 'pos_PF05802_full_EspB_60.txt', 19: 'pos_PF06109_full_HlyE_62.txt', 20: 'pos_PF06355_full_Aegerolysin_308.txt', 21: 'pos_PF06369_full_anemone_cytotox_363.txt', 22: 'pos_PF07968_full_Leukocidin_89.txt', 23: 'pos_PF11393_full_T4BSS_DotI_IcmL_214.txt', 24: 'pos_PF12261_full_T_hemolysin_327.txt', 25: 'pos_PF12563_full_Hemolysin_N_12.txt', 26: 'pos_PF12920_full_TcdA_TcdB_pore_46.txt', 27: 'pos_PF17475_full_Binary_toxB_2_16.txt', 28: 'pos_PF18063_full_BB_PF_52.txt', 29: 'pos_PF18684_full_PlyB_C_8.txt'}\n"
     ]
    }
   ],
   "source": [
    "le_name_mapping = dict(zip(le.classes_, le.transform(le.classes_)))\n",
    "umap_map = {v: k for k, v in le_name_mapping.items()}\n",
    "print(umap_map)"
   ]
  },
  {
   "cell_type": "code",
   "execution_count": 38,
   "metadata": {},
   "outputs": [
    {
     "data": {
      "application/vnd.jupyter.widget-view+json": {
       "model_id": "0472b90babc143fba2b6184f119a1b5f",
       "version_major": 2,
       "version_minor": 0
      },
      "text/plain": [
       "HBox(children=(FloatProgress(value=0.0, max=5275.0), HTML(value='')))"
      ]
     },
     "metadata": {},
     "output_type": "display_data"
    },
    {
     "name": "stdout",
     "output_type": "stream",
     "text": [
      "\n"
     ]
    }
   ],
   "source": [
    "del TAPEncoded_train, TAPEncoded_val\n",
    "gc.collect()\n",
    "torch.cuda.empty_cache() \n",
    "\n",
    "#now getting the full embedding for all amino acid, not the pooled one\n",
    "TAPEncoded_train = []\n",
    "#iternum = 0\n",
    "for batch in tqdm(dataloader_train):\n",
    "    b = batch.to(torch.long)\n",
    "    output = modelTAPE(b.to(device))[0]\n",
    "    TAPEncoded_train.append(output.cpu().detach().numpy())\n",
    "#     if iternum%100 == 0:\n",
    "#         print(iternum)\n",
    "#     iternum = iternum + 1"
   ]
  },
  {
   "cell_type": "code",
   "execution_count": 39,
   "metadata": {},
   "outputs": [
    {
     "data": {
      "application/vnd.jupyter.widget-view+json": {
       "model_id": "46c79c26b981467fa52f10e702ff5f7e",
       "version_major": 2,
       "version_minor": 0
      },
      "text/plain": [
       "HBox(children=(FloatProgress(value=0.0, max=1319.0), HTML(value='')))"
      ]
     },
     "metadata": {},
     "output_type": "display_data"
    },
    {
     "name": "stdout",
     "output_type": "stream",
     "text": [
      "\n"
     ]
    }
   ],
   "source": [
    "TAPEncoded_val = []\n",
    "#iternum = 0\n",
    "for batch in tqdm(dataloader_validation):\n",
    "    b = batch.to(torch.long)\n",
    "    output = modelTAPE(b.to(device))[0]\n",
    "    TAPEncoded_val.append(output.cpu().detach().numpy())\n",
    "#     if iternum%100 == 0:\n",
    "#         print(iternum)\n",
    "#     iternum = iternum + 1"
   ]
  },
  {
   "cell_type": "code",
   "execution_count": 40,
   "metadata": {},
   "outputs": [],
   "source": [
    "path = \"./\" + \"TAPEncoded_train\" + \".pickle\"\n",
    "output = open(path, 'w+b')\n",
    "pickle.dump(TAPEncoded_train, output)\n",
    "output.close()\n",
    "\n",
    "path = \"./\" + \"TAPEncoded_val\" + \".pickle\"\n",
    "output = open(path, 'w+b')\n",
    "pickle.dump(TAPEncoded_val, output)\n",
    "output.close()"
   ]
  },
  {
   "cell_type": "code",
   "execution_count": null,
   "metadata": {},
   "outputs": [],
   "source": [
    "#Method0 - Baseline, first nearest neighbour in terms of Levenshtein distance"
   ]
  },
  {
   "cell_type": "code",
   "execution_count": 25,
   "metadata": {},
   "outputs": [],
   "source": [
    "path = \"./\" + \"train_labels\" + \".pickle\"\n",
    "array_file = open(path, 'rb')\n",
    "train_labels = pickle.load(array_file)\n",
    "array_file.close()\n",
    "\n",
    "path = \"./\" + \"validation_labels\" + \".pickle\"\n",
    "array_file = open(path, 'rb')\n",
    "validation_labels = pickle.load(array_file)\n",
    "array_file.close()"
   ]
  },
  {
   "cell_type": "code",
   "execution_count": 41,
   "metadata": {},
   "outputs": [
    {
     "name": "stdout",
     "output_type": "stream",
     "text": [
      "5275\n",
      "1319\n",
      "5275\n",
      "1319\n"
     ]
    }
   ],
   "source": [
    "print(len(train))\n",
    "print(len(dev))\n",
    "print(len(train_labels))\n",
    "print(len(validation_labels))"
   ]
  },
  {
   "cell_type": "code",
   "execution_count": 42,
   "metadata": {},
   "outputs": [],
   "source": [
    "mask = (validation_labels == 6) #6 is negative\n",
    "\n",
    "y_true = validation_labels\n",
    "y_true[~mask] = 1\n",
    "y_true[mask] = 0"
   ]
  },
  {
   "cell_type": "code",
   "execution_count": 43,
   "metadata": {},
   "outputs": [
    {
     "data": {
      "text/plain": [
       "array([0, 0, 1, ..., 1, 1, 0], dtype=int64)"
      ]
     },
     "execution_count": 43,
     "metadata": {},
     "output_type": "execute_result"
    }
   ],
   "source": [
    "validation_labels"
   ]
  },
  {
   "cell_type": "code",
   "execution_count": 44,
   "metadata": {},
   "outputs": [],
   "source": [
    "mask = (train_labels == 6) #6 is negative\n",
    "\n",
    "y_true = train_labels\n",
    "y_true[~mask] = 1\n",
    "y_true[mask] = 0"
   ]
  },
  {
   "cell_type": "code",
   "execution_count": 45,
   "metadata": {},
   "outputs": [
    {
     "data": {
      "text/plain": [
       "array([0, 0, 1, ..., 1, 0, 1], dtype=int64)"
      ]
     },
     "execution_count": 45,
     "metadata": {},
     "output_type": "execute_result"
    }
   ],
   "source": [
    "train_labels"
   ]
  },
  {
   "cell_type": "code",
   "execution_count": 46,
   "metadata": {},
   "outputs": [
    {
     "name": "stderr",
     "output_type": "stream",
     "text": [
      "100%|██████████████████████████████████████████████████████████████████████████████| 1319/1319 [06:24<00:00,  3.43it/s]\n"
     ]
    }
   ],
   "source": [
    "import Levenshtein\n",
    "from tqdm import tqdm\n",
    "\n",
    "dist_arr = np.ones([len(dev), len(train)])*500\n",
    "\n",
    "for i in tqdm(range(len(dev))):\n",
    "    for j in range(len(train)):\n",
    "        dist_arr[i,j] = Levenshtein.distance(dev[i], train[j])"
   ]
  },
  {
   "cell_type": "code",
   "execution_count": 47,
   "metadata": {},
   "outputs": [
    {
     "data": {
      "text/plain": [
       "array([211., 173.,  85., ..., 103.,  74., 283.])"
      ]
     },
     "execution_count": 47,
     "metadata": {},
     "output_type": "execute_result"
    }
   ],
   "source": [
    "np.amin(dist_arr, 1)"
   ]
  },
  {
   "cell_type": "code",
   "execution_count": 48,
   "metadata": {},
   "outputs": [
    {
     "data": {
      "text/plain": [
       "array([4692, 4774,  707, ..., 2456, 3254, 1554], dtype=int64)"
      ]
     },
     "execution_count": 48,
     "metadata": {},
     "output_type": "execute_result"
    }
   ],
   "source": [
    "np.argmin(dist_arr, 1)"
   ]
  },
  {
   "cell_type": "code",
   "execution_count": 49,
   "metadata": {},
   "outputs": [],
   "source": [
    "preds = train_labels[np.argmin(dist_arr, 1)]"
   ]
  },
  {
   "cell_type": "code",
   "execution_count": 50,
   "metadata": {},
   "outputs": [
    {
     "name": "stdout",
     "output_type": "stream",
     "text": [
      "True positive: 559, false positive: 169, true negative: 567, false negative: 24\n",
      "\n",
      "MCC: 0.728230\n",
      "Accuracy: 85.37%\n",
      "F1 score: 0.85\n",
      "Precision: 0.77\n",
      "Recall: 0.96\n"
     ]
    }
   ],
   "source": [
    "get_performance_vals(preds, validation_labels)"
   ]
  },
  {
   "cell_type": "code",
   "execution_count": null,
   "metadata": {},
   "outputs": [],
   "source": [
    "#METHOD 1"
   ]
  },
  {
   "cell_type": "code",
   "execution_count": null,
   "metadata": {},
   "outputs": [],
   "source": [
    "#STARTING HERE"
   ]
  },
  {
   "cell_type": "code",
   "execution_count": 1,
   "metadata": {},
   "outputs": [
    {
     "name": "stdout",
     "output_type": "stream",
     "text": [
      "Tensorflow version 2.2.0\n",
      "WARNING:tensorflow:From <ipython-input-1-6f67c92ac921>:6: is_gpu_available (from tensorflow.python.framework.test_util) is deprecated and will be removed in a future version.\n",
      "Instructions for updating:\n",
      "Use `tf.config.list_physical_devices('GPU')` instead.\n"
     ]
    },
    {
     "name": "stderr",
     "output_type": "stream",
     "text": [
      "C:\\Users\\sarva\\Anaconda3\\lib\\site-packages\\tensorboard\\compat\\tensorflow_stub\\dtypes.py:541: FutureWarning: Passing (type, 1) or '1type' as a synonym of type is deprecated; in a future version of numpy, it will be understood as (type, (1,)) / '(1,)type'.\n",
      "  _np_qint8 = np.dtype([(\"qint8\", np.int8, 1)])\n",
      "C:\\Users\\sarva\\Anaconda3\\lib\\site-packages\\tensorboard\\compat\\tensorflow_stub\\dtypes.py:542: FutureWarning: Passing (type, 1) or '1type' as a synonym of type is deprecated; in a future version of numpy, it will be understood as (type, (1,)) / '(1,)type'.\n",
      "  _np_quint8 = np.dtype([(\"quint8\", np.uint8, 1)])\n",
      "C:\\Users\\sarva\\Anaconda3\\lib\\site-packages\\tensorboard\\compat\\tensorflow_stub\\dtypes.py:543: FutureWarning: Passing (type, 1) or '1type' as a synonym of type is deprecated; in a future version of numpy, it will be understood as (type, (1,)) / '(1,)type'.\n",
      "  _np_qint16 = np.dtype([(\"qint16\", np.int16, 1)])\n",
      "C:\\Users\\sarva\\Anaconda3\\lib\\site-packages\\tensorboard\\compat\\tensorflow_stub\\dtypes.py:544: FutureWarning: Passing (type, 1) or '1type' as a synonym of type is deprecated; in a future version of numpy, it will be understood as (type, (1,)) / '(1,)type'.\n",
      "  _np_quint16 = np.dtype([(\"quint16\", np.uint16, 1)])\n",
      "C:\\Users\\sarva\\Anaconda3\\lib\\site-packages\\tensorboard\\compat\\tensorflow_stub\\dtypes.py:545: FutureWarning: Passing (type, 1) or '1type' as a synonym of type is deprecated; in a future version of numpy, it will be understood as (type, (1,)) / '(1,)type'.\n",
      "  _np_qint32 = np.dtype([(\"qint32\", np.int32, 1)])\n",
      "C:\\Users\\sarva\\Anaconda3\\lib\\site-packages\\tensorboard\\compat\\tensorflow_stub\\dtypes.py:550: FutureWarning: Passing (type, 1) or '1type' as a synonym of type is deprecated; in a future version of numpy, it will be understood as (type, (1,)) / '(1,)type'.\n",
      "  np_resource = np.dtype([(\"resource\", np.ubyte, 1)])\n"
     ]
    },
    {
     "name": "stdout",
     "output_type": "stream",
     "text": [
      "True\n",
      "Compute dtype: float16\n",
      "Variable dtype: float32\n"
     ]
    }
   ],
   "source": [
    "import tensorflow as tf\n",
    "print(\"Tensorflow version \" + tf.__version__)\n",
    "\n",
    "tf.test.is_built_with_cuda()\n",
    "\n",
    "print(tf.test.is_gpu_available(cuda_only=False, min_cuda_compute_capability=None))\n",
    "\n",
    "tf.config.experimental.list_physical_devices('GPU')\n",
    "#for device in gpu_devices: tf.config.experimental.set_memory_growth(device, True)\n",
    "\n",
    "# import tensorflow.keras.backend as K\n",
    "# dtype = 'float16'\n",
    "# K.set_floatx(dtype)\n",
    "# K.set_epsilon(1e-4)\n",
    "\n",
    "from tensorflow.keras.mixed_precision import experimental as mixed_precision\n",
    "policy = mixed_precision.Policy('mixed_float16')\n",
    "mixed_precision.set_policy(policy)\n",
    "\n",
    "print('Compute dtype: %s' % policy.compute_dtype)\n",
    "print('Variable dtype: %s' % policy.variable_dtype)"
   ]
  },
  {
   "cell_type": "code",
   "execution_count": 2,
   "metadata": {},
   "outputs": [],
   "source": [
    "import matplotlib.pyplot as plt # plotting\n",
    "import numpy as np # linear algebra\n",
    "import os # accessing directory structure\n",
    "import pandas as pd # data processing, CSV file I/O (e.g. pd.read_csv)\n",
    "import seaborn\n",
    "import gc\n",
    "import sklearn\n",
    "import pickle"
   ]
  },
  {
   "cell_type": "code",
   "execution_count": 3,
   "metadata": {},
   "outputs": [],
   "source": [
    "path = \"./\" + \"TAPEncoded_train_pooled\" + \".pickle\"\n",
    "array_file = open(path, 'rb')\n",
    "TAPEncoded_train = pickle.load(array_file)\n",
    "array_file.close()\n",
    "\n",
    "path = \"./\" + \"TAPEncoded_val_pooled\" + \".pickle\"\n",
    "array_file = open(path, 'rb')\n",
    "TAPEncoded_val = pickle.load(array_file)\n",
    "array_file.close()\n",
    "\n",
    "path = \"./\" + \"train_labels\" + \".pickle\"\n",
    "array_file = open(path, 'rb')\n",
    "train_labels = pickle.load(array_file)\n",
    "array_file.close()\n",
    "\n",
    "path = \"./\" + \"validation_labels\" + \".pickle\"\n",
    "array_file = open(path, 'rb')\n",
    "validation_labels = pickle.load(array_file)\n",
    "array_file.close()"
   ]
  },
  {
   "cell_type": "code",
   "execution_count": 4,
   "metadata": {
    "colab": {},
    "colab_type": "code",
    "id": "YN9uu1b4OoFe"
   },
   "outputs": [],
   "source": [
    "# lr_schedule = tf.keras.callbacks.LearningRateScheduler(\n",
    "#     lambda epoch: 1e-5 * 10**(epoch / 20))\n",
    "\n",
    "es = tf.keras.callbacks.EarlyStopping(monitor='val_accuracy', mode='max', min_delta=0.01, patience=5)"
   ]
  },
  {
   "cell_type": "code",
   "execution_count": 5,
   "metadata": {
    "colab": {},
    "colab_type": "code",
    "id": "89fHOOEoWYm9"
   },
   "outputs": [],
   "source": [
    "numclass = max(train_labels) + 1"
   ]
  },
  {
   "cell_type": "code",
   "execution_count": 6,
   "metadata": {},
   "outputs": [
    {
     "name": "stdout",
     "output_type": "stream",
     "text": [
      "Model: \"model\"\n",
      "_________________________________________________________________\n",
      "Layer (type)                 Output Shape              Param #   \n",
      "=================================================================\n",
      "input_1 (InputLayer)         [(None, 768)]             0         \n",
      "_________________________________________________________________\n",
      "dense (Dense)                (None, 30)                23070     \n",
      "=================================================================\n",
      "Total params: 23,070\n",
      "Trainable params: 23,070\n",
      "Non-trainable params: 0\n",
      "_________________________________________________________________\n"
     ]
    }
   ],
   "source": [
    "input_x = tf.keras.layers.Input(shape=768) #768 is the embedding dimension\n",
    "out = tf.keras.layers.Dense(numclass, activation=\"softmax\")(input_x) \n",
    "model = tf.keras.Model(inputs=input_x, outputs=out)\n",
    "model.compile(loss='sparse_categorical_crossentropy',optimizer=\"adam\",metrics=['accuracy'])\n",
    "model.summary()"
   ]
  },
  {
   "cell_type": "code",
   "execution_count": 7,
   "metadata": {},
   "outputs": [],
   "source": [
    "TAPEncoded_train = np.array(TAPEncoded_train)"
   ]
  },
  {
   "cell_type": "code",
   "execution_count": 8,
   "metadata": {},
   "outputs": [],
   "source": [
    "TAPEncoded_train = TAPEncoded_train.reshape(-1,768)"
   ]
  },
  {
   "cell_type": "code",
   "execution_count": 9,
   "metadata": {},
   "outputs": [],
   "source": [
    "TAPEncoded_val = np.array(TAPEncoded_val)"
   ]
  },
  {
   "cell_type": "code",
   "execution_count": 10,
   "metadata": {},
   "outputs": [],
   "source": [
    "TAPEncoded_val = TAPEncoded_val.reshape(-1,768)"
   ]
  },
  {
   "cell_type": "code",
   "execution_count": 11,
   "metadata": {},
   "outputs": [
    {
     "name": "stdout",
     "output_type": "stream",
     "text": [
      "Epoch 1/100\n",
      "165/165 - 0s - loss: 1.8831 - accuracy: 0.5471 - val_loss: 1.6955 - val_accuracy: 0.5580\n",
      "Epoch 2/100\n",
      "165/165 - 0s - loss: 1.5966 - accuracy: 0.5617 - val_loss: 1.4947 - val_accuracy: 0.5701\n",
      "Epoch 3/100\n",
      "165/165 - 0s - loss: 1.4519 - accuracy: 0.5782 - val_loss: 1.3796 - val_accuracy: 0.6194\n",
      "Epoch 4/100\n",
      "165/165 - 0s - loss: 1.3569 - accuracy: 0.5994 - val_loss: 1.3045 - val_accuracy: 0.6224\n",
      "Epoch 5/100\n",
      "165/165 - 0s - loss: 1.2727 - accuracy: 0.6254 - val_loss: 1.2460 - val_accuracy: 0.6452\n",
      "Epoch 6/100\n",
      "165/165 - 0s - loss: 1.2128 - accuracy: 0.6411 - val_loss: 1.1744 - val_accuracy: 0.6558\n",
      "Epoch 7/100\n",
      "165/165 - 0s - loss: 1.1626 - accuracy: 0.6595 - val_loss: 1.1163 - val_accuracy: 0.6588\n",
      "Epoch 8/100\n",
      "165/165 - 0s - loss: 1.1148 - accuracy: 0.6669 - val_loss: 1.0864 - val_accuracy: 0.6945\n",
      "Epoch 9/100\n",
      "165/165 - 0s - loss: 1.0827 - accuracy: 0.6794 - val_loss: 1.0412 - val_accuracy: 0.6983\n",
      "Epoch 10/100\n",
      "165/165 - 0s - loss: 1.0497 - accuracy: 0.6900 - val_loss: 1.0262 - val_accuracy: 0.6892\n",
      "Epoch 11/100\n",
      "165/165 - 0s - loss: 1.0190 - accuracy: 0.6904 - val_loss: 1.0057 - val_accuracy: 0.7089\n",
      "Epoch 12/100\n",
      "165/165 - 0s - loss: 0.9886 - accuracy: 0.7056 - val_loss: 0.9845 - val_accuracy: 0.7422\n",
      "Epoch 13/100\n",
      "165/165 - 0s - loss: 0.9635 - accuracy: 0.7111 - val_loss: 0.9689 - val_accuracy: 0.6952\n",
      "Epoch 14/100\n",
      "165/165 - 0s - loss: 0.9471 - accuracy: 0.7160 - val_loss: 0.9484 - val_accuracy: 0.7566\n",
      "Epoch 15/100\n",
      "165/165 - 0s - loss: 0.9195 - accuracy: 0.7251 - val_loss: 0.9083 - val_accuracy: 0.7415\n",
      "Epoch 16/100\n",
      "165/165 - 0s - loss: 0.9006 - accuracy: 0.7331 - val_loss: 0.8922 - val_accuracy: 0.7536\n",
      "Epoch 17/100\n",
      "165/165 - 0s - loss: 0.8898 - accuracy: 0.7365 - val_loss: 0.8736 - val_accuracy: 0.7475\n",
      "Epoch 18/100\n",
      "165/165 - 0s - loss: 0.8662 - accuracy: 0.7433 - val_loss: 0.8819 - val_accuracy: 0.7650\n",
      "Epoch 19/100\n",
      "165/165 - 0s - loss: 0.8539 - accuracy: 0.7418 - val_loss: 0.8973 - val_accuracy: 0.7665\n"
     ]
    }
   ],
   "source": [
    "history = model.fit(TAPEncoded_train, train_labels, epochs=100, validation_data=(TAPEncoded_val, validation_labels), verbose=2, callbacks=[es])"
   ]
  },
  {
   "cell_type": "code",
   "execution_count": 12,
   "metadata": {},
   "outputs": [],
   "source": [
    "preds = model.predict(TAPEncoded_val)\n",
    "\n",
    "mask = (validation_labels == 6) #6 is negative\n",
    "\n",
    "predictions = np.argmax(preds, axis=1)\n",
    "\n",
    "y_true = validation_labels\n",
    "y_true[~mask] = 1\n",
    "y_true[mask] = 0\n",
    "\n",
    "mask = (predictions == 6)\n",
    "y_pred = predictions\n",
    "y_pred[~mask] = 1\n",
    "y_pred[mask] = 0"
   ]
  },
  {
   "cell_type": "code",
   "execution_count": 15,
   "metadata": {},
   "outputs": [
    {
     "name": "stdout",
     "output_type": "stream",
     "text": [
      "True positive: 447, false positive: 80, true negative: 656, false negative: 136\n",
      "\n",
      "MCC: 0.667190\n",
      "Accuracy: 83.62%\n",
      "F1 score: 0.81\n",
      "Precision: 0.85\n",
      "Recall: 0.77\n"
     ]
    }
   ],
   "source": [
    "get_performance_vals(y_pred, y_true)"
   ]
  },
  {
   "cell_type": "code",
   "execution_count": 1,
   "metadata": {},
   "outputs": [],
   "source": [
    "#METHOD 2"
   ]
  },
  {
   "cell_type": "code",
   "execution_count": 2,
   "metadata": {},
   "outputs": [],
   "source": [
    "#STARTING HERE"
   ]
  },
  {
   "cell_type": "code",
   "execution_count": 3,
   "metadata": {},
   "outputs": [
    {
     "name": "stdout",
     "output_type": "stream",
     "text": [
      "Tensorflow version 2.2.0\n",
      "WARNING:tensorflow:From <ipython-input-3-6f67c92ac921>:6: is_gpu_available (from tensorflow.python.framework.test_util) is deprecated and will be removed in a future version.\n",
      "Instructions for updating:\n",
      "Use `tf.config.list_physical_devices('GPU')` instead.\n"
     ]
    },
    {
     "name": "stderr",
     "output_type": "stream",
     "text": [
      "C:\\Users\\sarva\\Anaconda3\\lib\\site-packages\\tensorboard\\compat\\tensorflow_stub\\dtypes.py:541: FutureWarning: Passing (type, 1) or '1type' as a synonym of type is deprecated; in a future version of numpy, it will be understood as (type, (1,)) / '(1,)type'.\n",
      "  _np_qint8 = np.dtype([(\"qint8\", np.int8, 1)])\n",
      "C:\\Users\\sarva\\Anaconda3\\lib\\site-packages\\tensorboard\\compat\\tensorflow_stub\\dtypes.py:542: FutureWarning: Passing (type, 1) or '1type' as a synonym of type is deprecated; in a future version of numpy, it will be understood as (type, (1,)) / '(1,)type'.\n",
      "  _np_quint8 = np.dtype([(\"quint8\", np.uint8, 1)])\n",
      "C:\\Users\\sarva\\Anaconda3\\lib\\site-packages\\tensorboard\\compat\\tensorflow_stub\\dtypes.py:543: FutureWarning: Passing (type, 1) or '1type' as a synonym of type is deprecated; in a future version of numpy, it will be understood as (type, (1,)) / '(1,)type'.\n",
      "  _np_qint16 = np.dtype([(\"qint16\", np.int16, 1)])\n",
      "C:\\Users\\sarva\\Anaconda3\\lib\\site-packages\\tensorboard\\compat\\tensorflow_stub\\dtypes.py:544: FutureWarning: Passing (type, 1) or '1type' as a synonym of type is deprecated; in a future version of numpy, it will be understood as (type, (1,)) / '(1,)type'.\n",
      "  _np_quint16 = np.dtype([(\"quint16\", np.uint16, 1)])\n",
      "C:\\Users\\sarva\\Anaconda3\\lib\\site-packages\\tensorboard\\compat\\tensorflow_stub\\dtypes.py:545: FutureWarning: Passing (type, 1) or '1type' as a synonym of type is deprecated; in a future version of numpy, it will be understood as (type, (1,)) / '(1,)type'.\n",
      "  _np_qint32 = np.dtype([(\"qint32\", np.int32, 1)])\n",
      "C:\\Users\\sarva\\Anaconda3\\lib\\site-packages\\tensorboard\\compat\\tensorflow_stub\\dtypes.py:550: FutureWarning: Passing (type, 1) or '1type' as a synonym of type is deprecated; in a future version of numpy, it will be understood as (type, (1,)) / '(1,)type'.\n",
      "  np_resource = np.dtype([(\"resource\", np.ubyte, 1)])\n"
     ]
    },
    {
     "name": "stdout",
     "output_type": "stream",
     "text": [
      "True\n",
      "Compute dtype: float16\n",
      "Variable dtype: float32\n"
     ]
    }
   ],
   "source": [
    "import tensorflow as tf\n",
    "print(\"Tensorflow version \" + tf.__version__)\n",
    "\n",
    "tf.test.is_built_with_cuda()\n",
    "\n",
    "print(tf.test.is_gpu_available(cuda_only=False, min_cuda_compute_capability=None))\n",
    "\n",
    "tf.config.experimental.list_physical_devices('GPU')\n",
    "#for device in gpu_devices: tf.config.experimental.set_memory_growth(device, True)\n",
    "\n",
    "# import tensorflow.keras.backend as K\n",
    "# dtype = 'float16'\n",
    "# K.set_floatx(dtype)\n",
    "# K.set_epsilon(1e-4)\n",
    "\n",
    "from tensorflow.keras.mixed_precision import experimental as mixed_precision\n",
    "policy = mixed_precision.Policy('mixed_float16')\n",
    "mixed_precision.set_policy(policy)\n",
    "\n",
    "print('Compute dtype: %s' % policy.compute_dtype)\n",
    "print('Variable dtype: %s' % policy.variable_dtype)"
   ]
  },
  {
   "cell_type": "code",
   "execution_count": 4,
   "metadata": {},
   "outputs": [],
   "source": [
    "import matplotlib.pyplot as plt # plotting\n",
    "import numpy as np # linear algebra\n",
    "import os # accessing directory structure\n",
    "import pandas as pd # data processing, CSV file I/O (e.g. pd.read_csv)\n",
    "import seaborn\n",
    "import gc\n",
    "import sklearn\n",
    "import pickle"
   ]
  },
  {
   "cell_type": "code",
   "execution_count": 5,
   "metadata": {},
   "outputs": [],
   "source": [
    "path = \"./\" + \"TAPEncoded_train\" + \".pickle\"\n",
    "array_file = open(path, 'rb')\n",
    "TAPEncoded_train = pickle.load(array_file)\n",
    "array_file.close()\n",
    "\n",
    "path = \"./\" + \"TAPEncoded_val\" + \".pickle\"\n",
    "array_file = open(path, 'rb')\n",
    "TAPEncoded_val = pickle.load(array_file)\n",
    "array_file.close()\n",
    "\n",
    "path = \"./\" + \"train_labels\" + \".pickle\"\n",
    "array_file = open(path, 'rb')\n",
    "train_labels = pickle.load(array_file)\n",
    "array_file.close()\n",
    "\n",
    "path = \"./\" + \"validation_labels\" + \".pickle\"\n",
    "array_file = open(path, 'rb')\n",
    "validation_labels = pickle.load(array_file)\n",
    "array_file.close()\n",
    "\n",
    "TAPEncoded_train = np.array(TAPEncoded_train)\n",
    "TAPEncoded_train = np.squeeze(TAPEncoded_train)\n",
    "\n",
    "TAPEncoded_val = np.array(TAPEncoded_val)\n",
    "TAPEncoded_val = np.squeeze(TAPEncoded_val)\n",
    "\n",
    "numclass = max(train_labels) + 1"
   ]
  },
  {
   "cell_type": "code",
   "execution_count": 6,
   "metadata": {
    "colab": {},
    "colab_type": "code",
    "id": "TCv_fddVOoFc"
   },
   "outputs": [],
   "source": [
    "def residual_block(x, filters, dil):\n",
    "    shortcut = x\n",
    "    bn1 = tf.keras.layers.BatchNormalization()(x)\n",
    "    a1 = tf.keras.layers.Activation(\"relu\")(bn1)\n",
    "    conv1 = tf.keras.layers.Conv1D(filters, 3, dilation_rate = dil, padding=\"same\")(a1) #1100 filters and 9 kernel size in ProtCNN\n",
    "    \n",
    "    bn2 = tf.keras.layers.BatchNormalization()(conv1)\n",
    "    a2 = tf.keras.layers.Activation(\"relu\")(bn2)\n",
    "    conv2 = tf.keras.layers.Conv1D(filters, 1, padding=\"same\")(a2)\n",
    "    \n",
    "    x = tf.keras.layers.Add()([conv2, shortcut])\n",
    "    \n",
    "    return x"
   ]
  },
  {
   "cell_type": "code",
   "execution_count": 7,
   "metadata": {},
   "outputs": [
    {
     "name": "stdout",
     "output_type": "stream",
     "text": [
      "Model: \"model\"\n",
      "__________________________________________________________________________________________________\n",
      "Layer (type)                    Output Shape         Param #     Connected to                     \n",
      "==================================================================================================\n",
      "input_1 (InputLayer)            [(None, 800, 768)]   0                                            \n",
      "__________________________________________________________________________________________________\n",
      "conv1d (Conv1D)                 (None, 800, 128)     295040      input_1[0][0]                    \n",
      "__________________________________________________________________________________________________\n",
      "batch_normalization (BatchNorma (None, 800, 128)     512         conv1d[0][0]                     \n",
      "__________________________________________________________________________________________________\n",
      "activation (Activation)         (None, 800, 128)     0           batch_normalization[0][0]        \n",
      "__________________________________________________________________________________________________\n",
      "conv1d_1 (Conv1D)               (None, 800, 128)     49280       activation[0][0]                 \n",
      "__________________________________________________________________________________________________\n",
      "batch_normalization_1 (BatchNor (None, 800, 128)     512         conv1d_1[0][0]                   \n",
      "__________________________________________________________________________________________________\n",
      "activation_1 (Activation)       (None, 800, 128)     0           batch_normalization_1[0][0]      \n",
      "__________________________________________________________________________________________________\n",
      "conv1d_2 (Conv1D)               (None, 800, 128)     16512       activation_1[0][0]               \n",
      "__________________________________________________________________________________________________\n",
      "add (Add)                       (None, 800, 128)     0           conv1d_2[0][0]                   \n",
      "                                                                 conv1d[0][0]                     \n",
      "__________________________________________________________________________________________________\n",
      "batch_normalization_2 (BatchNor (None, 800, 128)     512         add[0][0]                        \n",
      "__________________________________________________________________________________________________\n",
      "activation_2 (Activation)       (None, 800, 128)     0           batch_normalization_2[0][0]      \n",
      "__________________________________________________________________________________________________\n",
      "conv1d_3 (Conv1D)               (None, 800, 128)     49280       activation_2[0][0]               \n",
      "__________________________________________________________________________________________________\n",
      "batch_normalization_3 (BatchNor (None, 800, 128)     512         conv1d_3[0][0]                   \n",
      "__________________________________________________________________________________________________\n",
      "activation_3 (Activation)       (None, 800, 128)     0           batch_normalization_3[0][0]      \n",
      "__________________________________________________________________________________________________\n",
      "conv1d_4 (Conv1D)               (None, 800, 128)     16512       activation_3[0][0]               \n",
      "__________________________________________________________________________________________________\n",
      "add_1 (Add)                     (None, 800, 128)     0           conv1d_4[0][0]                   \n",
      "                                                                 add[0][0]                        \n",
      "__________________________________________________________________________________________________\n",
      "max_pooling1d (MaxPooling1D)    (None, 1, 128)       0           add_1[0][0]                      \n",
      "__________________________________________________________________________________________________\n",
      "flatten (Flatten)               (None, 128)          0           max_pooling1d[0][0]              \n",
      "__________________________________________________________________________________________________\n",
      "dense (Dense)                   (None, 30)           3870        flatten[0][0]                    \n",
      "==================================================================================================\n",
      "Total params: 432,542\n",
      "Trainable params: 431,518\n",
      "Non-trainable params: 1,024\n",
      "__________________________________________________________________________________________________\n"
     ]
    }
   ],
   "source": [
    "# batch_size = 8\n",
    "# n_timesteps = 400\n",
    "# n_features = 768\n",
    "# input_x = tf.keras.layers.Input(shape=(n_timesteps,n_features))\n",
    "# bi_rnn = tf.keras.layers.Bidirectional(tf.keras.layers.LSTM(16, batch_input_shape=(batch_size, n_timesteps, n_features), \n",
    "#                                                             kernel_regularizer=tf.keras.regularizers.l2(0.01), \n",
    "#                                                             recurrent_regularizer=tf.keras.regularizers.l2(0.01), \n",
    "#                                                             bias_regularizer=tf.keras.regularizers.l2(0.01)))(input_x)\n",
    "# out = tf.keras.layers.Dense(49, activation=\"softmax\")(bi_rnn) \n",
    "# model = tf.keras.Model(inputs=input_x, outputs=out)\n",
    "# model.compile(loss='sparse_categorical_crossentropy',optimizer=\"adam\",metrics=['accuracy'])\n",
    "# model.summary()\n",
    "\n",
    "input_x = tf.keras.layers.Input(shape=(800,768))\n",
    "x = tf.keras.layers.Conv1D(128, 3, padding=\"same\")(input_x)\n",
    "x = residual_block(x, 128, 1)\n",
    "#x = tf.keras.layers.Dropout(0.3)(x)\n",
    "x = residual_block(x, 128, 2) #4 blocks of these in ProtCNN\n",
    "x = tf.keras.layers.MaxPooling1D(800)(x)\n",
    "\n",
    "x = tf.keras.layers.Flatten()(x)\n",
    "out = tf.keras.layers.Dense(numclass, activation=\"softmax\")(x) \n",
    "\n",
    "model = tf.keras.Model(inputs=input_x, outputs=out)\n",
    "#optimizer = tf.keras.optimizers.Adam(lr=1e-5)\n",
    "\n",
    "model.compile(loss='sparse_categorical_crossentropy',optimizer=\"adam\",metrics=['accuracy'])\n",
    "model.summary()"
   ]
  },
  {
   "cell_type": "code",
   "execution_count": 8,
   "metadata": {},
   "outputs": [],
   "source": [
    "# lr_schedule = tf.keras.callbacks.LearningRateScheduler(\n",
    "#     lambda epoch: 1e-5 * 10**(epoch / 20))\n",
    "\n",
    "es = tf.keras.callbacks.EarlyStopping(monitor='val_accuracy', mode='max', min_delta=0.01, patience=5)"
   ]
  },
  {
   "cell_type": "code",
   "execution_count": 9,
   "metadata": {},
   "outputs": [],
   "source": [
    "def reset_random_seeds():\n",
    "    os.environ['PYTHONHASHSEED']=str(1)\n",
    "    tf.random.set_seed(1)\n",
    "    np.random.seed(1)\n",
    "    \n",
    "reset_random_seeds()"
   ]
  },
  {
   "cell_type": "code",
   "execution_count": 10,
   "metadata": {},
   "outputs": [
    {
     "name": "stdout",
     "output_type": "stream",
     "text": [
      "Epoch 1/25\n",
      "165/165 - 9s - loss: 1.3288 - accuracy: 0.7202 - val_loss: 0.6444 - val_accuracy: 0.8264\n",
      "Epoch 2/25\n",
      "165/165 - 10s - loss: 0.3916 - accuracy: 0.8933 - val_loss: 0.4120 - val_accuracy: 0.8832\n",
      "Epoch 3/25\n",
      "165/165 - 18s - loss: 0.2343 - accuracy: 0.9319 - val_loss: 0.2826 - val_accuracy: 0.9166\n",
      "Epoch 4/25\n",
      "165/165 - 16s - loss: 0.1294 - accuracy: 0.9649 - val_loss: 0.3505 - val_accuracy: 0.8984\n",
      "Epoch 5/25\n",
      "165/165 - 13s - loss: 0.0567 - accuracy: 0.9843 - val_loss: 0.2223 - val_accuracy: 0.9371\n",
      "Epoch 6/25\n",
      "165/165 - 9s - loss: 0.0381 - accuracy: 0.9877 - val_loss: 0.2631 - val_accuracy: 0.9242\n",
      "Epoch 7/25\n",
      "165/165 - 8s - loss: 0.0128 - accuracy: 0.9977 - val_loss: 0.2666 - val_accuracy: 0.9234\n",
      "Epoch 8/25\n",
      "165/165 - 8s - loss: 0.0091 - accuracy: 0.9989 - val_loss: 0.1645 - val_accuracy: 0.9530\n",
      "Epoch 9/25\n",
      "165/165 - 12s - loss: 0.0040 - accuracy: 0.9992 - val_loss: 0.1904 - val_accuracy: 0.9454\n",
      "Epoch 10/25\n",
      "165/165 - 29s - loss: 0.0032 - accuracy: 0.9994 - val_loss: 0.1864 - val_accuracy: 0.9469\n",
      "Epoch 11/25\n",
      "165/165 - 14s - loss: 9.8432e-04 - accuracy: 1.0000 - val_loss: 0.1897 - val_accuracy: 0.9484\n",
      "Epoch 12/25\n",
      "165/165 - 13s - loss: 7.4129e-04 - accuracy: 1.0000 - val_loss: 0.1875 - val_accuracy: 0.9484\n",
      "Epoch 13/25\n",
      "165/165 - 13s - loss: 6.3086e-04 - accuracy: 1.0000 - val_loss: 0.1856 - val_accuracy: 0.9492\n"
     ]
    }
   ],
   "source": [
    "history = model.fit(TAPEncoded_train, train_labels, epochs=25, validation_data=(TAPEncoded_val, validation_labels), verbose=2, callbacks=[es])"
   ]
  },
  {
   "cell_type": "code",
   "execution_count": 11,
   "metadata": {},
   "outputs": [],
   "source": [
    "preds = model.predict(TAPEncoded_val)\n",
    "\n",
    "mask = (validation_labels == 6) #6 is negative\n",
    "\n",
    "predictions = np.argmax(preds, axis=1)\n",
    "\n",
    "y_true = validation_labels\n",
    "y_true[~mask] = 1\n",
    "y_true[mask] = 0\n",
    "\n",
    "mask = (predictions == 6)\n",
    "y_pred = predictions\n",
    "y_pred[~mask] = 1\n",
    "y_pred[mask] = 0"
   ]
  },
  {
   "cell_type": "code",
   "execution_count": 13,
   "metadata": {
    "scrolled": true
   },
   "outputs": [
    {
     "name": "stdout",
     "output_type": "stream",
     "text": [
      "True positive: 547, false positive: 8, true negative: 728, false negative: 36\n",
      "\n",
      "MCC: 0.932907\n",
      "Accuracy: 96.66%\n",
      "F1 score: 0.96\n",
      "Precision: 0.99\n",
      "Recall: 0.94\n"
     ]
    }
   ],
   "source": [
    "get_performance_vals(y_pred, y_true)"
   ]
  },
  {
   "cell_type": "code",
   "execution_count": 14,
   "metadata": {},
   "outputs": [
    {
     "name": "stdout",
     "output_type": "stream",
     "text": [
      "Saved model to disk\n"
     ]
    }
   ],
   "source": [
    "# serialize model to JSON\n",
    "model_json = model.to_json()\n",
    "with open(\"./\" + \"TAPE_PF_culled_model.json\", \"w\") as json_file:\n",
    "    json_file.write(model_json)\n",
    "# serialize weights to HDF5\n",
    "model.save_weights(\"./\" + \"TAPE_PF_culled_model.h5\")\n",
    "print(\"Saved model to disk\")"
   ]
  },
  {
   "cell_type": "code",
   "execution_count": null,
   "metadata": {},
   "outputs": [],
   "source": [
    "#Method 2B - Binary classification"
   ]
  },
  {
   "cell_type": "code",
   "execution_count": 15,
   "metadata": {},
   "outputs": [
    {
     "name": "stdout",
     "output_type": "stream",
     "text": [
      "Model: \"model_1\"\n",
      "__________________________________________________________________________________________________\n",
      "Layer (type)                    Output Shape         Param #     Connected to                     \n",
      "==================================================================================================\n",
      "input_2 (InputLayer)            [(None, 800, 768)]   0                                            \n",
      "__________________________________________________________________________________________________\n",
      "conv1d_5 (Conv1D)               (None, 800, 128)     295040      input_2[0][0]                    \n",
      "__________________________________________________________________________________________________\n",
      "batch_normalization_4 (BatchNor (None, 800, 128)     512         conv1d_5[0][0]                   \n",
      "__________________________________________________________________________________________________\n",
      "activation_4 (Activation)       (None, 800, 128)     0           batch_normalization_4[0][0]      \n",
      "__________________________________________________________________________________________________\n",
      "conv1d_6 (Conv1D)               (None, 800, 128)     49280       activation_4[0][0]               \n",
      "__________________________________________________________________________________________________\n",
      "batch_normalization_5 (BatchNor (None, 800, 128)     512         conv1d_6[0][0]                   \n",
      "__________________________________________________________________________________________________\n",
      "activation_5 (Activation)       (None, 800, 128)     0           batch_normalization_5[0][0]      \n",
      "__________________________________________________________________________________________________\n",
      "conv1d_7 (Conv1D)               (None, 800, 128)     16512       activation_5[0][0]               \n",
      "__________________________________________________________________________________________________\n",
      "add_2 (Add)                     (None, 800, 128)     0           conv1d_7[0][0]                   \n",
      "                                                                 conv1d_5[0][0]                   \n",
      "__________________________________________________________________________________________________\n",
      "batch_normalization_6 (BatchNor (None, 800, 128)     512         add_2[0][0]                      \n",
      "__________________________________________________________________________________________________\n",
      "activation_6 (Activation)       (None, 800, 128)     0           batch_normalization_6[0][0]      \n",
      "__________________________________________________________________________________________________\n",
      "conv1d_8 (Conv1D)               (None, 800, 128)     49280       activation_6[0][0]               \n",
      "__________________________________________________________________________________________________\n",
      "batch_normalization_7 (BatchNor (None, 800, 128)     512         conv1d_8[0][0]                   \n",
      "__________________________________________________________________________________________________\n",
      "activation_7 (Activation)       (None, 800, 128)     0           batch_normalization_7[0][0]      \n",
      "__________________________________________________________________________________________________\n",
      "conv1d_9 (Conv1D)               (None, 800, 128)     16512       activation_7[0][0]               \n",
      "__________________________________________________________________________________________________\n",
      "add_3 (Add)                     (None, 800, 128)     0           conv1d_9[0][0]                   \n",
      "                                                                 add_2[0][0]                      \n",
      "__________________________________________________________________________________________________\n",
      "max_pooling1d_1 (MaxPooling1D)  (None, 1, 128)       0           add_3[0][0]                      \n",
      "__________________________________________________________________________________________________\n",
      "flatten_1 (Flatten)             (None, 128)          0           max_pooling1d_1[0][0]            \n",
      "__________________________________________________________________________________________________\n",
      "dense_1 (Dense)                 (None, 10)           1290        flatten_1[0][0]                  \n",
      "__________________________________________________________________________________________________\n",
      "dense_2 (Dense)                 (None, 1)            11          dense_1[0][0]                    \n",
      "==================================================================================================\n",
      "Total params: 429,973\n",
      "Trainable params: 428,949\n",
      "Non-trainable params: 1,024\n",
      "__________________________________________________________________________________________________\n"
     ]
    }
   ],
   "source": [
    "# batch_size = 8\n",
    "# n_timesteps = 400\n",
    "# n_features = 768\n",
    "# input_x = tf.keras.layers.Input(shape=(n_timesteps,n_features))\n",
    "# bi_rnn = tf.keras.layers.Bidirectional(tf.keras.layers.LSTM(16, batch_input_shape=(batch_size, n_timesteps, n_features), \n",
    "#                                                             kernel_regularizer=tf.keras.regularizers.l2(0.01), \n",
    "#                                                             recurrent_regularizer=tf.keras.regularizers.l2(0.01), \n",
    "#                                                             bias_regularizer=tf.keras.regularizers.l2(0.01)))(input_x)\n",
    "# out = tf.keras.layers.Dense(49, activation=\"softmax\")(bi_rnn) \n",
    "# model = tf.keras.Model(inputs=input_x, outputs=out)\n",
    "# model.compile(loss='sparse_categorical_crossentropy',optimizer=\"adam\",metrics=['accuracy'])\n",
    "# model.summary()\n",
    "\n",
    "input_x = tf.keras.layers.Input(shape=(800,768))\n",
    "x = tf.keras.layers.Conv1D(128, 3, padding=\"same\")(input_x)\n",
    "x = residual_block(x, 128, 1)\n",
    "#x = tf.keras.layers.Dropout(0.3)(x)\n",
    "x = residual_block(x, 128, 2) #4 blocks of these in ProtCNN\n",
    "x = tf.keras.layers.MaxPooling1D(800)(x)\n",
    "\n",
    "x = tf.keras.layers.Flatten()(x)\n",
    "x = tf.keras.layers.Dense(10, activation=\"relu\")(x) \n",
    "out = tf.keras.layers.Dense(1, activation=\"sigmoid\")(x) \n",
    "\n",
    "model = tf.keras.Model(inputs=input_x, outputs=out)\n",
    "#optimizer = tf.keras.optimizers.Adam(lr=1e-5)\n",
    "\n",
    "model.compile(loss='binary_crossentropy',optimizer=\"adam\",metrics=['accuracy'])\n",
    "model.summary()"
   ]
  },
  {
   "cell_type": "code",
   "execution_count": 16,
   "metadata": {},
   "outputs": [],
   "source": [
    "validation_labels = y_true"
   ]
  },
  {
   "cell_type": "code",
   "execution_count": 17,
   "metadata": {},
   "outputs": [],
   "source": [
    "mask = (train_labels == 6) #6 is negative\n",
    "train_labels[~mask] = 1\n",
    "train_labels[mask] = 0"
   ]
  },
  {
   "cell_type": "code",
   "execution_count": 18,
   "metadata": {},
   "outputs": [
    {
     "name": "stdout",
     "output_type": "stream",
     "text": [
      "Epoch 1/25\n",
      "165/165 - 9s - loss: 0.5701 - accuracy: 0.8038 - val_loss: 0.4424 - val_accuracy: 0.8021\n",
      "Epoch 2/25\n",
      "165/165 - 8s - loss: 0.2704 - accuracy: 0.8918 - val_loss: 0.2385 - val_accuracy: 0.9067\n",
      "Epoch 3/25\n",
      "165/165 - 11s - loss: 0.1669 - accuracy: 0.9382 - val_loss: 0.3542 - val_accuracy: 0.8688\n",
      "Epoch 4/25\n",
      "165/165 - 9s - loss: 0.1332 - accuracy: 0.9488 - val_loss: 0.1437 - val_accuracy: 0.9409\n",
      "Epoch 5/25\n",
      "165/165 - 8s - loss: 0.0762 - accuracy: 0.9755 - val_loss: 0.1121 - val_accuracy: 0.9553\n",
      "Epoch 6/25\n",
      "165/165 - 8s - loss: 0.0496 - accuracy: 0.9831 - val_loss: 0.1168 - val_accuracy: 0.9575\n",
      "Epoch 7/25\n",
      "165/165 - 11s - loss: 0.0219 - accuracy: 0.9973 - val_loss: 0.1117 - val_accuracy: 0.9568\n",
      "Epoch 8/25\n",
      "165/165 - 19s - loss: 0.0143 - accuracy: 0.9987 - val_loss: 0.1452 - val_accuracy: 0.9439\n",
      "Epoch 9/25\n",
      "165/165 - 12s - loss: 0.0072 - accuracy: 0.9996 - val_loss: 0.1187 - val_accuracy: 0.9560\n",
      "Epoch 10/25\n",
      "165/165 - 13s - loss: 0.0043 - accuracy: 0.9996 - val_loss: 0.1237 - val_accuracy: 0.9560\n"
     ]
    }
   ],
   "source": [
    "history = model.fit(TAPEncoded_train, train_labels, epochs=25, validation_data=(TAPEncoded_val, validation_labels), verbose=2, callbacks=[es])"
   ]
  },
  {
   "cell_type": "code",
   "execution_count": 19,
   "metadata": {},
   "outputs": [],
   "source": [
    "preds = model.predict(TAPEncoded_val)"
   ]
  },
  {
   "cell_type": "code",
   "execution_count": 20,
   "metadata": {},
   "outputs": [],
   "source": [
    "mask = preds > 0.5\n",
    "preds[mask] = 1\n",
    "preds[~mask] = 0"
   ]
  },
  {
   "cell_type": "code",
   "execution_count": 21,
   "metadata": {},
   "outputs": [],
   "source": [
    "preds = preds.reshape(-1)"
   ]
  },
  {
   "cell_type": "code",
   "execution_count": 22,
   "metadata": {},
   "outputs": [
    {
     "name": "stdout",
     "output_type": "stream",
     "text": [
      "True positive: 551, false positive: 26, true negative: 710, false negative: 32\n",
      "\n",
      "MCC: 0.910798\n",
      "Accuracy: 95.60%\n",
      "F1 score: 0.95\n",
      "Precision: 0.95\n",
      "Recall: 0.95\n"
     ]
    }
   ],
   "source": [
    "get_performance_vals(preds, validation_labels) #Performs worse than mutliclass model!!"
   ]
  },
  {
   "cell_type": "code",
   "execution_count": 10,
   "metadata": {},
   "outputs": [],
   "source": [
    "#Method 3"
   ]
  },
  {
   "cell_type": "code",
   "execution_count": 11,
   "metadata": {},
   "outputs": [],
   "source": [
    "#Starting here"
   ]
  },
  {
   "cell_type": "code",
   "execution_count": 17,
   "metadata": {},
   "outputs": [
    {
     "name": "stdout",
     "output_type": "stream",
     "text": [
      "Tensorflow version 2.2.0\n",
      "WARNING:tensorflow:From <ipython-input-17-0ced83b4a304>:6: is_gpu_available (from tensorflow.python.framework.test_util) is deprecated and will be removed in a future version.\n",
      "Instructions for updating:\n",
      "Use `tf.config.list_physical_devices('GPU')` instead.\n"
     ]
    },
    {
     "name": "stderr",
     "output_type": "stream",
     "text": [
      "C:\\Users\\sarva\\Anaconda3\\lib\\site-packages\\tensorboard\\compat\\tensorflow_stub\\dtypes.py:541: FutureWarning: Passing (type, 1) or '1type' as a synonym of type is deprecated; in a future version of numpy, it will be understood as (type, (1,)) / '(1,)type'.\n",
      "  _np_qint8 = np.dtype([(\"qint8\", np.int8, 1)])\n",
      "C:\\Users\\sarva\\Anaconda3\\lib\\site-packages\\tensorboard\\compat\\tensorflow_stub\\dtypes.py:542: FutureWarning: Passing (type, 1) or '1type' as a synonym of type is deprecated; in a future version of numpy, it will be understood as (type, (1,)) / '(1,)type'.\n",
      "  _np_quint8 = np.dtype([(\"quint8\", np.uint8, 1)])\n",
      "C:\\Users\\sarva\\Anaconda3\\lib\\site-packages\\tensorboard\\compat\\tensorflow_stub\\dtypes.py:543: FutureWarning: Passing (type, 1) or '1type' as a synonym of type is deprecated; in a future version of numpy, it will be understood as (type, (1,)) / '(1,)type'.\n",
      "  _np_qint16 = np.dtype([(\"qint16\", np.int16, 1)])\n",
      "C:\\Users\\sarva\\Anaconda3\\lib\\site-packages\\tensorboard\\compat\\tensorflow_stub\\dtypes.py:544: FutureWarning: Passing (type, 1) or '1type' as a synonym of type is deprecated; in a future version of numpy, it will be understood as (type, (1,)) / '(1,)type'.\n",
      "  _np_quint16 = np.dtype([(\"quint16\", np.uint16, 1)])\n",
      "C:\\Users\\sarva\\Anaconda3\\lib\\site-packages\\tensorboard\\compat\\tensorflow_stub\\dtypes.py:545: FutureWarning: Passing (type, 1) or '1type' as a synonym of type is deprecated; in a future version of numpy, it will be understood as (type, (1,)) / '(1,)type'.\n",
      "  _np_qint32 = np.dtype([(\"qint32\", np.int32, 1)])\n",
      "C:\\Users\\sarva\\Anaconda3\\lib\\site-packages\\tensorboard\\compat\\tensorflow_stub\\dtypes.py:550: FutureWarning: Passing (type, 1) or '1type' as a synonym of type is deprecated; in a future version of numpy, it will be understood as (type, (1,)) / '(1,)type'.\n",
      "  np_resource = np.dtype([(\"resource\", np.ubyte, 1)])\n"
     ]
    },
    {
     "name": "stdout",
     "output_type": "stream",
     "text": [
      "True\n",
      "Compute dtype: float16\n",
      "Variable dtype: float32\n"
     ]
    }
   ],
   "source": [
    "import tensorflow as tf\n",
    "print(\"Tensorflow version \" + tf.__version__)\n",
    "\n",
    "tf.test.is_built_with_cuda()\n",
    "\n",
    "print(tf.test.is_gpu_available(cuda_only=False, min_cuda_compute_capability=None))\n",
    "\n",
    "tf.config.experimental.list_physical_devices('GPU')\n",
    "#for device in gpu_devices: tf.config.experimental.set_memory_growth(device, True)\n",
    "\n",
    "# import tensorflow.keras.backend as K\n",
    "# dtype = 'float16'\n",
    "# K.set_floatx(dtype)\n",
    "# K.set_epsilon(1e-4)\n",
    "\n",
    "from tensorflow.keras.preprocessing.text import Tokenizer\n",
    "from tensorflow.keras.preprocessing.sequence import pad_sequences\n",
    "from tensorflow.keras.mixed_precision import experimental as mixed_precision\n",
    "policy = mixed_precision.Policy('mixed_float16')\n",
    "mixed_precision.set_policy(policy)\n",
    "\n",
    "print('Compute dtype: %s' % policy.compute_dtype)\n",
    "print('Variable dtype: %s' % policy.variable_dtype)"
   ]
  },
  {
   "cell_type": "code",
   "execution_count": 18,
   "metadata": {
    "colab": {},
    "colab_type": "code",
    "id": "DsU7zKDkOoE9"
   },
   "outputs": [],
   "source": [
    "def split_(word): \n",
    "    return [char for char in word]\n",
    "\n",
    "train_sentences = [[char for char in word] for word in train]\n",
    "validation_sentences = [[char for char in word] for word in dev]\n",
    "#test_sentences = test['sequence'].apply(lambda x: split_(x))"
   ]
  },
  {
   "cell_type": "code",
   "execution_count": 19,
   "metadata": {
    "colab": {
     "base_uri": "https://localhost:8080/",
     "height": 33
    },
    "colab_type": "code",
    "id": "MpoLRnT0OoFN",
    "outputId": "79f02a60-1599-4a1e-fc7a-1b9e9e6e718f"
   },
   "outputs": [
    {
     "name": "stdout",
     "output_type": "stream",
     "text": [
      "{'<OOV>': 1, 'l': 2, 'a': 3, 'g': 4, 's': 5, 'v': 6, 'e': 7, 't': 8, 'd': 9, 'k': 10, 'i': 11, 'n': 12, 'r': 13, 'p': 14, 'f': 15, 'q': 16, 'y': 17, 'h': 18, 'm': 19, 'w': 20, 'c': 21, 'x': 22, 'u': 23, 'o': 24}\n"
     ]
    }
   ],
   "source": [
    "vocab_size = 21\n",
    "max_length = 800\n",
    "trunc_type = \"post\"\n",
    "padding_type = \"post\"\n",
    "oov_tok = \"<OOV>\"\n",
    "\n",
    "tokenizer = Tokenizer(oov_token=oov_tok, num_words = vocab_size)\n",
    "tokenizer.fit_on_texts(train_sentences)\n",
    "word_index = tokenizer.word_index\n",
    "print(word_index)\n",
    "\n",
    "train_sequences = tokenizer.texts_to_sequences(train_sentences)\n",
    "train_padded = pad_sequences(train_sequences, maxlen=max_length, padding=padding_type)\n",
    "# del train_sentences\n",
    "# del train_sequences\n",
    "# gc.collect()"
   ]
  },
  {
   "cell_type": "code",
   "execution_count": 20,
   "metadata": {
    "colab": {},
    "colab_type": "code",
    "id": "3iy99ZfCJ34l"
   },
   "outputs": [],
   "source": [
    "validation_sequences = tokenizer.texts_to_sequences(validation_sentences)\n",
    "validation_padded = pad_sequences(validation_sequences, maxlen=max_length, padding=padding_type)\n",
    "# del validation_sentences\n",
    "# del validation_sequences\n",
    "# gc.collect()"
   ]
  },
  {
   "cell_type": "code",
   "execution_count": 21,
   "metadata": {
    "colab": {},
    "colab_type": "code",
    "id": "UpmBGMoKJ85Z"
   },
   "outputs": [],
   "source": [
    "# takes too much space\n",
    "# solved with non-trainable Embedding layer with identity initializer\n",
    "\n",
    "# train_padded = tf.keras.utils.to_categorical(train_padded, num_classes=vocab_size)\n",
    "# validation_padded = tf.keras.utils.to_categorical(validation_padded, num_classes=vocab_size)\n",
    "# test_padded = tf.keras.utils.to_categorical(test_padded, num_classes=vocab_size)"
   ]
  },
  {
   "cell_type": "code",
   "execution_count": 22,
   "metadata": {
    "colab": {
     "base_uri": "https://localhost:8080/",
     "height": 33
    },
    "colab_type": "code",
    "id": "rhXMpWpXOoFP",
    "outputId": "78f7883c-7106-4b5d-9137-a634692a08d9"
   },
   "outputs": [
    {
     "data": {
      "text/plain": [
       "(5275, 800)"
      ]
     },
     "execution_count": 22,
     "metadata": {},
     "output_type": "execute_result"
    }
   ],
   "source": [
    "train_padded.shape"
   ]
  },
  {
   "cell_type": "code",
   "execution_count": 23,
   "metadata": {
    "colab": {
     "base_uri": "https://localhost:8080/",
     "height": 33
    },
    "colab_type": "code",
    "id": "2eB81tNKWbaf",
    "outputId": "4f233e42-7130-4d05-9962-e0cb8e08c0cc"
   },
   "outputs": [
    {
     "data": {
      "text/plain": [
       "((5275,), (1319,))"
      ]
     },
     "execution_count": 23,
     "metadata": {},
     "output_type": "execute_result"
    }
   ],
   "source": [
    "from sklearn.preprocessing import LabelEncoder\n",
    "le = LabelEncoder()\n",
    "\n",
    "train_labels = le.fit_transform(train_labels)\n",
    "validation_labels = le.transform(validation_labels)\n",
    "#test_labels = le.transform(test_labels)\n",
    "\n",
    "train_labels.shape, validation_labels.shape"
   ]
  },
  {
   "cell_type": "code",
   "execution_count": 24,
   "metadata": {},
   "outputs": [
    {
     "name": "stdout",
     "output_type": "stream",
     "text": [
      "{0: 'PF00087_full_Toxin_TOLIP_333.txt', 1: 'PF01289_full_Thiol_cytolysin_243.txt', 2: 'PF02382_full_RTX_14.txt', 3: 'PF04598_rp15_Gasdermin_62.txt', 4: 'PF07367_full_FB_lectin_171.txt', 5: 'PF11565_full_porB_30.txt', 6: 'negative', 7: 'pos_PF00555_seed_Endotoxin_M_36.txt', 8: 'pos_PF01024_full_Colicin_26.txt', 9: 'pos_PF01117_full_Aerolysin_207.txt', 10: 'pos_PF01338_full_Bac_thur_toxin_87.txt', 11: 'pos_PF01823_rp15_MACPF_659.txt', 12: 'pos_PF03318_full_ETX_MTX2_440.txt', 13: 'pos_PF03505_full_Clenterotox_9.txt', 14: 'pos_PF03944_seed_Endotoxin_C_80.txt', 15: 'pos_PF03945_full_Endotoxin_N_180.txt', 16: 'pos_PF04877_full_Harpin_35.txt', 17: 'pos_PF05105_seed_Phage_holin_4_1_131.txt', 18: 'pos_PF05802_full_EspB_60.txt', 19: 'pos_PF06109_full_HlyE_62.txt', 20: 'pos_PF06355_full_Aegerolysin_308.txt', 21: 'pos_PF06369_full_anemone_cytotox_363.txt', 22: 'pos_PF07968_full_Leukocidin_89.txt', 23: 'pos_PF11393_full_T4BSS_DotI_IcmL_214.txt', 24: 'pos_PF12261_full_T_hemolysin_327.txt', 25: 'pos_PF12563_full_Hemolysin_N_12.txt', 26: 'pos_PF12920_full_TcdA_TcdB_pore_46.txt', 27: 'pos_PF17475_full_Binary_toxB_2_16.txt', 28: 'pos_PF18063_full_BB_PF_52.txt', 29: 'pos_PF18684_full_PlyB_C_8.txt'}\n"
     ]
    }
   ],
   "source": [
    "le_name_mapping = dict(zip(le.classes_, le.transform(le.classes_)))\n",
    "umap_map = {v: k for k, v in le_name_mapping.items()}\n",
    "print(umap_map)"
   ]
  },
  {
   "cell_type": "code",
   "execution_count": 25,
   "metadata": {},
   "outputs": [],
   "source": [
    "numclass = max(train_labels) + 1"
   ]
  },
  {
   "cell_type": "code",
   "execution_count": 26,
   "metadata": {},
   "outputs": [],
   "source": [
    "def residual_block(x, filters, dil):\n",
    "    shortcut = x\n",
    "    bn1 = tf.keras.layers.BatchNormalization()(x)\n",
    "    a1 = tf.keras.layers.Activation(\"relu\")(bn1)\n",
    "    conv1 = tf.keras.layers.Conv1D(filters, 3, dilation_rate = dil, padding=\"same\")(a1) #1100 filters and 9 kernel size in ProtCNN\n",
    "    \n",
    "    bn2 = tf.keras.layers.BatchNormalization()(conv1)\n",
    "    a2 = tf.keras.layers.Activation(\"relu\")(bn2)\n",
    "    conv2 = tf.keras.layers.Conv1D(filters, 1, padding=\"same\")(a2)\n",
    "    \n",
    "    x = tf.keras.layers.Add()([conv2, shortcut])\n",
    "    \n",
    "    return x"
   ]
  },
  {
   "cell_type": "code",
   "execution_count": 27,
   "metadata": {
    "colab": {
     "base_uri": "https://localhost:8080/",
     "height": 856
    },
    "colab_type": "code",
    "id": "gHREjUe3OoFh",
    "outputId": "101f0f32-c106-488a-aa22-a894ad687d2a"
   },
   "outputs": [
    {
     "name": "stdout",
     "output_type": "stream",
     "text": [
      "Model: \"model\"\n",
      "__________________________________________________________________________________________________\n",
      "Layer (type)                    Output Shape         Param #     Connected to                     \n",
      "==================================================================================================\n",
      "input_1 (InputLayer)            [(None, 800)]        0                                            \n",
      "__________________________________________________________________________________________________\n",
      "embedding (Embedding)           (None, 800, 21)      441         input_1[0][0]                    \n",
      "__________________________________________________________________________________________________\n",
      "conv1d (Conv1D)                 (None, 800, 128)     8192        embedding[0][0]                  \n",
      "__________________________________________________________________________________________________\n",
      "batch_normalization (BatchNorma (None, 800, 128)     512         conv1d[0][0]                     \n",
      "__________________________________________________________________________________________________\n",
      "activation (Activation)         (None, 800, 128)     0           batch_normalization[0][0]        \n",
      "__________________________________________________________________________________________________\n",
      "conv1d_1 (Conv1D)               (None, 800, 128)     49280       activation[0][0]                 \n",
      "__________________________________________________________________________________________________\n",
      "batch_normalization_1 (BatchNor (None, 800, 128)     512         conv1d_1[0][0]                   \n",
      "__________________________________________________________________________________________________\n",
      "activation_1 (Activation)       (None, 800, 128)     0           batch_normalization_1[0][0]      \n",
      "__________________________________________________________________________________________________\n",
      "conv1d_2 (Conv1D)               (None, 800, 128)     16512       activation_1[0][0]               \n",
      "__________________________________________________________________________________________________\n",
      "add (Add)                       (None, 800, 128)     0           conv1d_2[0][0]                   \n",
      "                                                                 conv1d[0][0]                     \n",
      "__________________________________________________________________________________________________\n",
      "batch_normalization_2 (BatchNor (None, 800, 128)     512         add[0][0]                        \n",
      "__________________________________________________________________________________________________\n",
      "activation_2 (Activation)       (None, 800, 128)     0           batch_normalization_2[0][0]      \n",
      "__________________________________________________________________________________________________\n",
      "conv1d_3 (Conv1D)               (None, 800, 128)     49280       activation_2[0][0]               \n",
      "__________________________________________________________________________________________________\n",
      "batch_normalization_3 (BatchNor (None, 800, 128)     512         conv1d_3[0][0]                   \n",
      "__________________________________________________________________________________________________\n",
      "activation_3 (Activation)       (None, 800, 128)     0           batch_normalization_3[0][0]      \n",
      "__________________________________________________________________________________________________\n",
      "conv1d_4 (Conv1D)               (None, 800, 128)     16512       activation_3[0][0]               \n",
      "__________________________________________________________________________________________________\n",
      "add_1 (Add)                     (None, 800, 128)     0           conv1d_4[0][0]                   \n",
      "                                                                 add[0][0]                        \n",
      "__________________________________________________________________________________________________\n",
      "max_pooling1d (MaxPooling1D)    (None, 1, 128)       0           add_1[0][0]                      \n",
      "__________________________________________________________________________________________________\n",
      "flatten (Flatten)               (None, 128)          0           max_pooling1d[0][0]              \n",
      "__________________________________________________________________________________________________\n",
      "dense (Dense)                   (None, 30)           3870        flatten[0][0]                    \n",
      "==================================================================================================\n",
      "Total params: 146,135\n",
      "Trainable params: 144,670\n",
      "Non-trainable params: 1,465\n",
      "__________________________________________________________________________________________________\n"
     ]
    }
   ],
   "source": [
    "input_x = tf.keras.layers.Input(shape=800)\n",
    "x = tf.keras.layers.Embedding(vocab_size, vocab_size, embeddings_initializer=tf.keras.initializers.Identity(gain=1.0), trainable=False)(input_x)\n",
    "x = tf.keras.layers.Conv1D(128, 3, padding=\"same\")(x)\n",
    "x = residual_block(x, 128, 1)\n",
    "x = residual_block(x, 128, 2) #4 blocks of these in ProtCNN\n",
    "x = tf.keras.layers.MaxPooling1D(max_length)(x)\n",
    "\n",
    "x = tf.keras.layers.Flatten()(x)\n",
    "out = tf.keras.layers.Dense(numclass, activation=\"softmax\")(x) \n",
    "\n",
    "model = tf.keras.Model(inputs=input_x, outputs=out)\n",
    "#optimizer = tf.keras.optimizers.Adam(lr=1e-5)\n",
    "\n",
    "model.compile(loss='sparse_categorical_crossentropy',optimizer=\"adam\",metrics=['accuracy'])\n",
    "model.summary()"
   ]
  },
  {
   "cell_type": "code",
   "execution_count": 28,
   "metadata": {},
   "outputs": [],
   "source": [
    "def reset_random_seeds():\n",
    "    os.environ['PYTHONHASHSEED']=str(1)\n",
    "    tf.random.set_seed(1)\n",
    "    np.random.seed(1)\n",
    "    \n",
    "reset_random_seeds()"
   ]
  },
  {
   "cell_type": "code",
   "execution_count": 29,
   "metadata": {
    "colab": {
     "base_uri": "https://localhost:8080/",
     "height": 386
    },
    "colab_type": "code",
    "id": "I-GgPN6_OoFj",
    "outputId": "40067b50-b3ce-4d2d-f04a-a6364511eff7"
   },
   "outputs": [
    {
     "name": "stdout",
     "output_type": "stream",
     "text": [
      "Epoch 1/25\n",
      "165/165 - 3s - loss: 2.0153 - accuracy: 0.5955 - val_loss: 2.5594 - val_accuracy: 0.5580\n",
      "Epoch 2/25\n",
      "165/165 - 2s - loss: 0.8211 - accuracy: 0.8023 - val_loss: 1.5739 - val_accuracy: 0.6414\n",
      "Epoch 3/25\n",
      "165/165 - 2s - loss: 0.4495 - accuracy: 0.8845 - val_loss: 0.8051 - val_accuracy: 0.7665\n",
      "Epoch 4/25\n",
      "165/165 - 2s - loss: 0.2629 - accuracy: 0.9293 - val_loss: 0.6531 - val_accuracy: 0.8271\n",
      "Epoch 5/25\n",
      "165/165 - 2s - loss: 0.1128 - accuracy: 0.9757 - val_loss: 0.4401 - val_accuracy: 0.8802\n",
      "Epoch 6/25\n",
      "165/165 - 2s - loss: 0.0442 - accuracy: 0.9947 - val_loss: 0.4367 - val_accuracy: 0.8886\n",
      "Epoch 7/25\n",
      "165/165 - 2s - loss: 0.0149 - accuracy: 1.0000 - val_loss: 0.3903 - val_accuracy: 0.8992\n",
      "Epoch 8/25\n",
      "165/165 - 2s - loss: 0.0062 - accuracy: 1.0000 - val_loss: 0.4201 - val_accuracy: 0.8984\n",
      "Epoch 9/25\n",
      "165/165 - 2s - loss: 0.0042 - accuracy: 1.0000 - val_loss: 0.3897 - val_accuracy: 0.9037\n",
      "Epoch 10/25\n",
      "165/165 - 2s - loss: 0.0031 - accuracy: 1.0000 - val_loss: 0.4061 - val_accuracy: 0.9007\n",
      "Epoch 11/25\n",
      "165/165 - 2s - loss: 0.0024 - accuracy: 1.0000 - val_loss: 0.4147 - val_accuracy: 0.8999\n",
      "Epoch 12/25\n",
      "165/165 - 2s - loss: 0.0021 - accuracy: 1.0000 - val_loss: 0.4157 - val_accuracy: 0.9014\n"
     ]
    }
   ],
   "source": [
    "es = tf.keras.callbacks.EarlyStopping(monitor='val_accuracy', mode='max', min_delta=0.01, patience=5)\n",
    "history = model.fit(train_padded, train_labels, epochs=25, validation_data=(validation_padded, validation_labels), verbose=2, callbacks=[es])"
   ]
  },
  {
   "cell_type": "code",
   "execution_count": 30,
   "metadata": {},
   "outputs": [],
   "source": [
    "preds = model.predict(validation_padded)\n",
    "\n",
    "mask = (validation_labels == 6) #6 is negative\n",
    "\n",
    "predictions = np.argmax(preds, axis=1)\n",
    "\n",
    "y_true = validation_labels.copy()\n",
    "y_true[~mask] = 1\n",
    "y_true[mask] = 0\n",
    "\n",
    "mask = (predictions == 6)\n",
    "y_pred = predictions\n",
    "y_pred[~mask] = 1\n",
    "y_pred[mask] = 0"
   ]
  },
  {
   "cell_type": "code",
   "execution_count": 32,
   "metadata": {},
   "outputs": [
    {
     "name": "stdout",
     "output_type": "stream",
     "text": [
      "True positive: 488, false positive: 7, true negative: 729, false negative: 95\n",
      "\n",
      "MCC: 0.848780\n",
      "Accuracy: 92.27%\n",
      "F1 score: 0.91\n",
      "Precision: 0.99\n",
      "Recall: 0.84\n"
     ]
    }
   ],
   "source": [
    "get_performance_vals(y_pred, y_true)"
   ]
  },
  {
   "cell_type": "code",
   "execution_count": 34,
   "metadata": {
    "colab": {
     "base_uri": "https://localhost:8080/",
     "height": 33
    },
    "colab_type": "code",
    "id": "V9t0EJG86j7d",
    "outputId": "a567c4c3-9d93-481d-ee9f-e4ea3b93072f"
   },
   "outputs": [
    {
     "name": "stdout",
     "output_type": "stream",
     "text": [
      "Loaded model from disk\n"
     ]
    }
   ],
   "source": [
    "# load BEST model (json) and create model\n",
    "json_file = open(os.path.join(\"./\", \"TAPE_PF_culled_model.json\"), 'r')\n",
    "loaded_model_json = json_file.read()\n",
    "json_file.close()\n",
    "loaded_model = tf.keras.models.model_from_json(loaded_model_json)\n",
    "# load weights into new model\n",
    "loaded_model.load_weights(os.path.join(\"./\", \"TAPE_PF_culled_model.h5\"))\n",
    "print(\"Loaded model from disk\")\n",
    " \n",
    "# calculate embedding for new data\n",
    "embedder = tf.keras.Model(inputs = loaded_model.layers[0].input, outputs = loaded_model.layers[17].output)\n",
    "# embedder.compile(loss='categorical_crossentropy',optimizer=\"adam\")\n",
    "# predict should be allowed to use w/o compilation: \n",
    "# https://github.com/keras-team/keras/issues/2621\n",
    "# embeds = loaded_model.predict(test_padded[:10])"
   ]
  },
  {
   "cell_type": "code",
   "execution_count": 35,
   "metadata": {},
   "outputs": [],
   "source": [
    "path = \"./\" + \"TAPEncoded_train\" + \".pickle\"\n",
    "array_file = open(path, 'rb')\n",
    "TAPEncoded_train = pickle.load(array_file)\n",
    "array_file.close()\n",
    "\n",
    "path = \"./\" + \"TAPEncoded_val\" + \".pickle\"\n",
    "array_file = open(path, 'rb')\n",
    "TAPEncoded_val = pickle.load(array_file)\n",
    "array_file.close()"
   ]
  },
  {
   "cell_type": "code",
   "execution_count": 36,
   "metadata": {},
   "outputs": [],
   "source": [
    "TAPEncoded_train = np.array(TAPEncoded_train)\n",
    "TAPEncoded_train = np.squeeze(TAPEncoded_train)\n",
    "\n",
    "TAPEncoded_val = np.array(TAPEncoded_val)\n",
    "TAPEncoded_val = np.squeeze(TAPEncoded_val)"
   ]
  },
  {
   "cell_type": "code",
   "execution_count": 37,
   "metadata": {},
   "outputs": [
    {
     "data": {
      "text/plain": [
       "(1319, 800, 768)"
      ]
     },
     "execution_count": 37,
     "metadata": {},
     "output_type": "execute_result"
    }
   ],
   "source": [
    "TAPEncoded_val.shape"
   ]
  },
  {
   "cell_type": "code",
   "execution_count": 38,
   "metadata": {},
   "outputs": [],
   "source": [
    "train_embed = embedder.predict(TAPEncoded_train)\n",
    "val_embed = embedder.predict(TAPEncoded_val)"
   ]
  },
  {
   "cell_type": "code",
   "execution_count": 39,
   "metadata": {},
   "outputs": [],
   "source": [
    "path = \"./\" + \"PFmodelEmbed_train\" + \".pickle\"\n",
    "output = open(path, 'w+b')\n",
    "pickle.dump(train_embed, output)\n",
    "output.close()\n",
    "\n",
    "path = \"./\" + \"PFmodelEmbed_val\" + \".pickle\"\n",
    "output = open(path, 'w+b')\n",
    "pickle.dump(val_embed, output)\n",
    "output.close()"
   ]
  },
  {
   "cell_type": "code",
   "execution_count": 40,
   "metadata": {},
   "outputs": [
    {
     "data": {
      "text/plain": [
       "(1319, 128)"
      ]
     },
     "execution_count": 40,
     "metadata": {},
     "output_type": "execute_result"
    }
   ],
   "source": [
    "val_embed.shape"
   ]
  },
  {
   "cell_type": "code",
   "execution_count": 41,
   "metadata": {},
   "outputs": [],
   "source": [
    "import umap\n",
    "import umap.plot\n",
    "\n",
    "valid_mapper = umap.UMAP().fit(val_embed)"
   ]
  },
  {
   "cell_type": "code",
   "execution_count": 42,
   "metadata": {},
   "outputs": [],
   "source": [
    "hover_data = pd.DataFrame({'index':np.arange(1319),\n",
    "                           'label':validation_labels})\n",
    "\n",
    "hover_data['item'] = hover_data.label.map(umap_map)"
   ]
  },
  {
   "cell_type": "code",
   "execution_count": 43,
   "metadata": {},
   "outputs": [
    {
     "data": {
      "text/plain": [
       "0                                       negative\n",
       "1                                       negative\n",
       "2            pos_PF03944_seed_Endotoxin_C_80.txt\n",
       "3                                       negative\n",
       "4                                       negative\n",
       "                          ...                   \n",
       "1314    pos_PF06369_full_anemone_cytotox_363.txt\n",
       "1315              pos_PF01823_rp15_MACPF_659.txt\n",
       "1316        pos_PF03945_full_Endotoxin_N_180.txt\n",
       "1317               pos_PF18063_full_BB_PF_52.txt\n",
       "1318                                    negative\n",
       "Name: item, Length: 1319, dtype: object"
      ]
     },
     "execution_count": 43,
     "metadata": {},
     "output_type": "execute_result"
    }
   ],
   "source": [
    "hover_data['item']"
   ]
  },
  {
   "cell_type": "code",
   "execution_count": 44,
   "metadata": {},
   "outputs": [
    {
     "data": {
      "text/html": [
       "\n",
       "    <div class=\"bk-root\">\n",
       "        <a href=\"https://bokeh.org\" target=\"_blank\" class=\"bk-logo bk-logo-small bk-logo-notebook\"></a>\n",
       "        <span id=\"1040\">Loading BokehJS ...</span>\n",
       "    </div>"
      ]
     },
     "metadata": {},
     "output_type": "display_data"
    },
    {
     "data": {
      "application/javascript": [
       "\n",
       "(function(root) {\n",
       "  function now() {\n",
       "    return new Date();\n",
       "  }\n",
       "\n",
       "  var force = true;\n",
       "\n",
       "  if (typeof root._bokeh_onload_callbacks === \"undefined\" || force === true) {\n",
       "    root._bokeh_onload_callbacks = [];\n",
       "    root._bokeh_is_loading = undefined;\n",
       "  }\n",
       "\n",
       "  var JS_MIME_TYPE = 'application/javascript';\n",
       "  var HTML_MIME_TYPE = 'text/html';\n",
       "  var EXEC_MIME_TYPE = 'application/vnd.bokehjs_exec.v0+json';\n",
       "  var CLASS_NAME = 'output_bokeh rendered_html';\n",
       "\n",
       "  /**\n",
       "   * Render data to the DOM node\n",
       "   */\n",
       "  function render(props, node) {\n",
       "    var script = document.createElement(\"script\");\n",
       "    node.appendChild(script);\n",
       "  }\n",
       "\n",
       "  /**\n",
       "   * Handle when an output is cleared or removed\n",
       "   */\n",
       "  function handleClearOutput(event, handle) {\n",
       "    var cell = handle.cell;\n",
       "\n",
       "    var id = cell.output_area._bokeh_element_id;\n",
       "    var server_id = cell.output_area._bokeh_server_id;\n",
       "    // Clean up Bokeh references\n",
       "    if (id != null && id in Bokeh.index) {\n",
       "      Bokeh.index[id].model.document.clear();\n",
       "      delete Bokeh.index[id];\n",
       "    }\n",
       "\n",
       "    if (server_id !== undefined) {\n",
       "      // Clean up Bokeh references\n",
       "      var cmd = \"from bokeh.io.state import curstate; print(curstate().uuid_to_server['\" + server_id + \"'].get_sessions()[0].document.roots[0]._id)\";\n",
       "      cell.notebook.kernel.execute(cmd, {\n",
       "        iopub: {\n",
       "          output: function(msg) {\n",
       "            var id = msg.content.text.trim();\n",
       "            if (id in Bokeh.index) {\n",
       "              Bokeh.index[id].model.document.clear();\n",
       "              delete Bokeh.index[id];\n",
       "            }\n",
       "          }\n",
       "        }\n",
       "      });\n",
       "      // Destroy server and session\n",
       "      var cmd = \"import bokeh.io.notebook as ion; ion.destroy_server('\" + server_id + \"')\";\n",
       "      cell.notebook.kernel.execute(cmd);\n",
       "    }\n",
       "  }\n",
       "\n",
       "  /**\n",
       "   * Handle when a new output is added\n",
       "   */\n",
       "  function handleAddOutput(event, handle) {\n",
       "    var output_area = handle.output_area;\n",
       "    var output = handle.output;\n",
       "\n",
       "    // limit handleAddOutput to display_data with EXEC_MIME_TYPE content only\n",
       "    if ((output.output_type != \"display_data\") || (!output.data.hasOwnProperty(EXEC_MIME_TYPE))) {\n",
       "      return\n",
       "    }\n",
       "\n",
       "    var toinsert = output_area.element.find(\".\" + CLASS_NAME.split(' ')[0]);\n",
       "\n",
       "    if (output.metadata[EXEC_MIME_TYPE][\"id\"] !== undefined) {\n",
       "      toinsert[toinsert.length - 1].firstChild.textContent = output.data[JS_MIME_TYPE];\n",
       "      // store reference to embed id on output_area\n",
       "      output_area._bokeh_element_id = output.metadata[EXEC_MIME_TYPE][\"id\"];\n",
       "    }\n",
       "    if (output.metadata[EXEC_MIME_TYPE][\"server_id\"] !== undefined) {\n",
       "      var bk_div = document.createElement(\"div\");\n",
       "      bk_div.innerHTML = output.data[HTML_MIME_TYPE];\n",
       "      var script_attrs = bk_div.children[0].attributes;\n",
       "      for (var i = 0; i < script_attrs.length; i++) {\n",
       "        toinsert[toinsert.length - 1].firstChild.setAttribute(script_attrs[i].name, script_attrs[i].value);\n",
       "        toinsert[toinsert.length - 1].firstChild.textContent = bk_div.children[0].textContent\n",
       "      }\n",
       "      // store reference to server id on output_area\n",
       "      output_area._bokeh_server_id = output.metadata[EXEC_MIME_TYPE][\"server_id\"];\n",
       "    }\n",
       "  }\n",
       "\n",
       "  function register_renderer(events, OutputArea) {\n",
       "\n",
       "    function append_mime(data, metadata, element) {\n",
       "      // create a DOM node to render to\n",
       "      var toinsert = this.create_output_subarea(\n",
       "        metadata,\n",
       "        CLASS_NAME,\n",
       "        EXEC_MIME_TYPE\n",
       "      );\n",
       "      this.keyboard_manager.register_events(toinsert);\n",
       "      // Render to node\n",
       "      var props = {data: data, metadata: metadata[EXEC_MIME_TYPE]};\n",
       "      render(props, toinsert[toinsert.length - 1]);\n",
       "      element.append(toinsert);\n",
       "      return toinsert\n",
       "    }\n",
       "\n",
       "    /* Handle when an output is cleared or removed */\n",
       "    events.on('clear_output.CodeCell', handleClearOutput);\n",
       "    events.on('delete.Cell', handleClearOutput);\n",
       "\n",
       "    /* Handle when a new output is added */\n",
       "    events.on('output_added.OutputArea', handleAddOutput);\n",
       "\n",
       "    /**\n",
       "     * Register the mime type and append_mime function with output_area\n",
       "     */\n",
       "    OutputArea.prototype.register_mime_type(EXEC_MIME_TYPE, append_mime, {\n",
       "      /* Is output safe? */\n",
       "      safe: true,\n",
       "      /* Index of renderer in `output_area.display_order` */\n",
       "      index: 0\n",
       "    });\n",
       "  }\n",
       "\n",
       "  // register the mime type if in Jupyter Notebook environment and previously unregistered\n",
       "  if (root.Jupyter !== undefined) {\n",
       "    var events = require('base/js/events');\n",
       "    var OutputArea = require('notebook/js/outputarea').OutputArea;\n",
       "\n",
       "    if (OutputArea.prototype.mime_types().indexOf(EXEC_MIME_TYPE) == -1) {\n",
       "      register_renderer(events, OutputArea);\n",
       "    }\n",
       "  }\n",
       "\n",
       "  \n",
       "  if (typeof (root._bokeh_timeout) === \"undefined\" || force === true) {\n",
       "    root._bokeh_timeout = Date.now() + 5000;\n",
       "    root._bokeh_failed_load = false;\n",
       "  }\n",
       "\n",
       "  var NB_LOAD_WARNING = {'data': {'text/html':\n",
       "     \"<div style='background-color: #fdd'>\\n\"+\n",
       "     \"<p>\\n\"+\n",
       "     \"BokehJS does not appear to have successfully loaded. If loading BokehJS from CDN, this \\n\"+\n",
       "     \"may be due to a slow or bad network connection. Possible fixes:\\n\"+\n",
       "     \"</p>\\n\"+\n",
       "     \"<ul>\\n\"+\n",
       "     \"<li>re-rerun `output_notebook()` to attempt to load from CDN again, or</li>\\n\"+\n",
       "     \"<li>use INLINE resources instead, as so:</li>\\n\"+\n",
       "     \"</ul>\\n\"+\n",
       "     \"<code>\\n\"+\n",
       "     \"from bokeh.resources import INLINE\\n\"+\n",
       "     \"output_notebook(resources=INLINE)\\n\"+\n",
       "     \"</code>\\n\"+\n",
       "     \"</div>\"}};\n",
       "\n",
       "  function display_loaded() {\n",
       "    var el = document.getElementById(\"1040\");\n",
       "    if (el != null) {\n",
       "      el.textContent = \"BokehJS is loading...\";\n",
       "    }\n",
       "    if (root.Bokeh !== undefined) {\n",
       "      if (el != null) {\n",
       "        el.textContent = \"BokehJS \" + root.Bokeh.version + \" successfully loaded.\";\n",
       "      }\n",
       "    } else if (Date.now() < root._bokeh_timeout) {\n",
       "      setTimeout(display_loaded, 100)\n",
       "    }\n",
       "  }\n",
       "\n",
       "\n",
       "  function run_callbacks() {\n",
       "    try {\n",
       "      root._bokeh_onload_callbacks.forEach(function(callback) {\n",
       "        if (callback != null)\n",
       "          callback();\n",
       "      });\n",
       "    } finally {\n",
       "      delete root._bokeh_onload_callbacks\n",
       "    }\n",
       "    console.debug(\"Bokeh: all callbacks have finished\");\n",
       "  }\n",
       "\n",
       "  function load_libs(css_urls, js_urls, callback) {\n",
       "    if (css_urls == null) css_urls = [];\n",
       "    if (js_urls == null) js_urls = [];\n",
       "\n",
       "    root._bokeh_onload_callbacks.push(callback);\n",
       "    if (root._bokeh_is_loading > 0) {\n",
       "      console.debug(\"Bokeh: BokehJS is being loaded, scheduling callback at\", now());\n",
       "      return null;\n",
       "    }\n",
       "    if (js_urls == null || js_urls.length === 0) {\n",
       "      run_callbacks();\n",
       "      return null;\n",
       "    }\n",
       "    console.debug(\"Bokeh: BokehJS not loaded, scheduling load and callback at\", now());\n",
       "    root._bokeh_is_loading = css_urls.length + js_urls.length;\n",
       "\n",
       "    function on_load() {\n",
       "      root._bokeh_is_loading--;\n",
       "      if (root._bokeh_is_loading === 0) {\n",
       "        console.debug(\"Bokeh: all BokehJS libraries/stylesheets loaded\");\n",
       "        run_callbacks()\n",
       "      }\n",
       "    }\n",
       "\n",
       "    function on_error() {\n",
       "      console.error(\"failed to load \" + url);\n",
       "    }\n",
       "\n",
       "    for (var i = 0; i < css_urls.length; i++) {\n",
       "      var url = css_urls[i];\n",
       "      const element = document.createElement(\"link\");\n",
       "      element.onload = on_load;\n",
       "      element.onerror = on_error;\n",
       "      element.rel = \"stylesheet\";\n",
       "      element.type = \"text/css\";\n",
       "      element.href = url;\n",
       "      console.debug(\"Bokeh: injecting link tag for BokehJS stylesheet: \", url);\n",
       "      document.body.appendChild(element);\n",
       "    }\n",
       "\n",
       "    const hashes = {\"https://cdn.bokeh.org/bokeh/release/bokeh-2.1.0.min.js\": \"YobFyzPeVUsFQydHkJGsJL1kyfHnWxOlPc3EwaV22TmBaeGoXHLWx5aRRVPS9xlE\", \"https://cdn.bokeh.org/bokeh/release/bokeh-widgets-2.1.0.min.js\": \"NuAg9+TcTQQqvQCTtkCneRrpkTiMhhfiq0KHiBzx8ECiKiLWXHN6i6ia3q7b3eHu\", \"https://cdn.bokeh.org/bokeh/release/bokeh-tables-2.1.0.min.js\": \"uMVqQc8JqHitD67bXTn9a06Mrk3EiHRaZ18EJENQenAKJ/KL71SakdXYomZQpGRr\", \"https://cdn.bokeh.org/bokeh/release/bokeh-gl-2.1.0.min.js\": \"u+eGuEXC8aw0VSCm2mH+b/tQEAitUOYiR1H6SuIVEdUmXsf4vN8m/SmXpmjb7U/X\"};\n",
       "\n",
       "    for (var i = 0; i < js_urls.length; i++) {\n",
       "      var url = js_urls[i];\n",
       "      var element = document.createElement('script');\n",
       "      element.onload = on_load;\n",
       "      element.onerror = on_error;\n",
       "      element.async = false;\n",
       "      element.src = url;\n",
       "      if (url in hashes) {\n",
       "        element.crossOrigin = \"anonymous\";\n",
       "        element.integrity = \"sha384-\" + hashes[url];\n",
       "      }\n",
       "      console.debug(\"Bokeh: injecting script tag for BokehJS library: \", url);\n",
       "      document.head.appendChild(element);\n",
       "    }\n",
       "  };\n",
       "\n",
       "  function inject_raw_css(css) {\n",
       "    const element = document.createElement(\"style\");\n",
       "    element.appendChild(document.createTextNode(css));\n",
       "    document.body.appendChild(element);\n",
       "  }\n",
       "\n",
       "  \n",
       "  var js_urls = [\"https://cdn.bokeh.org/bokeh/release/bokeh-2.1.0.min.js\", \"https://cdn.bokeh.org/bokeh/release/bokeh-widgets-2.1.0.min.js\", \"https://cdn.bokeh.org/bokeh/release/bokeh-tables-2.1.0.min.js\", \"https://cdn.bokeh.org/bokeh/release/bokeh-gl-2.1.0.min.js\", \"https://unpkg.com/@holoviz/panel@^0.9.5/dist/panel.min.js\"];\n",
       "  var css_urls = [];\n",
       "  \n",
       "\n",
       "  var inline_js = [\n",
       "    function(Bokeh) {\n",
       "      inject_raw_css(\"table.panel-df {\\n    margin-left: auto;\\n    margin-right: auto;\\n    border: none;\\n    border-collapse: collapse;\\n    border-spacing: 0;\\n    color: black;\\n    font-size: 12px;\\n    table-layout: fixed;\\n    width: 100%;\\n}\\n\\n.panel-df tr, th, td {\\n    text-align: right;\\n    vertical-align: middle;\\n    padding: 0.5em 0.5em !important;\\n    line-height: normal;\\n    white-space: normal;\\n    max-width: none;\\n    border: none;\\n}\\n\\n.panel-df tbody {\\n    display: table-row-group;\\n    vertical-align: middle;\\n    border-color: inherit;\\n}\\n\\n.panel-df tbody tr:nth-child(odd) {\\n    background: #f5f5f5;\\n}\\n\\n.panel-df thead {\\n    border-bottom: 1px solid black;\\n    vertical-align: bottom;\\n}\\n\\n.panel-df tr:hover {\\n    background: lightblue !important;\\n    cursor: pointer;\\n}\\n\");\n",
       "    },\n",
       "    function(Bokeh) {\n",
       "      inject_raw_css(\".json-formatter-row {\\n  font-family: monospace;\\n}\\n.json-formatter-row,\\n.json-formatter-row a,\\n.json-formatter-row a:hover {\\n  color: black;\\n  text-decoration: none;\\n}\\n.json-formatter-row .json-formatter-row {\\n  margin-left: 1rem;\\n}\\n.json-formatter-row .json-formatter-children.json-formatter-empty {\\n  opacity: 0.5;\\n  margin-left: 1rem;\\n}\\n.json-formatter-row .json-formatter-children.json-formatter-empty:after {\\n  display: none;\\n}\\n.json-formatter-row .json-formatter-children.json-formatter-empty.json-formatter-object:after {\\n  content: \\\"No properties\\\";\\n}\\n.json-formatter-row .json-formatter-children.json-formatter-empty.json-formatter-array:after {\\n  content: \\\"[]\\\";\\n}\\n.json-formatter-row .json-formatter-string,\\n.json-formatter-row .json-formatter-stringifiable {\\n  color: green;\\n  white-space: pre;\\n  word-wrap: break-word;\\n}\\n.json-formatter-row .json-formatter-number {\\n  color: blue;\\n}\\n.json-formatter-row .json-formatter-boolean {\\n  color: red;\\n}\\n.json-formatter-row .json-formatter-null {\\n  color: #855A00;\\n}\\n.json-formatter-row .json-formatter-undefined {\\n  color: #ca0b69;\\n}\\n.json-formatter-row .json-formatter-function {\\n  color: #FF20ED;\\n}\\n.json-formatter-row .json-formatter-date {\\n  background-color: rgba(0, 0, 0, 0.05);\\n}\\n.json-formatter-row .json-formatter-url {\\n  text-decoration: underline;\\n  color: blue;\\n  cursor: pointer;\\n}\\n.json-formatter-row .json-formatter-bracket {\\n  color: blue;\\n}\\n.json-formatter-row .json-formatter-key {\\n  color: #00008B;\\n  padding-right: 0.2rem;\\n}\\n.json-formatter-row .json-formatter-toggler-link {\\n  cursor: pointer;\\n}\\n.json-formatter-row .json-formatter-toggler {\\n  line-height: 1.2rem;\\n  font-size: 0.7rem;\\n  vertical-align: middle;\\n  opacity: 0.6;\\n  cursor: pointer;\\n  padding-right: 0.2rem;\\n}\\n.json-formatter-row .json-formatter-toggler:after {\\n  display: inline-block;\\n  transition: transform 100ms ease-in;\\n  content: \\\"\\\\25BA\\\";\\n}\\n.json-formatter-row > a > .json-formatter-preview-text {\\n  opacity: 0;\\n  transition: opacity 0.15s ease-in;\\n  font-style: italic;\\n}\\n.json-formatter-row:hover > a > .json-formatter-preview-text {\\n  opacity: 0.6;\\n}\\n.json-formatter-row.json-formatter-open > .json-formatter-toggler-link .json-formatter-toggler:after {\\n  transform: rotate(90deg);\\n}\\n.json-formatter-row.json-formatter-open > .json-formatter-children:after {\\n  display: inline-block;\\n}\\n.json-formatter-row.json-formatter-open > a > .json-formatter-preview-text {\\n  display: none;\\n}\\n.json-formatter-row.json-formatter-open.json-formatter-empty:after {\\n  display: block;\\n}\\n.json-formatter-dark.json-formatter-row {\\n  font-family: monospace;\\n}\\n.json-formatter-dark.json-formatter-row,\\n.json-formatter-dark.json-formatter-row a,\\n.json-formatter-dark.json-formatter-row a:hover {\\n  color: white;\\n  text-decoration: none;\\n}\\n.json-formatter-dark.json-formatter-row .json-formatter-row {\\n  margin-left: 1rem;\\n}\\n.json-formatter-dark.json-formatter-row .json-formatter-children.json-formatter-empty {\\n  opacity: 0.5;\\n  margin-left: 1rem;\\n}\\n.json-formatter-dark.json-formatter-row .json-formatter-children.json-formatter-empty:after {\\n  display: none;\\n}\\n.json-formatter-dark.json-formatter-row .json-formatter-children.json-formatter-empty.json-formatter-object:after {\\n  content: \\\"No properties\\\";\\n}\\n.json-formatter-dark.json-formatter-row .json-formatter-children.json-formatter-empty.json-formatter-array:after {\\n  content: \\\"[]\\\";\\n}\\n.json-formatter-dark.json-formatter-row .json-formatter-string,\\n.json-formatter-dark.json-formatter-row .json-formatter-stringifiable {\\n  color: #31F031;\\n  white-space: pre;\\n  word-wrap: break-word;\\n}\\n.json-formatter-dark.json-formatter-row .json-formatter-number {\\n  color: #66C2FF;\\n}\\n.json-formatter-dark.json-formatter-row .json-formatter-boolean {\\n  color: #EC4242;\\n}\\n.json-formatter-dark.json-formatter-row .json-formatter-null {\\n  color: #EEC97D;\\n}\\n.json-formatter-dark.json-formatter-row .json-formatter-undefined {\\n  color: #ef8fbe;\\n}\\n.json-formatter-dark.json-formatter-row .json-formatter-function {\\n  color: #FD48CB;\\n}\\n.json-formatter-dark.json-formatter-row .json-formatter-date {\\n  background-color: rgba(255, 255, 255, 0.05);\\n}\\n.json-formatter-dark.json-formatter-row .json-formatter-url {\\n  text-decoration: underline;\\n  color: #027BFF;\\n  cursor: pointer;\\n}\\n.json-formatter-dark.json-formatter-row .json-formatter-bracket {\\n  color: #9494FF;\\n}\\n.json-formatter-dark.json-formatter-row .json-formatter-key {\\n  color: #23A0DB;\\n  padding-right: 0.2rem;\\n}\\n.json-formatter-dark.json-formatter-row .json-formatter-toggler-link {\\n  cursor: pointer;\\n}\\n.json-formatter-dark.json-formatter-row .json-formatter-toggler {\\n  line-height: 1.2rem;\\n  font-size: 0.7rem;\\n  vertical-align: middle;\\n  opacity: 0.6;\\n  cursor: pointer;\\n  padding-right: 0.2rem;\\n}\\n.json-formatter-dark.json-formatter-row .json-formatter-toggler:after {\\n  display: inline-block;\\n  transition: transform 100ms ease-in;\\n  content: \\\"\\\\25BA\\\";\\n}\\n.json-formatter-dark.json-formatter-row > a > .json-formatter-preview-text {\\n  opacity: 0;\\n  transition: opacity 0.15s ease-in;\\n  font-style: italic;\\n}\\n.json-formatter-dark.json-formatter-row:hover > a > .json-formatter-preview-text {\\n  opacity: 0.6;\\n}\\n.json-formatter-dark.json-formatter-row.json-formatter-open > .json-formatter-toggler-link .json-formatter-toggler:after {\\n  transform: rotate(90deg);\\n}\\n.json-formatter-dark.json-formatter-row.json-formatter-open > .json-formatter-children:after {\\n  display: inline-block;\\n}\\n.json-formatter-dark.json-formatter-row.json-formatter-open > a > .json-formatter-preview-text {\\n  display: none;\\n}\\n.json-formatter-dark.json-formatter-row.json-formatter-open.json-formatter-empty:after {\\n  display: block;\\n}\\n\");\n",
       "    },\n",
       "    function(Bokeh) {\n",
       "      inject_raw_css(\".codehilite .hll { background-color: #ffffcc }\\n.codehilite  { background: #f8f8f8; }\\n.codehilite .c { color: #408080; font-style: italic } /* Comment */\\n.codehilite .err { border: 1px solid #FF0000 } /* Error */\\n.codehilite .k { color: #008000; font-weight: bold } /* Keyword */\\n.codehilite .o { color: #666666 } /* Operator */\\n.codehilite .ch { color: #408080; font-style: italic } /* Comment.Hashbang */\\n.codehilite .cm { color: #408080; font-style: italic } /* Comment.Multiline */\\n.codehilite .cp { color: #BC7A00 } /* Comment.Preproc */\\n.codehilite .cpf { color: #408080; font-style: italic } /* Comment.PreprocFile */\\n.codehilite .c1 { color: #408080; font-style: italic } /* Comment.Single */\\n.codehilite .cs { color: #408080; font-style: italic } /* Comment.Special */\\n.codehilite .gd { color: #A00000 } /* Generic.Deleted */\\n.codehilite .ge { font-style: italic } /* Generic.Emph */\\n.codehilite .gr { color: #FF0000 } /* Generic.Error */\\n.codehilite .gh { color: #000080; font-weight: bold } /* Generic.Heading */\\n.codehilite .gi { color: #00A000 } /* Generic.Inserted */\\n.codehilite .go { color: #888888 } /* Generic.Output */\\n.codehilite .gp { color: #000080; font-weight: bold } /* Generic.Prompt */\\n.codehilite .gs { font-weight: bold } /* Generic.Strong */\\n.codehilite .gu { color: #800080; font-weight: bold } /* Generic.Subheading */\\n.codehilite .gt { color: #0044DD } /* Generic.Traceback */\\n.codehilite .kc { color: #008000; font-weight: bold } /* Keyword.Constant */\\n.codehilite .kd { color: #008000; font-weight: bold } /* Keyword.Declaration */\\n.codehilite .kn { color: #008000; font-weight: bold } /* Keyword.Namespace */\\n.codehilite .kp { color: #008000 } /* Keyword.Pseudo */\\n.codehilite .kr { color: #008000; font-weight: bold } /* Keyword.Reserved */\\n.codehilite .kt { color: #B00040 } /* Keyword.Type */\\n.codehilite .m { color: #666666 } /* Literal.Number */\\n.codehilite .s { color: #BA2121 } /* Literal.String */\\n.codehilite .na { color: #7D9029 } /* Name.Attribute */\\n.codehilite .nb { color: #008000 } /* Name.Builtin */\\n.codehilite .nc { color: #0000FF; font-weight: bold } /* Name.Class */\\n.codehilite .no { color: #880000 } /* Name.Constant */\\n.codehilite .nd { color: #AA22FF } /* Name.Decorator */\\n.codehilite .ni { color: #999999; font-weight: bold } /* Name.Entity */\\n.codehilite .ne { color: #D2413A; font-weight: bold } /* Name.Exception */\\n.codehilite .nf { color: #0000FF } /* Name.Function */\\n.codehilite .nl { color: #A0A000 } /* Name.Label */\\n.codehilite .nn { color: #0000FF; font-weight: bold } /* Name.Namespace */\\n.codehilite .nt { color: #008000; font-weight: bold } /* Name.Tag */\\n.codehilite .nv { color: #19177C } /* Name.Variable */\\n.codehilite .ow { color: #AA22FF; font-weight: bold } /* Operator.Word */\\n.codehilite .w { color: #bbbbbb } /* Text.Whitespace */\\n.codehilite .mb { color: #666666 } /* Literal.Number.Bin */\\n.codehilite .mf { color: #666666 } /* Literal.Number.Float */\\n.codehilite .mh { color: #666666 } /* Literal.Number.Hex */\\n.codehilite .mi { color: #666666 } /* Literal.Number.Integer */\\n.codehilite .mo { color: #666666 } /* Literal.Number.Oct */\\n.codehilite .sa { color: #BA2121 } /* Literal.String.Affix */\\n.codehilite .sb { color: #BA2121 } /* Literal.String.Backtick */\\n.codehilite .sc { color: #BA2121 } /* Literal.String.Char */\\n.codehilite .dl { color: #BA2121 } /* Literal.String.Delimiter */\\n.codehilite .sd { color: #BA2121; font-style: italic } /* Literal.String.Doc */\\n.codehilite .s2 { color: #BA2121 } /* Literal.String.Double */\\n.codehilite .se { color: #BB6622; font-weight: bold } /* Literal.String.Escape */\\n.codehilite .sh { color: #BA2121 } /* Literal.String.Heredoc */\\n.codehilite .si { color: #BB6688; font-weight: bold } /* Literal.String.Interpol */\\n.codehilite .sx { color: #008000 } /* Literal.String.Other */\\n.codehilite .sr { color: #BB6688 } /* Literal.String.Regex */\\n.codehilite .s1 { color: #BA2121 } /* Literal.String.Single */\\n.codehilite .ss { color: #19177C } /* Literal.String.Symbol */\\n.codehilite .bp { color: #008000 } /* Name.Builtin.Pseudo */\\n.codehilite .fm { color: #0000FF } /* Name.Function.Magic */\\n.codehilite .vc { color: #19177C } /* Name.Variable.Class */\\n.codehilite .vg { color: #19177C } /* Name.Variable.Global */\\n.codehilite .vi { color: #19177C } /* Name.Variable.Instance */\\n.codehilite .vm { color: #19177C } /* Name.Variable.Magic */\\n.codehilite .il { color: #666666 } /* Literal.Number.Integer.Long */\\n\\n.markdown h1 { margin-block-start: 0.34em }\\n.markdown h2 { margin-block-start: 0.42em }\\n.markdown h3 { margin-block-start: 0.5em }\\n.markdown h4 { margin-block-start: 0.67em }\\n.markdown h5 { margin-block-start: 0.84em }\\n.markdown h6 { margin-block-start: 1.17em }\\n.markdown ul { padding-inline-start: 2em }\\n.markdown ol { padding-inline-start: 2em }\\n.markdown strong { font-weight: 600 }\\n.markdown a { color: -webkit-link }\\n.markdown a { color: -moz-hyperlinkText }\\n\");\n",
       "    },\n",
       "    function(Bokeh) {\n",
       "      inject_raw_css(\".widget-box {\\n\\tmin-height: 20px;\\n\\tbackground-color: #f5f5f5;\\n\\tborder: 1px solid #e3e3e3 !important;\\n\\tborder-radius: 4px;\\n\\t-webkit-box-shadow: inset 0 1px 1px rgba(0,0,0,.05);\\n\\tbox-shadow: inset 0 1px 1px rgba(0,0,0,.05);\\n\\toverflow-x: hidden;\\n\\toverflow-y: hidden;\\n}\\n\\n.scrollable {\\n  overflow: scroll;\\n}\\n\\nprogress {\\n\\tappearance: none;\\n\\t-moz-appearance: none;\\n\\t-webkit-appearance: none;\\n\\n\\tborder: none;\\n\\theight: 20px;\\n\\tbackground-color: whiteSmoke;\\n\\tborder-radius: 3px;\\n\\tbox-shadow: 0 2px 3px rgba(0,0,0,.5) inset;\\n\\tcolor: royalblue;\\n\\tposition: relative;\\n\\tmargin: 0 0 1.5em;\\n}\\n\\nprogress[value]::-webkit-progress-bar {\\n\\tbackground-color: whiteSmoke;\\n\\tborder-radius: 3px;\\n\\tbox-shadow: 0 2px 3px rgba(0,0,0,.5) inset;\\n}\\n\\nprogress[value]::-webkit-progress-value {\\n\\tposition: relative;\\n\\n\\tbackground-size: 35px 20px, 100% 100%, 100% 100%;\\n\\tborder-radius:3px;\\n}\\n\\nprogress.active:not([value])::before {\\n\\tbackground-position: 10%;\\n\\tanimation-name: stripes;\\n\\tanimation-duration: 3s;\\n\\tanimation-timing-function: linear;\\n\\tanimation-iteration-count: infinite;\\n}\\n\\nprogress[value]::-moz-progress-bar {\\n\\tbackground-size: 35px 20px, 100% 100%, 100% 100%;\\n\\tborder-radius:3px;\\n}\\n\\nprogress:not([value])::-moz-progress-bar {\\n\\tborder-radius:3px;\\n\\tbackground:\\n\\tlinear-gradient(-45deg, transparent 33%, rgba(0, 0, 0, 0.2) 33%, rgba(0, 0, 0, 0.2) 66%, transparent 66%) left/2.5em 1.5em;\\n\\n}\\n\\nprogress.active:not([value])::-moz-progress-bar {\\n\\tbackground-position: 10%;\\n\\tanimation-name: stripes;\\n\\tanimation-duration: 3s;\\n\\tanimation-timing-function: linear;\\n\\tanimation-iteration-count: infinite;\\n}\\n\\nprogress.active:not([value])::-webkit-progress-bar {\\n\\tbackground-position: 10%;\\n\\tanimation-name: stripes;\\n\\tanimation-duration: 3s;\\n\\tanimation-timing-function: linear;\\n\\tanimation-iteration-count: infinite;\\n}\\n\\nprogress.primary[value]::-webkit-progress-value { background-color: #007bff; }\\nprogress.primary:not([value])::before { background-color: #007bff; }\\nprogress.primary:not([value])::-webkit-progress-bar { background-color: #007bff; }\\nprogress.primary::-moz-progress-bar { background-color: #007bff; }\\n\\nprogress.secondary[value]::-webkit-progress-value { background-color: #6c757d; }\\nprogress.secondary:not([value])::before { background-color: #6c757d; }\\nprogress.secondary:not([value])::-webkit-progress-bar { background-color: #6c757d; }\\nprogress.secondary::-moz-progress-bar { background-color: #6c757d; }\\n\\nprogress.success[value]::-webkit-progress-value { background-color: #28a745; }\\nprogress.success:not([value])::before { background-color: #28a745; }\\nprogress.success:not([value])::-webkit-progress-bar { background-color: #28a745; }\\nprogress.success::-moz-progress-bar { background-color: #28a745; }\\n\\nprogress.danger[value]::-webkit-progress-value { background-color: #dc3545; }\\nprogress.danger:not([value])::before { background-color: #dc3545; }\\nprogress.danger:not([value])::-webkit-progress-bar { background-color: #dc3545; }\\nprogress.danger::-moz-progress-bar { background-color: #dc3545; }\\n\\nprogress.warning[value]::-webkit-progress-value { background-color: #ffc107; }\\nprogress.warning:not([value])::before { background-color: #ffc107; }\\nprogress.warning:not([value])::-webkit-progress-bar { background-color: #ffc107; }\\nprogress.warning::-moz-progress-bar { background-color: #ffc107; }\\n\\nprogress.info[value]::-webkit-progress-value { background-color: #17a2b8; }\\nprogress.info:not([value])::before { background-color: #17a2b8; }\\nprogress.info:not([value])::-webkit-progress-bar { background-color: #17a2b8; }\\nprogress.info::-moz-progress-bar { background-color: #17a2b8; }\\n\\nprogress.light[value]::-webkit-progress-value { background-color: #f8f9fa; }\\nprogress.light:not([value])::before { background-color: #f8f9fa; }\\nprogress.light:not([value])::-webkit-progress-bar { background-color: #f8f9fa; }\\nprogress.light::-moz-progress-bar { background-color: #f8f9fa; }\\n\\nprogress.dark[value]::-webkit-progress-value { background-color: #343a40; }\\nprogress.dark:not([value])::-webkit-progress-bar { background-color: #343a40; }\\nprogress.dark:not([value])::before { background-color: #343a40; }\\nprogress.dark::-moz-progress-bar { background-color: #343a40; }\\n\\nprogress:not([value])::-webkit-progress-bar {\\n\\tborder-radius: 3px;\\n\\tbackground:\\n\\tlinear-gradient(-45deg, transparent 33%, rgba(0, 0, 0, 0.2) 33%, rgba(0, 0, 0, 0.2) 66%, transparent 66%) left/2.5em 1.5em;\\n}\\nprogress:not([value])::before {\\n\\tcontent:\\\" \\\";\\n\\tposition:absolute;\\n\\theight: 20px;\\n\\ttop:0;\\n\\tleft:0;\\n\\tright:0;\\n\\tbottom:0;\\n\\tborder-radius: 3px;\\n\\tbackground:\\n\\tlinear-gradient(-45deg, transparent 33%, rgba(0, 0, 0, 0.2) 33%, rgba(0, 0, 0, 0.2) 66%, transparent 66%) left/2.5em 1.5em;\\n}\\n\\n@keyframes stripes {\\n  from {background-position: 0%}\\n  to {background-position: 100%}\\n}\");\n",
       "    },\n",
       "    function(Bokeh) {\n",
       "      Bokeh.set_log_level(\"info\");\n",
       "    },\n",
       "    function(Bokeh) {\n",
       "    \n",
       "    \n",
       "    }\n",
       "  ];\n",
       "\n",
       "  function run_inline_js() {\n",
       "    \n",
       "    if (root.Bokeh !== undefined || force === true) {\n",
       "      \n",
       "    for (var i = 0; i < inline_js.length; i++) {\n",
       "      inline_js[i].call(root, root.Bokeh);\n",
       "    }\n",
       "    if (force === true) {\n",
       "        display_loaded();\n",
       "      }} else if (Date.now() < root._bokeh_timeout) {\n",
       "      setTimeout(run_inline_js, 100);\n",
       "    } else if (!root._bokeh_failed_load) {\n",
       "      console.log(\"Bokeh: BokehJS failed to load within specified timeout.\");\n",
       "      root._bokeh_failed_load = true;\n",
       "    } else if (force !== true) {\n",
       "      var cell = $(document.getElementById(\"1040\")).parents('.cell').data().cell;\n",
       "      cell.output_area.append_execute_result(NB_LOAD_WARNING)\n",
       "    }\n",
       "\n",
       "  }\n",
       "\n",
       "  if (root._bokeh_is_loading === 0) {\n",
       "    console.debug(\"Bokeh: BokehJS loaded, going straight to plotting\");\n",
       "    run_inline_js();\n",
       "  } else {\n",
       "    load_libs(css_urls, js_urls, function() {\n",
       "      console.debug(\"Bokeh: BokehJS plotting callback run at\", now());\n",
       "      run_inline_js();\n",
       "    });\n",
       "  }\n",
       "}(window));"
      ],
      "application/vnd.bokehjs_load.v0+json": "\n(function(root) {\n  function now() {\n    return new Date();\n  }\n\n  var force = true;\n\n  if (typeof root._bokeh_onload_callbacks === \"undefined\" || force === true) {\n    root._bokeh_onload_callbacks = [];\n    root._bokeh_is_loading = undefined;\n  }\n\n  \n\n  \n  if (typeof (root._bokeh_timeout) === \"undefined\" || force === true) {\n    root._bokeh_timeout = Date.now() + 5000;\n    root._bokeh_failed_load = false;\n  }\n\n  var NB_LOAD_WARNING = {'data': {'text/html':\n     \"<div style='background-color: #fdd'>\\n\"+\n     \"<p>\\n\"+\n     \"BokehJS does not appear to have successfully loaded. If loading BokehJS from CDN, this \\n\"+\n     \"may be due to a slow or bad network connection. Possible fixes:\\n\"+\n     \"</p>\\n\"+\n     \"<ul>\\n\"+\n     \"<li>re-rerun `output_notebook()` to attempt to load from CDN again, or</li>\\n\"+\n     \"<li>use INLINE resources instead, as so:</li>\\n\"+\n     \"</ul>\\n\"+\n     \"<code>\\n\"+\n     \"from bokeh.resources import INLINE\\n\"+\n     \"output_notebook(resources=INLINE)\\n\"+\n     \"</code>\\n\"+\n     \"</div>\"}};\n\n  function display_loaded() {\n    var el = document.getElementById(\"1040\");\n    if (el != null) {\n      el.textContent = \"BokehJS is loading...\";\n    }\n    if (root.Bokeh !== undefined) {\n      if (el != null) {\n        el.textContent = \"BokehJS \" + root.Bokeh.version + \" successfully loaded.\";\n      }\n    } else if (Date.now() < root._bokeh_timeout) {\n      setTimeout(display_loaded, 100)\n    }\n  }\n\n\n  function run_callbacks() {\n    try {\n      root._bokeh_onload_callbacks.forEach(function(callback) {\n        if (callback != null)\n          callback();\n      });\n    } finally {\n      delete root._bokeh_onload_callbacks\n    }\n    console.debug(\"Bokeh: all callbacks have finished\");\n  }\n\n  function load_libs(css_urls, js_urls, callback) {\n    if (css_urls == null) css_urls = [];\n    if (js_urls == null) js_urls = [];\n\n    root._bokeh_onload_callbacks.push(callback);\n    if (root._bokeh_is_loading > 0) {\n      console.debug(\"Bokeh: BokehJS is being loaded, scheduling callback at\", now());\n      return null;\n    }\n    if (js_urls == null || js_urls.length === 0) {\n      run_callbacks();\n      return null;\n    }\n    console.debug(\"Bokeh: BokehJS not loaded, scheduling load and callback at\", now());\n    root._bokeh_is_loading = css_urls.length + js_urls.length;\n\n    function on_load() {\n      root._bokeh_is_loading--;\n      if (root._bokeh_is_loading === 0) {\n        console.debug(\"Bokeh: all BokehJS libraries/stylesheets loaded\");\n        run_callbacks()\n      }\n    }\n\n    function on_error() {\n      console.error(\"failed to load \" + url);\n    }\n\n    for (var i = 0; i < css_urls.length; i++) {\n      var url = css_urls[i];\n      const element = document.createElement(\"link\");\n      element.onload = on_load;\n      element.onerror = on_error;\n      element.rel = \"stylesheet\";\n      element.type = \"text/css\";\n      element.href = url;\n      console.debug(\"Bokeh: injecting link tag for BokehJS stylesheet: \", url);\n      document.body.appendChild(element);\n    }\n\n    const hashes = {\"https://cdn.bokeh.org/bokeh/release/bokeh-2.1.0.min.js\": \"YobFyzPeVUsFQydHkJGsJL1kyfHnWxOlPc3EwaV22TmBaeGoXHLWx5aRRVPS9xlE\", \"https://cdn.bokeh.org/bokeh/release/bokeh-widgets-2.1.0.min.js\": \"NuAg9+TcTQQqvQCTtkCneRrpkTiMhhfiq0KHiBzx8ECiKiLWXHN6i6ia3q7b3eHu\", \"https://cdn.bokeh.org/bokeh/release/bokeh-tables-2.1.0.min.js\": \"uMVqQc8JqHitD67bXTn9a06Mrk3EiHRaZ18EJENQenAKJ/KL71SakdXYomZQpGRr\", \"https://cdn.bokeh.org/bokeh/release/bokeh-gl-2.1.0.min.js\": \"u+eGuEXC8aw0VSCm2mH+b/tQEAitUOYiR1H6SuIVEdUmXsf4vN8m/SmXpmjb7U/X\"};\n\n    for (var i = 0; i < js_urls.length; i++) {\n      var url = js_urls[i];\n      var element = document.createElement('script');\n      element.onload = on_load;\n      element.onerror = on_error;\n      element.async = false;\n      element.src = url;\n      if (url in hashes) {\n        element.crossOrigin = \"anonymous\";\n        element.integrity = \"sha384-\" + hashes[url];\n      }\n      console.debug(\"Bokeh: injecting script tag for BokehJS library: \", url);\n      document.head.appendChild(element);\n    }\n  };\n\n  function inject_raw_css(css) {\n    const element = document.createElement(\"style\");\n    element.appendChild(document.createTextNode(css));\n    document.body.appendChild(element);\n  }\n\n  \n  var js_urls = [\"https://cdn.bokeh.org/bokeh/release/bokeh-2.1.0.min.js\", \"https://cdn.bokeh.org/bokeh/release/bokeh-widgets-2.1.0.min.js\", \"https://cdn.bokeh.org/bokeh/release/bokeh-tables-2.1.0.min.js\", \"https://cdn.bokeh.org/bokeh/release/bokeh-gl-2.1.0.min.js\", \"https://unpkg.com/@holoviz/panel@^0.9.5/dist/panel.min.js\"];\n  var css_urls = [];\n  \n\n  var inline_js = [\n    function(Bokeh) {\n      inject_raw_css(\"table.panel-df {\\n    margin-left: auto;\\n    margin-right: auto;\\n    border: none;\\n    border-collapse: collapse;\\n    border-spacing: 0;\\n    color: black;\\n    font-size: 12px;\\n    table-layout: fixed;\\n    width: 100%;\\n}\\n\\n.panel-df tr, th, td {\\n    text-align: right;\\n    vertical-align: middle;\\n    padding: 0.5em 0.5em !important;\\n    line-height: normal;\\n    white-space: normal;\\n    max-width: none;\\n    border: none;\\n}\\n\\n.panel-df tbody {\\n    display: table-row-group;\\n    vertical-align: middle;\\n    border-color: inherit;\\n}\\n\\n.panel-df tbody tr:nth-child(odd) {\\n    background: #f5f5f5;\\n}\\n\\n.panel-df thead {\\n    border-bottom: 1px solid black;\\n    vertical-align: bottom;\\n}\\n\\n.panel-df tr:hover {\\n    background: lightblue !important;\\n    cursor: pointer;\\n}\\n\");\n    },\n    function(Bokeh) {\n      inject_raw_css(\".json-formatter-row {\\n  font-family: monospace;\\n}\\n.json-formatter-row,\\n.json-formatter-row a,\\n.json-formatter-row a:hover {\\n  color: black;\\n  text-decoration: none;\\n}\\n.json-formatter-row .json-formatter-row {\\n  margin-left: 1rem;\\n}\\n.json-formatter-row .json-formatter-children.json-formatter-empty {\\n  opacity: 0.5;\\n  margin-left: 1rem;\\n}\\n.json-formatter-row .json-formatter-children.json-formatter-empty:after {\\n  display: none;\\n}\\n.json-formatter-row .json-formatter-children.json-formatter-empty.json-formatter-object:after {\\n  content: \\\"No properties\\\";\\n}\\n.json-formatter-row .json-formatter-children.json-formatter-empty.json-formatter-array:after {\\n  content: \\\"[]\\\";\\n}\\n.json-formatter-row .json-formatter-string,\\n.json-formatter-row .json-formatter-stringifiable {\\n  color: green;\\n  white-space: pre;\\n  word-wrap: break-word;\\n}\\n.json-formatter-row .json-formatter-number {\\n  color: blue;\\n}\\n.json-formatter-row .json-formatter-boolean {\\n  color: red;\\n}\\n.json-formatter-row .json-formatter-null {\\n  color: #855A00;\\n}\\n.json-formatter-row .json-formatter-undefined {\\n  color: #ca0b69;\\n}\\n.json-formatter-row .json-formatter-function {\\n  color: #FF20ED;\\n}\\n.json-formatter-row .json-formatter-date {\\n  background-color: rgba(0, 0, 0, 0.05);\\n}\\n.json-formatter-row .json-formatter-url {\\n  text-decoration: underline;\\n  color: blue;\\n  cursor: pointer;\\n}\\n.json-formatter-row .json-formatter-bracket {\\n  color: blue;\\n}\\n.json-formatter-row .json-formatter-key {\\n  color: #00008B;\\n  padding-right: 0.2rem;\\n}\\n.json-formatter-row .json-formatter-toggler-link {\\n  cursor: pointer;\\n}\\n.json-formatter-row .json-formatter-toggler {\\n  line-height: 1.2rem;\\n  font-size: 0.7rem;\\n  vertical-align: middle;\\n  opacity: 0.6;\\n  cursor: pointer;\\n  padding-right: 0.2rem;\\n}\\n.json-formatter-row .json-formatter-toggler:after {\\n  display: inline-block;\\n  transition: transform 100ms ease-in;\\n  content: \\\"\\\\25BA\\\";\\n}\\n.json-formatter-row > a > .json-formatter-preview-text {\\n  opacity: 0;\\n  transition: opacity 0.15s ease-in;\\n  font-style: italic;\\n}\\n.json-formatter-row:hover > a > .json-formatter-preview-text {\\n  opacity: 0.6;\\n}\\n.json-formatter-row.json-formatter-open > .json-formatter-toggler-link .json-formatter-toggler:after {\\n  transform: rotate(90deg);\\n}\\n.json-formatter-row.json-formatter-open > .json-formatter-children:after {\\n  display: inline-block;\\n}\\n.json-formatter-row.json-formatter-open > a > .json-formatter-preview-text {\\n  display: none;\\n}\\n.json-formatter-row.json-formatter-open.json-formatter-empty:after {\\n  display: block;\\n}\\n.json-formatter-dark.json-formatter-row {\\n  font-family: monospace;\\n}\\n.json-formatter-dark.json-formatter-row,\\n.json-formatter-dark.json-formatter-row a,\\n.json-formatter-dark.json-formatter-row a:hover {\\n  color: white;\\n  text-decoration: none;\\n}\\n.json-formatter-dark.json-formatter-row .json-formatter-row {\\n  margin-left: 1rem;\\n}\\n.json-formatter-dark.json-formatter-row .json-formatter-children.json-formatter-empty {\\n  opacity: 0.5;\\n  margin-left: 1rem;\\n}\\n.json-formatter-dark.json-formatter-row .json-formatter-children.json-formatter-empty:after {\\n  display: none;\\n}\\n.json-formatter-dark.json-formatter-row .json-formatter-children.json-formatter-empty.json-formatter-object:after {\\n  content: \\\"No properties\\\";\\n}\\n.json-formatter-dark.json-formatter-row .json-formatter-children.json-formatter-empty.json-formatter-array:after {\\n  content: \\\"[]\\\";\\n}\\n.json-formatter-dark.json-formatter-row .json-formatter-string,\\n.json-formatter-dark.json-formatter-row .json-formatter-stringifiable {\\n  color: #31F031;\\n  white-space: pre;\\n  word-wrap: break-word;\\n}\\n.json-formatter-dark.json-formatter-row .json-formatter-number {\\n  color: #66C2FF;\\n}\\n.json-formatter-dark.json-formatter-row .json-formatter-boolean {\\n  color: #EC4242;\\n}\\n.json-formatter-dark.json-formatter-row .json-formatter-null {\\n  color: #EEC97D;\\n}\\n.json-formatter-dark.json-formatter-row .json-formatter-undefined {\\n  color: #ef8fbe;\\n}\\n.json-formatter-dark.json-formatter-row .json-formatter-function {\\n  color: #FD48CB;\\n}\\n.json-formatter-dark.json-formatter-row .json-formatter-date {\\n  background-color: rgba(255, 255, 255, 0.05);\\n}\\n.json-formatter-dark.json-formatter-row .json-formatter-url {\\n  text-decoration: underline;\\n  color: #027BFF;\\n  cursor: pointer;\\n}\\n.json-formatter-dark.json-formatter-row .json-formatter-bracket {\\n  color: #9494FF;\\n}\\n.json-formatter-dark.json-formatter-row .json-formatter-key {\\n  color: #23A0DB;\\n  padding-right: 0.2rem;\\n}\\n.json-formatter-dark.json-formatter-row .json-formatter-toggler-link {\\n  cursor: pointer;\\n}\\n.json-formatter-dark.json-formatter-row .json-formatter-toggler {\\n  line-height: 1.2rem;\\n  font-size: 0.7rem;\\n  vertical-align: middle;\\n  opacity: 0.6;\\n  cursor: pointer;\\n  padding-right: 0.2rem;\\n}\\n.json-formatter-dark.json-formatter-row .json-formatter-toggler:after {\\n  display: inline-block;\\n  transition: transform 100ms ease-in;\\n  content: \\\"\\\\25BA\\\";\\n}\\n.json-formatter-dark.json-formatter-row > a > .json-formatter-preview-text {\\n  opacity: 0;\\n  transition: opacity 0.15s ease-in;\\n  font-style: italic;\\n}\\n.json-formatter-dark.json-formatter-row:hover > a > .json-formatter-preview-text {\\n  opacity: 0.6;\\n}\\n.json-formatter-dark.json-formatter-row.json-formatter-open > .json-formatter-toggler-link .json-formatter-toggler:after {\\n  transform: rotate(90deg);\\n}\\n.json-formatter-dark.json-formatter-row.json-formatter-open > .json-formatter-children:after {\\n  display: inline-block;\\n}\\n.json-formatter-dark.json-formatter-row.json-formatter-open > a > .json-formatter-preview-text {\\n  display: none;\\n}\\n.json-formatter-dark.json-formatter-row.json-formatter-open.json-formatter-empty:after {\\n  display: block;\\n}\\n\");\n    },\n    function(Bokeh) {\n      inject_raw_css(\".codehilite .hll { background-color: #ffffcc }\\n.codehilite  { background: #f8f8f8; }\\n.codehilite .c { color: #408080; font-style: italic } /* Comment */\\n.codehilite .err { border: 1px solid #FF0000 } /* Error */\\n.codehilite .k { color: #008000; font-weight: bold } /* Keyword */\\n.codehilite .o { color: #666666 } /* Operator */\\n.codehilite .ch { color: #408080; font-style: italic } /* Comment.Hashbang */\\n.codehilite .cm { color: #408080; font-style: italic } /* Comment.Multiline */\\n.codehilite .cp { color: #BC7A00 } /* Comment.Preproc */\\n.codehilite .cpf { color: #408080; font-style: italic } /* Comment.PreprocFile */\\n.codehilite .c1 { color: #408080; font-style: italic } /* Comment.Single */\\n.codehilite .cs { color: #408080; font-style: italic } /* Comment.Special */\\n.codehilite .gd { color: #A00000 } /* Generic.Deleted */\\n.codehilite .ge { font-style: italic } /* Generic.Emph */\\n.codehilite .gr { color: #FF0000 } /* Generic.Error */\\n.codehilite .gh { color: #000080; font-weight: bold } /* Generic.Heading */\\n.codehilite .gi { color: #00A000 } /* Generic.Inserted */\\n.codehilite .go { color: #888888 } /* Generic.Output */\\n.codehilite .gp { color: #000080; font-weight: bold } /* Generic.Prompt */\\n.codehilite .gs { font-weight: bold } /* Generic.Strong */\\n.codehilite .gu { color: #800080; font-weight: bold } /* Generic.Subheading */\\n.codehilite .gt { color: #0044DD } /* Generic.Traceback */\\n.codehilite .kc { color: #008000; font-weight: bold } /* Keyword.Constant */\\n.codehilite .kd { color: #008000; font-weight: bold } /* Keyword.Declaration */\\n.codehilite .kn { color: #008000; font-weight: bold } /* Keyword.Namespace */\\n.codehilite .kp { color: #008000 } /* Keyword.Pseudo */\\n.codehilite .kr { color: #008000; font-weight: bold } /* Keyword.Reserved */\\n.codehilite .kt { color: #B00040 } /* Keyword.Type */\\n.codehilite .m { color: #666666 } /* Literal.Number */\\n.codehilite .s { color: #BA2121 } /* Literal.String */\\n.codehilite .na { color: #7D9029 } /* Name.Attribute */\\n.codehilite .nb { color: #008000 } /* Name.Builtin */\\n.codehilite .nc { color: #0000FF; font-weight: bold } /* Name.Class */\\n.codehilite .no { color: #880000 } /* Name.Constant */\\n.codehilite .nd { color: #AA22FF } /* Name.Decorator */\\n.codehilite .ni { color: #999999; font-weight: bold } /* Name.Entity */\\n.codehilite .ne { color: #D2413A; font-weight: bold } /* Name.Exception */\\n.codehilite .nf { color: #0000FF } /* Name.Function */\\n.codehilite .nl { color: #A0A000 } /* Name.Label */\\n.codehilite .nn { color: #0000FF; font-weight: bold } /* Name.Namespace */\\n.codehilite .nt { color: #008000; font-weight: bold } /* Name.Tag */\\n.codehilite .nv { color: #19177C } /* Name.Variable */\\n.codehilite .ow { color: #AA22FF; font-weight: bold } /* Operator.Word */\\n.codehilite .w { color: #bbbbbb } /* Text.Whitespace */\\n.codehilite .mb { color: #666666 } /* Literal.Number.Bin */\\n.codehilite .mf { color: #666666 } /* Literal.Number.Float */\\n.codehilite .mh { color: #666666 } /* Literal.Number.Hex */\\n.codehilite .mi { color: #666666 } /* Literal.Number.Integer */\\n.codehilite .mo { color: #666666 } /* Literal.Number.Oct */\\n.codehilite .sa { color: #BA2121 } /* Literal.String.Affix */\\n.codehilite .sb { color: #BA2121 } /* Literal.String.Backtick */\\n.codehilite .sc { color: #BA2121 } /* Literal.String.Char */\\n.codehilite .dl { color: #BA2121 } /* Literal.String.Delimiter */\\n.codehilite .sd { color: #BA2121; font-style: italic } /* Literal.String.Doc */\\n.codehilite .s2 { color: #BA2121 } /* Literal.String.Double */\\n.codehilite .se { color: #BB6622; font-weight: bold } /* Literal.String.Escape */\\n.codehilite .sh { color: #BA2121 } /* Literal.String.Heredoc */\\n.codehilite .si { color: #BB6688; font-weight: bold } /* Literal.String.Interpol */\\n.codehilite .sx { color: #008000 } /* Literal.String.Other */\\n.codehilite .sr { color: #BB6688 } /* Literal.String.Regex */\\n.codehilite .s1 { color: #BA2121 } /* Literal.String.Single */\\n.codehilite .ss { color: #19177C } /* Literal.String.Symbol */\\n.codehilite .bp { color: #008000 } /* Name.Builtin.Pseudo */\\n.codehilite .fm { color: #0000FF } /* Name.Function.Magic */\\n.codehilite .vc { color: #19177C } /* Name.Variable.Class */\\n.codehilite .vg { color: #19177C } /* Name.Variable.Global */\\n.codehilite .vi { color: #19177C } /* Name.Variable.Instance */\\n.codehilite .vm { color: #19177C } /* Name.Variable.Magic */\\n.codehilite .il { color: #666666 } /* Literal.Number.Integer.Long */\\n\\n.markdown h1 { margin-block-start: 0.34em }\\n.markdown h2 { margin-block-start: 0.42em }\\n.markdown h3 { margin-block-start: 0.5em }\\n.markdown h4 { margin-block-start: 0.67em }\\n.markdown h5 { margin-block-start: 0.84em }\\n.markdown h6 { margin-block-start: 1.17em }\\n.markdown ul { padding-inline-start: 2em }\\n.markdown ol { padding-inline-start: 2em }\\n.markdown strong { font-weight: 600 }\\n.markdown a { color: -webkit-link }\\n.markdown a { color: -moz-hyperlinkText }\\n\");\n    },\n    function(Bokeh) {\n      inject_raw_css(\".widget-box {\\n\\tmin-height: 20px;\\n\\tbackground-color: #f5f5f5;\\n\\tborder: 1px solid #e3e3e3 !important;\\n\\tborder-radius: 4px;\\n\\t-webkit-box-shadow: inset 0 1px 1px rgba(0,0,0,.05);\\n\\tbox-shadow: inset 0 1px 1px rgba(0,0,0,.05);\\n\\toverflow-x: hidden;\\n\\toverflow-y: hidden;\\n}\\n\\n.scrollable {\\n  overflow: scroll;\\n}\\n\\nprogress {\\n\\tappearance: none;\\n\\t-moz-appearance: none;\\n\\t-webkit-appearance: none;\\n\\n\\tborder: none;\\n\\theight: 20px;\\n\\tbackground-color: whiteSmoke;\\n\\tborder-radius: 3px;\\n\\tbox-shadow: 0 2px 3px rgba(0,0,0,.5) inset;\\n\\tcolor: royalblue;\\n\\tposition: relative;\\n\\tmargin: 0 0 1.5em;\\n}\\n\\nprogress[value]::-webkit-progress-bar {\\n\\tbackground-color: whiteSmoke;\\n\\tborder-radius: 3px;\\n\\tbox-shadow: 0 2px 3px rgba(0,0,0,.5) inset;\\n}\\n\\nprogress[value]::-webkit-progress-value {\\n\\tposition: relative;\\n\\n\\tbackground-size: 35px 20px, 100% 100%, 100% 100%;\\n\\tborder-radius:3px;\\n}\\n\\nprogress.active:not([value])::before {\\n\\tbackground-position: 10%;\\n\\tanimation-name: stripes;\\n\\tanimation-duration: 3s;\\n\\tanimation-timing-function: linear;\\n\\tanimation-iteration-count: infinite;\\n}\\n\\nprogress[value]::-moz-progress-bar {\\n\\tbackground-size: 35px 20px, 100% 100%, 100% 100%;\\n\\tborder-radius:3px;\\n}\\n\\nprogress:not([value])::-moz-progress-bar {\\n\\tborder-radius:3px;\\n\\tbackground:\\n\\tlinear-gradient(-45deg, transparent 33%, rgba(0, 0, 0, 0.2) 33%, rgba(0, 0, 0, 0.2) 66%, transparent 66%) left/2.5em 1.5em;\\n\\n}\\n\\nprogress.active:not([value])::-moz-progress-bar {\\n\\tbackground-position: 10%;\\n\\tanimation-name: stripes;\\n\\tanimation-duration: 3s;\\n\\tanimation-timing-function: linear;\\n\\tanimation-iteration-count: infinite;\\n}\\n\\nprogress.active:not([value])::-webkit-progress-bar {\\n\\tbackground-position: 10%;\\n\\tanimation-name: stripes;\\n\\tanimation-duration: 3s;\\n\\tanimation-timing-function: linear;\\n\\tanimation-iteration-count: infinite;\\n}\\n\\nprogress.primary[value]::-webkit-progress-value { background-color: #007bff; }\\nprogress.primary:not([value])::before { background-color: #007bff; }\\nprogress.primary:not([value])::-webkit-progress-bar { background-color: #007bff; }\\nprogress.primary::-moz-progress-bar { background-color: #007bff; }\\n\\nprogress.secondary[value]::-webkit-progress-value { background-color: #6c757d; }\\nprogress.secondary:not([value])::before { background-color: #6c757d; }\\nprogress.secondary:not([value])::-webkit-progress-bar { background-color: #6c757d; }\\nprogress.secondary::-moz-progress-bar { background-color: #6c757d; }\\n\\nprogress.success[value]::-webkit-progress-value { background-color: #28a745; }\\nprogress.success:not([value])::before { background-color: #28a745; }\\nprogress.success:not([value])::-webkit-progress-bar { background-color: #28a745; }\\nprogress.success::-moz-progress-bar { background-color: #28a745; }\\n\\nprogress.danger[value]::-webkit-progress-value { background-color: #dc3545; }\\nprogress.danger:not([value])::before { background-color: #dc3545; }\\nprogress.danger:not([value])::-webkit-progress-bar { background-color: #dc3545; }\\nprogress.danger::-moz-progress-bar { background-color: #dc3545; }\\n\\nprogress.warning[value]::-webkit-progress-value { background-color: #ffc107; }\\nprogress.warning:not([value])::before { background-color: #ffc107; }\\nprogress.warning:not([value])::-webkit-progress-bar { background-color: #ffc107; }\\nprogress.warning::-moz-progress-bar { background-color: #ffc107; }\\n\\nprogress.info[value]::-webkit-progress-value { background-color: #17a2b8; }\\nprogress.info:not([value])::before { background-color: #17a2b8; }\\nprogress.info:not([value])::-webkit-progress-bar { background-color: #17a2b8; }\\nprogress.info::-moz-progress-bar { background-color: #17a2b8; }\\n\\nprogress.light[value]::-webkit-progress-value { background-color: #f8f9fa; }\\nprogress.light:not([value])::before { background-color: #f8f9fa; }\\nprogress.light:not([value])::-webkit-progress-bar { background-color: #f8f9fa; }\\nprogress.light::-moz-progress-bar { background-color: #f8f9fa; }\\n\\nprogress.dark[value]::-webkit-progress-value { background-color: #343a40; }\\nprogress.dark:not([value])::-webkit-progress-bar { background-color: #343a40; }\\nprogress.dark:not([value])::before { background-color: #343a40; }\\nprogress.dark::-moz-progress-bar { background-color: #343a40; }\\n\\nprogress:not([value])::-webkit-progress-bar {\\n\\tborder-radius: 3px;\\n\\tbackground:\\n\\tlinear-gradient(-45deg, transparent 33%, rgba(0, 0, 0, 0.2) 33%, rgba(0, 0, 0, 0.2) 66%, transparent 66%) left/2.5em 1.5em;\\n}\\nprogress:not([value])::before {\\n\\tcontent:\\\" \\\";\\n\\tposition:absolute;\\n\\theight: 20px;\\n\\ttop:0;\\n\\tleft:0;\\n\\tright:0;\\n\\tbottom:0;\\n\\tborder-radius: 3px;\\n\\tbackground:\\n\\tlinear-gradient(-45deg, transparent 33%, rgba(0, 0, 0, 0.2) 33%, rgba(0, 0, 0, 0.2) 66%, transparent 66%) left/2.5em 1.5em;\\n}\\n\\n@keyframes stripes {\\n  from {background-position: 0%}\\n  to {background-position: 100%}\\n}\");\n    },\n    function(Bokeh) {\n      Bokeh.set_log_level(\"info\");\n    },\n    function(Bokeh) {\n    \n    \n    }\n  ];\n\n  function run_inline_js() {\n    \n    if (root.Bokeh !== undefined || force === true) {\n      \n    for (var i = 0; i < inline_js.length; i++) {\n      inline_js[i].call(root, root.Bokeh);\n    }\n    if (force === true) {\n        display_loaded();\n      }} else if (Date.now() < root._bokeh_timeout) {\n      setTimeout(run_inline_js, 100);\n    } else if (!root._bokeh_failed_load) {\n      console.log(\"Bokeh: BokehJS failed to load within specified timeout.\");\n      root._bokeh_failed_load = true;\n    } else if (force !== true) {\n      var cell = $(document.getElementById(\"1040\")).parents('.cell').data().cell;\n      cell.output_area.append_execute_result(NB_LOAD_WARNING)\n    }\n\n  }\n\n  if (root._bokeh_is_loading === 0) {\n    console.debug(\"Bokeh: BokehJS loaded, going straight to plotting\");\n    run_inline_js();\n  } else {\n    load_libs(css_urls, js_urls, function() {\n      console.debug(\"Bokeh: BokehJS plotting callback run at\", now());\n      run_inline_js();\n    });\n  }\n}(window));"
     },
     "metadata": {},
     "output_type": "display_data"
    },
    {
     "data": {
      "text/html": [
       "\n",
       "\n",
       "\n",
       "\n",
       "\n",
       "\n",
       "  <div class=\"bk-root\" id=\"19a46953-bc44-4e44-8207-fe83fa4f8aa7\" data-root-id=\"1002\"></div>\n"
      ]
     },
     "metadata": {},
     "output_type": "display_data"
    },
    {
     "data": {
      "application/javascript": [
       "(function(root) {\n",
       "  function embed_document(root) {\n",
       "    \n",
       "  var docs_json = {\"fb3ed92e-9f1a-44ba-8dce-52a846fc4f2d\":{\"roots\":{\"references\":[{\"attributes\":{\"background_fill_color\":\"white\",\"below\":[{\"id\":\"1011\"}],\"center\":[{\"id\":\"1014\"},{\"id\":\"1018\"}],\"left\":[{\"id\":\"1015\"}],\"plot_height\":800,\"plot_width\":800,\"renderers\":[{\"id\":\"1038\"}],\"title\":{\"id\":\"1041\"},\"toolbar\":{\"id\":\"1027\"},\"x_range\":{\"id\":\"1003\"},\"x_scale\":{\"id\":\"1007\"},\"y_range\":{\"id\":\"1005\"},\"y_scale\":{\"id\":\"1009\"}},\"id\":\"1002\",\"subtype\":\"Figure\",\"type\":\"Plot\"},{\"attributes\":{},\"id\":\"1003\",\"type\":\"DataRange1d\"},{\"attributes\":{\"source\":{\"id\":\"1001\"}},\"id\":\"1039\",\"type\":\"CDSView\"},{\"attributes\":{},\"id\":\"1024\",\"type\":\"HelpTool\"},{\"attributes\":{},\"id\":\"1016\",\"type\":\"BasicTicker\"},{\"attributes\":{},\"id\":\"1019\",\"type\":\"PanTool\"},{\"attributes\":{\"formatter\":{\"id\":\"1045\"},\"ticker\":{\"id\":\"1012\"},\"visible\":false},\"id\":\"1011\",\"type\":\"LinearAxis\"},{\"attributes\":{\"overlay\":{\"id\":\"1025\"}},\"id\":\"1021\",\"type\":\"BoxZoomTool\"},{\"attributes\":{\"formatter\":{\"id\":\"1043\"},\"ticker\":{\"id\":\"1016\"},\"visible\":false},\"id\":\"1015\",\"type\":\"LinearAxis\"},{\"attributes\":{\"text\":\"\"},\"id\":\"1041\",\"type\":\"Title\"},{\"attributes\":{},\"id\":\"1047\",\"type\":\"UnionRenderers\"},{\"attributes\":{},\"id\":\"1048\",\"type\":\"Selection\"},{\"attributes\":{},\"id\":\"1020\",\"type\":\"WheelZoomTool\"},{\"attributes\":{\"fill_alpha\":{\"field\":\"alpha\"},\"fill_color\":{\"field\":\"color\"},\"line_alpha\":{\"field\":\"alpha\"},\"line_color\":{\"field\":\"color\"},\"size\":{\"units\":\"screen\",\"value\":5},\"x\":{\"field\":\"x\"},\"y\":{\"field\":\"y\"}},\"id\":\"1036\",\"type\":\"Circle\"},{\"attributes\":{\"data_source\":{\"id\":\"1001\"},\"glyph\":{\"id\":\"1036\"},\"hover_glyph\":null,\"muted_glyph\":null,\"nonselection_glyph\":{\"id\":\"1037\"},\"selection_glyph\":null,\"view\":{\"id\":\"1039\"}},\"id\":\"1038\",\"type\":\"GlyphRenderer\"},{\"attributes\":{},\"id\":\"1023\",\"type\":\"ResetTool\"},{\"attributes\":{\"active_drag\":\"auto\",\"active_inspect\":\"auto\",\"active_multi\":null,\"active_scroll\":\"auto\",\"active_tap\":\"auto\",\"tools\":[{\"id\":\"1019\"},{\"id\":\"1020\"},{\"id\":\"1021\"},{\"id\":\"1022\"},{\"id\":\"1023\"},{\"id\":\"1024\"},{\"id\":\"1026\"}]},\"id\":\"1027\",\"type\":\"Toolbar\"},{\"attributes\":{\"callback\":null,\"tooltips\":[[\"index\",\"@index\"],[\"label\",\"@label\"],[\"item\",\"@item\"]]},\"id\":\"1026\",\"type\":\"HoverTool\"},{\"attributes\":{},\"id\":\"1009\",\"type\":\"LinearScale\"},{\"attributes\":{\"fill_alpha\":{\"value\":0.1},\"fill_color\":{\"field\":\"color\"},\"line_alpha\":{\"value\":0.1},\"line_color\":{\"field\":\"color\"},\"size\":{\"units\":\"screen\",\"value\":5},\"x\":{\"field\":\"x\"},\"y\":{\"field\":\"y\"}},\"id\":\"1037\",\"type\":\"Circle\"},{\"attributes\":{},\"id\":\"1043\",\"type\":\"BasicTickFormatter\"},{\"attributes\":{},\"id\":\"1045\",\"type\":\"BasicTickFormatter\"},{\"attributes\":{\"bottom_units\":\"screen\",\"fill_alpha\":0.5,\"fill_color\":\"lightgrey\",\"left_units\":\"screen\",\"level\":\"overlay\",\"line_alpha\":1.0,\"line_color\":\"black\",\"line_dash\":[4,4],\"line_width\":2,\"right_units\":\"screen\",\"top_units\":\"screen\"},\"id\":\"1025\",\"type\":\"BoxAnnotation\"},{\"attributes\":{\"axis\":{\"id\":\"1011\"},\"ticker\":null,\"visible\":false},\"id\":\"1014\",\"type\":\"Grid\"},{\"attributes\":{\"axis\":{\"id\":\"1015\"},\"dimension\":1,\"ticker\":null,\"visible\":false},\"id\":\"1018\",\"type\":\"Grid\"},{\"attributes\":{},\"id\":\"1007\",\"type\":\"LinearScale\"},{\"attributes\":{},\"id\":\"1022\",\"type\":\"SaveTool\"},{\"attributes\":{},\"id\":\"1012\",\"type\":\"BasicTicker\"},{\"attributes\":{},\"id\":\"1005\",\"type\":\"DataRange1d\"},{\"attributes\":{\"data\":{\"alpha\":[1,1,1,1,1,1,1,1,1,1,1,1,1,1,1,1,1,1,1,1,1,1,1,1,1,1,1,1,1,1,1,1,1,1,1,1,1,1,1,1,1,1,1,1,1,1,1,1,1,1,1,1,1,1,1,1,1,1,1,1,1,1,1,1,1,1,1,1,1,1,1,1,1,1,1,1,1,1,1,1,1,1,1,1,1,1,1,1,1,1,1,1,1,1,1,1,1,1,1,1,1,1,1,1,1,1,1,1,1,1,1,1,1,1,1,1,1,1,1,1,1,1,1,1,1,1,1,1,1,1,1,1,1,1,1,1,1,1,1,1,1,1,1,1,1,1,1,1,1,1,1,1,1,1,1,1,1,1,1,1,1,1,1,1,1,1,1,1,1,1,1,1,1,1,1,1,1,1,1,1,1,1,1,1,1,1,1,1,1,1,1,1,1,1,1,1,1,1,1,1,1,1,1,1,1,1,1,1,1,1,1,1,1,1,1,1,1,1,1,1,1,1,1,1,1,1,1,1,1,1,1,1,1,1,1,1,1,1,1,1,1,1,1,1,1,1,1,1,1,1,1,1,1,1,1,1,1,1,1,1,1,1,1,1,1,1,1,1,1,1,1,1,1,1,1,1,1,1,1,1,1,1,1,1,1,1,1,1,1,1,1,1,1,1,1,1,1,1,1,1,1,1,1,1,1,1,1,1,1,1,1,1,1,1,1,1,1,1,1,1,1,1,1,1,1,1,1,1,1,1,1,1,1,1,1,1,1,1,1,1,1,1,1,1,1,1,1,1,1,1,1,1,1,1,1,1,1,1,1,1,1,1,1,1,1,1,1,1,1,1,1,1,1,1,1,1,1,1,1,1,1,1,1,1,1,1,1,1,1,1,1,1,1,1,1,1,1,1,1,1,1,1,1,1,1,1,1,1,1,1,1,1,1,1,1,1,1,1,1,1,1,1,1,1,1,1,1,1,1,1,1,1,1,1,1,1,1,1,1,1,1,1,1,1,1,1,1,1,1,1,1,1,1,1,1,1,1,1,1,1,1,1,1,1,1,1,1,1,1,1,1,1,1,1,1,1,1,1,1,1,1,1,1,1,1,1,1,1,1,1,1,1,1,1,1,1,1,1,1,1,1,1,1,1,1,1,1,1,1,1,1,1,1,1,1,1,1,1,1,1,1,1,1,1,1,1,1,1,1,1,1,1,1,1,1,1,1,1,1,1,1,1,1,1,1,1,1,1,1,1,1,1,1,1,1,1,1,1,1,1,1,1,1,1,1,1,1,1,1,1,1,1,1,1,1,1,1,1,1,1,1,1,1,1,1,1,1,1,1,1,1,1,1,1,1,1,1,1,1,1,1,1,1,1,1,1,1,1,1,1,1,1,1,1,1,1,1,1,1,1,1,1,1,1,1,1,1,1,1,1,1,1,1,1,1,1,1,1,1,1,1,1,1,1,1,1,1,1,1,1,1,1,1,1,1,1,1,1,1,1,1,1,1,1,1,1,1,1,1,1,1,1,1,1,1,1,1,1,1,1,1,1,1,1,1,1,1,1,1,1,1,1,1,1,1,1,1,1,1,1,1,1,1,1,1,1,1,1,1,1,1,1,1,1,1,1,1,1,1,1,1,1,1,1,1,1,1,1,1,1,1,1,1,1,1,1,1,1,1,1,1,1,1,1,1,1,1,1,1,1,1,1,1,1,1,1,1,1,1,1,1,1,1,1,1,1,1,1,1,1,1,1,1,1,1,1,1,1,1,1,1,1,1,1,1,1,1,1,1,1,1,1,1,1,1,1,1,1,1,1,1,1,1,1,1,1,1,1,1,1,1,1,1,1,1,1,1,1,1,1,1,1,1,1,1,1,1,1,1,1,1,1,1,1,1,1,1,1,1,1,1,1,1,1,1,1,1,1,1,1,1,1,1,1,1,1,1,1,1,1,1,1,1,1,1,1,1,1,1,1,1,1,1,1,1,1,1,1,1,1,1,1,1,1,1,1,1,1,1,1,1,1,1,1,1,1,1,1,1,1,1,1,1,1,1,1,1,1,1,1,1,1,1,1,1,1,1,1,1,1,1,1,1,1,1,1,1,1,1,1,1,1,1,1,1,1,1,1,1,1,1,1,1,1,1,1,1,1,1,1,1,1,1,1,1,1,1,1,1,1,1,1,1,1,1,1,1,1,1,1,1,1,1,1,1,1,1,1,1,1,1,1,1,1,1,1,1,1,1,1,1,1,1,1,1,1,1,1,1,1,1,1,1,1,1,1,1,1,1,1,1,1,1,1,1,1,1,1,1,1,1,1,1,1,1,1,1,1,1,1,1,1,1,1,1,1,1,1,1,1,1,1,1,1,1,1,1,1,1,1,1,1,1,1,1,1,1,1,1,1,1,1,1,1,1,1,1,1,1,1,1,1,1,1,1,1,1,1,1,1,1,1,1,1,1,1,1,1,1,1,1,1,1,1,1,1,1,1,1,1,1,1,1,1,1,1,1,1,1,1,1,1,1,1,1,1,1,1,1,1,1,1,1,1,1,1,1,1,1,1,1,1,1,1,1,1,1,1,1,1,1,1,1,1,1,1,1,1,1,1,1,1,1,1,1,1,1,1,1,1,1,1,1,1,1,1,1,1,1,1,1,1,1,1,1,1,1,1,1,1,1,1,1,1,1,1,1,1,1,1,1,1,1,1,1,1,1,1,1,1,1,1,1,1,1,1,1,1,1,1,1,1,1,1,1,1,1,1,1,1,1,1,1,1,1,1,1,1,1,1,1,1,1,1,1,1,1,1,1,1,1,1,1,1,1,1,1,1,1,1,1,1,1,1,1,1,1,1,1,1,1,1,1,1,1,1,1,1,1,1,1,1,1,1,1,1,1,1,1,1,1,1,1,1,1,1,1,1,1,1,1,1,1,1,1,1,1,1,1,1,1,1,1,1,1,1,1,1,1,1,1,1,1,1,1,1,1,1,1],\"color\":[\"#f47044\",\"#f47044\",\"#fffab6\",\"#f47044\",\"#f47044\",\"#fed683\",\"#f47044\",\"#f47044\",\"#f47044\",\"#fed683\",\"#fdb365\",\"#c6e89f\",\"#69c3a5\",\"#f47044\",\"#e9f69d\",\"#f47044\",\"#f47044\",\"#f47044\",\"#fffab6\",\"#f47044\",\"#c32a4b\",\"#f47044\",\"#f47044\",\"#f47044\",\"#f47044\",\"#f47044\",\"#f47044\",\"#f47044\",\"#f47044\",\"#f47044\",\"#f47044\",\"#f47044\",\"#fed683\",\"#9e0142\",\"#f47044\",\"#fee491\",\"#f47044\",\"#99d6a4\",\"#e1504b\",\"#f47044\",\"#f47044\",\"#f47044\",\"#f47044\",\"#fed683\",\"#f47044\",\"#69c3a5\",\"#fed683\",\"#f47044\",\"#b1dfa3\",\"#f47044\",\"#f47044\",\"#f47044\",\"#fee491\",\"#f47044\",\"#fed683\",\"#f47044\",\"#f47044\",\"#69c3a5\",\"#b1dfa3\",\"#58b2ac\",\"#fee491\",\"#f47044\",\"#f47044\",\"#f47044\",\"#f47044\",\"#f47044\",\"#f47044\",\"#81cda5\",\"#f47044\",\"#f47044\",\"#f47044\",\"#58b2ac\",\"#f47044\",\"#9e0142\",\"#f47044\",\"#f47044\",\"#f47044\",\"#58b2ac\",\"#f47044\",\"#f47044\",\"#f47044\",\"#e1504b\",\"#f47044\",\"#f47044\",\"#eb6046\",\"#f47044\",\"#58b2ac\",\"#f47044\",\"#f47044\",\"#f47044\",\"#f47044\",\"#f47044\",\"#f47044\",\"#fed683\",\"#f47044\",\"#f47044\",\"#58b2ac\",\"#f47044\",\"#f47044\",\"#d63f4f\",\"#5061aa\",\"#58b2ac\",\"#f47044\",\"#fbfdb8\",\"#9e0142\",\"#3389bd\",\"#f47044\",\"#fed683\",\"#fed683\",\"#58b2ac\",\"#f47044\",\"#e9f69d\",\"#69c3a5\",\"#f47044\",\"#f47044\",\"#f47044\",\"#d63f4f\",\"#f47044\",\"#f47044\",\"#af1446\",\"#e1504b\",\"#fdb365\",\"#58b2ac\",\"#f47044\",\"#f47044\",\"#f47044\",\"#f47044\",\"#f47044\",\"#b1dfa3\",\"#f47044\",\"#f47044\",\"#b1dfa3\",\"#fdb365\",\"#58b2ac\",\"#b1dfa3\",\"#f47044\",\"#b1dfa3\",\"#f47044\",\"#f47044\",\"#f47044\",\"#f47044\",\"#f47044\",\"#f47044\",\"#f47044\",\"#fbfdb8\",\"#fffab6\",\"#f47044\",\"#99d6a4\",\"#fee491\",\"#b1dfa3\",\"#f47044\",\"#f47044\",\"#f47044\",\"#fbfdb8\",\"#fed683\",\"#f47044\",\"#fed683\",\"#f47044\",\"#f47044\",\"#99d6a4\",\"#fdc574\",\"#3389bd\",\"#81cda5\",\"#f47044\",\"#f47044\",\"#f47044\",\"#f47044\",\"#fbfdb8\",\"#f47044\",\"#fee491\",\"#fdc574\",\"#99d6a4\",\"#f47044\",\"#f47044\",\"#fed683\",\"#f47044\",\"#f47044\",\"#af1446\",\"#f47044\",\"#af1446\",\"#58b2ac\",\"#58b2ac\",\"#f47044\",\"#f47044\",\"#fed683\",\"#f47044\",\"#af1446\",\"#f47044\",\"#f47044\",\"#f47044\",\"#fb9d59\",\"#fed683\",\"#f47044\",\"#f47044\",\"#af1446\",\"#e1504b\",\"#f47044\",\"#fed683\",\"#f47044\",\"#f47044\",\"#58b2ac\",\"#f47044\",\"#58b2ac\",\"#f47044\",\"#f47044\",\"#f47044\",\"#fbfdb8\",\"#f47044\",\"#f47044\",\"#81cda5\",\"#fdb365\",\"#f47044\",\"#fee491\",\"#fdb365\",\"#fbfdb8\",\"#b1dfa3\",\"#f47044\",\"#fee491\",\"#9e0142\",\"#e9f69d\",\"#f47044\",\"#f47044\",\"#f47044\",\"#f47044\",\"#f47044\",\"#fbfdb8\",\"#f47044\",\"#f47044\",\"#f47044\",\"#f47044\",\"#f47044\",\"#f47044\",\"#f47044\",\"#f47044\",\"#fed683\",\"#fed683\",\"#58b2ac\",\"#f47044\",\"#f47044\",\"#f47044\",\"#5e4fa2\",\"#f47044\",\"#f47044\",\"#f47044\",\"#b1dfa3\",\"#f47044\",\"#f47044\",\"#af1446\",\"#f47044\",\"#f47044\",\"#af1446\",\"#f47044\",\"#f47044\",\"#f47044\",\"#fffab6\",\"#f47044\",\"#e9f69d\",\"#69c3a5\",\"#f47044\",\"#f47044\",\"#f47044\",\"#f47044\",\"#f47044\",\"#f47044\",\"#f47044\",\"#e1504b\",\"#f47044\",\"#f47044\",\"#e1504b\",\"#f47044\",\"#f47044\",\"#feefa3\",\"#69c3a5\",\"#af1446\",\"#fed683\",\"#f47044\",\"#af1446\",\"#fed683\",\"#f8864f\",\"#f47044\",\"#99d6a4\",\"#f47044\",\"#af1446\",\"#fffab6\",\"#daf09a\",\"#f47044\",\"#f47044\",\"#f47044\",\"#f47044\",\"#f47044\",\"#99d6a4\",\"#58b2ac\",\"#f47044\",\"#58b2ac\",\"#fee491\",\"#c6e89f\",\"#e9f69d\",\"#f47044\",\"#f47044\",\"#af1446\",\"#f47044\",\"#e9f69d\",\"#f47044\",\"#f47044\",\"#f47044\",\"#f47044\",\"#b1dfa3\",\"#f47044\",\"#fed683\",\"#fed683\",\"#f47044\",\"#d63f4f\",\"#f47044\",\"#f47044\",\"#fed683\",\"#fed683\",\"#f47044\",\"#9e0142\",\"#f47044\",\"#f47044\",\"#b1dfa3\",\"#f47044\",\"#f47044\",\"#f47044\",\"#b1dfa3\",\"#f47044\",\"#fed683\",\"#3389bd\",\"#fed683\",\"#af1446\",\"#fed683\",\"#e9f69d\",\"#d63f4f\",\"#fee491\",\"#58b2ac\",\"#fee491\",\"#f47044\",\"#fee491\",\"#f47044\",\"#daf09a\",\"#e9f69d\",\"#f47044\",\"#b1dfa3\",\"#fee491\",\"#fee491\",\"#f47044\",\"#f47044\",\"#f47044\",\"#fdb365\",\"#58b2ac\",\"#fed683\",\"#99d6a4\",\"#fed683\",\"#99d6a4\",\"#f47044\",\"#b1dfa3\",\"#af1446\",\"#f47044\",\"#f47044\",\"#f47044\",\"#fdb365\",\"#f47044\",\"#f47044\",\"#f47044\",\"#f47044\",\"#f47044\",\"#f47044\",\"#e9f69d\",\"#b1dfa3\",\"#99d6a4\",\"#fee491\",\"#f47044\",\"#f47044\",\"#f47044\",\"#fed683\",\"#eb6046\",\"#f47044\",\"#f47044\",\"#99d6a4\",\"#fed683\",\"#b1dfa3\",\"#3389bd\",\"#fffab6\",\"#99d6a4\",\"#fee491\",\"#f47044\",\"#f47044\",\"#fed683\",\"#e9f69d\",\"#58b2ac\",\"#f47044\",\"#f47044\",\"#f47044\",\"#69c3a5\",\"#fdb365\",\"#f8864f\",\"#fb9d59\",\"#f47044\",\"#f47044\",\"#b1dfa3\",\"#f47044\",\"#af1446\",\"#c6e89f\",\"#f47044\",\"#9e0142\",\"#69c3a5\",\"#fee491\",\"#f47044\",\"#f47044\",\"#69c3a5\",\"#daf09a\",\"#f47044\",\"#fed683\",\"#f47044\",\"#f47044\",\"#fee491\",\"#f47044\",\"#e1504b\",\"#b1dfa3\",\"#b1dfa3\",\"#69c3a5\",\"#f47044\",\"#f47044\",\"#e9f69d\",\"#fed683\",\"#fbfdb8\",\"#f47044\",\"#9e0142\",\"#fed683\",\"#5061aa\",\"#fed683\",\"#f47044\",\"#fee491\",\"#f47044\",\"#fb9d59\",\"#f47044\",\"#99d6a4\",\"#f47044\",\"#69c3a5\",\"#fffab6\",\"#fee491\",\"#58b2ac\",\"#69c3a5\",\"#58b2ac\",\"#af1446\",\"#f47044\",\"#fee491\",\"#b1dfa3\",\"#f47044\",\"#f2faaa\",\"#f47044\",\"#f47044\",\"#f47044\",\"#f47044\",\"#f47044\",\"#fdc574\",\"#f47044\",\"#f47044\",\"#4175b4\",\"#f47044\",\"#58b2ac\",\"#f47044\",\"#69c3a5\",\"#fbfdb8\",\"#f47044\",\"#af1446\",\"#f47044\",\"#fed683\",\"#fee491\",\"#3389bd\",\"#f47044\",\"#f47044\",\"#f47044\",\"#f47044\",\"#f47044\",\"#d63f4f\",\"#f47044\",\"#fed683\",\"#f47044\",\"#f47044\",\"#fed683\",\"#f47044\",\"#fee491\",\"#f47044\",\"#99d6a4\",\"#f47044\",\"#99d6a4\",\"#58b2ac\",\"#f47044\",\"#fed683\",\"#f47044\",\"#f47044\",\"#fed683\",\"#e1504b\",\"#fbfdb8\",\"#f47044\",\"#58b2ac\",\"#f47044\",\"#fdb365\",\"#fed683\",\"#fdc574\",\"#e9f69d\",\"#f47044\",\"#f47044\",\"#fee491\",\"#af1446\",\"#f47044\",\"#f47044\",\"#f47044\",\"#f47044\",\"#f47044\",\"#fed683\",\"#f47044\",\"#fdb365\",\"#eb6046\",\"#f47044\",\"#f47044\",\"#f47044\",\"#f47044\",\"#b1dfa3\",\"#f47044\",\"#f47044\",\"#f47044\",\"#81cda5\",\"#fee491\",\"#f47044\",\"#fee491\",\"#f47044\",\"#fed683\",\"#f47044\",\"#f47044\",\"#f47044\",\"#f8864f\",\"#fffab6\",\"#f47044\",\"#f47044\",\"#f47044\",\"#f47044\",\"#f47044\",\"#f47044\",\"#fdb365\",\"#fee491\",\"#fee491\",\"#f47044\",\"#f47044\",\"#f47044\",\"#f47044\",\"#e9f69d\",\"#fee491\",\"#af1446\",\"#f47044\",\"#f47044\",\"#f47044\",\"#5061aa\",\"#fed683\",\"#f47044\",\"#f47044\",\"#fed683\",\"#f47044\",\"#99d6a4\",\"#f2faaa\",\"#f47044\",\"#f47044\",\"#fed683\",\"#af1446\",\"#f47044\",\"#f47044\",\"#af1446\",\"#f47044\",\"#f47044\",\"#f47044\",\"#e1504b\",\"#58b2ac\",\"#f47044\",\"#f47044\",\"#f47044\",\"#e1504b\",\"#f2faaa\",\"#f47044\",\"#f47044\",\"#f47044\",\"#d63f4f\",\"#f47044\",\"#58b2ac\",\"#f47044\",\"#f47044\",\"#f47044\",\"#f47044\",\"#daf09a\",\"#9e0142\",\"#fdb365\",\"#f47044\",\"#f47044\",\"#f47044\",\"#af1446\",\"#99d6a4\",\"#f47044\",\"#f47044\",\"#fdb365\",\"#fdc574\",\"#58b2ac\",\"#f47044\",\"#f47044\",\"#f47044\",\"#f47044\",\"#58b2ac\",\"#b1dfa3\",\"#f47044\",\"#f47044\",\"#f47044\",\"#f47044\",\"#f47044\",\"#f47044\",\"#fed683\",\"#f47044\",\"#99d6a4\",\"#f47044\",\"#f47044\",\"#f47044\",\"#fee491\",\"#f47044\",\"#fed683\",\"#e9f69d\",\"#f47044\",\"#f47044\",\"#f47044\",\"#f47044\",\"#f47044\",\"#fed683\",\"#fbfdb8\",\"#f47044\",\"#f47044\",\"#f47044\",\"#f47044\",\"#fed683\",\"#9e0142\",\"#e1504b\",\"#f47044\",\"#af1446\",\"#fed683\",\"#99d6a4\",\"#f47044\",\"#58b2ac\",\"#fee491\",\"#99d6a4\",\"#e1504b\",\"#f47044\",\"#99d6a4\",\"#58b2ac\",\"#fdb365\",\"#69c3a5\",\"#f47044\",\"#f47044\",\"#fbfdb8\",\"#f47044\",\"#f47044\",\"#f47044\",\"#f47044\",\"#f47044\",\"#af1446\",\"#f47044\",\"#58b2ac\",\"#fee491\",\"#fee491\",\"#f47044\",\"#f47044\",\"#f47044\",\"#f47044\",\"#58b2ac\",\"#f47044\",\"#459eb4\",\"#af1446\",\"#fed683\",\"#69c3a5\",\"#5061aa\",\"#fed683\",\"#fed683\",\"#f47044\",\"#f47044\",\"#e1504b\",\"#f47044\",\"#fdb365\",\"#f47044\",\"#f47044\",\"#f47044\",\"#fdb365\",\"#f47044\",\"#58b2ac\",\"#f47044\",\"#daf09a\",\"#fdc574\",\"#3389bd\",\"#99d6a4\",\"#fdb365\",\"#f47044\",\"#fee491\",\"#e1504b\",\"#99d6a4\",\"#fdb365\",\"#f47044\",\"#f47044\",\"#f47044\",\"#f47044\",\"#f47044\",\"#f47044\",\"#f47044\",\"#af1446\",\"#fee491\",\"#b1dfa3\",\"#58b2ac\",\"#f47044\",\"#f47044\",\"#f47044\",\"#c6e89f\",\"#f47044\",\"#f47044\",\"#f47044\",\"#fed683\",\"#e9f69d\",\"#f47044\",\"#f47044\",\"#99d6a4\",\"#fee491\",\"#4175b4\",\"#f47044\",\"#f47044\",\"#f47044\",\"#f47044\",\"#f47044\",\"#69c3a5\",\"#fed683\",\"#fed683\",\"#f47044\",\"#fed683\",\"#f47044\",\"#f47044\",\"#f47044\",\"#f47044\",\"#b1dfa3\",\"#fb9d59\",\"#f47044\",\"#f47044\",\"#f47044\",\"#f47044\",\"#af1446\",\"#f47044\",\"#fdc574\",\"#f47044\",\"#fee491\",\"#f8864f\",\"#f47044\",\"#f47044\",\"#f47044\",\"#f47044\",\"#99d6a4\",\"#f47044\",\"#58b2ac\",\"#f47044\",\"#f47044\",\"#f47044\",\"#e9f69d\",\"#f47044\",\"#fee491\",\"#fee491\",\"#459eb4\",\"#9e0142\",\"#e1504b\",\"#99d6a4\",\"#daf09a\",\"#f47044\",\"#f47044\",\"#f47044\",\"#f47044\",\"#f2faaa\",\"#f47044\",\"#f47044\",\"#f8864f\",\"#fed683\",\"#f47044\",\"#f47044\",\"#f47044\",\"#f47044\",\"#f47044\",\"#fed683\",\"#f47044\",\"#f47044\",\"#9e0142\",\"#fbfdb8\",\"#fed683\",\"#f47044\",\"#fed683\",\"#5061aa\",\"#f47044\",\"#f47044\",\"#c6e89f\",\"#fdc574\",\"#81cda5\",\"#f47044\",\"#fed683\",\"#f47044\",\"#fed683\",\"#9e0142\",\"#f47044\",\"#9e0142\",\"#f47044\",\"#af1446\",\"#f47044\",\"#81cda5\",\"#f47044\",\"#fee491\",\"#f47044\",\"#f47044\",\"#f47044\",\"#f47044\",\"#fffab6\",\"#f47044\",\"#b1dfa3\",\"#f47044\",\"#fffab6\",\"#58b2ac\",\"#f47044\",\"#f47044\",\"#58b2ac\",\"#f47044\",\"#fee491\",\"#f47044\",\"#58b2ac\",\"#f47044\",\"#f47044\",\"#f47044\",\"#fed683\",\"#f47044\",\"#fbfdb8\",\"#fed683\",\"#f47044\",\"#58b2ac\",\"#c6e89f\",\"#f47044\",\"#f47044\",\"#f47044\",\"#fdb365\",\"#f47044\",\"#f47044\",\"#af1446\",\"#f47044\",\"#fed683\",\"#f47044\",\"#f47044\",\"#fed683\",\"#99d6a4\",\"#f47044\",\"#fed683\",\"#f47044\",\"#b1dfa3\",\"#f47044\",\"#af1446\",\"#fee491\",\"#e1504b\",\"#fed683\",\"#f47044\",\"#f47044\",\"#69c3a5\",\"#f47044\",\"#e1504b\",\"#fed683\",\"#9e0142\",\"#eb6046\",\"#f47044\",\"#f47044\",\"#f47044\",\"#f47044\",\"#f47044\",\"#fed683\",\"#69c3a5\",\"#f47044\",\"#f47044\",\"#f47044\",\"#99d6a4\",\"#fbfdb8\",\"#f47044\",\"#f47044\",\"#f47044\",\"#f47044\",\"#f47044\",\"#f47044\",\"#f47044\",\"#f47044\",\"#fed683\",\"#9e0142\",\"#f47044\",\"#e9f69d\",\"#f47044\",\"#fed683\",\"#f47044\",\"#f47044\",\"#f47044\",\"#5061aa\",\"#f47044\",\"#f47044\",\"#69c3a5\",\"#fbfdb8\",\"#f47044\",\"#fed683\",\"#f47044\",\"#f47044\",\"#f47044\",\"#f47044\",\"#fdb365\",\"#f47044\",\"#f47044\",\"#f47044\",\"#f47044\",\"#f47044\",\"#f47044\",\"#fed683\",\"#5061aa\",\"#f47044\",\"#f47044\",\"#f47044\",\"#f47044\",\"#f47044\",\"#f47044\",\"#fb9d59\",\"#f47044\",\"#f47044\",\"#f47044\",\"#af1446\",\"#f47044\",\"#f47044\",\"#f47044\",\"#58b2ac\",\"#58b2ac\",\"#f47044\",\"#f47044\",\"#f47044\",\"#f47044\",\"#58b2ac\",\"#b1dfa3\",\"#f47044\",\"#daf09a\",\"#f47044\",\"#f47044\",\"#f47044\",\"#f47044\",\"#daf09a\",\"#f47044\",\"#f47044\",\"#fee491\",\"#f47044\",\"#f47044\",\"#fee491\",\"#f47044\",\"#f47044\",\"#99d6a4\",\"#f47044\",\"#f47044\",\"#58b2ac\",\"#f47044\",\"#f47044\",\"#f47044\",\"#fed683\",\"#f47044\",\"#f47044\",\"#f47044\",\"#e1504b\",\"#fbfdb8\",\"#5e4fa2\",\"#f47044\",\"#f47044\",\"#f47044\",\"#fed683\",\"#fee491\",\"#f47044\",\"#e9f69d\",\"#f47044\",\"#f47044\",\"#99d6a4\",\"#81cda5\",\"#fbfdb8\",\"#f47044\",\"#f47044\",\"#f47044\",\"#f47044\",\"#58b2ac\",\"#f2faaa\",\"#b1dfa3\",\"#f47044\",\"#f47044\",\"#f47044\",\"#fed683\",\"#fed683\",\"#69c3a5\",\"#f47044\",\"#f47044\",\"#f47044\",\"#f47044\",\"#fdc574\",\"#f47044\",\"#f47044\",\"#f47044\",\"#f47044\",\"#f47044\",\"#f47044\",\"#f47044\",\"#f47044\",\"#e9f69d\",\"#9e0142\",\"#f47044\",\"#fee491\",\"#f47044\",\"#f47044\",\"#f47044\",\"#f47044\",\"#f47044\",\"#f47044\",\"#f47044\",\"#f47044\",\"#f47044\",\"#69c3a5\",\"#f47044\",\"#d63f4f\",\"#f47044\",\"#5061aa\",\"#c32a4b\",\"#fee491\",\"#f47044\",\"#f47044\",\"#99d6a4\",\"#f47044\",\"#f47044\",\"#e9f69d\",\"#f47044\",\"#fed683\",\"#f47044\",\"#eb6046\",\"#69c3a5\",\"#f47044\",\"#c6e89f\",\"#f47044\",\"#fee491\",\"#f47044\",\"#f47044\",\"#fdb365\",\"#f47044\",\"#f47044\",\"#f47044\",\"#f47044\",\"#f47044\",\"#e9f69d\",\"#f47044\",\"#f47044\",\"#f47044\",\"#9e0142\",\"#f47044\",\"#69c3a5\",\"#f47044\",\"#f47044\",\"#f47044\",\"#f47044\",\"#f47044\",\"#f47044\",\"#fee491\",\"#fffab6\",\"#3389bd\",\"#58b2ac\",\"#f47044\",\"#f47044\",\"#58b2ac\",\"#f47044\",\"#f47044\",\"#f47044\",\"#f47044\",\"#f47044\",\"#f47044\",\"#99d6a4\",\"#f47044\",\"#f47044\",\"#f47044\",\"#f47044\",\"#69c3a5\",\"#fed683\",\"#f47044\",\"#f47044\",\"#fed683\",\"#fee491\",\"#f47044\",\"#9e0142\",\"#f47044\",\"#f47044\",\"#fdc574\",\"#e9f69d\",\"#f47044\",\"#f47044\",\"#fdb365\",\"#f47044\",\"#fed683\",\"#fed683\",\"#f47044\",\"#58b2ac\",\"#99d6a4\",\"#f47044\",\"#9e0142\",\"#f47044\",\"#f47044\",\"#c6e89f\",\"#fed683\",\"#f47044\",\"#9e0142\",\"#f47044\",\"#fbfdb8\",\"#d63f4f\",\"#daf09a\",\"#69c3a5\",\"#f47044\",\"#f47044\",\"#fbfdb8\",\"#5061aa\",\"#99d6a4\",\"#69c3a5\",\"#99d6a4\",\"#f47044\",\"#daf09a\",\"#f47044\",\"#f47044\",\"#f47044\",\"#d63f4f\",\"#f47044\",\"#f47044\",\"#f47044\",\"#b1dfa3\",\"#69c3a5\",\"#f47044\",\"#fed683\",\"#f47044\",\"#f47044\",\"#fee491\",\"#fed683\",\"#f47044\",\"#af1446\",\"#f47044\",\"#b1dfa3\",\"#f47044\",\"#58b2ac\",\"#f47044\",\"#af1446\",\"#f47044\",\"#e9f69d\",\"#fffab6\",\"#b1dfa3\",\"#69c3a5\",\"#f47044\",\"#f47044\",\"#f47044\",\"#b1dfa3\",\"#f47044\",\"#f47044\",\"#f47044\",\"#f47044\",\"#f47044\",\"#f47044\",\"#81cda5\",\"#fee491\",\"#f47044\",\"#f8864f\",\"#b1dfa3\",\"#f47044\",\"#f47044\",\"#f47044\",\"#f47044\",\"#f47044\",\"#58b2ac\",\"#f47044\",\"#58b2ac\",\"#f47044\",\"#b1dfa3\",\"#fdb365\",\"#f47044\",\"#f47044\",\"#f47044\",\"#f47044\",\"#fbfdb8\",\"#af1446\",\"#f47044\",\"#f47044\",\"#f47044\",\"#f47044\",\"#f47044\",\"#f47044\",\"#f47044\",\"#f47044\",\"#f2faaa\",\"#f47044\",\"#f47044\",\"#fbfdb8\",\"#f47044\",\"#f47044\",\"#e1504b\",\"#f47044\",\"#fee491\",\"#f47044\",\"#f47044\",\"#f47044\",\"#f47044\",\"#fed683\",\"#f47044\",\"#f47044\",\"#99d6a4\",\"#f47044\",\"#f47044\",\"#f47044\",\"#f47044\",\"#f47044\",\"#f47044\",\"#fee491\",\"#f47044\",\"#f47044\",\"#fdc574\",\"#f47044\",\"#f47044\",\"#81cda5\",\"#f47044\",\"#f47044\",\"#fee491\",\"#f47044\",\"#fed683\",\"#f47044\",\"#69c3a5\",\"#f47044\",\"#f47044\",\"#f47044\",\"#f47044\",\"#eb6046\",\"#69c3a5\",\"#f47044\",\"#f47044\",\"#f47044\",\"#fbfdb8\",\"#f47044\",\"#f47044\",\"#fee491\",\"#fdb365\",\"#99d6a4\",\"#fbfdb8\",\"#f47044\",\"#e9f69d\",\"#f47044\",\"#af1446\",\"#9e0142\",\"#f47044\",\"#f47044\",\"#fdc574\",\"#f47044\",\"#f47044\",\"#f47044\",\"#f47044\",\"#fbfdb8\",\"#fed683\",\"#fed683\",\"#f47044\",\"#f47044\",\"#f47044\",\"#f47044\",\"#69c3a5\",\"#58b2ac\",\"#f47044\",\"#58b2ac\",\"#f47044\",\"#f47044\",\"#fed683\",\"#f47044\",\"#81cda5\",\"#58b2ac\",\"#58b2ac\",\"#f47044\",\"#58b2ac\",\"#f47044\",\"#f47044\",\"#f47044\",\"#fffab6\",\"#fee491\",\"#58b2ac\",\"#f47044\",\"#fee491\",\"#f47044\",\"#f47044\",\"#9e0142\",\"#f47044\",\"#daf09a\",\"#af1446\",\"#fdc574\",\"#e1504b\",\"#fffab6\",\"#f47044\",\"#f47044\",\"#f47044\",\"#f47044\",\"#fffab6\",\"#c6e89f\",\"#58b2ac\",\"#fee491\",\"#4175b4\",\"#f47044\",\"#f47044\",\"#f47044\",\"#af1446\",\"#f47044\",\"#af1446\",\"#b1dfa3\",\"#f47044\",\"#f47044\",\"#f47044\",\"#69c3a5\",\"#f47044\",\"#f47044\",\"#99d6a4\",\"#fed683\",\"#fbfdb8\",\"#5061aa\",\"#f47044\"],\"index\":{\"__ndarray__\":\"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\",\"dtype\":\"int32\",\"order\":\"little\",\"shape\":[1319]},\"item\":[\"negative\",\"negative\",\"pos_PF03944_seed_Endotoxin_C_80.txt\",\"negative\",\"negative\",\"pos_PF01823_rp15_MACPF_659.txt\",\"negative\",\"negative\",\"negative\",\"pos_PF01823_rp15_MACPF_659.txt\",\"pos_PF01117_full_Aerolysin_207.txt\",\"pos_PF06109_full_HlyE_62.txt\",\"pos_PF11393_full_T4BSS_DotI_IcmL_214.txt\",\"negative\",\"pos_PF05105_seed_Phage_holin_4_1_131.txt\",\"negative\",\"negative\",\"negative\",\"pos_PF03944_seed_Endotoxin_C_80.txt\",\"negative\",\"PF02382_full_RTX_14.txt\",\"negative\",\"negative\",\"negative\",\"negative\",\"negative\",\"negative\",\"negative\",\"negative\",\"negative\",\"negative\",\"negative\",\"pos_PF01823_rp15_MACPF_659.txt\",\"PF00087_full_Toxin_TOLIP_333.txt\",\"negative\",\"pos_PF03318_full_ETX_MTX2_440.txt\",\"negative\",\"pos_PF06369_full_anemone_cytotox_363.txt\",\"PF07367_full_FB_lectin_171.txt\",\"negative\",\"negative\",\"negative\",\"negative\",\"pos_PF01823_rp15_MACPF_659.txt\",\"negative\",\"pos_PF11393_full_T4BSS_DotI_IcmL_214.txt\",\"pos_PF01823_rp15_MACPF_659.txt\",\"negative\",\"pos_PF06355_full_Aegerolysin_308.txt\",\"negative\",\"negative\",\"negative\",\"pos_PF03318_full_ETX_MTX2_440.txt\",\"negative\",\"pos_PF01823_rp15_MACPF_659.txt\",\"negative\",\"negative\",\"pos_PF11393_full_T4BSS_DotI_IcmL_214.txt\",\"pos_PF06355_full_Aegerolysin_308.txt\",\"pos_PF12261_full_T_hemolysin_327.txt\",\"pos_PF03318_full_ETX_MTX2_440.txt\",\"negative\",\"negative\",\"negative\",\"negative\",\"negative\",\"negative\",\"pos_PF07968_full_Leukocidin_89.txt\",\"negative\",\"negative\",\"negative\",\"pos_PF12261_full_T_hemolysin_327.txt\",\"negative\",\"PF00087_full_Toxin_TOLIP_333.txt\",\"negative\",\"negative\",\"negative\",\"pos_PF12261_full_T_hemolysin_327.txt\",\"negative\",\"negative\",\"negative\",\"PF07367_full_FB_lectin_171.txt\",\"negative\",\"negative\",\"PF11565_full_porB_30.txt\",\"negative\",\"pos_PF12261_full_T_hemolysin_327.txt\",\"negative\",\"negative\",\"negative\",\"negative\",\"negative\",\"negative\",\"pos_PF01823_rp15_MACPF_659.txt\",\"negative\",\"negative\",\"pos_PF12261_full_T_hemolysin_327.txt\",\"negative\",\"negative\",\"PF04598_rp15_Gasdermin_62.txt\",\"pos_PF18063_full_BB_PF_52.txt\",\"pos_PF12261_full_T_hemolysin_327.txt\",\"negative\",\"pos_PF03945_full_Endotoxin_N_180.txt\",\"PF00087_full_Toxin_TOLIP_333.txt\",\"pos_PF12920_full_TcdA_TcdB_pore_46.txt\",\"negative\",\"pos_PF01823_rp15_MACPF_659.txt\",\"pos_PF01823_rp15_MACPF_659.txt\",\"pos_PF12261_full_T_hemolysin_327.txt\",\"negative\",\"pos_PF05105_seed_Phage_holin_4_1_131.txt\",\"pos_PF11393_full_T4BSS_DotI_IcmL_214.txt\",\"negative\",\"negative\",\"negative\",\"PF04598_rp15_Gasdermin_62.txt\",\"negative\",\"negative\",\"PF01289_full_Thiol_cytolysin_243.txt\",\"PF07367_full_FB_lectin_171.txt\",\"pos_PF01117_full_Aerolysin_207.txt\",\"pos_PF12261_full_T_hemolysin_327.txt\",\"negative\",\"negative\",\"negative\",\"negative\",\"negative\",\"pos_PF06355_full_Aegerolysin_308.txt\",\"negative\",\"negative\",\"pos_PF06355_full_Aegerolysin_308.txt\",\"pos_PF01117_full_Aerolysin_207.txt\",\"pos_PF12261_full_T_hemolysin_327.txt\",\"pos_PF06355_full_Aegerolysin_308.txt\",\"negative\",\"pos_PF06355_full_Aegerolysin_308.txt\",\"negative\",\"negative\",\"negative\",\"negative\",\"negative\",\"negative\",\"negative\",\"pos_PF03945_full_Endotoxin_N_180.txt\",\"pos_PF03944_seed_Endotoxin_C_80.txt\",\"negative\",\"pos_PF06369_full_anemone_cytotox_363.txt\",\"pos_PF03318_full_ETX_MTX2_440.txt\",\"pos_PF06355_full_Aegerolysin_308.txt\",\"negative\",\"negative\",\"negative\",\"pos_PF03945_full_Endotoxin_N_180.txt\",\"pos_PF01823_rp15_MACPF_659.txt\",\"negative\",\"pos_PF01823_rp15_MACPF_659.txt\",\"negative\",\"negative\",\"pos_PF06369_full_anemone_cytotox_363.txt\",\"pos_PF01338_full_Bac_thur_toxin_87.txt\",\"pos_PF12920_full_TcdA_TcdB_pore_46.txt\",\"pos_PF07968_full_Leukocidin_89.txt\",\"negative\",\"negative\",\"negative\",\"negative\",\"pos_PF03945_full_Endotoxin_N_180.txt\",\"negative\",\"pos_PF03318_full_ETX_MTX2_440.txt\",\"pos_PF01338_full_Bac_thur_toxin_87.txt\",\"pos_PF06369_full_anemone_cytotox_363.txt\",\"negative\",\"negative\",\"pos_PF01823_rp15_MACPF_659.txt\",\"negative\",\"negative\",\"PF01289_full_Thiol_cytolysin_243.txt\",\"negative\",\"PF01289_full_Thiol_cytolysin_243.txt\",\"pos_PF12261_full_T_hemolysin_327.txt\",\"pos_PF12261_full_T_hemolysin_327.txt\",\"negative\",\"negative\",\"pos_PF01823_rp15_MACPF_659.txt\",\"negative\",\"PF01289_full_Thiol_cytolysin_243.txt\",\"negative\",\"negative\",\"negative\",\"pos_PF01024_full_Colicin_26.txt\",\"pos_PF01823_rp15_MACPF_659.txt\",\"negative\",\"negative\",\"PF01289_full_Thiol_cytolysin_243.txt\",\"PF07367_full_FB_lectin_171.txt\",\"negative\",\"pos_PF01823_rp15_MACPF_659.txt\",\"negative\",\"negative\",\"pos_PF12261_full_T_hemolysin_327.txt\",\"negative\",\"pos_PF12261_full_T_hemolysin_327.txt\",\"negative\",\"negative\",\"negative\",\"pos_PF03945_full_Endotoxin_N_180.txt\",\"negative\",\"negative\",\"pos_PF07968_full_Leukocidin_89.txt\",\"pos_PF01117_full_Aerolysin_207.txt\",\"negative\",\"pos_PF03318_full_ETX_MTX2_440.txt\",\"pos_PF01117_full_Aerolysin_207.txt\",\"pos_PF03945_full_Endotoxin_N_180.txt\",\"pos_PF06355_full_Aegerolysin_308.txt\",\"negative\",\"pos_PF03318_full_ETX_MTX2_440.txt\",\"PF00087_full_Toxin_TOLIP_333.txt\",\"pos_PF05105_seed_Phage_holin_4_1_131.txt\",\"negative\",\"negative\",\"negative\",\"negative\",\"negative\",\"pos_PF03945_full_Endotoxin_N_180.txt\",\"negative\",\"negative\",\"negative\",\"negative\",\"negative\",\"negative\",\"negative\",\"negative\",\"pos_PF01823_rp15_MACPF_659.txt\",\"pos_PF01823_rp15_MACPF_659.txt\",\"pos_PF12261_full_T_hemolysin_327.txt\",\"negative\",\"negative\",\"negative\",\"pos_PF18684_full_PlyB_C_8.txt\",\"negative\",\"negative\",\"negative\",\"pos_PF06355_full_Aegerolysin_308.txt\",\"negative\",\"negative\",\"PF01289_full_Thiol_cytolysin_243.txt\",\"negative\",\"negative\",\"PF01289_full_Thiol_cytolysin_243.txt\",\"negative\",\"negative\",\"negative\",\"pos_PF03944_seed_Endotoxin_C_80.txt\",\"negative\",\"pos_PF05105_seed_Phage_holin_4_1_131.txt\",\"pos_PF11393_full_T4BSS_DotI_IcmL_214.txt\",\"negative\",\"negative\",\"negative\",\"negative\",\"negative\",\"negative\",\"negative\",\"PF07367_full_FB_lectin_171.txt\",\"negative\",\"negative\",\"PF07367_full_FB_lectin_171.txt\",\"negative\",\"negative\",\"pos_PF03505_full_Clenterotox_9.txt\",\"pos_PF11393_full_T4BSS_DotI_IcmL_214.txt\",\"PF01289_full_Thiol_cytolysin_243.txt\",\"pos_PF01823_rp15_MACPF_659.txt\",\"negative\",\"PF01289_full_Thiol_cytolysin_243.txt\",\"pos_PF01823_rp15_MACPF_659.txt\",\"pos_PF00555_seed_Endotoxin_M_36.txt\",\"negative\",\"pos_PF06369_full_anemone_cytotox_363.txt\",\"negative\",\"PF01289_full_Thiol_cytolysin_243.txt\",\"pos_PF03944_seed_Endotoxin_C_80.txt\",\"pos_PF05802_full_EspB_60.txt\",\"negative\",\"negative\",\"negative\",\"negative\",\"negative\",\"pos_PF06369_full_anemone_cytotox_363.txt\",\"pos_PF12261_full_T_hemolysin_327.txt\",\"negative\",\"pos_PF12261_full_T_hemolysin_327.txt\",\"pos_PF03318_full_ETX_MTX2_440.txt\",\"pos_PF06109_full_HlyE_62.txt\",\"pos_PF05105_seed_Phage_holin_4_1_131.txt\",\"negative\",\"negative\",\"PF01289_full_Thiol_cytolysin_243.txt\",\"negative\",\"pos_PF05105_seed_Phage_holin_4_1_131.txt\",\"negative\",\"negative\",\"negative\",\"negative\",\"pos_PF06355_full_Aegerolysin_308.txt\",\"negative\",\"pos_PF01823_rp15_MACPF_659.txt\",\"pos_PF01823_rp15_MACPF_659.txt\",\"negative\",\"PF04598_rp15_Gasdermin_62.txt\",\"negative\",\"negative\",\"pos_PF01823_rp15_MACPF_659.txt\",\"pos_PF01823_rp15_MACPF_659.txt\",\"negative\",\"PF00087_full_Toxin_TOLIP_333.txt\",\"negative\",\"negative\",\"pos_PF06355_full_Aegerolysin_308.txt\",\"negative\",\"negative\",\"negative\",\"pos_PF06355_full_Aegerolysin_308.txt\",\"negative\",\"pos_PF01823_rp15_MACPF_659.txt\",\"pos_PF12920_full_TcdA_TcdB_pore_46.txt\",\"pos_PF01823_rp15_MACPF_659.txt\",\"PF01289_full_Thiol_cytolysin_243.txt\",\"pos_PF01823_rp15_MACPF_659.txt\",\"pos_PF05105_seed_Phage_holin_4_1_131.txt\",\"PF04598_rp15_Gasdermin_62.txt\",\"pos_PF03318_full_ETX_MTX2_440.txt\",\"pos_PF12261_full_T_hemolysin_327.txt\",\"pos_PF03318_full_ETX_MTX2_440.txt\",\"negative\",\"pos_PF03318_full_ETX_MTX2_440.txt\",\"negative\",\"pos_PF05802_full_EspB_60.txt\",\"pos_PF05105_seed_Phage_holin_4_1_131.txt\",\"negative\",\"pos_PF06355_full_Aegerolysin_308.txt\",\"pos_PF03318_full_ETX_MTX2_440.txt\",\"pos_PF03318_full_ETX_MTX2_440.txt\",\"negative\",\"negative\",\"negative\",\"pos_PF01117_full_Aerolysin_207.txt\",\"pos_PF12261_full_T_hemolysin_327.txt\",\"pos_PF01823_rp15_MACPF_659.txt\",\"pos_PF06369_full_anemone_cytotox_363.txt\",\"pos_PF01823_rp15_MACPF_659.txt\",\"pos_PF06369_full_anemone_cytotox_363.txt\",\"negative\",\"pos_PF06355_full_Aegerolysin_308.txt\",\"PF01289_full_Thiol_cytolysin_243.txt\",\"negative\",\"negative\",\"negative\",\"pos_PF01117_full_Aerolysin_207.txt\",\"negative\",\"negative\",\"negative\",\"negative\",\"negative\",\"negative\",\"pos_PF05105_seed_Phage_holin_4_1_131.txt\",\"pos_PF06355_full_Aegerolysin_308.txt\",\"pos_PF06369_full_anemone_cytotox_363.txt\",\"pos_PF03318_full_ETX_MTX2_440.txt\",\"negative\",\"negative\",\"negative\",\"pos_PF01823_rp15_MACPF_659.txt\",\"PF11565_full_porB_30.txt\",\"negative\",\"negative\",\"pos_PF06369_full_anemone_cytotox_363.txt\",\"pos_PF01823_rp15_MACPF_659.txt\",\"pos_PF06355_full_Aegerolysin_308.txt\",\"pos_PF12920_full_TcdA_TcdB_pore_46.txt\",\"pos_PF03944_seed_Endotoxin_C_80.txt\",\"pos_PF06369_full_anemone_cytotox_363.txt\",\"pos_PF03318_full_ETX_MTX2_440.txt\",\"negative\",\"negative\",\"pos_PF01823_rp15_MACPF_659.txt\",\"pos_PF05105_seed_Phage_holin_4_1_131.txt\",\"pos_PF12261_full_T_hemolysin_327.txt\",\"negative\",\"negative\",\"negative\",\"pos_PF11393_full_T4BSS_DotI_IcmL_214.txt\",\"pos_PF01117_full_Aerolysin_207.txt\",\"pos_PF00555_seed_Endotoxin_M_36.txt\",\"pos_PF01024_full_Colicin_26.txt\",\"negative\",\"negative\",\"pos_PF06355_full_Aegerolysin_308.txt\",\"negative\",\"PF01289_full_Thiol_cytolysin_243.txt\",\"pos_PF06109_full_HlyE_62.txt\",\"negative\",\"PF00087_full_Toxin_TOLIP_333.txt\",\"pos_PF11393_full_T4BSS_DotI_IcmL_214.txt\",\"pos_PF03318_full_ETX_MTX2_440.txt\",\"negative\",\"negative\",\"pos_PF11393_full_T4BSS_DotI_IcmL_214.txt\",\"pos_PF05802_full_EspB_60.txt\",\"negative\",\"pos_PF01823_rp15_MACPF_659.txt\",\"negative\",\"negative\",\"pos_PF03318_full_ETX_MTX2_440.txt\",\"negative\",\"PF07367_full_FB_lectin_171.txt\",\"pos_PF06355_full_Aegerolysin_308.txt\",\"pos_PF06355_full_Aegerolysin_308.txt\",\"pos_PF11393_full_T4BSS_DotI_IcmL_214.txt\",\"negative\",\"negative\",\"pos_PF05105_seed_Phage_holin_4_1_131.txt\",\"pos_PF01823_rp15_MACPF_659.txt\",\"pos_PF03945_full_Endotoxin_N_180.txt\",\"negative\",\"PF00087_full_Toxin_TOLIP_333.txt\",\"pos_PF01823_rp15_MACPF_659.txt\",\"pos_PF18063_full_BB_PF_52.txt\",\"pos_PF01823_rp15_MACPF_659.txt\",\"negative\",\"pos_PF03318_full_ETX_MTX2_440.txt\",\"negative\",\"pos_PF01024_full_Colicin_26.txt\",\"negative\",\"pos_PF06369_full_anemone_cytotox_363.txt\",\"negative\",\"pos_PF11393_full_T4BSS_DotI_IcmL_214.txt\",\"pos_PF03944_seed_Endotoxin_C_80.txt\",\"pos_PF03318_full_ETX_MTX2_440.txt\",\"pos_PF12261_full_T_hemolysin_327.txt\",\"pos_PF11393_full_T4BSS_DotI_IcmL_214.txt\",\"pos_PF12261_full_T_hemolysin_327.txt\",\"PF01289_full_Thiol_cytolysin_243.txt\",\"negative\",\"pos_PF03318_full_ETX_MTX2_440.txt\",\"pos_PF06355_full_Aegerolysin_308.txt\",\"negative\",\"pos_PF04877_full_Harpin_35.txt\",\"negative\",\"negative\",\"negative\",\"negative\",\"negative\",\"pos_PF01338_full_Bac_thur_toxin_87.txt\",\"negative\",\"negative\",\"pos_PF17475_full_Binary_toxB_2_16.txt\",\"negative\",\"pos_PF12261_full_T_hemolysin_327.txt\",\"negative\",\"pos_PF11393_full_T4BSS_DotI_IcmL_214.txt\",\"pos_PF03945_full_Endotoxin_N_180.txt\",\"negative\",\"PF01289_full_Thiol_cytolysin_243.txt\",\"negative\",\"pos_PF01823_rp15_MACPF_659.txt\",\"pos_PF03318_full_ETX_MTX2_440.txt\",\"pos_PF12920_full_TcdA_TcdB_pore_46.txt\",\"negative\",\"negative\",\"negative\",\"negative\",\"negative\",\"PF04598_rp15_Gasdermin_62.txt\",\"negative\",\"pos_PF01823_rp15_MACPF_659.txt\",\"negative\",\"negative\",\"pos_PF01823_rp15_MACPF_659.txt\",\"negative\",\"pos_PF03318_full_ETX_MTX2_440.txt\",\"negative\",\"pos_PF06369_full_anemone_cytotox_363.txt\",\"negative\",\"pos_PF06369_full_anemone_cytotox_363.txt\",\"pos_PF12261_full_T_hemolysin_327.txt\",\"negative\",\"pos_PF01823_rp15_MACPF_659.txt\",\"negative\",\"negative\",\"pos_PF01823_rp15_MACPF_659.txt\",\"PF07367_full_FB_lectin_171.txt\",\"pos_PF03945_full_Endotoxin_N_180.txt\",\"negative\",\"pos_PF12261_full_T_hemolysin_327.txt\",\"negative\",\"pos_PF01117_full_Aerolysin_207.txt\",\"pos_PF01823_rp15_MACPF_659.txt\",\"pos_PF01338_full_Bac_thur_toxin_87.txt\",\"pos_PF05105_seed_Phage_holin_4_1_131.txt\",\"negative\",\"negative\",\"pos_PF03318_full_ETX_MTX2_440.txt\",\"PF01289_full_Thiol_cytolysin_243.txt\",\"negative\",\"negative\",\"negative\",\"negative\",\"negative\",\"pos_PF01823_rp15_MACPF_659.txt\",\"negative\",\"pos_PF01117_full_Aerolysin_207.txt\",\"PF11565_full_porB_30.txt\",\"negative\",\"negative\",\"negative\",\"negative\",\"pos_PF06355_full_Aegerolysin_308.txt\",\"negative\",\"negative\",\"negative\",\"pos_PF07968_full_Leukocidin_89.txt\",\"pos_PF03318_full_ETX_MTX2_440.txt\",\"negative\",\"pos_PF03318_full_ETX_MTX2_440.txt\",\"negative\",\"pos_PF01823_rp15_MACPF_659.txt\",\"negative\",\"negative\",\"negative\",\"pos_PF00555_seed_Endotoxin_M_36.txt\",\"pos_PF03944_seed_Endotoxin_C_80.txt\",\"negative\",\"negative\",\"negative\",\"negative\",\"negative\",\"negative\",\"pos_PF01117_full_Aerolysin_207.txt\",\"pos_PF03318_full_ETX_MTX2_440.txt\",\"pos_PF03318_full_ETX_MTX2_440.txt\",\"negative\",\"negative\",\"negative\",\"negative\",\"pos_PF05105_seed_Phage_holin_4_1_131.txt\",\"pos_PF03318_full_ETX_MTX2_440.txt\",\"PF01289_full_Thiol_cytolysin_243.txt\",\"negative\",\"negative\",\"negative\",\"pos_PF18063_full_BB_PF_52.txt\",\"pos_PF01823_rp15_MACPF_659.txt\",\"negative\",\"negative\",\"pos_PF01823_rp15_MACPF_659.txt\",\"negative\",\"pos_PF06369_full_anemone_cytotox_363.txt\",\"pos_PF04877_full_Harpin_35.txt\",\"negative\",\"negative\",\"pos_PF01823_rp15_MACPF_659.txt\",\"PF01289_full_Thiol_cytolysin_243.txt\",\"negative\",\"negative\",\"PF01289_full_Thiol_cytolysin_243.txt\",\"negative\",\"negative\",\"negative\",\"PF07367_full_FB_lectin_171.txt\",\"pos_PF12261_full_T_hemolysin_327.txt\",\"negative\",\"negative\",\"negative\",\"PF07367_full_FB_lectin_171.txt\",\"pos_PF04877_full_Harpin_35.txt\",\"negative\",\"negative\",\"negative\",\"PF04598_rp15_Gasdermin_62.txt\",\"negative\",\"pos_PF12261_full_T_hemolysin_327.txt\",\"negative\",\"negative\",\"negative\",\"negative\",\"pos_PF05802_full_EspB_60.txt\",\"PF00087_full_Toxin_TOLIP_333.txt\",\"pos_PF01117_full_Aerolysin_207.txt\",\"negative\",\"negative\",\"negative\",\"PF01289_full_Thiol_cytolysin_243.txt\",\"pos_PF06369_full_anemone_cytotox_363.txt\",\"negative\",\"negative\",\"pos_PF01117_full_Aerolysin_207.txt\",\"pos_PF01338_full_Bac_thur_toxin_87.txt\",\"pos_PF12261_full_T_hemolysin_327.txt\",\"negative\",\"negative\",\"negative\",\"negative\",\"pos_PF12261_full_T_hemolysin_327.txt\",\"pos_PF06355_full_Aegerolysin_308.txt\",\"negative\",\"negative\",\"negative\",\"negative\",\"negative\",\"negative\",\"pos_PF01823_rp15_MACPF_659.txt\",\"negative\",\"pos_PF06369_full_anemone_cytotox_363.txt\",\"negative\",\"negative\",\"negative\",\"pos_PF03318_full_ETX_MTX2_440.txt\",\"negative\",\"pos_PF01823_rp15_MACPF_659.txt\",\"pos_PF05105_seed_Phage_holin_4_1_131.txt\",\"negative\",\"negative\",\"negative\",\"negative\",\"negative\",\"pos_PF01823_rp15_MACPF_659.txt\",\"pos_PF03945_full_Endotoxin_N_180.txt\",\"negative\",\"negative\",\"negative\",\"negative\",\"pos_PF01823_rp15_MACPF_659.txt\",\"PF00087_full_Toxin_TOLIP_333.txt\",\"PF07367_full_FB_lectin_171.txt\",\"negative\",\"PF01289_full_Thiol_cytolysin_243.txt\",\"pos_PF01823_rp15_MACPF_659.txt\",\"pos_PF06369_full_anemone_cytotox_363.txt\",\"negative\",\"pos_PF12261_full_T_hemolysin_327.txt\",\"pos_PF03318_full_ETX_MTX2_440.txt\",\"pos_PF06369_full_anemone_cytotox_363.txt\",\"PF07367_full_FB_lectin_171.txt\",\"negative\",\"pos_PF06369_full_anemone_cytotox_363.txt\",\"pos_PF12261_full_T_hemolysin_327.txt\",\"pos_PF01117_full_Aerolysin_207.txt\",\"pos_PF11393_full_T4BSS_DotI_IcmL_214.txt\",\"negative\",\"negative\",\"pos_PF03945_full_Endotoxin_N_180.txt\",\"negative\",\"negative\",\"negative\",\"negative\",\"negative\",\"PF01289_full_Thiol_cytolysin_243.txt\",\"negative\",\"pos_PF12261_full_T_hemolysin_327.txt\",\"pos_PF03318_full_ETX_MTX2_440.txt\",\"pos_PF03318_full_ETX_MTX2_440.txt\",\"negative\",\"negative\",\"negative\",\"negative\",\"pos_PF12261_full_T_hemolysin_327.txt\",\"negative\",\"pos_PF12563_full_Hemolysin_N_12.txt\",\"PF01289_full_Thiol_cytolysin_243.txt\",\"pos_PF01823_rp15_MACPF_659.txt\",\"pos_PF11393_full_T4BSS_DotI_IcmL_214.txt\",\"pos_PF18063_full_BB_PF_52.txt\",\"pos_PF01823_rp15_MACPF_659.txt\",\"pos_PF01823_rp15_MACPF_659.txt\",\"negative\",\"negative\",\"PF07367_full_FB_lectin_171.txt\",\"negative\",\"pos_PF01117_full_Aerolysin_207.txt\",\"negative\",\"negative\",\"negative\",\"pos_PF01117_full_Aerolysin_207.txt\",\"negative\",\"pos_PF12261_full_T_hemolysin_327.txt\",\"negative\",\"pos_PF05802_full_EspB_60.txt\",\"pos_PF01338_full_Bac_thur_toxin_87.txt\",\"pos_PF12920_full_TcdA_TcdB_pore_46.txt\",\"pos_PF06369_full_anemone_cytotox_363.txt\",\"pos_PF01117_full_Aerolysin_207.txt\",\"negative\",\"pos_PF03318_full_ETX_MTX2_440.txt\",\"PF07367_full_FB_lectin_171.txt\",\"pos_PF06369_full_anemone_cytotox_363.txt\",\"pos_PF01117_full_Aerolysin_207.txt\",\"negative\",\"negative\",\"negative\",\"negative\",\"negative\",\"negative\",\"negative\",\"PF01289_full_Thiol_cytolysin_243.txt\",\"pos_PF03318_full_ETX_MTX2_440.txt\",\"pos_PF06355_full_Aegerolysin_308.txt\",\"pos_PF12261_full_T_hemolysin_327.txt\",\"negative\",\"negative\",\"negative\",\"pos_PF06109_full_HlyE_62.txt\",\"negative\",\"negative\",\"negative\",\"pos_PF01823_rp15_MACPF_659.txt\",\"pos_PF05105_seed_Phage_holin_4_1_131.txt\",\"negative\",\"negative\",\"pos_PF06369_full_anemone_cytotox_363.txt\",\"pos_PF03318_full_ETX_MTX2_440.txt\",\"pos_PF17475_full_Binary_toxB_2_16.txt\",\"negative\",\"negative\",\"negative\",\"negative\",\"negative\",\"pos_PF11393_full_T4BSS_DotI_IcmL_214.txt\",\"pos_PF01823_rp15_MACPF_659.txt\",\"pos_PF01823_rp15_MACPF_659.txt\",\"negative\",\"pos_PF01823_rp15_MACPF_659.txt\",\"negative\",\"negative\",\"negative\",\"negative\",\"pos_PF06355_full_Aegerolysin_308.txt\",\"pos_PF01024_full_Colicin_26.txt\",\"negative\",\"negative\",\"negative\",\"negative\",\"PF01289_full_Thiol_cytolysin_243.txt\",\"negative\",\"pos_PF01338_full_Bac_thur_toxin_87.txt\",\"negative\",\"pos_PF03318_full_ETX_MTX2_440.txt\",\"pos_PF00555_seed_Endotoxin_M_36.txt\",\"negative\",\"negative\",\"negative\",\"negative\",\"pos_PF06369_full_anemone_cytotox_363.txt\",\"negative\",\"pos_PF12261_full_T_hemolysin_327.txt\",\"negative\",\"negative\",\"negative\",\"pos_PF05105_seed_Phage_holin_4_1_131.txt\",\"negative\",\"pos_PF03318_full_ETX_MTX2_440.txt\",\"pos_PF03318_full_ETX_MTX2_440.txt\",\"pos_PF12563_full_Hemolysin_N_12.txt\",\"PF00087_full_Toxin_TOLIP_333.txt\",\"PF07367_full_FB_lectin_171.txt\",\"pos_PF06369_full_anemone_cytotox_363.txt\",\"pos_PF05802_full_EspB_60.txt\",\"negative\",\"negative\",\"negative\",\"negative\",\"pos_PF04877_full_Harpin_35.txt\",\"negative\",\"negative\",\"pos_PF00555_seed_Endotoxin_M_36.txt\",\"pos_PF01823_rp15_MACPF_659.txt\",\"negative\",\"negative\",\"negative\",\"negative\",\"negative\",\"pos_PF01823_rp15_MACPF_659.txt\",\"negative\",\"negative\",\"PF00087_full_Toxin_TOLIP_333.txt\",\"pos_PF03945_full_Endotoxin_N_180.txt\",\"pos_PF01823_rp15_MACPF_659.txt\",\"negative\",\"pos_PF01823_rp15_MACPF_659.txt\",\"pos_PF18063_full_BB_PF_52.txt\",\"negative\",\"negative\",\"pos_PF06109_full_HlyE_62.txt\",\"pos_PF01338_full_Bac_thur_toxin_87.txt\",\"pos_PF07968_full_Leukocidin_89.txt\",\"negative\",\"pos_PF01823_rp15_MACPF_659.txt\",\"negative\",\"pos_PF01823_rp15_MACPF_659.txt\",\"PF00087_full_Toxin_TOLIP_333.txt\",\"negative\",\"PF00087_full_Toxin_TOLIP_333.txt\",\"negative\",\"PF01289_full_Thiol_cytolysin_243.txt\",\"negative\",\"pos_PF07968_full_Leukocidin_89.txt\",\"negative\",\"pos_PF03318_full_ETX_MTX2_440.txt\",\"negative\",\"negative\",\"negative\",\"negative\",\"pos_PF03944_seed_Endotoxin_C_80.txt\",\"negative\",\"pos_PF06355_full_Aegerolysin_308.txt\",\"negative\",\"pos_PF03944_seed_Endotoxin_C_80.txt\",\"pos_PF12261_full_T_hemolysin_327.txt\",\"negative\",\"negative\",\"pos_PF12261_full_T_hemolysin_327.txt\",\"negative\",\"pos_PF03318_full_ETX_MTX2_440.txt\",\"negative\",\"pos_PF12261_full_T_hemolysin_327.txt\",\"negative\",\"negative\",\"negative\",\"pos_PF01823_rp15_MACPF_659.txt\",\"negative\",\"pos_PF03945_full_Endotoxin_N_180.txt\",\"pos_PF01823_rp15_MACPF_659.txt\",\"negative\",\"pos_PF12261_full_T_hemolysin_327.txt\",\"pos_PF06109_full_HlyE_62.txt\",\"negative\",\"negative\",\"negative\",\"pos_PF01117_full_Aerolysin_207.txt\",\"negative\",\"negative\",\"PF01289_full_Thiol_cytolysin_243.txt\",\"negative\",\"pos_PF01823_rp15_MACPF_659.txt\",\"negative\",\"negative\",\"pos_PF01823_rp15_MACPF_659.txt\",\"pos_PF06369_full_anemone_cytotox_363.txt\",\"negative\",\"pos_PF01823_rp15_MACPF_659.txt\",\"negative\",\"pos_PF06355_full_Aegerolysin_308.txt\",\"negative\",\"PF01289_full_Thiol_cytolysin_243.txt\",\"pos_PF03318_full_ETX_MTX2_440.txt\",\"PF07367_full_FB_lectin_171.txt\",\"pos_PF01823_rp15_MACPF_659.txt\",\"negative\",\"negative\",\"pos_PF11393_full_T4BSS_DotI_IcmL_214.txt\",\"negative\",\"PF07367_full_FB_lectin_171.txt\",\"pos_PF01823_rp15_MACPF_659.txt\",\"PF00087_full_Toxin_TOLIP_333.txt\",\"PF11565_full_porB_30.txt\",\"negative\",\"negative\",\"negative\",\"negative\",\"negative\",\"pos_PF01823_rp15_MACPF_659.txt\",\"pos_PF11393_full_T4BSS_DotI_IcmL_214.txt\",\"negative\",\"negative\",\"negative\",\"pos_PF06369_full_anemone_cytotox_363.txt\",\"pos_PF03945_full_Endotoxin_N_180.txt\",\"negative\",\"negative\",\"negative\",\"negative\",\"negative\",\"negative\",\"negative\",\"negative\",\"pos_PF01823_rp15_MACPF_659.txt\",\"PF00087_full_Toxin_TOLIP_333.txt\",\"negative\",\"pos_PF05105_seed_Phage_holin_4_1_131.txt\",\"negative\",\"pos_PF01823_rp15_MACPF_659.txt\",\"negative\",\"negative\",\"negative\",\"pos_PF18063_full_BB_PF_52.txt\",\"negative\",\"negative\",\"pos_PF11393_full_T4BSS_DotI_IcmL_214.txt\",\"pos_PF03945_full_Endotoxin_N_180.txt\",\"negative\",\"pos_PF01823_rp15_MACPF_659.txt\",\"negative\",\"negative\",\"negative\",\"negative\",\"pos_PF01117_full_Aerolysin_207.txt\",\"negative\",\"negative\",\"negative\",\"negative\",\"negative\",\"negative\",\"pos_PF01823_rp15_MACPF_659.txt\",\"pos_PF18063_full_BB_PF_52.txt\",\"negative\",\"negative\",\"negative\",\"negative\",\"negative\",\"negative\",\"pos_PF01024_full_Colicin_26.txt\",\"negative\",\"negative\",\"negative\",\"PF01289_full_Thiol_cytolysin_243.txt\",\"negative\",\"negative\",\"negative\",\"pos_PF12261_full_T_hemolysin_327.txt\",\"pos_PF12261_full_T_hemolysin_327.txt\",\"negative\",\"negative\",\"negative\",\"negative\",\"pos_PF12261_full_T_hemolysin_327.txt\",\"pos_PF06355_full_Aegerolysin_308.txt\",\"negative\",\"pos_PF05802_full_EspB_60.txt\",\"negative\",\"negative\",\"negative\",\"negative\",\"pos_PF05802_full_EspB_60.txt\",\"negative\",\"negative\",\"pos_PF03318_full_ETX_MTX2_440.txt\",\"negative\",\"negative\",\"pos_PF03318_full_ETX_MTX2_440.txt\",\"negative\",\"negative\",\"pos_PF06369_full_anemone_cytotox_363.txt\",\"negative\",\"negative\",\"pos_PF12261_full_T_hemolysin_327.txt\",\"negative\",\"negative\",\"negative\",\"pos_PF01823_rp15_MACPF_659.txt\",\"negative\",\"negative\",\"negative\",\"PF07367_full_FB_lectin_171.txt\",\"pos_PF03945_full_Endotoxin_N_180.txt\",\"pos_PF18684_full_PlyB_C_8.txt\",\"negative\",\"negative\",\"negative\",\"pos_PF01823_rp15_MACPF_659.txt\",\"pos_PF03318_full_ETX_MTX2_440.txt\",\"negative\",\"pos_PF05105_seed_Phage_holin_4_1_131.txt\",\"negative\",\"negative\",\"pos_PF06369_full_anemone_cytotox_363.txt\",\"pos_PF07968_full_Leukocidin_89.txt\",\"pos_PF03945_full_Endotoxin_N_180.txt\",\"negative\",\"negative\",\"negative\",\"negative\",\"pos_PF12261_full_T_hemolysin_327.txt\",\"pos_PF04877_full_Harpin_35.txt\",\"pos_PF06355_full_Aegerolysin_308.txt\",\"negative\",\"negative\",\"negative\",\"pos_PF01823_rp15_MACPF_659.txt\",\"pos_PF01823_rp15_MACPF_659.txt\",\"pos_PF11393_full_T4BSS_DotI_IcmL_214.txt\",\"negative\",\"negative\",\"negative\",\"negative\",\"pos_PF01338_full_Bac_thur_toxin_87.txt\",\"negative\",\"negative\",\"negative\",\"negative\",\"negative\",\"negative\",\"negative\",\"negative\",\"pos_PF05105_seed_Phage_holin_4_1_131.txt\",\"PF00087_full_Toxin_TOLIP_333.txt\",\"negative\",\"pos_PF03318_full_ETX_MTX2_440.txt\",\"negative\",\"negative\",\"negative\",\"negative\",\"negative\",\"negative\",\"negative\",\"negative\",\"negative\",\"pos_PF11393_full_T4BSS_DotI_IcmL_214.txt\",\"negative\",\"PF04598_rp15_Gasdermin_62.txt\",\"negative\",\"pos_PF18063_full_BB_PF_52.txt\",\"PF02382_full_RTX_14.txt\",\"pos_PF03318_full_ETX_MTX2_440.txt\",\"negative\",\"negative\",\"pos_PF06369_full_anemone_cytotox_363.txt\",\"negative\",\"negative\",\"pos_PF05105_seed_Phage_holin_4_1_131.txt\",\"negative\",\"pos_PF01823_rp15_MACPF_659.txt\",\"negative\",\"PF11565_full_porB_30.txt\",\"pos_PF11393_full_T4BSS_DotI_IcmL_214.txt\",\"negative\",\"pos_PF06109_full_HlyE_62.txt\",\"negative\",\"pos_PF03318_full_ETX_MTX2_440.txt\",\"negative\",\"negative\",\"pos_PF01117_full_Aerolysin_207.txt\",\"negative\",\"negative\",\"negative\",\"negative\",\"negative\",\"pos_PF05105_seed_Phage_holin_4_1_131.txt\",\"negative\",\"negative\",\"negative\",\"PF00087_full_Toxin_TOLIP_333.txt\",\"negative\",\"pos_PF11393_full_T4BSS_DotI_IcmL_214.txt\",\"negative\",\"negative\",\"negative\",\"negative\",\"negative\",\"negative\",\"pos_PF03318_full_ETX_MTX2_440.txt\",\"pos_PF03944_seed_Endotoxin_C_80.txt\",\"pos_PF12920_full_TcdA_TcdB_pore_46.txt\",\"pos_PF12261_full_T_hemolysin_327.txt\",\"negative\",\"negative\",\"pos_PF12261_full_T_hemolysin_327.txt\",\"negative\",\"negative\",\"negative\",\"negative\",\"negative\",\"negative\",\"pos_PF06369_full_anemone_cytotox_363.txt\",\"negative\",\"negative\",\"negative\",\"negative\",\"pos_PF11393_full_T4BSS_DotI_IcmL_214.txt\",\"pos_PF01823_rp15_MACPF_659.txt\",\"negative\",\"negative\",\"pos_PF01823_rp15_MACPF_659.txt\",\"pos_PF03318_full_ETX_MTX2_440.txt\",\"negative\",\"PF00087_full_Toxin_TOLIP_333.txt\",\"negative\",\"negative\",\"pos_PF01338_full_Bac_thur_toxin_87.txt\",\"pos_PF05105_seed_Phage_holin_4_1_131.txt\",\"negative\",\"negative\",\"pos_PF01117_full_Aerolysin_207.txt\",\"negative\",\"pos_PF01823_rp15_MACPF_659.txt\",\"pos_PF01823_rp15_MACPF_659.txt\",\"negative\",\"pos_PF12261_full_T_hemolysin_327.txt\",\"pos_PF06369_full_anemone_cytotox_363.txt\",\"negative\",\"PF00087_full_Toxin_TOLIP_333.txt\",\"negative\",\"negative\",\"pos_PF06109_full_HlyE_62.txt\",\"pos_PF01823_rp15_MACPF_659.txt\",\"negative\",\"PF00087_full_Toxin_TOLIP_333.txt\",\"negative\",\"pos_PF03945_full_Endotoxin_N_180.txt\",\"PF04598_rp15_Gasdermin_62.txt\",\"pos_PF05802_full_EspB_60.txt\",\"pos_PF11393_full_T4BSS_DotI_IcmL_214.txt\",\"negative\",\"negative\",\"pos_PF03945_full_Endotoxin_N_180.txt\",\"pos_PF18063_full_BB_PF_52.txt\",\"pos_PF06369_full_anemone_cytotox_363.txt\",\"pos_PF11393_full_T4BSS_DotI_IcmL_214.txt\",\"pos_PF06369_full_anemone_cytotox_363.txt\",\"negative\",\"pos_PF05802_full_EspB_60.txt\",\"negative\",\"negative\",\"negative\",\"PF04598_rp15_Gasdermin_62.txt\",\"negative\",\"negative\",\"negative\",\"pos_PF06355_full_Aegerolysin_308.txt\",\"pos_PF11393_full_T4BSS_DotI_IcmL_214.txt\",\"negative\",\"pos_PF01823_rp15_MACPF_659.txt\",\"negative\",\"negative\",\"pos_PF03318_full_ETX_MTX2_440.txt\",\"pos_PF01823_rp15_MACPF_659.txt\",\"negative\",\"PF01289_full_Thiol_cytolysin_243.txt\",\"negative\",\"pos_PF06355_full_Aegerolysin_308.txt\",\"negative\",\"pos_PF12261_full_T_hemolysin_327.txt\",\"negative\",\"PF01289_full_Thiol_cytolysin_243.txt\",\"negative\",\"pos_PF05105_seed_Phage_holin_4_1_131.txt\",\"pos_PF03944_seed_Endotoxin_C_80.txt\",\"pos_PF06355_full_Aegerolysin_308.txt\",\"pos_PF11393_full_T4BSS_DotI_IcmL_214.txt\",\"negative\",\"negative\",\"negative\",\"pos_PF06355_full_Aegerolysin_308.txt\",\"negative\",\"negative\",\"negative\",\"negative\",\"negative\",\"negative\",\"pos_PF07968_full_Leukocidin_89.txt\",\"pos_PF03318_full_ETX_MTX2_440.txt\",\"negative\",\"pos_PF00555_seed_Endotoxin_M_36.txt\",\"pos_PF06355_full_Aegerolysin_308.txt\",\"negative\",\"negative\",\"negative\",\"negative\",\"negative\",\"pos_PF12261_full_T_hemolysin_327.txt\",\"negative\",\"pos_PF12261_full_T_hemolysin_327.txt\",\"negative\",\"pos_PF06355_full_Aegerolysin_308.txt\",\"pos_PF01117_full_Aerolysin_207.txt\",\"negative\",\"negative\",\"negative\",\"negative\",\"pos_PF03945_full_Endotoxin_N_180.txt\",\"PF01289_full_Thiol_cytolysin_243.txt\",\"negative\",\"negative\",\"negative\",\"negative\",\"negative\",\"negative\",\"negative\",\"negative\",\"pos_PF04877_full_Harpin_35.txt\",\"negative\",\"negative\",\"pos_PF03945_full_Endotoxin_N_180.txt\",\"negative\",\"negative\",\"PF07367_full_FB_lectin_171.txt\",\"negative\",\"pos_PF03318_full_ETX_MTX2_440.txt\",\"negative\",\"negative\",\"negative\",\"negative\",\"pos_PF01823_rp15_MACPF_659.txt\",\"negative\",\"negative\",\"pos_PF06369_full_anemone_cytotox_363.txt\",\"negative\",\"negative\",\"negative\",\"negative\",\"negative\",\"negative\",\"pos_PF03318_full_ETX_MTX2_440.txt\",\"negative\",\"negative\",\"pos_PF01338_full_Bac_thur_toxin_87.txt\",\"negative\",\"negative\",\"pos_PF07968_full_Leukocidin_89.txt\",\"negative\",\"negative\",\"pos_PF03318_full_ETX_MTX2_440.txt\",\"negative\",\"pos_PF01823_rp15_MACPF_659.txt\",\"negative\",\"pos_PF11393_full_T4BSS_DotI_IcmL_214.txt\",\"negative\",\"negative\",\"negative\",\"negative\",\"PF11565_full_porB_30.txt\",\"pos_PF11393_full_T4BSS_DotI_IcmL_214.txt\",\"negative\",\"negative\",\"negative\",\"pos_PF03945_full_Endotoxin_N_180.txt\",\"negative\",\"negative\",\"pos_PF03318_full_ETX_MTX2_440.txt\",\"pos_PF01117_full_Aerolysin_207.txt\",\"pos_PF06369_full_anemone_cytotox_363.txt\",\"pos_PF03945_full_Endotoxin_N_180.txt\",\"negative\",\"pos_PF05105_seed_Phage_holin_4_1_131.txt\",\"negative\",\"PF01289_full_Thiol_cytolysin_243.txt\",\"PF00087_full_Toxin_TOLIP_333.txt\",\"negative\",\"negative\",\"pos_PF01338_full_Bac_thur_toxin_87.txt\",\"negative\",\"negative\",\"negative\",\"negative\",\"pos_PF03945_full_Endotoxin_N_180.txt\",\"pos_PF01823_rp15_MACPF_659.txt\",\"pos_PF01823_rp15_MACPF_659.txt\",\"negative\",\"negative\",\"negative\",\"negative\",\"pos_PF11393_full_T4BSS_DotI_IcmL_214.txt\",\"pos_PF12261_full_T_hemolysin_327.txt\",\"negative\",\"pos_PF12261_full_T_hemolysin_327.txt\",\"negative\",\"negative\",\"pos_PF01823_rp15_MACPF_659.txt\",\"negative\",\"pos_PF07968_full_Leukocidin_89.txt\",\"pos_PF12261_full_T_hemolysin_327.txt\",\"pos_PF12261_full_T_hemolysin_327.txt\",\"negative\",\"pos_PF12261_full_T_hemolysin_327.txt\",\"negative\",\"negative\",\"negative\",\"pos_PF03944_seed_Endotoxin_C_80.txt\",\"pos_PF03318_full_ETX_MTX2_440.txt\",\"pos_PF12261_full_T_hemolysin_327.txt\",\"negative\",\"pos_PF03318_full_ETX_MTX2_440.txt\",\"negative\",\"negative\",\"PF00087_full_Toxin_TOLIP_333.txt\",\"negative\",\"pos_PF05802_full_EspB_60.txt\",\"PF01289_full_Thiol_cytolysin_243.txt\",\"pos_PF01338_full_Bac_thur_toxin_87.txt\",\"PF07367_full_FB_lectin_171.txt\",\"pos_PF03944_seed_Endotoxin_C_80.txt\",\"negative\",\"negative\",\"negative\",\"negative\",\"pos_PF03944_seed_Endotoxin_C_80.txt\",\"pos_PF06109_full_HlyE_62.txt\",\"pos_PF12261_full_T_hemolysin_327.txt\",\"pos_PF03318_full_ETX_MTX2_440.txt\",\"pos_PF17475_full_Binary_toxB_2_16.txt\",\"negative\",\"negative\",\"negative\",\"PF01289_full_Thiol_cytolysin_243.txt\",\"negative\",\"PF01289_full_Thiol_cytolysin_243.txt\",\"pos_PF06355_full_Aegerolysin_308.txt\",\"negative\",\"negative\",\"negative\",\"pos_PF11393_full_T4BSS_DotI_IcmL_214.txt\",\"negative\",\"negative\",\"pos_PF06369_full_anemone_cytotox_363.txt\",\"pos_PF01823_rp15_MACPF_659.txt\",\"pos_PF03945_full_Endotoxin_N_180.txt\",\"pos_PF18063_full_BB_PF_52.txt\",\"negative\"],\"label\":[6,6,14,6,6,11,6,6,6,11,9,19,23,6,17,6,6,6,14,6,2,6,6,6,6,6,6,6,6,6,6,6,11,0,6,12,6,21,4,6,6,6,6,11,6,23,11,6,20,6,6,6,12,6,11,6,6,23,20,24,12,6,6,6,6,6,6,22,6,6,6,24,6,0,6,6,6,24,6,6,6,4,6,6,5,6,24,6,6,6,6,6,6,11,6,6,24,6,6,3,28,24,6,15,0,26,6,11,11,24,6,17,23,6,6,6,3,6,6,1,4,9,24,6,6,6,6,6,20,6,6,20,9,24,20,6,20,6,6,6,6,6,6,6,15,14,6,21,12,20,6,6,6,15,11,6,11,6,6,21,10,26,22,6,6,6,6,15,6,12,10,21,6,6,11,6,6,1,6,1,24,24,6,6,11,6,1,6,6,6,8,11,6,6,1,4,6,11,6,6,24,6,24,6,6,6,15,6,6,22,9,6,12,9,15,20,6,12,0,17,6,6,6,6,6,15,6,6,6,6,6,6,6,6,11,11,24,6,6,6,29,6,6,6,20,6,6,1,6,6,1,6,6,6,14,6,17,23,6,6,6,6,6,6,6,4,6,6,4,6,6,13,23,1,11,6,1,11,7,6,21,6,1,14,18,6,6,6,6,6,21,24,6,24,12,19,17,6,6,1,6,17,6,6,6,6,20,6,11,11,6,3,6,6,11,11,6,0,6,6,20,6,6,6,20,6,11,26,11,1,11,17,3,12,24,12,6,12,6,18,17,6,20,12,12,6,6,6,9,24,11,21,11,21,6,20,1,6,6,6,9,6,6,6,6,6,6,17,20,21,12,6,6,6,11,5,6,6,21,11,20,26,14,21,12,6,6,11,17,24,6,6,6,23,9,7,8,6,6,20,6,1,19,6,0,23,12,6,6,23,18,6,11,6,6,12,6,4,20,20,23,6,6,17,11,15,6,0,11,28,11,6,12,6,8,6,21,6,23,14,12,24,23,24,1,6,12,20,6,16,6,6,6,6,6,10,6,6,27,6,24,6,23,15,6,1,6,11,12,26,6,6,6,6,6,3,6,11,6,6,11,6,12,6,21,6,21,24,6,11,6,6,11,4,15,6,24,6,9,11,10,17,6,6,12,1,6,6,6,6,6,11,6,9,5,6,6,6,6,20,6,6,6,22,12,6,12,6,11,6,6,6,7,14,6,6,6,6,6,6,9,12,12,6,6,6,6,17,12,1,6,6,6,28,11,6,6,11,6,21,16,6,6,11,1,6,6,1,6,6,6,4,24,6,6,6,4,16,6,6,6,3,6,24,6,6,6,6,18,0,9,6,6,6,1,21,6,6,9,10,24,6,6,6,6,24,20,6,6,6,6,6,6,11,6,21,6,6,6,12,6,11,17,6,6,6,6,6,11,15,6,6,6,6,11,0,4,6,1,11,21,6,24,12,21,4,6,21,24,9,23,6,6,15,6,6,6,6,6,1,6,24,12,12,6,6,6,6,24,6,25,1,11,23,28,11,11,6,6,4,6,9,6,6,6,9,6,24,6,18,10,26,21,9,6,12,4,21,9,6,6,6,6,6,6,6,1,12,20,24,6,6,6,19,6,6,6,11,17,6,6,21,12,27,6,6,6,6,6,23,11,11,6,11,6,6,6,6,20,8,6,6,6,6,1,6,10,6,12,7,6,6,6,6,21,6,24,6,6,6,17,6,12,12,25,0,4,21,18,6,6,6,6,16,6,6,7,11,6,6,6,6,6,11,6,6,0,15,11,6,11,28,6,6,19,10,22,6,11,6,11,0,6,0,6,1,6,22,6,12,6,6,6,6,14,6,20,6,14,24,6,6,24,6,12,6,24,6,6,6,11,6,15,11,6,24,19,6,6,6,9,6,6,1,6,11,6,6,11,21,6,11,6,20,6,1,12,4,11,6,6,23,6,4,11,0,5,6,6,6,6,6,11,23,6,6,6,21,15,6,6,6,6,6,6,6,6,11,0,6,17,6,11,6,6,6,28,6,6,23,15,6,11,6,6,6,6,9,6,6,6,6,6,6,11,28,6,6,6,6,6,6,8,6,6,6,1,6,6,6,24,24,6,6,6,6,24,20,6,18,6,6,6,6,18,6,6,12,6,6,12,6,6,21,6,6,24,6,6,6,11,6,6,6,4,15,29,6,6,6,11,12,6,17,6,6,21,22,15,6,6,6,6,24,16,20,6,6,6,11,11,23,6,6,6,6,10,6,6,6,6,6,6,6,6,17,0,6,12,6,6,6,6,6,6,6,6,6,23,6,3,6,28,2,12,6,6,21,6,6,17,6,11,6,5,23,6,19,6,12,6,6,9,6,6,6,6,6,17,6,6,6,0,6,23,6,6,6,6,6,6,12,14,26,24,6,6,24,6,6,6,6,6,6,21,6,6,6,6,23,11,6,6,11,12,6,0,6,6,10,17,6,6,9,6,11,11,6,24,21,6,0,6,6,19,11,6,0,6,15,3,18,23,6,6,15,28,21,23,21,6,18,6,6,6,3,6,6,6,20,23,6,11,6,6,12,11,6,1,6,20,6,24,6,1,6,17,14,20,23,6,6,6,20,6,6,6,6,6,6,22,12,6,7,20,6,6,6,6,6,24,6,24,6,20,9,6,6,6,6,15,1,6,6,6,6,6,6,6,6,16,6,6,15,6,6,4,6,12,6,6,6,6,11,6,6,21,6,6,6,6,6,6,12,6,6,10,6,6,22,6,6,12,6,11,6,23,6,6,6,6,5,23,6,6,6,15,6,6,12,9,21,15,6,17,6,1,0,6,6,10,6,6,6,6,15,11,11,6,6,6,6,23,24,6,24,6,6,11,6,22,24,24,6,24,6,6,6,14,12,24,6,12,6,6,0,6,18,1,10,4,14,6,6,6,6,14,19,24,12,27,6,6,6,1,6,1,20,6,6,6,23,6,6,21,11,15,28,6],\"level_0\":[0,1,2,3,4,5,6,7,8,9,10,11,12,13,14,15,16,17,18,19,20,21,22,23,24,25,26,27,28,29,30,31,32,33,34,35,36,37,38,39,40,41,42,43,44,45,46,47,48,49,50,51,52,53,54,55,56,57,58,59,60,61,62,63,64,65,66,67,68,69,70,71,72,73,74,75,76,77,78,79,80,81,82,83,84,85,86,87,88,89,90,91,92,93,94,95,96,97,98,99,100,101,102,103,104,105,106,107,108,109,110,111,112,113,114,115,116,117,118,119,120,121,122,123,124,125,126,127,128,129,130,131,132,133,134,135,136,137,138,139,140,141,142,143,144,145,146,147,148,149,150,151,152,153,154,155,156,157,158,159,160,161,162,163,164,165,166,167,168,169,170,171,172,173,174,175,176,177,178,179,180,181,182,183,184,185,186,187,188,189,190,191,192,193,194,195,196,197,198,199,200,201,202,203,204,205,206,207,208,209,210,211,212,213,214,215,216,217,218,219,220,221,222,223,224,225,226,227,228,229,230,231,232,233,234,235,236,237,238,239,240,241,242,243,244,245,246,247,248,249,250,251,252,253,254,255,256,257,258,259,260,261,262,263,264,265,266,267,268,269,270,271,272,273,274,275,276,277,278,279,280,281,282,283,284,285,286,287,288,289,290,291,292,293,294,295,296,297,298,299,300,301,302,303,304,305,306,307,308,309,310,311,312,313,314,315,316,317,318,319,320,321,322,323,324,325,326,327,328,329,330,331,332,333,334,335,336,337,338,339,340,341,342,343,344,345,346,347,348,349,350,351,352,353,354,355,356,357,358,359,360,361,362,363,364,365,366,367,368,369,370,371,372,373,374,375,376,377,378,379,380,381,382,383,384,385,386,387,388,389,390,391,392,393,394,395,396,397,398,399,400,401,402,403,404,405,406,407,408,409,410,411,412,413,414,415,416,417,418,419,420,421,422,423,424,425,426,427,428,429,430,431,432,433,434,435,436,437,438,439,440,441,442,443,444,445,446,447,448,449,450,451,452,453,454,455,456,457,458,459,460,461,462,463,464,465,466,467,468,469,470,471,472,473,474,475,476,477,478,479,480,481,482,483,484,485,486,487,488,489,490,491,492,493,494,495,496,497,498,499,500,501,502,503,504,505,506,507,508,509,510,511,512,513,514,515,516,517,518,519,520,521,522,523,524,525,526,527,528,529,530,531,532,533,534,535,536,537,538,539,540,541,542,543,544,545,546,547,548,549,550,551,552,553,554,555,556,557,558,559,560,561,562,563,564,565,566,567,568,569,570,571,572,573,574,575,576,577,578,579,580,581,582,583,584,585,586,587,588,589,590,591,592,593,594,595,596,597,598,599,600,601,602,603,604,605,606,607,608,609,610,611,612,613,614,615,616,617,618,619,620,621,622,623,624,625,626,627,628,629,630,631,632,633,634,635,636,637,638,639,640,641,642,643,644,645,646,647,648,649,650,651,652,653,654,655,656,657,658,659,660,661,662,663,664,665,666,667,668,669,670,671,672,673,674,675,676,677,678,679,680,681,682,683,684,685,686,687,688,689,690,691,692,693,694,695,696,697,698,699,700,701,702,703,704,705,706,707,708,709,710,711,712,713,714,715,716,717,718,719,720,721,722,723,724,725,726,727,728,729,730,731,732,733,734,735,736,737,738,739,740,741,742,743,744,745,746,747,748,749,750,751,752,753,754,755,756,757,758,759,760,761,762,763,764,765,766,767,768,769,770,771,772,773,774,775,776,777,778,779,780,781,782,783,784,785,786,787,788,789,790,791,792,793,794,795,796,797,798,799,800,801,802,803,804,805,806,807,808,809,810,811,812,813,814,815,816,817,818,819,820,821,822,823,824,825,826,827,828,829,830,831,832,833,834,835,836,837,838,839,840,841,842,843,844,845,846,847,848,849,850,851,852,853,854,855,856,857,858,859,860,861,862,863,864,865,866,867,868,869,870,871,872,873,874,875,876,877,878,879,880,881,882,883,884,885,886,887,888,889,890,891,892,893,894,895,896,897,898,899,900,901,902,903,904,905,906,907,908,909,910,911,912,913,914,915,916,917,918,919,920,921,922,923,924,925,926,927,928,929,930,931,932,933,934,935,936,937,938,939,940,941,942,943,944,945,946,947,948,949,950,951,952,953,954,955,956,957,958,959,960,961,962,963,964,965,966,967,968,969,970,971,972,973,974,975,976,977,978,979,980,981,982,983,984,985,986,987,988,989,990,991,992,993,994,995,996,997,998,999,1000,1001,1002,1003,1004,1005,1006,1007,1008,1009,1010,1011,1012,1013,1014,1015,1016,1017,1018,1019,1020,1021,1022,1023,1024,1025,1026,1027,1028,1029,1030,1031,1032,1033,1034,1035,1036,1037,1038,1039,1040,1041,1042,1043,1044,1045,1046,1047,1048,1049,1050,1051,1052,1053,1054,1055,1056,1057,1058,1059,1060,1061,1062,1063,1064,1065,1066,1067,1068,1069,1070,1071,1072,1073,1074,1075,1076,1077,1078,1079,1080,1081,1082,1083,1084,1085,1086,1087,1088,1089,1090,1091,1092,1093,1094,1095,1096,1097,1098,1099,1100,1101,1102,1103,1104,1105,1106,1107,1108,1109,1110,1111,1112,1113,1114,1115,1116,1117,1118,1119,1120,1121,1122,1123,1124,1125,1126,1127,1128,1129,1130,1131,1132,1133,1134,1135,1136,1137,1138,1139,1140,1141,1142,1143,1144,1145,1146,1147,1148,1149,1150,1151,1152,1153,1154,1155,1156,1157,1158,1159,1160,1161,1162,1163,1164,1165,1166,1167,1168,1169,1170,1171,1172,1173,1174,1175,1176,1177,1178,1179,1180,1181,1182,1183,1184,1185,1186,1187,1188,1189,1190,1191,1192,1193,1194,1195,1196,1197,1198,1199,1200,1201,1202,1203,1204,1205,1206,1207,1208,1209,1210,1211,1212,1213,1214,1215,1216,1217,1218,1219,1220,1221,1222,1223,1224,1225,1226,1227,1228,1229,1230,1231,1232,1233,1234,1235,1236,1237,1238,1239,1240,1241,1242,1243,1244,1245,1246,1247,1248,1249,1250,1251,1252,1253,1254,1255,1256,1257,1258,1259,1260,1261,1262,1263,1264,1265,1266,1267,1268,1269,1270,1271,1272,1273,1274,1275,1276,1277,1278,1279,1280,1281,1282,1283,1284,1285,1286,1287,1288,1289,1290,1291,1292,1293,1294,1295,1296,1297,1298,1299,1300,1301,1302,1303,1304,1305,1306,1307,1308,1309,1310,1311,1312,1313,1314,1315,1316,1317,1318],\"x\":{\"__ndarray__\":\"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\",\"dtype\":\"float32\",\"order\":\"little\",\"shape\":[1319]},\"y\":{\"__ndarray__\":\"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\",\"dtype\":\"float32\",\"order\":\"little\",\"shape\":[1319]}},\"selected\":{\"id\":\"1048\"},\"selection_policy\":{\"id\":\"1047\"}},\"id\":\"1001\",\"type\":\"ColumnDataSource\"}],\"root_ids\":[\"1002\"]},\"title\":\"Bokeh Application\",\"version\":\"2.1.0\"}};\n",
       "  var render_items = [{\"docid\":\"fb3ed92e-9f1a-44ba-8dce-52a846fc4f2d\",\"root_ids\":[\"1002\"],\"roots\":{\"1002\":\"19a46953-bc44-4e44-8207-fe83fa4f8aa7\"}}];\n",
       "  root.Bokeh.embed.embed_items_notebook(docs_json, render_items);\n",
       "\n",
       "  }\n",
       "  if (root.Bokeh !== undefined) {\n",
       "    embed_document(root);\n",
       "  } else {\n",
       "    var attempts = 0;\n",
       "    var timer = setInterval(function(root) {\n",
       "      if (root.Bokeh !== undefined) {\n",
       "        clearInterval(timer);\n",
       "        embed_document(root);\n",
       "      } else {\n",
       "        attempts++;\n",
       "        if (attempts > 100) {\n",
       "          clearInterval(timer);\n",
       "          console.log(\"Bokeh: ERROR: Unable to run BokehJS code because BokehJS library is missing\");\n",
       "        }\n",
       "      }\n",
       "    }, 10, root)\n",
       "  }\n",
       "})(window);"
      ],
      "application/vnd.bokehjs_exec.v0+json": ""
     },
     "metadata": {
      "application/vnd.bokehjs_exec.v0+json": {
       "id": "1002"
      }
     },
     "output_type": "display_data"
    }
   ],
   "source": [
    "from bokeh.plotting import show, save, output_notebook, output_file\n",
    "\n",
    "p = umap.plot.interactive(valid_mapper, labels=validation_labels, hover_data=hover_data,point_size=5)\n",
    "output_notebook()\n",
    "show(p)"
   ]
  },
  {
   "cell_type": "code",
   "execution_count": 45,
   "metadata": {},
   "outputs": [
    {
     "data": {
      "text/plain": [
       "(5275, 800, 768)"
      ]
     },
     "execution_count": 45,
     "metadata": {},
     "output_type": "execute_result"
    }
   ],
   "source": [
    "TAPEncoded_train.shape"
   ]
  },
  {
   "cell_type": "code",
   "execution_count": 46,
   "metadata": {},
   "outputs": [
    {
     "data": {
      "text/html": [
       "\n",
       "    <div class=\"bk-root\">\n",
       "        <a href=\"https://bokeh.org\" target=\"_blank\" class=\"bk-logo bk-logo-small bk-logo-notebook\"></a>\n",
       "        <span id=\"1143\">Loading BokehJS ...</span>\n",
       "    </div>"
      ]
     },
     "metadata": {},
     "output_type": "display_data"
    },
    {
     "data": {
      "application/javascript": [
       "\n",
       "(function(root) {\n",
       "  function now() {\n",
       "    return new Date();\n",
       "  }\n",
       "\n",
       "  var force = true;\n",
       "\n",
       "  if (typeof root._bokeh_onload_callbacks === \"undefined\" || force === true) {\n",
       "    root._bokeh_onload_callbacks = [];\n",
       "    root._bokeh_is_loading = undefined;\n",
       "  }\n",
       "\n",
       "  var JS_MIME_TYPE = 'application/javascript';\n",
       "  var HTML_MIME_TYPE = 'text/html';\n",
       "  var EXEC_MIME_TYPE = 'application/vnd.bokehjs_exec.v0+json';\n",
       "  var CLASS_NAME = 'output_bokeh rendered_html';\n",
       "\n",
       "  /**\n",
       "   * Render data to the DOM node\n",
       "   */\n",
       "  function render(props, node) {\n",
       "    var script = document.createElement(\"script\");\n",
       "    node.appendChild(script);\n",
       "  }\n",
       "\n",
       "  /**\n",
       "   * Handle when an output is cleared or removed\n",
       "   */\n",
       "  function handleClearOutput(event, handle) {\n",
       "    var cell = handle.cell;\n",
       "\n",
       "    var id = cell.output_area._bokeh_element_id;\n",
       "    var server_id = cell.output_area._bokeh_server_id;\n",
       "    // Clean up Bokeh references\n",
       "    if (id != null && id in Bokeh.index) {\n",
       "      Bokeh.index[id].model.document.clear();\n",
       "      delete Bokeh.index[id];\n",
       "    }\n",
       "\n",
       "    if (server_id !== undefined) {\n",
       "      // Clean up Bokeh references\n",
       "      var cmd = \"from bokeh.io.state import curstate; print(curstate().uuid_to_server['\" + server_id + \"'].get_sessions()[0].document.roots[0]._id)\";\n",
       "      cell.notebook.kernel.execute(cmd, {\n",
       "        iopub: {\n",
       "          output: function(msg) {\n",
       "            var id = msg.content.text.trim();\n",
       "            if (id in Bokeh.index) {\n",
       "              Bokeh.index[id].model.document.clear();\n",
       "              delete Bokeh.index[id];\n",
       "            }\n",
       "          }\n",
       "        }\n",
       "      });\n",
       "      // Destroy server and session\n",
       "      var cmd = \"import bokeh.io.notebook as ion; ion.destroy_server('\" + server_id + \"')\";\n",
       "      cell.notebook.kernel.execute(cmd);\n",
       "    }\n",
       "  }\n",
       "\n",
       "  /**\n",
       "   * Handle when a new output is added\n",
       "   */\n",
       "  function handleAddOutput(event, handle) {\n",
       "    var output_area = handle.output_area;\n",
       "    var output = handle.output;\n",
       "\n",
       "    // limit handleAddOutput to display_data with EXEC_MIME_TYPE content only\n",
       "    if ((output.output_type != \"display_data\") || (!output.data.hasOwnProperty(EXEC_MIME_TYPE))) {\n",
       "      return\n",
       "    }\n",
       "\n",
       "    var toinsert = output_area.element.find(\".\" + CLASS_NAME.split(' ')[0]);\n",
       "\n",
       "    if (output.metadata[EXEC_MIME_TYPE][\"id\"] !== undefined) {\n",
       "      toinsert[toinsert.length - 1].firstChild.textContent = output.data[JS_MIME_TYPE];\n",
       "      // store reference to embed id on output_area\n",
       "      output_area._bokeh_element_id = output.metadata[EXEC_MIME_TYPE][\"id\"];\n",
       "    }\n",
       "    if (output.metadata[EXEC_MIME_TYPE][\"server_id\"] !== undefined) {\n",
       "      var bk_div = document.createElement(\"div\");\n",
       "      bk_div.innerHTML = output.data[HTML_MIME_TYPE];\n",
       "      var script_attrs = bk_div.children[0].attributes;\n",
       "      for (var i = 0; i < script_attrs.length; i++) {\n",
       "        toinsert[toinsert.length - 1].firstChild.setAttribute(script_attrs[i].name, script_attrs[i].value);\n",
       "        toinsert[toinsert.length - 1].firstChild.textContent = bk_div.children[0].textContent\n",
       "      }\n",
       "      // store reference to server id on output_area\n",
       "      output_area._bokeh_server_id = output.metadata[EXEC_MIME_TYPE][\"server_id\"];\n",
       "    }\n",
       "  }\n",
       "\n",
       "  function register_renderer(events, OutputArea) {\n",
       "\n",
       "    function append_mime(data, metadata, element) {\n",
       "      // create a DOM node to render to\n",
       "      var toinsert = this.create_output_subarea(\n",
       "        metadata,\n",
       "        CLASS_NAME,\n",
       "        EXEC_MIME_TYPE\n",
       "      );\n",
       "      this.keyboard_manager.register_events(toinsert);\n",
       "      // Render to node\n",
       "      var props = {data: data, metadata: metadata[EXEC_MIME_TYPE]};\n",
       "      render(props, toinsert[toinsert.length - 1]);\n",
       "      element.append(toinsert);\n",
       "      return toinsert\n",
       "    }\n",
       "\n",
       "    /* Handle when an output is cleared or removed */\n",
       "    events.on('clear_output.CodeCell', handleClearOutput);\n",
       "    events.on('delete.Cell', handleClearOutput);\n",
       "\n",
       "    /* Handle when a new output is added */\n",
       "    events.on('output_added.OutputArea', handleAddOutput);\n",
       "\n",
       "    /**\n",
       "     * Register the mime type and append_mime function with output_area\n",
       "     */\n",
       "    OutputArea.prototype.register_mime_type(EXEC_MIME_TYPE, append_mime, {\n",
       "      /* Is output safe? */\n",
       "      safe: true,\n",
       "      /* Index of renderer in `output_area.display_order` */\n",
       "      index: 0\n",
       "    });\n",
       "  }\n",
       "\n",
       "  // register the mime type if in Jupyter Notebook environment and previously unregistered\n",
       "  if (root.Jupyter !== undefined) {\n",
       "    var events = require('base/js/events');\n",
       "    var OutputArea = require('notebook/js/outputarea').OutputArea;\n",
       "\n",
       "    if (OutputArea.prototype.mime_types().indexOf(EXEC_MIME_TYPE) == -1) {\n",
       "      register_renderer(events, OutputArea);\n",
       "    }\n",
       "  }\n",
       "\n",
       "  \n",
       "  if (typeof (root._bokeh_timeout) === \"undefined\" || force === true) {\n",
       "    root._bokeh_timeout = Date.now() + 5000;\n",
       "    root._bokeh_failed_load = false;\n",
       "  }\n",
       "\n",
       "  var NB_LOAD_WARNING = {'data': {'text/html':\n",
       "     \"<div style='background-color: #fdd'>\\n\"+\n",
       "     \"<p>\\n\"+\n",
       "     \"BokehJS does not appear to have successfully loaded. If loading BokehJS from CDN, this \\n\"+\n",
       "     \"may be due to a slow or bad network connection. Possible fixes:\\n\"+\n",
       "     \"</p>\\n\"+\n",
       "     \"<ul>\\n\"+\n",
       "     \"<li>re-rerun `output_notebook()` to attempt to load from CDN again, or</li>\\n\"+\n",
       "     \"<li>use INLINE resources instead, as so:</li>\\n\"+\n",
       "     \"</ul>\\n\"+\n",
       "     \"<code>\\n\"+\n",
       "     \"from bokeh.resources import INLINE\\n\"+\n",
       "     \"output_notebook(resources=INLINE)\\n\"+\n",
       "     \"</code>\\n\"+\n",
       "     \"</div>\"}};\n",
       "\n",
       "  function display_loaded() {\n",
       "    var el = document.getElementById(\"1143\");\n",
       "    if (el != null) {\n",
       "      el.textContent = \"BokehJS is loading...\";\n",
       "    }\n",
       "    if (root.Bokeh !== undefined) {\n",
       "      if (el != null) {\n",
       "        el.textContent = \"BokehJS \" + root.Bokeh.version + \" successfully loaded.\";\n",
       "      }\n",
       "    } else if (Date.now() < root._bokeh_timeout) {\n",
       "      setTimeout(display_loaded, 100)\n",
       "    }\n",
       "  }\n",
       "\n",
       "\n",
       "  function run_callbacks() {\n",
       "    try {\n",
       "      root._bokeh_onload_callbacks.forEach(function(callback) {\n",
       "        if (callback != null)\n",
       "          callback();\n",
       "      });\n",
       "    } finally {\n",
       "      delete root._bokeh_onload_callbacks\n",
       "    }\n",
       "    console.debug(\"Bokeh: all callbacks have finished\");\n",
       "  }\n",
       "\n",
       "  function load_libs(css_urls, js_urls, callback) {\n",
       "    if (css_urls == null) css_urls = [];\n",
       "    if (js_urls == null) js_urls = [];\n",
       "\n",
       "    root._bokeh_onload_callbacks.push(callback);\n",
       "    if (root._bokeh_is_loading > 0) {\n",
       "      console.debug(\"Bokeh: BokehJS is being loaded, scheduling callback at\", now());\n",
       "      return null;\n",
       "    }\n",
       "    if (js_urls == null || js_urls.length === 0) {\n",
       "      run_callbacks();\n",
       "      return null;\n",
       "    }\n",
       "    console.debug(\"Bokeh: BokehJS not loaded, scheduling load and callback at\", now());\n",
       "    root._bokeh_is_loading = css_urls.length + js_urls.length;\n",
       "\n",
       "    function on_load() {\n",
       "      root._bokeh_is_loading--;\n",
       "      if (root._bokeh_is_loading === 0) {\n",
       "        console.debug(\"Bokeh: all BokehJS libraries/stylesheets loaded\");\n",
       "        run_callbacks()\n",
       "      }\n",
       "    }\n",
       "\n",
       "    function on_error() {\n",
       "      console.error(\"failed to load \" + url);\n",
       "    }\n",
       "\n",
       "    for (var i = 0; i < css_urls.length; i++) {\n",
       "      var url = css_urls[i];\n",
       "      const element = document.createElement(\"link\");\n",
       "      element.onload = on_load;\n",
       "      element.onerror = on_error;\n",
       "      element.rel = \"stylesheet\";\n",
       "      element.type = \"text/css\";\n",
       "      element.href = url;\n",
       "      console.debug(\"Bokeh: injecting link tag for BokehJS stylesheet: \", url);\n",
       "      document.body.appendChild(element);\n",
       "    }\n",
       "\n",
       "    const hashes = {\"https://cdn.bokeh.org/bokeh/release/bokeh-2.1.0.min.js\": \"YobFyzPeVUsFQydHkJGsJL1kyfHnWxOlPc3EwaV22TmBaeGoXHLWx5aRRVPS9xlE\", \"https://cdn.bokeh.org/bokeh/release/bokeh-widgets-2.1.0.min.js\": \"NuAg9+TcTQQqvQCTtkCneRrpkTiMhhfiq0KHiBzx8ECiKiLWXHN6i6ia3q7b3eHu\", \"https://cdn.bokeh.org/bokeh/release/bokeh-tables-2.1.0.min.js\": \"uMVqQc8JqHitD67bXTn9a06Mrk3EiHRaZ18EJENQenAKJ/KL71SakdXYomZQpGRr\", \"https://cdn.bokeh.org/bokeh/release/bokeh-gl-2.1.0.min.js\": \"u+eGuEXC8aw0VSCm2mH+b/tQEAitUOYiR1H6SuIVEdUmXsf4vN8m/SmXpmjb7U/X\"};\n",
       "\n",
       "    for (var i = 0; i < js_urls.length; i++) {\n",
       "      var url = js_urls[i];\n",
       "      var element = document.createElement('script');\n",
       "      element.onload = on_load;\n",
       "      element.onerror = on_error;\n",
       "      element.async = false;\n",
       "      element.src = url;\n",
       "      if (url in hashes) {\n",
       "        element.crossOrigin = \"anonymous\";\n",
       "        element.integrity = \"sha384-\" + hashes[url];\n",
       "      }\n",
       "      console.debug(\"Bokeh: injecting script tag for BokehJS library: \", url);\n",
       "      document.head.appendChild(element);\n",
       "    }\n",
       "  };\n",
       "\n",
       "  function inject_raw_css(css) {\n",
       "    const element = document.createElement(\"style\");\n",
       "    element.appendChild(document.createTextNode(css));\n",
       "    document.body.appendChild(element);\n",
       "  }\n",
       "\n",
       "  \n",
       "  var js_urls = [\"https://cdn.bokeh.org/bokeh/release/bokeh-2.1.0.min.js\", \"https://cdn.bokeh.org/bokeh/release/bokeh-widgets-2.1.0.min.js\", \"https://cdn.bokeh.org/bokeh/release/bokeh-tables-2.1.0.min.js\", \"https://cdn.bokeh.org/bokeh/release/bokeh-gl-2.1.0.min.js\", \"https://unpkg.com/@holoviz/panel@^0.9.5/dist/panel.min.js\"];\n",
       "  var css_urls = [];\n",
       "  \n",
       "\n",
       "  var inline_js = [\n",
       "    function(Bokeh) {\n",
       "      inject_raw_css(\"table.panel-df {\\n    margin-left: auto;\\n    margin-right: auto;\\n    border: none;\\n    border-collapse: collapse;\\n    border-spacing: 0;\\n    color: black;\\n    font-size: 12px;\\n    table-layout: fixed;\\n    width: 100%;\\n}\\n\\n.panel-df tr, th, td {\\n    text-align: right;\\n    vertical-align: middle;\\n    padding: 0.5em 0.5em !important;\\n    line-height: normal;\\n    white-space: normal;\\n    max-width: none;\\n    border: none;\\n}\\n\\n.panel-df tbody {\\n    display: table-row-group;\\n    vertical-align: middle;\\n    border-color: inherit;\\n}\\n\\n.panel-df tbody tr:nth-child(odd) {\\n    background: #f5f5f5;\\n}\\n\\n.panel-df thead {\\n    border-bottom: 1px solid black;\\n    vertical-align: bottom;\\n}\\n\\n.panel-df tr:hover {\\n    background: lightblue !important;\\n    cursor: pointer;\\n}\\n\");\n",
       "    },\n",
       "    function(Bokeh) {\n",
       "      inject_raw_css(\".json-formatter-row {\\n  font-family: monospace;\\n}\\n.json-formatter-row,\\n.json-formatter-row a,\\n.json-formatter-row a:hover {\\n  color: black;\\n  text-decoration: none;\\n}\\n.json-formatter-row .json-formatter-row {\\n  margin-left: 1rem;\\n}\\n.json-formatter-row .json-formatter-children.json-formatter-empty {\\n  opacity: 0.5;\\n  margin-left: 1rem;\\n}\\n.json-formatter-row .json-formatter-children.json-formatter-empty:after {\\n  display: none;\\n}\\n.json-formatter-row .json-formatter-children.json-formatter-empty.json-formatter-object:after {\\n  content: \\\"No properties\\\";\\n}\\n.json-formatter-row .json-formatter-children.json-formatter-empty.json-formatter-array:after {\\n  content: \\\"[]\\\";\\n}\\n.json-formatter-row .json-formatter-string,\\n.json-formatter-row .json-formatter-stringifiable {\\n  color: green;\\n  white-space: pre;\\n  word-wrap: break-word;\\n}\\n.json-formatter-row .json-formatter-number {\\n  color: blue;\\n}\\n.json-formatter-row .json-formatter-boolean {\\n  color: red;\\n}\\n.json-formatter-row .json-formatter-null {\\n  color: #855A00;\\n}\\n.json-formatter-row .json-formatter-undefined {\\n  color: #ca0b69;\\n}\\n.json-formatter-row .json-formatter-function {\\n  color: #FF20ED;\\n}\\n.json-formatter-row .json-formatter-date {\\n  background-color: rgba(0, 0, 0, 0.05);\\n}\\n.json-formatter-row .json-formatter-url {\\n  text-decoration: underline;\\n  color: blue;\\n  cursor: pointer;\\n}\\n.json-formatter-row .json-formatter-bracket {\\n  color: blue;\\n}\\n.json-formatter-row .json-formatter-key {\\n  color: #00008B;\\n  padding-right: 0.2rem;\\n}\\n.json-formatter-row .json-formatter-toggler-link {\\n  cursor: pointer;\\n}\\n.json-formatter-row .json-formatter-toggler {\\n  line-height: 1.2rem;\\n  font-size: 0.7rem;\\n  vertical-align: middle;\\n  opacity: 0.6;\\n  cursor: pointer;\\n  padding-right: 0.2rem;\\n}\\n.json-formatter-row .json-formatter-toggler:after {\\n  display: inline-block;\\n  transition: transform 100ms ease-in;\\n  content: \\\"\\\\25BA\\\";\\n}\\n.json-formatter-row > a > .json-formatter-preview-text {\\n  opacity: 0;\\n  transition: opacity 0.15s ease-in;\\n  font-style: italic;\\n}\\n.json-formatter-row:hover > a > .json-formatter-preview-text {\\n  opacity: 0.6;\\n}\\n.json-formatter-row.json-formatter-open > .json-formatter-toggler-link .json-formatter-toggler:after {\\n  transform: rotate(90deg);\\n}\\n.json-formatter-row.json-formatter-open > .json-formatter-children:after {\\n  display: inline-block;\\n}\\n.json-formatter-row.json-formatter-open > a > .json-formatter-preview-text {\\n  display: none;\\n}\\n.json-formatter-row.json-formatter-open.json-formatter-empty:after {\\n  display: block;\\n}\\n.json-formatter-dark.json-formatter-row {\\n  font-family: monospace;\\n}\\n.json-formatter-dark.json-formatter-row,\\n.json-formatter-dark.json-formatter-row a,\\n.json-formatter-dark.json-formatter-row a:hover {\\n  color: white;\\n  text-decoration: none;\\n}\\n.json-formatter-dark.json-formatter-row .json-formatter-row {\\n  margin-left: 1rem;\\n}\\n.json-formatter-dark.json-formatter-row .json-formatter-children.json-formatter-empty {\\n  opacity: 0.5;\\n  margin-left: 1rem;\\n}\\n.json-formatter-dark.json-formatter-row .json-formatter-children.json-formatter-empty:after {\\n  display: none;\\n}\\n.json-formatter-dark.json-formatter-row .json-formatter-children.json-formatter-empty.json-formatter-object:after {\\n  content: \\\"No properties\\\";\\n}\\n.json-formatter-dark.json-formatter-row .json-formatter-children.json-formatter-empty.json-formatter-array:after {\\n  content: \\\"[]\\\";\\n}\\n.json-formatter-dark.json-formatter-row .json-formatter-string,\\n.json-formatter-dark.json-formatter-row .json-formatter-stringifiable {\\n  color: #31F031;\\n  white-space: pre;\\n  word-wrap: break-word;\\n}\\n.json-formatter-dark.json-formatter-row .json-formatter-number {\\n  color: #66C2FF;\\n}\\n.json-formatter-dark.json-formatter-row .json-formatter-boolean {\\n  color: #EC4242;\\n}\\n.json-formatter-dark.json-formatter-row .json-formatter-null {\\n  color: #EEC97D;\\n}\\n.json-formatter-dark.json-formatter-row .json-formatter-undefined {\\n  color: #ef8fbe;\\n}\\n.json-formatter-dark.json-formatter-row .json-formatter-function {\\n  color: #FD48CB;\\n}\\n.json-formatter-dark.json-formatter-row .json-formatter-date {\\n  background-color: rgba(255, 255, 255, 0.05);\\n}\\n.json-formatter-dark.json-formatter-row .json-formatter-url {\\n  text-decoration: underline;\\n  color: #027BFF;\\n  cursor: pointer;\\n}\\n.json-formatter-dark.json-formatter-row .json-formatter-bracket {\\n  color: #9494FF;\\n}\\n.json-formatter-dark.json-formatter-row .json-formatter-key {\\n  color: #23A0DB;\\n  padding-right: 0.2rem;\\n}\\n.json-formatter-dark.json-formatter-row .json-formatter-toggler-link {\\n  cursor: pointer;\\n}\\n.json-formatter-dark.json-formatter-row .json-formatter-toggler {\\n  line-height: 1.2rem;\\n  font-size: 0.7rem;\\n  vertical-align: middle;\\n  opacity: 0.6;\\n  cursor: pointer;\\n  padding-right: 0.2rem;\\n}\\n.json-formatter-dark.json-formatter-row .json-formatter-toggler:after {\\n  display: inline-block;\\n  transition: transform 100ms ease-in;\\n  content: \\\"\\\\25BA\\\";\\n}\\n.json-formatter-dark.json-formatter-row > a > .json-formatter-preview-text {\\n  opacity: 0;\\n  transition: opacity 0.15s ease-in;\\n  font-style: italic;\\n}\\n.json-formatter-dark.json-formatter-row:hover > a > .json-formatter-preview-text {\\n  opacity: 0.6;\\n}\\n.json-formatter-dark.json-formatter-row.json-formatter-open > .json-formatter-toggler-link .json-formatter-toggler:after {\\n  transform: rotate(90deg);\\n}\\n.json-formatter-dark.json-formatter-row.json-formatter-open > .json-formatter-children:after {\\n  display: inline-block;\\n}\\n.json-formatter-dark.json-formatter-row.json-formatter-open > a > .json-formatter-preview-text {\\n  display: none;\\n}\\n.json-formatter-dark.json-formatter-row.json-formatter-open.json-formatter-empty:after {\\n  display: block;\\n}\\n\");\n",
       "    },\n",
       "    function(Bokeh) {\n",
       "      inject_raw_css(\".codehilite .hll { background-color: #ffffcc }\\n.codehilite  { background: #f8f8f8; }\\n.codehilite .c { color: #408080; font-style: italic } /* Comment */\\n.codehilite .err { border: 1px solid #FF0000 } /* Error */\\n.codehilite .k { color: #008000; font-weight: bold } /* Keyword */\\n.codehilite .o { color: #666666 } /* Operator */\\n.codehilite .ch { color: #408080; font-style: italic } /* Comment.Hashbang */\\n.codehilite .cm { color: #408080; font-style: italic } /* Comment.Multiline */\\n.codehilite .cp { color: #BC7A00 } /* Comment.Preproc */\\n.codehilite .cpf { color: #408080; font-style: italic } /* Comment.PreprocFile */\\n.codehilite .c1 { color: #408080; font-style: italic } /* Comment.Single */\\n.codehilite .cs { color: #408080; font-style: italic } /* Comment.Special */\\n.codehilite .gd { color: #A00000 } /* Generic.Deleted */\\n.codehilite .ge { font-style: italic } /* Generic.Emph */\\n.codehilite .gr { color: #FF0000 } /* Generic.Error */\\n.codehilite .gh { color: #000080; font-weight: bold } /* Generic.Heading */\\n.codehilite .gi { color: #00A000 } /* Generic.Inserted */\\n.codehilite .go { color: #888888 } /* Generic.Output */\\n.codehilite .gp { color: #000080; font-weight: bold } /* Generic.Prompt */\\n.codehilite .gs { font-weight: bold } /* Generic.Strong */\\n.codehilite .gu { color: #800080; font-weight: bold } /* Generic.Subheading */\\n.codehilite .gt { color: #0044DD } /* Generic.Traceback */\\n.codehilite .kc { color: #008000; font-weight: bold } /* Keyword.Constant */\\n.codehilite .kd { color: #008000; font-weight: bold } /* Keyword.Declaration */\\n.codehilite .kn { color: #008000; font-weight: bold } /* Keyword.Namespace */\\n.codehilite .kp { color: #008000 } /* Keyword.Pseudo */\\n.codehilite .kr { color: #008000; font-weight: bold } /* Keyword.Reserved */\\n.codehilite .kt { color: #B00040 } /* Keyword.Type */\\n.codehilite .m { color: #666666 } /* Literal.Number */\\n.codehilite .s { color: #BA2121 } /* Literal.String */\\n.codehilite .na { color: #7D9029 } /* Name.Attribute */\\n.codehilite .nb { color: #008000 } /* Name.Builtin */\\n.codehilite .nc { color: #0000FF; font-weight: bold } /* Name.Class */\\n.codehilite .no { color: #880000 } /* Name.Constant */\\n.codehilite .nd { color: #AA22FF } /* Name.Decorator */\\n.codehilite .ni { color: #999999; font-weight: bold } /* Name.Entity */\\n.codehilite .ne { color: #D2413A; font-weight: bold } /* Name.Exception */\\n.codehilite .nf { color: #0000FF } /* Name.Function */\\n.codehilite .nl { color: #A0A000 } /* Name.Label */\\n.codehilite .nn { color: #0000FF; font-weight: bold } /* Name.Namespace */\\n.codehilite .nt { color: #008000; font-weight: bold } /* Name.Tag */\\n.codehilite .nv { color: #19177C } /* Name.Variable */\\n.codehilite .ow { color: #AA22FF; font-weight: bold } /* Operator.Word */\\n.codehilite .w { color: #bbbbbb } /* Text.Whitespace */\\n.codehilite .mb { color: #666666 } /* Literal.Number.Bin */\\n.codehilite .mf { color: #666666 } /* Literal.Number.Float */\\n.codehilite .mh { color: #666666 } /* Literal.Number.Hex */\\n.codehilite .mi { color: #666666 } /* Literal.Number.Integer */\\n.codehilite .mo { color: #666666 } /* Literal.Number.Oct */\\n.codehilite .sa { color: #BA2121 } /* Literal.String.Affix */\\n.codehilite .sb { color: #BA2121 } /* Literal.String.Backtick */\\n.codehilite .sc { color: #BA2121 } /* Literal.String.Char */\\n.codehilite .dl { color: #BA2121 } /* Literal.String.Delimiter */\\n.codehilite .sd { color: #BA2121; font-style: italic } /* Literal.String.Doc */\\n.codehilite .s2 { color: #BA2121 } /* Literal.String.Double */\\n.codehilite .se { color: #BB6622; font-weight: bold } /* Literal.String.Escape */\\n.codehilite .sh { color: #BA2121 } /* Literal.String.Heredoc */\\n.codehilite .si { color: #BB6688; font-weight: bold } /* Literal.String.Interpol */\\n.codehilite .sx { color: #008000 } /* Literal.String.Other */\\n.codehilite .sr { color: #BB6688 } /* Literal.String.Regex */\\n.codehilite .s1 { color: #BA2121 } /* Literal.String.Single */\\n.codehilite .ss { color: #19177C } /* Literal.String.Symbol */\\n.codehilite .bp { color: #008000 } /* Name.Builtin.Pseudo */\\n.codehilite .fm { color: #0000FF } /* Name.Function.Magic */\\n.codehilite .vc { color: #19177C } /* Name.Variable.Class */\\n.codehilite .vg { color: #19177C } /* Name.Variable.Global */\\n.codehilite .vi { color: #19177C } /* Name.Variable.Instance */\\n.codehilite .vm { color: #19177C } /* Name.Variable.Magic */\\n.codehilite .il { color: #666666 } /* Literal.Number.Integer.Long */\\n\\n.markdown h1 { margin-block-start: 0.34em }\\n.markdown h2 { margin-block-start: 0.42em }\\n.markdown h3 { margin-block-start: 0.5em }\\n.markdown h4 { margin-block-start: 0.67em }\\n.markdown h5 { margin-block-start: 0.84em }\\n.markdown h6 { margin-block-start: 1.17em }\\n.markdown ul { padding-inline-start: 2em }\\n.markdown ol { padding-inline-start: 2em }\\n.markdown strong { font-weight: 600 }\\n.markdown a { color: -webkit-link }\\n.markdown a { color: -moz-hyperlinkText }\\n\");\n",
       "    },\n",
       "    function(Bokeh) {\n",
       "      inject_raw_css(\".widget-box {\\n\\tmin-height: 20px;\\n\\tbackground-color: #f5f5f5;\\n\\tborder: 1px solid #e3e3e3 !important;\\n\\tborder-radius: 4px;\\n\\t-webkit-box-shadow: inset 0 1px 1px rgba(0,0,0,.05);\\n\\tbox-shadow: inset 0 1px 1px rgba(0,0,0,.05);\\n\\toverflow-x: hidden;\\n\\toverflow-y: hidden;\\n}\\n\\n.scrollable {\\n  overflow: scroll;\\n}\\n\\nprogress {\\n\\tappearance: none;\\n\\t-moz-appearance: none;\\n\\t-webkit-appearance: none;\\n\\n\\tborder: none;\\n\\theight: 20px;\\n\\tbackground-color: whiteSmoke;\\n\\tborder-radius: 3px;\\n\\tbox-shadow: 0 2px 3px rgba(0,0,0,.5) inset;\\n\\tcolor: royalblue;\\n\\tposition: relative;\\n\\tmargin: 0 0 1.5em;\\n}\\n\\nprogress[value]::-webkit-progress-bar {\\n\\tbackground-color: whiteSmoke;\\n\\tborder-radius: 3px;\\n\\tbox-shadow: 0 2px 3px rgba(0,0,0,.5) inset;\\n}\\n\\nprogress[value]::-webkit-progress-value {\\n\\tposition: relative;\\n\\n\\tbackground-size: 35px 20px, 100% 100%, 100% 100%;\\n\\tborder-radius:3px;\\n}\\n\\nprogress.active:not([value])::before {\\n\\tbackground-position: 10%;\\n\\tanimation-name: stripes;\\n\\tanimation-duration: 3s;\\n\\tanimation-timing-function: linear;\\n\\tanimation-iteration-count: infinite;\\n}\\n\\nprogress[value]::-moz-progress-bar {\\n\\tbackground-size: 35px 20px, 100% 100%, 100% 100%;\\n\\tborder-radius:3px;\\n}\\n\\nprogress:not([value])::-moz-progress-bar {\\n\\tborder-radius:3px;\\n\\tbackground:\\n\\tlinear-gradient(-45deg, transparent 33%, rgba(0, 0, 0, 0.2) 33%, rgba(0, 0, 0, 0.2) 66%, transparent 66%) left/2.5em 1.5em;\\n\\n}\\n\\nprogress.active:not([value])::-moz-progress-bar {\\n\\tbackground-position: 10%;\\n\\tanimation-name: stripes;\\n\\tanimation-duration: 3s;\\n\\tanimation-timing-function: linear;\\n\\tanimation-iteration-count: infinite;\\n}\\n\\nprogress.active:not([value])::-webkit-progress-bar {\\n\\tbackground-position: 10%;\\n\\tanimation-name: stripes;\\n\\tanimation-duration: 3s;\\n\\tanimation-timing-function: linear;\\n\\tanimation-iteration-count: infinite;\\n}\\n\\nprogress.primary[value]::-webkit-progress-value { background-color: #007bff; }\\nprogress.primary:not([value])::before { background-color: #007bff; }\\nprogress.primary:not([value])::-webkit-progress-bar { background-color: #007bff; }\\nprogress.primary::-moz-progress-bar { background-color: #007bff; }\\n\\nprogress.secondary[value]::-webkit-progress-value { background-color: #6c757d; }\\nprogress.secondary:not([value])::before { background-color: #6c757d; }\\nprogress.secondary:not([value])::-webkit-progress-bar { background-color: #6c757d; }\\nprogress.secondary::-moz-progress-bar { background-color: #6c757d; }\\n\\nprogress.success[value]::-webkit-progress-value { background-color: #28a745; }\\nprogress.success:not([value])::before { background-color: #28a745; }\\nprogress.success:not([value])::-webkit-progress-bar { background-color: #28a745; }\\nprogress.success::-moz-progress-bar { background-color: #28a745; }\\n\\nprogress.danger[value]::-webkit-progress-value { background-color: #dc3545; }\\nprogress.danger:not([value])::before { background-color: #dc3545; }\\nprogress.danger:not([value])::-webkit-progress-bar { background-color: #dc3545; }\\nprogress.danger::-moz-progress-bar { background-color: #dc3545; }\\n\\nprogress.warning[value]::-webkit-progress-value { background-color: #ffc107; }\\nprogress.warning:not([value])::before { background-color: #ffc107; }\\nprogress.warning:not([value])::-webkit-progress-bar { background-color: #ffc107; }\\nprogress.warning::-moz-progress-bar { background-color: #ffc107; }\\n\\nprogress.info[value]::-webkit-progress-value { background-color: #17a2b8; }\\nprogress.info:not([value])::before { background-color: #17a2b8; }\\nprogress.info:not([value])::-webkit-progress-bar { background-color: #17a2b8; }\\nprogress.info::-moz-progress-bar { background-color: #17a2b8; }\\n\\nprogress.light[value]::-webkit-progress-value { background-color: #f8f9fa; }\\nprogress.light:not([value])::before { background-color: #f8f9fa; }\\nprogress.light:not([value])::-webkit-progress-bar { background-color: #f8f9fa; }\\nprogress.light::-moz-progress-bar { background-color: #f8f9fa; }\\n\\nprogress.dark[value]::-webkit-progress-value { background-color: #343a40; }\\nprogress.dark:not([value])::-webkit-progress-bar { background-color: #343a40; }\\nprogress.dark:not([value])::before { background-color: #343a40; }\\nprogress.dark::-moz-progress-bar { background-color: #343a40; }\\n\\nprogress:not([value])::-webkit-progress-bar {\\n\\tborder-radius: 3px;\\n\\tbackground:\\n\\tlinear-gradient(-45deg, transparent 33%, rgba(0, 0, 0, 0.2) 33%, rgba(0, 0, 0, 0.2) 66%, transparent 66%) left/2.5em 1.5em;\\n}\\nprogress:not([value])::before {\\n\\tcontent:\\\" \\\";\\n\\tposition:absolute;\\n\\theight: 20px;\\n\\ttop:0;\\n\\tleft:0;\\n\\tright:0;\\n\\tbottom:0;\\n\\tborder-radius: 3px;\\n\\tbackground:\\n\\tlinear-gradient(-45deg, transparent 33%, rgba(0, 0, 0, 0.2) 33%, rgba(0, 0, 0, 0.2) 66%, transparent 66%) left/2.5em 1.5em;\\n}\\n\\n@keyframes stripes {\\n  from {background-position: 0%}\\n  to {background-position: 100%}\\n}\");\n",
       "    },\n",
       "    function(Bokeh) {\n",
       "      Bokeh.set_log_level(\"info\");\n",
       "    },\n",
       "    function(Bokeh) {\n",
       "    \n",
       "    \n",
       "    }\n",
       "  ];\n",
       "\n",
       "  function run_inline_js() {\n",
       "    \n",
       "    if (root.Bokeh !== undefined || force === true) {\n",
       "      \n",
       "    for (var i = 0; i < inline_js.length; i++) {\n",
       "      inline_js[i].call(root, root.Bokeh);\n",
       "    }\n",
       "    if (force === true) {\n",
       "        display_loaded();\n",
       "      }} else if (Date.now() < root._bokeh_timeout) {\n",
       "      setTimeout(run_inline_js, 100);\n",
       "    } else if (!root._bokeh_failed_load) {\n",
       "      console.log(\"Bokeh: BokehJS failed to load within specified timeout.\");\n",
       "      root._bokeh_failed_load = true;\n",
       "    } else if (force !== true) {\n",
       "      var cell = $(document.getElementById(\"1143\")).parents('.cell').data().cell;\n",
       "      cell.output_area.append_execute_result(NB_LOAD_WARNING)\n",
       "    }\n",
       "\n",
       "  }\n",
       "\n",
       "  if (root._bokeh_is_loading === 0) {\n",
       "    console.debug(\"Bokeh: BokehJS loaded, going straight to plotting\");\n",
       "    run_inline_js();\n",
       "  } else {\n",
       "    load_libs(css_urls, js_urls, function() {\n",
       "      console.debug(\"Bokeh: BokehJS plotting callback run at\", now());\n",
       "      run_inline_js();\n",
       "    });\n",
       "  }\n",
       "}(window));"
      ],
      "application/vnd.bokehjs_load.v0+json": "\n(function(root) {\n  function now() {\n    return new Date();\n  }\n\n  var force = true;\n\n  if (typeof root._bokeh_onload_callbacks === \"undefined\" || force === true) {\n    root._bokeh_onload_callbacks = [];\n    root._bokeh_is_loading = undefined;\n  }\n\n  \n\n  \n  if (typeof (root._bokeh_timeout) === \"undefined\" || force === true) {\n    root._bokeh_timeout = Date.now() + 5000;\n    root._bokeh_failed_load = false;\n  }\n\n  var NB_LOAD_WARNING = {'data': {'text/html':\n     \"<div style='background-color: #fdd'>\\n\"+\n     \"<p>\\n\"+\n     \"BokehJS does not appear to have successfully loaded. If loading BokehJS from CDN, this \\n\"+\n     \"may be due to a slow or bad network connection. Possible fixes:\\n\"+\n     \"</p>\\n\"+\n     \"<ul>\\n\"+\n     \"<li>re-rerun `output_notebook()` to attempt to load from CDN again, or</li>\\n\"+\n     \"<li>use INLINE resources instead, as so:</li>\\n\"+\n     \"</ul>\\n\"+\n     \"<code>\\n\"+\n     \"from bokeh.resources import INLINE\\n\"+\n     \"output_notebook(resources=INLINE)\\n\"+\n     \"</code>\\n\"+\n     \"</div>\"}};\n\n  function display_loaded() {\n    var el = document.getElementById(\"1143\");\n    if (el != null) {\n      el.textContent = \"BokehJS is loading...\";\n    }\n    if (root.Bokeh !== undefined) {\n      if (el != null) {\n        el.textContent = \"BokehJS \" + root.Bokeh.version + \" successfully loaded.\";\n      }\n    } else if (Date.now() < root._bokeh_timeout) {\n      setTimeout(display_loaded, 100)\n    }\n  }\n\n\n  function run_callbacks() {\n    try {\n      root._bokeh_onload_callbacks.forEach(function(callback) {\n        if (callback != null)\n          callback();\n      });\n    } finally {\n      delete root._bokeh_onload_callbacks\n    }\n    console.debug(\"Bokeh: all callbacks have finished\");\n  }\n\n  function load_libs(css_urls, js_urls, callback) {\n    if (css_urls == null) css_urls = [];\n    if (js_urls == null) js_urls = [];\n\n    root._bokeh_onload_callbacks.push(callback);\n    if (root._bokeh_is_loading > 0) {\n      console.debug(\"Bokeh: BokehJS is being loaded, scheduling callback at\", now());\n      return null;\n    }\n    if (js_urls == null || js_urls.length === 0) {\n      run_callbacks();\n      return null;\n    }\n    console.debug(\"Bokeh: BokehJS not loaded, scheduling load and callback at\", now());\n    root._bokeh_is_loading = css_urls.length + js_urls.length;\n\n    function on_load() {\n      root._bokeh_is_loading--;\n      if (root._bokeh_is_loading === 0) {\n        console.debug(\"Bokeh: all BokehJS libraries/stylesheets loaded\");\n        run_callbacks()\n      }\n    }\n\n    function on_error() {\n      console.error(\"failed to load \" + url);\n    }\n\n    for (var i = 0; i < css_urls.length; i++) {\n      var url = css_urls[i];\n      const element = document.createElement(\"link\");\n      element.onload = on_load;\n      element.onerror = on_error;\n      element.rel = \"stylesheet\";\n      element.type = \"text/css\";\n      element.href = url;\n      console.debug(\"Bokeh: injecting link tag for BokehJS stylesheet: \", url);\n      document.body.appendChild(element);\n    }\n\n    const hashes = {\"https://cdn.bokeh.org/bokeh/release/bokeh-2.1.0.min.js\": \"YobFyzPeVUsFQydHkJGsJL1kyfHnWxOlPc3EwaV22TmBaeGoXHLWx5aRRVPS9xlE\", \"https://cdn.bokeh.org/bokeh/release/bokeh-widgets-2.1.0.min.js\": \"NuAg9+TcTQQqvQCTtkCneRrpkTiMhhfiq0KHiBzx8ECiKiLWXHN6i6ia3q7b3eHu\", \"https://cdn.bokeh.org/bokeh/release/bokeh-tables-2.1.0.min.js\": \"uMVqQc8JqHitD67bXTn9a06Mrk3EiHRaZ18EJENQenAKJ/KL71SakdXYomZQpGRr\", \"https://cdn.bokeh.org/bokeh/release/bokeh-gl-2.1.0.min.js\": \"u+eGuEXC8aw0VSCm2mH+b/tQEAitUOYiR1H6SuIVEdUmXsf4vN8m/SmXpmjb7U/X\"};\n\n    for (var i = 0; i < js_urls.length; i++) {\n      var url = js_urls[i];\n      var element = document.createElement('script');\n      element.onload = on_load;\n      element.onerror = on_error;\n      element.async = false;\n      element.src = url;\n      if (url in hashes) {\n        element.crossOrigin = \"anonymous\";\n        element.integrity = \"sha384-\" + hashes[url];\n      }\n      console.debug(\"Bokeh: injecting script tag for BokehJS library: \", url);\n      document.head.appendChild(element);\n    }\n  };\n\n  function inject_raw_css(css) {\n    const element = document.createElement(\"style\");\n    element.appendChild(document.createTextNode(css));\n    document.body.appendChild(element);\n  }\n\n  \n  var js_urls = [\"https://cdn.bokeh.org/bokeh/release/bokeh-2.1.0.min.js\", \"https://cdn.bokeh.org/bokeh/release/bokeh-widgets-2.1.0.min.js\", \"https://cdn.bokeh.org/bokeh/release/bokeh-tables-2.1.0.min.js\", \"https://cdn.bokeh.org/bokeh/release/bokeh-gl-2.1.0.min.js\", \"https://unpkg.com/@holoviz/panel@^0.9.5/dist/panel.min.js\"];\n  var css_urls = [];\n  \n\n  var inline_js = [\n    function(Bokeh) {\n      inject_raw_css(\"table.panel-df {\\n    margin-left: auto;\\n    margin-right: auto;\\n    border: none;\\n    border-collapse: collapse;\\n    border-spacing: 0;\\n    color: black;\\n    font-size: 12px;\\n    table-layout: fixed;\\n    width: 100%;\\n}\\n\\n.panel-df tr, th, td {\\n    text-align: right;\\n    vertical-align: middle;\\n    padding: 0.5em 0.5em !important;\\n    line-height: normal;\\n    white-space: normal;\\n    max-width: none;\\n    border: none;\\n}\\n\\n.panel-df tbody {\\n    display: table-row-group;\\n    vertical-align: middle;\\n    border-color: inherit;\\n}\\n\\n.panel-df tbody tr:nth-child(odd) {\\n    background: #f5f5f5;\\n}\\n\\n.panel-df thead {\\n    border-bottom: 1px solid black;\\n    vertical-align: bottom;\\n}\\n\\n.panel-df tr:hover {\\n    background: lightblue !important;\\n    cursor: pointer;\\n}\\n\");\n    },\n    function(Bokeh) {\n      inject_raw_css(\".json-formatter-row {\\n  font-family: monospace;\\n}\\n.json-formatter-row,\\n.json-formatter-row a,\\n.json-formatter-row a:hover {\\n  color: black;\\n  text-decoration: none;\\n}\\n.json-formatter-row .json-formatter-row {\\n  margin-left: 1rem;\\n}\\n.json-formatter-row .json-formatter-children.json-formatter-empty {\\n  opacity: 0.5;\\n  margin-left: 1rem;\\n}\\n.json-formatter-row .json-formatter-children.json-formatter-empty:after {\\n  display: none;\\n}\\n.json-formatter-row .json-formatter-children.json-formatter-empty.json-formatter-object:after {\\n  content: \\\"No properties\\\";\\n}\\n.json-formatter-row .json-formatter-children.json-formatter-empty.json-formatter-array:after {\\n  content: \\\"[]\\\";\\n}\\n.json-formatter-row .json-formatter-string,\\n.json-formatter-row .json-formatter-stringifiable {\\n  color: green;\\n  white-space: pre;\\n  word-wrap: break-word;\\n}\\n.json-formatter-row .json-formatter-number {\\n  color: blue;\\n}\\n.json-formatter-row .json-formatter-boolean {\\n  color: red;\\n}\\n.json-formatter-row .json-formatter-null {\\n  color: #855A00;\\n}\\n.json-formatter-row .json-formatter-undefined {\\n  color: #ca0b69;\\n}\\n.json-formatter-row .json-formatter-function {\\n  color: #FF20ED;\\n}\\n.json-formatter-row .json-formatter-date {\\n  background-color: rgba(0, 0, 0, 0.05);\\n}\\n.json-formatter-row .json-formatter-url {\\n  text-decoration: underline;\\n  color: blue;\\n  cursor: pointer;\\n}\\n.json-formatter-row .json-formatter-bracket {\\n  color: blue;\\n}\\n.json-formatter-row .json-formatter-key {\\n  color: #00008B;\\n  padding-right: 0.2rem;\\n}\\n.json-formatter-row .json-formatter-toggler-link {\\n  cursor: pointer;\\n}\\n.json-formatter-row .json-formatter-toggler {\\n  line-height: 1.2rem;\\n  font-size: 0.7rem;\\n  vertical-align: middle;\\n  opacity: 0.6;\\n  cursor: pointer;\\n  padding-right: 0.2rem;\\n}\\n.json-formatter-row .json-formatter-toggler:after {\\n  display: inline-block;\\n  transition: transform 100ms ease-in;\\n  content: \\\"\\\\25BA\\\";\\n}\\n.json-formatter-row > a > .json-formatter-preview-text {\\n  opacity: 0;\\n  transition: opacity 0.15s ease-in;\\n  font-style: italic;\\n}\\n.json-formatter-row:hover > a > .json-formatter-preview-text {\\n  opacity: 0.6;\\n}\\n.json-formatter-row.json-formatter-open > .json-formatter-toggler-link .json-formatter-toggler:after {\\n  transform: rotate(90deg);\\n}\\n.json-formatter-row.json-formatter-open > .json-formatter-children:after {\\n  display: inline-block;\\n}\\n.json-formatter-row.json-formatter-open > a > .json-formatter-preview-text {\\n  display: none;\\n}\\n.json-formatter-row.json-formatter-open.json-formatter-empty:after {\\n  display: block;\\n}\\n.json-formatter-dark.json-formatter-row {\\n  font-family: monospace;\\n}\\n.json-formatter-dark.json-formatter-row,\\n.json-formatter-dark.json-formatter-row a,\\n.json-formatter-dark.json-formatter-row a:hover {\\n  color: white;\\n  text-decoration: none;\\n}\\n.json-formatter-dark.json-formatter-row .json-formatter-row {\\n  margin-left: 1rem;\\n}\\n.json-formatter-dark.json-formatter-row .json-formatter-children.json-formatter-empty {\\n  opacity: 0.5;\\n  margin-left: 1rem;\\n}\\n.json-formatter-dark.json-formatter-row .json-formatter-children.json-formatter-empty:after {\\n  display: none;\\n}\\n.json-formatter-dark.json-formatter-row .json-formatter-children.json-formatter-empty.json-formatter-object:after {\\n  content: \\\"No properties\\\";\\n}\\n.json-formatter-dark.json-formatter-row .json-formatter-children.json-formatter-empty.json-formatter-array:after {\\n  content: \\\"[]\\\";\\n}\\n.json-formatter-dark.json-formatter-row .json-formatter-string,\\n.json-formatter-dark.json-formatter-row .json-formatter-stringifiable {\\n  color: #31F031;\\n  white-space: pre;\\n  word-wrap: break-word;\\n}\\n.json-formatter-dark.json-formatter-row .json-formatter-number {\\n  color: #66C2FF;\\n}\\n.json-formatter-dark.json-formatter-row .json-formatter-boolean {\\n  color: #EC4242;\\n}\\n.json-formatter-dark.json-formatter-row .json-formatter-null {\\n  color: #EEC97D;\\n}\\n.json-formatter-dark.json-formatter-row .json-formatter-undefined {\\n  color: #ef8fbe;\\n}\\n.json-formatter-dark.json-formatter-row .json-formatter-function {\\n  color: #FD48CB;\\n}\\n.json-formatter-dark.json-formatter-row .json-formatter-date {\\n  background-color: rgba(255, 255, 255, 0.05);\\n}\\n.json-formatter-dark.json-formatter-row .json-formatter-url {\\n  text-decoration: underline;\\n  color: #027BFF;\\n  cursor: pointer;\\n}\\n.json-formatter-dark.json-formatter-row .json-formatter-bracket {\\n  color: #9494FF;\\n}\\n.json-formatter-dark.json-formatter-row .json-formatter-key {\\n  color: #23A0DB;\\n  padding-right: 0.2rem;\\n}\\n.json-formatter-dark.json-formatter-row .json-formatter-toggler-link {\\n  cursor: pointer;\\n}\\n.json-formatter-dark.json-formatter-row .json-formatter-toggler {\\n  line-height: 1.2rem;\\n  font-size: 0.7rem;\\n  vertical-align: middle;\\n  opacity: 0.6;\\n  cursor: pointer;\\n  padding-right: 0.2rem;\\n}\\n.json-formatter-dark.json-formatter-row .json-formatter-toggler:after {\\n  display: inline-block;\\n  transition: transform 100ms ease-in;\\n  content: \\\"\\\\25BA\\\";\\n}\\n.json-formatter-dark.json-formatter-row > a > .json-formatter-preview-text {\\n  opacity: 0;\\n  transition: opacity 0.15s ease-in;\\n  font-style: italic;\\n}\\n.json-formatter-dark.json-formatter-row:hover > a > .json-formatter-preview-text {\\n  opacity: 0.6;\\n}\\n.json-formatter-dark.json-formatter-row.json-formatter-open > .json-formatter-toggler-link .json-formatter-toggler:after {\\n  transform: rotate(90deg);\\n}\\n.json-formatter-dark.json-formatter-row.json-formatter-open > .json-formatter-children:after {\\n  display: inline-block;\\n}\\n.json-formatter-dark.json-formatter-row.json-formatter-open > a > .json-formatter-preview-text {\\n  display: none;\\n}\\n.json-formatter-dark.json-formatter-row.json-formatter-open.json-formatter-empty:after {\\n  display: block;\\n}\\n\");\n    },\n    function(Bokeh) {\n      inject_raw_css(\".codehilite .hll { background-color: #ffffcc }\\n.codehilite  { background: #f8f8f8; }\\n.codehilite .c { color: #408080; font-style: italic } /* Comment */\\n.codehilite .err { border: 1px solid #FF0000 } /* Error */\\n.codehilite .k { color: #008000; font-weight: bold } /* Keyword */\\n.codehilite .o { color: #666666 } /* Operator */\\n.codehilite .ch { color: #408080; font-style: italic } /* Comment.Hashbang */\\n.codehilite .cm { color: #408080; font-style: italic } /* Comment.Multiline */\\n.codehilite .cp { color: #BC7A00 } /* Comment.Preproc */\\n.codehilite .cpf { color: #408080; font-style: italic } /* Comment.PreprocFile */\\n.codehilite .c1 { color: #408080; font-style: italic } /* Comment.Single */\\n.codehilite .cs { color: #408080; font-style: italic } /* Comment.Special */\\n.codehilite .gd { color: #A00000 } /* Generic.Deleted */\\n.codehilite .ge { font-style: italic } /* Generic.Emph */\\n.codehilite .gr { color: #FF0000 } /* Generic.Error */\\n.codehilite .gh { color: #000080; font-weight: bold } /* Generic.Heading */\\n.codehilite .gi { color: #00A000 } /* Generic.Inserted */\\n.codehilite .go { color: #888888 } /* Generic.Output */\\n.codehilite .gp { color: #000080; font-weight: bold } /* Generic.Prompt */\\n.codehilite .gs { font-weight: bold } /* Generic.Strong */\\n.codehilite .gu { color: #800080; font-weight: bold } /* Generic.Subheading */\\n.codehilite .gt { color: #0044DD } /* Generic.Traceback */\\n.codehilite .kc { color: #008000; font-weight: bold } /* Keyword.Constant */\\n.codehilite .kd { color: #008000; font-weight: bold } /* Keyword.Declaration */\\n.codehilite .kn { color: #008000; font-weight: bold } /* Keyword.Namespace */\\n.codehilite .kp { color: #008000 } /* Keyword.Pseudo */\\n.codehilite .kr { color: #008000; font-weight: bold } /* Keyword.Reserved */\\n.codehilite .kt { color: #B00040 } /* Keyword.Type */\\n.codehilite .m { color: #666666 } /* Literal.Number */\\n.codehilite .s { color: #BA2121 } /* Literal.String */\\n.codehilite .na { color: #7D9029 } /* Name.Attribute */\\n.codehilite .nb { color: #008000 } /* Name.Builtin */\\n.codehilite .nc { color: #0000FF; font-weight: bold } /* Name.Class */\\n.codehilite .no { color: #880000 } /* Name.Constant */\\n.codehilite .nd { color: #AA22FF } /* Name.Decorator */\\n.codehilite .ni { color: #999999; font-weight: bold } /* Name.Entity */\\n.codehilite .ne { color: #D2413A; font-weight: bold } /* Name.Exception */\\n.codehilite .nf { color: #0000FF } /* Name.Function */\\n.codehilite .nl { color: #A0A000 } /* Name.Label */\\n.codehilite .nn { color: #0000FF; font-weight: bold } /* Name.Namespace */\\n.codehilite .nt { color: #008000; font-weight: bold } /* Name.Tag */\\n.codehilite .nv { color: #19177C } /* Name.Variable */\\n.codehilite .ow { color: #AA22FF; font-weight: bold } /* Operator.Word */\\n.codehilite .w { color: #bbbbbb } /* Text.Whitespace */\\n.codehilite .mb { color: #666666 } /* Literal.Number.Bin */\\n.codehilite .mf { color: #666666 } /* Literal.Number.Float */\\n.codehilite .mh { color: #666666 } /* Literal.Number.Hex */\\n.codehilite .mi { color: #666666 } /* Literal.Number.Integer */\\n.codehilite .mo { color: #666666 } /* Literal.Number.Oct */\\n.codehilite .sa { color: #BA2121 } /* Literal.String.Affix */\\n.codehilite .sb { color: #BA2121 } /* Literal.String.Backtick */\\n.codehilite .sc { color: #BA2121 } /* Literal.String.Char */\\n.codehilite .dl { color: #BA2121 } /* Literal.String.Delimiter */\\n.codehilite .sd { color: #BA2121; font-style: italic } /* Literal.String.Doc */\\n.codehilite .s2 { color: #BA2121 } /* Literal.String.Double */\\n.codehilite .se { color: #BB6622; font-weight: bold } /* Literal.String.Escape */\\n.codehilite .sh { color: #BA2121 } /* Literal.String.Heredoc */\\n.codehilite .si { color: #BB6688; font-weight: bold } /* Literal.String.Interpol */\\n.codehilite .sx { color: #008000 } /* Literal.String.Other */\\n.codehilite .sr { color: #BB6688 } /* Literal.String.Regex */\\n.codehilite .s1 { color: #BA2121 } /* Literal.String.Single */\\n.codehilite .ss { color: #19177C } /* Literal.String.Symbol */\\n.codehilite .bp { color: #008000 } /* Name.Builtin.Pseudo */\\n.codehilite .fm { color: #0000FF } /* Name.Function.Magic */\\n.codehilite .vc { color: #19177C } /* Name.Variable.Class */\\n.codehilite .vg { color: #19177C } /* Name.Variable.Global */\\n.codehilite .vi { color: #19177C } /* Name.Variable.Instance */\\n.codehilite .vm { color: #19177C } /* Name.Variable.Magic */\\n.codehilite .il { color: #666666 } /* Literal.Number.Integer.Long */\\n\\n.markdown h1 { margin-block-start: 0.34em }\\n.markdown h2 { margin-block-start: 0.42em }\\n.markdown h3 { margin-block-start: 0.5em }\\n.markdown h4 { margin-block-start: 0.67em }\\n.markdown h5 { margin-block-start: 0.84em }\\n.markdown h6 { margin-block-start: 1.17em }\\n.markdown ul { padding-inline-start: 2em }\\n.markdown ol { padding-inline-start: 2em }\\n.markdown strong { font-weight: 600 }\\n.markdown a { color: -webkit-link }\\n.markdown a { color: -moz-hyperlinkText }\\n\");\n    },\n    function(Bokeh) {\n      inject_raw_css(\".widget-box {\\n\\tmin-height: 20px;\\n\\tbackground-color: #f5f5f5;\\n\\tborder: 1px solid #e3e3e3 !important;\\n\\tborder-radius: 4px;\\n\\t-webkit-box-shadow: inset 0 1px 1px rgba(0,0,0,.05);\\n\\tbox-shadow: inset 0 1px 1px rgba(0,0,0,.05);\\n\\toverflow-x: hidden;\\n\\toverflow-y: hidden;\\n}\\n\\n.scrollable {\\n  overflow: scroll;\\n}\\n\\nprogress {\\n\\tappearance: none;\\n\\t-moz-appearance: none;\\n\\t-webkit-appearance: none;\\n\\n\\tborder: none;\\n\\theight: 20px;\\n\\tbackground-color: whiteSmoke;\\n\\tborder-radius: 3px;\\n\\tbox-shadow: 0 2px 3px rgba(0,0,0,.5) inset;\\n\\tcolor: royalblue;\\n\\tposition: relative;\\n\\tmargin: 0 0 1.5em;\\n}\\n\\nprogress[value]::-webkit-progress-bar {\\n\\tbackground-color: whiteSmoke;\\n\\tborder-radius: 3px;\\n\\tbox-shadow: 0 2px 3px rgba(0,0,0,.5) inset;\\n}\\n\\nprogress[value]::-webkit-progress-value {\\n\\tposition: relative;\\n\\n\\tbackground-size: 35px 20px, 100% 100%, 100% 100%;\\n\\tborder-radius:3px;\\n}\\n\\nprogress.active:not([value])::before {\\n\\tbackground-position: 10%;\\n\\tanimation-name: stripes;\\n\\tanimation-duration: 3s;\\n\\tanimation-timing-function: linear;\\n\\tanimation-iteration-count: infinite;\\n}\\n\\nprogress[value]::-moz-progress-bar {\\n\\tbackground-size: 35px 20px, 100% 100%, 100% 100%;\\n\\tborder-radius:3px;\\n}\\n\\nprogress:not([value])::-moz-progress-bar {\\n\\tborder-radius:3px;\\n\\tbackground:\\n\\tlinear-gradient(-45deg, transparent 33%, rgba(0, 0, 0, 0.2) 33%, rgba(0, 0, 0, 0.2) 66%, transparent 66%) left/2.5em 1.5em;\\n\\n}\\n\\nprogress.active:not([value])::-moz-progress-bar {\\n\\tbackground-position: 10%;\\n\\tanimation-name: stripes;\\n\\tanimation-duration: 3s;\\n\\tanimation-timing-function: linear;\\n\\tanimation-iteration-count: infinite;\\n}\\n\\nprogress.active:not([value])::-webkit-progress-bar {\\n\\tbackground-position: 10%;\\n\\tanimation-name: stripes;\\n\\tanimation-duration: 3s;\\n\\tanimation-timing-function: linear;\\n\\tanimation-iteration-count: infinite;\\n}\\n\\nprogress.primary[value]::-webkit-progress-value { background-color: #007bff; }\\nprogress.primary:not([value])::before { background-color: #007bff; }\\nprogress.primary:not([value])::-webkit-progress-bar { background-color: #007bff; }\\nprogress.primary::-moz-progress-bar { background-color: #007bff; }\\n\\nprogress.secondary[value]::-webkit-progress-value { background-color: #6c757d; }\\nprogress.secondary:not([value])::before { background-color: #6c757d; }\\nprogress.secondary:not([value])::-webkit-progress-bar { background-color: #6c757d; }\\nprogress.secondary::-moz-progress-bar { background-color: #6c757d; }\\n\\nprogress.success[value]::-webkit-progress-value { background-color: #28a745; }\\nprogress.success:not([value])::before { background-color: #28a745; }\\nprogress.success:not([value])::-webkit-progress-bar { background-color: #28a745; }\\nprogress.success::-moz-progress-bar { background-color: #28a745; }\\n\\nprogress.danger[value]::-webkit-progress-value { background-color: #dc3545; }\\nprogress.danger:not([value])::before { background-color: #dc3545; }\\nprogress.danger:not([value])::-webkit-progress-bar { background-color: #dc3545; }\\nprogress.danger::-moz-progress-bar { background-color: #dc3545; }\\n\\nprogress.warning[value]::-webkit-progress-value { background-color: #ffc107; }\\nprogress.warning:not([value])::before { background-color: #ffc107; }\\nprogress.warning:not([value])::-webkit-progress-bar { background-color: #ffc107; }\\nprogress.warning::-moz-progress-bar { background-color: #ffc107; }\\n\\nprogress.info[value]::-webkit-progress-value { background-color: #17a2b8; }\\nprogress.info:not([value])::before { background-color: #17a2b8; }\\nprogress.info:not([value])::-webkit-progress-bar { background-color: #17a2b8; }\\nprogress.info::-moz-progress-bar { background-color: #17a2b8; }\\n\\nprogress.light[value]::-webkit-progress-value { background-color: #f8f9fa; }\\nprogress.light:not([value])::before { background-color: #f8f9fa; }\\nprogress.light:not([value])::-webkit-progress-bar { background-color: #f8f9fa; }\\nprogress.light::-moz-progress-bar { background-color: #f8f9fa; }\\n\\nprogress.dark[value]::-webkit-progress-value { background-color: #343a40; }\\nprogress.dark:not([value])::-webkit-progress-bar { background-color: #343a40; }\\nprogress.dark:not([value])::before { background-color: #343a40; }\\nprogress.dark::-moz-progress-bar { background-color: #343a40; }\\n\\nprogress:not([value])::-webkit-progress-bar {\\n\\tborder-radius: 3px;\\n\\tbackground:\\n\\tlinear-gradient(-45deg, transparent 33%, rgba(0, 0, 0, 0.2) 33%, rgba(0, 0, 0, 0.2) 66%, transparent 66%) left/2.5em 1.5em;\\n}\\nprogress:not([value])::before {\\n\\tcontent:\\\" \\\";\\n\\tposition:absolute;\\n\\theight: 20px;\\n\\ttop:0;\\n\\tleft:0;\\n\\tright:0;\\n\\tbottom:0;\\n\\tborder-radius: 3px;\\n\\tbackground:\\n\\tlinear-gradient(-45deg, transparent 33%, rgba(0, 0, 0, 0.2) 33%, rgba(0, 0, 0, 0.2) 66%, transparent 66%) left/2.5em 1.5em;\\n}\\n\\n@keyframes stripes {\\n  from {background-position: 0%}\\n  to {background-position: 100%}\\n}\");\n    },\n    function(Bokeh) {\n      Bokeh.set_log_level(\"info\");\n    },\n    function(Bokeh) {\n    \n    \n    }\n  ];\n\n  function run_inline_js() {\n    \n    if (root.Bokeh !== undefined || force === true) {\n      \n    for (var i = 0; i < inline_js.length; i++) {\n      inline_js[i].call(root, root.Bokeh);\n    }\n    if (force === true) {\n        display_loaded();\n      }} else if (Date.now() < root._bokeh_timeout) {\n      setTimeout(run_inline_js, 100);\n    } else if (!root._bokeh_failed_load) {\n      console.log(\"Bokeh: BokehJS failed to load within specified timeout.\");\n      root._bokeh_failed_load = true;\n    } else if (force !== true) {\n      var cell = $(document.getElementById(\"1143\")).parents('.cell').data().cell;\n      cell.output_area.append_execute_result(NB_LOAD_WARNING)\n    }\n\n  }\n\n  if (root._bokeh_is_loading === 0) {\n    console.debug(\"Bokeh: BokehJS loaded, going straight to plotting\");\n    run_inline_js();\n  } else {\n    load_libs(css_urls, js_urls, function() {\n      console.debug(\"Bokeh: BokehJS plotting callback run at\", now());\n      run_inline_js();\n    });\n  }\n}(window));"
     },
     "metadata": {},
     "output_type": "display_data"
    },
    {
     "data": {
      "text/html": [
       "\n",
       "\n",
       "\n",
       "\n",
       "\n",
       "\n",
       "  <div class=\"bk-root\" id=\"646f2f4f-9b02-43da-865a-1c30307ab8f7\" data-root-id=\"1105\"></div>\n"
      ]
     },
     "metadata": {},
     "output_type": "display_data"
    },
    {
     "data": {
      "application/javascript": [
       "(function(root) {\n",
       "  function embed_document(root) {\n",
       "    \n",
       "  var docs_json = {\"ac799791-02e8-4430-8d4c-ff50fdf3a5a0\":{\"roots\":{\"references\":[{\"attributes\":{\"background_fill_color\":\"white\",\"below\":[{\"id\":\"1114\"}],\"center\":[{\"id\":\"1117\"},{\"id\":\"1121\"}],\"left\":[{\"id\":\"1118\"}],\"plot_height\":800,\"plot_width\":800,\"renderers\":[{\"id\":\"1141\"}],\"title\":{\"id\":\"1153\"},\"toolbar\":{\"id\":\"1130\"},\"x_range\":{\"id\":\"1106\"},\"x_scale\":{\"id\":\"1110\"},\"y_range\":{\"id\":\"1108\"},\"y_scale\":{\"id\":\"1112\"}},\"id\":\"1105\",\"subtype\":\"Figure\",\"type\":\"Plot\"},{\"attributes\":{\"callback\":null,\"tooltips\":[[\"index\",\"@index\"],[\"label\",\"@label\"],[\"item\",\"@item\"]]},\"id\":\"1129\",\"type\":\"HoverTool\"},{\"attributes\":{},\"id\":\"1119\",\"type\":\"BasicTicker\"},{\"attributes\":{},\"id\":\"1125\",\"type\":\"SaveTool\"},{\"attributes\":{},\"id\":\"1157\",\"type\":\"BasicTickFormatter\"},{\"attributes\":{},\"id\":\"1159\",\"type\":\"UnionRenderers\"},{\"attributes\":{\"data_source\":{\"id\":\"1104\"},\"glyph\":{\"id\":\"1139\"},\"hover_glyph\":null,\"muted_glyph\":null,\"nonselection_glyph\":{\"id\":\"1140\"},\"selection_glyph\":null,\"view\":{\"id\":\"1142\"}},\"id\":\"1141\",\"type\":\"GlyphRenderer\"},{\"attributes\":{},\"id\":\"1112\",\"type\":\"LinearScale\"},{\"attributes\":{},\"id\":\"1106\",\"type\":\"DataRange1d\"},{\"attributes\":{\"overlay\":{\"id\":\"1128\"}},\"id\":\"1124\",\"type\":\"BoxZoomTool\"},{\"attributes\":{},\"id\":\"1108\",\"type\":\"DataRange1d\"},{\"attributes\":{},\"id\":\"1115\",\"type\":\"BasicTicker\"},{\"attributes\":{},\"id\":\"1127\",\"type\":\"HelpTool\"},{\"attributes\":{},\"id\":\"1160\",\"type\":\"Selection\"},{\"attributes\":{\"axis\":{\"id\":\"1118\"},\"dimension\":1,\"ticker\":null,\"visible\":false},\"id\":\"1121\",\"type\":\"Grid\"},{\"attributes\":{\"formatter\":{\"id\":\"1157\"},\"ticker\":{\"id\":\"1115\"},\"visible\":false},\"id\":\"1114\",\"type\":\"LinearAxis\"},{\"attributes\":{},\"id\":\"1126\",\"type\":\"ResetTool\"},{\"attributes\":{\"bottom_units\":\"screen\",\"fill_alpha\":0.5,\"fill_color\":\"lightgrey\",\"left_units\":\"screen\",\"level\":\"overlay\",\"line_alpha\":1.0,\"line_color\":\"black\",\"line_dash\":[4,4],\"line_width\":2,\"right_units\":\"screen\",\"top_units\":\"screen\"},\"id\":\"1128\",\"type\":\"BoxAnnotation\"},{\"attributes\":{\"fill_alpha\":{\"field\":\"alpha\"},\"fill_color\":{\"field\":\"color\"},\"line_alpha\":{\"field\":\"alpha\"},\"line_color\":{\"field\":\"color\"},\"size\":{\"units\":\"screen\",\"value\":5},\"x\":{\"field\":\"x\"},\"y\":{\"field\":\"y\"}},\"id\":\"1139\",\"type\":\"Circle\"},{\"attributes\":{\"fill_alpha\":{\"value\":0.1},\"fill_color\":{\"field\":\"color\"},\"line_alpha\":{\"value\":0.1},\"line_color\":{\"field\":\"color\"},\"size\":{\"units\":\"screen\",\"value\":5},\"x\":{\"field\":\"x\"},\"y\":{\"field\":\"y\"}},\"id\":\"1140\",\"type\":\"Circle\"},{\"attributes\":{\"formatter\":{\"id\":\"1155\"},\"ticker\":{\"id\":\"1119\"},\"visible\":false},\"id\":\"1118\",\"type\":\"LinearAxis\"},{\"attributes\":{},\"id\":\"1110\",\"type\":\"LinearScale\"},{\"attributes\":{\"source\":{\"id\":\"1104\"}},\"id\":\"1142\",\"type\":\"CDSView\"},{\"attributes\":{\"text\":\"\"},\"id\":\"1153\",\"type\":\"Title\"},{\"attributes\":{},\"id\":\"1155\",\"type\":\"BasicTickFormatter\"},{\"attributes\":{\"axis\":{\"id\":\"1114\"},\"ticker\":null,\"visible\":false},\"id\":\"1117\",\"type\":\"Grid\"},{\"attributes\":{\"active_drag\":\"auto\",\"active_inspect\":\"auto\",\"active_multi\":null,\"active_scroll\":\"auto\",\"active_tap\":\"auto\",\"tools\":[{\"id\":\"1122\"},{\"id\":\"1123\"},{\"id\":\"1124\"},{\"id\":\"1125\"},{\"id\":\"1126\"},{\"id\":\"1127\"},{\"id\":\"1129\"}]},\"id\":\"1130\",\"type\":\"Toolbar\"},{\"attributes\":{},\"id\":\"1122\",\"type\":\"PanTool\"},{\"attributes\":{},\"id\":\"1123\",\"type\":\"WheelZoomTool\"},{\"attributes\":{\"data\":{\"alpha\":[1,1,1,1,1,1,1,1,1,1,1,1,1,1,1,1,1,1,1,1,1,1,1,1,1,1,1,1,1,1,1,1,1,1,1,1,1,1,1,1,1,1,1,1,1,1,1,1,1,1,1,1,1,1,1,1,1,1,1,1,1,1,1,1,1,1,1,1,1,1,1,1,1,1,1,1,1,1,1,1,1,1,1,1,1,1,1,1,1,1,1,1,1,1,1,1,1,1,1,1,1,1,1,1,1,1,1,1,1,1,1,1,1,1,1,1,1,1,1,1,1,1,1,1,1,1,1,1,1,1,1,1,1,1,1,1,1,1,1,1,1,1,1,1,1,1,1,1,1,1,1,1,1,1,1,1,1,1,1,1,1,1,1,1,1,1,1,1,1,1,1,1,1,1,1,1,1,1,1,1,1,1,1,1,1,1,1,1,1,1,1,1,1,1,1,1,1,1,1,1,1,1,1,1,1,1,1,1,1,1,1,1,1,1,1,1,1,1,1,1,1,1,1,1,1,1,1,1,1,1,1,1,1,1,1,1,1,1,1,1,1,1,1,1,1,1,1,1,1,1,1,1,1,1,1,1,1,1,1,1,1,1,1,1,1,1,1,1,1,1,1,1,1,1,1,1,1,1,1,1,1,1,1,1,1,1,1,1,1,1,1,1,1,1,1,1,1,1,1,1,1,1,1,1,1,1,1,1,1,1,1,1,1,1,1,1,1,1,1,1,1,1,1,1,1,1,1,1,1,1,1,1,1,1,1,1,1,1,1,1,1,1,1,1,1,1,1,1,1,1,1,1,1,1,1,1,1,1,1,1,1,1,1,1,1,1,1,1,1,1,1,1,1,1,1,1,1,1,1,1,1,1,1,1,1,1,1,1,1,1,1,1,1,1,1,1,1,1,1,1,1,1,1,1,1,1,1,1,1,1,1,1,1,1,1,1,1,1,1,1,1,1,1,1,1,1,1,1,1,1,1,1,1,1,1,1,1,1,1,1,1,1,1,1,1,1,1,1,1,1,1,1,1,1,1,1,1,1,1,1,1,1,1,1,1,1,1,1,1,1,1,1,1,1,1,1,1,1,1,1,1,1,1,1,1,1,1,1,1,1,1,1,1,1,1,1,1,1,1,1,1,1,1,1,1,1,1,1,1,1,1,1,1,1,1,1,1,1,1,1,1,1,1,1,1,1,1,1,1,1,1,1,1,1,1,1,1,1,1,1,1,1,1,1,1,1,1,1,1,1,1,1,1,1,1,1,1,1,1,1,1,1,1,1,1,1,1,1,1,1,1,1,1,1,1,1,1,1,1,1,1,1,1,1,1,1,1,1,1,1,1,1,1,1,1,1,1,1,1,1,1,1,1,1,1,1,1,1,1,1,1,1,1,1,1,1,1,1,1,1,1,1,1,1,1,1,1,1,1,1,1,1,1,1,1,1,1,1,1,1,1,1,1,1,1,1,1,1,1,1,1,1,1,1,1,1,1,1,1,1,1,1,1,1,1,1,1,1,1,1,1,1,1,1,1,1,1,1,1,1,1,1,1,1,1,1,1,1,1,1,1,1,1,1,1,1,1,1,1,1,1,1,1,1,1,1,1,1,1,1,1,1,1,1,1,1,1,1,1,1,1,1,1,1,1,1,1,1,1,1,1,1,1,1,1,1,1,1,1,1,1,1,1,1,1,1,1,1,1,1,1,1,1,1,1,1,1,1,1,1,1,1,1,1,1,1,1,1,1,1,1,1,1,1,1,1,1,1,1,1,1,1,1,1,1,1,1,1,1,1,1,1,1,1,1,1,1,1,1,1,1,1,1,1,1,1,1,1,1,1,1,1,1,1,1,1,1,1,1,1,1,1,1,1,1,1,1,1,1,1,1,1,1,1,1,1,1,1,1,1,1,1,1,1,1,1,1,1,1,1,1,1,1,1,1,1,1,1,1,1,1,1,1,1,1,1,1,1,1,1,1,1,1,1,1,1,1,1,1,1,1,1,1,1,1,1,1,1,1,1,1,1,1,1,1,1,1,1,1,1,1,1,1,1,1,1,1,1,1,1,1,1,1,1,1,1,1,1,1,1,1,1,1,1,1,1,1,1,1,1,1,1,1,1,1,1,1,1,1,1,1,1,1,1,1,1,1,1,1,1,1,1,1,1,1,1,1,1,1,1,1,1,1,1,1,1,1,1,1,1,1,1,1,1,1,1,1,1,1,1,1,1,1,1,1,1,1,1,1,1,1,1,1,1,1,1,1,1,1,1,1,1,1,1,1,1,1,1,1,1,1,1,1,1,1,1,1,1,1,1,1,1,1,1,1,1,1,1,1,1,1,1,1,1,1,1,1,1,1,1,1,1,1,1,1,1,1,1,1,1,1,1,1,1,1,1,1,1,1,1,1,1,1,1,1,1,1,1,1,1,1,1,1,1,1,1,1,1,1,1,1,1,1,1,1,1,1,1,1,1,1,1,1,1,1,1,1,1,1,1,1,1,1,1,1,1,1,1,1,1,1,1,1,1,1,1,1,1,1,1,1,1,1,1,1,1,1,1,1,1,1,1,1,1,1,1,1,1,1,1,1,1,1,1,1,1,1,1,1,1,1,1,1,1,1,1,1,1,1,1,1,1,1,1,1,1,1,1,1,1,1,1,1,1,1,1,1,1,1,1,1,1,1,1,1,1,1,1,1,1,1,1,1,1,1,1,1,1,1,1,1,1,1,1,1,1,1,1,1,1,1,1,1,1,1,1,1,1,1,1,1,1,1,1,1,1,1,1,1,1,1,1,1,1,1,1,1,1,1,1,1,1,1,1,1,1,1,1,1,1,1,1,1,1,1,1,1,1,1,1,1,1,1,1,1,1,1,1,1,1,1,1,1,1,1,1,1,1,1,1,1,1,1,1,1,1,1,1,1,1,1,1,1,1,1,1,1,1,1,1,1,1,1,1,1,1,1,1,1,1,1,1,1,1,1,1,1,1,1,1,1,1,1,1,1,1,1,1,1,1,1,1,1,1,1,1,1,1,1,1,1,1,1,1,1,1,1,1,1,1,1,1,1,1,1,1,1,1,1,1,1,1,1,1,1,1,1,1,1,1,1,1,1,1,1,1,1,1,1,1,1,1,1,1,1,1,1,1,1,1,1,1,1,1,1,1,1,1,1,1,1,1,1,1,1,1,1,1,1,1,1,1,1,1,1,1,1,1,1,1,1,1,1,1,1,1,1,1,1,1,1,1,1,1,1,1,1,1,1,1,1,1,1,1,1,1,1,1,1,1,1,1,1,1,1,1,1,1,1,1,1,1,1,1,1,1,1,1,1,1,1,1,1,1,1,1,1,1,1,1,1,1,1,1,1,1,1,1,1,1,1,1,1,1,1,1,1,1,1,1,1,1,1,1,1,1,1,1,1,1,1,1,1,1,1,1,1,1,1,1,1,1,1,1,1,1,1,1,1,1,1,1,1,1,1,1,1,1,1,1,1,1,1,1,1,1,1,1,1,1,1,1,1,1,1,1,1,1,1,1,1,1,1,1,1,1,1,1,1,1,1,1,1,1,1,1,1,1,1,1,1,1,1,1,1,1,1,1,1,1,1,1,1,1,1,1,1,1,1,1,1,1,1,1,1,1,1,1,1,1,1,1,1,1,1,1,1,1,1,1,1,1,1,1,1,1,1,1,1,1,1,1,1,1,1,1,1,1,1,1,1,1,1,1,1,1,1,1,1,1,1,1,1,1,1,1,1,1,1,1,1,1,1,1,1,1,1,1,1,1,1,1,1,1,1,1,1,1,1,1,1,1,1,1,1,1,1,1,1,1,1,1,1,1,1,1,1,1,1,1,1,1,1,1,1,1,1,1,1,1,1,1,1,1,1,1,1,1,1,1,1,1,1,1,1,1,1,1,1,1,1,1,1,1,1,1,1,1,1,1,1,1,1,1,1,1,1,1,1,1,1,1,1,1,1,1,1,1,1,1,1,1,1,1,1,1,1,1,1,1,1,1,1,1,1,1,1,1,1,1,1,1,1,1,1,1,1,1,1,1,1,1,1,1,1,1,1,1,1,1,1,1,1,1,1,1,1,1,1,1,1,1,1,1,1,1,1,1,1,1,1,1,1,1,1,1,1,1,1,1,1,1,1,1,1,1,1,1,1,1,1,1,1,1,1,1,1,1,1,1,1,1,1,1,1,1,1,1,1,1,1,1,1,1,1,1,1,1,1,1,1,1,1,1,1,1,1,1,1,1,1,1,1,1,1,1,1,1,1,1,1,1,1,1,1,1,1,1,1,1,1,1,1,1,1,1,1,1,1,1,1,1,1,1,1,1,1,1,1,1,1,1,1,1,1,1,1,1,1,1,1,1,1,1,1,1,1,1,1,1,1,1,1,1,1,1,1,1,1,1,1,1,1,1,1,1,1,1,1,1,1,1,1,1,1,1,1,1,1,1,1,1,1,1,1,1,1,1,1,1,1,1,1,1,1,1,1,1,1,1,1,1,1,1,1,1,1,1,1,1,1,1,1,1,1,1,1,1,1,1,1,1,1,1,1,1,1,1,1,1,1,1,1,1,1,1,1,1,1,1,1,1,1,1,1,1,1,1,1,1,1,1,1,1,1,1,1,1,1,1,1,1,1,1,1,1,1,1,1,1,1,1,1,1,1,1,1,1,1,1,1,1,1,1,1,1,1,1,1,1,1,1,1,1,1,1,1,1,1,1,1,1,1,1,1,1,1,1,1,1,1,1,1,1,1,1,1,1,1,1,1,1,1,1,1,1,1,1,1,1,1,1,1,1,1,1,1,1,1,1,1,1,1,1,1,1,1,1,1,1,1,1,1,1,1,1,1,1,1,1,1,1,1,1,1,1,1,1,1,1,1,1,1,1,1,1,1,1,1,1,1,1,1,1,1,1,1,1,1,1,1,1,1,1,1,1,1,1,1,1,1,1,1,1,1,1,1,1,1,1,1,1,1,1,1,1,1,1,1,1,1,1,1,1,1,1,1,1,1,1,1,1,1,1,1,1,1,1,1,1,1,1,1,1,1,1,1,1,1,1,1,1,1,1,1,1,1,1,1,1,1,1,1,1,1,1,1,1,1,1,1,1,1,1,1,1,1,1,1,1,1,1,1,1,1,1,1,1,1,1,1,1,1,1,1,1,1,1,1,1,1,1,1,1,1,1,1,1,1,1,1,1,1,1,1,1,1,1,1,1,1,1,1,1,1,1,1,1,1,1,1,1,1,1,1,1,1,1,1,1,1,1,1,1,1,1,1,1,1,1,1,1,1,1,1,1,1,1,1,1,1,1,1,1,1,1,1,1,1,1,1,1,1,1,1,1,1,1,1,1,1,1,1,1,1,1,1,1,1,1,1,1,1,1,1,1,1,1,1,1,1,1,1,1,1,1,1,1,1,1,1,1,1,1,1,1,1,1,1,1,1,1,1,1,1,1,1,1,1,1,1,1,1,1,1,1,1,1,1,1,1,1,1,1,1,1,1,1,1,1,1,1,1,1,1,1,1,1,1,1,1,1,1,1,1,1,1,1,1,1,1,1,1,1,1,1,1,1,1,1,1,1,1,1,1,1,1,1,1,1,1,1,1,1,1,1,1,1,1,1,1,1,1,1,1,1,1,1,1,1,1,1,1,1,1,1,1,1,1,1,1,1,1,1,1,1,1,1,1,1,1,1,1,1,1,1,1,1,1,1,1,1,1,1,1,1,1,1,1,1,1,1,1,1,1,1,1,1,1,1,1,1,1,1,1,1,1,1,1,1,1,1,1,1,1,1,1,1,1,1,1,1,1,1,1,1,1,1,1,1,1,1,1,1,1,1,1,1,1,1,1,1,1,1,1,1,1,1,1,1,1,1,1,1,1,1,1,1,1,1,1,1,1,1,1,1,1,1,1,1,1,1,1,1,1,1,1,1,1,1,1,1,1,1,1,1,1,1,1,1,1,1,1,1,1,1,1,1,1,1,1,1,1,1,1,1,1,1,1,1,1,1,1,1,1,1,1,1,1,1,1,1,1,1,1,1,1,1,1,1,1,1,1,1,1,1,1,1,1,1,1,1,1,1,1,1,1,1,1,1,1,1,1,1,1,1,1,1,1,1,1,1,1,1,1,1,1,1,1,1,1,1,1,1,1,1,1,1,1,1,1,1,1,1,1,1,1,1,1,1,1,1,1,1,1,1,1,1,1,1,1,1,1,1,1,1,1,1,1,1,1,1,1,1,1,1,1,1,1,1,1,1,1,1,1,1,1,1,1,1,1,1,1,1,1,1,1,1,1,1,1,1,1,1,1,1,1,1,1,1,1,1,1,1,1,1,1,1,1,1,1,1,1,1,1,1,1,1,1,1,1,1,1,1,1,1,1,1,1,1,1,1,1,1,1,1,1,1,1,1,1,1,1,1,1,1,1,1,1,1,1,1,1,1,1,1,1,1,1,1,1,1,1,1,1,1,1,1,1,1,1,1,1,1,1,1,1,1,1,1,1,1,1,1,1,1,1,1,1,1,1,1,1,1,1,1,1,1,1,1,1,1,1,1,1,1,1,1,1,1,1,1,1,1,1,1,1,1,1,1,1,1,1,1,1,1,1,1,1,1,1,1,1,1,1,1,1,1,1,1,1,1,1,1,1,1,1,1,1,1,1,1,1,1,1,1,1,1,1,1,1,1,1,1,1,1,1,1,1,1,1,1,1,1,1,1,1,1,1,1,1,1,1,1,1,1,1,1,1,1,1,1,1,1,1,1,1,1,1,1,1,1,1,1,1,1,1,1,1,1,1,1,1,1,1,1,1,1,1,1,1,1,1,1,1,1,1,1,1,1,1,1,1,1,1,1,1,1,1,1,1,1,1,1,1,1,1,1,1,1,1,1,1,1,1,1,1,1,1,1,1,1,1,1,1,1,1,1,1,1,1,1,1,1,1,1,1,1,1,1,1,1,1,1,1,1,1,1,1,1,1,1,1,1,1,1,1,1,1,1,1,1,1,1,1,1,1,1,1,1,1,1,1,1,1,1,1,1,1,1,1,1,1,1,1,1,1,1,1,1,1,1,1,1,1,1,1,1,1,1,1,1,1,1,1,1,1,1,1,1,1,1,1,1,1,1,1,1,1,1,1,1,1,1,1,1,1,1,1,1,1,1,1,1,1,1,1,1,1,1,1,1,1,1,1,1,1,1,1,1,1,1,1,1,1,1,1,1,1,1,1,1,1,1,1,1,1,1,1,1,1,1,1,1,1,1,1,1,1,1,1,1,1,1,1,1,1,1,1,1,1,1,1,1,1,1,1,1,1,1,1,1,1,1,1,1,1,1,1,1,1,1,1,1,1,1,1,1,1,1,1,1,1,1,1,1,1,1,1,1,1,1,1,1,1,1,1,1,1,1,1,1,1,1,1,1,1,1,1,1,1,1,1,1,1,1,1,1,1,1,1,1,1,1,1,1,1,1,1,1,1,1,1,1,1,1,1,1,1,1,1,1,1,1,1,1,1,1,1,1,1,1,1,1,1,1,1,1,1,1,1,1,1,1,1,1,1,1,1,1,1,1,1,1,1,1,1,1,1,1,1,1,1,1,1,1,1,1,1,1,1,1,1,1,1,1,1,1,1,1,1,1,1,1,1,1,1,1,1,1,1,1,1,1,1,1,1,1,1,1,1,1,1,1,1,1,1,1,1,1,1,1,1,1,1,1,1,1,1,1,1,1,1,1,1,1,1,1,1,1,1,1,1,1,1,1,1,1,1,1,1,1,1,1,1,1,1,1,1,1,1,1,1,1,1,1,1,1,1,1,1,1,1,1,1,1,1,1,1,1,1,1,1,1,1,1,1,1,1,1,1,1,1,1,1,1,1,1,1,1,1,1,1,1,1,1,1,1,1,1,1,1,1,1,1,1,1,1,1,1,1,1,1,1,1,1,1,1,1,1,1,1,1,1,1,1,1,1,1,1,1,1,1,1,1,1,1,1,1,1,1,1,1,1,1,1,1,1,1,1,1,1,1,1,1,1,1,1,1,1,1,1,1,1,1,1,1,1,1,1,1,1,1,1,1,1,1,1,1,1,1,1,1,1,1,1,1,1,1,1,1,1,1,1,1,1,1,1,1,1,1,1,1,1,1,1,1,1,1,1,1,1,1,1,1,1,1,1,1,1,1,1,1,1,1,1,1,1,1,1,1,1,1,1,1,1,1,1,1,1,1,1,1,1,1,1,1,1,1,1,1,1,1,1,1,1,1,1,1,1,1,1,1,1,1,1,1,1,1,1,1,1,1,1,1,1,1,1,1,1,1,1,1,1,1,1,1,1,1,1,1,1,1,1,1,1,1,1,1,1,1,1,1,1,1,1,1,1,1,1,1,1,1,1,1,1,1,1,1,1,1,1,1,1,1,1,1,1,1,1,1,1,1,1,1,1,1,1,1,1,1,1,1,1,1,1,1,1,1,1,1,1,1,1,1,1,1,1,1,1,1,1,1,1,1,1,1,1,1,1,1,1,1,1,1,1,1,1,1,1,1,1,1,1,1,1,1,1,1,1,1,1,1,1,1,1,1,1,1,1,1,1,1,1,1,1,1,1,1,1,1,1,1,1,1,1,1,1,1,1,1,1,1,1,1,1,1,1,1,1,1,1,1,1,1,1,1,1,1,1,1,1,1,1,1,1,1,1,1,1,1,1,1,1,1,1,1,1,1,1,1,1,1,1,1,1,1,1,1,1,1,1,1,1,1,1,1,1,1,1,1,1,1,1,1,1,1,1,1,1,1,1,1,1,1,1,1,1,1,1,1,1,1,1,1,1,1,1,1,1,1,1,1,1,1,1,1,1,1,1,1,1,1,1,1,1,1,1,1,1,1,1,1,1,1,1,1,1,1,1,1,1,1,1,1,1,1,1,1,1,1,1,1,1,1,1,1,1,1,1,1,1,1,1,1,1,1,1,1,1,1,1,1,1,1,1,1,1,1,1,1,1,1,1,1,1,1,1,1,1,1,1,1,1,1,1,1,1,1,1,1,1,1,1,1,1,1,1,1,1,1,1,1,1,1,1,1,1,1,1,1,1,1,1,1,1,1,1,1,1,1,1,1,1,1,1,1,1,1,1,1,1,1,1,1,1,1,1,1,1,1,1,1,1,1,1,1,1,1,1,1,1,1,1,1,1,1,1,1,1,1,1,1,1,1,1,1,1,1,1,1,1,1,1,1,1,1,1,1,1,1,1,1,1,1,1,1,1,1,1,1,1,1,1,1,1,1,1,1,1,1,1,1,1,1,1,1,1,1,1,1,1,1,1,1,1,1,1,1,1,1,1,1,1,1,1,1,1,1,1,1,1,1,1,1,1,1,1,1,1,1,1,1,1,1,1,1,1,1,1,1,1,1,1,1,1,1,1,1,1,1,1,1,1,1,1,1,1,1,1,1,1,1,1,1,1,1,1,1,1,1,1,1,1,1,1,1,1,1,1,1,1,1,1,1,1,1,1,1,1,1,1,1,1,1,1,1,1,1,1,1,1,1,1,1,1,1,1,1,1,1,1,1,1,1,1,1,1,1,1,1,1,1,1,1,1,1,1,1,1,1,1,1,1,1,1,1,1,1,1,1,1,1,1,1,1,1,1,1,1,1,1,1,1,1,1,1,1,1,1,1,1,1,1,1,1,1,1,1,1,1,1,1,1,1,1,1,1,1,1,1,1,1,1,1,1,1,1,1,1,1,1,1,1,1,1,1,1,1,1,1,1,1,1,1,1,1,1,1,1,1,1,1,1,1,1,1,1,1,1,1,1,1,1,1,1,1,1,1,1,1,1,1,1,1,1,1,1,1,1,1,1,1,1,1,1,1,1,1,1,1,1,1,1,1,1,1,1,1,1,1,1,1,1,1,1,1,1,1,1,1,1,1,1,1,1,1,1,1,1,1,1,1,1,1,1,1,1,1,1,1,1,1,1,1,1,1,1,1,1,1,1,1,1,1,1,1,1,1,1,1,1,1,1,1,1,1,1,1,1,1,1,1,1,1,1,1,1,1,1,1,1,1,1,1,1,1,1,1,1,1,1,1,1,1,1,1,1,1,1,1,1,1,1,1,1,1,1,1,1,1,1,1,1,1,1,1,1,1,1,1,1,1,1,1,1,1,1,1,1,1,1,1,1,1,1,1,1,1,1,1,1,1,1,1,1,1,1,1,1,1,1,1,1,1,1,1,1,1,1,1,1,1,1,1,1,1,1,1,1,1,1,1,1,1,1,1,1,1,1,1,1,1,1,1,1,1,1,1,1,1,1,1,1,1,1,1,1,1,1,1,1,1,1,1,1,1,1,1,1,1,1,1,1,1,1,1,1,1,1,1,1,1,1,1,1,1,1,1,1,1,1,1,1,1,1,1,1,1,1,1,1,1,1,1,1,1,1,1,1,1,1,1,1,1,1,1,1,1,1,1,1,1,1,1,1,1,1,1,1,1,1,1,1,1,1,1,1,1,1,1,1,1,1,1,1,1,1,1,1,1,1,1,1,1,1,1,1,1,1,1,1,1,1,1,1,1,1,1,1,1,1,1,1,1,1,1,1,1,1,1,1,1,1,1,1,1,1,1,1,1,1,1,1,1,1,1,1,1,1,1,1,1,1,1,1,1,1,1,1,1,1,1,1,1,1,1,1,1,1,1,1,1,1,1,1,1,1,1,1,1,1,1,1,1,1,1,1,1,1,1,1,1,1,1,1,1,1,1,1,1,1,1,1,1,1,1,1,1,1,1,1,1,1,1,1,1,1,1,1,1,1,1,1,1,1,1,1,1,1,1,1,1,1,1,1,1,1,1,1,1,1,1,1,1,1,1,1,1,1,1,1,1,1,1,1,1,1,1,1,1,1,1,1,1,1,1,1,1,1,1,1,1,1,1,1,1,1,1,1,1,1,1,1,1,1,1,1,1,1,1,1,1,1,1,1,1,1,1,1,1,1,1,1,1,1,1,1,1,1,1,1,1,1,1,1,1,1,1,1,1,1,1,1,1,1,1,1,1,1,1,1,1,1,1,1,1,1,1,1,1,1,1,1,1,1,1,1,1,1,1,1,1,1,1,1,1,1,1,1,1,1,1,1,1,1,1,1,1,1,1,1,1,1,1,1,1,1,1,1,1,1,1,1,1,1,1,1,1,1,1,1,1,1,1,1,1,1,1,1,1,1,1,1,1,1,1,1,1,1,1,1,1,1,1,1,1,1,1,1,1,1,1,1,1,1,1,1,1,1,1,1,1,1,1,1,1,1,1,1,1,1,1,1,1,1,1,1,1,1,1,1,1,1,1,1,1,1,1,1,1,1,1,1,1,1,1,1,1,1,1,1,1,1,1,1,1,1,1,1,1,1,1,1,1,1,1,1,1,1,1,1,1,1,1,1,1,1,1,1,1,1,1,1,1,1,1,1,1,1,1,1,1,1,1,1,1,1,1,1,1,1,1,1,1,1,1,1,1,1,1,1,1,1,1,1,1,1,1,1,1,1,1,1,1,1,1,1,1,1,1,1,1,1,1,1,1,1,1,1,1,1,1,1,1,1,1,1,1,1,1,1,1,1,1,1,1,1,1,1,1,1,1,1,1,1,1,1,1,1,1,1,1,1,1,1,1,1,1,1,1,1,1,1,1,1,1,1,1,1,1,1,1,1,1,1,1,1,1,1,1,1,1,1,1,1,1,1,1,1,1,1,1,1,1,1,1,1,1,1,1,1,1,1,1,1,1,1,1,1,1,1,1,1,1,1,1,1,1,1,1,1,1,1,1,1,1,1,1,1,1,1,1,1,1,1,1,1,1,1,1,1,1,1,1,1,1,1,1,1,1,1,1,1,1,1,1,1,1,1,1,1,1,1,1,1,1,1,1,1,1,1,1,1,1],\"color\":[\"#f47044\",\"#f47044\",\"#58b2ac\",\"#af1446\",\"#f47044\",\"#f47044\",\"#f47044\",\"#f47044\",\"#f47044\",\"#f47044\",\"#f47044\",\"#69c3a5\",\"#f47044\",\"#fed683\",\"#d63f4f\",\"#58b2ac\",\"#f47044\",\"#fdb365\",\"#f47044\",\"#f47044\",\"#f47044\",\"#9e0142\",\"#f2faaa\",\"#f47044\",\"#f47044\",\"#f47044\",\"#fee491\",\"#fb9d59\",\"#f47044\",\"#eb6046\",\"#99d6a4\",\"#f47044\",\"#f47044\",\"#daf09a\",\"#f8864f\",\"#af1446\",\"#f47044\",\"#b1dfa3\",\"#f47044\",\"#fbfdb8\",\"#f47044\",\"#f47044\",\"#f47044\",\"#99d6a4\",\"#f47044\",\"#f47044\",\"#9e0142\",\"#f47044\",\"#f47044\",\"#fee491\",\"#f47044\",\"#f47044\",\"#f47044\",\"#f47044\",\"#f47044\",\"#f47044\",\"#fbfdb8\",\"#f47044\",\"#fed683\",\"#f47044\",\"#f47044\",\"#f47044\",\"#f47044\",\"#f47044\",\"#f47044\",\"#58b2ac\",\"#f47044\",\"#f47044\",\"#f47044\",\"#f47044\",\"#99d6a4\",\"#fed683\",\"#f47044\",\"#f47044\",\"#fed683\",\"#58b2ac\",\"#f47044\",\"#af1446\",\"#fed683\",\"#fffab6\",\"#f47044\",\"#f47044\",\"#f47044\",\"#f47044\",\"#fed683\",\"#f47044\",\"#fee491\",\"#af1446\",\"#e1504b\",\"#f47044\",\"#d63f4f\",\"#f47044\",\"#f47044\",\"#f47044\",\"#fdb365\",\"#af1446\",\"#69c3a5\",\"#9e0142\",\"#f47044\",\"#fffab6\",\"#fed683\",\"#f47044\",\"#af1446\",\"#f47044\",\"#fdc574\",\"#f47044\",\"#e1504b\",\"#fee491\",\"#fee491\",\"#f47044\",\"#f47044\",\"#e1504b\",\"#f47044\",\"#f47044\",\"#f47044\",\"#f47044\",\"#99d6a4\",\"#f47044\",\"#fdb365\",\"#58b2ac\",\"#b1dfa3\",\"#f47044\",\"#f47044\",\"#f47044\",\"#f47044\",\"#f47044\",\"#fdc574\",\"#f47044\",\"#f47044\",\"#f47044\",\"#f47044\",\"#f47044\",\"#f47044\",\"#f47044\",\"#fee491\",\"#f47044\",\"#e9f69d\",\"#99d6a4\",\"#99d6a4\",\"#f47044\",\"#f47044\",\"#f47044\",\"#fee491\",\"#e1504b\",\"#f47044\",\"#f47044\",\"#fed683\",\"#f47044\",\"#9e0142\",\"#fed683\",\"#b1dfa3\",\"#f47044\",\"#f47044\",\"#f47044\",\"#58b2ac\",\"#f47044\",\"#f47044\",\"#f47044\",\"#fed683\",\"#f47044\",\"#f47044\",\"#99d6a4\",\"#fffab6\",\"#f47044\",\"#f47044\",\"#99d6a4\",\"#f47044\",\"#f47044\",\"#f47044\",\"#f47044\",\"#f47044\",\"#f47044\",\"#f2faaa\",\"#fdc574\",\"#fed683\",\"#f47044\",\"#f47044\",\"#b1dfa3\",\"#fed683\",\"#e9f69d\",\"#f47044\",\"#f47044\",\"#f47044\",\"#f47044\",\"#58b2ac\",\"#f47044\",\"#f47044\",\"#d63f4f\",\"#f47044\",\"#f47044\",\"#69c3a5\",\"#f47044\",\"#f47044\",\"#f47044\",\"#fee491\",\"#fee491\",\"#f47044\",\"#fed683\",\"#f47044\",\"#f47044\",\"#f47044\",\"#3389bd\",\"#fee491\",\"#af1446\",\"#f47044\",\"#9e0142\",\"#f47044\",\"#f47044\",\"#f47044\",\"#99d6a4\",\"#58b2ac\",\"#e9f69d\",\"#f47044\",\"#f47044\",\"#fee491\",\"#58b2ac\",\"#e9f69d\",\"#f47044\",\"#f47044\",\"#f47044\",\"#99d6a4\",\"#fee491\",\"#f47044\",\"#f47044\",\"#f47044\",\"#f47044\",\"#f47044\",\"#f47044\",\"#e1504b\",\"#f47044\",\"#f47044\",\"#fed683\",\"#e9f69d\",\"#f47044\",\"#f47044\",\"#b1dfa3\",\"#58b2ac\",\"#eb6046\",\"#69c3a5\",\"#69c3a5\",\"#f47044\",\"#f47044\",\"#fed683\",\"#f47044\",\"#f47044\",\"#fed683\",\"#f47044\",\"#f47044\",\"#e9f69d\",\"#459eb4\",\"#f47044\",\"#f47044\",\"#f47044\",\"#fed683\",\"#f47044\",\"#f47044\",\"#f47044\",\"#f47044\",\"#58b2ac\",\"#f47044\",\"#99d6a4\",\"#f47044\",\"#9e0142\",\"#f47044\",\"#f47044\",\"#e9f69d\",\"#f47044\",\"#eb6046\",\"#e1504b\",\"#f47044\",\"#f47044\",\"#81cda5\",\"#f47044\",\"#fffab6\",\"#f47044\",\"#99d6a4\",\"#f47044\",\"#af1446\",\"#f47044\",\"#f47044\",\"#f47044\",\"#f47044\",\"#f47044\",\"#f47044\",\"#f47044\",\"#e9f69d\",\"#58b2ac\",\"#f47044\",\"#fffab6\",\"#69c3a5\",\"#f47044\",\"#e9f69d\",\"#fdc574\",\"#f47044\",\"#d63f4f\",\"#f47044\",\"#58b2ac\",\"#f47044\",\"#f47044\",\"#4175b4\",\"#f47044\",\"#fee491\",\"#f47044\",\"#f47044\",\"#f47044\",\"#fbfdb8\",\"#f47044\",\"#f47044\",\"#fee491\",\"#f47044\",\"#f47044\",\"#c6e89f\",\"#f47044\",\"#fbfdb8\",\"#f47044\",\"#f47044\",\"#fed683\",\"#f47044\",\"#f47044\",\"#e9f69d\",\"#f47044\",\"#f47044\",\"#b1dfa3\",\"#69c3a5\",\"#f47044\",\"#f47044\",\"#fed683\",\"#f47044\",\"#f47044\",\"#f2faaa\",\"#fed683\",\"#f47044\",\"#f47044\",\"#fed683\",\"#f47044\",\"#459eb4\",\"#f47044\",\"#f47044\",\"#fed683\",\"#f47044\",\"#f47044\",\"#f47044\",\"#5061aa\",\"#f47044\",\"#f47044\",\"#f47044\",\"#f47044\",\"#e9f69d\",\"#f47044\",\"#fee491\",\"#f47044\",\"#f47044\",\"#f47044\",\"#fed683\",\"#fed683\",\"#fb9d59\",\"#f47044\",\"#f47044\",\"#f47044\",\"#99d6a4\",\"#f47044\",\"#e9f69d\",\"#69c3a5\",\"#fee491\",\"#f47044\",\"#b1dfa3\",\"#f47044\",\"#f47044\",\"#f47044\",\"#fed683\",\"#9e0142\",\"#f47044\",\"#f47044\",\"#f47044\",\"#69c3a5\",\"#99d6a4\",\"#f47044\",\"#f47044\",\"#fffab6\",\"#b1dfa3\",\"#f47044\",\"#4175b4\",\"#f8864f\",\"#e1504b\",\"#f47044\",\"#f47044\",\"#f47044\",\"#58b2ac\",\"#f47044\",\"#99d6a4\",\"#f47044\",\"#4175b4\",\"#f47044\",\"#fdb365\",\"#f47044\",\"#af1446\",\"#58b2ac\",\"#af1446\",\"#daf09a\",\"#58b2ac\",\"#f47044\",\"#f47044\",\"#99d6a4\",\"#99d6a4\",\"#69c3a5\",\"#99d6a4\",\"#f47044\",\"#e1504b\",\"#fdb365\",\"#f47044\",\"#99d6a4\",\"#fdc574\",\"#fdb365\",\"#f47044\",\"#f47044\",\"#f47044\",\"#eb6046\",\"#58b2ac\",\"#f47044\",\"#9e0142\",\"#d63f4f\",\"#f47044\",\"#f47044\",\"#f47044\",\"#e1504b\",\"#fed683\",\"#f47044\",\"#f47044\",\"#fdb365\",\"#f47044\",\"#fed683\",\"#f47044\",\"#f47044\",\"#f47044\",\"#f47044\",\"#f47044\",\"#58b2ac\",\"#f47044\",\"#f47044\",\"#f47044\",\"#69c3a5\",\"#f47044\",\"#c6e89f\",\"#b1dfa3\",\"#5061aa\",\"#e9f69d\",\"#f47044\",\"#f47044\",\"#f47044\",\"#9e0142\",\"#fed683\",\"#f47044\",\"#f47044\",\"#f47044\",\"#fdb365\",\"#fdc574\",\"#f47044\",\"#f47044\",\"#9e0142\",\"#f47044\",\"#69c3a5\",\"#99d6a4\",\"#b1dfa3\",\"#f47044\",\"#81cda5\",\"#c6e89f\",\"#f47044\",\"#fdc574\",\"#f47044\",\"#af1446\",\"#daf09a\",\"#f47044\",\"#69c3a5\",\"#f47044\",\"#fed683\",\"#f47044\",\"#fed683\",\"#f47044\",\"#9e0142\",\"#f47044\",\"#f47044\",\"#af1446\",\"#f47044\",\"#f47044\",\"#fee491\",\"#f47044\",\"#f47044\",\"#f47044\",\"#f47044\",\"#9e0142\",\"#69c3a5\",\"#3389bd\",\"#f47044\",\"#fed683\",\"#f47044\",\"#f47044\",\"#5061aa\",\"#fdb365\",\"#69c3a5\",\"#f47044\",\"#af1446\",\"#f47044\",\"#f47044\",\"#f47044\",\"#58b2ac\",\"#9e0142\",\"#f47044\",\"#f47044\",\"#f47044\",\"#f47044\",\"#fffab6\",\"#f47044\",\"#f47044\",\"#fed683\",\"#af1446\",\"#af1446\",\"#f47044\",\"#fdb365\",\"#fdb365\",\"#e1504b\",\"#f47044\",\"#f47044\",\"#f47044\",\"#fed683\",\"#f47044\",\"#fb9d59\",\"#af1446\",\"#e1504b\",\"#f47044\",\"#f47044\",\"#f47044\",\"#f47044\",\"#f47044\",\"#fbfdb8\",\"#f47044\",\"#f47044\",\"#f47044\",\"#f47044\",\"#f47044\",\"#58b2ac\",\"#58b2ac\",\"#f47044\",\"#3389bd\",\"#f47044\",\"#69c3a5\",\"#f47044\",\"#fdc574\",\"#f47044\",\"#e9f69d\",\"#fbfdb8\",\"#fdc574\",\"#fee491\",\"#f47044\",\"#f47044\",\"#99d6a4\",\"#5061aa\",\"#fee491\",\"#b1dfa3\",\"#f47044\",\"#f47044\",\"#f47044\",\"#f47044\",\"#e9f69d\",\"#99d6a4\",\"#f47044\",\"#f47044\",\"#f47044\",\"#f47044\",\"#f47044\",\"#f47044\",\"#99d6a4\",\"#f47044\",\"#58b2ac\",\"#fffab6\",\"#fed683\",\"#f47044\",\"#f47044\",\"#f47044\",\"#f47044\",\"#b1dfa3\",\"#b1dfa3\",\"#fdc574\",\"#f47044\",\"#f47044\",\"#99d6a4\",\"#e9f69d\",\"#f47044\",\"#f47044\",\"#fdb365\",\"#fee491\",\"#c6e89f\",\"#f47044\",\"#f47044\",\"#f47044\",\"#f47044\",\"#fed683\",\"#fee491\",\"#69c3a5\",\"#fbfdb8\",\"#f47044\",\"#b1dfa3\",\"#9e0142\",\"#f47044\",\"#fed683\",\"#99d6a4\",\"#e9f69d\",\"#f47044\",\"#99d6a4\",\"#58b2ac\",\"#69c3a5\",\"#fed683\",\"#fdb365\",\"#fbfdb8\",\"#fed683\",\"#fbfdb8\",\"#e1504b\",\"#99d6a4\",\"#fdb365\",\"#f47044\",\"#fee491\",\"#af1446\",\"#f47044\",\"#f47044\",\"#9e0142\",\"#f47044\",\"#fffab6\",\"#f47044\",\"#f47044\",\"#f47044\",\"#f47044\",\"#f47044\",\"#69c3a5\",\"#f47044\",\"#fee491\",\"#f47044\",\"#e1504b\",\"#fee491\",\"#f47044\",\"#fee491\",\"#fee491\",\"#f47044\",\"#f47044\",\"#f47044\",\"#e1504b\",\"#f47044\",\"#f47044\",\"#fffab6\",\"#f47044\",\"#c6e89f\",\"#f47044\",\"#f47044\",\"#f47044\",\"#d63f4f\",\"#daf09a\",\"#f47044\",\"#9e0142\",\"#b1dfa3\",\"#f47044\",\"#f47044\",\"#f47044\",\"#58b2ac\",\"#fbfdb8\",\"#69c3a5\",\"#f47044\",\"#f47044\",\"#58b2ac\",\"#f47044\",\"#f47044\",\"#f47044\",\"#f47044\",\"#9e0142\",\"#f47044\",\"#f47044\",\"#f47044\",\"#f47044\",\"#f47044\",\"#f47044\",\"#fdb365\",\"#99d6a4\",\"#58b2ac\",\"#f47044\",\"#f47044\",\"#f47044\",\"#9e0142\",\"#f47044\",\"#f47044\",\"#f47044\",\"#f47044\",\"#fee491\",\"#b1dfa3\",\"#f47044\",\"#fed683\",\"#f47044\",\"#3389bd\",\"#fdb365\",\"#f47044\",\"#f47044\",\"#af1446\",\"#fed683\",\"#b1dfa3\",\"#fed683\",\"#c6e89f\",\"#f47044\",\"#f47044\",\"#f47044\",\"#f47044\",\"#fed683\",\"#fffab6\",\"#f47044\",\"#fdb365\",\"#f47044\",\"#58b2ac\",\"#fdb365\",\"#f47044\",\"#fbfdb8\",\"#f47044\",\"#feefa3\",\"#f47044\",\"#f47044\",\"#99d6a4\",\"#f47044\",\"#f47044\",\"#f47044\",\"#58b2ac\",\"#fed683\",\"#daf09a\",\"#f47044\",\"#f47044\",\"#f47044\",\"#fed683\",\"#f47044\",\"#daf09a\",\"#f47044\",\"#fdb365\",\"#f47044\",\"#fffab6\",\"#69c3a5\",\"#9e0142\",\"#e9f69d\",\"#c32a4b\",\"#58b2ac\",\"#f47044\",\"#f47044\",\"#f47044\",\"#f47044\",\"#f47044\",\"#fb9d59\",\"#f47044\",\"#f47044\",\"#f47044\",\"#f47044\",\"#f47044\",\"#f47044\",\"#f47044\",\"#f47044\",\"#9e0142\",\"#f47044\",\"#58b2ac\",\"#f47044\",\"#99d6a4\",\"#f47044\",\"#fed683\",\"#f47044\",\"#f47044\",\"#f47044\",\"#fffab6\",\"#fed683\",\"#f47044\",\"#b1dfa3\",\"#fee491\",\"#d63f4f\",\"#f47044\",\"#fed683\",\"#f47044\",\"#fdc574\",\"#e9f69d\",\"#99d6a4\",\"#af1446\",\"#b1dfa3\",\"#f47044\",\"#3389bd\",\"#f47044\",\"#f47044\",\"#fed683\",\"#e1504b\",\"#fed683\",\"#f47044\",\"#f47044\",\"#f47044\",\"#f47044\",\"#f47044\",\"#f47044\",\"#fdc574\",\"#fed683\",\"#f47044\",\"#b1dfa3\",\"#fffab6\",\"#f47044\",\"#daf09a\",\"#b1dfa3\",\"#f47044\",\"#af1446\",\"#f47044\",\"#b1dfa3\",\"#f47044\",\"#f47044\",\"#fed683\",\"#f47044\",\"#f47044\",\"#f47044\",\"#af1446\",\"#f47044\",\"#58b2ac\",\"#9e0142\",\"#fed683\",\"#f47044\",\"#58b2ac\",\"#f47044\",\"#fee491\",\"#3389bd\",\"#81cda5\",\"#f47044\",\"#f47044\",\"#f47044\",\"#f47044\",\"#f47044\",\"#f47044\",\"#f47044\",\"#f47044\",\"#f47044\",\"#58b2ac\",\"#fed683\",\"#b1dfa3\",\"#69c3a5\",\"#f47044\",\"#fdc574\",\"#f47044\",\"#f47044\",\"#f47044\",\"#fdc574\",\"#f47044\",\"#f47044\",\"#f47044\",\"#f47044\",\"#69c3a5\",\"#f47044\",\"#fed683\",\"#f47044\",\"#f47044\",\"#f47044\",\"#f47044\",\"#f47044\",\"#f47044\",\"#fee491\",\"#99d6a4\",\"#58b2ac\",\"#f47044\",\"#f47044\",\"#f47044\",\"#f47044\",\"#fffab6\",\"#f47044\",\"#f47044\",\"#f47044\",\"#f47044\",\"#f47044\",\"#58b2ac\",\"#f47044\",\"#f47044\",\"#f47044\",\"#f47044\",\"#fed683\",\"#fdc574\",\"#e9f69d\",\"#fed683\",\"#f47044\",\"#af1446\",\"#fdb365\",\"#9e0142\",\"#f47044\",\"#58b2ac\",\"#f47044\",\"#fdb365\",\"#fed683\",\"#f47044\",\"#f47044\",\"#f47044\",\"#3389bd\",\"#f47044\",\"#f47044\",\"#58b2ac\",\"#fed683\",\"#af1446\",\"#f47044\",\"#99d6a4\",\"#f47044\",\"#58b2ac\",\"#f47044\",\"#f47044\",\"#fffab6\",\"#fee491\",\"#f47044\",\"#fee491\",\"#f47044\",\"#f47044\",\"#f47044\",\"#fed683\",\"#b1dfa3\",\"#f47044\",\"#f47044\",\"#99d6a4\",\"#f47044\",\"#f47044\",\"#f47044\",\"#f47044\",\"#f47044\",\"#f47044\",\"#f47044\",\"#e9f69d\",\"#f47044\",\"#f47044\",\"#fb9d59\",\"#f47044\",\"#f47044\",\"#f47044\",\"#f47044\",\"#af1446\",\"#f47044\",\"#f47044\",\"#daf09a\",\"#fbfdb8\",\"#f47044\",\"#f47044\",\"#f47044\",\"#9e0142\",\"#fee491\",\"#f47044\",\"#f47044\",\"#f47044\",\"#f47044\",\"#f47044\",\"#f2faaa\",\"#f47044\",\"#fffab6\",\"#f47044\",\"#b1dfa3\",\"#fbfdb8\",\"#f47044\",\"#e9f69d\",\"#fed683\",\"#b1dfa3\",\"#f47044\",\"#f47044\",\"#f47044\",\"#f47044\",\"#f47044\",\"#e1504b\",\"#fee491\",\"#fed683\",\"#af1446\",\"#f47044\",\"#f47044\",\"#f47044\",\"#9e0142\",\"#58b2ac\",\"#fed683\",\"#fed683\",\"#f47044\",\"#f47044\",\"#fed683\",\"#f47044\",\"#fffab6\",\"#58b2ac\",\"#f47044\",\"#f47044\",\"#f47044\",\"#58b2ac\",\"#f47044\",\"#fed683\",\"#f47044\",\"#eb6046\",\"#f47044\",\"#f47044\",\"#f47044\",\"#f47044\",\"#af1446\",\"#af1446\",\"#f47044\",\"#f47044\",\"#f47044\",\"#e1504b\",\"#fbfdb8\",\"#99d6a4\",\"#f47044\",\"#f47044\",\"#b1dfa3\",\"#f47044\",\"#fed683\",\"#af1446\",\"#e9f69d\",\"#fee491\",\"#fed683\",\"#f47044\",\"#fee491\",\"#f47044\",\"#f47044\",\"#f47044\",\"#f47044\",\"#58b2ac\",\"#f47044\",\"#f47044\",\"#f47044\",\"#f47044\",\"#f47044\",\"#58b2ac\",\"#f47044\",\"#f47044\",\"#fed683\",\"#f47044\",\"#daf09a\",\"#f47044\",\"#69c3a5\",\"#fdc574\",\"#f47044\",\"#99d6a4\",\"#fed683\",\"#c6e89f\",\"#f47044\",\"#f47044\",\"#f47044\",\"#af1446\",\"#f47044\",\"#f47044\",\"#69c3a5\",\"#f47044\",\"#f47044\",\"#b1dfa3\",\"#fed683\",\"#58b2ac\",\"#f47044\",\"#f47044\",\"#f47044\",\"#9e0142\",\"#f47044\",\"#f47044\",\"#fee491\",\"#fee491\",\"#f47044\",\"#f47044\",\"#f47044\",\"#f47044\",\"#58b2ac\",\"#f47044\",\"#f47044\",\"#f47044\",\"#f47044\",\"#fed683\",\"#fed683\",\"#f47044\",\"#e9f69d\",\"#f47044\",\"#f47044\",\"#f47044\",\"#f47044\",\"#fed683\",\"#f47044\",\"#69c3a5\",\"#69c3a5\",\"#fed683\",\"#f47044\",\"#f47044\",\"#99d6a4\",\"#f47044\",\"#fed683\",\"#f47044\",\"#f47044\",\"#f47044\",\"#f47044\",\"#f47044\",\"#af1446\",\"#f47044\",\"#f47044\",\"#f47044\",\"#f47044\",\"#69c3a5\",\"#c6e89f\",\"#f47044\",\"#58b2ac\",\"#4175b4\",\"#f47044\",\"#f47044\",\"#f47044\",\"#f47044\",\"#f47044\",\"#f47044\",\"#eb6046\",\"#b1dfa3\",\"#f47044\",\"#fed683\",\"#f47044\",\"#fdb365\",\"#f47044\",\"#fdb365\",\"#f47044\",\"#f47044\",\"#f47044\",\"#69c3a5\",\"#fed683\",\"#f47044\",\"#58b2ac\",\"#fed683\",\"#f47044\",\"#f47044\",\"#f47044\",\"#fdb365\",\"#f47044\",\"#fdb365\",\"#fdc574\",\"#fed683\",\"#f47044\",\"#99d6a4\",\"#fed683\",\"#f47044\",\"#99d6a4\",\"#f47044\",\"#f47044\",\"#f47044\",\"#f47044\",\"#f47044\",\"#f47044\",\"#f47044\",\"#f47044\",\"#f8864f\",\"#f47044\",\"#58b2ac\",\"#f47044\",\"#f47044\",\"#f47044\",\"#fffab6\",\"#f47044\",\"#fed683\",\"#f47044\",\"#3389bd\",\"#f47044\",\"#f47044\",\"#daf09a\",\"#f47044\",\"#b1dfa3\",\"#b1dfa3\",\"#fdc574\",\"#f47044\",\"#e1504b\",\"#f47044\",\"#f47044\",\"#f47044\",\"#f47044\",\"#9e0142\",\"#e9f69d\",\"#58b2ac\",\"#58b2ac\",\"#b1dfa3\",\"#e9f69d\",\"#f47044\",\"#f47044\",\"#f47044\",\"#fdc574\",\"#f47044\",\"#69c3a5\",\"#f47044\",\"#f47044\",\"#f47044\",\"#fffab6\",\"#9e0142\",\"#f47044\",\"#f47044\",\"#f47044\",\"#af1446\",\"#99d6a4\",\"#f47044\",\"#f47044\",\"#f47044\",\"#f47044\",\"#fffab6\",\"#eb6046\",\"#9e0142\",\"#f47044\",\"#fed683\",\"#f47044\",\"#f47044\",\"#f47044\",\"#f47044\",\"#f47044\",\"#f47044\",\"#f47044\",\"#fdb365\",\"#f47044\",\"#f47044\",\"#f47044\",\"#99d6a4\",\"#f47044\",\"#c32a4b\",\"#fdb365\",\"#69c3a5\",\"#5061aa\",\"#fed683\",\"#f2faaa\",\"#f47044\",\"#f47044\",\"#f47044\",\"#f47044\",\"#f47044\",\"#69c3a5\",\"#f47044\",\"#fee491\",\"#f47044\",\"#f47044\",\"#f47044\",\"#fed683\",\"#b1dfa3\",\"#81cda5\",\"#f47044\",\"#fed683\",\"#f47044\",\"#99d6a4\",\"#f47044\",\"#f47044\",\"#e1504b\",\"#f47044\",\"#f47044\",\"#f47044\",\"#af1446\",\"#f47044\",\"#e9f69d\",\"#f47044\",\"#f47044\",\"#f47044\",\"#f47044\",\"#fdc574\",\"#f47044\",\"#f47044\",\"#feefa3\",\"#b1dfa3\",\"#fed683\",\"#fbfdb8\",\"#f47044\",\"#f47044\",\"#f47044\",\"#fed683\",\"#f47044\",\"#e9f69d\",\"#e1504b\",\"#fdc574\",\"#f47044\",\"#f47044\",\"#3389bd\",\"#99d6a4\",\"#fdb365\",\"#f47044\",\"#f47044\",\"#fed683\",\"#f47044\",\"#f47044\",\"#f47044\",\"#f47044\",\"#fed683\",\"#f47044\",\"#fed683\",\"#f47044\",\"#e9f69d\",\"#f47044\",\"#f47044\",\"#f47044\",\"#fed683\",\"#f47044\",\"#f47044\",\"#f47044\",\"#fed683\",\"#fed683\",\"#9e0142\",\"#f47044\",\"#f47044\",\"#69c3a5\",\"#99d6a4\",\"#f47044\",\"#b1dfa3\",\"#f47044\",\"#f47044\",\"#f8864f\",\"#f47044\",\"#69c3a5\",\"#fee491\",\"#f47044\",\"#f47044\",\"#f47044\",\"#f47044\",\"#fbfdb8\",\"#fed683\",\"#f47044\",\"#f47044\",\"#f47044\",\"#f47044\",\"#f47044\",\"#e9f69d\",\"#f47044\",\"#99d6a4\",\"#fdc574\",\"#58b2ac\",\"#9e0142\",\"#af1446\",\"#99d6a4\",\"#99d6a4\",\"#f47044\",\"#58b2ac\",\"#e1504b\",\"#f47044\",\"#f47044\",\"#f47044\",\"#81cda5\",\"#f47044\",\"#f47044\",\"#f47044\",\"#f47044\",\"#fee491\",\"#fee491\",\"#fbfdb8\",\"#f47044\",\"#f47044\",\"#f47044\",\"#f47044\",\"#feefa3\",\"#f47044\",\"#f47044\",\"#f47044\",\"#fbfdb8\",\"#fed683\",\"#f47044\",\"#e9f69d\",\"#5061aa\",\"#f47044\",\"#99d6a4\",\"#f47044\",\"#fed683\",\"#f47044\",\"#58b2ac\",\"#f47044\",\"#f47044\",\"#f47044\",\"#b1dfa3\",\"#f47044\",\"#fbfdb8\",\"#f47044\",\"#f47044\",\"#f47044\",\"#3389bd\",\"#f47044\",\"#f47044\",\"#f47044\",\"#f47044\",\"#f47044\",\"#e9f69d\",\"#f47044\",\"#f47044\",\"#fdb365\",\"#fdb365\",\"#fb9d59\",\"#f47044\",\"#f47044\",\"#f47044\",\"#f47044\",\"#af1446\",\"#fee491\",\"#af1446\",\"#f47044\",\"#fee491\",\"#fee491\",\"#58b2ac\",\"#f47044\",\"#9e0142\",\"#f47044\",\"#f47044\",\"#f47044\",\"#f47044\",\"#f47044\",\"#f47044\",\"#f47044\",\"#fdb365\",\"#f47044\",\"#f47044\",\"#fed683\",\"#f47044\",\"#af1446\",\"#f47044\",\"#f47044\",\"#99d6a4\",\"#58b2ac\",\"#f47044\",\"#d63f4f\",\"#f47044\",\"#81cda5\",\"#58b2ac\",\"#f47044\",\"#af1446\",\"#f47044\",\"#58b2ac\",\"#fed683\",\"#f47044\",\"#f47044\",\"#f47044\",\"#f47044\",\"#58b2ac\",\"#fed683\",\"#f47044\",\"#fee491\",\"#af1446\",\"#f47044\",\"#f47044\",\"#f47044\",\"#f47044\",\"#f47044\",\"#fed683\",\"#f47044\",\"#fed683\",\"#69c3a5\",\"#58b2ac\",\"#fee491\",\"#f47044\",\"#f47044\",\"#f47044\",\"#e1504b\",\"#fee491\",\"#f47044\",\"#f47044\",\"#f47044\",\"#b1dfa3\",\"#58b2ac\",\"#fee491\",\"#99d6a4\",\"#f47044\",\"#f47044\",\"#f47044\",\"#f47044\",\"#f47044\",\"#f47044\",\"#f47044\",\"#fed683\",\"#f47044\",\"#f47044\",\"#af1446\",\"#f47044\",\"#fbfdb8\",\"#fed683\",\"#69c3a5\",\"#fed683\",\"#f47044\",\"#f47044\",\"#f47044\",\"#f47044\",\"#f47044\",\"#58b2ac\",\"#fee491\",\"#f47044\",\"#fb9d59\",\"#f47044\",\"#f47044\",\"#f47044\",\"#58b2ac\",\"#f47044\",\"#5061aa\",\"#e1504b\",\"#58b2ac\",\"#f47044\",\"#fdc574\",\"#f47044\",\"#f47044\",\"#f47044\",\"#fed683\",\"#f47044\",\"#f47044\",\"#f47044\",\"#fffab6\",\"#f47044\",\"#81cda5\",\"#f47044\",\"#fbfdb8\",\"#f47044\",\"#f47044\",\"#b1dfa3\",\"#c32a4b\",\"#fdb365\",\"#f47044\",\"#f47044\",\"#f47044\",\"#c32a4b\",\"#f47044\",\"#69c3a5\",\"#af1446\",\"#f47044\",\"#99d6a4\",\"#e9f69d\",\"#f47044\",\"#fee491\",\"#e1504b\",\"#5061aa\",\"#fee491\",\"#99d6a4\",\"#eb6046\",\"#f47044\",\"#daf09a\",\"#f47044\",\"#f47044\",\"#f47044\",\"#58b2ac\",\"#f47044\",\"#f47044\",\"#f47044\",\"#f47044\",\"#99d6a4\",\"#f47044\",\"#fee491\",\"#f47044\",\"#fbfdb8\",\"#99d6a4\",\"#69c3a5\",\"#58b2ac\",\"#fed683\",\"#af1446\",\"#fed683\",\"#fb9d59\",\"#f47044\",\"#f47044\",\"#f2faaa\",\"#5e4fa2\",\"#f47044\",\"#f47044\",\"#e9f69d\",\"#f47044\",\"#f47044\",\"#fed683\",\"#fed683\",\"#99d6a4\",\"#f47044\",\"#f47044\",\"#f47044\",\"#f47044\",\"#f47044\",\"#f47044\",\"#f47044\",\"#f47044\",\"#f8864f\",\"#f47044\",\"#f47044\",\"#f47044\",\"#f47044\",\"#b1dfa3\",\"#daf09a\",\"#f47044\",\"#f47044\",\"#9e0142\",\"#99d6a4\",\"#f47044\",\"#69c3a5\",\"#b1dfa3\",\"#fed683\",\"#58b2ac\",\"#f47044\",\"#d63f4f\",\"#f47044\",\"#fbfdb8\",\"#fed683\",\"#f47044\",\"#f47044\",\"#fed683\",\"#fed683\",\"#f47044\",\"#b1dfa3\",\"#f47044\",\"#58b2ac\",\"#f47044\",\"#f47044\",\"#fbfdb8\",\"#fdb365\",\"#fdb365\",\"#f47044\",\"#f47044\",\"#f47044\",\"#fed683\",\"#fffab6\",\"#f47044\",\"#f47044\",\"#f47044\",\"#b1dfa3\",\"#f47044\",\"#f47044\",\"#f47044\",\"#fbfdb8\",\"#58b2ac\",\"#b1dfa3\",\"#f47044\",\"#9e0142\",\"#69c3a5\",\"#f47044\",\"#fed683\",\"#58b2ac\",\"#f47044\",\"#f47044\",\"#9e0142\",\"#f47044\",\"#f47044\",\"#f47044\",\"#af1446\",\"#fee491\",\"#f47044\",\"#99d6a4\",\"#f47044\",\"#f47044\",\"#f47044\",\"#fbfdb8\",\"#69c3a5\",\"#f47044\",\"#fed683\",\"#e1504b\",\"#f47044\",\"#f47044\",\"#f47044\",\"#f47044\",\"#f47044\",\"#f47044\",\"#f47044\",\"#99d6a4\",\"#f47044\",\"#f47044\",\"#f47044\",\"#fee491\",\"#fee491\",\"#f47044\",\"#f47044\",\"#f47044\",\"#9e0142\",\"#9e0142\",\"#5061aa\",\"#99d6a4\",\"#f47044\",\"#fed683\",\"#fed683\",\"#f47044\",\"#f47044\",\"#f47044\",\"#69c3a5\",\"#f47044\",\"#58b2ac\",\"#99d6a4\",\"#fed683\",\"#f47044\",\"#99d6a4\",\"#5061aa\",\"#c6e89f\",\"#fbfdb8\",\"#f47044\",\"#f47044\",\"#f47044\",\"#fed683\",\"#af1446\",\"#e1504b\",\"#5061aa\",\"#9e0142\",\"#f47044\",\"#b1dfa3\",\"#69c3a5\",\"#af1446\",\"#f47044\",\"#f47044\",\"#f47044\",\"#f47044\",\"#9e0142\",\"#e9f69d\",\"#f47044\",\"#fb9d59\",\"#f47044\",\"#fed683\",\"#f47044\",\"#f47044\",\"#af1446\",\"#58b2ac\",\"#f47044\",\"#f47044\",\"#f47044\",\"#fbfdb8\",\"#9e0142\",\"#fed683\",\"#69c3a5\",\"#f47044\",\"#f47044\",\"#fed683\",\"#fdc574\",\"#f47044\",\"#f47044\",\"#f47044\",\"#58b2ac\",\"#af1446\",\"#f47044\",\"#f47044\",\"#f47044\",\"#58b2ac\",\"#f47044\",\"#f47044\",\"#f47044\",\"#fed683\",\"#f47044\",\"#f47044\",\"#e9f69d\",\"#f47044\",\"#f47044\",\"#e9f69d\",\"#58b2ac\",\"#fdb365\",\"#99d6a4\",\"#f47044\",\"#fed683\",\"#58b2ac\",\"#fb9d59\",\"#f47044\",\"#f8864f\",\"#f47044\",\"#f47044\",\"#f47044\",\"#f47044\",\"#f47044\",\"#daf09a\",\"#fee491\",\"#f47044\",\"#af1446\",\"#eb6046\",\"#f47044\",\"#f47044\",\"#f47044\",\"#b1dfa3\",\"#fed683\",\"#3389bd\",\"#f47044\",\"#fffab6\",\"#f47044\",\"#f47044\",\"#f47044\",\"#9e0142\",\"#f47044\",\"#f47044\",\"#f47044\",\"#f47044\",\"#fed683\",\"#fed683\",\"#69c3a5\",\"#f47044\",\"#f47044\",\"#f47044\",\"#fee491\",\"#f47044\",\"#e9f69d\",\"#fed683\",\"#e1504b\",\"#f47044\",\"#f47044\",\"#f47044\",\"#fed683\",\"#f47044\",\"#fbfdb8\",\"#f47044\",\"#f47044\",\"#f47044\",\"#fdb365\",\"#fee491\",\"#58b2ac\",\"#f47044\",\"#69c3a5\",\"#f47044\",\"#99d6a4\",\"#b1dfa3\",\"#c32a4b\",\"#af1446\",\"#fee491\",\"#f47044\",\"#b1dfa3\",\"#f47044\",\"#f47044\",\"#9e0142\",\"#f47044\",\"#fee491\",\"#e1504b\",\"#69c3a5\",\"#e9f69d\",\"#f47044\",\"#e1504b\",\"#c32a4b\",\"#f47044\",\"#99d6a4\",\"#f47044\",\"#f47044\",\"#af1446\",\"#f47044\",\"#58b2ac\",\"#3389bd\",\"#fed683\",\"#e9f69d\",\"#e9f69d\",\"#58b2ac\",\"#f47044\",\"#f47044\",\"#99d6a4\",\"#f47044\",\"#e9f69d\",\"#f47044\",\"#af1446\",\"#f47044\",\"#fed683\",\"#e9f69d\",\"#fee491\",\"#f47044\",\"#f47044\",\"#f47044\",\"#fee491\",\"#fed683\",\"#fed683\",\"#f47044\",\"#f47044\",\"#f47044\",\"#f47044\",\"#f47044\",\"#58b2ac\",\"#69c3a5\",\"#d63f4f\",\"#f47044\",\"#fed683\",\"#f47044\",\"#b1dfa3\",\"#f47044\",\"#f47044\",\"#58b2ac\",\"#f47044\",\"#f47044\",\"#99d6a4\",\"#f47044\",\"#f47044\",\"#f47044\",\"#f47044\",\"#f47044\",\"#f47044\",\"#f47044\",\"#f47044\",\"#f47044\",\"#e1504b\",\"#f47044\",\"#f47044\",\"#af1446\",\"#f47044\",\"#9e0142\",\"#fed683\",\"#f47044\",\"#58b2ac\",\"#f47044\",\"#e1504b\",\"#f47044\",\"#f47044\",\"#f47044\",\"#99d6a4\",\"#f47044\",\"#f47044\",\"#f47044\",\"#99d6a4\",\"#f47044\",\"#f47044\",\"#f47044\",\"#fdb365\",\"#58b2ac\",\"#f47044\",\"#f47044\",\"#f2faaa\",\"#f47044\",\"#f47044\",\"#f47044\",\"#f47044\",\"#f47044\",\"#f47044\",\"#f47044\",\"#e9f69d\",\"#f47044\",\"#fbfdb8\",\"#f47044\",\"#f47044\",\"#f47044\",\"#9e0142\",\"#f47044\",\"#f47044\",\"#f47044\",\"#f47044\",\"#f47044\",\"#f47044\",\"#58b2ac\",\"#f47044\",\"#f47044\",\"#f47044\",\"#f47044\",\"#f47044\",\"#c6e89f\",\"#58b2ac\",\"#58b2ac\",\"#b1dfa3\",\"#69c3a5\",\"#99d6a4\",\"#58b2ac\",\"#f47044\",\"#f47044\",\"#f47044\",\"#f47044\",\"#f47044\",\"#f47044\",\"#69c3a5\",\"#f47044\",\"#f47044\",\"#f47044\",\"#f47044\",\"#fed683\",\"#58b2ac\",\"#f47044\",\"#fee491\",\"#b1dfa3\",\"#f47044\",\"#58b2ac\",\"#c6e89f\",\"#f47044\",\"#f47044\",\"#81cda5\",\"#fbfdb8\",\"#f47044\",\"#f47044\",\"#fee491\",\"#f47044\",\"#f47044\",\"#fed683\",\"#fed683\",\"#f47044\",\"#f47044\",\"#f47044\",\"#fbfdb8\",\"#f47044\",\"#fed683\",\"#fed683\",\"#69c3a5\",\"#fee491\",\"#daf09a\",\"#f47044\",\"#f47044\",\"#99d6a4\",\"#c6e89f\",\"#69c3a5\",\"#fee491\",\"#af1446\",\"#f47044\",\"#f47044\",\"#f47044\",\"#fee491\",\"#f47044\",\"#fdc574\",\"#f47044\",\"#f47044\",\"#f47044\",\"#f47044\",\"#f47044\",\"#f47044\",\"#f47044\",\"#58b2ac\",\"#3389bd\",\"#99d6a4\",\"#fed683\",\"#f47044\",\"#f47044\",\"#fdb365\",\"#fed683\",\"#d63f4f\",\"#fee491\",\"#f47044\",\"#69c3a5\",\"#fed683\",\"#f47044\",\"#f47044\",\"#f47044\",\"#f47044\",\"#f47044\",\"#f47044\",\"#f47044\",\"#e1504b\",\"#f47044\",\"#fed683\",\"#f47044\",\"#f47044\",\"#f47044\",\"#81cda5\",\"#f47044\",\"#fee491\",\"#f47044\",\"#c6e89f\",\"#f47044\",\"#5061aa\",\"#f47044\",\"#feefa3\",\"#af1446\",\"#f47044\",\"#f47044\",\"#fed683\",\"#81cda5\",\"#99d6a4\",\"#f47044\",\"#69c3a5\",\"#f47044\",\"#fee491\",\"#f47044\",\"#f47044\",\"#af1446\",\"#81cda5\",\"#e1504b\",\"#b1dfa3\",\"#d63f4f\",\"#f47044\",\"#81cda5\",\"#fee491\",\"#f47044\",\"#f47044\",\"#f47044\",\"#af1446\",\"#69c3a5\",\"#99d6a4\",\"#b1dfa3\",\"#f47044\",\"#f47044\",\"#f47044\",\"#fb9d59\",\"#f47044\",\"#f8864f\",\"#af1446\",\"#fed683\",\"#fffab6\",\"#69c3a5\",\"#f47044\",\"#5061aa\",\"#f47044\",\"#f47044\",\"#f47044\",\"#f2faaa\",\"#f47044\",\"#69c3a5\",\"#f47044\",\"#af1446\",\"#58b2ac\",\"#e9f69d\",\"#f47044\",\"#f47044\",\"#f47044\",\"#f47044\",\"#fed683\",\"#f47044\",\"#daf09a\",\"#fed683\",\"#fed683\",\"#f47044\",\"#f47044\",\"#f47044\",\"#b1dfa3\",\"#99d6a4\",\"#f47044\",\"#f47044\",\"#af1446\",\"#b1dfa3\",\"#fee491\",\"#f47044\",\"#f47044\",\"#459eb4\",\"#f47044\",\"#e1504b\",\"#f47044\",\"#f47044\",\"#81cda5\",\"#f47044\",\"#f47044\",\"#3389bd\",\"#af1446\",\"#f47044\",\"#f47044\",\"#f47044\",\"#f47044\",\"#99d6a4\",\"#fed683\",\"#f47044\",\"#f47044\",\"#f47044\",\"#f47044\",\"#99d6a4\",\"#f47044\",\"#f47044\",\"#fdb365\",\"#f47044\",\"#fee491\",\"#f47044\",\"#f47044\",\"#b1dfa3\",\"#fed683\",\"#f47044\",\"#f47044\",\"#f47044\",\"#fee491\",\"#daf09a\",\"#b1dfa3\",\"#f47044\",\"#f47044\",\"#af1446\",\"#f47044\",\"#f47044\",\"#f47044\",\"#f47044\",\"#69c3a5\",\"#f47044\",\"#f47044\",\"#f47044\",\"#f47044\",\"#b1dfa3\",\"#e1504b\",\"#f47044\",\"#f47044\",\"#f47044\",\"#f47044\",\"#f47044\",\"#f47044\",\"#fed683\",\"#b1dfa3\",\"#fee491\",\"#fbfdb8\",\"#f47044\",\"#f47044\",\"#fdc574\",\"#f47044\",\"#f47044\",\"#fee491\",\"#fee491\",\"#f47044\",\"#f47044\",\"#f47044\",\"#e9f69d\",\"#f47044\",\"#c6e89f\",\"#f47044\",\"#fee491\",\"#f47044\",\"#f47044\",\"#f47044\",\"#f47044\",\"#f47044\",\"#99d6a4\",\"#fbfdb8\",\"#f47044\",\"#fdb365\",\"#fed683\",\"#99d6a4\",\"#f47044\",\"#b1dfa3\",\"#af1446\",\"#f47044\",\"#f47044\",\"#99d6a4\",\"#f47044\",\"#58b2ac\",\"#f47044\",\"#f47044\",\"#fee491\",\"#fee491\",\"#fed683\",\"#f47044\",\"#459eb4\",\"#99d6a4\",\"#d63f4f\",\"#f47044\",\"#fed683\",\"#f47044\",\"#f47044\",\"#f47044\",\"#f47044\",\"#f47044\",\"#f47044\",\"#f47044\",\"#f47044\",\"#f47044\",\"#af1446\",\"#fed683\",\"#fee491\",\"#f47044\",\"#d63f4f\",\"#58b2ac\",\"#af1446\",\"#fbfdb8\",\"#99d6a4\",\"#d63f4f\",\"#f47044\",\"#e1504b\",\"#daf09a\",\"#e1504b\",\"#b1dfa3\",\"#f47044\",\"#f47044\",\"#b1dfa3\",\"#f47044\",\"#d63f4f\",\"#f47044\",\"#f47044\",\"#fdb365\",\"#f47044\",\"#fee491\",\"#f47044\",\"#f47044\",\"#f47044\",\"#f47044\",\"#fdb365\",\"#f47044\",\"#f47044\",\"#f47044\",\"#f47044\",\"#f47044\",\"#5061aa\",\"#f47044\",\"#fee491\",\"#f47044\",\"#f47044\",\"#f47044\",\"#f47044\",\"#3389bd\",\"#af1446\",\"#fed683\",\"#f47044\",\"#69c3a5\",\"#f47044\",\"#f47044\",\"#5061aa\",\"#fee491\",\"#fee491\",\"#f47044\",\"#f47044\",\"#f47044\",\"#f47044\",\"#fffab6\",\"#fee491\",\"#f47044\",\"#fee491\",\"#fbfdb8\",\"#e9f69d\",\"#f47044\",\"#f47044\",\"#69c3a5\",\"#fed683\",\"#f8864f\",\"#e9f69d\",\"#f47044\",\"#fed683\",\"#f47044\",\"#58b2ac\",\"#f47044\",\"#f47044\",\"#5e4fa2\",\"#f47044\",\"#f47044\",\"#f47044\",\"#9e0142\",\"#fed683\",\"#f47044\",\"#f8864f\",\"#fdc574\",\"#f47044\",\"#f47044\",\"#f47044\",\"#b1dfa3\",\"#f47044\",\"#fee491\",\"#f47044\",\"#f47044\",\"#459eb4\",\"#f47044\",\"#f47044\",\"#f47044\",\"#f47044\",\"#f47044\",\"#58b2ac\",\"#f47044\",\"#c6e89f\",\"#fdb365\",\"#f47044\",\"#fbfdb8\",\"#b1dfa3\",\"#f47044\",\"#f47044\",\"#f47044\",\"#f8864f\",\"#f47044\",\"#58b2ac\",\"#f47044\",\"#fee491\",\"#81cda5\",\"#58b2ac\",\"#f47044\",\"#fbfdb8\",\"#f47044\",\"#69c3a5\",\"#99d6a4\",\"#58b2ac\",\"#58b2ac\",\"#f47044\",\"#f8864f\",\"#f47044\",\"#fee491\",\"#f47044\",\"#f47044\",\"#f47044\",\"#f47044\",\"#e9f69d\",\"#fed683\",\"#f47044\",\"#f47044\",\"#f47044\",\"#fed683\",\"#fed683\",\"#e1504b\",\"#f47044\",\"#f47044\",\"#e9f69d\",\"#f47044\",\"#f47044\",\"#f47044\",\"#f47044\",\"#9e0142\",\"#f47044\",\"#fee491\",\"#f47044\",\"#69c3a5\",\"#f47044\",\"#d63f4f\",\"#fbfdb8\",\"#f47044\",\"#f47044\",\"#f47044\",\"#f47044\",\"#f47044\",\"#58b2ac\",\"#f47044\",\"#f47044\",\"#f47044\",\"#f47044\",\"#f47044\",\"#f47044\",\"#f47044\",\"#f47044\",\"#f47044\",\"#e9f69d\",\"#f47044\",\"#f47044\",\"#e9f69d\",\"#f47044\",\"#fed683\",\"#fed683\",\"#daf09a\",\"#f47044\",\"#fee491\",\"#69c3a5\",\"#f47044\",\"#9e0142\",\"#f47044\",\"#f47044\",\"#fee491\",\"#f47044\",\"#58b2ac\",\"#f47044\",\"#f47044\",\"#f47044\",\"#5061aa\",\"#f47044\",\"#f47044\",\"#fed683\",\"#f47044\",\"#fbfdb8\",\"#9e0142\",\"#fed683\",\"#b1dfa3\",\"#fbfdb8\",\"#fdb365\",\"#f47044\",\"#f47044\",\"#f47044\",\"#f47044\",\"#58b2ac\",\"#9e0142\",\"#f47044\",\"#f47044\",\"#f47044\",\"#f47044\",\"#459eb4\",\"#f47044\",\"#f47044\",\"#f47044\",\"#fee491\",\"#69c3a5\",\"#f47044\",\"#e1504b\",\"#f47044\",\"#f47044\",\"#f47044\",\"#fed683\",\"#fbfdb8\",\"#fee491\",\"#f47044\",\"#9e0142\",\"#f47044\",\"#e1504b\",\"#e9f69d\",\"#fed683\",\"#f47044\",\"#fed683\",\"#fbfdb8\",\"#f47044\",\"#f47044\",\"#f47044\",\"#c6e89f\",\"#f47044\",\"#fbfdb8\",\"#f47044\",\"#fbfdb8\",\"#99d6a4\",\"#fed683\",\"#f47044\",\"#f47044\",\"#f47044\",\"#fffab6\",\"#fed683\",\"#e1504b\",\"#f47044\",\"#f47044\",\"#f47044\",\"#58b2ac\",\"#fed683\",\"#f47044\",\"#f47044\",\"#e1504b\",\"#f47044\",\"#99d6a4\",\"#f47044\",\"#f47044\",\"#f47044\",\"#f47044\",\"#f47044\",\"#f47044\",\"#99d6a4\",\"#f47044\",\"#f47044\",\"#99d6a4\",\"#f47044\",\"#f47044\",\"#eb6046\",\"#5061aa\",\"#f47044\",\"#fdb365\",\"#f47044\",\"#f47044\",\"#f47044\",\"#fed683\",\"#9e0142\",\"#f47044\",\"#e1504b\",\"#f47044\",\"#f47044\",\"#f47044\",\"#fed683\",\"#b1dfa3\",\"#fffab6\",\"#99d6a4\",\"#e1504b\",\"#f47044\",\"#c6e89f\",\"#99d6a4\",\"#f2faaa\",\"#f47044\",\"#f47044\",\"#f47044\",\"#af1446\",\"#e9f69d\",\"#f47044\",\"#daf09a\",\"#e1504b\",\"#daf09a\",\"#f47044\",\"#f47044\",\"#fee491\",\"#eb6046\",\"#fb9d59\",\"#99d6a4\",\"#69c3a5\",\"#fee491\",\"#f47044\",\"#f47044\",\"#f47044\",\"#f47044\",\"#f47044\",\"#fed683\",\"#f47044\",\"#f47044\",\"#f47044\",\"#f47044\",\"#58b2ac\",\"#fed683\",\"#9e0142\",\"#af1446\",\"#f47044\",\"#b1dfa3\",\"#f47044\",\"#f47044\",\"#f47044\",\"#f47044\",\"#f47044\",\"#fed683\",\"#fed683\",\"#99d6a4\",\"#f2faaa\",\"#fed683\",\"#f47044\",\"#f47044\",\"#f47044\",\"#f47044\",\"#69c3a5\",\"#f47044\",\"#af1446\",\"#f47044\",\"#f47044\",\"#58b2ac\",\"#fee491\",\"#e9f69d\",\"#58b2ac\",\"#fee491\",\"#f47044\",\"#b1dfa3\",\"#b1dfa3\",\"#fee491\",\"#9e0142\",\"#f47044\",\"#f47044\",\"#69c3a5\",\"#fed683\",\"#fed683\",\"#f47044\",\"#af1446\",\"#5061aa\",\"#f47044\",\"#fed683\",\"#b1dfa3\",\"#f47044\",\"#e9f69d\",\"#f47044\",\"#b1dfa3\",\"#69c3a5\",\"#f47044\",\"#f47044\",\"#fed683\",\"#f47044\",\"#f47044\",\"#f47044\",\"#fdc574\",\"#99d6a4\",\"#99d6a4\",\"#fee491\",\"#f47044\",\"#f47044\",\"#c6e89f\",\"#f47044\",\"#fed683\",\"#9e0142\",\"#f47044\",\"#f47044\",\"#58b2ac\",\"#e1504b\",\"#f47044\",\"#99d6a4\",\"#f47044\",\"#fed683\",\"#f47044\",\"#f47044\",\"#fee491\",\"#f47044\",\"#58b2ac\",\"#58b2ac\",\"#fed683\",\"#f47044\",\"#f47044\",\"#f47044\",\"#3389bd\",\"#58b2ac\",\"#fbfdb8\",\"#fed683\",\"#c32a4b\",\"#fed683\",\"#fed683\",\"#e9f69d\",\"#fed683\",\"#e9f69d\",\"#99d6a4\",\"#99d6a4\",\"#fee491\",\"#f47044\",\"#f47044\",\"#fed683\",\"#99d6a4\",\"#af1446\",\"#fed683\",\"#f47044\",\"#f47044\",\"#fed683\",\"#f47044\",\"#f47044\",\"#f47044\",\"#9e0142\",\"#fee491\",\"#af1446\",\"#d63f4f\",\"#f47044\",\"#f47044\",\"#e9f69d\",\"#f47044\",\"#f47044\",\"#f47044\",\"#f47044\",\"#fbfdb8\",\"#f47044\",\"#f47044\",\"#f47044\",\"#f47044\",\"#f47044\",\"#f47044\",\"#f47044\",\"#f47044\",\"#fee491\",\"#9e0142\",\"#f47044\",\"#fed683\",\"#fee491\",\"#f47044\",\"#fed683\",\"#f47044\",\"#f47044\",\"#fbfdb8\",\"#f47044\",\"#fee491\",\"#58b2ac\",\"#fed683\",\"#f47044\",\"#b1dfa3\",\"#f47044\",\"#daf09a\",\"#f47044\",\"#f47044\",\"#fee491\",\"#f47044\",\"#f47044\",\"#b1dfa3\",\"#f47044\",\"#f47044\",\"#f47044\",\"#58b2ac\",\"#f47044\",\"#f47044\",\"#f47044\",\"#f47044\",\"#f2faaa\",\"#f47044\",\"#af1446\",\"#f47044\",\"#fee491\",\"#f47044\",\"#fee491\",\"#f47044\",\"#f47044\",\"#fdb365\",\"#9e0142\",\"#fee491\",\"#c6e89f\",\"#f47044\",\"#99d6a4\",\"#fed683\",\"#f47044\",\"#f47044\",\"#f47044\",\"#f47044\",\"#f47044\",\"#5e4fa2\",\"#f47044\",\"#f47044\",\"#f47044\",\"#fdb365\",\"#eb6046\",\"#fbfdb8\",\"#af1446\",\"#58b2ac\",\"#f47044\",\"#f47044\",\"#f47044\",\"#f47044\",\"#f47044\",\"#f47044\",\"#f47044\",\"#fed683\",\"#fdb365\",\"#daf09a\",\"#fffab6\",\"#f47044\",\"#58b2ac\",\"#f47044\",\"#f47044\",\"#f47044\",\"#f47044\",\"#fee491\",\"#f47044\",\"#f47044\",\"#e9f69d\",\"#f47044\",\"#f47044\",\"#af1446\",\"#c6e89f\",\"#b1dfa3\",\"#f47044\",\"#fffab6\",\"#f47044\",\"#f47044\",\"#fee491\",\"#f47044\",\"#f47044\",\"#58b2ac\",\"#f47044\",\"#f47044\",\"#58b2ac\",\"#f47044\",\"#f47044\",\"#f47044\",\"#f47044\",\"#f47044\",\"#f47044\",\"#fed683\",\"#f47044\",\"#f47044\",\"#f47044\",\"#99d6a4\",\"#fed683\",\"#fed683\",\"#f47044\",\"#f47044\",\"#fbfdb8\",\"#f47044\",\"#f47044\",\"#f47044\",\"#f47044\",\"#fdb365\",\"#58b2ac\",\"#f47044\",\"#f47044\",\"#f47044\",\"#f47044\",\"#f47044\",\"#f47044\",\"#f47044\",\"#81cda5\",\"#f47044\",\"#fee491\",\"#f47044\",\"#f47044\",\"#f47044\",\"#f47044\",\"#e9f69d\",\"#f47044\",\"#c6e89f\",\"#3389bd\",\"#f47044\",\"#f47044\",\"#f8864f\",\"#f47044\",\"#f47044\",\"#b1dfa3\",\"#fffab6\",\"#f47044\",\"#f47044\",\"#f47044\",\"#f47044\",\"#e9f69d\",\"#fed683\",\"#f47044\",\"#f47044\",\"#f47044\",\"#f47044\",\"#f47044\",\"#f47044\",\"#f47044\",\"#f47044\",\"#58b2ac\",\"#f47044\",\"#f47044\",\"#fee491\",\"#fed683\",\"#f47044\",\"#f47044\",\"#af1446\",\"#69c3a5\",\"#f47044\",\"#f47044\",\"#f47044\",\"#58b2ac\",\"#4175b4\",\"#f47044\",\"#af1446\",\"#fdb365\",\"#f47044\",\"#b1dfa3\",\"#69c3a5\",\"#fed683\",\"#fdc574\",\"#58b2ac\",\"#f47044\",\"#fbfdb8\",\"#fed683\",\"#f47044\",\"#f47044\",\"#f47044\",\"#f47044\",\"#fbfdb8\",\"#f47044\",\"#f47044\",\"#fee491\",\"#f47044\",\"#f47044\",\"#5061aa\",\"#fed683\",\"#9e0142\",\"#f47044\",\"#f47044\",\"#f47044\",\"#f47044\",\"#f47044\",\"#f47044\",\"#f47044\",\"#f47044\",\"#f47044\",\"#4175b4\",\"#f47044\",\"#f47044\",\"#b1dfa3\",\"#f47044\",\"#f47044\",\"#f47044\",\"#fed683\",\"#fed683\",\"#f47044\",\"#e9f69d\",\"#58b2ac\",\"#f47044\",\"#fee491\",\"#f47044\",\"#f47044\",\"#f47044\",\"#f47044\",\"#f47044\",\"#f47044\",\"#f47044\",\"#69c3a5\",\"#f47044\",\"#f47044\",\"#f47044\",\"#f47044\",\"#58b2ac\",\"#5e4fa2\",\"#fdc574\",\"#fbfdb8\",\"#f47044\",\"#fbfdb8\",\"#f47044\",\"#fee491\",\"#f47044\",\"#f47044\",\"#f47044\",\"#f47044\",\"#f47044\",\"#f47044\",\"#f47044\",\"#f47044\",\"#f47044\",\"#f47044\",\"#f47044\",\"#f47044\",\"#fed683\",\"#f47044\",\"#af1446\",\"#99d6a4\",\"#f47044\",\"#fed683\",\"#fee491\",\"#fbfdb8\",\"#e9f69d\",\"#fee491\",\"#f47044\",\"#fffab6\",\"#f47044\",\"#f47044\",\"#f47044\",\"#f47044\",\"#f47044\",\"#69c3a5\",\"#f47044\",\"#e1504b\",\"#f47044\",\"#f47044\",\"#f47044\",\"#f47044\",\"#daf09a\",\"#fffab6\",\"#f47044\",\"#f47044\",\"#f47044\",\"#f47044\",\"#69c3a5\",\"#f47044\",\"#f47044\",\"#f47044\",\"#69c3a5\",\"#f47044\",\"#fed683\",\"#f47044\",\"#f47044\",\"#f47044\",\"#f47044\",\"#daf09a\",\"#f47044\",\"#fee491\",\"#fed683\",\"#d63f4f\",\"#f47044\",\"#fed683\",\"#af1446\",\"#e9f69d\",\"#f47044\",\"#fee491\",\"#f47044\",\"#fffab6\",\"#f47044\",\"#69c3a5\",\"#3389bd\",\"#f47044\",\"#f47044\",\"#f47044\",\"#f47044\",\"#f47044\",\"#f47044\",\"#81cda5\",\"#f47044\",\"#b1dfa3\",\"#f8864f\",\"#f47044\",\"#fdb365\",\"#fee491\",\"#58b2ac\",\"#f47044\",\"#f47044\",\"#f47044\",\"#e1504b\",\"#f47044\",\"#f47044\",\"#c6e89f\",\"#af1446\",\"#f47044\",\"#f47044\",\"#f47044\",\"#b1dfa3\",\"#58b2ac\",\"#f47044\",\"#f47044\",\"#f47044\",\"#f47044\",\"#f47044\",\"#f47044\",\"#f47044\",\"#fee491\",\"#f47044\",\"#f47044\",\"#f47044\",\"#f47044\",\"#f47044\",\"#f47044\",\"#fb9d59\",\"#b1dfa3\",\"#f47044\",\"#f47044\",\"#f47044\",\"#f47044\",\"#f8864f\",\"#d63f4f\",\"#e1504b\",\"#fed683\",\"#f47044\",\"#f47044\",\"#f47044\",\"#f47044\",\"#b1dfa3\",\"#f47044\",\"#f47044\",\"#f47044\",\"#69c3a5\",\"#f47044\",\"#58b2ac\",\"#f47044\",\"#f47044\",\"#f47044\",\"#f47044\",\"#f47044\",\"#fed683\",\"#fed683\",\"#f47044\",\"#fed683\",\"#fed683\",\"#f47044\",\"#b1dfa3\",\"#f47044\",\"#f47044\",\"#f47044\",\"#58b2ac\",\"#81cda5\",\"#fed683\",\"#f47044\",\"#f47044\",\"#f47044\",\"#f47044\",\"#99d6a4\",\"#f47044\",\"#f47044\",\"#f47044\",\"#f47044\",\"#fdb365\",\"#f47044\",\"#f47044\",\"#f47044\",\"#f47044\",\"#b1dfa3\",\"#f47044\",\"#69c3a5\",\"#f47044\",\"#f47044\",\"#f47044\",\"#af1446\",\"#f47044\",\"#f47044\",\"#f47044\",\"#f47044\",\"#f47044\",\"#af1446\",\"#f47044\",\"#f47044\",\"#f47044\",\"#69c3a5\",\"#f47044\",\"#e9f69d\",\"#f47044\",\"#f47044\",\"#eb6046\",\"#fee491\",\"#f47044\",\"#f47044\",\"#f47044\",\"#f47044\",\"#f47044\",\"#f47044\",\"#f47044\",\"#b1dfa3\",\"#f47044\",\"#f47044\",\"#f47044\",\"#af1446\",\"#f47044\",\"#fed683\",\"#fed683\",\"#fdc574\",\"#58b2ac\",\"#f47044\",\"#fbfdb8\",\"#f47044\",\"#f47044\",\"#fee491\",\"#58b2ac\",\"#f47044\",\"#f47044\",\"#f47044\",\"#fdc574\",\"#c6e89f\",\"#99d6a4\",\"#d63f4f\",\"#f8864f\",\"#58b2ac\",\"#f47044\",\"#9e0142\",\"#fed683\",\"#af1446\",\"#fee491\",\"#af1446\",\"#f47044\",\"#58b2ac\",\"#af1446\",\"#f47044\",\"#d63f4f\",\"#fbfdb8\",\"#58b2ac\",\"#f47044\",\"#f47044\",\"#9e0142\",\"#f47044\",\"#fed683\",\"#fee491\",\"#f47044\",\"#f47044\",\"#f47044\",\"#f47044\",\"#fed683\",\"#f47044\",\"#99d6a4\",\"#f47044\",\"#f47044\",\"#f47044\",\"#f47044\",\"#fed683\",\"#f47044\",\"#fed683\",\"#f47044\",\"#f47044\",\"#c6e89f\",\"#f47044\",\"#f47044\",\"#fed683\",\"#f47044\",\"#fdb365\",\"#f47044\",\"#58b2ac\",\"#f47044\",\"#f47044\",\"#69c3a5\",\"#fee491\",\"#f47044\",\"#9e0142\",\"#c6e89f\",\"#fdb365\",\"#fdb365\",\"#f47044\",\"#fee491\",\"#af1446\",\"#f47044\",\"#f47044\",\"#99d6a4\",\"#f47044\",\"#fffab6\",\"#b1dfa3\",\"#fbfdb8\",\"#fdb365\",\"#f47044\",\"#f47044\",\"#f47044\",\"#fed683\",\"#f47044\",\"#f47044\",\"#fbfdb8\",\"#fed683\",\"#e1504b\",\"#fed683\",\"#f47044\",\"#f47044\",\"#f47044\",\"#f47044\",\"#58b2ac\",\"#f47044\",\"#fee491\",\"#daf09a\",\"#fffab6\",\"#f47044\",\"#99d6a4\",\"#af1446\",\"#fed683\",\"#fed683\",\"#f47044\",\"#f47044\",\"#f47044\",\"#f47044\",\"#9e0142\",\"#f47044\",\"#f47044\",\"#fee491\",\"#af1446\",\"#f47044\",\"#f47044\",\"#fee491\",\"#fdc574\",\"#f47044\",\"#f47044\",\"#fee491\",\"#f47044\",\"#f47044\",\"#f47044\",\"#daf09a\",\"#f47044\",\"#58b2ac\",\"#f47044\",\"#f47044\",\"#f47044\",\"#fdb365\",\"#f47044\",\"#e1504b\",\"#f47044\",\"#f47044\",\"#f47044\",\"#feefa3\",\"#f47044\",\"#f47044\",\"#f47044\",\"#f47044\",\"#e9f69d\",\"#f47044\",\"#f47044\",\"#b1dfa3\",\"#9e0142\",\"#af1446\",\"#f47044\",\"#f47044\",\"#fee491\",\"#e9f69d\",\"#69c3a5\",\"#f47044\",\"#f47044\",\"#fed683\",\"#f47044\",\"#f47044\",\"#58b2ac\",\"#d63f4f\",\"#f2faaa\",\"#f47044\",\"#fed683\",\"#f47044\",\"#fee491\",\"#9e0142\",\"#fbfdb8\",\"#58b2ac\",\"#daf09a\",\"#58b2ac\",\"#af1446\",\"#fee491\",\"#fed683\",\"#f47044\",\"#f47044\",\"#fed683\",\"#5061aa\",\"#9e0142\",\"#eb6046\",\"#f47044\",\"#f47044\",\"#f47044\",\"#f47044\",\"#f47044\",\"#f47044\",\"#f47044\",\"#fdb365\",\"#99d6a4\",\"#fffab6\",\"#fbfdb8\",\"#f47044\",\"#99d6a4\",\"#e1504b\",\"#fee491\",\"#af1446\",\"#f47044\",\"#f47044\",\"#fbfdb8\",\"#f47044\",\"#fdb365\",\"#fed683\",\"#f47044\",\"#f47044\",\"#f47044\",\"#f2faaa\",\"#fed683\",\"#f47044\",\"#f47044\",\"#f47044\",\"#c6e89f\",\"#f47044\",\"#f47044\",\"#f47044\",\"#f47044\",\"#58b2ac\",\"#f47044\",\"#f47044\",\"#f47044\",\"#e9f69d\",\"#fed683\",\"#f47044\",\"#f47044\",\"#58b2ac\",\"#f47044\",\"#f47044\",\"#f47044\",\"#fffab6\",\"#fed683\",\"#b1dfa3\",\"#f8864f\",\"#69c3a5\",\"#f47044\",\"#fffab6\",\"#f47044\",\"#58b2ac\",\"#f47044\",\"#f47044\",\"#f47044\",\"#c32a4b\",\"#f47044\",\"#f47044\",\"#f47044\",\"#f47044\",\"#fdc574\",\"#f47044\",\"#f47044\",\"#459eb4\",\"#f47044\",\"#5061aa\",\"#f47044\",\"#fdb365\",\"#f47044\",\"#f47044\",\"#f47044\",\"#f47044\",\"#e9f69d\",\"#fed683\",\"#e1504b\",\"#af1446\",\"#f47044\",\"#f47044\",\"#f2faaa\",\"#fed683\",\"#fee491\",\"#f47044\",\"#f47044\",\"#f47044\",\"#58b2ac\",\"#f47044\",\"#f47044\",\"#f47044\",\"#fee491\",\"#f47044\",\"#f47044\",\"#58b2ac\",\"#f47044\",\"#f47044\",\"#fed683\",\"#af1446\",\"#fdb365\",\"#f47044\",\"#fed683\",\"#3389bd\",\"#fbfdb8\",\"#fed683\",\"#f47044\",\"#f47044\",\"#f47044\",\"#f47044\",\"#fed683\",\"#fbfdb8\",\"#f47044\",\"#f47044\",\"#fdb365\",\"#4175b4\",\"#af1446\",\"#f47044\",\"#81cda5\",\"#58b2ac\",\"#f47044\",\"#fed683\",\"#af1446\",\"#f47044\",\"#f47044\",\"#e9f69d\",\"#99d6a4\",\"#fee491\",\"#f47044\",\"#fffab6\",\"#e1504b\",\"#f47044\",\"#fffab6\",\"#f47044\",\"#58b2ac\",\"#f47044\",\"#f47044\",\"#f47044\",\"#fed683\",\"#81cda5\",\"#f47044\",\"#f47044\",\"#f47044\",\"#f47044\",\"#e9f69d\",\"#f47044\",\"#f47044\",\"#f47044\",\"#f8864f\",\"#f47044\",\"#fed683\",\"#f47044\",\"#f47044\",\"#69c3a5\",\"#f47044\",\"#f47044\",\"#f47044\",\"#f47044\",\"#fed683\",\"#f47044\",\"#fee491\",\"#f47044\",\"#af1446\",\"#f47044\",\"#fdb365\",\"#f47044\",\"#f47044\",\"#fed683\",\"#f47044\",\"#f47044\",\"#c6e89f\",\"#f47044\",\"#f47044\",\"#f47044\",\"#f47044\",\"#fee491\",\"#f47044\",\"#99d6a4\",\"#f47044\",\"#f47044\",\"#99d6a4\",\"#58b2ac\",\"#58b2ac\",\"#f47044\",\"#f47044\",\"#fbfdb8\",\"#f47044\",\"#f47044\",\"#f47044\",\"#f47044\",\"#f47044\",\"#f47044\",\"#f47044\",\"#fffab6\",\"#f47044\",\"#fbfdb8\",\"#fdc574\",\"#f47044\",\"#f47044\",\"#f47044\",\"#f47044\",\"#f47044\",\"#f47044\",\"#f47044\",\"#fdb365\",\"#f47044\",\"#58b2ac\",\"#f47044\",\"#fbfdb8\",\"#3389bd\",\"#fee491\",\"#5061aa\",\"#99d6a4\",\"#f47044\",\"#f47044\",\"#f47044\",\"#f47044\",\"#fbfdb8\",\"#f47044\",\"#fdc574\",\"#69c3a5\",\"#f47044\",\"#eb6046\",\"#f47044\",\"#5061aa\",\"#f47044\",\"#af1446\",\"#f47044\",\"#f47044\",\"#f47044\",\"#f47044\",\"#c32a4b\",\"#99d6a4\",\"#99d6a4\",\"#f47044\",\"#fee491\",\"#58b2ac\",\"#f47044\",\"#99d6a4\",\"#fed683\",\"#fdb365\",\"#f47044\",\"#f47044\",\"#f47044\",\"#99d6a4\",\"#58b2ac\",\"#99d6a4\",\"#daf09a\",\"#69c3a5\",\"#af1446\",\"#f47044\",\"#f47044\",\"#f47044\",\"#f47044\",\"#daf09a\",\"#f47044\",\"#f47044\",\"#fed683\",\"#f47044\",\"#f47044\",\"#f47044\",\"#af1446\",\"#f47044\",\"#f47044\",\"#fbfdb8\",\"#f47044\",\"#c6e89f\",\"#f47044\",\"#b1dfa3\",\"#fbfdb8\",\"#f47044\",\"#fee491\",\"#fbfdb8\",\"#daf09a\",\"#f47044\",\"#b1dfa3\",\"#b1dfa3\",\"#f47044\",\"#e9f69d\",\"#99d6a4\",\"#f47044\",\"#af1446\",\"#f47044\",\"#f47044\",\"#f47044\",\"#58b2ac\",\"#f47044\",\"#f47044\",\"#fee491\",\"#f47044\",\"#fee491\",\"#af1446\",\"#f47044\",\"#fed683\",\"#81cda5\",\"#f47044\",\"#f47044\",\"#f47044\",\"#f47044\",\"#f47044\",\"#af1446\",\"#f47044\",\"#58b2ac\",\"#fed683\",\"#fee491\",\"#e9f69d\",\"#f47044\",\"#f47044\",\"#fed683\",\"#fed683\",\"#69c3a5\",\"#f47044\",\"#fed683\",\"#daf09a\",\"#f47044\",\"#d63f4f\",\"#f47044\",\"#e9f69d\",\"#69c3a5\",\"#f47044\",\"#f47044\",\"#f47044\",\"#f47044\",\"#f47044\",\"#f47044\",\"#99d6a4\",\"#f47044\",\"#f47044\",\"#f47044\",\"#fed683\",\"#69c3a5\",\"#fed683\",\"#f47044\",\"#fbfdb8\",\"#f47044\",\"#f47044\",\"#d63f4f\",\"#58b2ac\",\"#f47044\",\"#f47044\",\"#f8864f\",\"#f47044\",\"#99d6a4\",\"#fed683\",\"#f47044\",\"#fbfdb8\",\"#f47044\",\"#f47044\",\"#69c3a5\",\"#f47044\",\"#af1446\",\"#9e0142\",\"#f47044\",\"#69c3a5\",\"#b1dfa3\",\"#69c3a5\",\"#9e0142\",\"#e9f69d\",\"#e9f69d\",\"#f47044\",\"#f47044\",\"#fdb365\",\"#99d6a4\",\"#f47044\",\"#fed683\",\"#f47044\",\"#f47044\",\"#fffab6\",\"#f47044\",\"#fed683\",\"#fed683\",\"#f47044\",\"#f47044\",\"#fee491\",\"#e9f69d\",\"#58b2ac\",\"#f47044\",\"#fee491\",\"#f47044\",\"#e1504b\",\"#e9f69d\",\"#f47044\",\"#f47044\",\"#f47044\",\"#b1dfa3\",\"#fee491\",\"#af1446\",\"#f47044\",\"#f47044\",\"#f47044\",\"#f47044\",\"#f47044\",\"#f47044\",\"#f47044\",\"#f47044\",\"#f47044\",\"#f47044\",\"#f47044\",\"#fb9d59\",\"#459eb4\",\"#f47044\",\"#f47044\",\"#b1dfa3\",\"#fed683\",\"#f47044\",\"#fdc574\",\"#fed683\",\"#f47044\",\"#58b2ac\",\"#b1dfa3\",\"#fee491\",\"#f47044\",\"#69c3a5\",\"#f47044\",\"#e1504b\",\"#f47044\",\"#58b2ac\",\"#f47044\",\"#af1446\",\"#b1dfa3\",\"#f47044\",\"#f47044\",\"#99d6a4\",\"#f47044\",\"#f47044\",\"#fdb365\",\"#f47044\",\"#fed683\",\"#f47044\",\"#fee491\",\"#fed683\",\"#f47044\",\"#58b2ac\",\"#f47044\",\"#f47044\",\"#fffab6\",\"#5061aa\",\"#fee491\",\"#f47044\",\"#f47044\",\"#f47044\",\"#b1dfa3\",\"#f47044\",\"#f47044\",\"#f47044\",\"#f47044\",\"#f47044\",\"#f47044\",\"#f47044\",\"#f47044\",\"#fffab6\",\"#b1dfa3\",\"#f47044\",\"#fee491\",\"#b1dfa3\",\"#f47044\",\"#f47044\",\"#f47044\",\"#f47044\",\"#fee491\",\"#f47044\",\"#f47044\",\"#f47044\",\"#fee491\",\"#fb9d59\",\"#f47044\",\"#e9f69d\",\"#f47044\",\"#fed683\",\"#f47044\",\"#fffab6\",\"#f47044\",\"#f47044\",\"#b1dfa3\",\"#f47044\",\"#fdc574\",\"#f47044\",\"#f47044\",\"#f47044\",\"#f47044\",\"#f47044\",\"#fed683\",\"#fdb365\",\"#fee491\",\"#f47044\",\"#58b2ac\",\"#f47044\",\"#58b2ac\",\"#daf09a\",\"#b1dfa3\",\"#f47044\",\"#f47044\",\"#f47044\",\"#f47044\",\"#f47044\",\"#f47044\",\"#81cda5\",\"#f47044\",\"#fdb365\",\"#f47044\",\"#af1446\",\"#daf09a\",\"#f47044\",\"#f47044\",\"#5061aa\",\"#f47044\",\"#fdb365\",\"#f47044\",\"#f47044\",\"#f47044\",\"#f47044\",\"#f47044\",\"#69c3a5\",\"#daf09a\",\"#fdb365\",\"#f2faaa\",\"#f47044\",\"#f47044\",\"#f47044\",\"#fed683\",\"#fed683\",\"#f47044\",\"#f47044\",\"#f47044\",\"#fee491\",\"#fdb365\",\"#f47044\",\"#e1504b\",\"#58b2ac\",\"#f47044\",\"#f47044\",\"#f47044\",\"#fed683\",\"#f47044\",\"#f47044\",\"#58b2ac\",\"#fed683\",\"#f47044\",\"#fee491\",\"#f47044\",\"#f47044\",\"#f47044\",\"#f47044\",\"#f47044\",\"#f47044\",\"#fdb365\",\"#f47044\",\"#fdc574\",\"#f47044\",\"#f8864f\",\"#f47044\",\"#f47044\",\"#f47044\",\"#f47044\",\"#f47044\",\"#58b2ac\",\"#f47044\",\"#f47044\",\"#f47044\",\"#fed683\",\"#af1446\",\"#e1504b\",\"#eb6046\",\"#f47044\",\"#f47044\",\"#f47044\",\"#f47044\",\"#af1446\",\"#fee491\",\"#b1dfa3\",\"#f47044\",\"#fbfdb8\",\"#f47044\",\"#f47044\",\"#f47044\",\"#f47044\",\"#fed683\",\"#f47044\",\"#f47044\",\"#f47044\",\"#f47044\",\"#fee491\",\"#f47044\",\"#f47044\",\"#fed683\",\"#fdc574\",\"#f47044\",\"#fdb365\",\"#f47044\",\"#af1446\",\"#f47044\",\"#f47044\",\"#f47044\",\"#fdb365\",\"#f47044\",\"#f2faaa\",\"#f47044\",\"#f47044\",\"#f47044\",\"#3389bd\",\"#f2faaa\",\"#e1504b\",\"#fffab6\",\"#f47044\",\"#f47044\",\"#f47044\",\"#c6e89f\",\"#f47044\",\"#fbfdb8\",\"#b1dfa3\",\"#5061aa\",\"#9e0142\",\"#fed683\",\"#f47044\",\"#f47044\",\"#f47044\",\"#f47044\",\"#fdb365\",\"#f47044\",\"#f47044\",\"#f47044\",\"#af1446\",\"#f47044\",\"#f47044\",\"#fee491\",\"#f47044\",\"#fee491\",\"#f47044\",\"#eb6046\",\"#81cda5\",\"#81cda5\",\"#58b2ac\",\"#f47044\",\"#f47044\",\"#fed683\",\"#fffab6\",\"#f47044\",\"#e9f69d\",\"#fed683\",\"#f47044\",\"#daf09a\",\"#f47044\",\"#f47044\",\"#fed683\",\"#f47044\",\"#fed683\",\"#fee491\",\"#f47044\",\"#b1dfa3\",\"#f47044\",\"#fed683\",\"#fee491\",\"#f47044\",\"#99d6a4\",\"#f47044\",\"#f47044\",\"#f47044\",\"#f47044\",\"#f47044\",\"#f47044\",\"#f47044\",\"#b1dfa3\",\"#f47044\",\"#f47044\",\"#b1dfa3\",\"#d63f4f\",\"#f47044\",\"#f47044\",\"#fbfdb8\",\"#58b2ac\",\"#f47044\",\"#f47044\",\"#fed683\",\"#fee491\",\"#e9f69d\",\"#f47044\",\"#c6e89f\",\"#69c3a5\",\"#af1446\",\"#f47044\",\"#fed683\",\"#f47044\",\"#fdc574\",\"#f47044\",\"#f47044\",\"#f47044\",\"#f47044\",\"#d63f4f\",\"#f47044\",\"#fbfdb8\",\"#f47044\",\"#b1dfa3\",\"#f47044\",\"#f47044\",\"#f47044\",\"#f47044\",\"#f47044\",\"#9e0142\",\"#f47044\",\"#f47044\",\"#fed683\",\"#f47044\",\"#f47044\",\"#f47044\",\"#f47044\",\"#f47044\",\"#f47044\",\"#f47044\",\"#f47044\",\"#f47044\",\"#fee491\",\"#b1dfa3\",\"#f47044\",\"#f47044\",\"#f47044\",\"#e1504b\",\"#f47044\",\"#f47044\",\"#99d6a4\",\"#f47044\",\"#f47044\",\"#af1446\",\"#fee491\",\"#fee491\",\"#fee491\",\"#f47044\",\"#f47044\",\"#f47044\",\"#fee491\",\"#f47044\",\"#f47044\",\"#fee491\",\"#e1504b\",\"#58b2ac\",\"#af1446\",\"#fb9d59\",\"#f47044\",\"#f47044\",\"#69c3a5\",\"#f47044\",\"#f47044\",\"#e1504b\",\"#f47044\",\"#f47044\",\"#e9f69d\",\"#f47044\",\"#5061aa\",\"#f47044\",\"#b1dfa3\",\"#f47044\",\"#f47044\",\"#f47044\",\"#f47044\",\"#f47044\",\"#58b2ac\",\"#58b2ac\",\"#f47044\",\"#b1dfa3\",\"#f47044\",\"#f47044\",\"#f47044\",\"#f47044\",\"#f47044\",\"#e1504b\",\"#f47044\",\"#5061aa\",\"#58b2ac\",\"#69c3a5\",\"#f47044\",\"#f47044\",\"#f47044\",\"#f47044\",\"#f47044\",\"#fee491\",\"#f47044\",\"#af1446\",\"#f47044\",\"#f47044\",\"#58b2ac\",\"#f47044\",\"#f47044\",\"#f47044\",\"#69c3a5\",\"#9e0142\",\"#f47044\",\"#fdc574\",\"#af1446\",\"#f47044\",\"#f47044\",\"#af1446\",\"#f47044\",\"#f47044\",\"#f47044\",\"#f47044\",\"#f47044\",\"#f47044\",\"#f47044\",\"#f47044\",\"#f47044\",\"#f47044\",\"#f47044\",\"#f47044\",\"#58b2ac\",\"#f47044\",\"#f47044\",\"#fed683\",\"#b1dfa3\",\"#f47044\",\"#fb9d59\",\"#af1446\",\"#f47044\",\"#fbfdb8\",\"#f47044\",\"#9e0142\",\"#f47044\",\"#f47044\",\"#fee491\",\"#fed683\",\"#af1446\",\"#fdc574\",\"#f47044\",\"#f47044\",\"#f47044\",\"#f47044\",\"#e1504b\",\"#e1504b\",\"#f47044\",\"#e1504b\",\"#f47044\",\"#f47044\",\"#4175b4\",\"#f47044\",\"#9e0142\",\"#daf09a\",\"#f47044\",\"#f47044\",\"#f47044\",\"#fbfdb8\",\"#f47044\",\"#f47044\",\"#58b2ac\",\"#f47044\",\"#e1504b\",\"#daf09a\",\"#f47044\",\"#b1dfa3\",\"#fffab6\",\"#fb9d59\",\"#fee491\",\"#f47044\",\"#fed683\",\"#f47044\",\"#fee491\",\"#f47044\",\"#69c3a5\",\"#f47044\",\"#fed683\",\"#f47044\",\"#b1dfa3\",\"#b1dfa3\",\"#f47044\",\"#f47044\",\"#fffab6\",\"#b1dfa3\",\"#58b2ac\",\"#f47044\",\"#81cda5\",\"#58b2ac\",\"#e1504b\",\"#f47044\",\"#58b2ac\",\"#f47044\",\"#f47044\",\"#f47044\",\"#f47044\",\"#58b2ac\",\"#fed683\",\"#eb6046\",\"#fed683\",\"#f47044\",\"#f47044\",\"#f47044\",\"#fed683\",\"#f47044\",\"#f47044\",\"#f8864f\",\"#f47044\",\"#f47044\",\"#f47044\",\"#fed683\",\"#fdc574\",\"#fdb365\",\"#fed683\",\"#f47044\",\"#f47044\",\"#f47044\",\"#f47044\",\"#f47044\",\"#58b2ac\",\"#fed683\",\"#f47044\",\"#3389bd\",\"#f47044\",\"#f47044\",\"#f47044\",\"#f47044\",\"#fed683\",\"#f47044\",\"#f47044\",\"#f47044\",\"#f47044\",\"#f47044\",\"#b1dfa3\",\"#f47044\",\"#f47044\",\"#fed683\",\"#f47044\",\"#fed683\",\"#b1dfa3\",\"#9e0142\",\"#f47044\",\"#f47044\",\"#e1504b\",\"#f47044\",\"#f47044\",\"#fed683\",\"#69c3a5\",\"#f47044\",\"#f47044\",\"#e1504b\",\"#f47044\",\"#f47044\",\"#f47044\",\"#f47044\",\"#fed683\",\"#af1446\",\"#f47044\",\"#58b2ac\",\"#f47044\",\"#f47044\",\"#c6e89f\",\"#9e0142\",\"#f47044\",\"#af1446\",\"#e1504b\",\"#f47044\",\"#fbfdb8\",\"#f47044\",\"#f47044\",\"#f47044\",\"#fffab6\",\"#58b2ac\",\"#f47044\",\"#f47044\",\"#fdc574\",\"#f47044\",\"#fed683\",\"#c6e89f\",\"#fffab6\",\"#f47044\",\"#9e0142\",\"#fee491\",\"#f47044\",\"#f47044\",\"#fee491\",\"#f47044\",\"#f47044\",\"#69c3a5\",\"#f47044\",\"#f47044\",\"#f47044\",\"#fed683\",\"#f47044\",\"#af1446\",\"#f47044\",\"#f47044\",\"#f47044\",\"#f47044\",\"#f47044\",\"#f47044\",\"#f47044\",\"#f47044\",\"#f47044\",\"#f47044\",\"#f47044\",\"#9e0142\",\"#f47044\",\"#fee491\",\"#fdc574\",\"#f47044\",\"#f47044\",\"#f47044\",\"#b1dfa3\",\"#f47044\",\"#f47044\",\"#f47044\",\"#f47044\",\"#f47044\",\"#99d6a4\",\"#f47044\",\"#f47044\",\"#f47044\",\"#fee491\",\"#f47044\",\"#f47044\",\"#fee491\",\"#f47044\",\"#f47044\",\"#f47044\",\"#f47044\",\"#69c3a5\",\"#f47044\",\"#f47044\",\"#fed683\",\"#fed683\",\"#58b2ac\",\"#f47044\",\"#f47044\",\"#58b2ac\",\"#b1dfa3\",\"#f47044\",\"#f47044\",\"#e9f69d\",\"#f47044\",\"#f47044\",\"#daf09a\",\"#f47044\",\"#f47044\",\"#58b2ac\",\"#b1dfa3\",\"#af1446\",\"#99d6a4\",\"#f47044\",\"#f47044\",\"#fed683\",\"#fbfdb8\",\"#f47044\",\"#f47044\",\"#fed683\",\"#fdc574\",\"#f47044\",\"#fee491\",\"#f47044\",\"#f47044\",\"#f47044\",\"#99d6a4\",\"#9e0142\",\"#f47044\",\"#e1504b\",\"#f47044\",\"#f47044\",\"#f47044\",\"#af1446\",\"#f47044\",\"#f47044\",\"#f47044\",\"#e9f69d\",\"#fdb365\",\"#f47044\",\"#f47044\",\"#f8864f\",\"#f47044\",\"#fbfdb8\",\"#f47044\",\"#f47044\",\"#fed683\",\"#fed683\",\"#4175b4\",\"#b1dfa3\",\"#f47044\",\"#fdb365\",\"#459eb4\",\"#69c3a5\",\"#f47044\",\"#f47044\",\"#fee491\",\"#fbfdb8\",\"#f47044\",\"#f47044\",\"#9e0142\",\"#fee491\",\"#f47044\",\"#b1dfa3\",\"#f47044\",\"#f47044\",\"#58b2ac\",\"#f47044\",\"#f47044\",\"#f47044\",\"#f47044\",\"#f47044\",\"#f47044\",\"#e9f69d\",\"#f47044\",\"#f47044\",\"#f47044\",\"#fee491\",\"#f47044\",\"#9e0142\",\"#f47044\",\"#f47044\",\"#5061aa\",\"#f47044\",\"#f47044\",\"#f47044\",\"#f47044\",\"#f47044\",\"#fed683\",\"#f47044\",\"#f47044\",\"#99d6a4\",\"#fbfdb8\",\"#f47044\",\"#f2faaa\",\"#b1dfa3\",\"#f47044\",\"#58b2ac\",\"#f47044\",\"#f47044\",\"#f47044\",\"#fee491\",\"#e1504b\",\"#58b2ac\",\"#e1504b\",\"#f47044\",\"#99d6a4\",\"#f47044\",\"#f47044\",\"#fee491\",\"#f47044\",\"#fffab6\",\"#d63f4f\",\"#e9f69d\",\"#fee491\",\"#f47044\",\"#fed683\",\"#f47044\",\"#fee491\",\"#f47044\",\"#5061aa\",\"#f47044\",\"#f47044\",\"#f47044\",\"#f47044\",\"#f47044\",\"#f47044\",\"#f47044\",\"#f47044\",\"#99d6a4\",\"#f47044\",\"#81cda5\",\"#99d6a4\",\"#81cda5\",\"#af1446\",\"#f47044\",\"#fed683\",\"#f47044\",\"#fdb365\",\"#f47044\",\"#fdb365\",\"#f47044\",\"#f47044\",\"#f47044\",\"#f47044\",\"#f47044\",\"#e1504b\",\"#f47044\",\"#58b2ac\",\"#fbfdb8\",\"#fbfdb8\",\"#9e0142\",\"#f47044\",\"#f47044\",\"#f47044\",\"#f47044\",\"#fee491\",\"#f47044\",\"#f47044\",\"#69c3a5\",\"#f47044\",\"#f47044\",\"#af1446\",\"#e1504b\",\"#f47044\",\"#f47044\",\"#69c3a5\",\"#69c3a5\",\"#99d6a4\",\"#fee491\",\"#f47044\",\"#69c3a5\",\"#fee491\",\"#f47044\",\"#fed683\",\"#f47044\",\"#f47044\",\"#fee491\",\"#f47044\",\"#fee491\",\"#f47044\",\"#f47044\",\"#f47044\",\"#69c3a5\",\"#f47044\",\"#af1446\",\"#f47044\",\"#58b2ac\",\"#f47044\",\"#f47044\",\"#fbfdb8\",\"#f47044\",\"#fed683\",\"#f47044\",\"#f47044\",\"#f47044\",\"#f47044\",\"#f47044\",\"#f47044\",\"#81cda5\",\"#f47044\",\"#3389bd\",\"#fed683\",\"#af1446\",\"#58b2ac\",\"#b1dfa3\",\"#fee491\",\"#f47044\",\"#69c3a5\",\"#f47044\",\"#fee491\",\"#99d6a4\",\"#58b2ac\",\"#fed683\",\"#fed683\",\"#99d6a4\",\"#f47044\",\"#f47044\",\"#58b2ac\",\"#f47044\",\"#f2faaa\",\"#fdb365\",\"#fee491\",\"#fed683\",\"#f47044\",\"#f47044\",\"#f47044\",\"#f47044\",\"#58b2ac\",\"#f8864f\",\"#f47044\",\"#3389bd\",\"#f47044\",\"#fed683\",\"#f47044\",\"#fed683\",\"#69c3a5\",\"#f47044\",\"#fed683\",\"#eb6046\",\"#f47044\",\"#fed683\",\"#fee491\",\"#58b2ac\",\"#f47044\",\"#f47044\",\"#af1446\",\"#f47044\",\"#f47044\",\"#f47044\",\"#d63f4f\",\"#f47044\",\"#f47044\",\"#fed683\",\"#f47044\",\"#f47044\",\"#f47044\",\"#f47044\",\"#69c3a5\",\"#58b2ac\",\"#f47044\",\"#f47044\",\"#69c3a5\",\"#f47044\",\"#fee491\",\"#e9f69d\",\"#58b2ac\",\"#f47044\",\"#e9f69d\",\"#f47044\",\"#fdb365\",\"#fed683\",\"#f47044\",\"#58b2ac\",\"#f47044\",\"#f47044\",\"#fbfdb8\",\"#f47044\",\"#f47044\",\"#f47044\",\"#f47044\",\"#f2faaa\",\"#f47044\",\"#f47044\",\"#fee491\",\"#f47044\",\"#f47044\",\"#fed683\",\"#58b2ac\",\"#f47044\",\"#f47044\",\"#f47044\",\"#f2faaa\",\"#af1446\",\"#f47044\",\"#b1dfa3\",\"#b1dfa3\",\"#81cda5\",\"#f47044\",\"#f47044\",\"#f47044\",\"#fed683\",\"#f47044\",\"#99d6a4\",\"#58b2ac\",\"#b1dfa3\",\"#fed683\",\"#fbfdb8\",\"#fed683\",\"#f47044\",\"#feefa3\",\"#fed683\",\"#f47044\",\"#99d6a4\",\"#f47044\",\"#f47044\",\"#e9f69d\",\"#e9f69d\",\"#81cda5\",\"#fee491\",\"#f47044\",\"#f47044\",\"#99d6a4\",\"#f47044\",\"#58b2ac\",\"#f47044\",\"#f47044\",\"#58b2ac\",\"#f47044\",\"#f47044\",\"#fdb365\",\"#fed683\",\"#81cda5\",\"#f47044\",\"#58b2ac\",\"#f8864f\",\"#f47044\",\"#fed683\",\"#af1446\",\"#fed683\",\"#81cda5\",\"#f8864f\",\"#f47044\",\"#f47044\",\"#f47044\",\"#f47044\",\"#f47044\",\"#f47044\",\"#f47044\",\"#f47044\",\"#f47044\",\"#fed683\",\"#f47044\",\"#f47044\",\"#f47044\",\"#fbfdb8\",\"#f2faaa\",\"#fdc574\",\"#f47044\",\"#f47044\",\"#69c3a5\",\"#fed683\",\"#f47044\",\"#fed683\",\"#b1dfa3\",\"#58b2ac\",\"#f47044\",\"#58b2ac\",\"#fdc574\",\"#f47044\",\"#f47044\",\"#f47044\",\"#d63f4f\",\"#fee491\",\"#f47044\",\"#f47044\",\"#fed683\",\"#f47044\",\"#f47044\",\"#b1dfa3\",\"#f47044\",\"#c6e89f\",\"#f47044\",\"#f47044\",\"#f47044\",\"#4175b4\",\"#f47044\",\"#f47044\",\"#fee491\",\"#fbfdb8\",\"#c6e89f\",\"#5e4fa2\",\"#69c3a5\",\"#f47044\",\"#58b2ac\",\"#fed683\",\"#f47044\",\"#69c3a5\",\"#fee491\",\"#f47044\",\"#f47044\",\"#f47044\",\"#f47044\",\"#f47044\",\"#3389bd\",\"#f47044\",\"#f47044\",\"#f47044\",\"#69c3a5\",\"#f47044\",\"#e9f69d\",\"#fed683\",\"#f47044\",\"#f47044\",\"#69c3a5\",\"#fed683\",\"#f47044\",\"#af1446\",\"#b1dfa3\",\"#fed683\",\"#f47044\",\"#f47044\",\"#f47044\",\"#f47044\",\"#f47044\",\"#fdb365\",\"#f47044\",\"#c6e89f\",\"#99d6a4\",\"#f47044\",\"#58b2ac\",\"#58b2ac\",\"#f47044\",\"#f47044\",\"#f47044\",\"#f47044\",\"#81cda5\",\"#f47044\",\"#af1446\",\"#f47044\",\"#f47044\",\"#f47044\",\"#fed683\",\"#99d6a4\",\"#58b2ac\",\"#f47044\",\"#af1446\",\"#fdb365\",\"#f47044\",\"#f47044\",\"#f47044\",\"#f47044\",\"#58b2ac\",\"#af1446\",\"#f47044\",\"#f47044\",\"#f47044\",\"#f47044\",\"#f47044\",\"#f47044\",\"#f47044\",\"#f47044\",\"#81cda5\",\"#f47044\",\"#f47044\",\"#f47044\",\"#f47044\",\"#fed683\",\"#f47044\",\"#f47044\",\"#f47044\",\"#f47044\",\"#f47044\",\"#fed683\",\"#f47044\",\"#99d6a4\",\"#f47044\",\"#fee491\",\"#f47044\",\"#fed683\",\"#58b2ac\",\"#fed683\",\"#f47044\",\"#f47044\",\"#f47044\",\"#fee491\",\"#f47044\",\"#f47044\",\"#f47044\",\"#f47044\",\"#f47044\",\"#58b2ac\",\"#fb9d59\",\"#f47044\",\"#f47044\",\"#fbfdb8\",\"#f47044\",\"#f47044\",\"#f47044\",\"#fbfdb8\",\"#f47044\",\"#af1446\",\"#fed683\",\"#f47044\",\"#58b2ac\",\"#f47044\",\"#fed683\",\"#f47044\",\"#f47044\",\"#9e0142\",\"#fee491\",\"#f8864f\",\"#fed683\",\"#99d6a4\",\"#58b2ac\",\"#f47044\",\"#9e0142\",\"#f47044\",\"#f47044\",\"#f47044\",\"#fed683\",\"#fed683\",\"#58b2ac\",\"#f47044\",\"#f47044\",\"#f47044\",\"#58b2ac\",\"#fee491\",\"#f47044\",\"#f47044\",\"#af1446\",\"#f47044\",\"#f47044\",\"#f47044\",\"#fdb365\",\"#f47044\",\"#f47044\",\"#fee491\",\"#f47044\",\"#fffab6\",\"#58b2ac\",\"#f47044\",\"#f47044\",\"#f47044\",\"#99d6a4\",\"#f47044\",\"#fed683\",\"#f47044\",\"#f47044\",\"#f47044\",\"#f47044\",\"#f47044\",\"#f47044\",\"#9e0142\",\"#f2faaa\",\"#f47044\",\"#b1dfa3\",\"#e9f69d\",\"#f47044\",\"#f47044\",\"#5061aa\",\"#f47044\",\"#fed683\",\"#f47044\",\"#fee491\",\"#f47044\",\"#fee491\",\"#f47044\",\"#fbfdb8\",\"#fed683\",\"#f47044\",\"#5061aa\",\"#f47044\",\"#f47044\",\"#f47044\",\"#d63f4f\",\"#58b2ac\",\"#fed683\",\"#f47044\",\"#fee491\",\"#f47044\",\"#f47044\",\"#f47044\",\"#f47044\",\"#f47044\",\"#f47044\",\"#f47044\",\"#f47044\",\"#f47044\",\"#69c3a5\",\"#f47044\",\"#f47044\",\"#f47044\",\"#fee491\",\"#58b2ac\",\"#f47044\",\"#f47044\",\"#f47044\",\"#f47044\",\"#f47044\",\"#fdb365\",\"#f47044\",\"#fed683\",\"#f47044\",\"#f47044\",\"#f47044\",\"#f47044\",\"#58b2ac\",\"#f47044\",\"#f47044\",\"#b1dfa3\",\"#f47044\",\"#f47044\",\"#f47044\",\"#fdc574\",\"#f47044\",\"#fed683\",\"#f47044\",\"#f47044\",\"#f47044\",\"#af1446\",\"#fbfdb8\",\"#f47044\",\"#f47044\",\"#99d6a4\",\"#f47044\",\"#fb9d59\",\"#f47044\",\"#fee491\",\"#fffab6\",\"#f47044\",\"#f47044\",\"#f47044\",\"#f47044\",\"#fed683\",\"#f47044\",\"#f47044\",\"#e9f69d\",\"#fee491\",\"#f47044\",\"#f47044\",\"#fbfdb8\",\"#b1dfa3\",\"#f47044\",\"#f47044\",\"#f47044\",\"#f47044\",\"#f47044\",\"#af1446\",\"#e9f69d\",\"#81cda5\",\"#d63f4f\",\"#f47044\",\"#f47044\",\"#fed683\",\"#af1446\",\"#f47044\",\"#99d6a4\",\"#f47044\",\"#f47044\",\"#f47044\",\"#f47044\",\"#fdb365\",\"#5e4fa2\",\"#e1504b\",\"#f47044\",\"#f47044\",\"#fdc574\",\"#af1446\",\"#fed683\",\"#f47044\",\"#58b2ac\",\"#81cda5\",\"#daf09a\",\"#9e0142\",\"#f47044\",\"#d63f4f\",\"#f47044\",\"#f47044\",\"#fbfdb8\",\"#f47044\",\"#f47044\",\"#f47044\",\"#fee491\",\"#f47044\",\"#5061aa\",\"#f47044\",\"#9e0142\",\"#f47044\",\"#f47044\",\"#f47044\",\"#f47044\",\"#69c3a5\",\"#f47044\",\"#f47044\",\"#f47044\",\"#f47044\",\"#f47044\",\"#f47044\",\"#f47044\",\"#5061aa\",\"#f47044\",\"#fffab6\",\"#b1dfa3\",\"#f47044\",\"#f47044\",\"#fbfdb8\",\"#5061aa\",\"#f47044\",\"#f47044\",\"#f47044\",\"#f47044\",\"#f47044\",\"#58b2ac\",\"#f47044\",\"#99d6a4\",\"#f47044\",\"#f47044\",\"#e1504b\",\"#fed683\",\"#58b2ac\",\"#f47044\",\"#fee491\",\"#81cda5\",\"#f47044\",\"#daf09a\",\"#f47044\",\"#f47044\",\"#fee491\",\"#f47044\",\"#f47044\",\"#f47044\",\"#f47044\",\"#f47044\",\"#f47044\",\"#69c3a5\",\"#af1446\",\"#f47044\",\"#f47044\",\"#eb6046\",\"#fed683\",\"#f47044\",\"#f47044\",\"#3389bd\",\"#f47044\",\"#81cda5\",\"#f47044\",\"#f2faaa\",\"#f47044\",\"#e1504b\",\"#f47044\",\"#af1446\",\"#fee491\",\"#99d6a4\",\"#fed683\",\"#fdc574\",\"#d63f4f\",\"#fed683\",\"#f47044\",\"#fee491\",\"#5061aa\",\"#58b2ac\",\"#69c3a5\",\"#f47044\",\"#f47044\",\"#fbfdb8\",\"#f47044\",\"#fee491\",\"#f47044\",\"#f47044\",\"#3389bd\",\"#5061aa\",\"#99d6a4\",\"#f47044\",\"#f47044\",\"#f47044\",\"#f47044\",\"#f47044\",\"#f47044\",\"#e9f69d\",\"#f47044\",\"#58b2ac\",\"#f47044\",\"#f47044\",\"#f47044\",\"#f47044\",\"#b1dfa3\",\"#f47044\",\"#9e0142\",\"#b1dfa3\",\"#f47044\",\"#f47044\",\"#f47044\",\"#c6e89f\",\"#f47044\",\"#eb6046\",\"#f47044\",\"#f47044\",\"#f47044\",\"#f47044\",\"#f47044\",\"#f47044\",\"#f47044\",\"#fed683\",\"#f47044\",\"#fb9d59\",\"#69c3a5\",\"#69c3a5\",\"#e9f69d\",\"#58b2ac\",\"#f47044\",\"#f47044\",\"#fdb365\",\"#69c3a5\",\"#c6e89f\",\"#f47044\",\"#f47044\",\"#f47044\",\"#e1504b\",\"#f47044\",\"#f47044\",\"#f47044\",\"#f47044\",\"#f47044\",\"#f47044\",\"#f47044\",\"#f47044\",\"#f47044\",\"#fdb365\",\"#f47044\",\"#daf09a\",\"#81cda5\",\"#eb6046\",\"#fbfdb8\",\"#af1446\",\"#f47044\",\"#f2faaa\",\"#58b2ac\",\"#e1504b\",\"#5061aa\",\"#f47044\",\"#f47044\",\"#f47044\",\"#f47044\",\"#f47044\",\"#f47044\",\"#af1446\",\"#f47044\",\"#f47044\",\"#f47044\",\"#fdb365\",\"#fee491\",\"#f47044\",\"#b1dfa3\",\"#f47044\",\"#f47044\",\"#daf09a\",\"#af1446\",\"#fee491\",\"#f47044\",\"#f47044\",\"#f47044\",\"#f47044\",\"#f47044\",\"#fee491\",\"#daf09a\",\"#f47044\",\"#f47044\",\"#f47044\",\"#fed683\",\"#69c3a5\",\"#f47044\",\"#f47044\",\"#f47044\",\"#f47044\",\"#fffab6\",\"#f47044\",\"#f47044\",\"#58b2ac\",\"#69c3a5\",\"#f47044\",\"#58b2ac\",\"#69c3a5\",\"#fee491\",\"#f47044\",\"#f47044\",\"#f47044\",\"#f47044\",\"#f47044\",\"#f47044\",\"#fdb365\",\"#f47044\",\"#f47044\",\"#f47044\",\"#fed683\",\"#e9f69d\",\"#af1446\",\"#f47044\",\"#f47044\",\"#fed683\",\"#f47044\",\"#f47044\",\"#f47044\",\"#f47044\",\"#f47044\",\"#f47044\",\"#f47044\",\"#f47044\",\"#fbfdb8\",\"#f47044\",\"#f47044\",\"#f47044\",\"#eb6046\",\"#99d6a4\",\"#fee491\",\"#58b2ac\",\"#f47044\",\"#f47044\",\"#f47044\",\"#af1446\",\"#f47044\",\"#f47044\",\"#b1dfa3\",\"#fbfdb8\",\"#daf09a\",\"#58b2ac\",\"#fbfdb8\",\"#58b2ac\",\"#58b2ac\",\"#f47044\",\"#fee491\",\"#fffab6\",\"#fed683\",\"#f47044\",\"#f47044\",\"#f47044\",\"#fdb365\",\"#4175b4\",\"#f47044\",\"#fed683\",\"#f47044\",\"#f47044\",\"#f47044\",\"#69c3a5\",\"#f47044\",\"#fbfdb8\",\"#fed683\",\"#f47044\",\"#f2faaa\",\"#f47044\",\"#fee491\",\"#f47044\",\"#fed683\",\"#fed683\",\"#f47044\",\"#b1dfa3\",\"#f47044\",\"#daf09a\",\"#c6e89f\",\"#fee491\",\"#99d6a4\",\"#f47044\",\"#f47044\",\"#f47044\",\"#f47044\",\"#fed683\",\"#58b2ac\",\"#f47044\",\"#f47044\",\"#d63f4f\",\"#f47044\",\"#f47044\",\"#fffab6\",\"#f47044\",\"#f47044\",\"#f47044\",\"#f47044\",\"#99d6a4\",\"#f47044\",\"#69c3a5\",\"#f47044\",\"#f47044\",\"#f47044\",\"#f47044\",\"#f47044\",\"#5061aa\",\"#f47044\",\"#af1446\",\"#f47044\",\"#f47044\",\"#f47044\",\"#9e0142\",\"#fed683\",\"#af1446\",\"#f47044\",\"#f8864f\",\"#fee491\",\"#f47044\",\"#e1504b\"],\"index\":{\"__ndarray__\":\"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\",\"dtype\":\"int32\",\"order\":\"little\",\"shape\":[5275]},\"item\":[\"negative\",\"negative\",\"pos_PF12261_full_T_hemolysin_327.txt\",\"PF01289_full_Thiol_cytolysin_243.txt\",\"negative\",\"negative\",\"negative\",\"negative\",\"negative\",\"negative\",\"negative\",\"pos_PF11393_full_T4BSS_DotI_IcmL_214.txt\",\"negative\",\"pos_PF01823_rp15_MACPF_659.txt\",\"PF04598_rp15_Gasdermin_62.txt\",\"pos_PF12261_full_T_hemolysin_327.txt\",\"negative\",\"pos_PF01117_full_Aerolysin_207.txt\",\"negative\",\"negative\",\"negative\",\"PF00087_full_Toxin_TOLIP_333.txt\",\"pos_PF04877_full_Harpin_35.txt\",\"negative\",\"negative\",\"negative\",\"pos_PF03318_full_ETX_MTX2_440.txt\",\"pos_PF01024_full_Colicin_26.txt\",\"negative\",\"PF11565_full_porB_30.txt\",\"pos_PF06369_full_anemone_cytotox_363.txt\",\"negative\",\"negative\",\"pos_PF05802_full_EspB_60.txt\",\"pos_PF00555_seed_Endotoxin_M_36.txt\",\"PF01289_full_Thiol_cytolysin_243.txt\",\"negative\",\"pos_PF06355_full_Aegerolysin_308.txt\",\"negative\",\"pos_PF03945_full_Endotoxin_N_180.txt\",\"negative\",\"negative\",\"negative\",\"pos_PF06369_full_anemone_cytotox_363.txt\",\"negative\",\"negative\",\"PF00087_full_Toxin_TOLIP_333.txt\",\"negative\",\"negative\",\"pos_PF03318_full_ETX_MTX2_440.txt\",\"negative\",\"negative\",\"negative\",\"negative\",\"negative\",\"negative\",\"pos_PF03945_full_Endotoxin_N_180.txt\",\"negative\",\"pos_PF01823_rp15_MACPF_659.txt\",\"negative\",\"negative\",\"negative\",\"negative\",\"negative\",\"negative\",\"pos_PF12261_full_T_hemolysin_327.txt\",\"negative\",\"negative\",\"negative\",\"negative\",\"pos_PF06369_full_anemone_cytotox_363.txt\",\"pos_PF01823_rp15_MACPF_659.txt\",\"negative\",\"negative\",\"pos_PF01823_rp15_MACPF_659.txt\",\"pos_PF12261_full_T_hemolysin_327.txt\",\"negative\",\"PF01289_full_Thiol_cytolysin_243.txt\",\"pos_PF01823_rp15_MACPF_659.txt\",\"pos_PF03944_seed_Endotoxin_C_80.txt\",\"negative\",\"negative\",\"negative\",\"negative\",\"pos_PF01823_rp15_MACPF_659.txt\",\"negative\",\"pos_PF03318_full_ETX_MTX2_440.txt\",\"PF01289_full_Thiol_cytolysin_243.txt\",\"PF07367_full_FB_lectin_171.txt\",\"negative\",\"PF04598_rp15_Gasdermin_62.txt\",\"negative\",\"negative\",\"negative\",\"pos_PF01117_full_Aerolysin_207.txt\",\"PF01289_full_Thiol_cytolysin_243.txt\",\"pos_PF11393_full_T4BSS_DotI_IcmL_214.txt\",\"PF00087_full_Toxin_TOLIP_333.txt\",\"negative\",\"pos_PF03944_seed_Endotoxin_C_80.txt\",\"pos_PF01823_rp15_MACPF_659.txt\",\"negative\",\"PF01289_full_Thiol_cytolysin_243.txt\",\"negative\",\"pos_PF01338_full_Bac_thur_toxin_87.txt\",\"negative\",\"PF07367_full_FB_lectin_171.txt\",\"pos_PF03318_full_ETX_MTX2_440.txt\",\"pos_PF03318_full_ETX_MTX2_440.txt\",\"negative\",\"negative\",\"PF07367_full_FB_lectin_171.txt\",\"negative\",\"negative\",\"negative\",\"negative\",\"pos_PF06369_full_anemone_cytotox_363.txt\",\"negative\",\"pos_PF01117_full_Aerolysin_207.txt\",\"pos_PF12261_full_T_hemolysin_327.txt\",\"pos_PF06355_full_Aegerolysin_308.txt\",\"negative\",\"negative\",\"negative\",\"negative\",\"negative\",\"pos_PF01338_full_Bac_thur_toxin_87.txt\",\"negative\",\"negative\",\"negative\",\"negative\",\"negative\",\"negative\",\"negative\",\"pos_PF03318_full_ETX_MTX2_440.txt\",\"negative\",\"pos_PF05105_seed_Phage_holin_4_1_131.txt\",\"pos_PF06369_full_anemone_cytotox_363.txt\",\"pos_PF06369_full_anemone_cytotox_363.txt\",\"negative\",\"negative\",\"negative\",\"pos_PF03318_full_ETX_MTX2_440.txt\",\"PF07367_full_FB_lectin_171.txt\",\"negative\",\"negative\",\"pos_PF01823_rp15_MACPF_659.txt\",\"negative\",\"PF00087_full_Toxin_TOLIP_333.txt\",\"pos_PF01823_rp15_MACPF_659.txt\",\"pos_PF06355_full_Aegerolysin_308.txt\",\"negative\",\"negative\",\"negative\",\"pos_PF12261_full_T_hemolysin_327.txt\",\"negative\",\"negative\",\"negative\",\"pos_PF01823_rp15_MACPF_659.txt\",\"negative\",\"negative\",\"pos_PF06369_full_anemone_cytotox_363.txt\",\"pos_PF03944_seed_Endotoxin_C_80.txt\",\"negative\",\"negative\",\"pos_PF06369_full_anemone_cytotox_363.txt\",\"negative\",\"negative\",\"negative\",\"negative\",\"negative\",\"negative\",\"pos_PF04877_full_Harpin_35.txt\",\"pos_PF01338_full_Bac_thur_toxin_87.txt\",\"pos_PF01823_rp15_MACPF_659.txt\",\"negative\",\"negative\",\"pos_PF06355_full_Aegerolysin_308.txt\",\"pos_PF01823_rp15_MACPF_659.txt\",\"pos_PF05105_seed_Phage_holin_4_1_131.txt\",\"negative\",\"negative\",\"negative\",\"negative\",\"pos_PF12261_full_T_hemolysin_327.txt\",\"negative\",\"negative\",\"PF04598_rp15_Gasdermin_62.txt\",\"negative\",\"negative\",\"pos_PF11393_full_T4BSS_DotI_IcmL_214.txt\",\"negative\",\"negative\",\"negative\",\"pos_PF03318_full_ETX_MTX2_440.txt\",\"pos_PF03318_full_ETX_MTX2_440.txt\",\"negative\",\"pos_PF01823_rp15_MACPF_659.txt\",\"negative\",\"negative\",\"negative\",\"pos_PF12920_full_TcdA_TcdB_pore_46.txt\",\"pos_PF03318_full_ETX_MTX2_440.txt\",\"PF01289_full_Thiol_cytolysin_243.txt\",\"negative\",\"PF00087_full_Toxin_TOLIP_333.txt\",\"negative\",\"negative\",\"negative\",\"pos_PF06369_full_anemone_cytotox_363.txt\",\"pos_PF12261_full_T_hemolysin_327.txt\",\"pos_PF05105_seed_Phage_holin_4_1_131.txt\",\"negative\",\"negative\",\"pos_PF03318_full_ETX_MTX2_440.txt\",\"pos_PF12261_full_T_hemolysin_327.txt\",\"pos_PF05105_seed_Phage_holin_4_1_131.txt\",\"negative\",\"negative\",\"negative\",\"pos_PF06369_full_anemone_cytotox_363.txt\",\"pos_PF03318_full_ETX_MTX2_440.txt\",\"negative\",\"negative\",\"negative\",\"negative\",\"negative\",\"negative\",\"PF07367_full_FB_lectin_171.txt\",\"negative\",\"negative\",\"pos_PF01823_rp15_MACPF_659.txt\",\"pos_PF05105_seed_Phage_holin_4_1_131.txt\",\"negative\",\"negative\",\"pos_PF06355_full_Aegerolysin_308.txt\",\"pos_PF12261_full_T_hemolysin_327.txt\",\"PF11565_full_porB_30.txt\",\"pos_PF11393_full_T4BSS_DotI_IcmL_214.txt\",\"pos_PF11393_full_T4BSS_DotI_IcmL_214.txt\",\"negative\",\"negative\",\"pos_PF01823_rp15_MACPF_659.txt\",\"negative\",\"negative\",\"pos_PF01823_rp15_MACPF_659.txt\",\"negative\",\"negative\",\"pos_PF05105_seed_Phage_holin_4_1_131.txt\",\"pos_PF12563_full_Hemolysin_N_12.txt\",\"negative\",\"negative\",\"negative\",\"pos_PF01823_rp15_MACPF_659.txt\",\"negative\",\"negative\",\"negative\",\"negative\",\"pos_PF12261_full_T_hemolysin_327.txt\",\"negative\",\"pos_PF06369_full_anemone_cytotox_363.txt\",\"negative\",\"PF00087_full_Toxin_TOLIP_333.txt\",\"negative\",\"negative\",\"pos_PF05105_seed_Phage_holin_4_1_131.txt\",\"negative\",\"PF11565_full_porB_30.txt\",\"PF07367_full_FB_lectin_171.txt\",\"negative\",\"negative\",\"pos_PF07968_full_Leukocidin_89.txt\",\"negative\",\"pos_PF03944_seed_Endotoxin_C_80.txt\",\"negative\",\"pos_PF06369_full_anemone_cytotox_363.txt\",\"negative\",\"PF01289_full_Thiol_cytolysin_243.txt\",\"negative\",\"negative\",\"negative\",\"negative\",\"negative\",\"negative\",\"negative\",\"pos_PF05105_seed_Phage_holin_4_1_131.txt\",\"pos_PF12261_full_T_hemolysin_327.txt\",\"negative\",\"pos_PF03944_seed_Endotoxin_C_80.txt\",\"pos_PF11393_full_T4BSS_DotI_IcmL_214.txt\",\"negative\",\"pos_PF05105_seed_Phage_holin_4_1_131.txt\",\"pos_PF01338_full_Bac_thur_toxin_87.txt\",\"negative\",\"PF04598_rp15_Gasdermin_62.txt\",\"negative\",\"pos_PF12261_full_T_hemolysin_327.txt\",\"negative\",\"negative\",\"pos_PF17475_full_Binary_toxB_2_16.txt\",\"negative\",\"pos_PF03318_full_ETX_MTX2_440.txt\",\"negative\",\"negative\",\"negative\",\"pos_PF03945_full_Endotoxin_N_180.txt\",\"negative\",\"negative\",\"pos_PF03318_full_ETX_MTX2_440.txt\",\"negative\",\"negative\",\"pos_PF06109_full_HlyE_62.txt\",\"negative\",\"pos_PF03945_full_Endotoxin_N_180.txt\",\"negative\",\"negative\",\"pos_PF01823_rp15_MACPF_659.txt\",\"negative\",\"negative\",\"pos_PF05105_seed_Phage_holin_4_1_131.txt\",\"negative\",\"negative\",\"pos_PF06355_full_Aegerolysin_308.txt\",\"pos_PF11393_full_T4BSS_DotI_IcmL_214.txt\",\"negative\",\"negative\",\"pos_PF01823_rp15_MACPF_659.txt\",\"negative\",\"negative\",\"pos_PF04877_full_Harpin_35.txt\",\"pos_PF01823_rp15_MACPF_659.txt\",\"negative\",\"negative\",\"pos_PF01823_rp15_MACPF_659.txt\",\"negative\",\"pos_PF12563_full_Hemolysin_N_12.txt\",\"negative\",\"negative\",\"pos_PF01823_rp15_MACPF_659.txt\",\"negative\",\"negative\",\"negative\",\"pos_PF18063_full_BB_PF_52.txt\",\"negative\",\"negative\",\"negative\",\"negative\",\"pos_PF05105_seed_Phage_holin_4_1_131.txt\",\"negative\",\"pos_PF03318_full_ETX_MTX2_440.txt\",\"negative\",\"negative\",\"negative\",\"pos_PF01823_rp15_MACPF_659.txt\",\"pos_PF01823_rp15_MACPF_659.txt\",\"pos_PF01024_full_Colicin_26.txt\",\"negative\",\"negative\",\"negative\",\"pos_PF06369_full_anemone_cytotox_363.txt\",\"negative\",\"pos_PF05105_seed_Phage_holin_4_1_131.txt\",\"pos_PF11393_full_T4BSS_DotI_IcmL_214.txt\",\"pos_PF03318_full_ETX_MTX2_440.txt\",\"negative\",\"pos_PF06355_full_Aegerolysin_308.txt\",\"negative\",\"negative\",\"negative\",\"pos_PF01823_rp15_MACPF_659.txt\",\"PF00087_full_Toxin_TOLIP_333.txt\",\"negative\",\"negative\",\"negative\",\"pos_PF11393_full_T4BSS_DotI_IcmL_214.txt\",\"pos_PF06369_full_anemone_cytotox_363.txt\",\"negative\",\"negative\",\"pos_PF03944_seed_Endotoxin_C_80.txt\",\"pos_PF06355_full_Aegerolysin_308.txt\",\"negative\",\"pos_PF17475_full_Binary_toxB_2_16.txt\",\"pos_PF00555_seed_Endotoxin_M_36.txt\",\"PF07367_full_FB_lectin_171.txt\",\"negative\",\"negative\",\"negative\",\"pos_PF12261_full_T_hemolysin_327.txt\",\"negative\",\"pos_PF06369_full_anemone_cytotox_363.txt\",\"negative\",\"pos_PF17475_full_Binary_toxB_2_16.txt\",\"negative\",\"pos_PF01117_full_Aerolysin_207.txt\",\"negative\",\"PF01289_full_Thiol_cytolysin_243.txt\",\"pos_PF12261_full_T_hemolysin_327.txt\",\"PF01289_full_Thiol_cytolysin_243.txt\",\"pos_PF05802_full_EspB_60.txt\",\"pos_PF12261_full_T_hemolysin_327.txt\",\"negative\",\"negative\",\"pos_PF06369_full_anemone_cytotox_363.txt\",\"pos_PF06369_full_anemone_cytotox_363.txt\",\"pos_PF11393_full_T4BSS_DotI_IcmL_214.txt\",\"pos_PF06369_full_anemone_cytotox_363.txt\",\"negative\",\"PF07367_full_FB_lectin_171.txt\",\"pos_PF01117_full_Aerolysin_207.txt\",\"negative\",\"pos_PF06369_full_anemone_cytotox_363.txt\",\"pos_PF01338_full_Bac_thur_toxin_87.txt\",\"pos_PF01117_full_Aerolysin_207.txt\",\"negative\",\"negative\",\"negative\",\"PF11565_full_porB_30.txt\",\"pos_PF12261_full_T_hemolysin_327.txt\",\"negative\",\"PF00087_full_Toxin_TOLIP_333.txt\",\"PF04598_rp15_Gasdermin_62.txt\",\"negative\",\"negative\",\"negative\",\"PF07367_full_FB_lectin_171.txt\",\"pos_PF01823_rp15_MACPF_659.txt\",\"negative\",\"negative\",\"pos_PF01117_full_Aerolysin_207.txt\",\"negative\",\"pos_PF01823_rp15_MACPF_659.txt\",\"negative\",\"negative\",\"negative\",\"negative\",\"negative\",\"pos_PF12261_full_T_hemolysin_327.txt\",\"negative\",\"negative\",\"negative\",\"pos_PF11393_full_T4BSS_DotI_IcmL_214.txt\",\"negative\",\"pos_PF06109_full_HlyE_62.txt\",\"pos_PF06355_full_Aegerolysin_308.txt\",\"pos_PF18063_full_BB_PF_52.txt\",\"pos_PF05105_seed_Phage_holin_4_1_131.txt\",\"negative\",\"negative\",\"negative\",\"PF00087_full_Toxin_TOLIP_333.txt\",\"pos_PF01823_rp15_MACPF_659.txt\",\"negative\",\"negative\",\"negative\",\"pos_PF01117_full_Aerolysin_207.txt\",\"pos_PF01338_full_Bac_thur_toxin_87.txt\",\"negative\",\"negative\",\"PF00087_full_Toxin_TOLIP_333.txt\",\"negative\",\"pos_PF11393_full_T4BSS_DotI_IcmL_214.txt\",\"pos_PF06369_full_anemone_cytotox_363.txt\",\"pos_PF06355_full_Aegerolysin_308.txt\",\"negative\",\"pos_PF07968_full_Leukocidin_89.txt\",\"pos_PF06109_full_HlyE_62.txt\",\"negative\",\"pos_PF01338_full_Bac_thur_toxin_87.txt\",\"negative\",\"PF01289_full_Thiol_cytolysin_243.txt\",\"pos_PF05802_full_EspB_60.txt\",\"negative\",\"pos_PF11393_full_T4BSS_DotI_IcmL_214.txt\",\"negative\",\"pos_PF01823_rp15_MACPF_659.txt\",\"negative\",\"pos_PF01823_rp15_MACPF_659.txt\",\"negative\",\"PF00087_full_Toxin_TOLIP_333.txt\",\"negative\",\"negative\",\"PF01289_full_Thiol_cytolysin_243.txt\",\"negative\",\"negative\",\"pos_PF03318_full_ETX_MTX2_440.txt\",\"negative\",\"negative\",\"negative\",\"negative\",\"PF00087_full_Toxin_TOLIP_333.txt\",\"pos_PF11393_full_T4BSS_DotI_IcmL_214.txt\",\"pos_PF12920_full_TcdA_TcdB_pore_46.txt\",\"negative\",\"pos_PF01823_rp15_MACPF_659.txt\",\"negative\",\"negative\",\"pos_PF18063_full_BB_PF_52.txt\",\"pos_PF01117_full_Aerolysin_207.txt\",\"pos_PF11393_full_T4BSS_DotI_IcmL_214.txt\",\"negative\",\"PF01289_full_Thiol_cytolysin_243.txt\",\"negative\",\"negative\",\"negative\",\"pos_PF12261_full_T_hemolysin_327.txt\",\"PF00087_full_Toxin_TOLIP_333.txt\",\"negative\",\"negative\",\"negative\",\"negative\",\"pos_PF03944_seed_Endotoxin_C_80.txt\",\"negative\",\"negative\",\"pos_PF01823_rp15_MACPF_659.txt\",\"PF01289_full_Thiol_cytolysin_243.txt\",\"PF01289_full_Thiol_cytolysin_243.txt\",\"negative\",\"pos_PF01117_full_Aerolysin_207.txt\",\"pos_PF01117_full_Aerolysin_207.txt\",\"PF07367_full_FB_lectin_171.txt\",\"negative\",\"negative\",\"negative\",\"pos_PF01823_rp15_MACPF_659.txt\",\"negative\",\"pos_PF01024_full_Colicin_26.txt\",\"PF01289_full_Thiol_cytolysin_243.txt\",\"PF07367_full_FB_lectin_171.txt\",\"negative\",\"negative\",\"negative\",\"negative\",\"negative\",\"pos_PF03945_full_Endotoxin_N_180.txt\",\"negative\",\"negative\",\"negative\",\"negative\",\"negative\",\"pos_PF12261_full_T_hemolysin_327.txt\",\"pos_PF12261_full_T_hemolysin_327.txt\",\"negative\",\"pos_PF12920_full_TcdA_TcdB_pore_46.txt\",\"negative\",\"pos_PF11393_full_T4BSS_DotI_IcmL_214.txt\",\"negative\",\"pos_PF01338_full_Bac_thur_toxin_87.txt\",\"negative\",\"pos_PF05105_seed_Phage_holin_4_1_131.txt\",\"pos_PF03945_full_Endotoxin_N_180.txt\",\"pos_PF01338_full_Bac_thur_toxin_87.txt\",\"pos_PF03318_full_ETX_MTX2_440.txt\",\"negative\",\"negative\",\"pos_PF06369_full_anemone_cytotox_363.txt\",\"pos_PF18063_full_BB_PF_52.txt\",\"pos_PF03318_full_ETX_MTX2_440.txt\",\"pos_PF06355_full_Aegerolysin_308.txt\",\"negative\",\"negative\",\"negative\",\"negative\",\"pos_PF05105_seed_Phage_holin_4_1_131.txt\",\"pos_PF06369_full_anemone_cytotox_363.txt\",\"negative\",\"negative\",\"negative\",\"negative\",\"negative\",\"negative\",\"pos_PF06369_full_anemone_cytotox_363.txt\",\"negative\",\"pos_PF12261_full_T_hemolysin_327.txt\",\"pos_PF03944_seed_Endotoxin_C_80.txt\",\"pos_PF01823_rp15_MACPF_659.txt\",\"negative\",\"negative\",\"negative\",\"negative\",\"pos_PF06355_full_Aegerolysin_308.txt\",\"pos_PF06355_full_Aegerolysin_308.txt\",\"pos_PF01338_full_Bac_thur_toxin_87.txt\",\"negative\",\"negative\",\"pos_PF06369_full_anemone_cytotox_363.txt\",\"pos_PF05105_seed_Phage_holin_4_1_131.txt\",\"negative\",\"negative\",\"pos_PF01117_full_Aerolysin_207.txt\",\"pos_PF03318_full_ETX_MTX2_440.txt\",\"pos_PF06109_full_HlyE_62.txt\",\"negative\",\"negative\",\"negative\",\"negative\",\"pos_PF01823_rp15_MACPF_659.txt\",\"pos_PF03318_full_ETX_MTX2_440.txt\",\"pos_PF11393_full_T4BSS_DotI_IcmL_214.txt\",\"pos_PF03945_full_Endotoxin_N_180.txt\",\"negative\",\"pos_PF06355_full_Aegerolysin_308.txt\",\"PF00087_full_Toxin_TOLIP_333.txt\",\"negative\",\"pos_PF01823_rp15_MACPF_659.txt\",\"pos_PF06369_full_anemone_cytotox_363.txt\",\"pos_PF05105_seed_Phage_holin_4_1_131.txt\",\"negative\",\"pos_PF06369_full_anemone_cytotox_363.txt\",\"pos_PF12261_full_T_hemolysin_327.txt\",\"pos_PF11393_full_T4BSS_DotI_IcmL_214.txt\",\"pos_PF01823_rp15_MACPF_659.txt\",\"pos_PF01117_full_Aerolysin_207.txt\",\"pos_PF03945_full_Endotoxin_N_180.txt\",\"pos_PF01823_rp15_MACPF_659.txt\",\"pos_PF03945_full_Endotoxin_N_180.txt\",\"PF07367_full_FB_lectin_171.txt\",\"pos_PF06369_full_anemone_cytotox_363.txt\",\"pos_PF01117_full_Aerolysin_207.txt\",\"negative\",\"pos_PF03318_full_ETX_MTX2_440.txt\",\"PF01289_full_Thiol_cytolysin_243.txt\",\"negative\",\"negative\",\"PF00087_full_Toxin_TOLIP_333.txt\",\"negative\",\"pos_PF03944_seed_Endotoxin_C_80.txt\",\"negative\",\"negative\",\"negative\",\"negative\",\"negative\",\"pos_PF11393_full_T4BSS_DotI_IcmL_214.txt\",\"negative\",\"pos_PF03318_full_ETX_MTX2_440.txt\",\"negative\",\"PF07367_full_FB_lectin_171.txt\",\"pos_PF03318_full_ETX_MTX2_440.txt\",\"negative\",\"pos_PF03318_full_ETX_MTX2_440.txt\",\"pos_PF03318_full_ETX_MTX2_440.txt\",\"negative\",\"negative\",\"negative\",\"PF07367_full_FB_lectin_171.txt\",\"negative\",\"negative\",\"pos_PF03944_seed_Endotoxin_C_80.txt\",\"negative\",\"pos_PF06109_full_HlyE_62.txt\",\"negative\",\"negative\",\"negative\",\"PF04598_rp15_Gasdermin_62.txt\",\"pos_PF05802_full_EspB_60.txt\",\"negative\",\"PF00087_full_Toxin_TOLIP_333.txt\",\"pos_PF06355_full_Aegerolysin_308.txt\",\"negative\",\"negative\",\"negative\",\"pos_PF12261_full_T_hemolysin_327.txt\",\"pos_PF03945_full_Endotoxin_N_180.txt\",\"pos_PF11393_full_T4BSS_DotI_IcmL_214.txt\",\"negative\",\"negative\",\"pos_PF12261_full_T_hemolysin_327.txt\",\"negative\",\"negative\",\"negative\",\"negative\",\"PF00087_full_Toxin_TOLIP_333.txt\",\"negative\",\"negative\",\"negative\",\"negative\",\"negative\",\"negative\",\"pos_PF01117_full_Aerolysin_207.txt\",\"pos_PF06369_full_anemone_cytotox_363.txt\",\"pos_PF12261_full_T_hemolysin_327.txt\",\"negative\",\"negative\",\"negative\",\"PF00087_full_Toxin_TOLIP_333.txt\",\"negative\",\"negative\",\"negative\",\"negative\",\"pos_PF03318_full_ETX_MTX2_440.txt\",\"pos_PF06355_full_Aegerolysin_308.txt\",\"negative\",\"pos_PF01823_rp15_MACPF_659.txt\",\"negative\",\"pos_PF12920_full_TcdA_TcdB_pore_46.txt\",\"pos_PF01117_full_Aerolysin_207.txt\",\"negative\",\"negative\",\"PF01289_full_Thiol_cytolysin_243.txt\",\"pos_PF01823_rp15_MACPF_659.txt\",\"pos_PF06355_full_Aegerolysin_308.txt\",\"pos_PF01823_rp15_MACPF_659.txt\",\"pos_PF06109_full_HlyE_62.txt\",\"negative\",\"negative\",\"negative\",\"negative\",\"pos_PF01823_rp15_MACPF_659.txt\",\"pos_PF03944_seed_Endotoxin_C_80.txt\",\"negative\",\"pos_PF01117_full_Aerolysin_207.txt\",\"negative\",\"pos_PF12261_full_T_hemolysin_327.txt\",\"pos_PF01117_full_Aerolysin_207.txt\",\"negative\",\"pos_PF03945_full_Endotoxin_N_180.txt\",\"negative\",\"pos_PF03505_full_Clenterotox_9.txt\",\"negative\",\"negative\",\"pos_PF06369_full_anemone_cytotox_363.txt\",\"negative\",\"negative\",\"negative\",\"pos_PF12261_full_T_hemolysin_327.txt\",\"pos_PF01823_rp15_MACPF_659.txt\",\"pos_PF05802_full_EspB_60.txt\",\"negative\",\"negative\",\"negative\",\"pos_PF01823_rp15_MACPF_659.txt\",\"negative\",\"pos_PF05802_full_EspB_60.txt\",\"negative\",\"pos_PF01117_full_Aerolysin_207.txt\",\"negative\",\"pos_PF03944_seed_Endotoxin_C_80.txt\",\"pos_PF11393_full_T4BSS_DotI_IcmL_214.txt\",\"PF00087_full_Toxin_TOLIP_333.txt\",\"pos_PF05105_seed_Phage_holin_4_1_131.txt\",\"PF02382_full_RTX_14.txt\",\"pos_PF12261_full_T_hemolysin_327.txt\",\"negative\",\"negative\",\"negative\",\"negative\",\"negative\",\"pos_PF01024_full_Colicin_26.txt\",\"negative\",\"negative\",\"negative\",\"negative\",\"negative\",\"negative\",\"negative\",\"negative\",\"PF00087_full_Toxin_TOLIP_333.txt\",\"negative\",\"pos_PF12261_full_T_hemolysin_327.txt\",\"negative\",\"pos_PF06369_full_anemone_cytotox_363.txt\",\"negative\",\"pos_PF01823_rp15_MACPF_659.txt\",\"negative\",\"negative\",\"negative\",\"pos_PF03944_seed_Endotoxin_C_80.txt\",\"pos_PF01823_rp15_MACPF_659.txt\",\"negative\",\"pos_PF06355_full_Aegerolysin_308.txt\",\"pos_PF03318_full_ETX_MTX2_440.txt\",\"PF04598_rp15_Gasdermin_62.txt\",\"negative\",\"pos_PF01823_rp15_MACPF_659.txt\",\"negative\",\"pos_PF01338_full_Bac_thur_toxin_87.txt\",\"pos_PF05105_seed_Phage_holin_4_1_131.txt\",\"pos_PF06369_full_anemone_cytotox_363.txt\",\"PF01289_full_Thiol_cytolysin_243.txt\",\"pos_PF06355_full_Aegerolysin_308.txt\",\"negative\",\"pos_PF12920_full_TcdA_TcdB_pore_46.txt\",\"negative\",\"negative\",\"pos_PF01823_rp15_MACPF_659.txt\",\"PF07367_full_FB_lectin_171.txt\",\"pos_PF01823_rp15_MACPF_659.txt\",\"negative\",\"negative\",\"negative\",\"negative\",\"negative\",\"negative\",\"pos_PF01338_full_Bac_thur_toxin_87.txt\",\"pos_PF01823_rp15_MACPF_659.txt\",\"negative\",\"pos_PF06355_full_Aegerolysin_308.txt\",\"pos_PF03944_seed_Endotoxin_C_80.txt\",\"negative\",\"pos_PF05802_full_EspB_60.txt\",\"pos_PF06355_full_Aegerolysin_308.txt\",\"negative\",\"PF01289_full_Thiol_cytolysin_243.txt\",\"negative\",\"pos_PF06355_full_Aegerolysin_308.txt\",\"negative\",\"negative\",\"pos_PF01823_rp15_MACPF_659.txt\",\"negative\",\"negative\",\"negative\",\"PF01289_full_Thiol_cytolysin_243.txt\",\"negative\",\"pos_PF12261_full_T_hemolysin_327.txt\",\"PF00087_full_Toxin_TOLIP_333.txt\",\"pos_PF01823_rp15_MACPF_659.txt\",\"negative\",\"pos_PF12261_full_T_hemolysin_327.txt\",\"negative\",\"pos_PF03318_full_ETX_MTX2_440.txt\",\"pos_PF12920_full_TcdA_TcdB_pore_46.txt\",\"pos_PF07968_full_Leukocidin_89.txt\",\"negative\",\"negative\",\"negative\",\"negative\",\"negative\",\"negative\",\"negative\",\"negative\",\"negative\",\"pos_PF12261_full_T_hemolysin_327.txt\",\"pos_PF01823_rp15_MACPF_659.txt\",\"pos_PF06355_full_Aegerolysin_308.txt\",\"pos_PF11393_full_T4BSS_DotI_IcmL_214.txt\",\"negative\",\"pos_PF01338_full_Bac_thur_toxin_87.txt\",\"negative\",\"negative\",\"negative\",\"pos_PF01338_full_Bac_thur_toxin_87.txt\",\"negative\",\"negative\",\"negative\",\"negative\",\"pos_PF11393_full_T4BSS_DotI_IcmL_214.txt\",\"negative\",\"pos_PF01823_rp15_MACPF_659.txt\",\"negative\",\"negative\",\"negative\",\"negative\",\"negative\",\"negative\",\"pos_PF03318_full_ETX_MTX2_440.txt\",\"pos_PF06369_full_anemone_cytotox_363.txt\",\"pos_PF12261_full_T_hemolysin_327.txt\",\"negative\",\"negative\",\"negative\",\"negative\",\"pos_PF03944_seed_Endotoxin_C_80.txt\",\"negative\",\"negative\",\"negative\",\"negative\",\"negative\",\"pos_PF12261_full_T_hemolysin_327.txt\",\"negative\",\"negative\",\"negative\",\"negative\",\"pos_PF01823_rp15_MACPF_659.txt\",\"pos_PF01338_full_Bac_thur_toxin_87.txt\",\"pos_PF05105_seed_Phage_holin_4_1_131.txt\",\"pos_PF01823_rp15_MACPF_659.txt\",\"negative\",\"PF01289_full_Thiol_cytolysin_243.txt\",\"pos_PF01117_full_Aerolysin_207.txt\",\"PF00087_full_Toxin_TOLIP_333.txt\",\"negative\",\"pos_PF12261_full_T_hemolysin_327.txt\",\"negative\",\"pos_PF01117_full_Aerolysin_207.txt\",\"pos_PF01823_rp15_MACPF_659.txt\",\"negative\",\"negative\",\"negative\",\"pos_PF12920_full_TcdA_TcdB_pore_46.txt\",\"negative\",\"negative\",\"pos_PF12261_full_T_hemolysin_327.txt\",\"pos_PF01823_rp15_MACPF_659.txt\",\"PF01289_full_Thiol_cytolysin_243.txt\",\"negative\",\"pos_PF06369_full_anemone_cytotox_363.txt\",\"negative\",\"pos_PF12261_full_T_hemolysin_327.txt\",\"negative\",\"negative\",\"pos_PF03944_seed_Endotoxin_C_80.txt\",\"pos_PF03318_full_ETX_MTX2_440.txt\",\"negative\",\"pos_PF03318_full_ETX_MTX2_440.txt\",\"negative\",\"negative\",\"negative\",\"pos_PF01823_rp15_MACPF_659.txt\",\"pos_PF06355_full_Aegerolysin_308.txt\",\"negative\",\"negative\",\"pos_PF06369_full_anemone_cytotox_363.txt\",\"negative\",\"negative\",\"negative\",\"negative\",\"negative\",\"negative\",\"negative\",\"pos_PF05105_seed_Phage_holin_4_1_131.txt\",\"negative\",\"negative\",\"pos_PF01024_full_Colicin_26.txt\",\"negative\",\"negative\",\"negative\",\"negative\",\"PF01289_full_Thiol_cytolysin_243.txt\",\"negative\",\"negative\",\"pos_PF05802_full_EspB_60.txt\",\"pos_PF03945_full_Endotoxin_N_180.txt\",\"negative\",\"negative\",\"negative\",\"PF00087_full_Toxin_TOLIP_333.txt\",\"pos_PF03318_full_ETX_MTX2_440.txt\",\"negative\",\"negative\",\"negative\",\"negative\",\"negative\",\"pos_PF04877_full_Harpin_35.txt\",\"negative\",\"pos_PF03944_seed_Endotoxin_C_80.txt\",\"negative\",\"pos_PF06355_full_Aegerolysin_308.txt\",\"pos_PF03945_full_Endotoxin_N_180.txt\",\"negative\",\"pos_PF05105_seed_Phage_holin_4_1_131.txt\",\"pos_PF01823_rp15_MACPF_659.txt\",\"pos_PF06355_full_Aegerolysin_308.txt\",\"negative\",\"negative\",\"negative\",\"negative\",\"negative\",\"PF07367_full_FB_lectin_171.txt\",\"pos_PF03318_full_ETX_MTX2_440.txt\",\"pos_PF01823_rp15_MACPF_659.txt\",\"PF01289_full_Thiol_cytolysin_243.txt\",\"negative\",\"negative\",\"negative\",\"PF00087_full_Toxin_TOLIP_333.txt\",\"pos_PF12261_full_T_hemolysin_327.txt\",\"pos_PF01823_rp15_MACPF_659.txt\",\"pos_PF01823_rp15_MACPF_659.txt\",\"negative\",\"negative\",\"pos_PF01823_rp15_MACPF_659.txt\",\"negative\",\"pos_PF03944_seed_Endotoxin_C_80.txt\",\"pos_PF12261_full_T_hemolysin_327.txt\",\"negative\",\"negative\",\"negative\",\"pos_PF12261_full_T_hemolysin_327.txt\",\"negative\",\"pos_PF01823_rp15_MACPF_659.txt\",\"negative\",\"PF11565_full_porB_30.txt\",\"negative\",\"negative\",\"negative\",\"negative\",\"PF01289_full_Thiol_cytolysin_243.txt\",\"PF01289_full_Thiol_cytolysin_243.txt\",\"negative\",\"negative\",\"negative\",\"PF07367_full_FB_lectin_171.txt\",\"pos_PF03945_full_Endotoxin_N_180.txt\",\"pos_PF06369_full_anemone_cytotox_363.txt\",\"negative\",\"negative\",\"pos_PF06355_full_Aegerolysin_308.txt\",\"negative\",\"pos_PF01823_rp15_MACPF_659.txt\",\"PF01289_full_Thiol_cytolysin_243.txt\",\"pos_PF05105_seed_Phage_holin_4_1_131.txt\",\"pos_PF03318_full_ETX_MTX2_440.txt\",\"pos_PF01823_rp15_MACPF_659.txt\",\"negative\",\"pos_PF03318_full_ETX_MTX2_440.txt\",\"negative\",\"negative\",\"negative\",\"negative\",\"pos_PF12261_full_T_hemolysin_327.txt\",\"negative\",\"negative\",\"negative\",\"negative\",\"negative\",\"pos_PF12261_full_T_hemolysin_327.txt\",\"negative\",\"negative\",\"pos_PF01823_rp15_MACPF_659.txt\",\"negative\",\"pos_PF05802_full_EspB_60.txt\",\"negative\",\"pos_PF11393_full_T4BSS_DotI_IcmL_214.txt\",\"pos_PF01338_full_Bac_thur_toxin_87.txt\",\"negative\",\"pos_PF06369_full_anemone_cytotox_363.txt\",\"pos_PF01823_rp15_MACPF_659.txt\",\"pos_PF06109_full_HlyE_62.txt\",\"negative\",\"negative\",\"negative\",\"PF01289_full_Thiol_cytolysin_243.txt\",\"negative\",\"negative\",\"pos_PF11393_full_T4BSS_DotI_IcmL_214.txt\",\"negative\",\"negative\",\"pos_PF06355_full_Aegerolysin_308.txt\",\"pos_PF01823_rp15_MACPF_659.txt\",\"pos_PF12261_full_T_hemolysin_327.txt\",\"negative\",\"negative\",\"negative\",\"PF00087_full_Toxin_TOLIP_333.txt\",\"negative\",\"negative\",\"pos_PF03318_full_ETX_MTX2_440.txt\",\"pos_PF03318_full_ETX_MTX2_440.txt\",\"negative\",\"negative\",\"negative\",\"negative\",\"pos_PF12261_full_T_hemolysin_327.txt\",\"negative\",\"negative\",\"negative\",\"negative\",\"pos_PF01823_rp15_MACPF_659.txt\",\"pos_PF01823_rp15_MACPF_659.txt\",\"negative\",\"pos_PF05105_seed_Phage_holin_4_1_131.txt\",\"negative\",\"negative\",\"negative\",\"negative\",\"pos_PF01823_rp15_MACPF_659.txt\",\"negative\",\"pos_PF11393_full_T4BSS_DotI_IcmL_214.txt\",\"pos_PF11393_full_T4BSS_DotI_IcmL_214.txt\",\"pos_PF01823_rp15_MACPF_659.txt\",\"negative\",\"negative\",\"pos_PF06369_full_anemone_cytotox_363.txt\",\"negative\",\"pos_PF01823_rp15_MACPF_659.txt\",\"negative\",\"negative\",\"negative\",\"negative\",\"negative\",\"PF01289_full_Thiol_cytolysin_243.txt\",\"negative\",\"negative\",\"negative\",\"negative\",\"pos_PF11393_full_T4BSS_DotI_IcmL_214.txt\",\"pos_PF06109_full_HlyE_62.txt\",\"negative\",\"pos_PF12261_full_T_hemolysin_327.txt\",\"pos_PF17475_full_Binary_toxB_2_16.txt\",\"negative\",\"negative\",\"negative\",\"negative\",\"negative\",\"negative\",\"PF11565_full_porB_30.txt\",\"pos_PF06355_full_Aegerolysin_308.txt\",\"negative\",\"pos_PF01823_rp15_MACPF_659.txt\",\"negative\",\"pos_PF01117_full_Aerolysin_207.txt\",\"negative\",\"pos_PF01117_full_Aerolysin_207.txt\",\"negative\",\"negative\",\"negative\",\"pos_PF11393_full_T4BSS_DotI_IcmL_214.txt\",\"pos_PF01823_rp15_MACPF_659.txt\",\"negative\",\"pos_PF12261_full_T_hemolysin_327.txt\",\"pos_PF01823_rp15_MACPF_659.txt\",\"negative\",\"negative\",\"negative\",\"pos_PF01117_full_Aerolysin_207.txt\",\"negative\",\"pos_PF01117_full_Aerolysin_207.txt\",\"pos_PF01338_full_Bac_thur_toxin_87.txt\",\"pos_PF01823_rp15_MACPF_659.txt\",\"negative\",\"pos_PF06369_full_anemone_cytotox_363.txt\",\"pos_PF01823_rp15_MACPF_659.txt\",\"negative\",\"pos_PF06369_full_anemone_cytotox_363.txt\",\"negative\",\"negative\",\"negative\",\"negative\",\"negative\",\"negative\",\"negative\",\"negative\",\"pos_PF00555_seed_Endotoxin_M_36.txt\",\"negative\",\"pos_PF12261_full_T_hemolysin_327.txt\",\"negative\",\"negative\",\"negative\",\"pos_PF03944_seed_Endotoxin_C_80.txt\",\"negative\",\"pos_PF01823_rp15_MACPF_659.txt\",\"negative\",\"pos_PF12920_full_TcdA_TcdB_pore_46.txt\",\"negative\",\"negative\",\"pos_PF05802_full_EspB_60.txt\",\"negative\",\"pos_PF06355_full_Aegerolysin_308.txt\",\"pos_PF06355_full_Aegerolysin_308.txt\",\"pos_PF01338_full_Bac_thur_toxin_87.txt\",\"negative\",\"PF07367_full_FB_lectin_171.txt\",\"negative\",\"negative\",\"negative\",\"negative\",\"PF00087_full_Toxin_TOLIP_333.txt\",\"pos_PF05105_seed_Phage_holin_4_1_131.txt\",\"pos_PF12261_full_T_hemolysin_327.txt\",\"pos_PF12261_full_T_hemolysin_327.txt\",\"pos_PF06355_full_Aegerolysin_308.txt\",\"pos_PF05105_seed_Phage_holin_4_1_131.txt\",\"negative\",\"negative\",\"negative\",\"pos_PF01338_full_Bac_thur_toxin_87.txt\",\"negative\",\"pos_PF11393_full_T4BSS_DotI_IcmL_214.txt\",\"negative\",\"negative\",\"negative\",\"pos_PF03944_seed_Endotoxin_C_80.txt\",\"PF00087_full_Toxin_TOLIP_333.txt\",\"negative\",\"negative\",\"negative\",\"PF01289_full_Thiol_cytolysin_243.txt\",\"pos_PF06369_full_anemone_cytotox_363.txt\",\"negative\",\"negative\",\"negative\",\"negative\",\"pos_PF03944_seed_Endotoxin_C_80.txt\",\"PF11565_full_porB_30.txt\",\"PF00087_full_Toxin_TOLIP_333.txt\",\"negative\",\"pos_PF01823_rp15_MACPF_659.txt\",\"negative\",\"negative\",\"negative\",\"negative\",\"negative\",\"negative\",\"negative\",\"pos_PF01117_full_Aerolysin_207.txt\",\"negative\",\"negative\",\"negative\",\"pos_PF06369_full_anemone_cytotox_363.txt\",\"negative\",\"PF02382_full_RTX_14.txt\",\"pos_PF01117_full_Aerolysin_207.txt\",\"pos_PF11393_full_T4BSS_DotI_IcmL_214.txt\",\"pos_PF18063_full_BB_PF_52.txt\",\"pos_PF01823_rp15_MACPF_659.txt\",\"pos_PF04877_full_Harpin_35.txt\",\"negative\",\"negative\",\"negative\",\"negative\",\"negative\",\"pos_PF11393_full_T4BSS_DotI_IcmL_214.txt\",\"negative\",\"pos_PF03318_full_ETX_MTX2_440.txt\",\"negative\",\"negative\",\"negative\",\"pos_PF01823_rp15_MACPF_659.txt\",\"pos_PF06355_full_Aegerolysin_308.txt\",\"pos_PF07968_full_Leukocidin_89.txt\",\"negative\",\"pos_PF01823_rp15_MACPF_659.txt\",\"negative\",\"pos_PF06369_full_anemone_cytotox_363.txt\",\"negative\",\"negative\",\"PF07367_full_FB_lectin_171.txt\",\"negative\",\"negative\",\"negative\",\"PF01289_full_Thiol_cytolysin_243.txt\",\"negative\",\"pos_PF05105_seed_Phage_holin_4_1_131.txt\",\"negative\",\"negative\",\"negative\",\"negative\",\"pos_PF01338_full_Bac_thur_toxin_87.txt\",\"negative\",\"negative\",\"pos_PF03505_full_Clenterotox_9.txt\",\"pos_PF06355_full_Aegerolysin_308.txt\",\"pos_PF01823_rp15_MACPF_659.txt\",\"pos_PF03945_full_Endotoxin_N_180.txt\",\"negative\",\"negative\",\"negative\",\"pos_PF01823_rp15_MACPF_659.txt\",\"negative\",\"pos_PF05105_seed_Phage_holin_4_1_131.txt\",\"PF07367_full_FB_lectin_171.txt\",\"pos_PF01338_full_Bac_thur_toxin_87.txt\",\"negative\",\"negative\",\"pos_PF12920_full_TcdA_TcdB_pore_46.txt\",\"pos_PF06369_full_anemone_cytotox_363.txt\",\"pos_PF01117_full_Aerolysin_207.txt\",\"negative\",\"negative\",\"pos_PF01823_rp15_MACPF_659.txt\",\"negative\",\"negative\",\"negative\",\"negative\",\"pos_PF01823_rp15_MACPF_659.txt\",\"negative\",\"pos_PF01823_rp15_MACPF_659.txt\",\"negative\",\"pos_PF05105_seed_Phage_holin_4_1_131.txt\",\"negative\",\"negative\",\"negative\",\"pos_PF01823_rp15_MACPF_659.txt\",\"negative\",\"negative\",\"negative\",\"pos_PF01823_rp15_MACPF_659.txt\",\"pos_PF01823_rp15_MACPF_659.txt\",\"PF00087_full_Toxin_TOLIP_333.txt\",\"negative\",\"negative\",\"pos_PF11393_full_T4BSS_DotI_IcmL_214.txt\",\"pos_PF06369_full_anemone_cytotox_363.txt\",\"negative\",\"pos_PF06355_full_Aegerolysin_308.txt\",\"negative\",\"negative\",\"pos_PF00555_seed_Endotoxin_M_36.txt\",\"negative\",\"pos_PF11393_full_T4BSS_DotI_IcmL_214.txt\",\"pos_PF03318_full_ETX_MTX2_440.txt\",\"negative\",\"negative\",\"negative\",\"negative\",\"pos_PF03945_full_Endotoxin_N_180.txt\",\"pos_PF01823_rp15_MACPF_659.txt\",\"negative\",\"negative\",\"negative\",\"negative\",\"negative\",\"pos_PF05105_seed_Phage_holin_4_1_131.txt\",\"negative\",\"pos_PF06369_full_anemone_cytotox_363.txt\",\"pos_PF01338_full_Bac_thur_toxin_87.txt\",\"pos_PF12261_full_T_hemolysin_327.txt\",\"PF00087_full_Toxin_TOLIP_333.txt\",\"PF01289_full_Thiol_cytolysin_243.txt\",\"pos_PF06369_full_anemone_cytotox_363.txt\",\"pos_PF06369_full_anemone_cytotox_363.txt\",\"negative\",\"pos_PF12261_full_T_hemolysin_327.txt\",\"PF07367_full_FB_lectin_171.txt\",\"negative\",\"negative\",\"negative\",\"pos_PF07968_full_Leukocidin_89.txt\",\"negative\",\"negative\",\"negative\",\"negative\",\"pos_PF03318_full_ETX_MTX2_440.txt\",\"pos_PF03318_full_ETX_MTX2_440.txt\",\"pos_PF03945_full_Endotoxin_N_180.txt\",\"negative\",\"negative\",\"negative\",\"negative\",\"pos_PF03505_full_Clenterotox_9.txt\",\"negative\",\"negative\",\"negative\",\"pos_PF03945_full_Endotoxin_N_180.txt\",\"pos_PF01823_rp15_MACPF_659.txt\",\"negative\",\"pos_PF05105_seed_Phage_holin_4_1_131.txt\",\"pos_PF18063_full_BB_PF_52.txt\",\"negative\",\"pos_PF06369_full_anemone_cytotox_363.txt\",\"negative\",\"pos_PF01823_rp15_MACPF_659.txt\",\"negative\",\"pos_PF12261_full_T_hemolysin_327.txt\",\"negative\",\"negative\",\"negative\",\"pos_PF06355_full_Aegerolysin_308.txt\",\"negative\",\"pos_PF03945_full_Endotoxin_N_180.txt\",\"negative\",\"negative\",\"negative\",\"pos_PF12920_full_TcdA_TcdB_pore_46.txt\",\"negative\",\"negative\",\"negative\",\"negative\",\"negative\",\"pos_PF05105_seed_Phage_holin_4_1_131.txt\",\"negative\",\"negative\",\"pos_PF01117_full_Aerolysin_207.txt\",\"pos_PF01117_full_Aerolysin_207.txt\",\"pos_PF01024_full_Colicin_26.txt\",\"negative\",\"negative\",\"negative\",\"negative\",\"PF01289_full_Thiol_cytolysin_243.txt\",\"pos_PF03318_full_ETX_MTX2_440.txt\",\"PF01289_full_Thiol_cytolysin_243.txt\",\"negative\",\"pos_PF03318_full_ETX_MTX2_440.txt\",\"pos_PF03318_full_ETX_MTX2_440.txt\",\"pos_PF12261_full_T_hemolysin_327.txt\",\"negative\",\"PF00087_full_Toxin_TOLIP_333.txt\",\"negative\",\"negative\",\"negative\",\"negative\",\"negative\",\"negative\",\"negative\",\"pos_PF01117_full_Aerolysin_207.txt\",\"negative\",\"negative\",\"pos_PF01823_rp15_MACPF_659.txt\",\"negative\",\"PF01289_full_Thiol_cytolysin_243.txt\",\"negative\",\"negative\",\"pos_PF06369_full_anemone_cytotox_363.txt\",\"pos_PF12261_full_T_hemolysin_327.txt\",\"negative\",\"PF04598_rp15_Gasdermin_62.txt\",\"negative\",\"pos_PF07968_full_Leukocidin_89.txt\",\"pos_PF12261_full_T_hemolysin_327.txt\",\"negative\",\"PF01289_full_Thiol_cytolysin_243.txt\",\"negative\",\"pos_PF12261_full_T_hemolysin_327.txt\",\"pos_PF01823_rp15_MACPF_659.txt\",\"negative\",\"negative\",\"negative\",\"negative\",\"pos_PF12261_full_T_hemolysin_327.txt\",\"pos_PF01823_rp15_MACPF_659.txt\",\"negative\",\"pos_PF03318_full_ETX_MTX2_440.txt\",\"PF01289_full_Thiol_cytolysin_243.txt\",\"negative\",\"negative\",\"negative\",\"negative\",\"negative\",\"pos_PF01823_rp15_MACPF_659.txt\",\"negative\",\"pos_PF01823_rp15_MACPF_659.txt\",\"pos_PF11393_full_T4BSS_DotI_IcmL_214.txt\",\"pos_PF12261_full_T_hemolysin_327.txt\",\"pos_PF03318_full_ETX_MTX2_440.txt\",\"negative\",\"negative\",\"negative\",\"PF07367_full_FB_lectin_171.txt\",\"pos_PF03318_full_ETX_MTX2_440.txt\",\"negative\",\"negative\",\"negative\",\"pos_PF06355_full_Aegerolysin_308.txt\",\"pos_PF12261_full_T_hemolysin_327.txt\",\"pos_PF03318_full_ETX_MTX2_440.txt\",\"pos_PF06369_full_anemone_cytotox_363.txt\",\"negative\",\"negative\",\"negative\",\"negative\",\"negative\",\"negative\",\"negative\",\"pos_PF01823_rp15_MACPF_659.txt\",\"negative\",\"negative\",\"PF01289_full_Thiol_cytolysin_243.txt\",\"negative\",\"pos_PF03945_full_Endotoxin_N_180.txt\",\"pos_PF01823_rp15_MACPF_659.txt\",\"pos_PF11393_full_T4BSS_DotI_IcmL_214.txt\",\"pos_PF01823_rp15_MACPF_659.txt\",\"negative\",\"negative\",\"negative\",\"negative\",\"negative\",\"pos_PF12261_full_T_hemolysin_327.txt\",\"pos_PF03318_full_ETX_MTX2_440.txt\",\"negative\",\"pos_PF01024_full_Colicin_26.txt\",\"negative\",\"negative\",\"negative\",\"pos_PF12261_full_T_hemolysin_327.txt\",\"negative\",\"pos_PF18063_full_BB_PF_52.txt\",\"PF07367_full_FB_lectin_171.txt\",\"pos_PF12261_full_T_hemolysin_327.txt\",\"negative\",\"pos_PF01338_full_Bac_thur_toxin_87.txt\",\"negative\",\"negative\",\"negative\",\"pos_PF01823_rp15_MACPF_659.txt\",\"negative\",\"negative\",\"negative\",\"pos_PF03944_seed_Endotoxin_C_80.txt\",\"negative\",\"pos_PF07968_full_Leukocidin_89.txt\",\"negative\",\"pos_PF03945_full_Endotoxin_N_180.txt\",\"negative\",\"negative\",\"pos_PF06355_full_Aegerolysin_308.txt\",\"PF02382_full_RTX_14.txt\",\"pos_PF01117_full_Aerolysin_207.txt\",\"negative\",\"negative\",\"negative\",\"PF02382_full_RTX_14.txt\",\"negative\",\"pos_PF11393_full_T4BSS_DotI_IcmL_214.txt\",\"PF01289_full_Thiol_cytolysin_243.txt\",\"negative\",\"pos_PF06369_full_anemone_cytotox_363.txt\",\"pos_PF05105_seed_Phage_holin_4_1_131.txt\",\"negative\",\"pos_PF03318_full_ETX_MTX2_440.txt\",\"PF07367_full_FB_lectin_171.txt\",\"pos_PF18063_full_BB_PF_52.txt\",\"pos_PF03318_full_ETX_MTX2_440.txt\",\"pos_PF06369_full_anemone_cytotox_363.txt\",\"PF11565_full_porB_30.txt\",\"negative\",\"pos_PF05802_full_EspB_60.txt\",\"negative\",\"negative\",\"negative\",\"pos_PF12261_full_T_hemolysin_327.txt\",\"negative\",\"negative\",\"negative\",\"negative\",\"pos_PF06369_full_anemone_cytotox_363.txt\",\"negative\",\"pos_PF03318_full_ETX_MTX2_440.txt\",\"negative\",\"pos_PF03945_full_Endotoxin_N_180.txt\",\"pos_PF06369_full_anemone_cytotox_363.txt\",\"pos_PF11393_full_T4BSS_DotI_IcmL_214.txt\",\"pos_PF12261_full_T_hemolysin_327.txt\",\"pos_PF01823_rp15_MACPF_659.txt\",\"PF01289_full_Thiol_cytolysin_243.txt\",\"pos_PF01823_rp15_MACPF_659.txt\",\"pos_PF01024_full_Colicin_26.txt\",\"negative\",\"negative\",\"pos_PF04877_full_Harpin_35.txt\",\"pos_PF18684_full_PlyB_C_8.txt\",\"negative\",\"negative\",\"pos_PF05105_seed_Phage_holin_4_1_131.txt\",\"negative\",\"negative\",\"pos_PF01823_rp15_MACPF_659.txt\",\"pos_PF01823_rp15_MACPF_659.txt\",\"pos_PF06369_full_anemone_cytotox_363.txt\",\"negative\",\"negative\",\"negative\",\"negative\",\"negative\",\"negative\",\"negative\",\"negative\",\"pos_PF00555_seed_Endotoxin_M_36.txt\",\"negative\",\"negative\",\"negative\",\"negative\",\"pos_PF06355_full_Aegerolysin_308.txt\",\"pos_PF05802_full_EspB_60.txt\",\"negative\",\"negative\",\"PF00087_full_Toxin_TOLIP_333.txt\",\"pos_PF06369_full_anemone_cytotox_363.txt\",\"negative\",\"pos_PF11393_full_T4BSS_DotI_IcmL_214.txt\",\"pos_PF06355_full_Aegerolysin_308.txt\",\"pos_PF01823_rp15_MACPF_659.txt\",\"pos_PF12261_full_T_hemolysin_327.txt\",\"negative\",\"PF04598_rp15_Gasdermin_62.txt\",\"negative\",\"pos_PF03945_full_Endotoxin_N_180.txt\",\"pos_PF01823_rp15_MACPF_659.txt\",\"negative\",\"negative\",\"pos_PF01823_rp15_MACPF_659.txt\",\"pos_PF01823_rp15_MACPF_659.txt\",\"negative\",\"pos_PF06355_full_Aegerolysin_308.txt\",\"negative\",\"pos_PF12261_full_T_hemolysin_327.txt\",\"negative\",\"negative\",\"pos_PF03945_full_Endotoxin_N_180.txt\",\"pos_PF01117_full_Aerolysin_207.txt\",\"pos_PF01117_full_Aerolysin_207.txt\",\"negative\",\"negative\",\"negative\",\"pos_PF01823_rp15_MACPF_659.txt\",\"pos_PF03944_seed_Endotoxin_C_80.txt\",\"negative\",\"negative\",\"negative\",\"pos_PF06355_full_Aegerolysin_308.txt\",\"negative\",\"negative\",\"negative\",\"pos_PF03945_full_Endotoxin_N_180.txt\",\"pos_PF12261_full_T_hemolysin_327.txt\",\"pos_PF06355_full_Aegerolysin_308.txt\",\"negative\",\"PF00087_full_Toxin_TOLIP_333.txt\",\"pos_PF11393_full_T4BSS_DotI_IcmL_214.txt\",\"negative\",\"pos_PF01823_rp15_MACPF_659.txt\",\"pos_PF12261_full_T_hemolysin_327.txt\",\"negative\",\"negative\",\"PF00087_full_Toxin_TOLIP_333.txt\",\"negative\",\"negative\",\"negative\",\"PF01289_full_Thiol_cytolysin_243.txt\",\"pos_PF03318_full_ETX_MTX2_440.txt\",\"negative\",\"pos_PF06369_full_anemone_cytotox_363.txt\",\"negative\",\"negative\",\"negative\",\"pos_PF03945_full_Endotoxin_N_180.txt\",\"pos_PF11393_full_T4BSS_DotI_IcmL_214.txt\",\"negative\",\"pos_PF01823_rp15_MACPF_659.txt\",\"PF07367_full_FB_lectin_171.txt\",\"negative\",\"negative\",\"negative\",\"negative\",\"negative\",\"negative\",\"negative\",\"pos_PF06369_full_anemone_cytotox_363.txt\",\"negative\",\"negative\",\"negative\",\"pos_PF03318_full_ETX_MTX2_440.txt\",\"pos_PF03318_full_ETX_MTX2_440.txt\",\"negative\",\"negative\",\"negative\",\"PF00087_full_Toxin_TOLIP_333.txt\",\"PF00087_full_Toxin_TOLIP_333.txt\",\"pos_PF18063_full_BB_PF_52.txt\",\"pos_PF06369_full_anemone_cytotox_363.txt\",\"negative\",\"pos_PF01823_rp15_MACPF_659.txt\",\"pos_PF01823_rp15_MACPF_659.txt\",\"negative\",\"negative\",\"negative\",\"pos_PF11393_full_T4BSS_DotI_IcmL_214.txt\",\"negative\",\"pos_PF12261_full_T_hemolysin_327.txt\",\"pos_PF06369_full_anemone_cytotox_363.txt\",\"pos_PF01823_rp15_MACPF_659.txt\",\"negative\",\"pos_PF06369_full_anemone_cytotox_363.txt\",\"pos_PF18063_full_BB_PF_52.txt\",\"pos_PF06109_full_HlyE_62.txt\",\"pos_PF03945_full_Endotoxin_N_180.txt\",\"negative\",\"negative\",\"negative\",\"pos_PF01823_rp15_MACPF_659.txt\",\"PF01289_full_Thiol_cytolysin_243.txt\",\"PF07367_full_FB_lectin_171.txt\",\"pos_PF18063_full_BB_PF_52.txt\",\"PF00087_full_Toxin_TOLIP_333.txt\",\"negative\",\"pos_PF06355_full_Aegerolysin_308.txt\",\"pos_PF11393_full_T4BSS_DotI_IcmL_214.txt\",\"PF01289_full_Thiol_cytolysin_243.txt\",\"negative\",\"negative\",\"negative\",\"negative\",\"PF00087_full_Toxin_TOLIP_333.txt\",\"pos_PF05105_seed_Phage_holin_4_1_131.txt\",\"negative\",\"pos_PF01024_full_Colicin_26.txt\",\"negative\",\"pos_PF01823_rp15_MACPF_659.txt\",\"negative\",\"negative\",\"PF01289_full_Thiol_cytolysin_243.txt\",\"pos_PF12261_full_T_hemolysin_327.txt\",\"negative\",\"negative\",\"negative\",\"pos_PF03945_full_Endotoxin_N_180.txt\",\"PF00087_full_Toxin_TOLIP_333.txt\",\"pos_PF01823_rp15_MACPF_659.txt\",\"pos_PF11393_full_T4BSS_DotI_IcmL_214.txt\",\"negative\",\"negative\",\"pos_PF01823_rp15_MACPF_659.txt\",\"pos_PF01338_full_Bac_thur_toxin_87.txt\",\"negative\",\"negative\",\"negative\",\"pos_PF12261_full_T_hemolysin_327.txt\",\"PF01289_full_Thiol_cytolysin_243.txt\",\"negative\",\"negative\",\"negative\",\"pos_PF12261_full_T_hemolysin_327.txt\",\"negative\",\"negative\",\"negative\",\"pos_PF01823_rp15_MACPF_659.txt\",\"negative\",\"negative\",\"pos_PF05105_seed_Phage_holin_4_1_131.txt\",\"negative\",\"negative\",\"pos_PF05105_seed_Phage_holin_4_1_131.txt\",\"pos_PF12261_full_T_hemolysin_327.txt\",\"pos_PF01117_full_Aerolysin_207.txt\",\"pos_PF06369_full_anemone_cytotox_363.txt\",\"negative\",\"pos_PF01823_rp15_MACPF_659.txt\",\"pos_PF12261_full_T_hemolysin_327.txt\",\"pos_PF01024_full_Colicin_26.txt\",\"negative\",\"pos_PF00555_seed_Endotoxin_M_36.txt\",\"negative\",\"negative\",\"negative\",\"negative\",\"negative\",\"pos_PF05802_full_EspB_60.txt\",\"pos_PF03318_full_ETX_MTX2_440.txt\",\"negative\",\"PF01289_full_Thiol_cytolysin_243.txt\",\"PF11565_full_porB_30.txt\",\"negative\",\"negative\",\"negative\",\"pos_PF06355_full_Aegerolysin_308.txt\",\"pos_PF01823_rp15_MACPF_659.txt\",\"pos_PF12920_full_TcdA_TcdB_pore_46.txt\",\"negative\",\"pos_PF03944_seed_Endotoxin_C_80.txt\",\"negative\",\"negative\",\"negative\",\"PF00087_full_Toxin_TOLIP_333.txt\",\"negative\",\"negative\",\"negative\",\"negative\",\"pos_PF01823_rp15_MACPF_659.txt\",\"pos_PF01823_rp15_MACPF_659.txt\",\"pos_PF11393_full_T4BSS_DotI_IcmL_214.txt\",\"negative\",\"negative\",\"negative\",\"pos_PF03318_full_ETX_MTX2_440.txt\",\"negative\",\"pos_PF05105_seed_Phage_holin_4_1_131.txt\",\"pos_PF01823_rp15_MACPF_659.txt\",\"PF07367_full_FB_lectin_171.txt\",\"negative\",\"negative\",\"negative\",\"pos_PF01823_rp15_MACPF_659.txt\",\"negative\",\"pos_PF03945_full_Endotoxin_N_180.txt\",\"negative\",\"negative\",\"negative\",\"pos_PF01117_full_Aerolysin_207.txt\",\"pos_PF03318_full_ETX_MTX2_440.txt\",\"pos_PF12261_full_T_hemolysin_327.txt\",\"negative\",\"pos_PF11393_full_T4BSS_DotI_IcmL_214.txt\",\"negative\",\"pos_PF06369_full_anemone_cytotox_363.txt\",\"pos_PF06355_full_Aegerolysin_308.txt\",\"PF02382_full_RTX_14.txt\",\"PF01289_full_Thiol_cytolysin_243.txt\",\"pos_PF03318_full_ETX_MTX2_440.txt\",\"negative\",\"pos_PF06355_full_Aegerolysin_308.txt\",\"negative\",\"negative\",\"PF00087_full_Toxin_TOLIP_333.txt\",\"negative\",\"pos_PF03318_full_ETX_MTX2_440.txt\",\"PF07367_full_FB_lectin_171.txt\",\"pos_PF11393_full_T4BSS_DotI_IcmL_214.txt\",\"pos_PF05105_seed_Phage_holin_4_1_131.txt\",\"negative\",\"PF07367_full_FB_lectin_171.txt\",\"PF02382_full_RTX_14.txt\",\"negative\",\"pos_PF06369_full_anemone_cytotox_363.txt\",\"negative\",\"negative\",\"PF01289_full_Thiol_cytolysin_243.txt\",\"negative\",\"pos_PF12261_full_T_hemolysin_327.txt\",\"pos_PF12920_full_TcdA_TcdB_pore_46.txt\",\"pos_PF01823_rp15_MACPF_659.txt\",\"pos_PF05105_seed_Phage_holin_4_1_131.txt\",\"pos_PF05105_seed_Phage_holin_4_1_131.txt\",\"pos_PF12261_full_T_hemolysin_327.txt\",\"negative\",\"negative\",\"pos_PF06369_full_anemone_cytotox_363.txt\",\"negative\",\"pos_PF05105_seed_Phage_holin_4_1_131.txt\",\"negative\",\"PF01289_full_Thiol_cytolysin_243.txt\",\"negative\",\"pos_PF01823_rp15_MACPF_659.txt\",\"pos_PF05105_seed_Phage_holin_4_1_131.txt\",\"pos_PF03318_full_ETX_MTX2_440.txt\",\"negative\",\"negative\",\"negative\",\"pos_PF03318_full_ETX_MTX2_440.txt\",\"pos_PF01823_rp15_MACPF_659.txt\",\"pos_PF01823_rp15_MACPF_659.txt\",\"negative\",\"negative\",\"negative\",\"negative\",\"negative\",\"pos_PF12261_full_T_hemolysin_327.txt\",\"pos_PF11393_full_T4BSS_DotI_IcmL_214.txt\",\"PF04598_rp15_Gasdermin_62.txt\",\"negative\",\"pos_PF01823_rp15_MACPF_659.txt\",\"negative\",\"pos_PF06355_full_Aegerolysin_308.txt\",\"negative\",\"negative\",\"pos_PF12261_full_T_hemolysin_327.txt\",\"negative\",\"negative\",\"pos_PF06369_full_anemone_cytotox_363.txt\",\"negative\",\"negative\",\"negative\",\"negative\",\"negative\",\"negative\",\"negative\",\"negative\",\"negative\",\"PF07367_full_FB_lectin_171.txt\",\"negative\",\"negative\",\"PF01289_full_Thiol_cytolysin_243.txt\",\"negative\",\"PF00087_full_Toxin_TOLIP_333.txt\",\"pos_PF01823_rp15_MACPF_659.txt\",\"negative\",\"pos_PF12261_full_T_hemolysin_327.txt\",\"negative\",\"PF07367_full_FB_lectin_171.txt\",\"negative\",\"negative\",\"negative\",\"pos_PF06369_full_anemone_cytotox_363.txt\",\"negative\",\"negative\",\"negative\",\"pos_PF06369_full_anemone_cytotox_363.txt\",\"negative\",\"negative\",\"negative\",\"pos_PF01117_full_Aerolysin_207.txt\",\"pos_PF12261_full_T_hemolysin_327.txt\",\"negative\",\"negative\",\"pos_PF04877_full_Harpin_35.txt\",\"negative\",\"negative\",\"negative\",\"negative\",\"negative\",\"negative\",\"negative\",\"pos_PF05105_seed_Phage_holin_4_1_131.txt\",\"negative\",\"pos_PF03945_full_Endotoxin_N_180.txt\",\"negative\",\"negative\",\"negative\",\"PF00087_full_Toxin_TOLIP_333.txt\",\"negative\",\"negative\",\"negative\",\"negative\",\"negative\",\"negative\",\"pos_PF12261_full_T_hemolysin_327.txt\",\"negative\",\"negative\",\"negative\",\"negative\",\"negative\",\"pos_PF06109_full_HlyE_62.txt\",\"pos_PF12261_full_T_hemolysin_327.txt\",\"pos_PF12261_full_T_hemolysin_327.txt\",\"pos_PF06355_full_Aegerolysin_308.txt\",\"pos_PF11393_full_T4BSS_DotI_IcmL_214.txt\",\"pos_PF06369_full_anemone_cytotox_363.txt\",\"pos_PF12261_full_T_hemolysin_327.txt\",\"negative\",\"negative\",\"negative\",\"negative\",\"negative\",\"negative\",\"pos_PF11393_full_T4BSS_DotI_IcmL_214.txt\",\"negative\",\"negative\",\"negative\",\"negative\",\"pos_PF01823_rp15_MACPF_659.txt\",\"pos_PF12261_full_T_hemolysin_327.txt\",\"negative\",\"pos_PF03318_full_ETX_MTX2_440.txt\",\"pos_PF06355_full_Aegerolysin_308.txt\",\"negative\",\"pos_PF12261_full_T_hemolysin_327.txt\",\"pos_PF06109_full_HlyE_62.txt\",\"negative\",\"negative\",\"pos_PF07968_full_Leukocidin_89.txt\",\"pos_PF03945_full_Endotoxin_N_180.txt\",\"negative\",\"negative\",\"pos_PF03318_full_ETX_MTX2_440.txt\",\"negative\",\"negative\",\"pos_PF01823_rp15_MACPF_659.txt\",\"pos_PF01823_rp15_MACPF_659.txt\",\"negative\",\"negative\",\"negative\",\"pos_PF03945_full_Endotoxin_N_180.txt\",\"negative\",\"pos_PF01823_rp15_MACPF_659.txt\",\"pos_PF01823_rp15_MACPF_659.txt\",\"pos_PF11393_full_T4BSS_DotI_IcmL_214.txt\",\"pos_PF03318_full_ETX_MTX2_440.txt\",\"pos_PF05802_full_EspB_60.txt\",\"negative\",\"negative\",\"pos_PF06369_full_anemone_cytotox_363.txt\",\"pos_PF06109_full_HlyE_62.txt\",\"pos_PF11393_full_T4BSS_DotI_IcmL_214.txt\",\"pos_PF03318_full_ETX_MTX2_440.txt\",\"PF01289_full_Thiol_cytolysin_243.txt\",\"negative\",\"negative\",\"negative\",\"pos_PF03318_full_ETX_MTX2_440.txt\",\"negative\",\"pos_PF01338_full_Bac_thur_toxin_87.txt\",\"negative\",\"negative\",\"negative\",\"negative\",\"negative\",\"negative\",\"negative\",\"pos_PF12261_full_T_hemolysin_327.txt\",\"pos_PF12920_full_TcdA_TcdB_pore_46.txt\",\"pos_PF06369_full_anemone_cytotox_363.txt\",\"pos_PF01823_rp15_MACPF_659.txt\",\"negative\",\"negative\",\"pos_PF01117_full_Aerolysin_207.txt\",\"pos_PF01823_rp15_MACPF_659.txt\",\"PF04598_rp15_Gasdermin_62.txt\",\"pos_PF03318_full_ETX_MTX2_440.txt\",\"negative\",\"pos_PF11393_full_T4BSS_DotI_IcmL_214.txt\",\"pos_PF01823_rp15_MACPF_659.txt\",\"negative\",\"negative\",\"negative\",\"negative\",\"negative\",\"negative\",\"negative\",\"PF07367_full_FB_lectin_171.txt\",\"negative\",\"pos_PF01823_rp15_MACPF_659.txt\",\"negative\",\"negative\",\"negative\",\"pos_PF07968_full_Leukocidin_89.txt\",\"negative\",\"pos_PF03318_full_ETX_MTX2_440.txt\",\"negative\",\"pos_PF06109_full_HlyE_62.txt\",\"negative\",\"pos_PF18063_full_BB_PF_52.txt\",\"negative\",\"pos_PF03505_full_Clenterotox_9.txt\",\"PF01289_full_Thiol_cytolysin_243.txt\",\"negative\",\"negative\",\"pos_PF01823_rp15_MACPF_659.txt\",\"pos_PF07968_full_Leukocidin_89.txt\",\"pos_PF06369_full_anemone_cytotox_363.txt\",\"negative\",\"pos_PF11393_full_T4BSS_DotI_IcmL_214.txt\",\"negative\",\"pos_PF03318_full_ETX_MTX2_440.txt\",\"negative\",\"negative\",\"PF01289_full_Thiol_cytolysin_243.txt\",\"pos_PF07968_full_Leukocidin_89.txt\",\"PF07367_full_FB_lectin_171.txt\",\"pos_PF06355_full_Aegerolysin_308.txt\",\"PF04598_rp15_Gasdermin_62.txt\",\"negative\",\"pos_PF07968_full_Leukocidin_89.txt\",\"pos_PF03318_full_ETX_MTX2_440.txt\",\"negative\",\"negative\",\"negative\",\"PF01289_full_Thiol_cytolysin_243.txt\",\"pos_PF11393_full_T4BSS_DotI_IcmL_214.txt\",\"pos_PF06369_full_anemone_cytotox_363.txt\",\"pos_PF06355_full_Aegerolysin_308.txt\",\"negative\",\"negative\",\"negative\",\"pos_PF01024_full_Colicin_26.txt\",\"negative\",\"pos_PF00555_seed_Endotoxin_M_36.txt\",\"PF01289_full_Thiol_cytolysin_243.txt\",\"pos_PF01823_rp15_MACPF_659.txt\",\"pos_PF03944_seed_Endotoxin_C_80.txt\",\"pos_PF11393_full_T4BSS_DotI_IcmL_214.txt\",\"negative\",\"pos_PF18063_full_BB_PF_52.txt\",\"negative\",\"negative\",\"negative\",\"pos_PF04877_full_Harpin_35.txt\",\"negative\",\"pos_PF11393_full_T4BSS_DotI_IcmL_214.txt\",\"negative\",\"PF01289_full_Thiol_cytolysin_243.txt\",\"pos_PF12261_full_T_hemolysin_327.txt\",\"pos_PF05105_seed_Phage_holin_4_1_131.txt\",\"negative\",\"negative\",\"negative\",\"negative\",\"pos_PF01823_rp15_MACPF_659.txt\",\"negative\",\"pos_PF05802_full_EspB_60.txt\",\"pos_PF01823_rp15_MACPF_659.txt\",\"pos_PF01823_rp15_MACPF_659.txt\",\"negative\",\"negative\",\"negative\",\"pos_PF06355_full_Aegerolysin_308.txt\",\"pos_PF06369_full_anemone_cytotox_363.txt\",\"negative\",\"negative\",\"PF01289_full_Thiol_cytolysin_243.txt\",\"pos_PF06355_full_Aegerolysin_308.txt\",\"pos_PF03318_full_ETX_MTX2_440.txt\",\"negative\",\"negative\",\"pos_PF12563_full_Hemolysin_N_12.txt\",\"negative\",\"PF07367_full_FB_lectin_171.txt\",\"negative\",\"negative\",\"pos_PF07968_full_Leukocidin_89.txt\",\"negative\",\"negative\",\"pos_PF12920_full_TcdA_TcdB_pore_46.txt\",\"PF01289_full_Thiol_cytolysin_243.txt\",\"negative\",\"negative\",\"negative\",\"negative\",\"pos_PF06369_full_anemone_cytotox_363.txt\",\"pos_PF01823_rp15_MACPF_659.txt\",\"negative\",\"negative\",\"negative\",\"negative\",\"pos_PF06369_full_anemone_cytotox_363.txt\",\"negative\",\"negative\",\"pos_PF01117_full_Aerolysin_207.txt\",\"negative\",\"pos_PF03318_full_ETX_MTX2_440.txt\",\"negative\",\"negative\",\"pos_PF06355_full_Aegerolysin_308.txt\",\"pos_PF01823_rp15_MACPF_659.txt\",\"negative\",\"negative\",\"negative\",\"pos_PF03318_full_ETX_MTX2_440.txt\",\"pos_PF05802_full_EspB_60.txt\",\"pos_PF06355_full_Aegerolysin_308.txt\",\"negative\",\"negative\",\"PF01289_full_Thiol_cytolysin_243.txt\",\"negative\",\"negative\",\"negative\",\"negative\",\"pos_PF11393_full_T4BSS_DotI_IcmL_214.txt\",\"negative\",\"negative\",\"negative\",\"negative\",\"pos_PF06355_full_Aegerolysin_308.txt\",\"PF07367_full_FB_lectin_171.txt\",\"negative\",\"negative\",\"negative\",\"negative\",\"negative\",\"negative\",\"pos_PF01823_rp15_MACPF_659.txt\",\"pos_PF06355_full_Aegerolysin_308.txt\",\"pos_PF03318_full_ETX_MTX2_440.txt\",\"pos_PF03945_full_Endotoxin_N_180.txt\",\"negative\",\"negative\",\"pos_PF01338_full_Bac_thur_toxin_87.txt\",\"negative\",\"negative\",\"pos_PF03318_full_ETX_MTX2_440.txt\",\"pos_PF03318_full_ETX_MTX2_440.txt\",\"negative\",\"negative\",\"negative\",\"pos_PF05105_seed_Phage_holin_4_1_131.txt\",\"negative\",\"pos_PF06109_full_HlyE_62.txt\",\"negative\",\"pos_PF03318_full_ETX_MTX2_440.txt\",\"negative\",\"negative\",\"negative\",\"negative\",\"negative\",\"pos_PF06369_full_anemone_cytotox_363.txt\",\"pos_PF03945_full_Endotoxin_N_180.txt\",\"negative\",\"pos_PF01117_full_Aerolysin_207.txt\",\"pos_PF01823_rp15_MACPF_659.txt\",\"pos_PF06369_full_anemone_cytotox_363.txt\",\"negative\",\"pos_PF06355_full_Aegerolysin_308.txt\",\"PF01289_full_Thiol_cytolysin_243.txt\",\"negative\",\"negative\",\"pos_PF06369_full_anemone_cytotox_363.txt\",\"negative\",\"pos_PF12261_full_T_hemolysin_327.txt\",\"negative\",\"negative\",\"pos_PF03318_full_ETX_MTX2_440.txt\",\"pos_PF03318_full_ETX_MTX2_440.txt\",\"pos_PF01823_rp15_MACPF_659.txt\",\"negative\",\"pos_PF12563_full_Hemolysin_N_12.txt\",\"pos_PF06369_full_anemone_cytotox_363.txt\",\"PF04598_rp15_Gasdermin_62.txt\",\"negative\",\"pos_PF01823_rp15_MACPF_659.txt\",\"negative\",\"negative\",\"negative\",\"negative\",\"negative\",\"negative\",\"negative\",\"negative\",\"negative\",\"PF01289_full_Thiol_cytolysin_243.txt\",\"pos_PF01823_rp15_MACPF_659.txt\",\"pos_PF03318_full_ETX_MTX2_440.txt\",\"negative\",\"PF04598_rp15_Gasdermin_62.txt\",\"pos_PF12261_full_T_hemolysin_327.txt\",\"PF01289_full_Thiol_cytolysin_243.txt\",\"pos_PF03945_full_Endotoxin_N_180.txt\",\"pos_PF06369_full_anemone_cytotox_363.txt\",\"PF04598_rp15_Gasdermin_62.txt\",\"negative\",\"PF07367_full_FB_lectin_171.txt\",\"pos_PF05802_full_EspB_60.txt\",\"PF07367_full_FB_lectin_171.txt\",\"pos_PF06355_full_Aegerolysin_308.txt\",\"negative\",\"negative\",\"pos_PF06355_full_Aegerolysin_308.txt\",\"negative\",\"PF04598_rp15_Gasdermin_62.txt\",\"negative\",\"negative\",\"pos_PF01117_full_Aerolysin_207.txt\",\"negative\",\"pos_PF03318_full_ETX_MTX2_440.txt\",\"negative\",\"negative\",\"negative\",\"negative\",\"pos_PF01117_full_Aerolysin_207.txt\",\"negative\",\"negative\",\"negative\",\"negative\",\"negative\",\"pos_PF18063_full_BB_PF_52.txt\",\"negative\",\"pos_PF03318_full_ETX_MTX2_440.txt\",\"negative\",\"negative\",\"negative\",\"negative\",\"pos_PF12920_full_TcdA_TcdB_pore_46.txt\",\"PF01289_full_Thiol_cytolysin_243.txt\",\"pos_PF01823_rp15_MACPF_659.txt\",\"negative\",\"pos_PF11393_full_T4BSS_DotI_IcmL_214.txt\",\"negative\",\"negative\",\"pos_PF18063_full_BB_PF_52.txt\",\"pos_PF03318_full_ETX_MTX2_440.txt\",\"pos_PF03318_full_ETX_MTX2_440.txt\",\"negative\",\"negative\",\"negative\",\"negative\",\"pos_PF03944_seed_Endotoxin_C_80.txt\",\"pos_PF03318_full_ETX_MTX2_440.txt\",\"negative\",\"pos_PF03318_full_ETX_MTX2_440.txt\",\"pos_PF03945_full_Endotoxin_N_180.txt\",\"pos_PF05105_seed_Phage_holin_4_1_131.txt\",\"negative\",\"negative\",\"pos_PF11393_full_T4BSS_DotI_IcmL_214.txt\",\"pos_PF01823_rp15_MACPF_659.txt\",\"pos_PF00555_seed_Endotoxin_M_36.txt\",\"pos_PF05105_seed_Phage_holin_4_1_131.txt\",\"negative\",\"pos_PF01823_rp15_MACPF_659.txt\",\"negative\",\"pos_PF12261_full_T_hemolysin_327.txt\",\"negative\",\"negative\",\"pos_PF18684_full_PlyB_C_8.txt\",\"negative\",\"negative\",\"negative\",\"PF00087_full_Toxin_TOLIP_333.txt\",\"pos_PF01823_rp15_MACPF_659.txt\",\"negative\",\"pos_PF00555_seed_Endotoxin_M_36.txt\",\"pos_PF01338_full_Bac_thur_toxin_87.txt\",\"negative\",\"negative\",\"negative\",\"pos_PF06355_full_Aegerolysin_308.txt\",\"negative\",\"pos_PF03318_full_ETX_MTX2_440.txt\",\"negative\",\"negative\",\"pos_PF12563_full_Hemolysin_N_12.txt\",\"negative\",\"negative\",\"negative\",\"negative\",\"negative\",\"pos_PF12261_full_T_hemolysin_327.txt\",\"negative\",\"pos_PF06109_full_HlyE_62.txt\",\"pos_PF01117_full_Aerolysin_207.txt\",\"negative\",\"pos_PF03945_full_Endotoxin_N_180.txt\",\"pos_PF06355_full_Aegerolysin_308.txt\",\"negative\",\"negative\",\"negative\",\"pos_PF00555_seed_Endotoxin_M_36.txt\",\"negative\",\"pos_PF12261_full_T_hemolysin_327.txt\",\"negative\",\"pos_PF03318_full_ETX_MTX2_440.txt\",\"pos_PF07968_full_Leukocidin_89.txt\",\"pos_PF12261_full_T_hemolysin_327.txt\",\"negative\",\"pos_PF03945_full_Endotoxin_N_180.txt\",\"negative\",\"pos_PF11393_full_T4BSS_DotI_IcmL_214.txt\",\"pos_PF06369_full_anemone_cytotox_363.txt\",\"pos_PF12261_full_T_hemolysin_327.txt\",\"pos_PF12261_full_T_hemolysin_327.txt\",\"negative\",\"pos_PF00555_seed_Endotoxin_M_36.txt\",\"negative\",\"pos_PF03318_full_ETX_MTX2_440.txt\",\"negative\",\"negative\",\"negative\",\"negative\",\"pos_PF05105_seed_Phage_holin_4_1_131.txt\",\"pos_PF01823_rp15_MACPF_659.txt\",\"negative\",\"negative\",\"negative\",\"pos_PF01823_rp15_MACPF_659.txt\",\"pos_PF01823_rp15_MACPF_659.txt\",\"PF07367_full_FB_lectin_171.txt\",\"negative\",\"negative\",\"pos_PF05105_seed_Phage_holin_4_1_131.txt\",\"negative\",\"negative\",\"negative\",\"negative\",\"PF00087_full_Toxin_TOLIP_333.txt\",\"negative\",\"pos_PF03318_full_ETX_MTX2_440.txt\",\"negative\",\"pos_PF11393_full_T4BSS_DotI_IcmL_214.txt\",\"negative\",\"PF04598_rp15_Gasdermin_62.txt\",\"pos_PF03945_full_Endotoxin_N_180.txt\",\"negative\",\"negative\",\"negative\",\"negative\",\"negative\",\"pos_PF12261_full_T_hemolysin_327.txt\",\"negative\",\"negative\",\"negative\",\"negative\",\"negative\",\"negative\",\"negative\",\"negative\",\"negative\",\"pos_PF05105_seed_Phage_holin_4_1_131.txt\",\"negative\",\"negative\",\"pos_PF05105_seed_Phage_holin_4_1_131.txt\",\"negative\",\"pos_PF01823_rp15_MACPF_659.txt\",\"pos_PF01823_rp15_MACPF_659.txt\",\"pos_PF05802_full_EspB_60.txt\",\"negative\",\"pos_PF03318_full_ETX_MTX2_440.txt\",\"pos_PF11393_full_T4BSS_DotI_IcmL_214.txt\",\"negative\",\"PF00087_full_Toxin_TOLIP_333.txt\",\"negative\",\"negative\",\"pos_PF03318_full_ETX_MTX2_440.txt\",\"negative\",\"pos_PF12261_full_T_hemolysin_327.txt\",\"negative\",\"negative\",\"negative\",\"pos_PF18063_full_BB_PF_52.txt\",\"negative\",\"negative\",\"pos_PF01823_rp15_MACPF_659.txt\",\"negative\",\"pos_PF03945_full_Endotoxin_N_180.txt\",\"PF00087_full_Toxin_TOLIP_333.txt\",\"pos_PF01823_rp15_MACPF_659.txt\",\"pos_PF06355_full_Aegerolysin_308.txt\",\"pos_PF03945_full_Endotoxin_N_180.txt\",\"pos_PF01117_full_Aerolysin_207.txt\",\"negative\",\"negative\",\"negative\",\"negative\",\"pos_PF12261_full_T_hemolysin_327.txt\",\"PF00087_full_Toxin_TOLIP_333.txt\",\"negative\",\"negative\",\"negative\",\"negative\",\"pos_PF12563_full_Hemolysin_N_12.txt\",\"negative\",\"negative\",\"negative\",\"pos_PF03318_full_ETX_MTX2_440.txt\",\"pos_PF11393_full_T4BSS_DotI_IcmL_214.txt\",\"negative\",\"PF07367_full_FB_lectin_171.txt\",\"negative\",\"negative\",\"negative\",\"pos_PF01823_rp15_MACPF_659.txt\",\"pos_PF03945_full_Endotoxin_N_180.txt\",\"pos_PF03318_full_ETX_MTX2_440.txt\",\"negative\",\"PF00087_full_Toxin_TOLIP_333.txt\",\"negative\",\"PF07367_full_FB_lectin_171.txt\",\"pos_PF05105_seed_Phage_holin_4_1_131.txt\",\"pos_PF01823_rp15_MACPF_659.txt\",\"negative\",\"pos_PF01823_rp15_MACPF_659.txt\",\"pos_PF03945_full_Endotoxin_N_180.txt\",\"negative\",\"negative\",\"negative\",\"pos_PF06109_full_HlyE_62.txt\",\"negative\",\"pos_PF03945_full_Endotoxin_N_180.txt\",\"negative\",\"pos_PF03945_full_Endotoxin_N_180.txt\",\"pos_PF06369_full_anemone_cytotox_363.txt\",\"pos_PF01823_rp15_MACPF_659.txt\",\"negative\",\"negative\",\"negative\",\"pos_PF03944_seed_Endotoxin_C_80.txt\",\"pos_PF01823_rp15_MACPF_659.txt\",\"PF07367_full_FB_lectin_171.txt\",\"negative\",\"negative\",\"negative\",\"pos_PF12261_full_T_hemolysin_327.txt\",\"pos_PF01823_rp15_MACPF_659.txt\",\"negative\",\"negative\",\"PF07367_full_FB_lectin_171.txt\",\"negative\",\"pos_PF06369_full_anemone_cytotox_363.txt\",\"negative\",\"negative\",\"negative\",\"negative\",\"negative\",\"negative\",\"pos_PF06369_full_anemone_cytotox_363.txt\",\"negative\",\"negative\",\"pos_PF06369_full_anemone_cytotox_363.txt\",\"negative\",\"negative\",\"PF11565_full_porB_30.txt\",\"pos_PF18063_full_BB_PF_52.txt\",\"negative\",\"pos_PF01117_full_Aerolysin_207.txt\",\"negative\",\"negative\",\"negative\",\"pos_PF01823_rp15_MACPF_659.txt\",\"PF00087_full_Toxin_TOLIP_333.txt\",\"negative\",\"PF07367_full_FB_lectin_171.txt\",\"negative\",\"negative\",\"negative\",\"pos_PF01823_rp15_MACPF_659.txt\",\"pos_PF06355_full_Aegerolysin_308.txt\",\"pos_PF03944_seed_Endotoxin_C_80.txt\",\"pos_PF06369_full_anemone_cytotox_363.txt\",\"PF07367_full_FB_lectin_171.txt\",\"negative\",\"pos_PF06109_full_HlyE_62.txt\",\"pos_PF06369_full_anemone_cytotox_363.txt\",\"pos_PF04877_full_Harpin_35.txt\",\"negative\",\"negative\",\"negative\",\"PF01289_full_Thiol_cytolysin_243.txt\",\"pos_PF05105_seed_Phage_holin_4_1_131.txt\",\"negative\",\"pos_PF05802_full_EspB_60.txt\",\"PF07367_full_FB_lectin_171.txt\",\"pos_PF05802_full_EspB_60.txt\",\"negative\",\"negative\",\"pos_PF03318_full_ETX_MTX2_440.txt\",\"PF11565_full_porB_30.txt\",\"pos_PF01024_full_Colicin_26.txt\",\"pos_PF06369_full_anemone_cytotox_363.txt\",\"pos_PF11393_full_T4BSS_DotI_IcmL_214.txt\",\"pos_PF03318_full_ETX_MTX2_440.txt\",\"negative\",\"negative\",\"negative\",\"negative\",\"negative\",\"pos_PF01823_rp15_MACPF_659.txt\",\"negative\",\"negative\",\"negative\",\"negative\",\"pos_PF12261_full_T_hemolysin_327.txt\",\"pos_PF01823_rp15_MACPF_659.txt\",\"PF00087_full_Toxin_TOLIP_333.txt\",\"PF01289_full_Thiol_cytolysin_243.txt\",\"negative\",\"pos_PF06355_full_Aegerolysin_308.txt\",\"negative\",\"negative\",\"negative\",\"negative\",\"negative\",\"pos_PF01823_rp15_MACPF_659.txt\",\"pos_PF01823_rp15_MACPF_659.txt\",\"pos_PF06369_full_anemone_cytotox_363.txt\",\"pos_PF04877_full_Harpin_35.txt\",\"pos_PF01823_rp15_MACPF_659.txt\",\"negative\",\"negative\",\"negative\",\"negative\",\"pos_PF11393_full_T4BSS_DotI_IcmL_214.txt\",\"negative\",\"PF01289_full_Thiol_cytolysin_243.txt\",\"negative\",\"negative\",\"pos_PF12261_full_T_hemolysin_327.txt\",\"pos_PF03318_full_ETX_MTX2_440.txt\",\"pos_PF05105_seed_Phage_holin_4_1_131.txt\",\"pos_PF12261_full_T_hemolysin_327.txt\",\"pos_PF03318_full_ETX_MTX2_440.txt\",\"negative\",\"pos_PF06355_full_Aegerolysin_308.txt\",\"pos_PF06355_full_Aegerolysin_308.txt\",\"pos_PF03318_full_ETX_MTX2_440.txt\",\"PF00087_full_Toxin_TOLIP_333.txt\",\"negative\",\"negative\",\"pos_PF11393_full_T4BSS_DotI_IcmL_214.txt\",\"pos_PF01823_rp15_MACPF_659.txt\",\"pos_PF01823_rp15_MACPF_659.txt\",\"negative\",\"PF01289_full_Thiol_cytolysin_243.txt\",\"pos_PF18063_full_BB_PF_52.txt\",\"negative\",\"pos_PF01823_rp15_MACPF_659.txt\",\"pos_PF06355_full_Aegerolysin_308.txt\",\"negative\",\"pos_PF05105_seed_Phage_holin_4_1_131.txt\",\"negative\",\"pos_PF06355_full_Aegerolysin_308.txt\",\"pos_PF11393_full_T4BSS_DotI_IcmL_214.txt\",\"negative\",\"negative\",\"pos_PF01823_rp15_MACPF_659.txt\",\"negative\",\"negative\",\"negative\",\"pos_PF01338_full_Bac_thur_toxin_87.txt\",\"pos_PF06369_full_anemone_cytotox_363.txt\",\"pos_PF06369_full_anemone_cytotox_363.txt\",\"pos_PF03318_full_ETX_MTX2_440.txt\",\"negative\",\"negative\",\"pos_PF06109_full_HlyE_62.txt\",\"negative\",\"pos_PF01823_rp15_MACPF_659.txt\",\"PF00087_full_Toxin_TOLIP_333.txt\",\"negative\",\"negative\",\"pos_PF12261_full_T_hemolysin_327.txt\",\"PF07367_full_FB_lectin_171.txt\",\"negative\",\"pos_PF06369_full_anemone_cytotox_363.txt\",\"negative\",\"pos_PF01823_rp15_MACPF_659.txt\",\"negative\",\"negative\",\"pos_PF03318_full_ETX_MTX2_440.txt\",\"negative\",\"pos_PF12261_full_T_hemolysin_327.txt\",\"pos_PF12261_full_T_hemolysin_327.txt\",\"pos_PF01823_rp15_MACPF_659.txt\",\"negative\",\"negative\",\"negative\",\"pos_PF12920_full_TcdA_TcdB_pore_46.txt\",\"pos_PF12261_full_T_hemolysin_327.txt\",\"pos_PF03945_full_Endotoxin_N_180.txt\",\"pos_PF01823_rp15_MACPF_659.txt\",\"PF02382_full_RTX_14.txt\",\"pos_PF01823_rp15_MACPF_659.txt\",\"pos_PF01823_rp15_MACPF_659.txt\",\"pos_PF05105_seed_Phage_holin_4_1_131.txt\",\"pos_PF01823_rp15_MACPF_659.txt\",\"pos_PF05105_seed_Phage_holin_4_1_131.txt\",\"pos_PF06369_full_anemone_cytotox_363.txt\",\"pos_PF06369_full_anemone_cytotox_363.txt\",\"pos_PF03318_full_ETX_MTX2_440.txt\",\"negative\",\"negative\",\"pos_PF01823_rp15_MACPF_659.txt\",\"pos_PF06369_full_anemone_cytotox_363.txt\",\"PF01289_full_Thiol_cytolysin_243.txt\",\"pos_PF01823_rp15_MACPF_659.txt\",\"negative\",\"negative\",\"pos_PF01823_rp15_MACPF_659.txt\",\"negative\",\"negative\",\"negative\",\"PF00087_full_Toxin_TOLIP_333.txt\",\"pos_PF03318_full_ETX_MTX2_440.txt\",\"PF01289_full_Thiol_cytolysin_243.txt\",\"PF04598_rp15_Gasdermin_62.txt\",\"negative\",\"negative\",\"pos_PF05105_seed_Phage_holin_4_1_131.txt\",\"negative\",\"negative\",\"negative\",\"negative\",\"pos_PF03945_full_Endotoxin_N_180.txt\",\"negative\",\"negative\",\"negative\",\"negative\",\"negative\",\"negative\",\"negative\",\"negative\",\"pos_PF03318_full_ETX_MTX2_440.txt\",\"PF00087_full_Toxin_TOLIP_333.txt\",\"negative\",\"pos_PF01823_rp15_MACPF_659.txt\",\"pos_PF03318_full_ETX_MTX2_440.txt\",\"negative\",\"pos_PF01823_rp15_MACPF_659.txt\",\"negative\",\"negative\",\"pos_PF03945_full_Endotoxin_N_180.txt\",\"negative\",\"pos_PF03318_full_ETX_MTX2_440.txt\",\"pos_PF12261_full_T_hemolysin_327.txt\",\"pos_PF01823_rp15_MACPF_659.txt\",\"negative\",\"pos_PF06355_full_Aegerolysin_308.txt\",\"negative\",\"pos_PF05802_full_EspB_60.txt\",\"negative\",\"negative\",\"pos_PF03318_full_ETX_MTX2_440.txt\",\"negative\",\"negative\",\"pos_PF06355_full_Aegerolysin_308.txt\",\"negative\",\"negative\",\"negative\",\"pos_PF12261_full_T_hemolysin_327.txt\",\"negative\",\"negative\",\"negative\",\"negative\",\"pos_PF04877_full_Harpin_35.txt\",\"negative\",\"PF01289_full_Thiol_cytolysin_243.txt\",\"negative\",\"pos_PF03318_full_ETX_MTX2_440.txt\",\"negative\",\"pos_PF03318_full_ETX_MTX2_440.txt\",\"negative\",\"negative\",\"pos_PF01117_full_Aerolysin_207.txt\",\"PF00087_full_Toxin_TOLIP_333.txt\",\"pos_PF03318_full_ETX_MTX2_440.txt\",\"pos_PF06109_full_HlyE_62.txt\",\"negative\",\"pos_PF06369_full_anemone_cytotox_363.txt\",\"pos_PF01823_rp15_MACPF_659.txt\",\"negative\",\"negative\",\"negative\",\"negative\",\"negative\",\"pos_PF18684_full_PlyB_C_8.txt\",\"negative\",\"negative\",\"negative\",\"pos_PF01117_full_Aerolysin_207.txt\",\"PF11565_full_porB_30.txt\",\"pos_PF03945_full_Endotoxin_N_180.txt\",\"PF01289_full_Thiol_cytolysin_243.txt\",\"pos_PF12261_full_T_hemolysin_327.txt\",\"negative\",\"negative\",\"negative\",\"negative\",\"negative\",\"negative\",\"negative\",\"pos_PF01823_rp15_MACPF_659.txt\",\"pos_PF01117_full_Aerolysin_207.txt\",\"pos_PF05802_full_EspB_60.txt\",\"pos_PF03944_seed_Endotoxin_C_80.txt\",\"negative\",\"pos_PF12261_full_T_hemolysin_327.txt\",\"negative\",\"negative\",\"negative\",\"negative\",\"pos_PF03318_full_ETX_MTX2_440.txt\",\"negative\",\"negative\",\"pos_PF05105_seed_Phage_holin_4_1_131.txt\",\"negative\",\"negative\",\"PF01289_full_Thiol_cytolysin_243.txt\",\"pos_PF06109_full_HlyE_62.txt\",\"pos_PF06355_full_Aegerolysin_308.txt\",\"negative\",\"pos_PF03944_seed_Endotoxin_C_80.txt\",\"negative\",\"negative\",\"pos_PF03318_full_ETX_MTX2_440.txt\",\"negative\",\"negative\",\"pos_PF12261_full_T_hemolysin_327.txt\",\"negative\",\"negative\",\"pos_PF12261_full_T_hemolysin_327.txt\",\"negative\",\"negative\",\"negative\",\"negative\",\"negative\",\"negative\",\"pos_PF01823_rp15_MACPF_659.txt\",\"negative\",\"negative\",\"negative\",\"pos_PF06369_full_anemone_cytotox_363.txt\",\"pos_PF01823_rp15_MACPF_659.txt\",\"pos_PF01823_rp15_MACPF_659.txt\",\"negative\",\"negative\",\"pos_PF03945_full_Endotoxin_N_180.txt\",\"negative\",\"negative\",\"negative\",\"negative\",\"pos_PF01117_full_Aerolysin_207.txt\",\"pos_PF12261_full_T_hemolysin_327.txt\",\"negative\",\"negative\",\"negative\",\"negative\",\"negative\",\"negative\",\"negative\",\"pos_PF07968_full_Leukocidin_89.txt\",\"negative\",\"pos_PF03318_full_ETX_MTX2_440.txt\",\"negative\",\"negative\",\"negative\",\"negative\",\"pos_PF05105_seed_Phage_holin_4_1_131.txt\",\"negative\",\"pos_PF06109_full_HlyE_62.txt\",\"pos_PF12920_full_TcdA_TcdB_pore_46.txt\",\"negative\",\"negative\",\"pos_PF00555_seed_Endotoxin_M_36.txt\",\"negative\",\"negative\",\"pos_PF06355_full_Aegerolysin_308.txt\",\"pos_PF03944_seed_Endotoxin_C_80.txt\",\"negative\",\"negative\",\"negative\",\"negative\",\"pos_PF05105_seed_Phage_holin_4_1_131.txt\",\"pos_PF01823_rp15_MACPF_659.txt\",\"negative\",\"negative\",\"negative\",\"negative\",\"negative\",\"negative\",\"negative\",\"negative\",\"pos_PF12261_full_T_hemolysin_327.txt\",\"negative\",\"negative\",\"pos_PF03318_full_ETX_MTX2_440.txt\",\"pos_PF01823_rp15_MACPF_659.txt\",\"negative\",\"negative\",\"PF01289_full_Thiol_cytolysin_243.txt\",\"pos_PF11393_full_T4BSS_DotI_IcmL_214.txt\",\"negative\",\"negative\",\"negative\",\"pos_PF12261_full_T_hemolysin_327.txt\",\"pos_PF17475_full_Binary_toxB_2_16.txt\",\"negative\",\"PF01289_full_Thiol_cytolysin_243.txt\",\"pos_PF01117_full_Aerolysin_207.txt\",\"negative\",\"pos_PF06355_full_Aegerolysin_308.txt\",\"pos_PF11393_full_T4BSS_DotI_IcmL_214.txt\",\"pos_PF01823_rp15_MACPF_659.txt\",\"pos_PF01338_full_Bac_thur_toxin_87.txt\",\"pos_PF12261_full_T_hemolysin_327.txt\",\"negative\",\"pos_PF03945_full_Endotoxin_N_180.txt\",\"pos_PF01823_rp15_MACPF_659.txt\",\"negative\",\"negative\",\"negative\",\"negative\",\"pos_PF03945_full_Endotoxin_N_180.txt\",\"negative\",\"negative\",\"pos_PF03318_full_ETX_MTX2_440.txt\",\"negative\",\"negative\",\"pos_PF18063_full_BB_PF_52.txt\",\"pos_PF01823_rp15_MACPF_659.txt\",\"PF00087_full_Toxin_TOLIP_333.txt\",\"negative\",\"negative\",\"negative\",\"negative\",\"negative\",\"negative\",\"negative\",\"negative\",\"negative\",\"pos_PF17475_full_Binary_toxB_2_16.txt\",\"negative\",\"negative\",\"pos_PF06355_full_Aegerolysin_308.txt\",\"negative\",\"negative\",\"negative\",\"pos_PF01823_rp15_MACPF_659.txt\",\"pos_PF01823_rp15_MACPF_659.txt\",\"negative\",\"pos_PF05105_seed_Phage_holin_4_1_131.txt\",\"pos_PF12261_full_T_hemolysin_327.txt\",\"negative\",\"pos_PF03318_full_ETX_MTX2_440.txt\",\"negative\",\"negative\",\"negative\",\"negative\",\"negative\",\"negative\",\"negative\",\"pos_PF11393_full_T4BSS_DotI_IcmL_214.txt\",\"negative\",\"negative\",\"negative\",\"negative\",\"pos_PF12261_full_T_hemolysin_327.txt\",\"pos_PF18684_full_PlyB_C_8.txt\",\"pos_PF01338_full_Bac_thur_toxin_87.txt\",\"pos_PF03945_full_Endotoxin_N_180.txt\",\"negative\",\"pos_PF03945_full_Endotoxin_N_180.txt\",\"negative\",\"pos_PF03318_full_ETX_MTX2_440.txt\",\"negative\",\"negative\",\"negative\",\"negative\",\"negative\",\"negative\",\"negative\",\"negative\",\"negative\",\"negative\",\"negative\",\"negative\",\"pos_PF01823_rp15_MACPF_659.txt\",\"negative\",\"PF01289_full_Thiol_cytolysin_243.txt\",\"pos_PF06369_full_anemone_cytotox_363.txt\",\"negative\",\"pos_PF01823_rp15_MACPF_659.txt\",\"pos_PF03318_full_ETX_MTX2_440.txt\",\"pos_PF03945_full_Endotoxin_N_180.txt\",\"pos_PF05105_seed_Phage_holin_4_1_131.txt\",\"pos_PF03318_full_ETX_MTX2_440.txt\",\"negative\",\"pos_PF03944_seed_Endotoxin_C_80.txt\",\"negative\",\"negative\",\"negative\",\"negative\",\"negative\",\"pos_PF11393_full_T4BSS_DotI_IcmL_214.txt\",\"negative\",\"PF07367_full_FB_lectin_171.txt\",\"negative\",\"negative\",\"negative\",\"negative\",\"pos_PF05802_full_EspB_60.txt\",\"pos_PF03944_seed_Endotoxin_C_80.txt\",\"negative\",\"negative\",\"negative\",\"negative\",\"pos_PF11393_full_T4BSS_DotI_IcmL_214.txt\",\"negative\",\"negative\",\"negative\",\"pos_PF11393_full_T4BSS_DotI_IcmL_214.txt\",\"negative\",\"pos_PF01823_rp15_MACPF_659.txt\",\"negative\",\"negative\",\"negative\",\"negative\",\"pos_PF05802_full_EspB_60.txt\",\"negative\",\"pos_PF03318_full_ETX_MTX2_440.txt\",\"pos_PF01823_rp15_MACPF_659.txt\",\"PF04598_rp15_Gasdermin_62.txt\",\"negative\",\"pos_PF01823_rp15_MACPF_659.txt\",\"PF01289_full_Thiol_cytolysin_243.txt\",\"pos_PF05105_seed_Phage_holin_4_1_131.txt\",\"negative\",\"pos_PF03318_full_ETX_MTX2_440.txt\",\"negative\",\"pos_PF03944_seed_Endotoxin_C_80.txt\",\"negative\",\"pos_PF11393_full_T4BSS_DotI_IcmL_214.txt\",\"pos_PF12920_full_TcdA_TcdB_pore_46.txt\",\"negative\",\"negative\",\"negative\",\"negative\",\"negative\",\"negative\",\"pos_PF07968_full_Leukocidin_89.txt\",\"negative\",\"pos_PF06355_full_Aegerolysin_308.txt\",\"pos_PF00555_seed_Endotoxin_M_36.txt\",\"negative\",\"pos_PF01117_full_Aerolysin_207.txt\",\"pos_PF03318_full_ETX_MTX2_440.txt\",\"pos_PF12261_full_T_hemolysin_327.txt\",\"negative\",\"negative\",\"negative\",\"PF07367_full_FB_lectin_171.txt\",\"negative\",\"negative\",\"pos_PF06109_full_HlyE_62.txt\",\"PF01289_full_Thiol_cytolysin_243.txt\",\"negative\",\"negative\",\"negative\",\"pos_PF06355_full_Aegerolysin_308.txt\",\"pos_PF12261_full_T_hemolysin_327.txt\",\"negative\",\"negative\",\"negative\",\"negative\",\"negative\",\"negative\",\"negative\",\"pos_PF03318_full_ETX_MTX2_440.txt\",\"negative\",\"negative\",\"negative\",\"negative\",\"negative\",\"negative\",\"pos_PF01024_full_Colicin_26.txt\",\"pos_PF06355_full_Aegerolysin_308.txt\",\"negative\",\"negative\",\"negative\",\"negative\",\"pos_PF00555_seed_Endotoxin_M_36.txt\",\"PF04598_rp15_Gasdermin_62.txt\",\"PF07367_full_FB_lectin_171.txt\",\"pos_PF01823_rp15_MACPF_659.txt\",\"negative\",\"negative\",\"negative\",\"negative\",\"pos_PF06355_full_Aegerolysin_308.txt\",\"negative\",\"negative\",\"negative\",\"pos_PF11393_full_T4BSS_DotI_IcmL_214.txt\",\"negative\",\"pos_PF12261_full_T_hemolysin_327.txt\",\"negative\",\"negative\",\"negative\",\"negative\",\"negative\",\"pos_PF01823_rp15_MACPF_659.txt\",\"pos_PF01823_rp15_MACPF_659.txt\",\"negative\",\"pos_PF01823_rp15_MACPF_659.txt\",\"pos_PF01823_rp15_MACPF_659.txt\",\"negative\",\"pos_PF06355_full_Aegerolysin_308.txt\",\"negative\",\"negative\",\"negative\",\"pos_PF12261_full_T_hemolysin_327.txt\",\"pos_PF07968_full_Leukocidin_89.txt\",\"pos_PF01823_rp15_MACPF_659.txt\",\"negative\",\"negative\",\"negative\",\"negative\",\"pos_PF06369_full_anemone_cytotox_363.txt\",\"negative\",\"negative\",\"negative\",\"negative\",\"pos_PF01117_full_Aerolysin_207.txt\",\"negative\",\"negative\",\"negative\",\"negative\",\"pos_PF06355_full_Aegerolysin_308.txt\",\"negative\",\"pos_PF11393_full_T4BSS_DotI_IcmL_214.txt\",\"negative\",\"negative\",\"negative\",\"PF01289_full_Thiol_cytolysin_243.txt\",\"negative\",\"negative\",\"negative\",\"negative\",\"negative\",\"PF01289_full_Thiol_cytolysin_243.txt\",\"negative\",\"negative\",\"negative\",\"pos_PF11393_full_T4BSS_DotI_IcmL_214.txt\",\"negative\",\"pos_PF05105_seed_Phage_holin_4_1_131.txt\",\"negative\",\"negative\",\"PF11565_full_porB_30.txt\",\"pos_PF03318_full_ETX_MTX2_440.txt\",\"negative\",\"negative\",\"negative\",\"negative\",\"negative\",\"negative\",\"negative\",\"pos_PF06355_full_Aegerolysin_308.txt\",\"negative\",\"negative\",\"negative\",\"PF01289_full_Thiol_cytolysin_243.txt\",\"negative\",\"pos_PF01823_rp15_MACPF_659.txt\",\"pos_PF01823_rp15_MACPF_659.txt\",\"pos_PF01338_full_Bac_thur_toxin_87.txt\",\"pos_PF12261_full_T_hemolysin_327.txt\",\"negative\",\"pos_PF03945_full_Endotoxin_N_180.txt\",\"negative\",\"negative\",\"pos_PF03318_full_ETX_MTX2_440.txt\",\"pos_PF12261_full_T_hemolysin_327.txt\",\"negative\",\"negative\",\"negative\",\"pos_PF01338_full_Bac_thur_toxin_87.txt\",\"pos_PF06109_full_HlyE_62.txt\",\"pos_PF06369_full_anemone_cytotox_363.txt\",\"PF04598_rp15_Gasdermin_62.txt\",\"pos_PF00555_seed_Endotoxin_M_36.txt\",\"pos_PF12261_full_T_hemolysin_327.txt\",\"negative\",\"PF00087_full_Toxin_TOLIP_333.txt\",\"pos_PF01823_rp15_MACPF_659.txt\",\"PF01289_full_Thiol_cytolysin_243.txt\",\"pos_PF03318_full_ETX_MTX2_440.txt\",\"PF01289_full_Thiol_cytolysin_243.txt\",\"negative\",\"pos_PF12261_full_T_hemolysin_327.txt\",\"PF01289_full_Thiol_cytolysin_243.txt\",\"negative\",\"PF04598_rp15_Gasdermin_62.txt\",\"pos_PF03945_full_Endotoxin_N_180.txt\",\"pos_PF12261_full_T_hemolysin_327.txt\",\"negative\",\"negative\",\"PF00087_full_Toxin_TOLIP_333.txt\",\"negative\",\"pos_PF01823_rp15_MACPF_659.txt\",\"pos_PF03318_full_ETX_MTX2_440.txt\",\"negative\",\"negative\",\"negative\",\"negative\",\"pos_PF01823_rp15_MACPF_659.txt\",\"negative\",\"pos_PF06369_full_anemone_cytotox_363.txt\",\"negative\",\"negative\",\"negative\",\"negative\",\"pos_PF01823_rp15_MACPF_659.txt\",\"negative\",\"pos_PF01823_rp15_MACPF_659.txt\",\"negative\",\"negative\",\"pos_PF06109_full_HlyE_62.txt\",\"negative\",\"negative\",\"pos_PF01823_rp15_MACPF_659.txt\",\"negative\",\"pos_PF01117_full_Aerolysin_207.txt\",\"negative\",\"pos_PF12261_full_T_hemolysin_327.txt\",\"negative\",\"negative\",\"pos_PF11393_full_T4BSS_DotI_IcmL_214.txt\",\"pos_PF03318_full_ETX_MTX2_440.txt\",\"negative\",\"PF00087_full_Toxin_TOLIP_333.txt\",\"pos_PF06109_full_HlyE_62.txt\",\"pos_PF01117_full_Aerolysin_207.txt\",\"pos_PF01117_full_Aerolysin_207.txt\",\"negative\",\"pos_PF03318_full_ETX_MTX2_440.txt\",\"PF01289_full_Thiol_cytolysin_243.txt\",\"negative\",\"negative\",\"pos_PF06369_full_anemone_cytotox_363.txt\",\"negative\",\"pos_PF03944_seed_Endotoxin_C_80.txt\",\"pos_PF06355_full_Aegerolysin_308.txt\",\"pos_PF03945_full_Endotoxin_N_180.txt\",\"pos_PF01117_full_Aerolysin_207.txt\",\"negative\",\"negative\",\"negative\",\"pos_PF01823_rp15_MACPF_659.txt\",\"negative\",\"negative\",\"pos_PF03945_full_Endotoxin_N_180.txt\",\"pos_PF01823_rp15_MACPF_659.txt\",\"PF07367_full_FB_lectin_171.txt\",\"pos_PF01823_rp15_MACPF_659.txt\",\"negative\",\"negative\",\"negative\",\"negative\",\"pos_PF12261_full_T_hemolysin_327.txt\",\"negative\",\"pos_PF03318_full_ETX_MTX2_440.txt\",\"pos_PF05802_full_EspB_60.txt\",\"pos_PF03944_seed_Endotoxin_C_80.txt\",\"negative\",\"pos_PF06369_full_anemone_cytotox_363.txt\",\"PF01289_full_Thiol_cytolysin_243.txt\",\"pos_PF01823_rp15_MACPF_659.txt\",\"pos_PF01823_rp15_MACPF_659.txt\",\"negative\",\"negative\",\"negative\",\"negative\",\"PF00087_full_Toxin_TOLIP_333.txt\",\"negative\",\"negative\",\"pos_PF03318_full_ETX_MTX2_440.txt\",\"PF01289_full_Thiol_cytolysin_243.txt\",\"negative\",\"negative\",\"pos_PF03318_full_ETX_MTX2_440.txt\",\"pos_PF01338_full_Bac_thur_toxin_87.txt\",\"negative\",\"negative\",\"pos_PF03318_full_ETX_MTX2_440.txt\",\"negative\",\"negative\",\"negative\",\"pos_PF05802_full_EspB_60.txt\",\"negative\",\"pos_PF12261_full_T_hemolysin_327.txt\",\"negative\",\"negative\",\"negative\",\"pos_PF01117_full_Aerolysin_207.txt\",\"negative\",\"PF07367_full_FB_lectin_171.txt\",\"negative\",\"negative\",\"negative\",\"pos_PF03505_full_Clenterotox_9.txt\",\"negative\",\"negative\",\"negative\",\"negative\",\"pos_PF05105_seed_Phage_holin_4_1_131.txt\",\"negative\",\"negative\",\"pos_PF06355_full_Aegerolysin_308.txt\",\"PF00087_full_Toxin_TOLIP_333.txt\",\"PF01289_full_Thiol_cytolysin_243.txt\",\"negative\",\"negative\",\"pos_PF03318_full_ETX_MTX2_440.txt\",\"pos_PF05105_seed_Phage_holin_4_1_131.txt\",\"pos_PF11393_full_T4BSS_DotI_IcmL_214.txt\",\"negative\",\"negative\",\"pos_PF01823_rp15_MACPF_659.txt\",\"negative\",\"negative\",\"pos_PF12261_full_T_hemolysin_327.txt\",\"PF04598_rp15_Gasdermin_62.txt\",\"pos_PF04877_full_Harpin_35.txt\",\"negative\",\"pos_PF01823_rp15_MACPF_659.txt\",\"negative\",\"pos_PF03318_full_ETX_MTX2_440.txt\",\"PF00087_full_Toxin_TOLIP_333.txt\",\"pos_PF03945_full_Endotoxin_N_180.txt\",\"pos_PF12261_full_T_hemolysin_327.txt\",\"pos_PF05802_full_EspB_60.txt\",\"pos_PF12261_full_T_hemolysin_327.txt\",\"PF01289_full_Thiol_cytolysin_243.txt\",\"pos_PF03318_full_ETX_MTX2_440.txt\",\"pos_PF01823_rp15_MACPF_659.txt\",\"negative\",\"negative\",\"pos_PF01823_rp15_MACPF_659.txt\",\"pos_PF18063_full_BB_PF_52.txt\",\"PF00087_full_Toxin_TOLIP_333.txt\",\"PF11565_full_porB_30.txt\",\"negative\",\"negative\",\"negative\",\"negative\",\"negative\",\"negative\",\"negative\",\"pos_PF01117_full_Aerolysin_207.txt\",\"pos_PF06369_full_anemone_cytotox_363.txt\",\"pos_PF03944_seed_Endotoxin_C_80.txt\",\"pos_PF03945_full_Endotoxin_N_180.txt\",\"negative\",\"pos_PF06369_full_anemone_cytotox_363.txt\",\"PF07367_full_FB_lectin_171.txt\",\"pos_PF03318_full_ETX_MTX2_440.txt\",\"PF01289_full_Thiol_cytolysin_243.txt\",\"negative\",\"negative\",\"pos_PF03945_full_Endotoxin_N_180.txt\",\"negative\",\"pos_PF01117_full_Aerolysin_207.txt\",\"pos_PF01823_rp15_MACPF_659.txt\",\"negative\",\"negative\",\"negative\",\"pos_PF04877_full_Harpin_35.txt\",\"pos_PF01823_rp15_MACPF_659.txt\",\"negative\",\"negative\",\"negative\",\"pos_PF06109_full_HlyE_62.txt\",\"negative\",\"negative\",\"negative\",\"negative\",\"pos_PF12261_full_T_hemolysin_327.txt\",\"negative\",\"negative\",\"negative\",\"pos_PF05105_seed_Phage_holin_4_1_131.txt\",\"pos_PF01823_rp15_MACPF_659.txt\",\"negative\",\"negative\",\"pos_PF12261_full_T_hemolysin_327.txt\",\"negative\",\"negative\",\"negative\",\"pos_PF03944_seed_Endotoxin_C_80.txt\",\"pos_PF01823_rp15_MACPF_659.txt\",\"pos_PF06355_full_Aegerolysin_308.txt\",\"pos_PF00555_seed_Endotoxin_M_36.txt\",\"pos_PF11393_full_T4BSS_DotI_IcmL_214.txt\",\"negative\",\"pos_PF03944_seed_Endotoxin_C_80.txt\",\"negative\",\"pos_PF12261_full_T_hemolysin_327.txt\",\"negative\",\"negative\",\"negative\",\"PF02382_full_RTX_14.txt\",\"negative\",\"negative\",\"negative\",\"negative\",\"pos_PF01338_full_Bac_thur_toxin_87.txt\",\"negative\",\"negative\",\"pos_PF12563_full_Hemolysin_N_12.txt\",\"negative\",\"pos_PF18063_full_BB_PF_52.txt\",\"negative\",\"pos_PF01117_full_Aerolysin_207.txt\",\"negative\",\"negative\",\"negative\",\"negative\",\"pos_PF05105_seed_Phage_holin_4_1_131.txt\",\"pos_PF01823_rp15_MACPF_659.txt\",\"PF07367_full_FB_lectin_171.txt\",\"PF01289_full_Thiol_cytolysin_243.txt\",\"negative\",\"negative\",\"pos_PF04877_full_Harpin_35.txt\",\"pos_PF01823_rp15_MACPF_659.txt\",\"pos_PF03318_full_ETX_MTX2_440.txt\",\"negative\",\"negative\",\"negative\",\"pos_PF12261_full_T_hemolysin_327.txt\",\"negative\",\"negative\",\"negative\",\"pos_PF03318_full_ETX_MTX2_440.txt\",\"negative\",\"negative\",\"pos_PF12261_full_T_hemolysin_327.txt\",\"negative\",\"negative\",\"pos_PF01823_rp15_MACPF_659.txt\",\"PF01289_full_Thiol_cytolysin_243.txt\",\"pos_PF01117_full_Aerolysin_207.txt\",\"negative\",\"pos_PF01823_rp15_MACPF_659.txt\",\"pos_PF12920_full_TcdA_TcdB_pore_46.txt\",\"pos_PF03945_full_Endotoxin_N_180.txt\",\"pos_PF01823_rp15_MACPF_659.txt\",\"negative\",\"negative\",\"negative\",\"negative\",\"pos_PF01823_rp15_MACPF_659.txt\",\"pos_PF03945_full_Endotoxin_N_180.txt\",\"negative\",\"negative\",\"pos_PF01117_full_Aerolysin_207.txt\",\"pos_PF17475_full_Binary_toxB_2_16.txt\",\"PF01289_full_Thiol_cytolysin_243.txt\",\"negative\",\"pos_PF07968_full_Leukocidin_89.txt\",\"pos_PF12261_full_T_hemolysin_327.txt\",\"negative\",\"pos_PF01823_rp15_MACPF_659.txt\",\"PF01289_full_Thiol_cytolysin_243.txt\",\"negative\",\"negative\",\"pos_PF05105_seed_Phage_holin_4_1_131.txt\",\"pos_PF06369_full_anemone_cytotox_363.txt\",\"pos_PF03318_full_ETX_MTX2_440.txt\",\"negative\",\"pos_PF03944_seed_Endotoxin_C_80.txt\",\"PF07367_full_FB_lectin_171.txt\",\"negative\",\"pos_PF03944_seed_Endotoxin_C_80.txt\",\"negative\",\"pos_PF12261_full_T_hemolysin_327.txt\",\"negative\",\"negative\",\"negative\",\"pos_PF01823_rp15_MACPF_659.txt\",\"pos_PF07968_full_Leukocidin_89.txt\",\"negative\",\"negative\",\"negative\",\"negative\",\"pos_PF05105_seed_Phage_holin_4_1_131.txt\",\"negative\",\"negative\",\"negative\",\"pos_PF00555_seed_Endotoxin_M_36.txt\",\"negative\",\"pos_PF01823_rp15_MACPF_659.txt\",\"negative\",\"negative\",\"pos_PF11393_full_T4BSS_DotI_IcmL_214.txt\",\"negative\",\"negative\",\"negative\",\"negative\",\"pos_PF01823_rp15_MACPF_659.txt\",\"negative\",\"pos_PF03318_full_ETX_MTX2_440.txt\",\"negative\",\"PF01289_full_Thiol_cytolysin_243.txt\",\"negative\",\"pos_PF01117_full_Aerolysin_207.txt\",\"negative\",\"negative\",\"pos_PF01823_rp15_MACPF_659.txt\",\"negative\",\"negative\",\"pos_PF06109_full_HlyE_62.txt\",\"negative\",\"negative\",\"negative\",\"negative\",\"pos_PF03318_full_ETX_MTX2_440.txt\",\"negative\",\"pos_PF06369_full_anemone_cytotox_363.txt\",\"negative\",\"negative\",\"pos_PF06369_full_anemone_cytotox_363.txt\",\"pos_PF12261_full_T_hemolysin_327.txt\",\"pos_PF12261_full_T_hemolysin_327.txt\",\"negative\",\"negative\",\"pos_PF03945_full_Endotoxin_N_180.txt\",\"negative\",\"negative\",\"negative\",\"negative\",\"negative\",\"negative\",\"negative\",\"pos_PF03944_seed_Endotoxin_C_80.txt\",\"negative\",\"pos_PF03945_full_Endotoxin_N_180.txt\",\"pos_PF01338_full_Bac_thur_toxin_87.txt\",\"negative\",\"negative\",\"negative\",\"negative\",\"negative\",\"negative\",\"negative\",\"pos_PF01117_full_Aerolysin_207.txt\",\"negative\",\"pos_PF12261_full_T_hemolysin_327.txt\",\"negative\",\"pos_PF03945_full_Endotoxin_N_180.txt\",\"pos_PF12920_full_TcdA_TcdB_pore_46.txt\",\"pos_PF03318_full_ETX_MTX2_440.txt\",\"pos_PF18063_full_BB_PF_52.txt\",\"pos_PF06369_full_anemone_cytotox_363.txt\",\"negative\",\"negative\",\"negative\",\"negative\",\"pos_PF03945_full_Endotoxin_N_180.txt\",\"negative\",\"pos_PF01338_full_Bac_thur_toxin_87.txt\",\"pos_PF11393_full_T4BSS_DotI_IcmL_214.txt\",\"negative\",\"PF11565_full_porB_30.txt\",\"negative\",\"pos_PF18063_full_BB_PF_52.txt\",\"negative\",\"PF01289_full_Thiol_cytolysin_243.txt\",\"negative\",\"negative\",\"negative\",\"negative\",\"PF02382_full_RTX_14.txt\",\"pos_PF06369_full_anemone_cytotox_363.txt\",\"pos_PF06369_full_anemone_cytotox_363.txt\",\"negative\",\"pos_PF03318_full_ETX_MTX2_440.txt\",\"pos_PF12261_full_T_hemolysin_327.txt\",\"negative\",\"pos_PF06369_full_anemone_cytotox_363.txt\",\"pos_PF01823_rp15_MACPF_659.txt\",\"pos_PF01117_full_Aerolysin_207.txt\",\"negative\",\"negative\",\"negative\",\"pos_PF06369_full_anemone_cytotox_363.txt\",\"pos_PF12261_full_T_hemolysin_327.txt\",\"pos_PF06369_full_anemone_cytotox_363.txt\",\"pos_PF05802_full_EspB_60.txt\",\"pos_PF11393_full_T4BSS_DotI_IcmL_214.txt\",\"PF01289_full_Thiol_cytolysin_243.txt\",\"negative\",\"negative\",\"negative\",\"negative\",\"pos_PF05802_full_EspB_60.txt\",\"negative\",\"negative\",\"pos_PF01823_rp15_MACPF_659.txt\",\"negative\",\"negative\",\"negative\",\"PF01289_full_Thiol_cytolysin_243.txt\",\"negative\",\"negative\",\"pos_PF03945_full_Endotoxin_N_180.txt\",\"negative\",\"pos_PF06109_full_HlyE_62.txt\",\"negative\",\"pos_PF06355_full_Aegerolysin_308.txt\",\"pos_PF03945_full_Endotoxin_N_180.txt\",\"negative\",\"pos_PF03318_full_ETX_MTX2_440.txt\",\"pos_PF03945_full_Endotoxin_N_180.txt\",\"pos_PF05802_full_EspB_60.txt\",\"negative\",\"pos_PF06355_full_Aegerolysin_308.txt\",\"pos_PF06355_full_Aegerolysin_308.txt\",\"negative\",\"pos_PF05105_seed_Phage_holin_4_1_131.txt\",\"pos_PF06369_full_anemone_cytotox_363.txt\",\"negative\",\"PF01289_full_Thiol_cytolysin_243.txt\",\"negative\",\"negative\",\"negative\",\"pos_PF12261_full_T_hemolysin_327.txt\",\"negative\",\"negative\",\"pos_PF03318_full_ETX_MTX2_440.txt\",\"negative\",\"pos_PF03318_full_ETX_MTX2_440.txt\",\"PF01289_full_Thiol_cytolysin_243.txt\",\"negative\",\"pos_PF01823_rp15_MACPF_659.txt\",\"pos_PF07968_full_Leukocidin_89.txt\",\"negative\",\"negative\",\"negative\",\"negative\",\"negative\",\"PF01289_full_Thiol_cytolysin_243.txt\",\"negative\",\"pos_PF12261_full_T_hemolysin_327.txt\",\"pos_PF01823_rp15_MACPF_659.txt\",\"pos_PF03318_full_ETX_MTX2_440.txt\",\"pos_PF05105_seed_Phage_holin_4_1_131.txt\",\"negative\",\"negative\",\"pos_PF01823_rp15_MACPF_659.txt\",\"pos_PF01823_rp15_MACPF_659.txt\",\"pos_PF11393_full_T4BSS_DotI_IcmL_214.txt\",\"negative\",\"pos_PF01823_rp15_MACPF_659.txt\",\"pos_PF05802_full_EspB_60.txt\",\"negative\",\"PF04598_rp15_Gasdermin_62.txt\",\"negative\",\"pos_PF05105_seed_Phage_holin_4_1_131.txt\",\"pos_PF11393_full_T4BSS_DotI_IcmL_214.txt\",\"negative\",\"negative\",\"negative\",\"negative\",\"negative\",\"negative\",\"pos_PF06369_full_anemone_cytotox_363.txt\",\"negative\",\"negative\",\"negative\",\"pos_PF01823_rp15_MACPF_659.txt\",\"pos_PF11393_full_T4BSS_DotI_IcmL_214.txt\",\"pos_PF01823_rp15_MACPF_659.txt\",\"negative\",\"pos_PF03945_full_Endotoxin_N_180.txt\",\"negative\",\"negative\",\"PF04598_rp15_Gasdermin_62.txt\",\"pos_PF12261_full_T_hemolysin_327.txt\",\"negative\",\"negative\",\"pos_PF00555_seed_Endotoxin_M_36.txt\",\"negative\",\"pos_PF06369_full_anemone_cytotox_363.txt\",\"pos_PF01823_rp15_MACPF_659.txt\",\"negative\",\"pos_PF03945_full_Endotoxin_N_180.txt\",\"negative\",\"negative\",\"pos_PF11393_full_T4BSS_DotI_IcmL_214.txt\",\"negative\",\"PF01289_full_Thiol_cytolysin_243.txt\",\"PF00087_full_Toxin_TOLIP_333.txt\",\"negative\",\"pos_PF11393_full_T4BSS_DotI_IcmL_214.txt\",\"pos_PF06355_full_Aegerolysin_308.txt\",\"pos_PF11393_full_T4BSS_DotI_IcmL_214.txt\",\"PF00087_full_Toxin_TOLIP_333.txt\",\"pos_PF05105_seed_Phage_holin_4_1_131.txt\",\"pos_PF05105_seed_Phage_holin_4_1_131.txt\",\"negative\",\"negative\",\"pos_PF01117_full_Aerolysin_207.txt\",\"pos_PF06369_full_anemone_cytotox_363.txt\",\"negative\",\"pos_PF01823_rp15_MACPF_659.txt\",\"negative\",\"negative\",\"pos_PF03944_seed_Endotoxin_C_80.txt\",\"negative\",\"pos_PF01823_rp15_MACPF_659.txt\",\"pos_PF01823_rp15_MACPF_659.txt\",\"negative\",\"negative\",\"pos_PF03318_full_ETX_MTX2_440.txt\",\"pos_PF05105_seed_Phage_holin_4_1_131.txt\",\"pos_PF12261_full_T_hemolysin_327.txt\",\"negative\",\"pos_PF03318_full_ETX_MTX2_440.txt\",\"negative\",\"PF07367_full_FB_lectin_171.txt\",\"pos_PF05105_seed_Phage_holin_4_1_131.txt\",\"negative\",\"negative\",\"negative\",\"pos_PF06355_full_Aegerolysin_308.txt\",\"pos_PF03318_full_ETX_MTX2_440.txt\",\"PF01289_full_Thiol_cytolysin_243.txt\",\"negative\",\"negative\",\"negative\",\"negative\",\"negative\",\"negative\",\"negative\",\"negative\",\"negative\",\"negative\",\"negative\",\"pos_PF01024_full_Colicin_26.txt\",\"pos_PF12563_full_Hemolysin_N_12.txt\",\"negative\",\"negative\",\"pos_PF06355_full_Aegerolysin_308.txt\",\"pos_PF01823_rp15_MACPF_659.txt\",\"negative\",\"pos_PF01338_full_Bac_thur_toxin_87.txt\",\"pos_PF01823_rp15_MACPF_659.txt\",\"negative\",\"pos_PF12261_full_T_hemolysin_327.txt\",\"pos_PF06355_full_Aegerolysin_308.txt\",\"pos_PF03318_full_ETX_MTX2_440.txt\",\"negative\",\"pos_PF11393_full_T4BSS_DotI_IcmL_214.txt\",\"negative\",\"PF07367_full_FB_lectin_171.txt\",\"negative\",\"pos_PF12261_full_T_hemolysin_327.txt\",\"negative\",\"PF01289_full_Thiol_cytolysin_243.txt\",\"pos_PF06355_full_Aegerolysin_308.txt\",\"negative\",\"negative\",\"pos_PF06369_full_anemone_cytotox_363.txt\",\"negative\",\"negative\",\"pos_PF01117_full_Aerolysin_207.txt\",\"negative\",\"pos_PF01823_rp15_MACPF_659.txt\",\"negative\",\"pos_PF03318_full_ETX_MTX2_440.txt\",\"pos_PF01823_rp15_MACPF_659.txt\",\"negative\",\"pos_PF12261_full_T_hemolysin_327.txt\",\"negative\",\"negative\",\"pos_PF03944_seed_Endotoxin_C_80.txt\",\"pos_PF18063_full_BB_PF_52.txt\",\"pos_PF03318_full_ETX_MTX2_440.txt\",\"negative\",\"negative\",\"negative\",\"pos_PF06355_full_Aegerolysin_308.txt\",\"negative\",\"negative\",\"negative\",\"negative\",\"negative\",\"negative\",\"negative\",\"negative\",\"pos_PF03944_seed_Endotoxin_C_80.txt\",\"pos_PF06355_full_Aegerolysin_308.txt\",\"negative\",\"pos_PF03318_full_ETX_MTX2_440.txt\",\"pos_PF06355_full_Aegerolysin_308.txt\",\"negative\",\"negative\",\"negative\",\"negative\",\"pos_PF03318_full_ETX_MTX2_440.txt\",\"negative\",\"negative\",\"negative\",\"pos_PF03318_full_ETX_MTX2_440.txt\",\"pos_PF01024_full_Colicin_26.txt\",\"negative\",\"pos_PF05105_seed_Phage_holin_4_1_131.txt\",\"negative\",\"pos_PF01823_rp15_MACPF_659.txt\",\"negative\",\"pos_PF03944_seed_Endotoxin_C_80.txt\",\"negative\",\"negative\",\"pos_PF06355_full_Aegerolysin_308.txt\",\"negative\",\"pos_PF01338_full_Bac_thur_toxin_87.txt\",\"negative\",\"negative\",\"negative\",\"negative\",\"negative\",\"pos_PF01823_rp15_MACPF_659.txt\",\"pos_PF01117_full_Aerolysin_207.txt\",\"pos_PF03318_full_ETX_MTX2_440.txt\",\"negative\",\"pos_PF12261_full_T_hemolysin_327.txt\",\"negative\",\"pos_PF12261_full_T_hemolysin_327.txt\",\"pos_PF05802_full_EspB_60.txt\",\"pos_PF06355_full_Aegerolysin_308.txt\",\"negative\",\"negative\",\"negative\",\"negative\",\"negative\",\"negative\",\"pos_PF07968_full_Leukocidin_89.txt\",\"negative\",\"pos_PF01117_full_Aerolysin_207.txt\",\"negative\",\"PF01289_full_Thiol_cytolysin_243.txt\",\"pos_PF05802_full_EspB_60.txt\",\"negative\",\"negative\",\"pos_PF18063_full_BB_PF_52.txt\",\"negative\",\"pos_PF01117_full_Aerolysin_207.txt\",\"negative\",\"negative\",\"negative\",\"negative\",\"negative\",\"pos_PF11393_full_T4BSS_DotI_IcmL_214.txt\",\"pos_PF05802_full_EspB_60.txt\",\"pos_PF01117_full_Aerolysin_207.txt\",\"pos_PF04877_full_Harpin_35.txt\",\"negative\",\"negative\",\"negative\",\"pos_PF01823_rp15_MACPF_659.txt\",\"pos_PF01823_rp15_MACPF_659.txt\",\"negative\",\"negative\",\"negative\",\"pos_PF03318_full_ETX_MTX2_440.txt\",\"pos_PF01117_full_Aerolysin_207.txt\",\"negative\",\"PF07367_full_FB_lectin_171.txt\",\"pos_PF12261_full_T_hemolysin_327.txt\",\"negative\",\"negative\",\"negative\",\"pos_PF01823_rp15_MACPF_659.txt\",\"negative\",\"negative\",\"pos_PF12261_full_T_hemolysin_327.txt\",\"pos_PF01823_rp15_MACPF_659.txt\",\"negative\",\"pos_PF03318_full_ETX_MTX2_440.txt\",\"negative\",\"negative\",\"negative\",\"negative\",\"negative\",\"negative\",\"pos_PF01117_full_Aerolysin_207.txt\",\"negative\",\"pos_PF01338_full_Bac_thur_toxin_87.txt\",\"negative\",\"pos_PF00555_seed_Endotoxin_M_36.txt\",\"negative\",\"negative\",\"negative\",\"negative\",\"negative\",\"pos_PF12261_full_T_hemolysin_327.txt\",\"negative\",\"negative\",\"negative\",\"pos_PF01823_rp15_MACPF_659.txt\",\"PF01289_full_Thiol_cytolysin_243.txt\",\"PF07367_full_FB_lectin_171.txt\",\"PF11565_full_porB_30.txt\",\"negative\",\"negative\",\"negative\",\"negative\",\"PF01289_full_Thiol_cytolysin_243.txt\",\"pos_PF03318_full_ETX_MTX2_440.txt\",\"pos_PF06355_full_Aegerolysin_308.txt\",\"negative\",\"pos_PF03945_full_Endotoxin_N_180.txt\",\"negative\",\"negative\",\"negative\",\"negative\",\"pos_PF01823_rp15_MACPF_659.txt\",\"negative\",\"negative\",\"negative\",\"negative\",\"pos_PF03318_full_ETX_MTX2_440.txt\",\"negative\",\"negative\",\"pos_PF01823_rp15_MACPF_659.txt\",\"pos_PF01338_full_Bac_thur_toxin_87.txt\",\"negative\",\"pos_PF01117_full_Aerolysin_207.txt\",\"negative\",\"PF01289_full_Thiol_cytolysin_243.txt\",\"negative\",\"negative\",\"negative\",\"pos_PF01117_full_Aerolysin_207.txt\",\"negative\",\"pos_PF04877_full_Harpin_35.txt\",\"negative\",\"negative\",\"negative\",\"pos_PF12920_full_TcdA_TcdB_pore_46.txt\",\"pos_PF04877_full_Harpin_35.txt\",\"PF07367_full_FB_lectin_171.txt\",\"pos_PF03944_seed_Endotoxin_C_80.txt\",\"negative\",\"negative\",\"negative\",\"pos_PF06109_full_HlyE_62.txt\",\"negative\",\"pos_PF03945_full_Endotoxin_N_180.txt\",\"pos_PF06355_full_Aegerolysin_308.txt\",\"pos_PF18063_full_BB_PF_52.txt\",\"PF00087_full_Toxin_TOLIP_333.txt\",\"pos_PF01823_rp15_MACPF_659.txt\",\"negative\",\"negative\",\"negative\",\"negative\",\"pos_PF01117_full_Aerolysin_207.txt\",\"negative\",\"negative\",\"negative\",\"PF01289_full_Thiol_cytolysin_243.txt\",\"negative\",\"negative\",\"pos_PF03318_full_ETX_MTX2_440.txt\",\"negative\",\"pos_PF03318_full_ETX_MTX2_440.txt\",\"negative\",\"PF11565_full_porB_30.txt\",\"pos_PF07968_full_Leukocidin_89.txt\",\"pos_PF07968_full_Leukocidin_89.txt\",\"pos_PF12261_full_T_hemolysin_327.txt\",\"negative\",\"negative\",\"pos_PF01823_rp15_MACPF_659.txt\",\"pos_PF03944_seed_Endotoxin_C_80.txt\",\"negative\",\"pos_PF05105_seed_Phage_holin_4_1_131.txt\",\"pos_PF01823_rp15_MACPF_659.txt\",\"negative\",\"pos_PF05802_full_EspB_60.txt\",\"negative\",\"negative\",\"pos_PF01823_rp15_MACPF_659.txt\",\"negative\",\"pos_PF01823_rp15_MACPF_659.txt\",\"pos_PF03318_full_ETX_MTX2_440.txt\",\"negative\",\"pos_PF06355_full_Aegerolysin_308.txt\",\"negative\",\"pos_PF01823_rp15_MACPF_659.txt\",\"pos_PF03318_full_ETX_MTX2_440.txt\",\"negative\",\"pos_PF06369_full_anemone_cytotox_363.txt\",\"negative\",\"negative\",\"negative\",\"negative\",\"negative\",\"negative\",\"negative\",\"pos_PF06355_full_Aegerolysin_308.txt\",\"negative\",\"negative\",\"pos_PF06355_full_Aegerolysin_308.txt\",\"PF04598_rp15_Gasdermin_62.txt\",\"negative\",\"negative\",\"pos_PF03945_full_Endotoxin_N_180.txt\",\"pos_PF12261_full_T_hemolysin_327.txt\",\"negative\",\"negative\",\"pos_PF01823_rp15_MACPF_659.txt\",\"pos_PF03318_full_ETX_MTX2_440.txt\",\"pos_PF05105_seed_Phage_holin_4_1_131.txt\",\"negative\",\"pos_PF06109_full_HlyE_62.txt\",\"pos_PF11393_full_T4BSS_DotI_IcmL_214.txt\",\"PF01289_full_Thiol_cytolysin_243.txt\",\"negative\",\"pos_PF01823_rp15_MACPF_659.txt\",\"negative\",\"pos_PF01338_full_Bac_thur_toxin_87.txt\",\"negative\",\"negative\",\"negative\",\"negative\",\"PF04598_rp15_Gasdermin_62.txt\",\"negative\",\"pos_PF03945_full_Endotoxin_N_180.txt\",\"negative\",\"pos_PF06355_full_Aegerolysin_308.txt\",\"negative\",\"negative\",\"negative\",\"negative\",\"negative\",\"PF00087_full_Toxin_TOLIP_333.txt\",\"negative\",\"negative\",\"pos_PF01823_rp15_MACPF_659.txt\",\"negative\",\"negative\",\"negative\",\"negative\",\"negative\",\"negative\",\"negative\",\"negative\",\"negative\",\"pos_PF03318_full_ETX_MTX2_440.txt\",\"pos_PF06355_full_Aegerolysin_308.txt\",\"negative\",\"negative\",\"negative\",\"PF07367_full_FB_lectin_171.txt\",\"negative\",\"negative\",\"pos_PF06369_full_anemone_cytotox_363.txt\",\"negative\",\"negative\",\"PF01289_full_Thiol_cytolysin_243.txt\",\"pos_PF03318_full_ETX_MTX2_440.txt\",\"pos_PF03318_full_ETX_MTX2_440.txt\",\"pos_PF03318_full_ETX_MTX2_440.txt\",\"negative\",\"negative\",\"negative\",\"pos_PF03318_full_ETX_MTX2_440.txt\",\"negative\",\"negative\",\"pos_PF03318_full_ETX_MTX2_440.txt\",\"PF07367_full_FB_lectin_171.txt\",\"pos_PF12261_full_T_hemolysin_327.txt\",\"PF01289_full_Thiol_cytolysin_243.txt\",\"pos_PF01024_full_Colicin_26.txt\",\"negative\",\"negative\",\"pos_PF11393_full_T4BSS_DotI_IcmL_214.txt\",\"negative\",\"negative\",\"PF07367_full_FB_lectin_171.txt\",\"negative\",\"negative\",\"pos_PF05105_seed_Phage_holin_4_1_131.txt\",\"negative\",\"pos_PF18063_full_BB_PF_52.txt\",\"negative\",\"pos_PF06355_full_Aegerolysin_308.txt\",\"negative\",\"negative\",\"negative\",\"negative\",\"negative\",\"pos_PF12261_full_T_hemolysin_327.txt\",\"pos_PF12261_full_T_hemolysin_327.txt\",\"negative\",\"pos_PF06355_full_Aegerolysin_308.txt\",\"negative\",\"negative\",\"negative\",\"negative\",\"negative\",\"PF07367_full_FB_lectin_171.txt\",\"negative\",\"pos_PF18063_full_BB_PF_52.txt\",\"pos_PF12261_full_T_hemolysin_327.txt\",\"pos_PF11393_full_T4BSS_DotI_IcmL_214.txt\",\"negative\",\"negative\",\"negative\",\"negative\",\"negative\",\"pos_PF03318_full_ETX_MTX2_440.txt\",\"negative\",\"PF01289_full_Thiol_cytolysin_243.txt\",\"negative\",\"negative\",\"pos_PF12261_full_T_hemolysin_327.txt\",\"negative\",\"negative\",\"negative\",\"pos_PF11393_full_T4BSS_DotI_IcmL_214.txt\",\"PF00087_full_Toxin_TOLIP_333.txt\",\"negative\",\"pos_PF01338_full_Bac_thur_toxin_87.txt\",\"PF01289_full_Thiol_cytolysin_243.txt\",\"negative\",\"negative\",\"PF01289_full_Thiol_cytolysin_243.txt\",\"negative\",\"negative\",\"negative\",\"negative\",\"negative\",\"negative\",\"negative\",\"negative\",\"negative\",\"negative\",\"negative\",\"negative\",\"pos_PF12261_full_T_hemolysin_327.txt\",\"negative\",\"negative\",\"pos_PF01823_rp15_MACPF_659.txt\",\"pos_PF06355_full_Aegerolysin_308.txt\",\"negative\",\"pos_PF01024_full_Colicin_26.txt\",\"PF01289_full_Thiol_cytolysin_243.txt\",\"negative\",\"pos_PF03945_full_Endotoxin_N_180.txt\",\"negative\",\"PF00087_full_Toxin_TOLIP_333.txt\",\"negative\",\"negative\",\"pos_PF03318_full_ETX_MTX2_440.txt\",\"pos_PF01823_rp15_MACPF_659.txt\",\"PF01289_full_Thiol_cytolysin_243.txt\",\"pos_PF01338_full_Bac_thur_toxin_87.txt\",\"negative\",\"negative\",\"negative\",\"negative\",\"PF07367_full_FB_lectin_171.txt\",\"PF07367_full_FB_lectin_171.txt\",\"negative\",\"PF07367_full_FB_lectin_171.txt\",\"negative\",\"negative\",\"pos_PF17475_full_Binary_toxB_2_16.txt\",\"negative\",\"PF00087_full_Toxin_TOLIP_333.txt\",\"pos_PF05802_full_EspB_60.txt\",\"negative\",\"negative\",\"negative\",\"pos_PF03945_full_Endotoxin_N_180.txt\",\"negative\",\"negative\",\"pos_PF12261_full_T_hemolysin_327.txt\",\"negative\",\"PF07367_full_FB_lectin_171.txt\",\"pos_PF05802_full_EspB_60.txt\",\"negative\",\"pos_PF06355_full_Aegerolysin_308.txt\",\"pos_PF03944_seed_Endotoxin_C_80.txt\",\"pos_PF01024_full_Colicin_26.txt\",\"pos_PF03318_full_ETX_MTX2_440.txt\",\"negative\",\"pos_PF01823_rp15_MACPF_659.txt\",\"negative\",\"pos_PF03318_full_ETX_MTX2_440.txt\",\"negative\",\"pos_PF11393_full_T4BSS_DotI_IcmL_214.txt\",\"negative\",\"pos_PF01823_rp15_MACPF_659.txt\",\"negative\",\"pos_PF06355_full_Aegerolysin_308.txt\",\"pos_PF06355_full_Aegerolysin_308.txt\",\"negative\",\"negative\",\"pos_PF03944_seed_Endotoxin_C_80.txt\",\"pos_PF06355_full_Aegerolysin_308.txt\",\"pos_PF12261_full_T_hemolysin_327.txt\",\"negative\",\"pos_PF07968_full_Leukocidin_89.txt\",\"pos_PF12261_full_T_hemolysin_327.txt\",\"PF07367_full_FB_lectin_171.txt\",\"negative\",\"pos_PF12261_full_T_hemolysin_327.txt\",\"negative\",\"negative\",\"negative\",\"negative\",\"pos_PF12261_full_T_hemolysin_327.txt\",\"pos_PF01823_rp15_MACPF_659.txt\",\"PF11565_full_porB_30.txt\",\"pos_PF01823_rp15_MACPF_659.txt\",\"negative\",\"negative\",\"negative\",\"pos_PF01823_rp15_MACPF_659.txt\",\"negative\",\"negative\",\"pos_PF00555_seed_Endotoxin_M_36.txt\",\"negative\",\"negative\",\"negative\",\"pos_PF01823_rp15_MACPF_659.txt\",\"pos_PF01338_full_Bac_thur_toxin_87.txt\",\"pos_PF01117_full_Aerolysin_207.txt\",\"pos_PF01823_rp15_MACPF_659.txt\",\"negative\",\"negative\",\"negative\",\"negative\",\"negative\",\"pos_PF12261_full_T_hemolysin_327.txt\",\"pos_PF01823_rp15_MACPF_659.txt\",\"negative\",\"pos_PF12920_full_TcdA_TcdB_pore_46.txt\",\"negative\",\"negative\",\"negative\",\"negative\",\"pos_PF01823_rp15_MACPF_659.txt\",\"negative\",\"negative\",\"negative\",\"negative\",\"negative\",\"pos_PF06355_full_Aegerolysin_308.txt\",\"negative\",\"negative\",\"pos_PF01823_rp15_MACPF_659.txt\",\"negative\",\"pos_PF01823_rp15_MACPF_659.txt\",\"pos_PF06355_full_Aegerolysin_308.txt\",\"PF00087_full_Toxin_TOLIP_333.txt\",\"negative\",\"negative\",\"PF07367_full_FB_lectin_171.txt\",\"negative\",\"negative\",\"pos_PF01823_rp15_MACPF_659.txt\",\"pos_PF11393_full_T4BSS_DotI_IcmL_214.txt\",\"negative\",\"negative\",\"PF07367_full_FB_lectin_171.txt\",\"negative\",\"negative\",\"negative\",\"negative\",\"pos_PF01823_rp15_MACPF_659.txt\",\"PF01289_full_Thiol_cytolysin_243.txt\",\"negative\",\"pos_PF12261_full_T_hemolysin_327.txt\",\"negative\",\"negative\",\"pos_PF06109_full_HlyE_62.txt\",\"PF00087_full_Toxin_TOLIP_333.txt\",\"negative\",\"PF01289_full_Thiol_cytolysin_243.txt\",\"PF07367_full_FB_lectin_171.txt\",\"negative\",\"pos_PF03945_full_Endotoxin_N_180.txt\",\"negative\",\"negative\",\"negative\",\"pos_PF03944_seed_Endotoxin_C_80.txt\",\"pos_PF12261_full_T_hemolysin_327.txt\",\"negative\",\"negative\",\"pos_PF01338_full_Bac_thur_toxin_87.txt\",\"negative\",\"pos_PF01823_rp15_MACPF_659.txt\",\"pos_PF06109_full_HlyE_62.txt\",\"pos_PF03944_seed_Endotoxin_C_80.txt\",\"negative\",\"PF00087_full_Toxin_TOLIP_333.txt\",\"pos_PF03318_full_ETX_MTX2_440.txt\",\"negative\",\"negative\",\"pos_PF03318_full_ETX_MTX2_440.txt\",\"negative\",\"negative\",\"pos_PF11393_full_T4BSS_DotI_IcmL_214.txt\",\"negative\",\"negative\",\"negative\",\"pos_PF01823_rp15_MACPF_659.txt\",\"negative\",\"PF01289_full_Thiol_cytolysin_243.txt\",\"negative\",\"negative\",\"negative\",\"negative\",\"negative\",\"negative\",\"negative\",\"negative\",\"negative\",\"negative\",\"negative\",\"PF00087_full_Toxin_TOLIP_333.txt\",\"negative\",\"pos_PF03318_full_ETX_MTX2_440.txt\",\"pos_PF01338_full_Bac_thur_toxin_87.txt\",\"negative\",\"negative\",\"negative\",\"pos_PF06355_full_Aegerolysin_308.txt\",\"negative\",\"negative\",\"negative\",\"negative\",\"negative\",\"pos_PF06369_full_anemone_cytotox_363.txt\",\"negative\",\"negative\",\"negative\",\"pos_PF03318_full_ETX_MTX2_440.txt\",\"negative\",\"negative\",\"pos_PF03318_full_ETX_MTX2_440.txt\",\"negative\",\"negative\",\"negative\",\"negative\",\"pos_PF11393_full_T4BSS_DotI_IcmL_214.txt\",\"negative\",\"negative\",\"pos_PF01823_rp15_MACPF_659.txt\",\"pos_PF01823_rp15_MACPF_659.txt\",\"pos_PF12261_full_T_hemolysin_327.txt\",\"negative\",\"negative\",\"pos_PF12261_full_T_hemolysin_327.txt\",\"pos_PF06355_full_Aegerolysin_308.txt\",\"negative\",\"negative\",\"pos_PF05105_seed_Phage_holin_4_1_131.txt\",\"negative\",\"negative\",\"pos_PF05802_full_EspB_60.txt\",\"negative\",\"negative\",\"pos_PF12261_full_T_hemolysin_327.txt\",\"pos_PF06355_full_Aegerolysin_308.txt\",\"PF01289_full_Thiol_cytolysin_243.txt\",\"pos_PF06369_full_anemone_cytotox_363.txt\",\"negative\",\"negative\",\"pos_PF01823_rp15_MACPF_659.txt\",\"pos_PF03945_full_Endotoxin_N_180.txt\",\"negative\",\"negative\",\"pos_PF01823_rp15_MACPF_659.txt\",\"pos_PF01338_full_Bac_thur_toxin_87.txt\",\"negative\",\"pos_PF03318_full_ETX_MTX2_440.txt\",\"negative\",\"negative\",\"negative\",\"pos_PF06369_full_anemone_cytotox_363.txt\",\"PF00087_full_Toxin_TOLIP_333.txt\",\"negative\",\"PF07367_full_FB_lectin_171.txt\",\"negative\",\"negative\",\"negative\",\"PF01289_full_Thiol_cytolysin_243.txt\",\"negative\",\"negative\",\"negative\",\"pos_PF05105_seed_Phage_holin_4_1_131.txt\",\"pos_PF01117_full_Aerolysin_207.txt\",\"negative\",\"negative\",\"pos_PF00555_seed_Endotoxin_M_36.txt\",\"negative\",\"pos_PF03945_full_Endotoxin_N_180.txt\",\"negative\",\"negative\",\"pos_PF01823_rp15_MACPF_659.txt\",\"pos_PF01823_rp15_MACPF_659.txt\",\"pos_PF17475_full_Binary_toxB_2_16.txt\",\"pos_PF06355_full_Aegerolysin_308.txt\",\"negative\",\"pos_PF01117_full_Aerolysin_207.txt\",\"pos_PF12563_full_Hemolysin_N_12.txt\",\"pos_PF11393_full_T4BSS_DotI_IcmL_214.txt\",\"negative\",\"negative\",\"pos_PF03318_full_ETX_MTX2_440.txt\",\"pos_PF03945_full_Endotoxin_N_180.txt\",\"negative\",\"negative\",\"PF00087_full_Toxin_TOLIP_333.txt\",\"pos_PF03318_full_ETX_MTX2_440.txt\",\"negative\",\"pos_PF06355_full_Aegerolysin_308.txt\",\"negative\",\"negative\",\"pos_PF12261_full_T_hemolysin_327.txt\",\"negative\",\"negative\",\"negative\",\"negative\",\"negative\",\"negative\",\"pos_PF05105_seed_Phage_holin_4_1_131.txt\",\"negative\",\"negative\",\"negative\",\"pos_PF03318_full_ETX_MTX2_440.txt\",\"negative\",\"PF00087_full_Toxin_TOLIP_333.txt\",\"negative\",\"negative\",\"pos_PF18063_full_BB_PF_52.txt\",\"negative\",\"negative\",\"negative\",\"negative\",\"negative\",\"pos_PF01823_rp15_MACPF_659.txt\",\"negative\",\"negative\",\"pos_PF06369_full_anemone_cytotox_363.txt\",\"pos_PF03945_full_Endotoxin_N_180.txt\",\"negative\",\"pos_PF04877_full_Harpin_35.txt\",\"pos_PF06355_full_Aegerolysin_308.txt\",\"negative\",\"pos_PF12261_full_T_hemolysin_327.txt\",\"negative\",\"negative\",\"negative\",\"pos_PF03318_full_ETX_MTX2_440.txt\",\"PF07367_full_FB_lectin_171.txt\",\"pos_PF12261_full_T_hemolysin_327.txt\",\"PF07367_full_FB_lectin_171.txt\",\"negative\",\"pos_PF06369_full_anemone_cytotox_363.txt\",\"negative\",\"negative\",\"pos_PF03318_full_ETX_MTX2_440.txt\",\"negative\",\"pos_PF03944_seed_Endotoxin_C_80.txt\",\"PF04598_rp15_Gasdermin_62.txt\",\"pos_PF05105_seed_Phage_holin_4_1_131.txt\",\"pos_PF03318_full_ETX_MTX2_440.txt\",\"negative\",\"pos_PF01823_rp15_MACPF_659.txt\",\"negative\",\"pos_PF03318_full_ETX_MTX2_440.txt\",\"negative\",\"pos_PF18063_full_BB_PF_52.txt\",\"negative\",\"negative\",\"negative\",\"negative\",\"negative\",\"negative\",\"negative\",\"negative\",\"pos_PF06369_full_anemone_cytotox_363.txt\",\"negative\",\"pos_PF07968_full_Leukocidin_89.txt\",\"pos_PF06369_full_anemone_cytotox_363.txt\",\"pos_PF07968_full_Leukocidin_89.txt\",\"PF01289_full_Thiol_cytolysin_243.txt\",\"negative\",\"pos_PF01823_rp15_MACPF_659.txt\",\"negative\",\"pos_PF01117_full_Aerolysin_207.txt\",\"negative\",\"pos_PF01117_full_Aerolysin_207.txt\",\"negative\",\"negative\",\"negative\",\"negative\",\"negative\",\"PF07367_full_FB_lectin_171.txt\",\"negative\",\"pos_PF12261_full_T_hemolysin_327.txt\",\"pos_PF03945_full_Endotoxin_N_180.txt\",\"pos_PF03945_full_Endotoxin_N_180.txt\",\"PF00087_full_Toxin_TOLIP_333.txt\",\"negative\",\"negative\",\"negative\",\"negative\",\"pos_PF03318_full_ETX_MTX2_440.txt\",\"negative\",\"negative\",\"pos_PF11393_full_T4BSS_DotI_IcmL_214.txt\",\"negative\",\"negative\",\"PF01289_full_Thiol_cytolysin_243.txt\",\"PF07367_full_FB_lectin_171.txt\",\"negative\",\"negative\",\"pos_PF11393_full_T4BSS_DotI_IcmL_214.txt\",\"pos_PF11393_full_T4BSS_DotI_IcmL_214.txt\",\"pos_PF06369_full_anemone_cytotox_363.txt\",\"pos_PF03318_full_ETX_MTX2_440.txt\",\"negative\",\"pos_PF11393_full_T4BSS_DotI_IcmL_214.txt\",\"pos_PF03318_full_ETX_MTX2_440.txt\",\"negative\",\"pos_PF01823_rp15_MACPF_659.txt\",\"negative\",\"negative\",\"pos_PF03318_full_ETX_MTX2_440.txt\",\"negative\",\"pos_PF03318_full_ETX_MTX2_440.txt\",\"negative\",\"negative\",\"negative\",\"pos_PF11393_full_T4BSS_DotI_IcmL_214.txt\",\"negative\",\"PF01289_full_Thiol_cytolysin_243.txt\",\"negative\",\"pos_PF12261_full_T_hemolysin_327.txt\",\"negative\",\"negative\",\"pos_PF03945_full_Endotoxin_N_180.txt\",\"negative\",\"pos_PF01823_rp15_MACPF_659.txt\",\"negative\",\"negative\",\"negative\",\"negative\",\"negative\",\"negative\",\"pos_PF07968_full_Leukocidin_89.txt\",\"negative\",\"pos_PF12920_full_TcdA_TcdB_pore_46.txt\",\"pos_PF01823_rp15_MACPF_659.txt\",\"PF01289_full_Thiol_cytolysin_243.txt\",\"pos_PF12261_full_T_hemolysin_327.txt\",\"pos_PF06355_full_Aegerolysin_308.txt\",\"pos_PF03318_full_ETX_MTX2_440.txt\",\"negative\",\"pos_PF11393_full_T4BSS_DotI_IcmL_214.txt\",\"negative\",\"pos_PF03318_full_ETX_MTX2_440.txt\",\"pos_PF06369_full_anemone_cytotox_363.txt\",\"pos_PF12261_full_T_hemolysin_327.txt\",\"pos_PF01823_rp15_MACPF_659.txt\",\"pos_PF01823_rp15_MACPF_659.txt\",\"pos_PF06369_full_anemone_cytotox_363.txt\",\"negative\",\"negative\",\"pos_PF12261_full_T_hemolysin_327.txt\",\"negative\",\"pos_PF04877_full_Harpin_35.txt\",\"pos_PF01117_full_Aerolysin_207.txt\",\"pos_PF03318_full_ETX_MTX2_440.txt\",\"pos_PF01823_rp15_MACPF_659.txt\",\"negative\",\"negative\",\"negative\",\"negative\",\"pos_PF12261_full_T_hemolysin_327.txt\",\"pos_PF00555_seed_Endotoxin_M_36.txt\",\"negative\",\"pos_PF12920_full_TcdA_TcdB_pore_46.txt\",\"negative\",\"pos_PF01823_rp15_MACPF_659.txt\",\"negative\",\"pos_PF01823_rp15_MACPF_659.txt\",\"pos_PF11393_full_T4BSS_DotI_IcmL_214.txt\",\"negative\",\"pos_PF01823_rp15_MACPF_659.txt\",\"PF11565_full_porB_30.txt\",\"negative\",\"pos_PF01823_rp15_MACPF_659.txt\",\"pos_PF03318_full_ETX_MTX2_440.txt\",\"pos_PF12261_full_T_hemolysin_327.txt\",\"negative\",\"negative\",\"PF01289_full_Thiol_cytolysin_243.txt\",\"negative\",\"negative\",\"negative\",\"PF04598_rp15_Gasdermin_62.txt\",\"negative\",\"negative\",\"pos_PF01823_rp15_MACPF_659.txt\",\"negative\",\"negative\",\"negative\",\"negative\",\"pos_PF11393_full_T4BSS_DotI_IcmL_214.txt\",\"pos_PF12261_full_T_hemolysin_327.txt\",\"negative\",\"negative\",\"pos_PF11393_full_T4BSS_DotI_IcmL_214.txt\",\"negative\",\"pos_PF03318_full_ETX_MTX2_440.txt\",\"pos_PF05105_seed_Phage_holin_4_1_131.txt\",\"pos_PF12261_full_T_hemolysin_327.txt\",\"negative\",\"pos_PF05105_seed_Phage_holin_4_1_131.txt\",\"negative\",\"pos_PF01117_full_Aerolysin_207.txt\",\"pos_PF01823_rp15_MACPF_659.txt\",\"negative\",\"pos_PF12261_full_T_hemolysin_327.txt\",\"negative\",\"negative\",\"pos_PF03945_full_Endotoxin_N_180.txt\",\"negative\",\"negative\",\"negative\",\"negative\",\"pos_PF04877_full_Harpin_35.txt\",\"negative\",\"negative\",\"pos_PF03318_full_ETX_MTX2_440.txt\",\"negative\",\"negative\",\"pos_PF01823_rp15_MACPF_659.txt\",\"pos_PF12261_full_T_hemolysin_327.txt\",\"negative\",\"negative\",\"negative\",\"pos_PF04877_full_Harpin_35.txt\",\"PF01289_full_Thiol_cytolysin_243.txt\",\"negative\",\"pos_PF06355_full_Aegerolysin_308.txt\",\"pos_PF06355_full_Aegerolysin_308.txt\",\"pos_PF07968_full_Leukocidin_89.txt\",\"negative\",\"negative\",\"negative\",\"pos_PF01823_rp15_MACPF_659.txt\",\"negative\",\"pos_PF06369_full_anemone_cytotox_363.txt\",\"pos_PF12261_full_T_hemolysin_327.txt\",\"pos_PF06355_full_Aegerolysin_308.txt\",\"pos_PF01823_rp15_MACPF_659.txt\",\"pos_PF03945_full_Endotoxin_N_180.txt\",\"pos_PF01823_rp15_MACPF_659.txt\",\"negative\",\"pos_PF03505_full_Clenterotox_9.txt\",\"pos_PF01823_rp15_MACPF_659.txt\",\"negative\",\"pos_PF06369_full_anemone_cytotox_363.txt\",\"negative\",\"negative\",\"pos_PF05105_seed_Phage_holin_4_1_131.txt\",\"pos_PF05105_seed_Phage_holin_4_1_131.txt\",\"pos_PF07968_full_Leukocidin_89.txt\",\"pos_PF03318_full_ETX_MTX2_440.txt\",\"negative\",\"negative\",\"pos_PF06369_full_anemone_cytotox_363.txt\",\"negative\",\"pos_PF12261_full_T_hemolysin_327.txt\",\"negative\",\"negative\",\"pos_PF12261_full_T_hemolysin_327.txt\",\"negative\",\"negative\",\"pos_PF01117_full_Aerolysin_207.txt\",\"pos_PF01823_rp15_MACPF_659.txt\",\"pos_PF07968_full_Leukocidin_89.txt\",\"negative\",\"pos_PF12261_full_T_hemolysin_327.txt\",\"pos_PF00555_seed_Endotoxin_M_36.txt\",\"negative\",\"pos_PF01823_rp15_MACPF_659.txt\",\"PF01289_full_Thiol_cytolysin_243.txt\",\"pos_PF01823_rp15_MACPF_659.txt\",\"pos_PF07968_full_Leukocidin_89.txt\",\"pos_PF00555_seed_Endotoxin_M_36.txt\",\"negative\",\"negative\",\"negative\",\"negative\",\"negative\",\"negative\",\"negative\",\"negative\",\"negative\",\"pos_PF01823_rp15_MACPF_659.txt\",\"negative\",\"negative\",\"negative\",\"pos_PF03945_full_Endotoxin_N_180.txt\",\"pos_PF04877_full_Harpin_35.txt\",\"pos_PF01338_full_Bac_thur_toxin_87.txt\",\"negative\",\"negative\",\"pos_PF11393_full_T4BSS_DotI_IcmL_214.txt\",\"pos_PF01823_rp15_MACPF_659.txt\",\"negative\",\"pos_PF01823_rp15_MACPF_659.txt\",\"pos_PF06355_full_Aegerolysin_308.txt\",\"pos_PF12261_full_T_hemolysin_327.txt\",\"negative\",\"pos_PF12261_full_T_hemolysin_327.txt\",\"pos_PF01338_full_Bac_thur_toxin_87.txt\",\"negative\",\"negative\",\"negative\",\"PF04598_rp15_Gasdermin_62.txt\",\"pos_PF03318_full_ETX_MTX2_440.txt\",\"negative\",\"negative\",\"pos_PF01823_rp15_MACPF_659.txt\",\"negative\",\"negative\",\"pos_PF06355_full_Aegerolysin_308.txt\",\"negative\",\"pos_PF06109_full_HlyE_62.txt\",\"negative\",\"negative\",\"negative\",\"pos_PF17475_full_Binary_toxB_2_16.txt\",\"negative\",\"negative\",\"pos_PF03318_full_ETX_MTX2_440.txt\",\"pos_PF03945_full_Endotoxin_N_180.txt\",\"pos_PF06109_full_HlyE_62.txt\",\"pos_PF18684_full_PlyB_C_8.txt\",\"pos_PF11393_full_T4BSS_DotI_IcmL_214.txt\",\"negative\",\"pos_PF12261_full_T_hemolysin_327.txt\",\"pos_PF01823_rp15_MACPF_659.txt\",\"negative\",\"pos_PF11393_full_T4BSS_DotI_IcmL_214.txt\",\"pos_PF03318_full_ETX_MTX2_440.txt\",\"negative\",\"negative\",\"negative\",\"negative\",\"negative\",\"pos_PF12920_full_TcdA_TcdB_pore_46.txt\",\"negative\",\"negative\",\"negative\",\"pos_PF11393_full_T4BSS_DotI_IcmL_214.txt\",\"negative\",\"pos_PF05105_seed_Phage_holin_4_1_131.txt\",\"pos_PF01823_rp15_MACPF_659.txt\",\"negative\",\"negative\",\"pos_PF11393_full_T4BSS_DotI_IcmL_214.txt\",\"pos_PF01823_rp15_MACPF_659.txt\",\"negative\",\"PF01289_full_Thiol_cytolysin_243.txt\",\"pos_PF06355_full_Aegerolysin_308.txt\",\"pos_PF01823_rp15_MACPF_659.txt\",\"negative\",\"negative\",\"negative\",\"negative\",\"negative\",\"pos_PF01117_full_Aerolysin_207.txt\",\"negative\",\"pos_PF06109_full_HlyE_62.txt\",\"pos_PF06369_full_anemone_cytotox_363.txt\",\"negative\",\"pos_PF12261_full_T_hemolysin_327.txt\",\"pos_PF12261_full_T_hemolysin_327.txt\",\"negative\",\"negative\",\"negative\",\"negative\",\"pos_PF07968_full_Leukocidin_89.txt\",\"negative\",\"PF01289_full_Thiol_cytolysin_243.txt\",\"negative\",\"negative\",\"negative\",\"pos_PF01823_rp15_MACPF_659.txt\",\"pos_PF06369_full_anemone_cytotox_363.txt\",\"pos_PF12261_full_T_hemolysin_327.txt\",\"negative\",\"PF01289_full_Thiol_cytolysin_243.txt\",\"pos_PF01117_full_Aerolysin_207.txt\",\"negative\",\"negative\",\"negative\",\"negative\",\"pos_PF12261_full_T_hemolysin_327.txt\",\"PF01289_full_Thiol_cytolysin_243.txt\",\"negative\",\"negative\",\"negative\",\"negative\",\"negative\",\"negative\",\"negative\",\"negative\",\"pos_PF07968_full_Leukocidin_89.txt\",\"negative\",\"negative\",\"negative\",\"negative\",\"pos_PF01823_rp15_MACPF_659.txt\",\"negative\",\"negative\",\"negative\",\"negative\",\"negative\",\"pos_PF01823_rp15_MACPF_659.txt\",\"negative\",\"pos_PF06369_full_anemone_cytotox_363.txt\",\"negative\",\"pos_PF03318_full_ETX_MTX2_440.txt\",\"negative\",\"pos_PF01823_rp15_MACPF_659.txt\",\"pos_PF12261_full_T_hemolysin_327.txt\",\"pos_PF01823_rp15_MACPF_659.txt\",\"negative\",\"negative\",\"negative\",\"pos_PF03318_full_ETX_MTX2_440.txt\",\"negative\",\"negative\",\"negative\",\"negative\",\"negative\",\"pos_PF12261_full_T_hemolysin_327.txt\",\"pos_PF01024_full_Colicin_26.txt\",\"negative\",\"negative\",\"pos_PF03945_full_Endotoxin_N_180.txt\",\"negative\",\"negative\",\"negative\",\"pos_PF03945_full_Endotoxin_N_180.txt\",\"negative\",\"PF01289_full_Thiol_cytolysin_243.txt\",\"pos_PF01823_rp15_MACPF_659.txt\",\"negative\",\"pos_PF12261_full_T_hemolysin_327.txt\",\"negative\",\"pos_PF01823_rp15_MACPF_659.txt\",\"negative\",\"negative\",\"PF00087_full_Toxin_TOLIP_333.txt\",\"pos_PF03318_full_ETX_MTX2_440.txt\",\"pos_PF00555_seed_Endotoxin_M_36.txt\",\"pos_PF01823_rp15_MACPF_659.txt\",\"pos_PF06369_full_anemone_cytotox_363.txt\",\"pos_PF12261_full_T_hemolysin_327.txt\",\"negative\",\"PF00087_full_Toxin_TOLIP_333.txt\",\"negative\",\"negative\",\"negative\",\"pos_PF01823_rp15_MACPF_659.txt\",\"pos_PF01823_rp15_MACPF_659.txt\",\"pos_PF12261_full_T_hemolysin_327.txt\",\"negative\",\"negative\",\"negative\",\"pos_PF12261_full_T_hemolysin_327.txt\",\"pos_PF03318_full_ETX_MTX2_440.txt\",\"negative\",\"negative\",\"PF01289_full_Thiol_cytolysin_243.txt\",\"negative\",\"negative\",\"negative\",\"pos_PF01117_full_Aerolysin_207.txt\",\"negative\",\"negative\",\"pos_PF03318_full_ETX_MTX2_440.txt\",\"negative\",\"pos_PF03944_seed_Endotoxin_C_80.txt\",\"pos_PF12261_full_T_hemolysin_327.txt\",\"negative\",\"negative\",\"negative\",\"pos_PF06369_full_anemone_cytotox_363.txt\",\"negative\",\"pos_PF01823_rp15_MACPF_659.txt\",\"negative\",\"negative\",\"negative\",\"negative\",\"negative\",\"negative\",\"PF00087_full_Toxin_TOLIP_333.txt\",\"pos_PF04877_full_Harpin_35.txt\",\"negative\",\"pos_PF06355_full_Aegerolysin_308.txt\",\"pos_PF05105_seed_Phage_holin_4_1_131.txt\",\"negative\",\"negative\",\"pos_PF18063_full_BB_PF_52.txt\",\"negative\",\"pos_PF01823_rp15_MACPF_659.txt\",\"negative\",\"pos_PF03318_full_ETX_MTX2_440.txt\",\"negative\",\"pos_PF03318_full_ETX_MTX2_440.txt\",\"negative\",\"pos_PF03945_full_Endotoxin_N_180.txt\",\"pos_PF01823_rp15_MACPF_659.txt\",\"negative\",\"pos_PF18063_full_BB_PF_52.txt\",\"negative\",\"negative\",\"negative\",\"PF04598_rp15_Gasdermin_62.txt\",\"pos_PF12261_full_T_hemolysin_327.txt\",\"pos_PF01823_rp15_MACPF_659.txt\",\"negative\",\"pos_PF03318_full_ETX_MTX2_440.txt\",\"negative\",\"negative\",\"negative\",\"negative\",\"negative\",\"negative\",\"negative\",\"negative\",\"negative\",\"pos_PF11393_full_T4BSS_DotI_IcmL_214.txt\",\"negative\",\"negative\",\"negative\",\"pos_PF03318_full_ETX_MTX2_440.txt\",\"pos_PF12261_full_T_hemolysin_327.txt\",\"negative\",\"negative\",\"negative\",\"negative\",\"negative\",\"pos_PF01117_full_Aerolysin_207.txt\",\"negative\",\"pos_PF01823_rp15_MACPF_659.txt\",\"negative\",\"negative\",\"negative\",\"negative\",\"pos_PF12261_full_T_hemolysin_327.txt\",\"negative\",\"negative\",\"pos_PF06355_full_Aegerolysin_308.txt\",\"negative\",\"negative\",\"negative\",\"pos_PF01338_full_Bac_thur_toxin_87.txt\",\"negative\",\"pos_PF01823_rp15_MACPF_659.txt\",\"negative\",\"negative\",\"negative\",\"PF01289_full_Thiol_cytolysin_243.txt\",\"pos_PF03945_full_Endotoxin_N_180.txt\",\"negative\",\"negative\",\"pos_PF06369_full_anemone_cytotox_363.txt\",\"negative\",\"pos_PF01024_full_Colicin_26.txt\",\"negative\",\"pos_PF03318_full_ETX_MTX2_440.txt\",\"pos_PF03944_seed_Endotoxin_C_80.txt\",\"negative\",\"negative\",\"negative\",\"negative\",\"pos_PF01823_rp15_MACPF_659.txt\",\"negative\",\"negative\",\"pos_PF05105_seed_Phage_holin_4_1_131.txt\",\"pos_PF03318_full_ETX_MTX2_440.txt\",\"negative\",\"negative\",\"pos_PF03945_full_Endotoxin_N_180.txt\",\"pos_PF06355_full_Aegerolysin_308.txt\",\"negative\",\"negative\",\"negative\",\"negative\",\"negative\",\"PF01289_full_Thiol_cytolysin_243.txt\",\"pos_PF05105_seed_Phage_holin_4_1_131.txt\",\"pos_PF07968_full_Leukocidin_89.txt\",\"PF04598_rp15_Gasdermin_62.txt\",\"negative\",\"negative\",\"pos_PF01823_rp15_MACPF_659.txt\",\"PF01289_full_Thiol_cytolysin_243.txt\",\"negative\",\"pos_PF06369_full_anemone_cytotox_363.txt\",\"negative\",\"negative\",\"negative\",\"negative\",\"pos_PF01117_full_Aerolysin_207.txt\",\"pos_PF18684_full_PlyB_C_8.txt\",\"PF07367_full_FB_lectin_171.txt\",\"negative\",\"negative\",\"pos_PF01338_full_Bac_thur_toxin_87.txt\",\"PF01289_full_Thiol_cytolysin_243.txt\",\"pos_PF01823_rp15_MACPF_659.txt\",\"negative\",\"pos_PF12261_full_T_hemolysin_327.txt\",\"pos_PF07968_full_Leukocidin_89.txt\",\"pos_PF05802_full_EspB_60.txt\",\"PF00087_full_Toxin_TOLIP_333.txt\",\"negative\",\"PF04598_rp15_Gasdermin_62.txt\",\"negative\",\"negative\",\"pos_PF03945_full_Endotoxin_N_180.txt\",\"negative\",\"negative\",\"negative\",\"pos_PF03318_full_ETX_MTX2_440.txt\",\"negative\",\"pos_PF18063_full_BB_PF_52.txt\",\"negative\",\"PF00087_full_Toxin_TOLIP_333.txt\",\"negative\",\"negative\",\"negative\",\"negative\",\"pos_PF11393_full_T4BSS_DotI_IcmL_214.txt\",\"negative\",\"negative\",\"negative\",\"negative\",\"negative\",\"negative\",\"negative\",\"pos_PF18063_full_BB_PF_52.txt\",\"negative\",\"pos_PF03944_seed_Endotoxin_C_80.txt\",\"pos_PF06355_full_Aegerolysin_308.txt\",\"negative\",\"negative\",\"pos_PF03945_full_Endotoxin_N_180.txt\",\"pos_PF18063_full_BB_PF_52.txt\",\"negative\",\"negative\",\"negative\",\"negative\",\"negative\",\"pos_PF12261_full_T_hemolysin_327.txt\",\"negative\",\"pos_PF06369_full_anemone_cytotox_363.txt\",\"negative\",\"negative\",\"PF07367_full_FB_lectin_171.txt\",\"pos_PF01823_rp15_MACPF_659.txt\",\"pos_PF12261_full_T_hemolysin_327.txt\",\"negative\",\"pos_PF03318_full_ETX_MTX2_440.txt\",\"pos_PF07968_full_Leukocidin_89.txt\",\"negative\",\"pos_PF05802_full_EspB_60.txt\",\"negative\",\"negative\",\"pos_PF03318_full_ETX_MTX2_440.txt\",\"negative\",\"negative\",\"negative\",\"negative\",\"negative\",\"negative\",\"pos_PF11393_full_T4BSS_DotI_IcmL_214.txt\",\"PF01289_full_Thiol_cytolysin_243.txt\",\"negative\",\"negative\",\"PF11565_full_porB_30.txt\",\"pos_PF01823_rp15_MACPF_659.txt\",\"negative\",\"negative\",\"pos_PF12920_full_TcdA_TcdB_pore_46.txt\",\"negative\",\"pos_PF07968_full_Leukocidin_89.txt\",\"negative\",\"pos_PF04877_full_Harpin_35.txt\",\"negative\",\"PF07367_full_FB_lectin_171.txt\",\"negative\",\"PF01289_full_Thiol_cytolysin_243.txt\",\"pos_PF03318_full_ETX_MTX2_440.txt\",\"pos_PF06369_full_anemone_cytotox_363.txt\",\"pos_PF01823_rp15_MACPF_659.txt\",\"pos_PF01338_full_Bac_thur_toxin_87.txt\",\"PF04598_rp15_Gasdermin_62.txt\",\"pos_PF01823_rp15_MACPF_659.txt\",\"negative\",\"pos_PF03318_full_ETX_MTX2_440.txt\",\"pos_PF18063_full_BB_PF_52.txt\",\"pos_PF12261_full_T_hemolysin_327.txt\",\"pos_PF11393_full_T4BSS_DotI_IcmL_214.txt\",\"negative\",\"negative\",\"pos_PF03945_full_Endotoxin_N_180.txt\",\"negative\",\"pos_PF03318_full_ETX_MTX2_440.txt\",\"negative\",\"negative\",\"pos_PF12920_full_TcdA_TcdB_pore_46.txt\",\"pos_PF18063_full_BB_PF_52.txt\",\"pos_PF06369_full_anemone_cytotox_363.txt\",\"negative\",\"negative\",\"negative\",\"negative\",\"negative\",\"negative\",\"pos_PF05105_seed_Phage_holin_4_1_131.txt\",\"negative\",\"pos_PF12261_full_T_hemolysin_327.txt\",\"negative\",\"negative\",\"negative\",\"negative\",\"pos_PF06355_full_Aegerolysin_308.txt\",\"negative\",\"PF00087_full_Toxin_TOLIP_333.txt\",\"pos_PF06355_full_Aegerolysin_308.txt\",\"negative\",\"negative\",\"negative\",\"pos_PF06109_full_HlyE_62.txt\",\"negative\",\"PF11565_full_porB_30.txt\",\"negative\",\"negative\",\"negative\",\"negative\",\"negative\",\"negative\",\"negative\",\"pos_PF01823_rp15_MACPF_659.txt\",\"negative\",\"pos_PF01024_full_Colicin_26.txt\",\"pos_PF11393_full_T4BSS_DotI_IcmL_214.txt\",\"pos_PF11393_full_T4BSS_DotI_IcmL_214.txt\",\"pos_PF05105_seed_Phage_holin_4_1_131.txt\",\"pos_PF12261_full_T_hemolysin_327.txt\",\"negative\",\"negative\",\"pos_PF01117_full_Aerolysin_207.txt\",\"pos_PF11393_full_T4BSS_DotI_IcmL_214.txt\",\"pos_PF06109_full_HlyE_62.txt\",\"negative\",\"negative\",\"negative\",\"PF07367_full_FB_lectin_171.txt\",\"negative\",\"negative\",\"negative\",\"negative\",\"negative\",\"negative\",\"negative\",\"negative\",\"negative\",\"pos_PF01117_full_Aerolysin_207.txt\",\"negative\",\"pos_PF05802_full_EspB_60.txt\",\"pos_PF07968_full_Leukocidin_89.txt\",\"PF11565_full_porB_30.txt\",\"pos_PF03945_full_Endotoxin_N_180.txt\",\"PF01289_full_Thiol_cytolysin_243.txt\",\"negative\",\"pos_PF04877_full_Harpin_35.txt\",\"pos_PF12261_full_T_hemolysin_327.txt\",\"PF07367_full_FB_lectin_171.txt\",\"pos_PF18063_full_BB_PF_52.txt\",\"negative\",\"negative\",\"negative\",\"negative\",\"negative\",\"negative\",\"PF01289_full_Thiol_cytolysin_243.txt\",\"negative\",\"negative\",\"negative\",\"pos_PF01117_full_Aerolysin_207.txt\",\"pos_PF03318_full_ETX_MTX2_440.txt\",\"negative\",\"pos_PF06355_full_Aegerolysin_308.txt\",\"negative\",\"negative\",\"pos_PF05802_full_EspB_60.txt\",\"PF01289_full_Thiol_cytolysin_243.txt\",\"pos_PF03318_full_ETX_MTX2_440.txt\",\"negative\",\"negative\",\"negative\",\"negative\",\"negative\",\"pos_PF03318_full_ETX_MTX2_440.txt\",\"pos_PF05802_full_EspB_60.txt\",\"negative\",\"negative\",\"negative\",\"pos_PF01823_rp15_MACPF_659.txt\",\"pos_PF11393_full_T4BSS_DotI_IcmL_214.txt\",\"negative\",\"negative\",\"negative\",\"negative\",\"pos_PF03944_seed_Endotoxin_C_80.txt\",\"negative\",\"negative\",\"pos_PF12261_full_T_hemolysin_327.txt\",\"pos_PF11393_full_T4BSS_DotI_IcmL_214.txt\",\"negative\",\"pos_PF12261_full_T_hemolysin_327.txt\",\"pos_PF11393_full_T4BSS_DotI_IcmL_214.txt\",\"pos_PF03318_full_ETX_MTX2_440.txt\",\"negative\",\"negative\",\"negative\",\"negative\",\"negative\",\"negative\",\"pos_PF01117_full_Aerolysin_207.txt\",\"negative\",\"negative\",\"negative\",\"pos_PF01823_rp15_MACPF_659.txt\",\"pos_PF05105_seed_Phage_holin_4_1_131.txt\",\"PF01289_full_Thiol_cytolysin_243.txt\",\"negative\",\"negative\",\"pos_PF01823_rp15_MACPF_659.txt\",\"negative\",\"negative\",\"negative\",\"negative\",\"negative\",\"negative\",\"negative\",\"negative\",\"pos_PF03945_full_Endotoxin_N_180.txt\",\"negative\",\"negative\",\"negative\",\"PF11565_full_porB_30.txt\",\"pos_PF06369_full_anemone_cytotox_363.txt\",\"pos_PF03318_full_ETX_MTX2_440.txt\",\"pos_PF12261_full_T_hemolysin_327.txt\",\"negative\",\"negative\",\"negative\",\"PF01289_full_Thiol_cytolysin_243.txt\",\"negative\",\"negative\",\"pos_PF06355_full_Aegerolysin_308.txt\",\"pos_PF03945_full_Endotoxin_N_180.txt\",\"pos_PF05802_full_EspB_60.txt\",\"pos_PF12261_full_T_hemolysin_327.txt\",\"pos_PF03945_full_Endotoxin_N_180.txt\",\"pos_PF12261_full_T_hemolysin_327.txt\",\"pos_PF12261_full_T_hemolysin_327.txt\",\"negative\",\"pos_PF03318_full_ETX_MTX2_440.txt\",\"pos_PF03944_seed_Endotoxin_C_80.txt\",\"pos_PF01823_rp15_MACPF_659.txt\",\"negative\",\"negative\",\"negative\",\"pos_PF01117_full_Aerolysin_207.txt\",\"pos_PF17475_full_Binary_toxB_2_16.txt\",\"negative\",\"pos_PF01823_rp15_MACPF_659.txt\",\"negative\",\"negative\",\"negative\",\"pos_PF11393_full_T4BSS_DotI_IcmL_214.txt\",\"negative\",\"pos_PF03945_full_Endotoxin_N_180.txt\",\"pos_PF01823_rp15_MACPF_659.txt\",\"negative\",\"pos_PF04877_full_Harpin_35.txt\",\"negative\",\"pos_PF03318_full_ETX_MTX2_440.txt\",\"negative\",\"pos_PF01823_rp15_MACPF_659.txt\",\"pos_PF01823_rp15_MACPF_659.txt\",\"negative\",\"pos_PF06355_full_Aegerolysin_308.txt\",\"negative\",\"pos_PF05802_full_EspB_60.txt\",\"pos_PF06109_full_HlyE_62.txt\",\"pos_PF03318_full_ETX_MTX2_440.txt\",\"pos_PF06369_full_anemone_cytotox_363.txt\",\"negative\",\"negative\",\"negative\",\"negative\",\"pos_PF01823_rp15_MACPF_659.txt\",\"pos_PF12261_full_T_hemolysin_327.txt\",\"negative\",\"negative\",\"PF04598_rp15_Gasdermin_62.txt\",\"negative\",\"negative\",\"pos_PF03944_seed_Endotoxin_C_80.txt\",\"negative\",\"negative\",\"negative\",\"negative\",\"pos_PF06369_full_anemone_cytotox_363.txt\",\"negative\",\"pos_PF11393_full_T4BSS_DotI_IcmL_214.txt\",\"negative\",\"negative\",\"negative\",\"negative\",\"negative\",\"pos_PF18063_full_BB_PF_52.txt\",\"negative\",\"PF01289_full_Thiol_cytolysin_243.txt\",\"negative\",\"negative\",\"negative\",\"PF00087_full_Toxin_TOLIP_333.txt\",\"pos_PF01823_rp15_MACPF_659.txt\",\"PF01289_full_Thiol_cytolysin_243.txt\",\"negative\",\"pos_PF00555_seed_Endotoxin_M_36.txt\",\"pos_PF03318_full_ETX_MTX2_440.txt\",\"negative\",\"PF07367_full_FB_lectin_171.txt\"],\"label\":[6,6,24,1,6,6,6,6,6,6,6,23,6,11,3,24,6,9,6,6,6,0,16,6,6,6,12,8,6,5,21,6,6,18,7,1,6,20,6,15,6,6,6,21,6,6,0,6,6,12,6,6,6,6,6,6,15,6,11,6,6,6,6,6,6,24,6,6,6,6,21,11,6,6,11,24,6,1,11,14,6,6,6,6,11,6,12,1,4,6,3,6,6,6,9,1,23,0,6,14,11,6,1,6,10,6,4,12,12,6,6,4,6,6,6,6,21,6,9,24,20,6,6,6,6,6,10,6,6,6,6,6,6,6,12,6,17,21,21,6,6,6,12,4,6,6,11,6,0,11,20,6,6,6,24,6,6,6,11,6,6,21,14,6,6,21,6,6,6,6,6,6,16,10,11,6,6,20,11,17,6,6,6,6,24,6,6,3,6,6,23,6,6,6,12,12,6,11,6,6,6,26,12,1,6,0,6,6,6,21,24,17,6,6,12,24,17,6,6,6,21,12,6,6,6,6,6,6,4,6,6,11,17,6,6,20,24,5,23,23,6,6,11,6,6,11,6,6,17,25,6,6,6,11,6,6,6,6,24,6,21,6,0,6,6,17,6,5,4,6,6,22,6,14,6,21,6,1,6,6,6,6,6,6,6,17,24,6,14,23,6,17,10,6,3,6,24,6,6,27,6,12,6,6,6,15,6,6,12,6,6,19,6,15,6,6,11,6,6,17,6,6,20,23,6,6,11,6,6,16,11,6,6,11,6,25,6,6,11,6,6,6,28,6,6,6,6,17,6,12,6,6,6,11,11,8,6,6,6,21,6,17,23,12,6,20,6,6,6,11,0,6,6,6,23,21,6,6,14,20,6,27,7,4,6,6,6,24,6,21,6,27,6,9,6,1,24,1,18,24,6,6,21,21,23,21,6,4,9,6,21,10,9,6,6,6,5,24,6,0,3,6,6,6,4,11,6,6,9,6,11,6,6,6,6,6,24,6,6,6,23,6,19,20,28,17,6,6,6,0,11,6,6,6,9,10,6,6,0,6,23,21,20,6,22,19,6,10,6,1,18,6,23,6,11,6,11,6,0,6,6,1,6,6,12,6,6,6,6,0,23,26,6,11,6,6,28,9,23,6,1,6,6,6,24,0,6,6,6,6,14,6,6,11,1,1,6,9,9,4,6,6,6,11,6,8,1,4,6,6,6,6,6,15,6,6,6,6,6,24,24,6,26,6,23,6,10,6,17,15,10,12,6,6,21,28,12,20,6,6,6,6,17,21,6,6,6,6,6,6,21,6,24,14,11,6,6,6,6,20,20,10,6,6,21,17,6,6,9,12,19,6,6,6,6,11,12,23,15,6,20,0,6,11,21,17,6,21,24,23,11,9,15,11,15,4,21,9,6,12,1,6,6,0,6,14,6,6,6,6,6,23,6,12,6,4,12,6,12,12,6,6,6,4,6,6,14,6,19,6,6,6,3,18,6,0,20,6,6,6,24,15,23,6,6,24,6,6,6,6,0,6,6,6,6,6,6,9,21,24,6,6,6,0,6,6,6,6,12,20,6,11,6,26,9,6,6,1,11,20,11,19,6,6,6,6,11,14,6,9,6,24,9,6,15,6,13,6,6,21,6,6,6,24,11,18,6,6,6,11,6,18,6,9,6,14,23,0,17,2,24,6,6,6,6,6,8,6,6,6,6,6,6,6,6,0,6,24,6,21,6,11,6,6,6,14,11,6,20,12,3,6,11,6,10,17,21,1,20,6,26,6,6,11,4,11,6,6,6,6,6,6,10,11,6,20,14,6,18,20,6,1,6,20,6,6,11,6,6,6,1,6,24,0,11,6,24,6,12,26,22,6,6,6,6,6,6,6,6,6,24,11,20,23,6,10,6,6,6,10,6,6,6,6,23,6,11,6,6,6,6,6,6,12,21,24,6,6,6,6,14,6,6,6,6,6,24,6,6,6,6,11,10,17,11,6,1,9,0,6,24,6,9,11,6,6,6,26,6,6,24,11,1,6,21,6,24,6,6,14,12,6,12,6,6,6,11,20,6,6,21,6,6,6,6,6,6,6,17,6,6,8,6,6,6,6,1,6,6,18,15,6,6,6,0,12,6,6,6,6,6,16,6,14,6,20,15,6,17,11,20,6,6,6,6,6,4,12,11,1,6,6,6,0,24,11,11,6,6,11,6,14,24,6,6,6,24,6,11,6,5,6,6,6,6,1,1,6,6,6,4,15,21,6,6,20,6,11,1,17,12,11,6,12,6,6,6,6,24,6,6,6,6,6,24,6,6,11,6,18,6,23,10,6,21,11,19,6,6,6,1,6,6,23,6,6,20,11,24,6,6,6,0,6,6,12,12,6,6,6,6,24,6,6,6,6,11,11,6,17,6,6,6,6,11,6,23,23,11,6,6,21,6,11,6,6,6,6,6,1,6,6,6,6,23,19,6,24,27,6,6,6,6,6,6,5,20,6,11,6,9,6,9,6,6,6,23,11,6,24,11,6,6,6,9,6,9,10,11,6,21,11,6,21,6,6,6,6,6,6,6,6,7,6,24,6,6,6,14,6,11,6,26,6,6,18,6,20,20,10,6,4,6,6,6,6,0,17,24,24,20,17,6,6,6,10,6,23,6,6,6,14,0,6,6,6,1,21,6,6,6,6,14,5,0,6,11,6,6,6,6,6,6,6,9,6,6,6,21,6,2,9,23,28,11,16,6,6,6,6,6,23,6,12,6,6,6,11,20,22,6,11,6,21,6,6,4,6,6,6,1,6,17,6,6,6,6,10,6,6,13,20,11,15,6,6,6,11,6,17,4,10,6,6,26,21,9,6,6,11,6,6,6,6,11,6,11,6,17,6,6,6,11,6,6,6,11,11,0,6,6,23,21,6,20,6,6,7,6,23,12,6,6,6,6,15,11,6,6,6,6,6,17,6,21,10,24,0,1,21,21,6,24,4,6,6,6,22,6,6,6,6,12,12,15,6,6,6,6,13,6,6,6,15,11,6,17,28,6,21,6,11,6,24,6,6,6,20,6,15,6,6,6,26,6,6,6,6,6,17,6,6,9,9,8,6,6,6,6,1,12,1,6,12,12,24,6,0,6,6,6,6,6,6,6,9,6,6,11,6,1,6,6,21,24,6,3,6,22,24,6,1,6,24,11,6,6,6,6,24,11,6,12,1,6,6,6,6,6,11,6,11,23,24,12,6,6,6,4,12,6,6,6,20,24,12,21,6,6,6,6,6,6,6,11,6,6,1,6,15,11,23,11,6,6,6,6,6,24,12,6,8,6,6,6,24,6,28,4,24,6,10,6,6,6,11,6,6,6,14,6,22,6,15,6,6,20,2,9,6,6,6,2,6,23,1,6,21,17,6,12,4,28,12,21,5,6,18,6,6,6,24,6,6,6,6,21,6,12,6,15,21,23,24,11,1,11,8,6,6,16,29,6,6,17,6,6,11,11,21,6,6,6,6,6,6,6,6,7,6,6,6,6,20,18,6,6,0,21,6,23,20,11,24,6,3,6,15,11,6,6,11,11,6,20,6,24,6,6,15,9,9,6,6,6,11,14,6,6,6,20,6,6,6,15,24,20,6,0,23,6,11,24,6,6,0,6,6,6,1,12,6,21,6,6,6,15,23,6,11,4,6,6,6,6,6,6,6,21,6,6,6,12,12,6,6,6,0,0,28,21,6,11,11,6,6,6,23,6,24,21,11,6,21,28,19,15,6,6,6,11,1,4,28,0,6,20,23,1,6,6,6,6,0,17,6,8,6,11,6,6,1,24,6,6,6,15,0,11,23,6,6,11,10,6,6,6,24,1,6,6,6,24,6,6,6,11,6,6,17,6,6,17,24,9,21,6,11,24,8,6,7,6,6,6,6,6,18,12,6,1,5,6,6,6,20,11,26,6,14,6,6,6,0,6,6,6,6,11,11,23,6,6,6,12,6,17,11,4,6,6,6,11,6,15,6,6,6,9,12,24,6,23,6,21,20,2,1,12,6,20,6,6,0,6,12,4,23,17,6,4,2,6,21,6,6,1,6,24,26,11,17,17,24,6,6,21,6,17,6,1,6,11,17,12,6,6,6,12,11,11,6,6,6,6,6,24,23,3,6,11,6,20,6,6,24,6,6,21,6,6,6,6,6,6,6,6,6,4,6,6,1,6,0,11,6,24,6,4,6,6,6,21,6,6,6,21,6,6,6,9,24,6,6,16,6,6,6,6,6,6,6,17,6,15,6,6,6,0,6,6,6,6,6,6,24,6,6,6,6,6,19,24,24,20,23,21,24,6,6,6,6,6,6,23,6,6,6,6,11,24,6,12,20,6,24,19,6,6,22,15,6,6,12,6,6,11,11,6,6,6,15,6,11,11,23,12,18,6,6,21,19,23,12,1,6,6,6,12,6,10,6,6,6,6,6,6,6,24,26,21,11,6,6,9,11,3,12,6,23,11,6,6,6,6,6,6,6,4,6,11,6,6,6,22,6,12,6,19,6,28,6,13,1,6,6,11,22,21,6,23,6,12,6,6,1,22,4,20,3,6,22,12,6,6,6,1,23,21,20,6,6,6,8,6,7,1,11,14,23,6,28,6,6,6,16,6,23,6,1,24,17,6,6,6,6,11,6,18,11,11,6,6,6,20,21,6,6,1,20,12,6,6,25,6,4,6,6,22,6,6,26,1,6,6,6,6,21,11,6,6,6,6,21,6,6,9,6,12,6,6,20,11,6,6,6,12,18,20,6,6,1,6,6,6,6,23,6,6,6,6,20,4,6,6,6,6,6,6,11,20,12,15,6,6,10,6,6,12,12,6,6,6,17,6,19,6,12,6,6,6,6,6,21,15,6,9,11,21,6,20,1,6,6,21,6,24,6,6,12,12,11,6,25,21,3,6,11,6,6,6,6,6,6,6,6,6,1,11,12,6,3,24,1,15,21,3,6,4,18,4,20,6,6,20,6,3,6,6,9,6,12,6,6,6,6,9,6,6,6,6,6,28,6,12,6,6,6,6,26,1,11,6,23,6,6,28,12,12,6,6,6,6,14,12,6,12,15,17,6,6,23,11,7,17,6,11,6,24,6,6,29,6,6,6,0,11,6,7,10,6,6,6,20,6,12,6,6,25,6,6,6,6,6,24,6,19,9,6,15,20,6,6,6,7,6,24,6,12,22,24,6,15,6,23,21,24,24,6,7,6,12,6,6,6,6,17,11,6,6,6,11,11,4,6,6,17,6,6,6,6,0,6,12,6,23,6,3,15,6,6,6,6,6,24,6,6,6,6,6,6,6,6,6,17,6,6,17,6,11,11,18,6,12,23,6,0,6,6,12,6,24,6,6,6,28,6,6,11,6,15,0,11,20,15,9,6,6,6,6,24,0,6,6,6,6,25,6,6,6,12,23,6,4,6,6,6,11,15,12,6,0,6,4,17,11,6,11,15,6,6,6,19,6,15,6,15,21,11,6,6,6,14,11,4,6,6,6,24,11,6,6,4,6,21,6,6,6,6,6,6,21,6,6,21,6,6,5,28,6,9,6,6,6,11,0,6,4,6,6,6,11,20,14,21,4,6,19,21,16,6,6,6,1,17,6,18,4,18,6,6,12,5,8,21,23,12,6,6,6,6,6,11,6,6,6,6,24,11,0,1,6,20,6,6,6,6,6,11,11,21,16,11,6,6,6,6,23,6,1,6,6,24,12,17,24,12,6,20,20,12,0,6,6,23,11,11,6,1,28,6,11,20,6,17,6,20,23,6,6,11,6,6,6,10,21,21,12,6,6,19,6,11,0,6,6,24,4,6,21,6,11,6,6,12,6,24,24,11,6,6,6,26,24,15,11,2,11,11,17,11,17,21,21,12,6,6,11,21,1,11,6,6,11,6,6,6,0,12,1,3,6,6,17,6,6,6,6,15,6,6,6,6,6,6,6,6,12,0,6,11,12,6,11,6,6,15,6,12,24,11,6,20,6,18,6,6,12,6,6,20,6,6,6,24,6,6,6,6,16,6,1,6,12,6,12,6,6,9,0,12,19,6,21,11,6,6,6,6,6,29,6,6,6,9,5,15,1,24,6,6,6,6,6,6,6,11,9,18,14,6,24,6,6,6,6,12,6,6,17,6,6,1,19,20,6,14,6,6,12,6,6,24,6,6,24,6,6,6,6,6,6,11,6,6,6,21,11,11,6,6,15,6,6,6,6,9,24,6,6,6,6,6,6,6,22,6,12,6,6,6,6,17,6,19,26,6,6,7,6,6,20,14,6,6,6,6,17,11,6,6,6,6,6,6,6,6,24,6,6,12,11,6,6,1,23,6,6,6,24,27,6,1,9,6,20,23,11,10,24,6,15,11,6,6,6,6,15,6,6,12,6,6,28,11,0,6,6,6,6,6,6,6,6,6,27,6,6,20,6,6,6,11,11,6,17,24,6,12,6,6,6,6,6,6,6,23,6,6,6,6,24,29,10,15,6,15,6,12,6,6,6,6,6,6,6,6,6,6,6,6,11,6,1,21,6,11,12,15,17,12,6,14,6,6,6,6,6,23,6,4,6,6,6,6,18,14,6,6,6,6,23,6,6,6,23,6,11,6,6,6,6,18,6,12,11,3,6,11,1,17,6,12,6,14,6,23,26,6,6,6,6,6,6,22,6,20,7,6,9,12,24,6,6,6,4,6,6,19,1,6,6,6,20,24,6,6,6,6,6,6,6,12,6,6,6,6,6,6,8,20,6,6,6,6,7,3,4,11,6,6,6,6,20,6,6,6,23,6,24,6,6,6,6,6,11,11,6,11,11,6,20,6,6,6,24,22,11,6,6,6,6,21,6,6,6,6,9,6,6,6,6,20,6,23,6,6,6,1,6,6,6,6,6,1,6,6,6,23,6,17,6,6,5,12,6,6,6,6,6,6,6,20,6,6,6,1,6,11,11,10,24,6,15,6,6,12,24,6,6,6,10,19,21,3,7,24,6,0,11,1,12,1,6,24,1,6,3,15,24,6,6,0,6,11,12,6,6,6,6,11,6,21,6,6,6,6,11,6,11,6,6,19,6,6,11,6,9,6,24,6,6,23,12,6,0,19,9,9,6,12,1,6,6,21,6,14,20,15,9,6,6,6,11,6,6,15,11,4,11,6,6,6,6,24,6,12,18,14,6,21,1,11,11,6,6,6,6,0,6,6,12,1,6,6,12,10,6,6,12,6,6,6,18,6,24,6,6,6,9,6,4,6,6,6,13,6,6,6,6,17,6,6,20,0,1,6,6,12,17,23,6,6,11,6,6,24,3,16,6,11,6,12,0,15,24,18,24,1,12,11,6,6,11,28,0,5,6,6,6,6,6,6,6,9,21,14,15,6,21,4,12,1,6,6,15,6,9,11,6,6,6,16,11,6,6,6,19,6,6,6,6,24,6,6,6,17,11,6,6,24,6,6,6,14,11,20,7,23,6,14,6,24,6,6,6,2,6,6,6,6,10,6,6,25,6,28,6,9,6,6,6,6,17,11,4,1,6,6,16,11,12,6,6,6,24,6,6,6,12,6,6,24,6,6,11,1,9,6,11,26,15,11,6,6,6,6,11,15,6,6,9,27,1,6,22,24,6,11,1,6,6,17,21,12,6,14,4,6,14,6,24,6,6,6,11,22,6,6,6,6,17,6,6,6,7,6,11,6,6,23,6,6,6,6,11,6,12,6,1,6,9,6,6,11,6,6,19,6,6,6,6,12,6,21,6,6,21,24,24,6,6,15,6,6,6,6,6,6,6,14,6,15,10,6,6,6,6,6,6,6,9,6,24,6,15,26,12,28,21,6,6,6,6,15,6,10,23,6,5,6,28,6,1,6,6,6,6,2,21,21,6,12,24,6,21,11,9,6,6,6,21,24,21,18,23,1,6,6,6,6,18,6,6,11,6,6,6,1,6,6,15,6,19,6,20,15,6,12,15,18,6,20,20,6,17,21,6,1,6,6,6,24,6,6,12,6,12,1,6,11,22,6,6,6,6,6,1,6,24,11,12,17,6,6,11,11,23,6,11,18,6,3,6,17,23,6,6,6,6,6,6,21,6,6,6,11,23,11,6,15,6,6,3,24,6,6,7,6,21,11,6,15,6,6,23,6,1,0,6,23,20,23,0,17,17,6,6,9,21,6,11,6,6,14,6,11,11,6,6,12,17,24,6,12,6,4,17,6,6,6,20,12,1,6,6,6,6,6,6,6,6,6,6,6,8,25,6,6,20,11,6,10,11,6,24,20,12,6,23,6,4,6,24,6,1,20,6,6,21,6,6,9,6,11,6,12,11,6,24,6,6,14,28,12,6,6,6,20,6,6,6,6,6,6,6,6,14,20,6,12,20,6,6,6,6,12,6,6,6,12,8,6,17,6,11,6,14,6,6,20,6,10,6,6,6,6,6,11,9,12,6,24,6,24,18,20,6,6,6,6,6,6,22,6,9,6,1,18,6,6,28,6,9,6,6,6,6,6,23,18,9,16,6,6,6,11,11,6,6,6,12,9,6,4,24,6,6,6,11,6,6,24,11,6,12,6,6,6,6,6,6,9,6,10,6,7,6,6,6,6,6,24,6,6,6,11,1,4,5,6,6,6,6,1,12,20,6,15,6,6,6,6,11,6,6,6,6,12,6,6,11,10,6,9,6,1,6,6,6,9,6,16,6,6,6,26,16,4,14,6,6,6,19,6,15,20,28,0,11,6,6,6,6,9,6,6,6,1,6,6,12,6,12,6,5,22,22,24,6,6,11,14,6,17,11,6,18,6,6,11,6,11,12,6,20,6,11,12,6,21,6,6,6,6,6,6,6,20,6,6,20,3,6,6,15,24,6,6,11,12,17,6,19,23,1,6,11,6,10,6,6,6,6,3,6,15,6,20,6,6,6,6,6,0,6,6,11,6,6,6,6,6,6,6,6,6,12,20,6,6,6,4,6,6,21,6,6,1,12,12,12,6,6,6,12,6,6,12,4,24,1,8,6,6,23,6,6,4,6,6,17,6,28,6,20,6,6,6,6,6,24,24,6,20,6,6,6,6,6,4,6,28,24,23,6,6,6,6,6,12,6,1,6,6,24,6,6,6,23,0,6,10,1,6,6,1,6,6,6,6,6,6,6,6,6,6,6,6,24,6,6,11,20,6,8,1,6,15,6,0,6,6,12,11,1,10,6,6,6,6,4,4,6,4,6,6,27,6,0,18,6,6,6,15,6,6,24,6,4,18,6,20,14,8,12,6,11,6,12,6,23,6,11,6,20,20,6,6,14,20,24,6,22,24,4,6,24,6,6,6,6,24,11,5,11,6,6,6,11,6,6,7,6,6,6,11,10,9,11,6,6,6,6,6,24,11,6,26,6,6,6,6,11,6,6,6,6,6,20,6,6,11,6,11,20,0,6,6,4,6,6,11,23,6,6,4,6,6,6,6,11,1,6,24,6,6,19,0,6,1,4,6,15,6,6,6,14,24,6,6,10,6,11,19,14,6,0,12,6,6,12,6,6,23,6,6,6,11,6,1,6,6,6,6,6,6,6,6,6,6,6,0,6,12,10,6,6,6,20,6,6,6,6,6,21,6,6,6,12,6,6,12,6,6,6,6,23,6,6,11,11,24,6,6,24,20,6,6,17,6,6,18,6,6,24,20,1,21,6,6,11,15,6,6,11,10,6,12,6,6,6,21,0,6,4,6,6,6,1,6,6,6,17,9,6,6,7,6,15,6,6,11,11,27,20,6,9,25,23,6,6,12,15,6,6,0,12,6,20,6,6,24,6,6,6,6,6,6,17,6,6,6,12,6,0,6,6,28,6,6,6,6,6,11,6,6,21,15,6,16,20,6,24,6,6,6,12,4,24,4,6,21,6,6,12,6,14,3,17,12,6,11,6,12,6,28,6,6,6,6,6,6,6,6,21,6,22,21,22,1,6,11,6,9,6,9,6,6,6,6,6,4,6,24,15,15,0,6,6,6,6,12,6,6,23,6,6,1,4,6,6,23,23,21,12,6,23,12,6,11,6,6,12,6,12,6,6,6,23,6,1,6,24,6,6,15,6,11,6,6,6,6,6,6,22,6,26,11,1,24,20,12,6,23,6,12,21,24,11,11,21,6,6,24,6,16,9,12,11,6,6,6,6,24,7,6,26,6,11,6,11,23,6,11,5,6,11,12,24,6,6,1,6,6,6,3,6,6,11,6,6,6,6,23,24,6,6,23,6,12,17,24,6,17,6,9,11,6,24,6,6,15,6,6,6,6,16,6,6,12,6,6,11,24,6,6,6,16,1,6,20,20,22,6,6,6,11,6,21,24,20,11,15,11,6,13,11,6,21,6,6,17,17,22,12,6,6,21,6,24,6,6,24,6,6,9,11,22,6,24,7,6,11,1,11,22,7,6,6,6,6,6,6,6,6,6,11,6,6,6,15,16,10,6,6,23,11,6,11,20,24,6,24,10,6,6,6,3,12,6,6,11,6,6,20,6,19,6,6,6,27,6,6,12,15,19,29,23,6,24,11,6,23,12,6,6,6,6,6,26,6,6,6,23,6,17,11,6,6,23,11,6,1,20,11,6,6,6,6,6,9,6,19,21,6,24,24,6,6,6,6,22,6,1,6,6,6,11,21,24,6,1,9,6,6,6,6,24,1,6,6,6,6,6,6,6,6,22,6,6,6,6,11,6,6,6,6,6,11,6,21,6,12,6,11,24,11,6,6,6,12,6,6,6,6,6,24,8,6,6,15,6,6,6,15,6,1,11,6,24,6,11,6,6,0,12,7,11,21,24,6,0,6,6,6,11,11,24,6,6,6,24,12,6,6,1,6,6,6,9,6,6,12,6,14,24,6,6,6,21,6,11,6,6,6,6,6,6,0,16,6,20,17,6,6,28,6,11,6,12,6,12,6,15,11,6,28,6,6,6,3,24,11,6,12,6,6,6,6,6,6,6,6,6,23,6,6,6,12,24,6,6,6,6,6,9,6,11,6,6,6,6,24,6,6,20,6,6,6,10,6,11,6,6,6,1,15,6,6,21,6,8,6,12,14,6,6,6,6,11,6,6,17,12,6,6,15,20,6,6,6,6,6,1,17,22,3,6,6,11,1,6,21,6,6,6,6,9,29,4,6,6,10,1,11,6,24,22,18,0,6,3,6,6,15,6,6,6,12,6,28,6,0,6,6,6,6,23,6,6,6,6,6,6,6,28,6,14,20,6,6,15,28,6,6,6,6,6,24,6,21,6,6,4,11,24,6,12,22,6,18,6,6,12,6,6,6,6,6,6,23,1,6,6,5,11,6,6,26,6,22,6,16,6,4,6,1,12,21,11,10,3,11,6,12,28,24,23,6,6,15,6,12,6,6,26,28,21,6,6,6,6,6,6,17,6,24,6,6,6,6,20,6,0,20,6,6,6,19,6,5,6,6,6,6,6,6,6,11,6,8,23,23,17,24,6,6,9,23,19,6,6,6,4,6,6,6,6,6,6,6,6,6,9,6,18,22,5,15,1,6,16,24,4,28,6,6,6,6,6,6,1,6,6,6,9,12,6,20,6,6,18,1,12,6,6,6,6,6,12,18,6,6,6,11,23,6,6,6,6,14,6,6,24,23,6,24,23,12,6,6,6,6,6,6,9,6,6,6,11,17,1,6,6,11,6,6,6,6,6,6,6,6,15,6,6,6,5,21,12,24,6,6,6,1,6,6,20,15,18,24,15,24,24,6,12,14,11,6,6,6,9,27,6,11,6,6,6,23,6,15,11,6,16,6,12,6,11,11,6,20,6,18,19,12,21,6,6,6,6,11,24,6,6,3,6,6,14,6,6,6,6,21,6,23,6,6,6,6,6,28,6,1,6,6,6,0,11,1,6,7,12,6,4],\"level_0\":[0,1,2,3,4,5,6,7,8,9,10,11,12,13,14,15,16,17,18,19,20,21,22,23,24,25,26,27,28,29,30,31,32,33,34,35,36,37,38,39,40,41,42,43,44,45,46,47,48,49,50,51,52,53,54,55,56,57,58,59,60,61,62,63,64,65,66,67,68,69,70,71,72,73,74,75,76,77,78,79,80,81,82,83,84,85,86,87,88,89,90,91,92,93,94,95,96,97,98,99,100,101,102,103,104,105,106,107,108,109,110,111,112,113,114,115,116,117,118,119,120,121,122,123,124,125,126,127,128,129,130,131,132,133,134,135,136,137,138,139,140,141,142,143,144,145,146,147,148,149,150,151,152,153,154,155,156,157,158,159,160,161,162,163,164,165,166,167,168,169,170,171,172,173,174,175,176,177,178,179,180,181,182,183,184,185,186,187,188,189,190,191,192,193,194,195,196,197,198,199,200,201,202,203,204,205,206,207,208,209,210,211,212,213,214,215,216,217,218,219,220,221,222,223,224,225,226,227,228,229,230,231,232,233,234,235,236,237,238,239,240,241,242,243,244,245,246,247,248,249,250,251,252,253,254,255,256,257,258,259,260,261,262,263,264,265,266,267,268,269,270,271,272,273,274,275,276,277,278,279,280,281,282,283,284,285,286,287,288,289,290,291,292,293,294,295,296,297,298,299,300,301,302,303,304,305,306,307,308,309,310,311,312,313,314,315,316,317,318,319,320,321,322,323,324,325,326,327,328,329,330,331,332,333,334,335,336,337,338,339,340,341,342,343,344,345,346,347,348,349,350,351,352,353,354,355,356,357,358,359,360,361,362,363,364,365,366,367,368,369,370,371,372,373,374,375,376,377,378,379,380,381,382,383,384,385,386,387,388,389,390,391,392,393,394,395,396,397,398,399,400,401,402,403,404,405,406,407,408,409,410,411,412,413,414,415,416,417,418,419,420,421,422,423,424,425,426,427,428,429,430,431,432,433,434,435,436,437,438,439,440,441,442,443,444,445,446,447,448,449,450,451,452,453,454,455,456,457,458,459,460,461,462,463,464,465,466,467,468,469,470,471,472,473,474,475,476,477,478,479,480,481,482,483,484,485,486,487,488,489,490,491,492,493,494,495,496,497,498,499,500,501,502,503,504,505,506,507,508,509,510,511,512,513,514,515,516,517,518,519,520,521,522,523,524,525,526,527,528,529,530,531,532,533,534,535,536,537,538,539,540,541,542,543,544,545,546,547,548,549,550,551,552,553,554,555,556,557,558,559,560,561,562,563,564,565,566,567,568,569,570,571,572,573,574,575,576,577,578,579,580,581,582,583,584,585,586,587,588,589,590,591,592,593,594,595,596,597,598,599,600,601,602,603,604,605,606,607,608,609,610,611,612,613,614,615,616,617,618,619,620,621,622,623,624,625,626,627,628,629,630,631,632,633,634,635,636,637,638,639,640,641,642,643,644,645,646,647,648,649,650,651,652,653,654,655,656,657,658,659,660,661,662,663,664,665,666,667,668,669,670,671,672,673,674,675,676,677,678,679,680,681,682,683,684,685,686,687,688,689,690,691,692,693,694,695,696,697,698,699,700,701,702,703,704,705,706,707,708,709,710,711,712,713,714,715,716,717,718,719,720,721,722,723,724,725,726,727,728,729,730,731,732,733,734,735,736,737,738,739,740,741,742,743,744,745,746,747,748,749,750,751,752,753,754,755,756,757,758,759,760,761,762,763,764,765,766,767,768,769,770,771,772,773,774,775,776,777,778,779,780,781,782,783,784,785,786,787,788,789,790,791,792,793,794,795,796,797,798,799,800,801,802,803,804,805,806,807,808,809,810,811,812,813,814,815,816,817,818,819,820,821,822,823,824,825,826,827,828,829,830,831,832,833,834,835,836,837,838,839,840,841,842,843,844,845,846,847,848,849,850,851,852,853,854,855,856,857,858,859,860,861,862,863,864,865,866,867,868,869,870,871,872,873,874,875,876,877,878,879,880,881,882,883,884,885,886,887,888,889,890,891,892,893,894,895,896,897,898,899,900,901,902,903,904,905,906,907,908,909,910,911,912,913,914,915,916,917,918,919,920,921,922,923,924,925,926,927,928,929,930,931,932,933,934,935,936,937,938,939,940,941,942,943,944,945,946,947,948,949,950,951,952,953,954,955,956,957,958,959,960,961,962,963,964,965,966,967,968,969,970,971,972,973,974,975,976,977,978,979,980,981,982,983,984,985,986,987,988,989,990,991,992,993,994,995,996,997,998,999,1000,1001,1002,1003,1004,1005,1006,1007,1008,1009,1010,1011,1012,1013,1014,1015,1016,1017,1018,1019,1020,1021,1022,1023,1024,1025,1026,1027,1028,1029,1030,1031,1032,1033,1034,1035,1036,1037,1038,1039,1040,1041,1042,1043,1044,1045,1046,1047,1048,1049,1050,1051,1052,1053,1054,1055,1056,1057,1058,1059,1060,1061,1062,1063,1064,1065,1066,1067,1068,1069,1070,1071,1072,1073,1074,1075,1076,1077,1078,1079,1080,1081,1082,1083,1084,1085,1086,1087,1088,1089,1090,1091,1092,1093,1094,1095,1096,1097,1098,1099,1100,1101,1102,1103,1104,1105,1106,1107,1108,1109,1110,1111,1112,1113,1114,1115,1116,1117,1118,1119,1120,1121,1122,1123,1124,1125,1126,1127,1128,1129,1130,1131,1132,1133,1134,1135,1136,1137,1138,1139,1140,1141,1142,1143,1144,1145,1146,1147,1148,1149,1150,1151,1152,1153,1154,1155,1156,1157,1158,1159,1160,1161,1162,1163,1164,1165,1166,1167,1168,1169,1170,1171,1172,1173,1174,1175,1176,1177,1178,1179,1180,1181,1182,1183,1184,1185,1186,1187,1188,1189,1190,1191,1192,1193,1194,1195,1196,1197,1198,1199,1200,1201,1202,1203,1204,1205,1206,1207,1208,1209,1210,1211,1212,1213,1214,1215,1216,1217,1218,1219,1220,1221,1222,1223,1224,1225,1226,1227,1228,1229,1230,1231,1232,1233,1234,1235,1236,1237,1238,1239,1240,1241,1242,1243,1244,1245,1246,1247,1248,1249,1250,1251,1252,1253,1254,1255,1256,1257,1258,1259,1260,1261,1262,1263,1264,1265,1266,1267,1268,1269,1270,1271,1272,1273,1274,1275,1276,1277,1278,1279,1280,1281,1282,1283,1284,1285,1286,1287,1288,1289,1290,1291,1292,1293,1294,1295,1296,1297,1298,1299,1300,1301,1302,1303,1304,1305,1306,1307,1308,1309,1310,1311,1312,1313,1314,1315,1316,1317,1318,1319,1320,1321,1322,1323,1324,1325,1326,1327,1328,1329,1330,1331,1332,1333,1334,1335,1336,1337,1338,1339,1340,1341,1342,1343,1344,1345,1346,1347,1348,1349,1350,1351,1352,1353,1354,1355,1356,1357,1358,1359,1360,1361,1362,1363,1364,1365,1366,1367,1368,1369,1370,1371,1372,1373,1374,1375,1376,1377,1378,1379,1380,1381,1382,1383,1384,1385,1386,1387,1388,1389,1390,1391,1392,1393,1394,1395,1396,1397,1398,1399,1400,1401,1402,1403,1404,1405,1406,1407,1408,1409,1410,1411,1412,1413,1414,1415,1416,1417,1418,1419,1420,1421,1422,1423,1424,1425,1426,1427,1428,1429,1430,1431,1432,1433,1434,1435,1436,1437,1438,1439,1440,1441,1442,1443,1444,1445,1446,1447,1448,1449,1450,1451,1452,1453,1454,1455,1456,1457,1458,1459,1460,1461,1462,1463,1464,1465,1466,1467,1468,1469,1470,1471,1472,1473,1474,1475,1476,1477,1478,1479,1480,1481,1482,1483,1484,1485,1486,1487,1488,1489,1490,1491,1492,1493,1494,1495,1496,1497,1498,1499,1500,1501,1502,1503,1504,1505,1506,1507,1508,1509,1510,1511,1512,1513,1514,1515,1516,1517,1518,1519,1520,1521,1522,1523,1524,1525,1526,1527,1528,1529,1530,1531,1532,1533,1534,1535,1536,1537,1538,1539,1540,1541,1542,1543,1544,1545,1546,1547,1548,1549,1550,1551,1552,1553,1554,1555,1556,1557,1558,1559,1560,1561,1562,1563,1564,1565,1566,1567,1568,1569,1570,1571,1572,1573,1574,1575,1576,1577,1578,1579,1580,1581,1582,1583,1584,1585,1586,1587,1588,1589,1590,1591,1592,1593,1594,1595,1596,1597,1598,1599,1600,1601,1602,1603,1604,1605,1606,1607,1608,1609,1610,1611,1612,1613,1614,1615,1616,1617,1618,1619,1620,1621,1622,1623,1624,1625,1626,1627,1628,1629,1630,1631,1632,1633,1634,1635,1636,1637,1638,1639,1640,1641,1642,1643,1644,1645,1646,1647,1648,1649,1650,1651,1652,1653,1654,1655,1656,1657,1658,1659,1660,1661,1662,1663,1664,1665,1666,1667,1668,1669,1670,1671,1672,1673,1674,1675,1676,1677,1678,1679,1680,1681,1682,1683,1684,1685,1686,1687,1688,1689,1690,1691,1692,1693,1694,1695,1696,1697,1698,1699,1700,1701,1702,1703,1704,1705,1706,1707,1708,1709,1710,1711,1712,1713,1714,1715,1716,1717,1718,1719,1720,1721,1722,1723,1724,1725,1726,1727,1728,1729,1730,1731,1732,1733,1734,1735,1736,1737,1738,1739,1740,1741,1742,1743,1744,1745,1746,1747,1748,1749,1750,1751,1752,1753,1754,1755,1756,1757,1758,1759,1760,1761,1762,1763,1764,1765,1766,1767,1768,1769,1770,1771,1772,1773,1774,1775,1776,1777,1778,1779,1780,1781,1782,1783,1784,1785,1786,1787,1788,1789,1790,1791,1792,1793,1794,1795,1796,1797,1798,1799,1800,1801,1802,1803,1804,1805,1806,1807,1808,1809,1810,1811,1812,1813,1814,1815,1816,1817,1818,1819,1820,1821,1822,1823,1824,1825,1826,1827,1828,1829,1830,1831,1832,1833,1834,1835,1836,1837,1838,1839,1840,1841,1842,1843,1844,1845,1846,1847,1848,1849,1850,1851,1852,1853,1854,1855,1856,1857,1858,1859,1860,1861,1862,1863,1864,1865,1866,1867,1868,1869,1870,1871,1872,1873,1874,1875,1876,1877,1878,1879,1880,1881,1882,1883,1884,1885,1886,1887,1888,1889,1890,1891,1892,1893,1894,1895,1896,1897,1898,1899,1900,1901,1902,1903,1904,1905,1906,1907,1908,1909,1910,1911,1912,1913,1914,1915,1916,1917,1918,1919,1920,1921,1922,1923,1924,1925,1926,1927,1928,1929,1930,1931,1932,1933,1934,1935,1936,1937,1938,1939,1940,1941,1942,1943,1944,1945,1946,1947,1948,1949,1950,1951,1952,1953,1954,1955,1956,1957,1958,1959,1960,1961,1962,1963,1964,1965,1966,1967,1968,1969,1970,1971,1972,1973,1974,1975,1976,1977,1978,1979,1980,1981,1982,1983,1984,1985,1986,1987,1988,1989,1990,1991,1992,1993,1994,1995,1996,1997,1998,1999,2000,2001,2002,2003,2004,2005,2006,2007,2008,2009,2010,2011,2012,2013,2014,2015,2016,2017,2018,2019,2020,2021,2022,2023,2024,2025,2026,2027,2028,2029,2030,2031,2032,2033,2034,2035,2036,2037,2038,2039,2040,2041,2042,2043,2044,2045,2046,2047,2048,2049,2050,2051,2052,2053,2054,2055,2056,2057,2058,2059,2060,2061,2062,2063,2064,2065,2066,2067,2068,2069,2070,2071,2072,2073,2074,2075,2076,2077,2078,2079,2080,2081,2082,2083,2084,2085,2086,2087,2088,2089,2090,2091,2092,2093,2094,2095,2096,2097,2098,2099,2100,2101,2102,2103,2104,2105,2106,2107,2108,2109,2110,2111,2112,2113,2114,2115,2116,2117,2118,2119,2120,2121,2122,2123,2124,2125,2126,2127,2128,2129,2130,2131,2132,2133,2134,2135,2136,2137,2138,2139,2140,2141,2142,2143,2144,2145,2146,2147,2148,2149,2150,2151,2152,2153,2154,2155,2156,2157,2158,2159,2160,2161,2162,2163,2164,2165,2166,2167,2168,2169,2170,2171,2172,2173,2174,2175,2176,2177,2178,2179,2180,2181,2182,2183,2184,2185,2186,2187,2188,2189,2190,2191,2192,2193,2194,2195,2196,2197,2198,2199,2200,2201,2202,2203,2204,2205,2206,2207,2208,2209,2210,2211,2212,2213,2214,2215,2216,2217,2218,2219,2220,2221,2222,2223,2224,2225,2226,2227,2228,2229,2230,2231,2232,2233,2234,2235,2236,2237,2238,2239,2240,2241,2242,2243,2244,2245,2246,2247,2248,2249,2250,2251,2252,2253,2254,2255,2256,2257,2258,2259,2260,2261,2262,2263,2264,2265,2266,2267,2268,2269,2270,2271,2272,2273,2274,2275,2276,2277,2278,2279,2280,2281,2282,2283,2284,2285,2286,2287,2288,2289,2290,2291,2292,2293,2294,2295,2296,2297,2298,2299,2300,2301,2302,2303,2304,2305,2306,2307,2308,2309,2310,2311,2312,2313,2314,2315,2316,2317,2318,2319,2320,2321,2322,2323,2324,2325,2326,2327,2328,2329,2330,2331,2332,2333,2334,2335,2336,2337,2338,2339,2340,2341,2342,2343,2344,2345,2346,2347,2348,2349,2350,2351,2352,2353,2354,2355,2356,2357,2358,2359,2360,2361,2362,2363,2364,2365,2366,2367,2368,2369,2370,2371,2372,2373,2374,2375,2376,2377,2378,2379,2380,2381,2382,2383,2384,2385,2386,2387,2388,2389,2390,2391,2392,2393,2394,2395,2396,2397,2398,2399,2400,2401,2402,2403,2404,2405,2406,2407,2408,2409,2410,2411,2412,2413,2414,2415,2416,2417,2418,2419,2420,2421,2422,2423,2424,2425,2426,2427,2428,2429,2430,2431,2432,2433,2434,2435,2436,2437,2438,2439,2440,2441,2442,2443,2444,2445,2446,2447,2448,2449,2450,2451,2452,2453,2454,2455,2456,2457,2458,2459,2460,2461,2462,2463,2464,2465,2466,2467,2468,2469,2470,2471,2472,2473,2474,2475,2476,2477,2478,2479,2480,2481,2482,2483,2484,2485,2486,2487,2488,2489,2490,2491,2492,2493,2494,2495,2496,2497,2498,2499,2500,2501,2502,2503,2504,2505,2506,2507,2508,2509,2510,2511,2512,2513,2514,2515,2516,2517,2518,2519,2520,2521,2522,2523,2524,2525,2526,2527,2528,2529,2530,2531,2532,2533,2534,2535,2536,2537,2538,2539,2540,2541,2542,2543,2544,2545,2546,2547,2548,2549,2550,2551,2552,2553,2554,2555,2556,2557,2558,2559,2560,2561,2562,2563,2564,2565,2566,2567,2568,2569,2570,2571,2572,2573,2574,2575,2576,2577,2578,2579,2580,2581,2582,2583,2584,2585,2586,2587,2588,2589,2590,2591,2592,2593,2594,2595,2596,2597,2598,2599,2600,2601,2602,2603,2604,2605,2606,2607,2608,2609,2610,2611,2612,2613,2614,2615,2616,2617,2618,2619,2620,2621,2622,2623,2624,2625,2626,2627,2628,2629,2630,2631,2632,2633,2634,2635,2636,2637,2638,2639,2640,2641,2642,2643,2644,2645,2646,2647,2648,2649,2650,2651,2652,2653,2654,2655,2656,2657,2658,2659,2660,2661,2662,2663,2664,2665,2666,2667,2668,2669,2670,2671,2672,2673,2674,2675,2676,2677,2678,2679,2680,2681,2682,2683,2684,2685,2686,2687,2688,2689,2690,2691,2692,2693,2694,2695,2696,2697,2698,2699,2700,2701,2702,2703,2704,2705,2706,2707,2708,2709,2710,2711,2712,2713,2714,2715,2716,2717,2718,2719,2720,2721,2722,2723,2724,2725,2726,2727,2728,2729,2730,2731,2732,2733,2734,2735,2736,2737,2738,2739,2740,2741,2742,2743,2744,2745,2746,2747,2748,2749,2750,2751,2752,2753,2754,2755,2756,2757,2758,2759,2760,2761,2762,2763,2764,2765,2766,2767,2768,2769,2770,2771,2772,2773,2774,2775,2776,2777,2778,2779,2780,2781,2782,2783,2784,2785,2786,2787,2788,2789,2790,2791,2792,2793,2794,2795,2796,2797,2798,2799,2800,2801,2802,2803,2804,2805,2806,2807,2808,2809,2810,2811,2812,2813,2814,2815,2816,2817,2818,2819,2820,2821,2822,2823,2824,2825,2826,2827,2828,2829,2830,2831,2832,2833,2834,2835,2836,2837,2838,2839,2840,2841,2842,2843,2844,2845,2846,2847,2848,2849,2850,2851,2852,2853,2854,2855,2856,2857,2858,2859,2860,2861,2862,2863,2864,2865,2866,2867,2868,2869,2870,2871,2872,2873,2874,2875,2876,2877,2878,2879,2880,2881,2882,2883,2884,2885,2886,2887,2888,2889,2890,2891,2892,2893,2894,2895,2896,2897,2898,2899,2900,2901,2902,2903,2904,2905,2906,2907,2908,2909,2910,2911,2912,2913,2914,2915,2916,2917,2918,2919,2920,2921,2922,2923,2924,2925,2926,2927,2928,2929,2930,2931,2932,2933,2934,2935,2936,2937,2938,2939,2940,2941,2942,2943,2944,2945,2946,2947,2948,2949,2950,2951,2952,2953,2954,2955,2956,2957,2958,2959,2960,2961,2962,2963,2964,2965,2966,2967,2968,2969,2970,2971,2972,2973,2974,2975,2976,2977,2978,2979,2980,2981,2982,2983,2984,2985,2986,2987,2988,2989,2990,2991,2992,2993,2994,2995,2996,2997,2998,2999,3000,3001,3002,3003,3004,3005,3006,3007,3008,3009,3010,3011,3012,3013,3014,3015,3016,3017,3018,3019,3020,3021,3022,3023,3024,3025,3026,3027,3028,3029,3030,3031,3032,3033,3034,3035,3036,3037,3038,3039,3040,3041,3042,3043,3044,3045,3046,3047,3048,3049,3050,3051,3052,3053,3054,3055,3056,3057,3058,3059,3060,3061,3062,3063,3064,3065,3066,3067,3068,3069,3070,3071,3072,3073,3074,3075,3076,3077,3078,3079,3080,3081,3082,3083,3084,3085,3086,3087,3088,3089,3090,3091,3092,3093,3094,3095,3096,3097,3098,3099,3100,3101,3102,3103,3104,3105,3106,3107,3108,3109,3110,3111,3112,3113,3114,3115,3116,3117,3118,3119,3120,3121,3122,3123,3124,3125,3126,3127,3128,3129,3130,3131,3132,3133,3134,3135,3136,3137,3138,3139,3140,3141,3142,3143,3144,3145,3146,3147,3148,3149,3150,3151,3152,3153,3154,3155,3156,3157,3158,3159,3160,3161,3162,3163,3164,3165,3166,3167,3168,3169,3170,3171,3172,3173,3174,3175,3176,3177,3178,3179,3180,3181,3182,3183,3184,3185,3186,3187,3188,3189,3190,3191,3192,3193,3194,3195,3196,3197,3198,3199,3200,3201,3202,3203,3204,3205,3206,3207,3208,3209,3210,3211,3212,3213,3214,3215,3216,3217,3218,3219,3220,3221,3222,3223,3224,3225,3226,3227,3228,3229,3230,3231,3232,3233,3234,3235,3236,3237,3238,3239,3240,3241,3242,3243,3244,3245,3246,3247,3248,3249,3250,3251,3252,3253,3254,3255,3256,3257,3258,3259,3260,3261,3262,3263,3264,3265,3266,3267,3268,3269,3270,3271,3272,3273,3274,3275,3276,3277,3278,3279,3280,3281,3282,3283,3284,3285,3286,3287,3288,3289,3290,3291,3292,3293,3294,3295,3296,3297,3298,3299,3300,3301,3302,3303,3304,3305,3306,3307,3308,3309,3310,3311,3312,3313,3314,3315,3316,3317,3318,3319,3320,3321,3322,3323,3324,3325,3326,3327,3328,3329,3330,3331,3332,3333,3334,3335,3336,3337,3338,3339,3340,3341,3342,3343,3344,3345,3346,3347,3348,3349,3350,3351,3352,3353,3354,3355,3356,3357,3358,3359,3360,3361,3362,3363,3364,3365,3366,3367,3368,3369,3370,3371,3372,3373,3374,3375,3376,3377,3378,3379,3380,3381,3382,3383,3384,3385,3386,3387,3388,3389,3390,3391,3392,3393,3394,3395,3396,3397,3398,3399,3400,3401,3402,3403,3404,3405,3406,3407,3408,3409,3410,3411,3412,3413,3414,3415,3416,3417,3418,3419,3420,3421,3422,3423,3424,3425,3426,3427,3428,3429,3430,3431,3432,3433,3434,3435,3436,3437,3438,3439,3440,3441,3442,3443,3444,3445,3446,3447,3448,3449,3450,3451,3452,3453,3454,3455,3456,3457,3458,3459,3460,3461,3462,3463,3464,3465,3466,3467,3468,3469,3470,3471,3472,3473,3474,3475,3476,3477,3478,3479,3480,3481,3482,3483,3484,3485,3486,3487,3488,3489,3490,3491,3492,3493,3494,3495,3496,3497,3498,3499,3500,3501,3502,3503,3504,3505,3506,3507,3508,3509,3510,3511,3512,3513,3514,3515,3516,3517,3518,3519,3520,3521,3522,3523,3524,3525,3526,3527,3528,3529,3530,3531,3532,3533,3534,3535,3536,3537,3538,3539,3540,3541,3542,3543,3544,3545,3546,3547,3548,3549,3550,3551,3552,3553,3554,3555,3556,3557,3558,3559,3560,3561,3562,3563,3564,3565,3566,3567,3568,3569,3570,3571,3572,3573,3574,3575,3576,3577,3578,3579,3580,3581,3582,3583,3584,3585,3586,3587,3588,3589,3590,3591,3592,3593,3594,3595,3596,3597,3598,3599,3600,3601,3602,3603,3604,3605,3606,3607,3608,3609,3610,3611,3612,3613,3614,3615,3616,3617,3618,3619,3620,3621,3622,3623,3624,3625,3626,3627,3628,3629,3630,3631,3632,3633,3634,3635,3636,3637,3638,3639,3640,3641,3642,3643,3644,3645,3646,3647,3648,3649,3650,3651,3652,3653,3654,3655,3656,3657,3658,3659,3660,3661,3662,3663,3664,3665,3666,3667,3668,3669,3670,3671,3672,3673,3674,3675,3676,3677,3678,3679,3680,3681,3682,3683,3684,3685,3686,3687,3688,3689,3690,3691,3692,3693,3694,3695,3696,3697,3698,3699,3700,3701,3702,3703,3704,3705,3706,3707,3708,3709,3710,3711,3712,3713,3714,3715,3716,3717,3718,3719,3720,3721,3722,3723,3724,3725,3726,3727,3728,3729,3730,3731,3732,3733,3734,3735,3736,3737,3738,3739,3740,3741,3742,3743,3744,3745,3746,3747,3748,3749,3750,3751,3752,3753,3754,3755,3756,3757,3758,3759,3760,3761,3762,3763,3764,3765,3766,3767,3768,3769,3770,3771,3772,3773,3774,3775,3776,3777,3778,3779,3780,3781,3782,3783,3784,3785,3786,3787,3788,3789,3790,3791,3792,3793,3794,3795,3796,3797,3798,3799,3800,3801,3802,3803,3804,3805,3806,3807,3808,3809,3810,3811,3812,3813,3814,3815,3816,3817,3818,3819,3820,3821,3822,3823,3824,3825,3826,3827,3828,3829,3830,3831,3832,3833,3834,3835,3836,3837,3838,3839,3840,3841,3842,3843,3844,3845,3846,3847,3848,3849,3850,3851,3852,3853,3854,3855,3856,3857,3858,3859,3860,3861,3862,3863,3864,3865,3866,3867,3868,3869,3870,3871,3872,3873,3874,3875,3876,3877,3878,3879,3880,3881,3882,3883,3884,3885,3886,3887,3888,3889,3890,3891,3892,3893,3894,3895,3896,3897,3898,3899,3900,3901,3902,3903,3904,3905,3906,3907,3908,3909,3910,3911,3912,3913,3914,3915,3916,3917,3918,3919,3920,3921,3922,3923,3924,3925,3926,3927,3928,3929,3930,3931,3932,3933,3934,3935,3936,3937,3938,3939,3940,3941,3942,3943,3944,3945,3946,3947,3948,3949,3950,3951,3952,3953,3954,3955,3956,3957,3958,3959,3960,3961,3962,3963,3964,3965,3966,3967,3968,3969,3970,3971,3972,3973,3974,3975,3976,3977,3978,3979,3980,3981,3982,3983,3984,3985,3986,3987,3988,3989,3990,3991,3992,3993,3994,3995,3996,3997,3998,3999,4000,4001,4002,4003,4004,4005,4006,4007,4008,4009,4010,4011,4012,4013,4014,4015,4016,4017,4018,4019,4020,4021,4022,4023,4024,4025,4026,4027,4028,4029,4030,4031,4032,4033,4034,4035,4036,4037,4038,4039,4040,4041,4042,4043,4044,4045,4046,4047,4048,4049,4050,4051,4052,4053,4054,4055,4056,4057,4058,4059,4060,4061,4062,4063,4064,4065,4066,4067,4068,4069,4070,4071,4072,4073,4074,4075,4076,4077,4078,4079,4080,4081,4082,4083,4084,4085,4086,4087,4088,4089,4090,4091,4092,4093,4094,4095,4096,4097,4098,4099,4100,4101,4102,4103,4104,4105,4106,4107,4108,4109,4110,4111,4112,4113,4114,4115,4116,4117,4118,4119,4120,4121,4122,4123,4124,4125,4126,4127,4128,4129,4130,4131,4132,4133,4134,4135,4136,4137,4138,4139,4140,4141,4142,4143,4144,4145,4146,4147,4148,4149,4150,4151,4152,4153,4154,4155,4156,4157,4158,4159,4160,4161,4162,4163,4164,4165,4166,4167,4168,4169,4170,4171,4172,4173,4174,4175,4176,4177,4178,4179,4180,4181,4182,4183,4184,4185,4186,4187,4188,4189,4190,4191,4192,4193,4194,4195,4196,4197,4198,4199,4200,4201,4202,4203,4204,4205,4206,4207,4208,4209,4210,4211,4212,4213,4214,4215,4216,4217,4218,4219,4220,4221,4222,4223,4224,4225,4226,4227,4228,4229,4230,4231,4232,4233,4234,4235,4236,4237,4238,4239,4240,4241,4242,4243,4244,4245,4246,4247,4248,4249,4250,4251,4252,4253,4254,4255,4256,4257,4258,4259,4260,4261,4262,4263,4264,4265,4266,4267,4268,4269,4270,4271,4272,4273,4274,4275,4276,4277,4278,4279,4280,4281,4282,4283,4284,4285,4286,4287,4288,4289,4290,4291,4292,4293,4294,4295,4296,4297,4298,4299,4300,4301,4302,4303,4304,4305,4306,4307,4308,4309,4310,4311,4312,4313,4314,4315,4316,4317,4318,4319,4320,4321,4322,4323,4324,4325,4326,4327,4328,4329,4330,4331,4332,4333,4334,4335,4336,4337,4338,4339,4340,4341,4342,4343,4344,4345,4346,4347,4348,4349,4350,4351,4352,4353,4354,4355,4356,4357,4358,4359,4360,4361,4362,4363,4364,4365,4366,4367,4368,4369,4370,4371,4372,4373,4374,4375,4376,4377,4378,4379,4380,4381,4382,4383,4384,4385,4386,4387,4388,4389,4390,4391,4392,4393,4394,4395,4396,4397,4398,4399,4400,4401,4402,4403,4404,4405,4406,4407,4408,4409,4410,4411,4412,4413,4414,4415,4416,4417,4418,4419,4420,4421,4422,4423,4424,4425,4426,4427,4428,4429,4430,4431,4432,4433,4434,4435,4436,4437,4438,4439,4440,4441,4442,4443,4444,4445,4446,4447,4448,4449,4450,4451,4452,4453,4454,4455,4456,4457,4458,4459,4460,4461,4462,4463,4464,4465,4466,4467,4468,4469,4470,4471,4472,4473,4474,4475,4476,4477,4478,4479,4480,4481,4482,4483,4484,4485,4486,4487,4488,4489,4490,4491,4492,4493,4494,4495,4496,4497,4498,4499,4500,4501,4502,4503,4504,4505,4506,4507,4508,4509,4510,4511,4512,4513,4514,4515,4516,4517,4518,4519,4520,4521,4522,4523,4524,4525,4526,4527,4528,4529,4530,4531,4532,4533,4534,4535,4536,4537,4538,4539,4540,4541,4542,4543,4544,4545,4546,4547,4548,4549,4550,4551,4552,4553,4554,4555,4556,4557,4558,4559,4560,4561,4562,4563,4564,4565,4566,4567,4568,4569,4570,4571,4572,4573,4574,4575,4576,4577,4578,4579,4580,4581,4582,4583,4584,4585,4586,4587,4588,4589,4590,4591,4592,4593,4594,4595,4596,4597,4598,4599,4600,4601,4602,4603,4604,4605,4606,4607,4608,4609,4610,4611,4612,4613,4614,4615,4616,4617,4618,4619,4620,4621,4622,4623,4624,4625,4626,4627,4628,4629,4630,4631,4632,4633,4634,4635,4636,4637,4638,4639,4640,4641,4642,4643,4644,4645,4646,4647,4648,4649,4650,4651,4652,4653,4654,4655,4656,4657,4658,4659,4660,4661,4662,4663,4664,4665,4666,4667,4668,4669,4670,4671,4672,4673,4674,4675,4676,4677,4678,4679,4680,4681,4682,4683,4684,4685,4686,4687,4688,4689,4690,4691,4692,4693,4694,4695,4696,4697,4698,4699,4700,4701,4702,4703,4704,4705,4706,4707,4708,4709,4710,4711,4712,4713,4714,4715,4716,4717,4718,4719,4720,4721,4722,4723,4724,4725,4726,4727,4728,4729,4730,4731,4732,4733,4734,4735,4736,4737,4738,4739,4740,4741,4742,4743,4744,4745,4746,4747,4748,4749,4750,4751,4752,4753,4754,4755,4756,4757,4758,4759,4760,4761,4762,4763,4764,4765,4766,4767,4768,4769,4770,4771,4772,4773,4774,4775,4776,4777,4778,4779,4780,4781,4782,4783,4784,4785,4786,4787,4788,4789,4790,4791,4792,4793,4794,4795,4796,4797,4798,4799,4800,4801,4802,4803,4804,4805,4806,4807,4808,4809,4810,4811,4812,4813,4814,4815,4816,4817,4818,4819,4820,4821,4822,4823,4824,4825,4826,4827,4828,4829,4830,4831,4832,4833,4834,4835,4836,4837,4838,4839,4840,4841,4842,4843,4844,4845,4846,4847,4848,4849,4850,4851,4852,4853,4854,4855,4856,4857,4858,4859,4860,4861,4862,4863,4864,4865,4866,4867,4868,4869,4870,4871,4872,4873,4874,4875,4876,4877,4878,4879,4880,4881,4882,4883,4884,4885,4886,4887,4888,4889,4890,4891,4892,4893,4894,4895,4896,4897,4898,4899,4900,4901,4902,4903,4904,4905,4906,4907,4908,4909,4910,4911,4912,4913,4914,4915,4916,4917,4918,4919,4920,4921,4922,4923,4924,4925,4926,4927,4928,4929,4930,4931,4932,4933,4934,4935,4936,4937,4938,4939,4940,4941,4942,4943,4944,4945,4946,4947,4948,4949,4950,4951,4952,4953,4954,4955,4956,4957,4958,4959,4960,4961,4962,4963,4964,4965,4966,4967,4968,4969,4970,4971,4972,4973,4974,4975,4976,4977,4978,4979,4980,4981,4982,4983,4984,4985,4986,4987,4988,4989,4990,4991,4992,4993,4994,4995,4996,4997,4998,4999,5000,5001,5002,5003,5004,5005,5006,5007,5008,5009,5010,5011,5012,5013,5014,5015,5016,5017,5018,5019,5020,5021,5022,5023,5024,5025,5026,5027,5028,5029,5030,5031,5032,5033,5034,5035,5036,5037,5038,5039,5040,5041,5042,5043,5044,5045,5046,5047,5048,5049,5050,5051,5052,5053,5054,5055,5056,5057,5058,5059,5060,5061,5062,5063,5064,5065,5066,5067,5068,5069,5070,5071,5072,5073,5074,5075,5076,5077,5078,5079,5080,5081,5082,5083,5084,5085,5086,5087,5088,5089,5090,5091,5092,5093,5094,5095,5096,5097,5098,5099,5100,5101,5102,5103,5104,5105,5106,5107,5108,5109,5110,5111,5112,5113,5114,5115,5116,5117,5118,5119,5120,5121,5122,5123,5124,5125,5126,5127,5128,5129,5130,5131,5132,5133,5134,5135,5136,5137,5138,5139,5140,5141,5142,5143,5144,5145,5146,5147,5148,5149,5150,5151,5152,5153,5154,5155,5156,5157,5158,5159,5160,5161,5162,5163,5164,5165,5166,5167,5168,5169,5170,5171,5172,5173,5174,5175,5176,5177,5178,5179,5180,5181,5182,5183,5184,5185,5186,5187,5188,5189,5190,5191,5192,5193,5194,5195,5196,5197,5198,5199,5200,5201,5202,5203,5204,5205,5206,5207,5208,5209,5210,5211,5212,5213,5214,5215,5216,5217,5218,5219,5220,5221,5222,5223,5224,5225,5226,5227,5228,5229,5230,5231,5232,5233,5234,5235,5236,5237,5238,5239,5240,5241,5242,5243,5244,5245,5246,5247,5248,5249,5250,5251,5252,5253,5254,5255,5256,5257,5258,5259,5260,5261,5262,5263,5264,5265,5266,5267,5268,5269,5270,5271,5272,5273,5274],\"x\":{\"__ndarray__\":\"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\",\"dtype\":\"float32\",\"order\":\"little\",\"shape\":[5275]},\"y\":{\"__ndarray__\":\"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\",\"dtype\":\"float32\",\"order\":\"little\",\"shape\":[5275]}},\"selected\":{\"id\":\"1160\"},\"selection_policy\":{\"id\":\"1159\"}},\"id\":\"1104\",\"type\":\"ColumnDataSource\"}],\"root_ids\":[\"1105\"]},\"title\":\"Bokeh Application\",\"version\":\"2.1.0\"}};\n",
       "  var render_items = [{\"docid\":\"ac799791-02e8-4430-8d4c-ff50fdf3a5a0\",\"root_ids\":[\"1105\"],\"roots\":{\"1105\":\"646f2f4f-9b02-43da-865a-1c30307ab8f7\"}}];\n",
       "  root.Bokeh.embed.embed_items_notebook(docs_json, render_items);\n",
       "\n",
       "  }\n",
       "  if (root.Bokeh !== undefined) {\n",
       "    embed_document(root);\n",
       "  } else {\n",
       "    var attempts = 0;\n",
       "    var timer = setInterval(function(root) {\n",
       "      if (root.Bokeh !== undefined) {\n",
       "        clearInterval(timer);\n",
       "        embed_document(root);\n",
       "      } else {\n",
       "        attempts++;\n",
       "        if (attempts > 100) {\n",
       "          clearInterval(timer);\n",
       "          console.log(\"Bokeh: ERROR: Unable to run BokehJS code because BokehJS library is missing\");\n",
       "        }\n",
       "      }\n",
       "    }, 10, root)\n",
       "  }\n",
       "})(window);"
      ],
      "application/vnd.bokehjs_exec.v0+json": ""
     },
     "metadata": {
      "application/vnd.bokehjs_exec.v0+json": {
       "id": "1105"
      }
     },
     "output_type": "display_data"
    }
   ],
   "source": [
    "train_mapper = umap.UMAP().fit(train_embed)\n",
    "hover_data = pd.DataFrame({'index':np.arange(5275),\n",
    "                           'label':train_labels})\n",
    "hover_data['item'] = hover_data.label.map(umap_map)\n",
    "\n",
    "p = umap.plot.interactive(train_mapper, labels=train_labels, hover_data=hover_data,point_size=5)\n",
    "output_notebook()\n",
    "show(p)"
   ]
  },
  {
   "cell_type": "code",
   "execution_count": null,
   "metadata": {},
   "outputs": [],
   "source": []
  }
 ],
 "metadata": {
  "colab": {
   "name": "ProtCNN_EmbeddingCopy.ipynb",
   "provenance": []
  },
  "kernelspec": {
   "display_name": "Python 3",
   "language": "python",
   "name": "python3"
  },
  "language_info": {
   "codemirror_mode": {
    "name": "ipython",
    "version": 3
   },
   "file_extension": ".py",
   "mimetype": "text/x-python",
   "name": "python",
   "nbconvert_exporter": "python",
   "pygments_lexer": "ipython3",
   "version": "3.7.6"
  }
 },
 "nbformat": 4,
 "nbformat_minor": 4
}
