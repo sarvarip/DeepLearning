{
 "cells": [
  {
   "cell_type": "markdown",
   "metadata": {
    "colab_type": "text",
    "id": "JxM2najJOoEE"
   },
   "source": [
    "## Pfam seed random split"
   ]
  },
  {
   "cell_type": "code",
   "execution_count": 1,
   "metadata": {
    "colab": {
     "base_uri": "https://localhost:8080/",
     "height": 733
    },
    "colab_type": "code",
    "id": "8QF5fVSdGnZ5",
    "outputId": "1c6792d8-f29c-4546-f38a-462afc833c4a"
   },
   "outputs": [
    {
     "name": "stdout",
     "output_type": "stream",
     "text": [
      "Tensorflow version 2.2.0\n",
      "WARNING:tensorflow:From <ipython-input-1-b657ee98f989>:6: is_gpu_available (from tensorflow.python.framework.test_util) is deprecated and will be removed in a future version.\n",
      "Instructions for updating:\n",
      "Use `tf.config.list_physical_devices('GPU')` instead.\n"
     ]
    },
    {
     "name": "stderr",
     "output_type": "stream",
     "text": [
      "C:\\Users\\sarva\\Anaconda3\\lib\\site-packages\\tensorboard\\compat\\tensorflow_stub\\dtypes.py:541: FutureWarning: Passing (type, 1) or '1type' as a synonym of type is deprecated; in a future version of numpy, it will be understood as (type, (1,)) / '(1,)type'.\n",
      "  _np_qint8 = np.dtype([(\"qint8\", np.int8, 1)])\n",
      "C:\\Users\\sarva\\Anaconda3\\lib\\site-packages\\tensorboard\\compat\\tensorflow_stub\\dtypes.py:542: FutureWarning: Passing (type, 1) or '1type' as a synonym of type is deprecated; in a future version of numpy, it will be understood as (type, (1,)) / '(1,)type'.\n",
      "  _np_quint8 = np.dtype([(\"quint8\", np.uint8, 1)])\n",
      "C:\\Users\\sarva\\Anaconda3\\lib\\site-packages\\tensorboard\\compat\\tensorflow_stub\\dtypes.py:543: FutureWarning: Passing (type, 1) or '1type' as a synonym of type is deprecated; in a future version of numpy, it will be understood as (type, (1,)) / '(1,)type'.\n",
      "  _np_qint16 = np.dtype([(\"qint16\", np.int16, 1)])\n",
      "C:\\Users\\sarva\\Anaconda3\\lib\\site-packages\\tensorboard\\compat\\tensorflow_stub\\dtypes.py:544: FutureWarning: Passing (type, 1) or '1type' as a synonym of type is deprecated; in a future version of numpy, it will be understood as (type, (1,)) / '(1,)type'.\n",
      "  _np_quint16 = np.dtype([(\"quint16\", np.uint16, 1)])\n",
      "C:\\Users\\sarva\\Anaconda3\\lib\\site-packages\\tensorboard\\compat\\tensorflow_stub\\dtypes.py:545: FutureWarning: Passing (type, 1) or '1type' as a synonym of type is deprecated; in a future version of numpy, it will be understood as (type, (1,)) / '(1,)type'.\n",
      "  _np_qint32 = np.dtype([(\"qint32\", np.int32, 1)])\n",
      "C:\\Users\\sarva\\Anaconda3\\lib\\site-packages\\tensorboard\\compat\\tensorflow_stub\\dtypes.py:550: FutureWarning: Passing (type, 1) or '1type' as a synonym of type is deprecated; in a future version of numpy, it will be understood as (type, (1,)) / '(1,)type'.\n",
      "  np_resource = np.dtype([(\"resource\", np.ubyte, 1)])\n"
     ]
    },
    {
     "data": {
      "text/plain": [
       "True"
      ]
     },
     "execution_count": 1,
     "metadata": {},
     "output_type": "execute_result"
    }
   ],
   "source": [
    "import tensorflow as tf\n",
    "print(\"Tensorflow version \" + tf.__version__)\n",
    "\n",
    "tf.test.is_built_with_cuda()\n",
    "\n",
    "tf.test.is_gpu_available(cuda_only=False, min_cuda_compute_capability=None)"
   ]
  },
  {
   "cell_type": "code",
   "execution_count": 2,
   "metadata": {
    "colab": {
     "base_uri": "https://localhost:8080/",
     "height": 34
    },
    "colab_type": "code",
    "id": "aLRgXSlTqlHQ",
    "outputId": "0ea5518b-9567-4949-e16c-6ddced04240d"
   },
   "outputs": [
    {
     "data": {
      "text/plain": [
       "[PhysicalDevice(name='/physical_device:GPU:0', device_type='GPU')]"
      ]
     },
     "execution_count": 2,
     "metadata": {},
     "output_type": "execute_result"
    }
   ],
   "source": [
    "tf.config.experimental.list_physical_devices('GPU')\n",
    "#for device in gpu_devices: tf.config.experimental.set_memory_growth(device, True)"
   ]
  },
  {
   "cell_type": "code",
   "execution_count": 3,
   "metadata": {},
   "outputs": [
    {
     "name": "stdout",
     "output_type": "stream",
     "text": [
      "Compute dtype: float16\n",
      "Variable dtype: float32\n"
     ]
    }
   ],
   "source": [
    "# import tensorflow.keras.backend as K\n",
    "# dtype = 'float16'\n",
    "# K.set_floatx(dtype)\n",
    "# K.set_epsilon(1e-4)\n",
    "\n",
    "from tensorflow.keras.preprocessing.text import Tokenizer\n",
    "from tensorflow.keras.preprocessing.sequence import pad_sequences\n",
    "from tensorflow.keras.mixed_precision import experimental as mixed_precision\n",
    "policy = mixed_precision.Policy('mixed_float16')\n",
    "mixed_precision.set_policy(policy)\n",
    "\n",
    "print('Compute dtype: %s' % policy.compute_dtype)\n",
    "print('Variable dtype: %s' % policy.variable_dtype)"
   ]
  },
  {
   "cell_type": "code",
   "execution_count": 4,
   "metadata": {
    "_kg_hide-input": false,
    "colab": {
     "base_uri": "https://localhost:8080/",
     "height": 70
    },
    "colab_type": "code",
    "id": "l1HJp53SOoEI",
    "outputId": "128d4714-b749-4f6b-fcf8-9510004d5aaf"
   },
   "outputs": [],
   "source": [
    "import matplotlib.pyplot as plt # plotting\n",
    "import numpy as np # linear algebra\n",
    "import os # accessing directory structure\n",
    "import pandas as pd # data processing, CSV file I/O (e.g. pd.read_csv)\n",
    "import seaborn\n",
    "import gc\n",
    "import sklearn\n",
    "import pickle"
   ]
  },
  {
   "cell_type": "code",
   "execution_count": 2,
   "metadata": {
    "colab": {},
    "colab_type": "code",
    "id": "a98D5LzNVJEI"
   },
   "outputs": [
    {
     "name": "stdout",
     "output_type": "stream",
     "text": [
      "cuda\n"
     ]
    }
   ],
   "source": [
    "#ONLY RUN IF USING TORCH\n",
    "\n",
    "import torch\n",
    "device = torch.device('cuda' if torch.cuda.is_available() else 'cpu')\n",
    "print(device)"
   ]
  },
  {
   "cell_type": "code",
   "execution_count": 3,
   "metadata": {},
   "outputs": [],
   "source": [
    "torch.cuda.empty_cache() "
   ]
  },
  {
   "cell_type": "code",
   "execution_count": 4,
   "metadata": {},
   "outputs": [],
   "source": [
    "#ONLY RUN IF USING TORCH\n",
    "\n",
    "from tape import ProteinBertModel, TAPETokenizer\n",
    "model = ProteinBertModel.from_pretrained('bert-base')\n",
    "modelTAPE = model.to(device)\n",
    "tokenizerTAPE = TAPETokenizer(vocab='iupac')  # iupac is the vocab for TAPE models, use unirep for the UniRep model"
   ]
  },
  {
   "cell_type": "code",
   "execution_count": 5,
   "metadata": {
    "_kg_hide-input": false,
    "colab": {
     "base_uri": "https://localhost:8080/",
     "height": 54
    },
    "colab_type": "code",
    "id": "hZ-YTa2kOoEZ",
    "outputId": "9ed852bc-e978-4e23-ba98-1552a960dc8a"
   },
   "outputs": [
    {
     "name": "stdout",
     "output_type": "stream",
     "text": [
      "Available files:  ['pos_PF00555_seed_Endotoxin_M_36.txt', 'pos_PF01024_full_Colicin_26.txt', 'pos_PF01117_full_Aerolysin_207.txt', 'pos_PF01338_full_Bac_thur_toxin_87.txt', 'pos_PF01823_rp15_MACPF_659.txt', 'pos_PF03318_full_ETX_MTX2_440.txt', 'pos_PF03505_full_Clenterotox_9.txt', 'pos_PF03944_seed_Endotoxin_C_80.txt', 'pos_PF03945_full_Endotoxin_N_180.txt', 'pos_PF04877_full_Harpin_35.txt', 'pos_PF05105_seed_Phage_holin_4_1_131.txt', 'pos_PF05802_full_EspB_60.txt', 'pos_PF06109_full_HlyE_62.txt', 'pos_PF06355_full_Aegerolysin_308.txt', 'pos_PF06369_full_anemone_cytotox_363.txt', 'pos_PF07968_full_Leukocidin_89.txt', 'pos_PF11393_full_T4BSS_DotI_IcmL_214.txt', 'pos_PF12261_full_T_hemolysin_327.txt', 'pos_PF12563_full_Hemolysin_N_12.txt', 'pos_PF12920_full_TcdA_TcdB_pore_46.txt', 'pos_PF17475_full_Binary_toxB_2_16.txt', 'pos_PF18063_full_BB_PF_52.txt', 'pos_PF18684_full_PlyB_C_8.txt']\n"
     ]
    }
   ],
   "source": [
    "pos_dirpath = './Pfam_fasta/positive'\n",
    "neg_dirpath = './Pfam_fasta/negative'\n",
    "print('Available files: ', os.listdir(pos_dirpath))"
   ]
  },
  {
   "cell_type": "code",
   "execution_count": 8,
   "metadata": {
    "colab": {},
    "colab_type": "code",
    "id": "kkpO0nabI3Ay"
   },
   "outputs": [],
   "source": [
    "def parse_fasta (lines):\n",
    "    descs = []\n",
    "    seqs = []\n",
    "    data = ''\n",
    "    for line in lines:\n",
    "        if line.startswith('>'):\n",
    "            if data:   # have collected a sequence, push to seqs\n",
    "                seqs.append(data)\n",
    "                data = ''\n",
    "            descs.append(line[1:])  # Trim '>' from beginning\n",
    "        else:\n",
    "            data += line.rstrip('\\r\\n')\n",
    "    # there will be yet one more to push when we run out\n",
    "    seqs.append(data)\n",
    "    return descs, seqs"
   ]
  },
  {
   "cell_type": "code",
   "execution_count": 6,
   "metadata": {
    "colab": {},
    "colab_type": "code",
    "id": "fEQ7HAChIzpZ"
   },
   "outputs": [],
   "source": [
    "def parse_fasta_append (lines, seqs=[]):\n",
    "    descs = []\n",
    "    data = ''\n",
    "    for line in lines:\n",
    "        if line.startswith('>'):\n",
    "            if data:   # have collected a sequence, push to seqs\n",
    "                seqs.append(data)\n",
    "                data = ''\n",
    "            descs.append(line[1:])  # Trim '>' from beginning\n",
    "        else:\n",
    "            data += line.rstrip('\\r\\n')\n",
    "    # there will be yet one more to push when we run out\n",
    "    seqs.append(data)\n",
    "    length = len(descs)\n",
    "    return descs, seqs, length"
   ]
  },
  {
   "cell_type": "code",
   "execution_count": 7,
   "metadata": {
    "colab": {},
    "colab_type": "code",
    "id": "7MdChuEaI48s"
   },
   "outputs": [],
   "source": [
    "pos_seqs = []\n",
    "pos_labels = []\n",
    "for fn in os.listdir(pos_dirpath):\n",
    "    handle = open(os.path.join(pos_dirpath, fn), 'r')\n",
    "    descs, pos_seqs, num_seq = parse_fasta_append(handle.read().split('\\n'), pos_seqs)\n",
    "    labs = [fn]*num_seq\n",
    "    pos_labels.append(labs)\n",
    "    handle.close()"
   ]
  },
  {
   "cell_type": "code",
   "execution_count": 8,
   "metadata": {
    "colab": {
     "base_uri": "https://localhost:8080/",
     "height": 34
    },
    "colab_type": "code",
    "id": "a-AyFQd-Ptgs",
    "outputId": "26155a01-9906-4ce3-c378-75dcc4731416"
   },
   "outputs": [
    {
     "data": {
      "text/plain": [
       "3447"
      ]
     },
     "execution_count": 8,
     "metadata": {},
     "output_type": "execute_result"
    }
   ],
   "source": [
    "len(pos_seqs)"
   ]
  },
  {
   "cell_type": "code",
   "execution_count": 9,
   "metadata": {
    "colab": {
     "base_uri": "https://localhost:8080/",
     "height": 34
    },
    "colab_type": "code",
    "id": "0dO-Cc59Nig6",
    "outputId": "14b47301-3d65-4b16-e85f-bd4f69f06839"
   },
   "outputs": [
    {
     "data": {
      "text/plain": [
       "3447"
      ]
     },
     "execution_count": 9,
     "metadata": {},
     "output_type": "execute_result"
    }
   ],
   "source": [
    "from itertools import chain\n",
    "pos_labels = list(chain.from_iterable(pos_labels))\n",
    "len(pos_labels)"
   ]
  },
  {
   "cell_type": "code",
   "execution_count": 10,
   "metadata": {
    "colab": {},
    "colab_type": "code",
    "id": "2GG7tyrJRBpC"
   },
   "outputs": [],
   "source": [
    "neg_seqs = []\n",
    "neg_labels = []\n",
    "for fn in os.listdir(neg_dirpath):\n",
    "    handle = open(os.path.join(neg_dirpath, fn), 'r')\n",
    "    descs, neg_seqs, num_seq = parse_fasta_append(handle.read().split('\\n'), neg_seqs)\n",
    "    labs = [fn]*num_seq\n",
    "    neg_labels.append(labs)\n",
    "    handle.close()"
   ]
  },
  {
   "cell_type": "code",
   "execution_count": 11,
   "metadata": {
    "colab": {
     "base_uri": "https://localhost:8080/",
     "height": 34
    },
    "colab_type": "code",
    "id": "Ks9chVnngbeU",
    "outputId": "3bbb959c-46a0-4144-fda1-1bb921ce416f"
   },
   "outputs": [
    {
     "data": {
      "text/plain": [
       "3393"
      ]
     },
     "execution_count": 11,
     "metadata": {},
     "output_type": "execute_result"
    }
   ],
   "source": [
    "len(neg_seqs)"
   ]
  },
  {
   "cell_type": "code",
   "execution_count": 12,
   "metadata": {
    "colab": {
     "base_uri": "https://localhost:8080/",
     "height": 34
    },
    "colab_type": "code",
    "id": "PXv9_H6sgpgS",
    "outputId": "fe729b93-9b02-4343-85d0-bd8a929230cd"
   },
   "outputs": [
    {
     "data": {
      "text/plain": [
       "3393"
      ]
     },
     "execution_count": 12,
     "metadata": {},
     "output_type": "execute_result"
    }
   ],
   "source": [
    "neg_labels = list(chain.from_iterable(neg_labels))\n",
    "len(neg_labels)"
   ]
  },
  {
   "cell_type": "code",
   "execution_count": 13,
   "metadata": {
    "colab": {},
    "colab_type": "code",
    "id": "kXsj-9v7hXEL"
   },
   "outputs": [],
   "source": [
    "#need to get rid of alignment since using that would be cheating\n",
    "\n",
    "pos = []\n",
    "neg = []\n",
    "\n",
    "for seq in pos_seqs:\n",
    "    s = seq.replace(\"-\", \"\")\n",
    "    s = s.replace(\".\", \"\")\n",
    "    pos.append(s)\n",
    "\n",
    "for seq in neg_seqs:\n",
    "    s = seq.replace(\"-\", \"\")\n",
    "    s = s.replace(\".\", \"\")\n",
    "    neg.append(s)"
   ]
  },
  {
   "cell_type": "code",
   "execution_count": 14,
   "metadata": {
    "colab": {},
    "colab_type": "code",
    "id": "3Vv6H1hZlQ67"
   },
   "outputs": [],
   "source": [
    "data = pos + neg\n",
    "labels = pos_labels + neg_labels\n",
    "\n",
    "from sklearn.model_selection import train_test_split\n",
    "train, dev, train_labels, validation_labels = train_test_split(\n",
    "    data,\n",
    "    labels,\n",
    "    test_size = 0.2,\n",
    "    random_state=1,\n",
    "    stratify=labels)"
   ]
  },
  {
   "cell_type": "code",
   "execution_count": 15,
   "metadata": {
    "colab": {
     "base_uri": "https://localhost:8080/",
     "height": 70
    },
    "colab_type": "code",
    "id": "0tf1CPZOpMSt",
    "outputId": "341b322b-d6dc-4748-f498-93767caf960e"
   },
   "outputs": [
    {
     "name": "stdout",
     "output_type": "stream",
     "text": [
      "Counter({'PF01823_rp15_MACPF_659.txt': 527, 'PF03494_full_Beta-APP_556.txt': 445, 'PF01702_seed_TGT_541.txt': 433, 'PF03318_full_ETX_MTX2_440.txt': 352, 'PF06369_full_anemone_cytotox_363.txt': 290, 'PF12261_full_T_hemolysin_327.txt': 262, 'PF06355_full_Aegerolysin_308.txt': 246, 'PF00019_seed_TGF_beta_291.txt': 233, 'PF09396_full_Thrombin_light_233.txt': 186, 'PF11393_full_T4BSS_DotI_IcmL_214.txt': 171, 'PF01117_full_Aerolysin_207.txt': 166, 'PF03945_full_Endotoxin_N_180.txt': 144, 'PF00870_rp15_P53_160.txt': 128, 'PF00377_full_Prion_159.txt': 127, 'PF00729_full_Viral_coat_149.txt': 119, 'PF00010_seed_HLH_146.txt': 117, 'PF05105_seed_Phage_holin_4_1_131.txt': 105, 'PF02793_seed_HRM_126.txt': 101, 'PF01049_seed_Cadherin_C_98.txt': 78, 'PF06083_seed_IL17_93.txt': 74, 'PF07968_full_Leukocidin_89.txt': 71, 'PF07733_seed_DNA_pol3_alpha_88.txt': 70, 'PF01338_full_Bac_thur_toxin_87.txt': 70, 'PF00992_seed_Troponin_87.txt': 70, 'PF17416_full_Glycoprot_B_PH1_82.txt': 66, 'PF03944_seed_Endotoxin_C_80.txt': 64, 'PF02884_seed_Lyase_8_C_76.txt': 61, 'PF00440_seed_tetR_N_74.txt': 59, 'PF07654_seed_C1-set_71.txt': 57, 'PF00089_seed_Trypsin_70.txt': 56, 'PF06109_full_HlyE_62.txt': 50, 'PF05802_full_EspB_60.txt': 48, 'PF18063_full_BB_PF_52.txt': 42, 'PF05366_full_Sarcolipin_51.txt': 41, 'PF08027_full_Abumin_I_48.txt': 38, 'PF12920_full_TcdA_TcdB_pore_46.txt': 37, 'PF00509_full_Hemagglutinin_40.txt': 32, 'PF00555_seed_Endotoxin_M_36.txt': 29, 'PF04877_full_Harpin_35.txt': 28, 'PF01650_seed_peptidase_C13_34.txt': 27, 'PF17848_seed_zf-ACC_33.txt': 26, 'PF07740_seed_Toxin_12_31.txt': 25, 'PF18515_full_Rh5_28.txt': 22, 'PF00049_seed_Insulin_28.txt': 22, 'PF01024_full_Colicin_26.txt': 21, 'PF17475_full_Binary_toxB_2_16.txt': 13, 'PF12563_full_Hemolysin_N_12.txt': 10, 'PF03505_full_Clenterotox_9.txt': 7, 'PF18684_full_PlyB_C_8.txt': 6})\n",
      "Counter({'PF01823_rp15_MACPF_659.txt': 132, 'PF03494_full_Beta-APP_556.txt': 111, 'PF01702_seed_TGT_541.txt': 108, 'PF03318_full_ETX_MTX2_440.txt': 88, 'PF06369_full_anemone_cytotox_363.txt': 73, 'PF12261_full_T_hemolysin_327.txt': 65, 'PF06355_full_Aegerolysin_308.txt': 62, 'PF00019_seed_TGF_beta_291.txt': 58, 'PF09396_full_Thrombin_light_233.txt': 47, 'PF11393_full_T4BSS_DotI_IcmL_214.txt': 43, 'PF01117_full_Aerolysin_207.txt': 41, 'PF03945_full_Endotoxin_N_180.txt': 36, 'PF00870_rp15_P53_160.txt': 32, 'PF00377_full_Prion_159.txt': 32, 'PF00729_full_Viral_coat_149.txt': 30, 'PF00010_seed_HLH_146.txt': 29, 'PF05105_seed_Phage_holin_4_1_131.txt': 26, 'PF02793_seed_HRM_126.txt': 25, 'PF01049_seed_Cadherin_C_98.txt': 20, 'PF06083_seed_IL17_93.txt': 19, 'PF07968_full_Leukocidin_89.txt': 18, 'PF07733_seed_DNA_pol3_alpha_88.txt': 18, 'PF01338_full_Bac_thur_toxin_87.txt': 17, 'PF00992_seed_Troponin_87.txt': 17, 'PF03944_seed_Endotoxin_C_80.txt': 16, 'PF17416_full_Glycoprot_B_PH1_82.txt': 16, 'PF02884_seed_Lyase_8_C_76.txt': 15, 'PF00440_seed_tetR_N_74.txt': 15, 'PF07654_seed_C1-set_71.txt': 14, 'PF00089_seed_Trypsin_70.txt': 14, 'PF05802_full_EspB_60.txt': 12, 'PF06109_full_HlyE_62.txt': 12, 'PF18063_full_BB_PF_52.txt': 10, 'PF05366_full_Sarcolipin_51.txt': 10, 'PF08027_full_Abumin_I_48.txt': 10, 'PF12920_full_TcdA_TcdB_pore_46.txt': 9, 'PF00509_full_Hemagglutinin_40.txt': 8, 'PF04877_full_Harpin_35.txt': 7, 'PF01650_seed_peptidase_C13_34.txt': 7, 'PF17848_seed_zf-ACC_33.txt': 7, 'PF00555_seed_Endotoxin_M_36.txt': 7, 'PF18515_full_Rh5_28.txt': 6, 'PF00049_seed_Insulin_28.txt': 6, 'PF07740_seed_Toxin_12_31.txt': 6, 'PF01024_full_Colicin_26.txt': 5, 'PF17475_full_Binary_toxB_2_16.txt': 3, 'PF12563_full_Hemolysin_N_12.txt': 2, 'PF03505_full_Clenterotox_9.txt': 2, 'PF18684_full_PlyB_C_8.txt': 2})\n"
     ]
    }
   ],
   "source": [
    "from collections import Counter\n",
    "\n",
    "print(Counter(train_labels))\n",
    "print(Counter(validation_labels))"
   ]
  },
  {
   "cell_type": "markdown",
   "metadata": {
    "colab_type": "text",
    "id": "s9SIRvflOoEl"
   },
   "source": [
    "## Loading the data"
   ]
  },
  {
   "cell_type": "code",
   "execution_count": 19,
   "metadata": {
    "colab": {
     "base_uri": "https://localhost:8080/",
     "height": 281
    },
    "colab_type": "code",
    "id": "cZLCHqCJOoE7",
    "outputId": "61cce005-e2bd-44fe-cf12-080504a170e4"
   },
   "outputs": [
    {
     "data": {
      "image/png": "[encoded data removed]",
      "text/plain": [
       "<Figure size 432x288 with 2 Axes>"
      ]
     },
     "metadata": {
      "needs_background": "light"
     },
     "output_type": "display_data"
    }
   ],
   "source": [
    "# Length of sequence in train data.\n",
    "trainlen= [len(x) for x in train]\n",
    "devlen= [len(x) for x in dev]\n",
    "\n",
    "def plot_seq_count(lengths, data_name):\n",
    "    seaborn.distplot(lengths)\n",
    "    plt.title(f'Sequence char count: {data_name}')\n",
    "    plt.grid(True)\n",
    "\n",
    "plt.subplot(1, 3, 1)\n",
    "plot_seq_count(trainlen, 'Train')\n",
    "\n",
    "plt.subplot(1, 3, 2)\n",
    "plot_seq_count(devlen, 'Dev')\n",
    "\n",
    "plt.subplots_adjust(right=3.0)\n",
    "plt.show()"
   ]
  },
  {
   "cell_type": "code",
   "execution_count": 20,
   "metadata": {
    "colab": {
     "base_uri": "https://localhost:8080/",
     "height": 50
    },
    "colab_type": "code",
    "id": "fsZvHMfitHf3",
    "outputId": "761b273d-d26b-4e85-8e0b-072f9e4269df"
   },
   "outputs": [
    {
     "name": "stdout",
     "output_type": "stream",
     "text": [
      "681\n",
      "674\n"
     ]
    }
   ],
   "source": [
    "print(max(trainlen))\n",
    "print(max(devlen))"
   ]
  },
  {
   "cell_type": "code",
   "execution_count": 22,
   "metadata": {
    "colab": {},
    "colab_type": "code",
    "id": "npNNwSSqZflr"
   },
   "outputs": [],
   "source": [
    "vocab_size = 21\n",
    "max_length = 700\n",
    "trunc_type = \"post\"\n",
    "padding_type = \"post\"\n",
    "oov_tok = \"<OOV>\"\n",
    "\n",
    "trainTAPE = [tokenizerTAPE.encode(w.upper()) for w in train]\n",
    "valTAPE = [tokenizerTAPE.encode(w.upper()) for w in dev]\n",
    "\n",
    "TAPEtrain = pad_sequences(trainTAPE, maxlen=max_length, padding=padding_type)\n",
    "TAPEvalidation = pad_sequences(valTAPE, maxlen=max_length, padding=padding_type)"
   ]
  },
  {
   "cell_type": "code",
   "execution_count": 23,
   "metadata": {},
   "outputs": [
    {
     "data": {
      "text/plain": [
       "5472"
      ]
     },
     "execution_count": 23,
     "metadata": {},
     "output_type": "execute_result"
    }
   ],
   "source": [
    "len(TAPEtrain)"
   ]
  },
  {
   "cell_type": "code",
   "execution_count": 24,
   "metadata": {},
   "outputs": [],
   "source": [
    "from torch.utils.data import DataLoader\n",
    "from tqdm.notebook import tqdm\n",
    "batch_size = 2\n",
    "\n",
    "dataloader_train = DataLoader(\n",
    "    TAPEtrain,\n",
    "    batch_size=batch_size\n",
    ")\n",
    "\n",
    "dataloader_validation = DataLoader(\n",
    "    TAPEvalidation,\n",
    "    batch_size=batch_size\n",
    ")"
   ]
  },
  {
   "cell_type": "code",
   "execution_count": 25,
   "metadata": {},
   "outputs": [
    {
     "data": {
      "text/plain": [
       "10975"
      ]
     },
     "execution_count": 25,
     "metadata": {},
     "output_type": "execute_result"
    }
   ],
   "source": [
    "del pos, neg, s, data, labels, neg_seqs, neg_labels, pos_seqs, pos_labels, trainTAPE, valTAPE, TAPEtrain, TAPEvalidation\n",
    "gc.collect()"
   ]
  },
  {
   "cell_type": "code",
   "execution_count": 39,
   "metadata": {},
   "outputs": [],
   "source": [
    "torch.cuda.empty_cache() "
   ]
  },
  {
   "cell_type": "code",
   "execution_count": 27,
   "metadata": {
    "colab": {},
    "colab_type": "code",
    "id": "JK-3pW5Ajuha"
   },
   "outputs": [
    {
     "name": "stdout",
     "output_type": "stream",
     "text": [
      "0\n",
      "100\n",
      "200\n",
      "300\n",
      "400\n",
      "500\n",
      "600\n",
      "700\n",
      "800\n",
      "900\n",
      "1000\n",
      "1100\n",
      "1200\n",
      "1300\n",
      "1400\n",
      "1500\n",
      "1600\n",
      "1700\n",
      "1800\n",
      "1900\n",
      "2000\n",
      "2100\n",
      "2200\n",
      "2300\n",
      "2400\n",
      "2500\n",
      "2600\n",
      "2700\n"
     ]
    }
   ],
   "source": [
    "#tqdm does not work and throws notebook validation error..\n",
    "TAPEncoded_train = []\n",
    "iternum = 0\n",
    "for batch in dataloader_train:\n",
    "    b = batch.to(torch.long)\n",
    "    output = modelTAPE(b.to(device))[1]\n",
    "    TAPEncoded_train.append(output.cpu().detach().numpy())\n",
    "    if iternum%100 == 0:\n",
    "        print(iternum)\n",
    "    iternum = iternum + 1"
   ]
  },
  {
   "cell_type": "code",
   "execution_count": 28,
   "metadata": {},
   "outputs": [
    {
     "name": "stdout",
     "output_type": "stream",
     "text": [
      "0\n",
      "100\n",
      "200\n",
      "300\n",
      "400\n",
      "500\n",
      "600\n"
     ]
    }
   ],
   "source": [
    "TAPEncoded_val = []\n",
    "iternum = 0\n",
    "for batch in dataloader_validation:\n",
    "    b = batch.to(torch.long)\n",
    "    output = modelTAPE(b.to(device))[1]\n",
    "    TAPEncoded_val.append(output.cpu().detach().numpy())\n",
    "    if iternum%100 == 0:\n",
    "        print(iternum)\n",
    "    iternum = iternum + 1"
   ]
  },
  {
   "cell_type": "code",
   "execution_count": 30,
   "metadata": {},
   "outputs": [],
   "source": [
    "path = \"./\" + \"TAPEncoded_train\" + \".pickle\"\n",
    "output = open(path, 'w+b')\n",
    "pickle.dump(TAPEncoded_train, output)\n",
    "output.close()\n",
    "\n",
    "path = \"./\" + \"TAPEncoded_val\" + \".pickle\"\n",
    "output = open(path, 'w+b')\n",
    "pickle.dump(TAPEncoded_val, output)\n",
    "output.close()"
   ]
  },
  {
   "cell_type": "code",
   "execution_count": 15,
   "metadata": {
    "colab": {
     "base_uri": "https://localhost:8080/",
     "height": 33
    },
    "colab_type": "code",
    "id": "vBZOxshXOoFX",
    "outputId": "62b622dd-e3cc-49e9-c2e6-da057906b4b3"
   },
   "outputs": [
    {
     "data": {
      "text/plain": [
       "((5472,), (1368,))"
      ]
     },
     "execution_count": 15,
     "metadata": {},
     "output_type": "execute_result"
    }
   ],
   "source": [
    "from sklearn.preprocessing import LabelEncoder\n",
    "le = LabelEncoder()\n",
    "\n",
    "train_labels = le.fit_transform(train_labels)\n",
    "validation_labels = le.transform(validation_labels)\n",
    "#test_labels = le.transform(test_labels)\n",
    "\n",
    "train_labels.shape, validation_labels.shape"
   ]
  },
  {
   "cell_type": "code",
   "execution_count": 16,
   "metadata": {},
   "outputs": [
    {
     "name": "stdout",
     "output_type": "stream",
     "text": [
      "{0: 'PF00010_seed_HLH_146.txt', 1: 'PF00019_seed_TGF_beta_291.txt', 2: 'PF00049_seed_Insulin_28.txt', 3: 'PF00089_seed_Trypsin_70.txt', 4: 'PF00377_full_Prion_159.txt', 5: 'PF00440_seed_tetR_N_74.txt', 6: 'PF00509_full_Hemagglutinin_40.txt', 7: 'PF00729_full_Viral_coat_149.txt', 8: 'PF00870_rp15_P53_160.txt', 9: 'PF00992_seed_Troponin_87.txt', 10: 'PF01049_seed_Cadherin_C_98.txt', 11: 'PF01650_seed_peptidase_C13_34.txt', 12: 'PF01702_seed_TGT_541.txt', 13: 'PF02793_seed_HRM_126.txt', 14: 'PF02884_seed_Lyase_8_C_76.txt', 15: 'PF03494_full_Beta-APP_556.txt', 16: 'PF05366_full_Sarcolipin_51.txt', 17: 'PF06083_seed_IL17_93.txt', 18: 'PF07654_seed_C1-set_71.txt', 19: 'PF07733_seed_DNA_pol3_alpha_88.txt', 20: 'PF07740_seed_Toxin_12_31.txt', 21: 'PF08027_full_Abumin_I_48.txt', 22: 'PF09396_full_Thrombin_light_233.txt', 23: 'PF17416_full_Glycoprot_B_PH1_82.txt', 24: 'PF17848_seed_zf-ACC_33.txt', 25: 'PF18515_full_Rh5_28.txt', 26: 'pos_PF00555_seed_Endotoxin_M_36.txt', 27: 'pos_PF01024_full_Colicin_26.txt', 28: 'pos_PF01117_full_Aerolysin_207.txt', 29: 'pos_PF01338_full_Bac_thur_toxin_87.txt', 30: 'pos_PF01823_rp15_MACPF_659.txt', 31: 'pos_PF03318_full_ETX_MTX2_440.txt', 32: 'pos_PF03505_full_Clenterotox_9.txt', 33: 'pos_PF03944_seed_Endotoxin_C_80.txt', 34: 'pos_PF03945_full_Endotoxin_N_180.txt', 35: 'pos_PF04877_full_Harpin_35.txt', 36: 'pos_PF05105_seed_Phage_holin_4_1_131.txt', 37: 'pos_PF05802_full_EspB_60.txt', 38: 'pos_PF06109_full_HlyE_62.txt', 39: 'pos_PF06355_full_Aegerolysin_308.txt', 40: 'pos_PF06369_full_anemone_cytotox_363.txt', 41: 'pos_PF07968_full_Leukocidin_89.txt', 42: 'pos_PF11393_full_T4BSS_DotI_IcmL_214.txt', 43: 'pos_PF12261_full_T_hemolysin_327.txt', 44: 'pos_PF12563_full_Hemolysin_N_12.txt', 45: 'pos_PF12920_full_TcdA_TcdB_pore_46.txt', 46: 'pos_PF17475_full_Binary_toxB_2_16.txt', 47: 'pos_PF18063_full_BB_PF_52.txt', 48: 'pos_PF18684_full_PlyB_C_8.txt'}\n"
     ]
    }
   ],
   "source": [
    "le_name_mapping = dict(zip(le.classes_, le.transform(le.classes_)))\n",
    "umap_map = {v: k for k, v in le_name_mapping.items()}\n",
    "print(umap_map)"
   ]
  },
  {
   "cell_type": "code",
   "execution_count": 32,
   "metadata": {
    "colab": {},
    "colab_type": "code",
    "id": "YN9uu1b4OoFe"
   },
   "outputs": [],
   "source": [
    "# lr_schedule = tf.keras.callbacks.LearningRateScheduler(\n",
    "#     lambda epoch: 1e-5 * 10**(epoch / 20))\n",
    "\n",
    "es = tf.keras.callbacks.EarlyStopping(monitor='val_accuracy', mode='max', min_delta=0.01, patience=5)"
   ]
  },
  {
   "cell_type": "code",
   "execution_count": 34,
   "metadata": {
    "colab": {},
    "colab_type": "code",
    "id": "89fHOOEoWYm9"
   },
   "outputs": [],
   "source": [
    "numclass = max(train_labels) + 1"
   ]
  },
  {
   "cell_type": "code",
   "execution_count": 36,
   "metadata": {},
   "outputs": [
    {
     "name": "stdout",
     "output_type": "stream",
     "text": [
      "Model: \"model\"\n",
      "_________________________________________________________________\n",
      "Layer (type)                 Output Shape              Param #   \n",
      "=================================================================\n",
      "input_3 (InputLayer)         [(None, 768)]             0         \n",
      "_________________________________________________________________\n",
      "dense_1 (Dense)              (None, 49)                37681     \n",
      "=================================================================\n",
      "Total params: 37,681\n",
      "Trainable params: 37,681\n",
      "Non-trainable params: 0\n",
      "_________________________________________________________________\n"
     ]
    }
   ],
   "source": [
    "input_x = tf.keras.layers.Input(shape=768) #768 is the embedding dimension\n",
    "out = tf.keras.layers.Dense(numclass, activation=\"softmax\")(input_x) \n",
    "model = tf.keras.Model(inputs=input_x, outputs=out)\n",
    "model.compile(loss='sparse_categorical_crossentropy',optimizer=\"adam\",metrics=['accuracy'])\n",
    "model.summary()"
   ]
  },
  {
   "cell_type": "code",
   "execution_count": 42,
   "metadata": {},
   "outputs": [],
   "source": [
    "TAPEncoded_train = np.array(TAPEncoded_train)"
   ]
  },
  {
   "cell_type": "code",
   "execution_count": 48,
   "metadata": {},
   "outputs": [],
   "source": [
    "TAPEncoded_train = TAPEncoded_train.reshape(5472,768)"
   ]
  },
  {
   "cell_type": "code",
   "execution_count": 50,
   "metadata": {},
   "outputs": [],
   "source": [
    "TAPEncoded_val = np.array(TAPEncoded_val)"
   ]
  },
  {
   "cell_type": "code",
   "execution_count": 53,
   "metadata": {},
   "outputs": [],
   "source": [
    "TAPEncoded_val = TAPEncoded_val.reshape(-1,768)"
   ]
  },
  {
   "cell_type": "code",
   "execution_count": 55,
   "metadata": {},
   "outputs": [
    {
     "name": "stdout",
     "output_type": "stream",
     "text": [
      "Epoch 1/100\n",
      "171/171 - 0s - loss: 0.6258 - accuracy: 0.8540 - val_loss: 0.6442 - val_accuracy: 0.8487\n",
      "Epoch 2/100\n",
      "171/171 - 0s - loss: 0.6159 - accuracy: 0.8551 - val_loss: 0.6170 - val_accuracy: 0.8633\n",
      "Epoch 3/100\n",
      "171/171 - 0s - loss: 0.6024 - accuracy: 0.8635 - val_loss: 0.6130 - val_accuracy: 0.8545\n",
      "Epoch 4/100\n",
      "171/171 - 0s - loss: 0.5912 - accuracy: 0.8596 - val_loss: 0.6076 - val_accuracy: 0.8575\n",
      "Epoch 5/100\n",
      "171/171 - 0s - loss: 0.5794 - accuracy: 0.8640 - val_loss: 0.5837 - val_accuracy: 0.8604\n",
      "Epoch 6/100\n",
      "171/171 - 0s - loss: 0.5680 - accuracy: 0.8662 - val_loss: 0.5742 - val_accuracy: 0.8662\n",
      "Epoch 7/100\n",
      "171/171 - 0s - loss: 0.5554 - accuracy: 0.8723 - val_loss: 0.5642 - val_accuracy: 0.8765\n",
      "Epoch 8/100\n",
      "171/171 - 0s - loss: 0.5491 - accuracy: 0.8697 - val_loss: 0.5523 - val_accuracy: 0.8750\n",
      "Epoch 9/100\n",
      "171/171 - 0s - loss: 0.5353 - accuracy: 0.8741 - val_loss: 0.5674 - val_accuracy: 0.8633\n",
      "Epoch 10/100\n",
      "171/171 - 0s - loss: 0.5302 - accuracy: 0.8739 - val_loss: 0.5341 - val_accuracy: 0.8838\n",
      "Epoch 11/100\n",
      "171/171 - 0s - loss: 0.5194 - accuracy: 0.8743 - val_loss: 0.5388 - val_accuracy: 0.8852\n",
      "Epoch 12/100\n",
      "171/171 - 0s - loss: 0.5047 - accuracy: 0.8854 - val_loss: 0.5359 - val_accuracy: 0.8845\n"
     ]
    }
   ],
   "source": [
    "history = model.fit(TAPEncoded_train, train_labels, epochs=100, validation_data=(TAPEncoded_val, validation_labels), verbose=2, callbacks=[es])"
   ]
  },
  {
   "cell_type": "code",
   "execution_count": 56,
   "metadata": {},
   "outputs": [],
   "source": [
    "del TAPEncoded_train, TAPEncoded_val\n",
    "gc.collect()\n",
    "torch.cuda.empty_cache() "
   ]
  },
  {
   "cell_type": "code",
   "execution_count": 19,
   "metadata": {},
   "outputs": [],
   "source": [
    "vocab_size = 21\n",
    "max_length = 400 #modified to 400 for RAM reasons, actually would have probably been fine only 24% RAM\n",
    "trunc_type = \"post\"\n",
    "padding_type = \"post\"\n",
    "oov_tok = \"<OOV>\"\n",
    "\n",
    "trainTAPE = [tokenizerTAPE.encode(w.upper()) for w in train]\n",
    "valTAPE = [tokenizerTAPE.encode(w.upper()) for w in dev]\n",
    "\n",
    "TAPEtrain = pad_sequences(trainTAPE, maxlen=max_length, padding=padding_type)\n",
    "TAPEvalidation = pad_sequences(valTAPE, maxlen=max_length, padding=padding_type)"
   ]
  },
  {
   "cell_type": "code",
   "execution_count": null,
   "metadata": {},
   "outputs": [],
   "source": [
    "batch_size = 1\n",
    "dataloader_train = DataLoader(\n",
    "    TAPEtrain,\n",
    "    batch_size=batch_size\n",
    ")\n",
    "dataloader_validation = DataLoader(\n",
    "    TAPEvalidation,\n",
    "    batch_size=batch_size\n",
    ")"
   ]
  },
  {
   "cell_type": "code",
   "execution_count": 58,
   "metadata": {},
   "outputs": [
    {
     "data": {
      "text/plain": [
       "40"
      ]
     },
     "execution_count": 58,
     "metadata": {},
     "output_type": "execute_result"
    }
   ],
   "source": [
    "del trainTAPE, valTAPE, TAPEtrain, TAPEvalidation\n",
    "gc.collect()"
   ]
  },
  {
   "cell_type": "code",
   "execution_count": 59,
   "metadata": {},
   "outputs": [
    {
     "name": "stdout",
     "output_type": "stream",
     "text": [
      "0\n",
      "100\n",
      "200\n",
      "300\n",
      "400\n",
      "500\n",
      "600\n",
      "700\n",
      "800\n",
      "900\n",
      "1000\n",
      "1100\n",
      "1200\n",
      "1300\n",
      "1400\n",
      "1500\n",
      "1600\n",
      "1700\n",
      "1800\n",
      "1900\n",
      "2000\n",
      "2100\n",
      "2200\n",
      "2300\n",
      "2400\n",
      "2500\n",
      "2600\n",
      "2700\n",
      "2800\n",
      "2900\n",
      "3000\n",
      "3100\n",
      "3200\n",
      "3300\n",
      "3400\n",
      "3500\n",
      "3600\n",
      "3700\n",
      "3800\n",
      "3900\n",
      "4000\n",
      "4100\n",
      "4200\n",
      "4300\n",
      "4400\n",
      "4500\n",
      "4600\n",
      "4700\n",
      "4800\n",
      "4900\n",
      "5000\n",
      "5100\n",
      "5200\n",
      "5300\n",
      "5400\n"
     ]
    }
   ],
   "source": [
    "#now getting the full embedding for all amino acid, not the pooled one\n",
    "TAPEncoded_train = []\n",
    "iternum = 0\n",
    "for batch in dataloader_train:\n",
    "    b = batch.to(torch.long)\n",
    "    output = modelTAPE(b.to(device))[0]\n",
    "    TAPEncoded_train.append(output.cpu().detach().numpy())\n",
    "    if iternum%100 == 0:\n",
    "        print(iternum)\n",
    "    iternum = iternum + 1"
   ]
  },
  {
   "cell_type": "code",
   "execution_count": 60,
   "metadata": {},
   "outputs": [
    {
     "name": "stdout",
     "output_type": "stream",
     "text": [
      "0\n",
      "100\n",
      "200\n",
      "300\n",
      "400\n",
      "500\n",
      "600\n",
      "700\n",
      "800\n",
      "900\n",
      "1000\n",
      "1100\n",
      "1200\n",
      "1300\n"
     ]
    }
   ],
   "source": [
    "TAPEncoded_val = []\n",
    "iternum = 0\n",
    "for batch in dataloader_validation:\n",
    "    b = batch.to(torch.long)\n",
    "    output = modelTAPE(b.to(device))[0]\n",
    "    TAPEncoded_val.append(output.cpu().detach().numpy())\n",
    "    if iternum%100 == 0:\n",
    "        print(iternum)\n",
    "    iternum = iternum + 1"
   ]
  },
  {
   "cell_type": "code",
   "execution_count": 61,
   "metadata": {},
   "outputs": [],
   "source": [
    "# path = \"./\" + \"TAPEfull_train\" + \".pickle\"\n",
    "# output = open(path, 'w+b')\n",
    "# pickle.dump(TAPEncoded_train, output)\n",
    "# output.close()\n",
    "\n",
    "# path = \"./\" + \"TAPEfull_val\" + \".pickle\"\n",
    "# output = open(path, 'w+b')\n",
    "# pickle.dump(TAPEncoded_val, output)\n",
    "# output.close()"
   ]
  },
  {
   "cell_type": "code",
   "execution_count": 20,
   "metadata": {},
   "outputs": [],
   "source": [
    "# path = \"./\" + \"train_labels\" + \".pickle\"\n",
    "# output = open(path, 'w+b')\n",
    "# pickle.dump(train_labels, output)\n",
    "# output.close()\n",
    "\n",
    "# path = \"./\" + \"validation_labels\" + \".pickle\"\n",
    "# output = open(path, 'w+b')\n",
    "# pickle.dump(validation_labels, output)\n",
    "# output.close()"
   ]
  },
  {
   "cell_type": "code",
   "execution_count": 17,
   "metadata": {},
   "outputs": [],
   "source": [
    "path = \"./\" + \"TAPEfull_train\" + \".pickle\"\n",
    "array_file = open(path, 'rb')\n",
    "TAPEncoded_train = pickle.load(array_file)\n",
    "array_file.close()\n",
    "\n",
    "path = \"./\" + \"TAPEfull_val\" + \".pickle\"\n",
    "array_file = open(path, 'rb')\n",
    "TAPEncoded_val = pickle.load(array_file)\n",
    "array_file.close()\n",
    "\n",
    "path = \"./\" + \"train_labels\" + \".pickle\"\n",
    "array_file = open(path, 'rb')\n",
    "train_labels = pickle.load(array_file)\n",
    "array_file.close()\n",
    "\n",
    "path = \"./\" + \"validation_labels\" + \".pickle\"\n",
    "array_file = open(path, 'rb')\n",
    "validation_labels = pickle.load(array_file)\n",
    "array_file.close()\n",
    "\n",
    "TAPEncoded_train = np.array(TAPEncoded_train)\n",
    "\n",
    "TAPEncoded_train = np.squeeze(TAPEncoded_train)\n",
    "\n",
    "TAPEncoded_val = np.array(TAPEncoded_val)\n",
    "TAPEncoded_val = np.squeeze(TAPEncoded_val)"
   ]
  },
  {
   "cell_type": "code",
   "execution_count": 5,
   "metadata": {
    "colab": {},
    "colab_type": "code",
    "id": "TCv_fddVOoFc"
   },
   "outputs": [],
   "source": [
    "def residual_block(x, filters, dil):\n",
    "    shortcut = x\n",
    "    bn1 = tf.keras.layers.BatchNormalization()(x)\n",
    "    a1 = tf.keras.layers.Activation(\"relu\")(bn1)\n",
    "    conv1 = tf.keras.layers.Conv1D(filters, 3, dilation_rate = dil, padding=\"same\")(a1) #1100 filters and 9 kernel size in ProtCNN\n",
    "    \n",
    "    bn2 = tf.keras.layers.BatchNormalization()(conv1)\n",
    "    a2 = tf.keras.layers.Activation(\"relu\")(bn2)\n",
    "    conv2 = tf.keras.layers.Conv1D(filters, 1, padding=\"same\")(a2)\n",
    "    \n",
    "    x = tf.keras.layers.Add()([conv2, shortcut])\n",
    "    \n",
    "    return x"
   ]
  },
  {
   "cell_type": "code",
   "execution_count": 21,
   "metadata": {},
   "outputs": [
    {
     "name": "stdout",
     "output_type": "stream",
     "text": [
      "Model: \"model_5\"\n",
      "__________________________________________________________________________________________________\n",
      "Layer (type)                    Output Shape         Param #     Connected to                     \n",
      "==================================================================================================\n",
      "input_7 (InputLayer)            [(None, 400, 768)]   0                                            \n",
      "__________________________________________________________________________________________________\n",
      "conv1d_30 (Conv1D)              (None, 400, 128)     295040      input_7[0][0]                    \n",
      "__________________________________________________________________________________________________\n",
      "batch_normalization_24 (BatchNo (None, 400, 128)     512         conv1d_30[0][0]                  \n",
      "__________________________________________________________________________________________________\n",
      "activation_24 (Activation)      (None, 400, 128)     0           batch_normalization_24[0][0]     \n",
      "__________________________________________________________________________________________________\n",
      "conv1d_31 (Conv1D)              (None, 400, 128)     49280       activation_24[0][0]              \n",
      "__________________________________________________________________________________________________\n",
      "batch_normalization_25 (BatchNo (None, 400, 128)     512         conv1d_31[0][0]                  \n",
      "__________________________________________________________________________________________________\n",
      "activation_25 (Activation)      (None, 400, 128)     0           batch_normalization_25[0][0]     \n",
      "__________________________________________________________________________________________________\n",
      "conv1d_32 (Conv1D)              (None, 400, 128)     16512       activation_25[0][0]              \n",
      "__________________________________________________________________________________________________\n",
      "add_12 (Add)                    (None, 400, 128)     0           conv1d_32[0][0]                  \n",
      "                                                                 conv1d_30[0][0]                  \n",
      "__________________________________________________________________________________________________\n",
      "batch_normalization_26 (BatchNo (None, 400, 128)     512         add_12[0][0]                     \n",
      "__________________________________________________________________________________________________\n",
      "activation_26 (Activation)      (None, 400, 128)     0           batch_normalization_26[0][0]     \n",
      "__________________________________________________________________________________________________\n",
      "conv1d_33 (Conv1D)              (None, 400, 128)     49280       activation_26[0][0]              \n",
      "__________________________________________________________________________________________________\n",
      "batch_normalization_27 (BatchNo (None, 400, 128)     512         conv1d_33[0][0]                  \n",
      "__________________________________________________________________________________________________\n",
      "activation_27 (Activation)      (None, 400, 128)     0           batch_normalization_27[0][0]     \n",
      "__________________________________________________________________________________________________\n",
      "conv1d_34 (Conv1D)              (None, 400, 128)     16512       activation_27[0][0]              \n",
      "__________________________________________________________________________________________________\n",
      "add_13 (Add)                    (None, 400, 128)     0           conv1d_34[0][0]                  \n",
      "                                                                 add_12[0][0]                     \n",
      "__________________________________________________________________________________________________\n",
      "max_pooling1d_5 (MaxPooling1D)  (None, 1, 128)       0           add_13[0][0]                     \n",
      "__________________________________________________________________________________________________\n",
      "flatten_5 (Flatten)             (None, 128)          0           max_pooling1d_5[0][0]            \n",
      "__________________________________________________________________________________________________\n",
      "dense_5 (Dense)                 (None, 49)           6321        flatten_5[0][0]                  \n",
      "==================================================================================================\n",
      "Total params: 434,993\n",
      "Trainable params: 433,969\n",
      "Non-trainable params: 1,024\n",
      "__________________________________________________________________________________________________\n"
     ]
    }
   ],
   "source": [
    "# batch_size = 8\n",
    "# n_timesteps = 400\n",
    "# n_features = 768\n",
    "# input_x = tf.keras.layers.Input(shape=(n_timesteps,n_features))\n",
    "# bi_rnn = tf.keras.layers.Bidirectional(tf.keras.layers.LSTM(16, batch_input_shape=(batch_size, n_timesteps, n_features), \n",
    "#                                                             kernel_regularizer=tf.keras.regularizers.l2(0.01), \n",
    "#                                                             recurrent_regularizer=tf.keras.regularizers.l2(0.01), \n",
    "#                                                             bias_regularizer=tf.keras.regularizers.l2(0.01)))(input_x)\n",
    "# out = tf.keras.layers.Dense(49, activation=\"softmax\")(bi_rnn) \n",
    "# model = tf.keras.Model(inputs=input_x, outputs=out)\n",
    "# model.compile(loss='sparse_categorical_crossentropy',optimizer=\"adam\",metrics=['accuracy'])\n",
    "# model.summary()\n",
    "\n",
    "input_x = tf.keras.layers.Input(shape=(400,768))\n",
    "x = tf.keras.layers.Conv1D(128, 3, padding=\"same\")(input_x)\n",
    "x = residual_block(x, 128, 1)\n",
    "#x = tf.keras.layers.Dropout(0.3)(x)\n",
    "x = residual_block(x, 128, 2) #4 blocks of these in ProtCNN\n",
    "x = tf.keras.layers.MaxPooling1D(400)(x)\n",
    "\n",
    "x = tf.keras.layers.Flatten()(x)\n",
    "out = tf.keras.layers.Dense(49, activation=\"softmax\")(x) \n",
    "\n",
    "model = tf.keras.Model(inputs=input_x, outputs=out)\n",
    "#optimizer = tf.keras.optimizers.Adam(lr=1e-5)\n",
    "\n",
    "model.compile(loss='sparse_categorical_crossentropy',optimizer=\"adam\",metrics=['accuracy'])\n",
    "model.summary()"
   ]
  },
  {
   "cell_type": "code",
   "execution_count": 17,
   "metadata": {},
   "outputs": [],
   "source": [
    "# lr_schedule = tf.keras.callbacks.LearningRateScheduler(\n",
    "#     lambda epoch: 1e-5 * 10**(epoch / 20))\n",
    "\n",
    "es = tf.keras.callbacks.EarlyStopping(monitor='val_accuracy', mode='max', min_delta=0.01, patience=5)"
   ]
  },
  {
   "cell_type": "code",
   "execution_count": 22,
   "metadata": {},
   "outputs": [
    {
     "name": "stdout",
     "output_type": "stream",
     "text": [
      "Epoch 1/25\n",
      "171/171 - 4s - loss: 1.0999 - accuracy: 0.7628 - val_loss: 0.2787 - val_accuracy: 0.9254\n",
      "Epoch 2/25\n",
      "171/171 - 4s - loss: 0.1661 - accuracy: 0.9556 - val_loss: 0.1838 - val_accuracy: 0.9444\n",
      "Epoch 3/25\n",
      "171/171 - 4s - loss: 0.0884 - accuracy: 0.9761 - val_loss: 0.2545 - val_accuracy: 0.9269\n",
      "Epoch 4/25\n",
      "171/171 - 4s - loss: 0.0349 - accuracy: 0.9921 - val_loss: 0.1217 - val_accuracy: 0.9605\n",
      "Epoch 5/25\n",
      "171/171 - 4s - loss: 0.0081 - accuracy: 0.9984 - val_loss: 0.0822 - val_accuracy: 0.9810\n",
      "Epoch 6/25\n",
      "171/171 - 4s - loss: 0.0057 - accuracy: 0.9987 - val_loss: 0.0904 - val_accuracy: 0.9744\n",
      "Epoch 7/25\n",
      "171/171 - 4s - loss: 0.0083 - accuracy: 0.9980 - val_loss: 0.0832 - val_accuracy: 0.9759\n",
      "Epoch 8/25\n",
      "171/171 - 4s - loss: 0.0019 - accuracy: 1.0000 - val_loss: 0.0651 - val_accuracy: 0.9810\n",
      "Epoch 9/25\n",
      "171/171 - 4s - loss: 7.8408e-04 - accuracy: 1.0000 - val_loss: 0.0638 - val_accuracy: 0.9825\n",
      "Epoch 10/25\n",
      "171/171 - 4s - loss: 5.7702e-04 - accuracy: 1.0000 - val_loss: 0.0626 - val_accuracy: 0.9825\n"
     ]
    }
   ],
   "source": [
    "history = model.fit(TAPEncoded_train, train_labels, epochs=25, validation_data=(TAPEncoded_val, validation_labels), verbose=2, callbacks=[es])"
   ]
  },
  {
   "cell_type": "code",
   "execution_count": 23,
   "metadata": {},
   "outputs": [
    {
     "name": "stdout",
     "output_type": "stream",
     "text": [
      "Saved model to disk\n"
     ]
    }
   ],
   "source": [
    "# serialize model to JSON\n",
    "model_json = model.to_json()\n",
    "with open(os.path.join(\"./Pfam_fasta\", \"TAPE_PFmodel.json\"), \"w\") as json_file:\n",
    "    json_file.write(model_json)\n",
    "# serialize weights to HDF5\n",
    "model.save_weights(os.path.join(\"./Pfam_fasta\", \"TAPE_PFmodel.h5\"))\n",
    "print(\"Saved model to disk\")"
   ]
  },
  {
   "cell_type": "code",
   "execution_count": 21,
   "metadata": {
    "colab": {},
    "colab_type": "code",
    "id": "DsU7zKDkOoE9"
   },
   "outputs": [],
   "source": [
    "def split_(word): \n",
    "    return [char for char in word]\n",
    "\n",
    "train_sentences = [[char for char in word] for word in train]\n",
    "validation_sentences = [[char for char in word] for word in dev]\n",
    "#test_sentences = test['sequence'].apply(lambda x: split_(x))"
   ]
  },
  {
   "cell_type": "code",
   "execution_count": null,
   "metadata": {
    "colab": {
     "base_uri": "https://localhost:8080/",
     "height": 33
    },
    "colab_type": "code",
    "id": "MpoLRnT0OoFN",
    "outputId": "79f02a60-1599-4a1e-fc7a-1b9e9e6e718f"
   },
   "outputs": [
    {
     "name": "stdout",
     "output_type": "stream",
     "text": [
      "{'<OOV>': 1, 'l': 2, 's': 3, 'g': 4, 'a': 5, 'v': 6, 't': 7, 'e': 8, 'i': 9, 'k': 10, 'd': 11, 'r': 12, 'n': 13, 'f': 14, 'p': 15, 'y': 16, 'q': 17, 'h': 18, 'm': 19, 'c': 20, 'w': 21, 'x': 22}\n"
     ]
    }
   ],
   "source": [
    "vocab_size = 21\n",
    "max_length = 700\n",
    "trunc_type = \"post\"\n",
    "padding_type = \"post\"\n",
    "oov_tok = \"<OOV>\"\n",
    "\n",
    "tokenizer = Tokenizer(oov_token=oov_tok, num_words = vocab_size)\n",
    "tokenizer.fit_on_texts(train_sentences)\n",
    "word_index = tokenizer.word_index\n",
    "print(word_index)\n",
    "\n",
    "train_sequences = tokenizer.texts_to_sequences(train_sentences)\n",
    "train_padded = pad_sequences(train_sequences, maxlen=max_length, padding=padding_type)\n",
    "# del train_sentences\n",
    "# del train_sequences\n",
    "# gc.collect()"
   ]
  },
  {
   "cell_type": "code",
   "execution_count": null,
   "metadata": {
    "colab": {},
    "colab_type": "code",
    "id": "3iy99ZfCJ34l"
   },
   "outputs": [],
   "source": [
    "validation_sequences = tokenizer.texts_to_sequences(validation_sentences)\n",
    "validation_padded = pad_sequences(validation_sequences, maxlen=max_length, padding=padding_type)\n",
    "# del validation_sentences\n",
    "# del validation_sequences\n",
    "# gc.collect()"
   ]
  },
  {
   "cell_type": "code",
   "execution_count": null,
   "metadata": {
    "colab": {
     "base_uri": "https://localhost:8080/",
     "height": 34
    },
    "colab_type": "code",
    "id": "uWFpKFynJ441",
    "outputId": "266f9885-008d-4392-8957-e1d6dd41996f"
   },
   "outputs": [
    {
     "data": {
      "text/plain": [
       "0"
      ]
     },
     "execution_count": 16,
     "metadata": {
      "tags": []
     },
     "output_type": "execute_result"
    }
   ],
   "source": [
    "test_sequences = tokenizer.texts_to_sequences(test_sentences)\n",
    "test_padded = pad_sequences(test_sequences, maxlen=max_length, padding=padding_type)\n",
    "# del test_sentences\n",
    "# del test_sequences\n",
    "# gc.collect()"
   ]
  },
  {
   "cell_type": "code",
   "execution_count": null,
   "metadata": {
    "colab": {},
    "colab_type": "code",
    "id": "UpmBGMoKJ85Z"
   },
   "outputs": [],
   "source": [
    "# takes too much space\n",
    "# solved with non-trainable Embedding layer with identity initializer\n",
    "\n",
    "# train_padded = tf.keras.utils.to_categorical(train_padded, num_classes=vocab_size)\n",
    "# validation_padded = tf.keras.utils.to_categorical(validation_padded, num_classes=vocab_size)\n",
    "# test_padded = tf.keras.utils.to_categorical(test_padded, num_classes=vocab_size)"
   ]
  },
  {
   "cell_type": "code",
   "execution_count": null,
   "metadata": {
    "colab": {
     "base_uri": "https://localhost:8080/",
     "height": 33
    },
    "colab_type": "code",
    "id": "rhXMpWpXOoFP",
    "outputId": "78f7883c-7106-4b5d-9137-a634692a08d9"
   },
   "outputs": [
    {
     "data": {
      "text/plain": [
       "(5472, 700)"
      ]
     },
     "execution_count": 45,
     "metadata": {
      "tags": []
     },
     "output_type": "execute_result"
    }
   ],
   "source": [
    "train_padded.shape"
   ]
  },
  {
   "cell_type": "code",
   "execution_count": null,
   "metadata": {
    "colab": {
     "base_uri": "https://localhost:8080/",
     "height": 33
    },
    "colab_type": "code",
    "id": "2eB81tNKWbaf",
    "outputId": "4f233e42-7130-4d05-9962-e0cb8e08c0cc"
   },
   "outputs": [
    {
     "data": {
      "text/plain": [
       "48"
      ]
     },
     "execution_count": 53,
     "metadata": {
      "tags": []
     },
     "output_type": "execute_result"
    }
   ],
   "source": [
    "max(validation_labels)"
   ]
  },
  {
   "cell_type": "code",
   "execution_count": null,
   "metadata": {
    "colab": {
     "base_uri": "https://localhost:8080/",
     "height": 856
    },
    "colab_type": "code",
    "id": "gHREjUe3OoFh",
    "outputId": "101f0f32-c106-488a-aa22-a894ad687d2a"
   },
   "outputs": [
    {
     "name": "stdout",
     "output_type": "stream",
     "text": [
      "Model: \"model\"\n",
      "__________________________________________________________________________________________________\n",
      "Layer (type)                    Output Shape         Param #     Connected to                     \n",
      "==================================================================================================\n",
      "input_1 (InputLayer)            [(None, 700)]        0                                            \n",
      "__________________________________________________________________________________________________\n",
      "embedding (Embedding)           (None, 700, 21)      441         input_1[0][0]                    \n",
      "__________________________________________________________________________________________________\n",
      "conv1d (Conv1D)                 (None, 700, 128)     8192        embedding[0][0]                  \n",
      "__________________________________________________________________________________________________\n",
      "batch_normalization (BatchNorma (None, 700, 128)     512         conv1d[0][0]                     \n",
      "__________________________________________________________________________________________________\n",
      "activation (Activation)         (None, 700, 128)     0           batch_normalization[0][0]        \n",
      "__________________________________________________________________________________________________\n",
      "conv1d_1 (Conv1D)               (None, 700, 128)     49280       activation[0][0]                 \n",
      "__________________________________________________________________________________________________\n",
      "batch_normalization_1 (BatchNor (None, 700, 128)     512         conv1d_1[0][0]                   \n",
      "__________________________________________________________________________________________________\n",
      "activation_1 (Activation)       (None, 700, 128)     0           batch_normalization_1[0][0]      \n",
      "__________________________________________________________________________________________________\n",
      "conv1d_2 (Conv1D)               (None, 700, 128)     16512       activation_1[0][0]               \n",
      "__________________________________________________________________________________________________\n",
      "add (Add)                       (None, 700, 128)     0           conv1d_2[0][0]                   \n",
      "                                                                 conv1d[0][0]                     \n",
      "__________________________________________________________________________________________________\n",
      "batch_normalization_2 (BatchNor (None, 700, 128)     512         add[0][0]                        \n",
      "__________________________________________________________________________________________________\n",
      "activation_2 (Activation)       (None, 700, 128)     0           batch_normalization_2[0][0]      \n",
      "__________________________________________________________________________________________________\n",
      "conv1d_3 (Conv1D)               (None, 700, 128)     49280       activation_2[0][0]               \n",
      "__________________________________________________________________________________________________\n",
      "batch_normalization_3 (BatchNor (None, 700, 128)     512         conv1d_3[0][0]                   \n",
      "__________________________________________________________________________________________________\n",
      "activation_3 (Activation)       (None, 700, 128)     0           batch_normalization_3[0][0]      \n",
      "__________________________________________________________________________________________________\n",
      "conv1d_4 (Conv1D)               (None, 700, 128)     16512       activation_3[0][0]               \n",
      "__________________________________________________________________________________________________\n",
      "add_1 (Add)                     (None, 700, 128)     0           conv1d_4[0][0]                   \n",
      "                                                                 add[0][0]                        \n",
      "__________________________________________________________________________________________________\n",
      "max_pooling1d (MaxPooling1D)    (None, 1, 128)       0           add_1[0][0]                      \n",
      "__________________________________________________________________________________________________\n",
      "flatten (Flatten)               (None, 128)          0           max_pooling1d[0][0]              \n",
      "__________________________________________________________________________________________________\n",
      "dense (Dense)                   (None, 49)           6321        flatten[0][0]                    \n",
      "==================================================================================================\n",
      "Total params: 148,586\n",
      "Trainable params: 147,121\n",
      "Non-trainable params: 1,465\n",
      "__________________________________________________________________________________________________\n"
     ]
    }
   ],
   "source": [
    "input_x = tf.keras.layers.Input(shape=max_length)\n",
    "x = tf.keras.layers.Embedding(vocab_size, vocab_size, embeddings_initializer=tf.keras.initializers.Identity(gain=1.0), trainable=False)(input_x)\n",
    "x = tf.keras.layers.Conv1D(128, 3, padding=\"same\")(x)\n",
    "x = residual_block(x, 128, 1)\n",
    "x = residual_block(x, 128, 2) #4 blocks of these in ProtCNN\n",
    "x = tf.keras.layers.MaxPooling1D(max_length)(x)\n",
    "\n",
    "x = tf.keras.layers.Flatten()(x)\n",
    "out = tf.keras.layers.Dense(numclass, activation=\"softmax\")(x) \n",
    "\n",
    "model = tf.keras.Model(inputs=input_x, outputs=out)\n",
    "#optimizer = tf.keras.optimizers.Adam(lr=1e-5)\n",
    "\n",
    "model.compile(loss='sparse_categorical_crossentropy',optimizer=\"adam\",metrics=['accuracy'])\n",
    "model.summary()"
   ]
  },
  {
   "cell_type": "code",
   "execution_count": null,
   "metadata": {
    "colab": {
     "base_uri": "https://localhost:8080/",
     "height": 386
    },
    "colab_type": "code",
    "id": "I-GgPN6_OoFj",
    "outputId": "40067b50-b3ce-4d2d-f04a-a6364511eff7"
   },
   "outputs": [
    {
     "name": "stdout",
     "output_type": "stream",
     "text": [
      "Epoch 1/25\n",
      "171/171 - 103s - loss: 2.1963 - accuracy: 0.5320 - val_loss: 3.5141 - val_accuracy: 0.2537\n",
      "Epoch 2/25\n",
      "171/171 - 103s - loss: 0.7251 - accuracy: 0.8286 - val_loss: 1.7876 - val_accuracy: 0.7946\n",
      "Epoch 3/25\n",
      "171/171 - 103s - loss: 0.3308 - accuracy: 0.9249 - val_loss: 0.6546 - val_accuracy: 0.8596\n",
      "Epoch 4/25\n",
      "171/171 - 103s - loss: 0.1380 - accuracy: 0.9740 - val_loss: 0.3871 - val_accuracy: 0.8999\n",
      "Epoch 5/25\n",
      "171/171 - 108s - loss: 0.0421 - accuracy: 0.9971 - val_loss: 0.3230 - val_accuracy: 0.9137\n",
      "Epoch 6/25\n",
      "171/171 - 102s - loss: 0.0125 - accuracy: 1.0000 - val_loss: 0.2646 - val_accuracy: 0.9313\n",
      "Epoch 7/25\n",
      "171/171 - 102s - loss: 0.0049 - accuracy: 1.0000 - val_loss: 0.2535 - val_accuracy: 0.9276\n",
      "Epoch 8/25\n",
      "171/171 - 102s - loss: 0.0033 - accuracy: 1.0000 - val_loss: 0.2484 - val_accuracy: 0.9349\n",
      "Epoch 9/25\n",
      "171/171 - 102s - loss: 0.0025 - accuracy: 1.0000 - val_loss: 0.2461 - val_accuracy: 0.9342\n",
      "Epoch 10/25\n",
      "171/171 - 102s - loss: 0.0021 - accuracy: 1.0000 - val_loss: 0.2396 - val_accuracy: 0.9306\n",
      "Epoch 11/25\n",
      "171/171 - 106s - loss: 0.0018 - accuracy: 1.0000 - val_loss: 0.2385 - val_accuracy: 0.9342\n"
     ]
    }
   ],
   "source": [
    "history = model.fit(train_padded, train_labels, epochs=25, validation_data=(validation_padded, validation_labels), verbose=2, callbacks=[es])"
   ]
  },
  {
   "cell_type": "code",
   "execution_count": null,
   "metadata": {
    "colab": {
     "base_uri": "https://localhost:8080/",
     "height": 51
    },
    "colab_type": "code",
    "id": "KMiOYVueOoFl",
    "outputId": "c659731a-72c9-4dc4-d248-f76b7085daf8"
   },
   "outputs": [
    {
     "name": "stdout",
     "output_type": "stream",
     "text": [
      "Saved model to disk\n",
      "Loaded model from disk\n"
     ]
    }
   ],
   "source": [
    "#Did not save this because TAPE_PFmodel is better and that is already saved\n",
    "\n",
    "# serialize model to JSON\n",
    "model_json = model.to_json()\n",
    "with open(os.path.join(\"./Pfam_fasta\", \"ProtCNN_PFmodel.json\"), \"w\") as json_file:\n",
    "    json_file.write(model_json)\n",
    "# serialize weights to HDF5\n",
    "model.save_weights(os.path.join(\"./Pfam_fasta\", \"ProtCNN_PFmodel.h5\"))\n",
    "print(\"Saved model to disk\")"
   ]
  },
  {
   "cell_type": "code",
   "execution_count": 18,
   "metadata": {
    "colab": {
     "base_uri": "https://localhost:8080/",
     "height": 33
    },
    "colab_type": "code",
    "id": "V9t0EJG86j7d",
    "outputId": "a567c4c3-9d93-481d-ee9f-e4ea3b93072f"
   },
   "outputs": [
    {
     "name": "stdout",
     "output_type": "stream",
     "text": [
      "Loaded model from disk\n"
     ]
    }
   ],
   "source": [
    "# load json and create model\n",
    "json_file = open(os.path.join(\"./Pfam_fasta\", \"TAPE_PFmodel.json\"), 'r')\n",
    "loaded_model_json = json_file.read()\n",
    "json_file.close()\n",
    "loaded_model = tf.keras.models.model_from_json(loaded_model_json)\n",
    "# load weights into new model\n",
    "loaded_model.load_weights(os.path.join(\"./Pfam_fasta\", \"TAPE_PFmodel.h5\"))\n",
    "print(\"Loaded model from disk\")\n",
    " \n",
    "# calculate embedding for new data\n",
    "embedder = tf.keras.Model(inputs = loaded_model.layers[0].input, outputs = loaded_model.layers[17].output)\n",
    "# embedder.compile(loss='categorical_crossentropy',optimizer=\"adam\")\n",
    "# predict should be allowed to use w/o compilation: \n",
    "# https://github.com/keras-team/keras/issues/2621\n",
    "# embeds = loaded_model.predict(test_padded[:10])"
   ]
  },
  {
   "cell_type": "code",
   "execution_count": 19,
   "metadata": {
    "colab": {
     "base_uri": "https://localhost:8080/",
     "height": 33
    },
    "colab_type": "code",
    "id": "v7x7CYmqVPMX",
    "outputId": "994d2457-b44d-4ef7-f923-13c1dde4332b"
   },
   "outputs": [
    {
     "data": {
      "text/plain": [
       "(5472, 400, 768)"
      ]
     },
     "execution_count": 19,
     "metadata": {},
     "output_type": "execute_result"
    }
   ],
   "source": [
    "TAPEncoded_train.shape"
   ]
  },
  {
   "cell_type": "code",
   "execution_count": 20,
   "metadata": {},
   "outputs": [
    {
     "data": {
      "text/plain": [
       "(1368, 400, 768)"
      ]
     },
     "execution_count": 20,
     "metadata": {},
     "output_type": "execute_result"
    }
   ],
   "source": [
    "TAPEncoded_val.shape"
   ]
  },
  {
   "cell_type": "code",
   "execution_count": 21,
   "metadata": {},
   "outputs": [],
   "source": [
    "train_embed = embedder.predict(TAPEncoded_train)\n",
    "val_embed = embedder.predict(TAPEncoded_val)"
   ]
  },
  {
   "cell_type": "code",
   "execution_count": 22,
   "metadata": {},
   "outputs": [
    {
     "name": "stdout",
     "output_type": "stream",
     "text": [
      "Requirement already satisfied: umap-learn[plot] in c:\\users\\sarva\\anaconda3\\lib\\site-packages (0.4.4)\n",
      "Requirement already satisfied: scikit-learn>=0.20 in c:\\users\\sarva\\anaconda3\\lib\\site-packages (from umap-learn[plot]) (0.22.1)\n",
      "Requirement already satisfied: tbb in c:\\users\\sarva\\anaconda3\\lib\\site-packages (from umap-learn[plot]) (2019.0)\n",
      "Requirement already satisfied: scipy>=1.3.1 in c:\\users\\sarva\\anaconda3\\lib\\site-packages (from umap-learn[plot]) (1.4.1)\n",
      "Requirement already satisfied: numba!=0.47,>=0.46 in c:\\users\\sarva\\anaconda3\\lib\\site-packages (from umap-learn[plot]) (0.48.0)\n",
      "Requirement already satisfied: numpy>=1.17 in c:\\users\\sarva\\anaconda3\\lib\\site-packages (from umap-learn[plot]) (1.18.1)\n",
      "Requirement already satisfied: holoviews; extra == \"plot\" in c:\\users\\sarva\\anaconda3\\lib\\site-packages (from umap-learn[plot]) (1.13.2)\n",
      "Requirement already satisfied: matplotlib; extra == \"plot\" in c:\\users\\sarva\\anaconda3\\lib\\site-packages (from umap-learn[plot]) (3.1.3)\n",
      "Requirement already satisfied: bokeh; extra == \"plot\" in c:\\users\\sarva\\anaconda3\\lib\\site-packages (from umap-learn[plot]) (1.4.0)\n",
      "Requirement already satisfied: colorcet; extra == \"plot\" in c:\\users\\sarva\\anaconda3\\lib\\site-packages (from umap-learn[plot]) (2.0.2)\n",
      "Requirement already satisfied: pandas; extra == \"plot\" in c:\\users\\sarva\\anaconda3\\lib\\site-packages (from umap-learn[plot]) (1.0.1)\n",
      "Collecting datashader; extra == \"plot\"\n",
      "  Using cached datashader-0.11.0-py2.py3-none-any.whl (15.5 MB)\n",
      "Requirement already satisfied: joblib>=0.11 in c:\\users\\sarva\\anaconda3\\lib\\site-packages (from scikit-learn>=0.20->umap-learn[plot]) (0.14.1)\n",
      "Requirement already satisfied: llvmlite<0.32.0,>=0.31.0dev0 in c:\\users\\sarva\\anaconda3\\lib\\site-packages (from numba!=0.47,>=0.46->umap-learn[plot]) (0.31.0)\n",
      "Requirement already satisfied: setuptools in c:\\users\\sarva\\anaconda3\\lib\\site-packages (from numba!=0.47,>=0.46->umap-learn[plot]) (45.2.0.post20200210)\n",
      "Requirement already satisfied: panel>=0.7.0 in c:\\users\\sarva\\anaconda3\\lib\\site-packages (from holoviews; extra == \"plot\"->umap-learn[plot]) (0.9.5)\n",
      "Requirement already satisfied: pyviz-comms>=0.7.3 in c:\\users\\sarva\\anaconda3\\lib\\site-packages (from holoviews; extra == \"plot\"->umap-learn[plot]) (0.7.5)\n",
      "Requirement already satisfied: param<2.0,>=1.9.3 in c:\\users\\sarva\\anaconda3\\lib\\site-packages (from holoviews; extra == \"plot\"->umap-learn[plot]) (1.9.3)\n",
      "Requirement already satisfied: kiwisolver>=1.0.1 in c:\\users\\sarva\\anaconda3\\lib\\site-packages (from matplotlib; extra == \"plot\"->umap-learn[plot]) (1.1.0)\n",
      "Requirement already satisfied: python-dateutil>=2.1 in c:\\users\\sarva\\anaconda3\\lib\\site-packages (from matplotlib; extra == \"plot\"->umap-learn[plot]) (2.8.1)\n",
      "Requirement already satisfied: cycler>=0.10 in c:\\users\\sarva\\anaconda3\\lib\\site-packages (from matplotlib; extra == \"plot\"->umap-learn[plot]) (0.10.0)\n",
      "Requirement already satisfied: pyparsing!=2.0.4,!=2.1.2,!=2.1.6,>=2.0.1 in c:\\users\\sarva\\anaconda3\\lib\\site-packages (from matplotlib; extra == \"plot\"->umap-learn[plot]) (2.4.6)\n",
      "Requirement already satisfied: Jinja2>=2.7 in c:\\users\\sarva\\anaconda3\\lib\\site-packages (from bokeh; extra == \"plot\"->umap-learn[plot]) (2.11.1)\n",
      "Requirement already satisfied: pillow>=4.0 in c:\\users\\sarva\\anaconda3\\lib\\site-packages (from bokeh; extra == \"plot\"->umap-learn[plot]) (7.0.0)\n",
      "Requirement already satisfied: PyYAML>=3.10 in c:\\users\\sarva\\anaconda3\\lib\\site-packages (from bokeh; extra == \"plot\"->umap-learn[plot]) (5.3)\n",
      "Requirement already satisfied: six>=1.5.2 in c:\\users\\sarva\\anaconda3\\lib\\site-packages (from bokeh; extra == \"plot\"->umap-learn[plot]) (1.14.0)\n",
      "Requirement already satisfied: tornado>=4.3 in c:\\users\\sarva\\anaconda3\\lib\\site-packages (from bokeh; extra == \"plot\"->umap-learn[plot]) (6.0.3)\n",
      "Requirement already satisfied: packaging>=16.8 in c:\\users\\sarva\\anaconda3\\lib\\site-packages (from bokeh; extra == \"plot\"->umap-learn[plot]) (20.1)\n",
      "Requirement already satisfied: pyct>=0.4.4 in c:\\users\\sarva\\anaconda3\\lib\\site-packages (from colorcet; extra == \"plot\"->umap-learn[plot]) (0.4.6)\n",
      "Requirement already satisfied: pytz>=2017.2 in c:\\users\\sarva\\anaconda3\\lib\\site-packages (from pandas; extra == \"plot\"->umap-learn[plot]) (2019.3)\n",
      "Requirement already satisfied: toolz>=0.7.4 in c:\\users\\sarva\\anaconda3\\lib\\site-packages (from datashader; extra == \"plot\"->umap-learn[plot]) (0.10.0)\n",
      "Requirement already satisfied: xarray>=0.9.6 in c:\\users\\sarva\\anaconda3\\lib\\site-packages (from datashader; extra == \"plot\"->umap-learn[plot]) (0.15.1)\n",
      "Requirement already satisfied: dask[complete]>=0.18.0 in c:\\users\\sarva\\anaconda3\\lib\\site-packages (from datashader; extra == \"plot\"->umap-learn[plot]) (2.11.0)\n",
      "Requirement already satisfied: datashape>=0.5.1 in c:\\users\\sarva\\anaconda3\\lib\\site-packages (from datashader; extra == \"plot\"->umap-learn[plot]) (0.5.2)\n",
      "Requirement already satisfied: tqdm in c:\\users\\sarva\\anaconda3\\lib\\site-packages (from panel>=0.7.0->holoviews; extra == \"plot\"->umap-learn[plot]) (4.42.1)\n",
      "Requirement already satisfied: markdown in c:\\users\\sarva\\anaconda3\\lib\\site-packages (from panel>=0.7.0->holoviews; extra == \"plot\"->umap-learn[plot]) (3.1.1)\n",
      "Requirement already satisfied: MarkupSafe>=0.23 in c:\\users\\sarva\\anaconda3\\lib\\site-packages (from Jinja2>=2.7->bokeh; extra == \"plot\"->umap-learn[plot]) (1.1.1)\n",
      "Requirement already satisfied: cloudpickle>=0.2.1; extra == \"complete\" in c:\\users\\sarva\\anaconda3\\lib\\site-packages (from dask[complete]>=0.18.0->datashader; extra == \"plot\"->umap-learn[plot]) (1.3.0)\n",
      "Requirement already satisfied: partd>=0.3.10; extra == \"complete\" in c:\\users\\sarva\\anaconda3\\lib\\site-packages (from dask[complete]>=0.18.0->datashader; extra == \"plot\"->umap-learn[plot]) (1.1.0)\n",
      "Requirement already satisfied: fsspec>=0.6.0; extra == \"complete\" in c:\\users\\sarva\\anaconda3\\lib\\site-packages (from dask[complete]>=0.18.0->datashader; extra == \"plot\"->umap-learn[plot]) (0.6.2)\n",
      "Requirement already satisfied: distributed>=2.0; extra == \"complete\" in c:\\users\\sarva\\anaconda3\\lib\\site-packages (from dask[complete]>=0.18.0->datashader; extra == \"plot\"->umap-learn[plot]) (2.11.0)\n",
      "Requirement already satisfied: multipledispatch>=0.4.7 in c:\\users\\sarva\\anaconda3\\lib\\site-packages (from datashape>=0.5.1->datashader; extra == \"plot\"->umap-learn[plot]) (0.6.0)\n",
      "Requirement already satisfied: locket in c:\\users\\sarva\\anaconda3\\lib\\site-packages (from partd>=0.3.10; extra == \"complete\"->dask[complete]>=0.18.0->datashader; extra == \"plot\"->umap-learn[plot]) (0.2.0)\n",
      "Requirement already satisfied: tblib>=1.6.0 in c:\\users\\sarva\\anaconda3\\lib\\site-packages (from distributed>=2.0; extra == \"complete\"->dask[complete]>=0.18.0->datashader; extra == \"plot\"->umap-learn[plot]) (1.6.0)\n",
      "Requirement already satisfied: zict>=0.1.3 in c:\\users\\sarva\\anaconda3\\lib\\site-packages (from distributed>=2.0; extra == \"complete\"->dask[complete]>=0.18.0->datashader; extra == \"plot\"->umap-learn[plot]) (1.0.0)\n",
      "Requirement already satisfied: click>=6.6 in c:\\users\\sarva\\anaconda3\\lib\\site-packages (from distributed>=2.0; extra == \"complete\"->dask[complete]>=0.18.0->datashader; extra == \"plot\"->umap-learn[plot]) (7.0)\n",
      "Requirement already satisfied: psutil>=5.0 in c:\\users\\sarva\\anaconda3\\lib\\site-packages (from distributed>=2.0; extra == \"complete\"->dask[complete]>=0.18.0->datashader; extra == \"plot\"->umap-learn[plot]) (5.6.7)\n",
      "Requirement already satisfied: msgpack>=0.6.0 in c:\\users\\sarva\\anaconda3\\lib\\site-packages (from distributed>=2.0; extra == \"complete\"->dask[complete]>=0.18.0->datashader; extra == \"plot\"->umap-learn[plot]) (0.6.1)\n",
      "Requirement already satisfied: sortedcontainers!=2.0.0,!=2.0.1 in c:\\users\\sarva\\anaconda3\\lib\\site-packages (from distributed>=2.0; extra == \"complete\"->dask[complete]>=0.18.0->datashader; extra == \"plot\"->umap-learn[plot]) (2.1.0)\n",
      "Requirement already satisfied: heapdict in c:\\users\\sarva\\anaconda3\\lib\\site-packages (from zict>=0.1.3->distributed>=2.0; extra == \"complete\"->dask[complete]>=0.18.0->datashader; extra == \"plot\"->umap-learn[plot]) (1.0.1)\n",
      "Installing collected packages: datashader\n",
      "Successfully installed datashader-0.11.0\n"
     ]
    }
   ],
   "source": [
    "!pip install umap-learn[plot]"
   ]
  },
  {
   "cell_type": "code",
   "execution_count": 33,
   "metadata": {},
   "outputs": [
    {
     "data": {
      "text/plain": [
       "1368"
      ]
     },
     "execution_count": 33,
     "metadata": {},
     "output_type": "execute_result"
    }
   ],
   "source": [
    "len(validation_labels)"
   ]
  },
  {
   "cell_type": "code",
   "execution_count": 32,
   "metadata": {},
   "outputs": [
    {
     "data": {
      "text/plain": [
       "(1368, 128)"
      ]
     },
     "execution_count": 32,
     "metadata": {},
     "output_type": "execute_result"
    }
   ],
   "source": [
    "val_embed.shape"
   ]
  },
  {
   "cell_type": "code",
   "execution_count": 26,
   "metadata": {},
   "outputs": [],
   "source": [
    "import umap\n",
    "import umap.plot\n",
    "\n",
    "valid_mapper = umap.UMAP().fit(val_embed)"
   ]
  },
  {
   "cell_type": "code",
   "execution_count": 29,
   "metadata": {},
   "outputs": [],
   "source": [
    "hover_data = pd.DataFrame({'index':np.arange(1368),\n",
    "                           'label':validation_labels})\n",
    "hover_data['item'] = hover_data.label.map(umap_map)"
   ]
  },
  {
   "cell_type": "code",
   "execution_count": 30,
   "metadata": {},
   "outputs": [
    {
     "data": {
      "text/plain": [
       "0            PF17416_full_Glycoprot_B_PH1_82.txt\n",
       "1                  PF00019_seed_TGF_beta_291.txt\n",
       "2                  PF00019_seed_TGF_beta_291.txt\n",
       "3             PF07733_seed_DNA_pol3_alpha_88.txt\n",
       "4       pos_PF06369_full_anemone_cytotox_363.txt\n",
       "                          ...                   \n",
       "1363              PF05366_full_Sarcolipin_51.txt\n",
       "1364                  PF00440_seed_tetR_N_74.txt\n",
       "1365                     PF18515_full_Rh5_28.txt\n",
       "1366                PF07740_seed_Toxin_12_31.txt\n",
       "1367           pos_PF03318_full_ETX_MTX2_440.txt\n",
       "Name: item, Length: 1368, dtype: object"
      ]
     },
     "execution_count": 30,
     "metadata": {},
     "output_type": "execute_result"
    }
   ],
   "source": [
    "hover_data['item']"
   ]
  },
  {
   "cell_type": "code",
   "execution_count": 35,
   "metadata": {},
   "outputs": [
    {
     "data": {
      "text/html": [
       "\n",
       "    <div class=\"bk-root\">\n",
       "        <a href=\"https://bokeh.org\" target=\"_blank\" class=\"bk-logo bk-logo-small bk-logo-notebook\"></a>\n",
       "        <span id=\"1143\">Loading BokehJS ...</span>\n",
       "    </div>"
      ]
     },
     "metadata": {},
     "output_type": "display_data"
    },
    {
     "data": {
      "application/javascript": [
       "\n",
       "(function(root) {\n",
       "  function now() {\n",
       "    return new Date();\n",
       "  }\n",
       "\n",
       "  var force = true;\n",
       "\n",
       "  if (typeof root._bokeh_onload_callbacks === \"undefined\" || force === true) {\n",
       "    root._bokeh_onload_callbacks = [];\n",
       "    root._bokeh_is_loading = undefined;\n",
       "  }\n",
       "\n",
       "  var JS_MIME_TYPE = 'application/javascript';\n",
       "  var HTML_MIME_TYPE = 'text/html';\n",
       "  var EXEC_MIME_TYPE = 'application/vnd.bokehjs_exec.v0+json';\n",
       "  var CLASS_NAME = 'output_bokeh rendered_html';\n",
       "\n",
       "  /**\n",
       "   * Render data to the DOM node\n",
       "   */\n",
       "  function render(props, node) {\n",
       "    var script = document.createElement(\"script\");\n",
       "    node.appendChild(script);\n",
       "  }\n",
       "\n",
       "  /**\n",
       "   * Handle when an output is cleared or removed\n",
       "   */\n",
       "  function handleClearOutput(event, handle) {\n",
       "    var cell = handle.cell;\n",
       "\n",
       "    var id = cell.output_area._bokeh_element_id;\n",
       "    var server_id = cell.output_area._bokeh_server_id;\n",
       "    // Clean up Bokeh references\n",
       "    if (id != null && id in Bokeh.index) {\n",
       "      Bokeh.index[id].model.document.clear();\n",
       "      delete Bokeh.index[id];\n",
       "    }\n",
       "\n",
       "    if (server_id !== undefined) {\n",
       "      // Clean up Bokeh references\n",
       "      var cmd = \"from bokeh.io.state import curstate; print(curstate().uuid_to_server['\" + server_id + \"'].get_sessions()[0].document.roots[0]._id)\";\n",
       "      cell.notebook.kernel.execute(cmd, {\n",
       "        iopub: {\n",
       "          output: function(msg) {\n",
       "            var id = msg.content.text.trim();\n",
       "            if (id in Bokeh.index) {\n",
       "              Bokeh.index[id].model.document.clear();\n",
       "              delete Bokeh.index[id];\n",
       "            }\n",
       "          }\n",
       "        }\n",
       "      });\n",
       "      // Destroy server and session\n",
       "      var cmd = \"import bokeh.io.notebook as ion; ion.destroy_server('\" + server_id + \"')\";\n",
       "      cell.notebook.kernel.execute(cmd);\n",
       "    }\n",
       "  }\n",
       "\n",
       "  /**\n",
       "   * Handle when a new output is added\n",
       "   */\n",
       "  function handleAddOutput(event, handle) {\n",
       "    var output_area = handle.output_area;\n",
       "    var output = handle.output;\n",
       "\n",
       "    // limit handleAddOutput to display_data with EXEC_MIME_TYPE content only\n",
       "    if ((output.output_type != \"display_data\") || (!output.data.hasOwnProperty(EXEC_MIME_TYPE))) {\n",
       "      return\n",
       "    }\n",
       "\n",
       "    var toinsert = output_area.element.find(\".\" + CLASS_NAME.split(' ')[0]);\n",
       "\n",
       "    if (output.metadata[EXEC_MIME_TYPE][\"id\"] !== undefined) {\n",
       "      toinsert[toinsert.length - 1].firstChild.textContent = output.data[JS_MIME_TYPE];\n",
       "      // store reference to embed id on output_area\n",
       "      output_area._bokeh_element_id = output.metadata[EXEC_MIME_TYPE][\"id\"];\n",
       "    }\n",
       "    if (output.metadata[EXEC_MIME_TYPE][\"server_id\"] !== undefined) {\n",
       "      var bk_div = document.createElement(\"div\");\n",
       "      bk_div.innerHTML = output.data[HTML_MIME_TYPE];\n",
       "      var script_attrs = bk_div.children[0].attributes;\n",
       "      for (var i = 0; i < script_attrs.length; i++) {\n",
       "        toinsert[toinsert.length - 1].firstChild.setAttribute(script_attrs[i].name, script_attrs[i].value);\n",
       "        toinsert[toinsert.length - 1].firstChild.textContent = bk_div.children[0].textContent\n",
       "      }\n",
       "      // store reference to server id on output_area\n",
       "      output_area._bokeh_server_id = output.metadata[EXEC_MIME_TYPE][\"server_id\"];\n",
       "    }\n",
       "  }\n",
       "\n",
       "  function register_renderer(events, OutputArea) {\n",
       "\n",
       "    function append_mime(data, metadata, element) {\n",
       "      // create a DOM node to render to\n",
       "      var toinsert = this.create_output_subarea(\n",
       "        metadata,\n",
       "        CLASS_NAME,\n",
       "        EXEC_MIME_TYPE\n",
       "      );\n",
       "      this.keyboard_manager.register_events(toinsert);\n",
       "      // Render to node\n",
       "      var props = {data: data, metadata: metadata[EXEC_MIME_TYPE]};\n",
       "      render(props, toinsert[toinsert.length - 1]);\n",
       "      element.append(toinsert);\n",
       "      return toinsert\n",
       "    }\n",
       "\n",
       "    /* Handle when an output is cleared or removed */\n",
       "    events.on('clear_output.CodeCell', handleClearOutput);\n",
       "    events.on('delete.Cell', handleClearOutput);\n",
       "\n",
       "    /* Handle when a new output is added */\n",
       "    events.on('output_added.OutputArea', handleAddOutput);\n",
       "\n",
       "    /**\n",
       "     * Register the mime type and append_mime function with output_area\n",
       "     */\n",
       "    OutputArea.prototype.register_mime_type(EXEC_MIME_TYPE, append_mime, {\n",
       "      /* Is output safe? */\n",
       "      safe: true,\n",
       "      /* Index of renderer in `output_area.display_order` */\n",
       "      index: 0\n",
       "    });\n",
       "  }\n",
       "\n",
       "  // register the mime type if in Jupyter Notebook environment and previously unregistered\n",
       "  if (root.Jupyter !== undefined) {\n",
       "    var events = require('base/js/events');\n",
       "    var OutputArea = require('notebook/js/outputarea').OutputArea;\n",
       "\n",
       "    if (OutputArea.prototype.mime_types().indexOf(EXEC_MIME_TYPE) == -1) {\n",
       "      register_renderer(events, OutputArea);\n",
       "    }\n",
       "  }\n",
       "\n",
       "  \n",
       "  if (typeof (root._bokeh_timeout) === \"undefined\" || force === true) {\n",
       "    root._bokeh_timeout = Date.now() + 5000;\n",
       "    root._bokeh_failed_load = false;\n",
       "  }\n",
       "\n",
       "  var NB_LOAD_WARNING = {'data': {'text/html':\n",
       "     \"<div style='background-color: #fdd'>\\n\"+\n",
       "     \"<p>\\n\"+\n",
       "     \"BokehJS does not appear to have successfully loaded. If loading BokehJS from CDN, this \\n\"+\n",
       "     \"may be due to a slow or bad network connection. Possible fixes:\\n\"+\n",
       "     \"</p>\\n\"+\n",
       "     \"<ul>\\n\"+\n",
       "     \"<li>re-rerun `output_notebook()` to attempt to load from CDN again, or</li>\\n\"+\n",
       "     \"<li>use INLINE resources instead, as so:</li>\\n\"+\n",
       "     \"</ul>\\n\"+\n",
       "     \"<code>\\n\"+\n",
       "     \"from bokeh.resources import INLINE\\n\"+\n",
       "     \"output_notebook(resources=INLINE)\\n\"+\n",
       "     \"</code>\\n\"+\n",
       "     \"</div>\"}};\n",
       "\n",
       "  function display_loaded() {\n",
       "    var el = document.getElementById(\"1143\");\n",
       "    if (el != null) {\n",
       "      el.textContent = \"BokehJS is loading...\";\n",
       "    }\n",
       "    if (root.Bokeh !== undefined) {\n",
       "      if (el != null) {\n",
       "        el.textContent = \"BokehJS \" + root.Bokeh.version + \" successfully loaded.\";\n",
       "      }\n",
       "    } else if (Date.now() < root._bokeh_timeout) {\n",
       "      setTimeout(display_loaded, 100)\n",
       "    }\n",
       "  }\n",
       "\n",
       "\n",
       "  function run_callbacks() {\n",
       "    try {\n",
       "      root._bokeh_onload_callbacks.forEach(function(callback) {\n",
       "        if (callback != null)\n",
       "          callback();\n",
       "      });\n",
       "    } finally {\n",
       "      delete root._bokeh_onload_callbacks\n",
       "    }\n",
       "    console.debug(\"Bokeh: all callbacks have finished\");\n",
       "  }\n",
       "\n",
       "  function load_libs(css_urls, js_urls, callback) {\n",
       "    if (css_urls == null) css_urls = [];\n",
       "    if (js_urls == null) js_urls = [];\n",
       "\n",
       "    root._bokeh_onload_callbacks.push(callback);\n",
       "    if (root._bokeh_is_loading > 0) {\n",
       "      console.debug(\"Bokeh: BokehJS is being loaded, scheduling callback at\", now());\n",
       "      return null;\n",
       "    }\n",
       "    if (js_urls == null || js_urls.length === 0) {\n",
       "      run_callbacks();\n",
       "      return null;\n",
       "    }\n",
       "    console.debug(\"Bokeh: BokehJS not loaded, scheduling load and callback at\", now());\n",
       "    root._bokeh_is_loading = css_urls.length + js_urls.length;\n",
       "\n",
       "    function on_load() {\n",
       "      root._bokeh_is_loading--;\n",
       "      if (root._bokeh_is_loading === 0) {\n",
       "        console.debug(\"Bokeh: all BokehJS libraries/stylesheets loaded\");\n",
       "        run_callbacks()\n",
       "      }\n",
       "    }\n",
       "\n",
       "    function on_error() {\n",
       "      console.error(\"failed to load \" + url);\n",
       "    }\n",
       "\n",
       "    for (var i = 0; i < css_urls.length; i++) {\n",
       "      var url = css_urls[i];\n",
       "      const element = document.createElement(\"link\");\n",
       "      element.onload = on_load;\n",
       "      element.onerror = on_error;\n",
       "      element.rel = \"stylesheet\";\n",
       "      element.type = \"text/css\";\n",
       "      element.href = url;\n",
       "      console.debug(\"Bokeh: injecting link tag for BokehJS stylesheet: \", url);\n",
       "      document.body.appendChild(element);\n",
       "    }\n",
       "\n",
       "    const hashes = {\"https://cdn.bokeh.org/bokeh/release/bokeh-2.1.0.min.js\": \"YobFyzPeVUsFQydHkJGsJL1kyfHnWxOlPc3EwaV22TmBaeGoXHLWx5aRRVPS9xlE\", \"https://cdn.bokeh.org/bokeh/release/bokeh-widgets-2.1.0.min.js\": \"NuAg9+TcTQQqvQCTtkCneRrpkTiMhhfiq0KHiBzx8ECiKiLWXHN6i6ia3q7b3eHu\", \"https://cdn.bokeh.org/bokeh/release/bokeh-tables-2.1.0.min.js\": \"uMVqQc8JqHitD67bXTn9a06Mrk3EiHRaZ18EJENQenAKJ/KL71SakdXYomZQpGRr\", \"https://cdn.bokeh.org/bokeh/release/bokeh-gl-2.1.0.min.js\": \"u+eGuEXC8aw0VSCm2mH+b/tQEAitUOYiR1H6SuIVEdUmXsf4vN8m/SmXpmjb7U/X\"};\n",
       "\n",
       "    for (var i = 0; i < js_urls.length; i++) {\n",
       "      var url = js_urls[i];\n",
       "      var element = document.createElement('script');\n",
       "      element.onload = on_load;\n",
       "      element.onerror = on_error;\n",
       "      element.async = false;\n",
       "      element.src = url;\n",
       "      if (url in hashes) {\n",
       "        element.crossOrigin = \"anonymous\";\n",
       "        element.integrity = \"sha384-\" + hashes[url];\n",
       "      }\n",
       "      console.debug(\"Bokeh: injecting script tag for BokehJS library: \", url);\n",
       "      document.head.appendChild(element);\n",
       "    }\n",
       "  };\n",
       "\n",
       "  function inject_raw_css(css) {\n",
       "    const element = document.createElement(\"style\");\n",
       "    element.appendChild(document.createTextNode(css));\n",
       "    document.body.appendChild(element);\n",
       "  }\n",
       "\n",
       "  \n",
       "  var js_urls = [\"https://cdn.bokeh.org/bokeh/release/bokeh-2.1.0.min.js\", \"https://cdn.bokeh.org/bokeh/release/bokeh-widgets-2.1.0.min.js\", \"https://cdn.bokeh.org/bokeh/release/bokeh-tables-2.1.0.min.js\", \"https://cdn.bokeh.org/bokeh/release/bokeh-gl-2.1.0.min.js\", \"https://unpkg.com/@holoviz/panel@^0.9.5/dist/panel.min.js\"];\n",
       "  var css_urls = [];\n",
       "  \n",
       "\n",
       "  var inline_js = [\n",
       "    function(Bokeh) {\n",
       "      inject_raw_css(\"table.panel-df {\\n    margin-left: auto;\\n    margin-right: auto;\\n    border: none;\\n    border-collapse: collapse;\\n    border-spacing: 0;\\n    color: black;\\n    font-size: 12px;\\n    table-layout: fixed;\\n    width: 100%;\\n}\\n\\n.panel-df tr, th, td {\\n    text-align: right;\\n    vertical-align: middle;\\n    padding: 0.5em 0.5em !important;\\n    line-height: normal;\\n    white-space: normal;\\n    max-width: none;\\n    border: none;\\n}\\n\\n.panel-df tbody {\\n    display: table-row-group;\\n    vertical-align: middle;\\n    border-color: inherit;\\n}\\n\\n.panel-df tbody tr:nth-child(odd) {\\n    background: #f5f5f5;\\n}\\n\\n.panel-df thead {\\n    border-bottom: 1px solid black;\\n    vertical-align: bottom;\\n}\\n\\n.panel-df tr:hover {\\n    background: lightblue !important;\\n    cursor: pointer;\\n}\\n\");\n",
       "    },\n",
       "    function(Bokeh) {\n",
       "      inject_raw_css(\".json-formatter-row {\\n  font-family: monospace;\\n}\\n.json-formatter-row,\\n.json-formatter-row a,\\n.json-formatter-row a:hover {\\n  color: black;\\n  text-decoration: none;\\n}\\n.json-formatter-row .json-formatter-row {\\n  margin-left: 1rem;\\n}\\n.json-formatter-row .json-formatter-children.json-formatter-empty {\\n  opacity: 0.5;\\n  margin-left: 1rem;\\n}\\n.json-formatter-row .json-formatter-children.json-formatter-empty:after {\\n  display: none;\\n}\\n.json-formatter-row .json-formatter-children.json-formatter-empty.json-formatter-object:after {\\n  content: \\\"No properties\\\";\\n}\\n.json-formatter-row .json-formatter-children.json-formatter-empty.json-formatter-array:after {\\n  content: \\\"[]\\\";\\n}\\n.json-formatter-row .json-formatter-string,\\n.json-formatter-row .json-formatter-stringifiable {\\n  color: green;\\n  white-space: pre;\\n  word-wrap: break-word;\\n}\\n.json-formatter-row .json-formatter-number {\\n  color: blue;\\n}\\n.json-formatter-row .json-formatter-boolean {\\n  color: red;\\n}\\n.json-formatter-row .json-formatter-null {\\n  color: #855A00;\\n}\\n.json-formatter-row .json-formatter-undefined {\\n  color: #ca0b69;\\n}\\n.json-formatter-row .json-formatter-function {\\n  color: #FF20ED;\\n}\\n.json-formatter-row .json-formatter-date {\\n  background-color: rgba(0, 0, 0, 0.05);\\n}\\n.json-formatter-row .json-formatter-url {\\n  text-decoration: underline;\\n  color: blue;\\n  cursor: pointer;\\n}\\n.json-formatter-row .json-formatter-bracket {\\n  color: blue;\\n}\\n.json-formatter-row .json-formatter-key {\\n  color: #00008B;\\n  padding-right: 0.2rem;\\n}\\n.json-formatter-row .json-formatter-toggler-link {\\n  cursor: pointer;\\n}\\n.json-formatter-row .json-formatter-toggler {\\n  line-height: 1.2rem;\\n  font-size: 0.7rem;\\n  vertical-align: middle;\\n  opacity: 0.6;\\n  cursor: pointer;\\n  padding-right: 0.2rem;\\n}\\n.json-formatter-row .json-formatter-toggler:after {\\n  display: inline-block;\\n  transition: transform 100ms ease-in;\\n  content: \\\"\\\\25BA\\\";\\n}\\n.json-formatter-row > a > .json-formatter-preview-text {\\n  opacity: 0;\\n  transition: opacity 0.15s ease-in;\\n  font-style: italic;\\n}\\n.json-formatter-row:hover > a > .json-formatter-preview-text {\\n  opacity: 0.6;\\n}\\n.json-formatter-row.json-formatter-open > .json-formatter-toggler-link .json-formatter-toggler:after {\\n  transform: rotate(90deg);\\n}\\n.json-formatter-row.json-formatter-open > .json-formatter-children:after {\\n  display: inline-block;\\n}\\n.json-formatter-row.json-formatter-open > a > .json-formatter-preview-text {\\n  display: none;\\n}\\n.json-formatter-row.json-formatter-open.json-formatter-empty:after {\\n  display: block;\\n}\\n.json-formatter-dark.json-formatter-row {\\n  font-family: monospace;\\n}\\n.json-formatter-dark.json-formatter-row,\\n.json-formatter-dark.json-formatter-row a,\\n.json-formatter-dark.json-formatter-row a:hover {\\n  color: white;\\n  text-decoration: none;\\n}\\n.json-formatter-dark.json-formatter-row .json-formatter-row {\\n  margin-left: 1rem;\\n}\\n.json-formatter-dark.json-formatter-row .json-formatter-children.json-formatter-empty {\\n  opacity: 0.5;\\n  margin-left: 1rem;\\n}\\n.json-formatter-dark.json-formatter-row .json-formatter-children.json-formatter-empty:after {\\n  display: none;\\n}\\n.json-formatter-dark.json-formatter-row .json-formatter-children.json-formatter-empty.json-formatter-object:after {\\n  content: \\\"No properties\\\";\\n}\\n.json-formatter-dark.json-formatter-row .json-formatter-children.json-formatter-empty.json-formatter-array:after {\\n  content: \\\"[]\\\";\\n}\\n.json-formatter-dark.json-formatter-row .json-formatter-string,\\n.json-formatter-dark.json-formatter-row .json-formatter-stringifiable {\\n  color: #31F031;\\n  white-space: pre;\\n  word-wrap: break-word;\\n}\\n.json-formatter-dark.json-formatter-row .json-formatter-number {\\n  color: #66C2FF;\\n}\\n.json-formatter-dark.json-formatter-row .json-formatter-boolean {\\n  color: #EC4242;\\n}\\n.json-formatter-dark.json-formatter-row .json-formatter-null {\\n  color: #EEC97D;\\n}\\n.json-formatter-dark.json-formatter-row .json-formatter-undefined {\\n  color: #ef8fbe;\\n}\\n.json-formatter-dark.json-formatter-row .json-formatter-function {\\n  color: #FD48CB;\\n}\\n.json-formatter-dark.json-formatter-row .json-formatter-date {\\n  background-color: rgba(255, 255, 255, 0.05);\\n}\\n.json-formatter-dark.json-formatter-row .json-formatter-url {\\n  text-decoration: underline;\\n  color: #027BFF;\\n  cursor: pointer;\\n}\\n.json-formatter-dark.json-formatter-row .json-formatter-bracket {\\n  color: #9494FF;\\n}\\n.json-formatter-dark.json-formatter-row .json-formatter-key {\\n  color: #23A0DB;\\n  padding-right: 0.2rem;\\n}\\n.json-formatter-dark.json-formatter-row .json-formatter-toggler-link {\\n  cursor: pointer;\\n}\\n.json-formatter-dark.json-formatter-row .json-formatter-toggler {\\n  line-height: 1.2rem;\\n  font-size: 0.7rem;\\n  vertical-align: middle;\\n  opacity: 0.6;\\n  cursor: pointer;\\n  padding-right: 0.2rem;\\n}\\n.json-formatter-dark.json-formatter-row .json-formatter-toggler:after {\\n  display: inline-block;\\n  transition: transform 100ms ease-in;\\n  content: \\\"\\\\25BA\\\";\\n}\\n.json-formatter-dark.json-formatter-row > a > .json-formatter-preview-text {\\n  opacity: 0;\\n  transition: opacity 0.15s ease-in;\\n  font-style: italic;\\n}\\n.json-formatter-dark.json-formatter-row:hover > a > .json-formatter-preview-text {\\n  opacity: 0.6;\\n}\\n.json-formatter-dark.json-formatter-row.json-formatter-open > .json-formatter-toggler-link .json-formatter-toggler:after {\\n  transform: rotate(90deg);\\n}\\n.json-formatter-dark.json-formatter-row.json-formatter-open > .json-formatter-children:after {\\n  display: inline-block;\\n}\\n.json-formatter-dark.json-formatter-row.json-formatter-open > a > .json-formatter-preview-text {\\n  display: none;\\n}\\n.json-formatter-dark.json-formatter-row.json-formatter-open.json-formatter-empty:after {\\n  display: block;\\n}\\n\");\n",
       "    },\n",
       "    function(Bokeh) {\n",
       "      inject_raw_css(\".codehilite .hll { background-color: #ffffcc }\\n.codehilite  { background: #f8f8f8; }\\n.codehilite .c { color: #408080; font-style: italic } /* Comment */\\n.codehilite .err { border: 1px solid #FF0000 } /* Error */\\n.codehilite .k { color: #008000; font-weight: bold } /* Keyword */\\n.codehilite .o { color: #666666 } /* Operator */\\n.codehilite .ch { color: #408080; font-style: italic } /* Comment.Hashbang */\\n.codehilite .cm { color: #408080; font-style: italic } /* Comment.Multiline */\\n.codehilite .cp { color: #BC7A00 } /* Comment.Preproc */\\n.codehilite .cpf { color: #408080; font-style: italic } /* Comment.PreprocFile */\\n.codehilite .c1 { color: #408080; font-style: italic } /* Comment.Single */\\n.codehilite .cs { color: #408080; font-style: italic } /* Comment.Special */\\n.codehilite .gd { color: #A00000 } /* Generic.Deleted */\\n.codehilite .ge { font-style: italic } /* Generic.Emph */\\n.codehilite .gr { color: #FF0000 } /* Generic.Error */\\n.codehilite .gh { color: #000080; font-weight: bold } /* Generic.Heading */\\n.codehilite .gi { color: #00A000 } /* Generic.Inserted */\\n.codehilite .go { color: #888888 } /* Generic.Output */\\n.codehilite .gp { color: #000080; font-weight: bold } /* Generic.Prompt */\\n.codehilite .gs { font-weight: bold } /* Generic.Strong */\\n.codehilite .gu { color: #800080; font-weight: bold } /* Generic.Subheading */\\n.codehilite .gt { color: #0044DD } /* Generic.Traceback */\\n.codehilite .kc { color: #008000; font-weight: bold } /* Keyword.Constant */\\n.codehilite .kd { color: #008000; font-weight: bold } /* Keyword.Declaration */\\n.codehilite .kn { color: #008000; font-weight: bold } /* Keyword.Namespace */\\n.codehilite .kp { color: #008000 } /* Keyword.Pseudo */\\n.codehilite .kr { color: #008000; font-weight: bold } /* Keyword.Reserved */\\n.codehilite .kt { color: #B00040 } /* Keyword.Type */\\n.codehilite .m { color: #666666 } /* Literal.Number */\\n.codehilite .s { color: #BA2121 } /* Literal.String */\\n.codehilite .na { color: #7D9029 } /* Name.Attribute */\\n.codehilite .nb { color: #008000 } /* Name.Builtin */\\n.codehilite .nc { color: #0000FF; font-weight: bold } /* Name.Class */\\n.codehilite .no { color: #880000 } /* Name.Constant */\\n.codehilite .nd { color: #AA22FF } /* Name.Decorator */\\n.codehilite .ni { color: #999999; font-weight: bold } /* Name.Entity */\\n.codehilite .ne { color: #D2413A; font-weight: bold } /* Name.Exception */\\n.codehilite .nf { color: #0000FF } /* Name.Function */\\n.codehilite .nl { color: #A0A000 } /* Name.Label */\\n.codehilite .nn { color: #0000FF; font-weight: bold } /* Name.Namespace */\\n.codehilite .nt { color: #008000; font-weight: bold } /* Name.Tag */\\n.codehilite .nv { color: #19177C } /* Name.Variable */\\n.codehilite .ow { color: #AA22FF; font-weight: bold } /* Operator.Word */\\n.codehilite .w { color: #bbbbbb } /* Text.Whitespace */\\n.codehilite .mb { color: #666666 } /* Literal.Number.Bin */\\n.codehilite .mf { color: #666666 } /* Literal.Number.Float */\\n.codehilite .mh { color: #666666 } /* Literal.Number.Hex */\\n.codehilite .mi { color: #666666 } /* Literal.Number.Integer */\\n.codehilite .mo { color: #666666 } /* Literal.Number.Oct */\\n.codehilite .sa { color: #BA2121 } /* Literal.String.Affix */\\n.codehilite .sb { color: #BA2121 } /* Literal.String.Backtick */\\n.codehilite .sc { color: #BA2121 } /* Literal.String.Char */\\n.codehilite .dl { color: #BA2121 } /* Literal.String.Delimiter */\\n.codehilite .sd { color: #BA2121; font-style: italic } /* Literal.String.Doc */\\n.codehilite .s2 { color: #BA2121 } /* Literal.String.Double */\\n.codehilite .se { color: #BB6622; font-weight: bold } /* Literal.String.Escape */\\n.codehilite .sh { color: #BA2121 } /* Literal.String.Heredoc */\\n.codehilite .si { color: #BB6688; font-weight: bold } /* Literal.String.Interpol */\\n.codehilite .sx { color: #008000 } /* Literal.String.Other */\\n.codehilite .sr { color: #BB6688 } /* Literal.String.Regex */\\n.codehilite .s1 { color: #BA2121 } /* Literal.String.Single */\\n.codehilite .ss { color: #19177C } /* Literal.String.Symbol */\\n.codehilite .bp { color: #008000 } /* Name.Builtin.Pseudo */\\n.codehilite .fm { color: #0000FF } /* Name.Function.Magic */\\n.codehilite .vc { color: #19177C } /* Name.Variable.Class */\\n.codehilite .vg { color: #19177C } /* Name.Variable.Global */\\n.codehilite .vi { color: #19177C } /* Name.Variable.Instance */\\n.codehilite .vm { color: #19177C } /* Name.Variable.Magic */\\n.codehilite .il { color: #666666 } /* Literal.Number.Integer.Long */\\n\\n.markdown h1 { margin-block-start: 0.34em }\\n.markdown h2 { margin-block-start: 0.42em }\\n.markdown h3 { margin-block-start: 0.5em }\\n.markdown h4 { margin-block-start: 0.67em }\\n.markdown h5 { margin-block-start: 0.84em }\\n.markdown h6 { margin-block-start: 1.17em }\\n.markdown ul { padding-inline-start: 2em }\\n.markdown ol { padding-inline-start: 2em }\\n.markdown strong { font-weight: 600 }\\n.markdown a { color: -webkit-link }\\n.markdown a { color: -moz-hyperlinkText }\\n\");\n",
       "    },\n",
       "    function(Bokeh) {\n",
       "      inject_raw_css(\".widget-box {\\n\\tmin-height: 20px;\\n\\tbackground-color: #f5f5f5;\\n\\tborder: 1px solid #e3e3e3 !important;\\n\\tborder-radius: 4px;\\n\\t-webkit-box-shadow: inset 0 1px 1px rgba(0,0,0,.05);\\n\\tbox-shadow: inset 0 1px 1px rgba(0,0,0,.05);\\n\\toverflow-x: hidden;\\n\\toverflow-y: hidden;\\n}\\n\\n.scrollable {\\n  overflow: scroll;\\n}\\n\\nprogress {\\n\\tappearance: none;\\n\\t-moz-appearance: none;\\n\\t-webkit-appearance: none;\\n\\n\\tborder: none;\\n\\theight: 20px;\\n\\tbackground-color: whiteSmoke;\\n\\tborder-radius: 3px;\\n\\tbox-shadow: 0 2px 3px rgba(0,0,0,.5) inset;\\n\\tcolor: royalblue;\\n\\tposition: relative;\\n\\tmargin: 0 0 1.5em;\\n}\\n\\nprogress[value]::-webkit-progress-bar {\\n\\tbackground-color: whiteSmoke;\\n\\tborder-radius: 3px;\\n\\tbox-shadow: 0 2px 3px rgba(0,0,0,.5) inset;\\n}\\n\\nprogress[value]::-webkit-progress-value {\\n\\tposition: relative;\\n\\n\\tbackground-size: 35px 20px, 100% 100%, 100% 100%;\\n\\tborder-radius:3px;\\n}\\n\\nprogress.active:not([value])::before {\\n\\tbackground-position: 10%;\\n\\tanimation-name: stripes;\\n\\tanimation-duration: 3s;\\n\\tanimation-timing-function: linear;\\n\\tanimation-iteration-count: infinite;\\n}\\n\\nprogress[value]::-moz-progress-bar {\\n\\tbackground-size: 35px 20px, 100% 100%, 100% 100%;\\n\\tborder-radius:3px;\\n}\\n\\nprogress:not([value])::-moz-progress-bar {\\n\\tborder-radius:3px;\\n\\tbackground:\\n\\tlinear-gradient(-45deg, transparent 33%, rgba(0, 0, 0, 0.2) 33%, rgba(0, 0, 0, 0.2) 66%, transparent 66%) left/2.5em 1.5em;\\n\\n}\\n\\nprogress.active:not([value])::-moz-progress-bar {\\n\\tbackground-position: 10%;\\n\\tanimation-name: stripes;\\n\\tanimation-duration: 3s;\\n\\tanimation-timing-function: linear;\\n\\tanimation-iteration-count: infinite;\\n}\\n\\nprogress.active:not([value])::-webkit-progress-bar {\\n\\tbackground-position: 10%;\\n\\tanimation-name: stripes;\\n\\tanimation-duration: 3s;\\n\\tanimation-timing-function: linear;\\n\\tanimation-iteration-count: infinite;\\n}\\n\\nprogress.primary[value]::-webkit-progress-value { background-color: #007bff; }\\nprogress.primary:not([value])::before { background-color: #007bff; }\\nprogress.primary:not([value])::-webkit-progress-bar { background-color: #007bff; }\\nprogress.primary::-moz-progress-bar { background-color: #007bff; }\\n\\nprogress.secondary[value]::-webkit-progress-value { background-color: #6c757d; }\\nprogress.secondary:not([value])::before { background-color: #6c757d; }\\nprogress.secondary:not([value])::-webkit-progress-bar { background-color: #6c757d; }\\nprogress.secondary::-moz-progress-bar { background-color: #6c757d; }\\n\\nprogress.success[value]::-webkit-progress-value { background-color: #28a745; }\\nprogress.success:not([value])::before { background-color: #28a745; }\\nprogress.success:not([value])::-webkit-progress-bar { background-color: #28a745; }\\nprogress.success::-moz-progress-bar { background-color: #28a745; }\\n\\nprogress.danger[value]::-webkit-progress-value { background-color: #dc3545; }\\nprogress.danger:not([value])::before { background-color: #dc3545; }\\nprogress.danger:not([value])::-webkit-progress-bar { background-color: #dc3545; }\\nprogress.danger::-moz-progress-bar { background-color: #dc3545; }\\n\\nprogress.warning[value]::-webkit-progress-value { background-color: #ffc107; }\\nprogress.warning:not([value])::before { background-color: #ffc107; }\\nprogress.warning:not([value])::-webkit-progress-bar { background-color: #ffc107; }\\nprogress.warning::-moz-progress-bar { background-color: #ffc107; }\\n\\nprogress.info[value]::-webkit-progress-value { background-color: #17a2b8; }\\nprogress.info:not([value])::before { background-color: #17a2b8; }\\nprogress.info:not([value])::-webkit-progress-bar { background-color: #17a2b8; }\\nprogress.info::-moz-progress-bar { background-color: #17a2b8; }\\n\\nprogress.light[value]::-webkit-progress-value { background-color: #f8f9fa; }\\nprogress.light:not([value])::before { background-color: #f8f9fa; }\\nprogress.light:not([value])::-webkit-progress-bar { background-color: #f8f9fa; }\\nprogress.light::-moz-progress-bar { background-color: #f8f9fa; }\\n\\nprogress.dark[value]::-webkit-progress-value { background-color: #343a40; }\\nprogress.dark:not([value])::-webkit-progress-bar { background-color: #343a40; }\\nprogress.dark:not([value])::before { background-color: #343a40; }\\nprogress.dark::-moz-progress-bar { background-color: #343a40; }\\n\\nprogress:not([value])::-webkit-progress-bar {\\n\\tborder-radius: 3px;\\n\\tbackground:\\n\\tlinear-gradient(-45deg, transparent 33%, rgba(0, 0, 0, 0.2) 33%, rgba(0, 0, 0, 0.2) 66%, transparent 66%) left/2.5em 1.5em;\\n}\\nprogress:not([value])::before {\\n\\tcontent:\\\" \\\";\\n\\tposition:absolute;\\n\\theight: 20px;\\n\\ttop:0;\\n\\tleft:0;\\n\\tright:0;\\n\\tbottom:0;\\n\\tborder-radius: 3px;\\n\\tbackground:\\n\\tlinear-gradient(-45deg, transparent 33%, rgba(0, 0, 0, 0.2) 33%, rgba(0, 0, 0, 0.2) 66%, transparent 66%) left/2.5em 1.5em;\\n}\\n\\n@keyframes stripes {\\n  from {background-position: 0%}\\n  to {background-position: 100%}\\n}\");\n",
       "    },\n",
       "    function(Bokeh) {\n",
       "      Bokeh.set_log_level(\"info\");\n",
       "    },\n",
       "    function(Bokeh) {\n",
       "    \n",
       "    \n",
       "    }\n",
       "  ];\n",
       "\n",
       "  function run_inline_js() {\n",
       "    \n",
       "    if (root.Bokeh !== undefined || force === true) {\n",
       "      \n",
       "    for (var i = 0; i < inline_js.length; i++) {\n",
       "      inline_js[i].call(root, root.Bokeh);\n",
       "    }\n",
       "    if (force === true) {\n",
       "        display_loaded();\n",
       "      }} else if (Date.now() < root._bokeh_timeout) {\n",
       "      setTimeout(run_inline_js, 100);\n",
       "    } else if (!root._bokeh_failed_load) {\n",
       "      console.log(\"Bokeh: BokehJS failed to load within specified timeout.\");\n",
       "      root._bokeh_failed_load = true;\n",
       "    } else if (force !== true) {\n",
       "      var cell = $(document.getElementById(\"1143\")).parents('.cell').data().cell;\n",
       "      cell.output_area.append_execute_result(NB_LOAD_WARNING)\n",
       "    }\n",
       "\n",
       "  }\n",
       "\n",
       "  if (root._bokeh_is_loading === 0) {\n",
       "    console.debug(\"Bokeh: BokehJS loaded, going straight to plotting\");\n",
       "    run_inline_js();\n",
       "  } else {\n",
       "    load_libs(css_urls, js_urls, function() {\n",
       "      console.debug(\"Bokeh: BokehJS plotting callback run at\", now());\n",
       "      run_inline_js();\n",
       "    });\n",
       "  }\n",
       "}(window));"
      ],
      "application/vnd.bokehjs_load.v0+json": "\n(function(root) {\n  function now() {\n    return new Date();\n  }\n\n  var force = true;\n\n  if (typeof root._bokeh_onload_callbacks === \"undefined\" || force === true) {\n    root._bokeh_onload_callbacks = [];\n    root._bokeh_is_loading = undefined;\n  }\n\n  \n\n  \n  if (typeof (root._bokeh_timeout) === \"undefined\" || force === true) {\n    root._bokeh_timeout = Date.now() + 5000;\n    root._bokeh_failed_load = false;\n  }\n\n  var NB_LOAD_WARNING = {'data': {'text/html':\n     \"<div style='background-color: #fdd'>\\n\"+\n     \"<p>\\n\"+\n     \"BokehJS does not appear to have successfully loaded. If loading BokehJS from CDN, this \\n\"+\n     \"may be due to a slow or bad network connection. Possible fixes:\\n\"+\n     \"</p>\\n\"+\n     \"<ul>\\n\"+\n     \"<li>re-rerun `output_notebook()` to attempt to load from CDN again, or</li>\\n\"+\n     \"<li>use INLINE resources instead, as so:</li>\\n\"+\n     \"</ul>\\n\"+\n     \"<code>\\n\"+\n     \"from bokeh.resources import INLINE\\n\"+\n     \"output_notebook(resources=INLINE)\\n\"+\n     \"</code>\\n\"+\n     \"</div>\"}};\n\n  function display_loaded() {\n    var el = document.getElementById(\"1143\");\n    if (el != null) {\n      el.textContent = \"BokehJS is loading...\";\n    }\n    if (root.Bokeh !== undefined) {\n      if (el != null) {\n        el.textContent = \"BokehJS \" + root.Bokeh.version + \" successfully loaded.\";\n      }\n    } else if (Date.now() < root._bokeh_timeout) {\n      setTimeout(display_loaded, 100)\n    }\n  }\n\n\n  function run_callbacks() {\n    try {\n      root._bokeh_onload_callbacks.forEach(function(callback) {\n        if (callback != null)\n          callback();\n      });\n    } finally {\n      delete root._bokeh_onload_callbacks\n    }\n    console.debug(\"Bokeh: all callbacks have finished\");\n  }\n\n  function load_libs(css_urls, js_urls, callback) {\n    if (css_urls == null) css_urls = [];\n    if (js_urls == null) js_urls = [];\n\n    root._bokeh_onload_callbacks.push(callback);\n    if (root._bokeh_is_loading > 0) {\n      console.debug(\"Bokeh: BokehJS is being loaded, scheduling callback at\", now());\n      return null;\n    }\n    if (js_urls == null || js_urls.length === 0) {\n      run_callbacks();\n      return null;\n    }\n    console.debug(\"Bokeh: BokehJS not loaded, scheduling load and callback at\", now());\n    root._bokeh_is_loading = css_urls.length + js_urls.length;\n\n    function on_load() {\n      root._bokeh_is_loading--;\n      if (root._bokeh_is_loading === 0) {\n        console.debug(\"Bokeh: all BokehJS libraries/stylesheets loaded\");\n        run_callbacks()\n      }\n    }\n\n    function on_error() {\n      console.error(\"failed to load \" + url);\n    }\n\n    for (var i = 0; i < css_urls.length; i++) {\n      var url = css_urls[i];\n      const element = document.createElement(\"link\");\n      element.onload = on_load;\n      element.onerror = on_error;\n      element.rel = \"stylesheet\";\n      element.type = \"text/css\";\n      element.href = url;\n      console.debug(\"Bokeh: injecting link tag for BokehJS stylesheet: \", url);\n      document.body.appendChild(element);\n    }\n\n    const hashes = {\"https://cdn.bokeh.org/bokeh/release/bokeh-2.1.0.min.js\": \"YobFyzPeVUsFQydHkJGsJL1kyfHnWxOlPc3EwaV22TmBaeGoXHLWx5aRRVPS9xlE\", \"https://cdn.bokeh.org/bokeh/release/bokeh-widgets-2.1.0.min.js\": \"NuAg9+TcTQQqvQCTtkCneRrpkTiMhhfiq0KHiBzx8ECiKiLWXHN6i6ia3q7b3eHu\", \"https://cdn.bokeh.org/bokeh/release/bokeh-tables-2.1.0.min.js\": \"uMVqQc8JqHitD67bXTn9a06Mrk3EiHRaZ18EJENQenAKJ/KL71SakdXYomZQpGRr\", \"https://cdn.bokeh.org/bokeh/release/bokeh-gl-2.1.0.min.js\": \"u+eGuEXC8aw0VSCm2mH+b/tQEAitUOYiR1H6SuIVEdUmXsf4vN8m/SmXpmjb7U/X\"};\n\n    for (var i = 0; i < js_urls.length; i++) {\n      var url = js_urls[i];\n      var element = document.createElement('script');\n      element.onload = on_load;\n      element.onerror = on_error;\n      element.async = false;\n      element.src = url;\n      if (url in hashes) {\n        element.crossOrigin = \"anonymous\";\n        element.integrity = \"sha384-\" + hashes[url];\n      }\n      console.debug(\"Bokeh: injecting script tag for BokehJS library: \", url);\n      document.head.appendChild(element);\n    }\n  };\n\n  function inject_raw_css(css) {\n    const element = document.createElement(\"style\");\n    element.appendChild(document.createTextNode(css));\n    document.body.appendChild(element);\n  }\n\n  \n  var js_urls = [\"https://cdn.bokeh.org/bokeh/release/bokeh-2.1.0.min.js\", \"https://cdn.bokeh.org/bokeh/release/bokeh-widgets-2.1.0.min.js\", \"https://cdn.bokeh.org/bokeh/release/bokeh-tables-2.1.0.min.js\", \"https://cdn.bokeh.org/bokeh/release/bokeh-gl-2.1.0.min.js\", \"https://unpkg.com/@holoviz/panel@^0.9.5/dist/panel.min.js\"];\n  var css_urls = [];\n  \n\n  var inline_js = [\n    function(Bokeh) {\n      inject_raw_css(\"table.panel-df {\\n    margin-left: auto;\\n    margin-right: auto;\\n    border: none;\\n    border-collapse: collapse;\\n    border-spacing: 0;\\n    color: black;\\n    font-size: 12px;\\n    table-layout: fixed;\\n    width: 100%;\\n}\\n\\n.panel-df tr, th, td {\\n    text-align: right;\\n    vertical-align: middle;\\n    padding: 0.5em 0.5em !important;\\n    line-height: normal;\\n    white-space: normal;\\n    max-width: none;\\n    border: none;\\n}\\n\\n.panel-df tbody {\\n    display: table-row-group;\\n    vertical-align: middle;\\n    border-color: inherit;\\n}\\n\\n.panel-df tbody tr:nth-child(odd) {\\n    background: #f5f5f5;\\n}\\n\\n.panel-df thead {\\n    border-bottom: 1px solid black;\\n    vertical-align: bottom;\\n}\\n\\n.panel-df tr:hover {\\n    background: lightblue !important;\\n    cursor: pointer;\\n}\\n\");\n    },\n    function(Bokeh) {\n      inject_raw_css(\".json-formatter-row {\\n  font-family: monospace;\\n}\\n.json-formatter-row,\\n.json-formatter-row a,\\n.json-formatter-row a:hover {\\n  color: black;\\n  text-decoration: none;\\n}\\n.json-formatter-row .json-formatter-row {\\n  margin-left: 1rem;\\n}\\n.json-formatter-row .json-formatter-children.json-formatter-empty {\\n  opacity: 0.5;\\n  margin-left: 1rem;\\n}\\n.json-formatter-row .json-formatter-children.json-formatter-empty:after {\\n  display: none;\\n}\\n.json-formatter-row .json-formatter-children.json-formatter-empty.json-formatter-object:after {\\n  content: \\\"No properties\\\";\\n}\\n.json-formatter-row .json-formatter-children.json-formatter-empty.json-formatter-array:after {\\n  content: \\\"[]\\\";\\n}\\n.json-formatter-row .json-formatter-string,\\n.json-formatter-row .json-formatter-stringifiable {\\n  color: green;\\n  white-space: pre;\\n  word-wrap: break-word;\\n}\\n.json-formatter-row .json-formatter-number {\\n  color: blue;\\n}\\n.json-formatter-row .json-formatter-boolean {\\n  color: red;\\n}\\n.json-formatter-row .json-formatter-null {\\n  color: #855A00;\\n}\\n.json-formatter-row .json-formatter-undefined {\\n  color: #ca0b69;\\n}\\n.json-formatter-row .json-formatter-function {\\n  color: #FF20ED;\\n}\\n.json-formatter-row .json-formatter-date {\\n  background-color: rgba(0, 0, 0, 0.05);\\n}\\n.json-formatter-row .json-formatter-url {\\n  text-decoration: underline;\\n  color: blue;\\n  cursor: pointer;\\n}\\n.json-formatter-row .json-formatter-bracket {\\n  color: blue;\\n}\\n.json-formatter-row .json-formatter-key {\\n  color: #00008B;\\n  padding-right: 0.2rem;\\n}\\n.json-formatter-row .json-formatter-toggler-link {\\n  cursor: pointer;\\n}\\n.json-formatter-row .json-formatter-toggler {\\n  line-height: 1.2rem;\\n  font-size: 0.7rem;\\n  vertical-align: middle;\\n  opacity: 0.6;\\n  cursor: pointer;\\n  padding-right: 0.2rem;\\n}\\n.json-formatter-row .json-formatter-toggler:after {\\n  display: inline-block;\\n  transition: transform 100ms ease-in;\\n  content: \\\"\\\\25BA\\\";\\n}\\n.json-formatter-row > a > .json-formatter-preview-text {\\n  opacity: 0;\\n  transition: opacity 0.15s ease-in;\\n  font-style: italic;\\n}\\n.json-formatter-row:hover > a > .json-formatter-preview-text {\\n  opacity: 0.6;\\n}\\n.json-formatter-row.json-formatter-open > .json-formatter-toggler-link .json-formatter-toggler:after {\\n  transform: rotate(90deg);\\n}\\n.json-formatter-row.json-formatter-open > .json-formatter-children:after {\\n  display: inline-block;\\n}\\n.json-formatter-row.json-formatter-open > a > .json-formatter-preview-text {\\n  display: none;\\n}\\n.json-formatter-row.json-formatter-open.json-formatter-empty:after {\\n  display: block;\\n}\\n.json-formatter-dark.json-formatter-row {\\n  font-family: monospace;\\n}\\n.json-formatter-dark.json-formatter-row,\\n.json-formatter-dark.json-formatter-row a,\\n.json-formatter-dark.json-formatter-row a:hover {\\n  color: white;\\n  text-decoration: none;\\n}\\n.json-formatter-dark.json-formatter-row .json-formatter-row {\\n  margin-left: 1rem;\\n}\\n.json-formatter-dark.json-formatter-row .json-formatter-children.json-formatter-empty {\\n  opacity: 0.5;\\n  margin-left: 1rem;\\n}\\n.json-formatter-dark.json-formatter-row .json-formatter-children.json-formatter-empty:after {\\n  display: none;\\n}\\n.json-formatter-dark.json-formatter-row .json-formatter-children.json-formatter-empty.json-formatter-object:after {\\n  content: \\\"No properties\\\";\\n}\\n.json-formatter-dark.json-formatter-row .json-formatter-children.json-formatter-empty.json-formatter-array:after {\\n  content: \\\"[]\\\";\\n}\\n.json-formatter-dark.json-formatter-row .json-formatter-string,\\n.json-formatter-dark.json-formatter-row .json-formatter-stringifiable {\\n  color: #31F031;\\n  white-space: pre;\\n  word-wrap: break-word;\\n}\\n.json-formatter-dark.json-formatter-row .json-formatter-number {\\n  color: #66C2FF;\\n}\\n.json-formatter-dark.json-formatter-row .json-formatter-boolean {\\n  color: #EC4242;\\n}\\n.json-formatter-dark.json-formatter-row .json-formatter-null {\\n  color: #EEC97D;\\n}\\n.json-formatter-dark.json-formatter-row .json-formatter-undefined {\\n  color: #ef8fbe;\\n}\\n.json-formatter-dark.json-formatter-row .json-formatter-function {\\n  color: #FD48CB;\\n}\\n.json-formatter-dark.json-formatter-row .json-formatter-date {\\n  background-color: rgba(255, 255, 255, 0.05);\\n}\\n.json-formatter-dark.json-formatter-row .json-formatter-url {\\n  text-decoration: underline;\\n  color: #027BFF;\\n  cursor: pointer;\\n}\\n.json-formatter-dark.json-formatter-row .json-formatter-bracket {\\n  color: #9494FF;\\n}\\n.json-formatter-dark.json-formatter-row .json-formatter-key {\\n  color: #23A0DB;\\n  padding-right: 0.2rem;\\n}\\n.json-formatter-dark.json-formatter-row .json-formatter-toggler-link {\\n  cursor: pointer;\\n}\\n.json-formatter-dark.json-formatter-row .json-formatter-toggler {\\n  line-height: 1.2rem;\\n  font-size: 0.7rem;\\n  vertical-align: middle;\\n  opacity: 0.6;\\n  cursor: pointer;\\n  padding-right: 0.2rem;\\n}\\n.json-formatter-dark.json-formatter-row .json-formatter-toggler:after {\\n  display: inline-block;\\n  transition: transform 100ms ease-in;\\n  content: \\\"\\\\25BA\\\";\\n}\\n.json-formatter-dark.json-formatter-row > a > .json-formatter-preview-text {\\n  opacity: 0;\\n  transition: opacity 0.15s ease-in;\\n  font-style: italic;\\n}\\n.json-formatter-dark.json-formatter-row:hover > a > .json-formatter-preview-text {\\n  opacity: 0.6;\\n}\\n.json-formatter-dark.json-formatter-row.json-formatter-open > .json-formatter-toggler-link .json-formatter-toggler:after {\\n  transform: rotate(90deg);\\n}\\n.json-formatter-dark.json-formatter-row.json-formatter-open > .json-formatter-children:after {\\n  display: inline-block;\\n}\\n.json-formatter-dark.json-formatter-row.json-formatter-open > a > .json-formatter-preview-text {\\n  display: none;\\n}\\n.json-formatter-dark.json-formatter-row.json-formatter-open.json-formatter-empty:after {\\n  display: block;\\n}\\n\");\n    },\n    function(Bokeh) {\n      inject_raw_css(\".codehilite .hll { background-color: #ffffcc }\\n.codehilite  { background: #f8f8f8; }\\n.codehilite .c { color: #408080; font-style: italic } /* Comment */\\n.codehilite .err { border: 1px solid #FF0000 } /* Error */\\n.codehilite .k { color: #008000; font-weight: bold } /* Keyword */\\n.codehilite .o { color: #666666 } /* Operator */\\n.codehilite .ch { color: #408080; font-style: italic } /* Comment.Hashbang */\\n.codehilite .cm { color: #408080; font-style: italic } /* Comment.Multiline */\\n.codehilite .cp { color: #BC7A00 } /* Comment.Preproc */\\n.codehilite .cpf { color: #408080; font-style: italic } /* Comment.PreprocFile */\\n.codehilite .c1 { color: #408080; font-style: italic } /* Comment.Single */\\n.codehilite .cs { color: #408080; font-style: italic } /* Comment.Special */\\n.codehilite .gd { color: #A00000 } /* Generic.Deleted */\\n.codehilite .ge { font-style: italic } /* Generic.Emph */\\n.codehilite .gr { color: #FF0000 } /* Generic.Error */\\n.codehilite .gh { color: #000080; font-weight: bold } /* Generic.Heading */\\n.codehilite .gi { color: #00A000 } /* Generic.Inserted */\\n.codehilite .go { color: #888888 } /* Generic.Output */\\n.codehilite .gp { color: #000080; font-weight: bold } /* Generic.Prompt */\\n.codehilite .gs { font-weight: bold } /* Generic.Strong */\\n.codehilite .gu { color: #800080; font-weight: bold } /* Generic.Subheading */\\n.codehilite .gt { color: #0044DD } /* Generic.Traceback */\\n.codehilite .kc { color: #008000; font-weight: bold } /* Keyword.Constant */\\n.codehilite .kd { color: #008000; font-weight: bold } /* Keyword.Declaration */\\n.codehilite .kn { color: #008000; font-weight: bold } /* Keyword.Namespace */\\n.codehilite .kp { color: #008000 } /* Keyword.Pseudo */\\n.codehilite .kr { color: #008000; font-weight: bold } /* Keyword.Reserved */\\n.codehilite .kt { color: #B00040 } /* Keyword.Type */\\n.codehilite .m { color: #666666 } /* Literal.Number */\\n.codehilite .s { color: #BA2121 } /* Literal.String */\\n.codehilite .na { color: #7D9029 } /* Name.Attribute */\\n.codehilite .nb { color: #008000 } /* Name.Builtin */\\n.codehilite .nc { color: #0000FF; font-weight: bold } /* Name.Class */\\n.codehilite .no { color: #880000 } /* Name.Constant */\\n.codehilite .nd { color: #AA22FF } /* Name.Decorator */\\n.codehilite .ni { color: #999999; font-weight: bold } /* Name.Entity */\\n.codehilite .ne { color: #D2413A; font-weight: bold } /* Name.Exception */\\n.codehilite .nf { color: #0000FF } /* Name.Function */\\n.codehilite .nl { color: #A0A000 } /* Name.Label */\\n.codehilite .nn { color: #0000FF; font-weight: bold } /* Name.Namespace */\\n.codehilite .nt { color: #008000; font-weight: bold } /* Name.Tag */\\n.codehilite .nv { color: #19177C } /* Name.Variable */\\n.codehilite .ow { color: #AA22FF; font-weight: bold } /* Operator.Word */\\n.codehilite .w { color: #bbbbbb } /* Text.Whitespace */\\n.codehilite .mb { color: #666666 } /* Literal.Number.Bin */\\n.codehilite .mf { color: #666666 } /* Literal.Number.Float */\\n.codehilite .mh { color: #666666 } /* Literal.Number.Hex */\\n.codehilite .mi { color: #666666 } /* Literal.Number.Integer */\\n.codehilite .mo { color: #666666 } /* Literal.Number.Oct */\\n.codehilite .sa { color: #BA2121 } /* Literal.String.Affix */\\n.codehilite .sb { color: #BA2121 } /* Literal.String.Backtick */\\n.codehilite .sc { color: #BA2121 } /* Literal.String.Char */\\n.codehilite .dl { color: #BA2121 } /* Literal.String.Delimiter */\\n.codehilite .sd { color: #BA2121; font-style: italic } /* Literal.String.Doc */\\n.codehilite .s2 { color: #BA2121 } /* Literal.String.Double */\\n.codehilite .se { color: #BB6622; font-weight: bold } /* Literal.String.Escape */\\n.codehilite .sh { color: #BA2121 } /* Literal.String.Heredoc */\\n.codehilite .si { color: #BB6688; font-weight: bold } /* Literal.String.Interpol */\\n.codehilite .sx { color: #008000 } /* Literal.String.Other */\\n.codehilite .sr { color: #BB6688 } /* Literal.String.Regex */\\n.codehilite .s1 { color: #BA2121 } /* Literal.String.Single */\\n.codehilite .ss { color: #19177C } /* Literal.String.Symbol */\\n.codehilite .bp { color: #008000 } /* Name.Builtin.Pseudo */\\n.codehilite .fm { color: #0000FF } /* Name.Function.Magic */\\n.codehilite .vc { color: #19177C } /* Name.Variable.Class */\\n.codehilite .vg { color: #19177C } /* Name.Variable.Global */\\n.codehilite .vi { color: #19177C } /* Name.Variable.Instance */\\n.codehilite .vm { color: #19177C } /* Name.Variable.Magic */\\n.codehilite .il { color: #666666 } /* Literal.Number.Integer.Long */\\n\\n.markdown h1 { margin-block-start: 0.34em }\\n.markdown h2 { margin-block-start: 0.42em }\\n.markdown h3 { margin-block-start: 0.5em }\\n.markdown h4 { margin-block-start: 0.67em }\\n.markdown h5 { margin-block-start: 0.84em }\\n.markdown h6 { margin-block-start: 1.17em }\\n.markdown ul { padding-inline-start: 2em }\\n.markdown ol { padding-inline-start: 2em }\\n.markdown strong { font-weight: 600 }\\n.markdown a { color: -webkit-link }\\n.markdown a { color: -moz-hyperlinkText }\\n\");\n    },\n    function(Bokeh) {\n      inject_raw_css(\".widget-box {\\n\\tmin-height: 20px;\\n\\tbackground-color: #f5f5f5;\\n\\tborder: 1px solid #e3e3e3 !important;\\n\\tborder-radius: 4px;\\n\\t-webkit-box-shadow: inset 0 1px 1px rgba(0,0,0,.05);\\n\\tbox-shadow: inset 0 1px 1px rgba(0,0,0,.05);\\n\\toverflow-x: hidden;\\n\\toverflow-y: hidden;\\n}\\n\\n.scrollable {\\n  overflow: scroll;\\n}\\n\\nprogress {\\n\\tappearance: none;\\n\\t-moz-appearance: none;\\n\\t-webkit-appearance: none;\\n\\n\\tborder: none;\\n\\theight: 20px;\\n\\tbackground-color: whiteSmoke;\\n\\tborder-radius: 3px;\\n\\tbox-shadow: 0 2px 3px rgba(0,0,0,.5) inset;\\n\\tcolor: royalblue;\\n\\tposition: relative;\\n\\tmargin: 0 0 1.5em;\\n}\\n\\nprogress[value]::-webkit-progress-bar {\\n\\tbackground-color: whiteSmoke;\\n\\tborder-radius: 3px;\\n\\tbox-shadow: 0 2px 3px rgba(0,0,0,.5) inset;\\n}\\n\\nprogress[value]::-webkit-progress-value {\\n\\tposition: relative;\\n\\n\\tbackground-size: 35px 20px, 100% 100%, 100% 100%;\\n\\tborder-radius:3px;\\n}\\n\\nprogress.active:not([value])::before {\\n\\tbackground-position: 10%;\\n\\tanimation-name: stripes;\\n\\tanimation-duration: 3s;\\n\\tanimation-timing-function: linear;\\n\\tanimation-iteration-count: infinite;\\n}\\n\\nprogress[value]::-moz-progress-bar {\\n\\tbackground-size: 35px 20px, 100% 100%, 100% 100%;\\n\\tborder-radius:3px;\\n}\\n\\nprogress:not([value])::-moz-progress-bar {\\n\\tborder-radius:3px;\\n\\tbackground:\\n\\tlinear-gradient(-45deg, transparent 33%, rgba(0, 0, 0, 0.2) 33%, rgba(0, 0, 0, 0.2) 66%, transparent 66%) left/2.5em 1.5em;\\n\\n}\\n\\nprogress.active:not([value])::-moz-progress-bar {\\n\\tbackground-position: 10%;\\n\\tanimation-name: stripes;\\n\\tanimation-duration: 3s;\\n\\tanimation-timing-function: linear;\\n\\tanimation-iteration-count: infinite;\\n}\\n\\nprogress.active:not([value])::-webkit-progress-bar {\\n\\tbackground-position: 10%;\\n\\tanimation-name: stripes;\\n\\tanimation-duration: 3s;\\n\\tanimation-timing-function: linear;\\n\\tanimation-iteration-count: infinite;\\n}\\n\\nprogress.primary[value]::-webkit-progress-value { background-color: #007bff; }\\nprogress.primary:not([value])::before { background-color: #007bff; }\\nprogress.primary:not([value])::-webkit-progress-bar { background-color: #007bff; }\\nprogress.primary::-moz-progress-bar { background-color: #007bff; }\\n\\nprogress.secondary[value]::-webkit-progress-value { background-color: #6c757d; }\\nprogress.secondary:not([value])::before { background-color: #6c757d; }\\nprogress.secondary:not([value])::-webkit-progress-bar { background-color: #6c757d; }\\nprogress.secondary::-moz-progress-bar { background-color: #6c757d; }\\n\\nprogress.success[value]::-webkit-progress-value { background-color: #28a745; }\\nprogress.success:not([value])::before { background-color: #28a745; }\\nprogress.success:not([value])::-webkit-progress-bar { background-color: #28a745; }\\nprogress.success::-moz-progress-bar { background-color: #28a745; }\\n\\nprogress.danger[value]::-webkit-progress-value { background-color: #dc3545; }\\nprogress.danger:not([value])::before { background-color: #dc3545; }\\nprogress.danger:not([value])::-webkit-progress-bar { background-color: #dc3545; }\\nprogress.danger::-moz-progress-bar { background-color: #dc3545; }\\n\\nprogress.warning[value]::-webkit-progress-value { background-color: #ffc107; }\\nprogress.warning:not([value])::before { background-color: #ffc107; }\\nprogress.warning:not([value])::-webkit-progress-bar { background-color: #ffc107; }\\nprogress.warning::-moz-progress-bar { background-color: #ffc107; }\\n\\nprogress.info[value]::-webkit-progress-value { background-color: #17a2b8; }\\nprogress.info:not([value])::before { background-color: #17a2b8; }\\nprogress.info:not([value])::-webkit-progress-bar { background-color: #17a2b8; }\\nprogress.info::-moz-progress-bar { background-color: #17a2b8; }\\n\\nprogress.light[value]::-webkit-progress-value { background-color: #f8f9fa; }\\nprogress.light:not([value])::before { background-color: #f8f9fa; }\\nprogress.light:not([value])::-webkit-progress-bar { background-color: #f8f9fa; }\\nprogress.light::-moz-progress-bar { background-color: #f8f9fa; }\\n\\nprogress.dark[value]::-webkit-progress-value { background-color: #343a40; }\\nprogress.dark:not([value])::-webkit-progress-bar { background-color: #343a40; }\\nprogress.dark:not([value])::before { background-color: #343a40; }\\nprogress.dark::-moz-progress-bar { background-color: #343a40; }\\n\\nprogress:not([value])::-webkit-progress-bar {\\n\\tborder-radius: 3px;\\n\\tbackground:\\n\\tlinear-gradient(-45deg, transparent 33%, rgba(0, 0, 0, 0.2) 33%, rgba(0, 0, 0, 0.2) 66%, transparent 66%) left/2.5em 1.5em;\\n}\\nprogress:not([value])::before {\\n\\tcontent:\\\" \\\";\\n\\tposition:absolute;\\n\\theight: 20px;\\n\\ttop:0;\\n\\tleft:0;\\n\\tright:0;\\n\\tbottom:0;\\n\\tborder-radius: 3px;\\n\\tbackground:\\n\\tlinear-gradient(-45deg, transparent 33%, rgba(0, 0, 0, 0.2) 33%, rgba(0, 0, 0, 0.2) 66%, transparent 66%) left/2.5em 1.5em;\\n}\\n\\n@keyframes stripes {\\n  from {background-position: 0%}\\n  to {background-position: 100%}\\n}\");\n    },\n    function(Bokeh) {\n      Bokeh.set_log_level(\"info\");\n    },\n    function(Bokeh) {\n    \n    \n    }\n  ];\n\n  function run_inline_js() {\n    \n    if (root.Bokeh !== undefined || force === true) {\n      \n    for (var i = 0; i < inline_js.length; i++) {\n      inline_js[i].call(root, root.Bokeh);\n    }\n    if (force === true) {\n        display_loaded();\n      }} else if (Date.now() < root._bokeh_timeout) {\n      setTimeout(run_inline_js, 100);\n    } else if (!root._bokeh_failed_load) {\n      console.log(\"Bokeh: BokehJS failed to load within specified timeout.\");\n      root._bokeh_failed_load = true;\n    } else if (force !== true) {\n      var cell = $(document.getElementById(\"1143\")).parents('.cell').data().cell;\n      cell.output_area.append_execute_result(NB_LOAD_WARNING)\n    }\n\n  }\n\n  if (root._bokeh_is_loading === 0) {\n    console.debug(\"Bokeh: BokehJS loaded, going straight to plotting\");\n    run_inline_js();\n  } else {\n    load_libs(css_urls, js_urls, function() {\n      console.debug(\"Bokeh: BokehJS plotting callback run at\", now());\n      run_inline_js();\n    });\n  }\n}(window));"
     },
     "metadata": {},
     "output_type": "display_data"
    },
    {
     "data": {
      "text/html": [
       "\n",
       "\n",
       "\n",
       "\n",
       "\n",
       "\n",
       "  <div class=\"bk-root\" id=\"16552773-4252-4a8e-a9c9-778032ba19c1\" data-root-id=\"1105\"></div>\n"
      ]
     },
     "metadata": {},
     "output_type": "display_data"
    },
    {
     "data": {
      "application/javascript": [
       "(function(root) {\n",
       "  function embed_document(root) {\n",
       "    \n",
       "  var docs_json = {\"a831d215-be62-4132-a599-61f0491ce945\":{\"roots\":{\"references\":[{\"attributes\":{\"background_fill_color\":\"white\",\"below\":[{\"id\":\"1114\"}],\"center\":[{\"id\":\"1117\"},{\"id\":\"1121\"}],\"left\":[{\"id\":\"1118\"}],\"plot_height\":800,\"plot_width\":800,\"renderers\":[{\"id\":\"1141\"}],\"title\":{\"id\":\"1154\"},\"toolbar\":{\"id\":\"1130\"},\"x_range\":{\"id\":\"1106\"},\"x_scale\":{\"id\":\"1110\"},\"y_range\":{\"id\":\"1108\"},\"y_scale\":{\"id\":\"1112\"}},\"id\":\"1105\",\"subtype\":\"Figure\",\"type\":\"Plot\"},{\"attributes\":{\"data\":{\"alpha\":[1,1,1,1,1,1,1,1,1,1,1,1,1,1,1,1,1,1,1,1,1,1,1,1,1,1,1,1,1,1,1,1,1,1,1,1,1,1,1,1,1,1,1,1,1,1,1,1,1,1,1,1,1,1,1,1,1,1,1,1,1,1,1,1,1,1,1,1,1,1,1,1,1,1,1,1,1,1,1,1,1,1,1,1,1,1,1,1,1,1,1,1,1,1,1,1,1,1,1,1,1,1,1,1,1,1,1,1,1,1,1,1,1,1,1,1,1,1,1,1,1,1,1,1,1,1,1,1,1,1,1,1,1,1,1,1,1,1,1,1,1,1,1,1,1,1,1,1,1,1,1,1,1,1,1,1,1,1,1,1,1,1,1,1,1,1,1,1,1,1,1,1,1,1,1,1,1,1,1,1,1,1,1,1,1,1,1,1,1,1,1,1,1,1,1,1,1,1,1,1,1,1,1,1,1,1,1,1,1,1,1,1,1,1,1,1,1,1,1,1,1,1,1,1,1,1,1,1,1,1,1,1,1,1,1,1,1,1,1,1,1,1,1,1,1,1,1,1,1,1,1,1,1,1,1,1,1,1,1,1,1,1,1,1,1,1,1,1,1,1,1,1,1,1,1,1,1,1,1,1,1,1,1,1,1,1,1,1,1,1,1,1,1,1,1,1,1,1,1,1,1,1,1,1,1,1,1,1,1,1,1,1,1,1,1,1,1,1,1,1,1,1,1,1,1,1,1,1,1,1,1,1,1,1,1,1,1,1,1,1,1,1,1,1,1,1,1,1,1,1,1,1,1,1,1,1,1,1,1,1,1,1,1,1,1,1,1,1,1,1,1,1,1,1,1,1,1,1,1,1,1,1,1,1,1,1,1,1,1,1,1,1,1,1,1,1,1,1,1,1,1,1,1,1,1,1,1,1,1,1,1,1,1,1,1,1,1,1,1,1,1,1,1,1,1,1,1,1,1,1,1,1,1,1,1,1,1,1,1,1,1,1,1,1,1,1,1,1,1,1,1,1,1,1,1,1,1,1,1,1,1,1,1,1,1,1,1,1,1,1,1,1,1,1,1,1,1,1,1,1,1,1,1,1,1,1,1,1,1,1,1,1,1,1,1,1,1,1,1,1,1,1,1,1,1,1,1,1,1,1,1,1,1,1,1,1,1,1,1,1,1,1,1,1,1,1,1,1,1,1,1,1,1,1,1,1,1,1,1,1,1,1,1,1,1,1,1,1,1,1,1,1,1,1,1,1,1,1,1,1,1,1,1,1,1,1,1,1,1,1,1,1,1,1,1,1,1,1,1,1,1,1,1,1,1,1,1,1,1,1,1,1,1,1,1,1,1,1,1,1,1,1,1,1,1,1,1,1,1,1,1,1,1,1,1,1,1,1,1,1,1,1,1,1,1,1,1,1,1,1,1,1,1,1,1,1,1,1,1,1,1,1,1,1,1,1,1,1,1,1,1,1,1,1,1,1,1,1,1,1,1,1,1,1,1,1,1,1,1,1,1,1,1,1,1,1,1,1,1,1,1,1,1,1,1,1,1,1,1,1,1,1,1,1,1,1,1,1,1,1,1,1,1,1,1,1,1,1,1,1,1,1,1,1,1,1,1,1,1,1,1,1,1,1,1,1,1,1,1,1,1,1,1,1,1,1,1,1,1,1,1,1,1,1,1,1,1,1,1,1,1,1,1,1,1,1,1,1,1,1,1,1,1,1,1,1,1,1,1,1,1,1,1,1,1,1,1,1,1,1,1,1,1,1,1,1,1,1,1,1,1,1,1,1,1,1,1,1,1,1,1,1,1,1,1,1,1,1,1,1,1,1,1,1,1,1,1,1,1,1,1,1,1,1,1,1,1,1,1,1,1,1,1,1,1,1,1,1,1,1,1,1,1,1,1,1,1,1,1,1,1,1,1,1,1,1,1,1,1,1,1,1,1,1,1,1,1,1,1,1,1,1,1,1,1,1,1,1,1,1,1,1,1,1,1,1,1,1,1,1,1,1,1,1,1,1,1,1,1,1,1,1,1,1,1,1,1,1,1,1,1,1,1,1,1,1,1,1,1,1,1,1,1,1,1,1,1,1,1,1,1,1,1,1,1,1,1,1,1,1,1,1,1,1,1,1,1,1,1,1,1,1,1,1,1,1,1,1,1,1,1,1,1,1,1,1,1,1,1,1,1,1,1,1,1,1,1,1,1,1,1,1,1,1,1,1,1,1,1,1,1,1,1,1,1,1,1,1,1,1,1,1,1,1,1,1,1,1,1,1,1,1,1,1,1,1,1,1,1,1,1,1,1,1,1,1,1,1,1,1,1,1,1,1,1,1,1,1,1,1,1,1,1,1,1,1,1,1,1,1,1,1,1,1,1,1,1,1,1,1,1,1,1,1,1,1,1,1,1,1,1,1,1,1,1,1,1,1,1,1,1,1,1,1,1,1,1,1,1,1,1,1,1,1,1,1,1,1,1,1,1,1,1,1,1,1,1,1,1,1,1,1,1,1,1,1,1,1,1,1,1,1,1,1,1,1,1,1,1,1,1,1,1,1,1,1,1,1,1,1,1,1,1,1,1,1,1,1,1,1,1,1,1,1,1,1,1,1,1,1,1,1,1,1,1,1,1,1,1,1,1,1,1,1,1,1,1,1,1,1,1,1,1,1,1,1,1,1,1,1,1,1,1,1,1,1,1,1,1,1,1,1,1,1,1,1,1,1,1,1,1,1,1,1,1,1,1,1,1,1,1,1,1,1,1,1,1,1,1,1,1,1,1,1,1,1,1,1,1,1,1,1,1,1,1,1,1,1,1,1,1,1,1,1,1,1,1,1,1,1,1,1,1,1,1,1,1,1,1,1,1,1,1,1,1,1,1,1,1,1,1,1,1,1,1,1,1,1,1,1,1,1,1,1,1,1,1,1,1,1,1,1,1,1,1,1,1,1,1,1,1,1,1,1,1,1,1,1,1,1,1,1,1,1,1,1,1,1,1,1,1,1,1,1,1,1,1,1,1,1,1,1,1,1,1,1,1,1,1,1,1,1,1,1,1,1,1,1,1,1,1,1,1,1,1,1,1,1],\"color\":[\"#fff8b4\",\"#a90d45\",\"#a90d45\",\"#fede89\",\"#54aead\",\"#fed481\",\"#a90d45\",\"#fec877\",\"#f5fbaf\",\"#fec877\",\"#fafdb7\",\"#e4f498\",\"#f5fbaf\",\"#54aead\",\"#fee593\",\"#bfe5a0\",\"#fed481\",\"#feec9f\",\"#caea9e\",\"#fdbf6f\",\"#5eb9a9\",\"#5eb9a9\",\"#fec877\",\"#fff8b4\",\"#5eb9a9\",\"#feec9f\",\"#fec877\",\"#feec9f\",\"#a90d45\",\"#feec9f\",\"#f06744\",\"#fec877\",\"#cb334d\",\"#5eb9a9\",\"#feec9f\",\"#feec9f\",\"#fec877\",\"#feec9f\",\"#f98e52\",\"#d63f4f\",\"#ffffbe\",\"#fec877\",\"#86cfa5\",\"#fee593\",\"#fa9b58\",\"#caea9e\",\"#fec877\",\"#fee593\",\"#fdb567\",\"#fed481\",\"#a90d45\",\"#4d65ad\",\"#bfe5a0\",\"#b1dfa3\",\"#e95c47\",\"#feec9f\",\"#3d95b8\",\"#bfe5a0\",\"#6bc4a5\",\"#fdbf6f\",\"#caea9e\",\"#ffffbe\",\"#feec9f\",\"#bfe5a0\",\"#ffffbe\",\"#9e0142\",\"#feec9f\",\"#e95c47\",\"#e95c47\",\"#fdbf6f\",\"#caea9e\",\"#fec877\",\"#ffffbe\",\"#fdbf6f\",\"#f67f4b\",\"#5eb9a9\",\"#ffffbe\",\"#fec877\",\"#caea9e\",\"#fdbf6f\",\"#a90d45\",\"#3389bd\",\"#f06744\",\"#feec9f\",\"#eaf79e\",\"#fee593\",\"#e95c47\",\"#a4daa4\",\"#caea9e\",\"#caea9e\",\"#caea9e\",\"#fdb567\",\"#fdbf6f\",\"#fee593\",\"#eff9a6\",\"#3d95b8\",\"#e95c47\",\"#bfe5a0\",\"#fa9b58\",\"#fca85e\",\"#feec9f\",\"#fee593\",\"#eff9a6\",\"#dd4a4c\",\"#49a2b2\",\"#fec877\",\"#caea9e\",\"#ffffbe\",\"#5eb9a9\",\"#f06744\",\"#5eb9a9\",\"#feec9f\",\"#feec9f\",\"#86cfa5\",\"#f5fbaf\",\"#fec877\",\"#a90d45\",\"#f5fbaf\",\"#5eb9a9\",\"#6bc4a5\",\"#fdbf6f\",\"#fdbf6f\",\"#a90d45\",\"#d6ee9b\",\"#bfe5a0\",\"#ffffbe\",\"#555aa7\",\"#fee593\",\"#f57245\",\"#6bc4a5\",\"#bfe5a0\",\"#fec877\",\"#54aead\",\"#fff8b4\",\"#f06744\",\"#f57245\",\"#fafdb7\",\"#6bc4a5\",\"#fdbf6f\",\"#f98e52\",\"#fdbf6f\",\"#fff8b4\",\"#54aead\",\"#feec9f\",\"#caea9e\",\"#3d95b8\",\"#fa9b58\",\"#54aead\",\"#cb334d\",\"#a90d45\",\"#fec877\",\"#feec9f\",\"#fede89\",\"#fee593\",\"#feec9f\",\"#54aead\",\"#4d65ad\",\"#feec9f\",\"#fec877\",\"#fa9b58\",\"#9e0142\",\"#fdbf6f\",\"#5eb9a9\",\"#54aead\",\"#fec877\",\"#f06744\",\"#fca85e\",\"#c1274a\",\"#f06744\",\"#5eb9a9\",\"#86cfa5\",\"#dd4a4c\",\"#fca85e\",\"#caea9e\",\"#a4daa4\",\"#caea9e\",\"#fdb567\",\"#54aead\",\"#5eb9a9\",\"#5eb9a9\",\"#caea9e\",\"#79c9a5\",\"#fec877\",\"#54aead\",\"#fec877\",\"#feec9f\",\"#feec9f\",\"#fec877\",\"#3389bd\",\"#cb334d\",\"#f98e52\",\"#ffffbe\",\"#5eb9a9\",\"#4d65ad\",\"#54aead\",\"#fed481\",\"#fec877\",\"#feec9f\",\"#fca85e\",\"#f5fbaf\",\"#cb334d\",\"#feec9f\",\"#fdbf6f\",\"#fdbf6f\",\"#cb334d\",\"#bfe5a0\",\"#5eb9a9\",\"#f98e52\",\"#fee593\",\"#fee593\",\"#54aead\",\"#4471b2\",\"#9e0142\",\"#a90d45\",\"#f5fbaf\",\"#fee593\",\"#fec877\",\"#6bc4a5\",\"#f06744\",\"#b41947\",\"#fee593\",\"#feec9f\",\"#fec877\",\"#4d65ad\",\"#fca85e\",\"#fdb567\",\"#fec877\",\"#54aead\",\"#bfe5a0\",\"#feec9f\",\"#fee593\",\"#54aead\",\"#feec9f\",\"#5eb9a9\",\"#fa9b58\",\"#b1dfa3\",\"#fee593\",\"#9e0142\",\"#fee593\",\"#fee593\",\"#54aead\",\"#c1274a\",\"#fec877\",\"#fdbf6f\",\"#feec9f\",\"#fee593\",\"#a4daa4\",\"#caea9e\",\"#fee593\",\"#f57245\",\"#b41947\",\"#4471b2\",\"#ffffbe\",\"#3389bd\",\"#9e0142\",\"#feec9f\",\"#5eb9a9\",\"#5eb9a9\",\"#ffffbe\",\"#fa9b58\",\"#fca85e\",\"#fee593\",\"#a90d45\",\"#feec9f\",\"#fdbf6f\",\"#fa9b58\",\"#97d5a4\",\"#fdbf6f\",\"#fed481\",\"#54aead\",\"#cb334d\",\"#eff9a6\",\"#fca85e\",\"#bfe5a0\",\"#fec877\",\"#a90d45\",\"#6bc4a5\",\"#c1274a\",\"#97d5a4\",\"#4d65ad\",\"#e4f498\",\"#fff8b4\",\"#fff8b4\",\"#f06744\",\"#e95c47\",\"#fa9b58\",\"#caea9e\",\"#5eb9a9\",\"#fff8b4\",\"#fdbf6f\",\"#5eb9a9\",\"#fdbf6f\",\"#caea9e\",\"#feec9f\",\"#f98e52\",\"#ffffbe\",\"#fec877\",\"#fec877\",\"#6bc4a5\",\"#fdbf6f\",\"#cb334d\",\"#fec877\",\"#54aead\",\"#e4f498\",\"#fec877\",\"#dd4a4c\",\"#54aead\",\"#a90d45\",\"#fec877\",\"#d6ee9b\",\"#555aa7\",\"#fee593\",\"#fec877\",\"#fec877\",\"#feec9f\",\"#fdbf6f\",\"#a4daa4\",\"#fdbf6f\",\"#f06744\",\"#fec877\",\"#feec9f\",\"#f06744\",\"#bfe5a0\",\"#d6ee9b\",\"#a90d45\",\"#a4daa4\",\"#54aead\",\"#fee593\",\"#54aead\",\"#caea9e\",\"#3d95b8\",\"#a4daa4\",\"#feec9f\",\"#555aa7\",\"#54aead\",\"#79c9a5\",\"#c1274a\",\"#fdbf6f\",\"#fee593\",\"#dd4a4c\",\"#fdbf6f\",\"#fed481\",\"#d63f4f\",\"#feec9f\",\"#fdbf6f\",\"#fec877\",\"#fdbf6f\",\"#3a7eb8\",\"#54aead\",\"#3d95b8\",\"#a90d45\",\"#6bc4a5\",\"#caea9e\",\"#bfe5a0\",\"#fdbf6f\",\"#bfe5a0\",\"#bfe5a0\",\"#fdbf6f\",\"#feec9f\",\"#d6ee9b\",\"#fca85e\",\"#fec877\",\"#d6ee9b\",\"#9e0142\",\"#e95c47\",\"#fec877\",\"#f06744\",\"#54aead\",\"#ffffbe\",\"#97d5a4\",\"#fee593\",\"#fdbf6f\",\"#fede89\",\"#f57245\",\"#9e0142\",\"#fdbf6f\",\"#9e0142\",\"#3389bd\",\"#fee593\",\"#fec877\",\"#d63f4f\",\"#54aead\",\"#a4daa4\",\"#9e0142\",\"#fec877\",\"#6bc4a5\",\"#a4daa4\",\"#cb334d\",\"#bfe5a0\",\"#9e0142\",\"#54aead\",\"#caea9e\",\"#fec877\",\"#caea9e\",\"#fec877\",\"#fdbf6f\",\"#f5fbaf\",\"#e95c47\",\"#d6ee9b\",\"#9e0142\",\"#fca85e\",\"#a4daa4\",\"#cb334d\",\"#fec877\",\"#fec877\",\"#bfe5a0\",\"#6bc4a5\",\"#feec9f\",\"#fec877\",\"#e95c47\",\"#fee593\",\"#fec877\",\"#feec9f\",\"#bfe5a0\",\"#3d95b8\",\"#fec877\",\"#f98e52\",\"#fee593\",\"#fdbf6f\",\"#feec9f\",\"#d6ee9b\",\"#fdbf6f\",\"#caea9e\",\"#feec9f\",\"#fdbf6f\",\"#ffffbe\",\"#f5fbaf\",\"#f06744\",\"#79c9a5\",\"#fede89\",\"#fec877\",\"#fdbf6f\",\"#54aead\",\"#fee593\",\"#fec877\",\"#9e0142\",\"#feec9f\",\"#fec877\",\"#bfe5a0\",\"#fdbf6f\",\"#54aead\",\"#e95c47\",\"#fec877\",\"#bfe5a0\",\"#feec9f\",\"#bfe5a0\",\"#bfe5a0\",\"#fee593\",\"#a90d45\",\"#fee593\",\"#a90d45\",\"#9e0142\",\"#fca85e\",\"#a90d45\",\"#d63f4f\",\"#fafdb7\",\"#3d95b8\",\"#fec877\",\"#ffffbe\",\"#e95c47\",\"#a90d45\",\"#fee593\",\"#fede89\",\"#eff9a6\",\"#fee593\",\"#fafdb7\",\"#79c9a5\",\"#f57245\",\"#e95c47\",\"#fec877\",\"#caea9e\",\"#fec877\",\"#3389bd\",\"#3389bd\",\"#fec877\",\"#f57245\",\"#caea9e\",\"#d6ee9b\",\"#bfe5a0\",\"#e4f498\",\"#a90d45\",\"#f5fbaf\",\"#caea9e\",\"#fec877\",\"#fede89\",\"#f57245\",\"#feec9f\",\"#e3534a\",\"#fec877\",\"#feec9f\",\"#fec877\",\"#a90d45\",\"#f5fbaf\",\"#c1274a\",\"#c1274a\",\"#caea9e\",\"#fec877\",\"#fee593\",\"#caea9e\",\"#fdbf6f\",\"#a90d45\",\"#fec877\",\"#feec9f\",\"#a90d45\",\"#ffffbe\",\"#eaf79e\",\"#fdbf6f\",\"#c1274a\",\"#caea9e\",\"#fec877\",\"#f06744\",\"#fee593\",\"#fec877\",\"#97d5a4\",\"#6bc4a5\",\"#fdbf6f\",\"#fdbf6f\",\"#54aead\",\"#a90d45\",\"#fdbf6f\",\"#caea9e\",\"#fdbf6f\",\"#cb334d\",\"#feec9f\",\"#5eb9a9\",\"#3389bd\",\"#5eb9a9\",\"#d6ee9b\",\"#fff2aa\",\"#a90d45\",\"#f98e52\",\"#fec877\",\"#d63f4f\",\"#fec877\",\"#fdbf6f\",\"#5eb9a9\",\"#feec9f\",\"#caea9e\",\"#54aead\",\"#fec877\",\"#fa9b58\",\"#fdbf6f\",\"#caea9e\",\"#fca85e\",\"#5eb9a9\",\"#fdbf6f\",\"#feec9f\",\"#fdbf6f\",\"#feec9f\",\"#fdbf6f\",\"#f5fbaf\",\"#fdbf6f\",\"#bfe5a0\",\"#eff9a6\",\"#fee593\",\"#fdbf6f\",\"#feec9f\",\"#fee593\",\"#cb334d\",\"#a90d45\",\"#a4daa4\",\"#a90d45\",\"#6bc4a5\",\"#feec9f\",\"#79c9a5\",\"#feec9f\",\"#bfe5a0\",\"#ffffbe\",\"#bfe5a0\",\"#a90d45\",\"#f57245\",\"#d6ee9b\",\"#feec9f\",\"#feec9f\",\"#fec877\",\"#fee593\",\"#fa9b58\",\"#ffffbe\",\"#fafdb7\",\"#fa9b58\",\"#bfe5a0\",\"#fdbf6f\",\"#fdbf6f\",\"#fec877\",\"#f06744\",\"#feec9f\",\"#bfe5a0\",\"#feec9f\",\"#6bc4a5\",\"#9e0142\",\"#e95c47\",\"#feec9f\",\"#fec877\",\"#fee593\",\"#f98e52\",\"#fed481\",\"#e3534a\",\"#bfe5a0\",\"#54aead\",\"#4471b2\",\"#feec9f\",\"#86cfa5\",\"#f98e52\",\"#fdbf6f\",\"#fdbf6f\",\"#54aead\",\"#fee593\",\"#e4f498\",\"#fee593\",\"#bfe5a0\",\"#fec877\",\"#fee593\",\"#fec877\",\"#fff8b4\",\"#86cfa5\",\"#6bc4a5\",\"#a90d45\",\"#fed481\",\"#fee593\",\"#fee593\",\"#f06744\",\"#fdbf6f\",\"#feec9f\",\"#fa9b58\",\"#a90d45\",\"#fee593\",\"#fff8b4\",\"#fee593\",\"#bfe5a0\",\"#a4daa4\",\"#fdbf6f\",\"#fdbf6f\",\"#feec9f\",\"#fee593\",\"#a4daa4\",\"#6bc4a5\",\"#6bc4a5\",\"#fa9b58\",\"#a4daa4\",\"#feec9f\",\"#e95c47\",\"#f98e52\",\"#fdbf6f\",\"#e3534a\",\"#bfe5a0\",\"#bfe5a0\",\"#555aa7\",\"#b1dfa3\",\"#bfe5a0\",\"#fee593\",\"#86cfa5\",\"#caea9e\",\"#c1274a\",\"#fec877\",\"#d63f4f\",\"#fec877\",\"#b1dfa3\",\"#bfe5a0\",\"#fee593\",\"#bfe5a0\",\"#54aead\",\"#ffffbe\",\"#ffffbe\",\"#caea9e\",\"#fdbf6f\",\"#a90d45\",\"#cb334d\",\"#fa9b58\",\"#feec9f\",\"#fff8b4\",\"#c1274a\",\"#ffffbe\",\"#cb334d\",\"#feec9f\",\"#e4f498\",\"#f06744\",\"#86cfa5\",\"#54aead\",\"#fec877\",\"#cb334d\",\"#f67f4b\",\"#fed481\",\"#fec877\",\"#fa9b58\",\"#fee593\",\"#a90d45\",\"#fdbf6f\",\"#b1dfa3\",\"#ffffbe\",\"#3389bd\",\"#feec9f\",\"#fec877\",\"#54aead\",\"#54aead\",\"#a90d45\",\"#fdbf6f\",\"#fca85e\",\"#f5fbaf\",\"#f57245\",\"#fee593\",\"#d63f4f\",\"#a90d45\",\"#54aead\",\"#cb334d\",\"#fdbf6f\",\"#bfe5a0\",\"#e4f498\",\"#6bc4a5\",\"#f98e52\",\"#e4f498\",\"#fa9b58\",\"#eaf79e\",\"#eaf79e\",\"#fec877\",\"#fee593\",\"#caea9e\",\"#6bc4a5\",\"#ffffbe\",\"#a90d45\",\"#fee593\",\"#fec877\",\"#cb334d\",\"#fa9b58\",\"#caea9e\",\"#86cfa5\",\"#fec877\",\"#f5fbaf\",\"#fa9b58\",\"#fca85e\",\"#f98e52\",\"#9e0142\",\"#54aead\",\"#bfe5a0\",\"#5eb9a9\",\"#fdbf6f\",\"#cb334d\",\"#bfe5a0\",\"#feec9f\",\"#fec877\",\"#9e0142\",\"#fa9b58\",\"#fff8b4\",\"#f98e52\",\"#feec9f\",\"#f06744\",\"#f57245\",\"#caea9e\",\"#fdbf6f\",\"#bfe5a0\",\"#feec9f\",\"#feec9f\",\"#fdbf6f\",\"#fee593\",\"#6bc4a5\",\"#b1dfa3\",\"#a4daa4\",\"#fec877\",\"#3389bd\",\"#bfe5a0\",\"#fed481\",\"#4d65ad\",\"#fff8b4\",\"#ffffbe\",\"#ffffbe\",\"#fdbf6f\",\"#eff9a6\",\"#fa9b58\",\"#f5fbaf\",\"#6bc4a5\",\"#54aead\",\"#5eb9a9\",\"#caea9e\",\"#feec9f\",\"#fec877\",\"#fec877\",\"#fee593\",\"#fec877\",\"#a90d45\",\"#fed481\",\"#fee593\",\"#fa9b58\",\"#fec877\",\"#5eb9a9\",\"#a4daa4\",\"#caea9e\",\"#eaf79e\",\"#fec877\",\"#6bc4a5\",\"#3a7eb8\",\"#fee593\",\"#fdbf6f\",\"#fed481\",\"#fec877\",\"#6bc4a5\",\"#fed481\",\"#fa9b58\",\"#5eb9a9\",\"#d63f4f\",\"#4471b2\",\"#f5fbaf\",\"#b41947\",\"#e95c47\",\"#fec877\",\"#eaf79e\",\"#f5fbaf\",\"#ffffbe\",\"#cb334d\",\"#86cfa5\",\"#fdbf6f\",\"#fec877\",\"#fdbf6f\",\"#f06744\",\"#e95c47\",\"#6bc4a5\",\"#f98e52\",\"#fa9b58\",\"#a90d45\",\"#e4f498\",\"#e4f498\",\"#3a7eb8\",\"#bfe5a0\",\"#fec877\",\"#feec9f\",\"#fdbf6f\",\"#bfe5a0\",\"#fec877\",\"#fdb567\",\"#f06744\",\"#6bc4a5\",\"#ffffbe\",\"#9e0142\",\"#caea9e\",\"#fec877\",\"#fdbf6f\",\"#fec877\",\"#f98e52\",\"#a90d45\",\"#feec9f\",\"#fec877\",\"#a90d45\",\"#c1274a\",\"#bfe5a0\",\"#9e0142\",\"#fdbf6f\",\"#555aa7\",\"#fdbf6f\",\"#fa9b58\",\"#feec9f\",\"#4d65ad\",\"#f06744\",\"#d63f4f\",\"#9e0142\",\"#fa9b58\",\"#f57245\",\"#d6ee9b\",\"#fa9b58\",\"#fdbf6f\",\"#fed481\",\"#cb334d\",\"#feec9f\",\"#fed481\",\"#fdbf6f\",\"#caea9e\",\"#bfe5a0\",\"#fdbf6f\",\"#fdb567\",\"#6bc4a5\",\"#49a2b2\",\"#b1dfa3\",\"#9e0142\",\"#5eb9a9\",\"#fa9b58\",\"#fec877\",\"#fee593\",\"#f57245\",\"#5eb9a9\",\"#fee593\",\"#fec877\",\"#feec9f\",\"#feec9f\",\"#fdbf6f\",\"#a90d45\",\"#fee593\",\"#e4f498\",\"#6bc4a5\",\"#fee593\",\"#f67f4b\",\"#f98e52\",\"#fec877\",\"#a90d45\",\"#86cfa5\",\"#fee593\",\"#3389bd\",\"#eaf79e\",\"#79c9a5\",\"#5eb9a9\",\"#54aead\",\"#3389bd\",\"#fee593\",\"#a90d45\",\"#e95c47\",\"#f5fbaf\",\"#f06744\",\"#feec9f\",\"#5eb9a9\",\"#fdbf6f\",\"#fee593\",\"#3d95b8\",\"#54aead\",\"#cb334d\",\"#bfe5a0\",\"#fee593\",\"#e95c47\",\"#caea9e\",\"#a90d45\",\"#fed481\",\"#c1274a\",\"#9e0142\",\"#5eb9a9\",\"#fdbf6f\",\"#f5fbaf\",\"#f5fbaf\",\"#bfe5a0\",\"#fee593\",\"#caea9e\",\"#6bc4a5\",\"#5eb9a9\",\"#fff8b4\",\"#e95c47\",\"#ffffbe\",\"#caea9e\",\"#f06744\",\"#fec877\",\"#c1274a\",\"#f57245\",\"#79c9a5\",\"#bfe5a0\",\"#f5fbaf\",\"#fee593\",\"#e95c47\",\"#fec877\",\"#fec877\",\"#caea9e\",\"#bfe5a0\",\"#fdbf6f\",\"#54aead\",\"#fede89\",\"#feec9f\",\"#fed481\",\"#bfe5a0\",\"#e4f498\",\"#79c9a5\",\"#cb334d\",\"#9e0142\",\"#dd4a4c\",\"#6bc4a5\",\"#f5fbaf\",\"#fee593\",\"#4d65ad\",\"#b1dfa3\",\"#feec9f\",\"#a4daa4\",\"#fee593\",\"#fdbf6f\",\"#bfe5a0\",\"#b1dfa3\",\"#fdbf6f\",\"#feec9f\",\"#fed481\",\"#feec9f\",\"#bfe5a0\",\"#fed481\",\"#b41947\",\"#b1dfa3\",\"#fdbf6f\",\"#fec877\",\"#e95c47\",\"#bfe5a0\",\"#feec9f\",\"#eaf79e\",\"#f06744\",\"#f5fbaf\",\"#bfe5a0\",\"#54aead\",\"#d6ee9b\",\"#fff2aa\",\"#6bc4a5\",\"#fdbf6f\",\"#fee593\",\"#6bc4a5\",\"#e95c47\",\"#e95c47\",\"#6bc4a5\",\"#fee593\",\"#fec877\",\"#caea9e\",\"#79c9a5\",\"#ffffbe\",\"#6bc4a5\",\"#fafdb7\",\"#fdbf6f\",\"#caea9e\",\"#9e0142\",\"#fdbf6f\",\"#feec9f\",\"#caea9e\",\"#fec877\",\"#cb334d\",\"#79c9a5\",\"#feec9f\",\"#54aead\",\"#feec9f\",\"#3389bd\",\"#fec877\",\"#6bc4a5\",\"#f57245\",\"#6bc4a5\",\"#feec9f\",\"#fee593\",\"#b1dfa3\",\"#fec877\",\"#fff8b4\",\"#3389bd\",\"#fee593\",\"#fa9b58\",\"#b1dfa3\",\"#fede89\",\"#fede89\",\"#fdbf6f\",\"#e4f498\",\"#feec9f\",\"#f57245\",\"#fec877\",\"#54aead\",\"#cb334d\",\"#fede89\",\"#bfe5a0\",\"#a90d45\",\"#86cfa5\",\"#6bc4a5\",\"#fec877\",\"#e4f498\",\"#f06744\",\"#fede89\",\"#fee593\",\"#fdbf6f\",\"#a90d45\",\"#bfe5a0\",\"#feec9f\",\"#86cfa5\",\"#86cfa5\",\"#e4f498\",\"#a90d45\",\"#f57245\",\"#54aead\",\"#eaf79e\",\"#ffffbe\",\"#feec9f\",\"#fee593\",\"#54aead\",\"#bfe5a0\",\"#fec877\",\"#f98e52\",\"#eaf79e\",\"#fff8b4\",\"#bfe5a0\",\"#fa9b58\",\"#feec9f\",\"#fec877\",\"#fec877\",\"#caea9e\",\"#bfe5a0\",\"#fec877\",\"#fed481\",\"#86cfa5\",\"#cb334d\",\"#fed481\",\"#cb334d\",\"#feec9f\",\"#feec9f\",\"#f06744\",\"#fed481\",\"#bfe5a0\",\"#caea9e\",\"#fca85e\",\"#f5fbaf\",\"#bfe5a0\",\"#54aead\",\"#f06744\",\"#c1274a\",\"#feec9f\",\"#54aead\",\"#fa9b58\",\"#caea9e\",\"#fdbf6f\",\"#fa9b58\",\"#feec9f\",\"#fdbf6f\",\"#caea9e\",\"#fdbf6f\",\"#54aead\",\"#fdbf6f\",\"#fee593\",\"#caea9e\",\"#fdbf6f\",\"#fa9b58\",\"#fec877\",\"#bfe5a0\",\"#9e0142\",\"#a90d45\",\"#86cfa5\",\"#fdbf6f\",\"#caea9e\",\"#feec9f\",\"#a90d45\",\"#fec877\",\"#f06744\",\"#fa9b58\",\"#b41947\",\"#fec877\",\"#54aead\",\"#a90d45\",\"#eaf79e\",\"#fec877\",\"#6bc4a5\",\"#fed481\",\"#54aead\",\"#fee593\",\"#e95c47\",\"#fec877\",\"#fdb567\",\"#fec877\",\"#a90d45\",\"#6bc4a5\",\"#feec9f\",\"#fdbf6f\",\"#e95c47\",\"#eaf79e\",\"#e95c47\",\"#54aead\",\"#feec9f\",\"#bfe5a0\",\"#f67f4b\",\"#a90d45\",\"#feec9f\",\"#feec9f\",\"#dd4a4c\",\"#6bc4a5\",\"#4471b2\",\"#eff9a6\",\"#fec877\",\"#f98e52\",\"#a90d45\",\"#fca85e\",\"#6bc4a5\",\"#a4daa4\",\"#54aead\",\"#fa9b58\",\"#54aead\",\"#bfe5a0\",\"#3389bd\",\"#cb334d\",\"#54aead\",\"#e4f498\",\"#fee593\",\"#ffffbe\",\"#fa9b58\",\"#a90d45\",\"#fec877\",\"#fdbf6f\",\"#feec9f\",\"#86cfa5\",\"#e4f498\",\"#bfe5a0\",\"#a90d45\",\"#fee593\",\"#fec877\",\"#d63f4f\",\"#5eb9a9\",\"#fede89\",\"#6bc4a5\",\"#eff9a6\",\"#f98e52\",\"#9e0142\",\"#9e0142\",\"#fee593\",\"#d63f4f\",\"#fec877\",\"#a90d45\",\"#fdbf6f\",\"#caea9e\",\"#fdbf6f\",\"#6bc4a5\",\"#5eb9a9\",\"#fa9b58\",\"#feec9f\",\"#d63f4f\",\"#caea9e\",\"#fdbf6f\",\"#fdbf6f\",\"#f06744\",\"#cb334d\",\"#5eb9a9\",\"#54aead\",\"#ffffbe\",\"#f06744\",\"#a90d45\",\"#c1274a\",\"#5eb9a9\",\"#54aead\",\"#86cfa5\",\"#54aead\",\"#caea9e\",\"#fa9b58\",\"#feec9f\",\"#f06744\",\"#e3534a\",\"#5e4fa2\",\"#54aead\",\"#fec877\",\"#feec9f\",\"#e95c47\",\"#fec877\",\"#a90d45\",\"#6bc4a5\",\"#5eb9a9\",\"#5eb9a9\",\"#9e0142\",\"#b1dfa3\",\"#bfe5a0\",\"#fede89\",\"#fee593\",\"#fa9b58\",\"#eff9a6\",\"#e4f498\",\"#fec877\",\"#f5fbaf\",\"#54aead\",\"#f5fbaf\",\"#fec877\",\"#fec877\",\"#fdbf6f\",\"#cb334d\",\"#ffffbe\",\"#cb334d\",\"#feec9f\",\"#bfe5a0\",\"#3389bd\",\"#3389bd\",\"#fee593\",\"#54aead\",\"#e4f498\",\"#fec877\",\"#caea9e\",\"#6bc4a5\",\"#fede89\",\"#ffffbe\",\"#5e4fa2\",\"#d63f4f\",\"#ffffbe\",\"#feec9f\",\"#5eb9a9\",\"#bfe5a0\",\"#caea9e\",\"#feec9f\",\"#9e0142\",\"#9e0142\",\"#fee593\",\"#e95c47\",\"#f67f4b\",\"#97d5a4\",\"#f06744\",\"#fec877\",\"#feec9f\",\"#fdbf6f\",\"#e95c47\",\"#e3534a\",\"#fec877\",\"#fa9b58\",\"#bfe5a0\",\"#6bc4a5\",\"#fff8b4\",\"#fec877\",\"#feec9f\",\"#fec877\",\"#97d5a4\",\"#4471b2\",\"#fed481\",\"#eff9a6\",\"#fdbf6f\",\"#fed481\",\"#5eb9a9\",\"#5eb9a9\",\"#54aead\",\"#54aead\",\"#f06744\",\"#bfe5a0\",\"#ffffbe\",\"#fdbf6f\",\"#4471b2\",\"#fdbf6f\",\"#dd4a4c\",\"#555aa7\",\"#fdbf6f\",\"#cb334d\",\"#fee593\",\"#bfe5a0\",\"#b41947\",\"#fee593\",\"#54aead\",\"#b1dfa3\",\"#4d65ad\",\"#bfe5a0\",\"#a4daa4\",\"#feec9f\",\"#fdbf6f\",\"#fca85e\",\"#cb334d\",\"#e95c47\",\"#feec9f\",\"#f5fbaf\",\"#fec877\",\"#54aead\",\"#3d95b8\",\"#caea9e\",\"#86cfa5\",\"#6bc4a5\",\"#f57245\",\"#fa9b58\",\"#fede89\",\"#caea9e\",\"#bfe5a0\",\"#d63f4f\",\"#fee593\",\"#caea9e\",\"#6bc4a5\",\"#fec877\",\"#fec877\",\"#e3534a\",\"#feec9f\",\"#fec877\",\"#fee593\",\"#a90d45\",\"#feec9f\",\"#4d65ad\",\"#fdbf6f\",\"#feec9f\",\"#ffffbe\",\"#cb334d\",\"#e3534a\",\"#feec9f\",\"#5eb9a9\",\"#fca85e\",\"#fee593\",\"#fdbf6f\",\"#fa9b58\",\"#dd4a4c\",\"#f98e52\",\"#fee593\",\"#54aead\",\"#6bc4a5\",\"#bfe5a0\",\"#caea9e\",\"#fdbf6f\",\"#d63f4f\",\"#fafdb7\",\"#fee593\",\"#caea9e\"],\"index\":{\"__ndarray__\":\"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\",\"dtype\":\"int32\",\"order\":\"little\",\"shape\":[1368]},\"item\":[\"PF17416_full_Glycoprot_B_PH1_82.txt\",\"PF00019_seed_TGF_beta_291.txt\",\"PF00019_seed_TGF_beta_291.txt\",\"PF07733_seed_DNA_pol3_alpha_88.txt\",\"pos_PF06369_full_anemone_cytotox_363.txt\",\"PF07654_seed_C1-set_71.txt\",\"PF00019_seed_TGF_beta_291.txt\",\"PF06083_seed_IL17_93.txt\",\"pos_PF00555_seed_Endotoxin_M_36.txt\",\"PF06083_seed_IL17_93.txt\",\"PF18515_full_Rh5_28.txt\",\"pos_PF01338_full_Bac_thur_toxin_87.txt\",\"pos_PF00555_seed_Endotoxin_M_36.txt\",\"pos_PF06369_full_anemone_cytotox_363.txt\",\"PF07740_seed_Toxin_12_31.txt\",\"pos_PF03505_full_Clenterotox_9.txt\",\"PF07654_seed_C1-set_71.txt\",\"PF08027_full_Abumin_I_48.txt\",\"pos_PF03318_full_ETX_MTX2_440.txt\",\"PF05366_full_Sarcolipin_51.txt\",\"pos_PF06355_full_Aegerolysin_308.txt\",\"pos_PF06355_full_Aegerolysin_308.txt\",\"PF06083_seed_IL17_93.txt\",\"PF17416_full_Glycoprot_B_PH1_82.txt\",\"pos_PF06355_full_Aegerolysin_308.txt\",\"PF08027_full_Abumin_I_48.txt\",\"PF06083_seed_IL17_93.txt\",\"PF08027_full_Abumin_I_48.txt\",\"PF00019_seed_TGF_beta_291.txt\",\"PF08027_full_Abumin_I_48.txt\",\"PF00992_seed_Troponin_87.txt\",\"PF06083_seed_IL17_93.txt\",\"PF00377_full_Prion_159.txt\",\"pos_PF06355_full_Aegerolysin_308.txt\",\"PF08027_full_Abumin_I_48.txt\",\"PF08027_full_Abumin_I_48.txt\",\"PF06083_seed_IL17_93.txt\",\"PF08027_full_Abumin_I_48.txt\",\"PF01702_seed_TGT_541.txt\",\"PF00440_seed_tetR_N_74.txt\",\"PF17848_seed_zf-ACC_33.txt\",\"PF06083_seed_IL17_93.txt\",\"pos_PF05105_seed_Phage_holin_4_1_131.txt\",\"PF07740_seed_Toxin_12_31.txt\",\"PF02793_seed_HRM_126.txt\",\"pos_PF03318_full_ETX_MTX2_440.txt\",\"PF06083_seed_IL17_93.txt\",\"PF07740_seed_Toxin_12_31.txt\",\"PF03494_full_Beta-APP_556.txt\",\"PF07654_seed_C1-set_71.txt\",\"PF00019_seed_TGF_beta_291.txt\",\"pos_PF17475_full_Binary_toxB_2_16.txt\",\"pos_PF03505_full_Clenterotox_9.txt\",\"pos_PF03944_seed_Endotoxin_C_80.txt\",\"PF00870_rp15_P53_160.txt\",\"PF08027_full_Abumin_I_48.txt\",\"pos_PF11393_full_T4BSS_DotI_IcmL_214.txt\",\"pos_PF03505_full_Clenterotox_9.txt\",\"pos_PF06109_full_HlyE_62.txt\",\"PF05366_full_Sarcolipin_51.txt\",\"pos_PF03318_full_ETX_MTX2_440.txt\",\"PF17848_seed_zf-ACC_33.txt\",\"PF08027_full_Abumin_I_48.txt\",\"pos_PF03505_full_Clenterotox_9.txt\",\"PF17848_seed_zf-ACC_33.txt\",\"PF00010_seed_HLH_146.txt\",\"PF08027_full_Abumin_I_48.txt\",\"PF00870_rp15_P53_160.txt\",\"PF00870_rp15_P53_160.txt\",\"PF05366_full_Sarcolipin_51.txt\",\"pos_PF03318_full_ETX_MTX2_440.txt\",\"PF06083_seed_IL17_93.txt\",\"PF17848_seed_zf-ACC_33.txt\",\"PF05366_full_Sarcolipin_51.txt\",\"PF01650_seed_peptidase_C13_34.txt\",\"pos_PF06355_full_Aegerolysin_308.txt\",\"PF17848_seed_zf-ACC_33.txt\",\"PF06083_seed_IL17_93.txt\",\"pos_PF03318_full_ETX_MTX2_440.txt\",\"PF05366_full_Sarcolipin_51.txt\",\"PF00019_seed_TGF_beta_291.txt\",\"pos_PF12261_full_T_hemolysin_327.txt\",\"PF00992_seed_Troponin_87.txt\",\"PF08027_full_Abumin_I_48.txt\",\"pos_PF01117_full_Aerolysin_207.txt\",\"PF07740_seed_Toxin_12_31.txt\",\"PF00870_rp15_P53_160.txt\",\"pos_PF03945_full_Endotoxin_N_180.txt\",\"pos_PF03318_full_ETX_MTX2_440.txt\",\"pos_PF03318_full_ETX_MTX2_440.txt\",\"pos_PF03318_full_ETX_MTX2_440.txt\",\"PF03494_full_Beta-APP_556.txt\",\"PF05366_full_Sarcolipin_51.txt\",\"PF07740_seed_Toxin_12_31.txt\",\"pos_PF01024_full_Colicin_26.txt\",\"pos_PF11393_full_T4BSS_DotI_IcmL_214.txt\",\"PF00870_rp15_P53_160.txt\",\"pos_PF03505_full_Clenterotox_9.txt\",\"PF02793_seed_HRM_126.txt\",\"PF02884_seed_Lyase_8_C_76.txt\",\"PF08027_full_Abumin_I_48.txt\",\"PF07740_seed_Toxin_12_31.txt\",\"pos_PF01024_full_Colicin_26.txt\",\"PF00509_full_Hemagglutinin_40.txt\",\"pos_PF07968_full_Leukocidin_89.txt\",\"PF06083_seed_IL17_93.txt\",\"pos_PF03318_full_ETX_MTX2_440.txt\",\"PF17848_seed_zf-ACC_33.txt\",\"pos_PF06355_full_Aegerolysin_308.txt\",\"PF00992_seed_Troponin_87.txt\",\"pos_PF06355_full_Aegerolysin_308.txt\",\"PF08027_full_Abumin_I_48.txt\",\"PF08027_full_Abumin_I_48.txt\",\"pos_PF05105_seed_Phage_holin_4_1_131.txt\",\"pos_PF00555_seed_Endotoxin_M_36.txt\",\"PF06083_seed_IL17_93.txt\",\"PF00019_seed_TGF_beta_291.txt\",\"pos_PF00555_seed_Endotoxin_M_36.txt\",\"pos_PF06355_full_Aegerolysin_308.txt\",\"pos_PF06109_full_HlyE_62.txt\",\"PF05366_full_Sarcolipin_51.txt\",\"PF05366_full_Sarcolipin_51.txt\",\"PF00019_seed_TGF_beta_291.txt\",\"pos_PF01823_rp15_MACPF_659.txt\",\"pos_PF03505_full_Clenterotox_9.txt\",\"PF17848_seed_zf-ACC_33.txt\",\"pos_PF18063_full_BB_PF_52.txt\",\"PF07740_seed_Toxin_12_31.txt\",\"PF01049_seed_Cadherin_C_98.txt\",\"pos_PF06109_full_HlyE_62.txt\",\"pos_PF03505_full_Clenterotox_9.txt\",\"PF06083_seed_IL17_93.txt\",\"pos_PF06369_full_anemone_cytotox_363.txt\",\"PF17416_full_Glycoprot_B_PH1_82.txt\",\"PF00992_seed_Troponin_87.txt\",\"PF01049_seed_Cadherin_C_98.txt\",\"PF18515_full_Rh5_28.txt\",\"pos_PF06109_full_HlyE_62.txt\",\"PF05366_full_Sarcolipin_51.txt\",\"PF01702_seed_TGT_541.txt\",\"PF05366_full_Sarcolipin_51.txt\",\"PF17416_full_Glycoprot_B_PH1_82.txt\",\"pos_PF06369_full_anemone_cytotox_363.txt\",\"PF08027_full_Abumin_I_48.txt\",\"pos_PF03318_full_ETX_MTX2_440.txt\",\"pos_PF11393_full_T4BSS_DotI_IcmL_214.txt\",\"PF02793_seed_HRM_126.txt\",\"pos_PF06369_full_anemone_cytotox_363.txt\",\"PF00377_full_Prion_159.txt\",\"PF00019_seed_TGF_beta_291.txt\",\"PF06083_seed_IL17_93.txt\",\"PF08027_full_Abumin_I_48.txt\",\"PF07733_seed_DNA_pol3_alpha_88.txt\",\"PF07740_seed_Toxin_12_31.txt\",\"PF08027_full_Abumin_I_48.txt\",\"pos_PF06369_full_anemone_cytotox_363.txt\",\"pos_PF17475_full_Binary_toxB_2_16.txt\",\"PF08027_full_Abumin_I_48.txt\",\"PF06083_seed_IL17_93.txt\",\"PF02793_seed_HRM_126.txt\",\"PF00010_seed_HLH_146.txt\",\"PF05366_full_Sarcolipin_51.txt\",\"pos_PF06355_full_Aegerolysin_308.txt\",\"pos_PF06369_full_anemone_cytotox_363.txt\",\"PF06083_seed_IL17_93.txt\",\"PF00992_seed_Troponin_87.txt\",\"PF02884_seed_Lyase_8_C_76.txt\",\"PF00089_seed_Trypsin_70.txt\",\"PF00992_seed_Troponin_87.txt\",\"pos_PF06355_full_Aegerolysin_308.txt\",\"pos_PF05105_seed_Phage_holin_4_1_131.txt\",\"PF00509_full_Hemagglutinin_40.txt\",\"PF02884_seed_Lyase_8_C_76.txt\",\"pos_PF03318_full_ETX_MTX2_440.txt\",\"pos_PF03945_full_Endotoxin_N_180.txt\",\"pos_PF03318_full_ETX_MTX2_440.txt\",\"PF03494_full_Beta-APP_556.txt\",\"pos_PF06369_full_anemone_cytotox_363.txt\",\"pos_PF06355_full_Aegerolysin_308.txt\",\"pos_PF06355_full_Aegerolysin_308.txt\",\"pos_PF03318_full_ETX_MTX2_440.txt\",\"pos_PF05802_full_EspB_60.txt\",\"PF06083_seed_IL17_93.txt\",\"pos_PF06369_full_anemone_cytotox_363.txt\",\"PF06083_seed_IL17_93.txt\",\"PF08027_full_Abumin_I_48.txt\",\"PF08027_full_Abumin_I_48.txt\",\"PF06083_seed_IL17_93.txt\",\"pos_PF12261_full_T_hemolysin_327.txt\",\"PF00377_full_Prion_159.txt\",\"PF01702_seed_TGT_541.txt\",\"PF17848_seed_zf-ACC_33.txt\",\"pos_PF06355_full_Aegerolysin_308.txt\",\"pos_PF17475_full_Binary_toxB_2_16.txt\",\"pos_PF06369_full_anemone_cytotox_363.txt\",\"PF07654_seed_C1-set_71.txt\",\"PF06083_seed_IL17_93.txt\",\"PF08027_full_Abumin_I_48.txt\",\"PF02884_seed_Lyase_8_C_76.txt\",\"pos_PF00555_seed_Endotoxin_M_36.txt\",\"PF00377_full_Prion_159.txt\",\"PF08027_full_Abumin_I_48.txt\",\"PF05366_full_Sarcolipin_51.txt\",\"PF05366_full_Sarcolipin_51.txt\",\"PF00377_full_Prion_159.txt\",\"pos_PF03505_full_Clenterotox_9.txt\",\"pos_PF06355_full_Aegerolysin_308.txt\",\"PF01702_seed_TGT_541.txt\",\"PF07740_seed_Toxin_12_31.txt\",\"PF07740_seed_Toxin_12_31.txt\",\"pos_PF06369_full_anemone_cytotox_363.txt\",\"pos_PF12920_full_TcdA_TcdB_pore_46.txt\",\"PF00010_seed_HLH_146.txt\",\"PF00019_seed_TGF_beta_291.txt\",\"pos_PF00555_seed_Endotoxin_M_36.txt\",\"PF07740_seed_Toxin_12_31.txt\",\"PF06083_seed_IL17_93.txt\",\"pos_PF06109_full_HlyE_62.txt\",\"PF00992_seed_Troponin_87.txt\",\"PF00049_seed_Insulin_28.txt\",\"PF07740_seed_Toxin_12_31.txt\",\"PF08027_full_Abumin_I_48.txt\",\"PF06083_seed_IL17_93.txt\",\"pos_PF17475_full_Binary_toxB_2_16.txt\",\"PF02884_seed_Lyase_8_C_76.txt\",\"PF03494_full_Beta-APP_556.txt\",\"PF06083_seed_IL17_93.txt\",\"pos_PF06369_full_anemone_cytotox_363.txt\",\"pos_PF03505_full_Clenterotox_9.txt\",\"PF08027_full_Abumin_I_48.txt\",\"PF07740_seed_Toxin_12_31.txt\",\"pos_PF06369_full_anemone_cytotox_363.txt\",\"PF08027_full_Abumin_I_48.txt\",\"pos_PF06355_full_Aegerolysin_308.txt\",\"PF02793_seed_HRM_126.txt\",\"pos_PF03944_seed_Endotoxin_C_80.txt\",\"PF07740_seed_Toxin_12_31.txt\",\"PF00010_seed_HLH_146.txt\",\"PF07740_seed_Toxin_12_31.txt\",\"PF07740_seed_Toxin_12_31.txt\",\"pos_PF06369_full_anemone_cytotox_363.txt\",\"PF00089_seed_Trypsin_70.txt\",\"PF06083_seed_IL17_93.txt\",\"PF05366_full_Sarcolipin_51.txt\",\"PF08027_full_Abumin_I_48.txt\",\"PF07740_seed_Toxin_12_31.txt\",\"pos_PF03945_full_Endotoxin_N_180.txt\",\"pos_PF03318_full_ETX_MTX2_440.txt\",\"PF07740_seed_Toxin_12_31.txt\",\"PF01049_seed_Cadherin_C_98.txt\",\"PF00049_seed_Insulin_28.txt\",\"pos_PF12920_full_TcdA_TcdB_pore_46.txt\",\"PF17848_seed_zf-ACC_33.txt\",\"pos_PF12261_full_T_hemolysin_327.txt\",\"PF00010_seed_HLH_146.txt\",\"PF08027_full_Abumin_I_48.txt\",\"pos_PF06355_full_Aegerolysin_308.txt\",\"pos_PF06355_full_Aegerolysin_308.txt\",\"PF17848_seed_zf-ACC_33.txt\",\"PF02793_seed_HRM_126.txt\",\"PF02884_seed_Lyase_8_C_76.txt\",\"PF07740_seed_Toxin_12_31.txt\",\"PF00019_seed_TGF_beta_291.txt\",\"PF08027_full_Abumin_I_48.txt\",\"PF05366_full_Sarcolipin_51.txt\",\"PF02793_seed_HRM_126.txt\",\"pos_PF04877_full_Harpin_35.txt\",\"PF05366_full_Sarcolipin_51.txt\",\"PF07654_seed_C1-set_71.txt\",\"pos_PF06369_full_anemone_cytotox_363.txt\",\"PF00377_full_Prion_159.txt\",\"pos_PF01024_full_Colicin_26.txt\",\"PF02884_seed_Lyase_8_C_76.txt\",\"pos_PF03505_full_Clenterotox_9.txt\",\"PF06083_seed_IL17_93.txt\",\"PF00019_seed_TGF_beta_291.txt\",\"pos_PF06109_full_HlyE_62.txt\",\"PF00089_seed_Trypsin_70.txt\",\"pos_PF04877_full_Harpin_35.txt\",\"pos_PF17475_full_Binary_toxB_2_16.txt\",\"pos_PF01338_full_Bac_thur_toxin_87.txt\",\"PF17416_full_Glycoprot_B_PH1_82.txt\",\"PF17416_full_Glycoprot_B_PH1_82.txt\",\"PF00992_seed_Troponin_87.txt\",\"PF00870_rp15_P53_160.txt\",\"PF02793_seed_HRM_126.txt\",\"pos_PF03318_full_ETX_MTX2_440.txt\",\"pos_PF06355_full_Aegerolysin_308.txt\",\"PF17416_full_Glycoprot_B_PH1_82.txt\",\"PF05366_full_Sarcolipin_51.txt\",\"pos_PF06355_full_Aegerolysin_308.txt\",\"PF05366_full_Sarcolipin_51.txt\",\"pos_PF03318_full_ETX_MTX2_440.txt\",\"PF08027_full_Abumin_I_48.txt\",\"PF01702_seed_TGT_541.txt\",\"PF17848_seed_zf-ACC_33.txt\",\"PF06083_seed_IL17_93.txt\",\"PF06083_seed_IL17_93.txt\",\"pos_PF06109_full_HlyE_62.txt\",\"PF05366_full_Sarcolipin_51.txt\",\"PF00377_full_Prion_159.txt\",\"PF06083_seed_IL17_93.txt\",\"pos_PF06369_full_anemone_cytotox_363.txt\",\"pos_PF01338_full_Bac_thur_toxin_87.txt\",\"PF06083_seed_IL17_93.txt\",\"PF00509_full_Hemagglutinin_40.txt\",\"pos_PF06369_full_anemone_cytotox_363.txt\",\"PF00019_seed_TGF_beta_291.txt\",\"PF06083_seed_IL17_93.txt\",\"pos_PF01823_rp15_MACPF_659.txt\",\"pos_PF18063_full_BB_PF_52.txt\",\"PF07740_seed_Toxin_12_31.txt\",\"PF06083_seed_IL17_93.txt\",\"PF06083_seed_IL17_93.txt\",\"PF08027_full_Abumin_I_48.txt\",\"PF05366_full_Sarcolipin_51.txt\",\"pos_PF03945_full_Endotoxin_N_180.txt\",\"PF05366_full_Sarcolipin_51.txt\",\"PF00992_seed_Troponin_87.txt\",\"PF06083_seed_IL17_93.txt\",\"PF08027_full_Abumin_I_48.txt\",\"PF00992_seed_Troponin_87.txt\",\"pos_PF03505_full_Clenterotox_9.txt\",\"pos_PF01823_rp15_MACPF_659.txt\",\"PF00019_seed_TGF_beta_291.txt\",\"pos_PF03945_full_Endotoxin_N_180.txt\",\"pos_PF06369_full_anemone_cytotox_363.txt\",\"PF07740_seed_Toxin_12_31.txt\",\"pos_PF06369_full_anemone_cytotox_363.txt\",\"pos_PF03318_full_ETX_MTX2_440.txt\",\"pos_PF11393_full_T4BSS_DotI_IcmL_214.txt\",\"pos_PF03945_full_Endotoxin_N_180.txt\",\"PF08027_full_Abumin_I_48.txt\",\"pos_PF18063_full_BB_PF_52.txt\",\"pos_PF06369_full_anemone_cytotox_363.txt\",\"pos_PF05802_full_EspB_60.txt\",\"PF00089_seed_Trypsin_70.txt\",\"PF05366_full_Sarcolipin_51.txt\",\"PF07740_seed_Toxin_12_31.txt\",\"PF00509_full_Hemagglutinin_40.txt\",\"PF05366_full_Sarcolipin_51.txt\",\"PF07654_seed_C1-set_71.txt\",\"PF00440_seed_tetR_N_74.txt\",\"PF08027_full_Abumin_I_48.txt\",\"PF05366_full_Sarcolipin_51.txt\",\"PF06083_seed_IL17_93.txt\",\"PF05366_full_Sarcolipin_51.txt\",\"pos_PF12563_full_Hemolysin_N_12.txt\",\"pos_PF06369_full_anemone_cytotox_363.txt\",\"pos_PF11393_full_T4BSS_DotI_IcmL_214.txt\",\"PF00019_seed_TGF_beta_291.txt\",\"pos_PF06109_full_HlyE_62.txt\",\"pos_PF03318_full_ETX_MTX2_440.txt\",\"pos_PF03505_full_Clenterotox_9.txt\",\"PF05366_full_Sarcolipin_51.txt\",\"pos_PF03505_full_Clenterotox_9.txt\",\"pos_PF03505_full_Clenterotox_9.txt\",\"PF05366_full_Sarcolipin_51.txt\",\"PF08027_full_Abumin_I_48.txt\",\"pos_PF01823_rp15_MACPF_659.txt\",\"PF02884_seed_Lyase_8_C_76.txt\",\"PF06083_seed_IL17_93.txt\",\"pos_PF01823_rp15_MACPF_659.txt\",\"PF00010_seed_HLH_146.txt\",\"PF00870_rp15_P53_160.txt\",\"PF06083_seed_IL17_93.txt\",\"PF00992_seed_Troponin_87.txt\",\"pos_PF06369_full_anemone_cytotox_363.txt\",\"PF17848_seed_zf-ACC_33.txt\",\"pos_PF04877_full_Harpin_35.txt\",\"PF07740_seed_Toxin_12_31.txt\",\"PF05366_full_Sarcolipin_51.txt\",\"PF07733_seed_DNA_pol3_alpha_88.txt\",\"PF01049_seed_Cadherin_C_98.txt\",\"PF00010_seed_HLH_146.txt\",\"PF05366_full_Sarcolipin_51.txt\",\"PF00010_seed_HLH_146.txt\",\"pos_PF12261_full_T_hemolysin_327.txt\",\"PF07740_seed_Toxin_12_31.txt\",\"PF06083_seed_IL17_93.txt\",\"PF00440_seed_tetR_N_74.txt\",\"pos_PF06369_full_anemone_cytotox_363.txt\",\"pos_PF03945_full_Endotoxin_N_180.txt\",\"PF00010_seed_HLH_146.txt\",\"PF06083_seed_IL17_93.txt\",\"pos_PF06109_full_HlyE_62.txt\",\"pos_PF03945_full_Endotoxin_N_180.txt\",\"PF00377_full_Prion_159.txt\",\"pos_PF03505_full_Clenterotox_9.txt\",\"PF00010_seed_HLH_146.txt\",\"pos_PF06369_full_anemone_cytotox_363.txt\",\"pos_PF03318_full_ETX_MTX2_440.txt\",\"PF06083_seed_IL17_93.txt\",\"pos_PF03318_full_ETX_MTX2_440.txt\",\"PF06083_seed_IL17_93.txt\",\"PF05366_full_Sarcolipin_51.txt\",\"pos_PF00555_seed_Endotoxin_M_36.txt\",\"PF00870_rp15_P53_160.txt\",\"pos_PF01823_rp15_MACPF_659.txt\",\"PF00010_seed_HLH_146.txt\",\"PF02884_seed_Lyase_8_C_76.txt\",\"pos_PF03945_full_Endotoxin_N_180.txt\",\"PF00377_full_Prion_159.txt\",\"PF06083_seed_IL17_93.txt\",\"PF06083_seed_IL17_93.txt\",\"pos_PF03505_full_Clenterotox_9.txt\",\"pos_PF06109_full_HlyE_62.txt\",\"PF08027_full_Abumin_I_48.txt\",\"PF06083_seed_IL17_93.txt\",\"PF00870_rp15_P53_160.txt\",\"PF07740_seed_Toxin_12_31.txt\",\"PF06083_seed_IL17_93.txt\",\"PF08027_full_Abumin_I_48.txt\",\"pos_PF03505_full_Clenterotox_9.txt\",\"pos_PF11393_full_T4BSS_DotI_IcmL_214.txt\",\"PF06083_seed_IL17_93.txt\",\"PF01702_seed_TGT_541.txt\",\"PF07740_seed_Toxin_12_31.txt\",\"PF05366_full_Sarcolipin_51.txt\",\"PF08027_full_Abumin_I_48.txt\",\"pos_PF01823_rp15_MACPF_659.txt\",\"PF05366_full_Sarcolipin_51.txt\",\"pos_PF03318_full_ETX_MTX2_440.txt\",\"PF08027_full_Abumin_I_48.txt\",\"PF05366_full_Sarcolipin_51.txt\",\"PF17848_seed_zf-ACC_33.txt\",\"pos_PF00555_seed_Endotoxin_M_36.txt\",\"PF00992_seed_Troponin_87.txt\",\"pos_PF05802_full_EspB_60.txt\",\"PF07733_seed_DNA_pol3_alpha_88.txt\",\"PF06083_seed_IL17_93.txt\",\"PF05366_full_Sarcolipin_51.txt\",\"pos_PF06369_full_anemone_cytotox_363.txt\",\"PF07740_seed_Toxin_12_31.txt\",\"PF06083_seed_IL17_93.txt\",\"PF00010_seed_HLH_146.txt\",\"PF08027_full_Abumin_I_48.txt\",\"PF06083_seed_IL17_93.txt\",\"pos_PF03505_full_Clenterotox_9.txt\",\"PF05366_full_Sarcolipin_51.txt\",\"pos_PF06369_full_anemone_cytotox_363.txt\",\"PF00870_rp15_P53_160.txt\",\"PF06083_seed_IL17_93.txt\",\"pos_PF03505_full_Clenterotox_9.txt\",\"PF08027_full_Abumin_I_48.txt\",\"pos_PF03505_full_Clenterotox_9.txt\",\"pos_PF03505_full_Clenterotox_9.txt\",\"PF07740_seed_Toxin_12_31.txt\",\"PF00019_seed_TGF_beta_291.txt\",\"PF07740_seed_Toxin_12_31.txt\",\"PF00019_seed_TGF_beta_291.txt\",\"PF00010_seed_HLH_146.txt\",\"PF02884_seed_Lyase_8_C_76.txt\",\"PF00019_seed_TGF_beta_291.txt\",\"PF00440_seed_tetR_N_74.txt\",\"PF18515_full_Rh5_28.txt\",\"pos_PF11393_full_T4BSS_DotI_IcmL_214.txt\",\"PF06083_seed_IL17_93.txt\",\"PF17848_seed_zf-ACC_33.txt\",\"PF00870_rp15_P53_160.txt\",\"PF00019_seed_TGF_beta_291.txt\",\"PF07740_seed_Toxin_12_31.txt\",\"PF07733_seed_DNA_pol3_alpha_88.txt\",\"pos_PF01024_full_Colicin_26.txt\",\"PF07740_seed_Toxin_12_31.txt\",\"PF18515_full_Rh5_28.txt\",\"pos_PF05802_full_EspB_60.txt\",\"PF01049_seed_Cadherin_C_98.txt\",\"PF00870_rp15_P53_160.txt\",\"PF06083_seed_IL17_93.txt\",\"pos_PF03318_full_ETX_MTX2_440.txt\",\"PF06083_seed_IL17_93.txt\",\"pos_PF12261_full_T_hemolysin_327.txt\",\"pos_PF12261_full_T_hemolysin_327.txt\",\"PF06083_seed_IL17_93.txt\",\"PF01049_seed_Cadherin_C_98.txt\",\"pos_PF03318_full_ETX_MTX2_440.txt\",\"pos_PF01823_rp15_MACPF_659.txt\",\"pos_PF03505_full_Clenterotox_9.txt\",\"pos_PF01338_full_Bac_thur_toxin_87.txt\",\"PF00019_seed_TGF_beta_291.txt\",\"pos_PF00555_seed_Endotoxin_M_36.txt\",\"pos_PF03318_full_ETX_MTX2_440.txt\",\"PF06083_seed_IL17_93.txt\",\"PF07733_seed_DNA_pol3_alpha_88.txt\",\"PF01049_seed_Cadherin_C_98.txt\",\"PF08027_full_Abumin_I_48.txt\",\"PF00729_full_Viral_coat_149.txt\",\"PF06083_seed_IL17_93.txt\",\"PF08027_full_Abumin_I_48.txt\",\"PF06083_seed_IL17_93.txt\",\"PF00019_seed_TGF_beta_291.txt\",\"pos_PF00555_seed_Endotoxin_M_36.txt\",\"PF00089_seed_Trypsin_70.txt\",\"PF00089_seed_Trypsin_70.txt\",\"pos_PF03318_full_ETX_MTX2_440.txt\",\"PF06083_seed_IL17_93.txt\",\"PF07740_seed_Toxin_12_31.txt\",\"pos_PF03318_full_ETX_MTX2_440.txt\",\"PF05366_full_Sarcolipin_51.txt\",\"PF00019_seed_TGF_beta_291.txt\",\"PF06083_seed_IL17_93.txt\",\"PF08027_full_Abumin_I_48.txt\",\"PF00019_seed_TGF_beta_291.txt\",\"PF17848_seed_zf-ACC_33.txt\",\"pos_PF01117_full_Aerolysin_207.txt\",\"PF05366_full_Sarcolipin_51.txt\",\"PF00089_seed_Trypsin_70.txt\",\"pos_PF03318_full_ETX_MTX2_440.txt\",\"PF06083_seed_IL17_93.txt\",\"PF00992_seed_Troponin_87.txt\",\"PF07740_seed_Toxin_12_31.txt\",\"PF06083_seed_IL17_93.txt\",\"pos_PF04877_full_Harpin_35.txt\",\"pos_PF06109_full_HlyE_62.txt\",\"PF05366_full_Sarcolipin_51.txt\",\"PF05366_full_Sarcolipin_51.txt\",\"pos_PF06369_full_anemone_cytotox_363.txt\",\"PF00019_seed_TGF_beta_291.txt\",\"PF05366_full_Sarcolipin_51.txt\",\"pos_PF03318_full_ETX_MTX2_440.txt\",\"PF05366_full_Sarcolipin_51.txt\",\"PF00377_full_Prion_159.txt\",\"PF08027_full_Abumin_I_48.txt\",\"pos_PF06355_full_Aegerolysin_308.txt\",\"pos_PF12261_full_T_hemolysin_327.txt\",\"pos_PF06355_full_Aegerolysin_308.txt\",\"pos_PF01823_rp15_MACPF_659.txt\",\"PF09396_full_Thrombin_light_233.txt\",\"PF00019_seed_TGF_beta_291.txt\",\"PF01702_seed_TGT_541.txt\",\"PF06083_seed_IL17_93.txt\",\"PF00440_seed_tetR_N_74.txt\",\"PF06083_seed_IL17_93.txt\",\"PF05366_full_Sarcolipin_51.txt\",\"pos_PF06355_full_Aegerolysin_308.txt\",\"PF08027_full_Abumin_I_48.txt\",\"pos_PF03318_full_ETX_MTX2_440.txt\",\"pos_PF06369_full_anemone_cytotox_363.txt\",\"PF06083_seed_IL17_93.txt\",\"PF02793_seed_HRM_126.txt\",\"PF05366_full_Sarcolipin_51.txt\",\"pos_PF03318_full_ETX_MTX2_440.txt\",\"PF02884_seed_Lyase_8_C_76.txt\",\"pos_PF06355_full_Aegerolysin_308.txt\",\"PF05366_full_Sarcolipin_51.txt\",\"PF08027_full_Abumin_I_48.txt\",\"PF05366_full_Sarcolipin_51.txt\",\"PF08027_full_Abumin_I_48.txt\",\"PF05366_full_Sarcolipin_51.txt\",\"pos_PF00555_seed_Endotoxin_M_36.txt\",\"PF05366_full_Sarcolipin_51.txt\",\"pos_PF03505_full_Clenterotox_9.txt\",\"pos_PF01024_full_Colicin_26.txt\",\"PF07740_seed_Toxin_12_31.txt\",\"PF05366_full_Sarcolipin_51.txt\",\"PF08027_full_Abumin_I_48.txt\",\"PF07740_seed_Toxin_12_31.txt\",\"PF00377_full_Prion_159.txt\",\"PF00019_seed_TGF_beta_291.txt\",\"pos_PF03945_full_Endotoxin_N_180.txt\",\"PF00019_seed_TGF_beta_291.txt\",\"pos_PF06109_full_HlyE_62.txt\",\"PF08027_full_Abumin_I_48.txt\",\"pos_PF05802_full_EspB_60.txt\",\"PF08027_full_Abumin_I_48.txt\",\"pos_PF03505_full_Clenterotox_9.txt\",\"PF17848_seed_zf-ACC_33.txt\",\"pos_PF03505_full_Clenterotox_9.txt\",\"PF00019_seed_TGF_beta_291.txt\",\"PF01049_seed_Cadherin_C_98.txt\",\"pos_PF01823_rp15_MACPF_659.txt\",\"PF08027_full_Abumin_I_48.txt\",\"PF08027_full_Abumin_I_48.txt\",\"PF06083_seed_IL17_93.txt\",\"PF07740_seed_Toxin_12_31.txt\",\"PF02793_seed_HRM_126.txt\",\"PF17848_seed_zf-ACC_33.txt\",\"PF18515_full_Rh5_28.txt\",\"PF02793_seed_HRM_126.txt\",\"pos_PF03505_full_Clenterotox_9.txt\",\"PF05366_full_Sarcolipin_51.txt\",\"PF05366_full_Sarcolipin_51.txt\",\"PF06083_seed_IL17_93.txt\",\"PF00992_seed_Troponin_87.txt\",\"PF08027_full_Abumin_I_48.txt\",\"pos_PF03505_full_Clenterotox_9.txt\",\"PF08027_full_Abumin_I_48.txt\",\"pos_PF06109_full_HlyE_62.txt\",\"PF00010_seed_HLH_146.txt\",\"PF00870_rp15_P53_160.txt\",\"PF08027_full_Abumin_I_48.txt\",\"PF06083_seed_IL17_93.txt\",\"PF07740_seed_Toxin_12_31.txt\",\"PF01702_seed_TGT_541.txt\",\"PF07654_seed_C1-set_71.txt\",\"PF00729_full_Viral_coat_149.txt\",\"pos_PF03505_full_Clenterotox_9.txt\",\"pos_PF06369_full_anemone_cytotox_363.txt\",\"pos_PF12920_full_TcdA_TcdB_pore_46.txt\",\"PF08027_full_Abumin_I_48.txt\",\"pos_PF05105_seed_Phage_holin_4_1_131.txt\",\"PF01702_seed_TGT_541.txt\",\"PF05366_full_Sarcolipin_51.txt\",\"PF05366_full_Sarcolipin_51.txt\",\"pos_PF06369_full_anemone_cytotox_363.txt\",\"PF07740_seed_Toxin_12_31.txt\",\"pos_PF01338_full_Bac_thur_toxin_87.txt\",\"PF07740_seed_Toxin_12_31.txt\",\"pos_PF03505_full_Clenterotox_9.txt\",\"PF06083_seed_IL17_93.txt\",\"PF07740_seed_Toxin_12_31.txt\",\"PF06083_seed_IL17_93.txt\",\"PF17416_full_Glycoprot_B_PH1_82.txt\",\"pos_PF05105_seed_Phage_holin_4_1_131.txt\",\"pos_PF06109_full_HlyE_62.txt\",\"PF00019_seed_TGF_beta_291.txt\",\"PF07654_seed_C1-set_71.txt\",\"PF07740_seed_Toxin_12_31.txt\",\"PF07740_seed_Toxin_12_31.txt\",\"PF00992_seed_Troponin_87.txt\",\"PF05366_full_Sarcolipin_51.txt\",\"PF08027_full_Abumin_I_48.txt\",\"PF02793_seed_HRM_126.txt\",\"PF00019_seed_TGF_beta_291.txt\",\"PF07740_seed_Toxin_12_31.txt\",\"PF17416_full_Glycoprot_B_PH1_82.txt\",\"PF07740_seed_Toxin_12_31.txt\",\"pos_PF03505_full_Clenterotox_9.txt\",\"pos_PF03945_full_Endotoxin_N_180.txt\",\"PF05366_full_Sarcolipin_51.txt\",\"PF05366_full_Sarcolipin_51.txt\",\"PF08027_full_Abumin_I_48.txt\",\"PF07740_seed_Toxin_12_31.txt\",\"pos_PF03945_full_Endotoxin_N_180.txt\",\"pos_PF06109_full_HlyE_62.txt\",\"pos_PF06109_full_HlyE_62.txt\",\"PF02793_seed_HRM_126.txt\",\"pos_PF03945_full_Endotoxin_N_180.txt\",\"PF08027_full_Abumin_I_48.txt\",\"PF00870_rp15_P53_160.txt\",\"PF01702_seed_TGT_541.txt\",\"PF05366_full_Sarcolipin_51.txt\",\"PF00729_full_Viral_coat_149.txt\",\"pos_PF03505_full_Clenterotox_9.txt\",\"pos_PF03505_full_Clenterotox_9.txt\",\"pos_PF18063_full_BB_PF_52.txt\",\"pos_PF03944_seed_Endotoxin_C_80.txt\",\"pos_PF03505_full_Clenterotox_9.txt\",\"PF07740_seed_Toxin_12_31.txt\",\"pos_PF05105_seed_Phage_holin_4_1_131.txt\",\"pos_PF03318_full_ETX_MTX2_440.txt\",\"PF00089_seed_Trypsin_70.txt\",\"PF06083_seed_IL17_93.txt\",\"PF00440_seed_tetR_N_74.txt\",\"PF06083_seed_IL17_93.txt\",\"pos_PF03944_seed_Endotoxin_C_80.txt\",\"pos_PF03505_full_Clenterotox_9.txt\",\"PF07740_seed_Toxin_12_31.txt\",\"pos_PF03505_full_Clenterotox_9.txt\",\"pos_PF06369_full_anemone_cytotox_363.txt\",\"PF17848_seed_zf-ACC_33.txt\",\"PF17848_seed_zf-ACC_33.txt\",\"pos_PF03318_full_ETX_MTX2_440.txt\",\"PF05366_full_Sarcolipin_51.txt\",\"PF00019_seed_TGF_beta_291.txt\",\"PF00377_full_Prion_159.txt\",\"PF02793_seed_HRM_126.txt\",\"PF08027_full_Abumin_I_48.txt\",\"PF17416_full_Glycoprot_B_PH1_82.txt\",\"PF00089_seed_Trypsin_70.txt\",\"PF17848_seed_zf-ACC_33.txt\",\"PF00377_full_Prion_159.txt\",\"PF08027_full_Abumin_I_48.txt\",\"pos_PF01338_full_Bac_thur_toxin_87.txt\",\"PF00992_seed_Troponin_87.txt\",\"pos_PF05105_seed_Phage_holin_4_1_131.txt\",\"pos_PF06369_full_anemone_cytotox_363.txt\",\"PF06083_seed_IL17_93.txt\",\"PF00377_full_Prion_159.txt\",\"PF01650_seed_peptidase_C13_34.txt\",\"PF07654_seed_C1-set_71.txt\",\"PF06083_seed_IL17_93.txt\",\"PF02793_seed_HRM_126.txt\",\"PF07740_seed_Toxin_12_31.txt\",\"PF00019_seed_TGF_beta_291.txt\",\"PF05366_full_Sarcolipin_51.txt\",\"pos_PF03944_seed_Endotoxin_C_80.txt\",\"PF17848_seed_zf-ACC_33.txt\",\"pos_PF12261_full_T_hemolysin_327.txt\",\"PF08027_full_Abumin_I_48.txt\",\"PF06083_seed_IL17_93.txt\",\"pos_PF06369_full_anemone_cytotox_363.txt\",\"pos_PF06369_full_anemone_cytotox_363.txt\",\"PF00019_seed_TGF_beta_291.txt\",\"PF05366_full_Sarcolipin_51.txt\",\"PF02884_seed_Lyase_8_C_76.txt\",\"pos_PF00555_seed_Endotoxin_M_36.txt\",\"PF01049_seed_Cadherin_C_98.txt\",\"PF07740_seed_Toxin_12_31.txt\",\"PF00440_seed_tetR_N_74.txt\",\"PF00019_seed_TGF_beta_291.txt\",\"pos_PF06369_full_anemone_cytotox_363.txt\",\"PF00377_full_Prion_159.txt\",\"PF05366_full_Sarcolipin_51.txt\",\"pos_PF03505_full_Clenterotox_9.txt\",\"pos_PF01338_full_Bac_thur_toxin_87.txt\",\"pos_PF06109_full_HlyE_62.txt\",\"PF01702_seed_TGT_541.txt\",\"pos_PF01338_full_Bac_thur_toxin_87.txt\",\"PF02793_seed_HRM_126.txt\",\"pos_PF01117_full_Aerolysin_207.txt\",\"pos_PF01117_full_Aerolysin_207.txt\",\"PF06083_seed_IL17_93.txt\",\"PF07740_seed_Toxin_12_31.txt\",\"pos_PF03318_full_ETX_MTX2_440.txt\",\"pos_PF06109_full_HlyE_62.txt\",\"PF17848_seed_zf-ACC_33.txt\",\"PF00019_seed_TGF_beta_291.txt\",\"PF07740_seed_Toxin_12_31.txt\",\"PF06083_seed_IL17_93.txt\",\"PF00377_full_Prion_159.txt\",\"PF02793_seed_HRM_126.txt\",\"pos_PF03318_full_ETX_MTX2_440.txt\",\"pos_PF05105_seed_Phage_holin_4_1_131.txt\",\"PF06083_seed_IL17_93.txt\",\"pos_PF00555_seed_Endotoxin_M_36.txt\",\"PF02793_seed_HRM_126.txt\",\"PF02884_seed_Lyase_8_C_76.txt\",\"PF01702_seed_TGT_541.txt\",\"PF00010_seed_HLH_146.txt\",\"pos_PF06369_full_anemone_cytotox_363.txt\",\"pos_PF03505_full_Clenterotox_9.txt\",\"pos_PF06355_full_Aegerolysin_308.txt\",\"PF05366_full_Sarcolipin_51.txt\",\"PF00377_full_Prion_159.txt\",\"pos_PF03505_full_Clenterotox_9.txt\",\"PF08027_full_Abumin_I_48.txt\",\"PF06083_seed_IL17_93.txt\",\"PF00010_seed_HLH_146.txt\",\"PF02793_seed_HRM_126.txt\",\"PF17416_full_Glycoprot_B_PH1_82.txt\",\"PF01702_seed_TGT_541.txt\",\"PF08027_full_Abumin_I_48.txt\",\"PF00992_seed_Troponin_87.txt\",\"PF01049_seed_Cadherin_C_98.txt\",\"pos_PF03318_full_ETX_MTX2_440.txt\",\"PF05366_full_Sarcolipin_51.txt\",\"pos_PF03505_full_Clenterotox_9.txt\",\"PF08027_full_Abumin_I_48.txt\",\"PF08027_full_Abumin_I_48.txt\",\"PF05366_full_Sarcolipin_51.txt\",\"PF07740_seed_Toxin_12_31.txt\",\"pos_PF06109_full_HlyE_62.txt\",\"pos_PF03944_seed_Endotoxin_C_80.txt\",\"pos_PF03945_full_Endotoxin_N_180.txt\",\"PF06083_seed_IL17_93.txt\",\"pos_PF12261_full_T_hemolysin_327.txt\",\"pos_PF03505_full_Clenterotox_9.txt\",\"PF07654_seed_C1-set_71.txt\",\"pos_PF17475_full_Binary_toxB_2_16.txt\",\"PF17416_full_Glycoprot_B_PH1_82.txt\",\"PF17848_seed_zf-ACC_33.txt\",\"PF17848_seed_zf-ACC_33.txt\",\"PF05366_full_Sarcolipin_51.txt\",\"pos_PF01024_full_Colicin_26.txt\",\"PF02793_seed_HRM_126.txt\",\"pos_PF00555_seed_Endotoxin_M_36.txt\",\"pos_PF06109_full_HlyE_62.txt\",\"pos_PF06369_full_anemone_cytotox_363.txt\",\"pos_PF06355_full_Aegerolysin_308.txt\",\"pos_PF03318_full_ETX_MTX2_440.txt\",\"PF08027_full_Abumin_I_48.txt\",\"PF06083_seed_IL17_93.txt\",\"PF06083_seed_IL17_93.txt\",\"PF07740_seed_Toxin_12_31.txt\",\"PF06083_seed_IL17_93.txt\",\"PF00019_seed_TGF_beta_291.txt\",\"PF07654_seed_C1-set_71.txt\",\"PF07740_seed_Toxin_12_31.txt\",\"PF02793_seed_HRM_126.txt\",\"PF06083_seed_IL17_93.txt\",\"pos_PF06355_full_Aegerolysin_308.txt\",\"pos_PF03945_full_Endotoxin_N_180.txt\",\"pos_PF03318_full_ETX_MTX2_440.txt\",\"pos_PF01117_full_Aerolysin_207.txt\",\"PF06083_seed_IL17_93.txt\",\"pos_PF06109_full_HlyE_62.txt\",\"pos_PF12563_full_Hemolysin_N_12.txt\",\"PF07740_seed_Toxin_12_31.txt\",\"PF05366_full_Sarcolipin_51.txt\",\"PF07654_seed_C1-set_71.txt\",\"PF06083_seed_IL17_93.txt\",\"pos_PF06109_full_HlyE_62.txt\",\"PF07654_seed_C1-set_71.txt\",\"PF02793_seed_HRM_126.txt\",\"pos_PF06355_full_Aegerolysin_308.txt\",\"PF00440_seed_tetR_N_74.txt\",\"pos_PF12920_full_TcdA_TcdB_pore_46.txt\",\"pos_PF00555_seed_Endotoxin_M_36.txt\",\"PF00049_seed_Insulin_28.txt\",\"PF00870_rp15_P53_160.txt\",\"PF06083_seed_IL17_93.txt\",\"pos_PF01117_full_Aerolysin_207.txt\",\"pos_PF00555_seed_Endotoxin_M_36.txt\",\"PF17848_seed_zf-ACC_33.txt\",\"PF00377_full_Prion_159.txt\",\"pos_PF05105_seed_Phage_holin_4_1_131.txt\",\"PF05366_full_Sarcolipin_51.txt\",\"PF06083_seed_IL17_93.txt\",\"PF05366_full_Sarcolipin_51.txt\",\"PF00992_seed_Troponin_87.txt\",\"PF00870_rp15_P53_160.txt\",\"pos_PF06109_full_HlyE_62.txt\",\"PF01702_seed_TGT_541.txt\",\"PF02793_seed_HRM_126.txt\",\"PF00019_seed_TGF_beta_291.txt\",\"pos_PF01338_full_Bac_thur_toxin_87.txt\",\"pos_PF01338_full_Bac_thur_toxin_87.txt\",\"pos_PF12563_full_Hemolysin_N_12.txt\",\"pos_PF03505_full_Clenterotox_9.txt\",\"PF06083_seed_IL17_93.txt\",\"PF08027_full_Abumin_I_48.txt\",\"PF05366_full_Sarcolipin_51.txt\",\"pos_PF03505_full_Clenterotox_9.txt\",\"PF06083_seed_IL17_93.txt\",\"PF03494_full_Beta-APP_556.txt\",\"PF00992_seed_Troponin_87.txt\",\"pos_PF06109_full_HlyE_62.txt\",\"PF17848_seed_zf-ACC_33.txt\",\"PF00010_seed_HLH_146.txt\",\"pos_PF03318_full_ETX_MTX2_440.txt\",\"PF06083_seed_IL17_93.txt\",\"PF05366_full_Sarcolipin_51.txt\",\"PF06083_seed_IL17_93.txt\",\"PF01702_seed_TGT_541.txt\",\"PF00019_seed_TGF_beta_291.txt\",\"PF08027_full_Abumin_I_48.txt\",\"PF06083_seed_IL17_93.txt\",\"PF00019_seed_TGF_beta_291.txt\",\"PF00089_seed_Trypsin_70.txt\",\"pos_PF03505_full_Clenterotox_9.txt\",\"PF00010_seed_HLH_146.txt\",\"PF05366_full_Sarcolipin_51.txt\",\"pos_PF18063_full_BB_PF_52.txt\",\"PF05366_full_Sarcolipin_51.txt\",\"PF02793_seed_HRM_126.txt\",\"PF08027_full_Abumin_I_48.txt\",\"pos_PF17475_full_Binary_toxB_2_16.txt\",\"PF00992_seed_Troponin_87.txt\",\"PF00440_seed_tetR_N_74.txt\",\"PF00010_seed_HLH_146.txt\",\"PF02793_seed_HRM_126.txt\",\"PF01049_seed_Cadherin_C_98.txt\",\"pos_PF01823_rp15_MACPF_659.txt\",\"PF02793_seed_HRM_126.txt\",\"PF05366_full_Sarcolipin_51.txt\",\"PF07654_seed_C1-set_71.txt\",\"PF00377_full_Prion_159.txt\",\"PF08027_full_Abumin_I_48.txt\",\"PF07654_seed_C1-set_71.txt\",\"PF05366_full_Sarcolipin_51.txt\",\"pos_PF03318_full_ETX_MTX2_440.txt\",\"pos_PF03505_full_Clenterotox_9.txt\",\"PF05366_full_Sarcolipin_51.txt\",\"PF03494_full_Beta-APP_556.txt\",\"pos_PF06109_full_HlyE_62.txt\",\"pos_PF07968_full_Leukocidin_89.txt\",\"pos_PF03944_seed_Endotoxin_C_80.txt\",\"PF00010_seed_HLH_146.txt\",\"pos_PF06355_full_Aegerolysin_308.txt\",\"PF02793_seed_HRM_126.txt\",\"PF06083_seed_IL17_93.txt\",\"PF07740_seed_Toxin_12_31.txt\",\"PF01049_seed_Cadherin_C_98.txt\",\"pos_PF06355_full_Aegerolysin_308.txt\",\"PF07740_seed_Toxin_12_31.txt\",\"PF06083_seed_IL17_93.txt\",\"PF08027_full_Abumin_I_48.txt\",\"PF08027_full_Abumin_I_48.txt\",\"PF05366_full_Sarcolipin_51.txt\",\"PF00019_seed_TGF_beta_291.txt\",\"PF07740_seed_Toxin_12_31.txt\",\"pos_PF01338_full_Bac_thur_toxin_87.txt\",\"pos_PF06109_full_HlyE_62.txt\",\"PF07740_seed_Toxin_12_31.txt\",\"PF01650_seed_peptidase_C13_34.txt\",\"PF01702_seed_TGT_541.txt\",\"PF06083_seed_IL17_93.txt\",\"PF00019_seed_TGF_beta_291.txt\",\"pos_PF05105_seed_Phage_holin_4_1_131.txt\",\"PF07740_seed_Toxin_12_31.txt\",\"pos_PF12261_full_T_hemolysin_327.txt\",\"pos_PF01117_full_Aerolysin_207.txt\",\"pos_PF05802_full_EspB_60.txt\",\"pos_PF06355_full_Aegerolysin_308.txt\",\"pos_PF06369_full_anemone_cytotox_363.txt\",\"pos_PF12261_full_T_hemolysin_327.txt\",\"PF07740_seed_Toxin_12_31.txt\",\"PF00019_seed_TGF_beta_291.txt\",\"PF00870_rp15_P53_160.txt\",\"pos_PF00555_seed_Endotoxin_M_36.txt\",\"PF00992_seed_Troponin_87.txt\",\"PF08027_full_Abumin_I_48.txt\",\"pos_PF06355_full_Aegerolysin_308.txt\",\"PF05366_full_Sarcolipin_51.txt\",\"PF07740_seed_Toxin_12_31.txt\",\"pos_PF11393_full_T4BSS_DotI_IcmL_214.txt\",\"pos_PF06369_full_anemone_cytotox_363.txt\",\"PF00377_full_Prion_159.txt\",\"pos_PF03505_full_Clenterotox_9.txt\",\"PF07740_seed_Toxin_12_31.txt\",\"PF00870_rp15_P53_160.txt\",\"pos_PF03318_full_ETX_MTX2_440.txt\",\"PF00019_seed_TGF_beta_291.txt\",\"PF07654_seed_C1-set_71.txt\",\"PF00089_seed_Trypsin_70.txt\",\"PF00010_seed_HLH_146.txt\",\"pos_PF06355_full_Aegerolysin_308.txt\",\"PF05366_full_Sarcolipin_51.txt\",\"pos_PF00555_seed_Endotoxin_M_36.txt\",\"pos_PF00555_seed_Endotoxin_M_36.txt\",\"pos_PF03505_full_Clenterotox_9.txt\",\"PF07740_seed_Toxin_12_31.txt\",\"pos_PF03318_full_ETX_MTX2_440.txt\",\"pos_PF06109_full_HlyE_62.txt\",\"pos_PF06355_full_Aegerolysin_308.txt\",\"PF17416_full_Glycoprot_B_PH1_82.txt\",\"PF00870_rp15_P53_160.txt\",\"PF17848_seed_zf-ACC_33.txt\",\"pos_PF03318_full_ETX_MTX2_440.txt\",\"PF00992_seed_Troponin_87.txt\",\"PF06083_seed_IL17_93.txt\",\"PF00089_seed_Trypsin_70.txt\",\"PF01049_seed_Cadherin_C_98.txt\",\"pos_PF05802_full_EspB_60.txt\",\"pos_PF03505_full_Clenterotox_9.txt\",\"pos_PF00555_seed_Endotoxin_M_36.txt\",\"PF07740_seed_Toxin_12_31.txt\",\"PF00870_rp15_P53_160.txt\",\"PF06083_seed_IL17_93.txt\",\"PF06083_seed_IL17_93.txt\",\"pos_PF03318_full_ETX_MTX2_440.txt\",\"pos_PF03505_full_Clenterotox_9.txt\",\"PF05366_full_Sarcolipin_51.txt\",\"pos_PF06369_full_anemone_cytotox_363.txt\",\"PF07733_seed_DNA_pol3_alpha_88.txt\",\"PF08027_full_Abumin_I_48.txt\",\"PF07654_seed_C1-set_71.txt\",\"pos_PF03505_full_Clenterotox_9.txt\",\"pos_PF01338_full_Bac_thur_toxin_87.txt\",\"pos_PF05802_full_EspB_60.txt\",\"PF00377_full_Prion_159.txt\",\"PF00010_seed_HLH_146.txt\",\"PF00509_full_Hemagglutinin_40.txt\",\"pos_PF06109_full_HlyE_62.txt\",\"pos_PF00555_seed_Endotoxin_M_36.txt\",\"PF07740_seed_Toxin_12_31.txt\",\"pos_PF17475_full_Binary_toxB_2_16.txt\",\"pos_PF03944_seed_Endotoxin_C_80.txt\",\"PF08027_full_Abumin_I_48.txt\",\"pos_PF03945_full_Endotoxin_N_180.txt\",\"PF07740_seed_Toxin_12_31.txt\",\"PF05366_full_Sarcolipin_51.txt\",\"pos_PF03505_full_Clenterotox_9.txt\",\"pos_PF03944_seed_Endotoxin_C_80.txt\",\"PF05366_full_Sarcolipin_51.txt\",\"PF08027_full_Abumin_I_48.txt\",\"PF07654_seed_C1-set_71.txt\",\"PF08027_full_Abumin_I_48.txt\",\"pos_PF03505_full_Clenterotox_9.txt\",\"PF07654_seed_C1-set_71.txt\",\"PF00049_seed_Insulin_28.txt\",\"pos_PF03944_seed_Endotoxin_C_80.txt\",\"PF05366_full_Sarcolipin_51.txt\",\"PF06083_seed_IL17_93.txt\",\"PF00870_rp15_P53_160.txt\",\"pos_PF03505_full_Clenterotox_9.txt\",\"PF08027_full_Abumin_I_48.txt\",\"pos_PF01117_full_Aerolysin_207.txt\",\"PF00992_seed_Troponin_87.txt\",\"pos_PF00555_seed_Endotoxin_M_36.txt\",\"pos_PF03505_full_Clenterotox_9.txt\",\"pos_PF06369_full_anemone_cytotox_363.txt\",\"pos_PF01823_rp15_MACPF_659.txt\",\"PF09396_full_Thrombin_light_233.txt\",\"pos_PF06109_full_HlyE_62.txt\",\"PF05366_full_Sarcolipin_51.txt\",\"PF07740_seed_Toxin_12_31.txt\",\"pos_PF06109_full_HlyE_62.txt\",\"PF00870_rp15_P53_160.txt\",\"PF00870_rp15_P53_160.txt\",\"pos_PF06109_full_HlyE_62.txt\",\"PF07740_seed_Toxin_12_31.txt\",\"PF06083_seed_IL17_93.txt\",\"pos_PF03318_full_ETX_MTX2_440.txt\",\"pos_PF05802_full_EspB_60.txt\",\"PF17848_seed_zf-ACC_33.txt\",\"pos_PF06109_full_HlyE_62.txt\",\"PF18515_full_Rh5_28.txt\",\"PF05366_full_Sarcolipin_51.txt\",\"pos_PF03318_full_ETX_MTX2_440.txt\",\"PF00010_seed_HLH_146.txt\",\"PF05366_full_Sarcolipin_51.txt\",\"PF08027_full_Abumin_I_48.txt\",\"pos_PF03318_full_ETX_MTX2_440.txt\",\"PF06083_seed_IL17_93.txt\",\"PF00377_full_Prion_159.txt\",\"pos_PF05802_full_EspB_60.txt\",\"PF08027_full_Abumin_I_48.txt\",\"pos_PF06369_full_anemone_cytotox_363.txt\",\"PF08027_full_Abumin_I_48.txt\",\"pos_PF12261_full_T_hemolysin_327.txt\",\"PF06083_seed_IL17_93.txt\",\"pos_PF06109_full_HlyE_62.txt\",\"PF01049_seed_Cadherin_C_98.txt\",\"pos_PF06109_full_HlyE_62.txt\",\"PF08027_full_Abumin_I_48.txt\",\"PF07740_seed_Toxin_12_31.txt\",\"pos_PF03944_seed_Endotoxin_C_80.txt\",\"PF06083_seed_IL17_93.txt\",\"PF17416_full_Glycoprot_B_PH1_82.txt\",\"pos_PF12261_full_T_hemolysin_327.txt\",\"PF07740_seed_Toxin_12_31.txt\",\"PF02793_seed_HRM_126.txt\",\"pos_PF03944_seed_Endotoxin_C_80.txt\",\"PF07733_seed_DNA_pol3_alpha_88.txt\",\"PF07733_seed_DNA_pol3_alpha_88.txt\",\"PF05366_full_Sarcolipin_51.txt\",\"pos_PF01338_full_Bac_thur_toxin_87.txt\",\"PF08027_full_Abumin_I_48.txt\",\"PF01049_seed_Cadherin_C_98.txt\",\"PF06083_seed_IL17_93.txt\",\"pos_PF06369_full_anemone_cytotox_363.txt\",\"PF00377_full_Prion_159.txt\",\"PF07733_seed_DNA_pol3_alpha_88.txt\",\"pos_PF03505_full_Clenterotox_9.txt\",\"PF00019_seed_TGF_beta_291.txt\",\"pos_PF05105_seed_Phage_holin_4_1_131.txt\",\"pos_PF06109_full_HlyE_62.txt\",\"PF06083_seed_IL17_93.txt\",\"pos_PF01338_full_Bac_thur_toxin_87.txt\",\"PF00992_seed_Troponin_87.txt\",\"PF07733_seed_DNA_pol3_alpha_88.txt\",\"PF07740_seed_Toxin_12_31.txt\",\"PF05366_full_Sarcolipin_51.txt\",\"PF00019_seed_TGF_beta_291.txt\",\"pos_PF03505_full_Clenterotox_9.txt\",\"PF08027_full_Abumin_I_48.txt\",\"pos_PF05105_seed_Phage_holin_4_1_131.txt\",\"pos_PF05105_seed_Phage_holin_4_1_131.txt\",\"pos_PF01338_full_Bac_thur_toxin_87.txt\",\"PF00019_seed_TGF_beta_291.txt\",\"PF01049_seed_Cadherin_C_98.txt\",\"pos_PF06369_full_anemone_cytotox_363.txt\",\"pos_PF01117_full_Aerolysin_207.txt\",\"PF17848_seed_zf-ACC_33.txt\",\"PF08027_full_Abumin_I_48.txt\",\"PF07740_seed_Toxin_12_31.txt\",\"pos_PF06369_full_anemone_cytotox_363.txt\",\"pos_PF03505_full_Clenterotox_9.txt\",\"PF06083_seed_IL17_93.txt\",\"PF01702_seed_TGT_541.txt\",\"pos_PF01117_full_Aerolysin_207.txt\",\"PF17416_full_Glycoprot_B_PH1_82.txt\",\"pos_PF03505_full_Clenterotox_9.txt\",\"PF02793_seed_HRM_126.txt\",\"PF08027_full_Abumin_I_48.txt\",\"PF06083_seed_IL17_93.txt\",\"PF06083_seed_IL17_93.txt\",\"pos_PF03318_full_ETX_MTX2_440.txt\",\"pos_PF03505_full_Clenterotox_9.txt\",\"PF06083_seed_IL17_93.txt\",\"PF07654_seed_C1-set_71.txt\",\"pos_PF05105_seed_Phage_holin_4_1_131.txt\",\"PF00377_full_Prion_159.txt\",\"PF07654_seed_C1-set_71.txt\",\"PF00377_full_Prion_159.txt\",\"PF08027_full_Abumin_I_48.txt\",\"PF08027_full_Abumin_I_48.txt\",\"PF00992_seed_Troponin_87.txt\",\"PF07654_seed_C1-set_71.txt\",\"pos_PF03505_full_Clenterotox_9.txt\",\"pos_PF03318_full_ETX_MTX2_440.txt\",\"PF02884_seed_Lyase_8_C_76.txt\",\"pos_PF00555_seed_Endotoxin_M_36.txt\",\"pos_PF03505_full_Clenterotox_9.txt\",\"pos_PF06369_full_anemone_cytotox_363.txt\",\"PF00992_seed_Troponin_87.txt\",\"PF00089_seed_Trypsin_70.txt\",\"PF08027_full_Abumin_I_48.txt\",\"pos_PF06369_full_anemone_cytotox_363.txt\",\"PF02793_seed_HRM_126.txt\",\"pos_PF03318_full_ETX_MTX2_440.txt\",\"PF05366_full_Sarcolipin_51.txt\",\"PF02793_seed_HRM_126.txt\",\"PF08027_full_Abumin_I_48.txt\",\"PF05366_full_Sarcolipin_51.txt\",\"pos_PF03318_full_ETX_MTX2_440.txt\",\"PF05366_full_Sarcolipin_51.txt\",\"pos_PF06369_full_anemone_cytotox_363.txt\",\"PF05366_full_Sarcolipin_51.txt\",\"PF07740_seed_Toxin_12_31.txt\",\"pos_PF03318_full_ETX_MTX2_440.txt\",\"PF05366_full_Sarcolipin_51.txt\",\"PF02793_seed_HRM_126.txt\",\"PF06083_seed_IL17_93.txt\",\"pos_PF03505_full_Clenterotox_9.txt\",\"PF00010_seed_HLH_146.txt\",\"PF00019_seed_TGF_beta_291.txt\",\"pos_PF05105_seed_Phage_holin_4_1_131.txt\",\"PF05366_full_Sarcolipin_51.txt\",\"pos_PF03318_full_ETX_MTX2_440.txt\",\"PF08027_full_Abumin_I_48.txt\",\"PF00019_seed_TGF_beta_291.txt\",\"PF06083_seed_IL17_93.txt\",\"PF00992_seed_Troponin_87.txt\",\"PF02793_seed_HRM_126.txt\",\"PF00049_seed_Insulin_28.txt\",\"PF06083_seed_IL17_93.txt\",\"pos_PF06369_full_anemone_cytotox_363.txt\",\"PF00019_seed_TGF_beta_291.txt\",\"pos_PF01117_full_Aerolysin_207.txt\",\"PF06083_seed_IL17_93.txt\",\"pos_PF06109_full_HlyE_62.txt\",\"PF07654_seed_C1-set_71.txt\",\"pos_PF06369_full_anemone_cytotox_363.txt\",\"PF07740_seed_Toxin_12_31.txt\",\"PF00870_rp15_P53_160.txt\",\"PF06083_seed_IL17_93.txt\",\"PF03494_full_Beta-APP_556.txt\",\"PF06083_seed_IL17_93.txt\",\"PF00019_seed_TGF_beta_291.txt\",\"pos_PF06109_full_HlyE_62.txt\",\"PF08027_full_Abumin_I_48.txt\",\"PF05366_full_Sarcolipin_51.txt\",\"PF00870_rp15_P53_160.txt\",\"pos_PF01117_full_Aerolysin_207.txt\",\"PF00870_rp15_P53_160.txt\",\"pos_PF06369_full_anemone_cytotox_363.txt\",\"PF08027_full_Abumin_I_48.txt\",\"pos_PF03505_full_Clenterotox_9.txt\",\"PF01650_seed_peptidase_C13_34.txt\",\"PF00019_seed_TGF_beta_291.txt\",\"PF08027_full_Abumin_I_48.txt\",\"PF08027_full_Abumin_I_48.txt\",\"PF00509_full_Hemagglutinin_40.txt\",\"pos_PF06109_full_HlyE_62.txt\",\"pos_PF12920_full_TcdA_TcdB_pore_46.txt\",\"pos_PF01024_full_Colicin_26.txt\",\"PF06083_seed_IL17_93.txt\",\"PF01702_seed_TGT_541.txt\",\"PF00019_seed_TGF_beta_291.txt\",\"PF02884_seed_Lyase_8_C_76.txt\",\"pos_PF06109_full_HlyE_62.txt\",\"pos_PF03945_full_Endotoxin_N_180.txt\",\"pos_PF06369_full_anemone_cytotox_363.txt\",\"PF02793_seed_HRM_126.txt\",\"pos_PF06369_full_anemone_cytotox_363.txt\",\"pos_PF03505_full_Clenterotox_9.txt\",\"pos_PF12261_full_T_hemolysin_327.txt\",\"PF00377_full_Prion_159.txt\",\"pos_PF06369_full_anemone_cytotox_363.txt\",\"pos_PF01338_full_Bac_thur_toxin_87.txt\",\"PF07740_seed_Toxin_12_31.txt\",\"PF17848_seed_zf-ACC_33.txt\",\"PF02793_seed_HRM_126.txt\",\"PF00019_seed_TGF_beta_291.txt\",\"PF06083_seed_IL17_93.txt\",\"PF05366_full_Sarcolipin_51.txt\",\"PF08027_full_Abumin_I_48.txt\",\"pos_PF05105_seed_Phage_holin_4_1_131.txt\",\"pos_PF01338_full_Bac_thur_toxin_87.txt\",\"pos_PF03505_full_Clenterotox_9.txt\",\"PF00019_seed_TGF_beta_291.txt\",\"PF07740_seed_Toxin_12_31.txt\",\"PF06083_seed_IL17_93.txt\",\"PF00440_seed_tetR_N_74.txt\",\"pos_PF06355_full_Aegerolysin_308.txt\",\"PF07733_seed_DNA_pol3_alpha_88.txt\",\"pos_PF06109_full_HlyE_62.txt\",\"pos_PF01024_full_Colicin_26.txt\",\"PF01702_seed_TGT_541.txt\",\"PF00010_seed_HLH_146.txt\",\"PF00010_seed_HLH_146.txt\",\"PF07740_seed_Toxin_12_31.txt\",\"PF00440_seed_tetR_N_74.txt\",\"PF06083_seed_IL17_93.txt\",\"PF00019_seed_TGF_beta_291.txt\",\"PF05366_full_Sarcolipin_51.txt\",\"pos_PF03318_full_ETX_MTX2_440.txt\",\"PF05366_full_Sarcolipin_51.txt\",\"pos_PF06109_full_HlyE_62.txt\",\"pos_PF06355_full_Aegerolysin_308.txt\",\"PF02793_seed_HRM_126.txt\",\"PF08027_full_Abumin_I_48.txt\",\"PF00440_seed_tetR_N_74.txt\",\"pos_PF03318_full_ETX_MTX2_440.txt\",\"PF05366_full_Sarcolipin_51.txt\",\"PF05366_full_Sarcolipin_51.txt\",\"PF00992_seed_Troponin_87.txt\",\"PF00377_full_Prion_159.txt\",\"pos_PF06355_full_Aegerolysin_308.txt\",\"pos_PF06369_full_anemone_cytotox_363.txt\",\"PF17848_seed_zf-ACC_33.txt\",\"PF00992_seed_Troponin_87.txt\",\"PF00019_seed_TGF_beta_291.txt\",\"PF00089_seed_Trypsin_70.txt\",\"pos_PF06355_full_Aegerolysin_308.txt\",\"pos_PF06369_full_anemone_cytotox_363.txt\",\"pos_PF05105_seed_Phage_holin_4_1_131.txt\",\"pos_PF06369_full_anemone_cytotox_363.txt\",\"pos_PF03318_full_ETX_MTX2_440.txt\",\"PF02793_seed_HRM_126.txt\",\"PF08027_full_Abumin_I_48.txt\",\"PF00992_seed_Troponin_87.txt\",\"PF00729_full_Viral_coat_149.txt\",\"pos_PF18684_full_PlyB_C_8.txt\",\"pos_PF06369_full_anemone_cytotox_363.txt\",\"PF06083_seed_IL17_93.txt\",\"PF08027_full_Abumin_I_48.txt\",\"PF00870_rp15_P53_160.txt\",\"PF06083_seed_IL17_93.txt\",\"PF00019_seed_TGF_beta_291.txt\",\"pos_PF06109_full_HlyE_62.txt\",\"pos_PF06355_full_Aegerolysin_308.txt\",\"pos_PF06355_full_Aegerolysin_308.txt\",\"PF00010_seed_HLH_146.txt\",\"pos_PF03944_seed_Endotoxin_C_80.txt\",\"pos_PF03505_full_Clenterotox_9.txt\",\"PF07733_seed_DNA_pol3_alpha_88.txt\",\"PF07740_seed_Toxin_12_31.txt\",\"PF02793_seed_HRM_126.txt\",\"pos_PF01024_full_Colicin_26.txt\",\"pos_PF01338_full_Bac_thur_toxin_87.txt\",\"PF06083_seed_IL17_93.txt\",\"pos_PF00555_seed_Endotoxin_M_36.txt\",\"pos_PF06369_full_anemone_cytotox_363.txt\",\"pos_PF00555_seed_Endotoxin_M_36.txt\",\"PF06083_seed_IL17_93.txt\",\"PF06083_seed_IL17_93.txt\",\"PF05366_full_Sarcolipin_51.txt\",\"PF00377_full_Prion_159.txt\",\"PF17848_seed_zf-ACC_33.txt\",\"PF00377_full_Prion_159.txt\",\"PF08027_full_Abumin_I_48.txt\",\"pos_PF03505_full_Clenterotox_9.txt\",\"pos_PF12261_full_T_hemolysin_327.txt\",\"pos_PF12261_full_T_hemolysin_327.txt\",\"PF07740_seed_Toxin_12_31.txt\",\"pos_PF06369_full_anemone_cytotox_363.txt\",\"pos_PF01338_full_Bac_thur_toxin_87.txt\",\"PF06083_seed_IL17_93.txt\",\"pos_PF03318_full_ETX_MTX2_440.txt\",\"pos_PF06109_full_HlyE_62.txt\",\"PF07733_seed_DNA_pol3_alpha_88.txt\",\"PF17848_seed_zf-ACC_33.txt\",\"pos_PF18684_full_PlyB_C_8.txt\",\"PF00440_seed_tetR_N_74.txt\",\"PF17848_seed_zf-ACC_33.txt\",\"PF08027_full_Abumin_I_48.txt\",\"pos_PF06355_full_Aegerolysin_308.txt\",\"pos_PF03505_full_Clenterotox_9.txt\",\"pos_PF03318_full_ETX_MTX2_440.txt\",\"PF08027_full_Abumin_I_48.txt\",\"PF00010_seed_HLH_146.txt\",\"PF00010_seed_HLH_146.txt\",\"PF07740_seed_Toxin_12_31.txt\",\"PF00870_rp15_P53_160.txt\",\"PF01650_seed_peptidase_C13_34.txt\",\"pos_PF04877_full_Harpin_35.txt\",\"PF00992_seed_Troponin_87.txt\",\"PF06083_seed_IL17_93.txt\",\"PF08027_full_Abumin_I_48.txt\",\"PF05366_full_Sarcolipin_51.txt\",\"PF00870_rp15_P53_160.txt\",\"PF00729_full_Viral_coat_149.txt\",\"PF06083_seed_IL17_93.txt\",\"PF02793_seed_HRM_126.txt\",\"pos_PF03505_full_Clenterotox_9.txt\",\"pos_PF06109_full_HlyE_62.txt\",\"PF17416_full_Glycoprot_B_PH1_82.txt\",\"PF06083_seed_IL17_93.txt\",\"PF08027_full_Abumin_I_48.txt\",\"PF06083_seed_IL17_93.txt\",\"pos_PF04877_full_Harpin_35.txt\",\"pos_PF12920_full_TcdA_TcdB_pore_46.txt\",\"PF07654_seed_C1-set_71.txt\",\"pos_PF01024_full_Colicin_26.txt\",\"PF05366_full_Sarcolipin_51.txt\",\"PF07654_seed_C1-set_71.txt\",\"pos_PF06355_full_Aegerolysin_308.txt\",\"pos_PF06355_full_Aegerolysin_308.txt\",\"pos_PF06369_full_anemone_cytotox_363.txt\",\"pos_PF06369_full_anemone_cytotox_363.txt\",\"PF00992_seed_Troponin_87.txt\",\"pos_PF03505_full_Clenterotox_9.txt\",\"PF17848_seed_zf-ACC_33.txt\",\"PF05366_full_Sarcolipin_51.txt\",\"pos_PF12920_full_TcdA_TcdB_pore_46.txt\",\"PF05366_full_Sarcolipin_51.txt\",\"PF00509_full_Hemagglutinin_40.txt\",\"pos_PF18063_full_BB_PF_52.txt\",\"PF05366_full_Sarcolipin_51.txt\",\"PF00377_full_Prion_159.txt\",\"PF07740_seed_Toxin_12_31.txt\",\"pos_PF03505_full_Clenterotox_9.txt\",\"PF00049_seed_Insulin_28.txt\",\"PF07740_seed_Toxin_12_31.txt\",\"pos_PF06369_full_anemone_cytotox_363.txt\",\"pos_PF03944_seed_Endotoxin_C_80.txt\",\"pos_PF17475_full_Binary_toxB_2_16.txt\",\"pos_PF03505_full_Clenterotox_9.txt\",\"pos_PF03945_full_Endotoxin_N_180.txt\",\"PF08027_full_Abumin_I_48.txt\",\"PF05366_full_Sarcolipin_51.txt\",\"PF02884_seed_Lyase_8_C_76.txt\",\"PF00377_full_Prion_159.txt\",\"PF00870_rp15_P53_160.txt\",\"PF08027_full_Abumin_I_48.txt\",\"pos_PF00555_seed_Endotoxin_M_36.txt\",\"PF06083_seed_IL17_93.txt\",\"pos_PF06369_full_anemone_cytotox_363.txt\",\"pos_PF11393_full_T4BSS_DotI_IcmL_214.txt\",\"pos_PF03318_full_ETX_MTX2_440.txt\",\"pos_PF05105_seed_Phage_holin_4_1_131.txt\",\"pos_PF06109_full_HlyE_62.txt\",\"PF01049_seed_Cadherin_C_98.txt\",\"PF02793_seed_HRM_126.txt\",\"PF07733_seed_DNA_pol3_alpha_88.txt\",\"pos_PF03318_full_ETX_MTX2_440.txt\",\"pos_PF03505_full_Clenterotox_9.txt\",\"PF00440_seed_tetR_N_74.txt\",\"PF07740_seed_Toxin_12_31.txt\",\"pos_PF03318_full_ETX_MTX2_440.txt\",\"pos_PF06109_full_HlyE_62.txt\",\"PF06083_seed_IL17_93.txt\",\"PF06083_seed_IL17_93.txt\",\"PF00729_full_Viral_coat_149.txt\",\"PF08027_full_Abumin_I_48.txt\",\"PF06083_seed_IL17_93.txt\",\"PF07740_seed_Toxin_12_31.txt\",\"PF00019_seed_TGF_beta_291.txt\",\"PF08027_full_Abumin_I_48.txt\",\"pos_PF17475_full_Binary_toxB_2_16.txt\",\"PF05366_full_Sarcolipin_51.txt\",\"PF08027_full_Abumin_I_48.txt\",\"PF17848_seed_zf-ACC_33.txt\",\"PF00377_full_Prion_159.txt\",\"PF00729_full_Viral_coat_149.txt\",\"PF08027_full_Abumin_I_48.txt\",\"pos_PF06355_full_Aegerolysin_308.txt\",\"PF02884_seed_Lyase_8_C_76.txt\",\"PF07740_seed_Toxin_12_31.txt\",\"PF05366_full_Sarcolipin_51.txt\",\"PF02793_seed_HRM_126.txt\",\"PF00509_full_Hemagglutinin_40.txt\",\"PF01702_seed_TGT_541.txt\",\"PF07740_seed_Toxin_12_31.txt\",\"pos_PF06369_full_anemone_cytotox_363.txt\",\"pos_PF06109_full_HlyE_62.txt\",\"pos_PF03505_full_Clenterotox_9.txt\",\"pos_PF03318_full_ETX_MTX2_440.txt\",\"PF05366_full_Sarcolipin_51.txt\",\"PF00440_seed_tetR_N_74.txt\",\"PF18515_full_Rh5_28.txt\",\"PF07740_seed_Toxin_12_31.txt\",\"pos_PF03318_full_ETX_MTX2_440.txt\"],\"label\":[23,1,1,19,40,18,1,17,26,17,25,29,26,40,20,32,18,21,31,16,39,39,17,23,39,21,17,21,1,21,9,17,4,39,21,21,17,21,12,5,24,17,36,20,13,31,17,20,15,18,1,46,32,33,8,21,42,32,38,16,31,24,21,32,24,0,21,8,8,16,31,17,24,16,11,39,24,17,31,16,1,43,9,21,28,20,8,34,31,31,31,15,16,20,27,42,8,32,13,14,21,20,27,6,41,17,31,24,39,9,39,21,21,36,26,17,1,26,39,38,16,16,1,30,32,24,47,20,10,38,32,17,40,23,9,10,25,38,16,12,16,23,40,21,31,42,13,40,4,1,17,21,19,20,21,40,46,21,17,13,0,16,39,40,17,9,14,3,9,39,36,6,14,31,34,31,15,40,39,39,31,37,17,40,17,21,21,17,43,4,12,24,39,46,40,18,17,21,14,26,4,21,16,16,4,32,39,12,20,20,40,45,0,1,26,20,17,38,9,2,20,21,17,46,14,15,17,40,32,21,20,40,21,39,13,33,20,0,20,20,40,3,17,16,21,20,34,31,20,10,2,45,24,43,0,21,39,39,24,13,14,20,1,21,16,13,35,16,18,40,4,27,14,32,17,1,38,3,35,46,29,23,23,9,8,13,31,39,23,16,39,16,31,21,12,24,17,17,38,16,4,17,40,29,17,6,40,1,17,30,47,20,17,17,21,16,34,16,9,17,21,9,32,30,1,34,40,20,40,31,42,34,21,47,40,37,3,16,20,6,16,18,5,21,16,17,16,44,40,42,1,38,31,32,16,32,32,16,21,30,14,17,30,0,8,17,9,40,24,35,20,16,19,10,0,16,0,43,20,17,5,40,34,0,17,38,34,4,32,0,40,31,17,31,17,16,26,8,30,0,14,34,4,17,17,32,38,21,17,8,20,17,21,32,42,17,12,20,16,21,30,16,31,21,16,24,26,9,37,19,17,16,40,20,17,0,21,17,32,16,40,8,17,32,21,32,32,20,1,20,1,0,14,1,5,25,42,17,24,8,1,20,19,27,20,25,37,10,8,17,31,17,43,43,17,10,31,30,32,29,1,26,31,17,19,10,21,7,17,21,17,1,26,3,3,31,17,20,31,16,1,17,21,1,24,28,16,3,31,17,9,20,17,35,38,16,16,40,1,16,31,16,4,21,39,43,39,30,22,1,12,17,5,17,16,39,21,31,40,17,13,16,31,14,39,16,21,16,21,16,26,16,32,27,20,16,21,20,4,1,34,1,38,21,37,21,32,24,32,1,10,30,21,21,17,20,13,24,25,13,32,16,16,17,9,21,32,21,38,0,8,21,17,20,12,18,7,32,40,45,21,36,12,16,16,40,20,29,20,32,17,20,17,23,36,38,1,18,20,20,9,16,21,13,1,20,23,20,32,34,16,16,21,20,34,38,38,13,34,21,8,12,16,7,32,32,47,33,32,20,36,31,3,17,5,17,33,32,20,32,40,24,24,31,16,1,4,13,21,23,3,24,4,21,29,9,36,40,17,4,11,18,17,13,20,1,16,33,24,43,21,17,40,40,1,16,14,26,10,20,5,1,40,4,16,32,29,38,12,29,13,28,28,17,20,31,38,24,1,20,17,4,13,31,36,17,26,13,14,12,0,40,32,39,16,4,32,21,17,0,13,23,12,21,9,10,31,16,32,21,21,16,20,38,33,34,17,43,32,18,46,23,24,24,16,27,13,26,38,40,39,31,21,17,17,20,17,1,18,20,13,17,39,34,31,28,17,38,44,20,16,18,17,38,18,13,39,5,45,26,2,8,17,28,26,24,4,36,16,17,16,9,8,38,12,13,1,29,29,44,32,17,21,16,32,17,15,9,38,24,0,31,17,16,17,12,1,21,17,1,3,32,0,16,47,16,13,21,46,9,5,0,13,10,30,13,16,18,4,21,18,16,31,32,16,15,38,41,33,0,39,13,17,20,10,39,20,17,21,21,16,1,20,29,38,20,11,12,17,1,36,20,43,28,37,39,40,43,20,1,8,26,9,21,39,16,20,42,40,4,32,20,8,31,1,18,3,0,39,16,26,26,32,20,31,38,39,23,8,24,31,9,17,3,10,37,32,26,20,8,17,17,31,32,16,40,19,21,18,32,29,37,4,0,6,38,26,20,46,33,21,34,20,16,32,33,16,21,18,21,32,18,2,33,16,17,8,32,21,28,9,26,32,40,30,22,38,16,20,38,8,8,38,20,17,31,37,24,38,25,16,31,0,16,21,31,17,4,37,21,40,21,43,17,38,10,38,21,20,33,17,23,43,20,13,33,19,19,16,29,21,10,17,40,4,19,32,1,36,38,17,29,9,19,20,16,1,32,21,36,36,29,1,10,40,28,24,21,20,40,32,17,12,28,23,32,13,21,17,17,31,32,17,18,36,4,18,4,21,21,9,18,32,31,14,26,32,40,9,3,21,40,13,31,16,13,21,16,31,16,40,16,20,31,16,13,17,32,0,1,36,16,31,21,1,17,9,13,2,17,40,1,28,17,38,18,40,20,8,17,15,17,1,38,21,16,8,28,8,40,21,32,11,1,21,21,6,38,45,27,17,12,1,14,38,34,40,13,40,32,43,4,40,29,20,24,13,1,17,16,21,36,29,32,1,20,17,5,39,19,38,27,12,0,0,20,5,17,1,16,31,16,38,39,13,21,5,31,16,16,9,4,39,40,24,9,1,3,39,40,36,40,31,13,21,9,7,48,40,17,21,8,17,1,38,39,39,0,33,32,19,20,13,27,29,17,26,40,26,17,17,16,4,24,4,21,32,43,43,20,40,29,17,31,38,19,24,48,5,24,21,39,32,31,21,0,0,20,8,11,35,9,17,21,16,8,7,17,13,32,38,23,17,21,17,35,45,18,27,16,18,39,39,40,40,9,32,24,16,45,16,6,47,16,4,20,32,2,20,40,33,46,32,34,21,16,14,4,8,21,26,17,40,42,31,36,38,10,13,19,31,32,5,20,31,38,17,17,7,21,17,20,1,21,46,16,21,24,4,7,21,39,14,20,16,13,6,12,20,40,38,32,31,16,5,25,20,31],\"level_0\":[0,1,2,3,4,5,6,7,8,9,10,11,12,13,14,15,16,17,18,19,20,21,22,23,24,25,26,27,28,29,30,31,32,33,34,35,36,37,38,39,40,41,42,43,44,45,46,47,48,49,50,51,52,53,54,55,56,57,58,59,60,61,62,63,64,65,66,67,68,69,70,71,72,73,74,75,76,77,78,79,80,81,82,83,84,85,86,87,88,89,90,91,92,93,94,95,96,97,98,99,100,101,102,103,104,105,106,107,108,109,110,111,112,113,114,115,116,117,118,119,120,121,122,123,124,125,126,127,128,129,130,131,132,133,134,135,136,137,138,139,140,141,142,143,144,145,146,147,148,149,150,151,152,153,154,155,156,157,158,159,160,161,162,163,164,165,166,167,168,169,170,171,172,173,174,175,176,177,178,179,180,181,182,183,184,185,186,187,188,189,190,191,192,193,194,195,196,197,198,199,200,201,202,203,204,205,206,207,208,209,210,211,212,213,214,215,216,217,218,219,220,221,222,223,224,225,226,227,228,229,230,231,232,233,234,235,236,237,238,239,240,241,242,243,244,245,246,247,248,249,250,251,252,253,254,255,256,257,258,259,260,261,262,263,264,265,266,267,268,269,270,271,272,273,274,275,276,277,278,279,280,281,282,283,284,285,286,287,288,289,290,291,292,293,294,295,296,297,298,299,300,301,302,303,304,305,306,307,308,309,310,311,312,313,314,315,316,317,318,319,320,321,322,323,324,325,326,327,328,329,330,331,332,333,334,335,336,337,338,339,340,341,342,343,344,345,346,347,348,349,350,351,352,353,354,355,356,357,358,359,360,361,362,363,364,365,366,367,368,369,370,371,372,373,374,375,376,377,378,379,380,381,382,383,384,385,386,387,388,389,390,391,392,393,394,395,396,397,398,399,400,401,402,403,404,405,406,407,408,409,410,411,412,413,414,415,416,417,418,419,420,421,422,423,424,425,426,427,428,429,430,431,432,433,434,435,436,437,438,439,440,441,442,443,444,445,446,447,448,449,450,451,452,453,454,455,456,457,458,459,460,461,462,463,464,465,466,467,468,469,470,471,472,473,474,475,476,477,478,479,480,481,482,483,484,485,486,487,488,489,490,491,492,493,494,495,496,497,498,499,500,501,502,503,504,505,506,507,508,509,510,511,512,513,514,515,516,517,518,519,520,521,522,523,524,525,526,527,528,529,530,531,532,533,534,535,536,537,538,539,540,541,542,543,544,545,546,547,548,549,550,551,552,553,554,555,556,557,558,559,560,561,562,563,564,565,566,567,568,569,570,571,572,573,574,575,576,577,578,579,580,581,582,583,584,585,586,587,588,589,590,591,592,593,594,595,596,597,598,599,600,601,602,603,604,605,606,607,608,609,610,611,612,613,614,615,616,617,618,619,620,621,622,623,624,625,626,627,628,629,630,631,632,633,634,635,636,637,638,639,640,641,642,643,644,645,646,647,648,649,650,651,652,653,654,655,656,657,658,659,660,661,662,663,664,665,666,667,668,669,670,671,672,673,674,675,676,677,678,679,680,681,682,683,684,685,686,687,688,689,690,691,692,693,694,695,696,697,698,699,700,701,702,703,704,705,706,707,708,709,710,711,712,713,714,715,716,717,718,719,720,721,722,723,724,725,726,727,728,729,730,731,732,733,734,735,736,737,738,739,740,741,742,743,744,745,746,747,748,749,750,751,752,753,754,755,756,757,758,759,760,761,762,763,764,765,766,767,768,769,770,771,772,773,774,775,776,777,778,779,780,781,782,783,784,785,786,787,788,789,790,791,792,793,794,795,796,797,798,799,800,801,802,803,804,805,806,807,808,809,810,811,812,813,814,815,816,817,818,819,820,821,822,823,824,825,826,827,828,829,830,831,832,833,834,835,836,837,838,839,840,841,842,843,844,845,846,847,848,849,850,851,852,853,854,855,856,857,858,859,860,861,862,863,864,865,866,867,868,869,870,871,872,873,874,875,876,877,878,879,880,881,882,883,884,885,886,887,888,889,890,891,892,893,894,895,896,897,898,899,900,901,902,903,904,905,906,907,908,909,910,911,912,913,914,915,916,917,918,919,920,921,922,923,924,925,926,927,928,929,930,931,932,933,934,935,936,937,938,939,940,941,942,943,944,945,946,947,948,949,950,951,952,953,954,955,956,957,958,959,960,961,962,963,964,965,966,967,968,969,970,971,972,973,974,975,976,977,978,979,980,981,982,983,984,985,986,987,988,989,990,991,992,993,994,995,996,997,998,999,1000,1001,1002,1003,1004,1005,1006,1007,1008,1009,1010,1011,1012,1013,1014,1015,1016,1017,1018,1019,1020,1021,1022,1023,1024,1025,1026,1027,1028,1029,1030,1031,1032,1033,1034,1035,1036,1037,1038,1039,1040,1041,1042,1043,1044,1045,1046,1047,1048,1049,1050,1051,1052,1053,1054,1055,1056,1057,1058,1059,1060,1061,1062,1063,1064,1065,1066,1067,1068,1069,1070,1071,1072,1073,1074,1075,1076,1077,1078,1079,1080,1081,1082,1083,1084,1085,1086,1087,1088,1089,1090,1091,1092,1093,1094,1095,1096,1097,1098,1099,1100,1101,1102,1103,1104,1105,1106,1107,1108,1109,1110,1111,1112,1113,1114,1115,1116,1117,1118,1119,1120,1121,1122,1123,1124,1125,1126,1127,1128,1129,1130,1131,1132,1133,1134,1135,1136,1137,1138,1139,1140,1141,1142,1143,1144,1145,1146,1147,1148,1149,1150,1151,1152,1153,1154,1155,1156,1157,1158,1159,1160,1161,1162,1163,1164,1165,1166,1167,1168,1169,1170,1171,1172,1173,1174,1175,1176,1177,1178,1179,1180,1181,1182,1183,1184,1185,1186,1187,1188,1189,1190,1191,1192,1193,1194,1195,1196,1197,1198,1199,1200,1201,1202,1203,1204,1205,1206,1207,1208,1209,1210,1211,1212,1213,1214,1215,1216,1217,1218,1219,1220,1221,1222,1223,1224,1225,1226,1227,1228,1229,1230,1231,1232,1233,1234,1235,1236,1237,1238,1239,1240,1241,1242,1243,1244,1245,1246,1247,1248,1249,1250,1251,1252,1253,1254,1255,1256,1257,1258,1259,1260,1261,1262,1263,1264,1265,1266,1267,1268,1269,1270,1271,1272,1273,1274,1275,1276,1277,1278,1279,1280,1281,1282,1283,1284,1285,1286,1287,1288,1289,1290,1291,1292,1293,1294,1295,1296,1297,1298,1299,1300,1301,1302,1303,1304,1305,1306,1307,1308,1309,1310,1311,1312,1313,1314,1315,1316,1317,1318,1319,1320,1321,1322,1323,1324,1325,1326,1327,1328,1329,1330,1331,1332,1333,1334,1335,1336,1337,1338,1339,1340,1341,1342,1343,1344,1345,1346,1347,1348,1349,1350,1351,1352,1353,1354,1355,1356,1357,1358,1359,1360,1361,1362,1363,1364,1365,1366,1367],\"x\":{\"__ndarray__\":\"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\",\"dtype\":\"float32\",\"order\":\"little\",\"shape\":[1368]},\"y\":{\"__ndarray__\":\"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\",\"dtype\":\"float32\",\"order\":\"little\",\"shape\":[1368]}},\"selected\":{\"id\":\"1159\"},\"selection_policy\":{\"id\":\"1160\"}},\"id\":\"1104\",\"type\":\"ColumnDataSource\"},{\"attributes\":{},\"id\":\"1157\",\"type\":\"BasicTickFormatter\"},{\"attributes\":{},\"id\":\"1159\",\"type\":\"Selection\"},{\"attributes\":{\"axis\":{\"id\":\"1118\"},\"dimension\":1,\"ticker\":null,\"visible\":false},\"id\":\"1121\",\"type\":\"Grid\"},{\"attributes\":{},\"id\":\"1119\",\"type\":\"BasicTicker\"},{\"attributes\":{\"text\":\"\"},\"id\":\"1154\",\"type\":\"Title\"},{\"attributes\":{},\"id\":\"1155\",\"type\":\"BasicTickFormatter\"},{\"attributes\":{},\"id\":\"1125\",\"type\":\"SaveTool\"},{\"attributes\":{\"overlay\":{\"id\":\"1128\"}},\"id\":\"1124\",\"type\":\"BoxZoomTool\"},{\"attributes\":{\"fill_alpha\":{\"field\":\"alpha\"},\"fill_color\":{\"field\":\"color\"},\"line_alpha\":{\"field\":\"alpha\"},\"line_color\":{\"field\":\"color\"},\"size\":{\"units\":\"screen\",\"value\":5},\"x\":{\"field\":\"x\"},\"y\":{\"field\":\"y\"}},\"id\":\"1139\",\"type\":\"Circle\"},{\"attributes\":{},\"id\":\"1106\",\"type\":\"DataRange1d\"},{\"attributes\":{\"callback\":null,\"tooltips\":[[\"index\",\"@index\"],[\"label\",\"@label\"],[\"item\",\"@item\"]]},\"id\":\"1129\",\"type\":\"HoverTool\"},{\"attributes\":{\"data_source\":{\"id\":\"1104\"},\"glyph\":{\"id\":\"1139\"},\"hover_glyph\":null,\"muted_glyph\":null,\"nonselection_glyph\":{\"id\":\"1140\"},\"selection_glyph\":null,\"view\":{\"id\":\"1142\"}},\"id\":\"1141\",\"type\":\"GlyphRenderer\"},{\"attributes\":{},\"id\":\"1115\",\"type\":\"BasicTicker\"},{\"attributes\":{\"source\":{\"id\":\"1104\"}},\"id\":\"1142\",\"type\":\"CDSView\"},{\"attributes\":{},\"id\":\"1108\",\"type\":\"DataRange1d\"},{\"attributes\":{},\"id\":\"1126\",\"type\":\"ResetTool\"},{\"attributes\":{},\"id\":\"1123\",\"type\":\"WheelZoomTool\"},{\"attributes\":{},\"id\":\"1127\",\"type\":\"HelpTool\"},{\"attributes\":{\"bottom_units\":\"screen\",\"fill_alpha\":0.5,\"fill_color\":\"lightgrey\",\"left_units\":\"screen\",\"level\":\"overlay\",\"line_alpha\":1.0,\"line_color\":\"black\",\"line_dash\":[4,4],\"line_width\":2,\"right_units\":\"screen\",\"top_units\":\"screen\"},\"id\":\"1128\",\"type\":\"BoxAnnotation\"},{\"attributes\":{\"formatter\":{\"id\":\"1155\"},\"ticker\":{\"id\":\"1119\"},\"visible\":false},\"id\":\"1118\",\"type\":\"LinearAxis\"},{\"attributes\":{\"axis\":{\"id\":\"1114\"},\"ticker\":null,\"visible\":false},\"id\":\"1117\",\"type\":\"Grid\"},{\"attributes\":{\"fill_alpha\":{\"value\":0.1},\"fill_color\":{\"field\":\"color\"},\"line_alpha\":{\"value\":0.1},\"line_color\":{\"field\":\"color\"},\"size\":{\"units\":\"screen\",\"value\":5},\"x\":{\"field\":\"x\"},\"y\":{\"field\":\"y\"}},\"id\":\"1140\",\"type\":\"Circle\"},{\"attributes\":{},\"id\":\"1112\",\"type\":\"LinearScale\"},{\"attributes\":{\"active_drag\":\"auto\",\"active_inspect\":\"auto\",\"active_multi\":null,\"active_scroll\":\"auto\",\"active_tap\":\"auto\",\"tools\":[{\"id\":\"1122\"},{\"id\":\"1123\"},{\"id\":\"1124\"},{\"id\":\"1125\"},{\"id\":\"1126\"},{\"id\":\"1127\"},{\"id\":\"1129\"}]},\"id\":\"1130\",\"type\":\"Toolbar\"},{\"attributes\":{},\"id\":\"1110\",\"type\":\"LinearScale\"},{\"attributes\":{},\"id\":\"1160\",\"type\":\"UnionRenderers\"},{\"attributes\":{},\"id\":\"1122\",\"type\":\"PanTool\"},{\"attributes\":{\"formatter\":{\"id\":\"1157\"},\"ticker\":{\"id\":\"1115\"},\"visible\":false},\"id\":\"1114\",\"type\":\"LinearAxis\"}],\"root_ids\":[\"1105\"]},\"title\":\"Bokeh Application\",\"version\":\"2.1.0\"}};\n",
       "  var render_items = [{\"docid\":\"a831d215-be62-4132-a599-61f0491ce945\",\"root_ids\":[\"1105\"],\"roots\":{\"1105\":\"16552773-4252-4a8e-a9c9-778032ba19c1\"}}];\n",
       "  root.Bokeh.embed.embed_items_notebook(docs_json, render_items);\n",
       "\n",
       "  }\n",
       "  if (root.Bokeh !== undefined) {\n",
       "    embed_document(root);\n",
       "  } else {\n",
       "    var attempts = 0;\n",
       "    var timer = setInterval(function(root) {\n",
       "      if (root.Bokeh !== undefined) {\n",
       "        clearInterval(timer);\n",
       "        embed_document(root);\n",
       "      } else {\n",
       "        attempts++;\n",
       "        if (attempts > 100) {\n",
       "          clearInterval(timer);\n",
       "          console.log(\"Bokeh: ERROR: Unable to run BokehJS code because BokehJS library is missing\");\n",
       "        }\n",
       "      }\n",
       "    }, 10, root)\n",
       "  }\n",
       "})(window);"
      ],
      "application/vnd.bokehjs_exec.v0+json": ""
     },
     "metadata": {
      "application/vnd.bokehjs_exec.v0+json": {
       "id": "1105"
      }
     },
     "output_type": "display_data"
    }
   ],
   "source": [
    "from bokeh.plotting import show, save, output_notebook, output_file\n",
    "\n",
    "p = umap.plot.interactive(valid_mapper, labels=validation_labels, hover_data=hover_data,point_size=5)\n",
    "output_notebook()\n",
    "show(p)"
   ]
  },
  {
   "cell_type": "code",
   "execution_count": null,
   "metadata": {
    "colab": {
     "base_uri": "https://localhost:8080/",
     "height": 33
    },
    "colab_type": "code",
    "id": "mW21Qsr4D8Lr",
    "outputId": "721b2e05-aac0-41a6-ec91-d3a92590d958"
   },
   "outputs": [
    {
     "data": {
      "text/plain": [
       "(1, 250)"
      ]
     },
     "execution_count": 41,
     "metadata": {
      "tags": []
     },
     "output_type": "execute_result"
    }
   ],
   "source": [
    "#OLD CODE FROM HERE ON\n",
    "\n",
    "#2ZTB\n",
    "seq = \"MDVIREYLMFNELSALSSSPESVRSRFSSIYGTNPDGIALNNETYFNAVKPPITAQYGYYCYKNVGTVQYVNRPTDINPNVILAQDTLTNNTNEPFTTTITITGSFTNTSTVTSSTTTGFKFTSKLSIKKVFEIGGEVSFSTTIGTSETTTETITVSKSVTVTVPAQSRRTIQLTAKIAKESADFSAPITVDGYFGANFPKRVGPGGHYFWFNPARDVLNTTSGTLRGTVTNVSSFDFQTIVQPARSLLDEQ\"\n",
    "arr = [[char for char in seq]]\n",
    "seq_sequences = tokenizer.texts_to_sequences(arr)\n",
    "seq_padded = pad_sequences(seq_sequences, maxlen=max_length, padding=padding_type)\n",
    "seq_padded.shape"
   ]
  },
  {
   "cell_type": "code",
   "execution_count": null,
   "metadata": {
    "colab": {
     "base_uri": "https://localhost:8080/",
     "height": 171
    },
    "colab_type": "code",
    "id": "_6X1VPLA_DYc",
    "outputId": "0d0bb18c-3db6-4955-b710-b316d243d8b3"
   },
   "outputs": [
    {
     "name": "stdout",
     "output_type": "stream",
     "text": [
      "Query sequence was: \n",
      "MDVIREYLMFNELSALSSSPESVRSRFSSIYGTNPDGIALNNETYFNAVKPPITAQYGYYCYKNVGTVQYVNRPTDINPNVILAQDTLTNNTNEPFTTTITITGSFTNTSTVTSSTTTGFKFTSKLSIKKVFEIGGEVSFSTTIGTSETTTETITVSKSVTVTVPAQSRRTIQLTAKIAKESADFSAPITVDGYFGANFPKRVGPGGHYFWFNPARDVLNTTSGTLRGTVTNVSSFDFQTIVQPARSLLDEQ\n",
      "Most cosine similar:\n",
      "sp|B6A879|CHI2_YERET Chitinase 2 OS=Yersinia entomophaga OX=935293 GN=chi2 PE=1 SV=1\n",
      "MVNKYTYTSSKAMSDISDVIGEPLAAWDSQVGGRVFNVIFDGKVYTNTYWVERWQVPGIGSSDGNPHNAWKFVRAATADEINKIGNPTTADVKPTENIPSPILVEDKYTEETYSRPDVNFKEDGSQGNLSYTATRVCAPMYNHYVGDKTKPKLSAYITDWCQYDARLDGGGSKEEERGRGFDLATLMQNPATYDRLIFSFLGICGDIGNKSKKVQEVWDGWNAQAPSLGLPQIGKGHIVPLDPYGDLGTARNVGLPPESADTSIESGTFLPYYQQNRAAGLLGGLRELQKKAHAMGHKLDLAFSIGGWSLSSYFSALAENPDERRVFVASVVDFFVRFPMFSCVDIDWEYPGGGGDEGNISSDKDGENYVLLIKELRSALDSRFGYSNRKEISIACSGVKAKLKKSNIDQLVANGLDNIYLMSYDFFGTIWADYIGHHTNLYSPKDPGEQELFDLSAEAAIDYLHNELGIPMEKIHLGYANYGRSAVGGDLTTRQYTKNGPALGTMENGAPEFFDIVKNYMDAEHSLSMGKNGFVLMTDTNADADFLFSEAKGHFISLDTPRTVKQKGEYAAKNKLGGVFSWSGDQDCGLLANAAREGLGYVADSNQETIDMGPLYNPGKEIYLKSISEIKSK\n",
      "Closest in the 128 dim space\n",
      "sp|B6A879|CHI2_YERET Chitinase 2 OS=Yersinia entomophaga OX=935293 GN=chi2 PE=1 SV=1\n",
      "MVNKYTYTSSKAMSDISDVIGEPLAAWDSQVGGRVFNVIFDGKVYTNTYWVERWQVPGIGSSDGNPHNAWKFVRAATADEINKIGNPTTADVKPTENIPSPILVEDKYTEETYSRPDVNFKEDGSQGNLSYTATRVCAPMYNHYVGDKTKPKLSAYITDWCQYDARLDGGGSKEEERGRGFDLATLMQNPATYDRLIFSFLGICGDIGNKSKKVQEVWDGWNAQAPSLGLPQIGKGHIVPLDPYGDLGTARNVGLPPESADTSIESGTFLPYYQQNRAAGLLGGLRELQKKAHAMGHKLDLAFSIGGWSLSSYFSALAENPDERRVFVASVVDFFVRFPMFSCVDIDWEYPGGGGDEGNISSDKDGENYVLLIKELRSALDSRFGYSNRKEISIACSGVKAKLKKSNIDQLVANGLDNIYLMSYDFFGTIWADYIGHHTNLYSPKDPGEQELFDLSAEAAIDYLHNELGIPMEKIHLGYANYGRSAVGGDLTTRQYTKNGPALGTMENGAPEFFDIVKNYMDAEHSLSMGKNGFVLMTDTNADADFLFSEAKGHFISLDTPRTVKQKGEYAAKNKLGGVFSWSGDQDCGLLANAAREGLGYVADSNQETIDMGPLYNPGKEIYLKSISEIKSK\n"
     ]
    }
   ],
   "source": [
    "from sklearn.metrics.pairwise import cosine_similarity, euclidean_distances\n",
    "\n",
    "\n",
    "embed_2ztb = loaded_model.predict(seq_padded)\n",
    "embed_uniprots = loaded_model.predict(seqs_padded)\n",
    "sim_cosine = cosine_similarity(embed_2ztb, embed_uniprots)\n",
    "distances = euclidean_distances(embed_2ztb, embed_uniprots)\n",
    "\n",
    "print(\"Query sequence was: \")\n",
    "print(seq)\n",
    "\n",
    "idx = np.argmax(sim_cosine)\n",
    "print(\"Most cosine similar:\")\n",
    "print(descriptions[idx])\n",
    "print(sequences[idx])\n",
    "\n",
    "idx = np.argmin(distances)\n",
    "print(\"Closest in the 128 dim space\")\n",
    "print(descriptions[idx])\n",
    "print(sequences[idx])"
   ]
  },
  {
   "cell_type": "code",
   "execution_count": null,
   "metadata": {
    "colab": {
     "base_uri": "https://localhost:8080/",
     "height": 33
    },
    "colab_type": "code",
    "id": "Aa4V7UU09Jmb",
    "outputId": "0a1e6a89-dbf4-4c53-b104-d0cefe700620"
   },
   "outputs": [
    {
     "data": {
      "text/plain": [
       "0.22009304"
      ]
     },
     "execution_count": 40,
     "metadata": {
      "tags": []
     },
     "output_type": "execute_result"
    }
   ],
   "source": [
    "np.max(sim_cosine)"
   ]
  },
  {
   "cell_type": "code",
   "execution_count": null,
   "metadata": {
    "colab": {},
    "colab_type": "code",
    "id": "g7JpAwS1_l_r"
   },
   "outputs": [],
   "source": []
  }
 ],
 "metadata": {
  "colab": {
   "name": "ProtCNN_EmbeddingCopy.ipynb",
   "provenance": []
  },
  "kernelspec": {
   "display_name": "Python 3",
   "language": "python",
   "name": "python3"
  },
  "language_info": {
   "codemirror_mode": {
    "name": "ipython",
    "version": 3
   },
   "file_extension": ".py",
   "mimetype": "text/x-python",
   "name": "python",
   "nbconvert_exporter": "python",
   "pygments_lexer": "ipython3",
   "version": "3.7.6"
  }
 },
 "nbformat": 4,
 "nbformat_minor": 4
}
