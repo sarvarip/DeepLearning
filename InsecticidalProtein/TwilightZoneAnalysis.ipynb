{
 "cells": [
  {
   "cell_type": "code",
   "execution_count": 105,
   "metadata": {},
   "outputs": [],
   "source": [
    "import pickle\n",
    "import numpy\n",
    "with open(\"aa_sim_array.pickle\", 'rb') as f:\n",
    "    aa_mat = pickle.load(f)\n",
    "with open(\"pos_sim_array.pickle\", 'rb') as f:\n",
    "    str_mat = pickle.load(f)\n",
    "with open(\"pos_pdb_ids.pickle\", 'rb') as f:\n",
    "    ids = pickle.load(f)\n",
    "with open(\"pos_labels.pickle\", 'rb') as f:\n",
    "    labels = pickle.load(f)"
   ]
  },
  {
   "cell_type": "code",
   "execution_count": 43,
   "metadata": {},
   "outputs": [
    {
     "data": {
      "text/plain": [
       "array([[0.        , 0.41605839, 0.29927007, ..., 1.5212766 , 1.49468085,\n",
       "        1.50531915],\n",
       "       [0.        , 0.        , 0.41586538, ..., 1.53191489, 1.52659574,\n",
       "        1.5212766 ],\n",
       "       [0.        , 0.        , 0.        , ..., 1.56382979, 1.56382979,\n",
       "        1.56382979],\n",
       "       ...,\n",
       "       [0.        , 0.        , 0.        , ..., 0.        , 0.18617021,\n",
       "        0.16489362],\n",
       "       [0.        , 0.        , 0.        , ..., 0.        , 0.        ,\n",
       "        0.07978723],\n",
       "       [0.        , 0.        , 0.        , ..., 0.        , 0.        ,\n",
       "        0.        ]])"
      ]
     },
     "execution_count": 43,
     "metadata": {},
     "output_type": "execute_result"
    }
   ],
   "source": [
    "str_mat #Levenshtein distances - the bigger the less similar"
   ]
  },
  {
   "cell_type": "code",
   "execution_count": 44,
   "metadata": {},
   "outputs": [
    {
     "data": {
      "text/plain": [
       "array([[0.        , 0.00235849, 0.00707547, ..., 1.65829146, 1.55399061,\n",
       "        1.65829146],\n",
       "       [0.        , 0.        , 0.00471698, ..., 1.65829146, 1.55868545,\n",
       "        1.65829146],\n",
       "       [0.        , 0.        , 0.        , ..., 1.65829146, 1.55868545,\n",
       "        1.65829146],\n",
       "       ...,\n",
       "       [0.        , 0.        , 0.        , ..., 0.        , 0.11557789,\n",
       "        0.        ],\n",
       "       [0.        , 0.        , 0.        , ..., 0.        , 0.        ,\n",
       "        0.11557789],\n",
       "       [0.        , 0.        , 0.        , ..., 0.        , 0.        ,\n",
       "        0.        ]])"
      ]
     },
     "execution_count": 44,
     "metadata": {},
     "output_type": "execute_result"
    }
   ],
   "source": [
    "aa_mat #Levenshtein distances - the bigger the less similar"
   ]
  },
  {
   "cell_type": "code",
   "execution_count": 45,
   "metadata": {},
   "outputs": [],
   "source": [
    "#interested in big aa difference, but small str difference -> aa_mat / str_mat -> the bigger the better (more interesting)\n",
    "\n",
    "str_mat = str_mat + 0.00001\n",
    "res = aa_mat / str_mat"
   ]
  },
  {
   "cell_type": "code",
   "execution_count": 46,
   "metadata": {},
   "outputs": [
    {
     "data": {
      "text/plain": [
       "2127.659574468085"
      ]
     },
     "execution_count": 46,
     "metadata": {},
     "output_type": "execute_result"
    }
   ],
   "source": [
    "import numpy as np\n",
    "res = np.array(res)\n",
    "np.max(res)"
   ]
  },
  {
   "cell_type": "code",
   "execution_count": 47,
   "metadata": {},
   "outputs": [],
   "source": [
    "import bottleneck as bn\n",
    "\n",
    "def top_n_indexes(arr, n):\n",
    "    idx = bn.argpartition(arr, arr.size-n, axis=None)[-n:]\n",
    "    width = arr.shape[1]\n",
    "    return [divmod(i, width) for i in idx]"
   ]
  },
  {
   "cell_type": "code",
   "execution_count": 80,
   "metadata": {},
   "outputs": [],
   "source": [
    "idx = top_n_indexes(res, 3000)\n",
    "idx.sort(key = lambda tup: tup[0])"
   ]
  },
  {
   "cell_type": "code",
   "execution_count": 56,
   "metadata": {},
   "outputs": [
    {
     "data": {
      "text/plain": [
       "array([2127.65957447, 2127.65957447,   11.73043078,  513.69863014,\n",
       "         10.94649216])"
      ]
     },
     "execution_count": 56,
     "metadata": {},
     "output_type": "execute_result"
    }
   ],
   "source": [
    "temp = np.partition(-res.flatten(), 5)\n",
    "-temp[:5]"
   ]
  },
  {
   "cell_type": "code",
   "execution_count": 61,
   "metadata": {},
   "outputs": [
    {
     "name": "stdout",
     "output_type": "stream",
     "text": [
      "11.730430777127433\n",
      "2127.659574468085\n",
      "2127.659574468085\n",
      "513.6986301369863\n",
      "10.946492161978345\n"
     ]
    }
   ],
   "source": [
    "#sanity check\n",
    "for i in idx:\n",
    "    print(res[i[0], i[1]])"
   ]
  },
  {
   "cell_type": "code",
   "execution_count": 107,
   "metadata": {},
   "outputs": [
    {
     "name": "stdout",
     "output_type": "stream",
     "text": [
      "\"4PKM A 38:278\" paired with \"6RB9 A 34:260\" yields 4.456516751916893 with aa distance 0.8152610441767069 and labels pos_18_ETX_MTX2.txt and pos_18_ETX_MTX2.txt\n",
      "\"4QX0 A 509:644\" paired with \"2L38 A 1:175\" yields 3.9885376765703473 with aa distance 0.7377049180327869 and labels pos_22_Thiol_cytolysin.txt and pos_22_Thiol_cytolysin.txt\n",
      "\"4QX1 A 509:644\" paired with \"2L38 A 1:175\" yields 3.0018631932819995 with aa distance 0.734251968503937 and labels pos_22_Thiol_cytolysin.txt and pos_22_Thiol_cytolysin.txt\n",
      "\"4QX2 A 509:644\" paired with \"2L38 A 1:175\" yields 3.292018219862203 with aa distance 0.7591836734693878 and labels pos_22_Thiol_cytolysin.txt and pos_22_Thiol_cytolysin.txt\n",
      "\"4QX3 A 509:644\" paired with \"2L38 A 1:175\" yields 3.2290276390877612 with aa distance 0.75 and labels pos_22_Thiol_cytolysin.txt and pos_22_Thiol_cytolysin.txt\n",
      "\"1JI6 A 512:651\" paired with \"2L38 A 1:175\" yields 3.4528113309634754 with aa distance 0.75 and labels pos_22_Thiol_cytolysin.txt and pos_22_Thiol_cytolysin.txt\n",
      "\"1O72 A 1:175\" paired with \"2L38 A 1:175\" yields 3.5938898827639068 with aa distance 0.7813163481953291 and labels pos_22_Thiol_cytolysin.txt and pos_22_Thiol_cytolysin.txt\n",
      "\"2L38 A 1:175\" paired with \"3LIM A 3:178\" yields 4.82806994343965 with aa distance 0.770042194092827 and labels pos_22_Thiol_cytolysin.txt and pos_22_Thiol_cytolysin.txt\n",
      "\"2L38 A 1:175\" paired with \"3VWI A 3:178\" yields 3.555896800722068 with aa distance 0.7418032786885246 and labels pos_22_Thiol_cytolysin.txt and pos_22_Thiol_cytolysin.txt\n",
      "\"2L38 A 1:175\" paired with \"3ZWG A 3:178\" yields 3.699786458941563 with aa distance 0.7479508196721312 and labels pos_22_Thiol_cytolysin.txt and pos_22_Thiol_cytolysin.txt\n",
      "\"2LKF A 34:284\" paired with \"4E0S B 270:493\" yields 3.1131142388059203 with aa distance 0.7253086419753086 and labels pos_37_Leukocidin.txt and pos_37_Leukocidin.txt\n",
      "\"2LKF A 34:284\" paired with \"6H04 B 291:514\" yields 3.186066709616501 with aa distance 0.7241379310344828 and labels pos_37_Leukocidin.txt and pos_37_Leukocidin.txt\n",
      "\"2LKF A 34:284\" paired with \"6H03 D 227:448\" yields 3.402409312314751 with aa distance 0.7534246575342466 and labels pos_37_Leukocidin.txt and pos_37_Leukocidin.txt\n",
      "\"2LKF A 34:284\" paired with \"6H04 D 227:448\" yields 3.442464936035723 with aa distance 0.75 and labels pos_37_Leukocidin.txt and pos_37_Leukocidin.txt\n",
      "\"2LKF A 34:284\" paired with \"2QQH A 237:460\" yields 3.181683201318732 with aa distance 0.75 and labels pos_37_Leukocidin.txt and pos_37_Leukocidin.txt\n",
      "\"2LKF A 34:284\" paired with \"2RD7 A 237:460\" yields 3.4581839540084887 with aa distance 0.7534246575342466 and labels pos_37_Leukocidin.txt and pos_37_Leukocidin.txt\n",
      "\"2LKF A 34:284\" paired with \"6H03 F 237:460\" yields 3.4542947124482164 with aa distance 0.7525773195876289 and labels pos_37_Leukocidin.txt and pos_37_Leukocidin.txt\n",
      "\"3LKF A 34:284\" paired with \"4MKO A 43:246\" yields 3.2051743672943624 with aa distance 0.7862068965517242 and labels pos_37_Leukocidin.txt and pos_37_Leukocidin.txt\n",
      "\"4P1X B 29:275\" paired with \"3ROH A 57:302\" yields 3.0653430264535806 with aa distance 0.7251655629139073 and labels pos_37_Leukocidin.txt and pos_37_Leukocidin.txt\n",
      "\"1XEZ A 190:452\" paired with \"5K59 C 62:305\" yields 3.11161942935166 with aa distance 0.7750865051903114 and labels pos_37_Leukocidin.txt and pos_37_Leukocidin.txt\n",
      "\"1XEZ A 190:452\" paired with \"1T5R A 29:275\" yields 2.9920173463489332 with aa distance 0.7185430463576159 and labels pos_37_Leukocidin.txt and pos_37_Leukocidin.txt\n",
      "\"1XEZ A 190:452\" paired with \"5J69 B 802:916\" yields 3.2160704210237965 with aa distance 0.7094594594594594 and labels pos_37_Leukocidin.txt and pos_37_Leukocidin.txt\n",
      "\"3O44 A 190:452\" paired with \"5K59 C 62:305\" yields 3.11161942935166 with aa distance 0.7750865051903114 and labels pos_37_Leukocidin.txt and pos_37_Leukocidin.txt\n",
      "\"3O44 A 190:452\" paired with \"1T5R A 29:275\" yields 3.0195935430894765 with aa distance 0.7251655629139073 and labels pos_37_Leukocidin.txt and pos_37_Leukocidin.txt\n",
      "\"3O44 A 190:452\" paired with \"5J69 B 802:916\" yields 3.5084260009863684 with aa distance 0.7094594594594594 and labels pos_37_Leukocidin.txt and pos_37_Leukocidin.txt\n",
      "\"5K59 C 62:305\" paired with \"3OJY B 219:442\" yields 3.4213026614717417 with aa distance 0.7394366197183099 and labels pos_37_Leukocidin.txt and pos_37_Leukocidin.txt\n",
      "\"5K59 C 62:305\" paired with \"6H03 F 237:460\" yields 3.4526474146742183 with aa distance 0.7335640138408305 and labels pos_37_Leukocidin.txt and pos_37_Leukocidin.txt\n",
      "\"5K59 C 62:305\" paired with \"2RD7 A 237:460\" yields 3.5759502398998535 with aa distance 0.7335640138408305 and labels pos_37_Leukocidin.txt and pos_37_Leukocidin.txt\n",
      "\"5K59 C 62:305\" paired with \"2QQH A 237:460\" yields 3.6409642899279127 with aa distance 0.7335640138408305 and labels pos_37_Leukocidin.txt and pos_37_Leukocidin.txt\n",
      "\"5K59 C 62:305\" paired with \"6H04 D 227:448\" yields 3.7783520920251976 with aa distance 0.7335640138408305 and labels pos_37_Leukocidin.txt and pos_37_Leukocidin.txt\n",
      "\"5K59 C 62:305\" paired with \"6H03 D 227:448\" yields 3.178639652258667 with aa distance 0.7335640138408305 and labels pos_37_Leukocidin.txt and pos_37_Leukocidin.txt\n",
      "\"5K59 C 62:305\" paired with \"4E0S B 270:493\" yields 3.57175508176866 with aa distance 0.8373702422145328 and labels pos_37_Leukocidin.txt and pos_37_Leukocidin.txt\n",
      "\"5K59 C 62:305\" paired with \"5J69 B 802:916\" yields 3.243303194262712 with aa distance 0.7750865051903114 and labels pos_37_Leukocidin.txt and pos_37_Leukocidin.txt\n",
      "\"5K59 C 62:305\" paired with \"5J69 A 802:915\" yields 3.1343466024201048 with aa distance 0.7577854671280276 and labels pos_37_Leukocidin.txt and pos_37_Leukocidin.txt\n",
      "\"5K59 C 62:305\" paired with \"4MKQ A 43:246\" yields 3.0543722770397657 with aa distance 0.740484429065744 and labels pos_37_Leukocidin.txt and pos_37_Leukocidin.txt\n",
      "\"5K59 C 62:305\" paired with \"1T5R A 29:275\" yields 4.857815729866831 with aa distance 0.7474048442906575 and labels pos_37_Leukocidin.txt and pos_37_Leukocidin.txt\n",
      "\"5K59 C 62:305\" paired with \"4IYC A 29:275\" yields 3.5253471704673083 with aa distance 0.7231833910034602 and labels pos_37_Leukocidin.txt and pos_37_Leukocidin.txt\n",
      "\"4IYA A 29:275\" paired with \"1T5R A 29:275\" yields 3.6056453625171154 with aa distance 0.7080536912751678 and labels pos_37_Leukocidin.txt and pos_37_Leukocidin.txt\n",
      "\"4IYC A 29:275\" paired with \"6H04 F 237:460\" yields 3.017870368875295 with aa distance 0.726962457337884 and labels pos_37_Leukocidin.txt and pos_37_Leukocidin.txt\n",
      "\"4IYC A 29:275\" paired with \"2RD7 A 237:460\" yields 3.336232373733552 with aa distance 0.7671232876712328 and labels pos_37_Leukocidin.txt and pos_37_Leukocidin.txt\n",
      "\"4IYC A 29:275\" paired with \"6H04 D 227:448\" yields 3.184591743038513 with aa distance 0.7671232876712328 and labels pos_37_Leukocidin.txt and pos_37_Leukocidin.txt\n",
      "\"4IYC A 29:275\" paired with \"5J69 B 802:916\" yields 3.2005220983092313 with aa distance 0.78839590443686 and labels pos_37_Leukocidin.txt and pos_37_Leukocidin.txt\n",
      "\"4IZL A 29:275\" paired with \"4MKO A 43:246\" yields 3.1012338924636174 with aa distance 0.7724137931034483 and labels pos_37_Leukocidin.txt and pos_37_Leukocidin.txt\n",
      "\"1T5R A 29:275\" paired with \"3OJY B 219:442\" yields 3.334046000603444 with aa distance 0.7887323943661971 and labels pos_37_Leukocidin.txt and pos_37_Leukocidin.txt\n",
      "\"1T5R A 29:275\" paired with \"3OJY A 244:460\" yields 3.040483833997357 with aa distance 0.7275747508305648 and labels pos_37_Leukocidin.txt and pos_37_Leukocidin.txt\n",
      "\"1T5R A 29:275\" paired with \"6H04 F 237:460\" yields 2.975065942682557 with aa distance 0.7119205298013245 and labels pos_37_Leukocidin.txt and pos_37_Leukocidin.txt\n",
      "\"1T5R A 29:275\" paired with \"6H03 F 237:460\" yields 3.538250583827973 with aa distance 0.7835051546391752 and labels pos_37_Leukocidin.txt and pos_37_Leukocidin.txt\n",
      "\"1T5R A 29:275\" paired with \"2RD7 A 237:460\" yields 3.83542803136515 with aa distance 0.7808219178082192 and labels pos_37_Leukocidin.txt and pos_37_Leukocidin.txt\n",
      "\"1T5R A 29:275\" paired with \"2QQH A 237:460\" yields 3.526133287308015 with aa distance 0.7808219178082192 and labels pos_37_Leukocidin.txt and pos_37_Leukocidin.txt\n",
      "\"1T5R A 29:275\" paired with \"6H04 D 227:448\" yields 3.7693031540943083 with aa distance 0.7808219178082192 and labels pos_37_Leukocidin.txt and pos_37_Leukocidin.txt\n",
      "\"1T5R A 29:275\" paired with \"6H03 D 227:448\" yields 3.215016690287773 with aa distance 0.7808219178082192 and labels pos_37_Leukocidin.txt and pos_37_Leukocidin.txt\n",
      "\"1T5R A 29:275\" paired with \"4E0S B 270:493\" yields 3.7245275826526547 with aa distance 0.8410596026490066 and labels pos_37_Leukocidin.txt and pos_37_Leukocidin.txt\n",
      "\"1T5R A 29:275\" paired with \"5J68 A 802:916\" yields 3.4827837947196536 with aa distance 0.7090301003344481 and labels pos_37_Leukocidin.txt and pos_37_Leukocidin.txt\n",
      "\"1T5R A 29:275\" paired with \"5J67 A 802:916\" yields 3.4827837947196536 with aa distance 0.7090301003344481 and labels pos_37_Leukocidin.txt and pos_37_Leukocidin.txt\n",
      "\"1T5R A 29:275\" paired with \"5J69 A 802:915\" yields 3.6094240310247017 with aa distance 0.7090301003344481 and labels pos_37_Leukocidin.txt and pos_37_Leukocidin.txt\n",
      "\"4MKO A 43:246\" paired with \"6H04 B 291:514\" yields 3.058063510052624 with aa distance 0.7413793103448276 and labels pos_37_Leukocidin.txt and pos_37_Leukocidin.txt\n",
      "\"6FBM A 62:303\" paired with \"6H04 B 291:514\" yields 3.006931264639273 with aa distance 0.7430555555555556 and labels pos_37_Leukocidin.txt and pos_37_Leukocidin.txt\n",
      "\"5J69 A 802:915\" paired with \"3OJY B 219:442\" yields 3.081015723771933 with aa distance 0.7288732394366197 and labels pos_37_Leukocidin.txt and pos_37_Leukocidin.txt\n",
      "\"5J69 A 802:915\" paired with \"2RD7 A 237:460\" yields 2.961199583159791 with aa distance 0.7191780821917808 and labels pos_37_Leukocidin.txt and pos_37_Leukocidin.txt\n",
      "\"5J69 A 802:915\" paired with \"2QQH A 237:460\" yields 3.196204978408874 with aa distance 0.7191780821917808 and labels pos_37_Leukocidin.txt and pos_37_Leukocidin.txt\n",
      "\"5J69 A 802:915\" paired with \"6H04 D 227:448\" yields 3.196204978408874 with aa distance 0.7191780821917808 and labels pos_37_Leukocidin.txt and pos_37_Leukocidin.txt\n",
      "\"5J69 A 802:915\" paired with \"4E0S B 270:493\" yields 3.3562721591475126 with aa distance 0.8060200668896321 and labels pos_37_Leukocidin.txt and pos_37_Leukocidin.txt\n",
      "\"5J67 A 802:916\" paired with \"3OJY B 219:442\" yields 2.9470639347020158 with aa distance 0.7288732394366197 and labels pos_37_Leukocidin.txt and pos_37_Leukocidin.txt\n",
      "\"5J67 A 802:916\" paired with \"6H03 F 237:460\" yields 3.04683523058701 with aa distance 0.718213058419244 and labels pos_37_Leukocidin.txt and pos_37_Leukocidin.txt\n",
      "\"5J67 A 802:916\" paired with \"2RD7 A 237:460\" yields 3.097864446049995 with aa distance 0.7191780821917808 and labels pos_37_Leukocidin.txt and pos_37_Leukocidin.txt\n",
      "\"5J67 A 802:916\" paired with \"2QQH A 237:460\" yields 3.1462664604313972 with aa distance 0.7191780821917808 and labels pos_37_Leukocidin.txt and pos_37_Leukocidin.txt\n",
      "\"5J67 A 802:916\" paired with \"6H04 D 227:448\" yields 3.097864446049995 with aa distance 0.7191780821917808 and labels pos_37_Leukocidin.txt and pos_37_Leukocidin.txt\n",
      "\"5J67 A 802:916\" paired with \"4E0S B 270:493\" yields 3.626927089284327 with aa distance 0.8060200668896321 and labels pos_37_Leukocidin.txt and pos_37_Leukocidin.txt\n",
      "\"5J68 A 802:916\" paired with \"3OJY B 219:442\" yields 3.2797819872753613 with aa distance 0.7288732394366197 and labels pos_37_Leukocidin.txt and pos_37_Leukocidin.txt\n",
      "\"5J68 A 802:916\" paired with \"6H03 F 237:460\" yields 3.04683523058701 with aa distance 0.718213058419244 and labels pos_37_Leukocidin.txt and pos_37_Leukocidin.txt\n",
      "\"5J68 A 802:916\" paired with \"2RD7 A 237:460\" yields 3.097864446049995 with aa distance 0.7191780821917808 and labels pos_37_Leukocidin.txt and pos_37_Leukocidin.txt\n",
      "\"5J68 A 802:916\" paired with \"2QQH A 237:460\" yields 3.2477543435731713 with aa distance 0.7191780821917808 and labels pos_37_Leukocidin.txt and pos_37_Leukocidin.txt\n",
      "\"5J68 A 802:916\" paired with \"6H04 D 227:448\" yields 3.30099377428083 with aa distance 0.7191780821917808 and labels pos_37_Leukocidin.txt and pos_37_Leukocidin.txt\n",
      "\"5J68 A 802:916\" paired with \"4E0S B 270:493\" yields 3.51359055850858 with aa distance 0.8060200668896321 and labels pos_37_Leukocidin.txt and pos_37_Leukocidin.txt\n",
      "\"4E0S B 270:493\" paired with \"3OJY A 244:460\" yields 3.3530967413957176 with aa distance 0.8172757475083057 and labels pos_37_Leukocidin.txt and pos_37_Leukocidin.txt\n",
      "\"6H03 B 291:514\" paired with \"3OJY B 219:442\" yields 3.089434173093417 with aa distance 0.7640845070422535 and labels pos_37_Leukocidin.txt and pos_37_Leukocidin.txt\n",
      "\"6H03 B 291:514\" paired with \"6H03 F 237:460\" yields 3.2269294579898293 with aa distance 0.7491408934707904 and labels pos_37_Leukocidin.txt and pos_37_Leukocidin.txt\n",
      "\"6H03 B 291:514\" paired with \"2RD7 A 237:460\" yields 3.542901284183309 with aa distance 0.7465753424657534 and labels pos_37_Leukocidin.txt and pos_37_Leukocidin.txt\n",
      "\"6H03 B 291:514\" paired with \"2QQH A 237:460\" yields 3.029458165326783 with aa distance 0.7465753424657534 and labels pos_37_Leukocidin.txt and pos_37_Leukocidin.txt\n",
      "\"6H03 B 291:514\" paired with \"6H04 D 227:448\" yields 3.3179651680625453 with aa distance 0.7465753424657534 and labels pos_37_Leukocidin.txt and pos_37_Leukocidin.txt\n",
      "\"6H04 B 291:514\" paired with \"6H03 F 237:460\" yields 3.351938080673825 with aa distance 0.7491408934707904 and labels pos_37_Leukocidin.txt and pos_37_Leukocidin.txt\n",
      "\"6H04 B 291:514\" paired with \"2RD7 A 237:460\" yields 3.2012986853171714 with aa distance 0.7397260273972602 and labels pos_37_Leukocidin.txt and pos_37_Leukocidin.txt\n",
      "\"6H04 B 291:514\" paired with \"6H04 D 227:448\" yields 3.099674414165449 with aa distance 0.7397260273972602 and labels pos_37_Leukocidin.txt and pos_37_Leukocidin.txt\n",
      "\"6H04 B 291:514\" paired with \"6H03 D 227:448\" yields 3.2546513158900456 with aa distance 0.7397260273972602 and labels pos_37_Leukocidin.txt and pos_37_Leukocidin.txt\n",
      "\"6H03 D 227:448\" paired with \"3OJY A 244:460\" yields 3.165764930995456 with aa distance 0.7123287671232876 and labels pos_37_Leukocidin.txt and pos_37_Leukocidin.txt\n",
      "\"6H03 D 227:448\" paired with \"6H04 F 237:460\" yields 2.876595597351578 with aa distance 0.708904109589041 and labels pos_37_Leukocidin.txt and pos_37_Leukocidin.txt\n",
      "\"6H04 D 227:448\" paired with \"3OJY A 244:460\" yields 3.6087826562453453 with aa distance 0.708904109589041 and labels pos_37_Leukocidin.txt and pos_37_Leukocidin.txt\n",
      "\"6H04 D 227:448\" paired with \"6H04 F 237:460\" yields 3.36413103589883 with aa distance 0.708904109589041 and labels pos_37_Leukocidin.txt and pos_37_Leukocidin.txt\n",
      "\"2QQH A 237:460\" paired with \"3OJY A 244:460\" yields 3.2013578529506974 with aa distance 0.708904109589041 and labels pos_37_Leukocidin.txt and pos_37_Leukocidin.txt\n",
      "\"2QQH A 237:460\" paired with \"6H04 F 237:460\" yields 2.962460534260232 with aa distance 0.708904109589041 and labels pos_37_Leukocidin.txt and pos_37_Leukocidin.txt\n",
      "\"2RD7 A 237:460\" paired with \"3OJY A 244:460\" yields 3.4989869759822416 with aa distance 0.7123287671232876 and labels pos_37_Leukocidin.txt and pos_37_Leukocidin.txt\n",
      "\"2RD7 A 237:460\" paired with \"6H04 F 237:460\" yields 3.3080648017247776 with aa distance 0.708904109589041 and labels pos_37_Leukocidin.txt and pos_37_Leukocidin.txt\n",
      "\"6H03 F 237:460\" paired with \"3OJY A 244:460\" yields 3.53934193324698 with aa distance 0.7079037800687286 and labels pos_37_Leukocidin.txt and pos_37_Leukocidin.txt\n",
      "\"6H03 F 237:460\" paired with \"6H04 F 237:460\" yields 3.161371522090427 with aa distance 0.711340206185567 and labels pos_37_Leukocidin.txt and pos_37_Leukocidin.txt\n",
      "\"3OJY A 244:460\" paired with \"3OJY B 219:442\" yields 3.0679614880842525 with aa distance 0.7147887323943662 and labels pos_37_Leukocidin.txt and pos_37_Leukocidin.txt\n",
      "\"2ZS6 B 227:423\" paired with \"4EN7 B 227:423\" yields 4.175121069830939 with aa distance 0.7708333333333334 and labels pos_4_T4BSS_DotI_IcmL.txt and pos_4_T4BSS_DotI_IcmL.txt\n",
      "\"4EN6 B 227:423\" paired with \"4EN7 B 227:423\" yields 4.77153001639581 with aa distance 0.7708333333333334 and labels pos_4_T4BSS_DotI_IcmL.txt and pos_4_T4BSS_DotI_IcmL.txt\n",
      "\"4EN7 B 227:423\" paired with \"4EN8 B 227:423\" yields 3.5808633477734477 with aa distance 0.8263888888888888 and labels pos_4_T4BSS_DotI_IcmL.txt and pos_4_T4BSS_DotI_IcmL.txt\n",
      "\"6OQ6 A 1090:1431\" paired with \"2I88 A 345:519\" yields 4.115695433763071 with aa distance 0.7647058823529411 and labels pos_9_Bac_thur_toxin.txt and pos_9_Bac_thur_toxin.txt\n"
     ]
    }
   ],
   "source": [
    "#For twilight zone, we're only interested if aa distance is bigger than 0.75\n",
    "count = 0\n",
    "important_ids = []\n",
    "important_labels = []\n",
    "for i in idx:\n",
    "    if (aa_mat[i[0], i[1]] > 0.7) and (str_mat[i[0], i[1]] < 0.25):\n",
    "        important_ids.append(ids[i[0]])\n",
    "        important_ids.append(ids[i[1]])\n",
    "        important_labels.append(labels[i[0]])\n",
    "        important_labels.append(labels[i[1]])\n",
    "        count = count + 1\n",
    "        print('\"' + ids[i[0]] + '\"' + ' paired with ' + '\"' + ids[i[1]] + '\"' + ' yields ' + str(res[i[0], i[1]]) + ' with aa distance ' + str(aa_mat[i[0], i[1]]) + ' and labels ' + labels[i[0]] + ' and ' + labels[i[1]])"
   ]
  },
  {
   "cell_type": "code",
   "execution_count": 108,
   "metadata": {},
   "outputs": [
    {
     "data": {
      "text/plain": [
       "99"
      ]
     },
     "execution_count": 108,
     "metadata": {},
     "output_type": "execute_result"
    }
   ],
   "source": [
    "count"
   ]
  },
  {
   "cell_type": "code",
   "execution_count": 109,
   "metadata": {},
   "outputs": [
    {
     "data": {
      "text/plain": [
       "array(['1JI6 A 512:651', '1O72 A 1:175', '1T5R A 29:275',\n",
       "       '1XEZ A 190:452', '2I88 A 345:519', '2L38 A 1:175',\n",
       "       '2LKF A 34:284', '2QQH A 237:460', '2RD7 A 237:460',\n",
       "       '2ZS6 B 227:423', '3LIM A 3:178', '3LKF A 34:284',\n",
       "       '3O44 A 190:452', '3OJY A 244:460', '3OJY B 219:442',\n",
       "       '3ROH A 57:302', '3VWI A 3:178', '3ZWG A 3:178', '4E0S B 270:493',\n",
       "       '4EN6 B 227:423', '4EN7 B 227:423', '4EN8 B 227:423',\n",
       "       '4IYA A 29:275', '4IYC A 29:275', '4IZL A 29:275', '4MKO A 43:246',\n",
       "       '4MKQ A 43:246', '4P1X B 29:275', '4PKM A 38:278',\n",
       "       '4QX0 A 509:644', '4QX1 A 509:644', '4QX2 A 509:644',\n",
       "       '4QX3 A 509:644', '5J67 A 802:916', '5J68 A 802:916',\n",
       "       '5J69 A 802:915', '5J69 B 802:916', '5K59 C 62:305',\n",
       "       '6FBM A 62:303', '6H03 B 291:514', '6H03 D 227:448',\n",
       "       '6H03 F 237:460', '6H04 B 291:514', '6H04 D 227:448',\n",
       "       '6H04 F 237:460', '6OQ6 A 1090:1431', '6RB9 A 34:260'],\n",
       "      dtype='<U16')"
      ]
     },
     "execution_count": 109,
     "metadata": {},
     "output_type": "execute_result"
    }
   ],
   "source": [
    "np.unique(np.array(important_ids))"
   ]
  },
  {
   "cell_type": "code",
   "execution_count": 110,
   "metadata": {},
   "outputs": [
    {
     "data": {
      "text/plain": [
       "47"
      ]
     },
     "execution_count": 110,
     "metadata": {},
     "output_type": "execute_result"
    }
   ],
   "source": [
    "len(np.unique(np.array(important_ids)))"
   ]
  },
  {
   "cell_type": "code",
   "execution_count": 111,
   "metadata": {},
   "outputs": [
    {
     "data": {
      "text/plain": [
       "array(['pos_18_ETX_MTX2.txt', 'pos_22_Thiol_cytolysin.txt',\n",
       "       'pos_37_Leukocidin.txt', 'pos_4_T4BSS_DotI_IcmL.txt',\n",
       "       'pos_9_Bac_thur_toxin.txt'], dtype='<U26')"
      ]
     },
     "execution_count": 111,
     "metadata": {},
     "output_type": "execute_result"
    }
   ],
   "source": [
    "np.unique(np.array(important_labels))"
   ]
  },
  {
   "cell_type": "code",
   "execution_count": null,
   "metadata": {},
   "outputs": [],
   "source": []
  }
 ],
 "metadata": {
  "kernelspec": {
   "display_name": "Python 3",
   "language": "python",
   "name": "python3"
  },
  "language_info": {
   "codemirror_mode": {
    "name": "ipython",
    "version": 3
   },
   "file_extension": ".py",
   "mimetype": "text/x-python",
   "name": "python",
   "nbconvert_exporter": "python",
   "pygments_lexer": "ipython3",
   "version": "3.7.6"
  }
 },
 "nbformat": 4,
 "nbformat_minor": 4
}
