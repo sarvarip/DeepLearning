{
 "cells": [
  {
   "cell_type": "code",
   "execution_count": 55,
   "metadata": {},
   "outputs": [],
   "source": [
    "import pickle\n",
    "import numpy\n",
    "with open(\"aa_sim_array.pickle\", 'rb') as f:\n",
    "    aa_mat = pickle.load(f)\n",
    "with open(\"pos_sim_array.pickle\", 'rb') as f:\n",
    "    str_mat = pickle.load(f)\n",
    "with open(\"pos_pdb_ids.pickle\", 'rb') as f:\n",
    "    ids = pickle.load(f)\n",
    "with open(\"pos_labels.pickle\", 'rb') as f:\n",
    "    labels = pickle.load(f)"
   ]
  },
  {
   "cell_type": "code",
   "execution_count": 56,
   "metadata": {},
   "outputs": [
    {
     "data": {
      "text/plain": [
       "array([[0.        , 0.29230769, 0.29007634, ..., 1.55932203, 1.57627119,\n",
       "        1.29166667],\n",
       "       [0.        , 0.        , 0.06923077, ..., 1.38983051, 1.40677966,\n",
       "        1.13888889],\n",
       "       [0.        , 0.        , 0.        , ..., 1.37288136, 1.38983051,\n",
       "        1.13888889],\n",
       "       ...,\n",
       "       [0.        , 0.        , 0.        , ..., 0.        , 0.20338983,\n",
       "        0.40677966],\n",
       "       [0.        , 0.        , 0.        , ..., 0.        , 0.        ,\n",
       "        0.44067797],\n",
       "       [0.        , 0.        , 0.        , ..., 0.        , 0.        ,\n",
       "        0.        ]])"
      ]
     },
     "execution_count": 56,
     "metadata": {},
     "output_type": "execute_result"
    }
   ],
   "source": [
    "str_mat #Levenshtein distances - the bigger the less similar"
   ]
  },
  {
   "cell_type": "code",
   "execution_count": 57,
   "metadata": {},
   "outputs": [
    {
     "data": {
      "text/plain": [
       "array([[0.        , 0.71942446, 0.71942446, ..., 2.        , 2.        ,\n",
       "        1.61842105],\n",
       "       [0.        , 0.        , 0.        , ..., 1.80645161, 1.80645161,\n",
       "        1.48684211],\n",
       "       [0.        , 0.        , 0.        , ..., 1.80645161, 1.80645161,\n",
       "        1.48684211],\n",
       "       ...,\n",
       "       [0.        , 0.        , 0.        , ..., 0.        , 0.        ,\n",
       "        0.88709677],\n",
       "       [0.        , 0.        , 0.        , ..., 0.        , 0.        ,\n",
       "        0.88709677],\n",
       "       [0.        , 0.        , 0.        , ..., 0.        , 0.        ,\n",
       "        0.        ]])"
      ]
     },
     "execution_count": 57,
     "metadata": {},
     "output_type": "execute_result"
    }
   ],
   "source": [
    "aa_mat #Levenshtein distances - the bigger the less similar"
   ]
  },
  {
   "cell_type": "code",
   "execution_count": 62,
   "metadata": {},
   "outputs": [
    {
     "data": {
      "text/plain": [
       "0.5231607629427792"
      ]
     },
     "execution_count": 62,
     "metadata": {},
     "output_type": "execute_result"
    }
   ],
   "source": [
    "#Check\n",
    "aa_mat[263,265]"
   ]
  },
  {
   "cell_type": "code",
   "execution_count": 63,
   "metadata": {},
   "outputs": [
    {
     "data": {
      "text/plain": [
       "(array([265], dtype=int64),)"
      ]
     },
     "execution_count": 63,
     "metadata": {},
     "output_type": "execute_result"
    }
   ],
   "source": [
    "np.where(np.array(ids) == '3OJY:A')"
   ]
  },
  {
   "cell_type": "code",
   "execution_count": 64,
   "metadata": {},
   "outputs": [
    {
     "data": {
      "text/plain": [
       "(array([263], dtype=int64),)"
      ]
     },
     "execution_count": 64,
     "metadata": {},
     "output_type": "execute_result"
    }
   ],
   "source": [
    "np.where(np.array(ids) == '2RD7:A')"
   ]
  },
  {
   "cell_type": "code",
   "execution_count": 65,
   "metadata": {},
   "outputs": [],
   "source": [
    "#interested in big aa difference, but small str difference -> aa_mat / str_mat -> the bigger the better (more interesting)\n",
    "\n",
    "str_mat = str_mat + 0.00001\n",
    "res = aa_mat / str_mat"
   ]
  },
  {
   "cell_type": "code",
   "execution_count": 66,
   "metadata": {},
   "outputs": [
    {
     "data": {
      "text/plain": [
       "2127.659574468085"
      ]
     },
     "execution_count": 66,
     "metadata": {},
     "output_type": "execute_result"
    }
   ],
   "source": [
    "import numpy as np\n",
    "res = np.array(res)\n",
    "np.max(res)"
   ]
  },
  {
   "cell_type": "code",
   "execution_count": 67,
   "metadata": {},
   "outputs": [],
   "source": [
    "import bottleneck as bn\n",
    "\n",
    "def top_n_indexes(arr, n):\n",
    "    idx = bn.argpartition(arr, arr.size-n, axis=None)[-n:]\n",
    "    width = arr.shape[1]\n",
    "    return [divmod(i, width) for i in idx]"
   ]
  },
  {
   "cell_type": "code",
   "execution_count": 68,
   "metadata": {},
   "outputs": [],
   "source": [
    "idx = top_n_indexes(res, 3000)\n",
    "idx.sort(key = lambda tup: tup[0])"
   ]
  },
  {
   "cell_type": "code",
   "execution_count": 69,
   "metadata": {},
   "outputs": [
    {
     "data": {
      "text/plain": [
       "array([2127.65957447, 2127.65957447,  513.69863014,   11.73043078,\n",
       "         10.94649216])"
      ]
     },
     "execution_count": 69,
     "metadata": {},
     "output_type": "execute_result"
    }
   ],
   "source": [
    "temp = np.partition(-res.flatten(), 5)\n",
    "-temp[:5]"
   ]
  },
  {
   "cell_type": "code",
   "execution_count": 70,
   "metadata": {},
   "outputs": [
    {
     "name": "stdout",
     "output_type": "stream",
     "text": [
      "\"3RON:A\" paired with \"2RCI:A\" yields 4.115695433763071 with aa distance 0.7647058823529411 and labels pos_Bac_thur_toxin.txt and pos_Bac_thur_toxin.txt\n",
      "\"2D42:B\" paired with \"4RHZ:A\" yields 4.456516751916893 with aa distance 0.8152610441767069 and labels pos_ETX_MTX2.txt and pos_ETX_MTX2.txt\n",
      "\"4Q7G:A\" paired with \"3ROH:A\" yields 3.1131142388059203 with aa distance 0.7253086419753086 and labels pos_Leukocidin.txt and pos_Leukocidin.txt\n",
      "\"4Q7G:A\" paired with \"5K59:C\" yields 3.186066709616501 with aa distance 0.7241379310344828 and labels pos_Leukocidin.txt and pos_Leukocidin.txt\n",
      "\"4Q7G:A\" paired with \"4IYA:A\" yields 3.402409312314751 with aa distance 0.7534246575342466 and labels pos_Leukocidin.txt and pos_Leukocidin.txt\n",
      "\"4Q7G:A\" paired with \"4IYC:B\" yields 3.442464936035723 with aa distance 0.75 and labels pos_Leukocidin.txt and pos_Leukocidin.txt\n",
      "\"4Q7G:A\" paired with \"4IYT:A\" yields 3.181683201318732 with aa distance 0.75 and labels pos_Leukocidin.txt and pos_Leukocidin.txt\n",
      "\"4Q7G:A\" paired with \"4IZL:D\" yields 3.4581839540084887 with aa distance 0.7534246575342466 and labels pos_Leukocidin.txt and pos_Leukocidin.txt\n",
      "\"4Q7G:A\" paired with \"4J0O:B\" yields 3.4542947124482164 with aa distance 0.7525773195876289 and labels pos_Leukocidin.txt and pos_Leukocidin.txt\n",
      "\"3ANZ:H\" paired with \"3B07:F\" yields 3.2051743672943624 with aa distance 0.7862068965517242 and labels pos_Leukocidin.txt and pos_Leukocidin.txt\n",
      "\"3B07:A\" paired with \"4P24:C\" yields 3.0653430264535806 with aa distance 0.7251655629139073 and labels pos_Leukocidin.txt and pos_Leukocidin.txt\n",
      "\"4P1X:G\" paired with \"4YHD:C\" yields 2.9920173463489332 with aa distance 0.7185430463576159 and labels pos_Leukocidin.txt and pos_Leukocidin.txt\n",
      "\"4P1X:G\" paired with \"4I0N:A\" yields 3.11161942935166 with aa distance 0.7750865051903114 and labels pos_Leukocidin.txt and pos_Leukocidin.txt\n",
      "\"4P1X:G\" paired with \"4P1X:H\" yields 3.2160704210237965 with aa distance 0.7094594594594594 and labels pos_Leukocidin.txt and pos_Leukocidin.txt\n",
      "\"4P1Y:A\" paired with \"4YHD:C\" yields 3.0195935430894765 with aa distance 0.7251655629139073 and labels pos_Leukocidin.txt and pos_Leukocidin.txt\n",
      "\"4P1Y:A\" paired with \"4I0N:A\" yields 3.11161942935166 with aa distance 0.7750865051903114 and labels pos_Leukocidin.txt and pos_Leukocidin.txt\n",
      "\"4P1Y:A\" paired with \"4P1X:H\" yields 3.5084260009863684 with aa distance 0.7094594594594594 and labels pos_Leukocidin.txt and pos_Leukocidin.txt\n",
      "\"4I0N:A\" paired with \"4P1Y:H\" yields 3.0543722770397657 with aa distance 0.740484429065744 and labels pos_Leukocidin.txt and pos_Leukocidin.txt\n",
      "\"4I0N:A\" paired with \"1T5R:A\" yields 3.4213026614717417 with aa distance 0.7394366197183099 and labels pos_Leukocidin.txt and pos_Leukocidin.txt\n",
      "\"4I0N:A\" paired with \"4J0O:B\" yields 3.4526474146742183 with aa distance 0.7335640138408305 and labels pos_Leukocidin.txt and pos_Leukocidin.txt\n",
      "\"4I0N:A\" paired with \"4IZL:D\" yields 3.5759502398998535 with aa distance 0.7335640138408305 and labels pos_Leukocidin.txt and pos_Leukocidin.txt\n",
      "\"4I0N:A\" paired with \"4IYT:A\" yields 3.6409642899279127 with aa distance 0.7335640138408305 and labels pos_Leukocidin.txt and pos_Leukocidin.txt\n",
      "\"4I0N:A\" paired with \"4IYC:B\" yields 3.7783520920251976 with aa distance 0.7335640138408305 and labels pos_Leukocidin.txt and pos_Leukocidin.txt\n",
      "\"4I0N:A\" paired with \"4IYA:A\" yields 3.178639652258667 with aa distance 0.7335640138408305 and labels pos_Leukocidin.txt and pos_Leukocidin.txt\n",
      "\"4I0N:A\" paired with \"3ROH:A\" yields 3.57175508176866 with aa distance 0.8373702422145328 and labels pos_Leukocidin.txt and pos_Leukocidin.txt\n",
      "\"4I0N:A\" paired with \"4P1X:H\" yields 3.243303194262712 with aa distance 0.7750865051903114 and labels pos_Leukocidin.txt and pos_Leukocidin.txt\n",
      "\"4I0N:A\" paired with \"1LKF:A\" yields 3.1343466024201048 with aa distance 0.7577854671280276 and labels pos_Leukocidin.txt and pos_Leukocidin.txt\n",
      "\"4I0N:A\" paired with \"4YHD:C\" yields 4.857815729866831 with aa distance 0.7474048442906575 and labels pos_Leukocidin.txt and pos_Leukocidin.txt\n",
      "\"4I0N:A\" paired with \"4U6V:B\" yields 3.5253471704673083 with aa distance 0.7231833910034602 and labels pos_Leukocidin.txt and pos_Leukocidin.txt\n",
      "\"2YGT:A\" paired with \"4YHD:C\" yields 3.6056453625171154 with aa distance 0.7080536912751678 and labels pos_Leukocidin.txt and pos_Leukocidin.txt\n",
      "\"4U6V:B\" paired with \"2QK7:B\" yields 3.017870368875295 with aa distance 0.726962457337884 and labels pos_Leukocidin.txt and pos_Leukocidin.txt\n",
      "\"4U6V:B\" paired with \"4IZL:D\" yields 3.336232373733552 with aa distance 0.7671232876712328 and labels pos_Leukocidin.txt and pos_Leukocidin.txt\n",
      "\"4U6V:B\" paired with \"4IYC:B\" yields 3.184591743038513 with aa distance 0.7671232876712328 and labels pos_Leukocidin.txt and pos_Leukocidin.txt\n",
      "\"4U6V:B\" paired with \"4P1X:H\" yields 3.2005220983092313 with aa distance 0.78839590443686 and labels pos_Leukocidin.txt and pos_Leukocidin.txt\n",
      "\"3M3R:D\" paired with \"3B07:F\" yields 3.1012338924636174 with aa distance 0.7724137931034483 and labels pos_Leukocidin.txt and pos_Leukocidin.txt\n",
      "\"4YHD:C\" paired with \"2QK7:B\" yields 2.975065942682557 with aa distance 0.7119205298013245 and labels pos_Leukocidin.txt and pos_Leukocidin.txt\n",
      "\"4YHD:C\" paired with \"1PVL:A\" yields 3.040483833997357 with aa distance 0.7275747508305648 and labels pos_Leukocidin.txt and pos_Leukocidin.txt\n",
      "\"4YHD:C\" paired with \"1LKF:A\" yields 3.6094240310247017 with aa distance 0.7090301003344481 and labels pos_Leukocidin.txt and pos_Leukocidin.txt\n",
      "\"4YHD:C\" paired with \"2LKF:A\" yields 3.4827837947196536 with aa distance 0.7090301003344481 and labels pos_Leukocidin.txt and pos_Leukocidin.txt\n",
      "\"4YHD:C\" paired with \"3LKF:A\" yields 3.4827837947196536 with aa distance 0.7090301003344481 and labels pos_Leukocidin.txt and pos_Leukocidin.txt\n",
      "\"4YHD:C\" paired with \"3ROH:A\" yields 3.7245275826526547 with aa distance 0.8410596026490066 and labels pos_Leukocidin.txt and pos_Leukocidin.txt\n",
      "\"4YHD:C\" paired with \"4IYA:A\" yields 3.215016690287773 with aa distance 0.7808219178082192 and labels pos_Leukocidin.txt and pos_Leukocidin.txt\n",
      "\"4YHD:C\" paired with \"4IYC:B\" yields 3.7693031540943083 with aa distance 0.7808219178082192 and labels pos_Leukocidin.txt and pos_Leukocidin.txt\n",
      "\"4YHD:C\" paired with \"4IYT:A\" yields 3.526133287308015 with aa distance 0.7808219178082192 and labels pos_Leukocidin.txt and pos_Leukocidin.txt\n",
      "\"4YHD:C\" paired with \"4IZL:D\" yields 3.83542803136515 with aa distance 0.7808219178082192 and labels pos_Leukocidin.txt and pos_Leukocidin.txt\n",
      "\"4YHD:C\" paired with \"4J0O:B\" yields 3.538250583827973 with aa distance 0.7835051546391752 and labels pos_Leukocidin.txt and pos_Leukocidin.txt\n",
      "\"4YHD:C\" paired with \"1T5R:A\" yields 3.334046000603444 with aa distance 0.7887323943661971 and labels pos_Leukocidin.txt and pos_Leukocidin.txt\n",
      "\"3B07:F\" paired with \"5K59:C\" yields 3.058063510052624 with aa distance 0.7413793103448276 and labels pos_Leukocidin.txt and pos_Leukocidin.txt\n",
      "\"2QK7:A\" paired with \"5K59:C\" yields 3.006931264639273 with aa distance 0.7430555555555556 and labels pos_Leukocidin.txt and pos_Leukocidin.txt\n",
      "\"1LKF:A\" paired with \"1T5R:A\" yields 3.081015723771933 with aa distance 0.7288732394366197 and labels pos_Leukocidin.txt and pos_Leukocidin.txt\n",
      "\"1LKF:A\" paired with \"4IZL:D\" yields 2.961199583159791 with aa distance 0.7191780821917808 and labels pos_Leukocidin.txt and pos_Leukocidin.txt\n",
      "\"1LKF:A\" paired with \"4IYT:A\" yields 3.196204978408874 with aa distance 0.7191780821917808 and labels pos_Leukocidin.txt and pos_Leukocidin.txt\n",
      "\"1LKF:A\" paired with \"4IYC:B\" yields 3.196204978408874 with aa distance 0.7191780821917808 and labels pos_Leukocidin.txt and pos_Leukocidin.txt\n",
      "\"1LKF:A\" paired with \"3ROH:A\" yields 3.3562721591475126 with aa distance 0.8060200668896321 and labels pos_Leukocidin.txt and pos_Leukocidin.txt\n",
      "\"2LKF:A\" paired with \"1T5R:A\" yields 2.9470639347020158 with aa distance 0.7288732394366197 and labels pos_Leukocidin.txt and pos_Leukocidin.txt\n",
      "\"2LKF:A\" paired with \"4J0O:B\" yields 3.04683523058701 with aa distance 0.718213058419244 and labels pos_Leukocidin.txt and pos_Leukocidin.txt\n",
      "\"2LKF:A\" paired with \"4IZL:D\" yields 3.097864446049995 with aa distance 0.7191780821917808 and labels pos_Leukocidin.txt and pos_Leukocidin.txt\n",
      "\"2LKF:A\" paired with \"4IYT:A\" yields 3.1462664604313972 with aa distance 0.7191780821917808 and labels pos_Leukocidin.txt and pos_Leukocidin.txt\n",
      "\"2LKF:A\" paired with \"4IYC:B\" yields 3.097864446049995 with aa distance 0.7191780821917808 and labels pos_Leukocidin.txt and pos_Leukocidin.txt\n",
      "\"2LKF:A\" paired with \"3ROH:A\" yields 3.626927089284327 with aa distance 0.8060200668896321 and labels pos_Leukocidin.txt and pos_Leukocidin.txt\n",
      "\"3LKF:A\" paired with \"4J0O:B\" yields 3.04683523058701 with aa distance 0.718213058419244 and labels pos_Leukocidin.txt and pos_Leukocidin.txt\n",
      "\"3LKF:A\" paired with \"1T5R:A\" yields 3.2797819872753613 with aa distance 0.7288732394366197 and labels pos_Leukocidin.txt and pos_Leukocidin.txt\n",
      "\"3LKF:A\" paired with \"4IZL:D\" yields 3.097864446049995 with aa distance 0.7191780821917808 and labels pos_Leukocidin.txt and pos_Leukocidin.txt\n",
      "\"3LKF:A\" paired with \"4IYT:A\" yields 3.2477543435731713 with aa distance 0.7191780821917808 and labels pos_Leukocidin.txt and pos_Leukocidin.txt\n",
      "\"3LKF:A\" paired with \"4IYC:B\" yields 3.30099377428083 with aa distance 0.7191780821917808 and labels pos_Leukocidin.txt and pos_Leukocidin.txt\n",
      "\"3LKF:A\" paired with \"3ROH:A\" yields 3.51359055850858 with aa distance 0.8060200668896321 and labels pos_Leukocidin.txt and pos_Leukocidin.txt\n",
      "\"3ROH:A\" paired with \"1PVL:A\" yields 3.3530967413957176 with aa distance 0.8172757475083057 and labels pos_Leukocidin.txt and pos_Leukocidin.txt\n",
      "\"5K59:B\" paired with \"4IYT:A\" yields 3.029458165326783 with aa distance 0.7465753424657534 and labels pos_Leukocidin.txt and pos_Leukocidin.txt\n",
      "\"5K59:B\" paired with \"1T5R:A\" yields 3.089434173093417 with aa distance 0.7640845070422535 and labels pos_Leukocidin.txt and pos_Leukocidin.txt\n",
      "\"5K59:B\" paired with \"4J0O:B\" yields 3.2269294579898293 with aa distance 0.7491408934707904 and labels pos_Leukocidin.txt and pos_Leukocidin.txt\n",
      "\"5K59:B\" paired with \"4IZL:D\" yields 3.542901284183309 with aa distance 0.7465753424657534 and labels pos_Leukocidin.txt and pos_Leukocidin.txt\n",
      "\"5K59:B\" paired with \"4IYC:B\" yields 3.3179651680625453 with aa distance 0.7465753424657534 and labels pos_Leukocidin.txt and pos_Leukocidin.txt\n",
      "\"5K59:C\" paired with \"4J0O:B\" yields 3.351938080673825 with aa distance 0.7491408934707904 and labels pos_Leukocidin.txt and pos_Leukocidin.txt\n",
      "\"5K59:C\" paired with \"4IZL:D\" yields 3.2012986853171714 with aa distance 0.7397260273972602 and labels pos_Leukocidin.txt and pos_Leukocidin.txt\n",
      "\"5K59:C\" paired with \"4IYC:B\" yields 3.099674414165449 with aa distance 0.7397260273972602 and labels pos_Leukocidin.txt and pos_Leukocidin.txt\n",
      "\"5K59:C\" paired with \"4IYA:A\" yields 3.2546513158900456 with aa distance 0.7397260273972602 and labels pos_Leukocidin.txt and pos_Leukocidin.txt\n",
      "\"4IYA:A\" paired with \"2QK7:B\" yields 2.876595597351578 with aa distance 0.708904109589041 and labels pos_Leukocidin.txt and pos_Leukocidin.txt\n",
      "\"4IYA:A\" paired with \"1PVL:A\" yields 3.165764930995456 with aa distance 0.7123287671232876 and labels pos_Leukocidin.txt and pos_Leukocidin.txt\n",
      "\"4IYC:B\" paired with \"2QK7:B\" yields 3.36413103589883 with aa distance 0.708904109589041 and labels pos_Leukocidin.txt and pos_Leukocidin.txt\n",
      "\"4IYC:B\" paired with \"1PVL:A\" yields 3.6087826562453453 with aa distance 0.708904109589041 and labels pos_Leukocidin.txt and pos_Leukocidin.txt\n",
      "\"4IYT:A\" paired with \"2QK7:B\" yields 2.962460534260232 with aa distance 0.708904109589041 and labels pos_Leukocidin.txt and pos_Leukocidin.txt\n",
      "\"4IYT:A\" paired with \"1PVL:A\" yields 3.2013578529506974 with aa distance 0.708904109589041 and labels pos_Leukocidin.txt and pos_Leukocidin.txt\n",
      "\"4IZL:D\" paired with \"2QK7:B\" yields 3.3080648017247776 with aa distance 0.708904109589041 and labels pos_Leukocidin.txt and pos_Leukocidin.txt\n",
      "\"4IZL:D\" paired with \"1PVL:A\" yields 3.4989869759822416 with aa distance 0.7123287671232876 and labels pos_Leukocidin.txt and pos_Leukocidin.txt\n",
      "\"4J0O:B\" paired with \"2QK7:B\" yields 3.161371522090427 with aa distance 0.711340206185567 and labels pos_Leukocidin.txt and pos_Leukocidin.txt\n",
      "\"4J0O:B\" paired with \"1PVL:A\" yields 3.53934193324698 with aa distance 0.7079037800687286 and labels pos_Leukocidin.txt and pos_Leukocidin.txt\n",
      "\"1PVL:A\" paired with \"1T5R:A\" yields 3.0679614880842525 with aa distance 0.7147887323943662 and labels pos_Leukocidin.txt and pos_Leukocidin.txt\n",
      "\"3WZ4:E\" paired with \"5CNL:B\" yields 4.175121069830939 with aa distance 0.7708333333333334 and labels pos_T4BSS_DotI_IcmL.txt and pos_T4BSS_DotI_IcmL.txt\n",
      "\"3WZ5:B\" paired with \"5CNL:B\" yields 4.77153001639581 with aa distance 0.7708333333333334 and labels pos_T4BSS_DotI_IcmL.txt and pos_T4BSS_DotI_IcmL.txt\n",
      "\"5CNL:B\" paired with \"3WZ3:A\" yields 3.5808633477734477 with aa distance 0.8263888888888888 and labels pos_T4BSS_DotI_IcmL.txt and pos_T4BSS_DotI_IcmL.txt\n",
      "\"4CDB:A\" paired with \"4HSC:X\" yields 3.9885376765703473 with aa distance 0.7377049180327869 and labels pos_Thiol_cytolysin.txt and pos_Thiol_cytolysin.txt\n",
      "\"3HVN:A\" paired with \"4HSC:X\" yields 3.0018631932819995 with aa distance 0.734251968503937 and labels pos_Thiol_cytolysin.txt and pos_Thiol_cytolysin.txt\n",
      "\"5IMY:A\" paired with \"4HSC:X\" yields 3.292018219862203 with aa distance 0.7591836734693878 and labels pos_Thiol_cytolysin.txt and pos_Thiol_cytolysin.txt\n",
      "\"4QQA:A\" paired with \"4HSC:X\" yields 3.2290276390877612 with aa distance 0.75 and labels pos_Thiol_cytolysin.txt and pos_Thiol_cytolysin.txt\n",
      "\"4QQQ:A\" paired with \"4HSC:X\" yields 3.4528113309634754 with aa distance 0.75 and labels pos_Thiol_cytolysin.txt and pos_Thiol_cytolysin.txt\n",
      "\"5CR6:D\" paired with \"4HSC:X\" yields 3.5938898827639068 with aa distance 0.7813163481953291 and labels pos_Thiol_cytolysin.txt and pos_Thiol_cytolysin.txt\n",
      "\"4HSC:X\" paired with \"5AOD:A\" yields 4.82806994343965 with aa distance 0.770042194092827 and labels pos_Thiol_cytolysin.txt and pos_Thiol_cytolysin.txt\n",
      "\"4HSC:X\" paired with \"5AOE:B\" yields 3.555896800722068 with aa distance 0.7418032786885246 and labels pos_Thiol_cytolysin.txt and pos_Thiol_cytolysin.txt\n",
      "\"4HSC:X\" paired with \"5AOF:A\" yields 3.699786458941563 with aa distance 0.7479508196721312 and labels pos_Thiol_cytolysin.txt and pos_Thiol_cytolysin.txt\n"
     ]
    }
   ],
   "source": [
    "#For twilight zone, we're only interested if aa distance is bigger than 0.75\n",
    "#Note that the residues (e.g. 34:260) are not taken into account and we select the whole amino acid / structure sequence\n",
    "count = 0\n",
    "important_ids = []\n",
    "important_labels = []\n",
    "indices = []\n",
    "used_idx= []\n",
    "for i in idx:\n",
    "    if (aa_mat[i[0], i[1]] > 0.7) and (str_mat[i[0], i[1]] < 0.25):\n",
    "        important_ids.append(ids[i[0]])\n",
    "        important_ids.append(ids[i[1]])\n",
    "        important_labels.append(labels[i[0]])\n",
    "        important_labels.append(labels[i[1]])\n",
    "        indices.append(i[0])\n",
    "        indices.append(i[1])\n",
    "        used_idx.append((i[0], i[1]))\n",
    "        count = count + 1\n",
    "        print('\"' + ids[i[0]] + '\"' + ' paired with ' + '\"' + ids[i[1]] + '\"' + ' yields ' + str(res[i[0], i[1]]) + ' with aa distance ' + str(aa_mat[i[0], i[1]]) + ' and labels ' + labels[i[0]] + ' and ' + labels[i[1]])"
   ]
  },
  {
   "cell_type": "code",
   "execution_count": 71,
   "metadata": {},
   "outputs": [
    {
     "data": {
      "text/plain": [
       "99"
      ]
     },
     "execution_count": 71,
     "metadata": {},
     "output_type": "execute_result"
    }
   ],
   "source": [
    "count"
   ]
  },
  {
   "cell_type": "code",
   "execution_count": 72,
   "metadata": {},
   "outputs": [
    {
     "data": {
      "text/plain": [
       "array(['1LKF:A', '1PVL:A', '1T5R:A', '2D42:B', '2LKF:A', '2QK7:A',\n",
       "       '2QK7:B', '2RCI:A', '2YGT:A', '3ANZ:H', '3B07:A', '3B07:F',\n",
       "       '3HVN:A', '3LKF:A', '3M3R:D', '3ROH:A', '3RON:A', '3WZ3:A',\n",
       "       '3WZ4:E', '3WZ5:B', '4CDB:A', '4HSC:X', '4I0N:A', '4IYA:A',\n",
       "       '4IYC:B', '4IYT:A', '4IZL:D', '4J0O:B', '4P1X:G', '4P1X:H',\n",
       "       '4P1Y:A', '4P1Y:H', '4P24:C', '4Q7G:A', '4QQA:A', '4QQQ:A',\n",
       "       '4RHZ:A', '4U6V:B', '4YHD:C', '5AOD:A', '5AOE:B', '5AOF:A',\n",
       "       '5CNL:B', '5CR6:D', '5IMY:A', '5K59:B', '5K59:C'], dtype='<U6')"
      ]
     },
     "execution_count": 72,
     "metadata": {},
     "output_type": "execute_result"
    }
   ],
   "source": [
    "np.unique(np.array(important_ids))"
   ]
  },
  {
   "cell_type": "code",
   "execution_count": 73,
   "metadata": {},
   "outputs": [
    {
     "data": {
      "text/plain": [
       "47"
      ]
     },
     "execution_count": 73,
     "metadata": {},
     "output_type": "execute_result"
    }
   ],
   "source": [
    "len(np.unique(np.array(important_ids)))"
   ]
  },
  {
   "cell_type": "code",
   "execution_count": 74,
   "metadata": {},
   "outputs": [
    {
     "data": {
      "text/plain": [
       "array(['pos_Bac_thur_toxin.txt', 'pos_ETX_MTX2.txt', 'pos_Leukocidin.txt',\n",
       "       'pos_T4BSS_DotI_IcmL.txt', 'pos_Thiol_cytolysin.txt'], dtype='<U23')"
      ]
     },
     "execution_count": 74,
     "metadata": {},
     "output_type": "execute_result"
    }
   ],
   "source": [
    "np.unique(np.array(important_labels))"
   ]
  },
  {
   "cell_type": "code",
   "execution_count": 75,
   "metadata": {},
   "outputs": [],
   "source": [
    "labels_from_indices = [labels[i] for i in np.unique(indices)]"
   ]
  },
  {
   "cell_type": "code",
   "execution_count": 76,
   "metadata": {},
   "outputs": [
    {
     "name": "stdout",
     "output_type": "stream",
     "text": [
      "Counter({'pos_Leukocidin.txt': 29, 'pos_Thiol_cytolysin.txt': 10, 'pos_T4BSS_DotI_IcmL.txt': 4, 'pos_Bac_thur_toxin.txt': 2, 'pos_ETX_MTX2.txt': 2})\n"
     ]
    }
   ],
   "source": [
    "from collections import Counter\n",
    "print(Counter(labels_from_indices))"
   ]
  },
  {
   "cell_type": "code",
   "execution_count": 77,
   "metadata": {},
   "outputs": [],
   "source": [
    "total = aa_mat.shape[0]"
   ]
  },
  {
   "cell_type": "code",
   "execution_count": 78,
   "metadata": {},
   "outputs": [],
   "source": [
    "for i in range(total-1, 0, -1):\n",
    "    for j in range(i-1, -1, -1):\n",
    "        aa_mat[i,j] = aa_mat[j,i]"
   ]
  },
  {
   "cell_type": "code",
   "execution_count": 79,
   "metadata": {},
   "outputs": [],
   "source": [
    "for i in range(total-1, 0, -1):\n",
    "    for j in range(i-1, -1, -1):\n",
    "        str_mat[i,j] = str_mat[j,i]"
   ]
  },
  {
   "cell_type": "code",
   "execution_count": 80,
   "metadata": {},
   "outputs": [
    {
     "data": {
      "text/plain": [
       "array([[0.        , 0.71942446, 0.71942446, 0.7173913 , 0.70289855],\n",
       "       [0.71942446, 0.        , 0.        , 0.01449275, 0.07246377],\n",
       "       [0.71942446, 0.        , 0.        , 0.01449275, 0.07246377],\n",
       "       [0.7173913 , 0.01449275, 0.01449275, 0.        , 0.07246377],\n",
       "       [0.70289855, 0.07246377, 0.07246377, 0.07246377, 0.        ]])"
      ]
     },
     "execution_count": 80,
     "metadata": {},
     "output_type": "execute_result"
    }
   ],
   "source": [
    "aa_mat[:5,:5]"
   ]
  },
  {
   "cell_type": "code",
   "execution_count": 81,
   "metadata": {},
   "outputs": [
    {
     "name": "stderr",
     "output_type": "stream",
     "text": [
      "C:\\Users\\sarva\\Anaconda3\\lib\\site-packages\\sklearn\\manifold\\_spectral_embedding.py:236: UserWarning: Graph is not fully connected, spectral embedding may not work as expected.\n",
      "  warnings.warn(\"Graph is not fully connected, spectral embedding\"\n"
     ]
    }
   ],
   "source": [
    "#Sequence cluster\n",
    "import umap\n",
    "import umap.plot\n",
    "import pandas as pd\n",
    "\n",
    "mapper = umap.UMAP().fit(aa_mat)\n",
    "hover_data = pd.DataFrame({'index':np.arange(total),\n",
    "                           'label':labels})\n",
    "\n",
    "hover_data['item'] = hover_data.label"
   ]
  },
  {
   "cell_type": "code",
   "execution_count": 82,
   "metadata": {},
   "outputs": [
    {
     "data": {
      "text/html": [
       "\n",
       "    <div class=\"bk-root\">\n",
       "        <a href=\"https://bokeh.org\" target=\"_blank\" class=\"bk-logo bk-logo-small bk-logo-notebook\"></a>\n",
       "        <span id=\"1040\">Loading BokehJS ...</span>\n",
       "    </div>"
      ]
     },
     "metadata": {},
     "output_type": "display_data"
    },
    {
     "data": {
      "application/javascript": [
       "\n",
       "(function(root) {\n",
       "  function now() {\n",
       "    return new Date();\n",
       "  }\n",
       "\n",
       "  var force = true;\n",
       "\n",
       "  if (typeof root._bokeh_onload_callbacks === \"undefined\" || force === true) {\n",
       "    root._bokeh_onload_callbacks = [];\n",
       "    root._bokeh_is_loading = undefined;\n",
       "  }\n",
       "\n",
       "  var JS_MIME_TYPE = 'application/javascript';\n",
       "  var HTML_MIME_TYPE = 'text/html';\n",
       "  var EXEC_MIME_TYPE = 'application/vnd.bokehjs_exec.v0+json';\n",
       "  var CLASS_NAME = 'output_bokeh rendered_html';\n",
       "\n",
       "  /**\n",
       "   * Render data to the DOM node\n",
       "   */\n",
       "  function render(props, node) {\n",
       "    var script = document.createElement(\"script\");\n",
       "    node.appendChild(script);\n",
       "  }\n",
       "\n",
       "  /**\n",
       "   * Handle when an output is cleared or removed\n",
       "   */\n",
       "  function handleClearOutput(event, handle) {\n",
       "    var cell = handle.cell;\n",
       "\n",
       "    var id = cell.output_area._bokeh_element_id;\n",
       "    var server_id = cell.output_area._bokeh_server_id;\n",
       "    // Clean up Bokeh references\n",
       "    if (id != null && id in Bokeh.index) {\n",
       "      Bokeh.index[id].model.document.clear();\n",
       "      delete Bokeh.index[id];\n",
       "    }\n",
       "\n",
       "    if (server_id !== undefined) {\n",
       "      // Clean up Bokeh references\n",
       "      var cmd = \"from bokeh.io.state import curstate; print(curstate().uuid_to_server['\" + server_id + \"'].get_sessions()[0].document.roots[0]._id)\";\n",
       "      cell.notebook.kernel.execute(cmd, {\n",
       "        iopub: {\n",
       "          output: function(msg) {\n",
       "            var id = msg.content.text.trim();\n",
       "            if (id in Bokeh.index) {\n",
       "              Bokeh.index[id].model.document.clear();\n",
       "              delete Bokeh.index[id];\n",
       "            }\n",
       "          }\n",
       "        }\n",
       "      });\n",
       "      // Destroy server and session\n",
       "      var cmd = \"import bokeh.io.notebook as ion; ion.destroy_server('\" + server_id + \"')\";\n",
       "      cell.notebook.kernel.execute(cmd);\n",
       "    }\n",
       "  }\n",
       "\n",
       "  /**\n",
       "   * Handle when a new output is added\n",
       "   */\n",
       "  function handleAddOutput(event, handle) {\n",
       "    var output_area = handle.output_area;\n",
       "    var output = handle.output;\n",
       "\n",
       "    // limit handleAddOutput to display_data with EXEC_MIME_TYPE content only\n",
       "    if ((output.output_type != \"display_data\") || (!output.data.hasOwnProperty(EXEC_MIME_TYPE))) {\n",
       "      return\n",
       "    }\n",
       "\n",
       "    var toinsert = output_area.element.find(\".\" + CLASS_NAME.split(' ')[0]);\n",
       "\n",
       "    if (output.metadata[EXEC_MIME_TYPE][\"id\"] !== undefined) {\n",
       "      toinsert[toinsert.length - 1].firstChild.textContent = output.data[JS_MIME_TYPE];\n",
       "      // store reference to embed id on output_area\n",
       "      output_area._bokeh_element_id = output.metadata[EXEC_MIME_TYPE][\"id\"];\n",
       "    }\n",
       "    if (output.metadata[EXEC_MIME_TYPE][\"server_id\"] !== undefined) {\n",
       "      var bk_div = document.createElement(\"div\");\n",
       "      bk_div.innerHTML = output.data[HTML_MIME_TYPE];\n",
       "      var script_attrs = bk_div.children[0].attributes;\n",
       "      for (var i = 0; i < script_attrs.length; i++) {\n",
       "        toinsert[toinsert.length - 1].firstChild.setAttribute(script_attrs[i].name, script_attrs[i].value);\n",
       "        toinsert[toinsert.length - 1].firstChild.textContent = bk_div.children[0].textContent\n",
       "      }\n",
       "      // store reference to server id on output_area\n",
       "      output_area._bokeh_server_id = output.metadata[EXEC_MIME_TYPE][\"server_id\"];\n",
       "    }\n",
       "  }\n",
       "\n",
       "  function register_renderer(events, OutputArea) {\n",
       "\n",
       "    function append_mime(data, metadata, element) {\n",
       "      // create a DOM node to render to\n",
       "      var toinsert = this.create_output_subarea(\n",
       "        metadata,\n",
       "        CLASS_NAME,\n",
       "        EXEC_MIME_TYPE\n",
       "      );\n",
       "      this.keyboard_manager.register_events(toinsert);\n",
       "      // Render to node\n",
       "      var props = {data: data, metadata: metadata[EXEC_MIME_TYPE]};\n",
       "      render(props, toinsert[toinsert.length - 1]);\n",
       "      element.append(toinsert);\n",
       "      return toinsert\n",
       "    }\n",
       "\n",
       "    /* Handle when an output is cleared or removed */\n",
       "    events.on('clear_output.CodeCell', handleClearOutput);\n",
       "    events.on('delete.Cell', handleClearOutput);\n",
       "\n",
       "    /* Handle when a new output is added */\n",
       "    events.on('output_added.OutputArea', handleAddOutput);\n",
       "\n",
       "    /**\n",
       "     * Register the mime type and append_mime function with output_area\n",
       "     */\n",
       "    OutputArea.prototype.register_mime_type(EXEC_MIME_TYPE, append_mime, {\n",
       "      /* Is output safe? */\n",
       "      safe: true,\n",
       "      /* Index of renderer in `output_area.display_order` */\n",
       "      index: 0\n",
       "    });\n",
       "  }\n",
       "\n",
       "  // register the mime type if in Jupyter Notebook environment and previously unregistered\n",
       "  if (root.Jupyter !== undefined) {\n",
       "    var events = require('base/js/events');\n",
       "    var OutputArea = require('notebook/js/outputarea').OutputArea;\n",
       "\n",
       "    if (OutputArea.prototype.mime_types().indexOf(EXEC_MIME_TYPE) == -1) {\n",
       "      register_renderer(events, OutputArea);\n",
       "    }\n",
       "  }\n",
       "\n",
       "  \n",
       "  if (typeof (root._bokeh_timeout) === \"undefined\" || force === true) {\n",
       "    root._bokeh_timeout = Date.now() + 5000;\n",
       "    root._bokeh_failed_load = false;\n",
       "  }\n",
       "\n",
       "  var NB_LOAD_WARNING = {'data': {'text/html':\n",
       "     \"<div style='background-color: #fdd'>\\n\"+\n",
       "     \"<p>\\n\"+\n",
       "     \"BokehJS does not appear to have successfully loaded. If loading BokehJS from CDN, this \\n\"+\n",
       "     \"may be due to a slow or bad network connection. Possible fixes:\\n\"+\n",
       "     \"</p>\\n\"+\n",
       "     \"<ul>\\n\"+\n",
       "     \"<li>re-rerun `output_notebook()` to attempt to load from CDN again, or</li>\\n\"+\n",
       "     \"<li>use INLINE resources instead, as so:</li>\\n\"+\n",
       "     \"</ul>\\n\"+\n",
       "     \"<code>\\n\"+\n",
       "     \"from bokeh.resources import INLINE\\n\"+\n",
       "     \"output_notebook(resources=INLINE)\\n\"+\n",
       "     \"</code>\\n\"+\n",
       "     \"</div>\"}};\n",
       "\n",
       "  function display_loaded() {\n",
       "    var el = document.getElementById(\"1040\");\n",
       "    if (el != null) {\n",
       "      el.textContent = \"BokehJS is loading...\";\n",
       "    }\n",
       "    if (root.Bokeh !== undefined) {\n",
       "      if (el != null) {\n",
       "        el.textContent = \"BokehJS \" + root.Bokeh.version + \" successfully loaded.\";\n",
       "      }\n",
       "    } else if (Date.now() < root._bokeh_timeout) {\n",
       "      setTimeout(display_loaded, 100)\n",
       "    }\n",
       "  }\n",
       "\n",
       "\n",
       "  function run_callbacks() {\n",
       "    try {\n",
       "      root._bokeh_onload_callbacks.forEach(function(callback) {\n",
       "        if (callback != null)\n",
       "          callback();\n",
       "      });\n",
       "    } finally {\n",
       "      delete root._bokeh_onload_callbacks\n",
       "    }\n",
       "    console.debug(\"Bokeh: all callbacks have finished\");\n",
       "  }\n",
       "\n",
       "  function load_libs(css_urls, js_urls, callback) {\n",
       "    if (css_urls == null) css_urls = [];\n",
       "    if (js_urls == null) js_urls = [];\n",
       "\n",
       "    root._bokeh_onload_callbacks.push(callback);\n",
       "    if (root._bokeh_is_loading > 0) {\n",
       "      console.debug(\"Bokeh: BokehJS is being loaded, scheduling callback at\", now());\n",
       "      return null;\n",
       "    }\n",
       "    if (js_urls == null || js_urls.length === 0) {\n",
       "      run_callbacks();\n",
       "      return null;\n",
       "    }\n",
       "    console.debug(\"Bokeh: BokehJS not loaded, scheduling load and callback at\", now());\n",
       "    root._bokeh_is_loading = css_urls.length + js_urls.length;\n",
       "\n",
       "    function on_load() {\n",
       "      root._bokeh_is_loading--;\n",
       "      if (root._bokeh_is_loading === 0) {\n",
       "        console.debug(\"Bokeh: all BokehJS libraries/stylesheets loaded\");\n",
       "        run_callbacks()\n",
       "      }\n",
       "    }\n",
       "\n",
       "    function on_error() {\n",
       "      console.error(\"failed to load \" + url);\n",
       "    }\n",
       "\n",
       "    for (var i = 0; i < css_urls.length; i++) {\n",
       "      var url = css_urls[i];\n",
       "      const element = document.createElement(\"link\");\n",
       "      element.onload = on_load;\n",
       "      element.onerror = on_error;\n",
       "      element.rel = \"stylesheet\";\n",
       "      element.type = \"text/css\";\n",
       "      element.href = url;\n",
       "      console.debug(\"Bokeh: injecting link tag for BokehJS stylesheet: \", url);\n",
       "      document.body.appendChild(element);\n",
       "    }\n",
       "\n",
       "    const hashes = {\"https://cdn.bokeh.org/bokeh/release/bokeh-2.1.0.min.js\": \"YobFyzPeVUsFQydHkJGsJL1kyfHnWxOlPc3EwaV22TmBaeGoXHLWx5aRRVPS9xlE\", \"https://cdn.bokeh.org/bokeh/release/bokeh-widgets-2.1.0.min.js\": \"NuAg9+TcTQQqvQCTtkCneRrpkTiMhhfiq0KHiBzx8ECiKiLWXHN6i6ia3q7b3eHu\", \"https://cdn.bokeh.org/bokeh/release/bokeh-tables-2.1.0.min.js\": \"uMVqQc8JqHitD67bXTn9a06Mrk3EiHRaZ18EJENQenAKJ/KL71SakdXYomZQpGRr\", \"https://cdn.bokeh.org/bokeh/release/bokeh-gl-2.1.0.min.js\": \"u+eGuEXC8aw0VSCm2mH+b/tQEAitUOYiR1H6SuIVEdUmXsf4vN8m/SmXpmjb7U/X\"};\n",
       "\n",
       "    for (var i = 0; i < js_urls.length; i++) {\n",
       "      var url = js_urls[i];\n",
       "      var element = document.createElement('script');\n",
       "      element.onload = on_load;\n",
       "      element.onerror = on_error;\n",
       "      element.async = false;\n",
       "      element.src = url;\n",
       "      if (url in hashes) {\n",
       "        element.crossOrigin = \"anonymous\";\n",
       "        element.integrity = \"sha384-\" + hashes[url];\n",
       "      }\n",
       "      console.debug(\"Bokeh: injecting script tag for BokehJS library: \", url);\n",
       "      document.head.appendChild(element);\n",
       "    }\n",
       "  };\n",
       "\n",
       "  function inject_raw_css(css) {\n",
       "    const element = document.createElement(\"style\");\n",
       "    element.appendChild(document.createTextNode(css));\n",
       "    document.body.appendChild(element);\n",
       "  }\n",
       "\n",
       "  \n",
       "  var js_urls = [\"https://cdn.bokeh.org/bokeh/release/bokeh-2.1.0.min.js\", \"https://cdn.bokeh.org/bokeh/release/bokeh-widgets-2.1.0.min.js\", \"https://cdn.bokeh.org/bokeh/release/bokeh-tables-2.1.0.min.js\", \"https://cdn.bokeh.org/bokeh/release/bokeh-gl-2.1.0.min.js\", \"https://unpkg.com/@holoviz/panel@^0.9.5/dist/panel.min.js\"];\n",
       "  var css_urls = [];\n",
       "  \n",
       "\n",
       "  var inline_js = [\n",
       "    function(Bokeh) {\n",
       "      inject_raw_css(\"table.panel-df {\\n    margin-left: auto;\\n    margin-right: auto;\\n    border: none;\\n    border-collapse: collapse;\\n    border-spacing: 0;\\n    color: black;\\n    font-size: 12px;\\n    table-layout: fixed;\\n    width: 100%;\\n}\\n\\n.panel-df tr, th, td {\\n    text-align: right;\\n    vertical-align: middle;\\n    padding: 0.5em 0.5em !important;\\n    line-height: normal;\\n    white-space: normal;\\n    max-width: none;\\n    border: none;\\n}\\n\\n.panel-df tbody {\\n    display: table-row-group;\\n    vertical-align: middle;\\n    border-color: inherit;\\n}\\n\\n.panel-df tbody tr:nth-child(odd) {\\n    background: #f5f5f5;\\n}\\n\\n.panel-df thead {\\n    border-bottom: 1px solid black;\\n    vertical-align: bottom;\\n}\\n\\n.panel-df tr:hover {\\n    background: lightblue !important;\\n    cursor: pointer;\\n}\\n\");\n",
       "    },\n",
       "    function(Bokeh) {\n",
       "      inject_raw_css(\".json-formatter-row {\\n  font-family: monospace;\\n}\\n.json-formatter-row,\\n.json-formatter-row a,\\n.json-formatter-row a:hover {\\n  color: black;\\n  text-decoration: none;\\n}\\n.json-formatter-row .json-formatter-row {\\n  margin-left: 1rem;\\n}\\n.json-formatter-row .json-formatter-children.json-formatter-empty {\\n  opacity: 0.5;\\n  margin-left: 1rem;\\n}\\n.json-formatter-row .json-formatter-children.json-formatter-empty:after {\\n  display: none;\\n}\\n.json-formatter-row .json-formatter-children.json-formatter-empty.json-formatter-object:after {\\n  content: \\\"No properties\\\";\\n}\\n.json-formatter-row .json-formatter-children.json-formatter-empty.json-formatter-array:after {\\n  content: \\\"[]\\\";\\n}\\n.json-formatter-row .json-formatter-string,\\n.json-formatter-row .json-formatter-stringifiable {\\n  color: green;\\n  white-space: pre;\\n  word-wrap: break-word;\\n}\\n.json-formatter-row .json-formatter-number {\\n  color: blue;\\n}\\n.json-formatter-row .json-formatter-boolean {\\n  color: red;\\n}\\n.json-formatter-row .json-formatter-null {\\n  color: #855A00;\\n}\\n.json-formatter-row .json-formatter-undefined {\\n  color: #ca0b69;\\n}\\n.json-formatter-row .json-formatter-function {\\n  color: #FF20ED;\\n}\\n.json-formatter-row .json-formatter-date {\\n  background-color: rgba(0, 0, 0, 0.05);\\n}\\n.json-formatter-row .json-formatter-url {\\n  text-decoration: underline;\\n  color: blue;\\n  cursor: pointer;\\n}\\n.json-formatter-row .json-formatter-bracket {\\n  color: blue;\\n}\\n.json-formatter-row .json-formatter-key {\\n  color: #00008B;\\n  padding-right: 0.2rem;\\n}\\n.json-formatter-row .json-formatter-toggler-link {\\n  cursor: pointer;\\n}\\n.json-formatter-row .json-formatter-toggler {\\n  line-height: 1.2rem;\\n  font-size: 0.7rem;\\n  vertical-align: middle;\\n  opacity: 0.6;\\n  cursor: pointer;\\n  padding-right: 0.2rem;\\n}\\n.json-formatter-row .json-formatter-toggler:after {\\n  display: inline-block;\\n  transition: transform 100ms ease-in;\\n  content: \\\"\\\\25BA\\\";\\n}\\n.json-formatter-row > a > .json-formatter-preview-text {\\n  opacity: 0;\\n  transition: opacity 0.15s ease-in;\\n  font-style: italic;\\n}\\n.json-formatter-row:hover > a > .json-formatter-preview-text {\\n  opacity: 0.6;\\n}\\n.json-formatter-row.json-formatter-open > .json-formatter-toggler-link .json-formatter-toggler:after {\\n  transform: rotate(90deg);\\n}\\n.json-formatter-row.json-formatter-open > .json-formatter-children:after {\\n  display: inline-block;\\n}\\n.json-formatter-row.json-formatter-open > a > .json-formatter-preview-text {\\n  display: none;\\n}\\n.json-formatter-row.json-formatter-open.json-formatter-empty:after {\\n  display: block;\\n}\\n.json-formatter-dark.json-formatter-row {\\n  font-family: monospace;\\n}\\n.json-formatter-dark.json-formatter-row,\\n.json-formatter-dark.json-formatter-row a,\\n.json-formatter-dark.json-formatter-row a:hover {\\n  color: white;\\n  text-decoration: none;\\n}\\n.json-formatter-dark.json-formatter-row .json-formatter-row {\\n  margin-left: 1rem;\\n}\\n.json-formatter-dark.json-formatter-row .json-formatter-children.json-formatter-empty {\\n  opacity: 0.5;\\n  margin-left: 1rem;\\n}\\n.json-formatter-dark.json-formatter-row .json-formatter-children.json-formatter-empty:after {\\n  display: none;\\n}\\n.json-formatter-dark.json-formatter-row .json-formatter-children.json-formatter-empty.json-formatter-object:after {\\n  content: \\\"No properties\\\";\\n}\\n.json-formatter-dark.json-formatter-row .json-formatter-children.json-formatter-empty.json-formatter-array:after {\\n  content: \\\"[]\\\";\\n}\\n.json-formatter-dark.json-formatter-row .json-formatter-string,\\n.json-formatter-dark.json-formatter-row .json-formatter-stringifiable {\\n  color: #31F031;\\n  white-space: pre;\\n  word-wrap: break-word;\\n}\\n.json-formatter-dark.json-formatter-row .json-formatter-number {\\n  color: #66C2FF;\\n}\\n.json-formatter-dark.json-formatter-row .json-formatter-boolean {\\n  color: #EC4242;\\n}\\n.json-formatter-dark.json-formatter-row .json-formatter-null {\\n  color: #EEC97D;\\n}\\n.json-formatter-dark.json-formatter-row .json-formatter-undefined {\\n  color: #ef8fbe;\\n}\\n.json-formatter-dark.json-formatter-row .json-formatter-function {\\n  color: #FD48CB;\\n}\\n.json-formatter-dark.json-formatter-row .json-formatter-date {\\n  background-color: rgba(255, 255, 255, 0.05);\\n}\\n.json-formatter-dark.json-formatter-row .json-formatter-url {\\n  text-decoration: underline;\\n  color: #027BFF;\\n  cursor: pointer;\\n}\\n.json-formatter-dark.json-formatter-row .json-formatter-bracket {\\n  color: #9494FF;\\n}\\n.json-formatter-dark.json-formatter-row .json-formatter-key {\\n  color: #23A0DB;\\n  padding-right: 0.2rem;\\n}\\n.json-formatter-dark.json-formatter-row .json-formatter-toggler-link {\\n  cursor: pointer;\\n}\\n.json-formatter-dark.json-formatter-row .json-formatter-toggler {\\n  line-height: 1.2rem;\\n  font-size: 0.7rem;\\n  vertical-align: middle;\\n  opacity: 0.6;\\n  cursor: pointer;\\n  padding-right: 0.2rem;\\n}\\n.json-formatter-dark.json-formatter-row .json-formatter-toggler:after {\\n  display: inline-block;\\n  transition: transform 100ms ease-in;\\n  content: \\\"\\\\25BA\\\";\\n}\\n.json-formatter-dark.json-formatter-row > a > .json-formatter-preview-text {\\n  opacity: 0;\\n  transition: opacity 0.15s ease-in;\\n  font-style: italic;\\n}\\n.json-formatter-dark.json-formatter-row:hover > a > .json-formatter-preview-text {\\n  opacity: 0.6;\\n}\\n.json-formatter-dark.json-formatter-row.json-formatter-open > .json-formatter-toggler-link .json-formatter-toggler:after {\\n  transform: rotate(90deg);\\n}\\n.json-formatter-dark.json-formatter-row.json-formatter-open > .json-formatter-children:after {\\n  display: inline-block;\\n}\\n.json-formatter-dark.json-formatter-row.json-formatter-open > a > .json-formatter-preview-text {\\n  display: none;\\n}\\n.json-formatter-dark.json-formatter-row.json-formatter-open.json-formatter-empty:after {\\n  display: block;\\n}\\n\");\n",
       "    },\n",
       "    function(Bokeh) {\n",
       "      inject_raw_css(\".codehilite .hll { background-color: #ffffcc }\\n.codehilite  { background: #f8f8f8; }\\n.codehilite .c { color: #408080; font-style: italic } /* Comment */\\n.codehilite .err { border: 1px solid #FF0000 } /* Error */\\n.codehilite .k { color: #008000; font-weight: bold } /* Keyword */\\n.codehilite .o { color: #666666 } /* Operator */\\n.codehilite .ch { color: #408080; font-style: italic } /* Comment.Hashbang */\\n.codehilite .cm { color: #408080; font-style: italic } /* Comment.Multiline */\\n.codehilite .cp { color: #BC7A00 } /* Comment.Preproc */\\n.codehilite .cpf { color: #408080; font-style: italic } /* Comment.PreprocFile */\\n.codehilite .c1 { color: #408080; font-style: italic } /* Comment.Single */\\n.codehilite .cs { color: #408080; font-style: italic } /* Comment.Special */\\n.codehilite .gd { color: #A00000 } /* Generic.Deleted */\\n.codehilite .ge { font-style: italic } /* Generic.Emph */\\n.codehilite .gr { color: #FF0000 } /* Generic.Error */\\n.codehilite .gh { color: #000080; font-weight: bold } /* Generic.Heading */\\n.codehilite .gi { color: #00A000 } /* Generic.Inserted */\\n.codehilite .go { color: #888888 } /* Generic.Output */\\n.codehilite .gp { color: #000080; font-weight: bold } /* Generic.Prompt */\\n.codehilite .gs { font-weight: bold } /* Generic.Strong */\\n.codehilite .gu { color: #800080; font-weight: bold } /* Generic.Subheading */\\n.codehilite .gt { color: #0044DD } /* Generic.Traceback */\\n.codehilite .kc { color: #008000; font-weight: bold } /* Keyword.Constant */\\n.codehilite .kd { color: #008000; font-weight: bold } /* Keyword.Declaration */\\n.codehilite .kn { color: #008000; font-weight: bold } /* Keyword.Namespace */\\n.codehilite .kp { color: #008000 } /* Keyword.Pseudo */\\n.codehilite .kr { color: #008000; font-weight: bold } /* Keyword.Reserved */\\n.codehilite .kt { color: #B00040 } /* Keyword.Type */\\n.codehilite .m { color: #666666 } /* Literal.Number */\\n.codehilite .s { color: #BA2121 } /* Literal.String */\\n.codehilite .na { color: #7D9029 } /* Name.Attribute */\\n.codehilite .nb { color: #008000 } /* Name.Builtin */\\n.codehilite .nc { color: #0000FF; font-weight: bold } /* Name.Class */\\n.codehilite .no { color: #880000 } /* Name.Constant */\\n.codehilite .nd { color: #AA22FF } /* Name.Decorator */\\n.codehilite .ni { color: #999999; font-weight: bold } /* Name.Entity */\\n.codehilite .ne { color: #D2413A; font-weight: bold } /* Name.Exception */\\n.codehilite .nf { color: #0000FF } /* Name.Function */\\n.codehilite .nl { color: #A0A000 } /* Name.Label */\\n.codehilite .nn { color: #0000FF; font-weight: bold } /* Name.Namespace */\\n.codehilite .nt { color: #008000; font-weight: bold } /* Name.Tag */\\n.codehilite .nv { color: #19177C } /* Name.Variable */\\n.codehilite .ow { color: #AA22FF; font-weight: bold } /* Operator.Word */\\n.codehilite .w { color: #bbbbbb } /* Text.Whitespace */\\n.codehilite .mb { color: #666666 } /* Literal.Number.Bin */\\n.codehilite .mf { color: #666666 } /* Literal.Number.Float */\\n.codehilite .mh { color: #666666 } /* Literal.Number.Hex */\\n.codehilite .mi { color: #666666 } /* Literal.Number.Integer */\\n.codehilite .mo { color: #666666 } /* Literal.Number.Oct */\\n.codehilite .sa { color: #BA2121 } /* Literal.String.Affix */\\n.codehilite .sb { color: #BA2121 } /* Literal.String.Backtick */\\n.codehilite .sc { color: #BA2121 } /* Literal.String.Char */\\n.codehilite .dl { color: #BA2121 } /* Literal.String.Delimiter */\\n.codehilite .sd { color: #BA2121; font-style: italic } /* Literal.String.Doc */\\n.codehilite .s2 { color: #BA2121 } /* Literal.String.Double */\\n.codehilite .se { color: #BB6622; font-weight: bold } /* Literal.String.Escape */\\n.codehilite .sh { color: #BA2121 } /* Literal.String.Heredoc */\\n.codehilite .si { color: #BB6688; font-weight: bold } /* Literal.String.Interpol */\\n.codehilite .sx { color: #008000 } /* Literal.String.Other */\\n.codehilite .sr { color: #BB6688 } /* Literal.String.Regex */\\n.codehilite .s1 { color: #BA2121 } /* Literal.String.Single */\\n.codehilite .ss { color: #19177C } /* Literal.String.Symbol */\\n.codehilite .bp { color: #008000 } /* Name.Builtin.Pseudo */\\n.codehilite .fm { color: #0000FF } /* Name.Function.Magic */\\n.codehilite .vc { color: #19177C } /* Name.Variable.Class */\\n.codehilite .vg { color: #19177C } /* Name.Variable.Global */\\n.codehilite .vi { color: #19177C } /* Name.Variable.Instance */\\n.codehilite .vm { color: #19177C } /* Name.Variable.Magic */\\n.codehilite .il { color: #666666 } /* Literal.Number.Integer.Long */\\n\\n.markdown h1 { margin-block-start: 0.34em }\\n.markdown h2 { margin-block-start: 0.42em }\\n.markdown h3 { margin-block-start: 0.5em }\\n.markdown h4 { margin-block-start: 0.67em }\\n.markdown h5 { margin-block-start: 0.84em }\\n.markdown h6 { margin-block-start: 1.17em }\\n.markdown ul { padding-inline-start: 2em }\\n.markdown ol { padding-inline-start: 2em }\\n.markdown strong { font-weight: 600 }\\n.markdown a { color: -webkit-link }\\n.markdown a { color: -moz-hyperlinkText }\\n\");\n",
       "    },\n",
       "    function(Bokeh) {\n",
       "      inject_raw_css(\".widget-box {\\n\\tmin-height: 20px;\\n\\tbackground-color: #f5f5f5;\\n\\tborder: 1px solid #e3e3e3 !important;\\n\\tborder-radius: 4px;\\n\\t-webkit-box-shadow: inset 0 1px 1px rgba(0,0,0,.05);\\n\\tbox-shadow: inset 0 1px 1px rgba(0,0,0,.05);\\n\\toverflow-x: hidden;\\n\\toverflow-y: hidden;\\n}\\n\\n.scrollable {\\n  overflow: scroll;\\n}\\n\\nprogress {\\n\\tappearance: none;\\n\\t-moz-appearance: none;\\n\\t-webkit-appearance: none;\\n\\n\\tborder: none;\\n\\theight: 20px;\\n\\tbackground-color: whiteSmoke;\\n\\tborder-radius: 3px;\\n\\tbox-shadow: 0 2px 3px rgba(0,0,0,.5) inset;\\n\\tcolor: royalblue;\\n\\tposition: relative;\\n\\tmargin: 0 0 1.5em;\\n}\\n\\nprogress[value]::-webkit-progress-bar {\\n\\tbackground-color: whiteSmoke;\\n\\tborder-radius: 3px;\\n\\tbox-shadow: 0 2px 3px rgba(0,0,0,.5) inset;\\n}\\n\\nprogress[value]::-webkit-progress-value {\\n\\tposition: relative;\\n\\n\\tbackground-size: 35px 20px, 100% 100%, 100% 100%;\\n\\tborder-radius:3px;\\n}\\n\\nprogress.active:not([value])::before {\\n\\tbackground-position: 10%;\\n\\tanimation-name: stripes;\\n\\tanimation-duration: 3s;\\n\\tanimation-timing-function: linear;\\n\\tanimation-iteration-count: infinite;\\n}\\n\\nprogress[value]::-moz-progress-bar {\\n\\tbackground-size: 35px 20px, 100% 100%, 100% 100%;\\n\\tborder-radius:3px;\\n}\\n\\nprogress:not([value])::-moz-progress-bar {\\n\\tborder-radius:3px;\\n\\tbackground:\\n\\tlinear-gradient(-45deg, transparent 33%, rgba(0, 0, 0, 0.2) 33%, rgba(0, 0, 0, 0.2) 66%, transparent 66%) left/2.5em 1.5em;\\n\\n}\\n\\nprogress.active:not([value])::-moz-progress-bar {\\n\\tbackground-position: 10%;\\n\\tanimation-name: stripes;\\n\\tanimation-duration: 3s;\\n\\tanimation-timing-function: linear;\\n\\tanimation-iteration-count: infinite;\\n}\\n\\nprogress.active:not([value])::-webkit-progress-bar {\\n\\tbackground-position: 10%;\\n\\tanimation-name: stripes;\\n\\tanimation-duration: 3s;\\n\\tanimation-timing-function: linear;\\n\\tanimation-iteration-count: infinite;\\n}\\n\\nprogress.primary[value]::-webkit-progress-value { background-color: #007bff; }\\nprogress.primary:not([value])::before { background-color: #007bff; }\\nprogress.primary:not([value])::-webkit-progress-bar { background-color: #007bff; }\\nprogress.primary::-moz-progress-bar { background-color: #007bff; }\\n\\nprogress.secondary[value]::-webkit-progress-value { background-color: #6c757d; }\\nprogress.secondary:not([value])::before { background-color: #6c757d; }\\nprogress.secondary:not([value])::-webkit-progress-bar { background-color: #6c757d; }\\nprogress.secondary::-moz-progress-bar { background-color: #6c757d; }\\n\\nprogress.success[value]::-webkit-progress-value { background-color: #28a745; }\\nprogress.success:not([value])::before { background-color: #28a745; }\\nprogress.success:not([value])::-webkit-progress-bar { background-color: #28a745; }\\nprogress.success::-moz-progress-bar { background-color: #28a745; }\\n\\nprogress.danger[value]::-webkit-progress-value { background-color: #dc3545; }\\nprogress.danger:not([value])::before { background-color: #dc3545; }\\nprogress.danger:not([value])::-webkit-progress-bar { background-color: #dc3545; }\\nprogress.danger::-moz-progress-bar { background-color: #dc3545; }\\n\\nprogress.warning[value]::-webkit-progress-value { background-color: #ffc107; }\\nprogress.warning:not([value])::before { background-color: #ffc107; }\\nprogress.warning:not([value])::-webkit-progress-bar { background-color: #ffc107; }\\nprogress.warning::-moz-progress-bar { background-color: #ffc107; }\\n\\nprogress.info[value]::-webkit-progress-value { background-color: #17a2b8; }\\nprogress.info:not([value])::before { background-color: #17a2b8; }\\nprogress.info:not([value])::-webkit-progress-bar { background-color: #17a2b8; }\\nprogress.info::-moz-progress-bar { background-color: #17a2b8; }\\n\\nprogress.light[value]::-webkit-progress-value { background-color: #f8f9fa; }\\nprogress.light:not([value])::before { background-color: #f8f9fa; }\\nprogress.light:not([value])::-webkit-progress-bar { background-color: #f8f9fa; }\\nprogress.light::-moz-progress-bar { background-color: #f8f9fa; }\\n\\nprogress.dark[value]::-webkit-progress-value { background-color: #343a40; }\\nprogress.dark:not([value])::-webkit-progress-bar { background-color: #343a40; }\\nprogress.dark:not([value])::before { background-color: #343a40; }\\nprogress.dark::-moz-progress-bar { background-color: #343a40; }\\n\\nprogress:not([value])::-webkit-progress-bar {\\n\\tborder-radius: 3px;\\n\\tbackground:\\n\\tlinear-gradient(-45deg, transparent 33%, rgba(0, 0, 0, 0.2) 33%, rgba(0, 0, 0, 0.2) 66%, transparent 66%) left/2.5em 1.5em;\\n}\\nprogress:not([value])::before {\\n\\tcontent:\\\" \\\";\\n\\tposition:absolute;\\n\\theight: 20px;\\n\\ttop:0;\\n\\tleft:0;\\n\\tright:0;\\n\\tbottom:0;\\n\\tborder-radius: 3px;\\n\\tbackground:\\n\\tlinear-gradient(-45deg, transparent 33%, rgba(0, 0, 0, 0.2) 33%, rgba(0, 0, 0, 0.2) 66%, transparent 66%) left/2.5em 1.5em;\\n}\\n\\n@keyframes stripes {\\n  from {background-position: 0%}\\n  to {background-position: 100%}\\n}\");\n",
       "    },\n",
       "    function(Bokeh) {\n",
       "      Bokeh.set_log_level(\"info\");\n",
       "    },\n",
       "    function(Bokeh) {\n",
       "    \n",
       "    \n",
       "    }\n",
       "  ];\n",
       "\n",
       "  function run_inline_js() {\n",
       "    \n",
       "    if (root.Bokeh !== undefined || force === true) {\n",
       "      \n",
       "    for (var i = 0; i < inline_js.length; i++) {\n",
       "      inline_js[i].call(root, root.Bokeh);\n",
       "    }\n",
       "    if (force === true) {\n",
       "        display_loaded();\n",
       "      }} else if (Date.now() < root._bokeh_timeout) {\n",
       "      setTimeout(run_inline_js, 100);\n",
       "    } else if (!root._bokeh_failed_load) {\n",
       "      console.log(\"Bokeh: BokehJS failed to load within specified timeout.\");\n",
       "      root._bokeh_failed_load = true;\n",
       "    } else if (force !== true) {\n",
       "      var cell = $(document.getElementById(\"1040\")).parents('.cell').data().cell;\n",
       "      cell.output_area.append_execute_result(NB_LOAD_WARNING)\n",
       "    }\n",
       "\n",
       "  }\n",
       "\n",
       "  if (root._bokeh_is_loading === 0) {\n",
       "    console.debug(\"Bokeh: BokehJS loaded, going straight to plotting\");\n",
       "    run_inline_js();\n",
       "  } else {\n",
       "    load_libs(css_urls, js_urls, function() {\n",
       "      console.debug(\"Bokeh: BokehJS plotting callback run at\", now());\n",
       "      run_inline_js();\n",
       "    });\n",
       "  }\n",
       "}(window));"
      ],
      "application/vnd.bokehjs_load.v0+json": "\n(function(root) {\n  function now() {\n    return new Date();\n  }\n\n  var force = true;\n\n  if (typeof root._bokeh_onload_callbacks === \"undefined\" || force === true) {\n    root._bokeh_onload_callbacks = [];\n    root._bokeh_is_loading = undefined;\n  }\n\n  \n\n  \n  if (typeof (root._bokeh_timeout) === \"undefined\" || force === true) {\n    root._bokeh_timeout = Date.now() + 5000;\n    root._bokeh_failed_load = false;\n  }\n\n  var NB_LOAD_WARNING = {'data': {'text/html':\n     \"<div style='background-color: #fdd'>\\n\"+\n     \"<p>\\n\"+\n     \"BokehJS does not appear to have successfully loaded. If loading BokehJS from CDN, this \\n\"+\n     \"may be due to a slow or bad network connection. Possible fixes:\\n\"+\n     \"</p>\\n\"+\n     \"<ul>\\n\"+\n     \"<li>re-rerun `output_notebook()` to attempt to load from CDN again, or</li>\\n\"+\n     \"<li>use INLINE resources instead, as so:</li>\\n\"+\n     \"</ul>\\n\"+\n     \"<code>\\n\"+\n     \"from bokeh.resources import INLINE\\n\"+\n     \"output_notebook(resources=INLINE)\\n\"+\n     \"</code>\\n\"+\n     \"</div>\"}};\n\n  function display_loaded() {\n    var el = document.getElementById(\"1040\");\n    if (el != null) {\n      el.textContent = \"BokehJS is loading...\";\n    }\n    if (root.Bokeh !== undefined) {\n      if (el != null) {\n        el.textContent = \"BokehJS \" + root.Bokeh.version + \" successfully loaded.\";\n      }\n    } else if (Date.now() < root._bokeh_timeout) {\n      setTimeout(display_loaded, 100)\n    }\n  }\n\n\n  function run_callbacks() {\n    try {\n      root._bokeh_onload_callbacks.forEach(function(callback) {\n        if (callback != null)\n          callback();\n      });\n    } finally {\n      delete root._bokeh_onload_callbacks\n    }\n    console.debug(\"Bokeh: all callbacks have finished\");\n  }\n\n  function load_libs(css_urls, js_urls, callback) {\n    if (css_urls == null) css_urls = [];\n    if (js_urls == null) js_urls = [];\n\n    root._bokeh_onload_callbacks.push(callback);\n    if (root._bokeh_is_loading > 0) {\n      console.debug(\"Bokeh: BokehJS is being loaded, scheduling callback at\", now());\n      return null;\n    }\n    if (js_urls == null || js_urls.length === 0) {\n      run_callbacks();\n      return null;\n    }\n    console.debug(\"Bokeh: BokehJS not loaded, scheduling load and callback at\", now());\n    root._bokeh_is_loading = css_urls.length + js_urls.length;\n\n    function on_load() {\n      root._bokeh_is_loading--;\n      if (root._bokeh_is_loading === 0) {\n        console.debug(\"Bokeh: all BokehJS libraries/stylesheets loaded\");\n        run_callbacks()\n      }\n    }\n\n    function on_error() {\n      console.error(\"failed to load \" + url);\n    }\n\n    for (var i = 0; i < css_urls.length; i++) {\n      var url = css_urls[i];\n      const element = document.createElement(\"link\");\n      element.onload = on_load;\n      element.onerror = on_error;\n      element.rel = \"stylesheet\";\n      element.type = \"text/css\";\n      element.href = url;\n      console.debug(\"Bokeh: injecting link tag for BokehJS stylesheet: \", url);\n      document.body.appendChild(element);\n    }\n\n    const hashes = {\"https://cdn.bokeh.org/bokeh/release/bokeh-2.1.0.min.js\": \"YobFyzPeVUsFQydHkJGsJL1kyfHnWxOlPc3EwaV22TmBaeGoXHLWx5aRRVPS9xlE\", \"https://cdn.bokeh.org/bokeh/release/bokeh-widgets-2.1.0.min.js\": \"NuAg9+TcTQQqvQCTtkCneRrpkTiMhhfiq0KHiBzx8ECiKiLWXHN6i6ia3q7b3eHu\", \"https://cdn.bokeh.org/bokeh/release/bokeh-tables-2.1.0.min.js\": \"uMVqQc8JqHitD67bXTn9a06Mrk3EiHRaZ18EJENQenAKJ/KL71SakdXYomZQpGRr\", \"https://cdn.bokeh.org/bokeh/release/bokeh-gl-2.1.0.min.js\": \"u+eGuEXC8aw0VSCm2mH+b/tQEAitUOYiR1H6SuIVEdUmXsf4vN8m/SmXpmjb7U/X\"};\n\n    for (var i = 0; i < js_urls.length; i++) {\n      var url = js_urls[i];\n      var element = document.createElement('script');\n      element.onload = on_load;\n      element.onerror = on_error;\n      element.async = false;\n      element.src = url;\n      if (url in hashes) {\n        element.crossOrigin = \"anonymous\";\n        element.integrity = \"sha384-\" + hashes[url];\n      }\n      console.debug(\"Bokeh: injecting script tag for BokehJS library: \", url);\n      document.head.appendChild(element);\n    }\n  };\n\n  function inject_raw_css(css) {\n    const element = document.createElement(\"style\");\n    element.appendChild(document.createTextNode(css));\n    document.body.appendChild(element);\n  }\n\n  \n  var js_urls = [\"https://cdn.bokeh.org/bokeh/release/bokeh-2.1.0.min.js\", \"https://cdn.bokeh.org/bokeh/release/bokeh-widgets-2.1.0.min.js\", \"https://cdn.bokeh.org/bokeh/release/bokeh-tables-2.1.0.min.js\", \"https://cdn.bokeh.org/bokeh/release/bokeh-gl-2.1.0.min.js\", \"https://unpkg.com/@holoviz/panel@^0.9.5/dist/panel.min.js\"];\n  var css_urls = [];\n  \n\n  var inline_js = [\n    function(Bokeh) {\n      inject_raw_css(\"table.panel-df {\\n    margin-left: auto;\\n    margin-right: auto;\\n    border: none;\\n    border-collapse: collapse;\\n    border-spacing: 0;\\n    color: black;\\n    font-size: 12px;\\n    table-layout: fixed;\\n    width: 100%;\\n}\\n\\n.panel-df tr, th, td {\\n    text-align: right;\\n    vertical-align: middle;\\n    padding: 0.5em 0.5em !important;\\n    line-height: normal;\\n    white-space: normal;\\n    max-width: none;\\n    border: none;\\n}\\n\\n.panel-df tbody {\\n    display: table-row-group;\\n    vertical-align: middle;\\n    border-color: inherit;\\n}\\n\\n.panel-df tbody tr:nth-child(odd) {\\n    background: #f5f5f5;\\n}\\n\\n.panel-df thead {\\n    border-bottom: 1px solid black;\\n    vertical-align: bottom;\\n}\\n\\n.panel-df tr:hover {\\n    background: lightblue !important;\\n    cursor: pointer;\\n}\\n\");\n    },\n    function(Bokeh) {\n      inject_raw_css(\".json-formatter-row {\\n  font-family: monospace;\\n}\\n.json-formatter-row,\\n.json-formatter-row a,\\n.json-formatter-row a:hover {\\n  color: black;\\n  text-decoration: none;\\n}\\n.json-formatter-row .json-formatter-row {\\n  margin-left: 1rem;\\n}\\n.json-formatter-row .json-formatter-children.json-formatter-empty {\\n  opacity: 0.5;\\n  margin-left: 1rem;\\n}\\n.json-formatter-row .json-formatter-children.json-formatter-empty:after {\\n  display: none;\\n}\\n.json-formatter-row .json-formatter-children.json-formatter-empty.json-formatter-object:after {\\n  content: \\\"No properties\\\";\\n}\\n.json-formatter-row .json-formatter-children.json-formatter-empty.json-formatter-array:after {\\n  content: \\\"[]\\\";\\n}\\n.json-formatter-row .json-formatter-string,\\n.json-formatter-row .json-formatter-stringifiable {\\n  color: green;\\n  white-space: pre;\\n  word-wrap: break-word;\\n}\\n.json-formatter-row .json-formatter-number {\\n  color: blue;\\n}\\n.json-formatter-row .json-formatter-boolean {\\n  color: red;\\n}\\n.json-formatter-row .json-formatter-null {\\n  color: #855A00;\\n}\\n.json-formatter-row .json-formatter-undefined {\\n  color: #ca0b69;\\n}\\n.json-formatter-row .json-formatter-function {\\n  color: #FF20ED;\\n}\\n.json-formatter-row .json-formatter-date {\\n  background-color: rgba(0, 0, 0, 0.05);\\n}\\n.json-formatter-row .json-formatter-url {\\n  text-decoration: underline;\\n  color: blue;\\n  cursor: pointer;\\n}\\n.json-formatter-row .json-formatter-bracket {\\n  color: blue;\\n}\\n.json-formatter-row .json-formatter-key {\\n  color: #00008B;\\n  padding-right: 0.2rem;\\n}\\n.json-formatter-row .json-formatter-toggler-link {\\n  cursor: pointer;\\n}\\n.json-formatter-row .json-formatter-toggler {\\n  line-height: 1.2rem;\\n  font-size: 0.7rem;\\n  vertical-align: middle;\\n  opacity: 0.6;\\n  cursor: pointer;\\n  padding-right: 0.2rem;\\n}\\n.json-formatter-row .json-formatter-toggler:after {\\n  display: inline-block;\\n  transition: transform 100ms ease-in;\\n  content: \\\"\\\\25BA\\\";\\n}\\n.json-formatter-row > a > .json-formatter-preview-text {\\n  opacity: 0;\\n  transition: opacity 0.15s ease-in;\\n  font-style: italic;\\n}\\n.json-formatter-row:hover > a > .json-formatter-preview-text {\\n  opacity: 0.6;\\n}\\n.json-formatter-row.json-formatter-open > .json-formatter-toggler-link .json-formatter-toggler:after {\\n  transform: rotate(90deg);\\n}\\n.json-formatter-row.json-formatter-open > .json-formatter-children:after {\\n  display: inline-block;\\n}\\n.json-formatter-row.json-formatter-open > a > .json-formatter-preview-text {\\n  display: none;\\n}\\n.json-formatter-row.json-formatter-open.json-formatter-empty:after {\\n  display: block;\\n}\\n.json-formatter-dark.json-formatter-row {\\n  font-family: monospace;\\n}\\n.json-formatter-dark.json-formatter-row,\\n.json-formatter-dark.json-formatter-row a,\\n.json-formatter-dark.json-formatter-row a:hover {\\n  color: white;\\n  text-decoration: none;\\n}\\n.json-formatter-dark.json-formatter-row .json-formatter-row {\\n  margin-left: 1rem;\\n}\\n.json-formatter-dark.json-formatter-row .json-formatter-children.json-formatter-empty {\\n  opacity: 0.5;\\n  margin-left: 1rem;\\n}\\n.json-formatter-dark.json-formatter-row .json-formatter-children.json-formatter-empty:after {\\n  display: none;\\n}\\n.json-formatter-dark.json-formatter-row .json-formatter-children.json-formatter-empty.json-formatter-object:after {\\n  content: \\\"No properties\\\";\\n}\\n.json-formatter-dark.json-formatter-row .json-formatter-children.json-formatter-empty.json-formatter-array:after {\\n  content: \\\"[]\\\";\\n}\\n.json-formatter-dark.json-formatter-row .json-formatter-string,\\n.json-formatter-dark.json-formatter-row .json-formatter-stringifiable {\\n  color: #31F031;\\n  white-space: pre;\\n  word-wrap: break-word;\\n}\\n.json-formatter-dark.json-formatter-row .json-formatter-number {\\n  color: #66C2FF;\\n}\\n.json-formatter-dark.json-formatter-row .json-formatter-boolean {\\n  color: #EC4242;\\n}\\n.json-formatter-dark.json-formatter-row .json-formatter-null {\\n  color: #EEC97D;\\n}\\n.json-formatter-dark.json-formatter-row .json-formatter-undefined {\\n  color: #ef8fbe;\\n}\\n.json-formatter-dark.json-formatter-row .json-formatter-function {\\n  color: #FD48CB;\\n}\\n.json-formatter-dark.json-formatter-row .json-formatter-date {\\n  background-color: rgba(255, 255, 255, 0.05);\\n}\\n.json-formatter-dark.json-formatter-row .json-formatter-url {\\n  text-decoration: underline;\\n  color: #027BFF;\\n  cursor: pointer;\\n}\\n.json-formatter-dark.json-formatter-row .json-formatter-bracket {\\n  color: #9494FF;\\n}\\n.json-formatter-dark.json-formatter-row .json-formatter-key {\\n  color: #23A0DB;\\n  padding-right: 0.2rem;\\n}\\n.json-formatter-dark.json-formatter-row .json-formatter-toggler-link {\\n  cursor: pointer;\\n}\\n.json-formatter-dark.json-formatter-row .json-formatter-toggler {\\n  line-height: 1.2rem;\\n  font-size: 0.7rem;\\n  vertical-align: middle;\\n  opacity: 0.6;\\n  cursor: pointer;\\n  padding-right: 0.2rem;\\n}\\n.json-formatter-dark.json-formatter-row .json-formatter-toggler:after {\\n  display: inline-block;\\n  transition: transform 100ms ease-in;\\n  content: \\\"\\\\25BA\\\";\\n}\\n.json-formatter-dark.json-formatter-row > a > .json-formatter-preview-text {\\n  opacity: 0;\\n  transition: opacity 0.15s ease-in;\\n  font-style: italic;\\n}\\n.json-formatter-dark.json-formatter-row:hover > a > .json-formatter-preview-text {\\n  opacity: 0.6;\\n}\\n.json-formatter-dark.json-formatter-row.json-formatter-open > .json-formatter-toggler-link .json-formatter-toggler:after {\\n  transform: rotate(90deg);\\n}\\n.json-formatter-dark.json-formatter-row.json-formatter-open > .json-formatter-children:after {\\n  display: inline-block;\\n}\\n.json-formatter-dark.json-formatter-row.json-formatter-open > a > .json-formatter-preview-text {\\n  display: none;\\n}\\n.json-formatter-dark.json-formatter-row.json-formatter-open.json-formatter-empty:after {\\n  display: block;\\n}\\n\");\n    },\n    function(Bokeh) {\n      inject_raw_css(\".codehilite .hll { background-color: #ffffcc }\\n.codehilite  { background: #f8f8f8; }\\n.codehilite .c { color: #408080; font-style: italic } /* Comment */\\n.codehilite .err { border: 1px solid #FF0000 } /* Error */\\n.codehilite .k { color: #008000; font-weight: bold } /* Keyword */\\n.codehilite .o { color: #666666 } /* Operator */\\n.codehilite .ch { color: #408080; font-style: italic } /* Comment.Hashbang */\\n.codehilite .cm { color: #408080; font-style: italic } /* Comment.Multiline */\\n.codehilite .cp { color: #BC7A00 } /* Comment.Preproc */\\n.codehilite .cpf { color: #408080; font-style: italic } /* Comment.PreprocFile */\\n.codehilite .c1 { color: #408080; font-style: italic } /* Comment.Single */\\n.codehilite .cs { color: #408080; font-style: italic } /* Comment.Special */\\n.codehilite .gd { color: #A00000 } /* Generic.Deleted */\\n.codehilite .ge { font-style: italic } /* Generic.Emph */\\n.codehilite .gr { color: #FF0000 } /* Generic.Error */\\n.codehilite .gh { color: #000080; font-weight: bold } /* Generic.Heading */\\n.codehilite .gi { color: #00A000 } /* Generic.Inserted */\\n.codehilite .go { color: #888888 } /* Generic.Output */\\n.codehilite .gp { color: #000080; font-weight: bold } /* Generic.Prompt */\\n.codehilite .gs { font-weight: bold } /* Generic.Strong */\\n.codehilite .gu { color: #800080; font-weight: bold } /* Generic.Subheading */\\n.codehilite .gt { color: #0044DD } /* Generic.Traceback */\\n.codehilite .kc { color: #008000; font-weight: bold } /* Keyword.Constant */\\n.codehilite .kd { color: #008000; font-weight: bold } /* Keyword.Declaration */\\n.codehilite .kn { color: #008000; font-weight: bold } /* Keyword.Namespace */\\n.codehilite .kp { color: #008000 } /* Keyword.Pseudo */\\n.codehilite .kr { color: #008000; font-weight: bold } /* Keyword.Reserved */\\n.codehilite .kt { color: #B00040 } /* Keyword.Type */\\n.codehilite .m { color: #666666 } /* Literal.Number */\\n.codehilite .s { color: #BA2121 } /* Literal.String */\\n.codehilite .na { color: #7D9029 } /* Name.Attribute */\\n.codehilite .nb { color: #008000 } /* Name.Builtin */\\n.codehilite .nc { color: #0000FF; font-weight: bold } /* Name.Class */\\n.codehilite .no { color: #880000 } /* Name.Constant */\\n.codehilite .nd { color: #AA22FF } /* Name.Decorator */\\n.codehilite .ni { color: #999999; font-weight: bold } /* Name.Entity */\\n.codehilite .ne { color: #D2413A; font-weight: bold } /* Name.Exception */\\n.codehilite .nf { color: #0000FF } /* Name.Function */\\n.codehilite .nl { color: #A0A000 } /* Name.Label */\\n.codehilite .nn { color: #0000FF; font-weight: bold } /* Name.Namespace */\\n.codehilite .nt { color: #008000; font-weight: bold } /* Name.Tag */\\n.codehilite .nv { color: #19177C } /* Name.Variable */\\n.codehilite .ow { color: #AA22FF; font-weight: bold } /* Operator.Word */\\n.codehilite .w { color: #bbbbbb } /* Text.Whitespace */\\n.codehilite .mb { color: #666666 } /* Literal.Number.Bin */\\n.codehilite .mf { color: #666666 } /* Literal.Number.Float */\\n.codehilite .mh { color: #666666 } /* Literal.Number.Hex */\\n.codehilite .mi { color: #666666 } /* Literal.Number.Integer */\\n.codehilite .mo { color: #666666 } /* Literal.Number.Oct */\\n.codehilite .sa { color: #BA2121 } /* Literal.String.Affix */\\n.codehilite .sb { color: #BA2121 } /* Literal.String.Backtick */\\n.codehilite .sc { color: #BA2121 } /* Literal.String.Char */\\n.codehilite .dl { color: #BA2121 } /* Literal.String.Delimiter */\\n.codehilite .sd { color: #BA2121; font-style: italic } /* Literal.String.Doc */\\n.codehilite .s2 { color: #BA2121 } /* Literal.String.Double */\\n.codehilite .se { color: #BB6622; font-weight: bold } /* Literal.String.Escape */\\n.codehilite .sh { color: #BA2121 } /* Literal.String.Heredoc */\\n.codehilite .si { color: #BB6688; font-weight: bold } /* Literal.String.Interpol */\\n.codehilite .sx { color: #008000 } /* Literal.String.Other */\\n.codehilite .sr { color: #BB6688 } /* Literal.String.Regex */\\n.codehilite .s1 { color: #BA2121 } /* Literal.String.Single */\\n.codehilite .ss { color: #19177C } /* Literal.String.Symbol */\\n.codehilite .bp { color: #008000 } /* Name.Builtin.Pseudo */\\n.codehilite .fm { color: #0000FF } /* Name.Function.Magic */\\n.codehilite .vc { color: #19177C } /* Name.Variable.Class */\\n.codehilite .vg { color: #19177C } /* Name.Variable.Global */\\n.codehilite .vi { color: #19177C } /* Name.Variable.Instance */\\n.codehilite .vm { color: #19177C } /* Name.Variable.Magic */\\n.codehilite .il { color: #666666 } /* Literal.Number.Integer.Long */\\n\\n.markdown h1 { margin-block-start: 0.34em }\\n.markdown h2 { margin-block-start: 0.42em }\\n.markdown h3 { margin-block-start: 0.5em }\\n.markdown h4 { margin-block-start: 0.67em }\\n.markdown h5 { margin-block-start: 0.84em }\\n.markdown h6 { margin-block-start: 1.17em }\\n.markdown ul { padding-inline-start: 2em }\\n.markdown ol { padding-inline-start: 2em }\\n.markdown strong { font-weight: 600 }\\n.markdown a { color: -webkit-link }\\n.markdown a { color: -moz-hyperlinkText }\\n\");\n    },\n    function(Bokeh) {\n      inject_raw_css(\".widget-box {\\n\\tmin-height: 20px;\\n\\tbackground-color: #f5f5f5;\\n\\tborder: 1px solid #e3e3e3 !important;\\n\\tborder-radius: 4px;\\n\\t-webkit-box-shadow: inset 0 1px 1px rgba(0,0,0,.05);\\n\\tbox-shadow: inset 0 1px 1px rgba(0,0,0,.05);\\n\\toverflow-x: hidden;\\n\\toverflow-y: hidden;\\n}\\n\\n.scrollable {\\n  overflow: scroll;\\n}\\n\\nprogress {\\n\\tappearance: none;\\n\\t-moz-appearance: none;\\n\\t-webkit-appearance: none;\\n\\n\\tborder: none;\\n\\theight: 20px;\\n\\tbackground-color: whiteSmoke;\\n\\tborder-radius: 3px;\\n\\tbox-shadow: 0 2px 3px rgba(0,0,0,.5) inset;\\n\\tcolor: royalblue;\\n\\tposition: relative;\\n\\tmargin: 0 0 1.5em;\\n}\\n\\nprogress[value]::-webkit-progress-bar {\\n\\tbackground-color: whiteSmoke;\\n\\tborder-radius: 3px;\\n\\tbox-shadow: 0 2px 3px rgba(0,0,0,.5) inset;\\n}\\n\\nprogress[value]::-webkit-progress-value {\\n\\tposition: relative;\\n\\n\\tbackground-size: 35px 20px, 100% 100%, 100% 100%;\\n\\tborder-radius:3px;\\n}\\n\\nprogress.active:not([value])::before {\\n\\tbackground-position: 10%;\\n\\tanimation-name: stripes;\\n\\tanimation-duration: 3s;\\n\\tanimation-timing-function: linear;\\n\\tanimation-iteration-count: infinite;\\n}\\n\\nprogress[value]::-moz-progress-bar {\\n\\tbackground-size: 35px 20px, 100% 100%, 100% 100%;\\n\\tborder-radius:3px;\\n}\\n\\nprogress:not([value])::-moz-progress-bar {\\n\\tborder-radius:3px;\\n\\tbackground:\\n\\tlinear-gradient(-45deg, transparent 33%, rgba(0, 0, 0, 0.2) 33%, rgba(0, 0, 0, 0.2) 66%, transparent 66%) left/2.5em 1.5em;\\n\\n}\\n\\nprogress.active:not([value])::-moz-progress-bar {\\n\\tbackground-position: 10%;\\n\\tanimation-name: stripes;\\n\\tanimation-duration: 3s;\\n\\tanimation-timing-function: linear;\\n\\tanimation-iteration-count: infinite;\\n}\\n\\nprogress.active:not([value])::-webkit-progress-bar {\\n\\tbackground-position: 10%;\\n\\tanimation-name: stripes;\\n\\tanimation-duration: 3s;\\n\\tanimation-timing-function: linear;\\n\\tanimation-iteration-count: infinite;\\n}\\n\\nprogress.primary[value]::-webkit-progress-value { background-color: #007bff; }\\nprogress.primary:not([value])::before { background-color: #007bff; }\\nprogress.primary:not([value])::-webkit-progress-bar { background-color: #007bff; }\\nprogress.primary::-moz-progress-bar { background-color: #007bff; }\\n\\nprogress.secondary[value]::-webkit-progress-value { background-color: #6c757d; }\\nprogress.secondary:not([value])::before { background-color: #6c757d; }\\nprogress.secondary:not([value])::-webkit-progress-bar { background-color: #6c757d; }\\nprogress.secondary::-moz-progress-bar { background-color: #6c757d; }\\n\\nprogress.success[value]::-webkit-progress-value { background-color: #28a745; }\\nprogress.success:not([value])::before { background-color: #28a745; }\\nprogress.success:not([value])::-webkit-progress-bar { background-color: #28a745; }\\nprogress.success::-moz-progress-bar { background-color: #28a745; }\\n\\nprogress.danger[value]::-webkit-progress-value { background-color: #dc3545; }\\nprogress.danger:not([value])::before { background-color: #dc3545; }\\nprogress.danger:not([value])::-webkit-progress-bar { background-color: #dc3545; }\\nprogress.danger::-moz-progress-bar { background-color: #dc3545; }\\n\\nprogress.warning[value]::-webkit-progress-value { background-color: #ffc107; }\\nprogress.warning:not([value])::before { background-color: #ffc107; }\\nprogress.warning:not([value])::-webkit-progress-bar { background-color: #ffc107; }\\nprogress.warning::-moz-progress-bar { background-color: #ffc107; }\\n\\nprogress.info[value]::-webkit-progress-value { background-color: #17a2b8; }\\nprogress.info:not([value])::before { background-color: #17a2b8; }\\nprogress.info:not([value])::-webkit-progress-bar { background-color: #17a2b8; }\\nprogress.info::-moz-progress-bar { background-color: #17a2b8; }\\n\\nprogress.light[value]::-webkit-progress-value { background-color: #f8f9fa; }\\nprogress.light:not([value])::before { background-color: #f8f9fa; }\\nprogress.light:not([value])::-webkit-progress-bar { background-color: #f8f9fa; }\\nprogress.light::-moz-progress-bar { background-color: #f8f9fa; }\\n\\nprogress.dark[value]::-webkit-progress-value { background-color: #343a40; }\\nprogress.dark:not([value])::-webkit-progress-bar { background-color: #343a40; }\\nprogress.dark:not([value])::before { background-color: #343a40; }\\nprogress.dark::-moz-progress-bar { background-color: #343a40; }\\n\\nprogress:not([value])::-webkit-progress-bar {\\n\\tborder-radius: 3px;\\n\\tbackground:\\n\\tlinear-gradient(-45deg, transparent 33%, rgba(0, 0, 0, 0.2) 33%, rgba(0, 0, 0, 0.2) 66%, transparent 66%) left/2.5em 1.5em;\\n}\\nprogress:not([value])::before {\\n\\tcontent:\\\" \\\";\\n\\tposition:absolute;\\n\\theight: 20px;\\n\\ttop:0;\\n\\tleft:0;\\n\\tright:0;\\n\\tbottom:0;\\n\\tborder-radius: 3px;\\n\\tbackground:\\n\\tlinear-gradient(-45deg, transparent 33%, rgba(0, 0, 0, 0.2) 33%, rgba(0, 0, 0, 0.2) 66%, transparent 66%) left/2.5em 1.5em;\\n}\\n\\n@keyframes stripes {\\n  from {background-position: 0%}\\n  to {background-position: 100%}\\n}\");\n    },\n    function(Bokeh) {\n      Bokeh.set_log_level(\"info\");\n    },\n    function(Bokeh) {\n    \n    \n    }\n  ];\n\n  function run_inline_js() {\n    \n    if (root.Bokeh !== undefined || force === true) {\n      \n    for (var i = 0; i < inline_js.length; i++) {\n      inline_js[i].call(root, root.Bokeh);\n    }\n    if (force === true) {\n        display_loaded();\n      }} else if (Date.now() < root._bokeh_timeout) {\n      setTimeout(run_inline_js, 100);\n    } else if (!root._bokeh_failed_load) {\n      console.log(\"Bokeh: BokehJS failed to load within specified timeout.\");\n      root._bokeh_failed_load = true;\n    } else if (force !== true) {\n      var cell = $(document.getElementById(\"1040\")).parents('.cell').data().cell;\n      cell.output_area.append_execute_result(NB_LOAD_WARNING)\n    }\n\n  }\n\n  if (root._bokeh_is_loading === 0) {\n    console.debug(\"Bokeh: BokehJS loaded, going straight to plotting\");\n    run_inline_js();\n  } else {\n    load_libs(css_urls, js_urls, function() {\n      console.debug(\"Bokeh: BokehJS plotting callback run at\", now());\n      run_inline_js();\n    });\n  }\n}(window));"
     },
     "metadata": {},
     "output_type": "display_data"
    },
    {
     "data": {
      "text/html": [
       "\n",
       "\n",
       "\n",
       "\n",
       "\n",
       "\n",
       "  <div class=\"bk-root\" id=\"0497be74-a1eb-4489-b18b-e4b5a58f943d\" data-root-id=\"1002\"></div>\n"
      ]
     },
     "metadata": {},
     "output_type": "display_data"
    },
    {
     "data": {
      "application/javascript": [
       "(function(root) {\n",
       "  function embed_document(root) {\n",
       "    \n",
       "  var docs_json = {\"7058e51e-9b9d-4d7f-aa33-4e82e5bc9632\":{\"roots\":{\"references\":[{\"attributes\":{\"background_fill_color\":\"white\",\"below\":[{\"id\":\"1011\"}],\"center\":[{\"id\":\"1014\"},{\"id\":\"1018\"}],\"left\":[{\"id\":\"1015\"}],\"plot_height\":800,\"plot_width\":800,\"renderers\":[{\"id\":\"1038\"}],\"title\":{\"id\":\"1041\"},\"toolbar\":{\"id\":\"1027\"},\"x_range\":{\"id\":\"1003\"},\"x_scale\":{\"id\":\"1007\"},\"y_range\":{\"id\":\"1005\"},\"y_scale\":{\"id\":\"1009\"}},\"id\":\"1002\",\"subtype\":\"Figure\",\"type\":\"Plot\"},{\"attributes\":{},\"id\":\"1048\",\"type\":\"Selection\"},{\"attributes\":{},\"id\":\"1019\",\"type\":\"PanTool\"},{\"attributes\":{\"source\":{\"id\":\"1001\"}},\"id\":\"1039\",\"type\":\"CDSView\"},{\"attributes\":{\"data\":{\"alpha\":[1,1,1,1,1,1,1,1,1,1,1,1,1,1,1,1,1,1,1,1,1,1,1,1,1,1,1,1,1,1,1,1,1,1,1,1,1,1,1,1,1,1,1,1,1,1,1,1,1,1,1,1,1,1,1,1,1,1,1,1,1,1,1,1,1,1,1,1,1,1,1,1,1,1,1,1,1,1,1,1,1,1,1,1,1,1,1,1,1,1,1,1,1,1,1,1,1,1,1,1,1,1,1,1,1,1,1,1,1,1,1,1,1,1,1,1,1,1,1,1,1,1,1,1,1,1,1,1,1,1,1,1,1,1,1,1,1,1,1,1,1,1,1,1,1,1,1,1,1,1,1,1,1,1,1,1,1,1,1,1,1,1,1,1,1,1,1,1,1,1,1,1,1,1,1,1,1,1,1,1,1,1,1,1,1,1,1,1,1,1,1,1,1,1,1,1,1,1,1,1,1,1,1,1,1,1,1,1,1,1,1,1,1,1,1,1,1,1,1,1,1,1,1,1,1,1,1,1,1,1,1,1,1,1,1,1,1,1,1,1,1,1,1,1,1,1,1,1,1,1,1,1,1,1,1,1,1,1,1,1,1,1,1,1,1,1,1,1,1,1,1,1,1,1,1,1,1,1,1,1,1,1,1,1,1,1,1,1,1,1,1,1,1,1,1,1,1,1,1,1,1,1,1,1,1,1,1,1,1,1,1,1,1,1,1,1,1,1,1,1,1,1,1,1,1,1,1,1,1,1,1,1,1,1,1,1,1,1,1,1,1,1,1,1,1,1,1,1,1,1,1,1,1,1,1,1,1,1,1,1,1,1,1,1,1,1,1,1,1,1,1,1],\"color\":[\"#9e0142\",\"#9e0142\",\"#9e0142\",\"#9e0142\",\"#9e0142\",\"#9e0142\",\"#b81e48\",\"#b81e48\",\"#b81e48\",\"#b81e48\",\"#b81e48\",\"#b81e48\",\"#b81e48\",\"#b81e48\",\"#b81e48\",\"#b81e48\",\"#d23a4e\",\"#d23a4e\",\"#d23a4e\",\"#d23a4e\",\"#d23a4e\",\"#d23a4e\",\"#d23a4e\",\"#d23a4e\",\"#d23a4e\",\"#d23a4e\",\"#d23a4e\",\"#d23a4e\",\"#d23a4e\",\"#d23a4e\",\"#d23a4e\",\"#d23a4e\",\"#d23a4e\",\"#d23a4e\",\"#d23a4e\",\"#d23a4e\",\"#d23a4e\",\"#d23a4e\",\"#d23a4e\",\"#d23a4e\",\"#f06744\",\"#f06744\",\"#f06744\",\"#f06744\",\"#f06744\",\"#f06744\",\"#f06744\",\"#f06744\",\"#f06744\",\"#e2514a\",\"#e2514a\",\"#e2514a\",\"#f7844e\",\"#f7844e\",\"#f7844e\",\"#f7844e\",\"#f7844e\",\"#f7844e\",\"#f7844e\",\"#f7844e\",\"#f7844e\",\"#f7844e\",\"#f7844e\",\"#f7844e\",\"#f7844e\",\"#f7844e\",\"#f7844e\",\"#f7844e\",\"#f7844e\",\"#f7844e\",\"#f7844e\",\"#f7844e\",\"#f7844e\",\"#f7844e\",\"#f7844e\",\"#f7844e\",\"#f7844e\",\"#f7844e\",\"#f7844e\",\"#f7844e\",\"#fca55d\",\"#fca55d\",\"#fca55d\",\"#fca55d\",\"#fca55d\",\"#fca55d\",\"#fca55d\",\"#fca55d\",\"#fca55d\",\"#fca55d\",\"#fca55d\",\"#fca55d\",\"#fca55d\",\"#fca55d\",\"#fca55d\",\"#fca55d\",\"#fca55d\",\"#fca55d\",\"#fca55d\",\"#fca55d\",\"#fca55d\",\"#fca55d\",\"#fca55d\",\"#fca55d\",\"#fca55d\",\"#fca55d\",\"#fca55d\",\"#fca55d\",\"#fca55d\",\"#fca55d\",\"#fca55d\",\"#fca55d\",\"#fca55d\",\"#fca55d\",\"#fca55d\",\"#fca55d\",\"#fca55d\",\"#fca55d\",\"#fca55d\",\"#fca55d\",\"#fca55d\",\"#fca55d\",\"#fca55d\",\"#fca55d\",\"#fca55d\",\"#fca55d\",\"#fdbf6f\",\"#fdbf6f\",\"#fdbf6f\",\"#fdbf6f\",\"#fdbf6f\",\"#fdbf6f\",\"#fee999\",\"#fee999\",\"#fee999\",\"#fee999\",\"#fee999\",\"#fee999\",\"#fee999\",\"#fee999\",\"#fee999\",\"#fee999\",\"#fee999\",\"#fee999\",\"#fee999\",\"#fee999\",\"#fee999\",\"#fee999\",\"#fee999\",\"#fee999\",\"#fee999\",\"#fee999\",\"#fee999\",\"#fee999\",\"#fed683\",\"#fed683\",\"#fed683\",\"#fed683\",\"#fed683\",\"#fed683\",\"#fed683\",\"#fed683\",\"#fed683\",\"#fed683\",\"#fed683\",\"#fed683\",\"#fed683\",\"#fed683\",\"#fed683\",\"#fed683\",\"#fed683\",\"#fed683\",\"#fff7b2\",\"#fff7b2\",\"#fff7b2\",\"#fff7b2\",\"#fff7b2\",\"#fff7b2\",\"#fff7b2\",\"#fff7b2\",\"#fff7b2\",\"#fff7b2\",\"#fff7b2\",\"#fff7b2\",\"#fff7b2\",\"#fff7b2\",\"#fff7b2\",\"#fff7b2\",\"#fff7b2\",\"#fff7b2\",\"#fff7b2\",\"#f9fcb5\",\"#f9fcb5\",\"#f9fcb5\",\"#f9fcb5\",\"#f9fcb5\",\"#f9fcb5\",\"#f9fcb5\",\"#f9fcb5\",\"#f9fcb5\",\"#f9fcb5\",\"#f9fcb5\",\"#f9fcb5\",\"#f9fcb5\",\"#f9fcb5\",\"#f9fcb5\",\"#edf8a3\",\"#edf8a3\",\"#daf09a\",\"#daf09a\",\"#daf09a\",\"#daf09a\",\"#daf09a\",\"#daf09a\",\"#daf09a\",\"#bfe5a0\",\"#bfe5a0\",\"#bfe5a0\",\"#bfe5a0\",\"#bfe5a0\",\"#bfe5a0\",\"#bfe5a0\",\"#bfe5a0\",\"#bfe5a0\",\"#bfe5a0\",\"#bfe5a0\",\"#bfe5a0\",\"#bfe5a0\",\"#bfe5a0\",\"#bfe5a0\",\"#bfe5a0\",\"#bfe5a0\",\"#bfe5a0\",\"#bfe5a0\",\"#bfe5a0\",\"#bfe5a0\",\"#bfe5a0\",\"#bfe5a0\",\"#bfe5a0\",\"#bfe5a0\",\"#bfe5a0\",\"#bfe5a0\",\"#bfe5a0\",\"#bfe5a0\",\"#bfe5a0\",\"#bfe5a0\",\"#bfe5a0\",\"#bfe5a0\",\"#bfe5a0\",\"#bfe5a0\",\"#bfe5a0\",\"#bfe5a0\",\"#a2d9a4\",\"#a2d9a4\",\"#a2d9a4\",\"#a2d9a4\",\"#a2d9a4\",\"#a2d9a4\",\"#a2d9a4\",\"#a2d9a4\",\"#a2d9a4\",\"#a2d9a4\",\"#a2d9a4\",\"#a2d9a4\",\"#a2d9a4\",\"#a2d9a4\",\"#a2d9a4\",\"#a2d9a4\",\"#a2d9a4\",\"#a2d9a4\",\"#a2d9a4\",\"#a2d9a4\",\"#a2d9a4\",\"#a2d9a4\",\"#a2d9a4\",\"#a2d9a4\",\"#a2d9a4\",\"#a2d9a4\",\"#a2d9a4\",\"#a2d9a4\",\"#a2d9a4\",\"#a2d9a4\",\"#a2d9a4\",\"#7ecca5\",\"#7ecca5\",\"#60bba8\",\"#60bba8\",\"#60bba8\",\"#60bba8\",\"#60bba8\",\"#60bba8\",\"#60bba8\",\"#60bba8\",\"#60bba8\",\"#60bba8\",\"#60bba8\",\"#60bba8\",\"#60bba8\",\"#47a0b3\",\"#47a0b3\",\"#47a0b3\",\"#47a0b3\",\"#3585bb\",\"#3585bb\",\"#3585bb\",\"#3585bb\",\"#496aaf\",\"#496aaf\",\"#496aaf\",\"#496aaf\",\"#496aaf\",\"#496aaf\",\"#496aaf\",\"#496aaf\",\"#496aaf\",\"#496aaf\",\"#496aaf\",\"#496aaf\",\"#496aaf\",\"#496aaf\",\"#496aaf\",\"#496aaf\",\"#496aaf\",\"#496aaf\",\"#496aaf\",\"#496aaf\",\"#496aaf\",\"#496aaf\",\"#5e4fa2\",\"#5e4fa2\",\"#5e4fa2\",\"#5e4fa2\",\"#5e4fa2\",\"#5e4fa2\",\"#5e4fa2\",\"#5e4fa2\",\"#5e4fa2\",\"#5e4fa2\",\"#5e4fa2\",\"#5e4fa2\",\"#5e4fa2\",\"#5e4fa2\",\"#5e4fa2\",\"#5e4fa2\",\"#5e4fa2\",\"#5e4fa2\",\"#5e4fa2\",\"#5e4fa2\",\"#5e4fa2\",\"#5e4fa2\",\"#5e4fa2\",\"#5e4fa2\",\"#5e4fa2\",\"#5e4fa2\",\"#5e4fa2\",\"#5e4fa2\",\"#5e4fa2\",\"#5e4fa2\",\"#5e4fa2\",\"#5e4fa2\",\"#5e4fa2\",\"#5e4fa2\",\"#5e4fa2\",\"#5e4fa2\",\"#5e4fa2\",\"#5e4fa2\",\"#5e4fa2\",\"#5e4fa2\",\"#5e4fa2\",\"#5e4fa2\",\"#5e4fa2\",\"#5e4fa2\"],\"index\":{\"__ndarray__\":\"AAAAAAEAAAACAAAAAwAAAAQAAAAFAAAABgAAAAcAAAAIAAAACQAAAAoAAAALAAAADAAAAA0AAAAOAAAADwAAABAAAAARAAAAEgAAABMAAAAUAAAAFQAAABYAAAAXAAAAGAAAABkAAAAaAAAAGwAAABwAAAAdAAAAHgAAAB8AAAAgAAAAIQAAACIAAAAjAAAAJAAAACUAAAAmAAAAJwAAACgAAAApAAAAKgAAACsAAAAsAAAALQAAAC4AAAAvAAAAMAAAADEAAAAyAAAAMwAAADQAAAA1AAAANgAAADcAAAA4AAAAOQAAADoAAAA7AAAAPAAAAD0AAAA+AAAAPwAAAEAAAABBAAAAQgAAAEMAAABEAAAARQAAAEYAAABHAAAASAAAAEkAAABKAAAASwAAAEwAAABNAAAATgAAAE8AAABQAAAAUQAAAFIAAABTAAAAVAAAAFUAAABWAAAAVwAAAFgAAABZAAAAWgAAAFsAAABcAAAAXQAAAF4AAABfAAAAYAAAAGEAAABiAAAAYwAAAGQAAABlAAAAZgAAAGcAAABoAAAAaQAAAGoAAABrAAAAbAAAAG0AAABuAAAAbwAAAHAAAABxAAAAcgAAAHMAAAB0AAAAdQAAAHYAAAB3AAAAeAAAAHkAAAB6AAAAewAAAHwAAAB9AAAAfgAAAH8AAACAAAAAgQAAAIIAAACDAAAAhAAAAIUAAACGAAAAhwAAAIgAAACJAAAAigAAAIsAAACMAAAAjQAAAI4AAACPAAAAkAAAAJEAAACSAAAAkwAAAJQAAACVAAAAlgAAAJcAAACYAAAAmQAAAJoAAACbAAAAnAAAAJ0AAACeAAAAnwAAAKAAAAChAAAAogAAAKMAAACkAAAApQAAAKYAAACnAAAAqAAAAKkAAACqAAAAqwAAAKwAAACtAAAArgAAAK8AAACwAAAAsQAAALIAAACzAAAAtAAAALUAAAC2AAAAtwAAALgAAAC5AAAAugAAALsAAAC8AAAAvQAAAL4AAAC/AAAAwAAAAMEAAADCAAAAwwAAAMQAAADFAAAAxgAAAMcAAADIAAAAyQAAAMoAAADLAAAAzAAAAM0AAADOAAAAzwAAANAAAADRAAAA0gAAANMAAADUAAAA1QAAANYAAADXAAAA2AAAANkAAADaAAAA2wAAANwAAADdAAAA3gAAAN8AAADgAAAA4QAAAOIAAADjAAAA5AAAAOUAAADmAAAA5wAAAOgAAADpAAAA6gAAAOsAAADsAAAA7QAAAO4AAADvAAAA8AAAAPEAAADyAAAA8wAAAPQAAAD1AAAA9gAAAPcAAAD4AAAA+QAAAPoAAAD7AAAA/AAAAP0AAAD+AAAA/wAAAAABAAABAQAAAgEAAAMBAAAEAQAABQEAAAYBAAAHAQAACAEAAAkBAAAKAQAACwEAAAwBAAANAQAADgEAAA8BAAAQAQAAEQEAABIBAAATAQAAFAEAABUBAAAWAQAAFwEAABgBAAAZAQAAGgEAABsBAAAcAQAAHQEAAB4BAAAfAQAAIAEAACEBAAAiAQAAIwEAACQBAAAlAQAAJgEAACcBAAAoAQAAKQEAACoBAAArAQAALAEAAC0BAAAuAQAALwEAADABAAAxAQAAMgEAADMBAAA0AQAANQEAADYBAAA3AQAAOAEAADkBAAA6AQAAOwEAADwBAAA9AQAAPgEAAD8BAABAAQAAQQEAAEIBAABDAQAARAEAAEUBAABGAQAARwEAAEgBAABJAQAASgEAAEsBAABMAQAATQEAAE4BAABPAQAAUAEAAFEBAABSAQAAUwEAAFQBAABVAQAAVgEAAFcBAABYAQAAWQEAAFoBAABbAQAAXAEAAF0BAABeAQAAXwEAAGABAABhAQAAYgEAAGMBAABkAQAAZQEAAGYBAABnAQAAaAEAAGkBAABqAQAAawEAAGwBAABtAQAAbgEAAG8BAABwAQAAcQEAAHIBAABzAQAA\",\"dtype\":\"int32\",\"order\":\"little\",\"shape\":[372]},\"item\":[\"pos_Aegerolysin.txt\",\"pos_Aegerolysin.txt\",\"pos_Aegerolysin.txt\",\"pos_Aegerolysin.txt\",\"pos_Aegerolysin.txt\",\"pos_Aegerolysin.txt\",\"pos_Aerolysin.txt\",\"pos_Aerolysin.txt\",\"pos_Aerolysin.txt\",\"pos_Aerolysin.txt\",\"pos_Aerolysin.txt\",\"pos_Aerolysin.txt\",\"pos_Aerolysin.txt\",\"pos_Aerolysin.txt\",\"pos_Aerolysin.txt\",\"pos_Aerolysin.txt\",\"pos_Anemone_cytotox.txt\",\"pos_Anemone_cytotox.txt\",\"pos_Anemone_cytotox.txt\",\"pos_Anemone_cytotox.txt\",\"pos_Anemone_cytotox.txt\",\"pos_Anemone_cytotox.txt\",\"pos_Anemone_cytotox.txt\",\"pos_Anemone_cytotox.txt\",\"pos_Anemone_cytotox.txt\",\"pos_Anemone_cytotox.txt\",\"pos_Anemone_cytotox.txt\",\"pos_Anemone_cytotox.txt\",\"pos_Anemone_cytotox.txt\",\"pos_Anemone_cytotox.txt\",\"pos_Anemone_cytotox.txt\",\"pos_Anemone_cytotox.txt\",\"pos_Anemone_cytotox.txt\",\"pos_Anemone_cytotox.txt\",\"pos_Anemone_cytotox.txt\",\"pos_Anemone_cytotox.txt\",\"pos_Anemone_cytotox.txt\",\"pos_Anemone_cytotox.txt\",\"pos_Anemone_cytotox.txt\",\"pos_Anemone_cytotox.txt\",\"pos_Bac_thur_toxin.txt\",\"pos_Bac_thur_toxin.txt\",\"pos_Bac_thur_toxin.txt\",\"pos_Bac_thur_toxin.txt\",\"pos_Bac_thur_toxin.txt\",\"pos_Bac_thur_toxin.txt\",\"pos_Bac_thur_toxin.txt\",\"pos_Bac_thur_toxin.txt\",\"pos_Bac_thur_toxin.txt\",\"pos_BB_PF.txt\",\"pos_BB_PF.txt\",\"pos_BB_PF.txt\",\"pos_Binary_toxB_2.txt\",\"pos_Binary_toxB_2.txt\",\"pos_Binary_toxB_2.txt\",\"pos_Binary_toxB_2.txt\",\"pos_Binary_toxB_2.txt\",\"pos_Binary_toxB_2.txt\",\"pos_Binary_toxB_2.txt\",\"pos_Binary_toxB_2.txt\",\"pos_Binary_toxB_2.txt\",\"pos_Binary_toxB_2.txt\",\"pos_Binary_toxB_2.txt\",\"pos_Binary_toxB_2.txt\",\"pos_Binary_toxB_2.txt\",\"pos_Binary_toxB_2.txt\",\"pos_Binary_toxB_2.txt\",\"pos_Binary_toxB_2.txt\",\"pos_Binary_toxB_2.txt\",\"pos_Binary_toxB_2.txt\",\"pos_Binary_toxB_2.txt\",\"pos_Binary_toxB_2.txt\",\"pos_Binary_toxB_2.txt\",\"pos_Binary_toxB_2.txt\",\"pos_Binary_toxB_2.txt\",\"pos_Binary_toxB_2.txt\",\"pos_Binary_toxB_2.txt\",\"pos_Binary_toxB_2.txt\",\"pos_Binary_toxB_2.txt\",\"pos_Binary_toxB_2.txt\",\"pos_Clenterotox.txt\",\"pos_Clenterotox.txt\",\"pos_Clenterotox.txt\",\"pos_Clenterotox.txt\",\"pos_Clenterotox.txt\",\"pos_Clenterotox.txt\",\"pos_Clenterotox.txt\",\"pos_Clenterotox.txt\",\"pos_Clenterotox.txt\",\"pos_Clenterotox.txt\",\"pos_Clenterotox.txt\",\"pos_Clenterotox.txt\",\"pos_Clenterotox.txt\",\"pos_Clenterotox.txt\",\"pos_Clenterotox.txt\",\"pos_Clenterotox.txt\",\"pos_Clenterotox.txt\",\"pos_Clenterotox.txt\",\"pos_Clenterotox.txt\",\"pos_Clenterotox.txt\",\"pos_Clenterotox.txt\",\"pos_Clenterotox.txt\",\"pos_Clenterotox.txt\",\"pos_Clenterotox.txt\",\"pos_Clenterotox.txt\",\"pos_Clenterotox.txt\",\"pos_Clenterotox.txt\",\"pos_Clenterotox.txt\",\"pos_Clenterotox.txt\",\"pos_Clenterotox.txt\",\"pos_Clenterotox.txt\",\"pos_Clenterotox.txt\",\"pos_Clenterotox.txt\",\"pos_Clenterotox.txt\",\"pos_Clenterotox.txt\",\"pos_Clenterotox.txt\",\"pos_Clenterotox.txt\",\"pos_Clenterotox.txt\",\"pos_Clenterotox.txt\",\"pos_Clenterotox.txt\",\"pos_Clenterotox.txt\",\"pos_Clenterotox.txt\",\"pos_Clenterotox.txt\",\"pos_Clenterotox.txt\",\"pos_Clenterotox.txt\",\"pos_Clenterotox.txt\",\"pos_Colicin.txt\",\"pos_Colicin.txt\",\"pos_Colicin.txt\",\"pos_Colicin.txt\",\"pos_Colicin.txt\",\"pos_Colicin.txt\",\"pos_Endotoxin_C.txt\",\"pos_Endotoxin_C.txt\",\"pos_Endotoxin_C.txt\",\"pos_Endotoxin_C.txt\",\"pos_Endotoxin_C.txt\",\"pos_Endotoxin_C.txt\",\"pos_Endotoxin_C.txt\",\"pos_Endotoxin_C.txt\",\"pos_Endotoxin_C.txt\",\"pos_Endotoxin_C.txt\",\"pos_Endotoxin_C.txt\",\"pos_Endotoxin_C.txt\",\"pos_Endotoxin_C.txt\",\"pos_Endotoxin_C.txt\",\"pos_Endotoxin_C.txt\",\"pos_Endotoxin_C.txt\",\"pos_Endotoxin_C.txt\",\"pos_Endotoxin_C.txt\",\"pos_Endotoxin_C.txt\",\"pos_Endotoxin_C.txt\",\"pos_Endotoxin_C.txt\",\"pos_Endotoxin_C.txt\",\"pos_ETX_MTX2.txt\",\"pos_ETX_MTX2.txt\",\"pos_ETX_MTX2.txt\",\"pos_ETX_MTX2.txt\",\"pos_ETX_MTX2.txt\",\"pos_ETX_MTX2.txt\",\"pos_ETX_MTX2.txt\",\"pos_ETX_MTX2.txt\",\"pos_ETX_MTX2.txt\",\"pos_ETX_MTX2.txt\",\"pos_ETX_MTX2.txt\",\"pos_ETX_MTX2.txt\",\"pos_ETX_MTX2.txt\",\"pos_ETX_MTX2.txt\",\"pos_ETX_MTX2.txt\",\"pos_ETX_MTX2.txt\",\"pos_ETX_MTX2.txt\",\"pos_ETX_MTX2.txt\",\"pos_FB_lectin.txt\",\"pos_FB_lectin.txt\",\"pos_FB_lectin.txt\",\"pos_FB_lectin.txt\",\"pos_FB_lectin.txt\",\"pos_FB_lectin.txt\",\"pos_FB_lectin.txt\",\"pos_FB_lectin.txt\",\"pos_FB_lectin.txt\",\"pos_FB_lectin.txt\",\"pos_FB_lectin.txt\",\"pos_FB_lectin.txt\",\"pos_FB_lectin.txt\",\"pos_FB_lectin.txt\",\"pos_FB_lectin.txt\",\"pos_FB_lectin.txt\",\"pos_FB_lectin.txt\",\"pos_FB_lectin.txt\",\"pos_FB_lectin.txt\",\"pos_Gasdermin.txt\",\"pos_Gasdermin.txt\",\"pos_Gasdermin.txt\",\"pos_Gasdermin.txt\",\"pos_Gasdermin.txt\",\"pos_Gasdermin.txt\",\"pos_Gasdermin.txt\",\"pos_Gasdermin.txt\",\"pos_Gasdermin.txt\",\"pos_Gasdermin.txt\",\"pos_Gasdermin.txt\",\"pos_Gasdermin.txt\",\"pos_Gasdermin.txt\",\"pos_Gasdermin.txt\",\"pos_Gasdermin.txt\",\"pos_Hemolysin_N.txt\",\"pos_Hemolysin_N.txt\",\"pos_HlyE.txt\",\"pos_HlyE.txt\",\"pos_HlyE.txt\",\"pos_HlyE.txt\",\"pos_HlyE.txt\",\"pos_HlyE.txt\",\"pos_HlyE.txt\",\"pos_Leukocidin.txt\",\"pos_Leukocidin.txt\",\"pos_Leukocidin.txt\",\"pos_Leukocidin.txt\",\"pos_Leukocidin.txt\",\"pos_Leukocidin.txt\",\"pos_Leukocidin.txt\",\"pos_Leukocidin.txt\",\"pos_Leukocidin.txt\",\"pos_Leukocidin.txt\",\"pos_Leukocidin.txt\",\"pos_Leukocidin.txt\",\"pos_Leukocidin.txt\",\"pos_Leukocidin.txt\",\"pos_Leukocidin.txt\",\"pos_Leukocidin.txt\",\"pos_Leukocidin.txt\",\"pos_Leukocidin.txt\",\"pos_Leukocidin.txt\",\"pos_Leukocidin.txt\",\"pos_Leukocidin.txt\",\"pos_Leukocidin.txt\",\"pos_Leukocidin.txt\",\"pos_Leukocidin.txt\",\"pos_Leukocidin.txt\",\"pos_Leukocidin.txt\",\"pos_Leukocidin.txt\",\"pos_Leukocidin.txt\",\"pos_Leukocidin.txt\",\"pos_Leukocidin.txt\",\"pos_Leukocidin.txt\",\"pos_Leukocidin.txt\",\"pos_Leukocidin.txt\",\"pos_Leukocidin.txt\",\"pos_Leukocidin.txt\",\"pos_Leukocidin.txt\",\"pos_Leukocidin.txt\",\"pos_MACPF.txt\",\"pos_MACPF.txt\",\"pos_MACPF.txt\",\"pos_MACPF.txt\",\"pos_MACPF.txt\",\"pos_MACPF.txt\",\"pos_MACPF.txt\",\"pos_MACPF.txt\",\"pos_MACPF.txt\",\"pos_MACPF.txt\",\"pos_MACPF.txt\",\"pos_MACPF.txt\",\"pos_MACPF.txt\",\"pos_MACPF.txt\",\"pos_MACPF.txt\",\"pos_MACPF.txt\",\"pos_MACPF.txt\",\"pos_MACPF.txt\",\"pos_MACPF.txt\",\"pos_MACPF.txt\",\"pos_MACPF.txt\",\"pos_MACPF.txt\",\"pos_MACPF.txt\",\"pos_MACPF.txt\",\"pos_MACPF.txt\",\"pos_MACPF.txt\",\"pos_MACPF.txt\",\"pos_MACPF.txt\",\"pos_MACPF.txt\",\"pos_MACPF.txt\",\"pos_MACPF.txt\",\"pos_PlyB_C.txt\",\"pos_PlyB_C.txt\",\"pos_PorB.txt\",\"pos_PorB.txt\",\"pos_PorB.txt\",\"pos_PorB.txt\",\"pos_PorB.txt\",\"pos_PorB.txt\",\"pos_PorB.txt\",\"pos_PorB.txt\",\"pos_PorB.txt\",\"pos_PorB.txt\",\"pos_PorB.txt\",\"pos_PorB.txt\",\"pos_PorB.txt\",\"pos_T4BSS_DotI_IcmL.txt\",\"pos_T4BSS_DotI_IcmL.txt\",\"pos_T4BSS_DotI_IcmL.txt\",\"pos_T4BSS_DotI_IcmL.txt\",\"pos_Tcda_Tcdb_pore.txt\",\"pos_Tcda_Tcdb_pore.txt\",\"pos_Tcda_Tcdb_pore.txt\",\"pos_Tcda_Tcdb_pore.txt\",\"pos_Thiol_cytolysin.txt\",\"pos_Thiol_cytolysin.txt\",\"pos_Thiol_cytolysin.txt\",\"pos_Thiol_cytolysin.txt\",\"pos_Thiol_cytolysin.txt\",\"pos_Thiol_cytolysin.txt\",\"pos_Thiol_cytolysin.txt\",\"pos_Thiol_cytolysin.txt\",\"pos_Thiol_cytolysin.txt\",\"pos_Thiol_cytolysin.txt\",\"pos_Thiol_cytolysin.txt\",\"pos_Thiol_cytolysin.txt\",\"pos_Thiol_cytolysin.txt\",\"pos_Thiol_cytolysin.txt\",\"pos_Thiol_cytolysin.txt\",\"pos_Thiol_cytolysin.txt\",\"pos_Thiol_cytolysin.txt\",\"pos_Thiol_cytolysin.txt\",\"pos_Thiol_cytolysin.txt\",\"pos_Thiol_cytolysin.txt\",\"pos_Thiol_cytolysin.txt\",\"pos_Thiol_cytolysin.txt\",\"pos_Toxin_Tolip.txt\",\"pos_Toxin_Tolip.txt\",\"pos_Toxin_Tolip.txt\",\"pos_Toxin_Tolip.txt\",\"pos_Toxin_Tolip.txt\",\"pos_Toxin_Tolip.txt\",\"pos_Toxin_Tolip.txt\",\"pos_Toxin_Tolip.txt\",\"pos_Toxin_Tolip.txt\",\"pos_Toxin_Tolip.txt\",\"pos_Toxin_Tolip.txt\",\"pos_Toxin_Tolip.txt\",\"pos_Toxin_Tolip.txt\",\"pos_Toxin_Tolip.txt\",\"pos_Toxin_Tolip.txt\",\"pos_Toxin_Tolip.txt\",\"pos_Toxin_Tolip.txt\",\"pos_Toxin_Tolip.txt\",\"pos_Toxin_Tolip.txt\",\"pos_Toxin_Tolip.txt\",\"pos_Toxin_Tolip.txt\",\"pos_Toxin_Tolip.txt\",\"pos_Toxin_Tolip.txt\",\"pos_Toxin_Tolip.txt\",\"pos_Toxin_Tolip.txt\",\"pos_Toxin_Tolip.txt\",\"pos_Toxin_Tolip.txt\",\"pos_Toxin_Tolip.txt\",\"pos_Toxin_Tolip.txt\",\"pos_Toxin_Tolip.txt\",\"pos_Toxin_Tolip.txt\",\"pos_Toxin_Tolip.txt\",\"pos_Toxin_Tolip.txt\",\"pos_Toxin_Tolip.txt\",\"pos_Toxin_Tolip.txt\",\"pos_Toxin_Tolip.txt\",\"pos_Toxin_Tolip.txt\",\"pos_Toxin_Tolip.txt\",\"pos_Toxin_Tolip.txt\",\"pos_Toxin_Tolip.txt\",\"pos_Toxin_Tolip.txt\",\"pos_Toxin_Tolip.txt\",\"pos_Toxin_Tolip.txt\",\"pos_Toxin_Tolip.txt\"],\"label\":[\"pos_Aegerolysin.txt\",\"pos_Aegerolysin.txt\",\"pos_Aegerolysin.txt\",\"pos_Aegerolysin.txt\",\"pos_Aegerolysin.txt\",\"pos_Aegerolysin.txt\",\"pos_Aerolysin.txt\",\"pos_Aerolysin.txt\",\"pos_Aerolysin.txt\",\"pos_Aerolysin.txt\",\"pos_Aerolysin.txt\",\"pos_Aerolysin.txt\",\"pos_Aerolysin.txt\",\"pos_Aerolysin.txt\",\"pos_Aerolysin.txt\",\"pos_Aerolysin.txt\",\"pos_Anemone_cytotox.txt\",\"pos_Anemone_cytotox.txt\",\"pos_Anemone_cytotox.txt\",\"pos_Anemone_cytotox.txt\",\"pos_Anemone_cytotox.txt\",\"pos_Anemone_cytotox.txt\",\"pos_Anemone_cytotox.txt\",\"pos_Anemone_cytotox.txt\",\"pos_Anemone_cytotox.txt\",\"pos_Anemone_cytotox.txt\",\"pos_Anemone_cytotox.txt\",\"pos_Anemone_cytotox.txt\",\"pos_Anemone_cytotox.txt\",\"pos_Anemone_cytotox.txt\",\"pos_Anemone_cytotox.txt\",\"pos_Anemone_cytotox.txt\",\"pos_Anemone_cytotox.txt\",\"pos_Anemone_cytotox.txt\",\"pos_Anemone_cytotox.txt\",\"pos_Anemone_cytotox.txt\",\"pos_Anemone_cytotox.txt\",\"pos_Anemone_cytotox.txt\",\"pos_Anemone_cytotox.txt\",\"pos_Anemone_cytotox.txt\",\"pos_Bac_thur_toxin.txt\",\"pos_Bac_thur_toxin.txt\",\"pos_Bac_thur_toxin.txt\",\"pos_Bac_thur_toxin.txt\",\"pos_Bac_thur_toxin.txt\",\"pos_Bac_thur_toxin.txt\",\"pos_Bac_thur_toxin.txt\",\"pos_Bac_thur_toxin.txt\",\"pos_Bac_thur_toxin.txt\",\"pos_BB_PF.txt\",\"pos_BB_PF.txt\",\"pos_BB_PF.txt\",\"pos_Binary_toxB_2.txt\",\"pos_Binary_toxB_2.txt\",\"pos_Binary_toxB_2.txt\",\"pos_Binary_toxB_2.txt\",\"pos_Binary_toxB_2.txt\",\"pos_Binary_toxB_2.txt\",\"pos_Binary_toxB_2.txt\",\"pos_Binary_toxB_2.txt\",\"pos_Binary_toxB_2.txt\",\"pos_Binary_toxB_2.txt\",\"pos_Binary_toxB_2.txt\",\"pos_Binary_toxB_2.txt\",\"pos_Binary_toxB_2.txt\",\"pos_Binary_toxB_2.txt\",\"pos_Binary_toxB_2.txt\",\"pos_Binary_toxB_2.txt\",\"pos_Binary_toxB_2.txt\",\"pos_Binary_toxB_2.txt\",\"pos_Binary_toxB_2.txt\",\"pos_Binary_toxB_2.txt\",\"pos_Binary_toxB_2.txt\",\"pos_Binary_toxB_2.txt\",\"pos_Binary_toxB_2.txt\",\"pos_Binary_toxB_2.txt\",\"pos_Binary_toxB_2.txt\",\"pos_Binary_toxB_2.txt\",\"pos_Binary_toxB_2.txt\",\"pos_Binary_toxB_2.txt\",\"pos_Clenterotox.txt\",\"pos_Clenterotox.txt\",\"pos_Clenterotox.txt\",\"pos_Clenterotox.txt\",\"pos_Clenterotox.txt\",\"pos_Clenterotox.txt\",\"pos_Clenterotox.txt\",\"pos_Clenterotox.txt\",\"pos_Clenterotox.txt\",\"pos_Clenterotox.txt\",\"pos_Clenterotox.txt\",\"pos_Clenterotox.txt\",\"pos_Clenterotox.txt\",\"pos_Clenterotox.txt\",\"pos_Clenterotox.txt\",\"pos_Clenterotox.txt\",\"pos_Clenterotox.txt\",\"pos_Clenterotox.txt\",\"pos_Clenterotox.txt\",\"pos_Clenterotox.txt\",\"pos_Clenterotox.txt\",\"pos_Clenterotox.txt\",\"pos_Clenterotox.txt\",\"pos_Clenterotox.txt\",\"pos_Clenterotox.txt\",\"pos_Clenterotox.txt\",\"pos_Clenterotox.txt\",\"pos_Clenterotox.txt\",\"pos_Clenterotox.txt\",\"pos_Clenterotox.txt\",\"pos_Clenterotox.txt\",\"pos_Clenterotox.txt\",\"pos_Clenterotox.txt\",\"pos_Clenterotox.txt\",\"pos_Clenterotox.txt\",\"pos_Clenterotox.txt\",\"pos_Clenterotox.txt\",\"pos_Clenterotox.txt\",\"pos_Clenterotox.txt\",\"pos_Clenterotox.txt\",\"pos_Clenterotox.txt\",\"pos_Clenterotox.txt\",\"pos_Clenterotox.txt\",\"pos_Clenterotox.txt\",\"pos_Clenterotox.txt\",\"pos_Clenterotox.txt\",\"pos_Colicin.txt\",\"pos_Colicin.txt\",\"pos_Colicin.txt\",\"pos_Colicin.txt\",\"pos_Colicin.txt\",\"pos_Colicin.txt\",\"pos_Endotoxin_C.txt\",\"pos_Endotoxin_C.txt\",\"pos_Endotoxin_C.txt\",\"pos_Endotoxin_C.txt\",\"pos_Endotoxin_C.txt\",\"pos_Endotoxin_C.txt\",\"pos_Endotoxin_C.txt\",\"pos_Endotoxin_C.txt\",\"pos_Endotoxin_C.txt\",\"pos_Endotoxin_C.txt\",\"pos_Endotoxin_C.txt\",\"pos_Endotoxin_C.txt\",\"pos_Endotoxin_C.txt\",\"pos_Endotoxin_C.txt\",\"pos_Endotoxin_C.txt\",\"pos_Endotoxin_C.txt\",\"pos_Endotoxin_C.txt\",\"pos_Endotoxin_C.txt\",\"pos_Endotoxin_C.txt\",\"pos_Endotoxin_C.txt\",\"pos_Endotoxin_C.txt\",\"pos_Endotoxin_C.txt\",\"pos_ETX_MTX2.txt\",\"pos_ETX_MTX2.txt\",\"pos_ETX_MTX2.txt\",\"pos_ETX_MTX2.txt\",\"pos_ETX_MTX2.txt\",\"pos_ETX_MTX2.txt\",\"pos_ETX_MTX2.txt\",\"pos_ETX_MTX2.txt\",\"pos_ETX_MTX2.txt\",\"pos_ETX_MTX2.txt\",\"pos_ETX_MTX2.txt\",\"pos_ETX_MTX2.txt\",\"pos_ETX_MTX2.txt\",\"pos_ETX_MTX2.txt\",\"pos_ETX_MTX2.txt\",\"pos_ETX_MTX2.txt\",\"pos_ETX_MTX2.txt\",\"pos_ETX_MTX2.txt\",\"pos_FB_lectin.txt\",\"pos_FB_lectin.txt\",\"pos_FB_lectin.txt\",\"pos_FB_lectin.txt\",\"pos_FB_lectin.txt\",\"pos_FB_lectin.txt\",\"pos_FB_lectin.txt\",\"pos_FB_lectin.txt\",\"pos_FB_lectin.txt\",\"pos_FB_lectin.txt\",\"pos_FB_lectin.txt\",\"pos_FB_lectin.txt\",\"pos_FB_lectin.txt\",\"pos_FB_lectin.txt\",\"pos_FB_lectin.txt\",\"pos_FB_lectin.txt\",\"pos_FB_lectin.txt\",\"pos_FB_lectin.txt\",\"pos_FB_lectin.txt\",\"pos_Gasdermin.txt\",\"pos_Gasdermin.txt\",\"pos_Gasdermin.txt\",\"pos_Gasdermin.txt\",\"pos_Gasdermin.txt\",\"pos_Gasdermin.txt\",\"pos_Gasdermin.txt\",\"pos_Gasdermin.txt\",\"pos_Gasdermin.txt\",\"pos_Gasdermin.txt\",\"pos_Gasdermin.txt\",\"pos_Gasdermin.txt\",\"pos_Gasdermin.txt\",\"pos_Gasdermin.txt\",\"pos_Gasdermin.txt\",\"pos_Hemolysin_N.txt\",\"pos_Hemolysin_N.txt\",\"pos_HlyE.txt\",\"pos_HlyE.txt\",\"pos_HlyE.txt\",\"pos_HlyE.txt\",\"pos_HlyE.txt\",\"pos_HlyE.txt\",\"pos_HlyE.txt\",\"pos_Leukocidin.txt\",\"pos_Leukocidin.txt\",\"pos_Leukocidin.txt\",\"pos_Leukocidin.txt\",\"pos_Leukocidin.txt\",\"pos_Leukocidin.txt\",\"pos_Leukocidin.txt\",\"pos_Leukocidin.txt\",\"pos_Leukocidin.txt\",\"pos_Leukocidin.txt\",\"pos_Leukocidin.txt\",\"pos_Leukocidin.txt\",\"pos_Leukocidin.txt\",\"pos_Leukocidin.txt\",\"pos_Leukocidin.txt\",\"pos_Leukocidin.txt\",\"pos_Leukocidin.txt\",\"pos_Leukocidin.txt\",\"pos_Leukocidin.txt\",\"pos_Leukocidin.txt\",\"pos_Leukocidin.txt\",\"pos_Leukocidin.txt\",\"pos_Leukocidin.txt\",\"pos_Leukocidin.txt\",\"pos_Leukocidin.txt\",\"pos_Leukocidin.txt\",\"pos_Leukocidin.txt\",\"pos_Leukocidin.txt\",\"pos_Leukocidin.txt\",\"pos_Leukocidin.txt\",\"pos_Leukocidin.txt\",\"pos_Leukocidin.txt\",\"pos_Leukocidin.txt\",\"pos_Leukocidin.txt\",\"pos_Leukocidin.txt\",\"pos_Leukocidin.txt\",\"pos_Leukocidin.txt\",\"pos_MACPF.txt\",\"pos_MACPF.txt\",\"pos_MACPF.txt\",\"pos_MACPF.txt\",\"pos_MACPF.txt\",\"pos_MACPF.txt\",\"pos_MACPF.txt\",\"pos_MACPF.txt\",\"pos_MACPF.txt\",\"pos_MACPF.txt\",\"pos_MACPF.txt\",\"pos_MACPF.txt\",\"pos_MACPF.txt\",\"pos_MACPF.txt\",\"pos_MACPF.txt\",\"pos_MACPF.txt\",\"pos_MACPF.txt\",\"pos_MACPF.txt\",\"pos_MACPF.txt\",\"pos_MACPF.txt\",\"pos_MACPF.txt\",\"pos_MACPF.txt\",\"pos_MACPF.txt\",\"pos_MACPF.txt\",\"pos_MACPF.txt\",\"pos_MACPF.txt\",\"pos_MACPF.txt\",\"pos_MACPF.txt\",\"pos_MACPF.txt\",\"pos_MACPF.txt\",\"pos_MACPF.txt\",\"pos_PlyB_C.txt\",\"pos_PlyB_C.txt\",\"pos_PorB.txt\",\"pos_PorB.txt\",\"pos_PorB.txt\",\"pos_PorB.txt\",\"pos_PorB.txt\",\"pos_PorB.txt\",\"pos_PorB.txt\",\"pos_PorB.txt\",\"pos_PorB.txt\",\"pos_PorB.txt\",\"pos_PorB.txt\",\"pos_PorB.txt\",\"pos_PorB.txt\",\"pos_T4BSS_DotI_IcmL.txt\",\"pos_T4BSS_DotI_IcmL.txt\",\"pos_T4BSS_DotI_IcmL.txt\",\"pos_T4BSS_DotI_IcmL.txt\",\"pos_Tcda_Tcdb_pore.txt\",\"pos_Tcda_Tcdb_pore.txt\",\"pos_Tcda_Tcdb_pore.txt\",\"pos_Tcda_Tcdb_pore.txt\",\"pos_Thiol_cytolysin.txt\",\"pos_Thiol_cytolysin.txt\",\"pos_Thiol_cytolysin.txt\",\"pos_Thiol_cytolysin.txt\",\"pos_Thiol_cytolysin.txt\",\"pos_Thiol_cytolysin.txt\",\"pos_Thiol_cytolysin.txt\",\"pos_Thiol_cytolysin.txt\",\"pos_Thiol_cytolysin.txt\",\"pos_Thiol_cytolysin.txt\",\"pos_Thiol_cytolysin.txt\",\"pos_Thiol_cytolysin.txt\",\"pos_Thiol_cytolysin.txt\",\"pos_Thiol_cytolysin.txt\",\"pos_Thiol_cytolysin.txt\",\"pos_Thiol_cytolysin.txt\",\"pos_Thiol_cytolysin.txt\",\"pos_Thiol_cytolysin.txt\",\"pos_Thiol_cytolysin.txt\",\"pos_Thiol_cytolysin.txt\",\"pos_Thiol_cytolysin.txt\",\"pos_Thiol_cytolysin.txt\",\"pos_Toxin_Tolip.txt\",\"pos_Toxin_Tolip.txt\",\"pos_Toxin_Tolip.txt\",\"pos_Toxin_Tolip.txt\",\"pos_Toxin_Tolip.txt\",\"pos_Toxin_Tolip.txt\",\"pos_Toxin_Tolip.txt\",\"pos_Toxin_Tolip.txt\",\"pos_Toxin_Tolip.txt\",\"pos_Toxin_Tolip.txt\",\"pos_Toxin_Tolip.txt\",\"pos_Toxin_Tolip.txt\",\"pos_Toxin_Tolip.txt\",\"pos_Toxin_Tolip.txt\",\"pos_Toxin_Tolip.txt\",\"pos_Toxin_Tolip.txt\",\"pos_Toxin_Tolip.txt\",\"pos_Toxin_Tolip.txt\",\"pos_Toxin_Tolip.txt\",\"pos_Toxin_Tolip.txt\",\"pos_Toxin_Tolip.txt\",\"pos_Toxin_Tolip.txt\",\"pos_Toxin_Tolip.txt\",\"pos_Toxin_Tolip.txt\",\"pos_Toxin_Tolip.txt\",\"pos_Toxin_Tolip.txt\",\"pos_Toxin_Tolip.txt\",\"pos_Toxin_Tolip.txt\",\"pos_Toxin_Tolip.txt\",\"pos_Toxin_Tolip.txt\",\"pos_Toxin_Tolip.txt\",\"pos_Toxin_Tolip.txt\",\"pos_Toxin_Tolip.txt\",\"pos_Toxin_Tolip.txt\",\"pos_Toxin_Tolip.txt\",\"pos_Toxin_Tolip.txt\",\"pos_Toxin_Tolip.txt\",\"pos_Toxin_Tolip.txt\",\"pos_Toxin_Tolip.txt\",\"pos_Toxin_Tolip.txt\",\"pos_Toxin_Tolip.txt\",\"pos_Toxin_Tolip.txt\",\"pos_Toxin_Tolip.txt\",\"pos_Toxin_Tolip.txt\"],\"level_0\":[0,1,2,3,4,5,6,7,8,9,10,11,12,13,14,15,16,17,18,19,20,21,22,23,24,25,26,27,28,29,30,31,32,33,34,35,36,37,38,39,40,41,42,43,44,45,46,47,48,49,50,51,52,53,54,55,56,57,58,59,60,61,62,63,64,65,66,67,68,69,70,71,72,73,74,75,76,77,78,79,80,81,82,83,84,85,86,87,88,89,90,91,92,93,94,95,96,97,98,99,100,101,102,103,104,105,106,107,108,109,110,111,112,113,114,115,116,117,118,119,120,121,122,123,124,125,126,127,128,129,130,131,132,133,134,135,136,137,138,139,140,141,142,143,144,145,146,147,148,149,150,151,152,153,154,155,156,157,158,159,160,161,162,163,164,165,166,167,168,169,170,171,172,173,174,175,176,177,178,179,180,181,182,183,184,185,186,187,188,189,190,191,192,193,194,195,196,197,198,199,200,201,202,203,204,205,206,207,208,209,210,211,212,213,214,215,216,217,218,219,220,221,222,223,224,225,226,227,228,229,230,231,232,233,234,235,236,237,238,239,240,241,242,243,244,245,246,247,248,249,250,251,252,253,254,255,256,257,258,259,260,261,262,263,264,265,266,267,268,269,270,271,272,273,274,275,276,277,278,279,280,281,282,283,284,285,286,287,288,289,290,291,292,293,294,295,296,297,298,299,300,301,302,303,304,305,306,307,308,309,310,311,312,313,314,315,316,317,318,319,320,321,322,323,324,325,326,327,328,329,330,331,332,333,334,335,336,337,338,339,340,341,342,343,344,345,346,347,348,349,350,351,352,353,354,355,356,357,358,359,360,361,362,363,364,365,366,367,368,369,370,371],\"x\":{\"__ndarray__\":\"xw56QFgOSECY3URAYkJAQBFQPED6rNrAuk3UQbtB1EGRQdRBdjZJwcDFScGuT0nBLnJKwaLvScGsHUnBR5hIwa/TZUDzJIpAx2aMQKCxi0DxCmdAHq9mQLH6akAXqGZAdEFnQE4zk0D4JpVAXMqSQBpaj0CW45RAti6UQNW4jkBQ5YxAPz2RQGeJkEAAbZFAJZKTQAswkUA7QI9A5NWPQGGa2MDPG9zA1pXgwHEtE0ELPhVB3dIUQW7oFEEULhNB5yMVQU2GzsAqyc/ALopjQAGa28AAP9zA4t3awDhC2sB88NrALSjZwCy/akFoUHRBBNlyQZt/KkGxEytBczAqQRiiK0FXmnJBXlRyQbx4c0EseHBBdPtwQQHacEH6TWtBXGtrQXRWakFAk3FBaoxyQVhqckHP83FBUStrQaBJK0EghuHA71BVQM9R1cCOKi9Aj5pdQN9ZM0BVndnAUahTQMQ32cBVpuTAyivfwCtY2cBp8HHASCx1wH78bcAGoXXAMIBvwNv2b8DPudNBW37TQcrS1EFB99NB32XUQaxW1EGJ4tRByrHTQdaq00EjldNBQvrTQf1W1UH3gxJB0R0TQbiTy8AkZcrAwXDNwNmGzMDwzNRBWGgTQYAH1kFkCNZBc7zVQdQ538DMW9/AIPMUQdzuFEF9bhRBMNITQZp4E0Ee5i1B7NZtwGyHPEHj5SxB+eM7QcWrPUF0rzpB8B45QT9POUHvLzpBeJLTwE4OPUHnfDpBpzw6QR0jPUGQwEBB5O8+QemlPUHMj0BBSMQ+QW8KQEF2oT5B+5s8Qe6cNEG4AjxBPUw8QQEcccDNFlnA60pXwK92V8DNUFbAPlJ0wMpOecBBy3LAhsR4wD8occBzOtfAjefdwMUFeEAuQ3RA+zyAwCwfgMAcPHzAqOLhwE/cNkCGKjVARy87QHIUM0BxLDhAY+czQE7NM0DOUDJA05M1QBYxlkAmw5dAsnmWQOcwlkDhwphAsA6YQAuDlkDq4JRA5S2QQEXnjUANmuXACyomQRRIbUExmG5BV2pvQbUIb0EFtG1B43twQR1TcEHJEHBBa9FvQQONJ0HK4CVBwoInQcRtKEEBdTxBRxprQdy+U8D7iE3At/5OwJ+ZTMC4bk/AfTtXwKz3V8A3kHTAnpc+wTkdd8BLZXLA0V50wIIrPsHUAXPAI353wLKZc8DG/0DBLqc+wR3YPsFy7T7BC/w/wY9ePsGt4j7Bs14+wcjzeMBxD33AALN/wA2lcMBUI2rAqNZswKQchMC/XWtBr4U8QbpzZsDgm3LAZIRwwE/lhsA5yYXAw2WGwAd1hMDOxIbA1QV0wFAea8AQZYTArWwvQbqz5MCdXjhB+284QZUK5MBzSNjAFDbZwLVI2MDFrdXAZODbwKFrWcBvukzAU8wyQch6M0EkYy9Biu4vQTAeMEF5uC9BpEkuQReKQEFJpEFBqo1AQaz+QEG/9y9B+KQuQTyhJkHArC1BAmgyQfTSS8CB+EzAW9hMwDpoLkF0yCZBwqzjwJWG5cCIiuPAPCDkwEvB5cCsdebA0KvmwFNK4MBmwOnA44XiwJc058A9hOTAJWnowDjtWECDAFZA9J95QPZjWEDKHtTAzzzVwC6pS8AYMS5BUZwsQe78LEGYhS1B7yctQVdIMEHjBi9Bw5gwQWQCMUGkOzFBEH4tQUeJKUEI/yhBBpItQVKlKUFFlylBNq8vQTrrLUE93y5B4nE4QbxpLkF/5i5BZXkvQS09fMEOMHzBNdN3wSb/dsHG6nrBRKd8wbPhd8EVAH3B5bB1wcaHesG9qnfBJJ54wZ3Yd8HjZ3jBPw14wXgSesEShHrB/Rp5wVfNeMFivXzBQ856wd7we8Hgf3jBNQJ6wQ+pesEO0XrBTq15wbnvesFBBHnB0rV7wVUEe8G7zX3BnY/4wNxn98BQsPrAYfL6wPwW/8Av9/vAGnv+wEaO/MCaUf/AuOr/wC+r/8D8iX7B\",\"dtype\":\"float32\",\"order\":\"little\",\"shape\":[372]},\"y\":{\"__ndarray__\":\"YYwbwTa+HsFARB7BKOkfwRQuIMFUuLNBNjVKwUbAScGe90fB2SUav+cREb/1lRi/5kYGv/uRDr8oqxu/HiUkvwVSZsEl9qPBAF+kwfvVo8HUCWbBRDRmwUYcZcExGGbBSmBmwWBDpcHT4KXBpVqmwWhzpsFwYqXBalilwbsppsHLQKfBDuWlwTQdpsHWEabB+WOmwUrKpsFHsKbBsHKmwVxaxcBwF8fAqwzHwM8hvLwINey9frzVvYrUDr7j7zm+dkr9vfuxwsBAjMTAHPBmwRSC0ECZ3c9AWXvRQJ3e0UAXNNFAqPbSQByIUsGJ8FnBKy1Xwe0bTkEbTk1BpU5NQShYTUGHa1jBymFYwUydV8FD4VfBitBWwe2KVsHgP1XBUiJVwWuoVcEyVlfBuZBYwbtzV8GFe1bBFrJVwXFQTUHEAcnAST8dwd0qskGVGh3BIPEcwfhWHMGaYbNB9j0ewUxPs0GFUrVBf1G1QdZYs0G1VaW8rLoovGWiybwk8h/As1kqwK8tJsCr81LBZ2VSwbWYUMEnR1LBFLBRwWt+UcHreFDBt+JSwVAvU8EXC1PBA0ZSwf9NT8FRPYg931vPPY+WwsCWpsPAaMXBwE9XwcAMa1DBoTOYPnDTTcFso0zB0+VMwUmkysDccsrAxYTEPsJp6D7/RtU+BUbLPv6nIL0j1zZBeU9LvjlGd0Fd5DBB6Hh4QSwEbEHGRm1BZQJvQZUSa0GdzmtBL47YQNyPekF05WZBRcxtQcV0ekEZ4n9BHydqQVTwaUGTI2tBBcVqQRKlakF8IWxB0hV5QdtEU0HX03VBxzlrQUHc/L7QeS8/BfA3P39aNT9JhTs/VPgTwEBozL4FNxjAvlSSvgtHCsDxysTAUM7LwC0YG8H26hvBPblqvrN4S771nUy+AyfCwF9vJcG/ySXBJJMkwTG6JcGQTSbBwSkmwbX3JsEmUSbBv7UmwWiaGcHSsBrB7qoYwbqUGMFYgBnB0cEZwTPBF8GptBnBv/4ZwSCiGsGcs8PAGkghQWJIKkFkBilBHXgoQebdKEHp1ClB56gnQR68J0Fy7CdBhz4oQXlsJEFq8SVB7bEkQXfZJEHX9m1BAsFSwXUtC7+uXXO+YYuFvkH1Y77mmaq+oUgjv9JtPb8OaxG/0utmQHkIe78E8YK/5yl5v8MhZUCRkArAT7gZwLjNCMAhjHBA8N9mQD/lZ0CMNWlAHXRsQD/2ZUCDP2dACvtlQJorJMCf8ibADAMqwJEflr/QuqK/Ftmbv+5DNMBL0VLB/05tQU+4Gb7Y/hy/Q2K0villOsACBTjAzDg3wIFFNsAPODrAMe6Dv4lgnL/TPjXAKjdDQQxBxMAJ/l5BskdfQQFYxMBBytNAMdzSQPTJ00BjWtZAV0zQQNdbJD9CdYk/hS9MQST7S0Hco0NBVvVDQZLRQ0HW00RBeuhBQXqXf0HWYYBBU+F/QaoRgEFyZ0VBxQQ8QQ+6IkEPbDNB74dHQVvejT9rNIo/qDOLP9a6OkF5oCJBFs+2QZIXt0FiyLZBMbm2Qc0ht0HYT7dB8F63QY8ctkGTG7hB5pS2QauFt0H42bZB+s23QTT/H8H6Fx/BRjgbwaNDHsFvwdhAFWTXQLsnjj+vaztBpdwhQWHTIUE1Qy1BPGohQeXIHEEAqhxBAiRBQbPgQUFM+kBBDh8XQfn7GEEw3xhBbtgkQZRVGEEAGhhBAooaQQj6F0F6jhhBrzxfQYebGEHCmR5B6rAdQesipL/0SZW/r5DZve27zL0S3Ye+B8hEvlewh76NxzG+NyKRvelWPL0ohIK+S8xWvpzXnryG0oe9606PvgM9br5Eghq+0HNVvtii4b5yY96+ALPRvVpEyr5XqK6+bp4hv5M6Er8pKFe/tQQcv20IDL+xwNW+bFCSv/xnhb9jdQ6/W/UuwZGFL8Hh5S3Bd8QtwYK2K8FGRC3BggMswZ34LMHSlyvBn0srwYZpK8GEZVu/\",\"dtype\":\"float32\",\"order\":\"little\",\"shape\":[372]}},\"selected\":{\"id\":\"1048\"},\"selection_policy\":{\"id\":\"1047\"}},\"id\":\"1001\",\"type\":\"ColumnDataSource\"},{\"attributes\":{\"fill_alpha\":{\"field\":\"alpha\"},\"fill_color\":{\"field\":\"color\"},\"line_alpha\":{\"field\":\"alpha\"},\"line_color\":{\"field\":\"color\"},\"size\":{\"units\":\"screen\",\"value\":20},\"x\":{\"field\":\"x\"},\"y\":{\"field\":\"y\"}},\"id\":\"1036\",\"type\":\"Circle\"},{\"attributes\":{},\"id\":\"1005\",\"type\":\"DataRange1d\"},{\"attributes\":{\"formatter\":{\"id\":\"1045\"},\"ticker\":{\"id\":\"1016\"},\"visible\":false},\"id\":\"1015\",\"type\":\"LinearAxis\"},{\"attributes\":{\"formatter\":{\"id\":\"1043\"},\"ticker\":{\"id\":\"1012\"},\"visible\":false},\"id\":\"1011\",\"type\":\"LinearAxis\"},{\"attributes\":{},\"id\":\"1009\",\"type\":\"LinearScale\"},{\"attributes\":{},\"id\":\"1012\",\"type\":\"BasicTicker\"},{\"attributes\":{},\"id\":\"1047\",\"type\":\"UnionRenderers\"},{\"attributes\":{},\"id\":\"1045\",\"type\":\"BasicTickFormatter\"},{\"attributes\":{\"text\":\"\"},\"id\":\"1041\",\"type\":\"Title\"},{\"attributes\":{},\"id\":\"1003\",\"type\":\"DataRange1d\"},{\"attributes\":{\"overlay\":{\"id\":\"1025\"}},\"id\":\"1021\",\"type\":\"BoxZoomTool\"},{\"attributes\":{\"axis\":{\"id\":\"1015\"},\"dimension\":1,\"ticker\":null,\"visible\":false},\"id\":\"1018\",\"type\":\"Grid\"},{\"attributes\":{},\"id\":\"1007\",\"type\":\"LinearScale\"},{\"attributes\":{},\"id\":\"1020\",\"type\":\"WheelZoomTool\"},{\"attributes\":{\"active_drag\":\"auto\",\"active_inspect\":\"auto\",\"active_multi\":null,\"active_scroll\":\"auto\",\"active_tap\":\"auto\",\"tools\":[{\"id\":\"1019\"},{\"id\":\"1020\"},{\"id\":\"1021\"},{\"id\":\"1022\"},{\"id\":\"1023\"},{\"id\":\"1024\"},{\"id\":\"1026\"}]},\"id\":\"1027\",\"type\":\"Toolbar\"},{\"attributes\":{},\"id\":\"1043\",\"type\":\"BasicTickFormatter\"},{\"attributes\":{},\"id\":\"1022\",\"type\":\"SaveTool\"},{\"attributes\":{},\"id\":\"1024\",\"type\":\"HelpTool\"},{\"attributes\":{},\"id\":\"1023\",\"type\":\"ResetTool\"},{\"attributes\":{\"callback\":null,\"tooltips\":[[\"index\",\"@index\"],[\"label\",\"@label\"],[\"item\",\"@item\"]]},\"id\":\"1026\",\"type\":\"HoverTool\"},{\"attributes\":{\"bottom_units\":\"screen\",\"fill_alpha\":0.5,\"fill_color\":\"lightgrey\",\"left_units\":\"screen\",\"level\":\"overlay\",\"line_alpha\":1.0,\"line_color\":\"black\",\"line_dash\":[4,4],\"line_width\":2,\"right_units\":\"screen\",\"top_units\":\"screen\"},\"id\":\"1025\",\"type\":\"BoxAnnotation\"},{\"attributes\":{\"data_source\":{\"id\":\"1001\"},\"glyph\":{\"id\":\"1036\"},\"hover_glyph\":null,\"muted_glyph\":null,\"nonselection_glyph\":{\"id\":\"1037\"},\"selection_glyph\":null,\"view\":{\"id\":\"1039\"}},\"id\":\"1038\",\"type\":\"GlyphRenderer\"},{\"attributes\":{\"axis\":{\"id\":\"1011\"},\"ticker\":null,\"visible\":false},\"id\":\"1014\",\"type\":\"Grid\"},{\"attributes\":{\"fill_alpha\":{\"value\":0.1},\"fill_color\":{\"field\":\"color\"},\"line_alpha\":{\"value\":0.1},\"line_color\":{\"field\":\"color\"},\"size\":{\"units\":\"screen\",\"value\":20},\"x\":{\"field\":\"x\"},\"y\":{\"field\":\"y\"}},\"id\":\"1037\",\"type\":\"Circle\"},{\"attributes\":{},\"id\":\"1016\",\"type\":\"BasicTicker\"}],\"root_ids\":[\"1002\"]},\"title\":\"Bokeh Application\",\"version\":\"2.1.0\"}};\n",
       "  var render_items = [{\"docid\":\"7058e51e-9b9d-4d7f-aa33-4e82e5bc9632\",\"root_ids\":[\"1002\"],\"roots\":{\"1002\":\"0497be74-a1eb-4489-b18b-e4b5a58f943d\"}}];\n",
       "  root.Bokeh.embed.embed_items_notebook(docs_json, render_items);\n",
       "\n",
       "  }\n",
       "  if (root.Bokeh !== undefined) {\n",
       "    embed_document(root);\n",
       "  } else {\n",
       "    var attempts = 0;\n",
       "    var timer = setInterval(function(root) {\n",
       "      if (root.Bokeh !== undefined) {\n",
       "        clearInterval(timer);\n",
       "        embed_document(root);\n",
       "      } else {\n",
       "        attempts++;\n",
       "        if (attempts > 100) {\n",
       "          clearInterval(timer);\n",
       "          console.log(\"Bokeh: ERROR: Unable to run BokehJS code because BokehJS library is missing\");\n",
       "        }\n",
       "      }\n",
       "    }, 10, root)\n",
       "  }\n",
       "})(window);"
      ],
      "application/vnd.bokehjs_exec.v0+json": ""
     },
     "metadata": {
      "application/vnd.bokehjs_exec.v0+json": {
       "id": "1002"
      }
     },
     "output_type": "display_data"
    }
   ],
   "source": [
    "from bokeh.plotting import show, save, output_notebook, output_file\n",
    "\n",
    "p = umap.plot.interactive(mapper, labels=labels, hover_data=hover_data,point_size=20)\n",
    "output_notebook()\n",
    "show(p)"
   ]
  },
  {
   "cell_type": "code",
   "execution_count": 83,
   "metadata": {},
   "outputs": [],
   "source": [
    "#Structure cluster\n",
    "mapper = umap.UMAP().fit(str_mat)\n",
    "hover_data = pd.DataFrame({'index':np.arange(total),\n",
    "                           'label':labels})\n",
    "\n",
    "hover_data['item'] = hover_data.label"
   ]
  },
  {
   "cell_type": "code",
   "execution_count": 84,
   "metadata": {},
   "outputs": [
    {
     "data": {
      "text/html": [
       "\n",
       "    <div class=\"bk-root\">\n",
       "        <a href=\"https://bokeh.org\" target=\"_blank\" class=\"bk-logo bk-logo-small bk-logo-notebook\"></a>\n",
       "        <span id=\"1143\">Loading BokehJS ...</span>\n",
       "    </div>"
      ]
     },
     "metadata": {},
     "output_type": "display_data"
    },
    {
     "data": {
      "application/javascript": [
       "\n",
       "(function(root) {\n",
       "  function now() {\n",
       "    return new Date();\n",
       "  }\n",
       "\n",
       "  var force = true;\n",
       "\n",
       "  if (typeof root._bokeh_onload_callbacks === \"undefined\" || force === true) {\n",
       "    root._bokeh_onload_callbacks = [];\n",
       "    root._bokeh_is_loading = undefined;\n",
       "  }\n",
       "\n",
       "  var JS_MIME_TYPE = 'application/javascript';\n",
       "  var HTML_MIME_TYPE = 'text/html';\n",
       "  var EXEC_MIME_TYPE = 'application/vnd.bokehjs_exec.v0+json';\n",
       "  var CLASS_NAME = 'output_bokeh rendered_html';\n",
       "\n",
       "  /**\n",
       "   * Render data to the DOM node\n",
       "   */\n",
       "  function render(props, node) {\n",
       "    var script = document.createElement(\"script\");\n",
       "    node.appendChild(script);\n",
       "  }\n",
       "\n",
       "  /**\n",
       "   * Handle when an output is cleared or removed\n",
       "   */\n",
       "  function handleClearOutput(event, handle) {\n",
       "    var cell = handle.cell;\n",
       "\n",
       "    var id = cell.output_area._bokeh_element_id;\n",
       "    var server_id = cell.output_area._bokeh_server_id;\n",
       "    // Clean up Bokeh references\n",
       "    if (id != null && id in Bokeh.index) {\n",
       "      Bokeh.index[id].model.document.clear();\n",
       "      delete Bokeh.index[id];\n",
       "    }\n",
       "\n",
       "    if (server_id !== undefined) {\n",
       "      // Clean up Bokeh references\n",
       "      var cmd = \"from bokeh.io.state import curstate; print(curstate().uuid_to_server['\" + server_id + \"'].get_sessions()[0].document.roots[0]._id)\";\n",
       "      cell.notebook.kernel.execute(cmd, {\n",
       "        iopub: {\n",
       "          output: function(msg) {\n",
       "            var id = msg.content.text.trim();\n",
       "            if (id in Bokeh.index) {\n",
       "              Bokeh.index[id].model.document.clear();\n",
       "              delete Bokeh.index[id];\n",
       "            }\n",
       "          }\n",
       "        }\n",
       "      });\n",
       "      // Destroy server and session\n",
       "      var cmd = \"import bokeh.io.notebook as ion; ion.destroy_server('\" + server_id + \"')\";\n",
       "      cell.notebook.kernel.execute(cmd);\n",
       "    }\n",
       "  }\n",
       "\n",
       "  /**\n",
       "   * Handle when a new output is added\n",
       "   */\n",
       "  function handleAddOutput(event, handle) {\n",
       "    var output_area = handle.output_area;\n",
       "    var output = handle.output;\n",
       "\n",
       "    // limit handleAddOutput to display_data with EXEC_MIME_TYPE content only\n",
       "    if ((output.output_type != \"display_data\") || (!output.data.hasOwnProperty(EXEC_MIME_TYPE))) {\n",
       "      return\n",
       "    }\n",
       "\n",
       "    var toinsert = output_area.element.find(\".\" + CLASS_NAME.split(' ')[0]);\n",
       "\n",
       "    if (output.metadata[EXEC_MIME_TYPE][\"id\"] !== undefined) {\n",
       "      toinsert[toinsert.length - 1].firstChild.textContent = output.data[JS_MIME_TYPE];\n",
       "      // store reference to embed id on output_area\n",
       "      output_area._bokeh_element_id = output.metadata[EXEC_MIME_TYPE][\"id\"];\n",
       "    }\n",
       "    if (output.metadata[EXEC_MIME_TYPE][\"server_id\"] !== undefined) {\n",
       "      var bk_div = document.createElement(\"div\");\n",
       "      bk_div.innerHTML = output.data[HTML_MIME_TYPE];\n",
       "      var script_attrs = bk_div.children[0].attributes;\n",
       "      for (var i = 0; i < script_attrs.length; i++) {\n",
       "        toinsert[toinsert.length - 1].firstChild.setAttribute(script_attrs[i].name, script_attrs[i].value);\n",
       "        toinsert[toinsert.length - 1].firstChild.textContent = bk_div.children[0].textContent\n",
       "      }\n",
       "      // store reference to server id on output_area\n",
       "      output_area._bokeh_server_id = output.metadata[EXEC_MIME_TYPE][\"server_id\"];\n",
       "    }\n",
       "  }\n",
       "\n",
       "  function register_renderer(events, OutputArea) {\n",
       "\n",
       "    function append_mime(data, metadata, element) {\n",
       "      // create a DOM node to render to\n",
       "      var toinsert = this.create_output_subarea(\n",
       "        metadata,\n",
       "        CLASS_NAME,\n",
       "        EXEC_MIME_TYPE\n",
       "      );\n",
       "      this.keyboard_manager.register_events(toinsert);\n",
       "      // Render to node\n",
       "      var props = {data: data, metadata: metadata[EXEC_MIME_TYPE]};\n",
       "      render(props, toinsert[toinsert.length - 1]);\n",
       "      element.append(toinsert);\n",
       "      return toinsert\n",
       "    }\n",
       "\n",
       "    /* Handle when an output is cleared or removed */\n",
       "    events.on('clear_output.CodeCell', handleClearOutput);\n",
       "    events.on('delete.Cell', handleClearOutput);\n",
       "\n",
       "    /* Handle when a new output is added */\n",
       "    events.on('output_added.OutputArea', handleAddOutput);\n",
       "\n",
       "    /**\n",
       "     * Register the mime type and append_mime function with output_area\n",
       "     */\n",
       "    OutputArea.prototype.register_mime_type(EXEC_MIME_TYPE, append_mime, {\n",
       "      /* Is output safe? */\n",
       "      safe: true,\n",
       "      /* Index of renderer in `output_area.display_order` */\n",
       "      index: 0\n",
       "    });\n",
       "  }\n",
       "\n",
       "  // register the mime type if in Jupyter Notebook environment and previously unregistered\n",
       "  if (root.Jupyter !== undefined) {\n",
       "    var events = require('base/js/events');\n",
       "    var OutputArea = require('notebook/js/outputarea').OutputArea;\n",
       "\n",
       "    if (OutputArea.prototype.mime_types().indexOf(EXEC_MIME_TYPE) == -1) {\n",
       "      register_renderer(events, OutputArea);\n",
       "    }\n",
       "  }\n",
       "\n",
       "  \n",
       "  if (typeof (root._bokeh_timeout) === \"undefined\" || force === true) {\n",
       "    root._bokeh_timeout = Date.now() + 5000;\n",
       "    root._bokeh_failed_load = false;\n",
       "  }\n",
       "\n",
       "  var NB_LOAD_WARNING = {'data': {'text/html':\n",
       "     \"<div style='background-color: #fdd'>\\n\"+\n",
       "     \"<p>\\n\"+\n",
       "     \"BokehJS does not appear to have successfully loaded. If loading BokehJS from CDN, this \\n\"+\n",
       "     \"may be due to a slow or bad network connection. Possible fixes:\\n\"+\n",
       "     \"</p>\\n\"+\n",
       "     \"<ul>\\n\"+\n",
       "     \"<li>re-rerun `output_notebook()` to attempt to load from CDN again, or</li>\\n\"+\n",
       "     \"<li>use INLINE resources instead, as so:</li>\\n\"+\n",
       "     \"</ul>\\n\"+\n",
       "     \"<code>\\n\"+\n",
       "     \"from bokeh.resources import INLINE\\n\"+\n",
       "     \"output_notebook(resources=INLINE)\\n\"+\n",
       "     \"</code>\\n\"+\n",
       "     \"</div>\"}};\n",
       "\n",
       "  function display_loaded() {\n",
       "    var el = document.getElementById(\"1143\");\n",
       "    if (el != null) {\n",
       "      el.textContent = \"BokehJS is loading...\";\n",
       "    }\n",
       "    if (root.Bokeh !== undefined) {\n",
       "      if (el != null) {\n",
       "        el.textContent = \"BokehJS \" + root.Bokeh.version + \" successfully loaded.\";\n",
       "      }\n",
       "    } else if (Date.now() < root._bokeh_timeout) {\n",
       "      setTimeout(display_loaded, 100)\n",
       "    }\n",
       "  }\n",
       "\n",
       "\n",
       "  function run_callbacks() {\n",
       "    try {\n",
       "      root._bokeh_onload_callbacks.forEach(function(callback) {\n",
       "        if (callback != null)\n",
       "          callback();\n",
       "      });\n",
       "    } finally {\n",
       "      delete root._bokeh_onload_callbacks\n",
       "    }\n",
       "    console.debug(\"Bokeh: all callbacks have finished\");\n",
       "  }\n",
       "\n",
       "  function load_libs(css_urls, js_urls, callback) {\n",
       "    if (css_urls == null) css_urls = [];\n",
       "    if (js_urls == null) js_urls = [];\n",
       "\n",
       "    root._bokeh_onload_callbacks.push(callback);\n",
       "    if (root._bokeh_is_loading > 0) {\n",
       "      console.debug(\"Bokeh: BokehJS is being loaded, scheduling callback at\", now());\n",
       "      return null;\n",
       "    }\n",
       "    if (js_urls == null || js_urls.length === 0) {\n",
       "      run_callbacks();\n",
       "      return null;\n",
       "    }\n",
       "    console.debug(\"Bokeh: BokehJS not loaded, scheduling load and callback at\", now());\n",
       "    root._bokeh_is_loading = css_urls.length + js_urls.length;\n",
       "\n",
       "    function on_load() {\n",
       "      root._bokeh_is_loading--;\n",
       "      if (root._bokeh_is_loading === 0) {\n",
       "        console.debug(\"Bokeh: all BokehJS libraries/stylesheets loaded\");\n",
       "        run_callbacks()\n",
       "      }\n",
       "    }\n",
       "\n",
       "    function on_error() {\n",
       "      console.error(\"failed to load \" + url);\n",
       "    }\n",
       "\n",
       "    for (var i = 0; i < css_urls.length; i++) {\n",
       "      var url = css_urls[i];\n",
       "      const element = document.createElement(\"link\");\n",
       "      element.onload = on_load;\n",
       "      element.onerror = on_error;\n",
       "      element.rel = \"stylesheet\";\n",
       "      element.type = \"text/css\";\n",
       "      element.href = url;\n",
       "      console.debug(\"Bokeh: injecting link tag for BokehJS stylesheet: \", url);\n",
       "      document.body.appendChild(element);\n",
       "    }\n",
       "\n",
       "    const hashes = {\"https://cdn.bokeh.org/bokeh/release/bokeh-2.1.0.min.js\": \"YobFyzPeVUsFQydHkJGsJL1kyfHnWxOlPc3EwaV22TmBaeGoXHLWx5aRRVPS9xlE\", \"https://cdn.bokeh.org/bokeh/release/bokeh-widgets-2.1.0.min.js\": \"NuAg9+TcTQQqvQCTtkCneRrpkTiMhhfiq0KHiBzx8ECiKiLWXHN6i6ia3q7b3eHu\", \"https://cdn.bokeh.org/bokeh/release/bokeh-tables-2.1.0.min.js\": \"uMVqQc8JqHitD67bXTn9a06Mrk3EiHRaZ18EJENQenAKJ/KL71SakdXYomZQpGRr\", \"https://cdn.bokeh.org/bokeh/release/bokeh-gl-2.1.0.min.js\": \"u+eGuEXC8aw0VSCm2mH+b/tQEAitUOYiR1H6SuIVEdUmXsf4vN8m/SmXpmjb7U/X\"};\n",
       "\n",
       "    for (var i = 0; i < js_urls.length; i++) {\n",
       "      var url = js_urls[i];\n",
       "      var element = document.createElement('script');\n",
       "      element.onload = on_load;\n",
       "      element.onerror = on_error;\n",
       "      element.async = false;\n",
       "      element.src = url;\n",
       "      if (url in hashes) {\n",
       "        element.crossOrigin = \"anonymous\";\n",
       "        element.integrity = \"sha384-\" + hashes[url];\n",
       "      }\n",
       "      console.debug(\"Bokeh: injecting script tag for BokehJS library: \", url);\n",
       "      document.head.appendChild(element);\n",
       "    }\n",
       "  };\n",
       "\n",
       "  function inject_raw_css(css) {\n",
       "    const element = document.createElement(\"style\");\n",
       "    element.appendChild(document.createTextNode(css));\n",
       "    document.body.appendChild(element);\n",
       "  }\n",
       "\n",
       "  \n",
       "  var js_urls = [\"https://cdn.bokeh.org/bokeh/release/bokeh-2.1.0.min.js\", \"https://cdn.bokeh.org/bokeh/release/bokeh-widgets-2.1.0.min.js\", \"https://cdn.bokeh.org/bokeh/release/bokeh-tables-2.1.0.min.js\", \"https://cdn.bokeh.org/bokeh/release/bokeh-gl-2.1.0.min.js\", \"https://unpkg.com/@holoviz/panel@^0.9.5/dist/panel.min.js\"];\n",
       "  var css_urls = [];\n",
       "  \n",
       "\n",
       "  var inline_js = [\n",
       "    function(Bokeh) {\n",
       "      inject_raw_css(\"table.panel-df {\\n    margin-left: auto;\\n    margin-right: auto;\\n    border: none;\\n    border-collapse: collapse;\\n    border-spacing: 0;\\n    color: black;\\n    font-size: 12px;\\n    table-layout: fixed;\\n    width: 100%;\\n}\\n\\n.panel-df tr, th, td {\\n    text-align: right;\\n    vertical-align: middle;\\n    padding: 0.5em 0.5em !important;\\n    line-height: normal;\\n    white-space: normal;\\n    max-width: none;\\n    border: none;\\n}\\n\\n.panel-df tbody {\\n    display: table-row-group;\\n    vertical-align: middle;\\n    border-color: inherit;\\n}\\n\\n.panel-df tbody tr:nth-child(odd) {\\n    background: #f5f5f5;\\n}\\n\\n.panel-df thead {\\n    border-bottom: 1px solid black;\\n    vertical-align: bottom;\\n}\\n\\n.panel-df tr:hover {\\n    background: lightblue !important;\\n    cursor: pointer;\\n}\\n\");\n",
       "    },\n",
       "    function(Bokeh) {\n",
       "      inject_raw_css(\".json-formatter-row {\\n  font-family: monospace;\\n}\\n.json-formatter-row,\\n.json-formatter-row a,\\n.json-formatter-row a:hover {\\n  color: black;\\n  text-decoration: none;\\n}\\n.json-formatter-row .json-formatter-row {\\n  margin-left: 1rem;\\n}\\n.json-formatter-row .json-formatter-children.json-formatter-empty {\\n  opacity: 0.5;\\n  margin-left: 1rem;\\n}\\n.json-formatter-row .json-formatter-children.json-formatter-empty:after {\\n  display: none;\\n}\\n.json-formatter-row .json-formatter-children.json-formatter-empty.json-formatter-object:after {\\n  content: \\\"No properties\\\";\\n}\\n.json-formatter-row .json-formatter-children.json-formatter-empty.json-formatter-array:after {\\n  content: \\\"[]\\\";\\n}\\n.json-formatter-row .json-formatter-string,\\n.json-formatter-row .json-formatter-stringifiable {\\n  color: green;\\n  white-space: pre;\\n  word-wrap: break-word;\\n}\\n.json-formatter-row .json-formatter-number {\\n  color: blue;\\n}\\n.json-formatter-row .json-formatter-boolean {\\n  color: red;\\n}\\n.json-formatter-row .json-formatter-null {\\n  color: #855A00;\\n}\\n.json-formatter-row .json-formatter-undefined {\\n  color: #ca0b69;\\n}\\n.json-formatter-row .json-formatter-function {\\n  color: #FF20ED;\\n}\\n.json-formatter-row .json-formatter-date {\\n  background-color: rgba(0, 0, 0, 0.05);\\n}\\n.json-formatter-row .json-formatter-url {\\n  text-decoration: underline;\\n  color: blue;\\n  cursor: pointer;\\n}\\n.json-formatter-row .json-formatter-bracket {\\n  color: blue;\\n}\\n.json-formatter-row .json-formatter-key {\\n  color: #00008B;\\n  padding-right: 0.2rem;\\n}\\n.json-formatter-row .json-formatter-toggler-link {\\n  cursor: pointer;\\n}\\n.json-formatter-row .json-formatter-toggler {\\n  line-height: 1.2rem;\\n  font-size: 0.7rem;\\n  vertical-align: middle;\\n  opacity: 0.6;\\n  cursor: pointer;\\n  padding-right: 0.2rem;\\n}\\n.json-formatter-row .json-formatter-toggler:after {\\n  display: inline-block;\\n  transition: transform 100ms ease-in;\\n  content: \\\"\\\\25BA\\\";\\n}\\n.json-formatter-row > a > .json-formatter-preview-text {\\n  opacity: 0;\\n  transition: opacity 0.15s ease-in;\\n  font-style: italic;\\n}\\n.json-formatter-row:hover > a > .json-formatter-preview-text {\\n  opacity: 0.6;\\n}\\n.json-formatter-row.json-formatter-open > .json-formatter-toggler-link .json-formatter-toggler:after {\\n  transform: rotate(90deg);\\n}\\n.json-formatter-row.json-formatter-open > .json-formatter-children:after {\\n  display: inline-block;\\n}\\n.json-formatter-row.json-formatter-open > a > .json-formatter-preview-text {\\n  display: none;\\n}\\n.json-formatter-row.json-formatter-open.json-formatter-empty:after {\\n  display: block;\\n}\\n.json-formatter-dark.json-formatter-row {\\n  font-family: monospace;\\n}\\n.json-formatter-dark.json-formatter-row,\\n.json-formatter-dark.json-formatter-row a,\\n.json-formatter-dark.json-formatter-row a:hover {\\n  color: white;\\n  text-decoration: none;\\n}\\n.json-formatter-dark.json-formatter-row .json-formatter-row {\\n  margin-left: 1rem;\\n}\\n.json-formatter-dark.json-formatter-row .json-formatter-children.json-formatter-empty {\\n  opacity: 0.5;\\n  margin-left: 1rem;\\n}\\n.json-formatter-dark.json-formatter-row .json-formatter-children.json-formatter-empty:after {\\n  display: none;\\n}\\n.json-formatter-dark.json-formatter-row .json-formatter-children.json-formatter-empty.json-formatter-object:after {\\n  content: \\\"No properties\\\";\\n}\\n.json-formatter-dark.json-formatter-row .json-formatter-children.json-formatter-empty.json-formatter-array:after {\\n  content: \\\"[]\\\";\\n}\\n.json-formatter-dark.json-formatter-row .json-formatter-string,\\n.json-formatter-dark.json-formatter-row .json-formatter-stringifiable {\\n  color: #31F031;\\n  white-space: pre;\\n  word-wrap: break-word;\\n}\\n.json-formatter-dark.json-formatter-row .json-formatter-number {\\n  color: #66C2FF;\\n}\\n.json-formatter-dark.json-formatter-row .json-formatter-boolean {\\n  color: #EC4242;\\n}\\n.json-formatter-dark.json-formatter-row .json-formatter-null {\\n  color: #EEC97D;\\n}\\n.json-formatter-dark.json-formatter-row .json-formatter-undefined {\\n  color: #ef8fbe;\\n}\\n.json-formatter-dark.json-formatter-row .json-formatter-function {\\n  color: #FD48CB;\\n}\\n.json-formatter-dark.json-formatter-row .json-formatter-date {\\n  background-color: rgba(255, 255, 255, 0.05);\\n}\\n.json-formatter-dark.json-formatter-row .json-formatter-url {\\n  text-decoration: underline;\\n  color: #027BFF;\\n  cursor: pointer;\\n}\\n.json-formatter-dark.json-formatter-row .json-formatter-bracket {\\n  color: #9494FF;\\n}\\n.json-formatter-dark.json-formatter-row .json-formatter-key {\\n  color: #23A0DB;\\n  padding-right: 0.2rem;\\n}\\n.json-formatter-dark.json-formatter-row .json-formatter-toggler-link {\\n  cursor: pointer;\\n}\\n.json-formatter-dark.json-formatter-row .json-formatter-toggler {\\n  line-height: 1.2rem;\\n  font-size: 0.7rem;\\n  vertical-align: middle;\\n  opacity: 0.6;\\n  cursor: pointer;\\n  padding-right: 0.2rem;\\n}\\n.json-formatter-dark.json-formatter-row .json-formatter-toggler:after {\\n  display: inline-block;\\n  transition: transform 100ms ease-in;\\n  content: \\\"\\\\25BA\\\";\\n}\\n.json-formatter-dark.json-formatter-row > a > .json-formatter-preview-text {\\n  opacity: 0;\\n  transition: opacity 0.15s ease-in;\\n  font-style: italic;\\n}\\n.json-formatter-dark.json-formatter-row:hover > a > .json-formatter-preview-text {\\n  opacity: 0.6;\\n}\\n.json-formatter-dark.json-formatter-row.json-formatter-open > .json-formatter-toggler-link .json-formatter-toggler:after {\\n  transform: rotate(90deg);\\n}\\n.json-formatter-dark.json-formatter-row.json-formatter-open > .json-formatter-children:after {\\n  display: inline-block;\\n}\\n.json-formatter-dark.json-formatter-row.json-formatter-open > a > .json-formatter-preview-text {\\n  display: none;\\n}\\n.json-formatter-dark.json-formatter-row.json-formatter-open.json-formatter-empty:after {\\n  display: block;\\n}\\n\");\n",
       "    },\n",
       "    function(Bokeh) {\n",
       "      inject_raw_css(\".codehilite .hll { background-color: #ffffcc }\\n.codehilite  { background: #f8f8f8; }\\n.codehilite .c { color: #408080; font-style: italic } /* Comment */\\n.codehilite .err { border: 1px solid #FF0000 } /* Error */\\n.codehilite .k { color: #008000; font-weight: bold } /* Keyword */\\n.codehilite .o { color: #666666 } /* Operator */\\n.codehilite .ch { color: #408080; font-style: italic } /* Comment.Hashbang */\\n.codehilite .cm { color: #408080; font-style: italic } /* Comment.Multiline */\\n.codehilite .cp { color: #BC7A00 } /* Comment.Preproc */\\n.codehilite .cpf { color: #408080; font-style: italic } /* Comment.PreprocFile */\\n.codehilite .c1 { color: #408080; font-style: italic } /* Comment.Single */\\n.codehilite .cs { color: #408080; font-style: italic } /* Comment.Special */\\n.codehilite .gd { color: #A00000 } /* Generic.Deleted */\\n.codehilite .ge { font-style: italic } /* Generic.Emph */\\n.codehilite .gr { color: #FF0000 } /* Generic.Error */\\n.codehilite .gh { color: #000080; font-weight: bold } /* Generic.Heading */\\n.codehilite .gi { color: #00A000 } /* Generic.Inserted */\\n.codehilite .go { color: #888888 } /* Generic.Output */\\n.codehilite .gp { color: #000080; font-weight: bold } /* Generic.Prompt */\\n.codehilite .gs { font-weight: bold } /* Generic.Strong */\\n.codehilite .gu { color: #800080; font-weight: bold } /* Generic.Subheading */\\n.codehilite .gt { color: #0044DD } /* Generic.Traceback */\\n.codehilite .kc { color: #008000; font-weight: bold } /* Keyword.Constant */\\n.codehilite .kd { color: #008000; font-weight: bold } /* Keyword.Declaration */\\n.codehilite .kn { color: #008000; font-weight: bold } /* Keyword.Namespace */\\n.codehilite .kp { color: #008000 } /* Keyword.Pseudo */\\n.codehilite .kr { color: #008000; font-weight: bold } /* Keyword.Reserved */\\n.codehilite .kt { color: #B00040 } /* Keyword.Type */\\n.codehilite .m { color: #666666 } /* Literal.Number */\\n.codehilite .s { color: #BA2121 } /* Literal.String */\\n.codehilite .na { color: #7D9029 } /* Name.Attribute */\\n.codehilite .nb { color: #008000 } /* Name.Builtin */\\n.codehilite .nc { color: #0000FF; font-weight: bold } /* Name.Class */\\n.codehilite .no { color: #880000 } /* Name.Constant */\\n.codehilite .nd { color: #AA22FF } /* Name.Decorator */\\n.codehilite .ni { color: #999999; font-weight: bold } /* Name.Entity */\\n.codehilite .ne { color: #D2413A; font-weight: bold } /* Name.Exception */\\n.codehilite .nf { color: #0000FF } /* Name.Function */\\n.codehilite .nl { color: #A0A000 } /* Name.Label */\\n.codehilite .nn { color: #0000FF; font-weight: bold } /* Name.Namespace */\\n.codehilite .nt { color: #008000; font-weight: bold } /* Name.Tag */\\n.codehilite .nv { color: #19177C } /* Name.Variable */\\n.codehilite .ow { color: #AA22FF; font-weight: bold } /* Operator.Word */\\n.codehilite .w { color: #bbbbbb } /* Text.Whitespace */\\n.codehilite .mb { color: #666666 } /* Literal.Number.Bin */\\n.codehilite .mf { color: #666666 } /* Literal.Number.Float */\\n.codehilite .mh { color: #666666 } /* Literal.Number.Hex */\\n.codehilite .mi { color: #666666 } /* Literal.Number.Integer */\\n.codehilite .mo { color: #666666 } /* Literal.Number.Oct */\\n.codehilite .sa { color: #BA2121 } /* Literal.String.Affix */\\n.codehilite .sb { color: #BA2121 } /* Literal.String.Backtick */\\n.codehilite .sc { color: #BA2121 } /* Literal.String.Char */\\n.codehilite .dl { color: #BA2121 } /* Literal.String.Delimiter */\\n.codehilite .sd { color: #BA2121; font-style: italic } /* Literal.String.Doc */\\n.codehilite .s2 { color: #BA2121 } /* Literal.String.Double */\\n.codehilite .se { color: #BB6622; font-weight: bold } /* Literal.String.Escape */\\n.codehilite .sh { color: #BA2121 } /* Literal.String.Heredoc */\\n.codehilite .si { color: #BB6688; font-weight: bold } /* Literal.String.Interpol */\\n.codehilite .sx { color: #008000 } /* Literal.String.Other */\\n.codehilite .sr { color: #BB6688 } /* Literal.String.Regex */\\n.codehilite .s1 { color: #BA2121 } /* Literal.String.Single */\\n.codehilite .ss { color: #19177C } /* Literal.String.Symbol */\\n.codehilite .bp { color: #008000 } /* Name.Builtin.Pseudo */\\n.codehilite .fm { color: #0000FF } /* Name.Function.Magic */\\n.codehilite .vc { color: #19177C } /* Name.Variable.Class */\\n.codehilite .vg { color: #19177C } /* Name.Variable.Global */\\n.codehilite .vi { color: #19177C } /* Name.Variable.Instance */\\n.codehilite .vm { color: #19177C } /* Name.Variable.Magic */\\n.codehilite .il { color: #666666 } /* Literal.Number.Integer.Long */\\n\\n.markdown h1 { margin-block-start: 0.34em }\\n.markdown h2 { margin-block-start: 0.42em }\\n.markdown h3 { margin-block-start: 0.5em }\\n.markdown h4 { margin-block-start: 0.67em }\\n.markdown h5 { margin-block-start: 0.84em }\\n.markdown h6 { margin-block-start: 1.17em }\\n.markdown ul { padding-inline-start: 2em }\\n.markdown ol { padding-inline-start: 2em }\\n.markdown strong { font-weight: 600 }\\n.markdown a { color: -webkit-link }\\n.markdown a { color: -moz-hyperlinkText }\\n\");\n",
       "    },\n",
       "    function(Bokeh) {\n",
       "      inject_raw_css(\".widget-box {\\n\\tmin-height: 20px;\\n\\tbackground-color: #f5f5f5;\\n\\tborder: 1px solid #e3e3e3 !important;\\n\\tborder-radius: 4px;\\n\\t-webkit-box-shadow: inset 0 1px 1px rgba(0,0,0,.05);\\n\\tbox-shadow: inset 0 1px 1px rgba(0,0,0,.05);\\n\\toverflow-x: hidden;\\n\\toverflow-y: hidden;\\n}\\n\\n.scrollable {\\n  overflow: scroll;\\n}\\n\\nprogress {\\n\\tappearance: none;\\n\\t-moz-appearance: none;\\n\\t-webkit-appearance: none;\\n\\n\\tborder: none;\\n\\theight: 20px;\\n\\tbackground-color: whiteSmoke;\\n\\tborder-radius: 3px;\\n\\tbox-shadow: 0 2px 3px rgba(0,0,0,.5) inset;\\n\\tcolor: royalblue;\\n\\tposition: relative;\\n\\tmargin: 0 0 1.5em;\\n}\\n\\nprogress[value]::-webkit-progress-bar {\\n\\tbackground-color: whiteSmoke;\\n\\tborder-radius: 3px;\\n\\tbox-shadow: 0 2px 3px rgba(0,0,0,.5) inset;\\n}\\n\\nprogress[value]::-webkit-progress-value {\\n\\tposition: relative;\\n\\n\\tbackground-size: 35px 20px, 100% 100%, 100% 100%;\\n\\tborder-radius:3px;\\n}\\n\\nprogress.active:not([value])::before {\\n\\tbackground-position: 10%;\\n\\tanimation-name: stripes;\\n\\tanimation-duration: 3s;\\n\\tanimation-timing-function: linear;\\n\\tanimation-iteration-count: infinite;\\n}\\n\\nprogress[value]::-moz-progress-bar {\\n\\tbackground-size: 35px 20px, 100% 100%, 100% 100%;\\n\\tborder-radius:3px;\\n}\\n\\nprogress:not([value])::-moz-progress-bar {\\n\\tborder-radius:3px;\\n\\tbackground:\\n\\tlinear-gradient(-45deg, transparent 33%, rgba(0, 0, 0, 0.2) 33%, rgba(0, 0, 0, 0.2) 66%, transparent 66%) left/2.5em 1.5em;\\n\\n}\\n\\nprogress.active:not([value])::-moz-progress-bar {\\n\\tbackground-position: 10%;\\n\\tanimation-name: stripes;\\n\\tanimation-duration: 3s;\\n\\tanimation-timing-function: linear;\\n\\tanimation-iteration-count: infinite;\\n}\\n\\nprogress.active:not([value])::-webkit-progress-bar {\\n\\tbackground-position: 10%;\\n\\tanimation-name: stripes;\\n\\tanimation-duration: 3s;\\n\\tanimation-timing-function: linear;\\n\\tanimation-iteration-count: infinite;\\n}\\n\\nprogress.primary[value]::-webkit-progress-value { background-color: #007bff; }\\nprogress.primary:not([value])::before { background-color: #007bff; }\\nprogress.primary:not([value])::-webkit-progress-bar { background-color: #007bff; }\\nprogress.primary::-moz-progress-bar { background-color: #007bff; }\\n\\nprogress.secondary[value]::-webkit-progress-value { background-color: #6c757d; }\\nprogress.secondary:not([value])::before { background-color: #6c757d; }\\nprogress.secondary:not([value])::-webkit-progress-bar { background-color: #6c757d; }\\nprogress.secondary::-moz-progress-bar { background-color: #6c757d; }\\n\\nprogress.success[value]::-webkit-progress-value { background-color: #28a745; }\\nprogress.success:not([value])::before { background-color: #28a745; }\\nprogress.success:not([value])::-webkit-progress-bar { background-color: #28a745; }\\nprogress.success::-moz-progress-bar { background-color: #28a745; }\\n\\nprogress.danger[value]::-webkit-progress-value { background-color: #dc3545; }\\nprogress.danger:not([value])::before { background-color: #dc3545; }\\nprogress.danger:not([value])::-webkit-progress-bar { background-color: #dc3545; }\\nprogress.danger::-moz-progress-bar { background-color: #dc3545; }\\n\\nprogress.warning[value]::-webkit-progress-value { background-color: #ffc107; }\\nprogress.warning:not([value])::before { background-color: #ffc107; }\\nprogress.warning:not([value])::-webkit-progress-bar { background-color: #ffc107; }\\nprogress.warning::-moz-progress-bar { background-color: #ffc107; }\\n\\nprogress.info[value]::-webkit-progress-value { background-color: #17a2b8; }\\nprogress.info:not([value])::before { background-color: #17a2b8; }\\nprogress.info:not([value])::-webkit-progress-bar { background-color: #17a2b8; }\\nprogress.info::-moz-progress-bar { background-color: #17a2b8; }\\n\\nprogress.light[value]::-webkit-progress-value { background-color: #f8f9fa; }\\nprogress.light:not([value])::before { background-color: #f8f9fa; }\\nprogress.light:not([value])::-webkit-progress-bar { background-color: #f8f9fa; }\\nprogress.light::-moz-progress-bar { background-color: #f8f9fa; }\\n\\nprogress.dark[value]::-webkit-progress-value { background-color: #343a40; }\\nprogress.dark:not([value])::-webkit-progress-bar { background-color: #343a40; }\\nprogress.dark:not([value])::before { background-color: #343a40; }\\nprogress.dark::-moz-progress-bar { background-color: #343a40; }\\n\\nprogress:not([value])::-webkit-progress-bar {\\n\\tborder-radius: 3px;\\n\\tbackground:\\n\\tlinear-gradient(-45deg, transparent 33%, rgba(0, 0, 0, 0.2) 33%, rgba(0, 0, 0, 0.2) 66%, transparent 66%) left/2.5em 1.5em;\\n}\\nprogress:not([value])::before {\\n\\tcontent:\\\" \\\";\\n\\tposition:absolute;\\n\\theight: 20px;\\n\\ttop:0;\\n\\tleft:0;\\n\\tright:0;\\n\\tbottom:0;\\n\\tborder-radius: 3px;\\n\\tbackground:\\n\\tlinear-gradient(-45deg, transparent 33%, rgba(0, 0, 0, 0.2) 33%, rgba(0, 0, 0, 0.2) 66%, transparent 66%) left/2.5em 1.5em;\\n}\\n\\n@keyframes stripes {\\n  from {background-position: 0%}\\n  to {background-position: 100%}\\n}\");\n",
       "    },\n",
       "    function(Bokeh) {\n",
       "      Bokeh.set_log_level(\"info\");\n",
       "    },\n",
       "    function(Bokeh) {\n",
       "    \n",
       "    \n",
       "    }\n",
       "  ];\n",
       "\n",
       "  function run_inline_js() {\n",
       "    \n",
       "    if (root.Bokeh !== undefined || force === true) {\n",
       "      \n",
       "    for (var i = 0; i < inline_js.length; i++) {\n",
       "      inline_js[i].call(root, root.Bokeh);\n",
       "    }\n",
       "    if (force === true) {\n",
       "        display_loaded();\n",
       "      }} else if (Date.now() < root._bokeh_timeout) {\n",
       "      setTimeout(run_inline_js, 100);\n",
       "    } else if (!root._bokeh_failed_load) {\n",
       "      console.log(\"Bokeh: BokehJS failed to load within specified timeout.\");\n",
       "      root._bokeh_failed_load = true;\n",
       "    } else if (force !== true) {\n",
       "      var cell = $(document.getElementById(\"1143\")).parents('.cell').data().cell;\n",
       "      cell.output_area.append_execute_result(NB_LOAD_WARNING)\n",
       "    }\n",
       "\n",
       "  }\n",
       "\n",
       "  if (root._bokeh_is_loading === 0) {\n",
       "    console.debug(\"Bokeh: BokehJS loaded, going straight to plotting\");\n",
       "    run_inline_js();\n",
       "  } else {\n",
       "    load_libs(css_urls, js_urls, function() {\n",
       "      console.debug(\"Bokeh: BokehJS plotting callback run at\", now());\n",
       "      run_inline_js();\n",
       "    });\n",
       "  }\n",
       "}(window));"
      ],
      "application/vnd.bokehjs_load.v0+json": "\n(function(root) {\n  function now() {\n    return new Date();\n  }\n\n  var force = true;\n\n  if (typeof root._bokeh_onload_callbacks === \"undefined\" || force === true) {\n    root._bokeh_onload_callbacks = [];\n    root._bokeh_is_loading = undefined;\n  }\n\n  \n\n  \n  if (typeof (root._bokeh_timeout) === \"undefined\" || force === true) {\n    root._bokeh_timeout = Date.now() + 5000;\n    root._bokeh_failed_load = false;\n  }\n\n  var NB_LOAD_WARNING = {'data': {'text/html':\n     \"<div style='background-color: #fdd'>\\n\"+\n     \"<p>\\n\"+\n     \"BokehJS does not appear to have successfully loaded. If loading BokehJS from CDN, this \\n\"+\n     \"may be due to a slow or bad network connection. Possible fixes:\\n\"+\n     \"</p>\\n\"+\n     \"<ul>\\n\"+\n     \"<li>re-rerun `output_notebook()` to attempt to load from CDN again, or</li>\\n\"+\n     \"<li>use INLINE resources instead, as so:</li>\\n\"+\n     \"</ul>\\n\"+\n     \"<code>\\n\"+\n     \"from bokeh.resources import INLINE\\n\"+\n     \"output_notebook(resources=INLINE)\\n\"+\n     \"</code>\\n\"+\n     \"</div>\"}};\n\n  function display_loaded() {\n    var el = document.getElementById(\"1143\");\n    if (el != null) {\n      el.textContent = \"BokehJS is loading...\";\n    }\n    if (root.Bokeh !== undefined) {\n      if (el != null) {\n        el.textContent = \"BokehJS \" + root.Bokeh.version + \" successfully loaded.\";\n      }\n    } else if (Date.now() < root._bokeh_timeout) {\n      setTimeout(display_loaded, 100)\n    }\n  }\n\n\n  function run_callbacks() {\n    try {\n      root._bokeh_onload_callbacks.forEach(function(callback) {\n        if (callback != null)\n          callback();\n      });\n    } finally {\n      delete root._bokeh_onload_callbacks\n    }\n    console.debug(\"Bokeh: all callbacks have finished\");\n  }\n\n  function load_libs(css_urls, js_urls, callback) {\n    if (css_urls == null) css_urls = [];\n    if (js_urls == null) js_urls = [];\n\n    root._bokeh_onload_callbacks.push(callback);\n    if (root._bokeh_is_loading > 0) {\n      console.debug(\"Bokeh: BokehJS is being loaded, scheduling callback at\", now());\n      return null;\n    }\n    if (js_urls == null || js_urls.length === 0) {\n      run_callbacks();\n      return null;\n    }\n    console.debug(\"Bokeh: BokehJS not loaded, scheduling load and callback at\", now());\n    root._bokeh_is_loading = css_urls.length + js_urls.length;\n\n    function on_load() {\n      root._bokeh_is_loading--;\n      if (root._bokeh_is_loading === 0) {\n        console.debug(\"Bokeh: all BokehJS libraries/stylesheets loaded\");\n        run_callbacks()\n      }\n    }\n\n    function on_error() {\n      console.error(\"failed to load \" + url);\n    }\n\n    for (var i = 0; i < css_urls.length; i++) {\n      var url = css_urls[i];\n      const element = document.createElement(\"link\");\n      element.onload = on_load;\n      element.onerror = on_error;\n      element.rel = \"stylesheet\";\n      element.type = \"text/css\";\n      element.href = url;\n      console.debug(\"Bokeh: injecting link tag for BokehJS stylesheet: \", url);\n      document.body.appendChild(element);\n    }\n\n    const hashes = {\"https://cdn.bokeh.org/bokeh/release/bokeh-2.1.0.min.js\": \"YobFyzPeVUsFQydHkJGsJL1kyfHnWxOlPc3EwaV22TmBaeGoXHLWx5aRRVPS9xlE\", \"https://cdn.bokeh.org/bokeh/release/bokeh-widgets-2.1.0.min.js\": \"NuAg9+TcTQQqvQCTtkCneRrpkTiMhhfiq0KHiBzx8ECiKiLWXHN6i6ia3q7b3eHu\", \"https://cdn.bokeh.org/bokeh/release/bokeh-tables-2.1.0.min.js\": \"uMVqQc8JqHitD67bXTn9a06Mrk3EiHRaZ18EJENQenAKJ/KL71SakdXYomZQpGRr\", \"https://cdn.bokeh.org/bokeh/release/bokeh-gl-2.1.0.min.js\": \"u+eGuEXC8aw0VSCm2mH+b/tQEAitUOYiR1H6SuIVEdUmXsf4vN8m/SmXpmjb7U/X\"};\n\n    for (var i = 0; i < js_urls.length; i++) {\n      var url = js_urls[i];\n      var element = document.createElement('script');\n      element.onload = on_load;\n      element.onerror = on_error;\n      element.async = false;\n      element.src = url;\n      if (url in hashes) {\n        element.crossOrigin = \"anonymous\";\n        element.integrity = \"sha384-\" + hashes[url];\n      }\n      console.debug(\"Bokeh: injecting script tag for BokehJS library: \", url);\n      document.head.appendChild(element);\n    }\n  };\n\n  function inject_raw_css(css) {\n    const element = document.createElement(\"style\");\n    element.appendChild(document.createTextNode(css));\n    document.body.appendChild(element);\n  }\n\n  \n  var js_urls = [\"https://cdn.bokeh.org/bokeh/release/bokeh-2.1.0.min.js\", \"https://cdn.bokeh.org/bokeh/release/bokeh-widgets-2.1.0.min.js\", \"https://cdn.bokeh.org/bokeh/release/bokeh-tables-2.1.0.min.js\", \"https://cdn.bokeh.org/bokeh/release/bokeh-gl-2.1.0.min.js\", \"https://unpkg.com/@holoviz/panel@^0.9.5/dist/panel.min.js\"];\n  var css_urls = [];\n  \n\n  var inline_js = [\n    function(Bokeh) {\n      inject_raw_css(\"table.panel-df {\\n    margin-left: auto;\\n    margin-right: auto;\\n    border: none;\\n    border-collapse: collapse;\\n    border-spacing: 0;\\n    color: black;\\n    font-size: 12px;\\n    table-layout: fixed;\\n    width: 100%;\\n}\\n\\n.panel-df tr, th, td {\\n    text-align: right;\\n    vertical-align: middle;\\n    padding: 0.5em 0.5em !important;\\n    line-height: normal;\\n    white-space: normal;\\n    max-width: none;\\n    border: none;\\n}\\n\\n.panel-df tbody {\\n    display: table-row-group;\\n    vertical-align: middle;\\n    border-color: inherit;\\n}\\n\\n.panel-df tbody tr:nth-child(odd) {\\n    background: #f5f5f5;\\n}\\n\\n.panel-df thead {\\n    border-bottom: 1px solid black;\\n    vertical-align: bottom;\\n}\\n\\n.panel-df tr:hover {\\n    background: lightblue !important;\\n    cursor: pointer;\\n}\\n\");\n    },\n    function(Bokeh) {\n      inject_raw_css(\".json-formatter-row {\\n  font-family: monospace;\\n}\\n.json-formatter-row,\\n.json-formatter-row a,\\n.json-formatter-row a:hover {\\n  color: black;\\n  text-decoration: none;\\n}\\n.json-formatter-row .json-formatter-row {\\n  margin-left: 1rem;\\n}\\n.json-formatter-row .json-formatter-children.json-formatter-empty {\\n  opacity: 0.5;\\n  margin-left: 1rem;\\n}\\n.json-formatter-row .json-formatter-children.json-formatter-empty:after {\\n  display: none;\\n}\\n.json-formatter-row .json-formatter-children.json-formatter-empty.json-formatter-object:after {\\n  content: \\\"No properties\\\";\\n}\\n.json-formatter-row .json-formatter-children.json-formatter-empty.json-formatter-array:after {\\n  content: \\\"[]\\\";\\n}\\n.json-formatter-row .json-formatter-string,\\n.json-formatter-row .json-formatter-stringifiable {\\n  color: green;\\n  white-space: pre;\\n  word-wrap: break-word;\\n}\\n.json-formatter-row .json-formatter-number {\\n  color: blue;\\n}\\n.json-formatter-row .json-formatter-boolean {\\n  color: red;\\n}\\n.json-formatter-row .json-formatter-null {\\n  color: #855A00;\\n}\\n.json-formatter-row .json-formatter-undefined {\\n  color: #ca0b69;\\n}\\n.json-formatter-row .json-formatter-function {\\n  color: #FF20ED;\\n}\\n.json-formatter-row .json-formatter-date {\\n  background-color: rgba(0, 0, 0, 0.05);\\n}\\n.json-formatter-row .json-formatter-url {\\n  text-decoration: underline;\\n  color: blue;\\n  cursor: pointer;\\n}\\n.json-formatter-row .json-formatter-bracket {\\n  color: blue;\\n}\\n.json-formatter-row .json-formatter-key {\\n  color: #00008B;\\n  padding-right: 0.2rem;\\n}\\n.json-formatter-row .json-formatter-toggler-link {\\n  cursor: pointer;\\n}\\n.json-formatter-row .json-formatter-toggler {\\n  line-height: 1.2rem;\\n  font-size: 0.7rem;\\n  vertical-align: middle;\\n  opacity: 0.6;\\n  cursor: pointer;\\n  padding-right: 0.2rem;\\n}\\n.json-formatter-row .json-formatter-toggler:after {\\n  display: inline-block;\\n  transition: transform 100ms ease-in;\\n  content: \\\"\\\\25BA\\\";\\n}\\n.json-formatter-row > a > .json-formatter-preview-text {\\n  opacity: 0;\\n  transition: opacity 0.15s ease-in;\\n  font-style: italic;\\n}\\n.json-formatter-row:hover > a > .json-formatter-preview-text {\\n  opacity: 0.6;\\n}\\n.json-formatter-row.json-formatter-open > .json-formatter-toggler-link .json-formatter-toggler:after {\\n  transform: rotate(90deg);\\n}\\n.json-formatter-row.json-formatter-open > .json-formatter-children:after {\\n  display: inline-block;\\n}\\n.json-formatter-row.json-formatter-open > a > .json-formatter-preview-text {\\n  display: none;\\n}\\n.json-formatter-row.json-formatter-open.json-formatter-empty:after {\\n  display: block;\\n}\\n.json-formatter-dark.json-formatter-row {\\n  font-family: monospace;\\n}\\n.json-formatter-dark.json-formatter-row,\\n.json-formatter-dark.json-formatter-row a,\\n.json-formatter-dark.json-formatter-row a:hover {\\n  color: white;\\n  text-decoration: none;\\n}\\n.json-formatter-dark.json-formatter-row .json-formatter-row {\\n  margin-left: 1rem;\\n}\\n.json-formatter-dark.json-formatter-row .json-formatter-children.json-formatter-empty {\\n  opacity: 0.5;\\n  margin-left: 1rem;\\n}\\n.json-formatter-dark.json-formatter-row .json-formatter-children.json-formatter-empty:after {\\n  display: none;\\n}\\n.json-formatter-dark.json-formatter-row .json-formatter-children.json-formatter-empty.json-formatter-object:after {\\n  content: \\\"No properties\\\";\\n}\\n.json-formatter-dark.json-formatter-row .json-formatter-children.json-formatter-empty.json-formatter-array:after {\\n  content: \\\"[]\\\";\\n}\\n.json-formatter-dark.json-formatter-row .json-formatter-string,\\n.json-formatter-dark.json-formatter-row .json-formatter-stringifiable {\\n  color: #31F031;\\n  white-space: pre;\\n  word-wrap: break-word;\\n}\\n.json-formatter-dark.json-formatter-row .json-formatter-number {\\n  color: #66C2FF;\\n}\\n.json-formatter-dark.json-formatter-row .json-formatter-boolean {\\n  color: #EC4242;\\n}\\n.json-formatter-dark.json-formatter-row .json-formatter-null {\\n  color: #EEC97D;\\n}\\n.json-formatter-dark.json-formatter-row .json-formatter-undefined {\\n  color: #ef8fbe;\\n}\\n.json-formatter-dark.json-formatter-row .json-formatter-function {\\n  color: #FD48CB;\\n}\\n.json-formatter-dark.json-formatter-row .json-formatter-date {\\n  background-color: rgba(255, 255, 255, 0.05);\\n}\\n.json-formatter-dark.json-formatter-row .json-formatter-url {\\n  text-decoration: underline;\\n  color: #027BFF;\\n  cursor: pointer;\\n}\\n.json-formatter-dark.json-formatter-row .json-formatter-bracket {\\n  color: #9494FF;\\n}\\n.json-formatter-dark.json-formatter-row .json-formatter-key {\\n  color: #23A0DB;\\n  padding-right: 0.2rem;\\n}\\n.json-formatter-dark.json-formatter-row .json-formatter-toggler-link {\\n  cursor: pointer;\\n}\\n.json-formatter-dark.json-formatter-row .json-formatter-toggler {\\n  line-height: 1.2rem;\\n  font-size: 0.7rem;\\n  vertical-align: middle;\\n  opacity: 0.6;\\n  cursor: pointer;\\n  padding-right: 0.2rem;\\n}\\n.json-formatter-dark.json-formatter-row .json-formatter-toggler:after {\\n  display: inline-block;\\n  transition: transform 100ms ease-in;\\n  content: \\\"\\\\25BA\\\";\\n}\\n.json-formatter-dark.json-formatter-row > a > .json-formatter-preview-text {\\n  opacity: 0;\\n  transition: opacity 0.15s ease-in;\\n  font-style: italic;\\n}\\n.json-formatter-dark.json-formatter-row:hover > a > .json-formatter-preview-text {\\n  opacity: 0.6;\\n}\\n.json-formatter-dark.json-formatter-row.json-formatter-open > .json-formatter-toggler-link .json-formatter-toggler:after {\\n  transform: rotate(90deg);\\n}\\n.json-formatter-dark.json-formatter-row.json-formatter-open > .json-formatter-children:after {\\n  display: inline-block;\\n}\\n.json-formatter-dark.json-formatter-row.json-formatter-open > a > .json-formatter-preview-text {\\n  display: none;\\n}\\n.json-formatter-dark.json-formatter-row.json-formatter-open.json-formatter-empty:after {\\n  display: block;\\n}\\n\");\n    },\n    function(Bokeh) {\n      inject_raw_css(\".codehilite .hll { background-color: #ffffcc }\\n.codehilite  { background: #f8f8f8; }\\n.codehilite .c { color: #408080; font-style: italic } /* Comment */\\n.codehilite .err { border: 1px solid #FF0000 } /* Error */\\n.codehilite .k { color: #008000; font-weight: bold } /* Keyword */\\n.codehilite .o { color: #666666 } /* Operator */\\n.codehilite .ch { color: #408080; font-style: italic } /* Comment.Hashbang */\\n.codehilite .cm { color: #408080; font-style: italic } /* Comment.Multiline */\\n.codehilite .cp { color: #BC7A00 } /* Comment.Preproc */\\n.codehilite .cpf { color: #408080; font-style: italic } /* Comment.PreprocFile */\\n.codehilite .c1 { color: #408080; font-style: italic } /* Comment.Single */\\n.codehilite .cs { color: #408080; font-style: italic } /* Comment.Special */\\n.codehilite .gd { color: #A00000 } /* Generic.Deleted */\\n.codehilite .ge { font-style: italic } /* Generic.Emph */\\n.codehilite .gr { color: #FF0000 } /* Generic.Error */\\n.codehilite .gh { color: #000080; font-weight: bold } /* Generic.Heading */\\n.codehilite .gi { color: #00A000 } /* Generic.Inserted */\\n.codehilite .go { color: #888888 } /* Generic.Output */\\n.codehilite .gp { color: #000080; font-weight: bold } /* Generic.Prompt */\\n.codehilite .gs { font-weight: bold } /* Generic.Strong */\\n.codehilite .gu { color: #800080; font-weight: bold } /* Generic.Subheading */\\n.codehilite .gt { color: #0044DD } /* Generic.Traceback */\\n.codehilite .kc { color: #008000; font-weight: bold } /* Keyword.Constant */\\n.codehilite .kd { color: #008000; font-weight: bold } /* Keyword.Declaration */\\n.codehilite .kn { color: #008000; font-weight: bold } /* Keyword.Namespace */\\n.codehilite .kp { color: #008000 } /* Keyword.Pseudo */\\n.codehilite .kr { color: #008000; font-weight: bold } /* Keyword.Reserved */\\n.codehilite .kt { color: #B00040 } /* Keyword.Type */\\n.codehilite .m { color: #666666 } /* Literal.Number */\\n.codehilite .s { color: #BA2121 } /* Literal.String */\\n.codehilite .na { color: #7D9029 } /* Name.Attribute */\\n.codehilite .nb { color: #008000 } /* Name.Builtin */\\n.codehilite .nc { color: #0000FF; font-weight: bold } /* Name.Class */\\n.codehilite .no { color: #880000 } /* Name.Constant */\\n.codehilite .nd { color: #AA22FF } /* Name.Decorator */\\n.codehilite .ni { color: #999999; font-weight: bold } /* Name.Entity */\\n.codehilite .ne { color: #D2413A; font-weight: bold } /* Name.Exception */\\n.codehilite .nf { color: #0000FF } /* Name.Function */\\n.codehilite .nl { color: #A0A000 } /* Name.Label */\\n.codehilite .nn { color: #0000FF; font-weight: bold } /* Name.Namespace */\\n.codehilite .nt { color: #008000; font-weight: bold } /* Name.Tag */\\n.codehilite .nv { color: #19177C } /* Name.Variable */\\n.codehilite .ow { color: #AA22FF; font-weight: bold } /* Operator.Word */\\n.codehilite .w { color: #bbbbbb } /* Text.Whitespace */\\n.codehilite .mb { color: #666666 } /* Literal.Number.Bin */\\n.codehilite .mf { color: #666666 } /* Literal.Number.Float */\\n.codehilite .mh { color: #666666 } /* Literal.Number.Hex */\\n.codehilite .mi { color: #666666 } /* Literal.Number.Integer */\\n.codehilite .mo { color: #666666 } /* Literal.Number.Oct */\\n.codehilite .sa { color: #BA2121 } /* Literal.String.Affix */\\n.codehilite .sb { color: #BA2121 } /* Literal.String.Backtick */\\n.codehilite .sc { color: #BA2121 } /* Literal.String.Char */\\n.codehilite .dl { color: #BA2121 } /* Literal.String.Delimiter */\\n.codehilite .sd { color: #BA2121; font-style: italic } /* Literal.String.Doc */\\n.codehilite .s2 { color: #BA2121 } /* Literal.String.Double */\\n.codehilite .se { color: #BB6622; font-weight: bold } /* Literal.String.Escape */\\n.codehilite .sh { color: #BA2121 } /* Literal.String.Heredoc */\\n.codehilite .si { color: #BB6688; font-weight: bold } /* Literal.String.Interpol */\\n.codehilite .sx { color: #008000 } /* Literal.String.Other */\\n.codehilite .sr { color: #BB6688 } /* Literal.String.Regex */\\n.codehilite .s1 { color: #BA2121 } /* Literal.String.Single */\\n.codehilite .ss { color: #19177C } /* Literal.String.Symbol */\\n.codehilite .bp { color: #008000 } /* Name.Builtin.Pseudo */\\n.codehilite .fm { color: #0000FF } /* Name.Function.Magic */\\n.codehilite .vc { color: #19177C } /* Name.Variable.Class */\\n.codehilite .vg { color: #19177C } /* Name.Variable.Global */\\n.codehilite .vi { color: #19177C } /* Name.Variable.Instance */\\n.codehilite .vm { color: #19177C } /* Name.Variable.Magic */\\n.codehilite .il { color: #666666 } /* Literal.Number.Integer.Long */\\n\\n.markdown h1 { margin-block-start: 0.34em }\\n.markdown h2 { margin-block-start: 0.42em }\\n.markdown h3 { margin-block-start: 0.5em }\\n.markdown h4 { margin-block-start: 0.67em }\\n.markdown h5 { margin-block-start: 0.84em }\\n.markdown h6 { margin-block-start: 1.17em }\\n.markdown ul { padding-inline-start: 2em }\\n.markdown ol { padding-inline-start: 2em }\\n.markdown strong { font-weight: 600 }\\n.markdown a { color: -webkit-link }\\n.markdown a { color: -moz-hyperlinkText }\\n\");\n    },\n    function(Bokeh) {\n      inject_raw_css(\".widget-box {\\n\\tmin-height: 20px;\\n\\tbackground-color: #f5f5f5;\\n\\tborder: 1px solid #e3e3e3 !important;\\n\\tborder-radius: 4px;\\n\\t-webkit-box-shadow: inset 0 1px 1px rgba(0,0,0,.05);\\n\\tbox-shadow: inset 0 1px 1px rgba(0,0,0,.05);\\n\\toverflow-x: hidden;\\n\\toverflow-y: hidden;\\n}\\n\\n.scrollable {\\n  overflow: scroll;\\n}\\n\\nprogress {\\n\\tappearance: none;\\n\\t-moz-appearance: none;\\n\\t-webkit-appearance: none;\\n\\n\\tborder: none;\\n\\theight: 20px;\\n\\tbackground-color: whiteSmoke;\\n\\tborder-radius: 3px;\\n\\tbox-shadow: 0 2px 3px rgba(0,0,0,.5) inset;\\n\\tcolor: royalblue;\\n\\tposition: relative;\\n\\tmargin: 0 0 1.5em;\\n}\\n\\nprogress[value]::-webkit-progress-bar {\\n\\tbackground-color: whiteSmoke;\\n\\tborder-radius: 3px;\\n\\tbox-shadow: 0 2px 3px rgba(0,0,0,.5) inset;\\n}\\n\\nprogress[value]::-webkit-progress-value {\\n\\tposition: relative;\\n\\n\\tbackground-size: 35px 20px, 100% 100%, 100% 100%;\\n\\tborder-radius:3px;\\n}\\n\\nprogress.active:not([value])::before {\\n\\tbackground-position: 10%;\\n\\tanimation-name: stripes;\\n\\tanimation-duration: 3s;\\n\\tanimation-timing-function: linear;\\n\\tanimation-iteration-count: infinite;\\n}\\n\\nprogress[value]::-moz-progress-bar {\\n\\tbackground-size: 35px 20px, 100% 100%, 100% 100%;\\n\\tborder-radius:3px;\\n}\\n\\nprogress:not([value])::-moz-progress-bar {\\n\\tborder-radius:3px;\\n\\tbackground:\\n\\tlinear-gradient(-45deg, transparent 33%, rgba(0, 0, 0, 0.2) 33%, rgba(0, 0, 0, 0.2) 66%, transparent 66%) left/2.5em 1.5em;\\n\\n}\\n\\nprogress.active:not([value])::-moz-progress-bar {\\n\\tbackground-position: 10%;\\n\\tanimation-name: stripes;\\n\\tanimation-duration: 3s;\\n\\tanimation-timing-function: linear;\\n\\tanimation-iteration-count: infinite;\\n}\\n\\nprogress.active:not([value])::-webkit-progress-bar {\\n\\tbackground-position: 10%;\\n\\tanimation-name: stripes;\\n\\tanimation-duration: 3s;\\n\\tanimation-timing-function: linear;\\n\\tanimation-iteration-count: infinite;\\n}\\n\\nprogress.primary[value]::-webkit-progress-value { background-color: #007bff; }\\nprogress.primary:not([value])::before { background-color: #007bff; }\\nprogress.primary:not([value])::-webkit-progress-bar { background-color: #007bff; }\\nprogress.primary::-moz-progress-bar { background-color: #007bff; }\\n\\nprogress.secondary[value]::-webkit-progress-value { background-color: #6c757d; }\\nprogress.secondary:not([value])::before { background-color: #6c757d; }\\nprogress.secondary:not([value])::-webkit-progress-bar { background-color: #6c757d; }\\nprogress.secondary::-moz-progress-bar { background-color: #6c757d; }\\n\\nprogress.success[value]::-webkit-progress-value { background-color: #28a745; }\\nprogress.success:not([value])::before { background-color: #28a745; }\\nprogress.success:not([value])::-webkit-progress-bar { background-color: #28a745; }\\nprogress.success::-moz-progress-bar { background-color: #28a745; }\\n\\nprogress.danger[value]::-webkit-progress-value { background-color: #dc3545; }\\nprogress.danger:not([value])::before { background-color: #dc3545; }\\nprogress.danger:not([value])::-webkit-progress-bar { background-color: #dc3545; }\\nprogress.danger::-moz-progress-bar { background-color: #dc3545; }\\n\\nprogress.warning[value]::-webkit-progress-value { background-color: #ffc107; }\\nprogress.warning:not([value])::before { background-color: #ffc107; }\\nprogress.warning:not([value])::-webkit-progress-bar { background-color: #ffc107; }\\nprogress.warning::-moz-progress-bar { background-color: #ffc107; }\\n\\nprogress.info[value]::-webkit-progress-value { background-color: #17a2b8; }\\nprogress.info:not([value])::before { background-color: #17a2b8; }\\nprogress.info:not([value])::-webkit-progress-bar { background-color: #17a2b8; }\\nprogress.info::-moz-progress-bar { background-color: #17a2b8; }\\n\\nprogress.light[value]::-webkit-progress-value { background-color: #f8f9fa; }\\nprogress.light:not([value])::before { background-color: #f8f9fa; }\\nprogress.light:not([value])::-webkit-progress-bar { background-color: #f8f9fa; }\\nprogress.light::-moz-progress-bar { background-color: #f8f9fa; }\\n\\nprogress.dark[value]::-webkit-progress-value { background-color: #343a40; }\\nprogress.dark:not([value])::-webkit-progress-bar { background-color: #343a40; }\\nprogress.dark:not([value])::before { background-color: #343a40; }\\nprogress.dark::-moz-progress-bar { background-color: #343a40; }\\n\\nprogress:not([value])::-webkit-progress-bar {\\n\\tborder-radius: 3px;\\n\\tbackground:\\n\\tlinear-gradient(-45deg, transparent 33%, rgba(0, 0, 0, 0.2) 33%, rgba(0, 0, 0, 0.2) 66%, transparent 66%) left/2.5em 1.5em;\\n}\\nprogress:not([value])::before {\\n\\tcontent:\\\" \\\";\\n\\tposition:absolute;\\n\\theight: 20px;\\n\\ttop:0;\\n\\tleft:0;\\n\\tright:0;\\n\\tbottom:0;\\n\\tborder-radius: 3px;\\n\\tbackground:\\n\\tlinear-gradient(-45deg, transparent 33%, rgba(0, 0, 0, 0.2) 33%, rgba(0, 0, 0, 0.2) 66%, transparent 66%) left/2.5em 1.5em;\\n}\\n\\n@keyframes stripes {\\n  from {background-position: 0%}\\n  to {background-position: 100%}\\n}\");\n    },\n    function(Bokeh) {\n      Bokeh.set_log_level(\"info\");\n    },\n    function(Bokeh) {\n    \n    \n    }\n  ];\n\n  function run_inline_js() {\n    \n    if (root.Bokeh !== undefined || force === true) {\n      \n    for (var i = 0; i < inline_js.length; i++) {\n      inline_js[i].call(root, root.Bokeh);\n    }\n    if (force === true) {\n        display_loaded();\n      }} else if (Date.now() < root._bokeh_timeout) {\n      setTimeout(run_inline_js, 100);\n    } else if (!root._bokeh_failed_load) {\n      console.log(\"Bokeh: BokehJS failed to load within specified timeout.\");\n      root._bokeh_failed_load = true;\n    } else if (force !== true) {\n      var cell = $(document.getElementById(\"1143\")).parents('.cell').data().cell;\n      cell.output_area.append_execute_result(NB_LOAD_WARNING)\n    }\n\n  }\n\n  if (root._bokeh_is_loading === 0) {\n    console.debug(\"Bokeh: BokehJS loaded, going straight to plotting\");\n    run_inline_js();\n  } else {\n    load_libs(css_urls, js_urls, function() {\n      console.debug(\"Bokeh: BokehJS plotting callback run at\", now());\n      run_inline_js();\n    });\n  }\n}(window));"
     },
     "metadata": {},
     "output_type": "display_data"
    },
    {
     "data": {
      "text/html": [
       "\n",
       "\n",
       "\n",
       "\n",
       "\n",
       "\n",
       "  <div class=\"bk-root\" id=\"f29b1ddf-3f6c-4bd0-9948-1e060c146823\" data-root-id=\"1105\"></div>\n"
      ]
     },
     "metadata": {},
     "output_type": "display_data"
    },
    {
     "data": {
      "application/javascript": [
       "(function(root) {\n",
       "  function embed_document(root) {\n",
       "    \n",
       "  var docs_json = {\"2dbe35c7-9abf-49f4-afd3-9a5b50ec4dff\":{\"roots\":{\"references\":[{\"attributes\":{\"background_fill_color\":\"white\",\"below\":[{\"id\":\"1114\"}],\"center\":[{\"id\":\"1117\"},{\"id\":\"1121\"}],\"left\":[{\"id\":\"1118\"}],\"plot_height\":800,\"plot_width\":800,\"renderers\":[{\"id\":\"1141\"}],\"title\":{\"id\":\"1153\"},\"toolbar\":{\"id\":\"1130\"},\"x_range\":{\"id\":\"1106\"},\"x_scale\":{\"id\":\"1110\"},\"y_range\":{\"id\":\"1108\"},\"y_scale\":{\"id\":\"1112\"}},\"id\":\"1105\",\"subtype\":\"Figure\",\"type\":\"Plot\"},{\"attributes\":{\"data_source\":{\"id\":\"1104\"},\"glyph\":{\"id\":\"1139\"},\"hover_glyph\":null,\"muted_glyph\":null,\"nonselection_glyph\":{\"id\":\"1140\"},\"selection_glyph\":null,\"view\":{\"id\":\"1142\"}},\"id\":\"1141\",\"type\":\"GlyphRenderer\"},{\"attributes\":{\"active_drag\":\"auto\",\"active_inspect\":\"auto\",\"active_multi\":null,\"active_scroll\":\"auto\",\"active_tap\":\"auto\",\"tools\":[{\"id\":\"1122\"},{\"id\":\"1123\"},{\"id\":\"1124\"},{\"id\":\"1125\"},{\"id\":\"1126\"},{\"id\":\"1127\"},{\"id\":\"1129\"}]},\"id\":\"1130\",\"type\":\"Toolbar\"},{\"attributes\":{},\"id\":\"1110\",\"type\":\"LinearScale\"},{\"attributes\":{},\"id\":\"1122\",\"type\":\"PanTool\"},{\"attributes\":{\"overlay\":{\"id\":\"1128\"}},\"id\":\"1124\",\"type\":\"BoxZoomTool\"},{\"attributes\":{},\"id\":\"1115\",\"type\":\"BasicTicker\"},{\"attributes\":{\"data\":{\"alpha\":[1,1,1,1,1,1,1,1,1,1,1,1,1,1,1,1,1,1,1,1,1,1,1,1,1,1,1,1,1,1,1,1,1,1,1,1,1,1,1,1,1,1,1,1,1,1,1,1,1,1,1,1,1,1,1,1,1,1,1,1,1,1,1,1,1,1,1,1,1,1,1,1,1,1,1,1,1,1,1,1,1,1,1,1,1,1,1,1,1,1,1,1,1,1,1,1,1,1,1,1,1,1,1,1,1,1,1,1,1,1,1,1,1,1,1,1,1,1,1,1,1,1,1,1,1,1,1,1,1,1,1,1,1,1,1,1,1,1,1,1,1,1,1,1,1,1,1,1,1,1,1,1,1,1,1,1,1,1,1,1,1,1,1,1,1,1,1,1,1,1,1,1,1,1,1,1,1,1,1,1,1,1,1,1,1,1,1,1,1,1,1,1,1,1,1,1,1,1,1,1,1,1,1,1,1,1,1,1,1,1,1,1,1,1,1,1,1,1,1,1,1,1,1,1,1,1,1,1,1,1,1,1,1,1,1,1,1,1,1,1,1,1,1,1,1,1,1,1,1,1,1,1,1,1,1,1,1,1,1,1,1,1,1,1,1,1,1,1,1,1,1,1,1,1,1,1,1,1,1,1,1,1,1,1,1,1,1,1,1,1,1,1,1,1,1,1,1,1,1,1,1,1,1,1,1,1,1,1,1,1,1,1,1,1,1,1,1,1,1,1,1,1,1,1,1,1,1,1,1,1,1,1,1,1,1,1,1,1,1,1,1,1,1,1,1,1,1,1,1,1,1,1,1,1,1,1,1,1,1,1,1,1,1,1,1,1,1,1,1,1,1,1],\"color\":[\"#9e0142\",\"#9e0142\",\"#9e0142\",\"#9e0142\",\"#9e0142\",\"#9e0142\",\"#b81e48\",\"#b81e48\",\"#b81e48\",\"#b81e48\",\"#b81e48\",\"#b81e48\",\"#b81e48\",\"#b81e48\",\"#b81e48\",\"#b81e48\",\"#d23a4e\",\"#d23a4e\",\"#d23a4e\",\"#d23a4e\",\"#d23a4e\",\"#d23a4e\",\"#d23a4e\",\"#d23a4e\",\"#d23a4e\",\"#d23a4e\",\"#d23a4e\",\"#d23a4e\",\"#d23a4e\",\"#d23a4e\",\"#d23a4e\",\"#d23a4e\",\"#d23a4e\",\"#d23a4e\",\"#d23a4e\",\"#d23a4e\",\"#d23a4e\",\"#d23a4e\",\"#d23a4e\",\"#d23a4e\",\"#f06744\",\"#f06744\",\"#f06744\",\"#f06744\",\"#f06744\",\"#f06744\",\"#f06744\",\"#f06744\",\"#f06744\",\"#e2514a\",\"#e2514a\",\"#e2514a\",\"#f7844e\",\"#f7844e\",\"#f7844e\",\"#f7844e\",\"#f7844e\",\"#f7844e\",\"#f7844e\",\"#f7844e\",\"#f7844e\",\"#f7844e\",\"#f7844e\",\"#f7844e\",\"#f7844e\",\"#f7844e\",\"#f7844e\",\"#f7844e\",\"#f7844e\",\"#f7844e\",\"#f7844e\",\"#f7844e\",\"#f7844e\",\"#f7844e\",\"#f7844e\",\"#f7844e\",\"#f7844e\",\"#f7844e\",\"#f7844e\",\"#f7844e\",\"#fca55d\",\"#fca55d\",\"#fca55d\",\"#fca55d\",\"#fca55d\",\"#fca55d\",\"#fca55d\",\"#fca55d\",\"#fca55d\",\"#fca55d\",\"#fca55d\",\"#fca55d\",\"#fca55d\",\"#fca55d\",\"#fca55d\",\"#fca55d\",\"#fca55d\",\"#fca55d\",\"#fca55d\",\"#fca55d\",\"#fca55d\",\"#fca55d\",\"#fca55d\",\"#fca55d\",\"#fca55d\",\"#fca55d\",\"#fca55d\",\"#fca55d\",\"#fca55d\",\"#fca55d\",\"#fca55d\",\"#fca55d\",\"#fca55d\",\"#fca55d\",\"#fca55d\",\"#fca55d\",\"#fca55d\",\"#fca55d\",\"#fca55d\",\"#fca55d\",\"#fca55d\",\"#fca55d\",\"#fca55d\",\"#fca55d\",\"#fca55d\",\"#fca55d\",\"#fdbf6f\",\"#fdbf6f\",\"#fdbf6f\",\"#fdbf6f\",\"#fdbf6f\",\"#fdbf6f\",\"#fee999\",\"#fee999\",\"#fee999\",\"#fee999\",\"#fee999\",\"#fee999\",\"#fee999\",\"#fee999\",\"#fee999\",\"#fee999\",\"#fee999\",\"#fee999\",\"#fee999\",\"#fee999\",\"#fee999\",\"#fee999\",\"#fee999\",\"#fee999\",\"#fee999\",\"#fee999\",\"#fee999\",\"#fee999\",\"#fed683\",\"#fed683\",\"#fed683\",\"#fed683\",\"#fed683\",\"#fed683\",\"#fed683\",\"#fed683\",\"#fed683\",\"#fed683\",\"#fed683\",\"#fed683\",\"#fed683\",\"#fed683\",\"#fed683\",\"#fed683\",\"#fed683\",\"#fed683\",\"#fff7b2\",\"#fff7b2\",\"#fff7b2\",\"#fff7b2\",\"#fff7b2\",\"#fff7b2\",\"#fff7b2\",\"#fff7b2\",\"#fff7b2\",\"#fff7b2\",\"#fff7b2\",\"#fff7b2\",\"#fff7b2\",\"#fff7b2\",\"#fff7b2\",\"#fff7b2\",\"#fff7b2\",\"#fff7b2\",\"#fff7b2\",\"#f9fcb5\",\"#f9fcb5\",\"#f9fcb5\",\"#f9fcb5\",\"#f9fcb5\",\"#f9fcb5\",\"#f9fcb5\",\"#f9fcb5\",\"#f9fcb5\",\"#f9fcb5\",\"#f9fcb5\",\"#f9fcb5\",\"#f9fcb5\",\"#f9fcb5\",\"#f9fcb5\",\"#edf8a3\",\"#edf8a3\",\"#daf09a\",\"#daf09a\",\"#daf09a\",\"#daf09a\",\"#daf09a\",\"#daf09a\",\"#daf09a\",\"#bfe5a0\",\"#bfe5a0\",\"#bfe5a0\",\"#bfe5a0\",\"#bfe5a0\",\"#bfe5a0\",\"#bfe5a0\",\"#bfe5a0\",\"#bfe5a0\",\"#bfe5a0\",\"#bfe5a0\",\"#bfe5a0\",\"#bfe5a0\",\"#bfe5a0\",\"#bfe5a0\",\"#bfe5a0\",\"#bfe5a0\",\"#bfe5a0\",\"#bfe5a0\",\"#bfe5a0\",\"#bfe5a0\",\"#bfe5a0\",\"#bfe5a0\",\"#bfe5a0\",\"#bfe5a0\",\"#bfe5a0\",\"#bfe5a0\",\"#bfe5a0\",\"#bfe5a0\",\"#bfe5a0\",\"#bfe5a0\",\"#bfe5a0\",\"#bfe5a0\",\"#bfe5a0\",\"#bfe5a0\",\"#bfe5a0\",\"#bfe5a0\",\"#a2d9a4\",\"#a2d9a4\",\"#a2d9a4\",\"#a2d9a4\",\"#a2d9a4\",\"#a2d9a4\",\"#a2d9a4\",\"#a2d9a4\",\"#a2d9a4\",\"#a2d9a4\",\"#a2d9a4\",\"#a2d9a4\",\"#a2d9a4\",\"#a2d9a4\",\"#a2d9a4\",\"#a2d9a4\",\"#a2d9a4\",\"#a2d9a4\",\"#a2d9a4\",\"#a2d9a4\",\"#a2d9a4\",\"#a2d9a4\",\"#a2d9a4\",\"#a2d9a4\",\"#a2d9a4\",\"#a2d9a4\",\"#a2d9a4\",\"#a2d9a4\",\"#a2d9a4\",\"#a2d9a4\",\"#a2d9a4\",\"#7ecca5\",\"#7ecca5\",\"#60bba8\",\"#60bba8\",\"#60bba8\",\"#60bba8\",\"#60bba8\",\"#60bba8\",\"#60bba8\",\"#60bba8\",\"#60bba8\",\"#60bba8\",\"#60bba8\",\"#60bba8\",\"#60bba8\",\"#47a0b3\",\"#47a0b3\",\"#47a0b3\",\"#47a0b3\",\"#3585bb\",\"#3585bb\",\"#3585bb\",\"#3585bb\",\"#496aaf\",\"#496aaf\",\"#496aaf\",\"#496aaf\",\"#496aaf\",\"#496aaf\",\"#496aaf\",\"#496aaf\",\"#496aaf\",\"#496aaf\",\"#496aaf\",\"#496aaf\",\"#496aaf\",\"#496aaf\",\"#496aaf\",\"#496aaf\",\"#496aaf\",\"#496aaf\",\"#496aaf\",\"#496aaf\",\"#496aaf\",\"#496aaf\",\"#5e4fa2\",\"#5e4fa2\",\"#5e4fa2\",\"#5e4fa2\",\"#5e4fa2\",\"#5e4fa2\",\"#5e4fa2\",\"#5e4fa2\",\"#5e4fa2\",\"#5e4fa2\",\"#5e4fa2\",\"#5e4fa2\",\"#5e4fa2\",\"#5e4fa2\",\"#5e4fa2\",\"#5e4fa2\",\"#5e4fa2\",\"#5e4fa2\",\"#5e4fa2\",\"#5e4fa2\",\"#5e4fa2\",\"#5e4fa2\",\"#5e4fa2\",\"#5e4fa2\",\"#5e4fa2\",\"#5e4fa2\",\"#5e4fa2\",\"#5e4fa2\",\"#5e4fa2\",\"#5e4fa2\",\"#5e4fa2\",\"#5e4fa2\",\"#5e4fa2\",\"#5e4fa2\",\"#5e4fa2\",\"#5e4fa2\",\"#5e4fa2\",\"#5e4fa2\",\"#5e4fa2\",\"#5e4fa2\",\"#5e4fa2\",\"#5e4fa2\",\"#5e4fa2\",\"#5e4fa2\"],\"index\":{\"__ndarray__\":\"AAAAAAEAAAACAAAAAwAAAAQAAAAFAAAABgAAAAcAAAAIAAAACQAAAAoAAAALAAAADAAAAA0AAAAOAAAADwAAABAAAAARAAAAEgAAABMAAAAUAAAAFQAAABYAAAAXAAAAGAAAABkAAAAaAAAAGwAAABwAAAAdAAAAHgAAAB8AAAAgAAAAIQAAACIAAAAjAAAAJAAAACUAAAAmAAAAJwAAACgAAAApAAAAKgAAACsAAAAsAAAALQAAAC4AAAAvAAAAMAAAADEAAAAyAAAAMwAAADQAAAA1AAAANgAAADcAAAA4AAAAOQAAADoAAAA7AAAAPAAAAD0AAAA+AAAAPwAAAEAAAABBAAAAQgAAAEMAAABEAAAARQAAAEYAAABHAAAASAAAAEkAAABKAAAASwAAAEwAAABNAAAATgAAAE8AAABQAAAAUQAAAFIAAABTAAAAVAAAAFUAAABWAAAAVwAAAFgAAABZAAAAWgAAAFsAAABcAAAAXQAAAF4AAABfAAAAYAAAAGEAAABiAAAAYwAAAGQAAABlAAAAZgAAAGcAAABoAAAAaQAAAGoAAABrAAAAbAAAAG0AAABuAAAAbwAAAHAAAABxAAAAcgAAAHMAAAB0AAAAdQAAAHYAAAB3AAAAeAAAAHkAAAB6AAAAewAAAHwAAAB9AAAAfgAAAH8AAACAAAAAgQAAAIIAAACDAAAAhAAAAIUAAACGAAAAhwAAAIgAAACJAAAAigAAAIsAAACMAAAAjQAAAI4AAACPAAAAkAAAAJEAAACSAAAAkwAAAJQAAACVAAAAlgAAAJcAAACYAAAAmQAAAJoAAACbAAAAnAAAAJ0AAACeAAAAnwAAAKAAAAChAAAAogAAAKMAAACkAAAApQAAAKYAAACnAAAAqAAAAKkAAACqAAAAqwAAAKwAAACtAAAArgAAAK8AAACwAAAAsQAAALIAAACzAAAAtAAAALUAAAC2AAAAtwAAALgAAAC5AAAAugAAALsAAAC8AAAAvQAAAL4AAAC/AAAAwAAAAMEAAADCAAAAwwAAAMQAAADFAAAAxgAAAMcAAADIAAAAyQAAAMoAAADLAAAAzAAAAM0AAADOAAAAzwAAANAAAADRAAAA0gAAANMAAADUAAAA1QAAANYAAADXAAAA2AAAANkAAADaAAAA2wAAANwAAADdAAAA3gAAAN8AAADgAAAA4QAAAOIAAADjAAAA5AAAAOUAAADmAAAA5wAAAOgAAADpAAAA6gAAAOsAAADsAAAA7QAAAO4AAADvAAAA8AAAAPEAAADyAAAA8wAAAPQAAAD1AAAA9gAAAPcAAAD4AAAA+QAAAPoAAAD7AAAA/AAAAP0AAAD+AAAA/wAAAAABAAABAQAAAgEAAAMBAAAEAQAABQEAAAYBAAAHAQAACAEAAAkBAAAKAQAACwEAAAwBAAANAQAADgEAAA8BAAAQAQAAEQEAABIBAAATAQAAFAEAABUBAAAWAQAAFwEAABgBAAAZAQAAGgEAABsBAAAcAQAAHQEAAB4BAAAfAQAAIAEAACEBAAAiAQAAIwEAACQBAAAlAQAAJgEAACcBAAAoAQAAKQEAACoBAAArAQAALAEAAC0BAAAuAQAALwEAADABAAAxAQAAMgEAADMBAAA0AQAANQEAADYBAAA3AQAAOAEAADkBAAA6AQAAOwEAADwBAAA9AQAAPgEAAD8BAABAAQAAQQEAAEIBAABDAQAARAEAAEUBAABGAQAARwEAAEgBAABJAQAASgEAAEsBAABMAQAATQEAAE4BAABPAQAAUAEAAFEBAABSAQAAUwEAAFQBAABVAQAAVgEAAFcBAABYAQAAWQEAAFoBAABbAQAAXAEAAF0BAABeAQAAXwEAAGABAABhAQAAYgEAAGMBAABkAQAAZQEAAGYBAABnAQAAaAEAAGkBAABqAQAAawEAAGwBAABtAQAAbgEAAG8BAABwAQAAcQEAAHIBAABzAQAA\",\"dtype\":\"int32\",\"order\":\"little\",\"shape\":[372]},\"item\":[\"pos_Aegerolysin.txt\",\"pos_Aegerolysin.txt\",\"pos_Aegerolysin.txt\",\"pos_Aegerolysin.txt\",\"pos_Aegerolysin.txt\",\"pos_Aegerolysin.txt\",\"pos_Aerolysin.txt\",\"pos_Aerolysin.txt\",\"pos_Aerolysin.txt\",\"pos_Aerolysin.txt\",\"pos_Aerolysin.txt\",\"pos_Aerolysin.txt\",\"pos_Aerolysin.txt\",\"pos_Aerolysin.txt\",\"pos_Aerolysin.txt\",\"pos_Aerolysin.txt\",\"pos_Anemone_cytotox.txt\",\"pos_Anemone_cytotox.txt\",\"pos_Anemone_cytotox.txt\",\"pos_Anemone_cytotox.txt\",\"pos_Anemone_cytotox.txt\",\"pos_Anemone_cytotox.txt\",\"pos_Anemone_cytotox.txt\",\"pos_Anemone_cytotox.txt\",\"pos_Anemone_cytotox.txt\",\"pos_Anemone_cytotox.txt\",\"pos_Anemone_cytotox.txt\",\"pos_Anemone_cytotox.txt\",\"pos_Anemone_cytotox.txt\",\"pos_Anemone_cytotox.txt\",\"pos_Anemone_cytotox.txt\",\"pos_Anemone_cytotox.txt\",\"pos_Anemone_cytotox.txt\",\"pos_Anemone_cytotox.txt\",\"pos_Anemone_cytotox.txt\",\"pos_Anemone_cytotox.txt\",\"pos_Anemone_cytotox.txt\",\"pos_Anemone_cytotox.txt\",\"pos_Anemone_cytotox.txt\",\"pos_Anemone_cytotox.txt\",\"pos_Bac_thur_toxin.txt\",\"pos_Bac_thur_toxin.txt\",\"pos_Bac_thur_toxin.txt\",\"pos_Bac_thur_toxin.txt\",\"pos_Bac_thur_toxin.txt\",\"pos_Bac_thur_toxin.txt\",\"pos_Bac_thur_toxin.txt\",\"pos_Bac_thur_toxin.txt\",\"pos_Bac_thur_toxin.txt\",\"pos_BB_PF.txt\",\"pos_BB_PF.txt\",\"pos_BB_PF.txt\",\"pos_Binary_toxB_2.txt\",\"pos_Binary_toxB_2.txt\",\"pos_Binary_toxB_2.txt\",\"pos_Binary_toxB_2.txt\",\"pos_Binary_toxB_2.txt\",\"pos_Binary_toxB_2.txt\",\"pos_Binary_toxB_2.txt\",\"pos_Binary_toxB_2.txt\",\"pos_Binary_toxB_2.txt\",\"pos_Binary_toxB_2.txt\",\"pos_Binary_toxB_2.txt\",\"pos_Binary_toxB_2.txt\",\"pos_Binary_toxB_2.txt\",\"pos_Binary_toxB_2.txt\",\"pos_Binary_toxB_2.txt\",\"pos_Binary_toxB_2.txt\",\"pos_Binary_toxB_2.txt\",\"pos_Binary_toxB_2.txt\",\"pos_Binary_toxB_2.txt\",\"pos_Binary_toxB_2.txt\",\"pos_Binary_toxB_2.txt\",\"pos_Binary_toxB_2.txt\",\"pos_Binary_toxB_2.txt\",\"pos_Binary_toxB_2.txt\",\"pos_Binary_toxB_2.txt\",\"pos_Binary_toxB_2.txt\",\"pos_Binary_toxB_2.txt\",\"pos_Binary_toxB_2.txt\",\"pos_Clenterotox.txt\",\"pos_Clenterotox.txt\",\"pos_Clenterotox.txt\",\"pos_Clenterotox.txt\",\"pos_Clenterotox.txt\",\"pos_Clenterotox.txt\",\"pos_Clenterotox.txt\",\"pos_Clenterotox.txt\",\"pos_Clenterotox.txt\",\"pos_Clenterotox.txt\",\"pos_Clenterotox.txt\",\"pos_Clenterotox.txt\",\"pos_Clenterotox.txt\",\"pos_Clenterotox.txt\",\"pos_Clenterotox.txt\",\"pos_Clenterotox.txt\",\"pos_Clenterotox.txt\",\"pos_Clenterotox.txt\",\"pos_Clenterotox.txt\",\"pos_Clenterotox.txt\",\"pos_Clenterotox.txt\",\"pos_Clenterotox.txt\",\"pos_Clenterotox.txt\",\"pos_Clenterotox.txt\",\"pos_Clenterotox.txt\",\"pos_Clenterotox.txt\",\"pos_Clenterotox.txt\",\"pos_Clenterotox.txt\",\"pos_Clenterotox.txt\",\"pos_Clenterotox.txt\",\"pos_Clenterotox.txt\",\"pos_Clenterotox.txt\",\"pos_Clenterotox.txt\",\"pos_Clenterotox.txt\",\"pos_Clenterotox.txt\",\"pos_Clenterotox.txt\",\"pos_Clenterotox.txt\",\"pos_Clenterotox.txt\",\"pos_Clenterotox.txt\",\"pos_Clenterotox.txt\",\"pos_Clenterotox.txt\",\"pos_Clenterotox.txt\",\"pos_Clenterotox.txt\",\"pos_Clenterotox.txt\",\"pos_Clenterotox.txt\",\"pos_Clenterotox.txt\",\"pos_Colicin.txt\",\"pos_Colicin.txt\",\"pos_Colicin.txt\",\"pos_Colicin.txt\",\"pos_Colicin.txt\",\"pos_Colicin.txt\",\"pos_Endotoxin_C.txt\",\"pos_Endotoxin_C.txt\",\"pos_Endotoxin_C.txt\",\"pos_Endotoxin_C.txt\",\"pos_Endotoxin_C.txt\",\"pos_Endotoxin_C.txt\",\"pos_Endotoxin_C.txt\",\"pos_Endotoxin_C.txt\",\"pos_Endotoxin_C.txt\",\"pos_Endotoxin_C.txt\",\"pos_Endotoxin_C.txt\",\"pos_Endotoxin_C.txt\",\"pos_Endotoxin_C.txt\",\"pos_Endotoxin_C.txt\",\"pos_Endotoxin_C.txt\",\"pos_Endotoxin_C.txt\",\"pos_Endotoxin_C.txt\",\"pos_Endotoxin_C.txt\",\"pos_Endotoxin_C.txt\",\"pos_Endotoxin_C.txt\",\"pos_Endotoxin_C.txt\",\"pos_Endotoxin_C.txt\",\"pos_ETX_MTX2.txt\",\"pos_ETX_MTX2.txt\",\"pos_ETX_MTX2.txt\",\"pos_ETX_MTX2.txt\",\"pos_ETX_MTX2.txt\",\"pos_ETX_MTX2.txt\",\"pos_ETX_MTX2.txt\",\"pos_ETX_MTX2.txt\",\"pos_ETX_MTX2.txt\",\"pos_ETX_MTX2.txt\",\"pos_ETX_MTX2.txt\",\"pos_ETX_MTX2.txt\",\"pos_ETX_MTX2.txt\",\"pos_ETX_MTX2.txt\",\"pos_ETX_MTX2.txt\",\"pos_ETX_MTX2.txt\",\"pos_ETX_MTX2.txt\",\"pos_ETX_MTX2.txt\",\"pos_FB_lectin.txt\",\"pos_FB_lectin.txt\",\"pos_FB_lectin.txt\",\"pos_FB_lectin.txt\",\"pos_FB_lectin.txt\",\"pos_FB_lectin.txt\",\"pos_FB_lectin.txt\",\"pos_FB_lectin.txt\",\"pos_FB_lectin.txt\",\"pos_FB_lectin.txt\",\"pos_FB_lectin.txt\",\"pos_FB_lectin.txt\",\"pos_FB_lectin.txt\",\"pos_FB_lectin.txt\",\"pos_FB_lectin.txt\",\"pos_FB_lectin.txt\",\"pos_FB_lectin.txt\",\"pos_FB_lectin.txt\",\"pos_FB_lectin.txt\",\"pos_Gasdermin.txt\",\"pos_Gasdermin.txt\",\"pos_Gasdermin.txt\",\"pos_Gasdermin.txt\",\"pos_Gasdermin.txt\",\"pos_Gasdermin.txt\",\"pos_Gasdermin.txt\",\"pos_Gasdermin.txt\",\"pos_Gasdermin.txt\",\"pos_Gasdermin.txt\",\"pos_Gasdermin.txt\",\"pos_Gasdermin.txt\",\"pos_Gasdermin.txt\",\"pos_Gasdermin.txt\",\"pos_Gasdermin.txt\",\"pos_Hemolysin_N.txt\",\"pos_Hemolysin_N.txt\",\"pos_HlyE.txt\",\"pos_HlyE.txt\",\"pos_HlyE.txt\",\"pos_HlyE.txt\",\"pos_HlyE.txt\",\"pos_HlyE.txt\",\"pos_HlyE.txt\",\"pos_Leukocidin.txt\",\"pos_Leukocidin.txt\",\"pos_Leukocidin.txt\",\"pos_Leukocidin.txt\",\"pos_Leukocidin.txt\",\"pos_Leukocidin.txt\",\"pos_Leukocidin.txt\",\"pos_Leukocidin.txt\",\"pos_Leukocidin.txt\",\"pos_Leukocidin.txt\",\"pos_Leukocidin.txt\",\"pos_Leukocidin.txt\",\"pos_Leukocidin.txt\",\"pos_Leukocidin.txt\",\"pos_Leukocidin.txt\",\"pos_Leukocidin.txt\",\"pos_Leukocidin.txt\",\"pos_Leukocidin.txt\",\"pos_Leukocidin.txt\",\"pos_Leukocidin.txt\",\"pos_Leukocidin.txt\",\"pos_Leukocidin.txt\",\"pos_Leukocidin.txt\",\"pos_Leukocidin.txt\",\"pos_Leukocidin.txt\",\"pos_Leukocidin.txt\",\"pos_Leukocidin.txt\",\"pos_Leukocidin.txt\",\"pos_Leukocidin.txt\",\"pos_Leukocidin.txt\",\"pos_Leukocidin.txt\",\"pos_Leukocidin.txt\",\"pos_Leukocidin.txt\",\"pos_Leukocidin.txt\",\"pos_Leukocidin.txt\",\"pos_Leukocidin.txt\",\"pos_Leukocidin.txt\",\"pos_MACPF.txt\",\"pos_MACPF.txt\",\"pos_MACPF.txt\",\"pos_MACPF.txt\",\"pos_MACPF.txt\",\"pos_MACPF.txt\",\"pos_MACPF.txt\",\"pos_MACPF.txt\",\"pos_MACPF.txt\",\"pos_MACPF.txt\",\"pos_MACPF.txt\",\"pos_MACPF.txt\",\"pos_MACPF.txt\",\"pos_MACPF.txt\",\"pos_MACPF.txt\",\"pos_MACPF.txt\",\"pos_MACPF.txt\",\"pos_MACPF.txt\",\"pos_MACPF.txt\",\"pos_MACPF.txt\",\"pos_MACPF.txt\",\"pos_MACPF.txt\",\"pos_MACPF.txt\",\"pos_MACPF.txt\",\"pos_MACPF.txt\",\"pos_MACPF.txt\",\"pos_MACPF.txt\",\"pos_MACPF.txt\",\"pos_MACPF.txt\",\"pos_MACPF.txt\",\"pos_MACPF.txt\",\"pos_PlyB_C.txt\",\"pos_PlyB_C.txt\",\"pos_PorB.txt\",\"pos_PorB.txt\",\"pos_PorB.txt\",\"pos_PorB.txt\",\"pos_PorB.txt\",\"pos_PorB.txt\",\"pos_PorB.txt\",\"pos_PorB.txt\",\"pos_PorB.txt\",\"pos_PorB.txt\",\"pos_PorB.txt\",\"pos_PorB.txt\",\"pos_PorB.txt\",\"pos_T4BSS_DotI_IcmL.txt\",\"pos_T4BSS_DotI_IcmL.txt\",\"pos_T4BSS_DotI_IcmL.txt\",\"pos_T4BSS_DotI_IcmL.txt\",\"pos_Tcda_Tcdb_pore.txt\",\"pos_Tcda_Tcdb_pore.txt\",\"pos_Tcda_Tcdb_pore.txt\",\"pos_Tcda_Tcdb_pore.txt\",\"pos_Thiol_cytolysin.txt\",\"pos_Thiol_cytolysin.txt\",\"pos_Thiol_cytolysin.txt\",\"pos_Thiol_cytolysin.txt\",\"pos_Thiol_cytolysin.txt\",\"pos_Thiol_cytolysin.txt\",\"pos_Thiol_cytolysin.txt\",\"pos_Thiol_cytolysin.txt\",\"pos_Thiol_cytolysin.txt\",\"pos_Thiol_cytolysin.txt\",\"pos_Thiol_cytolysin.txt\",\"pos_Thiol_cytolysin.txt\",\"pos_Thiol_cytolysin.txt\",\"pos_Thiol_cytolysin.txt\",\"pos_Thiol_cytolysin.txt\",\"pos_Thiol_cytolysin.txt\",\"pos_Thiol_cytolysin.txt\",\"pos_Thiol_cytolysin.txt\",\"pos_Thiol_cytolysin.txt\",\"pos_Thiol_cytolysin.txt\",\"pos_Thiol_cytolysin.txt\",\"pos_Thiol_cytolysin.txt\",\"pos_Toxin_Tolip.txt\",\"pos_Toxin_Tolip.txt\",\"pos_Toxin_Tolip.txt\",\"pos_Toxin_Tolip.txt\",\"pos_Toxin_Tolip.txt\",\"pos_Toxin_Tolip.txt\",\"pos_Toxin_Tolip.txt\",\"pos_Toxin_Tolip.txt\",\"pos_Toxin_Tolip.txt\",\"pos_Toxin_Tolip.txt\",\"pos_Toxin_Tolip.txt\",\"pos_Toxin_Tolip.txt\",\"pos_Toxin_Tolip.txt\",\"pos_Toxin_Tolip.txt\",\"pos_Toxin_Tolip.txt\",\"pos_Toxin_Tolip.txt\",\"pos_Toxin_Tolip.txt\",\"pos_Toxin_Tolip.txt\",\"pos_Toxin_Tolip.txt\",\"pos_Toxin_Tolip.txt\",\"pos_Toxin_Tolip.txt\",\"pos_Toxin_Tolip.txt\",\"pos_Toxin_Tolip.txt\",\"pos_Toxin_Tolip.txt\",\"pos_Toxin_Tolip.txt\",\"pos_Toxin_Tolip.txt\",\"pos_Toxin_Tolip.txt\",\"pos_Toxin_Tolip.txt\",\"pos_Toxin_Tolip.txt\",\"pos_Toxin_Tolip.txt\",\"pos_Toxin_Tolip.txt\",\"pos_Toxin_Tolip.txt\",\"pos_Toxin_Tolip.txt\",\"pos_Toxin_Tolip.txt\",\"pos_Toxin_Tolip.txt\",\"pos_Toxin_Tolip.txt\",\"pos_Toxin_Tolip.txt\",\"pos_Toxin_Tolip.txt\",\"pos_Toxin_Tolip.txt\",\"pos_Toxin_Tolip.txt\",\"pos_Toxin_Tolip.txt\",\"pos_Toxin_Tolip.txt\",\"pos_Toxin_Tolip.txt\",\"pos_Toxin_Tolip.txt\"],\"label\":[\"pos_Aegerolysin.txt\",\"pos_Aegerolysin.txt\",\"pos_Aegerolysin.txt\",\"pos_Aegerolysin.txt\",\"pos_Aegerolysin.txt\",\"pos_Aegerolysin.txt\",\"pos_Aerolysin.txt\",\"pos_Aerolysin.txt\",\"pos_Aerolysin.txt\",\"pos_Aerolysin.txt\",\"pos_Aerolysin.txt\",\"pos_Aerolysin.txt\",\"pos_Aerolysin.txt\",\"pos_Aerolysin.txt\",\"pos_Aerolysin.txt\",\"pos_Aerolysin.txt\",\"pos_Anemone_cytotox.txt\",\"pos_Anemone_cytotox.txt\",\"pos_Anemone_cytotox.txt\",\"pos_Anemone_cytotox.txt\",\"pos_Anemone_cytotox.txt\",\"pos_Anemone_cytotox.txt\",\"pos_Anemone_cytotox.txt\",\"pos_Anemone_cytotox.txt\",\"pos_Anemone_cytotox.txt\",\"pos_Anemone_cytotox.txt\",\"pos_Anemone_cytotox.txt\",\"pos_Anemone_cytotox.txt\",\"pos_Anemone_cytotox.txt\",\"pos_Anemone_cytotox.txt\",\"pos_Anemone_cytotox.txt\",\"pos_Anemone_cytotox.txt\",\"pos_Anemone_cytotox.txt\",\"pos_Anemone_cytotox.txt\",\"pos_Anemone_cytotox.txt\",\"pos_Anemone_cytotox.txt\",\"pos_Anemone_cytotox.txt\",\"pos_Anemone_cytotox.txt\",\"pos_Anemone_cytotox.txt\",\"pos_Anemone_cytotox.txt\",\"pos_Bac_thur_toxin.txt\",\"pos_Bac_thur_toxin.txt\",\"pos_Bac_thur_toxin.txt\",\"pos_Bac_thur_toxin.txt\",\"pos_Bac_thur_toxin.txt\",\"pos_Bac_thur_toxin.txt\",\"pos_Bac_thur_toxin.txt\",\"pos_Bac_thur_toxin.txt\",\"pos_Bac_thur_toxin.txt\",\"pos_BB_PF.txt\",\"pos_BB_PF.txt\",\"pos_BB_PF.txt\",\"pos_Binary_toxB_2.txt\",\"pos_Binary_toxB_2.txt\",\"pos_Binary_toxB_2.txt\",\"pos_Binary_toxB_2.txt\",\"pos_Binary_toxB_2.txt\",\"pos_Binary_toxB_2.txt\",\"pos_Binary_toxB_2.txt\",\"pos_Binary_toxB_2.txt\",\"pos_Binary_toxB_2.txt\",\"pos_Binary_toxB_2.txt\",\"pos_Binary_toxB_2.txt\",\"pos_Binary_toxB_2.txt\",\"pos_Binary_toxB_2.txt\",\"pos_Binary_toxB_2.txt\",\"pos_Binary_toxB_2.txt\",\"pos_Binary_toxB_2.txt\",\"pos_Binary_toxB_2.txt\",\"pos_Binary_toxB_2.txt\",\"pos_Binary_toxB_2.txt\",\"pos_Binary_toxB_2.txt\",\"pos_Binary_toxB_2.txt\",\"pos_Binary_toxB_2.txt\",\"pos_Binary_toxB_2.txt\",\"pos_Binary_toxB_2.txt\",\"pos_Binary_toxB_2.txt\",\"pos_Binary_toxB_2.txt\",\"pos_Binary_toxB_2.txt\",\"pos_Binary_toxB_2.txt\",\"pos_Clenterotox.txt\",\"pos_Clenterotox.txt\",\"pos_Clenterotox.txt\",\"pos_Clenterotox.txt\",\"pos_Clenterotox.txt\",\"pos_Clenterotox.txt\",\"pos_Clenterotox.txt\",\"pos_Clenterotox.txt\",\"pos_Clenterotox.txt\",\"pos_Clenterotox.txt\",\"pos_Clenterotox.txt\",\"pos_Clenterotox.txt\",\"pos_Clenterotox.txt\",\"pos_Clenterotox.txt\",\"pos_Clenterotox.txt\",\"pos_Clenterotox.txt\",\"pos_Clenterotox.txt\",\"pos_Clenterotox.txt\",\"pos_Clenterotox.txt\",\"pos_Clenterotox.txt\",\"pos_Clenterotox.txt\",\"pos_Clenterotox.txt\",\"pos_Clenterotox.txt\",\"pos_Clenterotox.txt\",\"pos_Clenterotox.txt\",\"pos_Clenterotox.txt\",\"pos_Clenterotox.txt\",\"pos_Clenterotox.txt\",\"pos_Clenterotox.txt\",\"pos_Clenterotox.txt\",\"pos_Clenterotox.txt\",\"pos_Clenterotox.txt\",\"pos_Clenterotox.txt\",\"pos_Clenterotox.txt\",\"pos_Clenterotox.txt\",\"pos_Clenterotox.txt\",\"pos_Clenterotox.txt\",\"pos_Clenterotox.txt\",\"pos_Clenterotox.txt\",\"pos_Clenterotox.txt\",\"pos_Clenterotox.txt\",\"pos_Clenterotox.txt\",\"pos_Clenterotox.txt\",\"pos_Clenterotox.txt\",\"pos_Clenterotox.txt\",\"pos_Clenterotox.txt\",\"pos_Colicin.txt\",\"pos_Colicin.txt\",\"pos_Colicin.txt\",\"pos_Colicin.txt\",\"pos_Colicin.txt\",\"pos_Colicin.txt\",\"pos_Endotoxin_C.txt\",\"pos_Endotoxin_C.txt\",\"pos_Endotoxin_C.txt\",\"pos_Endotoxin_C.txt\",\"pos_Endotoxin_C.txt\",\"pos_Endotoxin_C.txt\",\"pos_Endotoxin_C.txt\",\"pos_Endotoxin_C.txt\",\"pos_Endotoxin_C.txt\",\"pos_Endotoxin_C.txt\",\"pos_Endotoxin_C.txt\",\"pos_Endotoxin_C.txt\",\"pos_Endotoxin_C.txt\",\"pos_Endotoxin_C.txt\",\"pos_Endotoxin_C.txt\",\"pos_Endotoxin_C.txt\",\"pos_Endotoxin_C.txt\",\"pos_Endotoxin_C.txt\",\"pos_Endotoxin_C.txt\",\"pos_Endotoxin_C.txt\",\"pos_Endotoxin_C.txt\",\"pos_Endotoxin_C.txt\",\"pos_ETX_MTX2.txt\",\"pos_ETX_MTX2.txt\",\"pos_ETX_MTX2.txt\",\"pos_ETX_MTX2.txt\",\"pos_ETX_MTX2.txt\",\"pos_ETX_MTX2.txt\",\"pos_ETX_MTX2.txt\",\"pos_ETX_MTX2.txt\",\"pos_ETX_MTX2.txt\",\"pos_ETX_MTX2.txt\",\"pos_ETX_MTX2.txt\",\"pos_ETX_MTX2.txt\",\"pos_ETX_MTX2.txt\",\"pos_ETX_MTX2.txt\",\"pos_ETX_MTX2.txt\",\"pos_ETX_MTX2.txt\",\"pos_ETX_MTX2.txt\",\"pos_ETX_MTX2.txt\",\"pos_FB_lectin.txt\",\"pos_FB_lectin.txt\",\"pos_FB_lectin.txt\",\"pos_FB_lectin.txt\",\"pos_FB_lectin.txt\",\"pos_FB_lectin.txt\",\"pos_FB_lectin.txt\",\"pos_FB_lectin.txt\",\"pos_FB_lectin.txt\",\"pos_FB_lectin.txt\",\"pos_FB_lectin.txt\",\"pos_FB_lectin.txt\",\"pos_FB_lectin.txt\",\"pos_FB_lectin.txt\",\"pos_FB_lectin.txt\",\"pos_FB_lectin.txt\",\"pos_FB_lectin.txt\",\"pos_FB_lectin.txt\",\"pos_FB_lectin.txt\",\"pos_Gasdermin.txt\",\"pos_Gasdermin.txt\",\"pos_Gasdermin.txt\",\"pos_Gasdermin.txt\",\"pos_Gasdermin.txt\",\"pos_Gasdermin.txt\",\"pos_Gasdermin.txt\",\"pos_Gasdermin.txt\",\"pos_Gasdermin.txt\",\"pos_Gasdermin.txt\",\"pos_Gasdermin.txt\",\"pos_Gasdermin.txt\",\"pos_Gasdermin.txt\",\"pos_Gasdermin.txt\",\"pos_Gasdermin.txt\",\"pos_Hemolysin_N.txt\",\"pos_Hemolysin_N.txt\",\"pos_HlyE.txt\",\"pos_HlyE.txt\",\"pos_HlyE.txt\",\"pos_HlyE.txt\",\"pos_HlyE.txt\",\"pos_HlyE.txt\",\"pos_HlyE.txt\",\"pos_Leukocidin.txt\",\"pos_Leukocidin.txt\",\"pos_Leukocidin.txt\",\"pos_Leukocidin.txt\",\"pos_Leukocidin.txt\",\"pos_Leukocidin.txt\",\"pos_Leukocidin.txt\",\"pos_Leukocidin.txt\",\"pos_Leukocidin.txt\",\"pos_Leukocidin.txt\",\"pos_Leukocidin.txt\",\"pos_Leukocidin.txt\",\"pos_Leukocidin.txt\",\"pos_Leukocidin.txt\",\"pos_Leukocidin.txt\",\"pos_Leukocidin.txt\",\"pos_Leukocidin.txt\",\"pos_Leukocidin.txt\",\"pos_Leukocidin.txt\",\"pos_Leukocidin.txt\",\"pos_Leukocidin.txt\",\"pos_Leukocidin.txt\",\"pos_Leukocidin.txt\",\"pos_Leukocidin.txt\",\"pos_Leukocidin.txt\",\"pos_Leukocidin.txt\",\"pos_Leukocidin.txt\",\"pos_Leukocidin.txt\",\"pos_Leukocidin.txt\",\"pos_Leukocidin.txt\",\"pos_Leukocidin.txt\",\"pos_Leukocidin.txt\",\"pos_Leukocidin.txt\",\"pos_Leukocidin.txt\",\"pos_Leukocidin.txt\",\"pos_Leukocidin.txt\",\"pos_Leukocidin.txt\",\"pos_MACPF.txt\",\"pos_MACPF.txt\",\"pos_MACPF.txt\",\"pos_MACPF.txt\",\"pos_MACPF.txt\",\"pos_MACPF.txt\",\"pos_MACPF.txt\",\"pos_MACPF.txt\",\"pos_MACPF.txt\",\"pos_MACPF.txt\",\"pos_MACPF.txt\",\"pos_MACPF.txt\",\"pos_MACPF.txt\",\"pos_MACPF.txt\",\"pos_MACPF.txt\",\"pos_MACPF.txt\",\"pos_MACPF.txt\",\"pos_MACPF.txt\",\"pos_MACPF.txt\",\"pos_MACPF.txt\",\"pos_MACPF.txt\",\"pos_MACPF.txt\",\"pos_MACPF.txt\",\"pos_MACPF.txt\",\"pos_MACPF.txt\",\"pos_MACPF.txt\",\"pos_MACPF.txt\",\"pos_MACPF.txt\",\"pos_MACPF.txt\",\"pos_MACPF.txt\",\"pos_MACPF.txt\",\"pos_PlyB_C.txt\",\"pos_PlyB_C.txt\",\"pos_PorB.txt\",\"pos_PorB.txt\",\"pos_PorB.txt\",\"pos_PorB.txt\",\"pos_PorB.txt\",\"pos_PorB.txt\",\"pos_PorB.txt\",\"pos_PorB.txt\",\"pos_PorB.txt\",\"pos_PorB.txt\",\"pos_PorB.txt\",\"pos_PorB.txt\",\"pos_PorB.txt\",\"pos_T4BSS_DotI_IcmL.txt\",\"pos_T4BSS_DotI_IcmL.txt\",\"pos_T4BSS_DotI_IcmL.txt\",\"pos_T4BSS_DotI_IcmL.txt\",\"pos_Tcda_Tcdb_pore.txt\",\"pos_Tcda_Tcdb_pore.txt\",\"pos_Tcda_Tcdb_pore.txt\",\"pos_Tcda_Tcdb_pore.txt\",\"pos_Thiol_cytolysin.txt\",\"pos_Thiol_cytolysin.txt\",\"pos_Thiol_cytolysin.txt\",\"pos_Thiol_cytolysin.txt\",\"pos_Thiol_cytolysin.txt\",\"pos_Thiol_cytolysin.txt\",\"pos_Thiol_cytolysin.txt\",\"pos_Thiol_cytolysin.txt\",\"pos_Thiol_cytolysin.txt\",\"pos_Thiol_cytolysin.txt\",\"pos_Thiol_cytolysin.txt\",\"pos_Thiol_cytolysin.txt\",\"pos_Thiol_cytolysin.txt\",\"pos_Thiol_cytolysin.txt\",\"pos_Thiol_cytolysin.txt\",\"pos_Thiol_cytolysin.txt\",\"pos_Thiol_cytolysin.txt\",\"pos_Thiol_cytolysin.txt\",\"pos_Thiol_cytolysin.txt\",\"pos_Thiol_cytolysin.txt\",\"pos_Thiol_cytolysin.txt\",\"pos_Thiol_cytolysin.txt\",\"pos_Toxin_Tolip.txt\",\"pos_Toxin_Tolip.txt\",\"pos_Toxin_Tolip.txt\",\"pos_Toxin_Tolip.txt\",\"pos_Toxin_Tolip.txt\",\"pos_Toxin_Tolip.txt\",\"pos_Toxin_Tolip.txt\",\"pos_Toxin_Tolip.txt\",\"pos_Toxin_Tolip.txt\",\"pos_Toxin_Tolip.txt\",\"pos_Toxin_Tolip.txt\",\"pos_Toxin_Tolip.txt\",\"pos_Toxin_Tolip.txt\",\"pos_Toxin_Tolip.txt\",\"pos_Toxin_Tolip.txt\",\"pos_Toxin_Tolip.txt\",\"pos_Toxin_Tolip.txt\",\"pos_Toxin_Tolip.txt\",\"pos_Toxin_Tolip.txt\",\"pos_Toxin_Tolip.txt\",\"pos_Toxin_Tolip.txt\",\"pos_Toxin_Tolip.txt\",\"pos_Toxin_Tolip.txt\",\"pos_Toxin_Tolip.txt\",\"pos_Toxin_Tolip.txt\",\"pos_Toxin_Tolip.txt\",\"pos_Toxin_Tolip.txt\",\"pos_Toxin_Tolip.txt\",\"pos_Toxin_Tolip.txt\",\"pos_Toxin_Tolip.txt\",\"pos_Toxin_Tolip.txt\",\"pos_Toxin_Tolip.txt\",\"pos_Toxin_Tolip.txt\",\"pos_Toxin_Tolip.txt\",\"pos_Toxin_Tolip.txt\",\"pos_Toxin_Tolip.txt\",\"pos_Toxin_Tolip.txt\",\"pos_Toxin_Tolip.txt\",\"pos_Toxin_Tolip.txt\",\"pos_Toxin_Tolip.txt\",\"pos_Toxin_Tolip.txt\",\"pos_Toxin_Tolip.txt\",\"pos_Toxin_Tolip.txt\",\"pos_Toxin_Tolip.txt\"],\"level_0\":[0,1,2,3,4,5,6,7,8,9,10,11,12,13,14,15,16,17,18,19,20,21,22,23,24,25,26,27,28,29,30,31,32,33,34,35,36,37,38,39,40,41,42,43,44,45,46,47,48,49,50,51,52,53,54,55,56,57,58,59,60,61,62,63,64,65,66,67,68,69,70,71,72,73,74,75,76,77,78,79,80,81,82,83,84,85,86,87,88,89,90,91,92,93,94,95,96,97,98,99,100,101,102,103,104,105,106,107,108,109,110,111,112,113,114,115,116,117,118,119,120,121,122,123,124,125,126,127,128,129,130,131,132,133,134,135,136,137,138,139,140,141,142,143,144,145,146,147,148,149,150,151,152,153,154,155,156,157,158,159,160,161,162,163,164,165,166,167,168,169,170,171,172,173,174,175,176,177,178,179,180,181,182,183,184,185,186,187,188,189,190,191,192,193,194,195,196,197,198,199,200,201,202,203,204,205,206,207,208,209,210,211,212,213,214,215,216,217,218,219,220,221,222,223,224,225,226,227,228,229,230,231,232,233,234,235,236,237,238,239,240,241,242,243,244,245,246,247,248,249,250,251,252,253,254,255,256,257,258,259,260,261,262,263,264,265,266,267,268,269,270,271,272,273,274,275,276,277,278,279,280,281,282,283,284,285,286,287,288,289,290,291,292,293,294,295,296,297,298,299,300,301,302,303,304,305,306,307,308,309,310,311,312,313,314,315,316,317,318,319,320,321,322,323,324,325,326,327,328,329,330,331,332,333,334,335,336,337,338,339,340,341,342,343,344,345,346,347,348,349,350,351,352,353,354,355,356,357,358,359,360,361,362,363,364,365,366,367,368,369,370,371],\"x\":{\"__ndarray__\":\"5w5IQZtqR0FIPkhB8cFIQc2oSUFuHC9BSmgPQIbKF0Dk9hZAHfJ6QGtreEDEMHlAo3B9QL2Re0DLIXlAsRd8QM7jp78au6m/ObGxv6FRuL+6WrK/97i4v7Blvb/qlLG/oa+kv8ck5r9jCOG/zCzdv7VA179k49e/txDhvy1x4L8tx9y/m0Dgv+jB9r+31+O/6jrkvyZ36r+bF8S/D+bCvyclwT8z3rM/s3euPwlisj9icbM/AQy/P35KrT9tuK8/m9+6P27/6MAnwurAl+A3P0ZCH0FRpB5B9FUeQVptE8FmAONAKHLkQBO25ECagIVBfTOFQfNv4UABl+FAh6wUQHvN5EAFcIdBbauGQRWbh0F/m4dB1W+HQYlVh0GS4oVB1kKGQWLKhUFAxYdB8VeHQainhEGNMohBjUSFQaOQ40Bt6ebAdmM0QSoGNUEsEC9BJwszQSlKMEFDTy5BfjEwQQWJMEF4pi9B+IAvQW63L0ENyA/BdOUQwfT2EcHxwxDBRNoQwSzaEMEbCMo/7ZXNP5/SoD9aCpY/GtusP+DmmD+3TcE/1dTJP0Qkmz+CnJ0/XsOeP4fcoz+/nzw/oapgPzhHQD/UKUg/+Bg/Pzb7Sj8Ixd8/QW89P20l2T/i6Nc/kUDlP55z58B/RufAuzlFP24vTj+ODlA/642ZP+wZoz+UId5AxdT2wHCLIEEDeF5AOoQhQe9TIUHGluhAzN7pQBtw50DipuZA2ZyCQUnQIEGeiORAWbjpQGccIUHO0x9BoMojQbFQJEGbTCVBKU4jQTKdIEEXgiJBqDQhQZ0v4kAbbSBBS3cfQYYRHsHegxfBI6kWwfUVGMFQtRXBe+EUwcOuHsHip+vAFA8XwVdhEcFzCvjAc4T1wDfsUUF8c0pBWxwcwWDLG8HPcxvBQJP+wPYNTUFsxkxB19VMQYvMTEHkYU9BG9NPQe4DT0ExtE5B0s5PQfg5VkEHKFdBSq1WQfqMWUGsaFlBxmxZQXRcWUHPNFhBqdRZQXRnVUGkYObAyx9YQEL83UDXKOBArO3eQAdU4UB34OFAkXPiQEIN40BwDd9Ab6DgQCdLdEAHFnJAQRp2QLfTc0DyCB5BcNuDQc6k+MCmRPnADvT4wFWX+sClQvbAv7j3wJsv98CNKCXBj1gnwU+lDcGZPgzBo+oNweUPKMHfjP/Aa18KwaWnC8HxwQrB9GcowffsJ8EYGCjBMfUnwQgDD8Hzig3Bv4QmwQHLBsHqwwXBs6UCwYPKI8FFwCLBaMwjwaDUCMGusoNBkwYeQSQADcEPdyXBw2EDwa5eDcERCg3B5lsMwf1wDMF+nwvBW1olwQnrIsH5gAvBfIzlQCPC8MDSieJA7MTgQD7J9cCDkIJBnMSCQWPtgkGJ34RBNACIQXNzE8EhQRTBzMjSQD1V30Dce+FAidvbQKuiRkD5mX1AGb5pQCeCHkHcUh5B3b0fQdiB4EDBVOZA8WR5QCJ6ekAZOtdA+HXhQBd+DsGf6w7B5BoTwYP3dUBzAoBAnDynQbbfp0FerqdB1NKnQcORp0HrmKhB9vanQYBfqEHEeqdB7++pQceNqUFus6lBjm2pQT6/RUGijURB4jtFQVkKRkHkwINBEHeDQcFmFcHnQ+VA+sWWQDlQqkBPfaJAbvyjQBYXsEBQn69Ak16jQPeKmUDC3KVAWb6kQE+RmkASQ5pANOObQOOtkkBr65lAxfKeQOLXnkBMSJdA6RemQCbupUDPobJAvLqyQKnNKUGEkiRBkB00QTYTI0GZwyhBfIUoQYEiIkEO5x5Bz3xCQVBDNEFd4TxBh7okQe4iPEEnmD1BEEMxQaPBSUEwVSBByb81QScoIEHh1DBBkYwqQcPNPEFtSSBBUe8jQVTuI0FFoiVBG7YlQX/CJEEdfCJBpoA/QfryN0HtDCBBCw5GQW7pQ0HNWUNBBCdEQWtQRUGBrEVBUkpJQXIlSUH0RUhBRutHQSMzSEHRzx5B\",\"dtype\":\"float32\",\"order\":\"little\",\"shape\":[372]},\"y\":{\"__ndarray__\":\"Sq1bQLkNW0CZhllAFUBZQOrZVEBVf45AlFKQQf7/j0FNEpBBJjCCQQ/IgkEeuoJBsjqCQftugkFr9IFBOvmBQWT8xD6Joq0+dKQOPsQNsjx2110+qIskPubYyT1VUp4+Y1fDPkJcx77XBNe+RAI+v0BIGb9DkAa/QaoRv+E+6r5uMhi/VfgHv8mR2b4NvwK/A72wvjwMEL+TcDK9XvMSvdv3X0BhzmNAe2FiQGXjXkD+MGNAB21dQK6CXUACnl1AzYxhQCyIN0HEBzdBm0QTQFESFkHzWhdB4dMWQRYl7kBgGX5BEop9QfovfEGgMSJBSCwiQZcOYUFpU2FBQi+QQRxlfUEomRxBfEMeQUpcHEFxXBxBUa0cQajOHEGcWSBBwDsgQVluH0ELuBtBCMscQejeIkH3jRtBDmsgQcSofUEyqTdBEx6FQFshhEA/lo5AZhqHQANLjEDKKJBAiHSMQArPi0ApeY1AacyNQNlHjUByKyZBUlslQe27JEG/cSVBgfImQSnDJUHrS5BBJI6QQeenkkGbQZNBRhKSQcApkkFaE5BB3W6QQZzxkkHd2pJBucSSQUhjkkGRWB1AGKQYQPEQHUAnox5AA3khQHbOGECQT5JBhbgXQN4SkkFfXZJBS3qSQVsDN0Hg2TdBN4sUQAbzGkADwhhAFw5JQOI+VED5l4BBeYCFQOglGUHdK4xBLM4eQQkTH0G0tmNB1KliQZopY0HWImJBDCYnQdj1I0HmvWFBI9JiQfCmJEFHfxhBgBciQStNIkFqpCJBNzUjQb5AIkGrBSNB9nwaQRirX0HVNRtBj20kQULbBEHZxvNA2AT0QOib80Bnj/BAa4wfQQKdA0HDbjdBoUnzQLBvJ0GX9DZBRyE3QcZ7UUDxe1dAmW0AQcIZAEE88f5AaVo2QTTCMUDccDRAxbMzQIQmM0Dk/xxAJzcZQMLxH0ANdRpAjQQeQHI7W0D/sVpAkF9YQLjJU0BSbFRAsVJTQP1QVkClelhA5XdSQAhrVUChuTdBDiONQbGPUUGgT05BMGRQQfLPTkHp+U5BObNOQULbTUGwMlFBqDxPQcnEh0ErF4hBaHWHQQaph0FV3yFBp2slQfe4gkCOMoJAFI2CQA3DgEDhJoVAF+WDQJhahEDF+wRB8KQIQZBKPUFPyTlBOrw7Qa1mCUEFnjZBoWw6QdtlO0EVTDtBwLoJQQo7CUGUhglBQ5IJQdWtO0HaOz1BHmQJQWVMOkFYpTlBo3Q4QYsfA0HaNgJBoycDQYN8O0E+0yVBYU0hQUgeQUHsXAVBfU44QSTRQkGII0NBtulBQaDbQUHma0NB7R4EQUzIAkG2GUJByCR9QXsVN0FfHmFBYHJgQddsNkFjZSdBa4QmQfNTJkHJVSNBH4AbQZGW7kA13fFAPHeDQQNCgEHBRH9BHjqBQRwkjkEaJYZBRgKNQS/8IEHUpSBBFoUeQWGMYEEyiXxB6fyMQWiMjEEEmIJBV3B/QYlZKkGYgilBZ6btQNc1jUE47YxBq5G3wFLstMC/v7XAxyO1wCEytsA/7LHA2oi0wGXkssBLi7bAfNerwAF6rcDO0KzAe/mtwIPdYECL+GRAKrBjQLRVX0BMJSZB1LsmQVLU8UAgPH1B57OPQXivj0Fh1o9Bt3uPQV0qkEFcg49B3TWQQc9QkEH7SJBB3j2PQU3sj0FCjo5BQQCQQaRKkEGiGpBBjjOOQfqAkEE5co1BTOePQTZbj0FCAJBBw2OPQe7JBMGx4gDBEREKwdjXAMGVvAPBKrYDwZdA/MCws/jAkmkSweZTCsFrOQ/Ba/ECwVOYDsGJkw/BXrEIwQqlGMEwqfrAHV0LwQvp+sBEcQjBSoUFwbUwD8GDKv3AqRUAwY37/8AmSgLB/JgBwUt4AcHgLv7AMBYRwRThDMH77frAQTMUwYf+E8GW5RPBMAsUwUrDFMGz7RTBuSIYwd4cGMEfMBfBs94WwV8gF8GaivjA\",\"dtype\":\"float32\",\"order\":\"little\",\"shape\":[372]}},\"selected\":{\"id\":\"1160\"},\"selection_policy\":{\"id\":\"1159\"}},\"id\":\"1104\",\"type\":\"ColumnDataSource\"},{\"attributes\":{},\"id\":\"1127\",\"type\":\"HelpTool\"},{\"attributes\":{},\"id\":\"1112\",\"type\":\"LinearScale\"},{\"attributes\":{},\"id\":\"1123\",\"type\":\"WheelZoomTool\"},{\"attributes\":{},\"id\":\"1157\",\"type\":\"BasicTickFormatter\"},{\"attributes\":{\"formatter\":{\"id\":\"1155\"},\"ticker\":{\"id\":\"1115\"},\"visible\":false},\"id\":\"1114\",\"type\":\"LinearAxis\"},{\"attributes\":{},\"id\":\"1126\",\"type\":\"ResetTool\"},{\"attributes\":{\"source\":{\"id\":\"1104\"}},\"id\":\"1142\",\"type\":\"CDSView\"},{\"attributes\":{\"axis\":{\"id\":\"1114\"},\"ticker\":null,\"visible\":false},\"id\":\"1117\",\"type\":\"Grid\"},{\"attributes\":{\"text\":\"\"},\"id\":\"1153\",\"type\":\"Title\"},{\"attributes\":{\"callback\":null,\"tooltips\":[[\"index\",\"@index\"],[\"label\",\"@label\"],[\"item\",\"@item\"]]},\"id\":\"1129\",\"type\":\"HoverTool\"},{\"attributes\":{\"fill_alpha\":{\"field\":\"alpha\"},\"fill_color\":{\"field\":\"color\"},\"line_alpha\":{\"field\":\"alpha\"},\"line_color\":{\"field\":\"color\"},\"size\":{\"units\":\"screen\",\"value\":20},\"x\":{\"field\":\"x\"},\"y\":{\"field\":\"y\"}},\"id\":\"1139\",\"type\":\"Circle\"},{\"attributes\":{\"fill_alpha\":{\"value\":0.1},\"fill_color\":{\"field\":\"color\"},\"line_alpha\":{\"value\":0.1},\"line_color\":{\"field\":\"color\"},\"size\":{\"units\":\"screen\",\"value\":20},\"x\":{\"field\":\"x\"},\"y\":{\"field\":\"y\"}},\"id\":\"1140\",\"type\":\"Circle\"},{\"attributes\":{},\"id\":\"1125\",\"type\":\"SaveTool\"},{\"attributes\":{},\"id\":\"1160\",\"type\":\"Selection\"},{\"attributes\":{\"formatter\":{\"id\":\"1157\"},\"ticker\":{\"id\":\"1119\"},\"visible\":false},\"id\":\"1118\",\"type\":\"LinearAxis\"},{\"attributes\":{},\"id\":\"1106\",\"type\":\"DataRange1d\"},{\"attributes\":{\"axis\":{\"id\":\"1118\"},\"dimension\":1,\"ticker\":null,\"visible\":false},\"id\":\"1121\",\"type\":\"Grid\"},{\"attributes\":{},\"id\":\"1159\",\"type\":\"UnionRenderers\"},{\"attributes\":{},\"id\":\"1155\",\"type\":\"BasicTickFormatter\"},{\"attributes\":{},\"id\":\"1119\",\"type\":\"BasicTicker\"},{\"attributes\":{\"bottom_units\":\"screen\",\"fill_alpha\":0.5,\"fill_color\":\"lightgrey\",\"left_units\":\"screen\",\"level\":\"overlay\",\"line_alpha\":1.0,\"line_color\":\"black\",\"line_dash\":[4,4],\"line_width\":2,\"right_units\":\"screen\",\"top_units\":\"screen\"},\"id\":\"1128\",\"type\":\"BoxAnnotation\"},{\"attributes\":{},\"id\":\"1108\",\"type\":\"DataRange1d\"}],\"root_ids\":[\"1105\"]},\"title\":\"Bokeh Application\",\"version\":\"2.1.0\"}};\n",
       "  var render_items = [{\"docid\":\"2dbe35c7-9abf-49f4-afd3-9a5b50ec4dff\",\"root_ids\":[\"1105\"],\"roots\":{\"1105\":\"f29b1ddf-3f6c-4bd0-9948-1e060c146823\"}}];\n",
       "  root.Bokeh.embed.embed_items_notebook(docs_json, render_items);\n",
       "\n",
       "  }\n",
       "  if (root.Bokeh !== undefined) {\n",
       "    embed_document(root);\n",
       "  } else {\n",
       "    var attempts = 0;\n",
       "    var timer = setInterval(function(root) {\n",
       "      if (root.Bokeh !== undefined) {\n",
       "        clearInterval(timer);\n",
       "        embed_document(root);\n",
       "      } else {\n",
       "        attempts++;\n",
       "        if (attempts > 100) {\n",
       "          clearInterval(timer);\n",
       "          console.log(\"Bokeh: ERROR: Unable to run BokehJS code because BokehJS library is missing\");\n",
       "        }\n",
       "      }\n",
       "    }, 10, root)\n",
       "  }\n",
       "})(window);"
      ],
      "application/vnd.bokehjs_exec.v0+json": ""
     },
     "metadata": {
      "application/vnd.bokehjs_exec.v0+json": {
       "id": "1105"
      }
     },
     "output_type": "display_data"
    }
   ],
   "source": [
    "from bokeh.plotting import show, save, output_notebook, output_file\n",
    "\n",
    "p = umap.plot.interactive(mapper, labels=labels, hover_data=hover_data,point_size=20)\n",
    "output_notebook()\n",
    "show(p)"
   ]
  },
  {
   "cell_type": "code",
   "execution_count": 85,
   "metadata": {},
   "outputs": [],
   "source": [
    "#Number of islands problem - Leetcode 200 \n",
    "\n",
    "def numIslands(grid):        \n",
    "    count = 0\n",
    "    for i in range(grid.shape[0]):\n",
    "        for j in range(grid.shape[1]):\n",
    "            if grid[i,j] == 1:\n",
    "                dfs(grid, i, j)\n",
    "                count += 1\n",
    "    return count\n",
    "\n",
    "def dfs(grid, i, j):\n",
    "    if i<0 or j<0 or i>=len(grid) or j>=len(grid[0]) or grid[i,j] != 1:\n",
    "        return\n",
    "    grid[i][j] = -1\n",
    "    dfs(grid, i+1, j)\n",
    "    dfs(grid, i-1, j)\n",
    "    dfs(grid, i, j+1)\n",
    "    dfs(grid, i, j-1)"
   ]
  },
  {
   "cell_type": "code",
   "execution_count": 86,
   "metadata": {},
   "outputs": [],
   "source": [
    "grid = np.zeros((total, total), dtype='int')\n",
    "\n",
    "for i in used_idx:\n",
    "    grid[i[0],i[1]] = 1"
   ]
  },
  {
   "cell_type": "code",
   "execution_count": 87,
   "metadata": {},
   "outputs": [
    {
     "data": {
      "text/plain": [
       "40"
      ]
     },
     "execution_count": 87,
     "metadata": {},
     "output_type": "execute_result"
    }
   ],
   "source": [
    "numIslands(grid)"
   ]
  },
  {
   "cell_type": "code",
   "execution_count": 88,
   "metadata": {},
   "outputs": [],
   "source": [
    "grid2 = np.array([[1,1,0,0,0],[1,1,0,0,0],[0,0,1,0,0],[0,0,0,1,1]])"
   ]
  },
  {
   "cell_type": "code",
   "execution_count": 89,
   "metadata": {},
   "outputs": [
    {
     "data": {
      "text/plain": [
       "3"
      ]
     },
     "execution_count": 89,
     "metadata": {},
     "output_type": "execute_result"
    }
   ],
   "source": [
    "#Sanity check\n",
    "numIslands(grid2)"
   ]
  },
  {
   "cell_type": "code",
   "execution_count": null,
   "metadata": {},
   "outputs": [],
   "source": []
  }
 ],
 "metadata": {
  "kernelspec": {
   "display_name": "Python 3",
   "language": "python",
   "name": "python3"
  },
  "language_info": {
   "codemirror_mode": {
    "name": "ipython",
    "version": 3
   },
   "file_extension": ".py",
   "mimetype": "text/x-python",
   "name": "python",
   "nbconvert_exporter": "python",
   "pygments_lexer": "ipython3",
   "version": "3.7.6"
  }
 },
 "nbformat": 4,
 "nbformat_minor": 4
}
