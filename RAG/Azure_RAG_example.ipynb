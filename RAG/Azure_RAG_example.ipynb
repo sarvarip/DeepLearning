{
  "nbformat": 4,
  "nbformat_minor": 0,
  "metadata": {
    "colab": {
      "provenance": []
    },
    "kernelspec": {
      "name": "python3",
      "display_name": "Python 3"
    },
    "language_info": {
      "name": "python"
    }
  },
  "cells": [
    {
      "cell_type": "code",
      "source": [
        "!pip install openai"
      ],
      "metadata": {
        "colab": {
          "base_uri": "https://localhost:8080/"
        },
        "collapsed": true,
        "id": "dBLPdTxHWQOs",
        "outputId": "9018f0e3-15c9-4d7a-cf07-d75d9f6bc545"
      },
      "execution_count": 2,
      "outputs": [
        {
          "output_type": "stream",
          "name": "stdout",
          "text": [
            "Collecting openai\n",
            "  Downloading openai-1.46.0-py3-none-any.whl.metadata (24 kB)\n",
            "Requirement already satisfied: anyio<5,>=3.5.0 in /usr/local/lib/python3.10/dist-packages (from openai) (3.7.1)\n",
            "Requirement already satisfied: distro<2,>=1.7.0 in /usr/lib/python3/dist-packages (from openai) (1.7.0)\n",
            "Collecting httpx<1,>=0.23.0 (from openai)\n",
            "  Downloading httpx-0.27.2-py3-none-any.whl.metadata (7.1 kB)\n",
            "Collecting jiter<1,>=0.4.0 (from openai)\n",
            "  Downloading jiter-0.5.0-cp310-cp310-manylinux_2_17_x86_64.manylinux2014_x86_64.whl.metadata (3.6 kB)\n",
            "Requirement already satisfied: pydantic<3,>=1.9.0 in /usr/local/lib/python3.10/dist-packages (from openai) (2.9.1)\n",
            "Requirement already satisfied: sniffio in /usr/local/lib/python3.10/dist-packages (from openai) (1.3.1)\n",
            "Requirement already satisfied: tqdm>4 in /usr/local/lib/python3.10/dist-packages (from openai) (4.66.5)\n",
            "Requirement already satisfied: typing-extensions<5,>=4.11 in /usr/local/lib/python3.10/dist-packages (from openai) (4.12.2)\n",
            "Requirement already satisfied: idna>=2.8 in /usr/local/lib/python3.10/dist-packages (from anyio<5,>=3.5.0->openai) (3.10)\n",
            "Requirement already satisfied: exceptiongroup in /usr/local/lib/python3.10/dist-packages (from anyio<5,>=3.5.0->openai) (1.2.2)\n",
            "Requirement already satisfied: certifi in /usr/local/lib/python3.10/dist-packages (from httpx<1,>=0.23.0->openai) (2024.8.30)\n",
            "Collecting httpcore==1.* (from httpx<1,>=0.23.0->openai)\n",
            "  Downloading httpcore-1.0.5-py3-none-any.whl.metadata (20 kB)\n",
            "Collecting h11<0.15,>=0.13 (from httpcore==1.*->httpx<1,>=0.23.0->openai)\n",
            "  Downloading h11-0.14.0-py3-none-any.whl.metadata (8.2 kB)\n",
            "Requirement already satisfied: annotated-types>=0.6.0 in /usr/local/lib/python3.10/dist-packages (from pydantic<3,>=1.9.0->openai) (0.7.0)\n",
            "Requirement already satisfied: pydantic-core==2.23.3 in /usr/local/lib/python3.10/dist-packages (from pydantic<3,>=1.9.0->openai) (2.23.3)\n",
            "Downloading openai-1.46.0-py3-none-any.whl (375 kB)\n",
            "\u001b[2K   \u001b[90m━━━━━━━━━━━━━━━━━━━━━━━━━━━━━━━━━━━━━━━━\u001b[0m \u001b[32m375.0/375.0 kB\u001b[0m \u001b[31m20.4 MB/s\u001b[0m eta \u001b[36m0:00:00\u001b[0m\n",
            "\u001b[?25hDownloading httpx-0.27.2-py3-none-any.whl (76 kB)\n",
            "\u001b[2K   \u001b[90m━━━━━━━━━━━━━━━━━━━━━━━━━━━━━━━━━━━━━━━━\u001b[0m \u001b[32m76.4/76.4 kB\u001b[0m \u001b[31m5.0 MB/s\u001b[0m eta \u001b[36m0:00:00\u001b[0m\n",
            "\u001b[?25hDownloading httpcore-1.0.5-py3-none-any.whl (77 kB)\n",
            "\u001b[2K   \u001b[90m━━━━━━━━━━━━━━━━━━━━━━━━━━━━━━━━━━━━━━━━\u001b[0m \u001b[32m77.9/77.9 kB\u001b[0m \u001b[31m5.3 MB/s\u001b[0m eta \u001b[36m0:00:00\u001b[0m\n",
            "\u001b[?25hDownloading jiter-0.5.0-cp310-cp310-manylinux_2_17_x86_64.manylinux2014_x86_64.whl (318 kB)\n",
            "\u001b[2K   \u001b[90m━━━━━━━━━━━━━━━━━━━━━━━━━━━━━━━━━━━━━━━━\u001b[0m \u001b[32m318.9/318.9 kB\u001b[0m \u001b[31m18.4 MB/s\u001b[0m eta \u001b[36m0:00:00\u001b[0m\n",
            "\u001b[?25hDownloading h11-0.14.0-py3-none-any.whl (58 kB)\n",
            "\u001b[2K   \u001b[90m━━━━━━━━━━━━━━━━━━━━━━━━━━━━━━━━━━━━━━━━\u001b[0m \u001b[32m58.3/58.3 kB\u001b[0m \u001b[31m3.7 MB/s\u001b[0m eta \u001b[36m0:00:00\u001b[0m\n",
            "\u001b[?25hInstalling collected packages: jiter, h11, httpcore, httpx, openai\n",
            "Successfully installed h11-0.14.0 httpcore-1.0.5 httpx-0.27.2 jiter-0.5.0 openai-1.46.0\n"
          ]
        }
      ]
    },
    {
      "cell_type": "code",
      "execution_count": 5,
      "metadata": {
        "id": "o1nPRJ7AVTf4"
      },
      "outputs": [],
      "source": [
        "import os\n",
        "import openai\n",
        "\n",
        "os.environ[\"AZURE_OPENAI_ENDPOINT\"] = \"https://openai-eastus-rhazes.openai.azure.com/\"\n",
        "os.environ[\"AZURE_OPENAI_API_KEY\"] = \"\"\n",
        "os.environ[\"SEARCH_ENDPOINT\"] = \"https://peter-search-sweden.search.windows.net\"\n",
        "os.environ[\"SEARCH_KEY\"] = \"\"\n",
        "os.environ[\"SEARCH_INDEX_NAME\"] = \"lab-sweden-new\"\n",
        "os.environ[\"EMBEDDING_ENDPOINT\"] = \"https://peter-sweden.openai.azure.com/openai/deployments/text-embedding-ada-002/embeddings?api-version=2023-09-01-preview\"\n",
        "os.environ[\"EMBEDDING_KEY\"] = \"\""
      ]
    },
    {
      "cell_type": "code",
      "source": [
        "endpoint = os.environ[\"AZURE_OPENAI_ENDPOINT\"]\n",
        "api_key = os.environ[\"AZURE_OPENAI_API_KEY\"]\n",
        "# set the deployment name for the model we want to use\n",
        "deployment = \"gpt-4\"\n",
        "\n",
        "client = openai.AzureOpenAI(\n",
        "    base_url=f\"{endpoint}/openai/deployments/{deployment}/extensions\",\n",
        "    api_key=api_key,\n",
        "    api_version=\"2023-09-01-preview\")"
      ],
      "metadata": {
        "id": "kVy-qdOpWS5c"
      },
      "execution_count": 7,
      "outputs": []
    },
    {
      "cell_type": "code",
      "source": [
        "completion = client.chat.completions.create(\n",
        "    messages=[{\"role\": \"user\", \"content\": \"What's the reference range for creatinine in blood?\"}],\n",
        "    model=deployment,\n",
        "    extra_body={\n",
        "        \"dataSources\": [\n",
        "            {\n",
        "                \"type\": \"AzureCognitiveSearch\",\n",
        "                \"parameters\": {\n",
        "                    \"endpoint\": os.environ[\"SEARCH_ENDPOINT\"],\n",
        "                    \"key\": os.environ[\"SEARCH_KEY\"],\n",
        "                    \"indexName\": os.environ[\"SEARCH_INDEX_NAME\"],\n",
        "                    \"embeddingEndpoint\": os.environ[\"EMBEDDING_ENDPOINT\"], #for adding vector search to keyword\n",
        "                    \"embeddingKey\": os.environ[\"EMBEDDING_KEY\"], #for adding vector search to keyword default\n",
        "                }\n",
        "            }\n",
        "        ]\n",
        "    }\n",
        ")\n",
        "print(f\"{completion.choices[0].message.role}: {completion.choices[0].message.content}\")"
      ],
      "metadata": {
        "colab": {
          "base_uri": "https://localhost:8080/"
        },
        "id": "doJn5_wCWnzv",
        "outputId": "282e7fab-be3c-49c1-a399-0e5d51537f59"
      },
      "execution_count": 9,
      "outputs": [
        {
          "output_type": "stream",
          "name": "stdout",
          "text": [
            "assistant: The reference range for creatinine in blood is as follows:\n",
            "\n",
            "- Female: 0.50 to 1.10 mg/dL; 44 to 97 micromol/L (SI)\n",
            "- Male: 0.70 to 1.30 mg/dL; 62 to 115 micromol/L (SI) [doc3].\n"
          ]
        }
      ]
    },
    {
      "cell_type": "code",
      "source": [],
      "metadata": {
        "id": "5_zocNN3YJ3s"
      },
      "execution_count": null,
      "outputs": []
    }
  ]
}